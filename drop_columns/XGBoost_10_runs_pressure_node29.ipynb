{
 "cells": [
  {
   "cell_type": "code",
   "execution_count": 1,
   "metadata": {},
   "outputs": [
    {
     "name": "stderr",
     "output_type": "stream",
     "text": [
      "/Users/alexellard/opt/anaconda3/lib/python3.7/site-packages/dask/dataframe/utils.py:14: FutureWarning: pandas.util.testing is deprecated. Use the functions in the public API at pandas.testing instead.\n",
      "  import pandas.util.testing as tm\n"
     ]
    }
   ],
   "source": [
    "import xgboost as xgb\n",
    "import pandas as pd\n",
    "import numpy as np\n",
    "from sklearn.preprocessing import LabelEncoder\n",
    "from sklearn.preprocessing import MinMaxScaler\n",
    "from sklearn.model_selection import train_test_split\n",
    "from sklearn.metrics import mean_squared_error, mean_absolute_error, r2_score\n",
    "from numpy import concatenate\n",
    "from math import sqrt\n",
    "from statistics import mean\n",
    "import random\n",
    "import matplotlib.pyplot as plt"
   ]
  },
  {
   "cell_type": "code",
   "execution_count": 2,
   "metadata": {},
   "outputs": [
    {
     "data": {
      "text/html": [
       "<div>\n",
       "<style scoped>\n",
       "    .dataframe tbody tr th:only-of-type {\n",
       "        vertical-align: middle;\n",
       "    }\n",
       "\n",
       "    .dataframe tbody tr th {\n",
       "        vertical-align: top;\n",
       "    }\n",
       "\n",
       "    .dataframe thead th {\n",
       "        text-align: right;\n",
       "    }\n",
       "</style>\n",
       "<table border=\"1\" class=\"dataframe\">\n",
       "  <thead>\n",
       "    <tr style=\"text-align: right;\">\n",
       "      <th></th>\n",
       "      <th>reservoir_demand</th>\n",
       "      <th>node_1_demand</th>\n",
       "      <th>node_2_demand</th>\n",
       "      <th>node_3_demand</th>\n",
       "      <th>node_4_demand</th>\n",
       "      <th>node_5_demand</th>\n",
       "      <th>node_6_demand</th>\n",
       "      <th>node_7_demand</th>\n",
       "      <th>node_8_demand</th>\n",
       "      <th>node_9_demand</th>\n",
       "      <th>...</th>\n",
       "      <th>link_23_flow</th>\n",
       "      <th>link_24_flow</th>\n",
       "      <th>link_25_flow</th>\n",
       "      <th>link_26_flow</th>\n",
       "      <th>link_27_flow</th>\n",
       "      <th>link_28_flow</th>\n",
       "      <th>link_29_flow</th>\n",
       "      <th>link_30_flow</th>\n",
       "      <th>link_31_flow</th>\n",
       "      <th>link_32_flow</th>\n",
       "    </tr>\n",
       "    <tr>\n",
       "      <th>Timestamp</th>\n",
       "      <th></th>\n",
       "      <th></th>\n",
       "      <th></th>\n",
       "      <th></th>\n",
       "      <th></th>\n",
       "      <th></th>\n",
       "      <th></th>\n",
       "      <th></th>\n",
       "      <th></th>\n",
       "      <th></th>\n",
       "      <th></th>\n",
       "      <th></th>\n",
       "      <th></th>\n",
       "      <th></th>\n",
       "      <th></th>\n",
       "      <th></th>\n",
       "      <th></th>\n",
       "      <th></th>\n",
       "      <th></th>\n",
       "      <th></th>\n",
       "      <th></th>\n",
       "    </tr>\n",
       "  </thead>\n",
       "  <tbody>\n",
       "    <tr>\n",
       "      <th>2017-01-01 00:00:00</th>\n",
       "      <td>-3348.0</td>\n",
       "      <td>154.8</td>\n",
       "      <td>169.2</td>\n",
       "      <td>18.0</td>\n",
       "      <td>118.8</td>\n",
       "      <td>169.2</td>\n",
       "      <td>234.0</td>\n",
       "      <td>86.4</td>\n",
       "      <td>82.8</td>\n",
       "      <td>104.4</td>\n",
       "      <td>...</td>\n",
       "      <td>439.2</td>\n",
       "      <td>-205.2</td>\n",
       "      <td>-75.6</td>\n",
       "      <td>-18.0</td>\n",
       "      <td>118.8</td>\n",
       "      <td>68.4</td>\n",
       "      <td>7.2</td>\n",
       "      <td>-54.0</td>\n",
       "      <td>75.6</td>\n",
       "      <td>212.4</td>\n",
       "    </tr>\n",
       "    <tr>\n",
       "      <th>2017-01-01 00:30:00</th>\n",
       "      <td>-2959.2</td>\n",
       "      <td>136.8</td>\n",
       "      <td>147.6</td>\n",
       "      <td>18.0</td>\n",
       "      <td>108.0</td>\n",
       "      <td>144.0</td>\n",
       "      <td>237.6</td>\n",
       "      <td>79.2</td>\n",
       "      <td>75.6</td>\n",
       "      <td>90.0</td>\n",
       "      <td>...</td>\n",
       "      <td>392.4</td>\n",
       "      <td>-187.2</td>\n",
       "      <td>-72.0</td>\n",
       "      <td>-21.6</td>\n",
       "      <td>108.0</td>\n",
       "      <td>61.2</td>\n",
       "      <td>3.6</td>\n",
       "      <td>-54.0</td>\n",
       "      <td>72.0</td>\n",
       "      <td>183.6</td>\n",
       "    </tr>\n",
       "    <tr>\n",
       "      <th>2017-01-01 01:00:00</th>\n",
       "      <td>-2692.8</td>\n",
       "      <td>129.6</td>\n",
       "      <td>126.0</td>\n",
       "      <td>14.4</td>\n",
       "      <td>104.4</td>\n",
       "      <td>133.2</td>\n",
       "      <td>205.2</td>\n",
       "      <td>72.0</td>\n",
       "      <td>72.0</td>\n",
       "      <td>90.0</td>\n",
       "      <td>...</td>\n",
       "      <td>349.2</td>\n",
       "      <td>-176.4</td>\n",
       "      <td>-64.8</td>\n",
       "      <td>-18.0</td>\n",
       "      <td>93.6</td>\n",
       "      <td>50.4</td>\n",
       "      <td>3.6</td>\n",
       "      <td>-39.6</td>\n",
       "      <td>54.0</td>\n",
       "      <td>151.2</td>\n",
       "    </tr>\n",
       "    <tr>\n",
       "      <th>2017-01-01 01:30:00</th>\n",
       "      <td>-2379.6</td>\n",
       "      <td>104.4</td>\n",
       "      <td>100.8</td>\n",
       "      <td>10.8</td>\n",
       "      <td>86.4</td>\n",
       "      <td>122.4</td>\n",
       "      <td>180.0</td>\n",
       "      <td>68.4</td>\n",
       "      <td>57.6</td>\n",
       "      <td>82.8</td>\n",
       "      <td>...</td>\n",
       "      <td>316.8</td>\n",
       "      <td>-158.4</td>\n",
       "      <td>-54.0</td>\n",
       "      <td>-10.8</td>\n",
       "      <td>79.2</td>\n",
       "      <td>46.8</td>\n",
       "      <td>7.2</td>\n",
       "      <td>-32.4</td>\n",
       "      <td>50.4</td>\n",
       "      <td>140.4</td>\n",
       "    </tr>\n",
       "    <tr>\n",
       "      <th>2017-01-01 02:00:00</th>\n",
       "      <td>-2228.4</td>\n",
       "      <td>104.4</td>\n",
       "      <td>104.4</td>\n",
       "      <td>10.8</td>\n",
       "      <td>79.2</td>\n",
       "      <td>122.4</td>\n",
       "      <td>183.6</td>\n",
       "      <td>68.4</td>\n",
       "      <td>54.0</td>\n",
       "      <td>75.6</td>\n",
       "      <td>...</td>\n",
       "      <td>277.2</td>\n",
       "      <td>-144.0</td>\n",
       "      <td>-57.6</td>\n",
       "      <td>-18.0</td>\n",
       "      <td>72.0</td>\n",
       "      <td>39.6</td>\n",
       "      <td>7.2</td>\n",
       "      <td>-32.4</td>\n",
       "      <td>43.2</td>\n",
       "      <td>118.8</td>\n",
       "    </tr>\n",
       "    <tr>\n",
       "      <th>...</th>\n",
       "      <td>...</td>\n",
       "      <td>...</td>\n",
       "      <td>...</td>\n",
       "      <td>...</td>\n",
       "      <td>...</td>\n",
       "      <td>...</td>\n",
       "      <td>...</td>\n",
       "      <td>...</td>\n",
       "      <td>...</td>\n",
       "      <td>...</td>\n",
       "      <td>...</td>\n",
       "      <td>...</td>\n",
       "      <td>...</td>\n",
       "      <td>...</td>\n",
       "      <td>...</td>\n",
       "      <td>...</td>\n",
       "      <td>...</td>\n",
       "      <td>...</td>\n",
       "      <td>...</td>\n",
       "      <td>...</td>\n",
       "      <td>...</td>\n",
       "    </tr>\n",
       "    <tr>\n",
       "      <th>2017-12-31 21:30:00</th>\n",
       "      <td>-5306.4</td>\n",
       "      <td>205.2</td>\n",
       "      <td>208.8</td>\n",
       "      <td>39.6</td>\n",
       "      <td>183.6</td>\n",
       "      <td>284.4</td>\n",
       "      <td>316.8</td>\n",
       "      <td>176.4</td>\n",
       "      <td>133.2</td>\n",
       "      <td>129.6</td>\n",
       "      <td>...</td>\n",
       "      <td>604.8</td>\n",
       "      <td>-259.2</td>\n",
       "      <td>32.4</td>\n",
       "      <td>115.2</td>\n",
       "      <td>169.2</td>\n",
       "      <td>100.8</td>\n",
       "      <td>10.8</td>\n",
       "      <td>-100.8</td>\n",
       "      <td>122.4</td>\n",
       "      <td>309.6</td>\n",
       "    </tr>\n",
       "    <tr>\n",
       "      <th>2017-12-31 22:00:00</th>\n",
       "      <td>-4910.4</td>\n",
       "      <td>208.8</td>\n",
       "      <td>183.6</td>\n",
       "      <td>39.6</td>\n",
       "      <td>154.8</td>\n",
       "      <td>252.0</td>\n",
       "      <td>295.2</td>\n",
       "      <td>165.6</td>\n",
       "      <td>133.2</td>\n",
       "      <td>133.2</td>\n",
       "      <td>...</td>\n",
       "      <td>565.2</td>\n",
       "      <td>-241.2</td>\n",
       "      <td>21.6</td>\n",
       "      <td>100.8</td>\n",
       "      <td>154.8</td>\n",
       "      <td>86.4</td>\n",
       "      <td>18.0</td>\n",
       "      <td>-75.6</td>\n",
       "      <td>100.8</td>\n",
       "      <td>288.0</td>\n",
       "    </tr>\n",
       "    <tr>\n",
       "      <th>2017-12-31 22:30:00</th>\n",
       "      <td>-4683.6</td>\n",
       "      <td>187.2</td>\n",
       "      <td>183.6</td>\n",
       "      <td>36.0</td>\n",
       "      <td>147.6</td>\n",
       "      <td>230.4</td>\n",
       "      <td>320.4</td>\n",
       "      <td>147.6</td>\n",
       "      <td>118.8</td>\n",
       "      <td>126.0</td>\n",
       "      <td>...</td>\n",
       "      <td>529.2</td>\n",
       "      <td>-226.8</td>\n",
       "      <td>21.6</td>\n",
       "      <td>100.8</td>\n",
       "      <td>147.6</td>\n",
       "      <td>86.4</td>\n",
       "      <td>14.4</td>\n",
       "      <td>-86.4</td>\n",
       "      <td>108.0</td>\n",
       "      <td>266.4</td>\n",
       "    </tr>\n",
       "    <tr>\n",
       "      <th>2017-12-31 23:00:00</th>\n",
       "      <td>-4262.4</td>\n",
       "      <td>180.0</td>\n",
       "      <td>165.6</td>\n",
       "      <td>32.4</td>\n",
       "      <td>136.8</td>\n",
       "      <td>223.2</td>\n",
       "      <td>241.2</td>\n",
       "      <td>147.6</td>\n",
       "      <td>115.2</td>\n",
       "      <td>111.6</td>\n",
       "      <td>...</td>\n",
       "      <td>496.8</td>\n",
       "      <td>-208.8</td>\n",
       "      <td>21.6</td>\n",
       "      <td>93.6</td>\n",
       "      <td>133.2</td>\n",
       "      <td>79.2</td>\n",
       "      <td>14.4</td>\n",
       "      <td>-75.6</td>\n",
       "      <td>97.2</td>\n",
       "      <td>255.6</td>\n",
       "    </tr>\n",
       "    <tr>\n",
       "      <th>2017-12-31 23:30:00</th>\n",
       "      <td>-3808.8</td>\n",
       "      <td>176.4</td>\n",
       "      <td>169.2</td>\n",
       "      <td>25.2</td>\n",
       "      <td>122.4</td>\n",
       "      <td>201.6</td>\n",
       "      <td>241.2</td>\n",
       "      <td>122.4</td>\n",
       "      <td>100.8</td>\n",
       "      <td>93.6</td>\n",
       "      <td>...</td>\n",
       "      <td>421.2</td>\n",
       "      <td>-180.0</td>\n",
       "      <td>28.8</td>\n",
       "      <td>86.4</td>\n",
       "      <td>118.8</td>\n",
       "      <td>68.4</td>\n",
       "      <td>10.8</td>\n",
       "      <td>-68.4</td>\n",
       "      <td>86.4</td>\n",
       "      <td>216.0</td>\n",
       "    </tr>\n",
       "  </tbody>\n",
       "</table>\n",
       "<p>87600 rows × 96 columns</p>\n",
       "</div>"
      ],
      "text/plain": [
       "                     reservoir_demand  node_1_demand  node_2_demand  \\\n",
       "Timestamp                                                             \n",
       "2017-01-01 00:00:00           -3348.0          154.8          169.2   \n",
       "2017-01-01 00:30:00           -2959.2          136.8          147.6   \n",
       "2017-01-01 01:00:00           -2692.8          129.6          126.0   \n",
       "2017-01-01 01:30:00           -2379.6          104.4          100.8   \n",
       "2017-01-01 02:00:00           -2228.4          104.4          104.4   \n",
       "...                               ...            ...            ...   \n",
       "2017-12-31 21:30:00           -5306.4          205.2          208.8   \n",
       "2017-12-31 22:00:00           -4910.4          208.8          183.6   \n",
       "2017-12-31 22:30:00           -4683.6          187.2          183.6   \n",
       "2017-12-31 23:00:00           -4262.4          180.0          165.6   \n",
       "2017-12-31 23:30:00           -3808.8          176.4          169.2   \n",
       "\n",
       "                     node_3_demand  node_4_demand  node_5_demand  \\\n",
       "Timestamp                                                          \n",
       "2017-01-01 00:00:00           18.0          118.8          169.2   \n",
       "2017-01-01 00:30:00           18.0          108.0          144.0   \n",
       "2017-01-01 01:00:00           14.4          104.4          133.2   \n",
       "2017-01-01 01:30:00           10.8           86.4          122.4   \n",
       "2017-01-01 02:00:00           10.8           79.2          122.4   \n",
       "...                            ...            ...            ...   \n",
       "2017-12-31 21:30:00           39.6          183.6          284.4   \n",
       "2017-12-31 22:00:00           39.6          154.8          252.0   \n",
       "2017-12-31 22:30:00           36.0          147.6          230.4   \n",
       "2017-12-31 23:00:00           32.4          136.8          223.2   \n",
       "2017-12-31 23:30:00           25.2          122.4          201.6   \n",
       "\n",
       "                     node_6_demand  node_7_demand  node_8_demand  \\\n",
       "Timestamp                                                          \n",
       "2017-01-01 00:00:00          234.0           86.4           82.8   \n",
       "2017-01-01 00:30:00          237.6           79.2           75.6   \n",
       "2017-01-01 01:00:00          205.2           72.0           72.0   \n",
       "2017-01-01 01:30:00          180.0           68.4           57.6   \n",
       "2017-01-01 02:00:00          183.6           68.4           54.0   \n",
       "...                            ...            ...            ...   \n",
       "2017-12-31 21:30:00          316.8          176.4          133.2   \n",
       "2017-12-31 22:00:00          295.2          165.6          133.2   \n",
       "2017-12-31 22:30:00          320.4          147.6          118.8   \n",
       "2017-12-31 23:00:00          241.2          147.6          115.2   \n",
       "2017-12-31 23:30:00          241.2          122.4          100.8   \n",
       "\n",
       "                     node_9_demand  ...  link_23_flow  link_24_flow  \\\n",
       "Timestamp                           ...                               \n",
       "2017-01-01 00:00:00          104.4  ...         439.2        -205.2   \n",
       "2017-01-01 00:30:00           90.0  ...         392.4        -187.2   \n",
       "2017-01-01 01:00:00           90.0  ...         349.2        -176.4   \n",
       "2017-01-01 01:30:00           82.8  ...         316.8        -158.4   \n",
       "2017-01-01 02:00:00           75.6  ...         277.2        -144.0   \n",
       "...                            ...  ...           ...           ...   \n",
       "2017-12-31 21:30:00          129.6  ...         604.8        -259.2   \n",
       "2017-12-31 22:00:00          133.2  ...         565.2        -241.2   \n",
       "2017-12-31 22:30:00          126.0  ...         529.2        -226.8   \n",
       "2017-12-31 23:00:00          111.6  ...         496.8        -208.8   \n",
       "2017-12-31 23:30:00           93.6  ...         421.2        -180.0   \n",
       "\n",
       "                     link_25_flow  link_26_flow  link_27_flow  link_28_flow  \\\n",
       "Timestamp                                                                     \n",
       "2017-01-01 00:00:00         -75.6         -18.0         118.8          68.4   \n",
       "2017-01-01 00:30:00         -72.0         -21.6         108.0          61.2   \n",
       "2017-01-01 01:00:00         -64.8         -18.0          93.6          50.4   \n",
       "2017-01-01 01:30:00         -54.0         -10.8          79.2          46.8   \n",
       "2017-01-01 02:00:00         -57.6         -18.0          72.0          39.6   \n",
       "...                           ...           ...           ...           ...   \n",
       "2017-12-31 21:30:00          32.4         115.2         169.2         100.8   \n",
       "2017-12-31 22:00:00          21.6         100.8         154.8          86.4   \n",
       "2017-12-31 22:30:00          21.6         100.8         147.6          86.4   \n",
       "2017-12-31 23:00:00          21.6          93.6         133.2          79.2   \n",
       "2017-12-31 23:30:00          28.8          86.4         118.8          68.4   \n",
       "\n",
       "                     link_29_flow  link_30_flow  link_31_flow  link_32_flow  \n",
       "Timestamp                                                                    \n",
       "2017-01-01 00:00:00           7.2         -54.0          75.6         212.4  \n",
       "2017-01-01 00:30:00           3.6         -54.0          72.0         183.6  \n",
       "2017-01-01 01:00:00           3.6         -39.6          54.0         151.2  \n",
       "2017-01-01 01:30:00           7.2         -32.4          50.4         140.4  \n",
       "2017-01-01 02:00:00           7.2         -32.4          43.2         118.8  \n",
       "...                           ...           ...           ...           ...  \n",
       "2017-12-31 21:30:00          10.8        -100.8         122.4         309.6  \n",
       "2017-12-31 22:00:00          18.0         -75.6         100.8         288.0  \n",
       "2017-12-31 22:30:00          14.4         -86.4         108.0         266.4  \n",
       "2017-12-31 23:00:00          14.4         -75.6          97.2         255.6  \n",
       "2017-12-31 23:30:00          10.8         -68.4          86.4         216.0  \n",
       "\n",
       "[87600 rows x 96 columns]"
      ]
     },
     "execution_count": 2,
     "metadata": {},
     "output_type": "execute_result"
    }
   ],
   "source": [
    "df = pd.read_csv('/Users/alexellard/Downloads/scenarios_data.csv', header=0, index_col=0)\n",
    "df"
   ]
  },
  {
   "cell_type": "code",
   "execution_count": 3,
   "metadata": {},
   "outputs": [],
   "source": [
    "# convert series to supervised learning\n",
    "def series_to_supervised(data, n_in, n_out, vars_to_predict=None):\n",
    "    n_vars = data.shape[1]\n",
    "    df = pd.DataFrame(data)\n",
    "    cols, names = list(), list()\n",
    "    # input sequence (t-n, ... t-1)\n",
    "    for i in range(n_in, 0, -1):\n",
    "        cols.append(df.shift(i-1))\n",
    "        names += [('var%d(t-%d)' % (j+1, i)) for j in range(n_vars)]\n",
    "    # forecast sequence (t, t+1, ... t+n)\n",
    "    for i in range(n_out):\n",
    "        cols.append(df[vars_to_predict].shift(-i))\n",
    "        if i == 0:\n",
    "            names += [('var%d(t)' % (j+1)) for j in vars_to_predict]\n",
    "        else:\n",
    "            names += [('var%d(t+%d)' % (j+1, i)) for j in vars_to_predict]\n",
    "    # put it all together\n",
    "    agg = pd.concat(cols, axis=1)\n",
    "    agg.columns = names\n",
    "    return agg\n",
    "\n",
    "values = df.values\n",
    "# ensure all data is float\n",
    "values = values.astype('float32')\n",
    "# normalize features\n",
    "scaler = MinMaxScaler(feature_range=(0, 1))\n",
    "\n",
    "# node 1 indexes\n",
    "target_variable_demand_node1 = [1]\n",
    "target_variable_pressures_node1 = [33]\n",
    "target_variable_flows_node1 = [64]\n",
    "#node 16 indexes\n",
    "target_variable_demand_node16 = [16]\n",
    "target_variable_pressures_node16 = [48]\n",
    "target_variable_flows_node16 = [79]\n",
    "#node 29 indexes\n",
    "target_variable_demand_node29 = [29]\n",
    "target_variable_pressures_node29 = [61]\n",
    "target_variable_flows_node29 = [92]\n",
    "\n",
    "\n",
    "reframed_demand_node1 = series_to_supervised(values, 1, 1, vars_to_predict=target_variable_demand_node1)\n",
    "reframed_pressures_node1 = series_to_supervised(values, 1, 1, vars_to_predict=target_variable_pressures_node1)\n",
    "reframed_flows_node1 = series_to_supervised(values, 1, 1, vars_to_predict=target_variable_flows_node1)\n",
    "\n",
    "reframed_demand_node16 = series_to_supervised(values, 1, 1, vars_to_predict=target_variable_demand_node16)\n",
    "reframed_pressures_node16 = series_to_supervised(values, 1, 1, vars_to_predict=target_variable_pressures_node16)\n",
    "reframed_flows_node16 = series_to_supervised(values, 1, 1, vars_to_predict=target_variable_flows_node16)\n",
    "\n",
    "reframed_demand_node29 = series_to_supervised(values, 1, 1, vars_to_predict=target_variable_demand_node29)\n",
    "reframed_pressures_node29 = series_to_supervised(values, 1, 1, vars_to_predict=target_variable_pressures_node29)\n",
    "reframed_flows_node29 = series_to_supervised(values, 1, 1, vars_to_predict=target_variable_flows_node29)\n",
    "\n",
    "reframed_demand_node1 = reframed_demand_node1.drop(reframed_demand_node1.columns[1], axis=1)\n",
    "reframed_pressures_node1 = reframed_pressures_node1.drop(reframed_pressures_node1.columns[33], axis=1)\n",
    "reframed_flows_node1 = reframed_flows_node1.drop(reframed_flows_node1.columns[64], axis=1)\n",
    "\n",
    "reframed_demand_node16 = reframed_demand_node16.drop(reframed_demand_node16.columns[16], axis=1)\n",
    "reframed_pressures_node16 = reframed_pressures_node16.drop(reframed_pressures_node16.columns[48], axis=1)\n",
    "reframed_flows_node16 = reframed_flows_node16.drop(reframed_flows_node16.columns[79], axis=1)\n",
    "\n",
    "reframed_demand_node29 = reframed_demand_node29.drop(reframed_demand_node29.columns[29], axis=1)\n",
    "reframed_pressures_node29 = reframed_pressures_node29.drop(reframed_pressures_node29.columns[61], axis=1)\n",
    "reframed_flows_node29 = reframed_flows_node29.drop(reframed_flows_node29.columns[92], axis=1)"
   ]
  },
  {
   "cell_type": "code",
   "execution_count": null,
   "metadata": {},
   "outputs": [
    {
     "name": "stdout",
     "output_type": "stream",
     "text": [
      "starting df shape: (87600, 96)\n",
      "This is training run 1 and has the shape:  (87600, 96)\n",
      "The value of dropped columns is 0\n"
     ]
    },
    {
     "name": "stderr",
     "output_type": "stream",
     "text": [
      "/Users/alexellard/opt/anaconda3/lib/python3.7/site-packages/xgboost/data.py:96: UserWarning: Use subset (sliced data) of np.ndarray is not recommended because it will generate extra copies and increase memory consumption\n",
      "  \"because it will generate extra copies and increase \" +\n"
     ]
    },
    {
     "name": "stdout",
     "output_type": "stream",
     "text": [
      "test y shape : (17520, 1)\n",
      "Inv y shape : (17520, 96)\n",
      "y pred shape : (17520, 1)\n",
      "inv y pred : (17520, 96)\n",
      "Run 1 Mean Absolute Error: 2.7317557\n",
      "RMSE: 3.920\n",
      "R^2: 1.000\n",
      "starting df shape: (87600, 96)\n",
      "This is training run 2 and has the shape:  (87600, 96)\n",
      "The value of dropped columns is 0\n"
     ]
    },
    {
     "name": "stderr",
     "output_type": "stream",
     "text": [
      "/Users/alexellard/opt/anaconda3/lib/python3.7/site-packages/xgboost/data.py:96: UserWarning: Use subset (sliced data) of np.ndarray is not recommended because it will generate extra copies and increase memory consumption\n",
      "  \"because it will generate extra copies and increase \" +\n"
     ]
    },
    {
     "name": "stdout",
     "output_type": "stream",
     "text": [
      "test y shape : (17520, 1)\n",
      "Inv y shape : (17520, 96)\n",
      "y pred shape : (17520, 1)\n",
      "inv y pred : (17520, 96)\n",
      "Run 2 Mean Absolute Error: 2.7317557\n",
      "RMSE: 3.920\n",
      "R^2: 1.000\n",
      "starting df shape: (87600, 96)\n",
      "This is training run 3 and has the shape:  (87600, 96)\n",
      "The value of dropped columns is 0\n"
     ]
    },
    {
     "name": "stderr",
     "output_type": "stream",
     "text": [
      "/Users/alexellard/opt/anaconda3/lib/python3.7/site-packages/xgboost/data.py:96: UserWarning: Use subset (sliced data) of np.ndarray is not recommended because it will generate extra copies and increase memory consumption\n",
      "  \"because it will generate extra copies and increase \" +\n"
     ]
    },
    {
     "name": "stdout",
     "output_type": "stream",
     "text": [
      "test y shape : (17520, 1)\n",
      "Inv y shape : (17520, 96)\n",
      "y pred shape : (17520, 1)\n",
      "inv y pred : (17520, 96)\n",
      "Run 3 Mean Absolute Error: 2.7317557\n",
      "RMSE: 3.920\n",
      "R^2: 1.000\n",
      "starting df shape: (87600, 96)\n",
      "This is training run 4 and has the shape:  (87600, 96)\n",
      "The value of dropped columns is 0\n"
     ]
    },
    {
     "name": "stderr",
     "output_type": "stream",
     "text": [
      "/Users/alexellard/opt/anaconda3/lib/python3.7/site-packages/xgboost/data.py:96: UserWarning: Use subset (sliced data) of np.ndarray is not recommended because it will generate extra copies and increase memory consumption\n",
      "  \"because it will generate extra copies and increase \" +\n"
     ]
    },
    {
     "name": "stdout",
     "output_type": "stream",
     "text": [
      "test y shape : (17520, 1)\n",
      "Inv y shape : (17520, 96)\n",
      "y pred shape : (17520, 1)\n",
      "inv y pred : (17520, 96)\n",
      "Run 4 Mean Absolute Error: 2.7317557\n",
      "RMSE: 3.920\n",
      "R^2: 1.000\n",
      "starting df shape: (87600, 96)\n",
      "This is training run 5 and has the shape:  (87600, 96)\n",
      "The value of dropped columns is 0\n"
     ]
    },
    {
     "name": "stderr",
     "output_type": "stream",
     "text": [
      "/Users/alexellard/opt/anaconda3/lib/python3.7/site-packages/xgboost/data.py:96: UserWarning: Use subset (sliced data) of np.ndarray is not recommended because it will generate extra copies and increase memory consumption\n",
      "  \"because it will generate extra copies and increase \" +\n"
     ]
    },
    {
     "name": "stdout",
     "output_type": "stream",
     "text": [
      "test y shape : (17520, 1)\n",
      "Inv y shape : (17520, 96)\n",
      "y pred shape : (17520, 1)\n",
      "inv y pred : (17520, 96)\n",
      "Run 5 Mean Absolute Error: 2.7317557\n",
      "RMSE: 3.920\n",
      "R^2: 1.000\n",
      "starting df shape: (87600, 96)\n",
      "This is training run 6 and has the shape:  (87600, 96)\n",
      "The value of dropped columns is 0\n"
     ]
    },
    {
     "name": "stderr",
     "output_type": "stream",
     "text": [
      "/Users/alexellard/opt/anaconda3/lib/python3.7/site-packages/xgboost/data.py:96: UserWarning: Use subset (sliced data) of np.ndarray is not recommended because it will generate extra copies and increase memory consumption\n",
      "  \"because it will generate extra copies and increase \" +\n"
     ]
    },
    {
     "name": "stdout",
     "output_type": "stream",
     "text": [
      "test y shape : (17520, 1)\n",
      "Inv y shape : (17520, 96)\n",
      "y pred shape : (17520, 1)\n",
      "inv y pred : (17520, 96)\n",
      "Run 6 Mean Absolute Error: 2.7317557\n",
      "RMSE: 3.920\n",
      "R^2: 1.000\n",
      "starting df shape: (87600, 96)\n",
      "This is training run 7 and has the shape:  (87600, 96)\n",
      "The value of dropped columns is 0\n"
     ]
    },
    {
     "name": "stderr",
     "output_type": "stream",
     "text": [
      "/Users/alexellard/opt/anaconda3/lib/python3.7/site-packages/xgboost/data.py:96: UserWarning: Use subset (sliced data) of np.ndarray is not recommended because it will generate extra copies and increase memory consumption\n",
      "  \"because it will generate extra copies and increase \" +\n"
     ]
    },
    {
     "name": "stdout",
     "output_type": "stream",
     "text": [
      "test y shape : (17520, 1)\n",
      "Inv y shape : (17520, 96)\n",
      "y pred shape : (17520, 1)\n",
      "inv y pred : (17520, 96)\n",
      "Run 7 Mean Absolute Error: 2.7317557\n",
      "RMSE: 3.920\n",
      "R^2: 1.000\n",
      "starting df shape: (87600, 96)\n",
      "This is training run 8 and has the shape:  (87600, 96)\n",
      "The value of dropped columns is 0\n"
     ]
    },
    {
     "name": "stderr",
     "output_type": "stream",
     "text": [
      "/Users/alexellard/opt/anaconda3/lib/python3.7/site-packages/xgboost/data.py:96: UserWarning: Use subset (sliced data) of np.ndarray is not recommended because it will generate extra copies and increase memory consumption\n",
      "  \"because it will generate extra copies and increase \" +\n"
     ]
    },
    {
     "name": "stdout",
     "output_type": "stream",
     "text": [
      "test y shape : (17520, 1)\n",
      "Inv y shape : (17520, 96)\n",
      "y pred shape : (17520, 1)\n",
      "inv y pred : (17520, 96)\n",
      "Run 8 Mean Absolute Error: 2.7317557\n",
      "RMSE: 3.920\n",
      "R^2: 1.000\n",
      "starting df shape: (87600, 96)\n",
      "This is training run 9 and has the shape:  (87600, 96)\n",
      "The value of dropped columns is 0\n"
     ]
    },
    {
     "name": "stderr",
     "output_type": "stream",
     "text": [
      "/Users/alexellard/opt/anaconda3/lib/python3.7/site-packages/xgboost/data.py:96: UserWarning: Use subset (sliced data) of np.ndarray is not recommended because it will generate extra copies and increase memory consumption\n",
      "  \"because it will generate extra copies and increase \" +\n"
     ]
    },
    {
     "name": "stdout",
     "output_type": "stream",
     "text": [
      "test y shape : (17520, 1)\n",
      "Inv y shape : (17520, 96)\n",
      "y pred shape : (17520, 1)\n",
      "inv y pred : (17520, 96)\n",
      "Run 9 Mean Absolute Error: 2.7317557\n",
      "RMSE: 3.920\n",
      "R^2: 1.000\n",
      "starting df shape: (87600, 96)\n",
      "This is training run 10 and has the shape:  (87600, 96)\n",
      "The value of dropped columns is 0\n"
     ]
    },
    {
     "name": "stderr",
     "output_type": "stream",
     "text": [
      "/Users/alexellard/opt/anaconda3/lib/python3.7/site-packages/xgboost/data.py:96: UserWarning: Use subset (sliced data) of np.ndarray is not recommended because it will generate extra copies and increase memory consumption\n",
      "  \"because it will generate extra copies and increase \" +\n"
     ]
    },
    {
     "name": "stdout",
     "output_type": "stream",
     "text": [
      "test y shape : (17520, 1)\n",
      "Inv y shape : (17520, 96)\n",
      "y pred shape : (17520, 1)\n",
      "inv y pred : (17520, 96)\n",
      "Run 10 Mean Absolute Error: 2.7317557\n",
      "RMSE: 3.920\n",
      "R^2: 1.000\n",
      "starting df shape: (87600, 91)\n",
      "This is training run 1 and has the shape:  (87600, 91)\n",
      "The value of dropped columns is 5\n"
     ]
    },
    {
     "name": "stderr",
     "output_type": "stream",
     "text": [
      "/Users/alexellard/opt/anaconda3/lib/python3.7/site-packages/xgboost/data.py:96: UserWarning: Use subset (sliced data) of np.ndarray is not recommended because it will generate extra copies and increase memory consumption\n",
      "  \"because it will generate extra copies and increase \" +\n"
     ]
    },
    {
     "name": "stdout",
     "output_type": "stream",
     "text": [
      "test y shape : (17520, 1)\n",
      "Inv y shape : (17520, 91)\n",
      "y pred shape : (17520, 1)\n",
      "inv y pred : (17520, 91)\n",
      "Run 1 Mean Absolute Error: 2.7178552\n",
      "RMSE: 3.942\n",
      "R^2: 1.000\n",
      "starting df shape: (87600, 92)\n",
      "This is training run 2 and has the shape:  (87600, 92)\n",
      "The value of dropped columns is 5\n"
     ]
    },
    {
     "name": "stderr",
     "output_type": "stream",
     "text": [
      "/Users/alexellard/opt/anaconda3/lib/python3.7/site-packages/xgboost/data.py:96: UserWarning: Use subset (sliced data) of np.ndarray is not recommended because it will generate extra copies and increase memory consumption\n",
      "  \"because it will generate extra copies and increase \" +\n"
     ]
    },
    {
     "name": "stdout",
     "output_type": "stream",
     "text": [
      "test y shape : (17520, 1)\n",
      "Inv y shape : (17520, 92)\n",
      "y pred shape : (17520, 1)\n",
      "inv y pred : (17520, 92)\n",
      "Run 2 Mean Absolute Error: 2.9634624\n",
      "RMSE: 4.241\n",
      "R^2: 1.000\n",
      "starting df shape: (87600, 91)\n",
      "This is training run 3 and has the shape:  (87600, 91)\n",
      "The value of dropped columns is 5\n"
     ]
    },
    {
     "name": "stderr",
     "output_type": "stream",
     "text": [
      "/Users/alexellard/opt/anaconda3/lib/python3.7/site-packages/xgboost/data.py:96: UserWarning: Use subset (sliced data) of np.ndarray is not recommended because it will generate extra copies and increase memory consumption\n",
      "  \"because it will generate extra copies and increase \" +\n"
     ]
    },
    {
     "name": "stdout",
     "output_type": "stream",
     "text": [
      "test y shape : (17520, 1)\n",
      "Inv y shape : (17520, 91)\n",
      "y pred shape : (17520, 1)\n",
      "inv y pred : (17520, 91)\n",
      "Run 3 Mean Absolute Error: 2.8447807\n",
      "RMSE: 4.070\n",
      "R^2: 1.000\n",
      "starting df shape: (87600, 91)\n",
      "This is training run 4 and has the shape:  (87600, 91)\n",
      "The value of dropped columns is 5\n"
     ]
    },
    {
     "name": "stderr",
     "output_type": "stream",
     "text": [
      "/Users/alexellard/opt/anaconda3/lib/python3.7/site-packages/xgboost/data.py:96: UserWarning: Use subset (sliced data) of np.ndarray is not recommended because it will generate extra copies and increase memory consumption\n",
      "  \"because it will generate extra copies and increase \" +\n"
     ]
    },
    {
     "name": "stdout",
     "output_type": "stream",
     "text": [
      "test y shape : (17520, 1)\n",
      "Inv y shape : (17520, 91)\n",
      "y pred shape : (17520, 1)\n",
      "inv y pred : (17520, 91)\n",
      "Run 4 Mean Absolute Error: 3.1987598\n",
      "RMSE: 4.504\n",
      "R^2: 1.000\n",
      "starting df shape: (87600, 92)\n",
      "This is training run 5 and has the shape:  (87600, 92)\n",
      "The value of dropped columns is 5\n"
     ]
    },
    {
     "name": "stderr",
     "output_type": "stream",
     "text": [
      "/Users/alexellard/opt/anaconda3/lib/python3.7/site-packages/xgboost/data.py:96: UserWarning: Use subset (sliced data) of np.ndarray is not recommended because it will generate extra copies and increase memory consumption\n",
      "  \"because it will generate extra copies and increase \" +\n"
     ]
    },
    {
     "name": "stdout",
     "output_type": "stream",
     "text": [
      "test y shape : (17520, 1)\n",
      "Inv y shape : (17520, 92)\n",
      "y pred shape : (17520, 1)\n",
      "inv y pred : (17520, 92)\n",
      "Run 5 Mean Absolute Error: 2.8429296\n",
      "RMSE: 4.188\n",
      "R^2: 1.000\n",
      "starting df shape: (87600, 91)\n",
      "This is training run 6 and has the shape:  (87600, 91)\n",
      "The value of dropped columns is 5\n"
     ]
    },
    {
     "name": "stderr",
     "output_type": "stream",
     "text": [
      "/Users/alexellard/opt/anaconda3/lib/python3.7/site-packages/xgboost/data.py:96: UserWarning: Use subset (sliced data) of np.ndarray is not recommended because it will generate extra copies and increase memory consumption\n",
      "  \"because it will generate extra copies and increase \" +\n"
     ]
    },
    {
     "name": "stdout",
     "output_type": "stream",
     "text": [
      "test y shape : (17520, 1)\n",
      "Inv y shape : (17520, 91)\n",
      "y pred shape : (17520, 1)\n",
      "inv y pred : (17520, 91)\n",
      "Run 6 Mean Absolute Error: 2.7207167\n",
      "RMSE: 3.965\n",
      "R^2: 1.000\n",
      "starting df shape: (87600, 91)\n",
      "This is training run 7 and has the shape:  (87600, 91)\n",
      "The value of dropped columns is 5\n"
     ]
    },
    {
     "name": "stderr",
     "output_type": "stream",
     "text": [
      "/Users/alexellard/opt/anaconda3/lib/python3.7/site-packages/xgboost/data.py:96: UserWarning: Use subset (sliced data) of np.ndarray is not recommended because it will generate extra copies and increase memory consumption\n",
      "  \"because it will generate extra copies and increase \" +\n"
     ]
    },
    {
     "name": "stdout",
     "output_type": "stream",
     "text": [
      "test y shape : (17520, 1)\n",
      "Inv y shape : (17520, 91)\n",
      "y pred shape : (17520, 1)\n",
      "inv y pred : (17520, 91)\n",
      "Run 7 Mean Absolute Error: 2.811604\n",
      "RMSE: 4.021\n",
      "R^2: 1.000\n",
      "starting df shape: (87600, 91)\n",
      "This is training run 8 and has the shape:  (87600, 91)\n",
      "The value of dropped columns is 5\n"
     ]
    },
    {
     "name": "stderr",
     "output_type": "stream",
     "text": [
      "/Users/alexellard/opt/anaconda3/lib/python3.7/site-packages/xgboost/data.py:96: UserWarning: Use subset (sliced data) of np.ndarray is not recommended because it will generate extra copies and increase memory consumption\n",
      "  \"because it will generate extra copies and increase \" +\n"
     ]
    },
    {
     "name": "stdout",
     "output_type": "stream",
     "text": [
      "test y shape : (17520, 1)\n",
      "Inv y shape : (17520, 91)\n",
      "y pred shape : (17520, 1)\n",
      "inv y pred : (17520, 91)\n",
      "Run 8 Mean Absolute Error: 3.9673307\n",
      "RMSE: 5.423\n",
      "R^2: 1.000\n",
      "starting df shape: (87600, 91)\n",
      "This is training run 9 and has the shape:  (87600, 91)\n",
      "The value of dropped columns is 5\n"
     ]
    },
    {
     "name": "stderr",
     "output_type": "stream",
     "text": [
      "/Users/alexellard/opt/anaconda3/lib/python3.7/site-packages/xgboost/data.py:96: UserWarning: Use subset (sliced data) of np.ndarray is not recommended because it will generate extra copies and increase memory consumption\n",
      "  \"because it will generate extra copies and increase \" +\n"
     ]
    },
    {
     "name": "stdout",
     "output_type": "stream",
     "text": [
      "test y shape : (17520, 1)\n",
      "Inv y shape : (17520, 91)\n",
      "y pred shape : (17520, 1)\n",
      "inv y pred : (17520, 91)\n",
      "Run 9 Mean Absolute Error: 2.7054477\n",
      "RMSE: 3.918\n",
      "R^2: 1.000\n",
      "starting df shape: (87600, 91)\n",
      "This is training run 10 and has the shape:  (87600, 91)\n",
      "The value of dropped columns is 5\n"
     ]
    },
    {
     "name": "stderr",
     "output_type": "stream",
     "text": [
      "/Users/alexellard/opt/anaconda3/lib/python3.7/site-packages/xgboost/data.py:96: UserWarning: Use subset (sliced data) of np.ndarray is not recommended because it will generate extra copies and increase memory consumption\n",
      "  \"because it will generate extra copies and increase \" +\n"
     ]
    },
    {
     "name": "stdout",
     "output_type": "stream",
     "text": [
      "test y shape : (17520, 1)\n",
      "Inv y shape : (17520, 91)\n",
      "y pred shape : (17520, 1)\n",
      "inv y pred : (17520, 91)\n",
      "Run 10 Mean Absolute Error: 2.832927\n",
      "RMSE: 4.050\n",
      "R^2: 1.000\n",
      "starting df shape: (87600, 86)\n",
      "This is training run 1 and has the shape:  (87600, 86)\n",
      "The value of dropped columns is 10\n"
     ]
    },
    {
     "name": "stderr",
     "output_type": "stream",
     "text": [
      "/Users/alexellard/opt/anaconda3/lib/python3.7/site-packages/xgboost/data.py:96: UserWarning: Use subset (sliced data) of np.ndarray is not recommended because it will generate extra copies and increase memory consumption\n",
      "  \"because it will generate extra copies and increase \" +\n"
     ]
    },
    {
     "name": "stdout",
     "output_type": "stream",
     "text": [
      "test y shape : (17520, 1)\n",
      "Inv y shape : (17520, 86)\n",
      "y pred shape : (17520, 1)\n",
      "inv y pred : (17520, 86)\n",
      "Run 1 Mean Absolute Error: 3.4484458\n",
      "RMSE: 4.875\n",
      "R^2: 1.000\n",
      "starting df shape: (87600, 86)\n",
      "This is training run 2 and has the shape:  (87600, 86)\n",
      "The value of dropped columns is 10\n"
     ]
    },
    {
     "name": "stderr",
     "output_type": "stream",
     "text": [
      "/Users/alexellard/opt/anaconda3/lib/python3.7/site-packages/xgboost/data.py:96: UserWarning: Use subset (sliced data) of np.ndarray is not recommended because it will generate extra copies and increase memory consumption\n",
      "  \"because it will generate extra copies and increase \" +\n"
     ]
    },
    {
     "name": "stdout",
     "output_type": "stream",
     "text": [
      "test y shape : (17520, 1)\n",
      "Inv y shape : (17520, 86)\n",
      "y pred shape : (17520, 1)\n",
      "inv y pred : (17520, 86)\n",
      "Run 2 Mean Absolute Error: 2.7447648\n",
      "RMSE: 3.934\n",
      "R^2: 1.000\n",
      "starting df shape: (87600, 86)\n",
      "This is training run 3 and has the shape:  (87600, 86)\n",
      "The value of dropped columns is 10\n"
     ]
    },
    {
     "name": "stderr",
     "output_type": "stream",
     "text": [
      "/Users/alexellard/opt/anaconda3/lib/python3.7/site-packages/xgboost/data.py:96: UserWarning: Use subset (sliced data) of np.ndarray is not recommended because it will generate extra copies and increase memory consumption\n",
      "  \"because it will generate extra copies and increase \" +\n"
     ]
    },
    {
     "name": "stdout",
     "output_type": "stream",
     "text": [
      "test y shape : (17520, 1)\n",
      "Inv y shape : (17520, 86)\n",
      "y pred shape : (17520, 1)\n",
      "inv y pred : (17520, 86)\n",
      "Run 3 Mean Absolute Error: 3.356641\n",
      "RMSE: 4.763\n",
      "R^2: 1.000\n",
      "starting df shape: (87600, 87)\n",
      "This is training run 4 and has the shape:  (87600, 87)\n",
      "The value of dropped columns is 10\n"
     ]
    },
    {
     "name": "stderr",
     "output_type": "stream",
     "text": [
      "/Users/alexellard/opt/anaconda3/lib/python3.7/site-packages/xgboost/data.py:96: UserWarning: Use subset (sliced data) of np.ndarray is not recommended because it will generate extra copies and increase memory consumption\n",
      "  \"because it will generate extra copies and increase \" +\n"
     ]
    },
    {
     "name": "stdout",
     "output_type": "stream",
     "text": [
      "test y shape : (17520, 1)\n",
      "Inv y shape : (17520, 87)\n",
      "y pred shape : (17520, 1)\n",
      "inv y pred : (17520, 87)\n",
      "Run 4 Mean Absolute Error: 3.0717664\n",
      "RMSE: 4.411\n",
      "R^2: 1.000\n",
      "starting df shape: (87600, 86)\n",
      "This is training run 5 and has the shape:  (87600, 86)\n",
      "The value of dropped columns is 10\n"
     ]
    },
    {
     "name": "stderr",
     "output_type": "stream",
     "text": [
      "/Users/alexellard/opt/anaconda3/lib/python3.7/site-packages/xgboost/data.py:96: UserWarning: Use subset (sliced data) of np.ndarray is not recommended because it will generate extra copies and increase memory consumption\n",
      "  \"because it will generate extra copies and increase \" +\n"
     ]
    },
    {
     "name": "stdout",
     "output_type": "stream",
     "text": [
      "test y shape : (17520, 1)\n",
      "Inv y shape : (17520, 86)\n",
      "y pred shape : (17520, 1)\n",
      "inv y pred : (17520, 86)\n",
      "Run 5 Mean Absolute Error: 3.1385863\n",
      "RMSE: 4.613\n",
      "R^2: 1.000\n",
      "starting df shape: (87600, 86)\n",
      "This is training run 6 and has the shape:  (87600, 86)\n",
      "The value of dropped columns is 10\n"
     ]
    },
    {
     "name": "stderr",
     "output_type": "stream",
     "text": [
      "/Users/alexellard/opt/anaconda3/lib/python3.7/site-packages/xgboost/data.py:96: UserWarning: Use subset (sliced data) of np.ndarray is not recommended because it will generate extra copies and increase memory consumption\n",
      "  \"because it will generate extra copies and increase \" +\n"
     ]
    },
    {
     "name": "stdout",
     "output_type": "stream",
     "text": [
      "test y shape : (17520, 1)\n",
      "Inv y shape : (17520, 86)\n",
      "y pred shape : (17520, 1)\n",
      "inv y pred : (17520, 86)\n",
      "Run 6 Mean Absolute Error: 3.2880704\n",
      "RMSE: 4.734\n",
      "R^2: 1.000\n",
      "starting df shape: (87600, 86)\n",
      "This is training run 7 and has the shape:  (87600, 86)\n",
      "The value of dropped columns is 10\n"
     ]
    },
    {
     "name": "stderr",
     "output_type": "stream",
     "text": [
      "/Users/alexellard/opt/anaconda3/lib/python3.7/site-packages/xgboost/data.py:96: UserWarning: Use subset (sliced data) of np.ndarray is not recommended because it will generate extra copies and increase memory consumption\n",
      "  \"because it will generate extra copies and increase \" +\n"
     ]
    },
    {
     "name": "stdout",
     "output_type": "stream",
     "text": [
      "test y shape : (17520, 1)\n",
      "Inv y shape : (17520, 86)\n",
      "y pred shape : (17520, 1)\n",
      "inv y pred : (17520, 86)\n",
      "Run 7 Mean Absolute Error: 3.3447773\n",
      "RMSE: 4.801\n",
      "R^2: 1.000\n",
      "starting df shape: (87600, 86)\n",
      "This is training run 8 and has the shape:  (87600, 86)\n",
      "The value of dropped columns is 10\n"
     ]
    },
    {
     "name": "stderr",
     "output_type": "stream",
     "text": [
      "/Users/alexellard/opt/anaconda3/lib/python3.7/site-packages/xgboost/data.py:96: UserWarning: Use subset (sliced data) of np.ndarray is not recommended because it will generate extra copies and increase memory consumption\n",
      "  \"because it will generate extra copies and increase \" +\n"
     ]
    },
    {
     "name": "stdout",
     "output_type": "stream",
     "text": [
      "test y shape : (17520, 1)\n",
      "Inv y shape : (17520, 86)\n",
      "y pred shape : (17520, 1)\n",
      "inv y pred : (17520, 86)\n",
      "Run 8 Mean Absolute Error: 3.5494175\n",
      "RMSE: 5.000\n",
      "R^2: 1.000\n",
      "starting df shape: (87600, 86)\n",
      "This is training run 9 and has the shape:  (87600, 86)\n",
      "The value of dropped columns is 10\n"
     ]
    },
    {
     "name": "stderr",
     "output_type": "stream",
     "text": [
      "/Users/alexellard/opt/anaconda3/lib/python3.7/site-packages/xgboost/data.py:96: UserWarning: Use subset (sliced data) of np.ndarray is not recommended because it will generate extra copies and increase memory consumption\n",
      "  \"because it will generate extra copies and increase \" +\n"
     ]
    },
    {
     "name": "stdout",
     "output_type": "stream",
     "text": [
      "test y shape : (17520, 1)\n",
      "Inv y shape : (17520, 86)\n",
      "y pred shape : (17520, 1)\n",
      "inv y pred : (17520, 86)\n",
      "Run 9 Mean Absolute Error: 3.128369\n",
      "RMSE: 4.591\n",
      "R^2: 1.000\n",
      "starting df shape: (87600, 86)\n",
      "This is training run 10 and has the shape:  (87600, 86)\n",
      "The value of dropped columns is 10\n"
     ]
    },
    {
     "name": "stderr",
     "output_type": "stream",
     "text": [
      "/Users/alexellard/opt/anaconda3/lib/python3.7/site-packages/xgboost/data.py:96: UserWarning: Use subset (sliced data) of np.ndarray is not recommended because it will generate extra copies and increase memory consumption\n",
      "  \"because it will generate extra copies and increase \" +\n"
     ]
    },
    {
     "name": "stdout",
     "output_type": "stream",
     "text": [
      "test y shape : (17520, 1)\n",
      "Inv y shape : (17520, 86)\n",
      "y pred shape : (17520, 1)\n",
      "inv y pred : (17520, 86)\n",
      "Run 10 Mean Absolute Error: 3.4321175\n",
      "RMSE: 4.897\n",
      "R^2: 1.000\n",
      "starting df shape: (87600, 81)\n",
      "This is training run 1 and has the shape:  (87600, 81)\n",
      "The value of dropped columns is 15\n"
     ]
    },
    {
     "name": "stderr",
     "output_type": "stream",
     "text": [
      "/Users/alexellard/opt/anaconda3/lib/python3.7/site-packages/xgboost/data.py:96: UserWarning: Use subset (sliced data) of np.ndarray is not recommended because it will generate extra copies and increase memory consumption\n",
      "  \"because it will generate extra copies and increase \" +\n"
     ]
    },
    {
     "name": "stdout",
     "output_type": "stream",
     "text": [
      "test y shape : (17520, 1)\n",
      "Inv y shape : (17520, 81)\n",
      "y pred shape : (17520, 1)\n",
      "inv y pred : (17520, 81)\n",
      "Run 1 Mean Absolute Error: 0.17660159\n",
      "RMSE: 0.261\n",
      "R^2: 1.000\n",
      "starting df shape: (87600, 81)\n",
      "This is training run 2 and has the shape:  (87600, 81)\n",
      "The value of dropped columns is 15\n"
     ]
    },
    {
     "name": "stderr",
     "output_type": "stream",
     "text": [
      "/Users/alexellard/opt/anaconda3/lib/python3.7/site-packages/xgboost/data.py:96: UserWarning: Use subset (sliced data) of np.ndarray is not recommended because it will generate extra copies and increase memory consumption\n",
      "  \"because it will generate extra copies and increase \" +\n"
     ]
    },
    {
     "name": "stdout",
     "output_type": "stream",
     "text": [
      "test y shape : (17520, 1)\n",
      "Inv y shape : (17520, 81)\n",
      "y pred shape : (17520, 1)\n",
      "inv y pred : (17520, 81)\n",
      "Run 2 Mean Absolute Error: 2.9435945\n",
      "RMSE: 4.275\n",
      "R^2: 1.000\n",
      "starting df shape: (87600, 81)\n",
      "This is training run 3 and has the shape:  (87600, 81)\n",
      "The value of dropped columns is 15\n"
     ]
    },
    {
     "name": "stderr",
     "output_type": "stream",
     "text": [
      "/Users/alexellard/opt/anaconda3/lib/python3.7/site-packages/xgboost/data.py:96: UserWarning: Use subset (sliced data) of np.ndarray is not recommended because it will generate extra copies and increase memory consumption\n",
      "  \"because it will generate extra copies and increase \" +\n"
     ]
    },
    {
     "name": "stdout",
     "output_type": "stream",
     "text": [
      "test y shape : (17520, 1)\n",
      "Inv y shape : (17520, 81)\n",
      "y pred shape : (17520, 1)\n",
      "inv y pred : (17520, 81)\n",
      "Run 3 Mean Absolute Error: 0.18827952\n",
      "RMSE: 0.267\n",
      "R^2: 1.000\n",
      "starting df shape: (87600, 81)\n",
      "This is training run 4 and has the shape:  (87600, 81)\n",
      "The value of dropped columns is 15\n"
     ]
    },
    {
     "name": "stderr",
     "output_type": "stream",
     "text": [
      "/Users/alexellard/opt/anaconda3/lib/python3.7/site-packages/xgboost/data.py:96: UserWarning: Use subset (sliced data) of np.ndarray is not recommended because it will generate extra copies and increase memory consumption\n",
      "  \"because it will generate extra copies and increase \" +\n"
     ]
    },
    {
     "name": "stdout",
     "output_type": "stream",
     "text": [
      "test y shape : (17520, 1)\n",
      "Inv y shape : (17520, 81)\n",
      "y pred shape : (17520, 1)\n",
      "inv y pred : (17520, 81)\n",
      "Run 4 Mean Absolute Error: 3.0834353\n",
      "RMSE: 4.475\n",
      "R^2: 1.000\n",
      "starting df shape: (87600, 82)\n",
      "This is training run 5 and has the shape:  (87600, 82)\n",
      "The value of dropped columns is 15\n"
     ]
    },
    {
     "name": "stderr",
     "output_type": "stream",
     "text": [
      "/Users/alexellard/opt/anaconda3/lib/python3.7/site-packages/xgboost/data.py:96: UserWarning: Use subset (sliced data) of np.ndarray is not recommended because it will generate extra copies and increase memory consumption\n",
      "  \"because it will generate extra copies and increase \" +\n"
     ]
    },
    {
     "name": "stdout",
     "output_type": "stream",
     "text": [
      "test y shape : (17520, 1)\n",
      "Inv y shape : (17520, 82)\n",
      "y pred shape : (17520, 1)\n",
      "inv y pred : (17520, 82)\n",
      "Run 5 Mean Absolute Error: 2.8991618\n",
      "RMSE: 4.232\n",
      "R^2: 1.000\n",
      "starting df shape: (87600, 81)\n",
      "This is training run 6 and has the shape:  (87600, 81)\n",
      "The value of dropped columns is 15\n"
     ]
    },
    {
     "name": "stderr",
     "output_type": "stream",
     "text": [
      "/Users/alexellard/opt/anaconda3/lib/python3.7/site-packages/xgboost/data.py:96: UserWarning: Use subset (sliced data) of np.ndarray is not recommended because it will generate extra copies and increase memory consumption\n",
      "  \"because it will generate extra copies and increase \" +\n"
     ]
    },
    {
     "name": "stdout",
     "output_type": "stream",
     "text": [
      "test y shape : (17520, 1)\n",
      "Inv y shape : (17520, 81)\n",
      "y pred shape : (17520, 1)\n",
      "inv y pred : (17520, 81)\n",
      "Run 6 Mean Absolute Error: 2.8541899\n",
      "RMSE: 4.146\n",
      "R^2: 1.000\n",
      "starting df shape: (87600, 81)\n",
      "This is training run 7 and has the shape:  (87600, 81)\n",
      "The value of dropped columns is 15\n"
     ]
    },
    {
     "name": "stderr",
     "output_type": "stream",
     "text": [
      "/Users/alexellard/opt/anaconda3/lib/python3.7/site-packages/xgboost/data.py:96: UserWarning: Use subset (sliced data) of np.ndarray is not recommended because it will generate extra copies and increase memory consumption\n",
      "  \"because it will generate extra copies and increase \" +\n"
     ]
    },
    {
     "name": "stdout",
     "output_type": "stream",
     "text": [
      "test y shape : (17520, 1)\n",
      "Inv y shape : (17520, 81)\n",
      "y pred shape : (17520, 1)\n",
      "inv y pred : (17520, 81)\n",
      "Run 7 Mean Absolute Error: 3.0038712\n",
      "RMSE: 4.315\n",
      "R^2: 1.000\n",
      "starting df shape: (87600, 82)\n",
      "This is training run 8 and has the shape:  (87600, 82)\n",
      "The value of dropped columns is 15\n"
     ]
    },
    {
     "name": "stderr",
     "output_type": "stream",
     "text": [
      "/Users/alexellard/opt/anaconda3/lib/python3.7/site-packages/xgboost/data.py:96: UserWarning: Use subset (sliced data) of np.ndarray is not recommended because it will generate extra copies and increase memory consumption\n",
      "  \"because it will generate extra copies and increase \" +\n"
     ]
    },
    {
     "name": "stdout",
     "output_type": "stream",
     "text": [
      "test y shape : (17520, 1)\n",
      "Inv y shape : (17520, 82)\n",
      "y pred shape : (17520, 1)\n",
      "inv y pred : (17520, 82)\n",
      "Run 8 Mean Absolute Error: 2.9392922\n",
      "RMSE: 4.227\n",
      "R^2: 1.000\n",
      "starting df shape: (87600, 82)\n",
      "This is training run 9 and has the shape:  (87600, 82)\n",
      "The value of dropped columns is 15\n"
     ]
    },
    {
     "name": "stderr",
     "output_type": "stream",
     "text": [
      "/Users/alexellard/opt/anaconda3/lib/python3.7/site-packages/xgboost/data.py:96: UserWarning: Use subset (sliced data) of np.ndarray is not recommended because it will generate extra copies and increase memory consumption\n",
      "  \"because it will generate extra copies and increase \" +\n"
     ]
    },
    {
     "name": "stdout",
     "output_type": "stream",
     "text": [
      "test y shape : (17520, 1)\n",
      "Inv y shape : (17520, 82)\n",
      "y pred shape : (17520, 1)\n",
      "inv y pred : (17520, 82)\n",
      "Run 9 Mean Absolute Error: 2.7854018\n",
      "RMSE: 3.989\n",
      "R^2: 1.000\n",
      "starting df shape: (87600, 81)\n",
      "This is training run 10 and has the shape:  (87600, 81)\n",
      "The value of dropped columns is 15\n"
     ]
    },
    {
     "name": "stderr",
     "output_type": "stream",
     "text": [
      "/Users/alexellard/opt/anaconda3/lib/python3.7/site-packages/xgboost/data.py:96: UserWarning: Use subset (sliced data) of np.ndarray is not recommended because it will generate extra copies and increase memory consumption\n",
      "  \"because it will generate extra copies and increase \" +\n"
     ]
    },
    {
     "name": "stdout",
     "output_type": "stream",
     "text": [
      "test y shape : (17520, 1)\n",
      "Inv y shape : (17520, 81)\n",
      "y pred shape : (17520, 1)\n",
      "inv y pred : (17520, 81)\n",
      "Run 10 Mean Absolute Error: 2.8616893\n",
      "RMSE: 4.060\n",
      "R^2: 1.000\n",
      "starting df shape: (87600, 76)\n",
      "This is training run 1 and has the shape:  (87600, 76)\n",
      "The value of dropped columns is 20\n"
     ]
    },
    {
     "name": "stderr",
     "output_type": "stream",
     "text": [
      "/Users/alexellard/opt/anaconda3/lib/python3.7/site-packages/xgboost/data.py:96: UserWarning: Use subset (sliced data) of np.ndarray is not recommended because it will generate extra copies and increase memory consumption\n",
      "  \"because it will generate extra copies and increase \" +\n"
     ]
    },
    {
     "name": "stdout",
     "output_type": "stream",
     "text": [
      "test y shape : (17520, 1)\n",
      "Inv y shape : (17520, 76)\n",
      "y pred shape : (17520, 1)\n",
      "inv y pred : (17520, 76)\n",
      "Run 1 Mean Absolute Error: 2.6599765\n",
      "RMSE: 3.777\n",
      "R^2: 1.000\n",
      "starting df shape: (87600, 76)\n",
      "This is training run 2 and has the shape:  (87600, 76)\n",
      "The value of dropped columns is 20\n"
     ]
    },
    {
     "name": "stderr",
     "output_type": "stream",
     "text": [
      "/Users/alexellard/opt/anaconda3/lib/python3.7/site-packages/xgboost/data.py:96: UserWarning: Use subset (sliced data) of np.ndarray is not recommended because it will generate extra copies and increase memory consumption\n",
      "  \"because it will generate extra copies and increase \" +\n"
     ]
    },
    {
     "name": "stdout",
     "output_type": "stream",
     "text": [
      "test y shape : (17520, 1)\n",
      "Inv y shape : (17520, 76)\n",
      "y pred shape : (17520, 1)\n",
      "inv y pred : (17520, 76)\n",
      "Run 2 Mean Absolute Error: 3.0801659\n",
      "RMSE: 4.348\n",
      "R^2: 1.000\n",
      "starting df shape: (87600, 77)\n",
      "This is training run 3 and has the shape:  (87600, 77)\n",
      "The value of dropped columns is 20\n"
     ]
    },
    {
     "name": "stderr",
     "output_type": "stream",
     "text": [
      "/Users/alexellard/opt/anaconda3/lib/python3.7/site-packages/xgboost/data.py:96: UserWarning: Use subset (sliced data) of np.ndarray is not recommended because it will generate extra copies and increase memory consumption\n",
      "  \"because it will generate extra copies and increase \" +\n"
     ]
    },
    {
     "name": "stdout",
     "output_type": "stream",
     "text": [
      "test y shape : (17520, 1)\n",
      "Inv y shape : (17520, 77)\n",
      "y pred shape : (17520, 1)\n",
      "inv y pred : (17520, 77)\n",
      "Run 3 Mean Absolute Error: 2.8457055\n",
      "RMSE: 4.139\n",
      "R^2: 1.000\n",
      "starting df shape: (87600, 76)\n",
      "This is training run 4 and has the shape:  (87600, 76)\n",
      "The value of dropped columns is 20\n"
     ]
    },
    {
     "name": "stderr",
     "output_type": "stream",
     "text": [
      "/Users/alexellard/opt/anaconda3/lib/python3.7/site-packages/xgboost/data.py:96: UserWarning: Use subset (sliced data) of np.ndarray is not recommended because it will generate extra copies and increase memory consumption\n",
      "  \"because it will generate extra copies and increase \" +\n"
     ]
    },
    {
     "name": "stdout",
     "output_type": "stream",
     "text": [
      "test y shape : (17520, 1)\n",
      "Inv y shape : (17520, 76)\n",
      "y pred shape : (17520, 1)\n",
      "inv y pred : (17520, 76)\n",
      "Run 4 Mean Absolute Error: 3.0336723\n",
      "RMSE: 4.363\n",
      "R^2: 1.000\n",
      "starting df shape: (87600, 76)\n",
      "This is training run 5 and has the shape:  (87600, 76)\n",
      "The value of dropped columns is 20\n"
     ]
    },
    {
     "name": "stderr",
     "output_type": "stream",
     "text": [
      "/Users/alexellard/opt/anaconda3/lib/python3.7/site-packages/xgboost/data.py:96: UserWarning: Use subset (sliced data) of np.ndarray is not recommended because it will generate extra copies and increase memory consumption\n",
      "  \"because it will generate extra copies and increase \" +\n"
     ]
    },
    {
     "name": "stdout",
     "output_type": "stream",
     "text": [
      "test y shape : (17520, 1)\n",
      "Inv y shape : (17520, 76)\n",
      "y pred shape : (17520, 1)\n",
      "inv y pred : (17520, 76)\n",
      "Run 5 Mean Absolute Error: 0.17747073\n",
      "RMSE: 0.256\n",
      "R^2: 1.000\n",
      "starting df shape: (87600, 76)\n",
      "This is training run 6 and has the shape:  (87600, 76)\n",
      "The value of dropped columns is 20\n"
     ]
    },
    {
     "name": "stderr",
     "output_type": "stream",
     "text": [
      "/Users/alexellard/opt/anaconda3/lib/python3.7/site-packages/xgboost/data.py:96: UserWarning: Use subset (sliced data) of np.ndarray is not recommended because it will generate extra copies and increase memory consumption\n",
      "  \"because it will generate extra copies and increase \" +\n"
     ]
    },
    {
     "name": "stdout",
     "output_type": "stream",
     "text": [
      "test y shape : (17520, 1)\n",
      "Inv y shape : (17520, 76)\n",
      "y pred shape : (17520, 1)\n",
      "inv y pred : (17520, 76)\n",
      "Run 6 Mean Absolute Error: 3.1617455\n",
      "RMSE: 4.604\n",
      "R^2: 1.000\n",
      "starting df shape: (87600, 76)\n",
      "This is training run 7 and has the shape:  (87600, 76)\n",
      "The value of dropped columns is 20\n"
     ]
    },
    {
     "name": "stderr",
     "output_type": "stream",
     "text": [
      "/Users/alexellard/opt/anaconda3/lib/python3.7/site-packages/xgboost/data.py:96: UserWarning: Use subset (sliced data) of np.ndarray is not recommended because it will generate extra copies and increase memory consumption\n",
      "  \"because it will generate extra copies and increase \" +\n"
     ]
    },
    {
     "name": "stdout",
     "output_type": "stream",
     "text": [
      "test y shape : (17520, 1)\n",
      "Inv y shape : (17520, 76)\n",
      "y pred shape : (17520, 1)\n",
      "inv y pred : (17520, 76)\n",
      "Run 7 Mean Absolute Error: 2.673628\n",
      "RMSE: 3.878\n",
      "R^2: 1.000\n",
      "starting df shape: (87600, 76)\n",
      "This is training run 8 and has the shape:  (87600, 76)\n",
      "The value of dropped columns is 20\n"
     ]
    },
    {
     "name": "stderr",
     "output_type": "stream",
     "text": [
      "/Users/alexellard/opt/anaconda3/lib/python3.7/site-packages/xgboost/data.py:96: UserWarning: Use subset (sliced data) of np.ndarray is not recommended because it will generate extra copies and increase memory consumption\n",
      "  \"because it will generate extra copies and increase \" +\n"
     ]
    },
    {
     "name": "stdout",
     "output_type": "stream",
     "text": [
      "test y shape : (17520, 1)\n",
      "Inv y shape : (17520, 76)\n",
      "y pred shape : (17520, 1)\n",
      "inv y pred : (17520, 76)\n",
      "Run 8 Mean Absolute Error: 2.6806996\n",
      "RMSE: 3.840\n",
      "R^2: 1.000\n",
      "starting df shape: (87600, 76)\n",
      "This is training run 9 and has the shape:  (87600, 76)\n",
      "The value of dropped columns is 20\n"
     ]
    },
    {
     "name": "stderr",
     "output_type": "stream",
     "text": [
      "/Users/alexellard/opt/anaconda3/lib/python3.7/site-packages/xgboost/data.py:96: UserWarning: Use subset (sliced data) of np.ndarray is not recommended because it will generate extra copies and increase memory consumption\n",
      "  \"because it will generate extra copies and increase \" +\n"
     ]
    },
    {
     "name": "stdout",
     "output_type": "stream",
     "text": [
      "test y shape : (17520, 1)\n",
      "Inv y shape : (17520, 76)\n",
      "y pred shape : (17520, 1)\n",
      "inv y pred : (17520, 76)\n",
      "Run 9 Mean Absolute Error: 3.034535\n",
      "RMSE: 4.395\n",
      "R^2: 1.000\n",
      "starting df shape: (87600, 76)\n",
      "This is training run 10 and has the shape:  (87600, 76)\n",
      "The value of dropped columns is 20\n"
     ]
    },
    {
     "name": "stderr",
     "output_type": "stream",
     "text": [
      "/Users/alexellard/opt/anaconda3/lib/python3.7/site-packages/xgboost/data.py:96: UserWarning: Use subset (sliced data) of np.ndarray is not recommended because it will generate extra copies and increase memory consumption\n",
      "  \"because it will generate extra copies and increase \" +\n"
     ]
    },
    {
     "name": "stdout",
     "output_type": "stream",
     "text": [
      "test y shape : (17520, 1)\n",
      "Inv y shape : (17520, 76)\n",
      "y pred shape : (17520, 1)\n",
      "inv y pred : (17520, 76)\n",
      "Run 10 Mean Absolute Error: 0.17311235\n",
      "RMSE: 0.241\n",
      "R^2: 1.000\n",
      "starting df shape: (87600, 71)\n",
      "This is training run 1 and has the shape:  (87600, 71)\n",
      "The value of dropped columns is 25\n"
     ]
    },
    {
     "name": "stderr",
     "output_type": "stream",
     "text": [
      "/Users/alexellard/opt/anaconda3/lib/python3.7/site-packages/xgboost/data.py:96: UserWarning: Use subset (sliced data) of np.ndarray is not recommended because it will generate extra copies and increase memory consumption\n",
      "  \"because it will generate extra copies and increase \" +\n"
     ]
    },
    {
     "name": "stdout",
     "output_type": "stream",
     "text": [
      "test y shape : (17520, 1)\n",
      "Inv y shape : (17520, 71)\n",
      "y pred shape : (17520, 1)\n",
      "inv y pred : (17520, 71)\n",
      "Run 1 Mean Absolute Error: 3.2030814\n",
      "RMSE: 4.525\n",
      "R^2: 1.000\n",
      "starting df shape: (87600, 71)\n",
      "This is training run 2 and has the shape:  (87600, 71)\n",
      "The value of dropped columns is 25\n"
     ]
    },
    {
     "name": "stderr",
     "output_type": "stream",
     "text": [
      "/Users/alexellard/opt/anaconda3/lib/python3.7/site-packages/xgboost/data.py:96: UserWarning: Use subset (sliced data) of np.ndarray is not recommended because it will generate extra copies and increase memory consumption\n",
      "  \"because it will generate extra copies and increase \" +\n"
     ]
    },
    {
     "name": "stdout",
     "output_type": "stream",
     "text": [
      "test y shape : (17520, 1)\n",
      "Inv y shape : (17520, 71)\n",
      "y pred shape : (17520, 1)\n",
      "inv y pred : (17520, 71)\n",
      "Run 2 Mean Absolute Error: 0.022618135\n",
      "RMSE: 0.033\n",
      "R^2: 1.000\n",
      "starting df shape: (87600, 71)\n",
      "This is training run 3 and has the shape:  (87600, 71)\n",
      "The value of dropped columns is 25\n"
     ]
    },
    {
     "name": "stderr",
     "output_type": "stream",
     "text": [
      "/Users/alexellard/opt/anaconda3/lib/python3.7/site-packages/xgboost/data.py:96: UserWarning: Use subset (sliced data) of np.ndarray is not recommended because it will generate extra copies and increase memory consumption\n",
      "  \"because it will generate extra copies and increase \" +\n"
     ]
    },
    {
     "name": "stdout",
     "output_type": "stream",
     "text": [
      "test y shape : (17520, 1)\n",
      "Inv y shape : (17520, 71)\n",
      "y pred shape : (17520, 1)\n",
      "inv y pred : (17520, 71)\n",
      "Run 3 Mean Absolute Error: 0.21844116\n",
      "RMSE: 0.303\n",
      "R^2: 1.000\n",
      "starting df shape: (87600, 72)\n",
      "This is training run 4 and has the shape:  (87600, 72)\n",
      "The value of dropped columns is 25\n"
     ]
    },
    {
     "name": "stderr",
     "output_type": "stream",
     "text": [
      "/Users/alexellard/opt/anaconda3/lib/python3.7/site-packages/xgboost/data.py:96: UserWarning: Use subset (sliced data) of np.ndarray is not recommended because it will generate extra copies and increase memory consumption\n",
      "  \"because it will generate extra copies and increase \" +\n"
     ]
    },
    {
     "name": "stdout",
     "output_type": "stream",
     "text": [
      "test y shape : (17520, 1)\n",
      "Inv y shape : (17520, 72)\n",
      "y pred shape : (17520, 1)\n",
      "inv y pred : (17520, 72)\n",
      "Run 4 Mean Absolute Error: 2.7192874\n",
      "RMSE: 3.860\n",
      "R^2: 1.000\n",
      "starting df shape: (87600, 71)\n",
      "This is training run 5 and has the shape:  (87600, 71)\n",
      "The value of dropped columns is 25\n"
     ]
    },
    {
     "name": "stderr",
     "output_type": "stream",
     "text": [
      "/Users/alexellard/opt/anaconda3/lib/python3.7/site-packages/xgboost/data.py:96: UserWarning: Use subset (sliced data) of np.ndarray is not recommended because it will generate extra copies and increase memory consumption\n",
      "  \"because it will generate extra copies and increase \" +\n"
     ]
    },
    {
     "name": "stdout",
     "output_type": "stream",
     "text": [
      "test y shape : (17520, 1)\n",
      "Inv y shape : (17520, 71)\n",
      "y pred shape : (17520, 1)\n",
      "inv y pred : (17520, 71)\n",
      "Run 5 Mean Absolute Error: 3.4322205\n",
      "RMSE: 4.803\n",
      "R^2: 1.000\n",
      "starting df shape: (87600, 71)\n",
      "This is training run 6 and has the shape:  (87600, 71)\n",
      "The value of dropped columns is 25\n"
     ]
    },
    {
     "name": "stderr",
     "output_type": "stream",
     "text": [
      "/Users/alexellard/opt/anaconda3/lib/python3.7/site-packages/xgboost/data.py:96: UserWarning: Use subset (sliced data) of np.ndarray is not recommended because it will generate extra copies and increase memory consumption\n",
      "  \"because it will generate extra copies and increase \" +\n"
     ]
    },
    {
     "name": "stdout",
     "output_type": "stream",
     "text": [
      "test y shape : (17520, 1)\n",
      "Inv y shape : (17520, 71)\n",
      "y pred shape : (17520, 1)\n",
      "inv y pred : (17520, 71)\n",
      "Run 6 Mean Absolute Error: 0.17367873\n",
      "RMSE: 0.257\n",
      "R^2: 1.000\n",
      "starting df shape: (87600, 71)\n",
      "This is training run 7 and has the shape:  (87600, 71)\n",
      "The value of dropped columns is 25\n"
     ]
    },
    {
     "name": "stderr",
     "output_type": "stream",
     "text": [
      "/Users/alexellard/opt/anaconda3/lib/python3.7/site-packages/xgboost/data.py:96: UserWarning: Use subset (sliced data) of np.ndarray is not recommended because it will generate extra copies and increase memory consumption\n",
      "  \"because it will generate extra copies and increase \" +\n"
     ]
    },
    {
     "name": "stdout",
     "output_type": "stream",
     "text": [
      "test y shape : (17520, 1)\n",
      "Inv y shape : (17520, 71)\n",
      "y pred shape : (17520, 1)\n",
      "inv y pred : (17520, 71)\n",
      "Run 7 Mean Absolute Error: 3.9850297\n",
      "RMSE: 5.538\n",
      "R^2: 1.000\n",
      "starting df shape: (87600, 71)\n",
      "This is training run 8 and has the shape:  (87600, 71)\n",
      "The value of dropped columns is 25\n"
     ]
    },
    {
     "name": "stderr",
     "output_type": "stream",
     "text": [
      "/Users/alexellard/opt/anaconda3/lib/python3.7/site-packages/xgboost/data.py:96: UserWarning: Use subset (sliced data) of np.ndarray is not recommended because it will generate extra copies and increase memory consumption\n",
      "  \"because it will generate extra copies and increase \" +\n"
     ]
    },
    {
     "name": "stdout",
     "output_type": "stream",
     "text": [
      "test y shape : (17520, 1)\n",
      "Inv y shape : (17520, 71)\n",
      "y pred shape : (17520, 1)\n",
      "inv y pred : (17520, 71)\n",
      "Run 8 Mean Absolute Error: 3.6347992\n",
      "RMSE: 5.014\n",
      "R^2: 1.000\n",
      "starting df shape: (87600, 71)\n",
      "This is training run 9 and has the shape:  (87600, 71)\n",
      "The value of dropped columns is 25\n"
     ]
    },
    {
     "name": "stderr",
     "output_type": "stream",
     "text": [
      "/Users/alexellard/opt/anaconda3/lib/python3.7/site-packages/xgboost/data.py:96: UserWarning: Use subset (sliced data) of np.ndarray is not recommended because it will generate extra copies and increase memory consumption\n",
      "  \"because it will generate extra copies and increase \" +\n"
     ]
    },
    {
     "name": "stdout",
     "output_type": "stream",
     "text": [
      "test y shape : (17520, 1)\n",
      "Inv y shape : (17520, 71)\n",
      "y pred shape : (17520, 1)\n",
      "inv y pred : (17520, 71)\n",
      "Run 9 Mean Absolute Error: 2.8066313\n",
      "RMSE: 4.014\n",
      "R^2: 1.000\n",
      "starting df shape: (87600, 71)\n",
      "This is training run 10 and has the shape:  (87600, 71)\n",
      "The value of dropped columns is 25\n"
     ]
    },
    {
     "name": "stderr",
     "output_type": "stream",
     "text": [
      "/Users/alexellard/opt/anaconda3/lib/python3.7/site-packages/xgboost/data.py:96: UserWarning: Use subset (sliced data) of np.ndarray is not recommended because it will generate extra copies and increase memory consumption\n",
      "  \"because it will generate extra copies and increase \" +\n"
     ]
    },
    {
     "name": "stdout",
     "output_type": "stream",
     "text": [
      "test y shape : (17520, 1)\n",
      "Inv y shape : (17520, 71)\n",
      "y pred shape : (17520, 1)\n",
      "inv y pred : (17520, 71)\n",
      "Run 10 Mean Absolute Error: 5.8947096\n",
      "RMSE: 7.852\n",
      "R^2: 1.000\n",
      "starting df shape: (87600, 66)\n",
      "This is training run 1 and has the shape:  (87600, 66)\n",
      "The value of dropped columns is 30\n"
     ]
    },
    {
     "name": "stderr",
     "output_type": "stream",
     "text": [
      "/Users/alexellard/opt/anaconda3/lib/python3.7/site-packages/xgboost/data.py:96: UserWarning: Use subset (sliced data) of np.ndarray is not recommended because it will generate extra copies and increase memory consumption\n",
      "  \"because it will generate extra copies and increase \" +\n"
     ]
    },
    {
     "name": "stdout",
     "output_type": "stream",
     "text": [
      "test y shape : (17520, 1)\n",
      "Inv y shape : (17520, 66)\n",
      "y pred shape : (17520, 1)\n",
      "inv y pred : (17520, 66)\n",
      "Run 1 Mean Absolute Error: 0.16359106\n",
      "RMSE: 0.238\n",
      "R^2: 1.000\n",
      "starting df shape: (87600, 66)\n",
      "This is training run 2 and has the shape:  (87600, 66)\n",
      "The value of dropped columns is 30\n"
     ]
    },
    {
     "name": "stderr",
     "output_type": "stream",
     "text": [
      "/Users/alexellard/opt/anaconda3/lib/python3.7/site-packages/xgboost/data.py:96: UserWarning: Use subset (sliced data) of np.ndarray is not recommended because it will generate extra copies and increase memory consumption\n",
      "  \"because it will generate extra copies and increase \" +\n"
     ]
    },
    {
     "name": "stdout",
     "output_type": "stream",
     "text": [
      "test y shape : (17520, 1)\n",
      "Inv y shape : (17520, 66)\n",
      "y pred shape : (17520, 1)\n",
      "inv y pred : (17520, 66)\n",
      "Run 2 Mean Absolute Error: 4.156869\n",
      "RMSE: 5.626\n",
      "R^2: 1.000\n",
      "starting df shape: (87600, 66)\n",
      "This is training run 3 and has the shape:  (87600, 66)\n",
      "The value of dropped columns is 30\n"
     ]
    },
    {
     "name": "stderr",
     "output_type": "stream",
     "text": [
      "/Users/alexellard/opt/anaconda3/lib/python3.7/site-packages/xgboost/data.py:96: UserWarning: Use subset (sliced data) of np.ndarray is not recommended because it will generate extra copies and increase memory consumption\n",
      "  \"because it will generate extra copies and increase \" +\n"
     ]
    },
    {
     "name": "stdout",
     "output_type": "stream",
     "text": [
      "test y shape : (17520, 1)\n",
      "Inv y shape : (17520, 66)\n",
      "y pred shape : (17520, 1)\n",
      "inv y pred : (17520, 66)\n",
      "Run 3 Mean Absolute Error: 2.8700173\n",
      "RMSE: 4.088\n",
      "R^2: 1.000\n",
      "starting df shape: (87600, 66)\n",
      "This is training run 4 and has the shape:  (87600, 66)\n",
      "The value of dropped columns is 30\n"
     ]
    },
    {
     "name": "stderr",
     "output_type": "stream",
     "text": [
      "/Users/alexellard/opt/anaconda3/lib/python3.7/site-packages/xgboost/data.py:96: UserWarning: Use subset (sliced data) of np.ndarray is not recommended because it will generate extra copies and increase memory consumption\n",
      "  \"because it will generate extra copies and increase \" +\n"
     ]
    },
    {
     "name": "stdout",
     "output_type": "stream",
     "text": [
      "test y shape : (17520, 1)\n",
      "Inv y shape : (17520, 66)\n",
      "y pred shape : (17520, 1)\n",
      "inv y pred : (17520, 66)\n",
      "Run 4 Mean Absolute Error: 3.110324\n",
      "RMSE: 4.402\n",
      "R^2: 1.000\n",
      "starting df shape: (87600, 66)\n",
      "This is training run 5 and has the shape:  (87600, 66)\n",
      "The value of dropped columns is 30\n"
     ]
    },
    {
     "name": "stderr",
     "output_type": "stream",
     "text": [
      "/Users/alexellard/opt/anaconda3/lib/python3.7/site-packages/xgboost/data.py:96: UserWarning: Use subset (sliced data) of np.ndarray is not recommended because it will generate extra copies and increase memory consumption\n",
      "  \"because it will generate extra copies and increase \" +\n"
     ]
    },
    {
     "name": "stdout",
     "output_type": "stream",
     "text": [
      "test y shape : (17520, 1)\n",
      "Inv y shape : (17520, 66)\n",
      "y pred shape : (17520, 1)\n",
      "inv y pred : (17520, 66)\n",
      "Run 5 Mean Absolute Error: 3.777795\n",
      "RMSE: 5.299\n",
      "R^2: 1.000\n",
      "starting df shape: (87600, 67)\n",
      "This is training run 6 and has the shape:  (87600, 67)\n",
      "The value of dropped columns is 30\n"
     ]
    },
    {
     "name": "stderr",
     "output_type": "stream",
     "text": [
      "/Users/alexellard/opt/anaconda3/lib/python3.7/site-packages/xgboost/data.py:96: UserWarning: Use subset (sliced data) of np.ndarray is not recommended because it will generate extra copies and increase memory consumption\n",
      "  \"because it will generate extra copies and increase \" +\n"
     ]
    },
    {
     "name": "stdout",
     "output_type": "stream",
     "text": [
      "test y shape : (17520, 1)\n",
      "Inv y shape : (17520, 67)\n",
      "y pred shape : (17520, 1)\n",
      "inv y pred : (17520, 67)\n",
      "Run 6 Mean Absolute Error: 0.25068355\n",
      "RMSE: 0.347\n",
      "R^2: 1.000\n",
      "starting df shape: (87600, 66)\n",
      "This is training run 7 and has the shape:  (87600, 66)\n",
      "The value of dropped columns is 30\n"
     ]
    },
    {
     "name": "stderr",
     "output_type": "stream",
     "text": [
      "/Users/alexellard/opt/anaconda3/lib/python3.7/site-packages/xgboost/data.py:96: UserWarning: Use subset (sliced data) of np.ndarray is not recommended because it will generate extra copies and increase memory consumption\n",
      "  \"because it will generate extra copies and increase \" +\n"
     ]
    },
    {
     "name": "stdout",
     "output_type": "stream",
     "text": [
      "test y shape : (17520, 1)\n",
      "Inv y shape : (17520, 66)\n",
      "y pred shape : (17520, 1)\n",
      "inv y pred : (17520, 66)\n",
      "Run 7 Mean Absolute Error: 3.139187\n",
      "RMSE: 4.366\n",
      "R^2: 1.000\n",
      "starting df shape: (87600, 67)\n",
      "This is training run 8 and has the shape:  (87600, 67)\n",
      "The value of dropped columns is 30\n"
     ]
    },
    {
     "name": "stderr",
     "output_type": "stream",
     "text": [
      "/Users/alexellard/opt/anaconda3/lib/python3.7/site-packages/xgboost/data.py:96: UserWarning: Use subset (sliced data) of np.ndarray is not recommended because it will generate extra copies and increase memory consumption\n",
      "  \"because it will generate extra copies and increase \" +\n"
     ]
    },
    {
     "name": "stdout",
     "output_type": "stream",
     "text": [
      "test y shape : (17520, 1)\n",
      "Inv y shape : (17520, 67)\n",
      "y pred shape : (17520, 1)\n",
      "inv y pred : (17520, 67)\n",
      "Run 8 Mean Absolute Error: 4.469335\n",
      "RMSE: 6.212\n",
      "R^2: 1.000\n",
      "starting df shape: (87600, 67)\n",
      "This is training run 9 and has the shape:  (87600, 67)\n",
      "The value of dropped columns is 30\n"
     ]
    },
    {
     "name": "stderr",
     "output_type": "stream",
     "text": [
      "/Users/alexellard/opt/anaconda3/lib/python3.7/site-packages/xgboost/data.py:96: UserWarning: Use subset (sliced data) of np.ndarray is not recommended because it will generate extra copies and increase memory consumption\n",
      "  \"because it will generate extra copies and increase \" +\n"
     ]
    },
    {
     "name": "stdout",
     "output_type": "stream",
     "text": [
      "test y shape : (17520, 1)\n",
      "Inv y shape : (17520, 67)\n",
      "y pred shape : (17520, 1)\n",
      "inv y pred : (17520, 67)\n",
      "Run 9 Mean Absolute Error: 3.1626923\n",
      "RMSE: 4.532\n",
      "R^2: 1.000\n",
      "starting df shape: (87600, 66)\n",
      "This is training run 10 and has the shape:  (87600, 66)\n",
      "The value of dropped columns is 30\n"
     ]
    },
    {
     "name": "stderr",
     "output_type": "stream",
     "text": [
      "/Users/alexellard/opt/anaconda3/lib/python3.7/site-packages/xgboost/data.py:96: UserWarning: Use subset (sliced data) of np.ndarray is not recommended because it will generate extra copies and increase memory consumption\n",
      "  \"because it will generate extra copies and increase \" +\n"
     ]
    },
    {
     "name": "stdout",
     "output_type": "stream",
     "text": [
      "test y shape : (17520, 1)\n",
      "Inv y shape : (17520, 66)\n",
      "y pred shape : (17520, 1)\n",
      "inv y pred : (17520, 66)\n",
      "Run 10 Mean Absolute Error: 0.033970796\n",
      "RMSE: 0.048\n",
      "R^2: 1.000\n",
      "starting df shape: (87600, 61)\n",
      "This is training run 1 and has the shape:  (87600, 61)\n",
      "The value of dropped columns is 35\n"
     ]
    },
    {
     "name": "stderr",
     "output_type": "stream",
     "text": [
      "/Users/alexellard/opt/anaconda3/lib/python3.7/site-packages/xgboost/data.py:96: UserWarning: Use subset (sliced data) of np.ndarray is not recommended because it will generate extra copies and increase memory consumption\n",
      "  \"because it will generate extra copies and increase \" +\n"
     ]
    },
    {
     "name": "stdout",
     "output_type": "stream",
     "text": [
      "test y shape : (17520, 1)\n",
      "Inv y shape : (17520, 61)\n",
      "y pred shape : (17520, 1)\n",
      "inv y pred : (17520, 61)\n",
      "Run 1 Mean Absolute Error: 7.921461\n",
      "RMSE: 10.764\n",
      "R^2: 1.000\n",
      "starting df shape: (87600, 61)\n",
      "This is training run 2 and has the shape:  (87600, 61)\n",
      "The value of dropped columns is 35\n"
     ]
    },
    {
     "name": "stderr",
     "output_type": "stream",
     "text": [
      "/Users/alexellard/opt/anaconda3/lib/python3.7/site-packages/xgboost/data.py:96: UserWarning: Use subset (sliced data) of np.ndarray is not recommended because it will generate extra copies and increase memory consumption\n",
      "  \"because it will generate extra copies and increase \" +\n"
     ]
    },
    {
     "name": "stdout",
     "output_type": "stream",
     "text": [
      "test y shape : (17520, 1)\n",
      "Inv y shape : (17520, 61)\n",
      "y pred shape : (17520, 1)\n",
      "inv y pred : (17520, 61)\n",
      "Run 2 Mean Absolute Error: 4.5824265\n",
      "RMSE: 6.238\n",
      "R^2: 1.000\n",
      "starting df shape: (87600, 61)\n",
      "This is training run 3 and has the shape:  (87600, 61)\n",
      "The value of dropped columns is 35\n"
     ]
    },
    {
     "name": "stderr",
     "output_type": "stream",
     "text": [
      "/Users/alexellard/opt/anaconda3/lib/python3.7/site-packages/xgboost/data.py:96: UserWarning: Use subset (sliced data) of np.ndarray is not recommended because it will generate extra copies and increase memory consumption\n",
      "  \"because it will generate extra copies and increase \" +\n"
     ]
    },
    {
     "name": "stdout",
     "output_type": "stream",
     "text": [
      "test y shape : (17520, 1)\n",
      "Inv y shape : (17520, 61)\n",
      "y pred shape : (17520, 1)\n",
      "inv y pred : (17520, 61)\n",
      "Run 3 Mean Absolute Error: 4.335868\n",
      "RMSE: 5.886\n",
      "R^2: 1.000\n",
      "starting df shape: (87600, 61)\n",
      "This is training run 4 and has the shape:  (87600, 61)\n",
      "The value of dropped columns is 35\n"
     ]
    },
    {
     "name": "stderr",
     "output_type": "stream",
     "text": [
      "/Users/alexellard/opt/anaconda3/lib/python3.7/site-packages/xgboost/data.py:96: UserWarning: Use subset (sliced data) of np.ndarray is not recommended because it will generate extra copies and increase memory consumption\n",
      "  \"because it will generate extra copies and increase \" +\n"
     ]
    },
    {
     "name": "stdout",
     "output_type": "stream",
     "text": [
      "test y shape : (17520, 1)\n",
      "Inv y shape : (17520, 61)\n",
      "y pred shape : (17520, 1)\n",
      "inv y pred : (17520, 61)\n",
      "Run 4 Mean Absolute Error: 3.5838501\n",
      "RMSE: 4.916\n",
      "R^2: 1.000\n",
      "starting df shape: (87600, 61)\n",
      "This is training run 5 and has the shape:  (87600, 61)\n",
      "The value of dropped columns is 35\n"
     ]
    },
    {
     "name": "stderr",
     "output_type": "stream",
     "text": [
      "/Users/alexellard/opt/anaconda3/lib/python3.7/site-packages/xgboost/data.py:96: UserWarning: Use subset (sliced data) of np.ndarray is not recommended because it will generate extra copies and increase memory consumption\n",
      "  \"because it will generate extra copies and increase \" +\n"
     ]
    },
    {
     "name": "stdout",
     "output_type": "stream",
     "text": [
      "test y shape : (17520, 1)\n",
      "Inv y shape : (17520, 61)\n",
      "y pred shape : (17520, 1)\n",
      "inv y pred : (17520, 61)\n",
      "Run 5 Mean Absolute Error: 3.4302576\n",
      "RMSE: 4.859\n",
      "R^2: 1.000\n",
      "starting df shape: (87600, 62)\n",
      "This is training run 6 and has the shape:  (87600, 62)\n",
      "The value of dropped columns is 35\n"
     ]
    },
    {
     "name": "stderr",
     "output_type": "stream",
     "text": [
      "/Users/alexellard/opt/anaconda3/lib/python3.7/site-packages/xgboost/data.py:96: UserWarning: Use subset (sliced data) of np.ndarray is not recommended because it will generate extra copies and increase memory consumption\n",
      "  \"because it will generate extra copies and increase \" +\n"
     ]
    },
    {
     "name": "stdout",
     "output_type": "stream",
     "text": [
      "test y shape : (17520, 1)\n",
      "Inv y shape : (17520, 62)\n",
      "y pred shape : (17520, 1)\n",
      "inv y pred : (17520, 62)\n",
      "Run 6 Mean Absolute Error: 0.2722447\n",
      "RMSE: 0.382\n",
      "R^2: 1.000\n",
      "starting df shape: (87600, 61)\n",
      "This is training run 7 and has the shape:  (87600, 61)\n",
      "The value of dropped columns is 35\n"
     ]
    },
    {
     "name": "stderr",
     "output_type": "stream",
     "text": [
      "/Users/alexellard/opt/anaconda3/lib/python3.7/site-packages/xgboost/data.py:96: UserWarning: Use subset (sliced data) of np.ndarray is not recommended because it will generate extra copies and increase memory consumption\n",
      "  \"because it will generate extra copies and increase \" +\n"
     ]
    },
    {
     "name": "stdout",
     "output_type": "stream",
     "text": [
      "test y shape : (17520, 1)\n",
      "Inv y shape : (17520, 61)\n",
      "y pred shape : (17520, 1)\n",
      "inv y pred : (17520, 61)\n",
      "Run 7 Mean Absolute Error: 3.2637494\n",
      "RMSE: 4.615\n",
      "R^2: 1.000\n",
      "starting df shape: (87600, 62)\n",
      "This is training run 8 and has the shape:  (87600, 62)\n",
      "The value of dropped columns is 35\n"
     ]
    },
    {
     "name": "stderr",
     "output_type": "stream",
     "text": [
      "/Users/alexellard/opt/anaconda3/lib/python3.7/site-packages/xgboost/data.py:96: UserWarning: Use subset (sliced data) of np.ndarray is not recommended because it will generate extra copies and increase memory consumption\n",
      "  \"because it will generate extra copies and increase \" +\n"
     ]
    },
    {
     "name": "stdout",
     "output_type": "stream",
     "text": [
      "test y shape : (17520, 1)\n",
      "Inv y shape : (17520, 62)\n",
      "y pred shape : (17520, 1)\n",
      "inv y pred : (17520, 62)\n",
      "Run 8 Mean Absolute Error: 3.2187815\n",
      "RMSE: 4.586\n",
      "R^2: 1.000\n",
      "starting df shape: (87600, 61)\n",
      "This is training run 9 and has the shape:  (87600, 61)\n",
      "The value of dropped columns is 35\n"
     ]
    },
    {
     "name": "stderr",
     "output_type": "stream",
     "text": [
      "/Users/alexellard/opt/anaconda3/lib/python3.7/site-packages/xgboost/data.py:96: UserWarning: Use subset (sliced data) of np.ndarray is not recommended because it will generate extra copies and increase memory consumption\n",
      "  \"because it will generate extra copies and increase \" +\n"
     ]
    },
    {
     "name": "stdout",
     "output_type": "stream",
     "text": [
      "test y shape : (17520, 1)\n",
      "Inv y shape : (17520, 61)\n",
      "y pred shape : (17520, 1)\n",
      "inv y pred : (17520, 61)\n",
      "Run 9 Mean Absolute Error: 2.8741138\n",
      "RMSE: 4.106\n",
      "R^2: 1.000\n",
      "starting df shape: (87600, 61)\n",
      "This is training run 10 and has the shape:  (87600, 61)\n",
      "The value of dropped columns is 35\n"
     ]
    },
    {
     "name": "stderr",
     "output_type": "stream",
     "text": [
      "/Users/alexellard/opt/anaconda3/lib/python3.7/site-packages/xgboost/data.py:96: UserWarning: Use subset (sliced data) of np.ndarray is not recommended because it will generate extra copies and increase memory consumption\n",
      "  \"because it will generate extra copies and increase \" +\n"
     ]
    },
    {
     "name": "stdout",
     "output_type": "stream",
     "text": [
      "test y shape : (17520, 1)\n",
      "Inv y shape : (17520, 61)\n",
      "y pred shape : (17520, 1)\n",
      "inv y pred : (17520, 61)\n",
      "Run 10 Mean Absolute Error: 5.7870507\n",
      "RMSE: 7.659\n",
      "R^2: 1.000\n",
      "starting df shape: (87600, 56)\n",
      "This is training run 1 and has the shape:  (87600, 56)\n",
      "The value of dropped columns is 40\n"
     ]
    },
    {
     "name": "stderr",
     "output_type": "stream",
     "text": [
      "/Users/alexellard/opt/anaconda3/lib/python3.7/site-packages/xgboost/data.py:96: UserWarning: Use subset (sliced data) of np.ndarray is not recommended because it will generate extra copies and increase memory consumption\n",
      "  \"because it will generate extra copies and increase \" +\n"
     ]
    },
    {
     "name": "stdout",
     "output_type": "stream",
     "text": [
      "test y shape : (17520, 1)\n",
      "Inv y shape : (17520, 56)\n",
      "y pred shape : (17520, 1)\n",
      "inv y pred : (17520, 56)\n",
      "Run 1 Mean Absolute Error: 8.08998\n",
      "RMSE: 10.943\n",
      "R^2: 1.000\n",
      "starting df shape: (87600, 57)\n",
      "This is training run 2 and has the shape:  (87600, 57)\n",
      "The value of dropped columns is 40\n"
     ]
    },
    {
     "name": "stderr",
     "output_type": "stream",
     "text": [
      "/Users/alexellard/opt/anaconda3/lib/python3.7/site-packages/xgboost/data.py:96: UserWarning: Use subset (sliced data) of np.ndarray is not recommended because it will generate extra copies and increase memory consumption\n",
      "  \"because it will generate extra copies and increase \" +\n"
     ]
    },
    {
     "name": "stdout",
     "output_type": "stream",
     "text": [
      "test y shape : (17520, 1)\n",
      "Inv y shape : (17520, 57)\n",
      "y pred shape : (17520, 1)\n",
      "inv y pred : (17520, 57)\n",
      "Run 2 Mean Absolute Error: 5.964798\n",
      "RMSE: 8.443\n",
      "R^2: 1.000\n",
      "starting df shape: (87600, 57)\n",
      "This is training run 3 and has the shape:  (87600, 57)\n",
      "The value of dropped columns is 40\n"
     ]
    },
    {
     "name": "stderr",
     "output_type": "stream",
     "text": [
      "/Users/alexellard/opt/anaconda3/lib/python3.7/site-packages/xgboost/data.py:96: UserWarning: Use subset (sliced data) of np.ndarray is not recommended because it will generate extra copies and increase memory consumption\n",
      "  \"because it will generate extra copies and increase \" +\n"
     ]
    },
    {
     "name": "stdout",
     "output_type": "stream",
     "text": [
      "test y shape : (17520, 1)\n",
      "Inv y shape : (17520, 57)\n",
      "y pred shape : (17520, 1)\n",
      "inv y pred : (17520, 57)\n",
      "Run 3 Mean Absolute Error: 5.2287126\n",
      "RMSE: 7.339\n",
      "R^2: 1.000\n",
      "starting df shape: (87600, 57)\n",
      "This is training run 4 and has the shape:  (87600, 57)\n",
      "The value of dropped columns is 40\n"
     ]
    },
    {
     "name": "stderr",
     "output_type": "stream",
     "text": [
      "/Users/alexellard/opt/anaconda3/lib/python3.7/site-packages/xgboost/data.py:96: UserWarning: Use subset (sliced data) of np.ndarray is not recommended because it will generate extra copies and increase memory consumption\n",
      "  \"because it will generate extra copies and increase \" +\n"
     ]
    },
    {
     "name": "stdout",
     "output_type": "stream",
     "text": [
      "test y shape : (17520, 1)\n",
      "Inv y shape : (17520, 57)\n",
      "y pred shape : (17520, 1)\n",
      "inv y pred : (17520, 57)\n",
      "Run 4 Mean Absolute Error: 7.304371\n",
      "RMSE: 9.714\n",
      "R^2: 1.000\n",
      "starting df shape: (87600, 57)\n",
      "This is training run 5 and has the shape:  (87600, 57)\n",
      "The value of dropped columns is 40\n"
     ]
    },
    {
     "name": "stderr",
     "output_type": "stream",
     "text": [
      "/Users/alexellard/opt/anaconda3/lib/python3.7/site-packages/xgboost/data.py:96: UserWarning: Use subset (sliced data) of np.ndarray is not recommended because it will generate extra copies and increase memory consumption\n",
      "  \"because it will generate extra copies and increase \" +\n"
     ]
    },
    {
     "name": "stdout",
     "output_type": "stream",
     "text": [
      "test y shape : (17520, 1)\n",
      "Inv y shape : (17520, 57)\n",
      "y pred shape : (17520, 1)\n",
      "inv y pred : (17520, 57)\n",
      "Run 5 Mean Absolute Error: 0.28706017\n",
      "RMSE: 0.398\n",
      "R^2: 1.000\n",
      "starting df shape: (87600, 56)\n",
      "This is training run 6 and has the shape:  (87600, 56)\n",
      "The value of dropped columns is 40\n"
     ]
    },
    {
     "name": "stderr",
     "output_type": "stream",
     "text": [
      "/Users/alexellard/opt/anaconda3/lib/python3.7/site-packages/xgboost/data.py:96: UserWarning: Use subset (sliced data) of np.ndarray is not recommended because it will generate extra copies and increase memory consumption\n",
      "  \"because it will generate extra copies and increase \" +\n"
     ]
    },
    {
     "name": "stdout",
     "output_type": "stream",
     "text": [
      "test y shape : (17520, 1)\n",
      "Inv y shape : (17520, 56)\n",
      "y pred shape : (17520, 1)\n",
      "inv y pred : (17520, 56)\n",
      "Run 6 Mean Absolute Error: 0.23693451\n",
      "RMSE: 0.339\n",
      "R^2: 1.000\n",
      "starting df shape: (87600, 56)\n",
      "This is training run 7 and has the shape:  (87600, 56)\n",
      "The value of dropped columns is 40\n"
     ]
    },
    {
     "name": "stderr",
     "output_type": "stream",
     "text": [
      "/Users/alexellard/opt/anaconda3/lib/python3.7/site-packages/xgboost/data.py:96: UserWarning: Use subset (sliced data) of np.ndarray is not recommended because it will generate extra copies and increase memory consumption\n",
      "  \"because it will generate extra copies and increase \" +\n"
     ]
    },
    {
     "name": "stdout",
     "output_type": "stream",
     "text": [
      "test y shape : (17520, 1)\n",
      "Inv y shape : (17520, 56)\n",
      "y pred shape : (17520, 1)\n",
      "inv y pred : (17520, 56)\n",
      "Run 7 Mean Absolute Error: 0.038524915\n",
      "RMSE: 0.054\n",
      "R^2: 1.000\n",
      "starting df shape: (87600, 56)\n",
      "This is training run 8 and has the shape:  (87600, 56)\n",
      "The value of dropped columns is 40\n"
     ]
    },
    {
     "name": "stderr",
     "output_type": "stream",
     "text": [
      "/Users/alexellard/opt/anaconda3/lib/python3.7/site-packages/xgboost/data.py:96: UserWarning: Use subset (sliced data) of np.ndarray is not recommended because it will generate extra copies and increase memory consumption\n",
      "  \"because it will generate extra copies and increase \" +\n"
     ]
    },
    {
     "name": "stdout",
     "output_type": "stream",
     "text": [
      "test y shape : (17520, 1)\n",
      "Inv y shape : (17520, 56)\n",
      "y pred shape : (17520, 1)\n",
      "inv y pred : (17520, 56)\n",
      "Run 8 Mean Absolute Error: 3.4695585\n",
      "RMSE: 4.824\n",
      "R^2: 1.000\n",
      "starting df shape: (87600, 56)\n",
      "This is training run 9 and has the shape:  (87600, 56)\n",
      "The value of dropped columns is 40\n"
     ]
    },
    {
     "name": "stderr",
     "output_type": "stream",
     "text": [
      "/Users/alexellard/opt/anaconda3/lib/python3.7/site-packages/xgboost/data.py:96: UserWarning: Use subset (sliced data) of np.ndarray is not recommended because it will generate extra copies and increase memory consumption\n",
      "  \"because it will generate extra copies and increase \" +\n"
     ]
    },
    {
     "name": "stdout",
     "output_type": "stream",
     "text": [
      "test y shape : (17520, 1)\n",
      "Inv y shape : (17520, 56)\n",
      "y pred shape : (17520, 1)\n",
      "inv y pred : (17520, 56)\n",
      "Run 9 Mean Absolute Error: 4.5420303\n",
      "RMSE: 6.266\n",
      "R^2: 1.000\n",
      "starting df shape: (87600, 56)\n",
      "This is training run 10 and has the shape:  (87600, 56)\n",
      "The value of dropped columns is 40\n"
     ]
    },
    {
     "name": "stderr",
     "output_type": "stream",
     "text": [
      "/Users/alexellard/opt/anaconda3/lib/python3.7/site-packages/xgboost/data.py:96: UserWarning: Use subset (sliced data) of np.ndarray is not recommended because it will generate extra copies and increase memory consumption\n",
      "  \"because it will generate extra copies and increase \" +\n"
     ]
    },
    {
     "name": "stdout",
     "output_type": "stream",
     "text": [
      "test y shape : (17520, 1)\n",
      "Inv y shape : (17520, 56)\n",
      "y pred shape : (17520, 1)\n",
      "inv y pred : (17520, 56)\n",
      "Run 10 Mean Absolute Error: 5.763553\n",
      "RMSE: 8.350\n",
      "R^2: 1.000\n",
      "starting df shape: (87600, 51)\n",
      "This is training run 1 and has the shape:  (87600, 51)\n",
      "The value of dropped columns is 45\n"
     ]
    },
    {
     "name": "stderr",
     "output_type": "stream",
     "text": [
      "/Users/alexellard/opt/anaconda3/lib/python3.7/site-packages/xgboost/data.py:96: UserWarning: Use subset (sliced data) of np.ndarray is not recommended because it will generate extra copies and increase memory consumption\n",
      "  \"because it will generate extra copies and increase \" +\n"
     ]
    },
    {
     "name": "stdout",
     "output_type": "stream",
     "text": [
      "test y shape : (17520, 1)\n",
      "Inv y shape : (17520, 51)\n",
      "y pred shape : (17520, 1)\n",
      "inv y pred : (17520, 51)\n",
      "Run 1 Mean Absolute Error: 2.8578293\n",
      "RMSE: 4.133\n",
      "R^2: 1.000\n",
      "starting df shape: (87600, 52)\n",
      "This is training run 2 and has the shape:  (87600, 52)\n",
      "The value of dropped columns is 45\n"
     ]
    },
    {
     "name": "stderr",
     "output_type": "stream",
     "text": [
      "/Users/alexellard/opt/anaconda3/lib/python3.7/site-packages/xgboost/data.py:96: UserWarning: Use subset (sliced data) of np.ndarray is not recommended because it will generate extra copies and increase memory consumption\n",
      "  \"because it will generate extra copies and increase \" +\n"
     ]
    },
    {
     "name": "stdout",
     "output_type": "stream",
     "text": [
      "test y shape : (17520, 1)\n",
      "Inv y shape : (17520, 52)\n",
      "y pred shape : (17520, 1)\n",
      "inv y pred : (17520, 52)\n",
      "Run 2 Mean Absolute Error: 0.028268646\n",
      "RMSE: 0.039\n",
      "R^2: 1.000\n",
      "starting df shape: (87600, 52)\n",
      "This is training run 3 and has the shape:  (87600, 52)\n",
      "The value of dropped columns is 45\n"
     ]
    },
    {
     "name": "stderr",
     "output_type": "stream",
     "text": [
      "/Users/alexellard/opt/anaconda3/lib/python3.7/site-packages/xgboost/data.py:96: UserWarning: Use subset (sliced data) of np.ndarray is not recommended because it will generate extra copies and increase memory consumption\n",
      "  \"because it will generate extra copies and increase \" +\n"
     ]
    },
    {
     "name": "stdout",
     "output_type": "stream",
     "text": [
      "test y shape : (17520, 1)\n",
      "Inv y shape : (17520, 52)\n",
      "y pred shape : (17520, 1)\n",
      "inv y pred : (17520, 52)\n",
      "Run 3 Mean Absolute Error: 3.8233252\n",
      "RMSE: 5.268\n",
      "R^2: 1.000\n",
      "starting df shape: (87600, 52)\n",
      "This is training run 4 and has the shape:  (87600, 52)\n",
      "The value of dropped columns is 45\n"
     ]
    },
    {
     "name": "stderr",
     "output_type": "stream",
     "text": [
      "/Users/alexellard/opt/anaconda3/lib/python3.7/site-packages/xgboost/data.py:96: UserWarning: Use subset (sliced data) of np.ndarray is not recommended because it will generate extra copies and increase memory consumption\n",
      "  \"because it will generate extra copies and increase \" +\n"
     ]
    },
    {
     "name": "stdout",
     "output_type": "stream",
     "text": [
      "test y shape : (17520, 1)\n",
      "Inv y shape : (17520, 52)\n",
      "y pred shape : (17520, 1)\n",
      "inv y pred : (17520, 52)\n",
      "Run 4 Mean Absolute Error: 3.2679904\n",
      "RMSE: 4.678\n",
      "R^2: 1.000\n",
      "starting df shape: (87600, 52)\n",
      "This is training run 5 and has the shape:  (87600, 52)\n",
      "The value of dropped columns is 45\n"
     ]
    },
    {
     "name": "stderr",
     "output_type": "stream",
     "text": [
      "/Users/alexellard/opt/anaconda3/lib/python3.7/site-packages/xgboost/data.py:96: UserWarning: Use subset (sliced data) of np.ndarray is not recommended because it will generate extra copies and increase memory consumption\n",
      "  \"because it will generate extra copies and increase \" +\n"
     ]
    },
    {
     "name": "stdout",
     "output_type": "stream",
     "text": [
      "test y shape : (17520, 1)\n",
      "Inv y shape : (17520, 52)\n",
      "y pred shape : (17520, 1)\n",
      "inv y pred : (17520, 52)\n",
      "Run 5 Mean Absolute Error: 6.3305955\n",
      "RMSE: 9.000\n",
      "R^2: 1.000\n",
      "starting df shape: (87600, 51)\n",
      "This is training run 6 and has the shape:  (87600, 51)\n",
      "The value of dropped columns is 45\n"
     ]
    },
    {
     "name": "stderr",
     "output_type": "stream",
     "text": [
      "/Users/alexellard/opt/anaconda3/lib/python3.7/site-packages/xgboost/data.py:96: UserWarning: Use subset (sliced data) of np.ndarray is not recommended because it will generate extra copies and increase memory consumption\n",
      "  \"because it will generate extra copies and increase \" +\n"
     ]
    },
    {
     "name": "stdout",
     "output_type": "stream",
     "text": [
      "test y shape : (17520, 1)\n",
      "Inv y shape : (17520, 51)\n",
      "y pred shape : (17520, 1)\n",
      "inv y pred : (17520, 51)\n",
      "Run 6 Mean Absolute Error: 0.245858\n",
      "RMSE: 0.339\n",
      "R^2: 1.000\n",
      "starting df shape: (87600, 51)\n",
      "This is training run 7 and has the shape:  (87600, 51)\n",
      "The value of dropped columns is 45\n"
     ]
    },
    {
     "name": "stderr",
     "output_type": "stream",
     "text": [
      "/Users/alexellard/opt/anaconda3/lib/python3.7/site-packages/xgboost/data.py:96: UserWarning: Use subset (sliced data) of np.ndarray is not recommended because it will generate extra copies and increase memory consumption\n",
      "  \"because it will generate extra copies and increase \" +\n"
     ]
    },
    {
     "name": "stdout",
     "output_type": "stream",
     "text": [
      "test y shape : (17520, 1)\n",
      "Inv y shape : (17520, 51)\n",
      "y pred shape : (17520, 1)\n",
      "inv y pred : (17520, 51)\n",
      "Run 7 Mean Absolute Error: 7.765919\n",
      "RMSE: 10.622\n",
      "R^2: 1.000\n",
      "starting df shape: (87600, 51)\n",
      "This is training run 8 and has the shape:  (87600, 51)\n",
      "The value of dropped columns is 45\n"
     ]
    },
    {
     "name": "stderr",
     "output_type": "stream",
     "text": [
      "/Users/alexellard/opt/anaconda3/lib/python3.7/site-packages/xgboost/data.py:96: UserWarning: Use subset (sliced data) of np.ndarray is not recommended because it will generate extra copies and increase memory consumption\n",
      "  \"because it will generate extra copies and increase \" +\n"
     ]
    },
    {
     "name": "stdout",
     "output_type": "stream",
     "text": [
      "test y shape : (17520, 1)\n",
      "Inv y shape : (17520, 51)\n",
      "y pred shape : (17520, 1)\n",
      "inv y pred : (17520, 51)\n",
      "Run 8 Mean Absolute Error: 0.026270848\n",
      "RMSE: 0.038\n",
      "R^2: 1.000\n",
      "starting df shape: (87600, 52)\n",
      "This is training run 9 and has the shape:  (87600, 52)\n",
      "The value of dropped columns is 45\n"
     ]
    },
    {
     "name": "stderr",
     "output_type": "stream",
     "text": [
      "/Users/alexellard/opt/anaconda3/lib/python3.7/site-packages/xgboost/data.py:96: UserWarning: Use subset (sliced data) of np.ndarray is not recommended because it will generate extra copies and increase memory consumption\n",
      "  \"because it will generate extra copies and increase \" +\n"
     ]
    },
    {
     "name": "stdout",
     "output_type": "stream",
     "text": [
      "test y shape : (17520, 1)\n",
      "Inv y shape : (17520, 52)\n",
      "y pred shape : (17520, 1)\n",
      "inv y pred : (17520, 52)\n",
      "Run 9 Mean Absolute Error: 0.38473094\n",
      "RMSE: 0.536\n",
      "R^2: 1.000\n",
      "starting df shape: (87600, 52)\n",
      "This is training run 10 and has the shape:  (87600, 52)\n",
      "The value of dropped columns is 45\n"
     ]
    },
    {
     "name": "stderr",
     "output_type": "stream",
     "text": [
      "/Users/alexellard/opt/anaconda3/lib/python3.7/site-packages/xgboost/data.py:96: UserWarning: Use subset (sliced data) of np.ndarray is not recommended because it will generate extra copies and increase memory consumption\n",
      "  \"because it will generate extra copies and increase \" +\n"
     ]
    },
    {
     "name": "stdout",
     "output_type": "stream",
     "text": [
      "test y shape : (17520, 1)\n",
      "Inv y shape : (17520, 52)\n",
      "y pred shape : (17520, 1)\n",
      "inv y pred : (17520, 52)\n",
      "Run 10 Mean Absolute Error: 0.45153743\n",
      "RMSE: 0.608\n",
      "R^2: 1.000\n",
      "starting df shape: (87600, 46)\n",
      "This is training run 1 and has the shape:  (87600, 46)\n",
      "The value of dropped columns is 50\n"
     ]
    },
    {
     "name": "stderr",
     "output_type": "stream",
     "text": [
      "/Users/alexellard/opt/anaconda3/lib/python3.7/site-packages/xgboost/data.py:96: UserWarning: Use subset (sliced data) of np.ndarray is not recommended because it will generate extra copies and increase memory consumption\n",
      "  \"because it will generate extra copies and increase \" +\n"
     ]
    },
    {
     "name": "stdout",
     "output_type": "stream",
     "text": [
      "test y shape : (17520, 1)\n",
      "Inv y shape : (17520, 46)\n",
      "y pred shape : (17520, 1)\n",
      "inv y pred : (17520, 46)\n",
      "Run 1 Mean Absolute Error: 9.492275\n",
      "RMSE: 13.040\n",
      "R^2: 1.000\n",
      "starting df shape: (87600, 46)\n",
      "This is training run 2 and has the shape:  (87600, 46)\n",
      "The value of dropped columns is 50\n"
     ]
    },
    {
     "name": "stderr",
     "output_type": "stream",
     "text": [
      "/Users/alexellard/opt/anaconda3/lib/python3.7/site-packages/xgboost/data.py:96: UserWarning: Use subset (sliced data) of np.ndarray is not recommended because it will generate extra copies and increase memory consumption\n",
      "  \"because it will generate extra copies and increase \" +\n"
     ]
    },
    {
     "name": "stdout",
     "output_type": "stream",
     "text": [
      "test y shape : (17520, 1)\n",
      "Inv y shape : (17520, 46)\n",
      "y pred shape : (17520, 1)\n",
      "inv y pred : (17520, 46)\n",
      "Run 2 Mean Absolute Error: 2.900302\n",
      "RMSE: 4.114\n",
      "R^2: 1.000\n",
      "starting df shape: (87600, 47)\n",
      "This is training run 3 and has the shape:  (87600, 47)\n",
      "The value of dropped columns is 50\n"
     ]
    },
    {
     "name": "stderr",
     "output_type": "stream",
     "text": [
      "/Users/alexellard/opt/anaconda3/lib/python3.7/site-packages/xgboost/data.py:96: UserWarning: Use subset (sliced data) of np.ndarray is not recommended because it will generate extra copies and increase memory consumption\n",
      "  \"because it will generate extra copies and increase \" +\n"
     ]
    },
    {
     "name": "stdout",
     "output_type": "stream",
     "text": [
      "test y shape : (17520, 1)\n",
      "Inv y shape : (17520, 47)\n",
      "y pred shape : (17520, 1)\n",
      "inv y pred : (17520, 47)\n",
      "Run 3 Mean Absolute Error: 0.21352659\n",
      "RMSE: 0.291\n",
      "R^2: 1.000\n",
      "starting df shape: (87600, 47)\n",
      "This is training run 4 and has the shape:  (87600, 47)\n",
      "The value of dropped columns is 50\n"
     ]
    },
    {
     "name": "stderr",
     "output_type": "stream",
     "text": [
      "/Users/alexellard/opt/anaconda3/lib/python3.7/site-packages/xgboost/data.py:96: UserWarning: Use subset (sliced data) of np.ndarray is not recommended because it will generate extra copies and increase memory consumption\n",
      "  \"because it will generate extra copies and increase \" +\n"
     ]
    },
    {
     "name": "stdout",
     "output_type": "stream",
     "text": [
      "test y shape : (17520, 1)\n",
      "Inv y shape : (17520, 47)\n",
      "y pred shape : (17520, 1)\n",
      "inv y pred : (17520, 47)\n",
      "Run 4 Mean Absolute Error: 0.28916144\n",
      "RMSE: 0.390\n",
      "R^2: 1.000\n",
      "starting df shape: (87600, 47)\n",
      "This is training run 5 and has the shape:  (87600, 47)\n",
      "The value of dropped columns is 50\n"
     ]
    },
    {
     "name": "stderr",
     "output_type": "stream",
     "text": [
      "/Users/alexellard/opt/anaconda3/lib/python3.7/site-packages/xgboost/data.py:96: UserWarning: Use subset (sliced data) of np.ndarray is not recommended because it will generate extra copies and increase memory consumption\n",
      "  \"because it will generate extra copies and increase \" +\n"
     ]
    },
    {
     "name": "stdout",
     "output_type": "stream",
     "text": [
      "test y shape : (17520, 1)\n",
      "Inv y shape : (17520, 47)\n",
      "y pred shape : (17520, 1)\n",
      "inv y pred : (17520, 47)\n",
      "Run 5 Mean Absolute Error: 0.16487193\n",
      "RMSE: 0.232\n",
      "R^2: 1.000\n",
      "starting df shape: (87600, 46)\n",
      "This is training run 6 and has the shape:  (87600, 46)\n",
      "The value of dropped columns is 50\n"
     ]
    },
    {
     "name": "stderr",
     "output_type": "stream",
     "text": [
      "/Users/alexellard/opt/anaconda3/lib/python3.7/site-packages/xgboost/data.py:96: UserWarning: Use subset (sliced data) of np.ndarray is not recommended because it will generate extra copies and increase memory consumption\n",
      "  \"because it will generate extra copies and increase \" +\n"
     ]
    },
    {
     "name": "stdout",
     "output_type": "stream",
     "text": [
      "test y shape : (17520, 1)\n",
      "Inv y shape : (17520, 46)\n",
      "y pred shape : (17520, 1)\n",
      "inv y pred : (17520, 46)\n",
      "Run 6 Mean Absolute Error: 0.24738714\n",
      "RMSE: 0.354\n",
      "R^2: 1.000\n",
      "starting df shape: (87600, 47)\n",
      "This is training run 7 and has the shape:  (87600, 47)\n",
      "The value of dropped columns is 50\n"
     ]
    },
    {
     "name": "stderr",
     "output_type": "stream",
     "text": [
      "/Users/alexellard/opt/anaconda3/lib/python3.7/site-packages/xgboost/data.py:96: UserWarning: Use subset (sliced data) of np.ndarray is not recommended because it will generate extra copies and increase memory consumption\n",
      "  \"because it will generate extra copies and increase \" +\n"
     ]
    },
    {
     "name": "stdout",
     "output_type": "stream",
     "text": [
      "test y shape : (17520, 1)\n",
      "Inv y shape : (17520, 47)\n",
      "y pred shape : (17520, 1)\n",
      "inv y pred : (17520, 47)\n",
      "Run 7 Mean Absolute Error: 8.01109\n",
      "RMSE: 10.803\n",
      "R^2: 1.000\n",
      "starting df shape: (87600, 47)\n",
      "This is training run 8 and has the shape:  (87600, 47)\n",
      "The value of dropped columns is 50\n"
     ]
    },
    {
     "name": "stderr",
     "output_type": "stream",
     "text": [
      "/Users/alexellard/opt/anaconda3/lib/python3.7/site-packages/xgboost/data.py:96: UserWarning: Use subset (sliced data) of np.ndarray is not recommended because it will generate extra copies and increase memory consumption\n",
      "  \"because it will generate extra copies and increase \" +\n"
     ]
    },
    {
     "name": "stdout",
     "output_type": "stream",
     "text": [
      "test y shape : (17520, 1)\n",
      "Inv y shape : (17520, 47)\n",
      "y pred shape : (17520, 1)\n",
      "inv y pred : (17520, 47)\n",
      "Run 8 Mean Absolute Error: 3.854717\n",
      "RMSE: 5.441\n",
      "R^2: 1.000\n",
      "starting df shape: (87600, 46)\n",
      "This is training run 9 and has the shape:  (87600, 46)\n",
      "The value of dropped columns is 50\n"
     ]
    },
    {
     "name": "stderr",
     "output_type": "stream",
     "text": [
      "/Users/alexellard/opt/anaconda3/lib/python3.7/site-packages/xgboost/data.py:96: UserWarning: Use subset (sliced data) of np.ndarray is not recommended because it will generate extra copies and increase memory consumption\n",
      "  \"because it will generate extra copies and increase \" +\n"
     ]
    },
    {
     "name": "stdout",
     "output_type": "stream",
     "text": [
      "test y shape : (17520, 1)\n",
      "Inv y shape : (17520, 46)\n",
      "y pred shape : (17520, 1)\n",
      "inv y pred : (17520, 46)\n",
      "Run 9 Mean Absolute Error: 0.026005354\n",
      "RMSE: 0.037\n",
      "R^2: 1.000\n",
      "starting df shape: (87600, 46)\n",
      "This is training run 10 and has the shape:  (87600, 46)\n",
      "The value of dropped columns is 50\n"
     ]
    },
    {
     "name": "stderr",
     "output_type": "stream",
     "text": [
      "/Users/alexellard/opt/anaconda3/lib/python3.7/site-packages/xgboost/data.py:96: UserWarning: Use subset (sliced data) of np.ndarray is not recommended because it will generate extra copies and increase memory consumption\n",
      "  \"because it will generate extra copies and increase \" +\n"
     ]
    },
    {
     "name": "stdout",
     "output_type": "stream",
     "text": [
      "test y shape : (17520, 1)\n",
      "Inv y shape : (17520, 46)\n",
      "y pred shape : (17520, 1)\n",
      "inv y pred : (17520, 46)\n",
      "Run 10 Mean Absolute Error: 4.254585\n",
      "RMSE: 5.861\n",
      "R^2: 1.000\n",
      "starting df shape: (87600, 41)\n",
      "This is training run 1 and has the shape:  (87600, 41)\n",
      "The value of dropped columns is 55\n"
     ]
    },
    {
     "name": "stderr",
     "output_type": "stream",
     "text": [
      "/Users/alexellard/opt/anaconda3/lib/python3.7/site-packages/xgboost/data.py:96: UserWarning: Use subset (sliced data) of np.ndarray is not recommended because it will generate extra copies and increase memory consumption\n",
      "  \"because it will generate extra copies and increase \" +\n"
     ]
    },
    {
     "name": "stdout",
     "output_type": "stream",
     "text": [
      "test y shape : (17520, 1)\n",
      "Inv y shape : (17520, 41)\n",
      "y pred shape : (17520, 1)\n",
      "inv y pred : (17520, 41)\n",
      "Run 1 Mean Absolute Error: 5.4298596\n",
      "RMSE: 7.902\n",
      "R^2: 1.000\n",
      "starting df shape: (87600, 42)\n",
      "This is training run 2 and has the shape:  (87600, 42)\n",
      "The value of dropped columns is 55\n"
     ]
    },
    {
     "name": "stderr",
     "output_type": "stream",
     "text": [
      "/Users/alexellard/opt/anaconda3/lib/python3.7/site-packages/xgboost/data.py:96: UserWarning: Use subset (sliced data) of np.ndarray is not recommended because it will generate extra copies and increase memory consumption\n",
      "  \"because it will generate extra copies and increase \" +\n"
     ]
    },
    {
     "name": "stdout",
     "output_type": "stream",
     "text": [
      "test y shape : (17520, 1)\n",
      "Inv y shape : (17520, 42)\n",
      "y pred shape : (17520, 1)\n",
      "inv y pred : (17520, 42)\n",
      "Run 2 Mean Absolute Error: 0.49013788\n",
      "RMSE: 0.663\n",
      "R^2: 1.000\n",
      "starting df shape: (87600, 42)\n",
      "This is training run 3 and has the shape:  (87600, 42)\n",
      "The value of dropped columns is 55\n"
     ]
    },
    {
     "name": "stderr",
     "output_type": "stream",
     "text": [
      "/Users/alexellard/opt/anaconda3/lib/python3.7/site-packages/xgboost/data.py:96: UserWarning: Use subset (sliced data) of np.ndarray is not recommended because it will generate extra copies and increase memory consumption\n",
      "  \"because it will generate extra copies and increase \" +\n"
     ]
    },
    {
     "name": "stdout",
     "output_type": "stream",
     "text": [
      "test y shape : (17520, 1)\n",
      "Inv y shape : (17520, 42)\n",
      "y pred shape : (17520, 1)\n",
      "inv y pred : (17520, 42)\n",
      "Run 3 Mean Absolute Error: 0.45579576\n",
      "RMSE: 0.631\n",
      "R^2: 1.000\n",
      "starting df shape: (87600, 42)\n",
      "This is training run 4 and has the shape:  (87600, 42)\n",
      "The value of dropped columns is 55\n"
     ]
    },
    {
     "name": "stderr",
     "output_type": "stream",
     "text": [
      "/Users/alexellard/opt/anaconda3/lib/python3.7/site-packages/xgboost/data.py:96: UserWarning: Use subset (sliced data) of np.ndarray is not recommended because it will generate extra copies and increase memory consumption\n",
      "  \"because it will generate extra copies and increase \" +\n"
     ]
    },
    {
     "name": "stdout",
     "output_type": "stream",
     "text": [
      "test y shape : (17520, 1)\n",
      "Inv y shape : (17520, 42)\n",
      "y pred shape : (17520, 1)\n",
      "inv y pred : (17520, 42)\n",
      "Run 4 Mean Absolute Error: 0.29652855\n",
      "RMSE: 0.415\n",
      "R^2: 1.000\n",
      "starting df shape: (87600, 42)\n",
      "This is training run 5 and has the shape:  (87600, 42)\n",
      "The value of dropped columns is 55\n"
     ]
    },
    {
     "name": "stderr",
     "output_type": "stream",
     "text": [
      "/Users/alexellard/opt/anaconda3/lib/python3.7/site-packages/xgboost/data.py:96: UserWarning: Use subset (sliced data) of np.ndarray is not recommended because it will generate extra copies and increase memory consumption\n",
      "  \"because it will generate extra copies and increase \" +\n"
     ]
    },
    {
     "name": "stdout",
     "output_type": "stream",
     "text": [
      "test y shape : (17520, 1)\n",
      "Inv y shape : (17520, 42)\n",
      "y pred shape : (17520, 1)\n",
      "inv y pred : (17520, 42)\n",
      "Run 5 Mean Absolute Error: 0.030862078\n",
      "RMSE: 0.044\n",
      "R^2: 1.000\n",
      "starting df shape: (87600, 42)\n",
      "This is training run 6 and has the shape:  (87600, 42)\n",
      "The value of dropped columns is 55\n"
     ]
    },
    {
     "name": "stderr",
     "output_type": "stream",
     "text": [
      "/Users/alexellard/opt/anaconda3/lib/python3.7/site-packages/xgboost/data.py:96: UserWarning: Use subset (sliced data) of np.ndarray is not recommended because it will generate extra copies and increase memory consumption\n",
      "  \"because it will generate extra copies and increase \" +\n"
     ]
    },
    {
     "name": "stdout",
     "output_type": "stream",
     "text": [
      "test y shape : (17520, 1)\n",
      "Inv y shape : (17520, 42)\n",
      "y pred shape : (17520, 1)\n",
      "inv y pred : (17520, 42)\n",
      "Run 6 Mean Absolute Error: 5.120368\n",
      "RMSE: 7.040\n",
      "R^2: 1.000\n",
      "starting df shape: (87600, 42)\n",
      "This is training run 7 and has the shape:  (87600, 42)\n",
      "The value of dropped columns is 55\n"
     ]
    },
    {
     "name": "stderr",
     "output_type": "stream",
     "text": [
      "/Users/alexellard/opt/anaconda3/lib/python3.7/site-packages/xgboost/data.py:96: UserWarning: Use subset (sliced data) of np.ndarray is not recommended because it will generate extra copies and increase memory consumption\n",
      "  \"because it will generate extra copies and increase \" +\n"
     ]
    },
    {
     "name": "stdout",
     "output_type": "stream",
     "text": [
      "test y shape : (17520, 1)\n",
      "Inv y shape : (17520, 42)\n",
      "y pred shape : (17520, 1)\n",
      "inv y pred : (17520, 42)\n",
      "Run 7 Mean Absolute Error: 6.111914\n",
      "RMSE: 8.554\n",
      "R^2: 1.000\n",
      "starting df shape: (87600, 41)\n",
      "This is training run 8 and has the shape:  (87600, 41)\n",
      "The value of dropped columns is 55\n"
     ]
    },
    {
     "name": "stderr",
     "output_type": "stream",
     "text": [
      "/Users/alexellard/opt/anaconda3/lib/python3.7/site-packages/xgboost/data.py:96: UserWarning: Use subset (sliced data) of np.ndarray is not recommended because it will generate extra copies and increase memory consumption\n",
      "  \"because it will generate extra copies and increase \" +\n"
     ]
    },
    {
     "name": "stdout",
     "output_type": "stream",
     "text": [
      "test y shape : (17520, 1)\n",
      "Inv y shape : (17520, 41)\n",
      "y pred shape : (17520, 1)\n",
      "inv y pred : (17520, 41)\n",
      "Run 8 Mean Absolute Error: 4.3249493\n",
      "RMSE: 5.940\n",
      "R^2: 1.000\n",
      "starting df shape: (87600, 42)\n",
      "This is training run 9 and has the shape:  (87600, 42)\n",
      "The value of dropped columns is 55\n"
     ]
    },
    {
     "name": "stderr",
     "output_type": "stream",
     "text": [
      "/Users/alexellard/opt/anaconda3/lib/python3.7/site-packages/xgboost/data.py:96: UserWarning: Use subset (sliced data) of np.ndarray is not recommended because it will generate extra copies and increase memory consumption\n",
      "  \"because it will generate extra copies and increase \" +\n"
     ]
    },
    {
     "name": "stdout",
     "output_type": "stream",
     "text": [
      "test y shape : (17520, 1)\n",
      "Inv y shape : (17520, 42)\n",
      "y pred shape : (17520, 1)\n",
      "inv y pred : (17520, 42)\n",
      "Run 9 Mean Absolute Error: 0.28575265\n",
      "RMSE: 0.401\n",
      "R^2: 1.000\n",
      "starting df shape: (87600, 41)\n",
      "This is training run 10 and has the shape:  (87600, 41)\n",
      "The value of dropped columns is 55\n"
     ]
    },
    {
     "name": "stderr",
     "output_type": "stream",
     "text": [
      "/Users/alexellard/opt/anaconda3/lib/python3.7/site-packages/xgboost/data.py:96: UserWarning: Use subset (sliced data) of np.ndarray is not recommended because it will generate extra copies and increase memory consumption\n",
      "  \"because it will generate extra copies and increase \" +\n"
     ]
    },
    {
     "name": "stdout",
     "output_type": "stream",
     "text": [
      "test y shape : (17520, 1)\n",
      "Inv y shape : (17520, 41)\n",
      "y pred shape : (17520, 1)\n",
      "inv y pred : (17520, 41)\n",
      "Run 10 Mean Absolute Error: 0.13973992\n",
      "RMSE: 0.207\n",
      "R^2: 1.000\n",
      "starting df shape: (87600, 36)\n",
      "This is training run 1 and has the shape:  (87600, 36)\n",
      "The value of dropped columns is 60\n"
     ]
    },
    {
     "name": "stderr",
     "output_type": "stream",
     "text": [
      "/Users/alexellard/opt/anaconda3/lib/python3.7/site-packages/xgboost/data.py:96: UserWarning: Use subset (sliced data) of np.ndarray is not recommended because it will generate extra copies and increase memory consumption\n",
      "  \"because it will generate extra copies and increase \" +\n"
     ]
    },
    {
     "name": "stdout",
     "output_type": "stream",
     "text": [
      "test y shape : (17520, 1)\n",
      "Inv y shape : (17520, 36)\n",
      "y pred shape : (17520, 1)\n",
      "inv y pred : (17520, 36)\n",
      "Run 1 Mean Absolute Error: 3.124863\n",
      "RMSE: 4.409\n",
      "R^2: 1.000\n",
      "starting df shape: (87600, 37)\n",
      "This is training run 2 and has the shape:  (87600, 37)\n",
      "The value of dropped columns is 60\n"
     ]
    },
    {
     "name": "stderr",
     "output_type": "stream",
     "text": [
      "/Users/alexellard/opt/anaconda3/lib/python3.7/site-packages/xgboost/data.py:96: UserWarning: Use subset (sliced data) of np.ndarray is not recommended because it will generate extra copies and increase memory consumption\n",
      "  \"because it will generate extra copies and increase \" +\n"
     ]
    },
    {
     "name": "stdout",
     "output_type": "stream",
     "text": [
      "test y shape : (17520, 1)\n",
      "Inv y shape : (17520, 37)\n",
      "y pred shape : (17520, 1)\n",
      "inv y pred : (17520, 37)\n",
      "Run 2 Mean Absolute Error: 6.9314747\n",
      "RMSE: 10.196\n",
      "R^2: 1.000\n",
      "starting df shape: (87600, 36)\n",
      "This is training run 3 and has the shape:  (87600, 36)\n",
      "The value of dropped columns is 60\n"
     ]
    },
    {
     "name": "stderr",
     "output_type": "stream",
     "text": [
      "/Users/alexellard/opt/anaconda3/lib/python3.7/site-packages/xgboost/data.py:96: UserWarning: Use subset (sliced data) of np.ndarray is not recommended because it will generate extra copies and increase memory consumption\n",
      "  \"because it will generate extra copies and increase \" +\n"
     ]
    },
    {
     "name": "stdout",
     "output_type": "stream",
     "text": [
      "test y shape : (17520, 1)\n",
      "Inv y shape : (17520, 36)\n",
      "y pred shape : (17520, 1)\n",
      "inv y pred : (17520, 36)\n",
      "Run 3 Mean Absolute Error: 0.29288915\n",
      "RMSE: 0.416\n",
      "R^2: 1.000\n",
      "starting df shape: (87600, 37)\n",
      "This is training run 4 and has the shape:  (87600, 37)\n",
      "The value of dropped columns is 60\n"
     ]
    },
    {
     "name": "stderr",
     "output_type": "stream",
     "text": [
      "/Users/alexellard/opt/anaconda3/lib/python3.7/site-packages/xgboost/data.py:96: UserWarning: Use subset (sliced data) of np.ndarray is not recommended because it will generate extra copies and increase memory consumption\n",
      "  \"because it will generate extra copies and increase \" +\n"
     ]
    },
    {
     "name": "stdout",
     "output_type": "stream",
     "text": [
      "test y shape : (17520, 1)\n",
      "Inv y shape : (17520, 37)\n",
      "y pred shape : (17520, 1)\n",
      "inv y pred : (17520, 37)\n",
      "Run 4 Mean Absolute Error: 0.43075523\n",
      "RMSE: 0.586\n",
      "R^2: 1.000\n",
      "starting df shape: (87600, 36)\n",
      "This is training run 5 and has the shape:  (87600, 36)\n",
      "The value of dropped columns is 60\n"
     ]
    },
    {
     "name": "stderr",
     "output_type": "stream",
     "text": [
      "/Users/alexellard/opt/anaconda3/lib/python3.7/site-packages/xgboost/data.py:96: UserWarning: Use subset (sliced data) of np.ndarray is not recommended because it will generate extra copies and increase memory consumption\n",
      "  \"because it will generate extra copies and increase \" +\n"
     ]
    },
    {
     "name": "stdout",
     "output_type": "stream",
     "text": [
      "test y shape : (17520, 1)\n",
      "Inv y shape : (17520, 36)\n",
      "y pred shape : (17520, 1)\n",
      "inv y pred : (17520, 36)\n",
      "Run 5 Mean Absolute Error: 0.19535747\n",
      "RMSE: 0.277\n",
      "R^2: 1.000\n",
      "starting df shape: (87600, 36)\n",
      "This is training run 6 and has the shape:  (87600, 36)\n",
      "The value of dropped columns is 60\n"
     ]
    },
    {
     "name": "stderr",
     "output_type": "stream",
     "text": [
      "/Users/alexellard/opt/anaconda3/lib/python3.7/site-packages/xgboost/data.py:96: UserWarning: Use subset (sliced data) of np.ndarray is not recommended because it will generate extra copies and increase memory consumption\n",
      "  \"because it will generate extra copies and increase \" +\n"
     ]
    },
    {
     "name": "stdout",
     "output_type": "stream",
     "text": [
      "test y shape : (17520, 1)\n",
      "Inv y shape : (17520, 36)\n",
      "y pred shape : (17520, 1)\n",
      "inv y pred : (17520, 36)\n",
      "Run 6 Mean Absolute Error: 0.29750255\n",
      "RMSE: 0.402\n",
      "R^2: 1.000\n",
      "starting df shape: (87600, 37)\n",
      "This is training run 7 and has the shape:  (87600, 37)\n",
      "The value of dropped columns is 60\n"
     ]
    },
    {
     "name": "stderr",
     "output_type": "stream",
     "text": [
      "/Users/alexellard/opt/anaconda3/lib/python3.7/site-packages/xgboost/data.py:96: UserWarning: Use subset (sliced data) of np.ndarray is not recommended because it will generate extra copies and increase memory consumption\n",
      "  \"because it will generate extra copies and increase \" +\n"
     ]
    },
    {
     "name": "stdout",
     "output_type": "stream",
     "text": [
      "test y shape : (17520, 1)\n",
      "Inv y shape : (17520, 37)\n",
      "y pred shape : (17520, 1)\n",
      "inv y pred : (17520, 37)\n",
      "Run 7 Mean Absolute Error: 0.5211794\n",
      "RMSE: 0.703\n",
      "R^2: 1.000\n",
      "starting df shape: (87600, 36)\n",
      "This is training run 8 and has the shape:  (87600, 36)\n",
      "The value of dropped columns is 60\n"
     ]
    },
    {
     "name": "stderr",
     "output_type": "stream",
     "text": [
      "/Users/alexellard/opt/anaconda3/lib/python3.7/site-packages/xgboost/data.py:96: UserWarning: Use subset (sliced data) of np.ndarray is not recommended because it will generate extra copies and increase memory consumption\n",
      "  \"because it will generate extra copies and increase \" +\n"
     ]
    },
    {
     "name": "stdout",
     "output_type": "stream",
     "text": [
      "test y shape : (17520, 1)\n",
      "Inv y shape : (17520, 36)\n",
      "y pred shape : (17520, 1)\n",
      "inv y pred : (17520, 36)\n",
      "Run 8 Mean Absolute Error: 0.22928768\n",
      "RMSE: 0.318\n",
      "R^2: 1.000\n",
      "starting df shape: (87600, 36)\n",
      "This is training run 9 and has the shape:  (87600, 36)\n",
      "The value of dropped columns is 60\n"
     ]
    },
    {
     "name": "stderr",
     "output_type": "stream",
     "text": [
      "/Users/alexellard/opt/anaconda3/lib/python3.7/site-packages/xgboost/data.py:96: UserWarning: Use subset (sliced data) of np.ndarray is not recommended because it will generate extra copies and increase memory consumption\n",
      "  \"because it will generate extra copies and increase \" +\n"
     ]
    },
    {
     "name": "stdout",
     "output_type": "stream",
     "text": [
      "test y shape : (17520, 1)\n",
      "Inv y shape : (17520, 36)\n",
      "y pred shape : (17520, 1)\n",
      "inv y pred : (17520, 36)\n",
      "Run 9 Mean Absolute Error: 0.5843974\n",
      "RMSE: 0.791\n",
      "R^2: 1.000\n",
      "starting df shape: (87600, 37)\n",
      "This is training run 10 and has the shape:  (87600, 37)\n",
      "The value of dropped columns is 60\n"
     ]
    },
    {
     "name": "stderr",
     "output_type": "stream",
     "text": [
      "/Users/alexellard/opt/anaconda3/lib/python3.7/site-packages/xgboost/data.py:96: UserWarning: Use subset (sliced data) of np.ndarray is not recommended because it will generate extra copies and increase memory consumption\n",
      "  \"because it will generate extra copies and increase \" +\n"
     ]
    },
    {
     "name": "stdout",
     "output_type": "stream",
     "text": [
      "test y shape : (17520, 1)\n",
      "Inv y shape : (17520, 37)\n",
      "y pred shape : (17520, 1)\n",
      "inv y pred : (17520, 37)\n",
      "Run 10 Mean Absolute Error: 0.05823356\n",
      "RMSE: 0.081\n",
      "R^2: 1.000\n",
      "starting df shape: (87600, 31)\n",
      "This is training run 1 and has the shape:  (87600, 31)\n",
      "The value of dropped columns is 65\n"
     ]
    },
    {
     "name": "stderr",
     "output_type": "stream",
     "text": [
      "/Users/alexellard/opt/anaconda3/lib/python3.7/site-packages/xgboost/data.py:96: UserWarning: Use subset (sliced data) of np.ndarray is not recommended because it will generate extra copies and increase memory consumption\n",
      "  \"because it will generate extra copies and increase \" +\n"
     ]
    },
    {
     "name": "stdout",
     "output_type": "stream",
     "text": [
      "test y shape : (17520, 1)\n",
      "Inv y shape : (17520, 31)\n",
      "y pred shape : (17520, 1)\n",
      "inv y pred : (17520, 31)\n",
      "Run 1 Mean Absolute Error: 0.029000605\n",
      "RMSE: 0.041\n",
      "R^2: 1.000\n",
      "starting df shape: (87600, 31)\n",
      "This is training run 2 and has the shape:  (87600, 31)\n",
      "The value of dropped columns is 65\n"
     ]
    },
    {
     "name": "stderr",
     "output_type": "stream",
     "text": [
      "/Users/alexellard/opt/anaconda3/lib/python3.7/site-packages/xgboost/data.py:96: UserWarning: Use subset (sliced data) of np.ndarray is not recommended because it will generate extra copies and increase memory consumption\n",
      "  \"because it will generate extra copies and increase \" +\n"
     ]
    },
    {
     "name": "stdout",
     "output_type": "stream",
     "text": [
      "test y shape : (17520, 1)\n",
      "Inv y shape : (17520, 31)\n",
      "y pred shape : (17520, 1)\n",
      "inv y pred : (17520, 31)\n",
      "Run 2 Mean Absolute Error: 0.53321093\n",
      "RMSE: 0.734\n",
      "R^2: 1.000\n",
      "starting df shape: (87600, 32)\n",
      "This is training run 3 and has the shape:  (87600, 32)\n",
      "The value of dropped columns is 65\n"
     ]
    },
    {
     "name": "stderr",
     "output_type": "stream",
     "text": [
      "/Users/alexellard/opt/anaconda3/lib/python3.7/site-packages/xgboost/data.py:96: UserWarning: Use subset (sliced data) of np.ndarray is not recommended because it will generate extra copies and increase memory consumption\n",
      "  \"because it will generate extra copies and increase \" +\n"
     ]
    },
    {
     "name": "stdout",
     "output_type": "stream",
     "text": [
      "test y shape : (17520, 1)\n",
      "Inv y shape : (17520, 32)\n",
      "y pred shape : (17520, 1)\n",
      "inv y pred : (17520, 32)\n",
      "Run 3 Mean Absolute Error: 5.0705175\n",
      "RMSE: 6.887\n",
      "R^2: 1.000\n",
      "starting df shape: (87600, 31)\n",
      "This is training run 4 and has the shape:  (87600, 31)\n",
      "The value of dropped columns is 65\n"
     ]
    },
    {
     "name": "stderr",
     "output_type": "stream",
     "text": [
      "/Users/alexellard/opt/anaconda3/lib/python3.7/site-packages/xgboost/data.py:96: UserWarning: Use subset (sliced data) of np.ndarray is not recommended because it will generate extra copies and increase memory consumption\n",
      "  \"because it will generate extra copies and increase \" +\n"
     ]
    },
    {
     "name": "stdout",
     "output_type": "stream",
     "text": [
      "test y shape : (17520, 1)\n",
      "Inv y shape : (17520, 31)\n",
      "y pred shape : (17520, 1)\n",
      "inv y pred : (17520, 31)\n",
      "Run 4 Mean Absolute Error: 4.716564\n",
      "RMSE: 6.369\n",
      "R^2: 1.000\n",
      "starting df shape: (87600, 31)\n",
      "This is training run 5 and has the shape:  (87600, 31)\n",
      "The value of dropped columns is 65\n"
     ]
    },
    {
     "name": "stderr",
     "output_type": "stream",
     "text": [
      "/Users/alexellard/opt/anaconda3/lib/python3.7/site-packages/xgboost/data.py:96: UserWarning: Use subset (sliced data) of np.ndarray is not recommended because it will generate extra copies and increase memory consumption\n",
      "  \"because it will generate extra copies and increase \" +\n"
     ]
    },
    {
     "name": "stdout",
     "output_type": "stream",
     "text": [
      "test y shape : (17520, 1)\n",
      "Inv y shape : (17520, 31)\n",
      "y pred shape : (17520, 1)\n",
      "inv y pred : (17520, 31)\n",
      "Run 5 Mean Absolute Error: 0.16358913\n",
      "RMSE: 0.234\n",
      "R^2: 1.000\n",
      "starting df shape: (87600, 32)\n",
      "This is training run 6 and has the shape:  (87600, 32)\n",
      "The value of dropped columns is 65\n"
     ]
    },
    {
     "name": "stderr",
     "output_type": "stream",
     "text": [
      "/Users/alexellard/opt/anaconda3/lib/python3.7/site-packages/xgboost/data.py:96: UserWarning: Use subset (sliced data) of np.ndarray is not recommended because it will generate extra copies and increase memory consumption\n",
      "  \"because it will generate extra copies and increase \" +\n"
     ]
    },
    {
     "name": "stdout",
     "output_type": "stream",
     "text": [
      "test y shape : (17520, 1)\n",
      "Inv y shape : (17520, 32)\n",
      "y pred shape : (17520, 1)\n",
      "inv y pred : (17520, 32)\n",
      "Run 6 Mean Absolute Error: 0.15740764\n",
      "RMSE: 0.227\n",
      "R^2: 1.000\n",
      "starting df shape: (87600, 32)\n",
      "This is training run 7 and has the shape:  (87600, 32)\n",
      "The value of dropped columns is 65\n"
     ]
    },
    {
     "name": "stderr",
     "output_type": "stream",
     "text": [
      "/Users/alexellard/opt/anaconda3/lib/python3.7/site-packages/xgboost/data.py:96: UserWarning: Use subset (sliced data) of np.ndarray is not recommended because it will generate extra copies and increase memory consumption\n",
      "  \"because it will generate extra copies and increase \" +\n"
     ]
    },
    {
     "name": "stdout",
     "output_type": "stream",
     "text": [
      "test y shape : (17520, 1)\n",
      "Inv y shape : (17520, 32)\n",
      "y pred shape : (17520, 1)\n",
      "inv y pred : (17520, 32)\n",
      "Run 7 Mean Absolute Error: 6.0438676\n",
      "RMSE: 9.007\n",
      "R^2: 1.000\n",
      "starting df shape: (87600, 32)\n",
      "This is training run 8 and has the shape:  (87600, 32)\n",
      "The value of dropped columns is 65\n"
     ]
    },
    {
     "name": "stderr",
     "output_type": "stream",
     "text": [
      "/Users/alexellard/opt/anaconda3/lib/python3.7/site-packages/xgboost/data.py:96: UserWarning: Use subset (sliced data) of np.ndarray is not recommended because it will generate extra copies and increase memory consumption\n",
      "  \"because it will generate extra copies and increase \" +\n"
     ]
    },
    {
     "name": "stdout",
     "output_type": "stream",
     "text": [
      "test y shape : (17520, 1)\n",
      "Inv y shape : (17520, 32)\n",
      "y pred shape : (17520, 1)\n",
      "inv y pred : (17520, 32)\n",
      "Run 8 Mean Absolute Error: 0.19796042\n",
      "RMSE: 0.281\n",
      "R^2: 1.000\n",
      "starting df shape: (87600, 32)\n",
      "This is training run 9 and has the shape:  (87600, 32)\n",
      "The value of dropped columns is 65\n"
     ]
    },
    {
     "name": "stderr",
     "output_type": "stream",
     "text": [
      "/Users/alexellard/opt/anaconda3/lib/python3.7/site-packages/xgboost/data.py:96: UserWarning: Use subset (sliced data) of np.ndarray is not recommended because it will generate extra copies and increase memory consumption\n",
      "  \"because it will generate extra copies and increase \" +\n"
     ]
    },
    {
     "name": "stdout",
     "output_type": "stream",
     "text": [
      "test y shape : (17520, 1)\n",
      "Inv y shape : (17520, 32)\n",
      "y pred shape : (17520, 1)\n",
      "inv y pred : (17520, 32)\n",
      "Run 9 Mean Absolute Error: 0.51711273\n",
      "RMSE: 0.704\n",
      "R^2: 1.000\n",
      "starting df shape: (87600, 31)\n",
      "This is training run 10 and has the shape:  (87600, 31)\n",
      "The value of dropped columns is 65\n"
     ]
    },
    {
     "name": "stderr",
     "output_type": "stream",
     "text": [
      "/Users/alexellard/opt/anaconda3/lib/python3.7/site-packages/xgboost/data.py:96: UserWarning: Use subset (sliced data) of np.ndarray is not recommended because it will generate extra copies and increase memory consumption\n",
      "  \"because it will generate extra copies and increase \" +\n"
     ]
    },
    {
     "name": "stdout",
     "output_type": "stream",
     "text": [
      "test y shape : (17520, 1)\n",
      "Inv y shape : (17520, 31)\n",
      "y pred shape : (17520, 1)\n",
      "inv y pred : (17520, 31)\n",
      "Run 10 Mean Absolute Error: 9.467088\n",
      "RMSE: 12.591\n",
      "R^2: 1.000\n",
      "starting df shape: (87600, 27)\n",
      "This is training run 1 and has the shape:  (87600, 27)\n",
      "The value of dropped columns is 70\n"
     ]
    },
    {
     "name": "stderr",
     "output_type": "stream",
     "text": [
      "/Users/alexellard/opt/anaconda3/lib/python3.7/site-packages/xgboost/data.py:96: UserWarning: Use subset (sliced data) of np.ndarray is not recommended because it will generate extra copies and increase memory consumption\n",
      "  \"because it will generate extra copies and increase \" +\n"
     ]
    },
    {
     "name": "stdout",
     "output_type": "stream",
     "text": [
      "test y shape : (17520, 1)\n",
      "Inv y shape : (17520, 27)\n",
      "y pred shape : (17520, 1)\n",
      "inv y pred : (17520, 27)\n",
      "Run 1 Mean Absolute Error: 0.26215768\n",
      "RMSE: 0.372\n",
      "R^2: 1.000\n",
      "starting df shape: (87600, 27)\n",
      "This is training run 2 and has the shape:  (87600, 27)\n",
      "The value of dropped columns is 70\n"
     ]
    },
    {
     "name": "stderr",
     "output_type": "stream",
     "text": [
      "/Users/alexellard/opt/anaconda3/lib/python3.7/site-packages/xgboost/data.py:96: UserWarning: Use subset (sliced data) of np.ndarray is not recommended because it will generate extra copies and increase memory consumption\n",
      "  \"because it will generate extra copies and increase \" +\n"
     ]
    },
    {
     "name": "stdout",
     "output_type": "stream",
     "text": [
      "test y shape : (17520, 1)\n",
      "Inv y shape : (17520, 27)\n",
      "y pred shape : (17520, 1)\n",
      "inv y pred : (17520, 27)\n",
      "Run 2 Mean Absolute Error: 0.05530242\n",
      "RMSE: 0.075\n",
      "R^2: 1.000\n",
      "starting df shape: (87600, 27)\n",
      "This is training run 3 and has the shape:  (87600, 27)\n",
      "The value of dropped columns is 70\n"
     ]
    },
    {
     "name": "stderr",
     "output_type": "stream",
     "text": [
      "/Users/alexellard/opt/anaconda3/lib/python3.7/site-packages/xgboost/data.py:96: UserWarning: Use subset (sliced data) of np.ndarray is not recommended because it will generate extra copies and increase memory consumption\n",
      "  \"because it will generate extra copies and increase \" +\n"
     ]
    },
    {
     "name": "stdout",
     "output_type": "stream",
     "text": [
      "test y shape : (17520, 1)\n",
      "Inv y shape : (17520, 27)\n",
      "y pred shape : (17520, 1)\n",
      "inv y pred : (17520, 27)\n",
      "Run 3 Mean Absolute Error: 0.12377733\n",
      "RMSE: 0.169\n",
      "R^2: 1.000\n",
      "starting df shape: (87600, 27)\n",
      "This is training run 4 and has the shape:  (87600, 27)\n",
      "The value of dropped columns is 70\n"
     ]
    },
    {
     "name": "stderr",
     "output_type": "stream",
     "text": [
      "/Users/alexellard/opt/anaconda3/lib/python3.7/site-packages/xgboost/data.py:96: UserWarning: Use subset (sliced data) of np.ndarray is not recommended because it will generate extra copies and increase memory consumption\n",
      "  \"because it will generate extra copies and increase \" +\n"
     ]
    },
    {
     "name": "stdout",
     "output_type": "stream",
     "text": [
      "test y shape : (17520, 1)\n",
      "Inv y shape : (17520, 27)\n",
      "y pred shape : (17520, 1)\n",
      "inv y pred : (17520, 27)\n",
      "Run 4 Mean Absolute Error: 6.918013\n",
      "RMSE: 9.448\n",
      "R^2: 1.000\n",
      "starting df shape: (87600, 27)\n",
      "This is training run 5 and has the shape:  (87600, 27)\n",
      "The value of dropped columns is 70\n"
     ]
    },
    {
     "name": "stderr",
     "output_type": "stream",
     "text": [
      "/Users/alexellard/opt/anaconda3/lib/python3.7/site-packages/xgboost/data.py:96: UserWarning: Use subset (sliced data) of np.ndarray is not recommended because it will generate extra copies and increase memory consumption\n",
      "  \"because it will generate extra copies and increase \" +\n"
     ]
    },
    {
     "name": "stdout",
     "output_type": "stream",
     "text": [
      "test y shape : (17520, 1)\n",
      "Inv y shape : (17520, 27)\n",
      "y pred shape : (17520, 1)\n",
      "inv y pred : (17520, 27)\n",
      "Run 5 Mean Absolute Error: 0.78639936\n",
      "RMSE: 1.078\n",
      "R^2: 1.000\n",
      "starting df shape: (87600, 27)\n",
      "This is training run 6 and has the shape:  (87600, 27)\n",
      "The value of dropped columns is 70\n"
     ]
    },
    {
     "name": "stderr",
     "output_type": "stream",
     "text": [
      "/Users/alexellard/opt/anaconda3/lib/python3.7/site-packages/xgboost/data.py:96: UserWarning: Use subset (sliced data) of np.ndarray is not recommended because it will generate extra copies and increase memory consumption\n",
      "  \"because it will generate extra copies and increase \" +\n"
     ]
    },
    {
     "name": "stdout",
     "output_type": "stream",
     "text": [
      "test y shape : (17520, 1)\n",
      "Inv y shape : (17520, 27)\n",
      "y pred shape : (17520, 1)\n",
      "inv y pred : (17520, 27)\n",
      "Run 6 Mean Absolute Error: 0.24547473\n",
      "RMSE: 0.339\n",
      "R^2: 1.000\n",
      "starting df shape: (87600, 26)\n",
      "This is training run 7 and has the shape:  (87600, 26)\n",
      "The value of dropped columns is 70\n"
     ]
    },
    {
     "name": "stderr",
     "output_type": "stream",
     "text": [
      "/Users/alexellard/opt/anaconda3/lib/python3.7/site-packages/xgboost/data.py:96: UserWarning: Use subset (sliced data) of np.ndarray is not recommended because it will generate extra copies and increase memory consumption\n",
      "  \"because it will generate extra copies and increase \" +\n"
     ]
    },
    {
     "name": "stdout",
     "output_type": "stream",
     "text": [
      "test y shape : (17520, 1)\n",
      "Inv y shape : (17520, 26)\n",
      "y pred shape : (17520, 1)\n",
      "inv y pred : (17520, 26)\n",
      "Run 7 Mean Absolute Error: 0.18966913\n",
      "RMSE: 0.259\n",
      "R^2: 1.000\n",
      "starting df shape: (87600, 27)\n",
      "This is training run 8 and has the shape:  (87600, 27)\n",
      "The value of dropped columns is 70\n"
     ]
    },
    {
     "name": "stderr",
     "output_type": "stream",
     "text": [
      "/Users/alexellard/opt/anaconda3/lib/python3.7/site-packages/xgboost/data.py:96: UserWarning: Use subset (sliced data) of np.ndarray is not recommended because it will generate extra copies and increase memory consumption\n",
      "  \"because it will generate extra copies and increase \" +\n"
     ]
    },
    {
     "name": "stdout",
     "output_type": "stream",
     "text": [
      "test y shape : (17520, 1)\n",
      "Inv y shape : (17520, 27)\n",
      "y pred shape : (17520, 1)\n",
      "inv y pred : (17520, 27)\n",
      "Run 8 Mean Absolute Error: 0.4574794\n",
      "RMSE: 0.630\n",
      "R^2: 1.000\n",
      "starting df shape: (87600, 27)\n",
      "This is training run 9 and has the shape:  (87600, 27)\n",
      "The value of dropped columns is 70\n"
     ]
    },
    {
     "name": "stderr",
     "output_type": "stream",
     "text": [
      "/Users/alexellard/opt/anaconda3/lib/python3.7/site-packages/xgboost/data.py:96: UserWarning: Use subset (sliced data) of np.ndarray is not recommended because it will generate extra copies and increase memory consumption\n",
      "  \"because it will generate extra copies and increase \" +\n"
     ]
    },
    {
     "name": "stdout",
     "output_type": "stream",
     "text": [
      "test y shape : (17520, 1)\n",
      "Inv y shape : (17520, 27)\n",
      "y pred shape : (17520, 1)\n",
      "inv y pred : (17520, 27)\n",
      "Run 9 Mean Absolute Error: 0.26091325\n",
      "RMSE: 0.358\n",
      "R^2: 1.000\n",
      "starting df shape: (87600, 27)\n",
      "This is training run 10 and has the shape:  (87600, 27)\n",
      "The value of dropped columns is 70\n"
     ]
    },
    {
     "name": "stderr",
     "output_type": "stream",
     "text": [
      "/Users/alexellard/opt/anaconda3/lib/python3.7/site-packages/xgboost/data.py:96: UserWarning: Use subset (sliced data) of np.ndarray is not recommended because it will generate extra copies and increase memory consumption\n",
      "  \"because it will generate extra copies and increase \" +\n"
     ]
    },
    {
     "name": "stdout",
     "output_type": "stream",
     "text": [
      "test y shape : (17520, 1)\n",
      "Inv y shape : (17520, 27)\n",
      "y pred shape : (17520, 1)\n",
      "inv y pred : (17520, 27)\n",
      "Run 10 Mean Absolute Error: 0.28556108\n",
      "RMSE: 0.397\n",
      "R^2: 1.000\n",
      "starting df shape: (87600, 22)\n",
      "This is training run 1 and has the shape:  (87600, 22)\n",
      "The value of dropped columns is 75\n"
     ]
    },
    {
     "name": "stderr",
     "output_type": "stream",
     "text": [
      "/Users/alexellard/opt/anaconda3/lib/python3.7/site-packages/xgboost/data.py:96: UserWarning: Use subset (sliced data) of np.ndarray is not recommended because it will generate extra copies and increase memory consumption\n",
      "  \"because it will generate extra copies and increase \" +\n"
     ]
    },
    {
     "name": "stdout",
     "output_type": "stream",
     "text": [
      "test y shape : (17520, 1)\n",
      "Inv y shape : (17520, 22)\n",
      "y pred shape : (17520, 1)\n",
      "inv y pred : (17520, 22)\n",
      "Run 1 Mean Absolute Error: 0.3549307\n",
      "RMSE: 0.484\n",
      "R^2: 1.000\n",
      "starting df shape: (87600, 22)\n",
      "This is training run 2 and has the shape:  (87600, 22)\n",
      "The value of dropped columns is 75\n"
     ]
    },
    {
     "name": "stderr",
     "output_type": "stream",
     "text": [
      "/Users/alexellard/opt/anaconda3/lib/python3.7/site-packages/xgboost/data.py:96: UserWarning: Use subset (sliced data) of np.ndarray is not recommended because it will generate extra copies and increase memory consumption\n",
      "  \"because it will generate extra copies and increase \" +\n"
     ]
    },
    {
     "name": "stdout",
     "output_type": "stream",
     "text": [
      "test y shape : (17520, 1)\n",
      "Inv y shape : (17520, 22)\n",
      "y pred shape : (17520, 1)\n",
      "inv y pred : (17520, 22)\n",
      "Run 2 Mean Absolute Error: 0.21733007\n",
      "RMSE: 0.313\n",
      "R^2: 1.000\n",
      "starting df shape: (87600, 22)\n",
      "This is training run 3 and has the shape:  (87600, 22)\n",
      "The value of dropped columns is 75\n"
     ]
    },
    {
     "name": "stderr",
     "output_type": "stream",
     "text": [
      "/Users/alexellard/opt/anaconda3/lib/python3.7/site-packages/xgboost/data.py:96: UserWarning: Use subset (sliced data) of np.ndarray is not recommended because it will generate extra copies and increase memory consumption\n",
      "  \"because it will generate extra copies and increase \" +\n"
     ]
    },
    {
     "name": "stdout",
     "output_type": "stream",
     "text": [
      "test y shape : (17520, 1)\n",
      "Inv y shape : (17520, 22)\n",
      "y pred shape : (17520, 1)\n",
      "inv y pred : (17520, 22)\n",
      "Run 3 Mean Absolute Error: 0.88861936\n",
      "RMSE: 1.239\n",
      "R^2: 1.000\n",
      "starting df shape: (87600, 22)\n",
      "This is training run 4 and has the shape:  (87600, 22)\n",
      "The value of dropped columns is 75\n"
     ]
    },
    {
     "name": "stderr",
     "output_type": "stream",
     "text": [
      "/Users/alexellard/opt/anaconda3/lib/python3.7/site-packages/xgboost/data.py:96: UserWarning: Use subset (sliced data) of np.ndarray is not recommended because it will generate extra copies and increase memory consumption\n",
      "  \"because it will generate extra copies and increase \" +\n"
     ]
    },
    {
     "name": "stdout",
     "output_type": "stream",
     "text": [
      "test y shape : (17520, 1)\n",
      "Inv y shape : (17520, 22)\n",
      "y pred shape : (17520, 1)\n",
      "inv y pred : (17520, 22)\n",
      "Run 4 Mean Absolute Error: 4.7158036\n",
      "RMSE: 6.443\n",
      "R^2: 1.000\n",
      "starting df shape: (87600, 21)\n",
      "This is training run 5 and has the shape:  (87600, 21)\n",
      "The value of dropped columns is 75\n"
     ]
    },
    {
     "name": "stderr",
     "output_type": "stream",
     "text": [
      "/Users/alexellard/opt/anaconda3/lib/python3.7/site-packages/xgboost/data.py:96: UserWarning: Use subset (sliced data) of np.ndarray is not recommended because it will generate extra copies and increase memory consumption\n",
      "  \"because it will generate extra copies and increase \" +\n"
     ]
    },
    {
     "name": "stdout",
     "output_type": "stream",
     "text": [
      "test y shape : (17520, 1)\n",
      "Inv y shape : (17520, 21)\n",
      "y pred shape : (17520, 1)\n",
      "inv y pred : (17520, 21)\n",
      "Run 5 Mean Absolute Error: 0.349307\n",
      "RMSE: 0.475\n",
      "R^2: 1.000\n",
      "starting df shape: (87600, 22)\n",
      "This is training run 6 and has the shape:  (87600, 22)\n",
      "The value of dropped columns is 75\n"
     ]
    },
    {
     "name": "stderr",
     "output_type": "stream",
     "text": [
      "/Users/alexellard/opt/anaconda3/lib/python3.7/site-packages/xgboost/data.py:96: UserWarning: Use subset (sliced data) of np.ndarray is not recommended because it will generate extra copies and increase memory consumption\n",
      "  \"because it will generate extra copies and increase \" +\n"
     ]
    },
    {
     "name": "stdout",
     "output_type": "stream",
     "text": [
      "test y shape : (17520, 1)\n",
      "Inv y shape : (17520, 22)\n",
      "y pred shape : (17520, 1)\n",
      "inv y pred : (17520, 22)\n",
      "Run 6 Mean Absolute Error: 0.30311853\n",
      "RMSE: 0.418\n",
      "R^2: 1.000\n",
      "starting df shape: (87600, 21)\n",
      "This is training run 7 and has the shape:  (87600, 21)\n",
      "The value of dropped columns is 75\n"
     ]
    },
    {
     "name": "stderr",
     "output_type": "stream",
     "text": [
      "/Users/alexellard/opt/anaconda3/lib/python3.7/site-packages/xgboost/data.py:96: UserWarning: Use subset (sliced data) of np.ndarray is not recommended because it will generate extra copies and increase memory consumption\n",
      "  \"because it will generate extra copies and increase \" +\n"
     ]
    },
    {
     "name": "stdout",
     "output_type": "stream",
     "text": [
      "test y shape : (17520, 1)\n",
      "Inv y shape : (17520, 21)\n",
      "y pred shape : (17520, 1)\n",
      "inv y pred : (17520, 21)\n",
      "Run 7 Mean Absolute Error: 0.15600033\n",
      "RMSE: 0.228\n",
      "R^2: 1.000\n",
      "starting df shape: (87600, 22)\n",
      "This is training run 8 and has the shape:  (87600, 22)\n",
      "The value of dropped columns is 75\n"
     ]
    },
    {
     "name": "stderr",
     "output_type": "stream",
     "text": [
      "/Users/alexellard/opt/anaconda3/lib/python3.7/site-packages/xgboost/data.py:96: UserWarning: Use subset (sliced data) of np.ndarray is not recommended because it will generate extra copies and increase memory consumption\n",
      "  \"because it will generate extra copies and increase \" +\n"
     ]
    },
    {
     "name": "stdout",
     "output_type": "stream",
     "text": [
      "test y shape : (17520, 1)\n",
      "Inv y shape : (17520, 22)\n",
      "y pred shape : (17520, 1)\n",
      "inv y pred : (17520, 22)\n",
      "Run 8 Mean Absolute Error: 0.38611636\n",
      "RMSE: 0.536\n",
      "R^2: 1.000\n",
      "starting df shape: (87600, 21)\n",
      "This is training run 9 and has the shape:  (87600, 21)\n",
      "The value of dropped columns is 75\n"
     ]
    },
    {
     "name": "stderr",
     "output_type": "stream",
     "text": [
      "/Users/alexellard/opt/anaconda3/lib/python3.7/site-packages/xgboost/data.py:96: UserWarning: Use subset (sliced data) of np.ndarray is not recommended because it will generate extra copies and increase memory consumption\n",
      "  \"because it will generate extra copies and increase \" +\n"
     ]
    },
    {
     "name": "stdout",
     "output_type": "stream",
     "text": [
      "test y shape : (17520, 1)\n",
      "Inv y shape : (17520, 21)\n",
      "y pred shape : (17520, 1)\n",
      "inv y pred : (17520, 21)\n",
      "Run 9 Mean Absolute Error: 0.395204\n",
      "RMSE: 0.550\n",
      "R^2: 1.000\n",
      "starting df shape: (87600, 22)\n",
      "This is training run 10 and has the shape:  (87600, 22)\n",
      "The value of dropped columns is 75\n"
     ]
    },
    {
     "name": "stderr",
     "output_type": "stream",
     "text": [
      "/Users/alexellard/opt/anaconda3/lib/python3.7/site-packages/xgboost/data.py:96: UserWarning: Use subset (sliced data) of np.ndarray is not recommended because it will generate extra copies and increase memory consumption\n",
      "  \"because it will generate extra copies and increase \" +\n"
     ]
    },
    {
     "name": "stdout",
     "output_type": "stream",
     "text": [
      "test y shape : (17520, 1)\n",
      "Inv y shape : (17520, 22)\n",
      "y pred shape : (17520, 1)\n",
      "inv y pred : (17520, 22)\n",
      "Run 10 Mean Absolute Error: 5.854759\n",
      "RMSE: 8.159\n",
      "R^2: 1.000\n",
      "starting df shape: (87600, 16)\n",
      "This is training run 1 and has the shape:  (87600, 16)\n",
      "The value of dropped columns is 80\n"
     ]
    },
    {
     "name": "stderr",
     "output_type": "stream",
     "text": [
      "/Users/alexellard/opt/anaconda3/lib/python3.7/site-packages/xgboost/data.py:96: UserWarning: Use subset (sliced data) of np.ndarray is not recommended because it will generate extra copies and increase memory consumption\n",
      "  \"because it will generate extra copies and increase \" +\n"
     ]
    },
    {
     "name": "stdout",
     "output_type": "stream",
     "text": [
      "test y shape : (17520, 1)\n",
      "Inv y shape : (17520, 16)\n",
      "y pred shape : (17520, 1)\n",
      "inv y pred : (17520, 16)\n",
      "Run 1 Mean Absolute Error: 0.49808535\n",
      "RMSE: 0.692\n",
      "R^2: 1.000\n",
      "starting df shape: (87600, 17)\n",
      "This is training run 2 and has the shape:  (87600, 17)\n",
      "The value of dropped columns is 80\n"
     ]
    },
    {
     "name": "stderr",
     "output_type": "stream",
     "text": [
      "/Users/alexellard/opt/anaconda3/lib/python3.7/site-packages/xgboost/data.py:96: UserWarning: Use subset (sliced data) of np.ndarray is not recommended because it will generate extra copies and increase memory consumption\n",
      "  \"because it will generate extra copies and increase \" +\n"
     ]
    },
    {
     "name": "stdout",
     "output_type": "stream",
     "text": [
      "test y shape : (17520, 1)\n",
      "Inv y shape : (17520, 17)\n",
      "y pred shape : (17520, 1)\n",
      "inv y pred : (17520, 17)\n",
      "Run 2 Mean Absolute Error: 0.9275926\n",
      "RMSE: 1.272\n",
      "R^2: 1.000\n",
      "starting df shape: (87600, 17)\n",
      "This is training run 3 and has the shape:  (87600, 17)\n",
      "The value of dropped columns is 80\n"
     ]
    },
    {
     "name": "stderr",
     "output_type": "stream",
     "text": [
      "/Users/alexellard/opt/anaconda3/lib/python3.7/site-packages/xgboost/data.py:96: UserWarning: Use subset (sliced data) of np.ndarray is not recommended because it will generate extra copies and increase memory consumption\n",
      "  \"because it will generate extra copies and increase \" +\n"
     ]
    },
    {
     "name": "stdout",
     "output_type": "stream",
     "text": [
      "test y shape : (17520, 1)\n",
      "Inv y shape : (17520, 17)\n",
      "y pred shape : (17520, 1)\n",
      "inv y pred : (17520, 17)\n",
      "Run 3 Mean Absolute Error: 0.40660724\n",
      "RMSE: 0.580\n",
      "R^2: 1.000\n",
      "starting df shape: (87600, 17)\n",
      "This is training run 4 and has the shape:  (87600, 17)\n",
      "The value of dropped columns is 80\n"
     ]
    },
    {
     "name": "stderr",
     "output_type": "stream",
     "text": [
      "/Users/alexellard/opt/anaconda3/lib/python3.7/site-packages/xgboost/data.py:96: UserWarning: Use subset (sliced data) of np.ndarray is not recommended because it will generate extra copies and increase memory consumption\n",
      "  \"because it will generate extra copies and increase \" +\n"
     ]
    },
    {
     "name": "stdout",
     "output_type": "stream",
     "text": [
      "test y shape : (17520, 1)\n",
      "Inv y shape : (17520, 17)\n",
      "y pred shape : (17520, 1)\n",
      "inv y pred : (17520, 17)\n",
      "Run 4 Mean Absolute Error: 0.11854726\n",
      "RMSE: 0.165\n",
      "R^2: 1.000\n",
      "starting df shape: (87600, 17)\n",
      "This is training run 5 and has the shape:  (87600, 17)\n",
      "The value of dropped columns is 80\n"
     ]
    },
    {
     "name": "stderr",
     "output_type": "stream",
     "text": [
      "/Users/alexellard/opt/anaconda3/lib/python3.7/site-packages/xgboost/data.py:96: UserWarning: Use subset (sliced data) of np.ndarray is not recommended because it will generate extra copies and increase memory consumption\n",
      "  \"because it will generate extra copies and increase \" +\n"
     ]
    },
    {
     "name": "stdout",
     "output_type": "stream",
     "text": [
      "test y shape : (17520, 1)\n",
      "Inv y shape : (17520, 17)\n",
      "y pred shape : (17520, 1)\n",
      "inv y pred : (17520, 17)\n",
      "Run 5 Mean Absolute Error: 0.5632228\n",
      "RMSE: 0.777\n",
      "R^2: 1.000\n",
      "starting df shape: (87600, 17)\n",
      "This is training run 6 and has the shape:  (87600, 17)\n",
      "The value of dropped columns is 80\n"
     ]
    },
    {
     "name": "stderr",
     "output_type": "stream",
     "text": [
      "/Users/alexellard/opt/anaconda3/lib/python3.7/site-packages/xgboost/data.py:96: UserWarning: Use subset (sliced data) of np.ndarray is not recommended because it will generate extra copies and increase memory consumption\n",
      "  \"because it will generate extra copies and increase \" +\n"
     ]
    },
    {
     "name": "stdout",
     "output_type": "stream",
     "text": [
      "test y shape : (17520, 1)\n",
      "Inv y shape : (17520, 17)\n",
      "y pred shape : (17520, 1)\n",
      "inv y pred : (17520, 17)\n",
      "Run 6 Mean Absolute Error: 1.3832116\n",
      "RMSE: 1.921\n",
      "R^2: 1.000\n",
      "starting df shape: (87600, 17)\n",
      "This is training run 7 and has the shape:  (87600, 17)\n",
      "The value of dropped columns is 80\n"
     ]
    },
    {
     "name": "stderr",
     "output_type": "stream",
     "text": [
      "/Users/alexellard/opt/anaconda3/lib/python3.7/site-packages/xgboost/data.py:96: UserWarning: Use subset (sliced data) of np.ndarray is not recommended because it will generate extra copies and increase memory consumption\n",
      "  \"because it will generate extra copies and increase \" +\n"
     ]
    },
    {
     "name": "stdout",
     "output_type": "stream",
     "text": [
      "test y shape : (17520, 1)\n",
      "Inv y shape : (17520, 17)\n",
      "y pred shape : (17520, 1)\n",
      "inv y pred : (17520, 17)\n",
      "Run 7 Mean Absolute Error: 21.912468\n",
      "RMSE: 30.654\n",
      "R^2: 0.999\n",
      "starting df shape: (87600, 17)\n",
      "This is training run 8 and has the shape:  (87600, 17)\n",
      "The value of dropped columns is 80\n"
     ]
    },
    {
     "name": "stderr",
     "output_type": "stream",
     "text": [
      "/Users/alexellard/opt/anaconda3/lib/python3.7/site-packages/xgboost/data.py:96: UserWarning: Use subset (sliced data) of np.ndarray is not recommended because it will generate extra copies and increase memory consumption\n",
      "  \"because it will generate extra copies and increase \" +\n"
     ]
    },
    {
     "name": "stdout",
     "output_type": "stream",
     "text": [
      "test y shape : (17520, 1)\n",
      "Inv y shape : (17520, 17)\n",
      "y pred shape : (17520, 1)\n",
      "inv y pred : (17520, 17)\n",
      "Run 8 Mean Absolute Error: 0.8703579\n",
      "RMSE: 1.188\n",
      "R^2: 1.000\n",
      "starting df shape: (87600, 17)\n",
      "This is training run 9 and has the shape:  (87600, 17)\n",
      "The value of dropped columns is 80\n"
     ]
    },
    {
     "name": "stderr",
     "output_type": "stream",
     "text": [
      "/Users/alexellard/opt/anaconda3/lib/python3.7/site-packages/xgboost/data.py:96: UserWarning: Use subset (sliced data) of np.ndarray is not recommended because it will generate extra copies and increase memory consumption\n",
      "  \"because it will generate extra copies and increase \" +\n"
     ]
    },
    {
     "name": "stdout",
     "output_type": "stream",
     "text": [
      "test y shape : (17520, 1)\n",
      "Inv y shape : (17520, 17)\n",
      "y pred shape : (17520, 1)\n",
      "inv y pred : (17520, 17)\n",
      "Run 9 Mean Absolute Error: 10.218023\n",
      "RMSE: 14.694\n",
      "R^2: 1.000\n",
      "starting df shape: (87600, 17)\n",
      "This is training run 10 and has the shape:  (87600, 17)\n",
      "The value of dropped columns is 80\n"
     ]
    },
    {
     "name": "stderr",
     "output_type": "stream",
     "text": [
      "/Users/alexellard/opt/anaconda3/lib/python3.7/site-packages/xgboost/data.py:96: UserWarning: Use subset (sliced data) of np.ndarray is not recommended because it will generate extra copies and increase memory consumption\n",
      "  \"because it will generate extra copies and increase \" +\n"
     ]
    },
    {
     "name": "stdout",
     "output_type": "stream",
     "text": [
      "test y shape : (17520, 1)\n",
      "Inv y shape : (17520, 17)\n",
      "y pred shape : (17520, 1)\n",
      "inv y pred : (17520, 17)\n",
      "Run 10 Mean Absolute Error: 0.2716034\n",
      "RMSE: 0.374\n",
      "R^2: 1.000\n",
      "starting df shape: (87600, 12)\n",
      "This is training run 1 and has the shape:  (87600, 12)\n",
      "The value of dropped columns is 85\n"
     ]
    },
    {
     "name": "stderr",
     "output_type": "stream",
     "text": [
      "/Users/alexellard/opt/anaconda3/lib/python3.7/site-packages/xgboost/data.py:96: UserWarning: Use subset (sliced data) of np.ndarray is not recommended because it will generate extra copies and increase memory consumption\n",
      "  \"because it will generate extra copies and increase \" +\n"
     ]
    },
    {
     "name": "stdout",
     "output_type": "stream",
     "text": [
      "test y shape : (17520, 1)\n",
      "Inv y shape : (17520, 12)\n",
      "y pred shape : (17520, 1)\n",
      "inv y pred : (17520, 12)\n",
      "Run 1 Mean Absolute Error: 0.40427658\n",
      "RMSE: 0.567\n",
      "R^2: 1.000\n",
      "starting df shape: (87600, 12)\n",
      "This is training run 2 and has the shape:  (87600, 12)\n",
      "The value of dropped columns is 85\n"
     ]
    },
    {
     "name": "stderr",
     "output_type": "stream",
     "text": [
      "/Users/alexellard/opt/anaconda3/lib/python3.7/site-packages/xgboost/data.py:96: UserWarning: Use subset (sliced data) of np.ndarray is not recommended because it will generate extra copies and increase memory consumption\n",
      "  \"because it will generate extra copies and increase \" +\n"
     ]
    },
    {
     "name": "stdout",
     "output_type": "stream",
     "text": [
      "test y shape : (17520, 1)\n",
      "Inv y shape : (17520, 12)\n",
      "y pred shape : (17520, 1)\n",
      "inv y pred : (17520, 12)\n",
      "Run 2 Mean Absolute Error: 0.48639736\n",
      "RMSE: 0.691\n",
      "R^2: 1.000\n",
      "starting df shape: (87600, 12)\n",
      "This is training run 3 and has the shape:  (87600, 12)\n",
      "The value of dropped columns is 85\n"
     ]
    },
    {
     "name": "stderr",
     "output_type": "stream",
     "text": [
      "/Users/alexellard/opt/anaconda3/lib/python3.7/site-packages/xgboost/data.py:96: UserWarning: Use subset (sliced data) of np.ndarray is not recommended because it will generate extra copies and increase memory consumption\n",
      "  \"because it will generate extra copies and increase \" +\n"
     ]
    },
    {
     "name": "stdout",
     "output_type": "stream",
     "text": [
      "test y shape : (17520, 1)\n",
      "Inv y shape : (17520, 12)\n",
      "y pred shape : (17520, 1)\n",
      "inv y pred : (17520, 12)\n",
      "Run 3 Mean Absolute Error: 0.5480666\n",
      "RMSE: 0.734\n",
      "R^2: 1.000\n",
      "starting df shape: (87600, 12)\n",
      "This is training run 4 and has the shape:  (87600, 12)\n",
      "The value of dropped columns is 85\n"
     ]
    },
    {
     "name": "stderr",
     "output_type": "stream",
     "text": [
      "/Users/alexellard/opt/anaconda3/lib/python3.7/site-packages/xgboost/data.py:96: UserWarning: Use subset (sliced data) of np.ndarray is not recommended because it will generate extra copies and increase memory consumption\n",
      "  \"because it will generate extra copies and increase \" +\n"
     ]
    },
    {
     "name": "stdout",
     "output_type": "stream",
     "text": [
      "test y shape : (17520, 1)\n",
      "Inv y shape : (17520, 12)\n",
      "y pred shape : (17520, 1)\n",
      "inv y pred : (17520, 12)\n",
      "Run 4 Mean Absolute Error: 0.40217716\n",
      "RMSE: 0.556\n",
      "R^2: 1.000\n",
      "starting df shape: (87600, 12)\n",
      "This is training run 5 and has the shape:  (87600, 12)\n",
      "The value of dropped columns is 85\n"
     ]
    },
    {
     "name": "stderr",
     "output_type": "stream",
     "text": [
      "/Users/alexellard/opt/anaconda3/lib/python3.7/site-packages/xgboost/data.py:96: UserWarning: Use subset (sliced data) of np.ndarray is not recommended because it will generate extra copies and increase memory consumption\n",
      "  \"because it will generate extra copies and increase \" +\n"
     ]
    },
    {
     "name": "stdout",
     "output_type": "stream",
     "text": [
      "test y shape : (17520, 1)\n",
      "Inv y shape : (17520, 12)\n",
      "y pred shape : (17520, 1)\n",
      "inv y pred : (17520, 12)\n",
      "Run 5 Mean Absolute Error: 0.083700135\n",
      "RMSE: 0.117\n",
      "R^2: 1.000\n",
      "starting df shape: (87600, 12)\n",
      "This is training run 6 and has the shape:  (87600, 12)\n",
      "The value of dropped columns is 85\n"
     ]
    },
    {
     "name": "stderr",
     "output_type": "stream",
     "text": [
      "/Users/alexellard/opt/anaconda3/lib/python3.7/site-packages/xgboost/data.py:96: UserWarning: Use subset (sliced data) of np.ndarray is not recommended because it will generate extra copies and increase memory consumption\n",
      "  \"because it will generate extra copies and increase \" +\n"
     ]
    },
    {
     "name": "stdout",
     "output_type": "stream",
     "text": [
      "test y shape : (17520, 1)\n",
      "Inv y shape : (17520, 12)\n",
      "y pred shape : (17520, 1)\n",
      "inv y pred : (17520, 12)\n",
      "Run 6 Mean Absolute Error: 0.6065145\n",
      "RMSE: 0.838\n",
      "R^2: 1.000\n",
      "starting df shape: (87600, 12)\n",
      "This is training run 7 and has the shape:  (87600, 12)\n",
      "The value of dropped columns is 85\n"
     ]
    },
    {
     "name": "stderr",
     "output_type": "stream",
     "text": [
      "/Users/alexellard/opt/anaconda3/lib/python3.7/site-packages/xgboost/data.py:96: UserWarning: Use subset (sliced data) of np.ndarray is not recommended because it will generate extra copies and increase memory consumption\n",
      "  \"because it will generate extra copies and increase \" +\n"
     ]
    },
    {
     "name": "stdout",
     "output_type": "stream",
     "text": [
      "test y shape : (17520, 1)\n",
      "Inv y shape : (17520, 12)\n",
      "y pred shape : (17520, 1)\n",
      "inv y pred : (17520, 12)\n",
      "Run 7 Mean Absolute Error: 0.28128588\n",
      "RMSE: 0.391\n",
      "R^2: 1.000\n",
      "starting df shape: (87600, 12)\n",
      "This is training run 8 and has the shape:  (87600, 12)\n",
      "The value of dropped columns is 85\n"
     ]
    },
    {
     "name": "stderr",
     "output_type": "stream",
     "text": [
      "/Users/alexellard/opt/anaconda3/lib/python3.7/site-packages/xgboost/data.py:96: UserWarning: Use subset (sliced data) of np.ndarray is not recommended because it will generate extra copies and increase memory consumption\n",
      "  \"because it will generate extra copies and increase \" +\n"
     ]
    },
    {
     "name": "stdout",
     "output_type": "stream",
     "text": [
      "test y shape : (17520, 1)\n",
      "Inv y shape : (17520, 12)\n",
      "y pred shape : (17520, 1)\n",
      "inv y pred : (17520, 12)\n",
      "Run 8 Mean Absolute Error: 0.6579333\n",
      "RMSE: 0.911\n",
      "R^2: 1.000\n",
      "starting df shape: (87600, 11)\n",
      "This is training run 9 and has the shape:  (87600, 11)\n",
      "The value of dropped columns is 85\n"
     ]
    },
    {
     "name": "stderr",
     "output_type": "stream",
     "text": [
      "/Users/alexellard/opt/anaconda3/lib/python3.7/site-packages/xgboost/data.py:96: UserWarning: Use subset (sliced data) of np.ndarray is not recommended because it will generate extra copies and increase memory consumption\n",
      "  \"because it will generate extra copies and increase \" +\n"
     ]
    },
    {
     "name": "stdout",
     "output_type": "stream",
     "text": [
      "test y shape : (17520, 1)\n",
      "Inv y shape : (17520, 11)\n",
      "y pred shape : (17520, 1)\n",
      "inv y pred : (17520, 11)\n",
      "Run 9 Mean Absolute Error: 0.2839099\n",
      "RMSE: 0.385\n",
      "R^2: 1.000\n",
      "starting df shape: (87600, 12)\n",
      "This is training run 10 and has the shape:  (87600, 12)\n",
      "The value of dropped columns is 85\n"
     ]
    },
    {
     "name": "stderr",
     "output_type": "stream",
     "text": [
      "/Users/alexellard/opt/anaconda3/lib/python3.7/site-packages/xgboost/data.py:96: UserWarning: Use subset (sliced data) of np.ndarray is not recommended because it will generate extra copies and increase memory consumption\n",
      "  \"because it will generate extra copies and increase \" +\n"
     ]
    },
    {
     "name": "stdout",
     "output_type": "stream",
     "text": [
      "test y shape : (17520, 1)\n",
      "Inv y shape : (17520, 12)\n",
      "y pred shape : (17520, 1)\n",
      "inv y pred : (17520, 12)\n",
      "Run 10 Mean Absolute Error: 0.80610734\n",
      "RMSE: 1.110\n",
      "R^2: 1.000\n",
      "starting df shape: (87600, 7)\n",
      "This is training run 1 and has the shape:  (87600, 7)\n",
      "The value of dropped columns is 90\n"
     ]
    },
    {
     "name": "stderr",
     "output_type": "stream",
     "text": [
      "/Users/alexellard/opt/anaconda3/lib/python3.7/site-packages/xgboost/data.py:96: UserWarning: Use subset (sliced data) of np.ndarray is not recommended because it will generate extra copies and increase memory consumption\n",
      "  \"because it will generate extra copies and increase \" +\n"
     ]
    },
    {
     "name": "stdout",
     "output_type": "stream",
     "text": [
      "test y shape : (17520, 1)\n",
      "Inv y shape : (17520, 7)\n",
      "y pred shape : (17520, 1)\n",
      "inv y pred : (17520, 7)\n",
      "Run 1 Mean Absolute Error: 1.2860591\n",
      "RMSE: 1.786\n",
      "R^2: 0.999\n",
      "starting df shape: (87600, 7)\n",
      "This is training run 2 and has the shape:  (87600, 7)\n",
      "The value of dropped columns is 90\n"
     ]
    },
    {
     "name": "stderr",
     "output_type": "stream",
     "text": [
      "/Users/alexellard/opt/anaconda3/lib/python3.7/site-packages/xgboost/data.py:96: UserWarning: Use subset (sliced data) of np.ndarray is not recommended because it will generate extra copies and increase memory consumption\n",
      "  \"because it will generate extra copies and increase \" +\n"
     ]
    },
    {
     "name": "stdout",
     "output_type": "stream",
     "text": [
      "test y shape : (17520, 1)\n",
      "Inv y shape : (17520, 7)\n",
      "y pred shape : (17520, 1)\n",
      "inv y pred : (17520, 7)\n",
      "Run 2 Mean Absolute Error: 0.65395653\n",
      "RMSE: 0.931\n",
      "R^2: 1.000\n",
      "starting df shape: (87600, 7)\n",
      "This is training run 3 and has the shape:  (87600, 7)\n",
      "The value of dropped columns is 90\n"
     ]
    },
    {
     "name": "stderr",
     "output_type": "stream",
     "text": [
      "/Users/alexellard/opt/anaconda3/lib/python3.7/site-packages/xgboost/data.py:96: UserWarning: Use subset (sliced data) of np.ndarray is not recommended because it will generate extra copies and increase memory consumption\n",
      "  \"because it will generate extra copies and increase \" +\n"
     ]
    },
    {
     "name": "stdout",
     "output_type": "stream",
     "text": [
      "test y shape : (17520, 1)\n",
      "Inv y shape : (17520, 7)\n",
      "y pred shape : (17520, 1)\n",
      "inv y pred : (17520, 7)\n",
      "Run 3 Mean Absolute Error: 0.4911971\n",
      "RMSE: 0.675\n",
      "R^2: 1.000\n",
      "starting df shape: (87600, 7)\n",
      "This is training run 4 and has the shape:  (87600, 7)\n",
      "The value of dropped columns is 90\n"
     ]
    },
    {
     "name": "stderr",
     "output_type": "stream",
     "text": [
      "/Users/alexellard/opt/anaconda3/lib/python3.7/site-packages/xgboost/data.py:96: UserWarning: Use subset (sliced data) of np.ndarray is not recommended because it will generate extra copies and increase memory consumption\n",
      "  \"because it will generate extra copies and increase \" +\n"
     ]
    },
    {
     "name": "stdout",
     "output_type": "stream",
     "text": [
      "test y shape : (17520, 1)\n",
      "Inv y shape : (17520, 7)\n",
      "y pred shape : (17520, 1)\n",
      "inv y pred : (17520, 7)\n",
      "Run 4 Mean Absolute Error: 0.4548396\n",
      "RMSE: 0.657\n",
      "R^2: 1.000\n",
      "starting df shape: (87600, 7)\n",
      "This is training run 5 and has the shape:  (87600, 7)\n",
      "The value of dropped columns is 90\n"
     ]
    },
    {
     "name": "stderr",
     "output_type": "stream",
     "text": [
      "/Users/alexellard/opt/anaconda3/lib/python3.7/site-packages/xgboost/data.py:96: UserWarning: Use subset (sliced data) of np.ndarray is not recommended because it will generate extra copies and increase memory consumption\n",
      "  \"because it will generate extra copies and increase \" +\n"
     ]
    },
    {
     "name": "stdout",
     "output_type": "stream",
     "text": [
      "test y shape : (17520, 1)\n",
      "Inv y shape : (17520, 7)\n",
      "y pred shape : (17520, 1)\n",
      "inv y pred : (17520, 7)\n",
      "Run 5 Mean Absolute Error: 2.1048107\n",
      "RMSE: 2.975\n",
      "R^2: 0.998\n",
      "starting df shape: (87600, 6)\n",
      "This is training run 6 and has the shape:  (87600, 6)\n",
      "The value of dropped columns is 90\n"
     ]
    },
    {
     "name": "stderr",
     "output_type": "stream",
     "text": [
      "/Users/alexellard/opt/anaconda3/lib/python3.7/site-packages/xgboost/data.py:96: UserWarning: Use subset (sliced data) of np.ndarray is not recommended because it will generate extra copies and increase memory consumption\n",
      "  \"because it will generate extra copies and increase \" +\n"
     ]
    },
    {
     "name": "stdout",
     "output_type": "stream",
     "text": [
      "test y shape : (17520, 1)\n",
      "Inv y shape : (17520, 6)\n",
      "y pred shape : (17520, 1)\n",
      "inv y pred : (17520, 6)\n",
      "Run 6 Mean Absolute Error: 0.35652056\n",
      "RMSE: 0.504\n",
      "R^2: 1.000\n",
      "starting df shape: (87600, 6)\n",
      "This is training run 7 and has the shape:  (87600, 6)\n",
      "The value of dropped columns is 90\n"
     ]
    },
    {
     "name": "stderr",
     "output_type": "stream",
     "text": [
      "/Users/alexellard/opt/anaconda3/lib/python3.7/site-packages/xgboost/data.py:96: UserWarning: Use subset (sliced data) of np.ndarray is not recommended because it will generate extra copies and increase memory consumption\n",
      "  \"because it will generate extra copies and increase \" +\n"
     ]
    },
    {
     "name": "stdout",
     "output_type": "stream",
     "text": [
      "test y shape : (17520, 1)\n",
      "Inv y shape : (17520, 6)\n",
      "y pred shape : (17520, 1)\n",
      "inv y pred : (17520, 6)\n",
      "Run 7 Mean Absolute Error: 9.173106\n",
      "RMSE: 14.257\n",
      "R^2: 0.953\n",
      "starting df shape: (87600, 7)\n",
      "This is training run 8 and has the shape:  (87600, 7)\n",
      "The value of dropped columns is 90\n"
     ]
    },
    {
     "name": "stderr",
     "output_type": "stream",
     "text": [
      "/Users/alexellard/opt/anaconda3/lib/python3.7/site-packages/xgboost/data.py:96: UserWarning: Use subset (sliced data) of np.ndarray is not recommended because it will generate extra copies and increase memory consumption\n",
      "  \"because it will generate extra copies and increase \" +\n"
     ]
    },
    {
     "name": "stdout",
     "output_type": "stream",
     "text": [
      "test y shape : (17520, 1)\n",
      "Inv y shape : (17520, 7)\n",
      "y pred shape : (17520, 1)\n",
      "inv y pred : (17520, 7)\n",
      "Run 8 Mean Absolute Error: 0.4790869\n",
      "RMSE: 0.669\n",
      "R^2: 0.999\n",
      "starting df shape: (87600, 7)\n",
      "This is training run 9 and has the shape:  (87600, 7)\n",
      "The value of dropped columns is 90\n"
     ]
    },
    {
     "name": "stderr",
     "output_type": "stream",
     "text": [
      "/Users/alexellard/opt/anaconda3/lib/python3.7/site-packages/xgboost/data.py:96: UserWarning: Use subset (sliced data) of np.ndarray is not recommended because it will generate extra copies and increase memory consumption\n",
      "  \"because it will generate extra copies and increase \" +\n"
     ]
    },
    {
     "name": "stdout",
     "output_type": "stream",
     "text": [
      "test y shape : (17520, 1)\n",
      "Inv y shape : (17520, 7)\n",
      "y pred shape : (17520, 1)\n",
      "inv y pred : (17520, 7)\n",
      "Run 9 Mean Absolute Error: 2.3636222\n",
      "RMSE: 3.420\n",
      "R^2: 0.997\n",
      "starting df shape: (87600, 7)\n",
      "This is training run 10 and has the shape:  (87600, 7)\n",
      "The value of dropped columns is 90\n"
     ]
    },
    {
     "name": "stderr",
     "output_type": "stream",
     "text": [
      "/Users/alexellard/opt/anaconda3/lib/python3.7/site-packages/xgboost/data.py:96: UserWarning: Use subset (sliced data) of np.ndarray is not recommended because it will generate extra copies and increase memory consumption\n",
      "  \"because it will generate extra copies and increase \" +\n"
     ]
    },
    {
     "name": "stdout",
     "output_type": "stream",
     "text": [
      "test y shape : (17520, 1)\n",
      "Inv y shape : (17520, 7)\n",
      "y pred shape : (17520, 1)\n",
      "inv y pred : (17520, 7)\n",
      "Run 10 Mean Absolute Error: 0.60191864\n",
      "RMSE: 0.881\n",
      "R^2: 0.999\n",
      "starting df shape: (87600, 2)\n",
      "This is training run 1 and has the shape:  (87600, 2)\n",
      "The value of dropped columns is 95\n"
     ]
    },
    {
     "name": "stderr",
     "output_type": "stream",
     "text": [
      "/Users/alexellard/opt/anaconda3/lib/python3.7/site-packages/xgboost/data.py:96: UserWarning: Use subset (sliced data) of np.ndarray is not recommended because it will generate extra copies and increase memory consumption\n",
      "  \"because it will generate extra copies and increase \" +\n"
     ]
    },
    {
     "name": "stdout",
     "output_type": "stream",
     "text": [
      "test y shape : (17520, 1)\n",
      "Inv y shape : (17520, 2)\n",
      "y pred shape : (17520, 1)\n",
      "inv y pred : (17520, 2)\n",
      "Run 1 Mean Absolute Error: 415.57083\n",
      "RMSE: 565.514\n",
      "R^2: 0.758\n",
      "starting df shape: (87600, 2)\n",
      "This is training run 2 and has the shape:  (87600, 2)\n",
      "The value of dropped columns is 95\n"
     ]
    },
    {
     "name": "stderr",
     "output_type": "stream",
     "text": [
      "/Users/alexellard/opt/anaconda3/lib/python3.7/site-packages/xgboost/data.py:96: UserWarning: Use subset (sliced data) of np.ndarray is not recommended because it will generate extra copies and increase memory consumption\n",
      "  \"because it will generate extra copies and increase \" +\n"
     ]
    },
    {
     "name": "stdout",
     "output_type": "stream",
     "text": [
      "test y shape : (17520, 1)\n",
      "Inv y shape : (17520, 2)\n",
      "y pred shape : (17520, 1)\n",
      "inv y pred : (17520, 2)\n",
      "Run 2 Mean Absolute Error: 20.495409\n",
      "RMSE: 27.621\n",
      "R^2: 0.326\n",
      "starting df shape: (87600, 2)\n",
      "This is training run 3 and has the shape:  (87600, 2)\n",
      "The value of dropped columns is 95\n"
     ]
    },
    {
     "name": "stderr",
     "output_type": "stream",
     "text": [
      "/Users/alexellard/opt/anaconda3/lib/python3.7/site-packages/xgboost/data.py:96: UserWarning: Use subset (sliced data) of np.ndarray is not recommended because it will generate extra copies and increase memory consumption\n",
      "  \"because it will generate extra copies and increase \" +\n"
     ]
    },
    {
     "name": "stdout",
     "output_type": "stream",
     "text": [
      "test y shape : (17520, 1)\n",
      "Inv y shape : (17520, 2)\n",
      "y pred shape : (17520, 1)\n",
      "inv y pred : (17520, 2)\n",
      "Run 3 Mean Absolute Error: 34.630787\n",
      "RMSE: 45.353\n",
      "R^2: 0.716\n",
      "starting df shape: (87600, 2)\n",
      "This is training run 4 and has the shape:  (87600, 2)\n",
      "The value of dropped columns is 95\n"
     ]
    },
    {
     "name": "stderr",
     "output_type": "stream",
     "text": [
      "/Users/alexellard/opt/anaconda3/lib/python3.7/site-packages/xgboost/data.py:96: UserWarning: Use subset (sliced data) of np.ndarray is not recommended because it will generate extra copies and increase memory consumption\n",
      "  \"because it will generate extra copies and increase \" +\n"
     ]
    },
    {
     "name": "stdout",
     "output_type": "stream",
     "text": [
      "test y shape : (17520, 1)\n",
      "Inv y shape : (17520, 2)\n",
      "y pred shape : (17520, 1)\n",
      "inv y pred : (17520, 2)\n",
      "Run 4 Mean Absolute Error: 0.7710871\n",
      "RMSE: 1.087\n",
      "R^2: 0.910\n",
      "starting df shape: (87600, 2)\n",
      "This is training run 5 and has the shape:  (87600, 2)\n",
      "The value of dropped columns is 95\n"
     ]
    },
    {
     "name": "stderr",
     "output_type": "stream",
     "text": [
      "/Users/alexellard/opt/anaconda3/lib/python3.7/site-packages/xgboost/data.py:96: UserWarning: Use subset (sliced data) of np.ndarray is not recommended because it will generate extra copies and increase memory consumption\n",
      "  \"because it will generate extra copies and increase \" +\n"
     ]
    },
    {
     "name": "stdout",
     "output_type": "stream",
     "text": [
      "test y shape : (17520, 1)\n",
      "Inv y shape : (17520, 2)\n",
      "y pred shape : (17520, 1)\n",
      "inv y pred : (17520, 2)\n",
      "Run 5 Mean Absolute Error: 11.342773\n",
      "RMSE: 16.087\n",
      "R^2: 0.704\n",
      "starting df shape: (87600, 2)\n",
      "This is training run 6 and has the shape:  (87600, 2)\n",
      "The value of dropped columns is 95\n"
     ]
    },
    {
     "name": "stderr",
     "output_type": "stream",
     "text": [
      "/Users/alexellard/opt/anaconda3/lib/python3.7/site-packages/xgboost/data.py:96: UserWarning: Use subset (sliced data) of np.ndarray is not recommended because it will generate extra copies and increase memory consumption\n",
      "  \"because it will generate extra copies and increase \" +\n"
     ]
    },
    {
     "name": "stdout",
     "output_type": "stream",
     "text": [
      "test y shape : (17520, 1)\n",
      "Inv y shape : (17520, 2)\n",
      "y pred shape : (17520, 1)\n",
      "inv y pred : (17520, 2)\n",
      "Run 6 Mean Absolute Error: 31.853945\n",
      "RMSE: 42.140\n",
      "R^2: 0.787\n",
      "starting df shape: (87600, 2)\n",
      "This is training run 7 and has the shape:  (87600, 2)\n",
      "The value of dropped columns is 95\n"
     ]
    },
    {
     "name": "stderr",
     "output_type": "stream",
     "text": [
      "/Users/alexellard/opt/anaconda3/lib/python3.7/site-packages/xgboost/data.py:96: UserWarning: Use subset (sliced data) of np.ndarray is not recommended because it will generate extra copies and increase memory consumption\n",
      "  \"because it will generate extra copies and increase \" +\n"
     ]
    },
    {
     "name": "stdout",
     "output_type": "stream",
     "text": [
      "test y shape : (17520, 1)\n",
      "Inv y shape : (17520, 2)\n",
      "y pred shape : (17520, 1)\n",
      "inv y pred : (17520, 2)\n",
      "Run 7 Mean Absolute Error: 20.584278\n",
      "RMSE: 25.396\n",
      "R^2: 0.849\n",
      "starting df shape: (87600, 2)\n",
      "This is training run 8 and has the shape:  (87600, 2)\n",
      "The value of dropped columns is 95\n"
     ]
    },
    {
     "name": "stderr",
     "output_type": "stream",
     "text": [
      "/Users/alexellard/opt/anaconda3/lib/python3.7/site-packages/xgboost/data.py:96: UserWarning: Use subset (sliced data) of np.ndarray is not recommended because it will generate extra copies and increase memory consumption\n",
      "  \"because it will generate extra copies and increase \" +\n"
     ]
    },
    {
     "name": "stdout",
     "output_type": "stream",
     "text": [
      "test y shape : (17520, 1)\n",
      "Inv y shape : (17520, 2)\n",
      "y pred shape : (17520, 1)\n",
      "inv y pred : (17520, 2)\n",
      "Run 8 Mean Absolute Error: 26.712992\n",
      "RMSE: 38.418\n",
      "R^2: 0.329\n",
      "starting df shape: (87600, 2)\n",
      "This is training run 9 and has the shape:  (87600, 2)\n",
      "The value of dropped columns is 95\n"
     ]
    },
    {
     "name": "stderr",
     "output_type": "stream",
     "text": [
      "/Users/alexellard/opt/anaconda3/lib/python3.7/site-packages/xgboost/data.py:96: UserWarning: Use subset (sliced data) of np.ndarray is not recommended because it will generate extra copies and increase memory consumption\n",
      "  \"because it will generate extra copies and increase \" +\n"
     ]
    },
    {
     "name": "stdout",
     "output_type": "stream",
     "text": [
      "test y shape : (17520, 1)\n",
      "Inv y shape : (17520, 2)\n",
      "y pred shape : (17520, 1)\n",
      "inv y pred : (17520, 2)\n",
      "Run 9 Mean Absolute Error: 140.29564\n",
      "RMSE: 206.567\n",
      "R^2: 0.792\n",
      "starting df shape: (87600, 2)\n",
      "This is training run 10 and has the shape:  (87600, 2)\n",
      "The value of dropped columns is 95\n"
     ]
    },
    {
     "name": "stderr",
     "output_type": "stream",
     "text": [
      "/Users/alexellard/opt/anaconda3/lib/python3.7/site-packages/xgboost/data.py:96: UserWarning: Use subset (sliced data) of np.ndarray is not recommended because it will generate extra copies and increase memory consumption\n",
      "  \"because it will generate extra copies and increase \" +\n"
     ]
    },
    {
     "name": "stdout",
     "output_type": "stream",
     "text": [
      "test y shape : (17520, 1)\n",
      "Inv y shape : (17520, 2)\n",
      "y pred shape : (17520, 1)\n",
      "inv y pred : (17520, 2)\n",
      "Run 10 Mean Absolute Error: 46.908924\n",
      "RMSE: 65.398\n",
      "R^2: 0.739\n",
      "Length MAE_average:  20\n",
      "Length sensors_covered:  20\n"
     ]
    }
   ],
   "source": [
    "#Run pressure node 29\n",
    "\n",
    "MAE_average = []\n",
    "RMSE_average = []\n",
    "R2_average = []\n",
    "maximum_MAE = []\n",
    "sensors_covered = []\n",
    "n_columns_to_drop = [0, 5, 10, 15, 20, 25, 30, 35, 40, 45, 50, 55, 60, 65, 70, 75, 80, 85, 90, 95]\n",
    "for n in n_columns_to_drop:\n",
    "    MAE = []\n",
    "    RMSE = []\n",
    "    R2 = []\n",
    "    for run in range(1,11):\n",
    "        values = df.values\n",
    "        values = values.astype('float32')\n",
    "        reframed_pressures_node29 = series_to_supervised(values, 1, 1, vars_to_predict=target_variable_pressures_node29)\n",
    "        reframed_pressures_node29 = reframed_pressures_node29.drop(reframed_pressures_node29.columns[61], axis=1)\n",
    "        #select random columns to drop\n",
    "        columns_to_drop = random.sample(list(reframed_pressures_node29.columns), n)\n",
    "        # Drop the selected columns from the dataframe\n",
    "        if reframed_pressures_node29.columns[-1] in columns_to_drop:\n",
    "            columns_to_drop.remove(reframed_pressures_node29.columns[-1])\n",
    "        reframed_pressures_node29.drop(columns_to_drop, axis=1, inplace=True)\n",
    "        print('starting df shape:', reframed_pressures_node29.shape)\n",
    "        print(f'This is training run {run} and has the shape: ', reframed_pressures_node29.shape)\n",
    "        print(f'The value of dropped columns is {n}')\n",
    "\n",
    "        # split into train and test sets\n",
    "        values = reframed_pressures_node29.values\n",
    "        scaled = scaler.fit_transform(values)\n",
    "        train, test = train_test_split(scaled, test_size=0.2, random_state=0)\n",
    "\n",
    "        # split into input and outputs\n",
    "        train_X, train_y = train[:, :-1], train[:, -1]\n",
    "        test_X, test_y = test[:, :-1], test[:, -1]\n",
    "\n",
    "        #define model\n",
    "        model = xgb.XGBRegressor(\n",
    "            objective='reg:squarederror',\n",
    "            n_estimators=100,\n",
    "            max_depth=6,\n",
    "            learning_rate=0.1,\n",
    "            subsample=0.9,\n",
    "            colsample_bytree=0.8,\n",
    "            random_state=42\n",
    "        )\n",
    "\n",
    "        # fit the model on the training data\n",
    "        model.fit(train_X, train_y)\n",
    "\n",
    "        # make predictions on the test data\n",
    "        y_pred = model.predict(test_X)\n",
    "\n",
    "        test_y = test_y.reshape((len(test_y), 1))\n",
    "        print('test y shape :', test_y.shape)\n",
    "        inv_test_y = concatenate((test_y, test_X[:, -reframed_pressures_node29.shape[1]:]), axis=1)\n",
    "        print('Inv y shape :', inv_test_y.shape)\n",
    "        test_y_inverse = scaler.inverse_transform(inv_test_y)\n",
    "        test_y_inverse = test_y_inverse[:,0]\n",
    "\n",
    "        y_pred = y_pred.reshape((len(y_pred), 1))\n",
    "        print('y pred shape :', y_pred.shape)\n",
    "        inv_y_pred = concatenate((y_pred, test_X[:, -reframed_pressures_node29.shape[1]:]), axis=1)\n",
    "        print('inv y pred :', inv_y_pred.shape)\n",
    "        y_pred_inverse = scaler.inverse_transform(inv_y_pred)\n",
    "        y_pred_inverse = y_pred_inverse[:,0]\n",
    "\n",
    "        # evaluate scaled errors\n",
    "        mae_inverse = mean_absolute_error(test_y_inverse, y_pred_inverse)\n",
    "        MAE.append(mae_inverse)\n",
    "        print(f'Run {run} Mean Absolute Error:', mae_inverse)\n",
    "        rmse_inverse = sqrt(mean_squared_error(test_y_inverse, y_pred_inverse))\n",
    "        RMSE.append(rmse_inverse)\n",
    "        print('RMSE: %.3f' % rmse_inverse)\n",
    "        r2_inverse = r2_score(test_y_inverse, y_pred_inverse)\n",
    "        R2.append(r2_inverse)\n",
    "        print('R^2: %.3f' % r2_inverse)\n",
    "    percentage_list = round(reframed_pressures_node29.shape[1] / 96 * 100)\n",
    "    sensors_covered.append(percentage_list)\n",
    "    MAE_mean = mean(MAE)\n",
    "    RMSE_mean = mean(RMSE)\n",
    "    R2_mean = mean(R2)\n",
    "    max_MAE = max(MAE)\n",
    "    maximum_MAE.append(max_MAE)\n",
    "    MAE_average.append(MAE_mean)\n",
    "    RMSE_average.append(RMSE_mean)\n",
    "    R2_average.append(R2_mean)\n",
    "print('Length MAE_average: ', len(MAE_average))\n",
    "print('Length sensors_covered: ', len(sensors_covered))"
   ]
  },
  {
   "cell_type": "code",
   "execution_count": 6,
   "metadata": {},
   "outputs": [
    {
     "data": {
      "image/png": "[encoded data removed]",
      "text/plain": [
       "<Figure size 432x288 with 1 Axes>"
      ]
     },
     "metadata": {
      "needs_background": "light"
     },
     "output_type": "display_data"
    }
   ],
   "source": [
    "plt.plot(sensors_covered, maximum_MAE)\n",
    "plt.ylabel(\"Mean Absolute Error\")\n",
    "plt.xlabel(\"Sensor Cover %\")\n",
    "plt.title(\"MAE vs. Coverage Pressure Node 29\")\n",
    "plt.xlim([100, 0])\n",
    "plt.show()"
   ]
  },
  {
   "cell_type": "code",
   "execution_count": 7,
   "metadata": {},
   "outputs": [
    {
     "data": {
      "image/png": "[encoded data removed]",
      "text/plain": [
       "<Figure size 432x288 with 1 Axes>"
      ]
     },
     "metadata": {
      "needs_background": "light"
     },
     "output_type": "display_data"
    }
   ],
   "source": [
    "plt.plot(sensors_covered, MAE_average)\n",
    "plt.ylabel(\"Mean Absolute Error\")\n",
    "plt.xlabel(\"Sensor Cover %\")\n",
    "plt.title(\"MAE vs. Coverage Pressure Node 29\")\n",
    "plt.xlim([100, 0])\n",
    "plt.show()"
   ]
  },
  {
   "cell_type": "code",
   "execution_count": null,
   "metadata": {},
   "outputs": [],
   "source": []
  }
 ],
 "metadata": {
  "kernelspec": {
   "display_name": "Python 3",
   "language": "python",
   "name": "python3"
  },
  "language_info": {
   "codemirror_mode": {
    "name": "ipython",
    "version": 3
   },
   "file_extension": ".py",
   "mimetype": "text/x-python",
   "name": "python",
   "nbconvert_exporter": "python",
   "pygments_lexer": "ipython3",
   "version": "3.7.4"
  }
 },
 "nbformat": 4,
 "nbformat_minor": 2
}
