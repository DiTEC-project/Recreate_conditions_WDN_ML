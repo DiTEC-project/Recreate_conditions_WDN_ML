{
 "cells": [
  {
   "cell_type": "code",
   "execution_count": 1,
   "metadata": {},
   "outputs": [
    {
     "name": "stderr",
     "output_type": "stream",
     "text": [
      "/Users/alexellard/opt/anaconda3/lib/python3.7/site-packages/dask/dataframe/utils.py:14: FutureWarning: pandas.util.testing is deprecated. Use the functions in the public API at pandas.testing instead.\n",
      "  import pandas.util.testing as tm\n"
     ]
    }
   ],
   "source": [
    "import xgboost as xgb\n",
    "import pandas as pd\n",
    "import numpy as np\n",
    "from sklearn.preprocessing import LabelEncoder\n",
    "from sklearn.preprocessing import MinMaxScaler\n",
    "from sklearn.model_selection import train_test_split\n",
    "from sklearn.metrics import mean_squared_error, mean_absolute_error, r2_score\n",
    "from numpy import concatenate\n",
    "from math import sqrt\n",
    "from statistics import mean\n",
    "import random\n",
    "import matplotlib.pyplot as plt"
   ]
  },
  {
   "cell_type": "code",
   "execution_count": 2,
   "metadata": {},
   "outputs": [
    {
     "data": {
      "text/html": [
       "<div>\n",
       "<style scoped>\n",
       "    .dataframe tbody tr th:only-of-type {\n",
       "        vertical-align: middle;\n",
       "    }\n",
       "\n",
       "    .dataframe tbody tr th {\n",
       "        vertical-align: top;\n",
       "    }\n",
       "\n",
       "    .dataframe thead th {\n",
       "        text-align: right;\n",
       "    }\n",
       "</style>\n",
       "<table border=\"1\" class=\"dataframe\">\n",
       "  <thead>\n",
       "    <tr style=\"text-align: right;\">\n",
       "      <th></th>\n",
       "      <th>reservoir_demand</th>\n",
       "      <th>node_1_demand</th>\n",
       "      <th>node_2_demand</th>\n",
       "      <th>node_3_demand</th>\n",
       "      <th>node_4_demand</th>\n",
       "      <th>node_5_demand</th>\n",
       "      <th>node_6_demand</th>\n",
       "      <th>node_7_demand</th>\n",
       "      <th>node_8_demand</th>\n",
       "      <th>node_9_demand</th>\n",
       "      <th>...</th>\n",
       "      <th>link_23_flow</th>\n",
       "      <th>link_24_flow</th>\n",
       "      <th>link_25_flow</th>\n",
       "      <th>link_26_flow</th>\n",
       "      <th>link_27_flow</th>\n",
       "      <th>link_28_flow</th>\n",
       "      <th>link_29_flow</th>\n",
       "      <th>link_30_flow</th>\n",
       "      <th>link_31_flow</th>\n",
       "      <th>link_32_flow</th>\n",
       "    </tr>\n",
       "    <tr>\n",
       "      <th>Timestamp</th>\n",
       "      <th></th>\n",
       "      <th></th>\n",
       "      <th></th>\n",
       "      <th></th>\n",
       "      <th></th>\n",
       "      <th></th>\n",
       "      <th></th>\n",
       "      <th></th>\n",
       "      <th></th>\n",
       "      <th></th>\n",
       "      <th></th>\n",
       "      <th></th>\n",
       "      <th></th>\n",
       "      <th></th>\n",
       "      <th></th>\n",
       "      <th></th>\n",
       "      <th></th>\n",
       "      <th></th>\n",
       "      <th></th>\n",
       "      <th></th>\n",
       "      <th></th>\n",
       "    </tr>\n",
       "  </thead>\n",
       "  <tbody>\n",
       "    <tr>\n",
       "      <th>2017-01-01 00:00:00</th>\n",
       "      <td>-3348.0</td>\n",
       "      <td>154.8</td>\n",
       "      <td>169.2</td>\n",
       "      <td>18.0</td>\n",
       "      <td>118.8</td>\n",
       "      <td>169.2</td>\n",
       "      <td>234.0</td>\n",
       "      <td>86.4</td>\n",
       "      <td>82.8</td>\n",
       "      <td>104.4</td>\n",
       "      <td>...</td>\n",
       "      <td>439.2</td>\n",
       "      <td>-205.2</td>\n",
       "      <td>-75.6</td>\n",
       "      <td>-18.0</td>\n",
       "      <td>118.8</td>\n",
       "      <td>68.4</td>\n",
       "      <td>7.2</td>\n",
       "      <td>-54.0</td>\n",
       "      <td>75.6</td>\n",
       "      <td>212.4</td>\n",
       "    </tr>\n",
       "    <tr>\n",
       "      <th>2017-01-01 00:30:00</th>\n",
       "      <td>-2959.2</td>\n",
       "      <td>136.8</td>\n",
       "      <td>147.6</td>\n",
       "      <td>18.0</td>\n",
       "      <td>108.0</td>\n",
       "      <td>144.0</td>\n",
       "      <td>237.6</td>\n",
       "      <td>79.2</td>\n",
       "      <td>75.6</td>\n",
       "      <td>90.0</td>\n",
       "      <td>...</td>\n",
       "      <td>392.4</td>\n",
       "      <td>-187.2</td>\n",
       "      <td>-72.0</td>\n",
       "      <td>-21.6</td>\n",
       "      <td>108.0</td>\n",
       "      <td>61.2</td>\n",
       "      <td>3.6</td>\n",
       "      <td>-54.0</td>\n",
       "      <td>72.0</td>\n",
       "      <td>183.6</td>\n",
       "    </tr>\n",
       "    <tr>\n",
       "      <th>2017-01-01 01:00:00</th>\n",
       "      <td>-2692.8</td>\n",
       "      <td>129.6</td>\n",
       "      <td>126.0</td>\n",
       "      <td>14.4</td>\n",
       "      <td>104.4</td>\n",
       "      <td>133.2</td>\n",
       "      <td>205.2</td>\n",
       "      <td>72.0</td>\n",
       "      <td>72.0</td>\n",
       "      <td>90.0</td>\n",
       "      <td>...</td>\n",
       "      <td>349.2</td>\n",
       "      <td>-176.4</td>\n",
       "      <td>-64.8</td>\n",
       "      <td>-18.0</td>\n",
       "      <td>93.6</td>\n",
       "      <td>50.4</td>\n",
       "      <td>3.6</td>\n",
       "      <td>-39.6</td>\n",
       "      <td>54.0</td>\n",
       "      <td>151.2</td>\n",
       "    </tr>\n",
       "    <tr>\n",
       "      <th>2017-01-01 01:30:00</th>\n",
       "      <td>-2379.6</td>\n",
       "      <td>104.4</td>\n",
       "      <td>100.8</td>\n",
       "      <td>10.8</td>\n",
       "      <td>86.4</td>\n",
       "      <td>122.4</td>\n",
       "      <td>180.0</td>\n",
       "      <td>68.4</td>\n",
       "      <td>57.6</td>\n",
       "      <td>82.8</td>\n",
       "      <td>...</td>\n",
       "      <td>316.8</td>\n",
       "      <td>-158.4</td>\n",
       "      <td>-54.0</td>\n",
       "      <td>-10.8</td>\n",
       "      <td>79.2</td>\n",
       "      <td>46.8</td>\n",
       "      <td>7.2</td>\n",
       "      <td>-32.4</td>\n",
       "      <td>50.4</td>\n",
       "      <td>140.4</td>\n",
       "    </tr>\n",
       "    <tr>\n",
       "      <th>2017-01-01 02:00:00</th>\n",
       "      <td>-2228.4</td>\n",
       "      <td>104.4</td>\n",
       "      <td>104.4</td>\n",
       "      <td>10.8</td>\n",
       "      <td>79.2</td>\n",
       "      <td>122.4</td>\n",
       "      <td>183.6</td>\n",
       "      <td>68.4</td>\n",
       "      <td>54.0</td>\n",
       "      <td>75.6</td>\n",
       "      <td>...</td>\n",
       "      <td>277.2</td>\n",
       "      <td>-144.0</td>\n",
       "      <td>-57.6</td>\n",
       "      <td>-18.0</td>\n",
       "      <td>72.0</td>\n",
       "      <td>39.6</td>\n",
       "      <td>7.2</td>\n",
       "      <td>-32.4</td>\n",
       "      <td>43.2</td>\n",
       "      <td>118.8</td>\n",
       "    </tr>\n",
       "    <tr>\n",
       "      <th>...</th>\n",
       "      <td>...</td>\n",
       "      <td>...</td>\n",
       "      <td>...</td>\n",
       "      <td>...</td>\n",
       "      <td>...</td>\n",
       "      <td>...</td>\n",
       "      <td>...</td>\n",
       "      <td>...</td>\n",
       "      <td>...</td>\n",
       "      <td>...</td>\n",
       "      <td>...</td>\n",
       "      <td>...</td>\n",
       "      <td>...</td>\n",
       "      <td>...</td>\n",
       "      <td>...</td>\n",
       "      <td>...</td>\n",
       "      <td>...</td>\n",
       "      <td>...</td>\n",
       "      <td>...</td>\n",
       "      <td>...</td>\n",
       "      <td>...</td>\n",
       "    </tr>\n",
       "    <tr>\n",
       "      <th>2017-12-31 21:30:00</th>\n",
       "      <td>-5306.4</td>\n",
       "      <td>205.2</td>\n",
       "      <td>208.8</td>\n",
       "      <td>39.6</td>\n",
       "      <td>183.6</td>\n",
       "      <td>284.4</td>\n",
       "      <td>316.8</td>\n",
       "      <td>176.4</td>\n",
       "      <td>133.2</td>\n",
       "      <td>129.6</td>\n",
       "      <td>...</td>\n",
       "      <td>604.8</td>\n",
       "      <td>-259.2</td>\n",
       "      <td>32.4</td>\n",
       "      <td>115.2</td>\n",
       "      <td>169.2</td>\n",
       "      <td>100.8</td>\n",
       "      <td>10.8</td>\n",
       "      <td>-100.8</td>\n",
       "      <td>122.4</td>\n",
       "      <td>309.6</td>\n",
       "    </tr>\n",
       "    <tr>\n",
       "      <th>2017-12-31 22:00:00</th>\n",
       "      <td>-4910.4</td>\n",
       "      <td>208.8</td>\n",
       "      <td>183.6</td>\n",
       "      <td>39.6</td>\n",
       "      <td>154.8</td>\n",
       "      <td>252.0</td>\n",
       "      <td>295.2</td>\n",
       "      <td>165.6</td>\n",
       "      <td>133.2</td>\n",
       "      <td>133.2</td>\n",
       "      <td>...</td>\n",
       "      <td>565.2</td>\n",
       "      <td>-241.2</td>\n",
       "      <td>21.6</td>\n",
       "      <td>100.8</td>\n",
       "      <td>154.8</td>\n",
       "      <td>86.4</td>\n",
       "      <td>18.0</td>\n",
       "      <td>-75.6</td>\n",
       "      <td>100.8</td>\n",
       "      <td>288.0</td>\n",
       "    </tr>\n",
       "    <tr>\n",
       "      <th>2017-12-31 22:30:00</th>\n",
       "      <td>-4683.6</td>\n",
       "      <td>187.2</td>\n",
       "      <td>183.6</td>\n",
       "      <td>36.0</td>\n",
       "      <td>147.6</td>\n",
       "      <td>230.4</td>\n",
       "      <td>320.4</td>\n",
       "      <td>147.6</td>\n",
       "      <td>118.8</td>\n",
       "      <td>126.0</td>\n",
       "      <td>...</td>\n",
       "      <td>529.2</td>\n",
       "      <td>-226.8</td>\n",
       "      <td>21.6</td>\n",
       "      <td>100.8</td>\n",
       "      <td>147.6</td>\n",
       "      <td>86.4</td>\n",
       "      <td>14.4</td>\n",
       "      <td>-86.4</td>\n",
       "      <td>108.0</td>\n",
       "      <td>266.4</td>\n",
       "    </tr>\n",
       "    <tr>\n",
       "      <th>2017-12-31 23:00:00</th>\n",
       "      <td>-4262.4</td>\n",
       "      <td>180.0</td>\n",
       "      <td>165.6</td>\n",
       "      <td>32.4</td>\n",
       "      <td>136.8</td>\n",
       "      <td>223.2</td>\n",
       "      <td>241.2</td>\n",
       "      <td>147.6</td>\n",
       "      <td>115.2</td>\n",
       "      <td>111.6</td>\n",
       "      <td>...</td>\n",
       "      <td>496.8</td>\n",
       "      <td>-208.8</td>\n",
       "      <td>21.6</td>\n",
       "      <td>93.6</td>\n",
       "      <td>133.2</td>\n",
       "      <td>79.2</td>\n",
       "      <td>14.4</td>\n",
       "      <td>-75.6</td>\n",
       "      <td>97.2</td>\n",
       "      <td>255.6</td>\n",
       "    </tr>\n",
       "    <tr>\n",
       "      <th>2017-12-31 23:30:00</th>\n",
       "      <td>-3808.8</td>\n",
       "      <td>176.4</td>\n",
       "      <td>169.2</td>\n",
       "      <td>25.2</td>\n",
       "      <td>122.4</td>\n",
       "      <td>201.6</td>\n",
       "      <td>241.2</td>\n",
       "      <td>122.4</td>\n",
       "      <td>100.8</td>\n",
       "      <td>93.6</td>\n",
       "      <td>...</td>\n",
       "      <td>421.2</td>\n",
       "      <td>-180.0</td>\n",
       "      <td>28.8</td>\n",
       "      <td>86.4</td>\n",
       "      <td>118.8</td>\n",
       "      <td>68.4</td>\n",
       "      <td>10.8</td>\n",
       "      <td>-68.4</td>\n",
       "      <td>86.4</td>\n",
       "      <td>216.0</td>\n",
       "    </tr>\n",
       "  </tbody>\n",
       "</table>\n",
       "<p>87600 rows × 96 columns</p>\n",
       "</div>"
      ],
      "text/plain": [
       "                     reservoir_demand  node_1_demand  node_2_demand  \\\n",
       "Timestamp                                                             \n",
       "2017-01-01 00:00:00           -3348.0          154.8          169.2   \n",
       "2017-01-01 00:30:00           -2959.2          136.8          147.6   \n",
       "2017-01-01 01:00:00           -2692.8          129.6          126.0   \n",
       "2017-01-01 01:30:00           -2379.6          104.4          100.8   \n",
       "2017-01-01 02:00:00           -2228.4          104.4          104.4   \n",
       "...                               ...            ...            ...   \n",
       "2017-12-31 21:30:00           -5306.4          205.2          208.8   \n",
       "2017-12-31 22:00:00           -4910.4          208.8          183.6   \n",
       "2017-12-31 22:30:00           -4683.6          187.2          183.6   \n",
       "2017-12-31 23:00:00           -4262.4          180.0          165.6   \n",
       "2017-12-31 23:30:00           -3808.8          176.4          169.2   \n",
       "\n",
       "                     node_3_demand  node_4_demand  node_5_demand  \\\n",
       "Timestamp                                                          \n",
       "2017-01-01 00:00:00           18.0          118.8          169.2   \n",
       "2017-01-01 00:30:00           18.0          108.0          144.0   \n",
       "2017-01-01 01:00:00           14.4          104.4          133.2   \n",
       "2017-01-01 01:30:00           10.8           86.4          122.4   \n",
       "2017-01-01 02:00:00           10.8           79.2          122.4   \n",
       "...                            ...            ...            ...   \n",
       "2017-12-31 21:30:00           39.6          183.6          284.4   \n",
       "2017-12-31 22:00:00           39.6          154.8          252.0   \n",
       "2017-12-31 22:30:00           36.0          147.6          230.4   \n",
       "2017-12-31 23:00:00           32.4          136.8          223.2   \n",
       "2017-12-31 23:30:00           25.2          122.4          201.6   \n",
       "\n",
       "                     node_6_demand  node_7_demand  node_8_demand  \\\n",
       "Timestamp                                                          \n",
       "2017-01-01 00:00:00          234.0           86.4           82.8   \n",
       "2017-01-01 00:30:00          237.6           79.2           75.6   \n",
       "2017-01-01 01:00:00          205.2           72.0           72.0   \n",
       "2017-01-01 01:30:00          180.0           68.4           57.6   \n",
       "2017-01-01 02:00:00          183.6           68.4           54.0   \n",
       "...                            ...            ...            ...   \n",
       "2017-12-31 21:30:00          316.8          176.4          133.2   \n",
       "2017-12-31 22:00:00          295.2          165.6          133.2   \n",
       "2017-12-31 22:30:00          320.4          147.6          118.8   \n",
       "2017-12-31 23:00:00          241.2          147.6          115.2   \n",
       "2017-12-31 23:30:00          241.2          122.4          100.8   \n",
       "\n",
       "                     node_9_demand  ...  link_23_flow  link_24_flow  \\\n",
       "Timestamp                           ...                               \n",
       "2017-01-01 00:00:00          104.4  ...         439.2        -205.2   \n",
       "2017-01-01 00:30:00           90.0  ...         392.4        -187.2   \n",
       "2017-01-01 01:00:00           90.0  ...         349.2        -176.4   \n",
       "2017-01-01 01:30:00           82.8  ...         316.8        -158.4   \n",
       "2017-01-01 02:00:00           75.6  ...         277.2        -144.0   \n",
       "...                            ...  ...           ...           ...   \n",
       "2017-12-31 21:30:00          129.6  ...         604.8        -259.2   \n",
       "2017-12-31 22:00:00          133.2  ...         565.2        -241.2   \n",
       "2017-12-31 22:30:00          126.0  ...         529.2        -226.8   \n",
       "2017-12-31 23:00:00          111.6  ...         496.8        -208.8   \n",
       "2017-12-31 23:30:00           93.6  ...         421.2        -180.0   \n",
       "\n",
       "                     link_25_flow  link_26_flow  link_27_flow  link_28_flow  \\\n",
       "Timestamp                                                                     \n",
       "2017-01-01 00:00:00         -75.6         -18.0         118.8          68.4   \n",
       "2017-01-01 00:30:00         -72.0         -21.6         108.0          61.2   \n",
       "2017-01-01 01:00:00         -64.8         -18.0          93.6          50.4   \n",
       "2017-01-01 01:30:00         -54.0         -10.8          79.2          46.8   \n",
       "2017-01-01 02:00:00         -57.6         -18.0          72.0          39.6   \n",
       "...                           ...           ...           ...           ...   \n",
       "2017-12-31 21:30:00          32.4         115.2         169.2         100.8   \n",
       "2017-12-31 22:00:00          21.6         100.8         154.8          86.4   \n",
       "2017-12-31 22:30:00          21.6         100.8         147.6          86.4   \n",
       "2017-12-31 23:00:00          21.6          93.6         133.2          79.2   \n",
       "2017-12-31 23:30:00          28.8          86.4         118.8          68.4   \n",
       "\n",
       "                     link_29_flow  link_30_flow  link_31_flow  link_32_flow  \n",
       "Timestamp                                                                    \n",
       "2017-01-01 00:00:00           7.2         -54.0          75.6         212.4  \n",
       "2017-01-01 00:30:00           3.6         -54.0          72.0         183.6  \n",
       "2017-01-01 01:00:00           3.6         -39.6          54.0         151.2  \n",
       "2017-01-01 01:30:00           7.2         -32.4          50.4         140.4  \n",
       "2017-01-01 02:00:00           7.2         -32.4          43.2         118.8  \n",
       "...                           ...           ...           ...           ...  \n",
       "2017-12-31 21:30:00          10.8        -100.8         122.4         309.6  \n",
       "2017-12-31 22:00:00          18.0         -75.6         100.8         288.0  \n",
       "2017-12-31 22:30:00          14.4         -86.4         108.0         266.4  \n",
       "2017-12-31 23:00:00          14.4         -75.6          97.2         255.6  \n",
       "2017-12-31 23:30:00          10.8         -68.4          86.4         216.0  \n",
       "\n",
       "[87600 rows x 96 columns]"
      ]
     },
     "execution_count": 2,
     "metadata": {},
     "output_type": "execute_result"
    }
   ],
   "source": [
    "df = pd.read_csv('/Users/alexellard/Downloads/scenarios_data.csv', header=0, index_col=0)\n",
    "df"
   ]
  },
  {
   "cell_type": "code",
   "execution_count": 3,
   "metadata": {},
   "outputs": [
    {
     "name": "stdout",
     "output_type": "stream",
     "text": [
      "[[]]\n",
      "starting df shape: (87600, 96)\n",
      "This is training run 1 and has the shape:  (87600, 96)\n",
      "The value of dropped columns is 0\n"
     ]
    },
    {
     "name": "stderr",
     "output_type": "stream",
     "text": [
      "/Users/alexellard/opt/anaconda3/lib/python3.7/site-packages/xgboost/data.py:96: UserWarning: Use subset (sliced data) of np.ndarray is not recommended because it will generate extra copies and increase memory consumption\n",
      "  \"because it will generate extra copies and increase \" +\n"
     ]
    },
    {
     "name": "stdout",
     "output_type": "stream",
     "text": [
      "test y shape : (17520, 1)\n",
      "Inv y shape : (17520, 96)\n",
      "y pred shape : (17520, 1)\n",
      "inv y pred : (17520, 96)\n",
      "Run 1 Mean Absolute Error: 27.03572745055103\n",
      "RMSE: 34.712\n",
      "R^2: 1.000\n",
      "[[]]\n",
      "starting df shape: (87600, 96)\n",
      "This is training run 2 and has the shape:  (87600, 96)\n",
      "The value of dropped columns is 0\n"
     ]
    },
    {
     "name": "stderr",
     "output_type": "stream",
     "text": [
      "/Users/alexellard/opt/anaconda3/lib/python3.7/site-packages/xgboost/data.py:96: UserWarning: Use subset (sliced data) of np.ndarray is not recommended because it will generate extra copies and increase memory consumption\n",
      "  \"because it will generate extra copies and increase \" +\n"
     ]
    },
    {
     "name": "stdout",
     "output_type": "stream",
     "text": [
      "test y shape : (17520, 1)\n",
      "Inv y shape : (17520, 96)\n",
      "y pred shape : (17520, 1)\n",
      "inv y pred : (17520, 96)\n",
      "Run 2 Mean Absolute Error: 27.03572745055103\n",
      "RMSE: 34.712\n",
      "R^2: 1.000\n",
      "[[]]\n",
      "starting df shape: (87600, 96)\n",
      "This is training run 3 and has the shape:  (87600, 96)\n",
      "The value of dropped columns is 0\n"
     ]
    },
    {
     "name": "stderr",
     "output_type": "stream",
     "text": [
      "/Users/alexellard/opt/anaconda3/lib/python3.7/site-packages/xgboost/data.py:96: UserWarning: Use subset (sliced data) of np.ndarray is not recommended because it will generate extra copies and increase memory consumption\n",
      "  \"because it will generate extra copies and increase \" +\n"
     ]
    },
    {
     "name": "stdout",
     "output_type": "stream",
     "text": [
      "test y shape : (17520, 1)\n",
      "Inv y shape : (17520, 96)\n",
      "y pred shape : (17520, 1)\n",
      "inv y pred : (17520, 96)\n",
      "Run 3 Mean Absolute Error: 27.03572745055103\n",
      "RMSE: 34.712\n",
      "R^2: 1.000\n",
      "[[]]\n",
      "starting df shape: (87600, 96)\n",
      "This is training run 4 and has the shape:  (87600, 96)\n",
      "The value of dropped columns is 0\n"
     ]
    },
    {
     "name": "stderr",
     "output_type": "stream",
     "text": [
      "/Users/alexellard/opt/anaconda3/lib/python3.7/site-packages/xgboost/data.py:96: UserWarning: Use subset (sliced data) of np.ndarray is not recommended because it will generate extra copies and increase memory consumption\n",
      "  \"because it will generate extra copies and increase \" +\n"
     ]
    },
    {
     "name": "stdout",
     "output_type": "stream",
     "text": [
      "test y shape : (17520, 1)\n",
      "Inv y shape : (17520, 96)\n",
      "y pred shape : (17520, 1)\n",
      "inv y pred : (17520, 96)\n",
      "Run 4 Mean Absolute Error: 27.03572745055103\n",
      "RMSE: 34.712\n",
      "R^2: 1.000\n",
      "[[]]\n",
      "starting df shape: (87600, 96)\n",
      "This is training run 5 and has the shape:  (87600, 96)\n",
      "The value of dropped columns is 0\n"
     ]
    },
    {
     "name": "stderr",
     "output_type": "stream",
     "text": [
      "/Users/alexellard/opt/anaconda3/lib/python3.7/site-packages/xgboost/data.py:96: UserWarning: Use subset (sliced data) of np.ndarray is not recommended because it will generate extra copies and increase memory consumption\n",
      "  \"because it will generate extra copies and increase \" +\n"
     ]
    },
    {
     "name": "stdout",
     "output_type": "stream",
     "text": [
      "test y shape : (17520, 1)\n",
      "Inv y shape : (17520, 96)\n",
      "y pred shape : (17520, 1)\n",
      "inv y pred : (17520, 96)\n",
      "Run 5 Mean Absolute Error: 27.03572745055103\n",
      "RMSE: 34.712\n",
      "R^2: 1.000\n",
      "[[]]\n",
      "starting df shape: (87600, 96)\n",
      "This is training run 6 and has the shape:  (87600, 96)\n",
      "The value of dropped columns is 0\n"
     ]
    },
    {
     "name": "stderr",
     "output_type": "stream",
     "text": [
      "/Users/alexellard/opt/anaconda3/lib/python3.7/site-packages/xgboost/data.py:96: UserWarning: Use subset (sliced data) of np.ndarray is not recommended because it will generate extra copies and increase memory consumption\n",
      "  \"because it will generate extra copies and increase \" +\n"
     ]
    },
    {
     "name": "stdout",
     "output_type": "stream",
     "text": [
      "test y shape : (17520, 1)\n",
      "Inv y shape : (17520, 96)\n",
      "y pred shape : (17520, 1)\n",
      "inv y pred : (17520, 96)\n",
      "Run 6 Mean Absolute Error: 27.03572745055103\n",
      "RMSE: 34.712\n",
      "R^2: 1.000\n",
      "[[]]\n",
      "starting df shape: (87600, 96)\n",
      "This is training run 7 and has the shape:  (87600, 96)\n",
      "The value of dropped columns is 0\n"
     ]
    },
    {
     "name": "stderr",
     "output_type": "stream",
     "text": [
      "/Users/alexellard/opt/anaconda3/lib/python3.7/site-packages/xgboost/data.py:96: UserWarning: Use subset (sliced data) of np.ndarray is not recommended because it will generate extra copies and increase memory consumption\n",
      "  \"because it will generate extra copies and increase \" +\n"
     ]
    },
    {
     "name": "stdout",
     "output_type": "stream",
     "text": [
      "test y shape : (17520, 1)\n",
      "Inv y shape : (17520, 96)\n",
      "y pred shape : (17520, 1)\n",
      "inv y pred : (17520, 96)\n",
      "Run 7 Mean Absolute Error: 27.03572745055103\n",
      "RMSE: 34.712\n",
      "R^2: 1.000\n",
      "[[]]\n",
      "starting df shape: (87600, 96)\n",
      "This is training run 8 and has the shape:  (87600, 96)\n",
      "The value of dropped columns is 0\n"
     ]
    },
    {
     "name": "stderr",
     "output_type": "stream",
     "text": [
      "/Users/alexellard/opt/anaconda3/lib/python3.7/site-packages/xgboost/data.py:96: UserWarning: Use subset (sliced data) of np.ndarray is not recommended because it will generate extra copies and increase memory consumption\n",
      "  \"because it will generate extra copies and increase \" +\n"
     ]
    },
    {
     "name": "stdout",
     "output_type": "stream",
     "text": [
      "test y shape : (17520, 1)\n",
      "Inv y shape : (17520, 96)\n",
      "y pred shape : (17520, 1)\n",
      "inv y pred : (17520, 96)\n",
      "Run 8 Mean Absolute Error: 27.03572745055103\n",
      "RMSE: 34.712\n",
      "R^2: 1.000\n",
      "[[]]\n",
      "starting df shape: (87600, 96)\n",
      "This is training run 9 and has the shape:  (87600, 96)\n",
      "The value of dropped columns is 0\n"
     ]
    },
    {
     "name": "stderr",
     "output_type": "stream",
     "text": [
      "/Users/alexellard/opt/anaconda3/lib/python3.7/site-packages/xgboost/data.py:96: UserWarning: Use subset (sliced data) of np.ndarray is not recommended because it will generate extra copies and increase memory consumption\n",
      "  \"because it will generate extra copies and increase \" +\n"
     ]
    },
    {
     "name": "stdout",
     "output_type": "stream",
     "text": [
      "test y shape : (17520, 1)\n",
      "Inv y shape : (17520, 96)\n",
      "y pred shape : (17520, 1)\n",
      "inv y pred : (17520, 96)\n",
      "Run 9 Mean Absolute Error: 27.03572745055103\n",
      "RMSE: 34.712\n",
      "R^2: 1.000\n",
      "[[]]\n",
      "starting df shape: (87600, 96)\n",
      "This is training run 10 and has the shape:  (87600, 96)\n",
      "The value of dropped columns is 0\n"
     ]
    },
    {
     "name": "stderr",
     "output_type": "stream",
     "text": [
      "/Users/alexellard/opt/anaconda3/lib/python3.7/site-packages/xgboost/data.py:96: UserWarning: Use subset (sliced data) of np.ndarray is not recommended because it will generate extra copies and increase memory consumption\n",
      "  \"because it will generate extra copies and increase \" +\n"
     ]
    },
    {
     "name": "stdout",
     "output_type": "stream",
     "text": [
      "test y shape : (17520, 1)\n",
      "Inv y shape : (17520, 96)\n",
      "y pred shape : (17520, 1)\n",
      "inv y pred : (17520, 96)\n",
      "Run 10 Mean Absolute Error: 27.03572745055103\n",
      "RMSE: 34.712\n",
      "R^2: 1.000\n",
      "[['node_5_pressure', 'node_25_demand', 'node_30_pressure', 'node_31_demand', 'node_15_pressure']]\n",
      "starting df shape: (87600, 91)\n",
      "This is training run 1 and has the shape:  (87600, 91)\n",
      "The value of dropped columns is 5\n"
     ]
    },
    {
     "name": "stderr",
     "output_type": "stream",
     "text": [
      "/Users/alexellard/opt/anaconda3/lib/python3.7/site-packages/xgboost/data.py:96: UserWarning: Use subset (sliced data) of np.ndarray is not recommended because it will generate extra copies and increase memory consumption\n",
      "  \"because it will generate extra copies and increase \" +\n"
     ]
    },
    {
     "name": "stdout",
     "output_type": "stream",
     "text": [
      "test y shape : (17520, 1)\n",
      "Inv y shape : (17520, 91)\n",
      "y pred shape : (17520, 1)\n",
      "inv y pred : (17520, 91)\n",
      "Run 1 Mean Absolute Error: 27.46300710764514\n",
      "RMSE: 35.244\n",
      "R^2: 1.000\n",
      "[['node_17_demand', 'link_32_flow', 'node_28_demand', 'node_2_demand', 'link_17_flow']]\n",
      "starting df shape: (87600, 91)\n",
      "This is training run 2 and has the shape:  (87600, 91)\n",
      "The value of dropped columns is 5\n"
     ]
    },
    {
     "name": "stderr",
     "output_type": "stream",
     "text": [
      "/Users/alexellard/opt/anaconda3/lib/python3.7/site-packages/xgboost/data.py:96: UserWarning: Use subset (sliced data) of np.ndarray is not recommended because it will generate extra copies and increase memory consumption\n",
      "  \"because it will generate extra copies and increase \" +\n"
     ]
    },
    {
     "name": "stdout",
     "output_type": "stream",
     "text": [
      "test y shape : (17520, 1)\n",
      "Inv y shape : (17520, 91)\n",
      "y pred shape : (17520, 1)\n",
      "inv y pred : (17520, 91)\n",
      "Run 2 Mean Absolute Error: 30.921215945474945\n",
      "RMSE: 39.845\n",
      "R^2: 0.999\n",
      "[['node_12_demand', 'link_3_flow', 'node_28_demand', 'reservoir_pressure', 'node_20_demand']]\n",
      "starting df shape: (87600, 91)\n",
      "This is training run 3 and has the shape:  (87600, 91)\n",
      "The value of dropped columns is 5\n"
     ]
    },
    {
     "name": "stderr",
     "output_type": "stream",
     "text": [
      "/Users/alexellard/opt/anaconda3/lib/python3.7/site-packages/xgboost/data.py:96: UserWarning: Use subset (sliced data) of np.ndarray is not recommended because it will generate extra copies and increase memory consumption\n",
      "  \"because it will generate extra copies and increase \" +\n"
     ]
    },
    {
     "name": "stdout",
     "output_type": "stream",
     "text": [
      "test y shape : (17520, 1)\n",
      "Inv y shape : (17520, 91)\n",
      "y pred shape : (17520, 1)\n",
      "inv y pred : (17520, 91)\n",
      "Run 3 Mean Absolute Error: 27.356913432562486\n",
      "RMSE: 35.198\n",
      "R^2: 1.000\n",
      "[['node_28_demand', 'link_10_flow', 'node_7_pressure', 'node_21_pressure', 'reservoir_demand']]\n",
      "starting df shape: (87600, 91)\n",
      "This is training run 4 and has the shape:  (87600, 91)\n",
      "The value of dropped columns is 5\n"
     ]
    },
    {
     "name": "stderr",
     "output_type": "stream",
     "text": [
      "/Users/alexellard/opt/anaconda3/lib/python3.7/site-packages/xgboost/data.py:96: UserWarning: Use subset (sliced data) of np.ndarray is not recommended because it will generate extra copies and increase memory consumption\n",
      "  \"because it will generate extra copies and increase \" +\n"
     ]
    },
    {
     "name": "stdout",
     "output_type": "stream",
     "text": [
      "test y shape : (17520, 1)\n",
      "Inv y shape : (17520, 91)\n",
      "y pred shape : (17520, 1)\n",
      "inv y pred : (17520, 91)\n",
      "Run 4 Mean Absolute Error: 1.6886469266525839\n",
      "RMSE: 2.174\n",
      "R^2: 0.999\n",
      "[['link_27_flow', 'link_10_flow', 'node_12_pressure', 'node_26_pressure', 'node_3_pressure']]\n",
      "starting df shape: (87600, 91)\n",
      "This is training run 5 and has the shape:  (87600, 91)\n",
      "The value of dropped columns is 5\n"
     ]
    },
    {
     "name": "stderr",
     "output_type": "stream",
     "text": [
      "/Users/alexellard/opt/anaconda3/lib/python3.7/site-packages/xgboost/data.py:96: UserWarning: Use subset (sliced data) of np.ndarray is not recommended because it will generate extra copies and increase memory consumption\n",
      "  \"because it will generate extra copies and increase \" +\n"
     ]
    },
    {
     "name": "stdout",
     "output_type": "stream",
     "text": [
      "test y shape : (17520, 1)\n",
      "Inv y shape : (17520, 91)\n",
      "y pred shape : (17520, 1)\n",
      "inv y pred : (17520, 91)\n",
      "Run 5 Mean Absolute Error: 27.067414094605414\n",
      "RMSE: 34.677\n",
      "R^2: 1.000\n",
      "[['node_31_demand', 'link_30_flow', 'node_8_demand', 'node_6_demand', 'node_16_demand']]\n",
      "starting df shape: (87600, 91)\n",
      "This is training run 6 and has the shape:  (87600, 91)\n",
      "The value of dropped columns is 5\n"
     ]
    },
    {
     "name": "stderr",
     "output_type": "stream",
     "text": [
      "/Users/alexellard/opt/anaconda3/lib/python3.7/site-packages/xgboost/data.py:96: UserWarning: Use subset (sliced data) of np.ndarray is not recommended because it will generate extra copies and increase memory consumption\n",
      "  \"because it will generate extra copies and increase \" +\n"
     ]
    },
    {
     "name": "stdout",
     "output_type": "stream",
     "text": [
      "test y shape : (17520, 1)\n",
      "Inv y shape : (17520, 91)\n",
      "y pred shape : (17520, 1)\n",
      "inv y pred : (17520, 91)\n",
      "Run 6 Mean Absolute Error: 56.695383356145285\n",
      "RMSE: 74.340\n",
      "R^2: 0.998\n",
      "[['node_6_pressure', 'link_2_flow', 'node_24_demand', 'node_20_demand', 'node_28_pressure']]\n",
      "starting df shape: (87600, 91)\n",
      "This is training run 7 and has the shape:  (87600, 91)\n",
      "The value of dropped columns is 5\n"
     ]
    },
    {
     "name": "stderr",
     "output_type": "stream",
     "text": [
      "/Users/alexellard/opt/anaconda3/lib/python3.7/site-packages/xgboost/data.py:96: UserWarning: Use subset (sliced data) of np.ndarray is not recommended because it will generate extra copies and increase memory consumption\n",
      "  \"because it will generate extra copies and increase \" +\n"
     ]
    },
    {
     "name": "stdout",
     "output_type": "stream",
     "text": [
      "test y shape : (17520, 1)\n",
      "Inv y shape : (17520, 91)\n",
      "y pred shape : (17520, 1)\n",
      "inv y pred : (17520, 91)\n",
      "Run 7 Mean Absolute Error: 27.70990205064427\n",
      "RMSE: 35.512\n",
      "R^2: 0.999\n",
      "[['node_3_demand', 'node_28_pressure', 'node_12_demand', 'node_12_pressure']]\n",
      "starting df shape: (87600, 92)\n",
      "This is training run 8 and has the shape:  (87600, 92)\n",
      "The value of dropped columns is 5\n"
     ]
    },
    {
     "name": "stderr",
     "output_type": "stream",
     "text": [
      "/Users/alexellard/opt/anaconda3/lib/python3.7/site-packages/xgboost/data.py:96: UserWarning: Use subset (sliced data) of np.ndarray is not recommended because it will generate extra copies and increase memory consumption\n",
      "  \"because it will generate extra copies and increase \" +\n"
     ]
    },
    {
     "name": "stdout",
     "output_type": "stream",
     "text": [
      "test y shape : (17520, 1)\n",
      "Inv y shape : (17520, 92)\n",
      "y pred shape : (17520, 1)\n",
      "inv y pred : (17520, 92)\n",
      "Run 8 Mean Absolute Error: 26.97712147048394\n",
      "RMSE: 34.675\n",
      "R^2: 1.000\n",
      "[['node_27_pressure', 'node_7_demand', 'node_26_demand', 'link_17_flow', 'reservoir_demand']]\n",
      "starting df shape: (87600, 91)\n",
      "This is training run 9 and has the shape:  (87600, 91)\n",
      "The value of dropped columns is 5\n"
     ]
    },
    {
     "name": "stderr",
     "output_type": "stream",
     "text": [
      "/Users/alexellard/opt/anaconda3/lib/python3.7/site-packages/xgboost/data.py:96: UserWarning: Use subset (sliced data) of np.ndarray is not recommended because it will generate extra copies and increase memory consumption\n",
      "  \"because it will generate extra copies and increase \" +\n"
     ]
    },
    {
     "name": "stdout",
     "output_type": "stream",
     "text": [
      "test y shape : (17520, 1)\n",
      "Inv y shape : (17520, 91)\n",
      "y pred shape : (17520, 1)\n",
      "inv y pred : (17520, 91)\n",
      "Run 9 Mean Absolute Error: 1.6732038809274907\n",
      "RMSE: 2.156\n",
      "R^2: 1.000\n",
      "[['link_17_flow', 'node_26_pressure', 'link_26_flow', 'node_10_demand', 'node_15_demand']]\n",
      "starting df shape: (87600, 91)\n",
      "This is training run 10 and has the shape:  (87600, 91)\n",
      "The value of dropped columns is 5\n"
     ]
    },
    {
     "name": "stderr",
     "output_type": "stream",
     "text": [
      "/Users/alexellard/opt/anaconda3/lib/python3.7/site-packages/xgboost/data.py:96: UserWarning: Use subset (sliced data) of np.ndarray is not recommended because it will generate extra copies and increase memory consumption\n",
      "  \"because it will generate extra copies and increase \" +\n"
     ]
    },
    {
     "name": "stdout",
     "output_type": "stream",
     "text": [
      "test y shape : (17520, 1)\n",
      "Inv y shape : (17520, 91)\n",
      "y pred shape : (17520, 1)\n",
      "inv y pred : (17520, 91)\n",
      "Run 10 Mean Absolute Error: 28.057731304999706\n",
      "RMSE: 35.971\n",
      "R^2: 0.999\n",
      "[['node_20_pressure', 'node_28_demand', 'node_7_demand', 'node_23_demand', 'node_3_demand', 'node_24_pressure', 'link_32_flow', 'node_3_pressure', 'node_13_pressure', 'link_1_flow']]\n",
      "starting df shape: (87600, 86)\n",
      "This is training run 1 and has the shape:  (87600, 86)\n",
      "The value of dropped columns is 10\n"
     ]
    },
    {
     "name": "stderr",
     "output_type": "stream",
     "text": [
      "/Users/alexellard/opt/anaconda3/lib/python3.7/site-packages/xgboost/data.py:96: UserWarning: Use subset (sliced data) of np.ndarray is not recommended because it will generate extra copies and increase memory consumption\n",
      "  \"because it will generate extra copies and increase \" +\n"
     ]
    },
    {
     "name": "stdout",
     "output_type": "stream",
     "text": [
      "test y shape : (17520, 1)\n",
      "Inv y shape : (17520, 86)\n",
      "y pred shape : (17520, 1)\n",
      "inv y pred : (17520, 86)\n",
      "Run 1 Mean Absolute Error: 27.5926823855573\n",
      "RMSE: 35.410\n",
      "R^2: 0.999\n",
      "[['node_5_pressure', 'link_22_flow', 'link_14_flow', 'node_4_demand', 'node_4_pressure', 'link_23_flow', 'link_11_flow', 'node_1_pressure', 'node_19_demand']]\n",
      "starting df shape: (87600, 87)\n",
      "This is training run 2 and has the shape:  (87600, 87)\n",
      "The value of dropped columns is 10\n"
     ]
    },
    {
     "name": "stderr",
     "output_type": "stream",
     "text": [
      "/Users/alexellard/opt/anaconda3/lib/python3.7/site-packages/xgboost/data.py:96: UserWarning: Use subset (sliced data) of np.ndarray is not recommended because it will generate extra copies and increase memory consumption\n",
      "  \"because it will generate extra copies and increase \" +\n"
     ]
    },
    {
     "name": "stdout",
     "output_type": "stream",
     "text": [
      "test y shape : (17520, 1)\n",
      "Inv y shape : (17520, 87)\n",
      "y pred shape : (17520, 1)\n",
      "inv y pred : (17520, 87)\n",
      "Run 2 Mean Absolute Error: 27.236646759173748\n",
      "RMSE: 35.037\n",
      "R^2: 1.000\n",
      "[['node_4_pressure', 'node_15_demand', 'node_1_pressure', 'node_29_pressure', 'node_16_demand', 'link_6_flow', 'node_1_demand', 'node_6_pressure', 'node_27_demand', 'node_23_pressure']]\n",
      "starting df shape: (87600, 86)\n",
      "This is training run 3 and has the shape:  (87600, 86)\n",
      "The value of dropped columns is 10\n"
     ]
    },
    {
     "name": "stderr",
     "output_type": "stream",
     "text": [
      "/Users/alexellard/opt/anaconda3/lib/python3.7/site-packages/xgboost/data.py:96: UserWarning: Use subset (sliced data) of np.ndarray is not recommended because it will generate extra copies and increase memory consumption\n",
      "  \"because it will generate extra copies and increase \" +\n"
     ]
    },
    {
     "name": "stdout",
     "output_type": "stream",
     "text": [
      "test y shape : (17520, 1)\n",
      "Inv y shape : (17520, 86)\n",
      "y pred shape : (17520, 1)\n",
      "inv y pred : (17520, 86)\n",
      "Run 3 Mean Absolute Error: 56.60806763367948\n",
      "RMSE: 74.189\n",
      "R^2: 0.998\n",
      "[['node_14_pressure', 'link_31_flow', 'node_6_pressure', 'node_27_pressure', 'link_30_flow', 'node_2_pressure', 'reservoir_pressure', 'node_27_demand', 'link_22_flow', 'reservoir_demand']]\n",
      "starting df shape: (87600, 86)\n",
      "This is training run 4 and has the shape:  (87600, 86)\n",
      "The value of dropped columns is 10\n"
     ]
    },
    {
     "name": "stderr",
     "output_type": "stream",
     "text": [
      "/Users/alexellard/opt/anaconda3/lib/python3.7/site-packages/xgboost/data.py:96: UserWarning: Use subset (sliced data) of np.ndarray is not recommended because it will generate extra copies and increase memory consumption\n",
      "  \"because it will generate extra copies and increase \" +\n"
     ]
    },
    {
     "name": "stdout",
     "output_type": "stream",
     "text": [
      "test y shape : (17520, 1)\n",
      "Inv y shape : (17520, 86)\n",
      "y pred shape : (17520, 1)\n",
      "inv y pred : (17520, 86)\n",
      "Run 4 Mean Absolute Error: 1.6789530898370146\n",
      "RMSE: 2.166\n",
      "R^2: 0.999\n",
      "[['link_29_flow', 'node_27_pressure', 'node_13_pressure', 'link_10_flow', 'node_6_pressure', 'link_18_flow', 'link_12_flow', 'node_31_demand', 'node_5_pressure', 'link_6_flow']]\n",
      "starting df shape: (87600, 86)\n",
      "This is training run 5 and has the shape:  (87600, 86)\n",
      "The value of dropped columns is 10\n"
     ]
    },
    {
     "name": "stderr",
     "output_type": "stream",
     "text": [
      "/Users/alexellard/opt/anaconda3/lib/python3.7/site-packages/xgboost/data.py:96: UserWarning: Use subset (sliced data) of np.ndarray is not recommended because it will generate extra copies and increase memory consumption\n",
      "  \"because it will generate extra copies and increase \" +\n"
     ]
    },
    {
     "name": "stdout",
     "output_type": "stream",
     "text": [
      "test y shape : (17520, 1)\n",
      "Inv y shape : (17520, 86)\n",
      "y pred shape : (17520, 1)\n",
      "inv y pred : (17520, 86)\n",
      "Run 5 Mean Absolute Error: 26.800721100505616\n",
      "RMSE: 34.373\n",
      "R^2: 1.000\n",
      "[['node_1_pressure', 'link_29_flow', 'link_12_flow', 'link_3_flow', 'node_30_pressure', 'node_18_demand', 'node_9_pressure', 'link_14_flow', 'node_5_pressure', 'node_4_demand']]\n",
      "starting df shape: (87600, 86)\n",
      "This is training run 6 and has the shape:  (87600, 86)\n",
      "The value of dropped columns is 10\n"
     ]
    },
    {
     "name": "stderr",
     "output_type": "stream",
     "text": [
      "/Users/alexellard/opt/anaconda3/lib/python3.7/site-packages/xgboost/data.py:96: UserWarning: Use subset (sliced data) of np.ndarray is not recommended because it will generate extra copies and increase memory consumption\n",
      "  \"because it will generate extra copies and increase \" +\n"
     ]
    },
    {
     "name": "stdout",
     "output_type": "stream",
     "text": [
      "test y shape : (17520, 1)\n",
      "Inv y shape : (17520, 86)\n",
      "y pred shape : (17520, 1)\n",
      "inv y pred : (17520, 86)\n",
      "Run 6 Mean Absolute Error: 27.16936955759384\n",
      "RMSE: 34.820\n",
      "R^2: 1.000\n",
      "[['node_6_pressure', 'node_19_pressure', 'node_18_pressure', 'node_24_pressure', 'node_20_demand', 'node_17_pressure', 'node_1_pressure', 'link_6_flow', 'node_30_demand']]\n",
      "starting df shape: (87600, 87)\n",
      "This is training run 7 and has the shape:  (87600, 87)\n",
      "The value of dropped columns is 10\n"
     ]
    },
    {
     "name": "stderr",
     "output_type": "stream",
     "text": [
      "/Users/alexellard/opt/anaconda3/lib/python3.7/site-packages/xgboost/data.py:96: UserWarning: Use subset (sliced data) of np.ndarray is not recommended because it will generate extra copies and increase memory consumption\n",
      "  \"because it will generate extra copies and increase \" +\n"
     ]
    },
    {
     "name": "stdout",
     "output_type": "stream",
     "text": [
      "test y shape : (17520, 1)\n",
      "Inv y shape : (17520, 87)\n",
      "y pred shape : (17520, 1)\n",
      "inv y pred : (17520, 87)\n",
      "Run 7 Mean Absolute Error: 26.925707843421804\n",
      "RMSE: 34.733\n",
      "R^2: 1.000\n",
      "[['node_4_pressure', 'node_20_pressure', 'link_12_flow', 'node_15_pressure', 'node_26_pressure', 'node_11_pressure', 'node_13_pressure', 'node_22_demand', 'link_8_flow']]\n",
      "starting df shape: (87600, 87)\n",
      "This is training run 8 and has the shape:  (87600, 87)\n",
      "The value of dropped columns is 10\n"
     ]
    },
    {
     "name": "stderr",
     "output_type": "stream",
     "text": [
      "/Users/alexellard/opt/anaconda3/lib/python3.7/site-packages/xgboost/data.py:96: UserWarning: Use subset (sliced data) of np.ndarray is not recommended because it will generate extra copies and increase memory consumption\n",
      "  \"because it will generate extra copies and increase \" +\n"
     ]
    },
    {
     "name": "stdout",
     "output_type": "stream",
     "text": [
      "test y shape : (17520, 1)\n",
      "Inv y shape : (17520, 87)\n",
      "y pred shape : (17520, 1)\n",
      "inv y pred : (17520, 87)\n",
      "Run 8 Mean Absolute Error: 27.457600881460806\n",
      "RMSE: 35.241\n",
      "R^2: 1.000\n",
      "[['link_27_flow', 'node_9_demand', 'node_14_pressure', 'node_29_pressure', 'link_8_flow', 'node_11_pressure', 'link_20_flow', 'node_19_demand', 'node_15_demand', 'node_8_pressure']]\n",
      "starting df shape: (87600, 86)\n",
      "This is training run 9 and has the shape:  (87600, 86)\n",
      "The value of dropped columns is 10\n"
     ]
    },
    {
     "name": "stderr",
     "output_type": "stream",
     "text": [
      "/Users/alexellard/opt/anaconda3/lib/python3.7/site-packages/xgboost/data.py:96: UserWarning: Use subset (sliced data) of np.ndarray is not recommended because it will generate extra copies and increase memory consumption\n",
      "  \"because it will generate extra copies and increase \" +\n"
     ]
    },
    {
     "name": "stdout",
     "output_type": "stream",
     "text": [
      "test y shape : (17520, 1)\n",
      "Inv y shape : (17520, 86)\n",
      "y pred shape : (17520, 1)\n",
      "inv y pred : (17520, 86)\n",
      "Run 9 Mean Absolute Error: 28.09026116353853\n",
      "RMSE: 36.138\n",
      "R^2: 0.999\n",
      "[['node_30_pressure', 'link_23_flow', 'node_24_demand', 'link_6_flow', 'node_17_pressure', 'link_27_flow', 'reservoir_pressure', 'node_21_pressure', 'link_24_flow', 'node_21_demand']]\n",
      "starting df shape: (87600, 86)\n",
      "This is training run 10 and has the shape:  (87600, 86)\n",
      "The value of dropped columns is 10\n"
     ]
    },
    {
     "name": "stderr",
     "output_type": "stream",
     "text": [
      "/Users/alexellard/opt/anaconda3/lib/python3.7/site-packages/xgboost/data.py:96: UserWarning: Use subset (sliced data) of np.ndarray is not recommended because it will generate extra copies and increase memory consumption\n",
      "  \"because it will generate extra copies and increase \" +\n"
     ]
    },
    {
     "name": "stdout",
     "output_type": "stream",
     "text": [
      "test y shape : (17520, 1)\n",
      "Inv y shape : (17520, 86)\n",
      "y pred shape : (17520, 1)\n",
      "inv y pred : (17520, 86)\n",
      "Run 10 Mean Absolute Error: 27.42587178334281\n",
      "RMSE: 35.275\n",
      "R^2: 1.000\n",
      "[['node_24_pressure', 'node_4_demand', 'link_20_flow', 'link_24_flow', 'node_20_demand', 'link_29_flow', 'node_22_demand', 'node_10_pressure', 'node_7_pressure', 'node_19_pressure', 'node_7_demand', 'node_1_demand', 'node_25_pressure', 'node_21_demand', 'link_19_flow']]\n",
      "starting df shape: (87600, 81)\n",
      "This is training run 1 and has the shape:  (87600, 81)\n",
      "The value of dropped columns is 15\n"
     ]
    },
    {
     "name": "stderr",
     "output_type": "stream",
     "text": [
      "/Users/alexellard/opt/anaconda3/lib/python3.7/site-packages/xgboost/data.py:96: UserWarning: Use subset (sliced data) of np.ndarray is not recommended because it will generate extra copies and increase memory consumption\n",
      "  \"because it will generate extra copies and increase \" +\n"
     ]
    },
    {
     "name": "stdout",
     "output_type": "stream",
     "text": [
      "test y shape : (17520, 1)\n",
      "Inv y shape : (17520, 81)\n",
      "y pred shape : (17520, 1)\n",
      "inv y pred : (17520, 81)\n",
      "Run 1 Mean Absolute Error: 26.884185657401552\n",
      "RMSE: 34.683\n",
      "R^2: 1.000\n",
      "[['node_13_demand', 'node_28_pressure', 'link_1_flow', 'link_2_flow', 'link_5_flow', 'node_24_pressure', 'node_19_demand', 'link_24_flow', 'node_3_pressure', 'link_17_flow', 'reservoir_demand', 'node_26_pressure', 'node_15_pressure', 'node_14_demand', 'node_4_pressure']]\n",
      "starting df shape: (87600, 81)\n",
      "This is training run 2 and has the shape:  (87600, 81)\n",
      "The value of dropped columns is 15\n"
     ]
    },
    {
     "name": "stderr",
     "output_type": "stream",
     "text": [
      "/Users/alexellard/opt/anaconda3/lib/python3.7/site-packages/xgboost/data.py:96: UserWarning: Use subset (sliced data) of np.ndarray is not recommended because it will generate extra copies and increase memory consumption\n",
      "  \"because it will generate extra copies and increase \" +\n"
     ]
    },
    {
     "name": "stdout",
     "output_type": "stream",
     "text": [
      "test y shape : (17520, 1)\n",
      "Inv y shape : (17520, 81)\n",
      "y pred shape : (17520, 1)\n",
      "inv y pred : (17520, 81)\n",
      "Run 2 Mean Absolute Error: 1.7762767134097883\n",
      "RMSE: 2.292\n",
      "R^2: 0.999\n",
      "[['link_24_flow', 'node_21_pressure', 'link_5_flow', 'node_29_pressure', 'link_32_flow', 'node_24_demand', 'node_17_demand', 'node_23_pressure', 'node_12_pressure', 'node_9_demand', 'node_8_demand', 'node_26_demand', 'node_25_demand', 'link_3_flow', 'link_17_flow']]\n",
      "starting df shape: (87600, 81)\n",
      "This is training run 3 and has the shape:  (87600, 81)\n",
      "The value of dropped columns is 15\n"
     ]
    },
    {
     "name": "stderr",
     "output_type": "stream",
     "text": [
      "/Users/alexellard/opt/anaconda3/lib/python3.7/site-packages/xgboost/data.py:96: UserWarning: Use subset (sliced data) of np.ndarray is not recommended because it will generate extra copies and increase memory consumption\n",
      "  \"because it will generate extra copies and increase \" +\n"
     ]
    },
    {
     "name": "stdout",
     "output_type": "stream",
     "text": [
      "test y shape : (17520, 1)\n",
      "Inv y shape : (17520, 81)\n",
      "y pred shape : (17520, 1)\n",
      "inv y pred : (17520, 81)\n",
      "Run 3 Mean Absolute Error: 30.43112481813083\n",
      "RMSE: 39.178\n",
      "R^2: 0.999\n",
      "[['node_15_demand', 'link_26_flow', 'node_25_demand', 'node_23_pressure', 'link_11_flow', 'link_30_flow', 'node_13_demand', 'node_27_pressure', 'node_21_pressure', 'link_10_flow', 'link_17_flow', 'node_27_demand', 'link_2_flow', 'node_21_demand']]\n",
      "starting df shape: (87600, 82)\n",
      "This is training run 4 and has the shape:  (87600, 82)\n",
      "The value of dropped columns is 15\n"
     ]
    },
    {
     "name": "stderr",
     "output_type": "stream",
     "text": [
      "/Users/alexellard/opt/anaconda3/lib/python3.7/site-packages/xgboost/data.py:96: UserWarning: Use subset (sliced data) of np.ndarray is not recommended because it will generate extra copies and increase memory consumption\n",
      "  \"because it will generate extra copies and increase \" +\n"
     ]
    },
    {
     "name": "stdout",
     "output_type": "stream",
     "text": [
      "test y shape : (17520, 1)\n",
      "Inv y shape : (17520, 82)\n",
      "y pred shape : (17520, 1)\n",
      "inv y pred : (17520, 82)\n",
      "Run 4 Mean Absolute Error: 28.200910148854735\n",
      "RMSE: 36.174\n",
      "R^2: 0.999\n",
      "[['link_30_flow', 'node_2_pressure', 'node_20_demand', 'node_25_demand', 'node_6_pressure', 'node_31_demand', 'link_10_flow', 'link_3_flow', 'node_29_pressure', 'node_19_demand', 'node_15_demand', 'link_25_flow', 'link_14_flow', 'link_31_flow', 'node_28_pressure']]\n",
      "starting df shape: (87600, 81)\n",
      "This is training run 5 and has the shape:  (87600, 81)\n",
      "The value of dropped columns is 15\n"
     ]
    },
    {
     "name": "stderr",
     "output_type": "stream",
     "text": [
      "/Users/alexellard/opt/anaconda3/lib/python3.7/site-packages/xgboost/data.py:96: UserWarning: Use subset (sliced data) of np.ndarray is not recommended because it will generate extra copies and increase memory consumption\n",
      "  \"because it will generate extra copies and increase \" +\n"
     ]
    },
    {
     "name": "stdout",
     "output_type": "stream",
     "text": [
      "test y shape : (17520, 1)\n",
      "Inv y shape : (17520, 81)\n",
      "y pred shape : (17520, 1)\n",
      "inv y pred : (17520, 81)\n",
      "Run 5 Mean Absolute Error: 28.23100360279581\n",
      "RMSE: 36.218\n",
      "R^2: 0.999\n",
      "[['link_19_flow', 'node_31_pressure', 'node_4_demand', 'node_28_demand', 'node_20_pressure', 'node_12_pressure', 'link_26_flow', 'node_26_demand', 'link_25_flow', 'node_13_demand', 'node_25_pressure', 'link_14_flow', 'node_8_demand', 'link_1_flow', 'reservoir_demand']]\n",
      "starting df shape: (87600, 81)\n",
      "This is training run 6 and has the shape:  (87600, 81)\n",
      "The value of dropped columns is 15\n"
     ]
    },
    {
     "name": "stderr",
     "output_type": "stream",
     "text": [
      "/Users/alexellard/opt/anaconda3/lib/python3.7/site-packages/xgboost/data.py:96: UserWarning: Use subset (sliced data) of np.ndarray is not recommended because it will generate extra copies and increase memory consumption\n",
      "  \"because it will generate extra copies and increase \" +\n"
     ]
    },
    {
     "name": "stdout",
     "output_type": "stream",
     "text": [
      "test y shape : (17520, 1)\n",
      "Inv y shape : (17520, 81)\n",
      "y pred shape : (17520, 1)\n",
      "inv y pred : (17520, 81)\n",
      "Run 6 Mean Absolute Error: 1.6647861824780656\n",
      "RMSE: 2.137\n",
      "R^2: 1.000\n",
      "[['link_3_flow', 'link_14_flow', 'node_5_pressure', 'node_9_demand', 'node_25_demand', 'link_6_flow', 'node_22_demand', 'node_26_demand', 'node_29_pressure', 'node_11_pressure', 'link_26_flow', 'node_17_demand', 'node_16_demand', 'node_20_demand', 'node_2_demand']]\n",
      "starting df shape: (87600, 81)\n",
      "This is training run 7 and has the shape:  (87600, 81)\n",
      "The value of dropped columns is 15\n"
     ]
    },
    {
     "name": "stderr",
     "output_type": "stream",
     "text": [
      "/Users/alexellard/opt/anaconda3/lib/python3.7/site-packages/xgboost/data.py:96: UserWarning: Use subset (sliced data) of np.ndarray is not recommended because it will generate extra copies and increase memory consumption\n",
      "  \"because it will generate extra copies and increase \" +\n"
     ]
    },
    {
     "name": "stdout",
     "output_type": "stream",
     "text": [
      "test y shape : (17520, 1)\n",
      "Inv y shape : (17520, 81)\n",
      "y pred shape : (17520, 1)\n",
      "inv y pred : (17520, 81)\n",
      "Run 7 Mean Absolute Error: 75.87360977919307\n",
      "RMSE: 99.550\n",
      "R^2: 0.996\n",
      "[['node_8_pressure', 'node_13_pressure', 'node_23_pressure', 'link_3_flow', 'link_14_flow', 'node_18_pressure', 'node_9_demand', 'node_15_pressure', 'node_27_pressure', 'node_2_pressure', 'link_1_flow', 'node_23_demand', 'node_30_demand', 'link_25_flow', 'node_29_pressure']]\n",
      "starting df shape: (87600, 81)\n",
      "This is training run 8 and has the shape:  (87600, 81)\n",
      "The value of dropped columns is 15\n"
     ]
    },
    {
     "name": "stderr",
     "output_type": "stream",
     "text": [
      "/Users/alexellard/opt/anaconda3/lib/python3.7/site-packages/xgboost/data.py:96: UserWarning: Use subset (sliced data) of np.ndarray is not recommended because it will generate extra copies and increase memory consumption\n",
      "  \"because it will generate extra copies and increase \" +\n"
     ]
    },
    {
     "name": "stdout",
     "output_type": "stream",
     "text": [
      "test y shape : (17520, 1)\n",
      "Inv y shape : (17520, 81)\n",
      "y pred shape : (17520, 1)\n",
      "inv y pred : (17520, 81)\n",
      "Run 8 Mean Absolute Error: 27.544990335335868\n",
      "RMSE: 35.379\n",
      "R^2: 1.000\n",
      "[['node_12_pressure', 'link_26_flow', 'node_19_pressure', 'node_28_pressure', 'node_4_demand', 'node_25_demand', 'node_30_demand', 'node_10_demand', 'node_15_demand', 'node_22_demand', 'node_12_demand', 'link_9_flow', 'node_1_demand', 'link_4_flow']]\n",
      "starting df shape: (87600, 82)\n",
      "This is training run 9 and has the shape:  (87600, 82)\n",
      "The value of dropped columns is 15\n"
     ]
    },
    {
     "name": "stderr",
     "output_type": "stream",
     "text": [
      "/Users/alexellard/opt/anaconda3/lib/python3.7/site-packages/xgboost/data.py:96: UserWarning: Use subset (sliced data) of np.ndarray is not recommended because it will generate extra copies and increase memory consumption\n",
      "  \"because it will generate extra copies and increase \" +\n"
     ]
    },
    {
     "name": "stdout",
     "output_type": "stream",
     "text": [
      "test y shape : (17520, 1)\n",
      "Inv y shape : (17520, 82)\n",
      "y pred shape : (17520, 1)\n",
      "inv y pred : (17520, 82)\n",
      "Run 9 Mean Absolute Error: 27.984956928566028\n",
      "RMSE: 36.036\n",
      "R^2: 0.999\n",
      "[['link_19_flow', 'node_19_pressure', 'node_30_pressure', 'node_1_pressure', 'node_9_demand', 'node_17_pressure', 'link_31_flow', 'node_7_pressure', 'link_7_flow', 'node_2_demand', 'link_9_flow', 'node_29_demand', 'node_31_demand', 'link_18_flow', 'node_21_pressure']]\n",
      "starting df shape: (87600, 81)\n",
      "This is training run 10 and has the shape:  (87600, 81)\n",
      "The value of dropped columns is 15\n"
     ]
    },
    {
     "name": "stderr",
     "output_type": "stream",
     "text": [
      "/Users/alexellard/opt/anaconda3/lib/python3.7/site-packages/xgboost/data.py:96: UserWarning: Use subset (sliced data) of np.ndarray is not recommended because it will generate extra copies and increase memory consumption\n",
      "  \"because it will generate extra copies and increase \" +\n"
     ]
    },
    {
     "name": "stdout",
     "output_type": "stream",
     "text": [
      "test y shape : (17520, 1)\n",
      "Inv y shape : (17520, 81)\n",
      "y pred shape : (17520, 1)\n",
      "inv y pred : (17520, 81)\n",
      "Run 10 Mean Absolute Error: 27.052869497588986\n",
      "RMSE: 34.714\n",
      "R^2: 1.000\n",
      "[['link_27_flow', 'node_7_demand', 'node_26_pressure', 'link_8_flow', 'link_30_flow', 'link_13_flow', 'node_8_demand', 'node_13_demand', 'node_20_demand', 'link_3_flow', 'node_4_demand', 'node_26_demand', 'link_26_flow', 'node_5_pressure', 'link_6_flow', 'node_28_demand', 'link_9_flow', 'node_10_pressure', 'node_12_pressure', 'link_21_flow']]\n",
      "starting df shape: (87600, 76)\n",
      "This is training run 1 and has the shape:  (87600, 76)\n",
      "The value of dropped columns is 20\n"
     ]
    },
    {
     "name": "stderr",
     "output_type": "stream",
     "text": [
      "/Users/alexellard/opt/anaconda3/lib/python3.7/site-packages/xgboost/data.py:96: UserWarning: Use subset (sliced data) of np.ndarray is not recommended because it will generate extra copies and increase memory consumption\n",
      "  \"because it will generate extra copies and increase \" +\n"
     ]
    },
    {
     "name": "stdout",
     "output_type": "stream",
     "text": [
      "test y shape : (17520, 1)\n",
      "Inv y shape : (17520, 76)\n",
      "y pred shape : (17520, 1)\n",
      "inv y pred : (17520, 76)\n",
      "Run 1 Mean Absolute Error: 27.760012229703676\n",
      "RMSE: 35.661\n",
      "R^2: 0.999\n",
      "[['node_24_demand', 'node_6_demand', 'node_17_demand', 'node_27_demand', 'node_3_pressure', 'link_7_flow', 'link_20_flow', 'link_24_flow', 'node_1_pressure', 'node_21_pressure', 'node_4_demand', 'link_14_flow', 'node_26_demand', 'node_16_demand', 'link_19_flow', 'link_3_flow', 'node_25_pressure', 'node_8_demand', 'node_31_demand', 'node_29_demand']]\n",
      "starting df shape: (87600, 76)\n",
      "This is training run 2 and has the shape:  (87600, 76)\n",
      "The value of dropped columns is 20\n"
     ]
    },
    {
     "name": "stderr",
     "output_type": "stream",
     "text": [
      "/Users/alexellard/opt/anaconda3/lib/python3.7/site-packages/xgboost/data.py:96: UserWarning: Use subset (sliced data) of np.ndarray is not recommended because it will generate extra copies and increase memory consumption\n",
      "  \"because it will generate extra copies and increase \" +\n"
     ]
    },
    {
     "name": "stdout",
     "output_type": "stream",
     "text": [
      "test y shape : (17520, 1)\n",
      "Inv y shape : (17520, 76)\n",
      "y pred shape : (17520, 1)\n",
      "inv y pred : (17520, 76)\n",
      "Run 2 Mean Absolute Error: 76.71131062604843\n",
      "RMSE: 100.896\n",
      "R^2: 0.996\n",
      "[['node_6_pressure', 'node_27_demand', 'node_9_demand', 'node_5_pressure', 'node_15_pressure', 'node_21_pressure', 'node_25_demand', 'link_6_flow', 'node_3_pressure', 'link_18_flow', 'link_5_flow', 'link_15_flow', 'node_12_pressure', 'link_28_flow', 'node_19_pressure', 'link_14_flow', 'node_18_pressure', 'link_25_flow', 'node_11_demand', 'node_24_pressure']]\n",
      "starting df shape: (87600, 76)\n",
      "This is training run 3 and has the shape:  (87600, 76)\n",
      "The value of dropped columns is 20\n"
     ]
    },
    {
     "name": "stderr",
     "output_type": "stream",
     "text": [
      "/Users/alexellard/opt/anaconda3/lib/python3.7/site-packages/xgboost/data.py:96: UserWarning: Use subset (sliced data) of np.ndarray is not recommended because it will generate extra copies and increase memory consumption\n",
      "  \"because it will generate extra copies and increase \" +\n"
     ]
    },
    {
     "name": "stdout",
     "output_type": "stream",
     "text": [
      "test y shape : (17520, 1)\n",
      "Inv y shape : (17520, 76)\n",
      "y pred shape : (17520, 1)\n",
      "inv y pred : (17520, 76)\n",
      "Run 3 Mean Absolute Error: 28.0697323130434\n",
      "RMSE: 36.013\n",
      "R^2: 0.999\n",
      "[['node_25_pressure', 'node_31_pressure', 'node_28_pressure', 'node_7_pressure', 'link_4_flow', 'node_8_demand', 'node_9_pressure', 'node_14_pressure', 'node_28_demand', 'link_6_flow', 'link_5_flow', 'node_15_demand', 'node_26_demand', 'node_2_pressure', 'node_22_pressure', 'link_19_flow', 'link_21_flow', 'link_28_flow', 'node_22_demand', 'node_20_demand']]\n",
      "starting df shape: (87600, 76)\n",
      "This is training run 4 and has the shape:  (87600, 76)\n",
      "The value of dropped columns is 20\n"
     ]
    },
    {
     "name": "stderr",
     "output_type": "stream",
     "text": [
      "/Users/alexellard/opt/anaconda3/lib/python3.7/site-packages/xgboost/data.py:96: UserWarning: Use subset (sliced data) of np.ndarray is not recommended because it will generate extra copies and increase memory consumption\n",
      "  \"because it will generate extra copies and increase \" +\n"
     ]
    },
    {
     "name": "stdout",
     "output_type": "stream",
     "text": [
      "test y shape : (17520, 1)\n",
      "Inv y shape : (17520, 76)\n",
      "y pred shape : (17520, 1)\n",
      "inv y pred : (17520, 76)\n",
      "Run 4 Mean Absolute Error: 28.31478952406237\n",
      "RMSE: 36.220\n",
      "R^2: 0.999\n",
      "[['node_22_pressure', 'node_7_demand', 'node_30_pressure', 'link_19_flow', 'node_28_demand', 'node_2_pressure', 'node_12_pressure', 'node_17_pressure', 'node_31_pressure', 'node_1_demand', 'node_12_demand', 'link_18_flow', 'node_13_demand', 'link_27_flow', 'node_9_pressure', 'link_6_flow', 'node_18_pressure', 'link_32_flow', 'link_2_flow', 'node_6_demand']]\n",
      "starting df shape: (87600, 76)\n",
      "This is training run 5 and has the shape:  (87600, 76)\n",
      "The value of dropped columns is 20\n"
     ]
    },
    {
     "name": "stderr",
     "output_type": "stream",
     "text": [
      "/Users/alexellard/opt/anaconda3/lib/python3.7/site-packages/xgboost/data.py:96: UserWarning: Use subset (sliced data) of np.ndarray is not recommended because it will generate extra copies and increase memory consumption\n",
      "  \"because it will generate extra copies and increase \" +\n"
     ]
    },
    {
     "name": "stdout",
     "output_type": "stream",
     "text": [
      "test y shape : (17520, 1)\n",
      "Inv y shape : (17520, 76)\n",
      "y pred shape : (17520, 1)\n",
      "inv y pred : (17520, 76)\n",
      "Run 5 Mean Absolute Error: 27.864907722399995\n",
      "RMSE: 35.710\n",
      "R^2: 0.999\n",
      "[['link_20_flow', 'link_23_flow', 'link_17_flow', 'node_23_pressure', 'node_19_pressure', 'node_17_pressure', 'node_17_demand', 'node_11_demand', 'node_27_demand', 'node_20_demand', 'link_21_flow', 'node_8_demand', 'node_26_pressure', 'node_15_pressure', 'node_11_pressure', 'node_31_pressure', 'node_9_pressure', 'reservoir_pressure', 'node_13_pressure', 'link_26_flow']]\n",
      "starting df shape: (87600, 76)\n",
      "This is training run 6 and has the shape:  (87600, 76)\n",
      "The value of dropped columns is 20\n"
     ]
    },
    {
     "name": "stderr",
     "output_type": "stream",
     "text": [
      "/Users/alexellard/opt/anaconda3/lib/python3.7/site-packages/xgboost/data.py:96: UserWarning: Use subset (sliced data) of np.ndarray is not recommended because it will generate extra copies and increase memory consumption\n",
      "  \"because it will generate extra copies and increase \" +\n"
     ]
    },
    {
     "name": "stdout",
     "output_type": "stream",
     "text": [
      "test y shape : (17520, 1)\n",
      "Inv y shape : (17520, 76)\n",
      "y pred shape : (17520, 1)\n",
      "inv y pred : (17520, 76)\n",
      "Run 6 Mean Absolute Error: 30.64685141604688\n",
      "RMSE: 39.560\n",
      "R^2: 0.999\n",
      "[['node_5_demand', 'node_27_demand', 'node_31_pressure', 'link_5_flow', 'link_11_flow', 'node_13_pressure', 'link_30_flow', 'reservoir_pressure', 'node_9_demand', 'node_4_demand', 'node_12_pressure', 'link_18_flow', 'node_27_pressure', 'node_6_pressure', 'node_2_pressure', 'node_2_demand', 'node_21_pressure', 'link_29_flow', 'node_28_pressure']]\n",
      "starting df shape: (87600, 77)\n",
      "This is training run 7 and has the shape:  (87600, 77)\n",
      "The value of dropped columns is 20\n"
     ]
    },
    {
     "name": "stderr",
     "output_type": "stream",
     "text": [
      "/Users/alexellard/opt/anaconda3/lib/python3.7/site-packages/xgboost/data.py:96: UserWarning: Use subset (sliced data) of np.ndarray is not recommended because it will generate extra copies and increase memory consumption\n",
      "  \"because it will generate extra copies and increase \" +\n"
     ]
    },
    {
     "name": "stdout",
     "output_type": "stream",
     "text": [
      "test y shape : (17520, 1)\n",
      "Inv y shape : (17520, 77)\n",
      "y pred shape : (17520, 1)\n",
      "inv y pred : (17520, 77)\n",
      "Run 7 Mean Absolute Error: 27.50317037631063\n",
      "RMSE: 35.453\n",
      "R^2: 0.999\n",
      "[['link_12_flow', 'link_2_flow', 'link_17_flow', 'node_30_demand', 'node_4_demand', 'node_26_pressure', 'node_21_demand', 'node_14_demand', 'link_19_flow', 'node_29_pressure', 'link_25_flow', 'node_2_pressure', 'node_27_demand', 'node_13_demand', 'node_19_pressure', 'node_31_demand', 'node_23_pressure', 'node_23_demand', 'link_22_flow', 'node_28_demand']]\n",
      "starting df shape: (87600, 76)\n",
      "This is training run 8 and has the shape:  (87600, 76)\n",
      "The value of dropped columns is 20\n"
     ]
    },
    {
     "name": "stderr",
     "output_type": "stream",
     "text": [
      "/Users/alexellard/opt/anaconda3/lib/python3.7/site-packages/xgboost/data.py:96: UserWarning: Use subset (sliced data) of np.ndarray is not recommended because it will generate extra copies and increase memory consumption\n",
      "  \"because it will generate extra copies and increase \" +\n"
     ]
    },
    {
     "name": "stdout",
     "output_type": "stream",
     "text": [
      "test y shape : (17520, 1)\n",
      "Inv y shape : (17520, 76)\n",
      "y pred shape : (17520, 1)\n",
      "inv y pred : (17520, 76)\n",
      "Run 8 Mean Absolute Error: 28.367640184857898\n",
      "RMSE: 36.316\n",
      "R^2: 0.999\n",
      "[['node_3_pressure', 'link_18_flow', 'node_9_demand', 'node_13_pressure', 'node_2_demand', 'link_12_flow', 'link_32_flow', 'link_17_flow', 'link_28_flow', 'node_23_demand', 'node_1_pressure', 'reservoir_demand', 'node_8_demand', 'node_11_pressure', 'node_20_demand', 'link_7_flow', 'reservoir_pressure', 'node_26_pressure', 'link_26_flow', 'node_10_pressure']]\n",
      "starting df shape: (87600, 76)\n",
      "This is training run 9 and has the shape:  (87600, 76)\n",
      "The value of dropped columns is 20\n"
     ]
    },
    {
     "name": "stderr",
     "output_type": "stream",
     "text": [
      "/Users/alexellard/opt/anaconda3/lib/python3.7/site-packages/xgboost/data.py:96: UserWarning: Use subset (sliced data) of np.ndarray is not recommended because it will generate extra copies and increase memory consumption\n",
      "  \"because it will generate extra copies and increase \" +\n"
     ]
    },
    {
     "name": "stdout",
     "output_type": "stream",
     "text": [
      "test y shape : (17520, 1)\n",
      "Inv y shape : (17520, 76)\n",
      "y pred shape : (17520, 1)\n",
      "inv y pred : (17520, 76)\n",
      "Run 9 Mean Absolute Error: 1.6559588415046296\n",
      "RMSE: 2.133\n",
      "R^2: 1.000\n",
      "[['link_14_flow', 'node_30_pressure', 'node_8_demand', 'node_3_demand', 'node_18_demand', 'link_5_flow', 'node_16_pressure', 'link_10_flow', 'link_18_flow', 'node_11_pressure', 'node_26_demand', 'link_8_flow', 'node_20_demand', 'node_20_pressure', 'node_28_demand', 'node_9_pressure', 'node_27_demand', 'reservoir_pressure', 'link_21_flow', 'node_1_demand']]\n",
      "starting df shape: (87600, 76)\n",
      "This is training run 10 and has the shape:  (87600, 76)\n",
      "The value of dropped columns is 20\n"
     ]
    },
    {
     "name": "stderr",
     "output_type": "stream",
     "text": [
      "/Users/alexellard/opt/anaconda3/lib/python3.7/site-packages/xgboost/data.py:96: UserWarning: Use subset (sliced data) of np.ndarray is not recommended because it will generate extra copies and increase memory consumption\n",
      "  \"because it will generate extra copies and increase \" +\n"
     ]
    },
    {
     "name": "stdout",
     "output_type": "stream",
     "text": [
      "test y shape : (17520, 1)\n",
      "Inv y shape : (17520, 76)\n",
      "y pred shape : (17520, 1)\n",
      "inv y pred : (17520, 76)\n",
      "Run 10 Mean Absolute Error: 27.13449795213201\n",
      "RMSE: 34.829\n",
      "R^2: 1.000\n",
      "[['node_28_demand', 'node_31_demand', 'node_2_demand', 'node_27_pressure', 'reservoir_demand', 'link_11_flow', 'node_5_demand', 'node_12_pressure', 'link_19_flow', 'node_5_pressure', 'node_22_pressure', 'link_4_flow', 'node_15_demand', 'node_29_pressure', 'node_4_pressure', 'node_24_demand', 'node_19_demand', 'node_9_demand', 'link_17_flow', 'link_28_flow', 'node_10_demand', 'node_23_demand', 'node_15_pressure', 'node_1_demand', 'node_1_pressure']]\n",
      "starting df shape: (87600, 71)\n",
      "This is training run 1 and has the shape:  (87600, 71)\n",
      "The value of dropped columns is 25\n"
     ]
    },
    {
     "name": "stderr",
     "output_type": "stream",
     "text": [
      "/Users/alexellard/opt/anaconda3/lib/python3.7/site-packages/xgboost/data.py:96: UserWarning: Use subset (sliced data) of np.ndarray is not recommended because it will generate extra copies and increase memory consumption\n",
      "  \"because it will generate extra copies and increase \" +\n"
     ]
    },
    {
     "name": "stdout",
     "output_type": "stream",
     "text": [
      "test y shape : (17520, 1)\n",
      "Inv y shape : (17520, 71)\n",
      "y pred shape : (17520, 1)\n",
      "inv y pred : (17520, 71)\n",
      "Run 1 Mean Absolute Error: 0.24671790129963728\n",
      "RMSE: 0.317\n",
      "R^2: 0.999\n",
      "[['node_25_pressure', 'link_5_flow', 'link_17_flow', 'node_22_demand', 'node_17_demand', 'node_2_demand', 'node_9_pressure', 'link_8_flow', 'node_4_pressure', 'node_29_demand', 'node_11_demand', 'link_13_flow', 'node_5_pressure', 'link_4_flow', 'node_9_demand', 'node_14_demand', 'link_30_flow', 'node_18_demand', 'node_21_pressure', 'node_24_pressure', 'node_19_demand', 'link_19_flow', 'link_22_flow', 'node_26_pressure', 'reservoir_pressure']]\n",
      "starting df shape: (87600, 71)\n",
      "This is training run 2 and has the shape:  (87600, 71)\n",
      "The value of dropped columns is 25\n"
     ]
    },
    {
     "name": "stderr",
     "output_type": "stream",
     "text": [
      "/Users/alexellard/opt/anaconda3/lib/python3.7/site-packages/xgboost/data.py:96: UserWarning: Use subset (sliced data) of np.ndarray is not recommended because it will generate extra copies and increase memory consumption\n",
      "  \"because it will generate extra copies and increase \" +\n"
     ]
    },
    {
     "name": "stdout",
     "output_type": "stream",
     "text": [
      "test y shape : (17520, 1)\n",
      "Inv y shape : (17520, 71)\n",
      "y pred shape : (17520, 1)\n",
      "inv y pred : (17520, 71)\n",
      "Run 2 Mean Absolute Error: 30.89010544790181\n",
      "RMSE: 39.746\n",
      "R^2: 0.999\n",
      "[['link_1_flow', 'link_23_flow', 'reservoir_pressure', 'node_11_pressure', 'node_31_pressure', 'node_20_pressure', 'node_19_demand', 'node_4_pressure', 'node_15_demand', 'link_6_flow', 'reservoir_demand', 'node_9_pressure', 'node_17_demand', 'node_28_demand', 'node_7_pressure', 'node_1_demand', 'link_30_flow', 'node_28_pressure', 'node_13_pressure', 'link_24_flow', 'node_5_pressure', 'node_27_pressure', 'node_15_pressure', 'node_18_pressure', 'node_6_demand']]\n",
      "starting df shape: (87600, 71)\n",
      "This is training run 3 and has the shape:  (87600, 71)\n",
      "The value of dropped columns is 25\n"
     ]
    },
    {
     "name": "stderr",
     "output_type": "stream",
     "text": [
      "/Users/alexellard/opt/anaconda3/lib/python3.7/site-packages/xgboost/data.py:96: UserWarning: Use subset (sliced data) of np.ndarray is not recommended because it will generate extra copies and increase memory consumption\n",
      "  \"because it will generate extra copies and increase \" +\n"
     ]
    },
    {
     "name": "stdout",
     "output_type": "stream",
     "text": [
      "test y shape : (17520, 1)\n",
      "Inv y shape : (17520, 71)\n",
      "y pred shape : (17520, 1)\n",
      "inv y pred : (17520, 71)\n",
      "Run 3 Mean Absolute Error: 1.715209095463598\n",
      "RMSE: 2.206\n",
      "R^2: 0.999\n",
      "[['node_4_demand', 'link_4_flow', 'node_31_pressure', 'node_12_demand', 'node_19_pressure', 'node_16_demand', 'link_11_flow', 'node_3_pressure', 'node_30_demand', 'link_8_flow', 'link_7_flow', 'link_20_flow', 'node_22_pressure', 'node_7_demand', 'node_27_pressure', 'node_5_demand', 'node_13_pressure', 'node_15_pressure', 'link_12_flow', 'reservoir_pressure', 'node_20_pressure', 'link_19_flow', 'link_27_flow', 'node_24_pressure']]\n",
      "starting df shape: (87600, 72)\n",
      "This is training run 4 and has the shape:  (87600, 72)\n",
      "The value of dropped columns is 25\n"
     ]
    },
    {
     "name": "stderr",
     "output_type": "stream",
     "text": [
      "/Users/alexellard/opt/anaconda3/lib/python3.7/site-packages/xgboost/data.py:96: UserWarning: Use subset (sliced data) of np.ndarray is not recommended because it will generate extra copies and increase memory consumption\n",
      "  \"because it will generate extra copies and increase \" +\n"
     ]
    },
    {
     "name": "stdout",
     "output_type": "stream",
     "text": [
      "test y shape : (17520, 1)\n",
      "Inv y shape : (17520, 72)\n",
      "y pred shape : (17520, 1)\n",
      "inv y pred : (17520, 72)\n",
      "Run 4 Mean Absolute Error: 56.611499330006026\n",
      "RMSE: 74.216\n",
      "R^2: 0.998\n",
      "[['node_17_demand', 'node_22_demand', 'link_14_flow', 'node_11_demand', 'link_9_flow', 'link_4_flow', 'node_28_demand', 'node_3_demand', 'node_13_demand', 'link_7_flow', 'node_16_pressure', 'node_11_pressure', 'node_22_pressure', 'node_30_demand', 'node_23_demand', 'link_18_flow', 'node_8_pressure', 'node_31_demand', 'node_9_pressure', 'link_19_flow', 'node_5_demand', 'link_30_flow', 'node_4_pressure', 'node_4_demand', 'node_12_demand']]\n",
      "starting df shape: (87600, 71)\n",
      "This is training run 5 and has the shape:  (87600, 71)\n",
      "The value of dropped columns is 25\n"
     ]
    },
    {
     "name": "stderr",
     "output_type": "stream",
     "text": [
      "/Users/alexellard/opt/anaconda3/lib/python3.7/site-packages/xgboost/data.py:96: UserWarning: Use subset (sliced data) of np.ndarray is not recommended because it will generate extra copies and increase memory consumption\n",
      "  \"because it will generate extra copies and increase \" +\n"
     ]
    },
    {
     "name": "stdout",
     "output_type": "stream",
     "text": [
      "test y shape : (17520, 1)\n",
      "Inv y shape : (17520, 71)\n",
      "y pred shape : (17520, 1)\n",
      "inv y pred : (17520, 71)\n",
      "Run 5 Mean Absolute Error: 30.601326166885777\n",
      "RMSE: 39.362\n",
      "R^2: 0.999\n",
      "[['node_3_demand', 'link_19_flow', 'node_10_pressure', 'link_2_flow', 'node_25_pressure', 'node_16_demand', 'node_7_demand', 'link_31_flow', 'link_20_flow', 'node_31_pressure', 'node_8_pressure', 'node_8_demand', 'node_20_pressure', 'link_23_flow', 'node_30_pressure', 'link_29_flow', 'link_14_flow', 'node_4_demand', 'node_18_pressure', 'link_27_flow', 'link_5_flow', 'link_12_flow', 'node_24_demand', 'node_17_demand', 'node_20_demand']]\n",
      "starting df shape: (87600, 71)\n",
      "This is training run 6 and has the shape:  (87600, 71)\n",
      "The value of dropped columns is 25\n"
     ]
    },
    {
     "name": "stderr",
     "output_type": "stream",
     "text": [
      "/Users/alexellard/opt/anaconda3/lib/python3.7/site-packages/xgboost/data.py:96: UserWarning: Use subset (sliced data) of np.ndarray is not recommended because it will generate extra copies and increase memory consumption\n",
      "  \"because it will generate extra copies and increase \" +\n"
     ]
    },
    {
     "name": "stdout",
     "output_type": "stream",
     "text": [
      "test y shape : (17520, 1)\n",
      "Inv y shape : (17520, 71)\n",
      "y pred shape : (17520, 1)\n",
      "inv y pred : (17520, 71)\n",
      "Run 6 Mean Absolute Error: 76.82767819376772\n",
      "RMSE: 101.262\n",
      "R^2: 0.996\n",
      "[['link_21_flow', 'node_6_demand', 'link_12_flow', 'link_13_flow', 'node_17_demand', 'node_14_demand', 'node_26_pressure', 'node_4_demand', 'link_31_flow', 'node_17_pressure', 'node_20_demand', 'node_21_demand', 'node_2_pressure', 'node_3_pressure', 'node_19_demand', 'link_19_flow', 'node_29_demand', 'node_5_demand', 'link_14_flow', 'link_30_flow', 'node_13_demand', 'link_24_flow', 'node_18_pressure', 'node_9_demand', 'link_4_flow']]\n",
      "starting df shape: (87600, 71)\n",
      "This is training run 7 and has the shape:  (87600, 71)\n",
      "The value of dropped columns is 25\n"
     ]
    },
    {
     "name": "stderr",
     "output_type": "stream",
     "text": [
      "/Users/alexellard/opt/anaconda3/lib/python3.7/site-packages/xgboost/data.py:96: UserWarning: Use subset (sliced data) of np.ndarray is not recommended because it will generate extra copies and increase memory consumption\n",
      "  \"because it will generate extra copies and increase \" +\n"
     ]
    },
    {
     "name": "stdout",
     "output_type": "stream",
     "text": [
      "test y shape : (17520, 1)\n",
      "Inv y shape : (17520, 71)\n",
      "y pred shape : (17520, 1)\n",
      "inv y pred : (17520, 71)\n",
      "Run 7 Mean Absolute Error: 31.428532300574506\n",
      "RMSE: 40.311\n",
      "R^2: 0.999\n",
      "[['node_27_pressure', 'node_18_pressure', 'link_31_flow', 'node_25_pressure', 'link_23_flow', 'link_13_flow', 'node_25_demand', 'node_8_demand', 'node_12_demand', 'node_2_pressure', 'node_29_demand', 'node_23_pressure', 'reservoir_demand', 'link_20_flow', 'link_6_flow', 'node_26_pressure', 'link_15_flow', 'link_29_flow', 'node_21_pressure', 'node_3_pressure', 'link_7_flow', 'link_17_flow', 'node_15_demand', 'node_21_demand']]\n",
      "starting df shape: (87600, 72)\n",
      "This is training run 8 and has the shape:  (87600, 72)\n",
      "The value of dropped columns is 25\n"
     ]
    },
    {
     "name": "stderr",
     "output_type": "stream",
     "text": [
      "/Users/alexellard/opt/anaconda3/lib/python3.7/site-packages/xgboost/data.py:96: UserWarning: Use subset (sliced data) of np.ndarray is not recommended because it will generate extra copies and increase memory consumption\n",
      "  \"because it will generate extra copies and increase \" +\n"
     ]
    },
    {
     "name": "stdout",
     "output_type": "stream",
     "text": [
      "test y shape : (17520, 1)\n",
      "Inv y shape : (17520, 72)\n",
      "y pred shape : (17520, 1)\n",
      "inv y pred : (17520, 72)\n",
      "Run 8 Mean Absolute Error: 1.7440209104598756\n",
      "RMSE: 2.237\n",
      "R^2: 0.999\n",
      "[['node_4_demand', 'node_19_pressure', 'link_13_flow', 'node_13_pressure', 'node_1_demand', 'node_18_demand', 'link_14_flow', 'link_6_flow', 'node_22_pressure', 'node_6_pressure', 'node_1_pressure', 'node_17_pressure', 'link_18_flow', 'node_29_pressure', 'link_31_flow', 'node_10_demand', 'node_12_pressure', 'node_21_pressure', 'link_24_flow', 'reservoir_demand', 'node_10_pressure', 'node_29_demand', 'node_22_demand', 'link_30_flow', 'link_12_flow']]\n",
      "starting df shape: (87600, 71)\n",
      "This is training run 9 and has the shape:  (87600, 71)\n",
      "The value of dropped columns is 25\n"
     ]
    },
    {
     "name": "stderr",
     "output_type": "stream",
     "text": [
      "/Users/alexellard/opt/anaconda3/lib/python3.7/site-packages/xgboost/data.py:96: UserWarning: Use subset (sliced data) of np.ndarray is not recommended because it will generate extra copies and increase memory consumption\n",
      "  \"because it will generate extra copies and increase \" +\n"
     ]
    },
    {
     "name": "stdout",
     "output_type": "stream",
     "text": [
      "test y shape : (17520, 1)\n",
      "Inv y shape : (17520, 71)\n",
      "y pred shape : (17520, 1)\n",
      "inv y pred : (17520, 71)\n",
      "Run 9 Mean Absolute Error: 1.4923972549289526\n",
      "RMSE: 1.908\n",
      "R^2: 1.000\n",
      "[['link_15_flow', 'node_17_pressure', 'node_31_pressure', 'node_5_pressure', 'node_1_pressure', 'node_30_demand', 'link_12_flow', 'link_7_flow', 'node_10_demand', 'node_4_demand', 'node_24_demand', 'node_6_demand', 'node_18_pressure', 'node_29_demand', 'node_20_pressure', 'node_23_pressure', 'node_22_pressure', 'link_17_flow', 'node_7_demand', 'node_2_demand', 'link_5_flow', 'node_9_pressure', 'node_1_demand', 'node_3_pressure', 'link_24_flow']]\n",
      "starting df shape: (87600, 71)\n",
      "This is training run 10 and has the shape:  (87600, 71)\n",
      "The value of dropped columns is 25\n"
     ]
    },
    {
     "name": "stderr",
     "output_type": "stream",
     "text": [
      "/Users/alexellard/opt/anaconda3/lib/python3.7/site-packages/xgboost/data.py:96: UserWarning: Use subset (sliced data) of np.ndarray is not recommended because it will generate extra copies and increase memory consumption\n",
      "  \"because it will generate extra copies and increase \" +\n"
     ]
    },
    {
     "name": "stdout",
     "output_type": "stream",
     "text": [
      "test y shape : (17520, 1)\n",
      "Inv y shape : (17520, 71)\n",
      "y pred shape : (17520, 1)\n",
      "inv y pred : (17520, 71)\n",
      "Run 10 Mean Absolute Error: 28.158064013263406\n",
      "RMSE: 36.170\n",
      "R^2: 0.999\n",
      "[['link_29_flow', 'node_5_pressure', 'link_27_flow', 'node_11_pressure', 'link_30_flow', 'node_2_pressure', 'link_9_flow', 'node_27_demand', 'node_18_demand', 'link_23_flow', 'node_21_pressure', 'link_12_flow', 'node_28_demand', 'link_3_flow', 'node_20_demand', 'node_19_pressure', 'node_21_demand', 'node_10_pressure', 'node_10_demand', 'node_14_pressure', 'node_25_demand', 'node_26_demand', 'node_24_demand', 'link_8_flow', 'node_9_pressure', 'link_26_flow', 'link_25_flow', 'link_7_flow', 'node_20_pressure', 'link_4_flow']]\n",
      "starting df shape: (87600, 66)\n",
      "This is training run 1 and has the shape:  (87600, 66)\n",
      "The value of dropped columns is 30\n"
     ]
    },
    {
     "name": "stderr",
     "output_type": "stream",
     "text": [
      "/Users/alexellard/opt/anaconda3/lib/python3.7/site-packages/xgboost/data.py:96: UserWarning: Use subset (sliced data) of np.ndarray is not recommended because it will generate extra copies and increase memory consumption\n",
      "  \"because it will generate extra copies and increase \" +\n"
     ]
    },
    {
     "name": "stdout",
     "output_type": "stream",
     "text": [
      "test y shape : (17520, 1)\n",
      "Inv y shape : (17520, 66)\n",
      "y pred shape : (17520, 1)\n",
      "inv y pred : (17520, 66)\n",
      "Run 1 Mean Absolute Error: 26.88516759241403\n",
      "RMSE: 34.399\n",
      "R^2: 1.000\n",
      "[['link_18_flow', 'node_16_demand', 'node_27_demand', 'link_6_flow', 'node_25_pressure', 'link_31_flow', 'link_21_flow', 'link_3_flow', 'link_27_flow', 'link_15_flow', 'node_21_pressure', 'node_9_demand', 'node_30_demand', 'node_17_demand', 'node_11_demand', 'node_17_pressure', 'link_26_flow', 'node_24_pressure', 'link_2_flow', 'reservoir_pressure', 'node_20_demand', 'link_29_flow', 'link_8_flow', 'link_30_flow', 'node_28_demand', 'node_3_pressure', 'node_14_pressure', 'link_20_flow', 'node_22_demand', 'node_8_pressure']]\n",
      "starting df shape: (87600, 66)\n",
      "This is training run 2 and has the shape:  (87600, 66)\n",
      "The value of dropped columns is 30\n"
     ]
    },
    {
     "name": "stderr",
     "output_type": "stream",
     "text": [
      "/Users/alexellard/opt/anaconda3/lib/python3.7/site-packages/xgboost/data.py:96: UserWarning: Use subset (sliced data) of np.ndarray is not recommended because it will generate extra copies and increase memory consumption\n",
      "  \"because it will generate extra copies and increase \" +\n"
     ]
    },
    {
     "name": "stdout",
     "output_type": "stream",
     "text": [
      "test y shape : (17520, 1)\n",
      "Inv y shape : (17520, 66)\n",
      "y pred shape : (17520, 1)\n",
      "inv y pred : (17520, 66)\n",
      "Run 2 Mean Absolute Error: 82.49161666681063\n",
      "RMSE: 108.267\n",
      "R^2: 0.995\n",
      "[['link_23_flow', 'node_30_demand', 'node_16_demand', 'link_6_flow', 'node_27_demand', 'link_17_flow', 'node_13_demand', 'node_31_pressure', 'reservoir_demand', 'link_5_flow', 'node_29_pressure', 'link_9_flow', 'node_13_pressure', 'node_29_demand', 'link_20_flow', 'link_13_flow', 'link_32_flow', 'node_2_demand', 'node_28_demand', 'node_21_demand', 'node_24_pressure', 'node_11_demand', 'link_7_flow', 'node_2_pressure', 'node_8_demand', 'node_27_pressure', 'link_1_flow', 'link_10_flow', 'link_18_flow']]\n",
      "starting df shape: (87600, 67)\n",
      "This is training run 3 and has the shape:  (87600, 67)\n",
      "The value of dropped columns is 30\n"
     ]
    },
    {
     "name": "stderr",
     "output_type": "stream",
     "text": [
      "/Users/alexellard/opt/anaconda3/lib/python3.7/site-packages/xgboost/data.py:96: UserWarning: Use subset (sliced data) of np.ndarray is not recommended because it will generate extra copies and increase memory consumption\n",
      "  \"because it will generate extra copies and increase \" +\n"
     ]
    },
    {
     "name": "stdout",
     "output_type": "stream",
     "text": [
      "test y shape : (17520, 1)\n",
      "Inv y shape : (17520, 67)\n",
      "y pred shape : (17520, 1)\n",
      "inv y pred : (17520, 67)\n",
      "Run 3 Mean Absolute Error: 4.042958002651182\n",
      "RMSE: 5.306\n",
      "R^2: 0.997\n",
      "[['link_21_flow', 'node_17_pressure', 'link_9_flow', 'node_3_demand', 'node_14_demand', 'node_31_pressure', 'link_31_flow', 'node_27_demand', 'node_20_pressure', 'node_11_pressure', 'link_24_flow', 'node_15_demand', 'node_12_demand', 'link_20_flow', 'link_18_flow', 'link_2_flow', 'node_22_pressure', 'link_15_flow', 'node_2_pressure', 'node_28_pressure', 'node_15_pressure', 'node_16_pressure', 'link_8_flow', 'node_29_pressure', 'node_3_pressure', 'node_6_demand', 'link_4_flow', 'node_14_pressure', 'link_12_flow']]\n",
      "starting df shape: (87600, 67)\n",
      "This is training run 4 and has the shape:  (87600, 67)\n",
      "The value of dropped columns is 30\n"
     ]
    },
    {
     "name": "stderr",
     "output_type": "stream",
     "text": [
      "/Users/alexellard/opt/anaconda3/lib/python3.7/site-packages/xgboost/data.py:96: UserWarning: Use subset (sliced data) of np.ndarray is not recommended because it will generate extra copies and increase memory consumption\n",
      "  \"because it will generate extra copies and increase \" +\n"
     ]
    },
    {
     "name": "stdout",
     "output_type": "stream",
     "text": [
      "test y shape : (17520, 1)\n",
      "Inv y shape : (17520, 67)\n",
      "y pred shape : (17520, 1)\n",
      "inv y pred : (17520, 67)\n",
      "Run 4 Mean Absolute Error: 29.470428503510494\n",
      "RMSE: 37.833\n",
      "R^2: 0.999\n",
      "[['node_19_demand', 'link_14_flow', 'link_25_flow', 'link_8_flow', 'node_24_pressure', 'node_20_demand', 'node_10_demand', 'link_17_flow', 'reservoir_demand', 'node_15_pressure', 'node_29_demand', 'node_5_pressure', 'node_12_demand', 'node_17_demand', 'node_21_pressure', 'link_4_flow', 'node_27_demand', 'node_11_demand', 'node_29_pressure', 'link_31_flow', 'node_20_pressure', 'node_1_demand', 'link_23_flow', 'link_27_flow', 'link_22_flow', 'link_9_flow', 'node_7_demand', 'node_5_demand', 'link_26_flow']]\n",
      "starting df shape: (87600, 67)\n",
      "This is training run 5 and has the shape:  (87600, 67)\n",
      "The value of dropped columns is 30\n"
     ]
    },
    {
     "name": "stderr",
     "output_type": "stream",
     "text": [
      "/Users/alexellard/opt/anaconda3/lib/python3.7/site-packages/xgboost/data.py:96: UserWarning: Use subset (sliced data) of np.ndarray is not recommended because it will generate extra copies and increase memory consumption\n",
      "  \"because it will generate extra copies and increase \" +\n"
     ]
    },
    {
     "name": "stdout",
     "output_type": "stream",
     "text": [
      "test y shape : (17520, 1)\n",
      "Inv y shape : (17520, 67)\n",
      "y pred shape : (17520, 1)\n",
      "inv y pred : (17520, 67)\n",
      "Run 5 Mean Absolute Error: 1.687013797814029\n",
      "RMSE: 2.171\n",
      "R^2: 0.999\n",
      "[['node_3_demand', 'link_11_flow', 'node_25_demand', 'node_19_pressure', 'link_20_flow', 'node_5_demand', 'reservoir_pressure', 'link_29_flow', 'node_22_pressure', 'node_16_demand', 'node_27_pressure', 'node_18_pressure', 'node_10_demand', 'link_32_flow', 'node_20_pressure', 'node_23_demand', 'node_26_pressure', 'node_8_pressure', 'node_14_demand', 'link_4_flow', 'node_17_demand', 'link_13_flow', 'link_22_flow', 'node_7_demand', 'link_28_flow', 'node_9_pressure', 'node_31_pressure', 'link_27_flow', 'link_3_flow', 'link_6_flow']]\n",
      "starting df shape: (87600, 66)\n",
      "This is training run 6 and has the shape:  (87600, 66)\n",
      "The value of dropped columns is 30\n"
     ]
    },
    {
     "name": "stderr",
     "output_type": "stream",
     "text": [
      "/Users/alexellard/opt/anaconda3/lib/python3.7/site-packages/xgboost/data.py:96: UserWarning: Use subset (sliced data) of np.ndarray is not recommended because it will generate extra copies and increase memory consumption\n",
      "  \"because it will generate extra copies and increase \" +\n"
     ]
    },
    {
     "name": "stdout",
     "output_type": "stream",
     "text": [
      "test y shape : (17520, 1)\n",
      "Inv y shape : (17520, 66)\n",
      "y pred shape : (17520, 1)\n",
      "inv y pred : (17520, 66)\n",
      "Run 6 Mean Absolute Error: 76.4765431738089\n",
      "RMSE: 100.453\n",
      "R^2: 0.996\n",
      "[['node_18_demand', 'node_23_demand', 'link_6_flow', 'node_11_pressure', 'node_2_pressure', 'node_4_demand', 'node_22_pressure', 'node_1_pressure', 'link_11_flow', 'link_23_flow', 'link_20_flow', 'node_8_demand', 'link_9_flow', 'node_18_pressure', 'node_24_demand', 'link_15_flow', 'node_26_demand', 'node_21_demand', 'link_27_flow', 'node_24_pressure', 'node_3_pressure', 'link_3_flow', 'node_11_demand', 'node_3_demand', 'link_5_flow', 'node_26_pressure', 'node_4_pressure', 'node_9_demand', 'node_19_demand']]\n",
      "starting df shape: (87600, 67)\n",
      "This is training run 7 and has the shape:  (87600, 67)\n",
      "The value of dropped columns is 30\n"
     ]
    },
    {
     "name": "stderr",
     "output_type": "stream",
     "text": [
      "/Users/alexellard/opt/anaconda3/lib/python3.7/site-packages/xgboost/data.py:96: UserWarning: Use subset (sliced data) of np.ndarray is not recommended because it will generate extra copies and increase memory consumption\n",
      "  \"because it will generate extra copies and increase \" +\n"
     ]
    },
    {
     "name": "stdout",
     "output_type": "stream",
     "text": [
      "test y shape : (17520, 1)\n",
      "Inv y shape : (17520, 67)\n",
      "y pred shape : (17520, 1)\n",
      "inv y pred : (17520, 67)\n",
      "Run 7 Mean Absolute Error: 27.152164828001393\n",
      "RMSE: 34.902\n",
      "R^2: 1.000\n",
      "[['link_23_flow', 'node_5_pressure', 'link_9_flow', 'link_5_flow', 'link_26_flow', 'node_30_pressure', 'link_17_flow', 'node_4_pressure', 'node_30_demand', 'link_12_flow', 'node_1_demand', 'node_15_demand', 'node_20_pressure', 'node_8_demand', 'node_31_pressure', 'node_31_demand', 'link_21_flow', 'link_32_flow', 'node_29_pressure', 'node_5_demand', 'node_24_demand', 'link_20_flow', 'node_13_demand', 'node_28_pressure', 'node_26_demand', 'link_8_flow', 'node_2_pressure', 'node_19_demand', 'node_20_demand']]\n",
      "starting df shape: (87600, 67)\n",
      "This is training run 8 and has the shape:  (87600, 67)\n",
      "The value of dropped columns is 30\n"
     ]
    },
    {
     "name": "stderr",
     "output_type": "stream",
     "text": [
      "/Users/alexellard/opt/anaconda3/lib/python3.7/site-packages/xgboost/data.py:96: UserWarning: Use subset (sliced data) of np.ndarray is not recommended because it will generate extra copies and increase memory consumption\n",
      "  \"because it will generate extra copies and increase \" +\n"
     ]
    },
    {
     "name": "stdout",
     "output_type": "stream",
     "text": [
      "test y shape : (17520, 1)\n",
      "Inv y shape : (17520, 67)\n",
      "y pred shape : (17520, 1)\n",
      "inv y pred : (17520, 67)\n",
      "Run 8 Mean Absolute Error: 28.082056518595778\n",
      "RMSE: 36.026\n",
      "R^2: 0.999\n",
      "[['node_17_pressure', 'link_21_flow', 'node_3_demand', 'link_8_flow', 'link_9_flow', 'node_6_pressure', 'link_13_flow', 'node_9_pressure', 'node_1_demand', 'node_16_demand', 'node_18_demand', 'node_13_demand', 'node_9_demand', 'link_5_flow', 'node_25_pressure', 'link_2_flow', 'link_4_flow', 'link_31_flow', 'node_7_demand', 'link_22_flow', 'link_18_flow', 'link_30_flow', 'node_4_pressure', 'node_22_demand', 'node_21_pressure', 'node_26_demand', 'link_29_flow', 'node_2_demand', 'node_20_demand']]\n",
      "starting df shape: (87600, 67)\n",
      "This is training run 9 and has the shape:  (87600, 67)\n",
      "The value of dropped columns is 30\n"
     ]
    },
    {
     "name": "stderr",
     "output_type": "stream",
     "text": [
      "/Users/alexellard/opt/anaconda3/lib/python3.7/site-packages/xgboost/data.py:96: UserWarning: Use subset (sliced data) of np.ndarray is not recommended because it will generate extra copies and increase memory consumption\n",
      "  \"because it will generate extra copies and increase \" +\n"
     ]
    },
    {
     "name": "stdout",
     "output_type": "stream",
     "text": [
      "test y shape : (17520, 1)\n",
      "Inv y shape : (17520, 67)\n",
      "y pred shape : (17520, 1)\n",
      "inv y pred : (17520, 67)\n",
      "Run 9 Mean Absolute Error: 56.807703110149724\n",
      "RMSE: 74.562\n",
      "R^2: 0.998\n",
      "[['node_14_pressure', 'node_3_pressure', 'node_3_demand', 'node_29_pressure', 'node_4_demand', 'node_20_pressure', 'link_25_flow', 'reservoir_pressure', 'node_8_pressure', 'node_20_demand', 'link_3_flow', 'link_2_flow', 'node_10_demand', 'node_17_pressure', 'node_8_demand', 'link_14_flow', 'node_24_pressure', 'node_15_pressure', 'link_19_flow', 'link_6_flow', 'node_28_pressure', 'link_20_flow', 'node_16_pressure', 'node_7_pressure', 'node_25_demand', 'node_14_demand', 'node_2_pressure', 'link_28_flow', 'node_18_demand']]\n",
      "starting df shape: (87600, 67)\n",
      "This is training run 10 and has the shape:  (87600, 67)\n",
      "The value of dropped columns is 30\n"
     ]
    },
    {
     "name": "stderr",
     "output_type": "stream",
     "text": [
      "/Users/alexellard/opt/anaconda3/lib/python3.7/site-packages/xgboost/data.py:96: UserWarning: Use subset (sliced data) of np.ndarray is not recommended because it will generate extra copies and increase memory consumption\n",
      "  \"because it will generate extra copies and increase \" +\n"
     ]
    },
    {
     "name": "stdout",
     "output_type": "stream",
     "text": [
      "test y shape : (17520, 1)\n",
      "Inv y shape : (17520, 67)\n",
      "y pred shape : (17520, 1)\n",
      "inv y pred : (17520, 67)\n",
      "Run 10 Mean Absolute Error: 28.06215291842298\n",
      "RMSE: 35.964\n",
      "R^2: 0.999\n",
      "[['node_14_pressure', 'link_3_flow', 'node_19_pressure', 'node_27_pressure', 'link_18_flow', 'node_3_demand', 'link_5_flow', 'node_24_demand', 'link_26_flow', 'node_20_demand', 'link_14_flow', 'node_25_demand', 'node_31_pressure', 'node_22_demand', 'node_7_demand', 'link_15_flow', 'node_11_demand', 'node_21_pressure', 'link_13_flow', 'reservoir_pressure', 'link_2_flow', 'link_28_flow', 'link_22_flow', 'link_9_flow', 'node_23_pressure', 'node_17_pressure', 'node_9_pressure', 'link_4_flow', 'node_5_pressure', 'node_1_demand', 'node_2_demand', 'node_18_pressure', 'link_6_flow', 'node_15_demand', 'link_12_flow']]\n",
      "starting df shape: (87600, 61)\n",
      "This is training run 1 and has the shape:  (87600, 61)\n",
      "The value of dropped columns is 35\n"
     ]
    },
    {
     "name": "stderr",
     "output_type": "stream",
     "text": [
      "/Users/alexellard/opt/anaconda3/lib/python3.7/site-packages/xgboost/data.py:96: UserWarning: Use subset (sliced data) of np.ndarray is not recommended because it will generate extra copies and increase memory consumption\n",
      "  \"because it will generate extra copies and increase \" +\n"
     ]
    },
    {
     "name": "stdout",
     "output_type": "stream",
     "text": [
      "test y shape : (17520, 1)\n",
      "Inv y shape : (17520, 61)\n",
      "y pred shape : (17520, 1)\n",
      "inv y pred : (17520, 61)\n",
      "Run 1 Mean Absolute Error: 29.386530345854283\n",
      "RMSE: 37.770\n",
      "R^2: 0.999\n",
      "[['link_12_flow', 'link_13_flow', 'node_7_pressure', 'node_5_demand', 'reservoir_pressure', 'link_19_flow', 'node_26_pressure', 'node_31_pressure', 'link_31_flow', 'node_23_pressure', 'node_30_demand', 'link_18_flow', 'node_19_demand', 'node_4_demand', 'node_31_demand', 'node_29_demand', 'node_15_pressure', 'node_12_demand', 'node_12_pressure', 'node_24_demand', 'link_21_flow', 'node_16_demand', 'link_11_flow', 'node_25_demand', 'link_3_flow', 'node_13_pressure', 'link_15_flow', 'node_16_pressure', 'link_20_flow', 'node_11_demand', 'node_22_pressure', 'node_27_demand', 'node_29_pressure', 'link_29_flow']]\n",
      "starting df shape: (87600, 62)\n",
      "This is training run 2 and has the shape:  (87600, 62)\n",
      "The value of dropped columns is 35\n"
     ]
    },
    {
     "name": "stderr",
     "output_type": "stream",
     "text": [
      "/Users/alexellard/opt/anaconda3/lib/python3.7/site-packages/xgboost/data.py:96: UserWarning: Use subset (sliced data) of np.ndarray is not recommended because it will generate extra copies and increase memory consumption\n",
      "  \"because it will generate extra copies and increase \" +\n"
     ]
    },
    {
     "name": "stdout",
     "output_type": "stream",
     "text": [
      "test y shape : (17520, 1)\n",
      "Inv y shape : (17520, 62)\n",
      "y pred shape : (17520, 1)\n",
      "inv y pred : (17520, 62)\n",
      "Run 2 Mean Absolute Error: 62.40679826129774\n",
      "RMSE: 81.394\n",
      "R^2: 0.997\n",
      "[['node_20_demand', 'reservoir_pressure', 'node_24_demand', 'link_9_flow', 'link_32_flow', 'link_12_flow', 'link_30_flow', 'node_19_demand', 'node_31_demand', 'node_8_demand', 'link_17_flow', 'node_14_demand', 'node_25_demand', 'node_9_demand', 'link_10_flow', 'node_27_demand', 'node_17_demand', 'node_17_pressure', 'node_4_demand', 'node_9_pressure', 'node_23_pressure', 'link_26_flow', 'node_16_demand', 'node_20_pressure', 'node_21_demand', 'node_30_pressure', 'reservoir_demand', 'node_29_demand', 'node_26_pressure', 'node_13_pressure', 'link_23_flow', 'node_11_pressure', 'node_28_demand', 'link_5_flow', 'node_18_demand']]\n",
      "starting df shape: (87600, 61)\n",
      "This is training run 3 and has the shape:  (87600, 61)\n",
      "The value of dropped columns is 35\n"
     ]
    },
    {
     "name": "stderr",
     "output_type": "stream",
     "text": [
      "/Users/alexellard/opt/anaconda3/lib/python3.7/site-packages/xgboost/data.py:96: UserWarning: Use subset (sliced data) of np.ndarray is not recommended because it will generate extra copies and increase memory consumption\n",
      "  \"because it will generate extra copies and increase \" +\n"
     ]
    },
    {
     "name": "stdout",
     "output_type": "stream",
     "text": [
      "test y shape : (17520, 1)\n",
      "Inv y shape : (17520, 61)\n",
      "y pred shape : (17520, 1)\n",
      "inv y pred : (17520, 61)\n",
      "Run 3 Mean Absolute Error: 4.7053123633734675\n",
      "RMSE: 6.203\n",
      "R^2: 0.996\n",
      "[['node_14_pressure', 'link_10_flow', 'link_9_flow', 'node_5_pressure', 'link_25_flow', 'node_21_demand', 'node_18_pressure', 'node_26_pressure', 'node_30_demand', 'link_1_flow', 'node_18_demand', 'link_12_flow', 'node_3_demand', 'node_22_demand', 'node_23_demand', 'node_24_pressure', 'link_24_flow', 'node_19_demand', 'node_8_pressure', 'node_2_pressure', 'node_31_pressure', 'link_19_flow', 'node_13_pressure', 'node_30_pressure', 'link_29_flow', 'node_16_pressure', 'node_15_pressure', 'node_11_demand', 'node_21_pressure', 'node_4_demand', 'link_15_flow', 'node_14_demand', 'node_25_pressure', 'node_1_demand']]\n",
      "starting df shape: (87600, 62)\n",
      "This is training run 4 and has the shape:  (87600, 62)\n",
      "The value of dropped columns is 35\n"
     ]
    },
    {
     "name": "stderr",
     "output_type": "stream",
     "text": [
      "/Users/alexellard/opt/anaconda3/lib/python3.7/site-packages/xgboost/data.py:96: UserWarning: Use subset (sliced data) of np.ndarray is not recommended because it will generate extra copies and increase memory consumption\n",
      "  \"because it will generate extra copies and increase \" +\n"
     ]
    },
    {
     "name": "stdout",
     "output_type": "stream",
     "text": [
      "test y shape : (17520, 1)\n",
      "Inv y shape : (17520, 62)\n",
      "y pred shape : (17520, 1)\n",
      "inv y pred : (17520, 62)\n",
      "Run 4 Mean Absolute Error: 28.07425654895566\n",
      "RMSE: 36.159\n",
      "R^2: 0.999\n",
      "[['node_24_pressure', 'node_4_demand', 'node_6_demand', 'link_17_flow', 'node_10_demand', 'link_32_flow', 'node_27_pressure', 'node_10_pressure', 'node_8_demand', 'node_3_demand', 'node_12_demand', 'link_1_flow', 'node_15_pressure', 'node_1_pressure', 'node_13_pressure', 'node_11_demand', 'link_29_flow', 'link_30_flow', 'node_11_pressure', 'node_12_pressure', 'node_19_demand', 'link_22_flow', 'node_17_pressure', 'node_6_pressure', 'node_29_demand', 'link_5_flow', 'node_9_pressure', 'node_29_pressure', 'node_14_demand', 'link_28_flow', 'node_20_pressure', 'link_12_flow', 'node_22_demand', 'node_30_demand', 'link_25_flow']]\n",
      "starting df shape: (87600, 61)\n",
      "This is training run 5 and has the shape:  (87600, 61)\n",
      "The value of dropped columns is 35\n"
     ]
    },
    {
     "name": "stderr",
     "output_type": "stream",
     "text": [
      "/Users/alexellard/opt/anaconda3/lib/python3.7/site-packages/xgboost/data.py:96: UserWarning: Use subset (sliced data) of np.ndarray is not recommended because it will generate extra copies and increase memory consumption\n",
      "  \"because it will generate extra copies and increase \" +\n"
     ]
    },
    {
     "name": "stdout",
     "output_type": "stream",
     "text": [
      "test y shape : (17520, 1)\n",
      "Inv y shape : (17520, 61)\n",
      "y pred shape : (17520, 1)\n",
      "inv y pred : (17520, 61)\n",
      "Run 5 Mean Absolute Error: 27.635382752497023\n",
      "RMSE: 35.493\n",
      "R^2: 0.999\n",
      "[['link_5_flow', 'node_9_demand', 'node_29_demand', 'link_21_flow', 'link_14_flow', 'node_7_pressure', 'link_19_flow', 'node_3_demand', 'node_30_pressure', 'link_23_flow', 'node_11_demand', 'link_6_flow', 'node_24_demand', 'link_12_flow', 'link_15_flow', 'node_20_demand', 'node_25_pressure', 'link_11_flow', 'node_23_demand', 'node_19_pressure', 'node_17_pressure', 'link_18_flow', 'node_13_pressure', 'link_29_flow', 'node_7_demand', 'node_12_demand', 'node_14_demand', 'node_16_pressure', 'node_18_demand', 'link_9_flow', 'node_22_demand', 'node_27_demand', 'node_25_demand', 'node_19_demand', 'node_28_pressure']]\n",
      "starting df shape: (87600, 61)\n",
      "This is training run 6 and has the shape:  (87600, 61)\n",
      "The value of dropped columns is 35\n"
     ]
    },
    {
     "name": "stderr",
     "output_type": "stream",
     "text": [
      "/Users/alexellard/opt/anaconda3/lib/python3.7/site-packages/xgboost/data.py:96: UserWarning: Use subset (sliced data) of np.ndarray is not recommended because it will generate extra copies and increase memory consumption\n",
      "  \"because it will generate extra copies and increase \" +\n"
     ]
    },
    {
     "name": "stdout",
     "output_type": "stream",
     "text": [
      "test y shape : (17520, 1)\n",
      "Inv y shape : (17520, 61)\n",
      "y pred shape : (17520, 1)\n",
      "inv y pred : (17520, 61)\n",
      "Run 6 Mean Absolute Error: 27.9245103342053\n",
      "RMSE: 35.798\n",
      "R^2: 0.999\n",
      "[['node_30_demand', 'node_25_demand', 'node_27_pressure', 'link_9_flow', 'node_12_pressure', 'link_20_flow', 'node_13_pressure', 'link_17_flow', 'link_27_flow', 'node_16_pressure', 'link_18_flow', 'reservoir_pressure', 'node_6_demand', 'link_23_flow', 'node_10_demand', 'node_1_demand', 'node_29_pressure', 'link_8_flow', 'node_20_demand', 'reservoir_demand', 'node_4_pressure', 'link_2_flow', 'link_19_flow', 'link_15_flow', 'node_15_demand', 'link_26_flow', 'node_31_pressure', 'link_14_flow', 'node_24_demand', 'link_31_flow', 'link_12_flow', 'link_32_flow', 'link_3_flow', 'node_17_pressure']]\n",
      "starting df shape: (87600, 62)\n",
      "This is training run 7 and has the shape:  (87600, 62)\n",
      "The value of dropped columns is 35\n"
     ]
    },
    {
     "name": "stderr",
     "output_type": "stream",
     "text": [
      "/Users/alexellard/opt/anaconda3/lib/python3.7/site-packages/xgboost/data.py:96: UserWarning: Use subset (sliced data) of np.ndarray is not recommended because it will generate extra copies and increase memory consumption\n",
      "  \"because it will generate extra copies and increase \" +\n"
     ]
    },
    {
     "name": "stdout",
     "output_type": "stream",
     "text": [
      "test y shape : (17520, 1)\n",
      "Inv y shape : (17520, 62)\n",
      "y pred shape : (17520, 1)\n",
      "inv y pred : (17520, 62)\n",
      "Run 7 Mean Absolute Error: 1.6132143074820986\n",
      "RMSE: 2.067\n",
      "R^2: 0.999\n",
      "[['node_29_pressure', 'node_7_pressure', 'node_15_demand', 'node_31_pressure', 'node_3_demand', 'node_9_pressure', 'node_16_pressure', 'node_2_demand', 'node_11_pressure', 'node_28_pressure', 'link_31_flow', 'node_28_demand', 'node_25_pressure', 'node_30_demand', 'node_15_pressure', 'node_7_demand', 'node_20_demand', 'node_24_pressure', 'link_32_flow', 'link_21_flow', 'node_21_pressure', 'link_25_flow', 'node_11_demand', 'node_16_demand', 'node_19_pressure', 'node_13_demand', 'node_18_pressure', 'link_14_flow', 'link_19_flow', 'node_18_demand', 'node_17_pressure', 'link_9_flow', 'node_3_pressure', 'node_27_pressure']]\n",
      "starting df shape: (87600, 62)\n",
      "This is training run 8 and has the shape:  (87600, 62)\n",
      "The value of dropped columns is 35\n"
     ]
    },
    {
     "name": "stderr",
     "output_type": "stream",
     "text": [
      "/Users/alexellard/opt/anaconda3/lib/python3.7/site-packages/xgboost/data.py:96: UserWarning: Use subset (sliced data) of np.ndarray is not recommended because it will generate extra copies and increase memory consumption\n",
      "  \"because it will generate extra copies and increase \" +\n"
     ]
    },
    {
     "name": "stdout",
     "output_type": "stream",
     "text": [
      "test y shape : (17520, 1)\n",
      "Inv y shape : (17520, 62)\n",
      "y pred shape : (17520, 1)\n",
      "inv y pred : (17520, 62)\n",
      "Run 8 Mean Absolute Error: 55.869446595528785\n",
      "RMSE: 73.097\n",
      "R^2: 0.998\n",
      "[['link_6_flow', 'node_15_demand', 'node_3_demand', 'link_15_flow', 'node_3_pressure', 'link_11_flow', 'node_10_demand', 'node_4_demand', 'link_20_flow', 'link_14_flow', 'node_12_pressure', 'node_21_demand', 'node_24_demand', 'link_5_flow', 'node_27_pressure', 'node_5_pressure', 'node_29_demand', 'link_12_flow', 'link_2_flow', 'node_5_demand', 'node_18_pressure', 'node_19_pressure', 'link_3_flow', 'link_27_flow', 'node_7_pressure', 'node_22_pressure', 'link_18_flow', 'link_17_flow', 'node_14_demand', 'node_13_pressure', 'node_23_demand', 'link_21_flow', 'link_7_flow', 'link_24_flow']]\n",
      "starting df shape: (87600, 62)\n",
      "This is training run 9 and has the shape:  (87600, 62)\n",
      "The value of dropped columns is 35\n"
     ]
    },
    {
     "name": "stderr",
     "output_type": "stream",
     "text": [
      "/Users/alexellard/opt/anaconda3/lib/python3.7/site-packages/xgboost/data.py:96: UserWarning: Use subset (sliced data) of np.ndarray is not recommended because it will generate extra copies and increase memory consumption\n",
      "  \"because it will generate extra copies and increase \" +\n"
     ]
    },
    {
     "name": "stdout",
     "output_type": "stream",
     "text": [
      "test y shape : (17520, 1)\n",
      "Inv y shape : (17520, 62)\n",
      "y pred shape : (17520, 1)\n",
      "inv y pred : (17520, 62)\n",
      "Run 9 Mean Absolute Error: 29.425304579587916\n",
      "RMSE: 37.738\n",
      "R^2: 0.999\n",
      "[['link_2_flow', 'node_23_pressure', 'node_8_demand', 'node_9_demand', 'link_14_flow', 'link_12_flow', 'node_13_demand', 'link_3_flow', 'node_29_pressure', 'node_7_demand', 'node_27_demand', 'link_26_flow', 'link_7_flow', 'link_13_flow', 'node_31_demand', 'node_5_demand', 'link_30_flow', 'link_6_flow', 'node_11_pressure', 'link_4_flow', 'node_24_pressure', 'node_19_demand', 'node_26_demand', 'link_23_flow', 'node_25_demand', 'link_22_flow', 'node_22_demand', 'link_11_flow', 'link_5_flow', 'link_31_flow', 'link_32_flow', 'node_25_pressure', 'node_13_pressure', 'node_22_pressure']]\n",
      "starting df shape: (87600, 62)\n",
      "This is training run 10 and has the shape:  (87600, 62)\n",
      "The value of dropped columns is 35\n"
     ]
    },
    {
     "name": "stderr",
     "output_type": "stream",
     "text": [
      "/Users/alexellard/opt/anaconda3/lib/python3.7/site-packages/xgboost/data.py:96: UserWarning: Use subset (sliced data) of np.ndarray is not recommended because it will generate extra copies and increase memory consumption\n",
      "  \"because it will generate extra copies and increase \" +\n"
     ]
    },
    {
     "name": "stdout",
     "output_type": "stream",
     "text": [
      "test y shape : (17520, 1)\n",
      "Inv y shape : (17520, 62)\n",
      "y pred shape : (17520, 1)\n",
      "inv y pred : (17520, 62)\n",
      "Run 10 Mean Absolute Error: 27.959074126118402\n",
      "RMSE: 35.831\n",
      "R^2: 0.999\n",
      "[['link_20_flow', 'node_3_demand', 'node_19_demand', 'link_6_flow', 'node_2_demand', 'node_24_pressure', 'node_8_pressure', 'link_17_flow', 'link_23_flow', 'reservoir_pressure', 'node_11_demand', 'node_23_pressure', 'link_21_flow', 'node_30_demand', 'link_15_flow', 'link_19_flow', 'node_17_demand', 'node_15_pressure', 'node_25_demand', 'node_20_pressure', 'node_13_pressure', 'node_26_demand', 'node_1_pressure', 'node_16_pressure', 'node_31_pressure', 'link_27_flow', 'node_23_demand', 'node_21_pressure', 'node_5_demand', 'node_10_demand', 'node_18_pressure', 'link_26_flow', 'link_8_flow', 'link_24_flow', 'node_22_demand', 'link_25_flow', 'link_29_flow', 'node_20_demand', 'node_27_demand', 'node_14_pressure']]\n",
      "starting df shape: (87600, 56)\n",
      "This is training run 1 and has the shape:  (87600, 56)\n",
      "The value of dropped columns is 40\n"
     ]
    },
    {
     "name": "stderr",
     "output_type": "stream",
     "text": [
      "/Users/alexellard/opt/anaconda3/lib/python3.7/site-packages/xgboost/data.py:96: UserWarning: Use subset (sliced data) of np.ndarray is not recommended because it will generate extra copies and increase memory consumption\n",
      "  \"because it will generate extra copies and increase \" +\n"
     ]
    },
    {
     "name": "stdout",
     "output_type": "stream",
     "text": [
      "test y shape : (17520, 1)\n",
      "Inv y shape : (17520, 56)\n",
      "y pred shape : (17520, 1)\n",
      "inv y pred : (17520, 56)\n",
      "Run 1 Mean Absolute Error: 32.8677321267914\n",
      "RMSE: 42.224\n",
      "R^2: 0.999\n",
      "[['link_27_flow', 'node_17_demand', 'node_3_pressure', 'node_8_pressure', 'node_23_pressure', 'node_3_demand', 'link_9_flow', 'link_23_flow', 'node_24_pressure', 'node_5_demand', 'node_27_pressure', 'node_14_demand', 'node_21_demand', 'node_5_pressure', 'link_1_flow', 'node_2_pressure', 'node_20_pressure', 'node_25_demand', 'link_32_flow', 'link_19_flow', 'link_18_flow', 'link_31_flow', 'node_18_demand', 'link_29_flow', 'link_24_flow', 'node_14_pressure', 'link_28_flow', 'node_1_pressure', 'node_9_pressure', 'link_22_flow', 'link_14_flow', 'link_8_flow', 'node_8_demand', 'link_13_flow', 'node_6_demand', 'node_27_demand', 'node_26_pressure', 'node_18_pressure', 'link_20_flow', 'node_24_demand']]\n",
      "starting df shape: (87600, 56)\n",
      "This is training run 2 and has the shape:  (87600, 56)\n",
      "The value of dropped columns is 40\n"
     ]
    },
    {
     "name": "stderr",
     "output_type": "stream",
     "text": [
      "/Users/alexellard/opt/anaconda3/lib/python3.7/site-packages/xgboost/data.py:96: UserWarning: Use subset (sliced data) of np.ndarray is not recommended because it will generate extra copies and increase memory consumption\n",
      "  \"because it will generate extra copies and increase \" +\n"
     ]
    },
    {
     "name": "stdout",
     "output_type": "stream",
     "text": [
      "test y shape : (17520, 1)\n",
      "Inv y shape : (17520, 56)\n",
      "y pred shape : (17520, 1)\n",
      "inv y pred : (17520, 56)\n",
      "Run 2 Mean Absolute Error: 31.974236177868995\n",
      "RMSE: 41.191\n",
      "R^2: 0.999\n",
      "[['node_17_demand', 'node_10_demand', 'node_25_pressure', 'node_25_demand', 'node_21_demand', 'link_17_flow', 'node_22_demand', 'reservoir_pressure', 'node_12_pressure', 'node_13_pressure', 'node_4_pressure', 'node_15_pressure', 'link_11_flow', 'node_27_demand', 'link_6_flow', 'node_14_pressure', 'link_19_flow', 'node_21_pressure', 'node_18_pressure', 'node_9_pressure', 'link_5_flow', 'node_4_demand', 'node_8_demand', 'node_29_pressure', 'node_1_demand', 'link_30_flow', 'node_2_demand', 'link_28_flow', 'node_18_demand', 'node_19_pressure', 'node_16_demand', 'node_3_pressure', 'node_3_demand', 'node_22_pressure', 'link_7_flow', 'link_8_flow', 'node_14_demand', 'link_23_flow', 'link_15_flow', 'node_16_pressure']]\n",
      "starting df shape: (87600, 56)\n",
      "This is training run 3 and has the shape:  (87600, 56)\n",
      "The value of dropped columns is 40\n"
     ]
    },
    {
     "name": "stderr",
     "output_type": "stream",
     "text": [
      "/Users/alexellard/opt/anaconda3/lib/python3.7/site-packages/xgboost/data.py:96: UserWarning: Use subset (sliced data) of np.ndarray is not recommended because it will generate extra copies and increase memory consumption\n",
      "  \"because it will generate extra copies and increase \" +\n"
     ]
    },
    {
     "name": "stdout",
     "output_type": "stream",
     "text": [
      "test y shape : (17520, 1)\n",
      "Inv y shape : (17520, 56)\n",
      "y pred shape : (17520, 1)\n",
      "inv y pred : (17520, 56)\n",
      "Run 3 Mean Absolute Error: 82.41710234535473\n",
      "RMSE: 108.619\n",
      "R^2: 0.995\n",
      "[['node_21_demand', 'node_10_pressure', 'link_32_flow', 'node_25_pressure', 'node_28_pressure', 'link_24_flow', 'node_24_pressure', 'link_5_flow', 'node_14_demand', 'node_16_demand', 'node_29_pressure', 'node_17_demand', 'node_9_pressure', 'node_25_demand', 'node_1_demand', 'node_19_pressure', 'node_7_pressure', 'node_2_demand', 'node_13_demand', 'node_28_demand', 'link_14_flow', 'node_5_pressure', 'node_8_demand', 'node_15_pressure', 'node_20_pressure', 'link_6_flow', 'link_19_flow', 'link_4_flow', 'node_15_demand', 'node_30_demand', 'link_15_flow', 'node_16_pressure', 'link_30_flow', 'node_6_pressure', 'node_22_demand', 'node_27_demand', 'node_21_pressure', 'reservoir_demand', 'node_11_pressure']]\n",
      "starting df shape: (87600, 57)\n",
      "This is training run 4 and has the shape:  (87600, 57)\n",
      "The value of dropped columns is 40\n"
     ]
    },
    {
     "name": "stderr",
     "output_type": "stream",
     "text": [
      "/Users/alexellard/opt/anaconda3/lib/python3.7/site-packages/xgboost/data.py:96: UserWarning: Use subset (sliced data) of np.ndarray is not recommended because it will generate extra copies and increase memory consumption\n",
      "  \"because it will generate extra copies and increase \" +\n"
     ]
    },
    {
     "name": "stdout",
     "output_type": "stream",
     "text": [
      "test y shape : (17520, 1)\n",
      "Inv y shape : (17520, 57)\n",
      "y pred shape : (17520, 1)\n",
      "inv y pred : (17520, 57)\n",
      "Run 4 Mean Absolute Error: 0.7503573040554948\n",
      "RMSE: 0.988\n",
      "R^2: 0.995\n",
      "[['node_16_demand', 'link_6_flow', 'node_3_demand', 'link_12_flow', 'link_15_flow', 'link_23_flow', 'node_1_demand', 'node_16_pressure', 'node_30_pressure', 'link_21_flow', 'node_11_pressure', 'node_14_demand', 'link_3_flow', 'node_8_pressure', 'node_27_pressure', 'node_12_pressure', 'node_13_demand', 'node_24_demand', 'link_11_flow', 'node_14_pressure', 'node_5_pressure', 'link_19_flow', 'node_24_pressure', 'link_24_flow', 'link_27_flow', 'link_26_flow', 'node_26_demand', 'node_11_demand', 'node_28_pressure', 'link_32_flow', 'link_7_flow', 'node_29_pressure', 'node_30_demand', 'link_28_flow', 'link_9_flow', 'link_1_flow', 'node_9_demand', 'node_13_pressure', 'node_1_pressure', 'node_10_demand']]\n",
      "starting df shape: (87600, 56)\n",
      "This is training run 5 and has the shape:  (87600, 56)\n",
      "The value of dropped columns is 40\n"
     ]
    },
    {
     "name": "stderr",
     "output_type": "stream",
     "text": [
      "/Users/alexellard/opt/anaconda3/lib/python3.7/site-packages/xgboost/data.py:96: UserWarning: Use subset (sliced data) of np.ndarray is not recommended because it will generate extra copies and increase memory consumption\n",
      "  \"because it will generate extra copies and increase \" +\n"
     ]
    },
    {
     "name": "stdout",
     "output_type": "stream",
     "text": [
      "test y shape : (17520, 1)\n",
      "Inv y shape : (17520, 56)\n",
      "y pred shape : (17520, 1)\n",
      "inv y pred : (17520, 56)\n",
      "Run 5 Mean Absolute Error: 60.98427188438612\n",
      "RMSE: 79.293\n",
      "R^2: 0.997\n",
      "[['link_15_flow', 'link_1_flow', 'link_21_flow', 'node_19_demand', 'node_4_demand', 'node_25_pressure', 'node_27_demand', 'node_3_demand', 'link_6_flow', 'node_16_demand', 'link_11_flow', 'link_28_flow', 'node_13_pressure', 'node_6_pressure', 'node_1_demand', 'node_11_pressure', 'link_25_flow', 'link_27_flow', 'link_22_flow', 'reservoir_pressure', 'node_23_pressure', 'node_30_pressure', 'node_8_pressure', 'node_4_pressure', 'node_29_demand', 'link_19_flow', 'node_29_pressure', 'node_6_demand', 'node_23_demand', 'link_13_flow', 'node_27_pressure', 'link_24_flow', 'link_2_flow', 'node_2_demand', 'node_17_pressure', 'node_14_pressure', 'link_12_flow', 'node_17_demand', 'node_3_pressure']]\n",
      "starting df shape: (87600, 57)\n",
      "This is training run 6 and has the shape:  (87600, 57)\n",
      "The value of dropped columns is 40\n"
     ]
    },
    {
     "name": "stderr",
     "output_type": "stream",
     "text": [
      "/Users/alexellard/opt/anaconda3/lib/python3.7/site-packages/xgboost/data.py:96: UserWarning: Use subset (sliced data) of np.ndarray is not recommended because it will generate extra copies and increase memory consumption\n",
      "  \"because it will generate extra copies and increase \" +\n"
     ]
    },
    {
     "name": "stdout",
     "output_type": "stream",
     "text": [
      "test y shape : (17520, 1)\n",
      "Inv y shape : (17520, 57)\n",
      "y pred shape : (17520, 1)\n",
      "inv y pred : (17520, 57)\n",
      "Run 6 Mean Absolute Error: 82.93607297086629\n",
      "RMSE: 109.044\n",
      "R^2: 0.995\n",
      "[['node_8_demand', 'link_17_flow', 'node_14_pressure', 'link_7_flow', 'node_11_pressure', 'node_16_pressure', 'node_10_pressure', 'node_22_demand', 'link_9_flow', 'link_21_flow', 'link_3_flow', 'link_26_flow', 'link_31_flow', 'node_28_pressure', 'link_30_flow', 'node_15_demand', 'node_17_demand', 'node_10_demand', 'node_24_pressure', 'node_7_demand', 'node_25_pressure', 'node_30_pressure', 'node_9_pressure', 'node_2_pressure', 'link_1_flow', 'node_17_pressure', 'link_20_flow', 'link_22_flow', 'node_1_demand', 'node_19_pressure', 'node_19_demand', 'node_26_pressure', 'link_15_flow', 'node_12_pressure', 'link_6_flow', 'node_27_demand', 'link_29_flow', 'link_19_flow', 'node_5_pressure', 'node_1_pressure']]\n",
      "starting df shape: (87600, 56)\n",
      "This is training run 7 and has the shape:  (87600, 56)\n",
      "The value of dropped columns is 40\n"
     ]
    },
    {
     "name": "stderr",
     "output_type": "stream",
     "text": [
      "/Users/alexellard/opt/anaconda3/lib/python3.7/site-packages/xgboost/data.py:96: UserWarning: Use subset (sliced data) of np.ndarray is not recommended because it will generate extra copies and increase memory consumption\n",
      "  \"because it will generate extra copies and increase \" +\n"
     ]
    },
    {
     "name": "stdout",
     "output_type": "stream",
     "text": [
      "test y shape : (17520, 1)\n",
      "Inv y shape : (17520, 56)\n",
      "y pred shape : (17520, 1)\n",
      "inv y pred : (17520, 56)\n",
      "Run 7 Mean Absolute Error: 33.81274524292854\n",
      "RMSE: 43.412\n",
      "R^2: 0.999\n",
      "[['link_15_flow', 'node_10_demand', 'link_23_flow', 'link_10_flow', 'node_23_demand', 'node_29_demand', 'node_17_pressure', 'link_22_flow', 'node_9_demand', 'node_13_pressure', 'link_27_flow', 'node_19_demand', 'node_25_pressure', 'link_30_flow', 'node_1_demand', 'node_14_pressure', 'node_28_demand', 'link_28_flow', 'node_26_demand', 'node_31_pressure', 'node_17_demand', 'node_14_demand', 'node_5_demand', 'node_24_demand', 'link_20_flow', 'node_5_pressure', 'node_20_demand', 'link_2_flow', 'node_21_demand', 'node_11_pressure', 'link_26_flow', 'node_15_demand', 'reservoir_pressure', 'link_4_flow', 'link_6_flow', 'node_30_pressure', 'link_7_flow', 'node_7_pressure', 'node_22_pressure', 'node_24_pressure']]\n",
      "starting df shape: (87600, 56)\n",
      "This is training run 8 and has the shape:  (87600, 56)\n",
      "The value of dropped columns is 40\n"
     ]
    },
    {
     "name": "stderr",
     "output_type": "stream",
     "text": [
      "/Users/alexellard/opt/anaconda3/lib/python3.7/site-packages/xgboost/data.py:96: UserWarning: Use subset (sliced data) of np.ndarray is not recommended because it will generate extra copies and increase memory consumption\n",
      "  \"because it will generate extra copies and increase \" +\n"
     ]
    },
    {
     "name": "stdout",
     "output_type": "stream",
     "text": [
      "test y shape : (17520, 1)\n",
      "Inv y shape : (17520, 56)\n",
      "y pred shape : (17520, 1)\n",
      "inv y pred : (17520, 56)\n",
      "Run 8 Mean Absolute Error: 33.34383599684753\n",
      "RMSE: 42.875\n",
      "R^2: 0.999\n",
      "[['node_4_demand', 'link_22_flow', 'node_8_demand', 'node_7_demand', 'node_3_pressure', 'node_19_pressure', 'node_18_pressure', 'link_23_flow', 'node_16_demand', 'node_9_pressure', 'node_23_pressure', 'link_24_flow', 'node_25_demand', 'reservoir_demand', 'node_13_pressure', 'node_7_pressure', 'node_20_pressure', 'link_2_flow', 'node_24_pressure', 'node_1_pressure', 'node_2_demand', 'node_11_pressure', 'link_28_flow', 'link_27_flow', 'node_18_demand', 'node_11_demand', 'link_25_flow', 'node_31_demand', 'node_3_demand', 'node_29_demand', 'node_12_demand', 'node_6_pressure', 'node_15_demand', 'node_28_demand', 'link_14_flow', 'node_5_demand', 'node_29_pressure', 'node_22_pressure', 'node_27_demand', 'reservoir_pressure']]\n",
      "starting df shape: (87600, 56)\n",
      "This is training run 9 and has the shape:  (87600, 56)\n",
      "The value of dropped columns is 40\n"
     ]
    },
    {
     "name": "stderr",
     "output_type": "stream",
     "text": [
      "/Users/alexellard/opt/anaconda3/lib/python3.7/site-packages/xgboost/data.py:96: UserWarning: Use subset (sliced data) of np.ndarray is not recommended because it will generate extra copies and increase memory consumption\n",
      "  \"because it will generate extra copies and increase \" +\n"
     ]
    },
    {
     "name": "stdout",
     "output_type": "stream",
     "text": [
      "test y shape : (17520, 1)\n",
      "Inv y shape : (17520, 56)\n",
      "y pred shape : (17520, 1)\n",
      "inv y pred : (17520, 56)\n",
      "Run 9 Mean Absolute Error: 3.4102819929702344\n",
      "RMSE: 4.463\n",
      "R^2: 0.998\n",
      "[['node_3_demand', 'node_16_demand', 'node_11_pressure', 'link_24_flow', 'link_13_flow', 'node_12_pressure', 'link_4_flow', 'node_25_pressure', 'link_27_flow', 'link_28_flow', 'node_15_pressure', 'node_22_demand', 'node_5_pressure', 'link_26_flow', 'node_3_pressure', 'node_30_pressure', 'link_9_flow', 'node_10_pressure', 'node_10_demand', 'node_31_pressure', 'node_25_demand', 'node_2_pressure', 'node_11_demand', 'node_26_pressure', 'node_28_pressure', 'link_18_flow', 'link_23_flow', 'link_29_flow', 'node_19_pressure', 'link_20_flow', 'node_16_pressure', 'link_32_flow', 'node_8_demand', 'node_15_demand', 'node_5_demand', 'node_29_demand', 'reservoir_pressure', 'link_22_flow', 'link_8_flow']]\n",
      "starting df shape: (87600, 57)\n",
      "This is training run 10 and has the shape:  (87600, 57)\n",
      "The value of dropped columns is 40\n"
     ]
    },
    {
     "name": "stderr",
     "output_type": "stream",
     "text": [
      "/Users/alexellard/opt/anaconda3/lib/python3.7/site-packages/xgboost/data.py:96: UserWarning: Use subset (sliced data) of np.ndarray is not recommended because it will generate extra copies and increase memory consumption\n",
      "  \"because it will generate extra copies and increase \" +\n"
     ]
    },
    {
     "name": "stdout",
     "output_type": "stream",
     "text": [
      "test y shape : (17520, 1)\n",
      "Inv y shape : (17520, 57)\n",
      "y pred shape : (17520, 1)\n",
      "inv y pred : (17520, 57)\n",
      "Run 10 Mean Absolute Error: 57.592779849420936\n",
      "RMSE: 75.324\n",
      "R^2: 0.998\n",
      "[['node_6_pressure', 'link_8_flow', 'node_30_pressure', 'node_3_pressure', 'link_17_flow', 'node_7_pressure', 'node_10_pressure', 'node_22_pressure', 'link_6_flow', 'link_9_flow', 'link_5_flow', 'node_27_demand', 'link_11_flow', 'node_28_pressure', 'node_1_pressure', 'link_1_flow', 'link_2_flow', 'node_12_demand', 'node_9_demand', 'node_21_pressure', 'node_21_demand', 'node_29_pressure', 'link_22_flow', 'node_18_pressure', 'node_13_demand', 'node_6_demand', 'link_23_flow', 'link_15_flow', 'node_8_demand', 'node_2_pressure', 'link_31_flow', 'link_4_flow', 'node_25_demand', 'node_12_pressure', 'node_22_demand', 'node_16_pressure', 'node_28_demand', 'node_4_pressure', 'node_29_demand', 'link_25_flow', 'node_19_pressure', 'link_30_flow', 'node_13_pressure', 'node_15_pressure', 'link_14_flow']]\n",
      "starting df shape: (87600, 51)\n",
      "This is training run 1 and has the shape:  (87600, 51)\n",
      "The value of dropped columns is 45\n"
     ]
    },
    {
     "name": "stderr",
     "output_type": "stream",
     "text": [
      "/Users/alexellard/opt/anaconda3/lib/python3.7/site-packages/xgboost/data.py:96: UserWarning: Use subset (sliced data) of np.ndarray is not recommended because it will generate extra copies and increase memory consumption\n",
      "  \"because it will generate extra copies and increase \" +\n"
     ]
    },
    {
     "name": "stdout",
     "output_type": "stream",
     "text": [
      "test y shape : (17520, 1)\n",
      "Inv y shape : (17520, 51)\n",
      "y pred shape : (17520, 1)\n",
      "inv y pred : (17520, 51)\n",
      "Run 1 Mean Absolute Error: 28.946089864663673\n",
      "RMSE: 37.176\n",
      "R^2: 0.999\n",
      "[['node_17_demand', 'node_13_pressure', 'node_16_pressure', 'link_11_flow', 'link_14_flow', 'node_27_demand', 'node_12_demand', 'node_17_pressure', 'node_23_pressure', 'node_5_pressure', 'node_31_demand', 'node_24_demand', 'node_11_demand', 'link_9_flow', 'node_29_demand', 'node_3_pressure', 'link_13_flow', 'node_22_pressure', 'node_30_demand', 'node_27_pressure', 'link_7_flow', 'link_10_flow', 'node_14_demand', 'node_23_demand', 'node_7_pressure', 'node_4_pressure', 'node_28_demand', 'node_2_pressure', 'node_31_pressure', 'link_31_flow', 'node_15_pressure', 'node_21_pressure', 'link_26_flow', 'node_9_pressure', 'link_12_flow', 'node_29_pressure', 'link_5_flow', 'node_26_pressure', 'node_5_demand', 'node_11_pressure', 'link_32_flow', 'link_20_flow', 'link_18_flow', 'node_1_pressure', 'link_8_flow']]\n",
      "starting df shape: (87600, 51)\n",
      "This is training run 2 and has the shape:  (87600, 51)\n",
      "The value of dropped columns is 45\n"
     ]
    },
    {
     "name": "stderr",
     "output_type": "stream",
     "text": [
      "/Users/alexellard/opt/anaconda3/lib/python3.7/site-packages/xgboost/data.py:96: UserWarning: Use subset (sliced data) of np.ndarray is not recommended because it will generate extra copies and increase memory consumption\n",
      "  \"because it will generate extra copies and increase \" +\n"
     ]
    },
    {
     "name": "stdout",
     "output_type": "stream",
     "text": [
      "test y shape : (17520, 1)\n",
      "Inv y shape : (17520, 51)\n",
      "y pred shape : (17520, 1)\n",
      "inv y pred : (17520, 51)\n",
      "Run 2 Mean Absolute Error: 31.188790449609883\n",
      "RMSE: 40.178\n",
      "R^2: 0.999\n",
      "[['node_10_pressure', 'node_6_pressure', 'node_27_demand', 'node_24_pressure', 'link_1_flow', 'node_5_pressure', 'node_10_demand', 'node_13_pressure', 'node_3_demand', 'node_2_demand', 'node_23_demand', 'link_24_flow', 'link_11_flow', 'node_28_demand', 'node_4_demand', 'link_22_flow', 'node_17_demand', 'node_17_pressure', 'node_20_demand', 'link_18_flow', 'node_27_pressure', 'link_10_flow', 'link_12_flow', 'link_8_flow', 'node_30_demand', 'node_4_pressure', 'node_11_pressure', 'link_19_flow', 'node_25_pressure', 'link_5_flow', 'node_6_demand', 'node_31_pressure', 'node_8_pressure', 'link_29_flow', 'node_7_pressure', 'link_6_flow', 'link_7_flow', 'node_28_pressure', 'node_31_demand', 'node_16_pressure', 'node_8_demand', 'node_20_pressure', 'node_29_demand', 'reservoir_pressure', 'node_24_demand']]\n",
      "starting df shape: (87600, 51)\n",
      "This is training run 3 and has the shape:  (87600, 51)\n",
      "The value of dropped columns is 45\n"
     ]
    },
    {
     "name": "stderr",
     "output_type": "stream",
     "text": [
      "/Users/alexellard/opt/anaconda3/lib/python3.7/site-packages/xgboost/data.py:96: UserWarning: Use subset (sliced data) of np.ndarray is not recommended because it will generate extra copies and increase memory consumption\n",
      "  \"because it will generate extra copies and increase \" +\n"
     ]
    },
    {
     "name": "stdout",
     "output_type": "stream",
     "text": [
      "test y shape : (17520, 1)\n",
      "Inv y shape : (17520, 51)\n",
      "y pred shape : (17520, 1)\n",
      "inv y pred : (17520, 51)\n",
      "Run 3 Mean Absolute Error: 30.57931852766557\n",
      "RMSE: 39.392\n",
      "R^2: 0.999\n",
      "[['link_15_flow', 'link_32_flow', 'node_30_demand', 'node_7_pressure', 'node_8_demand', 'node_28_demand', 'link_17_flow', 'link_20_flow', 'node_23_pressure', 'node_1_demand', 'link_26_flow', 'node_14_pressure', 'node_13_demand', 'node_20_demand', 'node_12_pressure', 'node_2_pressure', 'node_11_pressure', 'reservoir_demand', 'node_10_demand', 'node_9_demand', 'link_7_flow', 'node_25_pressure', 'node_18_pressure', 'node_17_pressure', 'link_24_flow', 'link_21_flow', 'link_14_flow', 'link_19_flow', 'link_12_flow', 'node_10_pressure', 'node_29_demand', 'node_12_demand', 'link_13_flow', 'node_6_pressure', 'node_30_pressure', 'node_1_pressure', 'node_20_pressure', 'link_18_flow', 'link_6_flow', 'link_10_flow', 'node_24_demand', 'node_4_pressure', 'node_16_pressure', 'link_1_flow', 'node_5_pressure']]\n",
      "starting df shape: (87600, 51)\n",
      "This is training run 4 and has the shape:  (87600, 51)\n",
      "The value of dropped columns is 45\n"
     ]
    },
    {
     "name": "stderr",
     "output_type": "stream",
     "text": [
      "/Users/alexellard/opt/anaconda3/lib/python3.7/site-packages/xgboost/data.py:96: UserWarning: Use subset (sliced data) of np.ndarray is not recommended because it will generate extra copies and increase memory consumption\n",
      "  \"because it will generate extra copies and increase \" +\n"
     ]
    },
    {
     "name": "stdout",
     "output_type": "stream",
     "text": [
      "test y shape : (17520, 1)\n",
      "Inv y shape : (17520, 51)\n",
      "y pred shape : (17520, 1)\n",
      "inv y pred : (17520, 51)\n",
      "Run 4 Mean Absolute Error: 1.5937985024435346\n",
      "RMSE: 2.048\n",
      "R^2: 0.999\n",
      "[['link_6_flow', 'node_16_pressure', 'node_1_demand', 'link_9_flow', 'link_15_flow', 'node_2_demand', 'node_5_demand', 'node_4_demand', 'link_21_flow', 'node_21_demand', 'node_27_pressure', 'link_23_flow', 'link_12_flow', 'node_3_demand', 'link_1_flow', 'link_29_flow', 'node_23_pressure', 'node_25_demand', 'node_22_demand', 'link_18_flow', 'link_22_flow', 'node_5_pressure', 'node_29_demand', 'node_12_pressure', 'reservoir_pressure', 'node_30_demand', 'node_10_pressure', 'node_13_pressure', 'node_9_pressure', 'node_8_pressure', 'node_20_demand', 'link_27_flow', 'node_15_demand', 'node_1_pressure', 'link_13_flow', 'link_7_flow', 'node_16_demand', 'node_13_demand', 'link_4_flow', 'node_28_demand', 'node_14_demand', 'node_25_pressure', 'node_31_pressure', 'node_11_pressure', 'node_24_pressure']]\n",
      "starting df shape: (87600, 51)\n",
      "This is training run 5 and has the shape:  (87600, 51)\n",
      "The value of dropped columns is 45\n"
     ]
    },
    {
     "name": "stderr",
     "output_type": "stream",
     "text": [
      "/Users/alexellard/opt/anaconda3/lib/python3.7/site-packages/xgboost/data.py:96: UserWarning: Use subset (sliced data) of np.ndarray is not recommended because it will generate extra copies and increase memory consumption\n",
      "  \"because it will generate extra copies and increase \" +\n"
     ]
    },
    {
     "name": "stdout",
     "output_type": "stream",
     "text": [
      "test y shape : (17520, 1)\n",
      "Inv y shape : (17520, 51)\n",
      "y pred shape : (17520, 1)\n",
      "inv y pred : (17520, 51)\n",
      "Run 5 Mean Absolute Error: 60.75195176219533\n",
      "RMSE: 79.154\n",
      "R^2: 0.997\n",
      "[['node_9_pressure', 'node_13_demand', 'node_22_pressure', 'node_27_demand', 'node_9_demand', 'node_5_pressure', 'node_2_demand', 'link_18_flow', 'link_29_flow', 'link_26_flow', 'node_22_demand', 'node_15_pressure', 'node_10_demand', 'node_20_pressure', 'link_6_flow', 'node_16_demand', 'node_8_demand', 'link_7_flow', 'node_19_pressure', 'link_20_flow', 'link_19_flow', 'node_15_demand', 'reservoir_demand', 'node_17_demand', 'reservoir_pressure', 'link_12_flow', 'node_18_pressure', 'node_3_pressure', 'node_1_demand', 'node_4_pressure', 'link_32_flow', 'node_5_demand', 'link_15_flow', 'node_16_pressure', 'node_1_pressure', 'link_27_flow', 'link_21_flow', 'node_31_pressure', 'link_9_flow', 'link_25_flow', 'link_11_flow', 'link_4_flow', 'node_8_pressure', 'node_24_pressure']]\n",
      "starting df shape: (87600, 52)\n",
      "This is training run 6 and has the shape:  (87600, 52)\n",
      "The value of dropped columns is 45\n"
     ]
    },
    {
     "name": "stderr",
     "output_type": "stream",
     "text": [
      "/Users/alexellard/opt/anaconda3/lib/python3.7/site-packages/xgboost/data.py:96: UserWarning: Use subset (sliced data) of np.ndarray is not recommended because it will generate extra copies and increase memory consumption\n",
      "  \"because it will generate extra copies and increase \" +\n"
     ]
    },
    {
     "name": "stdout",
     "output_type": "stream",
     "text": [
      "test y shape : (17520, 1)\n",
      "Inv y shape : (17520, 52)\n",
      "y pred shape : (17520, 1)\n",
      "inv y pred : (17520, 52)\n",
      "Run 6 Mean Absolute Error: 0.794612781522268\n",
      "RMSE: 1.043\n",
      "R^2: 0.994\n",
      "[['node_5_pressure', 'node_28_pressure', 'node_21_demand', 'link_6_flow', 'node_17_pressure', 'link_29_flow', 'node_2_pressure', 'node_25_demand', 'link_2_flow', 'node_16_demand', 'link_32_flow', 'link_26_flow', 'node_14_demand', 'link_27_flow', 'node_15_pressure', 'node_26_pressure', 'link_7_flow', 'link_12_flow', 'node_4_pressure', 'node_18_demand', 'node_6_demand', 'link_14_flow', 'node_23_demand', 'node_5_demand', 'node_2_demand', 'node_31_pressure', 'link_13_flow', 'node_24_pressure', 'node_15_demand', 'node_18_pressure', 'node_27_demand', 'node_22_demand', 'node_8_demand', 'node_11_demand', 'node_12_demand', 'node_19_demand', 'node_13_pressure', 'link_3_flow', 'node_29_demand', 'node_14_pressure', 'link_30_flow', 'node_3_pressure', 'link_21_flow', 'node_28_demand']]\n",
      "starting df shape: (87600, 52)\n",
      "This is training run 7 and has the shape:  (87600, 52)\n",
      "The value of dropped columns is 45\n"
     ]
    },
    {
     "name": "stderr",
     "output_type": "stream",
     "text": [
      "/Users/alexellard/opt/anaconda3/lib/python3.7/site-packages/xgboost/data.py:96: UserWarning: Use subset (sliced data) of np.ndarray is not recommended because it will generate extra copies and increase memory consumption\n",
      "  \"because it will generate extra copies and increase \" +\n"
     ]
    },
    {
     "name": "stdout",
     "output_type": "stream",
     "text": [
      "test y shape : (17520, 1)\n",
      "Inv y shape : (17520, 52)\n",
      "y pred shape : (17520, 1)\n",
      "inv y pred : (17520, 52)\n",
      "Run 7 Mean Absolute Error: 55.53633206749418\n",
      "RMSE: 72.701\n",
      "R^2: 0.998\n",
      "[['node_29_demand', 'node_10_pressure', 'node_20_demand', 'node_13_pressure', 'node_1_pressure', 'link_27_flow', 'link_8_flow', 'node_6_pressure', 'link_6_flow', 'node_8_demand', 'node_31_pressure', 'link_7_flow', 'link_23_flow', 'node_19_pressure', 'node_28_demand', 'node_30_pressure', 'node_2_demand', 'node_9_demand', 'node_21_demand', 'node_19_demand', 'node_24_pressure', 'node_3_demand', 'node_22_demand', 'node_27_demand', 'node_14_demand', 'node_24_demand', 'node_9_pressure', 'node_8_pressure', 'node_1_demand', 'link_11_flow', 'node_4_pressure', 'node_17_demand', 'reservoir_pressure', 'node_6_demand', 'node_31_demand', 'link_28_flow', 'link_21_flow', 'node_23_pressure', 'node_21_pressure', 'node_10_demand', 'node_16_pressure', 'link_24_flow', 'link_20_flow', 'link_25_flow']]\n",
      "starting df shape: (87600, 52)\n",
      "This is training run 8 and has the shape:  (87600, 52)\n",
      "The value of dropped columns is 45\n"
     ]
    },
    {
     "name": "stderr",
     "output_type": "stream",
     "text": [
      "/Users/alexellard/opt/anaconda3/lib/python3.7/site-packages/xgboost/data.py:96: UserWarning: Use subset (sliced data) of np.ndarray is not recommended because it will generate extra copies and increase memory consumption\n",
      "  \"because it will generate extra copies and increase \" +\n"
     ]
    },
    {
     "name": "stdout",
     "output_type": "stream",
     "text": [
      "test y shape : (17520, 1)\n",
      "Inv y shape : (17520, 52)\n",
      "y pred shape : (17520, 1)\n",
      "inv y pred : (17520, 52)\n",
      "Run 8 Mean Absolute Error: 30.086407618114098\n",
      "RMSE: 38.693\n",
      "R^2: 0.999\n",
      "[['link_31_flow', 'link_8_flow', 'link_32_flow', 'link_6_flow', 'node_25_pressure', 'node_16_pressure', 'link_19_flow', 'node_8_demand', 'node_22_demand', 'node_10_demand', 'node_26_pressure', 'link_1_flow', 'node_20_demand', 'link_10_flow', 'node_11_demand', 'node_16_demand', 'node_1_pressure', 'node_30_pressure', 'node_10_pressure', 'node_2_pressure', 'link_21_flow', 'node_31_pressure', 'node_27_pressure', 'node_15_pressure', 'node_6_demand', 'link_5_flow', 'link_9_flow', 'node_24_demand', 'link_4_flow', 'link_25_flow', 'reservoir_demand', 'node_3_demand', 'link_15_flow', 'node_17_demand', 'link_24_flow', 'node_4_demand', 'node_29_pressure', 'node_5_pressure', 'link_29_flow', 'link_27_flow', 'node_22_pressure', 'link_3_flow', 'node_13_pressure', 'link_30_flow', 'node_12_pressure']]\n",
      "starting df shape: (87600, 51)\n",
      "This is training run 9 and has the shape:  (87600, 51)\n",
      "The value of dropped columns is 45\n"
     ]
    },
    {
     "name": "stderr",
     "output_type": "stream",
     "text": [
      "/Users/alexellard/opt/anaconda3/lib/python3.7/site-packages/xgboost/data.py:96: UserWarning: Use subset (sliced data) of np.ndarray is not recommended because it will generate extra copies and increase memory consumption\n",
      "  \"because it will generate extra copies and increase \" +\n"
     ]
    },
    {
     "name": "stdout",
     "output_type": "stream",
     "text": [
      "test y shape : (17520, 1)\n",
      "Inv y shape : (17520, 51)\n",
      "y pred shape : (17520, 1)\n",
      "inv y pred : (17520, 51)\n",
      "Run 9 Mean Absolute Error: 5.188203286495779\n",
      "RMSE: 6.792\n",
      "R^2: 0.995\n",
      "[['node_12_pressure', 'link_15_flow', 'node_13_pressure', 'node_13_demand', 'node_9_demand', 'node_29_pressure', 'node_29_demand', 'node_16_demand', 'node_23_pressure', 'link_7_flow', 'link_1_flow', 'node_30_demand', 'link_26_flow', 'node_14_demand', 'link_2_flow', 'node_7_pressure', 'node_3_pressure', 'node_18_pressure', 'node_7_demand', 'node_10_demand', 'node_31_pressure', 'node_11_demand', 'link_5_flow', 'node_24_demand', 'link_14_flow', 'link_21_flow', 'node_18_demand', 'node_4_demand', 'node_27_pressure', 'link_25_flow', 'node_24_pressure', 'node_25_pressure', 'link_22_flow', 'node_22_demand', 'link_24_flow', 'node_28_demand', 'node_25_demand', 'link_3_flow', 'link_13_flow', 'node_23_demand', 'link_9_flow', 'link_30_flow', 'link_11_flow', 'node_17_demand']]\n",
      "starting df shape: (87600, 52)\n",
      "This is training run 10 and has the shape:  (87600, 52)\n",
      "The value of dropped columns is 45\n"
     ]
    },
    {
     "name": "stderr",
     "output_type": "stream",
     "text": [
      "/Users/alexellard/opt/anaconda3/lib/python3.7/site-packages/xgboost/data.py:96: UserWarning: Use subset (sliced data) of np.ndarray is not recommended because it will generate extra copies and increase memory consumption\n",
      "  \"because it will generate extra copies and increase \" +\n"
     ]
    },
    {
     "name": "stdout",
     "output_type": "stream",
     "text": [
      "test y shape : (17520, 1)\n",
      "Inv y shape : (17520, 52)\n",
      "y pred shape : (17520, 1)\n",
      "inv y pred : (17520, 52)\n",
      "Run 10 Mean Absolute Error: 85.62272419324435\n",
      "RMSE: 112.537\n",
      "R^2: 0.995\n",
      "[['node_27_pressure', 'link_20_flow', 'link_15_flow', 'link_7_flow', 'node_23_demand', 'link_11_flow', 'link_8_flow', 'node_27_demand', 'node_9_demand', 'node_29_demand', 'link_10_flow', 'node_22_demand', 'reservoir_pressure', 'link_19_flow', 'node_25_demand', 'node_24_demand', 'node_28_pressure', 'node_5_pressure', 'node_18_demand', 'link_18_flow', 'node_7_pressure', 'link_27_flow', 'node_3_pressure', 'node_4_demand', 'node_12_pressure', 'node_1_pressure', 'node_2_demand', 'node_6_demand', 'node_21_demand', 'link_1_flow', 'node_15_demand', 'node_14_demand', 'node_10_demand', 'node_31_pressure', 'link_31_flow', 'node_11_pressure', 'node_9_pressure', 'node_29_pressure', 'node_10_pressure', 'node_13_demand', 'node_24_pressure', 'node_22_pressure', 'node_16_demand', 'node_4_pressure', 'node_17_pressure', 'node_31_demand', 'node_11_demand', 'link_2_flow', 'node_23_pressure']]\n",
      "starting df shape: (87600, 47)\n",
      "This is training run 1 and has the shape:  (87600, 47)\n",
      "The value of dropped columns is 50\n"
     ]
    },
    {
     "name": "stderr",
     "output_type": "stream",
     "text": [
      "/Users/alexellard/opt/anaconda3/lib/python3.7/site-packages/xgboost/data.py:96: UserWarning: Use subset (sliced data) of np.ndarray is not recommended because it will generate extra copies and increase memory consumption\n",
      "  \"because it will generate extra copies and increase \" +\n"
     ]
    },
    {
     "name": "stdout",
     "output_type": "stream",
     "text": [
      "test y shape : (17520, 1)\n",
      "Inv y shape : (17520, 47)\n",
      "y pred shape : (17520, 1)\n",
      "inv y pred : (17520, 47)\n",
      "Run 1 Mean Absolute Error: 63.333517771370744\n",
      "RMSE: 82.970\n",
      "R^2: 0.997\n",
      "[['node_18_pressure', 'node_3_demand', 'node_31_pressure', 'link_27_flow', 'link_10_flow', 'link_25_flow', 'link_13_flow', 'node_21_demand', 'node_6_pressure', 'link_32_flow', 'link_11_flow', 'link_2_flow', 'link_17_flow', 'node_5_demand', 'node_29_pressure', 'link_30_flow', 'node_7_pressure', 'link_14_flow', 'node_17_pressure', 'node_8_pressure', 'node_20_demand', 'node_12_demand', 'node_2_demand', 'node_1_pressure', 'link_24_flow', 'link_29_flow', 'node_11_demand', 'node_10_demand', 'node_18_demand', 'link_26_flow', 'reservoir_pressure', 'node_13_demand', 'node_14_demand', 'link_23_flow', 'node_16_demand', 'node_15_demand', 'link_5_flow', 'node_20_pressure', 'node_25_pressure', 'node_30_demand', 'node_4_pressure', 'link_18_flow', 'link_15_flow', 'link_9_flow', 'node_30_pressure', 'node_9_pressure', 'link_4_flow', 'reservoir_demand', 'node_27_demand']]\n",
      "starting df shape: (87600, 47)\n",
      "This is training run 2 and has the shape:  (87600, 47)\n",
      "The value of dropped columns is 50\n"
     ]
    },
    {
     "name": "stderr",
     "output_type": "stream",
     "text": [
      "/Users/alexellard/opt/anaconda3/lib/python3.7/site-packages/xgboost/data.py:96: UserWarning: Use subset (sliced data) of np.ndarray is not recommended because it will generate extra copies and increase memory consumption\n",
      "  \"because it will generate extra copies and increase \" +\n"
     ]
    },
    {
     "name": "stdout",
     "output_type": "stream",
     "text": [
      "test y shape : (17520, 1)\n",
      "Inv y shape : (17520, 47)\n",
      "y pred shape : (17520, 1)\n",
      "inv y pred : (17520, 47)\n",
      "Run 2 Mean Absolute Error: 4.934921224699765\n",
      "RMSE: 6.462\n",
      "R^2: 0.996\n",
      "[['reservoir_demand', 'node_17_pressure', 'link_11_flow', 'link_21_flow', 'link_12_flow', 'node_12_pressure', 'node_26_pressure', 'node_1_demand', 'link_1_flow', 'link_22_flow', 'node_14_demand', 'link_26_flow', 'node_3_pressure', 'link_3_flow', 'node_24_demand', 'node_18_demand', 'node_9_demand', 'link_15_flow', 'link_23_flow', 'link_9_flow', 'node_6_pressure', 'node_21_demand', 'node_25_pressure', 'node_4_demand', 'link_28_flow', 'node_22_demand', 'node_12_demand', 'node_21_pressure', 'node_2_demand', 'node_16_demand', 'node_16_pressure', 'node_31_pressure', 'node_30_pressure', 'link_10_flow', 'node_8_demand', 'node_27_demand', 'node_20_demand', 'link_5_flow', 'node_20_pressure', 'node_23_pressure', 'link_31_flow', 'node_17_demand', 'node_18_pressure', 'link_27_flow', 'node_15_pressure', 'node_3_demand', 'link_7_flow', 'node_10_pressure', 'node_27_pressure']]\n",
      "starting df shape: (87600, 47)\n",
      "This is training run 3 and has the shape:  (87600, 47)\n",
      "The value of dropped columns is 50\n"
     ]
    },
    {
     "name": "stderr",
     "output_type": "stream",
     "text": [
      "/Users/alexellard/opt/anaconda3/lib/python3.7/site-packages/xgboost/data.py:96: UserWarning: Use subset (sliced data) of np.ndarray is not recommended because it will generate extra copies and increase memory consumption\n",
      "  \"because it will generate extra copies and increase \" +\n"
     ]
    },
    {
     "name": "stdout",
     "output_type": "stream",
     "text": [
      "test y shape : (17520, 1)\n",
      "Inv y shape : (17520, 47)\n",
      "y pred shape : (17520, 1)\n",
      "inv y pred : (17520, 47)\n",
      "Run 3 Mean Absolute Error: 4.948125436848518\n",
      "RMSE: 6.507\n",
      "R^2: 0.995\n",
      "[['node_5_pressure', 'node_5_demand', 'link_7_flow', 'node_4_demand', 'node_11_pressure', 'node_10_demand', 'link_27_flow', 'link_30_flow', 'node_16_demand', 'link_22_flow', 'link_9_flow', 'node_27_demand', 'node_24_demand', 'node_23_pressure', 'link_13_flow', 'node_2_pressure', 'node_9_pressure', 'node_25_pressure', 'node_22_demand', 'link_17_flow', 'node_10_pressure', 'link_24_flow', 'node_20_demand', 'node_27_pressure', 'reservoir_pressure', 'node_3_demand', 'node_31_pressure', 'node_19_demand', 'link_8_flow', 'node_30_demand', 'node_1_demand', 'node_11_demand', 'node_15_pressure', 'node_12_pressure', 'node_8_pressure', 'link_29_flow', 'node_28_demand', 'link_14_flow', 'link_21_flow', 'node_9_demand', 'node_14_demand', 'node_21_pressure', 'link_20_flow', 'link_18_flow', 'link_5_flow', 'node_17_pressure', 'link_1_flow', 'reservoir_demand', 'node_7_pressure', 'node_31_demand']]\n",
      "starting df shape: (87600, 46)\n",
      "This is training run 4 and has the shape:  (87600, 46)\n",
      "The value of dropped columns is 50\n"
     ]
    },
    {
     "name": "stderr",
     "output_type": "stream",
     "text": [
      "/Users/alexellard/opt/anaconda3/lib/python3.7/site-packages/xgboost/data.py:96: UserWarning: Use subset (sliced data) of np.ndarray is not recommended because it will generate extra copies and increase memory consumption\n",
      "  \"because it will generate extra copies and increase \" +\n"
     ]
    },
    {
     "name": "stdout",
     "output_type": "stream",
     "text": [
      "test y shape : (17520, 1)\n",
      "Inv y shape : (17520, 46)\n",
      "y pred shape : (17520, 1)\n",
      "inv y pred : (17520, 46)\n",
      "Run 4 Mean Absolute Error: 3.610966419711648\n",
      "RMSE: 4.754\n",
      "R^2: 0.997\n",
      "[['node_1_demand', 'node_28_pressure', 'node_29_demand', 'link_30_flow', 'node_9_pressure', 'node_6_demand', 'node_30_pressure', 'link_4_flow', 'node_3_pressure', 'link_12_flow', 'node_3_demand', 'node_16_demand', 'node_4_demand', 'node_16_pressure', 'link_18_flow', 'node_18_pressure', 'node_29_pressure', 'link_5_flow', 'node_21_demand', 'node_11_pressure', 'link_24_flow', 'reservoir_pressure', 'node_24_pressure', 'node_13_demand', 'link_13_flow', 'link_29_flow', 'node_8_demand', 'link_1_flow', 'node_20_demand', 'link_23_flow', 'node_26_pressure', 'reservoir_demand', 'node_17_demand', 'node_14_demand', 'node_15_demand', 'link_26_flow', 'link_14_flow', 'node_23_pressure', 'node_1_pressure', 'node_6_pressure', 'node_19_pressure', 'link_2_flow', 'node_31_demand', 'link_15_flow', 'node_9_demand', 'node_31_pressure', 'node_15_pressure', 'node_17_pressure', 'node_26_demand', 'link_17_flow']]\n",
      "starting df shape: (87600, 46)\n",
      "This is training run 5 and has the shape:  (87600, 46)\n",
      "The value of dropped columns is 50\n"
     ]
    },
    {
     "name": "stderr",
     "output_type": "stream",
     "text": [
      "/Users/alexellard/opt/anaconda3/lib/python3.7/site-packages/xgboost/data.py:96: UserWarning: Use subset (sliced data) of np.ndarray is not recommended because it will generate extra copies and increase memory consumption\n",
      "  \"because it will generate extra copies and increase \" +\n"
     ]
    },
    {
     "name": "stdout",
     "output_type": "stream",
     "text": [
      "test y shape : (17520, 1)\n",
      "Inv y shape : (17520, 46)\n",
      "y pred shape : (17520, 1)\n",
      "inv y pred : (17520, 46)\n",
      "Run 5 Mean Absolute Error: 5.068382614748628\n",
      "RMSE: 6.667\n",
      "R^2: 0.994\n",
      "[['node_29_pressure', 'node_24_demand', 'link_27_flow', 'link_18_flow', 'link_23_flow', 'node_15_pressure', 'node_28_pressure', 'node_11_demand', 'node_5_pressure', 'node_19_demand', 'node_2_demand', 'node_3_demand', 'link_8_flow', 'node_22_demand', 'node_17_pressure', 'link_5_flow', 'node_24_pressure', 'node_1_demand', 'node_14_pressure', 'node_15_demand', 'node_8_pressure', 'node_27_pressure', 'link_25_flow', 'link_26_flow', 'link_24_flow', 'link_1_flow', 'node_26_demand', 'node_8_demand', 'node_4_demand', 'node_18_pressure', 'link_28_flow', 'reservoir_pressure', 'node_6_demand', 'node_30_pressure', 'node_4_pressure', 'node_21_pressure', 'node_10_pressure', 'node_27_demand', 'link_20_flow', 'node_29_demand', 'node_17_demand', 'link_11_flow', 'link_12_flow', 'node_25_pressure', 'node_7_demand', 'node_30_demand', 'link_22_flow', 'node_2_pressure', 'node_14_demand']]\n",
      "starting df shape: (87600, 47)\n",
      "This is training run 6 and has the shape:  (87600, 47)\n",
      "The value of dropped columns is 50\n"
     ]
    },
    {
     "name": "stderr",
     "output_type": "stream",
     "text": [
      "/Users/alexellard/opt/anaconda3/lib/python3.7/site-packages/xgboost/data.py:96: UserWarning: Use subset (sliced data) of np.ndarray is not recommended because it will generate extra copies and increase memory consumption\n",
      "  \"because it will generate extra copies and increase \" +\n"
     ]
    },
    {
     "name": "stdout",
     "output_type": "stream",
     "text": [
      "test y shape : (17520, 1)\n",
      "Inv y shape : (17520, 47)\n",
      "y pred shape : (17520, 1)\n",
      "inv y pred : (17520, 47)\n",
      "Run 6 Mean Absolute Error: 31.311176553303213\n",
      "RMSE: 40.116\n",
      "R^2: 0.999\n",
      "[['reservoir_pressure', 'node_9_demand', 'node_23_demand', 'node_11_pressure', 'link_32_flow', 'link_13_flow', 'node_2_pressure', 'node_6_pressure', 'link_2_flow', 'node_17_demand', 'node_28_pressure', 'link_28_flow', 'node_30_pressure', 'node_3_pressure', 'link_12_flow', 'node_4_pressure', 'link_30_flow', 'node_26_demand', 'node_4_demand', 'node_21_pressure', 'node_26_pressure', 'node_5_demand', 'node_25_pressure', 'link_27_flow', 'link_1_flow', 'link_24_flow', 'link_29_flow', 'node_10_pressure', 'node_20_demand', 'node_1_pressure', 'node_2_demand', 'link_5_flow', 'node_21_demand', 'link_8_flow', 'link_3_flow', 'node_7_demand', 'link_21_flow', 'node_18_pressure', 'link_26_flow', 'node_3_demand', 'node_27_pressure', 'link_18_flow', 'node_24_pressure', 'node_25_demand', 'node_19_pressure', 'node_20_pressure', 'node_18_demand', 'node_12_demand', 'node_15_pressure']]\n",
      "starting df shape: (87600, 47)\n",
      "This is training run 7 and has the shape:  (87600, 47)\n",
      "The value of dropped columns is 50\n"
     ]
    },
    {
     "name": "stderr",
     "output_type": "stream",
     "text": [
      "/Users/alexellard/opt/anaconda3/lib/python3.7/site-packages/xgboost/data.py:96: UserWarning: Use subset (sliced data) of np.ndarray is not recommended because it will generate extra copies and increase memory consumption\n",
      "  \"because it will generate extra copies and increase \" +\n"
     ]
    },
    {
     "name": "stdout",
     "output_type": "stream",
     "text": [
      "test y shape : (17520, 1)\n",
      "Inv y shape : (17520, 47)\n",
      "y pred shape : (17520, 1)\n",
      "inv y pred : (17520, 47)\n",
      "Run 7 Mean Absolute Error: 31.632644824225913\n",
      "RMSE: 40.681\n",
      "R^2: 0.999\n",
      "[['node_20_demand', 'link_8_flow', 'link_24_flow', 'link_9_flow', 'link_19_flow', 'node_14_pressure', 'node_6_pressure', 'node_5_demand', 'node_1_demand', 'node_6_demand', 'link_3_flow', 'node_14_demand', 'link_32_flow', 'link_23_flow', 'link_27_flow', 'link_18_flow', 'node_15_demand', 'link_10_flow', 'link_6_flow', 'node_27_demand', 'link_5_flow', 'node_7_demand', 'node_16_pressure', 'node_2_demand', 'node_5_pressure', 'node_4_pressure', 'node_29_pressure', 'node_24_pressure', 'node_3_demand', 'node_13_demand', 'node_18_demand', 'node_26_demand', 'link_7_flow', 'node_31_demand', 'link_26_flow', 'node_12_pressure', 'link_29_flow', 'node_28_demand', 'node_17_pressure', 'node_23_demand', 'link_14_flow', 'node_23_pressure', 'link_25_flow', 'link_21_flow', 'node_8_demand', 'node_21_pressure', 'node_31_pressure', 'reservoir_pressure', 'node_8_pressure']]\n",
      "starting df shape: (87600, 47)\n",
      "This is training run 8 and has the shape:  (87600, 47)\n",
      "The value of dropped columns is 50\n"
     ]
    },
    {
     "name": "stderr",
     "output_type": "stream",
     "text": [
      "/Users/alexellard/opt/anaconda3/lib/python3.7/site-packages/xgboost/data.py:96: UserWarning: Use subset (sliced data) of np.ndarray is not recommended because it will generate extra copies and increase memory consumption\n",
      "  \"because it will generate extra copies and increase \" +\n"
     ]
    },
    {
     "name": "stdout",
     "output_type": "stream",
     "text": [
      "test y shape : (17520, 1)\n",
      "Inv y shape : (17520, 47)\n",
      "y pred shape : (17520, 1)\n",
      "inv y pred : (17520, 47)\n",
      "Run 8 Mean Absolute Error: 29.357268205716235\n",
      "RMSE: 37.669\n",
      "R^2: 0.999\n",
      "[['node_31_pressure', 'link_20_flow', 'node_12_demand', 'node_28_demand', 'node_26_demand', 'link_24_flow', 'node_17_demand', 'node_19_pressure', 'node_6_pressure', 'node_8_pressure', 'node_14_pressure', 'link_17_flow', 'link_22_flow', 'link_9_flow', 'node_2_demand', 'link_30_flow', 'link_4_flow', 'node_23_demand', 'link_14_flow', 'node_26_pressure', 'link_25_flow', 'node_25_pressure', 'link_7_flow', 'node_19_demand', 'node_18_pressure', 'node_3_demand', 'node_18_demand', 'node_7_pressure', 'node_22_demand', 'node_25_demand', 'node_21_demand', 'link_1_flow', 'node_30_pressure', 'reservoir_demand', 'node_10_pressure', 'link_2_flow', 'link_19_flow', 'node_27_pressure', 'node_31_demand', 'link_5_flow', 'node_2_pressure', 'node_5_demand', 'node_21_pressure', 'link_18_flow', 'reservoir_pressure', 'node_8_demand', 'link_11_flow', 'node_29_demand', 'node_4_pressure', 'node_15_demand']]\n",
      "starting df shape: (87600, 46)\n",
      "This is training run 9 and has the shape:  (87600, 46)\n",
      "The value of dropped columns is 50\n"
     ]
    },
    {
     "name": "stderr",
     "output_type": "stream",
     "text": [
      "/Users/alexellard/opt/anaconda3/lib/python3.7/site-packages/xgboost/data.py:96: UserWarning: Use subset (sliced data) of np.ndarray is not recommended because it will generate extra copies and increase memory consumption\n",
      "  \"because it will generate extra copies and increase \" +\n"
     ]
    },
    {
     "name": "stdout",
     "output_type": "stream",
     "text": [
      "test y shape : (17520, 1)\n",
      "Inv y shape : (17520, 46)\n",
      "y pred shape : (17520, 1)\n",
      "inv y pred : (17520, 46)\n",
      "Run 9 Mean Absolute Error: 2.0804070376229213\n",
      "RMSE: 2.666\n",
      "R^2: 0.999\n",
      "[['node_16_demand', 'node_23_pressure', 'node_23_demand', 'node_27_demand', 'node_9_demand', 'node_16_pressure', 'node_25_demand', 'link_8_flow', 'node_27_pressure', 'node_29_pressure', 'link_12_flow', 'link_2_flow', 'node_26_pressure', 'node_8_pressure', 'link_4_flow', 'link_5_flow', 'link_14_flow', 'reservoir_pressure', 'node_28_pressure', 'link_24_flow', 'node_17_pressure', 'link_25_flow', 'node_15_demand', 'node_18_pressure', 'link_23_flow', 'node_6_pressure', 'node_19_demand', 'node_24_demand', 'link_17_flow', 'link_9_flow', 'link_18_flow', 'node_12_demand', 'node_26_demand', 'node_2_demand', 'link_3_flow', 'node_29_demand', 'node_22_demand', 'link_7_flow', 'node_4_demand', 'node_21_demand', 'node_28_demand', 'node_17_demand', 'node_31_pressure', 'node_9_pressure', 'node_22_pressure', 'link_29_flow', 'reservoir_demand', 'link_22_flow', 'node_19_pressure']]\n",
      "starting df shape: (87600, 47)\n",
      "This is training run 10 and has the shape:  (87600, 47)\n",
      "The value of dropped columns is 50\n"
     ]
    },
    {
     "name": "stderr",
     "output_type": "stream",
     "text": [
      "/Users/alexellard/opt/anaconda3/lib/python3.7/site-packages/xgboost/data.py:96: UserWarning: Use subset (sliced data) of np.ndarray is not recommended because it will generate extra copies and increase memory consumption\n",
      "  \"because it will generate extra copies and increase \" +\n"
     ]
    },
    {
     "name": "stdout",
     "output_type": "stream",
     "text": [
      "test y shape : (17520, 1)\n",
      "Inv y shape : (17520, 47)\n",
      "y pred shape : (17520, 1)\n",
      "inv y pred : (17520, 47)\n",
      "Run 10 Mean Absolute Error: 4.893297264047363\n",
      "RMSE: 6.459\n",
      "R^2: 0.996\n",
      "[['node_25_pressure', 'link_11_flow', 'link_1_flow', 'node_15_pressure', 'node_10_pressure', 'node_5_pressure', 'node_8_pressure', 'node_18_demand', 'node_27_pressure', 'node_28_demand', 'node_1_demand', 'link_24_flow', 'node_7_demand', 'node_29_demand', 'node_16_pressure', 'node_2_pressure', 'link_14_flow', 'node_11_demand', 'node_26_pressure', 'node_15_demand', 'node_23_pressure', 'node_30_pressure', 'node_30_demand', 'link_28_flow', 'link_10_flow', 'node_22_demand', 'node_14_pressure', 'node_20_demand', 'node_4_demand', 'node_20_pressure', 'node_24_demand', 'node_19_demand', 'link_3_flow', 'node_8_demand', 'node_29_pressure', 'link_4_flow', 'link_27_flow', 'link_8_flow', 'node_24_pressure', 'link_22_flow', 'link_29_flow', 'reservoir_demand', 'node_31_demand', 'node_3_pressure', 'node_17_pressure', 'node_1_pressure', 'link_2_flow', 'node_9_demand', 'link_6_flow', 'link_30_flow', 'node_11_pressure', 'node_13_pressure', 'link_9_flow', 'link_5_flow']]\n",
      "starting df shape: (87600, 42)\n",
      "This is training run 1 and has the shape:  (87600, 42)\n",
      "The value of dropped columns is 55\n"
     ]
    },
    {
     "name": "stderr",
     "output_type": "stream",
     "text": [
      "/Users/alexellard/opt/anaconda3/lib/python3.7/site-packages/xgboost/data.py:96: UserWarning: Use subset (sliced data) of np.ndarray is not recommended because it will generate extra copies and increase memory consumption\n",
      "  \"because it will generate extra copies and increase \" +\n"
     ]
    },
    {
     "name": "stdout",
     "output_type": "stream",
     "text": [
      "test y shape : (17520, 1)\n",
      "Inv y shape : (17520, 42)\n",
      "y pred shape : (17520, 1)\n",
      "inv y pred : (17520, 42)\n",
      "Run 1 Mean Absolute Error: 1.6016430796134893\n",
      "RMSE: 2.066\n",
      "R^2: 0.999\n",
      "[['link_2_flow', 'node_1_pressure', 'node_31_demand', 'node_18_pressure', 'node_27_pressure', 'node_7_demand', 'node_13_pressure', 'node_13_demand', 'link_4_flow', 'node_3_pressure', 'node_12_demand', 'link_10_flow', 'link_17_flow', 'node_6_demand', 'node_20_demand', 'link_22_flow', 'link_6_flow', 'node_17_pressure', 'node_24_pressure', 'node_26_pressure', 'link_24_flow', 'link_29_flow', 'node_10_pressure', 'node_14_demand', 'node_21_demand', 'node_9_demand', 'node_10_demand', 'node_16_demand', 'link_20_flow', 'node_19_pressure', 'node_24_demand', 'node_11_pressure', 'link_26_flow', 'node_26_demand', 'link_25_flow', 'link_31_flow', 'link_28_flow', 'node_30_pressure', 'node_28_demand', 'node_11_demand', 'node_17_demand', 'link_7_flow', 'node_4_pressure', 'node_27_demand', 'node_4_demand', 'node_29_demand', 'node_25_pressure', 'node_2_pressure', 'link_15_flow', 'node_22_pressure', 'node_15_demand', 'node_28_pressure', 'node_8_demand', 'link_32_flow', 'node_19_demand']]\n",
      "starting df shape: (87600, 41)\n",
      "This is training run 2 and has the shape:  (87600, 41)\n",
      "The value of dropped columns is 55\n"
     ]
    },
    {
     "name": "stderr",
     "output_type": "stream",
     "text": [
      "/Users/alexellard/opt/anaconda3/lib/python3.7/site-packages/xgboost/data.py:96: UserWarning: Use subset (sliced data) of np.ndarray is not recommended because it will generate extra copies and increase memory consumption\n",
      "  \"because it will generate extra copies and increase \" +\n"
     ]
    },
    {
     "name": "stdout",
     "output_type": "stream",
     "text": [
      "test y shape : (17520, 1)\n",
      "Inv y shape : (17520, 41)\n",
      "y pred shape : (17520, 1)\n",
      "inv y pred : (17520, 41)\n",
      "Run 2 Mean Absolute Error: 85.97030116088878\n",
      "RMSE: 112.508\n",
      "R^2: 0.995\n",
      "[['node_31_demand', 'link_19_flow', 'link_17_flow', 'node_3_pressure', 'node_21_pressure', 'node_16_demand', 'node_5_pressure', 'node_9_pressure', 'link_1_flow', 'link_27_flow', 'node_30_demand', 'node_15_pressure', 'node_18_demand', 'node_31_pressure', 'link_2_flow', 'link_18_flow', 'node_4_pressure', 'link_7_flow', 'link_24_flow', 'node_30_pressure', 'node_10_demand', 'link_30_flow', 'link_8_flow', 'link_32_flow', 'link_5_flow', 'node_22_pressure', 'link_12_flow', 'link_28_flow', 'reservoir_demand', 'node_11_pressure', 'link_6_flow', 'node_2_pressure', 'link_31_flow', 'node_5_demand', 'reservoir_pressure', 'node_22_demand', 'node_6_pressure', 'node_8_demand', 'node_24_demand', 'node_24_pressure', 'node_1_demand', 'node_7_demand', 'node_20_pressure', 'node_6_demand', 'node_29_pressure', 'link_10_flow', 'node_17_pressure', 'node_15_demand', 'node_19_demand', 'node_13_pressure', 'link_29_flow', 'node_29_demand', 'node_1_pressure', 'node_8_pressure', 'node_17_demand']]\n",
      "starting df shape: (87600, 41)\n",
      "This is training run 3 and has the shape:  (87600, 41)\n",
      "The value of dropped columns is 55\n"
     ]
    },
    {
     "name": "stderr",
     "output_type": "stream",
     "text": [
      "/Users/alexellard/opt/anaconda3/lib/python3.7/site-packages/xgboost/data.py:96: UserWarning: Use subset (sliced data) of np.ndarray is not recommended because it will generate extra copies and increase memory consumption\n",
      "  \"because it will generate extra copies and increase \" +\n"
     ]
    },
    {
     "name": "stdout",
     "output_type": "stream",
     "text": [
      "test y shape : (17520, 1)\n",
      "Inv y shape : (17520, 41)\n",
      "y pred shape : (17520, 1)\n",
      "inv y pred : (17520, 41)\n",
      "Run 3 Mean Absolute Error: 4.227055372466024\n",
      "RMSE: 5.599\n",
      "R^2: 0.996\n",
      "[['node_23_demand', 'link_19_flow', 'reservoir_pressure', 'node_23_pressure', 'node_5_demand', 'link_25_flow', 'link_12_flow', 'node_6_pressure', 'node_3_demand', 'node_31_demand', 'node_15_pressure', 'node_19_pressure', 'node_20_demand', 'node_30_pressure', 'node_11_pressure', 'link_11_flow', 'node_13_pressure', 'node_13_demand', 'node_25_pressure', 'link_28_flow', 'node_26_demand', 'node_30_demand', 'node_14_demand', 'link_1_flow', 'link_26_flow', 'node_24_pressure', 'node_15_demand', 'node_27_pressure', 'link_30_flow', 'link_2_flow', 'node_19_demand', 'node_8_demand', 'node_17_pressure', 'link_14_flow', 'node_1_pressure', 'link_21_flow', 'link_20_flow', 'node_16_pressure', 'node_10_pressure', 'link_22_flow', 'node_8_pressure', 'node_6_demand', 'link_18_flow', 'link_6_flow', 'link_29_flow', 'node_29_demand', 'node_9_demand', 'node_29_pressure', 'node_10_demand', 'link_13_flow', 'link_9_flow', 'node_24_demand', 'node_2_demand', 'node_1_demand', 'link_23_flow']]\n",
      "starting df shape: (87600, 41)\n",
      "This is training run 4 and has the shape:  (87600, 41)\n",
      "The value of dropped columns is 55\n"
     ]
    },
    {
     "name": "stderr",
     "output_type": "stream",
     "text": [
      "/Users/alexellard/opt/anaconda3/lib/python3.7/site-packages/xgboost/data.py:96: UserWarning: Use subset (sliced data) of np.ndarray is not recommended because it will generate extra copies and increase memory consumption\n",
      "  \"because it will generate extra copies and increase \" +\n"
     ]
    },
    {
     "name": "stdout",
     "output_type": "stream",
     "text": [
      "test y shape : (17520, 1)\n",
      "Inv y shape : (17520, 41)\n",
      "y pred shape : (17520, 1)\n",
      "inv y pred : (17520, 41)\n",
      "Run 4 Mean Absolute Error: 29.6444087426231\n",
      "RMSE: 37.999\n",
      "R^2: 0.999\n",
      "[['link_25_flow', 'link_8_flow', 'node_8_demand', 'node_3_pressure', 'node_9_pressure', 'node_28_pressure', 'link_11_flow', 'link_12_flow', 'node_11_demand', 'node_24_demand', 'node_22_demand', 'node_16_pressure', 'link_21_flow', 'link_6_flow', 'link_18_flow', 'node_14_pressure', 'node_10_pressure', 'node_19_pressure', 'node_5_pressure', 'node_27_demand', 'node_3_demand', 'node_17_demand', 'node_1_demand', 'node_31_demand', 'node_29_pressure', 'node_26_pressure', 'node_11_pressure', 'node_2_pressure', 'node_29_demand', 'link_24_flow', 'node_18_demand', 'node_13_pressure', 'node_21_pressure', 'link_17_flow', 'node_20_demand', 'node_2_demand', 'node_22_pressure', 'node_27_pressure', 'node_6_pressure', 'node_24_pressure', 'link_26_flow', 'link_5_flow', 'node_20_pressure', 'node_15_demand', 'node_30_demand', 'reservoir_demand', 'link_2_flow', 'node_28_demand', 'node_23_pressure', 'link_14_flow', 'link_29_flow', 'node_31_pressure', 'link_23_flow', 'link_1_flow', 'link_10_flow']]\n",
      "starting df shape: (87600, 41)\n",
      "This is training run 5 and has the shape:  (87600, 41)\n",
      "The value of dropped columns is 55\n"
     ]
    },
    {
     "name": "stderr",
     "output_type": "stream",
     "text": [
      "/Users/alexellard/opt/anaconda3/lib/python3.7/site-packages/xgboost/data.py:96: UserWarning: Use subset (sliced data) of np.ndarray is not recommended because it will generate extra copies and increase memory consumption\n",
      "  \"because it will generate extra copies and increase \" +\n"
     ]
    },
    {
     "name": "stdout",
     "output_type": "stream",
     "text": [
      "test y shape : (17520, 1)\n",
      "Inv y shape : (17520, 41)\n",
      "y pred shape : (17520, 1)\n",
      "inv y pred : (17520, 41)\n",
      "Run 5 Mean Absolute Error: 1.466572788725788\n",
      "RMSE: 1.886\n",
      "R^2: 0.999\n",
      "[['link_29_flow', 'node_1_pressure', 'node_24_pressure', 'node_6_demand', 'link_24_flow', 'link_21_flow', 'node_11_demand', 'link_25_flow', 'node_6_pressure', 'node_7_demand', 'link_14_flow', 'node_27_pressure', 'link_19_flow', 'node_2_pressure', 'node_8_demand', 'node_3_pressure', 'node_18_pressure', 'node_21_pressure', 'link_1_flow', 'link_27_flow', 'node_16_demand', 'link_4_flow', 'node_17_demand', 'link_8_flow', 'node_27_demand', 'node_26_demand', 'link_17_flow', 'link_18_flow', 'link_2_flow', 'node_20_demand', 'link_20_flow', 'link_12_flow', 'node_23_demand', 'node_25_pressure', 'node_22_demand', 'node_3_demand', 'link_5_flow', 'node_4_pressure', 'node_5_demand', 'node_21_demand', 'node_15_pressure', 'node_29_demand', 'node_20_pressure', 'node_30_demand', 'node_24_demand', 'node_14_pressure', 'node_18_demand', 'node_9_pressure', 'node_28_demand', 'node_28_pressure', 'link_13_flow', 'node_8_pressure', 'link_3_flow', 'node_22_pressure']]\n",
      "starting df shape: (87600, 42)\n",
      "This is training run 6 and has the shape:  (87600, 42)\n",
      "The value of dropped columns is 55\n"
     ]
    },
    {
     "name": "stderr",
     "output_type": "stream",
     "text": [
      "/Users/alexellard/opt/anaconda3/lib/python3.7/site-packages/xgboost/data.py:96: UserWarning: Use subset (sliced data) of np.ndarray is not recommended because it will generate extra copies and increase memory consumption\n",
      "  \"because it will generate extra copies and increase \" +\n"
     ]
    },
    {
     "name": "stdout",
     "output_type": "stream",
     "text": [
      "test y shape : (17520, 1)\n",
      "Inv y shape : (17520, 42)\n",
      "y pred shape : (17520, 1)\n",
      "inv y pred : (17520, 42)\n",
      "Run 6 Mean Absolute Error: 78.77224879744045\n",
      "RMSE: 103.576\n",
      "R^2: 0.996\n",
      "[['link_5_flow', 'node_8_pressure', 'node_1_demand', 'node_9_demand', 'reservoir_demand', 'node_19_demand', 'node_22_demand', 'node_23_pressure', 'node_17_pressure', 'node_2_demand', 'link_13_flow', 'node_1_pressure', 'node_29_demand', 'node_21_demand', 'node_10_demand', 'node_26_demand', 'node_31_pressure', 'link_17_flow', 'link_24_flow', 'node_2_pressure', 'link_10_flow', 'link_27_flow', 'link_4_flow', 'node_18_demand', 'node_5_demand', 'node_4_demand', 'node_28_pressure', 'node_26_pressure', 'node_23_demand', 'node_27_pressure', 'link_15_flow', 'link_20_flow', 'node_9_pressure', 'node_20_demand', 'node_3_demand', 'node_13_pressure', 'node_8_demand', 'node_15_pressure', 'link_28_flow', 'link_19_flow', 'node_21_pressure', 'link_11_flow', 'node_17_demand', 'link_18_flow', 'node_10_pressure', 'reservoir_pressure', 'link_31_flow', 'node_27_demand', 'node_19_pressure', 'node_12_pressure', 'link_26_flow', 'node_24_demand', 'node_13_demand', 'link_3_flow', 'node_6_pressure']]\n",
      "starting df shape: (87600, 41)\n",
      "This is training run 7 and has the shape:  (87600, 41)\n",
      "The value of dropped columns is 55\n"
     ]
    },
    {
     "name": "stderr",
     "output_type": "stream",
     "text": [
      "/Users/alexellard/opt/anaconda3/lib/python3.7/site-packages/xgboost/data.py:96: UserWarning: Use subset (sliced data) of np.ndarray is not recommended because it will generate extra copies and increase memory consumption\n",
      "  \"because it will generate extra copies and increase \" +\n"
     ]
    },
    {
     "name": "stdout",
     "output_type": "stream",
     "text": [
      "test y shape : (17520, 1)\n",
      "Inv y shape : (17520, 41)\n",
      "y pred shape : (17520, 1)\n",
      "inv y pred : (17520, 41)\n",
      "Run 7 Mean Absolute Error: 3.327360022022192\n",
      "RMSE: 4.300\n",
      "R^2: 0.999\n",
      "[['node_29_demand', 'node_3_demand', 'node_5_pressure', 'node_6_demand', 'node_16_pressure', 'node_7_pressure', 'node_12_demand', 'node_4_pressure', 'node_6_pressure', 'link_3_flow', 'node_14_pressure', 'node_11_demand', 'node_23_demand', 'link_12_flow', 'node_10_pressure', 'link_32_flow', 'node_3_pressure', 'link_31_flow', 'node_18_demand', 'node_5_demand', 'link_11_flow', 'link_25_flow', 'link_26_flow', 'node_7_demand', 'node_1_pressure', 'node_24_pressure', 'node_28_pressure', 'node_26_pressure', 'link_22_flow', 'node_8_demand', 'link_1_flow', 'node_15_demand', 'link_27_flow', 'link_6_flow', 'node_24_demand', 'node_11_pressure', 'link_18_flow', 'link_30_flow', 'node_13_demand', 'node_22_pressure', 'node_8_pressure', 'node_18_pressure', 'link_21_flow', 'node_20_pressure', 'node_30_pressure', 'node_22_demand', 'link_29_flow', 'node_17_pressure', 'reservoir_demand', 'link_15_flow', 'node_31_pressure', 'node_27_pressure', 'link_7_flow', 'link_20_flow']]\n",
      "starting df shape: (87600, 42)\n",
      "This is training run 8 and has the shape:  (87600, 42)\n",
      "The value of dropped columns is 55\n"
     ]
    },
    {
     "name": "stderr",
     "output_type": "stream",
     "text": [
      "/Users/alexellard/opt/anaconda3/lib/python3.7/site-packages/xgboost/data.py:96: UserWarning: Use subset (sliced data) of np.ndarray is not recommended because it will generate extra copies and increase memory consumption\n",
      "  \"because it will generate extra copies and increase \" +\n"
     ]
    },
    {
     "name": "stdout",
     "output_type": "stream",
     "text": [
      "test y shape : (17520, 1)\n",
      "Inv y shape : (17520, 42)\n",
      "y pred shape : (17520, 1)\n",
      "inv y pred : (17520, 42)\n",
      "Run 8 Mean Absolute Error: 1.804802706121388\n",
      "RMSE: 2.324\n",
      "R^2: 0.999\n",
      "[['node_27_demand', 'node_20_pressure', 'link_22_flow', 'node_6_demand', 'link_19_flow', 'node_15_demand', 'node_19_pressure', 'node_1_pressure', 'reservoir_pressure', 'node_31_demand', 'node_11_pressure', 'node_2_demand', 'link_13_flow', 'node_23_demand', 'link_6_flow', 'node_25_demand', 'node_7_demand', 'node_28_demand', 'node_28_pressure', 'link_12_flow', 'link_7_flow', 'link_31_flow', 'reservoir_demand', 'node_5_demand', 'link_9_flow', 'node_16_demand', 'link_21_flow', 'node_21_demand', 'link_29_flow', 'node_6_pressure', 'node_16_pressure', 'node_4_demand', 'link_23_flow', 'link_4_flow', 'node_26_demand', 'node_17_demand', 'node_24_demand', 'node_1_demand', 'node_31_pressure', 'node_23_pressure', 'link_8_flow', 'node_19_demand', 'node_13_demand', 'link_30_flow', 'link_3_flow', 'link_27_flow', 'link_25_flow', 'link_20_flow', 'node_13_pressure', 'node_17_pressure', 'node_3_demand', 'link_5_flow', 'node_18_pressure', 'link_10_flow']]\n",
      "starting df shape: (87600, 42)\n",
      "This is training run 9 and has the shape:  (87600, 42)\n",
      "The value of dropped columns is 55\n"
     ]
    },
    {
     "name": "stderr",
     "output_type": "stream",
     "text": [
      "/Users/alexellard/opt/anaconda3/lib/python3.7/site-packages/xgboost/data.py:96: UserWarning: Use subset (sliced data) of np.ndarray is not recommended because it will generate extra copies and increase memory consumption\n",
      "  \"because it will generate extra copies and increase \" +\n"
     ]
    },
    {
     "name": "stdout",
     "output_type": "stream",
     "text": [
      "test y shape : (17520, 1)\n",
      "Inv y shape : (17520, 42)\n",
      "y pred shape : (17520, 1)\n",
      "inv y pred : (17520, 42)\n",
      "Run 9 Mean Absolute Error: 2.4836657051666235\n",
      "RMSE: 3.244\n",
      "R^2: 0.995\n",
      "[['node_23_demand', 'node_12_pressure', 'node_4_pressure', 'link_5_flow', 'node_28_pressure', 'node_7_pressure', 'link_6_flow', 'node_5_demand', 'link_27_flow', 'node_17_demand', 'node_1_demand', 'node_14_demand', 'node_15_pressure', 'node_28_demand', 'node_29_pressure', 'link_7_flow', 'node_11_pressure', 'link_28_flow', 'node_17_pressure', 'node_25_demand', 'node_1_pressure', 'node_20_pressure', 'node_9_pressure', 'node_24_pressure', 'link_17_flow', 'node_22_pressure', 'node_7_demand', 'node_22_demand', 'node_19_pressure', 'node_16_pressure', 'link_32_flow', 'link_25_flow', 'link_19_flow', 'node_4_demand', 'link_8_flow', 'node_2_demand', 'node_21_demand', 'node_30_demand', 'link_18_flow', 'node_29_demand', 'link_29_flow', 'link_11_flow', 'node_10_pressure', 'link_30_flow', 'node_26_pressure', 'node_31_demand', 'link_14_flow', 'node_15_demand', 'link_3_flow', 'link_1_flow', 'node_27_pressure', 'node_13_demand', 'node_20_demand', 'node_26_demand']]\n",
      "starting df shape: (87600, 42)\n",
      "This is training run 10 and has the shape:  (87600, 42)\n",
      "The value of dropped columns is 55\n"
     ]
    },
    {
     "name": "stderr",
     "output_type": "stream",
     "text": [
      "/Users/alexellard/opt/anaconda3/lib/python3.7/site-packages/xgboost/data.py:96: UserWarning: Use subset (sliced data) of np.ndarray is not recommended because it will generate extra copies and increase memory consumption\n",
      "  \"because it will generate extra copies and increase \" +\n"
     ]
    },
    {
     "name": "stdout",
     "output_type": "stream",
     "text": [
      "test y shape : (17520, 1)\n",
      "Inv y shape : (17520, 42)\n",
      "y pred shape : (17520, 1)\n",
      "inv y pred : (17520, 42)\n",
      "Run 10 Mean Absolute Error: 33.218084933382926\n",
      "RMSE: 42.732\n",
      "R^2: 0.999\n",
      "[['node_4_pressure', 'node_12_pressure', 'reservoir_demand', 'node_7_demand', 'node_23_pressure', 'link_18_flow', 'link_2_flow', 'node_10_demand', 'node_6_demand', 'node_8_demand', 'link_6_flow', 'link_19_flow', 'node_1_pressure', 'node_31_demand', 'node_19_pressure', 'node_27_pressure', 'link_7_flow', 'node_9_demand', 'node_2_demand', 'node_7_pressure', 'link_9_flow', 'node_15_pressure', 'link_14_flow', 'link_17_flow', 'link_12_flow', 'node_24_pressure', 'node_25_demand', 'node_17_pressure', 'node_5_demand', 'link_31_flow', 'node_5_pressure', 'node_30_pressure', 'node_14_pressure', 'link_21_flow', 'node_21_demand', 'node_26_pressure', 'node_6_pressure', 'link_25_flow', 'node_16_pressure', 'node_31_pressure', 'node_19_demand', 'node_21_pressure', 'link_22_flow', 'link_26_flow', 'link_8_flow', 'link_29_flow', 'node_3_demand', 'node_20_demand', 'link_11_flow', 'link_20_flow', 'node_8_pressure', 'link_13_flow', 'link_24_flow', 'node_4_demand', 'link_1_flow', 'node_15_demand', 'node_29_demand', 'node_12_demand', 'node_11_pressure', 'node_18_demand']]\n",
      "starting df shape: (87600, 36)\n",
      "This is training run 1 and has the shape:  (87600, 36)\n",
      "The value of dropped columns is 60\n"
     ]
    },
    {
     "name": "stderr",
     "output_type": "stream",
     "text": [
      "/Users/alexellard/opt/anaconda3/lib/python3.7/site-packages/xgboost/data.py:96: UserWarning: Use subset (sliced data) of np.ndarray is not recommended because it will generate extra copies and increase memory consumption\n",
      "  \"because it will generate extra copies and increase \" +\n"
     ]
    },
    {
     "name": "stdout",
     "output_type": "stream",
     "text": [
      "test y shape : (17520, 1)\n",
      "Inv y shape : (17520, 36)\n",
      "y pred shape : (17520, 1)\n",
      "inv y pred : (17520, 36)\n",
      "Run 1 Mean Absolute Error: 1.9759475345338378\n",
      "RMSE: 2.534\n",
      "R^2: 0.999\n",
      "[['node_5_pressure', 'node_12_demand', 'node_4_demand', 'node_24_pressure', 'node_13_pressure', 'node_9_pressure', 'link_5_flow', 'node_15_pressure', 'link_32_flow', 'node_29_pressure', 'link_27_flow', 'link_9_flow', 'link_3_flow', 'link_23_flow', 'node_14_pressure', 'node_20_demand', 'link_19_flow', 'node_23_demand', 'node_1_demand', 'node_30_pressure', 'node_19_pressure', 'node_19_demand', 'link_28_flow', 'link_30_flow', 'node_9_demand', 'link_25_flow', 'node_28_pressure', 'node_8_pressure', 'node_24_demand', 'node_1_pressure', 'link_8_flow', 'node_27_demand', 'link_2_flow', 'link_12_flow', 'node_20_pressure', 'node_29_demand', 'node_2_pressure', 'node_31_demand', 'node_13_demand', 'node_17_pressure', 'reservoir_demand', 'link_15_flow', 'node_26_pressure', 'link_21_flow', 'node_8_demand', 'node_31_pressure', 'node_14_demand', 'node_2_demand', 'node_10_demand', 'node_30_demand', 'link_20_flow', 'link_10_flow', 'node_7_demand', 'link_24_flow', 'node_22_pressure', 'node_3_demand', 'link_29_flow', 'node_5_demand', 'node_27_pressure', 'node_17_demand']]\n",
      "starting df shape: (87600, 36)\n",
      "This is training run 2 and has the shape:  (87600, 36)\n",
      "The value of dropped columns is 60\n"
     ]
    },
    {
     "name": "stderr",
     "output_type": "stream",
     "text": [
      "/Users/alexellard/opt/anaconda3/lib/python3.7/site-packages/xgboost/data.py:96: UserWarning: Use subset (sliced data) of np.ndarray is not recommended because it will generate extra copies and increase memory consumption\n",
      "  \"because it will generate extra copies and increase \" +\n"
     ]
    },
    {
     "name": "stdout",
     "output_type": "stream",
     "text": [
      "test y shape : (17520, 1)\n",
      "Inv y shape : (17520, 36)\n",
      "y pred shape : (17520, 1)\n",
      "inv y pred : (17520, 36)\n",
      "Run 2 Mean Absolute Error: 2.9961142148511506\n",
      "RMSE: 3.846\n",
      "R^2: 0.999\n",
      "[['node_8_pressure', 'node_31_demand', 'link_32_flow', 'link_28_flow', 'link_17_flow', 'node_18_pressure', 'link_26_flow', 'node_5_demand', 'node_29_pressure', 'node_18_demand', 'node_28_pressure', 'link_22_flow', 'node_6_pressure', 'link_23_flow', 'node_19_demand', 'link_15_flow', 'link_25_flow', 'node_1_pressure', 'link_21_flow', 'node_24_demand', 'link_18_flow', 'node_9_pressure', 'node_8_demand', 'link_8_flow', 'node_10_pressure', 'link_27_flow', 'node_30_demand', 'node_4_demand', 'link_7_flow', 'node_11_pressure', 'node_23_demand', 'node_28_demand', 'link_11_flow', 'node_25_demand', 'node_16_pressure', 'node_21_pressure', 'node_6_demand', 'node_15_pressure', 'node_14_demand', 'link_10_flow', 'node_25_pressure', 'node_12_pressure', 'node_12_demand', 'link_13_flow', 'link_5_flow', 'node_23_pressure', 'node_21_demand', 'link_2_flow', 'node_26_pressure', 'node_31_pressure', 'node_10_demand', 'link_24_flow', 'link_30_flow', 'node_1_demand', 'node_13_pressure', 'node_9_demand', 'node_17_pressure', 'node_4_pressure', 'node_27_pressure', 'node_30_pressure']]\n",
      "starting df shape: (87600, 36)\n",
      "This is training run 3 and has the shape:  (87600, 36)\n",
      "The value of dropped columns is 60\n"
     ]
    },
    {
     "name": "stderr",
     "output_type": "stream",
     "text": [
      "/Users/alexellard/opt/anaconda3/lib/python3.7/site-packages/xgboost/data.py:96: UserWarning: Use subset (sliced data) of np.ndarray is not recommended because it will generate extra copies and increase memory consumption\n",
      "  \"because it will generate extra copies and increase \" +\n"
     ]
    },
    {
     "name": "stdout",
     "output_type": "stream",
     "text": [
      "test y shape : (17520, 1)\n",
      "Inv y shape : (17520, 36)\n",
      "y pred shape : (17520, 1)\n",
      "inv y pred : (17520, 36)\n",
      "Run 3 Mean Absolute Error: 29.858452972625024\n",
      "RMSE: 38.578\n",
      "R^2: 0.999\n",
      "[['node_19_demand', 'node_20_pressure', 'link_6_flow', 'node_17_pressure', 'node_14_pressure', 'node_5_pressure', 'node_18_demand', 'node_16_pressure', 'link_30_flow', 'node_27_pressure', 'node_16_demand', 'link_31_flow', 'link_18_flow', 'link_32_flow', 'node_22_pressure', 'node_4_pressure', 'node_2_demand', 'link_21_flow', 'link_9_flow', 'link_25_flow', 'node_26_demand', 'link_19_flow', 'node_6_pressure', 'node_31_demand', 'node_22_demand', 'link_3_flow', 'node_20_demand', 'link_12_flow', 'node_29_demand', 'node_9_pressure', 'link_15_flow', 'link_22_flow', 'link_8_flow', 'node_21_demand', 'node_31_pressure', 'link_27_flow', 'node_12_pressure', 'link_11_flow', 'node_1_demand', 'node_7_demand', 'node_10_pressure', 'node_27_demand', 'link_7_flow', 'node_23_demand', 'node_24_pressure', 'node_21_pressure', 'node_13_demand', 'node_15_demand', 'reservoir_demand', 'link_29_flow', 'node_1_pressure', 'node_5_demand', 'link_23_flow', 'node_30_demand', 'node_26_pressure', 'link_26_flow', 'node_4_demand', 'node_9_demand', 'node_24_demand']]\n",
      "starting df shape: (87600, 37)\n",
      "This is training run 4 and has the shape:  (87600, 37)\n",
      "The value of dropped columns is 60\n"
     ]
    },
    {
     "name": "stderr",
     "output_type": "stream",
     "text": [
      "/Users/alexellard/opt/anaconda3/lib/python3.7/site-packages/xgboost/data.py:96: UserWarning: Use subset (sliced data) of np.ndarray is not recommended because it will generate extra copies and increase memory consumption\n",
      "  \"because it will generate extra copies and increase \" +\n"
     ]
    },
    {
     "name": "stdout",
     "output_type": "stream",
     "text": [
      "test y shape : (17520, 1)\n",
      "Inv y shape : (17520, 37)\n",
      "y pred shape : (17520, 1)\n",
      "inv y pred : (17520, 37)\n",
      "Run 4 Mean Absolute Error: 0.5572622821697104\n",
      "RMSE: 0.725\n",
      "R^2: 0.997\n",
      "[['node_1_demand', 'link_8_flow', 'node_23_demand', 'node_14_pressure', 'link_20_flow', 'node_22_demand', 'node_2_pressure', 'link_10_flow', 'node_13_pressure', 'link_5_flow', 'link_22_flow', 'node_23_pressure', 'node_28_demand', 'link_4_flow', 'node_7_demand', 'link_3_flow', 'node_19_demand', 'node_3_demand', 'node_12_pressure', 'node_21_demand', 'node_24_demand', 'node_17_demand', 'link_1_flow', 'node_31_demand', 'node_31_pressure', 'link_30_flow', 'node_25_demand', 'reservoir_pressure', 'node_7_pressure', 'link_18_flow', 'link_23_flow', 'reservoir_demand', 'node_8_pressure', 'node_10_demand', 'node_2_demand', 'node_15_demand', 'link_26_flow', 'node_10_pressure', 'node_30_pressure', 'node_20_pressure', 'link_7_flow', 'link_31_flow', 'link_25_flow', 'link_17_flow', 'node_5_demand', 'node_15_pressure', 'node_30_demand', 'node_11_pressure', 'link_27_flow', 'link_12_flow', 'link_24_flow', 'link_2_flow', 'node_27_demand', 'node_12_demand', 'node_26_pressure', 'link_11_flow', 'node_18_demand', 'node_18_pressure', 'link_14_flow', 'node_4_demand']]\n",
      "starting df shape: (87600, 36)\n",
      "This is training run 5 and has the shape:  (87600, 36)\n",
      "The value of dropped columns is 60\n"
     ]
    },
    {
     "name": "stderr",
     "output_type": "stream",
     "text": [
      "/Users/alexellard/opt/anaconda3/lib/python3.7/site-packages/xgboost/data.py:96: UserWarning: Use subset (sliced data) of np.ndarray is not recommended because it will generate extra copies and increase memory consumption\n",
      "  \"because it will generate extra copies and increase \" +\n"
     ]
    },
    {
     "name": "stdout",
     "output_type": "stream",
     "text": [
      "test y shape : (17520, 1)\n",
      "Inv y shape : (17520, 36)\n",
      "y pred shape : (17520, 1)\n",
      "inv y pred : (17520, 36)\n",
      "Run 5 Mean Absolute Error: 3.0399807155632357\n",
      "RMSE: 3.895\n",
      "R^2: 0.999\n",
      "[['node_3_demand', 'node_25_pressure', 'node_20_pressure', 'link_31_flow', 'node_17_demand', 'link_27_flow', 'node_4_pressure', 'node_18_demand', 'node_15_pressure', 'link_7_flow', 'node_13_demand', 'node_17_pressure', 'node_27_demand', 'node_16_demand', 'reservoir_pressure', 'node_11_pressure', 'link_29_flow', 'node_28_demand', 'link_17_flow', 'node_7_demand', 'node_23_demand', 'node_21_demand', 'link_11_flow', 'node_23_pressure', 'node_9_demand', 'node_22_pressure', 'node_14_demand', 'node_19_pressure', 'link_6_flow', 'link_9_flow', 'link_15_flow', 'node_29_demand', 'node_7_pressure', 'link_10_flow', 'link_21_flow', 'node_27_pressure', 'link_20_flow', 'link_32_flow', 'node_19_demand', 'node_8_demand', 'link_19_flow', 'link_14_flow', 'reservoir_demand', 'node_15_demand', 'node_13_pressure', 'node_5_demand', 'node_8_pressure', 'node_25_demand', 'node_26_pressure', 'node_22_demand', 'node_10_demand', 'node_1_demand', 'node_26_demand', 'node_12_demand', 'node_14_pressure', 'node_5_pressure', 'link_3_flow', 'node_31_demand', 'node_28_pressure']]\n",
      "starting df shape: (87600, 37)\n",
      "This is training run 6 and has the shape:  (87600, 37)\n",
      "The value of dropped columns is 60\n"
     ]
    },
    {
     "name": "stderr",
     "output_type": "stream",
     "text": [
      "/Users/alexellard/opt/anaconda3/lib/python3.7/site-packages/xgboost/data.py:96: UserWarning: Use subset (sliced data) of np.ndarray is not recommended because it will generate extra copies and increase memory consumption\n",
      "  \"because it will generate extra copies and increase \" +\n"
     ]
    },
    {
     "name": "stdout",
     "output_type": "stream",
     "text": [
      "test y shape : (17520, 1)\n",
      "Inv y shape : (17520, 37)\n",
      "y pred shape : (17520, 1)\n",
      "inv y pred : (17520, 37)\n",
      "Run 6 Mean Absolute Error: 4.4846428062247865\n",
      "RMSE: 5.906\n",
      "R^2: 0.995\n",
      "[['link_31_flow', 'node_25_pressure', 'node_13_pressure', 'node_29_demand', 'link_3_flow', 'node_31_demand', 'link_29_flow', 'node_12_pressure', 'node_10_pressure', 'node_25_demand', 'node_1_demand', 'link_17_flow', 'node_17_demand', 'node_20_demand', 'node_1_pressure', 'node_14_pressure', 'link_22_flow', 'node_4_demand', 'link_12_flow', 'node_21_pressure', 'node_14_demand', 'node_28_pressure', 'node_3_demand', 'node_15_pressure', 'node_7_demand', 'node_6_demand', 'link_19_flow', 'node_21_demand', 'node_24_pressure', 'node_11_demand', 'link_15_flow', 'node_11_pressure', 'link_10_flow', 'node_19_pressure', 'node_20_pressure', 'link_2_flow', 'link_24_flow', 'node_9_pressure', 'node_7_pressure', 'link_21_flow', 'node_2_pressure', 'node_5_pressure', 'link_13_flow', 'node_24_demand', 'node_30_pressure', 'link_18_flow', 'link_1_flow', 'node_8_pressure', 'node_30_demand', 'reservoir_demand', 'link_25_flow', 'node_3_pressure', 'node_9_demand', 'node_28_demand', 'node_23_demand', 'link_5_flow', 'link_32_flow', 'link_6_flow', 'node_15_demand', 'node_23_pressure']]\n",
      "starting df shape: (87600, 36)\n",
      "This is training run 7 and has the shape:  (87600, 36)\n",
      "The value of dropped columns is 60\n"
     ]
    },
    {
     "name": "stderr",
     "output_type": "stream",
     "text": [
      "/Users/alexellard/opt/anaconda3/lib/python3.7/site-packages/xgboost/data.py:96: UserWarning: Use subset (sliced data) of np.ndarray is not recommended because it will generate extra copies and increase memory consumption\n",
      "  \"because it will generate extra copies and increase \" +\n"
     ]
    },
    {
     "name": "stdout",
     "output_type": "stream",
     "text": [
      "test y shape : (17520, 1)\n",
      "Inv y shape : (17520, 36)\n",
      "y pred shape : (17520, 1)\n",
      "inv y pred : (17520, 36)\n",
      "Run 7 Mean Absolute Error: 2.1397574662838825\n",
      "RMSE: 2.762\n",
      "R^2: 0.999\n",
      "[['node_22_demand', 'link_19_flow', 'link_30_flow', 'node_28_demand', 'node_7_demand', 'link_6_flow', 'node_8_demand', 'link_18_flow', 'node_6_demand', 'node_20_demand', 'node_10_demand', 'link_32_flow', 'link_17_flow', 'node_6_pressure', 'node_5_pressure', 'link_25_flow', 'node_15_pressure', 'node_29_pressure', 'node_18_pressure', 'reservoir_pressure', 'node_14_pressure', 'node_26_pressure', 'link_20_flow', 'link_3_flow', 'node_22_pressure', 'node_19_demand', 'link_27_flow', 'node_21_demand', 'link_26_flow', 'node_10_pressure', 'node_28_pressure', 'link_22_flow', 'node_12_demand', 'node_23_pressure', 'node_4_demand', 'node_25_demand', 'node_5_demand', 'node_31_demand', 'node_13_pressure', 'link_1_flow', 'node_27_demand', 'node_21_pressure', 'node_19_pressure', 'node_30_demand', 'node_25_pressure', 'node_9_demand', 'node_1_demand', 'node_27_pressure', 'node_26_demand', 'link_28_flow', 'node_24_demand', 'node_3_demand', 'node_17_demand', 'node_23_demand', 'link_11_flow', 'node_1_pressure', 'link_5_flow', 'link_14_flow', 'node_14_demand', 'node_17_pressure']]\n",
      "starting df shape: (87600, 36)\n",
      "This is training run 8 and has the shape:  (87600, 36)\n",
      "The value of dropped columns is 60\n"
     ]
    },
    {
     "name": "stderr",
     "output_type": "stream",
     "text": [
      "/Users/alexellard/opt/anaconda3/lib/python3.7/site-packages/xgboost/data.py:96: UserWarning: Use subset (sliced data) of np.ndarray is not recommended because it will generate extra copies and increase memory consumption\n",
      "  \"because it will generate extra copies and increase \" +\n"
     ]
    },
    {
     "name": "stdout",
     "output_type": "stream",
     "text": [
      "test y shape : (17520, 1)\n",
      "Inv y shape : (17520, 36)\n",
      "y pred shape : (17520, 1)\n",
      "inv y pred : (17520, 36)\n",
      "Run 8 Mean Absolute Error: 32.61309301139174\n",
      "RMSE: 41.929\n",
      "R^2: 0.999\n",
      "[['link_25_flow', 'node_31_demand', 'node_12_demand', 'node_30_pressure', 'node_6_pressure', 'node_26_demand', 'reservoir_pressure', 'link_3_flow', 'node_20_pressure', 'link_17_flow', 'link_29_flow', 'link_20_flow', 'node_25_demand', 'node_19_pressure', 'node_1_demand', 'node_15_pressure', 'node_19_demand', 'node_14_demand', 'node_30_demand', 'link_5_flow', 'node_1_pressure', 'node_26_pressure', 'node_28_demand', 'link_13_flow', 'node_8_pressure', 'node_16_pressure', 'reservoir_demand', 'node_10_demand', 'link_9_flow', 'node_29_pressure', 'link_21_flow', 'node_28_pressure', 'node_23_demand', 'node_10_pressure', 'link_2_flow', 'node_29_demand', 'node_11_demand', 'node_20_demand', 'link_19_flow', 'node_23_pressure', 'node_17_demand', 'node_21_demand', 'link_24_flow', 'node_7_pressure', 'node_22_demand', 'node_4_pressure', 'node_31_pressure', 'node_4_demand', 'link_23_flow', 'node_5_demand', 'link_8_flow', 'node_11_pressure', 'node_13_pressure', 'node_18_pressure', 'link_10_flow', 'node_27_pressure', 'node_13_demand', 'node_5_pressure', 'node_9_pressure']]\n",
      "starting df shape: (87600, 37)\n",
      "This is training run 9 and has the shape:  (87600, 37)\n",
      "The value of dropped columns is 60\n"
     ]
    },
    {
     "name": "stderr",
     "output_type": "stream",
     "text": [
      "/Users/alexellard/opt/anaconda3/lib/python3.7/site-packages/xgboost/data.py:96: UserWarning: Use subset (sliced data) of np.ndarray is not recommended because it will generate extra copies and increase memory consumption\n",
      "  \"because it will generate extra copies and increase \" +\n"
     ]
    },
    {
     "name": "stdout",
     "output_type": "stream",
     "text": [
      "test y shape : (17520, 1)\n",
      "Inv y shape : (17520, 37)\n",
      "y pred shape : (17520, 1)\n",
      "inv y pred : (17520, 37)\n",
      "Run 9 Mean Absolute Error: 1.7132578243153969\n",
      "RMSE: 2.207\n",
      "R^2: 0.999\n",
      "[['link_12_flow', 'node_24_demand', 'link_5_flow', 'link_26_flow', 'node_29_pressure', 'link_27_flow', 'node_5_demand', 'node_3_demand', 'link_8_flow', 'node_27_pressure', 'link_9_flow', 'link_7_flow', 'node_6_pressure', 'node_30_pressure', 'node_5_pressure', 'node_20_demand', 'reservoir_pressure', 'link_23_flow', 'link_31_flow', 'link_21_flow', 'node_18_pressure', 'node_1_pressure', 'node_19_pressure', 'node_10_demand', 'link_19_flow', 'node_4_demand', 'node_17_pressure', 'node_21_pressure', 'node_13_pressure', 'node_23_demand', 'link_24_flow', 'node_8_pressure', 'node_10_pressure', 'node_21_demand', 'node_7_pressure', 'node_17_demand', 'node_20_pressure', 'node_25_pressure', 'node_3_pressure', 'node_12_pressure', 'node_26_demand', 'link_18_flow', 'link_4_flow', 'link_6_flow', 'node_2_pressure', 'node_22_pressure', 'node_12_demand', 'node_14_demand', 'link_3_flow', 'node_22_demand', 'node_4_pressure', 'node_6_demand', 'link_13_flow', 'link_14_flow', 'node_7_demand', 'node_16_demand', 'node_25_demand', 'node_15_demand', 'link_32_flow']]\n",
      "starting df shape: (87600, 37)\n",
      "This is training run 10 and has the shape:  (87600, 37)\n",
      "The value of dropped columns is 60\n"
     ]
    },
    {
     "name": "stderr",
     "output_type": "stream",
     "text": [
      "/Users/alexellard/opt/anaconda3/lib/python3.7/site-packages/xgboost/data.py:96: UserWarning: Use subset (sliced data) of np.ndarray is not recommended because it will generate extra copies and increase memory consumption\n",
      "  \"because it will generate extra copies and increase \" +\n"
     ]
    },
    {
     "name": "stdout",
     "output_type": "stream",
     "text": [
      "test y shape : (17520, 1)\n",
      "Inv y shape : (17520, 37)\n",
      "y pred shape : (17520, 1)\n",
      "inv y pred : (17520, 37)\n",
      "Run 10 Mean Absolute Error: 80.1839255129049\n",
      "RMSE: 104.802\n",
      "R^2: 0.996\n",
      "[['node_3_pressure', 'link_4_flow', 'node_28_demand', 'link_9_flow', 'node_14_demand', 'node_29_pressure', 'node_23_demand', 'node_6_demand', 'link_18_flow', 'link_19_flow', 'node_24_pressure', 'node_26_pressure', 'node_12_pressure', 'link_7_flow', 'node_11_pressure', 'link_23_flow', 'node_13_demand', 'node_20_demand', 'node_17_pressure', 'node_9_pressure', 'link_27_flow', 'node_3_demand', 'node_23_pressure', 'node_2_pressure', 'node_20_pressure', 'node_16_pressure', 'node_21_pressure', 'node_26_demand', 'node_1_demand', 'node_4_pressure', 'node_19_demand', 'node_31_demand', 'link_11_flow', 'node_24_demand', 'node_19_pressure', 'node_14_pressure', 'link_30_flow', 'node_22_demand', 'reservoir_demand', 'node_11_demand', 'link_28_flow', 'node_29_demand', 'link_26_flow', 'link_15_flow', 'link_24_flow', 'link_1_flow', 'link_20_flow', 'node_13_pressure', 'node_2_demand', 'node_8_pressure', 'link_10_flow', 'link_2_flow', 'node_15_demand', 'link_29_flow', 'node_28_pressure', 'link_12_flow', 'node_8_demand', 'node_25_pressure', 'link_31_flow', 'node_10_pressure', 'node_21_demand', 'node_6_pressure', 'node_7_demand', 'link_22_flow']]\n",
      "starting df shape: (87600, 32)\n",
      "This is training run 1 and has the shape:  (87600, 32)\n",
      "The value of dropped columns is 65\n"
     ]
    },
    {
     "name": "stderr",
     "output_type": "stream",
     "text": [
      "/Users/alexellard/opt/anaconda3/lib/python3.7/site-packages/xgboost/data.py:96: UserWarning: Use subset (sliced data) of np.ndarray is not recommended because it will generate extra copies and increase memory consumption\n",
      "  \"because it will generate extra copies and increase \" +\n"
     ]
    },
    {
     "name": "stdout",
     "output_type": "stream",
     "text": [
      "test y shape : (17520, 1)\n",
      "Inv y shape : (17520, 32)\n",
      "y pred shape : (17520, 1)\n",
      "inv y pred : (17520, 32)\n",
      "Run 1 Mean Absolute Error: 1.4465685982206666\n",
      "RMSE: 1.868\n",
      "R^2: 0.999\n",
      "[['link_3_flow', 'node_26_pressure', 'link_18_flow', 'node_12_demand', 'link_5_flow', 'node_12_pressure', 'node_14_demand', 'node_22_pressure', 'link_15_flow', 'node_16_pressure', 'link_19_flow', 'node_11_pressure', 'node_25_pressure', 'node_10_demand', 'node_11_demand', 'link_30_flow', 'link_8_flow', 'node_18_pressure', 'node_2_pressure', 'node_1_demand', 'link_7_flow', 'node_16_demand', 'node_29_demand', 'node_24_pressure', 'node_27_pressure', 'link_13_flow', 'node_20_demand', 'node_15_demand', 'node_17_demand', 'node_29_pressure', 'node_6_demand', 'node_9_demand', 'node_21_demand', 'node_21_pressure', 'link_12_flow', 'reservoir_pressure', 'node_27_demand', 'link_6_flow', 'node_9_pressure', 'node_8_pressure', 'node_8_demand', 'node_15_pressure', 'node_23_pressure', 'link_2_flow', 'link_32_flow', 'node_14_pressure', 'node_19_pressure', 'node_30_demand', 'link_25_flow', 'node_31_pressure', 'node_26_demand', 'link_26_flow', 'node_7_pressure', 'node_4_pressure', 'node_25_demand', 'node_13_demand', 'link_21_flow', 'node_24_demand', 'node_2_demand', 'node_22_demand', 'reservoir_demand', 'link_10_flow', 'node_10_pressure', 'node_30_pressure']]\n",
      "starting df shape: (87600, 32)\n",
      "This is training run 2 and has the shape:  (87600, 32)\n",
      "The value of dropped columns is 65\n"
     ]
    },
    {
     "name": "stderr",
     "output_type": "stream",
     "text": [
      "/Users/alexellard/opt/anaconda3/lib/python3.7/site-packages/xgboost/data.py:96: UserWarning: Use subset (sliced data) of np.ndarray is not recommended because it will generate extra copies and increase memory consumption\n",
      "  \"because it will generate extra copies and increase \" +\n"
     ]
    },
    {
     "name": "stdout",
     "output_type": "stream",
     "text": [
      "test y shape : (17520, 1)\n",
      "Inv y shape : (17520, 32)\n",
      "y pred shape : (17520, 1)\n",
      "inv y pred : (17520, 32)\n",
      "Run 2 Mean Absolute Error: 0.8105871565200361\n",
      "RMSE: 1.062\n",
      "R^2: 0.994\n",
      "[['link_23_flow', 'node_18_pressure', 'link_12_flow', 'reservoir_pressure', 'node_28_demand', 'node_8_pressure', 'node_7_demand', 'node_14_demand', 'link_4_flow', 'link_5_flow', 'link_2_flow', 'node_16_demand', 'node_7_pressure', 'node_6_pressure', 'node_21_pressure', 'node_26_pressure', 'node_4_pressure', 'node_26_demand', 'node_8_demand', 'node_20_pressure', 'node_15_pressure', 'node_3_pressure', 'node_25_demand', 'link_24_flow', 'link_22_flow', 'node_29_pressure', 'link_20_flow', 'node_9_pressure', 'node_23_pressure', 'node_11_demand', 'node_2_pressure', 'reservoir_demand', 'node_6_demand', 'node_29_demand', 'link_18_flow', 'node_20_demand', 'node_9_demand', 'link_25_flow', 'link_32_flow', 'link_27_flow', 'node_22_demand', 'link_1_flow', 'node_10_demand', 'node_16_pressure', 'link_11_flow', 'link_19_flow', 'link_30_flow', 'node_5_demand', 'link_8_flow', 'node_10_pressure', 'node_17_pressure', 'node_28_pressure', 'node_25_pressure', 'node_31_pressure', 'node_1_demand', 'node_11_pressure', 'node_15_demand', 'link_26_flow', 'node_19_demand', 'node_12_pressure', 'node_31_demand', 'link_9_flow', 'node_13_demand', 'node_13_pressure']]\n",
      "starting df shape: (87600, 32)\n",
      "This is training run 3 and has the shape:  (87600, 32)\n",
      "The value of dropped columns is 65\n"
     ]
    },
    {
     "name": "stderr",
     "output_type": "stream",
     "text": [
      "/Users/alexellard/opt/anaconda3/lib/python3.7/site-packages/xgboost/data.py:96: UserWarning: Use subset (sliced data) of np.ndarray is not recommended because it will generate extra copies and increase memory consumption\n",
      "  \"because it will generate extra copies and increase \" +\n"
     ]
    },
    {
     "name": "stdout",
     "output_type": "stream",
     "text": [
      "test y shape : (17520, 1)\n",
      "Inv y shape : (17520, 32)\n",
      "y pred shape : (17520, 1)\n",
      "inv y pred : (17520, 32)\n",
      "Run 3 Mean Absolute Error: 3.1177805754439487\n",
      "RMSE: 4.069\n",
      "R^2: 0.998\n",
      "[['node_20_demand', 'link_3_flow', 'node_17_demand', 'node_19_pressure', 'node_16_demand', 'link_29_flow', 'node_4_demand', 'node_4_pressure', 'link_27_flow', 'link_14_flow', 'node_29_demand', 'node_15_pressure', 'link_32_flow', 'node_14_demand', 'node_1_demand', 'link_24_flow', 'reservoir_pressure', 'node_19_demand', 'link_15_flow', 'node_26_demand', 'node_12_demand', 'link_18_flow', 'node_22_pressure', 'link_7_flow', 'link_23_flow', 'node_11_pressure', 'node_21_pressure', 'node_13_demand', 'node_14_pressure', 'link_26_flow', 'node_16_pressure', 'node_2_pressure', 'node_18_pressure', 'node_10_pressure', 'node_13_pressure', 'node_23_pressure', 'link_12_flow', 'node_22_demand', 'node_27_pressure', 'node_31_pressure', 'link_19_flow', 'node_28_demand', 'link_22_flow', 'node_9_demand', 'node_29_pressure', 'node_7_demand', 'node_26_pressure', 'link_21_flow', 'node_23_demand', 'link_8_flow', 'node_3_pressure', 'link_28_flow', 'link_30_flow', 'node_17_pressure', 'node_25_demand', 'node_7_pressure', 'node_24_pressure', 'node_6_demand', 'node_27_demand', 'node_11_demand', 'node_2_demand', 'node_8_pressure', 'link_5_flow', 'reservoir_demand']]\n",
      "starting df shape: (87600, 32)\n",
      "This is training run 4 and has the shape:  (87600, 32)\n",
      "The value of dropped columns is 65\n"
     ]
    },
    {
     "name": "stderr",
     "output_type": "stream",
     "text": [
      "/Users/alexellard/opt/anaconda3/lib/python3.7/site-packages/xgboost/data.py:96: UserWarning: Use subset (sliced data) of np.ndarray is not recommended because it will generate extra copies and increase memory consumption\n",
      "  \"because it will generate extra copies and increase \" +\n"
     ]
    },
    {
     "name": "stdout",
     "output_type": "stream",
     "text": [
      "test y shape : (17520, 1)\n",
      "Inv y shape : (17520, 32)\n",
      "y pred shape : (17520, 1)\n",
      "inv y pred : (17520, 32)\n",
      "Run 4 Mean Absolute Error: 0.789078690448444\n",
      "RMSE: 1.036\n",
      "R^2: 0.995\n",
      "[['node_7_pressure', 'node_11_demand', 'node_6_pressure', 'node_11_pressure', 'node_16_demand', 'link_15_flow', 'link_13_flow', 'link_17_flow', 'node_15_demand', 'node_24_pressure', 'node_31_pressure', 'link_32_flow', 'node_15_pressure', 'node_10_demand', 'node_31_demand', 'node_26_demand', 'node_5_demand', 'link_19_flow', 'node_8_demand', 'node_13_pressure', 'node_30_pressure', 'node_19_demand', 'node_5_pressure', 'node_29_demand', 'node_27_demand', 'link_14_flow', 'link_4_flow', 'node_22_pressure', 'link_29_flow', 'node_14_pressure', 'node_26_pressure', 'link_12_flow', 'node_25_pressure', 'node_2_pressure', 'link_7_flow', 'node_2_demand', 'node_16_pressure', 'node_25_demand', 'link_22_flow', 'link_2_flow', 'node_1_pressure', 'node_23_pressure', 'link_26_flow', 'node_20_pressure', 'node_6_demand', 'node_9_pressure', 'node_12_pressure', 'node_18_demand', 'link_27_flow', 'link_8_flow', 'node_4_demand', 'node_8_pressure', 'link_6_flow', 'link_9_flow', 'node_13_demand', 'node_30_demand', 'node_23_demand', 'link_11_flow', 'link_10_flow', 'link_28_flow', 'reservoir_pressure', 'link_25_flow', 'node_19_pressure', 'node_17_pressure']]\n",
      "starting df shape: (87600, 32)\n",
      "This is training run 5 and has the shape:  (87600, 32)\n",
      "The value of dropped columns is 65\n"
     ]
    },
    {
     "name": "stderr",
     "output_type": "stream",
     "text": [
      "/Users/alexellard/opt/anaconda3/lib/python3.7/site-packages/xgboost/data.py:96: UserWarning: Use subset (sliced data) of np.ndarray is not recommended because it will generate extra copies and increase memory consumption\n",
      "  \"because it will generate extra copies and increase \" +\n"
     ]
    },
    {
     "name": "stdout",
     "output_type": "stream",
     "text": [
      "test y shape : (17520, 1)\n",
      "Inv y shape : (17520, 32)\n",
      "y pred shape : (17520, 1)\n",
      "inv y pred : (17520, 32)\n",
      "Run 5 Mean Absolute Error: 65.94958641939819\n",
      "RMSE: 85.567\n",
      "R^2: 0.997\n",
      "[['node_29_pressure', 'node_31_demand', 'node_25_demand', 'node_29_demand', 'link_4_flow', 'link_24_flow', 'link_20_flow', 'node_24_pressure', 'link_15_flow', 'link_10_flow', 'node_19_demand', 'link_17_flow', 'link_21_flow', 'node_14_demand', 'link_8_flow', 'node_30_demand', 'node_18_demand', 'link_13_flow', 'node_11_demand', 'node_12_demand', 'node_1_demand', 'node_5_pressure', 'link_14_flow', 'node_12_pressure', 'link_3_flow', 'link_28_flow', 'reservoir_demand', 'node_5_demand', 'node_26_pressure', 'link_7_flow', 'link_19_flow', 'node_31_pressure', 'node_17_pressure', 'node_16_demand', 'link_5_flow', 'node_20_pressure', 'node_8_demand', 'node_7_pressure', 'node_22_pressure', 'reservoir_pressure', 'node_20_demand', 'node_26_demand', 'node_22_demand', 'link_26_flow', 'link_23_flow', 'link_11_flow', 'node_4_pressure', 'node_13_pressure', 'node_11_pressure', 'node_3_pressure', 'node_24_demand', 'node_28_demand', 'link_12_flow', 'node_23_demand', 'link_29_flow', 'node_7_demand', 'link_6_flow', 'node_23_pressure', 'link_22_flow', 'node_10_demand', 'node_15_pressure', 'node_21_demand', 'link_9_flow', 'node_21_pressure']]\n",
      "starting df shape: (87600, 32)\n",
      "This is training run 6 and has the shape:  (87600, 32)\n",
      "The value of dropped columns is 65\n"
     ]
    },
    {
     "name": "stderr",
     "output_type": "stream",
     "text": [
      "/Users/alexellard/opt/anaconda3/lib/python3.7/site-packages/xgboost/data.py:96: UserWarning: Use subset (sliced data) of np.ndarray is not recommended because it will generate extra copies and increase memory consumption\n",
      "  \"because it will generate extra copies and increase \" +\n"
     ]
    },
    {
     "name": "stdout",
     "output_type": "stream",
     "text": [
      "test y shape : (17520, 1)\n",
      "Inv y shape : (17520, 32)\n",
      "y pred shape : (17520, 1)\n",
      "inv y pred : (17520, 32)\n",
      "Run 6 Mean Absolute Error: 3.4313789541552615\n",
      "RMSE: 4.464\n",
      "R^2: 0.997\n",
      "[['node_30_pressure', 'node_23_demand', 'node_6_demand', 'node_18_demand', 'link_5_flow', 'node_21_demand', 'node_28_pressure', 'node_17_pressure', 'node_11_pressure', 'node_24_demand', 'link_31_flow', 'node_8_pressure', 'link_19_flow', 'node_3_pressure', 'node_8_demand', 'node_16_demand', 'link_32_flow', 'link_29_flow', 'link_23_flow', 'node_9_pressure', 'node_26_demand', 'node_24_pressure', 'link_6_flow', 'node_13_pressure', 'link_24_flow', 'node_28_demand', 'node_12_demand', 'link_9_flow', 'node_19_demand', 'reservoir_demand', 'node_3_demand', 'node_19_pressure', 'link_14_flow', 'node_2_demand', 'link_11_flow', 'node_18_pressure', 'node_23_pressure', 'node_14_demand', 'node_10_demand', 'link_25_flow', 'node_4_demand', 'reservoir_pressure', 'node_7_pressure', 'node_31_demand', 'node_22_demand', 'link_20_flow', 'node_12_pressure', 'node_14_pressure', 'link_22_flow', 'link_10_flow', 'node_16_pressure', 'link_18_flow', 'node_21_pressure', 'node_2_pressure', 'node_20_demand', 'node_7_demand', 'link_27_flow', 'node_10_pressure', 'node_25_demand', 'node_31_pressure', 'node_20_pressure', 'node_29_demand', 'node_15_pressure', 'node_1_pressure']]\n",
      "starting df shape: (87600, 32)\n",
      "This is training run 7 and has the shape:  (87600, 32)\n",
      "The value of dropped columns is 65\n"
     ]
    },
    {
     "name": "stderr",
     "output_type": "stream",
     "text": [
      "/Users/alexellard/opt/anaconda3/lib/python3.7/site-packages/xgboost/data.py:96: UserWarning: Use subset (sliced data) of np.ndarray is not recommended because it will generate extra copies and increase memory consumption\n",
      "  \"because it will generate extra copies and increase \" +\n"
     ]
    },
    {
     "name": "stdout",
     "output_type": "stream",
     "text": [
      "test y shape : (17520, 1)\n",
      "Inv y shape : (17520, 32)\n",
      "y pred shape : (17520, 1)\n",
      "inv y pred : (17520, 32)\n",
      "Run 7 Mean Absolute Error: 3.521350284332435\n",
      "RMSE: 4.615\n",
      "R^2: 0.998\n",
      "[['node_3_demand', 'link_17_flow', 'link_28_flow', 'link_13_flow', 'link_31_flow', 'link_26_flow', 'node_29_pressure', 'node_11_demand', 'link_23_flow', 'link_9_flow', 'node_13_pressure', 'reservoir_pressure', 'node_1_demand', 'link_24_flow', 'node_15_pressure', 'node_30_demand', 'node_13_demand', 'link_15_flow', 'node_28_demand', 'link_6_flow', 'node_9_demand', 'link_3_flow', 'node_18_demand', 'link_27_flow', 'node_14_demand', 'link_1_flow', 'node_19_pressure', 'node_21_demand', 'node_26_demand', 'link_19_flow', 'node_31_demand', 'link_25_flow', 'node_30_pressure', 'node_31_pressure', 'node_10_pressure', 'node_28_pressure', 'node_4_pressure', 'node_12_demand', 'link_8_flow', 'node_22_demand', 'link_30_flow', 'node_6_pressure', 'node_4_demand', 'node_17_pressure', 'node_9_pressure', 'node_27_pressure', 'link_29_flow', 'node_16_demand', 'node_5_demand', 'node_12_pressure', 'node_20_pressure', 'node_26_pressure', 'node_25_pressure', 'node_8_demand', 'node_11_pressure', 'node_7_pressure', 'node_22_pressure', 'link_5_flow', 'node_25_demand', 'node_2_demand', 'node_15_demand', 'node_21_pressure', 'node_17_demand', 'node_27_demand']]\n",
      "starting df shape: (87600, 32)\n",
      "This is training run 8 and has the shape:  (87600, 32)\n",
      "The value of dropped columns is 65\n"
     ]
    },
    {
     "name": "stderr",
     "output_type": "stream",
     "text": [
      "/Users/alexellard/opt/anaconda3/lib/python3.7/site-packages/xgboost/data.py:96: UserWarning: Use subset (sliced data) of np.ndarray is not recommended because it will generate extra copies and increase memory consumption\n",
      "  \"because it will generate extra copies and increase \" +\n"
     ]
    },
    {
     "name": "stdout",
     "output_type": "stream",
     "text": [
      "test y shape : (17520, 1)\n",
      "Inv y shape : (17520, 32)\n",
      "y pred shape : (17520, 1)\n",
      "inv y pred : (17520, 32)\n",
      "Run 8 Mean Absolute Error: 84.90794627786413\n",
      "RMSE: 111.483\n",
      "R^2: 0.995\n",
      "[['node_16_pressure', 'link_26_flow', 'node_14_demand', 'link_19_flow', 'node_28_pressure', 'node_6_pressure', 'node_9_demand', 'node_15_pressure', 'link_17_flow', 'link_8_flow', 'node_17_pressure', 'link_22_flow', 'link_24_flow', 'link_25_flow', 'node_3_demand', 'node_8_demand', 'node_14_pressure', 'node_20_pressure', 'node_31_demand', 'link_4_flow', 'node_30_demand', 'node_3_pressure', 'node_19_pressure', 'node_26_pressure', 'node_8_pressure', 'link_18_flow', 'node_31_pressure', 'node_7_demand', 'node_5_demand', 'link_30_flow', 'node_1_pressure', 'node_18_pressure', 'node_25_pressure', 'node_6_demand', 'node_20_demand', 'link_23_flow', 'node_24_demand', 'node_2_pressure', 'node_27_demand', 'link_15_flow', 'node_23_demand', 'node_10_pressure', 'node_23_pressure', 'link_2_flow', 'node_2_demand', 'node_5_pressure', 'link_29_flow', 'node_12_demand', 'link_31_flow', 'node_13_pressure', 'link_13_flow', 'node_27_pressure', 'reservoir_demand', 'node_29_demand', 'link_28_flow', 'node_28_demand', 'link_6_flow', 'node_15_demand', 'link_21_flow', 'node_9_pressure', 'node_11_pressure', 'node_12_pressure', 'link_12_flow', 'link_32_flow', 'node_13_demand']]\n",
      "starting df shape: (87600, 31)\n",
      "This is training run 9 and has the shape:  (87600, 31)\n",
      "The value of dropped columns is 65\n"
     ]
    },
    {
     "name": "stderr",
     "output_type": "stream",
     "text": [
      "/Users/alexellard/opt/anaconda3/lib/python3.7/site-packages/xgboost/data.py:96: UserWarning: Use subset (sliced data) of np.ndarray is not recommended because it will generate extra copies and increase memory consumption\n",
      "  \"because it will generate extra copies and increase \" +\n"
     ]
    },
    {
     "name": "stdout",
     "output_type": "stream",
     "text": [
      "test y shape : (17520, 1)\n",
      "Inv y shape : (17520, 31)\n",
      "y pred shape : (17520, 1)\n",
      "inv y pred : (17520, 31)\n",
      "Run 9 Mean Absolute Error: 2.0002999811253854\n",
      "RMSE: 2.569\n",
      "R^2: 0.999\n",
      "[['node_31_pressure', 'node_15_demand', 'node_12_pressure', 'link_23_flow', 'node_30_demand', 'link_14_flow', 'node_2_demand', 'node_3_pressure', 'node_9_pressure', 'node_5_pressure', 'link_1_flow', 'link_27_flow', 'node_8_demand', 'link_32_flow', 'link_31_flow', 'node_19_pressure', 'link_11_flow', 'link_12_flow', 'node_4_pressure', 'node_22_pressure', 'link_15_flow', 'node_1_demand', 'reservoir_pressure', 'node_27_pressure', 'node_25_demand', 'node_31_demand', 'link_25_flow', 'link_9_flow', 'node_4_demand', 'node_3_demand', 'node_21_pressure', 'node_19_demand', 'node_7_demand', 'node_20_demand', 'link_22_flow', 'node_24_pressure', 'node_7_pressure', 'link_20_flow', 'link_19_flow', 'link_4_flow', 'node_8_pressure', 'node_11_demand', 'node_14_pressure', 'node_26_demand', 'node_21_demand', 'link_7_flow', 'link_30_flow', 'node_18_pressure', 'node_10_pressure', 'node_26_pressure', 'node_14_demand', 'node_6_pressure', 'node_20_pressure', 'link_24_flow', 'link_6_flow', 'node_25_pressure', 'node_29_demand', 'node_1_pressure', 'node_16_demand', 'link_17_flow', 'node_30_pressure', 'node_2_pressure', 'node_10_demand', 'link_26_flow']]\n",
      "starting df shape: (87600, 32)\n",
      "This is training run 10 and has the shape:  (87600, 32)\n",
      "The value of dropped columns is 65\n"
     ]
    },
    {
     "name": "stderr",
     "output_type": "stream",
     "text": [
      "/Users/alexellard/opt/anaconda3/lib/python3.7/site-packages/xgboost/data.py:96: UserWarning: Use subset (sliced data) of np.ndarray is not recommended because it will generate extra copies and increase memory consumption\n",
      "  \"because it will generate extra copies and increase \" +\n"
     ]
    },
    {
     "name": "stdout",
     "output_type": "stream",
     "text": [
      "test y shape : (17520, 1)\n",
      "Inv y shape : (17520, 32)\n",
      "y pred shape : (17520, 1)\n",
      "inv y pred : (17520, 32)\n",
      "Run 10 Mean Absolute Error: 63.037638751727044\n",
      "RMSE: 81.654\n",
      "R^2: 0.997\n",
      "[['link_3_flow', 'node_13_pressure', 'node_5_demand', 'node_5_pressure', 'node_28_pressure', 'link_7_flow', 'link_25_flow', 'link_30_flow', 'node_9_demand', 'link_8_flow', 'node_17_pressure', 'node_3_pressure', 'node_18_demand', 'link_22_flow', 'node_11_demand', 'node_31_demand', 'node_7_demand', 'node_29_pressure', 'node_1_demand', 'node_20_demand', 'node_16_pressure', 'node_12_demand', 'reservoir_pressure', 'node_26_pressure', 'node_31_pressure', 'node_27_demand', 'node_2_pressure', 'node_12_pressure', 'link_24_flow', 'node_24_pressure', 'link_5_flow', 'node_10_pressure', 'node_22_pressure', 'link_28_flow', 'node_19_pressure', 'node_18_pressure', 'link_18_flow', 'node_14_pressure', 'node_29_demand', 'node_15_pressure', 'node_6_pressure', 'node_23_demand', 'link_27_flow', 'node_6_demand', 'link_13_flow', 'link_23_flow', 'link_9_flow', 'link_19_flow', 'node_15_demand', 'link_31_flow', 'node_27_pressure', 'node_23_pressure', 'node_8_pressure', 'node_4_pressure', 'node_30_pressure', 'link_12_flow', 'node_26_demand', 'link_1_flow', 'link_21_flow', 'link_4_flow', 'node_10_demand', 'node_21_demand', 'node_9_pressure', 'node_1_pressure', 'link_2_flow', 'link_17_flow', 'link_20_flow', 'link_15_flow', 'link_11_flow']]\n",
      "starting df shape: (87600, 27)\n",
      "This is training run 1 and has the shape:  (87600, 27)\n",
      "The value of dropped columns is 70\n"
     ]
    },
    {
     "name": "stderr",
     "output_type": "stream",
     "text": [
      "/Users/alexellard/opt/anaconda3/lib/python3.7/site-packages/xgboost/data.py:96: UserWarning: Use subset (sliced data) of np.ndarray is not recommended because it will generate extra copies and increase memory consumption\n",
      "  \"because it will generate extra copies and increase \" +\n"
     ]
    },
    {
     "name": "stdout",
     "output_type": "stream",
     "text": [
      "test y shape : (17520, 1)\n",
      "Inv y shape : (17520, 27)\n",
      "y pred shape : (17520, 1)\n",
      "inv y pred : (17520, 27)\n",
      "Run 1 Mean Absolute Error: 32.15259594460671\n",
      "RMSE: 41.425\n",
      "R^2: 0.999\n",
      "[['link_21_flow', 'node_22_demand', 'node_29_pressure', 'node_5_pressure', 'node_25_pressure', 'reservoir_demand', 'node_8_pressure', 'link_20_flow', 'node_8_demand', 'node_1_demand', 'node_11_demand', 'node_21_pressure', 'node_19_demand', 'link_19_flow', 'node_26_pressure', 'node_9_pressure', 'node_30_demand', 'link_2_flow', 'node_20_pressure', 'link_25_flow', 'node_16_demand', 'node_18_pressure', 'link_10_flow', 'link_6_flow', 'node_12_demand', 'node_13_demand', 'node_7_demand', 'link_30_flow', 'link_14_flow', 'node_26_demand', 'node_24_demand', 'node_4_demand', 'link_18_flow', 'link_8_flow', 'node_31_pressure', 'node_22_pressure', 'link_22_flow', 'node_1_pressure', 'node_31_demand', 'node_23_pressure', 'node_28_pressure', 'node_20_demand', 'node_30_pressure', 'node_27_demand', 'link_5_flow', 'node_6_demand', 'node_18_demand', 'node_4_pressure', 'node_10_demand', 'reservoir_pressure', 'node_17_pressure', 'node_15_pressure', 'node_27_pressure', 'node_25_demand', 'link_12_flow', 'node_5_demand', 'node_13_pressure', 'node_19_pressure', 'node_16_pressure', 'link_28_flow', 'node_9_demand', 'node_14_demand', 'link_11_flow', 'node_24_pressure', 'link_23_flow', 'node_15_demand', 'node_11_pressure', 'link_7_flow', 'node_2_demand']]\n",
      "starting df shape: (87600, 27)\n",
      "This is training run 2 and has the shape:  (87600, 27)\n",
      "The value of dropped columns is 70\n"
     ]
    },
    {
     "name": "stderr",
     "output_type": "stream",
     "text": [
      "/Users/alexellard/opt/anaconda3/lib/python3.7/site-packages/xgboost/data.py:96: UserWarning: Use subset (sliced data) of np.ndarray is not recommended because it will generate extra copies and increase memory consumption\n",
      "  \"because it will generate extra copies and increase \" +\n"
     ]
    },
    {
     "name": "stdout",
     "output_type": "stream",
     "text": [
      "test y shape : (17520, 1)\n",
      "Inv y shape : (17520, 27)\n",
      "y pred shape : (17520, 1)\n",
      "inv y pred : (17520, 27)\n",
      "Run 2 Mean Absolute Error: 0.5317435235348419\n",
      "RMSE: 0.697\n",
      "R^2: 0.998\n",
      "[['node_10_demand', 'link_9_flow', 'link_1_flow', 'node_9_demand', 'node_3_pressure', 'node_26_demand', 'link_10_flow', 'node_18_demand', 'node_21_demand', 'node_14_pressure', 'node_7_pressure', 'node_23_pressure', 'node_12_demand', 'link_21_flow', 'link_18_flow', 'link_31_flow', 'node_8_demand', 'node_22_pressure', 'link_29_flow', 'node_24_pressure', 'node_4_demand', 'link_28_flow', 'node_1_pressure', 'node_3_demand', 'node_26_pressure', 'link_15_flow', 'node_5_pressure', 'node_22_demand', 'node_6_demand', 'node_10_pressure', 'node_30_demand', 'link_6_flow', 'node_7_demand', 'node_4_pressure', 'node_31_pressure', 'node_12_pressure', 'node_14_demand', 'link_20_flow', 'link_26_flow', 'node_23_demand', 'node_19_demand', 'link_24_flow', 'node_15_pressure', 'link_22_flow', 'link_2_flow', 'node_30_pressure', 'link_25_flow', 'node_2_demand', 'link_32_flow', 'node_13_pressure', 'node_11_demand', 'node_9_pressure', 'node_24_demand', 'node_27_pressure', 'node_28_demand', 'link_23_flow', 'node_16_pressure', 'node_20_pressure', 'link_13_flow', 'link_8_flow', 'node_5_demand', 'link_30_flow', 'node_1_demand', 'link_7_flow', 'node_19_pressure', 'node_31_demand', 'node_17_demand', 'node_13_demand', 'node_11_pressure']]\n",
      "starting df shape: (87600, 27)\n",
      "This is training run 3 and has the shape:  (87600, 27)\n",
      "The value of dropped columns is 70\n"
     ]
    },
    {
     "name": "stderr",
     "output_type": "stream",
     "text": [
      "/Users/alexellard/opt/anaconda3/lib/python3.7/site-packages/xgboost/data.py:96: UserWarning: Use subset (sliced data) of np.ndarray is not recommended because it will generate extra copies and increase memory consumption\n",
      "  \"because it will generate extra copies and increase \" +\n"
     ]
    },
    {
     "name": "stdout",
     "output_type": "stream",
     "text": [
      "test y shape : (17520, 1)\n",
      "Inv y shape : (17520, 27)\n",
      "y pred shape : (17520, 1)\n",
      "inv y pred : (17520, 27)\n",
      "Run 3 Mean Absolute Error: 33.96811014544907\n",
      "RMSE: 43.658\n",
      "R^2: 0.999\n",
      "[['reservoir_demand', 'node_10_demand', 'link_12_flow', 'link_13_flow', 'node_30_pressure', 'link_6_flow', 'link_4_flow', 'node_25_pressure', 'node_17_pressure', 'node_19_demand', 'node_4_pressure', 'node_31_pressure', 'node_8_demand', 'node_2_demand', 'link_2_flow', 'node_6_pressure', 'node_14_pressure', 'node_17_demand', 'link_30_flow', 'link_29_flow', 'node_22_demand', 'node_3_pressure', 'node_29_pressure', 'node_23_demand', 'node_18_demand', 'reservoir_pressure', 'node_30_demand', 'link_20_flow', 'node_12_pressure', 'node_13_pressure', 'node_1_pressure', 'node_12_demand', 'node_16_pressure', 'link_22_flow', 'link_28_flow', 'node_11_demand', 'link_10_flow', 'link_9_flow', 'node_20_demand', 'link_21_flow', 'node_27_demand', 'link_11_flow', 'node_18_pressure', 'link_32_flow', 'node_13_demand', 'node_9_demand', 'node_8_pressure', 'link_15_flow', 'node_23_pressure', 'node_16_demand', 'link_5_flow', 'node_14_demand', 'node_15_demand', 'node_29_demand', 'node_22_pressure', 'node_15_pressure', 'link_25_flow', 'link_26_flow', 'node_26_demand', 'node_5_demand', 'link_31_flow', 'node_1_demand', 'link_17_flow', 'link_14_flow', 'node_20_pressure', 'node_5_pressure', 'node_9_pressure', 'node_2_pressure', 'link_3_flow']]\n",
      "starting df shape: (87600, 27)\n",
      "This is training run 4 and has the shape:  (87600, 27)\n",
      "The value of dropped columns is 70\n"
     ]
    },
    {
     "name": "stderr",
     "output_type": "stream",
     "text": [
      "/Users/alexellard/opt/anaconda3/lib/python3.7/site-packages/xgboost/data.py:96: UserWarning: Use subset (sliced data) of np.ndarray is not recommended because it will generate extra copies and increase memory consumption\n",
      "  \"because it will generate extra copies and increase \" +\n"
     ]
    },
    {
     "name": "stdout",
     "output_type": "stream",
     "text": [
      "test y shape : (17520, 1)\n",
      "Inv y shape : (17520, 27)\n",
      "y pred shape : (17520, 1)\n",
      "inv y pred : (17520, 27)\n",
      "Run 4 Mean Absolute Error: 0.8187539589220205\n",
      "RMSE: 1.070\n",
      "R^2: 0.994\n",
      "[['link_30_flow', 'node_28_pressure', 'node_3_pressure', 'node_15_pressure', 'link_18_flow', 'node_16_pressure', 'node_18_pressure', 'link_32_flow', 'link_15_flow', 'node_15_demand', 'link_11_flow', 'node_27_pressure', 'link_14_flow', 'link_12_flow', 'node_31_pressure', 'link_9_flow', 'link_4_flow', 'node_1_pressure', 'node_28_demand', 'link_21_flow', 'node_10_pressure', 'node_11_demand', 'link_1_flow', 'node_9_pressure', 'node_20_demand', 'node_19_demand', 'node_24_pressure', 'node_24_demand', 'link_6_flow', 'link_8_flow', 'link_2_flow', 'node_9_demand', 'node_22_demand', 'link_31_flow', 'node_22_pressure', 'node_1_demand', 'node_25_pressure', 'node_6_pressure', 'node_13_pressure', 'node_27_demand', 'node_14_pressure', 'node_23_pressure', 'node_6_demand', 'link_19_flow', 'node_10_demand', 'node_8_demand', 'node_26_demand', 'node_11_pressure', 'node_7_pressure', 'node_3_demand', 'link_23_flow', 'link_20_flow', 'node_18_demand', 'node_2_demand', 'node_7_demand', 'node_26_pressure', 'node_29_pressure', 'node_4_demand', 'link_17_flow', 'node_20_pressure', 'node_17_pressure', 'node_21_demand', 'link_5_flow', 'node_8_pressure', 'link_10_flow', 'node_29_demand', 'node_21_pressure', 'node_19_pressure', 'node_31_demand']]\n",
      "starting df shape: (87600, 27)\n",
      "This is training run 5 and has the shape:  (87600, 27)\n",
      "The value of dropped columns is 70\n"
     ]
    },
    {
     "name": "stderr",
     "output_type": "stream",
     "text": [
      "/Users/alexellard/opt/anaconda3/lib/python3.7/site-packages/xgboost/data.py:96: UserWarning: Use subset (sliced data) of np.ndarray is not recommended because it will generate extra copies and increase memory consumption\n",
      "  \"because it will generate extra copies and increase \" +\n"
     ]
    },
    {
     "name": "stdout",
     "output_type": "stream",
     "text": [
      "test y shape : (17520, 1)\n",
      "Inv y shape : (17520, 27)\n",
      "y pred shape : (17520, 1)\n",
      "inv y pred : (17520, 27)\n",
      "Run 5 Mean Absolute Error: 30.190615903518694\n",
      "RMSE: 38.710\n",
      "R^2: 0.999\n",
      "[['node_7_demand', 'reservoir_pressure', 'node_27_pressure', 'node_25_demand', 'link_19_flow', 'link_30_flow', 'node_2_demand', 'link_5_flow', 'node_17_pressure', 'node_24_pressure', 'node_14_demand', 'node_5_pressure', 'link_17_flow', 'node_2_pressure', 'node_4_demand', 'link_29_flow', 'node_11_demand', 'node_31_pressure', 'node_16_demand', 'node_24_demand', 'node_3_pressure', 'node_10_pressure', 'link_32_flow', 'node_9_demand', 'link_23_flow', 'link_21_flow', 'link_22_flow', 'link_6_flow', 'node_20_pressure', 'link_11_flow', 'node_21_pressure', 'link_27_flow', 'node_6_demand', 'link_24_flow', 'node_23_demand', 'node_28_pressure', 'node_12_pressure', 'node_5_demand', 'link_3_flow', 'node_3_demand', 'node_9_pressure', 'link_10_flow', 'node_30_pressure', 'link_15_flow', 'node_10_demand', 'node_27_demand', 'link_7_flow', 'link_26_flow', 'node_20_demand', 'link_20_flow', 'link_18_flow', 'node_18_pressure', 'node_6_pressure', 'node_22_pressure', 'link_4_flow', 'node_13_demand', 'link_28_flow', 'link_9_flow', 'node_25_pressure', 'node_12_demand', 'node_1_demand', 'node_8_demand', 'node_4_pressure', 'link_8_flow', 'node_13_pressure', 'node_29_pressure', 'node_26_demand', 'node_29_demand', 'link_25_flow']]\n",
      "starting df shape: (87600, 27)\n",
      "This is training run 6 and has the shape:  (87600, 27)\n",
      "The value of dropped columns is 70\n"
     ]
    },
    {
     "name": "stderr",
     "output_type": "stream",
     "text": [
      "/Users/alexellard/opt/anaconda3/lib/python3.7/site-packages/xgboost/data.py:96: UserWarning: Use subset (sliced data) of np.ndarray is not recommended because it will generate extra copies and increase memory consumption\n",
      "  \"because it will generate extra copies and increase \" +\n"
     ]
    },
    {
     "name": "stdout",
     "output_type": "stream",
     "text": [
      "test y shape : (17520, 1)\n",
      "Inv y shape : (17520, 27)\n",
      "y pred shape : (17520, 1)\n",
      "inv y pred : (17520, 27)\n",
      "Run 6 Mean Absolute Error: 80.53949438734233\n",
      "RMSE: 105.221\n",
      "R^2: 0.996\n",
      "[['node_24_pressure', 'node_31_demand', 'reservoir_pressure', 'node_26_demand', 'link_18_flow', 'link_10_flow', 'node_8_pressure', 'node_21_pressure', 'link_23_flow', 'link_17_flow', 'node_25_demand', 'node_30_demand', 'link_27_flow', 'link_12_flow', 'node_20_demand', 'node_14_pressure', 'link_4_flow', 'node_7_pressure', 'node_12_demand', 'node_5_demand', 'link_29_flow', 'node_16_pressure', 'link_2_flow', 'node_15_pressure', 'link_14_flow', 'node_29_pressure', 'node_6_demand', 'node_24_demand', 'node_10_demand', 'link_30_flow', 'node_2_demand', 'link_25_flow', 'node_23_pressure', 'node_17_demand', 'node_16_demand', 'link_22_flow', 'node_12_pressure', 'node_27_demand', 'node_9_pressure', 'node_9_demand', 'node_3_pressure', 'link_7_flow', 'link_13_flow', 'node_21_demand', 'node_28_pressure', 'node_25_pressure', 'node_30_pressure', 'node_7_demand', 'node_4_demand', 'node_13_pressure', 'link_6_flow', 'node_19_pressure', 'node_26_pressure', 'node_23_demand', 'node_22_pressure', 'node_6_pressure', 'node_2_pressure', 'link_5_flow', 'link_15_flow', 'node_11_demand', 'link_20_flow', 'node_18_demand', 'link_1_flow', 'node_11_pressure', 'link_8_flow', 'node_28_demand', 'link_19_flow', 'link_9_flow', 'link_24_flow']]\n",
      "starting df shape: (87600, 27)\n",
      "This is training run 7 and has the shape:  (87600, 27)\n",
      "The value of dropped columns is 70\n"
     ]
    },
    {
     "name": "stderr",
     "output_type": "stream",
     "text": [
      "/Users/alexellard/opt/anaconda3/lib/python3.7/site-packages/xgboost/data.py:96: UserWarning: Use subset (sliced data) of np.ndarray is not recommended because it will generate extra copies and increase memory consumption\n",
      "  \"because it will generate extra copies and increase \" +\n"
     ]
    },
    {
     "name": "stdout",
     "output_type": "stream",
     "text": [
      "test y shape : (17520, 1)\n",
      "Inv y shape : (17520, 27)\n",
      "y pred shape : (17520, 1)\n",
      "inv y pred : (17520, 27)\n",
      "Run 7 Mean Absolute Error: 93.74505813032319\n",
      "RMSE: 122.932\n",
      "R^2: 0.994\n",
      "[['node_15_pressure', 'node_22_pressure', 'link_3_flow', 'node_30_pressure', 'node_29_pressure', 'link_20_flow', 'link_15_flow', 'node_28_demand', 'link_30_flow', 'node_14_pressure', 'node_12_demand', 'node_11_pressure', 'link_28_flow', 'node_5_pressure', 'node_27_demand', 'node_19_demand', 'node_24_pressure', 'node_16_demand', 'node_25_pressure', 'node_1_demand', 'node_3_pressure', 'link_29_flow', 'node_31_pressure', 'node_17_pressure', 'node_13_demand', 'node_20_demand', 'node_19_pressure', 'node_5_demand', 'link_24_flow', 'node_22_demand', 'link_13_flow', 'node_21_pressure', 'node_10_demand', 'node_4_demand', 'link_9_flow', 'link_27_flow', 'link_12_flow', 'link_4_flow', 'node_20_pressure', 'node_2_demand', 'node_24_demand', 'link_21_flow', 'node_9_demand', 'node_13_pressure', 'node_6_demand', 'link_11_flow', 'link_22_flow', 'node_18_demand', 'node_10_pressure', 'node_26_demand', 'node_23_pressure', 'node_2_pressure', 'link_8_flow', 'link_25_flow', 'node_4_pressure', 'node_14_demand', 'node_26_pressure', 'link_23_flow', 'link_31_flow', 'reservoir_demand', 'node_1_pressure', 'link_7_flow', 'link_26_flow', 'node_11_demand', 'link_19_flow', 'node_17_demand', 'node_21_demand', 'link_6_flow', 'node_30_demand']]\n",
      "starting df shape: (87600, 27)\n",
      "This is training run 8 and has the shape:  (87600, 27)\n",
      "The value of dropped columns is 70\n"
     ]
    },
    {
     "name": "stderr",
     "output_type": "stream",
     "text": [
      "/Users/alexellard/opt/anaconda3/lib/python3.7/site-packages/xgboost/data.py:96: UserWarning: Use subset (sliced data) of np.ndarray is not recommended because it will generate extra copies and increase memory consumption\n",
      "  \"because it will generate extra copies and increase \" +\n"
     ]
    },
    {
     "name": "stdout",
     "output_type": "stream",
     "text": [
      "test y shape : (17520, 1)\n",
      "Inv y shape : (17520, 27)\n",
      "y pred shape : (17520, 1)\n",
      "inv y pred : (17520, 27)\n",
      "Run 8 Mean Absolute Error: 0.7793749630474122\n",
      "RMSE: 1.021\n",
      "R^2: 0.995\n",
      "[['reservoir_demand', 'link_1_flow', 'node_12_pressure', 'link_14_flow', 'node_5_demand', 'link_11_flow', 'node_14_demand', 'node_3_pressure', 'link_32_flow', 'node_24_demand', 'node_17_demand', 'node_25_pressure', 'link_2_flow', 'node_8_demand', 'reservoir_pressure', 'node_12_demand', 'node_5_pressure', 'link_6_flow', 'node_4_demand', 'link_23_flow', 'node_1_pressure', 'node_27_demand', 'node_20_demand', 'link_30_flow', 'node_17_pressure', 'node_18_demand', 'node_24_pressure', 'node_6_demand', 'node_25_demand', 'link_12_flow', 'node_23_demand', 'node_10_demand', 'link_27_flow', 'node_22_demand', 'node_31_demand', 'node_22_pressure', 'node_28_demand', 'node_7_demand', 'link_25_flow', 'node_6_pressure', 'link_10_flow', 'node_15_pressure', 'link_28_flow', 'link_24_flow', 'node_26_demand', 'node_21_demand', 'node_2_pressure', 'node_9_demand', 'link_8_flow', 'node_30_pressure', 'link_15_flow', 'node_8_pressure', 'node_3_demand', 'link_3_flow', 'node_20_pressure', 'link_20_flow', 'node_13_pressure', 'link_31_flow', 'link_13_flow', 'node_18_pressure', 'link_9_flow', 'node_11_demand', 'node_29_demand', 'node_21_pressure', 'node_2_demand', 'node_28_pressure', 'node_14_pressure', 'node_16_demand', 'link_26_flow', 'node_19_demand']]\n",
      "starting df shape: (87600, 26)\n",
      "This is training run 9 and has the shape:  (87600, 26)\n",
      "The value of dropped columns is 70\n"
     ]
    },
    {
     "name": "stderr",
     "output_type": "stream",
     "text": [
      "/Users/alexellard/opt/anaconda3/lib/python3.7/site-packages/xgboost/data.py:96: UserWarning: Use subset (sliced data) of np.ndarray is not recommended because it will generate extra copies and increase memory consumption\n",
      "  \"because it will generate extra copies and increase \" +\n"
     ]
    },
    {
     "name": "stdout",
     "output_type": "stream",
     "text": [
      "test y shape : (17520, 1)\n",
      "Inv y shape : (17520, 26)\n",
      "y pred shape : (17520, 1)\n",
      "inv y pred : (17520, 26)\n",
      "Run 9 Mean Absolute Error: 5.3775998158722915\n",
      "RMSE: 7.040\n",
      "R^2: 0.995\n",
      "[['node_2_demand', 'node_3_demand', 'link_11_flow', 'node_11_demand', 'node_8_pressure', 'link_23_flow', 'link_9_flow', 'link_18_flow', 'link_31_flow', 'node_6_demand', 'node_30_pressure', 'node_23_pressure', 'node_6_pressure', 'node_15_pressure', 'link_27_flow', 'node_29_pressure', 'node_26_demand', 'link_17_flow', 'link_22_flow', 'node_7_demand', 'link_1_flow', 'node_28_demand', 'node_16_pressure', 'node_14_demand', 'node_16_demand', 'node_3_pressure', 'reservoir_pressure', 'link_6_flow', 'node_17_demand', 'node_12_pressure', 'node_22_pressure', 'link_12_flow', 'node_27_pressure', 'link_28_flow', 'node_4_pressure', 'node_10_pressure', 'node_26_pressure', 'node_9_pressure', 'node_18_pressure', 'node_28_pressure', 'node_18_demand', 'node_14_pressure', 'node_31_demand', 'link_2_flow', 'node_2_pressure', 'link_29_flow', 'reservoir_demand', 'node_1_demand', 'link_30_flow', 'link_13_flow', 'link_3_flow', 'node_4_demand', 'link_10_flow', 'node_29_demand', 'node_21_demand', 'link_8_flow', 'node_9_demand', 'node_23_demand', 'node_25_pressure', 'node_31_pressure', 'node_13_pressure', 'node_5_demand', 'node_13_demand', 'node_21_pressure', 'link_20_flow', 'node_7_pressure', 'node_17_pressure', 'node_10_demand', 'link_7_flow']]\n",
      "starting df shape: (87600, 27)\n",
      "This is training run 10 and has the shape:  (87600, 27)\n",
      "The value of dropped columns is 70\n"
     ]
    },
    {
     "name": "stderr",
     "output_type": "stream",
     "text": [
      "/Users/alexellard/opt/anaconda3/lib/python3.7/site-packages/xgboost/data.py:96: UserWarning: Use subset (sliced data) of np.ndarray is not recommended because it will generate extra copies and increase memory consumption\n",
      "  \"because it will generate extra copies and increase \" +\n"
     ]
    },
    {
     "name": "stdout",
     "output_type": "stream",
     "text": [
      "test y shape : (17520, 1)\n",
      "Inv y shape : (17520, 27)\n",
      "y pred shape : (17520, 1)\n",
      "inv y pred : (17520, 27)\n",
      "Run 10 Mean Absolute Error: 2.3877843180309064\n",
      "RMSE: 3.144\n",
      "R^2: 0.996\n",
      "[['node_21_demand', 'node_12_pressure', 'node_23_pressure', 'node_7_demand', 'node_4_demand', 'link_3_flow', 'node_31_pressure', 'node_27_demand', 'link_13_flow', 'node_1_demand', 'node_16_pressure', 'node_2_pressure', 'node_18_pressure', 'link_19_flow', 'node_19_demand', 'node_15_pressure', 'node_20_pressure', 'link_6_flow', 'link_30_flow', 'node_17_pressure', 'node_2_demand', 'node_1_pressure', 'link_9_flow', 'link_17_flow', 'node_10_demand', 'node_19_pressure', 'link_20_flow', 'link_15_flow', 'link_18_flow', 'link_7_flow', 'link_8_flow', 'link_14_flow', 'link_23_flow', 'link_25_flow', 'node_22_demand', 'node_15_demand', 'link_29_flow', 'node_28_demand', 'node_18_demand', 'link_24_flow', 'node_30_pressure', 'node_28_pressure', 'link_2_flow', 'node_22_pressure', 'node_29_pressure', 'node_14_demand', 'link_26_flow', 'node_13_demand', 'node_26_pressure', 'link_22_flow', 'node_13_pressure', 'node_5_pressure', 'node_25_pressure', 'link_31_flow', 'node_21_pressure', 'node_6_demand', 'node_30_demand', 'link_32_flow', 'node_14_pressure', 'link_1_flow', 'node_8_demand', 'node_9_pressure', 'node_17_demand', 'reservoir_demand', 'node_8_pressure', 'node_11_pressure', 'node_5_demand', 'node_3_demand', 'link_11_flow', 'link_12_flow', 'node_10_pressure', 'node_26_demand', 'node_6_pressure', 'link_27_flow']]\n",
      "starting df shape: (87600, 22)\n",
      "This is training run 1 and has the shape:  (87600, 22)\n",
      "The value of dropped columns is 75\n"
     ]
    },
    {
     "name": "stderr",
     "output_type": "stream",
     "text": [
      "/Users/alexellard/opt/anaconda3/lib/python3.7/site-packages/xgboost/data.py:96: UserWarning: Use subset (sliced data) of np.ndarray is not recommended because it will generate extra copies and increase memory consumption\n",
      "  \"because it will generate extra copies and increase \" +\n"
     ]
    },
    {
     "name": "stdout",
     "output_type": "stream",
     "text": [
      "test y shape : (17520, 1)\n",
      "Inv y shape : (17520, 22)\n",
      "y pred shape : (17520, 1)\n",
      "inv y pred : (17520, 22)\n",
      "Run 1 Mean Absolute Error: 1.372349506920694\n",
      "RMSE: 1.790\n",
      "R^2: 0.999\n",
      "[['node_12_pressure', 'node_25_demand', 'link_31_flow', 'link_13_flow', 'link_11_flow', 'node_21_demand', 'node_24_demand', 'node_7_demand', 'node_15_demand', 'node_1_pressure', 'link_7_flow', 'node_23_demand', 'link_29_flow', 'node_29_demand', 'link_23_flow', 'node_17_pressure', 'node_14_demand', 'node_20_pressure', 'link_18_flow', 'node_6_demand', 'link_3_flow', 'node_3_demand', 'link_5_flow', 'node_14_pressure', 'node_3_pressure', 'node_2_demand', 'node_13_demand', 'node_27_demand', 'link_24_flow', 'node_11_pressure', 'node_5_demand', 'link_4_flow', 'node_1_demand', 'node_17_demand', 'reservoir_pressure', 'node_6_pressure', 'node_29_pressure', 'node_26_demand', 'node_8_pressure', 'node_25_pressure', 'node_10_demand', 'link_1_flow', 'node_20_demand', 'node_9_demand', 'link_30_flow', 'link_25_flow', 'link_8_flow', 'node_19_pressure', 'node_8_demand', 'node_11_demand', 'node_5_pressure', 'node_2_pressure', 'node_16_pressure', 'node_31_demand', 'node_22_pressure', 'node_16_demand', 'link_32_flow', 'node_24_pressure', 'link_17_flow', 'node_10_pressure', 'node_18_demand', 'link_12_flow', 'node_23_pressure', 'node_28_pressure', 'link_27_flow', 'link_22_flow', 'link_19_flow', 'node_26_pressure', 'link_2_flow', 'node_15_pressure', 'node_19_demand', 'link_10_flow', 'link_9_flow', 'node_7_pressure']]\n",
      "starting df shape: (87600, 22)\n",
      "This is training run 2 and has the shape:  (87600, 22)\n",
      "The value of dropped columns is 75\n"
     ]
    },
    {
     "name": "stderr",
     "output_type": "stream",
     "text": [
      "/Users/alexellard/opt/anaconda3/lib/python3.7/site-packages/xgboost/data.py:96: UserWarning: Use subset (sliced data) of np.ndarray is not recommended because it will generate extra copies and increase memory consumption\n",
      "  \"because it will generate extra copies and increase \" +\n"
     ]
    },
    {
     "name": "stdout",
     "output_type": "stream",
     "text": [
      "test y shape : (17520, 1)\n",
      "Inv y shape : (17520, 22)\n",
      "y pred shape : (17520, 1)\n",
      "inv y pred : (17520, 22)\n",
      "Run 2 Mean Absolute Error: 83.02780030877871\n",
      "RMSE: 109.091\n",
      "R^2: 0.995\n",
      "[['node_3_demand', 'node_10_demand', 'reservoir_pressure', 'node_17_demand', 'link_6_flow', 'link_12_flow', 'node_20_pressure', 'link_7_flow', 'node_20_demand', 'node_8_demand', 'node_1_demand', 'node_9_demand', 'node_13_pressure', 'link_4_flow', 'link_20_flow', 'node_4_demand', 'node_22_demand', 'node_21_pressure', 'node_3_pressure', 'node_15_pressure', 'node_5_pressure', 'node_18_demand', 'node_27_demand', 'node_29_demand', 'node_7_pressure', 'node_9_pressure', 'node_13_demand', 'link_13_flow', 'link_25_flow', 'link_17_flow', 'node_8_pressure', 'link_19_flow', 'node_24_demand', 'link_14_flow', 'link_1_flow', 'node_14_demand', 'node_26_pressure', 'node_4_pressure', 'node_19_pressure', 'node_25_demand', 'node_23_demand', 'node_21_demand', 'node_23_pressure', 'link_15_flow', 'node_25_pressure', 'node_31_pressure', 'link_11_flow', 'link_2_flow', 'node_5_demand', 'node_17_pressure', 'node_26_demand', 'link_8_flow', 'node_30_pressure', 'link_31_flow', 'node_22_pressure', 'link_26_flow', 'link_32_flow', 'node_31_demand', 'reservoir_demand', 'link_10_flow', 'node_19_demand', 'node_15_demand', 'node_2_pressure', 'node_7_demand', 'node_30_demand', 'node_10_pressure', 'node_16_demand', 'link_29_flow', 'node_14_pressure', 'node_6_pressure', 'link_23_flow', 'node_1_pressure', 'node_12_demand', 'node_29_pressure']]\n",
      "starting df shape: (87600, 22)\n",
      "This is training run 3 and has the shape:  (87600, 22)\n",
      "The value of dropped columns is 75\n"
     ]
    },
    {
     "name": "stderr",
     "output_type": "stream",
     "text": [
      "/Users/alexellard/opt/anaconda3/lib/python3.7/site-packages/xgboost/data.py:96: UserWarning: Use subset (sliced data) of np.ndarray is not recommended because it will generate extra copies and increase memory consumption\n",
      "  \"because it will generate extra copies and increase \" +\n"
     ]
    },
    {
     "name": "stdout",
     "output_type": "stream",
     "text": [
      "test y shape : (17520, 1)\n",
      "Inv y shape : (17520, 22)\n",
      "y pred shape : (17520, 1)\n",
      "inv y pred : (17520, 22)\n",
      "Run 3 Mean Absolute Error: 4.780565451667633\n",
      "RMSE: 6.257\n",
      "R^2: 0.995\n",
      "[['node_6_pressure', 'link_31_flow', 'link_8_flow', 'node_25_pressure', 'node_23_demand', 'link_3_flow', 'node_20_pressure', 'link_22_flow', 'node_30_pressure', 'node_26_demand', 'link_11_flow', 'link_20_flow', 'node_19_pressure', 'node_6_demand', 'link_1_flow', 'node_5_pressure', 'link_12_flow', 'node_3_demand', 'reservoir_demand', 'node_9_demand', 'node_28_pressure', 'link_13_flow', 'node_30_demand', 'link_24_flow', 'link_5_flow', 'link_15_flow', 'node_9_pressure', 'node_12_demand', 'link_30_flow', 'link_7_flow', 'node_2_demand', 'link_4_flow', 'node_12_pressure', 'node_13_pressure', 'link_21_flow', 'link_17_flow', 'node_27_demand', 'node_25_demand', 'link_23_flow', 'link_32_flow', 'node_29_demand', 'node_20_demand', 'node_29_pressure', 'node_14_demand', 'node_16_demand', 'link_18_flow', 'node_15_pressure', 'node_11_demand', 'link_28_flow', 'node_24_demand', 'node_8_demand', 'node_1_demand', 'node_21_demand', 'link_25_flow', 'node_13_demand', 'link_27_flow', 'node_31_demand', 'node_17_demand', 'node_7_pressure', 'link_14_flow', 'link_29_flow', 'node_4_pressure', 'node_28_demand', 'node_18_demand', 'node_21_pressure', 'link_9_flow', 'node_2_pressure', 'node_1_pressure', 'node_17_pressure', 'node_22_demand', 'link_26_flow', 'node_23_pressure', 'node_3_pressure', 'link_10_flow']]\n",
      "starting df shape: (87600, 22)\n",
      "This is training run 4 and has the shape:  (87600, 22)\n",
      "The value of dropped columns is 75\n"
     ]
    },
    {
     "name": "stderr",
     "output_type": "stream",
     "text": [
      "/Users/alexellard/opt/anaconda3/lib/python3.7/site-packages/xgboost/data.py:96: UserWarning: Use subset (sliced data) of np.ndarray is not recommended because it will generate extra copies and increase memory consumption\n",
      "  \"because it will generate extra copies and increase \" +\n"
     ]
    },
    {
     "name": "stdout",
     "output_type": "stream",
     "text": [
      "test y shape : (17520, 1)\n",
      "Inv y shape : (17520, 22)\n",
      "y pred shape : (17520, 1)\n",
      "inv y pred : (17520, 22)\n",
      "Run 4 Mean Absolute Error: 3.8361374093172733\n",
      "RMSE: 5.049\n",
      "R^2: 0.995\n",
      "[['node_16_pressure', 'link_21_flow', 'node_18_demand', 'node_14_demand', 'node_14_pressure', 'link_6_flow', 'node_13_pressure', 'node_12_demand', 'node_11_pressure', 'node_7_pressure', 'node_4_demand', 'link_23_flow', 'node_2_pressure', 'node_10_demand', 'link_29_flow', 'node_1_demand', 'node_15_demand', 'link_4_flow', 'node_22_demand', 'node_30_pressure', 'node_7_demand', 'node_25_pressure', 'node_28_demand', 'node_26_pressure', 'link_26_flow', 'link_3_flow', 'node_15_pressure', 'node_16_demand', 'link_13_flow', 'link_19_flow', 'node_13_demand', 'node_3_pressure', 'link_12_flow', 'node_21_pressure', 'link_1_flow', 'link_5_flow', 'node_24_pressure', 'node_24_demand', 'node_8_pressure', 'node_22_pressure', 'node_30_demand', 'link_17_flow', 'node_3_demand', 'node_6_pressure', 'node_31_demand', 'node_11_demand', 'node_9_demand', 'node_20_demand', 'node_5_demand', 'link_7_flow', 'reservoir_demand', 'reservoir_pressure', 'link_9_flow', 'link_11_flow', 'node_9_pressure', 'link_20_flow', 'link_24_flow', 'link_18_flow', 'link_14_flow', 'link_15_flow', 'node_23_pressure', 'node_19_pressure', 'link_2_flow', 'node_23_demand', 'node_6_demand', 'node_26_demand', 'node_17_pressure', 'link_22_flow', 'node_4_pressure', 'node_19_demand', 'node_5_pressure', 'node_20_pressure', 'node_18_pressure', 'node_8_demand', 'node_12_pressure']]\n",
      "starting df shape: (87600, 21)\n",
      "This is training run 5 and has the shape:  (87600, 21)\n",
      "The value of dropped columns is 75\n"
     ]
    },
    {
     "name": "stderr",
     "output_type": "stream",
     "text": [
      "/Users/alexellard/opt/anaconda3/lib/python3.7/site-packages/xgboost/data.py:96: UserWarning: Use subset (sliced data) of np.ndarray is not recommended because it will generate extra copies and increase memory consumption\n",
      "  \"because it will generate extra copies and increase \" +\n"
     ]
    },
    {
     "name": "stdout",
     "output_type": "stream",
     "text": [
      "test y shape : (17520, 1)\n",
      "Inv y shape : (17520, 21)\n",
      "y pred shape : (17520, 1)\n",
      "inv y pred : (17520, 21)\n",
      "Run 5 Mean Absolute Error: 5.211722037836749\n",
      "RMSE: 6.773\n",
      "R^2: 0.994\n",
      "[['node_15_demand', 'link_26_flow', 'node_29_pressure', 'node_20_pressure', 'node_17_pressure', 'node_27_pressure', 'node_10_demand', 'node_28_pressure', 'node_6_pressure', 'link_19_flow', 'link_12_flow', 'node_12_demand', 'node_18_pressure', 'node_2_demand', 'node_11_pressure', 'node_31_demand', 'node_3_demand', 'link_28_flow', 'link_5_flow', 'node_22_demand', 'link_11_flow', 'node_27_demand', 'node_6_demand', 'node_19_pressure', 'node_30_demand', 'node_8_demand', 'node_18_demand', 'node_14_demand', 'node_16_pressure', 'node_29_demand', 'link_4_flow', 'link_10_flow', 'link_17_flow', 'node_1_pressure', 'node_25_demand', 'link_1_flow', 'node_13_pressure', 'node_23_demand', 'link_13_flow', 'node_21_pressure', 'link_14_flow', 'link_31_flow', 'link_8_flow', 'node_8_pressure', 'node_7_demand', 'node_30_pressure', 'link_2_flow', 'link_21_flow', 'node_12_pressure', 'node_19_demand', 'node_26_pressure', 'node_2_pressure', 'link_25_flow', 'link_22_flow', 'node_17_demand', 'link_18_flow', 'node_9_pressure', 'node_15_pressure', 'node_16_demand', 'node_13_demand', 'link_6_flow', 'node_24_pressure', 'link_30_flow', 'node_4_demand', 'reservoir_pressure', 'link_20_flow', 'node_3_pressure', 'node_11_demand', 'node_5_demand', 'node_5_pressure', 'link_29_flow', 'link_23_flow', 'node_28_demand', 'node_22_pressure']]\n",
      "starting df shape: (87600, 22)\n",
      "This is training run 6 and has the shape:  (87600, 22)\n",
      "The value of dropped columns is 75\n"
     ]
    },
    {
     "name": "stderr",
     "output_type": "stream",
     "text": [
      "/Users/alexellard/opt/anaconda3/lib/python3.7/site-packages/xgboost/data.py:96: UserWarning: Use subset (sliced data) of np.ndarray is not recommended because it will generate extra copies and increase memory consumption\n",
      "  \"because it will generate extra copies and increase \" +\n"
     ]
    },
    {
     "name": "stdout",
     "output_type": "stream",
     "text": [
      "test y shape : (17520, 1)\n",
      "Inv y shape : (17520, 22)\n",
      "y pred shape : (17520, 1)\n",
      "inv y pred : (17520, 22)\n",
      "Run 6 Mean Absolute Error: 83.39035943260723\n",
      "RMSE: 108.903\n",
      "R^2: 0.995\n",
      "[['link_23_flow', 'node_10_demand', 'node_29_pressure', 'node_16_demand', 'node_24_demand', 'link_10_flow', 'link_29_flow', 'node_27_pressure', 'node_8_pressure', 'node_26_pressure', 'node_3_demand', 'node_29_demand', 'node_4_pressure', 'node_20_pressure', 'node_9_demand', 'link_9_flow', 'node_17_demand', 'node_18_demand', 'link_17_flow', 'link_30_flow', 'reservoir_demand', 'node_1_demand', 'node_14_demand', 'link_4_flow', 'node_23_demand', 'node_22_demand', 'node_27_demand', 'link_13_flow', 'link_27_flow', 'node_19_demand', 'node_12_pressure', 'link_20_flow', 'link_32_flow', 'node_14_pressure', 'node_11_demand', 'node_22_pressure', 'node_13_demand', 'link_31_flow', 'node_7_demand', 'link_5_flow', 'node_20_demand', 'link_6_flow', 'node_7_pressure', 'node_28_demand', 'node_11_pressure', 'node_1_pressure', 'link_14_flow', 'node_30_pressure', 'node_21_demand', 'link_24_flow', 'node_9_pressure', 'node_16_pressure', 'link_2_flow', 'node_15_demand', 'node_31_pressure', 'node_25_demand', 'node_6_demand', 'node_19_pressure', 'link_15_flow', 'node_24_pressure', 'link_3_flow', 'node_26_demand', 'link_26_flow', 'node_4_demand', 'node_18_pressure', 'link_28_flow', 'node_12_demand', 'link_1_flow', 'reservoir_pressure', 'node_30_demand', 'node_10_pressure', 'node_31_demand', 'node_21_pressure', 'node_15_pressure', 'link_11_flow']]\n",
      "starting df shape: (87600, 21)\n",
      "This is training run 7 and has the shape:  (87600, 21)\n",
      "The value of dropped columns is 75\n"
     ]
    },
    {
     "name": "stderr",
     "output_type": "stream",
     "text": [
      "/Users/alexellard/opt/anaconda3/lib/python3.7/site-packages/xgboost/data.py:96: UserWarning: Use subset (sliced data) of np.ndarray is not recommended because it will generate extra copies and increase memory consumption\n",
      "  \"because it will generate extra copies and increase \" +\n"
     ]
    },
    {
     "name": "stdout",
     "output_type": "stream",
     "text": [
      "test y shape : (17520, 1)\n",
      "Inv y shape : (17520, 21)\n",
      "y pred shape : (17520, 1)\n",
      "inv y pred : (17520, 21)\n",
      "Run 7 Mean Absolute Error: 4.87489670522239\n",
      "RMSE: 6.399\n",
      "R^2: 0.994\n",
      "[['link_29_flow', 'link_31_flow', 'link_12_flow', 'node_27_demand', 'link_19_flow', 'node_15_pressure', 'node_18_demand', 'node_19_pressure', 'link_14_flow', 'node_2_pressure', 'link_7_flow', 'node_4_pressure', 'node_29_pressure', 'node_6_pressure', 'node_22_demand', 'node_30_pressure', 'node_14_pressure', 'link_13_flow', 'node_29_demand', 'node_26_demand', 'node_5_demand', 'node_18_pressure', 'link_9_flow', 'node_1_pressure', 'node_28_demand', 'node_22_pressure', 'node_11_demand', 'link_27_flow', 'node_23_pressure', 'node_2_demand', 'node_19_demand', 'node_5_pressure', 'link_1_flow', 'node_26_pressure', 'link_8_flow', 'node_9_pressure', 'reservoir_pressure', 'node_3_pressure', 'link_18_flow', 'link_28_flow', 'link_20_flow', 'node_23_demand', 'link_17_flow', 'link_11_flow', 'link_32_flow', 'node_12_pressure', 'node_10_pressure', 'node_21_pressure', 'link_5_flow', 'node_14_demand', 'link_26_flow', 'link_3_flow', 'node_30_demand', 'link_24_flow', 'link_2_flow', 'node_10_demand', 'node_25_pressure', 'node_24_pressure', 'node_9_demand', 'node_15_demand', 'link_23_flow', 'link_4_flow', 'node_28_pressure', 'node_12_demand', 'node_27_pressure', 'link_25_flow', 'node_17_pressure', 'link_30_flow', 'link_15_flow', 'node_8_demand', 'node_25_demand', 'node_24_demand', 'node_8_pressure', 'node_20_pressure', 'node_4_demand']]\n",
      "starting df shape: (87600, 21)\n",
      "This is training run 8 and has the shape:  (87600, 21)\n",
      "The value of dropped columns is 75\n"
     ]
    },
    {
     "name": "stderr",
     "output_type": "stream",
     "text": [
      "/Users/alexellard/opt/anaconda3/lib/python3.7/site-packages/xgboost/data.py:96: UserWarning: Use subset (sliced data) of np.ndarray is not recommended because it will generate extra copies and increase memory consumption\n",
      "  \"because it will generate extra copies and increase \" +\n"
     ]
    },
    {
     "name": "stdout",
     "output_type": "stream",
     "text": [
      "test y shape : (17520, 1)\n",
      "Inv y shape : (17520, 21)\n",
      "y pred shape : (17520, 1)\n",
      "inv y pred : (17520, 21)\n",
      "Run 8 Mean Absolute Error: 32.08707830065612\n",
      "RMSE: 41.125\n",
      "R^2: 0.999\n",
      "[['link_23_flow', 'node_21_pressure', 'link_11_flow', 'link_29_flow', 'node_15_pressure', 'node_24_demand', 'link_30_flow', 'node_16_demand', 'link_5_flow', 'link_13_flow', 'node_26_pressure', 'node_15_demand', 'node_19_demand', 'link_18_flow', 'node_29_pressure', 'node_25_pressure', 'node_16_pressure', 'node_27_demand', 'node_24_pressure', 'node_30_demand', 'node_12_demand', 'node_13_pressure', 'node_29_demand', 'link_32_flow', 'node_27_pressure', 'node_2_demand', 'node_20_demand', 'node_9_demand', 'node_30_pressure', 'link_25_flow', 'node_26_demand', 'node_20_pressure', 'link_19_flow', 'link_17_flow', 'link_28_flow', 'node_4_demand', 'link_12_flow', 'node_21_demand', 'node_6_demand', 'link_2_flow', 'node_4_pressure', 'node_3_pressure', 'node_14_pressure', 'link_7_flow', 'node_31_pressure', 'node_28_demand', 'link_31_flow', 'node_5_pressure', 'link_26_flow', 'link_3_flow', 'link_20_flow', 'link_24_flow', 'node_22_pressure', 'node_31_demand', 'link_14_flow', 'node_6_pressure', 'node_25_demand', 'node_9_pressure', 'node_18_pressure', 'link_22_flow', 'node_13_demand', 'node_2_pressure', 'node_18_demand', 'node_3_demand', 'node_14_demand', 'node_1_demand', 'link_21_flow', 'node_7_pressure', 'node_23_demand', 'link_15_flow', 'link_27_flow', 'node_19_pressure', 'node_17_demand', 'node_28_pressure']]\n",
      "starting df shape: (87600, 22)\n",
      "This is training run 9 and has the shape:  (87600, 22)\n",
      "The value of dropped columns is 75\n"
     ]
    },
    {
     "name": "stderr",
     "output_type": "stream",
     "text": [
      "/Users/alexellard/opt/anaconda3/lib/python3.7/site-packages/xgboost/data.py:96: UserWarning: Use subset (sliced data) of np.ndarray is not recommended because it will generate extra copies and increase memory consumption\n",
      "  \"because it will generate extra copies and increase \" +\n"
     ]
    },
    {
     "name": "stdout",
     "output_type": "stream",
     "text": [
      "test y shape : (17520, 1)\n",
      "Inv y shape : (17520, 22)\n",
      "y pred shape : (17520, 1)\n",
      "inv y pred : (17520, 22)\n",
      "Run 9 Mean Absolute Error: 95.21258399830644\n",
      "RMSE: 124.977\n",
      "R^2: 0.994\n",
      "[['node_17_pressure', 'reservoir_pressure', 'node_14_demand', 'link_23_flow', 'node_18_demand', 'node_5_demand', 'link_31_flow', 'node_18_pressure', 'node_3_pressure', 'link_27_flow', 'link_28_flow', 'node_10_pressure', 'node_1_pressure', 'node_29_pressure', 'node_16_pressure', 'node_23_pressure', 'node_7_pressure', 'link_7_flow', 'node_28_pressure', 'node_31_pressure', 'node_5_pressure', 'node_21_demand', 'node_19_pressure', 'link_29_flow', 'node_12_pressure', 'link_12_flow', 'node_7_demand', 'link_20_flow', 'link_15_flow', 'node_1_demand', 'link_8_flow', 'link_13_flow', 'node_8_pressure', 'node_26_demand', 'node_13_pressure', 'node_11_demand', 'node_24_pressure', 'node_23_demand', 'link_4_flow', 'node_29_demand', 'node_3_demand', 'node_30_pressure', 'node_13_demand', 'node_27_demand', 'node_21_pressure', 'node_8_demand', 'node_22_demand', 'link_6_flow', 'node_31_demand', 'node_14_pressure', 'node_9_pressure', 'node_10_demand', 'node_12_demand', 'node_4_pressure', 'node_24_demand', 'link_24_flow', 'link_10_flow', 'node_25_pressure', 'node_16_demand', 'node_20_demand', 'link_1_flow', 'link_32_flow', 'node_28_demand', 'link_11_flow', 'link_18_flow', 'node_19_demand', 'node_25_demand', 'link_26_flow', 'node_17_demand', 'node_27_pressure', 'link_30_flow', 'node_22_pressure', 'node_2_demand', 'node_30_demand', 'node_15_pressure']]\n",
      "starting df shape: (87600, 21)\n",
      "This is training run 10 and has the shape:  (87600, 21)\n",
      "The value of dropped columns is 75\n"
     ]
    },
    {
     "name": "stderr",
     "output_type": "stream",
     "text": [
      "/Users/alexellard/opt/anaconda3/lib/python3.7/site-packages/xgboost/data.py:96: UserWarning: Use subset (sliced data) of np.ndarray is not recommended because it will generate extra copies and increase memory consumption\n",
      "  \"because it will generate extra copies and increase \" +\n"
     ]
    },
    {
     "name": "stdout",
     "output_type": "stream",
     "text": [
      "test y shape : (17520, 1)\n",
      "Inv y shape : (17520, 21)\n",
      "y pred shape : (17520, 1)\n",
      "inv y pred : (17520, 21)\n",
      "Run 10 Mean Absolute Error: 88.01235383115863\n",
      "RMSE: 115.564\n",
      "R^2: 0.995\n",
      "[['node_30_demand', 'link_27_flow', 'node_7_pressure', 'link_11_flow', 'node_18_pressure', 'node_22_pressure', 'link_6_flow', 'link_32_flow', 'reservoir_pressure', 'node_1_pressure', 'node_15_demand', 'node_12_pressure', 'link_23_flow', 'node_27_pressure', 'node_21_demand', 'reservoir_demand', 'node_5_pressure', 'link_25_flow', 'node_10_pressure', 'node_14_demand', 'node_15_pressure', 'link_30_flow', 'node_29_pressure', 'link_31_flow', 'node_3_demand', 'node_8_pressure', 'link_4_flow', 'node_30_pressure', 'link_5_flow', 'link_28_flow', 'node_4_pressure', 'node_17_pressure', 'link_9_flow', 'link_2_flow', 'node_16_pressure', 'link_13_flow', 'node_22_demand', 'link_18_flow', 'node_21_pressure', 'link_22_flow', 'node_6_demand', 'node_20_pressure', 'node_27_demand', 'node_14_pressure', 'link_26_flow', 'node_17_demand', 'node_19_demand', 'link_8_flow', 'link_15_flow', 'link_3_flow', 'node_31_pressure', 'link_12_flow', 'link_1_flow', 'link_10_flow', 'node_18_demand', 'link_21_flow', 'node_28_demand', 'node_16_demand', 'node_25_pressure', 'node_26_pressure', 'node_11_pressure', 'node_19_pressure', 'link_29_flow', 'node_2_pressure', 'node_29_demand', 'node_8_demand', 'link_17_flow', 'node_9_demand', 'node_13_demand', 'link_24_flow', 'link_7_flow', 'node_6_pressure', 'link_14_flow', 'node_13_pressure', 'node_31_demand', 'node_25_demand', 'node_10_demand', 'node_4_demand', 'link_19_flow']]\n",
      "starting df shape: (87600, 17)\n",
      "This is training run 1 and has the shape:  (87600, 17)\n",
      "The value of dropped columns is 80\n"
     ]
    },
    {
     "name": "stderr",
     "output_type": "stream",
     "text": [
      "/Users/alexellard/opt/anaconda3/lib/python3.7/site-packages/xgboost/data.py:96: UserWarning: Use subset (sliced data) of np.ndarray is not recommended because it will generate extra copies and increase memory consumption\n",
      "  \"because it will generate extra copies and increase \" +\n"
     ]
    },
    {
     "name": "stdout",
     "output_type": "stream",
     "text": [
      "test y shape : (17520, 1)\n",
      "Inv y shape : (17520, 17)\n",
      "y pred shape : (17520, 1)\n",
      "inv y pred : (17520, 17)\n",
      "Run 1 Mean Absolute Error: 6.489432797786734\n",
      "RMSE: 8.492\n",
      "R^2: 0.992\n",
      "[['node_6_pressure', 'node_12_pressure', 'link_2_flow', 'node_7_demand', 'node_15_pressure', 'link_12_flow', 'node_4_pressure', 'node_29_demand', 'node_25_pressure', 'node_7_pressure', 'node_5_pressure', 'link_6_flow', 'node_8_pressure', 'node_6_demand', 'node_28_pressure', 'node_19_pressure', 'link_31_flow', 'link_7_flow', 'node_14_pressure', 'node_1_demand', 'node_15_demand', 'node_13_demand', 'node_4_demand', 'node_12_demand', 'link_4_flow', 'link_1_flow', 'node_24_demand', 'link_15_flow', 'link_9_flow', 'link_17_flow', 'node_18_pressure', 'node_25_demand', 'link_14_flow', 'link_19_flow', 'node_24_pressure', 'node_3_pressure', 'node_2_demand', 'node_26_pressure', 'reservoir_pressure', 'node_20_demand', 'link_28_flow', 'link_18_flow', 'node_22_pressure', 'node_18_demand', 'link_3_flow', 'link_20_flow', 'link_11_flow', 'node_23_demand', 'node_21_pressure', 'node_26_demand', 'link_5_flow', 'node_14_demand', 'node_19_demand', 'link_22_flow', 'node_8_demand', 'node_3_demand', 'node_17_pressure', 'node_2_pressure', 'node_23_pressure', 'node_9_demand', 'link_13_flow', 'node_1_pressure', 'node_29_pressure', 'node_30_pressure', 'link_29_flow', 'reservoir_demand', 'link_23_flow', 'node_31_demand', 'node_31_pressure', 'link_8_flow', 'node_16_demand', 'node_28_demand', 'link_30_flow', 'node_11_pressure', 'node_16_pressure', 'node_30_demand', 'node_17_demand', 'link_10_flow', 'node_5_demand']]\n",
      "starting df shape: (87600, 17)\n",
      "This is training run 2 and has the shape:  (87600, 17)\n",
      "The value of dropped columns is 80\n"
     ]
    },
    {
     "name": "stderr",
     "output_type": "stream",
     "text": [
      "/Users/alexellard/opt/anaconda3/lib/python3.7/site-packages/xgboost/data.py:96: UserWarning: Use subset (sliced data) of np.ndarray is not recommended because it will generate extra copies and increase memory consumption\n",
      "  \"because it will generate extra copies and increase \" +\n"
     ]
    },
    {
     "name": "stdout",
     "output_type": "stream",
     "text": [
      "test y shape : (17520, 1)\n",
      "Inv y shape : (17520, 17)\n",
      "y pred shape : (17520, 1)\n",
      "inv y pred : (17520, 17)\n",
      "Run 2 Mean Absolute Error: 2.499507188210188\n",
      "RMSE: 3.282\n",
      "R^2: 0.994\n",
      "[['link_23_flow', 'node_10_demand', 'link_8_flow', 'node_24_pressure', 'node_16_demand', 'link_5_flow', 'node_20_demand', 'link_1_flow', 'node_25_pressure', 'link_18_flow', 'node_28_demand', 'node_15_demand', 'link_15_flow', 'link_14_flow', 'node_6_demand', 'node_19_pressure', 'node_4_demand', 'node_24_demand', 'link_19_flow', 'link_3_flow', 'link_4_flow', 'link_32_flow', 'reservoir_pressure', 'node_8_demand', 'node_5_demand', 'node_29_pressure', 'node_23_pressure', 'node_25_demand', 'node_3_pressure', 'node_27_pressure', 'node_16_pressure', 'node_22_pressure', 'node_2_demand', 'node_17_pressure', 'node_8_pressure', 'node_18_demand', 'node_31_pressure', 'node_13_pressure', 'node_14_pressure', 'node_18_pressure', 'link_28_flow', 'node_20_pressure', 'link_13_flow', 'node_27_demand', 'link_7_flow', 'link_21_flow', 'node_1_demand', 'node_22_demand', 'reservoir_demand', 'link_27_flow', 'node_2_pressure', 'node_12_demand', 'node_31_demand', 'link_22_flow', 'node_26_pressure', 'node_6_pressure', 'node_12_pressure', 'link_26_flow', 'link_24_flow', 'node_4_pressure', 'link_30_flow', 'node_30_pressure', 'node_11_demand', 'node_3_demand', 'link_31_flow', 'node_5_pressure', 'node_10_pressure', 'node_7_pressure', 'node_19_demand', 'link_20_flow', 'node_1_pressure', 'node_23_demand', 'node_13_demand', 'link_10_flow', 'node_17_demand', 'node_9_demand', 'link_2_flow', 'node_11_pressure', 'node_9_pressure']]\n",
      "starting df shape: (87600, 17)\n",
      "This is training run 3 and has the shape:  (87600, 17)\n",
      "The value of dropped columns is 80\n"
     ]
    },
    {
     "name": "stderr",
     "output_type": "stream",
     "text": [
      "/Users/alexellard/opt/anaconda3/lib/python3.7/site-packages/xgboost/data.py:96: UserWarning: Use subset (sliced data) of np.ndarray is not recommended because it will generate extra copies and increase memory consumption\n",
      "  \"because it will generate extra copies and increase \" +\n"
     ]
    },
    {
     "name": "stdout",
     "output_type": "stream",
     "text": [
      "test y shape : (17520, 1)\n",
      "Inv y shape : (17520, 17)\n",
      "y pred shape : (17520, 1)\n",
      "inv y pred : (17520, 17)\n",
      "Run 3 Mean Absolute Error: 3.340742353672111\n",
      "RMSE: 4.357\n",
      "R^2: 0.994\n",
      "[['node_4_demand', 'node_9_demand', 'node_5_pressure', 'node_11_demand', 'link_1_flow', 'link_25_flow', 'node_31_pressure', 'node_23_pressure', 'node_19_demand', 'node_21_demand', 'link_22_flow', 'link_19_flow', 'link_15_flow', 'node_27_demand', 'node_4_pressure', 'node_30_pressure', 'node_8_pressure', 'node_21_pressure', 'link_21_flow', 'reservoir_pressure', 'node_12_demand', 'node_8_demand', 'node_20_demand', 'link_2_flow', 'link_14_flow', 'link_12_flow', 'node_15_pressure', 'node_10_demand', 'link_31_flow', 'link_23_flow', 'link_27_flow', 'link_8_flow', 'node_24_demand', 'link_17_flow', 'node_12_pressure', 'link_18_flow', 'node_6_pressure', 'link_20_flow', 'node_27_pressure', 'node_11_pressure', 'node_22_demand', 'node_16_pressure', 'node_10_pressure', 'node_13_pressure', 'node_25_pressure', 'reservoir_demand', 'node_5_demand', 'node_24_pressure', 'node_18_demand', 'node_31_demand', 'node_28_demand', 'node_18_pressure', 'node_28_pressure', 'link_3_flow', 'node_3_demand', 'link_24_flow', 'node_7_pressure', 'node_14_pressure', 'node_20_pressure', 'node_29_demand', 'node_26_pressure', 'node_17_demand', 'node_2_demand', 'node_23_demand', 'link_32_flow', 'link_10_flow', 'node_30_demand', 'link_28_flow', 'node_29_pressure', 'link_5_flow', 'node_6_demand', 'link_9_flow', 'link_26_flow', 'node_9_pressure', 'link_30_flow', 'link_4_flow', 'link_6_flow', 'node_2_pressure', 'node_7_demand']]\n",
      "starting df shape: (87600, 17)\n",
      "This is training run 4 and has the shape:  (87600, 17)\n",
      "The value of dropped columns is 80\n"
     ]
    },
    {
     "name": "stderr",
     "output_type": "stream",
     "text": [
      "/Users/alexellard/opt/anaconda3/lib/python3.7/site-packages/xgboost/data.py:96: UserWarning: Use subset (sliced data) of np.ndarray is not recommended because it will generate extra copies and increase memory consumption\n",
      "  \"because it will generate extra copies and increase \" +\n"
     ]
    },
    {
     "name": "stdout",
     "output_type": "stream",
     "text": [
      "test y shape : (17520, 1)\n",
      "Inv y shape : (17520, 17)\n",
      "y pred shape : (17520, 1)\n",
      "inv y pred : (17520, 17)\n",
      "Run 4 Mean Absolute Error: 2.656055598663528\n",
      "RMSE: 3.417\n",
      "R^2: 0.999\n",
      "[['node_4_pressure', 'node_5_demand', 'node_18_demand', 'node_12_pressure', 'link_10_flow', 'link_5_flow', 'link_18_flow', 'node_3_demand', 'node_16_pressure', 'link_20_flow', 'node_2_demand', 'link_31_flow', 'node_19_demand', 'node_18_pressure', 'link_6_flow', 'node_22_pressure', 'node_7_demand', 'node_20_demand', 'node_9_demand', 'node_17_pressure', 'node_14_pressure', 'link_25_flow', 'node_17_demand', 'node_31_demand', 'node_14_demand', 'node_3_pressure', 'link_29_flow', 'reservoir_demand', 'node_10_demand', 'node_24_pressure', 'node_30_demand', 'node_11_pressure', 'reservoir_pressure', 'node_8_pressure', 'link_30_flow', 'node_30_pressure', 'link_9_flow', 'link_2_flow', 'node_7_pressure', 'node_19_pressure', 'link_3_flow', 'node_31_pressure', 'node_8_demand', 'link_27_flow', 'node_15_pressure', 'link_28_flow', 'link_21_flow', 'link_8_flow', 'link_23_flow', 'node_2_pressure', 'node_28_demand', 'node_29_demand', 'link_26_flow', 'link_15_flow', 'node_15_demand', 'node_4_demand', 'node_1_pressure', 'link_12_flow', 'link_32_flow', 'node_25_pressure', 'node_11_demand', 'link_24_flow', 'node_29_pressure', 'node_13_demand', 'node_10_pressure', 'link_7_flow', 'link_11_flow', 'node_9_pressure', 'node_26_demand', 'node_13_pressure', 'link_17_flow', 'link_4_flow', 'node_20_pressure', 'node_6_pressure', 'link_22_flow', 'node_25_demand', 'node_23_pressure', 'link_19_flow', 'link_13_flow']]\n",
      "starting df shape: (87600, 17)\n",
      "This is training run 5 and has the shape:  (87600, 17)\n",
      "The value of dropped columns is 80\n"
     ]
    },
    {
     "name": "stderr",
     "output_type": "stream",
     "text": [
      "/Users/alexellard/opt/anaconda3/lib/python3.7/site-packages/xgboost/data.py:96: UserWarning: Use subset (sliced data) of np.ndarray is not recommended because it will generate extra copies and increase memory consumption\n",
      "  \"because it will generate extra copies and increase \" +\n"
     ]
    },
    {
     "name": "stdout",
     "output_type": "stream",
     "text": [
      "test y shape : (17520, 1)\n",
      "Inv y shape : (17520, 17)\n",
      "y pred shape : (17520, 1)\n",
      "inv y pred : (17520, 17)\n",
      "Run 5 Mean Absolute Error: 2.6503308053049657\n",
      "RMSE: 3.452\n",
      "R^2: 0.999\n",
      "[['link_7_flow', 'node_31_demand', 'link_22_flow', 'node_9_pressure', 'link_5_flow', 'link_29_flow', 'node_3_demand', 'link_26_flow', 'link_6_flow', 'node_4_demand', 'node_27_pressure', 'node_9_demand', 'link_28_flow', 'node_13_demand', 'node_1_demand', 'node_26_demand', 'link_27_flow', 'link_2_flow', 'node_18_pressure', 'link_3_flow', 'node_30_demand', 'link_20_flow', 'link_21_flow', 'node_19_pressure', 'node_11_demand', 'link_23_flow', 'node_17_pressure', 'node_29_demand', 'link_10_flow', 'link_24_flow', 'node_24_demand', 'node_6_demand', 'node_20_pressure', 'node_3_pressure', 'node_28_pressure', 'link_32_flow', 'node_17_demand', 'node_15_pressure', 'node_19_demand', 'link_13_flow', 'link_9_flow', 'link_8_flow', 'link_18_flow', 'node_16_demand', 'node_25_pressure', 'node_8_pressure', 'node_16_pressure', 'node_23_pressure', 'node_18_demand', 'link_11_flow', 'node_31_pressure', 'node_26_pressure', 'node_2_pressure', 'node_7_demand', 'node_29_pressure', 'node_25_demand', 'link_25_flow', 'reservoir_demand', 'link_4_flow', 'link_1_flow', 'node_28_demand', 'node_24_pressure', 'node_5_pressure', 'node_8_demand', 'node_21_demand', 'node_11_pressure', 'node_23_demand', 'link_17_flow', 'node_14_demand', 'link_15_flow', 'node_1_pressure', 'node_12_demand', 'node_21_pressure', 'node_10_pressure', 'node_7_pressure', 'node_6_pressure', 'link_14_flow', 'node_15_demand', 'node_22_pressure', 'node_20_demand']]\n",
      "starting df shape: (87600, 16)\n",
      "This is training run 6 and has the shape:  (87600, 16)\n",
      "The value of dropped columns is 80\n"
     ]
    },
    {
     "name": "stderr",
     "output_type": "stream",
     "text": [
      "/Users/alexellard/opt/anaconda3/lib/python3.7/site-packages/xgboost/data.py:96: UserWarning: Use subset (sliced data) of np.ndarray is not recommended because it will generate extra copies and increase memory consumption\n",
      "  \"because it will generate extra copies and increase \" +\n"
     ]
    },
    {
     "name": "stdout",
     "output_type": "stream",
     "text": [
      "test y shape : (17520, 1)\n",
      "Inv y shape : (17520, 16)\n",
      "y pred shape : (17520, 1)\n",
      "inv y pred : (17520, 16)\n",
      "Run 6 Mean Absolute Error: 5.246205209314795\n",
      "RMSE: 6.880\n",
      "R^2: 0.994\n",
      "[['node_28_pressure', 'node_8_pressure', 'node_7_demand', 'node_8_demand', 'node_23_pressure', 'node_11_demand', 'node_30_pressure', 'node_2_demand', 'node_11_pressure', 'node_19_pressure', 'link_15_flow', 'node_12_pressure', 'link_30_flow', 'link_11_flow', 'node_24_demand', 'node_23_demand', 'node_25_pressure', 'link_12_flow', 'link_18_flow', 'node_29_pressure', 'link_4_flow', 'link_9_flow', 'node_3_demand', 'node_28_demand', 'node_15_pressure', 'link_6_flow', 'link_29_flow', 'node_14_demand', 'node_14_pressure', 'node_31_pressure', 'node_25_demand', 'node_30_demand', 'node_16_demand', 'link_1_flow', 'link_23_flow', 'link_22_flow', 'node_7_pressure', 'link_26_flow', 'link_20_flow', 'node_20_demand', 'node_20_pressure', 'node_12_demand', 'node_26_pressure', 'node_6_pressure', 'node_18_demand', 'node_6_demand', 'node_21_demand', 'link_24_flow', 'link_19_flow', 'link_5_flow', 'node_4_pressure', 'node_31_demand', 'node_27_demand', 'node_19_demand', 'node_2_pressure', 'node_1_demand', 'node_4_demand', 'reservoir_pressure', 'link_27_flow', 'node_21_pressure', 'link_13_flow', 'node_13_pressure', 'node_5_pressure', 'node_10_demand', 'link_7_flow', 'link_21_flow', 'node_24_pressure', 'node_9_pressure', 'link_8_flow', 'node_9_demand', 'node_1_pressure', 'node_10_pressure', 'node_17_pressure', 'link_2_flow', 'node_13_demand', 'node_17_demand', 'node_18_pressure', 'node_27_pressure', 'node_26_demand']]\n",
      "starting df shape: (87600, 17)\n",
      "This is training run 7 and has the shape:  (87600, 17)\n",
      "The value of dropped columns is 80\n"
     ]
    },
    {
     "name": "stderr",
     "output_type": "stream",
     "text": [
      "/Users/alexellard/opt/anaconda3/lib/python3.7/site-packages/xgboost/data.py:96: UserWarning: Use subset (sliced data) of np.ndarray is not recommended because it will generate extra copies and increase memory consumption\n",
      "  \"because it will generate extra copies and increase \" +\n"
     ]
    },
    {
     "name": "stdout",
     "output_type": "stream",
     "text": [
      "test y shape : (17520, 1)\n",
      "Inv y shape : (17520, 17)\n",
      "y pred shape : (17520, 1)\n",
      "inv y pred : (17520, 17)\n",
      "Run 7 Mean Absolute Error: 86.35727389669205\n",
      "RMSE: 113.179\n",
      "R^2: 0.995\n",
      "[['node_16_demand', 'node_13_pressure', 'node_3_pressure', 'link_30_flow', 'node_23_demand', 'link_8_flow', 'link_23_flow', 'link_2_flow', 'node_7_demand', 'link_13_flow', 'node_25_demand', 'node_16_pressure', 'node_19_demand', 'node_4_demand', 'node_28_pressure', 'link_18_flow', 'node_27_demand', 'node_12_demand', 'node_22_demand', 'link_19_flow', 'node_2_pressure', 'link_25_flow', 'node_9_pressure', 'node_25_pressure', 'node_21_demand', 'link_3_flow', 'node_28_demand', 'node_20_pressure', 'link_29_flow', 'node_1_demand', 'node_21_pressure', 'node_24_pressure', 'link_32_flow', 'node_29_demand', 'node_11_demand', 'link_6_flow', 'node_3_demand', 'link_7_flow', 'node_26_demand', 'node_17_demand', 'link_12_flow', 'link_27_flow', 'node_9_demand', 'node_30_demand', 'node_19_pressure', 'node_2_demand', 'node_15_pressure', 'node_12_pressure', 'node_1_pressure', 'link_24_flow', 'node_6_pressure', 'link_21_flow', 'link_20_flow', 'link_10_flow', 'node_5_pressure', 'node_6_demand', 'link_11_flow', 'node_22_pressure', 'node_29_pressure', 'reservoir_demand', 'link_1_flow', 'node_7_pressure', 'node_4_pressure', 'link_26_flow', 'node_13_demand', 'reservoir_pressure', 'node_14_pressure', 'node_20_demand', 'link_17_flow', 'node_24_demand', 'node_14_demand', 'node_18_demand', 'node_17_pressure', 'link_31_flow', 'node_27_pressure', 'node_23_pressure', 'node_10_pressure', 'link_15_flow', 'node_31_demand']]\n",
      "starting df shape: (87600, 17)\n",
      "This is training run 8 and has the shape:  (87600, 17)\n",
      "The value of dropped columns is 80\n"
     ]
    },
    {
     "name": "stderr",
     "output_type": "stream",
     "text": [
      "/Users/alexellard/opt/anaconda3/lib/python3.7/site-packages/xgboost/data.py:96: UserWarning: Use subset (sliced data) of np.ndarray is not recommended because it will generate extra copies and increase memory consumption\n",
      "  \"because it will generate extra copies and increase \" +\n"
     ]
    },
    {
     "name": "stdout",
     "output_type": "stream",
     "text": [
      "test y shape : (17520, 1)\n",
      "Inv y shape : (17520, 17)\n",
      "y pred shape : (17520, 1)\n",
      "inv y pred : (17520, 17)\n",
      "Run 8 Mean Absolute Error: 5.381145250549515\n",
      "RMSE: 7.062\n",
      "R^2: 0.994\n",
      "[['node_21_pressure', 'node_3_demand', 'link_13_flow', 'link_19_flow', 'node_24_demand', 'node_5_pressure', 'node_13_demand', 'node_25_pressure', 'node_8_demand', 'link_21_flow', 'node_14_pressure', 'node_31_pressure', 'node_16_pressure', 'node_2_demand', 'link_29_flow', 'node_20_pressure', 'link_6_flow', 'link_1_flow', 'node_22_demand', 'node_4_demand', 'link_2_flow', 'node_3_pressure', 'node_19_pressure', 'link_26_flow', 'node_18_pressure', 'link_11_flow', 'node_10_demand', 'link_32_flow', 'node_23_pressure', 'link_27_flow', 'node_8_pressure', 'node_1_demand', 'node_21_demand', 'link_7_flow', 'node_11_demand', 'node_19_demand', 'link_31_flow', 'node_25_demand', 'node_6_demand', 'link_24_flow', 'node_9_pressure', 'link_9_flow', 'node_13_pressure', 'reservoir_demand', 'node_17_pressure', 'node_27_pressure', 'node_6_pressure', 'link_17_flow', 'node_23_demand', 'node_17_demand', 'node_12_pressure', 'node_2_pressure', 'node_16_demand', 'reservoir_pressure', 'link_30_flow', 'node_10_pressure', 'node_9_demand', 'link_12_flow', 'link_8_flow', 'node_4_pressure', 'node_7_pressure', 'link_20_flow', 'node_15_pressure', 'link_28_flow', 'node_22_pressure', 'node_28_pressure', 'node_12_demand', 'node_30_pressure', 'link_25_flow', 'node_29_pressure', 'node_29_demand', 'node_1_pressure', 'link_15_flow', 'node_27_demand', 'link_14_flow', 'node_20_demand', 'link_22_flow', 'node_31_demand', 'node_15_demand']]\n",
      "starting df shape: (87600, 17)\n",
      "This is training run 9 and has the shape:  (87600, 17)\n",
      "The value of dropped columns is 80\n"
     ]
    },
    {
     "name": "stderr",
     "output_type": "stream",
     "text": [
      "/Users/alexellard/opt/anaconda3/lib/python3.7/site-packages/xgboost/data.py:96: UserWarning: Use subset (sliced data) of np.ndarray is not recommended because it will generate extra copies and increase memory consumption\n",
      "  \"because it will generate extra copies and increase \" +\n"
     ]
    },
    {
     "name": "stdout",
     "output_type": "stream",
     "text": [
      "test y shape : (17520, 1)\n",
      "Inv y shape : (17520, 17)\n",
      "y pred shape : (17520, 1)\n",
      "inv y pred : (17520, 17)\n",
      "Run 9 Mean Absolute Error: 5.572354529087218\n",
      "RMSE: 7.278\n",
      "R^2: 0.994\n",
      "[['node_26_pressure', 'node_25_pressure', 'node_19_demand', 'node_2_demand', 'reservoir_demand', 'node_23_pressure', 'link_25_flow', 'node_19_pressure', 'link_5_flow', 'link_7_flow', 'node_31_demand', 'node_12_pressure', 'link_27_flow', 'node_10_pressure', 'node_11_pressure', 'link_28_flow', 'node_28_pressure', 'node_30_pressure', 'link_9_flow', 'node_7_demand', 'link_24_flow', 'link_31_flow', 'node_6_pressure', 'node_9_demand', 'node_20_demand', 'node_14_pressure', 'node_16_demand', 'node_5_demand', 'node_24_demand', 'link_1_flow', 'link_4_flow', 'link_15_flow', 'link_30_flow', 'link_20_flow', 'link_3_flow', 'node_6_demand', 'link_14_flow', 'node_17_demand', 'node_4_demand', 'node_28_demand', 'link_29_flow', 'node_1_pressure', 'node_21_pressure', 'reservoir_pressure', 'node_18_pressure', 'node_8_demand', 'link_22_flow', 'link_8_flow', 'node_12_demand', 'node_16_pressure', 'node_18_demand', 'node_4_pressure', 'node_31_pressure', 'node_1_demand', 'node_21_demand', 'node_9_pressure', 'node_11_demand', 'link_11_flow', 'node_7_pressure', 'node_15_pressure', 'link_21_flow', 'node_27_demand', 'link_23_flow', 'node_3_demand', 'node_22_pressure', 'link_10_flow', 'node_29_demand', 'node_5_pressure', 'node_17_pressure', 'node_13_demand', 'node_30_demand', 'node_24_pressure', 'link_18_flow', 'link_17_flow', 'node_15_demand', 'link_6_flow', 'link_13_flow', 'link_12_flow', 'node_14_demand']]\n",
      "starting df shape: (87600, 17)\n",
      "This is training run 10 and has the shape:  (87600, 17)\n",
      "The value of dropped columns is 80\n"
     ]
    },
    {
     "name": "stderr",
     "output_type": "stream",
     "text": [
      "/Users/alexellard/opt/anaconda3/lib/python3.7/site-packages/xgboost/data.py:96: UserWarning: Use subset (sliced data) of np.ndarray is not recommended because it will generate extra copies and increase memory consumption\n",
      "  \"because it will generate extra copies and increase \" +\n"
     ]
    },
    {
     "name": "stdout",
     "output_type": "stream",
     "text": [
      "test y shape : (17520, 1)\n",
      "Inv y shape : (17520, 17)\n",
      "y pred shape : (17520, 1)\n",
      "inv y pred : (17520, 17)\n",
      "Run 10 Mean Absolute Error: 2.552139759820262\n",
      "RMSE: 3.339\n",
      "R^2: 0.994\n",
      "Length MAE_average:  17\n",
      "Length sensors_covered:  17\n"
     ]
    }
   ],
   "source": [
    "#average scores flows link 1\n",
    "\n",
    "MAE_average = []\n",
    "RMSE_average = []\n",
    "R2_average = []\n",
    "maximum_MAE = []\n",
    "sensors_covered = []\n",
    "n_columns_to_drop = [0, 5, 10, 15, 20, 25, 30, 35, 40, 45, 50, 55, 60, 65, 70, 75, 80]\n",
    "for n in n_columns_to_drop:\n",
    "    MAE = []\n",
    "    RMSE = []\n",
    "    R2 = []\n",
    "    for run in range(1,11):\n",
    "        Y = df[df.columns[79]]\n",
    "        X = df.drop(columns=['link_16_flow'])\n",
    "        X['link_16_flow'] = Y\n",
    "        columns = []\n",
    "        columns_to_drop = random.sample(list(X.columns), n)\n",
    "        # Drop the selected columns from the dataframe\n",
    "        if X.columns[-1] in columns_to_drop:\n",
    "            columns_to_drop.remove(X.columns[-1])\n",
    "        X.drop(columns_to_drop, axis=1, inplace=True)\n",
    "        columns.append(columns_to_drop)\n",
    "        print(columns)\n",
    "        print('starting df shape:', X.shape)\n",
    "        print(f'This is training run {run} and has the shape: ', X.shape)\n",
    "        print(f'The value of dropped columns is {n}')\n",
    "\n",
    "        # split into train and test sets\n",
    "        values = X.values\n",
    "        scaler = MinMaxScaler(feature_range=(0, 1))\n",
    "        scaled = scaler.fit_transform(values)\n",
    "        train, test = train_test_split(scaled, test_size=0.2, random_state=0)\n",
    "\n",
    "        # split into input and outputs\n",
    "        train_X, train_y = train[:, :-1], train[:, -1]\n",
    "        test_X, test_y = test[:, :-1], test[:, -1]\n",
    "\n",
    "        #define model\n",
    "        model = xgb.XGBRegressor(\n",
    "            objective='reg:squarederror',\n",
    "            n_estimators=100,\n",
    "            max_depth=6,\n",
    "            learning_rate=0.1,\n",
    "            subsample=0.9,\n",
    "            colsample_bytree=0.8,\n",
    "            random_state=42\n",
    "        )\n",
    "\n",
    "        # fit the model on the training data\n",
    "        model.fit(train_X, train_y)\n",
    "\n",
    "        # make predictions on the test data\n",
    "        y_pred = model.predict(test_X)\n",
    "\n",
    "        test_y = test_y.reshape((len(test_y), 1))\n",
    "        print('test y shape :', test_y.shape)\n",
    "        inv_test_y = concatenate((test_y, test_X[:, -X.shape[1]:]), axis=1)\n",
    "        print('Inv y shape :', inv_test_y.shape)\n",
    "        test_y_inverse = scaler.inverse_transform(inv_test_y)\n",
    "        test_y_inverse = test_y_inverse[:,0]\n",
    "\n",
    "        y_pred = y_pred.reshape((len(y_pred), 1))\n",
    "        print('y pred shape :', y_pred.shape)\n",
    "        inv_y_pred = concatenate((y_pred, test_X[:, -X.shape[1]:]), axis=1)\n",
    "        print('inv y pred :', inv_y_pred.shape)\n",
    "        y_pred_inverse = scaler.inverse_transform(inv_y_pred)\n",
    "        y_pred_inverse = y_pred_inverse[:,0]\n",
    "\n",
    "        # evaluate scaled errors\n",
    "        mae_inverse = mean_absolute_error(test_y_inverse, y_pred_inverse)\n",
    "        MAE.append(mae_inverse)\n",
    "        print(f'Run {run} Mean Absolute Error:', mae_inverse)\n",
    "        rmse_inverse = sqrt(mean_squared_error(test_y_inverse, y_pred_inverse))\n",
    "        RMSE.append(rmse_inverse)\n",
    "        print('RMSE: %.3f' % rmse_inverse)\n",
    "        r2_inverse = r2_score(test_y_inverse, y_pred_inverse)\n",
    "        R2.append(r2_inverse)\n",
    "        print('R^2: %.3f' % r2_inverse)\n",
    "    percentage_list = round(X.shape[1] / 96 * 100)\n",
    "    sensors_covered.append(percentage_list)\n",
    "    MAE_mean = mean(MAE)\n",
    "    RMSE_mean = mean(RMSE)\n",
    "    R2_mean = mean(R2)\n",
    "    max_MAE = max(MAE)\n",
    "    maximum_MAE.append(max_MAE)\n",
    "    MAE_average.append(MAE_mean)\n",
    "    RMSE_average.append(RMSE_mean)\n",
    "    R2_average.append(R2_mean)\n",
    "print('Length MAE_average: ', len(MAE_average))\n",
    "print('Length sensors_covered: ', len(sensors_covered))"
   ]
  },
  {
   "cell_type": "code",
   "execution_count": 4,
   "metadata": {},
   "outputs": [
    {
     "data": {
      "image/png": "[encoded data removed]",
      "text/plain": [
       "<Figure size 432x288 with 1 Axes>"
      ]
     },
     "metadata": {
      "needs_background": "light"
     },
     "output_type": "display_data"
    }
   ],
   "source": [
    "#run this after cell above finishes training \n",
    "plt.plot(sensors_covered, maximum_MAE)\n",
    "plt.ylabel(\"Mean Absolute Error\")\n",
    "plt.xlabel(\"Sensor Cover %\")\n",
    "plt.title(\"MAE vs. Coverage Flows Link 16\")\n",
    "plt.xlim([100, 0])\n",
    "#plt.savefig('/Users/alexellard/Downloads/Link16FlowsMax.png')\n",
    "plt.show()"
   ]
  },
  {
   "cell_type": "code",
   "execution_count": 7,
   "metadata": {},
   "outputs": [
    {
     "data": {
      "image/png": "[encoded data removed]",
      "text/plain": [
       "<Figure size 576x360 with 2 Axes>"
      ]
     },
     "metadata": {
      "needs_background": "light"
     },
     "output_type": "display_data"
    }
   ],
   "source": [
    "# Create the plot and specify the figure size\n",
    "fig, ax1 = plt.subplots(figsize=(8, 5))\n",
    "\n",
    "# Plot the first line\n",
    "ax1.plot(sensors_covered, maximum_MAE, 'b-', label='Mean Absolute Error')\n",
    "ax1.set_xlabel('Sensor Cover %')\n",
    "ax1.set_ylabel('MAE')\n",
    "\n",
    "# Create a second y-axis\n",
    "ax2 = ax1.twinx()\n",
    "\n",
    "# Plot the second line\n",
    "ax2.plot(sensors_covered, R2_average, 'r-', label='R2')\n",
    "ax2.set_ylabel('R2')\n",
    "\n",
    "# Show legends for both lines\n",
    "lines = [ax1.get_lines()[0], ax2.get_lines()[0]]\n",
    "ax1.legend(lines, [line.get_label() for line in lines])\n",
    "\n",
    "# Show the plot\n",
    "plt.title(\"MAE & R2 vs. Coverage Link 16 Flows\")\n",
    "plt.xlim([100, 0])\n",
    "plt.savefig('/Users/alexellard/Downloads/MAER2Flow.png')\n",
    "plt.show()\n"
   ]
  },
  {
   "cell_type": "code",
   "execution_count": null,
   "metadata": {},
   "outputs": [],
   "source": []
  }
 ],
 "metadata": {
  "kernelspec": {
   "display_name": "Python 3",
   "language": "python",
   "name": "python3"
  },
  "language_info": {
   "codemirror_mode": {
    "name": "ipython",
    "version": 3
   },
   "file_extension": ".py",
   "mimetype": "text/x-python",
   "name": "python",
   "nbconvert_exporter": "python",
   "pygments_lexer": "ipython3",
   "version": "3.7.4"
  }
 },
 "nbformat": 4,
 "nbformat_minor": 2
}
