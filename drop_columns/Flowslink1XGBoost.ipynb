{
 "cells": [
  {
   "cell_type": "code",
   "execution_count": 6,
   "metadata": {},
   "outputs": [],
   "source": [
    "import xgboost as xgb\n",
    "import pandas as pd\n",
    "import numpy as np\n",
    "from sklearn.preprocessing import LabelEncoder\n",
    "from sklearn.preprocessing import MinMaxScaler\n",
    "from sklearn.model_selection import train_test_split\n",
    "from sklearn.metrics import mean_squared_error, mean_absolute_error, r2_score\n",
    "from numpy import concatenate\n",
    "from math import sqrt\n",
    "from statistics import mean\n",
    "import random\n",
    "import matplotlib.pyplot as plt"
   ]
  },
  {
   "cell_type": "code",
   "execution_count": 7,
   "metadata": {},
   "outputs": [
    {
     "data": {
      "text/html": [
       "<div>\n",
       "<style scoped>\n",
       "    .dataframe tbody tr th:only-of-type {\n",
       "        vertical-align: middle;\n",
       "    }\n",
       "\n",
       "    .dataframe tbody tr th {\n",
       "        vertical-align: top;\n",
       "    }\n",
       "\n",
       "    .dataframe thead th {\n",
       "        text-align: right;\n",
       "    }\n",
       "</style>\n",
       "<table border=\"1\" class=\"dataframe\">\n",
       "  <thead>\n",
       "    <tr style=\"text-align: right;\">\n",
       "      <th></th>\n",
       "      <th>reservoir_demand</th>\n",
       "      <th>node_1_demand</th>\n",
       "      <th>node_2_demand</th>\n",
       "      <th>node_3_demand</th>\n",
       "      <th>node_4_demand</th>\n",
       "      <th>node_5_demand</th>\n",
       "      <th>node_6_demand</th>\n",
       "      <th>node_7_demand</th>\n",
       "      <th>node_8_demand</th>\n",
       "      <th>node_9_demand</th>\n",
       "      <th>...</th>\n",
       "      <th>link_23_flow</th>\n",
       "      <th>link_24_flow</th>\n",
       "      <th>link_25_flow</th>\n",
       "      <th>link_26_flow</th>\n",
       "      <th>link_27_flow</th>\n",
       "      <th>link_28_flow</th>\n",
       "      <th>link_29_flow</th>\n",
       "      <th>link_30_flow</th>\n",
       "      <th>link_31_flow</th>\n",
       "      <th>link_32_flow</th>\n",
       "    </tr>\n",
       "    <tr>\n",
       "      <th>Timestamp</th>\n",
       "      <th></th>\n",
       "      <th></th>\n",
       "      <th></th>\n",
       "      <th></th>\n",
       "      <th></th>\n",
       "      <th></th>\n",
       "      <th></th>\n",
       "      <th></th>\n",
       "      <th></th>\n",
       "      <th></th>\n",
       "      <th></th>\n",
       "      <th></th>\n",
       "      <th></th>\n",
       "      <th></th>\n",
       "      <th></th>\n",
       "      <th></th>\n",
       "      <th></th>\n",
       "      <th></th>\n",
       "      <th></th>\n",
       "      <th></th>\n",
       "      <th></th>\n",
       "    </tr>\n",
       "  </thead>\n",
       "  <tbody>\n",
       "    <tr>\n",
       "      <th>2017-01-01 00:00:00</th>\n",
       "      <td>-3348.0</td>\n",
       "      <td>154.8</td>\n",
       "      <td>169.2</td>\n",
       "      <td>18.0</td>\n",
       "      <td>118.8</td>\n",
       "      <td>169.2</td>\n",
       "      <td>234.0</td>\n",
       "      <td>86.4</td>\n",
       "      <td>82.8</td>\n",
       "      <td>104.4</td>\n",
       "      <td>...</td>\n",
       "      <td>439.2</td>\n",
       "      <td>-205.2</td>\n",
       "      <td>-75.6</td>\n",
       "      <td>-18.0</td>\n",
       "      <td>118.8</td>\n",
       "      <td>68.4</td>\n",
       "      <td>7.2</td>\n",
       "      <td>-54.0</td>\n",
       "      <td>75.6</td>\n",
       "      <td>212.4</td>\n",
       "    </tr>\n",
       "    <tr>\n",
       "      <th>2017-01-01 00:30:00</th>\n",
       "      <td>-2959.2</td>\n",
       "      <td>136.8</td>\n",
       "      <td>147.6</td>\n",
       "      <td>18.0</td>\n",
       "      <td>108.0</td>\n",
       "      <td>144.0</td>\n",
       "      <td>237.6</td>\n",
       "      <td>79.2</td>\n",
       "      <td>75.6</td>\n",
       "      <td>90.0</td>\n",
       "      <td>...</td>\n",
       "      <td>392.4</td>\n",
       "      <td>-187.2</td>\n",
       "      <td>-72.0</td>\n",
       "      <td>-21.6</td>\n",
       "      <td>108.0</td>\n",
       "      <td>61.2</td>\n",
       "      <td>3.6</td>\n",
       "      <td>-54.0</td>\n",
       "      <td>72.0</td>\n",
       "      <td>183.6</td>\n",
       "    </tr>\n",
       "    <tr>\n",
       "      <th>2017-01-01 01:00:00</th>\n",
       "      <td>-2692.8</td>\n",
       "      <td>129.6</td>\n",
       "      <td>126.0</td>\n",
       "      <td>14.4</td>\n",
       "      <td>104.4</td>\n",
       "      <td>133.2</td>\n",
       "      <td>205.2</td>\n",
       "      <td>72.0</td>\n",
       "      <td>72.0</td>\n",
       "      <td>90.0</td>\n",
       "      <td>...</td>\n",
       "      <td>349.2</td>\n",
       "      <td>-176.4</td>\n",
       "      <td>-64.8</td>\n",
       "      <td>-18.0</td>\n",
       "      <td>93.6</td>\n",
       "      <td>50.4</td>\n",
       "      <td>3.6</td>\n",
       "      <td>-39.6</td>\n",
       "      <td>54.0</td>\n",
       "      <td>151.2</td>\n",
       "    </tr>\n",
       "    <tr>\n",
       "      <th>2017-01-01 01:30:00</th>\n",
       "      <td>-2379.6</td>\n",
       "      <td>104.4</td>\n",
       "      <td>100.8</td>\n",
       "      <td>10.8</td>\n",
       "      <td>86.4</td>\n",
       "      <td>122.4</td>\n",
       "      <td>180.0</td>\n",
       "      <td>68.4</td>\n",
       "      <td>57.6</td>\n",
       "      <td>82.8</td>\n",
       "      <td>...</td>\n",
       "      <td>316.8</td>\n",
       "      <td>-158.4</td>\n",
       "      <td>-54.0</td>\n",
       "      <td>-10.8</td>\n",
       "      <td>79.2</td>\n",
       "      <td>46.8</td>\n",
       "      <td>7.2</td>\n",
       "      <td>-32.4</td>\n",
       "      <td>50.4</td>\n",
       "      <td>140.4</td>\n",
       "    </tr>\n",
       "    <tr>\n",
       "      <th>2017-01-01 02:00:00</th>\n",
       "      <td>-2228.4</td>\n",
       "      <td>104.4</td>\n",
       "      <td>104.4</td>\n",
       "      <td>10.8</td>\n",
       "      <td>79.2</td>\n",
       "      <td>122.4</td>\n",
       "      <td>183.6</td>\n",
       "      <td>68.4</td>\n",
       "      <td>54.0</td>\n",
       "      <td>75.6</td>\n",
       "      <td>...</td>\n",
       "      <td>277.2</td>\n",
       "      <td>-144.0</td>\n",
       "      <td>-57.6</td>\n",
       "      <td>-18.0</td>\n",
       "      <td>72.0</td>\n",
       "      <td>39.6</td>\n",
       "      <td>7.2</td>\n",
       "      <td>-32.4</td>\n",
       "      <td>43.2</td>\n",
       "      <td>118.8</td>\n",
       "    </tr>\n",
       "    <tr>\n",
       "      <th>...</th>\n",
       "      <td>...</td>\n",
       "      <td>...</td>\n",
       "      <td>...</td>\n",
       "      <td>...</td>\n",
       "      <td>...</td>\n",
       "      <td>...</td>\n",
       "      <td>...</td>\n",
       "      <td>...</td>\n",
       "      <td>...</td>\n",
       "      <td>...</td>\n",
       "      <td>...</td>\n",
       "      <td>...</td>\n",
       "      <td>...</td>\n",
       "      <td>...</td>\n",
       "      <td>...</td>\n",
       "      <td>...</td>\n",
       "      <td>...</td>\n",
       "      <td>...</td>\n",
       "      <td>...</td>\n",
       "      <td>...</td>\n",
       "      <td>...</td>\n",
       "    </tr>\n",
       "    <tr>\n",
       "      <th>2017-12-31 21:30:00</th>\n",
       "      <td>-5306.4</td>\n",
       "      <td>205.2</td>\n",
       "      <td>208.8</td>\n",
       "      <td>39.6</td>\n",
       "      <td>183.6</td>\n",
       "      <td>284.4</td>\n",
       "      <td>316.8</td>\n",
       "      <td>176.4</td>\n",
       "      <td>133.2</td>\n",
       "      <td>129.6</td>\n",
       "      <td>...</td>\n",
       "      <td>604.8</td>\n",
       "      <td>-259.2</td>\n",
       "      <td>32.4</td>\n",
       "      <td>115.2</td>\n",
       "      <td>169.2</td>\n",
       "      <td>100.8</td>\n",
       "      <td>10.8</td>\n",
       "      <td>-100.8</td>\n",
       "      <td>122.4</td>\n",
       "      <td>309.6</td>\n",
       "    </tr>\n",
       "    <tr>\n",
       "      <th>2017-12-31 22:00:00</th>\n",
       "      <td>-4910.4</td>\n",
       "      <td>208.8</td>\n",
       "      <td>183.6</td>\n",
       "      <td>39.6</td>\n",
       "      <td>154.8</td>\n",
       "      <td>252.0</td>\n",
       "      <td>295.2</td>\n",
       "      <td>165.6</td>\n",
       "      <td>133.2</td>\n",
       "      <td>133.2</td>\n",
       "      <td>...</td>\n",
       "      <td>565.2</td>\n",
       "      <td>-241.2</td>\n",
       "      <td>21.6</td>\n",
       "      <td>100.8</td>\n",
       "      <td>154.8</td>\n",
       "      <td>86.4</td>\n",
       "      <td>18.0</td>\n",
       "      <td>-75.6</td>\n",
       "      <td>100.8</td>\n",
       "      <td>288.0</td>\n",
       "    </tr>\n",
       "    <tr>\n",
       "      <th>2017-12-31 22:30:00</th>\n",
       "      <td>-4683.6</td>\n",
       "      <td>187.2</td>\n",
       "      <td>183.6</td>\n",
       "      <td>36.0</td>\n",
       "      <td>147.6</td>\n",
       "      <td>230.4</td>\n",
       "      <td>320.4</td>\n",
       "      <td>147.6</td>\n",
       "      <td>118.8</td>\n",
       "      <td>126.0</td>\n",
       "      <td>...</td>\n",
       "      <td>529.2</td>\n",
       "      <td>-226.8</td>\n",
       "      <td>21.6</td>\n",
       "      <td>100.8</td>\n",
       "      <td>147.6</td>\n",
       "      <td>86.4</td>\n",
       "      <td>14.4</td>\n",
       "      <td>-86.4</td>\n",
       "      <td>108.0</td>\n",
       "      <td>266.4</td>\n",
       "    </tr>\n",
       "    <tr>\n",
       "      <th>2017-12-31 23:00:00</th>\n",
       "      <td>-4262.4</td>\n",
       "      <td>180.0</td>\n",
       "      <td>165.6</td>\n",
       "      <td>32.4</td>\n",
       "      <td>136.8</td>\n",
       "      <td>223.2</td>\n",
       "      <td>241.2</td>\n",
       "      <td>147.6</td>\n",
       "      <td>115.2</td>\n",
       "      <td>111.6</td>\n",
       "      <td>...</td>\n",
       "      <td>496.8</td>\n",
       "      <td>-208.8</td>\n",
       "      <td>21.6</td>\n",
       "      <td>93.6</td>\n",
       "      <td>133.2</td>\n",
       "      <td>79.2</td>\n",
       "      <td>14.4</td>\n",
       "      <td>-75.6</td>\n",
       "      <td>97.2</td>\n",
       "      <td>255.6</td>\n",
       "    </tr>\n",
       "    <tr>\n",
       "      <th>2017-12-31 23:30:00</th>\n",
       "      <td>-3808.8</td>\n",
       "      <td>176.4</td>\n",
       "      <td>169.2</td>\n",
       "      <td>25.2</td>\n",
       "      <td>122.4</td>\n",
       "      <td>201.6</td>\n",
       "      <td>241.2</td>\n",
       "      <td>122.4</td>\n",
       "      <td>100.8</td>\n",
       "      <td>93.6</td>\n",
       "      <td>...</td>\n",
       "      <td>421.2</td>\n",
       "      <td>-180.0</td>\n",
       "      <td>28.8</td>\n",
       "      <td>86.4</td>\n",
       "      <td>118.8</td>\n",
       "      <td>68.4</td>\n",
       "      <td>10.8</td>\n",
       "      <td>-68.4</td>\n",
       "      <td>86.4</td>\n",
       "      <td>216.0</td>\n",
       "    </tr>\n",
       "  </tbody>\n",
       "</table>\n",
       "<p>87600 rows × 96 columns</p>\n",
       "</div>"
      ],
      "text/plain": [
       "                     reservoir_demand  node_1_demand  node_2_demand  \\\n",
       "Timestamp                                                             \n",
       "2017-01-01 00:00:00           -3348.0          154.8          169.2   \n",
       "2017-01-01 00:30:00           -2959.2          136.8          147.6   \n",
       "2017-01-01 01:00:00           -2692.8          129.6          126.0   \n",
       "2017-01-01 01:30:00           -2379.6          104.4          100.8   \n",
       "2017-01-01 02:00:00           -2228.4          104.4          104.4   \n",
       "...                               ...            ...            ...   \n",
       "2017-12-31 21:30:00           -5306.4          205.2          208.8   \n",
       "2017-12-31 22:00:00           -4910.4          208.8          183.6   \n",
       "2017-12-31 22:30:00           -4683.6          187.2          183.6   \n",
       "2017-12-31 23:00:00           -4262.4          180.0          165.6   \n",
       "2017-12-31 23:30:00           -3808.8          176.4          169.2   \n",
       "\n",
       "                     node_3_demand  node_4_demand  node_5_demand  \\\n",
       "Timestamp                                                          \n",
       "2017-01-01 00:00:00           18.0          118.8          169.2   \n",
       "2017-01-01 00:30:00           18.0          108.0          144.0   \n",
       "2017-01-01 01:00:00           14.4          104.4          133.2   \n",
       "2017-01-01 01:30:00           10.8           86.4          122.4   \n",
       "2017-01-01 02:00:00           10.8           79.2          122.4   \n",
       "...                            ...            ...            ...   \n",
       "2017-12-31 21:30:00           39.6          183.6          284.4   \n",
       "2017-12-31 22:00:00           39.6          154.8          252.0   \n",
       "2017-12-31 22:30:00           36.0          147.6          230.4   \n",
       "2017-12-31 23:00:00           32.4          136.8          223.2   \n",
       "2017-12-31 23:30:00           25.2          122.4          201.6   \n",
       "\n",
       "                     node_6_demand  node_7_demand  node_8_demand  \\\n",
       "Timestamp                                                          \n",
       "2017-01-01 00:00:00          234.0           86.4           82.8   \n",
       "2017-01-01 00:30:00          237.6           79.2           75.6   \n",
       "2017-01-01 01:00:00          205.2           72.0           72.0   \n",
       "2017-01-01 01:30:00          180.0           68.4           57.6   \n",
       "2017-01-01 02:00:00          183.6           68.4           54.0   \n",
       "...                            ...            ...            ...   \n",
       "2017-12-31 21:30:00          316.8          176.4          133.2   \n",
       "2017-12-31 22:00:00          295.2          165.6          133.2   \n",
       "2017-12-31 22:30:00          320.4          147.6          118.8   \n",
       "2017-12-31 23:00:00          241.2          147.6          115.2   \n",
       "2017-12-31 23:30:00          241.2          122.4          100.8   \n",
       "\n",
       "                     node_9_demand  ...  link_23_flow  link_24_flow  \\\n",
       "Timestamp                           ...                               \n",
       "2017-01-01 00:00:00          104.4  ...         439.2        -205.2   \n",
       "2017-01-01 00:30:00           90.0  ...         392.4        -187.2   \n",
       "2017-01-01 01:00:00           90.0  ...         349.2        -176.4   \n",
       "2017-01-01 01:30:00           82.8  ...         316.8        -158.4   \n",
       "2017-01-01 02:00:00           75.6  ...         277.2        -144.0   \n",
       "...                            ...  ...           ...           ...   \n",
       "2017-12-31 21:30:00          129.6  ...         604.8        -259.2   \n",
       "2017-12-31 22:00:00          133.2  ...         565.2        -241.2   \n",
       "2017-12-31 22:30:00          126.0  ...         529.2        -226.8   \n",
       "2017-12-31 23:00:00          111.6  ...         496.8        -208.8   \n",
       "2017-12-31 23:30:00           93.6  ...         421.2        -180.0   \n",
       "\n",
       "                     link_25_flow  link_26_flow  link_27_flow  link_28_flow  \\\n",
       "Timestamp                                                                     \n",
       "2017-01-01 00:00:00         -75.6         -18.0         118.8          68.4   \n",
       "2017-01-01 00:30:00         -72.0         -21.6         108.0          61.2   \n",
       "2017-01-01 01:00:00         -64.8         -18.0          93.6          50.4   \n",
       "2017-01-01 01:30:00         -54.0         -10.8          79.2          46.8   \n",
       "2017-01-01 02:00:00         -57.6         -18.0          72.0          39.6   \n",
       "...                           ...           ...           ...           ...   \n",
       "2017-12-31 21:30:00          32.4         115.2         169.2         100.8   \n",
       "2017-12-31 22:00:00          21.6         100.8         154.8          86.4   \n",
       "2017-12-31 22:30:00          21.6         100.8         147.6          86.4   \n",
       "2017-12-31 23:00:00          21.6          93.6         133.2          79.2   \n",
       "2017-12-31 23:30:00          28.8          86.4         118.8          68.4   \n",
       "\n",
       "                     link_29_flow  link_30_flow  link_31_flow  link_32_flow  \n",
       "Timestamp                                                                    \n",
       "2017-01-01 00:00:00           7.2         -54.0          75.6         212.4  \n",
       "2017-01-01 00:30:00           3.6         -54.0          72.0         183.6  \n",
       "2017-01-01 01:00:00           3.6         -39.6          54.0         151.2  \n",
       "2017-01-01 01:30:00           7.2         -32.4          50.4         140.4  \n",
       "2017-01-01 02:00:00           7.2         -32.4          43.2         118.8  \n",
       "...                           ...           ...           ...           ...  \n",
       "2017-12-31 21:30:00          10.8        -100.8         122.4         309.6  \n",
       "2017-12-31 22:00:00          18.0         -75.6         100.8         288.0  \n",
       "2017-12-31 22:30:00          14.4         -86.4         108.0         266.4  \n",
       "2017-12-31 23:00:00          14.4         -75.6          97.2         255.6  \n",
       "2017-12-31 23:30:00          10.8         -68.4          86.4         216.0  \n",
       "\n",
       "[87600 rows x 96 columns]"
      ]
     },
     "execution_count": 7,
     "metadata": {},
     "output_type": "execute_result"
    }
   ],
   "source": [
    "df = pd.read_csv('/Users/alexellard/Downloads/scenarios_data.csv', header=0, index_col=0)\n",
    "df"
   ]
  },
  {
   "cell_type": "code",
   "execution_count": 8,
   "metadata": {},
   "outputs": [
    {
     "name": "stdout",
     "output_type": "stream",
     "text": [
      "[[]]\n",
      "starting df shape: (87600, 96)\n",
      "This is training run 1 and has the shape:  (87600, 96)\n",
      "The value of dropped columns is 0\n"
     ]
    },
    {
     "name": "stderr",
     "output_type": "stream",
     "text": [
      "/Users/alexellard/opt/anaconda3/lib/python3.7/site-packages/xgboost/data.py:96: UserWarning: Use subset (sliced data) of np.ndarray is not recommended because it will generate extra copies and increase memory consumption\n",
      "  \"because it will generate extra copies and increase \" +\n"
     ]
    },
    {
     "name": "stdout",
     "output_type": "stream",
     "text": [
      "test y shape : (17520, 1)\n",
      "Inv y shape : (17520, 96)\n",
      "y pred shape : (17520, 1)\n",
      "inv y pred : (17520, 96)\n",
      "Run 1 Mean Absolute Error: 4.2262262918320435\n",
      "RMSE: 5.560\n",
      "R^2: 1.000\n",
      "[[]]\n",
      "starting df shape: (87600, 96)\n",
      "This is training run 2 and has the shape:  (87600, 96)\n",
      "The value of dropped columns is 0\n"
     ]
    },
    {
     "name": "stderr",
     "output_type": "stream",
     "text": [
      "/Users/alexellard/opt/anaconda3/lib/python3.7/site-packages/xgboost/data.py:96: UserWarning: Use subset (sliced data) of np.ndarray is not recommended because it will generate extra copies and increase memory consumption\n",
      "  \"because it will generate extra copies and increase \" +\n"
     ]
    },
    {
     "name": "stdout",
     "output_type": "stream",
     "text": [
      "test y shape : (17520, 1)\n",
      "Inv y shape : (17520, 96)\n",
      "y pred shape : (17520, 1)\n",
      "inv y pred : (17520, 96)\n",
      "Run 2 Mean Absolute Error: 4.2262262918320435\n",
      "RMSE: 5.560\n",
      "R^2: 1.000\n",
      "[[]]\n",
      "starting df shape: (87600, 96)\n",
      "This is training run 3 and has the shape:  (87600, 96)\n",
      "The value of dropped columns is 0\n"
     ]
    },
    {
     "name": "stderr",
     "output_type": "stream",
     "text": [
      "/Users/alexellard/opt/anaconda3/lib/python3.7/site-packages/xgboost/data.py:96: UserWarning: Use subset (sliced data) of np.ndarray is not recommended because it will generate extra copies and increase memory consumption\n",
      "  \"because it will generate extra copies and increase \" +\n"
     ]
    },
    {
     "name": "stdout",
     "output_type": "stream",
     "text": [
      "test y shape : (17520, 1)\n",
      "Inv y shape : (17520, 96)\n",
      "y pred shape : (17520, 1)\n",
      "inv y pred : (17520, 96)\n",
      "Run 3 Mean Absolute Error: 4.2262262918320435\n",
      "RMSE: 5.560\n",
      "R^2: 1.000\n",
      "[[]]\n",
      "starting df shape: (87600, 96)\n",
      "This is training run 4 and has the shape:  (87600, 96)\n",
      "The value of dropped columns is 0\n"
     ]
    },
    {
     "name": "stderr",
     "output_type": "stream",
     "text": [
      "/Users/alexellard/opt/anaconda3/lib/python3.7/site-packages/xgboost/data.py:96: UserWarning: Use subset (sliced data) of np.ndarray is not recommended because it will generate extra copies and increase memory consumption\n",
      "  \"because it will generate extra copies and increase \" +\n"
     ]
    },
    {
     "name": "stdout",
     "output_type": "stream",
     "text": [
      "test y shape : (17520, 1)\n",
      "Inv y shape : (17520, 96)\n",
      "y pred shape : (17520, 1)\n",
      "inv y pred : (17520, 96)\n",
      "Run 4 Mean Absolute Error: 4.2262262918320435\n",
      "RMSE: 5.560\n",
      "R^2: 1.000\n",
      "[[]]\n",
      "starting df shape: (87600, 96)\n",
      "This is training run 5 and has the shape:  (87600, 96)\n",
      "The value of dropped columns is 0\n"
     ]
    },
    {
     "name": "stderr",
     "output_type": "stream",
     "text": [
      "/Users/alexellard/opt/anaconda3/lib/python3.7/site-packages/xgboost/data.py:96: UserWarning: Use subset (sliced data) of np.ndarray is not recommended because it will generate extra copies and increase memory consumption\n",
      "  \"because it will generate extra copies and increase \" +\n"
     ]
    },
    {
     "name": "stdout",
     "output_type": "stream",
     "text": [
      "test y shape : (17520, 1)\n",
      "Inv y shape : (17520, 96)\n",
      "y pred shape : (17520, 1)\n",
      "inv y pred : (17520, 96)\n",
      "Run 5 Mean Absolute Error: 4.2262262918320435\n",
      "RMSE: 5.560\n",
      "R^2: 1.000\n",
      "[[]]\n",
      "starting df shape: (87600, 96)\n",
      "This is training run 6 and has the shape:  (87600, 96)\n",
      "The value of dropped columns is 0\n"
     ]
    },
    {
     "name": "stderr",
     "output_type": "stream",
     "text": [
      "/Users/alexellard/opt/anaconda3/lib/python3.7/site-packages/xgboost/data.py:96: UserWarning: Use subset (sliced data) of np.ndarray is not recommended because it will generate extra copies and increase memory consumption\n",
      "  \"because it will generate extra copies and increase \" +\n"
     ]
    },
    {
     "name": "stdout",
     "output_type": "stream",
     "text": [
      "test y shape : (17520, 1)\n",
      "Inv y shape : (17520, 96)\n",
      "y pred shape : (17520, 1)\n",
      "inv y pred : (17520, 96)\n",
      "Run 6 Mean Absolute Error: 4.2262262918320435\n",
      "RMSE: 5.560\n",
      "R^2: 1.000\n",
      "[[]]\n",
      "starting df shape: (87600, 96)\n",
      "This is training run 7 and has the shape:  (87600, 96)\n",
      "The value of dropped columns is 0\n"
     ]
    },
    {
     "name": "stderr",
     "output_type": "stream",
     "text": [
      "/Users/alexellard/opt/anaconda3/lib/python3.7/site-packages/xgboost/data.py:96: UserWarning: Use subset (sliced data) of np.ndarray is not recommended because it will generate extra copies and increase memory consumption\n",
      "  \"because it will generate extra copies and increase \" +\n"
     ]
    },
    {
     "name": "stdout",
     "output_type": "stream",
     "text": [
      "test y shape : (17520, 1)\n",
      "Inv y shape : (17520, 96)\n",
      "y pred shape : (17520, 1)\n",
      "inv y pred : (17520, 96)\n",
      "Run 7 Mean Absolute Error: 4.2262262918320435\n",
      "RMSE: 5.560\n",
      "R^2: 1.000\n",
      "[[]]\n",
      "starting df shape: (87600, 96)\n",
      "This is training run 8 and has the shape:  (87600, 96)\n",
      "The value of dropped columns is 0\n"
     ]
    },
    {
     "name": "stderr",
     "output_type": "stream",
     "text": [
      "/Users/alexellard/opt/anaconda3/lib/python3.7/site-packages/xgboost/data.py:96: UserWarning: Use subset (sliced data) of np.ndarray is not recommended because it will generate extra copies and increase memory consumption\n",
      "  \"because it will generate extra copies and increase \" +\n"
     ]
    },
    {
     "name": "stdout",
     "output_type": "stream",
     "text": [
      "test y shape : (17520, 1)\n",
      "Inv y shape : (17520, 96)\n",
      "y pred shape : (17520, 1)\n",
      "inv y pred : (17520, 96)\n",
      "Run 8 Mean Absolute Error: 4.2262262918320435\n",
      "RMSE: 5.560\n",
      "R^2: 1.000\n",
      "[[]]\n",
      "starting df shape: (87600, 96)\n",
      "This is training run 9 and has the shape:  (87600, 96)\n",
      "The value of dropped columns is 0\n"
     ]
    },
    {
     "name": "stderr",
     "output_type": "stream",
     "text": [
      "/Users/alexellard/opt/anaconda3/lib/python3.7/site-packages/xgboost/data.py:96: UserWarning: Use subset (sliced data) of np.ndarray is not recommended because it will generate extra copies and increase memory consumption\n",
      "  \"because it will generate extra copies and increase \" +\n"
     ]
    },
    {
     "name": "stdout",
     "output_type": "stream",
     "text": [
      "test y shape : (17520, 1)\n",
      "Inv y shape : (17520, 96)\n",
      "y pred shape : (17520, 1)\n",
      "inv y pred : (17520, 96)\n",
      "Run 9 Mean Absolute Error: 4.2262262918320435\n",
      "RMSE: 5.560\n",
      "R^2: 1.000\n",
      "[[]]\n",
      "starting df shape: (87600, 96)\n",
      "This is training run 10 and has the shape:  (87600, 96)\n",
      "The value of dropped columns is 0\n"
     ]
    },
    {
     "name": "stderr",
     "output_type": "stream",
     "text": [
      "/Users/alexellard/opt/anaconda3/lib/python3.7/site-packages/xgboost/data.py:96: UserWarning: Use subset (sliced data) of np.ndarray is not recommended because it will generate extra copies and increase memory consumption\n",
      "  \"because it will generate extra copies and increase \" +\n"
     ]
    },
    {
     "name": "stdout",
     "output_type": "stream",
     "text": [
      "test y shape : (17520, 1)\n",
      "Inv y shape : (17520, 96)\n",
      "y pred shape : (17520, 1)\n",
      "inv y pred : (17520, 96)\n",
      "Run 10 Mean Absolute Error: 4.2262262918320435\n",
      "RMSE: 5.560\n",
      "R^2: 1.000\n",
      "[['node_26_demand', 'node_4_pressure', 'link_4_flow', 'node_19_demand', 'node_20_demand']]\n",
      "starting df shape: (87600, 91)\n",
      "This is training run 1 and has the shape:  (87600, 91)\n",
      "The value of dropped columns is 5\n"
     ]
    },
    {
     "name": "stderr",
     "output_type": "stream",
     "text": [
      "/Users/alexellard/opt/anaconda3/lib/python3.7/site-packages/xgboost/data.py:96: UserWarning: Use subset (sliced data) of np.ndarray is not recommended because it will generate extra copies and increase memory consumption\n",
      "  \"because it will generate extra copies and increase \" +\n"
     ]
    },
    {
     "name": "stdout",
     "output_type": "stream",
     "text": [
      "test y shape : (17520, 1)\n",
      "Inv y shape : (17520, 91)\n",
      "y pred shape : (17520, 1)\n",
      "inv y pred : (17520, 91)\n",
      "Run 1 Mean Absolute Error: 3.0228850673200407\n",
      "RMSE: 4.008\n",
      "R^2: 1.000\n",
      "[['node_31_pressure', 'link_6_flow', 'link_17_flow', 'link_8_flow', 'node_21_demand']]\n",
      "starting df shape: (87600, 91)\n",
      "This is training run 2 and has the shape:  (87600, 91)\n",
      "The value of dropped columns is 5\n"
     ]
    },
    {
     "name": "stderr",
     "output_type": "stream",
     "text": [
      "/Users/alexellard/opt/anaconda3/lib/python3.7/site-packages/xgboost/data.py:96: UserWarning: Use subset (sliced data) of np.ndarray is not recommended because it will generate extra copies and increase memory consumption\n",
      "  \"because it will generate extra copies and increase \" +\n"
     ]
    },
    {
     "name": "stdout",
     "output_type": "stream",
     "text": [
      "test y shape : (17520, 1)\n",
      "Inv y shape : (17520, 91)\n",
      "y pred shape : (17520, 1)\n",
      "inv y pred : (17520, 91)\n",
      "Run 2 Mean Absolute Error: 4.633197009461384\n",
      "RMSE: 6.161\n",
      "R^2: 1.000\n",
      "[['node_16_pressure', 'node_27_pressure', 'node_20_pressure', 'link_10_flow', 'node_26_demand']]\n",
      "starting df shape: (87600, 91)\n",
      "This is training run 3 and has the shape:  (87600, 91)\n",
      "The value of dropped columns is 5\n"
     ]
    },
    {
     "name": "stderr",
     "output_type": "stream",
     "text": [
      "/Users/alexellard/opt/anaconda3/lib/python3.7/site-packages/xgboost/data.py:96: UserWarning: Use subset (sliced data) of np.ndarray is not recommended because it will generate extra copies and increase memory consumption\n",
      "  \"because it will generate extra copies and increase \" +\n"
     ]
    },
    {
     "name": "stdout",
     "output_type": "stream",
     "text": [
      "test y shape : (17520, 1)\n",
      "Inv y shape : (17520, 91)\n",
      "y pred shape : (17520, 1)\n",
      "inv y pred : (17520, 91)\n",
      "Run 3 Mean Absolute Error: 3.030508157565986\n",
      "RMSE: 4.009\n",
      "R^2: 1.000\n",
      "[['node_1_demand', 'link_28_flow', 'node_11_demand', 'node_22_pressure', 'link_15_flow']]\n",
      "starting df shape: (87600, 91)\n",
      "This is training run 4 and has the shape:  (87600, 91)\n",
      "The value of dropped columns is 5\n"
     ]
    },
    {
     "name": "stderr",
     "output_type": "stream",
     "text": [
      "/Users/alexellard/opt/anaconda3/lib/python3.7/site-packages/xgboost/data.py:96: UserWarning: Use subset (sliced data) of np.ndarray is not recommended because it will generate extra copies and increase memory consumption\n",
      "  \"because it will generate extra copies and increase \" +\n"
     ]
    },
    {
     "name": "stdout",
     "output_type": "stream",
     "text": [
      "test y shape : (17520, 1)\n",
      "Inv y shape : (17520, 91)\n",
      "y pred shape : (17520, 1)\n",
      "inv y pred : (17520, 91)\n",
      "Run 4 Mean Absolute Error: 4.689444454418475\n",
      "RMSE: 6.131\n",
      "R^2: 1.000\n",
      "[['link_25_flow', 'node_16_demand', 'link_31_flow', 'link_15_flow', 'node_23_demand']]\n",
      "starting df shape: (87600, 91)\n",
      "This is training run 5 and has the shape:  (87600, 91)\n",
      "The value of dropped columns is 5\n"
     ]
    },
    {
     "name": "stderr",
     "output_type": "stream",
     "text": [
      "/Users/alexellard/opt/anaconda3/lib/python3.7/site-packages/xgboost/data.py:96: UserWarning: Use subset (sliced data) of np.ndarray is not recommended because it will generate extra copies and increase memory consumption\n",
      "  \"because it will generate extra copies and increase \" +\n"
     ]
    },
    {
     "name": "stdout",
     "output_type": "stream",
     "text": [
      "test y shape : (17520, 1)\n",
      "Inv y shape : (17520, 91)\n",
      "y pred shape : (17520, 1)\n",
      "inv y pred : (17520, 91)\n",
      "Run 5 Mean Absolute Error: 4.579561537941026\n",
      "RMSE: 6.096\n",
      "R^2: 1.000\n",
      "[['node_12_demand', 'link_6_flow', 'node_26_pressure', 'node_3_demand', 'link_15_flow']]\n",
      "starting df shape: (87600, 91)\n",
      "This is training run 6 and has the shape:  (87600, 91)\n",
      "The value of dropped columns is 5\n"
     ]
    },
    {
     "name": "stderr",
     "output_type": "stream",
     "text": [
      "/Users/alexellard/opt/anaconda3/lib/python3.7/site-packages/xgboost/data.py:96: UserWarning: Use subset (sliced data) of np.ndarray is not recommended because it will generate extra copies and increase memory consumption\n",
      "  \"because it will generate extra copies and increase \" +\n"
     ]
    },
    {
     "name": "stdout",
     "output_type": "stream",
     "text": [
      "test y shape : (17520, 1)\n",
      "Inv y shape : (17520, 91)\n",
      "y pred shape : (17520, 1)\n",
      "inv y pred : (17520, 91)\n",
      "Run 6 Mean Absolute Error: 3.9880327588809723\n",
      "RMSE: 5.250\n",
      "R^2: 1.000\n",
      "[['node_14_pressure', 'link_3_flow', 'link_7_flow', 'node_7_demand', 'link_12_flow']]\n",
      "starting df shape: (87600, 91)\n",
      "This is training run 7 and has the shape:  (87600, 91)\n",
      "The value of dropped columns is 5\n"
     ]
    },
    {
     "name": "stderr",
     "output_type": "stream",
     "text": [
      "/Users/alexellard/opt/anaconda3/lib/python3.7/site-packages/xgboost/data.py:96: UserWarning: Use subset (sliced data) of np.ndarray is not recommended because it will generate extra copies and increase memory consumption\n",
      "  \"because it will generate extra copies and increase \" +\n"
     ]
    },
    {
     "name": "stdout",
     "output_type": "stream",
     "text": [
      "test y shape : (17520, 1)\n",
      "Inv y shape : (17520, 91)\n",
      "y pred shape : (17520, 1)\n",
      "inv y pred : (17520, 91)\n",
      "Run 7 Mean Absolute Error: 4.810772857502723\n",
      "RMSE: 6.381\n",
      "R^2: 1.000\n",
      "[['link_3_flow', 'node_20_demand', 'node_10_demand', 'node_30_demand']]\n",
      "starting df shape: (87600, 92)\n",
      "This is training run 8 and has the shape:  (87600, 92)\n",
      "The value of dropped columns is 5\n"
     ]
    },
    {
     "name": "stderr",
     "output_type": "stream",
     "text": [
      "/Users/alexellard/opt/anaconda3/lib/python3.7/site-packages/xgboost/data.py:96: UserWarning: Use subset (sliced data) of np.ndarray is not recommended because it will generate extra copies and increase memory consumption\n",
      "  \"because it will generate extra copies and increase \" +\n"
     ]
    },
    {
     "name": "stdout",
     "output_type": "stream",
     "text": [
      "test y shape : (17520, 1)\n",
      "Inv y shape : (17520, 92)\n",
      "y pred shape : (17520, 1)\n",
      "inv y pred : (17520, 92)\n",
      "Run 8 Mean Absolute Error: 2.6103840211237936\n",
      "RMSE: 3.517\n",
      "R^2: 1.000\n",
      "[['node_21_demand', 'node_15_pressure', 'node_21_pressure', 'node_11_demand', 'link_16_flow']]\n",
      "starting df shape: (87600, 91)\n",
      "This is training run 9 and has the shape:  (87600, 91)\n",
      "The value of dropped columns is 5\n"
     ]
    },
    {
     "name": "stderr",
     "output_type": "stream",
     "text": [
      "/Users/alexellard/opt/anaconda3/lib/python3.7/site-packages/xgboost/data.py:96: UserWarning: Use subset (sliced data) of np.ndarray is not recommended because it will generate extra copies and increase memory consumption\n",
      "  \"because it will generate extra copies and increase \" +\n"
     ]
    },
    {
     "name": "stdout",
     "output_type": "stream",
     "text": [
      "test y shape : (17520, 1)\n",
      "Inv y shape : (17520, 91)\n",
      "y pred shape : (17520, 1)\n",
      "inv y pred : (17520, 91)\n",
      "Run 9 Mean Absolute Error: 3.0288455068167037\n",
      "RMSE: 4.009\n",
      "R^2: 1.000\n",
      "[['node_20_pressure', 'link_9_flow', 'node_29_demand', 'node_20_demand', 'node_9_demand']]\n",
      "starting df shape: (87600, 91)\n",
      "This is training run 10 and has the shape:  (87600, 91)\n",
      "The value of dropped columns is 5\n"
     ]
    },
    {
     "name": "stderr",
     "output_type": "stream",
     "text": [
      "/Users/alexellard/opt/anaconda3/lib/python3.7/site-packages/xgboost/data.py:96: UserWarning: Use subset (sliced data) of np.ndarray is not recommended because it will generate extra copies and increase memory consumption\n",
      "  \"because it will generate extra copies and increase \" +\n"
     ]
    },
    {
     "name": "stdout",
     "output_type": "stream",
     "text": [
      "test y shape : (17520, 1)\n",
      "Inv y shape : (17520, 91)\n",
      "y pred shape : (17520, 1)\n",
      "inv y pred : (17520, 91)\n",
      "Run 10 Mean Absolute Error: 3.0374989129582577\n",
      "RMSE: 4.033\n",
      "R^2: 1.000\n",
      "[['link_32_flow', 'node_29_pressure', 'node_9_pressure', 'node_29_demand', 'node_1_pressure', 'node_23_demand', 'node_3_pressure', 'node_1_demand', 'node_23_pressure', 'link_20_flow']]\n",
      "starting df shape: (87600, 86)\n",
      "This is training run 1 and has the shape:  (87600, 86)\n",
      "The value of dropped columns is 10\n"
     ]
    },
    {
     "name": "stderr",
     "output_type": "stream",
     "text": [
      "/Users/alexellard/opt/anaconda3/lib/python3.7/site-packages/xgboost/data.py:96: UserWarning: Use subset (sliced data) of np.ndarray is not recommended because it will generate extra copies and increase memory consumption\n",
      "  \"because it will generate extra copies and increase \" +\n"
     ]
    },
    {
     "name": "stdout",
     "output_type": "stream",
     "text": [
      "test y shape : (17520, 1)\n",
      "Inv y shape : (17520, 86)\n",
      "y pred shape : (17520, 1)\n",
      "inv y pred : (17520, 86)\n",
      "Run 1 Mean Absolute Error: 4.01318316882605\n",
      "RMSE: 5.242\n",
      "R^2: 1.000\n",
      "[['link_9_flow', 'node_21_pressure', 'link_14_flow', 'link_5_flow', 'node_30_pressure', 'node_10_demand', 'node_16_demand', 'node_4_demand', 'node_1_demand', 'node_29_pressure']]\n",
      "starting df shape: (87600, 86)\n",
      "This is training run 2 and has the shape:  (87600, 86)\n",
      "The value of dropped columns is 10\n"
     ]
    },
    {
     "name": "stderr",
     "output_type": "stream",
     "text": [
      "/Users/alexellard/opt/anaconda3/lib/python3.7/site-packages/xgboost/data.py:96: UserWarning: Use subset (sliced data) of np.ndarray is not recommended because it will generate extra copies and increase memory consumption\n",
      "  \"because it will generate extra copies and increase \" +\n"
     ]
    },
    {
     "name": "stdout",
     "output_type": "stream",
     "text": [
      "test y shape : (17520, 1)\n",
      "Inv y shape : (17520, 86)\n",
      "y pred shape : (17520, 1)\n",
      "inv y pred : (17520, 86)\n",
      "Run 2 Mean Absolute Error: 4.393937624149944\n",
      "RMSE: 5.793\n",
      "R^2: 1.000\n",
      "[['node_6_pressure', 'link_10_flow', 'link_9_flow', 'node_24_pressure', 'node_28_pressure', 'node_29_demand', 'link_4_flow', 'node_18_pressure', 'link_2_flow', 'node_7_pressure']]\n",
      "starting df shape: (87600, 86)\n",
      "This is training run 3 and has the shape:  (87600, 86)\n",
      "The value of dropped columns is 10\n"
     ]
    },
    {
     "name": "stderr",
     "output_type": "stream",
     "text": [
      "/Users/alexellard/opt/anaconda3/lib/python3.7/site-packages/xgboost/data.py:96: UserWarning: Use subset (sliced data) of np.ndarray is not recommended because it will generate extra copies and increase memory consumption\n",
      "  \"because it will generate extra copies and increase \" +\n"
     ]
    },
    {
     "name": "stdout",
     "output_type": "stream",
     "text": [
      "test y shape : (17520, 1)\n",
      "Inv y shape : (17520, 86)\n",
      "y pred shape : (17520, 1)\n",
      "inv y pred : (17520, 86)\n",
      "Run 3 Mean Absolute Error: 5.624963877735886\n",
      "RMSE: 7.368\n",
      "R^2: 1.000\n",
      "[['node_12_demand', 'node_31_pressure', 'node_4_pressure', 'node_5_demand', 'node_26_demand', 'node_9_pressure', 'node_21_demand', 'node_20_demand', 'link_19_flow', 'node_27_demand']]\n",
      "starting df shape: (87600, 86)\n",
      "This is training run 4 and has the shape:  (87600, 86)\n",
      "The value of dropped columns is 10\n"
     ]
    },
    {
     "name": "stderr",
     "output_type": "stream",
     "text": [
      "/Users/alexellard/opt/anaconda3/lib/python3.7/site-packages/xgboost/data.py:96: UserWarning: Use subset (sliced data) of np.ndarray is not recommended because it will generate extra copies and increase memory consumption\n",
      "  \"because it will generate extra copies and increase \" +\n"
     ]
    },
    {
     "name": "stdout",
     "output_type": "stream",
     "text": [
      "test y shape : (17520, 1)\n",
      "Inv y shape : (17520, 86)\n",
      "y pred shape : (17520, 1)\n",
      "inv y pred : (17520, 86)\n",
      "Run 4 Mean Absolute Error: 3.2494487720891385\n",
      "RMSE: 4.365\n",
      "R^2: 1.000\n",
      "[['node_5_demand', 'node_14_demand', 'node_25_demand', 'link_11_flow', 'node_22_demand', 'node_17_demand', 'link_31_flow', 'link_7_flow', 'node_15_pressure']]\n",
      "starting df shape: (87600, 87)\n",
      "This is training run 5 and has the shape:  (87600, 87)\n",
      "The value of dropped columns is 10\n"
     ]
    },
    {
     "name": "stderr",
     "output_type": "stream",
     "text": [
      "/Users/alexellard/opt/anaconda3/lib/python3.7/site-packages/xgboost/data.py:96: UserWarning: Use subset (sliced data) of np.ndarray is not recommended because it will generate extra copies and increase memory consumption\n",
      "  \"because it will generate extra copies and increase \" +\n"
     ]
    },
    {
     "name": "stdout",
     "output_type": "stream",
     "text": [
      "test y shape : (17520, 1)\n",
      "Inv y shape : (17520, 87)\n",
      "y pred shape : (17520, 1)\n",
      "inv y pred : (17520, 87)\n",
      "Run 5 Mean Absolute Error: 2.6910046630118107\n",
      "RMSE: 3.565\n",
      "R^2: 1.000\n",
      "[['node_19_demand', 'reservoir_pressure', 'link_9_flow', 'link_17_flow', 'node_24_demand', 'node_19_pressure', 'node_8_demand', 'node_23_demand', 'link_24_flow', 'node_12_pressure']]\n",
      "starting df shape: (87600, 86)\n",
      "This is training run 6 and has the shape:  (87600, 86)\n",
      "The value of dropped columns is 10\n"
     ]
    },
    {
     "name": "stderr",
     "output_type": "stream",
     "text": [
      "/Users/alexellard/opt/anaconda3/lib/python3.7/site-packages/xgboost/data.py:96: UserWarning: Use subset (sliced data) of np.ndarray is not recommended because it will generate extra copies and increase memory consumption\n",
      "  \"because it will generate extra copies and increase \" +\n"
     ]
    },
    {
     "name": "stdout",
     "output_type": "stream",
     "text": [
      "test y shape : (17520, 1)\n",
      "Inv y shape : (17520, 86)\n",
      "y pred shape : (17520, 1)\n",
      "inv y pred : (17520, 86)\n",
      "Run 6 Mean Absolute Error: 4.031663697439517\n",
      "RMSE: 5.298\n",
      "R^2: 1.000\n",
      "[['node_18_pressure', 'node_12_demand', 'node_17_demand', 'node_11_demand', 'node_30_pressure', 'link_3_flow', 'node_7_pressure', 'link_29_flow', 'node_9_demand', 'node_7_demand']]\n",
      "starting df shape: (87600, 86)\n",
      "This is training run 7 and has the shape:  (87600, 86)\n",
      "The value of dropped columns is 10\n"
     ]
    },
    {
     "name": "stderr",
     "output_type": "stream",
     "text": [
      "/Users/alexellard/opt/anaconda3/lib/python3.7/site-packages/xgboost/data.py:96: UserWarning: Use subset (sliced data) of np.ndarray is not recommended because it will generate extra copies and increase memory consumption\n",
      "  \"because it will generate extra copies and increase \" +\n"
     ]
    },
    {
     "name": "stdout",
     "output_type": "stream",
     "text": [
      "test y shape : (17520, 1)\n",
      "Inv y shape : (17520, 86)\n",
      "y pred shape : (17520, 1)\n",
      "inv y pred : (17520, 86)\n",
      "Run 7 Mean Absolute Error: 3.455907382622178\n",
      "RMSE: 4.553\n",
      "R^2: 1.000\n",
      "[['link_27_flow', 'link_17_flow', 'node_22_pressure', 'node_17_demand', 'node_13_pressure', 'node_12_demand', 'node_27_demand', 'link_7_flow', 'node_12_pressure', 'node_16_pressure']]\n",
      "starting df shape: (87600, 86)\n",
      "This is training run 8 and has the shape:  (87600, 86)\n",
      "The value of dropped columns is 10\n"
     ]
    },
    {
     "name": "stderr",
     "output_type": "stream",
     "text": [
      "/Users/alexellard/opt/anaconda3/lib/python3.7/site-packages/xgboost/data.py:96: UserWarning: Use subset (sliced data) of np.ndarray is not recommended because it will generate extra copies and increase memory consumption\n",
      "  \"because it will generate extra copies and increase \" +\n"
     ]
    },
    {
     "name": "stdout",
     "output_type": "stream",
     "text": [
      "test y shape : (17520, 1)\n",
      "Inv y shape : (17520, 86)\n",
      "y pred shape : (17520, 1)\n",
      "inv y pred : (17520, 86)\n",
      "Run 8 Mean Absolute Error: 3.990600573432776\n",
      "RMSE: 5.270\n",
      "R^2: 1.000\n",
      "[['node_29_pressure', 'node_30_demand', 'node_30_pressure', 'node_1_demand', 'link_21_flow', 'link_30_flow', 'node_6_pressure', 'node_21_pressure', 'link_16_flow', 'node_19_pressure']]\n",
      "starting df shape: (87600, 86)\n",
      "This is training run 9 and has the shape:  (87600, 86)\n",
      "The value of dropped columns is 10\n"
     ]
    },
    {
     "name": "stderr",
     "output_type": "stream",
     "text": [
      "/Users/alexellard/opt/anaconda3/lib/python3.7/site-packages/xgboost/data.py:96: UserWarning: Use subset (sliced data) of np.ndarray is not recommended because it will generate extra copies and increase memory consumption\n",
      "  \"because it will generate extra copies and increase \" +\n"
     ]
    },
    {
     "name": "stdout",
     "output_type": "stream",
     "text": [
      "test y shape : (17520, 1)\n",
      "Inv y shape : (17520, 86)\n",
      "y pred shape : (17520, 1)\n",
      "inv y pred : (17520, 86)\n",
      "Run 9 Mean Absolute Error: 4.382772289804416\n",
      "RMSE: 5.758\n",
      "R^2: 1.000\n",
      "[['link_3_flow', 'link_21_flow', 'node_12_pressure', 'link_2_flow', 'node_13_pressure', 'node_8_pressure', 'node_13_demand', 'node_9_demand', 'link_28_flow', 'link_31_flow']]\n",
      "starting df shape: (87600, 86)\n",
      "This is training run 10 and has the shape:  (87600, 86)\n",
      "The value of dropped columns is 10\n"
     ]
    },
    {
     "name": "stderr",
     "output_type": "stream",
     "text": [
      "/Users/alexellard/opt/anaconda3/lib/python3.7/site-packages/xgboost/data.py:96: UserWarning: Use subset (sliced data) of np.ndarray is not recommended because it will generate extra copies and increase memory consumption\n",
      "  \"because it will generate extra copies and increase \" +\n"
     ]
    },
    {
     "name": "stdout",
     "output_type": "stream",
     "text": [
      "test y shape : (17520, 1)\n",
      "Inv y shape : (17520, 86)\n",
      "y pred shape : (17520, 1)\n",
      "inv y pred : (17520, 86)\n",
      "Run 10 Mean Absolute Error: 5.414628744611192\n",
      "RMSE: 6.984\n",
      "R^2: 1.000\n",
      "[['node_4_demand', 'node_10_pressure', 'node_29_pressure', 'node_26_pressure', 'link_15_flow', 'node_17_demand', 'node_8_pressure', 'link_19_flow', 'node_29_demand', 'node_30_demand', 'node_21_demand', 'node_15_demand', 'node_22_pressure', 'node_28_demand', 'node_9_pressure']]\n",
      "starting df shape: (87600, 81)\n",
      "This is training run 1 and has the shape:  (87600, 81)\n",
      "The value of dropped columns is 15\n"
     ]
    },
    {
     "name": "stderr",
     "output_type": "stream",
     "text": [
      "/Users/alexellard/opt/anaconda3/lib/python3.7/site-packages/xgboost/data.py:96: UserWarning: Use subset (sliced data) of np.ndarray is not recommended because it will generate extra copies and increase memory consumption\n",
      "  \"because it will generate extra copies and increase \" +\n"
     ]
    },
    {
     "name": "stdout",
     "output_type": "stream",
     "text": [
      "test y shape : (17520, 1)\n",
      "Inv y shape : (17520, 81)\n",
      "y pred shape : (17520, 1)\n",
      "inv y pred : (17520, 81)\n",
      "Run 1 Mean Absolute Error: 5.31785321287913\n",
      "RMSE: 7.106\n",
      "R^2: 1.000\n",
      "[['node_23_demand', 'node_30_pressure', 'node_3_demand', 'node_20_demand', 'node_20_pressure', 'node_29_demand', 'node_15_demand', 'link_32_flow', 'link_17_flow', 'node_6_pressure', 'link_12_flow', 'node_2_demand', 'node_24_demand', 'node_5_demand']]\n",
      "starting df shape: (87600, 82)\n",
      "This is training run 2 and has the shape:  (87600, 82)\n",
      "The value of dropped columns is 15\n"
     ]
    },
    {
     "name": "stderr",
     "output_type": "stream",
     "text": [
      "/Users/alexellard/opt/anaconda3/lib/python3.7/site-packages/xgboost/data.py:96: UserWarning: Use subset (sliced data) of np.ndarray is not recommended because it will generate extra copies and increase memory consumption\n",
      "  \"because it will generate extra copies and increase \" +\n"
     ]
    },
    {
     "name": "stdout",
     "output_type": "stream",
     "text": [
      "test y shape : (17520, 1)\n",
      "Inv y shape : (17520, 82)\n",
      "y pred shape : (17520, 1)\n",
      "inv y pred : (17520, 82)\n",
      "Run 2 Mean Absolute Error: 2.5531619266288033\n",
      "RMSE: 3.401\n",
      "R^2: 1.000\n",
      "[['node_23_pressure', 'node_14_pressure', 'node_16_pressure', 'node_6_demand', 'link_17_flow', 'link_25_flow', 'node_8_pressure', 'link_14_flow', 'link_20_flow', 'link_18_flow', 'link_9_flow', 'node_6_pressure', 'node_12_pressure', 'node_18_demand', 'link_12_flow']]\n",
      "starting df shape: (87600, 81)\n",
      "This is training run 3 and has the shape:  (87600, 81)\n",
      "The value of dropped columns is 15\n"
     ]
    },
    {
     "name": "stderr",
     "output_type": "stream",
     "text": [
      "/Users/alexellard/opt/anaconda3/lib/python3.7/site-packages/xgboost/data.py:96: UserWarning: Use subset (sliced data) of np.ndarray is not recommended because it will generate extra copies and increase memory consumption\n",
      "  \"because it will generate extra copies and increase \" +\n"
     ]
    },
    {
     "name": "stdout",
     "output_type": "stream",
     "text": [
      "test y shape : (17520, 1)\n",
      "Inv y shape : (17520, 81)\n",
      "y pred shape : (17520, 1)\n",
      "inv y pred : (17520, 81)\n",
      "Run 3 Mean Absolute Error: 5.448385597287791\n",
      "RMSE: 7.128\n",
      "R^2: 1.000\n",
      "[['link_16_flow', 'link_24_flow', 'link_31_flow', 'node_6_demand', 'node_9_pressure', 'node_26_demand', 'reservoir_pressure', 'node_10_pressure', 'node_7_pressure', 'node_1_pressure', 'node_2_pressure', 'link_3_flow', 'node_27_pressure', 'node_1_demand', 'link_21_flow']]\n",
      "starting df shape: (87600, 81)\n",
      "This is training run 4 and has the shape:  (87600, 81)\n",
      "The value of dropped columns is 15\n"
     ]
    },
    {
     "name": "stderr",
     "output_type": "stream",
     "text": [
      "/Users/alexellard/opt/anaconda3/lib/python3.7/site-packages/xgboost/data.py:96: UserWarning: Use subset (sliced data) of np.ndarray is not recommended because it will generate extra copies and increase memory consumption\n",
      "  \"because it will generate extra copies and increase \" +\n"
     ]
    },
    {
     "name": "stdout",
     "output_type": "stream",
     "text": [
      "test y shape : (17520, 1)\n",
      "Inv y shape : (17520, 81)\n",
      "y pred shape : (17520, 1)\n",
      "inv y pred : (17520, 81)\n",
      "Run 4 Mean Absolute Error: 3.8341064920409043\n",
      "RMSE: 5.040\n",
      "R^2: 1.000\n",
      "[['node_19_demand', 'reservoir_demand', 'node_24_demand', 'node_5_demand', 'node_20_pressure', 'link_19_flow', 'node_18_demand', 'node_9_pressure', 'node_31_demand', 'link_26_flow', 'node_2_demand', 'node_7_pressure', 'node_3_demand', 'link_20_flow', 'link_21_flow']]\n",
      "starting df shape: (87600, 81)\n",
      "This is training run 5 and has the shape:  (87600, 81)\n",
      "The value of dropped columns is 15\n"
     ]
    },
    {
     "name": "stderr",
     "output_type": "stream",
     "text": [
      "/Users/alexellard/opt/anaconda3/lib/python3.7/site-packages/xgboost/data.py:96: UserWarning: Use subset (sliced data) of np.ndarray is not recommended because it will generate extra copies and increase memory consumption\n",
      "  \"because it will generate extra copies and increase \" +\n"
     ]
    },
    {
     "name": "stdout",
     "output_type": "stream",
     "text": [
      "test y shape : (17520, 1)\n",
      "Inv y shape : (17520, 81)\n",
      "y pred shape : (17520, 1)\n",
      "inv y pred : (17520, 81)\n",
      "Run 5 Mean Absolute Error: 0.579908049313876\n",
      "RMSE: 0.758\n",
      "R^2: 1.000\n",
      "[['node_13_demand', 'link_32_flow', 'node_7_pressure', 'node_24_pressure', 'link_9_flow', 'node_17_demand', 'node_5_pressure', 'link_26_flow', 'node_30_demand', 'link_23_flow', 'node_2_demand', 'node_17_pressure', 'node_1_pressure', 'node_26_demand', 'node_8_demand']]\n",
      "starting df shape: (87600, 81)\n",
      "This is training run 6 and has the shape:  (87600, 81)\n",
      "The value of dropped columns is 15\n"
     ]
    },
    {
     "name": "stderr",
     "output_type": "stream",
     "text": [
      "/Users/alexellard/opt/anaconda3/lib/python3.7/site-packages/xgboost/data.py:96: UserWarning: Use subset (sliced data) of np.ndarray is not recommended because it will generate extra copies and increase memory consumption\n",
      "  \"because it will generate extra copies and increase \" +\n"
     ]
    },
    {
     "name": "stdout",
     "output_type": "stream",
     "text": [
      "test y shape : (17520, 1)\n",
      "Inv y shape : (17520, 81)\n",
      "y pred shape : (17520, 1)\n",
      "inv y pred : (17520, 81)\n",
      "Run 6 Mean Absolute Error: 4.6924171033624065\n",
      "RMSE: 6.189\n",
      "R^2: 1.000\n",
      "[['link_27_flow', 'node_30_pressure', 'link_25_flow', 'node_25_pressure', 'node_13_pressure', 'node_2_pressure', 'node_25_demand', 'node_13_demand', 'node_20_demand', 'link_13_flow', 'node_8_pressure', 'link_4_flow', 'link_17_flow', 'node_26_demand', 'node_15_demand']]\n",
      "starting df shape: (87600, 81)\n",
      "This is training run 7 and has the shape:  (87600, 81)\n",
      "The value of dropped columns is 15\n"
     ]
    },
    {
     "name": "stderr",
     "output_type": "stream",
     "text": [
      "/Users/alexellard/opt/anaconda3/lib/python3.7/site-packages/xgboost/data.py:96: UserWarning: Use subset (sliced data) of np.ndarray is not recommended because it will generate extra copies and increase memory consumption\n",
      "  \"because it will generate extra copies and increase \" +\n"
     ]
    },
    {
     "name": "stdout",
     "output_type": "stream",
     "text": [
      "test y shape : (17520, 1)\n",
      "Inv y shape : (17520, 81)\n",
      "y pred shape : (17520, 1)\n",
      "inv y pred : (17520, 81)\n",
      "Run 7 Mean Absolute Error: 2.8862400831914914\n",
      "RMSE: 3.869\n",
      "R^2: 1.000\n",
      "[['node_16_pressure', 'link_9_flow', 'node_25_pressure', 'reservoir_pressure', 'link_26_flow', 'link_11_flow', 'node_6_demand', 'node_22_pressure', 'node_6_pressure', 'node_9_demand', 'link_10_flow', 'link_8_flow', 'link_16_flow', 'link_12_flow', 'node_22_demand']]\n",
      "starting df shape: (87600, 81)\n",
      "This is training run 8 and has the shape:  (87600, 81)\n",
      "The value of dropped columns is 15\n"
     ]
    },
    {
     "name": "stderr",
     "output_type": "stream",
     "text": [
      "/Users/alexellard/opt/anaconda3/lib/python3.7/site-packages/xgboost/data.py:96: UserWarning: Use subset (sliced data) of np.ndarray is not recommended because it will generate extra copies and increase memory consumption\n",
      "  \"because it will generate extra copies and increase \" +\n"
     ]
    },
    {
     "name": "stdout",
     "output_type": "stream",
     "text": [
      "test y shape : (17520, 1)\n",
      "Inv y shape : (17520, 81)\n",
      "y pred shape : (17520, 1)\n",
      "inv y pred : (17520, 81)\n",
      "Run 8 Mean Absolute Error: 5.845478421082237\n",
      "RMSE: 7.633\n",
      "R^2: 1.000\n",
      "[['node_1_pressure', 'node_28_demand', 'node_2_pressure', 'node_24_demand', 'node_18_pressure', 'node_10_pressure', 'link_16_flow', 'node_25_pressure', 'node_21_pressure', 'link_17_flow', 'link_2_flow', 'link_27_flow', 'link_23_flow', 'node_14_demand', 'node_13_demand']]\n",
      "starting df shape: (87600, 81)\n",
      "This is training run 9 and has the shape:  (87600, 81)\n",
      "The value of dropped columns is 15\n"
     ]
    },
    {
     "name": "stderr",
     "output_type": "stream",
     "text": [
      "/Users/alexellard/opt/anaconda3/lib/python3.7/site-packages/xgboost/data.py:96: UserWarning: Use subset (sliced data) of np.ndarray is not recommended because it will generate extra copies and increase memory consumption\n",
      "  \"because it will generate extra copies and increase \" +\n"
     ]
    },
    {
     "name": "stdout",
     "output_type": "stream",
     "text": [
      "test y shape : (17520, 1)\n",
      "Inv y shape : (17520, 81)\n",
      "y pred shape : (17520, 1)\n",
      "inv y pred : (17520, 81)\n",
      "Run 9 Mean Absolute Error: 5.667977081610724\n",
      "RMSE: 7.413\n",
      "R^2: 1.000\n",
      "[['node_24_demand', 'link_30_flow', 'node_25_demand', 'link_12_flow', 'node_30_pressure', 'node_27_demand', 'node_16_pressure', 'node_19_demand', 'link_10_flow', 'reservoir_demand', 'node_15_demand', 'link_3_flow', 'link_31_flow', 'link_28_flow', 'node_17_pressure']]\n",
      "starting df shape: (87600, 81)\n",
      "This is training run 10 and has the shape:  (87600, 81)\n",
      "The value of dropped columns is 15\n"
     ]
    },
    {
     "name": "stderr",
     "output_type": "stream",
     "text": [
      "/Users/alexellard/opt/anaconda3/lib/python3.7/site-packages/xgboost/data.py:96: UserWarning: Use subset (sliced data) of np.ndarray is not recommended because it will generate extra copies and increase memory consumption\n",
      "  \"because it will generate extra copies and increase \" +\n"
     ]
    },
    {
     "name": "stdout",
     "output_type": "stream",
     "text": [
      "test y shape : (17520, 1)\n",
      "Inv y shape : (17520, 81)\n",
      "y pred shape : (17520, 1)\n",
      "inv y pred : (17520, 81)\n",
      "Run 10 Mean Absolute Error: 0.28122026334749745\n",
      "RMSE: 0.369\n",
      "R^2: 1.000\n",
      "[['reservoir_demand', 'link_32_flow', 'node_8_pressure', 'node_26_pressure', 'node_19_pressure', 'node_15_demand', 'link_12_flow', 'link_3_flow', 'link_29_flow', 'node_17_demand', 'node_22_demand', 'link_20_flow', 'link_16_flow', 'node_31_demand', 'node_11_demand', 'reservoir_pressure', 'node_27_demand', 'link_13_flow', 'node_2_pressure']]\n",
      "starting df shape: (87600, 77)\n",
      "This is training run 1 and has the shape:  (87600, 77)\n",
      "The value of dropped columns is 20\n"
     ]
    },
    {
     "name": "stderr",
     "output_type": "stream",
     "text": [
      "/Users/alexellard/opt/anaconda3/lib/python3.7/site-packages/xgboost/data.py:96: UserWarning: Use subset (sliced data) of np.ndarray is not recommended because it will generate extra copies and increase memory consumption\n",
      "  \"because it will generate extra copies and increase \" +\n"
     ]
    },
    {
     "name": "stdout",
     "output_type": "stream",
     "text": [
      "test y shape : (17520, 1)\n",
      "Inv y shape : (17520, 77)\n",
      "y pred shape : (17520, 1)\n",
      "inv y pred : (17520, 77)\n",
      "Run 1 Mean Absolute Error: 0.37183111401639435\n",
      "RMSE: 0.482\n",
      "R^2: 1.000\n",
      "[['reservoir_demand', 'node_18_demand', 'node_10_demand', 'node_7_pressure', 'link_24_flow', 'link_2_flow', 'link_13_flow', 'node_10_pressure', 'node_23_demand', 'link_17_flow', 'node_12_demand', 'node_3_pressure', 'node_11_demand', 'node_1_demand', 'link_16_flow', 'node_16_pressure', 'node_8_demand', 'link_30_flow', 'link_22_flow']]\n",
      "starting df shape: (87600, 77)\n",
      "This is training run 2 and has the shape:  (87600, 77)\n",
      "The value of dropped columns is 20\n"
     ]
    },
    {
     "name": "stderr",
     "output_type": "stream",
     "text": [
      "/Users/alexellard/opt/anaconda3/lib/python3.7/site-packages/xgboost/data.py:96: UserWarning: Use subset (sliced data) of np.ndarray is not recommended because it will generate extra copies and increase memory consumption\n",
      "  \"because it will generate extra copies and increase \" +\n"
     ]
    },
    {
     "name": "stdout",
     "output_type": "stream",
     "text": [
      "test y shape : (17520, 1)\n",
      "Inv y shape : (17520, 77)\n",
      "y pred shape : (17520, 1)\n",
      "inv y pred : (17520, 77)\n",
      "Run 2 Mean Absolute Error: 0.8809902215427566\n",
      "RMSE: 1.138\n",
      "R^2: 1.000\n",
      "[['node_2_pressure', 'reservoir_pressure', 'node_11_demand', 'node_28_pressure', 'link_3_flow', 'link_10_flow', 'link_18_flow', 'node_11_pressure', 'node_2_demand', 'node_15_demand', 'link_26_flow', 'link_29_flow', 'node_3_pressure', 'link_6_flow', 'node_10_pressure', 'link_9_flow', 'node_18_demand', 'node_5_pressure', 'link_11_flow']]\n",
      "starting df shape: (87600, 77)\n",
      "This is training run 3 and has the shape:  (87600, 77)\n",
      "The value of dropped columns is 20\n"
     ]
    },
    {
     "name": "stderr",
     "output_type": "stream",
     "text": [
      "/Users/alexellard/opt/anaconda3/lib/python3.7/site-packages/xgboost/data.py:96: UserWarning: Use subset (sliced data) of np.ndarray is not recommended because it will generate extra copies and increase memory consumption\n",
      "  \"because it will generate extra copies and increase \" +\n"
     ]
    },
    {
     "name": "stdout",
     "output_type": "stream",
     "text": [
      "test y shape : (17520, 1)\n",
      "Inv y shape : (17520, 77)\n",
      "y pred shape : (17520, 1)\n",
      "inv y pred : (17520, 77)\n",
      "Run 3 Mean Absolute Error: 4.23860377972665\n",
      "RMSE: 5.536\n",
      "R^2: 1.000\n",
      "[['link_3_flow', 'node_5_pressure', 'node_24_pressure', 'node_17_pressure', 'node_14_pressure', 'node_25_pressure', 'node_11_demand', 'link_13_flow', 'node_19_demand', 'node_18_pressure', 'link_11_flow', 'node_29_pressure', 'link_10_flow', 'link_5_flow', 'node_26_demand', 'node_3_pressure', 'node_15_demand', 'link_12_flow', 'node_16_demand', 'node_20_demand']]\n",
      "starting df shape: (87600, 76)\n",
      "This is training run 4 and has the shape:  (87600, 76)\n",
      "The value of dropped columns is 20\n"
     ]
    },
    {
     "name": "stderr",
     "output_type": "stream",
     "text": [
      "/Users/alexellard/opt/anaconda3/lib/python3.7/site-packages/xgboost/data.py:96: UserWarning: Use subset (sliced data) of np.ndarray is not recommended because it will generate extra copies and increase memory consumption\n",
      "  \"because it will generate extra copies and increase \" +\n"
     ]
    },
    {
     "name": "stdout",
     "output_type": "stream",
     "text": [
      "test y shape : (17520, 1)\n",
      "Inv y shape : (17520, 76)\n",
      "y pred shape : (17520, 1)\n",
      "inv y pred : (17520, 76)\n",
      "Run 4 Mean Absolute Error: 3.299838282282221\n",
      "RMSE: 4.383\n",
      "R^2: 1.000\n",
      "[['node_15_pressure', 'node_13_pressure', 'link_20_flow', 'link_9_flow', 'link_30_flow', 'node_30_pressure', 'node_21_demand', 'node_29_demand', 'link_17_flow', 'node_1_demand', 'link_32_flow', 'node_22_demand', 'node_18_pressure', 'node_23_pressure', 'node_6_pressure', 'link_16_flow', 'node_4_demand', 'node_24_demand', 'node_17_demand', 'node_5_pressure']]\n",
      "starting df shape: (87600, 76)\n",
      "This is training run 5 and has the shape:  (87600, 76)\n",
      "The value of dropped columns is 20\n"
     ]
    },
    {
     "name": "stderr",
     "output_type": "stream",
     "text": [
      "/Users/alexellard/opt/anaconda3/lib/python3.7/site-packages/xgboost/data.py:96: UserWarning: Use subset (sliced data) of np.ndarray is not recommended because it will generate extra copies and increase memory consumption\n",
      "  \"because it will generate extra copies and increase \" +\n"
     ]
    },
    {
     "name": "stdout",
     "output_type": "stream",
     "text": [
      "test y shape : (17520, 1)\n",
      "Inv y shape : (17520, 76)\n",
      "y pred shape : (17520, 1)\n",
      "inv y pred : (17520, 76)\n",
      "Run 5 Mean Absolute Error: 5.065300630600481\n",
      "RMSE: 6.601\n",
      "R^2: 1.000\n",
      "[['node_30_pressure', 'link_27_flow', 'node_15_pressure', 'node_20_pressure', 'node_12_pressure', 'link_22_flow', 'link_15_flow', 'node_22_demand', 'node_9_pressure', 'node_21_demand', 'node_9_demand', 'link_26_flow', 'link_20_flow', 'node_21_pressure', 'node_2_demand', 'link_24_flow', 'node_26_pressure', 'node_5_pressure', 'link_19_flow', 'node_14_pressure']]\n",
      "starting df shape: (87600, 76)\n",
      "This is training run 6 and has the shape:  (87600, 76)\n",
      "The value of dropped columns is 20\n"
     ]
    },
    {
     "name": "stderr",
     "output_type": "stream",
     "text": [
      "/Users/alexellard/opt/anaconda3/lib/python3.7/site-packages/xgboost/data.py:96: UserWarning: Use subset (sliced data) of np.ndarray is not recommended because it will generate extra copies and increase memory consumption\n",
      "  \"because it will generate extra copies and increase \" +\n"
     ]
    },
    {
     "name": "stdout",
     "output_type": "stream",
     "text": [
      "test y shape : (17520, 1)\n",
      "Inv y shape : (17520, 76)\n",
      "y pred shape : (17520, 1)\n",
      "inv y pred : (17520, 76)\n",
      "Run 6 Mean Absolute Error: 3.063949657760255\n",
      "RMSE: 4.105\n",
      "R^2: 1.000\n",
      "[['node_11_pressure', 'node_21_pressure', 'node_6_pressure', 'link_22_flow', 'node_2_demand', 'node_9_pressure', 'node_9_demand', 'node_5_pressure', 'node_4_pressure', 'node_6_demand', 'node_16_pressure', 'node_17_demand', 'node_15_demand', 'node_28_pressure', 'node_8_demand', 'node_19_demand', 'link_2_flow', 'node_27_pressure', 'link_17_flow', 'link_29_flow']]\n",
      "starting df shape: (87600, 76)\n",
      "This is training run 7 and has the shape:  (87600, 76)\n",
      "The value of dropped columns is 20\n"
     ]
    },
    {
     "name": "stderr",
     "output_type": "stream",
     "text": [
      "/Users/alexellard/opt/anaconda3/lib/python3.7/site-packages/xgboost/data.py:96: UserWarning: Use subset (sliced data) of np.ndarray is not recommended because it will generate extra copies and increase memory consumption\n",
      "  \"because it will generate extra copies and increase \" +\n"
     ]
    },
    {
     "name": "stdout",
     "output_type": "stream",
     "text": [
      "test y shape : (17520, 1)\n",
      "Inv y shape : (17520, 76)\n",
      "y pred shape : (17520, 1)\n",
      "inv y pred : (17520, 76)\n",
      "Run 7 Mean Absolute Error: 8.000565991707857\n",
      "RMSE: 10.426\n",
      "R^2: 1.000\n",
      "[['node_16_pressure', 'node_31_pressure', 'link_31_flow', 'link_7_flow', 'node_13_demand', 'node_3_pressure', 'node_19_demand', 'node_5_demand', 'link_19_flow', 'link_25_flow', 'node_10_pressure', 'link_22_flow', 'node_24_pressure', 'node_6_demand', 'node_19_pressure', 'node_12_pressure', 'link_9_flow', 'node_23_pressure', 'link_5_flow', 'link_26_flow']]\n",
      "starting df shape: (87600, 76)\n",
      "This is training run 8 and has the shape:  (87600, 76)\n",
      "The value of dropped columns is 20\n"
     ]
    },
    {
     "name": "stderr",
     "output_type": "stream",
     "text": [
      "/Users/alexellard/opt/anaconda3/lib/python3.7/site-packages/xgboost/data.py:96: UserWarning: Use subset (sliced data) of np.ndarray is not recommended because it will generate extra copies and increase memory consumption\n",
      "  \"because it will generate extra copies and increase \" +\n"
     ]
    },
    {
     "name": "stdout",
     "output_type": "stream",
     "text": [
      "test y shape : (17520, 1)\n",
      "Inv y shape : (17520, 76)\n",
      "y pred shape : (17520, 1)\n",
      "inv y pred : (17520, 76)\n",
      "Run 8 Mean Absolute Error: 3.146514942788911\n",
      "RMSE: 4.220\n",
      "R^2: 1.000\n",
      "[['link_20_flow', 'node_27_pressure', 'node_16_pressure', 'node_23_pressure', 'link_23_flow', 'node_20_pressure', 'node_27_demand', 'node_4_demand', 'node_11_pressure', 'node_31_demand', 'link_8_flow', 'node_10_pressure', 'link_3_flow', 'node_30_demand', 'link_22_flow', 'node_6_pressure', 'node_5_demand', 'node_19_pressure', 'node_9_pressure', 'node_12_demand']]\n",
      "starting df shape: (87600, 76)\n",
      "This is training run 9 and has the shape:  (87600, 76)\n",
      "The value of dropped columns is 20\n"
     ]
    },
    {
     "name": "stderr",
     "output_type": "stream",
     "text": [
      "/Users/alexellard/opt/anaconda3/lib/python3.7/site-packages/xgboost/data.py:96: UserWarning: Use subset (sliced data) of np.ndarray is not recommended because it will generate extra copies and increase memory consumption\n",
      "  \"because it will generate extra copies and increase \" +\n"
     ]
    },
    {
     "name": "stdout",
     "output_type": "stream",
     "text": [
      "test y shape : (17520, 1)\n",
      "Inv y shape : (17520, 76)\n",
      "y pred shape : (17520, 1)\n",
      "inv y pred : (17520, 76)\n",
      "Run 9 Mean Absolute Error: 3.9992607416314647\n",
      "RMSE: 5.270\n",
      "R^2: 1.000\n",
      "[['link_9_flow', 'node_27_pressure', 'node_29_demand', 'node_18_demand', 'node_20_pressure', 'node_7_demand', 'node_14_demand', 'link_22_flow', 'node_26_pressure', 'node_10_demand', 'node_3_demand', 'link_27_flow', 'node_28_pressure', 'node_9_demand', 'node_21_pressure', 'link_18_flow', 'link_14_flow', 'node_19_pressure', 'node_31_pressure', 'node_25_demand']]\n",
      "starting df shape: (87600, 76)\n",
      "This is training run 10 and has the shape:  (87600, 76)\n",
      "The value of dropped columns is 20\n"
     ]
    },
    {
     "name": "stderr",
     "output_type": "stream",
     "text": [
      "/Users/alexellard/opt/anaconda3/lib/python3.7/site-packages/xgboost/data.py:96: UserWarning: Use subset (sliced data) of np.ndarray is not recommended because it will generate extra copies and increase memory consumption\n",
      "  \"because it will generate extra copies and increase \" +\n"
     ]
    },
    {
     "name": "stdout",
     "output_type": "stream",
     "text": [
      "test y shape : (17520, 1)\n",
      "Inv y shape : (17520, 76)\n",
      "y pred shape : (17520, 1)\n",
      "inv y pred : (17520, 76)\n",
      "Run 10 Mean Absolute Error: 4.0221643090901305\n",
      "RMSE: 5.313\n",
      "R^2: 1.000\n",
      "[['node_31_demand', 'node_18_pressure', 'reservoir_pressure', 'link_6_flow', 'link_18_flow', 'node_24_pressure', 'node_16_demand', 'node_10_demand', 'node_31_pressure', 'node_23_pressure', 'node_4_pressure', 'link_20_flow', 'node_20_pressure', 'link_25_flow', 'link_12_flow', 'node_6_pressure', 'link_29_flow', 'node_30_pressure', 'link_21_flow', 'node_3_pressure', 'node_16_pressure', 'node_23_demand', 'link_28_flow', 'link_32_flow']]\n",
      "starting df shape: (87600, 72)\n",
      "This is training run 1 and has the shape:  (87600, 72)\n",
      "The value of dropped columns is 25\n"
     ]
    },
    {
     "name": "stderr",
     "output_type": "stream",
     "text": [
      "/Users/alexellard/opt/anaconda3/lib/python3.7/site-packages/xgboost/data.py:96: UserWarning: Use subset (sliced data) of np.ndarray is not recommended because it will generate extra copies and increase memory consumption\n",
      "  \"because it will generate extra copies and increase \" +\n"
     ]
    },
    {
     "name": "stdout",
     "output_type": "stream",
     "text": [
      "test y shape : (17520, 1)\n",
      "Inv y shape : (17520, 72)\n",
      "y pred shape : (17520, 1)\n",
      "inv y pred : (17520, 72)\n",
      "Run 1 Mean Absolute Error: 4.347327372239889\n",
      "RMSE: 5.747\n",
      "R^2: 1.000\n",
      "[['node_28_pressure', 'node_10_pressure', 'link_26_flow', 'link_2_flow', 'node_7_demand', 'node_26_demand', 'node_19_pressure', 'reservoir_pressure', 'node_30_pressure', 'node_28_demand', 'node_17_demand', 'link_28_flow', 'link_19_flow', 'node_24_pressure', 'link_13_flow', 'link_25_flow', 'node_16_demand', 'node_26_pressure', 'node_6_demand', 'node_11_pressure', 'node_23_pressure', 'link_12_flow', 'node_9_pressure', 'node_16_pressure']]\n",
      "starting df shape: (87600, 72)\n",
      "This is training run 2 and has the shape:  (87600, 72)\n",
      "The value of dropped columns is 25\n"
     ]
    },
    {
     "name": "stderr",
     "output_type": "stream",
     "text": [
      "/Users/alexellard/opt/anaconda3/lib/python3.7/site-packages/xgboost/data.py:96: UserWarning: Use subset (sliced data) of np.ndarray is not recommended because it will generate extra copies and increase memory consumption\n",
      "  \"because it will generate extra copies and increase \" +\n"
     ]
    },
    {
     "name": "stdout",
     "output_type": "stream",
     "text": [
      "test y shape : (17520, 1)\n",
      "Inv y shape : (17520, 72)\n",
      "y pred shape : (17520, 1)\n",
      "inv y pred : (17520, 72)\n",
      "Run 2 Mean Absolute Error: 6.782840672012878\n",
      "RMSE: 9.034\n",
      "R^2: 1.000\n",
      "[['node_31_pressure', 'node_19_pressure', 'link_27_flow', 'link_16_flow', 'node_9_demand', 'node_26_pressure', 'node_4_demand', 'link_24_flow', 'node_17_demand', 'link_32_flow', 'link_12_flow', 'node_10_pressure', 'node_6_demand', 'node_12_demand', 'node_1_pressure', 'link_30_flow', 'node_13_pressure', 'link_25_flow', 'node_3_pressure', 'node_7_pressure', 'node_26_demand', 'link_3_flow', 'node_2_demand', 'link_31_flow', 'node_22_pressure']]\n",
      "starting df shape: (87600, 71)\n",
      "This is training run 3 and has the shape:  (87600, 71)\n",
      "The value of dropped columns is 25\n"
     ]
    },
    {
     "name": "stderr",
     "output_type": "stream",
     "text": [
      "/Users/alexellard/opt/anaconda3/lib/python3.7/site-packages/xgboost/data.py:96: UserWarning: Use subset (sliced data) of np.ndarray is not recommended because it will generate extra copies and increase memory consumption\n",
      "  \"because it will generate extra copies and increase \" +\n"
     ]
    },
    {
     "name": "stdout",
     "output_type": "stream",
     "text": [
      "test y shape : (17520, 1)\n",
      "Inv y shape : (17520, 71)\n",
      "y pred shape : (17520, 1)\n",
      "inv y pred : (17520, 71)\n",
      "Run 3 Mean Absolute Error: 2.342589310938372\n",
      "RMSE: 3.186\n",
      "R^2: 1.000\n",
      "[['node_25_pressure', 'link_7_flow', 'link_23_flow', 'link_10_flow', 'node_18_demand', 'node_16_demand', 'link_9_flow', 'node_1_demand', 'node_14_pressure', 'link_14_flow', 'node_6_demand', 'node_1_pressure', 'node_26_pressure', 'link_25_flow', 'link_24_flow', 'link_30_flow', 'link_26_flow', 'node_27_pressure', 'node_16_pressure', 'node_30_pressure', 'node_19_pressure', 'link_5_flow', 'node_22_pressure', 'reservoir_pressure', 'node_4_pressure']]\n",
      "starting df shape: (87600, 71)\n",
      "This is training run 4 and has the shape:  (87600, 71)\n",
      "The value of dropped columns is 25\n"
     ]
    },
    {
     "name": "stderr",
     "output_type": "stream",
     "text": [
      "/Users/alexellard/opt/anaconda3/lib/python3.7/site-packages/xgboost/data.py:96: UserWarning: Use subset (sliced data) of np.ndarray is not recommended because it will generate extra copies and increase memory consumption\n",
      "  \"because it will generate extra copies and increase \" +\n"
     ]
    },
    {
     "name": "stdout",
     "output_type": "stream",
     "text": [
      "test y shape : (17520, 1)\n",
      "Inv y shape : (17520, 71)\n",
      "y pred shape : (17520, 1)\n",
      "inv y pred : (17520, 71)\n",
      "Run 4 Mean Absolute Error: 3.0065374342913533\n",
      "RMSE: 3.994\n",
      "R^2: 1.000\n",
      "[['node_9_demand', 'node_14_pressure', 'link_30_flow', 'node_27_demand', 'node_31_pressure', 'node_23_pressure', 'link_5_flow', 'node_13_demand', 'node_11_demand', 'link_21_flow', 'node_12_pressure', 'link_3_flow', 'link_20_flow', 'node_1_pressure', 'node_8_pressure', 'link_27_flow', 'node_10_pressure', 'reservoir_pressure', 'node_15_pressure', 'link_15_flow', 'link_2_flow', 'node_27_pressure', 'link_26_flow', 'link_8_flow', 'node_5_pressure']]\n",
      "starting df shape: (87600, 71)\n",
      "This is training run 5 and has the shape:  (87600, 71)\n",
      "The value of dropped columns is 25\n"
     ]
    },
    {
     "name": "stderr",
     "output_type": "stream",
     "text": [
      "/Users/alexellard/opt/anaconda3/lib/python3.7/site-packages/xgboost/data.py:96: UserWarning: Use subset (sliced data) of np.ndarray is not recommended because it will generate extra copies and increase memory consumption\n",
      "  \"because it will generate extra copies and increase \" +\n"
     ]
    },
    {
     "name": "stdout",
     "output_type": "stream",
     "text": [
      "test y shape : (17520, 1)\n",
      "Inv y shape : (17520, 71)\n",
      "y pred shape : (17520, 1)\n",
      "inv y pred : (17520, 71)\n",
      "Run 5 Mean Absolute Error: 3.8324746199952426\n",
      "RMSE: 5.032\n",
      "R^2: 1.000\n",
      "[['node_27_demand', 'node_6_pressure', 'node_25_pressure', 'reservoir_pressure', 'link_6_flow', 'node_21_demand', 'node_27_pressure', 'node_11_pressure', 'link_5_flow', 'node_24_demand', 'link_22_flow', 'node_31_pressure', 'node_16_demand', 'link_23_flow', 'node_20_pressure', 'link_25_flow', 'node_31_demand', 'node_25_demand', 'link_27_flow', 'node_5_pressure', 'node_29_pressure', 'node_14_demand', 'node_23_pressure', 'node_30_demand', 'node_8_pressure']]\n",
      "starting df shape: (87600, 71)\n",
      "This is training run 6 and has the shape:  (87600, 71)\n",
      "The value of dropped columns is 25\n"
     ]
    },
    {
     "name": "stderr",
     "output_type": "stream",
     "text": [
      "/Users/alexellard/opt/anaconda3/lib/python3.7/site-packages/xgboost/data.py:96: UserWarning: Use subset (sliced data) of np.ndarray is not recommended because it will generate extra copies and increase memory consumption\n",
      "  \"because it will generate extra copies and increase \" +\n"
     ]
    },
    {
     "name": "stdout",
     "output_type": "stream",
     "text": [
      "test y shape : (17520, 1)\n",
      "Inv y shape : (17520, 71)\n",
      "y pred shape : (17520, 1)\n",
      "inv y pred : (17520, 71)\n",
      "Run 6 Mean Absolute Error: 2.8431587681215156\n",
      "RMSE: 3.775\n",
      "R^2: 1.000\n",
      "[['node_2_demand', 'link_17_flow', 'node_21_pressure', 'node_19_pressure', 'node_1_demand', 'node_13_pressure', 'link_13_flow', 'node_6_pressure', 'node_14_pressure', 'node_5_pressure', 'link_11_flow', 'link_5_flow', 'node_18_pressure', 'node_15_demand', 'node_30_pressure', 'link_30_flow', 'node_22_demand', 'node_12_demand', 'link_20_flow', 'node_11_demand', 'node_28_demand', 'node_3_pressure', 'node_7_pressure', 'node_23_demand', 'node_27_pressure']]\n",
      "starting df shape: (87600, 71)\n",
      "This is training run 7 and has the shape:  (87600, 71)\n",
      "The value of dropped columns is 25\n"
     ]
    },
    {
     "name": "stderr",
     "output_type": "stream",
     "text": [
      "/Users/alexellard/opt/anaconda3/lib/python3.7/site-packages/xgboost/data.py:96: UserWarning: Use subset (sliced data) of np.ndarray is not recommended because it will generate extra copies and increase memory consumption\n",
      "  \"because it will generate extra copies and increase \" +\n"
     ]
    },
    {
     "name": "stdout",
     "output_type": "stream",
     "text": [
      "test y shape : (17520, 1)\n",
      "Inv y shape : (17520, 71)\n",
      "y pred shape : (17520, 1)\n",
      "inv y pred : (17520, 71)\n",
      "Run 7 Mean Absolute Error: 3.010215618561398\n",
      "RMSE: 4.010\n",
      "R^2: 1.000\n",
      "[['link_19_flow', 'node_13_pressure', 'node_22_pressure', 'link_31_flow', 'link_3_flow', 'node_2_pressure', 'link_28_flow', 'node_7_demand', 'node_1_pressure', 'reservoir_pressure', 'node_10_pressure', 'node_10_demand', 'link_5_flow', 'link_6_flow', 'link_12_flow', 'link_8_flow', 'node_25_demand', 'node_2_demand', 'link_25_flow', 'node_23_demand', 'link_18_flow', 'node_22_demand', 'node_20_demand', 'link_21_flow', 'node_21_pressure']]\n",
      "starting df shape: (87600, 71)\n",
      "This is training run 8 and has the shape:  (87600, 71)\n",
      "The value of dropped columns is 25\n"
     ]
    },
    {
     "name": "stderr",
     "output_type": "stream",
     "text": [
      "/Users/alexellard/opt/anaconda3/lib/python3.7/site-packages/xgboost/data.py:96: UserWarning: Use subset (sliced data) of np.ndarray is not recommended because it will generate extra copies and increase memory consumption\n",
      "  \"because it will generate extra copies and increase \" +\n"
     ]
    },
    {
     "name": "stdout",
     "output_type": "stream",
     "text": [
      "test y shape : (17520, 1)\n",
      "Inv y shape : (17520, 71)\n",
      "y pred shape : (17520, 1)\n",
      "inv y pred : (17520, 71)\n",
      "Run 8 Mean Absolute Error: 2.3111059172022914\n",
      "RMSE: 3.144\n",
      "R^2: 1.000\n",
      "[['node_1_demand', 'node_30_demand', 'link_5_flow', 'node_24_pressure', 'link_21_flow', 'link_11_flow', 'node_17_pressure', 'node_2_pressure', 'node_26_pressure', 'node_24_demand', 'node_27_pressure', 'node_17_demand', 'node_5_demand', 'node_15_pressure', 'node_7_pressure', 'link_6_flow', 'link_20_flow', 'link_27_flow', 'node_7_demand', 'node_11_demand', 'node_3_demand', 'node_9_pressure', 'node_15_demand', 'node_27_demand', 'link_18_flow']]\n",
      "starting df shape: (87600, 71)\n",
      "This is training run 9 and has the shape:  (87600, 71)\n",
      "The value of dropped columns is 25\n"
     ]
    },
    {
     "name": "stderr",
     "output_type": "stream",
     "text": [
      "/Users/alexellard/opt/anaconda3/lib/python3.7/site-packages/xgboost/data.py:96: UserWarning: Use subset (sliced data) of np.ndarray is not recommended because it will generate extra copies and increase memory consumption\n",
      "  \"because it will generate extra copies and increase \" +\n"
     ]
    },
    {
     "name": "stdout",
     "output_type": "stream",
     "text": [
      "test y shape : (17520, 1)\n",
      "Inv y shape : (17520, 71)\n",
      "y pred shape : (17520, 1)\n",
      "inv y pred : (17520, 71)\n",
      "Run 9 Mean Absolute Error: 3.399992528888458\n",
      "RMSE: 4.489\n",
      "R^2: 1.000\n",
      "[['link_7_flow', 'node_26_pressure', 'node_15_pressure', 'node_19_pressure', 'node_1_demand', 'node_6_demand', 'node_17_pressure', 'node_13_demand', 'node_8_demand', 'link_32_flow', 'node_4_demand', 'link_3_flow', 'node_13_pressure', 'node_16_pressure', 'link_31_flow', 'link_12_flow', 'node_3_demand', 'node_28_demand', 'node_31_pressure', 'node_30_pressure', 'node_7_pressure', 'link_13_flow', 'link_28_flow', 'node_11_demand']]\n",
      "starting df shape: (87600, 72)\n",
      "This is training run 10 and has the shape:  (87600, 72)\n",
      "The value of dropped columns is 25\n"
     ]
    },
    {
     "name": "stderr",
     "output_type": "stream",
     "text": [
      "/Users/alexellard/opt/anaconda3/lib/python3.7/site-packages/xgboost/data.py:96: UserWarning: Use subset (sliced data) of np.ndarray is not recommended because it will generate extra copies and increase memory consumption\n",
      "  \"because it will generate extra copies and increase \" +\n"
     ]
    },
    {
     "name": "stdout",
     "output_type": "stream",
     "text": [
      "test y shape : (17520, 1)\n",
      "Inv y shape : (17520, 72)\n",
      "y pred shape : (17520, 1)\n",
      "inv y pred : (17520, 72)\n",
      "Run 10 Mean Absolute Error: 4.8986578444136235\n",
      "RMSE: 6.429\n",
      "R^2: 1.000\n",
      "[['node_9_demand', 'link_5_flow', 'node_14_demand', 'node_4_pressure', 'node_10_pressure', 'node_19_pressure', 'link_22_flow', 'node_16_demand', 'node_15_demand', 'link_23_flow', 'node_21_demand', 'link_31_flow', 'link_16_flow', 'node_22_pressure', 'link_7_flow', 'link_12_flow', 'node_19_demand', 'link_19_flow', 'node_11_pressure', 'link_18_flow', 'node_13_demand', 'link_32_flow', 'link_20_flow', 'link_10_flow', 'node_6_demand', 'link_30_flow', 'node_17_pressure', 'node_28_demand', 'node_26_pressure', 'node_31_demand']]\n",
      "starting df shape: (87600, 66)\n",
      "This is training run 1 and has the shape:  (87600, 66)\n",
      "The value of dropped columns is 30\n"
     ]
    },
    {
     "name": "stderr",
     "output_type": "stream",
     "text": [
      "/Users/alexellard/opt/anaconda3/lib/python3.7/site-packages/xgboost/data.py:96: UserWarning: Use subset (sliced data) of np.ndarray is not recommended because it will generate extra copies and increase memory consumption\n",
      "  \"because it will generate extra copies and increase \" +\n"
     ]
    },
    {
     "name": "stdout",
     "output_type": "stream",
     "text": [
      "test y shape : (17520, 1)\n",
      "Inv y shape : (17520, 66)\n",
      "y pred shape : (17520, 1)\n",
      "inv y pred : (17520, 66)\n",
      "Run 1 Mean Absolute Error: 2.5445377951084844\n",
      "RMSE: 3.428\n",
      "R^2: 1.000\n",
      "[['link_14_flow', 'node_10_demand', 'node_4_demand', 'node_24_pressure', 'node_18_pressure', 'node_1_demand', 'node_13_pressure', 'node_14_pressure', 'node_25_demand', 'reservoir_demand', 'node_8_pressure', 'link_16_flow', 'link_32_flow', 'node_26_demand', 'node_2_pressure', 'node_18_demand', 'node_20_pressure', 'node_14_demand', 'link_3_flow', 'node_31_pressure', 'node_29_demand', 'node_1_pressure', 'node_23_demand', 'node_3_demand', 'link_6_flow', 'link_17_flow', 'node_11_pressure', 'node_24_demand', 'node_12_demand', 'node_15_demand']]\n",
      "starting df shape: (87600, 66)\n",
      "This is training run 2 and has the shape:  (87600, 66)\n",
      "The value of dropped columns is 30\n"
     ]
    },
    {
     "name": "stderr",
     "output_type": "stream",
     "text": [
      "/Users/alexellard/opt/anaconda3/lib/python3.7/site-packages/xgboost/data.py:96: UserWarning: Use subset (sliced data) of np.ndarray is not recommended because it will generate extra copies and increase memory consumption\n",
      "  \"because it will generate extra copies and increase \" +\n"
     ]
    },
    {
     "name": "stdout",
     "output_type": "stream",
     "text": [
      "test y shape : (17520, 1)\n",
      "Inv y shape : (17520, 66)\n",
      "y pred shape : (17520, 1)\n",
      "inv y pred : (17520, 66)\n",
      "Run 2 Mean Absolute Error: 0.7266601526191553\n",
      "RMSE: 0.940\n",
      "R^2: 1.000\n",
      "[['node_20_pressure', 'node_6_demand', 'link_19_flow', 'link_16_flow', 'node_30_demand', 'node_1_pressure', 'node_11_demand', 'node_23_pressure', 'node_16_pressure', 'node_8_pressure', 'node_12_demand', 'link_32_flow', 'node_3_pressure', 'node_14_demand', 'node_31_pressure', 'node_19_pressure', 'node_5_demand', 'node_31_demand', 'node_28_demand', 'node_7_demand', 'node_13_demand', 'node_5_pressure', 'link_27_flow', 'node_19_demand', 'node_29_demand', 'link_18_flow', 'node_16_demand', 'node_7_pressure', 'node_10_pressure', 'link_12_flow']]\n",
      "starting df shape: (87600, 66)\n",
      "This is training run 3 and has the shape:  (87600, 66)\n",
      "The value of dropped columns is 30\n"
     ]
    },
    {
     "name": "stderr",
     "output_type": "stream",
     "text": [
      "/Users/alexellard/opt/anaconda3/lib/python3.7/site-packages/xgboost/data.py:96: UserWarning: Use subset (sliced data) of np.ndarray is not recommended because it will generate extra copies and increase memory consumption\n",
      "  \"because it will generate extra copies and increase \" +\n"
     ]
    },
    {
     "name": "stdout",
     "output_type": "stream",
     "text": [
      "test y shape : (17520, 1)\n",
      "Inv y shape : (17520, 66)\n",
      "y pred shape : (17520, 1)\n",
      "inv y pred : (17520, 66)\n",
      "Run 3 Mean Absolute Error: 2.5390451203715423\n",
      "RMSE: 3.423\n",
      "R^2: 1.000\n",
      "[['node_18_pressure', 'node_15_demand', 'node_29_pressure', 'node_20_demand', 'link_6_flow', 'node_3_demand', 'node_16_demand', 'node_24_demand', 'node_30_pressure', 'node_5_demand', 'link_16_flow', 'node_21_demand', 'link_5_flow', 'link_13_flow', 'link_17_flow', 'link_28_flow', 'node_20_pressure', 'node_30_demand', 'node_18_demand', 'node_31_pressure', 'node_3_pressure', 'node_26_demand', 'node_24_pressure', 'node_1_demand', 'node_14_demand', 'node_9_demand', 'node_25_pressure', 'link_14_flow', 'node_31_demand', 'link_2_flow']]\n",
      "starting df shape: (87600, 66)\n",
      "This is training run 4 and has the shape:  (87600, 66)\n",
      "The value of dropped columns is 30\n"
     ]
    },
    {
     "name": "stderr",
     "output_type": "stream",
     "text": [
      "/Users/alexellard/opt/anaconda3/lib/python3.7/site-packages/xgboost/data.py:96: UserWarning: Use subset (sliced data) of np.ndarray is not recommended because it will generate extra copies and increase memory consumption\n",
      "  \"because it will generate extra copies and increase \" +\n"
     ]
    },
    {
     "name": "stdout",
     "output_type": "stream",
     "text": [
      "test y shape : (17520, 1)\n",
      "Inv y shape : (17520, 66)\n",
      "y pred shape : (17520, 1)\n",
      "inv y pred : (17520, 66)\n",
      "Run 4 Mean Absolute Error: 4.338440660172949\n",
      "RMSE: 5.849\n",
      "R^2: 1.000\n",
      "[['link_20_flow', 'link_8_flow', 'link_12_flow', 'reservoir_pressure', 'node_28_demand', 'link_24_flow', 'node_6_pressure', 'node_17_pressure', 'reservoir_demand', 'node_21_demand', 'node_12_pressure', 'node_29_pressure', 'link_10_flow', 'link_28_flow', 'node_9_pressure', 'node_26_pressure', 'link_25_flow', 'link_32_flow', 'node_8_demand', 'link_13_flow', 'node_17_demand', 'node_4_pressure', 'link_4_flow', 'node_31_demand', 'node_26_demand', 'node_23_demand', 'node_25_pressure', 'node_10_pressure', 'link_21_flow']]\n",
      "starting df shape: (87600, 67)\n",
      "This is training run 5 and has the shape:  (87600, 67)\n",
      "The value of dropped columns is 30\n"
     ]
    },
    {
     "name": "stderr",
     "output_type": "stream",
     "text": [
      "/Users/alexellard/opt/anaconda3/lib/python3.7/site-packages/xgboost/data.py:96: UserWarning: Use subset (sliced data) of np.ndarray is not recommended because it will generate extra copies and increase memory consumption\n",
      "  \"because it will generate extra copies and increase \" +\n"
     ]
    },
    {
     "name": "stdout",
     "output_type": "stream",
     "text": [
      "test y shape : (17520, 1)\n",
      "Inv y shape : (17520, 67)\n",
      "y pred shape : (17520, 1)\n",
      "inv y pred : (17520, 67)\n",
      "Run 5 Mean Absolute Error: 0.44352696825186416\n",
      "RMSE: 0.571\n",
      "R^2: 1.000\n",
      "[['node_18_pressure', 'node_10_demand', 'node_29_demand', 'node_21_pressure', 'link_24_flow', 'node_23_pressure', 'node_22_demand', 'link_3_flow', 'link_20_flow', 'node_5_pressure', 'node_21_demand', 'link_13_flow', 'node_20_demand', 'link_12_flow', 'node_2_demand', 'reservoir_pressure', 'node_9_demand', 'link_7_flow', 'node_8_pressure', 'node_9_pressure', 'link_18_flow', 'link_29_flow', 'node_22_pressure', 'node_1_demand', 'node_26_pressure', 'link_25_flow', 'node_17_pressure', 'node_11_pressure', 'node_16_demand', 'node_11_demand']]\n",
      "starting df shape: (87600, 66)\n",
      "This is training run 6 and has the shape:  (87600, 66)\n",
      "The value of dropped columns is 30\n"
     ]
    },
    {
     "name": "stderr",
     "output_type": "stream",
     "text": [
      "/Users/alexellard/opt/anaconda3/lib/python3.7/site-packages/xgboost/data.py:96: UserWarning: Use subset (sliced data) of np.ndarray is not recommended because it will generate extra copies and increase memory consumption\n",
      "  \"because it will generate extra copies and increase \" +\n"
     ]
    },
    {
     "name": "stdout",
     "output_type": "stream",
     "text": [
      "test y shape : (17520, 1)\n",
      "Inv y shape : (17520, 66)\n",
      "y pred shape : (17520, 1)\n",
      "inv y pred : (17520, 66)\n",
      "Run 6 Mean Absolute Error: 4.2515242037381284\n",
      "RMSE: 5.666\n",
      "R^2: 1.000\n",
      "[['link_19_flow', 'node_15_demand', 'node_24_pressure', 'reservoir_demand', 'link_27_flow', 'node_11_pressure', 'node_19_demand', 'node_16_demand', 'node_4_demand', 'node_13_demand', 'node_15_pressure', 'node_28_pressure', 'node_17_pressure', 'reservoir_pressure', 'node_30_pressure', 'node_18_demand', 'link_22_flow', 'link_3_flow', 'node_20_demand', 'link_18_flow', 'node_21_pressure', 'link_21_flow', 'node_12_demand', 'link_4_flow', 'node_30_demand', 'node_2_demand', 'node_9_pressure', 'node_12_pressure', 'link_30_flow', 'node_22_pressure']]\n",
      "starting df shape: (87600, 66)\n",
      "This is training run 7 and has the shape:  (87600, 66)\n",
      "The value of dropped columns is 30\n"
     ]
    },
    {
     "name": "stderr",
     "output_type": "stream",
     "text": [
      "/Users/alexellard/opt/anaconda3/lib/python3.7/site-packages/xgboost/data.py:96: UserWarning: Use subset (sliced data) of np.ndarray is not recommended because it will generate extra copies and increase memory consumption\n",
      "  \"because it will generate extra copies and increase \" +\n"
     ]
    },
    {
     "name": "stdout",
     "output_type": "stream",
     "text": [
      "test y shape : (17520, 1)\n",
      "Inv y shape : (17520, 66)\n",
      "y pred shape : (17520, 1)\n",
      "inv y pred : (17520, 66)\n",
      "Run 7 Mean Absolute Error: 0.4933531661232181\n",
      "RMSE: 0.649\n",
      "R^2: 1.000\n",
      "[['node_26_demand', 'node_6_pressure', 'node_1_demand', 'link_3_flow', 'node_19_pressure', 'node_5_demand', 'link_21_flow', 'link_2_flow', 'node_12_pressure', 'link_20_flow', 'node_3_pressure', 'node_31_pressure', 'node_12_demand', 'node_13_demand', 'node_30_demand', 'node_8_demand', 'link_16_flow', 'node_27_demand', 'node_20_pressure', 'link_19_flow', 'node_29_demand', 'node_25_pressure', 'node_23_pressure', 'node_10_demand', 'node_14_demand', 'node_22_demand', 'node_10_pressure', 'link_25_flow', 'node_29_pressure']]\n",
      "starting df shape: (87600, 67)\n",
      "This is training run 8 and has the shape:  (87600, 67)\n",
      "The value of dropped columns is 30\n"
     ]
    },
    {
     "name": "stderr",
     "output_type": "stream",
     "text": [
      "/Users/alexellard/opt/anaconda3/lib/python3.7/site-packages/xgboost/data.py:96: UserWarning: Use subset (sliced data) of np.ndarray is not recommended because it will generate extra copies and increase memory consumption\n",
      "  \"because it will generate extra copies and increase \" +\n"
     ]
    },
    {
     "name": "stdout",
     "output_type": "stream",
     "text": [
      "test y shape : (17520, 1)\n",
      "Inv y shape : (17520, 67)\n",
      "y pred shape : (17520, 1)\n",
      "inv y pred : (17520, 67)\n",
      "Run 8 Mean Absolute Error: 11.134956317625626\n",
      "RMSE: 14.624\n",
      "R^2: 1.000\n",
      "[['node_4_demand', 'node_1_pressure', 'node_20_demand', 'link_20_flow', 'node_20_pressure', 'link_12_flow', 'node_10_demand', 'node_4_pressure', 'reservoir_pressure', 'node_3_demand', 'node_10_pressure', 'reservoir_demand', 'link_28_flow', 'node_30_pressure', 'link_2_flow', 'link_27_flow', 'node_8_pressure', 'node_29_demand', 'link_3_flow', 'link_23_flow', 'node_22_pressure', 'node_16_demand', 'node_12_pressure', 'link_16_flow', 'node_3_pressure', 'node_6_pressure', 'node_7_pressure', 'link_29_flow', 'link_10_flow', 'link_31_flow']]\n",
      "starting df shape: (87600, 66)\n",
      "This is training run 9 and has the shape:  (87600, 66)\n",
      "The value of dropped columns is 30\n"
     ]
    },
    {
     "name": "stderr",
     "output_type": "stream",
     "text": [
      "/Users/alexellard/opt/anaconda3/lib/python3.7/site-packages/xgboost/data.py:96: UserWarning: Use subset (sliced data) of np.ndarray is not recommended because it will generate extra copies and increase memory consumption\n",
      "  \"because it will generate extra copies and increase \" +\n"
     ]
    },
    {
     "name": "stdout",
     "output_type": "stream",
     "text": [
      "test y shape : (17520, 1)\n",
      "Inv y shape : (17520, 66)\n",
      "y pred shape : (17520, 1)\n",
      "inv y pred : (17520, 66)\n",
      "Run 9 Mean Absolute Error: 0.7580441703774375\n",
      "RMSE: 0.997\n",
      "R^2: 1.000\n",
      "[['node_24_pressure', 'link_27_flow', 'link_32_flow', 'node_26_demand', 'node_13_pressure', 'link_31_flow', 'node_19_pressure', 'node_27_pressure', 'node_30_pressure', 'link_24_flow', 'node_8_demand', 'node_15_demand', 'link_14_flow', 'link_8_flow', 'link_19_flow', 'link_5_flow', 'node_25_pressure', 'link_6_flow', 'node_9_demand', 'link_3_flow', 'node_27_demand', 'node_5_demand', 'link_21_flow', 'link_11_flow', 'node_9_pressure', 'node_6_demand', 'node_26_pressure', 'link_10_flow', 'node_23_pressure', 'node_12_pressure']]\n",
      "starting df shape: (87600, 66)\n",
      "This is training run 10 and has the shape:  (87600, 66)\n",
      "The value of dropped columns is 30\n"
     ]
    },
    {
     "name": "stderr",
     "output_type": "stream",
     "text": [
      "/Users/alexellard/opt/anaconda3/lib/python3.7/site-packages/xgboost/data.py:96: UserWarning: Use subset (sliced data) of np.ndarray is not recommended because it will generate extra copies and increase memory consumption\n",
      "  \"because it will generate extra copies and increase \" +\n"
     ]
    },
    {
     "name": "stdout",
     "output_type": "stream",
     "text": [
      "test y shape : (17520, 1)\n",
      "Inv y shape : (17520, 66)\n",
      "y pred shape : (17520, 1)\n",
      "inv y pred : (17520, 66)\n",
      "Run 10 Mean Absolute Error: 2.5261966726061513\n",
      "RMSE: 3.383\n",
      "R^2: 1.000\n",
      "[['node_25_demand', 'link_17_flow', 'link_14_flow', 'link_15_flow', 'node_9_pressure', 'link_12_flow', 'node_7_demand', 'node_18_pressure', 'link_30_flow', 'node_17_pressure', 'node_22_pressure', 'link_10_flow', 'link_21_flow', 'node_4_demand', 'node_15_pressure', 'node_21_pressure', 'node_6_pressure', 'node_28_pressure', 'node_27_pressure', 'node_16_pressure', 'node_11_pressure', 'link_8_flow', 'node_5_demand', 'node_14_demand', 'node_10_pressure', 'node_9_demand', 'node_20_pressure', 'node_29_pressure', 'node_6_demand', 'reservoir_demand', 'node_23_pressure', 'link_5_flow', 'node_31_demand', 'link_28_flow', 'link_9_flow']]\n",
      "starting df shape: (87600, 61)\n",
      "This is training run 1 and has the shape:  (87600, 61)\n",
      "The value of dropped columns is 35\n"
     ]
    },
    {
     "name": "stderr",
     "output_type": "stream",
     "text": [
      "/Users/alexellard/opt/anaconda3/lib/python3.7/site-packages/xgboost/data.py:96: UserWarning: Use subset (sliced data) of np.ndarray is not recommended because it will generate extra copies and increase memory consumption\n",
      "  \"because it will generate extra copies and increase \" +\n"
     ]
    },
    {
     "name": "stdout",
     "output_type": "stream",
     "text": [
      "test y shape : (17520, 1)\n",
      "Inv y shape : (17520, 61)\n",
      "y pred shape : (17520, 1)\n",
      "inv y pred : (17520, 61)\n",
      "Run 1 Mean Absolute Error: 0.3851982790184678\n",
      "RMSE: 0.497\n",
      "R^2: 1.000\n",
      "[['node_14_demand', 'link_12_flow', 'node_3_demand', 'link_19_flow', 'node_17_demand', 'node_27_demand', 'node_11_pressure', 'node_5_pressure', 'node_26_demand', 'link_23_flow', 'node_8_pressure', 'node_22_pressure', 'link_16_flow', 'node_30_pressure', 'link_29_flow', 'node_26_pressure', 'link_22_flow', 'link_15_flow', 'reservoir_demand', 'node_28_pressure', 'link_9_flow', 'node_12_pressure', 'node_19_pressure', 'node_6_pressure', 'node_20_pressure', 'node_22_demand', 'node_25_pressure', 'node_18_demand', 'node_15_pressure', 'node_10_pressure', 'node_31_demand', 'node_4_demand', 'node_24_demand', 'link_2_flow']]\n",
      "starting df shape: (87600, 62)\n",
      "This is training run 2 and has the shape:  (87600, 62)\n",
      "The value of dropped columns is 35\n"
     ]
    },
    {
     "name": "stderr",
     "output_type": "stream",
     "text": [
      "/Users/alexellard/opt/anaconda3/lib/python3.7/site-packages/xgboost/data.py:96: UserWarning: Use subset (sliced data) of np.ndarray is not recommended because it will generate extra copies and increase memory consumption\n",
      "  \"because it will generate extra copies and increase \" +\n"
     ]
    },
    {
     "name": "stdout",
     "output_type": "stream",
     "text": [
      "test y shape : (17520, 1)\n",
      "Inv y shape : (17520, 62)\n",
      "y pred shape : (17520, 1)\n",
      "inv y pred : (17520, 62)\n",
      "Run 2 Mean Absolute Error: 0.9454683490495439\n",
      "RMSE: 1.254\n",
      "R^2: 1.000\n",
      "[['node_18_demand', 'node_19_pressure', 'node_6_pressure', 'link_28_flow', 'node_29_demand', 'node_2_pressure', 'node_12_pressure', 'link_24_flow', 'node_17_demand', 'node_5_demand', 'link_2_flow', 'link_5_flow', 'link_32_flow', 'node_27_pressure', 'node_25_demand', 'node_2_demand', 'link_22_flow', 'node_22_demand', 'node_20_pressure', 'node_10_pressure', 'node_15_demand', 'link_16_flow', 'node_11_pressure', 'node_4_demand', 'node_28_pressure', 'node_27_demand', 'node_16_pressure', 'node_4_pressure', 'node_23_pressure', 'link_18_flow', 'link_8_flow', 'link_14_flow', 'node_30_pressure', 'link_17_flow', 'node_6_demand']]\n",
      "starting df shape: (87600, 61)\n",
      "This is training run 3 and has the shape:  (87600, 61)\n",
      "The value of dropped columns is 35\n"
     ]
    },
    {
     "name": "stderr",
     "output_type": "stream",
     "text": [
      "/Users/alexellard/opt/anaconda3/lib/python3.7/site-packages/xgboost/data.py:96: UserWarning: Use subset (sliced data) of np.ndarray is not recommended because it will generate extra copies and increase memory consumption\n",
      "  \"because it will generate extra copies and increase \" +\n"
     ]
    },
    {
     "name": "stdout",
     "output_type": "stream",
     "text": [
      "test y shape : (17520, 1)\n",
      "Inv y shape : (17520, 61)\n",
      "y pred shape : (17520, 1)\n",
      "inv y pred : (17520, 61)\n",
      "Run 3 Mean Absolute Error: 5.831784746524411\n",
      "RMSE: 7.555\n",
      "R^2: 1.000\n",
      "[['link_21_flow', 'node_11_demand', 'node_18_demand', 'link_6_flow', 'node_22_demand', 'link_15_flow', 'link_27_flow', 'node_17_demand', 'link_2_flow', 'link_18_flow', 'link_3_flow', 'node_13_pressure', 'node_21_demand', 'link_12_flow', 'reservoir_pressure', 'node_1_pressure', 'node_16_pressure', 'link_23_flow', 'link_8_flow', 'node_5_demand', 'node_25_pressure', 'node_7_pressure', 'node_30_pressure', 'node_2_pressure', 'node_18_pressure', 'link_30_flow', 'node_29_demand', 'node_28_pressure', 'node_27_demand', 'node_9_pressure', 'link_22_flow', 'node_12_pressure', 'link_5_flow', 'link_17_flow', 'node_1_demand']]\n",
      "starting df shape: (87600, 61)\n",
      "This is training run 4 and has the shape:  (87600, 61)\n",
      "The value of dropped columns is 35\n"
     ]
    },
    {
     "name": "stderr",
     "output_type": "stream",
     "text": [
      "/Users/alexellard/opt/anaconda3/lib/python3.7/site-packages/xgboost/data.py:96: UserWarning: Use subset (sliced data) of np.ndarray is not recommended because it will generate extra copies and increase memory consumption\n",
      "  \"because it will generate extra copies and increase \" +\n"
     ]
    },
    {
     "name": "stdout",
     "output_type": "stream",
     "text": [
      "test y shape : (17520, 1)\n",
      "Inv y shape : (17520, 61)\n",
      "y pred shape : (17520, 1)\n",
      "inv y pred : (17520, 61)\n",
      "Run 4 Mean Absolute Error: 6.148121874516142\n",
      "RMSE: 8.010\n",
      "R^2: 1.000\n",
      "[['reservoir_demand', 'node_8_pressure', 'link_26_flow', 'node_4_demand', 'link_16_flow', 'link_32_flow', 'node_27_pressure', 'node_7_pressure', 'node_16_pressure', 'link_18_flow', 'node_19_demand', 'link_21_flow', 'link_31_flow', 'link_11_flow', 'node_21_demand', 'node_2_pressure', 'link_13_flow', 'node_4_pressure', 'link_12_flow', 'link_5_flow', 'reservoir_pressure', 'node_24_demand', 'node_17_demand', 'node_12_pressure', 'link_7_flow', 'link_3_flow', 'node_13_pressure', 'link_9_flow', 'node_31_demand', 'node_23_demand', 'node_9_pressure', 'link_15_flow', 'node_11_pressure', 'node_15_pressure', 'link_25_flow']]\n",
      "starting df shape: (87600, 61)\n",
      "This is training run 5 and has the shape:  (87600, 61)\n",
      "The value of dropped columns is 35\n"
     ]
    },
    {
     "name": "stderr",
     "output_type": "stream",
     "text": [
      "/Users/alexellard/opt/anaconda3/lib/python3.7/site-packages/xgboost/data.py:96: UserWarning: Use subset (sliced data) of np.ndarray is not recommended because it will generate extra copies and increase memory consumption\n",
      "  \"because it will generate extra copies and increase \" +\n"
     ]
    },
    {
     "name": "stdout",
     "output_type": "stream",
     "text": [
      "test y shape : (17520, 1)\n",
      "Inv y shape : (17520, 61)\n",
      "y pred shape : (17520, 1)\n",
      "inv y pred : (17520, 61)\n",
      "Run 5 Mean Absolute Error: 0.40522043096173216\n",
      "RMSE: 0.523\n",
      "R^2: 1.000\n",
      "[['node_12_demand', 'node_28_pressure', 'link_13_flow', 'node_11_demand', 'node_22_pressure', 'link_11_flow', 'node_4_demand', 'link_21_flow', 'link_7_flow', 'link_32_flow', 'node_9_demand', 'link_17_flow', 'node_21_demand', 'link_4_flow', 'link_16_flow', 'node_19_pressure', 'link_6_flow', 'node_31_pressure', 'node_13_pressure', 'node_3_demand', 'node_6_demand', 'node_29_pressure', 'node_7_demand', 'node_2_demand', 'node_30_demand', 'node_27_demand', 'node_9_pressure', 'node_20_demand', 'node_18_pressure', 'reservoir_demand', 'link_5_flow', 'link_18_flow', 'node_14_demand', 'link_24_flow', 'node_20_pressure']]\n",
      "starting df shape: (87600, 61)\n",
      "This is training run 6 and has the shape:  (87600, 61)\n",
      "The value of dropped columns is 35\n"
     ]
    },
    {
     "name": "stderr",
     "output_type": "stream",
     "text": [
      "/Users/alexellard/opt/anaconda3/lib/python3.7/site-packages/xgboost/data.py:96: UserWarning: Use subset (sliced data) of np.ndarray is not recommended because it will generate extra copies and increase memory consumption\n",
      "  \"because it will generate extra copies and increase \" +\n"
     ]
    },
    {
     "name": "stdout",
     "output_type": "stream",
     "text": [
      "test y shape : (17520, 1)\n",
      "Inv y shape : (17520, 61)\n",
      "y pred shape : (17520, 1)\n",
      "inv y pred : (17520, 61)\n",
      "Run 6 Mean Absolute Error: 0.3836550729937144\n",
      "RMSE: 0.497\n",
      "R^2: 1.000\n",
      "[['node_20_demand', 'link_24_flow', 'link_12_flow', 'node_23_demand', 'node_29_demand', 'node_6_demand', 'link_16_flow', 'node_17_demand', 'node_22_pressure', 'node_3_demand', 'node_9_demand', 'link_30_flow', 'node_11_pressure', 'node_2_demand', 'node_16_demand', 'node_5_demand', 'node_31_demand', 'node_4_pressure', 'link_22_flow', 'link_32_flow', 'link_25_flow', 'node_10_pressure', 'link_5_flow', 'link_8_flow', 'node_10_demand', 'link_14_flow', 'node_25_pressure', 'link_17_flow', 'link_28_flow', 'link_2_flow', 'reservoir_demand', 'node_18_demand', 'node_28_pressure', 'node_6_pressure']]\n",
      "starting df shape: (87600, 62)\n",
      "This is training run 7 and has the shape:  (87600, 62)\n",
      "The value of dropped columns is 35\n"
     ]
    },
    {
     "name": "stderr",
     "output_type": "stream",
     "text": [
      "/Users/alexellard/opt/anaconda3/lib/python3.7/site-packages/xgboost/data.py:96: UserWarning: Use subset (sliced data) of np.ndarray is not recommended because it will generate extra copies and increase memory consumption\n",
      "  \"because it will generate extra copies and increase \" +\n"
     ]
    },
    {
     "name": "stdout",
     "output_type": "stream",
     "text": [
      "test y shape : (17520, 1)\n",
      "Inv y shape : (17520, 62)\n",
      "y pred shape : (17520, 1)\n",
      "inv y pred : (17520, 62)\n",
      "Run 7 Mean Absolute Error: 0.9162896214899187\n",
      "RMSE: 1.195\n",
      "R^2: 1.000\n",
      "[['node_27_pressure', 'node_4_demand', 'link_5_flow', 'node_8_demand', 'node_8_pressure', 'node_12_demand', 'node_18_pressure', 'node_30_demand', 'node_3_pressure', 'node_26_pressure', 'node_17_demand', 'link_20_flow', 'node_23_demand', 'link_19_flow', 'node_28_pressure', 'node_25_pressure', 'node_26_demand', 'node_9_pressure', 'link_30_flow', 'node_5_demand', 'link_13_flow', 'node_5_pressure', 'node_7_demand', 'node_10_pressure', 'node_19_pressure', 'node_23_pressure', 'link_10_flow', 'node_15_pressure', 'link_7_flow', 'reservoir_pressure', 'node_25_demand', 'node_9_demand', 'link_16_flow', 'link_8_flow', 'node_17_pressure']]\n",
      "starting df shape: (87600, 61)\n",
      "This is training run 8 and has the shape:  (87600, 61)\n",
      "The value of dropped columns is 35\n"
     ]
    },
    {
     "name": "stderr",
     "output_type": "stream",
     "text": [
      "/Users/alexellard/opt/anaconda3/lib/python3.7/site-packages/xgboost/data.py:96: UserWarning: Use subset (sliced data) of np.ndarray is not recommended because it will generate extra copies and increase memory consumption\n",
      "  \"because it will generate extra copies and increase \" +\n"
     ]
    },
    {
     "name": "stdout",
     "output_type": "stream",
     "text": [
      "test y shape : (17520, 1)\n",
      "Inv y shape : (17520, 61)\n",
      "y pred shape : (17520, 1)\n",
      "inv y pred : (17520, 61)\n",
      "Run 8 Mean Absolute Error: 3.3819623336767397\n",
      "RMSE: 4.497\n",
      "R^2: 1.000\n",
      "[['node_19_pressure', 'node_15_pressure', 'node_7_demand', 'link_20_flow', 'node_13_pressure', 'node_17_demand', 'node_19_demand', 'node_21_pressure', 'node_22_pressure', 'node_3_demand', 'node_9_demand', 'node_15_demand', 'link_6_flow', 'node_24_pressure', 'node_12_pressure', 'node_29_pressure', 'link_30_flow', 'node_18_pressure', 'link_31_flow', 'node_5_pressure', 'link_18_flow', 'node_28_demand', 'node_26_demand', 'node_1_demand', 'link_29_flow', 'node_18_demand', 'link_17_flow', 'link_15_flow', 'node_16_demand', 'node_13_demand', 'node_14_pressure', 'link_14_flow', 'node_17_pressure', 'link_25_flow']]\n",
      "starting df shape: (87600, 62)\n",
      "This is training run 9 and has the shape:  (87600, 62)\n",
      "The value of dropped columns is 35\n"
     ]
    },
    {
     "name": "stderr",
     "output_type": "stream",
     "text": [
      "/Users/alexellard/opt/anaconda3/lib/python3.7/site-packages/xgboost/data.py:96: UserWarning: Use subset (sliced data) of np.ndarray is not recommended because it will generate extra copies and increase memory consumption\n",
      "  \"because it will generate extra copies and increase \" +\n"
     ]
    },
    {
     "name": "stdout",
     "output_type": "stream",
     "text": [
      "test y shape : (17520, 1)\n",
      "Inv y shape : (17520, 62)\n",
      "y pred shape : (17520, 1)\n",
      "inv y pred : (17520, 62)\n",
      "Run 9 Mean Absolute Error: 4.182261924037379\n",
      "RMSE: 5.511\n",
      "R^2: 1.000\n",
      "[['node_26_demand', 'node_7_pressure', 'link_24_flow', 'link_2_flow', 'node_15_pressure', 'node_14_pressure', 'node_6_demand', 'node_28_demand', 'link_8_flow', 'node_31_demand', 'node_20_pressure', 'node_16_demand', 'node_25_pressure', 'node_28_pressure', 'link_18_flow', 'link_12_flow', 'node_27_demand', 'node_13_demand', 'node_30_demand', 'node_19_demand', 'node_23_demand', 'link_13_flow', 'node_23_pressure', 'node_8_pressure', 'node_18_pressure', 'node_31_pressure', 'node_14_demand', 'node_3_pressure', 'node_25_demand', 'node_24_pressure', 'node_27_pressure', 'node_16_pressure', 'link_17_flow', 'link_16_flow']]\n",
      "starting df shape: (87600, 62)\n",
      "This is training run 10 and has the shape:  (87600, 62)\n",
      "The value of dropped columns is 35\n"
     ]
    },
    {
     "name": "stderr",
     "output_type": "stream",
     "text": [
      "/Users/alexellard/opt/anaconda3/lib/python3.7/site-packages/xgboost/data.py:96: UserWarning: Use subset (sliced data) of np.ndarray is not recommended because it will generate extra copies and increase memory consumption\n",
      "  \"because it will generate extra copies and increase \" +\n"
     ]
    },
    {
     "name": "stdout",
     "output_type": "stream",
     "text": [
      "test y shape : (17520, 1)\n",
      "Inv y shape : (17520, 62)\n",
      "y pred shape : (17520, 1)\n",
      "inv y pred : (17520, 62)\n",
      "Run 10 Mean Absolute Error: 4.784834140816795\n",
      "RMSE: 6.268\n",
      "R^2: 1.000\n",
      "[['link_24_flow', 'link_28_flow', 'link_6_flow', 'link_21_flow', 'node_27_demand', 'node_9_pressure', 'link_5_flow', 'node_6_pressure', 'node_18_pressure', 'link_8_flow', 'node_11_demand', 'link_11_flow', 'node_13_pressure', 'link_22_flow', 'node_20_demand', 'node_5_pressure', 'link_16_flow', 'node_18_demand', 'node_31_pressure', 'node_17_demand', 'node_19_pressure', 'node_19_demand', 'node_4_demand', 'node_1_demand', 'node_27_pressure', 'node_30_pressure', 'link_23_flow', 'link_9_flow', 'link_25_flow', 'node_21_pressure', 'link_3_flow', 'node_7_pressure', 'node_22_demand', 'link_20_flow', 'node_4_pressure', 'node_25_demand', 'node_17_pressure', 'link_2_flow', 'link_27_flow', 'node_8_pressure']]\n",
      "starting df shape: (87600, 56)\n",
      "This is training run 1 and has the shape:  (87600, 56)\n",
      "The value of dropped columns is 40\n"
     ]
    },
    {
     "name": "stderr",
     "output_type": "stream",
     "text": [
      "/Users/alexellard/opt/anaconda3/lib/python3.7/site-packages/xgboost/data.py:96: UserWarning: Use subset (sliced data) of np.ndarray is not recommended because it will generate extra copies and increase memory consumption\n",
      "  \"because it will generate extra copies and increase \" +\n"
     ]
    },
    {
     "name": "stdout",
     "output_type": "stream",
     "text": [
      "test y shape : (17520, 1)\n",
      "Inv y shape : (17520, 56)\n",
      "y pred shape : (17520, 1)\n",
      "inv y pred : (17520, 56)\n",
      "Run 1 Mean Absolute Error: 2.710777104848049\n",
      "RMSE: 3.562\n",
      "R^2: 1.000\n",
      "[['node_19_demand', 'node_6_pressure', 'node_21_pressure', 'node_16_demand', 'link_14_flow', 'node_13_demand', 'node_11_pressure', 'link_11_flow', 'link_21_flow', 'node_29_demand', 'node_6_demand', 'link_19_flow', 'node_2_pressure', 'node_15_pressure', 'link_15_flow', 'node_14_pressure', 'link_32_flow', 'node_1_demand', 'node_3_pressure', 'node_28_pressure', 'node_29_pressure', 'node_11_demand', 'node_14_demand', 'node_8_pressure', 'node_23_pressure', 'node_30_pressure', 'link_28_flow', 'link_5_flow', 'node_22_demand', 'node_16_pressure', 'node_26_pressure', 'node_10_pressure', 'link_29_flow', 'link_17_flow', 'link_10_flow', 'link_16_flow', 'node_7_pressure', 'link_31_flow', 'node_18_pressure']]\n",
      "starting df shape: (87600, 57)\n",
      "This is training run 2 and has the shape:  (87600, 57)\n",
      "The value of dropped columns is 40\n"
     ]
    },
    {
     "name": "stderr",
     "output_type": "stream",
     "text": [
      "/Users/alexellard/opt/anaconda3/lib/python3.7/site-packages/xgboost/data.py:96: UserWarning: Use subset (sliced data) of np.ndarray is not recommended because it will generate extra copies and increase memory consumption\n",
      "  \"because it will generate extra copies and increase \" +\n"
     ]
    },
    {
     "name": "stdout",
     "output_type": "stream",
     "text": [
      "test y shape : (17520, 1)\n",
      "Inv y shape : (17520, 57)\n",
      "y pred shape : (17520, 1)\n",
      "inv y pred : (17520, 57)\n",
      "Run 2 Mean Absolute Error: 2.8501988504765734\n",
      "RMSE: 3.767\n",
      "R^2: 1.000\n",
      "[['link_29_flow', 'node_11_demand', 'node_25_pressure', 'node_1_pressure', 'link_32_flow', 'node_14_pressure', 'node_23_demand', 'node_10_pressure', 'link_4_flow', 'node_22_pressure', 'node_2_demand', 'reservoir_pressure', 'link_9_flow', 'node_28_demand', 'node_15_pressure', 'node_12_pressure', 'node_31_pressure', 'link_20_flow', 'node_24_pressure', 'link_26_flow', 'node_21_pressure', 'node_26_demand', 'link_27_flow', 'node_21_demand', 'link_12_flow', 'node_19_pressure', 'link_13_flow', 'node_29_pressure', 'link_31_flow', 'link_2_flow', 'node_5_demand', 'node_15_demand', 'node_27_demand', 'link_19_flow', 'node_24_demand', 'node_9_pressure', 'node_8_demand', 'node_9_demand', 'node_14_demand', 'link_24_flow']]\n",
      "starting df shape: (87600, 56)\n",
      "This is training run 3 and has the shape:  (87600, 56)\n",
      "The value of dropped columns is 40\n"
     ]
    },
    {
     "name": "stderr",
     "output_type": "stream",
     "text": [
      "/Users/alexellard/opt/anaconda3/lib/python3.7/site-packages/xgboost/data.py:96: UserWarning: Use subset (sliced data) of np.ndarray is not recommended because it will generate extra copies and increase memory consumption\n",
      "  \"because it will generate extra copies and increase \" +\n"
     ]
    },
    {
     "name": "stdout",
     "output_type": "stream",
     "text": [
      "test y shape : (17520, 1)\n",
      "Inv y shape : (17520, 56)\n",
      "y pred shape : (17520, 1)\n",
      "inv y pred : (17520, 56)\n",
      "Run 3 Mean Absolute Error: 2.8152240523206054\n",
      "RMSE: 3.719\n",
      "R^2: 1.000\n",
      "[['node_17_pressure', 'link_25_flow', 'link_15_flow', 'node_29_demand', 'link_22_flow', 'link_31_flow', 'node_7_pressure', 'node_22_demand', 'node_20_pressure', 'node_8_pressure', 'node_15_pressure', 'node_23_demand', 'node_19_pressure', 'link_12_flow', 'node_13_demand', 'link_28_flow', 'node_8_demand', 'node_20_demand', 'node_13_pressure', 'node_18_pressure', 'node_22_pressure', 'node_12_pressure', 'node_5_pressure', 'link_29_flow', 'node_19_demand', 'node_30_pressure', 'link_3_flow', 'node_29_pressure', 'link_21_flow', 'node_11_demand', 'node_3_demand', 'link_6_flow', 'link_23_flow', 'link_26_flow', 'node_21_demand', 'node_15_demand', 'node_14_pressure', 'link_11_flow', 'node_7_demand']]\n",
      "starting df shape: (87600, 57)\n",
      "This is training run 4 and has the shape:  (87600, 57)\n",
      "The value of dropped columns is 40\n"
     ]
    },
    {
     "name": "stderr",
     "output_type": "stream",
     "text": [
      "/Users/alexellard/opt/anaconda3/lib/python3.7/site-packages/xgboost/data.py:96: UserWarning: Use subset (sliced data) of np.ndarray is not recommended because it will generate extra copies and increase memory consumption\n",
      "  \"because it will generate extra copies and increase \" +\n"
     ]
    },
    {
     "name": "stdout",
     "output_type": "stream",
     "text": [
      "test y shape : (17520, 1)\n",
      "Inv y shape : (17520, 57)\n",
      "y pred shape : (17520, 1)\n",
      "inv y pred : (17520, 57)\n",
      "Run 4 Mean Absolute Error: 2.705510583479115\n",
      "RMSE: 3.574\n",
      "R^2: 1.000\n",
      "[['node_1_pressure', 'node_16_demand', 'link_21_flow', 'node_13_pressure', 'reservoir_pressure', 'node_3_demand', 'node_19_demand', 'link_3_flow', 'link_9_flow', 'node_15_pressure', 'node_8_demand', 'node_2_pressure', 'node_31_demand', 'node_6_demand', 'node_6_pressure', 'node_27_demand', 'node_17_pressure', 'link_23_flow', 'node_10_demand', 'link_18_flow', 'node_28_pressure', 'link_26_flow', 'node_7_demand', 'node_8_pressure', 'node_23_demand', 'link_4_flow', 'link_10_flow', 'link_29_flow', 'node_26_pressure', 'link_13_flow', 'node_12_pressure', 'node_3_pressure', 'node_26_demand', 'node_11_demand', 'link_24_flow', 'link_5_flow', 'link_19_flow', 'link_27_flow', 'reservoir_demand', 'node_15_demand']]\n",
      "starting df shape: (87600, 56)\n",
      "This is training run 5 and has the shape:  (87600, 56)\n",
      "The value of dropped columns is 40\n"
     ]
    },
    {
     "name": "stderr",
     "output_type": "stream",
     "text": [
      "/Users/alexellard/opt/anaconda3/lib/python3.7/site-packages/xgboost/data.py:96: UserWarning: Use subset (sliced data) of np.ndarray is not recommended because it will generate extra copies and increase memory consumption\n",
      "  \"because it will generate extra copies and increase \" +\n"
     ]
    },
    {
     "name": "stdout",
     "output_type": "stream",
     "text": [
      "test y shape : (17520, 1)\n",
      "Inv y shape : (17520, 56)\n",
      "y pred shape : (17520, 1)\n",
      "inv y pred : (17520, 56)\n",
      "Run 5 Mean Absolute Error: 0.43265904566015684\n",
      "RMSE: 0.570\n",
      "R^2: 1.000\n",
      "[['link_32_flow', 'node_30_demand', 'link_27_flow', 'node_13_pressure', 'node_17_demand', 'link_18_flow', 'node_28_demand', 'node_3_demand', 'node_3_pressure', 'node_27_pressure', 'node_11_demand', 'link_7_flow', 'node_2_pressure', 'node_4_pressure', 'link_28_flow', 'reservoir_pressure', 'node_30_pressure', 'link_11_flow', 'link_3_flow', 'link_6_flow', 'node_1_pressure', 'link_21_flow', 'node_26_pressure', 'node_9_pressure', 'node_7_demand', 'node_12_demand', 'link_13_flow', 'node_7_pressure', 'node_20_pressure', 'node_14_demand', 'link_10_flow', 'node_6_demand', 'node_24_demand', 'link_17_flow', 'node_20_demand', 'reservoir_demand', 'node_23_demand', 'link_22_flow', 'node_4_demand']]\n",
      "starting df shape: (87600, 57)\n",
      "This is training run 6 and has the shape:  (87600, 57)\n",
      "The value of dropped columns is 40\n"
     ]
    },
    {
     "name": "stderr",
     "output_type": "stream",
     "text": [
      "/Users/alexellard/opt/anaconda3/lib/python3.7/site-packages/xgboost/data.py:96: UserWarning: Use subset (sliced data) of np.ndarray is not recommended because it will generate extra copies and increase memory consumption\n",
      "  \"because it will generate extra copies and increase \" +\n"
     ]
    },
    {
     "name": "stdout",
     "output_type": "stream",
     "text": [
      "test y shape : (17520, 1)\n",
      "Inv y shape : (17520, 57)\n",
      "y pred shape : (17520, 1)\n",
      "inv y pred : (17520, 57)\n",
      "Run 6 Mean Absolute Error: 0.4027473108993673\n",
      "RMSE: 0.520\n",
      "R^2: 1.000\n",
      "[['link_17_flow', 'node_10_demand', 'node_18_pressure', 'node_25_pressure', 'node_29_pressure', 'node_15_demand', 'link_8_flow', 'link_20_flow', 'node_24_demand', 'node_1_demand', 'link_4_flow', 'node_26_pressure', 'node_12_pressure', 'link_18_flow', 'node_11_demand', 'node_18_demand', 'link_24_flow', 'link_7_flow', 'node_2_demand', 'link_32_flow', 'node_28_demand', 'link_13_flow', 'node_31_demand', 'node_8_pressure', 'node_14_demand', 'link_11_flow', 'node_31_pressure', 'node_23_demand', 'link_30_flow', 'link_6_flow', 'node_23_pressure', 'link_15_flow', 'link_21_flow', 'link_31_flow', 'link_3_flow', 'link_26_flow', 'node_16_pressure', 'node_29_demand', 'node_7_pressure']]\n",
      "starting df shape: (87600, 57)\n",
      "This is training run 7 and has the shape:  (87600, 57)\n",
      "The value of dropped columns is 40\n"
     ]
    },
    {
     "name": "stderr",
     "output_type": "stream",
     "text": [
      "/Users/alexellard/opt/anaconda3/lib/python3.7/site-packages/xgboost/data.py:96: UserWarning: Use subset (sliced data) of np.ndarray is not recommended because it will generate extra copies and increase memory consumption\n",
      "  \"because it will generate extra copies and increase \" +\n"
     ]
    },
    {
     "name": "stdout",
     "output_type": "stream",
     "text": [
      "test y shape : (17520, 1)\n",
      "Inv y shape : (17520, 57)\n",
      "y pred shape : (17520, 1)\n",
      "inv y pred : (17520, 57)\n",
      "Run 7 Mean Absolute Error: 2.9148073619930654\n",
      "RMSE: 3.891\n",
      "R^2: 1.000\n",
      "[['node_19_demand', 'node_7_pressure', 'node_24_demand', 'reservoir_pressure', 'node_11_pressure', 'link_22_flow', 'node_26_demand', 'node_20_pressure', 'link_16_flow', 'link_8_flow', 'node_12_pressure', 'node_9_demand', 'node_11_demand', 'link_17_flow', 'node_1_demand', 'node_18_demand', 'node_29_demand', 'node_15_pressure', 'node_19_pressure', 'node_5_pressure', 'node_3_demand', 'link_24_flow', 'link_27_flow', 'link_11_flow', 'node_12_demand', 'node_21_demand', 'node_13_pressure', 'node_21_pressure', 'node_15_demand', 'link_2_flow', 'node_28_demand', 'node_20_demand', 'node_23_demand', 'node_26_pressure', 'node_27_demand', 'link_29_flow', 'node_3_pressure', 'link_21_flow', 'link_18_flow', 'link_7_flow']]\n",
      "starting df shape: (87600, 56)\n",
      "This is training run 8 and has the shape:  (87600, 56)\n",
      "The value of dropped columns is 40\n"
     ]
    },
    {
     "name": "stderr",
     "output_type": "stream",
     "text": [
      "/Users/alexellard/opt/anaconda3/lib/python3.7/site-packages/xgboost/data.py:96: UserWarning: Use subset (sliced data) of np.ndarray is not recommended because it will generate extra copies and increase memory consumption\n",
      "  \"because it will generate extra copies and increase \" +\n"
     ]
    },
    {
     "name": "stdout",
     "output_type": "stream",
     "text": [
      "test y shape : (17520, 1)\n",
      "Inv y shape : (17520, 56)\n",
      "y pred shape : (17520, 1)\n",
      "inv y pred : (17520, 56)\n",
      "Run 8 Mean Absolute Error: 2.7225561640972957\n",
      "RMSE: 3.575\n",
      "R^2: 1.000\n",
      "[['node_17_pressure', 'node_8_demand', 'node_7_demand', 'node_28_demand', 'reservoir_demand', 'node_21_demand', 'node_4_pressure', 'node_2_pressure', 'node_20_pressure', 'node_27_demand', 'link_27_flow', 'node_20_demand', 'node_4_demand', 'node_3_pressure', 'node_12_pressure', 'node_5_pressure', 'link_31_flow', 'node_12_demand', 'link_22_flow', 'link_11_flow', 'node_23_pressure', 'node_16_pressure', 'node_19_pressure', 'node_21_pressure', 'node_13_pressure', 'node_1_demand', 'node_19_demand', 'link_8_flow', 'node_10_demand', 'node_31_demand', 'node_3_demand', 'node_18_demand', 'link_15_flow', 'node_6_demand', 'node_30_demand', 'link_14_flow', 'link_30_flow', 'node_9_demand', 'node_15_pressure', 'reservoir_pressure']]\n",
      "starting df shape: (87600, 56)\n",
      "This is training run 9 and has the shape:  (87600, 56)\n",
      "The value of dropped columns is 40\n"
     ]
    },
    {
     "name": "stderr",
     "output_type": "stream",
     "text": [
      "/Users/alexellard/opt/anaconda3/lib/python3.7/site-packages/xgboost/data.py:96: UserWarning: Use subset (sliced data) of np.ndarray is not recommended because it will generate extra copies and increase memory consumption\n",
      "  \"because it will generate extra copies and increase \" +\n"
     ]
    },
    {
     "name": "stdout",
     "output_type": "stream",
     "text": [
      "test y shape : (17520, 1)\n",
      "Inv y shape : (17520, 56)\n",
      "y pred shape : (17520, 1)\n",
      "inv y pred : (17520, 56)\n",
      "Run 9 Mean Absolute Error: 0.6903902361126116\n",
      "RMSE: 0.892\n",
      "R^2: 1.000\n",
      "[['node_31_demand', 'link_22_flow', 'node_2_demand', 'node_11_demand', 'node_30_demand', 'link_18_flow', 'link_14_flow', 'node_18_pressure', 'node_8_demand', 'node_16_demand', 'node_4_demand', 'node_26_pressure', 'node_27_pressure', 'node_26_demand', 'node_25_pressure', 'node_11_pressure', 'node_3_pressure', 'node_9_demand', 'node_1_demand', 'link_7_flow', 'node_5_demand', 'link_6_flow', 'node_7_pressure', 'node_30_pressure', 'node_2_pressure', 'link_23_flow', 'node_1_pressure', 'node_20_demand', 'node_22_demand', 'node_17_demand', 'link_26_flow', 'node_15_demand', 'link_21_flow', 'node_10_pressure', 'link_27_flow', 'link_13_flow', 'node_13_pressure', 'node_23_pressure', 'node_24_pressure', 'node_19_pressure']]\n",
      "starting df shape: (87600, 56)\n",
      "This is training run 10 and has the shape:  (87600, 56)\n",
      "The value of dropped columns is 40\n"
     ]
    },
    {
     "name": "stderr",
     "output_type": "stream",
     "text": [
      "/Users/alexellard/opt/anaconda3/lib/python3.7/site-packages/xgboost/data.py:96: UserWarning: Use subset (sliced data) of np.ndarray is not recommended because it will generate extra copies and increase memory consumption\n",
      "  \"because it will generate extra copies and increase \" +\n"
     ]
    },
    {
     "name": "stdout",
     "output_type": "stream",
     "text": [
      "test y shape : (17520, 1)\n",
      "Inv y shape : (17520, 56)\n",
      "y pred shape : (17520, 1)\n",
      "inv y pred : (17520, 56)\n",
      "Run 10 Mean Absolute Error: 2.3155602811623908\n",
      "RMSE: 3.112\n",
      "R^2: 1.000\n",
      "[['link_31_flow', 'node_8_pressure', 'node_4_demand', 'node_10_pressure', 'node_15_pressure', 'node_18_pressure', 'link_15_flow', 'link_6_flow', 'node_11_pressure', 'link_13_flow', 'node_2_pressure', 'node_7_demand', 'link_17_flow', 'node_17_pressure', 'link_11_flow', 'node_28_demand', 'node_1_pressure', 'link_19_flow', 'node_28_pressure', 'link_22_flow', 'node_30_pressure', 'node_22_pressure', 'node_15_demand', 'node_31_pressure', 'link_21_flow', 'node_9_pressure', 'link_26_flow', 'node_7_pressure', 'node_13_pressure', 'node_19_demand', 'node_23_demand', 'node_25_demand', 'node_26_demand', 'node_24_pressure', 'node_27_demand', 'node_12_demand', 'node_8_demand', 'node_21_pressure', 'link_3_flow', 'node_30_demand', 'node_26_pressure', 'link_10_flow', 'link_25_flow', 'node_6_demand', 'node_5_pressure']]\n",
      "starting df shape: (87600, 51)\n",
      "This is training run 1 and has the shape:  (87600, 51)\n",
      "The value of dropped columns is 45\n"
     ]
    },
    {
     "name": "stderr",
     "output_type": "stream",
     "text": [
      "/Users/alexellard/opt/anaconda3/lib/python3.7/site-packages/xgboost/data.py:96: UserWarning: Use subset (sliced data) of np.ndarray is not recommended because it will generate extra copies and increase memory consumption\n",
      "  \"because it will generate extra copies and increase \" +\n"
     ]
    },
    {
     "name": "stdout",
     "output_type": "stream",
     "text": [
      "test y shape : (17520, 1)\n",
      "Inv y shape : (17520, 51)\n",
      "y pred shape : (17520, 1)\n",
      "inv y pred : (17520, 51)\n",
      "Run 1 Mean Absolute Error: 4.88998357279252\n",
      "RMSE: 6.507\n",
      "R^2: 1.000\n",
      "[['node_26_demand', 'node_4_pressure', 'link_3_flow', 'node_16_pressure', 'node_18_demand', 'node_27_demand', 'node_3_demand', 'link_29_flow', 'link_11_flow', 'node_22_demand', 'node_14_demand', 'node_22_pressure', 'node_12_demand', 'link_22_flow', 'node_27_pressure', 'link_15_flow', 'link_14_flow', 'link_30_flow', 'node_19_pressure', 'node_7_demand', 'node_8_demand', 'link_10_flow', 'node_23_demand', 'node_28_pressure', 'link_23_flow', 'node_29_demand', 'node_10_demand', 'node_13_pressure', 'link_18_flow', 'node_20_pressure', 'node_31_pressure', 'link_32_flow', 'node_30_demand', 'node_11_pressure', 'node_1_demand', 'link_8_flow', 'node_11_demand', 'node_17_demand', 'link_7_flow', 'node_26_pressure', 'node_28_demand', 'link_27_flow', 'node_25_demand', 'node_6_pressure']]\n",
      "starting df shape: (87600, 52)\n",
      "This is training run 2 and has the shape:  (87600, 52)\n",
      "The value of dropped columns is 45\n"
     ]
    },
    {
     "name": "stderr",
     "output_type": "stream",
     "text": [
      "/Users/alexellard/opt/anaconda3/lib/python3.7/site-packages/xgboost/data.py:96: UserWarning: Use subset (sliced data) of np.ndarray is not recommended because it will generate extra copies and increase memory consumption\n",
      "  \"because it will generate extra copies and increase \" +\n"
     ]
    },
    {
     "name": "stdout",
     "output_type": "stream",
     "text": [
      "test y shape : (17520, 1)\n",
      "Inv y shape : (17520, 52)\n",
      "y pred shape : (17520, 1)\n",
      "inv y pred : (17520, 52)\n",
      "Run 2 Mean Absolute Error: 3.284323047370925\n",
      "RMSE: 4.394\n",
      "R^2: 1.000\n",
      "[['link_23_flow', 'node_16_pressure', 'node_3_pressure', 'link_32_flow', 'node_13_pressure', 'node_2_pressure', 'node_18_pressure', 'node_16_demand', 'node_23_demand', 'link_19_flow', 'node_13_demand', 'link_24_flow', 'link_3_flow', 'node_6_pressure', 'link_18_flow', 'link_9_flow', 'link_20_flow', 'node_17_demand', 'node_2_demand', 'node_7_pressure', 'reservoir_demand', 'node_28_pressure', 'node_12_pressure', 'node_8_pressure', 'node_20_pressure', 'node_25_demand', 'link_29_flow', 'node_30_pressure', 'link_22_flow', 'node_5_demand', 'node_27_demand', 'link_25_flow', 'node_14_demand', 'link_8_flow', 'node_15_pressure', 'node_10_pressure', 'node_22_pressure', 'node_26_pressure', 'link_30_flow', 'link_31_flow', 'node_21_pressure', 'link_15_flow', 'link_16_flow', 'link_5_flow', 'link_26_flow']]\n",
      "starting df shape: (87600, 51)\n",
      "This is training run 3 and has the shape:  (87600, 51)\n",
      "The value of dropped columns is 45\n"
     ]
    },
    {
     "name": "stderr",
     "output_type": "stream",
     "text": [
      "/Users/alexellard/opt/anaconda3/lib/python3.7/site-packages/xgboost/data.py:96: UserWarning: Use subset (sliced data) of np.ndarray is not recommended because it will generate extra copies and increase memory consumption\n",
      "  \"because it will generate extra copies and increase \" +\n"
     ]
    },
    {
     "name": "stdout",
     "output_type": "stream",
     "text": [
      "test y shape : (17520, 1)\n",
      "Inv y shape : (17520, 51)\n",
      "y pred shape : (17520, 1)\n",
      "inv y pred : (17520, 51)\n",
      "Run 3 Mean Absolute Error: 0.5742143335718305\n",
      "RMSE: 0.749\n",
      "R^2: 1.000\n",
      "[['node_10_demand', 'node_31_pressure', 'node_15_pressure', 'node_6_pressure', 'link_2_flow', 'node_29_pressure', 'node_4_pressure', 'link_28_flow', 'link_15_flow', 'link_26_flow', 'node_26_demand', 'node_14_demand', 'node_5_pressure', 'node_29_demand', 'node_6_demand', 'node_20_pressure', 'link_9_flow', 'node_1_demand', 'node_9_pressure', 'node_21_pressure', 'node_30_demand', 'node_9_demand', 'link_22_flow', 'node_19_pressure', 'node_16_pressure', 'node_31_demand', 'node_4_demand', 'link_20_flow', 'link_29_flow', 'link_16_flow', 'link_19_flow', 'node_8_demand', 'link_4_flow', 'node_17_demand', 'link_31_flow', 'node_23_pressure', 'node_27_pressure', 'link_12_flow', 'node_24_pressure', 'link_18_flow', 'node_15_demand', 'reservoir_demand', 'reservoir_pressure', 'node_22_pressure']]\n",
      "starting df shape: (87600, 52)\n",
      "This is training run 4 and has the shape:  (87600, 52)\n",
      "The value of dropped columns is 45\n"
     ]
    },
    {
     "name": "stderr",
     "output_type": "stream",
     "text": [
      "/Users/alexellard/opt/anaconda3/lib/python3.7/site-packages/xgboost/data.py:96: UserWarning: Use subset (sliced data) of np.ndarray is not recommended because it will generate extra copies and increase memory consumption\n",
      "  \"because it will generate extra copies and increase \" +\n"
     ]
    },
    {
     "name": "stdout",
     "output_type": "stream",
     "text": [
      "test y shape : (17520, 1)\n",
      "Inv y shape : (17520, 52)\n",
      "y pred shape : (17520, 1)\n",
      "inv y pred : (17520, 52)\n",
      "Run 4 Mean Absolute Error: 1.0019056352912727\n",
      "RMSE: 1.317\n",
      "R^2: 1.000\n",
      "[['node_12_pressure', 'node_20_pressure', 'node_8_demand', 'node_11_demand', 'reservoir_pressure', 'link_21_flow', 'link_18_flow', 'link_27_flow', 'node_17_demand', 'link_11_flow', 'link_5_flow', 'node_28_demand', 'node_27_demand', 'node_23_demand', 'node_19_pressure', 'link_20_flow', 'node_14_pressure', 'link_16_flow', 'node_31_pressure', 'node_6_demand', 'link_30_flow', 'node_29_demand', 'link_32_flow', 'node_10_pressure', 'node_13_pressure', 'node_9_pressure', 'node_29_pressure', 'link_4_flow', 'link_13_flow', 'link_3_flow', 'node_26_pressure', 'node_22_demand', 'link_15_flow', 'node_23_pressure', 'node_21_pressure', 'link_7_flow', 'link_6_flow', 'node_6_pressure', 'node_12_demand', 'node_5_pressure', 'node_16_demand', 'node_8_pressure', 'node_11_pressure', 'node_5_demand']]\n",
      "starting df shape: (87600, 52)\n",
      "This is training run 5 and has the shape:  (87600, 52)\n",
      "The value of dropped columns is 45\n"
     ]
    },
    {
     "name": "stderr",
     "output_type": "stream",
     "text": [
      "/Users/alexellard/opt/anaconda3/lib/python3.7/site-packages/xgboost/data.py:96: UserWarning: Use subset (sliced data) of np.ndarray is not recommended because it will generate extra copies and increase memory consumption\n",
      "  \"because it will generate extra copies and increase \" +\n"
     ]
    },
    {
     "name": "stdout",
     "output_type": "stream",
     "text": [
      "test y shape : (17520, 1)\n",
      "Inv y shape : (17520, 52)\n",
      "y pred shape : (17520, 1)\n",
      "inv y pred : (17520, 52)\n",
      "Run 5 Mean Absolute Error: 3.3304828363616075\n",
      "RMSE: 4.405\n",
      "R^2: 1.000\n",
      "[['reservoir_pressure', 'node_4_demand', 'node_1_pressure', 'node_19_demand', 'link_22_flow', 'link_16_flow', 'node_17_pressure', 'node_23_pressure', 'node_26_demand', 'link_9_flow', 'link_11_flow', 'node_10_pressure', 'node_11_pressure', 'node_8_pressure', 'link_8_flow', 'node_26_pressure', 'node_30_demand', 'node_27_pressure', 'link_4_flow', 'node_11_demand', 'node_30_pressure', 'node_31_pressure', 'link_17_flow', 'node_21_demand', 'node_8_demand', 'node_22_pressure', 'node_5_pressure', 'node_6_demand', 'link_13_flow', 'node_13_pressure', 'node_18_pressure', 'link_14_flow', 'link_2_flow', 'link_23_flow', 'node_25_pressure', 'node_25_demand', 'node_15_pressure', 'node_4_pressure', 'node_23_demand', 'node_2_demand', 'node_20_pressure', 'node_5_demand', 'link_7_flow', 'node_20_demand', 'link_31_flow']]\n",
      "starting df shape: (87600, 51)\n",
      "This is training run 6 and has the shape:  (87600, 51)\n",
      "The value of dropped columns is 45\n"
     ]
    },
    {
     "name": "stderr",
     "output_type": "stream",
     "text": [
      "/Users/alexellard/opt/anaconda3/lib/python3.7/site-packages/xgboost/data.py:96: UserWarning: Use subset (sliced data) of np.ndarray is not recommended because it will generate extra copies and increase memory consumption\n",
      "  \"because it will generate extra copies and increase \" +\n"
     ]
    },
    {
     "name": "stdout",
     "output_type": "stream",
     "text": [
      "test y shape : (17520, 1)\n",
      "Inv y shape : (17520, 51)\n",
      "y pred shape : (17520, 1)\n",
      "inv y pred : (17520, 51)\n",
      "Run 6 Mean Absolute Error: 6.268307678054457\n",
      "RMSE: 8.210\n",
      "R^2: 1.000\n",
      "[['node_22_demand', 'link_28_flow', 'node_25_pressure', 'node_16_pressure', 'node_30_pressure', 'link_12_flow', 'node_22_pressure', 'link_29_flow', 'link_31_flow', 'node_30_demand', 'node_12_demand', 'node_3_demand', 'node_2_pressure', 'link_10_flow', 'link_6_flow', 'node_5_pressure', 'node_7_pressure', 'link_9_flow', 'link_21_flow', 'link_7_flow', 'node_5_demand', 'node_23_demand', 'link_13_flow', 'link_2_flow', 'node_17_demand', 'node_24_pressure', 'link_23_flow', 'node_14_demand', 'link_16_flow', 'node_9_pressure', 'link_4_flow', 'node_3_pressure', 'node_10_demand', 'node_2_demand', 'node_20_pressure', 'node_29_demand', 'link_20_flow', 'node_31_pressure', 'link_19_flow', 'node_8_pressure', 'node_13_pressure', 'reservoir_demand', 'link_11_flow', 'node_7_demand']]\n",
      "starting df shape: (87600, 52)\n",
      "This is training run 7 and has the shape:  (87600, 52)\n",
      "The value of dropped columns is 45\n"
     ]
    },
    {
     "name": "stderr",
     "output_type": "stream",
     "text": [
      "/Users/alexellard/opt/anaconda3/lib/python3.7/site-packages/xgboost/data.py:96: UserWarning: Use subset (sliced data) of np.ndarray is not recommended because it will generate extra copies and increase memory consumption\n",
      "  \"because it will generate extra copies and increase \" +\n"
     ]
    },
    {
     "name": "stdout",
     "output_type": "stream",
     "text": [
      "test y shape : (17520, 1)\n",
      "Inv y shape : (17520, 52)\n",
      "y pred shape : (17520, 1)\n",
      "inv y pred : (17520, 52)\n",
      "Run 7 Mean Absolute Error: 1.3645494242802645\n",
      "RMSE: 1.785\n",
      "R^2: 1.000\n",
      "[['link_29_flow', 'link_5_flow', 'node_9_demand', 'node_25_pressure', 'link_13_flow', 'link_17_flow', 'node_28_demand', 'link_24_flow', 'node_10_pressure', 'node_29_pressure', 'node_20_demand', 'link_10_flow', 'link_2_flow', 'node_15_demand', 'node_15_pressure', 'node_22_demand', 'node_22_pressure', 'node_12_pressure', 'link_3_flow', 'node_30_pressure', 'node_6_demand', 'node_20_pressure', 'link_25_flow', 'reservoir_demand', 'link_4_flow', 'node_26_pressure', 'node_7_pressure', 'node_14_demand', 'node_3_pressure', 'node_9_pressure', 'node_11_demand', 'node_17_pressure', 'node_2_demand', 'node_27_demand', 'link_14_flow', 'node_8_pressure', 'node_30_demand', 'node_13_pressure', 'node_23_demand', 'node_21_pressure', 'link_11_flow', 'node_16_demand', 'node_12_demand', 'node_13_demand', 'node_24_pressure']]\n",
      "starting df shape: (87600, 51)\n",
      "This is training run 8 and has the shape:  (87600, 51)\n",
      "The value of dropped columns is 45\n"
     ]
    },
    {
     "name": "stderr",
     "output_type": "stream",
     "text": [
      "/Users/alexellard/opt/anaconda3/lib/python3.7/site-packages/xgboost/data.py:96: UserWarning: Use subset (sliced data) of np.ndarray is not recommended because it will generate extra copies and increase memory consumption\n",
      "  \"because it will generate extra copies and increase \" +\n"
     ]
    },
    {
     "name": "stdout",
     "output_type": "stream",
     "text": [
      "test y shape : (17520, 1)\n",
      "Inv y shape : (17520, 51)\n",
      "y pred shape : (17520, 1)\n",
      "inv y pred : (17520, 51)\n",
      "Run 8 Mean Absolute Error: 1.0630232893459943\n",
      "RMSE: 1.369\n",
      "R^2: 1.000\n",
      "[['node_14_demand', 'node_28_pressure', 'link_29_flow', 'node_6_pressure', 'node_23_pressure', 'node_27_demand', 'node_11_demand', 'node_31_pressure', 'reservoir_demand', 'link_30_flow', 'node_31_demand', 'node_1_demand', 'node_27_pressure', 'node_12_pressure', 'node_10_demand', 'link_12_flow', 'link_6_flow', 'reservoir_pressure', 'node_9_pressure', 'link_23_flow', 'node_7_pressure', 'node_23_demand', 'node_6_demand', 'node_13_pressure', 'link_3_flow', 'node_16_demand', 'node_24_demand', 'node_26_demand', 'node_30_pressure', 'link_20_flow', 'node_10_pressure', 'link_31_flow', 'link_4_flow', 'node_14_pressure', 'node_3_pressure', 'link_24_flow', 'link_26_flow', 'node_25_demand', 'node_2_demand', 'link_5_flow', 'node_30_demand', 'link_22_flow', 'node_4_pressure', 'link_17_flow', 'node_1_pressure']]\n",
      "starting df shape: (87600, 51)\n",
      "This is training run 9 and has the shape:  (87600, 51)\n",
      "The value of dropped columns is 45\n"
     ]
    },
    {
     "name": "stderr",
     "output_type": "stream",
     "text": [
      "/Users/alexellard/opt/anaconda3/lib/python3.7/site-packages/xgboost/data.py:96: UserWarning: Use subset (sliced data) of np.ndarray is not recommended because it will generate extra copies and increase memory consumption\n",
      "  \"because it will generate extra copies and increase \" +\n"
     ]
    },
    {
     "name": "stdout",
     "output_type": "stream",
     "text": [
      "test y shape : (17520, 1)\n",
      "Inv y shape : (17520, 51)\n",
      "y pred shape : (17520, 1)\n",
      "inv y pred : (17520, 51)\n",
      "Run 9 Mean Absolute Error: 0.11192198696458637\n",
      "RMSE: 0.145\n",
      "R^2: 1.000\n",
      "[['node_1_demand', 'node_4_demand', 'link_14_flow', 'node_30_demand', 'node_27_pressure', 'node_3_demand', 'node_17_demand', 'link_8_flow', 'node_13_pressure', 'node_16_pressure', 'node_4_pressure', 'link_31_flow', 'link_30_flow', 'link_12_flow', 'node_15_pressure', 'node_17_pressure', 'link_11_flow', 'link_32_flow', 'link_7_flow', 'link_4_flow', 'node_14_pressure', 'node_18_pressure', 'node_21_pressure', 'node_13_demand', 'node_12_demand', 'node_8_demand', 'node_5_demand', 'link_17_flow', 'node_22_demand', 'node_1_pressure', 'link_18_flow', 'node_30_pressure', 'link_19_flow', 'link_29_flow', 'link_21_flow', 'node_28_demand', 'link_22_flow', 'node_6_demand', 'link_26_flow', 'node_19_demand', 'node_15_demand', 'node_21_demand', 'link_13_flow', 'node_6_pressure', 'node_25_pressure']]\n",
      "starting df shape: (87600, 51)\n",
      "This is training run 10 and has the shape:  (87600, 51)\n",
      "The value of dropped columns is 45\n"
     ]
    },
    {
     "name": "stderr",
     "output_type": "stream",
     "text": [
      "/Users/alexellard/opt/anaconda3/lib/python3.7/site-packages/xgboost/data.py:96: UserWarning: Use subset (sliced data) of np.ndarray is not recommended because it will generate extra copies and increase memory consumption\n",
      "  \"because it will generate extra copies and increase \" +\n"
     ]
    },
    {
     "name": "stdout",
     "output_type": "stream",
     "text": [
      "test y shape : (17520, 1)\n",
      "Inv y shape : (17520, 51)\n",
      "y pred shape : (17520, 1)\n",
      "inv y pred : (17520, 51)\n",
      "Run 10 Mean Absolute Error: 5.817202330154081\n",
      "RMSE: 7.719\n",
      "R^2: 1.000\n",
      "[['link_14_flow', 'node_30_pressure', 'node_4_demand', 'node_23_pressure', 'node_16_pressure', 'node_25_pressure', 'node_18_pressure', 'link_7_flow', 'link_15_flow', 'link_6_flow', 'link_2_flow', 'node_21_pressure', 'reservoir_pressure', 'node_18_demand', 'node_9_demand', 'node_19_pressure', 'node_24_demand', 'node_26_pressure', 'node_13_pressure', 'node_27_demand', 'link_11_flow', 'node_14_pressure', 'link_19_flow', 'node_1_demand', 'link_8_flow', 'node_7_pressure', 'link_30_flow', 'node_6_demand', 'node_12_pressure', 'node_30_demand', 'link_21_flow', 'link_32_flow', 'link_9_flow', 'link_31_flow', 'node_7_demand', 'node_23_demand', 'node_3_demand', 'node_31_pressure', 'node_15_pressure', 'node_13_demand', 'node_20_pressure', 'node_19_demand', 'node_27_pressure', 'link_28_flow', 'link_17_flow', 'node_22_demand', 'node_8_demand', 'link_23_flow', 'node_16_demand']]\n",
      "starting df shape: (87600, 47)\n",
      "This is training run 1 and has the shape:  (87600, 47)\n",
      "The value of dropped columns is 50\n"
     ]
    },
    {
     "name": "stderr",
     "output_type": "stream",
     "text": [
      "/Users/alexellard/opt/anaconda3/lib/python3.7/site-packages/xgboost/data.py:96: UserWarning: Use subset (sliced data) of np.ndarray is not recommended because it will generate extra copies and increase memory consumption\n",
      "  \"because it will generate extra copies and increase \" +\n"
     ]
    },
    {
     "name": "stdout",
     "output_type": "stream",
     "text": [
      "test y shape : (17520, 1)\n",
      "Inv y shape : (17520, 47)\n",
      "y pred shape : (17520, 1)\n",
      "inv y pred : (17520, 47)\n",
      "Run 1 Mean Absolute Error: 7.5901824415546555\n",
      "RMSE: 9.875\n",
      "R^2: 1.000\n",
      "[['node_30_demand', 'link_14_flow', 'node_8_demand', 'link_7_flow', 'node_17_pressure', 'link_3_flow', 'node_16_pressure', 'node_27_pressure', 'node_9_pressure', 'link_29_flow', 'link_5_flow', 'node_22_pressure', 'link_4_flow', 'node_24_demand', 'node_4_pressure', 'node_19_demand', 'node_21_demand', 'node_12_demand', 'node_18_pressure', 'node_15_pressure', 'node_13_pressure', 'node_26_pressure', 'node_18_demand', 'node_5_demand', 'link_6_flow', 'node_10_demand', 'node_14_pressure', 'node_5_pressure', 'node_29_demand', 'link_11_flow', 'link_30_flow', 'node_10_pressure', 'link_19_flow', 'node_16_demand', 'node_11_pressure', 'node_4_demand', 'node_28_demand', 'link_16_flow', 'node_1_pressure', 'node_31_demand', 'node_27_demand', 'node_6_pressure', 'link_10_flow', 'link_15_flow', 'link_12_flow', 'node_2_pressure', 'node_14_demand', 'node_28_pressure', 'node_1_demand', 'link_13_flow']]\n",
      "starting df shape: (87600, 46)\n",
      "This is training run 2 and has the shape:  (87600, 46)\n",
      "The value of dropped columns is 50\n"
     ]
    },
    {
     "name": "stderr",
     "output_type": "stream",
     "text": [
      "/Users/alexellard/opt/anaconda3/lib/python3.7/site-packages/xgboost/data.py:96: UserWarning: Use subset (sliced data) of np.ndarray is not recommended because it will generate extra copies and increase memory consumption\n",
      "  \"because it will generate extra copies and increase \" +\n"
     ]
    },
    {
     "name": "stdout",
     "output_type": "stream",
     "text": [
      "test y shape : (17520, 1)\n",
      "Inv y shape : (17520, 46)\n",
      "y pred shape : (17520, 1)\n",
      "inv y pred : (17520, 46)\n",
      "Run 2 Mean Absolute Error: 4.818222480497954\n",
      "RMSE: 6.360\n",
      "R^2: 1.000\n",
      "[['node_6_demand', 'node_28_demand', 'node_17_demand', 'node_24_pressure', 'link_27_flow', 'link_11_flow', 'link_4_flow', 'link_16_flow', 'node_9_pressure', 'link_30_flow', 'link_12_flow', 'node_30_demand', 'link_10_flow', 'node_2_demand', 'node_17_pressure', 'link_32_flow', 'link_15_flow', 'node_31_pressure', 'link_31_flow', 'node_12_pressure', 'node_16_pressure', 'node_16_demand', 'node_18_pressure', 'node_9_demand', 'node_30_pressure', 'link_7_flow', 'node_25_pressure', 'link_3_flow', 'node_8_demand', 'node_18_demand', 'node_1_pressure', 'node_21_demand', 'link_20_flow', 'reservoir_pressure', 'link_14_flow', 'node_13_pressure', 'node_10_pressure', 'node_24_demand', 'node_20_demand', 'node_14_demand', 'node_7_pressure', 'node_2_pressure', 'link_6_flow', 'node_11_pressure', 'link_8_flow', 'reservoir_demand', 'link_28_flow', 'node_22_demand', 'node_4_pressure']]\n",
      "starting df shape: (87600, 47)\n",
      "This is training run 3 and has the shape:  (87600, 47)\n",
      "The value of dropped columns is 50\n"
     ]
    },
    {
     "name": "stderr",
     "output_type": "stream",
     "text": [
      "/Users/alexellard/opt/anaconda3/lib/python3.7/site-packages/xgboost/data.py:96: UserWarning: Use subset (sliced data) of np.ndarray is not recommended because it will generate extra copies and increase memory consumption\n",
      "  \"because it will generate extra copies and increase \" +\n"
     ]
    },
    {
     "name": "stdout",
     "output_type": "stream",
     "text": [
      "test y shape : (17520, 1)\n",
      "Inv y shape : (17520, 47)\n",
      "y pred shape : (17520, 1)\n",
      "inv y pred : (17520, 47)\n",
      "Run 3 Mean Absolute Error: 0.490453274407569\n",
      "RMSE: 0.635\n",
      "R^2: 1.000\n",
      "[['link_28_flow', 'node_31_demand', 'reservoir_pressure', 'node_30_demand', 'node_16_pressure', 'node_2_pressure', 'node_26_demand', 'node_7_demand', 'link_5_flow', 'node_16_demand', 'reservoir_demand', 'node_18_demand', 'node_4_pressure', 'node_25_pressure', 'node_3_demand', 'node_3_pressure', 'node_21_pressure', 'node_6_demand', 'link_30_flow', 'node_14_pressure', 'node_17_demand', 'node_21_demand', 'node_19_pressure', 'link_32_flow', 'node_10_demand', 'node_14_demand', 'link_23_flow', 'link_29_flow', 'node_27_demand', 'link_16_flow', 'node_20_pressure', 'link_2_flow', 'link_27_flow', 'node_10_pressure', 'node_11_pressure', 'link_20_flow', 'node_13_demand', 'node_8_pressure', 'node_9_pressure', 'link_18_flow', 'link_6_flow', 'node_25_demand', 'node_1_pressure', 'node_5_demand', 'node_1_demand', 'node_12_demand', 'link_31_flow', 'node_28_demand', 'link_21_flow', 'node_20_demand']]\n",
      "starting df shape: (87600, 46)\n",
      "This is training run 4 and has the shape:  (87600, 46)\n",
      "The value of dropped columns is 50\n"
     ]
    },
    {
     "name": "stderr",
     "output_type": "stream",
     "text": [
      "/Users/alexellard/opt/anaconda3/lib/python3.7/site-packages/xgboost/data.py:96: UserWarning: Use subset (sliced data) of np.ndarray is not recommended because it will generate extra copies and increase memory consumption\n",
      "  \"because it will generate extra copies and increase \" +\n"
     ]
    },
    {
     "name": "stdout",
     "output_type": "stream",
     "text": [
      "test y shape : (17520, 1)\n",
      "Inv y shape : (17520, 46)\n",
      "y pred shape : (17520, 1)\n",
      "inv y pred : (17520, 46)\n",
      "Run 4 Mean Absolute Error: 0.850562518508627\n",
      "RMSE: 1.103\n",
      "R^2: 1.000\n",
      "[['node_27_pressure', 'link_32_flow', 'link_20_flow', 'link_25_flow', 'node_31_pressure', 'node_12_pressure', 'node_29_demand', 'link_11_flow', 'link_5_flow', 'node_18_demand', 'node_16_pressure', 'link_16_flow', 'node_20_pressure', 'node_8_pressure', 'reservoir_pressure', 'node_10_pressure', 'node_26_demand', 'node_4_pressure', 'node_25_demand', 'node_14_pressure', 'node_15_demand', 'link_27_flow', 'node_6_demand', 'node_6_pressure', 'node_19_demand', 'link_30_flow', 'node_1_demand', 'node_27_demand', 'node_31_demand', 'node_15_pressure', 'node_18_pressure', 'node_2_pressure', 'link_2_flow', 'link_8_flow', 'node_3_pressure', 'node_14_demand', 'node_22_demand', 'node_5_pressure', 'node_20_demand', 'node_5_demand', 'node_16_demand', 'node_12_demand', 'link_15_flow', 'node_25_pressure', 'node_24_demand', 'link_6_flow', 'node_7_demand', 'node_21_demand', 'node_13_demand', 'link_13_flow']]\n",
      "starting df shape: (87600, 46)\n",
      "This is training run 5 and has the shape:  (87600, 46)\n",
      "The value of dropped columns is 50\n"
     ]
    },
    {
     "name": "stderr",
     "output_type": "stream",
     "text": [
      "/Users/alexellard/opt/anaconda3/lib/python3.7/site-packages/xgboost/data.py:96: UserWarning: Use subset (sliced data) of np.ndarray is not recommended because it will generate extra copies and increase memory consumption\n",
      "  \"because it will generate extra copies and increase \" +\n"
     ]
    },
    {
     "name": "stdout",
     "output_type": "stream",
     "text": [
      "test y shape : (17520, 1)\n",
      "Inv y shape : (17520, 46)\n",
      "y pred shape : (17520, 1)\n",
      "inv y pred : (17520, 46)\n",
      "Run 5 Mean Absolute Error: 5.307046655318514\n",
      "RMSE: 6.902\n",
      "R^2: 1.000\n",
      "[['node_31_pressure', 'node_3_pressure', 'link_19_flow', 'node_10_demand', 'link_14_flow', 'node_28_pressure', 'reservoir_pressure', 'link_30_flow', 'node_2_demand', 'node_11_demand', 'node_15_pressure', 'node_15_demand', 'node_24_pressure', 'node_13_pressure', 'link_29_flow', 'link_10_flow', 'node_29_pressure', 'node_1_demand', 'node_1_pressure', 'node_7_demand', 'link_31_flow', 'node_21_pressure', 'node_18_pressure', 'node_26_pressure', 'node_11_pressure', 'link_23_flow', 'link_6_flow', 'node_7_pressure', 'node_4_demand', 'node_30_demand', 'link_21_flow', 'link_25_flow', 'link_17_flow', 'node_21_demand', 'node_16_demand', 'node_12_demand', 'node_8_demand', 'link_20_flow', 'node_6_demand', 'node_30_pressure', 'node_31_demand', 'link_28_flow', 'link_18_flow', 'node_23_demand', 'node_12_pressure', 'node_24_demand', 'node_27_demand', 'reservoir_demand', 'node_25_demand']]\n",
      "starting df shape: (87600, 47)\n",
      "This is training run 6 and has the shape:  (87600, 47)\n",
      "The value of dropped columns is 50\n"
     ]
    },
    {
     "name": "stderr",
     "output_type": "stream",
     "text": [
      "/Users/alexellard/opt/anaconda3/lib/python3.7/site-packages/xgboost/data.py:96: UserWarning: Use subset (sliced data) of np.ndarray is not recommended because it will generate extra copies and increase memory consumption\n",
      "  \"because it will generate extra copies and increase \" +\n"
     ]
    },
    {
     "name": "stdout",
     "output_type": "stream",
     "text": [
      "test y shape : (17520, 1)\n",
      "Inv y shape : (17520, 47)\n",
      "y pred shape : (17520, 1)\n",
      "inv y pred : (17520, 47)\n",
      "Run 6 Mean Absolute Error: 0.11642092779660129\n",
      "RMSE: 0.152\n",
      "R^2: 1.000\n",
      "[['link_3_flow', 'link_19_flow', 'link_16_flow', 'link_7_flow', 'link_6_flow', 'link_29_flow', 'node_11_demand', 'node_5_pressure', 'link_24_flow', 'reservoir_demand', 'node_13_pressure', 'node_5_demand', 'node_14_demand', 'node_15_demand', 'link_15_flow', 'link_28_flow', 'node_9_pressure', 'node_22_pressure', 'link_20_flow', 'node_10_pressure', 'node_29_demand', 'node_23_pressure', 'node_23_demand', 'link_4_flow', 'link_22_flow', 'reservoir_pressure', 'link_13_flow', 'node_22_demand', 'link_27_flow', 'node_12_pressure', 'node_24_pressure', 'node_7_demand', 'link_2_flow', 'node_10_demand', 'node_14_pressure', 'node_27_demand', 'node_17_demand', 'node_16_demand', 'node_18_demand', 'node_30_demand', 'node_28_pressure', 'node_2_pressure', 'node_3_pressure', 'node_27_pressure', 'link_26_flow', 'node_16_pressure', 'node_11_pressure', 'node_8_demand', 'node_17_pressure']]\n",
      "starting df shape: (87600, 47)\n",
      "This is training run 7 and has the shape:  (87600, 47)\n",
      "The value of dropped columns is 50\n"
     ]
    },
    {
     "name": "stderr",
     "output_type": "stream",
     "text": [
      "/Users/alexellard/opt/anaconda3/lib/python3.7/site-packages/xgboost/data.py:96: UserWarning: Use subset (sliced data) of np.ndarray is not recommended because it will generate extra copies and increase memory consumption\n",
      "  \"because it will generate extra copies and increase \" +\n"
     ]
    },
    {
     "name": "stdout",
     "output_type": "stream",
     "text": [
      "test y shape : (17520, 1)\n",
      "Inv y shape : (17520, 47)\n",
      "y pred shape : (17520, 1)\n",
      "inv y pred : (17520, 47)\n",
      "Run 7 Mean Absolute Error: 1.0992864748556506\n",
      "RMSE: 1.447\n",
      "R^2: 1.000\n",
      "[['node_2_pressure', 'link_7_flow', 'link_2_flow', 'node_21_pressure', 'node_26_demand', 'node_9_pressure', 'node_30_demand', 'link_26_flow', 'link_20_flow', 'link_5_flow', 'node_19_pressure', 'node_15_demand', 'node_2_demand', 'link_6_flow', 'link_14_flow', 'link_25_flow', 'node_1_demand', 'node_23_pressure', 'node_16_demand', 'link_29_flow', 'link_18_flow', 'node_28_demand', 'node_5_pressure', 'node_12_pressure', 'node_22_pressure', 'node_8_demand', 'link_10_flow', 'node_18_demand', 'node_31_demand', 'node_28_pressure', 'link_23_flow', 'node_11_pressure', 'node_7_pressure', 'node_24_demand', 'node_17_pressure', 'node_5_demand', 'link_24_flow', 'node_4_pressure', 'node_9_demand', 'node_17_demand', 'node_11_demand', 'node_27_pressure', 'link_30_flow', 'link_12_flow', 'link_16_flow', 'link_28_flow', 'node_7_demand', 'link_15_flow', 'node_16_pressure']]\n",
      "starting df shape: (87600, 47)\n",
      "This is training run 8 and has the shape:  (87600, 47)\n",
      "The value of dropped columns is 50\n"
     ]
    },
    {
     "name": "stderr",
     "output_type": "stream",
     "text": [
      "/Users/alexellard/opt/anaconda3/lib/python3.7/site-packages/xgboost/data.py:96: UserWarning: Use subset (sliced data) of np.ndarray is not recommended because it will generate extra copies and increase memory consumption\n",
      "  \"because it will generate extra copies and increase \" +\n"
     ]
    },
    {
     "name": "stdout",
     "output_type": "stream",
     "text": [
      "test y shape : (17520, 1)\n",
      "Inv y shape : (17520, 47)\n",
      "y pred shape : (17520, 1)\n",
      "inv y pred : (17520, 47)\n",
      "Run 8 Mean Absolute Error: 6.061560627405775\n",
      "RMSE: 7.843\n",
      "R^2: 1.000\n",
      "[['link_8_flow', 'link_25_flow', 'node_2_pressure', 'link_3_flow', 'node_1_demand', 'node_18_pressure', 'node_19_demand', 'link_27_flow', 'link_31_flow', 'node_11_pressure', 'node_27_demand', 'node_28_demand', 'node_23_pressure', 'node_25_pressure', 'node_8_pressure', 'link_21_flow', 'node_2_demand', 'node_31_pressure', 'node_13_demand', 'node_12_pressure', 'node_29_pressure', 'node_16_demand', 'link_15_flow', 'node_17_demand', 'node_13_pressure', 'node_22_pressure', 'node_4_demand', 'link_23_flow', 'link_2_flow', 'node_26_pressure', 'link_12_flow', 'node_3_demand', 'node_14_demand', 'link_24_flow', 'link_22_flow', 'link_14_flow', 'node_7_demand', 'link_10_flow', 'node_1_pressure', 'node_16_pressure', 'node_15_pressure', 'reservoir_demand', 'node_10_pressure', 'node_30_pressure', 'node_3_pressure', 'node_24_pressure', 'node_5_demand', 'link_16_flow', 'node_27_pressure', 'node_22_demand']]\n",
      "starting df shape: (87600, 46)\n",
      "This is training run 9 and has the shape:  (87600, 46)\n",
      "The value of dropped columns is 50\n"
     ]
    },
    {
     "name": "stderr",
     "output_type": "stream",
     "text": [
      "/Users/alexellard/opt/anaconda3/lib/python3.7/site-packages/xgboost/data.py:96: UserWarning: Use subset (sliced data) of np.ndarray is not recommended because it will generate extra copies and increase memory consumption\n",
      "  \"because it will generate extra copies and increase \" +\n"
     ]
    },
    {
     "name": "stdout",
     "output_type": "stream",
     "text": [
      "test y shape : (17520, 1)\n",
      "Inv y shape : (17520, 46)\n",
      "y pred shape : (17520, 1)\n",
      "inv y pred : (17520, 46)\n",
      "Run 9 Mean Absolute Error: 1.7013564741045353\n",
      "RMSE: 2.199\n",
      "R^2: 1.000\n",
      "[['node_29_pressure', 'node_31_pressure', 'node_23_pressure', 'node_23_demand', 'node_30_pressure', 'link_20_flow', 'link_30_flow', 'node_19_pressure', 'node_28_pressure', 'node_22_demand', 'node_13_demand', 'node_10_pressure', 'link_6_flow', 'node_3_pressure', 'node_4_pressure', 'node_26_demand', 'node_30_demand', 'node_21_demand', 'node_4_demand', 'link_28_flow', 'link_8_flow', 'node_29_demand', 'link_24_flow', 'node_1_pressure', 'reservoir_demand', 'node_5_demand', 'link_3_flow', 'node_21_pressure', 'node_9_demand', 'node_2_pressure', 'link_2_flow', 'link_25_flow', 'node_15_demand', 'node_20_demand', 'link_5_flow', 'link_12_flow', 'node_10_demand', 'node_17_demand', 'node_6_demand', 'node_3_demand', 'link_23_flow', 'node_17_pressure', 'reservoir_pressure', 'link_17_flow', 'node_2_demand', 'node_24_demand', 'link_21_flow', 'node_18_demand', 'link_27_flow']]\n",
      "starting df shape: (87600, 47)\n",
      "This is training run 10 and has the shape:  (87600, 47)\n",
      "The value of dropped columns is 50\n"
     ]
    },
    {
     "name": "stderr",
     "output_type": "stream",
     "text": [
      "/Users/alexellard/opt/anaconda3/lib/python3.7/site-packages/xgboost/data.py:96: UserWarning: Use subset (sliced data) of np.ndarray is not recommended because it will generate extra copies and increase memory consumption\n",
      "  \"because it will generate extra copies and increase \" +\n"
     ]
    },
    {
     "name": "stdout",
     "output_type": "stream",
     "text": [
      "test y shape : (17520, 1)\n",
      "Inv y shape : (17520, 47)\n",
      "y pred shape : (17520, 1)\n",
      "inv y pred : (17520, 47)\n",
      "Run 10 Mean Absolute Error: 0.9435753534978943\n",
      "RMSE: 1.221\n",
      "R^2: 1.000\n",
      "[['node_7_demand', 'link_9_flow', 'link_10_flow', 'node_2_demand', 'node_16_demand', 'node_2_pressure', 'node_24_demand', 'node_25_demand', 'node_24_pressure', 'node_30_demand', 'node_8_pressure', 'node_12_demand', 'node_20_pressure', 'node_12_pressure', 'node_11_demand', 'node_28_pressure', 'node_19_pressure', 'node_10_pressure', 'link_5_flow', 'node_31_demand', 'link_17_flow', 'node_11_pressure', 'node_16_pressure', 'link_31_flow', 'node_9_pressure', 'node_20_demand', 'node_4_pressure', 'node_27_demand', 'link_30_flow', 'node_15_demand', 'node_1_demand', 'node_19_demand', 'node_22_demand', 'link_25_flow', 'link_18_flow', 'link_12_flow', 'node_15_pressure', 'link_28_flow', 'node_23_demand', 'link_15_flow', 'node_8_demand', 'reservoir_pressure', 'link_11_flow', 'link_7_flow', 'link_24_flow', 'reservoir_demand', 'link_3_flow', 'node_27_pressure', 'node_9_demand', 'node_29_demand', 'node_10_demand', 'link_32_flow', 'link_4_flow', 'link_8_flow', 'node_18_demand']]\n",
      "starting df shape: (87600, 41)\n",
      "This is training run 1 and has the shape:  (87600, 41)\n",
      "The value of dropped columns is 55\n"
     ]
    },
    {
     "name": "stderr",
     "output_type": "stream",
     "text": [
      "/Users/alexellard/opt/anaconda3/lib/python3.7/site-packages/xgboost/data.py:96: UserWarning: Use subset (sliced data) of np.ndarray is not recommended because it will generate extra copies and increase memory consumption\n",
      "  \"because it will generate extra copies and increase \" +\n"
     ]
    },
    {
     "name": "stdout",
     "output_type": "stream",
     "text": [
      "test y shape : (17520, 1)\n",
      "Inv y shape : (17520, 41)\n",
      "y pred shape : (17520, 1)\n",
      "inv y pred : (17520, 41)\n",
      "Run 1 Mean Absolute Error: 0.10143538521178284\n",
      "RMSE: 0.133\n",
      "R^2: 1.000\n",
      "[['node_10_demand', 'link_29_flow', 'link_15_flow', 'node_7_demand', 'node_19_pressure', 'node_4_demand', 'node_27_demand', 'node_22_demand', 'link_17_flow', 'link_28_flow', 'node_22_pressure', 'node_23_demand', 'node_12_demand', 'link_25_flow', 'reservoir_demand', 'node_31_pressure', 'link_5_flow', 'link_10_flow', 'link_14_flow', 'link_22_flow', 'node_13_demand', 'node_9_demand', 'link_16_flow', 'node_23_pressure', 'node_16_pressure', 'node_14_pressure', 'node_20_pressure', 'node_16_demand', 'node_20_demand', 'node_25_pressure', 'link_8_flow', 'node_2_pressure', 'node_25_demand', 'node_6_demand', 'link_3_flow', 'node_11_pressure', 'node_27_pressure', 'node_18_pressure', 'node_5_pressure', 'node_3_demand', 'link_20_flow', 'node_29_demand', 'link_26_flow', 'node_6_pressure', 'link_24_flow', 'node_28_pressure', 'node_19_demand', 'link_23_flow', 'node_4_pressure', 'node_17_demand', 'node_21_pressure', 'node_26_pressure', 'node_17_pressure', 'node_13_pressure']]\n",
      "starting df shape: (87600, 42)\n",
      "This is training run 2 and has the shape:  (87600, 42)\n",
      "The value of dropped columns is 55\n"
     ]
    },
    {
     "name": "stderr",
     "output_type": "stream",
     "text": [
      "/Users/alexellard/opt/anaconda3/lib/python3.7/site-packages/xgboost/data.py:96: UserWarning: Use subset (sliced data) of np.ndarray is not recommended because it will generate extra copies and increase memory consumption\n",
      "  \"because it will generate extra copies and increase \" +\n"
     ]
    },
    {
     "name": "stdout",
     "output_type": "stream",
     "text": [
      "test y shape : (17520, 1)\n",
      "Inv y shape : (17520, 42)\n",
      "y pred shape : (17520, 1)\n",
      "inv y pred : (17520, 42)\n",
      "Run 2 Mean Absolute Error: 0.30148818073703476\n",
      "RMSE: 0.394\n",
      "R^2: 1.000\n",
      "[['node_29_demand', 'link_11_flow', 'node_18_pressure', 'node_6_pressure', 'link_3_flow', 'node_23_pressure', 'link_5_flow', 'node_7_pressure', 'node_1_demand', 'node_6_demand', 'node_28_pressure', 'node_20_demand', 'link_30_flow', 'node_14_demand', 'link_9_flow', 'node_26_pressure', 'node_20_pressure', 'node_10_pressure', 'link_29_flow', 'node_16_pressure', 'node_13_pressure', 'link_23_flow', 'node_29_pressure', 'node_2_demand', 'link_31_flow', 'link_24_flow', 'node_25_pressure', 'reservoir_demand', 'node_30_demand', 'node_10_demand', 'link_16_flow', 'link_28_flow', 'node_8_demand', 'node_21_demand', 'node_27_demand', 'node_8_pressure', 'link_18_flow', 'node_4_pressure', 'node_5_pressure', 'node_13_demand', 'link_32_flow', 'link_26_flow', 'link_6_flow', 'node_28_demand', 'node_30_pressure', 'node_31_pressure', 'link_2_flow', 'node_19_pressure', 'node_15_pressure', 'node_3_demand', 'link_22_flow', 'link_12_flow', 'node_16_demand', 'node_18_demand', 'node_21_pressure']]\n",
      "starting df shape: (87600, 41)\n",
      "This is training run 3 and has the shape:  (87600, 41)\n",
      "The value of dropped columns is 55\n"
     ]
    },
    {
     "name": "stderr",
     "output_type": "stream",
     "text": [
      "/Users/alexellard/opt/anaconda3/lib/python3.7/site-packages/xgboost/data.py:96: UserWarning: Use subset (sliced data) of np.ndarray is not recommended because it will generate extra copies and increase memory consumption\n",
      "  \"because it will generate extra copies and increase \" +\n"
     ]
    },
    {
     "name": "stdout",
     "output_type": "stream",
     "text": [
      "test y shape : (17520, 1)\n",
      "Inv y shape : (17520, 41)\n",
      "y pred shape : (17520, 1)\n",
      "inv y pred : (17520, 41)\n",
      "Run 3 Mean Absolute Error: 0.820672963833776\n",
      "RMSE: 1.060\n",
      "R^2: 1.000\n",
      "[['node_7_pressure', 'node_3_pressure', 'node_9_demand', 'node_15_demand', 'link_24_flow', 'node_20_demand', 'node_14_pressure', 'node_20_pressure', 'node_29_demand', 'node_18_demand', 'node_22_pressure', 'node_10_demand', 'node_9_pressure', 'node_19_pressure', 'node_5_pressure', 'node_2_demand', 'node_13_pressure', 'node_27_demand', 'link_21_flow', 'node_12_pressure', 'node_19_demand', 'node_10_pressure', 'node_23_pressure', 'link_14_flow', 'node_31_pressure', 'node_6_demand', 'link_26_flow', 'link_23_flow', 'node_6_pressure', 'reservoir_pressure', 'link_31_flow', 'node_15_pressure', 'link_17_flow', 'node_27_pressure', 'link_19_flow', 'node_22_demand', 'reservoir_demand', 'link_30_flow', 'link_4_flow', 'node_11_demand', 'node_4_pressure', 'node_26_pressure', 'node_26_demand', 'node_16_pressure', 'node_1_demand', 'node_5_demand', 'node_4_demand', 'link_11_flow', 'node_28_demand', 'node_14_demand', 'link_15_flow', 'node_17_pressure', 'link_27_flow', 'link_10_flow', 'node_3_demand']]\n",
      "starting df shape: (87600, 41)\n",
      "This is training run 4 and has the shape:  (87600, 41)\n",
      "The value of dropped columns is 55\n"
     ]
    },
    {
     "name": "stderr",
     "output_type": "stream",
     "text": [
      "/Users/alexellard/opt/anaconda3/lib/python3.7/site-packages/xgboost/data.py:96: UserWarning: Use subset (sliced data) of np.ndarray is not recommended because it will generate extra copies and increase memory consumption\n",
      "  \"because it will generate extra copies and increase \" +\n"
     ]
    },
    {
     "name": "stdout",
     "output_type": "stream",
     "text": [
      "test y shape : (17520, 1)\n",
      "Inv y shape : (17520, 41)\n",
      "y pred shape : (17520, 1)\n",
      "inv y pred : (17520, 41)\n",
      "Run 4 Mean Absolute Error: 0.46809582901308966\n",
      "RMSE: 0.611\n",
      "R^2: 1.000\n",
      "[['node_4_pressure', 'node_25_pressure', 'node_28_demand', 'link_6_flow', 'link_21_flow', 'node_29_pressure', 'link_23_flow', 'link_20_flow', 'node_17_pressure', 'node_28_pressure', 'link_17_flow', 'node_20_demand', 'node_14_demand', 'node_22_pressure', 'link_14_flow', 'link_13_flow', 'node_31_pressure', 'node_9_demand', 'node_9_pressure', 'node_12_demand', 'node_5_demand', 'node_24_demand', 'node_20_pressure', 'link_5_flow', 'node_23_demand', 'node_24_pressure', 'node_15_pressure', 'node_19_demand', 'node_18_demand', 'node_1_demand', 'node_25_demand', 'link_29_flow', 'link_7_flow', 'link_25_flow', 'node_8_demand', 'node_26_demand', 'link_32_flow', 'node_5_pressure', 'link_3_flow', 'link_9_flow', 'node_17_demand', 'node_13_pressure', 'node_7_demand', 'link_8_flow', 'node_16_demand', 'node_3_demand', 'reservoir_demand', 'node_31_demand', 'node_16_pressure', 'node_19_pressure', 'link_28_flow', 'node_26_pressure', 'node_30_pressure', 'node_14_pressure']]\n",
      "starting df shape: (87600, 42)\n",
      "This is training run 5 and has the shape:  (87600, 42)\n",
      "The value of dropped columns is 55\n"
     ]
    },
    {
     "name": "stderr",
     "output_type": "stream",
     "text": [
      "/Users/alexellard/opt/anaconda3/lib/python3.7/site-packages/xgboost/data.py:96: UserWarning: Use subset (sliced data) of np.ndarray is not recommended because it will generate extra copies and increase memory consumption\n",
      "  \"because it will generate extra copies and increase \" +\n"
     ]
    },
    {
     "name": "stdout",
     "output_type": "stream",
     "text": [
      "test y shape : (17520, 1)\n",
      "Inv y shape : (17520, 42)\n",
      "y pred shape : (17520, 1)\n",
      "inv y pred : (17520, 42)\n",
      "Run 5 Mean Absolute Error: 0.6385739357545728\n",
      "RMSE: 0.832\n",
      "R^2: 1.000\n",
      "[['node_28_pressure', 'link_30_flow', 'node_26_pressure', 'node_15_pressure', 'link_12_flow', 'node_17_demand', 'link_25_flow', 'node_8_demand', 'link_13_flow', 'node_6_demand', 'node_9_pressure', 'node_4_pressure', 'node_17_pressure', 'link_16_flow', 'node_14_pressure', 'node_15_demand', 'node_26_demand', 'node_29_demand', 'link_19_flow', 'link_6_flow', 'reservoir_pressure', 'node_16_demand', 'node_3_demand', 'link_15_flow', 'link_27_flow', 'node_13_pressure', 'node_12_pressure', 'link_11_flow', 'link_28_flow', 'link_14_flow', 'link_29_flow', 'link_3_flow', 'node_10_pressure', 'node_6_pressure', 'link_9_flow', 'node_7_pressure', 'node_5_pressure', 'node_2_pressure', 'link_8_flow', 'node_9_demand', 'node_19_pressure', 'node_23_demand', 'node_11_pressure', 'node_24_demand', 'node_27_demand', 'link_32_flow', 'node_18_demand', 'node_7_demand', 'link_18_flow', 'node_1_pressure', 'node_4_demand', 'link_24_flow', 'node_31_demand', 'node_18_pressure']]\n",
      "starting df shape: (87600, 42)\n",
      "This is training run 6 and has the shape:  (87600, 42)\n",
      "The value of dropped columns is 55\n"
     ]
    },
    {
     "name": "stderr",
     "output_type": "stream",
     "text": [
      "/Users/alexellard/opt/anaconda3/lib/python3.7/site-packages/xgboost/data.py:96: UserWarning: Use subset (sliced data) of np.ndarray is not recommended because it will generate extra copies and increase memory consumption\n",
      "  \"because it will generate extra copies and increase \" +\n"
     ]
    },
    {
     "name": "stdout",
     "output_type": "stream",
     "text": [
      "test y shape : (17520, 1)\n",
      "Inv y shape : (17520, 42)\n",
      "y pred shape : (17520, 1)\n",
      "inv y pred : (17520, 42)\n",
      "Run 6 Mean Absolute Error: 2.7850531976639483\n",
      "RMSE: 3.666\n",
      "R^2: 1.000\n",
      "[['link_4_flow', 'node_27_demand', 'link_27_flow', 'node_5_demand', 'node_24_demand', 'node_12_demand', 'node_6_demand', 'link_24_flow', 'node_7_pressure', 'reservoir_demand', 'link_16_flow', 'node_18_pressure', 'node_27_pressure', 'node_14_pressure', 'node_26_pressure', 'node_4_demand', 'node_31_demand', 'node_6_pressure', 'node_30_demand', 'node_12_pressure', 'link_28_flow', 'node_15_pressure', 'node_2_pressure', 'link_17_flow', 'node_20_pressure', 'node_10_demand', 'node_31_pressure', 'node_24_pressure', 'node_3_demand', 'node_23_pressure', 'link_29_flow', 'link_20_flow', 'node_28_demand', 'node_28_pressure', 'node_17_pressure', 'link_30_flow', 'link_9_flow', 'node_29_demand', 'link_19_flow', 'link_31_flow', 'link_32_flow', 'link_6_flow', 'link_11_flow', 'node_23_demand', 'link_5_flow', 'link_2_flow', 'link_15_flow', 'link_25_flow', 'node_25_pressure', 'link_3_flow', 'link_12_flow', 'node_22_demand', 'node_5_pressure', 'node_13_demand', 'link_18_flow']]\n",
      "starting df shape: (87600, 41)\n",
      "This is training run 7 and has the shape:  (87600, 41)\n",
      "The value of dropped columns is 55\n"
     ]
    },
    {
     "name": "stderr",
     "output_type": "stream",
     "text": [
      "/Users/alexellard/opt/anaconda3/lib/python3.7/site-packages/xgboost/data.py:96: UserWarning: Use subset (sliced data) of np.ndarray is not recommended because it will generate extra copies and increase memory consumption\n",
      "  \"because it will generate extra copies and increase \" +\n"
     ]
    },
    {
     "name": "stdout",
     "output_type": "stream",
     "text": [
      "test y shape : (17520, 1)\n",
      "Inv y shape : (17520, 41)\n",
      "y pred shape : (17520, 1)\n",
      "inv y pred : (17520, 41)\n",
      "Run 7 Mean Absolute Error: 1.3720193896473016\n",
      "RMSE: 1.824\n",
      "R^2: 1.000\n",
      "[['node_15_demand', 'node_18_pressure', 'node_8_demand', 'node_26_pressure', 'link_29_flow', 'node_3_pressure', 'link_19_flow', 'node_7_demand', 'link_24_flow', 'link_9_flow', 'node_15_pressure', 'node_6_pressure', 'link_4_flow', 'node_17_pressure', 'node_3_demand', 'link_27_flow', 'node_19_demand', 'link_2_flow', 'node_22_demand', 'reservoir_pressure', 'link_25_flow', 'node_23_demand', 'link_7_flow', 'node_14_demand', 'link_11_flow', 'link_18_flow', 'node_24_pressure', 'link_3_flow', 'node_4_demand', 'node_31_demand', 'node_21_demand', 'node_18_demand', 'node_11_demand', 'node_24_demand', 'link_21_flow', 'node_10_demand', 'node_25_demand', 'node_22_pressure', 'node_11_pressure', 'node_19_pressure', 'link_16_flow', 'node_13_pressure', 'node_5_demand', 'node_27_demand', 'node_1_pressure', 'link_13_flow', 'node_20_pressure', 'node_25_pressure', 'link_31_flow', 'node_17_demand', 'link_22_flow', 'node_20_demand', 'node_28_pressure', 'node_9_demand', 'node_7_pressure']]\n",
      "starting df shape: (87600, 41)\n",
      "This is training run 8 and has the shape:  (87600, 41)\n",
      "The value of dropped columns is 55\n"
     ]
    },
    {
     "name": "stderr",
     "output_type": "stream",
     "text": [
      "/Users/alexellard/opt/anaconda3/lib/python3.7/site-packages/xgboost/data.py:96: UserWarning: Use subset (sliced data) of np.ndarray is not recommended because it will generate extra copies and increase memory consumption\n",
      "  \"because it will generate extra copies and increase \" +\n"
     ]
    },
    {
     "name": "stdout",
     "output_type": "stream",
     "text": [
      "test y shape : (17520, 1)\n",
      "Inv y shape : (17520, 41)\n",
      "y pred shape : (17520, 1)\n",
      "inv y pred : (17520, 41)\n",
      "Run 8 Mean Absolute Error: 8.091113607409888\n",
      "RMSE: 10.581\n",
      "R^2: 1.000\n",
      "[['node_15_demand', 'link_8_flow', 'node_19_pressure', 'link_23_flow', 'node_9_demand', 'node_29_pressure', 'node_17_pressure', 'node_11_demand', 'node_16_demand', 'link_28_flow', 'node_31_pressure', 'node_28_pressure', 'link_12_flow', 'link_30_flow', 'node_20_pressure', 'node_31_demand', 'link_2_flow', 'node_26_pressure', 'node_15_pressure', 'link_20_flow', 'node_4_demand', 'node_17_demand', 'node_6_demand', 'node_12_demand', 'link_29_flow', 'link_15_flow', 'node_12_pressure', 'link_19_flow', 'node_1_demand', 'node_29_demand', 'node_2_pressure', 'node_7_demand', 'node_18_pressure', 'node_10_demand', 'node_26_demand', 'node_30_pressure', 'node_24_demand', 'node_25_demand', 'link_9_flow', 'node_19_demand', 'link_14_flow', 'node_22_pressure', 'node_10_pressure', 'reservoir_demand', 'link_32_flow', 'node_28_demand', 'node_9_pressure', 'node_21_demand', 'link_24_flow', 'node_21_pressure', 'link_27_flow', 'node_7_pressure', 'link_21_flow', 'node_25_pressure']]\n",
      "starting df shape: (87600, 42)\n",
      "This is training run 9 and has the shape:  (87600, 42)\n",
      "The value of dropped columns is 55\n"
     ]
    },
    {
     "name": "stderr",
     "output_type": "stream",
     "text": [
      "/Users/alexellard/opt/anaconda3/lib/python3.7/site-packages/xgboost/data.py:96: UserWarning: Use subset (sliced data) of np.ndarray is not recommended because it will generate extra copies and increase memory consumption\n",
      "  \"because it will generate extra copies and increase \" +\n"
     ]
    },
    {
     "name": "stdout",
     "output_type": "stream",
     "text": [
      "test y shape : (17520, 1)\n",
      "Inv y shape : (17520, 42)\n",
      "y pred shape : (17520, 1)\n",
      "inv y pred : (17520, 42)\n",
      "Run 9 Mean Absolute Error: 1.2995758011552305\n",
      "RMSE: 1.691\n",
      "R^2: 1.000\n",
      "[['node_26_demand', 'node_21_pressure', 'link_13_flow', 'node_18_pressure', 'node_14_pressure', 'node_1_demand', 'node_31_pressure', 'link_16_flow', 'node_1_pressure', 'node_12_pressure', 'node_5_demand', 'node_17_demand', 'node_28_demand', 'link_9_flow', 'link_2_flow', 'link_5_flow', 'node_9_pressure', 'link_27_flow', 'node_16_pressure', 'node_8_pressure', 'node_12_demand', 'node_30_demand', 'link_15_flow', 'node_11_pressure', 'node_24_pressure', 'link_7_flow', 'node_8_demand', 'node_22_pressure', 'node_20_demand', 'node_10_pressure', 'link_21_flow', 'node_21_demand', 'link_28_flow', 'node_25_demand', 'node_25_pressure', 'node_28_pressure', 'node_13_demand', 'reservoir_pressure', 'node_27_pressure', 'node_4_demand', 'node_10_demand', 'link_10_flow', 'node_26_pressure', 'node_22_demand', 'node_16_demand', 'link_8_flow', 'node_17_pressure', 'link_6_flow', 'node_24_demand', 'link_32_flow', 'link_22_flow', 'node_2_pressure', 'reservoir_demand', 'link_14_flow']]\n",
      "starting df shape: (87600, 42)\n",
      "This is training run 10 and has the shape:  (87600, 42)\n",
      "The value of dropped columns is 55\n"
     ]
    },
    {
     "name": "stderr",
     "output_type": "stream",
     "text": [
      "/Users/alexellard/opt/anaconda3/lib/python3.7/site-packages/xgboost/data.py:96: UserWarning: Use subset (sliced data) of np.ndarray is not recommended because it will generate extra copies and increase memory consumption\n",
      "  \"because it will generate extra copies and increase \" +\n"
     ]
    },
    {
     "name": "stdout",
     "output_type": "stream",
     "text": [
      "test y shape : (17520, 1)\n",
      "Inv y shape : (17520, 42)\n",
      "y pred shape : (17520, 1)\n",
      "inv y pred : (17520, 42)\n",
      "Run 10 Mean Absolute Error: 0.8435269523742959\n",
      "RMSE: 1.091\n",
      "R^2: 1.000\n",
      "[['node_10_demand', 'node_12_demand', 'node_31_pressure', 'node_30_pressure', 'node_11_pressure', 'node_4_demand', 'node_4_pressure', 'link_30_flow', 'link_13_flow', 'node_7_pressure', 'node_31_demand', 'link_7_flow', 'link_16_flow', 'link_9_flow', 'node_8_pressure', 'node_18_demand', 'link_23_flow', 'link_19_flow', 'node_18_pressure', 'node_3_demand', 'node_13_demand', 'node_19_pressure', 'link_22_flow', 'node_22_demand', 'node_23_pressure', 'link_26_flow', 'node_12_pressure', 'node_11_demand', 'link_15_flow', 'node_7_demand', 'node_14_demand', 'node_24_pressure', 'link_18_flow', 'link_10_flow', 'node_20_pressure', 'link_12_flow', 'link_20_flow', 'node_28_pressure', 'node_23_demand', 'node_30_demand', 'link_8_flow', 'link_6_flow', 'link_29_flow', 'node_9_pressure', 'node_9_demand', 'node_5_demand', 'node_2_demand', 'node_25_demand', 'node_27_demand', 'node_22_pressure', 'node_13_pressure', 'node_21_demand', 'node_5_pressure', 'link_28_flow', 'node_1_pressure', 'node_2_pressure', 'link_27_flow', 'node_21_pressure', 'node_17_pressure']]\n",
      "starting df shape: (87600, 37)\n",
      "This is training run 1 and has the shape:  (87600, 37)\n",
      "The value of dropped columns is 60\n"
     ]
    },
    {
     "name": "stderr",
     "output_type": "stream",
     "text": [
      "/Users/alexellard/opt/anaconda3/lib/python3.7/site-packages/xgboost/data.py:96: UserWarning: Use subset (sliced data) of np.ndarray is not recommended because it will generate extra copies and increase memory consumption\n",
      "  \"because it will generate extra copies and increase \" +\n"
     ]
    },
    {
     "name": "stdout",
     "output_type": "stream",
     "text": [
      "test y shape : (17520, 1)\n",
      "Inv y shape : (17520, 37)\n",
      "y pred shape : (17520, 1)\n",
      "inv y pred : (17520, 37)\n",
      "Run 1 Mean Absolute Error: 3.0055619122884174\n",
      "RMSE: 3.992\n",
      "R^2: 1.000\n",
      "[['node_9_pressure', 'node_27_demand', 'link_4_flow', 'reservoir_pressure', 'link_20_flow', 'node_21_pressure', 'link_5_flow', 'node_2_pressure', 'link_16_flow', 'node_5_demand', 'link_9_flow', 'node_14_pressure', 'node_10_pressure', 'node_7_pressure', 'link_6_flow', 'node_23_demand', 'node_24_pressure', 'node_11_demand', 'node_2_demand', 'link_23_flow', 'link_22_flow', 'node_4_demand', 'link_17_flow', 'link_14_flow', 'node_1_demand', 'node_12_pressure', 'node_16_demand', 'node_24_demand', 'node_25_pressure', 'node_22_demand', 'node_4_pressure', 'node_27_pressure', 'node_30_pressure', 'link_19_flow', 'node_7_demand', 'link_10_flow', 'node_26_pressure', 'link_25_flow', 'link_32_flow', 'node_31_pressure', 'node_15_demand', 'link_2_flow', 'node_22_pressure', 'node_11_pressure', 'node_18_pressure', 'link_26_flow', 'link_28_flow', 'link_24_flow', 'node_20_demand', 'node_16_pressure', 'node_1_pressure', 'node_17_pressure', 'link_31_flow', 'node_12_demand', 'node_20_pressure', 'node_29_pressure', 'node_21_demand', 'link_21_flow', 'node_25_demand']]\n",
      "starting df shape: (87600, 37)\n",
      "This is training run 2 and has the shape:  (87600, 37)\n",
      "The value of dropped columns is 60\n"
     ]
    },
    {
     "name": "stderr",
     "output_type": "stream",
     "text": [
      "/Users/alexellard/opt/anaconda3/lib/python3.7/site-packages/xgboost/data.py:96: UserWarning: Use subset (sliced data) of np.ndarray is not recommended because it will generate extra copies and increase memory consumption\n",
      "  \"because it will generate extra copies and increase \" +\n"
     ]
    },
    {
     "name": "stdout",
     "output_type": "stream",
     "text": [
      "test y shape : (17520, 1)\n",
      "Inv y shape : (17520, 37)\n",
      "y pred shape : (17520, 1)\n",
      "inv y pred : (17520, 37)\n",
      "Run 2 Mean Absolute Error: 10.128413068656236\n",
      "RMSE: 13.251\n",
      "R^2: 1.000\n",
      "[['link_27_flow', 'node_25_demand', 'node_19_demand', 'link_14_flow', 'node_31_demand', 'node_24_pressure', 'link_3_flow', 'node_9_demand', 'node_16_pressure', 'node_23_demand', 'node_28_demand', 'node_14_demand', 'node_31_pressure', 'link_6_flow', 'link_4_flow', 'node_5_pressure', 'node_30_pressure', 'node_15_pressure', 'node_29_demand', 'node_22_demand', 'node_20_demand', 'link_29_flow', 'node_2_pressure', 'node_14_pressure', 'node_10_demand', 'link_22_flow', 'node_5_demand', 'node_18_pressure', 'link_12_flow', 'node_15_demand', 'node_4_pressure', 'link_31_flow', 'node_2_demand', 'node_12_pressure', 'link_32_flow', 'link_23_flow', 'link_5_flow', 'node_12_demand', 'link_30_flow', 'link_28_flow', 'node_13_pressure', 'link_16_flow', 'node_27_pressure', 'link_10_flow', 'node_19_pressure', 'node_21_pressure', 'link_8_flow', 'node_8_demand', 'link_21_flow', 'node_8_pressure', 'node_13_demand', 'link_11_flow', 'node_27_demand', 'link_13_flow', 'node_24_demand', 'link_19_flow', 'node_3_demand', 'link_7_flow', 'node_16_demand']]\n",
      "starting df shape: (87600, 37)\n",
      "This is training run 3 and has the shape:  (87600, 37)\n",
      "The value of dropped columns is 60\n"
     ]
    },
    {
     "name": "stderr",
     "output_type": "stream",
     "text": [
      "/Users/alexellard/opt/anaconda3/lib/python3.7/site-packages/xgboost/data.py:96: UserWarning: Use subset (sliced data) of np.ndarray is not recommended because it will generate extra copies and increase memory consumption\n",
      "  \"because it will generate extra copies and increase \" +\n"
     ]
    },
    {
     "name": "stdout",
     "output_type": "stream",
     "text": [
      "test y shape : (17520, 1)\n",
      "Inv y shape : (17520, 37)\n",
      "y pred shape : (17520, 1)\n",
      "inv y pred : (17520, 37)\n",
      "Run 3 Mean Absolute Error: 6.878544427499395\n",
      "RMSE: 8.993\n",
      "R^2: 1.000\n",
      "[['node_11_pressure', 'node_1_pressure', 'link_14_flow', 'node_14_demand', 'node_23_demand', 'node_30_pressure', 'link_19_flow', 'node_30_demand', 'link_2_flow', 'link_18_flow', 'node_29_demand', 'link_28_flow', 'node_15_demand', 'node_17_demand', 'node_14_pressure', 'node_6_pressure', 'node_10_demand', 'node_25_demand', 'link_4_flow', 'node_13_demand', 'node_3_pressure', 'node_23_pressure', 'node_7_pressure', 'link_7_flow', 'node_6_demand', 'link_22_flow', 'link_6_flow', 'node_31_pressure', 'node_31_demand', 'link_9_flow', 'link_11_flow', 'reservoir_pressure', 'link_32_flow', 'node_18_demand', 'node_27_demand', 'node_21_demand', 'node_7_demand', 'node_24_pressure', 'node_26_pressure', 'link_10_flow', 'link_30_flow', 'node_20_pressure', 'node_28_demand', 'node_1_demand', 'link_13_flow', 'node_15_pressure', 'node_22_demand', 'link_25_flow', 'link_24_flow', 'link_23_flow', 'node_8_demand', 'link_5_flow', 'node_2_pressure', 'link_27_flow', 'node_26_demand', 'node_10_pressure', 'node_4_pressure', 'link_16_flow', 'node_19_demand']]\n",
      "starting df shape: (87600, 37)\n",
      "This is training run 4 and has the shape:  (87600, 37)\n",
      "The value of dropped columns is 60\n"
     ]
    },
    {
     "name": "stderr",
     "output_type": "stream",
     "text": [
      "/Users/alexellard/opt/anaconda3/lib/python3.7/site-packages/xgboost/data.py:96: UserWarning: Use subset (sliced data) of np.ndarray is not recommended because it will generate extra copies and increase memory consumption\n",
      "  \"because it will generate extra copies and increase \" +\n"
     ]
    },
    {
     "name": "stdout",
     "output_type": "stream",
     "text": [
      "test y shape : (17520, 1)\n",
      "Inv y shape : (17520, 37)\n",
      "y pred shape : (17520, 1)\n",
      "inv y pred : (17520, 37)\n",
      "Run 4 Mean Absolute Error: 8.844523797774157\n",
      "RMSE: 11.548\n",
      "R^2: 1.000\n",
      "[['node_22_demand', 'node_9_demand', 'link_25_flow', 'link_12_flow', 'link_2_flow', 'node_26_pressure', 'node_8_demand', 'node_14_demand', 'node_18_demand', 'node_30_demand', 'node_13_demand', 'node_18_pressure', 'link_21_flow', 'link_15_flow', 'node_16_pressure', 'node_25_pressure', 'node_30_pressure', 'link_4_flow', 'link_8_flow', 'node_25_demand', 'node_14_pressure', 'node_20_pressure', 'reservoir_pressure', 'node_11_pressure', 'node_31_demand', 'node_5_pressure', 'node_4_pressure', 'node_27_pressure', 'node_12_pressure', 'link_31_flow', 'node_2_pressure', 'link_7_flow', 'node_9_pressure', 'node_19_demand', 'link_28_flow', 'reservoir_demand', 'link_22_flow', 'node_13_pressure', 'link_3_flow', 'node_28_demand', 'node_29_pressure', 'link_13_flow', 'node_1_pressure', 'link_17_flow', 'node_8_pressure', 'node_1_demand', 'link_10_flow', 'node_22_pressure', 'node_3_pressure', 'node_15_demand', 'link_5_flow', 'node_27_demand', 'node_17_pressure', 'node_24_demand', 'link_14_flow', 'node_3_demand', 'node_31_pressure', 'node_26_demand', 'node_10_pressure']]\n",
      "starting df shape: (87600, 37)\n",
      "This is training run 5 and has the shape:  (87600, 37)\n",
      "The value of dropped columns is 60\n"
     ]
    },
    {
     "name": "stderr",
     "output_type": "stream",
     "text": [
      "/Users/alexellard/opt/anaconda3/lib/python3.7/site-packages/xgboost/data.py:96: UserWarning: Use subset (sliced data) of np.ndarray is not recommended because it will generate extra copies and increase memory consumption\n",
      "  \"because it will generate extra copies and increase \" +\n"
     ]
    },
    {
     "name": "stdout",
     "output_type": "stream",
     "text": [
      "test y shape : (17520, 1)\n",
      "Inv y shape : (17520, 37)\n",
      "y pred shape : (17520, 1)\n",
      "inv y pred : (17520, 37)\n",
      "Run 5 Mean Absolute Error: 1.0454422628841205\n",
      "RMSE: 1.341\n",
      "R^2: 1.000\n",
      "[['link_29_flow', 'node_23_demand', 'link_2_flow', 'node_3_pressure', 'node_18_pressure', 'link_5_flow', 'node_31_demand', 'link_7_flow', 'node_18_demand', 'node_24_pressure', 'link_25_flow', 'link_12_flow', 'node_25_pressure', 'node_15_demand', 'node_25_demand', 'link_14_flow', 'node_5_demand', 'link_4_flow', 'node_4_demand', 'node_20_demand', 'link_23_flow', 'node_24_demand', 'link_19_flow', 'node_31_pressure', 'node_30_demand', 'node_19_demand', 'link_30_flow', 'node_21_pressure', 'link_31_flow', 'reservoir_demand', 'link_24_flow', 'link_28_flow', 'node_19_pressure', 'node_12_pressure', 'link_27_flow', 'node_3_demand', 'node_10_pressure', 'node_14_demand', 'node_6_demand', 'link_26_flow', 'node_2_demand', 'node_9_pressure', 'node_23_pressure', 'node_26_demand', 'node_16_pressure', 'link_32_flow', 'node_30_pressure', 'link_9_flow', 'link_11_flow', 'node_27_demand', 'node_13_demand', 'node_26_pressure', 'node_11_demand', 'node_2_pressure', 'node_14_pressure', 'node_20_pressure', 'node_16_demand', 'link_3_flow', 'node_8_pressure', 'node_12_demand']]\n",
      "starting df shape: (87600, 36)\n",
      "This is training run 6 and has the shape:  (87600, 36)\n",
      "The value of dropped columns is 60\n"
     ]
    },
    {
     "name": "stderr",
     "output_type": "stream",
     "text": [
      "/Users/alexellard/opt/anaconda3/lib/python3.7/site-packages/xgboost/data.py:96: UserWarning: Use subset (sliced data) of np.ndarray is not recommended because it will generate extra copies and increase memory consumption\n",
      "  \"because it will generate extra copies and increase \" +\n"
     ]
    },
    {
     "name": "stdout",
     "output_type": "stream",
     "text": [
      "test y shape : (17520, 1)\n",
      "Inv y shape : (17520, 36)\n",
      "y pred shape : (17520, 1)\n",
      "inv y pred : (17520, 36)\n",
      "Run 6 Mean Absolute Error: 1.4428645393145405\n",
      "RMSE: 1.894\n",
      "R^2: 1.000\n",
      "[['node_18_demand', 'node_27_pressure', 'node_27_demand', 'node_6_pressure', 'link_18_flow', 'node_5_pressure', 'node_3_pressure', 'link_9_flow', 'node_20_demand', 'node_5_demand', 'node_19_pressure', 'node_23_demand', 'link_4_flow', 'link_30_flow', 'node_22_demand', 'node_31_demand', 'node_18_pressure', 'link_23_flow', 'node_7_demand', 'node_25_pressure', 'node_13_pressure', 'link_14_flow', 'node_28_pressure', 'link_8_flow', 'link_12_flow', 'node_21_pressure', 'node_2_demand', 'node_16_pressure', 'node_22_pressure', 'node_6_demand', 'node_25_demand', 'link_20_flow', 'link_31_flow', 'link_25_flow', 'link_21_flow', 'link_32_flow', 'node_1_demand', 'reservoir_demand', 'node_24_demand', 'node_2_pressure', 'node_17_demand', 'node_8_demand', 'link_26_flow', 'node_1_pressure', 'node_29_pressure', 'node_20_pressure', 'link_22_flow', 'node_30_pressure', 'node_17_pressure', 'node_28_demand', 'node_13_demand', 'link_19_flow', 'node_23_pressure', 'node_19_demand', 'node_29_demand', 'node_31_pressure', 'link_28_flow', 'node_7_pressure', 'link_2_flow']]\n",
      "starting df shape: (87600, 37)\n",
      "This is training run 7 and has the shape:  (87600, 37)\n",
      "The value of dropped columns is 60\n"
     ]
    },
    {
     "name": "stderr",
     "output_type": "stream",
     "text": [
      "/Users/alexellard/opt/anaconda3/lib/python3.7/site-packages/xgboost/data.py:96: UserWarning: Use subset (sliced data) of np.ndarray is not recommended because it will generate extra copies and increase memory consumption\n",
      "  \"because it will generate extra copies and increase \" +\n"
     ]
    },
    {
     "name": "stdout",
     "output_type": "stream",
     "text": [
      "test y shape : (17520, 1)\n",
      "Inv y shape : (17520, 37)\n",
      "y pred shape : (17520, 1)\n",
      "inv y pred : (17520, 37)\n",
      "Run 7 Mean Absolute Error: 0.26381493781682985\n",
      "RMSE: 0.344\n",
      "R^2: 0.999\n",
      "[['node_17_pressure', 'node_9_pressure', 'node_29_pressure', 'node_11_demand', 'node_20_demand', 'node_31_pressure', 'node_27_pressure', 'link_30_flow', 'node_7_demand', 'link_13_flow', 'link_29_flow', 'link_31_flow', 'link_2_flow', 'link_17_flow', 'node_11_pressure', 'node_28_pressure', 'link_23_flow', 'node_19_pressure', 'node_8_demand', 'node_7_pressure', 'node_15_pressure', 'link_15_flow', 'node_13_demand', 'node_31_demand', 'link_4_flow', 'link_19_flow', 'link_25_flow', 'link_27_flow', 'node_14_demand', 'node_21_pressure', 'node_10_pressure', 'node_3_demand', 'node_6_demand', 'node_21_demand', 'node_4_demand', 'node_20_pressure', 'link_7_flow', 'link_5_flow', 'link_6_flow', 'link_12_flow', 'node_4_pressure', 'link_21_flow', 'node_12_pressure', 'node_1_demand', 'node_5_pressure', 'link_9_flow', 'link_28_flow', 'node_22_demand', 'link_18_flow', 'node_2_demand', 'node_10_demand', 'node_17_demand', 'node_18_demand', 'node_2_pressure', 'node_22_pressure', 'link_24_flow', 'node_26_pressure', 'node_27_demand', 'node_18_pressure']]\n",
      "starting df shape: (87600, 37)\n",
      "This is training run 8 and has the shape:  (87600, 37)\n",
      "The value of dropped columns is 60\n"
     ]
    },
    {
     "name": "stderr",
     "output_type": "stream",
     "text": [
      "/Users/alexellard/opt/anaconda3/lib/python3.7/site-packages/xgboost/data.py:96: UserWarning: Use subset (sliced data) of np.ndarray is not recommended because it will generate extra copies and increase memory consumption\n",
      "  \"because it will generate extra copies and increase \" +\n"
     ]
    },
    {
     "name": "stdout",
     "output_type": "stream",
     "text": [
      "test y shape : (17520, 1)\n",
      "Inv y shape : (17520, 37)\n",
      "y pred shape : (17520, 1)\n",
      "inv y pred : (17520, 37)\n",
      "Run 8 Mean Absolute Error: 9.850128872443545\n",
      "RMSE: 12.865\n",
      "R^2: 1.000\n",
      "[['node_5_pressure', 'node_9_demand', 'link_5_flow', 'node_5_demand', 'link_30_flow', 'node_31_demand', 'link_10_flow', 'link_12_flow', 'link_16_flow', 'node_14_pressure', 'link_9_flow', 'link_29_flow', 'link_17_flow', 'node_4_demand', 'link_22_flow', 'node_24_demand', 'link_4_flow', 'node_6_pressure', 'node_21_demand', 'node_26_pressure', 'node_3_pressure', 'node_28_pressure', 'node_27_demand', 'link_3_flow', 'node_18_pressure', 'node_19_pressure', 'node_25_demand', 'node_16_demand', 'node_7_demand', 'node_10_demand', 'node_11_demand', 'node_15_demand', 'node_3_demand', 'node_30_pressure', 'node_6_demand', 'node_1_pressure', 'link_14_flow', 'node_13_demand', 'link_23_flow', 'node_12_pressure', 'link_21_flow', 'node_11_pressure', 'node_14_demand', 'link_25_flow', 'reservoir_demand', 'node_12_demand', 'node_17_pressure', 'node_17_demand', 'node_22_pressure', 'node_23_pressure', 'link_11_flow', 'link_15_flow', 'link_27_flow', 'node_22_demand', 'node_26_demand', 'link_24_flow', 'node_2_demand', 'node_7_pressure', 'node_20_demand']]\n",
      "starting df shape: (87600, 37)\n",
      "This is training run 9 and has the shape:  (87600, 37)\n",
      "The value of dropped columns is 60\n"
     ]
    },
    {
     "name": "stderr",
     "output_type": "stream",
     "text": [
      "/Users/alexellard/opt/anaconda3/lib/python3.7/site-packages/xgboost/data.py:96: UserWarning: Use subset (sliced data) of np.ndarray is not recommended because it will generate extra copies and increase memory consumption\n",
      "  \"because it will generate extra copies and increase \" +\n"
     ]
    },
    {
     "name": "stdout",
     "output_type": "stream",
     "text": [
      "test y shape : (17520, 1)\n",
      "Inv y shape : (17520, 37)\n",
      "y pred shape : (17520, 1)\n",
      "inv y pred : (17520, 37)\n",
      "Run 9 Mean Absolute Error: 0.3068425229488148\n",
      "RMSE: 0.400\n",
      "R^2: 1.000\n",
      "[['node_22_pressure', 'node_28_demand', 'link_17_flow', 'node_8_pressure', 'link_29_flow', 'link_30_flow', 'link_31_flow', 'node_28_pressure', 'node_17_demand', 'node_20_demand', 'node_18_demand', 'reservoir_demand', 'node_21_demand', 'link_6_flow', 'node_29_demand', 'node_7_demand', 'node_13_demand', 'node_10_pressure', 'link_11_flow', 'node_15_pressure', 'node_4_pressure', 'link_8_flow', 'link_18_flow', 'node_31_pressure', 'link_15_flow', 'node_5_demand', 'node_6_pressure', 'node_19_demand', 'node_30_pressure', 'node_22_demand', 'node_20_pressure', 'link_2_flow', 'node_1_demand', 'reservoir_pressure', 'node_7_pressure', 'node_19_pressure', 'node_24_demand', 'node_18_pressure', 'node_5_pressure', 'node_9_demand', 'node_23_demand', 'node_13_pressure', 'node_2_demand', 'node_3_demand', 'link_19_flow', 'link_7_flow', 'link_12_flow', 'link_10_flow', 'node_15_demand', 'node_25_demand', 'link_28_flow', 'link_27_flow', 'node_2_pressure', 'node_14_pressure', 'link_26_flow', 'link_20_flow', 'link_9_flow', 'node_16_demand', 'node_27_demand', 'node_21_pressure']]\n",
      "starting df shape: (87600, 36)\n",
      "This is training run 10 and has the shape:  (87600, 36)\n",
      "The value of dropped columns is 60\n"
     ]
    },
    {
     "name": "stderr",
     "output_type": "stream",
     "text": [
      "/Users/alexellard/opt/anaconda3/lib/python3.7/site-packages/xgboost/data.py:96: UserWarning: Use subset (sliced data) of np.ndarray is not recommended because it will generate extra copies and increase memory consumption\n",
      "  \"because it will generate extra copies and increase \" +\n"
     ]
    },
    {
     "name": "stdout",
     "output_type": "stream",
     "text": [
      "test y shape : (17520, 1)\n",
      "Inv y shape : (17520, 36)\n",
      "y pred shape : (17520, 1)\n",
      "inv y pred : (17520, 36)\n",
      "Run 10 Mean Absolute Error: 1.111979152477964\n",
      "RMSE: 1.461\n",
      "R^2: 1.000\n",
      "[['node_1_pressure', 'node_13_demand', 'node_16_demand', 'node_11_pressure', 'link_6_flow', 'node_12_demand', 'link_3_flow', 'node_23_demand', 'node_27_demand', 'node_8_demand', 'node_10_pressure', 'link_23_flow', 'node_25_pressure', 'reservoir_pressure', 'node_7_pressure', 'link_25_flow', 'link_8_flow', 'node_9_pressure', 'node_9_demand', 'node_27_pressure', 'link_2_flow', 'node_19_pressure', 'link_11_flow', 'node_12_pressure', 'node_30_demand', 'node_28_pressure', 'node_4_demand', 'node_24_pressure', 'node_15_demand', 'link_12_flow', 'node_29_pressure', 'node_11_demand', 'node_20_pressure', 'node_29_demand', 'link_32_flow', 'node_3_pressure', 'link_30_flow', 'node_6_pressure', 'link_7_flow', 'link_22_flow', 'node_23_pressure', 'link_9_flow', 'link_15_flow', 'node_19_demand', 'node_17_pressure', 'node_30_pressure', 'node_28_demand', 'link_21_flow', 'node_31_pressure', 'link_13_flow', 'node_18_pressure', 'node_8_pressure', 'node_31_demand', 'node_6_demand', 'reservoir_demand', 'node_22_pressure', 'node_3_demand', 'node_2_demand', 'node_16_pressure', 'node_26_demand', 'node_7_demand', 'node_13_pressure', 'node_22_demand', 'link_18_flow', 'node_1_demand']]\n",
      "starting df shape: (87600, 31)\n",
      "This is training run 1 and has the shape:  (87600, 31)\n",
      "The value of dropped columns is 65\n"
     ]
    },
    {
     "name": "stderr",
     "output_type": "stream",
     "text": [
      "/Users/alexellard/opt/anaconda3/lib/python3.7/site-packages/xgboost/data.py:96: UserWarning: Use subset (sliced data) of np.ndarray is not recommended because it will generate extra copies and increase memory consumption\n",
      "  \"because it will generate extra copies and increase \" +\n"
     ]
    },
    {
     "name": "stdout",
     "output_type": "stream",
     "text": [
      "test y shape : (17520, 1)\n",
      "Inv y shape : (17520, 31)\n",
      "y pred shape : (17520, 1)\n",
      "inv y pred : (17520, 31)\n",
      "Run 1 Mean Absolute Error: 1.1085146144802782\n",
      "RMSE: 1.432\n",
      "R^2: 1.000\n",
      "[['node_9_pressure', 'node_16_demand', 'node_19_pressure', 'node_26_pressure', 'link_15_flow', 'node_4_pressure', 'node_14_demand', 'node_18_demand', 'link_8_flow', 'link_4_flow', 'link_21_flow', 'node_19_demand', 'node_7_demand', 'node_15_demand', 'node_11_pressure', 'node_17_demand', 'link_27_flow', 'node_5_pressure', 'link_7_flow', 'link_12_flow', 'node_13_demand', 'node_28_demand', 'node_30_pressure', 'node_9_demand', 'node_2_demand', 'node_2_pressure', 'node_25_demand', 'link_26_flow', 'node_6_pressure', 'node_8_pressure', 'node_7_pressure', 'node_5_demand', 'node_20_demand', 'link_11_flow', 'node_22_demand', 'node_17_pressure', 'link_29_flow', 'node_27_demand', 'node_30_demand', 'link_5_flow', 'link_17_flow', 'link_20_flow', 'node_15_pressure', 'node_23_demand', 'node_1_pressure', 'reservoir_pressure', 'node_16_pressure', 'link_18_flow', 'node_12_pressure', 'link_14_flow', 'node_20_pressure', 'node_11_demand', 'node_13_pressure', 'link_6_flow', 'node_6_demand', 'node_10_demand', 'node_27_pressure', 'node_10_pressure', 'link_23_flow', 'link_24_flow', 'node_28_pressure', 'link_19_flow', 'reservoir_demand', 'link_28_flow', 'link_25_flow']]\n",
      "starting df shape: (87600, 31)\n",
      "This is training run 2 and has the shape:  (87600, 31)\n",
      "The value of dropped columns is 65\n"
     ]
    },
    {
     "name": "stderr",
     "output_type": "stream",
     "text": [
      "/Users/alexellard/opt/anaconda3/lib/python3.7/site-packages/xgboost/data.py:96: UserWarning: Use subset (sliced data) of np.ndarray is not recommended because it will generate extra copies and increase memory consumption\n",
      "  \"because it will generate extra copies and increase \" +\n"
     ]
    },
    {
     "name": "stdout",
     "output_type": "stream",
     "text": [
      "test y shape : (17520, 1)\n",
      "Inv y shape : (17520, 31)\n",
      "y pred shape : (17520, 1)\n",
      "inv y pred : (17520, 31)\n",
      "Run 2 Mean Absolute Error: 0.3210978074394552\n",
      "RMSE: 0.419\n",
      "R^2: 1.000\n",
      "[['node_13_pressure', 'node_13_demand', 'node_26_pressure', 'node_14_demand', 'link_4_flow', 'link_12_flow', 'node_18_pressure', 'node_24_pressure', 'node_11_demand', 'node_22_pressure', 'node_14_pressure', 'node_27_pressure', 'node_17_pressure', 'node_9_demand', 'link_26_flow', 'node_8_pressure', 'link_23_flow', 'node_2_pressure', 'reservoir_demand', 'node_30_demand', 'node_19_pressure', 'node_11_pressure', 'link_24_flow', 'node_4_demand', 'link_19_flow', 'node_23_demand', 'node_27_demand', 'link_31_flow', 'node_16_pressure', 'node_25_pressure', 'node_15_demand', 'node_28_demand', 'node_20_demand', 'node_12_pressure', 'node_31_demand', 'link_13_flow', 'link_14_flow', 'link_22_flow', 'node_10_pressure', 'node_17_demand', 'link_27_flow', 'node_9_pressure', 'link_16_flow', 'node_28_pressure', 'node_15_pressure', 'node_26_demand', 'node_19_demand', 'link_6_flow', 'link_28_flow', 'node_30_pressure', 'link_2_flow', 'node_25_demand', 'node_1_demand', 'node_5_demand', 'node_3_pressure', 'node_8_demand', 'node_6_demand', 'link_20_flow', 'link_9_flow', 'link_8_flow', 'node_23_pressure', 'node_18_demand', 'node_10_demand', 'link_7_flow']]\n",
      "starting df shape: (87600, 32)\n",
      "This is training run 3 and has the shape:  (87600, 32)\n",
      "The value of dropped columns is 65\n"
     ]
    },
    {
     "name": "stderr",
     "output_type": "stream",
     "text": [
      "/Users/alexellard/opt/anaconda3/lib/python3.7/site-packages/xgboost/data.py:96: UserWarning: Use subset (sliced data) of np.ndarray is not recommended because it will generate extra copies and increase memory consumption\n",
      "  \"because it will generate extra copies and increase \" +\n"
     ]
    },
    {
     "name": "stdout",
     "output_type": "stream",
     "text": [
      "test y shape : (17520, 1)\n",
      "Inv y shape : (17520, 32)\n",
      "y pred shape : (17520, 1)\n",
      "inv y pred : (17520, 32)\n",
      "Run 3 Mean Absolute Error: 1.3242875837803572\n",
      "RMSE: 1.738\n",
      "R^2: 1.000\n",
      "[['link_7_flow', 'node_17_demand', 'link_13_flow', 'node_6_demand', 'link_25_flow', 'node_20_demand', 'node_22_demand', 'node_16_demand', 'link_15_flow', 'link_10_flow', 'node_3_demand', 'node_23_demand', 'node_31_pressure', 'link_12_flow', 'node_12_demand', 'node_15_demand', 'link_18_flow', 'node_19_demand', 'link_26_flow', 'node_31_demand', 'node_2_pressure', 'node_14_pressure', 'node_6_pressure', 'node_14_demand', 'node_7_pressure', 'node_10_pressure', 'node_22_pressure', 'node_11_demand', 'node_16_pressure', 'node_12_pressure', 'link_8_flow', 'node_18_demand', 'node_25_demand', 'node_9_demand', 'link_28_flow', 'node_7_demand', 'node_20_pressure', 'link_6_flow', 'node_28_pressure', 'node_17_pressure', 'node_24_pressure', 'node_5_demand', 'link_32_flow', 'link_29_flow', 'node_28_demand', 'reservoir_pressure', 'node_25_pressure', 'reservoir_demand', 'node_4_pressure', 'link_4_flow', 'link_22_flow', 'node_23_pressure', 'node_21_demand', 'link_23_flow', 'link_11_flow', 'node_8_demand', 'node_27_pressure', 'node_2_demand', 'node_30_demand', 'node_13_pressure', 'node_11_pressure', 'node_8_pressure', 'node_1_demand', 'link_14_flow']]\n",
      "starting df shape: (87600, 32)\n",
      "This is training run 4 and has the shape:  (87600, 32)\n",
      "The value of dropped columns is 65\n"
     ]
    },
    {
     "name": "stderr",
     "output_type": "stream",
     "text": [
      "/Users/alexellard/opt/anaconda3/lib/python3.7/site-packages/xgboost/data.py:96: UserWarning: Use subset (sliced data) of np.ndarray is not recommended because it will generate extra copies and increase memory consumption\n",
      "  \"because it will generate extra copies and increase \" +\n"
     ]
    },
    {
     "name": "stdout",
     "output_type": "stream",
     "text": [
      "test y shape : (17520, 1)\n",
      "Inv y shape : (17520, 32)\n",
      "y pred shape : (17520, 1)\n",
      "inv y pred : (17520, 32)\n",
      "Run 4 Mean Absolute Error: 0.5202505061107128\n",
      "RMSE: 0.677\n",
      "R^2: 1.000\n",
      "[['link_12_flow', 'node_9_demand', 'node_6_pressure', 'link_9_flow', 'node_14_pressure', 'node_16_pressure', 'link_32_flow', 'node_4_pressure', 'link_24_flow', 'node_1_pressure', 'node_16_demand', 'link_8_flow', 'link_4_flow', 'reservoir_pressure', 'node_22_pressure', 'node_19_demand', 'node_3_demand', 'node_13_demand', 'node_2_demand', 'node_10_demand', 'node_26_pressure', 'node_23_demand', 'node_23_pressure', 'node_31_demand', 'link_22_flow', 'link_26_flow', 'node_8_demand', 'node_18_pressure', 'node_13_pressure', 'link_15_flow', 'node_18_demand', 'link_18_flow', 'node_25_pressure', 'link_11_flow', 'node_17_pressure', 'link_21_flow', 'link_17_flow', 'node_7_demand', 'node_5_demand', 'link_30_flow', 'node_5_pressure', 'node_28_demand', 'link_25_flow', 'node_20_pressure', 'link_20_flow', 'node_28_pressure', 'link_2_flow', 'node_7_pressure', 'node_26_demand', 'link_16_flow', 'node_21_demand', 'node_31_pressure', 'node_4_demand', 'link_3_flow', 'link_10_flow', 'link_28_flow', 'node_25_demand', 'link_14_flow', 'node_12_demand', 'node_11_pressure', 'node_2_pressure', 'node_29_demand', 'link_27_flow', 'node_30_demand', 'link_31_flow']]\n",
      "starting df shape: (87600, 31)\n",
      "This is training run 5 and has the shape:  (87600, 31)\n",
      "The value of dropped columns is 65\n"
     ]
    },
    {
     "name": "stderr",
     "output_type": "stream",
     "text": [
      "/Users/alexellard/opt/anaconda3/lib/python3.7/site-packages/xgboost/data.py:96: UserWarning: Use subset (sliced data) of np.ndarray is not recommended because it will generate extra copies and increase memory consumption\n",
      "  \"because it will generate extra copies and increase \" +\n"
     ]
    },
    {
     "name": "stdout",
     "output_type": "stream",
     "text": [
      "test y shape : (17520, 1)\n",
      "Inv y shape : (17520, 31)\n",
      "y pred shape : (17520, 1)\n",
      "inv y pred : (17520, 31)\n",
      "Run 5 Mean Absolute Error: 2.551824814705823\n",
      "RMSE: 3.374\n",
      "R^2: 1.000\n",
      "[['link_26_flow', 'link_25_flow', 'node_6_pressure', 'node_15_pressure', 'link_2_flow', 'node_19_pressure', 'node_22_demand', 'node_28_pressure', 'link_8_flow', 'node_24_demand', 'node_11_demand', 'node_7_pressure', 'node_14_pressure', 'link_30_flow', 'node_8_demand', 'node_30_pressure', 'node_23_pressure', 'node_31_demand', 'link_17_flow', 'node_19_demand', 'node_18_demand', 'link_19_flow', 'node_17_pressure', 'node_22_pressure', 'node_25_pressure', 'link_21_flow', 'link_9_flow', 'link_31_flow', 'link_4_flow', 'node_5_demand', 'node_15_demand', 'node_9_demand', 'link_7_flow', 'node_3_pressure', 'node_2_demand', 'link_22_flow', 'node_16_pressure', 'node_25_demand', 'node_5_pressure', 'link_12_flow', 'node_11_pressure', 'node_6_demand', 'node_18_pressure', 'link_11_flow', 'node_1_pressure', 'node_4_demand', 'node_23_demand', 'reservoir_demand', 'link_23_flow', 'node_21_pressure', 'link_32_flow', 'node_29_pressure', 'node_16_demand', 'node_13_pressure', 'link_29_flow', 'link_24_flow', 'link_27_flow', 'node_20_demand', 'node_8_pressure', 'node_10_demand', 'node_9_pressure', 'link_6_flow', 'link_15_flow', 'node_27_demand', 'node_17_demand']]\n",
      "starting df shape: (87600, 31)\n",
      "This is training run 6 and has the shape:  (87600, 31)\n",
      "The value of dropped columns is 65\n"
     ]
    },
    {
     "name": "stderr",
     "output_type": "stream",
     "text": [
      "/Users/alexellard/opt/anaconda3/lib/python3.7/site-packages/xgboost/data.py:96: UserWarning: Use subset (sliced data) of np.ndarray is not recommended because it will generate extra copies and increase memory consumption\n",
      "  \"because it will generate extra copies and increase \" +\n"
     ]
    },
    {
     "name": "stdout",
     "output_type": "stream",
     "text": [
      "test y shape : (17520, 1)\n",
      "Inv y shape : (17520, 31)\n",
      "y pred shape : (17520, 1)\n",
      "inv y pred : (17520, 31)\n",
      "Run 6 Mean Absolute Error: 1.7911052851497\n",
      "RMSE: 2.332\n",
      "R^2: 0.999\n",
      "[['node_22_pressure', 'link_31_flow', 'node_4_demand', 'link_22_flow', 'link_4_flow', 'node_17_demand', 'node_2_demand', 'node_3_demand', 'node_5_demand', 'node_14_pressure', 'node_6_demand', 'link_20_flow', 'node_5_pressure', 'node_27_demand', 'link_2_flow', 'link_9_flow', 'node_25_demand', 'link_14_flow', 'node_17_pressure', 'node_8_pressure', 'node_3_pressure', 'node_23_pressure', 'link_6_flow', 'node_29_pressure', 'node_16_demand', 'node_21_demand', 'node_4_pressure', 'node_15_pressure', 'link_30_flow', 'link_11_flow', 'link_21_flow', 'node_15_demand', 'link_8_flow', 'node_19_pressure', 'node_9_pressure', 'node_7_demand', 'node_13_demand', 'node_13_pressure', 'node_30_pressure', 'link_12_flow', 'node_20_demand', 'node_18_pressure', 'node_28_pressure', 'link_24_flow', 'node_11_pressure', 'link_17_flow', 'reservoir_demand', 'node_30_demand', 'node_25_pressure', 'node_28_demand', 'node_29_demand', 'node_24_demand', 'node_26_pressure', 'node_26_demand', 'link_13_flow', 'node_11_demand', 'link_7_flow', 'node_31_pressure', 'node_2_pressure', 'link_10_flow', 'node_8_demand', 'link_16_flow', 'link_32_flow', 'node_18_demand', 'node_21_pressure']]\n",
      "starting df shape: (87600, 31)\n",
      "This is training run 7 and has the shape:  (87600, 31)\n",
      "The value of dropped columns is 65\n"
     ]
    },
    {
     "name": "stderr",
     "output_type": "stream",
     "text": [
      "/Users/alexellard/opt/anaconda3/lib/python3.7/site-packages/xgboost/data.py:96: UserWarning: Use subset (sliced data) of np.ndarray is not recommended because it will generate extra copies and increase memory consumption\n",
      "  \"because it will generate extra copies and increase \" +\n"
     ]
    },
    {
     "name": "stdout",
     "output_type": "stream",
     "text": [
      "test y shape : (17520, 1)\n",
      "Inv y shape : (17520, 31)\n",
      "y pred shape : (17520, 1)\n",
      "inv y pred : (17520, 31)\n",
      "Run 7 Mean Absolute Error: 0.9083012532933874\n",
      "RMSE: 1.177\n",
      "R^2: 1.000\n",
      "[['link_21_flow', 'node_6_demand', 'link_9_flow', 'node_9_demand', 'node_21_pressure', 'node_12_pressure', 'node_31_demand', 'node_16_demand', 'node_4_demand', 'link_32_flow', 'node_24_demand', 'link_10_flow', 'node_2_demand', 'node_19_demand', 'node_7_demand', 'link_6_flow', 'node_1_demand', 'link_11_flow', 'link_24_flow', 'node_28_pressure', 'node_11_demand', 'node_25_demand', 'link_25_flow', 'node_30_demand', 'node_23_demand', 'node_10_pressure', 'link_3_flow', 'link_23_flow', 'link_7_flow', 'node_29_demand', 'link_4_flow', 'node_7_pressure', 'link_14_flow', 'link_29_flow', 'link_8_flow', 'reservoir_pressure', 'link_17_flow', 'node_23_pressure', 'node_25_pressure', 'node_28_demand', 'node_9_pressure', 'node_10_demand', 'link_22_flow', 'node_22_demand', 'node_14_pressure', 'node_21_demand', 'node_27_pressure', 'node_27_demand', 'link_12_flow', 'node_20_demand', 'node_29_pressure', 'node_26_demand', 'node_24_pressure', 'node_1_pressure', 'node_6_pressure', 'link_28_flow', 'link_15_flow', 'link_30_flow', 'link_31_flow', 'node_8_pressure', 'link_5_flow', 'node_15_demand', 'link_20_flow', 'node_5_pressure', 'reservoir_demand']]\n",
      "starting df shape: (87600, 31)\n",
      "This is training run 8 and has the shape:  (87600, 31)\n",
      "The value of dropped columns is 65\n"
     ]
    },
    {
     "name": "stderr",
     "output_type": "stream",
     "text": [
      "/Users/alexellard/opt/anaconda3/lib/python3.7/site-packages/xgboost/data.py:96: UserWarning: Use subset (sliced data) of np.ndarray is not recommended because it will generate extra copies and increase memory consumption\n",
      "  \"because it will generate extra copies and increase \" +\n"
     ]
    },
    {
     "name": "stdout",
     "output_type": "stream",
     "text": [
      "test y shape : (17520, 1)\n",
      "Inv y shape : (17520, 31)\n",
      "y pred shape : (17520, 1)\n",
      "inv y pred : (17520, 31)\n",
      "Run 8 Mean Absolute Error: 0.11789950325262392\n",
      "RMSE: 0.153\n",
      "R^2: 1.000\n",
      "[['node_21_demand', 'node_9_pressure', 'link_23_flow', 'node_14_pressure', 'node_11_demand', 'link_18_flow', 'node_28_demand', 'node_24_demand', 'node_30_demand', 'node_13_pressure', 'node_17_demand', 'node_8_demand', 'node_15_pressure', 'node_10_demand', 'node_2_demand', 'node_22_pressure', 'link_25_flow', 'link_17_flow', 'node_14_demand', 'node_15_demand', 'node_27_pressure', 'node_18_demand', 'node_18_pressure', 'node_26_demand', 'node_5_demand', 'node_6_demand', 'node_9_demand', 'node_2_pressure', 'node_31_pressure', 'link_12_flow', 'node_27_demand', 'link_22_flow', 'node_24_pressure', 'node_10_pressure', 'node_21_pressure', 'node_5_pressure', 'link_19_flow', 'node_29_pressure', 'link_5_flow', 'node_3_demand', 'link_10_flow', 'node_29_demand', 'node_8_pressure', 'node_26_pressure', 'node_4_pressure', 'link_2_flow', 'link_13_flow', 'link_6_flow', 'node_16_pressure', 'node_7_demand', 'link_7_flow', 'node_16_demand', 'node_3_pressure', 'node_25_pressure', 'link_32_flow', 'node_7_pressure', 'node_20_pressure', 'node_11_pressure', 'node_23_pressure', 'node_13_demand', 'node_25_demand', 'link_31_flow', 'link_20_flow', 'link_15_flow']]\n",
      "starting df shape: (87600, 32)\n",
      "This is training run 9 and has the shape:  (87600, 32)\n",
      "The value of dropped columns is 65\n"
     ]
    },
    {
     "name": "stderr",
     "output_type": "stream",
     "text": [
      "/Users/alexellard/opt/anaconda3/lib/python3.7/site-packages/xgboost/data.py:96: UserWarning: Use subset (sliced data) of np.ndarray is not recommended because it will generate extra copies and increase memory consumption\n",
      "  \"because it will generate extra copies and increase \" +\n"
     ]
    },
    {
     "name": "stdout",
     "output_type": "stream",
     "text": [
      "test y shape : (17520, 1)\n",
      "Inv y shape : (17520, 32)\n",
      "y pred shape : (17520, 1)\n",
      "inv y pred : (17520, 32)\n",
      "Run 9 Mean Absolute Error: 6.018580678342139\n",
      "RMSE: 7.948\n",
      "R^2: 1.000\n",
      "[['link_2_flow', 'node_30_demand', 'node_31_demand', 'node_6_pressure', 'link_20_flow', 'link_24_flow', 'node_17_demand', 'node_4_pressure', 'link_5_flow', 'node_18_pressure', 'link_11_flow', 'node_21_demand', 'node_26_pressure', 'node_29_pressure', 'link_21_flow', 'node_20_demand', 'node_11_pressure', 'node_30_pressure', 'node_6_demand', 'node_22_demand', 'node_4_demand', 'node_2_pressure', 'link_12_flow', 'node_7_demand', 'link_7_flow', 'node_1_demand', 'link_27_flow', 'link_15_flow', 'link_18_flow', 'node_25_demand', 'link_9_flow', 'node_24_pressure', 'node_25_pressure', 'link_4_flow', 'node_12_pressure', 'node_27_pressure', 'node_2_demand', 'link_14_flow', 'link_29_flow', 'link_31_flow', 'node_28_pressure', 'node_8_demand', 'node_15_demand', 'node_17_pressure', 'link_16_flow', 'link_28_flow', 'link_3_flow', 'link_8_flow', 'node_24_demand', 'link_10_flow', 'node_11_demand', 'node_15_pressure', 'node_21_pressure', 'link_25_flow', 'node_10_demand', 'node_14_demand', 'node_13_demand', 'link_30_flow', 'node_26_demand', 'node_23_pressure', 'link_19_flow', 'node_9_pressure', 'node_8_pressure', 'node_19_pressure', 'node_9_demand']]\n",
      "starting df shape: (87600, 31)\n",
      "This is training run 10 and has the shape:  (87600, 31)\n",
      "The value of dropped columns is 65\n"
     ]
    },
    {
     "name": "stderr",
     "output_type": "stream",
     "text": [
      "/Users/alexellard/opt/anaconda3/lib/python3.7/site-packages/xgboost/data.py:96: UserWarning: Use subset (sliced data) of np.ndarray is not recommended because it will generate extra copies and increase memory consumption\n",
      "  \"because it will generate extra copies and increase \" +\n"
     ]
    },
    {
     "name": "stdout",
     "output_type": "stream",
     "text": [
      "test y shape : (17520, 1)\n",
      "Inv y shape : (17520, 31)\n",
      "y pred shape : (17520, 1)\n",
      "inv y pred : (17520, 31)\n",
      "Run 10 Mean Absolute Error: 2.818922629193075\n",
      "RMSE: 3.714\n",
      "R^2: 1.000\n",
      "[['node_23_pressure', 'link_13_flow', 'node_7_pressure', 'node_2_demand', 'node_13_demand', 'node_17_demand', 'link_26_flow', 'link_25_flow', 'node_19_demand', 'node_16_pressure', 'node_1_demand', 'link_30_flow', 'node_26_pressure', 'link_3_flow', 'node_9_pressure', 'node_5_pressure', 'node_29_demand', 'node_29_pressure', 'node_15_pressure', 'node_18_pressure', 'link_8_flow', 'link_32_flow', 'node_18_demand', 'node_17_pressure', 'node_12_demand', 'node_3_pressure', 'link_2_flow', 'node_3_demand', 'node_16_demand', 'link_28_flow', 'node_24_demand', 'node_30_demand', 'node_31_demand', 'node_22_pressure', 'node_1_pressure', 'link_15_flow', 'node_11_pressure', 'node_20_pressure', 'node_28_demand', 'node_25_pressure', 'node_24_pressure', 'node_8_pressure', 'node_15_demand', 'link_27_flow', 'node_4_pressure', 'node_10_pressure', 'link_23_flow', 'link_9_flow', 'link_11_flow', 'link_5_flow', 'node_26_demand', 'link_31_flow', 'node_6_pressure', 'link_19_flow', 'node_4_demand', 'link_29_flow', 'node_10_demand', 'node_12_pressure', 'link_6_flow', 'node_27_pressure', 'link_4_flow', 'link_16_flow', 'node_2_pressure', 'link_21_flow', 'node_21_pressure', 'link_10_flow', 'node_14_demand', 'node_22_demand', 'node_28_pressure']]\n",
      "starting df shape: (87600, 27)\n",
      "This is training run 1 and has the shape:  (87600, 27)\n",
      "The value of dropped columns is 70\n"
     ]
    },
    {
     "name": "stderr",
     "output_type": "stream",
     "text": [
      "/Users/alexellard/opt/anaconda3/lib/python3.7/site-packages/xgboost/data.py:96: UserWarning: Use subset (sliced data) of np.ndarray is not recommended because it will generate extra copies and increase memory consumption\n",
      "  \"because it will generate extra copies and increase \" +\n"
     ]
    },
    {
     "name": "stdout",
     "output_type": "stream",
     "text": [
      "test y shape : (17520, 1)\n",
      "Inv y shape : (17520, 27)\n",
      "y pred shape : (17520, 1)\n",
      "inv y pred : (17520, 27)\n",
      "Run 1 Mean Absolute Error: 8.812298786289077\n",
      "RMSE: 11.520\n",
      "R^2: 1.000\n",
      "[['link_25_flow', 'node_2_demand', 'node_14_demand', 'node_31_pressure', 'link_24_flow', 'node_22_pressure', 'link_17_flow', 'node_12_demand', 'node_22_demand', 'node_16_demand', 'node_13_pressure', 'link_16_flow', 'node_2_pressure', 'node_10_demand', 'node_11_pressure', 'node_1_pressure', 'node_19_pressure', 'node_30_demand', 'link_21_flow', 'node_19_demand', 'node_12_pressure', 'link_20_flow', 'link_9_flow', 'node_9_pressure', 'link_18_flow', 'node_25_demand', 'node_10_pressure', 'node_16_pressure', 'link_29_flow', 'node_4_demand', 'node_18_pressure', 'node_1_demand', 'node_24_pressure', 'link_23_flow', 'node_29_demand', 'link_14_flow', 'link_28_flow', 'node_30_pressure', 'node_15_pressure', 'link_5_flow', 'node_11_demand', 'node_5_pressure', 'node_3_demand', 'node_25_pressure', 'link_13_flow', 'link_6_flow', 'link_22_flow', 'node_29_pressure', 'link_15_flow', 'node_15_demand', 'link_12_flow', 'node_28_demand', 'node_8_pressure', 'node_9_demand', 'link_26_flow', 'link_32_flow', 'link_8_flow', 'node_3_pressure', 'node_17_pressure', 'link_27_flow', 'node_23_demand', 'node_7_pressure', 'link_30_flow', 'node_7_demand', 'node_23_pressure', 'link_7_flow', 'node_5_demand', 'node_27_pressure', 'node_27_demand']]\n",
      "starting df shape: (87600, 27)\n",
      "This is training run 2 and has the shape:  (87600, 27)\n",
      "The value of dropped columns is 70\n"
     ]
    },
    {
     "name": "stderr",
     "output_type": "stream",
     "text": [
      "/Users/alexellard/opt/anaconda3/lib/python3.7/site-packages/xgboost/data.py:96: UserWarning: Use subset (sliced data) of np.ndarray is not recommended because it will generate extra copies and increase memory consumption\n",
      "  \"because it will generate extra copies and increase \" +\n"
     ]
    },
    {
     "name": "stdout",
     "output_type": "stream",
     "text": [
      "test y shape : (17520, 1)\n",
      "Inv y shape : (17520, 27)\n",
      "y pred shape : (17520, 1)\n",
      "inv y pred : (17520, 27)\n",
      "Run 2 Mean Absolute Error: 4.908154902523526\n",
      "RMSE: 6.338\n",
      "R^2: 1.000\n",
      "[['link_26_flow', 'node_16_pressure', 'node_26_demand', 'node_12_pressure', 'link_4_flow', 'link_14_flow', 'node_23_demand', 'link_18_flow', 'node_12_demand', 'link_28_flow', 'node_3_demand', 'node_13_demand', 'node_19_demand', 'reservoir_pressure', 'node_16_demand', 'link_22_flow', 'link_24_flow', 'node_3_pressure', 'node_24_demand', 'node_2_demand', 'node_26_pressure', 'node_8_demand', 'node_14_pressure', 'node_6_pressure', 'node_31_demand', 'node_1_demand', 'node_8_pressure', 'link_2_flow', 'link_3_flow', 'link_29_flow', 'link_30_flow', 'node_23_pressure', 'node_2_pressure', 'node_7_demand', 'node_7_pressure', 'node_17_demand', 'node_28_pressure', 'link_10_flow', 'node_9_pressure', 'node_27_demand', 'node_15_pressure', 'node_25_demand', 'node_10_pressure', 'node_11_demand', 'node_22_demand', 'link_31_flow', 'node_11_pressure', 'node_29_pressure', 'link_21_flow', 'node_20_pressure', 'link_5_flow', 'node_5_pressure', 'node_18_demand', 'link_11_flow', 'link_25_flow', 'node_15_demand', 'node_30_pressure', 'link_32_flow', 'node_28_demand', 'node_6_demand', 'node_4_pressure', 'node_5_demand', 'node_14_demand', 'node_24_pressure', 'node_18_pressure', 'node_27_pressure', 'node_20_demand', 'node_29_demand', 'node_10_demand', 'link_12_flow']]\n",
      "starting df shape: (87600, 26)\n",
      "This is training run 3 and has the shape:  (87600, 26)\n",
      "The value of dropped columns is 70\n"
     ]
    },
    {
     "name": "stderr",
     "output_type": "stream",
     "text": [
      "/Users/alexellard/opt/anaconda3/lib/python3.7/site-packages/xgboost/data.py:96: UserWarning: Use subset (sliced data) of np.ndarray is not recommended because it will generate extra copies and increase memory consumption\n",
      "  \"because it will generate extra copies and increase \" +\n"
     ]
    },
    {
     "name": "stdout",
     "output_type": "stream",
     "text": [
      "test y shape : (17520, 1)\n",
      "Inv y shape : (17520, 26)\n",
      "y pred shape : (17520, 1)\n",
      "inv y pred : (17520, 26)\n",
      "Run 3 Mean Absolute Error: 3.5224791412157552\n",
      "RMSE: 4.573\n",
      "R^2: 1.000\n",
      "[['node_14_demand', 'node_26_demand', 'node_18_pressure', 'node_15_demand', 'node_6_demand', 'node_6_pressure', 'node_21_pressure', 'link_26_flow', 'link_27_flow', 'link_5_flow', 'node_20_demand', 'node_24_pressure', 'link_23_flow', 'link_15_flow', 'node_4_demand', 'link_25_flow', 'node_19_pressure', 'node_13_pressure', 'link_8_flow', 'link_12_flow', 'node_17_pressure', 'node_1_demand', 'link_3_flow', 'link_13_flow', 'link_22_flow', 'node_2_pressure', 'node_18_demand', 'link_9_flow', 'link_30_flow', 'node_20_pressure', 'node_16_demand', 'link_10_flow', 'link_6_flow', 'link_18_flow', 'node_17_demand', 'link_24_flow', 'node_5_demand', 'link_14_flow', 'node_12_demand', 'node_14_pressure', 'node_8_pressure', 'node_23_pressure', 'link_21_flow', 'node_23_demand', 'link_16_flow', 'node_3_pressure', 'link_17_flow', 'link_31_flow', 'link_2_flow', 'node_7_pressure', 'node_21_demand', 'node_2_demand', 'node_26_pressure', 'node_9_demand', 'node_30_demand', 'link_28_flow', 'node_28_demand', 'node_11_pressure', 'node_27_pressure', 'node_29_pressure', 'node_4_pressure', 'node_15_pressure', 'node_9_pressure', 'node_22_pressure', 'node_25_pressure', 'node_10_pressure', 'reservoir_demand', 'node_12_pressure', 'node_22_demand', 'link_20_flow']]\n",
      "starting df shape: (87600, 26)\n",
      "This is training run 4 and has the shape:  (87600, 26)\n",
      "The value of dropped columns is 70\n"
     ]
    },
    {
     "name": "stderr",
     "output_type": "stream",
     "text": [
      "/Users/alexellard/opt/anaconda3/lib/python3.7/site-packages/xgboost/data.py:96: UserWarning: Use subset (sliced data) of np.ndarray is not recommended because it will generate extra copies and increase memory consumption\n",
      "  \"because it will generate extra copies and increase \" +\n"
     ]
    },
    {
     "name": "stdout",
     "output_type": "stream",
     "text": [
      "test y shape : (17520, 1)\n",
      "Inv y shape : (17520, 26)\n",
      "y pred shape : (17520, 1)\n",
      "inv y pred : (17520, 26)\n",
      "Run 4 Mean Absolute Error: 0.20018148627229201\n",
      "RMSE: 0.260\n",
      "R^2: 1.000\n",
      "[['node_2_demand', 'node_7_demand', 'link_5_flow', 'link_13_flow', 'link_26_flow', 'link_17_flow', 'node_10_pressure', 'link_4_flow', 'node_13_pressure', 'node_8_pressure', 'node_5_pressure', 'node_17_pressure', 'node_30_pressure', 'link_6_flow', 'link_9_flow', 'node_12_demand', 'node_10_demand', 'link_19_flow', 'node_25_pressure', 'node_23_demand', 'node_11_demand', 'node_15_pressure', 'node_20_demand', 'node_24_demand', 'node_4_pressure', 'node_1_demand', 'node_28_pressure', 'link_18_flow', 'link_3_flow', 'node_14_demand', 'link_20_flow', 'node_22_demand', 'link_16_flow', 'node_9_demand', 'link_30_flow', 'node_2_pressure', 'link_22_flow', 'link_12_flow', 'node_16_demand', 'node_8_demand', 'link_27_flow', 'link_31_flow', 'node_28_demand', 'node_31_demand', 'node_20_pressure', 'link_21_flow', 'node_11_pressure', 'node_23_pressure', 'link_23_flow', 'link_32_flow', 'node_22_pressure', 'node_7_pressure', 'node_27_demand', 'node_16_pressure', 'node_21_demand', 'node_19_demand', 'node_3_pressure', 'node_17_demand', 'link_24_flow', 'node_30_demand', 'node_31_pressure', 'node_13_demand', 'node_18_demand', 'link_10_flow', 'node_29_demand', 'reservoir_pressure', 'link_15_flow', 'link_14_flow', 'node_9_pressure', 'link_11_flow']]\n",
      "starting df shape: (87600, 26)\n",
      "This is training run 5 and has the shape:  (87600, 26)\n",
      "The value of dropped columns is 70\n"
     ]
    },
    {
     "name": "stderr",
     "output_type": "stream",
     "text": [
      "/Users/alexellard/opt/anaconda3/lib/python3.7/site-packages/xgboost/data.py:96: UserWarning: Use subset (sliced data) of np.ndarray is not recommended because it will generate extra copies and increase memory consumption\n",
      "  \"because it will generate extra copies and increase \" +\n"
     ]
    },
    {
     "name": "stdout",
     "output_type": "stream",
     "text": [
      "test y shape : (17520, 1)\n",
      "Inv y shape : (17520, 26)\n",
      "y pred shape : (17520, 1)\n",
      "inv y pred : (17520, 26)\n",
      "Run 5 Mean Absolute Error: 2.4161478573859565\n",
      "RMSE: 3.166\n",
      "R^2: 1.000\n",
      "[['link_32_flow', 'node_17_pressure', 'node_22_pressure', 'node_19_pressure', 'node_6_pressure', 'node_21_pressure', 'link_17_flow', 'node_2_demand', 'node_14_demand', 'node_18_pressure', 'link_12_flow', 'node_5_demand', 'node_21_demand', 'node_1_demand', 'reservoir_demand', 'node_3_pressure', 'link_23_flow', 'node_12_pressure', 'node_8_pressure', 'link_24_flow', 'node_13_demand', 'node_26_pressure', 'node_10_demand', 'link_29_flow', 'link_16_flow', 'node_28_demand', 'link_19_flow', 'node_5_pressure', 'node_30_demand', 'link_5_flow', 'node_11_pressure', 'link_26_flow', 'node_25_pressure', 'node_29_pressure', 'link_20_flow', 'node_31_demand', 'node_20_pressure', 'node_22_demand', 'node_7_pressure', 'node_23_pressure', 'node_9_pressure', 'reservoir_pressure', 'link_21_flow', 'node_13_pressure', 'link_2_flow', 'link_27_flow', 'node_9_demand', 'link_10_flow', 'link_3_flow', 'node_27_demand', 'node_26_demand', 'node_25_demand', 'node_18_demand', 'node_30_pressure', 'link_14_flow', 'link_22_flow', 'node_10_pressure', 'node_4_pressure', 'link_6_flow', 'node_11_demand', 'node_16_demand', 'node_2_pressure', 'node_31_pressure', 'node_8_demand', 'node_1_pressure', 'node_15_demand', 'node_23_demand', 'node_19_demand', 'link_28_flow']]\n",
      "starting df shape: (87600, 27)\n",
      "This is training run 6 and has the shape:  (87600, 27)\n",
      "The value of dropped columns is 70\n"
     ]
    },
    {
     "name": "stderr",
     "output_type": "stream",
     "text": [
      "/Users/alexellard/opt/anaconda3/lib/python3.7/site-packages/xgboost/data.py:96: UserWarning: Use subset (sliced data) of np.ndarray is not recommended because it will generate extra copies and increase memory consumption\n",
      "  \"because it will generate extra copies and increase \" +\n"
     ]
    },
    {
     "name": "stdout",
     "output_type": "stream",
     "text": [
      "test y shape : (17520, 1)\n",
      "Inv y shape : (17520, 27)\n",
      "y pred shape : (17520, 1)\n",
      "inv y pred : (17520, 27)\n",
      "Run 6 Mean Absolute Error: 0.26359705960152163\n",
      "RMSE: 0.343\n",
      "R^2: 0.999\n",
      "[['link_20_flow', 'node_23_pressure', 'node_6_pressure', 'node_3_pressure', 'node_8_pressure', 'link_15_flow', 'link_5_flow', 'link_13_flow', 'node_13_demand', 'node_2_demand', 'node_2_pressure', 'link_27_flow', 'link_14_flow', 'link_31_flow', 'node_12_demand', 'node_7_demand', 'node_3_demand', 'node_8_demand', 'link_22_flow', 'link_29_flow', 'node_24_pressure', 'node_30_pressure', 'node_18_demand', 'link_12_flow', 'link_26_flow', 'node_22_pressure', 'link_3_flow', 'node_23_demand', 'link_17_flow', 'node_25_pressure', 'link_24_flow', 'node_16_pressure', 'node_5_demand', 'link_25_flow', 'node_28_demand', 'link_6_flow', 'link_28_flow', 'node_5_pressure', 'node_10_pressure', 'node_31_demand', 'node_7_pressure', 'node_21_demand', 'node_4_demand', 'link_10_flow', 'node_11_demand', 'node_12_pressure', 'link_21_flow', 'node_27_demand', 'node_1_pressure', 'node_29_demand', 'link_2_flow', 'node_15_pressure', 'link_9_flow', 'node_25_demand', 'node_24_demand', 'node_26_demand', 'node_22_demand', 'node_13_pressure', 'link_4_flow', 'link_19_flow', 'node_29_pressure', 'node_14_pressure', 'node_20_pressure', 'node_18_pressure', 'link_30_flow', 'node_4_pressure', 'node_19_pressure', 'node_31_pressure', 'node_9_demand']]\n",
      "starting df shape: (87600, 27)\n",
      "This is training run 7 and has the shape:  (87600, 27)\n",
      "The value of dropped columns is 70\n"
     ]
    },
    {
     "name": "stderr",
     "output_type": "stream",
     "text": [
      "/Users/alexellard/opt/anaconda3/lib/python3.7/site-packages/xgboost/data.py:96: UserWarning: Use subset (sliced data) of np.ndarray is not recommended because it will generate extra copies and increase memory consumption\n",
      "  \"because it will generate extra copies and increase \" +\n"
     ]
    },
    {
     "name": "stdout",
     "output_type": "stream",
     "text": [
      "test y shape : (17520, 1)\n",
      "Inv y shape : (17520, 27)\n",
      "y pred shape : (17520, 1)\n",
      "inv y pred : (17520, 27)\n",
      "Run 7 Mean Absolute Error: 9.0005242953276\n",
      "RMSE: 11.822\n",
      "R^2: 1.000\n",
      "[['node_8_demand', 'node_29_demand', 'node_14_demand', 'link_11_flow', 'node_24_pressure', 'node_23_demand', 'node_26_pressure', 'node_19_pressure', 'node_18_pressure', 'node_27_pressure', 'node_9_pressure', 'link_22_flow', 'link_23_flow', 'node_17_pressure', 'node_6_demand', 'node_7_demand', 'node_1_demand', 'node_12_demand', 'link_19_flow', 'link_24_flow', 'link_29_flow', 'node_9_demand', 'link_17_flow', 'node_23_pressure', 'node_22_demand', 'node_26_demand', 'node_31_demand', 'node_16_demand', 'node_3_pressure', 'node_4_pressure', 'link_5_flow', 'node_29_pressure', 'node_18_demand', 'node_8_pressure', 'node_2_pressure', 'node_4_demand', 'link_30_flow', 'node_13_pressure', 'link_8_flow', 'link_7_flow', 'node_21_demand', 'link_4_flow', 'node_16_pressure', 'node_5_pressure', 'link_21_flow', 'node_24_demand', 'link_20_flow', 'node_15_demand', 'link_2_flow', 'node_27_demand', 'link_15_flow', 'node_11_pressure', 'link_18_flow', 'node_28_demand', 'node_11_demand', 'node_25_pressure', 'node_31_pressure', 'node_12_pressure', 'reservoir_demand', 'link_3_flow', 'link_28_flow', 'node_6_pressure', 'node_19_demand', 'node_28_pressure', 'link_12_flow', 'node_20_demand', 'node_25_demand', 'link_13_flow', 'reservoir_pressure']]\n",
      "starting df shape: (87600, 27)\n",
      "This is training run 8 and has the shape:  (87600, 27)\n",
      "The value of dropped columns is 70\n"
     ]
    },
    {
     "name": "stderr",
     "output_type": "stream",
     "text": [
      "/Users/alexellard/opt/anaconda3/lib/python3.7/site-packages/xgboost/data.py:96: UserWarning: Use subset (sliced data) of np.ndarray is not recommended because it will generate extra copies and increase memory consumption\n",
      "  \"because it will generate extra copies and increase \" +\n"
     ]
    },
    {
     "name": "stdout",
     "output_type": "stream",
     "text": [
      "test y shape : (17520, 1)\n",
      "Inv y shape : (17520, 27)\n",
      "y pred shape : (17520, 1)\n",
      "inv y pred : (17520, 27)\n",
      "Run 8 Mean Absolute Error: 1.5994215201208504\n",
      "RMSE: 2.089\n",
      "R^2: 0.999\n",
      "[['link_7_flow', 'node_24_pressure', 'link_15_flow', 'node_24_demand', 'node_31_demand', 'node_21_demand', 'link_31_flow', 'node_20_demand', 'node_28_pressure', 'node_20_pressure', 'node_3_pressure', 'link_11_flow', 'node_23_pressure', 'node_27_demand', 'node_8_pressure', 'node_15_pressure', 'link_23_flow', 'node_12_pressure', 'node_9_demand', 'link_30_flow', 'link_3_flow', 'node_11_pressure', 'link_27_flow', 'node_27_pressure', 'node_14_pressure', 'node_22_pressure', 'node_5_pressure', 'node_31_pressure', 'node_12_demand', 'node_30_pressure', 'node_1_demand', 'node_2_demand', 'node_10_demand', 'node_11_demand', 'link_29_flow', 'link_21_flow', 'node_13_demand', 'node_16_demand', 'node_29_pressure', 'node_3_demand', 'node_5_demand', 'node_25_pressure', 'node_4_demand', 'node_17_demand', 'link_2_flow', 'link_22_flow', 'link_10_flow', 'node_6_pressure', 'node_25_demand', 'link_25_flow', 'node_13_pressure', 'link_24_flow', 'node_28_demand', 'node_21_pressure', 'link_4_flow', 'node_29_demand', 'link_18_flow', 'node_4_pressure', 'node_26_demand', 'node_14_demand', 'link_12_flow', 'link_8_flow', 'node_8_demand', 'link_6_flow', 'link_19_flow', 'node_9_pressure', 'link_16_flow', 'node_10_pressure', 'link_26_flow', 'node_30_demand']]\n",
      "starting df shape: (87600, 26)\n",
      "This is training run 9 and has the shape:  (87600, 26)\n",
      "The value of dropped columns is 70\n"
     ]
    },
    {
     "name": "stderr",
     "output_type": "stream",
     "text": [
      "/Users/alexellard/opt/anaconda3/lib/python3.7/site-packages/xgboost/data.py:96: UserWarning: Use subset (sliced data) of np.ndarray is not recommended because it will generate extra copies and increase memory consumption\n",
      "  \"because it will generate extra copies and increase \" +\n"
     ]
    },
    {
     "name": "stdout",
     "output_type": "stream",
     "text": [
      "test y shape : (17520, 1)\n",
      "Inv y shape : (17520, 26)\n",
      "y pred shape : (17520, 1)\n",
      "inv y pred : (17520, 26)\n",
      "Run 9 Mean Absolute Error: 3.9609609291937287\n",
      "RMSE: 5.168\n",
      "R^2: 1.000\n",
      "[['node_12_demand', 'node_11_demand', 'node_25_pressure', 'node_25_demand', 'node_28_demand', 'node_30_demand', 'node_3_pressure', 'node_2_pressure', 'node_24_pressure', 'node_15_demand', 'node_22_demand', 'node_18_pressure', 'link_23_flow', 'node_1_demand', 'node_1_pressure', 'node_31_demand', 'link_6_flow', 'link_31_flow', 'node_31_pressure', 'node_4_pressure', 'node_20_pressure', 'node_4_demand', 'node_10_demand', 'node_23_demand', 'node_8_pressure', 'node_13_pressure', 'node_16_pressure', 'reservoir_pressure', 'node_5_demand', 'node_23_pressure', 'link_15_flow', 'node_9_demand', 'node_12_pressure', 'link_10_flow', 'node_8_demand', 'link_3_flow', 'reservoir_demand', 'node_21_demand', 'node_27_pressure', 'link_8_flow', 'link_9_flow', 'link_22_flow', 'node_29_pressure', 'node_13_demand', 'node_30_pressure', 'link_13_flow', 'node_6_pressure', 'link_4_flow', 'node_15_pressure', 'node_21_pressure', 'link_21_flow', 'node_2_demand', 'link_24_flow', 'node_20_demand', 'node_17_pressure', 'node_18_demand', 'node_26_pressure', 'link_27_flow', 'link_11_flow', 'node_3_demand', 'node_14_pressure', 'node_24_demand', 'node_22_pressure', 'node_5_pressure', 'node_6_demand', 'link_16_flow', 'node_14_demand', 'link_32_flow', 'node_26_demand', 'node_27_demand']]\n",
      "starting df shape: (87600, 26)\n",
      "This is training run 10 and has the shape:  (87600, 26)\n",
      "The value of dropped columns is 70\n"
     ]
    },
    {
     "name": "stderr",
     "output_type": "stream",
     "text": [
      "/Users/alexellard/opt/anaconda3/lib/python3.7/site-packages/xgboost/data.py:96: UserWarning: Use subset (sliced data) of np.ndarray is not recommended because it will generate extra copies and increase memory consumption\n",
      "  \"because it will generate extra copies and increase \" +\n"
     ]
    },
    {
     "name": "stdout",
     "output_type": "stream",
     "text": [
      "test y shape : (17520, 1)\n",
      "Inv y shape : (17520, 26)\n",
      "y pred shape : (17520, 1)\n",
      "inv y pred : (17520, 26)\n",
      "Run 10 Mean Absolute Error: 0.49365745173768544\n",
      "RMSE: 0.637\n",
      "R^2: 1.000\n",
      "[['link_22_flow', 'node_26_pressure', 'node_19_demand', 'node_15_demand', 'link_15_flow', 'node_31_demand', 'link_31_flow', 'link_16_flow', 'node_12_pressure', 'link_4_flow', 'node_25_demand', 'node_16_pressure', 'node_11_pressure', 'node_30_demand', 'node_1_pressure', 'node_27_pressure', 'link_29_flow', 'node_7_pressure', 'node_2_demand', 'node_16_demand', 'link_5_flow', 'node_22_pressure', 'node_30_pressure', 'node_23_demand', 'node_17_pressure', 'node_18_demand', 'link_9_flow', 'link_17_flow', 'node_9_pressure', 'node_6_pressure', 'link_21_flow', 'node_28_pressure', 'link_14_flow', 'node_1_demand', 'node_21_demand', 'node_4_pressure', 'link_30_flow', 'node_24_demand', 'link_25_flow', 'link_10_flow', 'reservoir_pressure', 'node_17_demand', 'node_14_demand', 'node_6_demand', 'link_23_flow', 'link_19_flow', 'node_18_pressure', 'link_6_flow', 'node_27_demand', 'node_4_demand', 'link_12_flow', 'link_20_flow', 'node_31_pressure', 'node_20_pressure', 'node_26_demand', 'node_24_pressure', 'node_13_pressure', 'node_5_pressure', 'node_14_pressure', 'node_10_demand', 'node_20_demand', 'node_9_demand', 'node_22_demand', 'node_8_demand', 'link_11_flow', 'link_26_flow', 'node_5_demand', 'node_13_demand', 'node_25_pressure', 'node_2_pressure', 'link_18_flow', 'link_24_flow', 'node_29_demand', 'node_3_pressure', 'node_28_demand']]\n",
      "starting df shape: (87600, 21)\n",
      "This is training run 1 and has the shape:  (87600, 21)\n",
      "The value of dropped columns is 75\n"
     ]
    },
    {
     "name": "stderr",
     "output_type": "stream",
     "text": [
      "/Users/alexellard/opt/anaconda3/lib/python3.7/site-packages/xgboost/data.py:96: UserWarning: Use subset (sliced data) of np.ndarray is not recommended because it will generate extra copies and increase memory consumption\n",
      "  \"because it will generate extra copies and increase \" +\n"
     ]
    },
    {
     "name": "stdout",
     "output_type": "stream",
     "text": [
      "test y shape : (17520, 1)\n",
      "Inv y shape : (17520, 21)\n",
      "y pred shape : (17520, 1)\n",
      "inv y pred : (17520, 21)\n",
      "Run 1 Mean Absolute Error: 2.067346309897019\n",
      "RMSE: 2.766\n",
      "R^2: 1.000\n",
      "[['node_11_demand', 'node_12_demand', 'node_15_demand', 'link_28_flow', 'node_15_pressure', 'node_4_demand', 'link_25_flow', 'link_30_flow', 'link_7_flow', 'node_10_demand', 'node_5_demand', 'link_12_flow', 'node_25_demand', 'node_30_demand', 'node_26_pressure', 'node_17_demand', 'link_14_flow', 'node_26_demand', 'node_31_demand', 'reservoir_demand', 'node_24_demand', 'link_21_flow', 'node_24_pressure', 'node_2_demand', 'node_16_pressure', 'node_13_demand', 'node_21_pressure', 'link_27_flow', 'node_27_pressure', 'node_23_demand', 'node_11_pressure', 'link_23_flow', 'node_1_pressure', 'link_15_flow', 'link_22_flow', 'link_29_flow', 'node_29_pressure', 'node_3_demand', 'node_1_demand', 'node_6_pressure', 'node_27_demand', 'node_2_pressure', 'link_16_flow', 'node_23_pressure', 'node_20_pressure', 'link_3_flow', 'node_22_demand', 'node_21_demand', 'link_17_flow', 'node_16_demand', 'node_30_pressure', 'link_32_flow', 'link_11_flow', 'node_19_demand', 'node_14_pressure', 'node_20_demand', 'link_2_flow', 'link_8_flow', 'node_8_demand', 'link_10_flow', 'node_7_demand', 'node_18_demand', 'node_18_pressure', 'link_13_flow', 'node_8_pressure', 'link_18_flow', 'link_20_flow', 'link_26_flow', 'node_10_pressure', 'link_5_flow', 'link_6_flow', 'node_7_pressure', 'node_17_pressure', 'node_22_pressure']]\n",
      "starting df shape: (87600, 22)\n",
      "This is training run 2 and has the shape:  (87600, 22)\n",
      "The value of dropped columns is 75\n"
     ]
    },
    {
     "name": "stderr",
     "output_type": "stream",
     "text": [
      "/Users/alexellard/opt/anaconda3/lib/python3.7/site-packages/xgboost/data.py:96: UserWarning: Use subset (sliced data) of np.ndarray is not recommended because it will generate extra copies and increase memory consumption\n",
      "  \"because it will generate extra copies and increase \" +\n"
     ]
    },
    {
     "name": "stdout",
     "output_type": "stream",
     "text": [
      "test y shape : (17520, 1)\n",
      "Inv y shape : (17520, 22)\n",
      "y pred shape : (17520, 1)\n",
      "inv y pred : (17520, 22)\n",
      "Run 2 Mean Absolute Error: 2.2984308157980036\n",
      "RMSE: 2.982\n",
      "R^2: 1.000\n",
      "[['node_27_demand', 'node_4_pressure', 'link_21_flow', 'node_28_demand', 'node_30_pressure', 'link_10_flow', 'link_14_flow', 'node_7_demand', 'node_3_pressure', 'node_17_pressure', 'node_29_pressure', 'node_8_pressure', 'link_7_flow', 'node_13_pressure', 'node_20_demand', 'node_19_demand', 'link_5_flow', 'link_4_flow', 'link_31_flow', 'node_22_pressure', 'node_25_pressure', 'node_10_pressure', 'node_12_demand', 'link_2_flow', 'node_23_demand', 'node_26_pressure', 'node_31_pressure', 'node_10_demand', 'node_15_demand', 'node_23_pressure', 'link_23_flow', 'node_8_demand', 'node_7_pressure', 'node_5_pressure', 'node_16_demand', 'node_17_demand', 'node_15_pressure', 'node_22_demand', 'reservoir_pressure', 'node_31_demand', 'link_20_flow', 'link_32_flow', 'node_11_pressure', 'node_2_pressure', 'node_14_demand', 'node_13_demand', 'node_9_pressure', 'link_16_flow', 'node_1_pressure', 'link_13_flow', 'node_3_demand', 'link_15_flow', 'node_24_pressure', 'node_20_pressure', 'node_30_demand', 'link_26_flow', 'reservoir_demand', 'link_25_flow', 'link_6_flow', 'node_2_demand', 'link_8_flow', 'link_22_flow', 'link_12_flow', 'link_3_flow', 'link_9_flow', 'node_4_demand', 'link_24_flow', 'node_19_pressure', 'node_6_demand', 'link_30_flow', 'node_25_demand', 'link_17_flow', 'node_28_pressure', 'node_24_demand']]\n",
      "starting df shape: (87600, 22)\n",
      "This is training run 3 and has the shape:  (87600, 22)\n",
      "The value of dropped columns is 75\n"
     ]
    },
    {
     "name": "stderr",
     "output_type": "stream",
     "text": [
      "/Users/alexellard/opt/anaconda3/lib/python3.7/site-packages/xgboost/data.py:96: UserWarning: Use subset (sliced data) of np.ndarray is not recommended because it will generate extra copies and increase memory consumption\n",
      "  \"because it will generate extra copies and increase \" +\n"
     ]
    },
    {
     "name": "stdout",
     "output_type": "stream",
     "text": [
      "test y shape : (17520, 1)\n",
      "Inv y shape : (17520, 22)\n",
      "y pred shape : (17520, 1)\n",
      "inv y pred : (17520, 22)\n",
      "Run 3 Mean Absolute Error: 1.4423588525410727\n",
      "RMSE: 1.900\n",
      "R^2: 1.000\n",
      "[['link_25_flow', 'node_6_demand', 'node_25_demand', 'node_14_demand', 'node_12_pressure', 'link_29_flow', 'node_9_demand', 'node_9_pressure', 'node_7_demand', 'node_27_demand', 'node_21_pressure', 'node_11_pressure', 'node_28_pressure', 'link_9_flow', 'node_28_demand', 'link_8_flow', 'link_16_flow', 'node_2_demand', 'link_18_flow', 'node_10_demand', 'link_27_flow', 'node_24_demand', 'node_4_pressure', 'link_11_flow', 'link_22_flow', 'node_5_demand', 'node_17_demand', 'link_28_flow', 'node_30_pressure', 'node_12_demand', 'node_10_pressure', 'node_3_pressure', 'node_23_pressure', 'node_31_demand', 'node_2_pressure', 'node_22_demand', 'reservoir_demand', 'node_13_pressure', 'node_18_demand', 'link_30_flow', 'node_1_pressure', 'node_31_pressure', 'reservoir_pressure', 'link_10_flow', 'node_26_pressure', 'node_29_demand', 'node_8_pressure', 'node_14_pressure', 'node_5_pressure', 'link_4_flow', 'node_29_pressure', 'node_13_demand', 'link_12_flow', 'node_7_pressure', 'node_17_pressure', 'node_18_pressure', 'node_16_pressure', 'link_14_flow', 'link_24_flow', 'link_20_flow', 'node_15_pressure', 'link_6_flow', 'node_26_demand', 'node_20_demand', 'link_5_flow', 'node_15_demand', 'node_24_pressure', 'node_8_demand', 'node_3_demand', 'node_30_demand', 'link_32_flow', 'link_17_flow', 'node_20_pressure', 'link_19_flow']]\n",
      "starting df shape: (87600, 22)\n",
      "This is training run 4 and has the shape:  (87600, 22)\n",
      "The value of dropped columns is 75\n"
     ]
    },
    {
     "name": "stderr",
     "output_type": "stream",
     "text": [
      "/Users/alexellard/opt/anaconda3/lib/python3.7/site-packages/xgboost/data.py:96: UserWarning: Use subset (sliced data) of np.ndarray is not recommended because it will generate extra copies and increase memory consumption\n",
      "  \"because it will generate extra copies and increase \" +\n"
     ]
    },
    {
     "name": "stdout",
     "output_type": "stream",
     "text": [
      "test y shape : (17520, 1)\n",
      "Inv y shape : (17520, 22)\n",
      "y pred shape : (17520, 1)\n",
      "inv y pred : (17520, 22)\n",
      "Run 4 Mean Absolute Error: 0.726518585810721\n",
      "RMSE: 0.953\n",
      "R^2: 1.000\n",
      "[['node_26_demand', 'link_31_flow', 'link_13_flow', 'node_30_pressure', 'link_26_flow', 'node_3_pressure', 'node_11_pressure', 'node_27_demand', 'link_5_flow', 'node_16_demand', 'node_14_demand', 'link_8_flow', 'node_30_demand', 'node_21_pressure', 'reservoir_pressure', 'node_7_demand', 'link_12_flow', 'node_2_demand', 'node_13_demand', 'link_23_flow', 'link_7_flow', 'link_28_flow', 'node_12_pressure', 'node_19_demand', 'node_22_pressure', 'node_7_pressure', 'link_6_flow', 'node_4_pressure', 'node_23_demand', 'node_18_demand', 'reservoir_demand', 'node_19_pressure', 'link_24_flow', 'node_20_demand', 'node_17_pressure', 'link_32_flow', 'node_29_pressure', 'link_3_flow', 'node_22_demand', 'node_10_demand', 'node_29_demand', 'node_18_pressure', 'node_28_demand', 'node_26_pressure', 'node_31_pressure', 'node_27_pressure', 'node_6_demand', 'node_16_pressure', 'link_19_flow', 'node_1_demand', 'node_21_demand', 'link_21_flow', 'node_20_pressure', 'node_9_demand', 'node_5_pressure', 'node_24_demand', 'link_22_flow', 'link_27_flow', 'link_10_flow', 'node_12_demand', 'node_13_pressure', 'link_15_flow', 'node_8_demand', 'link_25_flow', 'link_16_flow', 'node_23_pressure', 'node_15_pressure', 'node_14_pressure', 'link_29_flow', 'link_20_flow', 'link_30_flow', 'link_4_flow', 'node_28_pressure', 'link_17_flow']]\n",
      "starting df shape: (87600, 22)\n",
      "This is training run 5 and has the shape:  (87600, 22)\n",
      "The value of dropped columns is 75\n"
     ]
    },
    {
     "name": "stderr",
     "output_type": "stream",
     "text": [
      "/Users/alexellard/opt/anaconda3/lib/python3.7/site-packages/xgboost/data.py:96: UserWarning: Use subset (sliced data) of np.ndarray is not recommended because it will generate extra copies and increase memory consumption\n",
      "  \"because it will generate extra copies and increase \" +\n"
     ]
    },
    {
     "name": "stdout",
     "output_type": "stream",
     "text": [
      "test y shape : (17520, 1)\n",
      "Inv y shape : (17520, 22)\n",
      "y pred shape : (17520, 1)\n",
      "inv y pred : (17520, 22)\n",
      "Run 5 Mean Absolute Error: 0.11876456567181529\n",
      "RMSE: 0.154\n",
      "R^2: 1.000\n",
      "[['node_20_pressure', 'node_31_demand', 'node_14_demand', 'node_17_demand', 'node_21_pressure', 'node_7_pressure', 'node_24_demand', 'node_22_demand', 'node_27_pressure', 'node_17_pressure', 'node_7_demand', 'node_24_pressure', 'node_19_demand', 'node_28_pressure', 'node_5_demand', 'link_21_flow', 'link_17_flow', 'node_13_demand', 'node_18_demand', 'node_1_demand', 'link_24_flow', 'node_16_pressure', 'node_15_demand', 'node_13_pressure', 'node_31_pressure', 'reservoir_demand', 'node_21_demand', 'node_26_pressure', 'node_9_demand', 'link_7_flow', 'node_29_demand', 'link_30_flow', 'node_9_pressure', 'node_4_demand', 'node_20_demand', 'node_3_pressure', 'link_18_flow', 'node_23_pressure', 'link_22_flow', 'node_6_demand', 'node_19_pressure', 'node_4_pressure', 'node_29_pressure', 'node_25_pressure', 'link_28_flow', 'node_8_pressure', 'node_12_pressure', 'node_14_pressure', 'node_1_pressure', 'node_11_pressure', 'node_30_pressure', 'link_11_flow', 'node_2_pressure', 'link_20_flow', 'node_25_demand', 'link_16_flow', 'link_3_flow', 'link_14_flow', 'node_12_demand', 'link_29_flow', 'node_15_pressure', 'node_30_demand', 'link_13_flow', 'node_10_demand', 'node_22_pressure', 'node_28_demand', 'node_6_pressure', 'node_2_demand', 'node_18_pressure', 'node_26_demand', 'link_26_flow', 'node_23_demand', 'link_8_flow', 'node_3_demand', 'node_8_demand']]\n",
      "starting df shape: (87600, 21)\n",
      "This is training run 6 and has the shape:  (87600, 21)\n",
      "The value of dropped columns is 75\n"
     ]
    },
    {
     "name": "stderr",
     "output_type": "stream",
     "text": [
      "/Users/alexellard/opt/anaconda3/lib/python3.7/site-packages/xgboost/data.py:96: UserWarning: Use subset (sliced data) of np.ndarray is not recommended because it will generate extra copies and increase memory consumption\n",
      "  \"because it will generate extra copies and increase \" +\n"
     ]
    },
    {
     "name": "stdout",
     "output_type": "stream",
     "text": [
      "test y shape : (17520, 1)\n",
      "Inv y shape : (17520, 21)\n",
      "y pred shape : (17520, 1)\n",
      "inv y pred : (17520, 21)\n",
      "Run 6 Mean Absolute Error: 0.5348243327255943\n",
      "RMSE: 0.691\n",
      "R^2: 1.000\n",
      "[['node_28_pressure', 'link_32_flow', 'link_26_flow', 'node_18_demand', 'node_2_demand', 'node_6_demand', 'node_20_demand', 'node_1_pressure', 'node_16_pressure', 'link_2_flow', 'link_25_flow', 'node_15_pressure', 'link_28_flow', 'node_3_demand', 'link_11_flow', 'node_1_demand', 'link_4_flow', 'link_17_flow', 'node_8_demand', 'node_29_pressure', 'node_13_demand', 'node_24_pressure', 'link_12_flow', 'node_23_demand', 'reservoir_demand', 'link_31_flow', 'node_26_demand', 'link_24_flow', 'node_30_demand', 'link_18_flow', 'node_16_demand', 'node_27_demand', 'node_7_pressure', 'node_5_pressure', 'link_3_flow', 'link_8_flow', 'node_21_demand', 'link_16_flow', 'link_13_flow', 'node_10_demand', 'node_15_demand', 'link_27_flow', 'node_8_pressure', 'node_22_pressure', 'node_5_demand', 'node_18_pressure', 'link_19_flow', 'node_12_demand', 'link_29_flow', 'node_9_pressure', 'node_17_demand', 'node_9_demand', 'node_14_demand', 'link_6_flow', 'node_13_pressure', 'node_2_pressure', 'node_31_demand', 'node_4_demand', 'node_25_demand', 'node_30_pressure', 'link_14_flow', 'node_19_demand', 'node_26_pressure', 'node_31_pressure', 'link_15_flow', 'link_30_flow', 'node_22_demand', 'node_28_demand', 'link_23_flow', 'node_3_pressure', 'node_11_demand', 'link_7_flow', 'node_29_demand', 'node_25_pressure']]\n",
      "starting df shape: (87600, 22)\n",
      "This is training run 7 and has the shape:  (87600, 22)\n",
      "The value of dropped columns is 75\n"
     ]
    },
    {
     "name": "stderr",
     "output_type": "stream",
     "text": [
      "/Users/alexellard/opt/anaconda3/lib/python3.7/site-packages/xgboost/data.py:96: UserWarning: Use subset (sliced data) of np.ndarray is not recommended because it will generate extra copies and increase memory consumption\n",
      "  \"because it will generate extra copies and increase \" +\n"
     ]
    },
    {
     "name": "stdout",
     "output_type": "stream",
     "text": [
      "test y shape : (17520, 1)\n",
      "Inv y shape : (17520, 22)\n",
      "y pred shape : (17520, 1)\n",
      "inv y pred : (17520, 22)\n",
      "Run 7 Mean Absolute Error: 0.9843615337647039\n",
      "RMSE: 1.301\n",
      "R^2: 1.000\n",
      "[['node_1_demand', 'node_16_pressure', 'node_30_pressure', 'link_21_flow', 'node_6_demand', 'node_13_demand', 'node_9_demand', 'node_14_pressure', 'node_25_pressure', 'node_31_demand', 'node_20_demand', 'node_21_demand', 'node_21_pressure', 'node_19_pressure', 'link_9_flow', 'node_17_demand', 'node_24_demand', 'node_15_pressure', 'node_20_pressure', 'link_20_flow', 'node_4_pressure', 'node_31_pressure', 'link_15_flow', 'link_19_flow', 'link_14_flow', 'link_8_flow', 'node_1_pressure', 'node_17_pressure', 'node_3_pressure', 'node_23_pressure', 'node_2_demand', 'link_10_flow', 'node_28_pressure', 'node_12_pressure', 'node_29_pressure', 'link_13_flow', 'node_22_pressure', 'link_27_flow', 'link_22_flow', 'node_27_pressure', 'link_6_flow', 'node_30_demand', 'node_10_pressure', 'node_24_pressure', 'node_8_demand', 'link_26_flow', 'node_28_demand', 'node_26_pressure', 'node_16_demand', 'link_31_flow', 'node_26_demand', 'node_15_demand', 'node_9_pressure', 'node_27_demand', 'node_5_demand', 'link_5_flow', 'link_12_flow', 'node_10_demand', 'node_29_demand', 'link_18_flow', 'node_8_pressure', 'node_4_demand', 'node_25_demand', 'node_18_demand', 'link_25_flow', 'link_4_flow', 'link_16_flow', 'reservoir_demand', 'node_23_demand', 'node_12_demand', 'link_3_flow', 'node_22_demand', 'node_13_pressure', 'link_2_flow']]\n",
      "starting df shape: (87600, 22)\n",
      "This is training run 8 and has the shape:  (87600, 22)\n",
      "The value of dropped columns is 75\n"
     ]
    },
    {
     "name": "stderr",
     "output_type": "stream",
     "text": [
      "/Users/alexellard/opt/anaconda3/lib/python3.7/site-packages/xgboost/data.py:96: UserWarning: Use subset (sliced data) of np.ndarray is not recommended because it will generate extra copies and increase memory consumption\n",
      "  \"because it will generate extra copies and increase \" +\n"
     ]
    },
    {
     "name": "stdout",
     "output_type": "stream",
     "text": [
      "test y shape : (17520, 1)\n",
      "Inv y shape : (17520, 22)\n",
      "y pred shape : (17520, 1)\n",
      "inv y pred : (17520, 22)\n",
      "Run 8 Mean Absolute Error: 0.3320771757762188\n",
      "RMSE: 0.436\n",
      "R^2: 0.999\n",
      "[['link_16_flow', 'link_3_flow', 'node_15_pressure', 'node_19_pressure', 'link_6_flow', 'link_30_flow', 'node_6_demand', 'node_20_pressure', 'node_23_demand', 'node_24_demand', 'link_4_flow', 'node_31_pressure', 'reservoir_demand', 'node_30_demand', 'node_2_pressure', 'reservoir_pressure', 'link_21_flow', 'node_4_pressure', 'node_12_demand', 'node_29_pressure', 'node_24_pressure', 'link_13_flow', 'node_26_pressure', 'link_20_flow', 'link_5_flow', 'link_18_flow', 'node_22_pressure', 'node_13_demand', 'link_29_flow', 'node_21_demand', 'node_14_pressure', 'link_7_flow', 'node_20_demand', 'node_1_pressure', 'node_26_demand', 'link_32_flow', 'node_10_pressure', 'node_27_demand', 'link_15_flow', 'node_25_demand', 'node_18_pressure', 'link_9_flow', 'node_28_pressure', 'link_12_flow', 'node_7_demand', 'link_24_flow', 'node_25_pressure', 'node_2_demand', 'node_28_demand', 'node_3_demand', 'link_2_flow', 'link_19_flow', 'link_22_flow', 'link_11_flow', 'node_23_pressure', 'node_29_demand', 'link_17_flow', 'link_26_flow', 'node_11_demand', 'node_6_pressure', 'link_14_flow', 'node_15_demand', 'node_17_pressure', 'node_27_pressure', 'node_1_demand', 'link_28_flow', 'node_11_pressure', 'link_8_flow', 'node_9_demand', 'node_19_demand', 'node_13_pressure', 'node_5_pressure', 'link_10_flow', 'link_23_flow']]\n",
      "starting df shape: (87600, 22)\n",
      "This is training run 9 and has the shape:  (87600, 22)\n",
      "The value of dropped columns is 75\n"
     ]
    },
    {
     "name": "stderr",
     "output_type": "stream",
     "text": [
      "/Users/alexellard/opt/anaconda3/lib/python3.7/site-packages/xgboost/data.py:96: UserWarning: Use subset (sliced data) of np.ndarray is not recommended because it will generate extra copies and increase memory consumption\n",
      "  \"because it will generate extra copies and increase \" +\n"
     ]
    },
    {
     "name": "stdout",
     "output_type": "stream",
     "text": [
      "test y shape : (17520, 1)\n",
      "Inv y shape : (17520, 22)\n",
      "y pred shape : (17520, 1)\n",
      "inv y pred : (17520, 22)\n",
      "Run 9 Mean Absolute Error: 1.9723926125665008\n",
      "RMSE: 2.585\n",
      "R^2: 0.999\n",
      "[['node_14_pressure', 'node_8_demand', 'node_5_pressure', 'node_6_pressure', 'link_23_flow', 'node_13_pressure', 'link_18_flow', 'link_12_flow', 'node_17_demand', 'node_15_pressure', 'link_27_flow', 'link_14_flow', 'node_30_demand', 'node_12_demand', 'link_29_flow', 'node_7_pressure', 'node_30_pressure', 'node_22_demand', 'link_20_flow', 'link_30_flow', 'link_16_flow', 'node_21_demand', 'reservoir_pressure', 'node_18_pressure', 'node_29_demand', 'node_29_pressure', 'node_31_demand', 'node_10_demand', 'link_9_flow', 'reservoir_demand', 'node_16_demand', 'link_13_flow', 'link_4_flow', 'node_28_pressure', 'link_28_flow', 'node_8_pressure', 'node_27_pressure', 'node_17_pressure', 'node_25_pressure', 'node_2_demand', 'link_19_flow', 'node_28_demand', 'node_23_demand', 'node_26_demand', 'link_5_flow', 'link_10_flow', 'node_9_demand', 'link_17_flow', 'link_11_flow', 'node_15_demand', 'node_2_pressure', 'node_11_demand', 'link_7_flow', 'node_31_pressure', 'link_15_flow', 'link_6_flow', 'link_24_flow', 'node_14_demand', 'node_6_demand', 'node_19_demand', 'node_7_demand', 'node_12_pressure', 'node_3_demand', 'link_21_flow', 'node_3_pressure', 'node_22_pressure', 'node_25_demand', 'node_23_pressure', 'node_4_pressure', 'node_24_pressure', 'node_5_demand', 'node_24_demand', 'node_18_demand', 'node_1_pressure']]\n",
      "starting df shape: (87600, 22)\n",
      "This is training run 10 and has the shape:  (87600, 22)\n",
      "The value of dropped columns is 75\n"
     ]
    },
    {
     "name": "stderr",
     "output_type": "stream",
     "text": [
      "/Users/alexellard/opt/anaconda3/lib/python3.7/site-packages/xgboost/data.py:96: UserWarning: Use subset (sliced data) of np.ndarray is not recommended because it will generate extra copies and increase memory consumption\n",
      "  \"because it will generate extra copies and increase \" +\n"
     ]
    },
    {
     "name": "stdout",
     "output_type": "stream",
     "text": [
      "test y shape : (17520, 1)\n",
      "Inv y shape : (17520, 22)\n",
      "y pred shape : (17520, 1)\n",
      "inv y pred : (17520, 22)\n",
      "Run 10 Mean Absolute Error: 0.43367028108916633\n",
      "RMSE: 0.572\n",
      "R^2: 1.000\n",
      "[['node_1_pressure', 'node_14_pressure', 'link_17_flow', 'link_22_flow', 'node_17_pressure', 'node_6_pressure', 'node_28_demand', 'link_26_flow', 'node_11_demand', 'node_29_demand', 'link_28_flow', 'link_21_flow', 'node_23_pressure', 'link_5_flow', 'node_31_pressure', 'node_2_pressure', 'node_22_demand', 'link_10_flow', 'node_7_demand', 'node_10_pressure', 'node_31_demand', 'node_20_demand', 'node_4_pressure', 'node_25_demand', 'node_27_demand', 'node_23_demand', 'link_29_flow', 'node_15_pressure', 'link_32_flow', 'link_15_flow', 'node_17_demand', 'link_7_flow', 'node_21_pressure', 'node_22_pressure', 'node_13_pressure', 'node_5_pressure', 'node_19_pressure', 'node_16_pressure', 'node_21_demand', 'link_4_flow', 'node_5_demand', 'node_6_demand', 'node_2_demand', 'node_3_pressure', 'link_24_flow', 'link_16_flow', 'link_9_flow', 'node_10_demand', 'node_13_demand', 'node_9_demand', 'node_15_demand', 'node_11_pressure', 'link_20_flow', 'link_18_flow', 'node_4_demand', 'node_7_pressure', 'reservoir_pressure', 'node_30_pressure', 'link_3_flow', 'node_8_demand', 'node_3_demand', 'node_16_demand', 'link_13_flow', 'node_24_demand', 'node_25_pressure', 'link_2_flow', 'node_27_pressure', 'link_8_flow', 'node_29_pressure', 'link_11_flow', 'node_26_pressure', 'link_23_flow', 'node_12_pressure', 'link_19_flow', 'node_24_pressure', 'node_20_pressure', 'node_18_pressure', 'node_26_demand', 'node_30_demand', 'node_9_pressure']]\n",
      "starting df shape: (87600, 16)\n",
      "This is training run 1 and has the shape:  (87600, 16)\n",
      "The value of dropped columns is 80\n"
     ]
    },
    {
     "name": "stderr",
     "output_type": "stream",
     "text": [
      "/Users/alexellard/opt/anaconda3/lib/python3.7/site-packages/xgboost/data.py:96: UserWarning: Use subset (sliced data) of np.ndarray is not recommended because it will generate extra copies and increase memory consumption\n",
      "  \"because it will generate extra copies and increase \" +\n"
     ]
    },
    {
     "name": "stdout",
     "output_type": "stream",
     "text": [
      "test y shape : (17520, 1)\n",
      "Inv y shape : (17520, 16)\n",
      "y pred shape : (17520, 1)\n",
      "inv y pred : (17520, 16)\n",
      "Run 1 Mean Absolute Error: 7.203717742296934\n",
      "RMSE: 9.382\n",
      "R^2: 1.000\n",
      "[['node_19_demand', 'link_22_flow', 'node_7_demand', 'node_31_pressure', 'node_17_pressure', 'node_27_demand', 'link_10_flow', 'node_12_pressure', 'link_23_flow', 'node_25_demand', 'node_29_pressure', 'link_13_flow', 'link_15_flow', 'node_24_demand', 'node_16_demand', 'link_12_flow', 'node_6_pressure', 'node_14_demand', 'node_22_pressure', 'node_23_pressure', 'link_27_flow', 'node_29_demand', 'node_18_demand', 'node_28_demand', 'node_5_pressure', 'node_11_pressure', 'node_26_demand', 'link_25_flow', 'node_5_demand', 'node_10_demand', 'link_29_flow', 'link_6_flow', 'node_24_pressure', 'link_11_flow', 'link_30_flow', 'node_21_pressure', 'node_30_demand', 'node_1_pressure', 'link_18_flow', 'node_4_demand', 'link_31_flow', 'node_15_demand', 'node_28_pressure', 'node_8_demand', 'node_19_pressure', 'node_7_pressure', 'link_28_flow', 'link_24_flow', 'node_13_demand', 'link_20_flow', 'node_6_demand', 'node_26_pressure', 'link_3_flow', 'node_11_demand', 'link_16_flow', 'link_19_flow', 'node_17_demand', 'node_2_demand', 'node_10_pressure', 'link_4_flow', 'node_16_pressure', 'node_12_demand', 'node_27_pressure', 'link_14_flow', 'reservoir_demand', 'node_30_pressure', 'node_1_demand', 'link_2_flow', 'link_26_flow', 'node_4_pressure', 'node_15_pressure', 'node_8_pressure', 'node_20_pressure', 'link_7_flow', 'node_23_demand', 'link_17_flow', 'node_9_pressure', 'link_8_flow', 'node_2_pressure']]\n",
      "starting df shape: (87600, 17)\n",
      "This is training run 2 and has the shape:  (87600, 17)\n",
      "The value of dropped columns is 80\n"
     ]
    },
    {
     "name": "stderr",
     "output_type": "stream",
     "text": [
      "/Users/alexellard/opt/anaconda3/lib/python3.7/site-packages/xgboost/data.py:96: UserWarning: Use subset (sliced data) of np.ndarray is not recommended because it will generate extra copies and increase memory consumption\n",
      "  \"because it will generate extra copies and increase \" +\n"
     ]
    },
    {
     "name": "stdout",
     "output_type": "stream",
     "text": [
      "test y shape : (17520, 1)\n",
      "Inv y shape : (17520, 17)\n",
      "y pred shape : (17520, 1)\n",
      "inv y pred : (17520, 17)\n",
      "Run 2 Mean Absolute Error: 0.24266982473214171\n",
      "RMSE: 0.320\n",
      "R^2: 1.000\n",
      "[['link_30_flow', 'node_21_demand', 'link_2_flow', 'node_26_pressure', 'node_26_demand', 'node_25_demand', 'node_9_demand', 'link_20_flow', 'node_5_pressure', 'link_5_flow', 'node_27_demand', 'node_20_pressure', 'node_19_demand', 'node_28_pressure', 'node_2_pressure', 'node_22_pressure', 'node_3_pressure', 'link_19_flow', 'node_16_pressure', 'node_13_pressure', 'node_16_demand', 'link_29_flow', 'node_11_demand', 'link_18_flow', 'node_29_pressure', 'node_30_pressure', 'node_17_demand', 'node_13_demand', 'node_30_demand', 'link_25_flow', 'node_8_demand', 'node_31_pressure', 'node_7_demand', 'node_24_pressure', 'link_8_flow', 'node_21_pressure', 'node_31_demand', 'link_3_flow', 'node_3_demand', 'link_16_flow', 'node_10_pressure', 'node_14_pressure', 'reservoir_demand', 'link_12_flow', 'link_11_flow', 'link_10_flow', 'link_23_flow', 'node_20_demand', 'node_14_demand', 'link_26_flow', 'link_6_flow', 'node_6_pressure', 'node_8_pressure', 'link_21_flow', 'link_9_flow', 'link_4_flow', 'reservoir_pressure', 'node_11_pressure', 'node_12_demand', 'node_29_demand', 'link_32_flow', 'node_9_pressure', 'link_7_flow', 'node_10_demand', 'node_28_demand', 'node_22_demand', 'link_22_flow', 'node_23_demand', 'link_24_flow', 'node_17_pressure', 'node_2_demand', 'node_15_pressure', 'node_27_pressure', 'node_24_demand', 'node_23_pressure', 'node_25_pressure', 'node_12_pressure', 'node_18_pressure', 'link_15_flow']]\n",
      "starting df shape: (87600, 17)\n",
      "This is training run 3 and has the shape:  (87600, 17)\n",
      "The value of dropped columns is 80\n"
     ]
    },
    {
     "name": "stderr",
     "output_type": "stream",
     "text": [
      "/Users/alexellard/opt/anaconda3/lib/python3.7/site-packages/xgboost/data.py:96: UserWarning: Use subset (sliced data) of np.ndarray is not recommended because it will generate extra copies and increase memory consumption\n",
      "  \"because it will generate extra copies and increase \" +\n"
     ]
    },
    {
     "name": "stdout",
     "output_type": "stream",
     "text": [
      "test y shape : (17520, 1)\n",
      "Inv y shape : (17520, 17)\n",
      "y pred shape : (17520, 1)\n",
      "inv y pred : (17520, 17)\n",
      "Run 3 Mean Absolute Error: 2.5880557809417932\n",
      "RMSE: 3.410\n",
      "R^2: 0.999\n",
      "[['node_31_pressure', 'link_2_flow', 'link_9_flow', 'node_19_pressure', 'node_19_demand', 'node_9_pressure', 'link_4_flow', 'link_30_flow', 'node_5_pressure', 'link_21_flow', 'node_8_demand', 'link_12_flow', 'node_14_pressure', 'node_13_demand', 'link_8_flow', 'reservoir_demand', 'node_4_pressure', 'node_18_pressure', 'node_1_pressure', 'node_17_pressure', 'node_16_pressure', 'node_27_demand', 'node_11_pressure', 'link_31_flow', 'link_10_flow', 'node_10_demand', 'node_21_pressure', 'link_18_flow', 'link_11_flow', 'node_9_demand', 'node_2_demand', 'node_6_pressure', 'node_10_pressure', 'node_29_demand', 'node_27_pressure', 'node_25_pressure', 'node_24_pressure', 'node_20_pressure', 'node_11_demand', 'node_28_demand', 'node_8_pressure', 'node_30_demand', 'node_13_pressure', 'link_26_flow', 'node_16_demand', 'link_22_flow', 'node_14_demand', 'node_3_demand', 'link_17_flow', 'node_31_demand', 'node_3_pressure', 'node_24_demand', 'link_5_flow', 'node_22_pressure', 'node_15_demand', 'node_15_pressure', 'link_24_flow', 'link_15_flow', 'node_23_pressure', 'node_4_demand', 'node_7_demand', 'link_25_flow', 'node_28_pressure', 'node_20_demand', 'node_1_demand', 'link_19_flow', 'node_30_pressure', 'node_21_demand', 'link_7_flow', 'link_3_flow', 'reservoir_pressure', 'node_12_demand', 'node_26_pressure', 'node_7_pressure', 'node_29_pressure', 'node_5_demand', 'link_20_flow', 'link_29_flow', 'node_6_demand']]\n",
      "starting df shape: (87600, 17)\n",
      "This is training run 4 and has the shape:  (87600, 17)\n",
      "The value of dropped columns is 80\n"
     ]
    },
    {
     "name": "stderr",
     "output_type": "stream",
     "text": [
      "/Users/alexellard/opt/anaconda3/lib/python3.7/site-packages/xgboost/data.py:96: UserWarning: Use subset (sliced data) of np.ndarray is not recommended because it will generate extra copies and increase memory consumption\n",
      "  \"because it will generate extra copies and increase \" +\n"
     ]
    },
    {
     "name": "stdout",
     "output_type": "stream",
     "text": [
      "test y shape : (17520, 1)\n",
      "Inv y shape : (17520, 17)\n",
      "y pred shape : (17520, 1)\n",
      "inv y pred : (17520, 17)\n",
      "Run 4 Mean Absolute Error: 3.2098115434601433\n",
      "RMSE: 4.150\n",
      "R^2: 0.999\n",
      "[['node_25_pressure', 'link_27_flow', 'link_30_flow', 'node_15_demand', 'node_3_demand', 'link_29_flow', 'node_29_demand', 'node_11_demand', 'node_3_pressure', 'node_1_pressure', 'node_12_demand', 'node_4_demand', 'node_5_demand', 'node_14_pressure', 'node_9_pressure', 'node_31_pressure', 'node_10_pressure', 'node_12_pressure', 'link_12_flow', 'node_21_demand', 'link_8_flow', 'node_20_pressure', 'link_6_flow', 'link_21_flow', 'node_9_demand', 'node_18_demand', 'link_5_flow', 'link_24_flow', 'node_5_pressure', 'node_30_pressure', 'link_32_flow', 'node_4_pressure', 'node_2_demand', 'link_22_flow', 'link_31_flow', 'node_8_pressure', 'reservoir_demand', 'node_15_pressure', 'node_28_demand', 'node_26_pressure', 'node_16_demand', 'node_17_pressure', 'node_31_demand', 'link_9_flow', 'link_17_flow', 'node_6_demand', 'link_10_flow', 'node_20_demand', 'link_19_flow', 'node_19_demand', 'node_24_demand', 'node_1_demand', 'node_2_pressure', 'node_14_demand', 'link_3_flow', 'node_22_demand', 'node_21_pressure', 'node_8_demand', 'node_23_demand', 'link_4_flow', 'node_24_pressure', 'link_7_flow', 'node_27_pressure', 'node_7_demand', 'node_13_demand', 'link_28_flow', 'link_18_flow', 'node_27_demand', 'node_25_demand', 'link_20_flow', 'node_16_pressure', 'node_29_pressure', 'link_15_flow', 'node_19_pressure', 'node_23_pressure', 'link_11_flow', 'reservoir_pressure', 'link_14_flow', 'link_23_flow']]\n",
      "starting df shape: (87600, 17)\n",
      "This is training run 5 and has the shape:  (87600, 17)\n",
      "The value of dropped columns is 80\n"
     ]
    },
    {
     "name": "stderr",
     "output_type": "stream",
     "text": [
      "/Users/alexellard/opt/anaconda3/lib/python3.7/site-packages/xgboost/data.py:96: UserWarning: Use subset (sliced data) of np.ndarray is not recommended because it will generate extra copies and increase memory consumption\n",
      "  \"because it will generate extra copies and increase \" +\n"
     ]
    },
    {
     "name": "stdout",
     "output_type": "stream",
     "text": [
      "test y shape : (17520, 1)\n",
      "Inv y shape : (17520, 17)\n",
      "y pred shape : (17520, 1)\n",
      "inv y pred : (17520, 17)\n",
      "Run 5 Mean Absolute Error: 0.40122101902854235\n",
      "RMSE: 0.522\n",
      "R^2: 1.000\n",
      "[['node_16_demand', 'link_27_flow', 'node_21_demand', 'node_24_pressure', 'node_12_pressure', 'node_13_demand', 'node_2_pressure', 'node_25_demand', 'node_15_pressure', 'node_13_pressure', 'node_7_pressure', 'link_18_flow', 'node_18_pressure', 'node_11_demand', 'node_30_pressure', 'link_7_flow', 'node_17_demand', 'link_14_flow', 'node_7_demand', 'node_17_pressure', 'link_31_flow', 'node_30_demand', 'link_32_flow', 'link_30_flow', 'node_15_demand', 'node_20_pressure', 'node_3_demand', 'node_8_pressure', 'node_3_pressure', 'link_25_flow', 'node_27_pressure', 'link_9_flow', 'node_9_demand', 'node_6_pressure', 'node_16_pressure', 'node_2_demand', 'link_2_flow', 'node_23_pressure', 'link_20_flow', 'node_12_demand', 'link_8_flow', 'link_29_flow', 'node_29_demand', 'link_4_flow', 'node_4_pressure', 'node_1_pressure', 'node_11_pressure', 'node_14_demand', 'node_1_demand', 'node_4_demand', 'link_28_flow', 'node_14_pressure', 'node_10_demand', 'node_24_demand', 'node_31_demand', 'link_17_flow', 'node_19_demand', 'node_19_pressure', 'node_26_demand', 'link_10_flow', 'node_23_demand', 'node_29_pressure', 'node_9_pressure', 'link_23_flow', 'link_16_flow', 'node_22_pressure', 'link_3_flow', 'node_22_demand', 'node_5_demand', 'node_28_pressure', 'link_26_flow', 'link_21_flow', 'link_11_flow', 'node_6_demand', 'node_26_pressure', 'reservoir_pressure', 'node_20_demand', 'link_12_flow', 'node_5_pressure']]\n",
      "starting df shape: (87600, 17)\n",
      "This is training run 6 and has the shape:  (87600, 17)\n",
      "The value of dropped columns is 80\n"
     ]
    },
    {
     "name": "stderr",
     "output_type": "stream",
     "text": [
      "/Users/alexellard/opt/anaconda3/lib/python3.7/site-packages/xgboost/data.py:96: UserWarning: Use subset (sliced data) of np.ndarray is not recommended because it will generate extra copies and increase memory consumption\n",
      "  \"because it will generate extra copies and increase \" +\n"
     ]
    },
    {
     "name": "stdout",
     "output_type": "stream",
     "text": [
      "test y shape : (17520, 1)\n",
      "Inv y shape : (17520, 17)\n",
      "y pred shape : (17520, 1)\n",
      "inv y pred : (17520, 17)\n",
      "Run 6 Mean Absolute Error: 4.838402564472528\n",
      "RMSE: 6.274\n",
      "R^2: 1.000\n",
      "[['node_12_pressure', 'node_21_demand', 'node_15_pressure', 'link_14_flow', 'link_17_flow', 'node_12_demand', 'link_22_flow', 'node_13_demand', 'link_19_flow', 'node_15_demand', 'node_30_demand', 'node_18_demand', 'node_28_pressure', 'node_9_demand', 'node_20_pressure', 'node_18_pressure', 'reservoir_pressure', 'node_21_pressure', 'node_22_pressure', 'node_14_pressure', 'node_19_pressure', 'node_23_demand', 'node_25_demand', 'node_23_pressure', 'node_20_demand', 'node_7_demand', 'node_28_demand', 'node_11_demand', 'node_3_pressure', 'node_1_pressure', 'link_2_flow', 'node_8_pressure', 'link_3_flow', 'node_2_demand', 'node_27_pressure', 'node_13_pressure', 'node_10_pressure', 'node_17_demand', 'node_31_pressure', 'node_10_demand', 'node_3_demand', 'node_26_demand', 'link_5_flow', 'link_29_flow', 'node_8_demand', 'link_16_flow', 'node_5_demand', 'reservoir_demand', 'node_6_pressure', 'link_11_flow', 'link_32_flow', 'node_24_demand', 'node_25_pressure', 'link_24_flow', 'link_9_flow', 'node_1_demand', 'link_12_flow', 'link_21_flow', 'link_10_flow', 'node_16_demand', 'link_18_flow', 'link_28_flow', 'node_24_pressure', 'node_14_demand', 'node_31_demand', 'node_4_pressure', 'node_22_demand', 'link_23_flow', 'link_4_flow', 'link_30_flow', 'node_2_pressure', 'link_8_flow', 'node_27_demand', 'node_29_demand', 'node_16_pressure', 'node_19_demand', 'node_30_pressure', 'node_26_pressure', 'node_4_demand']]\n",
      "starting df shape: (87600, 17)\n",
      "This is training run 7 and has the shape:  (87600, 17)\n",
      "The value of dropped columns is 80\n"
     ]
    },
    {
     "name": "stderr",
     "output_type": "stream",
     "text": [
      "/Users/alexellard/opt/anaconda3/lib/python3.7/site-packages/xgboost/data.py:96: UserWarning: Use subset (sliced data) of np.ndarray is not recommended because it will generate extra copies and increase memory consumption\n",
      "  \"because it will generate extra copies and increase \" +\n"
     ]
    },
    {
     "name": "stdout",
     "output_type": "stream",
     "text": [
      "test y shape : (17520, 1)\n",
      "Inv y shape : (17520, 17)\n",
      "y pred shape : (17520, 1)\n",
      "inv y pred : (17520, 17)\n",
      "Run 7 Mean Absolute Error: 3.079339943855577\n",
      "RMSE: 4.015\n",
      "R^2: 0.999\n",
      "[['node_29_demand', 'link_15_flow', 'node_12_demand', 'node_20_demand', 'node_26_demand', 'node_3_pressure', 'node_4_demand', 'node_27_pressure', 'link_6_flow', 'link_18_flow', 'node_6_pressure', 'node_6_demand', 'reservoir_pressure', 'node_12_pressure', 'link_21_flow', 'node_19_demand', 'reservoir_demand', 'link_14_flow', 'node_5_demand', 'link_7_flow', 'node_31_demand', 'link_32_flow', 'node_18_pressure', 'node_1_demand', 'node_29_pressure', 'node_17_demand', 'node_14_demand', 'node_16_demand', 'link_24_flow', 'node_31_pressure', 'link_3_flow', 'link_11_flow', 'link_30_flow', 'node_13_demand', 'node_27_demand', 'node_16_pressure', 'link_20_flow', 'link_17_flow', 'node_22_demand', 'node_23_demand', 'link_31_flow', 'node_21_demand', 'node_24_pressure', 'node_10_demand', 'node_2_demand', 'node_18_demand', 'link_5_flow', 'node_8_pressure', 'node_30_pressure', 'node_14_pressure', 'link_8_flow', 'link_9_flow', 'node_4_pressure', 'node_15_pressure', 'node_26_pressure', 'node_25_demand', 'link_25_flow', 'node_11_demand', 'node_22_pressure', 'node_25_pressure', 'link_19_flow', 'node_19_pressure', 'node_17_pressure', 'link_28_flow', 'link_12_flow', 'node_28_demand', 'link_26_flow', 'node_23_pressure', 'link_4_flow', 'link_13_flow', 'node_9_pressure', 'node_8_demand', 'node_1_pressure', 'node_21_pressure', 'node_5_pressure', 'link_23_flow', 'node_28_pressure', 'node_7_demand', 'link_2_flow']]\n",
      "starting df shape: (87600, 17)\n",
      "This is training run 8 and has the shape:  (87600, 17)\n",
      "The value of dropped columns is 80\n"
     ]
    },
    {
     "name": "stderr",
     "output_type": "stream",
     "text": [
      "/Users/alexellard/opt/anaconda3/lib/python3.7/site-packages/xgboost/data.py:96: UserWarning: Use subset (sliced data) of np.ndarray is not recommended because it will generate extra copies and increase memory consumption\n",
      "  \"because it will generate extra copies and increase \" +\n"
     ]
    },
    {
     "name": "stdout",
     "output_type": "stream",
     "text": [
      "test y shape : (17520, 1)\n",
      "Inv y shape : (17520, 17)\n",
      "y pred shape : (17520, 1)\n",
      "inv y pred : (17520, 17)\n",
      "Run 8 Mean Absolute Error: 0.33625103534499434\n",
      "RMSE: 0.434\n",
      "R^2: 0.999\n",
      "[['node_22_pressure', 'link_27_flow', 'link_7_flow', 'node_14_demand', 'node_9_demand', 'link_28_flow', 'node_17_demand', 'node_30_pressure', 'node_7_demand', 'link_21_flow', 'node_6_pressure', 'node_2_pressure', 'node_29_demand', 'node_28_demand', 'link_9_flow', 'node_7_pressure', 'node_22_demand', 'link_6_flow', 'node_30_demand', 'node_1_pressure', 'node_12_pressure', 'node_20_demand', 'link_19_flow', 'link_3_flow', 'reservoir_demand', 'node_3_demand', 'node_26_demand', 'node_8_pressure', 'node_9_pressure', 'node_17_pressure', 'node_11_demand', 'node_21_demand', 'node_4_demand', 'link_20_flow', 'link_25_flow', 'link_4_flow', 'node_26_pressure', 'link_15_flow', 'link_22_flow', 'link_12_flow', 'link_30_flow', 'node_13_pressure', 'link_10_flow', 'link_29_flow', 'node_12_demand', 'node_13_demand', 'link_14_flow', 'node_14_pressure', 'node_18_demand', 'node_29_pressure', 'node_18_pressure', 'link_17_flow', 'node_19_demand', 'node_11_pressure', 'node_31_pressure', 'node_25_demand', 'node_16_pressure', 'node_3_pressure', 'node_16_demand', 'node_15_pressure', 'link_23_flow', 'node_15_demand', 'node_4_pressure', 'node_31_demand', 'link_31_flow', 'node_10_demand', 'link_2_flow', 'node_10_pressure', 'link_8_flow', 'node_23_pressure', 'link_5_flow', 'node_24_demand', 'node_27_pressure', 'link_32_flow', 'link_18_flow', 'node_21_pressure', 'node_5_demand', 'node_8_demand', 'link_26_flow']]\n",
      "starting df shape: (87600, 17)\n",
      "This is training run 9 and has the shape:  (87600, 17)\n",
      "The value of dropped columns is 80\n"
     ]
    },
    {
     "name": "stderr",
     "output_type": "stream",
     "text": [
      "/Users/alexellard/opt/anaconda3/lib/python3.7/site-packages/xgboost/data.py:96: UserWarning: Use subset (sliced data) of np.ndarray is not recommended because it will generate extra copies and increase memory consumption\n",
      "  \"because it will generate extra copies and increase \" +\n"
     ]
    },
    {
     "name": "stdout",
     "output_type": "stream",
     "text": [
      "test y shape : (17520, 1)\n",
      "Inv y shape : (17520, 17)\n",
      "y pred shape : (17520, 1)\n",
      "inv y pred : (17520, 17)\n",
      "Run 9 Mean Absolute Error: 2.659194272247193\n",
      "RMSE: 3.495\n",
      "R^2: 0.999\n",
      "[['link_26_flow', 'node_14_demand', 'node_8_pressure', 'node_13_demand', 'reservoir_pressure', 'node_7_demand', 'node_24_demand', 'link_25_flow', 'node_10_demand', 'reservoir_demand', 'node_16_demand', 'link_6_flow', 'node_11_pressure', 'node_27_pressure', 'link_29_flow', 'node_5_pressure', 'node_17_pressure', 'node_6_pressure', 'link_21_flow', 'node_31_demand', 'link_32_flow', 'node_4_pressure', 'link_22_flow', 'link_2_flow', 'link_17_flow', 'node_19_demand', 'link_7_flow', 'node_4_demand', 'node_25_demand', 'node_24_pressure', 'node_1_demand', 'link_24_flow', 'link_3_flow', 'link_9_flow', 'node_15_pressure', 'node_21_demand', 'node_1_pressure', 'node_30_demand', 'node_10_pressure', 'node_15_demand', 'link_13_flow', 'node_22_demand', 'node_12_pressure', 'node_25_pressure', 'node_5_demand', 'node_30_pressure', 'node_13_pressure', 'node_23_demand', 'node_26_pressure', 'link_12_flow', 'node_12_demand', 'link_15_flow', 'link_11_flow', 'link_4_flow', 'link_8_flow', 'link_14_flow', 'link_30_flow', 'node_6_demand', 'link_19_flow', 'node_11_demand', 'node_2_demand', 'node_18_demand', 'node_3_demand', 'node_17_demand', 'link_31_flow', 'link_28_flow', 'link_16_flow', 'node_26_demand', 'node_19_pressure', 'node_3_pressure', 'node_16_pressure', 'node_29_pressure', 'link_18_flow', 'node_28_demand', 'node_29_demand', 'node_9_demand', 'node_14_pressure', 'node_7_pressure', 'node_23_pressure']]\n",
      "starting df shape: (87600, 17)\n",
      "This is training run 10 and has the shape:  (87600, 17)\n",
      "The value of dropped columns is 80\n"
     ]
    },
    {
     "name": "stderr",
     "output_type": "stream",
     "text": [
      "/Users/alexellard/opt/anaconda3/lib/python3.7/site-packages/xgboost/data.py:96: UserWarning: Use subset (sliced data) of np.ndarray is not recommended because it will generate extra copies and increase memory consumption\n",
      "  \"because it will generate extra copies and increase \" +\n"
     ]
    },
    {
     "name": "stdout",
     "output_type": "stream",
     "text": [
      "test y shape : (17520, 1)\n",
      "Inv y shape : (17520, 17)\n",
      "y pred shape : (17520, 1)\n",
      "inv y pred : (17520, 17)\n",
      "Run 10 Mean Absolute Error: 1.1056232395931982\n",
      "RMSE: 1.454\n",
      "R^2: 0.999\n",
      "Length MAE_average:  17\n",
      "Length sensors_covered:  17\n"
     ]
    }
   ],
   "source": [
    "#average scores flows link 1\n",
    "\n",
    "MAE_average = []\n",
    "RMSE_average = []\n",
    "R2_average = []\n",
    "maximum_MAE = []\n",
    "sensors_covered = []\n",
    "n_columns_to_drop = [0, 5, 10, 15, 20, 25, 30, 35, 40, 45, 50, 55, 60, 65, 70, 75, 80]\n",
    "for n in n_columns_to_drop:\n",
    "    MAE = []\n",
    "    RMSE = []\n",
    "    R2 = []\n",
    "    for run in range(1,11):\n",
    "        Y = df[df.columns[64]]\n",
    "        X = df.drop(columns=['link_1_flow'])\n",
    "        X['link_1_flow'] = Y\n",
    "        columns = []\n",
    "        columns_to_drop = random.sample(list(X.columns), n)\n",
    "        # Drop the selected columns from the dataframe\n",
    "        if X.columns[-1] in columns_to_drop:\n",
    "            columns_to_drop.remove(X.columns[-1])\n",
    "        X.drop(columns_to_drop, axis=1, inplace=True)\n",
    "        columns.append(columns_to_drop)\n",
    "        print(columns)\n",
    "        print('starting df shape:', X.shape)\n",
    "        print(f'This is training run {run} and has the shape: ', X.shape)\n",
    "        print(f'The value of dropped columns is {n}')\n",
    "\n",
    "        # split into train and test sets\n",
    "        values = X.values\n",
    "        scaler = MinMaxScaler(feature_range=(0, 1))\n",
    "        scaled = scaler.fit_transform(values)\n",
    "        train, test = train_test_split(scaled, test_size=0.2, random_state=0)\n",
    "\n",
    "        # split into input and outputs\n",
    "        train_X, train_y = train[:, :-1], train[:, -1]\n",
    "        test_X, test_y = test[:, :-1], test[:, -1]\n",
    "\n",
    "        #define model\n",
    "        model = xgb.XGBRegressor(\n",
    "            objective='reg:squarederror',\n",
    "            n_estimators=100,\n",
    "            max_depth=6,\n",
    "            learning_rate=0.1,\n",
    "            subsample=0.9,\n",
    "            colsample_bytree=0.8,\n",
    "            random_state=42\n",
    "        )\n",
    "\n",
    "        # fit the model on the training data\n",
    "        model.fit(train_X, train_y)\n",
    "\n",
    "        # make predictions on the test data\n",
    "        y_pred = model.predict(test_X)\n",
    "\n",
    "        test_y = test_y.reshape((len(test_y), 1))\n",
    "        print('test y shape :', test_y.shape)\n",
    "        inv_test_y = concatenate((test_y, test_X[:, -X.shape[1]:]), axis=1)\n",
    "        print('Inv y shape :', inv_test_y.shape)\n",
    "        test_y_inverse = scaler.inverse_transform(inv_test_y)\n",
    "        test_y_inverse = test_y_inverse[:,0]\n",
    "\n",
    "        y_pred = y_pred.reshape((len(y_pred), 1))\n",
    "        print('y pred shape :', y_pred.shape)\n",
    "        inv_y_pred = concatenate((y_pred, test_X[:, -X.shape[1]:]), axis=1)\n",
    "        print('inv y pred :', inv_y_pred.shape)\n",
    "        y_pred_inverse = scaler.inverse_transform(inv_y_pred)\n",
    "        y_pred_inverse = y_pred_inverse[:,0]\n",
    "\n",
    "        # evaluate scaled errors\n",
    "        mae_inverse = mean_absolute_error(test_y_inverse, y_pred_inverse)\n",
    "        MAE.append(mae_inverse)\n",
    "        print(f'Run {run} Mean Absolute Error:', mae_inverse)\n",
    "        rmse_inverse = sqrt(mean_squared_error(test_y_inverse, y_pred_inverse))\n",
    "        RMSE.append(rmse_inverse)\n",
    "        print('RMSE: %.3f' % rmse_inverse)\n",
    "        r2_inverse = r2_score(test_y_inverse, y_pred_inverse)\n",
    "        R2.append(r2_inverse)\n",
    "        print('R^2: %.3f' % r2_inverse)\n",
    "    percentage_list = round(X.shape[1] / 96 * 100)\n",
    "    sensors_covered.append(percentage_list)\n",
    "    MAE_mean = mean(MAE)\n",
    "    RMSE_mean = mean(RMSE)\n",
    "    R2_mean = mean(R2)\n",
    "    max_MAE = max(MAE)\n",
    "    maximum_MAE.append(max_MAE)\n",
    "    MAE_average.append(MAE_mean)\n",
    "    RMSE_average.append(RMSE_mean)\n",
    "    R2_average.append(R2_mean)\n",
    "print('Length MAE_average: ', len(MAE_average))\n",
    "print('Length sensors_covered: ', len(sensors_covered))"
   ]
  },
  {
   "cell_type": "code",
   "execution_count": 9,
   "metadata": {},
   "outputs": [
    {
     "data": {
      "image/png": "[encoded data removed]",
      "text/plain": [
       "<Figure size 432x288 with 1 Axes>"
      ]
     },
     "metadata": {
      "needs_background": "light"
     },
     "output_type": "display_data"
    }
   ],
   "source": [
    "#run this after cell above finishes training \n",
    "plt.plot(sensors_covered, maximum_MAE)\n",
    "plt.ylabel(\"Mean Absolute Error\")\n",
    "plt.xlabel(\"Sensor Cover %\")\n",
    "plt.title(\"MAE vs. Coverage Flows Link 16\")\n",
    "plt.xlim([100, 0])\n",
    "#plt.savefig('/Users/alexellard/Downloads/Link16FlowsMax.png')\n",
    "plt.show()"
   ]
  },
  {
   "cell_type": "code",
   "execution_count": 9,
   "metadata": {},
   "outputs": [
    {
     "data": {
      "text/plain": [
       "[27.03572745055103,\n",
       " 28.111820854160047,\n",
       " 57.03511939901222,\n",
       " 57.562455410597,\n",
       " 56.64349024660162,\n",
       " 76.79984867612376,\n",
       " 76.7034306865405,\n",
       " 33.43096287122796,\n",
       " 32.86449056829004,\n",
       " 68.52898138021773,\n",
       " 61.41646409155878,\n",
       " 86.12109149545589,\n",
       " 85.57921022734982,\n",
       " 30.675566444132883,\n",
       " 94.00438958434454,\n",
       " 90.49009563112445,\n",
       " 94.15266963096067]"
      ]
     },
     "execution_count": 9,
     "metadata": {},
     "output_type": "execute_result"
    }
   ],
   "source": [
    "maximum_MAE"
   ]
  },
  {
   "cell_type": "code",
   "execution_count": 5,
   "metadata": {},
   "outputs": [
    {
     "data": {
      "image/png": "[encoded data removed]",
      "text/plain": [
       "<Figure size 432x288 with 1 Axes>"
      ]
     },
     "metadata": {
      "needs_background": "light"
     },
     "output_type": "display_data"
    }
   ],
   "source": [
    "#run this after cell above finishes training \n",
    "plt.plot(sensors_covered, MAE_average)\n",
    "plt.ylabel(\"Mean Absolute Error\")\n",
    "plt.xlabel(\"Sensor Cover %\")\n",
    "plt.title(\"MAE vs. Coverage Flows Link 16\")\n",
    "plt.xlim([100, 0])\n",
    "#plt.savefig('/Users/alexellard/Downloads/Link16FlowsMax.png')\n",
    "plt.show()"
   ]
  },
  {
   "cell_type": "code",
   "execution_count": null,
   "metadata": {},
   "outputs": [],
   "source": []
  }
 ],
 "metadata": {
  "kernelspec": {
   "display_name": "Python 3",
   "language": "python",
   "name": "python3"
  },
  "language_info": {
   "codemirror_mode": {
    "name": "ipython",
    "version": 3
   },
   "file_extension": ".py",
   "mimetype": "text/x-python",
   "name": "python",
   "nbconvert_exporter": "python",
   "pygments_lexer": "ipython3",
   "version": "3.7.4"
  }
 },
 "nbformat": 4,
 "nbformat_minor": 2
}
