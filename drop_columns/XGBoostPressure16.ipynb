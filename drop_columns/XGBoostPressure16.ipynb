{
 "cells": [
  {
   "cell_type": "code",
   "execution_count": 1,
   "metadata": {},
   "outputs": [
    {
     "name": "stderr",
     "output_type": "stream",
     "text": [
      "/Users/alexellard/opt/anaconda3/lib/python3.7/site-packages/dask/dataframe/utils.py:14: FutureWarning: pandas.util.testing is deprecated. Use the functions in the public API at pandas.testing instead.\n",
      "  import pandas.util.testing as tm\n"
     ]
    }
   ],
   "source": [
    "import xgboost as xgb\n",
    "import pandas as pd\n",
    "import numpy as np\n",
    "from sklearn.preprocessing import LabelEncoder\n",
    "from sklearn.preprocessing import MinMaxScaler\n",
    "from sklearn.model_selection import train_test_split\n",
    "from sklearn.metrics import mean_squared_error, mean_absolute_error, r2_score\n",
    "from numpy import concatenate\n",
    "from math import sqrt\n",
    "from statistics import mean\n",
    "import random\n",
    "import matplotlib.pyplot as plt"
   ]
  },
  {
   "cell_type": "code",
   "execution_count": 2,
   "metadata": {},
   "outputs": [
    {
     "data": {
      "text/html": [
       "<div>\n",
       "<style scoped>\n",
       "    .dataframe tbody tr th:only-of-type {\n",
       "        vertical-align: middle;\n",
       "    }\n",
       "\n",
       "    .dataframe tbody tr th {\n",
       "        vertical-align: top;\n",
       "    }\n",
       "\n",
       "    .dataframe thead th {\n",
       "        text-align: right;\n",
       "    }\n",
       "</style>\n",
       "<table border=\"1\" class=\"dataframe\">\n",
       "  <thead>\n",
       "    <tr style=\"text-align: right;\">\n",
       "      <th></th>\n",
       "      <th>reservoir_demand</th>\n",
       "      <th>node_1_demand</th>\n",
       "      <th>node_2_demand</th>\n",
       "      <th>node_3_demand</th>\n",
       "      <th>node_4_demand</th>\n",
       "      <th>node_5_demand</th>\n",
       "      <th>node_6_demand</th>\n",
       "      <th>node_7_demand</th>\n",
       "      <th>node_8_demand</th>\n",
       "      <th>node_9_demand</th>\n",
       "      <th>...</th>\n",
       "      <th>link_23_flow</th>\n",
       "      <th>link_24_flow</th>\n",
       "      <th>link_25_flow</th>\n",
       "      <th>link_26_flow</th>\n",
       "      <th>link_27_flow</th>\n",
       "      <th>link_28_flow</th>\n",
       "      <th>link_29_flow</th>\n",
       "      <th>link_30_flow</th>\n",
       "      <th>link_31_flow</th>\n",
       "      <th>link_32_flow</th>\n",
       "    </tr>\n",
       "    <tr>\n",
       "      <th>Timestamp</th>\n",
       "      <th></th>\n",
       "      <th></th>\n",
       "      <th></th>\n",
       "      <th></th>\n",
       "      <th></th>\n",
       "      <th></th>\n",
       "      <th></th>\n",
       "      <th></th>\n",
       "      <th></th>\n",
       "      <th></th>\n",
       "      <th></th>\n",
       "      <th></th>\n",
       "      <th></th>\n",
       "      <th></th>\n",
       "      <th></th>\n",
       "      <th></th>\n",
       "      <th></th>\n",
       "      <th></th>\n",
       "      <th></th>\n",
       "      <th></th>\n",
       "      <th></th>\n",
       "    </tr>\n",
       "  </thead>\n",
       "  <tbody>\n",
       "    <tr>\n",
       "      <th>2017-01-01 00:00:00</th>\n",
       "      <td>-3348.0</td>\n",
       "      <td>154.8</td>\n",
       "      <td>169.2</td>\n",
       "      <td>18.0</td>\n",
       "      <td>118.8</td>\n",
       "      <td>169.2</td>\n",
       "      <td>234.0</td>\n",
       "      <td>86.4</td>\n",
       "      <td>82.8</td>\n",
       "      <td>104.4</td>\n",
       "      <td>...</td>\n",
       "      <td>439.2</td>\n",
       "      <td>-205.2</td>\n",
       "      <td>-75.6</td>\n",
       "      <td>-18.0</td>\n",
       "      <td>118.8</td>\n",
       "      <td>68.4</td>\n",
       "      <td>7.2</td>\n",
       "      <td>-54.0</td>\n",
       "      <td>75.6</td>\n",
       "      <td>212.4</td>\n",
       "    </tr>\n",
       "    <tr>\n",
       "      <th>2017-01-01 00:30:00</th>\n",
       "      <td>-2959.2</td>\n",
       "      <td>136.8</td>\n",
       "      <td>147.6</td>\n",
       "      <td>18.0</td>\n",
       "      <td>108.0</td>\n",
       "      <td>144.0</td>\n",
       "      <td>237.6</td>\n",
       "      <td>79.2</td>\n",
       "      <td>75.6</td>\n",
       "      <td>90.0</td>\n",
       "      <td>...</td>\n",
       "      <td>392.4</td>\n",
       "      <td>-187.2</td>\n",
       "      <td>-72.0</td>\n",
       "      <td>-21.6</td>\n",
       "      <td>108.0</td>\n",
       "      <td>61.2</td>\n",
       "      <td>3.6</td>\n",
       "      <td>-54.0</td>\n",
       "      <td>72.0</td>\n",
       "      <td>183.6</td>\n",
       "    </tr>\n",
       "    <tr>\n",
       "      <th>2017-01-01 01:00:00</th>\n",
       "      <td>-2692.8</td>\n",
       "      <td>129.6</td>\n",
       "      <td>126.0</td>\n",
       "      <td>14.4</td>\n",
       "      <td>104.4</td>\n",
       "      <td>133.2</td>\n",
       "      <td>205.2</td>\n",
       "      <td>72.0</td>\n",
       "      <td>72.0</td>\n",
       "      <td>90.0</td>\n",
       "      <td>...</td>\n",
       "      <td>349.2</td>\n",
       "      <td>-176.4</td>\n",
       "      <td>-64.8</td>\n",
       "      <td>-18.0</td>\n",
       "      <td>93.6</td>\n",
       "      <td>50.4</td>\n",
       "      <td>3.6</td>\n",
       "      <td>-39.6</td>\n",
       "      <td>54.0</td>\n",
       "      <td>151.2</td>\n",
       "    </tr>\n",
       "    <tr>\n",
       "      <th>2017-01-01 01:30:00</th>\n",
       "      <td>-2379.6</td>\n",
       "      <td>104.4</td>\n",
       "      <td>100.8</td>\n",
       "      <td>10.8</td>\n",
       "      <td>86.4</td>\n",
       "      <td>122.4</td>\n",
       "      <td>180.0</td>\n",
       "      <td>68.4</td>\n",
       "      <td>57.6</td>\n",
       "      <td>82.8</td>\n",
       "      <td>...</td>\n",
       "      <td>316.8</td>\n",
       "      <td>-158.4</td>\n",
       "      <td>-54.0</td>\n",
       "      <td>-10.8</td>\n",
       "      <td>79.2</td>\n",
       "      <td>46.8</td>\n",
       "      <td>7.2</td>\n",
       "      <td>-32.4</td>\n",
       "      <td>50.4</td>\n",
       "      <td>140.4</td>\n",
       "    </tr>\n",
       "    <tr>\n",
       "      <th>2017-01-01 02:00:00</th>\n",
       "      <td>-2228.4</td>\n",
       "      <td>104.4</td>\n",
       "      <td>104.4</td>\n",
       "      <td>10.8</td>\n",
       "      <td>79.2</td>\n",
       "      <td>122.4</td>\n",
       "      <td>183.6</td>\n",
       "      <td>68.4</td>\n",
       "      <td>54.0</td>\n",
       "      <td>75.6</td>\n",
       "      <td>...</td>\n",
       "      <td>277.2</td>\n",
       "      <td>-144.0</td>\n",
       "      <td>-57.6</td>\n",
       "      <td>-18.0</td>\n",
       "      <td>72.0</td>\n",
       "      <td>39.6</td>\n",
       "      <td>7.2</td>\n",
       "      <td>-32.4</td>\n",
       "      <td>43.2</td>\n",
       "      <td>118.8</td>\n",
       "    </tr>\n",
       "    <tr>\n",
       "      <th>...</th>\n",
       "      <td>...</td>\n",
       "      <td>...</td>\n",
       "      <td>...</td>\n",
       "      <td>...</td>\n",
       "      <td>...</td>\n",
       "      <td>...</td>\n",
       "      <td>...</td>\n",
       "      <td>...</td>\n",
       "      <td>...</td>\n",
       "      <td>...</td>\n",
       "      <td>...</td>\n",
       "      <td>...</td>\n",
       "      <td>...</td>\n",
       "      <td>...</td>\n",
       "      <td>...</td>\n",
       "      <td>...</td>\n",
       "      <td>...</td>\n",
       "      <td>...</td>\n",
       "      <td>...</td>\n",
       "      <td>...</td>\n",
       "      <td>...</td>\n",
       "    </tr>\n",
       "    <tr>\n",
       "      <th>2017-12-31 21:30:00</th>\n",
       "      <td>-5306.4</td>\n",
       "      <td>205.2</td>\n",
       "      <td>208.8</td>\n",
       "      <td>39.6</td>\n",
       "      <td>183.6</td>\n",
       "      <td>284.4</td>\n",
       "      <td>316.8</td>\n",
       "      <td>176.4</td>\n",
       "      <td>133.2</td>\n",
       "      <td>129.6</td>\n",
       "      <td>...</td>\n",
       "      <td>604.8</td>\n",
       "      <td>-259.2</td>\n",
       "      <td>32.4</td>\n",
       "      <td>115.2</td>\n",
       "      <td>169.2</td>\n",
       "      <td>100.8</td>\n",
       "      <td>10.8</td>\n",
       "      <td>-100.8</td>\n",
       "      <td>122.4</td>\n",
       "      <td>309.6</td>\n",
       "    </tr>\n",
       "    <tr>\n",
       "      <th>2017-12-31 22:00:00</th>\n",
       "      <td>-4910.4</td>\n",
       "      <td>208.8</td>\n",
       "      <td>183.6</td>\n",
       "      <td>39.6</td>\n",
       "      <td>154.8</td>\n",
       "      <td>252.0</td>\n",
       "      <td>295.2</td>\n",
       "      <td>165.6</td>\n",
       "      <td>133.2</td>\n",
       "      <td>133.2</td>\n",
       "      <td>...</td>\n",
       "      <td>565.2</td>\n",
       "      <td>-241.2</td>\n",
       "      <td>21.6</td>\n",
       "      <td>100.8</td>\n",
       "      <td>154.8</td>\n",
       "      <td>86.4</td>\n",
       "      <td>18.0</td>\n",
       "      <td>-75.6</td>\n",
       "      <td>100.8</td>\n",
       "      <td>288.0</td>\n",
       "    </tr>\n",
       "    <tr>\n",
       "      <th>2017-12-31 22:30:00</th>\n",
       "      <td>-4683.6</td>\n",
       "      <td>187.2</td>\n",
       "      <td>183.6</td>\n",
       "      <td>36.0</td>\n",
       "      <td>147.6</td>\n",
       "      <td>230.4</td>\n",
       "      <td>320.4</td>\n",
       "      <td>147.6</td>\n",
       "      <td>118.8</td>\n",
       "      <td>126.0</td>\n",
       "      <td>...</td>\n",
       "      <td>529.2</td>\n",
       "      <td>-226.8</td>\n",
       "      <td>21.6</td>\n",
       "      <td>100.8</td>\n",
       "      <td>147.6</td>\n",
       "      <td>86.4</td>\n",
       "      <td>14.4</td>\n",
       "      <td>-86.4</td>\n",
       "      <td>108.0</td>\n",
       "      <td>266.4</td>\n",
       "    </tr>\n",
       "    <tr>\n",
       "      <th>2017-12-31 23:00:00</th>\n",
       "      <td>-4262.4</td>\n",
       "      <td>180.0</td>\n",
       "      <td>165.6</td>\n",
       "      <td>32.4</td>\n",
       "      <td>136.8</td>\n",
       "      <td>223.2</td>\n",
       "      <td>241.2</td>\n",
       "      <td>147.6</td>\n",
       "      <td>115.2</td>\n",
       "      <td>111.6</td>\n",
       "      <td>...</td>\n",
       "      <td>496.8</td>\n",
       "      <td>-208.8</td>\n",
       "      <td>21.6</td>\n",
       "      <td>93.6</td>\n",
       "      <td>133.2</td>\n",
       "      <td>79.2</td>\n",
       "      <td>14.4</td>\n",
       "      <td>-75.6</td>\n",
       "      <td>97.2</td>\n",
       "      <td>255.6</td>\n",
       "    </tr>\n",
       "    <tr>\n",
       "      <th>2017-12-31 23:30:00</th>\n",
       "      <td>-3808.8</td>\n",
       "      <td>176.4</td>\n",
       "      <td>169.2</td>\n",
       "      <td>25.2</td>\n",
       "      <td>122.4</td>\n",
       "      <td>201.6</td>\n",
       "      <td>241.2</td>\n",
       "      <td>122.4</td>\n",
       "      <td>100.8</td>\n",
       "      <td>93.6</td>\n",
       "      <td>...</td>\n",
       "      <td>421.2</td>\n",
       "      <td>-180.0</td>\n",
       "      <td>28.8</td>\n",
       "      <td>86.4</td>\n",
       "      <td>118.8</td>\n",
       "      <td>68.4</td>\n",
       "      <td>10.8</td>\n",
       "      <td>-68.4</td>\n",
       "      <td>86.4</td>\n",
       "      <td>216.0</td>\n",
       "    </tr>\n",
       "  </tbody>\n",
       "</table>\n",
       "<p>87600 rows × 96 columns</p>\n",
       "</div>"
      ],
      "text/plain": [
       "                     reservoir_demand  node_1_demand  node_2_demand  \\\n",
       "Timestamp                                                             \n",
       "2017-01-01 00:00:00           -3348.0          154.8          169.2   \n",
       "2017-01-01 00:30:00           -2959.2          136.8          147.6   \n",
       "2017-01-01 01:00:00           -2692.8          129.6          126.0   \n",
       "2017-01-01 01:30:00           -2379.6          104.4          100.8   \n",
       "2017-01-01 02:00:00           -2228.4          104.4          104.4   \n",
       "...                               ...            ...            ...   \n",
       "2017-12-31 21:30:00           -5306.4          205.2          208.8   \n",
       "2017-12-31 22:00:00           -4910.4          208.8          183.6   \n",
       "2017-12-31 22:30:00           -4683.6          187.2          183.6   \n",
       "2017-12-31 23:00:00           -4262.4          180.0          165.6   \n",
       "2017-12-31 23:30:00           -3808.8          176.4          169.2   \n",
       "\n",
       "                     node_3_demand  node_4_demand  node_5_demand  \\\n",
       "Timestamp                                                          \n",
       "2017-01-01 00:00:00           18.0          118.8          169.2   \n",
       "2017-01-01 00:30:00           18.0          108.0          144.0   \n",
       "2017-01-01 01:00:00           14.4          104.4          133.2   \n",
       "2017-01-01 01:30:00           10.8           86.4          122.4   \n",
       "2017-01-01 02:00:00           10.8           79.2          122.4   \n",
       "...                            ...            ...            ...   \n",
       "2017-12-31 21:30:00           39.6          183.6          284.4   \n",
       "2017-12-31 22:00:00           39.6          154.8          252.0   \n",
       "2017-12-31 22:30:00           36.0          147.6          230.4   \n",
       "2017-12-31 23:00:00           32.4          136.8          223.2   \n",
       "2017-12-31 23:30:00           25.2          122.4          201.6   \n",
       "\n",
       "                     node_6_demand  node_7_demand  node_8_demand  \\\n",
       "Timestamp                                                          \n",
       "2017-01-01 00:00:00          234.0           86.4           82.8   \n",
       "2017-01-01 00:30:00          237.6           79.2           75.6   \n",
       "2017-01-01 01:00:00          205.2           72.0           72.0   \n",
       "2017-01-01 01:30:00          180.0           68.4           57.6   \n",
       "2017-01-01 02:00:00          183.6           68.4           54.0   \n",
       "...                            ...            ...            ...   \n",
       "2017-12-31 21:30:00          316.8          176.4          133.2   \n",
       "2017-12-31 22:00:00          295.2          165.6          133.2   \n",
       "2017-12-31 22:30:00          320.4          147.6          118.8   \n",
       "2017-12-31 23:00:00          241.2          147.6          115.2   \n",
       "2017-12-31 23:30:00          241.2          122.4          100.8   \n",
       "\n",
       "                     node_9_demand  ...  link_23_flow  link_24_flow  \\\n",
       "Timestamp                           ...                               \n",
       "2017-01-01 00:00:00          104.4  ...         439.2        -205.2   \n",
       "2017-01-01 00:30:00           90.0  ...         392.4        -187.2   \n",
       "2017-01-01 01:00:00           90.0  ...         349.2        -176.4   \n",
       "2017-01-01 01:30:00           82.8  ...         316.8        -158.4   \n",
       "2017-01-01 02:00:00           75.6  ...         277.2        -144.0   \n",
       "...                            ...  ...           ...           ...   \n",
       "2017-12-31 21:30:00          129.6  ...         604.8        -259.2   \n",
       "2017-12-31 22:00:00          133.2  ...         565.2        -241.2   \n",
       "2017-12-31 22:30:00          126.0  ...         529.2        -226.8   \n",
       "2017-12-31 23:00:00          111.6  ...         496.8        -208.8   \n",
       "2017-12-31 23:30:00           93.6  ...         421.2        -180.0   \n",
       "\n",
       "                     link_25_flow  link_26_flow  link_27_flow  link_28_flow  \\\n",
       "Timestamp                                                                     \n",
       "2017-01-01 00:00:00         -75.6         -18.0         118.8          68.4   \n",
       "2017-01-01 00:30:00         -72.0         -21.6         108.0          61.2   \n",
       "2017-01-01 01:00:00         -64.8         -18.0          93.6          50.4   \n",
       "2017-01-01 01:30:00         -54.0         -10.8          79.2          46.8   \n",
       "2017-01-01 02:00:00         -57.6         -18.0          72.0          39.6   \n",
       "...                           ...           ...           ...           ...   \n",
       "2017-12-31 21:30:00          32.4         115.2         169.2         100.8   \n",
       "2017-12-31 22:00:00          21.6         100.8         154.8          86.4   \n",
       "2017-12-31 22:30:00          21.6         100.8         147.6          86.4   \n",
       "2017-12-31 23:00:00          21.6          93.6         133.2          79.2   \n",
       "2017-12-31 23:30:00          28.8          86.4         118.8          68.4   \n",
       "\n",
       "                     link_29_flow  link_30_flow  link_31_flow  link_32_flow  \n",
       "Timestamp                                                                    \n",
       "2017-01-01 00:00:00           7.2         -54.0          75.6         212.4  \n",
       "2017-01-01 00:30:00           3.6         -54.0          72.0         183.6  \n",
       "2017-01-01 01:00:00           3.6         -39.6          54.0         151.2  \n",
       "2017-01-01 01:30:00           7.2         -32.4          50.4         140.4  \n",
       "2017-01-01 02:00:00           7.2         -32.4          43.2         118.8  \n",
       "...                           ...           ...           ...           ...  \n",
       "2017-12-31 21:30:00          10.8        -100.8         122.4         309.6  \n",
       "2017-12-31 22:00:00          18.0         -75.6         100.8         288.0  \n",
       "2017-12-31 22:30:00          14.4         -86.4         108.0         266.4  \n",
       "2017-12-31 23:00:00          14.4         -75.6          97.2         255.6  \n",
       "2017-12-31 23:30:00          10.8         -68.4          86.4         216.0  \n",
       "\n",
       "[87600 rows x 96 columns]"
      ]
     },
     "execution_count": 2,
     "metadata": {},
     "output_type": "execute_result"
    }
   ],
   "source": [
    "df = pd.read_csv('/Users/alexellard/Downloads/scenarios_data.csv', header=0, index_col=0)\n",
    "df"
   ]
  },
  {
   "cell_type": "code",
   "execution_count": 3,
   "metadata": {},
   "outputs": [
    {
     "name": "stdout",
     "output_type": "stream",
     "text": [
      "[[]]\n",
      "starting df shape: (87600, 96)\n",
      "This is training run 1 and has the shape:  (87600, 96)\n",
      "The value of dropped columns is 0\n"
     ]
    },
    {
     "name": "stderr",
     "output_type": "stream",
     "text": [
      "/Users/alexellard/opt/anaconda3/lib/python3.7/site-packages/xgboost/data.py:96: UserWarning: Use subset (sliced data) of np.ndarray is not recommended because it will generate extra copies and increase memory consumption\n",
      "  \"because it will generate extra copies and increase \" +\n"
     ]
    },
    {
     "name": "stdout",
     "output_type": "stream",
     "text": [
      "test y shape : (17520, 1)\n",
      "Inv y shape : (17520, 96)\n"
     ]
    },
    {
     "name": "stderr",
     "output_type": "stream",
     "text": [
      "/Users/alexellard/opt/anaconda3/lib/python3.7/site-packages/xgboost/data.py:96: UserWarning: Use subset (sliced data) of np.ndarray is not recommended because it will generate extra copies and increase memory consumption\n",
      "  \"because it will generate extra copies and increase \" +\n"
     ]
    },
    {
     "name": "stdout",
     "output_type": "stream",
     "text": [
      "test y shape : (17520, 1)\n",
      "Inv y shape : (17520, 96)\n",
      "y pred shape : (17520, 1)\n",
      "inv y pred : (17520, 96)\n",
      "Run 1 Mean Absolute Error: 7.354637090832215\n",
      "RMSE: 10.219\n",
      "R^2: 1.000\n",
      "[[]]\n",
      "starting df shape: (87600, 96)\n",
      "This is training run 2 and has the shape:  (87600, 96)\n",
      "The value of dropped columns is 0\n"
     ]
    },
    {
     "name": "stderr",
     "output_type": "stream",
     "text": [
      "/Users/alexellard/opt/anaconda3/lib/python3.7/site-packages/xgboost/data.py:96: UserWarning: Use subset (sliced data) of np.ndarray is not recommended because it will generate extra copies and increase memory consumption\n",
      "  \"because it will generate extra copies and increase \" +\n"
     ]
    },
    {
     "name": "stdout",
     "output_type": "stream",
     "text": [
      "test y shape : (17520, 1)\n",
      "Inv y shape : (17520, 96)\n"
     ]
    },
    {
     "name": "stderr",
     "output_type": "stream",
     "text": [
      "/Users/alexellard/opt/anaconda3/lib/python3.7/site-packages/xgboost/data.py:96: UserWarning: Use subset (sliced data) of np.ndarray is not recommended because it will generate extra copies and increase memory consumption\n",
      "  \"because it will generate extra copies and increase \" +\n"
     ]
    },
    {
     "name": "stdout",
     "output_type": "stream",
     "text": [
      "test y shape : (17520, 1)\n",
      "Inv y shape : (17520, 96)\n",
      "y pred shape : (17520, 1)\n",
      "inv y pred : (17520, 96)\n",
      "Run 2 Mean Absolute Error: 7.354637090832215\n",
      "RMSE: 10.219\n",
      "R^2: 1.000\n",
      "[[]]\n",
      "starting df shape: (87600, 96)\n",
      "This is training run 3 and has the shape:  (87600, 96)\n",
      "The value of dropped columns is 0\n"
     ]
    },
    {
     "name": "stderr",
     "output_type": "stream",
     "text": [
      "/Users/alexellard/opt/anaconda3/lib/python3.7/site-packages/xgboost/data.py:96: UserWarning: Use subset (sliced data) of np.ndarray is not recommended because it will generate extra copies and increase memory consumption\n",
      "  \"because it will generate extra copies and increase \" +\n"
     ]
    },
    {
     "name": "stdout",
     "output_type": "stream",
     "text": [
      "test y shape : (17520, 1)\n",
      "Inv y shape : (17520, 96)\n"
     ]
    },
    {
     "name": "stderr",
     "output_type": "stream",
     "text": [
      "/Users/alexellard/opt/anaconda3/lib/python3.7/site-packages/xgboost/data.py:96: UserWarning: Use subset (sliced data) of np.ndarray is not recommended because it will generate extra copies and increase memory consumption\n",
      "  \"because it will generate extra copies and increase \" +\n"
     ]
    },
    {
     "name": "stdout",
     "output_type": "stream",
     "text": [
      "test y shape : (17520, 1)\n",
      "Inv y shape : (17520, 96)\n",
      "y pred shape : (17520, 1)\n",
      "inv y pred : (17520, 96)\n",
      "Run 3 Mean Absolute Error: 7.354637090832215\n",
      "RMSE: 10.219\n",
      "R^2: 1.000\n",
      "[[]]\n",
      "starting df shape: (87600, 96)\n",
      "This is training run 4 and has the shape:  (87600, 96)\n",
      "The value of dropped columns is 0\n"
     ]
    },
    {
     "name": "stderr",
     "output_type": "stream",
     "text": [
      "/Users/alexellard/opt/anaconda3/lib/python3.7/site-packages/xgboost/data.py:96: UserWarning: Use subset (sliced data) of np.ndarray is not recommended because it will generate extra copies and increase memory consumption\n",
      "  \"because it will generate extra copies and increase \" +\n"
     ]
    },
    {
     "name": "stdout",
     "output_type": "stream",
     "text": [
      "test y shape : (17520, 1)\n",
      "Inv y shape : (17520, 96)\n"
     ]
    },
    {
     "name": "stderr",
     "output_type": "stream",
     "text": [
      "/Users/alexellard/opt/anaconda3/lib/python3.7/site-packages/xgboost/data.py:96: UserWarning: Use subset (sliced data) of np.ndarray is not recommended because it will generate extra copies and increase memory consumption\n",
      "  \"because it will generate extra copies and increase \" +\n"
     ]
    },
    {
     "name": "stdout",
     "output_type": "stream",
     "text": [
      "test y shape : (17520, 1)\n",
      "Inv y shape : (17520, 96)\n",
      "y pred shape : (17520, 1)\n",
      "inv y pred : (17520, 96)\n",
      "Run 4 Mean Absolute Error: 7.354637090832215\n",
      "RMSE: 10.219\n",
      "R^2: 1.000\n",
      "[[]]\n",
      "starting df shape: (87600, 96)\n",
      "This is training run 5 and has the shape:  (87600, 96)\n",
      "The value of dropped columns is 0\n"
     ]
    },
    {
     "name": "stderr",
     "output_type": "stream",
     "text": [
      "/Users/alexellard/opt/anaconda3/lib/python3.7/site-packages/xgboost/data.py:96: UserWarning: Use subset (sliced data) of np.ndarray is not recommended because it will generate extra copies and increase memory consumption\n",
      "  \"because it will generate extra copies and increase \" +\n"
     ]
    },
    {
     "name": "stdout",
     "output_type": "stream",
     "text": [
      "test y shape : (17520, 1)\n",
      "Inv y shape : (17520, 96)\n"
     ]
    },
    {
     "name": "stderr",
     "output_type": "stream",
     "text": [
      "/Users/alexellard/opt/anaconda3/lib/python3.7/site-packages/xgboost/data.py:96: UserWarning: Use subset (sliced data) of np.ndarray is not recommended because it will generate extra copies and increase memory consumption\n",
      "  \"because it will generate extra copies and increase \" +\n"
     ]
    },
    {
     "name": "stdout",
     "output_type": "stream",
     "text": [
      "test y shape : (17520, 1)\n",
      "Inv y shape : (17520, 96)\n",
      "y pred shape : (17520, 1)\n",
      "inv y pred : (17520, 96)\n",
      "Run 5 Mean Absolute Error: 7.354637090832215\n",
      "RMSE: 10.219\n",
      "R^2: 1.000\n",
      "[[]]\n",
      "starting df shape: (87600, 96)\n",
      "This is training run 6 and has the shape:  (87600, 96)\n",
      "The value of dropped columns is 0\n"
     ]
    },
    {
     "name": "stderr",
     "output_type": "stream",
     "text": [
      "/Users/alexellard/opt/anaconda3/lib/python3.7/site-packages/xgboost/data.py:96: UserWarning: Use subset (sliced data) of np.ndarray is not recommended because it will generate extra copies and increase memory consumption\n",
      "  \"because it will generate extra copies and increase \" +\n"
     ]
    },
    {
     "name": "stdout",
     "output_type": "stream",
     "text": [
      "test y shape : (17520, 1)\n",
      "Inv y shape : (17520, 96)\n"
     ]
    },
    {
     "name": "stderr",
     "output_type": "stream",
     "text": [
      "/Users/alexellard/opt/anaconda3/lib/python3.7/site-packages/xgboost/data.py:96: UserWarning: Use subset (sliced data) of np.ndarray is not recommended because it will generate extra copies and increase memory consumption\n",
      "  \"because it will generate extra copies and increase \" +\n"
     ]
    },
    {
     "name": "stdout",
     "output_type": "stream",
     "text": [
      "test y shape : (17520, 1)\n",
      "Inv y shape : (17520, 96)\n",
      "y pred shape : (17520, 1)\n",
      "inv y pred : (17520, 96)\n",
      "Run 6 Mean Absolute Error: 7.354637090832215\n",
      "RMSE: 10.219\n",
      "R^2: 1.000\n",
      "[[]]\n",
      "starting df shape: (87600, 96)\n",
      "This is training run 7 and has the shape:  (87600, 96)\n",
      "The value of dropped columns is 0\n"
     ]
    },
    {
     "name": "stderr",
     "output_type": "stream",
     "text": [
      "/Users/alexellard/opt/anaconda3/lib/python3.7/site-packages/xgboost/data.py:96: UserWarning: Use subset (sliced data) of np.ndarray is not recommended because it will generate extra copies and increase memory consumption\n",
      "  \"because it will generate extra copies and increase \" +\n"
     ]
    },
    {
     "name": "stdout",
     "output_type": "stream",
     "text": [
      "test y shape : (17520, 1)\n",
      "Inv y shape : (17520, 96)\n"
     ]
    },
    {
     "name": "stderr",
     "output_type": "stream",
     "text": [
      "/Users/alexellard/opt/anaconda3/lib/python3.7/site-packages/xgboost/data.py:96: UserWarning: Use subset (sliced data) of np.ndarray is not recommended because it will generate extra copies and increase memory consumption\n",
      "  \"because it will generate extra copies and increase \" +\n"
     ]
    },
    {
     "name": "stdout",
     "output_type": "stream",
     "text": [
      "test y shape : (17520, 1)\n",
      "Inv y shape : (17520, 96)\n",
      "y pred shape : (17520, 1)\n",
      "inv y pred : (17520, 96)\n",
      "Run 7 Mean Absolute Error: 7.354637090832215\n",
      "RMSE: 10.219\n",
      "R^2: 1.000\n",
      "[[]]\n",
      "starting df shape: (87600, 96)\n",
      "This is training run 8 and has the shape:  (87600, 96)\n",
      "The value of dropped columns is 0\n"
     ]
    },
    {
     "name": "stderr",
     "output_type": "stream",
     "text": [
      "/Users/alexellard/opt/anaconda3/lib/python3.7/site-packages/xgboost/data.py:96: UserWarning: Use subset (sliced data) of np.ndarray is not recommended because it will generate extra copies and increase memory consumption\n",
      "  \"because it will generate extra copies and increase \" +\n"
     ]
    },
    {
     "name": "stdout",
     "output_type": "stream",
     "text": [
      "test y shape : (17520, 1)\n",
      "Inv y shape : (17520, 96)\n"
     ]
    },
    {
     "name": "stderr",
     "output_type": "stream",
     "text": [
      "/Users/alexellard/opt/anaconda3/lib/python3.7/site-packages/xgboost/data.py:96: UserWarning: Use subset (sliced data) of np.ndarray is not recommended because it will generate extra copies and increase memory consumption\n",
      "  \"because it will generate extra copies and increase \" +\n"
     ]
    },
    {
     "name": "stdout",
     "output_type": "stream",
     "text": [
      "test y shape : (17520, 1)\n",
      "Inv y shape : (17520, 96)\n",
      "y pred shape : (17520, 1)\n",
      "inv y pred : (17520, 96)\n",
      "Run 8 Mean Absolute Error: 7.354637090832215\n",
      "RMSE: 10.219\n",
      "R^2: 1.000\n",
      "[[]]\n",
      "starting df shape: (87600, 96)\n",
      "This is training run 9 and has the shape:  (87600, 96)\n",
      "The value of dropped columns is 0\n"
     ]
    },
    {
     "name": "stderr",
     "output_type": "stream",
     "text": [
      "/Users/alexellard/opt/anaconda3/lib/python3.7/site-packages/xgboost/data.py:96: UserWarning: Use subset (sliced data) of np.ndarray is not recommended because it will generate extra copies and increase memory consumption\n",
      "  \"because it will generate extra copies and increase \" +\n"
     ]
    },
    {
     "name": "stdout",
     "output_type": "stream",
     "text": [
      "test y shape : (17520, 1)\n",
      "Inv y shape : (17520, 96)\n"
     ]
    },
    {
     "name": "stderr",
     "output_type": "stream",
     "text": [
      "/Users/alexellard/opt/anaconda3/lib/python3.7/site-packages/xgboost/data.py:96: UserWarning: Use subset (sliced data) of np.ndarray is not recommended because it will generate extra copies and increase memory consumption\n",
      "  \"because it will generate extra copies and increase \" +\n"
     ]
    },
    {
     "name": "stdout",
     "output_type": "stream",
     "text": [
      "test y shape : (17520, 1)\n",
      "Inv y shape : (17520, 96)\n",
      "y pred shape : (17520, 1)\n",
      "inv y pred : (17520, 96)\n",
      "Run 9 Mean Absolute Error: 7.354637090832215\n",
      "RMSE: 10.219\n",
      "R^2: 1.000\n",
      "[[]]\n",
      "starting df shape: (87600, 96)\n",
      "This is training run 10 and has the shape:  (87600, 96)\n",
      "The value of dropped columns is 0\n"
     ]
    },
    {
     "name": "stderr",
     "output_type": "stream",
     "text": [
      "/Users/alexellard/opt/anaconda3/lib/python3.7/site-packages/xgboost/data.py:96: UserWarning: Use subset (sliced data) of np.ndarray is not recommended because it will generate extra copies and increase memory consumption\n",
      "  \"because it will generate extra copies and increase \" +\n"
     ]
    },
    {
     "name": "stdout",
     "output_type": "stream",
     "text": [
      "test y shape : (17520, 1)\n",
      "Inv y shape : (17520, 96)\n"
     ]
    },
    {
     "name": "stderr",
     "output_type": "stream",
     "text": [
      "/Users/alexellard/opt/anaconda3/lib/python3.7/site-packages/xgboost/data.py:96: UserWarning: Use subset (sliced data) of np.ndarray is not recommended because it will generate extra copies and increase memory consumption\n",
      "  \"because it will generate extra copies and increase \" +\n"
     ]
    },
    {
     "name": "stdout",
     "output_type": "stream",
     "text": [
      "test y shape : (17520, 1)\n",
      "Inv y shape : (17520, 96)\n",
      "y pred shape : (17520, 1)\n",
      "inv y pred : (17520, 96)\n",
      "Run 10 Mean Absolute Error: 7.354637090832215\n",
      "RMSE: 10.219\n",
      "R^2: 1.000\n",
      "[['node_21_pressure', 'node_11_demand', 'link_24_flow', 'link_12_flow', 'link_26_flow']]\n",
      "starting df shape: (87600, 91)\n",
      "This is training run 1 and has the shape:  (87600, 91)\n",
      "The value of dropped columns is 5\n"
     ]
    },
    {
     "name": "stderr",
     "output_type": "stream",
     "text": [
      "/Users/alexellard/opt/anaconda3/lib/python3.7/site-packages/xgboost/data.py:96: UserWarning: Use subset (sliced data) of np.ndarray is not recommended because it will generate extra copies and increase memory consumption\n",
      "  \"because it will generate extra copies and increase \" +\n"
     ]
    },
    {
     "name": "stdout",
     "output_type": "stream",
     "text": [
      "test y shape : (17520, 1)\n",
      "Inv y shape : (17520, 91)\n"
     ]
    },
    {
     "name": "stderr",
     "output_type": "stream",
     "text": [
      "/Users/alexellard/opt/anaconda3/lib/python3.7/site-packages/xgboost/data.py:96: UserWarning: Use subset (sliced data) of np.ndarray is not recommended because it will generate extra copies and increase memory consumption\n",
      "  \"because it will generate extra copies and increase \" +\n"
     ]
    },
    {
     "name": "stdout",
     "output_type": "stream",
     "text": [
      "test y shape : (17520, 1)\n",
      "Inv y shape : (17520, 91)\n",
      "y pred shape : (17520, 1)\n",
      "inv y pred : (17520, 91)\n",
      "Run 1 Mean Absolute Error: 7.86278695818408\n",
      "RMSE: 10.864\n",
      "R^2: 1.000\n",
      "[['node_22_pressure', 'link_29_flow', 'node_30_demand', 'link_17_flow', 'node_12_pressure']]\n",
      "starting df shape: (87600, 91)\n",
      "This is training run 2 and has the shape:  (87600, 91)\n",
      "The value of dropped columns is 5\n"
     ]
    },
    {
     "name": "stderr",
     "output_type": "stream",
     "text": [
      "/Users/alexellard/opt/anaconda3/lib/python3.7/site-packages/xgboost/data.py:96: UserWarning: Use subset (sliced data) of np.ndarray is not recommended because it will generate extra copies and increase memory consumption\n",
      "  \"because it will generate extra copies and increase \" +\n"
     ]
    },
    {
     "name": "stdout",
     "output_type": "stream",
     "text": [
      "test y shape : (17520, 1)\n",
      "Inv y shape : (17520, 91)\n"
     ]
    },
    {
     "name": "stderr",
     "output_type": "stream",
     "text": [
      "/Users/alexellard/opt/anaconda3/lib/python3.7/site-packages/xgboost/data.py:96: UserWarning: Use subset (sliced data) of np.ndarray is not recommended because it will generate extra copies and increase memory consumption\n",
      "  \"because it will generate extra copies and increase \" +\n"
     ]
    },
    {
     "name": "stdout",
     "output_type": "stream",
     "text": [
      "test y shape : (17520, 1)\n",
      "Inv y shape : (17520, 91)\n",
      "y pred shape : (17520, 1)\n",
      "inv y pred : (17520, 91)\n",
      "Run 2 Mean Absolute Error: 7.5118291458615465\n",
      "RMSE: 10.607\n",
      "R^2: 1.000\n",
      "[['node_9_demand', 'node_2_pressure', 'node_8_pressure', 'link_16_flow', 'link_26_flow']]\n",
      "starting df shape: (87600, 91)\n",
      "This is training run 3 and has the shape:  (87600, 91)\n",
      "The value of dropped columns is 5\n"
     ]
    },
    {
     "name": "stderr",
     "output_type": "stream",
     "text": [
      "/Users/alexellard/opt/anaconda3/lib/python3.7/site-packages/xgboost/data.py:96: UserWarning: Use subset (sliced data) of np.ndarray is not recommended because it will generate extra copies and increase memory consumption\n",
      "  \"because it will generate extra copies and increase \" +\n"
     ]
    },
    {
     "name": "stdout",
     "output_type": "stream",
     "text": [
      "test y shape : (17520, 1)\n",
      "Inv y shape : (17520, 91)\n"
     ]
    },
    {
     "name": "stderr",
     "output_type": "stream",
     "text": [
      "/Users/alexellard/opt/anaconda3/lib/python3.7/site-packages/xgboost/data.py:96: UserWarning: Use subset (sliced data) of np.ndarray is not recommended because it will generate extra copies and increase memory consumption\n",
      "  \"because it will generate extra copies and increase \" +\n"
     ]
    },
    {
     "name": "stdout",
     "output_type": "stream",
     "text": [
      "test y shape : (17520, 1)\n",
      "Inv y shape : (17520, 91)\n",
      "y pred shape : (17520, 1)\n",
      "inv y pred : (17520, 91)\n",
      "Run 3 Mean Absolute Error: 7.854166365539749\n",
      "RMSE: 11.110\n",
      "R^2: 1.000\n",
      "[['node_2_pressure', 'link_27_flow', 'node_21_pressure', 'link_25_flow', 'link_4_flow']]\n",
      "starting df shape: (87600, 91)\n",
      "This is training run 4 and has the shape:  (87600, 91)\n",
      "The value of dropped columns is 5\n"
     ]
    },
    {
     "name": "stderr",
     "output_type": "stream",
     "text": [
      "/Users/alexellard/opt/anaconda3/lib/python3.7/site-packages/xgboost/data.py:96: UserWarning: Use subset (sliced data) of np.ndarray is not recommended because it will generate extra copies and increase memory consumption\n",
      "  \"because it will generate extra copies and increase \" +\n"
     ]
    },
    {
     "name": "stdout",
     "output_type": "stream",
     "text": [
      "test y shape : (17520, 1)\n",
      "Inv y shape : (17520, 91)\n"
     ]
    },
    {
     "name": "stderr",
     "output_type": "stream",
     "text": [
      "/Users/alexellard/opt/anaconda3/lib/python3.7/site-packages/xgboost/data.py:96: UserWarning: Use subset (sliced data) of np.ndarray is not recommended because it will generate extra copies and increase memory consumption\n",
      "  \"because it will generate extra copies and increase \" +\n"
     ]
    },
    {
     "name": "stdout",
     "output_type": "stream",
     "text": [
      "test y shape : (17520, 1)\n",
      "Inv y shape : (17520, 91)\n",
      "y pred shape : (17520, 1)\n",
      "inv y pred : (17520, 91)\n",
      "Run 4 Mean Absolute Error: 7.813123011442837\n",
      "RMSE: 10.825\n",
      "R^2: 1.000\n",
      "[['reservoir_pressure', 'link_22_flow', 'node_24_demand', 'node_22_pressure', 'node_12_pressure']]\n",
      "starting df shape: (87600, 91)\n",
      "This is training run 5 and has the shape:  (87600, 91)\n",
      "The value of dropped columns is 5\n"
     ]
    },
    {
     "name": "stderr",
     "output_type": "stream",
     "text": [
      "/Users/alexellard/opt/anaconda3/lib/python3.7/site-packages/xgboost/data.py:96: UserWarning: Use subset (sliced data) of np.ndarray is not recommended because it will generate extra copies and increase memory consumption\n",
      "  \"because it will generate extra copies and increase \" +\n"
     ]
    },
    {
     "name": "stdout",
     "output_type": "stream",
     "text": [
      "test y shape : (17520, 1)\n",
      "Inv y shape : (17520, 91)\n"
     ]
    },
    {
     "name": "stderr",
     "output_type": "stream",
     "text": [
      "/Users/alexellard/opt/anaconda3/lib/python3.7/site-packages/xgboost/data.py:96: UserWarning: Use subset (sliced data) of np.ndarray is not recommended because it will generate extra copies and increase memory consumption\n",
      "  \"because it will generate extra copies and increase \" +\n"
     ]
    },
    {
     "name": "stdout",
     "output_type": "stream",
     "text": [
      "test y shape : (17520, 1)\n",
      "Inv y shape : (17520, 91)\n",
      "y pred shape : (17520, 1)\n",
      "inv y pred : (17520, 91)\n",
      "Run 5 Mean Absolute Error: 7.567755637770531\n",
      "RMSE: 10.794\n",
      "R^2: 1.000\n",
      "[['node_10_demand', 'link_31_flow', 'node_29_demand', 'node_7_pressure', 'node_28_pressure']]\n",
      "starting df shape: (87600, 91)\n",
      "This is training run 6 and has the shape:  (87600, 91)\n",
      "The value of dropped columns is 5\n"
     ]
    },
    {
     "name": "stderr",
     "output_type": "stream",
     "text": [
      "/Users/alexellard/opt/anaconda3/lib/python3.7/site-packages/xgboost/data.py:96: UserWarning: Use subset (sliced data) of np.ndarray is not recommended because it will generate extra copies and increase memory consumption\n",
      "  \"because it will generate extra copies and increase \" +\n"
     ]
    },
    {
     "name": "stdout",
     "output_type": "stream",
     "text": [
      "test y shape : (17520, 1)\n",
      "Inv y shape : (17520, 91)\n"
     ]
    },
    {
     "name": "stderr",
     "output_type": "stream",
     "text": [
      "/Users/alexellard/opt/anaconda3/lib/python3.7/site-packages/xgboost/data.py:96: UserWarning: Use subset (sliced data) of np.ndarray is not recommended because it will generate extra copies and increase memory consumption\n",
      "  \"because it will generate extra copies and increase \" +\n"
     ]
    },
    {
     "name": "stdout",
     "output_type": "stream",
     "text": [
      "test y shape : (17520, 1)\n",
      "Inv y shape : (17520, 91)\n",
      "y pred shape : (17520, 1)\n",
      "inv y pred : (17520, 91)\n",
      "Run 6 Mean Absolute Error: 7.830318338067414\n",
      "RMSE: 11.061\n",
      "R^2: 1.000\n",
      "[['link_9_flow', 'link_26_flow', 'node_13_pressure', 'node_30_demand', 'node_13_demand']]\n",
      "starting df shape: (87600, 91)\n",
      "This is training run 7 and has the shape:  (87600, 91)\n",
      "The value of dropped columns is 5\n"
     ]
    },
    {
     "name": "stderr",
     "output_type": "stream",
     "text": [
      "/Users/alexellard/opt/anaconda3/lib/python3.7/site-packages/xgboost/data.py:96: UserWarning: Use subset (sliced data) of np.ndarray is not recommended because it will generate extra copies and increase memory consumption\n",
      "  \"because it will generate extra copies and increase \" +\n"
     ]
    },
    {
     "name": "stdout",
     "output_type": "stream",
     "text": [
      "test y shape : (17520, 1)\n",
      "Inv y shape : (17520, 91)\n"
     ]
    },
    {
     "name": "stderr",
     "output_type": "stream",
     "text": [
      "/Users/alexellard/opt/anaconda3/lib/python3.7/site-packages/xgboost/data.py:96: UserWarning: Use subset (sliced data) of np.ndarray is not recommended because it will generate extra copies and increase memory consumption\n",
      "  \"because it will generate extra copies and increase \" +\n"
     ]
    },
    {
     "name": "stdout",
     "output_type": "stream",
     "text": [
      "test y shape : (17520, 1)\n",
      "Inv y shape : (17520, 91)\n",
      "y pred shape : (17520, 1)\n",
      "inv y pred : (17520, 91)\n",
      "Run 7 Mean Absolute Error: 7.554388958492593\n",
      "RMSE: 10.520\n",
      "R^2: 1.000\n",
      "[['link_28_flow', 'node_21_demand', 'node_22_pressure', 'link_23_flow', 'link_22_flow']]\n",
      "starting df shape: (87600, 91)\n",
      "This is training run 8 and has the shape:  (87600, 91)\n",
      "The value of dropped columns is 5\n"
     ]
    },
    {
     "name": "stderr",
     "output_type": "stream",
     "text": [
      "/Users/alexellard/opt/anaconda3/lib/python3.7/site-packages/xgboost/data.py:96: UserWarning: Use subset (sliced data) of np.ndarray is not recommended because it will generate extra copies and increase memory consumption\n",
      "  \"because it will generate extra copies and increase \" +\n"
     ]
    },
    {
     "name": "stdout",
     "output_type": "stream",
     "text": [
      "test y shape : (17520, 1)\n",
      "Inv y shape : (17520, 91)\n"
     ]
    },
    {
     "name": "stderr",
     "output_type": "stream",
     "text": [
      "/Users/alexellard/opt/anaconda3/lib/python3.7/site-packages/xgboost/data.py:96: UserWarning: Use subset (sliced data) of np.ndarray is not recommended because it will generate extra copies and increase memory consumption\n",
      "  \"because it will generate extra copies and increase \" +\n"
     ]
    },
    {
     "name": "stdout",
     "output_type": "stream",
     "text": [
      "test y shape : (17520, 1)\n",
      "Inv y shape : (17520, 91)\n",
      "y pred shape : (17520, 1)\n",
      "inv y pred : (17520, 91)\n",
      "Run 8 Mean Absolute Error: 7.753423580363137\n",
      "RMSE: 10.818\n",
      "R^2: 1.000\n",
      "[['node_12_demand', 'node_19_pressure', 'node_5_demand', 'link_6_flow', 'node_30_pressure']]\n",
      "starting df shape: (87600, 91)\n",
      "This is training run 9 and has the shape:  (87600, 91)\n",
      "The value of dropped columns is 5\n"
     ]
    },
    {
     "name": "stderr",
     "output_type": "stream",
     "text": [
      "/Users/alexellard/opt/anaconda3/lib/python3.7/site-packages/xgboost/data.py:96: UserWarning: Use subset (sliced data) of np.ndarray is not recommended because it will generate extra copies and increase memory consumption\n",
      "  \"because it will generate extra copies and increase \" +\n"
     ]
    },
    {
     "name": "stdout",
     "output_type": "stream",
     "text": [
      "test y shape : (17520, 1)\n",
      "Inv y shape : (17520, 91)\n"
     ]
    },
    {
     "name": "stderr",
     "output_type": "stream",
     "text": [
      "/Users/alexellard/opt/anaconda3/lib/python3.7/site-packages/xgboost/data.py:96: UserWarning: Use subset (sliced data) of np.ndarray is not recommended because it will generate extra copies and increase memory consumption\n",
      "  \"because it will generate extra copies and increase \" +\n"
     ]
    },
    {
     "name": "stdout",
     "output_type": "stream",
     "text": [
      "test y shape : (17520, 1)\n",
      "Inv y shape : (17520, 91)\n",
      "y pred shape : (17520, 1)\n",
      "inv y pred : (17520, 91)\n",
      "Run 9 Mean Absolute Error: 7.96115285922161\n",
      "RMSE: 11.184\n",
      "R^2: 1.000\n",
      "[['node_9_demand', 'link_22_flow', 'node_15_pressure', 'node_21_demand']]\n",
      "starting df shape: (87600, 92)\n",
      "This is training run 10 and has the shape:  (87600, 92)\n",
      "The value of dropped columns is 5\n"
     ]
    },
    {
     "name": "stderr",
     "output_type": "stream",
     "text": [
      "/Users/alexellard/opt/anaconda3/lib/python3.7/site-packages/xgboost/data.py:96: UserWarning: Use subset (sliced data) of np.ndarray is not recommended because it will generate extra copies and increase memory consumption\n",
      "  \"because it will generate extra copies and increase \" +\n"
     ]
    },
    {
     "name": "stdout",
     "output_type": "stream",
     "text": [
      "test y shape : (17520, 1)\n",
      "Inv y shape : (17520, 92)\n"
     ]
    },
    {
     "name": "stderr",
     "output_type": "stream",
     "text": [
      "/Users/alexellard/opt/anaconda3/lib/python3.7/site-packages/xgboost/data.py:96: UserWarning: Use subset (sliced data) of np.ndarray is not recommended because it will generate extra copies and increase memory consumption\n",
      "  \"because it will generate extra copies and increase \" +\n"
     ]
    },
    {
     "name": "stdout",
     "output_type": "stream",
     "text": [
      "test y shape : (17520, 1)\n",
      "Inv y shape : (17520, 92)\n",
      "y pred shape : (17520, 1)\n",
      "inv y pred : (17520, 92)\n",
      "Run 10 Mean Absolute Error: 7.910602239593714\n",
      "RMSE: 10.804\n",
      "R^2: 1.000\n",
      "[['node_14_demand', 'link_26_flow', 'node_5_pressure', 'node_15_pressure', 'node_3_pressure', 'node_22_demand', 'node_1_demand', 'link_12_flow', 'node_8_pressure']]\n",
      "starting df shape: (87600, 87)\n",
      "This is training run 1 and has the shape:  (87600, 87)\n",
      "The value of dropped columns is 10\n"
     ]
    },
    {
     "name": "stderr",
     "output_type": "stream",
     "text": [
      "/Users/alexellard/opt/anaconda3/lib/python3.7/site-packages/xgboost/data.py:96: UserWarning: Use subset (sliced data) of np.ndarray is not recommended because it will generate extra copies and increase memory consumption\n",
      "  \"because it will generate extra copies and increase \" +\n"
     ]
    },
    {
     "name": "stdout",
     "output_type": "stream",
     "text": [
      "test y shape : (17520, 1)\n",
      "Inv y shape : (17520, 87)\n"
     ]
    },
    {
     "name": "stderr",
     "output_type": "stream",
     "text": [
      "/Users/alexellard/opt/anaconda3/lib/python3.7/site-packages/xgboost/data.py:96: UserWarning: Use subset (sliced data) of np.ndarray is not recommended because it will generate extra copies and increase memory consumption\n",
      "  \"because it will generate extra copies and increase \" +\n"
     ]
    },
    {
     "name": "stdout",
     "output_type": "stream",
     "text": [
      "test y shape : (17520, 1)\n",
      "Inv y shape : (17520, 87)\n",
      "y pred shape : (17520, 1)\n",
      "inv y pred : (17520, 87)\n",
      "Run 1 Mean Absolute Error: 8.2295339485561\n",
      "RMSE: 11.404\n",
      "R^2: 1.000\n",
      "[['link_25_flow', 'link_16_flow', 'node_22_demand', 'link_6_flow', 'node_15_demand', 'node_30_demand', 'node_1_pressure', 'link_22_flow', 'link_10_flow', 'node_19_demand']]\n",
      "starting df shape: (87600, 86)\n",
      "This is training run 2 and has the shape:  (87600, 86)\n",
      "The value of dropped columns is 10\n"
     ]
    },
    {
     "name": "stderr",
     "output_type": "stream",
     "text": [
      "/Users/alexellard/opt/anaconda3/lib/python3.7/site-packages/xgboost/data.py:96: UserWarning: Use subset (sliced data) of np.ndarray is not recommended because it will generate extra copies and increase memory consumption\n",
      "  \"because it will generate extra copies and increase \" +\n"
     ]
    },
    {
     "name": "stdout",
     "output_type": "stream",
     "text": [
      "test y shape : (17520, 1)\n",
      "Inv y shape : (17520, 86)\n"
     ]
    },
    {
     "name": "stderr",
     "output_type": "stream",
     "text": [
      "/Users/alexellard/opt/anaconda3/lib/python3.7/site-packages/xgboost/data.py:96: UserWarning: Use subset (sliced data) of np.ndarray is not recommended because it will generate extra copies and increase memory consumption\n",
      "  \"because it will generate extra copies and increase \" +\n"
     ]
    },
    {
     "name": "stdout",
     "output_type": "stream",
     "text": [
      "test y shape : (17520, 1)\n",
      "Inv y shape : (17520, 86)\n",
      "y pred shape : (17520, 1)\n",
      "inv y pred : (17520, 86)\n",
      "Run 2 Mean Absolute Error: 7.713926858480741\n",
      "RMSE: 10.659\n",
      "R^2: 1.000\n",
      "[['node_8_demand', 'node_18_pressure', 'node_21_demand', 'node_26_demand', 'link_31_flow', 'reservoir_pressure', 'node_31_demand', 'link_9_flow', 'node_14_demand', 'node_28_pressure']]\n",
      "starting df shape: (87600, 86)\n",
      "This is training run 3 and has the shape:  (87600, 86)\n",
      "The value of dropped columns is 10\n"
     ]
    },
    {
     "name": "stderr",
     "output_type": "stream",
     "text": [
      "/Users/alexellard/opt/anaconda3/lib/python3.7/site-packages/xgboost/data.py:96: UserWarning: Use subset (sliced data) of np.ndarray is not recommended because it will generate extra copies and increase memory consumption\n",
      "  \"because it will generate extra copies and increase \" +\n"
     ]
    },
    {
     "name": "stdout",
     "output_type": "stream",
     "text": [
      "test y shape : (17520, 1)\n",
      "Inv y shape : (17520, 86)\n"
     ]
    },
    {
     "name": "stderr",
     "output_type": "stream",
     "text": [
      "/Users/alexellard/opt/anaconda3/lib/python3.7/site-packages/xgboost/data.py:96: UserWarning: Use subset (sliced data) of np.ndarray is not recommended because it will generate extra copies and increase memory consumption\n",
      "  \"because it will generate extra copies and increase \" +\n"
     ]
    },
    {
     "name": "stdout",
     "output_type": "stream",
     "text": [
      "test y shape : (17520, 1)\n",
      "Inv y shape : (17520, 86)\n",
      "y pred shape : (17520, 1)\n",
      "inv y pred : (17520, 86)\n",
      "Run 3 Mean Absolute Error: 7.573620295474779\n",
      "RMSE: 10.490\n",
      "R^2: 1.000\n",
      "[['node_27_pressure', 'node_8_demand', 'node_11_demand', 'node_9_pressure', 'link_2_flow', 'link_8_flow', 'node_27_demand', 'node_17_demand', 'node_21_pressure', 'node_26_demand']]\n",
      "starting df shape: (87600, 86)\n",
      "This is training run 4 and has the shape:  (87600, 86)\n",
      "The value of dropped columns is 10\n"
     ]
    },
    {
     "name": "stderr",
     "output_type": "stream",
     "text": [
      "/Users/alexellard/opt/anaconda3/lib/python3.7/site-packages/xgboost/data.py:96: UserWarning: Use subset (sliced data) of np.ndarray is not recommended because it will generate extra copies and increase memory consumption\n",
      "  \"because it will generate extra copies and increase \" +\n"
     ]
    },
    {
     "name": "stdout",
     "output_type": "stream",
     "text": [
      "test y shape : (17520, 1)\n",
      "Inv y shape : (17520, 86)\n"
     ]
    },
    {
     "name": "stderr",
     "output_type": "stream",
     "text": [
      "/Users/alexellard/opt/anaconda3/lib/python3.7/site-packages/xgboost/data.py:96: UserWarning: Use subset (sliced data) of np.ndarray is not recommended because it will generate extra copies and increase memory consumption\n",
      "  \"because it will generate extra copies and increase \" +\n"
     ]
    },
    {
     "name": "stdout",
     "output_type": "stream",
     "text": [
      "test y shape : (17520, 1)\n",
      "Inv y shape : (17520, 86)\n",
      "y pred shape : (17520, 1)\n",
      "inv y pred : (17520, 86)\n",
      "Run 4 Mean Absolute Error: 7.768668145921828\n",
      "RMSE: 10.855\n",
      "R^2: 1.000\n",
      "[['link_20_flow', 'node_12_pressure', 'link_30_flow', 'node_1_demand', 'node_23_pressure', 'node_18_pressure', 'link_12_flow', 'node_27_demand', 'node_13_demand']]\n",
      "starting df shape: (87600, 87)\n",
      "This is training run 5 and has the shape:  (87600, 87)\n",
      "The value of dropped columns is 10\n"
     ]
    },
    {
     "name": "stderr",
     "output_type": "stream",
     "text": [
      "/Users/alexellard/opt/anaconda3/lib/python3.7/site-packages/xgboost/data.py:96: UserWarning: Use subset (sliced data) of np.ndarray is not recommended because it will generate extra copies and increase memory consumption\n",
      "  \"because it will generate extra copies and increase \" +\n"
     ]
    },
    {
     "name": "stdout",
     "output_type": "stream",
     "text": [
      "test y shape : (17520, 1)\n",
      "Inv y shape : (17520, 87)\n"
     ]
    },
    {
     "name": "stderr",
     "output_type": "stream",
     "text": [
      "/Users/alexellard/opt/anaconda3/lib/python3.7/site-packages/xgboost/data.py:96: UserWarning: Use subset (sliced data) of np.ndarray is not recommended because it will generate extra copies and increase memory consumption\n",
      "  \"because it will generate extra copies and increase \" +\n"
     ]
    },
    {
     "name": "stdout",
     "output_type": "stream",
     "text": [
      "test y shape : (17520, 1)\n",
      "Inv y shape : (17520, 87)\n",
      "y pred shape : (17520, 1)\n",
      "inv y pred : (17520, 87)\n",
      "Run 5 Mean Absolute Error: 7.3760830227861724\n",
      "RMSE: 10.524\n",
      "R^2: 1.000\n",
      "[['node_15_pressure', 'node_9_demand', 'link_25_flow', 'node_23_demand', 'node_10_pressure', 'link_29_flow', 'node_26_demand', 'node_11_pressure', 'node_14_demand']]\n",
      "starting df shape: (87600, 87)\n",
      "This is training run 6 and has the shape:  (87600, 87)\n",
      "The value of dropped columns is 10\n"
     ]
    },
    {
     "name": "stderr",
     "output_type": "stream",
     "text": [
      "/Users/alexellard/opt/anaconda3/lib/python3.7/site-packages/xgboost/data.py:96: UserWarning: Use subset (sliced data) of np.ndarray is not recommended because it will generate extra copies and increase memory consumption\n",
      "  \"because it will generate extra copies and increase \" +\n"
     ]
    },
    {
     "name": "stdout",
     "output_type": "stream",
     "text": [
      "test y shape : (17520, 1)\n",
      "Inv y shape : (17520, 87)\n"
     ]
    },
    {
     "name": "stderr",
     "output_type": "stream",
     "text": [
      "/Users/alexellard/opt/anaconda3/lib/python3.7/site-packages/xgboost/data.py:96: UserWarning: Use subset (sliced data) of np.ndarray is not recommended because it will generate extra copies and increase memory consumption\n",
      "  \"because it will generate extra copies and increase \" +\n"
     ]
    },
    {
     "name": "stdout",
     "output_type": "stream",
     "text": [
      "test y shape : (17520, 1)\n",
      "Inv y shape : (17520, 87)\n",
      "y pred shape : (17520, 1)\n",
      "inv y pred : (17520, 87)\n",
      "Run 6 Mean Absolute Error: 7.976542506747127\n",
      "RMSE: 10.876\n",
      "R^2: 1.000\n",
      "[['node_10_demand', 'link_27_flow', 'node_18_pressure', 'node_30_demand', 'link_30_flow', 'node_2_pressure', 'node_4_pressure', 'node_20_demand', 'node_20_pressure', 'node_31_demand']]\n",
      "starting df shape: (87600, 86)\n",
      "This is training run 7 and has the shape:  (87600, 86)\n",
      "The value of dropped columns is 10\n"
     ]
    },
    {
     "name": "stderr",
     "output_type": "stream",
     "text": [
      "/Users/alexellard/opt/anaconda3/lib/python3.7/site-packages/xgboost/data.py:96: UserWarning: Use subset (sliced data) of np.ndarray is not recommended because it will generate extra copies and increase memory consumption\n",
      "  \"because it will generate extra copies and increase \" +\n"
     ]
    },
    {
     "name": "stdout",
     "output_type": "stream",
     "text": [
      "test y shape : (17520, 1)\n",
      "Inv y shape : (17520, 86)\n"
     ]
    },
    {
     "name": "stderr",
     "output_type": "stream",
     "text": [
      "/Users/alexellard/opt/anaconda3/lib/python3.7/site-packages/xgboost/data.py:96: UserWarning: Use subset (sliced data) of np.ndarray is not recommended because it will generate extra copies and increase memory consumption\n",
      "  \"because it will generate extra copies and increase \" +\n"
     ]
    },
    {
     "name": "stdout",
     "output_type": "stream",
     "text": [
      "test y shape : (17520, 1)\n",
      "Inv y shape : (17520, 86)\n",
      "y pred shape : (17520, 1)\n",
      "inv y pred : (17520, 86)\n",
      "Run 7 Mean Absolute Error: 7.531447989824018\n",
      "RMSE: 10.337\n",
      "R^2: 1.000\n",
      "[['node_16_demand', 'node_22_pressure', 'node_22_demand', 'node_26_pressure', 'node_15_pressure', 'link_3_flow', 'link_17_flow', 'link_13_flow', 'reservoir_pressure', 'node_28_pressure']]\n",
      "starting df shape: (87600, 86)\n",
      "This is training run 8 and has the shape:  (87600, 86)\n",
      "The value of dropped columns is 10\n"
     ]
    },
    {
     "name": "stderr",
     "output_type": "stream",
     "text": [
      "/Users/alexellard/opt/anaconda3/lib/python3.7/site-packages/xgboost/data.py:96: UserWarning: Use subset (sliced data) of np.ndarray is not recommended because it will generate extra copies and increase memory consumption\n",
      "  \"because it will generate extra copies and increase \" +\n"
     ]
    },
    {
     "name": "stdout",
     "output_type": "stream",
     "text": [
      "test y shape : (17520, 1)\n",
      "Inv y shape : (17520, 86)\n"
     ]
    },
    {
     "name": "stderr",
     "output_type": "stream",
     "text": [
      "/Users/alexellard/opt/anaconda3/lib/python3.7/site-packages/xgboost/data.py:96: UserWarning: Use subset (sliced data) of np.ndarray is not recommended because it will generate extra copies and increase memory consumption\n",
      "  \"because it will generate extra copies and increase \" +\n"
     ]
    },
    {
     "name": "stdout",
     "output_type": "stream",
     "text": [
      "test y shape : (17520, 1)\n",
      "Inv y shape : (17520, 86)\n",
      "y pred shape : (17520, 1)\n",
      "inv y pred : (17520, 86)\n",
      "Run 8 Mean Absolute Error: 8.454624566296378\n",
      "RMSE: 11.642\n",
      "R^2: 1.000\n",
      "[['node_25_pressure', 'node_25_demand', 'node_1_demand', 'node_24_pressure', 'node_15_demand', 'node_11_demand', 'reservoir_demand', 'node_14_demand', 'node_8_demand', 'link_32_flow']]\n",
      "starting df shape: (87600, 86)\n",
      "This is training run 9 and has the shape:  (87600, 86)\n",
      "The value of dropped columns is 10\n"
     ]
    },
    {
     "name": "stderr",
     "output_type": "stream",
     "text": [
      "/Users/alexellard/opt/anaconda3/lib/python3.7/site-packages/xgboost/data.py:96: UserWarning: Use subset (sliced data) of np.ndarray is not recommended because it will generate extra copies and increase memory consumption\n",
      "  \"because it will generate extra copies and increase \" +\n"
     ]
    },
    {
     "name": "stdout",
     "output_type": "stream",
     "text": [
      "test y shape : (17520, 1)\n",
      "Inv y shape : (17520, 86)\n"
     ]
    },
    {
     "name": "stderr",
     "output_type": "stream",
     "text": [
      "/Users/alexellard/opt/anaconda3/lib/python3.7/site-packages/xgboost/data.py:96: UserWarning: Use subset (sliced data) of np.ndarray is not recommended because it will generate extra copies and increase memory consumption\n",
      "  \"because it will generate extra copies and increase \" +\n"
     ]
    },
    {
     "name": "stdout",
     "output_type": "stream",
     "text": [
      "test y shape : (17520, 1)\n",
      "Inv y shape : (17520, 86)\n",
      "y pred shape : (17520, 1)\n",
      "inv y pred : (17520, 86)\n",
      "Run 9 Mean Absolute Error: 0.41266665096434746\n",
      "RMSE: 0.575\n",
      "R^2: 1.000\n",
      "[['node_14_pressure', 'node_21_pressure', 'reservoir_pressure', 'link_3_flow', 'node_30_pressure', 'node_11_demand', 'node_23_pressure', 'node_4_demand', 'node_7_pressure', 'node_2_pressure']]\n",
      "starting df shape: (87600, 86)\n",
      "This is training run 10 and has the shape:  (87600, 86)\n",
      "The value of dropped columns is 10\n"
     ]
    },
    {
     "name": "stderr",
     "output_type": "stream",
     "text": [
      "/Users/alexellard/opt/anaconda3/lib/python3.7/site-packages/xgboost/data.py:96: UserWarning: Use subset (sliced data) of np.ndarray is not recommended because it will generate extra copies and increase memory consumption\n",
      "  \"because it will generate extra copies and increase \" +\n"
     ]
    },
    {
     "name": "stdout",
     "output_type": "stream",
     "text": [
      "test y shape : (17520, 1)\n",
      "Inv y shape : (17520, 86)\n"
     ]
    },
    {
     "name": "stderr",
     "output_type": "stream",
     "text": [
      "/Users/alexellard/opt/anaconda3/lib/python3.7/site-packages/xgboost/data.py:96: UserWarning: Use subset (sliced data) of np.ndarray is not recommended because it will generate extra copies and increase memory consumption\n",
      "  \"because it will generate extra copies and increase \" +\n"
     ]
    },
    {
     "name": "stdout",
     "output_type": "stream",
     "text": [
      "test y shape : (17520, 1)\n",
      "Inv y shape : (17520, 86)\n",
      "y pred shape : (17520, 1)\n",
      "inv y pred : (17520, 86)\n",
      "Run 10 Mean Absolute Error: 7.665671139331386\n",
      "RMSE: 10.611\n",
      "R^2: 1.000\n",
      "[['node_27_pressure', 'node_10_pressure', 'link_10_flow', 'link_24_flow', 'node_13_demand', 'node_15_pressure', 'link_9_flow', 'link_32_flow', 'link_15_flow', 'link_22_flow', 'node_2_demand', 'link_23_flow', 'node_6_pressure', 'link_13_flow', 'node_30_pressure']]\n",
      "starting df shape: (87600, 81)\n",
      "This is training run 1 and has the shape:  (87600, 81)\n",
      "The value of dropped columns is 15\n"
     ]
    },
    {
     "name": "stderr",
     "output_type": "stream",
     "text": [
      "/Users/alexellard/opt/anaconda3/lib/python3.7/site-packages/xgboost/data.py:96: UserWarning: Use subset (sliced data) of np.ndarray is not recommended because it will generate extra copies and increase memory consumption\n",
      "  \"because it will generate extra copies and increase \" +\n"
     ]
    },
    {
     "name": "stdout",
     "output_type": "stream",
     "text": [
      "test y shape : (17520, 1)\n",
      "Inv y shape : (17520, 81)\n"
     ]
    },
    {
     "name": "stderr",
     "output_type": "stream",
     "text": [
      "/Users/alexellard/opt/anaconda3/lib/python3.7/site-packages/xgboost/data.py:96: UserWarning: Use subset (sliced data) of np.ndarray is not recommended because it will generate extra copies and increase memory consumption\n",
      "  \"because it will generate extra copies and increase \" +\n"
     ]
    },
    {
     "name": "stdout",
     "output_type": "stream",
     "text": [
      "test y shape : (17520, 1)\n",
      "Inv y shape : (17520, 81)\n",
      "y pred shape : (17520, 1)\n",
      "inv y pred : (17520, 81)\n",
      "Run 1 Mean Absolute Error: 8.548500474267975\n",
      "RMSE: 11.718\n",
      "R^2: 1.000\n",
      "[['link_16_flow', 'node_9_pressure', 'link_15_flow', 'node_10_pressure', 'node_8_demand', 'node_1_demand', 'link_5_flow', 'node_2_demand', 'link_30_flow', 'node_18_pressure', 'node_20_demand', 'link_32_flow', 'node_23_pressure', 'link_20_flow']]\n",
      "starting df shape: (87600, 82)\n",
      "This is training run 2 and has the shape:  (87600, 82)\n",
      "The value of dropped columns is 15\n"
     ]
    },
    {
     "name": "stderr",
     "output_type": "stream",
     "text": [
      "/Users/alexellard/opt/anaconda3/lib/python3.7/site-packages/xgboost/data.py:96: UserWarning: Use subset (sliced data) of np.ndarray is not recommended because it will generate extra copies and increase memory consumption\n",
      "  \"because it will generate extra copies and increase \" +\n"
     ]
    },
    {
     "name": "stdout",
     "output_type": "stream",
     "text": [
      "test y shape : (17520, 1)\n",
      "Inv y shape : (17520, 82)\n"
     ]
    },
    {
     "name": "stderr",
     "output_type": "stream",
     "text": [
      "/Users/alexellard/opt/anaconda3/lib/python3.7/site-packages/xgboost/data.py:96: UserWarning: Use subset (sliced data) of np.ndarray is not recommended because it will generate extra copies and increase memory consumption\n",
      "  \"because it will generate extra copies and increase \" +\n"
     ]
    },
    {
     "name": "stdout",
     "output_type": "stream",
     "text": [
      "test y shape : (17520, 1)\n",
      "Inv y shape : (17520, 82)\n",
      "y pred shape : (17520, 1)\n",
      "inv y pred : (17520, 82)\n",
      "Run 2 Mean Absolute Error: 8.101313219397772\n",
      "RMSE: 11.210\n",
      "R^2: 1.000\n",
      "[['node_7_pressure', 'node_1_demand', 'node_5_pressure', 'node_20_pressure', 'node_26_demand', 'link_29_flow', 'link_30_flow', 'node_18_pressure', 'node_12_pressure', 'link_11_flow', 'node_17_demand', 'node_31_demand', 'link_22_flow', 'link_14_flow', 'node_24_pressure']]\n",
      "starting df shape: (87600, 81)\n",
      "This is training run 3 and has the shape:  (87600, 81)\n",
      "The value of dropped columns is 15\n"
     ]
    },
    {
     "name": "stderr",
     "output_type": "stream",
     "text": [
      "/Users/alexellard/opt/anaconda3/lib/python3.7/site-packages/xgboost/data.py:96: UserWarning: Use subset (sliced data) of np.ndarray is not recommended because it will generate extra copies and increase memory consumption\n",
      "  \"because it will generate extra copies and increase \" +\n"
     ]
    },
    {
     "name": "stdout",
     "output_type": "stream",
     "text": [
      "test y shape : (17520, 1)\n",
      "Inv y shape : (17520, 81)\n"
     ]
    },
    {
     "name": "stderr",
     "output_type": "stream",
     "text": [
      "/Users/alexellard/opt/anaconda3/lib/python3.7/site-packages/xgboost/data.py:96: UserWarning: Use subset (sliced data) of np.ndarray is not recommended because it will generate extra copies and increase memory consumption\n",
      "  \"because it will generate extra copies and increase \" +\n"
     ]
    },
    {
     "name": "stdout",
     "output_type": "stream",
     "text": [
      "test y shape : (17520, 1)\n",
      "Inv y shape : (17520, 81)\n",
      "y pred shape : (17520, 1)\n",
      "inv y pred : (17520, 81)\n",
      "Run 3 Mean Absolute Error: 7.327671864369494\n",
      "RMSE: 10.337\n",
      "R^2: 1.000\n",
      "[['node_30_demand', 'link_1_flow', 'node_24_pressure', 'node_18_demand', 'node_30_pressure', 'link_5_flow', 'link_20_flow', 'link_30_flow', 'link_10_flow', 'link_3_flow', 'node_23_pressure', 'node_1_pressure', 'node_20_demand', 'node_10_demand', 'link_7_flow']]\n",
      "starting df shape: (87600, 81)\n",
      "This is training run 4 and has the shape:  (87600, 81)\n",
      "The value of dropped columns is 15\n"
     ]
    },
    {
     "name": "stderr",
     "output_type": "stream",
     "text": [
      "/Users/alexellard/opt/anaconda3/lib/python3.7/site-packages/xgboost/data.py:96: UserWarning: Use subset (sliced data) of np.ndarray is not recommended because it will generate extra copies and increase memory consumption\n",
      "  \"because it will generate extra copies and increase \" +\n"
     ]
    },
    {
     "name": "stdout",
     "output_type": "stream",
     "text": [
      "test y shape : (17520, 1)\n",
      "Inv y shape : (17520, 81)\n"
     ]
    },
    {
     "name": "stderr",
     "output_type": "stream",
     "text": [
      "/Users/alexellard/opt/anaconda3/lib/python3.7/site-packages/xgboost/data.py:96: UserWarning: Use subset (sliced data) of np.ndarray is not recommended because it will generate extra copies and increase memory consumption\n",
      "  \"because it will generate extra copies and increase \" +\n"
     ]
    },
    {
     "name": "stdout",
     "output_type": "stream",
     "text": [
      "test y shape : (17520, 1)\n",
      "Inv y shape : (17520, 81)\n",
      "y pred shape : (17520, 1)\n",
      "inv y pred : (17520, 81)\n",
      "Run 4 Mean Absolute Error: 7.66268922224476\n",
      "RMSE: 10.659\n",
      "R^2: 1.000\n",
      "[['node_13_demand', 'link_25_flow', 'link_28_flow', 'node_31_demand', 'link_4_flow', 'node_23_demand', 'link_17_flow', 'node_26_demand', 'node_8_pressure', 'node_13_pressure', 'node_5_demand', 'link_26_flow', 'link_30_flow', 'node_7_demand', 'node_28_pressure']]\n",
      "starting df shape: (87600, 81)\n",
      "This is training run 5 and has the shape:  (87600, 81)\n",
      "The value of dropped columns is 15\n"
     ]
    },
    {
     "name": "stderr",
     "output_type": "stream",
     "text": [
      "/Users/alexellard/opt/anaconda3/lib/python3.7/site-packages/xgboost/data.py:96: UserWarning: Use subset (sliced data) of np.ndarray is not recommended because it will generate extra copies and increase memory consumption\n",
      "  \"because it will generate extra copies and increase \" +\n"
     ]
    },
    {
     "name": "stdout",
     "output_type": "stream",
     "text": [
      "test y shape : (17520, 1)\n",
      "Inv y shape : (17520, 81)\n"
     ]
    },
    {
     "name": "stderr",
     "output_type": "stream",
     "text": [
      "/Users/alexellard/opt/anaconda3/lib/python3.7/site-packages/xgboost/data.py:96: UserWarning: Use subset (sliced data) of np.ndarray is not recommended because it will generate extra copies and increase memory consumption\n",
      "  \"because it will generate extra copies and increase \" +\n"
     ]
    },
    {
     "name": "stdout",
     "output_type": "stream",
     "text": [
      "test y shape : (17520, 1)\n",
      "Inv y shape : (17520, 81)\n",
      "y pred shape : (17520, 1)\n",
      "inv y pred : (17520, 81)\n",
      "Run 5 Mean Absolute Error: 7.71350630480561\n",
      "RMSE: 10.797\n",
      "R^2: 1.000\n",
      "[['node_20_demand', 'node_8_demand', 'node_2_demand', 'node_11_demand', 'node_4_demand', 'node_9_demand', 'node_28_pressure', 'node_29_pressure', 'node_3_pressure', 'link_28_flow', 'node_19_demand', 'node_22_pressure', 'reservoir_demand', 'link_23_flow', 'node_14_pressure']]\n",
      "starting df shape: (87600, 81)\n",
      "This is training run 6 and has the shape:  (87600, 81)\n",
      "The value of dropped columns is 15\n"
     ]
    },
    {
     "name": "stderr",
     "output_type": "stream",
     "text": [
      "/Users/alexellard/opt/anaconda3/lib/python3.7/site-packages/xgboost/data.py:96: UserWarning: Use subset (sliced data) of np.ndarray is not recommended because it will generate extra copies and increase memory consumption\n",
      "  \"because it will generate extra copies and increase \" +\n"
     ]
    },
    {
     "name": "stdout",
     "output_type": "stream",
     "text": [
      "test y shape : (17520, 1)\n",
      "Inv y shape : (17520, 81)\n"
     ]
    },
    {
     "name": "stderr",
     "output_type": "stream",
     "text": [
      "/Users/alexellard/opt/anaconda3/lib/python3.7/site-packages/xgboost/data.py:96: UserWarning: Use subset (sliced data) of np.ndarray is not recommended because it will generate extra copies and increase memory consumption\n",
      "  \"because it will generate extra copies and increase \" +\n"
     ]
    },
    {
     "name": "stdout",
     "output_type": "stream",
     "text": [
      "test y shape : (17520, 1)\n",
      "Inv y shape : (17520, 81)\n",
      "y pred shape : (17520, 1)\n",
      "inv y pred : (17520, 81)\n",
      "Run 6 Mean Absolute Error: 0.4738510381473309\n",
      "RMSE: 0.663\n",
      "R^2: 1.000\n",
      "[['link_10_flow', 'link_6_flow', 'node_10_pressure', 'node_17_demand', 'node_19_pressure', 'node_29_pressure', 'node_24_demand', 'node_5_demand', 'node_8_demand', 'link_26_flow', 'link_4_flow', 'node_21_pressure', 'node_7_demand', 'node_23_pressure', 'node_23_demand']]\n",
      "starting df shape: (87600, 81)\n",
      "This is training run 7 and has the shape:  (87600, 81)\n",
      "The value of dropped columns is 15\n"
     ]
    },
    {
     "name": "stderr",
     "output_type": "stream",
     "text": [
      "/Users/alexellard/opt/anaconda3/lib/python3.7/site-packages/xgboost/data.py:96: UserWarning: Use subset (sliced data) of np.ndarray is not recommended because it will generate extra copies and increase memory consumption\n",
      "  \"because it will generate extra copies and increase \" +\n"
     ]
    },
    {
     "name": "stdout",
     "output_type": "stream",
     "text": [
      "test y shape : (17520, 1)\n",
      "Inv y shape : (17520, 81)\n"
     ]
    },
    {
     "name": "stderr",
     "output_type": "stream",
     "text": [
      "/Users/alexellard/opt/anaconda3/lib/python3.7/site-packages/xgboost/data.py:96: UserWarning: Use subset (sliced data) of np.ndarray is not recommended because it will generate extra copies and increase memory consumption\n",
      "  \"because it will generate extra copies and increase \" +\n"
     ]
    },
    {
     "name": "stdout",
     "output_type": "stream",
     "text": [
      "test y shape : (17520, 1)\n",
      "Inv y shape : (17520, 81)\n",
      "y pred shape : (17520, 1)\n",
      "inv y pred : (17520, 81)\n",
      "Run 7 Mean Absolute Error: 7.651784687549431\n",
      "RMSE: 10.706\n",
      "R^2: 1.000\n",
      "[['node_8_demand', 'link_24_flow', 'node_26_demand', 'node_24_pressure', 'node_11_pressure', 'reservoir_pressure', 'node_18_demand', 'node_13_pressure', 'node_23_demand', 'node_17_demand', 'link_13_flow', 'node_13_demand', 'node_4_pressure', 'link_28_flow', 'node_21_pressure']]\n",
      "starting df shape: (87600, 81)\n",
      "This is training run 8 and has the shape:  (87600, 81)\n",
      "The value of dropped columns is 15\n"
     ]
    },
    {
     "name": "stderr",
     "output_type": "stream",
     "text": [
      "/Users/alexellard/opt/anaconda3/lib/python3.7/site-packages/xgboost/data.py:96: UserWarning: Use subset (sliced data) of np.ndarray is not recommended because it will generate extra copies and increase memory consumption\n",
      "  \"because it will generate extra copies and increase \" +\n"
     ]
    },
    {
     "name": "stdout",
     "output_type": "stream",
     "text": [
      "test y shape : (17520, 1)\n",
      "Inv y shape : (17520, 81)\n"
     ]
    },
    {
     "name": "stderr",
     "output_type": "stream",
     "text": [
      "/Users/alexellard/opt/anaconda3/lib/python3.7/site-packages/xgboost/data.py:96: UserWarning: Use subset (sliced data) of np.ndarray is not recommended because it will generate extra copies and increase memory consumption\n",
      "  \"because it will generate extra copies and increase \" +\n"
     ]
    },
    {
     "name": "stdout",
     "output_type": "stream",
     "text": [
      "test y shape : (17520, 1)\n",
      "Inv y shape : (17520, 81)\n",
      "y pred shape : (17520, 1)\n",
      "inv y pred : (17520, 81)\n",
      "Run 8 Mean Absolute Error: 7.700416784148552\n",
      "RMSE: 10.744\n",
      "R^2: 1.000\n",
      "[['link_32_flow', 'node_7_demand', 'node_25_demand', 'node_21_demand', 'link_7_flow', 'node_5_pressure', 'node_20_pressure', 'link_5_flow', 'node_5_demand', 'link_22_flow', 'node_14_demand', 'node_17_pressure', 'node_15_demand', 'node_2_demand', 'node_4_demand']]\n",
      "starting df shape: (87600, 81)\n",
      "This is training run 9 and has the shape:  (87600, 81)\n",
      "The value of dropped columns is 15\n"
     ]
    },
    {
     "name": "stderr",
     "output_type": "stream",
     "text": [
      "/Users/alexellard/opt/anaconda3/lib/python3.7/site-packages/xgboost/data.py:96: UserWarning: Use subset (sliced data) of np.ndarray is not recommended because it will generate extra copies and increase memory consumption\n",
      "  \"because it will generate extra copies and increase \" +\n"
     ]
    },
    {
     "name": "stdout",
     "output_type": "stream",
     "text": [
      "test y shape : (17520, 1)\n",
      "Inv y shape : (17520, 81)\n"
     ]
    },
    {
     "name": "stderr",
     "output_type": "stream",
     "text": [
      "/Users/alexellard/opt/anaconda3/lib/python3.7/site-packages/xgboost/data.py:96: UserWarning: Use subset (sliced data) of np.ndarray is not recommended because it will generate extra copies and increase memory consumption\n",
      "  \"because it will generate extra copies and increase \" +\n"
     ]
    },
    {
     "name": "stdout",
     "output_type": "stream",
     "text": [
      "test y shape : (17520, 1)\n",
      "Inv y shape : (17520, 81)\n",
      "y pred shape : (17520, 1)\n",
      "inv y pred : (17520, 81)\n",
      "Run 9 Mean Absolute Error: 7.986047675257628\n",
      "RMSE: 11.025\n",
      "R^2: 1.000\n",
      "[['reservoir_pressure', 'node_3_demand', 'node_18_demand', 'node_21_pressure', 'node_2_pressure', 'node_27_pressure', 'link_25_flow', 'link_32_flow', 'node_7_demand', 'link_16_flow', 'link_7_flow', 'link_24_flow', 'node_8_pressure', 'node_8_demand', 'node_25_demand']]\n",
      "starting df shape: (87600, 81)\n",
      "This is training run 10 and has the shape:  (87600, 81)\n",
      "The value of dropped columns is 15\n"
     ]
    },
    {
     "name": "stderr",
     "output_type": "stream",
     "text": [
      "/Users/alexellard/opt/anaconda3/lib/python3.7/site-packages/xgboost/data.py:96: UserWarning: Use subset (sliced data) of np.ndarray is not recommended because it will generate extra copies and increase memory consumption\n",
      "  \"because it will generate extra copies and increase \" +\n"
     ]
    },
    {
     "name": "stdout",
     "output_type": "stream",
     "text": [
      "test y shape : (17520, 1)\n",
      "Inv y shape : (17520, 81)\n"
     ]
    },
    {
     "name": "stderr",
     "output_type": "stream",
     "text": [
      "/Users/alexellard/opt/anaconda3/lib/python3.7/site-packages/xgboost/data.py:96: UserWarning: Use subset (sliced data) of np.ndarray is not recommended because it will generate extra copies and increase memory consumption\n",
      "  \"because it will generate extra copies and increase \" +\n"
     ]
    },
    {
     "name": "stdout",
     "output_type": "stream",
     "text": [
      "test y shape : (17520, 1)\n",
      "Inv y shape : (17520, 81)\n",
      "y pred shape : (17520, 1)\n",
      "inv y pred : (17520, 81)\n",
      "Run 10 Mean Absolute Error: 7.655927115690882\n",
      "RMSE: 10.548\n",
      "R^2: 1.000\n",
      "[['link_13_flow', 'link_32_flow', 'link_14_flow', 'link_8_flow', 'link_15_flow', 'link_27_flow', 'node_8_pressure', 'node_7_demand', 'link_12_flow', 'node_10_demand', 'node_5_pressure', 'link_21_flow', 'link_26_flow', 'link_18_flow', 'node_27_demand', 'node_3_demand', 'link_3_flow', 'node_15_pressure', 'node_29_demand']]\n",
      "starting df shape: (87600, 77)\n",
      "This is training run 1 and has the shape:  (87600, 77)\n",
      "The value of dropped columns is 20\n"
     ]
    },
    {
     "name": "stderr",
     "output_type": "stream",
     "text": [
      "/Users/alexellard/opt/anaconda3/lib/python3.7/site-packages/xgboost/data.py:96: UserWarning: Use subset (sliced data) of np.ndarray is not recommended because it will generate extra copies and increase memory consumption\n",
      "  \"because it will generate extra copies and increase \" +\n"
     ]
    },
    {
     "name": "stdout",
     "output_type": "stream",
     "text": [
      "test y shape : (17520, 1)\n",
      "Inv y shape : (17520, 77)\n"
     ]
    },
    {
     "name": "stderr",
     "output_type": "stream",
     "text": [
      "/Users/alexellard/opt/anaconda3/lib/python3.7/site-packages/xgboost/data.py:96: UserWarning: Use subset (sliced data) of np.ndarray is not recommended because it will generate extra copies and increase memory consumption\n",
      "  \"because it will generate extra copies and increase \" +\n"
     ]
    },
    {
     "name": "stdout",
     "output_type": "stream",
     "text": [
      "test y shape : (17520, 1)\n",
      "Inv y shape : (17520, 77)\n",
      "y pred shape : (17520, 1)\n",
      "inv y pred : (17520, 77)\n",
      "Run 1 Mean Absolute Error: 8.662483750318628\n",
      "RMSE: 12.124\n",
      "R^2: 1.000\n",
      "[['node_24_demand', 'link_11_flow', 'node_8_pressure', 'node_22_demand', 'node_12_demand', 'node_4_pressure', 'node_10_demand', 'node_31_demand', 'node_27_pressure', 'node_27_demand', 'link_22_flow', 'node_26_demand', 'link_24_flow', 'node_25_demand', 'node_10_pressure', 'node_1_demand', 'node_23_demand', 'node_6_pressure', 'node_26_pressure', 'link_14_flow']]\n",
      "starting df shape: (87600, 76)\n",
      "This is training run 2 and has the shape:  (87600, 76)\n",
      "The value of dropped columns is 20\n"
     ]
    },
    {
     "name": "stderr",
     "output_type": "stream",
     "text": [
      "/Users/alexellard/opt/anaconda3/lib/python3.7/site-packages/xgboost/data.py:96: UserWarning: Use subset (sliced data) of np.ndarray is not recommended because it will generate extra copies and increase memory consumption\n",
      "  \"because it will generate extra copies and increase \" +\n"
     ]
    },
    {
     "name": "stdout",
     "output_type": "stream",
     "text": [
      "test y shape : (17520, 1)\n",
      "Inv y shape : (17520, 76)\n"
     ]
    },
    {
     "name": "stderr",
     "output_type": "stream",
     "text": [
      "/Users/alexellard/opt/anaconda3/lib/python3.7/site-packages/xgboost/data.py:96: UserWarning: Use subset (sliced data) of np.ndarray is not recommended because it will generate extra copies and increase memory consumption\n",
      "  \"because it will generate extra copies and increase \" +\n"
     ]
    },
    {
     "name": "stdout",
     "output_type": "stream",
     "text": [
      "test y shape : (17520, 1)\n",
      "Inv y shape : (17520, 76)\n",
      "y pred shape : (17520, 1)\n",
      "inv y pred : (17520, 76)\n",
      "Run 2 Mean Absolute Error: 7.789437609574196\n",
      "RMSE: 11.016\n",
      "R^2: 1.000\n",
      "[['link_8_flow', 'node_4_demand', 'node_1_pressure', 'node_10_demand', 'link_26_flow', 'link_19_flow', 'node_25_pressure', 'node_3_pressure', 'link_27_flow', 'node_2_pressure', 'link_6_flow', 'node_30_demand', 'node_28_demand', 'node_16_demand', 'node_1_demand', 'node_8_pressure', 'reservoir_pressure', 'link_18_flow', 'node_19_demand', 'node_19_pressure']]\n",
      "starting df shape: (87600, 76)\n",
      "This is training run 3 and has the shape:  (87600, 76)\n",
      "The value of dropped columns is 20\n"
     ]
    },
    {
     "name": "stderr",
     "output_type": "stream",
     "text": [
      "/Users/alexellard/opt/anaconda3/lib/python3.7/site-packages/xgboost/data.py:96: UserWarning: Use subset (sliced data) of np.ndarray is not recommended because it will generate extra copies and increase memory consumption\n",
      "  \"because it will generate extra copies and increase \" +\n"
     ]
    },
    {
     "name": "stdout",
     "output_type": "stream",
     "text": [
      "test y shape : (17520, 1)\n",
      "Inv y shape : (17520, 76)\n"
     ]
    },
    {
     "name": "stderr",
     "output_type": "stream",
     "text": [
      "/Users/alexellard/opt/anaconda3/lib/python3.7/site-packages/xgboost/data.py:96: UserWarning: Use subset (sliced data) of np.ndarray is not recommended because it will generate extra copies and increase memory consumption\n",
      "  \"because it will generate extra copies and increase \" +\n"
     ]
    },
    {
     "name": "stdout",
     "output_type": "stream",
     "text": [
      "test y shape : (17520, 1)\n",
      "Inv y shape : (17520, 76)\n",
      "y pred shape : (17520, 1)\n",
      "inv y pred : (17520, 76)\n",
      "Run 3 Mean Absolute Error: 8.286290828993573\n",
      "RMSE: 11.469\n",
      "R^2: 1.000\n",
      "[['node_9_pressure', 'node_8_pressure', 'link_20_flow', 'node_28_demand', 'node_18_pressure', 'node_23_demand', 'link_31_flow', 'node_13_pressure', 'link_7_flow', 'node_14_demand', 'node_23_pressure', 'node_24_pressure', 'node_3_pressure', 'node_13_demand', 'node_25_demand', 'link_30_flow', 'node_1_pressure', 'link_32_flow', 'link_26_flow']]\n",
      "starting df shape: (87600, 77)\n",
      "This is training run 4 and has the shape:  (87600, 77)\n",
      "The value of dropped columns is 20\n"
     ]
    },
    {
     "name": "stderr",
     "output_type": "stream",
     "text": [
      "/Users/alexellard/opt/anaconda3/lib/python3.7/site-packages/xgboost/data.py:96: UserWarning: Use subset (sliced data) of np.ndarray is not recommended because it will generate extra copies and increase memory consumption\n",
      "  \"because it will generate extra copies and increase \" +\n"
     ]
    },
    {
     "name": "stdout",
     "output_type": "stream",
     "text": [
      "test y shape : (17520, 1)\n",
      "Inv y shape : (17520, 77)\n"
     ]
    },
    {
     "name": "stderr",
     "output_type": "stream",
     "text": [
      "/Users/alexellard/opt/anaconda3/lib/python3.7/site-packages/xgboost/data.py:96: UserWarning: Use subset (sliced data) of np.ndarray is not recommended because it will generate extra copies and increase memory consumption\n",
      "  \"because it will generate extra copies and increase \" +\n"
     ]
    },
    {
     "name": "stdout",
     "output_type": "stream",
     "text": [
      "test y shape : (17520, 1)\n",
      "Inv y shape : (17520, 77)\n",
      "y pred shape : (17520, 1)\n",
      "inv y pred : (17520, 77)\n",
      "Run 4 Mean Absolute Error: 7.887781787240417\n",
      "RMSE: 10.960\n",
      "R^2: 1.000\n",
      "[['link_27_flow', 'node_1_pressure', 'link_14_flow', 'node_2_pressure', 'node_13_pressure', 'link_31_flow', 'node_7_pressure', 'reservoir_demand', 'link_28_flow', 'node_15_pressure', 'node_30_pressure', 'node_22_demand', 'node_17_demand', 'link_6_flow', 'node_9_demand', 'node_18_pressure', 'node_21_pressure', 'node_6_demand', 'link_5_flow', 'link_2_flow']]\n",
      "starting df shape: (87600, 76)\n",
      "This is training run 5 and has the shape:  (87600, 76)\n",
      "The value of dropped columns is 20\n"
     ]
    },
    {
     "name": "stderr",
     "output_type": "stream",
     "text": [
      "/Users/alexellard/opt/anaconda3/lib/python3.7/site-packages/xgboost/data.py:96: UserWarning: Use subset (sliced data) of np.ndarray is not recommended because it will generate extra copies and increase memory consumption\n",
      "  \"because it will generate extra copies and increase \" +\n"
     ]
    },
    {
     "name": "stdout",
     "output_type": "stream",
     "text": [
      "test y shape : (17520, 1)\n",
      "Inv y shape : (17520, 76)\n"
     ]
    },
    {
     "name": "stderr",
     "output_type": "stream",
     "text": [
      "/Users/alexellard/opt/anaconda3/lib/python3.7/site-packages/xgboost/data.py:96: UserWarning: Use subset (sliced data) of np.ndarray is not recommended because it will generate extra copies and increase memory consumption\n",
      "  \"because it will generate extra copies and increase \" +\n"
     ]
    },
    {
     "name": "stdout",
     "output_type": "stream",
     "text": [
      "test y shape : (17520, 1)\n",
      "Inv y shape : (17520, 76)\n",
      "y pred shape : (17520, 1)\n",
      "inv y pred : (17520, 76)\n",
      "Run 5 Mean Absolute Error: 0.49993839689942043\n",
      "RMSE: 0.686\n",
      "R^2: 1.000\n",
      "[['link_26_flow', 'node_3_demand', 'link_8_flow', 'link_5_flow', 'link_4_flow', 'node_21_pressure', 'link_22_flow', 'node_21_demand', 'node_7_pressure', 'node_8_pressure', 'node_6_pressure', 'node_3_pressure', 'link_10_flow', 'link_19_flow', 'node_2_demand', 'link_15_flow', 'link_31_flow', 'node_5_demand', 'node_10_pressure', 'link_14_flow']]\n",
      "starting df shape: (87600, 76)\n",
      "This is training run 6 and has the shape:  (87600, 76)\n",
      "The value of dropped columns is 20\n"
     ]
    },
    {
     "name": "stderr",
     "output_type": "stream",
     "text": [
      "/Users/alexellard/opt/anaconda3/lib/python3.7/site-packages/xgboost/data.py:96: UserWarning: Use subset (sliced data) of np.ndarray is not recommended because it will generate extra copies and increase memory consumption\n",
      "  \"because it will generate extra copies and increase \" +\n"
     ]
    },
    {
     "name": "stdout",
     "output_type": "stream",
     "text": [
      "test y shape : (17520, 1)\n",
      "Inv y shape : (17520, 76)\n"
     ]
    },
    {
     "name": "stderr",
     "output_type": "stream",
     "text": [
      "/Users/alexellard/opt/anaconda3/lib/python3.7/site-packages/xgboost/data.py:96: UserWarning: Use subset (sliced data) of np.ndarray is not recommended because it will generate extra copies and increase memory consumption\n",
      "  \"because it will generate extra copies and increase \" +\n"
     ]
    },
    {
     "name": "stdout",
     "output_type": "stream",
     "text": [
      "test y shape : (17520, 1)\n",
      "Inv y shape : (17520, 76)\n",
      "y pred shape : (17520, 1)\n",
      "inv y pred : (17520, 76)\n",
      "Run 6 Mean Absolute Error: 8.093491578246656\n",
      "RMSE: 11.309\n",
      "R^2: 1.000\n",
      "[['node_29_demand', 'link_23_flow', 'node_31_pressure', 'node_4_pressure', 'node_31_demand', 'node_10_pressure', 'link_4_flow', 'link_27_flow', 'node_7_pressure', 'link_1_flow', 'node_11_pressure', 'node_25_demand', 'link_10_flow', 'link_2_flow', 'node_14_pressure', 'node_21_demand', 'node_23_demand', 'node_10_demand', 'node_12_pressure', 'node_9_demand']]\n",
      "starting df shape: (87600, 76)\n",
      "This is training run 7 and has the shape:  (87600, 76)\n",
      "The value of dropped columns is 20\n"
     ]
    },
    {
     "name": "stderr",
     "output_type": "stream",
     "text": [
      "/Users/alexellard/opt/anaconda3/lib/python3.7/site-packages/xgboost/data.py:96: UserWarning: Use subset (sliced data) of np.ndarray is not recommended because it will generate extra copies and increase memory consumption\n",
      "  \"because it will generate extra copies and increase \" +\n"
     ]
    },
    {
     "name": "stdout",
     "output_type": "stream",
     "text": [
      "test y shape : (17520, 1)\n",
      "Inv y shape : (17520, 76)\n"
     ]
    },
    {
     "name": "stderr",
     "output_type": "stream",
     "text": [
      "/Users/alexellard/opt/anaconda3/lib/python3.7/site-packages/xgboost/data.py:96: UserWarning: Use subset (sliced data) of np.ndarray is not recommended because it will generate extra copies and increase memory consumption\n",
      "  \"because it will generate extra copies and increase \" +\n"
     ]
    },
    {
     "name": "stdout",
     "output_type": "stream",
     "text": [
      "test y shape : (17520, 1)\n",
      "Inv y shape : (17520, 76)\n",
      "y pred shape : (17520, 1)\n",
      "inv y pred : (17520, 76)\n",
      "Run 7 Mean Absolute Error: 7.653018124606804\n",
      "RMSE: 11.095\n",
      "R^2: 1.000\n",
      "[['node_21_pressure', 'node_28_demand', 'node_15_pressure', 'node_14_demand', 'node_17_pressure', 'node_10_demand', 'node_7_pressure', 'node_1_pressure', 'link_1_flow', 'link_16_flow', 'node_13_demand', 'link_26_flow', 'link_11_flow', 'node_5_pressure', 'link_10_flow', 'reservoir_pressure', 'node_18_demand', 'node_2_pressure', 'node_9_demand', 'node_16_demand']]\n",
      "starting df shape: (87600, 76)\n",
      "This is training run 8 and has the shape:  (87600, 76)\n",
      "The value of dropped columns is 20\n"
     ]
    },
    {
     "name": "stderr",
     "output_type": "stream",
     "text": [
      "/Users/alexellard/opt/anaconda3/lib/python3.7/site-packages/xgboost/data.py:96: UserWarning: Use subset (sliced data) of np.ndarray is not recommended because it will generate extra copies and increase memory consumption\n",
      "  \"because it will generate extra copies and increase \" +\n"
     ]
    },
    {
     "name": "stdout",
     "output_type": "stream",
     "text": [
      "test y shape : (17520, 1)\n",
      "Inv y shape : (17520, 76)\n"
     ]
    },
    {
     "name": "stderr",
     "output_type": "stream",
     "text": [
      "/Users/alexellard/opt/anaconda3/lib/python3.7/site-packages/xgboost/data.py:96: UserWarning: Use subset (sliced data) of np.ndarray is not recommended because it will generate extra copies and increase memory consumption\n",
      "  \"because it will generate extra copies and increase \" +\n"
     ]
    },
    {
     "name": "stdout",
     "output_type": "stream",
     "text": [
      "test y shape : (17520, 1)\n",
      "Inv y shape : (17520, 76)\n",
      "y pred shape : (17520, 1)\n",
      "inv y pred : (17520, 76)\n",
      "Run 8 Mean Absolute Error: 10.018263864430903\n",
      "RMSE: 13.853\n",
      "R^2: 1.000\n",
      "[['link_32_flow', 'link_16_flow', 'link_15_flow', 'node_31_demand', 'link_18_flow', 'node_15_demand', 'link_5_flow', 'node_11_demand', 'node_13_demand', 'node_15_pressure', 'link_6_flow', 'node_27_pressure', 'node_28_demand', 'node_30_demand', 'node_30_pressure', 'link_28_flow', 'link_10_flow', 'node_21_demand', 'node_22_pressure', 'link_19_flow']]\n",
      "starting df shape: (87600, 76)\n",
      "This is training run 9 and has the shape:  (87600, 76)\n",
      "The value of dropped columns is 20\n"
     ]
    },
    {
     "name": "stderr",
     "output_type": "stream",
     "text": [
      "/Users/alexellard/opt/anaconda3/lib/python3.7/site-packages/xgboost/data.py:96: UserWarning: Use subset (sliced data) of np.ndarray is not recommended because it will generate extra copies and increase memory consumption\n",
      "  \"because it will generate extra copies and increase \" +\n"
     ]
    },
    {
     "name": "stdout",
     "output_type": "stream",
     "text": [
      "test y shape : (17520, 1)\n",
      "Inv y shape : (17520, 76)\n"
     ]
    },
    {
     "name": "stderr",
     "output_type": "stream",
     "text": [
      "/Users/alexellard/opt/anaconda3/lib/python3.7/site-packages/xgboost/data.py:96: UserWarning: Use subset (sliced data) of np.ndarray is not recommended because it will generate extra copies and increase memory consumption\n",
      "  \"because it will generate extra copies and increase \" +\n"
     ]
    },
    {
     "name": "stdout",
     "output_type": "stream",
     "text": [
      "test y shape : (17520, 1)\n",
      "Inv y shape : (17520, 76)\n",
      "y pred shape : (17520, 1)\n",
      "inv y pred : (17520, 76)\n",
      "Run 9 Mean Absolute Error: 8.346445462655767\n",
      "RMSE: 11.645\n",
      "R^2: 1.000\n",
      "[['node_29_demand', 'node_8_pressure', 'node_11_pressure', 'node_31_demand', 'node_26_demand', 'node_23_pressure', 'link_28_flow', 'node_5_pressure', 'node_15_pressure', 'link_9_flow', 'link_19_flow', 'link_4_flow', 'node_27_pressure', 'node_31_pressure', 'node_21_pressure', 'node_30_pressure', 'node_6_pressure', 'link_11_flow', 'node_10_demand', 'node_13_pressure']]\n",
      "starting df shape: (87600, 76)\n",
      "This is training run 10 and has the shape:  (87600, 76)\n",
      "The value of dropped columns is 20\n"
     ]
    },
    {
     "name": "stderr",
     "output_type": "stream",
     "text": [
      "/Users/alexellard/opt/anaconda3/lib/python3.7/site-packages/xgboost/data.py:96: UserWarning: Use subset (sliced data) of np.ndarray is not recommended because it will generate extra copies and increase memory consumption\n",
      "  \"because it will generate extra copies and increase \" +\n"
     ]
    },
    {
     "name": "stdout",
     "output_type": "stream",
     "text": [
      "test y shape : (17520, 1)\n",
      "Inv y shape : (17520, 76)\n"
     ]
    },
    {
     "name": "stderr",
     "output_type": "stream",
     "text": [
      "/Users/alexellard/opt/anaconda3/lib/python3.7/site-packages/xgboost/data.py:96: UserWarning: Use subset (sliced data) of np.ndarray is not recommended because it will generate extra copies and increase memory consumption\n",
      "  \"because it will generate extra copies and increase \" +\n"
     ]
    },
    {
     "name": "stdout",
     "output_type": "stream",
     "text": [
      "test y shape : (17520, 1)\n",
      "Inv y shape : (17520, 76)\n",
      "y pred shape : (17520, 1)\n",
      "inv y pred : (17520, 76)\n",
      "Run 10 Mean Absolute Error: 8.109691300649255\n",
      "RMSE: 11.178\n",
      "R^2: 1.000\n",
      "[['node_31_pressure', 'node_20_demand', 'node_12_pressure', 'node_28_demand', 'node_31_demand', 'link_28_flow', 'link_8_flow', 'node_30_demand', 'link_20_flow', 'link_12_flow', 'node_18_pressure', 'node_4_pressure', 'node_3_demand', 'node_27_demand', 'link_7_flow', 'node_25_demand', 'node_8_demand', 'node_22_demand', 'node_21_pressure', 'link_3_flow', 'node_6_pressure', 'link_26_flow', 'link_30_flow', 'reservoir_pressure', 'node_23_demand']]\n",
      "starting df shape: (87600, 71)\n",
      "This is training run 1 and has the shape:  (87600, 71)\n",
      "The value of dropped columns is 25\n"
     ]
    },
    {
     "name": "stderr",
     "output_type": "stream",
     "text": [
      "/Users/alexellard/opt/anaconda3/lib/python3.7/site-packages/xgboost/data.py:96: UserWarning: Use subset (sliced data) of np.ndarray is not recommended because it will generate extra copies and increase memory consumption\n",
      "  \"because it will generate extra copies and increase \" +\n"
     ]
    },
    {
     "name": "stdout",
     "output_type": "stream",
     "text": [
      "test y shape : (17520, 1)\n",
      "Inv y shape : (17520, 71)\n"
     ]
    },
    {
     "name": "stderr",
     "output_type": "stream",
     "text": [
      "/Users/alexellard/opt/anaconda3/lib/python3.7/site-packages/xgboost/data.py:96: UserWarning: Use subset (sliced data) of np.ndarray is not recommended because it will generate extra copies and increase memory consumption\n",
      "  \"because it will generate extra copies and increase \" +\n"
     ]
    },
    {
     "name": "stdout",
     "output_type": "stream",
     "text": [
      "test y shape : (17520, 1)\n",
      "Inv y shape : (17520, 71)\n",
      "y pred shape : (17520, 1)\n",
      "inv y pred : (17520, 71)\n",
      "Run 1 Mean Absolute Error: 7.250776853616289\n",
      "RMSE: 10.092\n",
      "R^2: 1.000\n",
      "[['link_2_flow', 'link_23_flow', 'link_25_flow', 'node_24_demand', 'node_25_pressure', 'node_2_demand', 'link_29_flow', 'link_12_flow', 'node_21_pressure', 'node_6_demand', 'node_11_pressure', 'link_27_flow', 'node_10_demand', 'node_8_demand', 'node_2_pressure', 'link_14_flow', 'link_19_flow', 'node_29_pressure', 'node_4_demand', 'node_1_demand', 'reservoir_pressure', 'link_26_flow', 'link_1_flow', 'link_32_flow', 'node_23_demand']]\n",
      "starting df shape: (87600, 71)\n",
      "This is training run 2 and has the shape:  (87600, 71)\n",
      "The value of dropped columns is 25\n"
     ]
    },
    {
     "name": "stderr",
     "output_type": "stream",
     "text": [
      "/Users/alexellard/opt/anaconda3/lib/python3.7/site-packages/xgboost/data.py:96: UserWarning: Use subset (sliced data) of np.ndarray is not recommended because it will generate extra copies and increase memory consumption\n",
      "  \"because it will generate extra copies and increase \" +\n"
     ]
    },
    {
     "name": "stdout",
     "output_type": "stream",
     "text": [
      "test y shape : (17520, 1)\n",
      "Inv y shape : (17520, 71)\n"
     ]
    },
    {
     "name": "stderr",
     "output_type": "stream",
     "text": [
      "/Users/alexellard/opt/anaconda3/lib/python3.7/site-packages/xgboost/data.py:96: UserWarning: Use subset (sliced data) of np.ndarray is not recommended because it will generate extra copies and increase memory consumption\n",
      "  \"because it will generate extra copies and increase \" +\n"
     ]
    },
    {
     "name": "stdout",
     "output_type": "stream",
     "text": [
      "test y shape : (17520, 1)\n",
      "Inv y shape : (17520, 71)\n",
      "y pred shape : (17520, 1)\n",
      "inv y pred : (17520, 71)\n",
      "Run 2 Mean Absolute Error: 7.743104602431052\n",
      "RMSE: 10.715\n",
      "R^2: 1.000\n",
      "[['node_3_pressure', 'node_31_demand', 'link_2_flow', 'node_10_pressure', 'node_1_pressure', 'node_4_demand', 'node_17_pressure', 'node_31_pressure', 'node_12_pressure', 'node_21_demand', 'node_5_pressure', 'node_6_demand', 'link_7_flow', 'link_1_flow', 'node_30_pressure', 'node_13_demand', 'node_11_pressure', 'link_13_flow', 'link_16_flow', 'link_12_flow', 'link_27_flow', 'node_25_demand', 'link_20_flow', 'link_25_flow', 'link_29_flow']]\n",
      "starting df shape: (87600, 71)\n",
      "This is training run 3 and has the shape:  (87600, 71)\n",
      "The value of dropped columns is 25\n"
     ]
    },
    {
     "name": "stderr",
     "output_type": "stream",
     "text": [
      "/Users/alexellard/opt/anaconda3/lib/python3.7/site-packages/xgboost/data.py:96: UserWarning: Use subset (sliced data) of np.ndarray is not recommended because it will generate extra copies and increase memory consumption\n",
      "  \"because it will generate extra copies and increase \" +\n"
     ]
    },
    {
     "name": "stdout",
     "output_type": "stream",
     "text": [
      "test y shape : (17520, 1)\n",
      "Inv y shape : (17520, 71)\n"
     ]
    },
    {
     "name": "stderr",
     "output_type": "stream",
     "text": [
      "/Users/alexellard/opt/anaconda3/lib/python3.7/site-packages/xgboost/data.py:96: UserWarning: Use subset (sliced data) of np.ndarray is not recommended because it will generate extra copies and increase memory consumption\n",
      "  \"because it will generate extra copies and increase \" +\n"
     ]
    },
    {
     "name": "stdout",
     "output_type": "stream",
     "text": [
      "test y shape : (17520, 1)\n",
      "Inv y shape : (17520, 71)\n",
      "y pred shape : (17520, 1)\n",
      "inv y pred : (17520, 71)\n",
      "Run 3 Mean Absolute Error: 7.849671742092946\n",
      "RMSE: 11.107\n",
      "R^2: 1.000\n",
      "[['node_19_pressure', 'node_13_pressure', 'link_26_flow', 'node_14_pressure', 'node_10_demand', 'node_5_demand', 'node_22_pressure', 'link_7_flow', 'link_2_flow', 'reservoir_pressure', 'link_29_flow', 'node_31_pressure', 'reservoir_demand', 'link_31_flow', 'node_30_pressure', 'node_9_demand', 'node_17_demand', 'node_22_demand', 'link_6_flow', 'node_29_demand', 'node_30_demand', 'link_25_flow', 'node_7_demand', 'link_28_flow', 'node_17_pressure']]\n",
      "starting df shape: (87600, 71)\n",
      "This is training run 4 and has the shape:  (87600, 71)\n",
      "The value of dropped columns is 25\n"
     ]
    },
    {
     "name": "stderr",
     "output_type": "stream",
     "text": [
      "/Users/alexellard/opt/anaconda3/lib/python3.7/site-packages/xgboost/data.py:96: UserWarning: Use subset (sliced data) of np.ndarray is not recommended because it will generate extra copies and increase memory consumption\n",
      "  \"because it will generate extra copies and increase \" +\n"
     ]
    },
    {
     "name": "stdout",
     "output_type": "stream",
     "text": [
      "test y shape : (17520, 1)\n",
      "Inv y shape : (17520, 71)\n"
     ]
    },
    {
     "name": "stderr",
     "output_type": "stream",
     "text": [
      "/Users/alexellard/opt/anaconda3/lib/python3.7/site-packages/xgboost/data.py:96: UserWarning: Use subset (sliced data) of np.ndarray is not recommended because it will generate extra copies and increase memory consumption\n",
      "  \"because it will generate extra copies and increase \" +\n"
     ]
    },
    {
     "name": "stdout",
     "output_type": "stream",
     "text": [
      "test y shape : (17520, 1)\n",
      "Inv y shape : (17520, 71)\n",
      "y pred shape : (17520, 1)\n",
      "inv y pred : (17520, 71)\n",
      "Run 4 Mean Absolute Error: 0.4914314694038527\n",
      "RMSE: 0.688\n",
      "R^2: 1.000\n",
      "[['node_29_pressure', 'node_3_demand', 'node_24_pressure', 'node_30_pressure', 'node_29_demand', 'link_15_flow', 'node_7_pressure', 'node_15_demand', 'node_31_demand', 'link_28_flow', 'node_5_pressure', 'link_24_flow', 'link_30_flow', 'node_28_demand', 'node_23_demand', 'node_27_pressure', 'link_19_flow', 'link_12_flow', 'link_20_flow', 'node_10_pressure', 'node_7_demand', 'link_22_flow', 'node_17_demand', 'node_9_pressure', 'link_11_flow']]\n",
      "starting df shape: (87600, 71)\n",
      "This is training run 5 and has the shape:  (87600, 71)\n",
      "The value of dropped columns is 25\n"
     ]
    },
    {
     "name": "stderr",
     "output_type": "stream",
     "text": [
      "/Users/alexellard/opt/anaconda3/lib/python3.7/site-packages/xgboost/data.py:96: UserWarning: Use subset (sliced data) of np.ndarray is not recommended because it will generate extra copies and increase memory consumption\n",
      "  \"because it will generate extra copies and increase \" +\n"
     ]
    },
    {
     "name": "stdout",
     "output_type": "stream",
     "text": [
      "test y shape : (17520, 1)\n",
      "Inv y shape : (17520, 71)\n"
     ]
    },
    {
     "name": "stderr",
     "output_type": "stream",
     "text": [
      "/Users/alexellard/opt/anaconda3/lib/python3.7/site-packages/xgboost/data.py:96: UserWarning: Use subset (sliced data) of np.ndarray is not recommended because it will generate extra copies and increase memory consumption\n",
      "  \"because it will generate extra copies and increase \" +\n"
     ]
    },
    {
     "name": "stdout",
     "output_type": "stream",
     "text": [
      "test y shape : (17520, 1)\n",
      "Inv y shape : (17520, 71)\n",
      "y pred shape : (17520, 1)\n",
      "inv y pred : (17520, 71)\n",
      "Run 5 Mean Absolute Error: 8.032389935915784\n",
      "RMSE: 11.326\n",
      "R^2: 1.000\n",
      "[['link_13_flow', 'node_24_demand', 'node_14_demand', 'link_23_flow', 'link_18_flow', 'node_2_pressure', 'node_21_demand', 'link_21_flow', 'link_27_flow', 'link_29_flow', 'link_4_flow', 'node_4_pressure', 'link_12_flow', 'node_4_demand', 'link_11_flow', 'link_28_flow', 'node_13_demand', 'link_6_flow', 'node_30_demand', 'link_17_flow', 'node_25_demand', 'link_32_flow', 'reservoir_pressure', 'node_12_pressure', 'node_20_demand']]\n",
      "starting df shape: (87600, 71)\n",
      "This is training run 6 and has the shape:  (87600, 71)\n",
      "The value of dropped columns is 25\n"
     ]
    },
    {
     "name": "stderr",
     "output_type": "stream",
     "text": [
      "/Users/alexellard/opt/anaconda3/lib/python3.7/site-packages/xgboost/data.py:96: UserWarning: Use subset (sliced data) of np.ndarray is not recommended because it will generate extra copies and increase memory consumption\n",
      "  \"because it will generate extra copies and increase \" +\n"
     ]
    },
    {
     "name": "stdout",
     "output_type": "stream",
     "text": [
      "test y shape : (17520, 1)\n",
      "Inv y shape : (17520, 71)\n"
     ]
    },
    {
     "name": "stderr",
     "output_type": "stream",
     "text": [
      "/Users/alexellard/opt/anaconda3/lib/python3.7/site-packages/xgboost/data.py:96: UserWarning: Use subset (sliced data) of np.ndarray is not recommended because it will generate extra copies and increase memory consumption\n",
      "  \"because it will generate extra copies and increase \" +\n"
     ]
    },
    {
     "name": "stdout",
     "output_type": "stream",
     "text": [
      "test y shape : (17520, 1)\n",
      "Inv y shape : (17520, 71)\n",
      "y pred shape : (17520, 1)\n",
      "inv y pred : (17520, 71)\n",
      "Run 6 Mean Absolute Error: 7.2642920017863615\n",
      "RMSE: 10.299\n",
      "R^2: 1.000\n",
      "[['node_28_demand', 'link_32_flow', 'node_24_pressure', 'link_4_flow', 'node_26_pressure', 'node_29_demand', 'link_28_flow', 'node_11_pressure', 'node_15_pressure', 'node_4_pressure', 'node_20_demand', 'link_10_flow', 'node_18_pressure', 'link_15_flow', 'link_23_flow', 'link_7_flow', 'node_3_pressure', 'link_30_flow', 'node_26_demand', 'node_13_pressure', 'reservoir_pressure', 'link_22_flow', 'node_23_demand', 'link_17_flow']]\n",
      "starting df shape: (87600, 72)\n",
      "This is training run 7 and has the shape:  (87600, 72)\n",
      "The value of dropped columns is 25\n"
     ]
    },
    {
     "name": "stderr",
     "output_type": "stream",
     "text": [
      "/Users/alexellard/opt/anaconda3/lib/python3.7/site-packages/xgboost/data.py:96: UserWarning: Use subset (sliced data) of np.ndarray is not recommended because it will generate extra copies and increase memory consumption\n",
      "  \"because it will generate extra copies and increase \" +\n"
     ]
    },
    {
     "name": "stdout",
     "output_type": "stream",
     "text": [
      "test y shape : (17520, 1)\n",
      "Inv y shape : (17520, 72)\n"
     ]
    },
    {
     "name": "stderr",
     "output_type": "stream",
     "text": [
      "/Users/alexellard/opt/anaconda3/lib/python3.7/site-packages/xgboost/data.py:96: UserWarning: Use subset (sliced data) of np.ndarray is not recommended because it will generate extra copies and increase memory consumption\n",
      "  \"because it will generate extra copies and increase \" +\n"
     ]
    },
    {
     "name": "stdout",
     "output_type": "stream",
     "text": [
      "test y shape : (17520, 1)\n",
      "Inv y shape : (17520, 72)\n",
      "y pred shape : (17520, 1)\n",
      "inv y pred : (17520, 72)\n",
      "Run 7 Mean Absolute Error: 8.61336598643416\n",
      "RMSE: 11.919\n",
      "R^2: 1.000\n",
      "[['node_12_pressure', 'node_10_pressure', 'node_10_demand', 'link_17_flow', 'node_15_pressure', 'link_26_flow', 'link_2_flow', 'node_19_demand', 'node_25_pressure', 'node_6_demand', 'node_17_demand', 'node_5_demand', 'node_14_demand', 'node_3_pressure', 'link_28_flow', 'link_31_flow', 'link_27_flow', 'link_4_flow', 'link_22_flow', 'node_29_pressure', 'link_18_flow', 'node_30_pressure', 'link_23_flow', 'node_29_demand']]\n",
      "starting df shape: (87600, 72)\n",
      "This is training run 8 and has the shape:  (87600, 72)\n",
      "The value of dropped columns is 25\n"
     ]
    },
    {
     "name": "stderr",
     "output_type": "stream",
     "text": [
      "/Users/alexellard/opt/anaconda3/lib/python3.7/site-packages/xgboost/data.py:96: UserWarning: Use subset (sliced data) of np.ndarray is not recommended because it will generate extra copies and increase memory consumption\n",
      "  \"because it will generate extra copies and increase \" +\n"
     ]
    },
    {
     "name": "stdout",
     "output_type": "stream",
     "text": [
      "test y shape : (17520, 1)\n",
      "Inv y shape : (17520, 72)\n"
     ]
    },
    {
     "name": "stderr",
     "output_type": "stream",
     "text": [
      "/Users/alexellard/opt/anaconda3/lib/python3.7/site-packages/xgboost/data.py:96: UserWarning: Use subset (sliced data) of np.ndarray is not recommended because it will generate extra copies and increase memory consumption\n",
      "  \"because it will generate extra copies and increase \" +\n"
     ]
    },
    {
     "name": "stdout",
     "output_type": "stream",
     "text": [
      "test y shape : (17520, 1)\n",
      "Inv y shape : (17520, 72)\n",
      "y pred shape : (17520, 1)\n",
      "inv y pred : (17520, 72)\n",
      "Run 8 Mean Absolute Error: 8.10122829800936\n",
      "RMSE: 11.228\n",
      "R^2: 1.000\n",
      "[['node_15_demand', 'link_26_flow', 'node_11_demand', 'node_26_demand', 'link_4_flow', 'link_29_flow', 'node_18_pressure', 'node_29_demand', 'link_7_flow', 'node_4_pressure', 'link_22_flow', 'link_6_flow', 'node_13_pressure', 'link_12_flow', 'link_20_flow', 'node_16_demand', 'node_30_demand', 'node_15_pressure', 'link_27_flow', 'link_19_flow', 'link_16_flow', 'node_27_demand', 'link_17_flow', 'node_9_pressure']]\n",
      "starting df shape: (87600, 72)\n",
      "This is training run 9 and has the shape:  (87600, 72)\n",
      "The value of dropped columns is 25\n"
     ]
    },
    {
     "name": "stderr",
     "output_type": "stream",
     "text": [
      "/Users/alexellard/opt/anaconda3/lib/python3.7/site-packages/xgboost/data.py:96: UserWarning: Use subset (sliced data) of np.ndarray is not recommended because it will generate extra copies and increase memory consumption\n",
      "  \"because it will generate extra copies and increase \" +\n"
     ]
    },
    {
     "name": "stdout",
     "output_type": "stream",
     "text": [
      "test y shape : (17520, 1)\n",
      "Inv y shape : (17520, 72)\n"
     ]
    },
    {
     "name": "stderr",
     "output_type": "stream",
     "text": [
      "/Users/alexellard/opt/anaconda3/lib/python3.7/site-packages/xgboost/data.py:96: UserWarning: Use subset (sliced data) of np.ndarray is not recommended because it will generate extra copies and increase memory consumption\n",
      "  \"because it will generate extra copies and increase \" +\n"
     ]
    },
    {
     "name": "stdout",
     "output_type": "stream",
     "text": [
      "test y shape : (17520, 1)\n",
      "Inv y shape : (17520, 72)\n",
      "y pred shape : (17520, 1)\n",
      "inv y pred : (17520, 72)\n",
      "Run 9 Mean Absolute Error: 9.993591206041527\n",
      "RMSE: 13.855\n",
      "R^2: 1.000\n",
      "[['link_5_flow', 'node_19_pressure', 'node_31_demand', 'link_23_flow', 'node_5_demand', 'link_13_flow', 'link_16_flow', 'node_8_demand', 'node_28_demand', 'node_25_pressure', 'reservoir_demand', 'node_22_demand', 'node_23_demand', 'link_19_flow', 'link_24_flow', 'node_24_demand', 'node_13_pressure', 'node_18_demand', 'node_9_demand', 'node_26_demand', 'node_11_pressure', 'link_9_flow', 'node_29_pressure', 'node_7_demand']]\n",
      "starting df shape: (87600, 72)\n",
      "This is training run 10 and has the shape:  (87600, 72)\n",
      "The value of dropped columns is 25\n"
     ]
    },
    {
     "name": "stderr",
     "output_type": "stream",
     "text": [
      "/Users/alexellard/opt/anaconda3/lib/python3.7/site-packages/xgboost/data.py:96: UserWarning: Use subset (sliced data) of np.ndarray is not recommended because it will generate extra copies and increase memory consumption\n",
      "  \"because it will generate extra copies and increase \" +\n"
     ]
    },
    {
     "name": "stdout",
     "output_type": "stream",
     "text": [
      "test y shape : (17520, 1)\n",
      "Inv y shape : (17520, 72)\n"
     ]
    },
    {
     "name": "stderr",
     "output_type": "stream",
     "text": [
      "/Users/alexellard/opt/anaconda3/lib/python3.7/site-packages/xgboost/data.py:96: UserWarning: Use subset (sliced data) of np.ndarray is not recommended because it will generate extra copies and increase memory consumption\n",
      "  \"because it will generate extra copies and increase \" +\n"
     ]
    },
    {
     "name": "stdout",
     "output_type": "stream",
     "text": [
      "test y shape : (17520, 1)\n",
      "Inv y shape : (17520, 72)\n",
      "y pred shape : (17520, 1)\n",
      "inv y pred : (17520, 72)\n",
      "Run 10 Mean Absolute Error: 0.4583714998570337\n",
      "RMSE: 0.634\n",
      "R^2: 1.000\n",
      "[['reservoir_demand', 'node_14_pressure', 'node_21_demand', 'node_5_pressure', 'link_7_flow', 'node_30_demand', 'node_30_pressure', 'link_17_flow', 'node_20_pressure', 'node_9_pressure', 'node_11_pressure', 'node_24_demand', 'node_1_pressure', 'node_22_demand', 'node_18_demand', 'node_27_demand', 'link_24_flow', 'node_29_demand', 'link_9_flow', 'link_14_flow', 'node_24_pressure', 'link_30_flow', 'node_21_pressure', 'link_25_flow', 'node_8_demand', 'node_12_pressure', 'node_23_demand', 'node_5_demand', 'node_1_demand', 'node_29_pressure']]\n",
      "starting df shape: (87600, 66)\n",
      "This is training run 1 and has the shape:  (87600, 66)\n",
      "The value of dropped columns is 30\n"
     ]
    },
    {
     "name": "stderr",
     "output_type": "stream",
     "text": [
      "/Users/alexellard/opt/anaconda3/lib/python3.7/site-packages/xgboost/data.py:96: UserWarning: Use subset (sliced data) of np.ndarray is not recommended because it will generate extra copies and increase memory consumption\n",
      "  \"because it will generate extra copies and increase \" +\n"
     ]
    },
    {
     "name": "stdout",
     "output_type": "stream",
     "text": [
      "test y shape : (17520, 1)\n",
      "Inv y shape : (17520, 66)\n"
     ]
    },
    {
     "name": "stderr",
     "output_type": "stream",
     "text": [
      "/Users/alexellard/opt/anaconda3/lib/python3.7/site-packages/xgboost/data.py:96: UserWarning: Use subset (sliced data) of np.ndarray is not recommended because it will generate extra copies and increase memory consumption\n",
      "  \"because it will generate extra copies and increase \" +\n"
     ]
    },
    {
     "name": "stdout",
     "output_type": "stream",
     "text": [
      "test y shape : (17520, 1)\n",
      "Inv y shape : (17520, 66)\n",
      "y pred shape : (17520, 1)\n",
      "inv y pred : (17520, 66)\n",
      "Run 1 Mean Absolute Error: 0.37781231968144635\n",
      "RMSE: 0.534\n",
      "R^2: 1.000\n",
      "[['node_14_demand', 'node_24_pressure', 'link_32_flow', 'node_18_demand', 'node_10_demand', 'node_17_pressure', 'link_29_flow', 'link_7_flow', 'node_6_demand', 'node_23_pressure', 'node_22_pressure', 'node_19_demand', 'node_6_pressure', 'link_5_flow', 'link_24_flow', 'node_3_demand', 'node_30_demand', 'link_23_flow', 'node_11_pressure', 'reservoir_pressure', 'node_5_pressure', 'node_12_demand', 'node_27_pressure', 'link_11_flow', 'node_20_pressure', 'node_23_demand', 'node_3_pressure', 'node_29_demand', 'node_12_pressure', 'node_13_demand']]\n",
      "starting df shape: (87600, 66)\n",
      "This is training run 2 and has the shape:  (87600, 66)\n",
      "The value of dropped columns is 30\n"
     ]
    },
    {
     "name": "stderr",
     "output_type": "stream",
     "text": [
      "/Users/alexellard/opt/anaconda3/lib/python3.7/site-packages/xgboost/data.py:96: UserWarning: Use subset (sliced data) of np.ndarray is not recommended because it will generate extra copies and increase memory consumption\n",
      "  \"because it will generate extra copies and increase \" +\n"
     ]
    },
    {
     "name": "stdout",
     "output_type": "stream",
     "text": [
      "test y shape : (17520, 1)\n",
      "Inv y shape : (17520, 66)\n"
     ]
    },
    {
     "name": "stderr",
     "output_type": "stream",
     "text": [
      "/Users/alexellard/opt/anaconda3/lib/python3.7/site-packages/xgboost/data.py:96: UserWarning: Use subset (sliced data) of np.ndarray is not recommended because it will generate extra copies and increase memory consumption\n",
      "  \"because it will generate extra copies and increase \" +\n"
     ]
    },
    {
     "name": "stdout",
     "output_type": "stream",
     "text": [
      "test y shape : (17520, 1)\n",
      "Inv y shape : (17520, 66)\n",
      "y pred shape : (17520, 1)\n",
      "inv y pred : (17520, 66)\n",
      "Run 2 Mean Absolute Error: 7.509475940482619\n",
      "RMSE: 10.643\n",
      "R^2: 1.000\n",
      "[['node_26_demand', 'link_2_flow', 'reservoir_pressure', 'node_14_demand', 'node_16_demand', 'node_10_pressure', 'node_19_demand', 'node_2_demand', 'node_23_demand', 'node_11_demand', 'node_30_pressure', 'node_6_demand', 'node_22_demand', 'link_31_flow', 'node_24_pressure', 'link_28_flow', 'reservoir_demand', 'node_8_pressure', 'node_21_pressure', 'node_21_demand', 'link_29_flow', 'node_20_demand', 'link_16_flow', 'node_9_pressure', 'link_18_flow', 'node_27_demand', 'node_11_pressure', 'node_1_demand', 'link_3_flow']]\n",
      "starting df shape: (87600, 67)\n",
      "This is training run 3 and has the shape:  (87600, 67)\n",
      "The value of dropped columns is 30\n"
     ]
    },
    {
     "name": "stderr",
     "output_type": "stream",
     "text": [
      "/Users/alexellard/opt/anaconda3/lib/python3.7/site-packages/xgboost/data.py:96: UserWarning: Use subset (sliced data) of np.ndarray is not recommended because it will generate extra copies and increase memory consumption\n",
      "  \"because it will generate extra copies and increase \" +\n"
     ]
    },
    {
     "name": "stdout",
     "output_type": "stream",
     "text": [
      "test y shape : (17520, 1)\n",
      "Inv y shape : (17520, 67)\n"
     ]
    },
    {
     "name": "stderr",
     "output_type": "stream",
     "text": [
      "/Users/alexellard/opt/anaconda3/lib/python3.7/site-packages/xgboost/data.py:96: UserWarning: Use subset (sliced data) of np.ndarray is not recommended because it will generate extra copies and increase memory consumption\n",
      "  \"because it will generate extra copies and increase \" +\n"
     ]
    },
    {
     "name": "stdout",
     "output_type": "stream",
     "text": [
      "test y shape : (17520, 1)\n",
      "Inv y shape : (17520, 67)\n",
      "y pred shape : (17520, 1)\n",
      "inv y pred : (17520, 67)\n",
      "Run 3 Mean Absolute Error: 0.08659012467196492\n",
      "RMSE: 0.119\n",
      "R^2: 1.000\n",
      "[['link_32_flow', 'link_7_flow', 'link_25_flow', 'node_6_demand', 'node_26_demand', 'link_8_flow', 'node_23_pressure', 'node_25_pressure', 'node_5_demand', 'link_31_flow', 'node_31_demand', 'node_12_demand', 'link_16_flow', 'node_20_demand', 'node_15_demand', 'node_22_pressure', 'node_8_pressure', 'link_5_flow', 'node_8_demand', 'node_31_pressure', 'node_15_pressure', 'link_4_flow', 'node_4_pressure', 'link_27_flow', 'node_2_pressure', 'link_1_flow', 'node_7_pressure', 'node_14_pressure', 'link_22_flow', 'node_24_pressure']]\n",
      "starting df shape: (87600, 66)\n",
      "This is training run 4 and has the shape:  (87600, 66)\n",
      "The value of dropped columns is 30\n"
     ]
    },
    {
     "name": "stderr",
     "output_type": "stream",
     "text": [
      "/Users/alexellard/opt/anaconda3/lib/python3.7/site-packages/xgboost/data.py:96: UserWarning: Use subset (sliced data) of np.ndarray is not recommended because it will generate extra copies and increase memory consumption\n",
      "  \"because it will generate extra copies and increase \" +\n"
     ]
    },
    {
     "name": "stdout",
     "output_type": "stream",
     "text": [
      "test y shape : (17520, 1)\n",
      "Inv y shape : (17520, 66)\n"
     ]
    },
    {
     "name": "stderr",
     "output_type": "stream",
     "text": [
      "/Users/alexellard/opt/anaconda3/lib/python3.7/site-packages/xgboost/data.py:96: UserWarning: Use subset (sliced data) of np.ndarray is not recommended because it will generate extra copies and increase memory consumption\n",
      "  \"because it will generate extra copies and increase \" +\n"
     ]
    },
    {
     "name": "stdout",
     "output_type": "stream",
     "text": [
      "test y shape : (17520, 1)\n",
      "Inv y shape : (17520, 66)\n",
      "y pred shape : (17520, 1)\n",
      "inv y pred : (17520, 66)\n",
      "Run 4 Mean Absolute Error: 8.084787654985993\n",
      "RMSE: 11.231\n",
      "R^2: 1.000\n",
      "[['reservoir_demand', 'link_14_flow', 'node_13_demand', 'node_19_demand', 'node_30_pressure', 'link_24_flow', 'node_23_pressure', 'node_20_pressure', 'link_6_flow', 'link_17_flow', 'link_23_flow', 'link_20_flow', 'node_10_pressure', 'link_8_flow', 'node_28_demand', 'link_21_flow', 'node_14_demand', 'node_30_demand', 'node_11_demand', 'node_18_demand', 'node_3_demand', 'node_31_pressure', 'node_14_pressure', 'link_16_flow', 'link_2_flow', 'node_6_pressure', 'node_15_demand', 'node_25_pressure', 'node_13_pressure']]\n",
      "starting df shape: (87600, 67)\n",
      "This is training run 5 and has the shape:  (87600, 67)\n",
      "The value of dropped columns is 30\n"
     ]
    },
    {
     "name": "stderr",
     "output_type": "stream",
     "text": [
      "/Users/alexellard/opt/anaconda3/lib/python3.7/site-packages/xgboost/data.py:96: UserWarning: Use subset (sliced data) of np.ndarray is not recommended because it will generate extra copies and increase memory consumption\n",
      "  \"because it will generate extra copies and increase \" +\n"
     ]
    },
    {
     "name": "stdout",
     "output_type": "stream",
     "text": [
      "test y shape : (17520, 1)\n",
      "Inv y shape : (17520, 67)\n"
     ]
    },
    {
     "name": "stderr",
     "output_type": "stream",
     "text": [
      "/Users/alexellard/opt/anaconda3/lib/python3.7/site-packages/xgboost/data.py:96: UserWarning: Use subset (sliced data) of np.ndarray is not recommended because it will generate extra copies and increase memory consumption\n",
      "  \"because it will generate extra copies and increase \" +\n"
     ]
    },
    {
     "name": "stdout",
     "output_type": "stream",
     "text": [
      "test y shape : (17520, 1)\n",
      "Inv y shape : (17520, 67)\n",
      "y pred shape : (17520, 1)\n",
      "inv y pred : (17520, 67)\n",
      "Run 5 Mean Absolute Error: 0.4719430435580147\n",
      "RMSE: 0.653\n",
      "R^2: 1.000\n",
      "[['node_17_demand', 'link_15_flow', 'node_13_demand', 'node_14_demand', 'node_15_pressure', 'node_11_demand', 'node_5_demand', 'node_28_demand', 'node_3_pressure', 'link_11_flow', 'node_5_pressure', 'node_15_demand', 'node_29_pressure', 'node_9_demand', 'link_3_flow', 'node_8_pressure', 'reservoir_pressure', 'node_19_pressure', 'link_24_flow', 'reservoir_demand', 'node_28_pressure', 'node_1_demand', 'link_14_flow', 'node_6_demand', 'link_28_flow', 'link_18_flow', 'node_29_demand', 'node_4_pressure', 'node_24_pressure', 'link_27_flow']]\n",
      "starting df shape: (87600, 66)\n",
      "This is training run 6 and has the shape:  (87600, 66)\n",
      "The value of dropped columns is 30\n"
     ]
    },
    {
     "name": "stderr",
     "output_type": "stream",
     "text": [
      "/Users/alexellard/opt/anaconda3/lib/python3.7/site-packages/xgboost/data.py:96: UserWarning: Use subset (sliced data) of np.ndarray is not recommended because it will generate extra copies and increase memory consumption\n",
      "  \"because it will generate extra copies and increase \" +\n"
     ]
    },
    {
     "name": "stdout",
     "output_type": "stream",
     "text": [
      "test y shape : (17520, 1)\n",
      "Inv y shape : (17520, 66)\n"
     ]
    },
    {
     "name": "stderr",
     "output_type": "stream",
     "text": [
      "/Users/alexellard/opt/anaconda3/lib/python3.7/site-packages/xgboost/data.py:96: UserWarning: Use subset (sliced data) of np.ndarray is not recommended because it will generate extra copies and increase memory consumption\n",
      "  \"because it will generate extra copies and increase \" +\n"
     ]
    },
    {
     "name": "stdout",
     "output_type": "stream",
     "text": [
      "test y shape : (17520, 1)\n",
      "Inv y shape : (17520, 66)\n",
      "y pred shape : (17520, 1)\n",
      "inv y pred : (17520, 66)\n",
      "Run 6 Mean Absolute Error: 0.4594938881520914\n",
      "RMSE: 0.627\n",
      "R^2: 1.000\n",
      "[['link_22_flow', 'link_12_flow', 'link_8_flow', 'reservoir_demand', 'node_13_pressure', 'node_14_demand', 'node_27_pressure', 'reservoir_pressure', 'node_31_pressure', 'node_6_pressure', 'node_25_demand', 'node_1_demand', 'node_1_pressure', 'node_15_pressure', 'node_23_pressure', 'link_10_flow', 'node_25_pressure', 'link_16_flow', 'link_9_flow', 'node_5_demand', 'node_2_demand', 'link_23_flow', 'node_10_demand', 'link_2_flow', 'node_12_pressure', 'node_19_pressure', 'node_6_demand', 'node_14_pressure', 'node_9_pressure', 'link_19_flow']]\n",
      "starting df shape: (87600, 66)\n",
      "This is training run 7 and has the shape:  (87600, 66)\n",
      "The value of dropped columns is 30\n"
     ]
    },
    {
     "name": "stderr",
     "output_type": "stream",
     "text": [
      "/Users/alexellard/opt/anaconda3/lib/python3.7/site-packages/xgboost/data.py:96: UserWarning: Use subset (sliced data) of np.ndarray is not recommended because it will generate extra copies and increase memory consumption\n",
      "  \"because it will generate extra copies and increase \" +\n"
     ]
    },
    {
     "name": "stdout",
     "output_type": "stream",
     "text": [
      "test y shape : (17520, 1)\n",
      "Inv y shape : (17520, 66)\n"
     ]
    },
    {
     "name": "stderr",
     "output_type": "stream",
     "text": [
      "/Users/alexellard/opt/anaconda3/lib/python3.7/site-packages/xgboost/data.py:96: UserWarning: Use subset (sliced data) of np.ndarray is not recommended because it will generate extra copies and increase memory consumption\n",
      "  \"because it will generate extra copies and increase \" +\n"
     ]
    },
    {
     "name": "stdout",
     "output_type": "stream",
     "text": [
      "test y shape : (17520, 1)\n",
      "Inv y shape : (17520, 66)\n",
      "y pred shape : (17520, 1)\n",
      "inv y pred : (17520, 66)\n",
      "Run 7 Mean Absolute Error: 0.07583055207774839\n",
      "RMSE: 0.108\n",
      "R^2: 1.000\n",
      "[['link_8_flow', 'link_2_flow', 'node_9_demand', 'node_15_demand', 'node_10_pressure', 'node_6_pressure', 'node_17_demand', 'node_29_demand', 'link_15_flow', 'node_2_demand', 'node_8_demand', 'node_22_demand', 'reservoir_pressure', 'link_13_flow', 'link_9_flow', 'node_4_demand', 'node_7_demand', 'node_3_demand', 'node_7_pressure', 'node_12_pressure', 'node_23_demand', 'node_13_pressure', 'node_24_demand', 'link_7_flow', 'node_27_pressure', 'node_15_pressure', 'node_30_demand', 'node_25_demand', 'link_20_flow', 'link_5_flow']]\n",
      "starting df shape: (87600, 66)\n",
      "This is training run 8 and has the shape:  (87600, 66)\n",
      "The value of dropped columns is 30\n"
     ]
    },
    {
     "name": "stderr",
     "output_type": "stream",
     "text": [
      "/Users/alexellard/opt/anaconda3/lib/python3.7/site-packages/xgboost/data.py:96: UserWarning: Use subset (sliced data) of np.ndarray is not recommended because it will generate extra copies and increase memory consumption\n",
      "  \"because it will generate extra copies and increase \" +\n"
     ]
    },
    {
     "name": "stdout",
     "output_type": "stream",
     "text": [
      "test y shape : (17520, 1)\n",
      "Inv y shape : (17520, 66)\n"
     ]
    },
    {
     "name": "stderr",
     "output_type": "stream",
     "text": [
      "/Users/alexellard/opt/anaconda3/lib/python3.7/site-packages/xgboost/data.py:96: UserWarning: Use subset (sliced data) of np.ndarray is not recommended because it will generate extra copies and increase memory consumption\n",
      "  \"because it will generate extra copies and increase \" +\n"
     ]
    },
    {
     "name": "stdout",
     "output_type": "stream",
     "text": [
      "test y shape : (17520, 1)\n",
      "Inv y shape : (17520, 66)\n",
      "y pred shape : (17520, 1)\n",
      "inv y pred : (17520, 66)\n",
      "Run 8 Mean Absolute Error: 7.993927966139501\n",
      "RMSE: 11.116\n",
      "R^2: 1.000\n",
      "[['node_7_pressure', 'node_26_pressure', 'node_18_demand', 'link_17_flow', 'link_25_flow', 'link_22_flow', 'link_5_flow', 'link_31_flow', 'node_13_demand', 'node_12_demand', 'node_30_demand', 'node_29_demand', 'link_19_flow', 'reservoir_demand', 'node_6_pressure', 'link_1_flow', 'node_2_demand', 'node_1_pressure', 'node_18_pressure', 'link_18_flow', 'node_5_pressure', 'link_10_flow', 'node_8_demand', 'node_13_pressure', 'link_15_flow', 'node_11_pressure', 'link_20_flow', 'link_6_flow', 'reservoir_pressure', 'link_14_flow']]\n",
      "starting df shape: (87600, 66)\n",
      "This is training run 9 and has the shape:  (87600, 66)\n",
      "The value of dropped columns is 30\n"
     ]
    },
    {
     "name": "stderr",
     "output_type": "stream",
     "text": [
      "/Users/alexellard/opt/anaconda3/lib/python3.7/site-packages/xgboost/data.py:96: UserWarning: Use subset (sliced data) of np.ndarray is not recommended because it will generate extra copies and increase memory consumption\n",
      "  \"because it will generate extra copies and increase \" +\n"
     ]
    },
    {
     "name": "stdout",
     "output_type": "stream",
     "text": [
      "test y shape : (17520, 1)\n",
      "Inv y shape : (17520, 66)\n"
     ]
    },
    {
     "name": "stderr",
     "output_type": "stream",
     "text": [
      "/Users/alexellard/opt/anaconda3/lib/python3.7/site-packages/xgboost/data.py:96: UserWarning: Use subset (sliced data) of np.ndarray is not recommended because it will generate extra copies and increase memory consumption\n",
      "  \"because it will generate extra copies and increase \" +\n"
     ]
    },
    {
     "name": "stdout",
     "output_type": "stream",
     "text": [
      "test y shape : (17520, 1)\n",
      "Inv y shape : (17520, 66)\n",
      "y pred shape : (17520, 1)\n",
      "inv y pred : (17520, 66)\n",
      "Run 9 Mean Absolute Error: 0.519937652557028\n",
      "RMSE: 0.723\n",
      "R^2: 1.000\n",
      "[['link_15_flow', 'node_7_pressure', 'node_10_pressure', 'reservoir_demand', 'node_19_demand', 'link_11_flow', 'node_16_demand', 'node_25_pressure', 'link_25_flow', 'node_29_demand', 'node_20_demand', 'node_17_demand', 'node_27_pressure', 'link_22_flow', 'link_10_flow', 'node_3_pressure', 'node_13_pressure', 'link_1_flow', 'node_17_pressure', 'link_8_flow', 'node_1_demand', 'link_19_flow', 'node_2_pressure', 'node_4_pressure', 'link_21_flow', 'node_3_demand', 'link_29_flow', 'node_9_pressure', 'node_29_pressure', 'node_31_pressure']]\n",
      "starting df shape: (87600, 66)\n",
      "This is training run 10 and has the shape:  (87600, 66)\n",
      "The value of dropped columns is 30\n"
     ]
    },
    {
     "name": "stderr",
     "output_type": "stream",
     "text": [
      "/Users/alexellard/opt/anaconda3/lib/python3.7/site-packages/xgboost/data.py:96: UserWarning: Use subset (sliced data) of np.ndarray is not recommended because it will generate extra copies and increase memory consumption\n",
      "  \"because it will generate extra copies and increase \" +\n"
     ]
    },
    {
     "name": "stdout",
     "output_type": "stream",
     "text": [
      "test y shape : (17520, 1)\n",
      "Inv y shape : (17520, 66)\n"
     ]
    },
    {
     "name": "stderr",
     "output_type": "stream",
     "text": [
      "/Users/alexellard/opt/anaconda3/lib/python3.7/site-packages/xgboost/data.py:96: UserWarning: Use subset (sliced data) of np.ndarray is not recommended because it will generate extra copies and increase memory consumption\n",
      "  \"because it will generate extra copies and increase \" +\n"
     ]
    },
    {
     "name": "stdout",
     "output_type": "stream",
     "text": [
      "test y shape : (17520, 1)\n",
      "Inv y shape : (17520, 66)\n",
      "y pred shape : (17520, 1)\n",
      "inv y pred : (17520, 66)\n",
      "Run 10 Mean Absolute Error: 0.5926598749394061\n",
      "RMSE: 0.822\n",
      "R^2: 1.000\n",
      "[['link_2_flow', 'node_30_pressure', 'node_19_demand', 'link_24_flow', 'link_22_flow', 'node_26_pressure', 'link_29_flow', 'node_16_demand', 'link_5_flow', 'node_15_demand', 'link_11_flow', 'link_1_flow', 'node_6_demand', 'node_6_pressure', 'node_7_pressure', 'node_13_demand', 'link_13_flow', 'link_18_flow', 'node_25_pressure', 'node_18_demand', 'node_18_pressure', 'node_3_demand', 'node_21_demand', 'link_21_flow', 'node_5_pressure', 'node_10_pressure', 'node_21_pressure', 'node_17_demand', 'node_23_demand', 'node_10_demand', 'node_20_demand', 'node_5_demand', 'node_4_pressure', 'link_9_flow']]\n",
      "starting df shape: (87600, 62)\n",
      "This is training run 1 and has the shape:  (87600, 62)\n",
      "The value of dropped columns is 35\n"
     ]
    },
    {
     "name": "stderr",
     "output_type": "stream",
     "text": [
      "/Users/alexellard/opt/anaconda3/lib/python3.7/site-packages/xgboost/data.py:96: UserWarning: Use subset (sliced data) of np.ndarray is not recommended because it will generate extra copies and increase memory consumption\n",
      "  \"because it will generate extra copies and increase \" +\n"
     ]
    },
    {
     "name": "stdout",
     "output_type": "stream",
     "text": [
      "test y shape : (17520, 1)\n",
      "Inv y shape : (17520, 62)\n"
     ]
    },
    {
     "name": "stderr",
     "output_type": "stream",
     "text": [
      "/Users/alexellard/opt/anaconda3/lib/python3.7/site-packages/xgboost/data.py:96: UserWarning: Use subset (sliced data) of np.ndarray is not recommended because it will generate extra copies and increase memory consumption\n",
      "  \"because it will generate extra copies and increase \" +\n"
     ]
    },
    {
     "name": "stdout",
     "output_type": "stream",
     "text": [
      "test y shape : (17520, 1)\n",
      "Inv y shape : (17520, 62)\n",
      "y pred shape : (17520, 1)\n",
      "inv y pred : (17520, 62)\n",
      "Run 1 Mean Absolute Error: 8.257491572434885\n",
      "RMSE: 11.453\n",
      "R^2: 1.000\n",
      "[['node_20_pressure', 'node_5_demand', 'link_10_flow', 'link_28_flow', 'node_15_pressure', 'link_23_flow', 'node_29_pressure', 'link_24_flow', 'link_3_flow', 'node_10_pressure', 'node_4_pressure', 'node_25_pressure', 'node_1_demand', 'link_20_flow', 'node_7_demand', 'link_26_flow', 'node_18_demand', 'node_24_demand', 'node_2_demand', 'node_7_pressure', 'link_31_flow', 'node_13_pressure', 'node_31_demand', 'link_19_flow', 'reservoir_pressure', 'node_26_demand', 'node_17_demand', 'node_13_demand', 'reservoir_demand', 'node_9_pressure', 'node_5_pressure', 'node_15_demand', 'link_32_flow', 'node_17_pressure', 'link_15_flow']]\n",
      "starting df shape: (87600, 61)\n",
      "This is training run 2 and has the shape:  (87600, 61)\n",
      "The value of dropped columns is 35\n"
     ]
    },
    {
     "name": "stderr",
     "output_type": "stream",
     "text": [
      "/Users/alexellard/opt/anaconda3/lib/python3.7/site-packages/xgboost/data.py:96: UserWarning: Use subset (sliced data) of np.ndarray is not recommended because it will generate extra copies and increase memory consumption\n",
      "  \"because it will generate extra copies and increase \" +\n"
     ]
    },
    {
     "name": "stdout",
     "output_type": "stream",
     "text": [
      "test y shape : (17520, 1)\n",
      "Inv y shape : (17520, 61)\n"
     ]
    },
    {
     "name": "stderr",
     "output_type": "stream",
     "text": [
      "/Users/alexellard/opt/anaconda3/lib/python3.7/site-packages/xgboost/data.py:96: UserWarning: Use subset (sliced data) of np.ndarray is not recommended because it will generate extra copies and increase memory consumption\n",
      "  \"because it will generate extra copies and increase \" +\n"
     ]
    },
    {
     "name": "stdout",
     "output_type": "stream",
     "text": [
      "test y shape : (17520, 1)\n",
      "Inv y shape : (17520, 61)\n",
      "y pred shape : (17520, 1)\n",
      "inv y pred : (17520, 61)\n",
      "Run 2 Mean Absolute Error: 0.07697744297614656\n",
      "RMSE: 0.105\n",
      "R^2: 1.000\n",
      "[['node_30_demand', 'node_28_pressure', 'node_17_demand', 'node_14_demand', 'link_2_flow', 'node_23_demand', 'node_24_pressure', 'link_11_flow', 'node_22_pressure', 'node_19_pressure', 'node_7_demand', 'node_1_pressure', 'node_27_pressure', 'node_4_pressure', 'node_23_pressure', 'node_8_pressure', 'link_3_flow', 'link_6_flow', 'node_17_pressure', 'node_22_demand', 'link_28_flow', 'node_6_pressure', 'link_9_flow', 'node_31_demand', 'node_5_pressure', 'node_9_demand', 'link_30_flow', 'link_7_flow', 'node_3_demand', 'link_12_flow', 'link_20_flow', 'link_4_flow', 'node_21_pressure', 'link_5_flow']]\n",
      "starting df shape: (87600, 62)\n",
      "This is training run 3 and has the shape:  (87600, 62)\n",
      "The value of dropped columns is 35\n"
     ]
    },
    {
     "name": "stderr",
     "output_type": "stream",
     "text": [
      "/Users/alexellard/opt/anaconda3/lib/python3.7/site-packages/xgboost/data.py:96: UserWarning: Use subset (sliced data) of np.ndarray is not recommended because it will generate extra copies and increase memory consumption\n",
      "  \"because it will generate extra copies and increase \" +\n"
     ]
    },
    {
     "name": "stdout",
     "output_type": "stream",
     "text": [
      "test y shape : (17520, 1)\n",
      "Inv y shape : (17520, 62)\n"
     ]
    },
    {
     "name": "stderr",
     "output_type": "stream",
     "text": [
      "/Users/alexellard/opt/anaconda3/lib/python3.7/site-packages/xgboost/data.py:96: UserWarning: Use subset (sliced data) of np.ndarray is not recommended because it will generate extra copies and increase memory consumption\n",
      "  \"because it will generate extra copies and increase \" +\n"
     ]
    },
    {
     "name": "stdout",
     "output_type": "stream",
     "text": [
      "test y shape : (17520, 1)\n",
      "Inv y shape : (17520, 62)\n",
      "y pred shape : (17520, 1)\n",
      "inv y pred : (17520, 62)\n",
      "Run 3 Mean Absolute Error: 8.135136284161435\n",
      "RMSE: 11.469\n",
      "R^2: 1.000\n",
      "[['link_16_flow', 'link_6_flow', 'link_24_flow', 'reservoir_pressure', 'link_17_flow', 'node_8_demand', 'link_26_flow', 'node_27_demand', 'node_2_demand', 'node_23_demand', 'node_28_demand', 'node_19_pressure', 'node_4_pressure', 'node_14_pressure', 'link_18_flow', 'node_19_demand', 'node_3_demand', 'node_28_pressure', 'link_15_flow', 'link_14_flow', 'node_17_demand', 'node_18_demand', 'node_25_demand', 'node_30_demand', 'node_21_pressure', 'node_7_pressure', 'node_6_demand', 'link_12_flow', 'node_4_demand', 'node_25_pressure', 'link_28_flow', 'link_21_flow', 'node_8_pressure', 'link_13_flow', 'node_1_pressure']]\n",
      "starting df shape: (87600, 61)\n",
      "This is training run 4 and has the shape:  (87600, 61)\n",
      "The value of dropped columns is 35\n"
     ]
    },
    {
     "name": "stderr",
     "output_type": "stream",
     "text": [
      "/Users/alexellard/opt/anaconda3/lib/python3.7/site-packages/xgboost/data.py:96: UserWarning: Use subset (sliced data) of np.ndarray is not recommended because it will generate extra copies and increase memory consumption\n",
      "  \"because it will generate extra copies and increase \" +\n"
     ]
    },
    {
     "name": "stdout",
     "output_type": "stream",
     "text": [
      "test y shape : (17520, 1)\n",
      "Inv y shape : (17520, 61)\n"
     ]
    },
    {
     "name": "stderr",
     "output_type": "stream",
     "text": [
      "/Users/alexellard/opt/anaconda3/lib/python3.7/site-packages/xgboost/data.py:96: UserWarning: Use subset (sliced data) of np.ndarray is not recommended because it will generate extra copies and increase memory consumption\n",
      "  \"because it will generate extra copies and increase \" +\n"
     ]
    },
    {
     "name": "stdout",
     "output_type": "stream",
     "text": [
      "test y shape : (17520, 1)\n",
      "Inv y shape : (17520, 61)\n",
      "y pred shape : (17520, 1)\n",
      "inv y pred : (17520, 61)\n",
      "Run 4 Mean Absolute Error: 8.632904208170364\n",
      "RMSE: 12.121\n",
      "R^2: 1.000\n",
      "[['node_13_pressure', 'link_25_flow', 'link_13_flow', 'node_28_pressure', 'link_15_flow', 'node_29_demand', 'node_4_pressure', 'node_7_demand', 'node_15_pressure', 'link_27_flow', 'node_21_demand', 'node_25_demand', 'link_14_flow', 'node_24_demand', 'node_6_pressure', 'link_28_flow', 'node_30_pressure', 'link_6_flow', 'node_4_demand', 'node_22_demand', 'link_10_flow', 'node_10_pressure', 'node_19_demand', 'node_3_pressure', 'link_12_flow', 'node_26_demand', 'node_13_demand', 'node_5_demand', 'link_16_flow', 'node_21_pressure', 'node_14_pressure', 'node_18_demand', 'link_2_flow', 'node_10_demand', 'node_19_pressure']]\n",
      "starting df shape: (87600, 61)\n",
      "This is training run 5 and has the shape:  (87600, 61)\n",
      "The value of dropped columns is 35\n"
     ]
    },
    {
     "name": "stderr",
     "output_type": "stream",
     "text": [
      "/Users/alexellard/opt/anaconda3/lib/python3.7/site-packages/xgboost/data.py:96: UserWarning: Use subset (sliced data) of np.ndarray is not recommended because it will generate extra copies and increase memory consumption\n",
      "  \"because it will generate extra copies and increase \" +\n"
     ]
    },
    {
     "name": "stdout",
     "output_type": "stream",
     "text": [
      "test y shape : (17520, 1)\n",
      "Inv y shape : (17520, 61)\n"
     ]
    },
    {
     "name": "stderr",
     "output_type": "stream",
     "text": [
      "/Users/alexellard/opt/anaconda3/lib/python3.7/site-packages/xgboost/data.py:96: UserWarning: Use subset (sliced data) of np.ndarray is not recommended because it will generate extra copies and increase memory consumption\n",
      "  \"because it will generate extra copies and increase \" +\n"
     ]
    },
    {
     "name": "stdout",
     "output_type": "stream",
     "text": [
      "test y shape : (17520, 1)\n",
      "Inv y shape : (17520, 61)\n",
      "y pred shape : (17520, 1)\n",
      "inv y pred : (17520, 61)\n",
      "Run 5 Mean Absolute Error: 9.07325728410067\n",
      "RMSE: 12.432\n",
      "R^2: 1.000\n",
      "[['link_13_flow', 'node_12_pressure', 'node_9_pressure', 'node_13_pressure', 'node_14_demand', 'node_15_pressure', 'link_19_flow', 'link_27_flow', 'node_11_pressure', 'link_22_flow', 'node_30_pressure', 'node_24_demand', 'node_24_pressure', 'link_18_flow', 'node_10_pressure', 'link_9_flow', 'node_3_demand', 'node_22_demand', 'node_2_demand', 'node_28_pressure', 'node_7_demand', 'reservoir_pressure', 'node_23_demand', 'node_3_pressure', 'link_15_flow', 'node_19_pressure', 'node_15_demand', 'link_10_flow', 'link_4_flow', 'node_31_demand', 'link_16_flow', 'link_12_flow', 'node_14_pressure', 'node_25_pressure', 'link_17_flow']]\n",
      "starting df shape: (87600, 61)\n",
      "This is training run 6 and has the shape:  (87600, 61)\n",
      "The value of dropped columns is 35\n"
     ]
    },
    {
     "name": "stderr",
     "output_type": "stream",
     "text": [
      "/Users/alexellard/opt/anaconda3/lib/python3.7/site-packages/xgboost/data.py:96: UserWarning: Use subset (sliced data) of np.ndarray is not recommended because it will generate extra copies and increase memory consumption\n",
      "  \"because it will generate extra copies and increase \" +\n"
     ]
    },
    {
     "name": "stdout",
     "output_type": "stream",
     "text": [
      "test y shape : (17520, 1)\n",
      "Inv y shape : (17520, 61)\n"
     ]
    },
    {
     "name": "stderr",
     "output_type": "stream",
     "text": [
      "/Users/alexellard/opt/anaconda3/lib/python3.7/site-packages/xgboost/data.py:96: UserWarning: Use subset (sliced data) of np.ndarray is not recommended because it will generate extra copies and increase memory consumption\n",
      "  \"because it will generate extra copies and increase \" +\n"
     ]
    },
    {
     "name": "stdout",
     "output_type": "stream",
     "text": [
      "test y shape : (17520, 1)\n",
      "Inv y shape : (17520, 61)\n",
      "y pred shape : (17520, 1)\n",
      "inv y pred : (17520, 61)\n",
      "Run 6 Mean Absolute Error: 8.296034403633142\n",
      "RMSE: 11.361\n",
      "R^2: 1.000\n",
      "[['node_1_demand', 'node_14_demand', 'node_26_pressure', 'node_1_pressure', 'node_17_demand', 'link_2_flow', 'link_24_flow', 'node_19_demand', 'link_23_flow', 'node_3_demand', 'node_15_pressure', 'node_28_pressure', 'node_3_pressure', 'node_29_demand', 'link_15_flow', 'node_18_pressure', 'node_22_demand', 'link_11_flow', 'node_13_pressure', 'node_5_demand', 'node_2_pressure', 'node_9_pressure', 'link_3_flow', 'node_15_demand', 'node_8_demand', 'link_32_flow', 'node_16_demand', 'node_26_demand', 'node_9_demand', 'link_22_flow', 'node_6_pressure', 'node_21_demand', 'node_19_pressure', 'node_22_pressure', 'node_28_demand']]\n",
      "starting df shape: (87600, 61)\n",
      "This is training run 7 and has the shape:  (87600, 61)\n",
      "The value of dropped columns is 35\n"
     ]
    },
    {
     "name": "stderr",
     "output_type": "stream",
     "text": [
      "/Users/alexellard/opt/anaconda3/lib/python3.7/site-packages/xgboost/data.py:96: UserWarning: Use subset (sliced data) of np.ndarray is not recommended because it will generate extra copies and increase memory consumption\n",
      "  \"because it will generate extra copies and increase \" +\n"
     ]
    },
    {
     "name": "stdout",
     "output_type": "stream",
     "text": [
      "test y shape : (17520, 1)\n",
      "Inv y shape : (17520, 61)\n"
     ]
    },
    {
     "name": "stderr",
     "output_type": "stream",
     "text": [
      "/Users/alexellard/opt/anaconda3/lib/python3.7/site-packages/xgboost/data.py:96: UserWarning: Use subset (sliced data) of np.ndarray is not recommended because it will generate extra copies and increase memory consumption\n",
      "  \"because it will generate extra copies and increase \" +\n"
     ]
    },
    {
     "name": "stdout",
     "output_type": "stream",
     "text": [
      "test y shape : (17520, 1)\n",
      "Inv y shape : (17520, 61)\n",
      "y pred shape : (17520, 1)\n",
      "inv y pred : (17520, 61)\n",
      "Run 7 Mean Absolute Error: 10.751138300126104\n",
      "RMSE: 14.841\n",
      "R^2: 1.000\n",
      "[['link_7_flow', 'node_7_demand', 'node_6_demand', 'link_17_flow', 'node_31_pressure', 'node_23_demand', 'link_15_flow', 'link_6_flow', 'link_22_flow', 'node_2_demand', 'node_21_demand', 'node_24_demand', 'node_10_pressure', 'node_8_demand', 'node_9_pressure', 'link_30_flow', 'link_26_flow', 'node_31_demand', 'node_13_demand', 'node_6_pressure', 'node_25_demand', 'node_24_pressure', 'node_26_demand', 'link_5_flow', 'link_27_flow', 'link_1_flow', 'node_19_pressure', 'link_4_flow', 'link_28_flow', 'node_11_pressure', 'link_10_flow', 'node_30_demand', 'node_28_demand', 'node_22_demand', 'link_14_flow']]\n",
      "starting df shape: (87600, 61)\n",
      "This is training run 8 and has the shape:  (87600, 61)\n",
      "The value of dropped columns is 35\n"
     ]
    },
    {
     "name": "stderr",
     "output_type": "stream",
     "text": [
      "/Users/alexellard/opt/anaconda3/lib/python3.7/site-packages/xgboost/data.py:96: UserWarning: Use subset (sliced data) of np.ndarray is not recommended because it will generate extra copies and increase memory consumption\n",
      "  \"because it will generate extra copies and increase \" +\n"
     ]
    },
    {
     "name": "stdout",
     "output_type": "stream",
     "text": [
      "test y shape : (17520, 1)\n",
      "Inv y shape : (17520, 61)\n"
     ]
    },
    {
     "name": "stderr",
     "output_type": "stream",
     "text": [
      "/Users/alexellard/opt/anaconda3/lib/python3.7/site-packages/xgboost/data.py:96: UserWarning: Use subset (sliced data) of np.ndarray is not recommended because it will generate extra copies and increase memory consumption\n",
      "  \"because it will generate extra copies and increase \" +\n"
     ]
    },
    {
     "name": "stdout",
     "output_type": "stream",
     "text": [
      "test y shape : (17520, 1)\n",
      "Inv y shape : (17520, 61)\n",
      "y pred shape : (17520, 1)\n",
      "inv y pred : (17520, 61)\n",
      "Run 8 Mean Absolute Error: 7.880427157702282\n",
      "RMSE: 10.903\n",
      "R^2: 1.000\n",
      "[['link_29_flow', 'link_19_flow', 'node_9_pressure', 'link_4_flow', 'node_11_demand', 'link_16_flow', 'node_4_demand', 'node_21_pressure', 'link_6_flow', 'node_17_pressure', 'node_7_pressure', 'link_2_flow', 'link_15_flow', 'link_18_flow', 'node_18_pressure', 'node_28_pressure', 'node_19_pressure', 'node_31_demand', 'node_22_demand', 'node_28_demand', 'link_8_flow', 'node_23_demand', 'node_8_demand', 'link_3_flow', 'node_13_demand', 'link_28_flow', 'link_26_flow', 'link_7_flow', 'node_11_pressure', 'node_7_demand', 'node_27_demand', 'node_1_demand', 'node_5_pressure', 'node_4_pressure', 'node_1_pressure']]\n",
      "starting df shape: (87600, 61)\n",
      "This is training run 9 and has the shape:  (87600, 61)\n",
      "The value of dropped columns is 35\n"
     ]
    },
    {
     "name": "stderr",
     "output_type": "stream",
     "text": [
      "/Users/alexellard/opt/anaconda3/lib/python3.7/site-packages/xgboost/data.py:96: UserWarning: Use subset (sliced data) of np.ndarray is not recommended because it will generate extra copies and increase memory consumption\n",
      "  \"because it will generate extra copies and increase \" +\n"
     ]
    },
    {
     "name": "stdout",
     "output_type": "stream",
     "text": [
      "test y shape : (17520, 1)\n",
      "Inv y shape : (17520, 61)\n"
     ]
    },
    {
     "name": "stderr",
     "output_type": "stream",
     "text": [
      "/Users/alexellard/opt/anaconda3/lib/python3.7/site-packages/xgboost/data.py:96: UserWarning: Use subset (sliced data) of np.ndarray is not recommended because it will generate extra copies and increase memory consumption\n",
      "  \"because it will generate extra copies and increase \" +\n"
     ]
    },
    {
     "name": "stdout",
     "output_type": "stream",
     "text": [
      "test y shape : (17520, 1)\n",
      "Inv y shape : (17520, 61)\n",
      "y pred shape : (17520, 1)\n",
      "inv y pred : (17520, 61)\n",
      "Run 9 Mean Absolute Error: 8.521564727838179\n",
      "RMSE: 11.897\n",
      "R^2: 1.000\n",
      "[['node_1_demand', 'link_23_flow', 'node_24_demand', 'link_4_flow', 'node_18_pressure', 'node_11_pressure', 'node_27_pressure', 'node_17_demand', 'node_30_demand', 'node_22_pressure', 'node_21_demand', 'link_30_flow', 'link_3_flow', 'node_18_demand', 'node_13_pressure', 'node_29_demand', 'link_7_flow', 'link_31_flow', 'link_2_flow', 'node_7_pressure', 'node_9_demand', 'link_22_flow', 'node_29_pressure', 'reservoir_demand', 'link_9_flow', 'node_31_demand', 'node_20_demand', 'node_21_pressure', 'node_23_demand', 'node_1_pressure', 'node_6_demand', 'node_2_pressure', 'node_3_demand', 'link_19_flow']]\n",
      "starting df shape: (87600, 62)\n",
      "This is training run 10 and has the shape:  (87600, 62)\n",
      "The value of dropped columns is 35\n"
     ]
    },
    {
     "name": "stderr",
     "output_type": "stream",
     "text": [
      "/Users/alexellard/opt/anaconda3/lib/python3.7/site-packages/xgboost/data.py:96: UserWarning: Use subset (sliced data) of np.ndarray is not recommended because it will generate extra copies and increase memory consumption\n",
      "  \"because it will generate extra copies and increase \" +\n"
     ]
    },
    {
     "name": "stdout",
     "output_type": "stream",
     "text": [
      "test y shape : (17520, 1)\n",
      "Inv y shape : (17520, 62)\n"
     ]
    },
    {
     "name": "stderr",
     "output_type": "stream",
     "text": [
      "/Users/alexellard/opt/anaconda3/lib/python3.7/site-packages/xgboost/data.py:96: UserWarning: Use subset (sliced data) of np.ndarray is not recommended because it will generate extra copies and increase memory consumption\n",
      "  \"because it will generate extra copies and increase \" +\n"
     ]
    },
    {
     "name": "stdout",
     "output_type": "stream",
     "text": [
      "test y shape : (17520, 1)\n",
      "Inv y shape : (17520, 62)\n",
      "y pred shape : (17520, 1)\n",
      "inv y pred : (17520, 62)\n",
      "Run 10 Mean Absolute Error: 0.41883342577820143\n",
      "RMSE: 0.582\n",
      "R^2: 1.000\n",
      "[['node_10_pressure', 'node_11_pressure', 'link_29_flow', 'node_8_demand', 'link_3_flow', 'reservoir_pressure', 'link_24_flow', 'node_15_pressure', 'node_20_demand', 'node_31_demand', 'node_6_pressure', 'link_28_flow', 'node_4_pressure', 'node_18_demand', 'node_8_pressure', 'node_13_pressure', 'link_6_flow', 'link_14_flow', 'node_6_demand', 'node_5_pressure', 'link_5_flow', 'node_31_pressure', 'node_9_demand', 'node_14_demand', 'link_32_flow', 'node_13_demand', 'node_26_demand', 'link_11_flow', 'node_18_pressure', 'link_20_flow', 'link_1_flow', 'node_9_pressure', 'link_8_flow', 'node_23_pressure', 'node_17_demand', 'node_1_pressure', 'node_20_pressure', 'link_21_flow', 'node_25_demand', 'link_26_flow']]\n",
      "starting df shape: (87600, 56)\n",
      "This is training run 1 and has the shape:  (87600, 56)\n",
      "The value of dropped columns is 40\n"
     ]
    },
    {
     "name": "stderr",
     "output_type": "stream",
     "text": [
      "/Users/alexellard/opt/anaconda3/lib/python3.7/site-packages/xgboost/data.py:96: UserWarning: Use subset (sliced data) of np.ndarray is not recommended because it will generate extra copies and increase memory consumption\n",
      "  \"because it will generate extra copies and increase \" +\n"
     ]
    },
    {
     "name": "stdout",
     "output_type": "stream",
     "text": [
      "test y shape : (17520, 1)\n",
      "Inv y shape : (17520, 56)\n"
     ]
    },
    {
     "name": "stderr",
     "output_type": "stream",
     "text": [
      "/Users/alexellard/opt/anaconda3/lib/python3.7/site-packages/xgboost/data.py:96: UserWarning: Use subset (sliced data) of np.ndarray is not recommended because it will generate extra copies and increase memory consumption\n",
      "  \"because it will generate extra copies and increase \" +\n"
     ]
    },
    {
     "name": "stdout",
     "output_type": "stream",
     "text": [
      "test y shape : (17520, 1)\n",
      "Inv y shape : (17520, 56)\n",
      "y pred shape : (17520, 1)\n",
      "inv y pred : (17520, 56)\n",
      "Run 1 Mean Absolute Error: 8.214186635713205\n",
      "RMSE: 11.259\n",
      "R^2: 1.000\n",
      "[['node_27_pressure', 'node_19_demand', 'link_30_flow', 'node_18_demand', 'link_9_flow', 'node_5_demand', 'node_3_demand', 'node_1_pressure', 'link_13_flow', 'node_20_demand', 'node_14_demand', 'link_10_flow', 'node_19_pressure', 'node_4_pressure', 'node_27_demand', 'node_12_demand', 'node_17_pressure', 'node_25_demand', 'link_5_flow', 'node_22_pressure', 'node_7_demand', 'node_12_pressure', 'link_32_flow', 'node_11_demand', 'node_24_pressure', 'link_25_flow', 'link_22_flow', 'link_4_flow', 'link_19_flow', 'link_7_flow', 'link_11_flow', 'node_4_demand', 'node_3_pressure', 'link_28_flow', 'node_28_demand', 'link_6_flow', 'link_8_flow', 'link_24_flow', 'node_11_pressure', 'node_9_demand']]\n",
      "starting df shape: (87600, 56)\n",
      "This is training run 2 and has the shape:  (87600, 56)\n",
      "The value of dropped columns is 40\n"
     ]
    },
    {
     "name": "stderr",
     "output_type": "stream",
     "text": [
      "/Users/alexellard/opt/anaconda3/lib/python3.7/site-packages/xgboost/data.py:96: UserWarning: Use subset (sliced data) of np.ndarray is not recommended because it will generate extra copies and increase memory consumption\n",
      "  \"because it will generate extra copies and increase \" +\n"
     ]
    },
    {
     "name": "stdout",
     "output_type": "stream",
     "text": [
      "test y shape : (17520, 1)\n",
      "Inv y shape : (17520, 56)\n"
     ]
    },
    {
     "name": "stderr",
     "output_type": "stream",
     "text": [
      "/Users/alexellard/opt/anaconda3/lib/python3.7/site-packages/xgboost/data.py:96: UserWarning: Use subset (sliced data) of np.ndarray is not recommended because it will generate extra copies and increase memory consumption\n",
      "  \"because it will generate extra copies and increase \" +\n"
     ]
    },
    {
     "name": "stdout",
     "output_type": "stream",
     "text": [
      "test y shape : (17520, 1)\n",
      "Inv y shape : (17520, 56)\n",
      "y pred shape : (17520, 1)\n",
      "inv y pred : (17520, 56)\n",
      "Run 2 Mean Absolute Error: 7.696224234851106\n",
      "RMSE: 11.108\n",
      "R^2: 1.000\n",
      "[['link_1_flow', 'link_28_flow', 'node_17_pressure', 'node_14_pressure', 'link_11_flow', 'node_17_demand', 'node_1_pressure', 'node_21_demand', 'node_7_pressure', 'link_3_flow', 'link_27_flow', 'node_8_pressure', 'node_29_demand', 'node_5_pressure', 'node_25_demand', 'link_14_flow', 'link_29_flow', 'node_6_pressure', 'node_22_demand', 'link_22_flow', 'link_30_flow', 'link_31_flow', 'node_9_demand', 'node_20_demand', 'link_24_flow', 'node_13_pressure', 'node_3_demand', 'node_31_pressure', 'node_4_demand', 'node_23_pressure', 'node_12_pressure', 'reservoir_demand', 'node_27_pressure', 'node_9_pressure', 'link_20_flow', 'node_15_demand', 'link_8_flow', 'link_7_flow', 'node_5_demand', 'node_28_demand']]\n",
      "starting df shape: (87600, 56)\n",
      "This is training run 3 and has the shape:  (87600, 56)\n",
      "The value of dropped columns is 40\n"
     ]
    },
    {
     "name": "stderr",
     "output_type": "stream",
     "text": [
      "/Users/alexellard/opt/anaconda3/lib/python3.7/site-packages/xgboost/data.py:96: UserWarning: Use subset (sliced data) of np.ndarray is not recommended because it will generate extra copies and increase memory consumption\n",
      "  \"because it will generate extra copies and increase \" +\n"
     ]
    },
    {
     "name": "stdout",
     "output_type": "stream",
     "text": [
      "test y shape : (17520, 1)\n",
      "Inv y shape : (17520, 56)\n"
     ]
    },
    {
     "name": "stderr",
     "output_type": "stream",
     "text": [
      "/Users/alexellard/opt/anaconda3/lib/python3.7/site-packages/xgboost/data.py:96: UserWarning: Use subset (sliced data) of np.ndarray is not recommended because it will generate extra copies and increase memory consumption\n",
      "  \"because it will generate extra copies and increase \" +\n"
     ]
    },
    {
     "name": "stdout",
     "output_type": "stream",
     "text": [
      "test y shape : (17520, 1)\n",
      "Inv y shape : (17520, 56)\n",
      "y pred shape : (17520, 1)\n",
      "inv y pred : (17520, 56)\n",
      "Run 3 Mean Absolute Error: 0.5128406587855068\n",
      "RMSE: 0.715\n",
      "R^2: 1.000\n",
      "[['node_2_pressure', 'link_21_flow', 'node_7_pressure', 'node_10_pressure', 'link_15_flow', 'link_3_flow', 'node_31_pressure', 'link_6_flow', 'node_16_demand', 'link_19_flow', 'link_28_flow', 'link_2_flow', 'node_30_pressure', 'node_12_demand', 'node_6_demand', 'node_4_demand', 'node_11_pressure', 'reservoir_pressure', 'node_11_demand', 'node_9_demand', 'node_28_pressure', 'link_12_flow', 'node_10_demand', 'link_4_flow', 'link_13_flow', 'link_9_flow', 'node_22_demand', 'node_30_demand', 'link_32_flow', 'node_28_demand', 'node_26_demand', 'node_21_demand', 'node_1_demand', 'node_19_pressure', 'node_25_demand', 'node_19_demand', 'node_17_pressure', 'node_6_pressure', 'link_24_flow']]\n",
      "starting df shape: (87600, 57)\n",
      "This is training run 4 and has the shape:  (87600, 57)\n",
      "The value of dropped columns is 40\n"
     ]
    },
    {
     "name": "stderr",
     "output_type": "stream",
     "text": [
      "/Users/alexellard/opt/anaconda3/lib/python3.7/site-packages/xgboost/data.py:96: UserWarning: Use subset (sliced data) of np.ndarray is not recommended because it will generate extra copies and increase memory consumption\n",
      "  \"because it will generate extra copies and increase \" +\n"
     ]
    },
    {
     "name": "stdout",
     "output_type": "stream",
     "text": [
      "test y shape : (17520, 1)\n",
      "Inv y shape : (17520, 57)\n"
     ]
    },
    {
     "name": "stderr",
     "output_type": "stream",
     "text": [
      "/Users/alexellard/opt/anaconda3/lib/python3.7/site-packages/xgboost/data.py:96: UserWarning: Use subset (sliced data) of np.ndarray is not recommended because it will generate extra copies and increase memory consumption\n",
      "  \"because it will generate extra copies and increase \" +\n"
     ]
    },
    {
     "name": "stdout",
     "output_type": "stream",
     "text": [
      "test y shape : (17520, 1)\n",
      "Inv y shape : (17520, 57)\n",
      "y pred shape : (17520, 1)\n",
      "inv y pred : (17520, 57)\n",
      "Run 4 Mean Absolute Error: 11.006957413630587\n",
      "RMSE: 15.533\n",
      "R^2: 1.000\n",
      "[['node_26_demand', 'node_2_pressure', 'node_30_pressure', 'node_8_demand', 'node_3_demand', 'node_13_demand', 'link_13_flow', 'link_10_flow', 'node_14_pressure', 'node_27_demand', 'link_16_flow', 'node_16_demand', 'node_5_pressure', 'node_29_demand', 'link_4_flow', 'link_22_flow', 'link_11_flow', 'node_22_pressure', 'node_30_demand', 'link_23_flow', 'node_17_pressure', 'node_27_pressure', 'node_10_pressure', 'node_21_pressure', 'link_3_flow', 'link_2_flow', 'node_20_pressure', 'node_6_pressure', 'link_17_flow', 'node_20_demand', 'node_12_pressure', 'link_1_flow', 'link_20_flow', 'node_29_pressure', 'node_9_pressure', 'node_15_demand', 'link_12_flow', 'node_6_demand', 'link_18_flow', 'node_28_pressure']]\n",
      "starting df shape: (87600, 56)\n",
      "This is training run 5 and has the shape:  (87600, 56)\n",
      "The value of dropped columns is 40\n"
     ]
    },
    {
     "name": "stderr",
     "output_type": "stream",
     "text": [
      "/Users/alexellard/opt/anaconda3/lib/python3.7/site-packages/xgboost/data.py:96: UserWarning: Use subset (sliced data) of np.ndarray is not recommended because it will generate extra copies and increase memory consumption\n",
      "  \"because it will generate extra copies and increase \" +\n"
     ]
    },
    {
     "name": "stdout",
     "output_type": "stream",
     "text": [
      "test y shape : (17520, 1)\n",
      "Inv y shape : (17520, 56)\n"
     ]
    },
    {
     "name": "stderr",
     "output_type": "stream",
     "text": [
      "/Users/alexellard/opt/anaconda3/lib/python3.7/site-packages/xgboost/data.py:96: UserWarning: Use subset (sliced data) of np.ndarray is not recommended because it will generate extra copies and increase memory consumption\n",
      "  \"because it will generate extra copies and increase \" +\n"
     ]
    },
    {
     "name": "stdout",
     "output_type": "stream",
     "text": [
      "test y shape : (17520, 1)\n",
      "Inv y shape : (17520, 56)\n",
      "y pred shape : (17520, 1)\n",
      "inv y pred : (17520, 56)\n",
      "Run 5 Mean Absolute Error: 9.39032121835389\n",
      "RMSE: 13.108\n",
      "R^2: 1.000\n",
      "[['node_27_demand', 'node_3_demand', 'node_22_pressure', 'node_6_demand', 'link_16_flow', 'node_14_pressure', 'node_25_pressure', 'node_23_demand', 'link_14_flow', 'node_18_pressure', 'node_10_demand', 'node_22_demand', 'link_27_flow', 'link_3_flow', 'node_5_pressure', 'node_12_pressure', 'link_26_flow', 'link_30_flow', 'node_19_pressure', 'node_28_demand', 'node_19_demand', 'node_8_pressure', 'link_29_flow', 'node_17_demand', 'node_9_pressure', 'node_24_pressure', 'node_31_demand', 'link_22_flow', 'node_3_pressure', 'link_11_flow', 'link_31_flow', 'node_9_demand', 'node_26_demand', 'node_30_demand', 'link_1_flow', 'node_28_pressure', 'node_7_pressure', 'link_24_flow', 'link_32_flow']]\n",
      "starting df shape: (87600, 57)\n",
      "This is training run 6 and has the shape:  (87600, 57)\n",
      "The value of dropped columns is 40\n"
     ]
    },
    {
     "name": "stderr",
     "output_type": "stream",
     "text": [
      "/Users/alexellard/opt/anaconda3/lib/python3.7/site-packages/xgboost/data.py:96: UserWarning: Use subset (sliced data) of np.ndarray is not recommended because it will generate extra copies and increase memory consumption\n",
      "  \"because it will generate extra copies and increase \" +\n"
     ]
    },
    {
     "name": "stdout",
     "output_type": "stream",
     "text": [
      "test y shape : (17520, 1)\n",
      "Inv y shape : (17520, 57)\n"
     ]
    },
    {
     "name": "stderr",
     "output_type": "stream",
     "text": [
      "/Users/alexellard/opt/anaconda3/lib/python3.7/site-packages/xgboost/data.py:96: UserWarning: Use subset (sliced data) of np.ndarray is not recommended because it will generate extra copies and increase memory consumption\n",
      "  \"because it will generate extra copies and increase \" +\n"
     ]
    },
    {
     "name": "stdout",
     "output_type": "stream",
     "text": [
      "test y shape : (17520, 1)\n",
      "Inv y shape : (17520, 57)\n",
      "y pred shape : (17520, 1)\n",
      "inv y pred : (17520, 57)\n",
      "Run 6 Mean Absolute Error: 7.436312345405447\n",
      "RMSE: 10.548\n",
      "R^2: 1.000\n",
      "[['link_11_flow', 'node_29_demand', 'link_9_flow', 'link_14_flow', 'node_23_pressure', 'node_24_demand', 'node_20_demand', 'node_10_demand', 'node_30_pressure', 'node_24_pressure', 'node_4_pressure', 'node_7_pressure', 'node_19_pressure', 'node_10_pressure', 'node_15_pressure', 'link_27_flow', 'link_20_flow', 'node_18_pressure', 'node_6_demand', 'node_11_pressure', 'link_30_flow', 'node_6_pressure', 'link_24_flow', 'node_9_pressure', 'node_8_pressure', 'link_21_flow', 'node_16_demand', 'link_29_flow', 'link_7_flow', 'node_3_pressure', 'node_27_demand', 'node_1_demand', 'link_3_flow', 'node_5_demand', 'node_31_demand', 'node_1_pressure', 'node_21_demand', 'node_28_demand', 'node_14_demand', 'link_4_flow']]\n",
      "starting df shape: (87600, 56)\n",
      "This is training run 7 and has the shape:  (87600, 56)\n",
      "The value of dropped columns is 40\n"
     ]
    },
    {
     "name": "stderr",
     "output_type": "stream",
     "text": [
      "/Users/alexellard/opt/anaconda3/lib/python3.7/site-packages/xgboost/data.py:96: UserWarning: Use subset (sliced data) of np.ndarray is not recommended because it will generate extra copies and increase memory consumption\n",
      "  \"because it will generate extra copies and increase \" +\n"
     ]
    },
    {
     "name": "stdout",
     "output_type": "stream",
     "text": [
      "test y shape : (17520, 1)\n",
      "Inv y shape : (17520, 56)\n"
     ]
    },
    {
     "name": "stderr",
     "output_type": "stream",
     "text": [
      "/Users/alexellard/opt/anaconda3/lib/python3.7/site-packages/xgboost/data.py:96: UserWarning: Use subset (sliced data) of np.ndarray is not recommended because it will generate extra copies and increase memory consumption\n",
      "  \"because it will generate extra copies and increase \" +\n"
     ]
    },
    {
     "name": "stdout",
     "output_type": "stream",
     "text": [
      "test y shape : (17520, 1)\n",
      "Inv y shape : (17520, 56)\n",
      "y pred shape : (17520, 1)\n",
      "inv y pred : (17520, 56)\n",
      "Run 7 Mean Absolute Error: 8.882029526125681\n",
      "RMSE: 12.211\n",
      "R^2: 1.000\n",
      "[['link_10_flow', 'link_14_flow', 'reservoir_pressure', 'node_23_pressure', 'node_18_demand', 'node_27_pressure', 'node_26_pressure', 'link_20_flow', 'node_1_pressure', 'node_26_demand', 'node_24_pressure', 'node_6_pressure', 'node_9_demand', 'node_28_pressure', 'node_7_demand', 'node_18_pressure', 'link_13_flow', 'node_12_pressure', 'link_9_flow', 'node_27_demand', 'node_21_demand', 'link_11_flow', 'node_11_demand', 'node_29_demand', 'node_31_pressure', 'node_23_demand', 'node_16_demand', 'link_21_flow', 'node_30_demand', 'node_2_demand', 'node_17_demand', 'link_32_flow', 'node_19_pressure', 'node_2_pressure', 'node_15_demand', 'node_6_demand', 'node_28_demand', 'link_19_flow', 'node_21_pressure']]\n",
      "starting df shape: (87600, 57)\n",
      "This is training run 8 and has the shape:  (87600, 57)\n",
      "The value of dropped columns is 40\n"
     ]
    },
    {
     "name": "stderr",
     "output_type": "stream",
     "text": [
      "/Users/alexellard/opt/anaconda3/lib/python3.7/site-packages/xgboost/data.py:96: UserWarning: Use subset (sliced data) of np.ndarray is not recommended because it will generate extra copies and increase memory consumption\n",
      "  \"because it will generate extra copies and increase \" +\n"
     ]
    },
    {
     "name": "stdout",
     "output_type": "stream",
     "text": [
      "test y shape : (17520, 1)\n",
      "Inv y shape : (17520, 57)\n"
     ]
    },
    {
     "name": "stderr",
     "output_type": "stream",
     "text": [
      "/Users/alexellard/opt/anaconda3/lib/python3.7/site-packages/xgboost/data.py:96: UserWarning: Use subset (sliced data) of np.ndarray is not recommended because it will generate extra copies and increase memory consumption\n",
      "  \"because it will generate extra copies and increase \" +\n"
     ]
    },
    {
     "name": "stdout",
     "output_type": "stream",
     "text": [
      "test y shape : (17520, 1)\n",
      "Inv y shape : (17520, 57)\n",
      "y pred shape : (17520, 1)\n",
      "inv y pred : (17520, 57)\n",
      "Run 8 Mean Absolute Error: 7.789300645259013\n",
      "RMSE: 10.816\n",
      "R^2: 1.000\n",
      "[['node_17_pressure', 'node_6_demand', 'node_25_pressure', 'node_28_pressure', 'link_13_flow', 'link_3_flow', 'node_8_pressure', 'link_16_flow', 'link_28_flow', 'link_22_flow', 'node_21_demand', 'link_19_flow', 'node_25_demand', 'node_1_pressure', 'node_10_pressure', 'link_8_flow', 'node_19_demand', 'node_14_demand', 'node_24_pressure', 'node_20_pressure', 'node_26_demand', 'link_27_flow', 'node_27_demand', 'link_21_flow', 'node_12_demand', 'node_27_pressure', 'link_29_flow', 'node_18_demand', 'link_7_flow', 'node_22_demand', 'reservoir_demand', 'node_15_demand', 'link_31_flow', 'node_10_demand', 'node_6_pressure', 'node_11_demand', 'node_7_pressure', 'link_11_flow', 'node_24_demand', 'link_18_flow']]\n",
      "starting df shape: (87600, 56)\n",
      "This is training run 9 and has the shape:  (87600, 56)\n",
      "The value of dropped columns is 40\n"
     ]
    },
    {
     "name": "stderr",
     "output_type": "stream",
     "text": [
      "/Users/alexellard/opt/anaconda3/lib/python3.7/site-packages/xgboost/data.py:96: UserWarning: Use subset (sliced data) of np.ndarray is not recommended because it will generate extra copies and increase memory consumption\n",
      "  \"because it will generate extra copies and increase \" +\n"
     ]
    },
    {
     "name": "stdout",
     "output_type": "stream",
     "text": [
      "test y shape : (17520, 1)\n",
      "Inv y shape : (17520, 56)\n"
     ]
    },
    {
     "name": "stderr",
     "output_type": "stream",
     "text": [
      "/Users/alexellard/opt/anaconda3/lib/python3.7/site-packages/xgboost/data.py:96: UserWarning: Use subset (sliced data) of np.ndarray is not recommended because it will generate extra copies and increase memory consumption\n",
      "  \"because it will generate extra copies and increase \" +\n"
     ]
    },
    {
     "name": "stdout",
     "output_type": "stream",
     "text": [
      "test y shape : (17520, 1)\n",
      "Inv y shape : (17520, 56)\n",
      "y pred shape : (17520, 1)\n",
      "inv y pred : (17520, 56)\n",
      "Run 9 Mean Absolute Error: 0.5193027360903096\n",
      "RMSE: 0.746\n",
      "R^2: 1.000\n",
      "[['node_14_demand', 'link_2_flow', 'link_8_flow', 'node_31_pressure', 'node_16_demand', 'node_13_demand', 'link_27_flow', 'node_7_demand', 'link_19_flow', 'node_7_pressure', 'node_17_demand', 'link_21_flow', 'node_11_pressure', 'node_6_pressure', 'link_11_flow', 'reservoir_pressure', 'node_22_demand', 'node_31_demand', 'link_29_flow', 'node_22_pressure', 'link_20_flow', 'link_4_flow', 'node_2_pressure', 'link_22_flow', 'node_4_demand', 'node_29_demand', 'node_14_pressure', 'node_6_demand', 'node_29_pressure', 'link_3_flow', 'node_27_pressure', 'node_18_pressure', 'link_32_flow', 'node_27_demand', 'node_11_demand', 'node_30_pressure', 'node_1_pressure', 'link_18_flow', 'node_3_demand', 'node_21_pressure']]\n",
      "starting df shape: (87600, 56)\n",
      "This is training run 10 and has the shape:  (87600, 56)\n",
      "The value of dropped columns is 40\n"
     ]
    },
    {
     "name": "stderr",
     "output_type": "stream",
     "text": [
      "/Users/alexellard/opt/anaconda3/lib/python3.7/site-packages/xgboost/data.py:96: UserWarning: Use subset (sliced data) of np.ndarray is not recommended because it will generate extra copies and increase memory consumption\n",
      "  \"because it will generate extra copies and increase \" +\n"
     ]
    },
    {
     "name": "stdout",
     "output_type": "stream",
     "text": [
      "test y shape : (17520, 1)\n",
      "Inv y shape : (17520, 56)\n"
     ]
    },
    {
     "name": "stderr",
     "output_type": "stream",
     "text": [
      "/Users/alexellard/opt/anaconda3/lib/python3.7/site-packages/xgboost/data.py:96: UserWarning: Use subset (sliced data) of np.ndarray is not recommended because it will generate extra copies and increase memory consumption\n",
      "  \"because it will generate extra copies and increase \" +\n"
     ]
    },
    {
     "name": "stdout",
     "output_type": "stream",
     "text": [
      "test y shape : (17520, 1)\n",
      "Inv y shape : (17520, 56)\n",
      "y pred shape : (17520, 1)\n",
      "inv y pred : (17520, 56)\n",
      "Run 10 Mean Absolute Error: 8.224971623789173\n",
      "RMSE: 11.383\n",
      "R^2: 1.000\n",
      "[['node_29_pressure', 'node_2_demand', 'link_3_flow', 'node_9_pressure', 'node_21_demand', 'link_21_flow', 'link_1_flow', 'node_25_pressure', 'node_3_pressure', 'node_26_demand', 'link_32_flow', 'link_12_flow', 'link_18_flow', 'node_18_pressure', 'node_28_demand', 'node_27_pressure', 'node_11_pressure', 'node_26_pressure', 'node_11_demand', 'node_12_pressure', 'node_4_demand', 'node_21_pressure', 'node_28_pressure', 'node_19_pressure', 'node_9_demand', 'link_28_flow', 'link_2_flow', 'link_26_flow', 'node_2_pressure', 'node_24_demand', 'link_29_flow', 'node_22_pressure', 'link_20_flow', 'node_10_pressure', 'link_23_flow', 'node_22_demand', 'node_6_pressure', 'link_22_flow', 'reservoir_demand', 'node_29_demand', 'link_24_flow', 'link_19_flow', 'node_3_demand', 'node_18_demand', 'link_31_flow']]\n",
      "starting df shape: (87600, 51)\n",
      "This is training run 1 and has the shape:  (87600, 51)\n",
      "The value of dropped columns is 45\n"
     ]
    },
    {
     "name": "stderr",
     "output_type": "stream",
     "text": [
      "/Users/alexellard/opt/anaconda3/lib/python3.7/site-packages/xgboost/data.py:96: UserWarning: Use subset (sliced data) of np.ndarray is not recommended because it will generate extra copies and increase memory consumption\n",
      "  \"because it will generate extra copies and increase \" +\n"
     ]
    },
    {
     "name": "stdout",
     "output_type": "stream",
     "text": [
      "test y shape : (17520, 1)\n",
      "Inv y shape : (17520, 51)\n"
     ]
    },
    {
     "name": "stderr",
     "output_type": "stream",
     "text": [
      "/Users/alexellard/opt/anaconda3/lib/python3.7/site-packages/xgboost/data.py:96: UserWarning: Use subset (sliced data) of np.ndarray is not recommended because it will generate extra copies and increase memory consumption\n",
      "  \"because it will generate extra copies and increase \" +\n"
     ]
    },
    {
     "name": "stdout",
     "output_type": "stream",
     "text": [
      "test y shape : (17520, 1)\n",
      "Inv y shape : (17520, 51)\n",
      "y pred shape : (17520, 1)\n",
      "inv y pred : (17520, 51)\n",
      "Run 1 Mean Absolute Error: 0.44795867313470117\n",
      "RMSE: 0.634\n",
      "R^2: 1.000\n",
      "[['link_26_flow', 'node_20_demand', 'node_30_pressure', 'node_15_pressure', 'node_7_pressure', 'link_6_flow', 'node_27_pressure', 'node_27_demand', 'link_18_flow', 'link_15_flow', 'link_23_flow', 'node_11_demand', 'node_13_pressure', 'node_2_pressure', 'node_6_pressure', 'node_30_demand', 'node_25_demand', 'node_18_pressure', 'node_24_pressure', 'node_22_demand', 'node_26_demand', 'node_5_demand', 'link_19_flow', 'reservoir_pressure', 'node_14_pressure', 'node_15_demand', 'node_6_demand', 'node_10_demand', 'link_27_flow', 'link_28_flow', 'node_1_demand', 'link_10_flow', 'reservoir_demand', 'node_11_pressure', 'link_12_flow', 'node_26_pressure', 'node_28_pressure', 'node_21_pressure', 'link_9_flow', 'node_22_pressure', 'node_29_demand', 'node_29_pressure', 'node_18_demand', 'node_10_pressure', 'node_25_pressure']]\n",
      "starting df shape: (87600, 51)\n",
      "This is training run 2 and has the shape:  (87600, 51)\n",
      "The value of dropped columns is 45\n"
     ]
    },
    {
     "name": "stderr",
     "output_type": "stream",
     "text": [
      "/Users/alexellard/opt/anaconda3/lib/python3.7/site-packages/xgboost/data.py:96: UserWarning: Use subset (sliced data) of np.ndarray is not recommended because it will generate extra copies and increase memory consumption\n",
      "  \"because it will generate extra copies and increase \" +\n"
     ]
    },
    {
     "name": "stdout",
     "output_type": "stream",
     "text": [
      "test y shape : (17520, 1)\n",
      "Inv y shape : (17520, 51)\n"
     ]
    },
    {
     "name": "stderr",
     "output_type": "stream",
     "text": [
      "/Users/alexellard/opt/anaconda3/lib/python3.7/site-packages/xgboost/data.py:96: UserWarning: Use subset (sliced data) of np.ndarray is not recommended because it will generate extra copies and increase memory consumption\n",
      "  \"because it will generate extra copies and increase \" +\n"
     ]
    },
    {
     "name": "stdout",
     "output_type": "stream",
     "text": [
      "test y shape : (17520, 1)\n",
      "Inv y shape : (17520, 51)\n",
      "y pred shape : (17520, 1)\n",
      "inv y pred : (17520, 51)\n",
      "Run 2 Mean Absolute Error: 0.49795333157988336\n",
      "RMSE: 0.683\n",
      "R^2: 1.000\n",
      "[['node_3_pressure', 'link_32_flow', 'node_17_demand', 'node_2_demand', 'node_8_demand', 'reservoir_pressure', 'node_3_demand', 'node_21_pressure', 'node_8_pressure', 'link_5_flow', 'link_2_flow', 'link_20_flow', 'node_18_demand', 'node_20_demand', 'node_13_pressure', 'node_14_demand', 'node_19_demand', 'link_13_flow', 'node_26_pressure', 'node_23_demand', 'node_12_pressure', 'link_8_flow', 'node_28_pressure', 'node_19_pressure', 'node_26_demand', 'link_27_flow', 'node_30_demand', 'node_9_demand', 'link_31_flow', 'node_25_pressure', 'node_27_pressure', 'node_27_demand', 'node_13_demand', 'link_7_flow', 'link_4_flow', 'node_31_demand', 'node_15_pressure', 'node_4_pressure', 'node_18_pressure', 'link_12_flow', 'node_4_demand', 'link_3_flow', 'node_6_pressure', 'link_14_flow', 'node_31_pressure']]\n",
      "starting df shape: (87600, 51)\n",
      "This is training run 3 and has the shape:  (87600, 51)\n",
      "The value of dropped columns is 45\n"
     ]
    },
    {
     "name": "stderr",
     "output_type": "stream",
     "text": [
      "/Users/alexellard/opt/anaconda3/lib/python3.7/site-packages/xgboost/data.py:96: UserWarning: Use subset (sliced data) of np.ndarray is not recommended because it will generate extra copies and increase memory consumption\n",
      "  \"because it will generate extra copies and increase \" +\n"
     ]
    },
    {
     "name": "stdout",
     "output_type": "stream",
     "text": [
      "test y shape : (17520, 1)\n",
      "Inv y shape : (17520, 51)\n"
     ]
    },
    {
     "name": "stderr",
     "output_type": "stream",
     "text": [
      "/Users/alexellard/opt/anaconda3/lib/python3.7/site-packages/xgboost/data.py:96: UserWarning: Use subset (sliced data) of np.ndarray is not recommended because it will generate extra copies and increase memory consumption\n",
      "  \"because it will generate extra copies and increase \" +\n"
     ]
    },
    {
     "name": "stdout",
     "output_type": "stream",
     "text": [
      "test y shape : (17520, 1)\n",
      "Inv y shape : (17520, 51)\n",
      "y pred shape : (17520, 1)\n",
      "inv y pred : (17520, 51)\n",
      "Run 3 Mean Absolute Error: 7.861037371452639\n",
      "RMSE: 11.109\n",
      "R^2: 1.000\n",
      "[['node_18_demand', 'node_26_demand', 'link_11_flow', 'node_22_pressure', 'link_7_flow', 'link_29_flow', 'node_7_demand', 'link_21_flow', 'node_23_demand', 'node_10_demand', 'node_16_demand', 'node_24_pressure', 'node_25_pressure', 'link_30_flow', 'node_17_demand', 'link_18_flow', 'node_8_pressure', 'node_26_pressure', 'link_14_flow', 'node_8_demand', 'node_31_demand', 'reservoir_demand', 'link_16_flow', 'link_1_flow', 'node_1_pressure', 'node_17_pressure', 'link_28_flow', 'link_13_flow', 'link_8_flow', 'node_19_pressure', 'link_20_flow', 'node_2_pressure', 'link_31_flow', 'link_12_flow', 'node_21_demand', 'node_13_demand', 'node_4_demand', 'node_27_pressure', 'link_4_flow', 'node_3_pressure', 'link_2_flow', 'link_9_flow', 'node_6_demand', 'node_20_demand', 'node_13_pressure']]\n",
      "starting df shape: (87600, 51)\n",
      "This is training run 4 and has the shape:  (87600, 51)\n",
      "The value of dropped columns is 45\n"
     ]
    },
    {
     "name": "stderr",
     "output_type": "stream",
     "text": [
      "/Users/alexellard/opt/anaconda3/lib/python3.7/site-packages/xgboost/data.py:96: UserWarning: Use subset (sliced data) of np.ndarray is not recommended because it will generate extra copies and increase memory consumption\n",
      "  \"because it will generate extra copies and increase \" +\n"
     ]
    },
    {
     "name": "stdout",
     "output_type": "stream",
     "text": [
      "test y shape : (17520, 1)\n",
      "Inv y shape : (17520, 51)\n"
     ]
    },
    {
     "name": "stderr",
     "output_type": "stream",
     "text": [
      "/Users/alexellard/opt/anaconda3/lib/python3.7/site-packages/xgboost/data.py:96: UserWarning: Use subset (sliced data) of np.ndarray is not recommended because it will generate extra copies and increase memory consumption\n",
      "  \"because it will generate extra copies and increase \" +\n"
     ]
    },
    {
     "name": "stdout",
     "output_type": "stream",
     "text": [
      "test y shape : (17520, 1)\n",
      "Inv y shape : (17520, 51)\n",
      "y pred shape : (17520, 1)\n",
      "inv y pred : (17520, 51)\n",
      "Run 4 Mean Absolute Error: 0.6183057494925163\n",
      "RMSE: 0.869\n",
      "R^2: 1.000\n",
      "[['link_17_flow', 'link_8_flow', 'node_18_demand', 'node_9_demand', 'node_31_pressure', 'node_19_demand', 'node_2_demand', 'node_24_demand', 'link_5_flow', 'link_32_flow', 'node_26_demand', 'link_15_flow', 'link_31_flow', 'node_20_demand', 'node_14_demand', 'link_2_flow', 'node_29_demand', 'node_2_pressure', 'link_30_flow', 'link_24_flow', 'link_18_flow', 'link_4_flow', 'node_19_pressure', 'link_9_flow', 'node_25_pressure', 'node_30_demand', 'node_13_pressure', 'node_6_pressure', 'node_1_pressure', 'node_20_pressure', 'node_13_demand', 'node_10_pressure', 'link_27_flow', 'node_29_pressure', 'node_6_demand', 'link_28_flow', 'link_26_flow', 'node_8_demand', 'link_23_flow', 'node_14_pressure', 'node_7_pressure', 'node_10_demand', 'node_4_pressure', 'node_27_demand', 'node_25_demand']]\n",
      "starting df shape: (87600, 51)\n",
      "This is training run 5 and has the shape:  (87600, 51)\n",
      "The value of dropped columns is 45\n"
     ]
    },
    {
     "name": "stderr",
     "output_type": "stream",
     "text": [
      "/Users/alexellard/opt/anaconda3/lib/python3.7/site-packages/xgboost/data.py:96: UserWarning: Use subset (sliced data) of np.ndarray is not recommended because it will generate extra copies and increase memory consumption\n",
      "  \"because it will generate extra copies and increase \" +\n"
     ]
    },
    {
     "name": "stdout",
     "output_type": "stream",
     "text": [
      "test y shape : (17520, 1)\n",
      "Inv y shape : (17520, 51)\n"
     ]
    },
    {
     "name": "stderr",
     "output_type": "stream",
     "text": [
      "/Users/alexellard/opt/anaconda3/lib/python3.7/site-packages/xgboost/data.py:96: UserWarning: Use subset (sliced data) of np.ndarray is not recommended because it will generate extra copies and increase memory consumption\n",
      "  \"because it will generate extra copies and increase \" +\n"
     ]
    },
    {
     "name": "stdout",
     "output_type": "stream",
     "text": [
      "test y shape : (17520, 1)\n",
      "Inv y shape : (17520, 51)\n",
      "y pred shape : (17520, 1)\n",
      "inv y pred : (17520, 51)\n",
      "Run 5 Mean Absolute Error: 8.016724760065397\n",
      "RMSE: 11.303\n",
      "R^2: 1.000\n",
      "[['node_29_pressure', 'reservoir_demand', 'node_6_demand', 'link_9_flow', 'node_26_demand', 'link_14_flow', 'node_4_demand', 'node_18_pressure', 'node_29_demand', 'link_31_flow', 'link_26_flow', 'node_20_pressure', 'node_1_pressure', 'node_20_demand', 'link_10_flow', 'link_8_flow', 'node_22_demand', 'node_7_demand', 'node_23_demand', 'node_19_demand', 'node_24_demand', 'node_14_demand', 'link_12_flow', 'node_2_demand', 'node_8_demand', 'link_21_flow', 'link_2_flow', 'node_9_demand', 'node_13_pressure', 'node_24_pressure', 'node_10_pressure', 'link_30_flow', 'node_30_demand', 'node_7_pressure', 'node_5_pressure', 'link_29_flow', 'link_3_flow', 'link_15_flow', 'link_18_flow', 'node_15_pressure', 'node_13_demand', 'node_9_pressure', 'node_14_pressure', 'node_15_demand', 'node_12_pressure']]\n",
      "starting df shape: (87600, 51)\n",
      "This is training run 6 and has the shape:  (87600, 51)\n",
      "The value of dropped columns is 45\n"
     ]
    },
    {
     "name": "stderr",
     "output_type": "stream",
     "text": [
      "/Users/alexellard/opt/anaconda3/lib/python3.7/site-packages/xgboost/data.py:96: UserWarning: Use subset (sliced data) of np.ndarray is not recommended because it will generate extra copies and increase memory consumption\n",
      "  \"because it will generate extra copies and increase \" +\n"
     ]
    },
    {
     "name": "stdout",
     "output_type": "stream",
     "text": [
      "test y shape : (17520, 1)\n",
      "Inv y shape : (17520, 51)\n"
     ]
    },
    {
     "name": "stderr",
     "output_type": "stream",
     "text": [
      "/Users/alexellard/opt/anaconda3/lib/python3.7/site-packages/xgboost/data.py:96: UserWarning: Use subset (sliced data) of np.ndarray is not recommended because it will generate extra copies and increase memory consumption\n",
      "  \"because it will generate extra copies and increase \" +\n"
     ]
    },
    {
     "name": "stdout",
     "output_type": "stream",
     "text": [
      "test y shape : (17520, 1)\n",
      "Inv y shape : (17520, 51)\n",
      "y pred shape : (17520, 1)\n",
      "inv y pred : (17520, 51)\n",
      "Run 6 Mean Absolute Error: 0.5274011347255976\n",
      "RMSE: 0.737\n",
      "R^2: 1.000\n",
      "[['link_7_flow', 'link_4_flow', 'node_22_demand', 'link_21_flow', 'node_8_demand', 'link_15_flow', 'link_22_flow', 'link_3_flow', 'link_27_flow', 'node_29_demand', 'node_8_pressure', 'node_9_demand', 'node_15_pressure', 'link_5_flow', 'node_26_pressure', 'node_24_pressure', 'node_14_pressure', 'node_5_demand', 'node_28_demand', 'node_19_pressure', 'link_31_flow', 'node_4_pressure', 'link_13_flow', 'node_3_pressure', 'link_16_flow', 'node_27_demand', 'node_6_demand', 'node_26_demand', 'link_6_flow', 'node_1_demand', 'node_25_pressure', 'link_26_flow', 'node_19_demand', 'node_12_pressure', 'link_14_flow', 'node_5_pressure', 'node_23_pressure', 'link_24_flow', 'link_11_flow', 'link_19_flow', 'link_12_flow', 'node_17_pressure', 'node_7_demand', 'node_20_demand', 'node_31_demand']]\n",
      "starting df shape: (87600, 51)\n",
      "This is training run 7 and has the shape:  (87600, 51)\n",
      "The value of dropped columns is 45\n"
     ]
    },
    {
     "name": "stderr",
     "output_type": "stream",
     "text": [
      "/Users/alexellard/opt/anaconda3/lib/python3.7/site-packages/xgboost/data.py:96: UserWarning: Use subset (sliced data) of np.ndarray is not recommended because it will generate extra copies and increase memory consumption\n",
      "  \"because it will generate extra copies and increase \" +\n"
     ]
    },
    {
     "name": "stdout",
     "output_type": "stream",
     "text": [
      "test y shape : (17520, 1)\n",
      "Inv y shape : (17520, 51)\n"
     ]
    },
    {
     "name": "stderr",
     "output_type": "stream",
     "text": [
      "/Users/alexellard/opt/anaconda3/lib/python3.7/site-packages/xgboost/data.py:96: UserWarning: Use subset (sliced data) of np.ndarray is not recommended because it will generate extra copies and increase memory consumption\n",
      "  \"because it will generate extra copies and increase \" +\n"
     ]
    },
    {
     "name": "stdout",
     "output_type": "stream",
     "text": [
      "test y shape : (17520, 1)\n",
      "Inv y shape : (17520, 51)\n",
      "y pred shape : (17520, 1)\n",
      "inv y pred : (17520, 51)\n",
      "Run 7 Mean Absolute Error: 9.34372873764679\n",
      "RMSE: 13.330\n",
      "R^2: 1.000\n",
      "[['node_2_pressure', 'node_30_pressure', 'link_5_flow', 'node_2_demand', 'node_15_demand', 'node_6_pressure', 'node_4_pressure', 'link_19_flow', 'node_14_demand', 'node_3_pressure', 'node_16_demand', 'node_9_demand', 'node_13_pressure', 'link_27_flow', 'link_4_flow', 'node_19_pressure', 'node_18_demand', 'node_5_pressure', 'link_8_flow', 'reservoir_pressure', 'node_31_pressure', 'node_26_demand', 'link_17_flow', 'node_1_pressure', 'node_4_demand', 'node_27_demand', 'node_5_demand', 'node_28_demand', 'node_11_demand', 'link_16_flow', 'node_18_pressure', 'node_29_demand', 'link_15_flow', 'node_13_demand', 'node_28_pressure', 'link_3_flow', 'link_31_flow', 'node_25_demand', 'link_30_flow', 'node_6_demand', 'node_21_demand', 'node_7_pressure', 'link_12_flow', 'link_21_flow', 'link_20_flow']]\n",
      "starting df shape: (87600, 51)\n",
      "This is training run 8 and has the shape:  (87600, 51)\n",
      "The value of dropped columns is 45\n"
     ]
    },
    {
     "name": "stderr",
     "output_type": "stream",
     "text": [
      "/Users/alexellard/opt/anaconda3/lib/python3.7/site-packages/xgboost/data.py:96: UserWarning: Use subset (sliced data) of np.ndarray is not recommended because it will generate extra copies and increase memory consumption\n",
      "  \"because it will generate extra copies and increase \" +\n"
     ]
    },
    {
     "name": "stdout",
     "output_type": "stream",
     "text": [
      "test y shape : (17520, 1)\n",
      "Inv y shape : (17520, 51)\n"
     ]
    },
    {
     "name": "stderr",
     "output_type": "stream",
     "text": [
      "/Users/alexellard/opt/anaconda3/lib/python3.7/site-packages/xgboost/data.py:96: UserWarning: Use subset (sliced data) of np.ndarray is not recommended because it will generate extra copies and increase memory consumption\n",
      "  \"because it will generate extra copies and increase \" +\n"
     ]
    },
    {
     "name": "stdout",
     "output_type": "stream",
     "text": [
      "test y shape : (17520, 1)\n",
      "Inv y shape : (17520, 51)\n",
      "y pred shape : (17520, 1)\n",
      "inv y pred : (17520, 51)\n",
      "Run 8 Mean Absolute Error: 12.367140588387235\n",
      "RMSE: 17.574\n",
      "R^2: 1.000\n",
      "[['node_18_pressure', 'node_21_pressure', 'node_20_demand', 'link_5_flow', 'link_29_flow', 'node_31_pressure', 'link_6_flow', 'link_21_flow', 'link_32_flow', 'link_23_flow', 'node_3_pressure', 'link_28_flow', 'node_17_pressure', 'link_15_flow', 'node_22_pressure', 'node_9_demand', 'node_7_demand', 'node_24_demand', 'link_14_flow', 'node_2_pressure', 'link_17_flow', 'node_30_demand', 'node_10_pressure', 'node_16_demand', 'node_4_pressure', 'node_19_demand', 'link_4_flow', 'node_26_demand', 'link_20_flow', 'node_21_demand', 'link_26_flow', 'node_12_pressure', 'node_12_demand', 'link_18_flow', 'link_16_flow', 'node_8_demand', 'node_23_demand', 'node_28_demand', 'node_19_pressure', 'node_14_demand', 'node_11_demand', 'node_25_pressure', 'node_6_demand', 'node_24_pressure', 'node_5_pressure']]\n",
      "starting df shape: (87600, 51)\n",
      "This is training run 9 and has the shape:  (87600, 51)\n",
      "The value of dropped columns is 45\n"
     ]
    },
    {
     "name": "stderr",
     "output_type": "stream",
     "text": [
      "/Users/alexellard/opt/anaconda3/lib/python3.7/site-packages/xgboost/data.py:96: UserWarning: Use subset (sliced data) of np.ndarray is not recommended because it will generate extra copies and increase memory consumption\n",
      "  \"because it will generate extra copies and increase \" +\n"
     ]
    },
    {
     "name": "stdout",
     "output_type": "stream",
     "text": [
      "test y shape : (17520, 1)\n",
      "Inv y shape : (17520, 51)\n"
     ]
    },
    {
     "name": "stderr",
     "output_type": "stream",
     "text": [
      "/Users/alexellard/opt/anaconda3/lib/python3.7/site-packages/xgboost/data.py:96: UserWarning: Use subset (sliced data) of np.ndarray is not recommended because it will generate extra copies and increase memory consumption\n",
      "  \"because it will generate extra copies and increase \" +\n"
     ]
    },
    {
     "name": "stdout",
     "output_type": "stream",
     "text": [
      "test y shape : (17520, 1)\n",
      "Inv y shape : (17520, 51)\n",
      "y pred shape : (17520, 1)\n",
      "inv y pred : (17520, 51)\n",
      "Run 9 Mean Absolute Error: 14.603323664422602\n",
      "RMSE: 21.410\n",
      "R^2: 1.000\n",
      "[['node_31_pressure', 'node_23_demand', 'node_4_pressure', 'node_14_pressure', 'node_25_pressure', 'node_1_pressure', 'node_13_pressure', 'node_18_pressure', 'node_3_pressure', 'link_20_flow', 'node_15_demand', 'node_22_demand', 'link_6_flow', 'node_22_pressure', 'link_14_flow', 'reservoir_pressure', 'node_21_pressure', 'node_17_pressure', 'node_28_demand', 'node_10_demand', 'node_14_demand', 'node_3_demand', 'link_13_flow', 'link_9_flow', 'link_32_flow', 'node_1_demand', 'node_31_demand', 'node_29_demand', 'link_29_flow', 'node_21_demand', 'link_17_flow', 'link_22_flow', 'node_20_pressure', 'link_1_flow', 'link_24_flow', 'node_4_demand', 'node_24_demand', 'node_18_demand', 'link_25_flow', 'link_19_flow', 'link_27_flow', 'node_19_pressure', 'link_16_flow', 'node_26_pressure']]\n",
      "starting df shape: (87600, 52)\n",
      "This is training run 10 and has the shape:  (87600, 52)\n",
      "The value of dropped columns is 45\n"
     ]
    },
    {
     "name": "stderr",
     "output_type": "stream",
     "text": [
      "/Users/alexellard/opt/anaconda3/lib/python3.7/site-packages/xgboost/data.py:96: UserWarning: Use subset (sliced data) of np.ndarray is not recommended because it will generate extra copies and increase memory consumption\n",
      "  \"because it will generate extra copies and increase \" +\n"
     ]
    },
    {
     "name": "stdout",
     "output_type": "stream",
     "text": [
      "test y shape : (17520, 1)\n",
      "Inv y shape : (17520, 52)\n"
     ]
    },
    {
     "name": "stderr",
     "output_type": "stream",
     "text": [
      "/Users/alexellard/opt/anaconda3/lib/python3.7/site-packages/xgboost/data.py:96: UserWarning: Use subset (sliced data) of np.ndarray is not recommended because it will generate extra copies and increase memory consumption\n",
      "  \"because it will generate extra copies and increase \" +\n"
     ]
    },
    {
     "name": "stdout",
     "output_type": "stream",
     "text": [
      "test y shape : (17520, 1)\n",
      "Inv y shape : (17520, 52)\n",
      "y pred shape : (17520, 1)\n",
      "inv y pred : (17520, 52)\n",
      "Run 10 Mean Absolute Error: 8.36977799823154\n",
      "RMSE: 11.522\n",
      "R^2: 1.000\n",
      "[['node_30_demand', 'link_19_flow', 'link_20_flow', 'node_7_demand', 'link_32_flow', 'node_9_pressure', 'node_27_pressure', 'node_1_demand', 'node_9_demand', 'node_30_pressure', 'link_26_flow', 'node_14_pressure', 'node_29_demand', 'node_23_demand', 'node_6_demand', 'link_8_flow', 'link_13_flow', 'node_31_pressure', 'node_24_pressure', 'node_20_pressure', 'node_20_demand', 'node_18_pressure', 'node_26_pressure', 'node_8_demand', 'node_4_demand', 'node_7_pressure', 'node_26_demand', 'node_13_demand', 'node_8_pressure', 'node_1_pressure', 'node_12_demand', 'node_5_pressure', 'node_6_pressure', 'reservoir_demand', 'link_21_flow', 'node_13_pressure', 'node_15_pressure', 'node_21_pressure', 'node_12_pressure', 'link_23_flow', 'node_3_pressure', 'node_17_pressure', 'node_11_pressure', 'node_5_demand', 'node_2_pressure', 'node_27_demand', 'node_4_pressure', 'node_24_demand', 'link_31_flow']]\n",
      "starting df shape: (87600, 47)\n",
      "This is training run 1 and has the shape:  (87600, 47)\n",
      "The value of dropped columns is 50\n"
     ]
    },
    {
     "name": "stderr",
     "output_type": "stream",
     "text": [
      "/Users/alexellard/opt/anaconda3/lib/python3.7/site-packages/xgboost/data.py:96: UserWarning: Use subset (sliced data) of np.ndarray is not recommended because it will generate extra copies and increase memory consumption\n",
      "  \"because it will generate extra copies and increase \" +\n"
     ]
    },
    {
     "name": "stdout",
     "output_type": "stream",
     "text": [
      "test y shape : (17520, 1)\n",
      "Inv y shape : (17520, 47)\n"
     ]
    },
    {
     "name": "stderr",
     "output_type": "stream",
     "text": [
      "/Users/alexellard/opt/anaconda3/lib/python3.7/site-packages/xgboost/data.py:96: UserWarning: Use subset (sliced data) of np.ndarray is not recommended because it will generate extra copies and increase memory consumption\n",
      "  \"because it will generate extra copies and increase \" +\n"
     ]
    },
    {
     "name": "stdout",
     "output_type": "stream",
     "text": [
      "test y shape : (17520, 1)\n",
      "Inv y shape : (17520, 47)\n",
      "y pred shape : (17520, 1)\n",
      "inv y pred : (17520, 47)\n",
      "Run 1 Mean Absolute Error: 0.5256786870242031\n",
      "RMSE: 0.745\n",
      "R^2: 1.000\n",
      "[['node_5_pressure', 'link_25_flow', 'node_2_pressure', 'node_10_pressure', 'node_3_pressure', 'link_21_flow', 'link_6_flow', 'node_24_pressure', 'link_19_flow', 'node_23_pressure', 'node_17_pressure', 'node_22_pressure', 'node_1_demand', 'node_28_demand', 'node_19_demand', 'node_20_demand', 'node_31_demand', 'node_1_pressure', 'link_5_flow', 'link_4_flow', 'link_24_flow', 'node_21_demand', 'node_31_pressure', 'node_18_demand', 'node_4_demand', 'link_16_flow', 'node_30_pressure', 'node_17_demand', 'link_32_flow', 'reservoir_demand', 'link_10_flow', 'node_4_pressure', 'link_2_flow', 'node_27_pressure', 'link_29_flow', 'node_22_demand', 'link_17_flow', 'link_18_flow', 'link_12_flow', 'node_25_pressure', 'node_29_demand', 'node_8_pressure', 'node_13_pressure', 'node_11_demand', 'node_26_demand', 'node_9_demand', 'node_11_pressure', 'link_8_flow', 'node_12_demand', 'link_23_flow']]\n",
      "starting df shape: (87600, 46)\n",
      "This is training run 2 and has the shape:  (87600, 46)\n",
      "The value of dropped columns is 50\n"
     ]
    },
    {
     "name": "stderr",
     "output_type": "stream",
     "text": [
      "/Users/alexellard/opt/anaconda3/lib/python3.7/site-packages/xgboost/data.py:96: UserWarning: Use subset (sliced data) of np.ndarray is not recommended because it will generate extra copies and increase memory consumption\n",
      "  \"because it will generate extra copies and increase \" +\n"
     ]
    },
    {
     "name": "stdout",
     "output_type": "stream",
     "text": [
      "test y shape : (17520, 1)\n",
      "Inv y shape : (17520, 46)\n"
     ]
    },
    {
     "name": "stderr",
     "output_type": "stream",
     "text": [
      "/Users/alexellard/opt/anaconda3/lib/python3.7/site-packages/xgboost/data.py:96: UserWarning: Use subset (sliced data) of np.ndarray is not recommended because it will generate extra copies and increase memory consumption\n",
      "  \"because it will generate extra copies and increase \" +\n"
     ]
    },
    {
     "name": "stdout",
     "output_type": "stream",
     "text": [
      "test y shape : (17520, 1)\n",
      "Inv y shape : (17520, 46)\n",
      "y pred shape : (17520, 1)\n",
      "inv y pred : (17520, 46)\n",
      "Run 2 Mean Absolute Error: 0.5485869152968305\n",
      "RMSE: 0.761\n",
      "R^2: 1.000\n",
      "[['link_8_flow', 'node_28_demand', 'link_6_flow', 'node_28_pressure', 'node_18_pressure', 'node_15_pressure', 'link_30_flow', 'reservoir_demand', 'node_17_pressure', 'link_29_flow', 'link_14_flow', 'link_15_flow', 'node_18_demand', 'node_22_demand', 'link_18_flow', 'node_22_pressure', 'node_23_pressure', 'node_25_pressure', 'link_24_flow', 'node_8_demand', 'node_26_pressure', 'node_6_demand', 'link_20_flow', 'node_2_pressure', 'node_10_pressure', 'link_16_flow', 'link_25_flow', 'link_2_flow', 'node_24_pressure', 'link_28_flow', 'node_1_demand', 'link_26_flow', 'link_12_flow', 'node_17_demand', 'node_5_demand', 'reservoir_pressure', 'link_9_flow', 'link_1_flow', 'node_19_pressure', 'link_19_flow', 'node_10_demand', 'node_30_pressure', 'node_7_pressure', 'node_6_pressure', 'node_29_demand', 'node_11_demand', 'node_4_pressure', 'node_13_pressure', 'node_9_pressure']]\n",
      "starting df shape: (87600, 47)\n",
      "This is training run 3 and has the shape:  (87600, 47)\n",
      "The value of dropped columns is 50\n"
     ]
    },
    {
     "name": "stderr",
     "output_type": "stream",
     "text": [
      "/Users/alexellard/opt/anaconda3/lib/python3.7/site-packages/xgboost/data.py:96: UserWarning: Use subset (sliced data) of np.ndarray is not recommended because it will generate extra copies and increase memory consumption\n",
      "  \"because it will generate extra copies and increase \" +\n"
     ]
    },
    {
     "name": "stdout",
     "output_type": "stream",
     "text": [
      "test y shape : (17520, 1)\n",
      "Inv y shape : (17520, 47)\n"
     ]
    },
    {
     "name": "stderr",
     "output_type": "stream",
     "text": [
      "/Users/alexellard/opt/anaconda3/lib/python3.7/site-packages/xgboost/data.py:96: UserWarning: Use subset (sliced data) of np.ndarray is not recommended because it will generate extra copies and increase memory consumption\n",
      "  \"because it will generate extra copies and increase \" +\n"
     ]
    },
    {
     "name": "stdout",
     "output_type": "stream",
     "text": [
      "test y shape : (17520, 1)\n",
      "Inv y shape : (17520, 47)\n",
      "y pred shape : (17520, 1)\n",
      "inv y pred : (17520, 47)\n",
      "Run 3 Mean Absolute Error: 0.5258293375231814\n",
      "RMSE: 0.716\n",
      "R^2: 1.000\n",
      "[['node_4_pressure', 'node_3_demand', 'link_27_flow', 'node_9_demand', 'node_27_pressure', 'reservoir_pressure', 'node_18_demand', 'node_11_pressure', 'node_19_pressure', 'node_14_pressure', 'node_30_pressure', 'node_22_demand', 'link_9_flow', 'node_20_pressure', 'node_14_demand', 'node_29_pressure', 'node_29_demand', 'node_25_demand', 'node_11_demand', 'node_16_demand', 'node_1_demand', 'node_27_demand', 'reservoir_demand', 'link_7_flow', 'node_7_pressure', 'link_8_flow', 'node_10_pressure', 'link_5_flow', 'node_22_pressure', 'node_24_demand', 'node_8_pressure', 'node_2_demand', 'node_2_pressure', 'link_17_flow', 'node_25_pressure', 'node_15_demand', 'link_21_flow', 'node_31_demand', 'node_3_pressure', 'link_10_flow', 'link_25_flow', 'node_21_pressure', 'link_22_flow', 'link_20_flow', 'node_20_demand', 'node_6_demand', 'node_5_demand', 'node_28_demand', 'node_24_pressure']]\n",
      "starting df shape: (87600, 47)\n",
      "This is training run 4 and has the shape:  (87600, 47)\n",
      "The value of dropped columns is 50\n"
     ]
    },
    {
     "name": "stderr",
     "output_type": "stream",
     "text": [
      "/Users/alexellard/opt/anaconda3/lib/python3.7/site-packages/xgboost/data.py:96: UserWarning: Use subset (sliced data) of np.ndarray is not recommended because it will generate extra copies and increase memory consumption\n",
      "  \"because it will generate extra copies and increase \" +\n"
     ]
    },
    {
     "name": "stdout",
     "output_type": "stream",
     "text": [
      "test y shape : (17520, 1)\n",
      "Inv y shape : (17520, 47)\n"
     ]
    },
    {
     "name": "stderr",
     "output_type": "stream",
     "text": [
      "/Users/alexellard/opt/anaconda3/lib/python3.7/site-packages/xgboost/data.py:96: UserWarning: Use subset (sliced data) of np.ndarray is not recommended because it will generate extra copies and increase memory consumption\n",
      "  \"because it will generate extra copies and increase \" +\n"
     ]
    },
    {
     "name": "stdout",
     "output_type": "stream",
     "text": [
      "test y shape : (17520, 1)\n",
      "Inv y shape : (17520, 47)\n",
      "y pred shape : (17520, 1)\n",
      "inv y pred : (17520, 47)\n",
      "Run 4 Mean Absolute Error: 0.366857709748296\n",
      "RMSE: 0.503\n",
      "R^2: 1.000\n",
      "[['node_18_pressure', 'link_1_flow', 'node_28_pressure', 'node_23_demand', 'link_31_flow', 'node_1_pressure', 'node_4_pressure', 'node_26_demand', 'node_5_pressure', 'node_31_pressure', 'node_19_pressure', 'node_15_pressure', 'node_25_demand', 'node_26_pressure', 'link_18_flow', 'link_22_flow', 'node_28_demand', 'node_17_demand', 'node_13_pressure', 'link_15_flow', 'node_10_demand', 'node_29_demand', 'link_25_flow', 'node_6_demand', 'link_4_flow', 'link_20_flow', 'node_29_pressure', 'node_8_pressure', 'link_9_flow', 'node_10_pressure', 'link_11_flow', 'node_12_pressure', 'node_5_demand', 'link_24_flow', 'node_9_demand', 'node_16_demand', 'node_24_pressure', 'node_31_demand', 'link_21_flow', 'link_7_flow', 'node_2_pressure', 'node_17_pressure', 'node_25_pressure', 'node_20_demand', 'link_23_flow', 'link_27_flow', 'node_7_demand', 'node_19_demand', 'node_3_pressure', 'link_2_flow']]\n",
      "starting df shape: (87600, 46)\n",
      "This is training run 5 and has the shape:  (87600, 46)\n",
      "The value of dropped columns is 50\n"
     ]
    },
    {
     "name": "stderr",
     "output_type": "stream",
     "text": [
      "/Users/alexellard/opt/anaconda3/lib/python3.7/site-packages/xgboost/data.py:96: UserWarning: Use subset (sliced data) of np.ndarray is not recommended because it will generate extra copies and increase memory consumption\n",
      "  \"because it will generate extra copies and increase \" +\n"
     ]
    },
    {
     "name": "stdout",
     "output_type": "stream",
     "text": [
      "test y shape : (17520, 1)\n",
      "Inv y shape : (17520, 46)\n"
     ]
    },
    {
     "name": "stderr",
     "output_type": "stream",
     "text": [
      "/Users/alexellard/opt/anaconda3/lib/python3.7/site-packages/xgboost/data.py:96: UserWarning: Use subset (sliced data) of np.ndarray is not recommended because it will generate extra copies and increase memory consumption\n",
      "  \"because it will generate extra copies and increase \" +\n"
     ]
    },
    {
     "name": "stdout",
     "output_type": "stream",
     "text": [
      "test y shape : (17520, 1)\n",
      "Inv y shape : (17520, 46)\n",
      "y pred shape : (17520, 1)\n",
      "inv y pred : (17520, 46)\n",
      "Run 5 Mean Absolute Error: 11.364585834937897\n",
      "RMSE: 16.603\n",
      "R^2: 1.000\n",
      "[['node_29_pressure', 'node_17_demand', 'link_22_flow', 'node_15_demand', 'node_28_pressure', 'link_14_flow', 'link_17_flow', 'node_5_pressure', 'node_29_demand', 'node_20_pressure', 'node_31_pressure', 'link_26_flow', 'node_31_demand', 'node_2_pressure', 'link_25_flow', 'link_12_flow', 'node_21_demand', 'link_2_flow', 'node_30_pressure', 'node_4_demand', 'node_13_pressure', 'node_27_pressure', 'link_1_flow', 'node_23_pressure', 'node_3_demand', 'link_23_flow', 'link_20_flow', 'node_11_demand', 'link_6_flow', 'node_8_demand', 'link_10_flow', 'node_12_demand', 'node_6_pressure', 'link_4_flow', 'node_19_pressure', 'link_31_flow', 'link_28_flow', 'node_7_demand', 'node_20_demand', 'link_18_flow', 'node_13_demand', 'node_4_pressure', 'node_1_pressure', 'node_19_demand', 'link_13_flow', 'node_15_pressure', 'node_18_demand', 'node_3_pressure', 'link_29_flow']]\n",
      "starting df shape: (87600, 47)\n",
      "This is training run 6 and has the shape:  (87600, 47)\n",
      "The value of dropped columns is 50\n"
     ]
    },
    {
     "name": "stderr",
     "output_type": "stream",
     "text": [
      "/Users/alexellard/opt/anaconda3/lib/python3.7/site-packages/xgboost/data.py:96: UserWarning: Use subset (sliced data) of np.ndarray is not recommended because it will generate extra copies and increase memory consumption\n",
      "  \"because it will generate extra copies and increase \" +\n"
     ]
    },
    {
     "name": "stdout",
     "output_type": "stream",
     "text": [
      "test y shape : (17520, 1)\n",
      "Inv y shape : (17520, 47)\n"
     ]
    },
    {
     "name": "stderr",
     "output_type": "stream",
     "text": [
      "/Users/alexellard/opt/anaconda3/lib/python3.7/site-packages/xgboost/data.py:96: UserWarning: Use subset (sliced data) of np.ndarray is not recommended because it will generate extra copies and increase memory consumption\n",
      "  \"because it will generate extra copies and increase \" +\n"
     ]
    },
    {
     "name": "stdout",
     "output_type": "stream",
     "text": [
      "test y shape : (17520, 1)\n",
      "Inv y shape : (17520, 47)\n",
      "y pred shape : (17520, 1)\n",
      "inv y pred : (17520, 47)\n",
      "Run 6 Mean Absolute Error: 8.810063397700082\n",
      "RMSE: 12.183\n",
      "R^2: 1.000\n",
      "[['link_14_flow', 'node_8_pressure', 'link_8_flow', 'node_13_demand', 'link_19_flow', 'node_2_demand', 'link_7_flow', 'node_6_pressure', 'node_12_demand', 'link_2_flow', 'link_30_flow', 'node_7_pressure', 'node_17_demand', 'link_4_flow', 'node_2_pressure', 'node_21_demand', 'node_21_pressure', 'node_16_demand', 'node_26_demand', 'node_13_pressure', 'link_27_flow', 'link_23_flow', 'reservoir_demand', 'node_26_pressure', 'link_20_flow', 'link_6_flow', 'link_1_flow', 'link_3_flow', 'link_18_flow', 'node_7_demand', 'node_30_pressure', 'node_23_pressure', 'node_9_demand', 'node_31_pressure', 'node_12_pressure', 'node_14_demand', 'node_11_demand', 'node_18_demand', 'link_25_flow', 'node_14_pressure', 'link_24_flow', 'node_27_demand', 'node_28_pressure', 'link_15_flow', 'node_25_demand', 'node_29_pressure', 'node_29_demand', 'node_6_demand', 'link_5_flow', 'link_16_flow']]\n",
      "starting df shape: (87600, 46)\n",
      "This is training run 7 and has the shape:  (87600, 46)\n",
      "The value of dropped columns is 50\n"
     ]
    },
    {
     "name": "stderr",
     "output_type": "stream",
     "text": [
      "/Users/alexellard/opt/anaconda3/lib/python3.7/site-packages/xgboost/data.py:96: UserWarning: Use subset (sliced data) of np.ndarray is not recommended because it will generate extra copies and increase memory consumption\n",
      "  \"because it will generate extra copies and increase \" +\n"
     ]
    },
    {
     "name": "stdout",
     "output_type": "stream",
     "text": [
      "test y shape : (17520, 1)\n",
      "Inv y shape : (17520, 46)\n"
     ]
    },
    {
     "name": "stderr",
     "output_type": "stream",
     "text": [
      "/Users/alexellard/opt/anaconda3/lib/python3.7/site-packages/xgboost/data.py:96: UserWarning: Use subset (sliced data) of np.ndarray is not recommended because it will generate extra copies and increase memory consumption\n",
      "  \"because it will generate extra copies and increase \" +\n"
     ]
    },
    {
     "name": "stdout",
     "output_type": "stream",
     "text": [
      "test y shape : (17520, 1)\n",
      "Inv y shape : (17520, 46)\n",
      "y pred shape : (17520, 1)\n",
      "inv y pred : (17520, 46)\n",
      "Run 7 Mean Absolute Error: 0.753713979595405\n",
      "RMSE: 1.089\n",
      "R^2: 1.000\n",
      "[['node_31_pressure', 'link_21_flow', 'node_8_pressure', 'node_27_demand', 'node_3_pressure', 'node_14_pressure', 'node_21_pressure', 'reservoir_demand', 'link_32_flow', 'node_27_pressure', 'link_26_flow', 'node_28_pressure', 'link_28_flow', 'node_3_demand', 'reservoir_pressure', 'node_24_pressure', 'node_11_demand', 'link_29_flow', 'node_4_pressure', 'link_23_flow', 'node_5_demand', 'link_1_flow', 'node_10_pressure', 'link_13_flow', 'node_17_pressure', 'link_3_flow', 'node_16_demand', 'link_10_flow', 'node_25_pressure', 'link_20_flow', 'node_8_demand', 'node_29_pressure', 'node_20_pressure', 'link_5_flow', 'link_14_flow', 'node_10_demand', 'node_14_demand', 'link_18_flow', 'link_4_flow', 'link_17_flow', 'node_12_pressure', 'node_23_pressure', 'node_12_demand', 'link_24_flow', 'link_27_flow', 'link_12_flow', 'node_26_demand', 'node_31_demand', 'node_9_pressure', 'node_22_demand']]\n",
      "starting df shape: (87600, 46)\n",
      "This is training run 8 and has the shape:  (87600, 46)\n",
      "The value of dropped columns is 50\n"
     ]
    },
    {
     "name": "stderr",
     "output_type": "stream",
     "text": [
      "/Users/alexellard/opt/anaconda3/lib/python3.7/site-packages/xgboost/data.py:96: UserWarning: Use subset (sliced data) of np.ndarray is not recommended because it will generate extra copies and increase memory consumption\n",
      "  \"because it will generate extra copies and increase \" +\n"
     ]
    },
    {
     "name": "stdout",
     "output_type": "stream",
     "text": [
      "test y shape : (17520, 1)\n",
      "Inv y shape : (17520, 46)\n"
     ]
    },
    {
     "name": "stderr",
     "output_type": "stream",
     "text": [
      "/Users/alexellard/opt/anaconda3/lib/python3.7/site-packages/xgboost/data.py:96: UserWarning: Use subset (sliced data) of np.ndarray is not recommended because it will generate extra copies and increase memory consumption\n",
      "  \"because it will generate extra copies and increase \" +\n"
     ]
    },
    {
     "name": "stdout",
     "output_type": "stream",
     "text": [
      "test y shape : (17520, 1)\n",
      "Inv y shape : (17520, 46)\n",
      "y pred shape : (17520, 1)\n",
      "inv y pred : (17520, 46)\n",
      "Run 8 Mean Absolute Error: 0.504519781323487\n",
      "RMSE: 0.705\n",
      "R^2: 1.000\n",
      "[['link_29_flow', 'node_29_demand', 'link_13_flow', 'link_16_flow', 'reservoir_pressure', 'node_1_pressure', 'node_15_pressure', 'link_18_flow', 'link_30_flow', 'reservoir_demand', 'link_14_flow', 'link_21_flow', 'node_2_demand', 'link_7_flow', 'node_8_pressure', 'node_12_pressure', 'node_7_pressure', 'node_10_demand', 'node_1_demand', 'node_25_pressure', 'node_4_pressure', 'node_14_demand', 'node_27_demand', 'node_25_demand', 'node_14_pressure', 'node_24_demand', 'node_12_demand', 'link_17_flow', 'node_13_pressure', 'link_19_flow', 'link_23_flow', 'node_8_demand', 'link_4_flow', 'node_27_pressure', 'node_21_demand', 'link_20_flow', 'link_6_flow', 'node_18_pressure', 'node_6_demand', 'node_7_demand', 'node_30_pressure', 'link_5_flow', 'node_28_demand', 'link_22_flow', 'node_31_demand', 'node_15_demand', 'node_6_pressure', 'node_9_demand', 'node_3_demand', 'node_22_pressure']]\n",
      "starting df shape: (87600, 46)\n",
      "This is training run 9 and has the shape:  (87600, 46)\n",
      "The value of dropped columns is 50\n"
     ]
    },
    {
     "name": "stderr",
     "output_type": "stream",
     "text": [
      "/Users/alexellard/opt/anaconda3/lib/python3.7/site-packages/xgboost/data.py:96: UserWarning: Use subset (sliced data) of np.ndarray is not recommended because it will generate extra copies and increase memory consumption\n",
      "  \"because it will generate extra copies and increase \" +\n"
     ]
    },
    {
     "name": "stdout",
     "output_type": "stream",
     "text": [
      "test y shape : (17520, 1)\n",
      "Inv y shape : (17520, 46)\n"
     ]
    },
    {
     "name": "stderr",
     "output_type": "stream",
     "text": [
      "/Users/alexellard/opt/anaconda3/lib/python3.7/site-packages/xgboost/data.py:96: UserWarning: Use subset (sliced data) of np.ndarray is not recommended because it will generate extra copies and increase memory consumption\n",
      "  \"because it will generate extra copies and increase \" +\n"
     ]
    },
    {
     "name": "stdout",
     "output_type": "stream",
     "text": [
      "test y shape : (17520, 1)\n",
      "Inv y shape : (17520, 46)\n",
      "y pred shape : (17520, 1)\n",
      "inv y pred : (17520, 46)\n",
      "Run 9 Mean Absolute Error: 0.3813192286941223\n",
      "RMSE: 0.557\n",
      "R^2: 1.000\n",
      "[['link_32_flow', 'node_25_demand', 'node_17_pressure', 'node_23_demand', 'node_21_pressure', 'node_24_pressure', 'node_5_pressure', 'link_31_flow', 'link_30_flow', 'reservoir_pressure', 'node_10_pressure', 'node_21_demand', 'node_12_demand', 'node_3_demand', 'link_7_flow', 'link_21_flow', 'link_26_flow', 'node_4_pressure', 'node_30_pressure', 'node_7_demand', 'node_1_pressure', 'node_15_pressure', 'link_23_flow', 'node_4_demand', 'node_6_pressure', 'node_11_demand', 'node_29_pressure', 'node_6_demand', 'node_5_demand', 'node_8_pressure', 'link_18_flow', 'link_27_flow', 'node_28_demand', 'link_10_flow', 'node_10_demand', 'node_13_pressure', 'node_15_demand', 'node_27_pressure', 'node_14_pressure', 'node_2_demand', 'link_19_flow', 'link_8_flow', 'link_29_flow', 'link_1_flow', 'link_25_flow', 'node_18_pressure', 'link_11_flow', 'node_7_pressure', 'link_28_flow', 'link_24_flow']]\n",
      "starting df shape: (87600, 46)\n",
      "This is training run 10 and has the shape:  (87600, 46)\n",
      "The value of dropped columns is 50\n"
     ]
    },
    {
     "name": "stderr",
     "output_type": "stream",
     "text": [
      "/Users/alexellard/opt/anaconda3/lib/python3.7/site-packages/xgboost/data.py:96: UserWarning: Use subset (sliced data) of np.ndarray is not recommended because it will generate extra copies and increase memory consumption\n",
      "  \"because it will generate extra copies and increase \" +\n"
     ]
    },
    {
     "name": "stdout",
     "output_type": "stream",
     "text": [
      "test y shape : (17520, 1)\n",
      "Inv y shape : (17520, 46)\n"
     ]
    },
    {
     "name": "stderr",
     "output_type": "stream",
     "text": [
      "/Users/alexellard/opt/anaconda3/lib/python3.7/site-packages/xgboost/data.py:96: UserWarning: Use subset (sliced data) of np.ndarray is not recommended because it will generate extra copies and increase memory consumption\n",
      "  \"because it will generate extra copies and increase \" +\n"
     ]
    },
    {
     "name": "stdout",
     "output_type": "stream",
     "text": [
      "test y shape : (17520, 1)\n",
      "Inv y shape : (17520, 46)\n",
      "y pred shape : (17520, 1)\n",
      "inv y pred : (17520, 46)\n",
      "Run 10 Mean Absolute Error: 10.121115739810762\n",
      "RMSE: 13.975\n",
      "R^2: 1.000\n",
      "[['node_30_demand', 'link_9_flow', 'node_17_demand', 'node_25_pressure', 'link_29_flow', 'node_13_pressure', 'link_1_flow', 'node_7_demand', 'link_6_flow', 'node_7_pressure', 'node_3_pressure', 'node_9_demand', 'node_14_demand', 'link_27_flow', 'node_4_pressure', 'node_11_pressure', 'node_27_demand', 'node_1_pressure', 'link_3_flow', 'node_12_pressure', 'link_4_flow', 'node_20_pressure', 'node_25_demand', 'node_5_demand', 'link_10_flow', 'node_18_demand', 'node_10_demand', 'link_17_flow', 'node_5_pressure', 'node_26_pressure', 'node_20_demand', 'node_22_pressure', 'node_8_pressure', 'node_19_demand', 'node_23_demand', 'link_22_flow', 'node_22_demand', 'node_28_demand', 'node_8_demand', 'node_31_pressure', 'node_3_demand', 'node_2_demand', 'node_12_demand', 'link_26_flow', 'link_2_flow', 'link_20_flow', 'node_6_demand', 'node_1_demand', 'node_4_demand', 'node_21_demand', 'link_14_flow', 'link_28_flow', 'link_30_flow', 'node_17_pressure']]\n",
      "starting df shape: (87600, 42)\n",
      "This is training run 1 and has the shape:  (87600, 42)\n",
      "The value of dropped columns is 55\n"
     ]
    },
    {
     "name": "stderr",
     "output_type": "stream",
     "text": [
      "/Users/alexellard/opt/anaconda3/lib/python3.7/site-packages/xgboost/data.py:96: UserWarning: Use subset (sliced data) of np.ndarray is not recommended because it will generate extra copies and increase memory consumption\n",
      "  \"because it will generate extra copies and increase \" +\n"
     ]
    },
    {
     "name": "stdout",
     "output_type": "stream",
     "text": [
      "test y shape : (17520, 1)\n",
      "Inv y shape : (17520, 42)\n"
     ]
    },
    {
     "name": "stderr",
     "output_type": "stream",
     "text": [
      "/Users/alexellard/opt/anaconda3/lib/python3.7/site-packages/xgboost/data.py:96: UserWarning: Use subset (sliced data) of np.ndarray is not recommended because it will generate extra copies and increase memory consumption\n",
      "  \"because it will generate extra copies and increase \" +\n"
     ]
    },
    {
     "name": "stdout",
     "output_type": "stream",
     "text": [
      "test y shape : (17520, 1)\n",
      "Inv y shape : (17520, 42)\n",
      "y pred shape : (17520, 1)\n",
      "inv y pred : (17520, 42)\n",
      "Run 1 Mean Absolute Error: 8.003236098610625\n",
      "RMSE: 11.267\n",
      "R^2: 1.000\n",
      "[['node_12_pressure', 'node_20_demand', 'node_8_pressure', 'link_16_flow', 'node_25_pressure', 'node_27_demand', 'link_27_flow', 'node_22_pressure', 'link_9_flow', 'node_2_pressure', 'node_11_demand', 'node_7_pressure', 'node_15_pressure', 'node_17_pressure', 'node_26_demand', 'node_18_demand', 'node_8_demand', 'link_23_flow', 'link_18_flow', 'node_12_demand', 'node_1_demand', 'link_32_flow', 'node_18_pressure', 'node_11_pressure', 'node_19_pressure', 'node_6_demand', 'link_21_flow', 'link_26_flow', 'node_21_pressure', 'link_20_flow', 'link_28_flow', 'node_24_pressure', 'node_30_pressure', 'link_14_flow', 'node_27_pressure', 'node_7_demand', 'node_13_pressure', 'link_19_flow', 'link_17_flow', 'node_31_demand', 'node_6_pressure', 'link_2_flow', 'node_3_demand', 'link_3_flow', 'node_4_demand', 'node_21_demand', 'node_17_demand', 'node_31_pressure', 'node_25_demand', 'link_1_flow', 'link_8_flow', 'reservoir_demand', 'node_23_pressure', 'node_10_demand', 'node_9_pressure']]\n",
      "starting df shape: (87600, 41)\n",
      "This is training run 2 and has the shape:  (87600, 41)\n",
      "The value of dropped columns is 55\n"
     ]
    },
    {
     "name": "stderr",
     "output_type": "stream",
     "text": [
      "/Users/alexellard/opt/anaconda3/lib/python3.7/site-packages/xgboost/data.py:96: UserWarning: Use subset (sliced data) of np.ndarray is not recommended because it will generate extra copies and increase memory consumption\n",
      "  \"because it will generate extra copies and increase \" +\n"
     ]
    },
    {
     "name": "stdout",
     "output_type": "stream",
     "text": [
      "test y shape : (17520, 1)\n",
      "Inv y shape : (17520, 41)\n"
     ]
    },
    {
     "name": "stderr",
     "output_type": "stream",
     "text": [
      "/Users/alexellard/opt/anaconda3/lib/python3.7/site-packages/xgboost/data.py:96: UserWarning: Use subset (sliced data) of np.ndarray is not recommended because it will generate extra copies and increase memory consumption\n",
      "  \"because it will generate extra copies and increase \" +\n"
     ]
    },
    {
     "name": "stdout",
     "output_type": "stream",
     "text": [
      "test y shape : (17520, 1)\n",
      "Inv y shape : (17520, 41)\n",
      "y pred shape : (17520, 1)\n",
      "inv y pred : (17520, 41)\n",
      "Run 2 Mean Absolute Error: 0.5087326357375558\n",
      "RMSE: 0.696\n",
      "R^2: 1.000\n",
      "[['node_11_demand', 'node_19_demand', 'link_30_flow', 'node_2_pressure', 'node_30_demand', 'node_22_pressure', 'node_14_pressure', 'link_3_flow', 'node_17_pressure', 'node_27_demand', 'link_32_flow', 'link_29_flow', 'node_18_demand', 'node_30_pressure', 'node_14_demand', 'node_20_demand', 'link_20_flow', 'reservoir_pressure', 'node_25_demand', 'link_27_flow', 'node_23_pressure', 'link_14_flow', 'node_28_pressure', 'link_16_flow', 'node_6_pressure', 'node_13_pressure', 'node_2_demand', 'node_8_pressure', 'node_25_pressure', 'link_17_flow', 'reservoir_demand', 'link_2_flow', 'node_1_demand', 'link_5_flow', 'node_29_pressure', 'node_3_demand', 'node_7_demand', 'node_9_demand', 'link_7_flow', 'link_12_flow', 'link_1_flow', 'link_21_flow', 'node_4_demand', 'node_31_pressure', 'node_10_pressure', 'node_16_demand', 'link_4_flow', 'node_15_pressure', 'node_31_demand', 'node_10_demand', 'node_4_pressure', 'link_25_flow', 'node_5_demand', 'node_26_demand', 'node_26_pressure']]\n",
      "starting df shape: (87600, 41)\n",
      "This is training run 3 and has the shape:  (87600, 41)\n",
      "The value of dropped columns is 55\n"
     ]
    },
    {
     "name": "stderr",
     "output_type": "stream",
     "text": [
      "/Users/alexellard/opt/anaconda3/lib/python3.7/site-packages/xgboost/data.py:96: UserWarning: Use subset (sliced data) of np.ndarray is not recommended because it will generate extra copies and increase memory consumption\n",
      "  \"because it will generate extra copies and increase \" +\n"
     ]
    },
    {
     "name": "stdout",
     "output_type": "stream",
     "text": [
      "test y shape : (17520, 1)\n",
      "Inv y shape : (17520, 41)\n"
     ]
    },
    {
     "name": "stderr",
     "output_type": "stream",
     "text": [
      "/Users/alexellard/opt/anaconda3/lib/python3.7/site-packages/xgboost/data.py:96: UserWarning: Use subset (sliced data) of np.ndarray is not recommended because it will generate extra copies and increase memory consumption\n",
      "  \"because it will generate extra copies and increase \" +\n"
     ]
    },
    {
     "name": "stdout",
     "output_type": "stream",
     "text": [
      "test y shape : (17520, 1)\n",
      "Inv y shape : (17520, 41)\n",
      "y pred shape : (17520, 1)\n",
      "inv y pred : (17520, 41)\n",
      "Run 3 Mean Absolute Error: 1.0339165700309165\n",
      "RMSE: 1.408\n",
      "R^2: 1.000\n",
      "[['node_24_pressure', 'reservoir_demand', 'link_7_flow', 'link_3_flow', 'link_8_flow', 'link_1_flow', 'link_30_flow', 'node_8_demand', 'node_28_pressure', 'node_1_pressure', 'node_17_pressure', 'link_13_flow', 'link_28_flow', 'node_31_demand', 'node_11_demand', 'node_11_pressure', 'link_4_flow', 'node_13_demand', 'node_4_demand', 'node_9_demand', 'link_18_flow', 'node_10_pressure', 'link_14_flow', 'reservoir_pressure', 'node_7_demand', 'node_22_demand', 'node_3_pressure', 'link_2_flow', 'link_19_flow', 'node_12_demand', 'node_14_demand', 'node_2_demand', 'node_10_demand', 'node_1_demand', 'link_27_flow', 'node_7_pressure', 'node_16_demand', 'node_28_demand', 'node_6_demand', 'node_26_pressure', 'node_23_demand', 'link_17_flow', 'link_31_flow', 'link_16_flow', 'node_4_pressure', 'link_26_flow', 'node_27_demand', 'node_30_demand', 'node_6_pressure', 'node_13_pressure', 'link_32_flow', 'node_26_demand', 'link_21_flow', 'node_25_demand', 'node_19_demand']]\n",
      "starting df shape: (87600, 41)\n",
      "This is training run 4 and has the shape:  (87600, 41)\n",
      "The value of dropped columns is 55\n"
     ]
    },
    {
     "name": "stderr",
     "output_type": "stream",
     "text": [
      "/Users/alexellard/opt/anaconda3/lib/python3.7/site-packages/xgboost/data.py:96: UserWarning: Use subset (sliced data) of np.ndarray is not recommended because it will generate extra copies and increase memory consumption\n",
      "  \"because it will generate extra copies and increase \" +\n"
     ]
    },
    {
     "name": "stdout",
     "output_type": "stream",
     "text": [
      "test y shape : (17520, 1)\n",
      "Inv y shape : (17520, 41)\n"
     ]
    },
    {
     "name": "stderr",
     "output_type": "stream",
     "text": [
      "/Users/alexellard/opt/anaconda3/lib/python3.7/site-packages/xgboost/data.py:96: UserWarning: Use subset (sliced data) of np.ndarray is not recommended because it will generate extra copies and increase memory consumption\n",
      "  \"because it will generate extra copies and increase \" +\n"
     ]
    },
    {
     "name": "stdout",
     "output_type": "stream",
     "text": [
      "test y shape : (17520, 1)\n",
      "Inv y shape : (17520, 41)\n",
      "y pred shape : (17520, 1)\n",
      "inv y pred : (17520, 41)\n",
      "Run 4 Mean Absolute Error: 0.09487658780384965\n",
      "RMSE: 0.132\n",
      "R^2: 1.000\n",
      "[['node_1_demand', 'link_9_flow', 'node_21_pressure', 'link_22_flow', 'link_1_flow', 'link_12_flow', 'node_25_pressure', 'node_18_pressure', 'link_26_flow', 'node_30_demand', 'node_22_pressure', 'node_22_demand', 'node_11_pressure', 'node_13_pressure', 'node_31_pressure', 'link_15_flow', 'reservoir_pressure', 'node_14_pressure', 'node_19_pressure', 'node_27_pressure', 'node_6_demand', 'node_2_pressure', 'node_1_pressure', 'node_26_pressure', 'link_17_flow', 'node_23_demand', 'node_5_pressure', 'link_14_flow', 'reservoir_demand', 'link_25_flow', 'link_6_flow', 'node_12_demand', 'node_15_demand', 'node_9_pressure', 'link_23_flow', 'node_17_demand', 'node_10_demand', 'link_4_flow', 'node_3_pressure', 'node_3_demand', 'link_21_flow', 'node_5_demand', 'node_13_demand', 'node_19_demand', 'node_21_demand', 'link_3_flow', 'node_10_pressure', 'link_8_flow', 'link_29_flow', 'link_13_flow', 'node_14_demand', 'link_30_flow', 'link_7_flow', 'link_2_flow']]\n",
      "starting df shape: (87600, 42)\n",
      "This is training run 5 and has the shape:  (87600, 42)\n",
      "The value of dropped columns is 55\n"
     ]
    },
    {
     "name": "stderr",
     "output_type": "stream",
     "text": [
      "/Users/alexellard/opt/anaconda3/lib/python3.7/site-packages/xgboost/data.py:96: UserWarning: Use subset (sliced data) of np.ndarray is not recommended because it will generate extra copies and increase memory consumption\n",
      "  \"because it will generate extra copies and increase \" +\n"
     ]
    },
    {
     "name": "stdout",
     "output_type": "stream",
     "text": [
      "test y shape : (17520, 1)\n",
      "Inv y shape : (17520, 42)\n"
     ]
    },
    {
     "name": "stderr",
     "output_type": "stream",
     "text": [
      "/Users/alexellard/opt/anaconda3/lib/python3.7/site-packages/xgboost/data.py:96: UserWarning: Use subset (sliced data) of np.ndarray is not recommended because it will generate extra copies and increase memory consumption\n",
      "  \"because it will generate extra copies and increase \" +\n"
     ]
    },
    {
     "name": "stdout",
     "output_type": "stream",
     "text": [
      "test y shape : (17520, 1)\n",
      "Inv y shape : (17520, 42)\n",
      "y pred shape : (17520, 1)\n",
      "inv y pred : (17520, 42)\n",
      "Run 5 Mean Absolute Error: 0.4768176235714346\n",
      "RMSE: 0.673\n",
      "R^2: 1.000\n",
      "[['node_5_pressure', 'link_26_flow', 'link_19_flow', 'link_6_flow', 'link_16_flow', 'link_20_flow', 'node_30_demand', 'link_11_flow', 'node_15_demand', 'node_9_pressure', 'node_17_demand', 'node_20_demand', 'node_21_pressure', 'link_8_flow', 'node_26_demand', 'link_30_flow', 'node_5_demand', 'node_30_pressure', 'link_22_flow', 'node_27_pressure', 'link_10_flow', 'node_6_demand', 'node_11_pressure', 'node_14_pressure', 'node_13_pressure', 'reservoir_demand', 'node_18_pressure', 'link_32_flow', 'node_18_demand', 'link_15_flow', 'node_22_pressure', 'node_2_pressure', 'node_14_demand', 'node_26_pressure', 'link_3_flow', 'link_31_flow', 'node_25_demand', 'reservoir_pressure', 'node_31_demand', 'node_27_demand', 'link_1_flow', 'node_3_demand', 'node_7_demand', 'node_4_demand', 'link_7_flow', 'node_16_demand', 'node_12_demand', 'node_24_demand', 'node_4_pressure', 'node_29_pressure', 'node_8_demand', 'link_14_flow', 'node_12_pressure', 'node_29_demand', 'node_15_pressure']]\n",
      "starting df shape: (87600, 41)\n",
      "This is training run 6 and has the shape:  (87600, 41)\n",
      "The value of dropped columns is 55\n"
     ]
    },
    {
     "name": "stderr",
     "output_type": "stream",
     "text": [
      "/Users/alexellard/opt/anaconda3/lib/python3.7/site-packages/xgboost/data.py:96: UserWarning: Use subset (sliced data) of np.ndarray is not recommended because it will generate extra copies and increase memory consumption\n",
      "  \"because it will generate extra copies and increase \" +\n"
     ]
    },
    {
     "name": "stdout",
     "output_type": "stream",
     "text": [
      "test y shape : (17520, 1)\n",
      "Inv y shape : (17520, 41)\n"
     ]
    },
    {
     "name": "stderr",
     "output_type": "stream",
     "text": [
      "/Users/alexellard/opt/anaconda3/lib/python3.7/site-packages/xgboost/data.py:96: UserWarning: Use subset (sliced data) of np.ndarray is not recommended because it will generate extra copies and increase memory consumption\n",
      "  \"because it will generate extra copies and increase \" +\n"
     ]
    },
    {
     "name": "stdout",
     "output_type": "stream",
     "text": [
      "test y shape : (17520, 1)\n",
      "Inv y shape : (17520, 41)\n",
      "y pred shape : (17520, 1)\n",
      "inv y pred : (17520, 41)\n",
      "Run 6 Mean Absolute Error: 0.8382762320593609\n",
      "RMSE: 1.226\n",
      "R^2: 1.000\n",
      "[['link_14_flow', 'node_23_pressure', 'node_30_pressure', 'node_14_demand', 'link_11_flow', 'node_12_pressure', 'link_8_flow', 'link_7_flow', 'link_6_flow', 'node_22_demand', 'node_17_pressure', 'node_19_demand', 'node_31_pressure', 'node_22_pressure', 'node_24_demand', 'node_8_pressure', 'link_1_flow', 'node_5_demand', 'node_27_demand', 'node_10_demand', 'node_1_pressure', 'node_18_demand', 'node_8_demand', 'link_2_flow', 'node_9_pressure', 'node_9_demand', 'node_10_pressure', 'link_18_flow', 'node_18_pressure', 'link_20_flow', 'node_3_demand', 'node_11_pressure', 'node_20_demand', 'node_5_pressure', 'link_32_flow', 'link_24_flow', 'node_23_demand', 'node_3_pressure', 'node_28_pressure', 'link_27_flow', 'link_15_flow', 'node_31_demand', 'node_11_demand', 'link_13_flow', 'node_26_demand', 'link_26_flow', 'link_31_flow', 'link_3_flow', 'node_24_pressure', 'node_4_pressure', 'node_29_demand', 'node_27_pressure', 'node_26_pressure', 'link_4_flow', 'node_25_pressure']]\n",
      "starting df shape: (87600, 41)\n",
      "This is training run 7 and has the shape:  (87600, 41)\n",
      "The value of dropped columns is 55\n"
     ]
    },
    {
     "name": "stderr",
     "output_type": "stream",
     "text": [
      "/Users/alexellard/opt/anaconda3/lib/python3.7/site-packages/xgboost/data.py:96: UserWarning: Use subset (sliced data) of np.ndarray is not recommended because it will generate extra copies and increase memory consumption\n",
      "  \"because it will generate extra copies and increase \" +\n"
     ]
    },
    {
     "name": "stdout",
     "output_type": "stream",
     "text": [
      "test y shape : (17520, 1)\n",
      "Inv y shape : (17520, 41)\n"
     ]
    },
    {
     "name": "stderr",
     "output_type": "stream",
     "text": [
      "/Users/alexellard/opt/anaconda3/lib/python3.7/site-packages/xgboost/data.py:96: UserWarning: Use subset (sliced data) of np.ndarray is not recommended because it will generate extra copies and increase memory consumption\n",
      "  \"because it will generate extra copies and increase \" +\n"
     ]
    },
    {
     "name": "stdout",
     "output_type": "stream",
     "text": [
      "test y shape : (17520, 1)\n",
      "Inv y shape : (17520, 41)\n",
      "y pred shape : (17520, 1)\n",
      "inv y pred : (17520, 41)\n",
      "Run 7 Mean Absolute Error: 8.463841829105771\n",
      "RMSE: 11.818\n",
      "R^2: 1.000\n",
      "[['node_22_pressure', 'node_24_pressure', 'node_9_demand', 'node_16_demand', 'node_30_pressure', 'node_4_pressure', 'link_24_flow', 'link_14_flow', 'node_18_demand', 'link_4_flow', 'node_22_demand', 'link_5_flow', 'node_13_demand', 'link_8_flow', 'link_22_flow', 'node_8_pressure', 'node_12_pressure', 'node_20_demand', 'node_6_pressure', 'node_10_demand', 'link_13_flow', 'node_9_pressure', 'link_20_flow', 'link_7_flow', 'link_19_flow', 'link_17_flow', 'node_11_demand', 'node_5_demand', 'node_21_pressure', 'node_19_demand', 'link_11_flow', 'link_9_flow', 'node_1_demand', 'node_27_pressure', 'link_6_flow', 'link_15_flow', 'node_8_demand', 'link_28_flow', 'node_23_pressure', 'node_27_demand', 'node_3_pressure', 'node_17_demand', 'link_26_flow', 'node_6_demand', 'node_21_demand', 'node_29_pressure', 'node_10_pressure', 'node_13_pressure', 'node_30_demand', 'link_32_flow', 'node_31_demand', 'node_26_demand', 'link_31_flow', 'node_11_pressure']]\n",
      "starting df shape: (87600, 42)\n",
      "This is training run 8 and has the shape:  (87600, 42)\n",
      "The value of dropped columns is 55\n"
     ]
    },
    {
     "name": "stderr",
     "output_type": "stream",
     "text": [
      "/Users/alexellard/opt/anaconda3/lib/python3.7/site-packages/xgboost/data.py:96: UserWarning: Use subset (sliced data) of np.ndarray is not recommended because it will generate extra copies and increase memory consumption\n",
      "  \"because it will generate extra copies and increase \" +\n"
     ]
    },
    {
     "name": "stdout",
     "output_type": "stream",
     "text": [
      "test y shape : (17520, 1)\n",
      "Inv y shape : (17520, 42)\n"
     ]
    },
    {
     "name": "stderr",
     "output_type": "stream",
     "text": [
      "/Users/alexellard/opt/anaconda3/lib/python3.7/site-packages/xgboost/data.py:96: UserWarning: Use subset (sliced data) of np.ndarray is not recommended because it will generate extra copies and increase memory consumption\n",
      "  \"because it will generate extra copies and increase \" +\n"
     ]
    },
    {
     "name": "stdout",
     "output_type": "stream",
     "text": [
      "test y shape : (17520, 1)\n",
      "Inv y shape : (17520, 42)\n",
      "y pred shape : (17520, 1)\n",
      "inv y pred : (17520, 42)\n",
      "Run 8 Mean Absolute Error: 9.873213389038472\n",
      "RMSE: 14.028\n",
      "R^2: 1.000\n",
      "[['link_3_flow', 'node_2_demand', 'node_7_demand', 'node_5_pressure', 'link_32_flow', 'link_15_flow', 'node_9_pressure', 'node_21_pressure', 'link_21_flow', 'link_7_flow', 'node_18_pressure', 'node_19_pressure', 'node_12_pressure', 'node_28_pressure', 'link_8_flow', 'node_26_demand', 'node_17_demand', 'node_31_demand', 'link_6_flow', 'link_25_flow', 'node_15_demand', 'node_6_pressure', 'link_19_flow', 'node_13_pressure', 'node_4_pressure', 'node_14_pressure', 'link_2_flow', 'node_22_demand', 'node_29_pressure', 'node_25_demand', 'node_3_pressure', 'node_20_pressure', 'link_24_flow', 'link_4_flow', 'node_1_pressure', 'link_17_flow', 'node_4_demand', 'link_10_flow', 'link_31_flow', 'link_30_flow', 'node_20_demand', 'node_29_demand', 'node_11_demand', 'link_16_flow', 'node_30_demand', 'node_11_pressure', 'link_27_flow', 'node_26_pressure', 'link_14_flow', 'node_30_pressure', 'link_9_flow', 'node_15_pressure', 'node_28_demand', 'node_1_demand', 'node_21_demand']]\n",
      "starting df shape: (87600, 41)\n",
      "This is training run 9 and has the shape:  (87600, 41)\n",
      "The value of dropped columns is 55\n"
     ]
    },
    {
     "name": "stderr",
     "output_type": "stream",
     "text": [
      "/Users/alexellard/opt/anaconda3/lib/python3.7/site-packages/xgboost/data.py:96: UserWarning: Use subset (sliced data) of np.ndarray is not recommended because it will generate extra copies and increase memory consumption\n",
      "  \"because it will generate extra copies and increase \" +\n"
     ]
    },
    {
     "name": "stdout",
     "output_type": "stream",
     "text": [
      "test y shape : (17520, 1)\n",
      "Inv y shape : (17520, 41)\n"
     ]
    },
    {
     "name": "stderr",
     "output_type": "stream",
     "text": [
      "/Users/alexellard/opt/anaconda3/lib/python3.7/site-packages/xgboost/data.py:96: UserWarning: Use subset (sliced data) of np.ndarray is not recommended because it will generate extra copies and increase memory consumption\n",
      "  \"because it will generate extra copies and increase \" +\n"
     ]
    },
    {
     "name": "stdout",
     "output_type": "stream",
     "text": [
      "test y shape : (17520, 1)\n",
      "Inv y shape : (17520, 41)\n",
      "y pred shape : (17520, 1)\n",
      "inv y pred : (17520, 41)\n",
      "Run 9 Mean Absolute Error: 8.572045806736686\n",
      "RMSE: 12.003\n",
      "R^2: 1.000\n",
      "[['node_30_demand', 'node_2_pressure', 'node_27_demand', 'node_16_demand', 'link_24_flow', 'node_25_pressure', 'node_3_demand', 'link_15_flow', 'node_14_pressure', 'node_9_pressure', 'node_12_demand', 'link_9_flow', 'node_7_demand', 'node_29_demand', 'link_23_flow', 'link_31_flow', 'node_13_demand', 'node_1_pressure', 'node_20_demand', 'node_8_pressure', 'node_28_pressure', 'node_4_pressure', 'node_22_demand', 'node_21_pressure', 'link_25_flow', 'node_25_demand', 'node_18_pressure', 'node_31_pressure', 'link_19_flow', 'node_12_pressure', 'node_15_demand', 'node_9_demand', 'link_5_flow', 'node_18_demand', 'node_31_demand', 'node_11_pressure', 'link_30_flow', 'node_4_demand', 'reservoir_pressure', 'node_23_demand', 'node_10_demand', 'node_6_pressure', 'node_30_pressure', 'node_11_demand', 'link_20_flow', 'link_13_flow', 'link_7_flow', 'node_3_pressure', 'node_2_demand', 'link_16_flow', 'node_14_demand', 'node_19_pressure', 'node_22_pressure', 'node_29_pressure', 'link_1_flow']]\n",
      "starting df shape: (87600, 41)\n",
      "This is training run 10 and has the shape:  (87600, 41)\n",
      "The value of dropped columns is 55\n"
     ]
    },
    {
     "name": "stderr",
     "output_type": "stream",
     "text": [
      "/Users/alexellard/opt/anaconda3/lib/python3.7/site-packages/xgboost/data.py:96: UserWarning: Use subset (sliced data) of np.ndarray is not recommended because it will generate extra copies and increase memory consumption\n",
      "  \"because it will generate extra copies and increase \" +\n"
     ]
    },
    {
     "name": "stdout",
     "output_type": "stream",
     "text": [
      "test y shape : (17520, 1)\n",
      "Inv y shape : (17520, 41)\n"
     ]
    },
    {
     "name": "stderr",
     "output_type": "stream",
     "text": [
      "/Users/alexellard/opt/anaconda3/lib/python3.7/site-packages/xgboost/data.py:96: UserWarning: Use subset (sliced data) of np.ndarray is not recommended because it will generate extra copies and increase memory consumption\n",
      "  \"because it will generate extra copies and increase \" +\n"
     ]
    },
    {
     "name": "stdout",
     "output_type": "stream",
     "text": [
      "test y shape : (17520, 1)\n",
      "Inv y shape : (17520, 41)\n",
      "y pred shape : (17520, 1)\n",
      "inv y pred : (17520, 41)\n",
      "Run 10 Mean Absolute Error: 11.29402362366805\n",
      "RMSE: 16.123\n",
      "R^2: 1.000\n",
      "[['node_19_pressure', 'node_3_pressure', 'link_14_flow', 'node_30_pressure', 'link_32_flow', 'node_15_pressure', 'link_3_flow', 'link_28_flow', 'node_14_demand', 'node_1_demand', 'node_2_demand', 'node_13_demand', 'link_21_flow', 'link_8_flow', 'reservoir_pressure', 'node_10_pressure', 'link_13_flow', 'link_12_flow', 'node_17_demand', 'node_22_demand', 'link_24_flow', 'link_26_flow', 'node_4_demand', 'node_11_demand', 'link_11_flow', 'link_16_flow', 'node_30_demand', 'node_13_pressure', 'link_23_flow', 'node_25_pressure', 'node_24_demand', 'reservoir_demand', 'node_23_pressure', 'node_12_pressure', 'link_30_flow', 'node_27_pressure', 'link_1_flow', 'link_29_flow', 'node_3_demand', 'node_28_pressure', 'node_29_demand', 'node_7_demand', 'link_9_flow', 'node_31_pressure', 'node_17_pressure', 'link_5_flow', 'node_9_demand', 'link_10_flow', 'node_6_demand', 'link_20_flow', 'node_26_demand', 'node_21_demand', 'node_22_pressure', 'node_27_demand', 'node_5_demand', 'node_10_demand', 'node_8_pressure', 'node_25_demand', 'link_4_flow', 'node_9_pressure']]\n",
      "starting df shape: (87600, 36)\n",
      "This is training run 1 and has the shape:  (87600, 36)\n",
      "The value of dropped columns is 60\n"
     ]
    },
    {
     "name": "stderr",
     "output_type": "stream",
     "text": [
      "/Users/alexellard/opt/anaconda3/lib/python3.7/site-packages/xgboost/data.py:96: UserWarning: Use subset (sliced data) of np.ndarray is not recommended because it will generate extra copies and increase memory consumption\n",
      "  \"because it will generate extra copies and increase \" +\n"
     ]
    },
    {
     "name": "stdout",
     "output_type": "stream",
     "text": [
      "test y shape : (17520, 1)\n",
      "Inv y shape : (17520, 36)\n"
     ]
    },
    {
     "name": "stderr",
     "output_type": "stream",
     "text": [
      "/Users/alexellard/opt/anaconda3/lib/python3.7/site-packages/xgboost/data.py:96: UserWarning: Use subset (sliced data) of np.ndarray is not recommended because it will generate extra copies and increase memory consumption\n",
      "  \"because it will generate extra copies and increase \" +\n"
     ]
    },
    {
     "name": "stdout",
     "output_type": "stream",
     "text": [
      "test y shape : (17520, 1)\n",
      "Inv y shape : (17520, 36)\n",
      "y pred shape : (17520, 1)\n",
      "inv y pred : (17520, 36)\n",
      "Run 1 Mean Absolute Error: 0.2554209493554101\n",
      "RMSE: 0.354\n",
      "R^2: 1.000\n",
      "[['node_30_pressure', 'node_4_demand', 'link_20_flow', 'node_26_pressure', 'link_31_flow', 'node_1_pressure', 'link_27_flow', 'node_24_demand', 'node_9_pressure', 'node_4_pressure', 'node_30_demand', 'node_19_demand', 'node_27_demand', 'link_6_flow', 'link_13_flow', 'node_31_demand', 'node_11_demand', 'link_29_flow', 'link_16_flow', 'node_21_pressure', 'link_7_flow', 'node_17_demand', 'link_11_flow', 'node_3_pressure', 'node_18_pressure', 'node_28_demand', 'node_11_pressure', 'link_9_flow', 'node_5_pressure', 'node_22_pressure', 'link_24_flow', 'link_8_flow', 'node_29_pressure', 'node_22_demand', 'link_30_flow', 'link_17_flow', 'node_2_demand', 'node_24_pressure', 'node_6_pressure', 'link_12_flow', 'link_14_flow', 'node_14_pressure', 'link_10_flow', 'node_3_demand', 'node_10_pressure', 'node_27_pressure', 'node_6_demand', 'node_2_pressure', 'link_19_flow', 'node_28_pressure', 'node_17_pressure', 'node_7_pressure', 'node_18_demand', 'node_10_demand', 'node_9_demand', 'node_12_pressure', 'link_4_flow', 'link_1_flow', 'node_8_pressure']]\n",
      "starting df shape: (87600, 37)\n",
      "This is training run 2 and has the shape:  (87600, 37)\n",
      "The value of dropped columns is 60\n"
     ]
    },
    {
     "name": "stderr",
     "output_type": "stream",
     "text": [
      "/Users/alexellard/opt/anaconda3/lib/python3.7/site-packages/xgboost/data.py:96: UserWarning: Use subset (sliced data) of np.ndarray is not recommended because it will generate extra copies and increase memory consumption\n",
      "  \"because it will generate extra copies and increase \" +\n"
     ]
    },
    {
     "name": "stdout",
     "output_type": "stream",
     "text": [
      "test y shape : (17520, 1)\n",
      "Inv y shape : (17520, 37)\n"
     ]
    },
    {
     "name": "stderr",
     "output_type": "stream",
     "text": [
      "/Users/alexellard/opt/anaconda3/lib/python3.7/site-packages/xgboost/data.py:96: UserWarning: Use subset (sliced data) of np.ndarray is not recommended because it will generate extra copies and increase memory consumption\n",
      "  \"because it will generate extra copies and increase \" +\n"
     ]
    },
    {
     "name": "stdout",
     "output_type": "stream",
     "text": [
      "test y shape : (17520, 1)\n",
      "Inv y shape : (17520, 37)\n",
      "y pred shape : (17520, 1)\n",
      "inv y pred : (17520, 37)\n",
      "Run 2 Mean Absolute Error: 8.543031542521902\n",
      "RMSE: 12.409\n",
      "R^2: 1.000\n",
      "[['node_5_pressure', 'node_12_pressure', 'link_17_flow', 'reservoir_pressure', 'node_30_pressure', 'node_29_pressure', 'link_9_flow', 'node_28_pressure', 'node_4_demand', 'node_3_pressure', 'node_11_demand', 'link_30_flow', 'link_18_flow', 'node_18_pressure', 'node_29_demand', 'node_24_pressure', 'link_28_flow', 'node_7_demand', 'node_23_pressure', 'node_22_pressure', 'link_15_flow', 'node_28_demand', 'node_15_pressure', 'node_25_demand', 'node_17_pressure', 'link_1_flow', 'node_27_demand', 'node_22_demand', 'link_11_flow', 'node_7_pressure', 'node_23_demand', 'link_13_flow', 'node_1_demand', 'link_10_flow', 'link_27_flow', 'link_21_flow', 'link_8_flow', 'node_8_pressure', 'link_16_flow', 'node_1_pressure', 'link_22_flow', 'link_4_flow', 'link_6_flow', 'link_7_flow', 'node_5_demand', 'link_24_flow', 'node_3_demand', 'link_20_flow', 'node_13_demand', 'link_29_flow', 'node_12_demand', 'node_16_demand', 'node_30_demand', 'node_31_pressure', 'node_18_demand', 'node_20_demand', 'node_17_demand', 'node_13_pressure', 'node_14_demand', 'node_2_demand']]\n",
      "starting df shape: (87600, 36)\n",
      "This is training run 3 and has the shape:  (87600, 36)\n",
      "The value of dropped columns is 60\n"
     ]
    },
    {
     "name": "stderr",
     "output_type": "stream",
     "text": [
      "/Users/alexellard/opt/anaconda3/lib/python3.7/site-packages/xgboost/data.py:96: UserWarning: Use subset (sliced data) of np.ndarray is not recommended because it will generate extra copies and increase memory consumption\n",
      "  \"because it will generate extra copies and increase \" +\n"
     ]
    },
    {
     "name": "stdout",
     "output_type": "stream",
     "text": [
      "test y shape : (17520, 1)\n",
      "Inv y shape : (17520, 36)\n"
     ]
    },
    {
     "name": "stderr",
     "output_type": "stream",
     "text": [
      "/Users/alexellard/opt/anaconda3/lib/python3.7/site-packages/xgboost/data.py:96: UserWarning: Use subset (sliced data) of np.ndarray is not recommended because it will generate extra copies and increase memory consumption\n",
      "  \"because it will generate extra copies and increase \" +\n"
     ]
    },
    {
     "name": "stdout",
     "output_type": "stream",
     "text": [
      "test y shape : (17520, 1)\n",
      "Inv y shape : (17520, 36)\n",
      "y pred shape : (17520, 1)\n",
      "inv y pred : (17520, 36)\n",
      "Run 3 Mean Absolute Error: 13.63175706338848\n",
      "RMSE: 19.026\n",
      "R^2: 1.000\n",
      "[['node_3_demand', 'node_4_pressure', 'node_13_demand', 'node_25_demand', 'node_20_pressure', 'node_9_demand', 'link_12_flow', 'link_32_flow', 'node_23_demand', 'link_16_flow', 'node_19_pressure', 'link_17_flow', 'node_6_demand', 'node_5_pressure', 'node_14_pressure', 'node_27_demand', 'node_3_pressure', 'node_16_demand', 'link_7_flow', 'link_8_flow', 'node_7_pressure', 'link_1_flow', 'node_6_pressure', 'link_14_flow', 'node_14_demand', 'node_30_pressure', 'node_25_pressure', 'node_8_pressure', 'node_5_demand', 'node_22_demand', 'node_22_pressure', 'node_17_demand', 'node_23_pressure', 'node_2_demand', 'link_21_flow', 'node_8_demand', 'node_1_demand', 'link_30_flow', 'node_18_pressure', 'link_10_flow', 'link_28_flow', 'node_19_demand', 'node_24_pressure', 'node_12_pressure', 'link_3_flow', 'reservoir_pressure', 'node_24_demand', 'node_18_demand', 'reservoir_demand', 'node_12_demand', 'node_11_demand', 'node_30_demand', 'link_15_flow', 'link_11_flow', 'node_29_demand', 'link_31_flow', 'link_27_flow', 'link_20_flow', 'node_28_pressure', 'link_25_flow']]\n",
      "starting df shape: (87600, 36)\n",
      "This is training run 4 and has the shape:  (87600, 36)\n",
      "The value of dropped columns is 60\n"
     ]
    },
    {
     "name": "stderr",
     "output_type": "stream",
     "text": [
      "/Users/alexellard/opt/anaconda3/lib/python3.7/site-packages/xgboost/data.py:96: UserWarning: Use subset (sliced data) of np.ndarray is not recommended because it will generate extra copies and increase memory consumption\n",
      "  \"because it will generate extra copies and increase \" +\n"
     ]
    },
    {
     "name": "stdout",
     "output_type": "stream",
     "text": [
      "test y shape : (17520, 1)\n",
      "Inv y shape : (17520, 36)\n"
     ]
    },
    {
     "name": "stderr",
     "output_type": "stream",
     "text": [
      "/Users/alexellard/opt/anaconda3/lib/python3.7/site-packages/xgboost/data.py:96: UserWarning: Use subset (sliced data) of np.ndarray is not recommended because it will generate extra copies and increase memory consumption\n",
      "  \"because it will generate extra copies and increase \" +\n"
     ]
    },
    {
     "name": "stdout",
     "output_type": "stream",
     "text": [
      "test y shape : (17520, 1)\n",
      "Inv y shape : (17520, 36)\n",
      "y pred shape : (17520, 1)\n",
      "inv y pred : (17520, 36)\n",
      "Run 4 Mean Absolute Error: 0.5333899886716178\n",
      "RMSE: 0.761\n",
      "R^2: 1.000\n",
      "[['node_22_demand', 'node_18_demand', 'node_1_demand', 'link_18_flow', 'reservoir_pressure', 'node_8_demand', 'link_8_flow', 'link_23_flow', 'node_15_demand', 'link_3_flow', 'link_6_flow', 'link_28_flow', 'node_5_pressure', 'node_25_pressure', 'link_7_flow', 'node_11_demand', 'node_4_pressure', 'node_9_pressure', 'node_9_demand', 'link_14_flow', 'node_21_demand', 'link_30_flow', 'node_31_pressure', 'link_17_flow', 'node_4_demand', 'node_13_demand', 'node_20_pressure', 'node_6_pressure', 'link_5_flow', 'node_27_pressure', 'node_7_pressure', 'node_22_pressure', 'node_16_demand', 'link_22_flow', 'node_5_demand', 'node_3_demand', 'link_25_flow', 'node_23_pressure', 'node_29_demand', 'node_13_pressure', 'node_25_demand', 'node_21_pressure', 'node_28_pressure', 'node_12_demand', 'node_14_pressure', 'node_7_demand', 'node_15_pressure', 'node_28_demand', 'node_11_pressure', 'link_19_flow', 'node_30_demand', 'link_1_flow', 'link_11_flow', 'node_26_demand', 'node_31_demand', 'link_32_flow', 'node_24_demand', 'node_27_demand', 'link_9_flow']]\n",
      "starting df shape: (87600, 37)\n",
      "This is training run 5 and has the shape:  (87600, 37)\n",
      "The value of dropped columns is 60\n"
     ]
    },
    {
     "name": "stderr",
     "output_type": "stream",
     "text": [
      "/Users/alexellard/opt/anaconda3/lib/python3.7/site-packages/xgboost/data.py:96: UserWarning: Use subset (sliced data) of np.ndarray is not recommended because it will generate extra copies and increase memory consumption\n",
      "  \"because it will generate extra copies and increase \" +\n"
     ]
    },
    {
     "name": "stdout",
     "output_type": "stream",
     "text": [
      "test y shape : (17520, 1)\n",
      "Inv y shape : (17520, 37)\n"
     ]
    },
    {
     "name": "stderr",
     "output_type": "stream",
     "text": [
      "/Users/alexellard/opt/anaconda3/lib/python3.7/site-packages/xgboost/data.py:96: UserWarning: Use subset (sliced data) of np.ndarray is not recommended because it will generate extra copies and increase memory consumption\n",
      "  \"because it will generate extra copies and increase \" +\n"
     ]
    },
    {
     "name": "stdout",
     "output_type": "stream",
     "text": [
      "test y shape : (17520, 1)\n",
      "Inv y shape : (17520, 37)\n",
      "y pred shape : (17520, 1)\n",
      "inv y pred : (17520, 37)\n",
      "Run 5 Mean Absolute Error: 9.835444321134096\n",
      "RMSE: 13.572\n",
      "R^2: 1.000\n",
      "[['node_7_pressure', 'node_5_pressure', 'node_12_pressure', 'node_3_demand', 'link_24_flow', 'node_13_demand', 'link_9_flow', 'node_15_pressure', 'link_32_flow', 'node_28_pressure', 'node_27_demand', 'link_20_flow', 'link_6_flow', 'node_8_demand', 'node_29_demand', 'link_1_flow', 'link_30_flow', 'node_30_demand', 'node_21_demand', 'node_9_pressure', 'link_23_flow', 'link_17_flow', 'node_17_demand', 'node_29_pressure', 'node_23_pressure', 'node_17_pressure', 'node_18_pressure', 'node_26_demand', 'link_31_flow', 'node_20_demand', 'node_7_demand', 'node_10_pressure', 'link_16_flow', 'node_19_pressure', 'node_26_pressure', 'node_8_pressure', 'node_27_pressure', 'node_1_pressure', 'link_14_flow', 'link_25_flow', 'node_16_demand', 'node_6_demand', 'link_12_flow', 'node_11_demand', 'node_14_pressure', 'link_5_flow', 'node_5_demand', 'link_11_flow', 'node_22_pressure', 'link_26_flow', 'node_3_pressure', 'link_22_flow', 'node_31_pressure', 'node_4_demand', 'node_11_pressure', 'link_19_flow', 'link_13_flow', 'node_6_pressure', 'node_12_demand', 'link_28_flow']]\n",
      "starting df shape: (87600, 36)\n",
      "This is training run 6 and has the shape:  (87600, 36)\n",
      "The value of dropped columns is 60\n"
     ]
    },
    {
     "name": "stderr",
     "output_type": "stream",
     "text": [
      "/Users/alexellard/opt/anaconda3/lib/python3.7/site-packages/xgboost/data.py:96: UserWarning: Use subset (sliced data) of np.ndarray is not recommended because it will generate extra copies and increase memory consumption\n",
      "  \"because it will generate extra copies and increase \" +\n"
     ]
    },
    {
     "name": "stdout",
     "output_type": "stream",
     "text": [
      "test y shape : (17520, 1)\n",
      "Inv y shape : (17520, 36)\n"
     ]
    },
    {
     "name": "stderr",
     "output_type": "stream",
     "text": [
      "/Users/alexellard/opt/anaconda3/lib/python3.7/site-packages/xgboost/data.py:96: UserWarning: Use subset (sliced data) of np.ndarray is not recommended because it will generate extra copies and increase memory consumption\n",
      "  \"because it will generate extra copies and increase \" +\n"
     ]
    },
    {
     "name": "stdout",
     "output_type": "stream",
     "text": [
      "test y shape : (17520, 1)\n",
      "Inv y shape : (17520, 36)\n",
      "y pred shape : (17520, 1)\n",
      "inv y pred : (17520, 36)\n",
      "Run 6 Mean Absolute Error: 10.165682286977981\n",
      "RMSE: 14.028\n",
      "R^2: 1.000\n",
      "[['node_19_pressure', 'node_18_pressure', 'link_7_flow', 'node_30_pressure', 'link_30_flow', 'link_20_flow', 'node_17_demand', 'reservoir_demand', 'node_15_pressure', 'node_30_demand', 'node_9_demand', 'link_8_flow', 'link_27_flow', 'link_24_flow', 'node_23_pressure', 'node_11_demand', 'node_8_pressure', 'link_18_flow', 'link_28_flow', 'node_25_demand', 'node_14_demand', 'link_23_flow', 'link_3_flow', 'node_13_pressure', 'node_6_demand', 'node_24_pressure', 'node_11_pressure', 'reservoir_pressure', 'link_6_flow', 'link_31_flow', 'node_21_pressure', 'node_3_pressure', 'node_31_pressure', 'node_21_demand', 'node_10_pressure', 'link_29_flow', 'node_25_pressure', 'node_17_pressure', 'node_31_demand', 'node_7_pressure', 'link_16_flow', 'node_22_demand', 'node_29_pressure', 'node_16_demand', 'node_28_demand', 'link_5_flow', 'node_3_demand', 'node_5_pressure', 'node_8_demand', 'node_13_demand', 'node_27_demand', 'node_5_demand', 'link_19_flow', 'link_21_flow', 'node_9_pressure', 'link_12_flow', 'link_25_flow', 'node_26_demand', 'link_14_flow']]\n",
      "starting df shape: (87600, 37)\n",
      "This is training run 7 and has the shape:  (87600, 37)\n",
      "The value of dropped columns is 60\n"
     ]
    },
    {
     "name": "stderr",
     "output_type": "stream",
     "text": [
      "/Users/alexellard/opt/anaconda3/lib/python3.7/site-packages/xgboost/data.py:96: UserWarning: Use subset (sliced data) of np.ndarray is not recommended because it will generate extra copies and increase memory consumption\n",
      "  \"because it will generate extra copies and increase \" +\n"
     ]
    },
    {
     "name": "stdout",
     "output_type": "stream",
     "text": [
      "test y shape : (17520, 1)\n",
      "Inv y shape : (17520, 37)\n"
     ]
    },
    {
     "name": "stderr",
     "output_type": "stream",
     "text": [
      "/Users/alexellard/opt/anaconda3/lib/python3.7/site-packages/xgboost/data.py:96: UserWarning: Use subset (sliced data) of np.ndarray is not recommended because it will generate extra copies and increase memory consumption\n",
      "  \"because it will generate extra copies and increase \" +\n"
     ]
    },
    {
     "name": "stdout",
     "output_type": "stream",
     "text": [
      "test y shape : (17520, 1)\n",
      "Inv y shape : (17520, 37)\n",
      "y pred shape : (17520, 1)\n",
      "inv y pred : (17520, 37)\n",
      "Run 7 Mean Absolute Error: 0.6313052920984517\n",
      "RMSE: 0.881\n",
      "R^2: 1.000\n",
      "[['node_7_demand', 'link_29_flow', 'node_14_pressure', 'node_3_demand', 'link_10_flow', 'node_25_demand', 'node_27_demand', 'node_11_demand', 'node_18_pressure', 'node_17_demand', 'node_9_demand', 'link_4_flow', 'node_12_demand', 'link_5_flow', 'node_7_pressure', 'link_31_flow', 'node_4_pressure', 'link_2_flow', 'reservoir_pressure', 'link_8_flow', 'node_24_demand', 'node_24_pressure', 'link_23_flow', 'node_20_pressure', 'node_1_pressure', 'node_30_pressure', 'node_15_demand', 'node_1_demand', 'node_27_pressure', 'link_9_flow', 'link_18_flow', 'link_15_flow', 'node_13_demand', 'link_25_flow', 'node_21_pressure', 'link_24_flow', 'node_31_pressure', 'link_27_flow', 'node_10_demand', 'node_30_demand', 'node_29_demand', 'link_32_flow', 'link_6_flow', 'node_28_demand', 'node_21_demand', 'link_20_flow', 'node_17_pressure', 'link_1_flow', 'link_11_flow', 'node_26_demand', 'link_13_flow', 'node_12_pressure', 'node_16_demand', 'node_4_demand', 'link_30_flow', 'node_20_demand', 'link_14_flow', 'link_7_flow', 'link_21_flow']]\n",
      "starting df shape: (87600, 37)\n",
      "This is training run 8 and has the shape:  (87600, 37)\n",
      "The value of dropped columns is 60\n"
     ]
    },
    {
     "name": "stderr",
     "output_type": "stream",
     "text": [
      "/Users/alexellard/opt/anaconda3/lib/python3.7/site-packages/xgboost/data.py:96: UserWarning: Use subset (sliced data) of np.ndarray is not recommended because it will generate extra copies and increase memory consumption\n",
      "  \"because it will generate extra copies and increase \" +\n"
     ]
    },
    {
     "name": "stdout",
     "output_type": "stream",
     "text": [
      "test y shape : (17520, 1)\n",
      "Inv y shape : (17520, 37)\n"
     ]
    },
    {
     "name": "stderr",
     "output_type": "stream",
     "text": [
      "/Users/alexellard/opt/anaconda3/lib/python3.7/site-packages/xgboost/data.py:96: UserWarning: Use subset (sliced data) of np.ndarray is not recommended because it will generate extra copies and increase memory consumption\n",
      "  \"because it will generate extra copies and increase \" +\n"
     ]
    },
    {
     "name": "stdout",
     "output_type": "stream",
     "text": [
      "test y shape : (17520, 1)\n",
      "Inv y shape : (17520, 37)\n",
      "y pred shape : (17520, 1)\n",
      "inv y pred : (17520, 37)\n",
      "Run 8 Mean Absolute Error: 10.844273686195367\n",
      "RMSE: 15.159\n",
      "R^2: 1.000\n",
      "[['link_1_flow', 'link_14_flow', 'link_19_flow', 'node_5_demand', 'node_29_demand', 'node_2_demand', 'link_12_flow', 'node_22_demand', 'node_26_pressure', 'link_7_flow', 'node_15_pressure', 'node_3_demand', 'link_20_flow', 'node_17_pressure', 'link_17_flow', 'node_2_pressure', 'link_11_flow', 'node_12_demand', 'node_18_pressure', 'node_4_pressure', 'link_9_flow', 'link_10_flow', 'node_11_demand', 'node_25_demand', 'node_10_pressure', 'node_14_demand', 'node_30_demand', 'node_24_demand', 'node_31_demand', 'node_28_demand', 'node_8_demand', 'node_26_demand', 'link_27_flow', 'node_18_demand', 'link_18_flow', 'node_29_pressure', 'link_6_flow', 'link_16_flow', 'link_26_flow', 'node_16_demand', 'node_1_pressure', 'node_20_pressure', 'link_28_flow', 'node_17_demand', 'link_13_flow', 'link_15_flow', 'node_27_pressure', 'node_20_demand', 'link_31_flow', 'link_4_flow', 'node_31_pressure', 'node_8_pressure', 'node_9_pressure', 'node_22_pressure', 'node_3_pressure', 'node_19_demand', 'node_25_pressure', 'link_32_flow', 'node_19_pressure']]\n",
      "starting df shape: (87600, 37)\n",
      "This is training run 9 and has the shape:  (87600, 37)\n",
      "The value of dropped columns is 60\n"
     ]
    },
    {
     "name": "stderr",
     "output_type": "stream",
     "text": [
      "/Users/alexellard/opt/anaconda3/lib/python3.7/site-packages/xgboost/data.py:96: UserWarning: Use subset (sliced data) of np.ndarray is not recommended because it will generate extra copies and increase memory consumption\n",
      "  \"because it will generate extra copies and increase \" +\n"
     ]
    },
    {
     "name": "stdout",
     "output_type": "stream",
     "text": [
      "test y shape : (17520, 1)\n",
      "Inv y shape : (17520, 37)\n"
     ]
    },
    {
     "name": "stderr",
     "output_type": "stream",
     "text": [
      "/Users/alexellard/opt/anaconda3/lib/python3.7/site-packages/xgboost/data.py:96: UserWarning: Use subset (sliced data) of np.ndarray is not recommended because it will generate extra copies and increase memory consumption\n",
      "  \"because it will generate extra copies and increase \" +\n"
     ]
    },
    {
     "name": "stdout",
     "output_type": "stream",
     "text": [
      "test y shape : (17520, 1)\n",
      "Inv y shape : (17520, 37)\n",
      "y pred shape : (17520, 1)\n",
      "inv y pred : (17520, 37)\n",
      "Run 9 Mean Absolute Error: 19.047067904349483\n",
      "RMSE: 27.359\n",
      "R^2: 0.999\n",
      "[['link_19_flow', 'node_4_demand', 'node_28_demand', 'node_17_pressure', 'node_20_demand', 'link_12_flow', 'link_29_flow', 'node_5_pressure', 'link_9_flow', 'link_22_flow', 'node_15_demand', 'node_23_pressure', 'link_30_flow', 'node_12_pressure', 'node_20_pressure', 'node_30_pressure', 'link_5_flow', 'link_6_flow', 'link_11_flow', 'node_14_demand', 'link_28_flow', 'link_1_flow', 'link_27_flow', 'node_7_pressure', 'node_29_pressure', 'node_9_demand', 'node_7_demand', 'node_24_demand', 'node_11_pressure', 'node_26_demand', 'link_31_flow', 'node_3_demand', 'node_22_demand', 'node_19_pressure', 'link_24_flow', 'node_5_demand', 'node_2_demand', 'link_25_flow', 'reservoir_demand', 'node_19_demand', 'node_12_demand', 'reservoir_pressure', 'node_21_demand', 'node_25_demand', 'link_3_flow', 'node_30_demand', 'node_16_demand', 'link_26_flow', 'node_13_demand', 'node_22_pressure', 'link_14_flow', 'node_23_demand', 'node_13_pressure', 'node_14_pressure', 'node_18_pressure', 'link_13_flow', 'node_8_demand', 'node_10_pressure', 'link_21_flow']]\n",
      "starting df shape: (87600, 37)\n",
      "This is training run 10 and has the shape:  (87600, 37)\n",
      "The value of dropped columns is 60\n"
     ]
    },
    {
     "name": "stderr",
     "output_type": "stream",
     "text": [
      "/Users/alexellard/opt/anaconda3/lib/python3.7/site-packages/xgboost/data.py:96: UserWarning: Use subset (sliced data) of np.ndarray is not recommended because it will generate extra copies and increase memory consumption\n",
      "  \"because it will generate extra copies and increase \" +\n"
     ]
    },
    {
     "name": "stdout",
     "output_type": "stream",
     "text": [
      "test y shape : (17520, 1)\n",
      "Inv y shape : (17520, 37)\n"
     ]
    },
    {
     "name": "stderr",
     "output_type": "stream",
     "text": [
      "/Users/alexellard/opt/anaconda3/lib/python3.7/site-packages/xgboost/data.py:96: UserWarning: Use subset (sliced data) of np.ndarray is not recommended because it will generate extra copies and increase memory consumption\n",
      "  \"because it will generate extra copies and increase \" +\n"
     ]
    },
    {
     "name": "stdout",
     "output_type": "stream",
     "text": [
      "test y shape : (17520, 1)\n",
      "Inv y shape : (17520, 37)\n",
      "y pred shape : (17520, 1)\n",
      "inv y pred : (17520, 37)\n",
      "Run 10 Mean Absolute Error: 0.5767829045375824\n",
      "RMSE: 0.799\n",
      "R^2: 1.000\n",
      "[['node_4_demand', 'node_18_pressure', 'node_30_pressure', 'node_8_pressure', 'link_9_flow', 'link_21_flow', 'node_26_pressure', 'node_16_demand', 'node_20_demand', 'node_3_demand', 'link_12_flow', 'link_7_flow', 'link_5_flow', 'node_25_pressure', 'node_20_pressure', 'node_27_pressure', 'node_2_pressure', 'link_4_flow', 'node_21_pressure', 'node_2_demand', 'link_3_flow', 'node_15_demand', 'link_24_flow', 'link_27_flow', 'node_13_demand', 'node_29_demand', 'node_14_demand', 'node_30_demand', 'node_13_pressure', 'link_13_flow', 'link_15_flow', 'link_31_flow', 'link_32_flow', 'node_11_pressure', 'node_29_pressure', 'node_5_pressure', 'link_29_flow', 'node_18_demand', 'node_23_demand', 'link_1_flow', 'node_31_demand', 'node_10_demand', 'link_26_flow', 'link_19_flow', 'node_19_pressure', 'node_28_demand', 'node_9_pressure', 'node_11_demand', 'node_26_demand', 'node_23_pressure', 'node_8_demand', 'node_22_pressure', 'node_17_pressure', 'link_28_flow', 'link_10_flow', 'node_10_pressure', 'node_25_demand', 'node_31_pressure', 'node_12_demand', 'link_16_flow', 'link_23_flow', 'node_6_pressure', 'link_25_flow', 'node_4_pressure', 'node_24_demand']]\n",
      "starting df shape: (87600, 31)\n",
      "This is training run 1 and has the shape:  (87600, 31)\n",
      "The value of dropped columns is 65\n"
     ]
    },
    {
     "name": "stderr",
     "output_type": "stream",
     "text": [
      "/Users/alexellard/opt/anaconda3/lib/python3.7/site-packages/xgboost/data.py:96: UserWarning: Use subset (sliced data) of np.ndarray is not recommended because it will generate extra copies and increase memory consumption\n",
      "  \"because it will generate extra copies and increase \" +\n"
     ]
    },
    {
     "name": "stdout",
     "output_type": "stream",
     "text": [
      "test y shape : (17520, 1)\n",
      "Inv y shape : (17520, 31)\n"
     ]
    },
    {
     "name": "stderr",
     "output_type": "stream",
     "text": [
      "/Users/alexellard/opt/anaconda3/lib/python3.7/site-packages/xgboost/data.py:96: UserWarning: Use subset (sliced data) of np.ndarray is not recommended because it will generate extra copies and increase memory consumption\n",
      "  \"because it will generate extra copies and increase \" +\n"
     ]
    },
    {
     "name": "stdout",
     "output_type": "stream",
     "text": [
      "test y shape : (17520, 1)\n",
      "Inv y shape : (17520, 31)\n",
      "y pred shape : (17520, 1)\n",
      "inv y pred : (17520, 31)\n",
      "Run 1 Mean Absolute Error: 13.148679341581046\n",
      "RMSE: 19.002\n",
      "R^2: 1.000\n",
      "[['node_31_demand', 'link_10_flow', 'node_21_pressure', 'link_13_flow', 'link_26_flow', 'node_31_pressure', 'link_5_flow', 'node_23_pressure', 'link_32_flow', 'link_6_flow', 'node_8_demand', 'node_5_demand', 'reservoir_pressure', 'node_3_pressure', 'link_1_flow', 'node_24_demand', 'link_11_flow', 'link_12_flow', 'node_17_demand', 'reservoir_demand', 'node_21_demand', 'node_8_pressure', 'node_17_pressure', 'node_10_demand', 'node_28_demand', 'link_2_flow', 'node_18_pressure', 'node_20_demand', 'link_3_flow', 'node_19_pressure', 'link_15_flow', 'node_6_demand', 'link_28_flow', 'node_1_pressure', 'node_27_pressure', 'node_9_pressure', 'node_29_demand', 'link_22_flow', 'link_25_flow', 'node_4_demand', 'node_20_pressure', 'node_3_demand', 'node_30_demand', 'link_29_flow', 'node_2_demand', 'node_12_pressure', 'node_10_pressure', 'node_11_pressure', 'link_8_flow', 'node_28_pressure', 'node_11_demand', 'link_14_flow', 'node_13_pressure', 'node_22_pressure', 'link_21_flow', 'node_22_demand', 'node_15_pressure', 'node_16_demand', 'link_7_flow', 'node_7_demand', 'node_27_demand', 'node_30_pressure', 'link_23_flow', 'node_15_demand']]\n",
      "starting df shape: (87600, 32)\n",
      "This is training run 2 and has the shape:  (87600, 32)\n",
      "The value of dropped columns is 65\n"
     ]
    },
    {
     "name": "stderr",
     "output_type": "stream",
     "text": [
      "/Users/alexellard/opt/anaconda3/lib/python3.7/site-packages/xgboost/data.py:96: UserWarning: Use subset (sliced data) of np.ndarray is not recommended because it will generate extra copies and increase memory consumption\n",
      "  \"because it will generate extra copies and increase \" +\n"
     ]
    },
    {
     "name": "stdout",
     "output_type": "stream",
     "text": [
      "test y shape : (17520, 1)\n",
      "Inv y shape : (17520, 32)\n"
     ]
    },
    {
     "name": "stderr",
     "output_type": "stream",
     "text": [
      "/Users/alexellard/opt/anaconda3/lib/python3.7/site-packages/xgboost/data.py:96: UserWarning: Use subset (sliced data) of np.ndarray is not recommended because it will generate extra copies and increase memory consumption\n",
      "  \"because it will generate extra copies and increase \" +\n"
     ]
    },
    {
     "name": "stdout",
     "output_type": "stream",
     "text": [
      "test y shape : (17520, 1)\n",
      "Inv y shape : (17520, 32)\n",
      "y pred shape : (17520, 1)\n",
      "inv y pred : (17520, 32)\n",
      "Run 2 Mean Absolute Error: 0.7045136306780198\n",
      "RMSE: 0.977\n",
      "R^2: 1.000\n",
      "[['node_7_demand', 'link_2_flow', 'link_17_flow', 'link_13_flow', 'node_8_demand', 'node_3_demand', 'link_14_flow', 'node_10_demand', 'link_18_flow', 'node_30_pressure', 'node_1_pressure', 'node_24_demand', 'link_27_flow', 'link_29_flow', 'node_12_demand', 'node_4_demand', 'link_4_flow', 'node_11_demand', 'node_15_demand', 'link_5_flow', 'node_17_pressure', 'node_15_pressure', 'link_28_flow', 'node_1_demand', 'link_32_flow', 'link_26_flow', 'link_30_flow', 'node_2_demand', 'link_6_flow', 'link_23_flow', 'node_24_pressure', 'link_15_flow', 'node_22_demand', 'link_21_flow', 'node_25_demand', 'node_22_pressure', 'node_4_pressure', 'link_16_flow', 'node_20_demand', 'link_8_flow', 'node_6_pressure', 'node_19_demand', 'node_31_pressure', 'link_7_flow', 'link_12_flow', 'node_3_pressure', 'node_18_demand', 'node_19_pressure', 'link_9_flow', 'node_13_demand', 'node_11_pressure', 'node_5_demand', 'node_5_pressure', 'node_31_demand', 'node_18_pressure', 'reservoir_pressure', 'link_20_flow', 'node_13_pressure', 'link_22_flow', 'link_10_flow', 'node_30_demand', 'node_8_pressure', 'node_28_pressure', 'node_21_demand', 'node_12_pressure']]\n",
      "starting df shape: (87600, 31)\n",
      "This is training run 3 and has the shape:  (87600, 31)\n",
      "The value of dropped columns is 65\n"
     ]
    },
    {
     "name": "stderr",
     "output_type": "stream",
     "text": [
      "/Users/alexellard/opt/anaconda3/lib/python3.7/site-packages/xgboost/data.py:96: UserWarning: Use subset (sliced data) of np.ndarray is not recommended because it will generate extra copies and increase memory consumption\n",
      "  \"because it will generate extra copies and increase \" +\n"
     ]
    },
    {
     "name": "stdout",
     "output_type": "stream",
     "text": [
      "test y shape : (17520, 1)\n",
      "Inv y shape : (17520, 31)\n"
     ]
    },
    {
     "name": "stderr",
     "output_type": "stream",
     "text": [
      "/Users/alexellard/opt/anaconda3/lib/python3.7/site-packages/xgboost/data.py:96: UserWarning: Use subset (sliced data) of np.ndarray is not recommended because it will generate extra copies and increase memory consumption\n",
      "  \"because it will generate extra copies and increase \" +\n"
     ]
    },
    {
     "name": "stdout",
     "output_type": "stream",
     "text": [
      "test y shape : (17520, 1)\n",
      "Inv y shape : (17520, 31)\n",
      "y pred shape : (17520, 1)\n",
      "inv y pred : (17520, 31)\n",
      "Run 3 Mean Absolute Error: 9.182152237399256\n",
      "RMSE: 12.923\n",
      "R^2: 1.000\n",
      "[['node_18_demand', 'node_7_pressure', 'node_25_demand', 'node_22_pressure', 'link_28_flow', 'link_9_flow', 'node_27_pressure', 'link_2_flow', 'link_12_flow', 'node_10_demand', 'link_11_flow', 'node_8_pressure', 'link_8_flow', 'node_27_demand', 'node_2_pressure', 'node_9_pressure', 'node_31_demand', 'node_24_demand', 'link_15_flow', 'node_20_demand', 'node_29_demand', 'node_31_pressure', 'reservoir_pressure', 'node_2_demand', 'node_10_pressure', 'link_14_flow', 'node_13_demand', 'link_13_flow', 'node_11_demand', 'node_5_demand', 'node_14_demand', 'link_10_flow', 'node_3_pressure', 'node_19_pressure', 'link_32_flow', 'node_8_demand', 'node_30_pressure', 'node_6_demand', 'node_17_demand', 'node_20_pressure', 'node_4_pressure', 'node_25_pressure', 'node_26_demand', 'link_7_flow', 'node_1_demand', 'node_13_pressure', 'node_28_pressure', 'node_15_demand', 'link_25_flow', 'node_12_demand', 'link_24_flow', 'reservoir_demand', 'link_6_flow', 'node_9_demand', 'link_5_flow', 'link_3_flow', 'node_6_pressure', 'link_18_flow', 'link_31_flow', 'link_4_flow', 'node_30_demand', 'node_19_demand', 'link_21_flow', 'link_19_flow']]\n",
      "starting df shape: (87600, 32)\n",
      "This is training run 4 and has the shape:  (87600, 32)\n",
      "The value of dropped columns is 65\n"
     ]
    },
    {
     "name": "stderr",
     "output_type": "stream",
     "text": [
      "/Users/alexellard/opt/anaconda3/lib/python3.7/site-packages/xgboost/data.py:96: UserWarning: Use subset (sliced data) of np.ndarray is not recommended because it will generate extra copies and increase memory consumption\n",
      "  \"because it will generate extra copies and increase \" +\n"
     ]
    },
    {
     "name": "stdout",
     "output_type": "stream",
     "text": [
      "test y shape : (17520, 1)\n",
      "Inv y shape : (17520, 32)\n"
     ]
    },
    {
     "name": "stderr",
     "output_type": "stream",
     "text": [
      "/Users/alexellard/opt/anaconda3/lib/python3.7/site-packages/xgboost/data.py:96: UserWarning: Use subset (sliced data) of np.ndarray is not recommended because it will generate extra copies and increase memory consumption\n",
      "  \"because it will generate extra copies and increase \" +\n"
     ]
    },
    {
     "name": "stdout",
     "output_type": "stream",
     "text": [
      "test y shape : (17520, 1)\n",
      "Inv y shape : (17520, 32)\n",
      "y pred shape : (17520, 1)\n",
      "inv y pred : (17520, 32)\n",
      "Run 4 Mean Absolute Error: 0.08213257985994722\n",
      "RMSE: 0.119\n",
      "R^2: 1.000\n",
      "[['node_1_demand', 'node_5_pressure', 'node_30_pressure', 'link_9_flow', 'node_4_pressure', 'node_20_demand', 'node_19_demand', 'node_23_pressure', 'node_31_demand', 'node_2_demand', 'node_9_pressure', 'node_12_pressure', 'link_8_flow', 'link_32_flow', 'node_20_pressure', 'node_26_pressure', 'node_8_pressure', 'node_3_demand', 'link_10_flow', 'node_28_demand', 'reservoir_demand', 'node_7_demand', 'node_7_pressure', 'node_4_demand', 'node_21_demand', 'node_14_demand', 'link_23_flow', 'link_11_flow', 'link_28_flow', 'node_25_demand', 'node_18_pressure', 'link_5_flow', 'node_25_pressure', 'node_13_pressure', 'node_6_pressure', 'link_16_flow', 'link_21_flow', 'node_22_demand', 'node_11_pressure', 'reservoir_pressure', 'link_25_flow', 'node_9_demand', 'link_27_flow', 'node_13_demand', 'link_22_flow', 'link_7_flow', 'node_1_pressure', 'link_19_flow', 'node_16_demand', 'link_1_flow', 'node_23_demand', 'node_27_pressure', 'node_8_demand', 'link_14_flow', 'link_24_flow', 'node_17_demand', 'link_3_flow', 'node_24_demand', 'link_15_flow', 'link_17_flow', 'node_29_pressure', 'node_26_demand', 'node_14_pressure', 'link_2_flow', 'node_21_pressure']]\n",
      "starting df shape: (87600, 31)\n",
      "This is training run 5 and has the shape:  (87600, 31)\n",
      "The value of dropped columns is 65\n"
     ]
    },
    {
     "name": "stderr",
     "output_type": "stream",
     "text": [
      "/Users/alexellard/opt/anaconda3/lib/python3.7/site-packages/xgboost/data.py:96: UserWarning: Use subset (sliced data) of np.ndarray is not recommended because it will generate extra copies and increase memory consumption\n",
      "  \"because it will generate extra copies and increase \" +\n"
     ]
    },
    {
     "name": "stdout",
     "output_type": "stream",
     "text": [
      "test y shape : (17520, 1)\n",
      "Inv y shape : (17520, 31)\n"
     ]
    },
    {
     "name": "stderr",
     "output_type": "stream",
     "text": [
      "/Users/alexellard/opt/anaconda3/lib/python3.7/site-packages/xgboost/data.py:96: UserWarning: Use subset (sliced data) of np.ndarray is not recommended because it will generate extra copies and increase memory consumption\n",
      "  \"because it will generate extra copies and increase \" +\n"
     ]
    },
    {
     "name": "stdout",
     "output_type": "stream",
     "text": [
      "test y shape : (17520, 1)\n",
      "Inv y shape : (17520, 31)\n",
      "y pred shape : (17520, 1)\n",
      "inv y pred : (17520, 31)\n",
      "Run 5 Mean Absolute Error: 0.6909961571322393\n",
      "RMSE: 0.995\n",
      "R^2: 1.000\n",
      "[['node_9_pressure', 'node_4_demand', 'node_15_demand', 'link_8_flow', 'node_7_pressure', 'node_22_demand', 'node_31_demand', 'link_25_flow', 'reservoir_pressure', 'link_5_flow', 'link_7_flow', 'node_28_demand', 'node_8_demand', 'node_12_pressure', 'node_25_pressure', 'node_30_demand', 'node_24_pressure', 'link_21_flow', 'link_32_flow', 'node_26_pressure', 'link_2_flow', 'node_17_pressure', 'node_3_pressure', 'node_6_pressure', 'node_10_pressure', 'node_1_pressure', 'link_10_flow', 'node_5_demand', 'link_1_flow', 'node_1_demand', 'link_30_flow', 'node_16_demand', 'node_21_pressure', 'node_18_pressure', 'node_11_demand', 'node_4_pressure', 'link_31_flow', 'node_13_demand', 'node_2_demand', 'link_23_flow', 'node_25_demand', 'link_17_flow', 'link_9_flow', 'link_13_flow', 'link_3_flow', 'node_15_pressure', 'link_22_flow', 'link_19_flow', 'link_16_flow', 'node_11_pressure', 'node_5_pressure', 'link_6_flow', 'node_27_demand', 'link_24_flow', 'node_19_demand', 'node_20_pressure', 'node_14_pressure', 'node_23_pressure', 'node_13_pressure', 'node_3_demand', 'reservoir_demand', 'node_24_demand', 'node_14_demand', 'node_10_demand', 'node_30_pressure']]\n",
      "starting df shape: (87600, 31)\n",
      "This is training run 6 and has the shape:  (87600, 31)\n",
      "The value of dropped columns is 65\n"
     ]
    },
    {
     "name": "stderr",
     "output_type": "stream",
     "text": [
      "/Users/alexellard/opt/anaconda3/lib/python3.7/site-packages/xgboost/data.py:96: UserWarning: Use subset (sliced data) of np.ndarray is not recommended because it will generate extra copies and increase memory consumption\n",
      "  \"because it will generate extra copies and increase \" +\n"
     ]
    },
    {
     "name": "stdout",
     "output_type": "stream",
     "text": [
      "test y shape : (17520, 1)\n",
      "Inv y shape : (17520, 31)\n"
     ]
    },
    {
     "name": "stderr",
     "output_type": "stream",
     "text": [
      "/Users/alexellard/opt/anaconda3/lib/python3.7/site-packages/xgboost/data.py:96: UserWarning: Use subset (sliced data) of np.ndarray is not recommended because it will generate extra copies and increase memory consumption\n",
      "  \"because it will generate extra copies and increase \" +\n"
     ]
    },
    {
     "name": "stdout",
     "output_type": "stream",
     "text": [
      "test y shape : (17520, 1)\n",
      "Inv y shape : (17520, 31)\n",
      "y pred shape : (17520, 1)\n",
      "inv y pred : (17520, 31)\n",
      "Run 6 Mean Absolute Error: 1.0258814039796598\n",
      "RMSE: 1.400\n",
      "R^2: 1.000\n",
      "[['node_1_demand', 'node_23_pressure', 'node_28_pressure', 'node_20_pressure', 'node_9_demand', 'node_12_pressure', 'link_8_flow', 'link_1_flow', 'node_29_demand', 'link_12_flow', 'node_11_pressure', 'link_16_flow', 'link_7_flow', 'node_17_demand', 'node_31_pressure', 'node_14_pressure', 'node_2_demand', 'reservoir_pressure', 'node_4_demand', 'link_6_flow', 'link_27_flow', 'node_13_demand', 'node_31_demand', 'node_6_pressure', 'node_21_pressure', 'link_5_flow', 'node_7_demand', 'node_20_demand', 'node_22_pressure', 'link_3_flow', 'link_23_flow', 'link_14_flow', 'link_10_flow', 'node_11_demand', 'reservoir_demand', 'link_21_flow', 'node_12_demand', 'node_26_demand', 'node_5_demand', 'node_27_demand', 'node_26_pressure', 'link_9_flow', 'node_21_demand', 'link_18_flow', 'node_14_demand', 'node_16_demand', 'node_1_pressure', 'link_11_flow', 'node_5_pressure', 'node_27_pressure', 'link_30_flow', 'node_10_pressure', 'link_13_flow', 'node_30_pressure', 'node_30_demand', 'link_15_flow', 'node_18_pressure', 'link_31_flow', 'link_26_flow', 'node_24_pressure', 'link_22_flow', 'node_17_pressure', 'node_2_pressure', 'node_13_pressure']]\n",
      "starting df shape: (87600, 32)\n",
      "This is training run 7 and has the shape:  (87600, 32)\n",
      "The value of dropped columns is 65\n"
     ]
    },
    {
     "name": "stderr",
     "output_type": "stream",
     "text": [
      "/Users/alexellard/opt/anaconda3/lib/python3.7/site-packages/xgboost/data.py:96: UserWarning: Use subset (sliced data) of np.ndarray is not recommended because it will generate extra copies and increase memory consumption\n",
      "  \"because it will generate extra copies and increase \" +\n"
     ]
    },
    {
     "name": "stdout",
     "output_type": "stream",
     "text": [
      "test y shape : (17520, 1)\n",
      "Inv y shape : (17520, 32)\n"
     ]
    },
    {
     "name": "stderr",
     "output_type": "stream",
     "text": [
      "/Users/alexellard/opt/anaconda3/lib/python3.7/site-packages/xgboost/data.py:96: UserWarning: Use subset (sliced data) of np.ndarray is not recommended because it will generate extra copies and increase memory consumption\n",
      "  \"because it will generate extra copies and increase \" +\n"
     ]
    },
    {
     "name": "stdout",
     "output_type": "stream",
     "text": [
      "test y shape : (17520, 1)\n",
      "Inv y shape : (17520, 32)\n",
      "y pred shape : (17520, 1)\n",
      "inv y pred : (17520, 32)\n",
      "Run 7 Mean Absolute Error: 0.1193388113788645\n",
      "RMSE: 0.173\n",
      "R^2: 1.000\n",
      "[['link_22_flow', 'node_1_pressure', 'node_10_demand', 'node_6_pressure', 'node_24_pressure', 'node_30_pressure', 'link_6_flow', 'node_15_pressure', 'link_5_flow', 'link_3_flow', 'link_26_flow', 'node_9_pressure', 'node_28_pressure', 'node_18_pressure', 'node_19_pressure', 'node_27_demand', 'node_20_pressure', 'node_5_demand', 'link_14_flow', 'node_26_pressure', 'link_16_flow', 'link_8_flow', 'link_15_flow', 'link_2_flow', 'link_20_flow', 'link_13_flow', 'node_11_pressure', 'link_10_flow', 'node_18_demand', 'link_21_flow', 'node_12_pressure', 'node_1_demand', 'node_3_demand', 'link_9_flow', 'node_11_demand', 'node_3_pressure', 'node_16_demand', 'node_13_pressure', 'node_7_demand', 'node_14_pressure', 'link_27_flow', 'node_25_pressure', 'node_6_demand', 'node_4_pressure', 'node_5_pressure', 'node_2_pressure', 'node_2_demand', 'link_12_flow', 'link_11_flow', 'link_31_flow', 'link_30_flow', 'node_31_demand', 'reservoir_pressure', 'node_12_demand', 'link_25_flow', 'node_25_demand', 'node_24_demand', 'link_18_flow', 'node_9_demand', 'node_30_demand', 'node_10_pressure', 'node_8_pressure', 'node_17_demand', 'node_20_demand']]\n",
      "starting df shape: (87600, 32)\n",
      "This is training run 8 and has the shape:  (87600, 32)\n",
      "The value of dropped columns is 65\n"
     ]
    },
    {
     "name": "stderr",
     "output_type": "stream",
     "text": [
      "/Users/alexellard/opt/anaconda3/lib/python3.7/site-packages/xgboost/data.py:96: UserWarning: Use subset (sliced data) of np.ndarray is not recommended because it will generate extra copies and increase memory consumption\n",
      "  \"because it will generate extra copies and increase \" +\n"
     ]
    },
    {
     "name": "stdout",
     "output_type": "stream",
     "text": [
      "test y shape : (17520, 1)\n",
      "Inv y shape : (17520, 32)\n"
     ]
    },
    {
     "name": "stderr",
     "output_type": "stream",
     "text": [
      "/Users/alexellard/opt/anaconda3/lib/python3.7/site-packages/xgboost/data.py:96: UserWarning: Use subset (sliced data) of np.ndarray is not recommended because it will generate extra copies and increase memory consumption\n",
      "  \"because it will generate extra copies and increase \" +\n"
     ]
    },
    {
     "name": "stdout",
     "output_type": "stream",
     "text": [
      "test y shape : (17520, 1)\n",
      "Inv y shape : (17520, 32)\n",
      "y pred shape : (17520, 1)\n",
      "inv y pred : (17520, 32)\n",
      "Run 8 Mean Absolute Error: 14.746173311720463\n",
      "RMSE: 21.926\n",
      "R^2: 1.000\n",
      "[['node_22_demand', 'link_3_flow', 'link_20_flow', 'node_23_pressure', 'node_6_pressure', 'link_15_flow', 'node_4_demand', 'link_13_flow', 'node_11_pressure', 'node_28_pressure', 'link_8_flow', 'node_24_pressure', 'node_22_pressure', 'node_13_demand', 'node_18_pressure', 'link_12_flow', 'node_13_pressure', 'link_4_flow', 'link_31_flow', 'node_26_pressure', 'node_29_demand', 'node_23_demand', 'link_24_flow', 'link_1_flow', 'reservoir_pressure', 'link_23_flow', 'node_2_demand', 'link_27_flow', 'link_25_flow', 'link_19_flow', 'link_16_flow', 'node_12_demand', 'link_26_flow', 'node_27_demand', 'node_3_demand', 'link_22_flow', 'node_18_demand', 'reservoir_demand', 'node_20_pressure', 'node_14_pressure', 'node_15_pressure', 'link_17_flow', 'node_11_demand', 'node_17_pressure', 'node_19_demand', 'node_1_pressure', 'node_1_demand', 'link_21_flow', 'node_19_pressure', 'node_24_demand', 'node_21_pressure', 'node_29_pressure', 'node_14_demand', 'link_6_flow', 'node_30_pressure', 'link_5_flow', 'node_4_pressure', 'link_7_flow', 'node_20_demand', 'node_28_demand', 'node_25_demand', 'node_6_demand', 'node_3_pressure', 'link_14_flow']]\n",
      "starting df shape: (87600, 32)\n",
      "This is training run 9 and has the shape:  (87600, 32)\n",
      "The value of dropped columns is 65\n"
     ]
    },
    {
     "name": "stderr",
     "output_type": "stream",
     "text": [
      "/Users/alexellard/opt/anaconda3/lib/python3.7/site-packages/xgboost/data.py:96: UserWarning: Use subset (sliced data) of np.ndarray is not recommended because it will generate extra copies and increase memory consumption\n",
      "  \"because it will generate extra copies and increase \" +\n"
     ]
    },
    {
     "name": "stdout",
     "output_type": "stream",
     "text": [
      "test y shape : (17520, 1)\n",
      "Inv y shape : (17520, 32)\n"
     ]
    },
    {
     "name": "stderr",
     "output_type": "stream",
     "text": [
      "/Users/alexellard/opt/anaconda3/lib/python3.7/site-packages/xgboost/data.py:96: UserWarning: Use subset (sliced data) of np.ndarray is not recommended because it will generate extra copies and increase memory consumption\n",
      "  \"because it will generate extra copies and increase \" +\n"
     ]
    },
    {
     "name": "stdout",
     "output_type": "stream",
     "text": [
      "test y shape : (17520, 1)\n",
      "Inv y shape : (17520, 32)\n",
      "y pred shape : (17520, 1)\n",
      "inv y pred : (17520, 32)\n",
      "Run 9 Mean Absolute Error: 0.6206303233519723\n",
      "RMSE: 0.858\n",
      "R^2: 1.000\n",
      "[['node_30_pressure', 'node_4_demand', 'link_12_flow', 'node_31_pressure', 'node_9_demand', 'link_3_flow', 'node_12_demand', 'node_29_pressure', 'node_15_demand', 'node_25_pressure', 'link_7_flow', 'node_21_demand', 'link_20_flow', 'node_14_demand', 'node_3_demand', 'node_22_pressure', 'link_14_flow', 'node_10_pressure', 'node_2_demand', 'link_24_flow', 'node_11_pressure', 'link_30_flow', 'node_25_demand', 'node_24_pressure', 'node_19_pressure', 'link_31_flow', 'node_28_demand', 'node_20_pressure', 'link_28_flow', 'link_9_flow', 'link_19_flow', 'node_15_pressure', 'node_9_pressure', 'node_16_demand', 'node_14_pressure', 'node_21_pressure', 'node_5_pressure', 'link_8_flow', 'link_29_flow', 'node_10_demand', 'link_15_flow', 'node_27_pressure', 'link_1_flow', 'reservoir_pressure', 'link_10_flow', 'link_26_flow', 'link_6_flow', 'node_23_pressure', 'node_24_demand', 'node_19_demand', 'link_32_flow', 'link_2_flow', 'node_6_pressure', 'node_1_pressure', 'node_8_demand', 'node_4_pressure', 'node_18_pressure', 'node_5_demand', 'node_2_pressure', 'node_11_demand', 'node_20_demand', 'node_7_demand', 'node_27_demand', 'node_12_pressure', 'node_18_demand']]\n",
      "starting df shape: (87600, 31)\n",
      "This is training run 10 and has the shape:  (87600, 31)\n",
      "The value of dropped columns is 65\n"
     ]
    },
    {
     "name": "stderr",
     "output_type": "stream",
     "text": [
      "/Users/alexellard/opt/anaconda3/lib/python3.7/site-packages/xgboost/data.py:96: UserWarning: Use subset (sliced data) of np.ndarray is not recommended because it will generate extra copies and increase memory consumption\n",
      "  \"because it will generate extra copies and increase \" +\n"
     ]
    },
    {
     "name": "stdout",
     "output_type": "stream",
     "text": [
      "test y shape : (17520, 1)\n",
      "Inv y shape : (17520, 31)\n"
     ]
    },
    {
     "name": "stderr",
     "output_type": "stream",
     "text": [
      "/Users/alexellard/opt/anaconda3/lib/python3.7/site-packages/xgboost/data.py:96: UserWarning: Use subset (sliced data) of np.ndarray is not recommended because it will generate extra copies and increase memory consumption\n",
      "  \"because it will generate extra copies and increase \" +\n"
     ]
    },
    {
     "name": "stdout",
     "output_type": "stream",
     "text": [
      "test y shape : (17520, 1)\n",
      "Inv y shape : (17520, 31)\n",
      "y pred shape : (17520, 1)\n",
      "inv y pred : (17520, 31)\n",
      "Run 10 Mean Absolute Error: 10.315799939182993\n",
      "RMSE: 14.694\n",
      "R^2: 1.000\n",
      "[['node_27_demand', 'link_3_flow', 'node_9_demand', 'node_6_demand', 'link_15_flow', 'node_31_demand', 'node_4_pressure', 'link_26_flow', 'node_2_demand', 'node_12_demand', 'node_17_demand', 'link_30_flow', 'link_9_flow', 'link_8_flow', 'node_5_demand', 'node_20_demand', 'node_15_demand', 'link_17_flow', 'link_16_flow', 'node_31_pressure', 'node_18_pressure', 'reservoir_pressure', 'node_13_pressure', 'link_6_flow', 'node_21_demand', 'link_27_flow', 'node_10_pressure', 'node_12_pressure', 'node_21_pressure', 'node_9_pressure', 'node_16_demand', 'node_4_demand', 'node_7_demand', 'node_10_demand', 'link_4_flow', 'node_1_demand', 'link_18_flow', 'link_29_flow', 'node_29_pressure', 'node_3_demand', 'node_19_pressure', 'node_29_demand', 'node_27_pressure', 'node_22_demand', 'link_25_flow', 'link_19_flow', 'link_12_flow', 'node_26_pressure', 'node_1_pressure', 'link_31_flow', 'node_30_demand', 'node_7_pressure', 'link_11_flow', 'node_6_pressure', 'node_11_pressure', 'node_22_pressure', 'node_18_demand', 'link_7_flow', 'link_5_flow', 'node_19_demand', 'link_28_flow', 'node_2_pressure', 'link_21_flow', 'node_11_demand', 'node_3_pressure', 'link_1_flow', 'node_15_pressure', 'node_23_pressure', 'node_8_demand', 'link_20_flow']]\n",
      "starting df shape: (87600, 26)\n",
      "This is training run 1 and has the shape:  (87600, 26)\n",
      "The value of dropped columns is 70\n"
     ]
    },
    {
     "name": "stderr",
     "output_type": "stream",
     "text": [
      "/Users/alexellard/opt/anaconda3/lib/python3.7/site-packages/xgboost/data.py:96: UserWarning: Use subset (sliced data) of np.ndarray is not recommended because it will generate extra copies and increase memory consumption\n",
      "  \"because it will generate extra copies and increase \" +\n"
     ]
    },
    {
     "name": "stdout",
     "output_type": "stream",
     "text": [
      "test y shape : (17520, 1)\n",
      "Inv y shape : (17520, 26)\n"
     ]
    },
    {
     "name": "stderr",
     "output_type": "stream",
     "text": [
      "/Users/alexellard/opt/anaconda3/lib/python3.7/site-packages/xgboost/data.py:96: UserWarning: Use subset (sliced data) of np.ndarray is not recommended because it will generate extra copies and increase memory consumption\n",
      "  \"because it will generate extra copies and increase \" +\n"
     ]
    },
    {
     "name": "stdout",
     "output_type": "stream",
     "text": [
      "test y shape : (17520, 1)\n",
      "Inv y shape : (17520, 26)\n",
      "y pred shape : (17520, 1)\n",
      "inv y pred : (17520, 26)\n",
      "Run 1 Mean Absolute Error: 13.967069060394369\n",
      "RMSE: 20.478\n",
      "R^2: 1.000\n",
      "[['node_12_pressure', 'node_24_pressure', 'node_23_pressure', 'node_26_demand', 'reservoir_pressure', 'link_14_flow', 'node_28_pressure', 'link_2_flow', 'link_23_flow', 'node_19_pressure', 'node_23_demand', 'link_13_flow', 'link_31_flow', 'node_28_demand', 'node_29_pressure', 'node_7_demand', 'node_4_demand', 'link_5_flow', 'node_7_pressure', 'link_26_flow', 'node_17_demand', 'link_1_flow', 'link_15_flow', 'node_30_pressure', 'link_28_flow', 'node_20_pressure', 'node_8_demand', 'link_22_flow', 'node_18_demand', 'link_27_flow', 'link_11_flow', 'link_29_flow', 'node_29_demand', 'node_27_demand', 'node_2_demand', 'link_20_flow', 'link_4_flow', 'node_27_pressure', 'node_31_demand', 'node_25_pressure', 'reservoir_demand', 'node_5_pressure', 'node_15_pressure', 'link_21_flow', 'node_19_demand', 'node_5_demand', 'link_6_flow', 'node_3_demand', 'link_12_flow', 'node_24_demand', 'node_2_pressure', 'node_9_pressure', 'node_11_pressure', 'node_21_demand', 'node_17_pressure', 'node_20_demand', 'node_22_pressure', 'node_31_pressure', 'node_13_demand', 'link_25_flow', 'link_8_flow', 'node_1_pressure', 'node_12_demand', 'node_8_pressure', 'node_11_demand', 'node_15_demand', 'node_14_pressure', 'node_26_pressure', 'link_30_flow']]\n",
      "starting df shape: (87600, 27)\n",
      "This is training run 2 and has the shape:  (87600, 27)\n",
      "The value of dropped columns is 70\n"
     ]
    },
    {
     "name": "stderr",
     "output_type": "stream",
     "text": [
      "/Users/alexellard/opt/anaconda3/lib/python3.7/site-packages/xgboost/data.py:96: UserWarning: Use subset (sliced data) of np.ndarray is not recommended because it will generate extra copies and increase memory consumption\n",
      "  \"because it will generate extra copies and increase \" +\n"
     ]
    },
    {
     "name": "stdout",
     "output_type": "stream",
     "text": [
      "test y shape : (17520, 1)\n",
      "Inv y shape : (17520, 27)\n"
     ]
    },
    {
     "name": "stderr",
     "output_type": "stream",
     "text": [
      "/Users/alexellard/opt/anaconda3/lib/python3.7/site-packages/xgboost/data.py:96: UserWarning: Use subset (sliced data) of np.ndarray is not recommended because it will generate extra copies and increase memory consumption\n",
      "  \"because it will generate extra copies and increase \" +\n"
     ]
    },
    {
     "name": "stdout",
     "output_type": "stream",
     "text": [
      "test y shape : (17520, 1)\n",
      "Inv y shape : (17520, 27)\n",
      "y pred shape : (17520, 1)\n",
      "inv y pred : (17520, 27)\n",
      "Run 2 Mean Absolute Error: 0.6787360476216474\n",
      "RMSE: 0.943\n",
      "R^2: 1.000\n",
      "[['node_13_pressure', 'node_10_demand', 'node_29_demand', 'node_8_pressure', 'node_21_pressure', 'node_17_demand', 'link_13_flow', 'link_27_flow', 'node_31_demand', 'link_7_flow', 'node_29_pressure', 'node_2_demand', 'node_2_pressure', 'link_25_flow', 'node_13_demand', 'link_6_flow', 'link_4_flow', 'node_25_pressure', 'node_7_demand', 'link_22_flow', 'node_7_pressure', 'node_19_demand', 'node_9_pressure', 'link_10_flow', 'node_28_demand', 'node_12_demand', 'node_22_demand', 'link_1_flow', 'node_5_pressure', 'node_16_demand', 'link_8_flow', 'node_4_demand', 'link_24_flow', 'node_15_pressure', 'link_15_flow', 'node_4_pressure', 'node_6_pressure', 'link_20_flow', 'node_1_pressure', 'node_30_pressure', 'link_19_flow', 'node_23_pressure', 'node_20_pressure', 'link_32_flow', 'link_5_flow', 'link_9_flow', 'link_29_flow', 'node_10_pressure', 'node_9_demand', 'link_11_flow', 'node_22_pressure', 'link_31_flow', 'node_8_demand', 'node_21_demand', 'node_14_demand', 'node_11_demand', 'node_24_pressure', 'node_15_demand', 'node_23_demand', 'link_17_flow', 'node_28_pressure', 'node_19_pressure', 'node_3_pressure', 'node_27_demand', 'link_16_flow', 'reservoir_pressure', 'link_12_flow', 'node_31_pressure', 'node_18_demand']]\n",
      "starting df shape: (87600, 27)\n",
      "This is training run 3 and has the shape:  (87600, 27)\n",
      "The value of dropped columns is 70\n"
     ]
    },
    {
     "name": "stderr",
     "output_type": "stream",
     "text": [
      "/Users/alexellard/opt/anaconda3/lib/python3.7/site-packages/xgboost/data.py:96: UserWarning: Use subset (sliced data) of np.ndarray is not recommended because it will generate extra copies and increase memory consumption\n",
      "  \"because it will generate extra copies and increase \" +\n"
     ]
    },
    {
     "name": "stdout",
     "output_type": "stream",
     "text": [
      "test y shape : (17520, 1)\n",
      "Inv y shape : (17520, 27)\n"
     ]
    },
    {
     "name": "stderr",
     "output_type": "stream",
     "text": [
      "/Users/alexellard/opt/anaconda3/lib/python3.7/site-packages/xgboost/data.py:96: UserWarning: Use subset (sliced data) of np.ndarray is not recommended because it will generate extra copies and increase memory consumption\n",
      "  \"because it will generate extra copies and increase \" +\n"
     ]
    },
    {
     "name": "stdout",
     "output_type": "stream",
     "text": [
      "test y shape : (17520, 1)\n",
      "Inv y shape : (17520, 27)\n",
      "y pred shape : (17520, 1)\n",
      "inv y pred : (17520, 27)\n",
      "Run 3 Mean Absolute Error: 13.63200191755883\n",
      "RMSE: 19.409\n",
      "R^2: 1.000\n",
      "[['reservoir_demand', 'link_3_flow', 'link_6_flow', 'link_5_flow', 'node_12_demand', 'node_27_pressure', 'node_26_demand', 'link_30_flow', 'node_23_pressure', 'link_9_flow', 'node_15_pressure', 'node_11_demand', 'node_10_pressure', 'node_8_demand', 'link_15_flow', 'node_14_pressure', 'node_5_demand', 'node_30_pressure', 'node_20_pressure', 'node_30_demand', 'link_21_flow', 'node_1_demand', 'node_7_demand', 'node_14_demand', 'node_16_demand', 'node_4_pressure', 'link_20_flow', 'node_2_demand', 'node_2_pressure', 'reservoir_pressure', 'link_4_flow', 'node_22_pressure', 'link_14_flow', 'node_6_pressure', 'node_10_demand', 'link_31_flow', 'link_19_flow', 'node_21_demand', 'link_7_flow', 'node_19_demand', 'node_25_demand', 'link_12_flow', 'node_31_demand', 'node_29_pressure', 'node_1_pressure', 'node_4_demand', 'link_28_flow', 'node_24_demand', 'link_29_flow', 'node_5_pressure', 'node_24_pressure', 'link_13_flow', 'node_28_pressure', 'link_17_flow', 'node_17_pressure', 'link_26_flow', 'link_22_flow', 'node_3_demand', 'node_9_pressure', 'link_11_flow', 'link_24_flow', 'node_3_pressure', 'link_23_flow', 'node_17_demand', 'link_27_flow', 'node_26_pressure', 'node_31_pressure', 'node_22_demand', 'link_25_flow']]\n",
      "starting df shape: (87600, 27)\n",
      "This is training run 4 and has the shape:  (87600, 27)\n",
      "The value of dropped columns is 70\n"
     ]
    },
    {
     "name": "stderr",
     "output_type": "stream",
     "text": [
      "/Users/alexellard/opt/anaconda3/lib/python3.7/site-packages/xgboost/data.py:96: UserWarning: Use subset (sliced data) of np.ndarray is not recommended because it will generate extra copies and increase memory consumption\n",
      "  \"because it will generate extra copies and increase \" +\n"
     ]
    },
    {
     "name": "stdout",
     "output_type": "stream",
     "text": [
      "test y shape : (17520, 1)\n",
      "Inv y shape : (17520, 27)\n"
     ]
    },
    {
     "name": "stderr",
     "output_type": "stream",
     "text": [
      "/Users/alexellard/opt/anaconda3/lib/python3.7/site-packages/xgboost/data.py:96: UserWarning: Use subset (sliced data) of np.ndarray is not recommended because it will generate extra copies and increase memory consumption\n",
      "  \"because it will generate extra copies and increase \" +\n"
     ]
    },
    {
     "name": "stdout",
     "output_type": "stream",
     "text": [
      "test y shape : (17520, 1)\n",
      "Inv y shape : (17520, 27)\n",
      "y pred shape : (17520, 1)\n",
      "inv y pred : (17520, 27)\n",
      "Run 4 Mean Absolute Error: 1.2103396970273952\n",
      "RMSE: 1.683\n",
      "R^2: 1.000\n",
      "[['node_19_demand', 'link_13_flow', 'node_14_demand', 'link_27_flow', 'link_18_flow', 'node_1_pressure', 'node_21_demand', 'link_12_flow', 'link_15_flow', 'link_17_flow', 'link_23_flow', 'node_27_pressure', 'link_25_flow', 'node_23_demand', 'node_15_demand', 'node_24_pressure', 'node_8_pressure', 'link_19_flow', 'node_25_demand', 'reservoir_pressure', 'node_19_pressure', 'node_9_demand', 'node_17_pressure', 'link_28_flow', 'node_9_pressure', 'node_2_demand', 'node_28_pressure', 'node_6_pressure', 'node_29_pressure', 'link_11_flow', 'node_18_demand', 'link_16_flow', 'node_4_demand', 'link_24_flow', 'node_13_pressure', 'reservoir_demand', 'link_1_flow', 'node_5_demand', 'node_16_demand', 'node_2_pressure', 'node_18_pressure', 'link_14_flow', 'link_2_flow', 'node_15_pressure', 'node_8_demand', 'link_21_flow', 'link_20_flow', 'node_3_demand', 'node_10_demand', 'node_1_demand', 'link_5_flow', 'node_23_pressure', 'node_4_pressure', 'node_13_demand', 'node_20_pressure', 'node_31_demand', 'node_30_pressure', 'link_26_flow', 'node_22_pressure', 'node_22_demand', 'link_29_flow', 'node_17_demand', 'link_7_flow', 'node_11_pressure', 'node_30_demand', 'node_31_pressure', 'link_10_flow', 'node_11_demand', 'node_12_demand', 'node_5_pressure']]\n",
      "starting df shape: (87600, 26)\n",
      "This is training run 5 and has the shape:  (87600, 26)\n",
      "The value of dropped columns is 70\n"
     ]
    },
    {
     "name": "stderr",
     "output_type": "stream",
     "text": [
      "/Users/alexellard/opt/anaconda3/lib/python3.7/site-packages/xgboost/data.py:96: UserWarning: Use subset (sliced data) of np.ndarray is not recommended because it will generate extra copies and increase memory consumption\n",
      "  \"because it will generate extra copies and increase \" +\n"
     ]
    },
    {
     "name": "stdout",
     "output_type": "stream",
     "text": [
      "test y shape : (17520, 1)\n",
      "Inv y shape : (17520, 26)\n"
     ]
    },
    {
     "name": "stderr",
     "output_type": "stream",
     "text": [
      "/Users/alexellard/opt/anaconda3/lib/python3.7/site-packages/xgboost/data.py:96: UserWarning: Use subset (sliced data) of np.ndarray is not recommended because it will generate extra copies and increase memory consumption\n",
      "  \"because it will generate extra copies and increase \" +\n"
     ]
    },
    {
     "name": "stdout",
     "output_type": "stream",
     "text": [
      "test y shape : (17520, 1)\n",
      "Inv y shape : (17520, 26)\n",
      "y pred shape : (17520, 1)\n",
      "inv y pred : (17520, 26)\n",
      "Run 5 Mean Absolute Error: 1.6869293361828628\n",
      "RMSE: 2.437\n",
      "R^2: 0.999\n",
      "[['node_21_demand', 'node_22_pressure', 'node_26_pressure', 'link_4_flow', 'node_12_pressure', 'link_29_flow', 'node_30_pressure', 'link_8_flow', 'link_5_flow', 'reservoir_demand', 'node_2_demand', 'node_4_pressure', 'link_13_flow', 'node_24_pressure', 'node_7_pressure', 'node_7_demand', 'link_9_flow', 'link_2_flow', 'link_23_flow', 'node_12_demand', 'link_3_flow', 'node_29_demand', 'node_9_pressure', 'node_6_demand', 'node_13_pressure', 'node_3_demand', 'node_26_demand', 'node_16_demand', 'node_6_pressure', 'node_5_demand', 'node_28_demand', 'node_27_demand', 'link_21_flow', 'node_17_demand', 'node_24_demand', 'node_28_pressure', 'node_15_pressure', 'node_5_pressure', 'node_19_pressure', 'node_19_demand', 'node_31_pressure', 'node_23_pressure', 'link_15_flow', 'link_20_flow', 'link_32_flow', 'link_12_flow', 'node_14_demand', 'node_15_demand', 'node_8_demand', 'link_18_flow', 'link_6_flow', 'node_25_pressure', 'link_26_flow', 'node_20_demand', 'node_10_pressure', 'node_10_demand', 'node_23_demand', 'link_27_flow', 'link_14_flow', 'link_30_flow', 'node_1_pressure', 'link_22_flow', 'node_13_demand', 'node_21_pressure', 'node_20_pressure', 'node_14_pressure', 'node_25_demand', 'node_8_pressure', 'link_17_flow', 'node_31_demand']]\n",
      "starting df shape: (87600, 26)\n",
      "This is training run 6 and has the shape:  (87600, 26)\n",
      "The value of dropped columns is 70\n"
     ]
    },
    {
     "name": "stderr",
     "output_type": "stream",
     "text": [
      "/Users/alexellard/opt/anaconda3/lib/python3.7/site-packages/xgboost/data.py:96: UserWarning: Use subset (sliced data) of np.ndarray is not recommended because it will generate extra copies and increase memory consumption\n",
      "  \"because it will generate extra copies and increase \" +\n"
     ]
    },
    {
     "name": "stdout",
     "output_type": "stream",
     "text": [
      "test y shape : (17520, 1)\n",
      "Inv y shape : (17520, 26)\n"
     ]
    },
    {
     "name": "stderr",
     "output_type": "stream",
     "text": [
      "/Users/alexellard/opt/anaconda3/lib/python3.7/site-packages/xgboost/data.py:96: UserWarning: Use subset (sliced data) of np.ndarray is not recommended because it will generate extra copies and increase memory consumption\n",
      "  \"because it will generate extra copies and increase \" +\n"
     ]
    },
    {
     "name": "stdout",
     "output_type": "stream",
     "text": [
      "test y shape : (17520, 1)\n",
      "Inv y shape : (17520, 26)\n",
      "y pred shape : (17520, 1)\n",
      "inv y pred : (17520, 26)\n",
      "Run 6 Mean Absolute Error: 0.7698823695105744\n",
      "RMSE: 1.092\n",
      "R^2: 1.000\n",
      "[['node_15_pressure', 'node_25_pressure', 'node_1_pressure', 'link_2_flow', 'link_4_flow', 'node_24_pressure', 'node_27_demand', 'link_9_flow', 'node_11_pressure', 'link_5_flow', 'link_26_flow', 'node_17_pressure', 'node_29_demand', 'node_2_demand', 'link_15_flow', 'node_30_demand', 'node_12_demand', 'link_14_flow', 'reservoir_pressure', 'node_19_demand', 'link_3_flow', 'node_12_pressure', 'node_21_pressure', 'link_32_flow', 'node_4_demand', 'node_10_pressure', 'node_18_demand', 'node_18_pressure', 'node_14_demand', 'node_27_pressure', 'node_26_pressure', 'link_8_flow', 'link_28_flow', 'node_6_pressure', 'link_22_flow', 'node_23_demand', 'node_19_pressure', 'node_6_demand', 'node_9_demand', 'link_18_flow', 'node_13_demand', 'link_20_flow', 'link_16_flow', 'link_19_flow', 'link_17_flow', 'link_6_flow', 'link_25_flow', 'node_17_demand', 'node_2_pressure', 'link_10_flow', 'node_7_pressure', 'node_15_demand', 'node_13_pressure', 'node_22_demand', 'node_11_demand', 'node_8_pressure', 'link_21_flow', 'node_3_pressure', 'node_16_demand', 'node_14_pressure', 'link_24_flow', 'node_28_demand', 'link_12_flow', 'node_24_demand', 'node_8_demand', 'node_30_pressure', 'node_31_demand', 'node_1_demand', 'node_9_pressure']]\n",
      "starting df shape: (87600, 27)\n",
      "This is training run 7 and has the shape:  (87600, 27)\n",
      "The value of dropped columns is 70\n"
     ]
    },
    {
     "name": "stderr",
     "output_type": "stream",
     "text": [
      "/Users/alexellard/opt/anaconda3/lib/python3.7/site-packages/xgboost/data.py:96: UserWarning: Use subset (sliced data) of np.ndarray is not recommended because it will generate extra copies and increase memory consumption\n",
      "  \"because it will generate extra copies and increase \" +\n"
     ]
    },
    {
     "name": "stdout",
     "output_type": "stream",
     "text": [
      "test y shape : (17520, 1)\n",
      "Inv y shape : (17520, 27)\n"
     ]
    },
    {
     "name": "stderr",
     "output_type": "stream",
     "text": [
      "/Users/alexellard/opt/anaconda3/lib/python3.7/site-packages/xgboost/data.py:96: UserWarning: Use subset (sliced data) of np.ndarray is not recommended because it will generate extra copies and increase memory consumption\n",
      "  \"because it will generate extra copies and increase \" +\n"
     ]
    },
    {
     "name": "stdout",
     "output_type": "stream",
     "text": [
      "test y shape : (17520, 1)\n",
      "Inv y shape : (17520, 27)\n",
      "y pred shape : (17520, 1)\n",
      "inv y pred : (17520, 27)\n",
      "Run 7 Mean Absolute Error: 19.749856039395343\n",
      "RMSE: 28.152\n",
      "R^2: 0.999\n",
      "[['link_25_flow', 'reservoir_demand', 'node_28_pressure', 'link_2_flow', 'node_25_demand', 'node_29_demand', 'node_7_demand', 'node_1_demand', 'node_11_demand', 'node_14_pressure', 'node_26_demand', 'link_21_flow', 'link_28_flow', 'node_30_demand', 'link_3_flow', 'node_10_pressure', 'link_20_flow', 'link_11_flow', 'node_19_pressure', 'link_17_flow', 'node_19_demand', 'link_4_flow', 'link_12_flow', 'link_30_flow', 'node_27_demand', 'node_8_demand', 'node_1_pressure', 'node_12_demand', 'node_18_demand', 'reservoir_pressure', 'node_3_demand', 'link_27_flow', 'node_24_demand', 'link_24_flow', 'link_9_flow', 'link_29_flow', 'link_23_flow', 'node_2_pressure', 'link_14_flow', 'link_7_flow', 'node_22_pressure', 'node_24_pressure', 'link_5_flow', 'node_8_pressure', 'node_5_pressure', 'link_22_flow', 'node_25_pressure', 'node_31_demand', 'link_16_flow', 'node_12_pressure', 'link_18_flow', 'link_26_flow', 'node_27_pressure', 'node_20_demand', 'node_13_demand', 'node_18_pressure', 'link_13_flow', 'node_9_demand', 'node_30_pressure', 'node_28_demand', 'node_9_pressure', 'link_6_flow', 'link_32_flow', 'node_21_pressure', 'node_23_pressure', 'link_1_flow', 'node_11_pressure', 'node_15_demand', 'node_29_pressure']]\n",
      "starting df shape: (87600, 27)\n",
      "This is training run 8 and has the shape:  (87600, 27)\n",
      "The value of dropped columns is 70\n"
     ]
    },
    {
     "name": "stderr",
     "output_type": "stream",
     "text": [
      "/Users/alexellard/opt/anaconda3/lib/python3.7/site-packages/xgboost/data.py:96: UserWarning: Use subset (sliced data) of np.ndarray is not recommended because it will generate extra copies and increase memory consumption\n",
      "  \"because it will generate extra copies and increase \" +\n"
     ]
    },
    {
     "name": "stdout",
     "output_type": "stream",
     "text": [
      "test y shape : (17520, 1)\n",
      "Inv y shape : (17520, 27)\n"
     ]
    },
    {
     "name": "stderr",
     "output_type": "stream",
     "text": [
      "/Users/alexellard/opt/anaconda3/lib/python3.7/site-packages/xgboost/data.py:96: UserWarning: Use subset (sliced data) of np.ndarray is not recommended because it will generate extra copies and increase memory consumption\n",
      "  \"because it will generate extra copies and increase \" +\n"
     ]
    },
    {
     "name": "stdout",
     "output_type": "stream",
     "text": [
      "test y shape : (17520, 1)\n",
      "Inv y shape : (17520, 27)\n",
      "y pred shape : (17520, 1)\n",
      "inv y pred : (17520, 27)\n",
      "Run 8 Mean Absolute Error: 0.40215554870465453\n",
      "RMSE: 0.582\n",
      "R^2: 1.000\n",
      "[['node_19_pressure', 'node_26_demand', 'node_8_pressure', 'node_25_pressure', 'node_27_demand', 'link_22_flow', 'node_30_demand', 'node_25_demand', 'node_7_pressure', 'node_21_demand', 'node_24_demand', 'node_9_pressure', 'node_22_pressure', 'link_11_flow', 'node_31_pressure', 'link_23_flow', 'node_20_demand', 'link_5_flow', 'link_12_flow', 'link_3_flow', 'link_2_flow', 'node_6_pressure', 'node_12_demand', 'node_2_demand', 'link_31_flow', 'node_17_pressure', 'link_21_flow', 'link_27_flow', 'node_13_demand', 'node_3_pressure', 'node_18_pressure', 'node_27_pressure', 'link_4_flow', 'reservoir_demand', 'link_26_flow', 'link_10_flow', 'link_24_flow', 'node_5_pressure', 'node_24_pressure', 'node_14_pressure', 'node_13_pressure', 'link_7_flow', 'node_4_pressure', 'node_1_pressure', 'node_8_demand', 'node_23_demand', 'node_19_demand', 'node_6_demand', 'node_11_demand', 'link_20_flow', 'node_15_demand', 'node_12_pressure', 'link_8_flow', 'node_10_demand', 'node_29_demand', 'node_20_pressure', 'link_25_flow', 'node_18_demand', 'link_16_flow', 'node_14_demand', 'link_1_flow', 'node_7_demand', 'node_17_demand', 'link_17_flow', 'node_16_demand', 'link_28_flow', 'node_22_demand', 'link_29_flow', 'link_13_flow']]\n",
      "starting df shape: (87600, 27)\n",
      "This is training run 9 and has the shape:  (87600, 27)\n",
      "The value of dropped columns is 70\n"
     ]
    },
    {
     "name": "stderr",
     "output_type": "stream",
     "text": [
      "/Users/alexellard/opt/anaconda3/lib/python3.7/site-packages/xgboost/data.py:96: UserWarning: Use subset (sliced data) of np.ndarray is not recommended because it will generate extra copies and increase memory consumption\n",
      "  \"because it will generate extra copies and increase \" +\n"
     ]
    },
    {
     "name": "stdout",
     "output_type": "stream",
     "text": [
      "test y shape : (17520, 1)\n",
      "Inv y shape : (17520, 27)\n"
     ]
    },
    {
     "name": "stderr",
     "output_type": "stream",
     "text": [
      "/Users/alexellard/opt/anaconda3/lib/python3.7/site-packages/xgboost/data.py:96: UserWarning: Use subset (sliced data) of np.ndarray is not recommended because it will generate extra copies and increase memory consumption\n",
      "  \"because it will generate extra copies and increase \" +\n"
     ]
    },
    {
     "name": "stdout",
     "output_type": "stream",
     "text": [
      "test y shape : (17520, 1)\n",
      "Inv y shape : (17520, 27)\n",
      "y pred shape : (17520, 1)\n",
      "inv y pred : (17520, 27)\n",
      "Run 9 Mean Absolute Error: 0.6082639723580466\n",
      "RMSE: 0.854\n",
      "R^2: 1.000\n",
      "[['node_21_pressure', 'link_2_flow', 'link_28_flow', 'node_21_demand', 'node_8_demand', 'node_30_pressure', 'node_19_demand', 'node_23_pressure', 'link_25_flow', 'link_8_flow', 'node_4_demand', 'link_16_flow', 'link_5_flow', 'node_23_demand', 'node_6_pressure', 'node_2_pressure', 'node_7_demand', 'link_20_flow', 'link_31_flow', 'node_25_pressure', 'link_9_flow', 'node_26_demand', 'node_5_demand', 'node_10_demand', 'node_25_demand', 'node_1_demand', 'link_22_flow', 'link_14_flow', 'link_10_flow', 'node_17_pressure', 'node_3_demand', 'link_7_flow', 'node_13_pressure', 'node_27_pressure', 'link_29_flow', 'link_27_flow', 'node_5_pressure', 'node_10_pressure', 'node_11_demand', 'link_23_flow', 'node_28_demand', 'link_24_flow', 'node_22_demand', 'node_29_demand', 'node_6_demand', 'node_18_demand', 'node_14_demand', 'link_26_flow', 'link_18_flow', 'node_31_demand', 'node_14_pressure', 'node_2_demand', 'link_17_flow', 'node_7_pressure', 'node_15_pressure', 'node_15_demand', 'link_19_flow', 'node_26_pressure', 'node_1_pressure', 'node_17_demand', 'reservoir_demand', 'node_9_pressure', 'node_11_pressure', 'reservoir_pressure', 'link_6_flow', 'node_3_pressure', 'node_12_demand', 'node_22_pressure', 'node_16_demand']]\n",
      "starting df shape: (87600, 27)\n",
      "This is training run 10 and has the shape:  (87600, 27)\n",
      "The value of dropped columns is 70\n"
     ]
    },
    {
     "name": "stderr",
     "output_type": "stream",
     "text": [
      "/Users/alexellard/opt/anaconda3/lib/python3.7/site-packages/xgboost/data.py:96: UserWarning: Use subset (sliced data) of np.ndarray is not recommended because it will generate extra copies and increase memory consumption\n",
      "  \"because it will generate extra copies and increase \" +\n"
     ]
    },
    {
     "name": "stdout",
     "output_type": "stream",
     "text": [
      "test y shape : (17520, 1)\n",
      "Inv y shape : (17520, 27)\n"
     ]
    },
    {
     "name": "stderr",
     "output_type": "stream",
     "text": [
      "/Users/alexellard/opt/anaconda3/lib/python3.7/site-packages/xgboost/data.py:96: UserWarning: Use subset (sliced data) of np.ndarray is not recommended because it will generate extra copies and increase memory consumption\n",
      "  \"because it will generate extra copies and increase \" +\n"
     ]
    },
    {
     "name": "stdout",
     "output_type": "stream",
     "text": [
      "test y shape : (17520, 1)\n",
      "Inv y shape : (17520, 27)\n",
      "y pred shape : (17520, 1)\n",
      "inv y pred : (17520, 27)\n",
      "Run 10 Mean Absolute Error: 0.43088105229916546\n",
      "RMSE: 0.587\n",
      "R^2: 1.000\n",
      "[['link_9_flow', 'node_15_pressure', 'node_26_pressure', 'node_8_pressure', 'link_23_flow', 'link_31_flow', 'node_14_demand', 'link_10_flow', 'link_25_flow', 'link_24_flow', 'node_17_pressure', 'link_22_flow', 'node_12_pressure', 'link_1_flow', 'node_22_demand', 'link_2_flow', 'node_17_demand', 'node_4_pressure', 'node_4_demand', 'node_6_pressure', 'reservoir_demand', 'link_12_flow', 'node_27_pressure', 'link_13_flow', 'node_29_pressure', 'node_21_demand', 'link_16_flow', 'node_11_demand', 'node_31_pressure', 'node_19_pressure', 'node_27_demand', 'link_28_flow', 'node_28_pressure', 'node_9_demand', 'reservoir_pressure', 'link_14_flow', 'node_20_pressure', 'node_14_pressure', 'node_22_pressure', 'node_18_demand', 'link_19_flow', 'link_7_flow', 'node_31_demand', 'node_15_demand', 'node_30_demand', 'link_4_flow', 'node_7_pressure', 'link_29_flow', 'node_3_pressure', 'node_30_pressure', 'node_26_demand', 'node_5_demand', 'node_5_pressure', 'node_24_pressure', 'node_9_pressure', 'link_15_flow', 'link_8_flow', 'node_13_demand', 'link_17_flow', 'node_28_demand', 'node_21_pressure', 'node_10_pressure', 'link_6_flow', 'node_11_pressure', 'link_27_flow', 'node_7_demand', 'node_25_demand', 'node_29_demand', 'node_20_demand', 'link_20_flow', 'node_19_demand', 'node_23_demand', 'link_30_flow', 'node_8_demand', 'node_3_demand']]\n",
      "starting df shape: (87600, 21)\n",
      "This is training run 1 and has the shape:  (87600, 21)\n",
      "The value of dropped columns is 75\n"
     ]
    },
    {
     "name": "stderr",
     "output_type": "stream",
     "text": [
      "/Users/alexellard/opt/anaconda3/lib/python3.7/site-packages/xgboost/data.py:96: UserWarning: Use subset (sliced data) of np.ndarray is not recommended because it will generate extra copies and increase memory consumption\n",
      "  \"because it will generate extra copies and increase \" +\n"
     ]
    },
    {
     "name": "stdout",
     "output_type": "stream",
     "text": [
      "test y shape : (17520, 1)\n",
      "Inv y shape : (17520, 21)\n"
     ]
    },
    {
     "name": "stderr",
     "output_type": "stream",
     "text": [
      "/Users/alexellard/opt/anaconda3/lib/python3.7/site-packages/xgboost/data.py:96: UserWarning: Use subset (sliced data) of np.ndarray is not recommended because it will generate extra copies and increase memory consumption\n",
      "  \"because it will generate extra copies and increase \" +\n"
     ]
    },
    {
     "name": "stdout",
     "output_type": "stream",
     "text": [
      "test y shape : (17520, 1)\n",
      "Inv y shape : (17520, 21)\n",
      "y pred shape : (17520, 1)\n",
      "inv y pred : (17520, 21)\n",
      "Run 1 Mean Absolute Error: 0.5888777900885231\n",
      "RMSE: 0.815\n",
      "R^2: 1.000\n",
      "[['node_3_pressure', 'link_20_flow', 'node_6_demand', 'node_18_pressure', 'node_30_pressure', 'node_10_pressure', 'link_30_flow', 'link_21_flow', 'node_21_pressure', 'node_1_demand', 'node_12_demand', 'link_11_flow', 'node_23_demand', 'link_6_flow', 'node_31_demand', 'link_17_flow', 'node_5_demand', 'node_22_demand', 'node_24_pressure', 'node_8_pressure', 'node_17_demand', 'link_3_flow', 'node_27_demand', 'node_20_pressure', 'link_25_flow', 'node_6_pressure', 'node_21_demand', 'link_31_flow', 'node_1_pressure', 'link_8_flow', 'link_5_flow', 'node_23_pressure', 'node_3_demand', 'node_22_pressure', 'node_14_demand', 'link_27_flow', 'link_2_flow', 'node_11_demand', 'node_4_demand', 'link_13_flow', 'link_23_flow', 'node_7_pressure', 'node_27_pressure', 'link_16_flow', 'reservoir_pressure', 'link_19_flow', 'node_11_pressure', 'link_10_flow', 'node_30_demand', 'node_29_pressure', 'node_9_demand', 'link_32_flow', 'node_8_demand', 'link_15_flow', 'link_28_flow', 'link_29_flow', 'node_28_pressure', 'node_29_demand', 'node_15_pressure', 'node_2_pressure', 'node_28_demand', 'node_19_pressure', 'node_20_demand', 'node_14_pressure', 'node_15_demand', 'node_24_demand', 'node_19_demand', 'link_14_flow', 'node_18_demand', 'node_31_pressure', 'node_17_pressure', 'link_22_flow', 'node_12_pressure', 'node_10_demand', 'node_26_demand']]\n",
      "starting df shape: (87600, 21)\n",
      "This is training run 2 and has the shape:  (87600, 21)\n",
      "The value of dropped columns is 75\n"
     ]
    },
    {
     "name": "stderr",
     "output_type": "stream",
     "text": [
      "/Users/alexellard/opt/anaconda3/lib/python3.7/site-packages/xgboost/data.py:96: UserWarning: Use subset (sliced data) of np.ndarray is not recommended because it will generate extra copies and increase memory consumption\n",
      "  \"because it will generate extra copies and increase \" +\n"
     ]
    },
    {
     "name": "stdout",
     "output_type": "stream",
     "text": [
      "test y shape : (17520, 1)\n",
      "Inv y shape : (17520, 21)\n"
     ]
    },
    {
     "name": "stderr",
     "output_type": "stream",
     "text": [
      "/Users/alexellard/opt/anaconda3/lib/python3.7/site-packages/xgboost/data.py:96: UserWarning: Use subset (sliced data) of np.ndarray is not recommended because it will generate extra copies and increase memory consumption\n",
      "  \"because it will generate extra copies and increase \" +\n"
     ]
    },
    {
     "name": "stdout",
     "output_type": "stream",
     "text": [
      "test y shape : (17520, 1)\n",
      "Inv y shape : (17520, 21)\n",
      "y pred shape : (17520, 1)\n",
      "inv y pred : (17520, 21)\n",
      "Run 2 Mean Absolute Error: 9.718775481953422\n",
      "RMSE: 13.446\n",
      "R^2: 1.000\n",
      "[['node_19_pressure', 'link_27_flow', 'link_30_flow', 'link_12_flow', 'node_16_demand', 'link_8_flow', 'node_2_demand', 'reservoir_pressure', 'link_29_flow', 'node_23_pressure', 'node_28_demand', 'node_18_demand', 'link_7_flow', 'link_2_flow', 'node_21_pressure', 'node_5_pressure', 'reservoir_demand', 'link_3_flow', 'link_19_flow', 'node_12_demand', 'node_24_demand', 'node_27_pressure', 'node_26_demand', 'node_31_pressure', 'node_10_pressure', 'node_13_pressure', 'node_12_pressure', 'node_13_demand', 'link_32_flow', 'link_9_flow', 'node_7_pressure', 'node_9_pressure', 'node_6_pressure', 'link_20_flow', 'node_20_pressure', 'node_18_pressure', 'node_14_pressure', 'node_3_pressure', 'node_31_demand', 'link_16_flow', 'node_14_demand', 'link_4_flow', 'node_30_demand', 'node_27_demand', 'node_4_demand', 'link_22_flow', 'node_29_pressure', 'node_22_demand', 'node_5_demand', 'node_9_demand', 'node_30_pressure', 'link_17_flow', 'link_14_flow', 'node_17_pressure', 'node_1_demand', 'link_15_flow', 'node_29_demand', 'link_28_flow', 'node_4_pressure', 'link_6_flow', 'node_26_pressure', 'node_25_pressure', 'node_8_demand', 'link_5_flow', 'node_7_demand', 'link_18_flow', 'node_28_pressure', 'link_10_flow', 'link_23_flow', 'link_21_flow', 'link_1_flow', 'node_24_pressure', 'node_15_pressure', 'link_31_flow', 'node_6_demand']]\n",
      "starting df shape: (87600, 21)\n",
      "This is training run 3 and has the shape:  (87600, 21)\n",
      "The value of dropped columns is 75\n"
     ]
    },
    {
     "name": "stderr",
     "output_type": "stream",
     "text": [
      "/Users/alexellard/opt/anaconda3/lib/python3.7/site-packages/xgboost/data.py:96: UserWarning: Use subset (sliced data) of np.ndarray is not recommended because it will generate extra copies and increase memory consumption\n",
      "  \"because it will generate extra copies and increase \" +\n"
     ]
    },
    {
     "name": "stdout",
     "output_type": "stream",
     "text": [
      "test y shape : (17520, 1)\n",
      "Inv y shape : (17520, 21)\n"
     ]
    },
    {
     "name": "stderr",
     "output_type": "stream",
     "text": [
      "/Users/alexellard/opt/anaconda3/lib/python3.7/site-packages/xgboost/data.py:96: UserWarning: Use subset (sliced data) of np.ndarray is not recommended because it will generate extra copies and increase memory consumption\n",
      "  \"because it will generate extra copies and increase \" +\n"
     ]
    },
    {
     "name": "stdout",
     "output_type": "stream",
     "text": [
      "test y shape : (17520, 1)\n",
      "Inv y shape : (17520, 21)\n",
      "y pred shape : (17520, 1)\n",
      "inv y pred : (17520, 21)\n",
      "Run 3 Mean Absolute Error: 0.1416370863635213\n",
      "RMSE: 0.200\n",
      "R^2: 1.000\n",
      "[['link_25_flow', 'link_1_flow', 'link_22_flow', 'node_1_pressure', 'node_20_demand', 'node_13_pressure', 'node_30_pressure', 'node_22_pressure', 'node_14_pressure', 'link_28_flow', 'node_1_demand', 'node_11_pressure', 'node_14_demand', 'link_9_flow', 'node_28_pressure', 'node_19_demand', 'node_26_demand', 'node_3_demand', 'link_18_flow', 'node_8_demand', 'link_13_flow', 'node_31_pressure', 'node_29_demand', 'node_9_demand', 'link_6_flow', 'node_2_demand', 'node_23_pressure', 'link_23_flow', 'reservoir_pressure', 'node_18_demand', 'link_32_flow', 'node_5_demand', 'node_4_pressure', 'link_3_flow', 'link_10_flow', 'link_27_flow', 'link_24_flow', 'node_28_demand', 'node_15_pressure', 'node_25_demand', 'node_7_demand', 'link_21_flow', 'node_17_demand', 'node_27_demand', 'node_12_pressure', 'node_18_pressure', 'node_8_pressure', 'node_3_pressure', 'node_25_pressure', 'link_15_flow', 'node_21_pressure', 'link_20_flow', 'link_11_flow', 'node_29_pressure', 'link_8_flow', 'node_16_demand', 'node_2_pressure', 'node_5_pressure', 'node_13_demand', 'node_30_demand', 'link_2_flow', 'link_17_flow', 'link_4_flow', 'link_31_flow', 'link_29_flow', 'node_19_pressure', 'node_6_demand', 'node_24_demand', 'link_12_flow', 'link_16_flow', 'node_24_pressure', 'link_19_flow', 'link_5_flow', 'link_26_flow']]\n",
      "starting df shape: (87600, 22)\n",
      "This is training run 4 and has the shape:  (87600, 22)\n",
      "The value of dropped columns is 75\n"
     ]
    },
    {
     "name": "stderr",
     "output_type": "stream",
     "text": [
      "/Users/alexellard/opt/anaconda3/lib/python3.7/site-packages/xgboost/data.py:96: UserWarning: Use subset (sliced data) of np.ndarray is not recommended because it will generate extra copies and increase memory consumption\n",
      "  \"because it will generate extra copies and increase \" +\n"
     ]
    },
    {
     "name": "stdout",
     "output_type": "stream",
     "text": [
      "test y shape : (17520, 1)\n",
      "Inv y shape : (17520, 22)\n"
     ]
    },
    {
     "name": "stderr",
     "output_type": "stream",
     "text": [
      "/Users/alexellard/opt/anaconda3/lib/python3.7/site-packages/xgboost/data.py:96: UserWarning: Use subset (sliced data) of np.ndarray is not recommended because it will generate extra copies and increase memory consumption\n",
      "  \"because it will generate extra copies and increase \" +\n"
     ]
    },
    {
     "name": "stdout",
     "output_type": "stream",
     "text": [
      "test y shape : (17520, 1)\n",
      "Inv y shape : (17520, 22)\n",
      "y pred shape : (17520, 1)\n",
      "inv y pred : (17520, 22)\n",
      "Run 4 Mean Absolute Error: 15.654029202213065\n",
      "RMSE: 23.534\n",
      "R^2: 1.000\n",
      "[['node_26_demand', 'link_6_flow', 'link_12_flow', 'node_25_pressure', 'node_14_pressure', 'link_30_flow', 'node_3_demand', 'node_27_pressure', 'node_30_demand', 'node_19_pressure', 'node_12_pressure', 'node_24_demand', 'node_3_pressure', 'link_13_flow', 'link_32_flow', 'link_16_flow', 'link_10_flow', 'node_23_demand', 'link_5_flow', 'node_15_demand', 'node_24_pressure', 'node_11_pressure', 'link_9_flow', 'node_4_demand', 'link_28_flow', 'link_21_flow', 'link_14_flow', 'node_7_pressure', 'node_22_demand', 'node_21_pressure', 'link_29_flow', 'node_20_demand', 'node_28_demand', 'node_2_pressure', 'node_8_demand', 'node_13_demand', 'link_4_flow', 'node_6_demand', 'node_11_demand', 'link_23_flow', 'node_18_demand', 'node_6_pressure', 'node_20_pressure', 'node_15_pressure', 'node_29_pressure', 'node_22_pressure', 'node_30_pressure', 'reservoir_pressure', 'link_19_flow', 'node_1_demand', 'link_7_flow', 'node_12_demand', 'link_27_flow', 'link_22_flow', 'node_2_demand', 'node_26_pressure', 'node_18_pressure', 'link_1_flow', 'node_16_demand', 'link_2_flow', 'node_17_demand', 'node_8_pressure', 'node_9_pressure', 'node_29_demand', 'link_31_flow', 'node_31_pressure', 'reservoir_demand', 'node_17_pressure', 'link_3_flow', 'node_19_demand', 'node_5_pressure', 'node_21_demand', 'node_25_demand', 'link_24_flow']]\n",
      "starting df shape: (87600, 22)\n",
      "This is training run 5 and has the shape:  (87600, 22)\n",
      "The value of dropped columns is 75\n"
     ]
    },
    {
     "name": "stderr",
     "output_type": "stream",
     "text": [
      "/Users/alexellard/opt/anaconda3/lib/python3.7/site-packages/xgboost/data.py:96: UserWarning: Use subset (sliced data) of np.ndarray is not recommended because it will generate extra copies and increase memory consumption\n",
      "  \"because it will generate extra copies and increase \" +\n"
     ]
    },
    {
     "name": "stdout",
     "output_type": "stream",
     "text": [
      "test y shape : (17520, 1)\n",
      "Inv y shape : (17520, 22)\n"
     ]
    },
    {
     "name": "stderr",
     "output_type": "stream",
     "text": [
      "/Users/alexellard/opt/anaconda3/lib/python3.7/site-packages/xgboost/data.py:96: UserWarning: Use subset (sliced data) of np.ndarray is not recommended because it will generate extra copies and increase memory consumption\n",
      "  \"because it will generate extra copies and increase \" +\n"
     ]
    },
    {
     "name": "stdout",
     "output_type": "stream",
     "text": [
      "test y shape : (17520, 1)\n",
      "Inv y shape : (17520, 22)\n",
      "y pred shape : (17520, 1)\n",
      "inv y pred : (17520, 22)\n",
      "Run 5 Mean Absolute Error: 0.6359444420554693\n",
      "RMSE: 0.886\n",
      "R^2: 1.000\n",
      "[['node_26_pressure', 'node_9_demand', 'link_13_flow', 'node_14_demand', 'link_21_flow', 'node_7_pressure', 'link_14_flow', 'node_11_demand', 'node_30_demand', 'link_15_flow', 'link_29_flow', 'node_13_pressure', 'node_27_demand', 'node_17_demand', 'node_13_demand', 'node_28_demand', 'node_27_pressure', 'node_24_demand', 'node_31_pressure', 'link_12_flow', 'link_23_flow', 'link_1_flow', 'node_23_pressure', 'link_11_flow', 'node_4_demand', 'link_32_flow', 'link_9_flow', 'node_24_pressure', 'node_18_pressure', 'node_16_demand', 'link_31_flow', 'node_29_pressure', 'node_21_demand', 'reservoir_pressure', 'link_25_flow', 'node_22_demand', 'node_10_demand', 'reservoir_demand', 'node_6_demand', 'node_15_pressure', 'node_18_demand', 'link_17_flow', 'link_20_flow', 'node_30_pressure', 'node_25_pressure', 'link_22_flow', 'link_26_flow', 'node_12_pressure', 'node_2_pressure', 'node_12_demand', 'node_11_pressure', 'link_5_flow', 'link_24_flow', 'node_15_demand', 'link_27_flow', 'link_4_flow', 'node_6_pressure', 'link_16_flow', 'node_28_pressure', 'link_19_flow', 'node_14_pressure', 'node_1_pressure', 'node_5_pressure', 'node_5_demand', 'node_21_pressure', 'node_3_pressure', 'node_2_demand', 'link_2_flow', 'node_29_demand', 'node_19_pressure', 'node_9_pressure', 'link_18_flow', 'node_10_pressure', 'link_10_flow']]\n",
      "starting df shape: (87600, 22)\n",
      "This is training run 6 and has the shape:  (87600, 22)\n",
      "The value of dropped columns is 75\n"
     ]
    },
    {
     "name": "stderr",
     "output_type": "stream",
     "text": [
      "/Users/alexellard/opt/anaconda3/lib/python3.7/site-packages/xgboost/data.py:96: UserWarning: Use subset (sliced data) of np.ndarray is not recommended because it will generate extra copies and increase memory consumption\n",
      "  \"because it will generate extra copies and increase \" +\n"
     ]
    },
    {
     "name": "stdout",
     "output_type": "stream",
     "text": [
      "test y shape : (17520, 1)\n",
      "Inv y shape : (17520, 22)\n"
     ]
    },
    {
     "name": "stderr",
     "output_type": "stream",
     "text": [
      "/Users/alexellard/opt/anaconda3/lib/python3.7/site-packages/xgboost/data.py:96: UserWarning: Use subset (sliced data) of np.ndarray is not recommended because it will generate extra copies and increase memory consumption\n",
      "  \"because it will generate extra copies and increase \" +\n"
     ]
    },
    {
     "name": "stdout",
     "output_type": "stream",
     "text": [
      "test y shape : (17520, 1)\n",
      "Inv y shape : (17520, 22)\n",
      "y pred shape : (17520, 1)\n",
      "inv y pred : (17520, 22)\n",
      "Run 6 Mean Absolute Error: 1.0553718797906906\n",
      "RMSE: 1.550\n",
      "R^2: 1.000\n",
      "[['node_11_demand', 'node_4_demand', 'link_24_flow', 'link_10_flow', 'link_3_flow', 'node_28_pressure', 'node_17_demand', 'node_22_pressure', 'node_25_pressure', 'node_8_demand', 'link_31_flow', 'node_9_demand', 'link_28_flow', 'link_5_flow', 'node_2_demand', 'node_7_pressure', 'node_24_demand', 'node_22_demand', 'node_5_pressure', 'node_13_pressure', 'node_12_demand', 'link_21_flow', 'link_6_flow', 'node_15_pressure', 'node_18_pressure', 'node_9_pressure', 'node_1_pressure', 'node_25_demand', 'node_10_demand', 'node_30_pressure', 'node_10_pressure', 'node_5_demand', 'node_6_pressure', 'node_6_demand', 'node_18_demand', 'link_32_flow', 'link_15_flow', 'link_16_flow', 'node_27_pressure', 'node_2_pressure', 'node_30_demand', 'node_3_pressure', 'node_3_demand', 'node_11_pressure', 'node_1_demand', 'node_12_pressure', 'node_21_pressure', 'link_30_flow', 'node_29_pressure', 'node_13_demand', 'node_14_demand', 'node_14_pressure', 'node_21_demand', 'reservoir_demand', 'node_16_demand', 'node_26_pressure', 'node_8_pressure', 'node_20_pressure', 'node_7_demand', 'link_8_flow', 'node_23_demand', 'node_4_pressure', 'link_2_flow', 'link_17_flow', 'link_26_flow', 'link_27_flow', 'link_29_flow', 'link_18_flow', 'node_31_demand', 'node_27_demand', 'link_9_flow', 'node_20_demand', 'node_26_demand', 'link_19_flow']]\n",
      "starting df shape: (87600, 22)\n",
      "This is training run 7 and has the shape:  (87600, 22)\n",
      "The value of dropped columns is 75\n"
     ]
    },
    {
     "name": "stderr",
     "output_type": "stream",
     "text": [
      "/Users/alexellard/opt/anaconda3/lib/python3.7/site-packages/xgboost/data.py:96: UserWarning: Use subset (sliced data) of np.ndarray is not recommended because it will generate extra copies and increase memory consumption\n",
      "  \"because it will generate extra copies and increase \" +\n"
     ]
    },
    {
     "name": "stdout",
     "output_type": "stream",
     "text": [
      "test y shape : (17520, 1)\n",
      "Inv y shape : (17520, 22)\n"
     ]
    },
    {
     "name": "stderr",
     "output_type": "stream",
     "text": [
      "/Users/alexellard/opt/anaconda3/lib/python3.7/site-packages/xgboost/data.py:96: UserWarning: Use subset (sliced data) of np.ndarray is not recommended because it will generate extra copies and increase memory consumption\n",
      "  \"because it will generate extra copies and increase \" +\n"
     ]
    },
    {
     "name": "stdout",
     "output_type": "stream",
     "text": [
      "test y shape : (17520, 1)\n",
      "Inv y shape : (17520, 22)\n",
      "y pred shape : (17520, 1)\n",
      "inv y pred : (17520, 22)\n",
      "Run 7 Mean Absolute Error: 0.2893863426473814\n",
      "RMSE: 0.424\n",
      "R^2: 1.000\n",
      "[['node_12_pressure', 'node_22_demand', 'node_28_demand', 'node_11_pressure', 'node_30_pressure', 'node_14_pressure', 'node_8_pressure', 'link_18_flow', 'node_23_pressure', 'node_13_pressure', 'node_12_demand', 'link_11_flow', 'node_27_pressure', 'node_17_demand', 'link_20_flow', 'node_19_demand', 'node_26_demand', 'node_15_demand', 'reservoir_demand', 'node_10_demand', 'node_18_demand', 'node_5_demand', 'link_29_flow', 'node_28_pressure', 'node_6_demand', 'link_9_flow', 'link_8_flow', 'node_3_pressure', 'link_26_flow', 'node_8_demand', 'node_31_demand', 'node_21_pressure', 'node_7_pressure', 'node_25_demand', 'link_30_flow', 'node_26_pressure', 'link_3_flow', 'link_28_flow', 'node_11_demand', 'link_12_flow', 'link_14_flow', 'node_16_demand', 'link_5_flow', 'link_6_flow', 'node_2_demand', 'node_14_demand', 'node_24_pressure', 'node_4_pressure', 'link_25_flow', 'link_13_flow', 'node_3_demand', 'link_32_flow', 'node_9_pressure', 'link_23_flow', 'link_4_flow', 'link_24_flow', 'node_7_demand', 'node_5_pressure', 'node_31_pressure', 'link_10_flow', 'node_13_demand', 'node_20_pressure', 'node_18_pressure', 'reservoir_pressure', 'node_1_demand', 'node_15_pressure', 'node_10_pressure', 'node_17_pressure', 'node_30_demand', 'node_4_demand', 'link_21_flow', 'node_29_pressure', 'node_25_pressure', 'link_1_flow']]\n",
      "starting df shape: (87600, 22)\n",
      "This is training run 8 and has the shape:  (87600, 22)\n",
      "The value of dropped columns is 75\n"
     ]
    },
    {
     "name": "stderr",
     "output_type": "stream",
     "text": [
      "/Users/alexellard/opt/anaconda3/lib/python3.7/site-packages/xgboost/data.py:96: UserWarning: Use subset (sliced data) of np.ndarray is not recommended because it will generate extra copies and increase memory consumption\n",
      "  \"because it will generate extra copies and increase \" +\n"
     ]
    },
    {
     "name": "stdout",
     "output_type": "stream",
     "text": [
      "test y shape : (17520, 1)\n",
      "Inv y shape : (17520, 22)\n"
     ]
    },
    {
     "name": "stderr",
     "output_type": "stream",
     "text": [
      "/Users/alexellard/opt/anaconda3/lib/python3.7/site-packages/xgboost/data.py:96: UserWarning: Use subset (sliced data) of np.ndarray is not recommended because it will generate extra copies and increase memory consumption\n",
      "  \"because it will generate extra copies and increase \" +\n"
     ]
    },
    {
     "name": "stdout",
     "output_type": "stream",
     "text": [
      "test y shape : (17520, 1)\n",
      "Inv y shape : (17520, 22)\n",
      "y pred shape : (17520, 1)\n",
      "inv y pred : (17520, 22)\n",
      "Run 8 Mean Absolute Error: 0.34279757442989367\n",
      "RMSE: 0.463\n",
      "R^2: 1.000\n",
      "[['node_21_pressure', 'node_4_demand', 'node_25_pressure', 'link_13_flow', 'node_3_demand', 'link_31_flow', 'node_16_demand', 'node_23_pressure', 'node_22_pressure', 'link_26_flow', 'link_3_flow', 'link_2_flow', 'link_5_flow', 'node_9_demand', 'link_16_flow', 'node_11_pressure', 'link_25_flow', 'node_21_demand', 'link_14_flow', 'node_13_pressure', 'link_28_flow', 'node_7_demand', 'link_15_flow', 'node_10_pressure', 'node_30_pressure', 'node_12_pressure', 'node_18_pressure', 'node_5_demand', 'node_30_demand', 'link_32_flow', 'node_1_pressure', 'node_17_pressure', 'node_24_demand', 'node_6_pressure', 'node_4_pressure', 'node_29_pressure', 'node_10_demand', 'link_8_flow', 'node_24_pressure', 'node_28_demand', 'node_18_demand', 'node_19_demand', 'node_7_pressure', 'node_2_pressure', 'reservoir_demand', 'link_4_flow', 'node_15_demand', 'node_23_demand', 'link_18_flow', 'reservoir_pressure', 'node_3_pressure', 'link_9_flow', 'node_31_demand', 'node_20_demand', 'link_21_flow', 'link_1_flow', 'link_12_flow', 'link_11_flow', 'node_13_demand', 'node_20_pressure', 'node_6_demand', 'node_28_pressure', 'node_8_pressure', 'link_24_flow', 'node_26_demand', 'node_26_pressure', 'node_12_demand', 'node_1_demand', 'node_17_demand', 'node_27_pressure', 'node_5_pressure', 'node_19_pressure', 'link_20_flow', 'node_29_demand']]\n",
      "starting df shape: (87600, 22)\n",
      "This is training run 9 and has the shape:  (87600, 22)\n",
      "The value of dropped columns is 75\n"
     ]
    },
    {
     "name": "stderr",
     "output_type": "stream",
     "text": [
      "/Users/alexellard/opt/anaconda3/lib/python3.7/site-packages/xgboost/data.py:96: UserWarning: Use subset (sliced data) of np.ndarray is not recommended because it will generate extra copies and increase memory consumption\n",
      "  \"because it will generate extra copies and increase \" +\n"
     ]
    },
    {
     "name": "stdout",
     "output_type": "stream",
     "text": [
      "test y shape : (17520, 1)\n",
      "Inv y shape : (17520, 22)\n"
     ]
    },
    {
     "name": "stderr",
     "output_type": "stream",
     "text": [
      "/Users/alexellard/opt/anaconda3/lib/python3.7/site-packages/xgboost/data.py:96: UserWarning: Use subset (sliced data) of np.ndarray is not recommended because it will generate extra copies and increase memory consumption\n",
      "  \"because it will generate extra copies and increase \" +\n"
     ]
    },
    {
     "name": "stdout",
     "output_type": "stream",
     "text": [
      "test y shape : (17520, 1)\n",
      "Inv y shape : (17520, 22)\n",
      "y pred shape : (17520, 1)\n",
      "inv y pred : (17520, 22)\n",
      "Run 9 Mean Absolute Error: 0.7364379620258313\n",
      "RMSE: 1.093\n",
      "R^2: 1.000\n",
      "[['node_7_demand', 'link_22_flow', 'node_9_pressure', 'link_18_flow', 'node_10_pressure', 'link_28_flow', 'node_27_demand', 'link_31_flow', 'reservoir_pressure', 'link_11_flow', 'node_10_demand', 'link_21_flow', 'node_3_pressure', 'link_5_flow', 'node_26_demand', 'link_15_flow', 'node_5_demand', 'link_30_flow', 'node_24_pressure', 'link_3_flow', 'link_7_flow', 'link_19_flow', 'node_11_demand', 'link_24_flow', 'node_17_demand', 'link_25_flow', 'link_10_flow', 'node_15_pressure', 'node_24_demand', 'node_23_demand', 'link_14_flow', 'link_26_flow', 'node_30_pressure', 'link_20_flow', 'node_9_demand', 'link_8_flow', 'link_27_flow', 'node_28_demand', 'link_12_flow', 'node_1_pressure', 'node_7_pressure', 'node_22_demand', 'node_21_pressure', 'node_19_demand', 'link_32_flow', 'node_13_pressure', 'node_3_demand', 'node_12_pressure', 'node_6_pressure', 'node_5_pressure', 'node_2_demand', 'node_29_pressure', 'link_6_flow', 'node_26_pressure', 'node_4_pressure', 'node_8_demand', 'node_6_demand', 'node_25_pressure', 'node_20_pressure', 'node_8_pressure', 'link_29_flow', 'link_17_flow', 'node_2_pressure', 'link_13_flow', 'node_18_pressure', 'node_18_demand', 'node_29_demand', 'node_27_pressure', 'node_14_pressure', 'node_31_demand', 'node_1_demand', 'link_16_flow', 'node_15_demand', 'node_17_pressure']]\n",
      "starting df shape: (87600, 22)\n",
      "This is training run 10 and has the shape:  (87600, 22)\n",
      "The value of dropped columns is 75\n"
     ]
    },
    {
     "name": "stderr",
     "output_type": "stream",
     "text": [
      "/Users/alexellard/opt/anaconda3/lib/python3.7/site-packages/xgboost/data.py:96: UserWarning: Use subset (sliced data) of np.ndarray is not recommended because it will generate extra copies and increase memory consumption\n",
      "  \"because it will generate extra copies and increase \" +\n"
     ]
    },
    {
     "name": "stdout",
     "output_type": "stream",
     "text": [
      "test y shape : (17520, 1)\n",
      "Inv y shape : (17520, 22)\n"
     ]
    },
    {
     "name": "stderr",
     "output_type": "stream",
     "text": [
      "/Users/alexellard/opt/anaconda3/lib/python3.7/site-packages/xgboost/data.py:96: UserWarning: Use subset (sliced data) of np.ndarray is not recommended because it will generate extra copies and increase memory consumption\n",
      "  \"because it will generate extra copies and increase \" +\n"
     ]
    },
    {
     "name": "stdout",
     "output_type": "stream",
     "text": [
      "test y shape : (17520, 1)\n",
      "Inv y shape : (17520, 22)\n",
      "y pred shape : (17520, 1)\n",
      "inv y pred : (17520, 22)\n",
      "Run 10 Mean Absolute Error: 14.06860938726531\n",
      "RMSE: 19.780\n",
      "R^2: 1.000\n",
      "[['link_12_flow', 'link_21_flow', 'node_1_demand', 'reservoir_pressure', 'node_7_demand', 'node_13_demand', 'node_10_demand', 'node_7_pressure', 'link_22_flow', 'link_7_flow', 'node_26_pressure', 'link_25_flow', 'node_15_demand', 'node_12_demand', 'node_2_pressure', 'link_19_flow', 'node_18_pressure', 'node_6_demand', 'node_27_demand', 'node_22_demand', 'link_30_flow', 'node_22_pressure', 'node_26_demand', 'node_19_pressure', 'link_9_flow', 'link_23_flow', 'reservoir_demand', 'node_30_pressure', 'node_20_demand', 'node_17_demand', 'link_28_flow', 'node_16_demand', 'node_4_pressure', 'node_1_pressure', 'node_29_pressure', 'node_13_pressure', 'node_5_demand', 'link_13_flow', 'node_3_pressure', 'node_25_demand', 'node_6_pressure', 'link_8_flow', 'link_1_flow', 'node_11_demand', 'node_3_demand', 'node_8_demand', 'node_14_demand', 'link_4_flow', 'node_12_pressure', 'node_25_pressure', 'node_23_pressure', 'link_20_flow', 'node_31_demand', 'node_29_demand', 'node_28_pressure', 'node_21_pressure', 'node_18_demand', 'node_5_pressure', 'link_31_flow', 'node_8_pressure', 'node_10_pressure', 'link_17_flow', 'node_21_demand', 'node_2_demand', 'node_4_demand', 'node_17_pressure', 'node_24_pressure', 'node_28_demand', 'link_27_flow', 'node_23_demand', 'link_29_flow', 'node_27_pressure', 'link_16_flow', 'link_15_flow', 'node_24_demand', 'link_6_flow', 'link_24_flow', 'node_14_pressure', 'link_18_flow']]\n",
      "starting df shape: (87600, 17)\n",
      "This is training run 1 and has the shape:  (87600, 17)\n",
      "The value of dropped columns is 80\n"
     ]
    },
    {
     "name": "stderr",
     "output_type": "stream",
     "text": [
      "/Users/alexellard/opt/anaconda3/lib/python3.7/site-packages/xgboost/data.py:96: UserWarning: Use subset (sliced data) of np.ndarray is not recommended because it will generate extra copies and increase memory consumption\n",
      "  \"because it will generate extra copies and increase \" +\n"
     ]
    },
    {
     "name": "stdout",
     "output_type": "stream",
     "text": [
      "test y shape : (17520, 1)\n",
      "Inv y shape : (17520, 17)\n"
     ]
    },
    {
     "name": "stderr",
     "output_type": "stream",
     "text": [
      "/Users/alexellard/opt/anaconda3/lib/python3.7/site-packages/xgboost/data.py:96: UserWarning: Use subset (sliced data) of np.ndarray is not recommended because it will generate extra copies and increase memory consumption\n",
      "  \"because it will generate extra copies and increase \" +\n"
     ]
    },
    {
     "name": "stdout",
     "output_type": "stream",
     "text": [
      "test y shape : (17520, 1)\n",
      "Inv y shape : (17520, 17)\n",
      "y pred shape : (17520, 1)\n",
      "inv y pred : (17520, 17)\n",
      "Run 1 Mean Absolute Error: 0.5039217608851632\n",
      "RMSE: 0.711\n",
      "R^2: 1.000\n",
      "[['node_5_pressure', 'link_20_flow', 'node_2_demand', 'link_10_flow', 'link_23_flow', 'link_2_flow', 'node_11_demand', 'link_15_flow', 'node_20_demand', 'node_26_demand', 'link_16_flow', 'node_27_demand', 'node_17_pressure', 'node_6_pressure', 'link_26_flow', 'link_30_flow', 'node_8_pressure', 'node_15_demand', 'link_11_flow', 'link_27_flow', 'link_5_flow', 'link_8_flow', 'node_20_pressure', 'link_21_flow', 'node_19_pressure', 'node_1_demand', 'link_4_flow', 'node_11_pressure', 'node_24_demand', 'link_1_flow', 'node_21_pressure', 'link_32_flow', 'node_2_pressure', 'link_6_flow', 'node_13_pressure', 'node_6_demand', 'node_16_demand', 'node_12_demand', 'node_23_demand', 'node_10_pressure', 'node_29_demand', 'node_3_demand', 'node_14_demand', 'reservoir_demand', 'node_28_pressure', 'node_1_pressure', 'link_3_flow', 'node_22_demand', 'node_4_pressure', 'node_28_demand', 'node_12_pressure', 'link_25_flow', 'node_24_pressure', 'node_31_pressure', 'link_12_flow', 'node_9_demand', 'node_5_demand', 'node_7_demand', 'node_22_pressure', 'node_25_pressure', 'node_14_pressure', 'link_9_flow', 'node_3_pressure', 'node_7_pressure', 'node_29_pressure', 'link_19_flow', 'link_22_flow', 'node_17_demand', 'node_13_demand', 'link_18_flow', 'link_13_flow', 'link_31_flow', 'node_9_pressure', 'node_23_pressure', 'node_19_demand', 'node_15_pressure', 'reservoir_pressure', 'link_24_flow', 'node_25_demand']]\n",
      "starting df shape: (87600, 17)\n",
      "This is training run 2 and has the shape:  (87600, 17)\n",
      "The value of dropped columns is 80\n"
     ]
    },
    {
     "name": "stderr",
     "output_type": "stream",
     "text": [
      "/Users/alexellard/opt/anaconda3/lib/python3.7/site-packages/xgboost/data.py:96: UserWarning: Use subset (sliced data) of np.ndarray is not recommended because it will generate extra copies and increase memory consumption\n",
      "  \"because it will generate extra copies and increase \" +\n"
     ]
    },
    {
     "name": "stdout",
     "output_type": "stream",
     "text": [
      "test y shape : (17520, 1)\n",
      "Inv y shape : (17520, 17)\n"
     ]
    },
    {
     "name": "stderr",
     "output_type": "stream",
     "text": [
      "/Users/alexellard/opt/anaconda3/lib/python3.7/site-packages/xgboost/data.py:96: UserWarning: Use subset (sliced data) of np.ndarray is not recommended because it will generate extra copies and increase memory consumption\n",
      "  \"because it will generate extra copies and increase \" +\n"
     ]
    },
    {
     "name": "stdout",
     "output_type": "stream",
     "text": [
      "test y shape : (17520, 1)\n",
      "Inv y shape : (17520, 17)\n",
      "y pred shape : (17520, 1)\n",
      "inv y pred : (17520, 17)\n",
      "Run 2 Mean Absolute Error: 0.7311806850869754\n",
      "RMSE: 1.065\n",
      "R^2: 1.000\n",
      "[['node_21_pressure', 'node_28_pressure', 'link_13_flow', 'node_25_pressure', 'node_19_pressure', 'reservoir_pressure', 'node_21_demand', 'node_7_pressure', 'link_28_flow', 'link_25_flow', 'link_10_flow', 'node_25_demand', 'node_27_demand', 'node_23_pressure', 'link_3_flow', 'node_13_pressure', 'node_20_demand', 'node_4_pressure', 'node_8_demand', 'node_3_demand', 'node_20_pressure', 'link_12_flow', 'node_5_demand', 'node_8_pressure', 'node_1_demand', 'link_29_flow', 'node_14_demand', 'link_8_flow', 'reservoir_demand', 'node_11_demand', 'link_15_flow', 'node_9_demand', 'link_22_flow', 'node_12_demand', 'node_18_demand', 'link_16_flow', 'link_31_flow', 'link_7_flow', 'node_17_demand', 'node_10_demand', 'link_6_flow', 'node_26_demand', 'node_6_pressure', 'link_30_flow', 'node_16_demand', 'node_27_pressure', 'node_11_pressure', 'node_6_demand', 'node_23_demand', 'node_10_pressure', 'node_24_demand', 'link_5_flow', 'link_32_flow', 'node_3_pressure', 'node_18_pressure', 'node_2_demand', 'link_27_flow', 'node_19_demand', 'node_2_pressure', 'node_7_demand', 'link_19_flow', 'link_11_flow', 'node_29_pressure', 'node_22_pressure', 'link_24_flow', 'link_18_flow', 'link_23_flow', 'node_28_demand', 'node_9_pressure', 'link_1_flow', 'node_1_pressure', 'link_20_flow', 'node_31_demand', 'link_21_flow', 'node_15_pressure', 'node_13_demand', 'node_12_pressure', 'link_26_flow', 'node_29_demand']]\n",
      "starting df shape: (87600, 17)\n",
      "This is training run 3 and has the shape:  (87600, 17)\n",
      "The value of dropped columns is 80\n"
     ]
    },
    {
     "name": "stderr",
     "output_type": "stream",
     "text": [
      "/Users/alexellard/opt/anaconda3/lib/python3.7/site-packages/xgboost/data.py:96: UserWarning: Use subset (sliced data) of np.ndarray is not recommended because it will generate extra copies and increase memory consumption\n",
      "  \"because it will generate extra copies and increase \" +\n"
     ]
    },
    {
     "name": "stdout",
     "output_type": "stream",
     "text": [
      "test y shape : (17520, 1)\n",
      "Inv y shape : (17520, 17)\n"
     ]
    },
    {
     "name": "stderr",
     "output_type": "stream",
     "text": [
      "/Users/alexellard/opt/anaconda3/lib/python3.7/site-packages/xgboost/data.py:96: UserWarning: Use subset (sliced data) of np.ndarray is not recommended because it will generate extra copies and increase memory consumption\n",
      "  \"because it will generate extra copies and increase \" +\n"
     ]
    },
    {
     "name": "stdout",
     "output_type": "stream",
     "text": [
      "test y shape : (17520, 1)\n",
      "Inv y shape : (17520, 17)\n",
      "y pred shape : (17520, 1)\n",
      "inv y pred : (17520, 17)\n",
      "Run 3 Mean Absolute Error: 0.5924041210097873\n",
      "RMSE: 0.874\n",
      "R^2: 1.000\n",
      "[['node_15_demand', 'node_14_demand', 'link_24_flow', 'node_5_demand', 'node_3_pressure', 'node_1_pressure', 'node_5_pressure', 'link_1_flow', 'node_6_demand', 'node_26_demand', 'link_5_flow', 'link_26_flow', 'node_25_demand', 'link_6_flow', 'link_19_flow', 'node_22_demand', 'node_8_demand', 'node_9_demand', 'link_7_flow', 'node_14_pressure', 'link_16_flow', 'node_24_demand', 'reservoir_pressure', 'node_19_pressure', 'node_13_demand', 'node_30_demand', 'node_23_pressure', 'link_29_flow', 'node_11_pressure', 'reservoir_demand', 'node_15_pressure', 'link_20_flow', 'link_11_flow', 'link_17_flow', 'link_23_flow', 'node_17_demand', 'node_7_pressure', 'node_7_demand', 'link_22_flow', 'node_4_demand', 'node_28_demand', 'node_9_pressure', 'link_15_flow', 'node_10_demand', 'link_18_flow', 'node_17_pressure', 'node_16_demand', 'node_31_pressure', 'node_18_pressure', 'node_28_pressure', 'node_8_pressure', 'link_27_flow', 'node_20_demand', 'link_13_flow', 'node_29_demand', 'link_12_flow', 'node_26_pressure', 'node_31_demand', 'link_25_flow', 'link_28_flow', 'node_21_demand', 'node_2_demand', 'node_3_demand', 'link_9_flow', 'link_32_flow', 'node_1_demand', 'node_27_pressure', 'node_19_demand', 'link_3_flow', 'node_13_pressure', 'node_18_demand', 'node_23_demand', 'node_20_pressure', 'link_30_flow', 'node_29_pressure', 'node_12_pressure', 'link_4_flow', 'node_22_pressure', 'node_4_pressure']]\n",
      "starting df shape: (87600, 17)\n",
      "This is training run 4 and has the shape:  (87600, 17)\n",
      "The value of dropped columns is 80\n"
     ]
    },
    {
     "name": "stderr",
     "output_type": "stream",
     "text": [
      "/Users/alexellard/opt/anaconda3/lib/python3.7/site-packages/xgboost/data.py:96: UserWarning: Use subset (sliced data) of np.ndarray is not recommended because it will generate extra copies and increase memory consumption\n",
      "  \"because it will generate extra copies and increase \" +\n"
     ]
    },
    {
     "name": "stdout",
     "output_type": "stream",
     "text": [
      "test y shape : (17520, 1)\n",
      "Inv y shape : (17520, 17)\n"
     ]
    },
    {
     "name": "stderr",
     "output_type": "stream",
     "text": [
      "/Users/alexellard/opt/anaconda3/lib/python3.7/site-packages/xgboost/data.py:96: UserWarning: Use subset (sliced data) of np.ndarray is not recommended because it will generate extra copies and increase memory consumption\n",
      "  \"because it will generate extra copies and increase \" +\n"
     ]
    },
    {
     "name": "stdout",
     "output_type": "stream",
     "text": [
      "test y shape : (17520, 1)\n",
      "Inv y shape : (17520, 17)\n",
      "y pred shape : (17520, 1)\n",
      "inv y pred : (17520, 17)\n",
      "Run 4 Mean Absolute Error: 0.7126814073023553\n",
      "RMSE: 1.021\n",
      "R^2: 0.999\n",
      "[['node_7_demand', 'node_20_pressure', 'node_25_demand', 'node_4_demand', 'link_11_flow', 'link_13_flow', 'node_30_demand', 'link_27_flow', 'node_18_pressure', 'link_6_flow', 'node_28_pressure', 'node_26_pressure', 'link_22_flow', 'node_29_demand', 'link_17_flow', 'node_5_demand', 'node_27_demand', 'node_19_demand', 'node_5_pressure', 'node_3_demand', 'node_13_demand', 'node_6_demand', 'node_1_demand', 'node_25_pressure', 'node_22_demand', 'node_12_pressure', 'node_21_pressure', 'node_7_pressure', 'node_8_pressure', 'node_17_demand', 'link_19_flow', 'node_11_demand', 'link_21_flow', 'node_9_demand', 'node_31_pressure', 'link_2_flow', 'node_30_pressure', 'node_14_pressure', 'link_16_flow', 'node_18_demand', 'node_10_pressure', 'node_11_pressure', 'link_4_flow', 'link_15_flow', 'node_20_demand', 'link_5_flow', 'node_29_pressure', 'link_23_flow', 'reservoir_demand', 'link_24_flow', 'link_7_flow', 'node_17_pressure', 'link_12_flow', 'link_1_flow', 'node_27_pressure', 'node_13_pressure', 'node_12_demand', 'link_29_flow', 'reservoir_pressure', 'node_28_demand', 'node_22_pressure', 'node_3_pressure', 'node_15_demand', 'link_9_flow', 'node_21_demand', 'link_32_flow', 'link_20_flow', 'link_8_flow', 'link_10_flow', 'node_1_pressure', 'node_16_demand', 'link_14_flow', 'link_25_flow', 'node_26_demand', 'link_30_flow', 'link_26_flow', 'link_28_flow', 'node_2_pressure', 'node_2_demand']]\n",
      "starting df shape: (87600, 17)\n",
      "This is training run 5 and has the shape:  (87600, 17)\n",
      "The value of dropped columns is 80\n"
     ]
    },
    {
     "name": "stderr",
     "output_type": "stream",
     "text": [
      "/Users/alexellard/opt/anaconda3/lib/python3.7/site-packages/xgboost/data.py:96: UserWarning: Use subset (sliced data) of np.ndarray is not recommended because it will generate extra copies and increase memory consumption\n",
      "  \"because it will generate extra copies and increase \" +\n"
     ]
    },
    {
     "name": "stdout",
     "output_type": "stream",
     "text": [
      "test y shape : (17520, 1)\n",
      "Inv y shape : (17520, 17)\n"
     ]
    },
    {
     "name": "stderr",
     "output_type": "stream",
     "text": [
      "/Users/alexellard/opt/anaconda3/lib/python3.7/site-packages/xgboost/data.py:96: UserWarning: Use subset (sliced data) of np.ndarray is not recommended because it will generate extra copies and increase memory consumption\n",
      "  \"because it will generate extra copies and increase \" +\n"
     ]
    },
    {
     "name": "stdout",
     "output_type": "stream",
     "text": [
      "test y shape : (17520, 1)\n",
      "Inv y shape : (17520, 17)\n",
      "y pred shape : (17520, 1)\n",
      "inv y pred : (17520, 17)\n",
      "Run 5 Mean Absolute Error: 0.4376748146566609\n",
      "RMSE: 0.636\n",
      "R^2: 1.000\n",
      "[['link_22_flow', 'node_1_demand', 'node_22_pressure', 'link_11_flow', 'link_25_flow', 'node_26_demand', 'node_18_pressure', 'link_6_flow', 'link_2_flow', 'node_18_demand', 'node_24_demand', 'node_31_demand', 'node_23_demand', 'link_19_flow', 'node_2_demand', 'node_30_pressure', 'node_11_pressure', 'node_12_pressure', 'link_16_flow', 'link_13_flow', 'link_12_flow', 'node_26_pressure', 'node_3_pressure', 'node_27_demand', 'link_26_flow', 'node_25_demand', 'node_13_demand', 'node_21_demand', 'node_12_demand', 'node_19_pressure', 'node_11_demand', 'link_10_flow', 'node_29_pressure', 'link_15_flow', 'node_14_pressure', 'node_29_demand', 'node_17_demand', 'reservoir_pressure', 'link_1_flow', 'node_6_demand', 'node_9_pressure', 'link_20_flow', 'node_27_pressure', 'node_4_pressure', 'node_24_pressure', 'link_28_flow', 'node_31_pressure', 'node_5_demand', 'node_16_demand', 'node_3_demand', 'node_5_pressure', 'link_24_flow', 'node_2_pressure', 'link_3_flow', 'node_8_pressure', 'link_8_flow', 'node_15_pressure', 'reservoir_demand', 'node_6_pressure', 'node_14_demand', 'link_27_flow', 'link_4_flow', 'link_31_flow', 'node_15_demand', 'link_21_flow', 'link_23_flow', 'node_1_pressure', 'link_7_flow', 'link_32_flow', 'node_20_pressure', 'link_5_flow', 'link_30_flow', 'node_10_pressure', 'node_28_demand', 'node_9_demand', 'node_17_pressure', 'node_13_pressure', 'link_14_flow', 'node_20_demand']]\n",
      "starting df shape: (87600, 17)\n",
      "This is training run 6 and has the shape:  (87600, 17)\n",
      "The value of dropped columns is 80\n"
     ]
    },
    {
     "name": "stderr",
     "output_type": "stream",
     "text": [
      "/Users/alexellard/opt/anaconda3/lib/python3.7/site-packages/xgboost/data.py:96: UserWarning: Use subset (sliced data) of np.ndarray is not recommended because it will generate extra copies and increase memory consumption\n",
      "  \"because it will generate extra copies and increase \" +\n"
     ]
    },
    {
     "name": "stdout",
     "output_type": "stream",
     "text": [
      "test y shape : (17520, 1)\n",
      "Inv y shape : (17520, 17)\n"
     ]
    },
    {
     "name": "stderr",
     "output_type": "stream",
     "text": [
      "/Users/alexellard/opt/anaconda3/lib/python3.7/site-packages/xgboost/data.py:96: UserWarning: Use subset (sliced data) of np.ndarray is not recommended because it will generate extra copies and increase memory consumption\n",
      "  \"because it will generate extra copies and increase \" +\n"
     ]
    },
    {
     "name": "stdout",
     "output_type": "stream",
     "text": [
      "test y shape : (17520, 1)\n",
      "Inv y shape : (17520, 17)\n",
      "y pred shape : (17520, 1)\n",
      "inv y pred : (17520, 17)\n",
      "Run 6 Mean Absolute Error: 0.8246654984596573\n",
      "RMSE: 1.194\n",
      "R^2: 0.999\n",
      "[['link_3_flow', 'node_25_pressure', 'node_11_demand', 'node_7_pressure', 'link_28_flow', 'node_2_pressure', 'link_7_flow', 'node_9_pressure', 'node_3_pressure', 'node_18_demand', 'link_21_flow', 'node_6_pressure', 'link_25_flow', 'node_15_demand', 'link_10_flow', 'link_32_flow', 'node_1_demand', 'link_31_flow', 'node_7_demand', 'link_19_flow', 'link_15_flow', 'node_16_demand', 'link_9_flow', 'node_13_demand', 'node_30_pressure', 'node_26_demand', 'link_20_flow', 'link_23_flow', 'link_6_flow', 'link_18_flow', 'node_1_pressure', 'node_15_pressure', 'link_2_flow', 'node_9_demand', 'node_27_pressure', 'node_28_pressure', 'node_14_demand', 'node_31_pressure', 'node_29_demand', 'node_8_pressure', 'link_1_flow', 'node_28_demand', 'link_14_flow', 'node_19_pressure', 'node_20_pressure', 'node_23_pressure', 'node_6_demand', 'node_29_pressure', 'node_8_demand', 'node_31_demand', 'reservoir_demand', 'node_27_demand', 'node_23_demand', 'node_10_pressure', 'node_24_pressure', 'link_5_flow', 'node_5_pressure', 'node_13_pressure', 'link_30_flow', 'node_30_demand', 'link_4_flow', 'link_13_flow', 'node_3_demand', 'node_4_demand', 'node_25_demand', 'link_27_flow', 'node_10_demand', 'node_21_demand', 'reservoir_pressure', 'link_12_flow', 'node_17_pressure', 'node_26_pressure', 'node_11_pressure', 'link_17_flow', 'link_8_flow', 'node_18_pressure', 'link_24_flow', 'link_22_flow', 'node_22_pressure']]\n",
      "starting df shape: (87600, 17)\n",
      "This is training run 7 and has the shape:  (87600, 17)\n",
      "The value of dropped columns is 80\n"
     ]
    },
    {
     "name": "stderr",
     "output_type": "stream",
     "text": [
      "/Users/alexellard/opt/anaconda3/lib/python3.7/site-packages/xgboost/data.py:96: UserWarning: Use subset (sliced data) of np.ndarray is not recommended because it will generate extra copies and increase memory consumption\n",
      "  \"because it will generate extra copies and increase \" +\n"
     ]
    },
    {
     "name": "stdout",
     "output_type": "stream",
     "text": [
      "test y shape : (17520, 1)\n",
      "Inv y shape : (17520, 17)\n"
     ]
    },
    {
     "name": "stderr",
     "output_type": "stream",
     "text": [
      "/Users/alexellard/opt/anaconda3/lib/python3.7/site-packages/xgboost/data.py:96: UserWarning: Use subset (sliced data) of np.ndarray is not recommended because it will generate extra copies and increase memory consumption\n",
      "  \"because it will generate extra copies and increase \" +\n"
     ]
    },
    {
     "name": "stdout",
     "output_type": "stream",
     "text": [
      "test y shape : (17520, 1)\n",
      "Inv y shape : (17520, 17)\n",
      "y pred shape : (17520, 1)\n",
      "inv y pred : (17520, 17)\n",
      "Run 7 Mean Absolute Error: 0.841957287276698\n",
      "RMSE: 1.167\n",
      "R^2: 1.000\n",
      "[['node_8_demand', 'node_6_demand', 'node_14_demand', 'link_16_flow', 'node_26_demand', 'node_13_demand', 'node_7_pressure', 'link_4_flow', 'link_2_flow', 'node_12_pressure', 'link_5_flow', 'node_27_demand', 'node_4_demand', 'node_20_pressure', 'link_18_flow', 'link_30_flow', 'reservoir_demand', 'link_32_flow', 'node_14_pressure', 'reservoir_pressure', 'node_22_demand', 'node_2_demand', 'link_8_flow', 'link_11_flow', 'link_20_flow', 'node_25_pressure', 'node_17_demand', 'link_31_flow', 'link_21_flow', 'link_25_flow', 'node_4_pressure', 'node_15_demand', 'node_11_pressure', 'node_15_pressure', 'node_3_pressure', 'node_25_demand', 'node_28_pressure', 'node_10_pressure', 'link_26_flow', 'node_31_pressure', 'node_20_demand', 'node_21_demand', 'node_1_demand', 'link_1_flow', 'node_21_pressure', 'link_7_flow', 'node_23_pressure', 'node_19_demand', 'node_18_pressure', 'link_28_flow', 'node_11_demand', 'link_29_flow', 'link_6_flow', 'node_13_pressure', 'node_3_demand', 'node_22_pressure', 'link_27_flow', 'node_28_demand', 'node_2_pressure', 'node_12_demand', 'node_19_pressure', 'node_1_pressure', 'link_12_flow', 'link_15_flow', 'node_30_pressure', 'node_30_demand', 'link_13_flow', 'node_27_pressure', 'node_9_demand', 'node_24_demand', 'link_10_flow', 'node_8_pressure', 'node_24_pressure', 'link_24_flow', 'link_22_flow', 'node_6_pressure', 'link_17_flow', 'node_7_demand', 'link_23_flow']]\n",
      "starting df shape: (87600, 17)\n",
      "This is training run 8 and has the shape:  (87600, 17)\n",
      "The value of dropped columns is 80\n"
     ]
    },
    {
     "name": "stderr",
     "output_type": "stream",
     "text": [
      "/Users/alexellard/opt/anaconda3/lib/python3.7/site-packages/xgboost/data.py:96: UserWarning: Use subset (sliced data) of np.ndarray is not recommended because it will generate extra copies and increase memory consumption\n",
      "  \"because it will generate extra copies and increase \" +\n"
     ]
    },
    {
     "name": "stdout",
     "output_type": "stream",
     "text": [
      "test y shape : (17520, 1)\n",
      "Inv y shape : (17520, 17)\n"
     ]
    },
    {
     "name": "stderr",
     "output_type": "stream",
     "text": [
      "/Users/alexellard/opt/anaconda3/lib/python3.7/site-packages/xgboost/data.py:96: UserWarning: Use subset (sliced data) of np.ndarray is not recommended because it will generate extra copies and increase memory consumption\n",
      "  \"because it will generate extra copies and increase \" +\n"
     ]
    },
    {
     "name": "stdout",
     "output_type": "stream",
     "text": [
      "test y shape : (17520, 1)\n",
      "Inv y shape : (17520, 17)\n",
      "y pred shape : (17520, 1)\n",
      "inv y pred : (17520, 17)\n",
      "Run 8 Mean Absolute Error: 0.5677983926651713\n",
      "RMSE: 0.798\n",
      "R^2: 1.000\n",
      "[['node_27_demand', 'node_2_pressure', 'link_11_flow', 'node_23_demand', 'link_27_flow', 'node_9_pressure', 'node_5_demand', 'link_1_flow', 'link_21_flow', 'link_12_flow', 'link_32_flow', 'node_16_demand', 'node_7_demand', 'link_18_flow', 'link_13_flow', 'node_25_pressure', 'link_28_flow', 'node_8_demand', 'link_29_flow', 'node_28_pressure', 'node_22_pressure', 'node_21_demand', 'node_24_demand', 'link_15_flow', 'node_20_pressure', 'node_15_demand', 'link_16_flow', 'node_29_demand', 'node_1_pressure', 'node_25_demand', 'node_12_demand', 'node_12_pressure', 'node_1_demand', 'node_8_pressure', 'link_24_flow', 'node_7_pressure', 'link_22_flow', 'link_5_flow', 'node_10_demand', 'node_18_demand', 'node_13_pressure', 'node_23_pressure', 'node_9_demand', 'node_2_demand', 'link_20_flow', 'node_4_pressure', 'node_3_pressure', 'node_6_pressure', 'node_30_demand', 'node_10_pressure', 'link_14_flow', 'link_3_flow', 'node_14_demand', 'node_21_pressure', 'link_8_flow', 'node_18_pressure', 'node_15_pressure', 'node_28_demand', 'node_27_pressure', 'link_9_flow', 'node_3_demand', 'link_6_flow', 'node_17_pressure', 'node_30_pressure', 'node_26_pressure', 'link_19_flow', 'node_26_demand', 'node_24_pressure', 'node_11_demand', 'node_19_pressure', 'link_31_flow', 'node_13_demand', 'link_26_flow', 'link_30_flow', 'link_17_flow', 'node_20_demand', 'node_5_pressure', 'link_23_flow', 'link_2_flow']]\n",
      "starting df shape: (87600, 17)\n",
      "This is training run 9 and has the shape:  (87600, 17)\n",
      "The value of dropped columns is 80\n"
     ]
    },
    {
     "name": "stderr",
     "output_type": "stream",
     "text": [
      "/Users/alexellard/opt/anaconda3/lib/python3.7/site-packages/xgboost/data.py:96: UserWarning: Use subset (sliced data) of np.ndarray is not recommended because it will generate extra copies and increase memory consumption\n",
      "  \"because it will generate extra copies and increase \" +\n"
     ]
    },
    {
     "name": "stdout",
     "output_type": "stream",
     "text": [
      "test y shape : (17520, 1)\n",
      "Inv y shape : (17520, 17)\n"
     ]
    },
    {
     "name": "stderr",
     "output_type": "stream",
     "text": [
      "/Users/alexellard/opt/anaconda3/lib/python3.7/site-packages/xgboost/data.py:96: UserWarning: Use subset (sliced data) of np.ndarray is not recommended because it will generate extra copies and increase memory consumption\n",
      "  \"because it will generate extra copies and increase \" +\n"
     ]
    },
    {
     "name": "stdout",
     "output_type": "stream",
     "text": [
      "test y shape : (17520, 1)\n",
      "Inv y shape : (17520, 17)\n",
      "y pred shape : (17520, 1)\n",
      "inv y pred : (17520, 17)\n",
      "Run 9 Mean Absolute Error: 17.171644695500547\n",
      "RMSE: 24.826\n",
      "R^2: 1.000\n",
      "[['node_5_pressure', 'link_5_flow', 'node_23_demand', 'node_26_demand', 'node_13_pressure', 'node_12_pressure', 'node_2_pressure', 'link_12_flow', 'link_28_flow', 'node_27_pressure', 'node_22_pressure', 'link_21_flow', 'link_23_flow', 'node_10_pressure', 'node_21_demand', 'link_29_flow', 'link_19_flow', 'link_2_flow', 'node_17_pressure', 'link_17_flow', 'node_3_pressure', 'node_7_demand', 'node_29_demand', 'node_15_pressure', 'node_20_demand', 'link_14_flow', 'node_24_demand', 'link_10_flow', 'link_31_flow', 'node_25_pressure', 'node_5_demand', 'link_20_flow', 'node_11_pressure', 'node_29_pressure', 'node_31_demand', 'node_12_demand', 'node_31_pressure', 'reservoir_pressure', 'link_6_flow', 'node_20_pressure', 'node_15_demand', 'link_8_flow', 'node_28_demand', 'link_22_flow', 'node_14_demand', 'node_2_demand', 'link_7_flow', 'node_3_demand', 'link_16_flow', 'node_6_pressure', 'node_26_pressure', 'node_8_demand', 'link_27_flow', 'reservoir_demand', 'node_14_pressure', 'node_17_demand', 'node_21_pressure', 'node_23_pressure', 'node_16_demand', 'node_18_pressure', 'node_10_demand', 'link_32_flow', 'link_3_flow', 'node_7_pressure', 'node_19_demand', 'node_11_demand', 'node_27_demand', 'node_9_demand', 'link_25_flow', 'node_22_demand', 'node_18_demand', 'link_9_flow', 'link_4_flow', 'node_4_demand', 'node_30_demand', 'node_4_pressure', 'link_13_flow', 'node_6_demand', 'node_19_pressure', 'node_8_pressure']]\n",
      "starting df shape: (87600, 16)\n",
      "This is training run 10 and has the shape:  (87600, 16)\n",
      "The value of dropped columns is 80\n"
     ]
    },
    {
     "name": "stderr",
     "output_type": "stream",
     "text": [
      "/Users/alexellard/opt/anaconda3/lib/python3.7/site-packages/xgboost/data.py:96: UserWarning: Use subset (sliced data) of np.ndarray is not recommended because it will generate extra copies and increase memory consumption\n",
      "  \"because it will generate extra copies and increase \" +\n"
     ]
    },
    {
     "name": "stdout",
     "output_type": "stream",
     "text": [
      "test y shape : (17520, 1)\n",
      "Inv y shape : (17520, 16)\n"
     ]
    },
    {
     "name": "stderr",
     "output_type": "stream",
     "text": [
      "/Users/alexellard/opt/anaconda3/lib/python3.7/site-packages/xgboost/data.py:96: UserWarning: Use subset (sliced data) of np.ndarray is not recommended because it will generate extra copies and increase memory consumption\n",
      "  \"because it will generate extra copies and increase \" +\n"
     ]
    },
    {
     "name": "stdout",
     "output_type": "stream",
     "text": [
      "test y shape : (17520, 1)\n",
      "Inv y shape : (17520, 16)\n",
      "y pred shape : (17520, 1)\n",
      "inv y pred : (17520, 16)\n",
      "Run 10 Mean Absolute Error: 0.7064284079132802\n",
      "RMSE: 0.985\n",
      "R^2: 1.000\n",
      "Length MAE_average:  17\n",
      "Length sensors_covered:  17\n"
     ]
    }
   ],
   "source": [
    "#average scores pressure node 16\n",
    "\n",
    "MAE_average = []\n",
    "RMSE_average = []\n",
    "R2_average = []\n",
    "maximum_MAE = []\n",
    "sensors_covered = []\n",
    "n_columns_to_drop = [0, 5, 10, 15, 20, 25, 30, 35, 40, 45, 50, 55, 60, 65, 70, 75, 80]\n",
    "for n in n_columns_to_drop:\n",
    "    MAE = []\n",
    "    RMSE = []\n",
    "    R2 = []\n",
    "    for run in range(1,11):\n",
    "        Y = df[df.columns[48]]\n",
    "        X = df.drop(columns=['node_16_pressure'])\n",
    "        X['node_16_pressure'] = Y\n",
    "        columns = []\n",
    "        columns_to_drop = random.sample(list(X.columns), n)\n",
    "        # Drop the selected columns from the dataframe\n",
    "        if X.columns[-1] in columns_to_drop:\n",
    "            columns_to_drop.remove(X.columns[-1])\n",
    "        X.drop(columns_to_drop, axis=1, inplace=True)\n",
    "        columns.append(columns_to_drop)\n",
    "        print(columns)\n",
    "        print('starting df shape:', X.shape)\n",
    "        print(f'This is training run {run} and has the shape: ', X.shape)\n",
    "        print(f'The value of dropped columns is {n}')\n",
    "\n",
    "        values = X.values\n",
    "        scaler = MinMaxScaler(feature_range=(0, 1))\n",
    "        scaled = scaler.fit_transform(values)\n",
    "        train, test = train_test_split(scaled, test_size=0.2, random_state=0)\n",
    "\n",
    "        # split into input and outputs\n",
    "        train_X, train_y = train[:, :-1], train[:, -1]\n",
    "        test_X, test_y = test[:, :-1], test[:, -1]\n",
    "\n",
    "        #define model\n",
    "        model = xgb.XGBRegressor(\n",
    "            objective='reg:squarederror',\n",
    "            n_estimators=100,\n",
    "            max_depth=6,\n",
    "            learning_rate=0.1,\n",
    "            subsample=0.9,\n",
    "            colsample_bytree=0.8,\n",
    "            random_state=42\n",
    "        )\n",
    "\n",
    "        # fit the model on the training data\n",
    "        model.fit(train_X, train_y)\n",
    "\n",
    "        # make predictions on the test data\n",
    "        y_pred = model.predict(test_X)\n",
    "\n",
    "        test_y = test_y.reshape((len(test_y), 1))\n",
    "        print('test y shape :', test_y.shape)\n",
    "        inv_test_y = concatenate((test_y, test_X[:, -X.shape[1]:]), axis=1)\n",
    "        print('Inv y shape :', inv_test_y.shape)\n",
    "        test_y_inverse = scaler.inverse_transform(inv_test_y)\n",
    "        test_y_inverse = test_y_inverse[:,0]\n",
    "\n",
    "        scaled = scaler.fit_transform(values)\n",
    "        train, test = train_test_split(scaled, test_size=0.2, random_state=0)\n",
    "\n",
    "        # split into input and outputs\n",
    "        train_X, train_y = train[:, :-1], train[:, -1]\n",
    "        test_X, test_y = test[:, :-1], test[:, -1]\n",
    "\n",
    "        #define model\n",
    "        model = xgb.XGBRegressor(\n",
    "            objective='reg:squarederror',\n",
    "            n_estimators=100,\n",
    "            max_depth=6,\n",
    "            learning_rate=0.1,\n",
    "            subsample=0.9,\n",
    "            colsample_bytree=0.8,\n",
    "            random_state=42\n",
    "        )\n",
    "\n",
    "        # fit the model on the training data\n",
    "        model.fit(train_X, train_y)\n",
    "\n",
    "        # make predictions on the test data\n",
    "        y_pred = model.predict(test_X)\n",
    "\n",
    "        test_y = test_y.reshape((len(test_y), 1))\n",
    "        print('test y shape :', test_y.shape)\n",
    "        inv_test_y = concatenate((test_y, test_X[:, -X.shape[1]:]), axis=1)\n",
    "        print('Inv y shape :', inv_test_y.shape)\n",
    "        test_y_inverse = scaler.inverse_transform(inv_test_y)\n",
    "        test_y_inverse = test_y_inverse[:,0]\n",
    "\n",
    "        y_pred = y_pred.reshape((len(y_pred), 1))\n",
    "        print('y pred shape :', y_pred.shape)\n",
    "        inv_y_pred = concatenate((y_pred, test_X[:, -X.shape[1]:]), axis=1)\n",
    "        print('inv y pred :', inv_y_pred.shape)\n",
    "        y_pred_inverse = scaler.inverse_transform(inv_y_pred)\n",
    "        y_pred_inverse = y_pred_inverse[:,0]\n",
    "\n",
    "        # evaluate scaled errors\n",
    "        mae_inverse = mean_absolute_error(test_y_inverse, y_pred_inverse)\n",
    "        MAE.append(mae_inverse)\n",
    "        print(f'Run {run} Mean Absolute Error:', mae_inverse)\n",
    "        rmse_inverse = sqrt(mean_squared_error(test_y_inverse, y_pred_inverse))\n",
    "        RMSE.append(rmse_inverse)\n",
    "        print('RMSE: %.3f' % rmse_inverse)\n",
    "        r2_inverse = r2_score(test_y_inverse, y_pred_inverse)\n",
    "        R2.append(r2_inverse)\n",
    "        print('R^2: %.3f' % r2_inverse)\n",
    "    percentage_list = round(X.shape[1] / 96 * 100)\n",
    "    sensors_covered.append(percentage_list)\n",
    "    MAE_mean = mean(MAE)\n",
    "    RMSE_mean = mean(RMSE)\n",
    "    R2_mean = mean(R2)\n",
    "    max_MAE = max(MAE)\n",
    "    maximum_MAE.append(max_MAE)\n",
    "    MAE_average.append(MAE_mean)\n",
    "    RMSE_average.append(RMSE_mean)\n",
    "    R2_average.append(R2_mean)\n",
    "print('Length MAE_average: ', len(MAE_average))\n",
    "print('Length sensors_covered: ', len(sensors_covered))"
   ]
  },
  {
   "cell_type": "code",
   "execution_count": 6,
   "metadata": {},
   "outputs": [
    {
     "data": {
      "image/png": "[encoded data removed]",
      "text/plain": [
       "<Figure size 576x360 with 2 Axes>"
      ]
     },
     "metadata": {
      "needs_background": "light"
     },
     "output_type": "display_data"
    }
   ],
   "source": [
    "# Create the plot and specify the figure size\n",
    "fig, ax1 = plt.subplots(figsize=(8, 5))\n",
    "\n",
    "# Plot the first line\n",
    "ax1.plot(sensors_covered, maximum_MAE, 'b-', label='Mean Absolute Error')\n",
    "ax1.set_xlabel('Sensor Cover %')\n",
    "ax1.set_ylabel('MAE')\n",
    "\n",
    "# Create a second y-axis\n",
    "ax2 = ax1.twinx()\n",
    "\n",
    "# Plot the second line\n",
    "ax2.plot(sensors_covered, R2_average, 'r-', label='R2')\n",
    "ax2.set_ylabel('R2')\n",
    "\n",
    "# Show legends for both lines\n",
    "lines = [ax1.get_lines()[0], ax2.get_lines()[0]]\n",
    "ax1.legend(lines, [line.get_label() for line in lines])\n",
    "\n",
    "# Show the plot\n",
    "plt.title(\"MAE & R2 vs. Coverage Node 16 Pressure\")\n",
    "plt.xlim([100, 0])\n",
    "plt.savefig('/Users/alexellard/Downloads/MAER2Pressure.png')\n",
    "plt.show()\n"
   ]
  },
  {
   "cell_type": "code",
   "execution_count": null,
   "metadata": {},
   "outputs": [],
   "source": []
  }
 ],
 "metadata": {
  "kernelspec": {
   "display_name": "Python 3",
   "language": "python",
   "name": "python3"
  },
  "language_info": {
   "codemirror_mode": {
    "name": "ipython",
    "version": 3
   },
   "file_extension": ".py",
   "mimetype": "text/x-python",
   "name": "python",
   "nbconvert_exporter": "python",
   "pygments_lexer": "ipython3",
   "version": "3.7.4"
  }
 },
 "nbformat": 4,
 "nbformat_minor": 2
}
