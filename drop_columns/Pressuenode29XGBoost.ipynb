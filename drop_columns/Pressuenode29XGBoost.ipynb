{
 "cells": [
  {
   "cell_type": "code",
   "execution_count": 7,
   "metadata": {},
   "outputs": [],
   "source": [
    "import xgboost as xgb\n",
    "import pandas as pd\n",
    "import numpy as np\n",
    "from sklearn.preprocessing import LabelEncoder\n",
    "from sklearn.preprocessing import MinMaxScaler\n",
    "from sklearn.model_selection import train_test_split\n",
    "from sklearn.metrics import mean_squared_error, mean_absolute_error, r2_score\n",
    "from numpy import concatenate\n",
    "from math import sqrt\n",
    "from statistics import mean\n",
    "import random\n",
    "import matplotlib.pyplot as plt"
   ]
  },
  {
   "cell_type": "code",
   "execution_count": 8,
   "metadata": {},
   "outputs": [
    {
     "data": {
      "text/html": [
       "<div>\n",
       "<style scoped>\n",
       "    .dataframe tbody tr th:only-of-type {\n",
       "        vertical-align: middle;\n",
       "    }\n",
       "\n",
       "    .dataframe tbody tr th {\n",
       "        vertical-align: top;\n",
       "    }\n",
       "\n",
       "    .dataframe thead th {\n",
       "        text-align: right;\n",
       "    }\n",
       "</style>\n",
       "<table border=\"1\" class=\"dataframe\">\n",
       "  <thead>\n",
       "    <tr style=\"text-align: right;\">\n",
       "      <th></th>\n",
       "      <th>reservoir_demand</th>\n",
       "      <th>node_1_demand</th>\n",
       "      <th>node_2_demand</th>\n",
       "      <th>node_3_demand</th>\n",
       "      <th>node_4_demand</th>\n",
       "      <th>node_5_demand</th>\n",
       "      <th>node_6_demand</th>\n",
       "      <th>node_7_demand</th>\n",
       "      <th>node_8_demand</th>\n",
       "      <th>node_9_demand</th>\n",
       "      <th>...</th>\n",
       "      <th>link_23_flow</th>\n",
       "      <th>link_24_flow</th>\n",
       "      <th>link_25_flow</th>\n",
       "      <th>link_26_flow</th>\n",
       "      <th>link_27_flow</th>\n",
       "      <th>link_28_flow</th>\n",
       "      <th>link_29_flow</th>\n",
       "      <th>link_30_flow</th>\n",
       "      <th>link_31_flow</th>\n",
       "      <th>link_32_flow</th>\n",
       "    </tr>\n",
       "    <tr>\n",
       "      <th>Timestamp</th>\n",
       "      <th></th>\n",
       "      <th></th>\n",
       "      <th></th>\n",
       "      <th></th>\n",
       "      <th></th>\n",
       "      <th></th>\n",
       "      <th></th>\n",
       "      <th></th>\n",
       "      <th></th>\n",
       "      <th></th>\n",
       "      <th></th>\n",
       "      <th></th>\n",
       "      <th></th>\n",
       "      <th></th>\n",
       "      <th></th>\n",
       "      <th></th>\n",
       "      <th></th>\n",
       "      <th></th>\n",
       "      <th></th>\n",
       "      <th></th>\n",
       "      <th></th>\n",
       "    </tr>\n",
       "  </thead>\n",
       "  <tbody>\n",
       "    <tr>\n",
       "      <th>2017-01-01 00:00:00</th>\n",
       "      <td>-3348.0</td>\n",
       "      <td>154.8</td>\n",
       "      <td>169.2</td>\n",
       "      <td>18.0</td>\n",
       "      <td>118.8</td>\n",
       "      <td>169.2</td>\n",
       "      <td>234.0</td>\n",
       "      <td>86.4</td>\n",
       "      <td>82.8</td>\n",
       "      <td>104.4</td>\n",
       "      <td>...</td>\n",
       "      <td>439.2</td>\n",
       "      <td>-205.2</td>\n",
       "      <td>-75.6</td>\n",
       "      <td>-18.0</td>\n",
       "      <td>118.8</td>\n",
       "      <td>68.4</td>\n",
       "      <td>7.2</td>\n",
       "      <td>-54.0</td>\n",
       "      <td>75.6</td>\n",
       "      <td>212.4</td>\n",
       "    </tr>\n",
       "    <tr>\n",
       "      <th>2017-01-01 00:30:00</th>\n",
       "      <td>-2959.2</td>\n",
       "      <td>136.8</td>\n",
       "      <td>147.6</td>\n",
       "      <td>18.0</td>\n",
       "      <td>108.0</td>\n",
       "      <td>144.0</td>\n",
       "      <td>237.6</td>\n",
       "      <td>79.2</td>\n",
       "      <td>75.6</td>\n",
       "      <td>90.0</td>\n",
       "      <td>...</td>\n",
       "      <td>392.4</td>\n",
       "      <td>-187.2</td>\n",
       "      <td>-72.0</td>\n",
       "      <td>-21.6</td>\n",
       "      <td>108.0</td>\n",
       "      <td>61.2</td>\n",
       "      <td>3.6</td>\n",
       "      <td>-54.0</td>\n",
       "      <td>72.0</td>\n",
       "      <td>183.6</td>\n",
       "    </tr>\n",
       "    <tr>\n",
       "      <th>2017-01-01 01:00:00</th>\n",
       "      <td>-2692.8</td>\n",
       "      <td>129.6</td>\n",
       "      <td>126.0</td>\n",
       "      <td>14.4</td>\n",
       "      <td>104.4</td>\n",
       "      <td>133.2</td>\n",
       "      <td>205.2</td>\n",
       "      <td>72.0</td>\n",
       "      <td>72.0</td>\n",
       "      <td>90.0</td>\n",
       "      <td>...</td>\n",
       "      <td>349.2</td>\n",
       "      <td>-176.4</td>\n",
       "      <td>-64.8</td>\n",
       "      <td>-18.0</td>\n",
       "      <td>93.6</td>\n",
       "      <td>50.4</td>\n",
       "      <td>3.6</td>\n",
       "      <td>-39.6</td>\n",
       "      <td>54.0</td>\n",
       "      <td>151.2</td>\n",
       "    </tr>\n",
       "    <tr>\n",
       "      <th>2017-01-01 01:30:00</th>\n",
       "      <td>-2379.6</td>\n",
       "      <td>104.4</td>\n",
       "      <td>100.8</td>\n",
       "      <td>10.8</td>\n",
       "      <td>86.4</td>\n",
       "      <td>122.4</td>\n",
       "      <td>180.0</td>\n",
       "      <td>68.4</td>\n",
       "      <td>57.6</td>\n",
       "      <td>82.8</td>\n",
       "      <td>...</td>\n",
       "      <td>316.8</td>\n",
       "      <td>-158.4</td>\n",
       "      <td>-54.0</td>\n",
       "      <td>-10.8</td>\n",
       "      <td>79.2</td>\n",
       "      <td>46.8</td>\n",
       "      <td>7.2</td>\n",
       "      <td>-32.4</td>\n",
       "      <td>50.4</td>\n",
       "      <td>140.4</td>\n",
       "    </tr>\n",
       "    <tr>\n",
       "      <th>2017-01-01 02:00:00</th>\n",
       "      <td>-2228.4</td>\n",
       "      <td>104.4</td>\n",
       "      <td>104.4</td>\n",
       "      <td>10.8</td>\n",
       "      <td>79.2</td>\n",
       "      <td>122.4</td>\n",
       "      <td>183.6</td>\n",
       "      <td>68.4</td>\n",
       "      <td>54.0</td>\n",
       "      <td>75.6</td>\n",
       "      <td>...</td>\n",
       "      <td>277.2</td>\n",
       "      <td>-144.0</td>\n",
       "      <td>-57.6</td>\n",
       "      <td>-18.0</td>\n",
       "      <td>72.0</td>\n",
       "      <td>39.6</td>\n",
       "      <td>7.2</td>\n",
       "      <td>-32.4</td>\n",
       "      <td>43.2</td>\n",
       "      <td>118.8</td>\n",
       "    </tr>\n",
       "    <tr>\n",
       "      <th>...</th>\n",
       "      <td>...</td>\n",
       "      <td>...</td>\n",
       "      <td>...</td>\n",
       "      <td>...</td>\n",
       "      <td>...</td>\n",
       "      <td>...</td>\n",
       "      <td>...</td>\n",
       "      <td>...</td>\n",
       "      <td>...</td>\n",
       "      <td>...</td>\n",
       "      <td>...</td>\n",
       "      <td>...</td>\n",
       "      <td>...</td>\n",
       "      <td>...</td>\n",
       "      <td>...</td>\n",
       "      <td>...</td>\n",
       "      <td>...</td>\n",
       "      <td>...</td>\n",
       "      <td>...</td>\n",
       "      <td>...</td>\n",
       "      <td>...</td>\n",
       "    </tr>\n",
       "    <tr>\n",
       "      <th>2017-12-31 21:30:00</th>\n",
       "      <td>-5306.4</td>\n",
       "      <td>205.2</td>\n",
       "      <td>208.8</td>\n",
       "      <td>39.6</td>\n",
       "      <td>183.6</td>\n",
       "      <td>284.4</td>\n",
       "      <td>316.8</td>\n",
       "      <td>176.4</td>\n",
       "      <td>133.2</td>\n",
       "      <td>129.6</td>\n",
       "      <td>...</td>\n",
       "      <td>604.8</td>\n",
       "      <td>-259.2</td>\n",
       "      <td>32.4</td>\n",
       "      <td>115.2</td>\n",
       "      <td>169.2</td>\n",
       "      <td>100.8</td>\n",
       "      <td>10.8</td>\n",
       "      <td>-100.8</td>\n",
       "      <td>122.4</td>\n",
       "      <td>309.6</td>\n",
       "    </tr>\n",
       "    <tr>\n",
       "      <th>2017-12-31 22:00:00</th>\n",
       "      <td>-4910.4</td>\n",
       "      <td>208.8</td>\n",
       "      <td>183.6</td>\n",
       "      <td>39.6</td>\n",
       "      <td>154.8</td>\n",
       "      <td>252.0</td>\n",
       "      <td>295.2</td>\n",
       "      <td>165.6</td>\n",
       "      <td>133.2</td>\n",
       "      <td>133.2</td>\n",
       "      <td>...</td>\n",
       "      <td>565.2</td>\n",
       "      <td>-241.2</td>\n",
       "      <td>21.6</td>\n",
       "      <td>100.8</td>\n",
       "      <td>154.8</td>\n",
       "      <td>86.4</td>\n",
       "      <td>18.0</td>\n",
       "      <td>-75.6</td>\n",
       "      <td>100.8</td>\n",
       "      <td>288.0</td>\n",
       "    </tr>\n",
       "    <tr>\n",
       "      <th>2017-12-31 22:30:00</th>\n",
       "      <td>-4683.6</td>\n",
       "      <td>187.2</td>\n",
       "      <td>183.6</td>\n",
       "      <td>36.0</td>\n",
       "      <td>147.6</td>\n",
       "      <td>230.4</td>\n",
       "      <td>320.4</td>\n",
       "      <td>147.6</td>\n",
       "      <td>118.8</td>\n",
       "      <td>126.0</td>\n",
       "      <td>...</td>\n",
       "      <td>529.2</td>\n",
       "      <td>-226.8</td>\n",
       "      <td>21.6</td>\n",
       "      <td>100.8</td>\n",
       "      <td>147.6</td>\n",
       "      <td>86.4</td>\n",
       "      <td>14.4</td>\n",
       "      <td>-86.4</td>\n",
       "      <td>108.0</td>\n",
       "      <td>266.4</td>\n",
       "    </tr>\n",
       "    <tr>\n",
       "      <th>2017-12-31 23:00:00</th>\n",
       "      <td>-4262.4</td>\n",
       "      <td>180.0</td>\n",
       "      <td>165.6</td>\n",
       "      <td>32.4</td>\n",
       "      <td>136.8</td>\n",
       "      <td>223.2</td>\n",
       "      <td>241.2</td>\n",
       "      <td>147.6</td>\n",
       "      <td>115.2</td>\n",
       "      <td>111.6</td>\n",
       "      <td>...</td>\n",
       "      <td>496.8</td>\n",
       "      <td>-208.8</td>\n",
       "      <td>21.6</td>\n",
       "      <td>93.6</td>\n",
       "      <td>133.2</td>\n",
       "      <td>79.2</td>\n",
       "      <td>14.4</td>\n",
       "      <td>-75.6</td>\n",
       "      <td>97.2</td>\n",
       "      <td>255.6</td>\n",
       "    </tr>\n",
       "    <tr>\n",
       "      <th>2017-12-31 23:30:00</th>\n",
       "      <td>-3808.8</td>\n",
       "      <td>176.4</td>\n",
       "      <td>169.2</td>\n",
       "      <td>25.2</td>\n",
       "      <td>122.4</td>\n",
       "      <td>201.6</td>\n",
       "      <td>241.2</td>\n",
       "      <td>122.4</td>\n",
       "      <td>100.8</td>\n",
       "      <td>93.6</td>\n",
       "      <td>...</td>\n",
       "      <td>421.2</td>\n",
       "      <td>-180.0</td>\n",
       "      <td>28.8</td>\n",
       "      <td>86.4</td>\n",
       "      <td>118.8</td>\n",
       "      <td>68.4</td>\n",
       "      <td>10.8</td>\n",
       "      <td>-68.4</td>\n",
       "      <td>86.4</td>\n",
       "      <td>216.0</td>\n",
       "    </tr>\n",
       "  </tbody>\n",
       "</table>\n",
       "<p>87600 rows × 96 columns</p>\n",
       "</div>"
      ],
      "text/plain": [
       "                     reservoir_demand  node_1_demand  node_2_demand  \\\n",
       "Timestamp                                                             \n",
       "2017-01-01 00:00:00           -3348.0          154.8          169.2   \n",
       "2017-01-01 00:30:00           -2959.2          136.8          147.6   \n",
       "2017-01-01 01:00:00           -2692.8          129.6          126.0   \n",
       "2017-01-01 01:30:00           -2379.6          104.4          100.8   \n",
       "2017-01-01 02:00:00           -2228.4          104.4          104.4   \n",
       "...                               ...            ...            ...   \n",
       "2017-12-31 21:30:00           -5306.4          205.2          208.8   \n",
       "2017-12-31 22:00:00           -4910.4          208.8          183.6   \n",
       "2017-12-31 22:30:00           -4683.6          187.2          183.6   \n",
       "2017-12-31 23:00:00           -4262.4          180.0          165.6   \n",
       "2017-12-31 23:30:00           -3808.8          176.4          169.2   \n",
       "\n",
       "                     node_3_demand  node_4_demand  node_5_demand  \\\n",
       "Timestamp                                                          \n",
       "2017-01-01 00:00:00           18.0          118.8          169.2   \n",
       "2017-01-01 00:30:00           18.0          108.0          144.0   \n",
       "2017-01-01 01:00:00           14.4          104.4          133.2   \n",
       "2017-01-01 01:30:00           10.8           86.4          122.4   \n",
       "2017-01-01 02:00:00           10.8           79.2          122.4   \n",
       "...                            ...            ...            ...   \n",
       "2017-12-31 21:30:00           39.6          183.6          284.4   \n",
       "2017-12-31 22:00:00           39.6          154.8          252.0   \n",
       "2017-12-31 22:30:00           36.0          147.6          230.4   \n",
       "2017-12-31 23:00:00           32.4          136.8          223.2   \n",
       "2017-12-31 23:30:00           25.2          122.4          201.6   \n",
       "\n",
       "                     node_6_demand  node_7_demand  node_8_demand  \\\n",
       "Timestamp                                                          \n",
       "2017-01-01 00:00:00          234.0           86.4           82.8   \n",
       "2017-01-01 00:30:00          237.6           79.2           75.6   \n",
       "2017-01-01 01:00:00          205.2           72.0           72.0   \n",
       "2017-01-01 01:30:00          180.0           68.4           57.6   \n",
       "2017-01-01 02:00:00          183.6           68.4           54.0   \n",
       "...                            ...            ...            ...   \n",
       "2017-12-31 21:30:00          316.8          176.4          133.2   \n",
       "2017-12-31 22:00:00          295.2          165.6          133.2   \n",
       "2017-12-31 22:30:00          320.4          147.6          118.8   \n",
       "2017-12-31 23:00:00          241.2          147.6          115.2   \n",
       "2017-12-31 23:30:00          241.2          122.4          100.8   \n",
       "\n",
       "                     node_9_demand  ...  link_23_flow  link_24_flow  \\\n",
       "Timestamp                           ...                               \n",
       "2017-01-01 00:00:00          104.4  ...         439.2        -205.2   \n",
       "2017-01-01 00:30:00           90.0  ...         392.4        -187.2   \n",
       "2017-01-01 01:00:00           90.0  ...         349.2        -176.4   \n",
       "2017-01-01 01:30:00           82.8  ...         316.8        -158.4   \n",
       "2017-01-01 02:00:00           75.6  ...         277.2        -144.0   \n",
       "...                            ...  ...           ...           ...   \n",
       "2017-12-31 21:30:00          129.6  ...         604.8        -259.2   \n",
       "2017-12-31 22:00:00          133.2  ...         565.2        -241.2   \n",
       "2017-12-31 22:30:00          126.0  ...         529.2        -226.8   \n",
       "2017-12-31 23:00:00          111.6  ...         496.8        -208.8   \n",
       "2017-12-31 23:30:00           93.6  ...         421.2        -180.0   \n",
       "\n",
       "                     link_25_flow  link_26_flow  link_27_flow  link_28_flow  \\\n",
       "Timestamp                                                                     \n",
       "2017-01-01 00:00:00         -75.6         -18.0         118.8          68.4   \n",
       "2017-01-01 00:30:00         -72.0         -21.6         108.0          61.2   \n",
       "2017-01-01 01:00:00         -64.8         -18.0          93.6          50.4   \n",
       "2017-01-01 01:30:00         -54.0         -10.8          79.2          46.8   \n",
       "2017-01-01 02:00:00         -57.6         -18.0          72.0          39.6   \n",
       "...                           ...           ...           ...           ...   \n",
       "2017-12-31 21:30:00          32.4         115.2         169.2         100.8   \n",
       "2017-12-31 22:00:00          21.6         100.8         154.8          86.4   \n",
       "2017-12-31 22:30:00          21.6         100.8         147.6          86.4   \n",
       "2017-12-31 23:00:00          21.6          93.6         133.2          79.2   \n",
       "2017-12-31 23:30:00          28.8          86.4         118.8          68.4   \n",
       "\n",
       "                     link_29_flow  link_30_flow  link_31_flow  link_32_flow  \n",
       "Timestamp                                                                    \n",
       "2017-01-01 00:00:00           7.2         -54.0          75.6         212.4  \n",
       "2017-01-01 00:30:00           3.6         -54.0          72.0         183.6  \n",
       "2017-01-01 01:00:00           3.6         -39.6          54.0         151.2  \n",
       "2017-01-01 01:30:00           7.2         -32.4          50.4         140.4  \n",
       "2017-01-01 02:00:00           7.2         -32.4          43.2         118.8  \n",
       "...                           ...           ...           ...           ...  \n",
       "2017-12-31 21:30:00          10.8        -100.8         122.4         309.6  \n",
       "2017-12-31 22:00:00          18.0         -75.6         100.8         288.0  \n",
       "2017-12-31 22:30:00          14.4         -86.4         108.0         266.4  \n",
       "2017-12-31 23:00:00          14.4         -75.6          97.2         255.6  \n",
       "2017-12-31 23:30:00          10.8         -68.4          86.4         216.0  \n",
       "\n",
       "[87600 rows x 96 columns]"
      ]
     },
     "execution_count": 8,
     "metadata": {},
     "output_type": "execute_result"
    }
   ],
   "source": [
    "df = pd.read_csv('/Users/alexellard/Downloads/scenarios_data.csv', header=0, index_col=0)\n",
    "df"
   ]
  },
  {
   "cell_type": "code",
   "execution_count": 9,
   "metadata": {},
   "outputs": [
    {
     "name": "stdout",
     "output_type": "stream",
     "text": [
      "[[]]\n",
      "starting df shape: (87600, 96)\n",
      "This is training run 1 and has the shape:  (87600, 96)\n",
      "The value of dropped columns is 0\n"
     ]
    },
    {
     "name": "stderr",
     "output_type": "stream",
     "text": [
      "/Users/alexellard/opt/anaconda3/lib/python3.7/site-packages/xgboost/data.py:96: UserWarning: Use subset (sliced data) of np.ndarray is not recommended because it will generate extra copies and increase memory consumption\n",
      "  \"because it will generate extra copies and increase \" +\n"
     ]
    },
    {
     "name": "stdout",
     "output_type": "stream",
     "text": [
      "test y shape : (17520, 1)\n",
      "Inv y shape : (17520, 96)\n"
     ]
    },
    {
     "name": "stderr",
     "output_type": "stream",
     "text": [
      "/Users/alexellard/opt/anaconda3/lib/python3.7/site-packages/xgboost/data.py:96: UserWarning: Use subset (sliced data) of np.ndarray is not recommended because it will generate extra copies and increase memory consumption\n",
      "  \"because it will generate extra copies and increase \" +\n"
     ]
    },
    {
     "name": "stdout",
     "output_type": "stream",
     "text": [
      "test y shape : (17520, 1)\n",
      "Inv y shape : (17520, 96)\n",
      "y pred shape : (17520, 1)\n",
      "inv y pred : (17520, 96)\n",
      "Run 1 Mean Absolute Error: 2.7127859912848926\n",
      "RMSE: 3.887\n",
      "R^2: 1.000\n",
      "[[]]\n",
      "starting df shape: (87600, 96)\n",
      "This is training run 2 and has the shape:  (87600, 96)\n",
      "The value of dropped columns is 0\n"
     ]
    },
    {
     "name": "stderr",
     "output_type": "stream",
     "text": [
      "/Users/alexellard/opt/anaconda3/lib/python3.7/site-packages/xgboost/data.py:96: UserWarning: Use subset (sliced data) of np.ndarray is not recommended because it will generate extra copies and increase memory consumption\n",
      "  \"because it will generate extra copies and increase \" +\n"
     ]
    },
    {
     "name": "stdout",
     "output_type": "stream",
     "text": [
      "test y shape : (17520, 1)\n",
      "Inv y shape : (17520, 96)\n"
     ]
    },
    {
     "name": "stderr",
     "output_type": "stream",
     "text": [
      "/Users/alexellard/opt/anaconda3/lib/python3.7/site-packages/xgboost/data.py:96: UserWarning: Use subset (sliced data) of np.ndarray is not recommended because it will generate extra copies and increase memory consumption\n",
      "  \"because it will generate extra copies and increase \" +\n"
     ]
    },
    {
     "name": "stdout",
     "output_type": "stream",
     "text": [
      "test y shape : (17520, 1)\n",
      "Inv y shape : (17520, 96)\n",
      "y pred shape : (17520, 1)\n",
      "inv y pred : (17520, 96)\n",
      "Run 2 Mean Absolute Error: 2.7127859912848926\n",
      "RMSE: 3.887\n",
      "R^2: 1.000\n",
      "[[]]\n",
      "starting df shape: (87600, 96)\n",
      "This is training run 3 and has the shape:  (87600, 96)\n",
      "The value of dropped columns is 0\n"
     ]
    },
    {
     "name": "stderr",
     "output_type": "stream",
     "text": [
      "/Users/alexellard/opt/anaconda3/lib/python3.7/site-packages/xgboost/data.py:96: UserWarning: Use subset (sliced data) of np.ndarray is not recommended because it will generate extra copies and increase memory consumption\n",
      "  \"because it will generate extra copies and increase \" +\n"
     ]
    },
    {
     "name": "stdout",
     "output_type": "stream",
     "text": [
      "test y shape : (17520, 1)\n",
      "Inv y shape : (17520, 96)\n"
     ]
    },
    {
     "name": "stderr",
     "output_type": "stream",
     "text": [
      "/Users/alexellard/opt/anaconda3/lib/python3.7/site-packages/xgboost/data.py:96: UserWarning: Use subset (sliced data) of np.ndarray is not recommended because it will generate extra copies and increase memory consumption\n",
      "  \"because it will generate extra copies and increase \" +\n"
     ]
    },
    {
     "name": "stdout",
     "output_type": "stream",
     "text": [
      "test y shape : (17520, 1)\n",
      "Inv y shape : (17520, 96)\n",
      "y pred shape : (17520, 1)\n",
      "inv y pred : (17520, 96)\n",
      "Run 3 Mean Absolute Error: 2.7127859912848926\n",
      "RMSE: 3.887\n",
      "R^2: 1.000\n",
      "[[]]\n",
      "starting df shape: (87600, 96)\n",
      "This is training run 4 and has the shape:  (87600, 96)\n",
      "The value of dropped columns is 0\n"
     ]
    },
    {
     "name": "stderr",
     "output_type": "stream",
     "text": [
      "/Users/alexellard/opt/anaconda3/lib/python3.7/site-packages/xgboost/data.py:96: UserWarning: Use subset (sliced data) of np.ndarray is not recommended because it will generate extra copies and increase memory consumption\n",
      "  \"because it will generate extra copies and increase \" +\n"
     ]
    },
    {
     "name": "stdout",
     "output_type": "stream",
     "text": [
      "test y shape : (17520, 1)\n",
      "Inv y shape : (17520, 96)\n"
     ]
    },
    {
     "name": "stderr",
     "output_type": "stream",
     "text": [
      "/Users/alexellard/opt/anaconda3/lib/python3.7/site-packages/xgboost/data.py:96: UserWarning: Use subset (sliced data) of np.ndarray is not recommended because it will generate extra copies and increase memory consumption\n",
      "  \"because it will generate extra copies and increase \" +\n"
     ]
    },
    {
     "name": "stdout",
     "output_type": "stream",
     "text": [
      "test y shape : (17520, 1)\n",
      "Inv y shape : (17520, 96)\n",
      "y pred shape : (17520, 1)\n",
      "inv y pred : (17520, 96)\n",
      "Run 4 Mean Absolute Error: 2.7127859912848926\n",
      "RMSE: 3.887\n",
      "R^2: 1.000\n",
      "[[]]\n",
      "starting df shape: (87600, 96)\n",
      "This is training run 5 and has the shape:  (87600, 96)\n",
      "The value of dropped columns is 0\n"
     ]
    },
    {
     "name": "stderr",
     "output_type": "stream",
     "text": [
      "/Users/alexellard/opt/anaconda3/lib/python3.7/site-packages/xgboost/data.py:96: UserWarning: Use subset (sliced data) of np.ndarray is not recommended because it will generate extra copies and increase memory consumption\n",
      "  \"because it will generate extra copies and increase \" +\n"
     ]
    },
    {
     "name": "stdout",
     "output_type": "stream",
     "text": [
      "test y shape : (17520, 1)\n",
      "Inv y shape : (17520, 96)\n"
     ]
    },
    {
     "name": "stderr",
     "output_type": "stream",
     "text": [
      "/Users/alexellard/opt/anaconda3/lib/python3.7/site-packages/xgboost/data.py:96: UserWarning: Use subset (sliced data) of np.ndarray is not recommended because it will generate extra copies and increase memory consumption\n",
      "  \"because it will generate extra copies and increase \" +\n"
     ]
    },
    {
     "name": "stdout",
     "output_type": "stream",
     "text": [
      "test y shape : (17520, 1)\n",
      "Inv y shape : (17520, 96)\n",
      "y pred shape : (17520, 1)\n",
      "inv y pred : (17520, 96)\n",
      "Run 5 Mean Absolute Error: 2.7127859912848926\n",
      "RMSE: 3.887\n",
      "R^2: 1.000\n",
      "[[]]\n",
      "starting df shape: (87600, 96)\n",
      "This is training run 6 and has the shape:  (87600, 96)\n",
      "The value of dropped columns is 0\n"
     ]
    },
    {
     "name": "stderr",
     "output_type": "stream",
     "text": [
      "/Users/alexellard/opt/anaconda3/lib/python3.7/site-packages/xgboost/data.py:96: UserWarning: Use subset (sliced data) of np.ndarray is not recommended because it will generate extra copies and increase memory consumption\n",
      "  \"because it will generate extra copies and increase \" +\n"
     ]
    },
    {
     "name": "stdout",
     "output_type": "stream",
     "text": [
      "test y shape : (17520, 1)\n",
      "Inv y shape : (17520, 96)\n"
     ]
    },
    {
     "name": "stderr",
     "output_type": "stream",
     "text": [
      "/Users/alexellard/opt/anaconda3/lib/python3.7/site-packages/xgboost/data.py:96: UserWarning: Use subset (sliced data) of np.ndarray is not recommended because it will generate extra copies and increase memory consumption\n",
      "  \"because it will generate extra copies and increase \" +\n"
     ]
    },
    {
     "name": "stdout",
     "output_type": "stream",
     "text": [
      "test y shape : (17520, 1)\n",
      "Inv y shape : (17520, 96)\n",
      "y pred shape : (17520, 1)\n",
      "inv y pred : (17520, 96)\n",
      "Run 6 Mean Absolute Error: 2.7127859912848926\n",
      "RMSE: 3.887\n",
      "R^2: 1.000\n",
      "[[]]\n",
      "starting df shape: (87600, 96)\n",
      "This is training run 7 and has the shape:  (87600, 96)\n",
      "The value of dropped columns is 0\n"
     ]
    },
    {
     "name": "stderr",
     "output_type": "stream",
     "text": [
      "/Users/alexellard/opt/anaconda3/lib/python3.7/site-packages/xgboost/data.py:96: UserWarning: Use subset (sliced data) of np.ndarray is not recommended because it will generate extra copies and increase memory consumption\n",
      "  \"because it will generate extra copies and increase \" +\n"
     ]
    },
    {
     "name": "stdout",
     "output_type": "stream",
     "text": [
      "test y shape : (17520, 1)\n",
      "Inv y shape : (17520, 96)\n"
     ]
    },
    {
     "name": "stderr",
     "output_type": "stream",
     "text": [
      "/Users/alexellard/opt/anaconda3/lib/python3.7/site-packages/xgboost/data.py:96: UserWarning: Use subset (sliced data) of np.ndarray is not recommended because it will generate extra copies and increase memory consumption\n",
      "  \"because it will generate extra copies and increase \" +\n"
     ]
    },
    {
     "name": "stdout",
     "output_type": "stream",
     "text": [
      "test y shape : (17520, 1)\n",
      "Inv y shape : (17520, 96)\n",
      "y pred shape : (17520, 1)\n",
      "inv y pred : (17520, 96)\n",
      "Run 7 Mean Absolute Error: 2.7127859912848926\n",
      "RMSE: 3.887\n",
      "R^2: 1.000\n",
      "[[]]\n",
      "starting df shape: (87600, 96)\n",
      "This is training run 8 and has the shape:  (87600, 96)\n",
      "The value of dropped columns is 0\n"
     ]
    },
    {
     "name": "stderr",
     "output_type": "stream",
     "text": [
      "/Users/alexellard/opt/anaconda3/lib/python3.7/site-packages/xgboost/data.py:96: UserWarning: Use subset (sliced data) of np.ndarray is not recommended because it will generate extra copies and increase memory consumption\n",
      "  \"because it will generate extra copies and increase \" +\n"
     ]
    },
    {
     "name": "stdout",
     "output_type": "stream",
     "text": [
      "test y shape : (17520, 1)\n",
      "Inv y shape : (17520, 96)\n"
     ]
    },
    {
     "name": "stderr",
     "output_type": "stream",
     "text": [
      "/Users/alexellard/opt/anaconda3/lib/python3.7/site-packages/xgboost/data.py:96: UserWarning: Use subset (sliced data) of np.ndarray is not recommended because it will generate extra copies and increase memory consumption\n",
      "  \"because it will generate extra copies and increase \" +\n"
     ]
    },
    {
     "name": "stdout",
     "output_type": "stream",
     "text": [
      "test y shape : (17520, 1)\n",
      "Inv y shape : (17520, 96)\n",
      "y pred shape : (17520, 1)\n",
      "inv y pred : (17520, 96)\n",
      "Run 8 Mean Absolute Error: 2.7127859912848926\n",
      "RMSE: 3.887\n",
      "R^2: 1.000\n",
      "[[]]\n",
      "starting df shape: (87600, 96)\n",
      "This is training run 9 and has the shape:  (87600, 96)\n",
      "The value of dropped columns is 0\n"
     ]
    },
    {
     "name": "stderr",
     "output_type": "stream",
     "text": [
      "/Users/alexellard/opt/anaconda3/lib/python3.7/site-packages/xgboost/data.py:96: UserWarning: Use subset (sliced data) of np.ndarray is not recommended because it will generate extra copies and increase memory consumption\n",
      "  \"because it will generate extra copies and increase \" +\n"
     ]
    },
    {
     "name": "stdout",
     "output_type": "stream",
     "text": [
      "test y shape : (17520, 1)\n",
      "Inv y shape : (17520, 96)\n"
     ]
    },
    {
     "name": "stderr",
     "output_type": "stream",
     "text": [
      "/Users/alexellard/opt/anaconda3/lib/python3.7/site-packages/xgboost/data.py:96: UserWarning: Use subset (sliced data) of np.ndarray is not recommended because it will generate extra copies and increase memory consumption\n",
      "  \"because it will generate extra copies and increase \" +\n"
     ]
    },
    {
     "name": "stdout",
     "output_type": "stream",
     "text": [
      "test y shape : (17520, 1)\n",
      "Inv y shape : (17520, 96)\n",
      "y pred shape : (17520, 1)\n",
      "inv y pred : (17520, 96)\n",
      "Run 9 Mean Absolute Error: 2.7127859912848926\n",
      "RMSE: 3.887\n",
      "R^2: 1.000\n",
      "[[]]\n",
      "starting df shape: (87600, 96)\n",
      "This is training run 10 and has the shape:  (87600, 96)\n",
      "The value of dropped columns is 0\n"
     ]
    },
    {
     "name": "stderr",
     "output_type": "stream",
     "text": [
      "/Users/alexellard/opt/anaconda3/lib/python3.7/site-packages/xgboost/data.py:96: UserWarning: Use subset (sliced data) of np.ndarray is not recommended because it will generate extra copies and increase memory consumption\n",
      "  \"because it will generate extra copies and increase \" +\n"
     ]
    },
    {
     "name": "stdout",
     "output_type": "stream",
     "text": [
      "test y shape : (17520, 1)\n",
      "Inv y shape : (17520, 96)\n"
     ]
    },
    {
     "name": "stderr",
     "output_type": "stream",
     "text": [
      "/Users/alexellard/opt/anaconda3/lib/python3.7/site-packages/xgboost/data.py:96: UserWarning: Use subset (sliced data) of np.ndarray is not recommended because it will generate extra copies and increase memory consumption\n",
      "  \"because it will generate extra copies and increase \" +\n"
     ]
    },
    {
     "name": "stdout",
     "output_type": "stream",
     "text": [
      "test y shape : (17520, 1)\n",
      "Inv y shape : (17520, 96)\n",
      "y pred shape : (17520, 1)\n",
      "inv y pred : (17520, 96)\n",
      "Run 10 Mean Absolute Error: 2.7127859912848926\n",
      "RMSE: 3.887\n",
      "R^2: 1.000\n",
      "[['node_2_pressure', 'node_8_demand', 'reservoir_pressure', 'node_24_demand', 'link_14_flow']]\n",
      "starting df shape: (87600, 91)\n",
      "This is training run 1 and has the shape:  (87600, 91)\n",
      "The value of dropped columns is 5\n"
     ]
    },
    {
     "name": "stderr",
     "output_type": "stream",
     "text": [
      "/Users/alexellard/opt/anaconda3/lib/python3.7/site-packages/xgboost/data.py:96: UserWarning: Use subset (sliced data) of np.ndarray is not recommended because it will generate extra copies and increase memory consumption\n",
      "  \"because it will generate extra copies and increase \" +\n"
     ]
    },
    {
     "name": "stdout",
     "output_type": "stream",
     "text": [
      "test y shape : (17520, 1)\n",
      "Inv y shape : (17520, 91)\n"
     ]
    },
    {
     "name": "stderr",
     "output_type": "stream",
     "text": [
      "/Users/alexellard/opt/anaconda3/lib/python3.7/site-packages/xgboost/data.py:96: UserWarning: Use subset (sliced data) of np.ndarray is not recommended because it will generate extra copies and increase memory consumption\n",
      "  \"because it will generate extra copies and increase \" +\n"
     ]
    },
    {
     "name": "stdout",
     "output_type": "stream",
     "text": [
      "test y shape : (17520, 1)\n",
      "Inv y shape : (17520, 91)\n",
      "y pred shape : (17520, 1)\n",
      "inv y pred : (17520, 91)\n",
      "Run 1 Mean Absolute Error: 3.1690392981250137\n",
      "RMSE: 4.515\n",
      "R^2: 1.000\n",
      "[['link_24_flow', 'node_27_demand', 'link_6_flow', 'link_4_flow', 'node_28_demand']]\n",
      "starting df shape: (87600, 91)\n",
      "This is training run 2 and has the shape:  (87600, 91)\n",
      "The value of dropped columns is 5\n"
     ]
    },
    {
     "name": "stderr",
     "output_type": "stream",
     "text": [
      "/Users/alexellard/opt/anaconda3/lib/python3.7/site-packages/xgboost/data.py:96: UserWarning: Use subset (sliced data) of np.ndarray is not recommended because it will generate extra copies and increase memory consumption\n",
      "  \"because it will generate extra copies and increase \" +\n"
     ]
    },
    {
     "name": "stdout",
     "output_type": "stream",
     "text": [
      "test y shape : (17520, 1)\n",
      "Inv y shape : (17520, 91)\n"
     ]
    },
    {
     "name": "stderr",
     "output_type": "stream",
     "text": [
      "/Users/alexellard/opt/anaconda3/lib/python3.7/site-packages/xgboost/data.py:96: UserWarning: Use subset (sliced data) of np.ndarray is not recommended because it will generate extra copies and increase memory consumption\n",
      "  \"because it will generate extra copies and increase \" +\n"
     ]
    },
    {
     "name": "stdout",
     "output_type": "stream",
     "text": [
      "test y shape : (17520, 1)\n",
      "Inv y shape : (17520, 91)\n",
      "y pred shape : (17520, 1)\n",
      "inv y pred : (17520, 91)\n",
      "Run 2 Mean Absolute Error: 2.7879930276188367\n",
      "RMSE: 3.938\n",
      "R^2: 1.000\n",
      "[['node_15_pressure', 'link_8_flow', 'node_14_pressure', 'node_11_demand', 'node_29_demand']]\n",
      "starting df shape: (87600, 91)\n",
      "This is training run 3 and has the shape:  (87600, 91)\n",
      "The value of dropped columns is 5\n"
     ]
    },
    {
     "name": "stderr",
     "output_type": "stream",
     "text": [
      "/Users/alexellard/opt/anaconda3/lib/python3.7/site-packages/xgboost/data.py:96: UserWarning: Use subset (sliced data) of np.ndarray is not recommended because it will generate extra copies and increase memory consumption\n",
      "  \"because it will generate extra copies and increase \" +\n"
     ]
    },
    {
     "name": "stdout",
     "output_type": "stream",
     "text": [
      "test y shape : (17520, 1)\n",
      "Inv y shape : (17520, 91)\n"
     ]
    },
    {
     "name": "stderr",
     "output_type": "stream",
     "text": [
      "/Users/alexellard/opt/anaconda3/lib/python3.7/site-packages/xgboost/data.py:96: UserWarning: Use subset (sliced data) of np.ndarray is not recommended because it will generate extra copies and increase memory consumption\n",
      "  \"because it will generate extra copies and increase \" +\n"
     ]
    },
    {
     "name": "stdout",
     "output_type": "stream",
     "text": [
      "test y shape : (17520, 1)\n",
      "Inv y shape : (17520, 91)\n",
      "y pred shape : (17520, 1)\n",
      "inv y pred : (17520, 91)\n",
      "Run 3 Mean Absolute Error: 3.194467609721415\n",
      "RMSE: 4.600\n",
      "R^2: 1.000\n",
      "[['node_21_demand', 'node_30_pressure', 'link_32_flow', 'node_4_pressure', 'node_27_demand']]\n",
      "starting df shape: (87600, 91)\n",
      "This is training run 4 and has the shape:  (87600, 91)\n",
      "The value of dropped columns is 5\n"
     ]
    },
    {
     "name": "stderr",
     "output_type": "stream",
     "text": [
      "/Users/alexellard/opt/anaconda3/lib/python3.7/site-packages/xgboost/data.py:96: UserWarning: Use subset (sliced data) of np.ndarray is not recommended because it will generate extra copies and increase memory consumption\n",
      "  \"because it will generate extra copies and increase \" +\n"
     ]
    },
    {
     "name": "stdout",
     "output_type": "stream",
     "text": [
      "test y shape : (17520, 1)\n",
      "Inv y shape : (17520, 91)\n"
     ]
    },
    {
     "name": "stderr",
     "output_type": "stream",
     "text": [
      "/Users/alexellard/opt/anaconda3/lib/python3.7/site-packages/xgboost/data.py:96: UserWarning: Use subset (sliced data) of np.ndarray is not recommended because it will generate extra copies and increase memory consumption\n",
      "  \"because it will generate extra copies and increase \" +\n"
     ]
    },
    {
     "name": "stdout",
     "output_type": "stream",
     "text": [
      "test y shape : (17520, 1)\n",
      "Inv y shape : (17520, 91)\n",
      "y pred shape : (17520, 1)\n",
      "inv y pred : (17520, 91)\n",
      "Run 4 Mean Absolute Error: 4.016284019941274\n",
      "RMSE: 5.505\n",
      "R^2: 1.000\n",
      "[['node_30_pressure', 'link_9_flow', 'node_16_demand', 'link_13_flow', 'link_24_flow']]\n",
      "starting df shape: (87600, 91)\n",
      "This is training run 5 and has the shape:  (87600, 91)\n",
      "The value of dropped columns is 5\n"
     ]
    },
    {
     "name": "stderr",
     "output_type": "stream",
     "text": [
      "/Users/alexellard/opt/anaconda3/lib/python3.7/site-packages/xgboost/data.py:96: UserWarning: Use subset (sliced data) of np.ndarray is not recommended because it will generate extra copies and increase memory consumption\n",
      "  \"because it will generate extra copies and increase \" +\n"
     ]
    },
    {
     "name": "stdout",
     "output_type": "stream",
     "text": [
      "test y shape : (17520, 1)\n",
      "Inv y shape : (17520, 91)\n"
     ]
    },
    {
     "name": "stderr",
     "output_type": "stream",
     "text": [
      "/Users/alexellard/opt/anaconda3/lib/python3.7/site-packages/xgboost/data.py:96: UserWarning: Use subset (sliced data) of np.ndarray is not recommended because it will generate extra copies and increase memory consumption\n",
      "  \"because it will generate extra copies and increase \" +\n"
     ]
    },
    {
     "name": "stdout",
     "output_type": "stream",
     "text": [
      "test y shape : (17520, 1)\n",
      "Inv y shape : (17520, 91)\n",
      "y pred shape : (17520, 1)\n",
      "inv y pred : (17520, 91)\n",
      "Run 5 Mean Absolute Error: 4.127677764270542\n",
      "RMSE: 5.697\n",
      "R^2: 1.000\n",
      "[['node_18_demand', 'link_21_flow', 'link_14_flow', 'reservoir_demand', 'node_3_demand']]\n",
      "starting df shape: (87600, 91)\n",
      "This is training run 6 and has the shape:  (87600, 91)\n",
      "The value of dropped columns is 5\n"
     ]
    },
    {
     "name": "stderr",
     "output_type": "stream",
     "text": [
      "/Users/alexellard/opt/anaconda3/lib/python3.7/site-packages/xgboost/data.py:96: UserWarning: Use subset (sliced data) of np.ndarray is not recommended because it will generate extra copies and increase memory consumption\n",
      "  \"because it will generate extra copies and increase \" +\n"
     ]
    },
    {
     "name": "stdout",
     "output_type": "stream",
     "text": [
      "test y shape : (17520, 1)\n",
      "Inv y shape : (17520, 91)\n"
     ]
    },
    {
     "name": "stderr",
     "output_type": "stream",
     "text": [
      "/Users/alexellard/opt/anaconda3/lib/python3.7/site-packages/xgboost/data.py:96: UserWarning: Use subset (sliced data) of np.ndarray is not recommended because it will generate extra copies and increase memory consumption\n",
      "  \"because it will generate extra copies and increase \" +\n"
     ]
    },
    {
     "name": "stdout",
     "output_type": "stream",
     "text": [
      "test y shape : (17520, 1)\n",
      "Inv y shape : (17520, 91)\n",
      "y pred shape : (17520, 1)\n",
      "inv y pred : (17520, 91)\n",
      "Run 6 Mean Absolute Error: 0.16825321437182775\n",
      "RMSE: 0.241\n",
      "R^2: 1.000\n",
      "[['node_19_pressure', 'node_2_pressure', 'node_16_demand', 'node_23_demand', 'link_21_flow']]\n",
      "starting df shape: (87600, 91)\n",
      "This is training run 7 and has the shape:  (87600, 91)\n",
      "The value of dropped columns is 5\n"
     ]
    },
    {
     "name": "stderr",
     "output_type": "stream",
     "text": [
      "/Users/alexellard/opt/anaconda3/lib/python3.7/site-packages/xgboost/data.py:96: UserWarning: Use subset (sliced data) of np.ndarray is not recommended because it will generate extra copies and increase memory consumption\n",
      "  \"because it will generate extra copies and increase \" +\n"
     ]
    },
    {
     "name": "stdout",
     "output_type": "stream",
     "text": [
      "test y shape : (17520, 1)\n",
      "Inv y shape : (17520, 91)\n"
     ]
    },
    {
     "name": "stderr",
     "output_type": "stream",
     "text": [
      "/Users/alexellard/opt/anaconda3/lib/python3.7/site-packages/xgboost/data.py:96: UserWarning: Use subset (sliced data) of np.ndarray is not recommended because it will generate extra copies and increase memory consumption\n",
      "  \"because it will generate extra copies and increase \" +\n"
     ]
    },
    {
     "name": "stdout",
     "output_type": "stream",
     "text": [
      "test y shape : (17520, 1)\n",
      "Inv y shape : (17520, 91)\n",
      "y pred shape : (17520, 1)\n",
      "inv y pred : (17520, 91)\n",
      "Run 7 Mean Absolute Error: 3.170550681500926\n",
      "RMSE: 4.479\n",
      "R^2: 1.000\n",
      "[['node_30_pressure', 'node_27_pressure', 'node_16_pressure', 'node_1_pressure', 'link_29_flow']]\n",
      "starting df shape: (87600, 91)\n",
      "This is training run 8 and has the shape:  (87600, 91)\n",
      "The value of dropped columns is 5\n"
     ]
    },
    {
     "name": "stderr",
     "output_type": "stream",
     "text": [
      "/Users/alexellard/opt/anaconda3/lib/python3.7/site-packages/xgboost/data.py:96: UserWarning: Use subset (sliced data) of np.ndarray is not recommended because it will generate extra copies and increase memory consumption\n",
      "  \"because it will generate extra copies and increase \" +\n"
     ]
    },
    {
     "name": "stdout",
     "output_type": "stream",
     "text": [
      "test y shape : (17520, 1)\n",
      "Inv y shape : (17520, 91)\n"
     ]
    },
    {
     "name": "stderr",
     "output_type": "stream",
     "text": [
      "/Users/alexellard/opt/anaconda3/lib/python3.7/site-packages/xgboost/data.py:96: UserWarning: Use subset (sliced data) of np.ndarray is not recommended because it will generate extra copies and increase memory consumption\n",
      "  \"because it will generate extra copies and increase \" +\n"
     ]
    },
    {
     "name": "stdout",
     "output_type": "stream",
     "text": [
      "test y shape : (17520, 1)\n",
      "Inv y shape : (17520, 91)\n",
      "y pred shape : (17520, 1)\n",
      "inv y pred : (17520, 91)\n",
      "Run 8 Mean Absolute Error: 4.127425334277181\n",
      "RMSE: 5.671\n",
      "R^2: 1.000\n",
      "[['node_1_pressure', 'link_26_flow', 'node_15_pressure', 'link_32_flow', 'link_3_flow']]\n",
      "starting df shape: (87600, 91)\n",
      "This is training run 9 and has the shape:  (87600, 91)\n",
      "The value of dropped columns is 5\n"
     ]
    },
    {
     "name": "stderr",
     "output_type": "stream",
     "text": [
      "/Users/alexellard/opt/anaconda3/lib/python3.7/site-packages/xgboost/data.py:96: UserWarning: Use subset (sliced data) of np.ndarray is not recommended because it will generate extra copies and increase memory consumption\n",
      "  \"because it will generate extra copies and increase \" +\n"
     ]
    },
    {
     "name": "stdout",
     "output_type": "stream",
     "text": [
      "test y shape : (17520, 1)\n",
      "Inv y shape : (17520, 91)\n"
     ]
    },
    {
     "name": "stderr",
     "output_type": "stream",
     "text": [
      "/Users/alexellard/opt/anaconda3/lib/python3.7/site-packages/xgboost/data.py:96: UserWarning: Use subset (sliced data) of np.ndarray is not recommended because it will generate extra copies and increase memory consumption\n",
      "  \"because it will generate extra copies and increase \" +\n"
     ]
    },
    {
     "name": "stdout",
     "output_type": "stream",
     "text": [
      "test y shape : (17520, 1)\n",
      "Inv y shape : (17520, 91)\n",
      "y pred shape : (17520, 1)\n",
      "inv y pred : (17520, 91)\n",
      "Run 9 Mean Absolute Error: 2.758656203457769\n",
      "RMSE: 3.943\n",
      "R^2: 1.000\n",
      "[['link_30_flow', 'node_22_demand', 'link_2_flow', 'node_19_pressure', 'link_16_flow']]\n",
      "starting df shape: (87600, 91)\n",
      "This is training run 10 and has the shape:  (87600, 91)\n",
      "The value of dropped columns is 5\n"
     ]
    },
    {
     "name": "stderr",
     "output_type": "stream",
     "text": [
      "/Users/alexellard/opt/anaconda3/lib/python3.7/site-packages/xgboost/data.py:96: UserWarning: Use subset (sliced data) of np.ndarray is not recommended because it will generate extra copies and increase memory consumption\n",
      "  \"because it will generate extra copies and increase \" +\n"
     ]
    },
    {
     "name": "stdout",
     "output_type": "stream",
     "text": [
      "test y shape : (17520, 1)\n",
      "Inv y shape : (17520, 91)\n"
     ]
    },
    {
     "name": "stderr",
     "output_type": "stream",
     "text": [
      "/Users/alexellard/opt/anaconda3/lib/python3.7/site-packages/xgboost/data.py:96: UserWarning: Use subset (sliced data) of np.ndarray is not recommended because it will generate extra copies and increase memory consumption\n",
      "  \"because it will generate extra copies and increase \" +\n"
     ]
    },
    {
     "name": "stdout",
     "output_type": "stream",
     "text": [
      "test y shape : (17520, 1)\n",
      "Inv y shape : (17520, 91)\n",
      "y pred shape : (17520, 1)\n",
      "inv y pred : (17520, 91)\n",
      "Run 10 Mean Absolute Error: 2.819444349969588\n",
      "RMSE: 3.988\n",
      "R^2: 1.000\n",
      "[['node_10_demand', 'node_1_demand', 'node_8_demand', 'node_3_demand', 'link_8_flow', 'node_2_pressure', 'node_19_demand', 'link_3_flow', 'link_17_flow', 'link_30_flow']]\n",
      "starting df shape: (87600, 86)\n",
      "This is training run 1 and has the shape:  (87600, 86)\n",
      "The value of dropped columns is 10\n"
     ]
    },
    {
     "name": "stderr",
     "output_type": "stream",
     "text": [
      "/Users/alexellard/opt/anaconda3/lib/python3.7/site-packages/xgboost/data.py:96: UserWarning: Use subset (sliced data) of np.ndarray is not recommended because it will generate extra copies and increase memory consumption\n",
      "  \"because it will generate extra copies and increase \" +\n"
     ]
    },
    {
     "name": "stdout",
     "output_type": "stream",
     "text": [
      "test y shape : (17520, 1)\n",
      "Inv y shape : (17520, 86)\n"
     ]
    },
    {
     "name": "stderr",
     "output_type": "stream",
     "text": [
      "/Users/alexellard/opt/anaconda3/lib/python3.7/site-packages/xgboost/data.py:96: UserWarning: Use subset (sliced data) of np.ndarray is not recommended because it will generate extra copies and increase memory consumption\n",
      "  \"because it will generate extra copies and increase \" +\n"
     ]
    },
    {
     "name": "stdout",
     "output_type": "stream",
     "text": [
      "test y shape : (17520, 1)\n",
      "Inv y shape : (17520, 86)\n",
      "y pred shape : (17520, 1)\n",
      "inv y pred : (17520, 86)\n",
      "Run 1 Mean Absolute Error: 3.371113372965459\n",
      "RMSE: 4.787\n",
      "R^2: 1.000\n",
      "[['reservoir_demand', 'link_24_flow', 'node_12_pressure', 'link_31_flow', 'link_16_flow', 'node_23_pressure', 'node_8_pressure', 'node_18_pressure', 'node_13_demand', 'node_10_pressure']]\n",
      "starting df shape: (87600, 86)\n",
      "This is training run 2 and has the shape:  (87600, 86)\n",
      "The value of dropped columns is 10\n"
     ]
    },
    {
     "name": "stderr",
     "output_type": "stream",
     "text": [
      "/Users/alexellard/opt/anaconda3/lib/python3.7/site-packages/xgboost/data.py:96: UserWarning: Use subset (sliced data) of np.ndarray is not recommended because it will generate extra copies and increase memory consumption\n",
      "  \"because it will generate extra copies and increase \" +\n"
     ]
    },
    {
     "name": "stdout",
     "output_type": "stream",
     "text": [
      "test y shape : (17520, 1)\n",
      "Inv y shape : (17520, 86)\n"
     ]
    },
    {
     "name": "stderr",
     "output_type": "stream",
     "text": [
      "/Users/alexellard/opt/anaconda3/lib/python3.7/site-packages/xgboost/data.py:96: UserWarning: Use subset (sliced data) of np.ndarray is not recommended because it will generate extra copies and increase memory consumption\n",
      "  \"because it will generate extra copies and increase \" +\n"
     ]
    },
    {
     "name": "stdout",
     "output_type": "stream",
     "text": [
      "test y shape : (17520, 1)\n",
      "Inv y shape : (17520, 86)\n",
      "y pred shape : (17520, 1)\n",
      "inv y pred : (17520, 86)\n",
      "Run 2 Mean Absolute Error: 0.19363287193247264\n",
      "RMSE: 0.284\n",
      "R^2: 1.000\n",
      "[['node_15_pressure', 'node_25_demand', 'node_2_pressure', 'link_18_flow', 'node_26_pressure', 'node_12_pressure', 'node_20_demand', 'link_27_flow', 'node_5_demand', 'node_17_demand']]\n",
      "starting df shape: (87600, 86)\n",
      "This is training run 3 and has the shape:  (87600, 86)\n",
      "The value of dropped columns is 10\n"
     ]
    },
    {
     "name": "stderr",
     "output_type": "stream",
     "text": [
      "/Users/alexellard/opt/anaconda3/lib/python3.7/site-packages/xgboost/data.py:96: UserWarning: Use subset (sliced data) of np.ndarray is not recommended because it will generate extra copies and increase memory consumption\n",
      "  \"because it will generate extra copies and increase \" +\n"
     ]
    },
    {
     "name": "stdout",
     "output_type": "stream",
     "text": [
      "test y shape : (17520, 1)\n",
      "Inv y shape : (17520, 86)\n"
     ]
    },
    {
     "name": "stderr",
     "output_type": "stream",
     "text": [
      "/Users/alexellard/opt/anaconda3/lib/python3.7/site-packages/xgboost/data.py:96: UserWarning: Use subset (sliced data) of np.ndarray is not recommended because it will generate extra copies and increase memory consumption\n",
      "  \"because it will generate extra copies and increase \" +\n"
     ]
    },
    {
     "name": "stdout",
     "output_type": "stream",
     "text": [
      "test y shape : (17520, 1)\n",
      "Inv y shape : (17520, 86)\n",
      "y pred shape : (17520, 1)\n",
      "inv y pred : (17520, 86)\n",
      "Run 3 Mean Absolute Error: 2.993645450479258\n",
      "RMSE: 4.259\n",
      "R^2: 1.000\n",
      "[['node_8_demand', 'node_17_pressure', 'node_28_pressure', 'node_25_pressure', 'node_11_demand', 'link_27_flow', 'link_31_flow', 'node_19_demand', 'node_12_pressure', 'node_27_demand']]\n",
      "starting df shape: (87600, 86)\n",
      "This is training run 4 and has the shape:  (87600, 86)\n",
      "The value of dropped columns is 10\n"
     ]
    },
    {
     "name": "stderr",
     "output_type": "stream",
     "text": [
      "/Users/alexellard/opt/anaconda3/lib/python3.7/site-packages/xgboost/data.py:96: UserWarning: Use subset (sliced data) of np.ndarray is not recommended because it will generate extra copies and increase memory consumption\n",
      "  \"because it will generate extra copies and increase \" +\n"
     ]
    },
    {
     "name": "stdout",
     "output_type": "stream",
     "text": [
      "test y shape : (17520, 1)\n",
      "Inv y shape : (17520, 86)\n"
     ]
    },
    {
     "name": "stderr",
     "output_type": "stream",
     "text": [
      "/Users/alexellard/opt/anaconda3/lib/python3.7/site-packages/xgboost/data.py:96: UserWarning: Use subset (sliced data) of np.ndarray is not recommended because it will generate extra copies and increase memory consumption\n",
      "  \"because it will generate extra copies and increase \" +\n"
     ]
    },
    {
     "name": "stdout",
     "output_type": "stream",
     "text": [
      "test y shape : (17520, 1)\n",
      "Inv y shape : (17520, 86)\n",
      "y pred shape : (17520, 1)\n",
      "inv y pred : (17520, 86)\n",
      "Run 4 Mean Absolute Error: 3.3072865468487556\n",
      "RMSE: 4.525\n",
      "R^2: 1.000\n",
      "[['reservoir_pressure', 'node_12_demand', 'node_26_pressure', 'link_22_flow', 'node_9_demand', 'node_15_pressure', 'node_9_pressure', 'node_10_pressure', 'link_14_flow', 'node_20_pressure']]\n",
      "starting df shape: (87600, 86)\n",
      "This is training run 5 and has the shape:  (87600, 86)\n",
      "The value of dropped columns is 10\n"
     ]
    },
    {
     "name": "stderr",
     "output_type": "stream",
     "text": [
      "/Users/alexellard/opt/anaconda3/lib/python3.7/site-packages/xgboost/data.py:96: UserWarning: Use subset (sliced data) of np.ndarray is not recommended because it will generate extra copies and increase memory consumption\n",
      "  \"because it will generate extra copies and increase \" +\n"
     ]
    },
    {
     "name": "stdout",
     "output_type": "stream",
     "text": [
      "test y shape : (17520, 1)\n",
      "Inv y shape : (17520, 86)\n"
     ]
    },
    {
     "name": "stderr",
     "output_type": "stream",
     "text": [
      "/Users/alexellard/opt/anaconda3/lib/python3.7/site-packages/xgboost/data.py:96: UserWarning: Use subset (sliced data) of np.ndarray is not recommended because it will generate extra copies and increase memory consumption\n",
      "  \"because it will generate extra copies and increase \" +\n"
     ]
    },
    {
     "name": "stdout",
     "output_type": "stream",
     "text": [
      "test y shape : (17520, 1)\n",
      "Inv y shape : (17520, 86)\n",
      "y pred shape : (17520, 1)\n",
      "inv y pred : (17520, 86)\n",
      "Run 5 Mean Absolute Error: 2.993803781644613\n",
      "RMSE: 4.271\n",
      "R^2: 1.000\n",
      "[['link_14_flow', 'node_27_demand', 'node_13_pressure', 'link_28_flow', 'node_20_demand', 'node_17_pressure', 'node_7_demand', 'node_11_pressure', 'node_28_demand', 'link_3_flow']]\n",
      "starting df shape: (87600, 86)\n",
      "This is training run 6 and has the shape:  (87600, 86)\n",
      "The value of dropped columns is 10\n"
     ]
    },
    {
     "name": "stderr",
     "output_type": "stream",
     "text": [
      "/Users/alexellard/opt/anaconda3/lib/python3.7/site-packages/xgboost/data.py:96: UserWarning: Use subset (sliced data) of np.ndarray is not recommended because it will generate extra copies and increase memory consumption\n",
      "  \"because it will generate extra copies and increase \" +\n"
     ]
    },
    {
     "name": "stdout",
     "output_type": "stream",
     "text": [
      "test y shape : (17520, 1)\n",
      "Inv y shape : (17520, 86)\n"
     ]
    },
    {
     "name": "stderr",
     "output_type": "stream",
     "text": [
      "/Users/alexellard/opt/anaconda3/lib/python3.7/site-packages/xgboost/data.py:96: UserWarning: Use subset (sliced data) of np.ndarray is not recommended because it will generate extra copies and increase memory consumption\n",
      "  \"because it will generate extra copies and increase \" +\n"
     ]
    },
    {
     "name": "stdout",
     "output_type": "stream",
     "text": [
      "test y shape : (17520, 1)\n",
      "Inv y shape : (17520, 86)\n",
      "y pred shape : (17520, 1)\n",
      "inv y pred : (17520, 86)\n",
      "Run 6 Mean Absolute Error: 3.153662140569265\n",
      "RMSE: 4.617\n",
      "R^2: 1.000\n",
      "[['link_22_flow', 'node_28_pressure', 'node_22_demand', 'node_30_demand', 'link_7_flow', 'link_15_flow', 'link_16_flow', 'link_24_flow', 'link_25_flow', 'node_12_demand']]\n",
      "starting df shape: (87600, 86)\n",
      "This is training run 7 and has the shape:  (87600, 86)\n",
      "The value of dropped columns is 10\n"
     ]
    },
    {
     "name": "stderr",
     "output_type": "stream",
     "text": [
      "/Users/alexellard/opt/anaconda3/lib/python3.7/site-packages/xgboost/data.py:96: UserWarning: Use subset (sliced data) of np.ndarray is not recommended because it will generate extra copies and increase memory consumption\n",
      "  \"because it will generate extra copies and increase \" +\n"
     ]
    },
    {
     "name": "stdout",
     "output_type": "stream",
     "text": [
      "test y shape : (17520, 1)\n",
      "Inv y shape : (17520, 86)\n"
     ]
    },
    {
     "name": "stderr",
     "output_type": "stream",
     "text": [
      "/Users/alexellard/opt/anaconda3/lib/python3.7/site-packages/xgboost/data.py:96: UserWarning: Use subset (sliced data) of np.ndarray is not recommended because it will generate extra copies and increase memory consumption\n",
      "  \"because it will generate extra copies and increase \" +\n"
     ]
    },
    {
     "name": "stdout",
     "output_type": "stream",
     "text": [
      "test y shape : (17520, 1)\n",
      "Inv y shape : (17520, 86)\n",
      "y pred shape : (17520, 1)\n",
      "inv y pred : (17520, 86)\n",
      "Run 7 Mean Absolute Error: 3.313474909764554\n",
      "RMSE: 4.657\n",
      "R^2: 1.000\n",
      "[['node_31_pressure', 'link_3_flow', 'node_19_pressure', 'link_27_flow', 'node_28_demand', 'link_11_flow', 'node_1_demand', 'link_24_flow', 'node_22_demand', 'node_28_pressure']]\n",
      "starting df shape: (87600, 86)\n",
      "This is training run 8 and has the shape:  (87600, 86)\n",
      "The value of dropped columns is 10\n"
     ]
    },
    {
     "name": "stderr",
     "output_type": "stream",
     "text": [
      "/Users/alexellard/opt/anaconda3/lib/python3.7/site-packages/xgboost/data.py:96: UserWarning: Use subset (sliced data) of np.ndarray is not recommended because it will generate extra copies and increase memory consumption\n",
      "  \"because it will generate extra copies and increase \" +\n"
     ]
    },
    {
     "name": "stdout",
     "output_type": "stream",
     "text": [
      "test y shape : (17520, 1)\n",
      "Inv y shape : (17520, 86)\n"
     ]
    },
    {
     "name": "stderr",
     "output_type": "stream",
     "text": [
      "/Users/alexellard/opt/anaconda3/lib/python3.7/site-packages/xgboost/data.py:96: UserWarning: Use subset (sliced data) of np.ndarray is not recommended because it will generate extra copies and increase memory consumption\n",
      "  \"because it will generate extra copies and increase \" +\n"
     ]
    },
    {
     "name": "stdout",
     "output_type": "stream",
     "text": [
      "test y shape : (17520, 1)\n",
      "Inv y shape : (17520, 86)\n",
      "y pred shape : (17520, 1)\n",
      "inv y pred : (17520, 86)\n",
      "Run 8 Mean Absolute Error: 3.765398949098878\n",
      "RMSE: 5.201\n",
      "R^2: 1.000\n",
      "[['link_5_flow', 'node_8_demand', 'node_24_pressure', 'link_23_flow', 'node_7_pressure', 'node_11_demand', 'node_16_pressure', 'node_2_demand', 'link_3_flow', 'node_30_demand']]\n",
      "starting df shape: (87600, 86)\n",
      "This is training run 9 and has the shape:  (87600, 86)\n",
      "The value of dropped columns is 10\n"
     ]
    },
    {
     "name": "stderr",
     "output_type": "stream",
     "text": [
      "/Users/alexellard/opt/anaconda3/lib/python3.7/site-packages/xgboost/data.py:96: UserWarning: Use subset (sliced data) of np.ndarray is not recommended because it will generate extra copies and increase memory consumption\n",
      "  \"because it will generate extra copies and increase \" +\n"
     ]
    },
    {
     "name": "stdout",
     "output_type": "stream",
     "text": [
      "test y shape : (17520, 1)\n",
      "Inv y shape : (17520, 86)\n"
     ]
    },
    {
     "name": "stderr",
     "output_type": "stream",
     "text": [
      "/Users/alexellard/opt/anaconda3/lib/python3.7/site-packages/xgboost/data.py:96: UserWarning: Use subset (sliced data) of np.ndarray is not recommended because it will generate extra copies and increase memory consumption\n",
      "  \"because it will generate extra copies and increase \" +\n"
     ]
    },
    {
     "name": "stdout",
     "output_type": "stream",
     "text": [
      "test y shape : (17520, 1)\n",
      "Inv y shape : (17520, 86)\n",
      "y pred shape : (17520, 1)\n",
      "inv y pred : (17520, 86)\n",
      "Run 9 Mean Absolute Error: 3.208553808871412\n",
      "RMSE: 4.666\n",
      "R^2: 1.000\n",
      "[['node_11_demand', 'link_19_flow', 'node_8_pressure', 'link_29_flow', 'node_9_demand', 'link_1_flow', 'node_26_demand', 'node_29_demand', 'link_10_flow']]\n",
      "starting df shape: (87600, 87)\n",
      "This is training run 10 and has the shape:  (87600, 87)\n",
      "The value of dropped columns is 10\n"
     ]
    },
    {
     "name": "stderr",
     "output_type": "stream",
     "text": [
      "/Users/alexellard/opt/anaconda3/lib/python3.7/site-packages/xgboost/data.py:96: UserWarning: Use subset (sliced data) of np.ndarray is not recommended because it will generate extra copies and increase memory consumption\n",
      "  \"because it will generate extra copies and increase \" +\n"
     ]
    },
    {
     "name": "stdout",
     "output_type": "stream",
     "text": [
      "test y shape : (17520, 1)\n",
      "Inv y shape : (17520, 87)\n"
     ]
    },
    {
     "name": "stderr",
     "output_type": "stream",
     "text": [
      "/Users/alexellard/opt/anaconda3/lib/python3.7/site-packages/xgboost/data.py:96: UserWarning: Use subset (sliced data) of np.ndarray is not recommended because it will generate extra copies and increase memory consumption\n",
      "  \"because it will generate extra copies and increase \" +\n"
     ]
    },
    {
     "name": "stdout",
     "output_type": "stream",
     "text": [
      "test y shape : (17520, 1)\n",
      "Inv y shape : (17520, 87)\n",
      "y pred shape : (17520, 1)\n",
      "inv y pred : (17520, 87)\n",
      "Run 10 Mean Absolute Error: 2.895926623012544\n",
      "RMSE: 4.129\n",
      "R^2: 1.000\n",
      "[['link_6_flow', 'node_16_demand', 'node_24_demand', 'link_25_flow', 'link_3_flow', 'node_15_demand', 'node_12_pressure', 'node_8_pressure', 'node_18_pressure', 'node_14_demand', 'node_30_demand', 'node_23_demand', 'node_21_pressure', 'node_31_pressure', 'node_13_pressure']]\n",
      "starting df shape: (87600, 81)\n",
      "This is training run 1 and has the shape:  (87600, 81)\n",
      "The value of dropped columns is 15\n"
     ]
    },
    {
     "name": "stderr",
     "output_type": "stream",
     "text": [
      "/Users/alexellard/opt/anaconda3/lib/python3.7/site-packages/xgboost/data.py:96: UserWarning: Use subset (sliced data) of np.ndarray is not recommended because it will generate extra copies and increase memory consumption\n",
      "  \"because it will generate extra copies and increase \" +\n"
     ]
    },
    {
     "name": "stdout",
     "output_type": "stream",
     "text": [
      "test y shape : (17520, 1)\n",
      "Inv y shape : (17520, 81)\n"
     ]
    },
    {
     "name": "stderr",
     "output_type": "stream",
     "text": [
      "/Users/alexellard/opt/anaconda3/lib/python3.7/site-packages/xgboost/data.py:96: UserWarning: Use subset (sliced data) of np.ndarray is not recommended because it will generate extra copies and increase memory consumption\n",
      "  \"because it will generate extra copies and increase \" +\n"
     ]
    },
    {
     "name": "stdout",
     "output_type": "stream",
     "text": [
      "test y shape : (17520, 1)\n",
      "Inv y shape : (17520, 81)\n",
      "y pred shape : (17520, 1)\n",
      "inv y pred : (17520, 81)\n",
      "Run 1 Mean Absolute Error: 3.0435230143377545\n",
      "RMSE: 4.262\n",
      "R^2: 1.000\n",
      "[['node_3_demand', 'link_8_flow', 'reservoir_demand', 'link_17_flow', 'link_25_flow', 'node_27_demand', 'node_12_demand', 'node_13_pressure', 'link_26_flow', 'node_8_demand', 'node_26_pressure', 'link_11_flow', 'node_7_demand', 'node_18_pressure']]\n",
      "starting df shape: (87600, 82)\n",
      "This is training run 2 and has the shape:  (87600, 82)\n",
      "The value of dropped columns is 15\n"
     ]
    },
    {
     "name": "stderr",
     "output_type": "stream",
     "text": [
      "/Users/alexellard/opt/anaconda3/lib/python3.7/site-packages/xgboost/data.py:96: UserWarning: Use subset (sliced data) of np.ndarray is not recommended because it will generate extra copies and increase memory consumption\n",
      "  \"because it will generate extra copies and increase \" +\n"
     ]
    },
    {
     "name": "stdout",
     "output_type": "stream",
     "text": [
      "test y shape : (17520, 1)\n",
      "Inv y shape : (17520, 82)\n"
     ]
    },
    {
     "name": "stderr",
     "output_type": "stream",
     "text": [
      "/Users/alexellard/opt/anaconda3/lib/python3.7/site-packages/xgboost/data.py:96: UserWarning: Use subset (sliced data) of np.ndarray is not recommended because it will generate extra copies and increase memory consumption\n",
      "  \"because it will generate extra copies and increase \" +\n"
     ]
    },
    {
     "name": "stdout",
     "output_type": "stream",
     "text": [
      "test y shape : (17520, 1)\n",
      "Inv y shape : (17520, 82)\n",
      "y pred shape : (17520, 1)\n",
      "inv y pred : (17520, 82)\n",
      "Run 2 Mean Absolute Error: 0.16818475341796457\n",
      "RMSE: 0.245\n",
      "R^2: 1.000\n",
      "[['node_20_pressure', 'node_31_demand', 'node_3_demand', 'reservoir_pressure', 'node_10_pressure', 'node_14_demand', 'node_27_demand', 'link_21_flow', 'link_4_flow', 'node_5_pressure', 'node_22_pressure', 'node_7_demand', 'link_29_flow', 'link_30_flow', 'node_21_demand']]\n",
      "starting df shape: (87600, 81)\n",
      "This is training run 3 and has the shape:  (87600, 81)\n",
      "The value of dropped columns is 15\n"
     ]
    },
    {
     "name": "stderr",
     "output_type": "stream",
     "text": [
      "/Users/alexellard/opt/anaconda3/lib/python3.7/site-packages/xgboost/data.py:96: UserWarning: Use subset (sliced data) of np.ndarray is not recommended because it will generate extra copies and increase memory consumption\n",
      "  \"because it will generate extra copies and increase \" +\n"
     ]
    },
    {
     "name": "stdout",
     "output_type": "stream",
     "text": [
      "test y shape : (17520, 1)\n",
      "Inv y shape : (17520, 81)\n"
     ]
    },
    {
     "name": "stderr",
     "output_type": "stream",
     "text": [
      "/Users/alexellard/opt/anaconda3/lib/python3.7/site-packages/xgboost/data.py:96: UserWarning: Use subset (sliced data) of np.ndarray is not recommended because it will generate extra copies and increase memory consumption\n",
      "  \"because it will generate extra copies and increase \" +\n"
     ]
    },
    {
     "name": "stdout",
     "output_type": "stream",
     "text": [
      "test y shape : (17520, 1)\n",
      "Inv y shape : (17520, 81)\n",
      "y pred shape : (17520, 1)\n",
      "inv y pred : (17520, 81)\n",
      "Run 3 Mean Absolute Error: 2.942811743718833\n",
      "RMSE: 4.187\n",
      "R^2: 1.000\n",
      "[['node_16_demand', 'node_30_demand', 'node_12_pressure', 'link_20_flow', 'node_11_demand', 'node_21_demand', 'node_26_demand', 'node_7_pressure', 'node_4_pressure', 'node_5_pressure', 'link_5_flow', 'link_26_flow', 'node_12_demand', 'node_3_demand']]\n",
      "starting df shape: (87600, 82)\n",
      "This is training run 4 and has the shape:  (87600, 82)\n",
      "The value of dropped columns is 15\n"
     ]
    },
    {
     "name": "stderr",
     "output_type": "stream",
     "text": [
      "/Users/alexellard/opt/anaconda3/lib/python3.7/site-packages/xgboost/data.py:96: UserWarning: Use subset (sliced data) of np.ndarray is not recommended because it will generate extra copies and increase memory consumption\n",
      "  \"because it will generate extra copies and increase \" +\n"
     ]
    },
    {
     "name": "stdout",
     "output_type": "stream",
     "text": [
      "test y shape : (17520, 1)\n",
      "Inv y shape : (17520, 82)\n"
     ]
    },
    {
     "name": "stderr",
     "output_type": "stream",
     "text": [
      "/Users/alexellard/opt/anaconda3/lib/python3.7/site-packages/xgboost/data.py:96: UserWarning: Use subset (sliced data) of np.ndarray is not recommended because it will generate extra copies and increase memory consumption\n",
      "  \"because it will generate extra copies and increase \" +\n"
     ]
    },
    {
     "name": "stdout",
     "output_type": "stream",
     "text": [
      "test y shape : (17520, 1)\n",
      "Inv y shape : (17520, 82)\n",
      "y pred shape : (17520, 1)\n",
      "inv y pred : (17520, 82)\n",
      "Run 4 Mean Absolute Error: 2.8324082061469222\n",
      "RMSE: 4.175\n",
      "R^2: 1.000\n",
      "[['node_12_demand', 'node_24_demand', 'node_13_pressure', 'link_12_flow', 'node_24_pressure', 'link_6_flow', 'node_15_demand', 'link_28_flow', 'node_2_demand', 'node_31_demand', 'node_25_pressure', 'node_23_demand', 'node_17_pressure', 'link_21_flow', 'node_7_demand']]\n",
      "starting df shape: (87600, 81)\n",
      "This is training run 5 and has the shape:  (87600, 81)\n",
      "The value of dropped columns is 15\n"
     ]
    },
    {
     "name": "stderr",
     "output_type": "stream",
     "text": [
      "/Users/alexellard/opt/anaconda3/lib/python3.7/site-packages/xgboost/data.py:96: UserWarning: Use subset (sliced data) of np.ndarray is not recommended because it will generate extra copies and increase memory consumption\n",
      "  \"because it will generate extra copies and increase \" +\n"
     ]
    },
    {
     "name": "stdout",
     "output_type": "stream",
     "text": [
      "test y shape : (17520, 1)\n",
      "Inv y shape : (17520, 81)\n"
     ]
    },
    {
     "name": "stderr",
     "output_type": "stream",
     "text": [
      "/Users/alexellard/opt/anaconda3/lib/python3.7/site-packages/xgboost/data.py:96: UserWarning: Use subset (sliced data) of np.ndarray is not recommended because it will generate extra copies and increase memory consumption\n",
      "  \"because it will generate extra copies and increase \" +\n"
     ]
    },
    {
     "name": "stdout",
     "output_type": "stream",
     "text": [
      "test y shape : (17520, 1)\n",
      "Inv y shape : (17520, 81)\n",
      "y pred shape : (17520, 1)\n",
      "inv y pred : (17520, 81)\n",
      "Run 5 Mean Absolute Error: 2.848291086837965\n",
      "RMSE: 4.076\n",
      "R^2: 1.000\n",
      "[['node_27_pressure', 'node_4_pressure', 'node_18_demand', 'link_25_flow', 'node_24_demand', 'node_2_pressure', 'node_6_pressure', 'node_12_pressure', 'node_1_pressure', 'node_10_pressure', 'node_14_demand', 'link_18_flow', 'node_13_pressure', 'node_20_pressure', 'node_24_pressure']]\n",
      "starting df shape: (87600, 81)\n",
      "This is training run 6 and has the shape:  (87600, 81)\n",
      "The value of dropped columns is 15\n"
     ]
    },
    {
     "name": "stderr",
     "output_type": "stream",
     "text": [
      "/Users/alexellard/opt/anaconda3/lib/python3.7/site-packages/xgboost/data.py:96: UserWarning: Use subset (sliced data) of np.ndarray is not recommended because it will generate extra copies and increase memory consumption\n",
      "  \"because it will generate extra copies and increase \" +\n"
     ]
    },
    {
     "name": "stdout",
     "output_type": "stream",
     "text": [
      "test y shape : (17520, 1)\n",
      "Inv y shape : (17520, 81)\n"
     ]
    },
    {
     "name": "stderr",
     "output_type": "stream",
     "text": [
      "/Users/alexellard/opt/anaconda3/lib/python3.7/site-packages/xgboost/data.py:96: UserWarning: Use subset (sliced data) of np.ndarray is not recommended because it will generate extra copies and increase memory consumption\n",
      "  \"because it will generate extra copies and increase \" +\n"
     ]
    },
    {
     "name": "stdout",
     "output_type": "stream",
     "text": [
      "test y shape : (17520, 1)\n",
      "Inv y shape : (17520, 81)\n",
      "y pred shape : (17520, 1)\n",
      "inv y pred : (17520, 81)\n",
      "Run 6 Mean Absolute Error: 2.715213480354837\n",
      "RMSE: 3.901\n",
      "R^2: 1.000\n",
      "[['node_8_pressure', 'link_14_flow', 'link_7_flow', 'node_24_pressure', 'node_12_demand', 'link_20_flow', 'link_11_flow', 'link_12_flow', 'link_32_flow', 'link_13_flow', 'node_4_demand', 'node_29_demand', 'node_27_pressure', 'node_17_demand']]\n",
      "starting df shape: (87600, 82)\n",
      "This is training run 7 and has the shape:  (87600, 82)\n",
      "The value of dropped columns is 15\n"
     ]
    },
    {
     "name": "stderr",
     "output_type": "stream",
     "text": [
      "/Users/alexellard/opt/anaconda3/lib/python3.7/site-packages/xgboost/data.py:96: UserWarning: Use subset (sliced data) of np.ndarray is not recommended because it will generate extra copies and increase memory consumption\n",
      "  \"because it will generate extra copies and increase \" +\n"
     ]
    },
    {
     "name": "stdout",
     "output_type": "stream",
     "text": [
      "test y shape : (17520, 1)\n",
      "Inv y shape : (17520, 82)\n"
     ]
    },
    {
     "name": "stderr",
     "output_type": "stream",
     "text": [
      "/Users/alexellard/opt/anaconda3/lib/python3.7/site-packages/xgboost/data.py:96: UserWarning: Use subset (sliced data) of np.ndarray is not recommended because it will generate extra copies and increase memory consumption\n",
      "  \"because it will generate extra copies and increase \" +\n"
     ]
    },
    {
     "name": "stdout",
     "output_type": "stream",
     "text": [
      "test y shape : (17520, 1)\n",
      "Inv y shape : (17520, 82)\n",
      "y pred shape : (17520, 1)\n",
      "inv y pred : (17520, 82)\n",
      "Run 7 Mean Absolute Error: 3.327213454694209\n",
      "RMSE: 4.864\n",
      "R^2: 1.000\n",
      "[['node_28_pressure', 'link_25_flow', 'node_21_demand', 'link_23_flow', 'node_2_pressure', 'node_13_demand', 'node_27_demand', 'node_13_pressure', 'node_5_demand', 'node_29_demand', 'node_21_pressure', 'node_4_pressure', 'link_18_flow', 'node_14_pressure']]\n",
      "starting df shape: (87600, 82)\n",
      "This is training run 8 and has the shape:  (87600, 82)\n",
      "The value of dropped columns is 15\n"
     ]
    },
    {
     "name": "stderr",
     "output_type": "stream",
     "text": [
      "/Users/alexellard/opt/anaconda3/lib/python3.7/site-packages/xgboost/data.py:96: UserWarning: Use subset (sliced data) of np.ndarray is not recommended because it will generate extra copies and increase memory consumption\n",
      "  \"because it will generate extra copies and increase \" +\n"
     ]
    },
    {
     "name": "stdout",
     "output_type": "stream",
     "text": [
      "test y shape : (17520, 1)\n",
      "Inv y shape : (17520, 82)\n"
     ]
    },
    {
     "name": "stderr",
     "output_type": "stream",
     "text": [
      "/Users/alexellard/opt/anaconda3/lib/python3.7/site-packages/xgboost/data.py:96: UserWarning: Use subset (sliced data) of np.ndarray is not recommended because it will generate extra copies and increase memory consumption\n",
      "  \"because it will generate extra copies and increase \" +\n"
     ]
    },
    {
     "name": "stdout",
     "output_type": "stream",
     "text": [
      "test y shape : (17520, 1)\n",
      "Inv y shape : (17520, 82)\n",
      "y pred shape : (17520, 1)\n",
      "inv y pred : (17520, 82)\n",
      "Run 8 Mean Absolute Error: 3.0024824261376484\n",
      "RMSE: 4.273\n",
      "R^2: 1.000\n",
      "[['link_11_flow', 'link_22_flow', 'node_8_demand', 'node_10_demand', 'link_30_flow', 'link_10_flow', 'node_17_pressure', 'link_21_flow', 'node_18_demand', 'node_26_demand', 'node_31_pressure', 'node_31_demand', 'node_5_pressure', 'link_26_flow']]\n",
      "starting df shape: (87600, 82)\n",
      "This is training run 9 and has the shape:  (87600, 82)\n",
      "The value of dropped columns is 15\n"
     ]
    },
    {
     "name": "stderr",
     "output_type": "stream",
     "text": [
      "/Users/alexellard/opt/anaconda3/lib/python3.7/site-packages/xgboost/data.py:96: UserWarning: Use subset (sliced data) of np.ndarray is not recommended because it will generate extra copies and increase memory consumption\n",
      "  \"because it will generate extra copies and increase \" +\n"
     ]
    },
    {
     "name": "stdout",
     "output_type": "stream",
     "text": [
      "test y shape : (17520, 1)\n",
      "Inv y shape : (17520, 82)\n"
     ]
    },
    {
     "name": "stderr",
     "output_type": "stream",
     "text": [
      "/Users/alexellard/opt/anaconda3/lib/python3.7/site-packages/xgboost/data.py:96: UserWarning: Use subset (sliced data) of np.ndarray is not recommended because it will generate extra copies and increase memory consumption\n",
      "  \"because it will generate extra copies and increase \" +\n"
     ]
    },
    {
     "name": "stdout",
     "output_type": "stream",
     "text": [
      "test y shape : (17520, 1)\n",
      "Inv y shape : (17520, 82)\n",
      "y pred shape : (17520, 1)\n",
      "inv y pred : (17520, 82)\n",
      "Run 9 Mean Absolute Error: 3.621946693376064\n",
      "RMSE: 5.225\n",
      "R^2: 1.000\n",
      "[['node_23_demand', 'node_22_demand', 'link_25_flow', 'link_30_flow', 'node_1_demand', 'node_2_demand', 'link_11_flow', 'link_20_flow', 'node_8_pressure', 'node_11_demand', 'node_13_pressure', 'node_16_demand', 'link_14_flow', 'node_3_demand', 'node_23_pressure']]\n",
      "starting df shape: (87600, 81)\n",
      "This is training run 10 and has the shape:  (87600, 81)\n",
      "The value of dropped columns is 15\n"
     ]
    },
    {
     "name": "stderr",
     "output_type": "stream",
     "text": [
      "/Users/alexellard/opt/anaconda3/lib/python3.7/site-packages/xgboost/data.py:96: UserWarning: Use subset (sliced data) of np.ndarray is not recommended because it will generate extra copies and increase memory consumption\n",
      "  \"because it will generate extra copies and increase \" +\n"
     ]
    },
    {
     "name": "stdout",
     "output_type": "stream",
     "text": [
      "test y shape : (17520, 1)\n",
      "Inv y shape : (17520, 81)\n"
     ]
    },
    {
     "name": "stderr",
     "output_type": "stream",
     "text": [
      "/Users/alexellard/opt/anaconda3/lib/python3.7/site-packages/xgboost/data.py:96: UserWarning: Use subset (sliced data) of np.ndarray is not recommended because it will generate extra copies and increase memory consumption\n",
      "  \"because it will generate extra copies and increase \" +\n"
     ]
    },
    {
     "name": "stdout",
     "output_type": "stream",
     "text": [
      "test y shape : (17520, 1)\n",
      "Inv y shape : (17520, 81)\n",
      "y pred shape : (17520, 1)\n",
      "inv y pred : (17520, 81)\n",
      "Run 10 Mean Absolute Error: 2.8403470128800468\n",
      "RMSE: 4.184\n",
      "R^2: 1.000\n",
      "[['link_1_flow', 'node_9_pressure', 'node_25_demand', 'link_19_flow', 'node_27_pressure', 'node_17_demand', 'node_3_demand', 'link_12_flow', 'link_18_flow', 'node_31_pressure', 'node_2_demand', 'node_22_demand', 'link_5_flow', 'node_8_pressure', 'reservoir_pressure', 'link_8_flow', 'link_7_flow', 'node_26_pressure', 'link_11_flow', 'node_25_pressure']]\n",
      "starting df shape: (87600, 76)\n",
      "This is training run 1 and has the shape:  (87600, 76)\n",
      "The value of dropped columns is 20\n"
     ]
    },
    {
     "name": "stderr",
     "output_type": "stream",
     "text": [
      "/Users/alexellard/opt/anaconda3/lib/python3.7/site-packages/xgboost/data.py:96: UserWarning: Use subset (sliced data) of np.ndarray is not recommended because it will generate extra copies and increase memory consumption\n",
      "  \"because it will generate extra copies and increase \" +\n"
     ]
    },
    {
     "name": "stdout",
     "output_type": "stream",
     "text": [
      "test y shape : (17520, 1)\n",
      "Inv y shape : (17520, 76)\n"
     ]
    },
    {
     "name": "stderr",
     "output_type": "stream",
     "text": [
      "/Users/alexellard/opt/anaconda3/lib/python3.7/site-packages/xgboost/data.py:96: UserWarning: Use subset (sliced data) of np.ndarray is not recommended because it will generate extra copies and increase memory consumption\n",
      "  \"because it will generate extra copies and increase \" +\n"
     ]
    },
    {
     "name": "stdout",
     "output_type": "stream",
     "text": [
      "test y shape : (17520, 1)\n",
      "Inv y shape : (17520, 76)\n",
      "y pred shape : (17520, 1)\n",
      "inv y pred : (17520, 76)\n",
      "Run 1 Mean Absolute Error: 2.673496207720841\n",
      "RMSE: 3.824\n",
      "R^2: 1.000\n",
      "[['node_9_demand', 'node_12_pressure', 'node_18_demand', 'node_20_pressure', 'node_28_demand', 'node_11_pressure', 'node_31_pressure', 'link_11_flow', 'link_13_flow', 'node_18_pressure', 'node_12_demand', 'node_24_demand', 'node_3_demand', 'link_9_flow', 'node_15_pressure', 'node_5_demand', 'node_26_pressure', 'node_8_demand', 'node_23_pressure', 'link_4_flow']]\n",
      "starting df shape: (87600, 76)\n",
      "This is training run 2 and has the shape:  (87600, 76)\n",
      "The value of dropped columns is 20\n"
     ]
    },
    {
     "name": "stderr",
     "output_type": "stream",
     "text": [
      "/Users/alexellard/opt/anaconda3/lib/python3.7/site-packages/xgboost/data.py:96: UserWarning: Use subset (sliced data) of np.ndarray is not recommended because it will generate extra copies and increase memory consumption\n",
      "  \"because it will generate extra copies and increase \" +\n"
     ]
    },
    {
     "name": "stdout",
     "output_type": "stream",
     "text": [
      "test y shape : (17520, 1)\n",
      "Inv y shape : (17520, 76)\n"
     ]
    },
    {
     "name": "stderr",
     "output_type": "stream",
     "text": [
      "/Users/alexellard/opt/anaconda3/lib/python3.7/site-packages/xgboost/data.py:96: UserWarning: Use subset (sliced data) of np.ndarray is not recommended because it will generate extra copies and increase memory consumption\n",
      "  \"because it will generate extra copies and increase \" +\n"
     ]
    },
    {
     "name": "stdout",
     "output_type": "stream",
     "text": [
      "test y shape : (17520, 1)\n",
      "Inv y shape : (17520, 76)\n",
      "y pred shape : (17520, 1)\n",
      "inv y pred : (17520, 76)\n",
      "Run 2 Mean Absolute Error: 3.0572814301941644\n",
      "RMSE: 4.378\n",
      "R^2: 1.000\n",
      "[['link_28_flow', 'link_13_flow', 'reservoir_demand', 'node_9_demand', 'node_17_demand', 'link_6_flow', 'node_8_pressure', 'link_19_flow', 'node_15_demand', 'node_29_demand', 'link_27_flow', 'node_8_demand', 'link_1_flow', 'node_2_pressure', 'node_12_demand', 'node_14_demand', 'link_15_flow', 'node_23_demand', 'node_25_pressure', 'node_7_demand']]\n",
      "starting df shape: (87600, 76)\n",
      "This is training run 3 and has the shape:  (87600, 76)\n",
      "The value of dropped columns is 20\n"
     ]
    },
    {
     "name": "stderr",
     "output_type": "stream",
     "text": [
      "/Users/alexellard/opt/anaconda3/lib/python3.7/site-packages/xgboost/data.py:96: UserWarning: Use subset (sliced data) of np.ndarray is not recommended because it will generate extra copies and increase memory consumption\n",
      "  \"because it will generate extra copies and increase \" +\n"
     ]
    },
    {
     "name": "stdout",
     "output_type": "stream",
     "text": [
      "test y shape : (17520, 1)\n",
      "Inv y shape : (17520, 76)\n"
     ]
    },
    {
     "name": "stderr",
     "output_type": "stream",
     "text": [
      "/Users/alexellard/opt/anaconda3/lib/python3.7/site-packages/xgboost/data.py:96: UserWarning: Use subset (sliced data) of np.ndarray is not recommended because it will generate extra copies and increase memory consumption\n",
      "  \"because it will generate extra copies and increase \" +\n"
     ]
    },
    {
     "name": "stdout",
     "output_type": "stream",
     "text": [
      "test y shape : (17520, 1)\n",
      "Inv y shape : (17520, 76)\n",
      "y pred shape : (17520, 1)\n",
      "inv y pred : (17520, 76)\n",
      "Run 3 Mean Absolute Error: 0.16681342750021502\n",
      "RMSE: 0.242\n",
      "R^2: 1.000\n",
      "[['link_16_flow', 'node_19_pressure', 'node_3_pressure', 'node_24_demand', 'node_12_demand', 'link_4_flow', 'node_20_demand', 'node_10_pressure', 'node_16_demand', 'link_10_flow', 'node_22_pressure', 'node_14_demand', 'link_24_flow', 'node_21_demand', 'node_18_demand', 'link_12_flow', 'node_18_pressure', 'link_26_flow', 'reservoir_pressure', 'node_28_demand']]\n",
      "starting df shape: (87600, 76)\n",
      "This is training run 4 and has the shape:  (87600, 76)\n",
      "The value of dropped columns is 20\n"
     ]
    },
    {
     "name": "stderr",
     "output_type": "stream",
     "text": [
      "/Users/alexellard/opt/anaconda3/lib/python3.7/site-packages/xgboost/data.py:96: UserWarning: Use subset (sliced data) of np.ndarray is not recommended because it will generate extra copies and increase memory consumption\n",
      "  \"because it will generate extra copies and increase \" +\n"
     ]
    },
    {
     "name": "stdout",
     "output_type": "stream",
     "text": [
      "test y shape : (17520, 1)\n",
      "Inv y shape : (17520, 76)\n"
     ]
    },
    {
     "name": "stderr",
     "output_type": "stream",
     "text": [
      "/Users/alexellard/opt/anaconda3/lib/python3.7/site-packages/xgboost/data.py:96: UserWarning: Use subset (sliced data) of np.ndarray is not recommended because it will generate extra copies and increase memory consumption\n",
      "  \"because it will generate extra copies and increase \" +\n"
     ]
    },
    {
     "name": "stdout",
     "output_type": "stream",
     "text": [
      "test y shape : (17520, 1)\n",
      "Inv y shape : (17520, 76)\n",
      "y pred shape : (17520, 1)\n",
      "inv y pred : (17520, 76)\n",
      "Run 4 Mean Absolute Error: 3.126277921052479\n",
      "RMSE: 4.487\n",
      "R^2: 1.000\n",
      "[['node_24_demand', 'link_16_flow', 'node_30_demand', 'link_32_flow', 'node_9_demand', 'node_18_pressure', 'node_11_pressure', 'node_3_pressure', 'node_12_pressure', 'link_17_flow', 'node_22_demand', 'node_26_demand', 'link_1_flow', 'node_4_demand', 'node_14_demand', 'node_13_demand', 'node_6_pressure', 'link_29_flow', 'node_6_demand', 'node_11_demand']]\n",
      "starting df shape: (87600, 76)\n",
      "This is training run 5 and has the shape:  (87600, 76)\n",
      "The value of dropped columns is 20\n"
     ]
    },
    {
     "name": "stderr",
     "output_type": "stream",
     "text": [
      "/Users/alexellard/opt/anaconda3/lib/python3.7/site-packages/xgboost/data.py:96: UserWarning: Use subset (sliced data) of np.ndarray is not recommended because it will generate extra copies and increase memory consumption\n",
      "  \"because it will generate extra copies and increase \" +\n"
     ]
    },
    {
     "name": "stdout",
     "output_type": "stream",
     "text": [
      "test y shape : (17520, 1)\n",
      "Inv y shape : (17520, 76)\n"
     ]
    },
    {
     "name": "stderr",
     "output_type": "stream",
     "text": [
      "/Users/alexellard/opt/anaconda3/lib/python3.7/site-packages/xgboost/data.py:96: UserWarning: Use subset (sliced data) of np.ndarray is not recommended because it will generate extra copies and increase memory consumption\n",
      "  \"because it will generate extra copies and increase \" +\n"
     ]
    },
    {
     "name": "stdout",
     "output_type": "stream",
     "text": [
      "test y shape : (17520, 1)\n",
      "Inv y shape : (17520, 76)\n",
      "y pred shape : (17520, 1)\n",
      "inv y pred : (17520, 76)\n",
      "Run 5 Mean Absolute Error: 3.0513975817599754\n",
      "RMSE: 4.426\n",
      "R^2: 1.000\n",
      "[['node_6_pressure', 'node_16_demand', 'node_12_demand', 'node_26_pressure', 'link_5_flow', 'node_11_pressure', 'link_31_flow', 'node_4_pressure', 'node_23_demand', 'link_21_flow', 'node_9_pressure', 'node_10_pressure', 'node_9_demand', 'node_8_pressure', 'node_22_pressure', 'node_18_demand', 'node_31_demand', 'node_6_demand', 'link_2_flow', 'node_20_pressure']]\n",
      "starting df shape: (87600, 76)\n",
      "This is training run 6 and has the shape:  (87600, 76)\n",
      "The value of dropped columns is 20\n"
     ]
    },
    {
     "name": "stderr",
     "output_type": "stream",
     "text": [
      "/Users/alexellard/opt/anaconda3/lib/python3.7/site-packages/xgboost/data.py:96: UserWarning: Use subset (sliced data) of np.ndarray is not recommended because it will generate extra copies and increase memory consumption\n",
      "  \"because it will generate extra copies and increase \" +\n"
     ]
    },
    {
     "name": "stdout",
     "output_type": "stream",
     "text": [
      "test y shape : (17520, 1)\n",
      "Inv y shape : (17520, 76)\n"
     ]
    },
    {
     "name": "stderr",
     "output_type": "stream",
     "text": [
      "/Users/alexellard/opt/anaconda3/lib/python3.7/site-packages/xgboost/data.py:96: UserWarning: Use subset (sliced data) of np.ndarray is not recommended because it will generate extra copies and increase memory consumption\n",
      "  \"because it will generate extra copies and increase \" +\n"
     ]
    },
    {
     "name": "stdout",
     "output_type": "stream",
     "text": [
      "test y shape : (17520, 1)\n",
      "Inv y shape : (17520, 76)\n",
      "y pred shape : (17520, 1)\n",
      "inv y pred : (17520, 76)\n",
      "Run 6 Mean Absolute Error: 2.68713339278864\n",
      "RMSE: 3.837\n",
      "R^2: 1.000\n",
      "[['node_12_demand', 'link_1_flow', 'node_31_demand', 'node_26_pressure', 'node_26_demand', 'link_22_flow', 'node_19_pressure', 'node_25_pressure', 'node_28_pressure', 'link_8_flow', 'link_19_flow', 'link_13_flow', 'node_30_demand', 'node_14_demand', 'link_10_flow', 'node_11_pressure', 'link_32_flow', 'link_30_flow', 'node_9_demand', 'link_17_flow']]\n",
      "starting df shape: (87600, 76)\n",
      "This is training run 7 and has the shape:  (87600, 76)\n",
      "The value of dropped columns is 20\n"
     ]
    },
    {
     "name": "stderr",
     "output_type": "stream",
     "text": [
      "/Users/alexellard/opt/anaconda3/lib/python3.7/site-packages/xgboost/data.py:96: UserWarning: Use subset (sliced data) of np.ndarray is not recommended because it will generate extra copies and increase memory consumption\n",
      "  \"because it will generate extra copies and increase \" +\n"
     ]
    },
    {
     "name": "stdout",
     "output_type": "stream",
     "text": [
      "test y shape : (17520, 1)\n",
      "Inv y shape : (17520, 76)\n"
     ]
    },
    {
     "name": "stderr",
     "output_type": "stream",
     "text": [
      "/Users/alexellard/opt/anaconda3/lib/python3.7/site-packages/xgboost/data.py:96: UserWarning: Use subset (sliced data) of np.ndarray is not recommended because it will generate extra copies and increase memory consumption\n",
      "  \"because it will generate extra copies and increase \" +\n"
     ]
    },
    {
     "name": "stdout",
     "output_type": "stream",
     "text": [
      "test y shape : (17520, 1)\n",
      "Inv y shape : (17520, 76)\n",
      "y pred shape : (17520, 1)\n",
      "inv y pred : (17520, 76)\n",
      "Run 7 Mean Absolute Error: 2.7766015373373656\n",
      "RMSE: 3.983\n",
      "R^2: 1.000\n",
      "[['link_25_flow', 'node_7_pressure', 'reservoir_demand', 'link_14_flow', 'node_22_demand', 'node_25_pressure', 'node_5_pressure', 'node_18_demand', 'node_4_pressure', 'node_4_demand', 'node_6_pressure', 'node_31_demand', 'node_19_pressure', 'node_25_demand', 'node_29_demand', 'node_5_demand', 'node_3_pressure', 'node_3_demand', 'link_11_flow', 'node_22_pressure']]\n",
      "starting df shape: (87600, 76)\n",
      "This is training run 8 and has the shape:  (87600, 76)\n",
      "The value of dropped columns is 20\n"
     ]
    },
    {
     "name": "stderr",
     "output_type": "stream",
     "text": [
      "/Users/alexellard/opt/anaconda3/lib/python3.7/site-packages/xgboost/data.py:96: UserWarning: Use subset (sliced data) of np.ndarray is not recommended because it will generate extra copies and increase memory consumption\n",
      "  \"because it will generate extra copies and increase \" +\n"
     ]
    },
    {
     "name": "stdout",
     "output_type": "stream",
     "text": [
      "test y shape : (17520, 1)\n",
      "Inv y shape : (17520, 76)\n"
     ]
    },
    {
     "name": "stderr",
     "output_type": "stream",
     "text": [
      "/Users/alexellard/opt/anaconda3/lib/python3.7/site-packages/xgboost/data.py:96: UserWarning: Use subset (sliced data) of np.ndarray is not recommended because it will generate extra copies and increase memory consumption\n",
      "  \"because it will generate extra copies and increase \" +\n"
     ]
    },
    {
     "name": "stdout",
     "output_type": "stream",
     "text": [
      "test y shape : (17520, 1)\n",
      "Inv y shape : (17520, 76)\n",
      "y pred shape : (17520, 1)\n",
      "inv y pred : (17520, 76)\n",
      "Run 8 Mean Absolute Error: 0.16777704931037296\n",
      "RMSE: 0.246\n",
      "R^2: 1.000\n",
      "[['link_6_flow', 'node_5_pressure', 'node_24_pressure', 'link_20_flow', 'node_1_demand', 'link_22_flow', 'reservoir_pressure', 'node_31_demand', 'node_8_pressure', 'node_23_pressure', 'link_15_flow', 'link_8_flow', 'link_28_flow', 'node_18_demand', 'node_11_demand', 'node_19_demand', 'node_2_pressure', 'link_21_flow', 'node_6_pressure']]\n",
      "starting df shape: (87600, 77)\n",
      "This is training run 9 and has the shape:  (87600, 77)\n",
      "The value of dropped columns is 20\n"
     ]
    },
    {
     "name": "stderr",
     "output_type": "stream",
     "text": [
      "/Users/alexellard/opt/anaconda3/lib/python3.7/site-packages/xgboost/data.py:96: UserWarning: Use subset (sliced data) of np.ndarray is not recommended because it will generate extra copies and increase memory consumption\n",
      "  \"because it will generate extra copies and increase \" +\n"
     ]
    },
    {
     "name": "stdout",
     "output_type": "stream",
     "text": [
      "test y shape : (17520, 1)\n",
      "Inv y shape : (17520, 77)\n"
     ]
    },
    {
     "name": "stderr",
     "output_type": "stream",
     "text": [
      "/Users/alexellard/opt/anaconda3/lib/python3.7/site-packages/xgboost/data.py:96: UserWarning: Use subset (sliced data) of np.ndarray is not recommended because it will generate extra copies and increase memory consumption\n",
      "  \"because it will generate extra copies and increase \" +\n"
     ]
    },
    {
     "name": "stdout",
     "output_type": "stream",
     "text": [
      "test y shape : (17520, 1)\n",
      "Inv y shape : (17520, 77)\n",
      "y pred shape : (17520, 1)\n",
      "inv y pred : (17520, 77)\n",
      "Run 9 Mean Absolute Error: 2.7850722338133482\n",
      "RMSE: 4.044\n",
      "R^2: 1.000\n",
      "[['link_26_flow', 'link_30_flow', 'node_9_demand', 'link_10_flow', 'link_12_flow', 'node_15_demand', 'node_2_pressure', 'reservoir_pressure', 'node_7_pressure', 'node_4_demand', 'node_20_demand', 'node_28_demand', 'node_12_pressure', 'link_25_flow', 'node_16_demand', 'link_22_flow', 'link_23_flow', 'node_27_pressure', 'node_10_demand', 'node_13_demand']]\n",
      "starting df shape: (87600, 76)\n",
      "This is training run 10 and has the shape:  (87600, 76)\n",
      "The value of dropped columns is 20\n"
     ]
    },
    {
     "name": "stderr",
     "output_type": "stream",
     "text": [
      "/Users/alexellard/opt/anaconda3/lib/python3.7/site-packages/xgboost/data.py:96: UserWarning: Use subset (sliced data) of np.ndarray is not recommended because it will generate extra copies and increase memory consumption\n",
      "  \"because it will generate extra copies and increase \" +\n"
     ]
    },
    {
     "name": "stdout",
     "output_type": "stream",
     "text": [
      "test y shape : (17520, 1)\n",
      "Inv y shape : (17520, 76)\n"
     ]
    },
    {
     "name": "stderr",
     "output_type": "stream",
     "text": [
      "/Users/alexellard/opt/anaconda3/lib/python3.7/site-packages/xgboost/data.py:96: UserWarning: Use subset (sliced data) of np.ndarray is not recommended because it will generate extra copies and increase memory consumption\n",
      "  \"because it will generate extra copies and increase \" +\n"
     ]
    },
    {
     "name": "stdout",
     "output_type": "stream",
     "text": [
      "test y shape : (17520, 1)\n",
      "Inv y shape : (17520, 76)\n",
      "y pred shape : (17520, 1)\n",
      "inv y pred : (17520, 76)\n",
      "Run 10 Mean Absolute Error: 2.714541932553677\n",
      "RMSE: 3.950\n",
      "R^2: 1.000\n",
      "[['node_2_demand', 'node_7_demand', 'node_16_demand', 'node_24_pressure', 'node_3_pressure', 'node_10_pressure', 'node_23_demand', 'link_10_flow', 'reservoir_pressure', 'reservoir_demand', 'node_13_demand', 'node_27_demand', 'node_19_pressure', 'link_20_flow', 'link_26_flow', 'node_30_demand', 'node_6_pressure', 'link_19_flow', 'node_3_demand', 'node_26_demand', 'node_25_demand', 'node_28_pressure', 'node_17_pressure', 'node_13_pressure']]\n",
      "starting df shape: (87600, 72)\n",
      "This is training run 1 and has the shape:  (87600, 72)\n",
      "The value of dropped columns is 25\n"
     ]
    },
    {
     "name": "stderr",
     "output_type": "stream",
     "text": [
      "/Users/alexellard/opt/anaconda3/lib/python3.7/site-packages/xgboost/data.py:96: UserWarning: Use subset (sliced data) of np.ndarray is not recommended because it will generate extra copies and increase memory consumption\n",
      "  \"because it will generate extra copies and increase \" +\n"
     ]
    },
    {
     "name": "stdout",
     "output_type": "stream",
     "text": [
      "test y shape : (17520, 1)\n",
      "Inv y shape : (17520, 72)\n"
     ]
    },
    {
     "name": "stderr",
     "output_type": "stream",
     "text": [
      "/Users/alexellard/opt/anaconda3/lib/python3.7/site-packages/xgboost/data.py:96: UserWarning: Use subset (sliced data) of np.ndarray is not recommended because it will generate extra copies and increase memory consumption\n",
      "  \"because it will generate extra copies and increase \" +\n"
     ]
    },
    {
     "name": "stdout",
     "output_type": "stream",
     "text": [
      "test y shape : (17520, 1)\n",
      "Inv y shape : (17520, 72)\n",
      "y pred shape : (17520, 1)\n",
      "inv y pred : (17520, 72)\n",
      "Run 1 Mean Absolute Error: 0.17586296308720134\n",
      "RMSE: 0.250\n",
      "R^2: 1.000\n",
      "[['node_2_demand', 'node_29_demand', 'link_19_flow', 'node_16_pressure', 'node_25_pressure', 'node_15_pressure', 'node_26_pressure', 'node_14_pressure', 'node_12_pressure', 'node_1_pressure', 'node_30_demand', 'link_21_flow', 'link_3_flow', 'link_23_flow', 'node_9_demand', 'link_27_flow', 'node_27_pressure', 'node_25_demand', 'reservoir_demand', 'node_31_pressure', 'link_16_flow', 'node_17_pressure', 'node_10_pressure', 'link_31_flow', 'node_15_demand']]\n",
      "starting df shape: (87600, 71)\n",
      "This is training run 2 and has the shape:  (87600, 71)\n",
      "The value of dropped columns is 25\n"
     ]
    },
    {
     "name": "stderr",
     "output_type": "stream",
     "text": [
      "/Users/alexellard/opt/anaconda3/lib/python3.7/site-packages/xgboost/data.py:96: UserWarning: Use subset (sliced data) of np.ndarray is not recommended because it will generate extra copies and increase memory consumption\n",
      "  \"because it will generate extra copies and increase \" +\n"
     ]
    },
    {
     "name": "stdout",
     "output_type": "stream",
     "text": [
      "test y shape : (17520, 1)\n",
      "Inv y shape : (17520, 71)\n"
     ]
    },
    {
     "name": "stderr",
     "output_type": "stream",
     "text": [
      "/Users/alexellard/opt/anaconda3/lib/python3.7/site-packages/xgboost/data.py:96: UserWarning: Use subset (sliced data) of np.ndarray is not recommended because it will generate extra copies and increase memory consumption\n",
      "  \"because it will generate extra copies and increase \" +\n"
     ]
    },
    {
     "name": "stdout",
     "output_type": "stream",
     "text": [
      "test y shape : (17520, 1)\n",
      "Inv y shape : (17520, 71)\n",
      "y pred shape : (17520, 1)\n",
      "inv y pred : (17520, 71)\n",
      "Run 2 Mean Absolute Error: 0.17831954466707248\n",
      "RMSE: 0.261\n",
      "R^2: 1.000\n",
      "[['node_13_demand', 'node_31_demand', 'node_28_pressure', 'node_6_demand', 'link_15_flow', 'node_22_pressure', 'link_29_flow', 'link_12_flow', 'link_10_flow', 'node_21_demand', 'node_15_pressure', 'link_5_flow', 'link_26_flow', 'link_1_flow', 'link_7_flow', 'node_12_pressure', 'node_24_pressure', 'node_14_pressure', 'node_11_pressure', 'link_13_flow', 'node_5_pressure', 'node_5_demand', 'node_19_demand', 'link_19_flow', 'node_17_pressure']]\n",
      "starting df shape: (87600, 71)\n",
      "This is training run 3 and has the shape:  (87600, 71)\n",
      "The value of dropped columns is 25\n"
     ]
    },
    {
     "name": "stderr",
     "output_type": "stream",
     "text": [
      "/Users/alexellard/opt/anaconda3/lib/python3.7/site-packages/xgboost/data.py:96: UserWarning: Use subset (sliced data) of np.ndarray is not recommended because it will generate extra copies and increase memory consumption\n",
      "  \"because it will generate extra copies and increase \" +\n"
     ]
    },
    {
     "name": "stdout",
     "output_type": "stream",
     "text": [
      "test y shape : (17520, 1)\n",
      "Inv y shape : (17520, 71)\n"
     ]
    },
    {
     "name": "stderr",
     "output_type": "stream",
     "text": [
      "/Users/alexellard/opt/anaconda3/lib/python3.7/site-packages/xgboost/data.py:96: UserWarning: Use subset (sliced data) of np.ndarray is not recommended because it will generate extra copies and increase memory consumption\n",
      "  \"because it will generate extra copies and increase \" +\n"
     ]
    },
    {
     "name": "stdout",
     "output_type": "stream",
     "text": [
      "test y shape : (17520, 1)\n",
      "Inv y shape : (17520, 71)\n",
      "y pred shape : (17520, 1)\n",
      "inv y pred : (17520, 71)\n",
      "Run 3 Mean Absolute Error: 3.66155927723601\n",
      "RMSE: 5.164\n",
      "R^2: 1.000\n",
      "[['link_11_flow', 'node_13_demand', 'node_15_pressure', 'link_20_flow', 'reservoir_demand', 'node_1_pressure', 'link_3_flow', 'link_19_flow', 'node_8_pressure', 'node_15_demand', 'node_11_pressure', 'link_26_flow', 'link_30_flow', 'link_8_flow', 'node_27_pressure', 'link_24_flow', 'node_31_demand', 'link_9_flow', 'node_19_pressure', 'node_8_demand', 'link_23_flow', 'node_24_demand', 'node_22_demand', 'node_17_pressure', 'link_22_flow']]\n",
      "starting df shape: (87600, 71)\n",
      "This is training run 4 and has the shape:  (87600, 71)\n",
      "The value of dropped columns is 25\n"
     ]
    },
    {
     "name": "stderr",
     "output_type": "stream",
     "text": [
      "/Users/alexellard/opt/anaconda3/lib/python3.7/site-packages/xgboost/data.py:96: UserWarning: Use subset (sliced data) of np.ndarray is not recommended because it will generate extra copies and increase memory consumption\n",
      "  \"because it will generate extra copies and increase \" +\n"
     ]
    },
    {
     "name": "stdout",
     "output_type": "stream",
     "text": [
      "test y shape : (17520, 1)\n",
      "Inv y shape : (17520, 71)\n"
     ]
    },
    {
     "name": "stderr",
     "output_type": "stream",
     "text": [
      "/Users/alexellard/opt/anaconda3/lib/python3.7/site-packages/xgboost/data.py:96: UserWarning: Use subset (sliced data) of np.ndarray is not recommended because it will generate extra copies and increase memory consumption\n",
      "  \"because it will generate extra copies and increase \" +\n"
     ]
    },
    {
     "name": "stdout",
     "output_type": "stream",
     "text": [
      "test y shape : (17520, 1)\n",
      "Inv y shape : (17520, 71)\n",
      "y pred shape : (17520, 1)\n",
      "inv y pred : (17520, 71)\n",
      "Run 4 Mean Absolute Error: 0.17522243148826963\n",
      "RMSE: 0.256\n",
      "R^2: 1.000\n",
      "[['reservoir_pressure', 'node_1_pressure', 'link_32_flow', 'node_31_pressure', 'node_2_demand', 'node_2_pressure', 'node_7_demand', 'link_14_flow', 'node_8_demand', 'link_6_flow', 'link_17_flow', 'node_15_pressure', 'link_18_flow', 'link_15_flow', 'link_13_flow', 'node_5_demand', 'node_16_pressure', 'node_30_demand', 'link_8_flow', 'node_29_demand', 'node_23_demand', 'link_31_flow', 'node_18_pressure', 'node_11_demand', 'link_24_flow']]\n",
      "starting df shape: (87600, 71)\n",
      "This is training run 5 and has the shape:  (87600, 71)\n",
      "The value of dropped columns is 25\n"
     ]
    },
    {
     "name": "stderr",
     "output_type": "stream",
     "text": [
      "/Users/alexellard/opt/anaconda3/lib/python3.7/site-packages/xgboost/data.py:96: UserWarning: Use subset (sliced data) of np.ndarray is not recommended because it will generate extra copies and increase memory consumption\n",
      "  \"because it will generate extra copies and increase \" +\n"
     ]
    },
    {
     "name": "stdout",
     "output_type": "stream",
     "text": [
      "test y shape : (17520, 1)\n",
      "Inv y shape : (17520, 71)\n"
     ]
    },
    {
     "name": "stderr",
     "output_type": "stream",
     "text": [
      "/Users/alexellard/opt/anaconda3/lib/python3.7/site-packages/xgboost/data.py:96: UserWarning: Use subset (sliced data) of np.ndarray is not recommended because it will generate extra copies and increase memory consumption\n",
      "  \"because it will generate extra copies and increase \" +\n"
     ]
    },
    {
     "name": "stdout",
     "output_type": "stream",
     "text": [
      "test y shape : (17520, 1)\n",
      "Inv y shape : (17520, 71)\n",
      "y pred shape : (17520, 1)\n",
      "inv y pred : (17520, 71)\n",
      "Run 5 Mean Absolute Error: 3.102904918182836\n",
      "RMSE: 4.350\n",
      "R^2: 1.000\n",
      "[['node_19_demand', 'node_20_pressure', 'node_16_pressure', 'link_24_flow', 'node_12_demand', 'node_2_pressure', 'node_1_demand', 'link_32_flow', 'link_29_flow', 'link_15_flow', 'link_27_flow', 'node_9_pressure', 'node_19_pressure', 'link_4_flow', 'link_2_flow', 'node_15_pressure', 'link_20_flow', 'node_6_demand', 'node_22_demand', 'link_21_flow', 'link_26_flow', 'node_29_demand', 'node_27_demand', 'node_4_pressure']]\n",
      "starting df shape: (87600, 72)\n",
      "This is training run 6 and has the shape:  (87600, 72)\n",
      "The value of dropped columns is 25\n"
     ]
    },
    {
     "name": "stderr",
     "output_type": "stream",
     "text": [
      "/Users/alexellard/opt/anaconda3/lib/python3.7/site-packages/xgboost/data.py:96: UserWarning: Use subset (sliced data) of np.ndarray is not recommended because it will generate extra copies and increase memory consumption\n",
      "  \"because it will generate extra copies and increase \" +\n"
     ]
    },
    {
     "name": "stdout",
     "output_type": "stream",
     "text": [
      "test y shape : (17520, 1)\n",
      "Inv y shape : (17520, 72)\n"
     ]
    },
    {
     "name": "stderr",
     "output_type": "stream",
     "text": [
      "/Users/alexellard/opt/anaconda3/lib/python3.7/site-packages/xgboost/data.py:96: UserWarning: Use subset (sliced data) of np.ndarray is not recommended because it will generate extra copies and increase memory consumption\n",
      "  \"because it will generate extra copies and increase \" +\n"
     ]
    },
    {
     "name": "stdout",
     "output_type": "stream",
     "text": [
      "test y shape : (17520, 1)\n",
      "Inv y shape : (17520, 72)\n",
      "y pred shape : (17520, 1)\n",
      "inv y pred : (17520, 72)\n",
      "Run 6 Mean Absolute Error: 3.189055719192776\n",
      "RMSE: 4.507\n",
      "R^2: 1.000\n",
      "[['node_24_demand', 'link_5_flow', 'link_10_flow', 'node_28_pressure', 'node_30_pressure', 'link_21_flow', 'node_27_pressure', 'node_5_demand', 'node_12_demand', 'node_30_demand', 'link_22_flow', 'node_11_pressure', 'link_28_flow', 'node_10_pressure', 'node_4_demand', 'node_1_pressure', 'node_7_pressure', 'node_5_pressure', 'reservoir_demand', 'node_14_pressure', 'node_16_demand', 'link_25_flow', 'node_13_pressure', 'link_14_flow', 'node_23_demand']]\n",
      "starting df shape: (87600, 71)\n",
      "This is training run 7 and has the shape:  (87600, 71)\n",
      "The value of dropped columns is 25\n"
     ]
    },
    {
     "name": "stderr",
     "output_type": "stream",
     "text": [
      "/Users/alexellard/opt/anaconda3/lib/python3.7/site-packages/xgboost/data.py:96: UserWarning: Use subset (sliced data) of np.ndarray is not recommended because it will generate extra copies and increase memory consumption\n",
      "  \"because it will generate extra copies and increase \" +\n"
     ]
    },
    {
     "name": "stdout",
     "output_type": "stream",
     "text": [
      "test y shape : (17520, 1)\n",
      "Inv y shape : (17520, 71)\n"
     ]
    },
    {
     "name": "stderr",
     "output_type": "stream",
     "text": [
      "/Users/alexellard/opt/anaconda3/lib/python3.7/site-packages/xgboost/data.py:96: UserWarning: Use subset (sliced data) of np.ndarray is not recommended because it will generate extra copies and increase memory consumption\n",
      "  \"because it will generate extra copies and increase \" +\n"
     ]
    },
    {
     "name": "stdout",
     "output_type": "stream",
     "text": [
      "test y shape : (17520, 1)\n",
      "Inv y shape : (17520, 71)\n",
      "y pred shape : (17520, 1)\n",
      "inv y pred : (17520, 71)\n",
      "Run 7 Mean Absolute Error: 0.2922552375919271\n",
      "RMSE: 0.395\n",
      "R^2: 1.000\n",
      "[['node_16_pressure', 'node_4_demand', 'node_31_demand', 'link_32_flow', 'node_3_pressure', 'node_11_pressure', 'node_14_pressure', 'node_12_pressure', 'node_4_pressure', 'node_15_demand', 'node_22_demand', 'link_13_flow', 'node_23_pressure', 'node_1_pressure', 'node_19_pressure', 'node_16_demand', 'node_27_pressure', 'node_13_pressure', 'node_8_demand', 'node_6_demand', 'node_6_pressure', 'link_16_flow', 'node_2_demand', 'link_27_flow', 'link_30_flow']]\n",
      "starting df shape: (87600, 71)\n",
      "This is training run 8 and has the shape:  (87600, 71)\n",
      "The value of dropped columns is 25\n"
     ]
    },
    {
     "name": "stderr",
     "output_type": "stream",
     "text": [
      "/Users/alexellard/opt/anaconda3/lib/python3.7/site-packages/xgboost/data.py:96: UserWarning: Use subset (sliced data) of np.ndarray is not recommended because it will generate extra copies and increase memory consumption\n",
      "  \"because it will generate extra copies and increase \" +\n"
     ]
    },
    {
     "name": "stdout",
     "output_type": "stream",
     "text": [
      "test y shape : (17520, 1)\n",
      "Inv y shape : (17520, 71)\n"
     ]
    },
    {
     "name": "stderr",
     "output_type": "stream",
     "text": [
      "/Users/alexellard/opt/anaconda3/lib/python3.7/site-packages/xgboost/data.py:96: UserWarning: Use subset (sliced data) of np.ndarray is not recommended because it will generate extra copies and increase memory consumption\n",
      "  \"because it will generate extra copies and increase \" +\n"
     ]
    },
    {
     "name": "stdout",
     "output_type": "stream",
     "text": [
      "test y shape : (17520, 1)\n",
      "Inv y shape : (17520, 71)\n",
      "y pred shape : (17520, 1)\n",
      "inv y pred : (17520, 71)\n",
      "Run 8 Mean Absolute Error: 2.6595793721848398\n",
      "RMSE: 3.916\n",
      "R^2: 1.000\n",
      "[['node_9_demand', 'node_10_demand', 'link_19_flow', 'node_1_demand', 'node_26_pressure', 'link_30_flow', 'node_25_demand', 'node_14_demand', 'node_22_demand', 'node_6_demand', 'node_30_demand', 'node_13_pressure', 'link_3_flow', 'link_7_flow', 'link_27_flow', 'link_28_flow', 'node_5_demand', 'node_22_pressure', 'link_22_flow', 'node_10_pressure', 'node_11_demand', 'node_18_demand', 'node_7_pressure', 'node_9_pressure', 'node_4_demand']]\n",
      "starting df shape: (87600, 71)\n",
      "This is training run 9 and has the shape:  (87600, 71)\n",
      "The value of dropped columns is 25\n"
     ]
    },
    {
     "name": "stderr",
     "output_type": "stream",
     "text": [
      "/Users/alexellard/opt/anaconda3/lib/python3.7/site-packages/xgboost/data.py:96: UserWarning: Use subset (sliced data) of np.ndarray is not recommended because it will generate extra copies and increase memory consumption\n",
      "  \"because it will generate extra copies and increase \" +\n"
     ]
    },
    {
     "name": "stdout",
     "output_type": "stream",
     "text": [
      "test y shape : (17520, 1)\n",
      "Inv y shape : (17520, 71)\n"
     ]
    },
    {
     "name": "stderr",
     "output_type": "stream",
     "text": [
      "/Users/alexellard/opt/anaconda3/lib/python3.7/site-packages/xgboost/data.py:96: UserWarning: Use subset (sliced data) of np.ndarray is not recommended because it will generate extra copies and increase memory consumption\n",
      "  \"because it will generate extra copies and increase \" +\n"
     ]
    },
    {
     "name": "stdout",
     "output_type": "stream",
     "text": [
      "test y shape : (17520, 1)\n",
      "Inv y shape : (17520, 71)\n",
      "y pred shape : (17520, 1)\n",
      "inv y pred : (17520, 71)\n",
      "Run 9 Mean Absolute Error: 2.734849698893191\n",
      "RMSE: 3.978\n",
      "R^2: 1.000\n",
      "[['link_6_flow', 'node_14_pressure', 'node_7_pressure', 'node_27_pressure', 'link_13_flow', 'link_23_flow', 'link_15_flow', 'node_10_pressure', 'link_9_flow', 'link_12_flow', 'link_19_flow', 'node_23_demand', 'node_5_pressure', 'node_15_demand', 'node_8_demand', 'link_10_flow', 'link_30_flow', 'node_28_pressure', 'link_14_flow', 'link_28_flow', 'node_24_pressure', 'node_2_demand', 'link_25_flow', 'node_7_demand']]\n",
      "starting df shape: (87600, 72)\n",
      "This is training run 10 and has the shape:  (87600, 72)\n",
      "The value of dropped columns is 25\n"
     ]
    },
    {
     "name": "stderr",
     "output_type": "stream",
     "text": [
      "/Users/alexellard/opt/anaconda3/lib/python3.7/site-packages/xgboost/data.py:96: UserWarning: Use subset (sliced data) of np.ndarray is not recommended because it will generate extra copies and increase memory consumption\n",
      "  \"because it will generate extra copies and increase \" +\n"
     ]
    },
    {
     "name": "stdout",
     "output_type": "stream",
     "text": [
      "test y shape : (17520, 1)\n",
      "Inv y shape : (17520, 72)\n"
     ]
    },
    {
     "name": "stderr",
     "output_type": "stream",
     "text": [
      "/Users/alexellard/opt/anaconda3/lib/python3.7/site-packages/xgboost/data.py:96: UserWarning: Use subset (sliced data) of np.ndarray is not recommended because it will generate extra copies and increase memory consumption\n",
      "  \"because it will generate extra copies and increase \" +\n"
     ]
    },
    {
     "name": "stdout",
     "output_type": "stream",
     "text": [
      "test y shape : (17520, 1)\n",
      "Inv y shape : (17520, 72)\n",
      "y pred shape : (17520, 1)\n",
      "inv y pred : (17520, 72)\n",
      "Run 10 Mean Absolute Error: 3.636256676290502\n",
      "RMSE: 5.073\n",
      "R^2: 1.000\n",
      "[['node_7_demand', 'node_8_demand', 'node_8_pressure', 'node_9_demand', 'link_18_flow', 'reservoir_demand', 'node_13_pressure', 'node_9_pressure', 'node_24_pressure', 'link_16_flow', 'link_26_flow', 'node_20_pressure', 'node_31_demand', 'node_6_pressure', 'link_24_flow', 'link_7_flow', 'node_21_demand', 'node_10_pressure', 'node_20_demand', 'node_22_demand', 'node_17_demand', 'node_30_demand', 'node_23_demand', 'node_21_pressure', 'node_22_pressure', 'link_17_flow', 'node_28_pressure', 'node_1_pressure', 'node_16_pressure', 'node_4_demand']]\n",
      "starting df shape: (87600, 66)\n",
      "This is training run 1 and has the shape:  (87600, 66)\n",
      "The value of dropped columns is 30\n"
     ]
    },
    {
     "name": "stderr",
     "output_type": "stream",
     "text": [
      "/Users/alexellard/opt/anaconda3/lib/python3.7/site-packages/xgboost/data.py:96: UserWarning: Use subset (sliced data) of np.ndarray is not recommended because it will generate extra copies and increase memory consumption\n",
      "  \"because it will generate extra copies and increase \" +\n"
     ]
    },
    {
     "name": "stdout",
     "output_type": "stream",
     "text": [
      "test y shape : (17520, 1)\n",
      "Inv y shape : (17520, 66)\n"
     ]
    },
    {
     "name": "stderr",
     "output_type": "stream",
     "text": [
      "/Users/alexellard/opt/anaconda3/lib/python3.7/site-packages/xgboost/data.py:96: UserWarning: Use subset (sliced data) of np.ndarray is not recommended because it will generate extra copies and increase memory consumption\n",
      "  \"because it will generate extra copies and increase \" +\n"
     ]
    },
    {
     "name": "stdout",
     "output_type": "stream",
     "text": [
      "test y shape : (17520, 1)\n",
      "Inv y shape : (17520, 66)\n",
      "y pred shape : (17520, 1)\n",
      "inv y pred : (17520, 66)\n",
      "Run 1 Mean Absolute Error: 0.1960656041358375\n",
      "RMSE: 0.276\n",
      "R^2: 1.000\n",
      "[['link_3_flow', 'link_26_flow', 'node_25_pressure', 'node_11_pressure', 'node_2_pressure', 'link_25_flow', 'node_8_pressure', 'node_22_demand', 'node_7_demand', 'node_5_demand', 'node_19_pressure', 'node_10_pressure', 'node_28_pressure', 'link_16_flow', 'node_24_pressure', 'link_10_flow', 'link_11_flow', 'node_4_pressure', 'node_15_demand', 'link_30_flow', 'node_1_pressure', 'node_24_demand', 'node_20_demand', 'node_23_pressure', 'node_22_pressure', 'node_10_demand', 'link_4_flow', 'node_30_pressure', 'node_13_demand', 'node_1_demand']]\n",
      "starting df shape: (87600, 66)\n",
      "This is training run 2 and has the shape:  (87600, 66)\n",
      "The value of dropped columns is 30\n"
     ]
    },
    {
     "name": "stderr",
     "output_type": "stream",
     "text": [
      "/Users/alexellard/opt/anaconda3/lib/python3.7/site-packages/xgboost/data.py:96: UserWarning: Use subset (sliced data) of np.ndarray is not recommended because it will generate extra copies and increase memory consumption\n",
      "  \"because it will generate extra copies and increase \" +\n"
     ]
    },
    {
     "name": "stdout",
     "output_type": "stream",
     "text": [
      "test y shape : (17520, 1)\n",
      "Inv y shape : (17520, 66)\n"
     ]
    },
    {
     "name": "stderr",
     "output_type": "stream",
     "text": [
      "/Users/alexellard/opt/anaconda3/lib/python3.7/site-packages/xgboost/data.py:96: UserWarning: Use subset (sliced data) of np.ndarray is not recommended because it will generate extra copies and increase memory consumption\n",
      "  \"because it will generate extra copies and increase \" +\n"
     ]
    },
    {
     "name": "stdout",
     "output_type": "stream",
     "text": [
      "test y shape : (17520, 1)\n",
      "Inv y shape : (17520, 66)\n",
      "y pred shape : (17520, 1)\n",
      "inv y pred : (17520, 66)\n",
      "Run 2 Mean Absolute Error: 5.460347602560133\n",
      "RMSE: 7.346\n",
      "R^2: 1.000\n",
      "[['node_19_demand', 'node_17_pressure', 'node_29_demand', 'link_25_flow', 'node_8_demand', 'node_9_pressure', 'node_10_pressure', 'node_2_pressure', 'node_11_pressure', 'node_26_demand', 'node_6_pressure', 'node_4_demand', 'node_9_demand', 'link_23_flow', 'node_7_demand', 'node_3_demand', 'node_24_demand', 'node_19_pressure', 'link_3_flow', 'link_8_flow', 'node_20_pressure', 'link_12_flow', 'link_21_flow', 'node_5_pressure', 'node_7_pressure', 'node_3_pressure', 'node_11_demand', 'node_23_pressure', 'link_16_flow']]\n",
      "starting df shape: (87600, 67)\n",
      "This is training run 3 and has the shape:  (87600, 67)\n",
      "The value of dropped columns is 30\n"
     ]
    },
    {
     "name": "stderr",
     "output_type": "stream",
     "text": [
      "/Users/alexellard/opt/anaconda3/lib/python3.7/site-packages/xgboost/data.py:96: UserWarning: Use subset (sliced data) of np.ndarray is not recommended because it will generate extra copies and increase memory consumption\n",
      "  \"because it will generate extra copies and increase \" +\n"
     ]
    },
    {
     "name": "stdout",
     "output_type": "stream",
     "text": [
      "test y shape : (17520, 1)\n",
      "Inv y shape : (17520, 67)\n"
     ]
    },
    {
     "name": "stderr",
     "output_type": "stream",
     "text": [
      "/Users/alexellard/opt/anaconda3/lib/python3.7/site-packages/xgboost/data.py:96: UserWarning: Use subset (sliced data) of np.ndarray is not recommended because it will generate extra copies and increase memory consumption\n",
      "  \"because it will generate extra copies and increase \" +\n"
     ]
    },
    {
     "name": "stdout",
     "output_type": "stream",
     "text": [
      "test y shape : (17520, 1)\n",
      "Inv y shape : (17520, 67)\n",
      "y pred shape : (17520, 1)\n",
      "inv y pred : (17520, 67)\n",
      "Run 3 Mean Absolute Error: 2.8641319197935617\n",
      "RMSE: 4.071\n",
      "R^2: 1.000\n",
      "[['node_7_pressure', 'node_4_demand', 'node_21_demand', 'node_6_pressure', 'link_32_flow', 'link_21_flow', 'node_16_pressure', 'link_11_flow', 'node_26_demand', 'link_23_flow', 'node_29_demand', 'reservoir_pressure', 'link_24_flow', 'node_14_demand', 'node_27_demand', 'link_27_flow', 'node_13_pressure', 'node_5_demand', 'node_3_demand', 'node_13_demand', 'node_1_pressure', 'node_2_pressure', 'link_12_flow', 'link_20_flow', 'node_26_pressure', 'link_28_flow', 'link_1_flow', 'node_12_demand', 'node_23_pressure', 'node_8_demand']]\n",
      "starting df shape: (87600, 66)\n",
      "This is training run 4 and has the shape:  (87600, 66)\n",
      "The value of dropped columns is 30\n"
     ]
    },
    {
     "name": "stderr",
     "output_type": "stream",
     "text": [
      "/Users/alexellard/opt/anaconda3/lib/python3.7/site-packages/xgboost/data.py:96: UserWarning: Use subset (sliced data) of np.ndarray is not recommended because it will generate extra copies and increase memory consumption\n",
      "  \"because it will generate extra copies and increase \" +\n"
     ]
    },
    {
     "name": "stdout",
     "output_type": "stream",
     "text": [
      "test y shape : (17520, 1)\n",
      "Inv y shape : (17520, 66)\n"
     ]
    },
    {
     "name": "stderr",
     "output_type": "stream",
     "text": [
      "/Users/alexellard/opt/anaconda3/lib/python3.7/site-packages/xgboost/data.py:96: UserWarning: Use subset (sliced data) of np.ndarray is not recommended because it will generate extra copies and increase memory consumption\n",
      "  \"because it will generate extra copies and increase \" +\n"
     ]
    },
    {
     "name": "stdout",
     "output_type": "stream",
     "text": [
      "test y shape : (17520, 1)\n",
      "Inv y shape : (17520, 66)\n",
      "y pred shape : (17520, 1)\n",
      "inv y pred : (17520, 66)\n",
      "Run 4 Mean Absolute Error: 2.9964678013264057\n",
      "RMSE: 4.236\n",
      "R^2: 1.000\n",
      "[['node_3_demand', 'link_32_flow', 'node_30_pressure', 'node_3_pressure', 'node_16_pressure', 'link_21_flow', 'link_27_flow', 'node_12_pressure', 'node_19_demand', 'node_5_demand', 'node_27_pressure', 'node_1_demand', 'node_2_demand', 'link_12_flow', 'link_22_flow', 'link_5_flow', 'link_2_flow', 'node_17_pressure', 'node_14_demand', 'node_24_demand', 'node_6_pressure', 'node_9_demand', 'node_28_pressure', 'node_13_pressure', 'node_7_demand', 'link_3_flow', 'node_8_demand', 'node_12_demand', 'link_8_flow', 'node_18_demand']]\n",
      "starting df shape: (87600, 66)\n",
      "This is training run 5 and has the shape:  (87600, 66)\n",
      "The value of dropped columns is 30\n"
     ]
    },
    {
     "name": "stderr",
     "output_type": "stream",
     "text": [
      "/Users/alexellard/opt/anaconda3/lib/python3.7/site-packages/xgboost/data.py:96: UserWarning: Use subset (sliced data) of np.ndarray is not recommended because it will generate extra copies and increase memory consumption\n",
      "  \"because it will generate extra copies and increase \" +\n"
     ]
    },
    {
     "name": "stdout",
     "output_type": "stream",
     "text": [
      "test y shape : (17520, 1)\n",
      "Inv y shape : (17520, 66)\n"
     ]
    },
    {
     "name": "stderr",
     "output_type": "stream",
     "text": [
      "/Users/alexellard/opt/anaconda3/lib/python3.7/site-packages/xgboost/data.py:96: UserWarning: Use subset (sliced data) of np.ndarray is not recommended because it will generate extra copies and increase memory consumption\n",
      "  \"because it will generate extra copies and increase \" +\n"
     ]
    },
    {
     "name": "stdout",
     "output_type": "stream",
     "text": [
      "test y shape : (17520, 1)\n",
      "Inv y shape : (17520, 66)\n",
      "y pred shape : (17520, 1)\n",
      "inv y pred : (17520, 66)\n",
      "Run 5 Mean Absolute Error: 4.923419100639156\n",
      "RMSE: 6.555\n",
      "R^2: 1.000\n",
      "[['node_12_pressure', 'node_2_pressure', 'node_27_demand', 'node_25_pressure', 'node_7_pressure', 'node_8_pressure', 'link_11_flow', 'node_11_pressure', 'node_19_pressure', 'link_1_flow', 'link_17_flow', 'node_23_demand', 'node_16_demand', 'node_22_pressure', 'link_4_flow', 'node_24_demand', 'node_21_pressure', 'node_3_pressure', 'node_3_demand', 'link_5_flow', 'node_21_demand', 'node_17_demand', 'node_14_pressure', 'link_10_flow', 'node_18_demand', 'link_19_flow', 'link_24_flow', 'link_12_flow', 'link_25_flow', 'node_30_pressure']]\n",
      "starting df shape: (87600, 66)\n",
      "This is training run 6 and has the shape:  (87600, 66)\n",
      "The value of dropped columns is 30\n"
     ]
    },
    {
     "name": "stderr",
     "output_type": "stream",
     "text": [
      "/Users/alexellard/opt/anaconda3/lib/python3.7/site-packages/xgboost/data.py:96: UserWarning: Use subset (sliced data) of np.ndarray is not recommended because it will generate extra copies and increase memory consumption\n",
      "  \"because it will generate extra copies and increase \" +\n"
     ]
    },
    {
     "name": "stdout",
     "output_type": "stream",
     "text": [
      "test y shape : (17520, 1)\n",
      "Inv y shape : (17520, 66)\n"
     ]
    },
    {
     "name": "stderr",
     "output_type": "stream",
     "text": [
      "/Users/alexellard/opt/anaconda3/lib/python3.7/site-packages/xgboost/data.py:96: UserWarning: Use subset (sliced data) of np.ndarray is not recommended because it will generate extra copies and increase memory consumption\n",
      "  \"because it will generate extra copies and increase \" +\n"
     ]
    },
    {
     "name": "stdout",
     "output_type": "stream",
     "text": [
      "test y shape : (17520, 1)\n",
      "Inv y shape : (17520, 66)\n",
      "y pred shape : (17520, 1)\n",
      "inv y pred : (17520, 66)\n",
      "Run 6 Mean Absolute Error: 4.030819178148656\n",
      "RMSE: 5.606\n",
      "R^2: 1.000\n",
      "[['node_1_demand', 'node_14_pressure', 'link_11_flow', 'link_14_flow', 'node_21_demand', 'link_29_flow', 'link_10_flow', 'node_21_pressure', 'node_20_demand', 'node_29_demand', 'node_13_pressure', 'node_15_demand', 'node_26_pressure', 'link_23_flow', 'node_16_pressure', 'node_3_pressure', 'node_28_demand', 'node_22_demand', 'node_12_demand', 'link_25_flow', 'node_11_pressure', 'node_25_demand', 'link_27_flow', 'link_28_flow', 'node_17_pressure', 'node_30_pressure', 'link_12_flow', 'node_23_pressure', 'link_5_flow']]\n",
      "starting df shape: (87600, 67)\n",
      "This is training run 7 and has the shape:  (87600, 67)\n",
      "The value of dropped columns is 30\n"
     ]
    },
    {
     "name": "stderr",
     "output_type": "stream",
     "text": [
      "/Users/alexellard/opt/anaconda3/lib/python3.7/site-packages/xgboost/data.py:96: UserWarning: Use subset (sliced data) of np.ndarray is not recommended because it will generate extra copies and increase memory consumption\n",
      "  \"because it will generate extra copies and increase \" +\n"
     ]
    },
    {
     "name": "stdout",
     "output_type": "stream",
     "text": [
      "test y shape : (17520, 1)\n",
      "Inv y shape : (17520, 67)\n"
     ]
    },
    {
     "name": "stderr",
     "output_type": "stream",
     "text": [
      "/Users/alexellard/opt/anaconda3/lib/python3.7/site-packages/xgboost/data.py:96: UserWarning: Use subset (sliced data) of np.ndarray is not recommended because it will generate extra copies and increase memory consumption\n",
      "  \"because it will generate extra copies and increase \" +\n"
     ]
    },
    {
     "name": "stdout",
     "output_type": "stream",
     "text": [
      "test y shape : (17520, 1)\n",
      "Inv y shape : (17520, 67)\n",
      "y pred shape : (17520, 1)\n",
      "inv y pred : (17520, 67)\n",
      "Run 7 Mean Absolute Error: 4.46017139488188\n",
      "RMSE: 6.185\n",
      "R^2: 1.000\n",
      "[['link_32_flow', 'node_31_demand', 'node_15_pressure', 'link_18_flow', 'node_1_demand', 'link_13_flow', 'node_17_pressure', 'node_19_demand', 'link_5_flow', 'link_22_flow', 'link_26_flow', 'link_20_flow', 'link_8_flow', 'link_3_flow', 'node_19_pressure', 'node_9_pressure', 'node_14_demand', 'node_16_demand', 'reservoir_demand', 'node_7_demand', 'link_10_flow', 'node_5_pressure', 'link_11_flow', 'link_12_flow', 'node_28_pressure', 'node_10_pressure', 'node_13_demand', 'node_2_pressure', 'link_1_flow']]\n",
      "starting df shape: (87600, 67)\n",
      "This is training run 8 and has the shape:  (87600, 67)\n",
      "The value of dropped columns is 30\n"
     ]
    },
    {
     "name": "stderr",
     "output_type": "stream",
     "text": [
      "/Users/alexellard/opt/anaconda3/lib/python3.7/site-packages/xgboost/data.py:96: UserWarning: Use subset (sliced data) of np.ndarray is not recommended because it will generate extra copies and increase memory consumption\n",
      "  \"because it will generate extra copies and increase \" +\n"
     ]
    },
    {
     "name": "stdout",
     "output_type": "stream",
     "text": [
      "test y shape : (17520, 1)\n",
      "Inv y shape : (17520, 67)\n"
     ]
    },
    {
     "name": "stderr",
     "output_type": "stream",
     "text": [
      "/Users/alexellard/opt/anaconda3/lib/python3.7/site-packages/xgboost/data.py:96: UserWarning: Use subset (sliced data) of np.ndarray is not recommended because it will generate extra copies and increase memory consumption\n",
      "  \"because it will generate extra copies and increase \" +\n"
     ]
    },
    {
     "name": "stdout",
     "output_type": "stream",
     "text": [
      "test y shape : (17520, 1)\n",
      "Inv y shape : (17520, 67)\n",
      "y pred shape : (17520, 1)\n",
      "inv y pred : (17520, 67)\n",
      "Run 8 Mean Absolute Error: 0.1686915331729932\n",
      "RMSE: 0.238\n",
      "R^2: 1.000\n",
      "[['node_31_pressure', 'link_6_flow', 'link_9_flow', 'node_16_demand', 'node_21_demand', 'node_16_pressure', 'link_28_flow', 'node_14_pressure', 'node_2_demand', 'node_25_demand', 'link_19_flow', 'link_8_flow', 'link_12_flow', 'link_13_flow', 'link_14_flow', 'node_31_demand', 'node_1_demand', 'node_15_pressure', 'node_23_demand', 'node_3_pressure', 'reservoir_demand', 'node_1_pressure', 'node_18_pressure', 'node_30_demand', 'node_29_demand', 'node_11_pressure', 'link_27_flow', 'node_20_pressure', 'link_30_flow', 'node_4_pressure']]\n",
      "starting df shape: (87600, 66)\n",
      "This is training run 9 and has the shape:  (87600, 66)\n",
      "The value of dropped columns is 30\n"
     ]
    },
    {
     "name": "stderr",
     "output_type": "stream",
     "text": [
      "/Users/alexellard/opt/anaconda3/lib/python3.7/site-packages/xgboost/data.py:96: UserWarning: Use subset (sliced data) of np.ndarray is not recommended because it will generate extra copies and increase memory consumption\n",
      "  \"because it will generate extra copies and increase \" +\n"
     ]
    },
    {
     "name": "stdout",
     "output_type": "stream",
     "text": [
      "test y shape : (17520, 1)\n",
      "Inv y shape : (17520, 66)\n"
     ]
    },
    {
     "name": "stderr",
     "output_type": "stream",
     "text": [
      "/Users/alexellard/opt/anaconda3/lib/python3.7/site-packages/xgboost/data.py:96: UserWarning: Use subset (sliced data) of np.ndarray is not recommended because it will generate extra copies and increase memory consumption\n",
      "  \"because it will generate extra copies and increase \" +\n"
     ]
    },
    {
     "name": "stdout",
     "output_type": "stream",
     "text": [
      "test y shape : (17520, 1)\n",
      "Inv y shape : (17520, 66)\n",
      "y pred shape : (17520, 1)\n",
      "inv y pred : (17520, 66)\n",
      "Run 9 Mean Absolute Error: 0.027180038049561095\n",
      "RMSE: 0.039\n",
      "R^2: 1.000\n",
      "[['link_1_flow', 'link_8_flow', 'node_19_demand', 'link_4_flow', 'node_24_demand', 'link_19_flow', 'node_22_pressure', 'node_1_pressure', 'node_8_pressure', 'node_23_demand', 'node_17_pressure', 'node_28_pressure', 'link_31_flow', 'link_11_flow', 'link_13_flow', 'node_10_pressure', 'link_24_flow', 'link_9_flow', 'node_11_demand', 'link_18_flow', 'node_8_demand', 'reservoir_pressure', 'node_21_pressure', 'node_11_pressure', 'link_2_flow', 'link_17_flow', 'node_14_pressure', 'node_25_demand', 'link_23_flow', 'node_20_demand']]\n",
      "starting df shape: (87600, 66)\n",
      "This is training run 10 and has the shape:  (87600, 66)\n",
      "The value of dropped columns is 30\n"
     ]
    },
    {
     "name": "stderr",
     "output_type": "stream",
     "text": [
      "/Users/alexellard/opt/anaconda3/lib/python3.7/site-packages/xgboost/data.py:96: UserWarning: Use subset (sliced data) of np.ndarray is not recommended because it will generate extra copies and increase memory consumption\n",
      "  \"because it will generate extra copies and increase \" +\n"
     ]
    },
    {
     "name": "stdout",
     "output_type": "stream",
     "text": [
      "test y shape : (17520, 1)\n",
      "Inv y shape : (17520, 66)\n"
     ]
    },
    {
     "name": "stderr",
     "output_type": "stream",
     "text": [
      "/Users/alexellard/opt/anaconda3/lib/python3.7/site-packages/xgboost/data.py:96: UserWarning: Use subset (sliced data) of np.ndarray is not recommended because it will generate extra copies and increase memory consumption\n",
      "  \"because it will generate extra copies and increase \" +\n"
     ]
    },
    {
     "name": "stdout",
     "output_type": "stream",
     "text": [
      "test y shape : (17520, 1)\n",
      "Inv y shape : (17520, 66)\n",
      "y pred shape : (17520, 1)\n",
      "inv y pred : (17520, 66)\n",
      "Run 10 Mean Absolute Error: 2.8553461516769487\n",
      "RMSE: 4.128\n",
      "R^2: 1.000\n",
      "[['link_30_flow', 'link_29_flow', 'link_18_flow', 'node_30_demand', 'node_8_demand', 'link_24_flow', 'link_14_flow', 'node_27_demand', 'link_3_flow', 'node_16_demand', 'node_16_pressure', 'link_26_flow', 'node_12_pressure', 'node_2_pressure', 'node_11_pressure', 'node_21_pressure', 'node_10_pressure', 'node_23_demand', 'node_17_demand', 'node_6_pressure', 'node_7_pressure', 'link_4_flow', 'node_12_demand', 'link_2_flow', 'link_19_flow', 'link_31_flow', 'node_1_pressure', 'node_28_demand', 'node_3_pressure', 'link_22_flow', 'link_27_flow', 'node_26_pressure', 'node_7_demand', 'link_15_flow', 'node_5_demand']]\n",
      "starting df shape: (87600, 61)\n",
      "This is training run 1 and has the shape:  (87600, 61)\n",
      "The value of dropped columns is 35\n"
     ]
    },
    {
     "name": "stderr",
     "output_type": "stream",
     "text": [
      "/Users/alexellard/opt/anaconda3/lib/python3.7/site-packages/xgboost/data.py:96: UserWarning: Use subset (sliced data) of np.ndarray is not recommended because it will generate extra copies and increase memory consumption\n",
      "  \"because it will generate extra copies and increase \" +\n"
     ]
    },
    {
     "name": "stdout",
     "output_type": "stream",
     "text": [
      "test y shape : (17520, 1)\n",
      "Inv y shape : (17520, 61)\n"
     ]
    },
    {
     "name": "stderr",
     "output_type": "stream",
     "text": [
      "/Users/alexellard/opt/anaconda3/lib/python3.7/site-packages/xgboost/data.py:96: UserWarning: Use subset (sliced data) of np.ndarray is not recommended because it will generate extra copies and increase memory consumption\n",
      "  \"because it will generate extra copies and increase \" +\n"
     ]
    },
    {
     "name": "stdout",
     "output_type": "stream",
     "text": [
      "test y shape : (17520, 1)\n",
      "Inv y shape : (17520, 61)\n",
      "y pred shape : (17520, 1)\n",
      "inv y pred : (17520, 61)\n",
      "Run 1 Mean Absolute Error: 2.9465196781761778\n",
      "RMSE: 4.214\n",
      "R^2: 1.000\n",
      "[['node_25_pressure', 'node_4_demand', 'node_14_pressure', 'node_19_pressure', 'link_14_flow', 'node_20_pressure', 'node_18_demand', 'node_28_pressure', 'node_15_pressure', 'node_21_pressure', 'node_29_demand', 'node_20_demand', 'node_30_demand', 'node_6_pressure', 'node_12_demand', 'link_10_flow', 'link_9_flow', 'node_21_demand', 'link_18_flow', 'link_15_flow', 'node_6_demand', 'node_19_demand', 'node_15_demand', 'node_27_demand', 'link_30_flow', 'link_8_flow', 'node_1_demand', 'link_6_flow', 'node_24_demand', 'link_11_flow', 'link_2_flow', 'node_10_pressure', 'node_31_demand', 'link_4_flow', 'link_27_flow']]\n",
      "starting df shape: (87600, 61)\n",
      "This is training run 2 and has the shape:  (87600, 61)\n",
      "The value of dropped columns is 35\n"
     ]
    },
    {
     "name": "stderr",
     "output_type": "stream",
     "text": [
      "/Users/alexellard/opt/anaconda3/lib/python3.7/site-packages/xgboost/data.py:96: UserWarning: Use subset (sliced data) of np.ndarray is not recommended because it will generate extra copies and increase memory consumption\n",
      "  \"because it will generate extra copies and increase \" +\n"
     ]
    },
    {
     "name": "stdout",
     "output_type": "stream",
     "text": [
      "test y shape : (17520, 1)\n",
      "Inv y shape : (17520, 61)\n"
     ]
    },
    {
     "name": "stderr",
     "output_type": "stream",
     "text": [
      "/Users/alexellard/opt/anaconda3/lib/python3.7/site-packages/xgboost/data.py:96: UserWarning: Use subset (sliced data) of np.ndarray is not recommended because it will generate extra copies and increase memory consumption\n",
      "  \"because it will generate extra copies and increase \" +\n"
     ]
    },
    {
     "name": "stdout",
     "output_type": "stream",
     "text": [
      "test y shape : (17520, 1)\n",
      "Inv y shape : (17520, 61)\n",
      "y pred shape : (17520, 1)\n",
      "inv y pred : (17520, 61)\n",
      "Run 2 Mean Absolute Error: 3.4742143879159166\n",
      "RMSE: 4.807\n",
      "R^2: 1.000\n",
      "[['link_24_flow', 'link_16_flow', 'node_10_demand', 'link_7_flow', 'link_6_flow', 'link_14_flow', 'link_2_flow', 'node_2_pressure', 'node_28_pressure', 'node_8_pressure', 'node_1_demand', 'node_15_demand', 'link_13_flow', 'node_25_pressure', 'link_18_flow', 'node_8_demand', 'node_10_pressure', 'link_23_flow', 'node_29_demand', 'node_31_pressure', 'link_9_flow', 'node_17_demand', 'reservoir_pressure', 'link_1_flow', 'node_7_pressure', 'link_32_flow', 'node_17_pressure', 'node_27_demand', 'node_2_demand', 'link_5_flow', 'link_25_flow', 'node_7_demand', 'node_9_demand', 'node_4_pressure', 'node_23_demand']]\n",
      "starting df shape: (87600, 61)\n",
      "This is training run 3 and has the shape:  (87600, 61)\n",
      "The value of dropped columns is 35\n"
     ]
    },
    {
     "name": "stderr",
     "output_type": "stream",
     "text": [
      "/Users/alexellard/opt/anaconda3/lib/python3.7/site-packages/xgboost/data.py:96: UserWarning: Use subset (sliced data) of np.ndarray is not recommended because it will generate extra copies and increase memory consumption\n",
      "  \"because it will generate extra copies and increase \" +\n"
     ]
    },
    {
     "name": "stdout",
     "output_type": "stream",
     "text": [
      "test y shape : (17520, 1)\n",
      "Inv y shape : (17520, 61)\n"
     ]
    },
    {
     "name": "stderr",
     "output_type": "stream",
     "text": [
      "/Users/alexellard/opt/anaconda3/lib/python3.7/site-packages/xgboost/data.py:96: UserWarning: Use subset (sliced data) of np.ndarray is not recommended because it will generate extra copies and increase memory consumption\n",
      "  \"because it will generate extra copies and increase \" +\n"
     ]
    },
    {
     "name": "stdout",
     "output_type": "stream",
     "text": [
      "test y shape : (17520, 1)\n",
      "Inv y shape : (17520, 61)\n",
      "y pred shape : (17520, 1)\n",
      "inv y pred : (17520, 61)\n",
      "Run 3 Mean Absolute Error: 3.5238202207461455\n",
      "RMSE: 4.923\n",
      "R^2: 1.000\n",
      "[['link_6_flow', 'node_5_pressure', 'node_30_demand', 'node_7_demand', 'link_30_flow', 'node_28_pressure', 'node_12_demand', 'node_30_pressure', 'node_2_demand', 'link_17_flow', 'link_11_flow', 'link_5_flow', 'link_1_flow', 'node_13_demand', 'node_11_demand', 'link_22_flow', 'link_28_flow', 'node_14_pressure', 'node_3_pressure', 'node_15_pressure', 'node_14_demand', 'link_9_flow', 'node_4_pressure', 'node_18_pressure', 'node_16_demand', 'node_9_demand', 'link_8_flow', 'node_27_pressure', 'link_13_flow', 'node_25_pressure', 'node_1_pressure', 'node_22_pressure', 'node_23_pressure', 'link_4_flow', 'link_19_flow']]\n",
      "starting df shape: (87600, 61)\n",
      "This is training run 4 and has the shape:  (87600, 61)\n",
      "The value of dropped columns is 35\n"
     ]
    },
    {
     "name": "stderr",
     "output_type": "stream",
     "text": [
      "/Users/alexellard/opt/anaconda3/lib/python3.7/site-packages/xgboost/data.py:96: UserWarning: Use subset (sliced data) of np.ndarray is not recommended because it will generate extra copies and increase memory consumption\n",
      "  \"because it will generate extra copies and increase \" +\n"
     ]
    },
    {
     "name": "stdout",
     "output_type": "stream",
     "text": [
      "test y shape : (17520, 1)\n",
      "Inv y shape : (17520, 61)\n"
     ]
    },
    {
     "name": "stderr",
     "output_type": "stream",
     "text": [
      "/Users/alexellard/opt/anaconda3/lib/python3.7/site-packages/xgboost/data.py:96: UserWarning: Use subset (sliced data) of np.ndarray is not recommended because it will generate extra copies and increase memory consumption\n",
      "  \"because it will generate extra copies and increase \" +\n"
     ]
    },
    {
     "name": "stdout",
     "output_type": "stream",
     "text": [
      "test y shape : (17520, 1)\n",
      "Inv y shape : (17520, 61)\n",
      "y pred shape : (17520, 1)\n",
      "inv y pred : (17520, 61)\n",
      "Run 4 Mean Absolute Error: 4.496004210258348\n",
      "RMSE: 6.071\n",
      "R^2: 1.000\n",
      "[['node_2_demand', 'node_18_demand', 'node_25_pressure', 'link_13_flow', 'node_22_demand', 'node_4_pressure', 'node_13_pressure', 'link_10_flow', 'link_25_flow', 'link_17_flow', 'node_10_demand', 'node_9_demand', 'node_1_demand', 'link_28_flow', 'link_20_flow', 'node_8_pressure', 'node_21_pressure', 'link_32_flow', 'node_31_pressure', 'link_22_flow', 'node_8_demand', 'link_1_flow', 'node_16_pressure', 'node_20_pressure', 'node_31_demand', 'link_5_flow', 'link_19_flow', 'link_8_flow', 'node_7_pressure', 'link_9_flow', 'link_14_flow', 'link_24_flow', 'link_26_flow', 'node_27_pressure', 'node_18_pressure']]\n",
      "starting df shape: (87600, 61)\n",
      "This is training run 5 and has the shape:  (87600, 61)\n",
      "The value of dropped columns is 35\n"
     ]
    },
    {
     "name": "stderr",
     "output_type": "stream",
     "text": [
      "/Users/alexellard/opt/anaconda3/lib/python3.7/site-packages/xgboost/data.py:96: UserWarning: Use subset (sliced data) of np.ndarray is not recommended because it will generate extra copies and increase memory consumption\n",
      "  \"because it will generate extra copies and increase \" +\n"
     ]
    },
    {
     "name": "stdout",
     "output_type": "stream",
     "text": [
      "test y shape : (17520, 1)\n",
      "Inv y shape : (17520, 61)\n"
     ]
    },
    {
     "name": "stderr",
     "output_type": "stream",
     "text": [
      "/Users/alexellard/opt/anaconda3/lib/python3.7/site-packages/xgboost/data.py:96: UserWarning: Use subset (sliced data) of np.ndarray is not recommended because it will generate extra copies and increase memory consumption\n",
      "  \"because it will generate extra copies and increase \" +\n"
     ]
    },
    {
     "name": "stdout",
     "output_type": "stream",
     "text": [
      "test y shape : (17520, 1)\n",
      "Inv y shape : (17520, 61)\n",
      "y pred shape : (17520, 1)\n",
      "inv y pred : (17520, 61)\n",
      "Run 5 Mean Absolute Error: 3.4699269288233086\n",
      "RMSE: 4.864\n",
      "R^2: 1.000\n",
      "[['link_7_flow', 'link_21_flow', 'node_18_demand', 'node_27_demand', 'node_8_demand', 'node_14_demand', 'link_27_flow', 'link_5_flow', 'node_20_pressure', 'node_23_demand', 'node_1_demand', 'node_31_demand', 'node_19_demand', 'node_22_demand', 'link_24_flow', 'node_30_demand', 'node_3_demand', 'link_28_flow', 'node_21_demand', 'link_18_flow', 'node_13_demand', 'node_3_pressure', 'link_19_flow', 'link_13_flow', 'node_24_demand', 'node_15_demand', 'link_3_flow', 'link_10_flow', 'node_26_pressure', 'link_2_flow', 'node_17_pressure', 'node_6_demand', 'node_9_pressure', 'link_20_flow']]\n",
      "starting df shape: (87600, 62)\n",
      "This is training run 6 and has the shape:  (87600, 62)\n",
      "The value of dropped columns is 35\n"
     ]
    },
    {
     "name": "stderr",
     "output_type": "stream",
     "text": [
      "/Users/alexellard/opt/anaconda3/lib/python3.7/site-packages/xgboost/data.py:96: UserWarning: Use subset (sliced data) of np.ndarray is not recommended because it will generate extra copies and increase memory consumption\n",
      "  \"because it will generate extra copies and increase \" +\n"
     ]
    },
    {
     "name": "stdout",
     "output_type": "stream",
     "text": [
      "test y shape : (17520, 1)\n",
      "Inv y shape : (17520, 62)\n"
     ]
    },
    {
     "name": "stderr",
     "output_type": "stream",
     "text": [
      "/Users/alexellard/opt/anaconda3/lib/python3.7/site-packages/xgboost/data.py:96: UserWarning: Use subset (sliced data) of np.ndarray is not recommended because it will generate extra copies and increase memory consumption\n",
      "  \"because it will generate extra copies and increase \" +\n"
     ]
    },
    {
     "name": "stdout",
     "output_type": "stream",
     "text": [
      "test y shape : (17520, 1)\n",
      "Inv y shape : (17520, 62)\n",
      "y pred shape : (17520, 1)\n",
      "inv y pred : (17520, 62)\n",
      "Run 6 Mean Absolute Error: 3.1568054024555345\n",
      "RMSE: 4.424\n",
      "R^2: 1.000\n",
      "[['link_10_flow', 'node_14_pressure', 'node_30_pressure', 'node_25_pressure', 'node_21_pressure', 'node_9_demand', 'node_27_demand', 'link_2_flow', 'link_23_flow', 'link_32_flow', 'node_20_demand', 'node_3_demand', 'link_15_flow', 'link_7_flow', 'node_24_pressure', 'link_31_flow', 'link_1_flow', 'node_21_demand', 'reservoir_pressure', 'link_24_flow', 'link_28_flow', 'node_1_demand', 'node_6_demand', 'link_22_flow', 'node_16_pressure', 'node_24_demand', 'node_8_pressure', 'node_16_demand', 'link_30_flow', 'node_22_pressure', 'link_27_flow', 'link_14_flow', 'link_16_flow', 'node_5_pressure', 'link_11_flow']]\n",
      "starting df shape: (87600, 61)\n",
      "This is training run 7 and has the shape:  (87600, 61)\n",
      "The value of dropped columns is 35\n"
     ]
    },
    {
     "name": "stderr",
     "output_type": "stream",
     "text": [
      "/Users/alexellard/opt/anaconda3/lib/python3.7/site-packages/xgboost/data.py:96: UserWarning: Use subset (sliced data) of np.ndarray is not recommended because it will generate extra copies and increase memory consumption\n",
      "  \"because it will generate extra copies and increase \" +\n"
     ]
    },
    {
     "name": "stdout",
     "output_type": "stream",
     "text": [
      "test y shape : (17520, 1)\n",
      "Inv y shape : (17520, 61)\n"
     ]
    },
    {
     "name": "stderr",
     "output_type": "stream",
     "text": [
      "/Users/alexellard/opt/anaconda3/lib/python3.7/site-packages/xgboost/data.py:96: UserWarning: Use subset (sliced data) of np.ndarray is not recommended because it will generate extra copies and increase memory consumption\n",
      "  \"because it will generate extra copies and increase \" +\n"
     ]
    },
    {
     "name": "stdout",
     "output_type": "stream",
     "text": [
      "test y shape : (17520, 1)\n",
      "Inv y shape : (17520, 61)\n",
      "y pred shape : (17520, 1)\n",
      "inv y pred : (17520, 61)\n",
      "Run 7 Mean Absolute Error: 4.410451903171576\n",
      "RMSE: 6.043\n",
      "R^2: 1.000\n",
      "[['node_24_pressure', 'link_13_flow', 'link_19_flow', 'node_14_demand', 'link_14_flow', 'node_8_pressure', 'node_5_pressure', 'link_22_flow', 'node_1_demand', 'link_4_flow', 'node_2_demand', 'node_28_demand', 'node_18_demand', 'link_7_flow', 'node_10_demand', 'node_13_demand', 'link_31_flow', 'link_18_flow', 'node_19_demand', 'node_21_demand', 'node_24_demand', 'node_11_demand', 'node_1_pressure', 'link_23_flow', 'link_6_flow', 'node_12_pressure', 'node_30_pressure', 'node_20_pressure', 'reservoir_pressure', 'node_26_pressure', 'link_11_flow', 'link_1_flow', 'link_2_flow', 'link_16_flow', 'node_13_pressure']]\n",
      "starting df shape: (87600, 61)\n",
      "This is training run 8 and has the shape:  (87600, 61)\n",
      "The value of dropped columns is 35\n"
     ]
    },
    {
     "name": "stderr",
     "output_type": "stream",
     "text": [
      "/Users/alexellard/opt/anaconda3/lib/python3.7/site-packages/xgboost/data.py:96: UserWarning: Use subset (sliced data) of np.ndarray is not recommended because it will generate extra copies and increase memory consumption\n",
      "  \"because it will generate extra copies and increase \" +\n"
     ]
    },
    {
     "name": "stdout",
     "output_type": "stream",
     "text": [
      "test y shape : (17520, 1)\n",
      "Inv y shape : (17520, 61)\n"
     ]
    },
    {
     "name": "stderr",
     "output_type": "stream",
     "text": [
      "/Users/alexellard/opt/anaconda3/lib/python3.7/site-packages/xgboost/data.py:96: UserWarning: Use subset (sliced data) of np.ndarray is not recommended because it will generate extra copies and increase memory consumption\n",
      "  \"because it will generate extra copies and increase \" +\n"
     ]
    },
    {
     "name": "stdout",
     "output_type": "stream",
     "text": [
      "test y shape : (17520, 1)\n",
      "Inv y shape : (17520, 61)\n",
      "y pred shape : (17520, 1)\n",
      "inv y pred : (17520, 61)\n",
      "Run 8 Mean Absolute Error: 4.165467296354334\n",
      "RMSE: 5.684\n",
      "R^2: 1.000\n",
      "[['node_8_pressure', 'node_21_demand', 'node_16_demand', 'node_5_demand', 'node_9_demand', 'reservoir_demand', 'link_9_flow', 'link_6_flow', 'node_14_demand', 'link_27_flow', 'node_31_pressure', 'node_26_pressure', 'link_11_flow', 'link_19_flow', 'node_9_pressure', 'node_18_pressure', 'node_4_demand', 'link_20_flow', 'node_3_demand', 'link_24_flow', 'node_6_demand', 'node_10_pressure', 'link_17_flow', 'node_31_demand', 'node_6_pressure', 'node_26_demand', 'link_31_flow', 'node_28_pressure', 'node_19_demand', 'node_3_pressure', 'node_24_demand', 'node_12_pressure', 'link_10_flow', 'node_11_demand', 'link_28_flow']]\n",
      "starting df shape: (87600, 61)\n",
      "This is training run 9 and has the shape:  (87600, 61)\n",
      "The value of dropped columns is 35\n"
     ]
    },
    {
     "name": "stderr",
     "output_type": "stream",
     "text": [
      "/Users/alexellard/opt/anaconda3/lib/python3.7/site-packages/xgboost/data.py:96: UserWarning: Use subset (sliced data) of np.ndarray is not recommended because it will generate extra copies and increase memory consumption\n",
      "  \"because it will generate extra copies and increase \" +\n"
     ]
    },
    {
     "name": "stdout",
     "output_type": "stream",
     "text": [
      "test y shape : (17520, 1)\n",
      "Inv y shape : (17520, 61)\n"
     ]
    },
    {
     "name": "stderr",
     "output_type": "stream",
     "text": [
      "/Users/alexellard/opt/anaconda3/lib/python3.7/site-packages/xgboost/data.py:96: UserWarning: Use subset (sliced data) of np.ndarray is not recommended because it will generate extra copies and increase memory consumption\n",
      "  \"because it will generate extra copies and increase \" +\n"
     ]
    },
    {
     "name": "stdout",
     "output_type": "stream",
     "text": [
      "test y shape : (17520, 1)\n",
      "Inv y shape : (17520, 61)\n",
      "y pred shape : (17520, 1)\n",
      "inv y pred : (17520, 61)\n",
      "Run 9 Mean Absolute Error: 0.23063681407416559\n",
      "RMSE: 0.312\n",
      "R^2: 1.000\n",
      "[['node_24_pressure', 'node_29_demand', 'node_20_demand', 'node_28_demand', 'link_6_flow', 'node_6_demand', 'node_18_pressure', 'link_28_flow', 'node_20_pressure', 'node_9_demand', 'link_24_flow', 'node_14_demand', 'node_16_demand', 'node_7_pressure', 'node_31_demand', 'node_28_pressure', 'link_9_flow', 'node_5_demand', 'link_14_flow', 'node_15_demand', 'node_2_demand', 'link_30_flow', 'node_7_demand', 'node_23_pressure', 'node_19_demand', 'node_21_pressure', 'node_10_pressure', 'link_31_flow', 'node_24_demand', 'link_20_flow', 'node_4_demand', 'link_10_flow', 'node_23_demand', 'node_8_demand']]\n",
      "starting df shape: (87600, 62)\n",
      "This is training run 10 and has the shape:  (87600, 62)\n",
      "The value of dropped columns is 35\n"
     ]
    },
    {
     "name": "stderr",
     "output_type": "stream",
     "text": [
      "/Users/alexellard/opt/anaconda3/lib/python3.7/site-packages/xgboost/data.py:96: UserWarning: Use subset (sliced data) of np.ndarray is not recommended because it will generate extra copies and increase memory consumption\n",
      "  \"because it will generate extra copies and increase \" +\n"
     ]
    },
    {
     "name": "stdout",
     "output_type": "stream",
     "text": [
      "test y shape : (17520, 1)\n",
      "Inv y shape : (17520, 62)\n"
     ]
    },
    {
     "name": "stderr",
     "output_type": "stream",
     "text": [
      "/Users/alexellard/opt/anaconda3/lib/python3.7/site-packages/xgboost/data.py:96: UserWarning: Use subset (sliced data) of np.ndarray is not recommended because it will generate extra copies and increase memory consumption\n",
      "  \"because it will generate extra copies and increase \" +\n"
     ]
    },
    {
     "name": "stdout",
     "output_type": "stream",
     "text": [
      "test y shape : (17520, 1)\n",
      "Inv y shape : (17520, 62)\n",
      "y pred shape : (17520, 1)\n",
      "inv y pred : (17520, 62)\n",
      "Run 10 Mean Absolute Error: 3.520912958747388\n",
      "RMSE: 4.994\n",
      "R^2: 1.000\n",
      "[['node_3_pressure', 'reservoir_pressure', 'node_15_demand', 'node_13_demand', 'node_17_pressure', 'node_16_pressure', 'node_21_pressure', 'node_23_pressure', 'node_31_demand', 'link_11_flow', 'node_26_pressure', 'node_11_demand', 'link_3_flow', 'node_16_demand', 'node_18_pressure', 'node_19_pressure', 'node_24_demand', 'node_27_pressure', 'link_29_flow', 'link_22_flow', 'link_31_flow', 'node_15_pressure', 'node_25_demand', 'link_26_flow', 'link_2_flow', 'node_12_pressure', 'link_13_flow', 'node_29_demand', 'node_9_pressure', 'link_18_flow', 'node_10_pressure', 'node_21_demand', 'link_23_flow', 'node_13_pressure', 'node_8_demand', 'link_12_flow', 'node_30_demand', 'node_11_pressure', 'node_17_demand']]\n",
      "starting df shape: (87600, 57)\n",
      "This is training run 1 and has the shape:  (87600, 57)\n",
      "The value of dropped columns is 40\n"
     ]
    },
    {
     "name": "stderr",
     "output_type": "stream",
     "text": [
      "/Users/alexellard/opt/anaconda3/lib/python3.7/site-packages/xgboost/data.py:96: UserWarning: Use subset (sliced data) of np.ndarray is not recommended because it will generate extra copies and increase memory consumption\n",
      "  \"because it will generate extra copies and increase \" +\n"
     ]
    },
    {
     "name": "stdout",
     "output_type": "stream",
     "text": [
      "test y shape : (17520, 1)\n",
      "Inv y shape : (17520, 57)\n"
     ]
    },
    {
     "name": "stderr",
     "output_type": "stream",
     "text": [
      "/Users/alexellard/opt/anaconda3/lib/python3.7/site-packages/xgboost/data.py:96: UserWarning: Use subset (sliced data) of np.ndarray is not recommended because it will generate extra copies and increase memory consumption\n",
      "  \"because it will generate extra copies and increase \" +\n"
     ]
    },
    {
     "name": "stdout",
     "output_type": "stream",
     "text": [
      "test y shape : (17520, 1)\n",
      "Inv y shape : (17520, 57)\n",
      "y pred shape : (17520, 1)\n",
      "inv y pred : (17520, 57)\n",
      "Run 1 Mean Absolute Error: 3.303919429913063\n",
      "RMSE: 4.772\n",
      "R^2: 1.000\n",
      "[['node_28_demand', 'node_30_pressure', 'link_28_flow', 'node_12_demand', 'link_17_flow', 'node_1_pressure', 'node_7_demand', 'reservoir_demand', 'node_19_demand', 'node_10_demand', 'link_29_flow', 'node_27_demand', 'node_25_pressure', 'link_8_flow', 'link_27_flow', 'node_25_demand', 'link_1_flow', 'node_3_pressure', 'link_15_flow', 'node_16_demand', 'link_18_flow', 'link_25_flow', 'link_32_flow', 'node_30_demand', 'node_10_pressure', 'node_15_pressure', 'node_13_pressure', 'link_12_flow', 'link_7_flow', 'node_15_demand', 'node_29_demand', 'node_21_pressure', 'node_26_demand', 'node_11_pressure', 'link_20_flow', 'link_2_flow', 'node_4_pressure', 'link_23_flow', 'node_22_demand', 'node_7_pressure']]\n",
      "starting df shape: (87600, 56)\n",
      "This is training run 2 and has the shape:  (87600, 56)\n",
      "The value of dropped columns is 40\n"
     ]
    },
    {
     "name": "stderr",
     "output_type": "stream",
     "text": [
      "/Users/alexellard/opt/anaconda3/lib/python3.7/site-packages/xgboost/data.py:96: UserWarning: Use subset (sliced data) of np.ndarray is not recommended because it will generate extra copies and increase memory consumption\n",
      "  \"because it will generate extra copies and increase \" +\n"
     ]
    },
    {
     "name": "stdout",
     "output_type": "stream",
     "text": [
      "test y shape : (17520, 1)\n",
      "Inv y shape : (17520, 56)\n"
     ]
    },
    {
     "name": "stderr",
     "output_type": "stream",
     "text": [
      "/Users/alexellard/opt/anaconda3/lib/python3.7/site-packages/xgboost/data.py:96: UserWarning: Use subset (sliced data) of np.ndarray is not recommended because it will generate extra copies and increase memory consumption\n",
      "  \"because it will generate extra copies and increase \" +\n"
     ]
    },
    {
     "name": "stdout",
     "output_type": "stream",
     "text": [
      "test y shape : (17520, 1)\n",
      "Inv y shape : (17520, 56)\n",
      "y pred shape : (17520, 1)\n",
      "inv y pred : (17520, 56)\n",
      "Run 2 Mean Absolute Error: 0.2672673748857865\n",
      "RMSE: 0.368\n",
      "R^2: 1.000\n",
      "[['node_23_demand', 'node_17_demand', 'node_3_pressure', 'node_6_pressure', 'node_22_demand', 'node_24_demand', 'node_28_demand', 'node_7_pressure', 'node_11_demand', 'node_12_pressure', 'node_21_pressure', 'link_17_flow', 'node_27_demand', 'link_10_flow', 'link_11_flow', 'link_8_flow', 'link_29_flow', 'link_23_flow', 'node_29_demand', 'link_2_flow', 'node_3_demand', 'node_9_demand', 'node_18_pressure', 'node_23_pressure', 'node_13_pressure', 'link_31_flow', 'link_7_flow', 'link_20_flow', 'node_31_demand', 'reservoir_demand', 'link_28_flow', 'node_20_demand', 'node_5_pressure', 'node_25_pressure', 'node_27_pressure', 'node_4_demand', 'link_24_flow', 'node_8_demand', 'node_13_demand', 'node_22_pressure']]\n",
      "starting df shape: (87600, 56)\n",
      "This is training run 3 and has the shape:  (87600, 56)\n",
      "The value of dropped columns is 40\n"
     ]
    },
    {
     "name": "stderr",
     "output_type": "stream",
     "text": [
      "/Users/alexellard/opt/anaconda3/lib/python3.7/site-packages/xgboost/data.py:96: UserWarning: Use subset (sliced data) of np.ndarray is not recommended because it will generate extra copies and increase memory consumption\n",
      "  \"because it will generate extra copies and increase \" +\n"
     ]
    },
    {
     "name": "stdout",
     "output_type": "stream",
     "text": [
      "test y shape : (17520, 1)\n",
      "Inv y shape : (17520, 56)\n"
     ]
    },
    {
     "name": "stderr",
     "output_type": "stream",
     "text": [
      "/Users/alexellard/opt/anaconda3/lib/python3.7/site-packages/xgboost/data.py:96: UserWarning: Use subset (sliced data) of np.ndarray is not recommended because it will generate extra copies and increase memory consumption\n",
      "  \"because it will generate extra copies and increase \" +\n"
     ]
    },
    {
     "name": "stdout",
     "output_type": "stream",
     "text": [
      "test y shape : (17520, 1)\n",
      "Inv y shape : (17520, 56)\n",
      "y pred shape : (17520, 1)\n",
      "inv y pred : (17520, 56)\n",
      "Run 3 Mean Absolute Error: 0.19276352603196728\n",
      "RMSE: 0.274\n",
      "R^2: 1.000\n",
      "[['link_29_flow', 'link_11_flow', 'link_14_flow', 'node_24_pressure', 'node_25_pressure', 'link_28_flow', 'node_28_demand', 'link_31_flow', 'link_25_flow', 'node_10_pressure', 'link_21_flow', 'node_8_pressure', 'link_15_flow', 'node_20_demand', 'node_29_demand', 'node_12_pressure', 'node_26_demand', 'node_24_demand', 'link_22_flow', 'link_16_flow', 'node_30_pressure', 'node_8_demand', 'node_21_pressure', 'link_18_flow', 'link_7_flow', 'link_5_flow', 'node_22_demand', 'reservoir_demand', 'link_20_flow', 'node_13_pressure', 'link_17_flow', 'node_16_demand', 'link_23_flow', 'node_16_pressure', 'node_3_pressure', 'link_3_flow', 'link_1_flow', 'link_32_flow', 'node_4_pressure']]\n",
      "starting df shape: (87600, 57)\n",
      "This is training run 4 and has the shape:  (87600, 57)\n",
      "The value of dropped columns is 40\n"
     ]
    },
    {
     "name": "stderr",
     "output_type": "stream",
     "text": [
      "/Users/alexellard/opt/anaconda3/lib/python3.7/site-packages/xgboost/data.py:96: UserWarning: Use subset (sliced data) of np.ndarray is not recommended because it will generate extra copies and increase memory consumption\n",
      "  \"because it will generate extra copies and increase \" +\n"
     ]
    },
    {
     "name": "stdout",
     "output_type": "stream",
     "text": [
      "test y shape : (17520, 1)\n",
      "Inv y shape : (17520, 57)\n"
     ]
    },
    {
     "name": "stderr",
     "output_type": "stream",
     "text": [
      "/Users/alexellard/opt/anaconda3/lib/python3.7/site-packages/xgboost/data.py:96: UserWarning: Use subset (sliced data) of np.ndarray is not recommended because it will generate extra copies and increase memory consumption\n",
      "  \"because it will generate extra copies and increase \" +\n"
     ]
    },
    {
     "name": "stdout",
     "output_type": "stream",
     "text": [
      "test y shape : (17520, 1)\n",
      "Inv y shape : (17520, 57)\n",
      "y pred shape : (17520, 1)\n",
      "inv y pred : (17520, 57)\n",
      "Run 4 Mean Absolute Error: 0.26309344415232094\n",
      "RMSE: 0.369\n",
      "R^2: 1.000\n",
      "[['node_19_demand', 'node_25_demand', 'node_3_pressure', 'link_16_flow', 'node_12_demand', 'link_22_flow', 'link_26_flow', 'node_20_pressure', 'link_9_flow', 'link_31_flow', 'node_30_pressure', 'link_5_flow', 'node_30_demand', 'node_8_demand', 'node_13_pressure', 'node_18_pressure', 'node_21_demand', 'link_17_flow', 'node_16_demand', 'link_1_flow', 'link_10_flow', 'link_23_flow', 'node_31_pressure', 'node_9_pressure', 'link_27_flow', 'link_7_flow', 'node_14_demand', 'link_32_flow', 'link_2_flow', 'node_9_demand', 'node_17_pressure', 'node_6_pressure', 'node_22_demand', 'node_7_demand', 'node_13_demand', 'link_11_flow', 'link_8_flow', 'node_21_pressure', 'node_14_pressure']]\n",
      "starting df shape: (87600, 57)\n",
      "This is training run 5 and has the shape:  (87600, 57)\n",
      "The value of dropped columns is 40\n"
     ]
    },
    {
     "name": "stderr",
     "output_type": "stream",
     "text": [
      "/Users/alexellard/opt/anaconda3/lib/python3.7/site-packages/xgboost/data.py:96: UserWarning: Use subset (sliced data) of np.ndarray is not recommended because it will generate extra copies and increase memory consumption\n",
      "  \"because it will generate extra copies and increase \" +\n"
     ]
    },
    {
     "name": "stdout",
     "output_type": "stream",
     "text": [
      "test y shape : (17520, 1)\n",
      "Inv y shape : (17520, 57)\n"
     ]
    },
    {
     "name": "stderr",
     "output_type": "stream",
     "text": [
      "/Users/alexellard/opt/anaconda3/lib/python3.7/site-packages/xgboost/data.py:96: UserWarning: Use subset (sliced data) of np.ndarray is not recommended because it will generate extra copies and increase memory consumption\n",
      "  \"because it will generate extra copies and increase \" +\n"
     ]
    },
    {
     "name": "stdout",
     "output_type": "stream",
     "text": [
      "test y shape : (17520, 1)\n",
      "Inv y shape : (17520, 57)\n",
      "y pred shape : (17520, 1)\n",
      "inv y pred : (17520, 57)\n",
      "Run 5 Mean Absolute Error: 5.648787592189594\n",
      "RMSE: 7.885\n",
      "R^2: 1.000\n",
      "[['link_6_flow', 'node_31_demand', 'link_4_flow', 'link_16_flow', 'link_28_flow', 'node_13_demand', 'link_31_flow', 'node_26_demand', 'node_24_pressure', 'node_2_pressure', 'link_11_flow', 'node_3_demand', 'node_30_demand', 'node_5_demand', 'node_25_demand', 'node_8_demand', 'node_19_pressure', 'node_16_pressure', 'node_22_pressure', 'link_7_flow', 'node_7_demand', 'node_1_demand', 'node_27_demand', 'node_14_pressure', 'link_32_flow', 'node_4_demand', 'node_15_pressure', 'node_4_pressure', 'node_21_demand', 'node_5_pressure', 'node_6_pressure', 'node_11_pressure', 'node_23_pressure', 'link_24_flow', 'link_14_flow', 'node_24_demand', 'node_2_demand', 'node_9_pressure', 'link_26_flow', 'link_22_flow']]\n",
      "starting df shape: (87600, 56)\n",
      "This is training run 6 and has the shape:  (87600, 56)\n",
      "The value of dropped columns is 40\n"
     ]
    },
    {
     "name": "stderr",
     "output_type": "stream",
     "text": [
      "/Users/alexellard/opt/anaconda3/lib/python3.7/site-packages/xgboost/data.py:96: UserWarning: Use subset (sliced data) of np.ndarray is not recommended because it will generate extra copies and increase memory consumption\n",
      "  \"because it will generate extra copies and increase \" +\n"
     ]
    },
    {
     "name": "stdout",
     "output_type": "stream",
     "text": [
      "test y shape : (17520, 1)\n",
      "Inv y shape : (17520, 56)\n"
     ]
    },
    {
     "name": "stderr",
     "output_type": "stream",
     "text": [
      "/Users/alexellard/opt/anaconda3/lib/python3.7/site-packages/xgboost/data.py:96: UserWarning: Use subset (sliced data) of np.ndarray is not recommended because it will generate extra copies and increase memory consumption\n",
      "  \"because it will generate extra copies and increase \" +\n"
     ]
    },
    {
     "name": "stdout",
     "output_type": "stream",
     "text": [
      "test y shape : (17520, 1)\n",
      "Inv y shape : (17520, 56)\n",
      "y pred shape : (17520, 1)\n",
      "inv y pred : (17520, 56)\n",
      "Run 6 Mean Absolute Error: 2.945883165383337\n",
      "RMSE: 4.176\n",
      "R^2: 1.000\n",
      "[['node_11_demand', 'link_8_flow', 'link_2_flow', 'node_27_demand', 'node_22_demand', 'node_31_demand', 'node_24_demand', 'node_31_pressure', 'link_5_flow', 'link_25_flow', 'node_10_pressure', 'node_4_demand', 'link_14_flow', 'link_4_flow', 'node_10_demand', 'link_15_flow', 'node_13_demand', 'link_3_flow', 'link_20_flow', 'node_26_pressure', 'link_7_flow', 'node_9_demand', 'node_19_pressure', 'node_2_pressure', 'node_18_demand', 'link_24_flow', 'node_21_pressure', 'link_30_flow', 'node_5_pressure', 'node_27_pressure', 'node_22_pressure', 'node_6_demand', 'node_25_demand', 'node_20_pressure', 'node_15_pressure', 'reservoir_pressure', 'node_23_demand', 'node_3_pressure', 'link_26_flow']]\n",
      "starting df shape: (87600, 57)\n",
      "This is training run 7 and has the shape:  (87600, 57)\n",
      "The value of dropped columns is 40\n"
     ]
    },
    {
     "name": "stderr",
     "output_type": "stream",
     "text": [
      "/Users/alexellard/opt/anaconda3/lib/python3.7/site-packages/xgboost/data.py:96: UserWarning: Use subset (sliced data) of np.ndarray is not recommended because it will generate extra copies and increase memory consumption\n",
      "  \"because it will generate extra copies and increase \" +\n"
     ]
    },
    {
     "name": "stdout",
     "output_type": "stream",
     "text": [
      "test y shape : (17520, 1)\n",
      "Inv y shape : (17520, 57)\n"
     ]
    },
    {
     "name": "stderr",
     "output_type": "stream",
     "text": [
      "/Users/alexellard/opt/anaconda3/lib/python3.7/site-packages/xgboost/data.py:96: UserWarning: Use subset (sliced data) of np.ndarray is not recommended because it will generate extra copies and increase memory consumption\n",
      "  \"because it will generate extra copies and increase \" +\n"
     ]
    },
    {
     "name": "stdout",
     "output_type": "stream",
     "text": [
      "test y shape : (17520, 1)\n",
      "Inv y shape : (17520, 57)\n",
      "y pred shape : (17520, 1)\n",
      "inv y pred : (17520, 57)\n",
      "Run 7 Mean Absolute Error: 3.1571163149613115\n",
      "RMSE: 4.401\n",
      "R^2: 1.000\n",
      "[['node_11_demand', 'link_26_flow', 'node_30_pressure', 'node_9_pressure', 'link_9_flow', 'node_10_pressure', 'node_17_demand', 'node_14_pressure', 'node_13_demand', 'node_3_demand', 'node_7_pressure', 'node_28_pressure', 'node_13_pressure', 'link_24_flow', 'node_1_demand', 'link_3_flow', 'node_16_demand', 'node_28_demand', 'link_21_flow', 'link_16_flow', 'link_32_flow', 'node_14_demand', 'link_7_flow', 'node_31_demand', 'node_5_pressure', 'reservoir_pressure', 'node_31_pressure', 'node_12_demand', 'node_8_demand', 'link_18_flow', 'link_4_flow', 'link_28_flow', 'link_2_flow', 'node_30_demand', 'node_25_demand', 'link_10_flow', 'node_23_demand', 'node_5_demand', 'link_5_flow', 'node_17_pressure']]\n",
      "starting df shape: (87600, 56)\n",
      "This is training run 8 and has the shape:  (87600, 56)\n",
      "The value of dropped columns is 40\n"
     ]
    },
    {
     "name": "stderr",
     "output_type": "stream",
     "text": [
      "/Users/alexellard/opt/anaconda3/lib/python3.7/site-packages/xgboost/data.py:96: UserWarning: Use subset (sliced data) of np.ndarray is not recommended because it will generate extra copies and increase memory consumption\n",
      "  \"because it will generate extra copies and increase \" +\n"
     ]
    },
    {
     "name": "stdout",
     "output_type": "stream",
     "text": [
      "test y shape : (17520, 1)\n",
      "Inv y shape : (17520, 56)\n"
     ]
    },
    {
     "name": "stderr",
     "output_type": "stream",
     "text": [
      "/Users/alexellard/opt/anaconda3/lib/python3.7/site-packages/xgboost/data.py:96: UserWarning: Use subset (sliced data) of np.ndarray is not recommended because it will generate extra copies and increase memory consumption\n",
      "  \"because it will generate extra copies and increase \" +\n"
     ]
    },
    {
     "name": "stdout",
     "output_type": "stream",
     "text": [
      "test y shape : (17520, 1)\n",
      "Inv y shape : (17520, 56)\n",
      "y pred shape : (17520, 1)\n",
      "inv y pred : (17520, 56)\n",
      "Run 8 Mean Absolute Error: 9.186763118468523\n",
      "RMSE: 12.441\n",
      "R^2: 1.000\n",
      "[['node_25_demand', 'node_9_pressure', 'link_12_flow', 'node_7_pressure', 'link_14_flow', 'link_28_flow', 'node_13_demand', 'node_2_pressure', 'node_6_demand', 'node_13_pressure', 'node_16_pressure', 'node_14_pressure', 'node_19_demand', 'link_2_flow', 'node_17_demand', 'node_4_pressure', 'link_23_flow', 'node_11_pressure', 'link_25_flow', 'node_5_pressure', 'node_23_demand', 'link_27_flow', 'link_8_flow', 'node_28_pressure', 'link_15_flow', 'node_28_demand', 'node_30_pressure', 'link_31_flow', 'link_21_flow', 'node_26_demand', 'reservoir_pressure', 'node_21_demand', 'node_8_pressure', 'node_31_demand', 'node_29_demand', 'link_6_flow', 'link_20_flow', 'node_24_demand', 'node_17_pressure', 'node_3_demand']]\n",
      "starting df shape: (87600, 56)\n",
      "This is training run 9 and has the shape:  (87600, 56)\n",
      "The value of dropped columns is 40\n"
     ]
    },
    {
     "name": "stderr",
     "output_type": "stream",
     "text": [
      "/Users/alexellard/opt/anaconda3/lib/python3.7/site-packages/xgboost/data.py:96: UserWarning: Use subset (sliced data) of np.ndarray is not recommended because it will generate extra copies and increase memory consumption\n",
      "  \"because it will generate extra copies and increase \" +\n"
     ]
    },
    {
     "name": "stdout",
     "output_type": "stream",
     "text": [
      "test y shape : (17520, 1)\n",
      "Inv y shape : (17520, 56)\n"
     ]
    },
    {
     "name": "stderr",
     "output_type": "stream",
     "text": [
      "/Users/alexellard/opt/anaconda3/lib/python3.7/site-packages/xgboost/data.py:96: UserWarning: Use subset (sliced data) of np.ndarray is not recommended because it will generate extra copies and increase memory consumption\n",
      "  \"because it will generate extra copies and increase \" +\n"
     ]
    },
    {
     "name": "stdout",
     "output_type": "stream",
     "text": [
      "test y shape : (17520, 1)\n",
      "Inv y shape : (17520, 56)\n",
      "y pred shape : (17520, 1)\n",
      "inv y pred : (17520, 56)\n",
      "Run 9 Mean Absolute Error: 4.911286247667347\n",
      "RMSE: 6.561\n",
      "R^2: 1.000\n",
      "[['node_26_demand', 'node_11_pressure', 'node_17_pressure', 'link_9_flow', 'link_20_flow', 'node_24_pressure', 'node_9_demand', 'link_21_flow', 'link_16_flow', 'link_27_flow', 'node_3_demand', 'reservoir_demand', 'node_8_pressure', 'node_13_pressure', 'node_19_demand', 'node_14_demand', 'node_30_pressure', 'link_3_flow', 'node_4_demand', 'node_23_demand', 'link_1_flow', 'node_3_pressure', 'link_22_flow', 'node_8_demand', 'node_2_pressure', 'node_7_demand', 'link_31_flow', 'node_4_pressure', 'link_30_flow', 'node_6_demand', 'link_26_flow', 'node_15_pressure', 'link_10_flow', 'link_7_flow', 'node_31_pressure', 'node_5_demand', 'node_12_pressure', 'node_27_demand', 'node_16_demand', 'node_18_demand']]\n",
      "starting df shape: (87600, 56)\n",
      "This is training run 10 and has the shape:  (87600, 56)\n",
      "The value of dropped columns is 40\n"
     ]
    },
    {
     "name": "stderr",
     "output_type": "stream",
     "text": [
      "/Users/alexellard/opt/anaconda3/lib/python3.7/site-packages/xgboost/data.py:96: UserWarning: Use subset (sliced data) of np.ndarray is not recommended because it will generate extra copies and increase memory consumption\n",
      "  \"because it will generate extra copies and increase \" +\n"
     ]
    },
    {
     "name": "stdout",
     "output_type": "stream",
     "text": [
      "test y shape : (17520, 1)\n",
      "Inv y shape : (17520, 56)\n"
     ]
    },
    {
     "name": "stderr",
     "output_type": "stream",
     "text": [
      "/Users/alexellard/opt/anaconda3/lib/python3.7/site-packages/xgboost/data.py:96: UserWarning: Use subset (sliced data) of np.ndarray is not recommended because it will generate extra copies and increase memory consumption\n",
      "  \"because it will generate extra copies and increase \" +\n"
     ]
    },
    {
     "name": "stdout",
     "output_type": "stream",
     "text": [
      "test y shape : (17520, 1)\n",
      "Inv y shape : (17520, 56)\n",
      "y pred shape : (17520, 1)\n",
      "inv y pred : (17520, 56)\n",
      "Run 10 Mean Absolute Error: 0.3202919862555889\n",
      "RMSE: 0.464\n",
      "R^2: 1.000\n",
      "[['link_3_flow', 'node_3_demand', 'link_8_flow', 'node_2_demand', 'node_3_pressure', 'node_11_pressure', 'node_25_demand', 'node_27_demand', 'node_12_demand', 'link_13_flow', 'node_26_demand', 'link_16_flow', 'node_1_pressure', 'node_27_pressure', 'node_23_demand', 'node_7_demand', 'node_2_pressure', 'node_4_demand', 'node_23_pressure', 'link_15_flow', 'link_17_flow', 'reservoir_pressure', 'node_28_pressure', 'link_11_flow', 'node_18_demand', 'link_5_flow', 'reservoir_demand', 'node_5_pressure', 'node_19_pressure', 'node_8_pressure', 'node_25_pressure', 'link_6_flow', 'node_24_pressure', 'node_5_demand', 'link_14_flow', 'node_31_demand', 'node_18_pressure', 'node_7_pressure', 'link_32_flow', 'node_4_pressure', 'link_18_flow', 'link_12_flow', 'link_19_flow', 'link_26_flow', 'node_8_demand']]\n",
      "starting df shape: (87600, 51)\n",
      "This is training run 1 and has the shape:  (87600, 51)\n",
      "The value of dropped columns is 45\n"
     ]
    },
    {
     "name": "stderr",
     "output_type": "stream",
     "text": [
      "/Users/alexellard/opt/anaconda3/lib/python3.7/site-packages/xgboost/data.py:96: UserWarning: Use subset (sliced data) of np.ndarray is not recommended because it will generate extra copies and increase memory consumption\n",
      "  \"because it will generate extra copies and increase \" +\n"
     ]
    },
    {
     "name": "stdout",
     "output_type": "stream",
     "text": [
      "test y shape : (17520, 1)\n",
      "Inv y shape : (17520, 51)\n"
     ]
    },
    {
     "name": "stderr",
     "output_type": "stream",
     "text": [
      "/Users/alexellard/opt/anaconda3/lib/python3.7/site-packages/xgboost/data.py:96: UserWarning: Use subset (sliced data) of np.ndarray is not recommended because it will generate extra copies and increase memory consumption\n",
      "  \"because it will generate extra copies and increase \" +\n"
     ]
    },
    {
     "name": "stdout",
     "output_type": "stream",
     "text": [
      "test y shape : (17520, 1)\n",
      "Inv y shape : (17520, 51)\n",
      "y pred shape : (17520, 1)\n",
      "inv y pred : (17520, 51)\n",
      "Run 1 Mean Absolute Error: 0.18492010660428146\n",
      "RMSE: 0.260\n",
      "R^2: 1.000\n",
      "[['link_15_flow', 'node_3_demand', 'node_20_demand', 'link_29_flow', 'node_22_demand', 'node_15_demand', 'node_21_demand', 'node_23_pressure', 'node_4_pressure', 'node_26_demand', 'node_15_pressure', 'node_25_demand', 'node_10_demand', 'link_25_flow', 'link_32_flow', 'node_8_demand', 'node_30_demand', 'link_2_flow', 'node_1_demand', 'node_16_demand', 'node_11_pressure', 'link_31_flow', 'node_18_demand', 'link_24_flow', 'node_30_pressure', 'link_10_flow', 'node_23_demand', 'reservoir_demand', 'node_20_pressure', 'node_4_demand', 'node_24_demand', 'node_25_pressure', 'node_11_demand', 'node_27_pressure', 'node_24_pressure', 'node_26_pressure', 'link_8_flow', 'node_12_pressure', 'node_12_demand', 'reservoir_pressure', 'node_10_pressure', 'link_11_flow', 'link_1_flow', 'node_7_pressure']]\n",
      "starting df shape: (87600, 52)\n",
      "This is training run 2 and has the shape:  (87600, 52)\n",
      "The value of dropped columns is 45\n"
     ]
    },
    {
     "name": "stderr",
     "output_type": "stream",
     "text": [
      "/Users/alexellard/opt/anaconda3/lib/python3.7/site-packages/xgboost/data.py:96: UserWarning: Use subset (sliced data) of np.ndarray is not recommended because it will generate extra copies and increase memory consumption\n",
      "  \"because it will generate extra copies and increase \" +\n"
     ]
    },
    {
     "name": "stdout",
     "output_type": "stream",
     "text": [
      "test y shape : (17520, 1)\n",
      "Inv y shape : (17520, 52)\n"
     ]
    },
    {
     "name": "stderr",
     "output_type": "stream",
     "text": [
      "/Users/alexellard/opt/anaconda3/lib/python3.7/site-packages/xgboost/data.py:96: UserWarning: Use subset (sliced data) of np.ndarray is not recommended because it will generate extra copies and increase memory consumption\n",
      "  \"because it will generate extra copies and increase \" +\n"
     ]
    },
    {
     "name": "stdout",
     "output_type": "stream",
     "text": [
      "test y shape : (17520, 1)\n",
      "Inv y shape : (17520, 52)\n",
      "y pred shape : (17520, 1)\n",
      "inv y pred : (17520, 52)\n",
      "Run 2 Mean Absolute Error: 0.22905100563132752\n",
      "RMSE: 0.311\n",
      "R^2: 1.000\n",
      "[['node_24_pressure', 'node_30_demand', 'link_3_flow', 'node_10_pressure', 'link_23_flow', 'link_18_flow', 'link_13_flow', 'node_15_demand', 'link_10_flow', 'link_20_flow', 'link_12_flow', 'link_30_flow', 'node_17_demand', 'node_14_demand', 'node_5_demand', 'node_10_demand', 'link_6_flow', 'node_3_demand', 'link_24_flow', 'node_18_demand', 'node_24_demand', 'node_6_pressure', 'node_3_pressure', 'node_9_pressure', 'node_13_demand', 'link_15_flow', 'node_21_demand', 'node_16_pressure', 'node_29_demand', 'node_11_pressure', 'link_25_flow', 'node_17_pressure', 'node_23_demand', 'node_1_demand', 'link_31_flow', 'node_7_pressure', 'link_17_flow', 'node_31_demand', 'node_6_demand', 'node_15_pressure', 'link_19_flow', 'link_2_flow', 'node_14_pressure', 'node_31_pressure']]\n",
      "starting df shape: (87600, 52)\n",
      "This is training run 3 and has the shape:  (87600, 52)\n",
      "The value of dropped columns is 45\n"
     ]
    },
    {
     "name": "stderr",
     "output_type": "stream",
     "text": [
      "/Users/alexellard/opt/anaconda3/lib/python3.7/site-packages/xgboost/data.py:96: UserWarning: Use subset (sliced data) of np.ndarray is not recommended because it will generate extra copies and increase memory consumption\n",
      "  \"because it will generate extra copies and increase \" +\n"
     ]
    },
    {
     "name": "stdout",
     "output_type": "stream",
     "text": [
      "test y shape : (17520, 1)\n",
      "Inv y shape : (17520, 52)\n"
     ]
    },
    {
     "name": "stderr",
     "output_type": "stream",
     "text": [
      "/Users/alexellard/opt/anaconda3/lib/python3.7/site-packages/xgboost/data.py:96: UserWarning: Use subset (sliced data) of np.ndarray is not recommended because it will generate extra copies and increase memory consumption\n",
      "  \"because it will generate extra copies and increase \" +\n"
     ]
    },
    {
     "name": "stdout",
     "output_type": "stream",
     "text": [
      "test y shape : (17520, 1)\n",
      "Inv y shape : (17520, 52)\n",
      "y pred shape : (17520, 1)\n",
      "inv y pred : (17520, 52)\n",
      "Run 3 Mean Absolute Error: 3.639909667628205\n",
      "RMSE: 5.053\n",
      "R^2: 1.000\n",
      "[['link_28_flow', 'node_28_pressure', 'node_26_demand', 'node_15_pressure', 'link_16_flow', 'node_8_pressure', 'link_21_flow', 'link_1_flow', 'node_18_pressure', 'node_16_demand', 'link_2_flow', 'link_17_flow', 'node_24_pressure', 'node_13_pressure', 'link_27_flow', 'node_9_pressure', 'node_30_demand', 'node_21_pressure', 'link_14_flow', 'node_4_pressure', 'node_27_pressure', 'node_3_demand', 'node_1_pressure', 'node_1_demand', 'node_5_pressure', 'node_6_pressure', 'node_7_pressure', 'node_11_demand', 'link_19_flow', 'link_8_flow', 'node_14_demand', 'node_6_demand', 'node_4_demand', 'node_21_demand', 'node_15_demand', 'node_2_pressure', 'link_13_flow', 'link_4_flow', 'reservoir_demand', 'node_31_demand', 'node_17_pressure', 'node_18_demand', 'node_5_demand', 'node_30_pressure']]\n",
      "starting df shape: (87600, 52)\n",
      "This is training run 4 and has the shape:  (87600, 52)\n",
      "The value of dropped columns is 45\n"
     ]
    },
    {
     "name": "stderr",
     "output_type": "stream",
     "text": [
      "/Users/alexellard/opt/anaconda3/lib/python3.7/site-packages/xgboost/data.py:96: UserWarning: Use subset (sliced data) of np.ndarray is not recommended because it will generate extra copies and increase memory consumption\n",
      "  \"because it will generate extra copies and increase \" +\n"
     ]
    },
    {
     "name": "stdout",
     "output_type": "stream",
     "text": [
      "test y shape : (17520, 1)\n",
      "Inv y shape : (17520, 52)\n"
     ]
    },
    {
     "name": "stderr",
     "output_type": "stream",
     "text": [
      "/Users/alexellard/opt/anaconda3/lib/python3.7/site-packages/xgboost/data.py:96: UserWarning: Use subset (sliced data) of np.ndarray is not recommended because it will generate extra copies and increase memory consumption\n",
      "  \"because it will generate extra copies and increase \" +\n"
     ]
    },
    {
     "name": "stdout",
     "output_type": "stream",
     "text": [
      "test y shape : (17520, 1)\n",
      "Inv y shape : (17520, 52)\n",
      "y pred shape : (17520, 1)\n",
      "inv y pred : (17520, 52)\n",
      "Run 4 Mean Absolute Error: 0.2848634390253004\n",
      "RMSE: 0.393\n",
      "R^2: 1.000\n",
      "[['link_17_flow', 'node_28_pressure', 'node_4_demand', 'node_15_pressure', 'node_11_pressure', 'node_24_pressure', 'node_14_demand', 'link_12_flow', 'node_20_demand', 'node_3_pressure', 'node_27_demand', 'node_21_demand', 'link_8_flow', 'node_6_demand', 'node_11_demand', 'node_1_pressure', 'link_13_flow', 'node_13_demand', 'link_19_flow', 'node_30_pressure', 'link_21_flow', 'node_26_demand', 'node_17_demand', 'node_5_pressure', 'node_21_pressure', 'link_24_flow', 'node_28_demand', 'link_15_flow', 'link_30_flow', 'node_10_demand', 'node_20_pressure', 'node_1_demand', 'node_5_demand', 'node_19_pressure', 'node_31_demand', 'node_31_pressure', 'node_2_pressure', 'link_18_flow', 'node_7_pressure', 'node_24_demand', 'node_8_demand', 'node_12_demand', 'link_1_flow', 'link_11_flow', 'link_2_flow']]\n",
      "starting df shape: (87600, 51)\n",
      "This is training run 5 and has the shape:  (87600, 51)\n",
      "The value of dropped columns is 45\n"
     ]
    },
    {
     "name": "stderr",
     "output_type": "stream",
     "text": [
      "/Users/alexellard/opt/anaconda3/lib/python3.7/site-packages/xgboost/data.py:96: UserWarning: Use subset (sliced data) of np.ndarray is not recommended because it will generate extra copies and increase memory consumption\n",
      "  \"because it will generate extra copies and increase \" +\n"
     ]
    },
    {
     "name": "stdout",
     "output_type": "stream",
     "text": [
      "test y shape : (17520, 1)\n",
      "Inv y shape : (17520, 51)\n"
     ]
    },
    {
     "name": "stderr",
     "output_type": "stream",
     "text": [
      "/Users/alexellard/opt/anaconda3/lib/python3.7/site-packages/xgboost/data.py:96: UserWarning: Use subset (sliced data) of np.ndarray is not recommended because it will generate extra copies and increase memory consumption\n",
      "  \"because it will generate extra copies and increase \" +\n"
     ]
    },
    {
     "name": "stdout",
     "output_type": "stream",
     "text": [
      "test y shape : (17520, 1)\n",
      "Inv y shape : (17520, 51)\n",
      "y pred shape : (17520, 1)\n",
      "inv y pred : (17520, 51)\n",
      "Run 5 Mean Absolute Error: 6.932500923521309\n",
      "RMSE: 9.481\n",
      "R^2: 1.000\n",
      "[['node_17_pressure', 'link_17_flow', 'node_2_demand', 'node_31_demand', 'link_29_flow', 'link_3_flow', 'node_14_pressure', 'node_24_demand', 'node_20_demand', 'node_26_demand', 'node_10_pressure', 'node_7_pressure', 'reservoir_demand', 'link_11_flow', 'link_32_flow', 'reservoir_pressure', 'link_27_flow', 'node_24_pressure', 'link_25_flow', 'node_5_pressure', 'node_29_demand', 'node_9_demand', 'link_6_flow', 'node_21_pressure', 'node_8_pressure', 'link_13_flow', 'node_13_demand', 'link_5_flow', 'node_11_pressure', 'node_15_pressure', 'node_27_demand', 'node_8_demand', 'node_25_demand', 'link_15_flow', 'link_23_flow', 'link_21_flow', 'node_19_demand', 'node_12_demand', 'link_22_flow', 'node_26_pressure', 'link_9_flow', 'node_9_pressure', 'node_12_pressure', 'node_15_demand', 'node_14_demand']]\n",
      "starting df shape: (87600, 51)\n",
      "This is training run 6 and has the shape:  (87600, 51)\n",
      "The value of dropped columns is 45\n"
     ]
    },
    {
     "name": "stderr",
     "output_type": "stream",
     "text": [
      "/Users/alexellard/opt/anaconda3/lib/python3.7/site-packages/xgboost/data.py:96: UserWarning: Use subset (sliced data) of np.ndarray is not recommended because it will generate extra copies and increase memory consumption\n",
      "  \"because it will generate extra copies and increase \" +\n"
     ]
    },
    {
     "name": "stdout",
     "output_type": "stream",
     "text": [
      "test y shape : (17520, 1)\n",
      "Inv y shape : (17520, 51)\n"
     ]
    },
    {
     "name": "stderr",
     "output_type": "stream",
     "text": [
      "/Users/alexellard/opt/anaconda3/lib/python3.7/site-packages/xgboost/data.py:96: UserWarning: Use subset (sliced data) of np.ndarray is not recommended because it will generate extra copies and increase memory consumption\n",
      "  \"because it will generate extra copies and increase \" +\n"
     ]
    },
    {
     "name": "stdout",
     "output_type": "stream",
     "text": [
      "test y shape : (17520, 1)\n",
      "Inv y shape : (17520, 51)\n",
      "y pred shape : (17520, 1)\n",
      "inv y pred : (17520, 51)\n",
      "Run 6 Mean Absolute Error: 0.18600533124311452\n",
      "RMSE: 0.268\n",
      "R^2: 1.000\n",
      "[['node_5_demand', 'node_17_pressure', 'node_6_demand', 'node_30_pressure', 'node_25_pressure', 'link_17_flow', 'node_13_pressure', 'node_15_demand', 'node_8_demand', 'reservoir_demand', 'node_20_pressure', 'link_1_flow', 'link_30_flow', 'node_20_demand', 'node_27_pressure', 'link_11_flow', 'node_4_demand', 'node_17_demand', 'node_15_pressure', 'reservoir_pressure', 'node_19_pressure', 'link_26_flow', 'link_27_flow', 'link_23_flow', 'link_10_flow', 'link_7_flow', 'node_2_pressure', 'link_18_flow', 'node_16_pressure', 'node_30_demand', 'link_25_flow', 'node_25_demand', 'node_12_demand', 'node_21_demand', 'link_15_flow', 'link_19_flow', 'link_14_flow', 'link_12_flow', 'link_29_flow', 'link_9_flow', 'link_13_flow', 'node_7_demand', 'node_3_demand', 'link_22_flow', 'node_12_pressure']]\n",
      "starting df shape: (87600, 51)\n",
      "This is training run 7 and has the shape:  (87600, 51)\n",
      "The value of dropped columns is 45\n"
     ]
    },
    {
     "name": "stderr",
     "output_type": "stream",
     "text": [
      "/Users/alexellard/opt/anaconda3/lib/python3.7/site-packages/xgboost/data.py:96: UserWarning: Use subset (sliced data) of np.ndarray is not recommended because it will generate extra copies and increase memory consumption\n",
      "  \"because it will generate extra copies and increase \" +\n"
     ]
    },
    {
     "name": "stdout",
     "output_type": "stream",
     "text": [
      "test y shape : (17520, 1)\n",
      "Inv y shape : (17520, 51)\n"
     ]
    },
    {
     "name": "stderr",
     "output_type": "stream",
     "text": [
      "/Users/alexellard/opt/anaconda3/lib/python3.7/site-packages/xgboost/data.py:96: UserWarning: Use subset (sliced data) of np.ndarray is not recommended because it will generate extra copies and increase memory consumption\n",
      "  \"because it will generate extra copies and increase \" +\n"
     ]
    },
    {
     "name": "stdout",
     "output_type": "stream",
     "text": [
      "test y shape : (17520, 1)\n",
      "Inv y shape : (17520, 51)\n",
      "y pred shape : (17520, 1)\n",
      "inv y pred : (17520, 51)\n",
      "Run 7 Mean Absolute Error: 0.2738260667451599\n",
      "RMSE: 0.372\n",
      "R^2: 1.000\n",
      "[['node_27_demand', 'link_23_flow', 'link_25_flow', 'node_6_pressure', 'node_13_pressure', 'node_28_pressure', 'link_10_flow', 'node_22_pressure', 'link_17_flow', 'node_4_pressure', 'link_29_flow', 'node_13_demand', 'node_7_pressure', 'node_21_demand', 'node_16_demand', 'node_14_demand', 'node_5_demand', 'node_5_pressure', 'node_19_demand', 'node_11_pressure', 'link_6_flow', 'reservoir_pressure', 'node_2_pressure', 'link_7_flow', 'node_17_pressure', 'link_19_flow', 'node_7_demand', 'link_20_flow', 'node_9_demand', 'node_26_pressure', 'node_10_pressure', 'node_29_demand', 'node_1_pressure', 'link_8_flow', 'link_28_flow', 'link_2_flow', 'link_5_flow', 'link_26_flow', 'node_25_pressure', 'node_15_demand', 'link_21_flow', 'reservoir_demand', 'link_18_flow', 'node_28_demand']]\n",
      "starting df shape: (87600, 52)\n",
      "This is training run 8 and has the shape:  (87600, 52)\n",
      "The value of dropped columns is 45\n"
     ]
    },
    {
     "name": "stderr",
     "output_type": "stream",
     "text": [
      "/Users/alexellard/opt/anaconda3/lib/python3.7/site-packages/xgboost/data.py:96: UserWarning: Use subset (sliced data) of np.ndarray is not recommended because it will generate extra copies and increase memory consumption\n",
      "  \"because it will generate extra copies and increase \" +\n"
     ]
    },
    {
     "name": "stdout",
     "output_type": "stream",
     "text": [
      "test y shape : (17520, 1)\n",
      "Inv y shape : (17520, 52)\n"
     ]
    },
    {
     "name": "stderr",
     "output_type": "stream",
     "text": [
      "/Users/alexellard/opt/anaconda3/lib/python3.7/site-packages/xgboost/data.py:96: UserWarning: Use subset (sliced data) of np.ndarray is not recommended because it will generate extra copies and increase memory consumption\n",
      "  \"because it will generate extra copies and increase \" +\n"
     ]
    },
    {
     "name": "stdout",
     "output_type": "stream",
     "text": [
      "test y shape : (17520, 1)\n",
      "Inv y shape : (17520, 52)\n",
      "y pred shape : (17520, 1)\n",
      "inv y pred : (17520, 52)\n",
      "Run 8 Mean Absolute Error: 0.20282112661249505\n",
      "RMSE: 0.280\n",
      "R^2: 1.000\n",
      "[['node_17_demand', 'link_8_flow', 'link_15_flow', 'link_21_flow', 'node_25_pressure', 'node_27_demand', 'node_14_demand', 'link_9_flow', 'node_19_demand', 'node_15_demand', 'link_16_flow', 'link_20_flow', 'link_25_flow', 'node_6_demand', 'node_3_pressure', 'node_23_pressure', 'node_7_demand', 'node_18_demand', 'node_5_pressure', 'link_27_flow', 'node_4_pressure', 'node_6_pressure', 'link_22_flow', 'node_9_pressure', 'link_31_flow', 'link_30_flow', 'reservoir_pressure', 'node_23_demand', 'link_1_flow', 'node_17_pressure', 'node_3_demand', 'node_22_demand', 'link_23_flow', 'link_4_flow', 'link_17_flow', 'node_1_pressure', 'node_2_demand', 'node_16_demand', 'link_13_flow', 'link_18_flow', 'node_26_pressure', 'link_29_flow', 'node_4_demand', 'node_8_demand']]\n",
      "starting df shape: (87600, 52)\n",
      "This is training run 9 and has the shape:  (87600, 52)\n",
      "The value of dropped columns is 45\n"
     ]
    },
    {
     "name": "stderr",
     "output_type": "stream",
     "text": [
      "/Users/alexellard/opt/anaconda3/lib/python3.7/site-packages/xgboost/data.py:96: UserWarning: Use subset (sliced data) of np.ndarray is not recommended because it will generate extra copies and increase memory consumption\n",
      "  \"because it will generate extra copies and increase \" +\n"
     ]
    },
    {
     "name": "stdout",
     "output_type": "stream",
     "text": [
      "test y shape : (17520, 1)\n",
      "Inv y shape : (17520, 52)\n"
     ]
    },
    {
     "name": "stderr",
     "output_type": "stream",
     "text": [
      "/Users/alexellard/opt/anaconda3/lib/python3.7/site-packages/xgboost/data.py:96: UserWarning: Use subset (sliced data) of np.ndarray is not recommended because it will generate extra copies and increase memory consumption\n",
      "  \"because it will generate extra copies and increase \" +\n"
     ]
    },
    {
     "name": "stdout",
     "output_type": "stream",
     "text": [
      "test y shape : (17520, 1)\n",
      "Inv y shape : (17520, 52)\n",
      "y pred shape : (17520, 1)\n",
      "inv y pred : (17520, 52)\n",
      "Run 9 Mean Absolute Error: 2.948369074911553\n",
      "RMSE: 4.208\n",
      "R^2: 1.000\n",
      "[['link_26_flow', 'link_16_flow', 'node_31_pressure', 'link_20_flow', 'link_13_flow', 'link_5_flow', 'link_6_flow', 'node_11_pressure', 'node_11_demand', 'node_23_demand', 'link_24_flow', 'link_7_flow', 'node_28_demand', 'node_27_demand', 'node_2_pressure', 'node_14_pressure', 'link_30_flow', 'link_29_flow', 'node_26_demand', 'node_28_pressure', 'link_2_flow', 'link_25_flow', 'node_16_pressure', 'node_26_pressure', 'node_4_pressure', 'node_30_pressure', 'link_11_flow', 'node_5_pressure', 'node_15_pressure', 'node_3_demand', 'node_5_demand', 'link_12_flow', 'node_19_demand', 'link_18_flow', 'node_13_demand', 'node_19_pressure', 'link_31_flow', 'link_22_flow', 'node_7_pressure', 'node_10_demand', 'link_15_flow', 'link_1_flow', 'node_15_demand', 'node_20_pressure']]\n",
      "starting df shape: (87600, 52)\n",
      "This is training run 10 and has the shape:  (87600, 52)\n",
      "The value of dropped columns is 45\n"
     ]
    },
    {
     "name": "stderr",
     "output_type": "stream",
     "text": [
      "/Users/alexellard/opt/anaconda3/lib/python3.7/site-packages/xgboost/data.py:96: UserWarning: Use subset (sliced data) of np.ndarray is not recommended because it will generate extra copies and increase memory consumption\n",
      "  \"because it will generate extra copies and increase \" +\n"
     ]
    },
    {
     "name": "stdout",
     "output_type": "stream",
     "text": [
      "test y shape : (17520, 1)\n",
      "Inv y shape : (17520, 52)\n"
     ]
    },
    {
     "name": "stderr",
     "output_type": "stream",
     "text": [
      "/Users/alexellard/opt/anaconda3/lib/python3.7/site-packages/xgboost/data.py:96: UserWarning: Use subset (sliced data) of np.ndarray is not recommended because it will generate extra copies and increase memory consumption\n",
      "  \"because it will generate extra copies and increase \" +\n"
     ]
    },
    {
     "name": "stdout",
     "output_type": "stream",
     "text": [
      "test y shape : (17520, 1)\n",
      "Inv y shape : (17520, 52)\n",
      "y pred shape : (17520, 1)\n",
      "inv y pred : (17520, 52)\n",
      "Run 10 Mean Absolute Error: 7.1652630867400084\n",
      "RMSE: 9.806\n",
      "R^2: 1.000\n",
      "[['node_31_pressure', 'reservoir_demand', 'node_17_pressure', 'node_27_demand', 'node_12_demand', 'link_2_flow', 'node_28_pressure', 'link_3_flow', 'node_18_demand', 'link_6_flow', 'node_9_pressure', 'link_26_flow', 'link_29_flow', 'link_15_flow', 'link_13_flow', 'link_4_flow', 'node_8_demand', 'node_19_demand', 'node_15_pressure', 'link_20_flow', 'node_18_pressure', 'node_16_pressure', 'node_10_demand', 'node_26_demand', 'node_11_pressure', 'node_27_pressure', 'node_15_demand', 'link_8_flow', 'link_17_flow', 'node_20_pressure', 'node_20_demand', 'node_13_demand', 'node_19_pressure', 'node_10_pressure', 'link_10_flow', 'reservoir_pressure', 'node_24_demand', 'node_21_demand', 'link_14_flow', 'node_28_demand', 'node_25_demand', 'node_14_pressure', 'node_24_pressure', 'node_23_pressure', 'link_16_flow', 'node_2_demand', 'node_14_demand', 'node_3_demand', 'node_6_pressure', 'link_19_flow']]\n",
      "starting df shape: (87600, 46)\n",
      "This is training run 1 and has the shape:  (87600, 46)\n",
      "The value of dropped columns is 50\n"
     ]
    },
    {
     "name": "stderr",
     "output_type": "stream",
     "text": [
      "/Users/alexellard/opt/anaconda3/lib/python3.7/site-packages/xgboost/data.py:96: UserWarning: Use subset (sliced data) of np.ndarray is not recommended because it will generate extra copies and increase memory consumption\n",
      "  \"because it will generate extra copies and increase \" +\n"
     ]
    },
    {
     "name": "stdout",
     "output_type": "stream",
     "text": [
      "test y shape : (17520, 1)\n",
      "Inv y shape : (17520, 46)\n"
     ]
    },
    {
     "name": "stderr",
     "output_type": "stream",
     "text": [
      "/Users/alexellard/opt/anaconda3/lib/python3.7/site-packages/xgboost/data.py:96: UserWarning: Use subset (sliced data) of np.ndarray is not recommended because it will generate extra copies and increase memory consumption\n",
      "  \"because it will generate extra copies and increase \" +\n"
     ]
    },
    {
     "name": "stdout",
     "output_type": "stream",
     "text": [
      "test y shape : (17520, 1)\n",
      "Inv y shape : (17520, 46)\n",
      "y pred shape : (17520, 1)\n",
      "inv y pred : (17520, 46)\n",
      "Run 1 Mean Absolute Error: 0.20009017526039605\n",
      "RMSE: 0.278\n",
      "R^2: 1.000\n",
      "[['node_3_demand', 'node_28_pressure', 'link_8_flow', 'node_28_demand', 'node_15_demand', 'link_18_flow', 'node_7_pressure', 'node_4_demand', 'node_7_demand', 'node_31_demand', 'node_14_demand', 'node_25_pressure', 'node_23_demand', 'link_2_flow', 'node_20_demand', 'node_8_pressure', 'link_24_flow', 'link_11_flow', 'node_1_demand', 'node_16_demand', 'node_3_pressure', 'link_4_flow', 'node_24_pressure', 'node_5_pressure', 'node_5_demand', 'node_20_pressure', 'link_30_flow', 'node_2_demand', 'link_20_flow', 'node_31_pressure', 'link_25_flow', 'node_26_demand', 'node_26_pressure', 'link_6_flow', 'link_17_flow', 'link_21_flow', 'link_7_flow', 'node_21_pressure', 'node_29_demand', 'node_10_pressure', 'node_17_demand', 'node_22_demand', 'node_1_pressure', 'node_11_demand', 'node_2_pressure', 'node_12_demand', 'node_27_demand', 'node_10_demand', 'link_9_flow']]\n",
      "starting df shape: (87600, 47)\n",
      "This is training run 2 and has the shape:  (87600, 47)\n",
      "The value of dropped columns is 50\n"
     ]
    },
    {
     "name": "stderr",
     "output_type": "stream",
     "text": [
      "/Users/alexellard/opt/anaconda3/lib/python3.7/site-packages/xgboost/data.py:96: UserWarning: Use subset (sliced data) of np.ndarray is not recommended because it will generate extra copies and increase memory consumption\n",
      "  \"because it will generate extra copies and increase \" +\n"
     ]
    },
    {
     "name": "stdout",
     "output_type": "stream",
     "text": [
      "test y shape : (17520, 1)\n",
      "Inv y shape : (17520, 47)\n"
     ]
    },
    {
     "name": "stderr",
     "output_type": "stream",
     "text": [
      "/Users/alexellard/opt/anaconda3/lib/python3.7/site-packages/xgboost/data.py:96: UserWarning: Use subset (sliced data) of np.ndarray is not recommended because it will generate extra copies and increase memory consumption\n",
      "  \"because it will generate extra copies and increase \" +\n"
     ]
    },
    {
     "name": "stdout",
     "output_type": "stream",
     "text": [
      "test y shape : (17520, 1)\n",
      "Inv y shape : (17520, 47)\n",
      "y pred shape : (17520, 1)\n",
      "inv y pred : (17520, 47)\n",
      "Run 2 Mean Absolute Error: 2.7575429367920483\n",
      "RMSE: 3.923\n",
      "R^2: 1.000\n",
      "[['link_19_flow', 'node_26_demand', 'node_28_pressure', 'link_8_flow', 'link_11_flow', 'link_31_flow', 'node_27_demand', 'node_8_demand', 'node_27_pressure', 'node_17_pressure', 'node_17_demand', 'node_13_demand', 'node_10_demand', 'link_4_flow', 'node_6_pressure', 'reservoir_pressure', 'node_15_pressure', 'node_15_demand', 'link_30_flow', 'node_12_demand', 'node_10_pressure', 'link_14_flow', 'link_24_flow', 'node_16_demand', 'link_7_flow', 'node_21_demand', 'node_20_pressure', 'link_20_flow', 'link_27_flow', 'node_1_pressure', 'node_7_demand', 'link_13_flow', 'node_22_demand', 'node_30_demand', 'link_26_flow', 'node_18_demand', 'node_24_pressure', 'node_19_demand', 'node_23_pressure', 'node_29_demand', 'link_28_flow', 'link_12_flow', 'node_16_pressure', 'node_6_demand', 'node_12_pressure', 'link_9_flow', 'link_25_flow', 'node_11_pressure', 'node_31_pressure', 'node_25_pressure']]\n",
      "starting df shape: (87600, 46)\n",
      "This is training run 3 and has the shape:  (87600, 46)\n",
      "The value of dropped columns is 50\n"
     ]
    },
    {
     "name": "stderr",
     "output_type": "stream",
     "text": [
      "/Users/alexellard/opt/anaconda3/lib/python3.7/site-packages/xgboost/data.py:96: UserWarning: Use subset (sliced data) of np.ndarray is not recommended because it will generate extra copies and increase memory consumption\n",
      "  \"because it will generate extra copies and increase \" +\n"
     ]
    },
    {
     "name": "stdout",
     "output_type": "stream",
     "text": [
      "test y shape : (17520, 1)\n",
      "Inv y shape : (17520, 46)\n"
     ]
    },
    {
     "name": "stderr",
     "output_type": "stream",
     "text": [
      "/Users/alexellard/opt/anaconda3/lib/python3.7/site-packages/xgboost/data.py:96: UserWarning: Use subset (sliced data) of np.ndarray is not recommended because it will generate extra copies and increase memory consumption\n",
      "  \"because it will generate extra copies and increase \" +\n"
     ]
    },
    {
     "name": "stdout",
     "output_type": "stream",
     "text": [
      "test y shape : (17520, 1)\n",
      "Inv y shape : (17520, 46)\n",
      "y pred shape : (17520, 1)\n",
      "inv y pred : (17520, 46)\n",
      "Run 3 Mean Absolute Error: 4.543216583478379\n",
      "RMSE: 6.259\n",
      "R^2: 1.000\n",
      "[['link_25_flow', 'link_16_flow', 'node_2_pressure', 'node_5_demand', 'link_30_flow', 'link_22_flow', 'node_31_demand', 'link_12_flow', 'link_8_flow', 'node_23_pressure', 'link_2_flow', 'node_27_demand', 'link_31_flow', 'node_5_pressure', 'node_12_demand', 'node_22_pressure', 'node_17_demand', 'link_28_flow', 'node_18_pressure', 'node_15_pressure', 'node_7_pressure', 'node_13_pressure', 'node_31_pressure', 'link_9_flow', 'node_8_demand', 'node_29_demand', 'node_13_demand', 'node_3_demand', 'node_6_demand', 'node_25_pressure', 'node_26_pressure', 'node_15_demand', 'node_6_pressure', 'node_18_demand', 'link_3_flow', 'link_24_flow', 'node_1_pressure', 'node_21_pressure', 'node_10_pressure', 'node_8_pressure', 'link_21_flow', 'link_23_flow', 'node_19_demand', 'node_22_demand', 'node_17_pressure', 'link_7_flow', 'link_10_flow', 'node_27_pressure', 'link_17_flow']]\n",
      "starting df shape: (87600, 47)\n",
      "This is training run 4 and has the shape:  (87600, 47)\n",
      "The value of dropped columns is 50\n"
     ]
    },
    {
     "name": "stderr",
     "output_type": "stream",
     "text": [
      "/Users/alexellard/opt/anaconda3/lib/python3.7/site-packages/xgboost/data.py:96: UserWarning: Use subset (sliced data) of np.ndarray is not recommended because it will generate extra copies and increase memory consumption\n",
      "  \"because it will generate extra copies and increase \" +\n"
     ]
    },
    {
     "name": "stdout",
     "output_type": "stream",
     "text": [
      "test y shape : (17520, 1)\n",
      "Inv y shape : (17520, 47)\n"
     ]
    },
    {
     "name": "stderr",
     "output_type": "stream",
     "text": [
      "/Users/alexellard/opt/anaconda3/lib/python3.7/site-packages/xgboost/data.py:96: UserWarning: Use subset (sliced data) of np.ndarray is not recommended because it will generate extra copies and increase memory consumption\n",
      "  \"because it will generate extra copies and increase \" +\n"
     ]
    },
    {
     "name": "stdout",
     "output_type": "stream",
     "text": [
      "test y shape : (17520, 1)\n",
      "Inv y shape : (17520, 47)\n",
      "y pred shape : (17520, 1)\n",
      "inv y pred : (17520, 47)\n",
      "Run 4 Mean Absolute Error: 3.2723324315652453\n",
      "RMSE: 4.736\n",
      "R^2: 1.000\n",
      "[['link_12_flow', 'link_21_flow', 'node_25_demand', 'node_24_pressure', 'node_9_pressure', 'node_28_demand', 'node_1_pressure', 'node_21_pressure', 'node_23_demand', 'node_6_demand', 'node_7_pressure', 'node_22_pressure', 'node_10_pressure', 'node_5_demand', 'link_16_flow', 'link_5_flow', 'node_14_demand', 'node_27_pressure', 'link_2_flow', 'link_19_flow', 'node_21_demand', 'node_16_pressure', 'node_8_demand', 'link_4_flow', 'node_18_demand', 'node_16_demand', 'node_2_pressure', 'node_9_demand', 'link_3_flow', 'link_1_flow', 'link_8_flow', 'node_1_demand', 'node_5_pressure', 'node_18_pressure', 'node_20_pressure', 'link_15_flow', 'node_22_demand', 'node_15_pressure', 'node_25_pressure', 'node_10_demand', 'node_23_pressure', 'node_24_demand', 'link_32_flow', 'link_20_flow', 'link_9_flow', 'node_4_pressure', 'link_31_flow', 'node_30_demand', 'node_12_demand', 'node_31_pressure']]\n",
      "starting df shape: (87600, 46)\n",
      "This is training run 5 and has the shape:  (87600, 46)\n",
      "The value of dropped columns is 50\n"
     ]
    },
    {
     "name": "stderr",
     "output_type": "stream",
     "text": [
      "/Users/alexellard/opt/anaconda3/lib/python3.7/site-packages/xgboost/data.py:96: UserWarning: Use subset (sliced data) of np.ndarray is not recommended because it will generate extra copies and increase memory consumption\n",
      "  \"because it will generate extra copies and increase \" +\n"
     ]
    },
    {
     "name": "stdout",
     "output_type": "stream",
     "text": [
      "test y shape : (17520, 1)\n",
      "Inv y shape : (17520, 46)\n"
     ]
    },
    {
     "name": "stderr",
     "output_type": "stream",
     "text": [
      "/Users/alexellard/opt/anaconda3/lib/python3.7/site-packages/xgboost/data.py:96: UserWarning: Use subset (sliced data) of np.ndarray is not recommended because it will generate extra copies and increase memory consumption\n",
      "  \"because it will generate extra copies and increase \" +\n"
     ]
    },
    {
     "name": "stdout",
     "output_type": "stream",
     "text": [
      "test y shape : (17520, 1)\n",
      "Inv y shape : (17520, 46)\n",
      "y pred shape : (17520, 1)\n",
      "inv y pred : (17520, 46)\n",
      "Run 5 Mean Absolute Error: 2.747561576216098\n",
      "RMSE: 3.967\n",
      "R^2: 1.000\n",
      "[['node_9_demand', 'node_4_demand', 'link_24_flow', 'node_31_pressure', 'node_2_demand', 'node_20_pressure', 'node_4_pressure', 'node_23_demand', 'node_19_pressure', 'node_17_demand', 'link_22_flow', 'node_16_demand', 'link_20_flow', 'node_21_demand', 'node_27_demand', 'link_17_flow', 'node_1_pressure', 'node_27_pressure', 'node_24_demand', 'node_7_demand', 'link_31_flow', 'link_6_flow', 'link_26_flow', 'node_31_demand', 'node_18_pressure', 'node_10_demand', 'link_13_flow', 'node_15_pressure', 'node_30_pressure', 'node_26_demand', 'link_29_flow', 'node_12_demand', 'node_11_demand', 'node_29_demand', 'node_18_demand', 'link_27_flow', 'node_26_pressure', 'node_20_demand', 'node_16_pressure', 'node_15_demand', 'reservoir_pressure', 'link_4_flow', 'node_25_pressure', 'link_19_flow', 'node_13_demand', 'link_25_flow', 'link_21_flow', 'node_24_pressure', 'link_18_flow']]\n",
      "starting df shape: (87600, 47)\n",
      "This is training run 6 and has the shape:  (87600, 47)\n",
      "The value of dropped columns is 50\n"
     ]
    },
    {
     "name": "stderr",
     "output_type": "stream",
     "text": [
      "/Users/alexellard/opt/anaconda3/lib/python3.7/site-packages/xgboost/data.py:96: UserWarning: Use subset (sliced data) of np.ndarray is not recommended because it will generate extra copies and increase memory consumption\n",
      "  \"because it will generate extra copies and increase \" +\n"
     ]
    },
    {
     "name": "stdout",
     "output_type": "stream",
     "text": [
      "test y shape : (17520, 1)\n",
      "Inv y shape : (17520, 47)\n"
     ]
    },
    {
     "name": "stderr",
     "output_type": "stream",
     "text": [
      "/Users/alexellard/opt/anaconda3/lib/python3.7/site-packages/xgboost/data.py:96: UserWarning: Use subset (sliced data) of np.ndarray is not recommended because it will generate extra copies and increase memory consumption\n",
      "  \"because it will generate extra copies and increase \" +\n"
     ]
    },
    {
     "name": "stdout",
     "output_type": "stream",
     "text": [
      "test y shape : (17520, 1)\n",
      "Inv y shape : (17520, 47)\n",
      "y pred shape : (17520, 1)\n",
      "inv y pred : (17520, 47)\n",
      "Run 6 Mean Absolute Error: 5.741992940004195\n",
      "RMSE: 8.624\n",
      "R^2: 1.000\n",
      "[['node_8_demand', 'node_4_pressure', 'node_23_demand', 'link_9_flow', 'node_1_pressure', 'node_7_demand', 'link_2_flow', 'node_20_demand', 'link_29_flow', 'node_13_demand', 'link_32_flow', 'node_17_pressure', 'link_5_flow', 'link_31_flow', 'node_14_pressure', 'node_2_pressure', 'node_2_demand', 'node_12_pressure', 'reservoir_demand', 'node_12_demand', 'node_11_demand', 'node_31_pressure', 'node_9_pressure', 'link_3_flow', 'node_22_pressure', 'node_29_demand', 'link_4_flow', 'node_26_demand', 'node_23_pressure', 'link_23_flow', 'reservoir_pressure', 'node_27_demand', 'node_5_demand', 'link_17_flow', 'node_24_pressure', 'node_18_pressure', 'node_24_demand', 'link_6_flow', 'node_31_demand', 'link_25_flow', 'link_22_flow', 'node_22_demand', 'link_28_flow', 'node_25_pressure', 'node_5_pressure', 'node_28_pressure', 'node_10_demand', 'link_16_flow', 'node_17_demand', 'node_6_demand']]\n",
      "starting df shape: (87600, 46)\n",
      "This is training run 7 and has the shape:  (87600, 46)\n",
      "The value of dropped columns is 50\n"
     ]
    },
    {
     "name": "stderr",
     "output_type": "stream",
     "text": [
      "/Users/alexellard/opt/anaconda3/lib/python3.7/site-packages/xgboost/data.py:96: UserWarning: Use subset (sliced data) of np.ndarray is not recommended because it will generate extra copies and increase memory consumption\n",
      "  \"because it will generate extra copies and increase \" +\n"
     ]
    },
    {
     "name": "stdout",
     "output_type": "stream",
     "text": [
      "test y shape : (17520, 1)\n",
      "Inv y shape : (17520, 46)\n"
     ]
    },
    {
     "name": "stderr",
     "output_type": "stream",
     "text": [
      "/Users/alexellard/opt/anaconda3/lib/python3.7/site-packages/xgboost/data.py:96: UserWarning: Use subset (sliced data) of np.ndarray is not recommended because it will generate extra copies and increase memory consumption\n",
      "  \"because it will generate extra copies and increase \" +\n"
     ]
    },
    {
     "name": "stdout",
     "output_type": "stream",
     "text": [
      "test y shape : (17520, 1)\n",
      "Inv y shape : (17520, 46)\n",
      "y pred shape : (17520, 1)\n",
      "inv y pred : (17520, 46)\n",
      "Run 7 Mean Absolute Error: 0.20726713562876503\n",
      "RMSE: 0.293\n",
      "R^2: 1.000\n",
      "[['node_5_demand', 'link_5_flow', 'node_4_pressure', 'node_19_demand', 'node_14_demand', 'node_23_pressure', 'link_25_flow', 'link_21_flow', 'node_27_demand', 'link_32_flow', 'link_20_flow', 'node_30_demand', 'link_12_flow', 'link_6_flow', 'node_19_pressure', 'node_17_demand', 'node_12_demand', 'link_30_flow', 'link_2_flow', 'link_8_flow', 'link_4_flow', 'link_17_flow', 'node_26_pressure', 'node_6_pressure', 'node_21_pressure', 'node_15_pressure', 'node_20_pressure', 'node_8_pressure', 'node_2_demand', 'link_16_flow', 'node_17_pressure', 'node_29_demand', 'node_13_pressure', 'link_31_flow', 'link_7_flow', 'node_2_pressure', 'node_23_demand', 'node_7_pressure', 'node_22_pressure', 'node_27_pressure', 'link_23_flow', 'link_14_flow', 'link_11_flow', 'link_24_flow', 'link_10_flow', 'node_22_demand', 'node_28_demand', 'node_18_demand', 'node_3_pressure', 'node_28_pressure']]\n",
      "starting df shape: (87600, 46)\n",
      "This is training run 8 and has the shape:  (87600, 46)\n",
      "The value of dropped columns is 50\n"
     ]
    },
    {
     "name": "stderr",
     "output_type": "stream",
     "text": [
      "/Users/alexellard/opt/anaconda3/lib/python3.7/site-packages/xgboost/data.py:96: UserWarning: Use subset (sliced data) of np.ndarray is not recommended because it will generate extra copies and increase memory consumption\n",
      "  \"because it will generate extra copies and increase \" +\n"
     ]
    },
    {
     "name": "stdout",
     "output_type": "stream",
     "text": [
      "test y shape : (17520, 1)\n",
      "Inv y shape : (17520, 46)\n"
     ]
    },
    {
     "name": "stderr",
     "output_type": "stream",
     "text": [
      "/Users/alexellard/opt/anaconda3/lib/python3.7/site-packages/xgboost/data.py:96: UserWarning: Use subset (sliced data) of np.ndarray is not recommended because it will generate extra copies and increase memory consumption\n",
      "  \"because it will generate extra copies and increase \" +\n"
     ]
    },
    {
     "name": "stdout",
     "output_type": "stream",
     "text": [
      "test y shape : (17520, 1)\n",
      "Inv y shape : (17520, 46)\n",
      "y pred shape : (17520, 1)\n",
      "inv y pred : (17520, 46)\n",
      "Run 8 Mean Absolute Error: 3.802527733457199\n",
      "RMSE: 5.279\n",
      "R^2: 1.000\n",
      "[['node_11_pressure', 'node_5_demand', 'link_28_flow', 'node_11_demand', 'link_9_flow', 'link_14_flow', 'link_5_flow', 'node_6_pressure', 'node_24_demand', 'link_27_flow', 'link_4_flow', 'link_2_flow', 'node_14_demand', 'node_12_pressure', 'link_15_flow', 'node_26_demand', 'node_5_pressure', 'node_16_demand', 'node_9_demand', 'node_6_demand', 'node_3_pressure', 'node_25_pressure', 'node_2_demand', 'node_18_pressure', 'node_14_pressure', 'link_20_flow', 'node_21_demand', 'node_4_pressure', 'link_24_flow', 'node_7_pressure', 'node_20_demand', 'node_18_demand', 'node_13_demand', 'link_21_flow', 'node_16_pressure', 'link_13_flow', 'node_17_pressure', 'link_3_flow', 'node_21_pressure', 'node_1_demand', 'link_16_flow', 'node_4_demand', 'link_12_flow', 'node_28_pressure', 'node_19_pressure', 'link_32_flow', 'node_1_pressure', 'link_8_flow', 'link_19_flow']]\n",
      "starting df shape: (87600, 47)\n",
      "This is training run 9 and has the shape:  (87600, 47)\n",
      "The value of dropped columns is 50\n"
     ]
    },
    {
     "name": "stderr",
     "output_type": "stream",
     "text": [
      "/Users/alexellard/opt/anaconda3/lib/python3.7/site-packages/xgboost/data.py:96: UserWarning: Use subset (sliced data) of np.ndarray is not recommended because it will generate extra copies and increase memory consumption\n",
      "  \"because it will generate extra copies and increase \" +\n"
     ]
    },
    {
     "name": "stdout",
     "output_type": "stream",
     "text": [
      "test y shape : (17520, 1)\n",
      "Inv y shape : (17520, 47)\n"
     ]
    },
    {
     "name": "stderr",
     "output_type": "stream",
     "text": [
      "/Users/alexellard/opt/anaconda3/lib/python3.7/site-packages/xgboost/data.py:96: UserWarning: Use subset (sliced data) of np.ndarray is not recommended because it will generate extra copies and increase memory consumption\n",
      "  \"because it will generate extra copies and increase \" +\n"
     ]
    },
    {
     "name": "stdout",
     "output_type": "stream",
     "text": [
      "test y shape : (17520, 1)\n",
      "Inv y shape : (17520, 47)\n",
      "y pred shape : (17520, 1)\n",
      "inv y pred : (17520, 47)\n",
      "Run 9 Mean Absolute Error: 3.0767789186447754\n",
      "RMSE: 4.481\n",
      "R^2: 1.000\n",
      "[['link_24_flow', 'link_15_flow', 'link_5_flow', 'node_4_pressure', 'node_14_demand', 'node_3_demand', 'node_17_demand', 'link_13_flow', 'node_8_demand', 'link_12_flow', 'link_8_flow', 'node_28_pressure', 'link_21_flow', 'node_25_pressure', 'link_31_flow', 'link_3_flow', 'link_19_flow', 'node_27_pressure', 'node_19_demand', 'node_10_demand', 'link_2_flow', 'node_23_demand', 'node_4_demand', 'link_1_flow', 'link_6_flow', 'node_7_pressure', 'node_18_demand', 'link_29_flow', 'node_6_pressure', 'node_9_pressure', 'node_23_pressure', 'link_20_flow', 'node_27_demand', 'node_30_demand', 'link_25_flow', 'link_9_flow', 'node_21_pressure', 'node_8_pressure', 'node_15_pressure', 'node_14_pressure', 'node_31_pressure', 'node_30_pressure', 'link_27_flow', 'node_2_demand', 'node_9_demand', 'link_7_flow', 'link_17_flow', 'link_22_flow', 'link_11_flow']]\n",
      "starting df shape: (87600, 47)\n",
      "This is training run 10 and has the shape:  (87600, 47)\n",
      "The value of dropped columns is 50\n"
     ]
    },
    {
     "name": "stderr",
     "output_type": "stream",
     "text": [
      "/Users/alexellard/opt/anaconda3/lib/python3.7/site-packages/xgboost/data.py:96: UserWarning: Use subset (sliced data) of np.ndarray is not recommended because it will generate extra copies and increase memory consumption\n",
      "  \"because it will generate extra copies and increase \" +\n"
     ]
    },
    {
     "name": "stdout",
     "output_type": "stream",
     "text": [
      "test y shape : (17520, 1)\n",
      "Inv y shape : (17520, 47)\n"
     ]
    },
    {
     "name": "stderr",
     "output_type": "stream",
     "text": [
      "/Users/alexellard/opt/anaconda3/lib/python3.7/site-packages/xgboost/data.py:96: UserWarning: Use subset (sliced data) of np.ndarray is not recommended because it will generate extra copies and increase memory consumption\n",
      "  \"because it will generate extra copies and increase \" +\n"
     ]
    },
    {
     "name": "stdout",
     "output_type": "stream",
     "text": [
      "test y shape : (17520, 1)\n",
      "Inv y shape : (17520, 47)\n",
      "y pred shape : (17520, 1)\n",
      "inv y pred : (17520, 47)\n",
      "Run 10 Mean Absolute Error: 7.429477412137323\n",
      "RMSE: 10.012\n",
      "R^2: 1.000\n",
      "[['node_20_demand', 'link_5_flow', 'link_10_flow', 'node_4_pressure', 'node_9_pressure', 'link_29_flow', 'link_22_flow', 'link_25_flow', 'node_23_pressure', 'node_22_demand', 'node_13_pressure', 'link_13_flow', 'node_20_pressure', 'link_6_flow', 'node_14_demand', 'node_7_pressure', 'node_7_demand', 'node_28_pressure', 'node_10_demand', 'node_6_demand', 'node_25_pressure', 'node_30_pressure', 'node_14_pressure', 'node_27_demand', 'node_22_pressure', 'node_5_pressure', 'node_6_pressure', 'node_19_demand', 'node_24_demand', 'node_8_pressure', 'node_3_demand', 'link_2_flow', 'link_24_flow', 'node_2_pressure', 'link_20_flow', 'node_10_pressure', 'link_32_flow', 'node_15_pressure', 'link_15_flow', 'reservoir_demand', 'link_16_flow', 'node_30_demand', 'link_14_flow', 'node_18_pressure', 'node_13_demand', 'node_24_pressure', 'link_12_flow', 'link_17_flow', 'link_31_flow', 'node_16_demand', 'node_26_demand', 'node_31_demand', 'link_27_flow', 'node_21_demand']]\n",
      "starting df shape: (87600, 42)\n",
      "This is training run 1 and has the shape:  (87600, 42)\n",
      "The value of dropped columns is 55\n"
     ]
    },
    {
     "name": "stderr",
     "output_type": "stream",
     "text": [
      "/Users/alexellard/opt/anaconda3/lib/python3.7/site-packages/xgboost/data.py:96: UserWarning: Use subset (sliced data) of np.ndarray is not recommended because it will generate extra copies and increase memory consumption\n",
      "  \"because it will generate extra copies and increase \" +\n"
     ]
    },
    {
     "name": "stdout",
     "output_type": "stream",
     "text": [
      "test y shape : (17520, 1)\n",
      "Inv y shape : (17520, 42)\n"
     ]
    },
    {
     "name": "stderr",
     "output_type": "stream",
     "text": [
      "/Users/alexellard/opt/anaconda3/lib/python3.7/site-packages/xgboost/data.py:96: UserWarning: Use subset (sliced data) of np.ndarray is not recommended because it will generate extra copies and increase memory consumption\n",
      "  \"because it will generate extra copies and increase \" +\n"
     ]
    },
    {
     "name": "stdout",
     "output_type": "stream",
     "text": [
      "test y shape : (17520, 1)\n",
      "Inv y shape : (17520, 42)\n",
      "y pred shape : (17520, 1)\n",
      "inv y pred : (17520, 42)\n",
      "Run 1 Mean Absolute Error: 0.26272328642200654\n",
      "RMSE: 0.363\n",
      "R^2: 1.000\n",
      "[['node_25_pressure', 'link_11_flow', 'node_6_pressure', 'link_15_flow', 'link_13_flow', 'node_6_demand', 'node_24_demand', 'node_25_demand', 'node_19_demand', 'node_31_pressure', 'node_11_pressure', 'node_5_pressure', 'link_31_flow', 'node_9_pressure', 'node_3_pressure', 'node_2_demand', 'link_27_flow', 'node_9_demand', 'node_31_demand', 'node_26_pressure', 'link_3_flow', 'node_29_demand', 'node_3_demand', 'node_28_demand', 'link_2_flow', 'node_12_demand', 'link_1_flow', 'link_21_flow', 'link_17_flow', 'node_21_pressure', 'node_14_demand', 'node_22_pressure', 'node_13_demand', 'link_25_flow', 'node_24_pressure', 'link_30_flow', 'link_10_flow', 'reservoir_pressure', 'link_9_flow', 'node_1_pressure', 'link_20_flow', 'node_8_pressure', 'link_29_flow', 'node_10_pressure', 'node_21_demand', 'link_7_flow', 'node_5_demand', 'node_7_pressure', 'node_17_demand', 'link_23_flow', 'node_20_pressure', 'link_14_flow', 'link_6_flow', 'link_5_flow', 'node_12_pressure']]\n",
      "starting df shape: (87600, 41)\n",
      "This is training run 2 and has the shape:  (87600, 41)\n",
      "The value of dropped columns is 55\n"
     ]
    },
    {
     "name": "stderr",
     "output_type": "stream",
     "text": [
      "/Users/alexellard/opt/anaconda3/lib/python3.7/site-packages/xgboost/data.py:96: UserWarning: Use subset (sliced data) of np.ndarray is not recommended because it will generate extra copies and increase memory consumption\n",
      "  \"because it will generate extra copies and increase \" +\n"
     ]
    },
    {
     "name": "stdout",
     "output_type": "stream",
     "text": [
      "test y shape : (17520, 1)\n",
      "Inv y shape : (17520, 41)\n"
     ]
    },
    {
     "name": "stderr",
     "output_type": "stream",
     "text": [
      "/Users/alexellard/opt/anaconda3/lib/python3.7/site-packages/xgboost/data.py:96: UserWarning: Use subset (sliced data) of np.ndarray is not recommended because it will generate extra copies and increase memory consumption\n",
      "  \"because it will generate extra copies and increase \" +\n"
     ]
    },
    {
     "name": "stdout",
     "output_type": "stream",
     "text": [
      "test y shape : (17520, 1)\n",
      "Inv y shape : (17520, 41)\n",
      "y pred shape : (17520, 1)\n",
      "inv y pred : (17520, 41)\n",
      "Run 2 Mean Absolute Error: 3.111132952030906\n",
      "RMSE: 4.407\n",
      "R^2: 1.000\n",
      "[['node_31_demand', 'node_22_demand', 'link_4_flow', 'link_21_flow', 'node_11_pressure', 'node_24_demand', 'node_20_demand', 'node_10_demand', 'link_17_flow', 'node_20_pressure', 'node_4_demand', 'node_5_pressure', 'node_2_pressure', 'node_7_pressure', 'link_22_flow', 'node_15_pressure', 'node_23_demand', 'node_6_pressure', 'link_25_flow', 'link_20_flow', 'link_5_flow', 'link_30_flow', 'node_25_demand', 'reservoir_pressure', 'node_10_pressure', 'node_26_demand', 'node_1_demand', 'link_7_flow', 'node_22_pressure', 'node_11_demand', 'node_8_pressure', 'node_17_pressure', 'link_23_flow', 'link_15_flow', 'node_9_demand', 'link_10_flow', 'node_16_pressure', 'link_2_flow', 'link_18_flow', 'node_8_demand', 'node_30_demand', 'node_15_demand', 'link_11_flow', 'node_13_demand', 'node_28_demand', 'link_31_flow', 'link_9_flow', 'link_27_flow', 'link_14_flow', 'node_1_pressure', 'node_7_demand', 'node_29_demand', 'node_18_pressure', 'node_26_pressure', 'node_27_demand']]\n",
      "starting df shape: (87600, 41)\n",
      "This is training run 3 and has the shape:  (87600, 41)\n",
      "The value of dropped columns is 55\n"
     ]
    },
    {
     "name": "stderr",
     "output_type": "stream",
     "text": [
      "/Users/alexellard/opt/anaconda3/lib/python3.7/site-packages/xgboost/data.py:96: UserWarning: Use subset (sliced data) of np.ndarray is not recommended because it will generate extra copies and increase memory consumption\n",
      "  \"because it will generate extra copies and increase \" +\n"
     ]
    },
    {
     "name": "stdout",
     "output_type": "stream",
     "text": [
      "test y shape : (17520, 1)\n",
      "Inv y shape : (17520, 41)\n"
     ]
    },
    {
     "name": "stderr",
     "output_type": "stream",
     "text": [
      "/Users/alexellard/opt/anaconda3/lib/python3.7/site-packages/xgboost/data.py:96: UserWarning: Use subset (sliced data) of np.ndarray is not recommended because it will generate extra copies and increase memory consumption\n",
      "  \"because it will generate extra copies and increase \" +\n"
     ]
    },
    {
     "name": "stdout",
     "output_type": "stream",
     "text": [
      "test y shape : (17520, 1)\n",
      "Inv y shape : (17520, 41)\n",
      "y pred shape : (17520, 1)\n",
      "inv y pred : (17520, 41)\n",
      "Run 3 Mean Absolute Error: 3.349322750562834\n",
      "RMSE: 4.704\n",
      "R^2: 1.000\n",
      "[['node_20_pressure', 'node_11_pressure', 'link_29_flow', 'link_5_flow', 'link_16_flow', 'node_14_pressure', 'node_18_pressure', 'node_27_demand', 'node_26_pressure', 'node_1_demand', 'node_6_pressure', 'node_23_demand', 'node_21_demand', 'node_31_demand', 'link_10_flow', 'node_18_demand', 'node_13_demand', 'link_7_flow', 'node_19_pressure', 'link_22_flow', 'node_7_demand', 'node_5_pressure', 'node_12_demand', 'node_17_demand', 'link_14_flow', 'node_28_pressure', 'node_24_demand', 'link_17_flow', 'node_23_pressure', 'link_32_flow', 'link_13_flow', 'node_25_pressure', 'link_28_flow', 'link_11_flow', 'link_1_flow', 'link_20_flow', 'link_8_flow', 'link_12_flow', 'node_4_pressure', 'link_25_flow', 'link_6_flow', 'node_28_demand', 'node_1_pressure', 'node_7_pressure', 'node_8_pressure', 'node_31_pressure', 'node_27_pressure', 'link_19_flow', 'node_24_pressure', 'link_15_flow', 'node_22_demand', 'link_26_flow', 'node_3_demand', 'link_21_flow', 'link_27_flow']]\n",
      "starting df shape: (87600, 41)\n",
      "This is training run 4 and has the shape:  (87600, 41)\n",
      "The value of dropped columns is 55\n"
     ]
    },
    {
     "name": "stderr",
     "output_type": "stream",
     "text": [
      "/Users/alexellard/opt/anaconda3/lib/python3.7/site-packages/xgboost/data.py:96: UserWarning: Use subset (sliced data) of np.ndarray is not recommended because it will generate extra copies and increase memory consumption\n",
      "  \"because it will generate extra copies and increase \" +\n"
     ]
    },
    {
     "name": "stdout",
     "output_type": "stream",
     "text": [
      "test y shape : (17520, 1)\n",
      "Inv y shape : (17520, 41)\n"
     ]
    },
    {
     "name": "stderr",
     "output_type": "stream",
     "text": [
      "/Users/alexellard/opt/anaconda3/lib/python3.7/site-packages/xgboost/data.py:96: UserWarning: Use subset (sliced data) of np.ndarray is not recommended because it will generate extra copies and increase memory consumption\n",
      "  \"because it will generate extra copies and increase \" +\n"
     ]
    },
    {
     "name": "stdout",
     "output_type": "stream",
     "text": [
      "test y shape : (17520, 1)\n",
      "Inv y shape : (17520, 41)\n",
      "y pred shape : (17520, 1)\n",
      "inv y pred : (17520, 41)\n",
      "Run 4 Mean Absolute Error: 4.910626765295972\n",
      "RMSE: 6.769\n",
      "R^2: 1.000\n",
      "[['link_28_flow', 'node_2_pressure', 'node_10_pressure', 'link_17_flow', 'node_11_pressure', 'reservoir_demand', 'link_14_flow', 'node_21_demand', 'node_17_pressure', 'link_8_flow', 'link_5_flow', 'node_27_demand', 'link_30_flow', 'node_29_demand', 'node_17_demand', 'node_31_pressure', 'node_7_pressure', 'link_21_flow', 'link_10_flow', 'link_22_flow', 'node_12_demand', 'link_2_flow', 'node_16_demand', 'node_13_demand', 'node_18_pressure', 'link_11_flow', 'node_1_demand', 'node_25_pressure', 'link_6_flow', 'link_12_flow', 'node_7_demand', 'node_12_pressure', 'node_19_pressure', 'node_4_pressure', 'link_24_flow', 'link_9_flow', 'node_20_demand', 'node_8_demand', 'node_6_pressure', 'link_19_flow', 'node_6_demand', 'node_22_pressure', 'link_32_flow', 'node_26_pressure', 'link_25_flow', 'node_30_pressure', 'node_9_pressure', 'node_13_pressure', 'link_13_flow', 'link_26_flow', 'link_3_flow', 'node_28_demand', 'link_27_flow', 'node_23_pressure', 'node_14_pressure']]\n",
      "starting df shape: (87600, 41)\n",
      "This is training run 5 and has the shape:  (87600, 41)\n",
      "The value of dropped columns is 55\n"
     ]
    },
    {
     "name": "stderr",
     "output_type": "stream",
     "text": [
      "/Users/alexellard/opt/anaconda3/lib/python3.7/site-packages/xgboost/data.py:96: UserWarning: Use subset (sliced data) of np.ndarray is not recommended because it will generate extra copies and increase memory consumption\n",
      "  \"because it will generate extra copies and increase \" +\n"
     ]
    },
    {
     "name": "stdout",
     "output_type": "stream",
     "text": [
      "test y shape : (17520, 1)\n",
      "Inv y shape : (17520, 41)\n"
     ]
    },
    {
     "name": "stderr",
     "output_type": "stream",
     "text": [
      "/Users/alexellard/opt/anaconda3/lib/python3.7/site-packages/xgboost/data.py:96: UserWarning: Use subset (sliced data) of np.ndarray is not recommended because it will generate extra copies and increase memory consumption\n",
      "  \"because it will generate extra copies and increase \" +\n"
     ]
    },
    {
     "name": "stdout",
     "output_type": "stream",
     "text": [
      "test y shape : (17520, 1)\n",
      "Inv y shape : (17520, 41)\n",
      "y pred shape : (17520, 1)\n",
      "inv y pred : (17520, 41)\n",
      "Run 5 Mean Absolute Error: 0.34509063481135394\n",
      "RMSE: 0.486\n",
      "R^2: 1.000\n",
      "[['node_22_pressure', 'link_20_flow', 'link_22_flow', 'link_30_flow', 'node_24_pressure', 'node_16_pressure', 'link_17_flow', 'node_25_demand', 'link_3_flow', 'link_13_flow', 'link_32_flow', 'node_30_pressure', 'node_4_pressure', 'node_29_demand', 'link_10_flow', 'node_2_demand', 'link_12_flow', 'node_7_demand', 'link_27_flow', 'node_8_pressure', 'node_28_pressure', 'reservoir_pressure', 'link_31_flow', 'link_11_flow', 'node_3_demand', 'link_18_flow', 'link_15_flow', 'node_9_demand', 'node_5_pressure', 'node_17_demand', 'node_20_demand', 'link_5_flow', 'node_4_demand', 'link_6_flow', 'node_2_pressure', 'node_15_demand', 'link_4_flow', 'link_25_flow', 'link_28_flow', 'node_23_demand', 'node_31_demand', 'node_8_demand', 'node_12_pressure', 'link_21_flow', 'node_19_pressure', 'node_13_pressure', 'node_26_pressure', 'link_2_flow', 'node_11_demand', 'link_24_flow', 'link_9_flow', 'node_14_pressure', 'node_15_pressure', 'node_18_pressure', 'node_10_demand']]\n",
      "starting df shape: (87600, 41)\n",
      "This is training run 6 and has the shape:  (87600, 41)\n",
      "The value of dropped columns is 55\n"
     ]
    },
    {
     "name": "stderr",
     "output_type": "stream",
     "text": [
      "/Users/alexellard/opt/anaconda3/lib/python3.7/site-packages/xgboost/data.py:96: UserWarning: Use subset (sliced data) of np.ndarray is not recommended because it will generate extra copies and increase memory consumption\n",
      "  \"because it will generate extra copies and increase \" +\n"
     ]
    },
    {
     "name": "stdout",
     "output_type": "stream",
     "text": [
      "test y shape : (17520, 1)\n",
      "Inv y shape : (17520, 41)\n"
     ]
    },
    {
     "name": "stderr",
     "output_type": "stream",
     "text": [
      "/Users/alexellard/opt/anaconda3/lib/python3.7/site-packages/xgboost/data.py:96: UserWarning: Use subset (sliced data) of np.ndarray is not recommended because it will generate extra copies and increase memory consumption\n",
      "  \"because it will generate extra copies and increase \" +\n"
     ]
    },
    {
     "name": "stdout",
     "output_type": "stream",
     "text": [
      "test y shape : (17520, 1)\n",
      "Inv y shape : (17520, 41)\n",
      "y pred shape : (17520, 1)\n",
      "inv y pred : (17520, 41)\n",
      "Run 6 Mean Absolute Error: 6.01621140771631\n",
      "RMSE: 8.286\n",
      "R^2: 1.000\n",
      "[['node_18_pressure', 'node_28_pressure', 'node_15_pressure', 'node_17_demand', 'link_16_flow', 'node_8_pressure', 'node_5_demand', 'node_6_demand', 'node_16_demand', 'node_26_demand', 'node_13_demand', 'node_21_pressure', 'node_17_pressure', 'link_22_flow', 'link_32_flow', 'node_30_demand', 'node_9_pressure', 'reservoir_pressure', 'node_19_demand', 'node_19_pressure', 'reservoir_demand', 'node_6_pressure', 'node_3_demand', 'link_9_flow', 'node_5_pressure', 'node_29_demand', 'node_9_demand', 'node_7_pressure', 'node_30_pressure', 'link_31_flow', 'node_21_demand', 'link_12_flow', 'node_2_pressure', 'link_21_flow', 'link_29_flow', 'node_31_demand', 'link_2_flow', 'node_14_pressure', 'link_8_flow', 'node_10_pressure', 'node_20_demand', 'link_1_flow', 'node_24_pressure', 'link_10_flow', 'node_27_demand', 'node_20_pressure', 'link_5_flow', 'link_20_flow', 'node_31_pressure', 'link_17_flow', 'link_4_flow', 'node_25_demand', 'node_24_demand', 'node_14_demand']]\n",
      "starting df shape: (87600, 42)\n",
      "This is training run 7 and has the shape:  (87600, 42)\n",
      "The value of dropped columns is 55\n"
     ]
    },
    {
     "name": "stderr",
     "output_type": "stream",
     "text": [
      "/Users/alexellard/opt/anaconda3/lib/python3.7/site-packages/xgboost/data.py:96: UserWarning: Use subset (sliced data) of np.ndarray is not recommended because it will generate extra copies and increase memory consumption\n",
      "  \"because it will generate extra copies and increase \" +\n"
     ]
    },
    {
     "name": "stdout",
     "output_type": "stream",
     "text": [
      "test y shape : (17520, 1)\n",
      "Inv y shape : (17520, 42)\n"
     ]
    },
    {
     "name": "stderr",
     "output_type": "stream",
     "text": [
      "/Users/alexellard/opt/anaconda3/lib/python3.7/site-packages/xgboost/data.py:96: UserWarning: Use subset (sliced data) of np.ndarray is not recommended because it will generate extra copies and increase memory consumption\n",
      "  \"because it will generate extra copies and increase \" +\n"
     ]
    },
    {
     "name": "stdout",
     "output_type": "stream",
     "text": [
      "test y shape : (17520, 1)\n",
      "Inv y shape : (17520, 42)\n",
      "y pred shape : (17520, 1)\n",
      "inv y pred : (17520, 42)\n",
      "Run 7 Mean Absolute Error: 0.46848258616228955\n",
      "RMSE: 0.649\n",
      "R^2: 1.000\n",
      "[['link_16_flow', 'node_29_demand', 'node_18_pressure', 'node_13_pressure', 'link_24_flow', 'link_30_flow', 'node_11_pressure', 'node_31_pressure', 'node_22_demand', 'link_25_flow', 'link_18_flow', 'link_14_flow', 'node_11_demand', 'node_31_demand', 'node_17_pressure', 'node_7_demand', 'link_26_flow', 'node_27_demand', 'node_20_demand', 'node_2_demand', 'node_19_demand', 'link_19_flow', 'link_20_flow', 'link_5_flow', 'node_15_pressure', 'node_17_demand', 'reservoir_pressure', 'link_32_flow', 'node_27_pressure', 'link_2_flow', 'node_6_pressure', 'link_17_flow', 'node_8_demand', 'node_9_pressure', 'node_25_demand', 'link_31_flow', 'link_15_flow', 'node_20_pressure', 'node_19_pressure', 'node_14_demand', 'link_12_flow', 'link_8_flow', 'node_24_pressure', 'link_22_flow', 'link_11_flow', 'node_18_demand', 'node_8_pressure', 'link_4_flow', 'node_22_pressure', 'link_29_flow', 'node_15_demand', 'node_4_pressure', 'node_24_demand', 'link_3_flow']]\n",
      "starting df shape: (87600, 42)\n",
      "This is training run 8 and has the shape:  (87600, 42)\n",
      "The value of dropped columns is 55\n"
     ]
    },
    {
     "name": "stderr",
     "output_type": "stream",
     "text": [
      "/Users/alexellard/opt/anaconda3/lib/python3.7/site-packages/xgboost/data.py:96: UserWarning: Use subset (sliced data) of np.ndarray is not recommended because it will generate extra copies and increase memory consumption\n",
      "  \"because it will generate extra copies and increase \" +\n"
     ]
    },
    {
     "name": "stdout",
     "output_type": "stream",
     "text": [
      "test y shape : (17520, 1)\n",
      "Inv y shape : (17520, 42)\n"
     ]
    },
    {
     "name": "stderr",
     "output_type": "stream",
     "text": [
      "/Users/alexellard/opt/anaconda3/lib/python3.7/site-packages/xgboost/data.py:96: UserWarning: Use subset (sliced data) of np.ndarray is not recommended because it will generate extra copies and increase memory consumption\n",
      "  \"because it will generate extra copies and increase \" +\n"
     ]
    },
    {
     "name": "stdout",
     "output_type": "stream",
     "text": [
      "test y shape : (17520, 1)\n",
      "Inv y shape : (17520, 42)\n",
      "y pred shape : (17520, 1)\n",
      "inv y pred : (17520, 42)\n",
      "Run 8 Mean Absolute Error: 3.337939261449447\n",
      "RMSE: 4.843\n",
      "R^2: 1.000\n",
      "[['node_22_demand', 'node_17_pressure', 'node_9_demand', 'node_23_demand', 'node_21_pressure', 'node_20_demand', 'link_21_flow', 'node_8_demand', 'node_2_demand', 'link_12_flow', 'link_7_flow', 'node_13_pressure', 'link_29_flow', 'node_1_demand', 'link_9_flow', 'node_12_pressure', 'node_24_pressure', 'node_23_pressure', 'link_18_flow', 'link_27_flow', 'link_4_flow', 'node_22_pressure', 'node_31_pressure', 'node_12_demand', 'link_8_flow', 'reservoir_demand', 'link_13_flow', 'node_7_pressure', 'node_6_pressure', 'node_18_pressure', 'link_6_flow', 'node_26_demand', 'node_25_pressure', 'node_13_demand', 'node_7_demand', 'link_23_flow', 'node_17_demand', 'node_10_pressure', 'node_27_demand', 'node_11_pressure', 'link_26_flow', 'node_10_demand', 'reservoir_pressure', 'node_24_demand', 'link_17_flow', 'node_28_pressure', 'link_32_flow', 'node_8_pressure', 'node_19_pressure', 'node_27_pressure', 'link_11_flow', 'node_26_pressure', 'node_14_demand', 'link_1_flow']]\n",
      "starting df shape: (87600, 42)\n",
      "This is training run 9 and has the shape:  (87600, 42)\n",
      "The value of dropped columns is 55\n"
     ]
    },
    {
     "name": "stderr",
     "output_type": "stream",
     "text": [
      "/Users/alexellard/opt/anaconda3/lib/python3.7/site-packages/xgboost/data.py:96: UserWarning: Use subset (sliced data) of np.ndarray is not recommended because it will generate extra copies and increase memory consumption\n",
      "  \"because it will generate extra copies and increase \" +\n"
     ]
    },
    {
     "name": "stdout",
     "output_type": "stream",
     "text": [
      "test y shape : (17520, 1)\n",
      "Inv y shape : (17520, 42)\n"
     ]
    },
    {
     "name": "stderr",
     "output_type": "stream",
     "text": [
      "/Users/alexellard/opt/anaconda3/lib/python3.7/site-packages/xgboost/data.py:96: UserWarning: Use subset (sliced data) of np.ndarray is not recommended because it will generate extra copies and increase memory consumption\n",
      "  \"because it will generate extra copies and increase \" +\n"
     ]
    },
    {
     "name": "stdout",
     "output_type": "stream",
     "text": [
      "test y shape : (17520, 1)\n",
      "Inv y shape : (17520, 42)\n",
      "y pred shape : (17520, 1)\n",
      "inv y pred : (17520, 42)\n",
      "Run 9 Mean Absolute Error: 0.04617160280815998\n",
      "RMSE: 0.064\n",
      "R^2: 1.000\n",
      "[['node_16_pressure', 'node_30_demand', 'link_14_flow', 'node_28_demand', 'node_3_demand', 'link_4_flow', 'link_3_flow', 'node_9_pressure', 'link_18_flow', 'link_23_flow', 'node_26_pressure', 'node_11_demand', 'link_20_flow', 'link_21_flow', 'link_12_flow', 'node_25_pressure', 'node_12_demand', 'link_9_flow', 'link_16_flow', 'node_20_demand', 'link_27_flow', 'link_19_flow', 'reservoir_pressure', 'node_8_pressure', 'node_15_pressure', 'node_22_demand', 'link_24_flow', 'node_31_pressure', 'node_14_pressure', 'reservoir_demand', 'node_13_demand', 'link_28_flow', 'node_10_pressure', 'node_16_demand', 'node_26_demand', 'node_2_pressure', 'node_6_pressure', 'link_10_flow', 'node_13_pressure', 'node_17_demand', 'link_2_flow', 'node_11_pressure', 'link_22_flow', 'node_7_pressure', 'node_27_demand', 'link_11_flow', 'node_18_demand', 'node_21_demand', 'node_4_pressure', 'node_6_demand', 'node_4_demand', 'node_19_pressure', 'node_24_demand', 'link_31_flow']]\n",
      "starting df shape: (87600, 42)\n",
      "This is training run 10 and has the shape:  (87600, 42)\n",
      "The value of dropped columns is 55\n"
     ]
    },
    {
     "name": "stderr",
     "output_type": "stream",
     "text": [
      "/Users/alexellard/opt/anaconda3/lib/python3.7/site-packages/xgboost/data.py:96: UserWarning: Use subset (sliced data) of np.ndarray is not recommended because it will generate extra copies and increase memory consumption\n",
      "  \"because it will generate extra copies and increase \" +\n"
     ]
    },
    {
     "name": "stdout",
     "output_type": "stream",
     "text": [
      "test y shape : (17520, 1)\n",
      "Inv y shape : (17520, 42)\n"
     ]
    },
    {
     "name": "stderr",
     "output_type": "stream",
     "text": [
      "/Users/alexellard/opt/anaconda3/lib/python3.7/site-packages/xgboost/data.py:96: UserWarning: Use subset (sliced data) of np.ndarray is not recommended because it will generate extra copies and increase memory consumption\n",
      "  \"because it will generate extra copies and increase \" +\n"
     ]
    },
    {
     "name": "stdout",
     "output_type": "stream",
     "text": [
      "test y shape : (17520, 1)\n",
      "Inv y shape : (17520, 42)\n",
      "y pred shape : (17520, 1)\n",
      "inv y pred : (17520, 42)\n",
      "Run 10 Mean Absolute Error: 0.16141586336315797\n",
      "RMSE: 0.229\n",
      "R^2: 1.000\n",
      "[['link_29_flow', 'node_4_pressure', 'node_18_pressure', 'node_12_demand', 'link_3_flow', 'node_28_pressure', 'link_8_flow', 'node_5_demand', 'link_32_flow', 'node_30_pressure', 'node_23_pressure', 'node_11_demand', 'link_24_flow', 'node_12_pressure', 'link_19_flow', 'link_22_flow', 'link_27_flow', 'node_30_demand', 'node_24_demand', 'node_2_pressure', 'node_15_demand', 'node_17_demand', 'link_28_flow', 'link_16_flow', 'node_14_pressure', 'link_25_flow', 'link_17_flow', 'node_25_demand', 'node_20_pressure', 'link_18_flow', 'node_29_demand', 'node_24_pressure', 'node_22_pressure', 'node_27_pressure', 'link_20_flow', 'node_10_pressure', 'node_7_pressure', 'node_8_demand', 'node_3_pressure', 'node_31_pressure', 'node_16_pressure', 'node_1_demand', 'link_12_flow', 'node_8_pressure', 'node_13_pressure', 'node_17_pressure', 'node_21_pressure', 'node_10_demand', 'link_4_flow', 'link_1_flow', 'node_13_demand', 'node_1_pressure', 'node_23_demand', 'node_3_demand', 'node_7_demand', 'node_18_demand', 'link_10_flow', 'node_9_demand', 'node_22_demand']]\n",
      "starting df shape: (87600, 37)\n",
      "This is training run 1 and has the shape:  (87600, 37)\n",
      "The value of dropped columns is 60\n"
     ]
    },
    {
     "name": "stderr",
     "output_type": "stream",
     "text": [
      "/Users/alexellard/opt/anaconda3/lib/python3.7/site-packages/xgboost/data.py:96: UserWarning: Use subset (sliced data) of np.ndarray is not recommended because it will generate extra copies and increase memory consumption\n",
      "  \"because it will generate extra copies and increase \" +\n"
     ]
    },
    {
     "name": "stdout",
     "output_type": "stream",
     "text": [
      "test y shape : (17520, 1)\n",
      "Inv y shape : (17520, 37)\n"
     ]
    },
    {
     "name": "stderr",
     "output_type": "stream",
     "text": [
      "/Users/alexellard/opt/anaconda3/lib/python3.7/site-packages/xgboost/data.py:96: UserWarning: Use subset (sliced data) of np.ndarray is not recommended because it will generate extra copies and increase memory consumption\n",
      "  \"because it will generate extra copies and increase \" +\n"
     ]
    },
    {
     "name": "stdout",
     "output_type": "stream",
     "text": [
      "test y shape : (17520, 1)\n",
      "Inv y shape : (17520, 37)\n",
      "y pred shape : (17520, 1)\n",
      "inv y pred : (17520, 37)\n",
      "Run 1 Mean Absolute Error: 8.594182185792096\n",
      "RMSE: 11.743\n",
      "R^2: 1.000\n",
      "[['node_31_demand', 'node_6_pressure', 'node_24_demand', 'node_11_pressure', 'node_19_pressure', 'node_22_demand', 'link_25_flow', 'node_26_pressure', 'node_27_demand', 'node_3_pressure', 'node_15_demand', 'node_15_pressure', 'node_14_pressure', 'node_17_pressure', 'node_3_demand', 'node_23_pressure', 'link_24_flow', 'reservoir_pressure', 'link_15_flow', 'link_7_flow', 'link_11_flow', 'link_28_flow', 'node_8_pressure', 'node_6_demand', 'link_26_flow', 'node_10_pressure', 'link_2_flow', 'node_7_demand', 'node_26_demand', 'node_30_pressure', 'link_6_flow', 'link_17_flow', 'node_16_pressure', 'reservoir_demand', 'link_18_flow', 'node_19_demand', 'node_21_pressure', 'node_13_demand', 'node_2_demand', 'node_22_pressure', 'node_24_pressure', 'node_30_demand', 'node_11_demand', 'node_5_pressure', 'node_28_pressure', 'link_1_flow', 'link_32_flow', 'node_18_pressure', 'node_9_demand', 'link_30_flow', 'node_2_pressure', 'node_20_pressure', 'node_7_pressure', 'link_3_flow', 'node_14_demand', 'node_4_demand', 'link_9_flow', 'node_1_pressure', 'link_8_flow', 'node_12_demand']]\n",
      "starting df shape: (87600, 36)\n",
      "This is training run 2 and has the shape:  (87600, 36)\n",
      "The value of dropped columns is 60\n"
     ]
    },
    {
     "name": "stderr",
     "output_type": "stream",
     "text": [
      "/Users/alexellard/opt/anaconda3/lib/python3.7/site-packages/xgboost/data.py:96: UserWarning: Use subset (sliced data) of np.ndarray is not recommended because it will generate extra copies and increase memory consumption\n",
      "  \"because it will generate extra copies and increase \" +\n"
     ]
    },
    {
     "name": "stdout",
     "output_type": "stream",
     "text": [
      "test y shape : (17520, 1)\n",
      "Inv y shape : (17520, 36)\n"
     ]
    },
    {
     "name": "stderr",
     "output_type": "stream",
     "text": [
      "/Users/alexellard/opt/anaconda3/lib/python3.7/site-packages/xgboost/data.py:96: UserWarning: Use subset (sliced data) of np.ndarray is not recommended because it will generate extra copies and increase memory consumption\n",
      "  \"because it will generate extra copies and increase \" +\n"
     ]
    },
    {
     "name": "stdout",
     "output_type": "stream",
     "text": [
      "test y shape : (17520, 1)\n",
      "Inv y shape : (17520, 36)\n",
      "y pred shape : (17520, 1)\n",
      "inv y pred : (17520, 36)\n",
      "Run 2 Mean Absolute Error: 0.292350395577567\n",
      "RMSE: 0.403\n",
      "R^2: 1.000\n",
      "[['node_14_demand', 'link_13_flow', 'node_19_pressure', 'node_10_pressure', 'link_24_flow', 'link_28_flow', 'node_22_pressure', 'node_31_demand', 'link_10_flow', 'node_17_pressure', 'node_28_pressure', 'node_18_pressure', 'link_16_flow', 'node_4_demand', 'reservoir_pressure', 'node_13_demand', 'node_12_demand', 'link_32_flow', 'node_16_pressure', 'link_8_flow', 'node_29_demand', 'node_11_demand', 'node_12_pressure', 'link_15_flow', 'node_1_pressure', 'link_3_flow', 'link_17_flow', 'link_30_flow', 'node_5_pressure', 'link_26_flow', 'link_27_flow', 'link_6_flow', 'node_20_demand', 'node_7_pressure', 'node_8_demand', 'node_11_pressure', 'node_26_pressure', 'node_20_pressure', 'node_6_pressure', 'node_25_pressure', 'node_21_pressure', 'node_28_demand', 'node_16_demand', 'link_29_flow', 'node_14_pressure', 'link_4_flow', 'node_27_pressure', 'link_12_flow', 'node_30_pressure', 'node_25_demand', 'link_19_flow', 'node_15_pressure', 'node_24_pressure', 'node_10_demand', 'node_8_pressure', 'link_31_flow', 'node_19_demand', 'node_26_demand', 'link_20_flow']]\n",
      "starting df shape: (87600, 37)\n",
      "This is training run 3 and has the shape:  (87600, 37)\n",
      "The value of dropped columns is 60\n"
     ]
    },
    {
     "name": "stderr",
     "output_type": "stream",
     "text": [
      "/Users/alexellard/opt/anaconda3/lib/python3.7/site-packages/xgboost/data.py:96: UserWarning: Use subset (sliced data) of np.ndarray is not recommended because it will generate extra copies and increase memory consumption\n",
      "  \"because it will generate extra copies and increase \" +\n"
     ]
    },
    {
     "name": "stdout",
     "output_type": "stream",
     "text": [
      "test y shape : (17520, 1)\n",
      "Inv y shape : (17520, 37)\n"
     ]
    },
    {
     "name": "stderr",
     "output_type": "stream",
     "text": [
      "/Users/alexellard/opt/anaconda3/lib/python3.7/site-packages/xgboost/data.py:96: UserWarning: Use subset (sliced data) of np.ndarray is not recommended because it will generate extra copies and increase memory consumption\n",
      "  \"because it will generate extra copies and increase \" +\n"
     ]
    },
    {
     "name": "stdout",
     "output_type": "stream",
     "text": [
      "test y shape : (17520, 1)\n",
      "Inv y shape : (17520, 37)\n",
      "y pred shape : (17520, 1)\n",
      "inv y pred : (17520, 37)\n",
      "Run 3 Mean Absolute Error: 6.196438738027648\n",
      "RMSE: 8.593\n",
      "R^2: 1.000\n",
      "[['link_25_flow', 'node_1_demand', 'link_23_flow', 'link_12_flow', 'node_8_demand', 'node_5_demand', 'link_18_flow', 'node_14_demand', 'node_29_demand', 'link_30_flow', 'node_15_pressure', 'node_27_demand', 'node_6_demand', 'link_17_flow', 'link_28_flow', 'node_20_pressure', 'link_11_flow', 'node_4_pressure', 'node_24_demand', 'link_26_flow', 'node_21_demand', 'node_5_pressure', 'node_10_pressure', 'node_30_demand', 'link_2_flow', 'link_24_flow', 'node_9_pressure', 'node_13_pressure', 'node_9_demand', 'node_2_demand', 'node_1_pressure', 'node_13_demand', 'node_17_demand', 'node_15_demand', 'node_23_demand', 'node_19_pressure', 'link_16_flow', 'node_4_demand', 'node_25_demand', 'node_18_pressure', 'link_13_flow', 'node_23_pressure', 'node_16_demand', 'link_32_flow', 'node_6_pressure', 'node_10_demand', 'link_19_flow', 'link_1_flow', 'node_7_pressure', 'node_12_demand', 'node_16_pressure', 'link_21_flow', 'link_14_flow', 'node_19_demand', 'link_6_flow', 'node_28_demand', 'node_12_pressure', 'link_3_flow', 'node_30_pressure']]\n",
      "starting df shape: (87600, 37)\n",
      "This is training run 4 and has the shape:  (87600, 37)\n",
      "The value of dropped columns is 60\n"
     ]
    },
    {
     "name": "stderr",
     "output_type": "stream",
     "text": [
      "/Users/alexellard/opt/anaconda3/lib/python3.7/site-packages/xgboost/data.py:96: UserWarning: Use subset (sliced data) of np.ndarray is not recommended because it will generate extra copies and increase memory consumption\n",
      "  \"because it will generate extra copies and increase \" +\n"
     ]
    },
    {
     "name": "stdout",
     "output_type": "stream",
     "text": [
      "test y shape : (17520, 1)\n",
      "Inv y shape : (17520, 37)\n"
     ]
    },
    {
     "name": "stderr",
     "output_type": "stream",
     "text": [
      "/Users/alexellard/opt/anaconda3/lib/python3.7/site-packages/xgboost/data.py:96: UserWarning: Use subset (sliced data) of np.ndarray is not recommended because it will generate extra copies and increase memory consumption\n",
      "  \"because it will generate extra copies and increase \" +\n"
     ]
    },
    {
     "name": "stdout",
     "output_type": "stream",
     "text": [
      "test y shape : (17520, 1)\n",
      "Inv y shape : (17520, 37)\n",
      "y pred shape : (17520, 1)\n",
      "inv y pred : (17520, 37)\n",
      "Run 4 Mean Absolute Error: 3.731977879744209\n",
      "RMSE: 5.124\n",
      "R^2: 1.000\n",
      "[['link_2_flow', 'node_22_demand', 'node_7_demand', 'node_11_pressure', 'node_13_pressure', 'link_25_flow', 'link_14_flow', 'node_30_pressure', 'node_17_demand', 'node_31_demand', 'node_9_pressure', 'node_3_demand', 'link_23_flow', 'link_15_flow', 'node_19_pressure', 'node_22_pressure', 'link_16_flow', 'node_18_pressure', 'node_5_demand', 'node_24_pressure', 'node_15_demand', 'node_27_pressure', 'node_16_pressure', 'node_25_pressure', 'node_8_pressure', 'node_10_demand', 'link_29_flow', 'node_4_demand', 'link_18_flow', 'link_32_flow', 'node_26_pressure', 'node_17_pressure', 'reservoir_pressure', 'link_27_flow', 'node_2_demand', 'link_3_flow', 'node_28_demand', 'link_1_flow', 'node_30_demand', 'link_24_flow', 'node_23_pressure', 'link_31_flow', 'link_9_flow', 'node_23_demand', 'node_1_demand', 'node_20_demand', 'link_13_flow', 'node_1_pressure', 'link_22_flow', 'link_10_flow', 'link_28_flow', 'node_12_pressure', 'link_30_flow', 'node_26_demand', 'link_21_flow', 'node_8_demand', 'reservoir_demand', 'link_26_flow', 'node_19_demand', 'node_12_demand']]\n",
      "starting df shape: (87600, 36)\n",
      "This is training run 5 and has the shape:  (87600, 36)\n",
      "The value of dropped columns is 60\n"
     ]
    },
    {
     "name": "stderr",
     "output_type": "stream",
     "text": [
      "/Users/alexellard/opt/anaconda3/lib/python3.7/site-packages/xgboost/data.py:96: UserWarning: Use subset (sliced data) of np.ndarray is not recommended because it will generate extra copies and increase memory consumption\n",
      "  \"because it will generate extra copies and increase \" +\n"
     ]
    },
    {
     "name": "stdout",
     "output_type": "stream",
     "text": [
      "test y shape : (17520, 1)\n",
      "Inv y shape : (17520, 36)\n"
     ]
    },
    {
     "name": "stderr",
     "output_type": "stream",
     "text": [
      "/Users/alexellard/opt/anaconda3/lib/python3.7/site-packages/xgboost/data.py:96: UserWarning: Use subset (sliced data) of np.ndarray is not recommended because it will generate extra copies and increase memory consumption\n",
      "  \"because it will generate extra copies and increase \" +\n"
     ]
    },
    {
     "name": "stdout",
     "output_type": "stream",
     "text": [
      "test y shape : (17520, 1)\n",
      "Inv y shape : (17520, 36)\n",
      "y pred shape : (17520, 1)\n",
      "inv y pred : (17520, 36)\n",
      "Run 5 Mean Absolute Error: 0.42148914392814846\n",
      "RMSE: 0.589\n",
      "R^2: 1.000\n",
      "[['link_20_flow', 'node_19_pressure', 'node_28_pressure', 'link_7_flow', 'link_5_flow', 'node_8_pressure', 'node_9_pressure', 'link_26_flow', 'node_15_demand', 'link_8_flow', 'link_18_flow', 'reservoir_pressure', 'node_17_pressure', 'node_2_pressure', 'link_12_flow', 'link_11_flow', 'link_9_flow', 'node_21_pressure', 'link_16_flow', 'node_5_demand', 'link_24_flow', 'node_24_pressure', 'node_31_pressure', 'node_21_demand', 'link_10_flow', 'node_15_pressure', 'node_11_pressure', 'node_16_pressure', 'node_23_demand', 'node_30_pressure', 'link_17_flow', 'node_13_pressure', 'node_29_demand', 'node_7_demand', 'link_15_flow', 'node_18_demand', 'node_4_demand', 'link_22_flow', 'link_32_flow', 'node_25_pressure', 'node_2_demand', 'node_5_pressure', 'node_26_pressure', 'node_22_pressure', 'node_19_demand', 'node_7_pressure', 'node_14_demand', 'node_14_pressure', 'node_6_pressure', 'link_21_flow', 'link_3_flow', 'node_9_demand', 'node_6_demand', 'node_20_pressure', 'link_2_flow', 'node_26_demand', 'node_31_demand', 'link_6_flow', 'link_23_flow']]\n",
      "starting df shape: (87600, 37)\n",
      "This is training run 6 and has the shape:  (87600, 37)\n",
      "The value of dropped columns is 60\n"
     ]
    },
    {
     "name": "stderr",
     "output_type": "stream",
     "text": [
      "/Users/alexellard/opt/anaconda3/lib/python3.7/site-packages/xgboost/data.py:96: UserWarning: Use subset (sliced data) of np.ndarray is not recommended because it will generate extra copies and increase memory consumption\n",
      "  \"because it will generate extra copies and increase \" +\n"
     ]
    },
    {
     "name": "stdout",
     "output_type": "stream",
     "text": [
      "test y shape : (17520, 1)\n",
      "Inv y shape : (17520, 37)\n"
     ]
    },
    {
     "name": "stderr",
     "output_type": "stream",
     "text": [
      "/Users/alexellard/opt/anaconda3/lib/python3.7/site-packages/xgboost/data.py:96: UserWarning: Use subset (sliced data) of np.ndarray is not recommended because it will generate extra copies and increase memory consumption\n",
      "  \"because it will generate extra copies and increase \" +\n"
     ]
    },
    {
     "name": "stdout",
     "output_type": "stream",
     "text": [
      "test y shape : (17520, 1)\n",
      "Inv y shape : (17520, 37)\n",
      "y pred shape : (17520, 1)\n",
      "inv y pred : (17520, 37)\n",
      "Run 6 Mean Absolute Error: 6.633212350851744\n",
      "RMSE: 9.181\n",
      "R^2: 1.000\n",
      "[['node_1_pressure', 'link_20_flow', 'node_7_demand', 'link_29_flow', 'node_22_demand', 'node_3_demand', 'node_13_pressure', 'link_6_flow', 'node_24_pressure', 'node_10_pressure', 'node_20_pressure', 'node_27_demand', 'node_8_demand', 'node_1_demand', 'node_25_pressure', 'node_4_pressure', 'node_15_pressure', 'link_12_flow', 'node_23_pressure', 'node_25_demand', 'node_3_pressure', 'node_9_pressure', 'node_13_demand', 'node_12_demand', 'link_9_flow', 'node_30_demand', 'link_24_flow', 'node_19_demand', 'link_31_flow', 'link_3_flow', 'link_28_flow', 'node_11_demand', 'node_31_demand', 'node_7_pressure', 'node_14_demand', 'node_31_pressure', 'node_10_demand', 'node_16_pressure', 'link_30_flow', 'node_11_pressure', 'node_15_demand', 'link_7_flow', 'link_11_flow', 'node_19_pressure', 'node_26_demand', 'link_8_flow', 'node_6_demand', 'node_12_pressure', 'node_4_demand', 'link_4_flow', 'link_27_flow', 'node_2_pressure', 'node_16_demand', 'node_23_demand', 'link_19_flow', 'reservoir_demand', 'link_25_flow', 'link_23_flow', 'node_29_demand', 'node_18_pressure']]\n",
      "starting df shape: (87600, 36)\n",
      "This is training run 7 and has the shape:  (87600, 36)\n",
      "The value of dropped columns is 60\n"
     ]
    },
    {
     "name": "stderr",
     "output_type": "stream",
     "text": [
      "/Users/alexellard/opt/anaconda3/lib/python3.7/site-packages/xgboost/data.py:96: UserWarning: Use subset (sliced data) of np.ndarray is not recommended because it will generate extra copies and increase memory consumption\n",
      "  \"because it will generate extra copies and increase \" +\n"
     ]
    },
    {
     "name": "stdout",
     "output_type": "stream",
     "text": [
      "test y shape : (17520, 1)\n",
      "Inv y shape : (17520, 36)\n"
     ]
    },
    {
     "name": "stderr",
     "output_type": "stream",
     "text": [
      "/Users/alexellard/opt/anaconda3/lib/python3.7/site-packages/xgboost/data.py:96: UserWarning: Use subset (sliced data) of np.ndarray is not recommended because it will generate extra copies and increase memory consumption\n",
      "  \"because it will generate extra copies and increase \" +\n"
     ]
    },
    {
     "name": "stdout",
     "output_type": "stream",
     "text": [
      "test y shape : (17520, 1)\n",
      "Inv y shape : (17520, 36)\n",
      "y pred shape : (17520, 1)\n",
      "inv y pred : (17520, 36)\n",
      "Run 7 Mean Absolute Error: 0.20866348375608199\n",
      "RMSE: 0.294\n",
      "R^2: 1.000\n",
      "[['link_8_flow', 'node_1_demand', 'node_18_pressure', 'node_1_pressure', 'node_20_pressure', 'node_9_pressure', 'node_2_pressure', 'link_11_flow', 'link_28_flow', 'link_26_flow', 'node_19_pressure', 'link_21_flow', 'link_30_flow', 'node_19_demand', 'node_17_pressure', 'node_5_demand', 'link_20_flow', 'link_16_flow', 'node_31_pressure', 'node_10_demand', 'link_27_flow', 'node_6_demand', 'node_4_demand', 'node_23_demand', 'node_30_demand', 'node_25_demand', 'node_7_demand', 'link_10_flow', 'node_21_demand', 'reservoir_demand', 'node_22_demand', 'node_24_demand', 'node_9_demand', 'node_7_pressure', 'reservoir_pressure', 'link_7_flow', 'node_13_demand', 'link_12_flow', 'node_8_demand', 'link_4_flow', 'node_8_pressure', 'link_31_flow', 'node_20_demand', 'link_25_flow', 'node_13_pressure', 'node_14_pressure', 'node_23_pressure', 'link_13_flow', 'link_17_flow', 'node_4_pressure', 'node_3_pressure', 'link_2_flow', 'node_14_demand', 'link_3_flow', 'node_12_pressure', 'node_2_demand', 'link_24_flow', 'node_11_demand', 'node_16_pressure']]\n",
      "starting df shape: (87600, 37)\n",
      "This is training run 8 and has the shape:  (87600, 37)\n",
      "The value of dropped columns is 60\n"
     ]
    },
    {
     "name": "stderr",
     "output_type": "stream",
     "text": [
      "/Users/alexellard/opt/anaconda3/lib/python3.7/site-packages/xgboost/data.py:96: UserWarning: Use subset (sliced data) of np.ndarray is not recommended because it will generate extra copies and increase memory consumption\n",
      "  \"because it will generate extra copies and increase \" +\n"
     ]
    },
    {
     "name": "stdout",
     "output_type": "stream",
     "text": [
      "test y shape : (17520, 1)\n",
      "Inv y shape : (17520, 37)\n"
     ]
    },
    {
     "name": "stderr",
     "output_type": "stream",
     "text": [
      "/Users/alexellard/opt/anaconda3/lib/python3.7/site-packages/xgboost/data.py:96: UserWarning: Use subset (sliced data) of np.ndarray is not recommended because it will generate extra copies and increase memory consumption\n",
      "  \"because it will generate extra copies and increase \" +\n"
     ]
    },
    {
     "name": "stdout",
     "output_type": "stream",
     "text": [
      "test y shape : (17520, 1)\n",
      "Inv y shape : (17520, 37)\n",
      "y pred shape : (17520, 1)\n",
      "inv y pred : (17520, 37)\n",
      "Run 8 Mean Absolute Error: 0.02426681904937544\n",
      "RMSE: 0.034\n",
      "R^2: 1.000\n",
      "[['node_17_demand', 'link_21_flow', 'node_21_demand', 'node_22_pressure', 'node_20_pressure', 'link_19_flow', 'node_26_demand', 'node_11_pressure', 'node_21_pressure', 'node_31_demand', 'link_23_flow', 'link_29_flow', 'node_13_demand', 'link_7_flow', 'node_23_pressure', 'link_28_flow', 'node_6_pressure', 'node_27_pressure', 'link_13_flow', 'node_30_demand', 'node_19_demand', 'link_22_flow', 'node_3_pressure', 'node_12_pressure', 'node_9_pressure', 'link_14_flow', 'link_32_flow', 'node_20_demand', 'link_9_flow', 'link_15_flow', 'link_10_flow', 'link_16_flow', 'node_22_demand', 'link_26_flow', 'node_15_demand', 'node_9_demand', 'node_8_pressure', 'node_12_demand', 'link_6_flow', 'node_24_pressure', 'node_25_pressure', 'node_6_demand', 'node_4_demand', 'node_28_demand', 'link_18_flow', 'node_1_pressure', 'link_4_flow', 'node_29_demand', 'link_2_flow', 'node_7_demand', 'link_31_flow', 'node_10_demand', 'node_8_demand', 'node_24_demand', 'link_3_flow', 'node_18_pressure', 'link_1_flow', 'reservoir_pressure', 'node_7_pressure']]\n",
      "starting df shape: (87600, 37)\n",
      "This is training run 9 and has the shape:  (87600, 37)\n",
      "The value of dropped columns is 60\n"
     ]
    },
    {
     "name": "stderr",
     "output_type": "stream",
     "text": [
      "/Users/alexellard/opt/anaconda3/lib/python3.7/site-packages/xgboost/data.py:96: UserWarning: Use subset (sliced data) of np.ndarray is not recommended because it will generate extra copies and increase memory consumption\n",
      "  \"because it will generate extra copies and increase \" +\n"
     ]
    },
    {
     "name": "stdout",
     "output_type": "stream",
     "text": [
      "test y shape : (17520, 1)\n",
      "Inv y shape : (17520, 37)\n"
     ]
    },
    {
     "name": "stderr",
     "output_type": "stream",
     "text": [
      "/Users/alexellard/opt/anaconda3/lib/python3.7/site-packages/xgboost/data.py:96: UserWarning: Use subset (sliced data) of np.ndarray is not recommended because it will generate extra copies and increase memory consumption\n",
      "  \"because it will generate extra copies and increase \" +\n"
     ]
    },
    {
     "name": "stdout",
     "output_type": "stream",
     "text": [
      "test y shape : (17520, 1)\n",
      "Inv y shape : (17520, 37)\n",
      "y pred shape : (17520, 1)\n",
      "inv y pred : (17520, 37)\n",
      "Run 9 Mean Absolute Error: 2.896277727455089\n",
      "RMSE: 4.138\n",
      "R^2: 1.000\n",
      "[['link_3_flow', 'node_6_demand', 'node_14_pressure', 'node_2_demand', 'node_29_demand', 'link_16_flow', 'node_19_pressure', 'link_10_flow', 'link_11_flow', 'node_30_pressure', 'link_29_flow', 'node_10_demand', 'reservoir_demand', 'node_24_demand', 'node_8_pressure', 'link_25_flow', 'node_8_demand', 'node_3_pressure', 'node_17_demand', 'node_6_pressure', 'link_14_flow', 'node_21_demand', 'link_5_flow', 'link_23_flow', 'node_26_pressure', 'node_15_pressure', 'node_4_demand', 'node_12_demand', 'node_18_pressure', 'link_15_flow', 'node_1_demand', 'link_8_flow', 'node_28_demand', 'node_7_demand', 'node_2_pressure', 'link_2_flow', 'node_27_demand', 'node_4_pressure', 'link_1_flow', 'node_14_demand', 'node_5_pressure', 'node_9_pressure', 'link_18_flow', 'node_21_pressure', 'node_12_pressure', 'node_22_demand', 'link_17_flow', 'link_6_flow', 'link_26_flow', 'link_21_flow', 'reservoir_pressure', 'node_25_demand', 'node_25_pressure', 'node_24_pressure', 'node_9_demand', 'node_18_demand', 'node_22_pressure', 'node_28_pressure', 'node_3_demand']]\n",
      "starting df shape: (87600, 37)\n",
      "This is training run 10 and has the shape:  (87600, 37)\n",
      "The value of dropped columns is 60\n"
     ]
    },
    {
     "name": "stderr",
     "output_type": "stream",
     "text": [
      "/Users/alexellard/opt/anaconda3/lib/python3.7/site-packages/xgboost/data.py:96: UserWarning: Use subset (sliced data) of np.ndarray is not recommended because it will generate extra copies and increase memory consumption\n",
      "  \"because it will generate extra copies and increase \" +\n"
     ]
    },
    {
     "name": "stdout",
     "output_type": "stream",
     "text": [
      "test y shape : (17520, 1)\n",
      "Inv y shape : (17520, 37)\n"
     ]
    },
    {
     "name": "stderr",
     "output_type": "stream",
     "text": [
      "/Users/alexellard/opt/anaconda3/lib/python3.7/site-packages/xgboost/data.py:96: UserWarning: Use subset (sliced data) of np.ndarray is not recommended because it will generate extra copies and increase memory consumption\n",
      "  \"because it will generate extra copies and increase \" +\n"
     ]
    },
    {
     "name": "stdout",
     "output_type": "stream",
     "text": [
      "test y shape : (17520, 1)\n",
      "Inv y shape : (17520, 37)\n",
      "y pred shape : (17520, 1)\n",
      "inv y pred : (17520, 37)\n",
      "Run 10 Mean Absolute Error: 0.26574590088008826\n",
      "RMSE: 0.363\n",
      "R^2: 1.000\n",
      "[['node_9_pressure', 'link_31_flow', 'link_25_flow', 'node_22_pressure', 'node_10_demand', 'node_4_pressure', 'node_3_demand', 'node_16_demand', 'link_13_flow', 'node_12_demand', 'link_18_flow', 'node_17_demand', 'node_25_pressure', 'node_4_demand', 'node_12_pressure', 'node_18_demand', 'link_24_flow', 'node_14_demand', 'node_31_demand', 'link_26_flow', 'node_15_demand', 'link_1_flow', 'link_10_flow', 'link_21_flow', 'node_26_pressure', 'node_21_demand', 'node_5_demand', 'node_31_pressure', 'node_17_pressure', 'node_14_pressure', 'node_20_demand', 'reservoir_pressure', 'node_1_pressure', 'node_27_pressure', 'link_16_flow', 'node_6_pressure', 'link_32_flow', 'link_5_flow', 'link_12_flow', 'node_9_demand', 'node_15_pressure', 'link_7_flow', 'node_7_demand', 'link_14_flow', 'node_11_pressure', 'node_27_demand', 'link_20_flow', 'node_30_pressure', 'link_17_flow', 'link_23_flow', 'node_24_demand', 'node_8_pressure', 'link_2_flow', 'link_28_flow', 'link_19_flow', 'node_20_pressure', 'node_1_demand', 'node_19_demand', 'node_25_demand', 'node_2_pressure', 'node_23_pressure', 'link_30_flow', 'link_27_flow', 'node_19_pressure']]\n",
      "starting df shape: (87600, 32)\n",
      "This is training run 1 and has the shape:  (87600, 32)\n",
      "The value of dropped columns is 65\n"
     ]
    },
    {
     "name": "stderr",
     "output_type": "stream",
     "text": [
      "/Users/alexellard/opt/anaconda3/lib/python3.7/site-packages/xgboost/data.py:96: UserWarning: Use subset (sliced data) of np.ndarray is not recommended because it will generate extra copies and increase memory consumption\n",
      "  \"because it will generate extra copies and increase \" +\n"
     ]
    },
    {
     "name": "stdout",
     "output_type": "stream",
     "text": [
      "test y shape : (17520, 1)\n",
      "Inv y shape : (17520, 32)\n"
     ]
    },
    {
     "name": "stderr",
     "output_type": "stream",
     "text": [
      "/Users/alexellard/opt/anaconda3/lib/python3.7/site-packages/xgboost/data.py:96: UserWarning: Use subset (sliced data) of np.ndarray is not recommended because it will generate extra copies and increase memory consumption\n",
      "  \"because it will generate extra copies and increase \" +\n"
     ]
    },
    {
     "name": "stdout",
     "output_type": "stream",
     "text": [
      "test y shape : (17520, 1)\n",
      "Inv y shape : (17520, 32)\n",
      "y pred shape : (17520, 1)\n",
      "inv y pred : (17520, 32)\n",
      "Run 1 Mean Absolute Error: 6.873487707962608\n",
      "RMSE: 9.720\n",
      "R^2: 1.000\n",
      "[['link_5_flow', 'node_15_pressure', 'node_7_demand', 'node_12_pressure', 'link_31_flow', 'node_30_pressure', 'link_29_flow', 'node_11_demand', 'node_9_pressure', 'node_27_demand', 'node_10_demand', 'node_4_demand', 'node_27_pressure', 'node_9_demand', 'node_6_pressure', 'link_16_flow', 'node_13_demand', 'link_28_flow', 'node_29_demand', 'node_14_demand', 'link_8_flow', 'node_21_demand', 'link_19_flow', 'node_16_demand', 'node_8_pressure', 'node_26_demand', 'node_31_pressure', 'link_4_flow', 'node_19_pressure', 'node_18_demand', 'link_27_flow', 'link_17_flow', 'node_2_demand', 'reservoir_pressure', 'node_10_pressure', 'node_2_pressure', 'link_9_flow', 'node_1_pressure', 'link_25_flow', 'node_19_demand', 'link_1_flow', 'link_15_flow', 'node_31_demand', 'node_17_demand', 'link_18_flow', 'link_3_flow', 'node_30_demand', 'node_24_demand', 'link_6_flow', 'link_2_flow', 'node_7_pressure', 'link_11_flow', 'reservoir_demand', 'node_20_pressure', 'link_20_flow', 'node_6_demand', 'node_25_pressure', 'node_3_pressure', 'node_22_pressure', 'link_22_flow', 'node_21_pressure', 'node_28_demand', 'node_8_demand', 'node_28_pressure']]\n",
      "starting df shape: (87600, 32)\n",
      "This is training run 2 and has the shape:  (87600, 32)\n",
      "The value of dropped columns is 65\n"
     ]
    },
    {
     "name": "stderr",
     "output_type": "stream",
     "text": [
      "/Users/alexellard/opt/anaconda3/lib/python3.7/site-packages/xgboost/data.py:96: UserWarning: Use subset (sliced data) of np.ndarray is not recommended because it will generate extra copies and increase memory consumption\n",
      "  \"because it will generate extra copies and increase \" +\n"
     ]
    },
    {
     "name": "stdout",
     "output_type": "stream",
     "text": [
      "test y shape : (17520, 1)\n",
      "Inv y shape : (17520, 32)\n"
     ]
    },
    {
     "name": "stderr",
     "output_type": "stream",
     "text": [
      "/Users/alexellard/opt/anaconda3/lib/python3.7/site-packages/xgboost/data.py:96: UserWarning: Use subset (sliced data) of np.ndarray is not recommended because it will generate extra copies and increase memory consumption\n",
      "  \"because it will generate extra copies and increase \" +\n"
     ]
    },
    {
     "name": "stdout",
     "output_type": "stream",
     "text": [
      "test y shape : (17520, 1)\n",
      "Inv y shape : (17520, 32)\n",
      "y pred shape : (17520, 1)\n",
      "inv y pred : (17520, 32)\n",
      "Run 2 Mean Absolute Error: 0.44549442724840077\n",
      "RMSE: 0.600\n",
      "R^2: 1.000\n",
      "[['node_8_pressure', 'node_1_pressure', 'node_22_pressure', 'node_27_pressure', 'node_21_pressure', 'node_13_demand', 'link_2_flow', 'node_11_pressure', 'node_3_demand', 'node_9_demand', 'node_6_pressure', 'link_21_flow', 'link_31_flow', 'link_3_flow', 'link_7_flow', 'node_23_demand', 'node_15_demand', 'node_9_pressure', 'link_9_flow', 'node_1_demand', 'reservoir_pressure', 'node_18_demand', 'node_17_demand', 'node_5_demand', 'node_11_demand', 'node_26_pressure', 'link_16_flow', 'link_14_flow', 'link_32_flow', 'node_6_demand', 'node_12_demand', 'node_4_demand', 'node_30_pressure', 'node_21_demand', 'node_7_demand', 'link_10_flow', 'node_7_pressure', 'link_20_flow', 'link_13_flow', 'node_25_demand', 'node_24_pressure', 'node_24_demand', 'link_1_flow', 'link_19_flow', 'node_20_pressure', 'link_12_flow', 'link_30_flow', 'link_18_flow', 'node_5_pressure', 'node_19_demand', 'link_24_flow', 'node_4_pressure', 'node_31_demand', 'node_15_pressure', 'node_28_pressure', 'node_29_demand', 'node_10_pressure', 'node_17_pressure', 'node_28_demand', 'node_10_demand', 'node_13_pressure', 'link_5_flow', 'node_31_pressure', 'node_30_demand']]\n",
      "starting df shape: (87600, 32)\n",
      "This is training run 3 and has the shape:  (87600, 32)\n",
      "The value of dropped columns is 65\n"
     ]
    },
    {
     "name": "stderr",
     "output_type": "stream",
     "text": [
      "/Users/alexellard/opt/anaconda3/lib/python3.7/site-packages/xgboost/data.py:96: UserWarning: Use subset (sliced data) of np.ndarray is not recommended because it will generate extra copies and increase memory consumption\n",
      "  \"because it will generate extra copies and increase \" +\n"
     ]
    },
    {
     "name": "stdout",
     "output_type": "stream",
     "text": [
      "test y shape : (17520, 1)\n",
      "Inv y shape : (17520, 32)\n"
     ]
    },
    {
     "name": "stderr",
     "output_type": "stream",
     "text": [
      "/Users/alexellard/opt/anaconda3/lib/python3.7/site-packages/xgboost/data.py:96: UserWarning: Use subset (sliced data) of np.ndarray is not recommended because it will generate extra copies and increase memory consumption\n",
      "  \"because it will generate extra copies and increase \" +\n"
     ]
    },
    {
     "name": "stdout",
     "output_type": "stream",
     "text": [
      "test y shape : (17520, 1)\n",
      "Inv y shape : (17520, 32)\n",
      "y pred shape : (17520, 1)\n",
      "inv y pred : (17520, 32)\n",
      "Run 3 Mean Absolute Error: 9.57510271140325\n",
      "RMSE: 12.921\n",
      "R^2: 1.000\n",
      "[['node_4_pressure', 'link_3_flow', 'link_25_flow', 'node_26_demand', 'node_19_pressure', 'node_30_pressure', 'node_13_pressure', 'link_22_flow', 'node_27_demand', 'link_32_flow', 'node_7_pressure', 'node_9_demand', 'node_20_pressure', 'node_27_pressure', 'link_11_flow', 'reservoir_demand', 'node_2_demand', 'node_22_pressure', 'link_20_flow', 'link_7_flow', 'node_20_demand', 'link_2_flow', 'link_8_flow', 'node_23_pressure', 'node_10_demand', 'node_8_pressure', 'node_11_demand', 'node_28_demand', 'reservoir_pressure', 'link_5_flow', 'link_21_flow', 'node_23_demand', 'node_28_pressure', 'node_9_pressure', 'node_24_pressure', 'node_24_demand', 'node_11_pressure', 'node_10_pressure', 'node_8_demand', 'node_21_demand', 'node_29_demand', 'node_7_demand', 'link_15_flow', 'link_4_flow', 'link_1_flow', 'node_15_pressure', 'node_18_demand', 'link_16_flow', 'link_6_flow', 'node_12_demand', 'node_30_demand', 'node_3_demand', 'node_21_pressure', 'node_25_demand', 'link_28_flow', 'node_17_demand', 'node_2_pressure', 'link_17_flow', 'node_6_pressure', 'node_16_demand', 'node_1_pressure', 'link_23_flow', 'link_10_flow', 'link_29_flow', 'link_12_flow']]\n",
      "starting df shape: (87600, 31)\n",
      "This is training run 4 and has the shape:  (87600, 31)\n",
      "The value of dropped columns is 65\n"
     ]
    },
    {
     "name": "stderr",
     "output_type": "stream",
     "text": [
      "/Users/alexellard/opt/anaconda3/lib/python3.7/site-packages/xgboost/data.py:96: UserWarning: Use subset (sliced data) of np.ndarray is not recommended because it will generate extra copies and increase memory consumption\n",
      "  \"because it will generate extra copies and increase \" +\n"
     ]
    },
    {
     "name": "stdout",
     "output_type": "stream",
     "text": [
      "test y shape : (17520, 1)\n",
      "Inv y shape : (17520, 31)\n"
     ]
    },
    {
     "name": "stderr",
     "output_type": "stream",
     "text": [
      "/Users/alexellard/opt/anaconda3/lib/python3.7/site-packages/xgboost/data.py:96: UserWarning: Use subset (sliced data) of np.ndarray is not recommended because it will generate extra copies and increase memory consumption\n",
      "  \"because it will generate extra copies and increase \" +\n"
     ]
    },
    {
     "name": "stdout",
     "output_type": "stream",
     "text": [
      "test y shape : (17520, 1)\n",
      "Inv y shape : (17520, 31)\n",
      "y pred shape : (17520, 1)\n",
      "inv y pred : (17520, 31)\n",
      "Run 4 Mean Absolute Error: 0.3104985602733701\n",
      "RMSE: 0.420\n",
      "R^2: 1.000\n",
      "[['node_12_pressure', 'reservoir_pressure', 'link_22_flow', 'node_4_pressure', 'node_1_demand', 'link_25_flow', 'node_3_pressure', 'link_6_flow', 'node_10_demand', 'link_1_flow', 'node_19_pressure', 'link_7_flow', 'node_12_demand', 'link_9_flow', 'node_8_demand', 'link_23_flow', 'link_5_flow', 'node_19_demand', 'link_29_flow', 'node_17_pressure', 'link_28_flow', 'node_30_demand', 'link_13_flow', 'link_12_flow', 'node_24_pressure', 'node_11_demand', 'node_23_pressure', 'link_31_flow', 'link_16_flow', 'node_23_demand', 'node_29_demand', 'node_27_pressure', 'node_2_demand', 'node_13_pressure', 'node_5_demand', 'node_21_demand', 'node_6_pressure', 'link_15_flow', 'node_26_demand', 'node_3_demand', 'link_24_flow', 'node_21_pressure', 'link_21_flow', 'node_26_pressure', 'link_8_flow', 'node_18_demand', 'node_6_demand', 'node_15_demand', 'node_7_demand', 'link_4_flow', 'node_18_pressure', 'node_31_pressure', 'node_14_demand', 'node_9_pressure', 'link_2_flow', 'node_25_demand', 'node_9_demand', 'link_26_flow', 'node_1_pressure', 'link_10_flow', 'node_22_pressure', 'node_16_demand', 'link_14_flow', 'link_19_flow']]\n",
      "starting df shape: (87600, 32)\n",
      "This is training run 5 and has the shape:  (87600, 32)\n",
      "The value of dropped columns is 65\n"
     ]
    },
    {
     "name": "stderr",
     "output_type": "stream",
     "text": [
      "/Users/alexellard/opt/anaconda3/lib/python3.7/site-packages/xgboost/data.py:96: UserWarning: Use subset (sliced data) of np.ndarray is not recommended because it will generate extra copies and increase memory consumption\n",
      "  \"because it will generate extra copies and increase \" +\n"
     ]
    },
    {
     "name": "stdout",
     "output_type": "stream",
     "text": [
      "test y shape : (17520, 1)\n",
      "Inv y shape : (17520, 32)\n"
     ]
    },
    {
     "name": "stderr",
     "output_type": "stream",
     "text": [
      "/Users/alexellard/opt/anaconda3/lib/python3.7/site-packages/xgboost/data.py:96: UserWarning: Use subset (sliced data) of np.ndarray is not recommended because it will generate extra copies and increase memory consumption\n",
      "  \"because it will generate extra copies and increase \" +\n"
     ]
    },
    {
     "name": "stdout",
     "output_type": "stream",
     "text": [
      "test y shape : (17520, 1)\n",
      "Inv y shape : (17520, 32)\n",
      "y pred shape : (17520, 1)\n",
      "inv y pred : (17520, 32)\n",
      "Run 5 Mean Absolute Error: 4.035069588399129\n",
      "RMSE: 5.769\n",
      "R^2: 1.000\n",
      "[['node_2_pressure', 'node_3_demand', 'link_28_flow', 'node_13_demand', 'reservoir_pressure', 'node_21_pressure', 'node_10_pressure', 'node_27_pressure', 'node_4_pressure', 'link_13_flow', 'node_28_demand', 'node_16_demand', 'node_9_pressure', 'node_15_demand', 'link_30_flow', 'link_12_flow', 'link_22_flow', 'node_25_demand', 'reservoir_demand', 'link_27_flow', 'node_14_pressure', 'node_24_demand', 'node_19_pressure', 'node_26_pressure', 'node_6_pressure', 'node_20_demand', 'link_6_flow', 'node_15_pressure', 'node_30_demand', 'node_31_demand', 'link_20_flow', 'link_9_flow', 'node_22_pressure', 'node_3_pressure', 'node_11_demand', 'node_20_pressure', 'link_29_flow', 'node_7_demand', 'node_1_demand', 'link_25_flow', 'link_7_flow', 'link_19_flow', 'link_17_flow', 'node_6_demand', 'node_5_demand', 'node_10_demand', 'node_19_demand', 'node_31_pressure', 'link_32_flow', 'node_21_demand', 'link_14_flow', 'link_18_flow', 'node_17_demand', 'node_25_pressure', 'node_4_demand', 'node_22_demand', 'node_18_demand', 'node_2_demand', 'node_11_pressure', 'node_14_demand', 'link_3_flow', 'node_12_pressure', 'link_15_flow', 'node_12_demand']]\n",
      "starting df shape: (87600, 32)\n",
      "This is training run 6 and has the shape:  (87600, 32)\n",
      "The value of dropped columns is 65\n"
     ]
    },
    {
     "name": "stderr",
     "output_type": "stream",
     "text": [
      "/Users/alexellard/opt/anaconda3/lib/python3.7/site-packages/xgboost/data.py:96: UserWarning: Use subset (sliced data) of np.ndarray is not recommended because it will generate extra copies and increase memory consumption\n",
      "  \"because it will generate extra copies and increase \" +\n"
     ]
    },
    {
     "name": "stdout",
     "output_type": "stream",
     "text": [
      "test y shape : (17520, 1)\n",
      "Inv y shape : (17520, 32)\n"
     ]
    },
    {
     "name": "stderr",
     "output_type": "stream",
     "text": [
      "/Users/alexellard/opt/anaconda3/lib/python3.7/site-packages/xgboost/data.py:96: UserWarning: Use subset (sliced data) of np.ndarray is not recommended because it will generate extra copies and increase memory consumption\n",
      "  \"because it will generate extra copies and increase \" +\n"
     ]
    },
    {
     "name": "stdout",
     "output_type": "stream",
     "text": [
      "test y shape : (17520, 1)\n",
      "Inv y shape : (17520, 32)\n",
      "y pred shape : (17520, 1)\n",
      "inv y pred : (17520, 32)\n",
      "Run 6 Mean Absolute Error: 0.10853680665383923\n",
      "RMSE: 0.155\n",
      "R^2: 1.000\n",
      "[['node_18_demand', 'node_16_pressure', 'node_19_pressure', 'node_27_pressure', 'link_29_flow', 'node_7_pressure', 'node_23_pressure', 'link_17_flow', 'node_7_demand', 'link_30_flow', 'link_11_flow', 'node_10_pressure', 'link_4_flow', 'node_26_pressure', 'link_19_flow', 'link_14_flow', 'node_31_pressure', 'node_11_pressure', 'node_23_demand', 'node_20_demand', 'node_14_pressure', 'node_9_pressure', 'node_2_demand', 'link_32_flow', 'node_17_demand', 'node_15_demand', 'node_16_demand', 'link_1_flow', 'link_8_flow', 'node_21_demand', 'link_13_flow', 'link_25_flow', 'node_11_demand', 'node_15_pressure', 'link_31_flow', 'link_28_flow', 'node_5_pressure', 'link_26_flow', 'node_6_demand', 'node_4_pressure', 'node_24_demand', 'node_25_pressure', 'link_12_flow', 'link_3_flow', 'node_25_demand', 'node_13_pressure', 'link_5_flow', 'node_14_demand', 'node_28_pressure', 'node_1_demand', 'node_22_demand', 'node_29_demand', 'link_15_flow', 'node_18_pressure', 'reservoir_pressure', 'node_13_demand', 'node_5_demand', 'node_28_demand', 'link_18_flow', 'link_9_flow', 'link_16_flow', 'node_12_pressure', 'node_10_demand', 'node_27_demand']]\n",
      "starting df shape: (87600, 32)\n",
      "This is training run 7 and has the shape:  (87600, 32)\n",
      "The value of dropped columns is 65\n"
     ]
    },
    {
     "name": "stderr",
     "output_type": "stream",
     "text": [
      "/Users/alexellard/opt/anaconda3/lib/python3.7/site-packages/xgboost/data.py:96: UserWarning: Use subset (sliced data) of np.ndarray is not recommended because it will generate extra copies and increase memory consumption\n",
      "  \"because it will generate extra copies and increase \" +\n"
     ]
    },
    {
     "name": "stdout",
     "output_type": "stream",
     "text": [
      "test y shape : (17520, 1)\n",
      "Inv y shape : (17520, 32)\n"
     ]
    },
    {
     "name": "stderr",
     "output_type": "stream",
     "text": [
      "/Users/alexellard/opt/anaconda3/lib/python3.7/site-packages/xgboost/data.py:96: UserWarning: Use subset (sliced data) of np.ndarray is not recommended because it will generate extra copies and increase memory consumption\n",
      "  \"because it will generate extra copies and increase \" +\n"
     ]
    },
    {
     "name": "stdout",
     "output_type": "stream",
     "text": [
      "test y shape : (17520, 1)\n",
      "Inv y shape : (17520, 32)\n",
      "y pred shape : (17520, 1)\n",
      "inv y pred : (17520, 32)\n",
      "Run 7 Mean Absolute Error: 3.3707935974557914\n",
      "RMSE: 4.785\n",
      "R^2: 1.000\n",
      "[['node_21_pressure', 'link_23_flow', 'node_4_demand', 'link_4_flow', 'node_29_demand', 'link_25_flow', 'node_2_pressure', 'node_28_pressure', 'link_29_flow', 'link_14_flow', 'node_19_demand', 'node_31_demand', 'node_31_pressure', 'node_10_demand', 'node_15_demand', 'node_11_demand', 'node_13_demand', 'link_11_flow', 'node_7_pressure', 'link_16_flow', 'node_23_demand', 'node_12_pressure', 'node_19_pressure', 'node_25_demand', 'node_9_pressure', 'link_32_flow', 'link_6_flow', 'link_13_flow', 'link_31_flow', 'node_1_pressure', 'node_30_pressure', 'link_12_flow', 'node_14_pressure', 'node_20_demand', 'link_17_flow', 'node_10_pressure', 'node_6_demand', 'node_17_demand', 'node_18_pressure', 'node_6_pressure', 'node_11_pressure', 'link_3_flow', 'node_30_demand', 'node_16_demand', 'node_27_pressure', 'link_28_flow', 'link_27_flow', 'link_5_flow', 'link_20_flow', 'link_8_flow', 'node_20_pressure', 'node_26_demand', 'link_21_flow', 'node_17_pressure', 'reservoir_demand', 'node_5_pressure', 'node_23_pressure', 'reservoir_pressure', 'link_24_flow', 'node_22_demand', 'link_15_flow', 'link_18_flow', 'node_12_demand', 'link_22_flow']]\n",
      "starting df shape: (87600, 32)\n",
      "This is training run 8 and has the shape:  (87600, 32)\n",
      "The value of dropped columns is 65\n"
     ]
    },
    {
     "name": "stderr",
     "output_type": "stream",
     "text": [
      "/Users/alexellard/opt/anaconda3/lib/python3.7/site-packages/xgboost/data.py:96: UserWarning: Use subset (sliced data) of np.ndarray is not recommended because it will generate extra copies and increase memory consumption\n",
      "  \"because it will generate extra copies and increase \" +\n"
     ]
    },
    {
     "name": "stdout",
     "output_type": "stream",
     "text": [
      "test y shape : (17520, 1)\n",
      "Inv y shape : (17520, 32)\n"
     ]
    },
    {
     "name": "stderr",
     "output_type": "stream",
     "text": [
      "/Users/alexellard/opt/anaconda3/lib/python3.7/site-packages/xgboost/data.py:96: UserWarning: Use subset (sliced data) of np.ndarray is not recommended because it will generate extra copies and increase memory consumption\n",
      "  \"because it will generate extra copies and increase \" +\n"
     ]
    },
    {
     "name": "stdout",
     "output_type": "stream",
     "text": [
      "test y shape : (17520, 1)\n",
      "Inv y shape : (17520, 32)\n",
      "y pred shape : (17520, 1)\n",
      "inv y pred : (17520, 32)\n",
      "Run 8 Mean Absolute Error: 0.6681860439010918\n",
      "RMSE: 0.930\n",
      "R^2: 1.000\n",
      "[['link_10_flow', 'link_7_flow', 'node_27_demand', 'node_3_pressure', 'node_14_pressure', 'node_7_pressure', 'node_16_demand', 'node_31_pressure', 'node_19_pressure', 'node_8_pressure', 'node_12_demand', 'node_26_demand', 'node_13_pressure', 'node_31_demand', 'link_25_flow', 'link_31_flow', 'node_2_demand', 'link_4_flow', 'node_15_demand', 'node_21_demand', 'link_29_flow', 'link_6_flow', 'node_24_pressure', 'link_14_flow', 'link_28_flow', 'node_14_demand', 'node_22_pressure', 'node_17_demand', 'node_24_demand', 'node_20_demand', 'node_6_demand', 'link_19_flow', 'node_26_pressure', 'link_3_flow', 'link_32_flow', 'link_8_flow', 'node_29_demand', 'node_20_pressure', 'link_17_flow', 'node_25_demand', 'node_19_demand', 'reservoir_demand', 'node_30_demand', 'node_23_demand', 'link_11_flow', 'link_12_flow', 'node_18_demand', 'node_16_pressure', 'node_13_demand', 'link_30_flow', 'link_9_flow', 'node_30_pressure', 'node_15_pressure', 'link_1_flow', 'node_22_demand', 'link_27_flow', 'link_18_flow', 'node_9_pressure', 'node_27_pressure', 'node_21_pressure', 'node_11_demand', 'link_24_flow', 'node_18_pressure', 'node_28_pressure', 'link_23_flow']]\n",
      "starting df shape: (87600, 31)\n",
      "This is training run 9 and has the shape:  (87600, 31)\n",
      "The value of dropped columns is 65\n"
     ]
    },
    {
     "name": "stderr",
     "output_type": "stream",
     "text": [
      "/Users/alexellard/opt/anaconda3/lib/python3.7/site-packages/xgboost/data.py:96: UserWarning: Use subset (sliced data) of np.ndarray is not recommended because it will generate extra copies and increase memory consumption\n",
      "  \"because it will generate extra copies and increase \" +\n"
     ]
    },
    {
     "name": "stdout",
     "output_type": "stream",
     "text": [
      "test y shape : (17520, 1)\n",
      "Inv y shape : (17520, 31)\n"
     ]
    },
    {
     "name": "stderr",
     "output_type": "stream",
     "text": [
      "/Users/alexellard/opt/anaconda3/lib/python3.7/site-packages/xgboost/data.py:96: UserWarning: Use subset (sliced data) of np.ndarray is not recommended because it will generate extra copies and increase memory consumption\n",
      "  \"because it will generate extra copies and increase \" +\n"
     ]
    },
    {
     "name": "stdout",
     "output_type": "stream",
     "text": [
      "test y shape : (17520, 1)\n",
      "Inv y shape : (17520, 31)\n",
      "y pred shape : (17520, 1)\n",
      "inv y pred : (17520, 31)\n",
      "Run 9 Mean Absolute Error: 0.7000510355042887\n",
      "RMSE: 0.976\n",
      "R^2: 1.000\n",
      "[['link_8_flow', 'node_25_pressure', 'link_24_flow', 'node_6_pressure', 'node_10_demand', 'node_27_pressure', 'link_12_flow', 'node_6_demand', 'node_26_pressure', 'node_18_demand', 'link_3_flow', 'node_14_demand', 'node_4_pressure', 'node_27_demand', 'link_22_flow', 'link_14_flow', 'link_32_flow', 'node_3_pressure', 'link_17_flow', 'node_1_pressure', 'node_14_pressure', 'node_15_pressure', 'node_1_demand', 'node_8_pressure', 'node_2_demand', 'node_24_demand', 'link_27_flow', 'node_13_pressure', 'node_7_demand', 'node_9_demand', 'node_9_pressure', 'node_11_demand', 'node_31_pressure', 'node_19_pressure', 'link_7_flow', 'node_24_pressure', 'node_17_demand', 'link_13_flow', 'node_23_demand', 'node_30_pressure', 'node_28_pressure', 'link_16_flow', 'node_22_demand', 'node_21_demand', 'node_26_demand', 'reservoir_pressure', 'link_18_flow', 'link_29_flow', 'node_20_pressure', 'node_20_demand', 'link_15_flow', 'node_5_demand', 'node_3_demand', 'link_5_flow', 'link_25_flow', 'node_12_demand', 'link_2_flow', 'node_31_demand', 'link_11_flow', 'node_4_demand', 'node_5_pressure', 'node_22_pressure', 'link_10_flow', 'node_25_demand']]\n",
      "starting df shape: (87600, 32)\n",
      "This is training run 10 and has the shape:  (87600, 32)\n",
      "The value of dropped columns is 65\n"
     ]
    },
    {
     "name": "stderr",
     "output_type": "stream",
     "text": [
      "/Users/alexellard/opt/anaconda3/lib/python3.7/site-packages/xgboost/data.py:96: UserWarning: Use subset (sliced data) of np.ndarray is not recommended because it will generate extra copies and increase memory consumption\n",
      "  \"because it will generate extra copies and increase \" +\n"
     ]
    },
    {
     "name": "stdout",
     "output_type": "stream",
     "text": [
      "test y shape : (17520, 1)\n",
      "Inv y shape : (17520, 32)\n"
     ]
    },
    {
     "name": "stderr",
     "output_type": "stream",
     "text": [
      "/Users/alexellard/opt/anaconda3/lib/python3.7/site-packages/xgboost/data.py:96: UserWarning: Use subset (sliced data) of np.ndarray is not recommended because it will generate extra copies and increase memory consumption\n",
      "  \"because it will generate extra copies and increase \" +\n"
     ]
    },
    {
     "name": "stdout",
     "output_type": "stream",
     "text": [
      "test y shape : (17520, 1)\n",
      "Inv y shape : (17520, 32)\n",
      "y pred shape : (17520, 1)\n",
      "inv y pred : (17520, 32)\n",
      "Run 10 Mean Absolute Error: 9.504587122415835\n",
      "RMSE: 12.821\n",
      "R^2: 1.000\n",
      "[['link_18_flow', 'link_27_flow', 'node_26_pressure', 'node_30_demand', 'link_7_flow', 'link_13_flow', 'node_18_pressure', 'link_17_flow', 'node_25_pressure', 'link_11_flow', 'link_19_flow', 'node_15_pressure', 'node_22_pressure', 'link_14_flow', 'node_29_demand', 'node_11_pressure', 'node_8_pressure', 'node_21_pressure', 'node_30_pressure', 'node_3_demand', 'node_19_pressure', 'node_27_pressure', 'link_3_flow', 'link_22_flow', 'node_31_demand', 'node_3_pressure', 'node_24_pressure', 'node_13_demand', 'node_23_pressure', 'node_5_demand', 'link_28_flow', 'node_18_demand', 'link_2_flow', 'node_4_pressure', 'link_10_flow', 'reservoir_demand', 'link_26_flow', 'node_14_pressure', 'node_22_demand', 'node_28_demand', 'node_2_pressure', 'link_25_flow', 'node_1_demand', 'node_5_pressure', 'node_20_demand', 'link_4_flow', 'node_10_demand', 'node_19_demand', 'node_16_pressure', 'node_2_demand', 'node_15_demand', 'node_12_demand', 'node_31_pressure', 'node_7_demand', 'node_10_pressure', 'link_12_flow', 'reservoir_pressure', 'link_31_flow', 'link_21_flow', 'link_29_flow', 'node_4_demand', 'node_26_demand', 'link_8_flow', 'node_9_pressure', 'link_15_flow', 'node_17_demand', 'node_20_pressure', 'node_17_pressure', 'node_9_demand']]\n",
      "starting df shape: (87600, 27)\n",
      "This is training run 1 and has the shape:  (87600, 27)\n",
      "The value of dropped columns is 70\n"
     ]
    },
    {
     "name": "stderr",
     "output_type": "stream",
     "text": [
      "/Users/alexellard/opt/anaconda3/lib/python3.7/site-packages/xgboost/data.py:96: UserWarning: Use subset (sliced data) of np.ndarray is not recommended because it will generate extra copies and increase memory consumption\n",
      "  \"because it will generate extra copies and increase \" +\n"
     ]
    },
    {
     "name": "stdout",
     "output_type": "stream",
     "text": [
      "test y shape : (17520, 1)\n",
      "Inv y shape : (17520, 27)\n"
     ]
    },
    {
     "name": "stderr",
     "output_type": "stream",
     "text": [
      "/Users/alexellard/opt/anaconda3/lib/python3.7/site-packages/xgboost/data.py:96: UserWarning: Use subset (sliced data) of np.ndarray is not recommended because it will generate extra copies and increase memory consumption\n",
      "  \"because it will generate extra copies and increase \" +\n"
     ]
    },
    {
     "name": "stdout",
     "output_type": "stream",
     "text": [
      "test y shape : (17520, 1)\n",
      "Inv y shape : (17520, 27)\n",
      "y pred shape : (17520, 1)\n",
      "inv y pred : (17520, 27)\n",
      "Run 1 Mean Absolute Error: 0.5369694233801459\n",
      "RMSE: 0.789\n",
      "R^2: 1.000\n",
      "[['node_26_demand', 'node_4_pressure', 'node_8_demand', 'link_3_flow', 'link_12_flow', 'node_17_demand', 'node_8_pressure', 'node_7_demand', 'node_25_pressure', 'link_1_flow', 'node_19_demand', 'node_3_pressure', 'node_18_pressure', 'node_11_pressure', 'reservoir_pressure', 'node_12_pressure', 'node_27_pressure', 'link_8_flow', 'node_16_demand', 'node_26_pressure', 'node_31_demand', 'node_2_pressure', 'node_20_pressure', 'link_23_flow', 'link_28_flow', 'node_14_pressure', 'node_2_demand', 'reservoir_demand', 'link_14_flow', 'node_10_pressure', 'link_29_flow', 'link_2_flow', 'node_25_demand', 'node_5_demand', 'node_28_demand', 'link_18_flow', 'node_21_demand', 'node_30_demand', 'node_4_demand', 'node_29_demand', 'link_30_flow', 'node_14_demand', 'node_3_demand', 'node_23_pressure', 'link_27_flow', 'node_12_demand', 'node_15_pressure', 'node_27_demand', 'node_31_pressure', 'node_22_pressure', 'link_10_flow', 'node_13_pressure', 'link_16_flow', 'link_20_flow', 'node_23_demand', 'link_15_flow', 'node_16_pressure', 'link_6_flow', 'node_6_demand', 'node_13_demand', 'node_9_pressure', 'link_32_flow', 'node_21_pressure', 'link_5_flow', 'node_28_pressure', 'link_21_flow', 'node_24_demand', 'node_30_pressure', 'node_24_pressure']]\n",
      "starting df shape: (87600, 27)\n",
      "This is training run 2 and has the shape:  (87600, 27)\n",
      "The value of dropped columns is 70\n"
     ]
    },
    {
     "name": "stderr",
     "output_type": "stream",
     "text": [
      "/Users/alexellard/opt/anaconda3/lib/python3.7/site-packages/xgboost/data.py:96: UserWarning: Use subset (sliced data) of np.ndarray is not recommended because it will generate extra copies and increase memory consumption\n",
      "  \"because it will generate extra copies and increase \" +\n"
     ]
    },
    {
     "name": "stdout",
     "output_type": "stream",
     "text": [
      "test y shape : (17520, 1)\n",
      "Inv y shape : (17520, 27)\n"
     ]
    },
    {
     "name": "stderr",
     "output_type": "stream",
     "text": [
      "/Users/alexellard/opt/anaconda3/lib/python3.7/site-packages/xgboost/data.py:96: UserWarning: Use subset (sliced data) of np.ndarray is not recommended because it will generate extra copies and increase memory consumption\n",
      "  \"because it will generate extra copies and increase \" +\n"
     ]
    },
    {
     "name": "stdout",
     "output_type": "stream",
     "text": [
      "test y shape : (17520, 1)\n",
      "Inv y shape : (17520, 27)\n",
      "y pred shape : (17520, 1)\n",
      "inv y pred : (17520, 27)\n",
      "Run 2 Mean Absolute Error: 0.8872093133746899\n",
      "RMSE: 1.189\n",
      "R^2: 1.000\n",
      "[['node_12_demand', 'link_3_flow', 'link_8_flow', 'link_28_flow', 'node_13_demand', 'link_23_flow', 'node_24_pressure', 'node_11_demand', 'link_31_flow', 'link_11_flow', 'node_23_demand', 'node_15_demand', 'node_6_pressure', 'link_24_flow', 'link_9_flow', 'node_17_demand', 'node_5_pressure', 'link_15_flow', 'node_8_demand', 'node_16_pressure', 'node_10_pressure', 'node_4_demand', 'link_21_flow', 'node_2_pressure', 'node_20_demand', 'link_17_flow', 'link_12_flow', 'node_18_demand', 'node_7_pressure', 'node_6_demand', 'node_3_demand', 'link_16_flow', 'link_10_flow', 'link_19_flow', 'node_30_pressure', 'link_2_flow', 'node_31_pressure', 'node_1_pressure', 'link_18_flow', 'link_25_flow', 'link_5_flow', 'node_19_demand', 'node_20_pressure', 'link_26_flow', 'node_7_demand', 'node_19_pressure', 'node_27_pressure', 'node_26_pressure', 'node_9_pressure', 'link_4_flow', 'node_30_demand', 'link_32_flow', 'link_20_flow', 'node_3_pressure', 'node_28_demand', 'reservoir_demand', 'node_8_pressure', 'node_28_pressure', 'node_24_demand', 'node_22_pressure', 'link_14_flow', 'node_18_pressure', 'node_21_pressure', 'link_6_flow', 'link_22_flow', 'node_10_demand', 'node_25_pressure', 'node_12_pressure', 'node_16_demand']]\n",
      "starting df shape: (87600, 27)\n",
      "This is training run 3 and has the shape:  (87600, 27)\n",
      "The value of dropped columns is 70\n"
     ]
    },
    {
     "name": "stderr",
     "output_type": "stream",
     "text": [
      "/Users/alexellard/opt/anaconda3/lib/python3.7/site-packages/xgboost/data.py:96: UserWarning: Use subset (sliced data) of np.ndarray is not recommended because it will generate extra copies and increase memory consumption\n",
      "  \"because it will generate extra copies and increase \" +\n"
     ]
    },
    {
     "name": "stdout",
     "output_type": "stream",
     "text": [
      "test y shape : (17520, 1)\n",
      "Inv y shape : (17520, 27)\n"
     ]
    },
    {
     "name": "stderr",
     "output_type": "stream",
     "text": [
      "/Users/alexellard/opt/anaconda3/lib/python3.7/site-packages/xgboost/data.py:96: UserWarning: Use subset (sliced data) of np.ndarray is not recommended because it will generate extra copies and increase memory consumption\n",
      "  \"because it will generate extra copies and increase \" +\n"
     ]
    },
    {
     "name": "stdout",
     "output_type": "stream",
     "text": [
      "test y shape : (17520, 1)\n",
      "Inv y shape : (17520, 27)\n",
      "y pred shape : (17520, 1)\n",
      "inv y pred : (17520, 27)\n",
      "Run 3 Mean Absolute Error: 0.6328557140838927\n",
      "RMSE: 0.857\n",
      "R^2: 1.000\n",
      "[['link_1_flow', 'node_7_pressure', 'node_21_pressure', 'node_26_demand', 'link_26_flow', 'link_22_flow', 'link_17_flow', 'node_24_pressure', 'link_32_flow', 'node_5_pressure', 'node_17_demand', 'link_25_flow', 'node_4_pressure', 'node_27_demand', 'node_28_demand', 'link_15_flow', 'link_13_flow', 'node_10_demand', 'node_6_pressure', 'node_9_demand', 'link_10_flow', 'node_30_pressure', 'link_4_flow', 'link_7_flow', 'node_25_demand', 'node_22_demand', 'node_7_demand', 'node_22_pressure', 'node_1_pressure', 'link_6_flow', 'node_3_pressure', 'link_12_flow', 'node_16_demand', 'node_20_demand', 'node_28_pressure', 'node_8_pressure', 'node_8_demand', 'reservoir_demand', 'node_18_demand', 'node_25_pressure', 'link_5_flow', 'link_11_flow', 'node_14_pressure', 'node_21_demand', 'node_13_demand', 'link_14_flow', 'node_23_demand', 'node_14_demand', 'link_9_flow', 'node_30_demand', 'link_19_flow', 'link_16_flow', 'node_23_pressure', 'link_31_flow', 'node_15_demand', 'node_31_demand', 'node_1_demand', 'node_4_demand', 'node_9_pressure', 'node_6_demand', 'link_29_flow', 'reservoir_pressure', 'node_11_pressure', 'link_2_flow', 'node_3_demand', 'link_20_flow', 'node_27_pressure', 'node_2_pressure', 'node_2_demand']]\n",
      "starting df shape: (87600, 27)\n",
      "This is training run 4 and has the shape:  (87600, 27)\n",
      "The value of dropped columns is 70\n"
     ]
    },
    {
     "name": "stderr",
     "output_type": "stream",
     "text": [
      "/Users/alexellard/opt/anaconda3/lib/python3.7/site-packages/xgboost/data.py:96: UserWarning: Use subset (sliced data) of np.ndarray is not recommended because it will generate extra copies and increase memory consumption\n",
      "  \"because it will generate extra copies and increase \" +\n"
     ]
    },
    {
     "name": "stdout",
     "output_type": "stream",
     "text": [
      "test y shape : (17520, 1)\n",
      "Inv y shape : (17520, 27)\n"
     ]
    },
    {
     "name": "stderr",
     "output_type": "stream",
     "text": [
      "/Users/alexellard/opt/anaconda3/lib/python3.7/site-packages/xgboost/data.py:96: UserWarning: Use subset (sliced data) of np.ndarray is not recommended because it will generate extra copies and increase memory consumption\n",
      "  \"because it will generate extra copies and increase \" +\n"
     ]
    },
    {
     "name": "stdout",
     "output_type": "stream",
     "text": [
      "test y shape : (17520, 1)\n",
      "Inv y shape : (17520, 27)\n",
      "y pred shape : (17520, 1)\n",
      "inv y pred : (17520, 27)\n",
      "Run 4 Mean Absolute Error: 0.3264227126751986\n",
      "RMSE: 0.436\n",
      "R^2: 1.000\n",
      "[['node_7_pressure', 'node_5_pressure', 'node_21_demand', 'link_27_flow', 'node_30_demand', 'node_16_pressure', 'link_2_flow', 'node_4_pressure', 'link_20_flow', 'node_22_demand', 'link_23_flow', 'node_29_demand', 'node_13_demand', 'node_9_demand', 'node_19_demand', 'node_19_pressure', 'node_6_pressure', 'node_8_demand', 'link_14_flow', 'node_6_demand', 'node_14_demand', 'node_10_pressure', 'node_3_pressure', 'node_31_demand', 'node_3_demand', 'node_26_pressure', 'node_16_demand', 'node_26_demand', 'link_22_flow', 'link_13_flow', 'node_8_pressure', 'node_18_demand', 'node_25_pressure', 'link_1_flow', 'link_21_flow', 'link_18_flow', 'node_13_pressure', 'reservoir_pressure', 'link_8_flow', 'node_2_pressure', 'node_25_demand', 'link_9_flow', 'link_32_flow', 'node_11_demand', 'node_1_pressure', 'link_4_flow', 'node_21_pressure', 'node_2_demand', 'link_3_flow', 'node_12_demand', 'reservoir_demand', 'node_27_pressure', 'link_25_flow', 'node_14_pressure', 'link_24_flow', 'link_10_flow', 'node_15_pressure', 'node_28_pressure', 'node_11_pressure', 'node_1_demand', 'link_31_flow', 'node_15_demand', 'link_28_flow', 'node_23_demand', 'node_7_demand', 'node_27_demand', 'link_6_flow', 'node_9_pressure', 'link_11_flow']]\n",
      "starting df shape: (87600, 27)\n",
      "This is training run 5 and has the shape:  (87600, 27)\n",
      "The value of dropped columns is 70\n"
     ]
    },
    {
     "name": "stderr",
     "output_type": "stream",
     "text": [
      "/Users/alexellard/opt/anaconda3/lib/python3.7/site-packages/xgboost/data.py:96: UserWarning: Use subset (sliced data) of np.ndarray is not recommended because it will generate extra copies and increase memory consumption\n",
      "  \"because it will generate extra copies and increase \" +\n"
     ]
    },
    {
     "name": "stdout",
     "output_type": "stream",
     "text": [
      "test y shape : (17520, 1)\n",
      "Inv y shape : (17520, 27)\n"
     ]
    },
    {
     "name": "stderr",
     "output_type": "stream",
     "text": [
      "/Users/alexellard/opt/anaconda3/lib/python3.7/site-packages/xgboost/data.py:96: UserWarning: Use subset (sliced data) of np.ndarray is not recommended because it will generate extra copies and increase memory consumption\n",
      "  \"because it will generate extra copies and increase \" +\n"
     ]
    },
    {
     "name": "stdout",
     "output_type": "stream",
     "text": [
      "test y shape : (17520, 1)\n",
      "Inv y shape : (17520, 27)\n",
      "y pred shape : (17520, 1)\n",
      "inv y pred : (17520, 27)\n",
      "Run 5 Mean Absolute Error: 0.14592658921905777\n",
      "RMSE: 0.206\n",
      "R^2: 1.000\n",
      "[['node_30_pressure', 'node_14_pressure', 'node_28_pressure', 'node_20_pressure', 'link_8_flow', 'link_19_flow', 'node_26_pressure', 'node_10_demand', 'node_18_pressure', 'node_12_pressure', 'node_27_pressure', 'node_12_demand', 'link_11_flow', 'node_15_pressure', 'node_13_pressure', 'link_13_flow', 'link_21_flow', 'link_26_flow', 'node_24_demand', 'node_14_demand', 'link_30_flow', 'node_17_pressure', 'node_22_demand', 'node_21_demand', 'node_23_demand', 'link_7_flow', 'link_6_flow', 'node_11_demand', 'link_20_flow', 'node_29_demand', 'link_1_flow', 'node_4_demand', 'link_28_flow', 'node_2_demand', 'node_4_pressure', 'link_10_flow', 'node_9_demand', 'node_3_pressure', 'node_7_demand', 'link_25_flow', 'node_19_pressure', 'link_4_flow', 'link_16_flow', 'node_5_demand', 'node_21_pressure', 'node_23_pressure', 'link_27_flow', 'node_27_demand', 'link_2_flow', 'reservoir_demand', 'node_7_pressure', 'node_5_pressure', 'node_8_pressure', 'link_29_flow', 'link_18_flow', 'link_9_flow', 'link_3_flow', 'node_2_pressure', 'node_10_pressure', 'node_31_demand', 'node_3_demand', 'link_24_flow', 'node_13_demand', 'link_31_flow', 'reservoir_pressure', 'node_22_pressure', 'node_8_demand', 'node_11_pressure', 'node_20_demand']]\n",
      "starting df shape: (87600, 27)\n",
      "This is training run 6 and has the shape:  (87600, 27)\n",
      "The value of dropped columns is 70\n"
     ]
    },
    {
     "name": "stderr",
     "output_type": "stream",
     "text": [
      "/Users/alexellard/opt/anaconda3/lib/python3.7/site-packages/xgboost/data.py:96: UserWarning: Use subset (sliced data) of np.ndarray is not recommended because it will generate extra copies and increase memory consumption\n",
      "  \"because it will generate extra copies and increase \" +\n"
     ]
    },
    {
     "name": "stdout",
     "output_type": "stream",
     "text": [
      "test y shape : (17520, 1)\n",
      "Inv y shape : (17520, 27)\n"
     ]
    },
    {
     "name": "stderr",
     "output_type": "stream",
     "text": [
      "/Users/alexellard/opt/anaconda3/lib/python3.7/site-packages/xgboost/data.py:96: UserWarning: Use subset (sliced data) of np.ndarray is not recommended because it will generate extra copies and increase memory consumption\n",
      "  \"because it will generate extra copies and increase \" +\n"
     ]
    },
    {
     "name": "stdout",
     "output_type": "stream",
     "text": [
      "test y shape : (17520, 1)\n",
      "Inv y shape : (17520, 27)\n",
      "y pred shape : (17520, 1)\n",
      "inv y pred : (17520, 27)\n",
      "Run 6 Mean Absolute Error: 0.3343013889544066\n",
      "RMSE: 0.453\n",
      "R^2: 1.000\n",
      "[['link_21_flow', 'node_10_pressure', 'node_23_pressure', 'link_14_flow', 'node_23_demand', 'node_8_demand', 'node_1_pressure', 'node_11_demand', 'node_4_demand', 'node_20_pressure', 'node_9_pressure', 'node_12_pressure', 'node_2_demand', 'link_3_flow', 'link_5_flow', 'link_32_flow', 'link_8_flow', 'node_13_pressure', 'node_25_demand', 'link_22_flow', 'node_10_demand', 'link_15_flow', 'link_29_flow', 'node_3_pressure', 'link_25_flow', 'link_2_flow', 'link_20_flow', 'node_14_demand', 'node_26_pressure', 'node_7_pressure', 'link_31_flow', 'node_15_demand', 'link_28_flow', 'node_25_pressure', 'node_8_pressure', 'node_17_pressure', 'link_24_flow', 'link_19_flow', 'link_13_flow', 'node_24_demand', 'node_5_pressure', 'link_18_flow', 'node_11_pressure', 'node_5_demand', 'link_27_flow', 'node_27_demand', 'node_18_pressure', 'node_16_pressure', 'node_31_pressure', 'node_22_demand', 'link_16_flow', 'link_12_flow', 'reservoir_demand', 'node_26_demand', 'link_11_flow', 'link_4_flow', 'node_18_demand', 'link_23_flow', 'link_9_flow', 'reservoir_pressure', 'node_6_pressure', 'node_15_pressure', 'node_30_demand', 'node_29_demand', 'link_6_flow', 'link_7_flow', 'node_21_demand', 'link_1_flow', 'link_10_flow']]\n",
      "starting df shape: (87600, 27)\n",
      "This is training run 7 and has the shape:  (87600, 27)\n",
      "The value of dropped columns is 70\n"
     ]
    },
    {
     "name": "stderr",
     "output_type": "stream",
     "text": [
      "/Users/alexellard/opt/anaconda3/lib/python3.7/site-packages/xgboost/data.py:96: UserWarning: Use subset (sliced data) of np.ndarray is not recommended because it will generate extra copies and increase memory consumption\n",
      "  \"because it will generate extra copies and increase \" +\n"
     ]
    },
    {
     "name": "stdout",
     "output_type": "stream",
     "text": [
      "test y shape : (17520, 1)\n",
      "Inv y shape : (17520, 27)\n"
     ]
    },
    {
     "name": "stderr",
     "output_type": "stream",
     "text": [
      "/Users/alexellard/opt/anaconda3/lib/python3.7/site-packages/xgboost/data.py:96: UserWarning: Use subset (sliced data) of np.ndarray is not recommended because it will generate extra copies and increase memory consumption\n",
      "  \"because it will generate extra copies and increase \" +\n"
     ]
    },
    {
     "name": "stdout",
     "output_type": "stream",
     "text": [
      "test y shape : (17520, 1)\n",
      "Inv y shape : (17520, 27)\n",
      "y pred shape : (17520, 1)\n",
      "inv y pred : (17520, 27)\n",
      "Run 7 Mean Absolute Error: 0.2737204752765488\n",
      "RMSE: 0.388\n",
      "R^2: 1.000\n",
      "[['link_8_flow', 'node_6_demand', 'link_3_flow', 'link_14_flow', 'node_13_demand', 'link_6_flow', 'node_6_pressure', 'link_29_flow', 'link_4_flow', 'node_7_demand', 'node_3_demand', 'node_27_pressure', 'node_4_pressure', 'node_19_pressure', 'link_7_flow', 'node_12_demand', 'link_13_flow', 'node_21_demand', 'node_28_demand', 'link_17_flow', 'node_5_demand', 'node_9_pressure', 'node_26_pressure', 'node_30_demand', 'node_22_pressure', 'node_20_pressure', 'node_5_pressure', 'node_26_demand', 'node_8_pressure', 'link_24_flow', 'node_27_demand', 'reservoir_pressure', 'node_7_pressure', 'link_19_flow', 'node_14_demand', 'node_11_demand', 'node_23_demand', 'node_4_demand', 'link_10_flow', 'node_14_pressure', 'node_11_pressure', 'link_5_flow', 'link_32_flow', 'node_29_demand', 'link_30_flow', 'link_23_flow', 'link_12_flow', 'node_25_pressure', 'node_15_demand', 'node_16_pressure', 'node_2_pressure', 'node_18_demand', 'node_2_demand', 'node_22_demand', 'reservoir_demand', 'node_12_pressure', 'link_16_flow', 'node_16_demand', 'link_18_flow', 'node_31_demand', 'node_24_pressure', 'link_11_flow', 'link_20_flow', 'node_1_pressure', 'node_10_pressure', 'link_26_flow', 'node_21_pressure', 'link_9_flow', 'node_20_demand']]\n",
      "starting df shape: (87600, 27)\n",
      "This is training run 8 and has the shape:  (87600, 27)\n",
      "The value of dropped columns is 70\n"
     ]
    },
    {
     "name": "stderr",
     "output_type": "stream",
     "text": [
      "/Users/alexellard/opt/anaconda3/lib/python3.7/site-packages/xgboost/data.py:96: UserWarning: Use subset (sliced data) of np.ndarray is not recommended because it will generate extra copies and increase memory consumption\n",
      "  \"because it will generate extra copies and increase \" +\n"
     ]
    },
    {
     "name": "stdout",
     "output_type": "stream",
     "text": [
      "test y shape : (17520, 1)\n",
      "Inv y shape : (17520, 27)\n"
     ]
    },
    {
     "name": "stderr",
     "output_type": "stream",
     "text": [
      "/Users/alexellard/opt/anaconda3/lib/python3.7/site-packages/xgboost/data.py:96: UserWarning: Use subset (sliced data) of np.ndarray is not recommended because it will generate extra copies and increase memory consumption\n",
      "  \"because it will generate extra copies and increase \" +\n"
     ]
    },
    {
     "name": "stdout",
     "output_type": "stream",
     "text": [
      "test y shape : (17520, 1)\n",
      "Inv y shape : (17520, 27)\n",
      "y pred shape : (17520, 1)\n",
      "inv y pred : (17520, 27)\n",
      "Run 8 Mean Absolute Error: 0.1792759995343532\n",
      "RMSE: 0.255\n",
      "R^2: 1.000\n",
      "[['link_20_flow', 'node_25_pressure', 'node_21_pressure', 'node_2_demand', 'node_30_pressure', 'link_12_flow', 'link_32_flow', 'node_14_pressure', 'link_2_flow', 'node_10_pressure', 'node_24_demand', 'node_6_pressure', 'reservoir_demand', 'node_5_pressure', 'node_3_demand', 'node_22_pressure', 'link_27_flow', 'link_17_flow', 'link_15_flow', 'node_12_demand', 'node_20_pressure', 'node_30_demand', 'node_8_demand', 'node_31_pressure', 'node_6_demand', 'link_25_flow', 'node_26_pressure', 'node_15_pressure', 'node_1_demand', 'node_5_demand', 'node_28_demand', 'node_11_demand', 'node_25_demand', 'link_19_flow', 'link_5_flow', 'link_8_flow', 'link_6_flow', 'node_14_demand', 'node_7_pressure', 'reservoir_pressure', 'node_12_pressure', 'node_27_pressure', 'link_24_flow', 'link_4_flow', 'node_17_pressure', 'link_31_flow', 'node_17_demand', 'node_9_pressure', 'node_22_demand', 'node_13_pressure', 'node_3_pressure', 'node_23_pressure', 'node_16_demand', 'node_18_demand', 'node_18_pressure', 'link_1_flow', 'node_8_pressure', 'link_30_flow', 'link_26_flow', 'node_27_demand', 'node_19_demand', 'link_29_flow', 'link_7_flow', 'link_22_flow', 'node_21_demand', 'node_23_demand', 'node_20_demand', 'node_4_demand', 'link_13_flow']]\n",
      "starting df shape: (87600, 27)\n",
      "This is training run 9 and has the shape:  (87600, 27)\n",
      "The value of dropped columns is 70\n"
     ]
    },
    {
     "name": "stderr",
     "output_type": "stream",
     "text": [
      "/Users/alexellard/opt/anaconda3/lib/python3.7/site-packages/xgboost/data.py:96: UserWarning: Use subset (sliced data) of np.ndarray is not recommended because it will generate extra copies and increase memory consumption\n",
      "  \"because it will generate extra copies and increase \" +\n"
     ]
    },
    {
     "name": "stdout",
     "output_type": "stream",
     "text": [
      "test y shape : (17520, 1)\n",
      "Inv y shape : (17520, 27)\n"
     ]
    },
    {
     "name": "stderr",
     "output_type": "stream",
     "text": [
      "/Users/alexellard/opt/anaconda3/lib/python3.7/site-packages/xgboost/data.py:96: UserWarning: Use subset (sliced data) of np.ndarray is not recommended because it will generate extra copies and increase memory consumption\n",
      "  \"because it will generate extra copies and increase \" +\n"
     ]
    },
    {
     "name": "stdout",
     "output_type": "stream",
     "text": [
      "test y shape : (17520, 1)\n",
      "Inv y shape : (17520, 27)\n",
      "y pred shape : (17520, 1)\n",
      "inv y pred : (17520, 27)\n",
      "Run 9 Mean Absolute Error: 0.17804262070688498\n",
      "RMSE: 0.260\n",
      "R^2: 1.000\n",
      "[['link_28_flow', 'link_19_flow', 'link_17_flow', 'node_19_demand', 'node_3_pressure', 'node_6_demand', 'node_27_demand', 'node_21_pressure', 'node_15_pressure', 'node_25_demand', 'node_7_demand', 'node_23_pressure', 'node_5_demand', 'node_21_demand', 'link_31_flow', 'node_16_pressure', 'node_30_demand', 'node_31_demand', 'node_4_demand', 'node_17_demand', 'node_10_pressure', 'node_11_pressure', 'link_16_flow', 'node_28_pressure', 'link_32_flow', 'node_20_demand', 'link_2_flow', 'link_29_flow', 'link_23_flow', 'node_10_demand', 'link_12_flow', 'link_25_flow', 'node_16_demand', 'link_22_flow', 'link_4_flow', 'node_20_pressure', 'node_13_demand', 'node_8_pressure', 'link_26_flow', 'link_9_flow', 'node_1_demand', 'node_15_demand', 'node_11_demand', 'link_18_flow', 'link_3_flow', 'link_27_flow', 'node_26_demand', 'node_19_pressure', 'link_8_flow', 'link_5_flow', 'node_24_demand', 'node_8_demand', 'node_22_pressure', 'link_7_flow', 'node_31_pressure', 'node_1_pressure', 'node_12_demand', 'node_14_pressure', 'link_30_flow', 'node_6_pressure', 'node_28_demand', 'node_30_pressure', 'link_10_flow', 'node_9_demand', 'link_14_flow', 'node_3_demand', 'node_22_demand', 'node_17_pressure', 'reservoir_demand']]\n",
      "starting df shape: (87600, 27)\n",
      "This is training run 10 and has the shape:  (87600, 27)\n",
      "The value of dropped columns is 70\n"
     ]
    },
    {
     "name": "stderr",
     "output_type": "stream",
     "text": [
      "/Users/alexellard/opt/anaconda3/lib/python3.7/site-packages/xgboost/data.py:96: UserWarning: Use subset (sliced data) of np.ndarray is not recommended because it will generate extra copies and increase memory consumption\n",
      "  \"because it will generate extra copies and increase \" +\n"
     ]
    },
    {
     "name": "stdout",
     "output_type": "stream",
     "text": [
      "test y shape : (17520, 1)\n",
      "Inv y shape : (17520, 27)\n"
     ]
    },
    {
     "name": "stderr",
     "output_type": "stream",
     "text": [
      "/Users/alexellard/opt/anaconda3/lib/python3.7/site-packages/xgboost/data.py:96: UserWarning: Use subset (sliced data) of np.ndarray is not recommended because it will generate extra copies and increase memory consumption\n",
      "  \"because it will generate extra copies and increase \" +\n"
     ]
    },
    {
     "name": "stdout",
     "output_type": "stream",
     "text": [
      "test y shape : (17520, 1)\n",
      "Inv y shape : (17520, 27)\n",
      "y pred shape : (17520, 1)\n",
      "inv y pred : (17520, 27)\n",
      "Run 10 Mean Absolute Error: 0.5051344490152014\n",
      "RMSE: 0.710\n",
      "R^2: 1.000\n",
      "[['link_5_flow', 'node_31_pressure', 'link_8_flow', 'node_3_demand', 'link_13_flow', 'node_18_pressure', 'node_17_pressure', 'node_14_pressure', 'link_28_flow', 'link_4_flow', 'node_29_demand', 'link_22_flow', 'node_28_demand', 'node_26_pressure', 'node_5_pressure', 'node_1_demand', 'link_30_flow', 'link_3_flow', 'node_15_demand', 'link_32_flow', 'link_11_flow', 'node_10_demand', 'link_31_flow', 'node_15_pressure', 'node_10_pressure', 'link_19_flow', 'link_27_flow', 'node_19_demand', 'node_19_pressure', 'node_31_demand', 'link_15_flow', 'link_23_flow', 'link_9_flow', 'node_11_pressure', 'node_12_demand', 'node_16_pressure', 'node_21_demand', 'node_13_demand', 'node_6_demand', 'node_22_pressure', 'node_2_pressure', 'node_16_demand', 'node_30_pressure', 'node_13_pressure', 'node_17_demand', 'node_30_demand', 'node_27_demand', 'node_1_pressure', 'node_21_pressure', 'node_18_demand', 'link_7_flow', 'link_14_flow', 'link_17_flow', 'node_7_demand', 'link_2_flow', 'link_1_flow', 'node_25_pressure', 'node_9_demand', 'node_14_demand', 'link_26_flow', 'reservoir_demand', 'node_8_demand', 'link_29_flow', 'node_23_demand', 'link_24_flow', 'reservoir_pressure', 'node_2_demand', 'link_20_flow', 'node_7_pressure', 'link_18_flow', 'node_5_demand', 'node_11_demand', 'node_4_pressure', 'link_16_flow']]\n",
      "starting df shape: (87600, 22)\n",
      "This is training run 1 and has the shape:  (87600, 22)\n",
      "The value of dropped columns is 75\n"
     ]
    },
    {
     "name": "stderr",
     "output_type": "stream",
     "text": [
      "/Users/alexellard/opt/anaconda3/lib/python3.7/site-packages/xgboost/data.py:96: UserWarning: Use subset (sliced data) of np.ndarray is not recommended because it will generate extra copies and increase memory consumption\n",
      "  \"because it will generate extra copies and increase \" +\n"
     ]
    },
    {
     "name": "stdout",
     "output_type": "stream",
     "text": [
      "test y shape : (17520, 1)\n",
      "Inv y shape : (17520, 22)\n"
     ]
    },
    {
     "name": "stderr",
     "output_type": "stream",
     "text": [
      "/Users/alexellard/opt/anaconda3/lib/python3.7/site-packages/xgboost/data.py:96: UserWarning: Use subset (sliced data) of np.ndarray is not recommended because it will generate extra copies and increase memory consumption\n",
      "  \"because it will generate extra copies and increase \" +\n"
     ]
    },
    {
     "name": "stdout",
     "output_type": "stream",
     "text": [
      "test y shape : (17520, 1)\n",
      "Inv y shape : (17520, 22)\n",
      "y pred shape : (17520, 1)\n",
      "inv y pred : (17520, 22)\n",
      "Run 1 Mean Absolute Error: 0.3250732832623163\n",
      "RMSE: 0.473\n",
      "R^2: 1.000\n",
      "[['link_32_flow', 'node_7_pressure', 'node_27_demand', 'node_29_demand', 'link_4_flow', 'link_20_flow', 'node_5_pressure', 'node_1_pressure', 'node_31_pressure', 'link_7_flow', 'node_22_demand', 'node_20_demand', 'node_23_pressure', 'reservoir_demand', 'link_17_flow', 'link_25_flow', 'link_18_flow', 'node_10_demand', 'node_18_pressure', 'link_24_flow', 'node_4_pressure', 'node_25_demand', 'node_2_demand', 'node_1_demand', 'link_5_flow', 'link_21_flow', 'node_31_demand', 'node_16_demand', 'link_15_flow', 'link_28_flow', 'node_17_demand', 'node_26_demand', 'node_26_pressure', 'node_14_pressure', 'link_31_flow', 'node_22_pressure', 'node_19_pressure', 'node_24_demand', 'node_21_pressure', 'node_30_pressure', 'node_11_pressure', 'node_4_demand', 'link_30_flow', 'node_13_demand', 'node_24_pressure', 'link_9_flow', 'link_1_flow', 'node_8_pressure', 'link_29_flow', 'node_17_pressure', 'node_21_demand', 'node_5_demand', 'node_3_demand', 'node_10_pressure', 'node_28_pressure', 'node_11_demand', 'node_20_pressure', 'link_12_flow', 'reservoir_pressure', 'node_25_pressure', 'link_2_flow', 'node_23_demand', 'node_6_demand', 'link_11_flow', 'node_7_demand', 'link_22_flow', 'link_6_flow', 'node_15_pressure', 'node_14_demand', 'node_12_demand', 'node_27_pressure', 'node_13_pressure', 'node_9_demand', 'link_27_flow']]\n",
      "starting df shape: (87600, 22)\n",
      "This is training run 2 and has the shape:  (87600, 22)\n",
      "The value of dropped columns is 75\n"
     ]
    },
    {
     "name": "stderr",
     "output_type": "stream",
     "text": [
      "/Users/alexellard/opt/anaconda3/lib/python3.7/site-packages/xgboost/data.py:96: UserWarning: Use subset (sliced data) of np.ndarray is not recommended because it will generate extra copies and increase memory consumption\n",
      "  \"because it will generate extra copies and increase \" +\n"
     ]
    },
    {
     "name": "stdout",
     "output_type": "stream",
     "text": [
      "test y shape : (17520, 1)\n",
      "Inv y shape : (17520, 22)\n"
     ]
    },
    {
     "name": "stderr",
     "output_type": "stream",
     "text": [
      "/Users/alexellard/opt/anaconda3/lib/python3.7/site-packages/xgboost/data.py:96: UserWarning: Use subset (sliced data) of np.ndarray is not recommended because it will generate extra copies and increase memory consumption\n",
      "  \"because it will generate extra copies and increase \" +\n"
     ]
    },
    {
     "name": "stdout",
     "output_type": "stream",
     "text": [
      "test y shape : (17520, 1)\n",
      "Inv y shape : (17520, 22)\n",
      "y pred shape : (17520, 1)\n",
      "inv y pred : (17520, 22)\n",
      "Run 2 Mean Absolute Error: 0.5150507751913941\n",
      "RMSE: 0.703\n",
      "R^2: 1.000\n",
      "[['node_30_demand', 'node_26_pressure', 'link_10_flow', 'node_21_demand', 'link_24_flow', 'node_12_pressure', 'node_7_demand', 'node_8_demand', 'node_8_pressure', 'link_26_flow', 'link_25_flow', 'node_4_pressure', 'node_10_pressure', 'node_19_pressure', 'link_17_flow', 'link_2_flow', 'link_6_flow', 'link_3_flow', 'node_5_demand', 'link_4_flow', 'reservoir_pressure', 'link_21_flow', 'node_2_pressure', 'node_17_pressure', 'link_8_flow', 'node_3_demand', 'node_13_pressure', 'node_20_pressure', 'node_18_pressure', 'node_3_pressure', 'node_13_demand', 'node_26_demand', 'link_15_flow', 'node_24_pressure', 'link_14_flow', 'node_2_demand', 'node_17_demand', 'link_7_flow', 'node_24_demand', 'node_5_pressure', 'node_4_demand', 'node_15_demand', 'node_31_demand', 'node_16_pressure', 'node_15_pressure', 'node_14_pressure', 'node_20_demand', 'link_31_flow', 'node_11_demand', 'node_31_pressure', 'node_27_demand', 'link_27_flow', 'node_22_pressure', 'link_20_flow', 'link_23_flow', 'reservoir_demand', 'link_28_flow', 'link_19_flow', 'node_29_demand', 'link_32_flow', 'node_25_demand', 'node_25_pressure', 'node_19_demand', 'node_27_pressure', 'node_12_demand', 'link_11_flow', 'node_9_demand', 'node_28_demand', 'node_23_demand', 'node_18_demand', 'link_12_flow', 'link_5_flow', 'node_21_pressure', 'link_29_flow']]\n",
      "starting df shape: (87600, 22)\n",
      "This is training run 3 and has the shape:  (87600, 22)\n",
      "The value of dropped columns is 75\n"
     ]
    },
    {
     "name": "stderr",
     "output_type": "stream",
     "text": [
      "/Users/alexellard/opt/anaconda3/lib/python3.7/site-packages/xgboost/data.py:96: UserWarning: Use subset (sliced data) of np.ndarray is not recommended because it will generate extra copies and increase memory consumption\n",
      "  \"because it will generate extra copies and increase \" +\n"
     ]
    },
    {
     "name": "stdout",
     "output_type": "stream",
     "text": [
      "test y shape : (17520, 1)\n",
      "Inv y shape : (17520, 22)\n"
     ]
    },
    {
     "name": "stderr",
     "output_type": "stream",
     "text": [
      "/Users/alexellard/opt/anaconda3/lib/python3.7/site-packages/xgboost/data.py:96: UserWarning: Use subset (sliced data) of np.ndarray is not recommended because it will generate extra copies and increase memory consumption\n",
      "  \"because it will generate extra copies and increase \" +\n"
     ]
    },
    {
     "name": "stdout",
     "output_type": "stream",
     "text": [
      "test y shape : (17520, 1)\n",
      "Inv y shape : (17520, 22)\n",
      "y pred shape : (17520, 1)\n",
      "inv y pred : (17520, 22)\n",
      "Run 3 Mean Absolute Error: 0.18736839385848555\n",
      "RMSE: 0.265\n",
      "R^2: 1.000\n",
      "[['node_21_demand', 'node_27_demand', 'node_30_demand', 'link_10_flow', 'node_22_demand', 'node_22_pressure', 'node_12_pressure', 'reservoir_demand', 'node_5_pressure', 'node_13_pressure', 'node_15_demand', 'node_2_pressure', 'node_23_demand', 'link_24_flow', 'node_26_pressure', 'node_25_pressure', 'link_15_flow', 'link_16_flow', 'link_12_flow', 'node_11_pressure', 'node_19_pressure', 'link_2_flow', 'node_24_demand', 'link_28_flow', 'link_26_flow', 'node_20_pressure', 'link_9_flow', 'link_20_flow', 'node_4_pressure', 'node_19_demand', 'link_21_flow', 'node_7_pressure', 'link_6_flow', 'node_1_pressure', 'node_15_pressure', 'node_12_demand', 'node_6_pressure', 'link_23_flow', 'link_4_flow', 'node_9_pressure', 'node_29_demand', 'reservoir_pressure', 'node_13_demand', 'node_3_pressure', 'link_22_flow', 'link_19_flow', 'node_3_demand', 'link_32_flow', 'node_25_demand', 'node_17_pressure', 'node_28_demand', 'node_4_demand', 'node_10_pressure', 'link_18_flow', 'node_1_demand', 'link_11_flow', 'node_20_demand', 'node_6_demand', 'node_7_demand', 'node_27_pressure', 'node_28_pressure', 'node_5_demand', 'node_31_demand', 'node_14_pressure', 'node_8_demand', 'node_18_pressure', 'node_16_demand', 'link_13_flow', 'node_16_pressure', 'node_11_demand', 'link_8_flow', 'link_17_flow', 'node_2_demand', 'link_14_flow']]\n",
      "starting df shape: (87600, 22)\n",
      "This is training run 4 and has the shape:  (87600, 22)\n",
      "The value of dropped columns is 75\n"
     ]
    },
    {
     "name": "stderr",
     "output_type": "stream",
     "text": [
      "/Users/alexellard/opt/anaconda3/lib/python3.7/site-packages/xgboost/data.py:96: UserWarning: Use subset (sliced data) of np.ndarray is not recommended because it will generate extra copies and increase memory consumption\n",
      "  \"because it will generate extra copies and increase \" +\n"
     ]
    },
    {
     "name": "stdout",
     "output_type": "stream",
     "text": [
      "test y shape : (17520, 1)\n",
      "Inv y shape : (17520, 22)\n"
     ]
    },
    {
     "name": "stderr",
     "output_type": "stream",
     "text": [
      "/Users/alexellard/opt/anaconda3/lib/python3.7/site-packages/xgboost/data.py:96: UserWarning: Use subset (sliced data) of np.ndarray is not recommended because it will generate extra copies and increase memory consumption\n",
      "  \"because it will generate extra copies and increase \" +\n"
     ]
    },
    {
     "name": "stdout",
     "output_type": "stream",
     "text": [
      "test y shape : (17520, 1)\n",
      "Inv y shape : (17520, 22)\n",
      "y pred shape : (17520, 1)\n",
      "inv y pred : (17520, 22)\n",
      "Run 4 Mean Absolute Error: 0.11559405413514486\n",
      "RMSE: 0.160\n",
      "R^2: 1.000\n",
      "[['node_16_demand', 'node_22_pressure', 'link_30_flow', 'node_24_demand', 'node_1_demand', 'link_10_flow', 'node_8_demand', 'link_21_flow', 'node_13_pressure', 'node_16_pressure', 'node_7_pressure', 'link_26_flow', 'link_27_flow', 'link_12_flow', 'node_19_pressure', 'node_20_pressure', 'link_29_flow', 'node_8_pressure', 'link_25_flow', 'node_12_pressure', 'node_17_demand', 'node_19_demand', 'node_28_demand', 'node_1_pressure', 'node_25_demand', 'link_2_flow', 'link_4_flow', 'link_9_flow', 'link_18_flow', 'node_7_demand', 'node_31_pressure', 'link_3_flow', 'link_8_flow', 'link_5_flow', 'node_29_demand', 'node_5_demand', 'node_2_demand', 'link_1_flow', 'link_22_flow', 'node_23_demand', 'node_24_pressure', 'node_31_demand', 'node_4_pressure', 'reservoir_demand', 'node_12_demand', 'node_10_demand', 'node_25_pressure', 'link_24_flow', 'node_30_pressure', 'node_23_pressure', 'node_22_demand', 'link_19_flow', 'node_2_pressure', 'link_6_flow', 'link_32_flow', 'node_11_pressure', 'node_9_pressure', 'link_17_flow', 'node_14_demand', 'link_13_flow', 'node_5_pressure', 'link_14_flow', 'link_28_flow', 'link_11_flow', 'node_9_demand', 'node_26_pressure', 'node_21_demand', 'node_21_pressure', 'node_11_demand', 'node_17_pressure', 'node_27_demand', 'node_6_demand', 'reservoir_pressure', 'node_26_demand']]\n",
      "starting df shape: (87600, 22)\n",
      "This is training run 5 and has the shape:  (87600, 22)\n",
      "The value of dropped columns is 75\n"
     ]
    },
    {
     "name": "stderr",
     "output_type": "stream",
     "text": [
      "/Users/alexellard/opt/anaconda3/lib/python3.7/site-packages/xgboost/data.py:96: UserWarning: Use subset (sliced data) of np.ndarray is not recommended because it will generate extra copies and increase memory consumption\n",
      "  \"because it will generate extra copies and increase \" +\n"
     ]
    },
    {
     "name": "stdout",
     "output_type": "stream",
     "text": [
      "test y shape : (17520, 1)\n",
      "Inv y shape : (17520, 22)\n"
     ]
    },
    {
     "name": "stderr",
     "output_type": "stream",
     "text": [
      "/Users/alexellard/opt/anaconda3/lib/python3.7/site-packages/xgboost/data.py:96: UserWarning: Use subset (sliced data) of np.ndarray is not recommended because it will generate extra copies and increase memory consumption\n",
      "  \"because it will generate extra copies and increase \" +\n"
     ]
    },
    {
     "name": "stdout",
     "output_type": "stream",
     "text": [
      "test y shape : (17520, 1)\n",
      "Inv y shape : (17520, 22)\n",
      "y pred shape : (17520, 1)\n",
      "inv y pred : (17520, 22)\n",
      "Run 5 Mean Absolute Error: 0.06866330050165281\n",
      "RMSE: 0.102\n",
      "R^2: 1.000\n",
      "[['link_3_flow', 'node_10_demand', 'node_31_pressure', 'link_5_flow', 'node_5_demand', 'node_30_demand', 'link_1_flow', 'node_15_pressure', 'link_18_flow', 'link_9_flow', 'node_7_pressure', 'node_22_pressure', 'link_29_flow', 'node_29_demand', 'node_26_demand', 'node_12_demand', 'link_2_flow', 'link_4_flow', 'node_27_demand', 'link_24_flow', 'node_14_pressure', 'node_22_demand', 'node_7_demand', 'node_23_demand', 'node_24_demand', 'node_20_demand', 'node_8_pressure', 'node_12_pressure', 'node_23_pressure', 'node_9_pressure', 'link_32_flow', 'node_27_pressure', 'node_15_demand', 'node_8_demand', 'node_2_pressure', 'node_1_pressure', 'node_14_demand', 'link_23_flow', 'node_18_pressure', 'link_15_flow', 'node_28_pressure', 'node_11_demand', 'link_30_flow', 'link_7_flow', 'node_31_demand', 'node_21_demand', 'node_21_pressure', 'node_19_pressure', 'link_22_flow', 'node_13_demand', 'node_4_demand', 'node_25_demand', 'node_18_demand', 'reservoir_pressure', 'link_20_flow', 'node_16_pressure', 'link_11_flow', 'node_30_pressure', 'link_14_flow', 'node_2_demand', 'link_28_flow', 'node_17_pressure', 'link_27_flow', 'link_12_flow', 'node_25_pressure', 'link_13_flow', 'link_6_flow', 'link_16_flow', 'node_28_demand', 'node_20_pressure', 'node_6_demand', 'node_11_pressure', 'node_9_demand', 'node_13_pressure']]\n",
      "starting df shape: (87600, 22)\n",
      "This is training run 6 and has the shape:  (87600, 22)\n",
      "The value of dropped columns is 75\n"
     ]
    },
    {
     "name": "stderr",
     "output_type": "stream",
     "text": [
      "/Users/alexellard/opt/anaconda3/lib/python3.7/site-packages/xgboost/data.py:96: UserWarning: Use subset (sliced data) of np.ndarray is not recommended because it will generate extra copies and increase memory consumption\n",
      "  \"because it will generate extra copies and increase \" +\n"
     ]
    },
    {
     "name": "stdout",
     "output_type": "stream",
     "text": [
      "test y shape : (17520, 1)\n",
      "Inv y shape : (17520, 22)\n"
     ]
    },
    {
     "name": "stderr",
     "output_type": "stream",
     "text": [
      "/Users/alexellard/opt/anaconda3/lib/python3.7/site-packages/xgboost/data.py:96: UserWarning: Use subset (sliced data) of np.ndarray is not recommended because it will generate extra copies and increase memory consumption\n",
      "  \"because it will generate extra copies and increase \" +\n"
     ]
    },
    {
     "name": "stdout",
     "output_type": "stream",
     "text": [
      "test y shape : (17520, 1)\n",
      "Inv y shape : (17520, 22)\n",
      "y pred shape : (17520, 1)\n",
      "inv y pred : (17520, 22)\n",
      "Run 6 Mean Absolute Error: 10.972073983912415\n",
      "RMSE: 15.061\n",
      "R^2: 1.000\n",
      "[['node_19_demand', 'node_28_pressure', 'reservoir_demand', 'node_11_pressure', 'node_26_demand', 'node_14_demand', 'node_31_demand', 'node_15_pressure', 'node_8_demand', 'node_1_pressure', 'node_10_pressure', 'link_5_flow', 'reservoir_pressure', 'node_2_pressure', 'link_18_flow', 'node_9_demand', 'node_22_pressure', 'node_24_demand', 'link_21_flow', 'node_20_pressure', 'node_20_demand', 'node_30_demand', 'node_7_demand', 'link_14_flow', 'link_30_flow', 'link_13_flow', 'node_16_pressure', 'node_6_demand', 'link_25_flow', 'node_27_pressure', 'node_12_demand', 'link_7_flow', 'node_6_pressure', 'node_8_pressure', 'node_23_pressure', 'link_23_flow', 'link_29_flow', 'node_2_demand', 'node_15_demand', 'node_17_pressure', 'link_1_flow', 'link_8_flow', 'node_5_pressure', 'node_25_pressure', 'link_2_flow', 'node_9_pressure', 'node_18_pressure', 'node_13_demand', 'node_30_pressure', 'node_31_pressure', 'node_18_demand', 'node_7_pressure', 'node_26_pressure', 'link_17_flow', 'node_21_pressure', 'link_3_flow', 'node_21_demand', 'link_16_flow', 'link_32_flow', 'link_15_flow', 'node_4_pressure', 'node_10_demand', 'link_20_flow', 'link_22_flow', 'node_28_demand', 'link_28_flow', 'node_17_demand', 'link_26_flow', 'link_10_flow', 'node_24_pressure', 'node_29_demand', 'node_16_demand', 'node_25_demand', 'link_11_flow']]\n",
      "starting df shape: (87600, 22)\n",
      "This is training run 7 and has the shape:  (87600, 22)\n",
      "The value of dropped columns is 75\n"
     ]
    },
    {
     "name": "stderr",
     "output_type": "stream",
     "text": [
      "/Users/alexellard/opt/anaconda3/lib/python3.7/site-packages/xgboost/data.py:96: UserWarning: Use subset (sliced data) of np.ndarray is not recommended because it will generate extra copies and increase memory consumption\n",
      "  \"because it will generate extra copies and increase \" +\n"
     ]
    },
    {
     "name": "stdout",
     "output_type": "stream",
     "text": [
      "test y shape : (17520, 1)\n",
      "Inv y shape : (17520, 22)\n"
     ]
    },
    {
     "name": "stderr",
     "output_type": "stream",
     "text": [
      "/Users/alexellard/opt/anaconda3/lib/python3.7/site-packages/xgboost/data.py:96: UserWarning: Use subset (sliced data) of np.ndarray is not recommended because it will generate extra copies and increase memory consumption\n",
      "  \"because it will generate extra copies and increase \" +\n"
     ]
    },
    {
     "name": "stdout",
     "output_type": "stream",
     "text": [
      "test y shape : (17520, 1)\n",
      "Inv y shape : (17520, 22)\n",
      "y pred shape : (17520, 1)\n",
      "inv y pred : (17520, 22)\n",
      "Run 7 Mean Absolute Error: 1.0168534834564484\n",
      "RMSE: 1.382\n",
      "R^2: 1.000\n",
      "[['node_28_pressure', 'node_26_pressure', 'node_14_pressure', 'node_13_pressure', 'link_31_flow', 'node_20_demand', 'link_7_flow', 'node_15_pressure', 'node_6_pressure', 'link_27_flow', 'link_24_flow', 'link_3_flow', 'node_10_pressure', 'node_11_pressure', 'node_19_demand', 'link_8_flow', 'node_22_pressure', 'reservoir_demand', 'node_4_demand', 'link_25_flow', 'node_7_pressure', 'node_21_demand', 'link_2_flow', 'node_16_pressure', 'link_15_flow', 'node_24_demand', 'node_17_pressure', 'node_6_demand', 'node_5_pressure', 'node_30_pressure', 'node_22_demand', 'link_11_flow', 'node_20_pressure', 'node_3_demand', 'node_4_pressure', 'node_24_pressure', 'link_1_flow', 'node_8_demand', 'node_25_demand', 'node_14_demand', 'node_15_demand', 'link_32_flow', 'link_12_flow', 'link_14_flow', 'node_27_demand', 'node_26_demand', 'node_19_pressure', 'node_12_pressure', 'node_13_demand', 'link_28_flow', 'link_9_flow', 'reservoir_pressure', 'node_8_pressure', 'node_11_demand', 'node_7_demand', 'link_17_flow', 'node_3_pressure', 'node_1_pressure', 'link_30_flow', 'link_20_flow', 'node_9_demand', 'node_23_demand', 'link_18_flow', 'node_30_demand', 'node_9_pressure', 'node_31_pressure', 'link_10_flow', 'node_10_demand', 'node_5_demand', 'node_31_demand', 'link_23_flow', 'link_5_flow', 'node_25_pressure', 'node_1_demand']]\n",
      "starting df shape: (87600, 22)\n",
      "This is training run 8 and has the shape:  (87600, 22)\n",
      "The value of dropped columns is 75\n"
     ]
    },
    {
     "name": "stderr",
     "output_type": "stream",
     "text": [
      "/Users/alexellard/opt/anaconda3/lib/python3.7/site-packages/xgboost/data.py:96: UserWarning: Use subset (sliced data) of np.ndarray is not recommended because it will generate extra copies and increase memory consumption\n",
      "  \"because it will generate extra copies and increase \" +\n"
     ]
    },
    {
     "name": "stdout",
     "output_type": "stream",
     "text": [
      "test y shape : (17520, 1)\n",
      "Inv y shape : (17520, 22)\n"
     ]
    },
    {
     "name": "stderr",
     "output_type": "stream",
     "text": [
      "/Users/alexellard/opt/anaconda3/lib/python3.7/site-packages/xgboost/data.py:96: UserWarning: Use subset (sliced data) of np.ndarray is not recommended because it will generate extra copies and increase memory consumption\n",
      "  \"because it will generate extra copies and increase \" +\n"
     ]
    },
    {
     "name": "stdout",
     "output_type": "stream",
     "text": [
      "test y shape : (17520, 1)\n",
      "Inv y shape : (17520, 22)\n",
      "y pred shape : (17520, 1)\n",
      "inv y pred : (17520, 22)\n",
      "Run 8 Mean Absolute Error: 0.4832143497048388\n",
      "RMSE: 0.667\n",
      "R^2: 1.000\n",
      "[['node_8_demand', 'node_20_demand', 'node_3_demand', 'node_1_demand', 'node_23_demand', 'node_14_demand', 'link_20_flow', 'link_2_flow', 'link_12_flow', 'link_19_flow', 'node_10_demand', 'node_18_demand', 'reservoir_demand', 'node_11_demand', 'node_6_pressure', 'node_7_pressure', 'node_18_pressure', 'node_29_demand', 'link_5_flow', 'link_6_flow', 'node_3_pressure', 'node_26_pressure', 'node_13_pressure', 'link_26_flow', 'node_5_demand', 'node_2_pressure', 'link_18_flow', 'node_25_pressure', 'node_7_demand', 'node_5_pressure', 'link_14_flow', 'node_30_pressure', 'link_21_flow', 'node_4_demand', 'node_4_pressure', 'node_27_demand', 'node_22_pressure', 'node_6_demand', 'link_24_flow', 'node_16_pressure', 'node_30_demand', 'link_9_flow', 'link_16_flow', 'link_32_flow', 'node_21_demand', 'link_3_flow', 'node_13_demand', 'node_17_pressure', 'node_19_pressure', 'link_31_flow', 'node_14_pressure', 'link_28_flow', 'node_21_pressure', 'node_23_pressure', 'node_25_demand', 'node_24_demand', 'node_16_demand', 'node_12_pressure', 'node_27_pressure', 'link_25_flow', 'node_20_pressure', 'node_31_demand', 'node_24_pressure', 'node_31_pressure', 'link_17_flow', 'link_7_flow', 'link_4_flow', 'link_13_flow', 'link_8_flow', 'link_23_flow', 'node_28_demand', 'link_27_flow', 'node_9_demand', 'node_1_pressure']]\n",
      "starting df shape: (87600, 22)\n",
      "This is training run 9 and has the shape:  (87600, 22)\n",
      "The value of dropped columns is 75\n"
     ]
    },
    {
     "name": "stderr",
     "output_type": "stream",
     "text": [
      "/Users/alexellard/opt/anaconda3/lib/python3.7/site-packages/xgboost/data.py:96: UserWarning: Use subset (sliced data) of np.ndarray is not recommended because it will generate extra copies and increase memory consumption\n",
      "  \"because it will generate extra copies and increase \" +\n"
     ]
    },
    {
     "name": "stdout",
     "output_type": "stream",
     "text": [
      "test y shape : (17520, 1)\n",
      "Inv y shape : (17520, 22)\n"
     ]
    },
    {
     "name": "stderr",
     "output_type": "stream",
     "text": [
      "/Users/alexellard/opt/anaconda3/lib/python3.7/site-packages/xgboost/data.py:96: UserWarning: Use subset (sliced data) of np.ndarray is not recommended because it will generate extra copies and increase memory consumption\n",
      "  \"because it will generate extra copies and increase \" +\n"
     ]
    },
    {
     "name": "stdout",
     "output_type": "stream",
     "text": [
      "test y shape : (17520, 1)\n",
      "Inv y shape : (17520, 22)\n",
      "y pred shape : (17520, 1)\n",
      "inv y pred : (17520, 22)\n",
      "Run 9 Mean Absolute Error: 0.3526574650173239\n",
      "RMSE: 0.507\n",
      "R^2: 1.000\n",
      "[['node_12_demand', 'node_20_pressure', 'link_21_flow', 'node_18_demand', 'node_16_pressure', 'node_23_demand', 'node_2_demand', 'reservoir_demand', 'node_13_pressure', 'node_26_demand', 'link_29_flow', 'node_13_demand', 'link_15_flow', 'node_29_demand', 'link_32_flow', 'node_26_pressure', 'node_3_pressure', 'node_31_demand', 'node_19_pressure', 'node_24_demand', 'node_14_demand', 'node_9_pressure', 'node_6_pressure', 'link_22_flow', 'node_15_pressure', 'link_26_flow', 'node_4_demand', 'link_5_flow', 'link_11_flow', 'node_30_demand', 'link_31_flow', 'link_12_flow', 'node_31_pressure', 'node_12_pressure', 'link_25_flow', 'node_21_demand', 'node_14_pressure', 'node_19_demand', 'node_15_demand', 'link_16_flow', 'link_18_flow', 'node_11_demand', 'link_19_flow', 'node_7_pressure', 'node_28_pressure', 'node_18_pressure', 'node_21_pressure', 'node_10_pressure', 'link_7_flow', 'node_10_demand', 'node_1_demand', 'link_28_flow', 'link_17_flow', 'node_8_pressure', 'node_25_demand', 'reservoir_pressure', 'node_11_pressure', 'node_28_demand', 'node_30_pressure', 'link_30_flow', 'link_20_flow', 'node_20_demand', 'link_3_flow', 'node_27_pressure', 'link_6_flow', 'link_2_flow', 'link_24_flow', 'link_10_flow', 'node_9_demand', 'link_27_flow', 'node_7_demand', 'link_8_flow', 'node_1_pressure', 'node_27_demand']]\n",
      "starting df shape: (87600, 22)\n",
      "This is training run 10 and has the shape:  (87600, 22)\n",
      "The value of dropped columns is 75\n"
     ]
    },
    {
     "name": "stderr",
     "output_type": "stream",
     "text": [
      "/Users/alexellard/opt/anaconda3/lib/python3.7/site-packages/xgboost/data.py:96: UserWarning: Use subset (sliced data) of np.ndarray is not recommended because it will generate extra copies and increase memory consumption\n",
      "  \"because it will generate extra copies and increase \" +\n"
     ]
    },
    {
     "name": "stdout",
     "output_type": "stream",
     "text": [
      "test y shape : (17520, 1)\n",
      "Inv y shape : (17520, 22)\n"
     ]
    },
    {
     "name": "stderr",
     "output_type": "stream",
     "text": [
      "/Users/alexellard/opt/anaconda3/lib/python3.7/site-packages/xgboost/data.py:96: UserWarning: Use subset (sliced data) of np.ndarray is not recommended because it will generate extra copies and increase memory consumption\n",
      "  \"because it will generate extra copies and increase \" +\n"
     ]
    },
    {
     "name": "stdout",
     "output_type": "stream",
     "text": [
      "test y shape : (17520, 1)\n",
      "Inv y shape : (17520, 22)\n",
      "y pred shape : (17520, 1)\n",
      "inv y pred : (17520, 22)\n",
      "Run 10 Mean Absolute Error: 0.1016848272598781\n",
      "RMSE: 0.139\n",
      "R^2: 1.000\n",
      "[['node_2_pressure', 'node_25_pressure', 'node_27_demand', 'node_14_demand', 'link_21_flow', 'reservoir_demand', 'node_21_pressure', 'node_11_pressure', 'node_8_demand', 'node_9_demand', 'node_26_demand', 'link_18_flow', 'node_21_demand', 'node_16_pressure', 'node_11_demand', 'node_31_pressure', 'link_4_flow', 'link_9_flow', 'node_20_demand', 'node_30_pressure', 'node_5_pressure', 'link_14_flow', 'node_23_pressure', 'node_25_demand', 'node_22_pressure', 'node_8_pressure', 'node_28_pressure', 'node_6_pressure', 'link_1_flow', 'link_6_flow', 'node_9_pressure', 'link_24_flow', 'link_12_flow', 'node_31_demand', 'link_28_flow', 'node_13_pressure', 'node_15_pressure', 'link_3_flow', 'node_23_demand', 'link_17_flow', 'link_25_flow', 'node_3_demand', 'node_24_pressure', 'node_6_demand', 'link_8_flow', 'node_17_pressure', 'link_2_flow', 'link_27_flow', 'node_14_pressure', 'node_1_pressure', 'link_13_flow', 'node_29_demand', 'reservoir_pressure', 'node_7_pressure', 'link_31_flow', 'link_22_flow', 'node_17_demand', 'node_19_pressure', 'node_1_demand', 'node_4_pressure', 'link_15_flow', 'node_19_demand', 'link_32_flow', 'node_30_demand', 'link_29_flow', 'node_12_demand', 'node_26_pressure', 'link_19_flow', 'link_7_flow', 'node_18_pressure', 'link_11_flow', 'link_20_flow', 'node_12_pressure', 'node_7_demand', 'node_3_pressure', 'node_15_demand', 'node_28_demand', 'node_13_demand', 'node_27_pressure']]\n",
      "starting df shape: (87600, 17)\n",
      "This is training run 1 and has the shape:  (87600, 17)\n",
      "The value of dropped columns is 80\n"
     ]
    },
    {
     "name": "stderr",
     "output_type": "stream",
     "text": [
      "/Users/alexellard/opt/anaconda3/lib/python3.7/site-packages/xgboost/data.py:96: UserWarning: Use subset (sliced data) of np.ndarray is not recommended because it will generate extra copies and increase memory consumption\n",
      "  \"because it will generate extra copies and increase \" +\n"
     ]
    },
    {
     "name": "stdout",
     "output_type": "stream",
     "text": [
      "test y shape : (17520, 1)\n",
      "Inv y shape : (17520, 17)\n"
     ]
    },
    {
     "name": "stderr",
     "output_type": "stream",
     "text": [
      "/Users/alexellard/opt/anaconda3/lib/python3.7/site-packages/xgboost/data.py:96: UserWarning: Use subset (sliced data) of np.ndarray is not recommended because it will generate extra copies and increase memory consumption\n",
      "  \"because it will generate extra copies and increase \" +\n"
     ]
    },
    {
     "name": "stdout",
     "output_type": "stream",
     "text": [
      "test y shape : (17520, 1)\n",
      "Inv y shape : (17520, 17)\n",
      "y pred shape : (17520, 1)\n",
      "inv y pred : (17520, 17)\n",
      "Run 1 Mean Absolute Error: 1.0019999355282272\n",
      "RMSE: 1.382\n",
      "R^2: 1.000\n",
      "[['node_4_pressure', 'node_31_demand', 'node_22_demand', 'link_8_flow', 'node_12_demand', 'node_19_demand', 'node_21_demand', 'reservoir_pressure', 'node_3_pressure', 'node_28_pressure', 'node_31_pressure', 'node_17_demand', 'node_4_demand', 'node_15_demand', 'link_19_flow', 'node_16_demand', 'link_23_flow', 'link_32_flow', 'link_4_flow', 'node_16_pressure', 'node_20_pressure', 'link_29_flow', 'node_1_pressure', 'link_24_flow', 'link_22_flow', 'node_26_pressure', 'node_14_demand', 'node_21_pressure', 'node_11_demand', 'node_13_pressure', 'node_19_pressure', 'node_30_pressure', 'link_6_flow', 'node_7_pressure', 'link_14_flow', 'link_13_flow', 'node_3_demand', 'node_30_demand', 'node_9_pressure', 'node_10_demand', 'node_18_demand', 'node_18_pressure', 'node_8_demand', 'node_23_pressure', 'link_17_flow', 'link_2_flow', 'node_23_demand', 'node_26_demand', 'node_28_demand', 'link_30_flow', 'node_15_pressure', 'link_10_flow', 'node_25_pressure', 'reservoir_demand', 'link_16_flow', 'link_20_flow', 'node_2_demand', 'link_1_flow', 'node_25_demand', 'node_8_pressure', 'link_9_flow', 'node_6_pressure', 'node_22_pressure', 'link_3_flow', 'node_27_demand', 'node_14_pressure', 'link_31_flow', 'node_11_pressure', 'node_27_pressure', 'node_2_pressure', 'node_10_pressure', 'link_5_flow', 'node_9_demand', 'node_17_pressure', 'node_13_demand', 'node_12_pressure', 'link_25_flow', 'link_15_flow', 'link_7_flow']]\n",
      "starting df shape: (87600, 17)\n",
      "This is training run 2 and has the shape:  (87600, 17)\n",
      "The value of dropped columns is 80\n"
     ]
    },
    {
     "name": "stderr",
     "output_type": "stream",
     "text": [
      "/Users/alexellard/opt/anaconda3/lib/python3.7/site-packages/xgboost/data.py:96: UserWarning: Use subset (sliced data) of np.ndarray is not recommended because it will generate extra copies and increase memory consumption\n",
      "  \"because it will generate extra copies and increase \" +\n"
     ]
    },
    {
     "name": "stdout",
     "output_type": "stream",
     "text": [
      "test y shape : (17520, 1)\n",
      "Inv y shape : (17520, 17)\n"
     ]
    },
    {
     "name": "stderr",
     "output_type": "stream",
     "text": [
      "/Users/alexellard/opt/anaconda3/lib/python3.7/site-packages/xgboost/data.py:96: UserWarning: Use subset (sliced data) of np.ndarray is not recommended because it will generate extra copies and increase memory consumption\n",
      "  \"because it will generate extra copies and increase \" +\n"
     ]
    },
    {
     "name": "stdout",
     "output_type": "stream",
     "text": [
      "test y shape : (17520, 1)\n",
      "Inv y shape : (17520, 17)\n",
      "y pred shape : (17520, 1)\n",
      "inv y pred : (17520, 17)\n",
      "Run 2 Mean Absolute Error: 0.5683277864870699\n",
      "RMSE: 0.798\n",
      "R^2: 1.000\n",
      "[['node_14_demand', 'node_23_demand', 'link_13_flow', 'node_5_pressure', 'node_7_pressure', 'link_30_flow', 'node_19_pressure', 'node_15_demand', 'node_20_demand', 'node_14_pressure', 'node_25_demand', 'link_14_flow', 'node_18_pressure', 'node_6_pressure', 'node_4_demand', 'link_3_flow', 'node_3_demand', 'node_13_pressure', 'node_4_pressure', 'node_27_pressure', 'node_23_pressure', 'node_31_demand', 'link_25_flow', 'node_26_pressure', 'link_11_flow', 'node_3_pressure', 'link_28_flow', 'node_5_demand', 'link_22_flow', 'node_16_pressure', 'node_24_pressure', 'node_18_demand', 'node_28_demand', 'link_31_flow', 'node_15_pressure', 'node_30_pressure', 'node_11_pressure', 'node_17_pressure', 'link_26_flow', 'reservoir_demand', 'node_19_demand', 'link_9_flow', 'node_2_demand', 'link_15_flow', 'link_16_flow', 'link_17_flow', 'node_24_demand', 'node_30_demand', 'link_29_flow', 'link_32_flow', 'link_4_flow', 'node_21_pressure', 'node_28_pressure', 'node_17_demand', 'node_8_pressure', 'node_1_pressure', 'link_21_flow', 'link_24_flow', 'node_29_demand', 'node_13_demand', 'link_27_flow', 'node_21_demand', 'node_11_demand', 'node_22_demand', 'link_19_flow', 'link_18_flow', 'node_25_pressure', 'node_10_pressure', 'link_12_flow', 'link_1_flow', 'node_1_demand', 'node_8_demand', 'link_5_flow', 'node_27_demand', 'node_26_demand', 'node_7_demand', 'link_7_flow', 'node_12_demand', 'node_31_pressure']]\n",
      "starting df shape: (87600, 17)\n",
      "This is training run 3 and has the shape:  (87600, 17)\n",
      "The value of dropped columns is 80\n"
     ]
    },
    {
     "name": "stderr",
     "output_type": "stream",
     "text": [
      "/Users/alexellard/opt/anaconda3/lib/python3.7/site-packages/xgboost/data.py:96: UserWarning: Use subset (sliced data) of np.ndarray is not recommended because it will generate extra copies and increase memory consumption\n",
      "  \"because it will generate extra copies and increase \" +\n"
     ]
    },
    {
     "name": "stdout",
     "output_type": "stream",
     "text": [
      "test y shape : (17520, 1)\n",
      "Inv y shape : (17520, 17)\n"
     ]
    },
    {
     "name": "stderr",
     "output_type": "stream",
     "text": [
      "/Users/alexellard/opt/anaconda3/lib/python3.7/site-packages/xgboost/data.py:96: UserWarning: Use subset (sliced data) of np.ndarray is not recommended because it will generate extra copies and increase memory consumption\n",
      "  \"because it will generate extra copies and increase \" +\n"
     ]
    },
    {
     "name": "stdout",
     "output_type": "stream",
     "text": [
      "test y shape : (17520, 1)\n",
      "Inv y shape : (17520, 17)\n",
      "y pred shape : (17520, 1)\n",
      "inv y pred : (17520, 17)\n",
      "Run 3 Mean Absolute Error: 1.2559936271474528\n",
      "RMSE: 1.705\n",
      "R^2: 1.000\n",
      "[['link_12_flow', 'node_31_pressure', 'node_3_pressure', 'node_17_demand', 'node_15_demand', 'node_26_demand', 'node_20_pressure', 'link_20_flow', 'link_4_flow', 'link_30_flow', 'link_14_flow', 'node_8_demand', 'link_3_flow', 'node_24_pressure', 'node_8_pressure', 'node_18_pressure', 'node_30_demand', 'node_27_pressure', 'link_16_flow', 'link_28_flow', 'node_20_demand', 'node_24_demand', 'node_16_demand', 'node_12_demand', 'node_23_pressure', 'node_23_demand', 'node_21_demand', 'node_7_demand', 'link_10_flow', 'link_21_flow', 'link_22_flow', 'link_31_flow', 'node_11_demand', 'node_30_pressure', 'node_12_pressure', 'node_5_demand', 'node_5_pressure', 'link_27_flow', 'node_2_pressure', 'link_6_flow', 'node_13_pressure', 'node_14_pressure', 'node_22_pressure', 'node_11_pressure', 'node_25_pressure', 'node_7_pressure', 'node_25_demand', 'link_2_flow', 'node_2_demand', 'link_19_flow', 'link_17_flow', 'node_28_pressure', 'node_22_demand', 'node_16_pressure', 'node_1_demand', 'node_13_demand', 'node_21_pressure', 'node_9_pressure', 'reservoir_demand', 'node_17_pressure', 'reservoir_pressure', 'link_7_flow', 'node_26_pressure', 'node_19_pressure', 'link_25_flow', 'link_18_flow', 'node_1_pressure', 'link_29_flow', 'node_31_demand', 'node_6_demand', 'link_13_flow', 'link_26_flow', 'link_1_flow', 'node_29_demand', 'node_15_pressure', 'link_15_flow', 'node_9_demand', 'link_23_flow', 'node_4_demand']]\n",
      "starting df shape: (87600, 17)\n",
      "This is training run 4 and has the shape:  (87600, 17)\n",
      "The value of dropped columns is 80\n"
     ]
    },
    {
     "name": "stderr",
     "output_type": "stream",
     "text": [
      "/Users/alexellard/opt/anaconda3/lib/python3.7/site-packages/xgboost/data.py:96: UserWarning: Use subset (sliced data) of np.ndarray is not recommended because it will generate extra copies and increase memory consumption\n",
      "  \"because it will generate extra copies and increase \" +\n"
     ]
    },
    {
     "name": "stdout",
     "output_type": "stream",
     "text": [
      "test y shape : (17520, 1)\n",
      "Inv y shape : (17520, 17)\n"
     ]
    },
    {
     "name": "stderr",
     "output_type": "stream",
     "text": [
      "/Users/alexellard/opt/anaconda3/lib/python3.7/site-packages/xgboost/data.py:96: UserWarning: Use subset (sliced data) of np.ndarray is not recommended because it will generate extra copies and increase memory consumption\n",
      "  \"because it will generate extra copies and increase \" +\n"
     ]
    },
    {
     "name": "stdout",
     "output_type": "stream",
     "text": [
      "test y shape : (17520, 1)\n",
      "Inv y shape : (17520, 17)\n",
      "y pred shape : (17520, 1)\n",
      "inv y pred : (17520, 17)\n",
      "Run 4 Mean Absolute Error: 0.22622183757593242\n",
      "RMSE: 0.323\n",
      "R^2: 0.999\n",
      "[['node_17_demand', 'node_19_demand', 'node_30_pressure', 'node_27_pressure', 'node_20_demand', 'link_2_flow', 'link_18_flow', 'node_6_pressure', 'node_12_demand', 'node_26_demand', 'node_16_pressure', 'node_21_pressure', 'node_5_pressure', 'link_29_flow', 'link_13_flow', 'node_30_demand', 'link_19_flow', 'link_20_flow', 'node_14_demand', 'node_4_pressure', 'node_22_pressure', 'link_14_flow', 'link_12_flow', 'node_29_demand', 'node_21_demand', 'node_28_demand', 'link_1_flow', 'node_25_demand', 'node_8_demand', 'node_7_pressure', 'link_23_flow', 'link_30_flow', 'node_11_demand', 'reservoir_demand', 'link_5_flow', 'node_8_pressure', 'node_31_pressure', 'node_5_demand', 'link_31_flow', 'link_7_flow', 'node_26_pressure', 'node_23_pressure', 'node_6_demand', 'link_22_flow', 'node_14_pressure', 'node_9_pressure', 'node_11_pressure', 'node_7_demand', 'node_16_demand', 'node_9_demand', 'node_28_pressure', 'node_24_pressure', 'link_26_flow', 'link_27_flow', 'link_4_flow', 'reservoir_pressure', 'node_12_pressure', 'node_13_pressure', 'node_4_demand', 'node_22_demand', 'link_3_flow', 'link_21_flow', 'link_10_flow', 'node_18_demand', 'link_8_flow', 'node_10_pressure', 'node_20_pressure', 'node_18_pressure', 'node_2_pressure', 'link_15_flow', 'link_11_flow', 'node_15_pressure', 'node_2_demand', 'link_24_flow', 'node_24_demand', 'node_1_demand', 'link_6_flow', 'node_15_demand', 'link_16_flow', 'node_25_pressure']]\n",
      "starting df shape: (87600, 16)\n",
      "This is training run 5 and has the shape:  (87600, 16)\n",
      "The value of dropped columns is 80\n"
     ]
    },
    {
     "name": "stderr",
     "output_type": "stream",
     "text": [
      "/Users/alexellard/opt/anaconda3/lib/python3.7/site-packages/xgboost/data.py:96: UserWarning: Use subset (sliced data) of np.ndarray is not recommended because it will generate extra copies and increase memory consumption\n",
      "  \"because it will generate extra copies and increase \" +\n"
     ]
    },
    {
     "name": "stdout",
     "output_type": "stream",
     "text": [
      "test y shape : (17520, 1)\n",
      "Inv y shape : (17520, 16)\n"
     ]
    },
    {
     "name": "stderr",
     "output_type": "stream",
     "text": [
      "/Users/alexellard/opt/anaconda3/lib/python3.7/site-packages/xgboost/data.py:96: UserWarning: Use subset (sliced data) of np.ndarray is not recommended because it will generate extra copies and increase memory consumption\n",
      "  \"because it will generate extra copies and increase \" +\n"
     ]
    },
    {
     "name": "stdout",
     "output_type": "stream",
     "text": [
      "test y shape : (17520, 1)\n",
      "Inv y shape : (17520, 16)\n",
      "y pred shape : (17520, 1)\n",
      "inv y pred : (17520, 16)\n",
      "Run 5 Mean Absolute Error: 0.12843382360643554\n",
      "RMSE: 0.177\n",
      "R^2: 1.000\n",
      "[['link_4_flow', 'link_8_flow', 'node_13_demand', 'link_3_flow', 'link_10_flow', 'node_3_pressure', 'node_17_pressure', 'node_24_demand', 'node_9_pressure', 'link_7_flow', 'link_1_flow', 'link_27_flow', 'link_6_flow', 'node_20_demand', 'node_20_pressure', 'node_1_pressure', 'node_8_pressure', 'node_11_pressure', 'node_28_demand', 'node_12_pressure', 'link_28_flow', 'node_14_pressure', 'node_2_demand', 'link_12_flow', 'link_30_flow', 'node_16_pressure', 'node_6_pressure', 'link_19_flow', 'node_30_demand', 'node_21_pressure', 'link_26_flow', 'reservoir_pressure', 'node_13_pressure', 'node_5_demand', 'node_7_pressure', 'link_2_flow', 'node_29_demand', 'node_15_demand', 'link_32_flow', 'node_26_pressure', 'link_5_flow', 'node_27_pressure', 'node_14_demand', 'node_18_pressure', 'node_28_pressure', 'node_26_demand', 'link_25_flow', 'node_17_demand', 'link_17_flow', 'node_5_pressure', 'link_15_flow', 'node_6_demand', 'link_31_flow', 'node_8_demand', 'link_21_flow', 'node_19_demand', 'node_31_pressure', 'node_22_demand', 'node_25_demand', 'link_20_flow', 'node_22_pressure', 'node_23_pressure', 'node_4_pressure', 'node_19_pressure', 'node_16_demand', 'node_10_demand', 'node_15_pressure', 'node_2_pressure', 'node_24_pressure', 'link_9_flow', 'node_12_demand', 'node_21_demand', 'node_9_demand', 'node_18_demand', 'link_18_flow', 'link_16_flow', 'node_3_demand', 'node_31_demand', 'reservoir_demand']]\n",
      "starting df shape: (87600, 17)\n",
      "This is training run 6 and has the shape:  (87600, 17)\n",
      "The value of dropped columns is 80\n"
     ]
    },
    {
     "name": "stderr",
     "output_type": "stream",
     "text": [
      "/Users/alexellard/opt/anaconda3/lib/python3.7/site-packages/xgboost/data.py:96: UserWarning: Use subset (sliced data) of np.ndarray is not recommended because it will generate extra copies and increase memory consumption\n",
      "  \"because it will generate extra copies and increase \" +\n"
     ]
    },
    {
     "name": "stdout",
     "output_type": "stream",
     "text": [
      "test y shape : (17520, 1)\n",
      "Inv y shape : (17520, 17)\n"
     ]
    },
    {
     "name": "stderr",
     "output_type": "stream",
     "text": [
      "/Users/alexellard/opt/anaconda3/lib/python3.7/site-packages/xgboost/data.py:96: UserWarning: Use subset (sliced data) of np.ndarray is not recommended because it will generate extra copies and increase memory consumption\n",
      "  \"because it will generate extra copies and increase \" +\n"
     ]
    },
    {
     "name": "stdout",
     "output_type": "stream",
     "text": [
      "test y shape : (17520, 1)\n",
      "Inv y shape : (17520, 17)\n",
      "y pred shape : (17520, 1)\n",
      "inv y pred : (17520, 17)\n",
      "Run 6 Mean Absolute Error: 0.3297476356764431\n",
      "RMSE: 0.450\n",
      "R^2: 1.000\n",
      "[['node_22_pressure', 'node_1_demand', 'link_9_flow', 'link_12_flow', 'node_10_pressure', 'node_25_demand', 'node_18_pressure', 'node_14_pressure', 'node_9_demand', 'node_23_demand', 'node_3_pressure', 'node_23_pressure', 'node_24_demand', 'node_1_pressure', 'link_3_flow', 'node_27_demand', 'link_1_flow', 'link_17_flow', 'node_11_pressure', 'link_29_flow', 'node_26_demand', 'node_12_demand', 'link_30_flow', 'node_28_pressure', 'node_5_pressure', 'node_4_pressure', 'link_2_flow', 'link_10_flow', 'node_19_demand', 'node_8_demand', 'node_30_pressure', 'node_21_demand', 'node_2_pressure', 'node_31_pressure', 'node_21_pressure', 'node_29_demand', 'node_15_pressure', 'link_19_flow', 'node_11_demand', 'node_12_pressure', 'link_6_flow', 'node_9_pressure', 'node_6_pressure', 'link_16_flow', 'link_11_flow', 'node_25_pressure', 'link_18_flow', 'node_17_demand', 'node_8_pressure', 'node_4_demand', 'link_23_flow', 'node_3_demand', 'node_28_demand', 'node_7_demand', 'link_21_flow', 'link_7_flow', 'node_27_pressure', 'node_19_pressure', 'link_20_flow', 'link_28_flow', 'node_6_demand', 'node_20_pressure', 'node_16_demand', 'link_5_flow', 'link_4_flow', 'link_13_flow', 'node_20_demand', 'node_2_demand', 'link_25_flow', 'node_15_demand', 'node_13_pressure', 'reservoir_demand', 'reservoir_pressure', 'node_13_demand', 'link_15_flow', 'node_18_demand', 'link_24_flow', 'node_31_demand', 'node_26_pressure']]\n",
      "starting df shape: (87600, 17)\n",
      "This is training run 7 and has the shape:  (87600, 17)\n",
      "The value of dropped columns is 80\n"
     ]
    },
    {
     "name": "stderr",
     "output_type": "stream",
     "text": [
      "/Users/alexellard/opt/anaconda3/lib/python3.7/site-packages/xgboost/data.py:96: UserWarning: Use subset (sliced data) of np.ndarray is not recommended because it will generate extra copies and increase memory consumption\n",
      "  \"because it will generate extra copies and increase \" +\n"
     ]
    },
    {
     "name": "stdout",
     "output_type": "stream",
     "text": [
      "test y shape : (17520, 1)\n",
      "Inv y shape : (17520, 17)\n"
     ]
    },
    {
     "name": "stderr",
     "output_type": "stream",
     "text": [
      "/Users/alexellard/opt/anaconda3/lib/python3.7/site-packages/xgboost/data.py:96: UserWarning: Use subset (sliced data) of np.ndarray is not recommended because it will generate extra copies and increase memory consumption\n",
      "  \"because it will generate extra copies and increase \" +\n"
     ]
    },
    {
     "name": "stdout",
     "output_type": "stream",
     "text": [
      "test y shape : (17520, 1)\n",
      "Inv y shape : (17520, 17)\n",
      "y pred shape : (17520, 1)\n",
      "inv y pred : (17520, 17)\n",
      "Run 7 Mean Absolute Error: 0.4614300553114973\n",
      "RMSE: 0.619\n",
      "R^2: 1.000\n",
      "[['node_16_demand', 'node_6_pressure', 'node_29_demand', 'node_28_pressure', 'link_23_flow', 'node_27_pressure', 'link_22_flow', 'link_4_flow', 'node_3_demand', 'link_20_flow', 'node_14_pressure', 'node_5_pressure', 'node_30_pressure', 'node_15_pressure', 'node_23_demand', 'link_10_flow', 'link_6_flow', 'node_16_pressure', 'node_9_demand', 'reservoir_demand', 'link_24_flow', 'node_8_demand', 'node_12_demand', 'link_13_flow', 'reservoir_pressure', 'node_17_demand', 'node_30_demand', 'node_31_pressure', 'link_9_flow', 'node_31_demand', 'node_28_demand', 'node_21_demand', 'node_24_pressure', 'node_23_pressure', 'node_8_pressure', 'link_19_flow', 'node_21_pressure', 'link_5_flow', 'node_22_pressure', 'node_5_demand', 'link_27_flow', 'link_29_flow', 'node_1_pressure', 'node_2_demand', 'link_18_flow', 'link_11_flow', 'node_22_demand', 'node_13_pressure', 'node_4_pressure', 'link_12_flow', 'link_15_flow', 'node_15_demand', 'node_6_demand', 'node_24_demand', 'node_17_pressure', 'link_28_flow', 'link_1_flow', 'link_25_flow', 'node_18_pressure', 'link_3_flow', 'link_14_flow', 'node_26_pressure', 'link_16_flow', 'link_7_flow', 'link_8_flow', 'node_19_demand', 'link_32_flow', 'node_7_pressure', 'node_25_pressure', 'node_7_demand', 'link_30_flow', 'node_26_demand', 'node_25_demand', 'link_21_flow', 'node_10_demand', 'node_11_demand', 'node_13_demand', 'node_2_pressure', 'node_3_pressure']]\n",
      "starting df shape: (87600, 17)\n",
      "This is training run 8 and has the shape:  (87600, 17)\n",
      "The value of dropped columns is 80\n"
     ]
    },
    {
     "name": "stderr",
     "output_type": "stream",
     "text": [
      "/Users/alexellard/opt/anaconda3/lib/python3.7/site-packages/xgboost/data.py:96: UserWarning: Use subset (sliced data) of np.ndarray is not recommended because it will generate extra copies and increase memory consumption\n",
      "  \"because it will generate extra copies and increase \" +\n"
     ]
    },
    {
     "name": "stdout",
     "output_type": "stream",
     "text": [
      "test y shape : (17520, 1)\n",
      "Inv y shape : (17520, 17)\n"
     ]
    },
    {
     "name": "stderr",
     "output_type": "stream",
     "text": [
      "/Users/alexellard/opt/anaconda3/lib/python3.7/site-packages/xgboost/data.py:96: UserWarning: Use subset (sliced data) of np.ndarray is not recommended because it will generate extra copies and increase memory consumption\n",
      "  \"because it will generate extra copies and increase \" +\n"
     ]
    },
    {
     "name": "stdout",
     "output_type": "stream",
     "text": [
      "test y shape : (17520, 1)\n",
      "Inv y shape : (17520, 17)\n",
      "y pred shape : (17520, 1)\n",
      "inv y pred : (17520, 17)\n",
      "Run 8 Mean Absolute Error: 1.0489412630085466\n",
      "RMSE: 1.445\n",
      "R^2: 1.000\n",
      "[['link_18_flow', 'node_14_demand', 'node_31_pressure', 'node_21_pressure', 'link_10_flow', 'node_17_pressure', 'node_25_demand', 'node_12_demand', 'node_23_demand', 'link_25_flow', 'node_26_demand', 'link_13_flow', 'node_30_demand', 'link_20_flow', 'node_18_demand', 'link_19_flow', 'node_5_pressure', 'node_13_pressure', 'node_11_demand', 'link_29_flow', 'node_3_pressure', 'link_21_flow', 'node_15_pressure', 'node_24_pressure', 'node_21_demand', 'node_2_pressure', 'node_8_pressure', 'node_6_demand', 'node_17_demand', 'link_14_flow', 'link_11_flow', 'node_19_demand', 'node_1_pressure', 'node_24_demand', 'link_8_flow', 'node_7_pressure', 'node_9_demand', 'node_3_demand', 'link_24_flow', 'link_4_flow', 'node_15_demand', 'node_16_demand', 'node_20_pressure', 'node_12_pressure', 'node_28_demand', 'link_5_flow', 'link_32_flow', 'node_22_demand', 'link_31_flow', 'node_4_demand', 'node_1_demand', 'node_25_pressure', 'link_6_flow', 'node_10_pressure', 'link_2_flow', 'node_20_demand', 'link_15_flow', 'node_2_demand', 'node_30_pressure', 'link_12_flow', 'reservoir_demand', 'node_27_pressure', 'node_18_pressure', 'node_11_pressure', 'link_23_flow', 'node_5_demand', 'node_10_demand', 'node_22_pressure', 'node_26_pressure', 'link_22_flow', 'link_30_flow', 'link_27_flow', 'link_26_flow', 'node_14_pressure', 'link_3_flow', 'node_7_demand', 'link_7_flow', 'node_29_demand', 'node_16_pressure']]\n",
      "starting df shape: (87600, 17)\n",
      "This is training run 9 and has the shape:  (87600, 17)\n",
      "The value of dropped columns is 80\n"
     ]
    },
    {
     "name": "stderr",
     "output_type": "stream",
     "text": [
      "/Users/alexellard/opt/anaconda3/lib/python3.7/site-packages/xgboost/data.py:96: UserWarning: Use subset (sliced data) of np.ndarray is not recommended because it will generate extra copies and increase memory consumption\n",
      "  \"because it will generate extra copies and increase \" +\n"
     ]
    },
    {
     "name": "stdout",
     "output_type": "stream",
     "text": [
      "test y shape : (17520, 1)\n",
      "Inv y shape : (17520, 17)\n"
     ]
    },
    {
     "name": "stderr",
     "output_type": "stream",
     "text": [
      "/Users/alexellard/opt/anaconda3/lib/python3.7/site-packages/xgboost/data.py:96: UserWarning: Use subset (sliced data) of np.ndarray is not recommended because it will generate extra copies and increase memory consumption\n",
      "  \"because it will generate extra copies and increase \" +\n"
     ]
    },
    {
     "name": "stdout",
     "output_type": "stream",
     "text": [
      "test y shape : (17520, 1)\n",
      "Inv y shape : (17520, 17)\n",
      "y pred shape : (17520, 1)\n",
      "inv y pred : (17520, 17)\n",
      "Run 9 Mean Absolute Error: 0.18241756853697547\n",
      "RMSE: 0.267\n",
      "R^2: 1.000\n",
      "[['node_29_demand', 'node_4_demand', 'node_4_pressure', 'node_28_pressure', 'link_26_flow', 'node_7_demand', 'link_10_flow', 'node_15_pressure', 'link_25_flow', 'reservoir_demand', 'link_11_flow', 'link_13_flow', 'node_11_demand', 'node_20_pressure', 'link_23_flow', 'node_22_pressure', 'link_14_flow', 'node_18_pressure', 'node_23_pressure', 'node_21_pressure', 'node_7_pressure', 'link_21_flow', 'node_2_demand', 'node_15_demand', 'node_16_pressure', 'node_13_demand', 'node_6_demand', 'node_26_pressure', 'link_31_flow', 'node_10_demand', 'node_8_pressure', 'node_23_demand', 'link_30_flow', 'node_19_pressure', 'node_3_pressure', 'node_26_demand', 'node_12_pressure', 'link_3_flow', 'node_9_demand', 'reservoir_pressure', 'node_9_pressure', 'node_30_pressure', 'node_19_demand', 'node_17_demand', 'node_28_demand', 'node_21_demand', 'link_2_flow', 'link_28_flow', 'link_12_flow', 'link_9_flow', 'node_22_demand', 'node_11_pressure', 'node_25_demand', 'link_16_flow', 'node_14_demand', 'node_14_pressure', 'node_5_demand', 'link_6_flow', 'node_8_demand', 'link_24_flow', 'node_27_demand', 'link_17_flow', 'node_18_demand', 'node_31_demand', 'link_22_flow', 'link_27_flow', 'node_25_pressure', 'node_13_pressure', 'node_1_demand', 'link_7_flow', 'node_17_pressure', 'node_24_demand', 'link_32_flow', 'link_4_flow', 'node_16_demand', 'link_1_flow', 'node_31_pressure', 'node_1_pressure', 'link_5_flow', 'node_3_demand']]\n",
      "starting df shape: (87600, 16)\n",
      "This is training run 10 and has the shape:  (87600, 16)\n",
      "The value of dropped columns is 80\n"
     ]
    },
    {
     "name": "stderr",
     "output_type": "stream",
     "text": [
      "/Users/alexellard/opt/anaconda3/lib/python3.7/site-packages/xgboost/data.py:96: UserWarning: Use subset (sliced data) of np.ndarray is not recommended because it will generate extra copies and increase memory consumption\n",
      "  \"because it will generate extra copies and increase \" +\n"
     ]
    },
    {
     "name": "stdout",
     "output_type": "stream",
     "text": [
      "test y shape : (17520, 1)\n",
      "Inv y shape : (17520, 16)\n"
     ]
    },
    {
     "name": "stderr",
     "output_type": "stream",
     "text": [
      "/Users/alexellard/opt/anaconda3/lib/python3.7/site-packages/xgboost/data.py:96: UserWarning: Use subset (sliced data) of np.ndarray is not recommended because it will generate extra copies and increase memory consumption\n",
      "  \"because it will generate extra copies and increase \" +\n"
     ]
    },
    {
     "name": "stdout",
     "output_type": "stream",
     "text": [
      "test y shape : (17520, 1)\n",
      "Inv y shape : (17520, 16)\n",
      "y pred shape : (17520, 1)\n",
      "inv y pred : (17520, 16)\n",
      "Run 10 Mean Absolute Error: 0.49849225324987845\n",
      "RMSE: 0.695\n",
      "R^2: 1.000\n",
      "Length MAE_average:  17\n",
      "Length sensors_covered:  17\n"
     ]
    }
   ],
   "source": [
    "#average scores pressure node 29\n",
    "\n",
    "MAE_average = []\n",
    "RMSE_average = []\n",
    "R2_average = []\n",
    "maximum_MAE = []\n",
    "sensors_covered = []\n",
    "n_columns_to_drop = [0, 5, 10, 15, 20, 25, 30, 35, 40, 45, 50, 55, 60, 65, 70, 75, 80]\n",
    "for n in n_columns_to_drop:\n",
    "    MAE = []\n",
    "    RMSE = []\n",
    "    R2 = []\n",
    "    for run in range(1,11):\n",
    "        Y = df[df.columns[61]]\n",
    "        X = df.drop(columns=['node_29_pressure'])\n",
    "        X['node_29_pressure'] = Y\n",
    "        columns = []\n",
    "        columns_to_drop = random.sample(list(X.columns), n)\n",
    "        # Drop the selected columns from the dataframe\n",
    "        if X.columns[-1] in columns_to_drop:\n",
    "            columns_to_drop.remove(X.columns[-1])\n",
    "        X.drop(columns_to_drop, axis=1, inplace=True)\n",
    "        columns.append(columns_to_drop)\n",
    "        print(columns)\n",
    "        print('starting df shape:', X.shape)\n",
    "        print(f'This is training run {run} and has the shape: ', X.shape)\n",
    "        print(f'The value of dropped columns is {n}')\n",
    "\n",
    "        values = X.values\n",
    "        scaler = MinMaxScaler(feature_range=(0, 1))\n",
    "        scaled = scaler.fit_transform(values)\n",
    "        train, test = train_test_split(scaled, test_size=0.2, random_state=0)\n",
    "\n",
    "        # split into input and outputs\n",
    "        train_X, train_y = train[:, :-1], train[:, -1]\n",
    "        test_X, test_y = test[:, :-1], test[:, -1]\n",
    "\n",
    "        #define model\n",
    "        model = xgb.XGBRegressor(\n",
    "            objective='reg:squarederror',\n",
    "            n_estimators=100,\n",
    "            max_depth=6,\n",
    "            learning_rate=0.1,\n",
    "            subsample=0.9,\n",
    "            colsample_bytree=0.8,\n",
    "            random_state=42\n",
    "        )\n",
    "\n",
    "        # fit the model on the training data\n",
    "        model.fit(train_X, train_y)\n",
    "\n",
    "        # make predictions on the test data\n",
    "        y_pred = model.predict(test_X)\n",
    "\n",
    "        test_y = test_y.reshape((len(test_y), 1))\n",
    "        print('test y shape :', test_y.shape)\n",
    "        inv_test_y = concatenate((test_y, test_X[:, -X.shape[1]:]), axis=1)\n",
    "        print('Inv y shape :', inv_test_y.shape)\n",
    "        test_y_inverse = scaler.inverse_transform(inv_test_y)\n",
    "        test_y_inverse = test_y_inverse[:,0]\n",
    "\n",
    "        scaled = scaler.fit_transform(values)\n",
    "        train, test = train_test_split(scaled, test_size=0.2, random_state=0)\n",
    "\n",
    "        # split into input and outputs\n",
    "        train_X, train_y = train[:, :-1], train[:, -1]\n",
    "        test_X, test_y = test[:, :-1], test[:, -1]\n",
    "\n",
    "        #define model\n",
    "        model = xgb.XGBRegressor(\n",
    "            objective='reg:squarederror',\n",
    "            n_estimators=100,\n",
    "            max_depth=6,\n",
    "            learning_rate=0.1,\n",
    "            subsample=0.9,\n",
    "            colsample_bytree=0.8,\n",
    "            random_state=42\n",
    "        )\n",
    "\n",
    "        # fit the model on the training data\n",
    "        model.fit(train_X, train_y)\n",
    "\n",
    "        # make predictions on the test data\n",
    "        y_pred = model.predict(test_X)\n",
    "\n",
    "        test_y = test_y.reshape((len(test_y), 1))\n",
    "        print('test y shape :', test_y.shape)\n",
    "        inv_test_y = concatenate((test_y, test_X[:, -X.shape[1]:]), axis=1)\n",
    "        print('Inv y shape :', inv_test_y.shape)\n",
    "        test_y_inverse = scaler.inverse_transform(inv_test_y)\n",
    "        test_y_inverse = test_y_inverse[:,0]\n",
    "\n",
    "        y_pred = y_pred.reshape((len(y_pred), 1))\n",
    "        print('y pred shape :', y_pred.shape)\n",
    "        inv_y_pred = concatenate((y_pred, test_X[:, -X.shape[1]:]), axis=1)\n",
    "        print('inv y pred :', inv_y_pred.shape)\n",
    "        y_pred_inverse = scaler.inverse_transform(inv_y_pred)\n",
    "        y_pred_inverse = y_pred_inverse[:,0]\n",
    "\n",
    "        # evaluate scaled errors\n",
    "        mae_inverse = mean_absolute_error(test_y_inverse, y_pred_inverse)\n",
    "        MAE.append(mae_inverse)\n",
    "        print(f'Run {run} Mean Absolute Error:', mae_inverse)\n",
    "        rmse_inverse = sqrt(mean_squared_error(test_y_inverse, y_pred_inverse))\n",
    "        RMSE.append(rmse_inverse)\n",
    "        print('RMSE: %.3f' % rmse_inverse)\n",
    "        r2_inverse = r2_score(test_y_inverse, y_pred_inverse)\n",
    "        R2.append(r2_inverse)\n",
    "        print('R^2: %.3f' % r2_inverse)\n",
    "    percentage_list = round(X.shape[1] / 96 * 100)\n",
    "    sensors_covered.append(percentage_list)\n",
    "    MAE_mean = mean(MAE)\n",
    "    RMSE_mean = mean(RMSE)\n",
    "    R2_mean = mean(R2)\n",
    "    max_MAE = max(MAE)\n",
    "    maximum_MAE.append(max_MAE)\n",
    "    MAE_average.append(MAE_mean)\n",
    "    RMSE_average.append(RMSE_mean)\n",
    "    R2_average.append(R2_mean)\n",
    "print('Length MAE_average: ', len(MAE_average))\n",
    "print('Length sensors_covered: ', len(sensors_covered))"
   ]
  },
  {
   "cell_type": "code",
   "execution_count": 6,
   "metadata": {},
   "outputs": [
    {
     "data": {
      "image/png": "[encoded data removed]",
      "text/plain": [
       "<Figure size 432x288 with 1 Axes>"
      ]
     },
     "metadata": {
      "needs_background": "light"
     },
     "output_type": "display_data"
    }
   ],
   "source": [
    "#run this after cell above finishes training \n",
    "plt.plot(sensors_covered, maximum_MAE)\n",
    "plt.ylabel(\"Mean Absolute Error\")\n",
    "plt.xlabel(\"Sensor Cover %\")\n",
    "plt.title(\"MAE vs. Coverage Pressures node 29\")\n",
    "plt.xlim([100, 0])\n",
    "#plt.savefig('/Users/alexellard/Downloads/Node29Pressure.png')\n",
    "plt.show()"
   ]
  },
  {
   "cell_type": "code",
   "execution_count": 7,
   "metadata": {},
   "outputs": [
    {
     "data": {
      "image/png": "[encoded data removed]",
      "text/plain": [
       "<Figure size 432x288 with 1 Axes>"
      ]
     },
     "metadata": {
      "needs_background": "light"
     },
     "output_type": "display_data"
    }
   ],
   "source": [
    "#run this after cell above finishes training \n",
    "plt.plot(sensors_covered, MAE_average)\n",
    "plt.ylabel(\"Mean Absolute Error\")\n",
    "plt.xlabel(\"Sensor Cover %\")\n",
    "plt.title(\"MAE vs. Coverage Pressures node 29\")\n",
    "plt.xlim([100, 0])\n",
    "#plt.savefig('/Users/alexellard/Downloads/Link16FlowsMax.png')\n",
    "plt.show()"
   ]
  },
  {
   "cell_type": "code",
   "execution_count": 10,
   "metadata": {},
   "outputs": [
    {
     "data": {
      "image/png": "[encoded data removed]",
      "text/plain": [
       "<Figure size 576x360 with 2 Axes>"
      ]
     },
     "metadata": {
      "needs_background": "light"
     },
     "output_type": "display_data"
    }
   ],
   "source": [
    "# Create the plot and specify the figure size\n",
    "fig, ax1 = plt.subplots(figsize=(8, 5))\n",
    "\n",
    "# Plot the first line\n",
    "ax1.plot(sensors_covered, maximum_MAE, 'b-', label='Mean Absolute Error')\n",
    "ax1.set_xlabel('Sensor Cover %')\n",
    "ax1.set_ylabel('MAE')\n",
    "\n",
    "# Create a second y-axis\n",
    "ax2 = ax1.twinx()\n",
    "\n",
    "# Plot the second line\n",
    "ax2.plot(sensors_covered, R2_average, 'r-', label='R2')\n",
    "ax2.set_ylabel('R2')\n",
    "\n",
    "# Show legends for both lines\n",
    "lines = [ax1.get_lines()[0], ax2.get_lines()[0]]\n",
    "ax1.legend(lines, [line.get_label() for line in lines])\n",
    "\n",
    "# Show the plot\n",
    "plt.title(\"MAE & R2 vs. Coverage Node 16 Flows\")\n",
    "plt.xlim([100, 0])\n",
    "plt.savefig('/Users/alexellard/Downloads/MAER2Pressure.png')\n",
    "plt.show()\n"
   ]
  },
  {
   "cell_type": "code",
   "execution_count": null,
   "metadata": {},
   "outputs": [],
   "source": []
  }
 ],
 "metadata": {
  "kernelspec": {
   "display_name": "Python 3",
   "language": "python",
   "name": "python3"
  },
  "language_info": {
   "codemirror_mode": {
    "name": "ipython",
    "version": 3
   },
   "file_extension": ".py",
   "mimetype": "text/x-python",
   "name": "python",
   "nbconvert_exporter": "python",
   "pygments_lexer": "ipython3",
   "version": "3.7.4"
  }
 },
 "nbformat": 4,
 "nbformat_minor": 2
}
