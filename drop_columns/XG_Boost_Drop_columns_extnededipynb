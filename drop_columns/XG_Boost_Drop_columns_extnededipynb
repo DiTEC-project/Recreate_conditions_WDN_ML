{
 "cells": [
  {
   "cell_type": "code",
   "execution_count": 1,
   "metadata": {},
   "outputs": [
    {
     "name": "stderr",
     "output_type": "stream",
     "text": [
      "/Users/alexellard/opt/anaconda3/lib/python3.7/site-packages/dask/dataframe/utils.py:14: FutureWarning: pandas.util.testing is deprecated. Use the functions in the public API at pandas.testing instead.\n",
      "  import pandas.util.testing as tm\n"
     ]
    }
   ],
   "source": [
    "import xgboost as xgb\n",
    "import pandas as pd\n",
    "import numpy as np\n",
    "from sklearn.preprocessing import LabelEncoder\n",
    "from sklearn.preprocessing import MinMaxScaler\n",
    "from sklearn.model_selection import train_test_split\n",
    "from sklearn.metrics import mean_squared_error, mean_absolute_error, r2_score\n",
    "from numpy import concatenate\n",
    "from math import sqrt\n",
    "import random\n",
    "import matplotlib.pyplot as plt"
   ]
  },
  {
   "cell_type": "code",
   "execution_count": 2,
   "metadata": {},
   "outputs": [
    {
     "data": {
      "text/html": [
       "<div>\n",
       "<style scoped>\n",
       "    .dataframe tbody tr th:only-of-type {\n",
       "        vertical-align: middle;\n",
       "    }\n",
       "\n",
       "    .dataframe tbody tr th {\n",
       "        vertical-align: top;\n",
       "    }\n",
       "\n",
       "    .dataframe thead th {\n",
       "        text-align: right;\n",
       "    }\n",
       "</style>\n",
       "<table border=\"1\" class=\"dataframe\">\n",
       "  <thead>\n",
       "    <tr style=\"text-align: right;\">\n",
       "      <th></th>\n",
       "      <th>reservoir_demand</th>\n",
       "      <th>node_1_demand</th>\n",
       "      <th>node_2_demand</th>\n",
       "      <th>node_3_demand</th>\n",
       "      <th>node_4_demand</th>\n",
       "      <th>node_5_demand</th>\n",
       "      <th>node_6_demand</th>\n",
       "      <th>node_7_demand</th>\n",
       "      <th>node_8_demand</th>\n",
       "      <th>node_9_demand</th>\n",
       "      <th>...</th>\n",
       "      <th>link_23_flow</th>\n",
       "      <th>link_24_flow</th>\n",
       "      <th>link_25_flow</th>\n",
       "      <th>link_26_flow</th>\n",
       "      <th>link_27_flow</th>\n",
       "      <th>link_28_flow</th>\n",
       "      <th>link_29_flow</th>\n",
       "      <th>link_30_flow</th>\n",
       "      <th>link_31_flow</th>\n",
       "      <th>link_32_flow</th>\n",
       "    </tr>\n",
       "    <tr>\n",
       "      <th>Timestamp</th>\n",
       "      <th></th>\n",
       "      <th></th>\n",
       "      <th></th>\n",
       "      <th></th>\n",
       "      <th></th>\n",
       "      <th></th>\n",
       "      <th></th>\n",
       "      <th></th>\n",
       "      <th></th>\n",
       "      <th></th>\n",
       "      <th></th>\n",
       "      <th></th>\n",
       "      <th></th>\n",
       "      <th></th>\n",
       "      <th></th>\n",
       "      <th></th>\n",
       "      <th></th>\n",
       "      <th></th>\n",
       "      <th></th>\n",
       "      <th></th>\n",
       "      <th></th>\n",
       "    </tr>\n",
       "  </thead>\n",
       "  <tbody>\n",
       "    <tr>\n",
       "      <th>2017-01-01 00:00:00</th>\n",
       "      <td>-3348.0</td>\n",
       "      <td>154.8</td>\n",
       "      <td>169.2</td>\n",
       "      <td>18.0</td>\n",
       "      <td>118.8</td>\n",
       "      <td>169.2</td>\n",
       "      <td>234.0</td>\n",
       "      <td>86.4</td>\n",
       "      <td>82.8</td>\n",
       "      <td>104.4</td>\n",
       "      <td>...</td>\n",
       "      <td>439.2</td>\n",
       "      <td>-205.2</td>\n",
       "      <td>-75.6</td>\n",
       "      <td>-18.0</td>\n",
       "      <td>118.8</td>\n",
       "      <td>68.4</td>\n",
       "      <td>7.2</td>\n",
       "      <td>-54.0</td>\n",
       "      <td>75.6</td>\n",
       "      <td>212.4</td>\n",
       "    </tr>\n",
       "    <tr>\n",
       "      <th>2017-01-01 00:30:00</th>\n",
       "      <td>-2959.2</td>\n",
       "      <td>136.8</td>\n",
       "      <td>147.6</td>\n",
       "      <td>18.0</td>\n",
       "      <td>108.0</td>\n",
       "      <td>144.0</td>\n",
       "      <td>237.6</td>\n",
       "      <td>79.2</td>\n",
       "      <td>75.6</td>\n",
       "      <td>90.0</td>\n",
       "      <td>...</td>\n",
       "      <td>392.4</td>\n",
       "      <td>-187.2</td>\n",
       "      <td>-72.0</td>\n",
       "      <td>-21.6</td>\n",
       "      <td>108.0</td>\n",
       "      <td>61.2</td>\n",
       "      <td>3.6</td>\n",
       "      <td>-54.0</td>\n",
       "      <td>72.0</td>\n",
       "      <td>183.6</td>\n",
       "    </tr>\n",
       "    <tr>\n",
       "      <th>2017-01-01 01:00:00</th>\n",
       "      <td>-2692.8</td>\n",
       "      <td>129.6</td>\n",
       "      <td>126.0</td>\n",
       "      <td>14.4</td>\n",
       "      <td>104.4</td>\n",
       "      <td>133.2</td>\n",
       "      <td>205.2</td>\n",
       "      <td>72.0</td>\n",
       "      <td>72.0</td>\n",
       "      <td>90.0</td>\n",
       "      <td>...</td>\n",
       "      <td>349.2</td>\n",
       "      <td>-176.4</td>\n",
       "      <td>-64.8</td>\n",
       "      <td>-18.0</td>\n",
       "      <td>93.6</td>\n",
       "      <td>50.4</td>\n",
       "      <td>3.6</td>\n",
       "      <td>-39.6</td>\n",
       "      <td>54.0</td>\n",
       "      <td>151.2</td>\n",
       "    </tr>\n",
       "    <tr>\n",
       "      <th>2017-01-01 01:30:00</th>\n",
       "      <td>-2379.6</td>\n",
       "      <td>104.4</td>\n",
       "      <td>100.8</td>\n",
       "      <td>10.8</td>\n",
       "      <td>86.4</td>\n",
       "      <td>122.4</td>\n",
       "      <td>180.0</td>\n",
       "      <td>68.4</td>\n",
       "      <td>57.6</td>\n",
       "      <td>82.8</td>\n",
       "      <td>...</td>\n",
       "      <td>316.8</td>\n",
       "      <td>-158.4</td>\n",
       "      <td>-54.0</td>\n",
       "      <td>-10.8</td>\n",
       "      <td>79.2</td>\n",
       "      <td>46.8</td>\n",
       "      <td>7.2</td>\n",
       "      <td>-32.4</td>\n",
       "      <td>50.4</td>\n",
       "      <td>140.4</td>\n",
       "    </tr>\n",
       "    <tr>\n",
       "      <th>2017-01-01 02:00:00</th>\n",
       "      <td>-2228.4</td>\n",
       "      <td>104.4</td>\n",
       "      <td>104.4</td>\n",
       "      <td>10.8</td>\n",
       "      <td>79.2</td>\n",
       "      <td>122.4</td>\n",
       "      <td>183.6</td>\n",
       "      <td>68.4</td>\n",
       "      <td>54.0</td>\n",
       "      <td>75.6</td>\n",
       "      <td>...</td>\n",
       "      <td>277.2</td>\n",
       "      <td>-144.0</td>\n",
       "      <td>-57.6</td>\n",
       "      <td>-18.0</td>\n",
       "      <td>72.0</td>\n",
       "      <td>39.6</td>\n",
       "      <td>7.2</td>\n",
       "      <td>-32.4</td>\n",
       "      <td>43.2</td>\n",
       "      <td>118.8</td>\n",
       "    </tr>\n",
       "    <tr>\n",
       "      <th>...</th>\n",
       "      <td>...</td>\n",
       "      <td>...</td>\n",
       "      <td>...</td>\n",
       "      <td>...</td>\n",
       "      <td>...</td>\n",
       "      <td>...</td>\n",
       "      <td>...</td>\n",
       "      <td>...</td>\n",
       "      <td>...</td>\n",
       "      <td>...</td>\n",
       "      <td>...</td>\n",
       "      <td>...</td>\n",
       "      <td>...</td>\n",
       "      <td>...</td>\n",
       "      <td>...</td>\n",
       "      <td>...</td>\n",
       "      <td>...</td>\n",
       "      <td>...</td>\n",
       "      <td>...</td>\n",
       "      <td>...</td>\n",
       "      <td>...</td>\n",
       "    </tr>\n",
       "    <tr>\n",
       "      <th>2017-12-31 21:30:00</th>\n",
       "      <td>-5306.4</td>\n",
       "      <td>205.2</td>\n",
       "      <td>208.8</td>\n",
       "      <td>39.6</td>\n",
       "      <td>183.6</td>\n",
       "      <td>284.4</td>\n",
       "      <td>316.8</td>\n",
       "      <td>176.4</td>\n",
       "      <td>133.2</td>\n",
       "      <td>129.6</td>\n",
       "      <td>...</td>\n",
       "      <td>604.8</td>\n",
       "      <td>-259.2</td>\n",
       "      <td>32.4</td>\n",
       "      <td>115.2</td>\n",
       "      <td>169.2</td>\n",
       "      <td>100.8</td>\n",
       "      <td>10.8</td>\n",
       "      <td>-100.8</td>\n",
       "      <td>122.4</td>\n",
       "      <td>309.6</td>\n",
       "    </tr>\n",
       "    <tr>\n",
       "      <th>2017-12-31 22:00:00</th>\n",
       "      <td>-4910.4</td>\n",
       "      <td>208.8</td>\n",
       "      <td>183.6</td>\n",
       "      <td>39.6</td>\n",
       "      <td>154.8</td>\n",
       "      <td>252.0</td>\n",
       "      <td>295.2</td>\n",
       "      <td>165.6</td>\n",
       "      <td>133.2</td>\n",
       "      <td>133.2</td>\n",
       "      <td>...</td>\n",
       "      <td>565.2</td>\n",
       "      <td>-241.2</td>\n",
       "      <td>21.6</td>\n",
       "      <td>100.8</td>\n",
       "      <td>154.8</td>\n",
       "      <td>86.4</td>\n",
       "      <td>18.0</td>\n",
       "      <td>-75.6</td>\n",
       "      <td>100.8</td>\n",
       "      <td>288.0</td>\n",
       "    </tr>\n",
       "    <tr>\n",
       "      <th>2017-12-31 22:30:00</th>\n",
       "      <td>-4683.6</td>\n",
       "      <td>187.2</td>\n",
       "      <td>183.6</td>\n",
       "      <td>36.0</td>\n",
       "      <td>147.6</td>\n",
       "      <td>230.4</td>\n",
       "      <td>320.4</td>\n",
       "      <td>147.6</td>\n",
       "      <td>118.8</td>\n",
       "      <td>126.0</td>\n",
       "      <td>...</td>\n",
       "      <td>529.2</td>\n",
       "      <td>-226.8</td>\n",
       "      <td>21.6</td>\n",
       "      <td>100.8</td>\n",
       "      <td>147.6</td>\n",
       "      <td>86.4</td>\n",
       "      <td>14.4</td>\n",
       "      <td>-86.4</td>\n",
       "      <td>108.0</td>\n",
       "      <td>266.4</td>\n",
       "    </tr>\n",
       "    <tr>\n",
       "      <th>2017-12-31 23:00:00</th>\n",
       "      <td>-4262.4</td>\n",
       "      <td>180.0</td>\n",
       "      <td>165.6</td>\n",
       "      <td>32.4</td>\n",
       "      <td>136.8</td>\n",
       "      <td>223.2</td>\n",
       "      <td>241.2</td>\n",
       "      <td>147.6</td>\n",
       "      <td>115.2</td>\n",
       "      <td>111.6</td>\n",
       "      <td>...</td>\n",
       "      <td>496.8</td>\n",
       "      <td>-208.8</td>\n",
       "      <td>21.6</td>\n",
       "      <td>93.6</td>\n",
       "      <td>133.2</td>\n",
       "      <td>79.2</td>\n",
       "      <td>14.4</td>\n",
       "      <td>-75.6</td>\n",
       "      <td>97.2</td>\n",
       "      <td>255.6</td>\n",
       "    </tr>\n",
       "    <tr>\n",
       "      <th>2017-12-31 23:30:00</th>\n",
       "      <td>-3808.8</td>\n",
       "      <td>176.4</td>\n",
       "      <td>169.2</td>\n",
       "      <td>25.2</td>\n",
       "      <td>122.4</td>\n",
       "      <td>201.6</td>\n",
       "      <td>241.2</td>\n",
       "      <td>122.4</td>\n",
       "      <td>100.8</td>\n",
       "      <td>93.6</td>\n",
       "      <td>...</td>\n",
       "      <td>421.2</td>\n",
       "      <td>-180.0</td>\n",
       "      <td>28.8</td>\n",
       "      <td>86.4</td>\n",
       "      <td>118.8</td>\n",
       "      <td>68.4</td>\n",
       "      <td>10.8</td>\n",
       "      <td>-68.4</td>\n",
       "      <td>86.4</td>\n",
       "      <td>216.0</td>\n",
       "    </tr>\n",
       "  </tbody>\n",
       "</table>\n",
       "<p>87600 rows × 96 columns</p>\n",
       "</div>"
      ],
      "text/plain": [
       "                     reservoir_demand  node_1_demand  node_2_demand  \\\n",
       "Timestamp                                                             \n",
       "2017-01-01 00:00:00           -3348.0          154.8          169.2   \n",
       "2017-01-01 00:30:00           -2959.2          136.8          147.6   \n",
       "2017-01-01 01:00:00           -2692.8          129.6          126.0   \n",
       "2017-01-01 01:30:00           -2379.6          104.4          100.8   \n",
       "2017-01-01 02:00:00           -2228.4          104.4          104.4   \n",
       "...                               ...            ...            ...   \n",
       "2017-12-31 21:30:00           -5306.4          205.2          208.8   \n",
       "2017-12-31 22:00:00           -4910.4          208.8          183.6   \n",
       "2017-12-31 22:30:00           -4683.6          187.2          183.6   \n",
       "2017-12-31 23:00:00           -4262.4          180.0          165.6   \n",
       "2017-12-31 23:30:00           -3808.8          176.4          169.2   \n",
       "\n",
       "                     node_3_demand  node_4_demand  node_5_demand  \\\n",
       "Timestamp                                                          \n",
       "2017-01-01 00:00:00           18.0          118.8          169.2   \n",
       "2017-01-01 00:30:00           18.0          108.0          144.0   \n",
       "2017-01-01 01:00:00           14.4          104.4          133.2   \n",
       "2017-01-01 01:30:00           10.8           86.4          122.4   \n",
       "2017-01-01 02:00:00           10.8           79.2          122.4   \n",
       "...                            ...            ...            ...   \n",
       "2017-12-31 21:30:00           39.6          183.6          284.4   \n",
       "2017-12-31 22:00:00           39.6          154.8          252.0   \n",
       "2017-12-31 22:30:00           36.0          147.6          230.4   \n",
       "2017-12-31 23:00:00           32.4          136.8          223.2   \n",
       "2017-12-31 23:30:00           25.2          122.4          201.6   \n",
       "\n",
       "                     node_6_demand  node_7_demand  node_8_demand  \\\n",
       "Timestamp                                                          \n",
       "2017-01-01 00:00:00          234.0           86.4           82.8   \n",
       "2017-01-01 00:30:00          237.6           79.2           75.6   \n",
       "2017-01-01 01:00:00          205.2           72.0           72.0   \n",
       "2017-01-01 01:30:00          180.0           68.4           57.6   \n",
       "2017-01-01 02:00:00          183.6           68.4           54.0   \n",
       "...                            ...            ...            ...   \n",
       "2017-12-31 21:30:00          316.8          176.4          133.2   \n",
       "2017-12-31 22:00:00          295.2          165.6          133.2   \n",
       "2017-12-31 22:30:00          320.4          147.6          118.8   \n",
       "2017-12-31 23:00:00          241.2          147.6          115.2   \n",
       "2017-12-31 23:30:00          241.2          122.4          100.8   \n",
       "\n",
       "                     node_9_demand  ...  link_23_flow  link_24_flow  \\\n",
       "Timestamp                           ...                               \n",
       "2017-01-01 00:00:00          104.4  ...         439.2        -205.2   \n",
       "2017-01-01 00:30:00           90.0  ...         392.4        -187.2   \n",
       "2017-01-01 01:00:00           90.0  ...         349.2        -176.4   \n",
       "2017-01-01 01:30:00           82.8  ...         316.8        -158.4   \n",
       "2017-01-01 02:00:00           75.6  ...         277.2        -144.0   \n",
       "...                            ...  ...           ...           ...   \n",
       "2017-12-31 21:30:00          129.6  ...         604.8        -259.2   \n",
       "2017-12-31 22:00:00          133.2  ...         565.2        -241.2   \n",
       "2017-12-31 22:30:00          126.0  ...         529.2        -226.8   \n",
       "2017-12-31 23:00:00          111.6  ...         496.8        -208.8   \n",
       "2017-12-31 23:30:00           93.6  ...         421.2        -180.0   \n",
       "\n",
       "                     link_25_flow  link_26_flow  link_27_flow  link_28_flow  \\\n",
       "Timestamp                                                                     \n",
       "2017-01-01 00:00:00         -75.6         -18.0         118.8          68.4   \n",
       "2017-01-01 00:30:00         -72.0         -21.6         108.0          61.2   \n",
       "2017-01-01 01:00:00         -64.8         -18.0          93.6          50.4   \n",
       "2017-01-01 01:30:00         -54.0         -10.8          79.2          46.8   \n",
       "2017-01-01 02:00:00         -57.6         -18.0          72.0          39.6   \n",
       "...                           ...           ...           ...           ...   \n",
       "2017-12-31 21:30:00          32.4         115.2         169.2         100.8   \n",
       "2017-12-31 22:00:00          21.6         100.8         154.8          86.4   \n",
       "2017-12-31 22:30:00          21.6         100.8         147.6          86.4   \n",
       "2017-12-31 23:00:00          21.6          93.6         133.2          79.2   \n",
       "2017-12-31 23:30:00          28.8          86.4         118.8          68.4   \n",
       "\n",
       "                     link_29_flow  link_30_flow  link_31_flow  link_32_flow  \n",
       "Timestamp                                                                    \n",
       "2017-01-01 00:00:00           7.2         -54.0          75.6         212.4  \n",
       "2017-01-01 00:30:00           3.6         -54.0          72.0         183.6  \n",
       "2017-01-01 01:00:00           3.6         -39.6          54.0         151.2  \n",
       "2017-01-01 01:30:00           7.2         -32.4          50.4         140.4  \n",
       "2017-01-01 02:00:00           7.2         -32.4          43.2         118.8  \n",
       "...                           ...           ...           ...           ...  \n",
       "2017-12-31 21:30:00          10.8        -100.8         122.4         309.6  \n",
       "2017-12-31 22:00:00          18.0         -75.6         100.8         288.0  \n",
       "2017-12-31 22:30:00          14.4         -86.4         108.0         266.4  \n",
       "2017-12-31 23:00:00          14.4         -75.6          97.2         255.6  \n",
       "2017-12-31 23:30:00          10.8         -68.4          86.4         216.0  \n",
       "\n",
       "[87600 rows x 96 columns]"
      ]
     },
     "execution_count": 2,
     "metadata": {},
     "output_type": "execute_result"
    }
   ],
   "source": [
    "df = pd.read_csv('/Users/alexellard/Downloads/scenarios_data.csv', header=0, index_col=0)\n",
    "df"
   ]
  },
  {
   "cell_type": "code",
   "execution_count": 3,
   "metadata": {},
   "outputs": [],
   "source": [
    "# convert series to supervised learning\n",
    "def series_to_supervised(data, n_in, n_out, vars_to_predict=None):\n",
    "    n_vars = data.shape[1]\n",
    "    df = pd.DataFrame(data)\n",
    "    cols, names = list(), list()\n",
    "    # input sequence (t-n, ... t-1)\n",
    "    for i in range(n_in, 0, -1):\n",
    "        cols.append(df.shift(i-1))\n",
    "        names += [('var%d(t-%d)' % (j+1, i)) for j in range(n_vars)]\n",
    "    # forecast sequence (t, t+1, ... t+n)\n",
    "    for i in range(n_out):\n",
    "        cols.append(df[vars_to_predict].shift(-i))\n",
    "        if i == 0:\n",
    "            names += [('var%d(t)' % (j+1)) for j in vars_to_predict]\n",
    "        else:\n",
    "            names += [('var%d(t+%d)' % (j+1, i)) for j in vars_to_predict]\n",
    "    # put it all together\n",
    "    agg = pd.concat(cols, axis=1)\n",
    "    agg.columns = names\n",
    "    return agg\n",
    "\n",
    "values = df.values\n",
    "# ensure all data is float\n",
    "values = values.astype('float32')\n",
    "# normalize features\n",
    "scaler = MinMaxScaler(feature_range=(0, 1))\n",
    "\n",
    "# node 1 indexes\n",
    "target_variable_demand_node1 = [1]\n",
    "target_variable_pressures_node1 = [33]\n",
    "target_variable_flows_node1 = [64]\n",
    "#node 16 indexes\n",
    "target_variable_demand_node16 = [16]\n",
    "target_variable_pressures_node16 = [48]\n",
    "target_variable_flows_node16 = [79]\n",
    "#node 29 indexes\n",
    "target_variable_demand_node29 = [29]\n",
    "target_variable_pressures_node29 = [61]\n",
    "target_variable_flows_node29 = [92]\n",
    "\n",
    "\n",
    "reframed_demand_node1 = series_to_supervised(values, 1, 1, vars_to_predict=target_variable_demand_node1)\n",
    "reframed_pressures_node1 = series_to_supervised(values, 1, 1, vars_to_predict=target_variable_pressures_node1)\n",
    "reframed_flows_node1 = series_to_supervised(values, 1, 1, vars_to_predict=target_variable_flows_node1)\n",
    "\n",
    "reframed_demand_node16 = series_to_supervised(values, 1, 1, vars_to_predict=target_variable_demand_node16)\n",
    "reframed_pressures_node16 = series_to_supervised(values, 1, 1, vars_to_predict=target_variable_pressures_node16)\n",
    "reframed_flows_node16 = series_to_supervised(values, 1, 1, vars_to_predict=target_variable_flows_node16)\n",
    "\n",
    "reframed_demand_node29 = series_to_supervised(values, 1, 1, vars_to_predict=target_variable_demand_node29)\n",
    "reframed_pressures_node29 = series_to_supervised(values, 1, 1, vars_to_predict=target_variable_pressures_node29)\n",
    "reframed_flows_node29 = series_to_supervised(values, 1, 1, vars_to_predict=target_variable_flows_node29)\n",
    "\n",
    "reframed_demand_node1 = reframed_demand_node1.drop(reframed_demand_node1.columns[1], axis=1)\n",
    "reframed_pressures_node1 = reframed_pressures_node1.drop(reframed_pressures_node1.columns[33], axis=1)\n",
    "reframed_flows_node1 = reframed_flows_node1.drop(reframed_flows_node1.columns[64], axis=1)\n",
    "\n",
    "reframed_demand_node16 = reframed_demand_node16.drop(reframed_demand_node16.columns[16], axis=1)\n",
    "reframed_pressures_node16 = reframed_pressures_node16.drop(reframed_pressures_node16.columns[48], axis=1)\n",
    "reframed_flows_node16 = reframed_flows_node16.drop(reframed_flows_node16.columns[79], axis=1)\n",
    "\n",
    "reframed_demand_node29 = reframed_demand_node29.drop(reframed_demand_node29.columns[29], axis=1)\n",
    "reframed_pressures_node29 = reframed_pressures_node29.drop(reframed_pressures_node29.columns[61], axis=1)\n",
    "reframed_flows_node29 = reframed_flows_node29.drop(reframed_flows_node29.columns[92], axis=1)"
   ]
  },
  {
   "cell_type": "code",
   "execution_count": 4,
   "metadata": {},
   "outputs": [],
   "source": [
    "demands = [reframed_demand_node1, reframed_demand_node16, reframed_demand_node29]\n",
    "pressures = [reframed_pressures_node1, reframed_pressures_node16, reframed_pressures_node29]\n",
    "flows = [reframed_flows_node1, reframed_flows_node16, reframed_flows_node29]\n",
    "\n",
    "parameters = [demands, pressures, flows]"
   ]
  },
  {
   "cell_type": "code",
   "execution_count": 5,
   "metadata": {},
   "outputs": [
    {
     "name": "stdout",
     "output_type": "stream",
     "text": [
      "Node shape:  (87600, 88)\n"
     ]
    },
    {
     "name": "stderr",
     "output_type": "stream",
     "text": [
      "/Users/alexellard/opt/anaconda3/lib/python3.7/site-packages/xgboost/data.py:96: UserWarning: Use subset (sliced data) of np.ndarray is not recommended because it will generate extra copies and increase memory consumption\n",
      "  \"because it will generate extra copies and increase \" +\n"
     ]
    },
    {
     "name": "stdout",
     "output_type": "stream",
     "text": [
      "Run 1 Scaled Mean Absolute Error: 0.019258898\n",
      "Run 1 Scaled RMSE: 0.025\n",
      "Run 1 Scaled R^2: 0.977\n",
      "inv_test_y shape: (17520, 88)\n",
      "test_y_inverse: (17520, 88)\n",
      "inv_y_pred: (17520, 88)\n",
      "y_pred_inverse: (17520, 88)\n",
      "Mean Absolute Error: 164.31693\n",
      "RMSE: 213.632\n",
      "R^2: 0.977\n",
      "Node shape:  (87600, 89)\n"
     ]
    },
    {
     "name": "stderr",
     "output_type": "stream",
     "text": [
      "/Users/alexellard/opt/anaconda3/lib/python3.7/site-packages/xgboost/data.py:96: UserWarning: Use subset (sliced data) of np.ndarray is not recommended because it will generate extra copies and increase memory consumption\n",
      "  \"because it will generate extra copies and increase \" +\n"
     ]
    },
    {
     "name": "stdout",
     "output_type": "stream",
     "text": [
      "Run 1 Scaled Mean Absolute Error: 0.008246268\n",
      "Run 1 Scaled RMSE: 0.011\n",
      "Run 1 Scaled R^2: 0.996\n",
      "inv_test_y shape: (17520, 89)\n",
      "test_y_inverse: (17520, 89)\n",
      "inv_y_pred: (17520, 89)\n",
      "y_pred_inverse: (17520, 89)\n",
      "Mean Absolute Error: 70.35716\n",
      "RMSE: 91.161\n",
      "R^2: 0.996\n",
      "Node shape:  (87600, 88)\n"
     ]
    },
    {
     "name": "stderr",
     "output_type": "stream",
     "text": [
      "/Users/alexellard/opt/anaconda3/lib/python3.7/site-packages/xgboost/data.py:96: UserWarning: Use subset (sliced data) of np.ndarray is not recommended because it will generate extra copies and increase memory consumption\n",
      "  \"because it will generate extra copies and increase \" +\n"
     ]
    },
    {
     "name": "stdout",
     "output_type": "stream",
     "text": [
      "Run 1 Scaled Mean Absolute Error: 0.008098621\n",
      "Run 1 Scaled RMSE: 0.011\n",
      "Run 1 Scaled R^2: 0.996\n",
      "inv_test_y shape: (17520, 88)\n",
      "test_y_inverse: (17520, 88)\n",
      "inv_y_pred: (17520, 88)\n",
      "y_pred_inverse: (17520, 88)\n",
      "Mean Absolute Error: 69.097435\n",
      "RMSE: 90.529\n",
      "R^2: 0.996\n",
      "Node shape:  (87600, 88)\n"
     ]
    },
    {
     "name": "stderr",
     "output_type": "stream",
     "text": [
      "/Users/alexellard/opt/anaconda3/lib/python3.7/site-packages/xgboost/data.py:96: UserWarning: Use subset (sliced data) of np.ndarray is not recommended because it will generate extra copies and increase memory consumption\n",
      "  \"because it will generate extra copies and increase \" +\n"
     ]
    },
    {
     "name": "stdout",
     "output_type": "stream",
     "text": [
      "Run 1 Scaled Mean Absolute Error: 0.0012384122\n",
      "Run 1 Scaled RMSE: 0.002\n",
      "Run 1 Scaled R^2: 1.000\n",
      "inv_test_y shape: (17520, 88)\n",
      "test_y_inverse: (17520, 88)\n",
      "inv_y_pred: (17520, 88)\n",
      "y_pred_inverse: (17520, 88)\n",
      "Mean Absolute Error: 10.566136\n",
      "RMSE: 17.471\n",
      "R^2: 1.000\n",
      "Node shape:  (87600, 88)\n"
     ]
    },
    {
     "name": "stderr",
     "output_type": "stream",
     "text": [
      "/Users/alexellard/opt/anaconda3/lib/python3.7/site-packages/xgboost/data.py:96: UserWarning: Use subset (sliced data) of np.ndarray is not recommended because it will generate extra copies and increase memory consumption\n",
      "  \"because it will generate extra copies and increase \" +\n"
     ]
    },
    {
     "name": "stdout",
     "output_type": "stream",
     "text": [
      "Run 1 Scaled Mean Absolute Error: 0.0009163912\n",
      "Run 1 Scaled RMSE: 0.001\n",
      "Run 1 Scaled R^2: 1.000\n",
      "inv_test_y shape: (17520, 88)\n",
      "test_y_inverse: (17520, 88)\n",
      "inv_y_pred: (17520, 88)\n",
      "y_pred_inverse: (17520, 88)\n",
      "Mean Absolute Error: 7.818651\n",
      "RMSE: 10.862\n",
      "R^2: 1.000\n",
      "Node shape:  (87600, 88)\n"
     ]
    },
    {
     "name": "stderr",
     "output_type": "stream",
     "text": [
      "/Users/alexellard/opt/anaconda3/lib/python3.7/site-packages/xgboost/data.py:96: UserWarning: Use subset (sliced data) of np.ndarray is not recommended because it will generate extra copies and increase memory consumption\n",
      "  \"because it will generate extra copies and increase \" +\n"
     ]
    },
    {
     "name": "stdout",
     "output_type": "stream",
     "text": [
      "Run 1 Scaled Mean Absolute Error: 0.00032377653\n",
      "Run 1 Scaled RMSE: 0.000\n",
      "Run 1 Scaled R^2: 1.000\n",
      "inv_test_y shape: (17520, 88)\n",
      "test_y_inverse: (17520, 88)\n",
      "inv_y_pred: (17520, 88)\n",
      "y_pred_inverse: (17520, 88)\n",
      "Mean Absolute Error: 2.762462\n",
      "RMSE: 3.942\n",
      "R^2: 1.000\n",
      "Node shape:  (87600, 88)\n"
     ]
    },
    {
     "name": "stderr",
     "output_type": "stream",
     "text": [
      "/Users/alexellard/opt/anaconda3/lib/python3.7/site-packages/xgboost/data.py:96: UserWarning: Use subset (sliced data) of np.ndarray is not recommended because it will generate extra copies and increase memory consumption\n",
      "  \"because it will generate extra copies and increase \" +\n"
     ]
    },
    {
     "name": "stdout",
     "output_type": "stream",
     "text": [
      "Run 1 Scaled Mean Absolute Error: 0.00027335377\n",
      "Run 1 Scaled RMSE: 0.000\n",
      "Run 1 Scaled R^2: 1.000\n",
      "inv_test_y shape: (17520, 88)\n",
      "test_y_inverse: (17520, 88)\n",
      "inv_y_pred: (17520, 88)\n",
      "y_pred_inverse: (17520, 88)\n",
      "Mean Absolute Error: 2.3322532\n",
      "RMSE: 3.162\n",
      "R^2: 1.000\n",
      "Node shape:  (87600, 88)\n"
     ]
    },
    {
     "name": "stderr",
     "output_type": "stream",
     "text": [
      "/Users/alexellard/opt/anaconda3/lib/python3.7/site-packages/xgboost/data.py:96: UserWarning: Use subset (sliced data) of np.ndarray is not recommended because it will generate extra copies and increase memory consumption\n",
      "  \"because it will generate extra copies and increase \" +\n"
     ]
    },
    {
     "name": "stdout",
     "output_type": "stream",
     "text": [
      "Run 1 Scaled Mean Absolute Error: 0.0032308414\n",
      "Run 1 Scaled RMSE: 0.004\n",
      "Run 1 Scaled R^2: 1.000\n",
      "inv_test_y shape: (17520, 88)\n",
      "test_y_inverse: (17520, 88)\n",
      "inv_y_pred: (17520, 88)\n",
      "y_pred_inverse: (17520, 88)\n",
      "Mean Absolute Error: 27.565538\n",
      "RMSE: 35.323\n",
      "R^2: 1.000\n",
      "Node shape:  (87600, 88)\n"
     ]
    },
    {
     "name": "stderr",
     "output_type": "stream",
     "text": [
      "/Users/alexellard/opt/anaconda3/lib/python3.7/site-packages/xgboost/data.py:96: UserWarning: Use subset (sliced data) of np.ndarray is not recommended because it will generate extra copies and increase memory consumption\n",
      "  \"because it will generate extra copies and increase \" +\n"
     ]
    },
    {
     "name": "stdout",
     "output_type": "stream",
     "text": [
      "Run 1 Scaled Mean Absolute Error: 0.009485823\n",
      "Run 1 Scaled RMSE: 0.012\n",
      "Run 1 Scaled R^2: 0.995\n",
      "inv_test_y shape: (17520, 88)\n",
      "test_y_inverse: (17520, 88)\n",
      "inv_y_pred: (17520, 88)\n",
      "y_pred_inverse: (17520, 88)\n",
      "Mean Absolute Error: 80.933044\n",
      "RMSE: 104.900\n",
      "R^2: 0.995\n",
      "Node shape:  (87600, 80)\n"
     ]
    },
    {
     "name": "stderr",
     "output_type": "stream",
     "text": [
      "/Users/alexellard/opt/anaconda3/lib/python3.7/site-packages/xgboost/data.py:96: UserWarning: Use subset (sliced data) of np.ndarray is not recommended because it will generate extra copies and increase memory consumption\n",
      "  \"because it will generate extra copies and increase \" +\n"
     ]
    },
    {
     "name": "stdout",
     "output_type": "stream",
     "text": [
      "Run 2 Scaled Mean Absolute Error: 0.020227619\n",
      "Run 2 Scaled RMSE: 0.026\n",
      "Run 2 Scaled R^2: 0.974\n",
      "inv_test_y shape: (17520, 80)\n",
      "test_y_inverse: (17520, 80)\n",
      "inv_y_pred: (17520, 80)\n",
      "y_pred_inverse: (17520, 80)\n",
      "Mean Absolute Error: 172.58206\n",
      "RMSE: 225.087\n",
      "R^2: 0.974\n",
      "Node shape:  (87600, 81)\n"
     ]
    },
    {
     "name": "stderr",
     "output_type": "stream",
     "text": [
      "/Users/alexellard/opt/anaconda3/lib/python3.7/site-packages/xgboost/data.py:96: UserWarning: Use subset (sliced data) of np.ndarray is not recommended because it will generate extra copies and increase memory consumption\n",
      "  \"because it will generate extra copies and increase \" +\n"
     ]
    },
    {
     "name": "stdout",
     "output_type": "stream",
     "text": [
      "Run 2 Scaled Mean Absolute Error: 0.008281346\n",
      "Run 2 Scaled RMSE: 0.011\n",
      "Run 2 Scaled R^2: 0.996\n",
      "inv_test_y shape: (17520, 81)\n",
      "test_y_inverse: (17520, 81)\n",
      "inv_y_pred: (17520, 81)\n",
      "y_pred_inverse: (17520, 81)\n",
      "Mean Absolute Error: 70.65643\n",
      "RMSE: 91.941\n",
      "R^2: 0.996\n",
      "Node shape:  (87600, 80)\n"
     ]
    },
    {
     "name": "stderr",
     "output_type": "stream",
     "text": [
      "/Users/alexellard/opt/anaconda3/lib/python3.7/site-packages/xgboost/data.py:96: UserWarning: Use subset (sliced data) of np.ndarray is not recommended because it will generate extra copies and increase memory consumption\n",
      "  \"because it will generate extra copies and increase \" +\n"
     ]
    },
    {
     "name": "stdout",
     "output_type": "stream",
     "text": [
      "Run 2 Scaled Mean Absolute Error: 0.0084751155\n",
      "Run 2 Scaled RMSE: 0.011\n",
      "Run 2 Scaled R^2: 0.995\n",
      "inv_test_y shape: (17520, 80)\n",
      "test_y_inverse: (17520, 80)\n",
      "inv_y_pred: (17520, 80)\n",
      "y_pred_inverse: (17520, 80)\n",
      "Mean Absolute Error: 72.30969\n",
      "RMSE: 94.819\n",
      "R^2: 0.995\n",
      "Node shape:  (87600, 80)\n"
     ]
    },
    {
     "name": "stderr",
     "output_type": "stream",
     "text": [
      "/Users/alexellard/opt/anaconda3/lib/python3.7/site-packages/xgboost/data.py:96: UserWarning: Use subset (sliced data) of np.ndarray is not recommended because it will generate extra copies and increase memory consumption\n",
      "  \"because it will generate extra copies and increase \" +\n"
     ]
    },
    {
     "name": "stdout",
     "output_type": "stream",
     "text": [
      "Run 2 Scaled Mean Absolute Error: 0.0012256838\n",
      "Run 2 Scaled RMSE: 0.002\n",
      "Run 2 Scaled R^2: 1.000\n",
      "inv_test_y shape: (17520, 80)\n",
      "test_y_inverse: (17520, 80)\n",
      "inv_y_pred: (17520, 80)\n",
      "y_pred_inverse: (17520, 80)\n",
      "Mean Absolute Error: 10.457534\n",
      "RMSE: 19.501\n",
      "R^2: 1.000\n",
      "Node shape:  (87600, 80)\n"
     ]
    },
    {
     "name": "stderr",
     "output_type": "stream",
     "text": [
      "/Users/alexellard/opt/anaconda3/lib/python3.7/site-packages/xgboost/data.py:96: UserWarning: Use subset (sliced data) of np.ndarray is not recommended because it will generate extra copies and increase memory consumption\n",
      "  \"because it will generate extra copies and increase \" +\n"
     ]
    },
    {
     "name": "stdout",
     "output_type": "stream",
     "text": [
      "Run 2 Scaled Mean Absolute Error: 0.00092765177\n",
      "Run 2 Scaled RMSE: 0.001\n",
      "Run 2 Scaled R^2: 1.000\n",
      "inv_test_y shape: (17520, 80)\n",
      "test_y_inverse: (17520, 80)\n",
      "inv_y_pred: (17520, 80)\n",
      "y_pred_inverse: (17520, 80)\n",
      "Mean Absolute Error: 7.9147253\n",
      "RMSE: 11.039\n",
      "R^2: 1.000\n",
      "Node shape:  (87600, 80)\n"
     ]
    },
    {
     "name": "stderr",
     "output_type": "stream",
     "text": [
      "/Users/alexellard/opt/anaconda3/lib/python3.7/site-packages/xgboost/data.py:96: UserWarning: Use subset (sliced data) of np.ndarray is not recommended because it will generate extra copies and increase memory consumption\n",
      "  \"because it will generate extra copies and increase \" +\n"
     ]
    },
    {
     "name": "stdout",
     "output_type": "stream",
     "text": [
      "Run 2 Scaled Mean Absolute Error: 0.00037836295\n",
      "Run 2 Scaled RMSE: 0.001\n",
      "Run 2 Scaled R^2: 1.000\n",
      "inv_test_y shape: (17520, 80)\n",
      "test_y_inverse: (17520, 80)\n",
      "inv_y_pred: (17520, 80)\n",
      "y_pred_inverse: (17520, 80)\n",
      "Mean Absolute Error: 3.2281923\n",
      "RMSE: 4.544\n",
      "R^2: 1.000\n",
      "Node shape:  (87600, 80)\n"
     ]
    },
    {
     "name": "stderr",
     "output_type": "stream",
     "text": [
      "/Users/alexellard/opt/anaconda3/lib/python3.7/site-packages/xgboost/data.py:96: UserWarning: Use subset (sliced data) of np.ndarray is not recommended because it will generate extra copies and increase memory consumption\n",
      "  \"because it will generate extra copies and increase \" +\n"
     ]
    },
    {
     "name": "stdout",
     "output_type": "stream",
     "text": [
      "Run 2 Scaled Mean Absolute Error: 0.0004967739\n",
      "Run 2 Scaled RMSE: 0.001\n",
      "Run 2 Scaled R^2: 1.000\n",
      "inv_test_y shape: (17520, 80)\n",
      "test_y_inverse: (17520, 80)\n",
      "inv_y_pred: (17520, 80)\n",
      "y_pred_inverse: (17520, 80)\n",
      "Mean Absolute Error: 0.25931597\n",
      "RMSE: 0.342\n",
      "R^2: 1.000\n",
      "Node shape:  (87600, 80)\n"
     ]
    },
    {
     "name": "stderr",
     "output_type": "stream",
     "text": [
      "/Users/alexellard/opt/anaconda3/lib/python3.7/site-packages/xgboost/data.py:96: UserWarning: Use subset (sliced data) of np.ndarray is not recommended because it will generate extra copies and increase memory consumption\n",
      "  \"because it will generate extra copies and increase \" +\n"
     ]
    },
    {
     "name": "stdout",
     "output_type": "stream",
     "text": [
      "Run 2 Scaled Mean Absolute Error: 0.0064516542\n",
      "Run 2 Scaled RMSE: 0.008\n",
      "Run 2 Scaled R^2: 0.998\n",
      "inv_test_y shape: (17520, 80)\n",
      "test_y_inverse: (17520, 80)\n",
      "inv_y_pred: (17520, 80)\n",
      "y_pred_inverse: (17520, 80)\n",
      "Mean Absolute Error: 55.045513\n",
      "RMSE: 72.239\n",
      "R^2: 0.998\n",
      "Node shape:  (87600, 80)\n"
     ]
    },
    {
     "name": "stderr",
     "output_type": "stream",
     "text": [
      "/Users/alexellard/opt/anaconda3/lib/python3.7/site-packages/xgboost/data.py:96: UserWarning: Use subset (sliced data) of np.ndarray is not recommended because it will generate extra copies and increase memory consumption\n",
      "  \"because it will generate extra copies and increase \" +\n"
     ]
    },
    {
     "name": "stdout",
     "output_type": "stream",
     "text": [
      "Run 2 Scaled Mean Absolute Error: 0.009983583\n",
      "Run 2 Scaled RMSE: 0.013\n",
      "Run 2 Scaled R^2: 0.994\n",
      "inv_test_y shape: (17520, 80)\n",
      "test_y_inverse: (17520, 80)\n",
      "inv_y_pred: (17520, 80)\n",
      "y_pred_inverse: (17520, 80)\n",
      "Mean Absolute Error: 85.17994\n",
      "RMSE: 109.689\n",
      "R^2: 0.994\n",
      "Node shape:  (87600, 72)\n"
     ]
    },
    {
     "name": "stderr",
     "output_type": "stream",
     "text": [
      "/Users/alexellard/opt/anaconda3/lib/python3.7/site-packages/xgboost/data.py:96: UserWarning: Use subset (sliced data) of np.ndarray is not recommended because it will generate extra copies and increase memory consumption\n",
      "  \"because it will generate extra copies and increase \" +\n"
     ]
    },
    {
     "name": "stdout",
     "output_type": "stream",
     "text": [
      "Run 3 Scaled Mean Absolute Error: 0.020298546\n",
      "Run 3 Scaled RMSE: 0.027\n",
      "Run 3 Scaled R^2: 0.974\n",
      "inv_test_y shape: (17520, 72)\n",
      "test_y_inverse: (17520, 72)\n",
      "inv_y_pred: (17520, 72)\n",
      "y_pred_inverse: (17520, 72)\n",
      "Mean Absolute Error: 173.18721\n",
      "RMSE: 226.141\n",
      "R^2: 0.974\n",
      "Node shape:  (87600, 73)\n"
     ]
    },
    {
     "name": "stderr",
     "output_type": "stream",
     "text": [
      "/Users/alexellard/opt/anaconda3/lib/python3.7/site-packages/xgboost/data.py:96: UserWarning: Use subset (sliced data) of np.ndarray is not recommended because it will generate extra copies and increase memory consumption\n",
      "  \"because it will generate extra copies and increase \" +\n"
     ]
    },
    {
     "name": "stdout",
     "output_type": "stream",
     "text": [
      "Run 3 Scaled Mean Absolute Error: 0.008315422\n",
      "Run 3 Scaled RMSE: 0.011\n",
      "Run 3 Scaled R^2: 0.996\n",
      "inv_test_y shape: (17520, 73)\n",
      "test_y_inverse: (17520, 73)\n",
      "inv_y_pred: (17520, 73)\n",
      "y_pred_inverse: (17520, 73)\n",
      "Mean Absolute Error: 70.94719\n",
      "RMSE: 92.616\n",
      "R^2: 0.996\n",
      "Node shape:  (87600, 73)\n"
     ]
    },
    {
     "name": "stderr",
     "output_type": "stream",
     "text": [
      "/Users/alexellard/opt/anaconda3/lib/python3.7/site-packages/xgboost/data.py:96: UserWarning: Use subset (sliced data) of np.ndarray is not recommended because it will generate extra copies and increase memory consumption\n",
      "  \"because it will generate extra copies and increase \" +\n"
     ]
    },
    {
     "name": "stdout",
     "output_type": "stream",
     "text": [
      "Run 3 Scaled Mean Absolute Error: 0.008432888\n",
      "Run 3 Scaled RMSE: 0.011\n",
      "Run 3 Scaled R^2: 0.995\n",
      "inv_test_y shape: (17520, 73)\n",
      "test_y_inverse: (17520, 73)\n",
      "inv_y_pred: (17520, 73)\n",
      "y_pred_inverse: (17520, 73)\n",
      "Mean Absolute Error: 3.9162338\n",
      "RMSE: 5.160\n",
      "R^2: 0.995\n",
      "Node shape:  (87600, 73)\n"
     ]
    },
    {
     "name": "stderr",
     "output_type": "stream",
     "text": [
      "/Users/alexellard/opt/anaconda3/lib/python3.7/site-packages/xgboost/data.py:96: UserWarning: Use subset (sliced data) of np.ndarray is not recommended because it will generate extra copies and increase memory consumption\n",
      "  \"because it will generate extra copies and increase \" +\n"
     ]
    },
    {
     "name": "stdout",
     "output_type": "stream",
     "text": [
      "Run 3 Scaled Mean Absolute Error: 0.0012394647\n",
      "Run 3 Scaled RMSE: 0.002\n",
      "Run 3 Scaled R^2: 1.000\n",
      "inv_test_y shape: (17520, 73)\n",
      "test_y_inverse: (17520, 73)\n",
      "inv_y_pred: (17520, 73)\n",
      "y_pred_inverse: (17520, 73)\n",
      "Mean Absolute Error: 10.575113\n",
      "RMSE: 16.415\n",
      "R^2: 1.000\n",
      "Node shape:  (87600, 72)\n"
     ]
    },
    {
     "name": "stderr",
     "output_type": "stream",
     "text": [
      "/Users/alexellard/opt/anaconda3/lib/python3.7/site-packages/xgboost/data.py:96: UserWarning: Use subset (sliced data) of np.ndarray is not recommended because it will generate extra copies and increase memory consumption\n",
      "  \"because it will generate extra copies and increase \" +\n"
     ]
    },
    {
     "name": "stdout",
     "output_type": "stream",
     "text": [
      "Run 3 Scaled Mean Absolute Error: 0.0010133848\n",
      "Run 3 Scaled RMSE: 0.001\n",
      "Run 3 Scaled R^2: 1.000\n",
      "inv_test_y shape: (17520, 72)\n",
      "test_y_inverse: (17520, 72)\n",
      "inv_y_pred: (17520, 72)\n",
      "y_pred_inverse: (17520, 72)\n",
      "Mean Absolute Error: 8.646198\n",
      "RMSE: 12.110\n",
      "R^2: 1.000\n",
      "Node shape:  (87600, 72)\n"
     ]
    },
    {
     "name": "stderr",
     "output_type": "stream",
     "text": [
      "/Users/alexellard/opt/anaconda3/lib/python3.7/site-packages/xgboost/data.py:96: UserWarning: Use subset (sliced data) of np.ndarray is not recommended because it will generate extra copies and increase memory consumption\n",
      "  \"because it will generate extra copies and increase \" +\n"
     ]
    },
    {
     "name": "stdout",
     "output_type": "stream",
     "text": [
      "Run 3 Scaled Mean Absolute Error: 0.000332125\n",
      "Run 3 Scaled RMSE: 0.000\n",
      "Run 3 Scaled R^2: 1.000\n",
      "inv_test_y shape: (17520, 72)\n",
      "test_y_inverse: (17520, 72)\n",
      "inv_y_pred: (17520, 72)\n",
      "y_pred_inverse: (17520, 72)\n",
      "Mean Absolute Error: 2.833691\n",
      "RMSE: 4.050\n",
      "R^2: 1.000\n",
      "Node shape:  (87600, 72)\n"
     ]
    },
    {
     "name": "stderr",
     "output_type": "stream",
     "text": [
      "/Users/alexellard/opt/anaconda3/lib/python3.7/site-packages/xgboost/data.py:96: UserWarning: Use subset (sliced data) of np.ndarray is not recommended because it will generate extra copies and increase memory consumption\n",
      "  \"because it will generate extra copies and increase \" +\n"
     ]
    },
    {
     "name": "stdout",
     "output_type": "stream",
     "text": [
      "Run 3 Scaled Mean Absolute Error: 0.0009367637\n",
      "Run 3 Scaled RMSE: 0.001\n",
      "Run 3 Scaled R^2: 1.000\n",
      "inv_test_y shape: (17520, 72)\n",
      "test_y_inverse: (17520, 72)\n",
      "inv_y_pred: (17520, 72)\n",
      "y_pred_inverse: (17520, 72)\n",
      "Mean Absolute Error: 0.4889906\n",
      "RMSE: 0.638\n",
      "R^2: 1.000\n",
      "Node shape:  (87600, 72)\n"
     ]
    },
    {
     "name": "stderr",
     "output_type": "stream",
     "text": [
      "/Users/alexellard/opt/anaconda3/lib/python3.7/site-packages/xgboost/data.py:96: UserWarning: Use subset (sliced data) of np.ndarray is not recommended because it will generate extra copies and increase memory consumption\n",
      "  \"because it will generate extra copies and increase \" +\n"
     ]
    },
    {
     "name": "stdout",
     "output_type": "stream",
     "text": [
      "Run 3 Scaled Mean Absolute Error: 0.006483645\n",
      "Run 3 Scaled RMSE: 0.008\n",
      "Run 3 Scaled R^2: 0.998\n",
      "inv_test_y shape: (17520, 72)\n",
      "test_y_inverse: (17520, 72)\n",
      "inv_y_pred: (17520, 72)\n",
      "y_pred_inverse: (17520, 72)\n",
      "Mean Absolute Error: 55.31846\n",
      "RMSE: 72.410\n",
      "R^2: 0.998\n",
      "Node shape:  (87600, 72)\n"
     ]
    },
    {
     "name": "stderr",
     "output_type": "stream",
     "text": [
      "/Users/alexellard/opt/anaconda3/lib/python3.7/site-packages/xgboost/data.py:96: UserWarning: Use subset (sliced data) of np.ndarray is not recommended because it will generate extra copies and increase memory consumption\n",
      "  \"because it will generate extra copies and increase \" +\n"
     ]
    },
    {
     "name": "stdout",
     "output_type": "stream",
     "text": [
      "Run 3 Scaled Mean Absolute Error: 0.0131271025\n",
      "Run 3 Scaled RMSE: 0.017\n",
      "Run 3 Scaled R^2: 0.990\n",
      "inv_test_y shape: (17520, 72)\n",
      "test_y_inverse: (17520, 72)\n",
      "inv_y_pred: (17520, 72)\n",
      "y_pred_inverse: (17520, 72)\n",
      "Mean Absolute Error: 112.00044\n",
      "RMSE: 143.819\n",
      "R^2: 0.990\n",
      "Node shape:  (87600, 64)\n"
     ]
    },
    {
     "name": "stderr",
     "output_type": "stream",
     "text": [
      "/Users/alexellard/opt/anaconda3/lib/python3.7/site-packages/xgboost/data.py:96: UserWarning: Use subset (sliced data) of np.ndarray is not recommended because it will generate extra copies and increase memory consumption\n",
      "  \"because it will generate extra copies and increase \" +\n"
     ]
    },
    {
     "name": "stdout",
     "output_type": "stream",
     "text": [
      "Run 4 Scaled Mean Absolute Error: 0.020263795\n",
      "Run 4 Scaled RMSE: 0.026\n",
      "Run 4 Scaled R^2: 0.974\n",
      "inv_test_y shape: (17520, 64)\n",
      "test_y_inverse: (17520, 64)\n",
      "inv_y_pred: (17520, 64)\n",
      "y_pred_inverse: (17520, 64)\n",
      "Mean Absolute Error: 172.89072\n",
      "RMSE: 225.749\n",
      "R^2: 0.974\n",
      "Node shape:  (87600, 65)\n"
     ]
    },
    {
     "name": "stderr",
     "output_type": "stream",
     "text": [
      "/Users/alexellard/opt/anaconda3/lib/python3.7/site-packages/xgboost/data.py:96: UserWarning: Use subset (sliced data) of np.ndarray is not recommended because it will generate extra copies and increase memory consumption\n",
      "  \"because it will generate extra copies and increase \" +\n"
     ]
    },
    {
     "name": "stdout",
     "output_type": "stream",
     "text": [
      "Run 4 Scaled Mean Absolute Error: 0.008064345\n",
      "Run 4 Scaled RMSE: 0.010\n",
      "Run 4 Scaled R^2: 0.997\n",
      "inv_test_y shape: (17520, 65)\n",
      "test_y_inverse: (17520, 65)\n",
      "inv_y_pred: (17520, 65)\n",
      "y_pred_inverse: (17520, 65)\n",
      "Mean Absolute Error: 68.804985\n",
      "RMSE: 89.335\n",
      "R^2: 0.997\n",
      "Node shape:  (87600, 65)\n"
     ]
    },
    {
     "name": "stderr",
     "output_type": "stream",
     "text": [
      "/Users/alexellard/opt/anaconda3/lib/python3.7/site-packages/xgboost/data.py:96: UserWarning: Use subset (sliced data) of np.ndarray is not recommended because it will generate extra copies and increase memory consumption\n",
      "  \"because it will generate extra copies and increase \" +\n"
     ]
    },
    {
     "name": "stdout",
     "output_type": "stream",
     "text": [
      "Run 4 Scaled Mean Absolute Error: 0.010944833\n",
      "Run 4 Scaled RMSE: 0.014\n",
      "Run 4 Scaled R^2: 0.992\n",
      "inv_test_y shape: (17520, 65)\n",
      "test_y_inverse: (17520, 65)\n",
      "inv_y_pred: (17520, 65)\n",
      "y_pred_inverse: (17520, 65)\n",
      "Mean Absolute Error: 0.82742935\n",
      "RMSE: 1.068\n",
      "R^2: 0.992\n",
      "Node shape:  (87600, 65)\n"
     ]
    },
    {
     "name": "stderr",
     "output_type": "stream",
     "text": [
      "/Users/alexellard/opt/anaconda3/lib/python3.7/site-packages/xgboost/data.py:96: UserWarning: Use subset (sliced data) of np.ndarray is not recommended because it will generate extra copies and increase memory consumption\n",
      "  \"because it will generate extra copies and increase \" +\n"
     ]
    },
    {
     "name": "stdout",
     "output_type": "stream",
     "text": [
      "Run 4 Scaled Mean Absolute Error: 0.0013341781\n",
      "Run 4 Scaled RMSE: 0.002\n",
      "Run 4 Scaled R^2: 1.000\n",
      "inv_test_y shape: (17520, 65)\n",
      "test_y_inverse: (17520, 65)\n",
      "inv_y_pred: (17520, 65)\n",
      "y_pred_inverse: (17520, 65)\n",
      "Mean Absolute Error: 11.383204\n",
      "RMSE: 20.141\n",
      "R^2: 1.000\n",
      "Node shape:  (87600, 64)\n"
     ]
    },
    {
     "name": "stderr",
     "output_type": "stream",
     "text": [
      "/Users/alexellard/opt/anaconda3/lib/python3.7/site-packages/xgboost/data.py:96: UserWarning: Use subset (sliced data) of np.ndarray is not recommended because it will generate extra copies and increase memory consumption\n",
      "  \"because it will generate extra copies and increase \" +\n"
     ]
    },
    {
     "name": "stdout",
     "output_type": "stream",
     "text": [
      "Run 4 Scaled Mean Absolute Error: 0.0009910945\n",
      "Run 4 Scaled RMSE: 0.001\n",
      "Run 4 Scaled R^2: 1.000\n",
      "inv_test_y shape: (17520, 64)\n",
      "test_y_inverse: (17520, 64)\n",
      "inv_y_pred: (17520, 64)\n",
      "y_pred_inverse: (17520, 64)\n",
      "Mean Absolute Error: 0.5173514\n",
      "RMSE: 0.722\n",
      "R^2: 1.000\n",
      "Node shape:  (87600, 64)\n"
     ]
    },
    {
     "name": "stderr",
     "output_type": "stream",
     "text": [
      "/Users/alexellard/opt/anaconda3/lib/python3.7/site-packages/xgboost/data.py:96: UserWarning: Use subset (sliced data) of np.ndarray is not recommended because it will generate extra copies and increase memory consumption\n",
      "  \"because it will generate extra copies and increase \" +\n"
     ]
    },
    {
     "name": "stdout",
     "output_type": "stream",
     "text": [
      "Run 4 Scaled Mean Absolute Error: 0.00051898335\n",
      "Run 4 Scaled RMSE: 0.001\n",
      "Run 4 Scaled R^2: 1.000\n",
      "inv_test_y shape: (17520, 64)\n",
      "test_y_inverse: (17520, 64)\n",
      "inv_y_pred: (17520, 64)\n",
      "y_pred_inverse: (17520, 64)\n",
      "Mean Absolute Error: 4.427966\n",
      "RMSE: 6.212\n",
      "R^2: 1.000\n",
      "Node shape:  (87600, 64)\n"
     ]
    },
    {
     "name": "stderr",
     "output_type": "stream",
     "text": [
      "/Users/alexellard/opt/anaconda3/lib/python3.7/site-packages/xgboost/data.py:96: UserWarning: Use subset (sliced data) of np.ndarray is not recommended because it will generate extra copies and increase memory consumption\n",
      "  \"because it will generate extra copies and increase \" +\n"
     ]
    },
    {
     "name": "stdout",
     "output_type": "stream",
     "text": [
      "Run 4 Scaled Mean Absolute Error: 0.0007449842\n",
      "Run 4 Scaled RMSE: 0.001\n",
      "Run 4 Scaled R^2: 1.000\n",
      "inv_test_y shape: (17520, 64)\n",
      "test_y_inverse: (17520, 64)\n",
      "inv_y_pred: (17520, 64)\n",
      "y_pred_inverse: (17520, 64)\n",
      "Mean Absolute Error: 0.3888817\n",
      "RMSE: 0.505\n",
      "R^2: 1.000\n",
      "Node shape:  (87600, 64)\n"
     ]
    },
    {
     "name": "stderr",
     "output_type": "stream",
     "text": [
      "/Users/alexellard/opt/anaconda3/lib/python3.7/site-packages/xgboost/data.py:96: UserWarning: Use subset (sliced data) of np.ndarray is not recommended because it will generate extra copies and increase memory consumption\n",
      "  \"because it will generate extra copies and increase \" +\n"
     ]
    },
    {
     "name": "stdout",
     "output_type": "stream",
     "text": [
      "Run 4 Scaled Mean Absolute Error: 0.006441785\n",
      "Run 4 Scaled RMSE: 0.008\n",
      "Run 4 Scaled R^2: 0.998\n",
      "inv_test_y shape: (17520, 64)\n",
      "test_y_inverse: (17520, 64)\n",
      "inv_y_pred: (17520, 64)\n",
      "y_pred_inverse: (17520, 64)\n",
      "Mean Absolute Error: 54.961308\n",
      "RMSE: 71.644\n",
      "R^2: 0.998\n",
      "Node shape:  (87600, 64)\n"
     ]
    },
    {
     "name": "stderr",
     "output_type": "stream",
     "text": [
      "/Users/alexellard/opt/anaconda3/lib/python3.7/site-packages/xgboost/data.py:96: UserWarning: Use subset (sliced data) of np.ndarray is not recommended because it will generate extra copies and increase memory consumption\n",
      "  \"because it will generate extra copies and increase \" +\n"
     ]
    },
    {
     "name": "stdout",
     "output_type": "stream",
     "text": [
      "Run 4 Scaled Mean Absolute Error: 0.013067384\n",
      "Run 4 Scaled RMSE: 0.017\n",
      "Run 4 Scaled R^2: 0.991\n",
      "inv_test_y shape: (17520, 64)\n",
      "test_y_inverse: (17520, 64)\n",
      "inv_y_pred: (17520, 64)\n",
      "y_pred_inverse: (17520, 64)\n",
      "Mean Absolute Error: 111.49093\n",
      "RMSE: 143.002\n",
      "R^2: 0.991\n",
      "Node shape:  (87600, 56)\n"
     ]
    },
    {
     "name": "stderr",
     "output_type": "stream",
     "text": [
      "/Users/alexellard/opt/anaconda3/lib/python3.7/site-packages/xgboost/data.py:96: UserWarning: Use subset (sliced data) of np.ndarray is not recommended because it will generate extra copies and increase memory consumption\n",
      "  \"because it will generate extra copies and increase \" +\n"
     ]
    },
    {
     "name": "stdout",
     "output_type": "stream",
     "text": [
      "Run 5 Scaled Mean Absolute Error: 0.020251838\n",
      "Run 5 Scaled RMSE: 0.026\n",
      "Run 5 Scaled R^2: 0.974\n",
      "inv_test_y shape: (17520, 56)\n",
      "test_y_inverse: (17520, 56)\n",
      "inv_y_pred: (17520, 56)\n",
      "y_pred_inverse: (17520, 56)\n",
      "Mean Absolute Error: 172.78868\n",
      "RMSE: 225.834\n",
      "R^2: 0.974\n",
      "Node shape:  (87600, 57)\n"
     ]
    },
    {
     "name": "stderr",
     "output_type": "stream",
     "text": [
      "/Users/alexellard/opt/anaconda3/lib/python3.7/site-packages/xgboost/data.py:96: UserWarning: Use subset (sliced data) of np.ndarray is not recommended because it will generate extra copies and increase memory consumption\n",
      "  \"because it will generate extra copies and increase \" +\n"
     ]
    },
    {
     "name": "stdout",
     "output_type": "stream",
     "text": [
      "Run 5 Scaled Mean Absolute Error: 0.008465753\n",
      "Run 5 Scaled RMSE: 0.011\n",
      "Run 5 Scaled R^2: 0.996\n",
      "inv_test_y shape: (17520, 57)\n",
      "test_y_inverse: (17520, 57)\n",
      "inv_y_pred: (17520, 57)\n",
      "y_pred_inverse: (17520, 57)\n",
      "Mean Absolute Error: 72.22981\n",
      "RMSE: 94.085\n",
      "R^2: 0.996\n",
      "Node shape:  (87600, 57)\n"
     ]
    },
    {
     "name": "stderr",
     "output_type": "stream",
     "text": [
      "/Users/alexellard/opt/anaconda3/lib/python3.7/site-packages/xgboost/data.py:96: UserWarning: Use subset (sliced data) of np.ndarray is not recommended because it will generate extra copies and increase memory consumption\n",
      "  \"because it will generate extra copies and increase \" +\n"
     ]
    },
    {
     "name": "stdout",
     "output_type": "stream",
     "text": [
      "Run 5 Scaled Mean Absolute Error: 0.014245026\n",
      "Run 5 Scaled RMSE: 0.018\n",
      "Run 5 Scaled R^2: 0.987\n",
      "inv_test_y shape: (17520, 57)\n",
      "test_y_inverse: (17520, 57)\n",
      "inv_y_pred: (17520, 57)\n",
      "y_pred_inverse: (17520, 57)\n",
      "Mean Absolute Error: 1.076924\n",
      "RMSE: 1.394\n",
      "R^2: 0.987\n",
      "Node shape:  (87600, 58)\n"
     ]
    },
    {
     "name": "stderr",
     "output_type": "stream",
     "text": [
      "/Users/alexellard/opt/anaconda3/lib/python3.7/site-packages/xgboost/data.py:96: UserWarning: Use subset (sliced data) of np.ndarray is not recommended because it will generate extra copies and increase memory consumption\n",
      "  \"because it will generate extra copies and increase \" +\n"
     ]
    },
    {
     "name": "stdout",
     "output_type": "stream",
     "text": [
      "Run 5 Scaled Mean Absolute Error: 0.0013320083\n",
      "Run 5 Scaled RMSE: 0.003\n",
      "Run 5 Scaled R^2: 1.000\n",
      "inv_test_y shape: (17520, 58)\n",
      "test_y_inverse: (17520, 58)\n",
      "inv_y_pred: (17520, 58)\n",
      "y_pred_inverse: (17520, 58)\n",
      "Mean Absolute Error: 0.69530845\n",
      "RMSE: 1.320\n",
      "R^2: 1.000\n",
      "Node shape:  (87600, 56)\n"
     ]
    },
    {
     "name": "stderr",
     "output_type": "stream",
     "text": [
      "/Users/alexellard/opt/anaconda3/lib/python3.7/site-packages/xgboost/data.py:96: UserWarning: Use subset (sliced data) of np.ndarray is not recommended because it will generate extra copies and increase memory consumption\n",
      "  \"because it will generate extra copies and increase \" +\n"
     ]
    },
    {
     "name": "stdout",
     "output_type": "stream",
     "text": [
      "Run 5 Scaled Mean Absolute Error: 0.0009476099\n",
      "Run 5 Scaled RMSE: 0.001\n",
      "Run 5 Scaled R^2: 1.000\n",
      "inv_test_y shape: (17520, 56)\n",
      "test_y_inverse: (17520, 56)\n",
      "inv_y_pred: (17520, 56)\n",
      "y_pred_inverse: (17520, 56)\n",
      "Mean Absolute Error: 0.44006974\n",
      "RMSE: 0.619\n",
      "R^2: 1.000\n",
      "Node shape:  (87600, 56)\n"
     ]
    },
    {
     "name": "stderr",
     "output_type": "stream",
     "text": [
      "/Users/alexellard/opt/anaconda3/lib/python3.7/site-packages/xgboost/data.py:96: UserWarning: Use subset (sliced data) of np.ndarray is not recommended because it will generate extra copies and increase memory consumption\n",
      "  \"because it will generate extra copies and increase \" +\n"
     ]
    },
    {
     "name": "stdout",
     "output_type": "stream",
     "text": [
      "Run 5 Scaled Mean Absolute Error: 0.0005062024\n",
      "Run 5 Scaled RMSE: 0.001\n",
      "Run 5 Scaled R^2: 1.000\n",
      "inv_test_y shape: (17520, 56)\n",
      "test_y_inverse: (17520, 56)\n",
      "inv_y_pred: (17520, 56)\n",
      "y_pred_inverse: (17520, 56)\n",
      "Mean Absolute Error: 4.318922\n",
      "RMSE: 6.028\n",
      "R^2: 1.000\n",
      "Node shape:  (87600, 56)\n"
     ]
    },
    {
     "name": "stderr",
     "output_type": "stream",
     "text": [
      "/Users/alexellard/opt/anaconda3/lib/python3.7/site-packages/xgboost/data.py:96: UserWarning: Use subset (sliced data) of np.ndarray is not recommended because it will generate extra copies and increase memory consumption\n",
      "  \"because it will generate extra copies and increase \" +\n"
     ]
    },
    {
     "name": "stdout",
     "output_type": "stream",
     "text": [
      "Run 5 Scaled Mean Absolute Error: 0.0006397518\n",
      "Run 5 Scaled RMSE: 0.001\n",
      "Run 5 Scaled R^2: 1.000\n",
      "inv_test_y shape: (17520, 56)\n",
      "test_y_inverse: (17520, 56)\n",
      "inv_y_pred: (17520, 56)\n",
      "y_pred_inverse: (17520, 56)\n",
      "Mean Absolute Error: 0.33395025\n",
      "RMSE: 0.439\n",
      "R^2: 1.000\n",
      "Node shape:  (87600, 56)\n"
     ]
    },
    {
     "name": "stderr",
     "output_type": "stream",
     "text": [
      "/Users/alexellard/opt/anaconda3/lib/python3.7/site-packages/xgboost/data.py:96: UserWarning: Use subset (sliced data) of np.ndarray is not recommended because it will generate extra copies and increase memory consumption\n",
      "  \"because it will generate extra copies and increase \" +\n"
     ]
    },
    {
     "name": "stdout",
     "output_type": "stream",
     "text": [
      "Run 5 Scaled Mean Absolute Error: 0.0064977803\n",
      "Run 5 Scaled RMSE: 0.008\n",
      "Run 5 Scaled R^2: 0.998\n",
      "inv_test_y shape: (17520, 56)\n",
      "test_y_inverse: (17520, 56)\n",
      "inv_y_pred: (17520, 56)\n",
      "y_pred_inverse: (17520, 56)\n",
      "Mean Absolute Error: 3.0175693\n",
      "RMSE: 3.940\n",
      "R^2: 0.998\n",
      "Node shape:  (87600, 56)\n"
     ]
    },
    {
     "name": "stderr",
     "output_type": "stream",
     "text": [
      "/Users/alexellard/opt/anaconda3/lib/python3.7/site-packages/xgboost/data.py:96: UserWarning: Use subset (sliced data) of np.ndarray is not recommended because it will generate extra copies and increase memory consumption\n",
      "  \"because it will generate extra copies and increase \" +\n"
     ]
    },
    {
     "name": "stdout",
     "output_type": "stream",
     "text": [
      "Run 5 Scaled Mean Absolute Error: 0.0130878305\n",
      "Run 5 Scaled RMSE: 0.017\n",
      "Run 5 Scaled R^2: 0.991\n",
      "inv_test_y shape: (17520, 56)\n",
      "test_y_inverse: (17520, 56)\n",
      "inv_y_pred: (17520, 56)\n",
      "y_pred_inverse: (17520, 56)\n",
      "Mean Absolute Error: 111.66537\n",
      "RMSE: 143.033\n",
      "R^2: 0.991\n",
      "Node shape:  (87600, 48)\n"
     ]
    },
    {
     "name": "stderr",
     "output_type": "stream",
     "text": [
      "/Users/alexellard/opt/anaconda3/lib/python3.7/site-packages/xgboost/data.py:96: UserWarning: Use subset (sliced data) of np.ndarray is not recommended because it will generate extra copies and increase memory consumption\n",
      "  \"because it will generate extra copies and increase \" +\n"
     ]
    },
    {
     "name": "stdout",
     "output_type": "stream",
     "text": [
      "Run 6 Scaled Mean Absolute Error: 0.020210117\n",
      "Run 6 Scaled RMSE: 0.026\n",
      "Run 6 Scaled R^2: 0.974\n",
      "inv_test_y shape: (17520, 48)\n",
      "test_y_inverse: (17520, 48)\n",
      "inv_y_pred: (17520, 48)\n",
      "y_pred_inverse: (17520, 48)\n",
      "Mean Absolute Error: 172.43272\n",
      "RMSE: 225.233\n",
      "R^2: 0.974\n",
      "Node shape:  (87600, 49)\n"
     ]
    },
    {
     "name": "stderr",
     "output_type": "stream",
     "text": [
      "/Users/alexellard/opt/anaconda3/lib/python3.7/site-packages/xgboost/data.py:96: UserWarning: Use subset (sliced data) of np.ndarray is not recommended because it will generate extra copies and increase memory consumption\n",
      "  \"because it will generate extra copies and increase \" +\n"
     ]
    },
    {
     "name": "stdout",
     "output_type": "stream",
     "text": [
      "Run 6 Scaled Mean Absolute Error: 0.008753141\n",
      "Run 6 Scaled RMSE: 0.011\n",
      "Run 6 Scaled R^2: 0.996\n",
      "inv_test_y shape: (17520, 49)\n",
      "test_y_inverse: (17520, 49)\n",
      "inv_y_pred: (17520, 49)\n",
      "y_pred_inverse: (17520, 49)\n",
      "Mean Absolute Error: 74.6818\n",
      "RMSE: 96.869\n",
      "R^2: 0.996\n",
      "Node shape:  (87600, 50)\n"
     ]
    },
    {
     "name": "stderr",
     "output_type": "stream",
     "text": [
      "/Users/alexellard/opt/anaconda3/lib/python3.7/site-packages/xgboost/data.py:96: UserWarning: Use subset (sliced data) of np.ndarray is not recommended because it will generate extra copies and increase memory consumption\n",
      "  \"because it will generate extra copies and increase \" +\n"
     ]
    },
    {
     "name": "stdout",
     "output_type": "stream",
     "text": [
      "Run 6 Scaled Mean Absolute Error: 0.014186244\n",
      "Run 6 Scaled RMSE: 0.018\n",
      "Run 6 Scaled R^2: 0.987\n",
      "inv_test_y shape: (17520, 50)\n",
      "test_y_inverse: (17520, 50)\n",
      "inv_y_pred: (17520, 50)\n",
      "y_pred_inverse: (17520, 50)\n",
      "Mean Absolute Error: 1.07248\n",
      "RMSE: 1.389\n",
      "R^2: 0.987\n",
      "Node shape:  (87600, 51)\n"
     ]
    },
    {
     "name": "stderr",
     "output_type": "stream",
     "text": [
      "/Users/alexellard/opt/anaconda3/lib/python3.7/site-packages/xgboost/data.py:96: UserWarning: Use subset (sliced data) of np.ndarray is not recommended because it will generate extra copies and increase memory consumption\n",
      "  \"because it will generate extra copies and increase \" +\n"
     ]
    },
    {
     "name": "stdout",
     "output_type": "stream",
     "text": [
      "Run 6 Scaled Mean Absolute Error: 0.0014255618\n",
      "Run 6 Scaled RMSE: 0.003\n",
      "Run 6 Scaled R^2: 1.000\n",
      "inv_test_y shape: (17520, 51)\n",
      "test_y_inverse: (17520, 51)\n",
      "inv_y_pred: (17520, 51)\n",
      "y_pred_inverse: (17520, 51)\n",
      "Mean Absolute Error: 0.7441427\n",
      "RMSE: 1.422\n",
      "R^2: 1.000\n",
      "Node shape:  (87600, 48)\n"
     ]
    },
    {
     "name": "stderr",
     "output_type": "stream",
     "text": [
      "/Users/alexellard/opt/anaconda3/lib/python3.7/site-packages/xgboost/data.py:96: UserWarning: Use subset (sliced data) of np.ndarray is not recommended because it will generate extra copies and increase memory consumption\n",
      "  \"because it will generate extra copies and increase \" +\n"
     ]
    },
    {
     "name": "stdout",
     "output_type": "stream",
     "text": [
      "Run 6 Scaled Mean Absolute Error: 0.0010880186\n",
      "Run 6 Scaled RMSE: 0.002\n",
      "Run 6 Scaled R^2: 1.000\n",
      "inv_test_y shape: (17520, 48)\n",
      "test_y_inverse: (17520, 48)\n",
      "inv_y_pred: (17520, 48)\n",
      "y_pred_inverse: (17520, 48)\n",
      "Mean Absolute Error: 0.5052757\n",
      "RMSE: 0.706\n",
      "R^2: 1.000\n",
      "Node shape:  (87600, 48)\n"
     ]
    },
    {
     "name": "stderr",
     "output_type": "stream",
     "text": [
      "/Users/alexellard/opt/anaconda3/lib/python3.7/site-packages/xgboost/data.py:96: UserWarning: Use subset (sliced data) of np.ndarray is not recommended because it will generate extra copies and increase memory consumption\n",
      "  \"because it will generate extra copies and increase \" +\n"
     ]
    },
    {
     "name": "stdout",
     "output_type": "stream",
     "text": [
      "Run 6 Scaled Mean Absolute Error: 0.00063050585\n",
      "Run 6 Scaled RMSE: 0.001\n",
      "Run 6 Scaled R^2: 1.000\n",
      "inv_test_y shape: (17520, 48)\n",
      "test_y_inverse: (17520, 48)\n",
      "inv_y_pred: (17520, 48)\n",
      "y_pred_inverse: (17520, 48)\n",
      "Mean Absolute Error: 5.3794746\n",
      "RMSE: 7.285\n",
      "R^2: 1.000\n",
      "Node shape:  (87600, 48)\n"
     ]
    },
    {
     "name": "stderr",
     "output_type": "stream",
     "text": [
      "/Users/alexellard/opt/anaconda3/lib/python3.7/site-packages/xgboost/data.py:96: UserWarning: Use subset (sliced data) of np.ndarray is not recommended because it will generate extra copies and increase memory consumption\n",
      "  \"because it will generate extra copies and increase \" +\n"
     ]
    },
    {
     "name": "stdout",
     "output_type": "stream",
     "text": [
      "Run 6 Scaled Mean Absolute Error: 0.0010728919\n",
      "Run 6 Scaled RMSE: 0.001\n",
      "Run 6 Scaled R^2: 1.000\n",
      "inv_test_y shape: (17520, 48)\n",
      "test_y_inverse: (17520, 48)\n",
      "inv_y_pred: (17520, 48)\n",
      "y_pred_inverse: (17520, 48)\n",
      "Mean Absolute Error: 0.5600495\n",
      "RMSE: 0.728\n",
      "R^2: 1.000\n",
      "Node shape:  (87600, 48)\n"
     ]
    },
    {
     "name": "stderr",
     "output_type": "stream",
     "text": [
      "/Users/alexellard/opt/anaconda3/lib/python3.7/site-packages/xgboost/data.py:96: UserWarning: Use subset (sliced data) of np.ndarray is not recommended because it will generate extra copies and increase memory consumption\n",
      "  \"because it will generate extra copies and increase \" +\n"
     ]
    },
    {
     "name": "stdout",
     "output_type": "stream",
     "text": [
      "Run 6 Scaled Mean Absolute Error: 0.0073970915\n",
      "Run 6 Scaled RMSE: 0.010\n",
      "Run 6 Scaled R^2: 0.997\n",
      "inv_test_y shape: (17520, 48)\n",
      "test_y_inverse: (17520, 48)\n",
      "inv_y_pred: (17520, 48)\n",
      "y_pred_inverse: (17520, 48)\n",
      "Mean Absolute Error: 3.4352098\n",
      "RMSE: 4.476\n",
      "R^2: 0.997\n",
      "Node shape:  (87600, 49)\n"
     ]
    },
    {
     "name": "stderr",
     "output_type": "stream",
     "text": [
      "/Users/alexellard/opt/anaconda3/lib/python3.7/site-packages/xgboost/data.py:96: UserWarning: Use subset (sliced data) of np.ndarray is not recommended because it will generate extra copies and increase memory consumption\n",
      "  \"because it will generate extra copies and increase \" +\n"
     ]
    },
    {
     "name": "stdout",
     "output_type": "stream",
     "text": [
      "Run 6 Scaled Mean Absolute Error: 0.017797543\n",
      "Run 6 Scaled RMSE: 0.023\n",
      "Run 6 Scaled R^2: 0.982\n",
      "inv_test_y shape: (17520, 49)\n",
      "test_y_inverse: (17520, 49)\n",
      "inv_y_pred: (17520, 49)\n",
      "y_pred_inverse: (17520, 49)\n",
      "Mean Absolute Error: 151.84868\n",
      "RMSE: 198.978\n",
      "R^2: 0.982\n",
      "Node shape:  (87600, 41)\n"
     ]
    },
    {
     "name": "stderr",
     "output_type": "stream",
     "text": [
      "/Users/alexellard/opt/anaconda3/lib/python3.7/site-packages/xgboost/data.py:96: UserWarning: Use subset (sliced data) of np.ndarray is not recommended because it will generate extra copies and increase memory consumption\n",
      "  \"because it will generate extra copies and increase \" +\n"
     ]
    },
    {
     "name": "stdout",
     "output_type": "stream",
     "text": [
      "Run 7 Scaled Mean Absolute Error: 0.020097313\n",
      "Run 7 Scaled RMSE: 0.026\n",
      "Run 7 Scaled R^2: 0.974\n",
      "inv_test_y shape: (17520, 41)\n",
      "test_y_inverse: (17520, 41)\n",
      "inv_y_pred: (17520, 41)\n",
      "y_pred_inverse: (17520, 41)\n",
      "Mean Absolute Error: 171.47028\n",
      "RMSE: 223.765\n",
      "R^2: 0.974\n",
      "Node shape:  (87600, 41)\n"
     ]
    },
    {
     "name": "stderr",
     "output_type": "stream",
     "text": [
      "/Users/alexellard/opt/anaconda3/lib/python3.7/site-packages/xgboost/data.py:96: UserWarning: Use subset (sliced data) of np.ndarray is not recommended because it will generate extra copies and increase memory consumption\n",
      "  \"because it will generate extra copies and increase \" +\n"
     ]
    },
    {
     "name": "stdout",
     "output_type": "stream",
     "text": [
      "Run 7 Scaled Mean Absolute Error: 0.008914385\n",
      "Run 7 Scaled RMSE: 0.012\n",
      "Run 7 Scaled R^2: 0.996\n",
      "inv_test_y shape: (17520, 41)\n",
      "test_y_inverse: (17520, 41)\n",
      "inv_y_pred: (17520, 41)\n",
      "y_pred_inverse: (17520, 41)\n",
      "Mean Absolute Error: 76.05754\n",
      "RMSE: 98.790\n",
      "R^2: 0.996\n",
      "Node shape:  (87600, 42)\n"
     ]
    },
    {
     "name": "stderr",
     "output_type": "stream",
     "text": [
      "/Users/alexellard/opt/anaconda3/lib/python3.7/site-packages/xgboost/data.py:96: UserWarning: Use subset (sliced data) of np.ndarray is not recommended because it will generate extra copies and increase memory consumption\n",
      "  \"because it will generate extra copies and increase \" +\n"
     ]
    },
    {
     "name": "stdout",
     "output_type": "stream",
     "text": [
      "Run 7 Scaled Mean Absolute Error: 0.014319864\n",
      "Run 7 Scaled RMSE: 0.019\n",
      "Run 7 Scaled R^2: 0.987\n",
      "inv_test_y shape: (17520, 42)\n",
      "test_y_inverse: (17520, 42)\n",
      "inv_y_pred: (17520, 42)\n",
      "y_pred_inverse: (17520, 42)\n",
      "Mean Absolute Error: 1.0825818\n",
      "RMSE: 1.400\n",
      "R^2: 0.987\n",
      "Node shape:  (87600, 44)\n"
     ]
    },
    {
     "name": "stderr",
     "output_type": "stream",
     "text": [
      "/Users/alexellard/opt/anaconda3/lib/python3.7/site-packages/xgboost/data.py:96: UserWarning: Use subset (sliced data) of np.ndarray is not recommended because it will generate extra copies and increase memory consumption\n",
      "  \"because it will generate extra copies and increase \" +\n"
     ]
    },
    {
     "name": "stdout",
     "output_type": "stream",
     "text": [
      "Run 7 Scaled Mean Absolute Error: 0.0013492673\n",
      "Run 7 Scaled RMSE: 0.003\n",
      "Run 7 Scaled R^2: 1.000\n",
      "inv_test_y shape: (17520, 44)\n",
      "test_y_inverse: (17520, 44)\n",
      "inv_y_pred: (17520, 44)\n",
      "y_pred_inverse: (17520, 44)\n",
      "Mean Absolute Error: 0.7043175\n",
      "RMSE: 1.353\n",
      "R^2: 1.000\n",
      "Node shape:  (87600, 41)\n"
     ]
    },
    {
     "name": "stderr",
     "output_type": "stream",
     "text": [
      "/Users/alexellard/opt/anaconda3/lib/python3.7/site-packages/xgboost/data.py:96: UserWarning: Use subset (sliced data) of np.ndarray is not recommended because it will generate extra copies and increase memory consumption\n",
      "  \"because it will generate extra copies and increase \" +\n"
     ]
    },
    {
     "name": "stdout",
     "output_type": "stream",
     "text": [
      "Run 7 Scaled Mean Absolute Error: 0.0017165343\n",
      "Run 7 Scaled RMSE: 0.002\n",
      "Run 7 Scaled R^2: 1.000\n",
      "inv_test_y shape: (17520, 41)\n",
      "test_y_inverse: (17520, 41)\n",
      "inv_y_pred: (17520, 41)\n",
      "y_pred_inverse: (17520, 41)\n",
      "Mean Absolute Error: 0.7971581\n",
      "RMSE: 1.155\n",
      "R^2: 1.000\n",
      "Node shape:  (87600, 40)\n"
     ]
    },
    {
     "name": "stderr",
     "output_type": "stream",
     "text": [
      "/Users/alexellard/opt/anaconda3/lib/python3.7/site-packages/xgboost/data.py:96: UserWarning: Use subset (sliced data) of np.ndarray is not recommended because it will generate extra copies and increase memory consumption\n",
      "  \"because it will generate extra copies and increase \" +\n"
     ]
    },
    {
     "name": "stdout",
     "output_type": "stream",
     "text": [
      "Run 7 Scaled Mean Absolute Error: 0.00083502877\n",
      "Run 7 Scaled RMSE: 0.001\n",
      "Run 7 Scaled R^2: 1.000\n",
      "inv_test_y shape: (17520, 40)\n",
      "test_y_inverse: (17520, 40)\n",
      "inv_y_pred: (17520, 40)\n",
      "y_pred_inverse: (17520, 40)\n",
      "Mean Absolute Error: 7.124464\n",
      "RMSE: 9.636\n",
      "R^2: 1.000\n",
      "Node shape:  (87600, 40)\n"
     ]
    },
    {
     "name": "stderr",
     "output_type": "stream",
     "text": [
      "/Users/alexellard/opt/anaconda3/lib/python3.7/site-packages/xgboost/data.py:96: UserWarning: Use subset (sliced data) of np.ndarray is not recommended because it will generate extra copies and increase memory consumption\n",
      "  \"because it will generate extra copies and increase \" +\n"
     ]
    },
    {
     "name": "stdout",
     "output_type": "stream",
     "text": [
      "Run 7 Scaled Mean Absolute Error: 0.00074094394\n",
      "Run 7 Scaled RMSE: 0.001\n",
      "Run 7 Scaled R^2: 1.000\n",
      "inv_test_y shape: (17520, 40)\n",
      "test_y_inverse: (17520, 40)\n",
      "inv_y_pred: (17520, 40)\n",
      "y_pred_inverse: (17520, 40)\n",
      "Mean Absolute Error: 0.38677254\n",
      "RMSE: 0.506\n",
      "R^2: 1.000\n",
      "Node shape:  (87600, 40)\n"
     ]
    },
    {
     "name": "stderr",
     "output_type": "stream",
     "text": [
      "/Users/alexellard/opt/anaconda3/lib/python3.7/site-packages/xgboost/data.py:96: UserWarning: Use subset (sliced data) of np.ndarray is not recommended because it will generate extra copies and increase memory consumption\n",
      "  \"because it will generate extra copies and increase \" +\n"
     ]
    },
    {
     "name": "stdout",
     "output_type": "stream",
     "text": [
      "Run 7 Scaled Mean Absolute Error: 0.007267968\n",
      "Run 7 Scaled RMSE: 0.009\n",
      "Run 7 Scaled R^2: 0.997\n",
      "inv_test_y shape: (17520, 40)\n",
      "test_y_inverse: (17520, 40)\n",
      "inv_y_pred: (17520, 40)\n",
      "y_pred_inverse: (17520, 40)\n",
      "Mean Absolute Error: 3.3752444\n",
      "RMSE: 4.393\n",
      "R^2: 0.997\n",
      "Node shape:  (87600, 41)\n"
     ]
    },
    {
     "name": "stderr",
     "output_type": "stream",
     "text": [
      "/Users/alexellard/opt/anaconda3/lib/python3.7/site-packages/xgboost/data.py:96: UserWarning: Use subset (sliced data) of np.ndarray is not recommended because it will generate extra copies and increase memory consumption\n",
      "  \"because it will generate extra copies and increase \" +\n"
     ]
    },
    {
     "name": "stdout",
     "output_type": "stream",
     "text": [
      "Run 7 Scaled Mean Absolute Error: 0.017885132\n",
      "Run 7 Scaled RMSE: 0.023\n",
      "Run 7 Scaled R^2: 0.981\n",
      "inv_test_y shape: (17520, 41)\n",
      "test_y_inverse: (17520, 41)\n",
      "inv_y_pred: (17520, 41)\n",
      "y_pred_inverse: (17520, 41)\n",
      "Mean Absolute Error: 152.59595\n",
      "RMSE: 200.009\n",
      "R^2: 0.981\n",
      "Node shape:  (87600, 33)\n"
     ]
    },
    {
     "name": "stderr",
     "output_type": "stream",
     "text": [
      "/Users/alexellard/opt/anaconda3/lib/python3.7/site-packages/xgboost/data.py:96: UserWarning: Use subset (sliced data) of np.ndarray is not recommended because it will generate extra copies and increase memory consumption\n",
      "  \"because it will generate extra copies and increase \" +\n"
     ]
    },
    {
     "name": "stdout",
     "output_type": "stream",
     "text": [
      "Run 8 Scaled Mean Absolute Error: 0.020218719\n",
      "Run 8 Scaled RMSE: 0.026\n",
      "Run 8 Scaled R^2: 0.974\n",
      "inv_test_y shape: (17520, 33)\n",
      "test_y_inverse: (17520, 33)\n",
      "inv_y_pred: (17520, 33)\n",
      "y_pred_inverse: (17520, 33)\n",
      "Mean Absolute Error: 172.5061\n",
      "RMSE: 225.044\n",
      "R^2: 0.974\n",
      "Node shape:  (87600, 34)\n"
     ]
    },
    {
     "name": "stderr",
     "output_type": "stream",
     "text": [
      "/Users/alexellard/opt/anaconda3/lib/python3.7/site-packages/xgboost/data.py:96: UserWarning: Use subset (sliced data) of np.ndarray is not recommended because it will generate extra copies and increase memory consumption\n",
      "  \"because it will generate extra copies and increase \" +\n"
     ]
    },
    {
     "name": "stdout",
     "output_type": "stream",
     "text": [
      "Run 8 Scaled Mean Absolute Error: 0.00921924\n",
      "Run 8 Scaled RMSE: 0.012\n",
      "Run 8 Scaled R^2: 0.995\n",
      "inv_test_y shape: (17520, 34)\n",
      "test_y_inverse: (17520, 34)\n",
      "inv_y_pred: (17520, 34)\n",
      "y_pred_inverse: (17520, 34)\n",
      "Mean Absolute Error: 78.658554\n",
      "RMSE: 102.191\n",
      "R^2: 0.995\n",
      "Node shape:  (87600, 35)\n"
     ]
    },
    {
     "name": "stderr",
     "output_type": "stream",
     "text": [
      "/Users/alexellard/opt/anaconda3/lib/python3.7/site-packages/xgboost/data.py:96: UserWarning: Use subset (sliced data) of np.ndarray is not recommended because it will generate extra copies and increase memory consumption\n",
      "  \"because it will generate extra copies and increase \" +\n"
     ]
    },
    {
     "name": "stdout",
     "output_type": "stream",
     "text": [
      "Run 8 Scaled Mean Absolute Error: 0.014524104\n",
      "Run 8 Scaled RMSE: 0.019\n",
      "Run 8 Scaled R^2: 0.987\n",
      "inv_test_y shape: (17520, 35)\n",
      "test_y_inverse: (17520, 35)\n",
      "inv_y_pred: (17520, 35)\n",
      "y_pred_inverse: (17520, 35)\n",
      "Mean Absolute Error: 1.0980222\n",
      "RMSE: 1.423\n",
      "R^2: 0.987\n",
      "Node shape:  (87600, 36)\n"
     ]
    },
    {
     "name": "stderr",
     "output_type": "stream",
     "text": [
      "/Users/alexellard/opt/anaconda3/lib/python3.7/site-packages/xgboost/data.py:96: UserWarning: Use subset (sliced data) of np.ndarray is not recommended because it will generate extra copies and increase memory consumption\n",
      "  \"because it will generate extra copies and increase \" +\n"
     ]
    },
    {
     "name": "stdout",
     "output_type": "stream",
     "text": [
      "Run 8 Scaled Mean Absolute Error: 0.0014897988\n",
      "Run 8 Scaled RMSE: 0.002\n",
      "Run 8 Scaled R^2: 1.000\n",
      "inv_test_y shape: (17520, 36)\n",
      "test_y_inverse: (17520, 36)\n",
      "inv_y_pred: (17520, 36)\n",
      "y_pred_inverse: (17520, 36)\n",
      "Mean Absolute Error: 0.7776746\n",
      "RMSE: 1.119\n",
      "R^2: 1.000\n",
      "Node shape:  (87600, 33)\n"
     ]
    },
    {
     "name": "stderr",
     "output_type": "stream",
     "text": [
      "/Users/alexellard/opt/anaconda3/lib/python3.7/site-packages/xgboost/data.py:96: UserWarning: Use subset (sliced data) of np.ndarray is not recommended because it will generate extra copies and increase memory consumption\n",
      "  \"because it will generate extra copies and increase \" +\n"
     ]
    },
    {
     "name": "stdout",
     "output_type": "stream",
     "text": [
      "Run 8 Scaled Mean Absolute Error: 0.0017103491\n",
      "Run 8 Scaled RMSE: 0.002\n",
      "Run 8 Scaled R^2: 1.000\n",
      "inv_test_y shape: (17520, 33)\n",
      "test_y_inverse: (17520, 33)\n",
      "inv_y_pred: (17520, 33)\n",
      "y_pred_inverse: (17520, 33)\n",
      "Mean Absolute Error: 1.2991813\n",
      "RMSE: 1.885\n",
      "R^2: 1.000\n",
      "Node shape:  (87600, 33)\n"
     ]
    },
    {
     "name": "stderr",
     "output_type": "stream",
     "text": [
      "/Users/alexellard/opt/anaconda3/lib/python3.7/site-packages/xgboost/data.py:96: UserWarning: Use subset (sliced data) of np.ndarray is not recommended because it will generate extra copies and increase memory consumption\n",
      "  \"because it will generate extra copies and increase \" +\n"
     ]
    },
    {
     "name": "stdout",
     "output_type": "stream",
     "text": [
      "Run 8 Scaled Mean Absolute Error: 0.0009085191\n",
      "Run 8 Scaled RMSE: 0.001\n",
      "Run 8 Scaled R^2: 1.000\n",
      "inv_test_y shape: (17520, 33)\n",
      "test_y_inverse: (17520, 33)\n",
      "inv_y_pred: (17520, 33)\n",
      "y_pred_inverse: (17520, 33)\n",
      "Mean Absolute Error: 7.751485\n",
      "RMSE: 10.607\n",
      "R^2: 1.000\n",
      "Node shape:  (87600, 32)\n"
     ]
    },
    {
     "name": "stderr",
     "output_type": "stream",
     "text": [
      "/Users/alexellard/opt/anaconda3/lib/python3.7/site-packages/xgboost/data.py:96: UserWarning: Use subset (sliced data) of np.ndarray is not recommended because it will generate extra copies and increase memory consumption\n",
      "  \"because it will generate extra copies and increase \" +\n"
     ]
    },
    {
     "name": "stdout",
     "output_type": "stream",
     "text": [
      "Run 8 Scaled Mean Absolute Error: 0.0018016872\n",
      "Run 8 Scaled RMSE: 0.002\n",
      "Run 8 Scaled R^2: 1.000\n",
      "inv_test_y shape: (17520, 32)\n",
      "test_y_inverse: (17520, 32)\n",
      "inv_y_pred: (17520, 32)\n",
      "y_pred_inverse: (17520, 32)\n",
      "Mean Absolute Error: 0.94048053\n",
      "RMSE: 1.220\n",
      "R^2: 1.000\n",
      "Node shape:  (87600, 32)\n"
     ]
    },
    {
     "name": "stderr",
     "output_type": "stream",
     "text": [
      "/Users/alexellard/opt/anaconda3/lib/python3.7/site-packages/xgboost/data.py:96: UserWarning: Use subset (sliced data) of np.ndarray is not recommended because it will generate extra copies and increase memory consumption\n",
      "  \"because it will generate extra copies and increase \" +\n"
     ]
    },
    {
     "name": "stdout",
     "output_type": "stream",
     "text": [
      "Run 8 Scaled Mean Absolute Error: 0.0073111947\n",
      "Run 8 Scaled RMSE: 0.010\n",
      "Run 8 Scaled R^2: 0.997\n",
      "inv_test_y shape: (17520, 32)\n",
      "test_y_inverse: (17520, 32)\n",
      "inv_y_pred: (17520, 32)\n",
      "y_pred_inverse: (17520, 32)\n",
      "Mean Absolute Error: 3.395319\n",
      "RMSE: 4.413\n",
      "R^2: 0.997\n",
      "Node shape:  (87600, 33)\n"
     ]
    },
    {
     "name": "stderr",
     "output_type": "stream",
     "text": [
      "/Users/alexellard/opt/anaconda3/lib/python3.7/site-packages/xgboost/data.py:96: UserWarning: Use subset (sliced data) of np.ndarray is not recommended because it will generate extra copies and increase memory consumption\n",
      "  \"because it will generate extra copies and increase \" +\n"
     ]
    },
    {
     "name": "stdout",
     "output_type": "stream",
     "text": [
      "Run 8 Scaled Mean Absolute Error: 0.01859839\n",
      "Run 8 Scaled RMSE: 0.024\n",
      "Run 8 Scaled R^2: 0.980\n",
      "inv_test_y shape: (17520, 33)\n",
      "test_y_inverse: (17520, 33)\n",
      "inv_y_pred: (17520, 33)\n",
      "y_pred_inverse: (17520, 33)\n",
      "Mean Absolute Error: 158.68149\n",
      "RMSE: 206.365\n",
      "R^2: 0.980\n",
      "Node shape:  (87600, 26)\n"
     ]
    },
    {
     "name": "stderr",
     "output_type": "stream",
     "text": [
      "/Users/alexellard/opt/anaconda3/lib/python3.7/site-packages/xgboost/data.py:96: UserWarning: Use subset (sliced data) of np.ndarray is not recommended because it will generate extra copies and increase memory consumption\n",
      "  \"because it will generate extra copies and increase \" +\n"
     ]
    },
    {
     "name": "stdout",
     "output_type": "stream",
     "text": [
      "Run 9 Scaled Mean Absolute Error: 0.020310549\n",
      "Run 9 Scaled RMSE: 0.027\n",
      "Run 9 Scaled R^2: 0.974\n",
      "inv_test_y shape: (17520, 26)\n",
      "test_y_inverse: (17520, 26)\n",
      "inv_y_pred: (17520, 26)\n",
      "y_pred_inverse: (17520, 26)\n",
      "Mean Absolute Error: 173.28961\n",
      "RMSE: 226.302\n",
      "R^2: 0.974\n",
      "Node shape:  (87600, 26)\n"
     ]
    },
    {
     "name": "stderr",
     "output_type": "stream",
     "text": [
      "/Users/alexellard/opt/anaconda3/lib/python3.7/site-packages/xgboost/data.py:96: UserWarning: Use subset (sliced data) of np.ndarray is not recommended because it will generate extra copies and increase memory consumption\n",
      "  \"because it will generate extra copies and increase \" +\n"
     ]
    },
    {
     "name": "stdout",
     "output_type": "stream",
     "text": [
      "Run 9 Scaled Mean Absolute Error: 0.019604674\n",
      "Run 9 Scaled RMSE: 0.026\n",
      "Run 9 Scaled R^2: 0.979\n",
      "inv_test_y shape: (17520, 26)\n",
      "test_y_inverse: (17520, 26)\n",
      "inv_y_pred: (17520, 26)\n",
      "y_pred_inverse: (17520, 26)\n",
      "Mean Absolute Error: 1.4821132\n",
      "RMSE: 1.936\n",
      "R^2: 0.979\n",
      "Node shape:  (87600, 28)\n"
     ]
    },
    {
     "name": "stderr",
     "output_type": "stream",
     "text": [
      "/Users/alexellard/opt/anaconda3/lib/python3.7/site-packages/xgboost/data.py:96: UserWarning: Use subset (sliced data) of np.ndarray is not recommended because it will generate extra copies and increase memory consumption\n",
      "  \"because it will generate extra copies and increase \" +\n"
     ]
    },
    {
     "name": "stdout",
     "output_type": "stream",
     "text": [
      "Run 9 Scaled Mean Absolute Error: 0.014695753\n",
      "Run 9 Scaled RMSE: 0.019\n",
      "Run 9 Scaled R^2: 0.986\n",
      "inv_test_y shape: (17520, 28)\n",
      "test_y_inverse: (17520, 28)\n",
      "inv_y_pred: (17520, 28)\n",
      "y_pred_inverse: (17520, 28)\n",
      "Mean Absolute Error: 1.110999\n",
      "RMSE: 1.436\n",
      "R^2: 0.986\n",
      "Node shape:  (87600, 28)\n"
     ]
    },
    {
     "name": "stderr",
     "output_type": "stream",
     "text": [
      "/Users/alexellard/opt/anaconda3/lib/python3.7/site-packages/xgboost/data.py:96: UserWarning: Use subset (sliced data) of np.ndarray is not recommended because it will generate extra copies and increase memory consumption\n",
      "  \"because it will generate extra copies and increase \" +\n"
     ]
    },
    {
     "name": "stdout",
     "output_type": "stream",
     "text": [
      "Run 9 Scaled Mean Absolute Error: 0.0018594703\n",
      "Run 9 Scaled RMSE: 0.003\n",
      "Run 9 Scaled R^2: 1.000\n",
      "inv_test_y shape: (17520, 28)\n",
      "test_y_inverse: (17520, 28)\n",
      "inv_y_pred: (17520, 28)\n",
      "y_pred_inverse: (17520, 28)\n",
      "Mean Absolute Error: 0.86353856\n",
      "RMSE: 1.234\n",
      "R^2: 1.000\n",
      "Node shape:  (87600, 25)\n"
     ]
    },
    {
     "name": "stderr",
     "output_type": "stream",
     "text": [
      "/Users/alexellard/opt/anaconda3/lib/python3.7/site-packages/xgboost/data.py:96: UserWarning: Use subset (sliced data) of np.ndarray is not recommended because it will generate extra copies and increase memory consumption\n",
      "  \"because it will generate extra copies and increase \" +\n"
     ]
    },
    {
     "name": "stdout",
     "output_type": "stream",
     "text": [
      "Run 9 Scaled Mean Absolute Error: 0.0018058781\n",
      "Run 9 Scaled RMSE: 0.003\n",
      "Run 9 Scaled R^2: 1.000\n",
      "inv_test_y shape: (17520, 25)\n",
      "test_y_inverse: (17520, 25)\n",
      "inv_y_pred: (17520, 25)\n",
      "y_pred_inverse: (17520, 25)\n",
      "Mean Absolute Error: 1.371745\n",
      "RMSE: 2.008\n",
      "R^2: 1.000\n",
      "Node shape:  (87600, 25)\n"
     ]
    },
    {
     "name": "stderr",
     "output_type": "stream",
     "text": [
      "/Users/alexellard/opt/anaconda3/lib/python3.7/site-packages/xgboost/data.py:96: UserWarning: Use subset (sliced data) of np.ndarray is not recommended because it will generate extra copies and increase memory consumption\n",
      "  \"because it will generate extra copies and increase \" +\n"
     ]
    },
    {
     "name": "stdout",
     "output_type": "stream",
     "text": [
      "Run 9 Scaled Mean Absolute Error: 0.0015086556\n",
      "Run 9 Scaled RMSE: 0.002\n",
      "Run 9 Scaled R^2: 1.000\n",
      "inv_test_y shape: (17520, 25)\n",
      "test_y_inverse: (17520, 25)\n",
      "inv_y_pred: (17520, 25)\n",
      "y_pred_inverse: (17520, 25)\n",
      "Mean Absolute Error: 0.7006199\n",
      "RMSE: 0.976\n",
      "R^2: 1.000\n",
      "Node shape:  (87600, 24)\n"
     ]
    },
    {
     "name": "stderr",
     "output_type": "stream",
     "text": [
      "/Users/alexellard/opt/anaconda3/lib/python3.7/site-packages/xgboost/data.py:96: UserWarning: Use subset (sliced data) of np.ndarray is not recommended because it will generate extra copies and increase memory consumption\n",
      "  \"because it will generate extra copies and increase \" +\n"
     ]
    },
    {
     "name": "stdout",
     "output_type": "stream",
     "text": [
      "Run 9 Scaled Mean Absolute Error: 0.0022382876\n",
      "Run 9 Scaled RMSE: 0.003\n",
      "Run 9 Scaled R^2: 1.000\n",
      "inv_test_y shape: (17520, 24)\n",
      "test_y_inverse: (17520, 24)\n",
      "inv_y_pred: (17520, 24)\n",
      "y_pred_inverse: (17520, 24)\n",
      "Mean Absolute Error: 1.1119813\n",
      "RMSE: 1.434\n",
      "R^2: 1.000\n",
      "Node shape:  (87600, 25)\n"
     ]
    },
    {
     "name": "stderr",
     "output_type": "stream",
     "text": [
      "/Users/alexellard/opt/anaconda3/lib/python3.7/site-packages/xgboost/data.py:96: UserWarning: Use subset (sliced data) of np.ndarray is not recommended because it will generate extra copies and increase memory consumption\n",
      "  \"because it will generate extra copies and increase \" +\n"
     ]
    },
    {
     "name": "stdout",
     "output_type": "stream",
     "text": [
      "Run 9 Scaled Mean Absolute Error: 0.0075022476\n",
      "Run 9 Scaled RMSE: 0.010\n",
      "Run 9 Scaled R^2: 0.997\n",
      "inv_test_y shape: (17520, 25)\n",
      "test_y_inverse: (17520, 25)\n",
      "inv_y_pred: (17520, 25)\n",
      "y_pred_inverse: (17520, 25)\n",
      "Mean Absolute Error: 3.4840438\n",
      "RMSE: 4.529\n",
      "R^2: 0.997\n",
      "Node shape:  (87600, 26)\n"
     ]
    },
    {
     "name": "stderr",
     "output_type": "stream",
     "text": [
      "/Users/alexellard/opt/anaconda3/lib/python3.7/site-packages/xgboost/data.py:96: UserWarning: Use subset (sliced data) of np.ndarray is not recommended because it will generate extra copies and increase memory consumption\n",
      "  \"because it will generate extra copies and increase \" +\n"
     ]
    },
    {
     "name": "stdout",
     "output_type": "stream",
     "text": [
      "Run 9 Scaled Mean Absolute Error: 0.019121505\n",
      "Run 9 Scaled RMSE: 0.025\n",
      "Run 9 Scaled R^2: 0.979\n",
      "inv_test_y shape: (17520, 26)\n",
      "test_y_inverse: (17520, 26)\n",
      "inv_y_pred: (17520, 26)\n",
      "y_pred_inverse: (17520, 26)\n",
      "Mean Absolute Error: 163.1447\n",
      "RMSE: 213.563\n",
      "R^2: 0.979\n",
      "Node shape:  (87600, 19)\n"
     ]
    },
    {
     "name": "stderr",
     "output_type": "stream",
     "text": [
      "/Users/alexellard/opt/anaconda3/lib/python3.7/site-packages/xgboost/data.py:96: UserWarning: Use subset (sliced data) of np.ndarray is not recommended because it will generate extra copies and increase memory consumption\n",
      "  \"because it will generate extra copies and increase \" +\n"
     ]
    },
    {
     "name": "stdout",
     "output_type": "stream",
     "text": [
      "Run 10 Scaled Mean Absolute Error: 0.020455971\n",
      "Run 10 Scaled RMSE: 0.027\n",
      "Run 10 Scaled R^2: 0.973\n",
      "inv_test_y shape: (17520, 19)\n",
      "test_y_inverse: (17520, 19)\n",
      "inv_y_pred: (17520, 19)\n",
      "y_pred_inverse: (17520, 19)\n",
      "Mean Absolute Error: 174.53036\n",
      "RMSE: 227.651\n",
      "R^2: 0.973\n",
      "Node shape:  (87600, 18)\n"
     ]
    },
    {
     "name": "stderr",
     "output_type": "stream",
     "text": [
      "/Users/alexellard/opt/anaconda3/lib/python3.7/site-packages/xgboost/data.py:96: UserWarning: Use subset (sliced data) of np.ndarray is not recommended because it will generate extra copies and increase memory consumption\n",
      "  \"because it will generate extra copies and increase \" +\n"
     ]
    },
    {
     "name": "stdout",
     "output_type": "stream",
     "text": [
      "Run 10 Scaled Mean Absolute Error: 0.020654734\n",
      "Run 10 Scaled RMSE: 0.027\n",
      "Run 10 Scaled R^2: 0.977\n",
      "inv_test_y shape: (17520, 18)\n",
      "test_y_inverse: (17520, 18)\n",
      "inv_y_pred: (17520, 18)\n",
      "y_pred_inverse: (17520, 18)\n",
      "Mean Absolute Error: 1.5614977\n",
      "RMSE: 2.039\n",
      "R^2: 0.977\n",
      "Node shape:  (87600, 21)\n"
     ]
    },
    {
     "name": "stderr",
     "output_type": "stream",
     "text": [
      "/Users/alexellard/opt/anaconda3/lib/python3.7/site-packages/xgboost/data.py:96: UserWarning: Use subset (sliced data) of np.ndarray is not recommended because it will generate extra copies and increase memory consumption\n",
      "  \"because it will generate extra copies and increase \" +\n"
     ]
    },
    {
     "name": "stdout",
     "output_type": "stream",
     "text": [
      "Run 10 Scaled Mean Absolute Error: 0.014985333\n",
      "Run 10 Scaled RMSE: 0.019\n",
      "Run 10 Scaled R^2: 0.986\n",
      "inv_test_y shape: (17520, 21)\n",
      "test_y_inverse: (17520, 21)\n",
      "inv_y_pred: (17520, 21)\n",
      "y_pred_inverse: (17520, 21)\n",
      "Mean Absolute Error: 1.1328912\n",
      "RMSE: 1.461\n",
      "R^2: 0.986\n",
      "Node shape:  (87600, 20)\n"
     ]
    },
    {
     "name": "stderr",
     "output_type": "stream",
     "text": [
      "/Users/alexellard/opt/anaconda3/lib/python3.7/site-packages/xgboost/data.py:96: UserWarning: Use subset (sliced data) of np.ndarray is not recommended because it will generate extra copies and increase memory consumption\n",
      "  \"because it will generate extra copies and increase \" +\n"
     ]
    },
    {
     "name": "stdout",
     "output_type": "stream",
     "text": [
      "Run 10 Scaled Mean Absolute Error: 0.002408533\n",
      "Run 10 Scaled RMSE: 0.003\n",
      "Run 10 Scaled R^2: 0.999\n",
      "inv_test_y shape: (17520, 20)\n",
      "test_y_inverse: (17520, 20)\n",
      "inv_y_pred: (17520, 20)\n",
      "y_pred_inverse: (17520, 20)\n",
      "Mean Absolute Error: 1.1185231\n",
      "RMSE: 1.574\n",
      "R^2: 0.999\n",
      "Node shape:  (87600, 18)\n"
     ]
    },
    {
     "name": "stderr",
     "output_type": "stream",
     "text": [
      "/Users/alexellard/opt/anaconda3/lib/python3.7/site-packages/xgboost/data.py:96: UserWarning: Use subset (sliced data) of np.ndarray is not recommended because it will generate extra copies and increase memory consumption\n",
      "  \"because it will generate extra copies and increase \" +\n"
     ]
    },
    {
     "name": "stdout",
     "output_type": "stream",
     "text": [
      "Run 10 Scaled Mean Absolute Error: 0.0024360153\n",
      "Run 10 Scaled RMSE: 0.003\n",
      "Run 10 Scaled R^2: 0.999\n",
      "inv_test_y shape: (17520, 18)\n",
      "test_y_inverse: (17520, 18)\n",
      "inv_y_pred: (17520, 18)\n",
      "y_pred_inverse: (17520, 18)\n",
      "Mean Absolute Error: 1.8503976\n",
      "RMSE: 2.658\n",
      "R^2: 0.999\n",
      "Node shape:  (87600, 17)\n"
     ]
    },
    {
     "name": "stderr",
     "output_type": "stream",
     "text": [
      "/Users/alexellard/opt/anaconda3/lib/python3.7/site-packages/xgboost/data.py:96: UserWarning: Use subset (sliced data) of np.ndarray is not recommended because it will generate extra copies and increase memory consumption\n",
      "  \"because it will generate extra copies and increase \" +\n"
     ]
    },
    {
     "name": "stdout",
     "output_type": "stream",
     "text": [
      "Run 10 Scaled Mean Absolute Error: 0.002220649\n",
      "Run 10 Scaled RMSE: 0.003\n",
      "Run 10 Scaled R^2: 1.000\n",
      "inv_test_y shape: (17520, 17)\n",
      "test_y_inverse: (17520, 17)\n",
      "inv_y_pred: (17520, 17)\n",
      "y_pred_inverse: (17520, 17)\n",
      "Mean Absolute Error: 1.0312699\n",
      "RMSE: 1.418\n",
      "R^2: 1.000\n",
      "Node shape:  (87600, 17)\n"
     ]
    },
    {
     "name": "stderr",
     "output_type": "stream",
     "text": [
      "/Users/alexellard/opt/anaconda3/lib/python3.7/site-packages/xgboost/data.py:96: UserWarning: Use subset (sliced data) of np.ndarray is not recommended because it will generate extra copies and increase memory consumption\n",
      "  \"because it will generate extra copies and increase \" +\n"
     ]
    },
    {
     "name": "stdout",
     "output_type": "stream",
     "text": [
      "Run 10 Scaled Mean Absolute Error: 0.0023003265\n",
      "Run 10 Scaled RMSE: 0.003\n",
      "Run 10 Scaled R^2: 1.000\n",
      "inv_test_y shape: (17520, 17)\n",
      "test_y_inverse: (17520, 17)\n",
      "inv_y_pred: (17520, 17)\n",
      "y_pred_inverse: (17520, 17)\n",
      "Mean Absolute Error: 1.1428024\n",
      "RMSE: 1.473\n",
      "R^2: 1.000\n",
      "Node shape:  (87600, 18)\n"
     ]
    },
    {
     "name": "stderr",
     "output_type": "stream",
     "text": [
      "/Users/alexellard/opt/anaconda3/lib/python3.7/site-packages/xgboost/data.py:96: UserWarning: Use subset (sliced data) of np.ndarray is not recommended because it will generate extra copies and increase memory consumption\n",
      "  \"because it will generate extra copies and increase \" +\n"
     ]
    },
    {
     "name": "stdout",
     "output_type": "stream",
     "text": [
      "Run 10 Scaled Mean Absolute Error: 0.01057528\n",
      "Run 10 Scaled RMSE: 0.014\n",
      "Run 10 Scaled R^2: 0.994\n",
      "inv_test_y shape: (17520, 18)\n",
      "test_y_inverse: (17520, 18)\n",
      "inv_y_pred: (17520, 18)\n",
      "y_pred_inverse: (17520, 18)\n",
      "Mean Absolute Error: 4.91116\n",
      "RMSE: 6.439\n",
      "R^2: 0.994\n",
      "Node shape:  (87600, 18)\n"
     ]
    },
    {
     "name": "stderr",
     "output_type": "stream",
     "text": [
      "/Users/alexellard/opt/anaconda3/lib/python3.7/site-packages/xgboost/data.py:96: UserWarning: Use subset (sliced data) of np.ndarray is not recommended because it will generate extra copies and increase memory consumption\n",
      "  \"because it will generate extra copies and increase \" +\n"
     ]
    },
    {
     "name": "stdout",
     "output_type": "stream",
     "text": [
      "Run 10 Scaled Mean Absolute Error: 0.021877354\n",
      "Run 10 Scaled RMSE: 0.029\n",
      "Run 10 Scaled R^2: 0.972\n",
      "inv_test_y shape: (17520, 18)\n",
      "test_y_inverse: (17520, 18)\n",
      "inv_y_pred: (17520, 18)\n",
      "y_pred_inverse: (17520, 18)\n",
      "Mean Absolute Error: 186.65758\n",
      "RMSE: 243.895\n",
      "R^2: 0.972\n",
      "Node shape:  (87600, 11)\n"
     ]
    },
    {
     "name": "stderr",
     "output_type": "stream",
     "text": [
      "/Users/alexellard/opt/anaconda3/lib/python3.7/site-packages/xgboost/data.py:96: UserWarning: Use subset (sliced data) of np.ndarray is not recommended because it will generate extra copies and increase memory consumption\n",
      "  \"because it will generate extra copies and increase \" +\n"
     ]
    },
    {
     "name": "stdout",
     "output_type": "stream",
     "text": [
      "Run 11 Scaled Mean Absolute Error: 0.021641072\n",
      "Run 11 Scaled RMSE: 0.028\n",
      "Run 11 Scaled R^2: 0.970\n",
      "inv_test_y shape: (17520, 11)\n",
      "test_y_inverse: (17520, 11)\n",
      "inv_y_pred: (17520, 11)\n",
      "y_pred_inverse: (17520, 11)\n",
      "Mean Absolute Error: 6.7779837\n",
      "RMSE: 8.886\n",
      "R^2: 0.970\n",
      "Node shape:  (87600, 10)\n"
     ]
    },
    {
     "name": "stderr",
     "output_type": "stream",
     "text": [
      "/Users/alexellard/opt/anaconda3/lib/python3.7/site-packages/xgboost/data.py:96: UserWarning: Use subset (sliced data) of np.ndarray is not recommended because it will generate extra copies and increase memory consumption\n",
      "  \"because it will generate extra copies and increase \" +\n"
     ]
    },
    {
     "name": "stdout",
     "output_type": "stream",
     "text": [
      "Run 11 Scaled Mean Absolute Error: 0.021500077\n",
      "Run 11 Scaled RMSE: 0.028\n",
      "Run 11 Scaled R^2: 0.975\n",
      "inv_test_y shape: (17520, 10)\n",
      "test_y_inverse: (17520, 10)\n",
      "inv_y_pred: (17520, 10)\n",
      "y_pred_inverse: (17520, 10)\n",
      "Mean Absolute Error: 1.6254058\n",
      "RMSE: 2.126\n",
      "R^2: 0.975\n",
      "Node shape:  (87600, 14)\n"
     ]
    },
    {
     "name": "stderr",
     "output_type": "stream",
     "text": [
      "/Users/alexellard/opt/anaconda3/lib/python3.7/site-packages/xgboost/data.py:96: UserWarning: Use subset (sliced data) of np.ndarray is not recommended because it will generate extra copies and increase memory consumption\n",
      "  \"because it will generate extra copies and increase \" +\n"
     ]
    },
    {
     "name": "stdout",
     "output_type": "stream",
     "text": [
      "Run 11 Scaled Mean Absolute Error: 0.015153683\n",
      "Run 11 Scaled RMSE: 0.020\n",
      "Run 11 Scaled R^2: 0.986\n",
      "inv_test_y shape: (17520, 14)\n",
      "test_y_inverse: (17520, 14)\n",
      "inv_y_pred: (17520, 14)\n",
      "y_pred_inverse: (17520, 14)\n",
      "Mean Absolute Error: 1.1456184\n",
      "RMSE: 1.476\n",
      "R^2: 0.986\n",
      "Node shape:  (87600, 13)\n"
     ]
    },
    {
     "name": "stderr",
     "output_type": "stream",
     "text": [
      "/Users/alexellard/opt/anaconda3/lib/python3.7/site-packages/xgboost/data.py:96: UserWarning: Use subset (sliced data) of np.ndarray is not recommended because it will generate extra copies and increase memory consumption\n",
      "  \"because it will generate extra copies and increase \" +\n"
     ]
    },
    {
     "name": "stdout",
     "output_type": "stream",
     "text": [
      "Run 11 Scaled Mean Absolute Error: 0.003609163\n",
      "Run 11 Scaled RMSE: 0.006\n",
      "Run 11 Scaled R^2: 0.998\n",
      "inv_test_y shape: (17520, 13)\n",
      "test_y_inverse: (17520, 13)\n",
      "inv_y_pred: (17520, 13)\n",
      "y_pred_inverse: (17520, 13)\n",
      "Mean Absolute Error: 1.6760958\n",
      "RMSE: 2.602\n",
      "R^2: 0.998\n",
      "Node shape:  (87600, 10)\n"
     ]
    },
    {
     "name": "stderr",
     "output_type": "stream",
     "text": [
      "/Users/alexellard/opt/anaconda3/lib/python3.7/site-packages/xgboost/data.py:96: UserWarning: Use subset (sliced data) of np.ndarray is not recommended because it will generate extra copies and increase memory consumption\n",
      "  \"because it will generate extra copies and increase \" +\n"
     ]
    },
    {
     "name": "stdout",
     "output_type": "stream",
     "text": [
      "Run 11 Scaled Mean Absolute Error: 0.0024128158\n",
      "Run 11 Scaled RMSE: 0.003\n",
      "Run 11 Scaled R^2: 0.999\n",
      "inv_test_y shape: (17520, 10)\n",
      "test_y_inverse: (17520, 10)\n",
      "inv_y_pred: (17520, 10)\n",
      "y_pred_inverse: (17520, 10)\n",
      "Mean Absolute Error: 0.6862047\n",
      "RMSE: 0.986\n",
      "R^2: 0.999\n",
      "Node shape:  (87600, 10)\n"
     ]
    },
    {
     "name": "stderr",
     "output_type": "stream",
     "text": [
      "/Users/alexellard/opt/anaconda3/lib/python3.7/site-packages/xgboost/data.py:96: UserWarning: Use subset (sliced data) of np.ndarray is not recommended because it will generate extra copies and increase memory consumption\n",
      "  \"because it will generate extra copies and increase \" +\n"
     ]
    },
    {
     "name": "stdout",
     "output_type": "stream",
     "text": [
      "Run 11 Scaled Mean Absolute Error: 0.002978237\n",
      "Run 11 Scaled RMSE: 0.004\n",
      "Run 11 Scaled R^2: 0.999\n",
      "inv_test_y shape: (17520, 10)\n",
      "test_y_inverse: (17520, 10)\n",
      "inv_y_pred: (17520, 10)\n",
      "y_pred_inverse: (17520, 10)\n",
      "Mean Absolute Error: 1.3830935\n",
      "RMSE: 1.953\n",
      "R^2: 0.999\n",
      "Node shape:  (87600, 9)\n"
     ]
    },
    {
     "name": "stderr",
     "output_type": "stream",
     "text": [
      "/Users/alexellard/opt/anaconda3/lib/python3.7/site-packages/xgboost/data.py:96: UserWarning: Use subset (sliced data) of np.ndarray is not recommended because it will generate extra copies and increase memory consumption\n",
      "  \"because it will generate extra copies and increase \" +\n"
     ]
    },
    {
     "name": "stdout",
     "output_type": "stream",
     "text": [
      "Run 11 Scaled Mean Absolute Error: 0.0037326072\n",
      "Run 11 Scaled RMSE: 0.005\n",
      "Run 11 Scaled R^2: 0.999\n",
      "inv_test_y shape: (17520, 9)\n",
      "test_y_inverse: (17520, 9)\n",
      "inv_y_pred: (17520, 9)\n",
      "y_pred_inverse: (17520, 9)\n",
      "Mean Absolute Error: 2.8352888\n",
      "RMSE: 3.672\n",
      "R^2: 0.999\n",
      "Node shape:  (87600, 11)\n"
     ]
    },
    {
     "name": "stderr",
     "output_type": "stream",
     "text": [
      "/Users/alexellard/opt/anaconda3/lib/python3.7/site-packages/xgboost/data.py:96: UserWarning: Use subset (sliced data) of np.ndarray is not recommended because it will generate extra copies and increase memory consumption\n",
      "  \"because it will generate extra copies and increase \" +\n"
     ]
    },
    {
     "name": "stdout",
     "output_type": "stream",
     "text": [
      "Run 11 Scaled Mean Absolute Error: 0.010556825\n",
      "Run 11 Scaled RMSE: 0.014\n",
      "Run 11 Scaled R^2: 0.994\n",
      "inv_test_y shape: (17520, 11)\n",
      "test_y_inverse: (17520, 11)\n",
      "inv_y_pred: (17520, 11)\n",
      "y_pred_inverse: (17520, 11)\n",
      "Mean Absolute Error: 3.0023615\n",
      "RMSE: 3.934\n",
      "R^2: 0.994\n",
      "Node shape:  (87600, 10)\n"
     ]
    },
    {
     "name": "stderr",
     "output_type": "stream",
     "text": [
      "/Users/alexellard/opt/anaconda3/lib/python3.7/site-packages/xgboost/data.py:96: UserWarning: Use subset (sliced data) of np.ndarray is not recommended because it will generate extra copies and increase memory consumption\n",
      "  \"because it will generate extra copies and increase \" +\n"
     ]
    },
    {
     "name": "stdout",
     "output_type": "stream",
     "text": [
      "Run 11 Scaled Mean Absolute Error: 0.02444642\n",
      "Run 11 Scaled RMSE: 0.032\n",
      "Run 11 Scaled R^2: 0.965\n",
      "inv_test_y shape: (17520, 10)\n",
      "test_y_inverse: (17520, 10)\n",
      "inv_y_pred: (17520, 10)\n",
      "y_pred_inverse: (17520, 10)\n",
      "Mean Absolute Error: 7.3925986\n",
      "RMSE: 9.799\n",
      "R^2: 0.965\n",
      "Node shape:  (87600, 4)\n"
     ]
    },
    {
     "name": "stderr",
     "output_type": "stream",
     "text": [
      "/Users/alexellard/opt/anaconda3/lib/python3.7/site-packages/xgboost/data.py:96: UserWarning: Use subset (sliced data) of np.ndarray is not recommended because it will generate extra copies and increase memory consumption\n",
      "  \"because it will generate extra copies and increase \" +\n"
     ]
    },
    {
     "name": "stdout",
     "output_type": "stream",
     "text": [
      "Run 12 Scaled Mean Absolute Error: 0.031039055\n",
      "Run 12 Scaled RMSE: 0.041\n",
      "Run 12 Scaled R^2: 0.937\n",
      "inv_test_y shape: (17520, 4)\n",
      "test_y_inverse: (17520, 4)\n",
      "inv_y_pred: (17520, 4)\n",
      "y_pred_inverse: (17520, 4)\n",
      "Mean Absolute Error: 4.4696236\n",
      "RMSE: 5.906\n",
      "R^2: 0.937\n",
      "Node shape:  (87600, 3)\n"
     ]
    },
    {
     "name": "stderr",
     "output_type": "stream",
     "text": [
      "/Users/alexellard/opt/anaconda3/lib/python3.7/site-packages/xgboost/data.py:96: UserWarning: Use subset (sliced data) of np.ndarray is not recommended because it will generate extra copies and increase memory consumption\n",
      "  \"because it will generate extra copies and increase \" +\n"
     ]
    },
    {
     "name": "stdout",
     "output_type": "stream",
     "text": [
      "Run 12 Scaled Mean Absolute Error: 0.045589272\n",
      "Run 12 Scaled RMSE: 0.058\n",
      "Run 12 Scaled R^2: 0.894\n",
      "inv_test_y shape: (17520, 3)\n",
      "test_y_inverse: (17520, 3)\n",
      "inv_y_pred: (17520, 3)\n",
      "y_pred_inverse: (17520, 3)\n",
      "Mean Absolute Error: 12.965589\n",
      "RMSE: 16.415\n",
      "R^2: 0.894\n",
      "Node shape:  (87600, 7)\n"
     ]
    },
    {
     "name": "stderr",
     "output_type": "stream",
     "text": [
      "/Users/alexellard/opt/anaconda3/lib/python3.7/site-packages/xgboost/data.py:96: UserWarning: Use subset (sliced data) of np.ndarray is not recommended because it will generate extra copies and increase memory consumption\n",
      "  \"because it will generate extra copies and increase \" +\n"
     ]
    },
    {
     "name": "stdout",
     "output_type": "stream",
     "text": [
      "Run 12 Scaled Mean Absolute Error: 0.015869876\n",
      "Run 12 Scaled RMSE: 0.020\n",
      "Run 12 Scaled R^2: 0.984\n",
      "inv_test_y shape: (17520, 7)\n",
      "test_y_inverse: (17520, 7)\n",
      "inv_y_pred: (17520, 7)\n",
      "y_pred_inverse: (17520, 7)\n",
      "Mean Absolute Error: 7.884155\n",
      "RMSE: 10.182\n",
      "R^2: 0.984\n",
      "Node shape:  (87600, 6)\n"
     ]
    },
    {
     "name": "stderr",
     "output_type": "stream",
     "text": [
      "/Users/alexellard/opt/anaconda3/lib/python3.7/site-packages/xgboost/data.py:96: UserWarning: Use subset (sliced data) of np.ndarray is not recommended because it will generate extra copies and increase memory consumption\n",
      "  \"because it will generate extra copies and increase \" +\n"
     ]
    },
    {
     "name": "stdout",
     "output_type": "stream",
     "text": [
      "Run 12 Scaled Mean Absolute Error: 0.0044988566\n",
      "Run 12 Scaled RMSE: 0.007\n",
      "Run 12 Scaled R^2: 0.998\n",
      "inv_test_y shape: (17520, 6)\n",
      "test_y_inverse: (17520, 6)\n",
      "inv_y_pred: (17520, 6)\n",
      "y_pred_inverse: (17520, 6)\n",
      "Mean Absolute Error: 0.66403115\n",
      "RMSE: 1.000\n",
      "R^2: 0.998\n",
      "Node shape:  (87600, 2)\n"
     ]
    },
    {
     "name": "stderr",
     "output_type": "stream",
     "text": [
      "/Users/alexellard/opt/anaconda3/lib/python3.7/site-packages/xgboost/data.py:96: UserWarning: Use subset (sliced data) of np.ndarray is not recommended because it will generate extra copies and increase memory consumption\n",
      "  \"because it will generate extra copies and increase \" +\n"
     ]
    },
    {
     "name": "stdout",
     "output_type": "stream",
     "text": [
      "Run 12 Scaled Mean Absolute Error: 0.018687598\n",
      "Run 12 Scaled RMSE: 0.026\n",
      "Run 12 Scaled R^2: 0.963\n",
      "inv_test_y shape: (17520, 2)\n",
      "test_y_inverse: (17520, 2)\n",
      "inv_y_pred: (17520, 2)\n",
      "y_pred_inverse: (17520, 2)\n",
      "Mean Absolute Error: 0.5207672\n",
      "RMSE: 0.731\n",
      "R^2: 0.963\n",
      "Node shape:  (87600, 3)\n"
     ]
    },
    {
     "name": "stderr",
     "output_type": "stream",
     "text": [
      "/Users/alexellard/opt/anaconda3/lib/python3.7/site-packages/xgboost/data.py:96: UserWarning: Use subset (sliced data) of np.ndarray is not recommended because it will generate extra copies and increase memory consumption\n",
      "  \"because it will generate extra copies and increase \" +\n"
     ]
    },
    {
     "name": "stdout",
     "output_type": "stream",
     "text": [
      "Run 12 Scaled Mean Absolute Error: 0.01830286\n",
      "Run 12 Scaled RMSE: 0.025\n",
      "Run 12 Scaled R^2: 0.968\n",
      "inv_test_y shape: (17520, 3)\n",
      "test_y_inverse: (17520, 3)\n",
      "inv_y_pred: (17520, 3)\n",
      "y_pred_inverse: (17520, 3)\n",
      "Mean Absolute Error: 0.022183264\n",
      "RMSE: 0.031\n",
      "R^2: 0.968\n",
      "Node shape:  (87600, 1)\n"
     ]
    },
    {
     "ename": "XGBoostError",
     "evalue": "[00:34:05] /Users/travis/build/dmlc/xgboost/src/learner.cc:543: Check failed: mparam_.num_feature != 0 (0 vs. 0) : 0 feature is supplied.  Are you using raw Booster interface?\nStack trace:\n  [bt] (0) 1   libxgboost.dylib                    0x0000001c254c4a60 dmlc::LogMessageFatal::~LogMessageFatal() + 112\n  [bt] (1) 2   libxgboost.dylib                    0x0000001c25575119 xgboost::LearnerConfiguration::ConfigureNumFeatures() + 265\n  [bt] (2) 3   libxgboost.dylib                    0x0000001c2556a8cd xgboost::LearnerConfiguration::Configure() + 1181\n  [bt] (3) 4   libxgboost.dylib                    0x0000001c2556ae68 xgboost::LearnerImpl::UpdateOneIter(int, std::__1::shared_ptr<xgboost::DMatrix>) + 120\n  [bt] (4) 5   libxgboost.dylib                    0x0000001c254bc31d XGBoosterUpdateOneIter + 157\n  [bt] (5) 6   libffi.6.dylib                      0x000000011066b884 ffi_call_unix64 + 76\n  [bt] (6) 7   ???                                 0x00007ffee010e980 0x0 + 140732657625472\n\n",
     "output_type": "error",
     "traceback": [
      "\u001b[0;31m---------------------------------------------------------------------------\u001b[0m",
      "\u001b[0;31mXGBoostError\u001b[0m                              Traceback (most recent call last)",
      "\u001b[0;32m<ipython-input-5-f2baa0392920>\u001b[0m in \u001b[0;36m<module>\u001b[0;34m\u001b[0m\n\u001b[1;32m     39\u001b[0m \u001b[0;34m\u001b[0m\u001b[0m\n\u001b[1;32m     40\u001b[0m             \u001b[0;31m# fit the model on the training data\u001b[0m\u001b[0;34m\u001b[0m\u001b[0;34m\u001b[0m\u001b[0;34m\u001b[0m\u001b[0m\n\u001b[0;32m---> 41\u001b[0;31m             \u001b[0mmodel\u001b[0m\u001b[0;34m.\u001b[0m\u001b[0mfit\u001b[0m\u001b[0;34m(\u001b[0m\u001b[0mtrain_X\u001b[0m\u001b[0;34m,\u001b[0m \u001b[0mtrain_y\u001b[0m\u001b[0;34m)\u001b[0m\u001b[0;34m\u001b[0m\u001b[0;34m\u001b[0m\u001b[0m\n\u001b[0m\u001b[1;32m     42\u001b[0m \u001b[0;34m\u001b[0m\u001b[0m\n\u001b[1;32m     43\u001b[0m             \u001b[0;31m# make predictions on the test data\u001b[0m\u001b[0;34m\u001b[0m\u001b[0;34m\u001b[0m\u001b[0;34m\u001b[0m\u001b[0m\n",
      "\u001b[0;32m~/opt/anaconda3/lib/python3.7/site-packages/xgboost/sklearn.py\u001b[0m in \u001b[0;36mfit\u001b[0;34m(self, X, y, sample_weight, base_margin, eval_set, eval_metric, early_stopping_rounds, verbose, xgb_model, sample_weight_eval_set, callbacks)\u001b[0m\n\u001b[1;32m    546\u001b[0m                               \u001b[0mobj\u001b[0m\u001b[0;34m=\u001b[0m\u001b[0mobj\u001b[0m\u001b[0;34m,\u001b[0m \u001b[0mfeval\u001b[0m\u001b[0;34m=\u001b[0m\u001b[0mfeval\u001b[0m\u001b[0;34m,\u001b[0m\u001b[0;34m\u001b[0m\u001b[0;34m\u001b[0m\u001b[0m\n\u001b[1;32m    547\u001b[0m                               \u001b[0mverbose_eval\u001b[0m\u001b[0;34m=\u001b[0m\u001b[0mverbose\u001b[0m\u001b[0;34m,\u001b[0m \u001b[0mxgb_model\u001b[0m\u001b[0;34m=\u001b[0m\u001b[0mxgb_model\u001b[0m\u001b[0;34m,\u001b[0m\u001b[0;34m\u001b[0m\u001b[0;34m\u001b[0m\u001b[0m\n\u001b[0;32m--> 548\u001b[0;31m                               callbacks=callbacks)\n\u001b[0m\u001b[1;32m    549\u001b[0m \u001b[0;34m\u001b[0m\u001b[0m\n\u001b[1;32m    550\u001b[0m         \u001b[0;32mif\u001b[0m \u001b[0mevals_result\u001b[0m\u001b[0;34m:\u001b[0m\u001b[0;34m\u001b[0m\u001b[0;34m\u001b[0m\u001b[0m\n",
      "\u001b[0;32m~/opt/anaconda3/lib/python3.7/site-packages/xgboost/training.py\u001b[0m in \u001b[0;36mtrain\u001b[0;34m(params, dtrain, num_boost_round, evals, obj, feval, maximize, early_stopping_rounds, evals_result, verbose_eval, xgb_model, callbacks)\u001b[0m\n\u001b[1;32m    210\u001b[0m                            \u001b[0mevals\u001b[0m\u001b[0;34m=\u001b[0m\u001b[0mevals\u001b[0m\u001b[0;34m,\u001b[0m\u001b[0;34m\u001b[0m\u001b[0;34m\u001b[0m\u001b[0m\n\u001b[1;32m    211\u001b[0m                            \u001b[0mobj\u001b[0m\u001b[0;34m=\u001b[0m\u001b[0mobj\u001b[0m\u001b[0;34m,\u001b[0m \u001b[0mfeval\u001b[0m\u001b[0;34m=\u001b[0m\u001b[0mfeval\u001b[0m\u001b[0;34m,\u001b[0m\u001b[0;34m\u001b[0m\u001b[0;34m\u001b[0m\u001b[0m\n\u001b[0;32m--> 212\u001b[0;31m                            xgb_model=xgb_model, callbacks=callbacks)\n\u001b[0m\u001b[1;32m    213\u001b[0m \u001b[0;34m\u001b[0m\u001b[0m\n\u001b[1;32m    214\u001b[0m \u001b[0;34m\u001b[0m\u001b[0m\n",
      "\u001b[0;32m~/opt/anaconda3/lib/python3.7/site-packages/xgboost/training.py\u001b[0m in \u001b[0;36m_train_internal\u001b[0;34m(params, dtrain, num_boost_round, evals, obj, feval, xgb_model, callbacks)\u001b[0m\n\u001b[1;32m     73\u001b[0m         \u001b[0;31m# Skip the first update if it is a recovery step.\u001b[0m\u001b[0;34m\u001b[0m\u001b[0;34m\u001b[0m\u001b[0;34m\u001b[0m\u001b[0m\n\u001b[1;32m     74\u001b[0m         \u001b[0;32mif\u001b[0m \u001b[0mversion\u001b[0m \u001b[0;34m%\u001b[0m \u001b[0;36m2\u001b[0m \u001b[0;34m==\u001b[0m \u001b[0;36m0\u001b[0m\u001b[0;34m:\u001b[0m\u001b[0;34m\u001b[0m\u001b[0;34m\u001b[0m\u001b[0m\n\u001b[0;32m---> 75\u001b[0;31m             \u001b[0mbst\u001b[0m\u001b[0;34m.\u001b[0m\u001b[0mupdate\u001b[0m\u001b[0;34m(\u001b[0m\u001b[0mdtrain\u001b[0m\u001b[0;34m,\u001b[0m \u001b[0mi\u001b[0m\u001b[0;34m,\u001b[0m \u001b[0mobj\u001b[0m\u001b[0;34m)\u001b[0m\u001b[0;34m\u001b[0m\u001b[0;34m\u001b[0m\u001b[0m\n\u001b[0m\u001b[1;32m     76\u001b[0m             \u001b[0mbst\u001b[0m\u001b[0;34m.\u001b[0m\u001b[0msave_rabit_checkpoint\u001b[0m\u001b[0;34m(\u001b[0m\u001b[0;34m)\u001b[0m\u001b[0;34m\u001b[0m\u001b[0;34m\u001b[0m\u001b[0m\n\u001b[1;32m     77\u001b[0m             \u001b[0mversion\u001b[0m \u001b[0;34m+=\u001b[0m \u001b[0;36m1\u001b[0m\u001b[0;34m\u001b[0m\u001b[0;34m\u001b[0m\u001b[0m\n",
      "\u001b[0;32m~/opt/anaconda3/lib/python3.7/site-packages/xgboost/core.py\u001b[0m in \u001b[0;36mupdate\u001b[0;34m(self, dtrain, iteration, fobj)\u001b[0m\n\u001b[1;32m   1159\u001b[0m             _check_call(_LIB.XGBoosterUpdateOneIter(self.handle,\n\u001b[1;32m   1160\u001b[0m                                                     \u001b[0mctypes\u001b[0m\u001b[0;34m.\u001b[0m\u001b[0mc_int\u001b[0m\u001b[0;34m(\u001b[0m\u001b[0miteration\u001b[0m\u001b[0;34m)\u001b[0m\u001b[0;34m,\u001b[0m\u001b[0;34m\u001b[0m\u001b[0;34m\u001b[0m\u001b[0m\n\u001b[0;32m-> 1161\u001b[0;31m                                                     dtrain.handle))\n\u001b[0m\u001b[1;32m   1162\u001b[0m         \u001b[0;32melse\u001b[0m\u001b[0;34m:\u001b[0m\u001b[0;34m\u001b[0m\u001b[0;34m\u001b[0m\u001b[0m\n\u001b[1;32m   1163\u001b[0m             \u001b[0mpred\u001b[0m \u001b[0;34m=\u001b[0m \u001b[0mself\u001b[0m\u001b[0;34m.\u001b[0m\u001b[0mpredict\u001b[0m\u001b[0;34m(\u001b[0m\u001b[0mdtrain\u001b[0m\u001b[0;34m,\u001b[0m \u001b[0moutput_margin\u001b[0m\u001b[0;34m=\u001b[0m\u001b[0;32mTrue\u001b[0m\u001b[0;34m,\u001b[0m \u001b[0mtraining\u001b[0m\u001b[0;34m=\u001b[0m\u001b[0;32mTrue\u001b[0m\u001b[0;34m)\u001b[0m\u001b[0;34m\u001b[0m\u001b[0;34m\u001b[0m\u001b[0m\n",
      "\u001b[0;32m~/opt/anaconda3/lib/python3.7/site-packages/xgboost/core.py\u001b[0m in \u001b[0;36m_check_call\u001b[0;34m(ret)\u001b[0m\n\u001b[1;32m    186\u001b[0m     \"\"\"\n\u001b[1;32m    187\u001b[0m     \u001b[0;32mif\u001b[0m \u001b[0mret\u001b[0m \u001b[0;34m!=\u001b[0m \u001b[0;36m0\u001b[0m\u001b[0;34m:\u001b[0m\u001b[0;34m\u001b[0m\u001b[0;34m\u001b[0m\u001b[0m\n\u001b[0;32m--> 188\u001b[0;31m         \u001b[0;32mraise\u001b[0m \u001b[0mXGBoostError\u001b[0m\u001b[0;34m(\u001b[0m\u001b[0mpy_str\u001b[0m\u001b[0;34m(\u001b[0m\u001b[0m_LIB\u001b[0m\u001b[0;34m.\u001b[0m\u001b[0mXGBGetLastError\u001b[0m\u001b[0;34m(\u001b[0m\u001b[0;34m)\u001b[0m\u001b[0;34m)\u001b[0m\u001b[0;34m)\u001b[0m\u001b[0;34m\u001b[0m\u001b[0;34m\u001b[0m\u001b[0m\n\u001b[0m\u001b[1;32m    189\u001b[0m \u001b[0;34m\u001b[0m\u001b[0m\n\u001b[1;32m    190\u001b[0m \u001b[0;34m\u001b[0m\u001b[0m\n",
      "\u001b[0;31mXGBoostError\u001b[0m: [00:34:05] /Users/travis/build/dmlc/xgboost/src/learner.cc:543: Check failed: mparam_.num_feature != 0 (0 vs. 0) : 0 feature is supplied.  Are you using raw Booster interface?\nStack trace:\n  [bt] (0) 1   libxgboost.dylib                    0x0000001c254c4a60 dmlc::LogMessageFatal::~LogMessageFatal() + 112\n  [bt] (1) 2   libxgboost.dylib                    0x0000001c25575119 xgboost::LearnerConfiguration::ConfigureNumFeatures() + 265\n  [bt] (2) 3   libxgboost.dylib                    0x0000001c2556a8cd xgboost::LearnerConfiguration::Configure() + 1181\n  [bt] (3) 4   libxgboost.dylib                    0x0000001c2556ae68 xgboost::LearnerImpl::UpdateOneIter(int, std::__1::shared_ptr<xgboost::DMatrix>) + 120\n  [bt] (4) 5   libxgboost.dylib                    0x0000001c254bc31d XGBoosterUpdateOneIter + 157\n  [bt] (5) 6   libffi.6.dylib                      0x000000011066b884 ffi_call_unix64 + 76\n  [bt] (6) 7   ???                                 0x00007ffee010e980 0x0 + 140732657625472\n\n"
     ]
    }
   ],
   "source": [
    "MAE_scaled = []\n",
    "RMSE_scaled = []\n",
    "R2_scaled = []\n",
    "MAE = []\n",
    "RMSE = []\n",
    "R2 = []\n",
    "sensors_covered = []\n",
    "\n",
    "for run in range(1,13):\n",
    "    for parameter in parameters:\n",
    "        for node in parameter:\n",
    "            #select random columns to drop\n",
    "            columns_to_drop = random.sample(list(node.columns), 8)\n",
    "            # Drop the selected columns from the dataframe\n",
    "            if node.columns[-1] in columns_to_drop:\n",
    "                columns_to_drop.remove(node.columns[-1])\n",
    "            node.drop(columns_to_drop, axis=1, inplace=True)\n",
    "            print('Node shape: ', node.shape)\n",
    "\n",
    "            # split into train and test sets\n",
    "            values = node.values\n",
    "            scaled = scaler.fit_transform(values)\n",
    "            train, test = train_test_split(scaled, test_size=0.2, random_state=0)\n",
    "\n",
    "            # split into input and outputs\n",
    "            train_X, train_y = train[:, :-1], train[:, -1]\n",
    "            test_X, test_y = test[:, :-1], test[:, -1]\n",
    "\n",
    "            #define model\n",
    "            model = xgb.XGBRegressor(\n",
    "                objective='reg:squarederror',\n",
    "                n_estimators=100,\n",
    "                max_depth=6,\n",
    "                learning_rate=0.1,\n",
    "                subsample=0.9,\n",
    "                colsample_bytree=0.8,\n",
    "                random_state=42\n",
    "            )\n",
    "\n",
    "            # fit the model on the training data\n",
    "            model.fit(train_X, train_y)\n",
    "\n",
    "            # make predictions on the test data\n",
    "            y_pred = model.predict(test_X)\n",
    "\n",
    "            # calculate the mean squared error\n",
    "            mae = mean_absolute_error(test_y, y_pred)\n",
    "            MAE_scaled.append(mae)\n",
    "            print(f'Run {run} Scaled Mean Absolute Error:', mae)\n",
    "            rmse = sqrt(mean_squared_error(test_y, y_pred))\n",
    "            RMSE_scaled.append(rmse)\n",
    "            print(f'Run {run} Scaled RMSE: %.3f' % rmse)\n",
    "            r2 = r2_score(test_y, y_pred)\n",
    "            print(f'Run {run} Scaled R^2: %.3f' % r2)\n",
    "            R2_scaled.append(r2)\n",
    "\n",
    "            percentage_list = round(node.shape[1] / 96 * 100)\n",
    "            sensors_covered.append(percentage_list)\n",
    "            \n",
    "            test_y = test_y.reshape((len(test_y), 1))\n",
    "            inv_test_y = concatenate((test_y, test_X[:, -node.shape[1]:]), axis=1)\n",
    "            print('inv_test_y shape:', inv_test_y.shape)\n",
    "            test_y_inverse = scaler.inverse_transform(inv_test_y)\n",
    "            print('test_y_inverse:', test_y_inverse.shape)\n",
    "            test_y_inverse = test_y_inverse[:,0]\n",
    "\n",
    "            y_pred = y_pred.reshape((len(y_pred), 1))\n",
    "            inv_y_pred = concatenate((y_pred, test_X[:, -node.shape[1]:]), axis=1)\n",
    "            print('inv_y_pred:', inv_y_pred.shape)\n",
    "            y_pred_inverse = scaler.inverse_transform(inv_y_pred)\n",
    "            print('y_pred_inverse:', y_pred_inverse.shape)\n",
    "            y_pred_inverse = y_pred_inverse[:,0]\n",
    "\n",
    "            # evaluate scaled errors\n",
    "            mae_inverse = mean_absolute_error(test_y_inverse, y_pred_inverse)\n",
    "            MAE.append(mae_inverse)\n",
    "            print('Mean Absolute Error:', mae_inverse)\n",
    "            rmse_inverse = sqrt(mean_squared_error(test_y_inverse, y_pred_inverse))\n",
    "            RMSE.append(rmse_inverse)\n",
    "            print('RMSE: %.3f' % rmse_inverse)\n",
    "            r2_inverse = r2_score(test_y_inverse, y_pred_inverse)\n",
    "            R2.append(r2_inverse)\n",
    "            print('R^2: %.3f' % r2_inverse)"
   ]
  },
  {
   "cell_type": "code",
   "execution_count": 6,
   "metadata": {},
   "outputs": [],
   "source": [
    "demand_errors_mae_node1 = MAE[::9]\n",
    "demand_errors_mae_node16 = MAE[1::9]\n",
    "demand_errors_mae_node29 = MAE[2::9]\n",
    "pressure_errors_mae_node1 = MAE[3::9]\n",
    "pressure_errors_mae_node16 = MAE[4::9]\n",
    "pressure_errors_mae_node29 = MAE[5::9]\n",
    "flow_errors_mae_node1 = MAE[6::9]\n",
    "flow_errors_mae_node16 = MAE[7::9]\n",
    "flow_errors_mae_node29 = MAE[8::9]\n",
    "\n",
    "demand_errors_rmse_node1 = RMSE[::9]\n",
    "demand_errors_rmse_node16 = RMSE[1::9]\n",
    "demand_errors_rmse_node29 = RMSE[2::9]\n",
    "pressure_errors_rmse_node1 = RMSE[3::9]\n",
    "pressure_errors_rmse_node16 = RMSE[4::9]\n",
    "pressure_errors_rmse_node29 = RMSE[5::9]\n",
    "flow_errors_rmse_node1 = RMSE[6::9]\n",
    "flow_errors_rmse_node16 = RMSE[7::9]\n",
    "flow_errors_rmse_node29 = RMSE[8::9]\n",
    "\n",
    "demand_errors_r2_node1 = R2[::9]\n",
    "demand_errors_r2_node16 = R2[1::9]\n",
    "demand_errors_r2_node29 = R2[2::9]\n",
    "pressure_errors_r2_node1 = R2[3::9]\n",
    "pressure_errors_r2_node16 = R2[4::9]\n",
    "pressure_errors_r2_node29 = R2[5::9]\n",
    "flow_errors_r2_node1 = R2[6::9]\n",
    "flow_errors_r2_node16 = R2[7::9]\n",
    "flow_errors_r2_node29 = R2[8::9]\n",
    "\n",
    "demand_sensors_covered_node1 = sensors_covered[::9]\n",
    "demand_sensors_covered_node16 = sensors_covered[1::9]\n",
    "demand_sensors_covered_node29 = sensors_covered[2::9]\n",
    "pressure_sensors_covered_node1 = sensors_covered[3::9]\n",
    "pressure_sensors_covered_node16 = sensors_covered[4::9]\n",
    "pressure_sensors_covered_node29 = sensors_covered[5::9]\n",
    "flow_sensors_covered_node1 = sensors_covered[6::9]\n",
    "flow_sensors_covered_node16 = sensors_covered[7::9]\n",
    "flow_sensors_covered_node29 = sensors_covered[8::9]"
   ]
  },
  {
   "cell_type": "code",
   "execution_count": 7,
   "metadata": {},
   "outputs": [
    {
     "data": {
      "image/png": "[encoded data removed]",
      "text/plain": [
       "<Figure size 432x288 with 1 Axes>"
      ]
     },
     "metadata": {
      "needs_background": "light"
     },
     "output_type": "display_data"
    },
    {
     "data": {
      "image/png": "[encoded data removed]",
      "text/plain": [
       "<Figure size 432x288 with 1 Axes>"
      ]
     },
     "metadata": {
      "needs_background": "light"
     },
     "output_type": "display_data"
    },
    {
     "data": {
      "image/png": "[encoded data removed]",
      "text/plain": [
       "<Figure size 432x288 with 1 Axes>"
      ]
     },
     "metadata": {
      "needs_background": "light"
     },
     "output_type": "display_data"
    }
   ],
   "source": [
    "plt.plot(demand_sensors_covered_node1, demand_errors_mae_node1)\n",
    "plt.ylabel(\"Mean Absolute Error\")\n",
    "plt.xlabel(\"Sensor Cover %\")\n",
    "plt.title(\"MAE Error vs. Coverage Demands Node 1\")\n",
    "plt.xlim([100, 0])\n",
    "plt.show()\n",
    "\n",
    "plt.plot(demand_sensors_covered_node1, demand_errors_rmse_node1)\n",
    "plt.ylabel(\"RMSE\")\n",
    "plt.xlabel(\"Sensor Cover %\")\n",
    "plt.title(\"RMSE vs. Coverage Demands Node 1\")\n",
    "plt.xlim([100, 0])\n",
    "plt.show()\n",
    "\n",
    "plt.plot(demand_sensors_covered_node1, demand_errors_r2_node1)\n",
    "plt.ylabel(\"R2\")\n",
    "plt.xlabel(\"Sensor Cover %\")\n",
    "plt.title(\"R2 Error vs. Coverage Demands Node 1\")\n",
    "plt.xlim([100, 0])\n",
    "plt.show()"
   ]
  },
  {
   "cell_type": "code",
   "execution_count": 8,
   "metadata": {},
   "outputs": [
    {
     "data": {
      "image/png": "[encoded data removed]",
      "text/plain": [
       "<Figure size 432x288 with 1 Axes>"
      ]
     },
     "metadata": {
      "needs_background": "light"
     },
     "output_type": "display_data"
    },
    {
     "data": {
      "image/png": "[encoded data removed]",
      "text/plain": [
       "<Figure size 432x288 with 1 Axes>"
      ]
     },
     "metadata": {
      "needs_background": "light"
     },
     "output_type": "display_data"
    },
    {
     "data": {
      "image/png": "[encoded data removed]",
      "text/plain": [
       "<Figure size 432x288 with 1 Axes>"
      ]
     },
     "metadata": {
      "needs_background": "light"
     },
     "output_type": "display_data"
    }
   ],
   "source": [
    "plt.plot(demand_sensors_covered_node16, demand_errors_mae_node16)\n",
    "plt.ylabel(\"Mean Absolute Error\")\n",
    "plt.xlabel(\"Sensor Cover %\")\n",
    "plt.title(\"MAE vs. Coverage Demands Node 16\")\n",
    "plt.xlim([100, 0])\n",
    "plt.show()\n",
    "\n",
    "plt.plot(demand_sensors_covered_node16, demand_errors_rmse_node16)\n",
    "plt.ylabel(\"RMSE\")\n",
    "plt.xlabel(\"Sensor Cover %\")\n",
    "plt.title(\"RMSE vs. Coverage Demands Node 16\")\n",
    "plt.xlim([100, 0])\n",
    "plt.show()\n",
    "\n",
    "plt.plot(demand_sensors_covered_node16, demand_errors_r2_node16)\n",
    "plt.ylabel(\"R2\")\n",
    "plt.xlabel(\"Sensor Cover %\")\n",
    "plt.title(\"R2 vs. Coverage Demands Node 16\")\n",
    "plt.xlim([100, 0])\n",
    "plt.show()"
   ]
  },
  {
   "cell_type": "code",
   "execution_count": 9,
   "metadata": {},
   "outputs": [
    {
     "data": {
      "image/png": "[encoded data removed]",
      "text/plain": [
       "<Figure size 432x288 with 1 Axes>"
      ]
     },
     "metadata": {
      "needs_background": "light"
     },
     "output_type": "display_data"
    },
    {
     "data": {
      "image/png": "[encoded data removed]",
      "text/plain": [
       "<Figure size 432x288 with 1 Axes>"
      ]
     },
     "metadata": {
      "needs_background": "light"
     },
     "output_type": "display_data"
    },
    {
     "data": {
      "image/png": "[encoded data removed]",
      "text/plain": [
       "<Figure size 432x288 with 1 Axes>"
      ]
     },
     "metadata": {
      "needs_background": "light"
     },
     "output_type": "display_data"
    }
   ],
   "source": [
    "plt.plot(demand_sensors_covered_node29, demand_errors_mae_node29)\n",
    "plt.ylabel(\"Mean Absolute Error\")\n",
    "plt.xlabel(\"Sensor Cover %\")\n",
    "plt.title(\"MAE vs. Coverage Demands Node 29\")\n",
    "plt.xlim([100, 0])\n",
    "plt.show()\n",
    "\n",
    "plt.plot(demand_sensors_covered_node29, demand_errors_rmse_node29)\n",
    "plt.ylabel(\"RMSE\")\n",
    "plt.xlabel(\"Sensor Cover %\")\n",
    "plt.title(\"RMSE vs. Coverage Demands Node 29\")\n",
    "plt.xlim([100, 0])\n",
    "plt.show()\n",
    "\n",
    "plt.plot(demand_sensors_covered_node29, demand_errors_r2_node29)\n",
    "plt.ylabel(\"R2\")\n",
    "plt.xlabel(\"Sensor Cover %\")\n",
    "plt.title(\"R2 vs. Coverage Demands Node 29\")\n",
    "plt.xlim([100, 0])\n",
    "plt.show()"
   ]
  },
  {
   "cell_type": "code",
   "execution_count": 10,
   "metadata": {},
   "outputs": [
    {
     "data": {
      "image/png": "[encoded data removed]",
      "text/plain": [
       "<Figure size 432x288 with 1 Axes>"
      ]
     },
     "metadata": {
      "needs_background": "light"
     },
     "output_type": "display_data"
    },
    {
     "data": {
      "image/png": "[encoded data removed]",
      "text/plain": [
       "<Figure size 432x288 with 1 Axes>"
      ]
     },
     "metadata": {
      "needs_background": "light"
     },
     "output_type": "display_data"
    },
    {
     "data": {
      "image/png": "[encoded data removed]",
      "text/plain": [
       "<Figure size 432x288 with 1 Axes>"
      ]
     },
     "metadata": {
      "needs_background": "light"
     },
     "output_type": "display_data"
    }
   ],
   "source": [
    "plt.plot(pressure_sensors_covered_node1, pressure_errors_mae_node1)\n",
    "plt.ylabel(\"Mean Absolute Error\")\n",
    "plt.xlabel(\"Sensor Cover %\")\n",
    "plt.title(\"MAE vs. Coverage Pressure Node 1\")\n",
    "plt.xlim([100, 0])\n",
    "plt.show()\n",
    "\n",
    "plt.plot(pressure_sensors_covered_node1, pressure_errors_rmse_node1)\n",
    "plt.ylabel(\"RMSE\")\n",
    "plt.xlabel(\"Sensor Cover %\")\n",
    "plt.title(\"RMSE vs. Coverage Pressure Node 1\")\n",
    "plt.xlim([100, 0])\n",
    "plt.show()\n",
    "\n",
    "plt.plot(pressure_sensors_covered_node1, pressure_errors_r2_node1)\n",
    "plt.ylabel(\"R2\")\n",
    "plt.xlabel(\"Sensor Cover %\")\n",
    "plt.title(\"R2 vs. Coverage Pressure Node 1\")\n",
    "plt.xlim([100, 0])\n",
    "plt.show()"
   ]
  },
  {
   "cell_type": "code",
   "execution_count": 11,
   "metadata": {},
   "outputs": [
    {
     "data": {
      "image/png": "[encoded data removed]",
      "text/plain": [
       "<Figure size 432x288 with 1 Axes>"
      ]
     },
     "metadata": {
      "needs_background": "light"
     },
     "output_type": "display_data"
    },
    {
     "data": {
      "image/png": "[encoded data removed]",
      "text/plain": [
       "<Figure size 432x288 with 1 Axes>"
      ]
     },
     "metadata": {
      "needs_background": "light"
     },
     "output_type": "display_data"
    },
    {
     "data": {
      "image/png": "[encoded data removed]",
      "text/plain": [
       "<Figure size 432x288 with 1 Axes>"
      ]
     },
     "metadata": {
      "needs_background": "light"
     },
     "output_type": "display_data"
    }
   ],
   "source": [
    "plt.plot(pressure_sensors_covered_node16, pressure_errors_mae_node16)\n",
    "plt.ylabel(\"Mean Absolute Error\")\n",
    "plt.xlabel(\"Sensor Cover %\")\n",
    "plt.title(\"MAE vs. Coverage Pressure Node 16\")\n",
    "plt.xlim([100, 0])\n",
    "plt.show()\n",
    "\n",
    "plt.plot(pressure_sensors_covered_node16, pressure_errors_rmse_node16)\n",
    "plt.ylabel(\"RMSE\")\n",
    "plt.xlabel(\"Sensor Cover %\")\n",
    "plt.title(\"RMSE vs. Coverage Pressure Node 16\")\n",
    "plt.xlim([100, 0])\n",
    "plt.show()\n",
    "\n",
    "plt.plot(pressure_sensors_covered_node16, pressure_errors_r2_node16)\n",
    "plt.ylabel(\"R2\")\n",
    "plt.xlabel(\"Sensor Cover %\")\n",
    "plt.title(\"R2 vs. Coverage Pressure Node 16\")\n",
    "plt.xlim([100, 0])\n",
    "plt.show()"
   ]
  },
  {
   "cell_type": "code",
   "execution_count": 12,
   "metadata": {},
   "outputs": [
    {
     "data": {
      "image/png": "[encoded data removed]",
      "text/plain": [
       "<Figure size 432x288 with 1 Axes>"
      ]
     },
     "metadata": {
      "needs_background": "light"
     },
     "output_type": "display_data"
    },
    {
     "data": {
      "image/png": "[encoded data removed]",
      "text/plain": [
       "<Figure size 432x288 with 1 Axes>"
      ]
     },
     "metadata": {
      "needs_background": "light"
     },
     "output_type": "display_data"
    },
    {
     "data": {
      "image/png": "[encoded data removed]",
      "text/plain": [
       "<Figure size 432x288 with 1 Axes>"
      ]
     },
     "metadata": {
      "needs_background": "light"
     },
     "output_type": "display_data"
    }
   ],
   "source": [
    "plt.plot(pressure_sensors_covered_node29, pressure_errors_mae_node29)\n",
    "plt.ylabel(\"Mean Absolute Error\")\n",
    "plt.xlabel(\"Sensor Cover %\")\n",
    "plt.title(\"MAE vs. Coverage Pressure Node 29\")\n",
    "plt.xlim([100, 0])\n",
    "plt.show()\n",
    "\n",
    "plt.plot(pressure_sensors_covered_node29, pressure_errors_rmse_node29)\n",
    "plt.ylabel(\"RMSE\")\n",
    "plt.xlabel(\"Sensor Cover %\")\n",
    "plt.title(\"RMSE vs. Coverage Pressure Node 29\")\n",
    "plt.xlim([100, 0])\n",
    "plt.show()\n",
    "\n",
    "plt.plot(pressure_sensors_covered_node29, pressure_errors_r2_node29)\n",
    "plt.ylabel(\"R2\")\n",
    "plt.xlabel(\"Sensor Cover %\")\n",
    "plt.title(\"R2 vs. Coverage Pressure Node 29\")\n",
    "plt.xlim([100, 0])\n",
    "plt.show()"
   ]
  },
  {
   "cell_type": "code",
   "execution_count": 13,
   "metadata": {},
   "outputs": [
    {
     "data": {
      "image/png": "[encoded data removed]",
      "text/plain": [
       "<Figure size 432x288 with 1 Axes>"
      ]
     },
     "metadata": {
      "needs_background": "light"
     },
     "output_type": "display_data"
    },
    {
     "data": {
      "image/png": "[encoded data removed]",
      "text/plain": [
       "<Figure size 432x288 with 1 Axes>"
      ]
     },
     "metadata": {
      "needs_background": "light"
     },
     "output_type": "display_data"
    },
    {
     "data": {
      "image/png": "[encoded data removed]",
      "text/plain": [
       "<Figure size 432x288 with 1 Axes>"
      ]
     },
     "metadata": {
      "needs_background": "light"
     },
     "output_type": "display_data"
    }
   ],
   "source": [
    "plt.plot(flow_sensors_covered_node1, flow_errors_mae_node1)\n",
    "plt.ylabel(\"Mean Absolute Error\")\n",
    "plt.xlabel(\"Sensor Cover %\")\n",
    "plt.title(\"MAE vs. Coverage Flows Node 1\")\n",
    "plt.xlim([100, 0])\n",
    "plt.show()\n",
    "\n",
    "plt.plot(flow_sensors_covered_node1, flow_errors_rmse_node1)\n",
    "plt.ylabel(\"RMSE\")\n",
    "plt.xlabel(\"Sensor Cover %\")\n",
    "plt.title(\"RMSE vs. Coverage Flows Node 1\")\n",
    "plt.xlim([100, 0])\n",
    "plt.show()\n",
    "\n",
    "plt.plot(flow_sensors_covered_node1, flow_errors_r2_node1)\n",
    "plt.ylabel(\"R2\")\n",
    "plt.xlabel(\"Sensor Cover %\")\n",
    "plt.title(\"R2 vs. Coverage Flows Node 1\")\n",
    "plt.xlim([100, 0])\n",
    "plt.show()"
   ]
  },
  {
   "cell_type": "code",
   "execution_count": 14,
   "metadata": {},
   "outputs": [
    {
     "data": {
      "image/png": "[encoded data removed]",
      "text/plain": [
       "<Figure size 432x288 with 1 Axes>"
      ]
     },
     "metadata": {
      "needs_background": "light"
     },
     "output_type": "display_data"
    },
    {
     "data": {
      "image/png": "[encoded data removed]",
      "text/plain": [
       "<Figure size 432x288 with 1 Axes>"
      ]
     },
     "metadata": {
      "needs_background": "light"
     },
     "output_type": "display_data"
    },
    {
     "data": {
      "image/png": "[encoded data removed]",
      "text/plain": [
       "<Figure size 432x288 with 1 Axes>"
      ]
     },
     "metadata": {
      "needs_background": "light"
     },
     "output_type": "display_data"
    }
   ],
   "source": [
    "plt.plot(flow_sensors_covered_node16, flow_errors_mae_node16)\n",
    "plt.ylabel(\"Mean Absolute Error\")\n",
    "plt.xlabel(\"Sensor Cover %\")\n",
    "plt.title(\"MAE vs. Coverage Flows Node 16\")\n",
    "plt.xlim([100, 0])\n",
    "plt.show()\n",
    "\n",
    "plt.plot(flow_sensors_covered_node16, flow_errors_rmse_node16)\n",
    "plt.ylabel(\"RMSE\")\n",
    "plt.xlabel(\"Sensor Cover %\")\n",
    "plt.title(\"RMSE vs. Coverage Flows Node 16\")\n",
    "plt.xlim([100, 0])\n",
    "plt.show()\n",
    "\n",
    "plt.plot(flow_sensors_covered_node16, flow_errors_r2_node16)\n",
    "plt.ylabel(\"R2\")\n",
    "plt.xlabel(\"Sensor Cover %\")\n",
    "plt.title(\"R2 vs. Coverage Flows Node 16\")\n",
    "plt.xlim([100, 0])\n",
    "plt.show()"
   ]
  },
  {
   "cell_type": "code",
   "execution_count": 15,
   "metadata": {},
   "outputs": [
    {
     "data": {
      "image/png": "[encoded data removed]",
      "text/plain": [
       "<Figure size 432x288 with 1 Axes>"
      ]
     },
     "metadata": {
      "needs_background": "light"
     },
     "output_type": "display_data"
    },
    {
     "data": {
      "image/png": "[encoded data removed]",
      "text/plain": [
       "<Figure size 432x288 with 1 Axes>"
      ]
     },
     "metadata": {
      "needs_background": "light"
     },
     "output_type": "display_data"
    },
    {
     "data": {
      "image/png": "[encoded data removed]",
      "text/plain": [
       "<Figure size 432x288 with 1 Axes>"
      ]
     },
     "metadata": {
      "needs_background": "light"
     },
     "output_type": "display_data"
    }
   ],
   "source": [
    "plt.plot(flow_sensors_covered_node29, flow_errors_mae_node29)\n",
    "plt.ylabel(\"Mean Absolute Error\")\n",
    "plt.xlabel(\"Sensor Cover %\")\n",
    "plt.title(\"MAE vs. Coverage Flows Node 29\")\n",
    "plt.xlim([100, 0])\n",
    "plt.show()\n",
    "\n",
    "plt.plot(flow_sensors_covered_node29, flow_errors_rmse_node29)\n",
    "plt.ylabel(\"RMSE\")\n",
    "plt.xlabel(\"Sensor Cover %\")\n",
    "plt.title(\"RMSE vs. Coverage Flows Node 29\")\n",
    "plt.xlim([100, 0])\n",
    "plt.show()\n",
    "\n",
    "plt.plot(flow_sensors_covered_node29, flow_errors_r2_node29)\n",
    "plt.ylabel(\"R2\")\n",
    "plt.xlabel(\"Sensor Cover %\")\n",
    "plt.title(\"R2 vs. Coverage Flows Node 29\")\n",
    "plt.xlim([100, 0])\n",
    "plt.show()"
   ]
  },
  {
   "cell_type": "code",
   "execution_count": null,
   "metadata": {},
   "outputs": [],
   "source": []
  }
 ],
 "metadata": {
  "kernelspec": {
   "display_name": "Python 3",
   "language": "python",
   "name": "python3"
  },
  "language_info": {
   "codemirror_mode": {
    "name": "ipython",
    "version": 3
   },
   "file_extension": ".py",
   "mimetype": "text/x-python",
   "name": "python",
   "nbconvert_exporter": "python",
   "pygments_lexer": "ipython3",
   "version": "3.7.4"
  }
 },
 "nbformat": 4,
 "nbformat_minor": 2
}
