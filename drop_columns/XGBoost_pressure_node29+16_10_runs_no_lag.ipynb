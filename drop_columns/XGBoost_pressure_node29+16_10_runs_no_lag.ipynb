{
 "cells": [
  {
   "cell_type": "code",
   "execution_count": 1,
   "metadata": {},
   "outputs": [
    {
     "name": "stderr",
     "output_type": "stream",
     "text": [
      "/Users/alexellard/opt/anaconda3/lib/python3.7/site-packages/dask/dataframe/utils.py:14: FutureWarning: pandas.util.testing is deprecated. Use the functions in the public API at pandas.testing instead.\n",
      "  import pandas.util.testing as tm\n"
     ]
    }
   ],
   "source": [
    "import xgboost as xgb\n",
    "import pandas as pd\n",
    "import numpy as np\n",
    "from sklearn.preprocessing import LabelEncoder\n",
    "from sklearn.preprocessing import MinMaxScaler\n",
    "from sklearn.model_selection import train_test_split\n",
    "from sklearn.metrics import mean_squared_error, mean_absolute_error, r2_score\n",
    "from numpy import concatenate\n",
    "from math import sqrt\n",
    "from statistics import mean\n",
    "import random\n",
    "import matplotlib.pyplot as plt"
   ]
  },
  {
   "cell_type": "code",
   "execution_count": 2,
   "metadata": {},
   "outputs": [
    {
     "data": {
      "text/html": [
       "<div>\n",
       "<style scoped>\n",
       "    .dataframe tbody tr th:only-of-type {\n",
       "        vertical-align: middle;\n",
       "    }\n",
       "\n",
       "    .dataframe tbody tr th {\n",
       "        vertical-align: top;\n",
       "    }\n",
       "\n",
       "    .dataframe thead th {\n",
       "        text-align: right;\n",
       "    }\n",
       "</style>\n",
       "<table border=\"1\" class=\"dataframe\">\n",
       "  <thead>\n",
       "    <tr style=\"text-align: right;\">\n",
       "      <th></th>\n",
       "      <th>reservoir_demand</th>\n",
       "      <th>node_1_demand</th>\n",
       "      <th>node_2_demand</th>\n",
       "      <th>node_3_demand</th>\n",
       "      <th>node_4_demand</th>\n",
       "      <th>node_5_demand</th>\n",
       "      <th>node_6_demand</th>\n",
       "      <th>node_7_demand</th>\n",
       "      <th>node_8_demand</th>\n",
       "      <th>node_9_demand</th>\n",
       "      <th>...</th>\n",
       "      <th>link_23_flow</th>\n",
       "      <th>link_24_flow</th>\n",
       "      <th>link_25_flow</th>\n",
       "      <th>link_26_flow</th>\n",
       "      <th>link_27_flow</th>\n",
       "      <th>link_28_flow</th>\n",
       "      <th>link_29_flow</th>\n",
       "      <th>link_30_flow</th>\n",
       "      <th>link_31_flow</th>\n",
       "      <th>link_32_flow</th>\n",
       "    </tr>\n",
       "    <tr>\n",
       "      <th>Timestamp</th>\n",
       "      <th></th>\n",
       "      <th></th>\n",
       "      <th></th>\n",
       "      <th></th>\n",
       "      <th></th>\n",
       "      <th></th>\n",
       "      <th></th>\n",
       "      <th></th>\n",
       "      <th></th>\n",
       "      <th></th>\n",
       "      <th></th>\n",
       "      <th></th>\n",
       "      <th></th>\n",
       "      <th></th>\n",
       "      <th></th>\n",
       "      <th></th>\n",
       "      <th></th>\n",
       "      <th></th>\n",
       "      <th></th>\n",
       "      <th></th>\n",
       "      <th></th>\n",
       "    </tr>\n",
       "  </thead>\n",
       "  <tbody>\n",
       "    <tr>\n",
       "      <th>2017-01-01 00:00:00</th>\n",
       "      <td>-3348.0</td>\n",
       "      <td>154.8</td>\n",
       "      <td>169.2</td>\n",
       "      <td>18.0</td>\n",
       "      <td>118.8</td>\n",
       "      <td>169.2</td>\n",
       "      <td>234.0</td>\n",
       "      <td>86.4</td>\n",
       "      <td>82.8</td>\n",
       "      <td>104.4</td>\n",
       "      <td>...</td>\n",
       "      <td>439.2</td>\n",
       "      <td>-205.2</td>\n",
       "      <td>-75.6</td>\n",
       "      <td>-18.0</td>\n",
       "      <td>118.8</td>\n",
       "      <td>68.4</td>\n",
       "      <td>7.2</td>\n",
       "      <td>-54.0</td>\n",
       "      <td>75.6</td>\n",
       "      <td>212.4</td>\n",
       "    </tr>\n",
       "    <tr>\n",
       "      <th>2017-01-01 00:30:00</th>\n",
       "      <td>-2959.2</td>\n",
       "      <td>136.8</td>\n",
       "      <td>147.6</td>\n",
       "      <td>18.0</td>\n",
       "      <td>108.0</td>\n",
       "      <td>144.0</td>\n",
       "      <td>237.6</td>\n",
       "      <td>79.2</td>\n",
       "      <td>75.6</td>\n",
       "      <td>90.0</td>\n",
       "      <td>...</td>\n",
       "      <td>392.4</td>\n",
       "      <td>-187.2</td>\n",
       "      <td>-72.0</td>\n",
       "      <td>-21.6</td>\n",
       "      <td>108.0</td>\n",
       "      <td>61.2</td>\n",
       "      <td>3.6</td>\n",
       "      <td>-54.0</td>\n",
       "      <td>72.0</td>\n",
       "      <td>183.6</td>\n",
       "    </tr>\n",
       "    <tr>\n",
       "      <th>2017-01-01 01:00:00</th>\n",
       "      <td>-2692.8</td>\n",
       "      <td>129.6</td>\n",
       "      <td>126.0</td>\n",
       "      <td>14.4</td>\n",
       "      <td>104.4</td>\n",
       "      <td>133.2</td>\n",
       "      <td>205.2</td>\n",
       "      <td>72.0</td>\n",
       "      <td>72.0</td>\n",
       "      <td>90.0</td>\n",
       "      <td>...</td>\n",
       "      <td>349.2</td>\n",
       "      <td>-176.4</td>\n",
       "      <td>-64.8</td>\n",
       "      <td>-18.0</td>\n",
       "      <td>93.6</td>\n",
       "      <td>50.4</td>\n",
       "      <td>3.6</td>\n",
       "      <td>-39.6</td>\n",
       "      <td>54.0</td>\n",
       "      <td>151.2</td>\n",
       "    </tr>\n",
       "    <tr>\n",
       "      <th>2017-01-01 01:30:00</th>\n",
       "      <td>-2379.6</td>\n",
       "      <td>104.4</td>\n",
       "      <td>100.8</td>\n",
       "      <td>10.8</td>\n",
       "      <td>86.4</td>\n",
       "      <td>122.4</td>\n",
       "      <td>180.0</td>\n",
       "      <td>68.4</td>\n",
       "      <td>57.6</td>\n",
       "      <td>82.8</td>\n",
       "      <td>...</td>\n",
       "      <td>316.8</td>\n",
       "      <td>-158.4</td>\n",
       "      <td>-54.0</td>\n",
       "      <td>-10.8</td>\n",
       "      <td>79.2</td>\n",
       "      <td>46.8</td>\n",
       "      <td>7.2</td>\n",
       "      <td>-32.4</td>\n",
       "      <td>50.4</td>\n",
       "      <td>140.4</td>\n",
       "    </tr>\n",
       "    <tr>\n",
       "      <th>2017-01-01 02:00:00</th>\n",
       "      <td>-2228.4</td>\n",
       "      <td>104.4</td>\n",
       "      <td>104.4</td>\n",
       "      <td>10.8</td>\n",
       "      <td>79.2</td>\n",
       "      <td>122.4</td>\n",
       "      <td>183.6</td>\n",
       "      <td>68.4</td>\n",
       "      <td>54.0</td>\n",
       "      <td>75.6</td>\n",
       "      <td>...</td>\n",
       "      <td>277.2</td>\n",
       "      <td>-144.0</td>\n",
       "      <td>-57.6</td>\n",
       "      <td>-18.0</td>\n",
       "      <td>72.0</td>\n",
       "      <td>39.6</td>\n",
       "      <td>7.2</td>\n",
       "      <td>-32.4</td>\n",
       "      <td>43.2</td>\n",
       "      <td>118.8</td>\n",
       "    </tr>\n",
       "    <tr>\n",
       "      <th>...</th>\n",
       "      <td>...</td>\n",
       "      <td>...</td>\n",
       "      <td>...</td>\n",
       "      <td>...</td>\n",
       "      <td>...</td>\n",
       "      <td>...</td>\n",
       "      <td>...</td>\n",
       "      <td>...</td>\n",
       "      <td>...</td>\n",
       "      <td>...</td>\n",
       "      <td>...</td>\n",
       "      <td>...</td>\n",
       "      <td>...</td>\n",
       "      <td>...</td>\n",
       "      <td>...</td>\n",
       "      <td>...</td>\n",
       "      <td>...</td>\n",
       "      <td>...</td>\n",
       "      <td>...</td>\n",
       "      <td>...</td>\n",
       "      <td>...</td>\n",
       "    </tr>\n",
       "    <tr>\n",
       "      <th>2017-12-31 21:30:00</th>\n",
       "      <td>-5306.4</td>\n",
       "      <td>205.2</td>\n",
       "      <td>208.8</td>\n",
       "      <td>39.6</td>\n",
       "      <td>183.6</td>\n",
       "      <td>284.4</td>\n",
       "      <td>316.8</td>\n",
       "      <td>176.4</td>\n",
       "      <td>133.2</td>\n",
       "      <td>129.6</td>\n",
       "      <td>...</td>\n",
       "      <td>604.8</td>\n",
       "      <td>-259.2</td>\n",
       "      <td>32.4</td>\n",
       "      <td>115.2</td>\n",
       "      <td>169.2</td>\n",
       "      <td>100.8</td>\n",
       "      <td>10.8</td>\n",
       "      <td>-100.8</td>\n",
       "      <td>122.4</td>\n",
       "      <td>309.6</td>\n",
       "    </tr>\n",
       "    <tr>\n",
       "      <th>2017-12-31 22:00:00</th>\n",
       "      <td>-4910.4</td>\n",
       "      <td>208.8</td>\n",
       "      <td>183.6</td>\n",
       "      <td>39.6</td>\n",
       "      <td>154.8</td>\n",
       "      <td>252.0</td>\n",
       "      <td>295.2</td>\n",
       "      <td>165.6</td>\n",
       "      <td>133.2</td>\n",
       "      <td>133.2</td>\n",
       "      <td>...</td>\n",
       "      <td>565.2</td>\n",
       "      <td>-241.2</td>\n",
       "      <td>21.6</td>\n",
       "      <td>100.8</td>\n",
       "      <td>154.8</td>\n",
       "      <td>86.4</td>\n",
       "      <td>18.0</td>\n",
       "      <td>-75.6</td>\n",
       "      <td>100.8</td>\n",
       "      <td>288.0</td>\n",
       "    </tr>\n",
       "    <tr>\n",
       "      <th>2017-12-31 22:30:00</th>\n",
       "      <td>-4683.6</td>\n",
       "      <td>187.2</td>\n",
       "      <td>183.6</td>\n",
       "      <td>36.0</td>\n",
       "      <td>147.6</td>\n",
       "      <td>230.4</td>\n",
       "      <td>320.4</td>\n",
       "      <td>147.6</td>\n",
       "      <td>118.8</td>\n",
       "      <td>126.0</td>\n",
       "      <td>...</td>\n",
       "      <td>529.2</td>\n",
       "      <td>-226.8</td>\n",
       "      <td>21.6</td>\n",
       "      <td>100.8</td>\n",
       "      <td>147.6</td>\n",
       "      <td>86.4</td>\n",
       "      <td>14.4</td>\n",
       "      <td>-86.4</td>\n",
       "      <td>108.0</td>\n",
       "      <td>266.4</td>\n",
       "    </tr>\n",
       "    <tr>\n",
       "      <th>2017-12-31 23:00:00</th>\n",
       "      <td>-4262.4</td>\n",
       "      <td>180.0</td>\n",
       "      <td>165.6</td>\n",
       "      <td>32.4</td>\n",
       "      <td>136.8</td>\n",
       "      <td>223.2</td>\n",
       "      <td>241.2</td>\n",
       "      <td>147.6</td>\n",
       "      <td>115.2</td>\n",
       "      <td>111.6</td>\n",
       "      <td>...</td>\n",
       "      <td>496.8</td>\n",
       "      <td>-208.8</td>\n",
       "      <td>21.6</td>\n",
       "      <td>93.6</td>\n",
       "      <td>133.2</td>\n",
       "      <td>79.2</td>\n",
       "      <td>14.4</td>\n",
       "      <td>-75.6</td>\n",
       "      <td>97.2</td>\n",
       "      <td>255.6</td>\n",
       "    </tr>\n",
       "    <tr>\n",
       "      <th>2017-12-31 23:30:00</th>\n",
       "      <td>-3808.8</td>\n",
       "      <td>176.4</td>\n",
       "      <td>169.2</td>\n",
       "      <td>25.2</td>\n",
       "      <td>122.4</td>\n",
       "      <td>201.6</td>\n",
       "      <td>241.2</td>\n",
       "      <td>122.4</td>\n",
       "      <td>100.8</td>\n",
       "      <td>93.6</td>\n",
       "      <td>...</td>\n",
       "      <td>421.2</td>\n",
       "      <td>-180.0</td>\n",
       "      <td>28.8</td>\n",
       "      <td>86.4</td>\n",
       "      <td>118.8</td>\n",
       "      <td>68.4</td>\n",
       "      <td>10.8</td>\n",
       "      <td>-68.4</td>\n",
       "      <td>86.4</td>\n",
       "      <td>216.0</td>\n",
       "    </tr>\n",
       "  </tbody>\n",
       "</table>\n",
       "<p>87600 rows × 96 columns</p>\n",
       "</div>"
      ],
      "text/plain": [
       "                     reservoir_demand  node_1_demand  node_2_demand  \\\n",
       "Timestamp                                                             \n",
       "2017-01-01 00:00:00           -3348.0          154.8          169.2   \n",
       "2017-01-01 00:30:00           -2959.2          136.8          147.6   \n",
       "2017-01-01 01:00:00           -2692.8          129.6          126.0   \n",
       "2017-01-01 01:30:00           -2379.6          104.4          100.8   \n",
       "2017-01-01 02:00:00           -2228.4          104.4          104.4   \n",
       "...                               ...            ...            ...   \n",
       "2017-12-31 21:30:00           -5306.4          205.2          208.8   \n",
       "2017-12-31 22:00:00           -4910.4          208.8          183.6   \n",
       "2017-12-31 22:30:00           -4683.6          187.2          183.6   \n",
       "2017-12-31 23:00:00           -4262.4          180.0          165.6   \n",
       "2017-12-31 23:30:00           -3808.8          176.4          169.2   \n",
       "\n",
       "                     node_3_demand  node_4_demand  node_5_demand  \\\n",
       "Timestamp                                                          \n",
       "2017-01-01 00:00:00           18.0          118.8          169.2   \n",
       "2017-01-01 00:30:00           18.0          108.0          144.0   \n",
       "2017-01-01 01:00:00           14.4          104.4          133.2   \n",
       "2017-01-01 01:30:00           10.8           86.4          122.4   \n",
       "2017-01-01 02:00:00           10.8           79.2          122.4   \n",
       "...                            ...            ...            ...   \n",
       "2017-12-31 21:30:00           39.6          183.6          284.4   \n",
       "2017-12-31 22:00:00           39.6          154.8          252.0   \n",
       "2017-12-31 22:30:00           36.0          147.6          230.4   \n",
       "2017-12-31 23:00:00           32.4          136.8          223.2   \n",
       "2017-12-31 23:30:00           25.2          122.4          201.6   \n",
       "\n",
       "                     node_6_demand  node_7_demand  node_8_demand  \\\n",
       "Timestamp                                                          \n",
       "2017-01-01 00:00:00          234.0           86.4           82.8   \n",
       "2017-01-01 00:30:00          237.6           79.2           75.6   \n",
       "2017-01-01 01:00:00          205.2           72.0           72.0   \n",
       "2017-01-01 01:30:00          180.0           68.4           57.6   \n",
       "2017-01-01 02:00:00          183.6           68.4           54.0   \n",
       "...                            ...            ...            ...   \n",
       "2017-12-31 21:30:00          316.8          176.4          133.2   \n",
       "2017-12-31 22:00:00          295.2          165.6          133.2   \n",
       "2017-12-31 22:30:00          320.4          147.6          118.8   \n",
       "2017-12-31 23:00:00          241.2          147.6          115.2   \n",
       "2017-12-31 23:30:00          241.2          122.4          100.8   \n",
       "\n",
       "                     node_9_demand  ...  link_23_flow  link_24_flow  \\\n",
       "Timestamp                           ...                               \n",
       "2017-01-01 00:00:00          104.4  ...         439.2        -205.2   \n",
       "2017-01-01 00:30:00           90.0  ...         392.4        -187.2   \n",
       "2017-01-01 01:00:00           90.0  ...         349.2        -176.4   \n",
       "2017-01-01 01:30:00           82.8  ...         316.8        -158.4   \n",
       "2017-01-01 02:00:00           75.6  ...         277.2        -144.0   \n",
       "...                            ...  ...           ...           ...   \n",
       "2017-12-31 21:30:00          129.6  ...         604.8        -259.2   \n",
       "2017-12-31 22:00:00          133.2  ...         565.2        -241.2   \n",
       "2017-12-31 22:30:00          126.0  ...         529.2        -226.8   \n",
       "2017-12-31 23:00:00          111.6  ...         496.8        -208.8   \n",
       "2017-12-31 23:30:00           93.6  ...         421.2        -180.0   \n",
       "\n",
       "                     link_25_flow  link_26_flow  link_27_flow  link_28_flow  \\\n",
       "Timestamp                                                                     \n",
       "2017-01-01 00:00:00         -75.6         -18.0         118.8          68.4   \n",
       "2017-01-01 00:30:00         -72.0         -21.6         108.0          61.2   \n",
       "2017-01-01 01:00:00         -64.8         -18.0          93.6          50.4   \n",
       "2017-01-01 01:30:00         -54.0         -10.8          79.2          46.8   \n",
       "2017-01-01 02:00:00         -57.6         -18.0          72.0          39.6   \n",
       "...                           ...           ...           ...           ...   \n",
       "2017-12-31 21:30:00          32.4         115.2         169.2         100.8   \n",
       "2017-12-31 22:00:00          21.6         100.8         154.8          86.4   \n",
       "2017-12-31 22:30:00          21.6         100.8         147.6          86.4   \n",
       "2017-12-31 23:00:00          21.6          93.6         133.2          79.2   \n",
       "2017-12-31 23:30:00          28.8          86.4         118.8          68.4   \n",
       "\n",
       "                     link_29_flow  link_30_flow  link_31_flow  link_32_flow  \n",
       "Timestamp                                                                    \n",
       "2017-01-01 00:00:00           7.2         -54.0          75.6         212.4  \n",
       "2017-01-01 00:30:00           3.6         -54.0          72.0         183.6  \n",
       "2017-01-01 01:00:00           3.6         -39.6          54.0         151.2  \n",
       "2017-01-01 01:30:00           7.2         -32.4          50.4         140.4  \n",
       "2017-01-01 02:00:00           7.2         -32.4          43.2         118.8  \n",
       "...                           ...           ...           ...           ...  \n",
       "2017-12-31 21:30:00          10.8        -100.8         122.4         309.6  \n",
       "2017-12-31 22:00:00          18.0         -75.6         100.8         288.0  \n",
       "2017-12-31 22:30:00          14.4         -86.4         108.0         266.4  \n",
       "2017-12-31 23:00:00          14.4         -75.6          97.2         255.6  \n",
       "2017-12-31 23:30:00          10.8         -68.4          86.4         216.0  \n",
       "\n",
       "[87600 rows x 96 columns]"
      ]
     },
     "execution_count": 2,
     "metadata": {},
     "output_type": "execute_result"
    }
   ],
   "source": [
    "df = pd.read_csv('/Users/alexellard/Downloads/scenarios_data.csv', header=0, index_col=0)\n",
    "df"
   ]
  },
  {
   "cell_type": "code",
   "execution_count": 3,
   "metadata": {},
   "outputs": [
    {
     "name": "stdout",
     "output_type": "stream",
     "text": [
      "[[]]\n",
      "starting df shape: (87600, 96)\n",
      "This is training run 1 and has the shape:  (87600, 96)\n",
      "The value of dropped columns is 0\n"
     ]
    },
    {
     "name": "stderr",
     "output_type": "stream",
     "text": [
      "/Users/alexellard/opt/anaconda3/lib/python3.7/site-packages/xgboost/data.py:96: UserWarning: Use subset (sliced data) of np.ndarray is not recommended because it will generate extra copies and increase memory consumption\n",
      "  \"because it will generate extra copies and increase \" +\n"
     ]
    },
    {
     "name": "stdout",
     "output_type": "stream",
     "text": [
      "test y shape : (17520, 1)\n",
      "Inv y shape : (17520, 96)\n",
      "y pred shape : (17520, 1)\n",
      "inv y pred : (17520, 96)\n",
      "Run 1 Mean Absolute Error: 2.7127859912848926\n",
      "RMSE: 3.887\n",
      "R^2: 1.000\n",
      "[[]]\n",
      "starting df shape: (87600, 96)\n",
      "This is training run 2 and has the shape:  (87600, 96)\n",
      "The value of dropped columns is 0\n"
     ]
    },
    {
     "name": "stderr",
     "output_type": "stream",
     "text": [
      "/Users/alexellard/opt/anaconda3/lib/python3.7/site-packages/xgboost/data.py:96: UserWarning: Use subset (sliced data) of np.ndarray is not recommended because it will generate extra copies and increase memory consumption\n",
      "  \"because it will generate extra copies and increase \" +\n"
     ]
    },
    {
     "name": "stdout",
     "output_type": "stream",
     "text": [
      "test y shape : (17520, 1)\n",
      "Inv y shape : (17520, 96)\n",
      "y pred shape : (17520, 1)\n",
      "inv y pred : (17520, 96)\n",
      "Run 2 Mean Absolute Error: 2.7127859912848926\n",
      "RMSE: 3.887\n",
      "R^2: 1.000\n",
      "[[]]\n",
      "starting df shape: (87600, 96)\n",
      "This is training run 3 and has the shape:  (87600, 96)\n",
      "The value of dropped columns is 0\n"
     ]
    },
    {
     "name": "stderr",
     "output_type": "stream",
     "text": [
      "/Users/alexellard/opt/anaconda3/lib/python3.7/site-packages/xgboost/data.py:96: UserWarning: Use subset (sliced data) of np.ndarray is not recommended because it will generate extra copies and increase memory consumption\n",
      "  \"because it will generate extra copies and increase \" +\n"
     ]
    },
    {
     "name": "stdout",
     "output_type": "stream",
     "text": [
      "test y shape : (17520, 1)\n",
      "Inv y shape : (17520, 96)\n",
      "y pred shape : (17520, 1)\n",
      "inv y pred : (17520, 96)\n",
      "Run 3 Mean Absolute Error: 2.7127859912848926\n",
      "RMSE: 3.887\n",
      "R^2: 1.000\n",
      "[[]]\n",
      "starting df shape: (87600, 96)\n",
      "This is training run 4 and has the shape:  (87600, 96)\n",
      "The value of dropped columns is 0\n"
     ]
    },
    {
     "name": "stderr",
     "output_type": "stream",
     "text": [
      "/Users/alexellard/opt/anaconda3/lib/python3.7/site-packages/xgboost/data.py:96: UserWarning: Use subset (sliced data) of np.ndarray is not recommended because it will generate extra copies and increase memory consumption\n",
      "  \"because it will generate extra copies and increase \" +\n"
     ]
    },
    {
     "name": "stdout",
     "output_type": "stream",
     "text": [
      "test y shape : (17520, 1)\n",
      "Inv y shape : (17520, 96)\n",
      "y pred shape : (17520, 1)\n",
      "inv y pred : (17520, 96)\n",
      "Run 4 Mean Absolute Error: 2.7127859912848926\n",
      "RMSE: 3.887\n",
      "R^2: 1.000\n",
      "[[]]\n",
      "starting df shape: (87600, 96)\n",
      "This is training run 5 and has the shape:  (87600, 96)\n",
      "The value of dropped columns is 0\n"
     ]
    },
    {
     "name": "stderr",
     "output_type": "stream",
     "text": [
      "/Users/alexellard/opt/anaconda3/lib/python3.7/site-packages/xgboost/data.py:96: UserWarning: Use subset (sliced data) of np.ndarray is not recommended because it will generate extra copies and increase memory consumption\n",
      "  \"because it will generate extra copies and increase \" +\n"
     ]
    },
    {
     "name": "stdout",
     "output_type": "stream",
     "text": [
      "test y shape : (17520, 1)\n",
      "Inv y shape : (17520, 96)\n",
      "y pred shape : (17520, 1)\n",
      "inv y pred : (17520, 96)\n",
      "Run 5 Mean Absolute Error: 2.7127859912848926\n",
      "RMSE: 3.887\n",
      "R^2: 1.000\n",
      "[[]]\n",
      "starting df shape: (87600, 96)\n",
      "This is training run 6 and has the shape:  (87600, 96)\n",
      "The value of dropped columns is 0\n"
     ]
    },
    {
     "name": "stderr",
     "output_type": "stream",
     "text": [
      "/Users/alexellard/opt/anaconda3/lib/python3.7/site-packages/xgboost/data.py:96: UserWarning: Use subset (sliced data) of np.ndarray is not recommended because it will generate extra copies and increase memory consumption\n",
      "  \"because it will generate extra copies and increase \" +\n"
     ]
    },
    {
     "name": "stdout",
     "output_type": "stream",
     "text": [
      "test y shape : (17520, 1)\n",
      "Inv y shape : (17520, 96)\n",
      "y pred shape : (17520, 1)\n",
      "inv y pred : (17520, 96)\n",
      "Run 6 Mean Absolute Error: 2.7127859912848926\n",
      "RMSE: 3.887\n",
      "R^2: 1.000\n",
      "[[]]\n",
      "starting df shape: (87600, 96)\n",
      "This is training run 7 and has the shape:  (87600, 96)\n",
      "The value of dropped columns is 0\n"
     ]
    },
    {
     "name": "stderr",
     "output_type": "stream",
     "text": [
      "/Users/alexellard/opt/anaconda3/lib/python3.7/site-packages/xgboost/data.py:96: UserWarning: Use subset (sliced data) of np.ndarray is not recommended because it will generate extra copies and increase memory consumption\n",
      "  \"because it will generate extra copies and increase \" +\n"
     ]
    },
    {
     "name": "stdout",
     "output_type": "stream",
     "text": [
      "test y shape : (17520, 1)\n",
      "Inv y shape : (17520, 96)\n",
      "y pred shape : (17520, 1)\n",
      "inv y pred : (17520, 96)\n",
      "Run 7 Mean Absolute Error: 2.7127859912848926\n",
      "RMSE: 3.887\n",
      "R^2: 1.000\n",
      "[[]]\n",
      "starting df shape: (87600, 96)\n",
      "This is training run 8 and has the shape:  (87600, 96)\n",
      "The value of dropped columns is 0\n"
     ]
    },
    {
     "name": "stderr",
     "output_type": "stream",
     "text": [
      "/Users/alexellard/opt/anaconda3/lib/python3.7/site-packages/xgboost/data.py:96: UserWarning: Use subset (sliced data) of np.ndarray is not recommended because it will generate extra copies and increase memory consumption\n",
      "  \"because it will generate extra copies and increase \" +\n"
     ]
    },
    {
     "name": "stdout",
     "output_type": "stream",
     "text": [
      "test y shape : (17520, 1)\n",
      "Inv y shape : (17520, 96)\n",
      "y pred shape : (17520, 1)\n",
      "inv y pred : (17520, 96)\n",
      "Run 8 Mean Absolute Error: 2.7127859912848926\n",
      "RMSE: 3.887\n",
      "R^2: 1.000\n",
      "[[]]\n",
      "starting df shape: (87600, 96)\n",
      "This is training run 9 and has the shape:  (87600, 96)\n",
      "The value of dropped columns is 0\n"
     ]
    },
    {
     "name": "stderr",
     "output_type": "stream",
     "text": [
      "/Users/alexellard/opt/anaconda3/lib/python3.7/site-packages/xgboost/data.py:96: UserWarning: Use subset (sliced data) of np.ndarray is not recommended because it will generate extra copies and increase memory consumption\n",
      "  \"because it will generate extra copies and increase \" +\n"
     ]
    },
    {
     "name": "stdout",
     "output_type": "stream",
     "text": [
      "test y shape : (17520, 1)\n",
      "Inv y shape : (17520, 96)\n",
      "y pred shape : (17520, 1)\n",
      "inv y pred : (17520, 96)\n",
      "Run 9 Mean Absolute Error: 2.7127859912848926\n",
      "RMSE: 3.887\n",
      "R^2: 1.000\n",
      "[[]]\n",
      "starting df shape: (87600, 96)\n",
      "This is training run 10 and has the shape:  (87600, 96)\n",
      "The value of dropped columns is 0\n"
     ]
    },
    {
     "name": "stderr",
     "output_type": "stream",
     "text": [
      "/Users/alexellard/opt/anaconda3/lib/python3.7/site-packages/xgboost/data.py:96: UserWarning: Use subset (sliced data) of np.ndarray is not recommended because it will generate extra copies and increase memory consumption\n",
      "  \"because it will generate extra copies and increase \" +\n"
     ]
    },
    {
     "name": "stdout",
     "output_type": "stream",
     "text": [
      "test y shape : (17520, 1)\n",
      "Inv y shape : (17520, 96)\n",
      "y pred shape : (17520, 1)\n",
      "inv y pred : (17520, 96)\n",
      "Run 10 Mean Absolute Error: 2.7127859912848926\n",
      "RMSE: 3.887\n",
      "R^2: 1.000\n",
      "[['node_22_pressure', 'link_11_flow', 'link_18_flow', 'link_2_flow', 'node_19_demand']]\n",
      "starting df shape: (87600, 91)\n",
      "This is training run 1 and has the shape:  (87600, 91)\n",
      "The value of dropped columns is 5\n"
     ]
    },
    {
     "name": "stderr",
     "output_type": "stream",
     "text": [
      "/Users/alexellard/opt/anaconda3/lib/python3.7/site-packages/xgboost/data.py:96: UserWarning: Use subset (sliced data) of np.ndarray is not recommended because it will generate extra copies and increase memory consumption\n",
      "  \"because it will generate extra copies and increase \" +\n"
     ]
    },
    {
     "name": "stdout",
     "output_type": "stream",
     "text": [
      "test y shape : (17520, 1)\n",
      "Inv y shape : (17520, 91)\n",
      "y pred shape : (17520, 1)\n",
      "inv y pred : (17520, 91)\n",
      "Run 1 Mean Absolute Error: 2.7921532760518244\n",
      "RMSE: 3.984\n",
      "R^2: 1.000\n",
      "[['node_10_pressure', 'node_15_demand', 'node_12_pressure', 'link_1_flow', 'node_19_demand']]\n",
      "starting df shape: (87600, 91)\n",
      "This is training run 2 and has the shape:  (87600, 91)\n",
      "The value of dropped columns is 5\n"
     ]
    },
    {
     "name": "stderr",
     "output_type": "stream",
     "text": [
      "/Users/alexellard/opt/anaconda3/lib/python3.7/site-packages/xgboost/data.py:96: UserWarning: Use subset (sliced data) of np.ndarray is not recommended because it will generate extra copies and increase memory consumption\n",
      "  \"because it will generate extra copies and increase \" +\n"
     ]
    },
    {
     "name": "stdout",
     "output_type": "stream",
     "text": [
      "test y shape : (17520, 1)\n",
      "Inv y shape : (17520, 91)\n",
      "y pred shape : (17520, 1)\n",
      "inv y pred : (17520, 91)\n",
      "Run 2 Mean Absolute Error: 3.1753967429665058\n",
      "RMSE: 4.526\n",
      "R^2: 1.000\n",
      "[['node_12_pressure', 'node_7_pressure', 'node_2_pressure', 'node_22_demand', 'node_23_pressure']]\n",
      "starting df shape: (87600, 91)\n",
      "This is training run 3 and has the shape:  (87600, 91)\n",
      "The value of dropped columns is 5\n"
     ]
    },
    {
     "name": "stderr",
     "output_type": "stream",
     "text": [
      "/Users/alexellard/opt/anaconda3/lib/python3.7/site-packages/xgboost/data.py:96: UserWarning: Use subset (sliced data) of np.ndarray is not recommended because it will generate extra copies and increase memory consumption\n",
      "  \"because it will generate extra copies and increase \" +\n"
     ]
    },
    {
     "name": "stdout",
     "output_type": "stream",
     "text": [
      "test y shape : (17520, 1)\n",
      "Inv y shape : (17520, 91)\n",
      "y pred shape : (17520, 1)\n",
      "inv y pred : (17520, 91)\n",
      "Run 3 Mean Absolute Error: 2.768296877587007\n",
      "RMSE: 3.927\n",
      "R^2: 1.000\n",
      "[['node_15_pressure', 'node_5_demand', 'node_18_demand', 'node_18_pressure', 'node_23_demand']]\n",
      "starting df shape: (87600, 91)\n",
      "This is training run 4 and has the shape:  (87600, 91)\n",
      "The value of dropped columns is 5\n"
     ]
    },
    {
     "name": "stderr",
     "output_type": "stream",
     "text": [
      "/Users/alexellard/opt/anaconda3/lib/python3.7/site-packages/xgboost/data.py:96: UserWarning: Use subset (sliced data) of np.ndarray is not recommended because it will generate extra copies and increase memory consumption\n",
      "  \"because it will generate extra copies and increase \" +\n"
     ]
    },
    {
     "name": "stdout",
     "output_type": "stream",
     "text": [
      "test y shape : (17520, 1)\n",
      "Inv y shape : (17520, 91)\n",
      "y pred shape : (17520, 1)\n",
      "inv y pred : (17520, 91)\n",
      "Run 4 Mean Absolute Error: 2.7593472445094123\n",
      "RMSE: 3.977\n",
      "R^2: 1.000\n",
      "[['node_8_pressure', 'node_30_demand', 'node_21_pressure', 'node_24_demand', 'node_24_pressure']]\n",
      "starting df shape: (87600, 91)\n",
      "This is training run 5 and has the shape:  (87600, 91)\n",
      "The value of dropped columns is 5\n"
     ]
    },
    {
     "name": "stderr",
     "output_type": "stream",
     "text": [
      "/Users/alexellard/opt/anaconda3/lib/python3.7/site-packages/xgboost/data.py:96: UserWarning: Use subset (sliced data) of np.ndarray is not recommended because it will generate extra copies and increase memory consumption\n",
      "  \"because it will generate extra copies and increase \" +\n"
     ]
    },
    {
     "name": "stdout",
     "output_type": "stream",
     "text": [
      "test y shape : (17520, 1)\n",
      "Inv y shape : (17520, 91)\n",
      "y pred shape : (17520, 1)\n",
      "inv y pred : (17520, 91)\n",
      "Run 5 Mean Absolute Error: 2.7738088358853914\n",
      "RMSE: 4.005\n",
      "R^2: 1.000\n",
      "[['node_9_pressure', 'link_7_flow', 'link_32_flow', 'link_18_flow', 'link_14_flow']]\n",
      "starting df shape: (87600, 91)\n",
      "This is training run 6 and has the shape:  (87600, 91)\n",
      "The value of dropped columns is 5\n"
     ]
    },
    {
     "name": "stderr",
     "output_type": "stream",
     "text": [
      "/Users/alexellard/opt/anaconda3/lib/python3.7/site-packages/xgboost/data.py:96: UserWarning: Use subset (sliced data) of np.ndarray is not recommended because it will generate extra copies and increase memory consumption\n",
      "  \"because it will generate extra copies and increase \" +\n"
     ]
    },
    {
     "name": "stdout",
     "output_type": "stream",
     "text": [
      "test y shape : (17520, 1)\n",
      "Inv y shape : (17520, 91)\n",
      "y pred shape : (17520, 1)\n",
      "inv y pred : (17520, 91)\n",
      "Run 6 Mean Absolute Error: 2.894858025145307\n",
      "RMSE: 4.189\n",
      "R^2: 1.000\n",
      "[['node_3_pressure', 'node_21_pressure', 'node_3_demand', 'node_30_demand', 'node_12_pressure']]\n",
      "starting df shape: (87600, 91)\n",
      "This is training run 7 and has the shape:  (87600, 91)\n",
      "The value of dropped columns is 5\n"
     ]
    },
    {
     "name": "stderr",
     "output_type": "stream",
     "text": [
      "/Users/alexellard/opt/anaconda3/lib/python3.7/site-packages/xgboost/data.py:96: UserWarning: Use subset (sliced data) of np.ndarray is not recommended because it will generate extra copies and increase memory consumption\n",
      "  \"because it will generate extra copies and increase \" +\n"
     ]
    },
    {
     "name": "stdout",
     "output_type": "stream",
     "text": [
      "test y shape : (17520, 1)\n",
      "Inv y shape : (17520, 91)\n",
      "y pred shape : (17520, 1)\n",
      "inv y pred : (17520, 91)\n",
      "Run 7 Mean Absolute Error: 2.8002486541777953\n",
      "RMSE: 4.021\n",
      "R^2: 1.000\n",
      "[['link_32_flow', 'node_8_pressure', 'node_9_demand', 'link_26_flow', 'link_9_flow']]\n",
      "starting df shape: (87600, 91)\n",
      "This is training run 8 and has the shape:  (87600, 91)\n",
      "The value of dropped columns is 5\n"
     ]
    },
    {
     "name": "stderr",
     "output_type": "stream",
     "text": [
      "/Users/alexellard/opt/anaconda3/lib/python3.7/site-packages/xgboost/data.py:96: UserWarning: Use subset (sliced data) of np.ndarray is not recommended because it will generate extra copies and increase memory consumption\n",
      "  \"because it will generate extra copies and increase \" +\n"
     ]
    },
    {
     "name": "stdout",
     "output_type": "stream",
     "text": [
      "test y shape : (17520, 1)\n",
      "Inv y shape : (17520, 91)\n",
      "y pred shape : (17520, 1)\n",
      "inv y pred : (17520, 91)\n",
      "Run 8 Mean Absolute Error: 2.787499130299358\n",
      "RMSE: 3.956\n",
      "R^2: 1.000\n",
      "[['node_18_demand', 'node_13_demand', 'link_10_flow', 'node_3_pressure', 'node_16_demand']]\n",
      "starting df shape: (87600, 91)\n",
      "This is training run 9 and has the shape:  (87600, 91)\n",
      "The value of dropped columns is 5\n"
     ]
    },
    {
     "name": "stderr",
     "output_type": "stream",
     "text": [
      "/Users/alexellard/opt/anaconda3/lib/python3.7/site-packages/xgboost/data.py:96: UserWarning: Use subset (sliced data) of np.ndarray is not recommended because it will generate extra copies and increase memory consumption\n",
      "  \"because it will generate extra copies and increase \" +\n"
     ]
    },
    {
     "name": "stdout",
     "output_type": "stream",
     "text": [
      "test y shape : (17520, 1)\n",
      "Inv y shape : (17520, 91)\n",
      "y pred shape : (17520, 1)\n",
      "inv y pred : (17520, 91)\n",
      "Run 9 Mean Absolute Error: 3.1759397057530157\n",
      "RMSE: 4.527\n",
      "R^2: 1.000\n",
      "[['link_3_flow', 'link_22_flow', 'node_9_pressure', 'link_4_flow', 'node_8_demand']]\n",
      "starting df shape: (87600, 91)\n",
      "This is training run 10 and has the shape:  (87600, 91)\n",
      "The value of dropped columns is 5\n"
     ]
    },
    {
     "name": "stderr",
     "output_type": "stream",
     "text": [
      "/Users/alexellard/opt/anaconda3/lib/python3.7/site-packages/xgboost/data.py:96: UserWarning: Use subset (sliced data) of np.ndarray is not recommended because it will generate extra copies and increase memory consumption\n",
      "  \"because it will generate extra copies and increase \" +\n"
     ]
    },
    {
     "name": "stdout",
     "output_type": "stream",
     "text": [
      "test y shape : (17520, 1)\n",
      "Inv y shape : (17520, 91)\n",
      "y pred shape : (17520, 1)\n",
      "inv y pred : (17520, 91)\n",
      "Run 10 Mean Absolute Error: 2.788719189564047\n",
      "RMSE: 3.956\n",
      "R^2: 1.000\n",
      "[['link_13_flow', 'node_5_pressure', 'link_2_flow', 'node_6_demand', 'node_11_pressure', 'reservoir_pressure', 'node_21_pressure', 'node_30_demand', 'link_6_flow', 'node_1_demand']]\n",
      "starting df shape: (87600, 86)\n",
      "This is training run 1 and has the shape:  (87600, 86)\n",
      "The value of dropped columns is 10\n"
     ]
    },
    {
     "name": "stderr",
     "output_type": "stream",
     "text": [
      "/Users/alexellard/opt/anaconda3/lib/python3.7/site-packages/xgboost/data.py:96: UserWarning: Use subset (sliced data) of np.ndarray is not recommended because it will generate extra copies and increase memory consumption\n",
      "  \"because it will generate extra copies and increase \" +\n"
     ]
    },
    {
     "name": "stdout",
     "output_type": "stream",
     "text": [
      "test y shape : (17520, 1)\n",
      "Inv y shape : (17520, 86)\n",
      "y pred shape : (17520, 1)\n",
      "inv y pred : (17520, 86)\n",
      "Run 1 Mean Absolute Error: 3.185435261095075\n",
      "RMSE: 4.644\n",
      "R^2: 1.000\n",
      "[['node_19_pressure', 'node_25_demand', 'node_18_demand', 'node_7_pressure', 'node_11_demand', 'node_10_pressure', 'link_6_flow', 'node_17_pressure', 'link_2_flow', 'node_13_pressure']]\n",
      "starting df shape: (87600, 86)\n",
      "This is training run 2 and has the shape:  (87600, 86)\n",
      "The value of dropped columns is 10\n"
     ]
    },
    {
     "name": "stderr",
     "output_type": "stream",
     "text": [
      "/Users/alexellard/opt/anaconda3/lib/python3.7/site-packages/xgboost/data.py:96: UserWarning: Use subset (sliced data) of np.ndarray is not recommended because it will generate extra copies and increase memory consumption\n",
      "  \"because it will generate extra copies and increase \" +\n"
     ]
    },
    {
     "name": "stdout",
     "output_type": "stream",
     "text": [
      "test y shape : (17520, 1)\n",
      "Inv y shape : (17520, 86)\n",
      "y pred shape : (17520, 1)\n",
      "inv y pred : (17520, 86)\n",
      "Run 2 Mean Absolute Error: 3.057926094817257\n",
      "RMSE: 4.393\n",
      "R^2: 1.000\n",
      "[['node_14_demand', 'node_15_demand', 'node_30_pressure', 'link_1_flow', 'node_16_pressure', 'node_4_demand', 'link_19_flow', 'link_9_flow', 'node_1_pressure', 'node_24_demand']]\n",
      "starting df shape: (87600, 86)\n",
      "This is training run 3 and has the shape:  (87600, 86)\n",
      "The value of dropped columns is 10\n"
     ]
    },
    {
     "name": "stderr",
     "output_type": "stream",
     "text": [
      "/Users/alexellard/opt/anaconda3/lib/python3.7/site-packages/xgboost/data.py:96: UserWarning: Use subset (sliced data) of np.ndarray is not recommended because it will generate extra copies and increase memory consumption\n",
      "  \"because it will generate extra copies and increase \" +\n"
     ]
    },
    {
     "name": "stdout",
     "output_type": "stream",
     "text": [
      "test y shape : (17520, 1)\n",
      "Inv y shape : (17520, 86)\n",
      "y pred shape : (17520, 1)\n",
      "inv y pred : (17520, 86)\n",
      "Run 3 Mean Absolute Error: 4.469289679476055\n",
      "RMSE: 6.107\n",
      "R^2: 1.000\n",
      "[['node_19_pressure', 'node_1_pressure', 'link_20_flow', 'node_18_pressure', 'node_17_demand', 'link_31_flow', 'link_22_flow', 'link_4_flow', 'node_28_pressure', 'node_11_pressure']]\n",
      "starting df shape: (87600, 86)\n",
      "This is training run 4 and has the shape:  (87600, 86)\n",
      "The value of dropped columns is 10\n"
     ]
    },
    {
     "name": "stderr",
     "output_type": "stream",
     "text": [
      "/Users/alexellard/opt/anaconda3/lib/python3.7/site-packages/xgboost/data.py:96: UserWarning: Use subset (sliced data) of np.ndarray is not recommended because it will generate extra copies and increase memory consumption\n",
      "  \"because it will generate extra copies and increase \" +\n"
     ]
    },
    {
     "name": "stdout",
     "output_type": "stream",
     "text": [
      "test y shape : (17520, 1)\n",
      "Inv y shape : (17520, 86)\n",
      "y pred shape : (17520, 1)\n",
      "inv y pred : (17520, 86)\n",
      "Run 4 Mean Absolute Error: 3.5113958150860327\n",
      "RMSE: 4.946\n",
      "R^2: 1.000\n",
      "[['node_18_demand', 'link_16_flow', 'node_5_demand', 'node_22_pressure', 'link_25_flow', 'link_2_flow', 'node_26_demand', 'link_19_flow', 'node_31_pressure', 'node_2_pressure']]\n",
      "starting df shape: (87600, 86)\n",
      "This is training run 5 and has the shape:  (87600, 86)\n",
      "The value of dropped columns is 10\n"
     ]
    },
    {
     "name": "stderr",
     "output_type": "stream",
     "text": [
      "/Users/alexellard/opt/anaconda3/lib/python3.7/site-packages/xgboost/data.py:96: UserWarning: Use subset (sliced data) of np.ndarray is not recommended because it will generate extra copies and increase memory consumption\n",
      "  \"because it will generate extra copies and increase \" +\n"
     ]
    },
    {
     "name": "stdout",
     "output_type": "stream",
     "text": [
      "test y shape : (17520, 1)\n",
      "Inv y shape : (17520, 86)\n",
      "y pred shape : (17520, 1)\n",
      "inv y pred : (17520, 86)\n",
      "Run 5 Mean Absolute Error: 3.437470387202233\n",
      "RMSE: 4.827\n",
      "R^2: 1.000\n",
      "[['link_29_flow', 'node_5_pressure', 'link_5_flow', 'node_31_pressure', 'node_20_pressure', 'node_10_pressure', 'reservoir_pressure', 'link_7_flow', 'link_18_flow', 'node_21_demand']]\n",
      "starting df shape: (87600, 86)\n",
      "This is training run 6 and has the shape:  (87600, 86)\n",
      "The value of dropped columns is 10\n"
     ]
    },
    {
     "name": "stderr",
     "output_type": "stream",
     "text": [
      "/Users/alexellard/opt/anaconda3/lib/python3.7/site-packages/xgboost/data.py:96: UserWarning: Use subset (sliced data) of np.ndarray is not recommended because it will generate extra copies and increase memory consumption\n",
      "  \"because it will generate extra copies and increase \" +\n"
     ]
    },
    {
     "name": "stdout",
     "output_type": "stream",
     "text": [
      "test y shape : (17520, 1)\n",
      "Inv y shape : (17520, 86)\n",
      "y pred shape : (17520, 1)\n",
      "inv y pred : (17520, 86)\n",
      "Run 6 Mean Absolute Error: 3.491150422920081\n",
      "RMSE: 4.858\n",
      "R^2: 1.000\n",
      "[['link_2_flow', 'node_20_demand', 'node_5_pressure', 'link_10_flow', 'node_4_demand', 'node_12_pressure', 'node_3_pressure', 'node_31_demand', 'node_1_demand', 'node_15_pressure']]\n",
      "starting df shape: (87600, 86)\n",
      "This is training run 7 and has the shape:  (87600, 86)\n",
      "The value of dropped columns is 10\n"
     ]
    },
    {
     "name": "stderr",
     "output_type": "stream",
     "text": [
      "/Users/alexellard/opt/anaconda3/lib/python3.7/site-packages/xgboost/data.py:96: UserWarning: Use subset (sliced data) of np.ndarray is not recommended because it will generate extra copies and increase memory consumption\n",
      "  \"because it will generate extra copies and increase \" +\n"
     ]
    },
    {
     "name": "stdout",
     "output_type": "stream",
     "text": [
      "test y shape : (17520, 1)\n",
      "Inv y shape : (17520, 86)\n",
      "y pred shape : (17520, 1)\n",
      "inv y pred : (17520, 86)\n",
      "Run 7 Mean Absolute Error: 3.0079009802575283\n",
      "RMSE: 4.215\n",
      "R^2: 1.000\n",
      "[['link_8_flow', 'node_11_demand', 'link_32_flow', 'node_21_demand', 'node_16_demand', 'link_24_flow', 'link_16_flow', 'link_6_flow', 'node_12_demand', 'link_20_flow']]\n",
      "starting df shape: (87600, 86)\n",
      "This is training run 8 and has the shape:  (87600, 86)\n",
      "The value of dropped columns is 10\n"
     ]
    },
    {
     "name": "stderr",
     "output_type": "stream",
     "text": [
      "/Users/alexellard/opt/anaconda3/lib/python3.7/site-packages/xgboost/data.py:96: UserWarning: Use subset (sliced data) of np.ndarray is not recommended because it will generate extra copies and increase memory consumption\n",
      "  \"because it will generate extra copies and increase \" +\n"
     ]
    },
    {
     "name": "stdout",
     "output_type": "stream",
     "text": [
      "test y shape : (17520, 1)\n",
      "Inv y shape : (17520, 86)\n",
      "y pred shape : (17520, 1)\n",
      "inv y pred : (17520, 86)\n",
      "Run 8 Mean Absolute Error: 3.0518404215017023\n",
      "RMSE: 4.301\n",
      "R^2: 1.000\n",
      "[['link_5_flow', 'node_24_pressure', 'node_31_demand', 'node_22_pressure', 'reservoir_demand', 'node_21_pressure', 'link_28_flow', 'node_8_demand', 'node_19_pressure']]\n",
      "starting df shape: (87600, 87)\n",
      "This is training run 9 and has the shape:  (87600, 87)\n",
      "The value of dropped columns is 10\n"
     ]
    },
    {
     "name": "stderr",
     "output_type": "stream",
     "text": [
      "/Users/alexellard/opt/anaconda3/lib/python3.7/site-packages/xgboost/data.py:96: UserWarning: Use subset (sliced data) of np.ndarray is not recommended because it will generate extra copies and increase memory consumption\n",
      "  \"because it will generate extra copies and increase \" +\n"
     ]
    },
    {
     "name": "stdout",
     "output_type": "stream",
     "text": [
      "test y shape : (17520, 1)\n",
      "Inv y shape : (17520, 87)\n",
      "y pred shape : (17520, 1)\n",
      "inv y pred : (17520, 87)\n",
      "Run 9 Mean Absolute Error: 0.18412297909115194\n",
      "RMSE: 0.275\n",
      "R^2: 1.000\n",
      "[['node_5_demand', 'node_12_pressure', 'node_6_demand', 'node_14_demand', 'node_24_demand', 'node_21_pressure', 'node_6_pressure', 'reservoir_demand', 'node_3_demand', 'link_4_flow']]\n",
      "starting df shape: (87600, 86)\n",
      "This is training run 10 and has the shape:  (87600, 86)\n",
      "The value of dropped columns is 10\n"
     ]
    },
    {
     "name": "stderr",
     "output_type": "stream",
     "text": [
      "/Users/alexellard/opt/anaconda3/lib/python3.7/site-packages/xgboost/data.py:96: UserWarning: Use subset (sliced data) of np.ndarray is not recommended because it will generate extra copies and increase memory consumption\n",
      "  \"because it will generate extra copies and increase \" +\n"
     ]
    },
    {
     "name": "stdout",
     "output_type": "stream",
     "text": [
      "test y shape : (17520, 1)\n",
      "Inv y shape : (17520, 86)\n",
      "y pred shape : (17520, 1)\n",
      "inv y pred : (17520, 86)\n",
      "Run 10 Mean Absolute Error: 0.16871658951908397\n",
      "RMSE: 0.246\n",
      "R^2: 1.000\n",
      "[['node_4_demand', 'node_30_demand', 'node_8_pressure', 'link_26_flow', 'link_4_flow', 'node_28_demand', 'link_30_flow', 'node_12_pressure', 'node_22_demand', 'node_14_demand', 'node_15_pressure', 'link_10_flow', 'node_26_pressure', 'node_27_demand', 'node_2_pressure']]\n",
      "starting df shape: (87600, 81)\n",
      "This is training run 1 and has the shape:  (87600, 81)\n",
      "The value of dropped columns is 15\n"
     ]
    },
    {
     "name": "stderr",
     "output_type": "stream",
     "text": [
      "/Users/alexellard/opt/anaconda3/lib/python3.7/site-packages/xgboost/data.py:96: UserWarning: Use subset (sliced data) of np.ndarray is not recommended because it will generate extra copies and increase memory consumption\n",
      "  \"because it will generate extra copies and increase \" +\n"
     ]
    },
    {
     "name": "stdout",
     "output_type": "stream",
     "text": [
      "test y shape : (17520, 1)\n",
      "Inv y shape : (17520, 81)\n",
      "y pred shape : (17520, 1)\n",
      "inv y pred : (17520, 81)\n",
      "Run 1 Mean Absolute Error: 2.869828157390619\n",
      "RMSE: 4.058\n",
      "R^2: 1.000\n",
      "[['node_7_pressure', 'node_9_demand', 'node_1_demand', 'link_3_flow', 'link_1_flow', 'node_26_demand', 'node_26_pressure', 'node_20_pressure', 'node_19_demand', 'link_32_flow', 'link_17_flow', 'node_27_demand', 'link_15_flow', 'node_1_pressure', 'node_14_demand']]\n",
      "starting df shape: (87600, 81)\n",
      "This is training run 2 and has the shape:  (87600, 81)\n",
      "The value of dropped columns is 15\n"
     ]
    },
    {
     "name": "stderr",
     "output_type": "stream",
     "text": [
      "/Users/alexellard/opt/anaconda3/lib/python3.7/site-packages/xgboost/data.py:96: UserWarning: Use subset (sliced data) of np.ndarray is not recommended because it will generate extra copies and increase memory consumption\n",
      "  \"because it will generate extra copies and increase \" +\n"
     ]
    },
    {
     "name": "stdout",
     "output_type": "stream",
     "text": [
      "test y shape : (17520, 1)\n",
      "Inv y shape : (17520, 81)\n",
      "y pred shape : (17520, 1)\n",
      "inv y pred : (17520, 81)\n",
      "Run 2 Mean Absolute Error: 2.873817315311664\n",
      "RMSE: 4.025\n",
      "R^2: 1.000\n",
      "[['node_7_pressure', 'link_10_flow', 'link_3_flow', 'node_28_demand', 'node_6_pressure', 'node_24_pressure', 'node_22_pressure', 'node_5_demand', 'node_21_demand', 'link_30_flow', 'node_13_pressure', 'node_18_demand', 'node_1_pressure', 'node_16_pressure', 'link_14_flow']]\n",
      "starting df shape: (87600, 81)\n",
      "This is training run 3 and has the shape:  (87600, 81)\n",
      "The value of dropped columns is 15\n"
     ]
    },
    {
     "name": "stderr",
     "output_type": "stream",
     "text": [
      "/Users/alexellard/opt/anaconda3/lib/python3.7/site-packages/xgboost/data.py:96: UserWarning: Use subset (sliced data) of np.ndarray is not recommended because it will generate extra copies and increase memory consumption\n",
      "  \"because it will generate extra copies and increase \" +\n"
     ]
    },
    {
     "name": "stdout",
     "output_type": "stream",
     "text": [
      "test y shape : (17520, 1)\n",
      "Inv y shape : (17520, 81)\n",
      "y pred shape : (17520, 1)\n",
      "inv y pred : (17520, 81)\n",
      "Run 3 Mean Absolute Error: 2.892025644873203\n",
      "RMSE: 4.069\n",
      "R^2: 1.000\n",
      "[['node_15_demand', 'node_18_pressure', 'link_18_flow', 'node_24_pressure', 'link_20_flow', 'link_22_flow', 'link_26_flow', 'node_20_pressure', 'node_27_demand', 'node_20_demand', 'node_28_pressure', 'link_27_flow', 'link_3_flow', 'node_22_demand', 'node_6_demand']]\n",
      "starting df shape: (87600, 81)\n",
      "This is training run 4 and has the shape:  (87600, 81)\n",
      "The value of dropped columns is 15\n"
     ]
    },
    {
     "name": "stderr",
     "output_type": "stream",
     "text": [
      "/Users/alexellard/opt/anaconda3/lib/python3.7/site-packages/xgboost/data.py:96: UserWarning: Use subset (sliced data) of np.ndarray is not recommended because it will generate extra copies and increase memory consumption\n",
      "  \"because it will generate extra copies and increase \" +\n"
     ]
    },
    {
     "name": "stdout",
     "output_type": "stream",
     "text": [
      "test y shape : (17520, 1)\n",
      "Inv y shape : (17520, 81)\n",
      "y pred shape : (17520, 1)\n",
      "inv y pred : (17520, 81)\n",
      "Run 4 Mean Absolute Error: 3.2833696689543146\n",
      "RMSE: 4.603\n",
      "R^2: 1.000\n",
      "[['link_21_flow', 'link_19_flow', 'link_4_flow', 'link_6_flow', 'link_14_flow', 'node_9_demand', 'node_13_pressure', 'link_17_flow', 'link_12_flow', 'node_19_demand', 'link_18_flow', 'node_10_pressure', 'node_13_demand', 'node_15_pressure', 'reservoir_demand']]\n",
      "starting df shape: (87600, 81)\n",
      "This is training run 5 and has the shape:  (87600, 81)\n",
      "The value of dropped columns is 15\n"
     ]
    },
    {
     "name": "stderr",
     "output_type": "stream",
     "text": [
      "/Users/alexellard/opt/anaconda3/lib/python3.7/site-packages/xgboost/data.py:96: UserWarning: Use subset (sliced data) of np.ndarray is not recommended because it will generate extra copies and increase memory consumption\n",
      "  \"because it will generate extra copies and increase \" +\n"
     ]
    },
    {
     "name": "stdout",
     "output_type": "stream",
     "text": [
      "test y shape : (17520, 1)\n",
      "Inv y shape : (17520, 81)\n",
      "y pred shape : (17520, 1)\n",
      "inv y pred : (17520, 81)\n",
      "Run 5 Mean Absolute Error: 0.17394462474798297\n",
      "RMSE: 0.258\n",
      "R^2: 1.000\n",
      "[['node_20_pressure', 'node_7_demand', 'link_15_flow', 'link_10_flow', 'node_16_demand', 'node_15_demand', 'link_31_flow', 'link_28_flow', 'node_1_demand', 'link_4_flow', 'node_5_demand', 'link_22_flow', 'node_2_demand', 'node_30_demand', 'node_11_demand']]\n",
      "starting df shape: (87600, 81)\n",
      "This is training run 6 and has the shape:  (87600, 81)\n",
      "The value of dropped columns is 15\n"
     ]
    },
    {
     "name": "stderr",
     "output_type": "stream",
     "text": [
      "/Users/alexellard/opt/anaconda3/lib/python3.7/site-packages/xgboost/data.py:96: UserWarning: Use subset (sliced data) of np.ndarray is not recommended because it will generate extra copies and increase memory consumption\n",
      "  \"because it will generate extra copies and increase \" +\n"
     ]
    },
    {
     "name": "stdout",
     "output_type": "stream",
     "text": [
      "test y shape : (17520, 1)\n",
      "Inv y shape : (17520, 81)\n",
      "y pred shape : (17520, 1)\n",
      "inv y pred : (17520, 81)\n",
      "Run 6 Mean Absolute Error: 3.017056978059459\n",
      "RMSE: 4.275\n",
      "R^2: 1.000\n",
      "[['node_7_pressure', 'link_23_flow', 'link_18_flow', 'node_1_pressure', 'node_2_demand', 'link_9_flow', 'node_15_demand', 'node_16_demand', 'node_27_pressure', 'link_25_flow', 'node_28_demand', 'node_3_pressure', 'node_24_pressure', 'link_30_flow', 'node_8_pressure']]\n",
      "starting df shape: (87600, 81)\n",
      "This is training run 7 and has the shape:  (87600, 81)\n",
      "The value of dropped columns is 15\n"
     ]
    },
    {
     "name": "stderr",
     "output_type": "stream",
     "text": [
      "/Users/alexellard/opt/anaconda3/lib/python3.7/site-packages/xgboost/data.py:96: UserWarning: Use subset (sliced data) of np.ndarray is not recommended because it will generate extra copies and increase memory consumption\n",
      "  \"because it will generate extra copies and increase \" +\n"
     ]
    },
    {
     "name": "stdout",
     "output_type": "stream",
     "text": [
      "test y shape : (17520, 1)\n",
      "Inv y shape : (17520, 81)\n",
      "y pred shape : (17520, 1)\n",
      "inv y pred : (17520, 81)\n",
      "Run 7 Mean Absolute Error: 2.9193023161223253\n",
      "RMSE: 4.254\n",
      "R^2: 1.000\n",
      "[['node_12_pressure', 'node_1_pressure', 'node_8_pressure', 'node_30_pressure', 'node_5_pressure', 'node_4_demand', 'node_8_demand', 'link_30_flow', 'node_3_demand', 'node_17_pressure', 'link_23_flow', 'link_27_flow', 'link_28_flow', 'link_1_flow', 'link_7_flow']]\n",
      "starting df shape: (87600, 81)\n",
      "This is training run 8 and has the shape:  (87600, 81)\n",
      "The value of dropped columns is 15\n"
     ]
    },
    {
     "name": "stderr",
     "output_type": "stream",
     "text": [
      "/Users/alexellard/opt/anaconda3/lib/python3.7/site-packages/xgboost/data.py:96: UserWarning: Use subset (sliced data) of np.ndarray is not recommended because it will generate extra copies and increase memory consumption\n",
      "  \"because it will generate extra copies and increase \" +\n"
     ]
    },
    {
     "name": "stdout",
     "output_type": "stream",
     "text": [
      "test y shape : (17520, 1)\n",
      "Inv y shape : (17520, 81)\n",
      "y pred shape : (17520, 1)\n",
      "inv y pred : (17520, 81)\n",
      "Run 8 Mean Absolute Error: 4.227797711919562\n",
      "RMSE: 5.854\n",
      "R^2: 1.000\n",
      "[['node_25_pressure', 'node_9_demand', 'link_6_flow', 'link_9_flow', 'node_28_pressure', 'link_10_flow', 'node_6_demand', 'node_26_demand', 'node_6_pressure', 'node_11_demand', 'link_15_flow', 'link_21_flow', 'link_24_flow', 'node_29_demand', 'node_1_pressure']]\n",
      "starting df shape: (87600, 81)\n",
      "This is training run 9 and has the shape:  (87600, 81)\n",
      "The value of dropped columns is 15\n"
     ]
    },
    {
     "name": "stderr",
     "output_type": "stream",
     "text": [
      "/Users/alexellard/opt/anaconda3/lib/python3.7/site-packages/xgboost/data.py:96: UserWarning: Use subset (sliced data) of np.ndarray is not recommended because it will generate extra copies and increase memory consumption\n",
      "  \"because it will generate extra copies and increase \" +\n"
     ]
    },
    {
     "name": "stdout",
     "output_type": "stream",
     "text": [
      "test y shape : (17520, 1)\n",
      "Inv y shape : (17520, 81)\n",
      "y pred shape : (17520, 1)\n",
      "inv y pred : (17520, 81)\n",
      "Run 9 Mean Absolute Error: 3.27864678585832\n",
      "RMSE: 4.711\n",
      "R^2: 1.000\n",
      "[['node_16_pressure', 'link_29_flow', 'node_15_demand', 'link_25_flow', 'node_9_pressure', 'node_5_demand', 'link_9_flow', 'link_28_flow', 'node_17_demand', 'node_13_demand', 'node_10_pressure', 'link_8_flow', 'node_31_demand', 'link_1_flow', 'link_30_flow']]\n",
      "starting df shape: (87600, 81)\n",
      "This is training run 10 and has the shape:  (87600, 81)\n",
      "The value of dropped columns is 15\n"
     ]
    },
    {
     "name": "stderr",
     "output_type": "stream",
     "text": [
      "/Users/alexellard/opt/anaconda3/lib/python3.7/site-packages/xgboost/data.py:96: UserWarning: Use subset (sliced data) of np.ndarray is not recommended because it will generate extra copies and increase memory consumption\n",
      "  \"because it will generate extra copies and increase \" +\n"
     ]
    },
    {
     "name": "stdout",
     "output_type": "stream",
     "text": [
      "test y shape : (17520, 1)\n",
      "Inv y shape : (17520, 81)\n",
      "y pred shape : (17520, 1)\n",
      "inv y pred : (17520, 81)\n",
      "Run 10 Mean Absolute Error: 2.985736012380246\n",
      "RMSE: 4.302\n",
      "R^2: 1.000\n",
      "[['link_20_flow', 'link_6_flow', 'node_22_pressure', 'node_22_demand', 'link_30_flow', 'node_21_pressure', 'link_26_flow', 'link_3_flow', 'node_6_demand', 'link_12_flow', 'node_4_pressure', 'node_15_demand', 'node_7_pressure', 'node_8_pressure', 'link_7_flow', 'link_1_flow', 'link_25_flow', 'node_25_demand', 'node_26_pressure', 'node_2_pressure']]\n",
      "starting df shape: (87600, 76)\n",
      "This is training run 1 and has the shape:  (87600, 76)\n",
      "The value of dropped columns is 20\n"
     ]
    },
    {
     "name": "stderr",
     "output_type": "stream",
     "text": [
      "/Users/alexellard/opt/anaconda3/lib/python3.7/site-packages/xgboost/data.py:96: UserWarning: Use subset (sliced data) of np.ndarray is not recommended because it will generate extra copies and increase memory consumption\n",
      "  \"because it will generate extra copies and increase \" +\n"
     ]
    },
    {
     "name": "stdout",
     "output_type": "stream",
     "text": [
      "test y shape : (17520, 1)\n",
      "Inv y shape : (17520, 76)\n",
      "y pred shape : (17520, 1)\n",
      "inv y pred : (17520, 76)\n",
      "Run 1 Mean Absolute Error: 2.6521893535574237\n",
      "RMSE: 3.818\n",
      "R^2: 1.000\n",
      "[['link_5_flow', 'node_24_demand', 'link_20_flow', 'link_30_flow', 'node_5_pressure', 'node_11_pressure', 'node_24_pressure', 'link_31_flow', 'node_29_demand', 'node_13_demand', 'link_23_flow', 'link_13_flow', 'node_12_pressure', 'node_14_demand', 'node_18_pressure', 'node_12_demand', 'node_17_pressure', 'link_10_flow', 'link_16_flow', 'link_25_flow']]\n",
      "starting df shape: (87600, 76)\n",
      "This is training run 2 and has the shape:  (87600, 76)\n",
      "The value of dropped columns is 20\n"
     ]
    },
    {
     "name": "stderr",
     "output_type": "stream",
     "text": [
      "/Users/alexellard/opt/anaconda3/lib/python3.7/site-packages/xgboost/data.py:96: UserWarning: Use subset (sliced data) of np.ndarray is not recommended because it will generate extra copies and increase memory consumption\n",
      "  \"because it will generate extra copies and increase \" +\n"
     ]
    },
    {
     "name": "stdout",
     "output_type": "stream",
     "text": [
      "test y shape : (17520, 1)\n",
      "Inv y shape : (17520, 76)\n",
      "y pred shape : (17520, 1)\n",
      "inv y pred : (17520, 76)\n",
      "Run 2 Mean Absolute Error: 2.955573173029768\n",
      "RMSE: 4.240\n",
      "R^2: 1.000\n",
      "[['node_5_demand', 'node_8_demand', 'node_11_demand', 'link_32_flow', 'node_28_demand', 'link_14_flow', 'node_18_demand', 'reservoir_demand', 'link_19_flow', 'node_19_demand', 'node_30_pressure', 'link_24_flow', 'node_12_demand', 'node_24_pressure', 'node_7_pressure', 'node_27_demand', 'node_21_pressure', 'node_20_pressure', 'node_26_pressure', 'node_31_pressure']]\n",
      "starting df shape: (87600, 76)\n",
      "This is training run 3 and has the shape:  (87600, 76)\n",
      "The value of dropped columns is 20\n"
     ]
    },
    {
     "name": "stderr",
     "output_type": "stream",
     "text": [
      "/Users/alexellard/opt/anaconda3/lib/python3.7/site-packages/xgboost/data.py:96: UserWarning: Use subset (sliced data) of np.ndarray is not recommended because it will generate extra copies and increase memory consumption\n",
      "  \"because it will generate extra copies and increase \" +\n"
     ]
    },
    {
     "name": "stdout",
     "output_type": "stream",
     "text": [
      "test y shape : (17520, 1)\n",
      "Inv y shape : (17520, 76)\n",
      "y pred shape : (17520, 1)\n",
      "inv y pred : (17520, 76)\n",
      "Run 3 Mean Absolute Error: 0.352268963817256\n",
      "RMSE: 0.497\n",
      "R^2: 1.000\n",
      "[['node_25_pressure', 'node_17_pressure', 'node_14_pressure', 'node_18_pressure', 'node_28_pressure', 'node_17_demand', 'link_9_flow', 'node_21_demand', 'node_1_demand', 'node_16_demand', 'link_17_flow', 'node_14_demand', 'link_31_flow', 'link_6_flow', 'node_2_demand', 'node_6_demand', 'link_7_flow', 'node_26_demand', 'node_15_demand']]\n",
      "starting df shape: (87600, 77)\n",
      "This is training run 4 and has the shape:  (87600, 77)\n",
      "The value of dropped columns is 20\n"
     ]
    },
    {
     "name": "stderr",
     "output_type": "stream",
     "text": [
      "/Users/alexellard/opt/anaconda3/lib/python3.7/site-packages/xgboost/data.py:96: UserWarning: Use subset (sliced data) of np.ndarray is not recommended because it will generate extra copies and increase memory consumption\n",
      "  \"because it will generate extra copies and increase \" +\n"
     ]
    },
    {
     "name": "stdout",
     "output_type": "stream",
     "text": [
      "test y shape : (17520, 1)\n",
      "Inv y shape : (17520, 77)\n",
      "y pred shape : (17520, 1)\n",
      "inv y pred : (17520, 77)\n",
      "Run 4 Mean Absolute Error: 3.2806253358818958\n",
      "RMSE: 4.673\n",
      "R^2: 1.000\n",
      "[['node_15_pressure', 'node_2_demand', 'node_7_pressure', 'link_24_flow', 'link_30_flow', 'node_12_demand', 'link_14_flow', 'link_8_flow', 'link_32_flow', 'node_6_pressure', 'node_24_pressure', 'node_20_demand', 'node_2_pressure', 'node_14_pressure', 'node_1_pressure', 'node_8_pressure', 'node_18_pressure', 'reservoir_pressure', 'link_22_flow', 'node_11_demand']]\n",
      "starting df shape: (87600, 76)\n",
      "This is training run 5 and has the shape:  (87600, 76)\n",
      "The value of dropped columns is 20\n"
     ]
    },
    {
     "name": "stderr",
     "output_type": "stream",
     "text": [
      "/Users/alexellard/opt/anaconda3/lib/python3.7/site-packages/xgboost/data.py:96: UserWarning: Use subset (sliced data) of np.ndarray is not recommended because it will generate extra copies and increase memory consumption\n",
      "  \"because it will generate extra copies and increase \" +\n"
     ]
    },
    {
     "name": "stdout",
     "output_type": "stream",
     "text": [
      "test y shape : (17520, 1)\n",
      "Inv y shape : (17520, 76)\n",
      "y pred shape : (17520, 1)\n",
      "inv y pred : (17520, 76)\n",
      "Run 5 Mean Absolute Error: 3.074431700133986\n",
      "RMSE: 4.393\n",
      "R^2: 1.000\n",
      "[['node_1_demand', 'node_16_demand', 'node_16_pressure', 'node_2_demand', 'link_9_flow', 'link_11_flow', 'node_4_demand', 'node_28_pressure', 'node_9_demand', 'node_25_demand', 'link_6_flow', 'link_32_flow', 'link_1_flow', 'node_12_pressure', 'node_8_demand', 'node_27_pressure', 'link_21_flow', 'node_3_pressure', 'link_28_flow', 'link_24_flow']]\n",
      "starting df shape: (87600, 76)\n",
      "This is training run 6 and has the shape:  (87600, 76)\n",
      "The value of dropped columns is 20\n"
     ]
    },
    {
     "name": "stderr",
     "output_type": "stream",
     "text": [
      "/Users/alexellard/opt/anaconda3/lib/python3.7/site-packages/xgboost/data.py:96: UserWarning: Use subset (sliced data) of np.ndarray is not recommended because it will generate extra copies and increase memory consumption\n",
      "  \"because it will generate extra copies and increase \" +\n"
     ]
    },
    {
     "name": "stdout",
     "output_type": "stream",
     "text": [
      "test y shape : (17520, 1)\n",
      "Inv y shape : (17520, 76)\n",
      "y pred shape : (17520, 1)\n",
      "inv y pred : (17520, 76)\n",
      "Run 6 Mean Absolute Error: 3.836423871225726\n",
      "RMSE: 5.343\n",
      "R^2: 1.000\n",
      "[['node_5_pressure', 'node_24_demand', 'node_31_demand', 'node_9_demand', 'node_14_demand', 'link_13_flow', 'node_13_demand', 'link_32_flow', 'node_7_pressure', 'node_28_pressure', 'node_26_pressure', 'node_4_demand', 'node_20_pressure', 'node_14_pressure', 'link_4_flow', 'node_29_demand', 'node_13_pressure', 'link_9_flow', 'reservoir_demand', 'link_21_flow']]\n",
      "starting df shape: (87600, 76)\n",
      "This is training run 7 and has the shape:  (87600, 76)\n",
      "The value of dropped columns is 20\n"
     ]
    },
    {
     "name": "stderr",
     "output_type": "stream",
     "text": [
      "/Users/alexellard/opt/anaconda3/lib/python3.7/site-packages/xgboost/data.py:96: UserWarning: Use subset (sliced data) of np.ndarray is not recommended because it will generate extra copies and increase memory consumption\n",
      "  \"because it will generate extra copies and increase \" +\n"
     ]
    },
    {
     "name": "stdout",
     "output_type": "stream",
     "text": [
      "test y shape : (17520, 1)\n",
      "Inv y shape : (17520, 76)\n",
      "y pred shape : (17520, 1)\n",
      "inv y pred : (17520, 76)\n",
      "Run 7 Mean Absolute Error: 0.2242168588253714\n",
      "RMSE: 0.315\n",
      "R^2: 1.000\n",
      "[['link_16_flow', 'node_23_demand', 'node_9_pressure', 'node_3_pressure', 'node_19_demand', 'node_30_pressure', 'reservoir_demand', 'node_2_demand', 'node_31_pressure', 'node_28_demand', 'node_4_demand', 'node_13_pressure', 'node_1_pressure', 'link_9_flow', 'node_5_pressure', 'link_17_flow', 'node_9_demand', 'link_10_flow', 'node_10_demand', 'node_24_pressure']]\n",
      "starting df shape: (87600, 76)\n",
      "This is training run 8 and has the shape:  (87600, 76)\n",
      "The value of dropped columns is 20\n"
     ]
    },
    {
     "name": "stderr",
     "output_type": "stream",
     "text": [
      "/Users/alexellard/opt/anaconda3/lib/python3.7/site-packages/xgboost/data.py:96: UserWarning: Use subset (sliced data) of np.ndarray is not recommended because it will generate extra copies and increase memory consumption\n",
      "  \"because it will generate extra copies and increase \" +\n"
     ]
    },
    {
     "name": "stdout",
     "output_type": "stream",
     "text": [
      "test y shape : (17520, 1)\n",
      "Inv y shape : (17520, 76)\n",
      "y pred shape : (17520, 1)\n",
      "inv y pred : (17520, 76)\n",
      "Run 8 Mean Absolute Error: 0.33974968203456646\n",
      "RMSE: 0.485\n",
      "R^2: 1.000\n",
      "[['node_26_demand', 'node_16_pressure', 'link_19_flow', 'node_1_pressure', 'link_26_flow', 'node_18_demand', 'node_25_demand', 'link_11_flow', 'node_14_pressure', 'node_15_demand', 'link_27_flow', 'node_20_demand', 'node_7_demand', 'node_6_demand', 'node_24_demand', 'node_24_pressure', 'link_24_flow', 'link_30_flow', 'link_14_flow', 'link_5_flow']]\n",
      "starting df shape: (87600, 76)\n",
      "This is training run 9 and has the shape:  (87600, 76)\n",
      "The value of dropped columns is 20\n"
     ]
    },
    {
     "name": "stderr",
     "output_type": "stream",
     "text": [
      "/Users/alexellard/opt/anaconda3/lib/python3.7/site-packages/xgboost/data.py:96: UserWarning: Use subset (sliced data) of np.ndarray is not recommended because it will generate extra copies and increase memory consumption\n",
      "  \"because it will generate extra copies and increase \" +\n"
     ]
    },
    {
     "name": "stdout",
     "output_type": "stream",
     "text": [
      "test y shape : (17520, 1)\n",
      "Inv y shape : (17520, 76)\n",
      "y pred shape : (17520, 1)\n",
      "inv y pred : (17520, 76)\n",
      "Run 9 Mean Absolute Error: 3.3090998493775996\n",
      "RMSE: 4.699\n",
      "R^2: 1.000\n",
      "[['node_31_pressure', 'node_23_pressure', 'link_2_flow', 'node_31_demand', 'link_8_flow', 'node_11_pressure', 'link_10_flow', 'node_23_demand', 'node_28_pressure', 'link_11_flow', 'link_17_flow', 'link_3_flow', 'link_32_flow', 'node_19_pressure', 'node_3_pressure', 'node_2_pressure', 'node_6_demand', 'node_15_pressure', 'link_20_flow', 'node_4_demand']]\n",
      "starting df shape: (87600, 76)\n",
      "This is training run 10 and has the shape:  (87600, 76)\n",
      "The value of dropped columns is 20\n"
     ]
    },
    {
     "name": "stderr",
     "output_type": "stream",
     "text": [
      "/Users/alexellard/opt/anaconda3/lib/python3.7/site-packages/xgboost/data.py:96: UserWarning: Use subset (sliced data) of np.ndarray is not recommended because it will generate extra copies and increase memory consumption\n",
      "  \"because it will generate extra copies and increase \" +\n"
     ]
    },
    {
     "name": "stdout",
     "output_type": "stream",
     "text": [
      "test y shape : (17520, 1)\n",
      "Inv y shape : (17520, 76)\n",
      "y pred shape : (17520, 1)\n",
      "inv y pred : (17520, 76)\n",
      "Run 10 Mean Absolute Error: 2.7260914973102124\n",
      "RMSE: 3.934\n",
      "R^2: 1.000\n",
      "[['node_30_pressure', 'node_6_pressure', 'node_20_demand', 'node_1_pressure', 'link_15_flow', 'node_18_demand', 'node_22_pressure', 'link_14_flow', 'node_6_demand', 'node_18_pressure', 'node_27_demand', 'node_25_pressure', 'node_28_demand', 'node_19_demand', 'node_3_demand', 'node_8_demand', 'node_20_pressure', 'node_4_pressure', 'link_19_flow', 'node_29_demand', 'node_31_demand', 'link_25_flow', 'link_13_flow', 'node_13_demand']]\n",
      "starting df shape: (87600, 72)\n",
      "This is training run 1 and has the shape:  (87600, 72)\n",
      "The value of dropped columns is 25\n"
     ]
    },
    {
     "name": "stderr",
     "output_type": "stream",
     "text": [
      "/Users/alexellard/opt/anaconda3/lib/python3.7/site-packages/xgboost/data.py:96: UserWarning: Use subset (sliced data) of np.ndarray is not recommended because it will generate extra copies and increase memory consumption\n",
      "  \"because it will generate extra copies and increase \" +\n"
     ]
    },
    {
     "name": "stdout",
     "output_type": "stream",
     "text": [
      "test y shape : (17520, 1)\n",
      "Inv y shape : (17520, 72)\n",
      "y pred shape : (17520, 1)\n",
      "inv y pred : (17520, 72)\n",
      "Run 1 Mean Absolute Error: 4.302668691226782\n",
      "RMSE: 5.903\n",
      "R^2: 1.000\n",
      "[['node_30_demand', 'link_4_flow', 'link_12_flow', 'node_10_demand', 'link_24_flow', 'node_1_demand', 'link_21_flow', 'link_8_flow', 'node_15_pressure', 'node_5_demand', 'node_11_pressure', 'link_17_flow', 'link_13_flow', 'node_31_pressure', 'node_7_pressure', 'node_3_demand', 'node_28_pressure', 'node_30_pressure', 'node_28_demand', 'node_17_pressure', 'reservoir_pressure', 'node_2_pressure', 'node_14_pressure', 'link_2_flow', 'node_18_pressure']]\n",
      "starting df shape: (87600, 71)\n",
      "This is training run 2 and has the shape:  (87600, 71)\n",
      "The value of dropped columns is 25\n"
     ]
    },
    {
     "name": "stderr",
     "output_type": "stream",
     "text": [
      "/Users/alexellard/opt/anaconda3/lib/python3.7/site-packages/xgboost/data.py:96: UserWarning: Use subset (sliced data) of np.ndarray is not recommended because it will generate extra copies and increase memory consumption\n",
      "  \"because it will generate extra copies and increase \" +\n"
     ]
    },
    {
     "name": "stdout",
     "output_type": "stream",
     "text": [
      "test y shape : (17520, 1)\n",
      "Inv y shape : (17520, 71)\n",
      "y pred shape : (17520, 1)\n",
      "inv y pred : (17520, 71)\n",
      "Run 2 Mean Absolute Error: 6.701069787530089\n",
      "RMSE: 9.034\n",
      "R^2: 1.000\n",
      "[['link_28_flow', 'node_27_demand', 'link_9_flow', 'link_17_flow', 'link_15_flow', 'node_22_demand', 'node_11_pressure', 'link_27_flow', 'link_22_flow', 'node_7_pressure', 'link_5_flow', 'node_28_demand', 'node_31_pressure', 'node_12_pressure', 'node_4_pressure', 'node_4_demand', 'node_18_pressure', 'link_1_flow', 'node_20_demand', 'reservoir_pressure', 'node_7_demand', 'node_3_pressure', 'link_32_flow', 'node_8_demand']]\n",
      "starting df shape: (87600, 72)\n",
      "This is training run 3 and has the shape:  (87600, 72)\n",
      "The value of dropped columns is 25\n"
     ]
    },
    {
     "name": "stderr",
     "output_type": "stream",
     "text": [
      "/Users/alexellard/opt/anaconda3/lib/python3.7/site-packages/xgboost/data.py:96: UserWarning: Use subset (sliced data) of np.ndarray is not recommended because it will generate extra copies and increase memory consumption\n",
      "  \"because it will generate extra copies and increase \" +\n"
     ]
    },
    {
     "name": "stdout",
     "output_type": "stream",
     "text": [
      "test y shape : (17520, 1)\n",
      "Inv y shape : (17520, 72)\n",
      "y pred shape : (17520, 1)\n",
      "inv y pred : (17520, 72)\n",
      "Run 3 Mean Absolute Error: 3.2159253199006086\n",
      "RMSE: 4.667\n",
      "R^2: 1.000\n",
      "[['node_12_pressure', 'link_4_flow', 'link_29_flow', 'node_2_pressure', 'link_1_flow', 'node_1_demand', 'link_32_flow', 'node_25_demand', 'node_31_demand', 'node_12_demand', 'link_14_flow', 'link_31_flow', 'node_1_pressure', 'node_16_pressure', 'node_27_demand', 'node_6_demand', 'node_9_pressure', 'link_18_flow', 'node_20_demand', 'node_13_pressure', 'link_16_flow', 'node_22_demand', 'node_21_demand', 'node_4_demand', 'node_2_demand']]\n",
      "starting df shape: (87600, 71)\n",
      "This is training run 4 and has the shape:  (87600, 71)\n",
      "The value of dropped columns is 25\n"
     ]
    },
    {
     "name": "stderr",
     "output_type": "stream",
     "text": [
      "/Users/alexellard/opt/anaconda3/lib/python3.7/site-packages/xgboost/data.py:96: UserWarning: Use subset (sliced data) of np.ndarray is not recommended because it will generate extra copies and increase memory consumption\n",
      "  \"because it will generate extra copies and increase \" +\n"
     ]
    },
    {
     "name": "stdout",
     "output_type": "stream",
     "text": [
      "test y shape : (17520, 1)\n",
      "Inv y shape : (17520, 71)\n",
      "y pred shape : (17520, 1)\n",
      "inv y pred : (17520, 71)\n",
      "Run 4 Mean Absolute Error: 2.899012230507127\n",
      "RMSE: 4.128\n",
      "R^2: 1.000\n",
      "[['node_23_demand', 'reservoir_demand', 'link_29_flow', 'node_8_demand', 'link_27_flow', 'node_9_demand', 'link_18_flow', 'node_2_pressure', 'node_31_pressure', 'link_7_flow', 'node_17_pressure', 'node_30_pressure', 'node_25_pressure', 'node_22_pressure', 'node_28_demand', 'node_19_pressure', 'link_10_flow', 'link_16_flow', 'link_2_flow', 'node_10_pressure', 'node_15_demand', 'node_21_demand', 'node_16_demand', 'link_14_flow']]\n",
      "starting df shape: (87600, 72)\n",
      "This is training run 5 and has the shape:  (87600, 72)\n",
      "The value of dropped columns is 25\n"
     ]
    },
    {
     "name": "stderr",
     "output_type": "stream",
     "text": [
      "/Users/alexellard/opt/anaconda3/lib/python3.7/site-packages/xgboost/data.py:96: UserWarning: Use subset (sliced data) of np.ndarray is not recommended because it will generate extra copies and increase memory consumption\n",
      "  \"because it will generate extra copies and increase \" +\n"
     ]
    },
    {
     "name": "stdout",
     "output_type": "stream",
     "text": [
      "test y shape : (17520, 1)\n",
      "Inv y shape : (17520, 72)\n",
      "y pred shape : (17520, 1)\n",
      "inv y pred : (17520, 72)\n",
      "Run 5 Mean Absolute Error: 0.33839165476877353\n",
      "RMSE: 0.472\n",
      "R^2: 1.000\n",
      "[['node_30_demand', 'node_1_demand', 'link_5_flow', 'node_21_pressure', 'link_14_flow', 'node_31_pressure', 'node_11_demand', 'node_2_pressure', 'node_8_demand', 'link_3_flow', 'node_3_demand', 'node_15_pressure', 'node_13_demand', 'node_5_pressure', 'node_10_pressure', 'node_18_demand', 'node_25_pressure', 'node_23_pressure', 'node_2_demand', 'link_32_flow', 'link_8_flow', 'link_23_flow', 'node_20_pressure', 'node_24_demand']]\n",
      "starting df shape: (87600, 72)\n",
      "This is training run 6 and has the shape:  (87600, 72)\n",
      "The value of dropped columns is 25\n"
     ]
    },
    {
     "name": "stderr",
     "output_type": "stream",
     "text": [
      "/Users/alexellard/opt/anaconda3/lib/python3.7/site-packages/xgboost/data.py:96: UserWarning: Use subset (sliced data) of np.ndarray is not recommended because it will generate extra copies and increase memory consumption\n",
      "  \"because it will generate extra copies and increase \" +\n"
     ]
    },
    {
     "name": "stdout",
     "output_type": "stream",
     "text": [
      "test y shape : (17520, 1)\n",
      "Inv y shape : (17520, 72)\n",
      "y pred shape : (17520, 1)\n",
      "inv y pred : (17520, 72)\n",
      "Run 6 Mean Absolute Error: 3.3412818293758453\n",
      "RMSE: 4.705\n",
      "R^2: 1.000\n",
      "[['node_25_pressure', 'link_12_flow', 'link_28_flow', 'node_26_pressure', 'link_32_flow', 'link_20_flow', 'link_11_flow', 'node_17_demand', 'link_4_flow', 'node_13_pressure', 'node_28_demand', 'node_9_demand', 'node_8_demand', 'link_14_flow', 'link_2_flow', 'node_20_pressure', 'node_17_pressure', 'node_14_pressure', 'node_18_demand', 'node_31_pressure', 'node_29_demand', 'node_5_demand', 'node_19_demand', 'node_6_demand']]\n",
      "starting df shape: (87600, 72)\n",
      "This is training run 7 and has the shape:  (87600, 72)\n",
      "The value of dropped columns is 25\n"
     ]
    },
    {
     "name": "stderr",
     "output_type": "stream",
     "text": [
      "/Users/alexellard/opt/anaconda3/lib/python3.7/site-packages/xgboost/data.py:96: UserWarning: Use subset (sliced data) of np.ndarray is not recommended because it will generate extra copies and increase memory consumption\n",
      "  \"because it will generate extra copies and increase \" +\n"
     ]
    },
    {
     "name": "stdout",
     "output_type": "stream",
     "text": [
      "test y shape : (17520, 1)\n",
      "Inv y shape : (17520, 72)\n",
      "y pred shape : (17520, 1)\n",
      "inv y pred : (17520, 72)\n",
      "Run 7 Mean Absolute Error: 2.9454773161108876\n",
      "RMSE: 4.226\n",
      "R^2: 1.000\n",
      "[['node_6_demand', 'node_21_pressure', 'node_16_demand', 'node_29_demand', 'link_14_flow', 'link_4_flow', 'node_24_demand', 'link_30_flow', 'node_20_demand', 'node_5_demand', 'node_31_demand', 'node_22_pressure', 'link_6_flow', 'node_17_demand', 'node_30_pressure', 'link_31_flow', 'node_18_demand', 'node_27_pressure', 'node_4_pressure', 'node_23_demand', 'node_15_demand', 'node_28_demand', 'node_3_pressure', 'node_14_pressure']]\n",
      "starting df shape: (87600, 72)\n",
      "This is training run 8 and has the shape:  (87600, 72)\n",
      "The value of dropped columns is 25\n"
     ]
    },
    {
     "name": "stderr",
     "output_type": "stream",
     "text": [
      "/Users/alexellard/opt/anaconda3/lib/python3.7/site-packages/xgboost/data.py:96: UserWarning: Use subset (sliced data) of np.ndarray is not recommended because it will generate extra copies and increase memory consumption\n",
      "  \"because it will generate extra copies and increase \" +\n"
     ]
    },
    {
     "name": "stdout",
     "output_type": "stream",
     "text": [
      "test y shape : (17520, 1)\n",
      "Inv y shape : (17520, 72)\n",
      "y pred shape : (17520, 1)\n",
      "inv y pred : (17520, 72)\n",
      "Run 8 Mean Absolute Error: 4.480708217597117\n",
      "RMSE: 6.252\n",
      "R^2: 1.000\n",
      "[['node_8_pressure', 'node_7_demand', 'node_15_demand', 'node_27_demand', 'node_12_demand', 'node_13_pressure', 'node_9_demand', 'link_22_flow', 'node_26_pressure', 'node_13_demand', 'link_5_flow', 'node_4_demand', 'link_1_flow', 'node_21_pressure', 'node_31_demand', 'node_14_pressure', 'node_19_demand', 'link_24_flow', 'link_14_flow', 'link_21_flow', 'node_28_demand', 'link_19_flow', 'node_17_demand', 'node_15_pressure']]\n",
      "starting df shape: (87600, 72)\n",
      "This is training run 9 and has the shape:  (87600, 72)\n",
      "The value of dropped columns is 25\n"
     ]
    },
    {
     "name": "stderr",
     "output_type": "stream",
     "text": [
      "/Users/alexellard/opt/anaconda3/lib/python3.7/site-packages/xgboost/data.py:96: UserWarning: Use subset (sliced data) of np.ndarray is not recommended because it will generate extra copies and increase memory consumption\n",
      "  \"because it will generate extra copies and increase \" +\n"
     ]
    },
    {
     "name": "stdout",
     "output_type": "stream",
     "text": [
      "test y shape : (17520, 1)\n",
      "Inv y shape : (17520, 72)\n",
      "y pred shape : (17520, 1)\n",
      "inv y pred : (17520, 72)\n",
      "Run 9 Mean Absolute Error: 3.0695136274020034\n",
      "RMSE: 4.403\n",
      "R^2: 1.000\n",
      "[['node_12_pressure', 'node_13_pressure', 'node_25_demand', 'node_24_demand', 'link_20_flow', 'link_4_flow', 'node_29_demand', 'node_31_demand', 'node_14_demand', 'link_24_flow', 'link_32_flow', 'node_8_pressure', 'node_24_pressure', 'node_18_demand', 'node_2_pressure', 'link_15_flow', 'link_18_flow', 'node_2_demand', 'node_17_pressure', 'node_15_pressure', 'link_19_flow', 'node_21_pressure', 'link_23_flow', 'node_5_demand', 'node_1_pressure']]\n",
      "starting df shape: (87600, 71)\n",
      "This is training run 10 and has the shape:  (87600, 71)\n",
      "The value of dropped columns is 25\n"
     ]
    },
    {
     "name": "stderr",
     "output_type": "stream",
     "text": [
      "/Users/alexellard/opt/anaconda3/lib/python3.7/site-packages/xgboost/data.py:96: UserWarning: Use subset (sliced data) of np.ndarray is not recommended because it will generate extra copies and increase memory consumption\n",
      "  \"because it will generate extra copies and increase \" +\n"
     ]
    },
    {
     "name": "stdout",
     "output_type": "stream",
     "text": [
      "test y shape : (17520, 1)\n",
      "Inv y shape : (17520, 71)\n",
      "y pred shape : (17520, 1)\n",
      "inv y pred : (17520, 71)\n",
      "Run 10 Mean Absolute Error: 2.8990947668047085\n",
      "RMSE: 4.181\n",
      "R^2: 1.000\n",
      "[['node_15_demand', 'link_14_flow', 'node_7_demand', 'node_9_demand', 'link_6_flow', 'node_31_pressure', 'node_8_pressure', 'reservoir_demand', 'link_24_flow', 'node_12_demand', 'node_2_demand', 'node_17_pressure', 'node_16_pressure', 'node_8_demand', 'node_30_demand', 'node_11_demand', 'link_3_flow', 'node_28_pressure', 'link_4_flow', 'link_13_flow', 'node_29_demand', 'link_23_flow', 'node_26_pressure', 'node_24_pressure', 'node_24_demand', 'node_17_demand', 'node_13_pressure', 'node_19_demand', 'node_13_demand', 'node_11_pressure']]\n",
      "starting df shape: (87600, 66)\n",
      "This is training run 1 and has the shape:  (87600, 66)\n",
      "The value of dropped columns is 30\n"
     ]
    },
    {
     "name": "stderr",
     "output_type": "stream",
     "text": [
      "/Users/alexellard/opt/anaconda3/lib/python3.7/site-packages/xgboost/data.py:96: UserWarning: Use subset (sliced data) of np.ndarray is not recommended because it will generate extra copies and increase memory consumption\n",
      "  \"because it will generate extra copies and increase \" +\n"
     ]
    },
    {
     "name": "stdout",
     "output_type": "stream",
     "text": [
      "test y shape : (17520, 1)\n",
      "Inv y shape : (17520, 66)\n",
      "y pred shape : (17520, 1)\n",
      "inv y pred : (17520, 66)\n",
      "Run 1 Mean Absolute Error: 0.27644292230070117\n",
      "RMSE: 0.380\n",
      "R^2: 1.000\n",
      "[['node_30_pressure', 'node_7_demand', 'node_16_demand', 'link_1_flow', 'node_21_demand', 'node_12_demand', 'link_15_flow', 'node_20_demand', 'node_22_pressure', 'link_3_flow', 'node_28_pressure', 'node_2_demand', 'reservoir_pressure', 'link_2_flow', 'node_6_pressure', 'link_24_flow', 'node_13_pressure', 'node_5_demand', 'node_27_pressure', 'node_29_demand', 'node_15_demand', 'node_13_demand', 'link_6_flow', 'node_25_pressure', 'link_31_flow', 'link_25_flow', 'node_10_demand', 'link_19_flow', 'link_12_flow', 'node_1_demand']]\n",
      "starting df shape: (87600, 66)\n",
      "This is training run 2 and has the shape:  (87600, 66)\n",
      "The value of dropped columns is 30\n"
     ]
    },
    {
     "name": "stderr",
     "output_type": "stream",
     "text": [
      "/Users/alexellard/opt/anaconda3/lib/python3.7/site-packages/xgboost/data.py:96: UserWarning: Use subset (sliced data) of np.ndarray is not recommended because it will generate extra copies and increase memory consumption\n",
      "  \"because it will generate extra copies and increase \" +\n"
     ]
    },
    {
     "name": "stdout",
     "output_type": "stream",
     "text": [
      "test y shape : (17520, 1)\n",
      "Inv y shape : (17520, 66)\n",
      "y pred shape : (17520, 1)\n",
      "inv y pred : (17520, 66)\n",
      "Run 2 Mean Absolute Error: 5.019025989810713\n",
      "RMSE: 6.720\n",
      "R^2: 1.000\n",
      "[['node_1_demand', 'node_23_demand', 'link_21_flow', 'node_20_pressure', 'node_18_demand', 'link_9_flow', 'node_16_demand', 'link_24_flow', 'node_19_demand', 'node_3_pressure', 'node_30_demand', 'node_8_demand', 'node_10_demand', 'link_19_flow', 'node_9_demand', 'node_12_pressure', 'link_30_flow', 'node_7_demand', 'link_13_flow', 'node_31_pressure', 'node_23_pressure', 'node_16_pressure', 'node_8_pressure', 'link_26_flow', 'node_2_pressure', 'link_10_flow', 'node_28_demand', 'link_23_flow', 'node_21_demand', 'link_29_flow']]\n",
      "starting df shape: (87600, 66)\n",
      "This is training run 3 and has the shape:  (87600, 66)\n",
      "The value of dropped columns is 30\n"
     ]
    },
    {
     "name": "stderr",
     "output_type": "stream",
     "text": [
      "/Users/alexellard/opt/anaconda3/lib/python3.7/site-packages/xgboost/data.py:96: UserWarning: Use subset (sliced data) of np.ndarray is not recommended because it will generate extra copies and increase memory consumption\n",
      "  \"because it will generate extra copies and increase \" +\n"
     ]
    },
    {
     "name": "stdout",
     "output_type": "stream",
     "text": [
      "test y shape : (17520, 1)\n",
      "Inv y shape : (17520, 66)\n",
      "y pred shape : (17520, 1)\n",
      "inv y pred : (17520, 66)\n",
      "Run 3 Mean Absolute Error: 3.050312997507656\n",
      "RMSE: 4.294\n",
      "R^2: 1.000\n",
      "[['link_10_flow', 'link_19_flow', 'node_1_pressure', 'node_11_pressure', 'node_10_demand', 'node_20_demand', 'link_16_flow', 'link_25_flow', 'node_13_demand', 'link_12_flow', 'link_30_flow', 'link_26_flow', 'link_14_flow', 'node_19_pressure', 'node_4_pressure', 'link_22_flow', 'node_30_demand', 'link_2_flow', 'node_18_pressure', 'node_30_pressure', 'link_32_flow', 'node_4_demand', 'node_9_pressure', 'link_6_flow', 'node_31_pressure', 'node_12_pressure', 'node_9_demand', 'node_6_pressure', 'node_5_demand', 'link_20_flow']]\n",
      "starting df shape: (87600, 66)\n",
      "This is training run 4 and has the shape:  (87600, 66)\n",
      "The value of dropped columns is 30\n"
     ]
    },
    {
     "name": "stderr",
     "output_type": "stream",
     "text": [
      "/Users/alexellard/opt/anaconda3/lib/python3.7/site-packages/xgboost/data.py:96: UserWarning: Use subset (sliced data) of np.ndarray is not recommended because it will generate extra copies and increase memory consumption\n",
      "  \"because it will generate extra copies and increase \" +\n"
     ]
    },
    {
     "name": "stdout",
     "output_type": "stream",
     "text": [
      "test y shape : (17520, 1)\n",
      "Inv y shape : (17520, 66)\n",
      "y pred shape : (17520, 1)\n",
      "inv y pred : (17520, 66)\n",
      "Run 4 Mean Absolute Error: 5.894744889135242\n",
      "RMSE: 8.358\n",
      "R^2: 1.000\n",
      "[['node_13_demand', 'node_11_demand', 'link_32_flow', 'link_3_flow', 'node_28_demand', 'node_5_pressure', 'link_8_flow', 'node_26_demand', 'node_12_pressure', 'node_25_demand', 'node_23_pressure', 'link_21_flow', 'node_9_pressure', 'node_7_pressure', 'link_27_flow', 'link_19_flow', 'link_14_flow', 'node_14_demand', 'link_18_flow', 'node_19_pressure', 'node_6_pressure', 'node_1_pressure', 'node_17_pressure', 'link_25_flow', 'link_24_flow', 'node_10_demand', 'node_3_pressure', 'link_4_flow', 'node_19_demand', 'node_25_pressure']]\n",
      "starting df shape: (87600, 66)\n",
      "This is training run 5 and has the shape:  (87600, 66)\n",
      "The value of dropped columns is 30\n"
     ]
    },
    {
     "name": "stderr",
     "output_type": "stream",
     "text": [
      "/Users/alexellard/opt/anaconda3/lib/python3.7/site-packages/xgboost/data.py:96: UserWarning: Use subset (sliced data) of np.ndarray is not recommended because it will generate extra copies and increase memory consumption\n",
      "  \"because it will generate extra copies and increase \" +\n"
     ]
    },
    {
     "name": "stdout",
     "output_type": "stream",
     "text": [
      "test y shape : (17520, 1)\n",
      "Inv y shape : (17520, 66)\n",
      "y pred shape : (17520, 1)\n",
      "inv y pred : (17520, 66)\n",
      "Run 5 Mean Absolute Error: 2.848594180163526\n",
      "RMSE: 4.090\n",
      "R^2: 1.000\n",
      "[['link_13_flow', 'link_3_flow', 'link_23_flow', 'link_24_flow', 'node_16_demand', 'node_15_demand', 'node_25_pressure', 'node_2_demand', 'node_6_demand', 'node_7_demand', 'node_27_pressure', 'node_9_demand', 'node_15_pressure', 'link_2_flow', 'node_22_demand', 'node_31_pressure', 'node_17_pressure', 'node_29_demand', 'node_30_pressure', 'link_14_flow', 'node_30_demand', 'node_10_pressure', 'link_17_flow', 'link_1_flow', 'node_21_demand', 'node_1_demand', 'node_26_demand', 'link_12_flow', 'node_18_pressure']]\n",
      "starting df shape: (87600, 67)\n",
      "This is training run 6 and has the shape:  (87600, 67)\n",
      "The value of dropped columns is 30\n"
     ]
    },
    {
     "name": "stderr",
     "output_type": "stream",
     "text": [
      "/Users/alexellard/opt/anaconda3/lib/python3.7/site-packages/xgboost/data.py:96: UserWarning: Use subset (sliced data) of np.ndarray is not recommended because it will generate extra copies and increase memory consumption\n",
      "  \"because it will generate extra copies and increase \" +\n"
     ]
    },
    {
     "name": "stdout",
     "output_type": "stream",
     "text": [
      "test y shape : (17520, 1)\n",
      "Inv y shape : (17520, 67)\n",
      "y pred shape : (17520, 1)\n",
      "inv y pred : (17520, 67)\n",
      "Run 6 Mean Absolute Error: 5.341449599183246\n",
      "RMSE: 7.546\n",
      "R^2: 1.000\n",
      "[['node_11_pressure', 'reservoir_pressure', 'node_21_pressure', 'node_12_pressure', 'node_1_pressure', 'link_23_flow', 'node_17_pressure', 'node_6_demand', 'node_9_demand', 'node_2_demand', 'node_6_pressure', 'link_8_flow', 'node_1_demand', 'link_30_flow', 'node_7_demand', 'node_15_pressure', 'node_27_demand', 'node_10_pressure', 'link_32_flow', 'link_28_flow', 'node_18_demand', 'node_23_pressure', 'node_2_pressure', 'node_24_demand', 'link_21_flow', 'node_25_demand', 'link_26_flow', 'node_26_pressure', 'node_7_pressure', 'node_3_pressure']]\n",
      "starting df shape: (87600, 66)\n",
      "This is training run 7 and has the shape:  (87600, 66)\n",
      "The value of dropped columns is 30\n"
     ]
    },
    {
     "name": "stderr",
     "output_type": "stream",
     "text": [
      "/Users/alexellard/opt/anaconda3/lib/python3.7/site-packages/xgboost/data.py:96: UserWarning: Use subset (sliced data) of np.ndarray is not recommended because it will generate extra copies and increase memory consumption\n",
      "  \"because it will generate extra copies and increase \" +\n"
     ]
    },
    {
     "name": "stdout",
     "output_type": "stream",
     "text": [
      "test y shape : (17520, 1)\n",
      "Inv y shape : (17520, 66)\n",
      "y pred shape : (17520, 1)\n",
      "inv y pred : (17520, 66)\n",
      "Run 7 Mean Absolute Error: 2.868166757576667\n",
      "RMSE: 4.119\n",
      "R^2: 1.000\n",
      "[['node_23_demand', 'node_8_demand', 'node_19_demand', 'node_12_demand', 'node_28_pressure', 'link_2_flow', 'node_2_pressure', 'link_29_flow', 'link_11_flow', 'node_16_pressure', 'link_16_flow', 'link_7_flow', 'link_9_flow', 'node_25_pressure', 'node_23_pressure', 'link_17_flow', 'link_10_flow', 'node_3_pressure', 'node_2_demand', 'node_17_pressure', 'node_20_pressure', 'node_18_pressure', 'node_21_pressure', 'link_31_flow', 'node_18_demand', 'node_11_demand', 'link_15_flow', 'node_9_pressure', 'link_32_flow']]\n",
      "starting df shape: (87600, 67)\n",
      "This is training run 8 and has the shape:  (87600, 67)\n",
      "The value of dropped columns is 30\n"
     ]
    },
    {
     "name": "stderr",
     "output_type": "stream",
     "text": [
      "/Users/alexellard/opt/anaconda3/lib/python3.7/site-packages/xgboost/data.py:96: UserWarning: Use subset (sliced data) of np.ndarray is not recommended because it will generate extra copies and increase memory consumption\n",
      "  \"because it will generate extra copies and increase \" +\n"
     ]
    },
    {
     "name": "stdout",
     "output_type": "stream",
     "text": [
      "test y shape : (17520, 1)\n",
      "Inv y shape : (17520, 67)\n",
      "y pred shape : (17520, 1)\n",
      "inv y pred : (17520, 67)\n",
      "Run 8 Mean Absolute Error: 3.1368617156253418\n",
      "RMSE: 4.418\n",
      "R^2: 1.000\n",
      "[['link_19_flow', 'node_20_pressure', 'node_6_demand', 'link_31_flow', 'link_14_flow', 'link_21_flow', 'link_5_flow', 'link_32_flow', 'link_17_flow', 'node_23_pressure', 'node_1_demand', 'link_13_flow', 'node_13_demand', 'node_23_demand', 'node_6_pressure', 'node_14_pressure', 'node_20_demand', 'node_15_pressure', 'node_27_pressure', 'node_14_demand', 'node_18_demand', 'node_29_demand', 'link_24_flow', 'node_8_pressure', 'link_11_flow', 'node_4_demand', 'link_20_flow', 'node_28_demand', 'node_18_pressure']]\n",
      "starting df shape: (87600, 67)\n",
      "This is training run 9 and has the shape:  (87600, 67)\n",
      "The value of dropped columns is 30\n"
     ]
    },
    {
     "name": "stderr",
     "output_type": "stream",
     "text": [
      "/Users/alexellard/opt/anaconda3/lib/python3.7/site-packages/xgboost/data.py:96: UserWarning: Use subset (sliced data) of np.ndarray is not recommended because it will generate extra copies and increase memory consumption\n",
      "  \"because it will generate extra copies and increase \" +\n"
     ]
    },
    {
     "name": "stdout",
     "output_type": "stream",
     "text": [
      "test y shape : (17520, 1)\n",
      "Inv y shape : (17520, 67)\n",
      "y pred shape : (17520, 1)\n",
      "inv y pred : (17520, 67)\n",
      "Run 9 Mean Absolute Error: 2.88182382329545\n",
      "RMSE: 4.037\n",
      "R^2: 1.000\n",
      "[['node_14_pressure', 'link_26_flow', 'node_9_pressure', 'node_18_demand', 'reservoir_demand', 'node_15_pressure', 'link_5_flow', 'link_17_flow', 'node_1_demand', 'link_12_flow', 'node_20_demand', 'node_13_demand', 'node_10_demand', 'node_17_pressure', 'node_15_demand', 'node_28_pressure', 'node_28_demand', 'link_32_flow', 'node_31_demand', 'link_30_flow', 'node_6_demand', 'node_14_demand', 'link_15_flow', 'link_18_flow', 'node_5_demand', 'node_3_demand', 'reservoir_pressure', 'link_19_flow', 'node_21_pressure', 'node_2_demand']]\n",
      "starting df shape: (87600, 66)\n",
      "This is training run 10 and has the shape:  (87600, 66)\n",
      "The value of dropped columns is 30\n"
     ]
    },
    {
     "name": "stderr",
     "output_type": "stream",
     "text": [
      "/Users/alexellard/opt/anaconda3/lib/python3.7/site-packages/xgboost/data.py:96: UserWarning: Use subset (sliced data) of np.ndarray is not recommended because it will generate extra copies and increase memory consumption\n",
      "  \"because it will generate extra copies and increase \" +\n"
     ]
    },
    {
     "name": "stdout",
     "output_type": "stream",
     "text": [
      "test y shape : (17520, 1)\n",
      "Inv y shape : (17520, 66)\n",
      "y pred shape : (17520, 1)\n",
      "inv y pred : (17520, 66)\n",
      "Run 10 Mean Absolute Error: 0.15514357171395077\n",
      "RMSE: 0.214\n",
      "R^2: 1.000\n",
      "[['node_14_pressure', 'node_21_pressure', 'node_1_pressure', 'node_15_pressure', 'node_26_demand', 'node_11_demand', 'node_4_demand', 'node_11_pressure', 'node_20_pressure', 'node_30_pressure', 'reservoir_demand', 'link_29_flow', 'node_25_demand', 'node_28_pressure', 'node_4_pressure', 'link_8_flow', 'node_21_demand', 'node_31_demand', 'node_6_demand', 'node_12_demand', 'node_16_pressure', 'link_26_flow', 'node_22_pressure', 'link_15_flow', 'node_19_pressure', 'node_7_demand', 'link_9_flow', 'link_28_flow', 'reservoir_pressure', 'node_23_pressure', 'node_29_demand', 'node_13_demand', 'link_30_flow', 'node_17_demand', 'link_32_flow']]\n",
      "starting df shape: (87600, 61)\n",
      "This is training run 1 and has the shape:  (87600, 61)\n",
      "The value of dropped columns is 35\n"
     ]
    },
    {
     "name": "stderr",
     "output_type": "stream",
     "text": [
      "/Users/alexellard/opt/anaconda3/lib/python3.7/site-packages/xgboost/data.py:96: UserWarning: Use subset (sliced data) of np.ndarray is not recommended because it will generate extra copies and increase memory consumption\n",
      "  \"because it will generate extra copies and increase \" +\n"
     ]
    },
    {
     "name": "stdout",
     "output_type": "stream",
     "text": [
      "test y shape : (17520, 1)\n",
      "Inv y shape : (17520, 61)\n",
      "y pred shape : (17520, 1)\n",
      "inv y pred : (17520, 61)\n",
      "Run 1 Mean Absolute Error: 0.28158865728561916\n",
      "RMSE: 0.385\n",
      "R^2: 1.000\n",
      "[['node_27_demand', 'node_13_pressure', 'node_6_pressure', 'link_17_flow', 'node_14_pressure', 'node_23_demand', 'node_3_demand', 'node_4_demand', 'node_16_pressure', 'node_8_demand', 'node_20_demand', 'node_30_pressure', 'node_24_demand', 'node_17_pressure', 'node_19_demand', 'node_31_pressure', 'node_13_demand', 'node_30_demand', 'node_15_demand', 'link_1_flow', 'node_10_pressure', 'link_22_flow', 'link_11_flow', 'node_9_demand', 'link_4_flow', 'node_28_demand', 'link_19_flow', 'link_21_flow', 'node_17_demand', 'link_27_flow', 'node_19_pressure', 'link_31_flow', 'link_26_flow', 'node_1_demand', 'reservoir_demand']]\n",
      "starting df shape: (87600, 61)\n",
      "This is training run 2 and has the shape:  (87600, 61)\n",
      "The value of dropped columns is 35\n"
     ]
    },
    {
     "name": "stderr",
     "output_type": "stream",
     "text": [
      "/Users/alexellard/opt/anaconda3/lib/python3.7/site-packages/xgboost/data.py:96: UserWarning: Use subset (sliced data) of np.ndarray is not recommended because it will generate extra copies and increase memory consumption\n",
      "  \"because it will generate extra copies and increase \" +\n"
     ]
    },
    {
     "name": "stdout",
     "output_type": "stream",
     "text": [
      "test y shape : (17520, 1)\n",
      "Inv y shape : (17520, 61)\n",
      "y pred shape : (17520, 1)\n",
      "inv y pred : (17520, 61)\n",
      "Run 2 Mean Absolute Error: 0.32474614160787824\n",
      "RMSE: 0.449\n",
      "R^2: 1.000\n",
      "[['node_6_pressure', 'node_20_pressure', 'link_22_flow', 'node_24_pressure', 'link_17_flow', 'node_22_demand', 'node_3_pressure', 'node_21_demand', 'node_9_pressure', 'link_11_flow', 'link_12_flow', 'link_16_flow', 'link_21_flow', 'node_24_demand', 'node_23_demand', 'node_5_demand', 'node_2_demand', 'node_22_pressure', 'link_8_flow', 'node_20_demand', 'link_28_flow', 'node_13_pressure', 'node_6_demand', 'node_10_pressure', 'node_19_pressure', 'node_28_pressure', 'node_16_demand', 'link_29_flow', 'node_30_demand', 'node_11_pressure', 'link_18_flow', 'link_5_flow', 'link_3_flow', 'node_26_demand']]\n",
      "starting df shape: (87600, 62)\n",
      "This is training run 3 and has the shape:  (87600, 62)\n",
      "The value of dropped columns is 35\n"
     ]
    },
    {
     "name": "stderr",
     "output_type": "stream",
     "text": [
      "/Users/alexellard/opt/anaconda3/lib/python3.7/site-packages/xgboost/data.py:96: UserWarning: Use subset (sliced data) of np.ndarray is not recommended because it will generate extra copies and increase memory consumption\n",
      "  \"because it will generate extra copies and increase \" +\n"
     ]
    },
    {
     "name": "stdout",
     "output_type": "stream",
     "text": [
      "test y shape : (17520, 1)\n",
      "Inv y shape : (17520, 62)\n",
      "y pred shape : (17520, 1)\n",
      "inv y pred : (17520, 62)\n",
      "Run 3 Mean Absolute Error: 3.9831386739351795\n",
      "RMSE: 5.471\n",
      "R^2: 1.000\n",
      "[['node_22_pressure', 'link_4_flow', 'node_10_demand', 'link_22_flow', 'node_28_demand', 'node_10_pressure', 'link_16_flow', 'node_25_demand', 'node_14_pressure', 'node_21_pressure', 'node_14_demand', 'link_19_flow', 'link_8_flow', 'node_4_demand', 'node_3_demand', 'link_5_flow', 'node_5_pressure', 'link_31_flow', 'node_7_pressure', 'link_14_flow', 'link_12_flow', 'node_19_demand', 'link_1_flow', 'node_24_demand', 'link_2_flow', 'node_23_demand', 'node_30_pressure', 'node_15_pressure', 'link_24_flow', 'node_20_pressure', 'link_23_flow', 'node_7_demand', 'node_13_pressure', 'node_15_demand', 'node_11_demand']]\n",
      "starting df shape: (87600, 61)\n",
      "This is training run 4 and has the shape:  (87600, 61)\n",
      "The value of dropped columns is 35\n"
     ]
    },
    {
     "name": "stderr",
     "output_type": "stream",
     "text": [
      "/Users/alexellard/opt/anaconda3/lib/python3.7/site-packages/xgboost/data.py:96: UserWarning: Use subset (sliced data) of np.ndarray is not recommended because it will generate extra copies and increase memory consumption\n",
      "  \"because it will generate extra copies and increase \" +\n"
     ]
    },
    {
     "name": "stdout",
     "output_type": "stream",
     "text": [
      "test y shape : (17520, 1)\n",
      "Inv y shape : (17520, 61)\n",
      "y pred shape : (17520, 1)\n",
      "inv y pred : (17520, 61)\n",
      "Run 4 Mean Absolute Error: 3.570711137387282\n",
      "RMSE: 5.007\n",
      "R^2: 1.000\n",
      "[['link_21_flow', 'node_24_pressure', 'node_12_demand', 'link_24_flow', 'node_17_pressure', 'node_2_pressure', 'node_27_demand', 'node_6_pressure', 'node_18_pressure', 'node_13_demand', 'link_31_flow', 'node_15_pressure', 'link_14_flow', 'link_29_flow', 'node_23_pressure', 'node_11_demand', 'node_20_demand', 'node_18_demand', 'node_28_pressure', 'link_20_flow', 'node_25_pressure', 'link_9_flow', 'link_3_flow', 'node_8_pressure', 'node_15_demand', 'link_25_flow', 'link_26_flow', 'link_12_flow', 'link_18_flow', 'link_10_flow', 'node_5_pressure', 'link_11_flow', 'node_30_pressure', 'link_8_flow']]\n",
      "starting df shape: (87600, 62)\n",
      "This is training run 5 and has the shape:  (87600, 62)\n",
      "The value of dropped columns is 35\n"
     ]
    },
    {
     "name": "stderr",
     "output_type": "stream",
     "text": [
      "/Users/alexellard/opt/anaconda3/lib/python3.7/site-packages/xgboost/data.py:96: UserWarning: Use subset (sliced data) of np.ndarray is not recommended because it will generate extra copies and increase memory consumption\n",
      "  \"because it will generate extra copies and increase \" +\n"
     ]
    },
    {
     "name": "stdout",
     "output_type": "stream",
     "text": [
      "test y shape : (17520, 1)\n",
      "Inv y shape : (17520, 62)\n",
      "y pred shape : (17520, 1)\n",
      "inv y pred : (17520, 62)\n",
      "Run 5 Mean Absolute Error: 5.576209187173667\n",
      "RMSE: 7.507\n",
      "R^2: 1.000\n",
      "[['node_18_pressure', 'link_28_flow', 'node_5_pressure', 'node_22_pressure', 'node_12_demand', 'node_18_demand', 'node_14_pressure', 'node_11_pressure', 'node_9_demand', 'node_4_demand', 'node_28_demand', 'node_10_demand', 'node_25_demand', 'node_20_demand', 'link_5_flow', 'node_24_pressure', 'node_30_demand', 'link_29_flow', 'node_14_demand', 'link_25_flow', 'link_20_flow', 'node_26_demand', 'link_32_flow', 'node_17_demand', 'node_1_pressure', 'node_30_pressure', 'node_2_demand', 'node_23_pressure', 'node_3_pressure', 'node_27_demand', 'node_25_pressure', 'node_16_pressure', 'node_13_demand', 'link_24_flow', 'node_6_pressure']]\n",
      "starting df shape: (87600, 61)\n",
      "This is training run 6 and has the shape:  (87600, 61)\n",
      "The value of dropped columns is 35\n"
     ]
    },
    {
     "name": "stderr",
     "output_type": "stream",
     "text": [
      "/Users/alexellard/opt/anaconda3/lib/python3.7/site-packages/xgboost/data.py:96: UserWarning: Use subset (sliced data) of np.ndarray is not recommended because it will generate extra copies and increase memory consumption\n",
      "  \"because it will generate extra copies and increase \" +\n"
     ]
    },
    {
     "name": "stdout",
     "output_type": "stream",
     "text": [
      "test y shape : (17520, 1)\n",
      "Inv y shape : (17520, 61)\n",
      "y pred shape : (17520, 1)\n",
      "inv y pred : (17520, 61)\n",
      "Run 6 Mean Absolute Error: 4.22197848927987\n",
      "RMSE: 5.776\n",
      "R^2: 1.000\n",
      "[['link_4_flow', 'node_15_demand', 'node_26_pressure', 'node_4_demand', 'node_19_pressure', 'link_26_flow', 'node_6_pressure', 'node_14_pressure', 'link_18_flow', 'node_14_demand', 'node_11_pressure', 'link_13_flow', 'reservoir_demand', 'node_7_demand', 'node_1_demand', 'link_25_flow', 'node_16_demand', 'link_15_flow', 'link_1_flow', 'link_31_flow', 'node_31_pressure', 'node_23_demand', 'node_21_demand', 'node_13_pressure', 'link_21_flow', 'link_12_flow', 'node_18_pressure', 'node_9_pressure', 'link_5_flow', 'link_7_flow', 'node_30_pressure', 'link_10_flow', 'node_3_demand', 'link_20_flow', 'node_20_demand']]\n",
      "starting df shape: (87600, 61)\n",
      "This is training run 7 and has the shape:  (87600, 61)\n",
      "The value of dropped columns is 35\n"
     ]
    },
    {
     "name": "stderr",
     "output_type": "stream",
     "text": [
      "/Users/alexellard/opt/anaconda3/lib/python3.7/site-packages/xgboost/data.py:96: UserWarning: Use subset (sliced data) of np.ndarray is not recommended because it will generate extra copies and increase memory consumption\n",
      "  \"because it will generate extra copies and increase \" +\n"
     ]
    },
    {
     "name": "stdout",
     "output_type": "stream",
     "text": [
      "test y shape : (17520, 1)\n",
      "Inv y shape : (17520, 61)\n",
      "y pred shape : (17520, 1)\n",
      "inv y pred : (17520, 61)\n",
      "Run 7 Mean Absolute Error: 0.30333760316596176\n",
      "RMSE: 0.423\n",
      "R^2: 1.000\n",
      "[['link_30_flow', 'node_8_demand', 'link_17_flow', 'node_13_pressure', 'node_6_demand', 'node_10_demand', 'link_23_flow', 'node_23_demand', 'link_29_flow', 'node_5_demand', 'node_17_demand', 'node_2_demand', 'link_6_flow', 'link_16_flow', 'link_28_flow', 'node_25_demand', 'node_20_demand', 'node_3_pressure', 'link_26_flow', 'node_9_demand', 'node_9_pressure', 'node_23_pressure', 'node_14_pressure', 'node_25_pressure', 'node_22_demand', 'node_4_demand', 'node_10_pressure', 'node_30_demand', 'node_15_demand', 'node_1_pressure', 'node_28_demand', 'node_11_pressure', 'reservoir_pressure', 'node_20_pressure', 'node_6_pressure']]\n",
      "starting df shape: (87600, 61)\n",
      "This is training run 8 and has the shape:  (87600, 61)\n",
      "The value of dropped columns is 35\n"
     ]
    },
    {
     "name": "stderr",
     "output_type": "stream",
     "text": [
      "/Users/alexellard/opt/anaconda3/lib/python3.7/site-packages/xgboost/data.py:96: UserWarning: Use subset (sliced data) of np.ndarray is not recommended because it will generate extra copies and increase memory consumption\n",
      "  \"because it will generate extra copies and increase \" +\n"
     ]
    },
    {
     "name": "stdout",
     "output_type": "stream",
     "text": [
      "test y shape : (17520, 1)\n",
      "Inv y shape : (17520, 61)\n",
      "y pred shape : (17520, 1)\n",
      "inv y pred : (17520, 61)\n",
      "Run 8 Mean Absolute Error: 2.84419362058039\n",
      "RMSE: 4.015\n",
      "R^2: 1.000\n",
      "[['link_12_flow', 'reservoir_demand', 'node_3_pressure', 'node_21_demand', 'link_25_flow', 'node_25_pressure', 'node_24_pressure', 'node_28_pressure', 'node_7_pressure', 'node_11_pressure', 'link_19_flow', 'link_11_flow', 'node_21_pressure', 'node_12_pressure', 'link_7_flow', 'node_8_demand', 'node_22_demand', 'node_28_demand', 'node_15_demand', 'link_29_flow', 'node_18_demand', 'node_17_pressure', 'node_19_demand', 'node_12_demand', 'link_32_flow', 'node_25_demand', 'node_8_pressure', 'link_21_flow', 'node_27_pressure', 'node_4_pressure', 'link_31_flow', 'node_9_pressure', 'node_13_pressure', 'link_8_flow', 'node_7_demand']]\n",
      "starting df shape: (87600, 61)\n",
      "This is training run 9 and has the shape:  (87600, 61)\n",
      "The value of dropped columns is 35\n"
     ]
    },
    {
     "name": "stderr",
     "output_type": "stream",
     "text": [
      "/Users/alexellard/opt/anaconda3/lib/python3.7/site-packages/xgboost/data.py:96: UserWarning: Use subset (sliced data) of np.ndarray is not recommended because it will generate extra copies and increase memory consumption\n",
      "  \"because it will generate extra copies and increase \" +\n"
     ]
    },
    {
     "name": "stdout",
     "output_type": "stream",
     "text": [
      "test y shape : (17520, 1)\n",
      "Inv y shape : (17520, 61)\n",
      "y pred shape : (17520, 1)\n",
      "inv y pred : (17520, 61)\n",
      "Run 9 Mean Absolute Error: 0.19664166597706725\n",
      "RMSE: 0.283\n",
      "R^2: 1.000\n",
      "[['node_14_pressure', 'node_13_demand', 'node_8_demand', 'node_27_pressure', 'reservoir_pressure', 'link_14_flow', 'node_23_pressure', 'link_18_flow', 'node_11_pressure', 'node_6_demand', 'link_13_flow', 'node_21_pressure', 'link_20_flow', 'node_12_pressure', 'link_23_flow', 'link_16_flow', 'link_24_flow', 'node_6_pressure', 'node_7_demand', 'link_32_flow', 'node_5_pressure', 'link_10_flow', 'node_1_pressure', 'node_27_demand', 'node_17_pressure', 'node_28_pressure', 'reservoir_demand', 'link_21_flow', 'link_6_flow', 'node_31_demand', 'link_11_flow', 'node_24_pressure', 'node_18_demand', 'node_16_demand', 'node_29_demand']]\n",
      "starting df shape: (87600, 61)\n",
      "This is training run 10 and has the shape:  (87600, 61)\n",
      "The value of dropped columns is 35\n"
     ]
    },
    {
     "name": "stderr",
     "output_type": "stream",
     "text": [
      "/Users/alexellard/opt/anaconda3/lib/python3.7/site-packages/xgboost/data.py:96: UserWarning: Use subset (sliced data) of np.ndarray is not recommended because it will generate extra copies and increase memory consumption\n",
      "  \"because it will generate extra copies and increase \" +\n"
     ]
    },
    {
     "name": "stdout",
     "output_type": "stream",
     "text": [
      "test y shape : (17520, 1)\n",
      "Inv y shape : (17520, 61)\n",
      "y pred shape : (17520, 1)\n",
      "inv y pred : (17520, 61)\n",
      "Run 10 Mean Absolute Error: 0.22715214403243858\n",
      "RMSE: 0.320\n",
      "R^2: 1.000\n",
      "[['link_17_flow', 'link_11_flow', 'node_14_demand', 'node_20_pressure', 'link_29_flow', 'node_19_demand', 'node_8_demand', 'link_30_flow', 'node_15_pressure', 'node_28_demand', 'link_15_flow', 'link_6_flow', 'node_4_pressure', 'node_12_demand', 'link_3_flow', 'node_14_pressure', 'node_12_pressure', 'link_13_flow', 'node_26_pressure', 'link_18_flow', 'node_21_pressure', 'link_20_flow', 'node_24_pressure', 'link_8_flow', 'node_5_demand', 'node_5_pressure', 'node_11_pressure', 'node_18_pressure', 'link_23_flow', 'link_27_flow', 'link_4_flow', 'node_16_pressure', 'node_23_demand', 'node_30_pressure', 'node_15_demand', 'link_25_flow', 'node_10_pressure', 'node_22_demand', 'link_32_flow']]\n",
      "starting df shape: (87600, 57)\n",
      "This is training run 1 and has the shape:  (87600, 57)\n",
      "The value of dropped columns is 40\n"
     ]
    },
    {
     "name": "stderr",
     "output_type": "stream",
     "text": [
      "/Users/alexellard/opt/anaconda3/lib/python3.7/site-packages/xgboost/data.py:96: UserWarning: Use subset (sliced data) of np.ndarray is not recommended because it will generate extra copies and increase memory consumption\n",
      "  \"because it will generate extra copies and increase \" +\n"
     ]
    },
    {
     "name": "stdout",
     "output_type": "stream",
     "text": [
      "test y shape : (17520, 1)\n",
      "Inv y shape : (17520, 57)\n",
      "y pred shape : (17520, 1)\n",
      "inv y pred : (17520, 57)\n",
      "Run 1 Mean Absolute Error: 3.9838636877372577\n",
      "RMSE: 5.499\n",
      "R^2: 1.000\n",
      "[['node_31_pressure', 'link_12_flow', 'node_27_pressure', 'node_13_pressure', 'reservoir_demand', 'node_21_pressure', 'node_10_demand', 'node_3_demand', 'node_18_pressure', 'node_22_demand', 'node_4_demand', 'node_24_pressure', 'node_1_pressure', 'node_14_pressure', 'node_8_pressure', 'node_7_pressure', 'node_14_demand', 'link_21_flow', 'node_3_pressure', 'node_26_pressure', 'link_4_flow', 'link_17_flow', 'link_11_flow', 'node_25_pressure', 'link_10_flow', 'link_2_flow', 'node_10_pressure', 'node_27_demand', 'link_26_flow', 'link_32_flow', 'node_11_pressure', 'node_6_demand', 'node_20_pressure', 'node_28_pressure', 'link_6_flow', 'node_16_demand', 'link_14_flow', 'link_27_flow', 'node_28_demand']]\n",
      "starting df shape: (87600, 57)\n",
      "This is training run 2 and has the shape:  (87600, 57)\n",
      "The value of dropped columns is 40\n"
     ]
    },
    {
     "name": "stderr",
     "output_type": "stream",
     "text": [
      "/Users/alexellard/opt/anaconda3/lib/python3.7/site-packages/xgboost/data.py:96: UserWarning: Use subset (sliced data) of np.ndarray is not recommended because it will generate extra copies and increase memory consumption\n",
      "  \"because it will generate extra copies and increase \" +\n"
     ]
    },
    {
     "name": "stdout",
     "output_type": "stream",
     "text": [
      "test y shape : (17520, 1)\n",
      "Inv y shape : (17520, 57)\n",
      "y pred shape : (17520, 1)\n",
      "inv y pred : (17520, 57)\n",
      "Run 2 Mean Absolute Error: 0.2854023293198775\n",
      "RMSE: 0.384\n",
      "R^2: 1.000\n",
      "[['link_12_flow', 'node_4_demand', 'link_32_flow', 'link_3_flow', 'node_17_demand', 'node_14_pressure', 'node_23_pressure', 'link_1_flow', 'node_7_demand', 'link_29_flow', 'node_5_demand', 'node_8_demand', 'link_14_flow', 'node_24_pressure', 'link_4_flow', 'node_26_demand', 'node_18_pressure', 'link_22_flow', 'node_30_pressure', 'link_18_flow', 'link_31_flow', 'link_30_flow', 'node_22_demand', 'link_11_flow', 'node_27_pressure', 'node_7_pressure', 'node_23_demand', 'node_21_demand', 'link_9_flow', 'link_19_flow', 'node_25_pressure', 'node_8_pressure', 'node_21_pressure', 'node_30_demand', 'link_17_flow', 'link_27_flow', 'link_5_flow', 'link_24_flow', 'node_2_demand']]\n",
      "starting df shape: (87600, 57)\n",
      "This is training run 3 and has the shape:  (87600, 57)\n",
      "The value of dropped columns is 40\n"
     ]
    },
    {
     "name": "stderr",
     "output_type": "stream",
     "text": [
      "/Users/alexellard/opt/anaconda3/lib/python3.7/site-packages/xgboost/data.py:96: UserWarning: Use subset (sliced data) of np.ndarray is not recommended because it will generate extra copies and increase memory consumption\n",
      "  \"because it will generate extra copies and increase \" +\n"
     ]
    },
    {
     "name": "stdout",
     "output_type": "stream",
     "text": [
      "test y shape : (17520, 1)\n",
      "Inv y shape : (17520, 57)\n",
      "y pred shape : (17520, 1)\n",
      "inv y pred : (17520, 57)\n",
      "Run 3 Mean Absolute Error: 4.469184939923605\n",
      "RMSE: 6.168\n",
      "R^2: 1.000\n",
      "[['node_1_pressure', 'node_17_demand', 'link_22_flow', 'link_27_flow', 'node_26_demand', 'link_20_flow', 'link_5_flow', 'node_4_pressure', 'node_3_pressure', 'link_9_flow', 'node_8_demand', 'link_29_flow', 'link_4_flow', 'node_24_pressure', 'node_14_pressure', 'link_24_flow', 'node_5_pressure', 'link_6_flow', 'node_1_demand', 'node_31_pressure', 'node_4_demand', 'node_19_demand', 'node_16_pressure', 'reservoir_demand', 'node_13_pressure', 'node_20_pressure', 'node_30_pressure', 'link_18_flow', 'node_20_demand', 'node_21_demand', 'link_17_flow', 'node_22_pressure', 'node_12_pressure', 'link_7_flow', 'node_7_pressure', 'node_2_pressure', 'node_16_demand', 'node_3_demand', 'node_17_pressure', 'node_9_pressure']]\n",
      "starting df shape: (87600, 56)\n",
      "This is training run 4 and has the shape:  (87600, 56)\n",
      "The value of dropped columns is 40\n"
     ]
    },
    {
     "name": "stderr",
     "output_type": "stream",
     "text": [
      "/Users/alexellard/opt/anaconda3/lib/python3.7/site-packages/xgboost/data.py:96: UserWarning: Use subset (sliced data) of np.ndarray is not recommended because it will generate extra copies and increase memory consumption\n",
      "  \"because it will generate extra copies and increase \" +\n"
     ]
    },
    {
     "name": "stdout",
     "output_type": "stream",
     "text": [
      "test y shape : (17520, 1)\n",
      "Inv y shape : (17520, 56)\n",
      "y pred shape : (17520, 1)\n",
      "inv y pred : (17520, 56)\n",
      "Run 4 Mean Absolute Error: 0.30473687962328416\n",
      "RMSE: 0.434\n",
      "R^2: 1.000\n",
      "[['node_14_pressure', 'node_22_demand', 'link_8_flow', 'node_24_demand', 'link_13_flow', 'node_5_pressure', 'link_25_flow', 'link_6_flow', 'node_31_demand', 'link_14_flow', 'node_12_pressure', 'node_31_pressure', 'link_32_flow', 'node_9_demand', 'node_28_pressure', 'node_7_demand', 'node_20_demand', 'link_1_flow', 'link_7_flow', 'node_25_demand', 'link_17_flow', 'node_30_pressure', 'node_1_demand', 'node_3_demand', 'link_3_flow', 'node_22_pressure', 'node_10_pressure', 'node_24_pressure', 'link_21_flow', 'link_16_flow', 'node_27_demand', 'node_11_demand', 'link_4_flow', 'node_28_demand', 'link_18_flow', 'link_5_flow', 'link_26_flow', 'link_15_flow', 'node_5_demand']]\n",
      "starting df shape: (87600, 57)\n",
      "This is training run 5 and has the shape:  (87600, 57)\n",
      "The value of dropped columns is 40\n"
     ]
    },
    {
     "name": "stderr",
     "output_type": "stream",
     "text": [
      "/Users/alexellard/opt/anaconda3/lib/python3.7/site-packages/xgboost/data.py:96: UserWarning: Use subset (sliced data) of np.ndarray is not recommended because it will generate extra copies and increase memory consumption\n",
      "  \"because it will generate extra copies and increase \" +\n"
     ]
    },
    {
     "name": "stdout",
     "output_type": "stream",
     "text": [
      "test y shape : (17520, 1)\n",
      "Inv y shape : (17520, 57)\n",
      "y pred shape : (17520, 1)\n",
      "inv y pred : (17520, 57)\n",
      "Run 5 Mean Absolute Error: 8.8570585314413\n",
      "RMSE: 12.084\n",
      "R^2: 1.000\n",
      "[['node_26_demand', 'link_13_flow', 'link_26_flow', 'node_4_demand', 'link_16_flow', 'link_21_flow', 'link_7_flow', 'link_25_flow', 'node_14_demand', 'node_6_demand', 'link_28_flow', 'node_31_pressure', 'node_18_demand', 'node_3_pressure', 'link_6_flow', 'link_31_flow', 'node_9_demand', 'link_2_flow', 'node_8_demand', 'link_30_flow', 'node_24_demand', 'node_17_pressure', 'node_21_demand', 'node_2_demand', 'link_15_flow', 'node_1_demand', 'node_20_pressure', 'node_11_demand', 'node_29_demand', 'node_10_pressure', 'node_12_demand', 'node_4_pressure', 'node_28_pressure', 'node_31_demand', 'node_13_demand', 'reservoir_demand', 'node_11_pressure', 'node_27_pressure', 'node_24_pressure', 'node_3_demand']]\n",
      "starting df shape: (87600, 56)\n",
      "This is training run 6 and has the shape:  (87600, 56)\n",
      "The value of dropped columns is 40\n"
     ]
    },
    {
     "name": "stderr",
     "output_type": "stream",
     "text": [
      "/Users/alexellard/opt/anaconda3/lib/python3.7/site-packages/xgboost/data.py:96: UserWarning: Use subset (sliced data) of np.ndarray is not recommended because it will generate extra copies and increase memory consumption\n",
      "  \"because it will generate extra copies and increase \" +\n"
     ]
    },
    {
     "name": "stdout",
     "output_type": "stream",
     "text": [
      "test y shape : (17520, 1)\n",
      "Inv y shape : (17520, 56)\n",
      "y pred shape : (17520, 1)\n",
      "inv y pred : (17520, 56)\n",
      "Run 6 Mean Absolute Error: 0.22441907019892685\n",
      "RMSE: 0.311\n",
      "R^2: 1.000\n",
      "[['node_2_demand', 'node_13_demand', 'node_13_pressure', 'link_20_flow', 'node_7_pressure', 'link_21_flow', 'link_2_flow', 'node_26_pressure', 'link_8_flow', 'link_11_flow', 'node_15_pressure', 'node_10_pressure', 'link_5_flow', 'link_25_flow', 'link_30_flow', 'node_17_pressure', 'link_23_flow', 'link_9_flow', 'reservoir_demand', 'node_24_demand', 'link_26_flow', 'link_14_flow', 'node_31_demand', 'node_6_demand', 'link_10_flow', 'node_25_pressure', 'node_20_pressure', 'link_27_flow', 'node_8_demand', 'link_24_flow', 'link_31_flow', 'link_32_flow', 'node_26_demand', 'node_10_demand', 'node_15_demand', 'link_7_flow', 'node_19_demand', 'node_2_pressure', 'node_29_demand', 'node_27_demand']]\n",
      "starting df shape: (87600, 56)\n",
      "This is training run 7 and has the shape:  (87600, 56)\n",
      "The value of dropped columns is 40\n"
     ]
    },
    {
     "name": "stderr",
     "output_type": "stream",
     "text": [
      "/Users/alexellard/opt/anaconda3/lib/python3.7/site-packages/xgboost/data.py:96: UserWarning: Use subset (sliced data) of np.ndarray is not recommended because it will generate extra copies and increase memory consumption\n",
      "  \"because it will generate extra copies and increase \" +\n"
     ]
    },
    {
     "name": "stdout",
     "output_type": "stream",
     "text": [
      "test y shape : (17520, 1)\n",
      "Inv y shape : (17520, 56)\n",
      "y pred shape : (17520, 1)\n",
      "inv y pred : (17520, 56)\n",
      "Run 7 Mean Absolute Error: 0.18925109785120364\n",
      "RMSE: 0.271\n",
      "R^2: 1.000\n",
      "[['node_30_demand', 'link_7_flow', 'node_23_pressure', 'node_30_pressure', 'node_17_demand', 'link_28_flow', 'link_22_flow', 'node_8_pressure', 'node_26_demand', 'node_20_pressure', 'link_4_flow', 'link_24_flow', 'node_4_demand', 'node_3_pressure', 'node_31_demand', 'link_8_flow', 'link_25_flow', 'node_18_pressure', 'node_24_pressure', 'node_14_pressure', 'link_13_flow', 'link_12_flow', 'node_9_pressure', 'node_3_demand', 'link_9_flow', 'node_12_pressure', 'node_2_pressure', 'reservoir_demand', 'node_27_demand', 'node_1_pressure', 'node_15_pressure', 'node_26_pressure', 'node_16_pressure', 'node_12_demand', 'node_27_pressure', 'node_2_demand', 'node_13_demand', 'node_8_demand', 'link_19_flow', 'link_14_flow']]\n",
      "starting df shape: (87600, 56)\n",
      "This is training run 8 and has the shape:  (87600, 56)\n",
      "The value of dropped columns is 40\n"
     ]
    },
    {
     "name": "stderr",
     "output_type": "stream",
     "text": [
      "/Users/alexellard/opt/anaconda3/lib/python3.7/site-packages/xgboost/data.py:96: UserWarning: Use subset (sliced data) of np.ndarray is not recommended because it will generate extra copies and increase memory consumption\n",
      "  \"because it will generate extra copies and increase \" +\n"
     ]
    },
    {
     "name": "stdout",
     "output_type": "stream",
     "text": [
      "test y shape : (17520, 1)\n",
      "Inv y shape : (17520, 56)\n",
      "y pred shape : (17520, 1)\n",
      "inv y pred : (17520, 56)\n",
      "Run 8 Mean Absolute Error: 0.22320082276819964\n",
      "RMSE: 0.310\n",
      "R^2: 1.000\n",
      "[['link_17_flow', 'node_5_demand', 'node_21_demand', 'node_2_demand', 'link_21_flow', 'link_20_flow', 'node_9_pressure', 'link_15_flow', 'link_2_flow', 'link_30_flow', 'link_26_flow', 'reservoir_demand', 'node_26_pressure', 'node_10_demand', 'node_8_pressure', 'node_27_pressure', 'node_22_demand', 'link_24_flow', 'node_30_pressure', 'node_13_pressure', 'node_31_demand', 'link_31_flow', 'node_26_demand', 'node_8_demand', 'link_16_flow', 'node_14_demand', 'link_25_flow', 'link_23_flow', 'node_13_demand', 'node_15_pressure', 'node_27_demand', 'link_13_flow', 'link_3_flow', 'node_31_pressure', 'link_6_flow', 'node_24_pressure', 'node_11_demand', 'node_5_pressure', 'node_22_pressure']]\n",
      "starting df shape: (87600, 57)\n",
      "This is training run 9 and has the shape:  (87600, 57)\n",
      "The value of dropped columns is 40\n"
     ]
    },
    {
     "name": "stderr",
     "output_type": "stream",
     "text": [
      "/Users/alexellard/opt/anaconda3/lib/python3.7/site-packages/xgboost/data.py:96: UserWarning: Use subset (sliced data) of np.ndarray is not recommended because it will generate extra copies and increase memory consumption\n",
      "  \"because it will generate extra copies and increase \" +\n"
     ]
    },
    {
     "name": "stdout",
     "output_type": "stream",
     "text": [
      "test y shape : (17520, 1)\n",
      "Inv y shape : (17520, 57)\n",
      "y pred shape : (17520, 1)\n",
      "inv y pred : (17520, 57)\n",
      "Run 9 Mean Absolute Error: 0.3522283965923378\n",
      "RMSE: 0.512\n",
      "R^2: 1.000\n",
      "[['node_3_demand', 'node_19_pressure', 'node_9_pressure', 'link_10_flow', 'link_26_flow', 'link_31_flow', 'link_12_flow', 'link_1_flow', 'link_8_flow', 'node_4_pressure', 'node_27_pressure', 'node_17_demand', 'link_16_flow', 'link_29_flow', 'link_9_flow', 'node_28_pressure', 'link_21_flow', 'node_28_demand', 'node_14_demand', 'node_7_pressure', 'node_3_pressure', 'node_23_demand', 'link_2_flow', 'link_14_flow', 'node_5_demand', 'link_11_flow', 'node_22_pressure', 'node_30_pressure', 'link_27_flow', 'node_25_pressure', 'link_15_flow', 'node_15_pressure', 'link_5_flow', 'node_20_demand', 'link_19_flow', 'link_4_flow', 'node_9_demand', 'node_13_pressure', 'link_13_flow', 'node_1_pressure']]\n",
      "starting df shape: (87600, 56)\n",
      "This is training run 10 and has the shape:  (87600, 56)\n",
      "The value of dropped columns is 40\n"
     ]
    },
    {
     "name": "stderr",
     "output_type": "stream",
     "text": [
      "/Users/alexellard/opt/anaconda3/lib/python3.7/site-packages/xgboost/data.py:96: UserWarning: Use subset (sliced data) of np.ndarray is not recommended because it will generate extra copies and increase memory consumption\n",
      "  \"because it will generate extra copies and increase \" +\n"
     ]
    },
    {
     "name": "stdout",
     "output_type": "stream",
     "text": [
      "test y shape : (17520, 1)\n",
      "Inv y shape : (17520, 56)\n",
      "y pred shape : (17520, 1)\n",
      "inv y pred : (17520, 56)\n",
      "Run 10 Mean Absolute Error: 5.210052741468245\n",
      "RMSE: 6.995\n",
      "R^2: 1.000\n",
      "[['link_20_flow', 'link_10_flow', 'node_21_pressure', 'node_26_demand', 'node_1_demand', 'link_1_flow', 'node_4_demand', 'node_27_pressure', 'link_22_flow', 'node_24_pressure', 'node_25_demand', 'node_12_pressure', 'node_31_demand', 'link_6_flow', 'link_12_flow', 'node_1_pressure', 'node_7_demand', 'node_2_pressure', 'node_8_pressure', 'node_19_demand', 'link_16_flow', 'node_16_pressure', 'node_15_demand', 'node_24_demand', 'link_5_flow', 'link_17_flow', 'node_12_demand', 'link_13_flow', 'link_31_flow', 'node_9_demand', 'link_30_flow', 'link_25_flow', 'node_6_demand', 'node_20_demand', 'node_29_demand', 'node_26_pressure', 'node_10_pressure', 'node_17_pressure', 'link_15_flow', 'link_21_flow', 'reservoir_pressure', 'link_9_flow', 'node_21_demand', 'node_30_demand', 'node_14_pressure']]\n",
      "starting df shape: (87600, 51)\n",
      "This is training run 1 and has the shape:  (87600, 51)\n",
      "The value of dropped columns is 45\n"
     ]
    },
    {
     "name": "stderr",
     "output_type": "stream",
     "text": [
      "/Users/alexellard/opt/anaconda3/lib/python3.7/site-packages/xgboost/data.py:96: UserWarning: Use subset (sliced data) of np.ndarray is not recommended because it will generate extra copies and increase memory consumption\n",
      "  \"because it will generate extra copies and increase \" +\n"
     ]
    },
    {
     "name": "stdout",
     "output_type": "stream",
     "text": [
      "test y shape : (17520, 1)\n",
      "Inv y shape : (17520, 51)\n",
      "y pred shape : (17520, 1)\n",
      "inv y pred : (17520, 51)\n",
      "Run 1 Mean Absolute Error: 3.2525977496720944\n",
      "RMSE: 4.613\n",
      "R^2: 1.000\n",
      "[['link_24_flow', 'node_30_demand', 'link_9_flow', 'link_2_flow', 'node_13_pressure', 'node_1_demand', 'node_31_demand', 'node_16_pressure', 'link_26_flow', 'node_27_pressure', 'node_10_demand', 'link_25_flow', 'node_21_demand', 'node_4_pressure', 'node_5_demand', 'reservoir_pressure', 'link_31_flow', 'node_20_demand', 'node_2_demand', 'link_6_flow', 'node_16_demand', 'node_23_pressure', 'node_4_demand', 'node_5_pressure', 'node_2_pressure', 'link_13_flow', 'link_23_flow', 'node_28_pressure', 'node_6_pressure', 'node_7_pressure', 'node_24_demand', 'node_17_demand', 'link_27_flow', 'node_22_demand', 'node_3_pressure', 'node_25_pressure', 'node_15_pressure', 'link_17_flow', 'node_24_pressure', 'link_19_flow', 'link_4_flow', 'node_18_demand', 'link_12_flow', 'node_9_demand', 'node_11_demand']]\n",
      "starting df shape: (87600, 51)\n",
      "This is training run 2 and has the shape:  (87600, 51)\n",
      "The value of dropped columns is 45\n"
     ]
    },
    {
     "name": "stderr",
     "output_type": "stream",
     "text": [
      "/Users/alexellard/opt/anaconda3/lib/python3.7/site-packages/xgboost/data.py:96: UserWarning: Use subset (sliced data) of np.ndarray is not recommended because it will generate extra copies and increase memory consumption\n",
      "  \"because it will generate extra copies and increase \" +\n"
     ]
    },
    {
     "name": "stdout",
     "output_type": "stream",
     "text": [
      "test y shape : (17520, 1)\n",
      "Inv y shape : (17520, 51)\n",
      "y pred shape : (17520, 1)\n",
      "inv y pred : (17520, 51)\n",
      "Run 2 Mean Absolute Error: 3.621870119251598\n",
      "RMSE: 5.069\n",
      "R^2: 1.000\n",
      "[['node_28_pressure', 'node_8_pressure', 'node_3_demand', 'node_1_pressure', 'link_19_flow', 'link_26_flow', 'reservoir_pressure', 'node_15_pressure', 'node_11_demand', 'node_20_pressure', 'node_19_demand', 'node_26_pressure', 'node_12_demand', 'link_11_flow', 'link_23_flow', 'node_28_demand', 'node_13_demand', 'node_11_pressure', 'link_22_flow', 'node_2_pressure', 'node_29_demand', 'node_30_pressure', 'node_18_pressure', 'link_8_flow', 'node_6_demand', 'node_27_demand', 'node_21_pressure', 'node_4_pressure', 'link_4_flow', 'link_32_flow', 'node_10_demand', 'node_7_demand', 'link_14_flow', 'node_31_pressure', 'node_5_demand', 'node_4_demand', 'node_22_demand', 'node_13_pressure', 'node_14_pressure', 'link_28_flow', 'node_23_pressure', 'node_9_demand', 'node_25_pressure', 'reservoir_demand']]\n",
      "starting df shape: (87600, 52)\n",
      "This is training run 3 and has the shape:  (87600, 52)\n",
      "The value of dropped columns is 45\n"
     ]
    },
    {
     "name": "stderr",
     "output_type": "stream",
     "text": [
      "/Users/alexellard/opt/anaconda3/lib/python3.7/site-packages/xgboost/data.py:96: UserWarning: Use subset (sliced data) of np.ndarray is not recommended because it will generate extra copies and increase memory consumption\n",
      "  \"because it will generate extra copies and increase \" +\n"
     ]
    },
    {
     "name": "stdout",
     "output_type": "stream",
     "text": [
      "test y shape : (17520, 1)\n",
      "Inv y shape : (17520, 52)\n",
      "y pred shape : (17520, 1)\n",
      "inv y pred : (17520, 52)\n",
      "Run 3 Mean Absolute Error: 0.434979629241609\n",
      "RMSE: 0.580\n",
      "R^2: 1.000\n",
      "[['node_23_demand', 'node_5_pressure', 'link_27_flow', 'node_10_demand', 'node_6_demand', 'link_25_flow', 'link_19_flow', 'link_20_flow', 'link_13_flow', 'node_6_pressure', 'node_13_demand', 'link_10_flow', 'node_24_pressure', 'node_21_pressure', 'node_14_demand', 'node_21_demand', 'link_23_flow', 'node_27_demand', 'link_28_flow', 'link_1_flow', 'node_7_pressure', 'node_27_pressure', 'node_12_pressure', 'link_21_flow', 'reservoir_pressure', 'node_16_demand', 'link_8_flow', 'node_15_pressure', 'node_26_pressure', 'node_11_pressure', 'node_23_pressure', 'node_25_pressure', 'node_19_demand', 'link_12_flow', 'node_29_demand', 'node_24_demand', 'node_18_pressure', 'link_11_flow', 'link_5_flow', 'link_9_flow', 'node_3_demand', 'node_22_pressure', 'node_28_pressure', 'node_18_demand']]\n",
      "starting df shape: (87600, 52)\n",
      "This is training run 4 and has the shape:  (87600, 52)\n",
      "The value of dropped columns is 45\n"
     ]
    },
    {
     "name": "stderr",
     "output_type": "stream",
     "text": [
      "/Users/alexellard/opt/anaconda3/lib/python3.7/site-packages/xgboost/data.py:96: UserWarning: Use subset (sliced data) of np.ndarray is not recommended because it will generate extra copies and increase memory consumption\n",
      "  \"because it will generate extra copies and increase \" +\n"
     ]
    },
    {
     "name": "stdout",
     "output_type": "stream",
     "text": [
      "test y shape : (17520, 1)\n",
      "Inv y shape : (17520, 52)\n",
      "y pred shape : (17520, 1)\n",
      "inv y pred : (17520, 52)\n",
      "Run 4 Mean Absolute Error: 2.700264074693372\n",
      "RMSE: 3.797\n",
      "R^2: 1.000\n",
      "[['node_21_demand', 'link_13_flow', 'link_14_flow', 'node_22_demand', 'node_28_demand', 'node_7_demand', 'link_29_flow', 'node_2_demand', 'node_8_demand', 'node_5_pressure', 'link_30_flow', 'node_11_demand', 'node_10_pressure', 'node_26_demand', 'node_19_pressure', 'node_21_pressure', 'link_19_flow', 'link_9_flow', 'node_29_demand', 'node_6_demand', 'node_11_pressure', 'node_1_demand', 'node_15_pressure', 'link_1_flow', 'reservoir_pressure', 'link_23_flow', 'link_17_flow', 'node_20_demand', 'node_9_demand', 'link_25_flow', 'link_8_flow', 'node_4_demand', 'reservoir_demand', 'link_22_flow', 'link_15_flow', 'link_24_flow', 'link_12_flow', 'link_32_flow', 'node_24_demand', 'link_28_flow', 'node_18_pressure', 'node_24_pressure', 'link_10_flow', 'node_20_pressure', 'link_20_flow']]\n",
      "starting df shape: (87600, 51)\n",
      "This is training run 5 and has the shape:  (87600, 51)\n",
      "The value of dropped columns is 45\n"
     ]
    },
    {
     "name": "stderr",
     "output_type": "stream",
     "text": [
      "/Users/alexellard/opt/anaconda3/lib/python3.7/site-packages/xgboost/data.py:96: UserWarning: Use subset (sliced data) of np.ndarray is not recommended because it will generate extra copies and increase memory consumption\n",
      "  \"because it will generate extra copies and increase \" +\n"
     ]
    },
    {
     "name": "stdout",
     "output_type": "stream",
     "text": [
      "test y shape : (17520, 1)\n",
      "Inv y shape : (17520, 51)\n",
      "y pred shape : (17520, 1)\n",
      "inv y pred : (17520, 51)\n",
      "Run 5 Mean Absolute Error: 0.02924833117080435\n",
      "RMSE: 0.043\n",
      "R^2: 1.000\n",
      "[['node_9_demand', 'node_4_pressure', 'node_7_demand', 'link_24_flow', 'link_22_flow', 'node_25_pressure', 'link_26_flow', 'node_15_demand', 'node_21_demand', 'link_18_flow', 'node_2_pressure', 'link_5_flow', 'node_20_demand', 'link_4_flow', 'link_19_flow', 'link_21_flow', 'link_14_flow', 'node_26_pressure', 'node_18_pressure', 'node_28_pressure', 'node_16_demand', 'node_14_pressure', 'node_28_demand', 'link_23_flow', 'link_15_flow', 'node_20_pressure', 'node_19_pressure', 'node_7_pressure', 'node_12_demand', 'link_29_flow', 'node_24_pressure', 'link_25_flow', 'node_27_demand', 'node_17_pressure', 'reservoir_demand', 'node_29_demand', 'link_8_flow', 'node_16_pressure', 'node_5_pressure', 'node_22_pressure', 'node_2_demand', 'link_32_flow', 'node_10_pressure', 'link_17_flow', 'node_15_pressure']]\n",
      "starting df shape: (87600, 51)\n",
      "This is training run 6 and has the shape:  (87600, 51)\n",
      "The value of dropped columns is 45\n"
     ]
    },
    {
     "name": "stderr",
     "output_type": "stream",
     "text": [
      "/Users/alexellard/opt/anaconda3/lib/python3.7/site-packages/xgboost/data.py:96: UserWarning: Use subset (sliced data) of np.ndarray is not recommended because it will generate extra copies and increase memory consumption\n",
      "  \"because it will generate extra copies and increase \" +\n"
     ]
    },
    {
     "name": "stdout",
     "output_type": "stream",
     "text": [
      "test y shape : (17520, 1)\n",
      "Inv y shape : (17520, 51)\n",
      "y pred shape : (17520, 1)\n",
      "inv y pred : (17520, 51)\n",
      "Run 6 Mean Absolute Error: 0.19003721249676556\n",
      "RMSE: 0.269\n",
      "R^2: 1.000\n",
      "[['link_30_flow', 'node_12_pressure', 'link_6_flow', 'node_29_demand', 'link_8_flow', 'node_5_pressure', 'link_29_flow', 'link_32_flow', 'node_24_pressure', 'reservoir_demand', 'node_6_demand', 'link_1_flow', 'node_25_pressure', 'node_11_pressure', 'link_27_flow', 'link_12_flow', 'node_25_demand', 'node_20_pressure', 'node_2_pressure', 'node_2_demand', 'node_1_demand', 'node_22_pressure', 'node_9_pressure', 'node_19_demand', 'link_18_flow', 'node_13_pressure', 'node_18_demand', 'link_3_flow', 'link_14_flow', 'node_14_pressure', 'link_15_flow', 'node_8_demand', 'node_27_pressure', 'link_20_flow', 'link_2_flow', 'node_19_pressure', 'reservoir_pressure', 'node_4_pressure', 'node_16_pressure', 'link_5_flow', 'node_10_demand', 'link_26_flow', 'node_11_demand', 'node_28_demand']]\n",
      "starting df shape: (87600, 52)\n",
      "This is training run 7 and has the shape:  (87600, 52)\n",
      "The value of dropped columns is 45\n"
     ]
    },
    {
     "name": "stderr",
     "output_type": "stream",
     "text": [
      "/Users/alexellard/opt/anaconda3/lib/python3.7/site-packages/xgboost/data.py:96: UserWarning: Use subset (sliced data) of np.ndarray is not recommended because it will generate extra copies and increase memory consumption\n",
      "  \"because it will generate extra copies and increase \" +\n"
     ]
    },
    {
     "name": "stdout",
     "output_type": "stream",
     "text": [
      "test y shape : (17520, 1)\n",
      "Inv y shape : (17520, 52)\n",
      "y pred shape : (17520, 1)\n",
      "inv y pred : (17520, 52)\n",
      "Run 7 Mean Absolute Error: 0.026764602563500998\n",
      "RMSE: 0.038\n",
      "R^2: 1.000\n",
      "[['link_12_flow', 'link_20_flow', 'link_27_flow', 'link_16_flow', 'node_14_pressure', 'node_4_pressure', 'node_28_pressure', 'node_18_demand', 'node_6_pressure', 'node_31_demand', 'link_4_flow', 'link_30_flow', 'reservoir_pressure', 'link_9_flow', 'node_9_pressure', 'link_13_flow', 'node_23_pressure', 'node_25_pressure', 'node_1_demand', 'node_7_demand', 'node_21_demand', 'node_20_pressure', 'node_13_demand', 'link_11_flow', 'node_11_pressure', 'node_26_demand', 'node_15_demand', 'link_19_flow', 'node_17_pressure', 'link_3_flow', 'node_15_pressure', 'node_8_demand', 'node_7_pressure', 'link_14_flow', 'node_28_demand', 'node_10_pressure', 'node_26_pressure', 'link_29_flow', 'link_6_flow', 'link_22_flow', 'node_24_pressure', 'link_31_flow', 'link_26_flow', 'link_8_flow']]\n",
      "starting df shape: (87600, 52)\n",
      "This is training run 8 and has the shape:  (87600, 52)\n",
      "The value of dropped columns is 45\n"
     ]
    },
    {
     "name": "stderr",
     "output_type": "stream",
     "text": [
      "/Users/alexellard/opt/anaconda3/lib/python3.7/site-packages/xgboost/data.py:96: UserWarning: Use subset (sliced data) of np.ndarray is not recommended because it will generate extra copies and increase memory consumption\n",
      "  \"because it will generate extra copies and increase \" +\n"
     ]
    },
    {
     "name": "stdout",
     "output_type": "stream",
     "text": [
      "test y shape : (17520, 1)\n",
      "Inv y shape : (17520, 52)\n",
      "y pred shape : (17520, 1)\n",
      "inv y pred : (17520, 52)\n",
      "Run 8 Mean Absolute Error: 3.4818606293239145\n",
      "RMSE: 4.848\n",
      "R^2: 1.000\n",
      "[['node_7_pressure', 'link_29_flow', 'node_10_pressure', 'link_6_flow', 'node_19_pressure', 'node_28_demand', 'node_3_demand', 'node_21_pressure', 'node_11_demand', 'node_15_demand', 'link_24_flow', 'node_20_demand', 'node_2_pressure', 'node_9_pressure', 'node_6_demand', 'node_13_demand', 'node_18_pressure', 'node_14_demand', 'node_19_demand', 'link_30_flow', 'node_31_demand', 'node_2_demand', 'node_30_pressure', 'link_25_flow', 'node_30_demand', 'link_27_flow', 'node_21_demand', 'node_16_pressure', 'node_15_pressure', 'node_31_pressure', 'node_4_demand', 'node_27_demand', 'link_20_flow', 'node_1_demand', 'node_26_demand', 'node_16_demand', 'node_24_pressure', 'link_15_flow', 'node_14_pressure', 'node_28_pressure', 'node_18_demand', 'link_3_flow', 'link_22_flow', 'node_5_pressure', 'node_12_pressure']]\n",
      "starting df shape: (87600, 51)\n",
      "This is training run 9 and has the shape:  (87600, 51)\n",
      "The value of dropped columns is 45\n"
     ]
    },
    {
     "name": "stderr",
     "output_type": "stream",
     "text": [
      "/Users/alexellard/opt/anaconda3/lib/python3.7/site-packages/xgboost/data.py:96: UserWarning: Use subset (sliced data) of np.ndarray is not recommended because it will generate extra copies and increase memory consumption\n",
      "  \"because it will generate extra copies and increase \" +\n"
     ]
    },
    {
     "name": "stdout",
     "output_type": "stream",
     "text": [
      "test y shape : (17520, 1)\n",
      "Inv y shape : (17520, 51)\n",
      "y pred shape : (17520, 1)\n",
      "inv y pred : (17520, 51)\n",
      "Run 9 Mean Absolute Error: 6.789238676011643\n",
      "RMSE: 9.298\n",
      "R^2: 1.000\n",
      "[['link_26_flow', 'link_30_flow', 'link_9_flow', 'node_20_pressure', 'node_5_demand', 'link_24_flow', 'link_28_flow', 'node_24_pressure', 'node_12_pressure', 'link_6_flow', 'node_28_pressure', 'node_5_pressure', 'link_29_flow', 'link_11_flow', 'node_21_demand', 'node_11_pressure', 'node_3_pressure', 'node_15_demand', 'node_17_demand', 'link_19_flow', 'node_4_pressure', 'node_10_pressure', 'link_21_flow', 'link_18_flow', 'node_31_demand', 'reservoir_demand', 'node_23_demand', 'node_8_demand', 'node_25_pressure', 'node_18_demand', 'node_6_pressure', 'node_23_pressure', 'node_3_demand', 'node_16_pressure', 'node_14_pressure', 'node_21_pressure', 'node_19_demand', 'node_27_pressure', 'node_17_pressure', 'node_13_demand', 'node_7_pressure', 'node_15_pressure', 'link_5_flow', 'node_22_pressure', 'node_9_pressure']]\n",
      "starting df shape: (87600, 51)\n",
      "This is training run 10 and has the shape:  (87600, 51)\n",
      "The value of dropped columns is 45\n"
     ]
    },
    {
     "name": "stderr",
     "output_type": "stream",
     "text": [
      "/Users/alexellard/opt/anaconda3/lib/python3.7/site-packages/xgboost/data.py:96: UserWarning: Use subset (sliced data) of np.ndarray is not recommended because it will generate extra copies and increase memory consumption\n",
      "  \"because it will generate extra copies and increase \" +\n"
     ]
    },
    {
     "name": "stdout",
     "output_type": "stream",
     "text": [
      "test y shape : (17520, 1)\n",
      "Inv y shape : (17520, 51)\n",
      "y pred shape : (17520, 1)\n",
      "inv y pred : (17520, 51)\n",
      "Run 10 Mean Absolute Error: 0.20955455637137263\n",
      "RMSE: 0.292\n",
      "R^2: 1.000\n",
      "[['link_18_flow', 'node_15_pressure', 'node_18_pressure', 'node_25_demand', 'link_13_flow', 'node_21_demand', 'node_13_demand', 'node_4_demand', 'node_6_demand', 'node_12_demand', 'node_24_demand', 'node_2_demand', 'node_23_pressure', 'node_7_pressure', 'node_2_pressure', 'link_24_flow', 'node_17_pressure', 'link_7_flow', 'link_31_flow', 'link_32_flow', 'link_4_flow', 'node_24_pressure', 'node_16_pressure', 'node_14_demand', 'node_5_pressure', 'reservoir_pressure', 'link_19_flow', 'link_20_flow', 'node_16_demand', 'reservoir_demand', 'node_29_demand', 'link_16_flow', 'node_30_demand', 'node_26_demand', 'node_9_demand', 'node_20_pressure', 'node_7_demand', 'link_25_flow', 'node_31_demand', 'node_27_pressure', 'node_1_pressure', 'link_1_flow', 'node_21_pressure', 'link_12_flow', 'node_8_pressure', 'node_19_pressure', 'link_2_flow', 'node_27_demand', 'link_8_flow', 'node_1_demand']]\n",
      "starting df shape: (87600, 46)\n",
      "This is training run 1 and has the shape:  (87600, 46)\n",
      "The value of dropped columns is 50\n"
     ]
    },
    {
     "name": "stderr",
     "output_type": "stream",
     "text": [
      "/Users/alexellard/opt/anaconda3/lib/python3.7/site-packages/xgboost/data.py:96: UserWarning: Use subset (sliced data) of np.ndarray is not recommended because it will generate extra copies and increase memory consumption\n",
      "  \"because it will generate extra copies and increase \" +\n"
     ]
    },
    {
     "name": "stdout",
     "output_type": "stream",
     "text": [
      "test y shape : (17520, 1)\n",
      "Inv y shape : (17520, 46)\n",
      "y pred shape : (17520, 1)\n",
      "inv y pred : (17520, 46)\n",
      "Run 1 Mean Absolute Error: 0.02541801899877705\n",
      "RMSE: 0.036\n",
      "R^2: 1.000\n",
      "[['link_21_flow', 'node_22_demand', 'node_29_demand', 'node_10_pressure', 'node_23_demand', 'node_16_demand', 'link_8_flow', 'node_13_pressure', 'link_15_flow', 'link_9_flow', 'node_14_demand', 'link_12_flow', 'node_1_demand', 'node_10_demand', 'node_19_demand', 'node_30_demand', 'link_16_flow', 'link_32_flow', 'link_3_flow', 'link_11_flow', 'node_22_pressure', 'link_1_flow', 'node_25_demand', 'node_28_demand', 'link_22_flow', 'link_4_flow', 'node_24_demand', 'node_30_pressure', 'link_13_flow', 'link_23_flow', 'link_29_flow', 'node_8_pressure', 'node_18_pressure', 'node_21_pressure', 'link_5_flow', 'node_8_demand', 'link_10_flow', 'node_19_pressure', 'node_2_demand', 'link_18_flow', 'node_24_pressure', 'link_27_flow', 'node_15_pressure', 'node_9_pressure', 'node_16_pressure', 'link_26_flow', 'reservoir_demand', 'node_26_demand', 'node_17_pressure', 'node_7_pressure']]\n",
      "starting df shape: (87600, 46)\n",
      "This is training run 2 and has the shape:  (87600, 46)\n",
      "The value of dropped columns is 50\n"
     ]
    },
    {
     "name": "stderr",
     "output_type": "stream",
     "text": [
      "/Users/alexellard/opt/anaconda3/lib/python3.7/site-packages/xgboost/data.py:96: UserWarning: Use subset (sliced data) of np.ndarray is not recommended because it will generate extra copies and increase memory consumption\n",
      "  \"because it will generate extra copies and increase \" +\n"
     ]
    },
    {
     "name": "stdout",
     "output_type": "stream",
     "text": [
      "test y shape : (17520, 1)\n",
      "Inv y shape : (17520, 46)\n",
      "y pred shape : (17520, 1)\n",
      "inv y pred : (17520, 46)\n",
      "Run 2 Mean Absolute Error: 0.036724711231988866\n",
      "RMSE: 0.052\n",
      "R^2: 1.000\n",
      "[['node_31_demand', 'node_26_demand', 'link_10_flow', 'node_20_demand', 'node_23_demand', 'node_9_pressure', 'link_31_flow', 'node_14_pressure', 'link_24_flow', 'reservoir_demand', 'link_26_flow', 'link_11_flow', 'node_12_pressure', 'node_2_pressure', 'node_4_pressure', 'link_21_flow', 'node_8_pressure', 'node_18_demand', 'node_30_demand', 'link_5_flow', 'link_19_flow', 'node_8_demand', 'node_29_demand', 'node_30_pressure', 'node_21_demand', 'node_16_pressure', 'node_22_pressure', 'link_4_flow', 'node_3_pressure', 'node_10_pressure', 'link_8_flow', 'node_14_demand', 'node_17_pressure', 'link_30_flow', 'link_12_flow', 'node_7_demand', 'node_13_demand', 'node_5_pressure', 'node_19_pressure', 'link_16_flow', 'link_14_flow', 'node_25_pressure', 'link_3_flow', 'node_11_pressure', 'link_22_flow', 'link_20_flow', 'node_16_demand', 'node_4_demand', 'node_27_pressure', 'link_32_flow']]\n",
      "starting df shape: (87600, 46)\n",
      "This is training run 3 and has the shape:  (87600, 46)\n",
      "The value of dropped columns is 50\n"
     ]
    },
    {
     "name": "stderr",
     "output_type": "stream",
     "text": [
      "/Users/alexellard/opt/anaconda3/lib/python3.7/site-packages/xgboost/data.py:96: UserWarning: Use subset (sliced data) of np.ndarray is not recommended because it will generate extra copies and increase memory consumption\n",
      "  \"because it will generate extra copies and increase \" +\n"
     ]
    },
    {
     "name": "stdout",
     "output_type": "stream",
     "text": [
      "test y shape : (17520, 1)\n",
      "Inv y shape : (17520, 46)\n",
      "y pred shape : (17520, 1)\n",
      "inv y pred : (17520, 46)\n",
      "Run 3 Mean Absolute Error: 0.26920249745220953\n",
      "RMSE: 0.375\n",
      "R^2: 1.000\n",
      "[['node_20_demand', 'link_25_flow', 'node_10_demand', 'node_22_demand', 'link_24_flow', 'node_31_pressure', 'node_8_demand', 'link_19_flow', 'link_20_flow', 'node_23_pressure', 'link_10_flow', 'node_9_pressure', 'node_11_demand', 'node_19_demand', 'link_23_flow', 'node_27_demand', 'link_30_flow', 'node_10_pressure', 'node_25_demand', 'node_2_demand', 'node_18_pressure', 'link_7_flow', 'node_28_demand', 'node_25_pressure', 'node_7_demand', 'link_26_flow', 'node_5_demand', 'node_9_demand', 'link_12_flow', 'node_11_pressure', 'node_12_pressure', 'link_11_flow', 'node_24_demand', 'node_7_pressure', 'link_15_flow', 'link_28_flow', 'link_3_flow', 'node_20_pressure', 'node_3_demand', 'node_17_demand', 'link_18_flow', 'link_22_flow', 'node_24_pressure', 'node_16_demand', 'node_12_demand', 'link_17_flow', 'node_15_pressure', 'node_29_demand', 'node_4_pressure']]\n",
      "starting df shape: (87600, 47)\n",
      "This is training run 4 and has the shape:  (87600, 47)\n",
      "The value of dropped columns is 50\n"
     ]
    },
    {
     "name": "stderr",
     "output_type": "stream",
     "text": [
      "/Users/alexellard/opt/anaconda3/lib/python3.7/site-packages/xgboost/data.py:96: UserWarning: Use subset (sliced data) of np.ndarray is not recommended because it will generate extra copies and increase memory consumption\n",
      "  \"because it will generate extra copies and increase \" +\n"
     ]
    },
    {
     "name": "stdout",
     "output_type": "stream",
     "text": [
      "test y shape : (17520, 1)\n",
      "Inv y shape : (17520, 47)\n",
      "y pred shape : (17520, 1)\n",
      "inv y pred : (17520, 47)\n",
      "Run 4 Mean Absolute Error: 3.072803973177216\n",
      "RMSE: 4.462\n",
      "R^2: 1.000\n",
      "[['node_18_pressure', 'link_9_flow', 'node_4_demand', 'link_13_flow', 'node_15_demand', 'node_25_demand', 'link_14_flow', 'link_5_flow', 'link_4_flow', 'node_3_pressure', 'link_2_flow', 'node_15_pressure', 'node_25_pressure', 'node_8_pressure', 'link_1_flow', 'node_9_demand', 'link_31_flow', 'node_24_demand', 'node_12_demand', 'node_21_pressure', 'node_4_pressure', 'node_28_pressure', 'link_32_flow', 'node_14_demand', 'node_22_demand', 'node_6_pressure', 'link_16_flow', 'node_27_demand', 'node_12_pressure', 'link_21_flow', 'link_15_flow', 'link_7_flow', 'node_16_demand', 'link_26_flow', 'node_28_demand', 'node_20_demand', 'link_18_flow', 'link_27_flow', 'node_24_pressure', 'node_13_demand', 'node_30_demand', 'link_3_flow', 'node_11_pressure', 'node_16_pressure', 'node_22_pressure', 'node_1_pressure', 'link_19_flow', 'node_31_pressure', 'node_5_pressure']]\n",
      "starting df shape: (87600, 47)\n",
      "This is training run 5 and has the shape:  (87600, 47)\n",
      "The value of dropped columns is 50\n"
     ]
    },
    {
     "name": "stderr",
     "output_type": "stream",
     "text": [
      "/Users/alexellard/opt/anaconda3/lib/python3.7/site-packages/xgboost/data.py:96: UserWarning: Use subset (sliced data) of np.ndarray is not recommended because it will generate extra copies and increase memory consumption\n",
      "  \"because it will generate extra copies and increase \" +\n"
     ]
    },
    {
     "name": "stdout",
     "output_type": "stream",
     "text": [
      "test y shape : (17520, 1)\n",
      "Inv y shape : (17520, 47)\n",
      "y pred shape : (17520, 1)\n",
      "inv y pred : (17520, 47)\n",
      "Run 5 Mean Absolute Error: 4.173318758705591\n",
      "RMSE: 5.699\n",
      "R^2: 1.000\n",
      "[['node_10_pressure', 'link_4_flow', 'reservoir_demand', 'node_20_pressure', 'node_28_pressure', 'node_26_demand', 'node_27_demand', 'link_20_flow', 'node_3_pressure', 'node_13_demand', 'link_26_flow', 'link_19_flow', 'node_9_pressure', 'node_8_pressure', 'node_2_pressure', 'node_31_pressure', 'node_18_pressure', 'node_6_demand', 'link_25_flow', 'node_4_pressure', 'node_26_pressure', 'node_3_demand', 'link_29_flow', 'link_28_flow', 'node_7_demand', 'link_5_flow', 'node_14_demand', 'node_12_demand', 'node_28_demand', 'node_22_demand', 'node_23_pressure', 'node_16_demand', 'node_31_demand', 'node_21_pressure', 'node_5_demand', 'node_19_pressure', 'node_17_demand', 'node_4_demand', 'node_15_demand', 'link_13_flow', 'node_15_pressure', 'node_2_demand', 'link_3_flow', 'link_8_flow', 'node_24_demand', 'node_24_pressure', 'node_1_demand', 'link_23_flow', 'link_2_flow']]\n",
      "starting df shape: (87600, 47)\n",
      "This is training run 6 and has the shape:  (87600, 47)\n",
      "The value of dropped columns is 50\n"
     ]
    },
    {
     "name": "stderr",
     "output_type": "stream",
     "text": [
      "/Users/alexellard/opt/anaconda3/lib/python3.7/site-packages/xgboost/data.py:96: UserWarning: Use subset (sliced data) of np.ndarray is not recommended because it will generate extra copies and increase memory consumption\n",
      "  \"because it will generate extra copies and increase \" +\n"
     ]
    },
    {
     "name": "stdout",
     "output_type": "stream",
     "text": [
      "test y shape : (17520, 1)\n",
      "Inv y shape : (17520, 47)\n",
      "y pred shape : (17520, 1)\n",
      "inv y pred : (17520, 47)\n",
      "Run 6 Mean Absolute Error: 0.12083268547378213\n",
      "RMSE: 0.168\n",
      "R^2: 1.000\n",
      "[['node_19_demand', 'link_13_flow', 'node_29_demand', 'node_3_demand', 'node_8_pressure', 'link_22_flow', 'node_22_demand', 'link_4_flow', 'link_25_flow', 'node_12_pressure', 'node_2_demand', 'node_9_pressure', 'link_2_flow', 'node_7_pressure', 'link_29_flow', 'node_5_pressure', 'node_31_demand', 'link_14_flow', 'node_11_pressure', 'node_16_demand', 'link_21_flow', 'link_6_flow', 'node_18_pressure', 'link_23_flow', 'node_27_demand', 'node_6_pressure', 'link_5_flow', 'node_17_demand', 'node_26_pressure', 'node_20_pressure', 'node_19_pressure', 'node_30_demand', 'node_4_pressure', 'node_25_pressure', 'node_4_demand', 'link_31_flow', 'node_1_pressure', 'node_21_demand', 'node_26_demand', 'node_10_pressure', 'link_12_flow', 'node_13_demand', 'node_14_pressure', 'link_10_flow', 'link_15_flow', 'node_10_demand', 'link_3_flow', 'node_16_pressure', 'node_11_demand', 'link_30_flow']]\n",
      "starting df shape: (87600, 46)\n",
      "This is training run 7 and has the shape:  (87600, 46)\n",
      "The value of dropped columns is 50\n"
     ]
    },
    {
     "name": "stderr",
     "output_type": "stream",
     "text": [
      "/Users/alexellard/opt/anaconda3/lib/python3.7/site-packages/xgboost/data.py:96: UserWarning: Use subset (sliced data) of np.ndarray is not recommended because it will generate extra copies and increase memory consumption\n",
      "  \"because it will generate extra copies and increase \" +\n"
     ]
    },
    {
     "name": "stdout",
     "output_type": "stream",
     "text": [
      "test y shape : (17520, 1)\n",
      "Inv y shape : (17520, 46)\n",
      "y pred shape : (17520, 1)\n",
      "inv y pred : (17520, 46)\n",
      "Run 7 Mean Absolute Error: 3.0761771906504314\n",
      "RMSE: 4.320\n",
      "R^2: 1.000\n",
      "[['link_3_flow', 'node_5_demand', 'node_7_pressure', 'link_14_flow', 'link_11_flow', 'node_20_pressure', 'node_14_demand', 'node_13_pressure', 'node_9_demand', 'link_18_flow', 'node_20_demand', 'link_7_flow', 'node_23_demand', 'link_10_flow', 'link_1_flow', 'link_24_flow', 'link_22_flow', 'node_11_pressure', 'node_22_pressure', 'node_3_demand', 'link_19_flow', 'node_16_demand', 'link_29_flow', 'node_17_pressure', 'node_15_pressure', 'link_26_flow', 'link_25_flow', 'link_6_flow', 'link_12_flow', 'link_28_flow', 'link_9_flow', 'link_4_flow', 'node_23_pressure', 'node_26_pressure', 'node_2_pressure', 'link_21_flow', 'link_13_flow', 'node_17_demand', 'node_25_demand', 'node_31_demand', 'reservoir_demand', 'node_28_demand', 'node_1_demand', 'link_2_flow', 'node_13_demand', 'node_18_demand', 'node_12_pressure', 'node_21_pressure', 'node_21_demand']]\n",
      "starting df shape: (87600, 47)\n",
      "This is training run 8 and has the shape:  (87600, 47)\n",
      "The value of dropped columns is 50\n"
     ]
    },
    {
     "name": "stderr",
     "output_type": "stream",
     "text": [
      "/Users/alexellard/opt/anaconda3/lib/python3.7/site-packages/xgboost/data.py:96: UserWarning: Use subset (sliced data) of np.ndarray is not recommended because it will generate extra copies and increase memory consumption\n",
      "  \"because it will generate extra copies and increase \" +\n"
     ]
    },
    {
     "name": "stdout",
     "output_type": "stream",
     "text": [
      "test y shape : (17520, 1)\n",
      "Inv y shape : (17520, 47)\n",
      "y pred shape : (17520, 1)\n",
      "inv y pred : (17520, 47)\n",
      "Run 8 Mean Absolute Error: 0.1711803368452064\n",
      "RMSE: 0.240\n",
      "R^2: 1.000\n",
      "[['link_8_flow', 'node_16_demand', 'node_22_demand', 'node_25_demand', 'node_5_demand', 'link_12_flow', 'node_14_pressure', 'node_20_demand', 'node_31_demand', 'link_3_flow', 'link_27_flow', 'node_4_pressure', 'node_19_pressure', 'link_29_flow', 'node_2_pressure', 'node_9_demand', 'node_24_demand', 'node_6_demand', 'reservoir_pressure', 'node_1_demand', 'link_2_flow', 'link_1_flow', 'node_2_demand', 'node_30_demand', 'node_21_pressure', 'node_10_demand', 'node_18_demand', 'node_18_pressure', 'node_20_pressure', 'link_19_flow', 'node_17_pressure', 'node_13_demand', 'node_7_pressure', 'link_4_flow', 'node_15_demand', 'link_25_flow', 'node_14_demand', 'link_16_flow', 'node_26_demand', 'node_19_demand', 'node_8_demand', 'node_23_demand', 'node_11_pressure', 'node_12_demand', 'link_13_flow', 'node_3_pressure', 'node_7_demand', 'node_1_pressure', 'node_27_demand']]\n",
      "starting df shape: (87600, 47)\n",
      "This is training run 9 and has the shape:  (87600, 47)\n",
      "The value of dropped columns is 50\n"
     ]
    },
    {
     "name": "stderr",
     "output_type": "stream",
     "text": [
      "/Users/alexellard/opt/anaconda3/lib/python3.7/site-packages/xgboost/data.py:96: UserWarning: Use subset (sliced data) of np.ndarray is not recommended because it will generate extra copies and increase memory consumption\n",
      "  \"because it will generate extra copies and increase \" +\n"
     ]
    },
    {
     "name": "stdout",
     "output_type": "stream",
     "text": [
      "test y shape : (17520, 1)\n",
      "Inv y shape : (17520, 47)\n",
      "y pred shape : (17520, 1)\n",
      "inv y pred : (17520, 47)\n",
      "Run 9 Mean Absolute Error: 3.1687341451543793\n",
      "RMSE: 4.416\n",
      "R^2: 1.000\n",
      "[['link_12_flow', 'node_1_demand', 'node_11_pressure', 'reservoir_pressure', 'node_12_demand', 'link_23_flow', 'node_9_pressure', 'node_8_demand', 'node_16_pressure', 'node_16_demand', 'node_26_pressure', 'node_5_demand', 'node_18_pressure', 'node_20_demand', 'link_4_flow', 'link_6_flow', 'node_2_demand', 'node_28_demand', 'node_15_demand', 'link_15_flow', 'link_29_flow', 'node_10_pressure', 'link_10_flow', 'node_4_pressure', 'reservoir_demand', 'link_25_flow', 'node_10_demand', 'node_14_pressure', 'node_24_pressure', 'node_14_demand', 'link_17_flow', 'link_11_flow', 'node_11_demand', 'node_1_pressure', 'link_30_flow', 'node_31_pressure', 'link_5_flow', 'node_17_pressure', 'link_2_flow', 'link_3_flow', 'node_22_demand', 'link_13_flow', 'node_3_demand', 'node_29_demand', 'node_25_demand', 'link_20_flow', 'node_19_demand', 'node_21_demand', 'link_1_flow']]\n",
      "starting df shape: (87600, 47)\n",
      "This is training run 10 and has the shape:  (87600, 47)\n",
      "The value of dropped columns is 50\n"
     ]
    },
    {
     "name": "stderr",
     "output_type": "stream",
     "text": [
      "/Users/alexellard/opt/anaconda3/lib/python3.7/site-packages/xgboost/data.py:96: UserWarning: Use subset (sliced data) of np.ndarray is not recommended because it will generate extra copies and increase memory consumption\n",
      "  \"because it will generate extra copies and increase \" +\n"
     ]
    },
    {
     "name": "stdout",
     "output_type": "stream",
     "text": [
      "test y shape : (17520, 1)\n",
      "Inv y shape : (17520, 47)\n",
      "y pred shape : (17520, 1)\n",
      "inv y pred : (17520, 47)\n",
      "Run 10 Mean Absolute Error: 0.1390519248234576\n",
      "RMSE: 0.201\n",
      "R^2: 1.000\n",
      "[['link_23_flow', 'node_8_demand', 'node_26_pressure', 'node_22_pressure', 'node_21_demand', 'link_11_flow', 'node_6_demand', 'link_21_flow', 'node_30_pressure', 'node_31_pressure', 'link_4_flow', 'node_6_pressure', 'node_3_pressure', 'node_18_pressure', 'node_19_demand', 'link_20_flow', 'node_12_demand', 'node_9_demand', 'link_29_flow', 'node_4_pressure', 'link_18_flow', 'link_7_flow', 'node_11_demand', 'link_14_flow', 'node_3_demand', 'node_19_pressure', 'link_22_flow', 'node_21_pressure', 'node_23_demand', 'node_27_demand', 'node_28_pressure', 'node_11_pressure', 'link_17_flow', 'link_24_flow', 'link_27_flow', 'node_16_demand', 'link_28_flow', 'node_22_demand', 'node_31_demand', 'link_15_flow', 'node_10_pressure', 'node_23_pressure', 'link_9_flow', 'node_18_demand', 'node_5_pressure', 'node_27_pressure', 'node_20_pressure', 'node_9_pressure', 'node_20_demand', 'link_19_flow', 'link_13_flow', 'node_17_pressure', 'node_7_demand', 'node_4_demand', 'link_12_flow']]\n",
      "starting df shape: (87600, 41)\n",
      "This is training run 1 and has the shape:  (87600, 41)\n",
      "The value of dropped columns is 55\n"
     ]
    },
    {
     "name": "stderr",
     "output_type": "stream",
     "text": [
      "/Users/alexellard/opt/anaconda3/lib/python3.7/site-packages/xgboost/data.py:96: UserWarning: Use subset (sliced data) of np.ndarray is not recommended because it will generate extra copies and increase memory consumption\n",
      "  \"because it will generate extra copies and increase \" +\n"
     ]
    },
    {
     "name": "stdout",
     "output_type": "stream",
     "text": [
      "test y shape : (17520, 1)\n",
      "Inv y shape : (17520, 41)\n",
      "y pred shape : (17520, 1)\n",
      "inv y pred : (17520, 41)\n",
      "Run 1 Mean Absolute Error: 7.316883041754028\n",
      "RMSE: 9.750\n",
      "R^2: 1.000\n",
      "[['node_6_demand', 'node_18_pressure', 'node_20_demand', 'node_19_demand', 'node_27_demand', 'node_7_pressure', 'link_2_flow', 'node_25_demand', 'node_2_pressure', 'link_10_flow', 'reservoir_pressure', 'node_21_pressure', 'link_23_flow', 'node_6_pressure', 'node_15_pressure', 'node_14_demand', 'node_26_demand', 'node_30_pressure', 'node_8_demand', 'link_9_flow', 'node_16_pressure', 'node_2_demand', 'node_20_pressure', 'node_21_demand', 'node_23_demand', 'node_24_pressure', 'link_27_flow', 'node_24_demand', 'node_22_demand', 'link_13_flow', 'link_7_flow', 'node_18_demand', 'link_16_flow', 'link_1_flow', 'node_14_pressure', 'link_18_flow', 'node_3_demand', 'node_16_demand', 'node_26_pressure', 'node_17_pressure', 'link_19_flow', 'node_13_pressure', 'node_27_pressure', 'node_4_demand', 'node_7_demand', 'link_6_flow', 'node_4_pressure', 'node_9_demand', 'link_5_flow', 'node_5_demand', 'link_20_flow', 'node_29_demand', 'node_1_pressure', 'link_24_flow']]\n",
      "starting df shape: (87600, 42)\n",
      "This is training run 2 and has the shape:  (87600, 42)\n",
      "The value of dropped columns is 55\n"
     ]
    },
    {
     "name": "stderr",
     "output_type": "stream",
     "text": [
      "/Users/alexellard/opt/anaconda3/lib/python3.7/site-packages/xgboost/data.py:96: UserWarning: Use subset (sliced data) of np.ndarray is not recommended because it will generate extra copies and increase memory consumption\n",
      "  \"because it will generate extra copies and increase \" +\n"
     ]
    },
    {
     "name": "stdout",
     "output_type": "stream",
     "text": [
      "test y shape : (17520, 1)\n",
      "Inv y shape : (17520, 42)\n",
      "y pred shape : (17520, 1)\n",
      "inv y pred : (17520, 42)\n",
      "Run 2 Mean Absolute Error: 3.9234139180013505\n",
      "RMSE: 5.670\n",
      "R^2: 1.000\n",
      "[['node_6_pressure', 'link_30_flow', 'node_10_demand', 'node_12_demand', 'node_21_pressure', 'node_15_pressure', 'link_15_flow', 'node_23_demand', 'link_22_flow', 'node_7_pressure', 'link_3_flow', 'link_19_flow', 'node_13_pressure', 'node_26_demand', 'link_7_flow', 'link_12_flow', 'link_14_flow', 'node_30_demand', 'node_19_pressure', 'node_30_pressure', 'node_18_pressure', 'node_19_demand', 'node_22_pressure', 'node_16_pressure', 'node_11_demand', 'node_28_demand', 'node_12_pressure', 'node_10_pressure', 'link_32_flow', 'node_5_pressure', 'node_29_demand', 'node_22_demand', 'node_25_pressure', 'node_11_pressure', 'link_17_flow', 'link_8_flow', 'node_5_demand', 'node_21_demand', 'link_18_flow', 'node_28_pressure', 'link_20_flow', 'link_4_flow', 'node_18_demand', 'link_6_flow', 'node_20_demand', 'link_29_flow', 'node_3_demand', 'link_9_flow', 'node_8_pressure', 'node_31_pressure', 'node_2_pressure', 'node_20_pressure', 'link_28_flow', 'node_17_pressure']]\n",
      "starting df shape: (87600, 42)\n",
      "This is training run 3 and has the shape:  (87600, 42)\n",
      "The value of dropped columns is 55\n"
     ]
    },
    {
     "name": "stderr",
     "output_type": "stream",
     "text": [
      "/Users/alexellard/opt/anaconda3/lib/python3.7/site-packages/xgboost/data.py:96: UserWarning: Use subset (sliced data) of np.ndarray is not recommended because it will generate extra copies and increase memory consumption\n",
      "  \"because it will generate extra copies and increase \" +\n"
     ]
    },
    {
     "name": "stdout",
     "output_type": "stream",
     "text": [
      "test y shape : (17520, 1)\n",
      "Inv y shape : (17520, 42)\n",
      "y pred shape : (17520, 1)\n",
      "inv y pred : (17520, 42)\n",
      "Run 3 Mean Absolute Error: 7.340723837525205\n",
      "RMSE: 9.949\n",
      "R^2: 1.000\n",
      "[['node_21_demand', 'node_25_pressure', 'link_5_flow', 'link_12_flow', 'node_5_pressure', 'node_11_pressure', 'link_18_flow', 'node_17_demand', 'node_24_demand', 'node_23_pressure', 'link_32_flow', 'link_16_flow', 'node_12_pressure', 'link_24_flow', 'node_19_pressure', 'node_31_pressure', 'node_7_pressure', 'node_3_demand', 'link_27_flow', 'node_30_pressure', 'node_18_demand', 'node_6_demand', 'node_16_demand', 'node_28_demand', 'node_29_demand', 'node_24_pressure', 'link_1_flow', 'link_10_flow', 'link_22_flow', 'link_6_flow', 'node_22_pressure', 'link_23_flow', 'node_16_pressure', 'node_5_demand', 'link_19_flow', 'link_3_flow', 'node_8_pressure', 'link_14_flow', 'link_30_flow', 'link_4_flow', 'node_3_pressure', 'node_19_demand', 'link_2_flow', 'node_8_demand', 'node_26_demand', 'node_9_demand', 'node_7_demand', 'node_22_demand', 'node_20_pressure', 'link_25_flow', 'node_21_pressure', 'node_13_pressure', 'link_28_flow', 'node_15_pressure']]\n",
      "starting df shape: (87600, 42)\n",
      "This is training run 4 and has the shape:  (87600, 42)\n",
      "The value of dropped columns is 55\n"
     ]
    },
    {
     "name": "stderr",
     "output_type": "stream",
     "text": [
      "/Users/alexellard/opt/anaconda3/lib/python3.7/site-packages/xgboost/data.py:96: UserWarning: Use subset (sliced data) of np.ndarray is not recommended because it will generate extra copies and increase memory consumption\n",
      "  \"because it will generate extra copies and increase \" +\n"
     ]
    },
    {
     "name": "stdout",
     "output_type": "stream",
     "text": [
      "test y shape : (17520, 1)\n",
      "Inv y shape : (17520, 42)\n",
      "y pred shape : (17520, 1)\n",
      "inv y pred : (17520, 42)\n",
      "Run 4 Mean Absolute Error: 5.5447523051054715\n",
      "RMSE: 8.043\n",
      "R^2: 1.000\n",
      "[['link_26_flow', 'node_3_demand', 'node_25_pressure', 'link_2_flow', 'node_5_demand', 'node_21_pressure', 'node_9_demand', 'node_15_pressure', 'node_24_pressure', 'node_30_demand', 'node_20_pressure', 'link_13_flow', 'node_18_pressure', 'link_7_flow', 'node_8_demand', 'node_15_demand', 'node_29_demand', 'node_23_demand', 'link_17_flow', 'reservoir_pressure', 'node_22_pressure', 'link_18_flow', 'node_27_pressure', 'link_9_flow', 'node_31_demand', 'node_5_pressure', 'node_16_demand', 'link_31_flow', 'link_20_flow', 'link_6_flow', 'node_31_pressure', 'node_26_demand', 'node_12_pressure', 'link_3_flow', 'node_25_demand', 'link_16_flow', 'node_22_demand', 'node_13_demand', 'node_7_demand', 'node_30_pressure', 'link_14_flow', 'node_14_pressure', 'link_1_flow', 'node_10_demand', 'node_28_demand', 'link_28_flow', 'node_16_pressure', 'node_1_demand', 'node_18_demand', 'node_19_pressure', 'link_10_flow', 'node_13_pressure', 'link_25_flow', 'node_10_pressure']]\n",
      "starting df shape: (87600, 42)\n",
      "This is training run 5 and has the shape:  (87600, 42)\n",
      "The value of dropped columns is 55\n"
     ]
    },
    {
     "name": "stderr",
     "output_type": "stream",
     "text": [
      "/Users/alexellard/opt/anaconda3/lib/python3.7/site-packages/xgboost/data.py:96: UserWarning: Use subset (sliced data) of np.ndarray is not recommended because it will generate extra copies and increase memory consumption\n",
      "  \"because it will generate extra copies and increase \" +\n"
     ]
    },
    {
     "name": "stdout",
     "output_type": "stream",
     "text": [
      "test y shape : (17520, 1)\n",
      "Inv y shape : (17520, 42)\n",
      "y pred shape : (17520, 1)\n",
      "inv y pred : (17520, 42)\n",
      "Run 5 Mean Absolute Error: 6.4756068169049765\n",
      "RMSE: 9.031\n",
      "R^2: 1.000\n",
      "[['link_28_flow', 'reservoir_pressure', 'node_24_demand', 'node_3_pressure', 'node_6_pressure', 'link_13_flow', 'node_25_demand', 'link_17_flow', 'link_11_flow', 'link_12_flow', 'link_24_flow', 'link_27_flow', 'node_31_pressure', 'node_22_demand', 'node_6_demand', 'node_17_demand', 'node_22_pressure', 'node_17_pressure', 'link_19_flow', 'node_5_pressure', 'node_9_demand', 'link_30_flow', 'node_19_pressure', 'node_9_pressure', 'node_3_demand', 'node_2_pressure', 'node_1_demand', 'node_19_demand', 'node_25_pressure', 'node_10_demand', 'link_1_flow', 'node_4_demand', 'node_12_pressure', 'node_30_demand', 'node_31_demand', 'link_25_flow', 'node_7_pressure', 'reservoir_demand', 'link_7_flow', 'node_11_demand', 'link_22_flow', 'node_24_pressure', 'node_27_demand', 'link_8_flow', 'node_13_pressure', 'link_10_flow', 'node_21_pressure', 'link_16_flow', 'node_12_demand', 'link_29_flow', 'node_5_demand', 'node_23_demand', 'node_29_demand', 'node_15_demand']]\n",
      "starting df shape: (87600, 42)\n",
      "This is training run 6 and has the shape:  (87600, 42)\n",
      "The value of dropped columns is 55\n"
     ]
    },
    {
     "name": "stderr",
     "output_type": "stream",
     "text": [
      "/Users/alexellard/opt/anaconda3/lib/python3.7/site-packages/xgboost/data.py:96: UserWarning: Use subset (sliced data) of np.ndarray is not recommended because it will generate extra copies and increase memory consumption\n",
      "  \"because it will generate extra copies and increase \" +\n"
     ]
    },
    {
     "name": "stdout",
     "output_type": "stream",
     "text": [
      "test y shape : (17520, 1)\n",
      "Inv y shape : (17520, 42)\n",
      "y pred shape : (17520, 1)\n",
      "inv y pred : (17520, 42)\n",
      "Run 6 Mean Absolute Error: 0.2431832652298089\n",
      "RMSE: 0.345\n",
      "R^2: 1.000\n",
      "[['node_20_pressure', 'node_28_pressure', 'link_9_flow', 'node_6_pressure', 'node_27_pressure', 'node_8_demand', 'link_12_flow', 'node_24_pressure', 'node_11_demand', 'node_31_demand', 'link_25_flow', 'link_3_flow', 'node_26_demand', 'link_8_flow', 'node_19_demand', 'node_7_pressure', 'link_23_flow', 'node_2_pressure', 'node_16_demand', 'node_27_demand', 'node_26_pressure', 'node_19_pressure', 'link_14_flow', 'node_5_pressure', 'node_14_demand', 'node_9_demand', 'node_15_pressure', 'reservoir_pressure', 'link_30_flow', 'node_3_demand', 'link_13_flow', 'link_19_flow', 'link_22_flow', 'link_11_flow', 'node_4_demand', 'node_7_demand', 'link_4_flow', 'reservoir_demand', 'link_10_flow', 'node_15_demand', 'link_31_flow', 'node_3_pressure', 'node_22_demand', 'node_1_pressure', 'node_23_demand', 'link_1_flow', 'node_31_pressure', 'link_5_flow', 'node_1_demand', 'node_30_pressure', 'node_8_pressure', 'link_7_flow', 'link_15_flow', 'node_5_demand']]\n",
      "starting df shape: (87600, 42)\n",
      "This is training run 7 and has the shape:  (87600, 42)\n",
      "The value of dropped columns is 55\n"
     ]
    },
    {
     "name": "stderr",
     "output_type": "stream",
     "text": [
      "/Users/alexellard/opt/anaconda3/lib/python3.7/site-packages/xgboost/data.py:96: UserWarning: Use subset (sliced data) of np.ndarray is not recommended because it will generate extra copies and increase memory consumption\n",
      "  \"because it will generate extra copies and increase \" +\n"
     ]
    },
    {
     "name": "stdout",
     "output_type": "stream",
     "text": [
      "test y shape : (17520, 1)\n",
      "Inv y shape : (17520, 42)\n",
      "y pred shape : (17520, 1)\n",
      "inv y pred : (17520, 42)\n",
      "Run 7 Mean Absolute Error: 0.40192193790862796\n",
      "RMSE: 0.544\n",
      "R^2: 1.000\n",
      "[['node_26_demand', 'node_21_pressure', 'node_17_pressure', 'node_3_pressure', 'node_26_pressure', 'link_26_flow', 'node_3_demand', 'link_1_flow', 'link_23_flow', 'node_12_pressure', 'node_18_pressure', 'link_15_flow', 'link_14_flow', 'link_13_flow', 'node_22_pressure', 'node_15_demand', 'link_20_flow', 'link_3_flow', 'link_11_flow', 'node_27_pressure', 'link_21_flow', 'link_9_flow', 'node_19_demand', 'link_12_flow', 'node_1_pressure', 'node_4_demand', 'node_20_pressure', 'link_17_flow', 'node_24_demand', 'node_29_demand', 'link_6_flow', 'node_4_pressure', 'node_31_demand', 'node_21_demand', 'node_5_demand', 'node_6_demand', 'link_18_flow', 'node_20_demand', 'link_22_flow', 'link_16_flow', 'node_12_demand', 'link_27_flow', 'node_28_pressure', 'link_10_flow', 'reservoir_demand', 'node_30_demand', 'link_4_flow', 'node_14_pressure', 'node_5_pressure', 'link_25_flow', 'link_2_flow', 'node_14_demand', 'link_32_flow', 'node_2_demand', 'node_18_demand']]\n",
      "starting df shape: (87600, 41)\n",
      "This is training run 8 and has the shape:  (87600, 41)\n",
      "The value of dropped columns is 55\n"
     ]
    },
    {
     "name": "stderr",
     "output_type": "stream",
     "text": [
      "/Users/alexellard/opt/anaconda3/lib/python3.7/site-packages/xgboost/data.py:96: UserWarning: Use subset (sliced data) of np.ndarray is not recommended because it will generate extra copies and increase memory consumption\n",
      "  \"because it will generate extra copies and increase \" +\n"
     ]
    },
    {
     "name": "stdout",
     "output_type": "stream",
     "text": [
      "test y shape : (17520, 1)\n",
      "Inv y shape : (17520, 41)\n",
      "y pred shape : (17520, 1)\n",
      "inv y pred : (17520, 41)\n",
      "Run 8 Mean Absolute Error: 0.20923669212104795\n",
      "RMSE: 0.290\n",
      "R^2: 1.000\n",
      "[['node_13_pressure', 'link_11_flow', 'link_15_flow', 'node_6_pressure', 'node_3_pressure', 'node_3_demand', 'link_30_flow', 'node_23_demand', 'link_31_flow', 'node_28_pressure', 'link_4_flow', 'node_5_pressure', 'node_1_demand', 'node_17_demand', 'link_29_flow', 'node_2_pressure', 'link_21_flow', 'node_4_pressure', 'link_3_flow', 'node_26_pressure', 'node_24_demand', 'node_30_demand', 'node_15_demand', 'node_20_pressure', 'node_22_pressure', 'link_9_flow', 'node_21_demand', 'link_24_flow', 'link_13_flow', 'node_22_demand', 'link_17_flow', 'node_30_pressure', 'reservoir_demand', 'node_19_demand', 'node_27_pressure', 'node_2_demand', 'link_25_flow', 'link_16_flow', 'node_4_demand', 'node_12_pressure', 'node_25_demand', 'node_27_demand', 'node_31_pressure', 'reservoir_pressure', 'link_14_flow', 'node_9_pressure', 'link_27_flow', 'link_23_flow', 'node_19_pressure', 'link_28_flow', 'link_10_flow', 'node_18_demand', 'node_7_demand', 'node_1_pressure', 'link_7_flow']]\n",
      "starting df shape: (87600, 41)\n",
      "This is training run 9 and has the shape:  (87600, 41)\n",
      "The value of dropped columns is 55\n"
     ]
    },
    {
     "name": "stderr",
     "output_type": "stream",
     "text": [
      "/Users/alexellard/opt/anaconda3/lib/python3.7/site-packages/xgboost/data.py:96: UserWarning: Use subset (sliced data) of np.ndarray is not recommended because it will generate extra copies and increase memory consumption\n",
      "  \"because it will generate extra copies and increase \" +\n"
     ]
    },
    {
     "name": "stdout",
     "output_type": "stream",
     "text": [
      "test y shape : (17520, 1)\n",
      "Inv y shape : (17520, 41)\n",
      "y pred shape : (17520, 1)\n",
      "inv y pred : (17520, 41)\n",
      "Run 9 Mean Absolute Error: 0.4726214580769484\n",
      "RMSE: 0.627\n",
      "R^2: 1.000\n",
      "[['node_5_pressure', 'node_14_pressure', 'node_19_demand', 'link_3_flow', 'link_5_flow', 'node_22_pressure', 'node_30_pressure', 'node_22_demand', 'node_21_pressure', 'node_1_pressure', 'node_24_demand', 'node_13_pressure', 'node_16_demand', 'node_10_pressure', 'link_25_flow', 'node_2_pressure', 'link_16_flow', 'reservoir_demand', 'node_25_pressure', 'node_18_pressure', 'link_30_flow', 'node_29_demand', 'link_22_flow', 'link_24_flow', 'node_12_pressure', 'node_17_pressure', 'link_29_flow', 'link_8_flow', 'node_8_demand', 'link_2_flow', 'link_11_flow', 'link_6_flow', 'node_19_pressure', 'link_7_flow', 'node_7_pressure', 'node_15_demand', 'link_18_flow', 'link_15_flow', 'link_4_flow', 'link_28_flow', 'node_6_pressure', 'node_20_pressure', 'node_3_demand', 'node_24_pressure', 'link_12_flow', 'link_14_flow', 'reservoir_pressure', 'node_3_pressure', 'node_26_pressure', 'node_21_demand', 'node_28_pressure', 'node_31_pressure', 'node_31_demand', 'node_8_pressure', 'node_1_demand']]\n",
      "starting df shape: (87600, 41)\n",
      "This is training run 10 and has the shape:  (87600, 41)\n",
      "The value of dropped columns is 55\n"
     ]
    },
    {
     "name": "stderr",
     "output_type": "stream",
     "text": [
      "/Users/alexellard/opt/anaconda3/lib/python3.7/site-packages/xgboost/data.py:96: UserWarning: Use subset (sliced data) of np.ndarray is not recommended because it will generate extra copies and increase memory consumption\n",
      "  \"because it will generate extra copies and increase \" +\n"
     ]
    },
    {
     "name": "stdout",
     "output_type": "stream",
     "text": [
      "test y shape : (17520, 1)\n",
      "Inv y shape : (17520, 41)\n",
      "y pred shape : (17520, 1)\n",
      "inv y pred : (17520, 41)\n",
      "Run 10 Mean Absolute Error: 0.40613448686798703\n",
      "RMSE: 0.550\n",
      "R^2: 1.000\n",
      "[['node_10_demand', 'node_14_pressure', 'link_18_flow', 'link_19_flow', 'node_14_demand', 'node_31_pressure', 'node_12_demand', 'node_23_demand', 'node_9_pressure', 'link_29_flow', 'node_31_demand', 'node_30_pressure', 'node_12_pressure', 'reservoir_pressure', 'node_5_demand', 'node_28_pressure', 'link_1_flow', 'node_11_pressure', 'node_8_pressure', 'node_10_pressure', 'link_12_flow', 'link_25_flow', 'node_19_demand', 'link_23_flow', 'node_4_demand', 'node_21_demand', 'link_3_flow', 'link_8_flow', 'node_20_pressure', 'node_15_pressure', 'node_23_pressure', 'node_27_pressure', 'node_25_pressure', 'node_24_pressure', 'node_7_pressure', 'node_13_demand', 'link_21_flow', 'link_13_flow', 'node_1_demand', 'link_7_flow', 'link_17_flow', 'node_2_pressure', 'link_11_flow', 'link_30_flow', 'node_19_pressure', 'node_26_pressure', 'node_17_demand', 'node_2_demand', 'link_2_flow', 'node_6_pressure', 'link_6_flow', 'node_22_demand', 'node_16_pressure', 'node_28_demand', 'link_4_flow', 'node_24_demand', 'node_16_demand', 'link_28_flow', 'node_1_pressure', 'node_11_demand']]\n",
      "starting df shape: (87600, 36)\n",
      "This is training run 1 and has the shape:  (87600, 36)\n",
      "The value of dropped columns is 60\n"
     ]
    },
    {
     "name": "stderr",
     "output_type": "stream",
     "text": [
      "/Users/alexellard/opt/anaconda3/lib/python3.7/site-packages/xgboost/data.py:96: UserWarning: Use subset (sliced data) of np.ndarray is not recommended because it will generate extra copies and increase memory consumption\n",
      "  \"because it will generate extra copies and increase \" +\n"
     ]
    },
    {
     "name": "stdout",
     "output_type": "stream",
     "text": [
      "test y shape : (17520, 1)\n",
      "Inv y shape : (17520, 36)\n",
      "y pred shape : (17520, 1)\n",
      "inv y pred : (17520, 36)\n",
      "Run 1 Mean Absolute Error: 9.456459473383271\n",
      "RMSE: 12.705\n",
      "R^2: 1.000\n",
      "[['node_9_pressure', 'link_30_flow', 'node_2_demand', 'link_7_flow', 'node_6_pressure', 'node_10_pressure', 'node_20_demand', 'node_8_pressure', 'node_15_demand', 'node_27_pressure', 'link_31_flow', 'node_1_demand', 'link_2_flow', 'node_9_demand', 'node_23_pressure', 'link_19_flow', 'link_9_flow', 'link_17_flow', 'node_14_demand', 'node_31_pressure', 'node_31_demand', 'reservoir_demand', 'node_21_demand', 'link_1_flow', 'node_1_pressure', 'node_4_pressure', 'node_22_pressure', 'node_15_pressure', 'link_6_flow', 'link_29_flow', 'link_16_flow', 'node_12_pressure', 'link_27_flow', 'node_21_pressure', 'node_8_demand', 'node_27_demand', 'link_10_flow', 'link_3_flow', 'node_19_demand', 'link_28_flow', 'node_30_demand', 'node_16_pressure', 'node_3_pressure', 'link_21_flow', 'node_28_pressure', 'link_12_flow', 'link_20_flow', 'link_26_flow', 'node_5_demand', 'node_17_pressure', 'node_6_demand', 'node_25_demand', 'link_24_flow', 'link_5_flow', 'node_24_demand', 'node_2_pressure', 'node_5_pressure', 'node_13_pressure', 'node_16_demand', 'node_26_pressure']]\n",
      "starting df shape: (87600, 36)\n",
      "This is training run 2 and has the shape:  (87600, 36)\n",
      "The value of dropped columns is 60\n"
     ]
    },
    {
     "name": "stderr",
     "output_type": "stream",
     "text": [
      "/Users/alexellard/opt/anaconda3/lib/python3.7/site-packages/xgboost/data.py:96: UserWarning: Use subset (sliced data) of np.ndarray is not recommended because it will generate extra copies and increase memory consumption\n",
      "  \"because it will generate extra copies and increase \" +\n"
     ]
    },
    {
     "name": "stdout",
     "output_type": "stream",
     "text": [
      "test y shape : (17520, 1)\n",
      "Inv y shape : (17520, 36)\n",
      "y pred shape : (17520, 1)\n",
      "inv y pred : (17520, 36)\n",
      "Run 2 Mean Absolute Error: 0.039568367034623096\n",
      "RMSE: 0.053\n",
      "R^2: 1.000\n",
      "[['node_18_demand', 'node_3_demand', 'node_2_demand', 'link_26_flow', 'node_20_pressure', 'node_14_demand', 'link_24_flow', 'link_18_flow', 'link_32_flow', 'node_9_demand', 'node_16_demand', 'link_25_flow', 'reservoir_pressure', 'link_23_flow', 'node_6_pressure', 'node_23_pressure', 'link_17_flow', 'node_4_demand', 'node_10_demand', 'node_5_demand', 'reservoir_demand', 'node_30_pressure', 'node_24_pressure', 'node_17_demand', 'node_31_demand', 'node_31_pressure', 'node_29_demand', 'node_1_demand', 'link_12_flow', 'node_28_pressure', 'node_15_demand', 'node_22_demand', 'node_22_pressure', 'link_9_flow', 'link_15_flow', 'link_4_flow', 'link_1_flow', 'link_22_flow', 'link_2_flow', 'node_25_demand', 'link_10_flow', 'link_11_flow', 'link_19_flow', 'node_7_demand', 'node_20_demand', 'node_27_pressure', 'node_14_pressure', 'node_11_pressure', 'node_19_pressure', 'node_23_demand', 'node_6_demand', 'node_18_pressure', 'node_17_pressure', 'node_9_pressure', 'link_27_flow', 'node_28_demand', 'link_30_flow', 'node_4_pressure', 'node_2_pressure', 'link_28_flow']]\n",
      "starting df shape: (87600, 36)\n",
      "This is training run 3 and has the shape:  (87600, 36)\n",
      "The value of dropped columns is 60\n"
     ]
    },
    {
     "name": "stderr",
     "output_type": "stream",
     "text": [
      "/Users/alexellard/opt/anaconda3/lib/python3.7/site-packages/xgboost/data.py:96: UserWarning: Use subset (sliced data) of np.ndarray is not recommended because it will generate extra copies and increase memory consumption\n",
      "  \"because it will generate extra copies and increase \" +\n"
     ]
    },
    {
     "name": "stdout",
     "output_type": "stream",
     "text": [
      "test y shape : (17520, 1)\n",
      "Inv y shape : (17520, 36)\n",
      "y pred shape : (17520, 1)\n",
      "inv y pred : (17520, 36)\n",
      "Run 3 Mean Absolute Error: 0.36196916676517976\n",
      "RMSE: 0.493\n",
      "R^2: 1.000\n",
      "[['node_10_demand', 'link_8_flow', 'link_21_flow', 'node_12_demand', 'link_3_flow', 'node_20_demand', 'node_11_pressure', 'link_27_flow', 'node_17_pressure', 'node_22_pressure', 'node_26_demand', 'node_19_pressure', 'node_2_pressure', 'link_15_flow', 'node_18_pressure', 'node_18_demand', 'link_11_flow', 'link_20_flow', 'node_30_demand', 'node_23_demand', 'node_19_demand', 'node_3_demand', 'node_13_demand', 'reservoir_demand', 'node_10_pressure', 'node_23_pressure', 'link_18_flow', 'node_31_pressure', 'node_31_demand', 'node_6_demand', 'node_12_pressure', 'node_8_pressure', 'link_23_flow', 'reservoir_pressure', 'node_27_pressure', 'node_14_demand', 'node_13_pressure', 'node_1_pressure', 'node_21_pressure', 'node_30_pressure', 'node_8_demand', 'link_10_flow', 'link_16_flow', 'link_6_flow', 'node_27_demand', 'link_26_flow', 'node_20_pressure', 'link_5_flow', 'node_21_demand', 'link_4_flow', 'node_26_pressure', 'node_9_pressure', 'node_24_pressure', 'link_12_flow', 'node_4_demand', 'link_9_flow', 'link_19_flow', 'link_7_flow', 'link_24_flow']]\n",
      "starting df shape: (87600, 37)\n",
      "This is training run 4 and has the shape:  (87600, 37)\n",
      "The value of dropped columns is 60\n"
     ]
    },
    {
     "name": "stderr",
     "output_type": "stream",
     "text": [
      "/Users/alexellard/opt/anaconda3/lib/python3.7/site-packages/xgboost/data.py:96: UserWarning: Use subset (sliced data) of np.ndarray is not recommended because it will generate extra copies and increase memory consumption\n",
      "  \"because it will generate extra copies and increase \" +\n"
     ]
    },
    {
     "name": "stdout",
     "output_type": "stream",
     "text": [
      "test y shape : (17520, 1)\n",
      "Inv y shape : (17520, 37)\n",
      "y pred shape : (17520, 1)\n",
      "inv y pred : (17520, 37)\n",
      "Run 4 Mean Absolute Error: 0.35799254718823204\n",
      "RMSE: 0.519\n",
      "R^2: 1.000\n",
      "[['link_31_flow', 'node_3_demand', 'node_25_demand', 'node_27_pressure', 'node_20_demand', 'node_13_demand', 'node_16_demand', 'node_5_demand', 'node_28_demand', 'node_31_pressure', 'link_10_flow', 'node_19_pressure', 'node_22_demand', 'node_31_demand', 'node_8_demand', 'node_17_pressure', 'link_21_flow', 'link_29_flow', 'node_16_pressure', 'node_18_demand', 'link_13_flow', 'node_11_pressure', 'node_5_pressure', 'reservoir_demand', 'link_5_flow', 'node_1_demand', 'link_15_flow', 'link_6_flow', 'node_3_pressure', 'link_3_flow', 'link_30_flow', 'link_22_flow', 'node_24_pressure', 'link_11_flow', 'node_9_demand', 'link_12_flow', 'link_20_flow', 'node_21_pressure', 'node_6_demand', 'reservoir_pressure', 'node_12_demand', 'node_19_demand', 'node_14_demand', 'node_17_demand', 'node_23_pressure', 'node_1_pressure', 'node_26_pressure', 'link_16_flow', 'node_14_pressure', 'node_30_demand', 'node_29_demand', 'node_9_pressure', 'node_22_pressure', 'node_4_demand', 'node_10_pressure', 'node_26_demand', 'node_20_pressure', 'link_7_flow', 'node_11_demand']]\n",
      "starting df shape: (87600, 37)\n",
      "This is training run 5 and has the shape:  (87600, 37)\n",
      "The value of dropped columns is 60\n"
     ]
    },
    {
     "name": "stderr",
     "output_type": "stream",
     "text": [
      "/Users/alexellard/opt/anaconda3/lib/python3.7/site-packages/xgboost/data.py:96: UserWarning: Use subset (sliced data) of np.ndarray is not recommended because it will generate extra copies and increase memory consumption\n",
      "  \"because it will generate extra copies and increase \" +\n"
     ]
    },
    {
     "name": "stdout",
     "output_type": "stream",
     "text": [
      "test y shape : (17520, 1)\n",
      "Inv y shape : (17520, 37)\n",
      "y pred shape : (17520, 1)\n",
      "inv y pred : (17520, 37)\n",
      "Run 5 Mean Absolute Error: 0.20825591478167585\n",
      "RMSE: 0.295\n",
      "R^2: 1.000\n",
      "[['link_8_flow', 'link_29_flow', 'link_21_flow', 'node_31_demand', 'node_7_demand', 'node_18_demand', 'node_27_demand', 'node_28_pressure', 'link_27_flow', 'link_20_flow', 'node_13_demand', 'link_31_flow', 'node_26_pressure', 'link_22_flow', 'link_2_flow', 'link_16_flow', 'node_20_pressure', 'node_4_demand', 'link_14_flow', 'node_18_pressure', 'node_8_pressure', 'node_22_demand', 'link_4_flow', 'link_32_flow', 'node_25_pressure', 'node_28_demand', 'node_4_pressure', 'node_12_pressure', 'node_6_pressure', 'node_1_demand', 'node_10_pressure', 'node_17_demand', 'node_1_pressure', 'link_26_flow', 'node_8_demand', 'link_15_flow', 'node_29_demand', 'node_13_pressure', 'node_23_pressure', 'link_9_flow', 'node_11_pressure', 'node_12_demand', 'link_12_flow', 'node_2_demand', 'link_23_flow', 'node_30_pressure', 'node_19_pressure', 'node_2_pressure', 'node_10_demand', 'link_5_flow', 'node_20_demand', 'node_15_pressure', 'node_25_demand', 'node_30_demand', 'link_10_flow', 'reservoir_demand', 'node_24_demand', 'node_11_demand', 'node_15_demand']]\n",
      "starting df shape: (87600, 37)\n",
      "This is training run 6 and has the shape:  (87600, 37)\n",
      "The value of dropped columns is 60\n"
     ]
    },
    {
     "name": "stderr",
     "output_type": "stream",
     "text": [
      "/Users/alexellard/opt/anaconda3/lib/python3.7/site-packages/xgboost/data.py:96: UserWarning: Use subset (sliced data) of np.ndarray is not recommended because it will generate extra copies and increase memory consumption\n",
      "  \"because it will generate extra copies and increase \" +\n"
     ]
    },
    {
     "name": "stdout",
     "output_type": "stream",
     "text": [
      "test y shape : (17520, 1)\n",
      "Inv y shape : (17520, 37)\n",
      "y pred shape : (17520, 1)\n",
      "inv y pred : (17520, 37)\n",
      "Run 6 Mean Absolute Error: 0.04517866891400326\n",
      "RMSE: 0.062\n",
      "R^2: 1.000\n",
      "[['node_27_pressure', 'node_11_pressure', 'node_24_demand', 'node_19_pressure', 'link_16_flow', 'node_29_demand', 'node_14_demand', 'node_10_pressure', 'node_20_pressure', 'node_15_demand', 'node_17_pressure', 'link_7_flow', 'link_12_flow', 'node_18_pressure', 'link_15_flow', 'node_16_demand', 'link_28_flow', 'node_30_pressure', 'node_17_demand', 'node_11_demand', 'node_26_demand', 'node_6_demand', 'link_27_flow', 'link_5_flow', 'node_4_pressure', 'node_10_demand', 'link_32_flow', 'node_20_demand', 'node_24_pressure', 'node_28_pressure', 'link_4_flow', 'node_26_pressure', 'link_13_flow', 'node_16_pressure', 'node_8_pressure', 'node_28_demand', 'node_13_pressure', 'node_9_pressure', 'node_21_pressure', 'link_29_flow', 'node_25_pressure', 'node_7_demand', 'node_23_demand', 'link_19_flow', 'node_22_pressure', 'link_18_flow', 'reservoir_demand', 'node_3_pressure', 'link_20_flow', 'node_6_pressure', 'link_10_flow', 'node_9_demand', 'link_17_flow', 'node_7_pressure', 'node_15_pressure', 'link_6_flow', 'node_18_demand', 'link_30_flow', 'node_1_pressure']]\n",
      "starting df shape: (87600, 37)\n",
      "This is training run 7 and has the shape:  (87600, 37)\n",
      "The value of dropped columns is 60\n"
     ]
    },
    {
     "name": "stderr",
     "output_type": "stream",
     "text": [
      "/Users/alexellard/opt/anaconda3/lib/python3.7/site-packages/xgboost/data.py:96: UserWarning: Use subset (sliced data) of np.ndarray is not recommended because it will generate extra copies and increase memory consumption\n",
      "  \"because it will generate extra copies and increase \" +\n"
     ]
    },
    {
     "name": "stdout",
     "output_type": "stream",
     "text": [
      "test y shape : (17520, 1)\n",
      "Inv y shape : (17520, 37)\n",
      "y pred shape : (17520, 1)\n",
      "inv y pred : (17520, 37)\n",
      "Run 7 Mean Absolute Error: 0.2857938888192114\n",
      "RMSE: 0.389\n",
      "R^2: 1.000\n",
      "[['node_5_demand', 'node_4_demand', 'node_7_pressure', 'link_31_flow', 'node_6_pressure', 'link_4_flow', 'node_14_demand', 'node_23_pressure', 'node_16_pressure', 'node_25_pressure', 'link_26_flow', 'node_17_pressure', 'link_28_flow', 'node_15_pressure', 'node_31_demand', 'link_9_flow', 'link_6_flow', 'node_2_pressure', 'node_4_pressure', 'link_12_flow', 'link_15_flow', 'node_18_demand', 'node_15_demand', 'node_13_demand', 'node_27_demand', 'node_20_pressure', 'link_17_flow', 'node_14_pressure', 'node_18_pressure', 'node_17_demand', 'link_25_flow', 'link_5_flow', 'node_12_demand', 'link_24_flow', 'node_27_pressure', 'link_29_flow', 'node_7_demand', 'node_13_pressure', 'link_2_flow', 'link_30_flow', 'link_3_flow', 'link_21_flow', 'node_9_pressure', 'link_18_flow', 'node_28_demand', 'link_10_flow', 'node_31_pressure', 'node_11_demand', 'node_1_pressure', 'node_19_pressure', 'node_29_demand', 'node_19_demand', 'node_24_pressure', 'node_30_pressure', 'link_14_flow', 'node_11_pressure', 'node_12_pressure', 'node_26_demand', 'link_19_flow']]\n",
      "starting df shape: (87600, 37)\n",
      "This is training run 8 and has the shape:  (87600, 37)\n",
      "The value of dropped columns is 60\n"
     ]
    },
    {
     "name": "stderr",
     "output_type": "stream",
     "text": [
      "/Users/alexellard/opt/anaconda3/lib/python3.7/site-packages/xgboost/data.py:96: UserWarning: Use subset (sliced data) of np.ndarray is not recommended because it will generate extra copies and increase memory consumption\n",
      "  \"because it will generate extra copies and increase \" +\n"
     ]
    },
    {
     "name": "stdout",
     "output_type": "stream",
     "text": [
      "test y shape : (17520, 1)\n",
      "Inv y shape : (17520, 37)\n",
      "y pred shape : (17520, 1)\n",
      "inv y pred : (17520, 37)\n",
      "Run 8 Mean Absolute Error: 5.675425187135987\n",
      "RMSE: 8.360\n",
      "R^2: 1.000\n",
      "[['link_22_flow', 'link_31_flow', 'link_13_flow', 'node_5_pressure', 'link_17_flow', 'node_4_demand', 'link_1_flow', 'node_18_pressure', 'node_2_demand', 'link_30_flow', 'link_23_flow', 'node_24_demand', 'link_15_flow', 'node_25_pressure', 'reservoir_pressure', 'node_8_pressure', 'link_4_flow', 'node_17_pressure', 'node_12_pressure', 'node_6_demand', 'link_2_flow', 'link_24_flow', 'node_14_pressure', 'node_15_demand', 'node_9_pressure', 'link_6_flow', 'link_20_flow', 'link_8_flow', 'node_28_demand', 'node_2_pressure', 'node_16_demand', 'link_5_flow', 'node_17_demand', 'node_28_pressure', 'node_13_pressure', 'node_21_demand', 'link_32_flow', 'node_31_pressure', 'link_29_flow', 'node_19_demand', 'link_21_flow', 'link_28_flow', 'link_18_flow', 'node_15_pressure', 'node_31_demand', 'node_27_pressure', 'node_8_demand', 'node_23_demand', 'node_14_demand', 'node_6_pressure', 'link_25_flow', 'node_30_demand', 'node_5_demand', 'node_7_pressure', 'node_12_demand', 'node_22_pressure', 'node_1_pressure', 'link_12_flow', 'node_10_demand']]\n",
      "starting df shape: (87600, 37)\n",
      "This is training run 9 and has the shape:  (87600, 37)\n",
      "The value of dropped columns is 60\n"
     ]
    },
    {
     "name": "stderr",
     "output_type": "stream",
     "text": [
      "/Users/alexellard/opt/anaconda3/lib/python3.7/site-packages/xgboost/data.py:96: UserWarning: Use subset (sliced data) of np.ndarray is not recommended because it will generate extra copies and increase memory consumption\n",
      "  \"because it will generate extra copies and increase \" +\n"
     ]
    },
    {
     "name": "stdout",
     "output_type": "stream",
     "text": [
      "test y shape : (17520, 1)\n",
      "Inv y shape : (17520, 37)\n",
      "y pred shape : (17520, 1)\n",
      "inv y pred : (17520, 37)\n",
      "Run 9 Mean Absolute Error: 4.576014837887114\n",
      "RMSE: 6.266\n",
      "R^2: 1.000\n",
      "[['node_2_pressure', 'node_7_pressure', 'node_9_demand', 'node_12_pressure', 'link_30_flow', 'link_19_flow', 'node_13_pressure', 'node_19_pressure', 'node_4_demand', 'node_18_pressure', 'node_30_demand', 'link_23_flow', 'link_12_flow', 'link_15_flow', 'node_1_pressure', 'node_22_pressure', 'node_31_demand', 'node_28_pressure', 'link_10_flow', 'node_19_demand', 'node_11_demand', 'node_10_demand', 'link_20_flow', 'node_17_pressure', 'link_27_flow', 'node_25_demand', 'link_29_flow', 'node_5_pressure', 'link_4_flow', 'node_6_demand', 'node_20_pressure', 'node_8_pressure', 'link_3_flow', 'link_26_flow', 'link_7_flow', 'link_13_flow', 'node_14_demand', 'node_22_demand', 'reservoir_demand', 'node_23_demand', 'node_15_demand', 'link_11_flow', 'link_18_flow', 'node_12_demand', 'node_27_pressure', 'link_5_flow', 'link_24_flow', 'link_31_flow', 'node_20_demand', 'node_26_pressure', 'node_14_pressure', 'link_21_flow', 'node_24_demand', 'node_13_demand', 'node_29_demand', 'node_16_pressure', 'reservoir_pressure', 'link_6_flow', 'node_2_demand']]\n",
      "starting df shape: (87600, 37)\n",
      "This is training run 10 and has the shape:  (87600, 37)\n",
      "The value of dropped columns is 60\n"
     ]
    },
    {
     "name": "stderr",
     "output_type": "stream",
     "text": [
      "/Users/alexellard/opt/anaconda3/lib/python3.7/site-packages/xgboost/data.py:96: UserWarning: Use subset (sliced data) of np.ndarray is not recommended because it will generate extra copies and increase memory consumption\n",
      "  \"because it will generate extra copies and increase \" +\n"
     ]
    },
    {
     "name": "stdout",
     "output_type": "stream",
     "text": [
      "test y shape : (17520, 1)\n",
      "Inv y shape : (17520, 37)\n",
      "y pred shape : (17520, 1)\n",
      "inv y pred : (17520, 37)\n",
      "Run 10 Mean Absolute Error: 0.2017714941617516\n",
      "RMSE: 0.285\n",
      "R^2: 1.000\n",
      "[['link_19_flow', 'link_1_flow', 'link_12_flow', 'link_32_flow', 'link_29_flow', 'node_2_demand', 'node_7_pressure', 'node_21_pressure', 'node_4_demand', 'node_24_pressure', 'node_25_pressure', 'node_14_demand', 'link_25_flow', 'node_8_demand', 'link_7_flow', 'link_3_flow', 'link_23_flow', 'link_24_flow', 'link_27_flow', 'node_11_pressure', 'node_22_demand', 'node_24_demand', 'node_3_demand', 'link_5_flow', 'node_1_pressure', 'node_23_pressure', 'link_4_flow', 'reservoir_pressure', 'node_15_demand', 'link_8_flow', 'node_19_pressure', 'link_26_flow', 'link_13_flow', 'link_20_flow', 'link_16_flow', 'node_3_pressure', 'link_6_flow', 'node_5_pressure', 'link_10_flow', 'node_22_pressure', 'node_27_pressure', 'node_21_demand', 'link_28_flow', 'node_30_demand', 'node_5_demand', 'node_6_demand', 'node_25_demand', 'node_23_demand', 'node_26_pressure', 'node_4_pressure', 'node_26_demand', 'node_12_pressure', 'node_11_demand', 'node_27_demand', 'link_17_flow', 'link_22_flow', 'link_2_flow', 'node_10_pressure', 'node_14_pressure', 'node_31_pressure', 'link_11_flow', 'node_28_pressure', 'node_19_demand', 'link_9_flow', 'node_9_demand']]\n",
      "starting df shape: (87600, 31)\n",
      "This is training run 1 and has the shape:  (87600, 31)\n",
      "The value of dropped columns is 65\n"
     ]
    },
    {
     "name": "stderr",
     "output_type": "stream",
     "text": [
      "/Users/alexellard/opt/anaconda3/lib/python3.7/site-packages/xgboost/data.py:96: UserWarning: Use subset (sliced data) of np.ndarray is not recommended because it will generate extra copies and increase memory consumption\n",
      "  \"because it will generate extra copies and increase \" +\n"
     ]
    },
    {
     "name": "stdout",
     "output_type": "stream",
     "text": [
      "test y shape : (17520, 1)\n",
      "Inv y shape : (17520, 31)\n",
      "y pred shape : (17520, 1)\n",
      "inv y pred : (17520, 31)\n",
      "Run 1 Mean Absolute Error: 4.044319793884291\n",
      "RMSE: 5.585\n",
      "R^2: 1.000\n",
      "[['node_24_pressure', 'node_19_pressure', 'node_22_pressure', 'reservoir_demand', 'node_24_demand', 'node_11_demand', 'node_25_pressure', 'link_15_flow', 'node_5_pressure', 'node_1_demand', 'node_6_demand', 'node_5_demand', 'link_14_flow', 'link_28_flow', 'node_15_demand', 'node_10_demand', 'reservoir_pressure', 'link_21_flow', 'node_26_pressure', 'link_9_flow', 'node_21_pressure', 'link_30_flow', 'node_17_demand', 'node_9_demand', 'link_10_flow', 'link_26_flow', 'node_12_demand', 'node_16_pressure', 'link_25_flow', 'node_15_pressure', 'node_3_demand', 'node_2_pressure', 'node_8_pressure', 'node_19_demand', 'link_5_flow', 'node_13_pressure', 'link_13_flow', 'link_27_flow', 'link_3_flow', 'link_8_flow', 'node_12_pressure', 'node_1_pressure', 'node_27_pressure', 'node_20_demand', 'link_20_flow', 'link_16_flow', 'node_28_demand', 'node_30_pressure', 'link_6_flow', 'node_17_pressure', 'node_13_demand', 'link_29_flow', 'node_8_demand', 'node_7_pressure', 'node_4_pressure', 'node_27_demand', 'link_1_flow', 'node_31_pressure', 'node_18_demand', 'node_11_pressure', 'link_19_flow', 'link_32_flow', 'link_11_flow', 'node_4_demand']]\n",
      "starting df shape: (87600, 32)\n",
      "This is training run 2 and has the shape:  (87600, 32)\n",
      "The value of dropped columns is 65\n"
     ]
    },
    {
     "name": "stderr",
     "output_type": "stream",
     "text": [
      "/Users/alexellard/opt/anaconda3/lib/python3.7/site-packages/xgboost/data.py:96: UserWarning: Use subset (sliced data) of np.ndarray is not recommended because it will generate extra copies and increase memory consumption\n",
      "  \"because it will generate extra copies and increase \" +\n"
     ]
    },
    {
     "name": "stdout",
     "output_type": "stream",
     "text": [
      "test y shape : (17520, 1)\n",
      "Inv y shape : (17520, 32)\n",
      "y pred shape : (17520, 1)\n",
      "inv y pred : (17520, 32)\n",
      "Run 2 Mean Absolute Error: 0.2742918532869156\n",
      "RMSE: 0.418\n",
      "R^2: 1.000\n",
      "[['link_15_flow', 'reservoir_demand', 'link_8_flow', 'node_16_demand', 'node_15_demand', 'node_23_demand', 'reservoir_pressure', 'node_6_pressure', 'node_20_demand', 'node_22_demand', 'node_3_demand', 'link_3_flow', 'node_13_demand', 'node_13_pressure', 'link_16_flow', 'node_21_demand', 'node_25_demand', 'node_2_pressure', 'node_3_pressure', 'node_15_pressure', 'link_6_flow', 'node_19_demand', 'link_27_flow', 'node_25_pressure', 'link_25_flow', 'link_12_flow', 'node_18_pressure', 'link_2_flow', 'node_1_pressure', 'link_29_flow', 'link_9_flow', 'node_5_demand', 'node_4_demand', 'link_28_flow', 'link_10_flow', 'node_31_pressure', 'node_28_demand', 'link_26_flow', 'node_23_pressure', 'node_9_pressure', 'link_19_flow', 'link_11_flow', 'link_13_flow', 'link_24_flow', 'node_20_pressure', 'node_6_demand', 'node_10_demand', 'link_23_flow', 'link_20_flow', 'link_32_flow', 'node_8_pressure', 'node_12_demand', 'node_29_demand', 'link_30_flow', 'node_22_pressure', 'node_4_pressure', 'node_14_demand', 'link_14_flow', 'node_14_pressure', 'link_21_flow', 'node_9_demand', 'node_17_pressure', 'link_22_flow', 'link_5_flow']]\n",
      "starting df shape: (87600, 32)\n",
      "This is training run 3 and has the shape:  (87600, 32)\n",
      "The value of dropped columns is 65\n"
     ]
    },
    {
     "name": "stderr",
     "output_type": "stream",
     "text": [
      "/Users/alexellard/opt/anaconda3/lib/python3.7/site-packages/xgboost/data.py:96: UserWarning: Use subset (sliced data) of np.ndarray is not recommended because it will generate extra copies and increase memory consumption\n",
      "  \"because it will generate extra copies and increase \" +\n"
     ]
    },
    {
     "name": "stdout",
     "output_type": "stream",
     "text": [
      "test y shape : (17520, 1)\n",
      "Inv y shape : (17520, 32)\n",
      "y pred shape : (17520, 1)\n",
      "inv y pred : (17520, 32)\n",
      "Run 3 Mean Absolute Error: 0.22486611961865896\n",
      "RMSE: 0.317\n",
      "R^2: 1.000\n",
      "[['node_21_pressure', 'link_21_flow', 'node_1_demand', 'node_7_demand', 'link_7_flow', 'node_9_demand', 'link_1_flow', 'link_18_flow', 'node_1_pressure', 'node_14_demand', 'node_11_pressure', 'node_10_pressure', 'node_23_pressure', 'node_2_pressure', 'node_22_demand', 'node_24_demand', 'node_16_demand', 'link_17_flow', 'link_31_flow', 'link_11_flow', 'link_27_flow', 'link_25_flow', 'link_28_flow', 'node_25_demand', 'node_22_pressure', 'node_10_demand', 'node_4_pressure', 'node_30_demand', 'node_6_demand', 'node_24_pressure', 'node_28_demand', 'link_9_flow', 'link_6_flow', 'node_5_demand', 'node_20_pressure', 'node_19_demand', 'node_25_pressure', 'link_13_flow', 'node_16_pressure', 'node_8_pressure', 'node_28_pressure', 'node_13_pressure', 'link_32_flow', 'link_19_flow', 'link_4_flow', 'node_14_pressure', 'node_3_demand', 'node_15_demand', 'node_3_pressure', 'node_20_demand', 'node_31_demand', 'link_22_flow', 'link_3_flow', 'node_30_pressure', 'reservoir_pressure', 'node_8_demand', 'node_11_demand', 'node_26_demand', 'node_7_pressure', 'node_13_demand', 'node_17_demand', 'node_26_pressure', 'node_17_pressure', 'link_12_flow']]\n",
      "starting df shape: (87600, 32)\n",
      "This is training run 4 and has the shape:  (87600, 32)\n",
      "The value of dropped columns is 65\n"
     ]
    },
    {
     "name": "stderr",
     "output_type": "stream",
     "text": [
      "/Users/alexellard/opt/anaconda3/lib/python3.7/site-packages/xgboost/data.py:96: UserWarning: Use subset (sliced data) of np.ndarray is not recommended because it will generate extra copies and increase memory consumption\n",
      "  \"because it will generate extra copies and increase \" +\n"
     ]
    },
    {
     "name": "stdout",
     "output_type": "stream",
     "text": [
      "test y shape : (17520, 1)\n",
      "Inv y shape : (17520, 32)\n",
      "y pred shape : (17520, 1)\n",
      "inv y pred : (17520, 32)\n",
      "Run 4 Mean Absolute Error: 5.857145275882122\n",
      "RMSE: 7.938\n",
      "R^2: 1.000\n",
      "[['node_17_pressure', 'link_9_flow', 'node_25_pressure', 'node_22_demand', 'node_30_pressure', 'node_1_pressure', 'node_26_pressure', 'link_11_flow', 'link_31_flow', 'link_18_flow', 'node_13_demand', 'link_3_flow', 'link_8_flow', 'node_6_demand', 'node_18_pressure', 'node_27_pressure', 'node_31_demand', 'node_7_demand', 'node_22_pressure', 'node_9_pressure', 'node_5_demand', 'link_1_flow', 'node_5_pressure', 'node_9_demand', 'node_1_demand', 'link_25_flow', 'node_19_pressure', 'node_24_pressure', 'node_10_pressure', 'link_20_flow', 'node_12_demand', 'node_21_pressure', 'node_4_demand', 'node_26_demand', 'link_13_flow', 'node_8_pressure', 'link_22_flow', 'link_4_flow', 'node_6_pressure', 'link_17_flow', 'node_15_demand', 'node_4_pressure', 'node_3_pressure', 'link_26_flow', 'node_23_pressure', 'node_28_demand', 'node_11_pressure', 'link_29_flow', 'node_23_demand', 'node_31_pressure', 'link_23_flow', 'node_2_pressure', 'link_24_flow', 'link_28_flow', 'node_15_pressure', 'node_18_demand', 'node_20_demand', 'link_32_flow', 'node_27_demand', 'node_14_demand', 'node_25_demand', 'node_12_pressure', 'node_19_demand', 'node_14_pressure', 'node_16_demand']]\n",
      "starting df shape: (87600, 31)\n",
      "This is training run 5 and has the shape:  (87600, 31)\n",
      "The value of dropped columns is 65\n"
     ]
    },
    {
     "name": "stderr",
     "output_type": "stream",
     "text": [
      "/Users/alexellard/opt/anaconda3/lib/python3.7/site-packages/xgboost/data.py:96: UserWarning: Use subset (sliced data) of np.ndarray is not recommended because it will generate extra copies and increase memory consumption\n",
      "  \"because it will generate extra copies and increase \" +\n"
     ]
    },
    {
     "name": "stdout",
     "output_type": "stream",
     "text": [
      "test y shape : (17520, 1)\n",
      "Inv y shape : (17520, 31)\n",
      "y pred shape : (17520, 1)\n",
      "inv y pred : (17520, 31)\n",
      "Run 5 Mean Absolute Error: 6.800932393486883\n",
      "RMSE: 9.934\n",
      "R^2: 1.000\n",
      "[['node_9_demand', 'node_1_demand', 'node_14_demand', 'node_7_demand', 'node_20_pressure', 'node_10_pressure', 'node_30_demand', 'node_31_pressure', 'link_12_flow', 'link_16_flow', 'node_4_demand', 'node_19_demand', 'node_23_demand', 'node_28_demand', 'node_11_demand', 'reservoir_pressure', 'node_11_pressure', 'link_5_flow', 'link_27_flow', 'link_9_flow', 'node_25_demand', 'link_7_flow', 'link_22_flow', 'link_11_flow', 'link_21_flow', 'node_13_pressure', 'link_14_flow', 'link_28_flow', 'node_12_demand', 'node_15_pressure', 'node_4_pressure', 'node_2_pressure', 'node_22_pressure', 'link_8_flow', 'node_19_pressure', 'node_15_demand', 'node_10_demand', 'node_7_pressure', 'node_13_demand', 'node_9_pressure', 'node_5_pressure', 'link_25_flow', 'link_6_flow', 'node_16_pressure', 'node_24_demand', 'node_3_pressure', 'reservoir_demand', 'node_14_pressure', 'node_31_demand', 'node_22_demand', 'link_13_flow', 'node_2_demand', 'link_1_flow', 'node_23_pressure', 'node_30_pressure', 'link_20_flow', 'node_1_pressure', 'node_18_demand', 'node_5_demand', 'link_31_flow', 'link_4_flow', 'link_32_flow', 'node_21_pressure', 'node_27_demand', 'node_21_demand']]\n",
      "starting df shape: (87600, 31)\n",
      "This is training run 6 and has the shape:  (87600, 31)\n",
      "The value of dropped columns is 65\n"
     ]
    },
    {
     "name": "stderr",
     "output_type": "stream",
     "text": [
      "/Users/alexellard/opt/anaconda3/lib/python3.7/site-packages/xgboost/data.py:96: UserWarning: Use subset (sliced data) of np.ndarray is not recommended because it will generate extra copies and increase memory consumption\n",
      "  \"because it will generate extra copies and increase \" +\n"
     ]
    },
    {
     "name": "stdout",
     "output_type": "stream",
     "text": [
      "test y shape : (17520, 1)\n",
      "Inv y shape : (17520, 31)\n",
      "y pred shape : (17520, 1)\n",
      "inv y pred : (17520, 31)\n",
      "Run 6 Mean Absolute Error: 0.04627287542540094\n",
      "RMSE: 0.067\n",
      "R^2: 1.000\n",
      "[['link_1_flow', 'node_12_demand', 'node_1_pressure', 'link_9_flow', 'node_2_pressure', 'link_30_flow', 'link_16_flow', 'node_13_pressure', 'node_3_demand', 'node_22_pressure', 'node_25_pressure', 'node_16_pressure', 'link_12_flow', 'node_25_demand', 'node_21_pressure', 'node_5_pressure', 'node_22_demand', 'node_5_demand', 'reservoir_demand', 'node_14_pressure', 'node_3_pressure', 'node_26_pressure', 'node_20_demand', 'link_18_flow', 'link_17_flow', 'link_29_flow', 'node_17_pressure', 'link_19_flow', 'node_9_pressure', 'link_31_flow', 'node_28_demand', 'link_3_flow', 'node_24_demand', 'node_28_pressure', 'reservoir_pressure', 'link_10_flow', 'node_15_pressure', 'node_4_demand', 'node_11_pressure', 'link_8_flow', 'node_30_pressure', 'node_6_pressure', 'node_27_demand', 'link_32_flow', 'link_20_flow', 'node_23_demand', 'node_9_demand', 'node_18_demand', 'link_23_flow', 'node_17_demand', 'node_29_demand', 'node_30_demand', 'node_23_pressure', 'node_26_demand', 'node_18_pressure', 'link_26_flow', 'node_15_demand', 'link_24_flow', 'node_10_pressure', 'node_19_pressure', 'node_20_pressure', 'node_31_pressure', 'node_2_demand', 'node_4_pressure']]\n",
      "starting df shape: (87600, 32)\n",
      "This is training run 7 and has the shape:  (87600, 32)\n",
      "The value of dropped columns is 65\n"
     ]
    },
    {
     "name": "stderr",
     "output_type": "stream",
     "text": [
      "/Users/alexellard/opt/anaconda3/lib/python3.7/site-packages/xgboost/data.py:96: UserWarning: Use subset (sliced data) of np.ndarray is not recommended because it will generate extra copies and increase memory consumption\n",
      "  \"because it will generate extra copies and increase \" +\n"
     ]
    },
    {
     "name": "stdout",
     "output_type": "stream",
     "text": [
      "test y shape : (17520, 1)\n",
      "Inv y shape : (17520, 32)\n",
      "y pred shape : (17520, 1)\n",
      "inv y pred : (17520, 32)\n",
      "Run 7 Mean Absolute Error: 0.4265043129375534\n",
      "RMSE: 0.596\n",
      "R^2: 1.000\n",
      "[['link_5_flow', 'link_15_flow', 'link_9_flow', 'node_9_demand', 'node_13_demand', 'node_6_demand', 'link_7_flow', 'link_17_flow', 'node_8_demand', 'node_3_pressure', 'link_19_flow', 'node_26_demand', 'link_18_flow', 'node_21_pressure', 'node_9_pressure', 'node_27_pressure', 'link_24_flow', 'node_7_pressure', 'node_15_pressure', 'node_14_pressure', 'node_28_pressure', 'link_25_flow', 'node_24_pressure', 'link_22_flow', 'link_3_flow', 'reservoir_pressure', 'node_17_pressure', 'node_20_pressure', 'node_30_demand', 'link_1_flow', 'node_30_pressure', 'node_17_demand', 'node_24_demand', 'node_31_pressure', 'link_31_flow', 'node_5_pressure', 'node_19_demand', 'node_22_pressure', 'node_6_pressure', 'node_31_demand', 'link_2_flow', 'node_23_demand', 'node_12_demand', 'link_6_flow', 'link_16_flow', 'node_19_pressure', 'node_10_pressure', 'link_23_flow', 'node_27_demand', 'node_26_pressure', 'link_28_flow', 'link_8_flow', 'link_12_flow', 'node_18_pressure', 'node_20_demand', 'node_16_pressure', 'node_25_demand', 'node_8_pressure', 'node_10_demand', 'link_27_flow', 'node_16_demand', 'node_1_pressure', 'node_18_demand', 'node_21_demand']]\n",
      "starting df shape: (87600, 32)\n",
      "This is training run 8 and has the shape:  (87600, 32)\n",
      "The value of dropped columns is 65\n"
     ]
    },
    {
     "name": "stderr",
     "output_type": "stream",
     "text": [
      "/Users/alexellard/opt/anaconda3/lib/python3.7/site-packages/xgboost/data.py:96: UserWarning: Use subset (sliced data) of np.ndarray is not recommended because it will generate extra copies and increase memory consumption\n",
      "  \"because it will generate extra copies and increase \" +\n"
     ]
    },
    {
     "name": "stdout",
     "output_type": "stream",
     "text": [
      "test y shape : (17520, 1)\n",
      "Inv y shape : (17520, 32)\n",
      "y pred shape : (17520, 1)\n",
      "inv y pred : (17520, 32)\n",
      "Run 8 Mean Absolute Error: 7.977694546164059\n",
      "RMSE: 10.784\n",
      "R^2: 1.000\n",
      "[['reservoir_demand', 'link_12_flow', 'link_24_flow', 'node_6_pressure', 'node_11_demand', 'node_18_pressure', 'node_1_demand', 'link_14_flow', 'node_31_pressure', 'node_28_demand', 'node_1_pressure', 'node_23_pressure', 'link_13_flow', 'node_30_pressure', 'node_6_demand', 'link_6_flow', 'link_16_flow', 'node_4_pressure', 'node_26_pressure', 'link_2_flow', 'link_29_flow', 'node_2_pressure', 'link_20_flow', 'reservoir_pressure', 'node_31_demand', 'node_24_pressure', 'node_9_pressure', 'node_8_demand', 'link_28_flow', 'node_12_pressure', 'node_3_demand', 'node_24_demand', 'node_18_demand', 'link_25_flow', 'node_14_pressure', 'node_29_demand', 'node_19_pressure', 'node_13_pressure', 'node_16_pressure', 'node_16_demand', 'node_2_demand', 'link_9_flow', 'link_19_flow', 'link_27_flow', 'node_15_demand', 'node_27_demand', 'link_5_flow', 'node_30_demand', 'link_21_flow', 'link_30_flow', 'node_28_pressure', 'node_3_pressure', 'node_10_pressure', 'node_26_demand', 'link_31_flow', 'node_25_demand', 'node_11_pressure', 'link_23_flow', 'node_20_demand', 'node_5_demand', 'node_19_demand', 'link_18_flow', 'node_17_pressure', 'node_7_demand']]\n",
      "starting df shape: (87600, 32)\n",
      "This is training run 9 and has the shape:  (87600, 32)\n",
      "The value of dropped columns is 65\n"
     ]
    },
    {
     "name": "stderr",
     "output_type": "stream",
     "text": [
      "/Users/alexellard/opt/anaconda3/lib/python3.7/site-packages/xgboost/data.py:96: UserWarning: Use subset (sliced data) of np.ndarray is not recommended because it will generate extra copies and increase memory consumption\n",
      "  \"because it will generate extra copies and increase \" +\n"
     ]
    },
    {
     "name": "stdout",
     "output_type": "stream",
     "text": [
      "test y shape : (17520, 1)\n",
      "Inv y shape : (17520, 32)\n",
      "y pred shape : (17520, 1)\n",
      "inv y pred : (17520, 32)\n",
      "Run 9 Mean Absolute Error: 0.3823927253011828\n",
      "RMSE: 0.520\n",
      "R^2: 1.000\n",
      "[['link_5_flow', 'node_17_pressure', 'node_1_pressure', 'node_22_demand', 'node_26_demand', 'node_18_demand', 'node_10_pressure', 'link_4_flow', 'link_12_flow', 'link_7_flow', 'node_28_pressure', 'link_9_flow', 'node_14_demand', 'link_27_flow', 'reservoir_pressure', 'node_1_demand', 'node_11_pressure', 'link_24_flow', 'node_13_demand', 'link_13_flow', 'node_13_pressure', 'node_7_demand', 'link_2_flow', 'link_29_flow', 'node_28_demand', 'node_10_demand', 'link_28_flow', 'node_27_pressure', 'node_18_pressure', 'link_19_flow', 'link_18_flow', 'node_16_demand', 'node_4_demand', 'link_23_flow', 'link_26_flow', 'node_23_pressure', 'node_15_pressure', 'link_16_flow', 'node_23_demand', 'node_31_pressure', 'node_8_pressure', 'node_25_demand', 'link_8_flow', 'node_21_pressure', 'node_9_demand', 'link_3_flow', 'link_14_flow', 'node_31_demand', 'node_17_demand', 'node_30_demand', 'node_29_demand', 'link_1_flow', 'link_30_flow', 'link_21_flow', 'node_6_pressure', 'node_16_pressure', 'link_6_flow', 'node_22_pressure', 'link_31_flow', 'node_20_demand', 'node_4_pressure', 'node_11_demand', 'node_3_pressure', 'link_15_flow']]\n",
      "starting df shape: (87600, 32)\n",
      "This is training run 10 and has the shape:  (87600, 32)\n",
      "The value of dropped columns is 65\n"
     ]
    },
    {
     "name": "stderr",
     "output_type": "stream",
     "text": [
      "/Users/alexellard/opt/anaconda3/lib/python3.7/site-packages/xgboost/data.py:96: UserWarning: Use subset (sliced data) of np.ndarray is not recommended because it will generate extra copies and increase memory consumption\n",
      "  \"because it will generate extra copies and increase \" +\n"
     ]
    },
    {
     "name": "stdout",
     "output_type": "stream",
     "text": [
      "test y shape : (17520, 1)\n",
      "Inv y shape : (17520, 32)\n",
      "y pred shape : (17520, 1)\n",
      "inv y pred : (17520, 32)\n",
      "Run 10 Mean Absolute Error: 3.7708182737306424\n",
      "RMSE: 5.195\n",
      "R^2: 1.000\n",
      "[['node_3_pressure', 'node_23_demand', 'link_24_flow', 'node_27_demand', 'link_15_flow', 'node_27_pressure', 'link_27_flow', 'node_20_demand', 'link_26_flow', 'node_24_demand', 'node_15_demand', 'node_18_demand', 'node_5_pressure', 'node_25_pressure', 'node_30_pressure', 'node_9_pressure', 'node_16_pressure', 'node_19_pressure', 'node_18_pressure', 'node_22_demand', 'node_29_demand', 'link_5_flow', 'node_2_demand', 'link_2_flow', 'link_23_flow', 'node_24_pressure', 'node_26_demand', 'link_11_flow', 'link_22_flow', 'node_5_demand', 'node_7_pressure', 'link_7_flow', 'node_1_demand', 'node_31_demand', 'reservoir_pressure', 'node_17_pressure', 'link_9_flow', 'node_22_pressure', 'node_8_demand', 'link_3_flow', 'node_9_demand', 'node_17_demand', 'node_15_pressure', 'node_26_pressure', 'link_4_flow', 'link_28_flow', 'node_3_demand', 'node_25_demand', 'link_32_flow', 'link_13_flow', 'node_4_pressure', 'link_19_flow', 'node_10_demand', 'link_17_flow', 'link_25_flow', 'node_20_pressure', 'link_12_flow', 'link_6_flow', 'node_8_pressure', 'node_4_demand', 'node_14_demand', 'node_12_pressure', 'link_20_flow', 'link_16_flow', 'node_11_demand', 'node_28_demand', 'link_31_flow', 'node_28_pressure', 'link_18_flow']]\n",
      "starting df shape: (87600, 27)\n",
      "This is training run 1 and has the shape:  (87600, 27)\n",
      "The value of dropped columns is 70\n"
     ]
    },
    {
     "name": "stderr",
     "output_type": "stream",
     "text": [
      "/Users/alexellard/opt/anaconda3/lib/python3.7/site-packages/xgboost/data.py:96: UserWarning: Use subset (sliced data) of np.ndarray is not recommended because it will generate extra copies and increase memory consumption\n",
      "  \"because it will generate extra copies and increase \" +\n"
     ]
    },
    {
     "name": "stdout",
     "output_type": "stream",
     "text": [
      "test y shape : (17520, 1)\n",
      "Inv y shape : (17520, 27)\n",
      "y pred shape : (17520, 1)\n",
      "inv y pred : (17520, 27)\n",
      "Run 1 Mean Absolute Error: 5.0738249743528705\n",
      "RMSE: 7.010\n",
      "R^2: 1.000\n",
      "[['node_10_pressure', 'node_2_pressure', 'node_2_demand', 'node_9_pressure', 'link_3_flow', 'node_28_demand', 'node_9_demand', 'node_6_demand', 'node_25_pressure', 'link_32_flow', 'link_10_flow', 'node_14_pressure', 'link_6_flow', 'link_11_flow', 'link_14_flow', 'node_26_demand', 'node_5_demand', 'link_19_flow', 'link_1_flow', 'node_23_pressure', 'node_22_demand', 'node_12_pressure', 'node_21_demand', 'link_29_flow', 'node_8_demand', 'node_10_demand', 'node_1_pressure', 'node_30_pressure', 'node_21_pressure', 'link_4_flow', 'node_3_pressure', 'node_18_pressure', 'node_30_demand', 'node_13_demand', 'node_3_demand', 'node_4_demand', 'node_20_pressure', 'node_19_demand', 'link_18_flow', 'link_17_flow', 'node_4_pressure', 'link_25_flow', 'node_6_pressure', 'node_22_pressure', 'node_15_pressure', 'link_16_flow', 'link_7_flow', 'node_25_demand', 'link_8_flow', 'node_15_demand', 'node_12_demand', 'node_18_demand', 'node_23_demand', 'node_5_pressure', 'node_13_pressure', 'node_11_pressure', 'link_30_flow', 'link_24_flow', 'node_17_pressure', 'node_31_pressure', 'node_11_demand', 'node_28_pressure', 'node_1_demand', 'link_15_flow', 'node_14_demand', 'link_2_flow', 'node_26_pressure', 'node_7_demand', 'node_16_pressure']]\n",
      "starting df shape: (87600, 27)\n",
      "This is training run 2 and has the shape:  (87600, 27)\n",
      "The value of dropped columns is 70\n"
     ]
    },
    {
     "name": "stderr",
     "output_type": "stream",
     "text": [
      "/Users/alexellard/opt/anaconda3/lib/python3.7/site-packages/xgboost/data.py:96: UserWarning: Use subset (sliced data) of np.ndarray is not recommended because it will generate extra copies and increase memory consumption\n",
      "  \"because it will generate extra copies and increase \" +\n"
     ]
    },
    {
     "name": "stdout",
     "output_type": "stream",
     "text": [
      "test y shape : (17520, 1)\n",
      "Inv y shape : (17520, 27)\n",
      "y pred shape : (17520, 1)\n",
      "inv y pred : (17520, 27)\n",
      "Run 2 Mean Absolute Error: 6.933052847723746\n",
      "RMSE: 9.325\n",
      "R^2: 1.000\n",
      "[['reservoir_demand', 'link_10_flow', 'node_10_pressure', 'node_20_pressure', 'node_18_demand', 'node_17_demand', 'link_9_flow', 'node_3_demand', 'node_7_demand', 'node_8_demand', 'link_23_flow', 'node_27_demand', 'link_21_flow', 'node_12_pressure', 'node_8_pressure', 'link_26_flow', 'node_9_pressure', 'link_15_flow', 'node_31_pressure', 'node_18_pressure', 'node_19_demand', 'node_14_pressure', 'node_21_pressure', 'node_1_demand', 'link_27_flow', 'link_22_flow', 'node_5_pressure', 'link_5_flow', 'node_26_demand', 'node_22_pressure', 'node_29_demand', 'link_25_flow', 'node_22_demand', 'link_17_flow', 'link_29_flow', 'node_13_pressure', 'node_11_pressure', 'link_7_flow', 'link_14_flow', 'node_6_pressure', 'link_6_flow', 'link_31_flow', 'link_8_flow', 'node_16_demand', 'node_24_demand', 'node_28_pressure', 'link_28_flow', 'node_4_demand', 'node_3_pressure', 'node_19_pressure', 'node_14_demand', 'node_1_pressure', 'node_25_pressure', 'node_25_demand', 'node_17_pressure', 'link_1_flow', 'node_30_pressure', 'link_3_flow', 'link_12_flow', 'node_23_pressure', 'link_13_flow', 'link_20_flow', 'node_30_demand', 'link_4_flow', 'node_23_demand', 'node_21_demand', 'node_9_demand', 'node_31_demand', 'link_24_flow']]\n",
      "starting df shape: (87600, 27)\n",
      "This is training run 3 and has the shape:  (87600, 27)\n",
      "The value of dropped columns is 70\n"
     ]
    },
    {
     "name": "stderr",
     "output_type": "stream",
     "text": [
      "/Users/alexellard/opt/anaconda3/lib/python3.7/site-packages/xgboost/data.py:96: UserWarning: Use subset (sliced data) of np.ndarray is not recommended because it will generate extra copies and increase memory consumption\n",
      "  \"because it will generate extra copies and increase \" +\n"
     ]
    },
    {
     "name": "stdout",
     "output_type": "stream",
     "text": [
      "test y shape : (17520, 1)\n",
      "Inv y shape : (17520, 27)\n",
      "y pred shape : (17520, 1)\n",
      "inv y pred : (17520, 27)\n",
      "Run 3 Mean Absolute Error: 0.4624092207657807\n",
      "RMSE: 0.628\n",
      "R^2: 1.000\n",
      "[['link_7_flow', 'node_19_pressure', 'node_2_demand', 'node_11_pressure', 'node_21_demand', 'link_23_flow', 'node_12_demand', 'node_29_demand', 'node_12_pressure', 'link_21_flow', 'node_15_demand', 'node_2_pressure', 'node_7_pressure', 'link_22_flow', 'node_23_pressure', 'node_3_pressure', 'link_16_flow', 'node_28_pressure', 'link_18_flow', 'node_10_demand', 'node_24_pressure', 'node_16_demand', 'node_23_demand', 'link_25_flow', 'node_14_pressure', 'node_26_pressure', 'link_28_flow', 'node_30_demand', 'node_14_demand', 'link_30_flow', 'node_13_pressure', 'node_7_demand', 'node_21_pressure', 'link_26_flow', 'link_31_flow', 'link_27_flow', 'node_9_demand', 'link_9_flow', 'node_6_pressure', 'link_19_flow', 'node_4_pressure', 'link_11_flow', 'link_15_flow', 'link_10_flow', 'node_17_demand', 'node_17_pressure', 'link_14_flow', 'link_29_flow', 'node_1_demand', 'node_20_pressure', 'link_5_flow', 'node_18_pressure', 'link_13_flow', 'node_5_pressure', 'link_24_flow', 'link_3_flow', 'node_24_demand', 'node_27_demand', 'node_25_pressure', 'node_4_demand', 'link_4_flow', 'node_22_pressure', 'node_31_demand', 'node_8_demand', 'node_1_pressure', 'node_25_demand', 'reservoir_demand', 'link_2_flow', 'node_30_pressure', 'node_9_pressure']]\n",
      "starting df shape: (87600, 26)\n",
      "This is training run 4 and has the shape:  (87600, 26)\n",
      "The value of dropped columns is 70\n"
     ]
    },
    {
     "name": "stderr",
     "output_type": "stream",
     "text": [
      "/Users/alexellard/opt/anaconda3/lib/python3.7/site-packages/xgboost/data.py:96: UserWarning: Use subset (sliced data) of np.ndarray is not recommended because it will generate extra copies and increase memory consumption\n",
      "  \"because it will generate extra copies and increase \" +\n"
     ]
    },
    {
     "name": "stdout",
     "output_type": "stream",
     "text": [
      "test y shape : (17520, 1)\n",
      "Inv y shape : (17520, 26)\n",
      "y pred shape : (17520, 1)\n",
      "inv y pred : (17520, 26)\n",
      "Run 4 Mean Absolute Error: 0.05789966245810942\n",
      "RMSE: 0.078\n",
      "R^2: 1.000\n",
      "[['node_27_pressure', 'node_25_demand', 'link_9_flow', 'node_21_demand', 'node_31_demand', 'node_8_pressure', 'link_10_flow', 'node_17_pressure', 'node_11_demand', 'link_4_flow', 'node_26_demand', 'node_23_demand', 'link_2_flow', 'link_27_flow', 'node_18_demand', 'link_6_flow', 'reservoir_demand', 'link_5_flow', 'node_21_pressure', 'node_4_pressure', 'node_24_demand', 'node_3_demand', 'node_9_demand', 'node_15_demand', 'node_30_demand', 'link_26_flow', 'node_6_pressure', 'node_8_demand', 'link_29_flow', 'node_7_pressure', 'node_23_pressure', 'node_5_demand', 'node_16_demand', 'link_24_flow', 'link_32_flow', 'link_14_flow', 'link_15_flow', 'node_12_pressure', 'node_28_demand', 'reservoir_pressure', 'link_18_flow', 'node_13_pressure', 'node_1_demand', 'node_2_demand', 'link_30_flow', 'link_31_flow', 'node_9_pressure', 'node_11_pressure', 'node_20_demand', 'node_30_pressure', 'node_14_demand', 'link_16_flow', 'node_24_pressure', 'node_5_pressure', 'node_3_pressure', 'node_19_pressure', 'link_20_flow', 'node_17_demand', 'node_26_pressure', 'link_12_flow', 'node_15_pressure', 'node_28_pressure', 'node_19_demand', 'node_31_pressure', 'link_1_flow', 'node_10_pressure', 'node_27_demand', 'node_14_pressure', 'node_13_demand']]\n",
      "starting df shape: (87600, 27)\n",
      "This is training run 5 and has the shape:  (87600, 27)\n",
      "The value of dropped columns is 70\n"
     ]
    },
    {
     "name": "stderr",
     "output_type": "stream",
     "text": [
      "/Users/alexellard/opt/anaconda3/lib/python3.7/site-packages/xgboost/data.py:96: UserWarning: Use subset (sliced data) of np.ndarray is not recommended because it will generate extra copies and increase memory consumption\n",
      "  \"because it will generate extra copies and increase \" +\n"
     ]
    },
    {
     "name": "stdout",
     "output_type": "stream",
     "text": [
      "test y shape : (17520, 1)\n",
      "Inv y shape : (17520, 27)\n",
      "y pred shape : (17520, 1)\n",
      "inv y pred : (17520, 27)\n",
      "Run 5 Mean Absolute Error: 0.48069465576590975\n",
      "RMSE: 0.654\n",
      "R^2: 1.000\n",
      "[['link_29_flow', 'node_9_pressure', 'link_32_flow', 'node_8_pressure', 'node_1_pressure', 'node_22_pressure', 'link_7_flow', 'link_31_flow', 'link_25_flow', 'node_30_demand', 'node_5_pressure', 'node_27_demand', 'node_14_demand', 'node_18_pressure', 'node_31_demand', 'node_23_pressure', 'link_26_flow', 'node_24_pressure', 'node_17_demand', 'node_11_pressure', 'node_12_pressure', 'node_3_demand', 'node_14_pressure', 'node_18_demand', 'link_30_flow', 'node_1_demand', 'node_10_pressure', 'node_2_pressure', 'link_8_flow', 'node_3_pressure', 'node_17_pressure', 'node_15_pressure', 'node_13_pressure', 'node_19_demand', 'node_6_pressure', 'node_20_demand', 'node_24_demand', 'link_16_flow', 'node_5_demand', 'link_21_flow', 'link_17_flow', 'node_9_demand', 'reservoir_pressure', 'node_4_pressure', 'node_4_demand', 'link_14_flow', 'link_24_flow', 'link_11_flow', 'link_1_flow', 'node_25_pressure', 'node_30_pressure', 'node_7_pressure', 'node_15_demand', 'link_20_flow', 'link_5_flow', 'link_23_flow', 'link_4_flow', 'link_9_flow', 'node_21_demand', 'node_7_demand', 'node_29_demand', 'node_20_pressure', 'link_18_flow', 'node_2_demand', 'node_13_demand', 'link_19_flow', 'link_2_flow', 'node_25_demand', 'link_22_flow']]\n",
      "starting df shape: (87600, 27)\n",
      "This is training run 6 and has the shape:  (87600, 27)\n",
      "The value of dropped columns is 70\n"
     ]
    },
    {
     "name": "stderr",
     "output_type": "stream",
     "text": [
      "/Users/alexellard/opt/anaconda3/lib/python3.7/site-packages/xgboost/data.py:96: UserWarning: Use subset (sliced data) of np.ndarray is not recommended because it will generate extra copies and increase memory consumption\n",
      "  \"because it will generate extra copies and increase \" +\n"
     ]
    },
    {
     "name": "stdout",
     "output_type": "stream",
     "text": [
      "test y shape : (17520, 1)\n",
      "Inv y shape : (17520, 27)\n",
      "y pred shape : (17520, 1)\n",
      "inv y pred : (17520, 27)\n",
      "Run 6 Mean Absolute Error: 4.343659672111754\n",
      "RMSE: 6.079\n",
      "R^2: 1.000\n",
      "[['link_23_flow', 'node_25_demand', 'node_4_demand', 'node_15_demand', 'node_25_pressure', 'node_17_demand', 'node_6_demand', 'node_31_demand', 'link_29_flow', 'link_11_flow', 'link_16_flow', 'node_10_pressure', 'node_12_demand', 'node_7_pressure', 'node_23_pressure', 'link_20_flow', 'node_18_demand', 'link_10_flow', 'node_12_pressure', 'link_21_flow', 'node_29_demand', 'node_9_demand', 'node_30_demand', 'node_28_demand', 'link_6_flow', 'node_22_pressure', 'node_26_pressure', 'node_20_demand', 'node_16_pressure', 'node_21_demand', 'node_22_demand', 'node_5_demand', 'node_16_demand', 'link_30_flow', 'node_11_pressure', 'link_32_flow', 'node_1_pressure', 'node_14_pressure', 'node_30_pressure', 'reservoir_demand', 'node_13_demand', 'node_2_pressure', 'link_13_flow', 'node_6_pressure', 'link_15_flow', 'node_8_pressure', 'node_20_pressure', 'node_27_pressure', 'node_11_demand', 'node_18_pressure', 'link_5_flow', 'link_27_flow', 'node_26_demand', 'node_4_pressure', 'node_19_pressure', 'node_2_demand', 'node_17_pressure', 'node_15_pressure', 'node_8_demand', 'node_23_demand', 'node_24_pressure', 'node_13_pressure', 'node_10_demand', 'link_9_flow', 'link_26_flow', 'link_14_flow', 'link_18_flow', 'node_21_pressure', 'link_2_flow']]\n",
      "starting df shape: (87600, 27)\n",
      "This is training run 7 and has the shape:  (87600, 27)\n",
      "The value of dropped columns is 70\n"
     ]
    },
    {
     "name": "stderr",
     "output_type": "stream",
     "text": [
      "/Users/alexellard/opt/anaconda3/lib/python3.7/site-packages/xgboost/data.py:96: UserWarning: Use subset (sliced data) of np.ndarray is not recommended because it will generate extra copies and increase memory consumption\n",
      "  \"because it will generate extra copies and increase \" +\n"
     ]
    },
    {
     "name": "stdout",
     "output_type": "stream",
     "text": [
      "test y shape : (17520, 1)\n",
      "Inv y shape : (17520, 27)\n",
      "y pred shape : (17520, 1)\n",
      "inv y pred : (17520, 27)\n",
      "Run 7 Mean Absolute Error: 0.2490608285023986\n",
      "RMSE: 0.348\n",
      "R^2: 1.000\n",
      "[['link_19_flow', 'link_32_flow', 'link_4_flow', 'node_24_pressure', 'node_19_demand', 'link_10_flow', 'link_25_flow', 'node_28_pressure', 'node_21_pressure', 'link_17_flow', 'node_1_demand', 'link_18_flow', 'node_6_demand', 'node_13_demand', 'link_20_flow', 'node_26_pressure', 'link_14_flow', 'node_7_demand', 'link_12_flow', 'node_23_demand', 'node_30_pressure', 'node_13_pressure', 'node_11_pressure', 'node_26_demand', 'link_16_flow', 'node_31_pressure', 'node_5_demand', 'node_30_demand', 'link_30_flow', 'link_31_flow', 'node_4_pressure', 'node_15_demand', 'node_6_pressure', 'reservoir_demand', 'node_31_demand', 'link_5_flow', 'node_18_demand', 'node_25_pressure', 'node_2_pressure', 'node_3_demand', 'link_6_flow', 'node_16_demand', 'node_2_demand', 'link_8_flow', 'link_2_flow', 'node_3_pressure', 'node_14_demand', 'node_9_pressure', 'link_1_flow', 'link_15_flow', 'node_10_demand', 'link_27_flow', 'node_27_demand', 'node_24_demand', 'node_20_pressure', 'link_22_flow', 'link_28_flow', 'node_14_pressure', 'node_29_demand', 'node_7_pressure', 'node_23_pressure', 'link_7_flow', 'node_5_pressure', 'link_21_flow', 'node_17_pressure', 'link_24_flow', 'node_11_demand', 'node_12_demand', 'link_13_flow']]\n",
      "starting df shape: (87600, 27)\n",
      "This is training run 8 and has the shape:  (87600, 27)\n",
      "The value of dropped columns is 70\n"
     ]
    },
    {
     "name": "stderr",
     "output_type": "stream",
     "text": [
      "/Users/alexellard/opt/anaconda3/lib/python3.7/site-packages/xgboost/data.py:96: UserWarning: Use subset (sliced data) of np.ndarray is not recommended because it will generate extra copies and increase memory consumption\n",
      "  \"because it will generate extra copies and increase \" +\n"
     ]
    },
    {
     "name": "stdout",
     "output_type": "stream",
     "text": [
      "test y shape : (17520, 1)\n",
      "Inv y shape : (17520, 27)\n",
      "y pred shape : (17520, 1)\n",
      "inv y pred : (17520, 27)\n",
      "Run 8 Mean Absolute Error: 0.43376390870290665\n",
      "RMSE: 0.591\n",
      "R^2: 1.000\n",
      "[['node_6_demand', 'link_7_flow', 'node_19_demand', 'node_8_pressure', 'node_2_demand', 'link_15_flow', 'link_6_flow', 'link_17_flow', 'node_15_pressure', 'node_29_demand', 'node_22_demand', 'node_26_demand', 'node_24_demand', 'link_32_flow', 'node_17_demand', 'node_11_demand', 'node_31_pressure', 'node_18_pressure', 'node_31_demand', 'link_4_flow', 'node_17_pressure', 'node_14_pressure', 'link_12_flow', 'link_20_flow', 'node_12_pressure', 'link_19_flow', 'node_16_demand', 'reservoir_demand', 'node_27_demand', 'node_11_pressure', 'node_15_demand', 'reservoir_pressure', 'link_28_flow', 'node_23_demand', 'node_10_demand', 'link_26_flow', 'node_5_pressure', 'link_18_flow', 'node_30_demand', 'node_14_demand', 'node_1_pressure', 'link_21_flow', 'node_18_demand', 'node_5_demand', 'link_3_flow', 'node_22_pressure', 'node_26_pressure', 'node_20_demand', 'node_4_demand', 'link_30_flow', 'link_11_flow', 'link_14_flow', 'node_20_pressure', 'link_29_flow', 'node_8_demand', 'link_2_flow', 'node_7_demand', 'node_21_demand', 'link_16_flow', 'link_23_flow', 'link_22_flow', 'node_19_pressure', 'node_28_demand', 'node_27_pressure', 'link_31_flow', 'link_13_flow', 'link_10_flow', 'link_24_flow', 'node_3_pressure']]\n",
      "starting df shape: (87600, 27)\n",
      "This is training run 9 and has the shape:  (87600, 27)\n",
      "The value of dropped columns is 70\n"
     ]
    },
    {
     "name": "stderr",
     "output_type": "stream",
     "text": [
      "/Users/alexellard/opt/anaconda3/lib/python3.7/site-packages/xgboost/data.py:96: UserWarning: Use subset (sliced data) of np.ndarray is not recommended because it will generate extra copies and increase memory consumption\n",
      "  \"because it will generate extra copies and increase \" +\n"
     ]
    },
    {
     "name": "stdout",
     "output_type": "stream",
     "text": [
      "test y shape : (17520, 1)\n",
      "Inv y shape : (17520, 27)\n",
      "y pred shape : (17520, 1)\n",
      "inv y pred : (17520, 27)\n",
      "Run 9 Mean Absolute Error: 0.21621330923057827\n",
      "RMSE: 0.310\n",
      "R^2: 1.000\n",
      "[['node_23_demand', 'node_27_demand', 'link_5_flow', 'node_3_pressure', 'link_14_flow', 'node_7_pressure', 'node_22_pressure', 'link_28_flow', 'link_2_flow', 'node_7_demand', 'node_25_pressure', 'node_8_demand', 'node_11_pressure', 'link_30_flow', 'node_29_demand', 'node_12_demand', 'node_14_pressure', 'node_15_pressure', 'link_23_flow', 'link_16_flow', 'node_21_demand', 'node_16_pressure', 'link_26_flow', 'node_19_demand', 'node_20_demand', 'node_5_demand', 'link_10_flow', 'node_11_demand', 'link_15_flow', 'node_4_demand', 'node_24_pressure', 'node_28_pressure', 'node_10_pressure', 'link_4_flow', 'node_16_demand', 'node_2_demand', 'node_26_pressure', 'node_15_demand', 'node_13_pressure', 'reservoir_pressure', 'link_25_flow', 'link_18_flow', 'node_9_demand', 'node_12_pressure', 'node_10_demand', 'link_1_flow', 'node_18_pressure', 'node_3_demand', 'node_23_pressure', 'link_3_flow', 'node_26_demand', 'node_30_pressure', 'node_17_pressure', 'node_19_pressure', 'link_12_flow', 'node_13_demand', 'link_17_flow', 'link_8_flow', 'link_29_flow', 'node_1_pressure', 'node_14_demand', 'link_20_flow', 'link_6_flow', 'link_21_flow', 'node_25_demand', 'node_4_pressure', 'node_31_demand', 'node_28_demand', 'node_27_pressure']]\n",
      "starting df shape: (87600, 27)\n",
      "This is training run 10 and has the shape:  (87600, 27)\n",
      "The value of dropped columns is 70\n"
     ]
    },
    {
     "name": "stderr",
     "output_type": "stream",
     "text": [
      "/Users/alexellard/opt/anaconda3/lib/python3.7/site-packages/xgboost/data.py:96: UserWarning: Use subset (sliced data) of np.ndarray is not recommended because it will generate extra copies and increase memory consumption\n",
      "  \"because it will generate extra copies and increase \" +\n"
     ]
    },
    {
     "name": "stdout",
     "output_type": "stream",
     "text": [
      "test y shape : (17520, 1)\n",
      "Inv y shape : (17520, 27)\n",
      "y pred shape : (17520, 1)\n",
      "inv y pred : (17520, 27)\n",
      "Run 10 Mean Absolute Error: 5.035102381287683\n",
      "RMSE: 6.901\n",
      "R^2: 1.000\n",
      "[['link_13_flow', 'node_15_demand', 'link_29_flow', 'link_31_flow', 'link_23_flow', 'link_25_flow', 'reservoir_demand', 'link_7_flow', 'node_22_pressure', 'link_5_flow', 'node_7_pressure', 'node_8_pressure', 'node_12_pressure', 'node_26_pressure', 'node_9_pressure', 'node_16_pressure', 'node_5_demand', 'link_6_flow', 'node_1_pressure', 'node_30_demand', 'node_31_demand', 'node_8_demand', 'node_20_demand', 'node_2_pressure', 'node_18_demand', 'link_17_flow', 'node_10_demand', 'link_15_flow', 'node_18_pressure', 'link_19_flow', 'node_22_demand', 'node_3_pressure', 'link_30_flow', 'link_20_flow', 'link_27_flow', 'link_11_flow', 'node_26_demand', 'link_28_flow', 'node_25_pressure', 'node_23_pressure', 'node_23_demand', 'node_6_demand', 'node_17_demand', 'link_18_flow', 'link_1_flow', 'link_22_flow', 'node_4_pressure', 'link_21_flow', 'node_11_pressure', 'link_26_flow', 'node_28_pressure', 'node_17_pressure', 'link_9_flow', 'node_21_pressure', 'node_14_demand', 'node_9_demand', 'link_32_flow', 'node_20_pressure', 'node_24_pressure', 'node_14_pressure', 'node_11_demand', 'link_2_flow', 'node_12_demand', 'node_4_demand', 'node_1_demand', 'link_24_flow', 'link_12_flow', 'link_8_flow', 'link_10_flow', 'node_28_demand', 'node_25_demand', 'node_21_demand', 'node_10_pressure', 'node_13_pressure']]\n",
      "starting df shape: (87600, 22)\n",
      "This is training run 1 and has the shape:  (87600, 22)\n",
      "The value of dropped columns is 75\n"
     ]
    },
    {
     "name": "stderr",
     "output_type": "stream",
     "text": [
      "/Users/alexellard/opt/anaconda3/lib/python3.7/site-packages/xgboost/data.py:96: UserWarning: Use subset (sliced data) of np.ndarray is not recommended because it will generate extra copies and increase memory consumption\n",
      "  \"because it will generate extra copies and increase \" +\n"
     ]
    },
    {
     "name": "stdout",
     "output_type": "stream",
     "text": [
      "test y shape : (17520, 1)\n",
      "Inv y shape : (17520, 22)\n",
      "y pred shape : (17520, 1)\n",
      "inv y pred : (17520, 22)\n",
      "Run 1 Mean Absolute Error: 0.23818725995130605\n",
      "RMSE: 0.329\n",
      "R^2: 1.000\n",
      "[['link_20_flow', 'node_18_demand', 'link_10_flow', 'node_10_pressure', 'link_21_flow', 'node_9_pressure', 'link_9_flow', 'link_30_flow', 'link_32_flow', 'link_26_flow', 'node_7_pressure', 'node_26_pressure', 'node_15_demand', 'node_2_demand', 'node_3_demand', 'link_14_flow', 'node_28_pressure', 'link_16_flow', 'node_20_pressure', 'reservoir_demand', 'link_3_flow', 'link_15_flow', 'link_17_flow', 'node_7_demand', 'node_2_pressure', 'link_31_flow', 'node_13_demand', 'node_24_demand', 'node_17_demand', 'link_13_flow', 'node_4_pressure', 'node_12_pressure', 'node_4_demand', 'node_5_pressure', 'node_25_demand', 'node_22_pressure', 'node_23_demand', 'reservoir_pressure', 'node_1_demand', 'node_14_demand', 'link_22_flow', 'node_21_demand', 'node_21_pressure', 'node_11_pressure', 'node_10_demand', 'node_14_pressure', 'node_18_pressure', 'link_28_flow', 'node_12_demand', 'node_9_demand', 'node_5_demand', 'node_28_demand', 'node_16_pressure', 'link_25_flow', 'node_13_pressure', 'link_6_flow', 'link_12_flow', 'link_24_flow', 'node_16_demand', 'node_27_demand', 'link_2_flow', 'node_20_demand', 'node_26_demand', 'node_22_demand', 'node_24_pressure', 'node_6_pressure', 'node_6_demand', 'node_11_demand', 'node_23_pressure', 'node_30_pressure', 'node_29_demand', 'link_5_flow', 'link_29_flow', 'node_25_pressure']]\n",
      "starting df shape: (87600, 22)\n",
      "This is training run 2 and has the shape:  (87600, 22)\n",
      "The value of dropped columns is 75\n"
     ]
    },
    {
     "name": "stderr",
     "output_type": "stream",
     "text": [
      "/Users/alexellard/opt/anaconda3/lib/python3.7/site-packages/xgboost/data.py:96: UserWarning: Use subset (sliced data) of np.ndarray is not recommended because it will generate extra copies and increase memory consumption\n",
      "  \"because it will generate extra copies and increase \" +\n"
     ]
    },
    {
     "name": "stdout",
     "output_type": "stream",
     "text": [
      "test y shape : (17520, 1)\n",
      "Inv y shape : (17520, 22)\n",
      "y pred shape : (17520, 1)\n",
      "inv y pred : (17520, 22)\n",
      "Run 2 Mean Absolute Error: 0.20815845738512048\n",
      "RMSE: 0.283\n",
      "R^2: 1.000\n",
      "[['node_6_demand', 'node_11_pressure', 'node_31_demand', 'node_18_demand', 'node_30_demand', 'link_23_flow', 'node_10_demand', 'node_30_pressure', 'node_2_pressure', 'link_26_flow', 'reservoir_pressure', 'node_13_demand', 'node_9_pressure', 'node_8_demand', 'node_31_pressure', 'node_22_pressure', 'node_24_pressure', 'link_9_flow', 'node_13_pressure', 'link_12_flow', 'link_3_flow', 'link_31_flow', 'link_30_flow', 'node_14_pressure', 'link_21_flow', 'link_32_flow', 'node_7_demand', 'link_6_flow', 'link_28_flow', 'reservoir_demand', 'node_1_pressure', 'node_19_demand', 'link_24_flow', 'node_28_demand', 'node_11_demand', 'node_7_pressure', 'node_24_demand', 'link_1_flow', 'link_14_flow', 'node_21_pressure', 'node_21_demand', 'link_5_flow', 'link_25_flow', 'node_20_pressure', 'link_19_flow', 'node_16_pressure', 'link_17_flow', 'node_20_demand', 'node_5_pressure', 'node_12_pressure', 'link_18_flow', 'node_28_pressure', 'node_25_pressure', 'link_27_flow', 'node_23_pressure', 'node_22_demand', 'node_27_demand', 'node_17_pressure', 'node_25_demand', 'node_27_pressure', 'node_12_demand', 'link_7_flow', 'link_20_flow', 'node_23_demand', 'link_22_flow', 'link_29_flow', 'node_2_demand', 'node_19_pressure', 'node_3_demand', 'node_29_demand', 'node_17_demand', 'node_8_pressure', 'node_4_demand', 'link_16_flow']]\n",
      "starting df shape: (87600, 22)\n",
      "This is training run 3 and has the shape:  (87600, 22)\n",
      "The value of dropped columns is 75\n"
     ]
    },
    {
     "name": "stderr",
     "output_type": "stream",
     "text": [
      "/Users/alexellard/opt/anaconda3/lib/python3.7/site-packages/xgboost/data.py:96: UserWarning: Use subset (sliced data) of np.ndarray is not recommended because it will generate extra copies and increase memory consumption\n",
      "  \"because it will generate extra copies and increase \" +\n"
     ]
    },
    {
     "name": "stdout",
     "output_type": "stream",
     "text": [
      "test y shape : (17520, 1)\n",
      "Inv y shape : (17520, 22)\n",
      "y pred shape : (17520, 1)\n",
      "inv y pred : (17520, 22)\n",
      "Run 3 Mean Absolute Error: 0.8937406228463669\n",
      "RMSE: 1.242\n",
      "R^2: 1.000\n",
      "[['node_11_pressure', 'node_21_pressure', 'node_15_pressure', 'node_10_pressure', 'node_29_demand', 'node_6_pressure', 'link_30_flow', 'node_28_demand', 'link_15_flow', 'node_30_demand', 'link_24_flow', 'link_11_flow', 'node_21_demand', 'node_16_demand', 'node_7_demand', 'node_26_pressure', 'link_16_flow', 'node_8_pressure', 'node_3_demand', 'node_18_pressure', 'node_19_pressure', 'node_20_pressure', 'node_5_pressure', 'link_28_flow', 'link_14_flow', 'node_9_pressure', 'node_6_demand', 'link_20_flow', 'link_17_flow', 'link_31_flow', 'link_32_flow', 'node_5_demand', 'link_23_flow', 'node_11_demand', 'link_5_flow', 'node_10_demand', 'node_15_demand', 'link_27_flow', 'link_18_flow', 'link_2_flow', 'node_25_pressure', 'node_28_pressure', 'node_1_demand', 'link_29_flow', 'node_12_demand', 'node_4_pressure', 'node_9_demand', 'node_4_demand', 'link_6_flow', 'node_25_demand', 'link_3_flow', 'node_14_demand', 'node_31_pressure', 'node_3_pressure', 'link_25_flow', 'link_10_flow', 'link_13_flow', 'node_12_pressure', 'node_14_pressure', 'node_27_pressure', 'node_18_demand', 'node_22_demand', 'node_8_demand', 'node_31_demand', 'link_22_flow', 'link_7_flow', 'node_19_demand', 'link_12_flow', 'node_24_demand', 'node_30_pressure', 'link_8_flow', 'reservoir_pressure', 'node_23_demand', 'link_9_flow']]\n",
      "starting df shape: (87600, 22)\n",
      "This is training run 4 and has the shape:  (87600, 22)\n",
      "The value of dropped columns is 75\n"
     ]
    },
    {
     "name": "stderr",
     "output_type": "stream",
     "text": [
      "/Users/alexellard/opt/anaconda3/lib/python3.7/site-packages/xgboost/data.py:96: UserWarning: Use subset (sliced data) of np.ndarray is not recommended because it will generate extra copies and increase memory consumption\n",
      "  \"because it will generate extra copies and increase \" +\n"
     ]
    },
    {
     "name": "stdout",
     "output_type": "stream",
     "text": [
      "test y shape : (17520, 1)\n",
      "Inv y shape : (17520, 22)\n",
      "y pred shape : (17520, 1)\n",
      "inv y pred : (17520, 22)\n",
      "Run 4 Mean Absolute Error: 10.468823530969237\n",
      "RMSE: 14.742\n",
      "R^2: 1.000\n",
      "[['node_15_pressure', 'link_27_flow', 'link_7_flow', 'link_28_flow', 'link_17_flow', 'node_4_pressure', 'node_26_demand', 'node_6_demand', 'node_6_pressure', 'node_30_demand', 'node_2_pressure', 'node_9_demand', 'link_26_flow', 'node_19_pressure', 'node_22_demand', 'node_18_demand', 'link_10_flow', 'link_18_flow', 'link_1_flow', 'node_11_pressure', 'node_17_demand', 'node_1_pressure', 'link_29_flow', 'link_2_flow', 'node_13_demand', 'node_7_demand', 'link_9_flow', 'link_6_flow', 'node_28_demand', 'reservoir_demand', 'node_24_demand', 'link_31_flow', 'node_13_pressure', 'node_14_demand', 'link_24_flow', 'node_10_demand', 'node_20_pressure', 'node_21_pressure', 'link_20_flow', 'node_5_demand', 'link_23_flow', 'link_15_flow', 'node_22_pressure', 'link_30_flow', 'node_15_demand', 'node_12_demand', 'node_4_demand', 'node_25_pressure', 'node_28_pressure', 'node_29_demand', 'link_11_flow', 'node_31_pressure', 'link_14_flow', 'node_8_demand', 'link_8_flow', 'node_23_pressure', 'node_27_pressure', 'node_23_demand', 'node_31_demand', 'link_25_flow', 'node_16_demand', 'node_3_demand', 'link_4_flow', 'node_14_pressure', 'link_12_flow', 'node_16_pressure', 'node_9_pressure', 'link_3_flow', 'node_10_pressure', 'node_30_pressure', 'node_19_demand', 'link_16_flow', 'node_20_demand', 'node_26_pressure', 'link_13_flow']]\n",
      "starting df shape: (87600, 21)\n",
      "This is training run 5 and has the shape:  (87600, 21)\n",
      "The value of dropped columns is 75\n"
     ]
    },
    {
     "name": "stderr",
     "output_type": "stream",
     "text": [
      "/Users/alexellard/opt/anaconda3/lib/python3.7/site-packages/xgboost/data.py:96: UserWarning: Use subset (sliced data) of np.ndarray is not recommended because it will generate extra copies and increase memory consumption\n",
      "  \"because it will generate extra copies and increase \" +\n"
     ]
    },
    {
     "name": "stdout",
     "output_type": "stream",
     "text": [
      "test y shape : (17520, 1)\n",
      "Inv y shape : (17520, 21)\n",
      "y pred shape : (17520, 1)\n",
      "inv y pred : (17520, 21)\n",
      "Run 5 Mean Absolute Error: 0.5418521199074847\n",
      "RMSE: 0.749\n",
      "R^2: 1.000\n",
      "[['node_25_demand', 'link_7_flow', 'node_20_pressure', 'node_19_demand', 'link_32_flow', 'node_1_pressure', 'node_3_pressure', 'node_12_demand', 'node_20_demand', 'node_24_demand', 'node_30_demand', 'node_5_pressure', 'reservoir_demand', 'node_16_demand', 'link_31_flow', 'node_27_demand', 'node_28_demand', 'node_21_pressure', 'node_17_demand', 'node_22_pressure', 'link_21_flow', 'node_25_pressure', 'node_28_pressure', 'link_28_flow', 'node_13_pressure', 'node_23_demand', 'node_1_demand', 'node_4_pressure', 'node_26_pressure', 'node_19_pressure', 'node_9_pressure', 'node_13_demand', 'link_14_flow', 'node_31_pressure', 'node_2_pressure', 'link_15_flow', 'node_31_demand', 'link_10_flow', 'node_16_pressure', 'link_12_flow', 'link_11_flow', 'node_30_pressure', 'link_18_flow', 'node_18_pressure', 'node_7_pressure', 'node_3_demand', 'link_25_flow', 'node_17_pressure', 'node_8_pressure', 'link_6_flow', 'link_30_flow', 'node_27_pressure', 'link_3_flow', 'node_5_demand', 'link_8_flow', 'link_5_flow', 'node_7_demand', 'node_2_demand', 'link_26_flow', 'node_6_pressure', 'node_8_demand', 'link_27_flow', 'node_10_demand', 'node_18_demand', 'node_22_demand', 'node_23_pressure', 'link_29_flow', 'node_11_pressure', 'link_9_flow', 'node_21_demand', 'node_15_demand', 'node_14_pressure', 'link_2_flow', 'link_1_flow']]\n",
      "starting df shape: (87600, 22)\n",
      "This is training run 6 and has the shape:  (87600, 22)\n",
      "The value of dropped columns is 75\n"
     ]
    },
    {
     "name": "stderr",
     "output_type": "stream",
     "text": [
      "/Users/alexellard/opt/anaconda3/lib/python3.7/site-packages/xgboost/data.py:96: UserWarning: Use subset (sliced data) of np.ndarray is not recommended because it will generate extra copies and increase memory consumption\n",
      "  \"because it will generate extra copies and increase \" +\n"
     ]
    },
    {
     "name": "stdout",
     "output_type": "stream",
     "text": [
      "test y shape : (17520, 1)\n",
      "Inv y shape : (17520, 22)\n",
      "y pred shape : (17520, 1)\n",
      "inv y pred : (17520, 22)\n",
      "Run 6 Mean Absolute Error: 0.4622863628623092\n",
      "RMSE: 0.626\n",
      "R^2: 1.000\n",
      "[['node_10_pressure', 'node_21_pressure', 'link_13_flow', 'node_17_pressure', 'link_2_flow', 'node_24_demand', 'link_17_flow', 'link_4_flow', 'node_18_pressure', 'link_32_flow', 'node_4_pressure', 'link_1_flow', 'node_2_pressure', 'node_23_demand', 'node_16_demand', 'node_9_demand', 'node_6_pressure', 'node_30_pressure', 'link_8_flow', 'link_6_flow', 'node_3_demand', 'node_31_demand', 'link_26_flow', 'node_21_demand', 'node_4_demand', 'link_7_flow', 'link_23_flow', 'node_5_pressure', 'node_14_pressure', 'node_5_demand', 'link_21_flow', 'node_26_demand', 'link_28_flow', 'node_31_pressure', 'link_3_flow', 'node_1_demand', 'node_27_pressure', 'link_12_flow', 'link_27_flow', 'link_9_flow', 'node_13_pressure', 'link_29_flow', 'link_31_flow', 'node_18_demand', 'node_25_pressure', 'link_25_flow', 'node_22_pressure', 'link_11_flow', 'node_27_demand', 'link_30_flow', 'node_7_pressure', 'node_16_pressure', 'link_15_flow', 'node_26_pressure', 'link_19_flow', 'node_1_pressure', 'node_3_pressure', 'node_25_demand', 'node_23_pressure', 'node_15_pressure', 'node_11_pressure', 'reservoir_pressure', 'node_14_demand', 'node_11_demand', 'node_22_demand', 'node_12_demand', 'node_8_demand', 'node_2_demand', 'node_9_pressure', 'link_24_flow', 'node_20_demand', 'node_12_pressure', 'node_24_pressure', 'node_7_demand']]\n",
      "starting df shape: (87600, 22)\n",
      "This is training run 7 and has the shape:  (87600, 22)\n",
      "The value of dropped columns is 75\n"
     ]
    },
    {
     "name": "stderr",
     "output_type": "stream",
     "text": [
      "/Users/alexellard/opt/anaconda3/lib/python3.7/site-packages/xgboost/data.py:96: UserWarning: Use subset (sliced data) of np.ndarray is not recommended because it will generate extra copies and increase memory consumption\n",
      "  \"because it will generate extra copies and increase \" +\n"
     ]
    },
    {
     "name": "stdout",
     "output_type": "stream",
     "text": [
      "test y shape : (17520, 1)\n",
      "Inv y shape : (17520, 22)\n",
      "y pred shape : (17520, 1)\n",
      "inv y pred : (17520, 22)\n",
      "Run 7 Mean Absolute Error: 6.6448870286394985\n",
      "RMSE: 9.675\n",
      "R^2: 1.000\n",
      "[['link_6_flow', 'node_4_demand', 'node_7_pressure', 'node_3_demand', 'node_9_demand', 'node_25_pressure', 'link_26_flow', 'node_22_demand', 'node_18_demand', 'node_22_pressure', 'link_27_flow', 'node_10_demand', 'link_15_flow', 'node_3_pressure', 'node_23_pressure', 'node_29_demand', 'node_31_pressure', 'node_11_pressure', 'link_5_flow', 'node_28_demand', 'link_7_flow', 'link_16_flow', 'link_17_flow', 'node_23_demand', 'link_32_flow', 'node_6_pressure', 'node_20_pressure', 'link_3_flow', 'reservoir_pressure', 'node_4_pressure', 'link_1_flow', 'node_19_demand', 'node_21_pressure', 'link_23_flow', 'link_20_flow', 'node_14_pressure', 'link_21_flow', 'node_24_pressure', 'node_28_pressure', 'node_14_demand', 'node_2_pressure', 'node_17_pressure', 'node_15_demand', 'node_5_demand', 'node_27_pressure', 'link_11_flow', 'node_31_demand', 'node_7_demand', 'node_12_pressure', 'node_11_demand', 'link_2_flow', 'link_14_flow', 'link_18_flow', 'link_30_flow', 'link_28_flow', 'node_16_demand', 'link_13_flow', 'node_26_demand', 'node_5_pressure', 'node_24_demand', 'node_26_pressure', 'node_30_pressure', 'node_1_pressure', 'node_1_demand', 'link_19_flow', 'node_15_pressure', 'node_27_demand', 'link_31_flow', 'link_4_flow', 'link_12_flow', 'link_22_flow', 'node_6_demand', 'link_10_flow', 'link_29_flow']]\n",
      "starting df shape: (87600, 22)\n",
      "This is training run 8 and has the shape:  (87600, 22)\n",
      "The value of dropped columns is 75\n"
     ]
    },
    {
     "name": "stderr",
     "output_type": "stream",
     "text": [
      "/Users/alexellard/opt/anaconda3/lib/python3.7/site-packages/xgboost/data.py:96: UserWarning: Use subset (sliced data) of np.ndarray is not recommended because it will generate extra copies and increase memory consumption\n",
      "  \"because it will generate extra copies and increase \" +\n"
     ]
    },
    {
     "name": "stdout",
     "output_type": "stream",
     "text": [
      "test y shape : (17520, 1)\n",
      "Inv y shape : (17520, 22)\n",
      "y pred shape : (17520, 1)\n",
      "inv y pred : (17520, 22)\n",
      "Run 8 Mean Absolute Error: 16.638400440400936\n",
      "RMSE: 22.870\n",
      "R^2: 1.000\n",
      "[['node_18_demand', 'node_27_demand', 'node_1_pressure', 'link_16_flow', 'node_13_pressure', 'link_8_flow', 'link_31_flow', 'link_21_flow', 'reservoir_pressure', 'node_12_demand', 'node_17_pressure', 'node_24_demand', 'reservoir_demand', 'node_11_demand', 'node_3_demand', 'node_2_demand', 'node_17_demand', 'link_32_flow', 'node_16_pressure', 'link_1_flow', 'node_4_demand', 'link_13_flow', 'link_14_flow', 'link_10_flow', 'node_5_pressure', 'node_5_demand', 'node_2_pressure', 'node_18_pressure', 'node_4_pressure', 'link_20_flow', 'link_5_flow', 'node_3_pressure', 'node_23_demand', 'node_15_demand', 'node_22_pressure', 'node_10_pressure', 'link_4_flow', 'node_21_pressure', 'node_25_pressure', 'node_20_demand', 'node_22_demand', 'node_9_pressure', 'node_26_pressure', 'node_19_pressure', 'node_30_demand', 'node_29_demand', 'node_9_demand', 'link_22_flow', 'node_8_pressure', 'node_6_pressure', 'node_27_pressure', 'link_29_flow', 'node_19_demand', 'link_7_flow', 'link_9_flow', 'node_1_demand', 'node_8_demand', 'node_31_demand', 'node_21_demand', 'link_23_flow', 'node_13_demand', 'link_17_flow', 'link_26_flow', 'link_30_flow', 'node_28_demand', 'node_30_pressure', 'link_12_flow', 'link_11_flow', 'node_25_demand', 'node_20_pressure', 'link_19_flow', 'node_14_pressure', 'node_23_pressure', 'link_6_flow']]\n",
      "starting df shape: (87600, 22)\n",
      "This is training run 9 and has the shape:  (87600, 22)\n",
      "The value of dropped columns is 75\n"
     ]
    },
    {
     "name": "stderr",
     "output_type": "stream",
     "text": [
      "/Users/alexellard/opt/anaconda3/lib/python3.7/site-packages/xgboost/data.py:96: UserWarning: Use subset (sliced data) of np.ndarray is not recommended because it will generate extra copies and increase memory consumption\n",
      "  \"because it will generate extra copies and increase \" +\n"
     ]
    },
    {
     "name": "stdout",
     "output_type": "stream",
     "text": [
      "test y shape : (17520, 1)\n",
      "Inv y shape : (17520, 22)\n",
      "y pred shape : (17520, 1)\n",
      "inv y pred : (17520, 22)\n",
      "Run 9 Mean Absolute Error: 0.5285616064668804\n",
      "RMSE: 0.734\n",
      "R^2: 1.000\n",
      "[['node_8_pressure', 'link_4_flow', 'link_10_flow', 'node_28_pressure', 'link_3_flow', 'node_9_demand', 'link_5_flow', 'node_2_demand', 'node_13_pressure', 'node_3_demand', 'node_31_demand', 'node_11_pressure', 'link_7_flow', 'link_8_flow', 'node_24_pressure', 'node_5_demand', 'node_26_pressure', 'link_13_flow', 'node_27_demand', 'node_7_pressure', 'node_17_pressure', 'node_30_demand', 'node_20_demand', 'node_12_pressure', 'link_30_flow', 'link_23_flow', 'node_31_pressure', 'node_14_demand', 'node_12_demand', 'node_15_demand', 'reservoir_demand', 'node_10_pressure', 'link_29_flow', 'link_31_flow', 'node_21_demand', 'node_16_pressure', 'node_30_pressure', 'node_14_pressure', 'node_1_demand', 'link_28_flow', 'link_20_flow', 'node_18_pressure', 'link_17_flow', 'node_6_pressure', 'link_6_flow', 'node_6_demand', 'link_21_flow', 'link_12_flow', 'node_10_demand', 'link_25_flow', 'node_16_demand', 'node_19_demand', 'node_2_pressure', 'link_32_flow', 'node_4_demand', 'node_25_pressure', 'node_28_demand', 'link_14_flow', 'node_22_pressure', 'reservoir_pressure', 'node_9_pressure', 'link_15_flow', 'node_22_demand', 'link_11_flow', 'node_8_demand', 'link_9_flow', 'node_18_demand', 'node_25_demand', 'node_20_pressure', 'node_1_pressure', 'node_23_demand', 'link_27_flow', 'link_22_flow', 'link_19_flow']]\n",
      "starting df shape: (87600, 22)\n",
      "This is training run 10 and has the shape:  (87600, 22)\n",
      "The value of dropped columns is 75\n"
     ]
    },
    {
     "name": "stderr",
     "output_type": "stream",
     "text": [
      "/Users/alexellard/opt/anaconda3/lib/python3.7/site-packages/xgboost/data.py:96: UserWarning: Use subset (sliced data) of np.ndarray is not recommended because it will generate extra copies and increase memory consumption\n",
      "  \"because it will generate extra copies and increase \" +\n"
     ]
    },
    {
     "name": "stdout",
     "output_type": "stream",
     "text": [
      "test y shape : (17520, 1)\n",
      "Inv y shape : (17520, 22)\n",
      "y pred shape : (17520, 1)\n",
      "inv y pred : (17520, 22)\n",
      "Run 10 Mean Absolute Error: 0.3343255443863318\n",
      "RMSE: 0.470\n",
      "R^2: 1.000\n",
      "[['node_3_pressure', 'node_25_demand', 'link_31_flow', 'node_25_pressure', 'node_15_demand', 'link_6_flow', 'link_24_flow', 'node_23_pressure', 'link_28_flow', 'node_24_demand', 'link_20_flow', 'link_25_flow', 'node_30_pressure', 'link_7_flow', 'node_20_pressure', 'link_11_flow', 'link_18_flow', 'node_28_demand', 'link_17_flow', 'link_21_flow', 'link_15_flow', 'node_11_demand', 'link_29_flow', 'node_10_pressure', 'node_9_demand', 'link_19_flow', 'node_6_demand', 'node_27_demand', 'node_6_pressure', 'node_20_demand', 'node_15_pressure', 'node_2_pressure', 'node_17_demand', 'link_26_flow', 'node_1_pressure', 'reservoir_demand', 'node_26_demand', 'node_19_pressure', 'node_14_pressure', 'link_3_flow', 'node_16_demand', 'node_10_demand', 'node_4_demand', 'node_14_demand', 'link_30_flow', 'node_8_pressure', 'node_7_pressure', 'link_27_flow', 'node_18_pressure', 'node_7_demand', 'node_12_demand', 'node_28_pressure', 'node_5_demand', 'node_13_pressure', 'node_23_demand', 'node_31_demand', 'link_16_flow', 'node_17_pressure', 'node_24_pressure', 'node_8_demand', 'reservoir_pressure', 'link_1_flow', 'node_5_pressure', 'link_14_flow', 'node_12_pressure', 'node_18_demand', 'link_2_flow', 'node_11_pressure', 'node_1_demand', 'link_8_flow', 'node_31_pressure', 'node_27_pressure', 'link_12_flow', 'node_3_demand', 'link_23_flow', 'link_22_flow', 'node_29_demand', 'link_10_flow', 'node_21_pressure']]\n",
      "starting df shape: (87600, 17)\n",
      "This is training run 1 and has the shape:  (87600, 17)\n",
      "The value of dropped columns is 80\n"
     ]
    },
    {
     "name": "stderr",
     "output_type": "stream",
     "text": [
      "/Users/alexellard/opt/anaconda3/lib/python3.7/site-packages/xgboost/data.py:96: UserWarning: Use subset (sliced data) of np.ndarray is not recommended because it will generate extra copies and increase memory consumption\n",
      "  \"because it will generate extra copies and increase \" +\n"
     ]
    },
    {
     "name": "stdout",
     "output_type": "stream",
     "text": [
      "test y shape : (17520, 1)\n",
      "Inv y shape : (17520, 17)\n",
      "y pred shape : (17520, 1)\n",
      "inv y pred : (17520, 17)\n",
      "Run 1 Mean Absolute Error: 0.5075928563080736\n",
      "RMSE: 0.689\n",
      "R^2: 1.000\n",
      "[['node_17_pressure', 'link_29_flow', 'node_2_pressure', 'node_8_pressure', 'node_26_pressure', 'node_27_pressure', 'node_31_pressure', 'link_22_flow', 'node_15_pressure', 'link_32_flow', 'node_18_pressure', 'link_6_flow', 'link_17_flow', 'node_16_demand', 'node_15_demand', 'link_12_flow', 'node_30_pressure', 'node_30_demand', 'node_8_demand', 'node_2_demand', 'node_22_pressure', 'link_19_flow', 'link_4_flow', 'node_28_demand', 'node_14_demand', 'node_26_demand', 'link_10_flow', 'node_12_demand', 'node_5_pressure', 'link_8_flow', 'node_4_demand', 'node_10_pressure', 'node_3_pressure', 'link_27_flow', 'link_31_flow', 'link_24_flow', 'link_28_flow', 'link_18_flow', 'node_3_demand', 'link_14_flow', 'node_23_pressure', 'node_6_demand', 'link_16_flow', 'node_14_pressure', 'node_18_demand', 'node_12_pressure', 'node_20_pressure', 'link_9_flow', 'link_3_flow', 'link_5_flow', 'node_4_pressure', 'link_30_flow', 'node_16_pressure', 'reservoir_demand', 'link_26_flow', 'node_7_demand', 'link_13_flow', 'link_25_flow', 'node_13_demand', 'link_2_flow', 'node_29_demand', 'node_6_pressure', 'node_24_demand', 'node_24_pressure', 'node_13_pressure', 'node_11_pressure', 'node_17_demand', 'link_23_flow', 'node_31_demand', 'reservoir_pressure', 'link_15_flow', 'node_23_demand', 'node_10_demand', 'node_9_demand', 'node_21_pressure', 'node_25_pressure', 'node_1_pressure', 'node_5_demand', 'node_21_demand']]\n",
      "starting df shape: (87600, 17)\n",
      "This is training run 2 and has the shape:  (87600, 17)\n",
      "The value of dropped columns is 80\n"
     ]
    },
    {
     "name": "stderr",
     "output_type": "stream",
     "text": [
      "/Users/alexellard/opt/anaconda3/lib/python3.7/site-packages/xgboost/data.py:96: UserWarning: Use subset (sliced data) of np.ndarray is not recommended because it will generate extra copies and increase memory consumption\n",
      "  \"because it will generate extra copies and increase \" +\n"
     ]
    },
    {
     "name": "stdout",
     "output_type": "stream",
     "text": [
      "test y shape : (17520, 1)\n",
      "Inv y shape : (17520, 17)\n",
      "y pred shape : (17520, 1)\n",
      "inv y pred : (17520, 17)\n",
      "Run 2 Mean Absolute Error: 0.46455436054616217\n",
      "RMSE: 0.692\n",
      "R^2: 1.000\n",
      "[['reservoir_demand', 'node_2_demand', 'link_25_flow', 'link_10_flow', 'link_28_flow', 'node_28_demand', 'node_1_pressure', 'link_2_flow', 'node_8_pressure', 'node_20_demand', 'node_4_pressure', 'node_5_pressure', 'link_12_flow', 'node_22_pressure', 'link_14_flow', 'node_11_demand', 'link_9_flow', 'node_30_pressure', 'link_7_flow', 'link_13_flow', 'node_21_pressure', 'node_29_demand', 'node_6_pressure', 'node_7_pressure', 'link_22_flow', 'node_12_demand', 'node_8_demand', 'link_16_flow', 'node_17_demand', 'node_30_demand', 'link_31_flow', 'link_21_flow', 'node_31_demand', 'link_6_flow', 'node_26_demand', 'node_15_pressure', 'link_20_flow', 'node_19_pressure', 'node_5_demand', 'link_27_flow', 'node_27_demand', 'link_4_flow', 'node_4_demand', 'node_13_pressure', 'node_6_demand', 'link_24_flow', 'node_13_demand', 'node_10_pressure', 'link_30_flow', 'node_9_demand', 'link_1_flow', 'link_29_flow', 'node_23_pressure', 'node_16_pressure', 'node_11_pressure', 'node_3_pressure', 'node_14_pressure', 'link_15_flow', 'node_18_pressure', 'node_21_demand', 'node_15_demand', 'link_17_flow', 'node_16_demand', 'node_27_pressure', 'node_18_demand', 'node_24_pressure', 'link_8_flow', 'link_3_flow', 'node_1_demand', 'node_26_pressure', 'node_3_demand', 'node_22_demand', 'link_11_flow', 'reservoir_pressure', 'link_18_flow', 'node_31_pressure', 'node_19_demand', 'node_25_demand', 'node_17_pressure']]\n",
      "starting df shape: (87600, 17)\n",
      "This is training run 3 and has the shape:  (87600, 17)\n",
      "The value of dropped columns is 80\n"
     ]
    },
    {
     "name": "stderr",
     "output_type": "stream",
     "text": [
      "/Users/alexellard/opt/anaconda3/lib/python3.7/site-packages/xgboost/data.py:96: UserWarning: Use subset (sliced data) of np.ndarray is not recommended because it will generate extra copies and increase memory consumption\n",
      "  \"because it will generate extra copies and increase \" +\n"
     ]
    },
    {
     "name": "stdout",
     "output_type": "stream",
     "text": [
      "test y shape : (17520, 1)\n",
      "Inv y shape : (17520, 17)\n",
      "y pred shape : (17520, 1)\n",
      "inv y pred : (17520, 17)\n",
      "Run 3 Mean Absolute Error: 0.20651140856657957\n",
      "RMSE: 0.294\n",
      "R^2: 1.000\n",
      "[['node_12_demand', 'link_23_flow', 'node_31_pressure', 'link_21_flow', 'node_13_pressure', 'link_11_flow', 'node_10_pressure', 'link_3_flow', 'node_8_demand', 'node_26_pressure', 'node_11_pressure', 'node_8_pressure', 'link_22_flow', 'node_27_demand', 'node_24_demand', 'link_20_flow', 'node_20_demand', 'node_16_demand', 'node_3_pressure', 'node_13_demand', 'link_30_flow', 'node_9_demand', 'link_14_flow', 'node_23_pressure', 'link_13_flow', 'link_2_flow', 'node_2_pressure', 'node_6_pressure', 'node_27_pressure', 'node_16_pressure', 'link_12_flow', 'node_23_demand', 'node_18_demand', 'node_7_demand', 'link_10_flow', 'node_21_demand', 'reservoir_demand', 'link_9_flow', 'node_3_demand', 'node_21_pressure', 'node_17_demand', 'link_29_flow', 'node_10_demand', 'node_28_demand', 'node_6_demand', 'link_32_flow', 'link_6_flow', 'node_5_pressure', 'link_17_flow', 'node_28_pressure', 'node_9_pressure', 'link_31_flow', 'link_26_flow', 'node_1_demand', 'node_30_demand', 'node_15_pressure', 'node_5_demand', 'link_28_flow', 'node_25_demand', 'link_19_flow', 'link_24_flow', 'node_31_demand', 'node_18_pressure', 'link_1_flow', 'node_7_pressure', 'node_17_pressure', 'node_25_pressure', 'node_11_demand', 'node_24_pressure', 'node_1_pressure', 'node_14_pressure', 'link_7_flow', 'node_19_pressure', 'node_22_pressure', 'node_20_pressure', 'link_25_flow', 'link_16_flow', 'node_14_demand', 'node_19_demand']]\n",
      "starting df shape: (87600, 17)\n",
      "This is training run 4 and has the shape:  (87600, 17)\n",
      "The value of dropped columns is 80\n"
     ]
    },
    {
     "name": "stderr",
     "output_type": "stream",
     "text": [
      "/Users/alexellard/opt/anaconda3/lib/python3.7/site-packages/xgboost/data.py:96: UserWarning: Use subset (sliced data) of np.ndarray is not recommended because it will generate extra copies and increase memory consumption\n",
      "  \"because it will generate extra copies and increase \" +\n"
     ]
    },
    {
     "name": "stdout",
     "output_type": "stream",
     "text": [
      "test y shape : (17520, 1)\n",
      "Inv y shape : (17520, 17)\n",
      "y pred shape : (17520, 1)\n",
      "inv y pred : (17520, 17)\n",
      "Run 4 Mean Absolute Error: 0.4094363514813677\n",
      "RMSE: 0.575\n",
      "R^2: 1.000\n",
      "[['link_19_flow', 'link_22_flow', 'link_29_flow', 'node_23_pressure', 'node_4_demand', 'link_9_flow', 'node_15_demand', 'link_21_flow', 'node_3_demand', 'node_24_demand', 'node_13_pressure', 'node_11_pressure', 'node_25_pressure', 'node_27_pressure', 'node_22_demand', 'node_31_pressure', 'link_4_flow', 'node_20_demand', 'node_12_pressure', 'link_11_flow', 'link_26_flow', 'node_14_demand', 'node_8_pressure', 'node_29_demand', 'node_24_pressure', 'link_15_flow', 'node_21_demand', 'node_27_demand', 'reservoir_pressure', 'node_10_pressure', 'link_6_flow', 'link_27_flow', 'node_11_demand', 'node_22_pressure', 'node_30_pressure', 'link_3_flow', 'node_2_demand', 'link_1_flow', 'node_20_pressure', 'node_28_demand', 'node_6_demand', 'link_28_flow', 'node_31_demand', 'link_8_flow', 'node_8_demand', 'node_13_demand', 'link_13_flow', 'link_17_flow', 'link_12_flow', 'node_5_pressure', 'link_2_flow', 'node_19_pressure', 'node_21_pressure', 'node_18_demand', 'node_15_pressure', 'node_26_demand', 'node_9_demand', 'link_10_flow', 'link_32_flow', 'link_30_flow', 'node_7_demand', 'node_7_pressure', 'node_2_pressure', 'node_30_demand', 'node_10_demand', 'link_23_flow', 'node_28_pressure', 'link_5_flow', 'node_25_demand', 'link_20_flow', 'link_25_flow', 'node_26_pressure', 'node_17_demand', 'node_23_demand', 'node_17_pressure', 'node_1_demand', 'link_24_flow', 'node_19_demand', 'node_18_pressure']]\n",
      "starting df shape: (87600, 17)\n",
      "This is training run 5 and has the shape:  (87600, 17)\n",
      "The value of dropped columns is 80\n"
     ]
    },
    {
     "name": "stderr",
     "output_type": "stream",
     "text": [
      "/Users/alexellard/opt/anaconda3/lib/python3.7/site-packages/xgboost/data.py:96: UserWarning: Use subset (sliced data) of np.ndarray is not recommended because it will generate extra copies and increase memory consumption\n",
      "  \"because it will generate extra copies and increase \" +\n"
     ]
    },
    {
     "name": "stdout",
     "output_type": "stream",
     "text": [
      "test y shape : (17520, 1)\n",
      "Inv y shape : (17520, 17)\n",
      "y pred shape : (17520, 1)\n",
      "inv y pred : (17520, 17)\n",
      "Run 5 Mean Absolute Error: 17.305063969629906\n",
      "RMSE: 23.514\n",
      "R^2: 1.000\n",
      "[['node_7_demand', 'link_15_flow', 'link_10_flow', 'node_22_demand', 'node_3_pressure', 'node_21_pressure', 'link_25_flow', 'link_8_flow', 'node_27_pressure', 'link_28_flow', 'node_4_pressure', 'node_5_pressure', 'node_27_demand', 'node_12_demand', 'node_23_demand', 'link_22_flow', 'link_11_flow', 'node_1_demand', 'node_23_pressure', 'link_4_flow', 'node_25_pressure', 'link_30_flow', 'reservoir_pressure', 'node_12_pressure', 'link_27_flow', 'node_20_pressure', 'link_31_flow', 'node_14_demand', 'node_19_pressure', 'node_9_pressure', 'link_12_flow', 'node_4_demand', 'link_18_flow', 'node_1_pressure', 'link_19_flow', 'link_13_flow', 'node_21_demand', 'link_9_flow', 'link_23_flow', 'node_3_demand', 'node_26_demand', 'link_2_flow', 'link_6_flow', 'node_8_demand', 'node_7_pressure', 'node_6_demand', 'node_26_pressure', 'node_29_demand', 'node_15_demand', 'link_24_flow', 'node_5_demand', 'node_18_demand', 'node_10_pressure', 'link_7_flow', 'node_31_demand', 'link_1_flow', 'link_5_flow', 'link_3_flow', 'node_11_pressure', 'node_2_demand', 'node_16_pressure', 'node_16_demand', 'node_2_pressure', 'node_30_demand', 'node_6_pressure', 'node_13_demand', 'link_32_flow', 'node_25_demand', 'node_15_pressure', 'link_26_flow', 'reservoir_demand', 'link_29_flow', 'node_24_demand', 'link_21_flow', 'node_24_pressure', 'node_28_pressure', 'node_28_demand', 'node_17_pressure', 'node_11_demand']]\n",
      "starting df shape: (87600, 17)\n",
      "This is training run 6 and has the shape:  (87600, 17)\n",
      "The value of dropped columns is 80\n"
     ]
    },
    {
     "name": "stderr",
     "output_type": "stream",
     "text": [
      "/Users/alexellard/opt/anaconda3/lib/python3.7/site-packages/xgboost/data.py:96: UserWarning: Use subset (sliced data) of np.ndarray is not recommended because it will generate extra copies and increase memory consumption\n",
      "  \"because it will generate extra copies and increase \" +\n"
     ]
    },
    {
     "name": "stdout",
     "output_type": "stream",
     "text": [
      "test y shape : (17520, 1)\n",
      "Inv y shape : (17520, 17)\n",
      "y pred shape : (17520, 1)\n",
      "inv y pred : (17520, 17)\n",
      "Run 6 Mean Absolute Error: 0.13165381179304603\n",
      "RMSE: 0.183\n",
      "R^2: 1.000\n",
      "[['link_15_flow', 'node_18_pressure', 'node_6_pressure', 'node_20_pressure', 'link_31_flow', 'node_14_demand', 'node_30_pressure', 'link_14_flow', 'link_12_flow', 'node_3_demand', 'node_7_demand', 'node_2_pressure', 'link_8_flow', 'link_9_flow', 'node_21_pressure', 'node_10_pressure', 'node_8_pressure', 'node_21_demand', 'node_18_demand', 'link_20_flow', 'link_4_flow', 'link_13_flow', 'node_23_pressure', 'node_30_demand', 'link_28_flow', 'link_32_flow', 'node_5_pressure', 'link_2_flow', 'node_13_pressure', 'link_25_flow', 'node_5_demand', 'node_17_demand', 'link_11_flow', 'node_4_demand', 'node_31_pressure', 'node_14_pressure', 'node_10_demand', 'node_17_pressure', 'node_15_demand', 'link_5_flow', 'node_27_pressure', 'node_1_pressure', 'link_7_flow', 'node_19_demand', 'node_16_pressure', 'reservoir_demand', 'link_3_flow', 'node_8_demand', 'node_13_demand', 'link_18_flow', 'node_28_demand', 'node_16_demand', 'node_9_demand', 'link_24_flow', 'link_26_flow', 'node_25_pressure', 'link_30_flow', 'link_29_flow', 'link_22_flow', 'node_26_pressure', 'node_2_demand', 'node_24_demand', 'node_11_demand', 'link_23_flow', 'link_19_flow', 'link_16_flow', 'node_20_demand', 'link_21_flow', 'node_28_pressure', 'node_25_demand', 'link_27_flow', 'node_23_demand', 'node_15_pressure', 'node_7_pressure', 'node_4_pressure', 'node_11_pressure', 'node_12_demand', 'node_26_demand', 'link_1_flow']]\n",
      "starting df shape: (87600, 17)\n",
      "This is training run 7 and has the shape:  (87600, 17)\n",
      "The value of dropped columns is 80\n"
     ]
    },
    {
     "name": "stderr",
     "output_type": "stream",
     "text": [
      "/Users/alexellard/opt/anaconda3/lib/python3.7/site-packages/xgboost/data.py:96: UserWarning: Use subset (sliced data) of np.ndarray is not recommended because it will generate extra copies and increase memory consumption\n",
      "  \"because it will generate extra copies and increase \" +\n"
     ]
    },
    {
     "name": "stdout",
     "output_type": "stream",
     "text": [
      "test y shape : (17520, 1)\n",
      "Inv y shape : (17520, 17)\n",
      "y pred shape : (17520, 1)\n",
      "inv y pred : (17520, 17)\n",
      "Run 7 Mean Absolute Error: 0.5423905311454185\n",
      "RMSE: 0.775\n",
      "R^2: 1.000\n",
      "[['node_25_pressure', 'node_20_demand', 'node_14_pressure', 'node_28_pressure', 'node_15_pressure', 'link_11_flow', 'node_16_demand', 'node_21_pressure', 'node_8_demand', 'node_19_demand', 'node_22_pressure', 'link_10_flow', 'node_3_demand', 'link_29_flow', 'node_6_pressure', 'node_13_pressure', 'node_6_demand', 'link_4_flow', 'link_24_flow', 'node_30_demand', 'node_14_demand', 'node_31_pressure', 'node_22_demand', 'link_3_flow', 'node_15_demand', 'node_27_demand', 'node_3_pressure', 'link_22_flow', 'node_8_pressure', 'node_1_demand', 'link_31_flow', 'node_24_demand', 'node_2_pressure', 'link_30_flow', 'link_1_flow', 'node_10_pressure', 'node_13_demand', 'link_15_flow', 'node_30_pressure', 'link_9_flow', 'node_5_pressure', 'link_27_flow', 'node_18_demand', 'link_20_flow', 'node_26_pressure', 'link_32_flow', 'node_28_demand', 'node_16_pressure', 'node_5_demand', 'link_17_flow', 'link_18_flow', 'link_26_flow', 'link_25_flow', 'node_20_pressure', 'node_23_demand', 'node_9_pressure', 'node_26_demand', 'link_6_flow', 'link_19_flow', 'link_8_flow', 'node_11_demand', 'node_25_demand', 'node_12_pressure', 'node_7_pressure', 'node_10_demand', 'node_12_demand', 'link_21_flow', 'node_7_demand', 'link_14_flow', 'node_19_pressure', 'node_21_demand', 'node_17_demand', 'node_27_pressure', 'link_2_flow', 'node_4_demand', 'link_13_flow', 'node_24_pressure', 'link_28_flow', 'node_31_demand']]\n",
      "starting df shape: (87600, 17)\n",
      "This is training run 8 and has the shape:  (87600, 17)\n",
      "The value of dropped columns is 80\n"
     ]
    },
    {
     "name": "stderr",
     "output_type": "stream",
     "text": [
      "/Users/alexellard/opt/anaconda3/lib/python3.7/site-packages/xgboost/data.py:96: UserWarning: Use subset (sliced data) of np.ndarray is not recommended because it will generate extra copies and increase memory consumption\n",
      "  \"because it will generate extra copies and increase \" +\n"
     ]
    },
    {
     "name": "stdout",
     "output_type": "stream",
     "text": [
      "test y shape : (17520, 1)\n",
      "Inv y shape : (17520, 17)\n",
      "y pred shape : (17520, 1)\n",
      "inv y pred : (17520, 17)\n",
      "Run 8 Mean Absolute Error: 10.96884898656948\n",
      "RMSE: 14.922\n",
      "R^2: 1.000\n",
      "[['node_22_demand', 'link_9_flow', 'node_10_pressure', 'node_25_demand', 'node_12_pressure', 'node_27_pressure', 'node_22_pressure', 'link_29_flow', 'link_25_flow', 'node_20_demand', 'link_2_flow', 'node_23_demand', 'node_16_pressure', 'node_12_demand', 'link_10_flow', 'reservoir_demand', 'node_4_pressure', 'node_7_pressure', 'link_8_flow', 'link_4_flow', 'link_3_flow', 'node_14_pressure', 'node_25_pressure', 'node_2_demand', 'link_12_flow', 'node_2_pressure', 'link_13_flow', 'node_5_pressure', 'node_1_pressure', 'link_31_flow', 'node_9_pressure', 'node_18_demand', 'node_15_demand', 'node_8_demand', 'node_19_demand', 'link_6_flow', 'node_24_pressure', 'node_28_pressure', 'link_28_flow', 'node_23_pressure', 'node_31_pressure', 'node_9_demand', 'node_17_demand', 'link_1_flow', 'link_11_flow', 'node_3_pressure', 'reservoir_pressure', 'node_8_pressure', 'link_22_flow', 'node_14_demand', 'link_19_flow', 'link_7_flow', 'node_31_demand', 'node_26_demand', 'link_20_flow', 'link_5_flow', 'node_17_pressure', 'node_21_demand', 'node_7_demand', 'link_18_flow', 'link_24_flow', 'node_5_demand', 'node_30_demand', 'node_20_pressure', 'node_30_pressure', 'link_27_flow', 'node_4_demand', 'node_24_demand', 'node_28_demand', 'link_30_flow', 'node_13_demand', 'node_13_pressure', 'node_16_demand', 'node_21_pressure', 'node_19_pressure', 'node_27_demand', 'link_26_flow', 'link_23_flow', 'node_11_pressure']]\n",
      "starting df shape: (87600, 17)\n",
      "This is training run 9 and has the shape:  (87600, 17)\n",
      "The value of dropped columns is 80\n"
     ]
    },
    {
     "name": "stderr",
     "output_type": "stream",
     "text": [
      "/Users/alexellard/opt/anaconda3/lib/python3.7/site-packages/xgboost/data.py:96: UserWarning: Use subset (sliced data) of np.ndarray is not recommended because it will generate extra copies and increase memory consumption\n",
      "  \"because it will generate extra copies and increase \" +\n"
     ]
    },
    {
     "name": "stdout",
     "output_type": "stream",
     "text": [
      "test y shape : (17520, 1)\n",
      "Inv y shape : (17520, 17)\n",
      "y pred shape : (17520, 1)\n",
      "inv y pred : (17520, 17)\n",
      "Run 9 Mean Absolute Error: 0.6093329627991582\n",
      "RMSE: 0.828\n",
      "R^2: 1.000\n",
      "[['link_6_flow', 'link_24_flow', 'node_12_demand', 'node_21_demand', 'node_3_demand', 'node_14_pressure', 'node_12_pressure', 'link_21_flow', 'link_5_flow', 'node_28_demand', 'node_5_pressure', 'link_2_flow', 'link_12_flow', 'link_16_flow', 'node_7_demand', 'link_13_flow', 'node_18_demand', 'node_21_pressure', 'node_8_demand', 'node_8_pressure', 'node_27_pressure', 'link_8_flow', 'node_13_demand', 'link_25_flow', 'node_22_pressure', 'node_3_pressure', 'node_1_pressure', 'link_32_flow', 'node_27_demand', 'node_25_pressure', 'node_28_pressure', 'node_16_demand', 'link_22_flow', 'node_9_pressure', 'link_15_flow', 'node_19_demand', 'reservoir_demand', 'node_9_demand', 'node_7_pressure', 'node_6_pressure', 'link_29_flow', 'node_30_demand', 'link_19_flow', 'node_14_demand', 'node_26_pressure', 'link_10_flow', 'link_14_flow', 'reservoir_pressure', 'node_23_pressure', 'node_22_demand', 'link_4_flow', 'link_26_flow', 'node_11_demand', 'node_20_demand', 'node_18_pressure', 'node_2_pressure', 'node_13_pressure', 'link_7_flow', 'node_26_demand', 'link_11_flow', 'node_25_demand', 'link_28_flow', 'node_17_demand', 'link_27_flow', 'node_4_demand', 'node_17_pressure', 'link_18_flow', 'node_1_demand', 'link_17_flow', 'node_24_demand', 'node_15_demand', 'node_15_pressure', 'node_23_demand', 'node_19_pressure', 'node_10_demand', 'link_20_flow', 'node_4_pressure', 'node_20_pressure', 'link_1_flow']]\n",
      "starting df shape: (87600, 17)\n",
      "This is training run 10 and has the shape:  (87600, 17)\n",
      "The value of dropped columns is 80\n"
     ]
    },
    {
     "name": "stderr",
     "output_type": "stream",
     "text": [
      "/Users/alexellard/opt/anaconda3/lib/python3.7/site-packages/xgboost/data.py:96: UserWarning: Use subset (sliced data) of np.ndarray is not recommended because it will generate extra copies and increase memory consumption\n",
      "  \"because it will generate extra copies and increase \" +\n"
     ]
    },
    {
     "name": "stdout",
     "output_type": "stream",
     "text": [
      "test y shape : (17520, 1)\n",
      "Inv y shape : (17520, 17)\n",
      "y pred shape : (17520, 1)\n",
      "inv y pred : (17520, 17)\n",
      "Run 10 Mean Absolute Error: 0.16391883583131803\n",
      "RMSE: 0.232\n",
      "R^2: 1.000\n",
      "[['node_21_pressure', 'link_28_flow', 'node_25_pressure', 'node_23_demand', 'node_8_demand', 'link_24_flow', 'node_2_demand', 'node_15_demand', 'link_31_flow', 'node_3_demand', 'node_29_demand', 'node_16_demand', 'node_30_pressure', 'node_14_demand', 'node_20_demand', 'node_9_demand', 'node_13_pressure', 'node_11_pressure', 'node_4_pressure', 'link_29_flow', 'link_8_flow', 'link_1_flow', 'node_18_demand', 'link_2_flow', 'link_5_flow', 'node_5_pressure', 'node_31_demand', 'node_19_demand', 'node_24_pressure', 'link_3_flow', 'link_16_flow', 'link_22_flow', 'link_25_flow', 'link_4_flow', 'node_19_pressure', 'link_13_flow', 'node_20_pressure', 'node_26_pressure', 'node_17_pressure', 'node_22_pressure', 'link_7_flow', 'link_10_flow', 'node_3_pressure', 'link_32_flow', 'node_5_demand', 'link_19_flow', 'reservoir_pressure', 'node_25_demand', 'node_10_demand', 'node_15_pressure', 'node_30_demand', 'node_12_pressure', 'node_9_pressure', 'node_23_pressure', 'node_2_pressure', 'node_28_demand', 'node_27_pressure', 'node_24_demand', 'node_28_pressure', 'node_8_pressure', 'link_11_flow', 'node_26_demand', 'link_6_flow', 'node_16_pressure', 'link_17_flow', 'node_6_pressure', 'node_14_pressure', 'link_12_flow', 'link_18_flow', 'node_11_demand', 'node_27_demand', 'node_13_demand', 'link_14_flow', 'link_26_flow', 'node_31_pressure', 'node_1_pressure', 'node_22_demand', 'node_18_pressure', 'node_1_demand', 'link_9_flow', 'link_30_flow', 'link_21_flow', 'reservoir_demand', 'node_4_demand']]\n",
      "starting df shape: (87600, 12)\n",
      "This is training run 1 and has the shape:  (87600, 12)\n",
      "The value of dropped columns is 85\n"
     ]
    },
    {
     "name": "stderr",
     "output_type": "stream",
     "text": [
      "/Users/alexellard/opt/anaconda3/lib/python3.7/site-packages/xgboost/data.py:96: UserWarning: Use subset (sliced data) of np.ndarray is not recommended because it will generate extra copies and increase memory consumption\n",
      "  \"because it will generate extra copies and increase \" +\n"
     ]
    },
    {
     "name": "stdout",
     "output_type": "stream",
     "text": [
      "test y shape : (17520, 1)\n",
      "Inv y shape : (17520, 12)\n",
      "y pred shape : (17520, 1)\n",
      "inv y pred : (17520, 12)\n",
      "Run 1 Mean Absolute Error: 3.162997471374719\n",
      "RMSE: 4.864\n",
      "R^2: 0.998\n",
      "[['node_12_pressure', 'node_2_demand', 'node_7_demand', 'link_29_flow', 'node_29_demand', 'node_18_demand', 'link_5_flow', 'node_27_pressure', 'link_30_flow', 'node_8_pressure', 'node_8_demand', 'node_21_pressure', 'node_5_demand', 'link_24_flow', 'node_23_pressure', 'node_28_demand', 'link_10_flow', 'link_17_flow', 'link_18_flow', 'node_16_demand', 'link_28_flow', 'node_22_pressure', 'node_14_demand', 'link_32_flow', 'node_16_pressure', 'link_26_flow', 'node_6_demand', 'link_8_flow', 'node_2_pressure', 'node_22_demand', 'link_3_flow', 'node_12_demand', 'link_31_flow', 'link_12_flow', 'node_25_pressure', 'link_19_flow', 'node_7_pressure', 'node_6_pressure', 'node_14_pressure', 'node_24_demand', 'node_26_pressure', 'link_16_flow', 'link_15_flow', 'link_23_flow', 'node_18_pressure', 'node_13_pressure', 'node_11_pressure', 'node_17_pressure', 'node_31_demand', 'node_20_demand', 'node_26_demand', 'node_15_pressure', 'node_10_pressure', 'node_27_demand', 'node_30_pressure', 'node_19_demand', 'node_28_pressure', 'link_25_flow', 'node_9_pressure', 'node_5_pressure', 'link_2_flow', 'node_23_demand', 'reservoir_demand', 'node_11_demand', 'node_4_pressure', 'node_31_pressure', 'node_1_pressure', 'link_4_flow', 'link_6_flow', 'node_4_demand', 'node_19_pressure', 'node_30_demand', 'link_7_flow', 'node_10_demand', 'link_14_flow', 'link_1_flow', 'node_21_demand', 'link_21_flow', 'node_9_demand', 'node_3_pressure', 'node_1_demand', 'node_20_pressure', 'link_20_flow', 'node_24_pressure', 'link_27_flow']]\n",
      "starting df shape: (87600, 11)\n",
      "This is training run 2 and has the shape:  (87600, 11)\n",
      "The value of dropped columns is 85\n"
     ]
    },
    {
     "name": "stderr",
     "output_type": "stream",
     "text": [
      "/Users/alexellard/opt/anaconda3/lib/python3.7/site-packages/xgboost/data.py:96: UserWarning: Use subset (sliced data) of np.ndarray is not recommended because it will generate extra copies and increase memory consumption\n",
      "  \"because it will generate extra copies and increase \" +\n"
     ]
    },
    {
     "name": "stdout",
     "output_type": "stream",
     "text": [
      "test y shape : (17520, 1)\n",
      "Inv y shape : (17520, 11)\n",
      "y pred shape : (17520, 1)\n",
      "inv y pred : (17520, 11)\n",
      "Run 2 Mean Absolute Error: 0.7077332527326508\n",
      "RMSE: 1.113\n",
      "R^2: 0.989\n",
      "[['node_9_pressure', 'node_14_pressure', 'link_8_flow', 'node_15_pressure', 'link_24_flow', 'link_3_flow', 'link_11_flow', 'link_31_flow', 'link_21_flow', 'node_8_pressure', 'node_2_demand', 'link_14_flow', 'link_15_flow', 'node_23_pressure', 'node_18_demand', 'node_21_pressure', 'node_4_demand', 'node_1_demand', 'node_3_demand', 'link_29_flow', 'link_28_flow', 'node_20_demand', 'node_22_pressure', 'node_11_demand', 'node_1_pressure', 'node_28_pressure', 'node_17_demand', 'node_12_demand', 'link_19_flow', 'node_19_demand', 'link_6_flow', 'node_8_demand', 'node_13_pressure', 'node_22_demand', 'node_10_pressure', 'link_30_flow', 'link_22_flow', 'link_13_flow', 'node_26_demand', 'link_25_flow', 'node_2_pressure', 'link_1_flow', 'link_26_flow', 'link_16_flow', 'link_12_flow', 'node_18_pressure', 'node_30_demand', 'link_20_flow', 'link_10_flow', 'link_17_flow', 'link_5_flow', 'reservoir_pressure', 'node_5_demand', 'node_16_pressure', 'node_9_demand', 'node_25_pressure', 'link_23_flow', 'node_6_pressure', 'node_26_pressure', 'node_30_pressure', 'node_11_pressure', 'link_9_flow', 'link_4_flow', 'node_12_pressure', 'node_3_pressure', 'node_10_demand', 'link_27_flow', 'node_31_demand', 'node_24_pressure', 'node_27_pressure', 'node_17_pressure', 'link_2_flow', 'node_31_pressure', 'link_32_flow', 'node_16_demand', 'node_6_demand', 'node_7_demand', 'node_5_pressure', 'node_25_demand', 'node_21_demand', 'node_19_pressure', 'node_4_pressure', 'node_14_demand', 'node_20_pressure']]\n",
      "starting df shape: (87600, 12)\n",
      "This is training run 3 and has the shape:  (87600, 12)\n",
      "The value of dropped columns is 85\n"
     ]
    },
    {
     "name": "stderr",
     "output_type": "stream",
     "text": [
      "/Users/alexellard/opt/anaconda3/lib/python3.7/site-packages/xgboost/data.py:96: UserWarning: Use subset (sliced data) of np.ndarray is not recommended because it will generate extra copies and increase memory consumption\n",
      "  \"because it will generate extra copies and increase \" +\n"
     ]
    },
    {
     "name": "stdout",
     "output_type": "stream",
     "text": [
      "test y shape : (17520, 1)\n",
      "Inv y shape : (17520, 12)\n",
      "y pred shape : (17520, 1)\n",
      "inv y pred : (17520, 12)\n",
      "Run 3 Mean Absolute Error: 38.9354215373734\n",
      "RMSE: 54.011\n",
      "R^2: 0.998\n",
      "[['node_3_demand', 'node_11_pressure', 'node_1_pressure', 'node_27_demand', 'node_2_demand', 'node_3_pressure', 'link_12_flow', 'node_11_demand', 'link_15_flow', 'link_32_flow', 'node_2_pressure', 'link_4_flow', 'node_20_pressure', 'link_23_flow', 'reservoir_pressure', 'link_5_flow', 'link_8_flow', 'node_14_demand', 'node_15_demand', 'link_9_flow', 'link_30_flow', 'node_18_demand', 'node_24_pressure', 'link_20_flow', 'link_28_flow', 'link_1_flow', 'node_5_pressure', 'link_24_flow', 'node_15_pressure', 'link_3_flow', 'node_8_pressure', 'link_10_flow', 'node_24_demand', 'link_19_flow', 'link_6_flow', 'link_17_flow', 'link_27_flow', 'node_30_pressure', 'reservoir_demand', 'node_7_demand', 'node_22_demand', 'node_13_pressure', 'link_14_flow', 'link_31_flow', 'node_6_demand', 'node_25_pressure', 'link_2_flow', 'link_7_flow', 'link_25_flow', 'node_21_pressure', 'node_30_demand', 'node_19_pressure', 'node_31_demand', 'node_10_pressure', 'node_21_demand', 'node_23_demand', 'node_1_demand', 'node_12_demand', 'node_16_pressure', 'link_22_flow', 'node_22_pressure', 'link_13_flow', 'node_14_pressure', 'node_28_demand', 'node_23_pressure', 'node_26_pressure', 'node_9_pressure', 'node_8_demand', 'link_26_flow', 'node_25_demand', 'node_13_demand', 'link_18_flow', 'node_16_demand', 'link_16_flow', 'node_18_pressure', 'node_17_pressure', 'node_4_demand', 'node_20_demand', 'node_27_pressure', 'node_9_demand', 'node_28_pressure', 'node_31_pressure', 'node_10_demand', 'node_4_pressure']]\n",
      "starting df shape: (87600, 12)\n",
      "This is training run 4 and has the shape:  (87600, 12)\n",
      "The value of dropped columns is 85\n"
     ]
    },
    {
     "name": "stderr",
     "output_type": "stream",
     "text": [
      "/Users/alexellard/opt/anaconda3/lib/python3.7/site-packages/xgboost/data.py:96: UserWarning: Use subset (sliced data) of np.ndarray is not recommended because it will generate extra copies and increase memory consumption\n",
      "  \"because it will generate extra copies and increase \" +\n"
     ]
    },
    {
     "name": "stdout",
     "output_type": "stream",
     "text": [
      "test y shape : (17520, 1)\n",
      "Inv y shape : (17520, 12)\n",
      "y pred shape : (17520, 1)\n",
      "inv y pred : (17520, 12)\n",
      "Run 4 Mean Absolute Error: 2.350849457472434\n",
      "RMSE: 3.411\n",
      "R^2: 0.998\n",
      "[['node_21_pressure', 'node_28_demand', 'node_27_demand', 'link_28_flow', 'link_29_flow', 'node_23_pressure', 'node_19_demand', 'node_17_demand', 'node_20_pressure', 'node_16_demand', 'link_17_flow', 'node_15_pressure', 'node_10_pressure', 'node_27_pressure', 'node_30_pressure', 'node_6_pressure', 'node_4_pressure', 'link_7_flow', 'link_14_flow', 'node_4_demand', 'node_24_demand', 'node_1_pressure', 'link_8_flow', 'link_12_flow', 'node_29_demand', 'node_30_demand', 'node_28_pressure', 'node_2_demand', 'link_3_flow', 'link_22_flow', 'reservoir_demand', 'node_22_pressure', 'link_1_flow', 'node_17_pressure', 'node_6_demand', 'node_14_demand', 'link_18_flow', 'link_2_flow', 'link_9_flow', 'link_13_flow', 'node_21_demand', 'node_19_pressure', 'node_15_demand', 'node_20_demand', 'node_11_pressure', 'node_18_demand', 'node_31_demand', 'node_8_pressure', 'node_18_pressure', 'node_7_demand', 'link_5_flow', 'link_10_flow', 'node_2_pressure', 'link_30_flow', 'node_24_pressure', 'node_3_demand', 'node_14_pressure', 'reservoir_pressure', 'node_25_demand', 'link_11_flow', 'node_26_pressure', 'link_25_flow', 'link_23_flow', 'node_22_demand', 'link_15_flow', 'node_16_pressure', 'link_19_flow', 'node_26_demand', 'link_31_flow', 'link_32_flow', 'link_16_flow', 'node_7_pressure', 'node_31_pressure', 'link_6_flow', 'node_12_demand', 'link_24_flow', 'node_10_demand', 'link_20_flow', 'node_13_pressure', 'node_11_demand', 'link_21_flow', 'node_5_pressure', 'link_27_flow', 'node_9_pressure']]\n",
      "starting df shape: (87600, 12)\n",
      "This is training run 5 and has the shape:  (87600, 12)\n",
      "The value of dropped columns is 85\n"
     ]
    },
    {
     "name": "stderr",
     "output_type": "stream",
     "text": [
      "/Users/alexellard/opt/anaconda3/lib/python3.7/site-packages/xgboost/data.py:96: UserWarning: Use subset (sliced data) of np.ndarray is not recommended because it will generate extra copies and increase memory consumption\n",
      "  \"because it will generate extra copies and increase \" +\n"
     ]
    },
    {
     "name": "stdout",
     "output_type": "stream",
     "text": [
      "test y shape : (17520, 1)\n",
      "Inv y shape : (17520, 12)\n",
      "y pred shape : (17520, 1)\n",
      "inv y pred : (17520, 12)\n",
      "Run 5 Mean Absolute Error: 1.054990827061632\n",
      "RMSE: 1.451\n",
      "R^2: 1.000\n",
      "[['node_12_demand', 'node_21_demand', 'node_4_demand', 'node_27_demand', 'node_15_demand', 'link_17_flow', 'link_6_flow', 'node_17_pressure', 'node_6_pressure', 'link_30_flow', 'node_16_demand', 'node_30_demand', 'node_5_pressure', 'node_8_demand', 'node_25_pressure', 'node_14_demand', 'link_15_flow', 'node_18_pressure', 'node_10_demand', 'node_28_demand', 'link_32_flow', 'link_22_flow', 'link_13_flow', 'node_20_demand', 'reservoir_demand', 'node_31_pressure', 'link_8_flow', 'node_1_pressure', 'link_4_flow', 'link_12_flow', 'node_3_pressure', 'reservoir_pressure', 'link_10_flow', 'node_29_demand', 'node_3_demand', 'link_29_flow', 'link_24_flow', 'link_9_flow', 'link_7_flow', 'node_22_pressure', 'node_12_pressure', 'node_31_demand', 'link_20_flow', 'node_19_pressure', 'node_19_demand', 'node_26_demand', 'link_18_flow', 'node_24_demand', 'link_16_flow', 'node_21_pressure', 'node_13_demand', 'node_24_pressure', 'link_14_flow', 'node_22_demand', 'node_15_pressure', 'node_7_demand', 'node_9_demand', 'node_10_pressure', 'link_19_flow', 'node_11_pressure', 'node_11_demand', 'node_20_pressure', 'node_30_pressure', 'node_13_pressure', 'link_25_flow', 'node_5_demand', 'node_8_pressure', 'link_28_flow', 'node_16_pressure', 'node_18_demand', 'node_14_pressure', 'node_27_pressure', 'link_5_flow', 'link_23_flow', 'link_1_flow', 'link_11_flow', 'node_7_pressure', 'link_26_flow', 'link_31_flow', 'node_2_pressure', 'node_6_demand', 'node_1_demand', 'link_3_flow', 'link_21_flow']]\n",
      "starting df shape: (87600, 12)\n",
      "This is training run 6 and has the shape:  (87600, 12)\n",
      "The value of dropped columns is 85\n"
     ]
    },
    {
     "name": "stderr",
     "output_type": "stream",
     "text": [
      "/Users/alexellard/opt/anaconda3/lib/python3.7/site-packages/xgboost/data.py:96: UserWarning: Use subset (sliced data) of np.ndarray is not recommended because it will generate extra copies and increase memory consumption\n",
      "  \"because it will generate extra copies and increase \" +\n"
     ]
    },
    {
     "name": "stdout",
     "output_type": "stream",
     "text": [
      "test y shape : (17520, 1)\n",
      "Inv y shape : (17520, 12)\n",
      "y pred shape : (17520, 1)\n",
      "inv y pred : (17520, 12)\n",
      "Run 6 Mean Absolute Error: 0.41340467279959486\n",
      "RMSE: 0.628\n",
      "R^2: 1.000\n",
      "[['reservoir_demand', 'link_8_flow', 'link_5_flow', 'link_3_flow', 'node_29_demand', 'link_12_flow', 'node_16_demand', 'link_10_flow', 'node_26_pressure', 'link_7_flow', 'node_6_pressure', 'node_24_demand', 'node_14_demand', 'link_26_flow', 'link_17_flow', 'link_32_flow', 'node_10_demand', 'node_21_demand', 'link_14_flow', 'node_26_demand', 'node_9_demand', 'node_13_demand', 'link_16_flow', 'link_6_flow', 'node_17_demand', 'node_8_demand', 'node_23_pressure', 'node_2_pressure', 'node_27_pressure', 'link_24_flow', 'node_19_demand', 'node_17_pressure', 'link_11_flow', 'node_5_demand', 'node_11_demand', 'node_25_pressure', 'node_19_pressure', 'node_12_demand', 'link_2_flow', 'node_15_demand', 'link_19_flow', 'link_20_flow', 'node_5_pressure', 'node_3_demand', 'node_2_demand', 'node_6_demand', 'node_28_demand', 'node_20_demand', 'node_18_pressure', 'node_1_pressure', 'link_28_flow', 'node_24_pressure', 'node_22_demand', 'node_7_demand', 'node_28_pressure', 'node_10_pressure', 'link_22_flow', 'node_11_pressure', 'node_23_demand', 'node_1_demand', 'node_14_pressure', 'link_4_flow', 'node_21_pressure', 'link_21_flow', 'node_30_demand', 'link_25_flow', 'link_27_flow', 'node_15_pressure', 'node_9_pressure', 'node_4_demand', 'link_9_flow', 'link_31_flow', 'node_22_pressure', 'node_3_pressure', 'node_7_pressure', 'node_8_pressure', 'node_12_pressure', 'node_27_demand', 'node_31_pressure', 'link_13_flow', 'reservoir_pressure', 'node_16_pressure', 'node_13_pressure', 'link_18_flow']]\n",
      "starting df shape: (87600, 12)\n",
      "This is training run 7 and has the shape:  (87600, 12)\n",
      "The value of dropped columns is 85\n"
     ]
    },
    {
     "name": "stderr",
     "output_type": "stream",
     "text": [
      "/Users/alexellard/opt/anaconda3/lib/python3.7/site-packages/xgboost/data.py:96: UserWarning: Use subset (sliced data) of np.ndarray is not recommended because it will generate extra copies and increase memory consumption\n",
      "  \"because it will generate extra copies and increase \" +\n"
     ]
    },
    {
     "name": "stdout",
     "output_type": "stream",
     "text": [
      "test y shape : (17520, 1)\n",
      "Inv y shape : (17520, 12)\n",
      "y pred shape : (17520, 1)\n",
      "inv y pred : (17520, 12)\n",
      "Run 7 Mean Absolute Error: 0.01732524336050078\n",
      "RMSE: 0.025\n",
      "R^2: 1.000\n",
      "[['node_31_demand', 'node_3_pressure', 'node_19_demand', 'node_9_demand', 'node_16_pressure', 'node_20_demand', 'node_16_demand', 'link_28_flow', 'link_9_flow', 'link_17_flow', 'node_2_pressure', 'node_15_pressure', 'node_18_demand', 'node_8_pressure', 'node_7_pressure', 'node_14_demand', 'node_27_demand', 'link_25_flow', 'node_30_pressure', 'node_7_demand', 'node_6_pressure', 'node_4_pressure', 'link_1_flow', 'link_19_flow', 'link_24_flow', 'link_12_flow', 'node_17_pressure', 'link_16_flow', 'link_6_flow', 'node_3_demand', 'link_26_flow', 'node_2_demand', 'link_5_flow', 'link_7_flow', 'node_12_pressure', 'link_30_flow', 'node_20_pressure', 'node_13_demand', 'link_23_flow', 'node_28_pressure', 'node_10_demand', 'link_13_flow', 'node_18_pressure', 'node_11_demand', 'node_27_pressure', 'node_5_pressure', 'node_24_demand', 'node_21_demand', 'link_3_flow', 'node_17_demand', 'link_2_flow', 'link_27_flow', 'link_31_flow', 'link_8_flow', 'node_1_demand', 'node_6_demand', 'node_1_pressure', 'node_23_pressure', 'node_8_demand', 'link_18_flow', 'node_13_pressure', 'node_30_demand', 'node_12_demand', 'node_25_demand', 'node_24_pressure', 'node_21_pressure', 'node_23_demand', 'link_4_flow', 'link_15_flow', 'node_19_pressure', 'link_21_flow', 'link_32_flow', 'node_4_demand', 'node_14_pressure', 'node_22_pressure', 'node_11_pressure', 'link_29_flow', 'node_15_demand', 'node_22_demand', 'node_26_demand', 'node_5_demand', 'node_29_demand', 'link_10_flow', 'node_10_pressure']]\n",
      "starting df shape: (87600, 12)\n",
      "This is training run 8 and has the shape:  (87600, 12)\n",
      "The value of dropped columns is 85\n"
     ]
    },
    {
     "name": "stderr",
     "output_type": "stream",
     "text": [
      "/Users/alexellard/opt/anaconda3/lib/python3.7/site-packages/xgboost/data.py:96: UserWarning: Use subset (sliced data) of np.ndarray is not recommended because it will generate extra copies and increase memory consumption\n",
      "  \"because it will generate extra copies and increase \" +\n"
     ]
    },
    {
     "name": "stdout",
     "output_type": "stream",
     "text": [
      "test y shape : (17520, 1)\n",
      "Inv y shape : (17520, 12)\n",
      "y pred shape : (17520, 1)\n",
      "inv y pred : (17520, 12)\n",
      "Run 8 Mean Absolute Error: 7.98627094400664\n",
      "RMSE: 10.988\n",
      "R^2: 1.000\n",
      "[['node_26_demand', 'link_7_flow', 'node_1_demand', 'node_8_pressure', 'node_10_demand', 'node_31_demand', 'node_15_pressure', 'link_18_flow', 'link_11_flow', 'node_28_pressure', 'link_14_flow', 'node_25_demand', 'node_8_demand', 'node_6_demand', 'link_21_flow', 'node_13_pressure', 'node_12_pressure', 'node_22_pressure', 'link_4_flow', 'node_20_pressure', 'link_26_flow', 'node_27_pressure', 'node_7_demand', 'node_11_demand', 'link_5_flow', 'link_13_flow', 'link_20_flow', 'node_14_demand', 'node_2_pressure', 'node_24_demand', 'node_25_pressure', 'node_17_pressure', 'link_24_flow', 'node_12_demand', 'node_5_demand', 'node_21_pressure', 'node_24_pressure', 'node_30_demand', 'link_27_flow', 'node_23_demand', 'node_3_demand', 'link_22_flow', 'node_17_demand', 'node_9_demand', 'node_20_demand', 'node_23_pressure', 'node_10_pressure', 'link_3_flow', 'node_14_pressure', 'link_19_flow', 'node_18_pressure', 'node_13_demand', 'node_1_pressure', 'link_23_flow', 'link_12_flow', 'link_6_flow', 'link_17_flow', 'link_9_flow', 'node_7_pressure', 'link_2_flow', 'node_26_pressure', 'node_27_demand', 'link_28_flow', 'link_30_flow', 'node_19_pressure', 'node_5_pressure', 'link_16_flow', 'link_25_flow', 'node_6_pressure', 'reservoir_pressure', 'node_29_demand', 'node_28_demand', 'node_22_demand', 'link_1_flow', 'link_29_flow', 'node_9_pressure', 'node_15_demand', 'node_16_demand', 'link_32_flow', 'node_30_pressure', 'node_21_demand', 'node_18_demand', 'reservoir_demand', 'node_4_demand']]\n",
      "starting df shape: (87600, 12)\n",
      "This is training run 9 and has the shape:  (87600, 12)\n",
      "The value of dropped columns is 85\n"
     ]
    },
    {
     "name": "stderr",
     "output_type": "stream",
     "text": [
      "/Users/alexellard/opt/anaconda3/lib/python3.7/site-packages/xgboost/data.py:96: UserWarning: Use subset (sliced data) of np.ndarray is not recommended because it will generate extra copies and increase memory consumption\n",
      "  \"because it will generate extra copies and increase \" +\n"
     ]
    },
    {
     "name": "stdout",
     "output_type": "stream",
     "text": [
      "test y shape : (17520, 1)\n",
      "Inv y shape : (17520, 12)\n",
      "y pred shape : (17520, 1)\n",
      "inv y pred : (17520, 12)\n",
      "Run 9 Mean Absolute Error: 0.6276820234867465\n",
      "RMSE: 0.874\n",
      "R^2: 1.000\n",
      "[['node_30_demand', 'node_26_demand', 'node_17_demand', 'node_25_demand', 'link_17_flow', 'node_8_pressure', 'node_26_pressure', 'link_20_flow', 'node_6_demand', 'node_28_demand', 'node_31_pressure', 'node_22_demand', 'node_22_pressure', 'link_22_flow', 'link_6_flow', 'node_13_pressure', 'node_16_demand', 'link_19_flow', 'node_1_pressure', 'link_31_flow', 'link_26_flow', 'link_2_flow', 'node_6_pressure', 'link_28_flow', 'node_25_pressure', 'node_11_pressure', 'node_27_demand', 'link_11_flow', 'node_14_pressure', 'link_8_flow', 'link_10_flow', 'node_3_pressure', 'node_27_pressure', 'node_19_demand', 'link_18_flow', 'link_15_flow', 'link_27_flow', 'link_9_flow', 'link_3_flow', 'node_7_pressure', 'node_10_demand', 'node_21_demand', 'link_29_flow', 'node_23_pressure', 'node_12_demand', 'node_20_demand', 'link_30_flow', 'link_12_flow', 'node_30_pressure', 'node_24_demand', 'node_18_demand', 'node_9_pressure', 'node_29_demand', 'node_8_demand', 'node_5_demand', 'node_31_demand', 'node_12_pressure', 'node_1_demand', 'node_16_pressure', 'node_24_pressure', 'node_9_demand', 'link_1_flow', 'node_15_pressure', 'node_19_pressure', 'reservoir_demand', 'node_11_demand', 'link_4_flow', 'node_2_demand', 'link_32_flow', 'node_4_pressure', 'node_5_pressure', 'node_21_pressure', 'link_23_flow', 'node_2_pressure', 'node_17_pressure', 'node_4_demand', 'link_21_flow', 'node_18_pressure', 'reservoir_pressure', 'node_20_pressure', 'link_5_flow', 'node_14_demand', 'node_7_demand', 'node_23_demand']]\n",
      "starting df shape: (87600, 12)\n",
      "This is training run 10 and has the shape:  (87600, 12)\n",
      "The value of dropped columns is 85\n"
     ]
    },
    {
     "name": "stderr",
     "output_type": "stream",
     "text": [
      "/Users/alexellard/opt/anaconda3/lib/python3.7/site-packages/xgboost/data.py:96: UserWarning: Use subset (sliced data) of np.ndarray is not recommended because it will generate extra copies and increase memory consumption\n",
      "  \"because it will generate extra copies and increase \" +\n"
     ]
    },
    {
     "name": "stdout",
     "output_type": "stream",
     "text": [
      "test y shape : (17520, 1)\n",
      "Inv y shape : (17520, 12)\n",
      "y pred shape : (17520, 1)\n",
      "inv y pred : (17520, 12)\n",
      "Run 10 Mean Absolute Error: 0.08222818392822474\n",
      "RMSE: 0.117\n",
      "R^2: 1.000\n",
      "[['node_21_pressure', 'node_2_demand', 'link_9_flow', 'node_27_pressure', 'node_30_pressure', 'node_16_pressure', 'link_15_flow', 'node_25_pressure', 'node_15_pressure', 'link_7_flow', 'link_17_flow', 'node_29_demand', 'node_20_pressure', 'node_13_pressure', 'node_31_demand', 'node_24_pressure', 'link_32_flow', 'node_11_demand', 'link_30_flow', 'link_11_flow', 'node_17_pressure', 'reservoir_pressure', 'link_24_flow', 'node_23_pressure', 'node_11_pressure', 'link_2_flow', 'node_12_pressure', 'node_10_demand', 'node_3_pressure', 'link_23_flow', 'node_4_demand', 'link_22_flow', 'reservoir_demand', 'node_7_pressure', 'node_7_demand', 'node_18_pressure', 'node_1_pressure', 'link_1_flow', 'link_31_flow', 'node_9_pressure', 'node_19_pressure', 'node_31_pressure', 'node_22_pressure', 'link_5_flow', 'node_28_demand', 'node_26_pressure', 'node_3_demand', 'node_9_demand', 'link_13_flow', 'link_12_flow', 'node_5_demand', 'link_21_flow', 'link_8_flow', 'link_4_flow', 'node_30_demand', 'node_8_pressure', 'node_2_pressure', 'node_26_demand', 'node_28_pressure', 'link_28_flow', 'link_14_flow', 'node_14_demand', 'link_10_flow', 'node_15_demand', 'node_12_demand', 'link_6_flow', 'link_19_flow', 'node_16_demand', 'link_29_flow', 'node_6_demand', 'link_27_flow', 'link_25_flow', 'node_25_demand', 'link_20_flow', 'node_27_demand', 'node_6_pressure', 'node_23_demand', 'link_26_flow', 'node_10_pressure', 'node_19_demand', 'link_18_flow', 'link_16_flow', 'node_14_pressure', 'node_17_demand', 'node_4_pressure', 'node_8_demand', 'node_1_demand', 'node_5_pressure', 'node_21_demand']]\n",
      "starting df shape: (87600, 7)\n",
      "This is training run 1 and has the shape:  (87600, 7)\n",
      "The value of dropped columns is 90\n"
     ]
    },
    {
     "name": "stderr",
     "output_type": "stream",
     "text": [
      "/Users/alexellard/opt/anaconda3/lib/python3.7/site-packages/xgboost/data.py:96: UserWarning: Use subset (sliced data) of np.ndarray is not recommended because it will generate extra copies and increase memory consumption\n",
      "  \"because it will generate extra copies and increase \" +\n"
     ]
    },
    {
     "name": "stdout",
     "output_type": "stream",
     "text": [
      "test y shape : (17520, 1)\n",
      "Inv y shape : (17520, 7)\n",
      "y pred shape : (17520, 1)\n",
      "inv y pred : (17520, 7)\n",
      "Run 1 Mean Absolute Error: 6.050520253023557\n",
      "RMSE: 10.547\n",
      "R^2: 0.952\n",
      "[['node_3_demand', 'link_31_flow', 'node_18_demand', 'link_6_flow', 'node_22_demand', 'node_19_pressure', 'node_2_demand', 'node_1_pressure', 'node_15_pressure', 'node_30_pressure', 'link_15_flow', 'node_3_pressure', 'link_16_flow', 'link_2_flow', 'reservoir_pressure', 'node_18_pressure', 'node_8_pressure', 'node_11_demand', 'node_10_demand', 'link_26_flow', 'node_25_demand', 'node_21_demand', 'node_10_pressure', 'link_5_flow', 'node_21_pressure', 'link_14_flow', 'node_14_pressure', 'link_24_flow', 'node_5_pressure', 'node_24_pressure', 'node_23_pressure', 'link_28_flow', 'node_28_demand', 'link_11_flow', 'node_16_pressure', 'link_25_flow', 'node_20_demand', 'node_17_demand', 'node_8_demand', 'node_11_pressure', 'node_7_demand', 'node_16_demand', 'node_30_demand', 'link_20_flow', 'node_1_demand', 'link_23_flow', 'node_28_pressure', 'node_12_pressure', 'link_27_flow', 'node_20_pressure', 'node_4_demand', 'node_17_pressure', 'node_26_demand', 'node_24_demand', 'link_32_flow', 'link_8_flow', 'node_14_demand', 'node_6_demand', 'link_21_flow', 'reservoir_demand', 'link_7_flow', 'link_18_flow', 'node_6_pressure', 'node_27_demand', 'link_30_flow', 'link_29_flow', 'link_13_flow', 'node_31_demand', 'link_12_flow', 'node_19_demand', 'node_4_pressure', 'link_22_flow', 'node_13_pressure', 'node_29_demand', 'node_31_pressure', 'node_25_pressure', 'node_15_demand', 'link_3_flow', 'node_22_pressure', 'link_10_flow', 'node_27_pressure', 'node_5_demand', 'link_17_flow', 'link_19_flow', 'node_9_pressure', 'node_26_pressure', 'node_9_demand', 'link_9_flow', 'link_4_flow']]\n",
      "starting df shape: (87600, 7)\n",
      "This is training run 2 and has the shape:  (87600, 7)\n",
      "The value of dropped columns is 90\n"
     ]
    },
    {
     "name": "stderr",
     "output_type": "stream",
     "text": [
      "/Users/alexellard/opt/anaconda3/lib/python3.7/site-packages/xgboost/data.py:96: UserWarning: Use subset (sliced data) of np.ndarray is not recommended because it will generate extra copies and increase memory consumption\n",
      "  \"because it will generate extra copies and increase \" +\n"
     ]
    },
    {
     "name": "stdout",
     "output_type": "stream",
     "text": [
      "test y shape : (17520, 1)\n",
      "Inv y shape : (17520, 7)\n",
      "y pred shape : (17520, 1)\n",
      "inv y pred : (17520, 7)\n",
      "Run 2 Mean Absolute Error: 2.28390587454717\n",
      "RMSE: 3.394\n",
      "R^2: 0.997\n",
      "[['link_4_flow', 'link_22_flow', 'node_23_demand', 'node_1_demand', 'node_16_demand', 'link_7_flow', 'node_8_pressure', 'node_26_demand', 'link_15_flow', 'link_31_flow', 'node_20_demand', 'node_12_demand', 'node_7_pressure', 'link_25_flow', 'node_19_pressure', 'node_9_pressure', 'node_11_pressure', 'node_26_pressure', 'node_21_pressure', 'node_30_demand', 'link_5_flow', 'node_17_demand', 'node_31_demand', 'link_6_flow', 'node_24_pressure', 'link_30_flow', 'node_11_demand', 'node_22_demand', 'node_14_pressure', 'link_1_flow', 'node_3_pressure', 'node_29_demand', 'link_13_flow', 'link_16_flow', 'link_28_flow', 'link_11_flow', 'node_15_pressure', 'node_28_demand', 'node_27_pressure', 'link_29_flow', 'link_19_flow', 'node_18_demand', 'node_4_pressure', 'node_17_pressure', 'node_27_demand', 'node_21_demand', 'node_30_pressure', 'node_10_demand', 'link_27_flow', 'node_5_pressure', 'node_24_demand', 'link_10_flow', 'link_12_flow', 'node_15_demand', 'node_18_pressure', 'node_25_pressure', 'node_9_demand', 'link_23_flow', 'node_7_demand', 'node_22_pressure', 'node_2_pressure', 'link_18_flow', 'node_10_pressure', 'node_6_demand', 'node_8_demand', 'link_3_flow', 'node_23_pressure', 'link_8_flow', 'node_6_pressure', 'node_13_demand', 'reservoir_pressure', 'node_16_pressure', 'link_26_flow', 'node_13_pressure', 'link_24_flow', 'link_20_flow', 'link_32_flow', 'node_4_demand', 'node_2_demand', 'node_14_demand', 'link_17_flow', 'node_31_pressure', 'link_21_flow', 'reservoir_demand', 'node_19_demand', 'link_2_flow', 'link_9_flow', 'node_1_pressure', 'node_25_demand']]\n",
      "starting df shape: (87600, 7)\n",
      "This is training run 3 and has the shape:  (87600, 7)\n",
      "The value of dropped columns is 90\n"
     ]
    },
    {
     "name": "stderr",
     "output_type": "stream",
     "text": [
      "/Users/alexellard/opt/anaconda3/lib/python3.7/site-packages/xgboost/data.py:96: UserWarning: Use subset (sliced data) of np.ndarray is not recommended because it will generate extra copies and increase memory consumption\n",
      "  \"because it will generate extra copies and increase \" +\n"
     ]
    },
    {
     "name": "stdout",
     "output_type": "stream",
     "text": [
      "test y shape : (17520, 1)\n",
      "Inv y shape : (17520, 7)\n",
      "y pred shape : (17520, 1)\n",
      "inv y pred : (17520, 7)\n",
      "Run 3 Mean Absolute Error: 0.08495841512912575\n",
      "RMSE: 0.131\n",
      "R^2: 1.000\n",
      "[['node_25_demand', 'node_16_demand', 'node_22_pressure', 'node_29_demand', 'node_28_demand', 'node_26_demand', 'node_23_pressure', 'link_32_flow', 'node_18_demand', 'node_1_demand', 'node_4_demand', 'link_7_flow', 'node_1_pressure', 'node_31_pressure', 'node_21_demand', 'node_10_pressure', 'link_11_flow', 'node_5_demand', 'node_23_demand', 'node_4_pressure', 'node_7_demand', 'node_17_demand', 'node_8_demand', 'node_20_demand', 'link_3_flow', 'node_30_pressure', 'link_21_flow', 'node_14_pressure', 'node_25_pressure', 'link_12_flow', 'link_26_flow', 'node_5_pressure', 'node_28_pressure', 'node_15_pressure', 'link_31_flow', 'link_14_flow', 'node_19_demand', 'node_21_pressure', 'node_14_demand', 'node_12_demand', 'node_6_pressure', 'reservoir_demand', 'node_12_pressure', 'node_2_demand', 'link_9_flow', 'node_9_demand', 'node_19_pressure', 'node_22_demand', 'link_16_flow', 'link_19_flow', 'link_2_flow', 'link_25_flow', 'node_18_pressure', 'node_27_demand', 'node_26_pressure', 'link_23_flow', 'link_17_flow', 'link_27_flow', 'link_4_flow', 'node_24_demand', 'link_22_flow', 'node_13_pressure', 'node_17_pressure', 'node_27_pressure', 'link_24_flow', 'link_28_flow', 'link_29_flow', 'link_20_flow', 'link_5_flow', 'node_24_pressure', 'link_13_flow', 'reservoir_pressure', 'node_20_pressure', 'node_2_pressure', 'node_31_demand', 'node_7_pressure', 'node_3_pressure', 'node_16_pressure', 'node_6_demand', 'link_18_flow', 'node_10_demand', 'node_3_demand', 'node_11_demand', 'node_30_demand', 'node_15_demand', 'link_8_flow', 'node_13_demand', 'node_9_pressure', 'link_1_flow', 'node_11_pressure']]\n",
      "starting df shape: (87600, 6)\n",
      "This is training run 4 and has the shape:  (87600, 6)\n",
      "The value of dropped columns is 90\n"
     ]
    },
    {
     "name": "stderr",
     "output_type": "stream",
     "text": [
      "/Users/alexellard/opt/anaconda3/lib/python3.7/site-packages/xgboost/data.py:96: UserWarning: Use subset (sliced data) of np.ndarray is not recommended because it will generate extra copies and increase memory consumption\n",
      "  \"because it will generate extra copies and increase \" +\n"
     ]
    },
    {
     "name": "stdout",
     "output_type": "stream",
     "text": [
      "test y shape : (17520, 1)\n",
      "Inv y shape : (17520, 6)\n",
      "y pred shape : (17520, 1)\n",
      "inv y pred : (17520, 6)\n",
      "Run 4 Mean Absolute Error: 0.15286902677649827\n",
      "RMSE: 0.219\n",
      "R^2: 0.997\n",
      "[['node_22_pressure', 'node_31_demand', 'link_9_flow', 'node_2_demand', 'link_29_flow', 'link_32_flow', 'node_15_pressure', 'link_25_flow', 'link_5_flow', 'node_7_demand', 'node_1_demand', 'link_4_flow', 'reservoir_pressure', 'node_8_pressure', 'node_12_demand', 'node_18_pressure', 'node_15_demand', 'node_30_pressure', 'link_2_flow', 'node_21_demand', 'node_19_pressure', 'node_12_pressure', 'node_25_demand', 'link_13_flow', 'node_2_pressure', 'node_17_pressure', 'link_30_flow', 'reservoir_demand', 'node_26_demand', 'node_6_pressure', 'node_20_pressure', 'link_3_flow', 'node_24_pressure', 'node_5_pressure', 'link_14_flow', 'node_22_demand', 'node_19_demand', 'link_15_flow', 'node_7_pressure', 'node_10_demand', 'node_16_pressure', 'link_1_flow', 'node_14_demand', 'node_23_pressure', 'node_1_pressure', 'node_8_demand', 'link_31_flow', 'link_21_flow', 'node_28_pressure', 'link_19_flow', 'link_11_flow', 'node_4_demand', 'link_18_flow', 'node_17_demand', 'link_10_flow', 'node_30_demand', 'node_6_demand', 'link_26_flow', 'link_16_flow', 'node_3_demand', 'link_17_flow', 'node_20_demand', 'node_3_pressure', 'node_13_pressure', 'node_11_pressure', 'node_27_pressure', 'node_16_demand', 'node_18_demand', 'node_10_pressure', 'node_27_demand', 'node_25_pressure', 'node_31_pressure', 'node_9_pressure', 'link_28_flow', 'link_23_flow', 'link_20_flow', 'node_26_pressure', 'link_12_flow', 'node_5_demand', 'link_27_flow', 'link_8_flow', 'node_21_pressure', 'link_6_flow', 'node_11_demand', 'node_28_demand', 'link_24_flow', 'node_13_demand', 'link_7_flow', 'node_9_demand', 'node_29_demand']]\n",
      "starting df shape: (87600, 6)\n",
      "This is training run 5 and has the shape:  (87600, 6)\n",
      "The value of dropped columns is 90\n"
     ]
    },
    {
     "name": "stderr",
     "output_type": "stream",
     "text": [
      "/Users/alexellard/opt/anaconda3/lib/python3.7/site-packages/xgboost/data.py:96: UserWarning: Use subset (sliced data) of np.ndarray is not recommended because it will generate extra copies and increase memory consumption\n",
      "  \"because it will generate extra copies and increase \" +\n"
     ]
    },
    {
     "name": "stdout",
     "output_type": "stream",
     "text": [
      "test y shape : (17520, 1)\n",
      "Inv y shape : (17520, 6)\n",
      "y pred shape : (17520, 1)\n",
      "inv y pred : (17520, 6)\n",
      "Run 5 Mean Absolute Error: 1.136544099822128\n",
      "RMSE: 1.600\n",
      "R^2: 0.999\n",
      "[['link_9_flow', 'node_12_pressure', 'link_19_flow', 'link_1_flow', 'node_30_pressure', 'link_7_flow', 'node_9_pressure', 'link_22_flow', 'node_3_demand', 'node_10_pressure', 'node_17_demand', 'node_8_pressure', 'link_5_flow', 'link_29_flow', 'node_21_demand', 'node_6_demand', 'node_23_pressure', 'node_28_pressure', 'node_31_pressure', 'node_5_pressure', 'link_4_flow', 'link_20_flow', 'node_5_demand', 'node_16_demand', 'node_11_demand', 'node_15_demand', 'link_28_flow', 'node_25_demand', 'node_17_pressure', 'reservoir_demand', 'link_27_flow', 'node_24_pressure', 'node_8_demand', 'node_13_pressure', 'node_12_demand', 'link_6_flow', 'node_31_demand', 'node_21_pressure', 'link_3_flow', 'link_8_flow', 'node_2_pressure', 'node_26_pressure', 'node_13_demand', 'node_6_pressure', 'link_2_flow', 'node_14_demand', 'node_25_pressure', 'node_9_demand', 'node_18_pressure', 'node_27_demand', 'node_19_pressure', 'node_4_demand', 'node_4_pressure', 'link_15_flow', 'node_16_pressure', 'link_16_flow', 'node_10_demand', 'node_24_demand', 'node_29_demand', 'node_7_pressure', 'node_18_demand', 'node_19_demand', 'link_14_flow', 'node_2_demand', 'node_15_pressure', 'node_23_demand', 'node_3_pressure', 'link_30_flow', 'link_31_flow', 'node_11_pressure', 'link_23_flow', 'node_7_demand', 'link_32_flow', 'link_25_flow', 'node_1_demand', 'node_28_demand', 'node_26_demand', 'node_22_pressure', 'link_18_flow', 'node_1_pressure', 'link_13_flow', 'link_26_flow', 'link_11_flow', 'reservoir_pressure', 'node_30_demand', 'node_20_pressure', 'link_17_flow', 'link_12_flow', 'link_10_flow', 'node_27_pressure']]\n",
      "starting df shape: (87600, 6)\n",
      "This is training run 6 and has the shape:  (87600, 6)\n",
      "The value of dropped columns is 90\n"
     ]
    },
    {
     "name": "stderr",
     "output_type": "stream",
     "text": [
      "/Users/alexellard/opt/anaconda3/lib/python3.7/site-packages/xgboost/data.py:96: UserWarning: Use subset (sliced data) of np.ndarray is not recommended because it will generate extra copies and increase memory consumption\n",
      "  \"because it will generate extra copies and increase \" +\n"
     ]
    },
    {
     "name": "stdout",
     "output_type": "stream",
     "text": [
      "test y shape : (17520, 1)\n",
      "Inv y shape : (17520, 6)\n",
      "y pred shape : (17520, 1)\n",
      "inv y pred : (17520, 6)\n",
      "Run 6 Mean Absolute Error: 1.1588054013020588\n",
      "RMSE: 1.637\n",
      "R^2: 0.999\n",
      "[['node_31_demand', 'link_1_flow', 'node_19_pressure', 'link_18_flow', 'link_23_flow', 'node_11_pressure', 'node_17_pressure', 'node_29_demand', 'node_31_pressure', 'node_16_pressure', 'link_25_flow', 'node_12_pressure', 'node_22_pressure', 'node_28_demand', 'node_26_pressure', 'node_3_pressure', 'node_14_pressure', 'link_8_flow', 'node_19_demand', 'link_32_flow', 'node_27_demand', 'node_2_pressure', 'link_5_flow', 'node_8_pressure', 'node_6_pressure', 'node_13_demand', 'reservoir_pressure', 'node_12_demand', 'node_4_pressure', 'node_5_demand', 'node_4_demand', 'node_21_pressure', 'node_16_demand', 'node_24_demand', 'node_28_pressure', 'node_9_demand', 'node_20_pressure', 'node_21_demand', 'node_23_pressure', 'node_7_pressure', 'node_26_demand', 'reservoir_demand', 'link_19_flow', 'link_30_flow', 'node_1_demand', 'link_9_flow', 'link_14_flow', 'node_17_demand', 'node_5_pressure', 'node_15_demand', 'node_7_demand', 'node_3_demand', 'node_10_pressure', 'node_25_pressure', 'node_15_pressure', 'node_13_pressure', 'link_13_flow', 'link_15_flow', 'link_24_flow', 'node_2_demand', 'node_14_demand', 'link_17_flow', 'node_30_pressure', 'node_8_demand', 'link_10_flow', 'node_1_pressure', 'link_26_flow', 'node_11_demand', 'node_30_demand', 'node_23_demand', 'link_6_flow', 'link_16_flow', 'link_29_flow', 'link_2_flow', 'link_27_flow', 'link_31_flow', 'node_18_demand', 'node_9_pressure', 'link_12_flow', 'node_22_demand', 'node_25_demand', 'node_6_demand', 'link_7_flow', 'link_28_flow', 'node_24_pressure', 'node_18_pressure', 'link_4_flow', 'link_21_flow', 'node_20_demand', 'node_10_demand']]\n",
      "starting df shape: (87600, 6)\n",
      "This is training run 7 and has the shape:  (87600, 6)\n",
      "The value of dropped columns is 90\n"
     ]
    },
    {
     "name": "stderr",
     "output_type": "stream",
     "text": [
      "/Users/alexellard/opt/anaconda3/lib/python3.7/site-packages/xgboost/data.py:96: UserWarning: Use subset (sliced data) of np.ndarray is not recommended because it will generate extra copies and increase memory consumption\n",
      "  \"because it will generate extra copies and increase \" +\n"
     ]
    },
    {
     "name": "stdout",
     "output_type": "stream",
     "text": [
      "test y shape : (17520, 1)\n",
      "Inv y shape : (17520, 6)\n",
      "y pred shape : (17520, 1)\n",
      "inv y pred : (17520, 6)\n",
      "Run 7 Mean Absolute Error: 0.06288288029136069\n",
      "RMSE: 0.095\n",
      "R^2: 0.999\n",
      "[['node_25_demand', 'node_21_demand', 'node_30_demand', 'link_24_flow', 'node_21_pressure', 'node_13_pressure', 'link_10_flow', 'node_26_demand', 'node_15_pressure', 'node_17_demand', 'link_4_flow', 'link_28_flow', 'node_2_demand', 'node_11_demand', 'node_5_pressure', 'link_19_flow', 'link_2_flow', 'link_18_flow', 'node_13_demand', 'node_7_pressure', 'node_10_pressure', 'link_20_flow', 'link_1_flow', 'link_5_flow', 'node_16_demand', 'node_1_pressure', 'reservoir_demand', 'link_23_flow', 'node_15_demand', 'node_10_demand', 'link_17_flow', 'node_23_demand', 'node_9_pressure', 'link_11_flow', 'node_16_pressure', 'node_11_pressure', 'node_5_demand', 'node_27_demand', 'node_19_pressure', 'link_29_flow', 'node_22_pressure', 'node_20_pressure', 'node_4_demand', 'node_8_pressure', 'reservoir_pressure', 'node_29_demand', 'link_12_flow', 'node_30_pressure', 'link_26_flow', 'node_28_pressure', 'link_27_flow', 'link_8_flow', 'node_18_demand', 'node_2_pressure', 'node_12_pressure', 'link_14_flow', 'link_6_flow', 'node_4_pressure', 'node_17_pressure', 'node_8_demand', 'node_1_demand', 'link_9_flow', 'link_25_flow', 'node_9_demand', 'node_28_demand', 'node_14_demand', 'node_14_pressure', 'link_22_flow', 'node_12_demand', 'node_20_demand', 'link_13_flow', 'node_24_demand', 'node_7_demand', 'node_31_pressure', 'link_16_flow', 'node_18_pressure', 'node_22_demand', 'node_26_pressure', 'node_25_pressure', 'link_32_flow', 'node_3_pressure', 'link_21_flow', 'node_6_pressure', 'link_30_flow', 'node_6_demand', 'node_24_pressure', 'link_7_flow', 'link_15_flow', 'node_3_demand']]\n",
      "starting df shape: (87600, 7)\n",
      "This is training run 8 and has the shape:  (87600, 7)\n",
      "The value of dropped columns is 90\n"
     ]
    },
    {
     "name": "stderr",
     "output_type": "stream",
     "text": [
      "/Users/alexellard/opt/anaconda3/lib/python3.7/site-packages/xgboost/data.py:96: UserWarning: Use subset (sliced data) of np.ndarray is not recommended because it will generate extra copies and increase memory consumption\n",
      "  \"because it will generate extra copies and increase \" +\n"
     ]
    },
    {
     "name": "stdout",
     "output_type": "stream",
     "text": [
      "test y shape : (17520, 1)\n",
      "Inv y shape : (17520, 7)\n",
      "y pred shape : (17520, 1)\n",
      "inv y pred : (17520, 7)\n",
      "Run 8 Mean Absolute Error: 1.0092657622012493\n",
      "RMSE: 1.500\n",
      "R^2: 1.000\n",
      "[['node_10_pressure', 'node_28_pressure', 'link_24_flow', 'node_17_pressure', 'link_6_flow', 'link_21_flow', 'node_16_pressure', 'node_17_demand', 'link_32_flow', 'node_18_demand', 'node_25_demand', 'node_8_demand', 'node_31_demand', 'link_26_flow', 'node_30_demand', 'node_11_pressure', 'node_12_pressure', 'node_25_pressure', 'link_28_flow', 'link_5_flow', 'link_19_flow', 'link_12_flow', 'link_11_flow', 'node_9_demand', 'link_1_flow', 'link_17_flow', 'node_12_demand', 'node_3_demand', 'node_23_pressure', 'link_4_flow', 'link_3_flow', 'node_7_pressure', 'node_6_pressure', 'node_2_demand', 'node_15_demand', 'node_3_pressure', 'node_10_demand', 'node_16_demand', 'node_7_demand', 'link_2_flow', 'node_19_pressure', 'node_8_pressure', 'node_13_pressure', 'node_28_demand', 'node_2_pressure', 'node_22_demand', 'node_6_demand', 'node_9_pressure', 'node_14_pressure', 'node_20_pressure', 'node_26_demand', 'link_22_flow', 'link_20_flow', 'node_18_pressure', 'node_5_pressure', 'link_15_flow', 'link_29_flow', 'link_25_flow', 'node_21_pressure', 'node_19_demand', 'node_24_pressure', 'link_14_flow', 'node_4_demand', 'node_11_demand', 'node_27_pressure', 'node_1_demand', 'node_15_pressure', 'link_30_flow', 'link_16_flow', 'link_27_flow', 'node_29_demand', 'node_26_pressure', 'node_30_pressure', 'link_9_flow', 'link_23_flow', 'link_8_flow', 'link_31_flow', 'node_14_demand', 'node_31_pressure', 'node_27_demand', 'link_18_flow', 'link_10_flow', 'reservoir_demand', 'node_5_demand', 'node_20_demand', 'link_13_flow', 'link_7_flow', 'node_4_pressure', 'node_13_demand']]\n",
      "starting df shape: (87600, 7)\n",
      "This is training run 9 and has the shape:  (87600, 7)\n",
      "The value of dropped columns is 90\n"
     ]
    },
    {
     "name": "stderr",
     "output_type": "stream",
     "text": [
      "/Users/alexellard/opt/anaconda3/lib/python3.7/site-packages/xgboost/data.py:96: UserWarning: Use subset (sliced data) of np.ndarray is not recommended because it will generate extra copies and increase memory consumption\n",
      "  \"because it will generate extra copies and increase \" +\n"
     ]
    },
    {
     "name": "stdout",
     "output_type": "stream",
     "text": [
      "test y shape : (17520, 1)\n",
      "Inv y shape : (17520, 7)\n",
      "y pred shape : (17520, 1)\n",
      "inv y pred : (17520, 7)\n",
      "Run 9 Mean Absolute Error: 0.5193194135667517\n",
      "RMSE: 0.727\n",
      "R^2: 1.000\n",
      "[['link_18_flow', 'node_17_pressure', 'node_18_pressure', 'link_21_flow', 'node_9_pressure', 'node_7_demand', 'link_23_flow', 'node_15_demand', 'node_23_pressure', 'node_16_pressure', 'node_20_pressure', 'link_31_flow', 'node_18_demand', 'node_31_pressure', 'node_8_demand', 'node_31_demand', 'link_16_flow', 'node_10_pressure', 'link_32_flow', 'node_27_pressure', 'link_20_flow', 'node_11_demand', 'node_15_pressure', 'node_27_demand', 'node_4_demand', 'node_28_pressure', 'link_9_flow', 'link_30_flow', 'node_22_pressure', 'node_21_pressure', 'link_10_flow', 'link_8_flow', 'node_12_demand', 'node_13_demand', 'node_11_pressure', 'node_6_pressure', 'node_14_pressure', 'link_12_flow', 'link_14_flow', 'node_3_demand', 'node_21_demand', 'node_5_pressure', 'node_19_pressure', 'node_4_pressure', 'link_5_flow', 'node_26_demand', 'node_2_pressure', 'node_24_pressure', 'link_3_flow', 'link_1_flow', 'link_27_flow', 'node_3_pressure', 'link_29_flow', 'node_30_pressure', 'node_29_demand', 'node_16_demand', 'reservoir_demand', 'node_20_demand', 'link_26_flow', 'link_15_flow', 'node_25_demand', 'node_1_demand', 'node_22_demand', 'node_17_demand', 'link_11_flow', 'node_23_demand', 'node_2_demand', 'link_6_flow', 'link_4_flow', 'node_19_demand', 'node_8_pressure', 'link_19_flow', 'node_14_demand', 'link_24_flow', 'node_13_pressure', 'link_7_flow', 'reservoir_pressure', 'link_2_flow', 'node_9_demand', 'node_30_demand', 'link_17_flow', 'node_24_demand', 'node_5_demand', 'node_6_demand', 'node_10_demand', 'link_25_flow', 'node_12_pressure', 'node_25_pressure', 'node_1_pressure']]\n",
      "starting df shape: (87600, 7)\n",
      "This is training run 10 and has the shape:  (87600, 7)\n",
      "The value of dropped columns is 90\n"
     ]
    },
    {
     "name": "stderr",
     "output_type": "stream",
     "text": [
      "/Users/alexellard/opt/anaconda3/lib/python3.7/site-packages/xgboost/data.py:96: UserWarning: Use subset (sliced data) of np.ndarray is not recommended because it will generate extra copies and increase memory consumption\n",
      "  \"because it will generate extra copies and increase \" +\n"
     ]
    },
    {
     "name": "stdout",
     "output_type": "stream",
     "text": [
      "test y shape : (17520, 1)\n",
      "Inv y shape : (17520, 7)\n",
      "y pred shape : (17520, 1)\n",
      "inv y pred : (17520, 7)\n",
      "Run 10 Mean Absolute Error: 0.35673840894002457\n",
      "RMSE: 0.490\n",
      "R^2: 1.000\n",
      "[['node_5_demand', 'node_6_pressure', 'link_9_flow', 'link_2_flow', 'link_14_flow', 'node_3_demand', 'link_18_flow', 'node_2_pressure', 'link_13_flow', 'link_19_flow', 'link_27_flow', 'node_8_demand', 'link_31_flow', 'reservoir_demand', 'node_30_pressure', 'link_6_flow', 'node_7_pressure', 'node_16_pressure', 'node_12_pressure', 'node_4_demand', 'node_25_demand', 'node_26_pressure', 'node_18_demand', 'node_18_pressure', 'node_9_demand', 'node_5_pressure', 'node_27_demand', 'node_28_pressure', 'node_11_demand', 'link_20_flow', 'node_23_demand', 'node_14_pressure', 'link_25_flow', 'link_21_flow', 'node_26_demand', 'link_30_flow', 'node_14_demand', 'node_24_demand', 'node_2_demand', 'node_30_demand', 'node_19_pressure', 'node_13_demand', 'node_27_pressure', 'node_10_demand', 'link_11_flow', 'link_1_flow', 'link_23_flow', 'link_17_flow', 'node_10_pressure', 'node_31_demand', 'link_7_flow', 'link_10_flow', 'node_1_demand', 'node_23_pressure', 'node_17_demand', 'node_28_demand', 'node_3_pressure', 'node_15_pressure', 'reservoir_pressure', 'link_5_flow', 'node_25_pressure', 'node_24_pressure', 'node_7_demand', 'node_8_pressure', 'node_17_pressure', 'link_29_flow', 'link_16_flow', 'node_21_pressure', 'node_22_pressure', 'node_15_demand', 'link_26_flow', 'node_29_demand', 'node_6_demand', 'link_12_flow', 'node_12_demand', 'link_8_flow', 'node_16_demand', 'node_20_demand', 'node_20_pressure', 'node_19_demand', 'link_32_flow', 'link_28_flow', 'node_21_demand', 'node_11_pressure', 'link_3_flow', 'node_1_pressure', 'node_9_pressure', 'node_31_pressure', 'link_4_flow', 'link_24_flow', 'node_22_demand', 'link_22_flow', 'node_4_pressure', 'link_15_flow']]\n",
      "starting df shape: (87600, 2)\n",
      "This is training run 1 and has the shape:  (87600, 2)\n",
      "The value of dropped columns is 95\n"
     ]
    },
    {
     "name": "stderr",
     "output_type": "stream",
     "text": [
      "/Users/alexellard/opt/anaconda3/lib/python3.7/site-packages/xgboost/data.py:96: UserWarning: Use subset (sliced data) of np.ndarray is not recommended because it will generate extra copies and increase memory consumption\n",
      "  \"because it will generate extra copies and increase \" +\n"
     ]
    },
    {
     "name": "stdout",
     "output_type": "stream",
     "text": [
      "test y shape : (17520, 1)\n",
      "Inv y shape : (17520, 2)\n",
      "y pred shape : (17520, 1)\n",
      "inv y pred : (17520, 2)\n",
      "Run 1 Mean Absolute Error: 0.31260273890829815\n",
      "RMSE: 0.411\n",
      "R^2: 0.991\n",
      "[['node_17_pressure', 'link_32_flow', 'link_29_flow', 'link_5_flow', 'node_22_pressure', 'link_27_flow', 'node_20_demand', 'node_21_demand', 'node_18_demand', 'node_28_demand', 'node_27_demand', 'node_26_demand', 'reservoir_pressure', 'node_8_pressure', 'node_19_demand', 'link_25_flow', 'node_16_pressure', 'link_19_flow', 'link_8_flow', 'node_31_demand', 'node_6_demand', 'node_18_pressure', 'node_24_pressure', 'link_28_flow', 'link_11_flow', 'node_1_demand', 'node_9_pressure', 'node_3_pressure', 'link_13_flow', 'node_20_pressure', 'node_25_pressure', 'node_30_pressure', 'node_13_pressure', 'node_9_demand', 'node_10_pressure', 'reservoir_demand', 'node_15_pressure', 'link_21_flow', 'link_26_flow', 'node_6_pressure', 'node_8_demand', 'link_10_flow', 'link_6_flow', 'node_7_demand', 'node_24_demand', 'link_4_flow', 'node_27_pressure', 'node_1_pressure', 'node_14_pressure', 'link_2_flow', 'node_5_demand', 'link_23_flow', 'link_16_flow', 'link_30_flow', 'node_2_pressure', 'node_28_pressure', 'node_13_demand', 'node_17_demand', 'link_15_flow', 'node_16_demand', 'node_3_demand', 'link_14_flow', 'link_7_flow', 'node_12_demand', 'node_23_pressure', 'link_17_flow', 'node_7_pressure', 'node_23_demand', 'node_22_demand', 'node_25_demand', 'link_20_flow', 'node_4_pressure', 'node_11_demand', 'link_18_flow', 'node_26_pressure', 'link_9_flow', 'link_12_flow', 'node_29_demand', 'node_11_pressure', 'node_2_demand', 'node_4_demand', 'node_31_pressure', 'link_1_flow', 'node_19_pressure', 'node_15_demand', 'node_10_demand', 'link_31_flow', 'link_22_flow', 'node_12_pressure', 'link_3_flow', 'node_5_pressure', 'node_14_demand', 'node_30_demand', 'link_24_flow']]\n",
      "starting df shape: (87600, 2)\n",
      "This is training run 2 and has the shape:  (87600, 2)\n",
      "The value of dropped columns is 95\n"
     ]
    },
    {
     "name": "stderr",
     "output_type": "stream",
     "text": [
      "/Users/alexellard/opt/anaconda3/lib/python3.7/site-packages/xgboost/data.py:96: UserWarning: Use subset (sliced data) of np.ndarray is not recommended because it will generate extra copies and increase memory consumption\n",
      "  \"because it will generate extra copies and increase \" +\n"
     ]
    },
    {
     "name": "stdout",
     "output_type": "stream",
     "text": [
      "test y shape : (17520, 1)\n",
      "Inv y shape : (17520, 2)\n",
      "y pred shape : (17520, 1)\n",
      "inv y pred : (17520, 2)\n",
      "Run 2 Mean Absolute Error: 0.37166975250759066\n",
      "RMSE: 0.501\n",
      "R^2: 0.987\n",
      "[['link_2_flow', 'link_28_flow', 'link_17_flow', 'link_10_flow', 'node_8_pressure', 'node_20_demand', 'node_12_pressure', 'node_14_demand', 'node_25_pressure', 'node_10_pressure', 'node_23_pressure', 'reservoir_pressure', 'link_21_flow', 'link_23_flow', 'node_26_pressure', 'link_26_flow', 'link_31_flow', 'node_4_pressure', 'node_27_pressure', 'node_19_pressure', 'node_8_demand', 'node_30_pressure', 'node_25_demand', 'node_3_pressure', 'node_18_demand', 'node_22_demand', 'node_28_demand', 'node_11_pressure', 'link_16_flow', 'node_13_demand', 'node_18_pressure', 'node_5_pressure', 'link_11_flow', 'link_24_flow', 'link_19_flow', 'node_27_demand', 'node_1_pressure', 'node_14_pressure', 'link_32_flow', 'link_1_flow', 'link_15_flow', 'link_6_flow', 'link_8_flow', 'node_31_pressure', 'node_1_demand', 'node_5_demand', 'node_17_pressure', 'link_20_flow', 'link_18_flow', 'link_5_flow', 'node_9_demand', 'node_21_demand', 'link_27_flow', 'node_2_demand', 'link_12_flow', 'link_30_flow', 'node_11_demand', 'node_7_pressure', 'node_30_demand', 'node_12_demand', 'node_9_pressure', 'node_16_pressure', 'node_6_pressure', 'node_2_pressure', 'node_15_demand', 'node_20_pressure', 'node_3_demand', 'link_9_flow', 'node_28_pressure', 'link_3_flow', 'link_13_flow', 'link_22_flow', 'node_29_demand', 'node_21_pressure', 'node_17_demand', 'node_22_pressure', 'reservoir_demand', 'node_26_demand', 'node_31_demand', 'node_23_demand', 'node_4_demand', 'node_6_demand', 'node_24_demand', 'node_24_pressure', 'link_7_flow', 'node_13_pressure', 'link_14_flow', 'node_15_pressure', 'link_4_flow', 'node_16_demand', 'link_29_flow', 'node_7_demand', 'node_19_demand', 'link_25_flow']]\n",
      "starting df shape: (87600, 2)\n",
      "This is training run 3 and has the shape:  (87600, 2)\n",
      "The value of dropped columns is 95\n"
     ]
    },
    {
     "name": "stderr",
     "output_type": "stream",
     "text": [
      "/Users/alexellard/opt/anaconda3/lib/python3.7/site-packages/xgboost/data.py:96: UserWarning: Use subset (sliced data) of np.ndarray is not recommended because it will generate extra copies and increase memory consumption\n",
      "  \"because it will generate extra copies and increase \" +\n"
     ]
    },
    {
     "name": "stdout",
     "output_type": "stream",
     "text": [
      "test y shape : (17520, 1)\n",
      "Inv y shape : (17520, 2)\n",
      "y pred shape : (17520, 1)\n",
      "inv y pred : (17520, 2)\n",
      "Run 3 Mean Absolute Error: 15.352953035707031\n",
      "RMSE: 21.729\n",
      "R^2: 0.583\n",
      "[['node_3_pressure', 'node_16_demand', 'node_6_demand', 'node_30_pressure', 'link_23_flow', 'node_4_demand', 'node_11_demand', 'link_12_flow', 'link_22_flow', 'node_13_pressure', 'node_4_pressure', 'node_5_pressure', 'node_17_demand', 'node_9_demand', 'link_26_flow', 'link_32_flow', 'link_31_flow', 'node_18_demand', 'node_28_demand', 'node_2_pressure', 'node_27_pressure', 'node_31_demand', 'node_16_pressure', 'link_11_flow', 'node_22_pressure', 'node_5_demand', 'link_17_flow', 'node_22_demand', 'node_7_pressure', 'link_9_flow', 'node_10_pressure', 'link_20_flow', 'reservoir_pressure', 'link_13_flow', 'node_23_demand', 'link_2_flow', 'link_7_flow', 'node_14_pressure', 'node_18_pressure', 'link_10_flow', 'node_14_demand', 'node_27_demand', 'link_8_flow', 'node_21_demand', 'node_7_demand', 'link_6_flow', 'link_25_flow', 'node_25_pressure', 'node_12_demand', 'link_28_flow', 'node_31_pressure', 'link_1_flow', 'node_15_demand', 'node_10_demand', 'node_8_demand', 'node_25_demand', 'link_19_flow', 'node_26_pressure', 'node_8_pressure', 'link_15_flow', 'node_20_demand', 'node_20_pressure', 'node_3_demand', 'link_16_flow', 'node_1_pressure', 'node_30_demand', 'link_18_flow', 'link_21_flow', 'link_14_flow', 'reservoir_demand', 'node_24_demand', 'link_29_flow', 'link_3_flow', 'node_19_pressure', 'node_19_demand', 'node_15_pressure', 'node_23_pressure', 'node_12_pressure', 'link_24_flow', 'node_13_demand', 'node_11_pressure', 'node_28_pressure', 'node_17_pressure', 'node_9_pressure', 'link_27_flow', 'link_5_flow', 'node_29_demand', 'link_4_flow', 'node_1_demand', 'node_21_pressure', 'link_30_flow', 'node_2_demand', 'node_6_pressure', 'node_24_pressure']]\n",
      "starting df shape: (87600, 2)\n",
      "This is training run 4 and has the shape:  (87600, 2)\n",
      "The value of dropped columns is 95\n"
     ]
    },
    {
     "name": "stderr",
     "output_type": "stream",
     "text": [
      "/Users/alexellard/opt/anaconda3/lib/python3.7/site-packages/xgboost/data.py:96: UserWarning: Use subset (sliced data) of np.ndarray is not recommended because it will generate extra copies and increase memory consumption\n",
      "  \"because it will generate extra copies and increase \" +\n"
     ]
    },
    {
     "name": "stdout",
     "output_type": "stream",
     "text": [
      "test y shape : (17520, 1)\n",
      "Inv y shape : (17520, 2)\n",
      "y pred shape : (17520, 1)\n",
      "inv y pred : (17520, 2)\n",
      "Run 4 Mean Absolute Error: 8.314638124649592\n",
      "RMSE: 10.821\n",
      "R^2: 0.820\n",
      "[['node_4_pressure', 'node_22_demand', 'node_9_demand', 'link_22_flow', 'link_24_flow', 'node_6_demand', 'node_3_demand', 'link_13_flow', 'node_11_pressure', 'node_14_demand', 'node_9_pressure', 'link_16_flow', 'link_26_flow', 'node_16_demand', 'node_7_pressure', 'node_1_pressure', 'node_13_pressure', 'node_8_demand', 'node_18_demand', 'node_21_demand', 'node_19_pressure', 'node_30_demand', 'node_16_pressure', 'node_20_pressure', 'link_4_flow', 'link_19_flow', 'node_5_pressure', 'node_20_demand', 'node_17_pressure', 'node_27_demand', 'node_8_pressure', 'node_21_pressure', 'node_10_demand', 'node_12_pressure', 'link_32_flow', 'link_12_flow', 'node_14_pressure', 'link_2_flow', 'node_2_pressure', 'reservoir_demand', 'link_28_flow', 'link_21_flow', 'node_15_pressure', 'node_25_pressure', 'node_2_demand', 'link_27_flow', 'link_17_flow', 'node_15_demand', 'node_4_demand', 'node_11_demand', 'node_3_pressure', 'link_18_flow', 'node_17_demand', 'link_20_flow', 'link_9_flow', 'node_6_pressure', 'link_1_flow', 'node_7_demand', 'node_5_demand', 'link_29_flow', 'link_10_flow', 'node_27_pressure', 'link_15_flow', 'node_26_demand', 'link_6_flow', 'link_5_flow', 'link_25_flow', 'node_23_demand', 'link_3_flow', 'node_26_pressure', 'link_30_flow', 'link_11_flow', 'node_24_demand', 'node_25_demand', 'link_8_flow', 'node_28_demand', 'node_13_demand', 'link_7_flow', 'node_18_pressure', 'node_22_pressure', 'node_28_pressure', 'link_31_flow', 'link_14_flow', 'node_19_demand', 'node_30_pressure', 'node_23_pressure', 'node_24_pressure', 'node_12_demand', 'node_31_demand', 'node_10_pressure', 'reservoir_pressure', 'node_29_demand', 'link_23_flow', 'node_31_pressure']]\n",
      "starting df shape: (87600, 2)\n",
      "This is training run 5 and has the shape:  (87600, 2)\n",
      "The value of dropped columns is 95\n"
     ]
    },
    {
     "name": "stderr",
     "output_type": "stream",
     "text": [
      "/Users/alexellard/opt/anaconda3/lib/python3.7/site-packages/xgboost/data.py:96: UserWarning: Use subset (sliced data) of np.ndarray is not recommended because it will generate extra copies and increase memory consumption\n",
      "  \"because it will generate extra copies and increase \" +\n"
     ]
    },
    {
     "name": "stdout",
     "output_type": "stream",
     "text": [
      "test y shape : (17520, 1)\n",
      "Inv y shape : (17520, 2)\n",
      "y pred shape : (17520, 1)\n",
      "inv y pred : (17520, 2)\n",
      "Run 5 Mean Absolute Error: 34.445120769470954\n",
      "RMSE: 43.866\n",
      "R^2: 0.648\n",
      "[['link_24_flow', 'node_3_demand', 'node_25_demand', 'node_2_demand', 'node_9_demand', 'node_11_pressure', 'node_24_pressure', 'link_26_flow', 'link_8_flow', 'node_14_demand', 'link_30_flow', 'node_21_pressure', 'link_27_flow', 'link_10_flow', 'reservoir_demand', 'node_4_pressure', 'node_19_pressure', 'node_2_pressure', 'reservoir_pressure', 'node_22_pressure', 'node_7_demand', 'node_15_pressure', 'link_20_flow', 'node_11_demand', 'node_28_demand', 'link_6_flow', 'node_29_demand', 'node_7_pressure', 'node_9_pressure', 'node_13_demand', 'node_1_demand', 'node_12_demand', 'link_5_flow', 'node_17_pressure', 'link_18_flow', 'link_14_flow', 'node_6_demand', 'node_26_pressure', 'node_17_demand', 'node_20_pressure', 'node_10_pressure', 'node_30_demand', 'link_4_flow', 'node_27_demand', 'link_16_flow', 'node_10_demand', 'link_17_flow', 'link_22_flow', 'node_28_pressure', 'node_23_demand', 'link_13_flow', 'node_14_pressure', 'node_16_pressure', 'link_31_flow', 'link_7_flow', 'link_32_flow', 'node_5_demand', 'node_5_pressure', 'link_11_flow', 'node_30_pressure', 'node_8_pressure', 'node_8_demand', 'link_2_flow', 'node_19_demand', 'node_31_demand', 'link_15_flow', 'link_28_flow', 'node_25_pressure', 'link_9_flow', 'link_25_flow', 'link_29_flow', 'link_12_flow', 'link_23_flow', 'node_18_pressure', 'node_20_demand', 'node_1_pressure', 'node_13_pressure', 'node_23_pressure', 'node_4_demand', 'node_18_demand', 'link_21_flow', 'node_16_demand', 'node_3_pressure', 'node_21_demand', 'node_24_demand', 'node_27_pressure', 'link_19_flow', 'node_15_demand', 'node_6_pressure', 'node_12_pressure', 'link_1_flow', 'node_26_demand', 'node_22_demand', 'node_31_pressure']]\n",
      "starting df shape: (87600, 2)\n",
      "This is training run 6 and has the shape:  (87600, 2)\n",
      "The value of dropped columns is 95\n"
     ]
    },
    {
     "name": "stderr",
     "output_type": "stream",
     "text": [
      "/Users/alexellard/opt/anaconda3/lib/python3.7/site-packages/xgboost/data.py:96: UserWarning: Use subset (sliced data) of np.ndarray is not recommended because it will generate extra copies and increase memory consumption\n",
      "  \"because it will generate extra copies and increase \" +\n"
     ]
    },
    {
     "name": "stdout",
     "output_type": "stream",
     "text": [
      "test y shape : (17520, 1)\n",
      "Inv y shape : (17520, 2)\n",
      "y pred shape : (17520, 1)\n",
      "inv y pred : (17520, 2)\n",
      "Run 6 Mean Absolute Error: 140.32666936554924\n",
      "RMSE: 206.626\n",
      "R^2: 0.792\n",
      "[['link_8_flow', 'link_26_flow', 'link_13_flow', 'node_16_pressure', 'link_23_flow', 'node_2_demand', 'node_28_demand', 'node_14_pressure', 'node_15_pressure', 'node_30_pressure', 'link_1_flow', 'node_10_demand', 'node_28_pressure', 'node_10_pressure', 'link_28_flow', 'node_13_pressure', 'link_20_flow', 'node_25_pressure', 'link_16_flow', 'node_26_pressure', 'node_22_demand', 'node_26_demand', 'link_12_flow', 'link_7_flow', 'node_4_demand', 'node_1_pressure', 'node_31_pressure', 'node_5_pressure', 'reservoir_demand', 'link_10_flow', 'link_5_flow', 'node_4_pressure', 'node_8_pressure', 'node_29_demand', 'node_15_demand', 'link_25_flow', 'link_31_flow', 'node_19_pressure', 'node_27_demand', 'reservoir_pressure', 'node_6_demand', 'link_32_flow', 'link_15_flow', 'node_19_demand', 'node_22_pressure', 'node_20_demand', 'node_25_demand', 'node_3_pressure', 'link_18_flow', 'node_30_demand', 'node_16_demand', 'link_27_flow', 'link_4_flow', 'link_17_flow', 'node_21_pressure', 'link_6_flow', 'node_27_pressure', 'node_23_pressure', 'node_3_demand', 'node_12_pressure', 'node_18_pressure', 'node_11_demand', 'node_20_pressure', 'node_2_pressure', 'node_31_demand', 'link_3_flow', 'node_17_pressure', 'node_9_demand', 'node_7_pressure', 'node_1_demand', 'link_11_flow', 'link_21_flow', 'node_13_demand', 'node_18_demand', 'link_19_flow', 'node_9_pressure', 'node_12_demand', 'node_21_demand', 'node_5_demand', 'link_9_flow', 'node_8_demand', 'node_17_demand', 'node_6_pressure', 'node_24_pressure', 'link_30_flow', 'link_2_flow', 'node_24_demand', 'link_22_flow', 'link_29_flow', 'link_24_flow', 'node_11_pressure', 'node_14_demand', 'node_23_demand', 'link_14_flow']]\n",
      "starting df shape: (87600, 2)\n",
      "This is training run 7 and has the shape:  (87600, 2)\n",
      "The value of dropped columns is 95\n"
     ]
    },
    {
     "name": "stderr",
     "output_type": "stream",
     "text": [
      "/Users/alexellard/opt/anaconda3/lib/python3.7/site-packages/xgboost/data.py:96: UserWarning: Use subset (sliced data) of np.ndarray is not recommended because it will generate extra copies and increase memory consumption\n",
      "  \"because it will generate extra copies and increase \" +\n"
     ]
    },
    {
     "name": "stdout",
     "output_type": "stream",
     "text": [
      "test y shape : (17520, 1)\n",
      "Inv y shape : (17520, 2)\n",
      "y pred shape : (17520, 1)\n",
      "inv y pred : (17520, 2)\n",
      "Run 7 Mean Absolute Error: 16.045677280582826\n",
      "RMSE: 22.450\n",
      "R^2: 0.725\n",
      "[['node_25_demand', 'node_9_pressure', 'link_32_flow', 'link_19_flow', 'link_30_flow', 'node_23_demand', 'link_13_flow', 'link_12_flow', 'link_10_flow', 'node_26_pressure', 'link_28_flow', 'node_20_demand', 'node_15_demand', 'node_18_demand', 'node_21_pressure', 'node_17_demand', 'node_8_pressure', 'link_8_flow', 'node_20_pressure', 'node_10_demand', 'node_11_demand', 'link_29_flow', 'link_11_flow', 'node_30_demand', 'node_19_demand', 'link_18_flow', 'link_31_flow', 'link_23_flow', 'link_16_flow', 'link_5_flow', 'link_2_flow', 'node_7_pressure', 'reservoir_demand', 'node_9_demand', 'node_27_pressure', 'link_27_flow', 'link_4_flow', 'link_22_flow', 'node_16_demand', 'node_28_pressure', 'node_30_pressure', 'link_20_flow', 'node_1_demand', 'node_14_pressure', 'node_18_pressure', 'link_9_flow', 'node_2_pressure', 'node_29_demand', 'link_24_flow', 'link_1_flow', 'node_3_demand', 'node_14_demand', 'node_7_demand', 'node_17_pressure', 'node_27_demand', 'link_6_flow', 'node_23_pressure', 'link_7_flow', 'node_4_pressure', 'link_3_flow', 'node_24_pressure', 'node_6_demand', 'node_31_pressure', 'node_13_demand', 'node_28_demand', 'node_11_pressure', 'node_15_pressure', 'node_21_demand', 'node_1_pressure', 'link_26_flow', 'node_31_demand', 'node_25_pressure', 'node_8_demand', 'node_4_demand', 'node_5_demand', 'node_10_pressure', 'node_3_pressure', 'node_26_demand', 'node_19_pressure', 'node_2_demand', 'link_25_flow', 'node_5_pressure', 'link_21_flow', 'node_12_pressure', 'node_16_pressure', 'node_13_pressure', 'link_15_flow', 'link_14_flow', 'node_12_demand', 'node_6_pressure', 'node_22_pressure', 'reservoir_pressure', 'node_22_demand', 'link_17_flow']]\n",
      "starting df shape: (87600, 2)\n",
      "This is training run 8 and has the shape:  (87600, 2)\n",
      "The value of dropped columns is 95\n"
     ]
    },
    {
     "name": "stderr",
     "output_type": "stream",
     "text": [
      "/Users/alexellard/opt/anaconda3/lib/python3.7/site-packages/xgboost/data.py:96: UserWarning: Use subset (sliced data) of np.ndarray is not recommended because it will generate extra copies and increase memory consumption\n",
      "  \"because it will generate extra copies and increase \" +\n"
     ]
    },
    {
     "name": "stdout",
     "output_type": "stream",
     "text": [
      "test y shape : (17520, 1)\n",
      "Inv y shape : (17520, 2)\n",
      "y pred shape : (17520, 1)\n",
      "inv y pred : (17520, 2)\n",
      "Run 8 Mean Absolute Error: 5.759251773414535\n",
      "RMSE: 7.653\n",
      "R^2: 0.639\n",
      "[['link_13_flow', 'link_29_flow', 'link_19_flow', 'node_3_pressure', 'node_1_pressure', 'link_18_flow', 'node_22_demand', 'link_32_flow', 'node_17_demand', 'node_28_pressure', 'node_2_pressure', 'link_20_flow', 'reservoir_pressure', 'node_18_demand', 'node_8_demand', 'node_12_pressure', 'node_27_pressure', 'link_27_flow', 'link_26_flow', 'node_21_demand', 'node_25_pressure', 'node_6_demand', 'node_20_demand', 'node_27_demand', 'node_26_demand', 'link_28_flow', 'reservoir_demand', 'node_1_demand', 'node_20_pressure', 'link_15_flow', 'node_9_demand', 'node_16_pressure', 'link_12_flow', 'link_23_flow', 'node_5_pressure', 'node_15_pressure', 'link_5_flow', 'node_18_pressure', 'node_3_demand', 'link_8_flow', 'node_2_demand', 'node_8_pressure', 'node_14_demand', 'node_31_pressure', 'node_25_demand', 'node_7_pressure', 'link_22_flow', 'node_22_pressure', 'node_19_demand', 'node_11_demand', 'link_10_flow', 'link_17_flow', 'node_10_demand', 'node_14_pressure', 'node_30_pressure', 'link_31_flow', 'node_21_pressure', 'link_21_flow', 'node_12_demand', 'node_17_pressure', 'node_9_pressure', 'node_24_demand', 'node_6_pressure', 'node_26_pressure', 'link_9_flow', 'link_30_flow', 'node_19_pressure', 'link_6_flow', 'node_31_demand', 'node_16_demand', 'link_7_flow', 'link_1_flow', 'link_14_flow', 'node_23_demand', 'link_24_flow', 'node_4_pressure', 'node_5_demand', 'node_13_demand', 'node_29_demand', 'node_10_pressure', 'node_23_pressure', 'node_11_pressure', 'node_30_demand', 'node_13_pressure', 'link_11_flow', 'link_16_flow', 'link_3_flow', 'link_2_flow', 'node_15_demand', 'link_4_flow', 'node_28_demand', 'node_4_demand', 'node_24_pressure', 'link_25_flow']]\n",
      "starting df shape: (87600, 2)\n",
      "This is training run 9 and has the shape:  (87600, 2)\n",
      "The value of dropped columns is 95\n"
     ]
    },
    {
     "name": "stderr",
     "output_type": "stream",
     "text": [
      "/Users/alexellard/opt/anaconda3/lib/python3.7/site-packages/xgboost/data.py:96: UserWarning: Use subset (sliced data) of np.ndarray is not recommended because it will generate extra copies and increase memory consumption\n",
      "  \"because it will generate extra copies and increase \" +\n"
     ]
    },
    {
     "name": "stdout",
     "output_type": "stream",
     "text": [
      "test y shape : (17520, 1)\n",
      "Inv y shape : (17520, 2)\n",
      "y pred shape : (17520, 1)\n",
      "inv y pred : (17520, 2)\n",
      "Run 9 Mean Absolute Error: 16.045677280582826\n",
      "RMSE: 22.450\n",
      "R^2: 0.725\n",
      "[['reservoir_demand', 'node_22_demand', 'node_25_pressure', 'node_19_pressure', 'link_25_flow', 'node_20_demand', 'link_30_flow', 'node_24_pressure', 'link_12_flow', 'node_10_demand', 'node_23_pressure', 'node_18_demand', 'link_15_flow', 'link_10_flow', 'node_16_demand', 'link_6_flow', 'link_24_flow', 'link_20_flow', 'link_2_flow', 'node_1_demand', 'node_9_pressure', 'node_27_pressure', 'link_32_flow', 'node_31_demand', 'link_13_flow', 'node_14_demand', 'node_11_pressure', 'node_25_demand', 'reservoir_pressure', 'link_8_flow', 'node_6_demand', 'node_9_demand', 'node_4_demand', 'link_5_flow', 'node_2_demand', 'link_22_flow', 'node_8_pressure', 'node_12_demand', 'link_7_flow', 'link_17_flow', 'node_30_pressure', 'node_27_demand', 'node_6_pressure', 'link_23_flow', 'node_13_demand', 'node_19_demand', 'node_30_demand', 'node_10_pressure', 'node_23_demand', 'node_20_pressure', 'link_19_flow', 'node_7_pressure', 'node_26_pressure', 'link_26_flow', 'node_31_pressure', 'node_29_demand', 'link_27_flow', 'node_17_pressure', 'link_16_flow', 'node_26_demand', 'node_3_pressure', 'node_28_pressure', 'link_29_flow', 'link_28_flow', 'link_21_flow', 'node_2_pressure', 'node_18_pressure', 'node_15_demand', 'node_5_demand', 'node_24_demand', 'node_1_pressure', 'node_28_demand', 'node_12_pressure', 'node_21_demand', 'node_13_pressure', 'link_31_flow', 'link_14_flow', 'node_15_pressure', 'link_18_flow', 'node_14_pressure', 'node_5_pressure', 'node_4_pressure', 'link_4_flow', 'node_17_demand', 'link_1_flow', 'node_22_pressure', 'node_21_pressure', 'link_3_flow', 'link_11_flow', 'node_3_demand', 'node_7_demand', 'node_11_demand', 'node_16_pressure', 'link_9_flow']]\n",
      "starting df shape: (87600, 2)\n",
      "This is training run 10 and has the shape:  (87600, 2)\n",
      "The value of dropped columns is 95\n"
     ]
    },
    {
     "name": "stderr",
     "output_type": "stream",
     "text": [
      "/Users/alexellard/opt/anaconda3/lib/python3.7/site-packages/xgboost/data.py:96: UserWarning: Use subset (sliced data) of np.ndarray is not recommended because it will generate extra copies and increase memory consumption\n",
      "  \"because it will generate extra copies and increase \" +\n"
     ]
    },
    {
     "name": "stdout",
     "output_type": "stream",
     "text": [
      "test y shape : (17520, 1)\n",
      "Inv y shape : (17520, 2)\n",
      "y pred shape : (17520, 1)\n",
      "inv y pred : (17520, 2)\n",
      "Run 10 Mean Absolute Error: 15.27483413028898\n",
      "RMSE: 21.119\n",
      "R^2: 0.669\n",
      "Length MAE_average:  20\n",
      "Length sensors_covered:  20\n"
     ]
    }
   ],
   "source": [
    "#Run pressure node 29\n",
    "\n",
    "MAE_average = []\n",
    "RMSE_average = []\n",
    "R2_average = []\n",
    "maximum_MAE = []\n",
    "sensors_covered = []\n",
    "n_columns_to_drop = [0, 5, 10, 15, 20, 25, 30, 35, 40, 45, 50, 55, 60, 65, 70, 75, 80, 85, 90, 95]\n",
    "for n in n_columns_to_drop:\n",
    "    MAE = []\n",
    "    RMSE = []\n",
    "    R2 = []\n",
    "    for run in range(1,11):\n",
    "        Y = df[df.columns[61]]\n",
    "        X = df.drop(columns=['node_29_pressure'])\n",
    "        X['node_29_pressure'] = Y\n",
    "        columns = []\n",
    "        columns_to_drop = random.sample(list(X.columns), n)\n",
    "        # Drop the selected columns from the dataframe\n",
    "        if X.columns[-1] in columns_to_drop:\n",
    "            columns_to_drop.remove(X.columns[-1])\n",
    "        X.drop(columns_to_drop, axis=1, inplace=True)\n",
    "        columns.append(columns_to_drop)\n",
    "        print(columns)\n",
    "        print('starting df shape:', X.shape)\n",
    "        print(f'This is training run {run} and has the shape: ', X.shape)\n",
    "        print(f'The value of dropped columns is {n}')\n",
    "\n",
    "        # split into train and test sets\n",
    "        values = X.values\n",
    "        scaler = MinMaxScaler(feature_range=(0, 1))\n",
    "        scaled = scaler.fit_transform(values)\n",
    "        train, test = train_test_split(scaled, test_size=0.2, random_state=0)\n",
    "\n",
    "        # split into input and outputs\n",
    "        train_X, train_y = train[:, :-1], train[:, -1]\n",
    "        test_X, test_y = test[:, :-1], test[:, -1]\n",
    "\n",
    "        #define model\n",
    "        model = xgb.XGBRegressor(\n",
    "            objective='reg:squarederror',\n",
    "            n_estimators=100,\n",
    "            max_depth=6,\n",
    "            learning_rate=0.1,\n",
    "            subsample=0.9,\n",
    "            colsample_bytree=0.8,\n",
    "            random_state=42\n",
    "        )\n",
    "\n",
    "        # fit the model on the training data\n",
    "        model.fit(train_X, train_y)\n",
    "\n",
    "        # make predictions on the test data\n",
    "        y_pred = model.predict(test_X)\n",
    "\n",
    "        test_y = test_y.reshape((len(test_y), 1))\n",
    "        print('test y shape :', test_y.shape)\n",
    "        inv_test_y = concatenate((test_y, test_X[:, -X.shape[1]:]), axis=1)\n",
    "        print('Inv y shape :', inv_test_y.shape)\n",
    "        test_y_inverse = scaler.inverse_transform(inv_test_y)\n",
    "        test_y_inverse = test_y_inverse[:,0]\n",
    "        \n",
    "        y_pred = y_pred.reshape((len(y_pred), 1))\n",
    "        print('y pred shape :', y_pred.shape)\n",
    "        inv_y_pred = concatenate((y_pred, test_X[:, -X.shape[1]:]), axis=1)\n",
    "        print('inv y pred :', inv_y_pred.shape)\n",
    "        y_pred_inverse = scaler.inverse_transform(inv_y_pred)\n",
    "        y_pred_inverse = y_pred_inverse[:,0]\n",
    "\n",
    "        # evaluate scaled errors\n",
    "        mae_inverse = mean_absolute_error(test_y_inverse, y_pred_inverse)\n",
    "        MAE.append(mae_inverse)\n",
    "        print(f'Run {run} Mean Absolute Error:', mae_inverse)\n",
    "        rmse_inverse = sqrt(mean_squared_error(test_y_inverse, y_pred_inverse))\n",
    "        RMSE.append(rmse_inverse)\n",
    "        print('RMSE: %.3f' % rmse_inverse)\n",
    "        r2_inverse = r2_score(test_y_inverse, y_pred_inverse)\n",
    "        R2.append(r2_inverse)\n",
    "        print('R^2: %.3f' % r2_inverse)\n",
    "    percentage_list = round(X.shape[1] / 96 * 100)\n",
    "    sensors_covered.append(percentage_list)\n",
    "    MAE_mean = mean(MAE)\n",
    "    RMSE_mean = mean(RMSE)\n",
    "    R2_mean = mean(R2)\n",
    "    max_MAE = max(MAE)\n",
    "    maximum_MAE.append(max_MAE)\n",
    "    MAE_average.append(MAE_mean)\n",
    "    RMSE_average.append(RMSE_mean)\n",
    "    R2_average.append(R2_mean)\n",
    "print('Length MAE_average: ', len(MAE_average))\n",
    "print('Length sensors_covered: ', len(sensors_covered))"
   ]
  },
  {
   "cell_type": "code",
   "execution_count": 4,
   "metadata": {},
   "outputs": [
    {
     "data": {
      "image/png": "[encoded data removed]",
      "text/plain": [
       "<Figure size 432x288 with 1 Axes>"
      ]
     },
     "metadata": {
      "needs_background": "light"
     },
     "output_type": "display_data"
    }
   ],
   "source": [
    "plt.plot(sensors_covered, MAE_average)\n",
    "plt.ylabel(\"Mean Absolute Error\")\n",
    "plt.xlabel(\"Sensor Cover %\")\n",
    "plt.title(\"MAE vs. Coverage Pressure Node 29\")\n",
    "plt.xlim([100, 0])\n",
    "plt.show()"
   ]
  },
  {
   "cell_type": "code",
   "execution_count": 9,
   "metadata": {},
   "outputs": [
    {
     "data": {
      "image/png": "[encoded data removed]",
      "text/plain": [
       "<Figure size 432x288 with 1 Axes>"
      ]
     },
     "metadata": {
      "needs_background": "light"
     },
     "output_type": "display_data"
    }
   ],
   "source": [
    "plt.plot(sensors_covered, maximum_MAE)\n",
    "plt.ylabel(\"Mean Absolute Error\")\n",
    "plt.xlabel(\"Sensor Cover %\")\n",
    "plt.title(\"MAE vs. Coverage Pressure Node 29\")\n",
    "plt.xlim([100, 0])\n",
    "plt.savefig('/Users/alexellard/Downloads/MAXPressureMAEnode29.png')\n",
    "plt.show()"
   ]
  },
  {
   "cell_type": "code",
   "execution_count": 6,
   "metadata": {},
   "outputs": [
    {
     "data": {
      "image/png": "[encoded data removed]",
      "text/plain": [
       "<Figure size 432x288 with 1 Axes>"
      ]
     },
     "metadata": {
      "needs_background": "light"
     },
     "output_type": "display_data"
    }
   ],
   "source": [
    "plt.plot(sensors_covered, RMSE_average)\n",
    "plt.ylabel(\"Root Mean Squared Error\")\n",
    "plt.xlabel(\"Sensor Cover %\")\n",
    "plt.title(\"RMSE vs. Coverage Pressure Node 29\")\n",
    "plt.xlim([100, 0])\n",
    "plt.show()"
   ]
  },
  {
   "cell_type": "code",
   "execution_count": 8,
   "metadata": {},
   "outputs": [
    {
     "data": {
      "image/png": "[encoded data removed]",
      "text/plain": [
       "<Figure size 432x288 with 1 Axes>"
      ]
     },
     "metadata": {
      "needs_background": "light"
     },
     "output_type": "display_data"
    }
   ],
   "source": [
    "plt.plot(sensors_covered, R2_average)\n",
    "plt.ylabel(\"R2\")\n",
    "plt.xlabel(\"Sensor Cover %\")\n",
    "plt.title(\"R2 vs. Coverage Pressure Node 29\")\n",
    "plt.show()"
   ]
  },
  {
   "cell_type": "code",
   "execution_count": 10,
   "metadata": {},
   "outputs": [
    {
     "name": "stdout",
     "output_type": "stream",
     "text": [
      "[[]]\n",
      "starting df shape: (87600, 96)\n",
      "This is training run 1 and has the shape:  (87600, 96)\n",
      "The value of dropped columns is 0\n"
     ]
    },
    {
     "name": "stderr",
     "output_type": "stream",
     "text": [
      "/Users/alexellard/opt/anaconda3/lib/python3.7/site-packages/xgboost/data.py:96: UserWarning: Use subset (sliced data) of np.ndarray is not recommended because it will generate extra copies and increase memory consumption\n",
      "  \"because it will generate extra copies and increase \" +\n"
     ]
    },
    {
     "name": "stdout",
     "output_type": "stream",
     "text": [
      "test y shape : (17520, 1)\n",
      "Inv y shape : (17520, 96)\n",
      "y pred shape : (17520, 1)\n",
      "inv y pred : (17520, 96)\n",
      "Run 1 Mean Absolute Error: 7.354637090832215\n",
      "RMSE: 10.219\n",
      "R^2: 1.000\n",
      "[[]]\n",
      "starting df shape: (87600, 96)\n",
      "This is training run 2 and has the shape:  (87600, 96)\n",
      "The value of dropped columns is 0\n"
     ]
    },
    {
     "name": "stderr",
     "output_type": "stream",
     "text": [
      "/Users/alexellard/opt/anaconda3/lib/python3.7/site-packages/xgboost/data.py:96: UserWarning: Use subset (sliced data) of np.ndarray is not recommended because it will generate extra copies and increase memory consumption\n",
      "  \"because it will generate extra copies and increase \" +\n"
     ]
    },
    {
     "name": "stdout",
     "output_type": "stream",
     "text": [
      "test y shape : (17520, 1)\n",
      "Inv y shape : (17520, 96)\n",
      "y pred shape : (17520, 1)\n",
      "inv y pred : (17520, 96)\n",
      "Run 2 Mean Absolute Error: 7.354637090832215\n",
      "RMSE: 10.219\n",
      "R^2: 1.000\n",
      "[[]]\n",
      "starting df shape: (87600, 96)\n",
      "This is training run 3 and has the shape:  (87600, 96)\n",
      "The value of dropped columns is 0\n"
     ]
    },
    {
     "name": "stderr",
     "output_type": "stream",
     "text": [
      "/Users/alexellard/opt/anaconda3/lib/python3.7/site-packages/xgboost/data.py:96: UserWarning: Use subset (sliced data) of np.ndarray is not recommended because it will generate extra copies and increase memory consumption\n",
      "  \"because it will generate extra copies and increase \" +\n"
     ]
    },
    {
     "name": "stdout",
     "output_type": "stream",
     "text": [
      "test y shape : (17520, 1)\n",
      "Inv y shape : (17520, 96)\n",
      "y pred shape : (17520, 1)\n",
      "inv y pred : (17520, 96)\n",
      "Run 3 Mean Absolute Error: 7.354637090832215\n",
      "RMSE: 10.219\n",
      "R^2: 1.000\n",
      "[[]]\n",
      "starting df shape: (87600, 96)\n",
      "This is training run 4 and has the shape:  (87600, 96)\n",
      "The value of dropped columns is 0\n"
     ]
    },
    {
     "name": "stderr",
     "output_type": "stream",
     "text": [
      "/Users/alexellard/opt/anaconda3/lib/python3.7/site-packages/xgboost/data.py:96: UserWarning: Use subset (sliced data) of np.ndarray is not recommended because it will generate extra copies and increase memory consumption\n",
      "  \"because it will generate extra copies and increase \" +\n"
     ]
    },
    {
     "name": "stdout",
     "output_type": "stream",
     "text": [
      "test y shape : (17520, 1)\n",
      "Inv y shape : (17520, 96)\n",
      "y pred shape : (17520, 1)\n",
      "inv y pred : (17520, 96)\n",
      "Run 4 Mean Absolute Error: 7.354637090832215\n",
      "RMSE: 10.219\n",
      "R^2: 1.000\n",
      "[[]]\n",
      "starting df shape: (87600, 96)\n",
      "This is training run 5 and has the shape:  (87600, 96)\n",
      "The value of dropped columns is 0\n"
     ]
    },
    {
     "name": "stderr",
     "output_type": "stream",
     "text": [
      "/Users/alexellard/opt/anaconda3/lib/python3.7/site-packages/xgboost/data.py:96: UserWarning: Use subset (sliced data) of np.ndarray is not recommended because it will generate extra copies and increase memory consumption\n",
      "  \"because it will generate extra copies and increase \" +\n"
     ]
    },
    {
     "name": "stdout",
     "output_type": "stream",
     "text": [
      "test y shape : (17520, 1)\n",
      "Inv y shape : (17520, 96)\n",
      "y pred shape : (17520, 1)\n",
      "inv y pred : (17520, 96)\n",
      "Run 5 Mean Absolute Error: 7.354637090832215\n",
      "RMSE: 10.219\n",
      "R^2: 1.000\n",
      "[[]]\n",
      "starting df shape: (87600, 96)\n",
      "This is training run 6 and has the shape:  (87600, 96)\n",
      "The value of dropped columns is 0\n"
     ]
    },
    {
     "name": "stderr",
     "output_type": "stream",
     "text": [
      "/Users/alexellard/opt/anaconda3/lib/python3.7/site-packages/xgboost/data.py:96: UserWarning: Use subset (sliced data) of np.ndarray is not recommended because it will generate extra copies and increase memory consumption\n",
      "  \"because it will generate extra copies and increase \" +\n"
     ]
    },
    {
     "name": "stdout",
     "output_type": "stream",
     "text": [
      "test y shape : (17520, 1)\n",
      "Inv y shape : (17520, 96)\n",
      "y pred shape : (17520, 1)\n",
      "inv y pred : (17520, 96)\n",
      "Run 6 Mean Absolute Error: 7.354637090832215\n",
      "RMSE: 10.219\n",
      "R^2: 1.000\n",
      "[[]]\n",
      "starting df shape: (87600, 96)\n",
      "This is training run 7 and has the shape:  (87600, 96)\n",
      "The value of dropped columns is 0\n"
     ]
    },
    {
     "name": "stderr",
     "output_type": "stream",
     "text": [
      "/Users/alexellard/opt/anaconda3/lib/python3.7/site-packages/xgboost/data.py:96: UserWarning: Use subset (sliced data) of np.ndarray is not recommended because it will generate extra copies and increase memory consumption\n",
      "  \"because it will generate extra copies and increase \" +\n"
     ]
    },
    {
     "name": "stdout",
     "output_type": "stream",
     "text": [
      "test y shape : (17520, 1)\n",
      "Inv y shape : (17520, 96)\n",
      "y pred shape : (17520, 1)\n",
      "inv y pred : (17520, 96)\n",
      "Run 7 Mean Absolute Error: 7.354637090832215\n",
      "RMSE: 10.219\n",
      "R^2: 1.000\n",
      "[[]]\n",
      "starting df shape: (87600, 96)\n",
      "This is training run 8 and has the shape:  (87600, 96)\n",
      "The value of dropped columns is 0\n"
     ]
    },
    {
     "name": "stderr",
     "output_type": "stream",
     "text": [
      "/Users/alexellard/opt/anaconda3/lib/python3.7/site-packages/xgboost/data.py:96: UserWarning: Use subset (sliced data) of np.ndarray is not recommended because it will generate extra copies and increase memory consumption\n",
      "  \"because it will generate extra copies and increase \" +\n"
     ]
    },
    {
     "name": "stdout",
     "output_type": "stream",
     "text": [
      "test y shape : (17520, 1)\n",
      "Inv y shape : (17520, 96)\n",
      "y pred shape : (17520, 1)\n",
      "inv y pred : (17520, 96)\n",
      "Run 8 Mean Absolute Error: 7.354637090832215\n",
      "RMSE: 10.219\n",
      "R^2: 1.000\n",
      "[[]]\n",
      "starting df shape: (87600, 96)\n",
      "This is training run 9 and has the shape:  (87600, 96)\n",
      "The value of dropped columns is 0\n"
     ]
    },
    {
     "name": "stderr",
     "output_type": "stream",
     "text": [
      "/Users/alexellard/opt/anaconda3/lib/python3.7/site-packages/xgboost/data.py:96: UserWarning: Use subset (sliced data) of np.ndarray is not recommended because it will generate extra copies and increase memory consumption\n",
      "  \"because it will generate extra copies and increase \" +\n"
     ]
    },
    {
     "name": "stdout",
     "output_type": "stream",
     "text": [
      "test y shape : (17520, 1)\n",
      "Inv y shape : (17520, 96)\n",
      "y pred shape : (17520, 1)\n",
      "inv y pred : (17520, 96)\n",
      "Run 9 Mean Absolute Error: 7.354637090832215\n",
      "RMSE: 10.219\n",
      "R^2: 1.000\n",
      "[[]]\n",
      "starting df shape: (87600, 96)\n",
      "This is training run 10 and has the shape:  (87600, 96)\n",
      "The value of dropped columns is 0\n"
     ]
    },
    {
     "name": "stderr",
     "output_type": "stream",
     "text": [
      "/Users/alexellard/opt/anaconda3/lib/python3.7/site-packages/xgboost/data.py:96: UserWarning: Use subset (sliced data) of np.ndarray is not recommended because it will generate extra copies and increase memory consumption\n",
      "  \"because it will generate extra copies and increase \" +\n"
     ]
    },
    {
     "name": "stdout",
     "output_type": "stream",
     "text": [
      "test y shape : (17520, 1)\n",
      "Inv y shape : (17520, 96)\n",
      "y pred shape : (17520, 1)\n",
      "inv y pred : (17520, 96)\n",
      "Run 10 Mean Absolute Error: 7.354637090832215\n",
      "RMSE: 10.219\n",
      "R^2: 1.000\n",
      "[['node_3_demand', 'node_1_pressure', 'link_17_flow', 'node_21_pressure', 'node_25_pressure']]\n",
      "starting df shape: (87600, 91)\n",
      "This is training run 1 and has the shape:  (87600, 91)\n",
      "The value of dropped columns is 5\n"
     ]
    },
    {
     "name": "stderr",
     "output_type": "stream",
     "text": [
      "/Users/alexellard/opt/anaconda3/lib/python3.7/site-packages/xgboost/data.py:96: UserWarning: Use subset (sliced data) of np.ndarray is not recommended because it will generate extra copies and increase memory consumption\n",
      "  \"because it will generate extra copies and increase \" +\n"
     ]
    },
    {
     "name": "stdout",
     "output_type": "stream",
     "text": [
      "test y shape : (17520, 1)\n",
      "Inv y shape : (17520, 91)\n",
      "y pred shape : (17520, 1)\n",
      "inv y pred : (17520, 91)\n",
      "Run 1 Mean Absolute Error: 7.706061687583214\n",
      "RMSE: 10.779\n",
      "R^2: 1.000\n",
      "[['node_23_demand', 'node_16_demand', 'node_24_demand', 'node_20_demand']]\n",
      "starting df shape: (87600, 92)\n",
      "This is training run 2 and has the shape:  (87600, 92)\n",
      "The value of dropped columns is 5\n"
     ]
    },
    {
     "name": "stderr",
     "output_type": "stream",
     "text": [
      "/Users/alexellard/opt/anaconda3/lib/python3.7/site-packages/xgboost/data.py:96: UserWarning: Use subset (sliced data) of np.ndarray is not recommended because it will generate extra copies and increase memory consumption\n",
      "  \"because it will generate extra copies and increase \" +\n"
     ]
    },
    {
     "name": "stdout",
     "output_type": "stream",
     "text": [
      "test y shape : (17520, 1)\n",
      "Inv y shape : (17520, 92)\n",
      "y pred shape : (17520, 1)\n",
      "inv y pred : (17520, 92)\n",
      "Run 2 Mean Absolute Error: 8.20463588729409\n",
      "RMSE: 11.434\n",
      "R^2: 1.000\n",
      "[['link_18_flow', 'reservoir_demand', 'link_10_flow', 'node_18_demand', 'link_32_flow']]\n",
      "starting df shape: (87600, 91)\n",
      "This is training run 3 and has the shape:  (87600, 91)\n",
      "The value of dropped columns is 5\n"
     ]
    },
    {
     "name": "stderr",
     "output_type": "stream",
     "text": [
      "/Users/alexellard/opt/anaconda3/lib/python3.7/site-packages/xgboost/data.py:96: UserWarning: Use subset (sliced data) of np.ndarray is not recommended because it will generate extra copies and increase memory consumption\n",
      "  \"because it will generate extra copies and increase \" +\n"
     ]
    },
    {
     "name": "stdout",
     "output_type": "stream",
     "text": [
      "test y shape : (17520, 1)\n",
      "Inv y shape : (17520, 91)\n",
      "y pred shape : (17520, 1)\n",
      "inv y pred : (17520, 91)\n",
      "Run 3 Mean Absolute Error: 0.47333358332604997\n",
      "RMSE: 0.659\n",
      "R^2: 1.000\n",
      "[['node_14_demand', 'node_11_pressure', 'link_10_flow', 'link_18_flow', 'link_24_flow']]\n",
      "starting df shape: (87600, 91)\n",
      "This is training run 4 and has the shape:  (87600, 91)\n",
      "The value of dropped columns is 5\n"
     ]
    },
    {
     "name": "stderr",
     "output_type": "stream",
     "text": [
      "/Users/alexellard/opt/anaconda3/lib/python3.7/site-packages/xgboost/data.py:96: UserWarning: Use subset (sliced data) of np.ndarray is not recommended because it will generate extra copies and increase memory consumption\n",
      "  \"because it will generate extra copies and increase \" +\n"
     ]
    },
    {
     "name": "stdout",
     "output_type": "stream",
     "text": [
      "test y shape : (17520, 1)\n",
      "Inv y shape : (17520, 91)\n",
      "y pred shape : (17520, 1)\n",
      "inv y pred : (17520, 91)\n",
      "Run 4 Mean Absolute Error: 7.761835778474066\n",
      "RMSE: 10.854\n",
      "R^2: 1.000\n",
      "[['link_2_flow', 'node_4_pressure', 'node_26_demand', 'node_28_pressure', 'node_31_pressure']]\n",
      "starting df shape: (87600, 91)\n",
      "This is training run 5 and has the shape:  (87600, 91)\n",
      "The value of dropped columns is 5\n"
     ]
    },
    {
     "name": "stderr",
     "output_type": "stream",
     "text": [
      "/Users/alexellard/opt/anaconda3/lib/python3.7/site-packages/xgboost/data.py:96: UserWarning: Use subset (sliced data) of np.ndarray is not recommended because it will generate extra copies and increase memory consumption\n",
      "  \"because it will generate extra copies and increase \" +\n"
     ]
    },
    {
     "name": "stdout",
     "output_type": "stream",
     "text": [
      "test y shape : (17520, 1)\n",
      "Inv y shape : (17520, 91)\n",
      "y pred shape : (17520, 1)\n",
      "inv y pred : (17520, 91)\n",
      "Run 5 Mean Absolute Error: 7.822726623011973\n",
      "RMSE: 10.887\n",
      "R^2: 1.000\n",
      "[['node_12_pressure', 'link_20_flow', 'node_31_demand', 'reservoir_demand', 'node_13_demand']]\n",
      "starting df shape: (87600, 91)\n",
      "This is training run 6 and has the shape:  (87600, 91)\n",
      "The value of dropped columns is 5\n"
     ]
    },
    {
     "name": "stderr",
     "output_type": "stream",
     "text": [
      "/Users/alexellard/opt/anaconda3/lib/python3.7/site-packages/xgboost/data.py:96: UserWarning: Use subset (sliced data) of np.ndarray is not recommended because it will generate extra copies and increase memory consumption\n",
      "  \"because it will generate extra copies and increase \" +\n"
     ]
    },
    {
     "name": "stdout",
     "output_type": "stream",
     "text": [
      "test y shape : (17520, 1)\n",
      "Inv y shape : (17520, 91)\n",
      "y pred shape : (17520, 1)\n",
      "inv y pred : (17520, 91)\n",
      "Run 6 Mean Absolute Error: 0.4586591715902021\n",
      "RMSE: 0.647\n",
      "R^2: 1.000\n",
      "[['node_13_demand', 'node_31_demand', 'link_29_flow', 'node_15_demand', 'node_6_pressure']]\n",
      "starting df shape: (87600, 91)\n",
      "This is training run 7 and has the shape:  (87600, 91)\n",
      "The value of dropped columns is 5\n"
     ]
    },
    {
     "name": "stderr",
     "output_type": "stream",
     "text": [
      "/Users/alexellard/opt/anaconda3/lib/python3.7/site-packages/xgboost/data.py:96: UserWarning: Use subset (sliced data) of np.ndarray is not recommended because it will generate extra copies and increase memory consumption\n",
      "  \"because it will generate extra copies and increase \" +\n"
     ]
    },
    {
     "name": "stdout",
     "output_type": "stream",
     "text": [
      "test y shape : (17520, 1)\n",
      "Inv y shape : (17520, 91)\n",
      "y pred shape : (17520, 1)\n",
      "inv y pred : (17520, 91)\n",
      "Run 7 Mean Absolute Error: 7.744755540097428\n",
      "RMSE: 10.680\n",
      "R^2: 1.000\n",
      "[['link_17_flow', 'reservoir_demand', 'node_21_demand', 'link_29_flow', 'node_6_demand']]\n",
      "starting df shape: (87600, 91)\n",
      "This is training run 8 and has the shape:  (87600, 91)\n",
      "The value of dropped columns is 5\n"
     ]
    },
    {
     "name": "stderr",
     "output_type": "stream",
     "text": [
      "/Users/alexellard/opt/anaconda3/lib/python3.7/site-packages/xgboost/data.py:96: UserWarning: Use subset (sliced data) of np.ndarray is not recommended because it will generate extra copies and increase memory consumption\n",
      "  \"because it will generate extra copies and increase \" +\n"
     ]
    },
    {
     "name": "stdout",
     "output_type": "stream",
     "text": [
      "test y shape : (17520, 1)\n",
      "Inv y shape : (17520, 91)\n",
      "y pred shape : (17520, 1)\n",
      "inv y pred : (17520, 91)\n",
      "Run 8 Mean Absolute Error: 0.48759257262514194\n",
      "RMSE: 0.683\n",
      "R^2: 1.000\n",
      "[['node_12_pressure', 'node_19_pressure', 'link_2_flow', 'node_8_demand', 'reservoir_pressure']]\n",
      "starting df shape: (87600, 91)\n",
      "This is training run 9 and has the shape:  (87600, 91)\n",
      "The value of dropped columns is 5\n"
     ]
    },
    {
     "name": "stderr",
     "output_type": "stream",
     "text": [
      "/Users/alexellard/opt/anaconda3/lib/python3.7/site-packages/xgboost/data.py:96: UserWarning: Use subset (sliced data) of np.ndarray is not recommended because it will generate extra copies and increase memory consumption\n",
      "  \"because it will generate extra copies and increase \" +\n"
     ]
    },
    {
     "name": "stdout",
     "output_type": "stream",
     "text": [
      "test y shape : (17520, 1)\n",
      "Inv y shape : (17520, 91)\n",
      "y pred shape : (17520, 1)\n",
      "inv y pred : (17520, 91)\n",
      "Run 9 Mean Absolute Error: 7.630125722203497\n",
      "RMSE: 10.751\n",
      "R^2: 1.000\n",
      "[['node_9_pressure', 'node_28_demand', 'node_31_pressure', 'node_29_pressure', 'node_16_demand']]\n",
      "starting df shape: (87600, 91)\n",
      "This is training run 10 and has the shape:  (87600, 91)\n",
      "The value of dropped columns is 5\n"
     ]
    },
    {
     "name": "stderr",
     "output_type": "stream",
     "text": [
      "/Users/alexellard/opt/anaconda3/lib/python3.7/site-packages/xgboost/data.py:96: UserWarning: Use subset (sliced data) of np.ndarray is not recommended because it will generate extra copies and increase memory consumption\n",
      "  \"because it will generate extra copies and increase \" +\n"
     ]
    },
    {
     "name": "stdout",
     "output_type": "stream",
     "text": [
      "test y shape : (17520, 1)\n",
      "Inv y shape : (17520, 91)\n",
      "y pred shape : (17520, 1)\n",
      "inv y pred : (17520, 91)\n",
      "Run 10 Mean Absolute Error: 8.454207291611036\n",
      "RMSE: 11.834\n",
      "R^2: 1.000\n",
      "[['node_15_demand', 'node_19_pressure', 'node_15_pressure', 'link_21_flow', 'node_4_pressure', 'link_1_flow', 'node_19_demand', 'node_17_pressure', 'node_8_pressure', 'node_4_demand']]\n",
      "starting df shape: (87600, 86)\n",
      "This is training run 1 and has the shape:  (87600, 86)\n",
      "The value of dropped columns is 10\n"
     ]
    },
    {
     "name": "stderr",
     "output_type": "stream",
     "text": [
      "/Users/alexellard/opt/anaconda3/lib/python3.7/site-packages/xgboost/data.py:96: UserWarning: Use subset (sliced data) of np.ndarray is not recommended because it will generate extra copies and increase memory consumption\n",
      "  \"because it will generate extra copies and increase \" +\n"
     ]
    },
    {
     "name": "stdout",
     "output_type": "stream",
     "text": [
      "test y shape : (17520, 1)\n",
      "Inv y shape : (17520, 86)\n",
      "y pred shape : (17520, 1)\n",
      "inv y pred : (17520, 86)\n",
      "Run 1 Mean Absolute Error: 8.311748284703354\n",
      "RMSE: 11.430\n",
      "R^2: 1.000\n",
      "[['link_26_flow', 'node_1_pressure', 'node_15_pressure', 'node_31_pressure', 'node_4_demand', 'link_16_flow', 'node_29_demand', 'link_13_flow', 'link_11_flow', 'reservoir_demand']]\n",
      "starting df shape: (87600, 86)\n",
      "This is training run 2 and has the shape:  (87600, 86)\n",
      "The value of dropped columns is 10\n"
     ]
    },
    {
     "name": "stderr",
     "output_type": "stream",
     "text": [
      "/Users/alexellard/opt/anaconda3/lib/python3.7/site-packages/xgboost/data.py:96: UserWarning: Use subset (sliced data) of np.ndarray is not recommended because it will generate extra copies and increase memory consumption\n",
      "  \"because it will generate extra copies and increase \" +\n"
     ]
    },
    {
     "name": "stdout",
     "output_type": "stream",
     "text": [
      "test y shape : (17520, 1)\n",
      "Inv y shape : (17520, 86)\n",
      "y pred shape : (17520, 1)\n",
      "inv y pred : (17520, 86)\n",
      "Run 2 Mean Absolute Error: 0.48706978385049704\n",
      "RMSE: 0.666\n",
      "R^2: 1.000\n",
      "[['link_31_flow', 'link_26_flow', 'node_16_demand', 'reservoir_demand', 'node_10_demand', 'node_14_demand', 'node_1_pressure', 'node_31_pressure', 'node_1_demand', 'node_17_demand']]\n",
      "starting df shape: (87600, 86)\n",
      "This is training run 3 and has the shape:  (87600, 86)\n",
      "The value of dropped columns is 10\n"
     ]
    },
    {
     "name": "stderr",
     "output_type": "stream",
     "text": [
      "/Users/alexellard/opt/anaconda3/lib/python3.7/site-packages/xgboost/data.py:96: UserWarning: Use subset (sliced data) of np.ndarray is not recommended because it will generate extra copies and increase memory consumption\n",
      "  \"because it will generate extra copies and increase \" +\n"
     ]
    },
    {
     "name": "stdout",
     "output_type": "stream",
     "text": [
      "test y shape : (17520, 1)\n",
      "Inv y shape : (17520, 86)\n",
      "y pred shape : (17520, 1)\n",
      "inv y pred : (17520, 86)\n",
      "Run 3 Mean Absolute Error: 0.44886167708749924\n",
      "RMSE: 0.631\n",
      "R^2: 1.000\n",
      "[['node_15_pressure', 'node_1_demand', 'node_30_pressure', 'node_18_pressure', 'node_11_demand', 'node_13_demand', 'node_13_pressure', 'node_28_pressure', 'node_6_demand', 'link_11_flow']]\n",
      "starting df shape: (87600, 86)\n",
      "This is training run 4 and has the shape:  (87600, 86)\n",
      "The value of dropped columns is 10\n"
     ]
    },
    {
     "name": "stderr",
     "output_type": "stream",
     "text": [
      "/Users/alexellard/opt/anaconda3/lib/python3.7/site-packages/xgboost/data.py:96: UserWarning: Use subset (sliced data) of np.ndarray is not recommended because it will generate extra copies and increase memory consumption\n",
      "  \"because it will generate extra copies and increase \" +\n"
     ]
    },
    {
     "name": "stdout",
     "output_type": "stream",
     "text": [
      "test y shape : (17520, 1)\n",
      "Inv y shape : (17520, 86)\n",
      "y pred shape : (17520, 1)\n",
      "inv y pred : (17520, 86)\n",
      "Run 4 Mean Absolute Error: 8.169663853398822\n",
      "RMSE: 11.227\n",
      "R^2: 1.000\n",
      "[['node_23_pressure', 'node_1_pressure', 'link_23_flow', 'link_18_flow', 'node_5_pressure', 'link_7_flow', 'node_7_pressure', 'link_8_flow', 'node_31_demand', 'link_5_flow']]\n",
      "starting df shape: (87600, 86)\n",
      "This is training run 5 and has the shape:  (87600, 86)\n",
      "The value of dropped columns is 10\n"
     ]
    },
    {
     "name": "stderr",
     "output_type": "stream",
     "text": [
      "/Users/alexellard/opt/anaconda3/lib/python3.7/site-packages/xgboost/data.py:96: UserWarning: Use subset (sliced data) of np.ndarray is not recommended because it will generate extra copies and increase memory consumption\n",
      "  \"because it will generate extra copies and increase \" +\n"
     ]
    },
    {
     "name": "stdout",
     "output_type": "stream",
     "text": [
      "test y shape : (17520, 1)\n",
      "Inv y shape : (17520, 86)\n",
      "y pred shape : (17520, 1)\n",
      "inv y pred : (17520, 86)\n",
      "Run 5 Mean Absolute Error: 7.571569163618036\n",
      "RMSE: 10.537\n",
      "R^2: 1.000\n",
      "[['node_12_pressure', 'node_7_demand', 'node_27_demand', 'node_11_pressure', 'node_10_demand', 'node_5_demand', 'node_3_demand', 'link_31_flow', 'node_25_pressure', 'node_30_demand']]\n",
      "starting df shape: (87600, 86)\n",
      "This is training run 6 and has the shape:  (87600, 86)\n",
      "The value of dropped columns is 10\n"
     ]
    },
    {
     "name": "stderr",
     "output_type": "stream",
     "text": [
      "/Users/alexellard/opt/anaconda3/lib/python3.7/site-packages/xgboost/data.py:96: UserWarning: Use subset (sliced data) of np.ndarray is not recommended because it will generate extra copies and increase memory consumption\n",
      "  \"because it will generate extra copies and increase \" +\n"
     ]
    },
    {
     "name": "stdout",
     "output_type": "stream",
     "text": [
      "test y shape : (17520, 1)\n",
      "Inv y shape : (17520, 86)\n",
      "y pred shape : (17520, 1)\n",
      "inv y pred : (17520, 86)\n",
      "Run 6 Mean Absolute Error: 6.973810592284074\n",
      "RMSE: 10.063\n",
      "R^2: 1.000\n",
      "[['link_11_flow', 'node_27_demand', 'node_3_pressure', 'link_10_flow', 'link_12_flow', 'node_8_demand', 'node_2_pressure', 'link_19_flow', 'link_14_flow', 'link_29_flow']]\n",
      "starting df shape: (87600, 86)\n",
      "This is training run 7 and has the shape:  (87600, 86)\n",
      "The value of dropped columns is 10\n"
     ]
    },
    {
     "name": "stderr",
     "output_type": "stream",
     "text": [
      "/Users/alexellard/opt/anaconda3/lib/python3.7/site-packages/xgboost/data.py:96: UserWarning: Use subset (sliced data) of np.ndarray is not recommended because it will generate extra copies and increase memory consumption\n",
      "  \"because it will generate extra copies and increase \" +\n"
     ]
    },
    {
     "name": "stdout",
     "output_type": "stream",
     "text": [
      "test y shape : (17520, 1)\n",
      "Inv y shape : (17520, 86)\n",
      "y pred shape : (17520, 1)\n",
      "inv y pred : (17520, 86)\n",
      "Run 7 Mean Absolute Error: 7.543956859213363\n",
      "RMSE: 10.563\n",
      "R^2: 1.000\n",
      "[['link_19_flow', 'node_23_demand', 'node_9_pressure', 'link_13_flow', 'link_3_flow', 'link_22_flow', 'link_29_flow', 'link_16_flow', 'node_28_pressure', 'link_32_flow']]\n",
      "starting df shape: (87600, 86)\n",
      "This is training run 8 and has the shape:  (87600, 86)\n",
      "The value of dropped columns is 10\n"
     ]
    },
    {
     "name": "stderr",
     "output_type": "stream",
     "text": [
      "/Users/alexellard/opt/anaconda3/lib/python3.7/site-packages/xgboost/data.py:96: UserWarning: Use subset (sliced data) of np.ndarray is not recommended because it will generate extra copies and increase memory consumption\n",
      "  \"because it will generate extra copies and increase \" +\n"
     ]
    },
    {
     "name": "stdout",
     "output_type": "stream",
     "text": [
      "test y shape : (17520, 1)\n",
      "Inv y shape : (17520, 86)\n",
      "y pred shape : (17520, 1)\n",
      "inv y pred : (17520, 86)\n",
      "Run 8 Mean Absolute Error: 7.847550307892612\n",
      "RMSE: 10.891\n",
      "R^2: 1.000\n",
      "[['link_30_flow', 'node_26_pressure', 'node_27_demand', 'node_9_pressure', 'node_4_pressure', 'node_2_demand', 'node_6_pressure', 'link_26_flow', 'node_24_demand', 'reservoir_demand']]\n",
      "starting df shape: (87600, 86)\n",
      "This is training run 9 and has the shape:  (87600, 86)\n",
      "The value of dropped columns is 10\n"
     ]
    },
    {
     "name": "stderr",
     "output_type": "stream",
     "text": [
      "/Users/alexellard/opt/anaconda3/lib/python3.7/site-packages/xgboost/data.py:96: UserWarning: Use subset (sliced data) of np.ndarray is not recommended because it will generate extra copies and increase memory consumption\n",
      "  \"because it will generate extra copies and increase \" +\n"
     ]
    },
    {
     "name": "stdout",
     "output_type": "stream",
     "text": [
      "test y shape : (17520, 1)\n",
      "Inv y shape : (17520, 86)\n",
      "y pred shape : (17520, 1)\n",
      "inv y pred : (17520, 86)\n",
      "Run 9 Mean Absolute Error: 0.46484631772755\n",
      "RMSE: 0.646\n",
      "R^2: 1.000\n",
      "[['node_22_pressure', 'link_27_flow', 'node_3_demand', 'reservoir_pressure', 'node_23_demand', 'node_29_pressure', 'node_10_pressure', 'node_30_demand', 'link_30_flow', 'node_26_demand']]\n",
      "starting df shape: (87600, 86)\n",
      "This is training run 10 and has the shape:  (87600, 86)\n",
      "The value of dropped columns is 10\n"
     ]
    },
    {
     "name": "stderr",
     "output_type": "stream",
     "text": [
      "/Users/alexellard/opt/anaconda3/lib/python3.7/site-packages/xgboost/data.py:96: UserWarning: Use subset (sliced data) of np.ndarray is not recommended because it will generate extra copies and increase memory consumption\n",
      "  \"because it will generate extra copies and increase \" +\n"
     ]
    },
    {
     "name": "stdout",
     "output_type": "stream",
     "text": [
      "test y shape : (17520, 1)\n",
      "Inv y shape : (17520, 86)\n",
      "y pred shape : (17520, 1)\n",
      "inv y pred : (17520, 86)\n",
      "Run 10 Mean Absolute Error: 7.777604961738362\n",
      "RMSE: 10.766\n",
      "R^2: 1.000\n",
      "[['node_21_pressure', 'link_22_flow', 'node_18_pressure', 'node_3_demand', 'node_14_pressure', 'link_26_flow', 'link_28_flow', 'link_23_flow', 'link_13_flow', 'link_18_flow', 'reservoir_demand', 'node_1_pressure', 'node_15_demand', 'node_27_demand', 'node_13_demand']]\n",
      "starting df shape: (87600, 81)\n",
      "This is training run 1 and has the shape:  (87600, 81)\n",
      "The value of dropped columns is 15\n"
     ]
    },
    {
     "name": "stderr",
     "output_type": "stream",
     "text": [
      "/Users/alexellard/opt/anaconda3/lib/python3.7/site-packages/xgboost/data.py:96: UserWarning: Use subset (sliced data) of np.ndarray is not recommended because it will generate extra copies and increase memory consumption\n",
      "  \"because it will generate extra copies and increase \" +\n"
     ]
    },
    {
     "name": "stdout",
     "output_type": "stream",
     "text": [
      "test y shape : (17520, 1)\n",
      "Inv y shape : (17520, 81)\n",
      "y pred shape : (17520, 1)\n",
      "inv y pred : (17520, 81)\n",
      "Run 1 Mean Absolute Error: 0.47235586989670963\n",
      "RMSE: 0.657\n",
      "R^2: 1.000\n",
      "[['node_28_pressure', 'node_27_demand', 'link_10_flow', 'link_19_flow', 'node_8_demand', 'link_27_flow', 'node_20_pressure', 'node_15_demand', 'node_5_pressure', 'node_3_demand', 'node_9_demand', 'node_20_demand', 'node_21_demand', 'node_29_pressure', 'node_25_demand']]\n",
      "starting df shape: (87600, 81)\n",
      "This is training run 2 and has the shape:  (87600, 81)\n",
      "The value of dropped columns is 15\n"
     ]
    },
    {
     "name": "stderr",
     "output_type": "stream",
     "text": [
      "/Users/alexellard/opt/anaconda3/lib/python3.7/site-packages/xgboost/data.py:96: UserWarning: Use subset (sliced data) of np.ndarray is not recommended because it will generate extra copies and increase memory consumption\n",
      "  \"because it will generate extra copies and increase \" +\n"
     ]
    },
    {
     "name": "stdout",
     "output_type": "stream",
     "text": [
      "test y shape : (17520, 1)\n",
      "Inv y shape : (17520, 81)\n",
      "y pred shape : (17520, 1)\n",
      "inv y pred : (17520, 81)\n",
      "Run 2 Mean Absolute Error: 7.505584898433875\n",
      "RMSE: 10.532\n",
      "R^2: 1.000\n",
      "[['node_6_pressure', 'node_4_pressure', 'node_11_pressure', 'node_21_pressure', 'node_23_demand', 'node_22_demand', 'node_31_demand', 'link_4_flow', 'node_2_pressure', 'link_27_flow', 'node_4_demand', 'node_11_demand', 'reservoir_pressure', 'link_18_flow', 'node_12_demand']]\n",
      "starting df shape: (87600, 81)\n",
      "This is training run 3 and has the shape:  (87600, 81)\n",
      "The value of dropped columns is 15\n"
     ]
    },
    {
     "name": "stderr",
     "output_type": "stream",
     "text": [
      "/Users/alexellard/opt/anaconda3/lib/python3.7/site-packages/xgboost/data.py:96: UserWarning: Use subset (sliced data) of np.ndarray is not recommended because it will generate extra copies and increase memory consumption\n",
      "  \"because it will generate extra copies and increase \" +\n"
     ]
    },
    {
     "name": "stdout",
     "output_type": "stream",
     "text": [
      "test y shape : (17520, 1)\n",
      "Inv y shape : (17520, 81)\n",
      "y pred shape : (17520, 1)\n",
      "inv y pred : (17520, 81)\n",
      "Run 3 Mean Absolute Error: 7.717863228171449\n",
      "RMSE: 10.922\n",
      "R^2: 1.000\n",
      "[['node_4_pressure', 'node_7_pressure', 'link_11_flow', 'node_17_demand', 'link_8_flow', 'link_1_flow', 'node_12_demand', 'link_31_flow', 'node_25_demand', 'node_28_demand', 'link_9_flow', 'node_18_demand', 'node_10_demand', 'node_2_demand', 'link_15_flow']]\n",
      "starting df shape: (87600, 81)\n",
      "This is training run 4 and has the shape:  (87600, 81)\n",
      "The value of dropped columns is 15\n"
     ]
    },
    {
     "name": "stderr",
     "output_type": "stream",
     "text": [
      "/Users/alexellard/opt/anaconda3/lib/python3.7/site-packages/xgboost/data.py:96: UserWarning: Use subset (sliced data) of np.ndarray is not recommended because it will generate extra copies and increase memory consumption\n",
      "  \"because it will generate extra copies and increase \" +\n"
     ]
    },
    {
     "name": "stdout",
     "output_type": "stream",
     "text": [
      "test y shape : (17520, 1)\n",
      "Inv y shape : (17520, 81)\n",
      "y pred shape : (17520, 1)\n",
      "inv y pred : (17520, 81)\n",
      "Run 4 Mean Absolute Error: 8.508001513542196\n",
      "RMSE: 11.880\n",
      "R^2: 1.000\n",
      "[['node_6_demand', 'link_4_flow', 'node_6_pressure', 'node_1_demand', 'node_27_pressure', 'node_13_demand', 'node_15_demand', 'node_26_pressure', 'link_23_flow', 'link_15_flow', 'node_18_demand', 'node_21_pressure', 'node_5_demand', 'node_23_demand', 'link_25_flow']]\n",
      "starting df shape: (87600, 81)\n",
      "This is training run 5 and has the shape:  (87600, 81)\n",
      "The value of dropped columns is 15\n"
     ]
    },
    {
     "name": "stderr",
     "output_type": "stream",
     "text": [
      "/Users/alexellard/opt/anaconda3/lib/python3.7/site-packages/xgboost/data.py:96: UserWarning: Use subset (sliced data) of np.ndarray is not recommended because it will generate extra copies and increase memory consumption\n",
      "  \"because it will generate extra copies and increase \" +\n"
     ]
    },
    {
     "name": "stdout",
     "output_type": "stream",
     "text": [
      "test y shape : (17520, 1)\n",
      "Inv y shape : (17520, 81)\n",
      "y pred shape : (17520, 1)\n",
      "inv y pred : (17520, 81)\n",
      "Run 5 Mean Absolute Error: 7.965691654059748\n",
      "RMSE: 11.173\n",
      "R^2: 1.000\n",
      "[['node_31_demand', 'node_13_pressure', 'node_7_pressure', 'link_8_flow', 'link_5_flow', 'link_24_flow', 'link_18_flow', 'node_25_demand', 'link_27_flow', 'link_7_flow', 'node_23_demand', 'node_6_pressure', 'node_26_pressure', 'reservoir_pressure']]\n",
      "starting df shape: (87600, 82)\n",
      "This is training run 6 and has the shape:  (87600, 82)\n",
      "The value of dropped columns is 15\n"
     ]
    },
    {
     "name": "stderr",
     "output_type": "stream",
     "text": [
      "/Users/alexellard/opt/anaconda3/lib/python3.7/site-packages/xgboost/data.py:96: UserWarning: Use subset (sliced data) of np.ndarray is not recommended because it will generate extra copies and increase memory consumption\n",
      "  \"because it will generate extra copies and increase \" +\n"
     ]
    },
    {
     "name": "stdout",
     "output_type": "stream",
     "text": [
      "test y shape : (17520, 1)\n",
      "Inv y shape : (17520, 82)\n",
      "y pred shape : (17520, 1)\n",
      "inv y pred : (17520, 82)\n",
      "Run 6 Mean Absolute Error: 7.631105911630267\n",
      "RMSE: 10.619\n",
      "R^2: 1.000\n",
      "[['node_26_demand', 'node_13_pressure', 'link_29_flow', 'node_28_pressure', 'node_4_demand', 'node_14_demand', 'link_30_flow', 'node_29_demand', 'link_17_flow', 'node_7_pressure', 'node_11_demand', 'node_1_pressure', 'node_22_demand', 'node_16_demand', 'link_1_flow']]\n",
      "starting df shape: (87600, 81)\n",
      "This is training run 7 and has the shape:  (87600, 81)\n",
      "The value of dropped columns is 15\n"
     ]
    },
    {
     "name": "stderr",
     "output_type": "stream",
     "text": [
      "/Users/alexellard/opt/anaconda3/lib/python3.7/site-packages/xgboost/data.py:96: UserWarning: Use subset (sliced data) of np.ndarray is not recommended because it will generate extra copies and increase memory consumption\n",
      "  \"because it will generate extra copies and increase \" +\n"
     ]
    },
    {
     "name": "stdout",
     "output_type": "stream",
     "text": [
      "test y shape : (17520, 1)\n",
      "Inv y shape : (17520, 81)\n",
      "y pred shape : (17520, 1)\n",
      "inv y pred : (17520, 81)\n",
      "Run 7 Mean Absolute Error: 8.158486887641141\n",
      "RMSE: 11.414\n",
      "R^2: 1.000\n",
      "[['link_18_flow', 'link_32_flow', 'link_24_flow', 'node_3_demand', 'link_22_flow', 'link_26_flow', 'node_9_pressure', 'node_27_demand', 'link_3_flow', 'link_28_flow', 'node_18_demand', 'link_2_flow', 'link_29_flow', 'link_15_flow', 'node_4_demand']]\n",
      "starting df shape: (87600, 81)\n",
      "This is training run 8 and has the shape:  (87600, 81)\n",
      "The value of dropped columns is 15\n"
     ]
    },
    {
     "name": "stderr",
     "output_type": "stream",
     "text": [
      "/Users/alexellard/opt/anaconda3/lib/python3.7/site-packages/xgboost/data.py:96: UserWarning: Use subset (sliced data) of np.ndarray is not recommended because it will generate extra copies and increase memory consumption\n",
      "  \"because it will generate extra copies and increase \" +\n"
     ]
    },
    {
     "name": "stdout",
     "output_type": "stream",
     "text": [
      "test y shape : (17520, 1)\n",
      "Inv y shape : (17520, 81)\n",
      "y pred shape : (17520, 1)\n",
      "inv y pred : (17520, 81)\n",
      "Run 8 Mean Absolute Error: 7.9669756700949\n",
      "RMSE: 11.101\n",
      "R^2: 1.000\n",
      "[['node_24_pressure', 'node_30_demand', 'node_14_demand', 'link_1_flow', 'link_17_flow', 'node_13_demand', 'node_9_pressure', 'node_23_pressure', 'node_12_pressure', 'node_19_pressure', 'node_6_demand', 'node_31_demand', 'node_8_demand', 'link_22_flow', 'link_15_flow']]\n",
      "starting df shape: (87600, 81)\n",
      "This is training run 9 and has the shape:  (87600, 81)\n",
      "The value of dropped columns is 15\n"
     ]
    },
    {
     "name": "stderr",
     "output_type": "stream",
     "text": [
      "/Users/alexellard/opt/anaconda3/lib/python3.7/site-packages/xgboost/data.py:96: UserWarning: Use subset (sliced data) of np.ndarray is not recommended because it will generate extra copies and increase memory consumption\n",
      "  \"because it will generate extra copies and increase \" +\n"
     ]
    },
    {
     "name": "stdout",
     "output_type": "stream",
     "text": [
      "test y shape : (17520, 1)\n",
      "Inv y shape : (17520, 81)\n",
      "y pred shape : (17520, 1)\n",
      "inv y pred : (17520, 81)\n",
      "Run 9 Mean Absolute Error: 7.425568847071568\n",
      "RMSE: 10.371\n",
      "R^2: 1.000\n",
      "[['node_30_pressure', 'node_16_demand', 'node_1_pressure', 'node_25_demand', 'link_13_flow', 'node_29_pressure', 'node_26_pressure', 'link_9_flow', 'link_3_flow', 'node_13_pressure', 'node_26_demand', 'node_17_demand', 'node_6_pressure', 'link_20_flow', 'link_32_flow']]\n",
      "starting df shape: (87600, 81)\n",
      "This is training run 10 and has the shape:  (87600, 81)\n",
      "The value of dropped columns is 15\n"
     ]
    },
    {
     "name": "stderr",
     "output_type": "stream",
     "text": [
      "/Users/alexellard/opt/anaconda3/lib/python3.7/site-packages/xgboost/data.py:96: UserWarning: Use subset (sliced data) of np.ndarray is not recommended because it will generate extra copies and increase memory consumption\n",
      "  \"because it will generate extra copies and increase \" +\n"
     ]
    },
    {
     "name": "stdout",
     "output_type": "stream",
     "text": [
      "test y shape : (17520, 1)\n",
      "Inv y shape : (17520, 81)\n",
      "y pred shape : (17520, 1)\n",
      "inv y pred : (17520, 81)\n",
      "Run 10 Mean Absolute Error: 8.231254599384366\n",
      "RMSE: 11.376\n",
      "R^2: 1.000\n",
      "[['node_13_pressure', 'node_15_demand', 'link_15_flow', 'node_26_demand', 'node_23_pressure', 'node_25_pressure', 'node_27_demand', 'node_18_demand', 'link_19_flow', 'link_32_flow', 'link_3_flow', 'node_14_demand', 'node_31_pressure', 'link_24_flow', 'node_19_demand', 'link_29_flow', 'node_11_demand', 'link_17_flow', 'node_1_demand', 'link_18_flow']]\n",
      "starting df shape: (87600, 76)\n",
      "This is training run 1 and has the shape:  (87600, 76)\n",
      "The value of dropped columns is 20\n"
     ]
    },
    {
     "name": "stderr",
     "output_type": "stream",
     "text": [
      "/Users/alexellard/opt/anaconda3/lib/python3.7/site-packages/xgboost/data.py:96: UserWarning: Use subset (sliced data) of np.ndarray is not recommended because it will generate extra copies and increase memory consumption\n",
      "  \"because it will generate extra copies and increase \" +\n"
     ]
    },
    {
     "name": "stdout",
     "output_type": "stream",
     "text": [
      "test y shape : (17520, 1)\n",
      "Inv y shape : (17520, 76)\n",
      "y pred shape : (17520, 1)\n",
      "inv y pred : (17520, 76)\n",
      "Run 1 Mean Absolute Error: 7.921061491226482\n",
      "RMSE: 11.068\n",
      "R^2: 1.000\n",
      "[['link_21_flow', 'reservoir_demand', 'node_5_demand', 'node_12_pressure', 'link_30_flow', 'link_26_flow', 'node_28_pressure', 'link_29_flow', 'node_21_demand', 'node_14_demand', 'node_28_demand', 'link_3_flow', 'link_2_flow', 'node_9_pressure', 'node_20_demand', 'link_12_flow', 'link_1_flow', 'link_18_flow', 'link_31_flow', 'node_27_demand']]\n",
      "starting df shape: (87600, 76)\n",
      "This is training run 2 and has the shape:  (87600, 76)\n",
      "The value of dropped columns is 20\n"
     ]
    },
    {
     "name": "stderr",
     "output_type": "stream",
     "text": [
      "/Users/alexellard/opt/anaconda3/lib/python3.7/site-packages/xgboost/data.py:96: UserWarning: Use subset (sliced data) of np.ndarray is not recommended because it will generate extra copies and increase memory consumption\n",
      "  \"because it will generate extra copies and increase \" +\n"
     ]
    },
    {
     "name": "stdout",
     "output_type": "stream",
     "text": [
      "test y shape : (17520, 1)\n",
      "Inv y shape : (17520, 76)\n",
      "y pred shape : (17520, 1)\n",
      "inv y pred : (17520, 76)\n",
      "Run 2 Mean Absolute Error: 0.44532261492690167\n",
      "RMSE: 0.621\n",
      "R^2: 1.000\n",
      "[['node_8_demand', 'node_4_pressure', 'link_29_flow', 'reservoir_demand', 'node_14_demand', 'node_4_demand', 'link_12_flow', 'node_17_pressure', 'node_2_demand', 'node_26_demand', 'node_13_demand', 'node_23_pressure', 'node_17_demand', 'node_20_demand', 'node_31_demand', 'link_19_flow', 'node_2_pressure', 'node_18_pressure', 'node_23_demand', 'link_3_flow']]\n",
      "starting df shape: (87600, 76)\n",
      "This is training run 3 and has the shape:  (87600, 76)\n",
      "The value of dropped columns is 20\n"
     ]
    },
    {
     "name": "stderr",
     "output_type": "stream",
     "text": [
      "/Users/alexellard/opt/anaconda3/lib/python3.7/site-packages/xgboost/data.py:96: UserWarning: Use subset (sliced data) of np.ndarray is not recommended because it will generate extra copies and increase memory consumption\n",
      "  \"because it will generate extra copies and increase \" +\n"
     ]
    },
    {
     "name": "stdout",
     "output_type": "stream",
     "text": [
      "test y shape : (17520, 1)\n",
      "Inv y shape : (17520, 76)\n",
      "y pred shape : (17520, 1)\n",
      "inv y pred : (17520, 76)\n",
      "Run 3 Mean Absolute Error: 0.5051169695538595\n",
      "RMSE: 0.700\n",
      "R^2: 1.000\n",
      "[['node_10_pressure', 'link_10_flow', 'link_3_flow', 'link_22_flow', 'link_7_flow', 'node_31_demand', 'node_18_demand', 'node_28_demand', 'link_1_flow', 'node_10_demand', 'node_8_pressure', 'node_24_demand', 'node_22_pressure', 'link_12_flow', 'node_25_demand', 'node_17_demand', 'node_8_demand', 'node_21_demand', 'node_25_pressure', 'node_18_pressure']]\n",
      "starting df shape: (87600, 76)\n",
      "This is training run 4 and has the shape:  (87600, 76)\n",
      "The value of dropped columns is 20\n"
     ]
    },
    {
     "name": "stderr",
     "output_type": "stream",
     "text": [
      "/Users/alexellard/opt/anaconda3/lib/python3.7/site-packages/xgboost/data.py:96: UserWarning: Use subset (sliced data) of np.ndarray is not recommended because it will generate extra copies and increase memory consumption\n",
      "  \"because it will generate extra copies and increase \" +\n"
     ]
    },
    {
     "name": "stdout",
     "output_type": "stream",
     "text": [
      "test y shape : (17520, 1)\n",
      "Inv y shape : (17520, 76)\n",
      "y pred shape : (17520, 1)\n",
      "inv y pred : (17520, 76)\n",
      "Run 4 Mean Absolute Error: 7.962840174549752\n",
      "RMSE: 11.041\n",
      "R^2: 1.000\n",
      "[['link_25_flow', 'node_1_pressure', 'node_23_pressure', 'node_11_demand', 'node_8_demand', 'node_24_pressure', 'node_14_pressure', 'reservoir_pressure', 'node_8_pressure', 'link_4_flow', 'node_21_pressure', 'node_24_demand', 'node_30_demand', 'link_24_flow', 'node_10_pressure', 'link_8_flow', 'link_15_flow', 'node_9_pressure', 'node_5_pressure', 'node_13_pressure']]\n",
      "starting df shape: (87600, 76)\n",
      "This is training run 5 and has the shape:  (87600, 76)\n",
      "The value of dropped columns is 20\n"
     ]
    },
    {
     "name": "stderr",
     "output_type": "stream",
     "text": [
      "/Users/alexellard/opt/anaconda3/lib/python3.7/site-packages/xgboost/data.py:96: UserWarning: Use subset (sliced data) of np.ndarray is not recommended because it will generate extra copies and increase memory consumption\n",
      "  \"because it will generate extra copies and increase \" +\n"
     ]
    },
    {
     "name": "stdout",
     "output_type": "stream",
     "text": [
      "test y shape : (17520, 1)\n",
      "Inv y shape : (17520, 76)\n",
      "y pred shape : (17520, 1)\n",
      "inv y pred : (17520, 76)\n",
      "Run 5 Mean Absolute Error: 7.933967321299995\n",
      "RMSE: 11.075\n",
      "R^2: 1.000\n",
      "[['node_1_demand', 'link_9_flow', 'node_18_demand', 'link_10_flow', 'node_15_pressure', 'link_19_flow', 'link_2_flow', 'node_29_pressure', 'node_31_pressure', 'link_29_flow', 'node_29_demand', 'node_3_pressure', 'link_21_flow', 'node_5_pressure', 'node_17_demand', 'node_31_demand', 'link_6_flow', 'node_22_pressure', 'link_13_flow', 'node_23_pressure']]\n",
      "starting df shape: (87600, 76)\n",
      "This is training run 6 and has the shape:  (87600, 76)\n",
      "The value of dropped columns is 20\n"
     ]
    },
    {
     "name": "stderr",
     "output_type": "stream",
     "text": [
      "/Users/alexellard/opt/anaconda3/lib/python3.7/site-packages/xgboost/data.py:96: UserWarning: Use subset (sliced data) of np.ndarray is not recommended because it will generate extra copies and increase memory consumption\n",
      "  \"because it will generate extra copies and increase \" +\n"
     ]
    },
    {
     "name": "stdout",
     "output_type": "stream",
     "text": [
      "test y shape : (17520, 1)\n",
      "Inv y shape : (17520, 76)\n",
      "y pred shape : (17520, 1)\n",
      "inv y pred : (17520, 76)\n",
      "Run 6 Mean Absolute Error: 7.959268560736701\n",
      "RMSE: 11.010\n",
      "R^2: 1.000\n",
      "[['node_19_demand', 'node_27_pressure', 'node_7_demand', 'node_23_demand', 'link_30_flow', 'link_4_flow', 'node_13_pressure', 'node_1_demand', 'link_5_flow', 'node_20_demand', 'node_2_demand', 'node_15_demand', 'node_14_pressure', 'link_25_flow', 'node_28_demand', 'node_18_demand', 'link_28_flow', 'node_14_demand', 'link_2_flow', 'node_8_demand']]\n",
      "starting df shape: (87600, 76)\n",
      "This is training run 7 and has the shape:  (87600, 76)\n",
      "The value of dropped columns is 20\n"
     ]
    },
    {
     "name": "stderr",
     "output_type": "stream",
     "text": [
      "/Users/alexellard/opt/anaconda3/lib/python3.7/site-packages/xgboost/data.py:96: UserWarning: Use subset (sliced data) of np.ndarray is not recommended because it will generate extra copies and increase memory consumption\n",
      "  \"because it will generate extra copies and increase \" +\n"
     ]
    },
    {
     "name": "stdout",
     "output_type": "stream",
     "text": [
      "test y shape : (17520, 1)\n",
      "Inv y shape : (17520, 76)\n",
      "y pred shape : (17520, 1)\n",
      "inv y pred : (17520, 76)\n",
      "Run 7 Mean Absolute Error: 7.6957988189044135\n",
      "RMSE: 10.646\n",
      "R^2: 1.000\n",
      "[['node_29_demand', 'node_8_demand', 'node_22_demand', 'node_7_pressure', 'link_8_flow', 'node_30_pressure', 'link_20_flow', 'node_4_demand', 'link_29_flow', 'link_15_flow', 'link_25_flow', 'node_30_demand', 'node_5_demand', 'link_6_flow', 'node_24_demand', 'node_21_demand', 'node_26_pressure', 'node_6_demand', 'link_26_flow', 'node_3_demand']]\n",
      "starting df shape: (87600, 76)\n",
      "This is training run 8 and has the shape:  (87600, 76)\n",
      "The value of dropped columns is 20\n"
     ]
    },
    {
     "name": "stderr",
     "output_type": "stream",
     "text": [
      "/Users/alexellard/opt/anaconda3/lib/python3.7/site-packages/xgboost/data.py:96: UserWarning: Use subset (sliced data) of np.ndarray is not recommended because it will generate extra copies and increase memory consumption\n",
      "  \"because it will generate extra copies and increase \" +\n"
     ]
    },
    {
     "name": "stdout",
     "output_type": "stream",
     "text": [
      "test y shape : (17520, 1)\n",
      "Inv y shape : (17520, 76)\n",
      "y pred shape : (17520, 1)\n",
      "inv y pred : (17520, 76)\n",
      "Run 8 Mean Absolute Error: 8.011662036371844\n",
      "RMSE: 11.240\n",
      "R^2: 1.000\n",
      "[['node_26_demand', 'node_31_demand', 'node_14_demand', 'node_22_demand', 'node_23_pressure', 'link_14_flow', 'link_28_flow', 'link_16_flow', 'link_2_flow', 'node_26_pressure', 'reservoir_pressure', 'node_3_pressure', 'node_7_pressure', 'node_20_pressure', 'node_25_demand', 'node_11_pressure', 'node_27_demand', 'link_30_flow', 'node_28_demand']]\n",
      "starting df shape: (87600, 77)\n",
      "This is training run 9 and has the shape:  (87600, 77)\n",
      "The value of dropped columns is 20\n"
     ]
    },
    {
     "name": "stderr",
     "output_type": "stream",
     "text": [
      "/Users/alexellard/opt/anaconda3/lib/python3.7/site-packages/xgboost/data.py:96: UserWarning: Use subset (sliced data) of np.ndarray is not recommended because it will generate extra copies and increase memory consumption\n",
      "  \"because it will generate extra copies and increase \" +\n"
     ]
    },
    {
     "name": "stdout",
     "output_type": "stream",
     "text": [
      "test y shape : (17520, 1)\n",
      "Inv y shape : (17520, 77)\n",
      "y pred shape : (17520, 1)\n",
      "inv y pred : (17520, 77)\n",
      "Run 9 Mean Absolute Error: 7.663856745518476\n",
      "RMSE: 10.663\n",
      "R^2: 1.000\n",
      "[['node_17_demand', 'node_3_demand', 'link_31_flow', 'link_28_flow', 'node_12_pressure', 'node_18_demand', 'link_11_flow', 'link_29_flow', 'node_3_pressure', 'node_14_pressure', 'node_8_pressure', 'node_8_demand', 'link_8_flow', 'link_19_flow', 'node_2_demand', 'node_2_pressure', 'link_30_flow', 'node_12_demand', 'link_20_flow', 'link_26_flow']]\n",
      "starting df shape: (87600, 76)\n",
      "This is training run 10 and has the shape:  (87600, 76)\n",
      "The value of dropped columns is 20\n"
     ]
    },
    {
     "name": "stderr",
     "output_type": "stream",
     "text": [
      "/Users/alexellard/opt/anaconda3/lib/python3.7/site-packages/xgboost/data.py:96: UserWarning: Use subset (sliced data) of np.ndarray is not recommended because it will generate extra copies and increase memory consumption\n",
      "  \"because it will generate extra copies and increase \" +\n"
     ]
    },
    {
     "name": "stdout",
     "output_type": "stream",
     "text": [
      "test y shape : (17520, 1)\n",
      "Inv y shape : (17520, 76)\n",
      "y pred shape : (17520, 1)\n",
      "inv y pred : (17520, 76)\n",
      "Run 10 Mean Absolute Error: 7.679671346787193\n",
      "RMSE: 10.616\n",
      "R^2: 1.000\n",
      "[['node_11_demand', 'node_23_pressure', 'node_12_demand', 'link_7_flow', 'node_26_pressure', 'node_24_pressure', 'node_2_pressure', 'node_8_pressure', 'node_9_pressure', 'link_2_flow', 'node_18_demand', 'link_32_flow', 'link_25_flow', 'node_21_demand', 'link_26_flow', 'link_4_flow', 'node_1_pressure', 'node_28_demand', 'link_23_flow', 'node_13_pressure', 'node_30_pressure', 'node_6_pressure', 'reservoir_pressure', 'node_29_pressure', 'node_22_pressure']]\n",
      "starting df shape: (87600, 71)\n",
      "This is training run 1 and has the shape:  (87600, 71)\n",
      "The value of dropped columns is 25\n"
     ]
    },
    {
     "name": "stderr",
     "output_type": "stream",
     "text": [
      "/Users/alexellard/opt/anaconda3/lib/python3.7/site-packages/xgboost/data.py:96: UserWarning: Use subset (sliced data) of np.ndarray is not recommended because it will generate extra copies and increase memory consumption\n",
      "  \"because it will generate extra copies and increase \" +\n"
     ]
    },
    {
     "name": "stdout",
     "output_type": "stream",
     "text": [
      "test y shape : (17520, 1)\n",
      "Inv y shape : (17520, 71)\n",
      "y pred shape : (17520, 1)\n",
      "inv y pred : (17520, 71)\n",
      "Run 1 Mean Absolute Error: 7.872699896732262\n",
      "RMSE: 11.074\n",
      "R^2: 1.000\n",
      "[['node_7_pressure', 'node_17_pressure', 'node_17_demand', 'node_18_pressure', 'link_21_flow', 'node_3_demand', 'node_3_pressure', 'link_31_flow', 'link_17_flow', 'node_30_pressure', 'node_20_pressure', 'node_26_demand', 'node_28_demand', 'link_20_flow', 'node_13_demand', 'link_15_flow', 'node_14_demand', 'node_9_demand', 'node_1_pressure', 'node_21_pressure', 'link_30_flow', 'node_6_demand', 'node_4_pressure', 'node_5_demand', 'node_10_demand']]\n",
      "starting df shape: (87600, 71)\n",
      "This is training run 2 and has the shape:  (87600, 71)\n",
      "The value of dropped columns is 25\n"
     ]
    },
    {
     "name": "stderr",
     "output_type": "stream",
     "text": [
      "/Users/alexellard/opt/anaconda3/lib/python3.7/site-packages/xgboost/data.py:96: UserWarning: Use subset (sliced data) of np.ndarray is not recommended because it will generate extra copies and increase memory consumption\n",
      "  \"because it will generate extra copies and increase \" +\n"
     ]
    },
    {
     "name": "stdout",
     "output_type": "stream",
     "text": [
      "test y shape : (17520, 1)\n",
      "Inv y shape : (17520, 71)\n",
      "y pred shape : (17520, 1)\n",
      "inv y pred : (17520, 71)\n",
      "Run 2 Mean Absolute Error: 9.048403199598244\n",
      "RMSE: 12.569\n",
      "R^2: 1.000\n",
      "[['link_25_flow', 'link_4_flow', 'node_28_demand', 'node_28_pressure', 'node_9_demand', 'node_27_pressure', 'node_8_pressure', 'link_23_flow', 'node_17_demand', 'node_7_pressure', 'node_22_demand', 'node_11_demand', 'node_29_demand', 'link_9_flow', 'link_14_flow', 'node_23_pressure', 'node_6_pressure', 'node_16_demand', 'node_31_demand', 'node_27_demand', 'node_24_demand', 'link_1_flow', 'node_13_demand', 'node_3_demand', 'node_21_demand']]\n",
      "starting df shape: (87600, 71)\n",
      "This is training run 3 and has the shape:  (87600, 71)\n",
      "The value of dropped columns is 25\n"
     ]
    },
    {
     "name": "stderr",
     "output_type": "stream",
     "text": [
      "/Users/alexellard/opt/anaconda3/lib/python3.7/site-packages/xgboost/data.py:96: UserWarning: Use subset (sliced data) of np.ndarray is not recommended because it will generate extra copies and increase memory consumption\n",
      "  \"because it will generate extra copies and increase \" +\n"
     ]
    },
    {
     "name": "stdout",
     "output_type": "stream",
     "text": [
      "test y shape : (17520, 1)\n",
      "Inv y shape : (17520, 71)\n",
      "y pred shape : (17520, 1)\n",
      "inv y pred : (17520, 71)\n",
      "Run 3 Mean Absolute Error: 8.058787266743652\n",
      "RMSE: 11.134\n",
      "R^2: 1.000\n",
      "[['node_25_demand', 'link_23_flow', 'link_27_flow', 'node_28_demand', 'node_3_demand', 'link_24_flow', 'node_17_pressure', 'node_2_pressure', 'node_4_pressure', 'node_26_pressure', 'node_30_pressure', 'node_10_pressure', 'node_14_pressure', 'node_23_pressure', 'node_21_demand', 'node_2_demand', 'node_18_pressure', 'node_16_demand', 'link_20_flow', 'node_11_pressure', 'link_13_flow', 'link_19_flow', 'link_29_flow', 'node_24_demand', 'node_22_demand']]\n",
      "starting df shape: (87600, 71)\n",
      "This is training run 4 and has the shape:  (87600, 71)\n",
      "The value of dropped columns is 25\n"
     ]
    },
    {
     "name": "stderr",
     "output_type": "stream",
     "text": [
      "/Users/alexellard/opt/anaconda3/lib/python3.7/site-packages/xgboost/data.py:96: UserWarning: Use subset (sliced data) of np.ndarray is not recommended because it will generate extra copies and increase memory consumption\n",
      "  \"because it will generate extra copies and increase \" +\n"
     ]
    },
    {
     "name": "stdout",
     "output_type": "stream",
     "text": [
      "test y shape : (17520, 1)\n",
      "Inv y shape : (17520, 71)\n",
      "y pred shape : (17520, 1)\n",
      "inv y pred : (17520, 71)\n",
      "Run 4 Mean Absolute Error: 8.767556364808142\n",
      "RMSE: 12.160\n",
      "R^2: 1.000\n",
      "[['link_28_flow', 'node_5_demand', 'link_6_flow', 'node_23_demand', 'link_31_flow', 'node_29_pressure', 'node_25_pressure', 'node_14_demand', 'node_26_pressure', 'node_6_pressure', 'node_15_pressure', 'link_9_flow', 'node_19_demand', 'node_8_pressure', 'node_23_pressure', 'node_15_demand', 'node_11_pressure', 'node_14_pressure', 'node_27_demand', 'node_13_pressure', 'node_2_demand', 'node_16_demand', 'node_28_demand', 'link_20_flow', 'link_32_flow']]\n",
      "starting df shape: (87600, 71)\n",
      "This is training run 5 and has the shape:  (87600, 71)\n",
      "The value of dropped columns is 25\n"
     ]
    },
    {
     "name": "stderr",
     "output_type": "stream",
     "text": [
      "/Users/alexellard/opt/anaconda3/lib/python3.7/site-packages/xgboost/data.py:96: UserWarning: Use subset (sliced data) of np.ndarray is not recommended because it will generate extra copies and increase memory consumption\n",
      "  \"because it will generate extra copies and increase \" +\n"
     ]
    },
    {
     "name": "stdout",
     "output_type": "stream",
     "text": [
      "test y shape : (17520, 1)\n",
      "Inv y shape : (17520, 71)\n",
      "y pred shape : (17520, 1)\n",
      "inv y pred : (17520, 71)\n",
      "Run 5 Mean Absolute Error: 9.277062842226735\n",
      "RMSE: 12.740\n",
      "R^2: 1.000\n",
      "[['node_17_pressure', 'node_30_demand', 'reservoir_demand', 'node_7_demand', 'link_16_flow', 'link_18_flow', 'link_3_flow', 'node_22_demand', 'node_10_demand', 'link_8_flow', 'node_30_pressure', 'link_9_flow', 'node_24_demand', 'node_6_demand', 'node_11_demand', 'link_31_flow', 'link_19_flow', 'node_3_pressure', 'node_23_pressure', 'link_4_flow', 'node_7_pressure', 'node_29_demand', 'node_18_pressure', 'link_28_flow', 'reservoir_pressure']]\n",
      "starting df shape: (87600, 71)\n",
      "This is training run 6 and has the shape:  (87600, 71)\n",
      "The value of dropped columns is 25\n"
     ]
    },
    {
     "name": "stderr",
     "output_type": "stream",
     "text": [
      "/Users/alexellard/opt/anaconda3/lib/python3.7/site-packages/xgboost/data.py:96: UserWarning: Use subset (sliced data) of np.ndarray is not recommended because it will generate extra copies and increase memory consumption\n",
      "  \"because it will generate extra copies and increase \" +\n"
     ]
    },
    {
     "name": "stdout",
     "output_type": "stream",
     "text": [
      "test y shape : (17520, 1)\n",
      "Inv y shape : (17520, 71)\n",
      "y pred shape : (17520, 1)\n",
      "inv y pred : (17520, 71)\n",
      "Run 6 Mean Absolute Error: 0.47981320143064404\n",
      "RMSE: 0.668\n",
      "R^2: 1.000\n",
      "[['node_14_pressure', 'link_25_flow', 'node_19_demand', 'node_17_pressure', 'node_23_pressure', 'link_29_flow', 'link_15_flow', 'reservoir_demand', 'node_8_pressure', 'node_3_demand', 'node_30_demand', 'node_30_pressure', 'link_32_flow', 'node_9_pressure', 'node_9_demand', 'node_11_pressure', 'link_18_flow', 'node_5_demand', 'node_15_demand', 'node_5_pressure', 'link_1_flow', 'node_16_demand', 'node_27_pressure', 'node_18_pressure']]\n",
      "starting df shape: (87600, 72)\n",
      "This is training run 7 and has the shape:  (87600, 72)\n",
      "The value of dropped columns is 25\n"
     ]
    },
    {
     "name": "stderr",
     "output_type": "stream",
     "text": [
      "/Users/alexellard/opt/anaconda3/lib/python3.7/site-packages/xgboost/data.py:96: UserWarning: Use subset (sliced data) of np.ndarray is not recommended because it will generate extra copies and increase memory consumption\n",
      "  \"because it will generate extra copies and increase \" +\n"
     ]
    },
    {
     "name": "stdout",
     "output_type": "stream",
     "text": [
      "test y shape : (17520, 1)\n",
      "Inv y shape : (17520, 72)\n",
      "y pred shape : (17520, 1)\n",
      "inv y pred : (17520, 72)\n",
      "Run 7 Mean Absolute Error: 0.6577346250405912\n",
      "RMSE: 0.910\n",
      "R^2: 1.000\n",
      "[['link_29_flow', 'node_15_pressure', 'node_4_pressure', 'node_6_pressure', 'link_24_flow', 'node_13_demand', 'link_16_flow', 'node_16_demand', 'node_19_demand', 'node_24_demand', 'node_25_demand', 'link_17_flow', 'link_10_flow', 'node_9_demand', 'node_11_pressure', 'link_28_flow', 'node_14_pressure', 'node_8_demand', 'node_7_demand', 'link_13_flow', 'node_26_demand', 'node_31_demand', 'node_21_demand', 'node_14_demand', 'link_21_flow']]\n",
      "starting df shape: (87600, 71)\n",
      "This is training run 8 and has the shape:  (87600, 71)\n",
      "The value of dropped columns is 25\n"
     ]
    },
    {
     "name": "stderr",
     "output_type": "stream",
     "text": [
      "/Users/alexellard/opt/anaconda3/lib/python3.7/site-packages/xgboost/data.py:96: UserWarning: Use subset (sliced data) of np.ndarray is not recommended because it will generate extra copies and increase memory consumption\n",
      "  \"because it will generate extra copies and increase \" +\n"
     ]
    },
    {
     "name": "stdout",
     "output_type": "stream",
     "text": [
      "test y shape : (17520, 1)\n",
      "Inv y shape : (17520, 71)\n",
      "y pred shape : (17520, 1)\n",
      "inv y pred : (17520, 71)\n",
      "Run 8 Mean Absolute Error: 9.884807813002864\n",
      "RMSE: 13.507\n",
      "R^2: 1.000\n",
      "[['node_22_pressure', 'link_7_flow', 'node_13_pressure', 'node_12_demand', 'link_18_flow', 'node_23_demand', 'node_28_demand', 'link_6_flow', 'node_13_demand', 'node_14_pressure', 'node_17_demand', 'link_9_flow', 'node_11_demand', 'link_24_flow', 'link_30_flow', 'link_5_flow', 'link_1_flow', 'node_14_demand', 'node_20_demand', 'link_22_flow', 'node_21_demand', 'node_28_pressure', 'node_26_demand', 'link_27_flow']]\n",
      "starting df shape: (87600, 72)\n",
      "This is training run 9 and has the shape:  (87600, 72)\n",
      "The value of dropped columns is 25\n"
     ]
    },
    {
     "name": "stderr",
     "output_type": "stream",
     "text": [
      "/Users/alexellard/opt/anaconda3/lib/python3.7/site-packages/xgboost/data.py:96: UserWarning: Use subset (sliced data) of np.ndarray is not recommended because it will generate extra copies and increase memory consumption\n",
      "  \"because it will generate extra copies and increase \" +\n"
     ]
    },
    {
     "name": "stdout",
     "output_type": "stream",
     "text": [
      "test y shape : (17520, 1)\n",
      "Inv y shape : (17520, 72)\n",
      "y pred shape : (17520, 1)\n",
      "inv y pred : (17520, 72)\n",
      "Run 9 Mean Absolute Error: 8.139315082193253\n",
      "RMSE: 11.372\n",
      "R^2: 1.000\n",
      "[['node_18_pressure', 'node_26_pressure', 'node_14_demand', 'node_30_demand', 'node_23_demand', 'link_14_flow', 'node_8_demand', 'node_21_pressure', 'node_29_demand', 'node_31_pressure', 'node_11_pressure', 'node_20_pressure', 'node_2_demand', 'link_6_flow', 'node_5_demand', 'node_26_demand', 'link_15_flow', 'node_15_pressure', 'node_18_demand', 'node_28_pressure', 'link_8_flow', 'node_12_demand', 'node_20_demand', 'node_23_pressure']]\n",
      "starting df shape: (87600, 72)\n",
      "This is training run 10 and has the shape:  (87600, 72)\n",
      "The value of dropped columns is 25\n"
     ]
    },
    {
     "name": "stderr",
     "output_type": "stream",
     "text": [
      "/Users/alexellard/opt/anaconda3/lib/python3.7/site-packages/xgboost/data.py:96: UserWarning: Use subset (sliced data) of np.ndarray is not recommended because it will generate extra copies and increase memory consumption\n",
      "  \"because it will generate extra copies and increase \" +\n"
     ]
    },
    {
     "name": "stdout",
     "output_type": "stream",
     "text": [
      "test y shape : (17520, 1)\n",
      "Inv y shape : (17520, 72)\n",
      "y pred shape : (17520, 1)\n",
      "inv y pred : (17520, 72)\n",
      "Run 10 Mean Absolute Error: 8.780107257586028\n",
      "RMSE: 11.998\n",
      "R^2: 1.000\n",
      "[['node_17_demand', 'link_15_flow', 'link_4_flow', 'link_18_flow', 'link_14_flow', 'node_20_demand', 'node_29_demand', 'link_23_flow', 'node_1_pressure', 'node_21_pressure', 'node_31_pressure', 'link_19_flow', 'node_7_pressure', 'node_21_demand', 'node_13_pressure', 'node_5_demand', 'node_24_demand', 'node_26_pressure', 'node_11_demand', 'link_12_flow', 'node_4_pressure', 'node_28_pressure', 'link_3_flow', 'node_22_demand', 'node_4_demand', 'node_12_demand', 'link_26_flow', 'node_3_demand', 'node_9_demand']]\n",
      "starting df shape: (87600, 67)\n",
      "This is training run 1 and has the shape:  (87600, 67)\n",
      "The value of dropped columns is 30\n"
     ]
    },
    {
     "name": "stderr",
     "output_type": "stream",
     "text": [
      "/Users/alexellard/opt/anaconda3/lib/python3.7/site-packages/xgboost/data.py:96: UserWarning: Use subset (sliced data) of np.ndarray is not recommended because it will generate extra copies and increase memory consumption\n",
      "  \"because it will generate extra copies and increase \" +\n"
     ]
    },
    {
     "name": "stdout",
     "output_type": "stream",
     "text": [
      "test y shape : (17520, 1)\n",
      "Inv y shape : (17520, 67)\n",
      "y pred shape : (17520, 1)\n",
      "inv y pred : (17520, 67)\n",
      "Run 1 Mean Absolute Error: 8.173727624117026\n",
      "RMSE: 11.529\n",
      "R^2: 1.000\n",
      "[['node_6_pressure', 'node_31_pressure', 'node_18_pressure', 'node_25_demand', 'node_9_demand', 'reservoir_demand', 'link_8_flow', 'node_28_pressure', 'link_12_flow', 'node_1_pressure', 'link_18_flow', 'link_17_flow', 'node_21_demand', 'link_27_flow', 'node_7_demand', 'node_29_pressure', 'node_23_demand', 'link_1_flow', 'node_22_pressure', 'node_23_pressure', 'node_24_pressure', 'link_10_flow', 'node_17_pressure', 'link_22_flow', 'link_11_flow', 'node_4_demand', 'node_26_demand', 'link_28_flow', 'node_14_pressure', 'node_25_pressure']]\n",
      "starting df shape: (87600, 66)\n",
      "This is training run 2 and has the shape:  (87600, 66)\n",
      "The value of dropped columns is 30\n"
     ]
    },
    {
     "name": "stderr",
     "output_type": "stream",
     "text": [
      "/Users/alexellard/opt/anaconda3/lib/python3.7/site-packages/xgboost/data.py:96: UserWarning: Use subset (sliced data) of np.ndarray is not recommended because it will generate extra copies and increase memory consumption\n",
      "  \"because it will generate extra copies and increase \" +\n"
     ]
    },
    {
     "name": "stdout",
     "output_type": "stream",
     "text": [
      "test y shape : (17520, 1)\n",
      "Inv y shape : (17520, 66)\n",
      "y pred shape : (17520, 1)\n",
      "inv y pred : (17520, 66)\n",
      "Run 2 Mean Absolute Error: 0.5058642885676014\n",
      "RMSE: 0.703\n",
      "R^2: 1.000\n",
      "[['link_20_flow', 'link_11_flow', 'node_10_pressure', 'link_8_flow', 'node_5_pressure', 'link_32_flow', 'node_19_demand', 'node_10_demand', 'reservoir_pressure', 'node_15_demand', 'node_6_pressure', 'node_8_demand', 'node_23_pressure', 'link_15_flow', 'node_12_pressure', 'link_21_flow', 'node_11_demand', 'node_20_pressure', 'link_4_flow', 'node_27_demand', 'link_16_flow', 'node_31_demand', 'node_18_demand', 'node_1_demand', 'link_26_flow', 'node_17_demand', 'node_3_pressure', 'link_23_flow', 'node_5_demand', 'link_9_flow']]\n",
      "starting df shape: (87600, 66)\n",
      "This is training run 3 and has the shape:  (87600, 66)\n",
      "The value of dropped columns is 30\n"
     ]
    },
    {
     "name": "stderr",
     "output_type": "stream",
     "text": [
      "/Users/alexellard/opt/anaconda3/lib/python3.7/site-packages/xgboost/data.py:96: UserWarning: Use subset (sliced data) of np.ndarray is not recommended because it will generate extra copies and increase memory consumption\n",
      "  \"because it will generate extra copies and increase \" +\n"
     ]
    },
    {
     "name": "stdout",
     "output_type": "stream",
     "text": [
      "test y shape : (17520, 1)\n",
      "Inv y shape : (17520, 66)\n",
      "y pred shape : (17520, 1)\n",
      "inv y pred : (17520, 66)\n",
      "Run 3 Mean Absolute Error: 7.176941280502546\n",
      "RMSE: 10.179\n",
      "R^2: 1.000\n",
      "[['node_8_pressure', 'node_29_pressure', 'node_25_demand', 'link_17_flow', 'node_3_pressure', 'node_26_demand', 'node_5_pressure', 'node_12_pressure', 'link_7_flow', 'node_17_pressure', 'link_12_flow', 'node_23_pressure', 'node_24_pressure', 'link_19_flow', 'link_27_flow', 'node_15_pressure', 'node_23_demand', 'node_12_demand', 'node_21_pressure', 'node_8_demand', 'node_22_demand', 'node_14_pressure', 'link_9_flow', 'node_2_demand', 'node_21_demand', 'node_28_demand', 'node_3_demand', 'link_16_flow', 'node_10_pressure']]\n",
      "starting df shape: (87600, 67)\n",
      "This is training run 4 and has the shape:  (87600, 67)\n",
      "The value of dropped columns is 30\n"
     ]
    },
    {
     "name": "stderr",
     "output_type": "stream",
     "text": [
      "/Users/alexellard/opt/anaconda3/lib/python3.7/site-packages/xgboost/data.py:96: UserWarning: Use subset (sliced data) of np.ndarray is not recommended because it will generate extra copies and increase memory consumption\n",
      "  \"because it will generate extra copies and increase \" +\n"
     ]
    },
    {
     "name": "stdout",
     "output_type": "stream",
     "text": [
      "test y shape : (17520, 1)\n",
      "Inv y shape : (17520, 67)\n",
      "y pred shape : (17520, 1)\n",
      "inv y pred : (17520, 67)\n",
      "Run 4 Mean Absolute Error: 7.974806947782037\n",
      "RMSE: 11.056\n",
      "R^2: 1.000\n",
      "[['link_12_flow', 'link_31_flow', 'node_12_pressure', 'link_26_flow', 'node_26_pressure', 'link_18_flow', 'link_10_flow', 'node_27_pressure', 'node_18_pressure', 'node_30_demand', 'link_25_flow', 'link_2_flow', 'link_24_flow', 'node_7_demand', 'node_14_demand', 'link_19_flow', 'node_7_pressure', 'link_30_flow', 'node_12_demand', 'node_8_pressure', 'node_15_pressure', 'link_14_flow', 'link_11_flow', 'node_28_pressure', 'node_19_demand', 'link_21_flow', 'node_20_pressure', 'node_21_pressure', 'node_10_pressure', 'node_19_pressure']]\n",
      "starting df shape: (87600, 66)\n",
      "This is training run 5 and has the shape:  (87600, 66)\n",
      "The value of dropped columns is 30\n"
     ]
    },
    {
     "name": "stderr",
     "output_type": "stream",
     "text": [
      "/Users/alexellard/opt/anaconda3/lib/python3.7/site-packages/xgboost/data.py:96: UserWarning: Use subset (sliced data) of np.ndarray is not recommended because it will generate extra copies and increase memory consumption\n",
      "  \"because it will generate extra copies and increase \" +\n"
     ]
    },
    {
     "name": "stdout",
     "output_type": "stream",
     "text": [
      "test y shape : (17520, 1)\n",
      "Inv y shape : (17520, 66)\n",
      "y pred shape : (17520, 1)\n",
      "inv y pred : (17520, 66)\n",
      "Run 5 Mean Absolute Error: 7.598833954294945\n",
      "RMSE: 10.589\n",
      "R^2: 1.000\n",
      "[['node_24_demand', 'link_8_flow', 'node_19_demand', 'node_30_pressure', 'node_3_pressure', 'link_16_flow', 'link_12_flow', 'link_31_flow', 'reservoir_pressure', 'node_4_pressure', 'link_23_flow', 'link_19_flow', 'node_17_pressure', 'node_11_demand', 'link_27_flow', 'link_13_flow', 'node_14_demand', 'node_31_pressure', 'node_5_pressure', 'node_2_demand', 'link_25_flow', 'node_11_pressure', 'node_6_demand', 'node_16_demand', 'node_17_demand', 'link_32_flow', 'node_4_demand', 'link_29_flow', 'node_25_pressure', 'node_25_demand']]\n",
      "starting df shape: (87600, 66)\n",
      "This is training run 6 and has the shape:  (87600, 66)\n",
      "The value of dropped columns is 30\n"
     ]
    },
    {
     "name": "stderr",
     "output_type": "stream",
     "text": [
      "/Users/alexellard/opt/anaconda3/lib/python3.7/site-packages/xgboost/data.py:96: UserWarning: Use subset (sliced data) of np.ndarray is not recommended because it will generate extra copies and increase memory consumption\n",
      "  \"because it will generate extra copies and increase \" +\n"
     ]
    },
    {
     "name": "stdout",
     "output_type": "stream",
     "text": [
      "test y shape : (17520, 1)\n",
      "Inv y shape : (17520, 66)\n",
      "y pred shape : (17520, 1)\n",
      "inv y pred : (17520, 66)\n",
      "Run 6 Mean Absolute Error: 10.121820051914067\n",
      "RMSE: 14.108\n",
      "R^2: 1.000\n",
      "[['node_7_demand', 'link_24_flow', 'reservoir_demand', 'link_1_flow', 'node_24_pressure', 'node_3_demand', 'node_18_demand', 'link_31_flow', 'node_30_pressure', 'node_10_demand', 'link_29_flow', 'link_7_flow', 'node_13_pressure', 'link_11_flow', 'node_17_demand', 'node_14_pressure', 'link_27_flow', 'node_15_demand', 'node_9_demand', 'link_17_flow', 'link_12_flow', 'node_24_demand', 'link_13_flow', 'link_14_flow', 'link_4_flow', 'node_16_demand', 'node_22_demand', 'node_6_pressure', 'link_15_flow']]\n",
      "starting df shape: (87600, 67)\n",
      "This is training run 7 and has the shape:  (87600, 67)\n",
      "The value of dropped columns is 30\n"
     ]
    },
    {
     "name": "stderr",
     "output_type": "stream",
     "text": [
      "/Users/alexellard/opt/anaconda3/lib/python3.7/site-packages/xgboost/data.py:96: UserWarning: Use subset (sliced data) of np.ndarray is not recommended because it will generate extra copies and increase memory consumption\n",
      "  \"because it will generate extra copies and increase \" +\n"
     ]
    },
    {
     "name": "stdout",
     "output_type": "stream",
     "text": [
      "test y shape : (17520, 1)\n",
      "Inv y shape : (17520, 67)\n",
      "y pred shape : (17520, 1)\n",
      "inv y pred : (17520, 67)\n",
      "Run 7 Mean Absolute Error: 0.6239705428265913\n",
      "RMSE: 0.889\n",
      "R^2: 1.000\n",
      "[['link_20_flow', 'node_20_demand', 'reservoir_demand', 'node_12_demand', 'link_16_flow', 'node_30_pressure', 'node_17_demand', 'node_23_demand', 'link_17_flow', 'node_27_demand', 'link_29_flow', 'node_22_demand', 'link_26_flow', 'node_15_pressure', 'link_18_flow', 'node_30_demand', 'link_9_flow', 'node_21_demand', 'node_24_demand', 'node_23_pressure', 'node_29_pressure', 'node_27_pressure', 'node_15_demand', 'node_3_pressure', 'link_15_flow', 'link_25_flow', 'node_19_pressure', 'node_22_pressure', 'link_1_flow', 'node_29_demand']]\n",
      "starting df shape: (87600, 66)\n",
      "This is training run 8 and has the shape:  (87600, 66)\n",
      "The value of dropped columns is 30\n"
     ]
    },
    {
     "name": "stderr",
     "output_type": "stream",
     "text": [
      "/Users/alexellard/opt/anaconda3/lib/python3.7/site-packages/xgboost/data.py:96: UserWarning: Use subset (sliced data) of np.ndarray is not recommended because it will generate extra copies and increase memory consumption\n",
      "  \"because it will generate extra copies and increase \" +\n"
     ]
    },
    {
     "name": "stdout",
     "output_type": "stream",
     "text": [
      "test y shape : (17520, 1)\n",
      "Inv y shape : (17520, 66)\n",
      "y pred shape : (17520, 1)\n",
      "inv y pred : (17520, 66)\n",
      "Run 8 Mean Absolute Error: 0.5765934211079554\n",
      "RMSE: 0.800\n",
      "R^2: 1.000\n",
      "[['node_10_pressure', 'link_20_flow', 'node_7_pressure', 'node_15_demand', 'node_23_demand', 'link_18_flow', 'node_11_pressure', 'reservoir_pressure', 'node_24_pressure', 'node_22_pressure', 'node_25_demand', 'node_23_pressure', 'link_15_flow', 'link_4_flow', 'node_7_demand', 'node_27_pressure', 'node_9_pressure', 'link_19_flow', 'link_5_flow', 'node_8_demand', 'node_19_demand', 'node_14_demand', 'node_6_pressure', 'node_26_pressure', 'link_17_flow', 'node_30_demand', 'node_17_pressure', 'link_28_flow', 'link_27_flow', 'link_14_flow']]\n",
      "starting df shape: (87600, 66)\n",
      "This is training run 9 and has the shape:  (87600, 66)\n",
      "The value of dropped columns is 30\n"
     ]
    },
    {
     "name": "stderr",
     "output_type": "stream",
     "text": [
      "/Users/alexellard/opt/anaconda3/lib/python3.7/site-packages/xgboost/data.py:96: UserWarning: Use subset (sliced data) of np.ndarray is not recommended because it will generate extra copies and increase memory consumption\n",
      "  \"because it will generate extra copies and increase \" +\n"
     ]
    },
    {
     "name": "stdout",
     "output_type": "stream",
     "text": [
      "test y shape : (17520, 1)\n",
      "Inv y shape : (17520, 66)\n",
      "y pred shape : (17520, 1)\n",
      "inv y pred : (17520, 66)\n",
      "Run 9 Mean Absolute Error: 8.499356545367514\n",
      "RMSE: 11.686\n",
      "R^2: 1.000\n",
      "[['node_30_pressure', 'node_9_pressure', 'link_31_flow', 'link_9_flow', 'link_24_flow', 'node_15_pressure', 'link_13_flow', 'node_11_pressure', 'node_6_demand', 'link_3_flow', 'link_8_flow', 'node_3_pressure', 'link_6_flow', 'link_15_flow', 'link_27_flow', 'node_13_pressure', 'link_23_flow', 'node_24_pressure', 'node_10_pressure', 'link_32_flow', 'node_8_demand', 'node_1_pressure', 'node_27_pressure', 'node_22_demand', 'node_14_demand', 'reservoir_demand', 'link_17_flow', 'node_25_pressure', 'node_12_demand', 'node_4_pressure']]\n",
      "starting df shape: (87600, 66)\n",
      "This is training run 10 and has the shape:  (87600, 66)\n",
      "The value of dropped columns is 30\n"
     ]
    },
    {
     "name": "stderr",
     "output_type": "stream",
     "text": [
      "/Users/alexellard/opt/anaconda3/lib/python3.7/site-packages/xgboost/data.py:96: UserWarning: Use subset (sliced data) of np.ndarray is not recommended because it will generate extra copies and increase memory consumption\n",
      "  \"because it will generate extra copies and increase \" +\n"
     ]
    },
    {
     "name": "stdout",
     "output_type": "stream",
     "text": [
      "test y shape : (17520, 1)\n",
      "Inv y shape : (17520, 66)\n",
      "y pred shape : (17520, 1)\n",
      "inv y pred : (17520, 66)\n",
      "Run 10 Mean Absolute Error: 0.5267867263161069\n",
      "RMSE: 0.722\n",
      "R^2: 1.000\n",
      "[['link_6_flow', 'link_4_flow', 'node_1_demand', 'node_10_demand', 'node_11_demand', 'link_16_flow', 'node_16_demand', 'link_19_flow', 'link_17_flow', 'link_2_flow', 'node_15_demand', 'link_21_flow', 'node_2_pressure', 'link_27_flow', 'node_24_demand', 'link_23_flow', 'link_18_flow', 'link_11_flow', 'link_9_flow', 'node_30_pressure', 'node_19_pressure', 'node_31_pressure', 'link_1_flow', 'node_25_pressure', 'node_6_pressure', 'node_24_pressure', 'node_22_pressure', 'node_4_demand', 'node_1_pressure', 'node_23_pressure', 'link_7_flow', 'link_15_flow', 'node_27_pressure', 'link_8_flow', 'reservoir_demand']]\n",
      "starting df shape: (87600, 61)\n",
      "This is training run 1 and has the shape:  (87600, 61)\n",
      "The value of dropped columns is 35\n"
     ]
    },
    {
     "name": "stderr",
     "output_type": "stream",
     "text": [
      "/Users/alexellard/opt/anaconda3/lib/python3.7/site-packages/xgboost/data.py:96: UserWarning: Use subset (sliced data) of np.ndarray is not recommended because it will generate extra copies and increase memory consumption\n",
      "  \"because it will generate extra copies and increase \" +\n"
     ]
    },
    {
     "name": "stdout",
     "output_type": "stream",
     "text": [
      "test y shape : (17520, 1)\n",
      "Inv y shape : (17520, 61)\n",
      "y pred shape : (17520, 1)\n",
      "inv y pred : (17520, 61)\n",
      "Run 1 Mean Absolute Error: 0.697339987970611\n",
      "RMSE: 0.996\n",
      "R^2: 1.000\n",
      "[['link_21_flow', 'link_26_flow', 'reservoir_pressure', 'node_12_pressure', 'node_25_pressure', 'node_25_demand', 'link_1_flow', 'node_6_pressure', 'node_24_pressure', 'node_17_demand', 'node_14_pressure', 'link_12_flow', 'link_2_flow', 'node_31_demand', 'node_7_demand', 'node_15_pressure', 'node_29_pressure', 'node_2_demand', 'node_19_pressure', 'link_9_flow', 'node_26_demand', 'node_6_demand', 'node_31_pressure', 'link_17_flow', 'link_23_flow', 'node_4_demand', 'link_18_flow', 'node_10_pressure', 'node_24_demand', 'node_16_demand', 'link_8_flow', 'node_18_demand', 'link_16_flow', 'node_26_pressure']]\n",
      "starting df shape: (87600, 62)\n",
      "This is training run 2 and has the shape:  (87600, 62)\n",
      "The value of dropped columns is 35\n"
     ]
    },
    {
     "name": "stderr",
     "output_type": "stream",
     "text": [
      "/Users/alexellard/opt/anaconda3/lib/python3.7/site-packages/xgboost/data.py:96: UserWarning: Use subset (sliced data) of np.ndarray is not recommended because it will generate extra copies and increase memory consumption\n",
      "  \"because it will generate extra copies and increase \" +\n"
     ]
    },
    {
     "name": "stdout",
     "output_type": "stream",
     "text": [
      "test y shape : (17520, 1)\n",
      "Inv y shape : (17520, 62)\n",
      "y pred shape : (17520, 1)\n",
      "inv y pred : (17520, 62)\n",
      "Run 2 Mean Absolute Error: 9.663942928387222\n",
      "RMSE: 13.393\n",
      "R^2: 1.000\n",
      "[['node_23_demand', 'node_5_pressure', 'node_24_pressure', 'node_18_pressure', 'node_16_demand', 'node_28_pressure', 'link_3_flow', 'node_22_pressure', 'node_9_demand', 'node_23_pressure', 'link_17_flow', 'node_15_pressure', 'link_25_flow', 'node_21_demand', 'node_11_demand', 'node_20_demand', 'node_29_demand', 'node_18_demand', 'node_25_demand', 'node_11_pressure', 'node_28_demand', 'node_31_demand', 'node_19_pressure', 'link_18_flow', 'node_6_pressure', 'link_21_flow', 'link_11_flow', 'link_1_flow', 'node_24_demand', 'link_19_flow', 'link_29_flow', 'link_14_flow', 'node_13_pressure', 'node_31_pressure']]\n",
      "starting df shape: (87600, 62)\n",
      "This is training run 3 and has the shape:  (87600, 62)\n",
      "The value of dropped columns is 35\n"
     ]
    },
    {
     "name": "stderr",
     "output_type": "stream",
     "text": [
      "/Users/alexellard/opt/anaconda3/lib/python3.7/site-packages/xgboost/data.py:96: UserWarning: Use subset (sliced data) of np.ndarray is not recommended because it will generate extra copies and increase memory consumption\n",
      "  \"because it will generate extra copies and increase \" +\n"
     ]
    },
    {
     "name": "stdout",
     "output_type": "stream",
     "text": [
      "test y shape : (17520, 1)\n",
      "Inv y shape : (17520, 62)\n",
      "y pred shape : (17520, 1)\n",
      "inv y pred : (17520, 62)\n",
      "Run 3 Mean Absolute Error: 8.909040371573393\n",
      "RMSE: 12.223\n",
      "R^2: 1.000\n",
      "[['node_14_pressure', 'node_5_demand', 'node_14_demand', 'node_18_demand', 'node_1_pressure', 'reservoir_pressure', 'link_10_flow', 'node_13_pressure', 'node_29_demand', 'node_22_pressure', 'node_9_pressure', 'node_3_pressure', 'node_10_demand', 'link_12_flow', 'node_31_pressure', 'node_21_pressure', 'link_28_flow', 'link_8_flow', 'node_2_pressure', 'node_11_demand', 'node_25_pressure', 'link_18_flow', 'link_24_flow', 'link_20_flow', 'node_17_demand', 'node_24_pressure', 'node_8_demand', 'node_7_pressure', 'link_25_flow', 'node_25_demand', 'node_8_pressure', 'link_7_flow', 'link_26_flow', 'node_24_demand', 'link_31_flow']]\n",
      "starting df shape: (87600, 61)\n",
      "This is training run 4 and has the shape:  (87600, 61)\n",
      "The value of dropped columns is 35\n"
     ]
    },
    {
     "name": "stderr",
     "output_type": "stream",
     "text": [
      "/Users/alexellard/opt/anaconda3/lib/python3.7/site-packages/xgboost/data.py:96: UserWarning: Use subset (sliced data) of np.ndarray is not recommended because it will generate extra copies and increase memory consumption\n",
      "  \"because it will generate extra copies and increase \" +\n"
     ]
    },
    {
     "name": "stdout",
     "output_type": "stream",
     "text": [
      "test y shape : (17520, 1)\n",
      "Inv y shape : (17520, 61)\n",
      "y pred shape : (17520, 1)\n",
      "inv y pred : (17520, 61)\n",
      "Run 4 Mean Absolute Error: 7.814945634596553\n",
      "RMSE: 10.963\n",
      "R^2: 1.000\n",
      "[['node_12_pressure', 'link_29_flow', 'link_2_flow', 'link_8_flow', 'node_6_pressure', 'node_22_demand', 'link_30_flow', 'node_26_pressure', 'link_5_flow', 'node_17_pressure', 'node_11_demand', 'link_24_flow', 'node_18_demand', 'node_20_pressure', 'node_21_pressure', 'node_30_pressure', 'node_9_demand', 'node_6_demand', 'node_4_demand', 'node_14_demand', 'reservoir_pressure', 'node_18_pressure', 'node_25_pressure', 'node_31_demand', 'node_29_demand', 'link_11_flow', 'node_5_pressure', 'link_32_flow', 'link_17_flow', 'node_27_demand', 'node_28_pressure', 'reservoir_demand', 'node_3_demand', 'node_24_demand']]\n",
      "starting df shape: (87600, 62)\n",
      "This is training run 5 and has the shape:  (87600, 62)\n",
      "The value of dropped columns is 35\n"
     ]
    },
    {
     "name": "stderr",
     "output_type": "stream",
     "text": [
      "/Users/alexellard/opt/anaconda3/lib/python3.7/site-packages/xgboost/data.py:96: UserWarning: Use subset (sliced data) of np.ndarray is not recommended because it will generate extra copies and increase memory consumption\n",
      "  \"because it will generate extra copies and increase \" +\n"
     ]
    },
    {
     "name": "stdout",
     "output_type": "stream",
     "text": [
      "test y shape : (17520, 1)\n",
      "Inv y shape : (17520, 62)\n",
      "y pred shape : (17520, 1)\n",
      "inv y pred : (17520, 62)\n",
      "Run 5 Mean Absolute Error: 0.4515738387615427\n",
      "RMSE: 0.636\n",
      "R^2: 1.000\n",
      "[['node_1_demand', 'node_21_demand', 'link_19_flow', 'link_29_flow', 'link_4_flow', 'node_7_pressure', 'node_7_demand', 'node_17_pressure', 'link_17_flow', 'link_13_flow', 'node_27_demand', 'node_1_pressure', 'reservoir_demand', 'node_31_pressure', 'node_11_demand', 'node_4_demand', 'link_14_flow', 'node_13_pressure', 'node_12_pressure', 'node_30_pressure', 'link_16_flow', 'node_10_demand', 'node_19_pressure', 'link_6_flow', 'node_31_demand', 'link_8_flow', 'link_23_flow', 'node_15_demand', 'link_9_flow', 'link_20_flow', 'node_5_demand', 'node_15_pressure', 'link_3_flow', 'node_4_pressure']]\n",
      "starting df shape: (87600, 62)\n",
      "This is training run 6 and has the shape:  (87600, 62)\n",
      "The value of dropped columns is 35\n"
     ]
    },
    {
     "name": "stderr",
     "output_type": "stream",
     "text": [
      "/Users/alexellard/opt/anaconda3/lib/python3.7/site-packages/xgboost/data.py:96: UserWarning: Use subset (sliced data) of np.ndarray is not recommended because it will generate extra copies and increase memory consumption\n",
      "  \"because it will generate extra copies and increase \" +\n"
     ]
    },
    {
     "name": "stdout",
     "output_type": "stream",
     "text": [
      "test y shape : (17520, 1)\n",
      "Inv y shape : (17520, 62)\n",
      "y pred shape : (17520, 1)\n",
      "inv y pred : (17520, 62)\n",
      "Run 6 Mean Absolute Error: 0.43607478034429786\n",
      "RMSE: 0.615\n",
      "R^2: 1.000\n",
      "[['link_3_flow', 'node_18_demand', 'node_9_demand', 'link_4_flow', 'link_5_flow', 'node_17_demand', 'link_24_flow', 'link_28_flow', 'node_26_pressure', 'node_24_demand', 'link_14_flow', 'node_26_demand', 'node_15_demand', 'node_10_demand', 'node_20_pressure', 'node_22_demand', 'node_2_pressure', 'node_3_pressure', 'node_8_demand', 'link_8_flow', 'link_17_flow', 'link_23_flow', 'link_27_flow', 'link_30_flow', 'link_22_flow', 'node_1_pressure', 'node_12_demand', 'node_19_demand', 'link_19_flow', 'node_30_demand', 'reservoir_pressure', 'node_12_pressure', 'node_5_demand', 'node_15_pressure', 'node_31_pressure']]\n",
      "starting df shape: (87600, 61)\n",
      "This is training run 7 and has the shape:  (87600, 61)\n",
      "The value of dropped columns is 35\n"
     ]
    },
    {
     "name": "stderr",
     "output_type": "stream",
     "text": [
      "/Users/alexellard/opt/anaconda3/lib/python3.7/site-packages/xgboost/data.py:96: UserWarning: Use subset (sliced data) of np.ndarray is not recommended because it will generate extra copies and increase memory consumption\n",
      "  \"because it will generate extra copies and increase \" +\n"
     ]
    },
    {
     "name": "stdout",
     "output_type": "stream",
     "text": [
      "test y shape : (17520, 1)\n",
      "Inv y shape : (17520, 61)\n",
      "y pred shape : (17520, 1)\n",
      "inv y pred : (17520, 61)\n",
      "Run 7 Mean Absolute Error: 7.372381583816392\n",
      "RMSE: 10.135\n",
      "R^2: 1.000\n",
      "[['node_1_demand', 'link_21_flow', 'node_8_demand', 'node_28_demand', 'link_29_flow', 'node_11_pressure', 'link_30_flow', 'node_13_demand', 'reservoir_demand', 'reservoir_pressure', 'node_21_demand', 'link_14_flow', 'link_26_flow', 'node_8_pressure', 'link_19_flow', 'node_31_pressure', 'node_10_pressure', 'link_22_flow', 'node_29_demand', 'node_1_pressure', 'node_29_pressure', 'link_11_flow', 'node_12_demand', 'link_10_flow', 'node_12_pressure', 'node_17_demand', 'node_19_demand', 'node_22_pressure', 'node_9_pressure', 'node_25_demand', 'node_20_demand', 'node_3_pressure', 'link_4_flow', 'node_5_demand', 'link_20_flow']]\n",
      "starting df shape: (87600, 61)\n",
      "This is training run 8 and has the shape:  (87600, 61)\n",
      "The value of dropped columns is 35\n"
     ]
    },
    {
     "name": "stderr",
     "output_type": "stream",
     "text": [
      "/Users/alexellard/opt/anaconda3/lib/python3.7/site-packages/xgboost/data.py:96: UserWarning: Use subset (sliced data) of np.ndarray is not recommended because it will generate extra copies and increase memory consumption\n",
      "  \"because it will generate extra copies and increase \" +\n"
     ]
    },
    {
     "name": "stdout",
     "output_type": "stream",
     "text": [
      "test y shape : (17520, 1)\n",
      "Inv y shape : (17520, 61)\n",
      "y pred shape : (17520, 1)\n",
      "inv y pred : (17520, 61)\n",
      "Run 8 Mean Absolute Error: 0.4051809136432452\n",
      "RMSE: 0.571\n",
      "R^2: 1.000\n",
      "[['link_28_flow', 'link_12_flow', 'node_14_pressure', 'node_21_demand', 'link_7_flow', 'node_22_pressure', 'link_26_flow', 'link_15_flow', 'node_29_pressure', 'link_14_flow', 'link_5_flow', 'node_30_pressure', 'node_26_pressure', 'node_9_pressure', 'link_31_flow', 'node_11_pressure', 'link_3_flow', 'node_5_demand', 'node_16_demand', 'node_2_demand', 'node_12_pressure', 'node_18_demand', 'node_24_pressure', 'node_3_demand', 'node_15_pressure', 'node_24_demand', 'node_29_demand', 'node_6_pressure', 'link_22_flow', 'link_11_flow', 'node_31_pressure', 'link_4_flow', 'link_19_flow', 'node_9_demand', 'link_27_flow']]\n",
      "starting df shape: (87600, 61)\n",
      "This is training run 9 and has the shape:  (87600, 61)\n",
      "The value of dropped columns is 35\n"
     ]
    },
    {
     "name": "stderr",
     "output_type": "stream",
     "text": [
      "/Users/alexellard/opt/anaconda3/lib/python3.7/site-packages/xgboost/data.py:96: UserWarning: Use subset (sliced data) of np.ndarray is not recommended because it will generate extra copies and increase memory consumption\n",
      "  \"because it will generate extra copies and increase \" +\n"
     ]
    },
    {
     "name": "stdout",
     "output_type": "stream",
     "text": [
      "test y shape : (17520, 1)\n",
      "Inv y shape : (17520, 61)\n",
      "y pred shape : (17520, 1)\n",
      "inv y pred : (17520, 61)\n",
      "Run 9 Mean Absolute Error: 10.890782476806171\n",
      "RMSE: 15.312\n",
      "R^2: 1.000\n",
      "[['node_4_pressure', 'node_23_demand', 'node_7_demand', 'link_3_flow', 'link_18_flow', 'node_2_demand', 'node_15_pressure', 'node_4_demand', 'node_20_demand', 'node_20_pressure', 'node_11_demand', 'node_14_demand', 'link_5_flow', 'reservoir_pressure', 'node_26_pressure', 'link_19_flow', 'node_21_demand', 'link_32_flow', 'link_2_flow', 'link_1_flow', 'node_25_demand', 'node_29_demand', 'node_22_pressure', 'link_24_flow', 'node_2_pressure', 'node_31_pressure', 'node_1_demand', 'node_31_demand', 'node_10_pressure', 'link_31_flow', 'link_9_flow', 'node_25_pressure', 'link_6_flow', 'link_17_flow', 'node_3_demand']]\n",
      "starting df shape: (87600, 61)\n",
      "This is training run 10 and has the shape:  (87600, 61)\n",
      "The value of dropped columns is 35\n"
     ]
    },
    {
     "name": "stderr",
     "output_type": "stream",
     "text": [
      "/Users/alexellard/opt/anaconda3/lib/python3.7/site-packages/xgboost/data.py:96: UserWarning: Use subset (sliced data) of np.ndarray is not recommended because it will generate extra copies and increase memory consumption\n",
      "  \"because it will generate extra copies and increase \" +\n"
     ]
    },
    {
     "name": "stdout",
     "output_type": "stream",
     "text": [
      "test y shape : (17520, 1)\n",
      "Inv y shape : (17520, 61)\n",
      "y pred shape : (17520, 1)\n",
      "inv y pred : (17520, 61)\n",
      "Run 10 Mean Absolute Error: 8.051639338867721\n",
      "RMSE: 11.042\n",
      "R^2: 1.000\n",
      "[['node_27_pressure', 'node_20_pressure', 'link_32_flow', 'link_4_flow', 'node_19_demand', 'node_31_pressure', 'node_25_pressure', 'link_16_flow', 'link_24_flow', 'node_9_pressure', 'link_26_flow', 'node_3_demand', 'node_28_pressure', 'node_1_demand', 'link_25_flow', 'link_5_flow', 'link_11_flow', 'reservoir_demand', 'node_4_demand', 'node_26_demand', 'node_10_demand', 'link_10_flow', 'node_19_pressure', 'node_24_demand', 'node_15_pressure', 'link_3_flow', 'node_22_pressure', 'node_22_demand', 'node_26_pressure', 'node_20_demand', 'link_30_flow', 'node_11_pressure', 'link_1_flow', 'link_15_flow', 'node_30_demand', 'link_20_flow', 'node_2_pressure', 'node_8_pressure', 'node_4_pressure', 'node_6_pressure']]\n",
      "starting df shape: (87600, 56)\n",
      "This is training run 1 and has the shape:  (87600, 56)\n",
      "The value of dropped columns is 40\n"
     ]
    },
    {
     "name": "stderr",
     "output_type": "stream",
     "text": [
      "/Users/alexellard/opt/anaconda3/lib/python3.7/site-packages/xgboost/data.py:96: UserWarning: Use subset (sliced data) of np.ndarray is not recommended because it will generate extra copies and increase memory consumption\n",
      "  \"because it will generate extra copies and increase \" +\n"
     ]
    },
    {
     "name": "stdout",
     "output_type": "stream",
     "text": [
      "test y shape : (17520, 1)\n",
      "Inv y shape : (17520, 56)\n",
      "y pred shape : (17520, 1)\n",
      "inv y pred : (17520, 56)\n",
      "Run 1 Mean Absolute Error: 0.46898372298006197\n",
      "RMSE: 0.647\n",
      "R^2: 1.000\n",
      "[['link_26_flow', 'node_17_pressure', 'node_3_pressure', 'node_15_demand', 'link_11_flow', 'reservoir_pressure', 'node_9_demand', 'link_10_flow', 'node_20_pressure', 'link_18_flow', 'link_27_flow', 'link_5_flow', 'node_18_pressure', 'node_2_pressure', 'node_31_demand', 'link_30_flow', 'node_21_pressure', 'node_24_pressure', 'node_20_demand', 'node_25_pressure', 'node_13_pressure', 'node_13_demand', 'link_32_flow', 'node_18_demand', 'node_30_pressure', 'node_6_pressure', 'link_9_flow', 'node_26_pressure', 'node_14_pressure', 'node_19_demand', 'link_2_flow', 'node_4_pressure', 'link_17_flow', 'node_7_demand', 'node_17_demand', 'link_22_flow', 'node_27_pressure', 'node_30_demand', 'link_4_flow', 'node_10_pressure']]\n",
      "starting df shape: (87600, 56)\n",
      "This is training run 2 and has the shape:  (87600, 56)\n",
      "The value of dropped columns is 40\n"
     ]
    },
    {
     "name": "stderr",
     "output_type": "stream",
     "text": [
      "/Users/alexellard/opt/anaconda3/lib/python3.7/site-packages/xgboost/data.py:96: UserWarning: Use subset (sliced data) of np.ndarray is not recommended because it will generate extra copies and increase memory consumption\n",
      "  \"because it will generate extra copies and increase \" +\n"
     ]
    },
    {
     "name": "stdout",
     "output_type": "stream",
     "text": [
      "test y shape : (17520, 1)\n",
      "Inv y shape : (17520, 56)\n",
      "y pred shape : (17520, 1)\n",
      "inv y pred : (17520, 56)\n",
      "Run 2 Mean Absolute Error: 10.068317194922049\n",
      "RMSE: 13.786\n",
      "R^2: 1.000\n",
      "[['node_30_pressure', 'node_24_demand', 'node_28_demand', 'node_28_pressure', 'node_12_demand', 'link_10_flow', 'node_13_demand', 'link_20_flow', 'node_8_demand', 'link_8_flow', 'node_6_demand', 'link_17_flow', 'node_14_pressure', 'node_15_pressure', 'node_17_pressure', 'node_25_demand', 'node_20_pressure', 'link_26_flow', 'node_26_demand', 'node_26_pressure', 'node_1_pressure', 'link_12_flow', 'node_11_demand', 'link_22_flow', 'link_15_flow', 'reservoir_demand', 'node_29_demand', 'node_20_demand', 'node_16_demand', 'link_1_flow', 'link_11_flow', 'link_5_flow', 'reservoir_pressure', 'node_13_pressure', 'link_4_flow', 'link_19_flow', 'node_18_demand', 'link_13_flow', 'link_2_flow', 'node_2_demand']]\n",
      "starting df shape: (87600, 56)\n",
      "This is training run 3 and has the shape:  (87600, 56)\n",
      "The value of dropped columns is 40\n"
     ]
    },
    {
     "name": "stderr",
     "output_type": "stream",
     "text": [
      "/Users/alexellard/opt/anaconda3/lib/python3.7/site-packages/xgboost/data.py:96: UserWarning: Use subset (sliced data) of np.ndarray is not recommended because it will generate extra copies and increase memory consumption\n",
      "  \"because it will generate extra copies and increase \" +\n"
     ]
    },
    {
     "name": "stdout",
     "output_type": "stream",
     "text": [
      "test y shape : (17520, 1)\n",
      "Inv y shape : (17520, 56)\n",
      "y pred shape : (17520, 1)\n",
      "inv y pred : (17520, 56)\n",
      "Run 3 Mean Absolute Error: 0.7918957657740389\n",
      "RMSE: 1.110\n",
      "R^2: 1.000\n",
      "[['node_13_pressure', 'link_15_flow', 'link_20_flow', 'link_4_flow', 'link_31_flow', 'node_23_pressure', 'node_9_demand', 'node_5_pressure', 'node_21_pressure', 'node_20_demand', 'link_11_flow', 'node_27_demand', 'node_31_demand', 'node_6_pressure', 'node_26_demand', 'node_12_demand', 'node_21_demand', 'link_3_flow', 'link_29_flow', 'link_9_flow', 'link_16_flow', 'link_1_flow', 'node_8_pressure', 'node_5_demand', 'node_3_demand', 'node_22_pressure', 'link_24_flow', 'node_6_demand', 'node_7_pressure', 'node_11_demand', 'node_14_demand', 'link_7_flow', 'node_13_demand', 'node_24_demand', 'link_8_flow', 'link_28_flow', 'node_29_pressure', 'node_26_pressure', 'reservoir_demand']]\n",
      "starting df shape: (87600, 57)\n",
      "This is training run 4 and has the shape:  (87600, 57)\n",
      "The value of dropped columns is 40\n"
     ]
    },
    {
     "name": "stderr",
     "output_type": "stream",
     "text": [
      "/Users/alexellard/opt/anaconda3/lib/python3.7/site-packages/xgboost/data.py:96: UserWarning: Use subset (sliced data) of np.ndarray is not recommended because it will generate extra copies and increase memory consumption\n",
      "  \"because it will generate extra copies and increase \" +\n"
     ]
    },
    {
     "name": "stdout",
     "output_type": "stream",
     "text": [
      "test y shape : (17520, 1)\n",
      "Inv y shape : (17520, 57)\n",
      "y pred shape : (17520, 1)\n",
      "inv y pred : (17520, 57)\n",
      "Run 4 Mean Absolute Error: 0.5280374009775577\n",
      "RMSE: 0.745\n",
      "R^2: 1.000\n",
      "[['link_25_flow', 'node_28_pressure', 'node_20_pressure', 'node_13_pressure', 'node_4_demand', 'node_16_demand', 'link_30_flow', 'link_22_flow', 'link_29_flow', 'node_14_demand', 'node_6_pressure', 'node_9_demand', 'link_28_flow', 'node_23_pressure', 'node_19_demand', 'node_1_demand', 'node_8_pressure', 'node_26_pressure', 'node_7_demand', 'link_27_flow', 'node_31_demand', 'node_30_pressure', 'link_21_flow', 'link_18_flow', 'node_28_demand', 'node_10_pressure', 'node_24_pressure', 'link_11_flow', 'link_12_flow', 'link_16_flow', 'node_27_pressure', 'node_30_demand', 'node_15_demand', 'node_25_demand', 'node_3_pressure', 'link_2_flow', 'link_10_flow', 'node_15_pressure', 'node_17_pressure', 'node_18_pressure']]\n",
      "starting df shape: (87600, 56)\n",
      "This is training run 5 and has the shape:  (87600, 56)\n",
      "The value of dropped columns is 40\n"
     ]
    },
    {
     "name": "stderr",
     "output_type": "stream",
     "text": [
      "/Users/alexellard/opt/anaconda3/lib/python3.7/site-packages/xgboost/data.py:96: UserWarning: Use subset (sliced data) of np.ndarray is not recommended because it will generate extra copies and increase memory consumption\n",
      "  \"because it will generate extra copies and increase \" +\n"
     ]
    },
    {
     "name": "stdout",
     "output_type": "stream",
     "text": [
      "test y shape : (17520, 1)\n",
      "Inv y shape : (17520, 56)\n",
      "y pred shape : (17520, 1)\n",
      "inv y pred : (17520, 56)\n",
      "Run 5 Mean Absolute Error: 10.329070572735219\n",
      "RMSE: 14.150\n",
      "R^2: 1.000\n",
      "[['link_16_flow', 'link_9_flow', 'node_19_demand', 'node_23_pressure', 'reservoir_demand', 'node_28_demand', 'node_14_pressure', 'link_17_flow', 'node_30_pressure', 'link_32_flow', 'node_11_demand', 'node_29_pressure', 'link_11_flow', 'node_4_demand', 'link_24_flow', 'link_1_flow', 'link_8_flow', 'reservoir_pressure', 'node_17_demand', 'link_14_flow', 'node_1_demand', 'link_3_flow', 'node_3_pressure', 'node_2_demand', 'node_21_pressure', 'node_30_demand', 'node_2_pressure', 'node_7_pressure', 'node_6_pressure', 'node_6_demand', 'link_4_flow', 'link_28_flow', 'node_25_demand', 'link_22_flow', 'node_12_demand', 'node_24_pressure', 'node_18_demand', 'link_2_flow', 'node_26_demand', 'node_25_pressure']]\n",
      "starting df shape: (87600, 56)\n",
      "This is training run 6 and has the shape:  (87600, 56)\n",
      "The value of dropped columns is 40\n"
     ]
    },
    {
     "name": "stderr",
     "output_type": "stream",
     "text": [
      "/Users/alexellard/opt/anaconda3/lib/python3.7/site-packages/xgboost/data.py:96: UserWarning: Use subset (sliced data) of np.ndarray is not recommended because it will generate extra copies and increase memory consumption\n",
      "  \"because it will generate extra copies and increase \" +\n"
     ]
    },
    {
     "name": "stdout",
     "output_type": "stream",
     "text": [
      "test y shape : (17520, 1)\n",
      "Inv y shape : (17520, 56)\n",
      "y pred shape : (17520, 1)\n",
      "inv y pred : (17520, 56)\n",
      "Run 6 Mean Absolute Error: 0.06979706919686503\n",
      "RMSE: 0.098\n",
      "R^2: 1.000\n",
      "[['link_8_flow', 'link_32_flow', 'node_18_demand', 'node_13_demand', 'node_1_pressure', 'reservoir_demand', 'node_17_pressure', 'node_8_pressure', 'node_3_demand', 'node_6_pressure', 'node_3_pressure', 'node_25_pressure', 'link_14_flow', 'link_3_flow', 'node_6_demand', 'node_5_pressure', 'link_12_flow', 'node_27_pressure', 'link_10_flow', 'node_20_pressure', 'node_30_demand', 'link_13_flow', 'link_18_flow', 'link_31_flow', 'link_7_flow', 'node_21_demand', 'link_29_flow', 'link_19_flow', 'node_2_pressure', 'node_29_demand', 'node_30_pressure', 'link_23_flow', 'reservoir_pressure', 'link_17_flow', 'node_18_pressure', 'link_30_flow', 'node_11_pressure', 'link_16_flow', 'link_21_flow']]\n",
      "starting df shape: (87600, 57)\n",
      "This is training run 7 and has the shape:  (87600, 57)\n",
      "The value of dropped columns is 40\n"
     ]
    },
    {
     "name": "stderr",
     "output_type": "stream",
     "text": [
      "/Users/alexellard/opt/anaconda3/lib/python3.7/site-packages/xgboost/data.py:96: UserWarning: Use subset (sliced data) of np.ndarray is not recommended because it will generate extra copies and increase memory consumption\n",
      "  \"because it will generate extra copies and increase \" +\n"
     ]
    },
    {
     "name": "stdout",
     "output_type": "stream",
     "text": [
      "test y shape : (17520, 1)\n",
      "Inv y shape : (17520, 57)\n",
      "y pred shape : (17520, 1)\n",
      "inv y pred : (17520, 57)\n",
      "Run 7 Mean Absolute Error: 0.5379956268738586\n",
      "RMSE: 0.744\n",
      "R^2: 1.000\n",
      "[['node_30_pressure', 'node_13_demand', 'reservoir_demand', 'node_26_demand', 'node_20_demand', 'link_13_flow', 'node_21_demand', 'link_14_flow', 'node_24_pressure', 'link_8_flow', 'node_9_pressure', 'node_3_demand', 'node_25_demand', 'node_5_demand', 'node_28_demand', 'node_6_pressure', 'link_11_flow', 'link_5_flow', 'node_7_pressure', 'link_27_flow', 'link_1_flow', 'node_22_demand', 'node_1_pressure', 'node_15_pressure', 'link_29_flow', 'node_30_demand', 'node_28_pressure', 'link_22_flow', 'link_25_flow', 'node_8_pressure', 'node_17_demand', 'node_1_demand', 'link_9_flow', 'link_19_flow', 'link_32_flow', 'node_20_pressure', 'reservoir_pressure', 'node_10_demand', 'node_4_pressure']]\n",
      "starting df shape: (87600, 57)\n",
      "This is training run 8 and has the shape:  (87600, 57)\n",
      "The value of dropped columns is 40\n"
     ]
    },
    {
     "name": "stderr",
     "output_type": "stream",
     "text": [
      "/Users/alexellard/opt/anaconda3/lib/python3.7/site-packages/xgboost/data.py:96: UserWarning: Use subset (sliced data) of np.ndarray is not recommended because it will generate extra copies and increase memory consumption\n",
      "  \"because it will generate extra copies and increase \" +\n"
     ]
    },
    {
     "name": "stdout",
     "output_type": "stream",
     "text": [
      "test y shape : (17520, 1)\n",
      "Inv y shape : (17520, 57)\n",
      "y pred shape : (17520, 1)\n",
      "inv y pred : (17520, 57)\n",
      "Run 8 Mean Absolute Error: 0.4356170067066721\n",
      "RMSE: 0.596\n",
      "R^2: 1.000\n",
      "[['node_29_pressure', 'link_31_flow', 'link_16_flow', 'node_9_pressure', 'link_28_flow', 'node_3_demand', 'node_14_demand', 'node_5_pressure', 'node_24_demand', 'link_6_flow', 'node_16_demand', 'node_1_demand', 'node_19_demand', 'node_25_pressure', 'link_10_flow', 'link_30_flow', 'node_2_demand', 'node_13_pressure', 'link_20_flow', 'node_22_demand', 'link_25_flow', 'link_22_flow', 'node_26_pressure', 'node_8_pressure', 'link_8_flow', 'link_27_flow', 'node_5_demand', 'link_14_flow', 'link_29_flow', 'link_19_flow', 'node_15_demand', 'node_6_pressure', 'link_1_flow', 'node_21_demand', 'node_10_demand', 'reservoir_pressure', 'node_27_demand', 'node_20_pressure', 'link_12_flow', 'link_9_flow']]\n",
      "starting df shape: (87600, 56)\n",
      "This is training run 9 and has the shape:  (87600, 56)\n",
      "The value of dropped columns is 40\n"
     ]
    },
    {
     "name": "stderr",
     "output_type": "stream",
     "text": [
      "/Users/alexellard/opt/anaconda3/lib/python3.7/site-packages/xgboost/data.py:96: UserWarning: Use subset (sliced data) of np.ndarray is not recommended because it will generate extra copies and increase memory consumption\n",
      "  \"because it will generate extra copies and increase \" +\n"
     ]
    },
    {
     "name": "stdout",
     "output_type": "stream",
     "text": [
      "test y shape : (17520, 1)\n",
      "Inv y shape : (17520, 56)\n",
      "y pred shape : (17520, 1)\n",
      "inv y pred : (17520, 56)\n",
      "Run 9 Mean Absolute Error: 9.67513618913201\n",
      "RMSE: 13.471\n",
      "R^2: 1.000\n",
      "[['node_9_demand', 'node_3_demand', 'link_6_flow', 'node_12_demand', 'link_22_flow', 'node_14_demand', 'link_1_flow', 'link_12_flow', 'node_10_pressure', 'node_22_demand', 'link_18_flow', 'node_10_demand', 'link_25_flow', 'node_15_demand', 'node_17_pressure', 'node_31_demand', 'link_14_flow', 'link_21_flow', 'node_20_pressure', 'link_15_flow', 'link_9_flow', 'node_15_pressure', 'node_6_pressure', 'link_4_flow', 'node_1_demand', 'reservoir_pressure', 'node_8_demand', 'link_16_flow', 'node_17_demand', 'node_25_demand', 'node_22_pressure', 'link_11_flow', 'node_5_demand', 'link_28_flow', 'node_13_pressure', 'link_17_flow', 'node_4_demand', 'link_2_flow', 'node_4_pressure']]\n",
      "starting df shape: (87600, 57)\n",
      "This is training run 10 and has the shape:  (87600, 57)\n",
      "The value of dropped columns is 40\n"
     ]
    },
    {
     "name": "stderr",
     "output_type": "stream",
     "text": [
      "/Users/alexellard/opt/anaconda3/lib/python3.7/site-packages/xgboost/data.py:96: UserWarning: Use subset (sliced data) of np.ndarray is not recommended because it will generate extra copies and increase memory consumption\n",
      "  \"because it will generate extra copies and increase \" +\n"
     ]
    },
    {
     "name": "stdout",
     "output_type": "stream",
     "text": [
      "test y shape : (17520, 1)\n",
      "Inv y shape : (17520, 57)\n",
      "y pred shape : (17520, 1)\n",
      "inv y pred : (17520, 57)\n",
      "Run 10 Mean Absolute Error: 11.098159907910812\n",
      "RMSE: 15.347\n",
      "R^2: 1.000\n",
      "[['node_9_pressure', 'node_24_pressure', 'node_24_demand', 'link_25_flow', 'node_22_pressure', 'node_17_pressure', 'link_23_flow', 'node_21_demand', 'link_11_flow', 'node_5_demand', 'link_27_flow', 'node_12_demand', 'link_12_flow', 'link_21_flow', 'node_20_pressure', 'node_26_pressure', 'node_10_pressure', 'node_10_demand', 'node_8_pressure', 'node_16_demand', 'node_28_demand', 'node_14_demand', 'node_11_pressure', 'node_6_pressure', 'node_19_demand', 'node_5_pressure', 'node_29_pressure', 'node_2_pressure', 'link_3_flow', 'node_12_pressure', 'link_5_flow', 'link_28_flow', 'node_14_pressure', 'link_16_flow', 'link_7_flow', 'link_32_flow', 'node_18_pressure', 'node_1_demand', 'node_18_demand', 'node_15_demand', 'link_29_flow', 'node_25_demand', 'node_8_demand', 'link_30_flow', 'node_17_demand']]\n",
      "starting df shape: (87600, 51)\n",
      "This is training run 1 and has the shape:  (87600, 51)\n",
      "The value of dropped columns is 45\n"
     ]
    },
    {
     "name": "stderr",
     "output_type": "stream",
     "text": [
      "/Users/alexellard/opt/anaconda3/lib/python3.7/site-packages/xgboost/data.py:96: UserWarning: Use subset (sliced data) of np.ndarray is not recommended because it will generate extra copies and increase memory consumption\n",
      "  \"because it will generate extra copies and increase \" +\n"
     ]
    },
    {
     "name": "stdout",
     "output_type": "stream",
     "text": [
      "test y shape : (17520, 1)\n",
      "Inv y shape : (17520, 51)\n",
      "y pred shape : (17520, 1)\n",
      "inv y pred : (17520, 51)\n",
      "Run 1 Mean Absolute Error: 9.676148404850913\n",
      "RMSE: 13.414\n",
      "R^2: 1.000\n",
      "[['node_31_pressure', 'link_4_flow', 'link_26_flow', 'link_21_flow', 'node_11_pressure', 'link_9_flow', 'node_27_demand', 'node_26_pressure', 'link_31_flow', 'node_31_demand', 'node_8_demand', 'link_14_flow', 'link_7_flow', 'node_13_demand', 'node_5_demand', 'link_19_flow', 'node_24_demand', 'link_8_flow', 'link_30_flow', 'node_1_demand', 'node_20_pressure', 'node_7_demand', 'node_2_pressure', 'node_10_demand', 'node_27_pressure', 'node_11_demand', 'node_18_demand', 'link_1_flow', 'node_9_demand', 'link_23_flow', 'node_17_demand', 'node_12_demand', 'node_25_pressure', 'node_18_pressure', 'node_3_pressure', 'link_10_flow', 'node_26_demand', 'node_29_pressure', 'node_2_demand', 'link_5_flow', 'link_29_flow', 'node_14_pressure', 'node_20_demand', 'link_27_flow', 'link_11_flow']]\n",
      "starting df shape: (87600, 51)\n",
      "This is training run 2 and has the shape:  (87600, 51)\n",
      "The value of dropped columns is 45\n"
     ]
    },
    {
     "name": "stderr",
     "output_type": "stream",
     "text": [
      "/Users/alexellard/opt/anaconda3/lib/python3.7/site-packages/xgboost/data.py:96: UserWarning: Use subset (sliced data) of np.ndarray is not recommended because it will generate extra copies and increase memory consumption\n",
      "  \"because it will generate extra copies and increase \" +\n"
     ]
    },
    {
     "name": "stdout",
     "output_type": "stream",
     "text": [
      "test y shape : (17520, 1)\n",
      "Inv y shape : (17520, 51)\n",
      "y pred shape : (17520, 1)\n",
      "inv y pred : (17520, 51)\n",
      "Run 2 Mean Absolute Error: 8.617787687383771\n",
      "RMSE: 12.305\n",
      "R^2: 1.000\n",
      "[['link_28_flow', 'link_23_flow', 'link_18_flow', 'node_23_pressure', 'link_3_flow', 'node_6_pressure', 'node_20_demand', 'link_25_flow', 'node_1_demand', 'node_27_pressure', 'link_24_flow', 'node_18_demand', 'link_17_flow', 'node_28_pressure', 'node_14_demand', 'node_28_demand', 'reservoir_demand', 'node_2_pressure', 'link_9_flow', 'node_7_pressure', 'link_19_flow', 'link_31_flow', 'node_16_demand', 'node_17_pressure', 'node_26_pressure', 'link_5_flow', 'link_10_flow', 'reservoir_pressure', 'node_13_demand', 'node_17_demand', 'node_8_demand', 'node_3_pressure', 'link_32_flow', 'link_15_flow', 'link_16_flow', 'node_9_pressure', 'link_12_flow', 'link_13_flow', 'node_23_demand', 'node_18_pressure', 'node_14_pressure', 'node_4_pressure', 'node_6_demand', 'node_15_demand', 'link_4_flow']]\n",
      "starting df shape: (87600, 51)\n",
      "This is training run 3 and has the shape:  (87600, 51)\n",
      "The value of dropped columns is 45\n"
     ]
    },
    {
     "name": "stderr",
     "output_type": "stream",
     "text": [
      "/Users/alexellard/opt/anaconda3/lib/python3.7/site-packages/xgboost/data.py:96: UserWarning: Use subset (sliced data) of np.ndarray is not recommended because it will generate extra copies and increase memory consumption\n",
      "  \"because it will generate extra copies and increase \" +\n"
     ]
    },
    {
     "name": "stdout",
     "output_type": "stream",
     "text": [
      "test y shape : (17520, 1)\n",
      "Inv y shape : (17520, 51)\n",
      "y pred shape : (17520, 1)\n",
      "inv y pred : (17520, 51)\n",
      "Run 3 Mean Absolute Error: 0.8130742471846023\n",
      "RMSE: 1.147\n",
      "R^2: 1.000\n",
      "[['node_24_demand', 'node_12_demand', 'node_29_demand', 'link_18_flow', 'reservoir_pressure', 'node_8_demand', 'node_1_pressure', 'node_2_pressure', 'node_26_demand', 'link_14_flow', 'link_2_flow', 'node_7_demand', 'link_3_flow', 'node_28_pressure', 'link_13_flow', 'node_16_demand', 'link_8_flow', 'link_26_flow', 'node_22_pressure', 'link_23_flow', 'node_18_demand', 'node_27_pressure', 'node_19_pressure', 'node_29_pressure', 'node_30_demand', 'node_17_pressure', 'node_25_demand', 'node_13_pressure', 'node_23_pressure', 'link_7_flow', 'node_26_pressure', 'node_3_demand', 'node_20_pressure', 'link_12_flow', 'node_17_demand', 'node_14_demand', 'node_5_demand', 'node_3_pressure', 'node_8_pressure', 'node_5_pressure', 'node_31_pressure', 'link_31_flow', 'link_29_flow', 'node_25_pressure']]\n",
      "starting df shape: (87600, 52)\n",
      "This is training run 4 and has the shape:  (87600, 52)\n",
      "The value of dropped columns is 45\n"
     ]
    },
    {
     "name": "stderr",
     "output_type": "stream",
     "text": [
      "/Users/alexellard/opt/anaconda3/lib/python3.7/site-packages/xgboost/data.py:96: UserWarning: Use subset (sliced data) of np.ndarray is not recommended because it will generate extra copies and increase memory consumption\n",
      "  \"because it will generate extra copies and increase \" +\n"
     ]
    },
    {
     "name": "stdout",
     "output_type": "stream",
     "text": [
      "test y shape : (17520, 1)\n",
      "Inv y shape : (17520, 52)\n",
      "y pred shape : (17520, 1)\n",
      "inv y pred : (17520, 52)\n",
      "Run 4 Mean Absolute Error: 8.98496802142944\n",
      "RMSE: 12.523\n",
      "R^2: 1.000\n",
      "[['link_29_flow', 'node_30_demand', 'link_25_flow', 'link_28_flow', 'node_13_demand', 'node_9_demand', 'node_22_pressure', 'node_7_demand', 'node_11_demand', 'node_2_demand', 'node_23_demand', 'node_31_demand', 'node_22_demand', 'node_21_pressure', 'node_6_pressure', 'node_26_pressure', 'node_25_pressure', 'node_12_demand', 'node_18_demand', 'link_23_flow', 'node_19_demand', 'node_24_demand', 'node_13_pressure', 'node_19_pressure', 'link_14_flow', 'node_14_pressure', 'node_3_demand', 'node_7_pressure', 'node_23_pressure', 'node_14_demand', 'node_17_pressure', 'link_10_flow', 'reservoir_demand', 'link_15_flow', 'node_18_pressure', 'node_25_demand', 'node_10_pressure', 'node_29_demand', 'node_30_pressure', 'node_15_pressure', 'link_17_flow', 'node_24_pressure', 'node_12_pressure', 'node_26_demand']]\n",
      "starting df shape: (87600, 52)\n",
      "This is training run 5 and has the shape:  (87600, 52)\n",
      "The value of dropped columns is 45\n"
     ]
    },
    {
     "name": "stderr",
     "output_type": "stream",
     "text": [
      "/Users/alexellard/opt/anaconda3/lib/python3.7/site-packages/xgboost/data.py:96: UserWarning: Use subset (sliced data) of np.ndarray is not recommended because it will generate extra copies and increase memory consumption\n",
      "  \"because it will generate extra copies and increase \" +\n"
     ]
    },
    {
     "name": "stdout",
     "output_type": "stream",
     "text": [
      "test y shape : (17520, 1)\n",
      "Inv y shape : (17520, 52)\n",
      "y pred shape : (17520, 1)\n",
      "inv y pred : (17520, 52)\n",
      "Run 5 Mean Absolute Error: 0.5988453169409718\n",
      "RMSE: 0.853\n",
      "R^2: 1.000\n",
      "[['node_8_pressure', 'link_14_flow', 'link_29_flow', 'node_28_pressure', 'node_5_demand', 'node_13_demand', 'node_19_demand', 'reservoir_demand', 'node_30_pressure', 'link_19_flow', 'node_2_pressure', 'link_17_flow', 'node_15_demand', 'link_2_flow', 'node_7_pressure', 'link_11_flow', 'link_13_flow', 'link_26_flow', 'node_29_demand', 'node_27_demand', 'node_4_demand', 'node_11_pressure', 'node_31_pressure', 'link_6_flow', 'node_9_pressure', 'link_16_flow', 'link_30_flow', 'link_28_flow', 'link_27_flow', 'node_14_demand', 'node_24_demand', 'reservoir_pressure', 'node_20_pressure', 'link_12_flow', 'link_25_flow', 'node_27_pressure', 'node_14_pressure', 'node_20_demand', 'link_22_flow', 'node_6_pressure', 'node_28_demand', 'link_1_flow', 'node_3_demand', 'link_9_flow', 'node_22_demand']]\n",
      "starting df shape: (87600, 51)\n",
      "This is training run 6 and has the shape:  (87600, 51)\n",
      "The value of dropped columns is 45\n"
     ]
    },
    {
     "name": "stderr",
     "output_type": "stream",
     "text": [
      "/Users/alexellard/opt/anaconda3/lib/python3.7/site-packages/xgboost/data.py:96: UserWarning: Use subset (sliced data) of np.ndarray is not recommended because it will generate extra copies and increase memory consumption\n",
      "  \"because it will generate extra copies and increase \" +\n"
     ]
    },
    {
     "name": "stdout",
     "output_type": "stream",
     "text": [
      "test y shape : (17520, 1)\n",
      "Inv y shape : (17520, 51)\n",
      "y pred shape : (17520, 1)\n",
      "inv y pred : (17520, 51)\n",
      "Run 6 Mean Absolute Error: 0.4691864398448283\n",
      "RMSE: 0.656\n",
      "R^2: 1.000\n",
      "[['link_16_flow', 'node_5_demand', 'node_27_pressure', 'node_1_demand', 'node_6_pressure', 'node_8_demand', 'node_22_pressure', 'node_24_demand', 'node_17_demand', 'reservoir_pressure', 'link_20_flow', 'node_2_demand', 'node_15_demand', 'node_4_pressure', 'link_30_flow', 'node_2_pressure', 'node_29_pressure', 'node_12_demand', 'node_26_pressure', 'node_19_demand', 'link_12_flow', 'link_32_flow', 'node_3_pressure', 'link_31_flow', 'link_18_flow', 'link_28_flow', 'link_7_flow', 'link_14_flow', 'link_23_flow', 'node_13_demand', 'node_9_demand', 'node_9_pressure', 'link_6_flow', 'node_3_demand', 'node_21_demand', 'node_29_demand', 'node_28_pressure', 'link_2_flow', 'link_19_flow', 'node_4_demand', 'link_1_flow', 'link_25_flow', 'node_7_demand', 'node_10_pressure']]\n",
      "starting df shape: (87600, 52)\n",
      "This is training run 7 and has the shape:  (87600, 52)\n",
      "The value of dropped columns is 45\n"
     ]
    },
    {
     "name": "stderr",
     "output_type": "stream",
     "text": [
      "/Users/alexellard/opt/anaconda3/lib/python3.7/site-packages/xgboost/data.py:96: UserWarning: Use subset (sliced data) of np.ndarray is not recommended because it will generate extra copies and increase memory consumption\n",
      "  \"because it will generate extra copies and increase \" +\n"
     ]
    },
    {
     "name": "stdout",
     "output_type": "stream",
     "text": [
      "test y shape : (17520, 1)\n",
      "Inv y shape : (17520, 52)\n",
      "y pred shape : (17520, 1)\n",
      "inv y pred : (17520, 52)\n",
      "Run 7 Mean Absolute Error: 7.783226358924413\n",
      "RMSE: 11.023\n",
      "R^2: 1.000\n",
      "[['node_23_demand', 'link_19_flow', 'link_22_flow', 'node_30_pressure', 'node_2_pressure', 'node_11_pressure', 'node_10_demand', 'node_4_pressure', 'link_11_flow', 'reservoir_demand', 'node_29_demand', 'link_17_flow', 'node_7_demand', 'link_24_flow', 'node_13_pressure', 'node_8_pressure', 'node_21_pressure', 'node_27_demand', 'link_13_flow', 'link_21_flow', 'node_9_demand', 'link_4_flow', 'link_30_flow', 'link_20_flow', 'node_21_demand', 'link_18_flow', 'link_2_flow', 'node_14_pressure', 'link_29_flow', 'node_19_demand', 'node_12_pressure', 'node_1_demand', 'node_28_pressure', 'node_5_demand', 'node_22_demand', 'node_12_demand', 'node_22_pressure', 'link_3_flow', 'link_25_flow', 'node_30_demand', 'node_24_pressure', 'node_10_pressure', 'node_9_pressure', 'link_14_flow']]\n",
      "starting df shape: (87600, 52)\n",
      "This is training run 8 and has the shape:  (87600, 52)\n",
      "The value of dropped columns is 45\n"
     ]
    },
    {
     "name": "stderr",
     "output_type": "stream",
     "text": [
      "/Users/alexellard/opt/anaconda3/lib/python3.7/site-packages/xgboost/data.py:96: UserWarning: Use subset (sliced data) of np.ndarray is not recommended because it will generate extra copies and increase memory consumption\n",
      "  \"because it will generate extra copies and increase \" +\n"
     ]
    },
    {
     "name": "stdout",
     "output_type": "stream",
     "text": [
      "test y shape : (17520, 1)\n",
      "Inv y shape : (17520, 52)\n",
      "y pred shape : (17520, 1)\n",
      "inv y pred : (17520, 52)\n",
      "Run 8 Mean Absolute Error: 0.40104294493122433\n",
      "RMSE: 0.588\n",
      "R^2: 1.000\n",
      "[['node_15_pressure', 'node_14_demand', 'link_14_flow', 'node_7_pressure', 'node_29_demand', 'node_18_demand', 'node_17_demand', 'link_26_flow', 'link_5_flow', 'node_26_pressure', 'node_28_demand', 'node_19_demand', 'node_30_demand', 'link_28_flow', 'link_2_flow', 'node_13_pressure', 'node_31_demand', 'node_30_pressure', 'node_24_demand', 'link_6_flow', 'node_11_demand', 'node_21_demand', 'node_5_pressure', 'node_27_pressure', 'link_24_flow', 'reservoir_pressure', 'link_27_flow', 'node_21_pressure', 'link_3_flow', 'node_16_demand', 'link_22_flow', 'node_20_demand', 'node_9_pressure', 'link_12_flow', 'node_9_demand', 'link_31_flow', 'node_6_pressure', 'node_13_demand', 'link_17_flow', 'link_11_flow', 'node_29_pressure', 'link_13_flow', 'node_1_demand', 'node_8_pressure', 'node_14_pressure']]\n",
      "starting df shape: (87600, 51)\n",
      "This is training run 9 and has the shape:  (87600, 51)\n",
      "The value of dropped columns is 45\n"
     ]
    },
    {
     "name": "stderr",
     "output_type": "stream",
     "text": [
      "/Users/alexellard/opt/anaconda3/lib/python3.7/site-packages/xgboost/data.py:96: UserWarning: Use subset (sliced data) of np.ndarray is not recommended because it will generate extra copies and increase memory consumption\n",
      "  \"because it will generate extra copies and increase \" +\n"
     ]
    },
    {
     "name": "stdout",
     "output_type": "stream",
     "text": [
      "test y shape : (17520, 1)\n",
      "Inv y shape : (17520, 51)\n",
      "y pred shape : (17520, 1)\n",
      "inv y pred : (17520, 51)\n",
      "Run 9 Mean Absolute Error: 9.723898323287317\n",
      "RMSE: 13.548\n",
      "R^2: 1.000\n",
      "[['node_23_demand', 'link_20_flow', 'link_18_flow', 'node_8_demand', 'node_28_demand', 'node_28_pressure', 'node_14_pressure', 'node_7_pressure', 'link_16_flow', 'node_11_pressure', 'node_24_demand', 'node_27_demand', 'link_26_flow', 'link_13_flow', 'link_21_flow', 'node_31_demand', 'link_23_flow', 'node_14_demand', 'node_4_demand', 'link_19_flow', 'node_3_demand', 'link_2_flow', 'link_5_flow', 'node_8_pressure', 'node_17_pressure', 'link_30_flow', 'node_29_pressure', 'node_24_pressure', 'node_30_pressure', 'node_18_demand', 'node_12_pressure', 'node_29_demand', 'node_15_pressure', 'link_6_flow', 'link_25_flow', 'node_22_pressure', 'node_13_pressure', 'node_10_demand', 'node_4_pressure', 'node_20_demand', 'link_17_flow', 'node_10_pressure', 'node_26_pressure', 'node_30_demand', 'node_25_demand']]\n",
      "starting df shape: (87600, 51)\n",
      "This is training run 10 and has the shape:  (87600, 51)\n",
      "The value of dropped columns is 45\n"
     ]
    },
    {
     "name": "stderr",
     "output_type": "stream",
     "text": [
      "/Users/alexellard/opt/anaconda3/lib/python3.7/site-packages/xgboost/data.py:96: UserWarning: Use subset (sliced data) of np.ndarray is not recommended because it will generate extra copies and increase memory consumption\n",
      "  \"because it will generate extra copies and increase \" +\n"
     ]
    },
    {
     "name": "stdout",
     "output_type": "stream",
     "text": [
      "test y shape : (17520, 1)\n",
      "Inv y shape : (17520, 51)\n",
      "y pred shape : (17520, 1)\n",
      "inv y pred : (17520, 51)\n",
      "Run 10 Mean Absolute Error: 9.328477950273198\n",
      "RMSE: 12.834\n",
      "R^2: 1.000\n",
      "[['node_7_pressure', 'node_21_demand', 'node_17_pressure', 'node_3_pressure', 'node_26_pressure', 'node_16_demand', 'node_29_demand', 'node_31_pressure', 'node_6_pressure', 'node_29_pressure', 'link_9_flow', 'link_24_flow', 'link_27_flow', 'link_10_flow', 'link_23_flow', 'node_30_demand', 'node_20_demand', 'link_13_flow', 'node_5_pressure', 'node_27_demand', 'node_28_pressure', 'reservoir_demand', 'link_29_flow', 'link_21_flow', 'node_22_pressure', 'node_15_demand', 'link_20_flow', 'node_13_pressure', 'node_2_demand', 'node_30_pressure', 'node_8_pressure', 'node_9_demand', 'link_1_flow', 'node_18_demand', 'link_32_flow', 'link_2_flow', 'node_15_pressure', 'node_28_demand', 'node_21_pressure', 'node_24_pressure', 'node_22_demand', 'node_1_pressure', 'node_11_demand', 'node_27_pressure', 'node_17_demand', 'node_25_demand', 'node_10_pressure', 'node_6_demand', 'node_25_pressure']]\n",
      "starting df shape: (87600, 47)\n",
      "This is training run 1 and has the shape:  (87600, 47)\n",
      "The value of dropped columns is 50\n"
     ]
    },
    {
     "name": "stderr",
     "output_type": "stream",
     "text": [
      "/Users/alexellard/opt/anaconda3/lib/python3.7/site-packages/xgboost/data.py:96: UserWarning: Use subset (sliced data) of np.ndarray is not recommended because it will generate extra copies and increase memory consumption\n",
      "  \"because it will generate extra copies and increase \" +\n"
     ]
    },
    {
     "name": "stdout",
     "output_type": "stream",
     "text": [
      "test y shape : (17520, 1)\n",
      "Inv y shape : (17520, 47)\n",
      "y pred shape : (17520, 1)\n",
      "inv y pred : (17520, 47)\n",
      "Run 1 Mean Absolute Error: 0.5543882745716899\n",
      "RMSE: 0.757\n",
      "R^2: 1.000\n",
      "[['link_19_flow', 'node_25_pressure', 'node_3_demand', 'node_23_pressure', 'link_23_flow', 'node_13_demand', 'node_10_pressure', 'node_26_demand', 'node_1_pressure', 'node_9_pressure', 'link_15_flow', 'link_4_flow', 'node_31_pressure', 'link_32_flow', 'link_24_flow', 'link_29_flow', 'link_6_flow', 'node_6_pressure', 'node_4_pressure', 'node_7_demand', 'link_31_flow', 'node_2_demand', 'link_21_flow', 'link_1_flow', 'link_11_flow', 'node_21_pressure', 'node_29_pressure', 'node_19_demand', 'node_30_demand', 'node_27_demand', 'node_14_pressure', 'link_2_flow', 'node_5_pressure', 'link_16_flow', 'link_9_flow', 'node_29_demand', 'node_22_pressure', 'node_11_pressure', 'link_22_flow', 'node_27_pressure', 'node_5_demand', 'node_15_pressure', 'node_24_demand', 'link_25_flow', 'node_20_demand', 'node_8_pressure', 'node_10_demand', 'link_13_flow', 'node_17_demand']]\n",
      "starting df shape: (87600, 47)\n",
      "This is training run 2 and has the shape:  (87600, 47)\n",
      "The value of dropped columns is 50\n"
     ]
    },
    {
     "name": "stderr",
     "output_type": "stream",
     "text": [
      "/Users/alexellard/opt/anaconda3/lib/python3.7/site-packages/xgboost/data.py:96: UserWarning: Use subset (sliced data) of np.ndarray is not recommended because it will generate extra copies and increase memory consumption\n",
      "  \"because it will generate extra copies and increase \" +\n"
     ]
    },
    {
     "name": "stdout",
     "output_type": "stream",
     "text": [
      "test y shape : (17520, 1)\n",
      "Inv y shape : (17520, 47)\n",
      "y pred shape : (17520, 1)\n",
      "inv y pred : (17520, 47)\n",
      "Run 2 Mean Absolute Error: 8.92322422238311\n",
      "RMSE: 12.339\n",
      "R^2: 1.000\n",
      "[['node_5_pressure', 'node_25_pressure', 'link_5_flow', 'node_19_demand', 'link_1_flow', 'node_10_pressure', 'link_26_flow', 'node_25_demand', 'link_15_flow', 'node_8_demand', 'link_11_flow', 'node_17_demand', 'link_14_flow', 'node_7_pressure', 'link_2_flow', 'link_13_flow', 'node_18_demand', 'node_21_pressure', 'link_6_flow', 'reservoir_pressure', 'node_29_pressure', 'node_29_demand', 'node_12_demand', 'node_26_pressure', 'node_18_pressure', 'link_27_flow', 'node_5_demand', 'node_3_demand', 'node_28_demand', 'node_7_demand', 'node_4_pressure', 'node_11_pressure', 'link_12_flow', 'node_2_demand', 'node_10_demand', 'node_14_pressure', 'node_14_demand', 'node_22_pressure', 'node_9_pressure', 'node_4_demand', 'node_22_demand', 'link_31_flow', 'link_19_flow', 'node_6_demand', 'link_8_flow', 'link_18_flow', 'node_20_demand', 'node_20_pressure', 'node_2_pressure']]\n",
      "starting df shape: (87600, 47)\n",
      "This is training run 3 and has the shape:  (87600, 47)\n",
      "The value of dropped columns is 50\n"
     ]
    },
    {
     "name": "stderr",
     "output_type": "stream",
     "text": [
      "/Users/alexellard/opt/anaconda3/lib/python3.7/site-packages/xgboost/data.py:96: UserWarning: Use subset (sliced data) of np.ndarray is not recommended because it will generate extra copies and increase memory consumption\n",
      "  \"because it will generate extra copies and increase \" +\n"
     ]
    },
    {
     "name": "stdout",
     "output_type": "stream",
     "text": [
      "test y shape : (17520, 1)\n",
      "Inv y shape : (17520, 47)\n",
      "y pred shape : (17520, 1)\n",
      "inv y pred : (17520, 47)\n",
      "Run 3 Mean Absolute Error: 8.70842722531681\n",
      "RMSE: 12.082\n",
      "R^2: 1.000\n",
      "[['link_32_flow', 'link_27_flow', 'reservoir_demand', 'node_29_pressure', 'node_3_pressure', 'link_4_flow', 'node_20_demand', 'link_7_flow', 'node_26_pressure', 'node_18_demand', 'link_22_flow', 'node_29_demand', 'node_31_pressure', 'node_27_demand', 'link_28_flow', 'node_15_demand', 'node_13_pressure', 'node_28_pressure', 'link_18_flow', 'node_5_demand', 'reservoir_pressure', 'node_11_demand', 'node_4_pressure', 'link_2_flow', 'node_10_demand', 'node_21_pressure', 'node_25_pressure', 'link_9_flow', 'node_17_pressure', 'node_30_demand', 'node_14_pressure', 'node_22_pressure', 'link_12_flow', 'link_1_flow', 'link_30_flow', 'link_19_flow', 'node_11_pressure', 'link_25_flow', 'link_8_flow', 'node_12_demand', 'link_20_flow', 'link_13_flow', 'node_24_demand', 'link_21_flow', 'node_6_demand', 'node_1_pressure', 'node_20_pressure', 'node_19_pressure', 'link_14_flow', 'node_6_pressure']]\n",
      "starting df shape: (87600, 46)\n",
      "This is training run 4 and has the shape:  (87600, 46)\n",
      "The value of dropped columns is 50\n"
     ]
    },
    {
     "name": "stderr",
     "output_type": "stream",
     "text": [
      "/Users/alexellard/opt/anaconda3/lib/python3.7/site-packages/xgboost/data.py:96: UserWarning: Use subset (sliced data) of np.ndarray is not recommended because it will generate extra copies and increase memory consumption\n",
      "  \"because it will generate extra copies and increase \" +\n"
     ]
    },
    {
     "name": "stdout",
     "output_type": "stream",
     "text": [
      "test y shape : (17520, 1)\n",
      "Inv y shape : (17520, 46)\n",
      "y pred shape : (17520, 1)\n",
      "inv y pred : (17520, 46)\n",
      "Run 4 Mean Absolute Error: 0.5101706140575104\n",
      "RMSE: 0.715\n",
      "R^2: 1.000\n",
      "[['node_5_pressure', 'node_14_pressure', 'node_29_demand', 'link_11_flow', 'link_10_flow', 'node_18_pressure', 'link_24_flow', 'link_28_flow', 'node_7_demand', 'node_4_pressure', 'link_13_flow', 'link_26_flow', 'node_17_pressure', 'link_17_flow', 'node_26_pressure', 'node_14_demand', 'node_3_demand', 'node_31_pressure', 'link_30_flow', 'node_2_pressure', 'node_23_demand', 'node_18_demand', 'node_16_demand', 'node_6_demand', 'node_24_demand', 'link_25_flow', 'link_15_flow', 'node_10_demand', 'node_11_demand', 'reservoir_demand', 'node_27_demand', 'link_29_flow', 'node_20_pressure', 'node_6_pressure', 'node_5_demand', 'link_22_flow', 'node_1_demand', 'link_32_flow', 'link_19_flow', 'node_28_demand', 'node_1_pressure', 'node_19_demand', 'link_1_flow', 'node_30_pressure', 'node_20_demand', 'link_20_flow', 'link_27_flow', 'node_22_demand', 'node_15_demand']]\n",
      "starting df shape: (87600, 47)\n",
      "This is training run 5 and has the shape:  (87600, 47)\n",
      "The value of dropped columns is 50\n"
     ]
    },
    {
     "name": "stderr",
     "output_type": "stream",
     "text": [
      "/Users/alexellard/opt/anaconda3/lib/python3.7/site-packages/xgboost/data.py:96: UserWarning: Use subset (sliced data) of np.ndarray is not recommended because it will generate extra copies and increase memory consumption\n",
      "  \"because it will generate extra copies and increase \" +\n"
     ]
    },
    {
     "name": "stdout",
     "output_type": "stream",
     "text": [
      "test y shape : (17520, 1)\n",
      "Inv y shape : (17520, 47)\n",
      "y pred shape : (17520, 1)\n",
      "inv y pred : (17520, 47)\n",
      "Run 5 Mean Absolute Error: 0.60328333140593\n",
      "RMSE: 0.836\n",
      "R^2: 1.000\n",
      "[['link_16_flow', 'node_3_pressure', 'node_16_demand', 'node_23_demand', 'node_15_demand', 'node_29_demand', 'node_6_pressure', 'link_1_flow', 'link_10_flow', 'link_29_flow', 'link_3_flow', 'reservoir_pressure', 'node_10_pressure', 'node_2_pressure', 'node_3_demand', 'node_28_pressure', 'node_10_demand', 'node_18_demand', 'link_5_flow', 'node_22_pressure', 'node_22_demand', 'link_28_flow', 'node_30_pressure', 'link_12_flow', 'node_30_demand', 'node_27_pressure', 'node_23_pressure', 'node_11_pressure', 'node_25_pressure', 'node_26_demand', 'link_18_flow', 'link_17_flow', 'link_26_flow', 'node_8_demand', 'node_13_demand', 'node_5_demand', 'node_7_demand', 'link_15_flow', 'node_24_pressure', 'node_28_demand', 'node_26_pressure', 'link_19_flow', 'node_12_demand', 'link_31_flow', 'node_25_demand', 'node_20_pressure', 'node_20_demand', 'node_18_pressure', 'link_8_flow']]\n",
      "starting df shape: (87600, 47)\n",
      "This is training run 6 and has the shape:  (87600, 47)\n",
      "The value of dropped columns is 50\n"
     ]
    },
    {
     "name": "stderr",
     "output_type": "stream",
     "text": [
      "/Users/alexellard/opt/anaconda3/lib/python3.7/site-packages/xgboost/data.py:96: UserWarning: Use subset (sliced data) of np.ndarray is not recommended because it will generate extra copies and increase memory consumption\n",
      "  \"because it will generate extra copies and increase \" +\n"
     ]
    },
    {
     "name": "stdout",
     "output_type": "stream",
     "text": [
      "test y shape : (17520, 1)\n",
      "Inv y shape : (17520, 47)\n",
      "y pred shape : (17520, 1)\n",
      "inv y pred : (17520, 47)\n",
      "Run 6 Mean Absolute Error: 13.879738880452365\n",
      "RMSE: 20.025\n",
      "R^2: 1.000\n",
      "[['node_24_pressure', 'node_5_demand', 'node_9_pressure', 'link_30_flow', 'link_11_flow', 'link_8_flow', 'link_28_flow', 'node_7_pressure', 'node_3_demand', 'node_6_pressure', 'node_17_pressure', 'node_27_pressure', 'link_29_flow', 'node_21_demand', 'link_16_flow', 'node_14_demand', 'link_31_flow', 'link_24_flow', 'link_22_flow', 'node_29_demand', 'node_8_pressure', 'node_22_pressure', 'link_6_flow', 'link_19_flow', 'node_12_demand', 'node_12_pressure', 'node_15_pressure', 'node_7_demand', 'link_27_flow', 'link_23_flow', 'node_31_pressure', 'reservoir_demand', 'link_20_flow', 'node_1_demand', 'node_22_demand', 'node_10_demand', 'link_9_flow', 'node_17_demand', 'link_25_flow', 'node_24_demand', 'node_13_pressure', 'link_7_flow', 'node_10_pressure', 'node_8_demand', 'node_30_demand', 'link_4_flow', 'node_29_pressure', 'node_19_demand', 'link_10_flow']]\n",
      "starting df shape: (87600, 47)\n",
      "This is training run 7 and has the shape:  (87600, 47)\n",
      "The value of dropped columns is 50\n"
     ]
    },
    {
     "name": "stderr",
     "output_type": "stream",
     "text": [
      "/Users/alexellard/opt/anaconda3/lib/python3.7/site-packages/xgboost/data.py:96: UserWarning: Use subset (sliced data) of np.ndarray is not recommended because it will generate extra copies and increase memory consumption\n",
      "  \"because it will generate extra copies and increase \" +\n"
     ]
    },
    {
     "name": "stdout",
     "output_type": "stream",
     "text": [
      "test y shape : (17520, 1)\n",
      "Inv y shape : (17520, 47)\n",
      "y pred shape : (17520, 1)\n",
      "inv y pred : (17520, 47)\n",
      "Run 7 Mean Absolute Error: 0.43291562308512166\n",
      "RMSE: 0.599\n",
      "R^2: 1.000\n",
      "[['link_29_flow', 'node_21_pressure', 'node_20_pressure', 'link_11_flow', 'node_24_demand', 'node_4_pressure', 'node_29_pressure', 'node_26_demand', 'node_25_pressure', 'node_11_demand', 'link_16_flow', 'link_21_flow', 'node_6_demand', 'link_10_flow', 'link_30_flow', 'node_16_demand', 'node_14_demand', 'node_30_pressure', 'node_22_pressure', 'link_24_flow', 'link_7_flow', 'link_23_flow', 'link_20_flow', 'node_3_pressure', 'link_12_flow', 'node_28_demand', 'node_20_demand', 'link_4_flow', 'node_8_pressure', 'node_21_demand', 'node_18_demand', 'node_19_demand', 'node_2_pressure', 'node_17_pressure', 'node_12_pressure', 'link_6_flow', 'link_1_flow', 'link_22_flow', 'node_2_demand', 'node_30_demand', 'node_29_demand', 'reservoir_demand', 'node_9_demand', 'node_19_pressure', 'node_12_demand', 'node_18_pressure', 'node_13_pressure', 'node_17_demand', 'link_32_flow']]\n",
      "starting df shape: (87600, 47)\n",
      "This is training run 8 and has the shape:  (87600, 47)\n",
      "The value of dropped columns is 50\n"
     ]
    },
    {
     "name": "stderr",
     "output_type": "stream",
     "text": [
      "/Users/alexellard/opt/anaconda3/lib/python3.7/site-packages/xgboost/data.py:96: UserWarning: Use subset (sliced data) of np.ndarray is not recommended because it will generate extra copies and increase memory consumption\n",
      "  \"because it will generate extra copies and increase \" +\n"
     ]
    },
    {
     "name": "stdout",
     "output_type": "stream",
     "text": [
      "test y shape : (17520, 1)\n",
      "Inv y shape : (17520, 47)\n",
      "y pred shape : (17520, 1)\n",
      "inv y pred : (17520, 47)\n",
      "Run 8 Mean Absolute Error: 0.5937556348288112\n",
      "RMSE: 0.834\n",
      "R^2: 1.000\n",
      "[['link_30_flow', 'link_13_flow', 'node_9_demand', 'reservoir_demand', 'node_14_demand', 'node_26_demand', 'node_15_demand', 'node_14_pressure', 'link_10_flow', 'node_8_demand', 'reservoir_pressure', 'link_17_flow', 'link_4_flow', 'node_17_pressure', 'node_7_pressure', 'link_6_flow', 'node_23_demand', 'node_2_demand', 'node_24_demand', 'link_19_flow', 'node_10_pressure', 'node_12_pressure', 'node_6_demand', 'node_16_demand', 'node_28_pressure', 'node_11_pressure', 'node_5_demand', 'link_12_flow', 'link_25_flow', 'link_31_flow', 'node_19_demand', 'link_11_flow', 'link_26_flow', 'node_18_demand', 'node_10_demand', 'link_24_flow', 'node_5_pressure', 'node_15_pressure', 'node_19_pressure', 'node_20_demand', 'node_27_demand', 'link_16_flow', 'node_13_pressure', 'node_31_demand', 'link_22_flow', 'node_13_demand', 'node_9_pressure', 'link_21_flow', 'link_18_flow', 'link_2_flow']]\n",
      "starting df shape: (87600, 46)\n",
      "This is training run 9 and has the shape:  (87600, 46)\n",
      "The value of dropped columns is 50\n"
     ]
    },
    {
     "name": "stderr",
     "output_type": "stream",
     "text": [
      "/Users/alexellard/opt/anaconda3/lib/python3.7/site-packages/xgboost/data.py:96: UserWarning: Use subset (sliced data) of np.ndarray is not recommended because it will generate extra copies and increase memory consumption\n",
      "  \"because it will generate extra copies and increase \" +\n"
     ]
    },
    {
     "name": "stdout",
     "output_type": "stream",
     "text": [
      "test y shape : (17520, 1)\n",
      "Inv y shape : (17520, 46)\n",
      "y pred shape : (17520, 1)\n",
      "inv y pred : (17520, 46)\n",
      "Run 9 Mean Absolute Error: 0.8137731210484432\n",
      "RMSE: 1.128\n",
      "R^2: 1.000\n",
      "[['node_29_demand', 'node_24_demand', 'link_29_flow', 'node_4_demand', 'node_25_pressure', 'node_3_demand', 'node_8_demand', 'node_5_pressure', 'link_25_flow', 'node_14_demand', 'link_22_flow', 'node_27_demand', 'node_5_demand', 'node_18_demand', 'node_25_demand', 'node_31_pressure', 'node_30_demand', 'node_29_pressure', 'node_21_demand', 'node_14_pressure', 'node_24_pressure', 'node_20_pressure', 'node_31_demand', 'node_28_demand', 'link_4_flow', 'node_23_pressure', 'node_22_demand', 'link_24_flow', 'node_3_pressure', 'node_1_pressure', 'link_20_flow', 'node_21_pressure', 'link_18_flow', 'link_7_flow', 'link_8_flow', 'node_16_demand', 'reservoir_demand', 'node_17_demand', 'node_22_pressure', 'node_2_demand', 'link_14_flow', 'node_15_pressure', 'link_19_flow', 'node_1_demand', 'link_16_flow', 'link_10_flow', 'link_30_flow', 'node_19_demand', 'link_1_flow']]\n",
      "starting df shape: (87600, 47)\n",
      "This is training run 10 and has the shape:  (87600, 47)\n",
      "The value of dropped columns is 50\n"
     ]
    },
    {
     "name": "stderr",
     "output_type": "stream",
     "text": [
      "/Users/alexellard/opt/anaconda3/lib/python3.7/site-packages/xgboost/data.py:96: UserWarning: Use subset (sliced data) of np.ndarray is not recommended because it will generate extra copies and increase memory consumption\n",
      "  \"because it will generate extra copies and increase \" +\n"
     ]
    },
    {
     "name": "stdout",
     "output_type": "stream",
     "text": [
      "test y shape : (17520, 1)\n",
      "Inv y shape : (17520, 47)\n",
      "y pred shape : (17520, 1)\n",
      "inv y pred : (17520, 47)\n",
      "Run 10 Mean Absolute Error: 0.8852630468201986\n",
      "RMSE: 1.214\n",
      "R^2: 1.000\n",
      "[['node_2_pressure', 'node_25_demand', 'link_12_flow', 'node_28_demand', 'node_17_demand', 'node_27_pressure', 'link_10_flow', 'node_30_pressure', 'node_4_demand', 'link_24_flow', 'link_32_flow', 'node_6_demand', 'node_19_demand', 'link_21_flow', 'node_14_pressure', 'link_22_flow', 'node_22_demand', 'node_31_demand', 'node_20_demand', 'node_8_pressure', 'node_12_demand', 'link_31_flow', 'link_25_flow', 'node_15_demand', 'link_23_flow', 'link_11_flow', 'link_13_flow', 'node_29_demand', 'node_29_pressure', 'reservoir_pressure', 'link_4_flow', 'node_28_pressure', 'node_18_pressure', 'node_17_pressure', 'node_7_pressure', 'node_24_pressure', 'node_3_pressure', 'link_20_flow', 'node_3_demand', 'node_11_demand', 'node_20_pressure', 'node_6_pressure', 'node_21_pressure', 'link_30_flow', 'node_8_demand', 'node_1_demand', 'node_15_pressure', 'node_23_pressure', 'node_27_demand', 'node_4_pressure', 'link_9_flow', 'node_12_pressure', 'node_1_pressure', 'node_9_demand', 'node_10_demand']]\n",
      "starting df shape: (87600, 41)\n",
      "This is training run 1 and has the shape:  (87600, 41)\n",
      "The value of dropped columns is 55\n"
     ]
    },
    {
     "name": "stderr",
     "output_type": "stream",
     "text": [
      "/Users/alexellard/opt/anaconda3/lib/python3.7/site-packages/xgboost/data.py:96: UserWarning: Use subset (sliced data) of np.ndarray is not recommended because it will generate extra copies and increase memory consumption\n",
      "  \"because it will generate extra copies and increase \" +\n"
     ]
    },
    {
     "name": "stdout",
     "output_type": "stream",
     "text": [
      "test y shape : (17520, 1)\n",
      "Inv y shape : (17520, 41)\n",
      "y pred shape : (17520, 1)\n",
      "inv y pred : (17520, 41)\n",
      "Run 1 Mean Absolute Error: 8.693570235220394\n",
      "RMSE: 12.451\n",
      "R^2: 1.000\n",
      "[['node_24_demand', 'node_14_demand', 'node_23_demand', 'link_11_flow', 'node_3_pressure', 'link_24_flow', 'link_16_flow', 'node_17_demand', 'node_17_pressure', 'node_25_pressure', 'node_21_pressure', 'link_28_flow', 'link_27_flow', 'node_30_pressure', 'node_24_pressure', 'node_29_pressure', 'node_28_pressure', 'node_5_pressure', 'link_31_flow', 'node_25_demand', 'node_6_demand', 'link_10_flow', 'link_8_flow', 'node_31_pressure', 'node_11_pressure', 'node_18_demand', 'node_10_demand', 'node_7_demand', 'node_3_demand', 'node_6_pressure', 'node_9_pressure', 'node_16_demand', 'node_7_pressure', 'node_13_pressure', 'node_13_demand', 'link_29_flow', 'link_7_flow', 'reservoir_demand', 'link_32_flow', 'node_8_demand', 'link_26_flow', 'node_10_pressure', 'link_30_flow', 'link_1_flow', 'node_14_pressure', 'node_12_demand', 'node_28_demand', 'link_6_flow', 'link_14_flow', 'link_4_flow', 'node_19_pressure', 'node_30_demand', 'node_20_demand', 'link_3_flow']]\n",
      "starting df shape: (87600, 42)\n",
      "This is training run 2 and has the shape:  (87600, 42)\n",
      "The value of dropped columns is 55\n"
     ]
    },
    {
     "name": "stderr",
     "output_type": "stream",
     "text": [
      "/Users/alexellard/opt/anaconda3/lib/python3.7/site-packages/xgboost/data.py:96: UserWarning: Use subset (sliced data) of np.ndarray is not recommended because it will generate extra copies and increase memory consumption\n",
      "  \"because it will generate extra copies and increase \" +\n"
     ]
    },
    {
     "name": "stdout",
     "output_type": "stream",
     "text": [
      "test y shape : (17520, 1)\n",
      "Inv y shape : (17520, 42)\n",
      "y pred shape : (17520, 1)\n",
      "inv y pred : (17520, 42)\n",
      "Run 2 Mean Absolute Error: 0.6441079849816005\n",
      "RMSE: 0.905\n",
      "R^2: 1.000\n",
      "[['node_5_demand', 'node_12_pressure', 'node_22_demand', 'node_3_pressure', 'link_29_flow', 'node_19_pressure', 'node_23_demand', 'node_15_demand', 'node_26_demand', 'link_6_flow', 'node_14_pressure', 'node_29_pressure', 'link_20_flow', 'node_18_demand', 'node_13_demand', 'link_8_flow', 'node_16_demand', 'node_1_pressure', 'node_8_pressure', 'node_2_pressure', 'link_17_flow', 'node_28_demand', 'node_10_pressure', 'node_6_pressure', 'node_13_pressure', 'node_9_demand', 'node_25_demand', 'node_12_demand', 'node_31_pressure', 'node_6_demand', 'node_2_demand', 'link_4_flow', 'link_32_flow', 'reservoir_demand', 'node_23_pressure', 'link_31_flow', 'link_3_flow', 'node_21_pressure', 'node_19_demand', 'node_10_demand', 'node_4_demand', 'node_7_pressure', 'link_30_flow', 'link_18_flow', 'node_22_pressure', 'node_17_demand', 'link_10_flow', 'link_28_flow', 'node_27_pressure', 'link_12_flow', 'node_28_pressure', 'node_20_pressure', 'node_8_demand', 'node_14_demand']]\n",
      "starting df shape: (87600, 42)\n",
      "This is training run 3 and has the shape:  (87600, 42)\n",
      "The value of dropped columns is 55\n"
     ]
    },
    {
     "name": "stderr",
     "output_type": "stream",
     "text": [
      "/Users/alexellard/opt/anaconda3/lib/python3.7/site-packages/xgboost/data.py:96: UserWarning: Use subset (sliced data) of np.ndarray is not recommended because it will generate extra copies and increase memory consumption\n",
      "  \"because it will generate extra copies and increase \" +\n"
     ]
    },
    {
     "name": "stdout",
     "output_type": "stream",
     "text": [
      "test y shape : (17520, 1)\n",
      "Inv y shape : (17520, 42)\n",
      "y pred shape : (17520, 1)\n",
      "inv y pred : (17520, 42)\n",
      "Run 3 Mean Absolute Error: 0.5060893967298751\n",
      "RMSE: 0.713\n",
      "R^2: 1.000\n",
      "[['node_10_pressure', 'node_16_demand', 'node_7_pressure', 'node_21_demand', 'link_7_flow', 'node_27_pressure', 'link_14_flow', 'node_20_demand', 'link_5_flow', 'node_18_pressure', 'node_7_demand', 'link_4_flow', 'node_26_demand', 'link_3_flow', 'node_10_demand', 'node_31_demand', 'link_30_flow', 'node_20_pressure', 'node_21_pressure', 'node_23_demand', 'node_3_demand', 'node_1_demand', 'node_3_pressure', 'node_11_demand', 'node_6_pressure', 'node_19_pressure', 'node_2_pressure', 'node_17_demand', 'reservoir_pressure', 'link_9_flow', 'node_25_demand', 'node_15_demand', 'link_23_flow', 'node_8_demand', 'node_9_demand', 'link_31_flow', 'reservoir_demand', 'link_25_flow', 'link_17_flow', 'node_29_pressure', 'node_23_pressure', 'node_13_demand', 'node_13_pressure', 'node_12_demand', 'link_12_flow', 'node_11_pressure', 'node_14_demand', 'link_15_flow', 'node_29_demand', 'link_6_flow', 'link_2_flow', 'node_5_demand', 'node_9_pressure', 'node_4_demand', 'link_24_flow']]\n",
      "starting df shape: (87600, 41)\n",
      "This is training run 4 and has the shape:  (87600, 41)\n",
      "The value of dropped columns is 55\n"
     ]
    },
    {
     "name": "stderr",
     "output_type": "stream",
     "text": [
      "/Users/alexellard/opt/anaconda3/lib/python3.7/site-packages/xgboost/data.py:96: UserWarning: Use subset (sliced data) of np.ndarray is not recommended because it will generate extra copies and increase memory consumption\n",
      "  \"because it will generate extra copies and increase \" +\n"
     ]
    },
    {
     "name": "stdout",
     "output_type": "stream",
     "text": [
      "test y shape : (17520, 1)\n",
      "Inv y shape : (17520, 41)\n",
      "y pred shape : (17520, 1)\n",
      "inv y pred : (17520, 41)\n",
      "Run 4 Mean Absolute Error: 0.5609185288419779\n",
      "RMSE: 0.787\n",
      "R^2: 1.000\n",
      "[['node_7_pressure', 'link_22_flow', 'node_2_demand', 'node_22_pressure', 'node_6_demand', 'node_3_demand', 'node_29_demand', 'node_30_demand', 'link_32_flow', 'node_10_pressure', 'node_30_pressure', 'link_18_flow', 'link_13_flow', 'link_3_flow', 'node_28_demand', 'node_26_pressure', 'node_5_demand', 'link_5_flow', 'link_21_flow', 'link_31_flow', 'node_4_demand', 'node_24_pressure', 'link_29_flow', 'node_17_pressure', 'node_31_demand', 'link_20_flow', 'node_13_pressure', 'node_18_demand', 'link_27_flow', 'node_7_demand', 'node_27_demand', 'link_9_flow', 'link_12_flow', 'node_15_demand', 'node_27_pressure', 'node_26_demand', 'node_12_pressure', 'node_16_demand', 'node_23_demand', 'node_13_demand', 'node_19_pressure', 'link_2_flow', 'node_11_pressure', 'node_23_pressure', 'node_11_demand', 'node_10_demand', 'node_3_pressure', 'link_8_flow', 'node_20_demand', 'node_17_demand', 'link_24_flow', 'node_31_pressure', 'node_29_pressure', 'node_22_demand', 'link_28_flow']]\n",
      "starting df shape: (87600, 41)\n",
      "This is training run 5 and has the shape:  (87600, 41)\n",
      "The value of dropped columns is 55\n"
     ]
    },
    {
     "name": "stderr",
     "output_type": "stream",
     "text": [
      "/Users/alexellard/opt/anaconda3/lib/python3.7/site-packages/xgboost/data.py:96: UserWarning: Use subset (sliced data) of np.ndarray is not recommended because it will generate extra copies and increase memory consumption\n",
      "  \"because it will generate extra copies and increase \" +\n"
     ]
    },
    {
     "name": "stdout",
     "output_type": "stream",
     "text": [
      "test y shape : (17520, 1)\n",
      "Inv y shape : (17520, 41)\n",
      "y pred shape : (17520, 1)\n",
      "inv y pred : (17520, 41)\n",
      "Run 5 Mean Absolute Error: 8.369717274723273\n",
      "RMSE: 11.810\n",
      "R^2: 1.000\n",
      "[['node_21_pressure', 'node_20_pressure', 'node_25_demand', 'node_12_pressure', 'link_7_flow', 'node_5_demand', 'node_14_pressure', 'node_24_pressure', 'node_16_demand', 'node_24_demand', 'link_3_flow', 'node_31_demand', 'node_3_pressure', 'node_17_pressure', 'link_27_flow', 'link_14_flow', 'node_28_demand', 'link_15_flow', 'node_20_demand', 'node_13_pressure', 'link_17_flow', 'link_13_flow', 'node_30_pressure', 'node_14_demand', 'node_7_pressure', 'link_20_flow', 'link_10_flow', 'node_9_pressure', 'node_15_demand', 'node_26_pressure', 'link_21_flow', 'node_4_demand', 'reservoir_pressure', 'node_3_demand', 'node_4_pressure', 'node_27_demand', 'node_1_demand', 'node_19_pressure', 'node_8_pressure', 'link_25_flow', 'node_2_pressure', 'node_7_demand', 'node_25_pressure', 'link_9_flow', 'node_21_demand', 'node_18_demand', 'link_28_flow', 'node_10_demand', 'node_18_pressure', 'link_16_flow', 'node_28_pressure', 'link_19_flow', 'node_15_pressure', 'link_31_flow']]\n",
      "starting df shape: (87600, 42)\n",
      "This is training run 6 and has the shape:  (87600, 42)\n",
      "The value of dropped columns is 55\n"
     ]
    },
    {
     "name": "stderr",
     "output_type": "stream",
     "text": [
      "/Users/alexellard/opt/anaconda3/lib/python3.7/site-packages/xgboost/data.py:96: UserWarning: Use subset (sliced data) of np.ndarray is not recommended because it will generate extra copies and increase memory consumption\n",
      "  \"because it will generate extra copies and increase \" +\n"
     ]
    },
    {
     "name": "stdout",
     "output_type": "stream",
     "text": [
      "test y shape : (17520, 1)\n",
      "Inv y shape : (17520, 42)\n",
      "y pred shape : (17520, 1)\n",
      "inv y pred : (17520, 42)\n",
      "Run 6 Mean Absolute Error: 14.691053173406788\n",
      "RMSE: 20.949\n",
      "R^2: 1.000\n",
      "[['node_13_demand', 'node_20_pressure', 'node_29_pressure', 'link_28_flow', 'node_15_pressure', 'node_16_demand', 'link_3_flow', 'node_5_demand', 'link_29_flow', 'node_4_demand', 'node_30_pressure', 'node_11_demand', 'node_31_demand', 'link_25_flow', 'node_3_demand', 'node_18_pressure', 'link_12_flow', 'node_8_pressure', 'link_15_flow', 'node_7_pressure', 'node_18_demand', 'node_27_pressure', 'node_3_pressure', 'node_19_demand', 'node_14_pressure', 'node_10_demand', 'link_19_flow', 'node_12_pressure', 'node_12_demand', 'node_23_pressure', 'link_23_flow', 'link_1_flow', 'link_26_flow', 'link_30_flow', 'link_22_flow', 'link_8_flow', 'node_10_pressure', 'node_25_demand', 'link_6_flow', 'node_25_pressure', 'node_28_pressure', 'node_19_pressure', 'node_28_demand', 'node_2_pressure', 'node_23_demand', 'link_24_flow', 'node_22_pressure', 'node_24_pressure', 'reservoir_pressure', 'node_13_pressure', 'link_11_flow', 'node_7_demand', 'node_27_demand', 'node_30_demand']]\n",
      "starting df shape: (87600, 42)\n",
      "This is training run 7 and has the shape:  (87600, 42)\n",
      "The value of dropped columns is 55\n"
     ]
    },
    {
     "name": "stderr",
     "output_type": "stream",
     "text": [
      "/Users/alexellard/opt/anaconda3/lib/python3.7/site-packages/xgboost/data.py:96: UserWarning: Use subset (sliced data) of np.ndarray is not recommended because it will generate extra copies and increase memory consumption\n",
      "  \"because it will generate extra copies and increase \" +\n"
     ]
    },
    {
     "name": "stdout",
     "output_type": "stream",
     "text": [
      "test y shape : (17520, 1)\n",
      "Inv y shape : (17520, 42)\n",
      "y pred shape : (17520, 1)\n",
      "inv y pred : (17520, 42)\n",
      "Run 7 Mean Absolute Error: 11.106487452540714\n",
      "RMSE: 16.024\n",
      "R^2: 1.000\n",
      "[['node_8_pressure', 'node_12_demand', 'link_23_flow', 'node_11_pressure', 'node_31_demand', 'link_25_flow', 'link_10_flow', 'node_11_demand', 'link_24_flow', 'node_29_pressure', 'node_5_demand', 'node_10_pressure', 'node_27_pressure', 'node_3_demand', 'node_17_pressure', 'link_30_flow', 'node_23_demand', 'node_23_pressure', 'node_31_pressure', 'link_27_flow', 'node_17_demand', 'node_13_pressure', 'node_14_pressure', 'node_9_pressure', 'link_1_flow', 'link_8_flow', 'link_16_flow', 'node_20_pressure', 'node_30_pressure', 'node_22_demand', 'link_14_flow', 'node_19_pressure', 'node_13_demand', 'node_2_demand', 'node_15_demand', 'node_18_pressure', 'node_9_demand', 'link_15_flow', 'link_13_flow', 'node_25_pressure', 'node_21_pressure', 'node_26_pressure', 'node_2_pressure', 'link_26_flow', 'reservoir_demand', 'node_15_pressure', 'node_12_pressure', 'node_19_demand', 'link_22_flow', 'link_7_flow', 'node_7_pressure', 'node_16_demand', 'link_4_flow', 'node_10_demand']]\n",
      "starting df shape: (87600, 42)\n",
      "This is training run 8 and has the shape:  (87600, 42)\n",
      "The value of dropped columns is 55\n"
     ]
    },
    {
     "name": "stderr",
     "output_type": "stream",
     "text": [
      "/Users/alexellard/opt/anaconda3/lib/python3.7/site-packages/xgboost/data.py:96: UserWarning: Use subset (sliced data) of np.ndarray is not recommended because it will generate extra copies and increase memory consumption\n",
      "  \"because it will generate extra copies and increase \" +\n"
     ]
    },
    {
     "name": "stdout",
     "output_type": "stream",
     "text": [
      "test y shape : (17520, 1)\n",
      "Inv y shape : (17520, 42)\n",
      "y pred shape : (17520, 1)\n",
      "inv y pred : (17520, 42)\n",
      "Run 8 Mean Absolute Error: 0.8862958165457682\n",
      "RMSE: 1.313\n",
      "R^2: 1.000\n",
      "[['node_16_demand', 'node_29_pressure', 'link_27_flow', 'reservoir_demand', 'node_4_demand', 'link_9_flow', 'reservoir_pressure', 'node_25_demand', 'link_6_flow', 'node_30_demand', 'node_17_demand', 'node_23_demand', 'node_14_demand', 'node_8_demand', 'node_28_pressure', 'node_25_pressure', 'link_2_flow', 'link_11_flow', 'link_31_flow', 'node_29_demand', 'node_3_pressure', 'node_7_demand', 'link_8_flow', 'node_5_pressure', 'link_17_flow', 'node_21_demand', 'node_13_demand', 'link_25_flow', 'node_8_pressure', 'node_12_demand', 'node_13_pressure', 'node_12_pressure', 'node_18_pressure', 'node_10_demand', 'node_22_pressure', 'link_32_flow', 'link_28_flow', 'link_23_flow', 'node_1_pressure', 'link_14_flow', 'node_31_demand', 'node_28_demand', 'node_15_demand', 'node_24_demand', 'node_19_demand', 'node_22_demand', 'node_24_pressure', 'node_20_demand', 'node_2_pressure', 'link_10_flow', 'node_23_pressure', 'link_24_flow', 'link_30_flow', 'link_21_flow', 'node_10_pressure']]\n",
      "starting df shape: (87600, 41)\n",
      "This is training run 9 and has the shape:  (87600, 41)\n",
      "The value of dropped columns is 55\n"
     ]
    },
    {
     "name": "stderr",
     "output_type": "stream",
     "text": [
      "/Users/alexellard/opt/anaconda3/lib/python3.7/site-packages/xgboost/data.py:96: UserWarning: Use subset (sliced data) of np.ndarray is not recommended because it will generate extra copies and increase memory consumption\n",
      "  \"because it will generate extra copies and increase \" +\n"
     ]
    },
    {
     "name": "stdout",
     "output_type": "stream",
     "text": [
      "test y shape : (17520, 1)\n",
      "Inv y shape : (17520, 41)\n",
      "y pred shape : (17520, 1)\n",
      "inv y pred : (17520, 41)\n",
      "Run 9 Mean Absolute Error: 0.4739418052911698\n",
      "RMSE: 0.670\n",
      "R^2: 1.000\n",
      "[['link_30_flow', 'node_29_demand', 'node_3_pressure', 'link_29_flow', 'link_26_flow', 'node_26_pressure', 'node_27_demand', 'link_6_flow', 'node_10_demand', 'node_10_pressure', 'link_1_flow', 'link_15_flow', 'node_5_pressure', 'node_21_pressure', 'node_22_demand', 'node_16_demand', 'node_11_demand', 'link_23_flow', 'node_22_pressure', 'node_31_demand', 'link_28_flow', 'link_25_flow', 'link_18_flow', 'node_12_demand', 'link_16_flow', 'link_32_flow', 'node_17_pressure', 'link_3_flow', 'node_19_demand', 'node_27_pressure', 'node_4_demand', 'node_14_pressure', 'link_10_flow', 'node_25_pressure', 'link_12_flow', 'node_19_pressure', 'node_29_pressure', 'link_11_flow', 'node_2_pressure', 'node_23_demand', 'link_31_flow', 'node_4_pressure', 'node_11_pressure', 'node_24_pressure', 'node_24_demand', 'link_19_flow', 'link_20_flow', 'node_1_demand', 'link_5_flow', 'node_20_pressure', 'link_13_flow', 'node_13_demand', 'link_24_flow', 'node_21_demand']]\n",
      "starting df shape: (87600, 42)\n",
      "This is training run 10 and has the shape:  (87600, 42)\n",
      "The value of dropped columns is 55\n"
     ]
    },
    {
     "name": "stderr",
     "output_type": "stream",
     "text": [
      "/Users/alexellard/opt/anaconda3/lib/python3.7/site-packages/xgboost/data.py:96: UserWarning: Use subset (sliced data) of np.ndarray is not recommended because it will generate extra copies and increase memory consumption\n",
      "  \"because it will generate extra copies and increase \" +\n"
     ]
    },
    {
     "name": "stdout",
     "output_type": "stream",
     "text": [
      "test y shape : (17520, 1)\n",
      "Inv y shape : (17520, 42)\n",
      "y pred shape : (17520, 1)\n",
      "inv y pred : (17520, 42)\n",
      "Run 10 Mean Absolute Error: 14.093208559022246\n",
      "RMSE: 20.352\n",
      "R^2: 1.000\n",
      "[['node_10_pressure', 'node_27_demand', 'node_23_pressure', 'node_12_pressure', 'node_5_pressure', 'node_4_pressure', 'link_30_flow', 'link_2_flow', 'node_10_demand', 'link_28_flow', 'node_19_pressure', 'node_28_pressure', 'node_4_demand', 'node_11_demand', 'node_16_demand', 'node_21_demand', 'node_29_demand', 'node_7_pressure', 'node_22_pressure', 'node_6_pressure', 'link_25_flow', 'link_26_flow', 'link_23_flow', 'link_19_flow', 'link_18_flow', 'node_26_pressure', 'node_8_demand', 'node_21_pressure', 'node_1_pressure', 'link_22_flow', 'node_13_pressure', 'link_17_flow', 'link_3_flow', 'node_7_demand', 'node_3_pressure', 'link_29_flow', 'link_20_flow', 'node_15_pressure', 'node_23_demand', 'link_31_flow', 'node_25_demand', 'node_17_demand', 'link_9_flow', 'node_18_pressure', 'node_11_pressure', 'link_27_flow', 'link_11_flow', 'node_30_pressure', 'node_9_demand', 'link_1_flow', 'node_13_demand', 'link_21_flow', 'node_28_demand', 'node_9_pressure', 'node_31_pressure', 'link_8_flow', 'node_25_pressure', 'node_24_pressure', 'link_24_flow']]\n",
      "starting df shape: (87600, 37)\n",
      "This is training run 1 and has the shape:  (87600, 37)\n",
      "The value of dropped columns is 60\n"
     ]
    },
    {
     "name": "stderr",
     "output_type": "stream",
     "text": [
      "/Users/alexellard/opt/anaconda3/lib/python3.7/site-packages/xgboost/data.py:96: UserWarning: Use subset (sliced data) of np.ndarray is not recommended because it will generate extra copies and increase memory consumption\n",
      "  \"because it will generate extra copies and increase \" +\n"
     ]
    },
    {
     "name": "stdout",
     "output_type": "stream",
     "text": [
      "test y shape : (17520, 1)\n",
      "Inv y shape : (17520, 37)\n",
      "y pred shape : (17520, 1)\n",
      "inv y pred : (17520, 37)\n",
      "Run 1 Mean Absolute Error: 8.291092062397501\n",
      "RMSE: 11.692\n",
      "R^2: 1.000\n",
      "[['node_27_pressure', 'link_2_flow', 'node_29_demand', 'node_26_pressure', 'node_30_demand', 'reservoir_demand', 'link_28_flow', 'node_20_demand', 'node_11_demand', 'node_21_demand', 'link_19_flow', 'node_8_demand', 'node_17_pressure', 'link_15_flow', 'node_6_demand', 'node_22_pressure', 'node_17_demand', 'node_28_pressure', 'node_24_pressure', 'node_25_pressure', 'reservoir_pressure', 'node_30_pressure', 'link_17_flow', 'node_12_pressure', 'node_4_pressure', 'node_3_demand', 'node_12_demand', 'node_23_pressure', 'node_27_demand', 'node_10_demand', 'node_20_pressure', 'link_13_flow', 'node_1_pressure', 'node_5_demand', 'node_24_demand', 'link_11_flow', 'node_21_pressure', 'node_14_pressure', 'link_8_flow', 'node_7_pressure', 'node_14_demand', 'node_31_pressure', 'link_20_flow', 'node_18_pressure', 'link_10_flow', 'link_18_flow', 'link_16_flow', 'link_4_flow', 'link_1_flow', 'node_15_pressure', 'node_16_demand', 'node_10_pressure', 'node_2_demand', 'node_11_pressure', 'node_9_demand', 'link_6_flow', 'node_28_demand', 'node_4_demand', 'node_13_pressure']]\n",
      "starting df shape: (87600, 37)\n",
      "This is training run 2 and has the shape:  (87600, 37)\n",
      "The value of dropped columns is 60\n"
     ]
    },
    {
     "name": "stderr",
     "output_type": "stream",
     "text": [
      "/Users/alexellard/opt/anaconda3/lib/python3.7/site-packages/xgboost/data.py:96: UserWarning: Use subset (sliced data) of np.ndarray is not recommended because it will generate extra copies and increase memory consumption\n",
      "  \"because it will generate extra copies and increase \" +\n"
     ]
    },
    {
     "name": "stdout",
     "output_type": "stream",
     "text": [
      "test y shape : (17520, 1)\n",
      "Inv y shape : (17520, 37)\n",
      "y pred shape : (17520, 1)\n",
      "inv y pred : (17520, 37)\n",
      "Run 2 Mean Absolute Error: 0.8796674947084904\n",
      "RMSE: 1.221\n",
      "R^2: 1.000\n",
      "[['reservoir_pressure', 'link_27_flow', 'node_31_demand', 'node_29_demand', 'link_24_flow', 'node_4_pressure', 'node_18_pressure', 'link_3_flow', 'link_21_flow', 'node_7_pressure', 'node_13_pressure', 'node_17_pressure', 'node_20_demand', 'node_20_pressure', 'node_22_pressure', 'link_11_flow', 'node_18_demand', 'node_8_demand', 'node_11_pressure', 'link_13_flow', 'node_24_demand', 'link_16_flow', 'node_14_pressure', 'node_7_demand', 'node_6_demand', 'node_23_pressure', 'link_17_flow', 'node_30_demand', 'node_13_demand', 'node_27_pressure', 'node_23_demand', 'node_24_pressure', 'link_1_flow', 'node_4_demand', 'node_15_demand', 'node_3_demand', 'link_14_flow', 'node_1_pressure', 'node_28_pressure', 'node_12_pressure', 'link_20_flow', 'link_19_flow', 'node_26_pressure', 'node_11_demand', 'link_9_flow', 'link_25_flow', 'link_26_flow', 'node_19_pressure', 'node_10_demand', 'node_26_demand', 'link_12_flow', 'node_21_demand', 'node_14_demand', 'node_19_demand', 'link_5_flow', 'node_16_demand', 'node_6_pressure', 'node_9_demand', 'node_25_demand']]\n",
      "starting df shape: (87600, 37)\n",
      "This is training run 3 and has the shape:  (87600, 37)\n",
      "The value of dropped columns is 60\n"
     ]
    },
    {
     "name": "stderr",
     "output_type": "stream",
     "text": [
      "/Users/alexellard/opt/anaconda3/lib/python3.7/site-packages/xgboost/data.py:96: UserWarning: Use subset (sliced data) of np.ndarray is not recommended because it will generate extra copies and increase memory consumption\n",
      "  \"because it will generate extra copies and increase \" +\n"
     ]
    },
    {
     "name": "stdout",
     "output_type": "stream",
     "text": [
      "test y shape : (17520, 1)\n",
      "Inv y shape : (17520, 37)\n",
      "y pred shape : (17520, 1)\n",
      "inv y pred : (17520, 37)\n",
      "Run 3 Mean Absolute Error: 8.92154260771889\n",
      "RMSE: 12.518\n",
      "R^2: 1.000\n",
      "[['link_2_flow', 'node_8_pressure', 'link_16_flow', 'node_20_pressure', 'node_30_pressure', 'node_16_demand', 'link_25_flow', 'link_1_flow', 'node_13_demand', 'reservoir_pressure', 'node_8_demand', 'node_10_pressure', 'link_31_flow', 'link_10_flow', 'link_30_flow', 'node_4_pressure', 'node_22_demand', 'node_12_demand', 'node_29_pressure', 'link_4_flow', 'node_30_demand', 'node_21_demand', 'link_22_flow', 'node_14_demand', 'link_7_flow', 'node_11_pressure', 'link_12_flow', 'node_21_pressure', 'link_8_flow', 'node_1_demand', 'node_2_pressure', 'link_13_flow', 'node_9_demand', 'link_24_flow', 'node_26_pressure', 'node_12_pressure', 'link_11_flow', 'node_18_pressure', 'node_27_pressure', 'link_5_flow', 'node_26_demand', 'node_19_demand', 'node_23_pressure', 'node_24_pressure', 'reservoir_demand', 'node_10_demand', 'node_27_demand', 'node_24_demand', 'node_31_demand', 'node_17_pressure', 'node_22_pressure', 'link_15_flow', 'link_18_flow', 'node_15_pressure', 'node_7_pressure', 'link_23_flow', 'node_5_demand', 'link_32_flow', 'link_14_flow', 'node_20_demand']]\n",
      "starting df shape: (87600, 36)\n",
      "This is training run 4 and has the shape:  (87600, 36)\n",
      "The value of dropped columns is 60\n"
     ]
    },
    {
     "name": "stderr",
     "output_type": "stream",
     "text": [
      "/Users/alexellard/opt/anaconda3/lib/python3.7/site-packages/xgboost/data.py:96: UserWarning: Use subset (sliced data) of np.ndarray is not recommended because it will generate extra copies and increase memory consumption\n",
      "  \"because it will generate extra copies and increase \" +\n"
     ]
    },
    {
     "name": "stdout",
     "output_type": "stream",
     "text": [
      "test y shape : (17520, 1)\n",
      "Inv y shape : (17520, 36)\n",
      "y pred shape : (17520, 1)\n",
      "inv y pred : (17520, 36)\n",
      "Run 4 Mean Absolute Error: 0.7736548041864499\n",
      "RMSE: 1.112\n",
      "R^2: 1.000\n",
      "[['link_30_flow', 'link_21_flow', 'link_29_flow', 'link_26_flow', 'node_6_pressure', 'node_1_demand', 'node_27_demand', 'node_9_pressure', 'node_30_demand', 'node_5_demand', 'node_15_pressure', 'link_10_flow', 'link_31_flow', 'node_23_pressure', 'node_15_demand', 'node_21_demand', 'node_21_pressure', 'link_24_flow', 'node_1_pressure', 'node_26_demand', 'node_7_demand', 'link_16_flow', 'node_4_pressure', 'link_15_flow', 'node_11_demand', 'node_3_pressure', 'node_24_pressure', 'link_7_flow', 'link_28_flow', 'link_2_flow', 'link_9_flow', 'node_28_pressure', 'node_17_demand', 'link_20_flow', 'link_4_flow', 'link_18_flow', 'node_3_demand', 'node_14_pressure', 'reservoir_pressure', 'node_17_pressure', 'node_28_demand', 'link_14_flow', 'link_1_flow', 'node_11_pressure', 'node_29_pressure', 'link_6_flow', 'node_12_pressure', 'link_23_flow', 'node_25_demand', 'node_2_pressure', 'node_6_demand', 'node_7_pressure', 'node_5_pressure', 'node_30_pressure', 'node_14_demand', 'node_31_demand', 'node_19_demand', 'node_23_demand', 'node_27_pressure']]\n",
      "starting df shape: (87600, 37)\n",
      "This is training run 5 and has the shape:  (87600, 37)\n",
      "The value of dropped columns is 60\n"
     ]
    },
    {
     "name": "stderr",
     "output_type": "stream",
     "text": [
      "/Users/alexellard/opt/anaconda3/lib/python3.7/site-packages/xgboost/data.py:96: UserWarning: Use subset (sliced data) of np.ndarray is not recommended because it will generate extra copies and increase memory consumption\n",
      "  \"because it will generate extra copies and increase \" +\n"
     ]
    },
    {
     "name": "stdout",
     "output_type": "stream",
     "text": [
      "test y shape : (17520, 1)\n",
      "Inv y shape : (17520, 37)\n",
      "y pred shape : (17520, 1)\n",
      "inv y pred : (17520, 37)\n",
      "Run 5 Mean Absolute Error: 9.317194831184317\n",
      "RMSE: 12.860\n",
      "R^2: 1.000\n",
      "[['link_5_flow', 'link_25_flow', 'node_23_pressure', 'node_15_demand', 'node_31_demand', 'link_10_flow', 'reservoir_demand', 'node_17_pressure', 'link_32_flow', 'node_4_pressure', 'node_5_demand', 'node_12_pressure', 'node_6_pressure', 'link_12_flow', 'node_25_demand', 'node_2_pressure', 'node_10_demand', 'reservoir_pressure', 'node_19_demand', 'node_1_demand', 'node_21_demand', 'node_26_demand', 'link_16_flow', 'node_4_demand', 'link_2_flow', 'link_19_flow', 'node_5_pressure', 'node_25_pressure', 'node_11_demand', 'node_27_pressure', 'node_6_demand', 'node_13_pressure', 'node_8_pressure', 'link_29_flow', 'node_24_demand', 'link_15_flow', 'node_9_pressure', 'node_20_demand', 'node_22_demand', 'node_24_pressure', 'link_22_flow', 'link_8_flow', 'link_30_flow', 'node_27_demand', 'link_21_flow', 'node_7_demand', 'node_16_demand', 'node_11_pressure', 'node_1_pressure', 'node_3_demand', 'node_30_pressure', 'link_3_flow', 'node_14_pressure', 'link_20_flow', 'node_14_demand', 'link_17_flow', 'node_13_demand', 'link_7_flow', 'node_12_demand', 'link_14_flow']]\n",
      "starting df shape: (87600, 36)\n",
      "This is training run 6 and has the shape:  (87600, 36)\n",
      "The value of dropped columns is 60\n"
     ]
    },
    {
     "name": "stderr",
     "output_type": "stream",
     "text": [
      "/Users/alexellard/opt/anaconda3/lib/python3.7/site-packages/xgboost/data.py:96: UserWarning: Use subset (sliced data) of np.ndarray is not recommended because it will generate extra copies and increase memory consumption\n",
      "  \"because it will generate extra copies and increase \" +\n"
     ]
    },
    {
     "name": "stdout",
     "output_type": "stream",
     "text": [
      "test y shape : (17520, 1)\n",
      "Inv y shape : (17520, 36)\n",
      "y pred shape : (17520, 1)\n",
      "inv y pred : (17520, 36)\n",
      "Run 6 Mean Absolute Error: 0.6894597262122673\n",
      "RMSE: 0.997\n",
      "R^2: 1.000\n",
      "[['link_10_flow', 'node_28_pressure', 'node_23_pressure', 'link_20_flow', 'node_17_demand', 'link_28_flow', 'node_13_demand', 'node_14_demand', 'node_8_demand', 'node_15_demand', 'link_1_flow', 'link_11_flow', 'node_21_pressure', 'node_7_pressure', 'node_2_pressure', 'link_30_flow', 'node_9_pressure', 'node_31_demand', 'link_4_flow', 'link_17_flow', 'link_32_flow', 'node_17_pressure', 'node_31_pressure', 'node_18_demand', 'node_3_demand', 'node_22_demand', 'node_7_demand', 'link_6_flow', 'link_15_flow', 'node_20_demand', 'node_20_pressure', 'node_30_demand', 'node_11_demand', 'link_26_flow', 'node_15_pressure', 'node_4_demand', 'node_12_demand', 'link_19_flow', 'node_23_demand', 'node_19_demand', 'node_10_pressure', 'node_25_demand', 'node_25_pressure', 'node_16_demand', 'node_14_pressure', 'link_2_flow', 'link_23_flow', 'node_30_pressure', 'link_8_flow', 'link_22_flow', 'node_18_pressure', 'node_26_pressure', 'link_24_flow', 'node_10_demand', 'node_13_pressure', 'node_1_demand', 'node_29_demand', 'link_25_flow', 'node_24_demand']]\n",
      "starting df shape: (87600, 37)\n",
      "This is training run 7 and has the shape:  (87600, 37)\n",
      "The value of dropped columns is 60\n"
     ]
    },
    {
     "name": "stderr",
     "output_type": "stream",
     "text": [
      "/Users/alexellard/opt/anaconda3/lib/python3.7/site-packages/xgboost/data.py:96: UserWarning: Use subset (sliced data) of np.ndarray is not recommended because it will generate extra copies and increase memory consumption\n",
      "  \"because it will generate extra copies and increase \" +\n"
     ]
    },
    {
     "name": "stdout",
     "output_type": "stream",
     "text": [
      "test y shape : (17520, 1)\n",
      "Inv y shape : (17520, 37)\n",
      "y pred shape : (17520, 1)\n",
      "inv y pred : (17520, 37)\n",
      "Run 7 Mean Absolute Error: 12.662581436872472\n",
      "RMSE: 17.418\n",
      "R^2: 1.000\n",
      "[['link_20_flow', 'node_22_demand', 'node_4_pressure', 'link_31_flow', 'node_11_demand', 'node_3_demand', 'link_14_flow', 'node_20_demand', 'node_21_pressure', 'node_23_pressure', 'link_24_flow', 'node_13_pressure', 'node_18_pressure', 'node_30_pressure', 'node_17_pressure', 'node_14_pressure', 'link_2_flow', 'node_25_demand', 'node_8_pressure', 'node_7_pressure', 'node_28_pressure', 'node_9_pressure', 'node_20_pressure', 'node_21_demand', 'link_7_flow', 'link_17_flow', 'node_15_demand', 'node_1_pressure', 'link_13_flow', 'node_6_demand', 'node_24_pressure', 'node_11_pressure', 'node_24_demand', 'link_6_flow', 'node_12_demand', 'node_27_demand', 'node_29_demand', 'node_26_demand', 'link_10_flow', 'node_9_demand', 'link_8_flow', 'reservoir_pressure', 'link_16_flow', 'node_19_demand', 'node_2_demand', 'link_23_flow', 'link_5_flow', 'link_30_flow', 'node_2_pressure', 'node_4_demand', 'node_7_demand', 'node_18_demand', 'node_6_pressure', 'node_28_demand', 'node_30_demand', 'node_10_pressure', 'node_26_pressure', 'node_22_pressure', 'node_13_demand']]\n",
      "starting df shape: (87600, 37)\n",
      "This is training run 8 and has the shape:  (87600, 37)\n",
      "The value of dropped columns is 60\n"
     ]
    },
    {
     "name": "stderr",
     "output_type": "stream",
     "text": [
      "/Users/alexellard/opt/anaconda3/lib/python3.7/site-packages/xgboost/data.py:96: UserWarning: Use subset (sliced data) of np.ndarray is not recommended because it will generate extra copies and increase memory consumption\n",
      "  \"because it will generate extra copies and increase \" +\n"
     ]
    },
    {
     "name": "stdout",
     "output_type": "stream",
     "text": [
      "test y shape : (17520, 1)\n",
      "Inv y shape : (17520, 37)\n",
      "y pred shape : (17520, 1)\n",
      "inv y pred : (17520, 37)\n",
      "Run 8 Mean Absolute Error: 8.166541151447339\n",
      "RMSE: 11.316\n",
      "R^2: 1.000\n",
      "[['node_22_pressure', 'link_30_flow', 'reservoir_demand', 'node_4_demand', 'link_10_flow', 'node_8_pressure', 'node_3_pressure', 'node_5_demand', 'link_27_flow', 'node_9_demand', 'node_29_pressure', 'link_28_flow', 'node_22_demand', 'node_16_demand', 'node_1_pressure', 'link_7_flow', 'node_31_demand', 'link_12_flow', 'node_31_pressure', 'link_13_flow', 'node_21_demand', 'node_18_demand', 'link_26_flow', 'node_24_demand', 'node_23_pressure', 'node_29_demand', 'link_32_flow', 'link_6_flow', 'node_23_demand', 'link_5_flow', 'link_14_flow', 'link_11_flow', 'node_1_demand', 'node_13_pressure', 'reservoir_pressure', 'node_11_pressure', 'node_9_pressure', 'node_3_demand', 'link_23_flow', 'node_13_demand', 'link_16_flow', 'node_8_demand', 'node_7_demand', 'node_15_pressure', 'link_1_flow', 'node_10_pressure', 'link_20_flow', 'link_9_flow', 'link_2_flow', 'node_5_pressure', 'node_17_demand', 'node_6_pressure', 'node_28_demand', 'node_26_demand', 'link_25_flow', 'link_19_flow', 'node_27_demand', 'node_12_demand', 'node_28_pressure', 'node_14_pressure']]\n",
      "starting df shape: (87600, 36)\n",
      "This is training run 9 and has the shape:  (87600, 36)\n",
      "The value of dropped columns is 60\n"
     ]
    },
    {
     "name": "stderr",
     "output_type": "stream",
     "text": [
      "/Users/alexellard/opt/anaconda3/lib/python3.7/site-packages/xgboost/data.py:96: UserWarning: Use subset (sliced data) of np.ndarray is not recommended because it will generate extra copies and increase memory consumption\n",
      "  \"because it will generate extra copies and increase \" +\n"
     ]
    },
    {
     "name": "stdout",
     "output_type": "stream",
     "text": [
      "test y shape : (17520, 1)\n",
      "Inv y shape : (17520, 36)\n",
      "y pred shape : (17520, 1)\n",
      "inv y pred : (17520, 36)\n",
      "Run 9 Mean Absolute Error: 0.6899840814567076\n",
      "RMSE: 0.967\n",
      "R^2: 1.000\n",
      "[['node_25_demand', 'link_16_flow', 'reservoir_pressure', 'reservoir_demand', 'node_26_demand', 'link_4_flow', 'link_28_flow', 'link_23_flow', 'node_27_demand', 'link_26_flow', 'node_23_demand', 'link_20_flow', 'node_2_pressure', 'link_27_flow', 'node_12_demand', 'node_18_demand', 'node_20_pressure', 'link_18_flow', 'node_3_demand', 'node_14_pressure', 'node_28_demand', 'link_10_flow', 'node_11_pressure', 'link_32_flow', 'link_1_flow', 'node_11_demand', 'node_29_demand', 'node_21_demand', 'node_18_pressure', 'link_9_flow', 'node_19_pressure', 'node_28_pressure', 'node_30_demand', 'link_22_flow', 'node_13_pressure', 'link_6_flow', 'node_9_demand', 'node_8_pressure', 'link_21_flow', 'node_4_demand', 'node_17_demand', 'node_5_pressure', 'link_24_flow', 'link_7_flow', 'link_19_flow', 'node_25_pressure', 'node_10_demand', 'node_8_demand', 'node_19_demand', 'link_15_flow', 'node_26_pressure', 'node_15_demand', 'link_17_flow', 'link_29_flow', 'node_4_pressure', 'node_22_pressure', 'node_15_pressure', 'node_9_pressure', 'node_16_demand', 'node_31_demand']]\n",
      "starting df shape: (87600, 36)\n",
      "This is training run 10 and has the shape:  (87600, 36)\n",
      "The value of dropped columns is 60\n"
     ]
    },
    {
     "name": "stderr",
     "output_type": "stream",
     "text": [
      "/Users/alexellard/opt/anaconda3/lib/python3.7/site-packages/xgboost/data.py:96: UserWarning: Use subset (sliced data) of np.ndarray is not recommended because it will generate extra copies and increase memory consumption\n",
      "  \"because it will generate extra copies and increase \" +\n"
     ]
    },
    {
     "name": "stdout",
     "output_type": "stream",
     "text": [
      "test y shape : (17520, 1)\n",
      "Inv y shape : (17520, 36)\n",
      "y pred shape : (17520, 1)\n",
      "inv y pred : (17520, 36)\n",
      "Run 10 Mean Absolute Error: 0.8833482597196501\n",
      "RMSE: 1.276\n",
      "R^2: 1.000\n",
      "[['node_9_demand', 'link_11_flow', 'node_2_pressure', 'node_28_pressure', 'node_13_pressure', 'node_12_pressure', 'link_13_flow', 'node_8_pressure', 'node_3_demand', 'node_21_pressure', 'node_25_demand', 'node_27_demand', 'node_19_pressure', 'link_7_flow', 'link_12_flow', 'node_17_pressure', 'node_15_demand', 'link_32_flow', 'node_22_pressure', 'link_9_flow', 'node_14_pressure', 'link_15_flow', 'node_7_demand', 'node_19_demand', 'node_10_pressure', 'node_31_pressure', 'link_21_flow', 'node_30_pressure', 'link_18_flow', 'link_27_flow', 'node_18_pressure', 'link_29_flow', 'node_11_demand', 'link_31_flow', 'node_10_demand', 'node_14_demand', 'node_1_demand', 'node_11_pressure', 'node_17_demand', 'node_20_pressure', 'node_31_demand', 'link_8_flow', 'node_24_pressure', 'link_30_flow', 'node_29_pressure', 'link_25_flow', 'node_9_pressure', 'link_2_flow', 'link_19_flow', 'node_25_pressure', 'node_6_demand', 'link_1_flow', 'node_3_pressure', 'node_16_demand', 'link_28_flow', 'node_23_demand', 'node_12_demand', 'node_30_demand', 'node_28_demand', 'link_24_flow', 'node_1_pressure', 'node_24_demand', 'node_6_pressure', 'node_13_demand']]\n",
      "starting df shape: (87600, 32)\n",
      "This is training run 1 and has the shape:  (87600, 32)\n",
      "The value of dropped columns is 65\n"
     ]
    },
    {
     "name": "stderr",
     "output_type": "stream",
     "text": [
      "/Users/alexellard/opt/anaconda3/lib/python3.7/site-packages/xgboost/data.py:96: UserWarning: Use subset (sliced data) of np.ndarray is not recommended because it will generate extra copies and increase memory consumption\n",
      "  \"because it will generate extra copies and increase \" +\n"
     ]
    },
    {
     "name": "stdout",
     "output_type": "stream",
     "text": [
      "test y shape : (17520, 1)\n",
      "Inv y shape : (17520, 32)\n",
      "y pred shape : (17520, 1)\n",
      "inv y pred : (17520, 32)\n",
      "Run 1 Mean Absolute Error: 10.80872803054967\n",
      "RMSE: 14.966\n",
      "R^2: 1.000\n",
      "[['node_8_demand', 'node_12_demand', 'node_1_demand', 'link_14_flow', 'node_4_demand', 'node_22_demand', 'node_10_pressure', 'link_32_flow', 'node_18_pressure', 'link_5_flow', 'link_19_flow', 'link_3_flow', 'link_17_flow', 'node_3_pressure', 'node_27_demand', 'node_18_demand', 'link_18_flow', 'node_12_pressure', 'node_31_pressure', 'link_7_flow', 'node_17_demand', 'node_28_pressure', 'node_24_pressure', 'node_5_pressure', 'node_7_demand', 'node_19_demand', 'node_20_pressure', 'node_4_pressure', 'node_14_pressure', 'node_6_pressure', 'link_27_flow', 'link_13_flow', 'node_28_demand', 'node_19_pressure', 'node_21_pressure', 'node_11_pressure', 'node_13_demand', 'link_11_flow', 'link_20_flow', 'node_13_pressure', 'link_8_flow', 'node_22_pressure', 'node_15_pressure', 'node_2_demand', 'node_1_pressure', 'link_23_flow', 'node_25_demand', 'link_6_flow', 'link_26_flow', 'node_5_demand', 'node_23_pressure', 'link_4_flow', 'node_15_demand', 'node_31_demand', 'node_20_demand', 'reservoir_demand', 'node_26_demand', 'link_22_flow', 'link_2_flow', 'link_28_flow', 'node_26_pressure', 'link_12_flow', 'link_15_flow', 'node_16_demand', 'node_17_pressure']]\n",
      "starting df shape: (87600, 31)\n",
      "This is training run 2 and has the shape:  (87600, 31)\n",
      "The value of dropped columns is 65\n"
     ]
    },
    {
     "name": "stderr",
     "output_type": "stream",
     "text": [
      "/Users/alexellard/opt/anaconda3/lib/python3.7/site-packages/xgboost/data.py:96: UserWarning: Use subset (sliced data) of np.ndarray is not recommended because it will generate extra copies and increase memory consumption\n",
      "  \"because it will generate extra copies and increase \" +\n"
     ]
    },
    {
     "name": "stdout",
     "output_type": "stream",
     "text": [
      "test y shape : (17520, 1)\n",
      "Inv y shape : (17520, 31)\n",
      "y pred shape : (17520, 1)\n",
      "inv y pred : (17520, 31)\n",
      "Run 2 Mean Absolute Error: 0.13256983905596553\n",
      "RMSE: 0.182\n",
      "R^2: 1.000\n",
      "[['node_5_pressure', 'node_7_pressure', 'node_29_demand', 'reservoir_demand', 'node_24_demand', 'node_22_pressure', 'link_28_flow', 'node_23_demand', 'node_2_pressure', 'link_17_flow', 'link_9_flow', 'node_3_demand', 'link_32_flow', 'node_13_demand', 'node_4_demand', 'link_3_flow', 'node_18_demand', 'node_8_demand', 'node_26_pressure', 'node_30_demand', 'node_11_pressure', 'node_3_pressure', 'link_8_flow', 'node_8_pressure', 'node_22_demand', 'node_17_demand', 'link_31_flow', 'node_14_pressure', 'node_23_pressure', 'link_30_flow', 'node_15_pressure', 'node_1_pressure', 'link_27_flow', 'link_29_flow', 'node_4_pressure', 'link_25_flow', 'node_25_pressure', 'node_10_demand', 'link_12_flow', 'link_22_flow', 'link_20_flow', 'node_28_demand', 'node_20_demand', 'node_2_demand', 'link_23_flow', 'link_11_flow', 'link_1_flow', 'link_14_flow', 'node_31_demand', 'link_6_flow', 'node_20_pressure', 'node_15_demand', 'link_5_flow', 'node_19_pressure', 'node_26_demand', 'node_5_demand', 'node_17_pressure', 'node_9_demand', 'node_19_demand', 'node_6_pressure', 'link_21_flow', 'node_1_demand', 'node_25_demand', 'link_26_flow']]\n",
      "starting df shape: (87600, 32)\n",
      "This is training run 3 and has the shape:  (87600, 32)\n",
      "The value of dropped columns is 65\n"
     ]
    },
    {
     "name": "stderr",
     "output_type": "stream",
     "text": [
      "/Users/alexellard/opt/anaconda3/lib/python3.7/site-packages/xgboost/data.py:96: UserWarning: Use subset (sliced data) of np.ndarray is not recommended because it will generate extra copies and increase memory consumption\n",
      "  \"because it will generate extra copies and increase \" +\n"
     ]
    },
    {
     "name": "stdout",
     "output_type": "stream",
     "text": [
      "test y shape : (17520, 1)\n",
      "Inv y shape : (17520, 32)\n",
      "y pred shape : (17520, 1)\n",
      "inv y pred : (17520, 32)\n",
      "Run 3 Mean Absolute Error: 0.8181101263810404\n",
      "RMSE: 1.120\n",
      "R^2: 1.000\n",
      "[['node_22_demand', 'link_13_flow', 'link_11_flow', 'node_28_demand', 'node_27_demand', 'link_17_flow', 'node_18_pressure', 'link_28_flow', 'node_23_demand', 'node_29_pressure', 'node_8_pressure', 'node_30_demand', 'node_10_demand', 'link_7_flow', 'link_19_flow', 'node_25_pressure', 'link_8_flow', 'link_31_flow', 'node_19_pressure', 'reservoir_pressure', 'link_1_flow', 'node_31_pressure', 'node_1_pressure', 'link_23_flow', 'link_32_flow', 'node_30_pressure', 'node_28_pressure', 'node_18_demand', 'link_3_flow', 'link_5_flow', 'link_10_flow', 'node_24_pressure', 'link_24_flow', 'node_22_pressure', 'node_3_demand', 'node_10_pressure', 'node_24_demand', 'node_21_pressure', 'node_6_demand', 'node_9_pressure', 'link_14_flow', 'node_14_pressure', 'link_4_flow', 'node_17_demand', 'node_5_demand', 'link_18_flow', 'node_6_pressure', 'node_7_pressure', 'node_31_demand', 'link_27_flow', 'node_25_demand', 'node_4_demand', 'node_20_demand', 'node_8_demand', 'node_2_pressure', 'link_12_flow', 'node_29_demand', 'node_5_pressure', 'node_27_pressure', 'node_21_demand', 'link_30_flow', 'link_25_flow', 'node_13_demand', 'node_12_demand']]\n",
      "starting df shape: (87600, 32)\n",
      "This is training run 4 and has the shape:  (87600, 32)\n",
      "The value of dropped columns is 65\n"
     ]
    },
    {
     "name": "stderr",
     "output_type": "stream",
     "text": [
      "/Users/alexellard/opt/anaconda3/lib/python3.7/site-packages/xgboost/data.py:96: UserWarning: Use subset (sliced data) of np.ndarray is not recommended because it will generate extra copies and increase memory consumption\n",
      "  \"because it will generate extra copies and increase \" +\n"
     ]
    },
    {
     "name": "stdout",
     "output_type": "stream",
     "text": [
      "test y shape : (17520, 1)\n",
      "Inv y shape : (17520, 32)\n",
      "y pred shape : (17520, 1)\n",
      "inv y pred : (17520, 32)\n",
      "Run 4 Mean Absolute Error: 8.940528290913877\n",
      "RMSE: 12.755\n",
      "R^2: 1.000\n",
      "[['node_30_pressure', 'reservoir_pressure', 'node_3_pressure', 'node_22_demand', 'node_28_pressure', 'link_29_flow', 'node_8_demand', 'node_13_demand', 'link_23_flow', 'node_20_demand', 'node_30_demand', 'node_26_demand', 'node_31_pressure', 'node_19_demand', 'node_5_pressure', 'node_2_pressure', 'node_26_pressure', 'link_18_flow', 'node_1_pressure', 'node_22_pressure', 'link_9_flow', 'node_21_demand', 'node_27_demand', 'node_7_demand', 'link_16_flow', 'node_16_demand', 'node_4_pressure', 'link_2_flow', 'node_2_demand', 'link_5_flow', 'link_14_flow', 'link_8_flow', 'node_14_demand', 'node_29_demand', 'link_12_flow', 'node_1_demand', 'node_15_pressure', 'node_27_pressure', 'node_4_demand', 'link_28_flow', 'reservoir_demand', 'link_3_flow', 'node_21_pressure', 'node_3_demand', 'node_11_demand', 'node_28_demand', 'node_8_pressure', 'link_17_flow', 'node_18_pressure', 'node_11_pressure', 'node_24_pressure', 'node_13_pressure', 'link_13_flow', 'link_21_flow', 'node_19_pressure', 'link_26_flow', 'node_20_pressure', 'node_9_pressure', 'node_12_pressure', 'link_1_flow', 'node_29_pressure', 'link_24_flow', 'link_6_flow', 'link_11_flow', 'node_5_demand']]\n",
      "starting df shape: (87600, 31)\n",
      "This is training run 5 and has the shape:  (87600, 31)\n",
      "The value of dropped columns is 65\n"
     ]
    },
    {
     "name": "stderr",
     "output_type": "stream",
     "text": [
      "/Users/alexellard/opt/anaconda3/lib/python3.7/site-packages/xgboost/data.py:96: UserWarning: Use subset (sliced data) of np.ndarray is not recommended because it will generate extra copies and increase memory consumption\n",
      "  \"because it will generate extra copies and increase \" +\n"
     ]
    },
    {
     "name": "stdout",
     "output_type": "stream",
     "text": [
      "test y shape : (17520, 1)\n",
      "Inv y shape : (17520, 31)\n",
      "y pred shape : (17520, 1)\n",
      "inv y pred : (17520, 31)\n",
      "Run 5 Mean Absolute Error: 0.8436644513109633\n",
      "RMSE: 1.174\n",
      "R^2: 1.000\n",
      "[['link_6_flow', 'node_7_pressure', 'node_12_demand', 'node_24_pressure', 'link_7_flow', 'node_2_pressure', 'node_26_pressure', 'link_23_flow', 'node_14_demand', 'link_21_flow', 'node_29_demand', 'node_6_demand', 'link_12_flow', 'link_31_flow', 'node_11_demand', 'node_19_pressure', 'node_22_demand', 'node_5_demand', 'node_27_demand', 'link_5_flow', 'node_15_demand', 'node_9_demand', 'node_10_pressure', 'node_20_pressure', 'node_12_pressure', 'node_5_pressure', 'link_13_flow', 'node_28_pressure', 'link_22_flow', 'node_8_demand', 'link_19_flow', 'node_28_demand', 'node_4_pressure', 'node_15_pressure', 'node_23_demand', 'node_25_demand', 'node_30_demand', 'node_19_demand', 'link_10_flow', 'reservoir_pressure', 'link_27_flow', 'link_26_flow', 'link_11_flow', 'link_29_flow', 'link_4_flow', 'link_16_flow', 'node_13_pressure', 'link_32_flow', 'node_24_demand', 'node_9_pressure', 'node_18_demand', 'node_3_demand', 'node_26_demand', 'link_17_flow', 'node_29_pressure', 'node_20_demand', 'node_4_demand', 'node_7_demand', 'node_13_demand', 'node_30_pressure', 'node_21_demand', 'link_25_flow', 'node_2_demand', 'link_15_flow']]\n",
      "starting df shape: (87600, 32)\n",
      "This is training run 6 and has the shape:  (87600, 32)\n",
      "The value of dropped columns is 65\n"
     ]
    },
    {
     "name": "stderr",
     "output_type": "stream",
     "text": [
      "/Users/alexellard/opt/anaconda3/lib/python3.7/site-packages/xgboost/data.py:96: UserWarning: Use subset (sliced data) of np.ndarray is not recommended because it will generate extra copies and increase memory consumption\n",
      "  \"because it will generate extra copies and increase \" +\n"
     ]
    },
    {
     "name": "stdout",
     "output_type": "stream",
     "text": [
      "test y shape : (17520, 1)\n",
      "Inv y shape : (17520, 32)\n",
      "y pred shape : (17520, 1)\n",
      "inv y pred : (17520, 32)\n",
      "Run 6 Mean Absolute Error: 8.066497359119465\n",
      "RMSE: 11.425\n",
      "R^2: 1.000\n",
      "[['node_8_pressure', 'node_9_pressure', 'node_5_demand', 'node_25_pressure', 'node_10_demand', 'link_15_flow', 'node_11_demand', 'node_30_demand', 'node_2_demand', 'link_20_flow', 'link_6_flow', 'node_28_pressure', 'node_12_pressure', 'node_13_demand', 'node_27_demand', 'node_22_demand', 'link_26_flow', 'link_14_flow', 'node_20_pressure', 'link_27_flow', 'node_27_pressure', 'node_21_pressure', 'node_7_demand', 'node_13_pressure', 'node_23_pressure', 'node_21_demand', 'link_17_flow', 'node_31_pressure', 'link_13_flow', 'reservoir_pressure', 'node_25_demand', 'node_6_pressure', 'node_29_demand', 'node_6_demand', 'node_5_pressure', 'link_5_flow', 'link_16_flow', 'node_9_demand', 'node_12_demand', 'node_14_demand', 'node_26_pressure', 'link_9_flow', 'node_8_demand', 'link_18_flow', 'node_19_demand', 'link_12_flow', 'node_4_pressure', 'node_24_pressure', 'node_15_demand', 'link_31_flow', 'link_7_flow', 'node_1_pressure', 'link_32_flow', 'node_29_pressure', 'node_19_pressure', 'node_18_pressure', 'node_23_demand', 'link_21_flow', 'link_2_flow', 'node_26_demand', 'node_16_demand', 'node_20_demand', 'link_25_flow', 'node_2_pressure', 'link_8_flow']]\n",
      "starting df shape: (87600, 31)\n",
      "This is training run 7 and has the shape:  (87600, 31)\n",
      "The value of dropped columns is 65\n"
     ]
    },
    {
     "name": "stderr",
     "output_type": "stream",
     "text": [
      "/Users/alexellard/opt/anaconda3/lib/python3.7/site-packages/xgboost/data.py:96: UserWarning: Use subset (sliced data) of np.ndarray is not recommended because it will generate extra copies and increase memory consumption\n",
      "  \"because it will generate extra copies and increase \" +\n"
     ]
    },
    {
     "name": "stdout",
     "output_type": "stream",
     "text": [
      "test y shape : (17520, 1)\n",
      "Inv y shape : (17520, 31)\n",
      "y pred shape : (17520, 1)\n",
      "inv y pred : (17520, 31)\n",
      "Run 7 Mean Absolute Error: 13.890549714804116\n",
      "RMSE: 20.782\n",
      "R^2: 1.000\n",
      "[['link_8_flow', 'node_18_pressure', 'link_27_flow', 'node_5_pressure', 'link_6_flow', 'link_3_flow', 'link_5_flow', 'link_18_flow', 'node_27_pressure', 'link_14_flow', 'node_27_demand', 'node_28_demand', 'link_1_flow', 'node_28_pressure', 'node_31_demand', 'node_6_pressure', 'node_5_demand', 'node_14_pressure', 'link_31_flow', 'node_31_pressure', 'node_12_pressure', 'node_20_demand', 'node_17_demand', 'link_13_flow', 'node_23_demand', 'node_23_pressure', 'node_21_pressure', 'node_19_demand', 'node_26_demand', 'link_17_flow', 'node_14_demand', 'node_15_pressure', 'link_12_flow', 'link_19_flow', 'node_17_pressure', 'node_22_demand', 'link_22_flow', 'link_29_flow', 'node_11_pressure', 'link_28_flow', 'node_26_pressure', 'node_4_pressure', 'node_1_pressure', 'node_15_demand', 'node_25_pressure', 'link_26_flow', 'node_22_pressure', 'reservoir_pressure', 'node_10_demand', 'node_30_pressure', 'node_13_demand', 'node_4_demand', 'node_3_pressure', 'reservoir_demand', 'node_24_pressure', 'link_15_flow', 'node_13_pressure', 'link_25_flow', 'node_8_pressure', 'node_7_demand', 'node_9_demand', 'link_11_flow', 'node_18_demand', 'node_16_demand']]\n",
      "starting df shape: (87600, 32)\n",
      "This is training run 8 and has the shape:  (87600, 32)\n",
      "The value of dropped columns is 65\n"
     ]
    },
    {
     "name": "stderr",
     "output_type": "stream",
     "text": [
      "/Users/alexellard/opt/anaconda3/lib/python3.7/site-packages/xgboost/data.py:96: UserWarning: Use subset (sliced data) of np.ndarray is not recommended because it will generate extra copies and increase memory consumption\n",
      "  \"because it will generate extra copies and increase \" +\n"
     ]
    },
    {
     "name": "stdout",
     "output_type": "stream",
     "text": [
      "test y shape : (17520, 1)\n",
      "Inv y shape : (17520, 32)\n",
      "y pred shape : (17520, 1)\n",
      "inv y pred : (17520, 32)\n",
      "Run 8 Mean Absolute Error: 0.972060561305375\n",
      "RMSE: 1.356\n",
      "R^2: 1.000\n",
      "[['node_23_demand', 'link_15_flow', 'node_1_pressure', 'node_28_pressure', 'node_26_demand', 'link_26_flow', 'node_10_demand', 'node_3_pressure', 'link_16_flow', 'node_7_pressure', 'node_6_demand', 'node_13_demand', 'node_9_pressure', 'node_7_demand', 'link_28_flow', 'node_25_demand', 'reservoir_pressure', 'node_18_pressure', 'node_5_pressure', 'node_18_demand', 'node_24_demand', 'node_8_demand', 'link_11_flow', 'node_21_demand', 'node_14_pressure', 'link_5_flow', 'node_23_pressure', 'link_8_flow', 'node_11_pressure', 'node_4_demand', 'node_21_pressure', 'link_19_flow', 'node_15_pressure', 'node_31_demand', 'link_6_flow', 'link_20_flow', 'link_10_flow', 'node_12_pressure', 'link_23_flow', 'link_4_flow', 'node_19_pressure', 'link_1_flow', 'link_32_flow', 'node_13_pressure', 'link_24_flow', 'node_20_pressure', 'link_31_flow', 'link_29_flow', 'node_29_demand', 'node_20_demand', 'node_24_pressure', 'node_2_pressure', 'node_1_demand', 'node_16_demand', 'link_12_flow', 'link_27_flow', 'node_5_demand', 'node_25_pressure', 'link_14_flow', 'node_27_pressure', 'node_4_pressure', 'node_9_demand', 'node_10_pressure', 'node_30_pressure', 'node_30_demand']]\n",
      "starting df shape: (87600, 31)\n",
      "This is training run 9 and has the shape:  (87600, 31)\n",
      "The value of dropped columns is 65\n"
     ]
    },
    {
     "name": "stderr",
     "output_type": "stream",
     "text": [
      "/Users/alexellard/opt/anaconda3/lib/python3.7/site-packages/xgboost/data.py:96: UserWarning: Use subset (sliced data) of np.ndarray is not recommended because it will generate extra copies and increase memory consumption\n",
      "  \"because it will generate extra copies and increase \" +\n"
     ]
    },
    {
     "name": "stdout",
     "output_type": "stream",
     "text": [
      "test y shape : (17520, 1)\n",
      "Inv y shape : (17520, 31)\n",
      "y pred shape : (17520, 1)\n",
      "inv y pred : (17520, 31)\n",
      "Run 9 Mean Absolute Error: 12.869922523585448\n",
      "RMSE: 18.817\n",
      "R^2: 1.000\n",
      "[['node_17_demand', 'link_5_flow', 'node_12_pressure', 'node_23_demand', 'link_25_flow', 'node_7_pressure', 'link_6_flow', 'link_14_flow', 'node_10_demand', 'node_28_demand', 'node_17_pressure', 'node_26_demand', 'node_27_demand', 'node_18_demand', 'link_24_flow', 'node_5_pressure', 'node_3_pressure', 'node_31_pressure', 'node_3_demand', 'node_15_demand', 'link_17_flow', 'node_29_demand', 'node_27_pressure', 'link_7_flow', 'node_21_pressure', 'reservoir_demand', 'link_15_flow', 'node_25_pressure', 'link_4_flow', 'node_24_pressure', 'link_12_flow', 'link_18_flow', 'node_30_pressure', 'link_3_flow', 'node_1_pressure', 'node_2_demand', 'link_13_flow', 'link_28_flow', 'node_8_demand', 'link_21_flow', 'node_26_pressure', 'link_19_flow', 'node_1_demand', 'link_1_flow', 'node_19_pressure', 'node_22_pressure', 'node_6_demand', 'node_5_demand', 'node_7_demand', 'node_12_demand', 'node_23_pressure', 'link_9_flow', 'node_18_pressure', 'link_31_flow', 'node_2_pressure', 'node_13_pressure', 'link_29_flow', 'link_2_flow', 'link_16_flow', 'node_15_pressure', 'node_9_pressure', 'node_13_demand', 'node_6_pressure', 'link_30_flow']]\n",
      "starting df shape: (87600, 32)\n",
      "This is training run 10 and has the shape:  (87600, 32)\n",
      "The value of dropped columns is 65\n"
     ]
    },
    {
     "name": "stderr",
     "output_type": "stream",
     "text": [
      "/Users/alexellard/opt/anaconda3/lib/python3.7/site-packages/xgboost/data.py:96: UserWarning: Use subset (sliced data) of np.ndarray is not recommended because it will generate extra copies and increase memory consumption\n",
      "  \"because it will generate extra copies and increase \" +\n"
     ]
    },
    {
     "name": "stdout",
     "output_type": "stream",
     "text": [
      "test y shape : (17520, 1)\n",
      "Inv y shape : (17520, 32)\n",
      "y pred shape : (17520, 1)\n",
      "inv y pred : (17520, 32)\n",
      "Run 10 Mean Absolute Error: 0.5230247196584293\n",
      "RMSE: 0.724\n",
      "R^2: 1.000\n",
      "[['node_10_pressure', 'link_27_flow', 'link_29_flow', 'node_26_pressure', 'node_10_demand', 'node_29_pressure', 'link_6_flow', 'link_5_flow', 'node_24_pressure', 'link_25_flow', 'link_16_flow', 'link_13_flow', 'node_6_demand', 'link_7_flow', 'link_2_flow', 'link_9_flow', 'link_8_flow', 'node_3_demand', 'node_30_pressure', 'node_5_pressure', 'link_30_flow', 'link_20_flow', 'node_19_pressure', 'node_11_pressure', 'link_31_flow', 'node_17_demand', 'node_2_demand', 'node_20_demand', 'link_3_flow', 'node_14_pressure', 'node_6_pressure', 'node_20_pressure', 'node_23_pressure', 'reservoir_demand', 'node_7_pressure', 'link_18_flow', 'node_31_demand', 'link_15_flow', 'node_28_demand', 'node_18_pressure', 'link_24_flow', 'link_12_flow', 'link_19_flow', 'node_7_demand', 'node_25_pressure', 'link_14_flow', 'node_5_demand', 'node_21_pressure', 'node_1_demand', 'node_22_pressure', 'link_23_flow', 'node_28_pressure', 'node_31_pressure', 'node_25_demand', 'node_9_demand', 'node_19_demand', 'link_22_flow', 'node_24_demand', 'node_30_demand', 'node_1_pressure', 'node_17_pressure', 'link_17_flow', 'node_9_pressure', 'link_10_flow', 'node_3_pressure', 'node_12_demand', 'node_16_demand', 'node_4_demand', 'link_21_flow', 'link_26_flow']]\n",
      "starting df shape: (87600, 26)\n",
      "This is training run 1 and has the shape:  (87600, 26)\n",
      "The value of dropped columns is 70\n"
     ]
    },
    {
     "name": "stderr",
     "output_type": "stream",
     "text": [
      "/Users/alexellard/opt/anaconda3/lib/python3.7/site-packages/xgboost/data.py:96: UserWarning: Use subset (sliced data) of np.ndarray is not recommended because it will generate extra copies and increase memory consumption\n",
      "  \"because it will generate extra copies and increase \" +\n"
     ]
    },
    {
     "name": "stdout",
     "output_type": "stream",
     "text": [
      "test y shape : (17520, 1)\n",
      "Inv y shape : (17520, 26)\n",
      "y pred shape : (17520, 1)\n",
      "inv y pred : (17520, 26)\n",
      "Run 1 Mean Absolute Error: 0.5178631448436544\n",
      "RMSE: 0.742\n",
      "R^2: 1.000\n",
      "[['node_16_demand', 'node_6_demand', 'node_26_demand', 'link_4_flow', 'node_29_pressure', 'node_24_demand', 'node_25_pressure', 'node_31_demand', 'node_11_pressure', 'link_3_flow', 'node_12_demand', 'node_13_pressure', 'node_19_pressure', 'node_28_demand', 'link_13_flow', 'node_6_pressure', 'link_15_flow', 'node_31_pressure', 'node_30_pressure', 'reservoir_pressure', 'reservoir_demand', 'node_9_pressure', 'link_23_flow', 'node_7_pressure', 'node_15_demand', 'link_1_flow', 'node_20_demand', 'node_3_demand', 'node_24_pressure', 'link_21_flow', 'node_12_pressure', 'node_1_demand', 'node_7_demand', 'node_17_demand', 'node_21_pressure', 'node_10_demand', 'node_4_demand', 'node_22_pressure', 'link_12_flow', 'link_26_flow', 'node_8_pressure', 'link_10_flow', 'link_18_flow', 'link_6_flow', 'link_7_flow', 'node_11_demand', 'node_27_demand', 'node_1_pressure', 'node_9_demand', 'node_27_pressure', 'node_18_pressure', 'node_29_demand', 'node_28_pressure', 'link_5_flow', 'node_25_demand', 'node_30_demand', 'link_19_flow', 'node_8_demand', 'node_5_demand', 'link_31_flow', 'node_20_pressure', 'link_27_flow', 'link_30_flow', 'node_17_pressure', 'node_3_pressure', 'node_14_pressure', 'node_23_demand', 'node_2_demand', 'node_19_demand']]\n",
      "starting df shape: (87600, 27)\n",
      "This is training run 2 and has the shape:  (87600, 27)\n",
      "The value of dropped columns is 70\n"
     ]
    },
    {
     "name": "stderr",
     "output_type": "stream",
     "text": [
      "/Users/alexellard/opt/anaconda3/lib/python3.7/site-packages/xgboost/data.py:96: UserWarning: Use subset (sliced data) of np.ndarray is not recommended because it will generate extra copies and increase memory consumption\n",
      "  \"because it will generate extra copies and increase \" +\n"
     ]
    },
    {
     "name": "stdout",
     "output_type": "stream",
     "text": [
      "test y shape : (17520, 1)\n",
      "Inv y shape : (17520, 27)\n",
      "y pred shape : (17520, 1)\n",
      "inv y pred : (17520, 27)\n",
      "Run 2 Mean Absolute Error: 0.43262644978320935\n",
      "RMSE: 0.602\n",
      "R^2: 1.000\n",
      "[['node_11_pressure', 'node_1_pressure', 'node_10_pressure', 'node_9_pressure', 'link_22_flow', 'node_13_pressure', 'link_21_flow', 'link_24_flow', 'node_4_demand', 'link_18_flow', 'node_13_demand', 'node_15_demand', 'node_3_pressure', 'node_20_pressure', 'node_29_demand', 'node_29_pressure', 'node_8_pressure', 'node_15_pressure', 'node_7_demand', 'node_27_pressure', 'link_15_flow', 'link_26_flow', 'node_28_demand', 'link_30_flow', 'link_1_flow', 'node_3_demand', 'link_29_flow', 'link_4_flow', 'link_32_flow', 'link_16_flow', 'node_18_demand', 'link_25_flow', 'link_9_flow', 'link_8_flow', 'link_23_flow', 'link_14_flow', 'node_25_demand', 'node_30_demand', 'link_11_flow', 'node_6_demand', 'node_26_pressure', 'link_2_flow', 'link_6_flow', 'link_7_flow', 'node_24_pressure', 'node_25_pressure', 'reservoir_pressure', 'node_27_demand', 'link_20_flow', 'node_18_pressure', 'node_19_pressure', 'node_23_pressure', 'node_19_demand', 'node_2_demand', 'link_27_flow', 'node_5_demand', 'node_9_demand', 'link_19_flow', 'node_22_pressure', 'node_24_demand', 'node_6_pressure', 'node_1_demand', 'node_8_demand', 'link_31_flow', 'node_31_pressure', 'node_28_pressure', 'node_5_pressure', 'link_3_flow', 'node_12_pressure']]\n",
      "starting df shape: (87600, 27)\n",
      "This is training run 3 and has the shape:  (87600, 27)\n",
      "The value of dropped columns is 70\n"
     ]
    },
    {
     "name": "stderr",
     "output_type": "stream",
     "text": [
      "/Users/alexellard/opt/anaconda3/lib/python3.7/site-packages/xgboost/data.py:96: UserWarning: Use subset (sliced data) of np.ndarray is not recommended because it will generate extra copies and increase memory consumption\n",
      "  \"because it will generate extra copies and increase \" +\n"
     ]
    },
    {
     "name": "stdout",
     "output_type": "stream",
     "text": [
      "test y shape : (17520, 1)\n",
      "Inv y shape : (17520, 27)\n",
      "y pred shape : (17520, 1)\n",
      "inv y pred : (17520, 27)\n",
      "Run 3 Mean Absolute Error: 8.426986067084604\n",
      "RMSE: 11.794\n",
      "R^2: 1.000\n",
      "[['link_21_flow', 'node_7_demand', 'node_24_demand', 'node_10_demand', 'node_4_pressure', 'node_17_pressure', 'link_14_flow', 'node_14_demand', 'link_3_flow', 'node_22_pressure', 'node_17_demand', 'node_31_demand', 'node_5_demand', 'link_10_flow', 'node_10_pressure', 'link_17_flow', 'node_29_demand', 'link_11_flow', 'node_26_pressure', 'link_5_flow', 'node_19_pressure', 'link_25_flow', 'node_8_demand', 'node_27_demand', 'link_1_flow', 'node_12_demand', 'link_16_flow', 'node_18_pressure', 'node_6_demand', 'node_31_pressure', 'node_23_pressure', 'node_3_demand', 'node_11_pressure', 'node_9_pressure', 'link_27_flow', 'node_20_demand', 'node_21_pressure', 'node_20_pressure', 'reservoir_pressure', 'node_9_demand', 'node_1_pressure', 'link_20_flow', 'link_31_flow', 'node_27_pressure', 'node_30_pressure', 'node_30_demand', 'node_22_demand', 'link_24_flow', 'node_21_demand', 'node_7_pressure', 'link_26_flow', 'node_24_pressure', 'node_26_demand', 'node_15_demand', 'link_15_flow', 'link_22_flow', 'node_6_pressure', 'node_25_demand', 'node_28_pressure', 'node_12_pressure', 'node_13_demand', 'reservoir_demand', 'link_8_flow', 'link_30_flow', 'node_19_demand', 'node_25_pressure', 'link_13_flow', 'node_14_pressure', 'node_4_demand', 'node_8_pressure']]\n",
      "starting df shape: (87600, 26)\n",
      "This is training run 4 and has the shape:  (87600, 26)\n",
      "The value of dropped columns is 70\n"
     ]
    },
    {
     "name": "stderr",
     "output_type": "stream",
     "text": [
      "/Users/alexellard/opt/anaconda3/lib/python3.7/site-packages/xgboost/data.py:96: UserWarning: Use subset (sliced data) of np.ndarray is not recommended because it will generate extra copies and increase memory consumption\n",
      "  \"because it will generate extra copies and increase \" +\n"
     ]
    },
    {
     "name": "stdout",
     "output_type": "stream",
     "text": [
      "test y shape : (17520, 1)\n",
      "Inv y shape : (17520, 26)\n",
      "y pred shape : (17520, 1)\n",
      "inv y pred : (17520, 26)\n",
      "Run 4 Mean Absolute Error: 0.5060054537946337\n",
      "RMSE: 0.696\n",
      "R^2: 1.000\n",
      "[['node_3_pressure', 'node_16_demand', 'link_32_flow', 'node_15_pressure', 'node_29_demand', 'link_13_flow', 'node_20_pressure', 'link_7_flow', 'link_1_flow', 'node_1_demand', 'link_30_flow', 'node_30_pressure', 'node_22_demand', 'link_14_flow', 'node_18_demand', 'node_31_pressure', 'node_5_demand', 'node_14_pressure', 'link_25_flow', 'link_21_flow', 'node_11_demand', 'node_24_pressure', 'node_9_demand', 'node_21_demand', 'link_26_flow', 'node_13_demand', 'node_31_demand', 'node_28_demand', 'node_30_demand', 'link_10_flow', 'node_12_pressure', 'node_7_demand', 'link_28_flow', 'node_25_demand', 'node_9_pressure', 'node_28_pressure', 'node_22_pressure', 'link_20_flow', 'node_12_demand', 'node_27_pressure', 'node_27_demand', 'node_8_demand', 'link_3_flow', 'node_3_demand', 'node_19_pressure', 'link_18_flow', 'link_11_flow', 'node_2_demand', 'node_11_pressure', 'link_12_flow', 'link_22_flow', 'node_7_pressure', 'node_19_demand', 'link_15_flow', 'node_23_pressure', 'link_17_flow', 'node_4_demand', 'node_10_demand', 'node_2_pressure', 'link_27_flow', 'link_19_flow', 'link_31_flow', 'node_25_pressure', 'link_23_flow', 'node_4_pressure', 'node_10_pressure', 'node_26_pressure', 'reservoir_demand', 'node_23_demand', 'link_29_flow']]\n",
      "starting df shape: (87600, 26)\n",
      "This is training run 5 and has the shape:  (87600, 26)\n",
      "The value of dropped columns is 70\n"
     ]
    },
    {
     "name": "stderr",
     "output_type": "stream",
     "text": [
      "/Users/alexellard/opt/anaconda3/lib/python3.7/site-packages/xgboost/data.py:96: UserWarning: Use subset (sliced data) of np.ndarray is not recommended because it will generate extra copies and increase memory consumption\n",
      "  \"because it will generate extra copies and increase \" +\n"
     ]
    },
    {
     "name": "stdout",
     "output_type": "stream",
     "text": [
      "test y shape : (17520, 1)\n",
      "Inv y shape : (17520, 26)\n",
      "y pred shape : (17520, 1)\n",
      "inv y pred : (17520, 26)\n",
      "Run 5 Mean Absolute Error: 1.1000298395769015\n",
      "RMSE: 1.551\n",
      "R^2: 1.000\n",
      "[['link_24_flow', 'link_2_flow', 'link_27_flow', 'node_26_pressure', 'node_31_demand', 'link_22_flow', 'node_5_pressure', 'node_3_demand', 'node_27_demand', 'node_8_pressure', 'node_30_demand', 'node_4_demand', 'link_21_flow', 'node_9_pressure', 'link_5_flow', 'node_17_demand', 'link_32_flow', 'link_12_flow', 'node_13_pressure', 'node_27_pressure', 'link_10_flow', 'node_29_demand', 'link_18_flow', 'link_15_flow', 'node_22_demand', 'link_1_flow', 'link_13_flow', 'node_20_demand', 'node_25_demand', 'reservoir_demand', 'node_23_pressure', 'link_9_flow', 'node_11_demand', 'node_1_demand', 'node_6_pressure', 'node_28_demand', 'node_2_demand', 'node_5_demand', 'node_12_demand', 'node_12_pressure', 'link_14_flow', 'node_14_pressure', 'node_1_pressure', 'node_10_pressure', 'node_22_pressure', 'node_24_pressure', 'node_19_pressure', 'node_25_pressure', 'link_7_flow', 'node_2_pressure', 'node_13_demand', 'link_25_flow', 'node_14_demand', 'node_17_pressure', 'node_24_demand', 'node_28_pressure', 'link_8_flow', 'node_19_demand', 'node_7_pressure', 'node_11_pressure', 'link_30_flow', 'link_23_flow', 'node_30_pressure', 'node_15_demand', 'node_23_demand', 'node_31_pressure', 'node_10_demand', 'node_3_pressure', 'link_3_flow']]\n",
      "starting df shape: (87600, 27)\n",
      "This is training run 6 and has the shape:  (87600, 27)\n",
      "The value of dropped columns is 70\n"
     ]
    },
    {
     "name": "stderr",
     "output_type": "stream",
     "text": [
      "/Users/alexellard/opt/anaconda3/lib/python3.7/site-packages/xgboost/data.py:96: UserWarning: Use subset (sliced data) of np.ndarray is not recommended because it will generate extra copies and increase memory consumption\n",
      "  \"because it will generate extra copies and increase \" +\n"
     ]
    },
    {
     "name": "stdout",
     "output_type": "stream",
     "text": [
      "test y shape : (17520, 1)\n",
      "Inv y shape : (17520, 27)\n",
      "y pred shape : (17520, 1)\n",
      "inv y pred : (17520, 27)\n",
      "Run 6 Mean Absolute Error: 0.7591015862572587\n",
      "RMSE: 1.065\n",
      "R^2: 1.000\n",
      "[['link_4_flow', 'reservoir_pressure', 'node_5_demand', 'node_17_demand', 'node_31_pressure', 'node_29_demand', 'node_21_demand', 'link_3_flow', 'link_28_flow', 'node_26_demand', 'node_4_demand', 'node_4_pressure', 'node_8_demand', 'link_32_flow', 'node_15_demand', 'node_22_demand', 'link_15_flow', 'node_30_demand', 'link_14_flow', 'node_23_pressure', 'node_10_pressure', 'node_7_pressure', 'node_5_pressure', 'node_7_demand', 'node_19_pressure', 'link_12_flow', 'node_3_demand', 'node_2_demand', 'node_23_demand', 'link_29_flow', 'link_24_flow', 'node_15_pressure', 'link_22_flow', 'node_13_pressure', 'node_13_demand', 'node_30_pressure', 'link_7_flow', 'link_20_flow', 'node_11_demand', 'node_12_pressure', 'link_26_flow', 'node_20_demand', 'link_2_flow', 'node_8_pressure', 'reservoir_demand', 'node_1_pressure', 'link_27_flow', 'node_22_pressure', 'node_14_demand', 'link_1_flow', 'node_21_pressure', 'link_30_flow', 'node_27_pressure', 'link_16_flow', 'link_11_flow', 'node_24_pressure', 'node_16_demand', 'link_18_flow', 'node_28_demand', 'link_5_flow', 'link_6_flow', 'link_9_flow', 'node_2_pressure', 'link_25_flow', 'node_25_pressure', 'link_31_flow', 'node_1_demand', 'node_18_pressure', 'node_20_pressure', 'link_19_flow']]\n",
      "starting df shape: (87600, 26)\n",
      "This is training run 7 and has the shape:  (87600, 26)\n",
      "The value of dropped columns is 70\n"
     ]
    },
    {
     "name": "stderr",
     "output_type": "stream",
     "text": [
      "/Users/alexellard/opt/anaconda3/lib/python3.7/site-packages/xgboost/data.py:96: UserWarning: Use subset (sliced data) of np.ndarray is not recommended because it will generate extra copies and increase memory consumption\n",
      "  \"because it will generate extra copies and increase \" +\n"
     ]
    },
    {
     "name": "stdout",
     "output_type": "stream",
     "text": [
      "test y shape : (17520, 1)\n",
      "Inv y shape : (17520, 26)\n",
      "y pred shape : (17520, 1)\n",
      "inv y pred : (17520, 26)\n",
      "Run 7 Mean Absolute Error: 1.1841697892835579\n",
      "RMSE: 1.746\n",
      "R^2: 1.000\n",
      "[['node_27_pressure', 'node_2_pressure', 'link_3_flow', 'link_30_flow', 'node_23_demand', 'link_5_flow', 'node_1_pressure', 'node_9_demand', 'node_11_demand', 'node_12_pressure', 'link_13_flow', 'node_31_pressure', 'node_28_demand', 'link_18_flow', 'node_10_demand', 'link_27_flow', 'link_6_flow', 'node_30_pressure', 'node_21_pressure', 'node_29_demand', 'node_3_pressure', 'link_9_flow', 'link_12_flow', 'node_7_pressure', 'node_3_demand', 'link_26_flow', 'node_8_pressure', 'node_17_demand', 'link_4_flow', 'link_25_flow', 'node_6_pressure', 'link_2_flow', 'node_19_pressure', 'node_19_demand', 'node_6_demand', 'node_13_pressure', 'node_7_demand', 'node_9_pressure', 'node_30_demand', 'node_14_pressure', 'link_8_flow', 'link_14_flow', 'node_18_pressure', 'node_15_demand', 'node_21_demand', 'node_15_pressure', 'link_29_flow', 'node_20_demand', 'reservoir_pressure', 'link_32_flow', 'link_15_flow', 'node_13_demand', 'node_4_demand', 'link_17_flow', 'node_31_demand', 'node_10_pressure', 'node_29_pressure', 'node_11_pressure', 'link_31_flow', 'node_4_pressure', 'node_16_demand', 'node_20_pressure', 'reservoir_demand', 'node_23_pressure', 'link_22_flow', 'node_8_demand', 'node_26_pressure', 'node_26_demand', 'node_22_pressure', 'node_14_demand']]\n",
      "starting df shape: (87600, 26)\n",
      "This is training run 8 and has the shape:  (87600, 26)\n",
      "The value of dropped columns is 70\n"
     ]
    },
    {
     "name": "stderr",
     "output_type": "stream",
     "text": [
      "/Users/alexellard/opt/anaconda3/lib/python3.7/site-packages/xgboost/data.py:96: UserWarning: Use subset (sliced data) of np.ndarray is not recommended because it will generate extra copies and increase memory consumption\n",
      "  \"because it will generate extra copies and increase \" +\n"
     ]
    },
    {
     "name": "stdout",
     "output_type": "stream",
     "text": [
      "test y shape : (17520, 1)\n",
      "Inv y shape : (17520, 26)\n",
      "y pred shape : (17520, 1)\n",
      "inv y pred : (17520, 26)\n",
      "Run 8 Mean Absolute Error: 0.677333118519948\n",
      "RMSE: 0.967\n",
      "R^2: 1.000\n",
      "[['node_13_demand', 'node_21_demand', 'node_16_demand', 'link_24_flow', 'node_30_pressure', 'node_23_demand', 'node_2_demand', 'reservoir_pressure', 'link_28_flow', 'link_17_flow', 'node_30_demand', 'node_24_demand', 'node_13_pressure', 'node_3_pressure', 'link_26_flow', 'link_11_flow', 'node_21_pressure', 'link_30_flow', 'node_11_pressure', 'link_1_flow', 'node_28_demand', 'node_9_demand', 'reservoir_demand', 'link_20_flow', 'link_3_flow', 'node_20_pressure', 'node_27_pressure', 'node_26_demand', 'node_14_demand', 'link_14_flow', 'link_27_flow', 'node_17_pressure', 'link_32_flow', 'node_22_demand', 'node_25_pressure', 'node_5_pressure', 'node_11_demand', 'node_4_demand', 'link_2_flow', 'link_7_flow', 'node_10_demand', 'node_12_pressure', 'link_21_flow', 'node_14_pressure', 'node_1_pressure', 'link_5_flow', 'node_31_demand', 'node_8_pressure', 'node_25_demand', 'node_23_pressure', 'node_31_pressure', 'node_26_pressure', 'link_29_flow', 'node_18_pressure', 'link_31_flow', 'node_22_pressure', 'node_15_pressure', 'link_4_flow', 'link_23_flow', 'node_5_demand', 'link_13_flow', 'link_18_flow', 'node_12_demand', 'node_19_demand', 'link_25_flow', 'link_19_flow', 'link_12_flow', 'link_15_flow', 'node_29_demand', 'node_1_demand']]\n",
      "starting df shape: (87600, 26)\n",
      "This is training run 9 and has the shape:  (87600, 26)\n",
      "The value of dropped columns is 70\n"
     ]
    },
    {
     "name": "stderr",
     "output_type": "stream",
     "text": [
      "/Users/alexellard/opt/anaconda3/lib/python3.7/site-packages/xgboost/data.py:96: UserWarning: Use subset (sliced data) of np.ndarray is not recommended because it will generate extra copies and increase memory consumption\n",
      "  \"because it will generate extra copies and increase \" +\n"
     ]
    },
    {
     "name": "stdout",
     "output_type": "stream",
     "text": [
      "test y shape : (17520, 1)\n",
      "Inv y shape : (17520, 26)\n",
      "y pred shape : (17520, 1)\n",
      "inv y pred : (17520, 26)\n",
      "Run 9 Mean Absolute Error: 0.12179005927059075\n",
      "RMSE: 0.171\n",
      "R^2: 1.000\n",
      "[['node_11_demand', 'node_29_pressure', 'node_30_demand', 'node_19_demand', 'node_6_pressure', 'link_29_flow', 'node_15_pressure', 'node_28_pressure', 'node_25_demand', 'link_14_flow', 'node_10_pressure', 'node_1_pressure', 'node_14_demand', 'link_31_flow', 'link_25_flow', 'node_22_demand', 'link_15_flow', 'node_17_demand', 'link_19_flow', 'node_26_pressure', 'link_22_flow', 'node_6_demand', 'link_32_flow', 'node_22_pressure', 'node_10_demand', 'node_4_demand', 'reservoir_demand', 'link_28_flow', 'node_20_demand', 'link_20_flow', 'node_16_demand', 'node_27_pressure', 'link_27_flow', 'node_29_demand', 'node_8_pressure', 'node_11_pressure', 'node_18_pressure', 'node_21_demand', 'link_17_flow', 'node_9_pressure', 'node_2_pressure', 'node_20_pressure', 'node_5_pressure', 'link_5_flow', 'node_13_demand', 'node_12_demand', 'node_3_pressure', 'node_25_pressure', 'link_2_flow', 'link_12_flow', 'link_13_flow', 'link_1_flow', 'node_1_demand', 'link_9_flow', 'node_23_pressure', 'link_11_flow', 'link_23_flow', 'link_21_flow', 'node_21_pressure', 'link_16_flow', 'node_5_demand', 'node_4_pressure', 'node_24_pressure', 'node_27_demand', 'link_6_flow', 'link_30_flow', 'node_31_demand', 'node_7_demand', 'node_18_demand']]\n",
      "starting df shape: (87600, 27)\n",
      "This is training run 10 and has the shape:  (87600, 27)\n",
      "The value of dropped columns is 70\n"
     ]
    },
    {
     "name": "stderr",
     "output_type": "stream",
     "text": [
      "/Users/alexellard/opt/anaconda3/lib/python3.7/site-packages/xgboost/data.py:96: UserWarning: Use subset (sliced data) of np.ndarray is not recommended because it will generate extra copies and increase memory consumption\n",
      "  \"because it will generate extra copies and increase \" +\n"
     ]
    },
    {
     "name": "stdout",
     "output_type": "stream",
     "text": [
      "test y shape : (17520, 1)\n",
      "Inv y shape : (17520, 27)\n",
      "y pred shape : (17520, 1)\n",
      "inv y pred : (17520, 27)\n",
      "Run 10 Mean Absolute Error: 0.8403786800984979\n",
      "RMSE: 1.205\n",
      "R^2: 1.000\n",
      "[['node_9_pressure', 'link_8_flow', 'link_30_flow', 'node_4_demand', 'reservoir_pressure', 'node_23_demand', 'link_21_flow', 'node_2_demand', 'link_4_flow', 'node_14_pressure', 'node_13_demand', 'node_5_pressure', 'link_17_flow', 'node_30_demand', 'node_25_demand', 'node_3_demand', 'node_26_pressure', 'node_27_demand', 'link_26_flow', 'node_8_demand', 'node_15_pressure', 'node_22_demand', 'link_2_flow', 'link_23_flow', 'link_29_flow', 'link_13_flow', 'link_1_flow', 'node_10_demand', 'node_29_demand', 'node_23_pressure', 'node_21_demand', 'node_12_demand', 'node_1_pressure', 'node_29_pressure', 'node_30_pressure', 'node_11_pressure', 'link_7_flow', 'node_4_pressure', 'link_20_flow', 'node_25_pressure', 'node_22_pressure', 'link_31_flow', 'node_7_demand', 'node_28_pressure', 'link_18_flow', 'node_1_demand', 'node_13_pressure', 'node_7_pressure', 'node_31_demand', 'node_19_demand', 'reservoir_demand', 'node_10_pressure', 'node_18_pressure', 'link_15_flow', 'link_12_flow', 'node_12_pressure', 'node_18_demand', 'node_24_pressure', 'link_22_flow', 'node_9_demand', 'node_17_pressure', 'node_20_pressure', 'node_2_pressure', 'node_3_pressure', 'node_24_demand', 'node_21_pressure', 'node_6_pressure', 'node_8_pressure', 'node_11_demand', 'node_31_pressure', 'node_5_demand', 'link_32_flow', 'node_15_demand', 'node_14_demand', 'node_20_demand']]\n",
      "starting df shape: (87600, 21)\n",
      "This is training run 1 and has the shape:  (87600, 21)\n",
      "The value of dropped columns is 75\n"
     ]
    },
    {
     "name": "stderr",
     "output_type": "stream",
     "text": [
      "/Users/alexellard/opt/anaconda3/lib/python3.7/site-packages/xgboost/data.py:96: UserWarning: Use subset (sliced data) of np.ndarray is not recommended because it will generate extra copies and increase memory consumption\n",
      "  \"because it will generate extra copies and increase \" +\n"
     ]
    },
    {
     "name": "stdout",
     "output_type": "stream",
     "text": [
      "test y shape : (17520, 1)\n",
      "Inv y shape : (17520, 21)\n",
      "y pred shape : (17520, 1)\n",
      "inv y pred : (17520, 21)\n",
      "Run 1 Mean Absolute Error: 1.0301084370287705\n",
      "RMSE: 1.473\n",
      "R^2: 1.000\n",
      "[['link_30_flow', 'node_21_demand', 'node_29_pressure', 'node_4_demand', 'link_17_flow', 'link_16_flow', 'node_24_demand', 'node_15_pressure', 'node_1_demand', 'link_26_flow', 'link_24_flow', 'node_20_pressure', 'node_1_pressure', 'node_11_pressure', 'link_1_flow', 'link_13_flow', 'node_5_pressure', 'node_7_demand', 'node_13_demand', 'node_19_demand', 'node_16_demand', 'reservoir_pressure', 'node_5_demand', 'link_27_flow', 'node_11_demand', 'link_31_flow', 'node_14_pressure', 'reservoir_demand', 'node_2_pressure', 'link_9_flow', 'node_8_demand', 'link_19_flow', 'node_26_pressure', 'link_32_flow', 'node_31_demand', 'node_25_pressure', 'node_3_demand', 'link_14_flow', 'link_23_flow', 'node_24_pressure', 'node_12_pressure', 'node_3_pressure', 'node_23_pressure', 'link_25_flow', 'node_9_demand', 'node_10_pressure', 'link_28_flow', 'node_26_demand', 'link_7_flow', 'link_10_flow', 'node_9_pressure', 'link_20_flow', 'node_20_demand', 'link_18_flow', 'link_4_flow', 'node_18_demand', 'node_21_pressure', 'link_2_flow', 'node_6_demand', 'node_6_pressure', 'node_12_demand', 'node_15_demand', 'node_4_pressure', 'node_30_pressure', 'node_17_demand', 'node_10_demand', 'link_22_flow', 'link_11_flow', 'node_23_demand', 'node_25_demand', 'node_17_pressure', 'node_28_demand', 'node_27_pressure', 'node_2_demand']]\n",
      "starting df shape: (87600, 22)\n",
      "This is training run 2 and has the shape:  (87600, 22)\n",
      "The value of dropped columns is 75\n"
     ]
    },
    {
     "name": "stderr",
     "output_type": "stream",
     "text": [
      "/Users/alexellard/opt/anaconda3/lib/python3.7/site-packages/xgboost/data.py:96: UserWarning: Use subset (sliced data) of np.ndarray is not recommended because it will generate extra copies and increase memory consumption\n",
      "  \"because it will generate extra copies and increase \" +\n"
     ]
    },
    {
     "name": "stdout",
     "output_type": "stream",
     "text": [
      "test y shape : (17520, 1)\n",
      "Inv y shape : (17520, 22)\n",
      "y pred shape : (17520, 1)\n",
      "inv y pred : (17520, 22)\n",
      "Run 2 Mean Absolute Error: 0.1840968103061075\n",
      "RMSE: 0.252\n",
      "R^2: 1.000\n",
      "[['link_21_flow', 'node_14_demand', 'node_28_pressure', 'node_2_demand', 'node_22_demand', 'node_20_pressure', 'reservoir_demand', 'node_7_demand', 'node_24_pressure', 'node_1_demand', 'node_11_demand', 'link_27_flow', 'node_16_demand', 'node_27_pressure', 'link_10_flow', 'node_23_pressure', 'node_8_pressure', 'node_15_pressure', 'link_1_flow', 'link_4_flow', 'node_1_pressure', 'node_7_pressure', 'link_17_flow', 'node_3_pressure', 'link_16_flow', 'node_10_demand', 'link_19_flow', 'node_9_demand', 'node_3_demand', 'node_17_demand', 'node_27_demand', 'node_17_pressure', 'link_14_flow', 'node_29_pressure', 'link_12_flow', 'node_23_demand', 'link_24_flow', 'link_18_flow', 'node_28_demand', 'node_4_pressure', 'node_6_pressure', 'node_19_pressure', 'reservoir_pressure', 'node_5_pressure', 'node_31_pressure', 'node_15_demand', 'node_26_pressure', 'node_4_demand', 'node_26_demand', 'link_32_flow', 'link_28_flow', 'node_21_pressure', 'link_15_flow', 'node_13_pressure', 'link_23_flow', 'node_24_demand', 'node_19_demand', 'link_30_flow', 'node_5_demand', 'link_9_flow', 'link_26_flow', 'link_29_flow', 'node_14_pressure', 'node_22_pressure', 'node_13_demand', 'link_13_flow', 'node_6_demand', 'node_8_demand', 'node_30_demand', 'node_11_pressure', 'node_18_demand', 'link_3_flow', 'link_11_flow', 'node_31_demand']]\n",
      "starting df shape: (87600, 22)\n",
      "This is training run 3 and has the shape:  (87600, 22)\n",
      "The value of dropped columns is 75\n"
     ]
    },
    {
     "name": "stderr",
     "output_type": "stream",
     "text": [
      "/Users/alexellard/opt/anaconda3/lib/python3.7/site-packages/xgboost/data.py:96: UserWarning: Use subset (sliced data) of np.ndarray is not recommended because it will generate extra copies and increase memory consumption\n",
      "  \"because it will generate extra copies and increase \" +\n"
     ]
    },
    {
     "name": "stdout",
     "output_type": "stream",
     "text": [
      "test y shape : (17520, 1)\n",
      "Inv y shape : (17520, 22)\n",
      "y pred shape : (17520, 1)\n",
      "inv y pred : (17520, 22)\n",
      "Run 3 Mean Absolute Error: 1.0144501988845247\n",
      "RMSE: 1.463\n",
      "R^2: 0.999\n",
      "[['link_6_flow', 'node_21_pressure', 'node_11_pressure', 'link_4_flow', 'link_1_flow', 'node_27_pressure', 'node_26_demand', 'node_19_demand', 'node_10_pressure', 'node_20_demand', 'link_21_flow', 'node_28_pressure', 'link_17_flow', 'link_19_flow', 'node_25_demand', 'link_9_flow', 'link_7_flow', 'node_7_demand', 'node_4_pressure', 'node_2_pressure', 'node_9_pressure', 'node_3_pressure', 'node_12_demand', 'link_31_flow', 'node_15_demand', 'node_30_demand', 'reservoir_pressure', 'link_23_flow', 'node_5_pressure', 'node_29_pressure', 'node_23_demand', 'node_13_demand', 'node_5_demand', 'link_3_flow', 'node_22_pressure', 'node_30_pressure', 'link_25_flow', 'node_4_demand', 'link_20_flow', 'node_15_pressure', 'node_22_demand', 'link_27_flow', 'node_2_demand', 'node_1_demand', 'node_24_demand', 'link_10_flow', 'link_24_flow', 'node_18_demand', 'node_17_demand', 'link_29_flow', 'node_25_pressure', 'node_26_pressure', 'link_26_flow', 'link_16_flow', 'link_11_flow', 'node_8_demand', 'node_12_pressure', 'node_8_pressure', 'node_14_pressure', 'node_19_pressure', 'node_27_demand', 'node_3_demand', 'node_31_pressure', 'link_12_flow', 'link_18_flow', 'node_6_pressure', 'node_21_demand', 'node_18_pressure', 'node_9_demand', 'link_32_flow', 'link_22_flow', 'node_20_pressure', 'node_1_pressure', 'link_5_flow', 'node_31_demand']]\n",
      "starting df shape: (87600, 21)\n",
      "This is training run 4 and has the shape:  (87600, 21)\n",
      "The value of dropped columns is 75\n"
     ]
    },
    {
     "name": "stderr",
     "output_type": "stream",
     "text": [
      "/Users/alexellard/opt/anaconda3/lib/python3.7/site-packages/xgboost/data.py:96: UserWarning: Use subset (sliced data) of np.ndarray is not recommended because it will generate extra copies and increase memory consumption\n",
      "  \"because it will generate extra copies and increase \" +\n"
     ]
    },
    {
     "name": "stdout",
     "output_type": "stream",
     "text": [
      "test y shape : (17520, 1)\n",
      "Inv y shape : (17520, 21)\n",
      "y pred shape : (17520, 1)\n",
      "inv y pred : (17520, 21)\n",
      "Run 4 Mean Absolute Error: 7.778318153350172\n",
      "RMSE: 10.857\n",
      "R^2: 1.000\n",
      "[['node_22_demand', 'link_24_flow', 'node_28_pressure', 'node_26_pressure', 'link_28_flow', 'node_17_demand', 'node_21_pressure', 'link_10_flow', 'link_2_flow', 'link_26_flow', 'link_8_flow', 'node_16_demand', 'node_18_pressure', 'link_17_flow', 'node_1_pressure', 'node_14_pressure', 'node_13_demand', 'link_29_flow', 'node_10_pressure', 'link_7_flow', 'node_11_pressure', 'link_21_flow', 'node_7_pressure', 'link_12_flow', 'node_3_demand', 'node_4_pressure', 'link_4_flow', 'link_32_flow', 'node_7_demand', 'link_1_flow', 'node_24_demand', 'node_4_demand', 'node_20_demand', 'link_14_flow', 'link_5_flow', 'node_30_pressure', 'node_13_pressure', 'node_6_demand', 'node_22_pressure', 'node_9_demand', 'node_6_pressure', 'node_17_pressure', 'link_31_flow', 'node_19_pressure', 'node_15_pressure', 'link_20_flow', 'link_16_flow', 'node_14_demand', 'link_11_flow', 'link_6_flow', 'link_22_flow', 'link_27_flow', 'node_25_pressure', 'node_1_demand', 'node_31_pressure', 'node_19_demand', 'link_23_flow', 'node_29_demand', 'link_13_flow', 'link_25_flow', 'link_19_flow', 'reservoir_pressure', 'node_28_demand', 'node_12_pressure', 'node_25_demand', 'link_18_flow', 'node_21_demand', 'node_2_demand', 'node_8_demand', 'link_9_flow', 'node_2_pressure', 'node_23_demand', 'node_29_pressure', 'node_5_pressure']]\n",
      "starting df shape: (87600, 22)\n",
      "This is training run 5 and has the shape:  (87600, 22)\n",
      "The value of dropped columns is 75\n"
     ]
    },
    {
     "name": "stderr",
     "output_type": "stream",
     "text": [
      "/Users/alexellard/opt/anaconda3/lib/python3.7/site-packages/xgboost/data.py:96: UserWarning: Use subset (sliced data) of np.ndarray is not recommended because it will generate extra copies and increase memory consumption\n",
      "  \"because it will generate extra copies and increase \" +\n"
     ]
    },
    {
     "name": "stdout",
     "output_type": "stream",
     "text": [
      "test y shape : (17520, 1)\n",
      "Inv y shape : (17520, 22)\n",
      "y pred shape : (17520, 1)\n",
      "inv y pred : (17520, 22)\n",
      "Run 5 Mean Absolute Error: 13.57652793451925\n",
      "RMSE: 18.772\n",
      "R^2: 1.000\n",
      "[['node_1_pressure', 'node_6_pressure', 'node_4_demand', 'node_21_pressure', 'node_7_pressure', 'node_21_demand', 'node_24_demand', 'link_29_flow', 'node_18_pressure', 'node_3_pressure', 'link_28_flow', 'link_14_flow', 'link_10_flow', 'link_23_flow', 'node_23_demand', 'node_15_pressure', 'link_13_flow', 'node_17_pressure', 'node_27_demand', 'node_19_demand', 'node_11_pressure', 'node_14_pressure', 'node_8_pressure', 'node_24_pressure', 'node_5_pressure', 'link_4_flow', 'node_28_demand', 'node_28_pressure', 'node_1_demand', 'node_29_pressure', 'reservoir_demand', 'link_6_flow', 'link_1_flow', 'node_2_pressure', 'link_19_flow', 'node_5_demand', 'link_26_flow', 'link_20_flow', 'link_25_flow', 'node_27_pressure', 'node_31_pressure', 'node_12_demand', 'node_11_demand', 'node_7_demand', 'link_11_flow', 'link_8_flow', 'node_15_demand', 'node_22_demand', 'node_18_demand', 'link_15_flow', 'node_20_demand', 'node_17_demand', 'node_6_demand', 'node_4_pressure', 'link_18_flow', 'node_30_pressure', 'node_29_demand', 'node_14_demand', 'node_26_pressure', 'link_5_flow', 'reservoir_pressure', 'link_17_flow', 'link_12_flow', 'node_25_demand', 'node_3_demand', 'node_12_pressure', 'node_9_demand', 'node_10_demand', 'link_2_flow', 'link_3_flow', 'link_21_flow', 'link_22_flow', 'node_13_pressure', 'node_10_pressure']]\n",
      "starting df shape: (87600, 22)\n",
      "This is training run 6 and has the shape:  (87600, 22)\n",
      "The value of dropped columns is 75\n"
     ]
    },
    {
     "name": "stderr",
     "output_type": "stream",
     "text": [
      "/Users/alexellard/opt/anaconda3/lib/python3.7/site-packages/xgboost/data.py:96: UserWarning: Use subset (sliced data) of np.ndarray is not recommended because it will generate extra copies and increase memory consumption\n",
      "  \"because it will generate extra copies and increase \" +\n"
     ]
    },
    {
     "name": "stdout",
     "output_type": "stream",
     "text": [
      "test y shape : (17520, 1)\n",
      "Inv y shape : (17520, 22)\n",
      "y pred shape : (17520, 1)\n",
      "inv y pred : (17520, 22)\n",
      "Run 6 Mean Absolute Error: 0.7349164847505438\n",
      "RMSE: 1.051\n",
      "R^2: 1.000\n",
      "[['link_2_flow', 'link_6_flow', 'node_18_pressure', 'node_19_pressure', 'node_31_demand', 'link_15_flow', 'node_8_demand', 'node_13_demand', 'link_8_flow', 'node_9_demand', 'node_3_demand', 'node_10_demand', 'node_28_demand', 'node_8_pressure', 'reservoir_demand', 'link_14_flow', 'node_22_pressure', 'node_27_demand', 'link_27_flow', 'node_30_pressure', 'link_19_flow', 'node_4_pressure', 'node_15_demand', 'node_12_pressure', 'link_25_flow', 'node_25_pressure', 'node_14_demand', 'link_17_flow', 'link_7_flow', 'node_9_pressure', 'node_7_pressure', 'node_30_demand', 'node_1_pressure', 'link_3_flow', 'node_7_demand', 'link_16_flow', 'link_10_flow', 'node_5_pressure', 'node_24_pressure', 'node_19_demand', 'node_16_demand', 'node_23_pressure', 'node_2_demand', 'node_26_demand', 'node_18_demand', 'link_23_flow', 'node_27_pressure', 'node_5_demand', 'node_31_pressure', 'link_1_flow', 'link_26_flow', 'node_13_pressure', 'node_29_pressure', 'node_17_demand', 'link_18_flow', 'node_17_pressure', 'node_1_demand', 'link_31_flow', 'node_20_demand', 'link_20_flow', 'link_32_flow', 'reservoir_pressure', 'link_11_flow', 'link_30_flow', 'node_21_pressure', 'node_2_pressure', 'node_12_demand', 'node_25_demand', 'link_29_flow', 'link_28_flow', 'node_10_pressure', 'node_11_pressure', 'node_15_pressure', 'link_5_flow']]\n",
      "starting df shape: (87600, 22)\n",
      "This is training run 7 and has the shape:  (87600, 22)\n",
      "The value of dropped columns is 75\n"
     ]
    },
    {
     "name": "stderr",
     "output_type": "stream",
     "text": [
      "/Users/alexellard/opt/anaconda3/lib/python3.7/site-packages/xgboost/data.py:96: UserWarning: Use subset (sliced data) of np.ndarray is not recommended because it will generate extra copies and increase memory consumption\n",
      "  \"because it will generate extra copies and increase \" +\n"
     ]
    },
    {
     "name": "stdout",
     "output_type": "stream",
     "text": [
      "test y shape : (17520, 1)\n",
      "Inv y shape : (17520, 22)\n",
      "y pred shape : (17520, 1)\n",
      "inv y pred : (17520, 22)\n",
      "Run 7 Mean Absolute Error: 0.7602985922441915\n",
      "RMSE: 1.090\n",
      "R^2: 1.000\n",
      "[['node_25_pressure', 'node_12_pressure', 'node_11_demand', 'node_30_demand', 'link_25_flow', 'node_5_demand', 'node_4_pressure', 'node_22_demand', 'link_29_flow', 'node_17_pressure', 'link_4_flow', 'link_5_flow', 'link_9_flow', 'link_31_flow', 'link_19_flow', 'link_18_flow', 'node_6_demand', 'link_23_flow', 'link_24_flow', 'node_15_demand', 'node_25_demand', 'node_14_demand', 'node_1_demand', 'node_19_pressure', 'link_28_flow', 'link_16_flow', 'node_16_demand', 'reservoir_pressure', 'node_29_demand', 'link_30_flow', 'node_10_pressure', 'link_14_flow', 'node_26_pressure', 'link_21_flow', 'node_24_demand', 'link_11_flow', 'node_13_pressure', 'link_3_flow', 'node_8_demand', 'node_5_pressure', 'node_18_pressure', 'node_18_demand', 'node_2_demand', 'node_19_demand', 'node_20_pressure', 'node_27_demand', 'link_7_flow', 'link_12_flow', 'node_3_demand', 'node_9_pressure', 'link_10_flow', 'node_14_pressure', 'link_15_flow', 'node_13_demand', 'node_31_demand', 'node_11_pressure', 'link_2_flow', 'node_7_demand', 'node_12_demand', 'link_20_flow', 'link_8_flow', 'link_17_flow', 'node_1_pressure', 'node_28_demand', 'reservoir_demand', 'link_6_flow', 'node_21_pressure', 'node_22_pressure', 'node_23_demand', 'link_1_flow', 'node_17_demand', 'node_27_pressure', 'node_4_demand', 'link_32_flow']]\n",
      "starting df shape: (87600, 22)\n",
      "This is training run 8 and has the shape:  (87600, 22)\n",
      "The value of dropped columns is 75\n"
     ]
    },
    {
     "name": "stderr",
     "output_type": "stream",
     "text": [
      "/Users/alexellard/opt/anaconda3/lib/python3.7/site-packages/xgboost/data.py:96: UserWarning: Use subset (sliced data) of np.ndarray is not recommended because it will generate extra copies and increase memory consumption\n",
      "  \"because it will generate extra copies and increase \" +\n"
     ]
    },
    {
     "name": "stdout",
     "output_type": "stream",
     "text": [
      "test y shape : (17520, 1)\n",
      "Inv y shape : (17520, 22)\n",
      "y pred shape : (17520, 1)\n",
      "inv y pred : (17520, 22)\n",
      "Run 8 Mean Absolute Error: 0.4922617508505787\n",
      "RMSE: 0.695\n",
      "R^2: 1.000\n",
      "[['node_17_demand', 'link_30_flow', 'node_14_pressure', 'node_30_pressure', 'node_30_demand', 'node_11_pressure', 'node_20_pressure', 'link_17_flow', 'node_20_demand', 'link_29_flow', 'node_9_pressure', 'link_3_flow', 'node_25_pressure', 'node_31_pressure', 'link_22_flow', 'node_13_demand', 'node_31_demand', 'node_27_pressure', 'node_14_demand', 'node_6_demand', 'node_29_pressure', 'node_24_pressure', 'node_3_pressure', 'link_14_flow', 'reservoir_demand', 'link_18_flow', 'link_27_flow', 'node_24_demand', 'node_25_demand', 'link_2_flow', 'node_23_pressure', 'node_26_pressure', 'link_20_flow', 'node_21_pressure', 'node_10_pressure', 'node_5_demand', 'node_15_pressure', 'node_1_demand', 'node_18_pressure', 'link_19_flow', 'link_32_flow', 'link_10_flow', 'node_11_demand', 'node_23_demand', 'node_2_demand', 'link_13_flow', 'link_26_flow', 'node_9_demand', 'node_22_pressure', 'link_24_flow', 'link_23_flow', 'node_19_pressure', 'link_16_flow', 'link_6_flow', 'node_17_pressure', 'node_28_pressure', 'node_16_demand', 'node_27_demand', 'node_5_pressure', 'link_28_flow', 'node_7_demand', 'link_7_flow', 'link_5_flow', 'node_2_pressure', 'node_6_pressure', 'link_31_flow', 'node_8_demand', 'link_12_flow', 'link_4_flow', 'node_4_demand', 'node_29_demand', 'node_12_demand', 'reservoir_pressure', 'node_4_pressure']]\n",
      "starting df shape: (87600, 22)\n",
      "This is training run 9 and has the shape:  (87600, 22)\n",
      "The value of dropped columns is 75\n"
     ]
    },
    {
     "name": "stderr",
     "output_type": "stream",
     "text": [
      "/Users/alexellard/opt/anaconda3/lib/python3.7/site-packages/xgboost/data.py:96: UserWarning: Use subset (sliced data) of np.ndarray is not recommended because it will generate extra copies and increase memory consumption\n",
      "  \"because it will generate extra copies and increase \" +\n"
     ]
    },
    {
     "name": "stdout",
     "output_type": "stream",
     "text": [
      "test y shape : (17520, 1)\n",
      "Inv y shape : (17520, 22)\n",
      "y pred shape : (17520, 1)\n",
      "inv y pred : (17520, 22)\n",
      "Run 9 Mean Absolute Error: 0.11064583944272043\n",
      "RMSE: 0.152\n",
      "R^2: 1.000\n",
      "[['node_31_demand', 'link_9_flow', 'node_8_pressure', 'node_6_pressure', 'node_17_pressure', 'link_27_flow', 'link_28_flow', 'node_3_demand', 'reservoir_demand', 'node_9_demand', 'node_27_demand', 'link_19_flow', 'node_29_pressure', 'node_13_demand', 'node_21_pressure', 'node_27_pressure', 'link_22_flow', 'link_31_flow', 'node_11_demand', 'link_16_flow', 'link_26_flow', 'link_11_flow', 'node_23_pressure', 'link_25_flow', 'node_25_pressure', 'node_3_pressure', 'node_19_demand', 'node_8_demand', 'link_15_flow', 'node_5_demand', 'node_20_demand', 'node_28_pressure', 'node_30_demand', 'node_2_demand', 'node_26_demand', 'link_4_flow', 'reservoir_pressure', 'link_12_flow', 'node_12_demand', 'link_21_flow', 'link_13_flow', 'node_18_demand', 'node_2_pressure', 'node_18_pressure', 'node_4_pressure', 'link_10_flow', 'node_24_pressure', 'node_4_demand', 'node_24_demand', 'link_24_flow', 'node_10_pressure', 'node_20_pressure', 'node_7_demand', 'link_17_flow', 'link_29_flow', 'node_30_pressure', 'node_25_demand', 'node_13_pressure', 'node_14_pressure', 'node_17_demand', 'node_1_demand', 'node_22_demand', 'node_15_demand', 'link_5_flow', 'link_30_flow', 'node_16_demand', 'node_28_demand', 'link_7_flow', 'node_14_demand', 'node_19_pressure', 'link_1_flow', 'node_9_pressure', 'node_1_pressure', 'node_5_pressure']]\n",
      "starting df shape: (87600, 22)\n",
      "This is training run 10 and has the shape:  (87600, 22)\n",
      "The value of dropped columns is 75\n"
     ]
    },
    {
     "name": "stderr",
     "output_type": "stream",
     "text": [
      "/Users/alexellard/opt/anaconda3/lib/python3.7/site-packages/xgboost/data.py:96: UserWarning: Use subset (sliced data) of np.ndarray is not recommended because it will generate extra copies and increase memory consumption\n",
      "  \"because it will generate extra copies and increase \" +\n"
     ]
    },
    {
     "name": "stdout",
     "output_type": "stream",
     "text": [
      "test y shape : (17520, 1)\n",
      "Inv y shape : (17520, 22)\n",
      "y pred shape : (17520, 1)\n",
      "inv y pred : (17520, 22)\n",
      "Run 10 Mean Absolute Error: 1.3672823627370017\n",
      "RMSE: 1.972\n",
      "R^2: 1.000\n",
      "[['link_11_flow', 'link_2_flow', 'node_31_pressure', 'link_21_flow', 'node_29_demand', 'node_14_pressure', 'node_9_pressure', 'node_9_demand', 'node_3_pressure', 'node_12_demand', 'link_8_flow', 'node_30_pressure', 'node_30_demand', 'node_23_demand', 'node_22_demand', 'node_1_pressure', 'link_32_flow', 'node_21_pressure', 'node_11_pressure', 'link_1_flow', 'node_28_demand', 'node_29_pressure', 'link_13_flow', 'node_8_demand', 'node_19_pressure', 'link_31_flow', 'link_10_flow', 'node_7_demand', 'node_27_demand', 'link_28_flow', 'node_26_demand', 'link_16_flow', 'link_19_flow', 'node_1_demand', 'reservoir_demand', 'node_5_demand', 'node_18_demand', 'node_8_pressure', 'node_24_demand', 'link_17_flow', 'node_4_pressure', 'link_14_flow', 'link_25_flow', 'node_17_pressure', 'node_2_demand', 'node_5_pressure', 'reservoir_pressure', 'link_12_flow', 'node_23_pressure', 'node_24_pressure', 'node_2_pressure', 'node_19_demand', 'link_5_flow', 'link_20_flow', 'node_18_pressure', 'node_31_demand', 'node_16_demand', 'node_28_pressure', 'link_7_flow', 'link_30_flow', 'link_26_flow', 'node_20_pressure', 'node_15_demand', 'node_4_demand', 'node_27_pressure', 'node_12_pressure', 'link_23_flow', 'node_10_demand', 'node_14_demand', 'node_13_pressure', 'node_25_demand', 'link_18_flow', 'node_22_pressure', 'node_25_pressure', 'node_11_demand', 'node_10_pressure', 'link_22_flow', 'node_13_demand', 'link_15_flow', 'node_21_demand']]\n",
      "starting df shape: (87600, 16)\n",
      "This is training run 1 and has the shape:  (87600, 16)\n",
      "The value of dropped columns is 80\n"
     ]
    },
    {
     "name": "stderr",
     "output_type": "stream",
     "text": [
      "/Users/alexellard/opt/anaconda3/lib/python3.7/site-packages/xgboost/data.py:96: UserWarning: Use subset (sliced data) of np.ndarray is not recommended because it will generate extra copies and increase memory consumption\n",
      "  \"because it will generate extra copies and increase \" +\n"
     ]
    },
    {
     "name": "stdout",
     "output_type": "stream",
     "text": [
      "test y shape : (17520, 1)\n",
      "Inv y shape : (17520, 16)\n",
      "y pred shape : (17520, 1)\n",
      "inv y pred : (17520, 16)\n",
      "Run 1 Mean Absolute Error: 0.13720267497365057\n",
      "RMSE: 0.198\n",
      "R^2: 1.000\n",
      "[['node_14_demand', 'reservoir_demand', 'node_18_demand', 'node_9_pressure', 'node_31_pressure', 'link_13_flow', 'link_1_flow', 'node_26_pressure', 'node_21_demand', 'node_11_demand', 'link_17_flow', 'link_27_flow', 'node_8_pressure', 'node_22_demand', 'node_2_demand', 'node_13_pressure', 'link_18_flow', 'link_19_flow', 'node_20_pressure', 'node_27_demand', 'node_14_pressure', 'node_5_demand', 'node_17_pressure', 'link_28_flow', 'node_5_pressure', 'link_4_flow', 'node_4_demand', 'node_15_demand', 'link_31_flow', 'node_2_pressure', 'node_23_pressure', 'node_20_demand', 'node_4_pressure', 'link_3_flow', 'link_21_flow', 'link_32_flow', 'link_25_flow', 'node_7_demand', 'node_6_pressure', 'link_11_flow', 'node_9_demand', 'link_6_flow', 'link_14_flow', 'node_8_demand', 'node_28_pressure', 'node_1_demand', 'link_30_flow', 'link_12_flow', 'link_10_flow', 'link_23_flow', 'node_16_demand', 'node_12_pressure', 'node_30_demand', 'node_15_pressure', 'link_16_flow', 'link_15_flow', 'node_25_pressure', 'reservoir_pressure', 'node_11_pressure', 'link_29_flow', 'node_12_demand', 'node_7_pressure', 'link_9_flow', 'node_23_demand', 'node_26_demand', 'node_24_demand', 'node_17_demand', 'node_19_pressure', 'node_25_demand', 'link_5_flow', 'node_10_pressure', 'node_3_pressure', 'link_24_flow', 'node_29_pressure', 'node_31_demand', 'node_29_demand', 'link_26_flow', 'node_6_demand', 'node_19_demand']]\n",
      "starting df shape: (87600, 17)\n",
      "This is training run 2 and has the shape:  (87600, 17)\n",
      "The value of dropped columns is 80\n"
     ]
    },
    {
     "name": "stderr",
     "output_type": "stream",
     "text": [
      "/Users/alexellard/opt/anaconda3/lib/python3.7/site-packages/xgboost/data.py:96: UserWarning: Use subset (sliced data) of np.ndarray is not recommended because it will generate extra copies and increase memory consumption\n",
      "  \"because it will generate extra copies and increase \" +\n"
     ]
    },
    {
     "name": "stdout",
     "output_type": "stream",
     "text": [
      "test y shape : (17520, 1)\n",
      "Inv y shape : (17520, 17)\n",
      "y pred shape : (17520, 1)\n",
      "inv y pred : (17520, 17)\n",
      "Run 2 Mean Absolute Error: 0.17800781135442262\n",
      "RMSE: 0.257\n",
      "R^2: 0.999\n",
      "[['node_24_pressure', 'node_4_pressure', 'node_31_demand', 'node_20_demand', 'node_21_pressure', 'node_24_demand', 'node_13_pressure', 'node_7_pressure', 'link_4_flow', 'node_27_pressure', 'link_28_flow', 'link_20_flow', 'node_6_pressure', 'link_25_flow', 'link_9_flow', 'link_18_flow', 'node_17_pressure', 'node_25_pressure', 'node_11_demand', 'node_8_demand', 'node_22_pressure', 'node_18_demand', 'link_27_flow', 'node_27_demand', 'node_13_demand', 'link_6_flow', 'link_15_flow', 'node_22_demand', 'link_17_flow', 'node_19_pressure', 'link_21_flow', 'node_28_demand', 'link_3_flow', 'link_14_flow', 'link_24_flow', 'node_3_pressure', 'link_12_flow', 'link_11_flow', 'node_25_demand', 'link_16_flow', 'link_26_flow', 'node_1_pressure', 'node_31_pressure', 'node_6_demand', 'node_29_demand', 'link_13_flow', 'reservoir_demand', 'link_31_flow', 'node_23_demand', 'node_14_demand', 'link_10_flow', 'node_16_demand', 'node_21_demand', 'link_8_flow', 'node_20_pressure', 'node_11_pressure', 'node_5_pressure', 'node_29_pressure', 'link_30_flow', 'node_14_pressure', 'node_19_demand', 'node_12_pressure', 'node_28_pressure', 'node_9_demand', 'link_23_flow', 'link_1_flow', 'node_7_demand', 'link_5_flow', 'node_15_demand', 'node_15_pressure', 'node_17_demand', 'link_7_flow', 'node_10_demand', 'reservoir_pressure', 'link_19_flow', 'node_2_pressure', 'node_26_pressure', 'node_2_demand', 'link_29_flow']]\n",
      "starting df shape: (87600, 17)\n",
      "This is training run 3 and has the shape:  (87600, 17)\n",
      "The value of dropped columns is 80\n"
     ]
    },
    {
     "name": "stderr",
     "output_type": "stream",
     "text": [
      "/Users/alexellard/opt/anaconda3/lib/python3.7/site-packages/xgboost/data.py:96: UserWarning: Use subset (sliced data) of np.ndarray is not recommended because it will generate extra copies and increase memory consumption\n",
      "  \"because it will generate extra copies and increase \" +\n"
     ]
    },
    {
     "name": "stdout",
     "output_type": "stream",
     "text": [
      "test y shape : (17520, 1)\n",
      "Inv y shape : (17520, 17)\n",
      "y pred shape : (17520, 1)\n",
      "inv y pred : (17520, 17)\n",
      "Run 3 Mean Absolute Error: 1.192591140106156\n",
      "RMSE: 1.735\n",
      "R^2: 0.999\n",
      "[['node_27_demand', 'link_11_flow', 'node_24_demand', 'link_6_flow', 'link_2_flow', 'node_28_pressure', 'link_20_flow', 'link_16_flow', 'node_22_demand', 'node_2_demand', 'node_12_pressure', 'node_20_pressure', 'node_4_demand', 'link_21_flow', 'link_19_flow', 'node_14_pressure', 'node_30_pressure', 'node_31_pressure', 'node_14_demand', 'node_13_demand', 'node_28_demand', 'link_22_flow', 'link_26_flow', 'node_26_demand', 'node_25_pressure', 'link_14_flow', 'node_6_demand', 'reservoir_demand', 'node_8_demand', 'link_3_flow', 'link_31_flow', 'node_18_pressure', 'link_4_flow', 'link_18_flow', 'node_23_demand', 'node_6_pressure', 'link_32_flow', 'node_18_demand', 'node_3_demand', 'link_15_flow', 'node_9_pressure', 'link_25_flow', 'node_11_pressure', 'reservoir_pressure', 'node_19_demand', 'node_3_pressure', 'node_17_pressure', 'node_29_pressure', 'node_25_demand', 'link_28_flow', 'node_20_demand', 'node_13_pressure', 'node_7_demand', 'node_4_pressure', 'link_24_flow', 'link_8_flow', 'link_7_flow', 'node_10_demand', 'node_30_demand', 'link_30_flow', 'link_5_flow', 'link_29_flow', 'node_24_pressure', 'link_23_flow', 'node_5_pressure', 'node_12_demand', 'node_21_pressure', 'node_7_pressure', 'node_22_pressure', 'link_10_flow', 'node_27_pressure', 'node_1_pressure', 'link_13_flow', 'node_1_demand', 'node_9_demand', 'node_23_pressure', 'node_31_demand', 'node_26_pressure', 'node_15_pressure']]\n",
      "starting df shape: (87600, 17)\n",
      "This is training run 4 and has the shape:  (87600, 17)\n",
      "The value of dropped columns is 80\n"
     ]
    },
    {
     "name": "stderr",
     "output_type": "stream",
     "text": [
      "/Users/alexellard/opt/anaconda3/lib/python3.7/site-packages/xgboost/data.py:96: UserWarning: Use subset (sliced data) of np.ndarray is not recommended because it will generate extra copies and increase memory consumption\n",
      "  \"because it will generate extra copies and increase \" +\n"
     ]
    },
    {
     "name": "stdout",
     "output_type": "stream",
     "text": [
      "test y shape : (17520, 1)\n",
      "Inv y shape : (17520, 17)\n",
      "y pred shape : (17520, 1)\n",
      "inv y pred : (17520, 17)\n",
      "Run 4 Mean Absolute Error: 0.6370705569370078\n",
      "RMSE: 0.884\n",
      "R^2: 1.000\n",
      "[['node_18_demand', 'node_24_pressure', 'link_12_flow', 'node_13_demand', 'node_22_pressure', 'link_13_flow', 'node_10_pressure', 'link_22_flow', 'link_14_flow', 'link_18_flow', 'link_19_flow', 'node_28_demand', 'node_4_demand', 'link_9_flow', 'link_15_flow', 'node_19_demand', 'node_14_pressure', 'node_24_demand', 'node_23_demand', 'node_22_demand', 'node_20_pressure', 'node_25_pressure', 'node_29_pressure', 'link_26_flow', 'link_25_flow', 'node_11_demand', 'node_26_pressure', 'link_23_flow', 'link_28_flow', 'node_26_demand', 'node_13_pressure', 'node_7_demand', 'node_9_demand', 'node_6_pressure', 'node_25_demand', 'node_1_demand', 'node_12_pressure', 'link_3_flow', 'link_2_flow', 'link_27_flow', 'node_19_pressure', 'link_30_flow', 'node_31_demand', 'node_27_pressure', 'node_2_pressure', 'node_29_demand', 'link_7_flow', 'node_31_pressure', 'link_1_flow', 'node_27_demand', 'link_8_flow', 'link_29_flow', 'node_6_demand', 'node_5_demand', 'node_4_pressure', 'link_20_flow', 'node_15_pressure', 'link_11_flow', 'link_31_flow', 'node_20_demand', 'link_24_flow', 'node_18_pressure', 'node_30_pressure', 'node_12_demand', 'node_9_pressure', 'node_15_demand', 'node_23_pressure', 'node_17_pressure', 'link_32_flow', 'node_3_demand', 'link_5_flow', 'reservoir_demand', 'node_16_demand', 'node_10_demand', 'node_8_pressure', 'node_14_demand', 'node_30_demand', 'node_21_demand', 'link_10_flow']]\n",
      "starting df shape: (87600, 17)\n",
      "This is training run 5 and has the shape:  (87600, 17)\n",
      "The value of dropped columns is 80\n"
     ]
    },
    {
     "name": "stderr",
     "output_type": "stream",
     "text": [
      "/Users/alexellard/opt/anaconda3/lib/python3.7/site-packages/xgboost/data.py:96: UserWarning: Use subset (sliced data) of np.ndarray is not recommended because it will generate extra copies and increase memory consumption\n",
      "  \"because it will generate extra copies and increase \" +\n"
     ]
    },
    {
     "name": "stdout",
     "output_type": "stream",
     "text": [
      "test y shape : (17520, 1)\n",
      "Inv y shape : (17520, 17)\n",
      "y pred shape : (17520, 1)\n",
      "inv y pred : (17520, 17)\n",
      "Run 5 Mean Absolute Error: 0.7321139176181253\n",
      "RMSE: 1.032\n",
      "R^2: 1.000\n",
      "[['link_10_flow', 'node_31_demand', 'node_6_pressure', 'link_6_flow', 'node_4_demand', 'node_21_demand', 'node_29_pressure', 'node_7_demand', 'node_2_pressure', 'node_11_demand', 'link_17_flow', 'node_25_pressure', 'node_13_demand', 'node_12_pressure', 'node_26_demand', 'link_3_flow', 'link_28_flow', 'link_27_flow', 'node_14_demand', 'node_12_demand', 'link_30_flow', 'link_29_flow', 'node_28_demand', 'link_9_flow', 'link_13_flow', 'node_26_pressure', 'node_24_demand', 'node_6_demand', 'node_30_pressure', 'link_11_flow', 'node_1_pressure', 'node_20_pressure', 'link_1_flow', 'node_19_pressure', 'link_24_flow', 'link_2_flow', 'link_15_flow', 'link_7_flow', 'link_32_flow', 'node_17_pressure', 'link_18_flow', 'node_4_pressure', 'node_7_pressure', 'node_9_demand', 'node_17_demand', 'reservoir_pressure', 'node_15_demand', 'node_18_pressure', 'link_31_flow', 'node_23_demand', 'node_10_demand', 'link_19_flow', 'link_5_flow', 'node_16_demand', 'link_20_flow', 'node_23_pressure', 'reservoir_demand', 'link_23_flow', 'node_11_pressure', 'link_22_flow', 'node_15_pressure', 'node_24_pressure', 'node_18_demand', 'node_8_demand', 'node_20_demand', 'node_28_pressure', 'node_31_pressure', 'node_22_pressure', 'node_9_pressure', 'node_10_pressure', 'node_21_pressure', 'node_25_demand', 'link_14_flow', 'node_5_pressure', 'node_22_demand', 'node_3_demand', 'node_1_demand', 'node_2_demand', 'link_12_flow']]\n",
      "starting df shape: (87600, 17)\n",
      "This is training run 6 and has the shape:  (87600, 17)\n",
      "The value of dropped columns is 80\n"
     ]
    },
    {
     "name": "stderr",
     "output_type": "stream",
     "text": [
      "/Users/alexellard/opt/anaconda3/lib/python3.7/site-packages/xgboost/data.py:96: UserWarning: Use subset (sliced data) of np.ndarray is not recommended because it will generate extra copies and increase memory consumption\n",
      "  \"because it will generate extra copies and increase \" +\n"
     ]
    },
    {
     "name": "stdout",
     "output_type": "stream",
     "text": [
      "test y shape : (17520, 1)\n",
      "Inv y shape : (17520, 17)\n",
      "y pred shape : (17520, 1)\n",
      "inv y pred : (17520, 17)\n",
      "Run 6 Mean Absolute Error: 0.892614289349285\n",
      "RMSE: 1.232\n",
      "R^2: 1.000\n",
      "[['link_13_flow', 'link_26_flow', 'node_26_pressure', 'link_12_flow', 'node_20_pressure', 'node_25_pressure', 'node_12_pressure', 'node_30_demand', 'node_29_pressure', 'node_31_demand', 'node_26_demand', 'node_15_demand', 'node_21_pressure', 'node_23_demand', 'node_4_demand', 'link_10_flow', 'node_22_pressure', 'node_13_demand', 'node_31_pressure', 'node_17_pressure', 'link_5_flow', 'link_28_flow', 'node_7_pressure', 'node_17_demand', 'link_32_flow', 'node_12_demand', 'node_21_demand', 'link_2_flow', 'link_16_flow', 'node_8_pressure', 'node_2_demand', 'link_18_flow', 'node_29_demand', 'link_27_flow', 'link_15_flow', 'node_14_pressure', 'node_18_pressure', 'link_9_flow', 'link_4_flow', 'node_11_demand', 'link_14_flow', 'link_3_flow', 'node_13_pressure', 'node_27_demand', 'link_29_flow', 'node_16_demand', 'link_23_flow', 'node_19_demand', 'link_11_flow', 'link_1_flow', 'node_3_pressure', 'node_23_pressure', 'link_6_flow', 'node_20_demand', 'reservoir_demand', 'node_8_demand', 'link_17_flow', 'node_1_demand', 'node_24_demand', 'node_24_pressure', 'node_5_pressure', 'node_25_demand', 'node_3_demand', 'link_25_flow', 'node_10_pressure', 'node_9_demand', 'node_28_demand', 'node_18_demand', 'link_22_flow', 'node_4_pressure', 'node_6_demand', 'link_21_flow', 'node_15_pressure', 'node_14_demand', 'node_30_pressure', 'link_31_flow', 'link_8_flow', 'reservoir_pressure', 'node_2_pressure']]\n",
      "starting df shape: (87600, 17)\n",
      "This is training run 7 and has the shape:  (87600, 17)\n",
      "The value of dropped columns is 80\n"
     ]
    },
    {
     "name": "stderr",
     "output_type": "stream",
     "text": [
      "/Users/alexellard/opt/anaconda3/lib/python3.7/site-packages/xgboost/data.py:96: UserWarning: Use subset (sliced data) of np.ndarray is not recommended because it will generate extra copies and increase memory consumption\n",
      "  \"because it will generate extra copies and increase \" +\n"
     ]
    },
    {
     "name": "stdout",
     "output_type": "stream",
     "text": [
      "test y shape : (17520, 1)\n",
      "Inv y shape : (17520, 17)\n",
      "y pred shape : (17520, 1)\n",
      "inv y pred : (17520, 17)\n",
      "Run 7 Mean Absolute Error: 1.2019299164688693\n",
      "RMSE: 1.753\n",
      "R^2: 0.999\n",
      "[['node_19_demand', 'link_1_flow', 'link_32_flow', 'node_13_demand', 'node_25_demand', 'link_6_flow', 'node_18_demand', 'node_17_demand', 'node_17_pressure', 'node_29_demand', 'node_20_demand', 'node_3_demand', 'node_19_pressure', 'reservoir_pressure', 'node_1_demand', 'link_14_flow', 'node_21_pressure', 'node_13_pressure', 'link_10_flow', 'node_2_pressure', 'link_7_flow', 'node_5_pressure', 'node_20_pressure', 'link_8_flow', 'node_24_demand', 'node_1_pressure', 'link_23_flow', 'node_28_pressure', 'node_10_demand', 'link_30_flow', 'link_15_flow', 'node_23_demand', 'node_9_pressure', 'link_3_flow', 'node_4_demand', 'link_26_flow', 'link_21_flow', 'node_16_demand', 'link_11_flow', 'node_28_demand', 'node_15_pressure', 'node_3_pressure', 'node_22_demand', 'node_31_demand', 'node_27_pressure', 'node_2_demand', 'node_24_pressure', 'node_10_pressure', 'node_6_pressure', 'node_5_demand', 'node_6_demand', 'node_23_pressure', 'node_12_pressure', 'node_21_demand', 'link_13_flow', 'link_27_flow', 'node_26_demand', 'link_17_flow', 'node_26_pressure', 'node_8_pressure', 'node_8_demand', 'link_2_flow', 'link_29_flow', 'node_7_demand', 'link_31_flow', 'node_11_demand', 'node_18_pressure', 'node_12_demand', 'link_25_flow', 'link_28_flow', 'node_30_pressure', 'link_5_flow', 'node_9_demand', 'link_22_flow', 'link_16_flow', 'link_20_flow', 'node_22_pressure', 'node_14_demand', 'node_11_pressure']]\n",
      "starting df shape: (87600, 17)\n",
      "This is training run 8 and has the shape:  (87600, 17)\n",
      "The value of dropped columns is 80\n"
     ]
    },
    {
     "name": "stderr",
     "output_type": "stream",
     "text": [
      "/Users/alexellard/opt/anaconda3/lib/python3.7/site-packages/xgboost/data.py:96: UserWarning: Use subset (sliced data) of np.ndarray is not recommended because it will generate extra copies and increase memory consumption\n",
      "  \"because it will generate extra copies and increase \" +\n"
     ]
    },
    {
     "name": "stdout",
     "output_type": "stream",
     "text": [
      "test y shape : (17520, 1)\n",
      "Inv y shape : (17520, 17)\n",
      "y pred shape : (17520, 1)\n",
      "inv y pred : (17520, 17)\n",
      "Run 8 Mean Absolute Error: 14.421320019620545\n",
      "RMSE: 20.971\n",
      "R^2: 1.000\n",
      "[['node_26_demand', 'node_27_pressure', 'node_29_demand', 'link_23_flow', 'node_17_demand', 'node_18_pressure', 'link_22_flow', 'node_17_pressure', 'node_14_demand', 'node_4_demand', 'link_27_flow', 'node_28_pressure', 'node_30_demand', 'node_31_demand', 'link_31_flow', 'node_13_demand', 'link_14_flow', 'node_12_pressure', 'link_7_flow', 'node_12_demand', 'link_11_flow', 'reservoir_demand', 'node_3_pressure', 'link_8_flow', 'node_25_pressure', 'node_24_demand', 'link_21_flow', 'node_10_demand', 'node_20_pressure', 'link_15_flow', 'node_8_demand', 'node_7_demand', 'node_25_demand', 'node_1_demand', 'link_25_flow', 'node_15_pressure', 'node_5_pressure', 'node_22_pressure', 'link_12_flow', 'link_5_flow', 'link_28_flow', 'node_16_demand', 'node_11_demand', 'node_4_pressure', 'node_2_pressure', 'node_30_pressure', 'node_29_pressure', 'node_19_demand', 'node_6_pressure', 'node_19_pressure', 'link_20_flow', 'reservoir_pressure', 'node_10_pressure', 'link_10_flow', 'link_26_flow', 'link_30_flow', 'node_7_pressure', 'node_9_pressure', 'node_2_demand', 'node_21_demand', 'node_15_demand', 'node_27_demand', 'link_29_flow', 'node_31_pressure', 'node_28_demand', 'node_23_pressure', 'node_24_pressure', 'node_3_demand', 'node_26_pressure', 'node_23_demand', 'link_9_flow', 'node_8_pressure', 'link_2_flow', 'node_5_demand', 'link_32_flow', 'node_22_demand', 'link_19_flow', 'node_6_demand', 'node_1_pressure']]\n",
      "starting df shape: (87600, 17)\n",
      "This is training run 9 and has the shape:  (87600, 17)\n",
      "The value of dropped columns is 80\n"
     ]
    },
    {
     "name": "stderr",
     "output_type": "stream",
     "text": [
      "/Users/alexellard/opt/anaconda3/lib/python3.7/site-packages/xgboost/data.py:96: UserWarning: Use subset (sliced data) of np.ndarray is not recommended because it will generate extra copies and increase memory consumption\n",
      "  \"because it will generate extra copies and increase \" +\n"
     ]
    },
    {
     "name": "stdout",
     "output_type": "stream",
     "text": [
      "test y shape : (17520, 1)\n",
      "Inv y shape : (17520, 17)\n",
      "y pred shape : (17520, 1)\n",
      "inv y pred : (17520, 17)\n",
      "Run 9 Mean Absolute Error: 0.4600223088025579\n",
      "RMSE: 0.655\n",
      "R^2: 1.000\n",
      "[['link_30_flow', 'node_1_pressure', 'node_21_demand', 'link_10_flow', 'node_2_pressure', 'node_10_pressure', 'link_25_flow', 'node_23_demand', 'link_12_flow', 'node_16_demand', 'node_9_pressure', 'node_14_demand', 'link_6_flow', 'node_12_demand', 'node_2_demand', 'node_20_demand', 'reservoir_pressure', 'link_32_flow', 'link_26_flow', 'node_19_pressure', 'link_7_flow', 'link_31_flow', 'node_15_demand', 'node_24_demand', 'node_15_pressure', 'node_30_demand', 'link_19_flow', 'node_3_pressure', 'link_16_flow', 'node_11_pressure', 'link_15_flow', 'node_25_pressure', 'node_20_pressure', 'node_29_demand', 'node_18_pressure', 'node_6_demand', 'node_3_demand', 'node_14_pressure', 'link_24_flow', 'node_8_pressure', 'link_17_flow', 'node_17_demand', 'link_23_flow', 'link_5_flow', 'node_6_pressure', 'node_21_pressure', 'node_26_demand', 'node_4_pressure', 'link_21_flow', 'node_13_pressure', 'node_22_pressure', 'node_1_demand', 'node_27_pressure', 'node_13_demand', 'link_13_flow', 'node_30_pressure', 'link_2_flow', 'link_27_flow', 'node_22_demand', 'reservoir_demand', 'link_20_flow', 'link_8_flow', 'link_14_flow', 'node_7_pressure', 'node_28_demand', 'node_19_demand', 'node_25_demand', 'link_18_flow', 'link_22_flow', 'node_31_pressure', 'link_9_flow', 'link_3_flow', 'node_29_pressure', 'link_4_flow', 'node_4_demand', 'node_8_demand', 'node_17_pressure', 'node_23_pressure', 'node_18_demand']]\n",
      "starting df shape: (87600, 17)\n",
      "This is training run 10 and has the shape:  (87600, 17)\n",
      "The value of dropped columns is 80\n"
     ]
    },
    {
     "name": "stderr",
     "output_type": "stream",
     "text": [
      "/Users/alexellard/opt/anaconda3/lib/python3.7/site-packages/xgboost/data.py:96: UserWarning: Use subset (sliced data) of np.ndarray is not recommended because it will generate extra copies and increase memory consumption\n",
      "  \"because it will generate extra copies and increase \" +\n"
     ]
    },
    {
     "name": "stdout",
     "output_type": "stream",
     "text": [
      "test y shape : (17520, 1)\n",
      "Inv y shape : (17520, 17)\n",
      "y pred shape : (17520, 1)\n",
      "inv y pred : (17520, 17)\n",
      "Run 10 Mean Absolute Error: 1.1912977517645298\n",
      "RMSE: 1.709\n",
      "R^2: 0.999\n"
     ]
    }
   ],
   "source": [
    "#Run pressure node 16\n",
    "\n",
    "MAE_average_16 = []\n",
    "RMSE_average_16 = []\n",
    "R2_average_16 = []\n",
    "maximum_MAE_16 = []\n",
    "sensors_covered = []\n",
    "n_columns_to_drop = [0, 5, 10, 15, 20, 25, 30, 35, 40, 45, 50, 55, 60, 65, 70, 75, 80]\n",
    "for n in n_columns_to_drop:\n",
    "    MAE_16 = []\n",
    "    RMSE_16 = []\n",
    "    R2_16 = []\n",
    "    for run in range(1,11):\n",
    "        Y = df[df.columns[48]]\n",
    "        X = df.drop(columns=['node_16_pressure'])\n",
    "        X['node_16_pressure'] = Y\n",
    "        columns = []\n",
    "        columns_to_drop = random.sample(list(X.columns), n)\n",
    "        # Drop the selected columns from the dataframe\n",
    "        if X.columns[-1] in columns_to_drop:\n",
    "            columns_to_drop.remove(X.columns[-1])\n",
    "        X.drop(columns_to_drop, axis=1, inplace=True)\n",
    "        columns.append(columns_to_drop)\n",
    "        print(columns)\n",
    "        print('starting df shape:', X.shape)\n",
    "        print(f'This is training run {run} and has the shape: ', X.shape)\n",
    "        print(f'The value of dropped columns is {n}')\n",
    "\n",
    "        # split into train and test sets\n",
    "        values = X.values\n",
    "        scaler = MinMaxScaler(feature_range=(0, 1))\n",
    "        scaled = scaler.fit_transform(values)\n",
    "        train, test = train_test_split(scaled, test_size=0.2, random_state=0)\n",
    "\n",
    "        # split into input and outputs\n",
    "        train_X, train_y = train[:, :-1], train[:, -1]\n",
    "        test_X, test_y = test[:, :-1], test[:, -1]\n",
    "\n",
    "        #define model\n",
    "        model = xgb.XGBRegressor(\n",
    "            objective='reg:squarederror',\n",
    "            n_estimators=100,\n",
    "            max_depth=6,\n",
    "            learning_rate=0.1,\n",
    "            subsample=0.9,\n",
    "            colsample_bytree=0.8,\n",
    "            random_state=42\n",
    "        )\n",
    "\n",
    "        # fit the model on the training data\n",
    "        model.fit(train_X, train_y)\n",
    "\n",
    "        # make predictions on the test data\n",
    "        y_pred = model.predict(test_X)\n",
    "\n",
    "        test_y = test_y.reshape((len(test_y), 1))\n",
    "        print('test y shape :', test_y.shape)\n",
    "        inv_test_y = concatenate((test_y, test_X[:, -X.shape[1]:]), axis=1)\n",
    "        print('Inv y shape :', inv_test_y.shape)\n",
    "        test_y_inverse = scaler.inverse_transform(inv_test_y)\n",
    "        test_y_inverse = test_y_inverse[:,0]\n",
    "        \n",
    "        y_pred = y_pred.reshape((len(y_pred), 1))\n",
    "        print('y pred shape :', y_pred.shape)\n",
    "        inv_y_pred = concatenate((y_pred, test_X[:, -X.shape[1]:]), axis=1)\n",
    "        print('inv y pred :', inv_y_pred.shape)\n",
    "        y_pred_inverse = scaler.inverse_transform(inv_y_pred)\n",
    "        y_pred_inverse = y_pred_inverse[:,0]\n",
    "\n",
    "        # evaluate scaled errors\n",
    "        mae_inverse = mean_absolute_error(test_y_inverse, y_pred_inverse)\n",
    "        MAE_16.append(mae_inverse)\n",
    "        print(f'Run {run} Mean Absolute Error:', mae_inverse)\n",
    "        rmse_inverse = sqrt(mean_squared_error(test_y_inverse, y_pred_inverse))\n",
    "        RMSE_16.append(rmse_inverse)\n",
    "        print('RMSE: %.3f' % rmse_inverse)\n",
    "        r2_inverse = r2_score(test_y_inverse, y_pred_inverse)\n",
    "        R2_16.append(r2_inverse)\n",
    "        print('R^2: %.3f' % r2_inverse)\n",
    "    percentage_list = round(X.shape[1] / 96 * 100)\n",
    "    sensors_covered.append(percentage_list)\n",
    "    MAE_mean = mean(MAE_16)\n",
    "    RMSE_mean = mean(RMSE_16)\n",
    "    R2_mean = mean(R2_16)\n",
    "    max_MAE = max(MAE_16)\n",
    "    maximum_MAE_16.append(max_MAE)\n",
    "    MAE_average_16.append(MAE_mean)\n",
    "    RMSE_average_16.append(RMSE_mean)\n",
    "    R2_average_16.append(R2_mean)"
   ]
  },
  {
   "cell_type": "code",
   "execution_count": 18,
   "metadata": {},
   "outputs": [
    {
     "data": {
      "image/png": "[encoded data removed]",
      "text/plain": [
       "<Figure size 432x288 with 1 Axes>"
      ]
     },
     "metadata": {
      "needs_background": "light"
     },
     "output_type": "display_data"
    }
   ],
   "source": [
    "#run this after cell above finishes training \n",
    "plt.plot(sensors_covered, R2_average_16)\n",
    "plt.ylabel(\"Mean Absolute Error\")\n",
    "plt.xlabel(\"Sensor Cover %\")\n",
    "plt.title(\"MAE vs. Coverage Pressure Node 16\")\n",
    "plt.show()"
   ]
  },
  {
   "cell_type": "code",
   "execution_count": 22,
   "metadata": {},
   "outputs": [
    {
     "data": {
      "image/png": "[encoded data removed]",
      "text/plain": [
       "<Figure size 432x288 with 1 Axes>"
      ]
     },
     "metadata": {
      "needs_background": "light"
     },
     "output_type": "display_data"
    }
   ],
   "source": [
    "#run this after cell above finishes training \n",
    "plt.plot(sensors_covered, MAE_average_16)\n",
    "plt.ylabel(\"Mean Absolute Error\")\n",
    "plt.xlabel(\"Sensor Cover %\")\n",
    "plt.title(\"MAE vs. Coverage Pressure Node 16\")\n",
    "plt.show()"
   ]
  },
  {
   "cell_type": "code",
   "execution_count": null,
   "metadata": {},
   "outputs": [],
   "source": []
  }
 ],
 "metadata": {
  "kernelspec": {
   "display_name": "Python 3",
   "language": "python",
   "name": "python3"
  },
  "language_info": {
   "codemirror_mode": {
    "name": "ipython",
    "version": 3
   },
   "file_extension": ".py",
   "mimetype": "text/x-python",
   "name": "python",
   "nbconvert_exporter": "python",
   "pygments_lexer": "ipython3",
   "version": "3.7.4"
  }
 },
 "nbformat": 4,
 "nbformat_minor": 2
}
