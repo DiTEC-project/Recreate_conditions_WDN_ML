{
 "cells": [
  {
   "cell_type": "code",
   "execution_count": 1,
   "metadata": {},
   "outputs": [
    {
     "name": "stderr",
     "output_type": "stream",
     "text": [
      "/Users/alexellard/opt/anaconda3/lib/python3.7/site-packages/dask/dataframe/utils.py:14: FutureWarning: pandas.util.testing is deprecated. Use the functions in the public API at pandas.testing instead.\n",
      "  import pandas.util.testing as tm\n"
     ]
    }
   ],
   "source": [
    "import xgboost as xgb\n",
    "import pandas as pd\n",
    "import numpy as np\n",
    "from sklearn.preprocessing import LabelEncoder\n",
    "from sklearn.preprocessing import MinMaxScaler\n",
    "from sklearn.model_selection import train_test_split\n",
    "from sklearn.metrics import mean_squared_error, mean_absolute_error, r2_score\n",
    "from numpy import concatenate\n",
    "from math import sqrt\n",
    "from statistics import mean\n",
    "import random\n",
    "import matplotlib.pyplot as plt"
   ]
  },
  {
   "cell_type": "code",
   "execution_count": 2,
   "metadata": {},
   "outputs": [
    {
     "data": {
      "text/html": [
       "<div>\n",
       "<style scoped>\n",
       "    .dataframe tbody tr th:only-of-type {\n",
       "        vertical-align: middle;\n",
       "    }\n",
       "\n",
       "    .dataframe tbody tr th {\n",
       "        vertical-align: top;\n",
       "    }\n",
       "\n",
       "    .dataframe thead th {\n",
       "        text-align: right;\n",
       "    }\n",
       "</style>\n",
       "<table border=\"1\" class=\"dataframe\">\n",
       "  <thead>\n",
       "    <tr style=\"text-align: right;\">\n",
       "      <th></th>\n",
       "      <th>reservoir_demand</th>\n",
       "      <th>node_1_demand</th>\n",
       "      <th>node_2_demand</th>\n",
       "      <th>node_3_demand</th>\n",
       "      <th>node_4_demand</th>\n",
       "      <th>node_5_demand</th>\n",
       "      <th>node_6_demand</th>\n",
       "      <th>node_7_demand</th>\n",
       "      <th>node_8_demand</th>\n",
       "      <th>node_9_demand</th>\n",
       "      <th>...</th>\n",
       "      <th>link_23_flow</th>\n",
       "      <th>link_24_flow</th>\n",
       "      <th>link_25_flow</th>\n",
       "      <th>link_26_flow</th>\n",
       "      <th>link_27_flow</th>\n",
       "      <th>link_28_flow</th>\n",
       "      <th>link_29_flow</th>\n",
       "      <th>link_30_flow</th>\n",
       "      <th>link_31_flow</th>\n",
       "      <th>link_32_flow</th>\n",
       "    </tr>\n",
       "    <tr>\n",
       "      <th>Timestamp</th>\n",
       "      <th></th>\n",
       "      <th></th>\n",
       "      <th></th>\n",
       "      <th></th>\n",
       "      <th></th>\n",
       "      <th></th>\n",
       "      <th></th>\n",
       "      <th></th>\n",
       "      <th></th>\n",
       "      <th></th>\n",
       "      <th></th>\n",
       "      <th></th>\n",
       "      <th></th>\n",
       "      <th></th>\n",
       "      <th></th>\n",
       "      <th></th>\n",
       "      <th></th>\n",
       "      <th></th>\n",
       "      <th></th>\n",
       "      <th></th>\n",
       "      <th></th>\n",
       "    </tr>\n",
       "  </thead>\n",
       "  <tbody>\n",
       "    <tr>\n",
       "      <th>2017-01-01 00:00:00</th>\n",
       "      <td>-3348.0</td>\n",
       "      <td>154.8</td>\n",
       "      <td>169.2</td>\n",
       "      <td>18.0</td>\n",
       "      <td>118.8</td>\n",
       "      <td>169.2</td>\n",
       "      <td>234.0</td>\n",
       "      <td>86.4</td>\n",
       "      <td>82.8</td>\n",
       "      <td>104.4</td>\n",
       "      <td>...</td>\n",
       "      <td>439.2</td>\n",
       "      <td>-205.2</td>\n",
       "      <td>-75.6</td>\n",
       "      <td>-18.0</td>\n",
       "      <td>118.8</td>\n",
       "      <td>68.4</td>\n",
       "      <td>7.2</td>\n",
       "      <td>-54.0</td>\n",
       "      <td>75.6</td>\n",
       "      <td>212.4</td>\n",
       "    </tr>\n",
       "    <tr>\n",
       "      <th>2017-01-01 00:30:00</th>\n",
       "      <td>-2959.2</td>\n",
       "      <td>136.8</td>\n",
       "      <td>147.6</td>\n",
       "      <td>18.0</td>\n",
       "      <td>108.0</td>\n",
       "      <td>144.0</td>\n",
       "      <td>237.6</td>\n",
       "      <td>79.2</td>\n",
       "      <td>75.6</td>\n",
       "      <td>90.0</td>\n",
       "      <td>...</td>\n",
       "      <td>392.4</td>\n",
       "      <td>-187.2</td>\n",
       "      <td>-72.0</td>\n",
       "      <td>-21.6</td>\n",
       "      <td>108.0</td>\n",
       "      <td>61.2</td>\n",
       "      <td>3.6</td>\n",
       "      <td>-54.0</td>\n",
       "      <td>72.0</td>\n",
       "      <td>183.6</td>\n",
       "    </tr>\n",
       "    <tr>\n",
       "      <th>2017-01-01 01:00:00</th>\n",
       "      <td>-2692.8</td>\n",
       "      <td>129.6</td>\n",
       "      <td>126.0</td>\n",
       "      <td>14.4</td>\n",
       "      <td>104.4</td>\n",
       "      <td>133.2</td>\n",
       "      <td>205.2</td>\n",
       "      <td>72.0</td>\n",
       "      <td>72.0</td>\n",
       "      <td>90.0</td>\n",
       "      <td>...</td>\n",
       "      <td>349.2</td>\n",
       "      <td>-176.4</td>\n",
       "      <td>-64.8</td>\n",
       "      <td>-18.0</td>\n",
       "      <td>93.6</td>\n",
       "      <td>50.4</td>\n",
       "      <td>3.6</td>\n",
       "      <td>-39.6</td>\n",
       "      <td>54.0</td>\n",
       "      <td>151.2</td>\n",
       "    </tr>\n",
       "    <tr>\n",
       "      <th>2017-01-01 01:30:00</th>\n",
       "      <td>-2379.6</td>\n",
       "      <td>104.4</td>\n",
       "      <td>100.8</td>\n",
       "      <td>10.8</td>\n",
       "      <td>86.4</td>\n",
       "      <td>122.4</td>\n",
       "      <td>180.0</td>\n",
       "      <td>68.4</td>\n",
       "      <td>57.6</td>\n",
       "      <td>82.8</td>\n",
       "      <td>...</td>\n",
       "      <td>316.8</td>\n",
       "      <td>-158.4</td>\n",
       "      <td>-54.0</td>\n",
       "      <td>-10.8</td>\n",
       "      <td>79.2</td>\n",
       "      <td>46.8</td>\n",
       "      <td>7.2</td>\n",
       "      <td>-32.4</td>\n",
       "      <td>50.4</td>\n",
       "      <td>140.4</td>\n",
       "    </tr>\n",
       "    <tr>\n",
       "      <th>2017-01-01 02:00:00</th>\n",
       "      <td>-2228.4</td>\n",
       "      <td>104.4</td>\n",
       "      <td>104.4</td>\n",
       "      <td>10.8</td>\n",
       "      <td>79.2</td>\n",
       "      <td>122.4</td>\n",
       "      <td>183.6</td>\n",
       "      <td>68.4</td>\n",
       "      <td>54.0</td>\n",
       "      <td>75.6</td>\n",
       "      <td>...</td>\n",
       "      <td>277.2</td>\n",
       "      <td>-144.0</td>\n",
       "      <td>-57.6</td>\n",
       "      <td>-18.0</td>\n",
       "      <td>72.0</td>\n",
       "      <td>39.6</td>\n",
       "      <td>7.2</td>\n",
       "      <td>-32.4</td>\n",
       "      <td>43.2</td>\n",
       "      <td>118.8</td>\n",
       "    </tr>\n",
       "    <tr>\n",
       "      <th>...</th>\n",
       "      <td>...</td>\n",
       "      <td>...</td>\n",
       "      <td>...</td>\n",
       "      <td>...</td>\n",
       "      <td>...</td>\n",
       "      <td>...</td>\n",
       "      <td>...</td>\n",
       "      <td>...</td>\n",
       "      <td>...</td>\n",
       "      <td>...</td>\n",
       "      <td>...</td>\n",
       "      <td>...</td>\n",
       "      <td>...</td>\n",
       "      <td>...</td>\n",
       "      <td>...</td>\n",
       "      <td>...</td>\n",
       "      <td>...</td>\n",
       "      <td>...</td>\n",
       "      <td>...</td>\n",
       "      <td>...</td>\n",
       "      <td>...</td>\n",
       "    </tr>\n",
       "    <tr>\n",
       "      <th>2017-12-31 21:30:00</th>\n",
       "      <td>-5306.4</td>\n",
       "      <td>205.2</td>\n",
       "      <td>208.8</td>\n",
       "      <td>39.6</td>\n",
       "      <td>183.6</td>\n",
       "      <td>284.4</td>\n",
       "      <td>316.8</td>\n",
       "      <td>176.4</td>\n",
       "      <td>133.2</td>\n",
       "      <td>129.6</td>\n",
       "      <td>...</td>\n",
       "      <td>604.8</td>\n",
       "      <td>-259.2</td>\n",
       "      <td>32.4</td>\n",
       "      <td>115.2</td>\n",
       "      <td>169.2</td>\n",
       "      <td>100.8</td>\n",
       "      <td>10.8</td>\n",
       "      <td>-100.8</td>\n",
       "      <td>122.4</td>\n",
       "      <td>309.6</td>\n",
       "    </tr>\n",
       "    <tr>\n",
       "      <th>2017-12-31 22:00:00</th>\n",
       "      <td>-4910.4</td>\n",
       "      <td>208.8</td>\n",
       "      <td>183.6</td>\n",
       "      <td>39.6</td>\n",
       "      <td>154.8</td>\n",
       "      <td>252.0</td>\n",
       "      <td>295.2</td>\n",
       "      <td>165.6</td>\n",
       "      <td>133.2</td>\n",
       "      <td>133.2</td>\n",
       "      <td>...</td>\n",
       "      <td>565.2</td>\n",
       "      <td>-241.2</td>\n",
       "      <td>21.6</td>\n",
       "      <td>100.8</td>\n",
       "      <td>154.8</td>\n",
       "      <td>86.4</td>\n",
       "      <td>18.0</td>\n",
       "      <td>-75.6</td>\n",
       "      <td>100.8</td>\n",
       "      <td>288.0</td>\n",
       "    </tr>\n",
       "    <tr>\n",
       "      <th>2017-12-31 22:30:00</th>\n",
       "      <td>-4683.6</td>\n",
       "      <td>187.2</td>\n",
       "      <td>183.6</td>\n",
       "      <td>36.0</td>\n",
       "      <td>147.6</td>\n",
       "      <td>230.4</td>\n",
       "      <td>320.4</td>\n",
       "      <td>147.6</td>\n",
       "      <td>118.8</td>\n",
       "      <td>126.0</td>\n",
       "      <td>...</td>\n",
       "      <td>529.2</td>\n",
       "      <td>-226.8</td>\n",
       "      <td>21.6</td>\n",
       "      <td>100.8</td>\n",
       "      <td>147.6</td>\n",
       "      <td>86.4</td>\n",
       "      <td>14.4</td>\n",
       "      <td>-86.4</td>\n",
       "      <td>108.0</td>\n",
       "      <td>266.4</td>\n",
       "    </tr>\n",
       "    <tr>\n",
       "      <th>2017-12-31 23:00:00</th>\n",
       "      <td>-4262.4</td>\n",
       "      <td>180.0</td>\n",
       "      <td>165.6</td>\n",
       "      <td>32.4</td>\n",
       "      <td>136.8</td>\n",
       "      <td>223.2</td>\n",
       "      <td>241.2</td>\n",
       "      <td>147.6</td>\n",
       "      <td>115.2</td>\n",
       "      <td>111.6</td>\n",
       "      <td>...</td>\n",
       "      <td>496.8</td>\n",
       "      <td>-208.8</td>\n",
       "      <td>21.6</td>\n",
       "      <td>93.6</td>\n",
       "      <td>133.2</td>\n",
       "      <td>79.2</td>\n",
       "      <td>14.4</td>\n",
       "      <td>-75.6</td>\n",
       "      <td>97.2</td>\n",
       "      <td>255.6</td>\n",
       "    </tr>\n",
       "    <tr>\n",
       "      <th>2017-12-31 23:30:00</th>\n",
       "      <td>-3808.8</td>\n",
       "      <td>176.4</td>\n",
       "      <td>169.2</td>\n",
       "      <td>25.2</td>\n",
       "      <td>122.4</td>\n",
       "      <td>201.6</td>\n",
       "      <td>241.2</td>\n",
       "      <td>122.4</td>\n",
       "      <td>100.8</td>\n",
       "      <td>93.6</td>\n",
       "      <td>...</td>\n",
       "      <td>421.2</td>\n",
       "      <td>-180.0</td>\n",
       "      <td>28.8</td>\n",
       "      <td>86.4</td>\n",
       "      <td>118.8</td>\n",
       "      <td>68.4</td>\n",
       "      <td>10.8</td>\n",
       "      <td>-68.4</td>\n",
       "      <td>86.4</td>\n",
       "      <td>216.0</td>\n",
       "    </tr>\n",
       "  </tbody>\n",
       "</table>\n",
       "<p>87600 rows × 96 columns</p>\n",
       "</div>"
      ],
      "text/plain": [
       "                     reservoir_demand  node_1_demand  node_2_demand  \\\n",
       "Timestamp                                                             \n",
       "2017-01-01 00:00:00           -3348.0          154.8          169.2   \n",
       "2017-01-01 00:30:00           -2959.2          136.8          147.6   \n",
       "2017-01-01 01:00:00           -2692.8          129.6          126.0   \n",
       "2017-01-01 01:30:00           -2379.6          104.4          100.8   \n",
       "2017-01-01 02:00:00           -2228.4          104.4          104.4   \n",
       "...                               ...            ...            ...   \n",
       "2017-12-31 21:30:00           -5306.4          205.2          208.8   \n",
       "2017-12-31 22:00:00           -4910.4          208.8          183.6   \n",
       "2017-12-31 22:30:00           -4683.6          187.2          183.6   \n",
       "2017-12-31 23:00:00           -4262.4          180.0          165.6   \n",
       "2017-12-31 23:30:00           -3808.8          176.4          169.2   \n",
       "\n",
       "                     node_3_demand  node_4_demand  node_5_demand  \\\n",
       "Timestamp                                                          \n",
       "2017-01-01 00:00:00           18.0          118.8          169.2   \n",
       "2017-01-01 00:30:00           18.0          108.0          144.0   \n",
       "2017-01-01 01:00:00           14.4          104.4          133.2   \n",
       "2017-01-01 01:30:00           10.8           86.4          122.4   \n",
       "2017-01-01 02:00:00           10.8           79.2          122.4   \n",
       "...                            ...            ...            ...   \n",
       "2017-12-31 21:30:00           39.6          183.6          284.4   \n",
       "2017-12-31 22:00:00           39.6          154.8          252.0   \n",
       "2017-12-31 22:30:00           36.0          147.6          230.4   \n",
       "2017-12-31 23:00:00           32.4          136.8          223.2   \n",
       "2017-12-31 23:30:00           25.2          122.4          201.6   \n",
       "\n",
       "                     node_6_demand  node_7_demand  node_8_demand  \\\n",
       "Timestamp                                                          \n",
       "2017-01-01 00:00:00          234.0           86.4           82.8   \n",
       "2017-01-01 00:30:00          237.6           79.2           75.6   \n",
       "2017-01-01 01:00:00          205.2           72.0           72.0   \n",
       "2017-01-01 01:30:00          180.0           68.4           57.6   \n",
       "2017-01-01 02:00:00          183.6           68.4           54.0   \n",
       "...                            ...            ...            ...   \n",
       "2017-12-31 21:30:00          316.8          176.4          133.2   \n",
       "2017-12-31 22:00:00          295.2          165.6          133.2   \n",
       "2017-12-31 22:30:00          320.4          147.6          118.8   \n",
       "2017-12-31 23:00:00          241.2          147.6          115.2   \n",
       "2017-12-31 23:30:00          241.2          122.4          100.8   \n",
       "\n",
       "                     node_9_demand  ...  link_23_flow  link_24_flow  \\\n",
       "Timestamp                           ...                               \n",
       "2017-01-01 00:00:00          104.4  ...         439.2        -205.2   \n",
       "2017-01-01 00:30:00           90.0  ...         392.4        -187.2   \n",
       "2017-01-01 01:00:00           90.0  ...         349.2        -176.4   \n",
       "2017-01-01 01:30:00           82.8  ...         316.8        -158.4   \n",
       "2017-01-01 02:00:00           75.6  ...         277.2        -144.0   \n",
       "...                            ...  ...           ...           ...   \n",
       "2017-12-31 21:30:00          129.6  ...         604.8        -259.2   \n",
       "2017-12-31 22:00:00          133.2  ...         565.2        -241.2   \n",
       "2017-12-31 22:30:00          126.0  ...         529.2        -226.8   \n",
       "2017-12-31 23:00:00          111.6  ...         496.8        -208.8   \n",
       "2017-12-31 23:30:00           93.6  ...         421.2        -180.0   \n",
       "\n",
       "                     link_25_flow  link_26_flow  link_27_flow  link_28_flow  \\\n",
       "Timestamp                                                                     \n",
       "2017-01-01 00:00:00         -75.6         -18.0         118.8          68.4   \n",
       "2017-01-01 00:30:00         -72.0         -21.6         108.0          61.2   \n",
       "2017-01-01 01:00:00         -64.8         -18.0          93.6          50.4   \n",
       "2017-01-01 01:30:00         -54.0         -10.8          79.2          46.8   \n",
       "2017-01-01 02:00:00         -57.6         -18.0          72.0          39.6   \n",
       "...                           ...           ...           ...           ...   \n",
       "2017-12-31 21:30:00          32.4         115.2         169.2         100.8   \n",
       "2017-12-31 22:00:00          21.6         100.8         154.8          86.4   \n",
       "2017-12-31 22:30:00          21.6         100.8         147.6          86.4   \n",
       "2017-12-31 23:00:00          21.6          93.6         133.2          79.2   \n",
       "2017-12-31 23:30:00          28.8          86.4         118.8          68.4   \n",
       "\n",
       "                     link_29_flow  link_30_flow  link_31_flow  link_32_flow  \n",
       "Timestamp                                                                    \n",
       "2017-01-01 00:00:00           7.2         -54.0          75.6         212.4  \n",
       "2017-01-01 00:30:00           3.6         -54.0          72.0         183.6  \n",
       "2017-01-01 01:00:00           3.6         -39.6          54.0         151.2  \n",
       "2017-01-01 01:30:00           7.2         -32.4          50.4         140.4  \n",
       "2017-01-01 02:00:00           7.2         -32.4          43.2         118.8  \n",
       "...                           ...           ...           ...           ...  \n",
       "2017-12-31 21:30:00          10.8        -100.8         122.4         309.6  \n",
       "2017-12-31 22:00:00          18.0         -75.6         100.8         288.0  \n",
       "2017-12-31 22:30:00          14.4         -86.4         108.0         266.4  \n",
       "2017-12-31 23:00:00          14.4         -75.6          97.2         255.6  \n",
       "2017-12-31 23:30:00          10.8         -68.4          86.4         216.0  \n",
       "\n",
       "[87600 rows x 96 columns]"
      ]
     },
     "execution_count": 2,
     "metadata": {},
     "output_type": "execute_result"
    }
   ],
   "source": [
    "df = pd.read_csv('/Users/alexellard/Downloads/scenarios_data.csv', header=0, index_col=0)\n",
    "df"
   ]
  },
  {
   "cell_type": "code",
   "execution_count": 9,
   "metadata": {},
   "outputs": [
    {
     "name": "stdout",
     "output_type": "stream",
     "text": [
      "[[]]\n",
      "starting df shape: (87600, 96)\n",
      "This is training run 1 and has the shape:  (87600, 96)\n",
      "The value of dropped columns is 0\n",
      "[[]]\n",
      "starting df shape: (87600, 96)\n",
      "This is training run 2 and has the shape:  (87600, 96)\n",
      "The value of dropped columns is 0\n",
      "[[]]\n",
      "starting df shape: (87600, 96)\n",
      "This is training run 3 and has the shape:  (87600, 96)\n",
      "The value of dropped columns is 0\n",
      "[[]]\n",
      "starting df shape: (87600, 96)\n",
      "This is training run 4 and has the shape:  (87600, 96)\n",
      "The value of dropped columns is 0\n",
      "[[]]\n",
      "starting df shape: (87600, 96)\n",
      "This is training run 5 and has the shape:  (87600, 96)\n",
      "The value of dropped columns is 0\n",
      "[[]]\n",
      "starting df shape: (87600, 96)\n",
      "This is training run 6 and has the shape:  (87600, 96)\n",
      "The value of dropped columns is 0\n",
      "[[]]\n",
      "starting df shape: (87600, 96)\n",
      "This is training run 7 and has the shape:  (87600, 96)\n",
      "The value of dropped columns is 0\n",
      "[[]]\n",
      "starting df shape: (87600, 96)\n",
      "This is training run 8 and has the shape:  (87600, 96)\n",
      "The value of dropped columns is 0\n",
      "[[]]\n",
      "starting df shape: (87600, 96)\n",
      "This is training run 9 and has the shape:  (87600, 96)\n",
      "The value of dropped columns is 0\n",
      "[[]]\n",
      "starting df shape: (87600, 96)\n",
      "This is training run 10 and has the shape:  (87600, 96)\n",
      "The value of dropped columns is 0\n",
      "[['node_10_pressure', 'link_10_flow', 'node_19_demand', 'link_31_flow', 'node_13_pressure']]\n",
      "starting df shape: (87600, 91)\n",
      "This is training run 1 and has the shape:  (87600, 91)\n",
      "The value of dropped columns is 5\n",
      "[['link_27_flow', 'node_26_demand', 'node_23_pressure', 'node_30_pressure', 'node_7_demand']]\n",
      "starting df shape: (87600, 91)\n",
      "This is training run 2 and has the shape:  (87600, 91)\n",
      "The value of dropped columns is 5\n",
      "[['link_14_flow', 'node_13_pressure', 'node_20_pressure', 'node_14_demand', 'node_26_demand']]\n",
      "starting df shape: (87600, 91)\n",
      "This is training run 3 and has the shape:  (87600, 91)\n",
      "The value of dropped columns is 5\n",
      "[['link_12_flow', 'link_30_flow', 'node_9_pressure', 'link_17_flow', 'link_31_flow']]\n",
      "starting df shape: (87600, 91)\n",
      "This is training run 4 and has the shape:  (87600, 91)\n",
      "The value of dropped columns is 5\n",
      "[['node_3_demand', 'link_18_flow', 'node_16_pressure', 'node_20_demand', 'node_15_demand']]\n",
      "starting df shape: (87600, 91)\n",
      "This is training run 5 and has the shape:  (87600, 91)\n",
      "The value of dropped columns is 5\n",
      "[['node_9_pressure', 'node_15_pressure', 'link_1_flow', 'link_18_flow', 'node_8_demand']]\n",
      "starting df shape: (87600, 91)\n",
      "This is training run 6 and has the shape:  (87600, 91)\n",
      "The value of dropped columns is 5\n",
      "[['link_6_flow', 'link_16_flow', 'link_19_flow', 'reservoir_pressure', 'node_13_demand']]\n",
      "starting df shape: (87600, 91)\n",
      "This is training run 7 and has the shape:  (87600, 91)\n",
      "The value of dropped columns is 5\n",
      "[['node_28_pressure', 'node_25_pressure', 'link_11_flow', 'node_13_demand', 'node_23_demand']]\n",
      "starting df shape: (87600, 91)\n",
      "This is training run 8 and has the shape:  (87600, 91)\n",
      "The value of dropped columns is 5\n",
      "[['node_13_pressure', 'link_22_flow', 'node_25_pressure', 'link_7_flow', 'node_27_pressure']]\n",
      "starting df shape: (87600, 91)\n",
      "This is training run 9 and has the shape:  (87600, 91)\n",
      "The value of dropped columns is 5\n",
      "[['node_22_pressure', 'link_23_flow', 'node_24_demand', 'link_22_flow', 'node_12_pressure']]\n",
      "starting df shape: (87600, 91)\n",
      "This is training run 10 and has the shape:  (87600, 91)\n",
      "The value of dropped columns is 5\n",
      "[['link_3_flow', 'node_18_pressure', 'node_30_pressure', 'node_26_demand', 'link_32_flow', 'node_27_demand', 'node_31_pressure', 'node_20_pressure', 'node_12_demand', 'node_24_demand']]\n",
      "starting df shape: (87600, 86)\n",
      "This is training run 1 and has the shape:  (87600, 86)\n",
      "The value of dropped columns is 10\n",
      "[['link_9_flow', 'node_22_pressure', 'link_17_flow', 'link_3_flow', 'node_4_demand', 'link_11_flow', 'node_5_pressure', 'node_15_demand', 'link_2_flow', 'node_15_pressure']]\n",
      "starting df shape: (87600, 86)\n",
      "This is training run 2 and has the shape:  (87600, 86)\n",
      "The value of dropped columns is 10\n",
      "[['link_31_flow', 'node_28_pressure', 'node_27_demand', 'node_25_pressure', 'link_29_flow', 'node_29_demand', 'node_14_demand', 'node_3_demand', 'node_6_demand', 'node_15_pressure']]\n",
      "starting df shape: (87600, 86)\n",
      "This is training run 3 and has the shape:  (87600, 86)\n",
      "The value of dropped columns is 10\n",
      "[['link_10_flow', 'node_25_demand', 'node_21_demand', 'link_9_flow', 'link_23_flow', 'link_16_flow', 'node_26_demand', 'link_1_flow', 'link_20_flow', 'node_12_pressure']]\n",
      "starting df shape: (87600, 86)\n",
      "This is training run 4 and has the shape:  (87600, 86)\n",
      "The value of dropped columns is 10\n",
      "[['link_1_flow', 'node_1_pressure', 'link_17_flow', 'node_25_demand', 'node_12_pressure', 'node_8_demand', 'node_14_demand', 'link_23_flow', 'link_7_flow', 'link_5_flow']]\n",
      "starting df shape: (87600, 86)\n",
      "This is training run 5 and has the shape:  (87600, 86)\n",
      "The value of dropped columns is 10\n",
      "[['node_7_demand', 'node_1_pressure', 'node_30_demand', 'node_4_demand', 'link_9_flow', 'node_4_pressure', 'node_9_pressure', 'link_19_flow', 'node_26_demand', 'link_16_flow']]\n",
      "starting df shape: (87600, 86)\n",
      "This is training run 6 and has the shape:  (87600, 86)\n",
      "The value of dropped columns is 10\n",
      "[['link_32_flow', 'reservoir_pressure', 'node_26_pressure', 'node_17_demand', 'link_7_flow', 'link_28_flow', 'node_18_pressure', 'node_5_pressure', 'node_10_demand', 'node_13_demand']]\n",
      "starting df shape: (87600, 86)\n",
      "This is training run 7 and has the shape:  (87600, 86)\n",
      "The value of dropped columns is 10\n",
      "[['node_14_pressure', 'node_29_demand', 'link_25_flow', 'link_12_flow', 'node_19_demand', 'node_21_demand', 'link_22_flow', 'link_13_flow', 'link_31_flow', 'link_6_flow']]\n",
      "starting df shape: (87600, 86)\n",
      "This is training run 8 and has the shape:  (87600, 86)\n",
      "The value of dropped columns is 10\n",
      "[['node_20_demand', 'node_8_demand', 'link_14_flow', 'node_18_demand', 'node_21_demand', 'node_31_demand', 'reservoir_demand', 'node_5_pressure', 'link_5_flow', 'node_22_pressure']]\n",
      "starting df shape: (87600, 86)\n",
      "This is training run 9 and has the shape:  (87600, 86)\n",
      "The value of dropped columns is 10\n",
      "[['node_6_pressure', 'node_27_demand', 'link_30_flow', 'node_10_pressure', 'node_28_pressure', 'node_23_demand', 'node_27_pressure', 'node_31_demand', 'node_30_demand']]\n",
      "starting df shape: (87600, 87)\n",
      "This is training run 10 and has the shape:  (87600, 87)\n",
      "The value of dropped columns is 10\n",
      "[['link_31_flow', 'node_5_demand', 'link_19_flow', 'node_5_pressure', 'node_6_pressure', 'node_3_pressure', 'node_8_pressure', 'link_16_flow', 'node_3_demand', 'node_10_demand', 'node_14_pressure', 'node_27_demand', 'link_6_flow', 'node_18_pressure', 'link_24_flow']]\n",
      "starting df shape: (87600, 81)\n",
      "This is training run 1 and has the shape:  (87600, 81)\n",
      "The value of dropped columns is 15\n",
      "[['link_11_flow', 'link_9_flow', 'node_9_demand', 'node_11_pressure', 'node_31_demand', 'reservoir_demand', 'node_20_demand', 'node_12_demand', 'link_24_flow', 'node_14_pressure', 'node_10_pressure', 'node_21_pressure', 'link_20_flow', 'node_8_pressure', 'link_23_flow']]\n",
      "starting df shape: (87600, 81)\n",
      "This is training run 2 and has the shape:  (87600, 81)\n",
      "The value of dropped columns is 15\n",
      "[['node_26_pressure', 'node_5_demand', 'link_25_flow', 'node_30_demand', 'node_22_pressure', 'link_21_flow', 'node_20_demand', 'node_22_demand', 'node_21_demand', 'node_2_pressure', 'reservoir_pressure', 'link_18_flow', 'node_8_pressure', 'node_14_pressure', 'node_14_demand']]\n",
      "starting df shape: (87600, 81)\n",
      "This is training run 3 and has the shape:  (87600, 81)\n",
      "The value of dropped columns is 15\n",
      "[['link_22_flow', 'node_18_demand', 'link_32_flow', 'node_9_demand', 'node_29_demand', 'link_31_flow', 'node_4_demand', 'node_21_pressure', 'link_16_flow', 'node_11_demand', 'node_21_demand', 'link_21_flow', 'node_10_demand', 'node_19_demand', 'node_31_pressure']]\n",
      "starting df shape: (87600, 81)\n",
      "This is training run 4 and has the shape:  (87600, 81)\n",
      "The value of dropped columns is 15\n",
      "[['node_18_pressure', 'node_17_demand', 'link_22_flow', 'node_25_pressure', 'node_28_pressure', 'link_3_flow', 'link_5_flow', 'reservoir_demand', 'node_8_demand', 'reservoir_pressure', 'node_9_pressure', 'node_29_pressure', 'node_28_demand', 'node_21_demand', 'node_1_demand']]\n",
      "starting df shape: (87600, 81)\n",
      "This is training run 5 and has the shape:  (87600, 81)\n",
      "The value of dropped columns is 15\n"
     ]
    },
    {
     "name": "stdout",
     "output_type": "stream",
     "text": [
      "[['link_24_flow', 'node_22_demand', 'node_16_pressure', 'link_12_flow', 'node_3_demand', 'node_7_pressure', 'node_10_pressure', 'node_24_demand', 'node_24_pressure', 'node_28_demand', 'node_9_demand', 'node_5_pressure', 'link_16_flow', 'link_3_flow', 'node_8_pressure']]\n",
      "starting df shape: (87600, 81)\n",
      "This is training run 6 and has the shape:  (87600, 81)\n",
      "The value of dropped columns is 15\n",
      "[['node_17_demand', 'node_25_demand', 'node_6_demand', 'link_23_flow', 'reservoir_demand', 'link_1_flow', 'link_25_flow', 'node_4_demand', 'node_9_pressure', 'link_9_flow', 'node_27_pressure', 'node_17_pressure', 'node_16_pressure', 'link_32_flow', 'node_30_demand']]\n",
      "starting df shape: (87600, 81)\n",
      "This is training run 7 and has the shape:  (87600, 81)\n",
      "The value of dropped columns is 15\n",
      "[['node_10_pressure', 'node_27_pressure', 'node_22_pressure', 'link_10_flow', 'node_26_pressure', 'link_12_flow', 'node_13_demand', 'node_3_pressure', 'link_7_flow', 'node_23_pressure', 'node_30_demand', 'node_29_demand', 'link_1_flow', 'link_4_flow', 'link_24_flow']]\n",
      "starting df shape: (87600, 81)\n",
      "This is training run 8 and has the shape:  (87600, 81)\n",
      "The value of dropped columns is 15\n",
      "[['node_15_pressure', 'node_14_demand', 'node_7_pressure', 'node_27_pressure', 'link_2_flow', 'node_1_demand', 'node_12_pressure', 'link_16_flow', 'node_31_demand', 'link_5_flow', 'link_3_flow', 'link_7_flow', 'link_30_flow', 'node_28_demand', 'link_32_flow']]\n",
      "starting df shape: (87600, 81)\n",
      "This is training run 9 and has the shape:  (87600, 81)\n",
      "The value of dropped columns is 15\n",
      "[['node_9_pressure', 'link_10_flow', 'node_1_demand', 'node_10_pressure', 'reservoir_demand', 'link_18_flow', 'node_29_pressure', 'node_26_demand', 'link_32_flow', 'link_9_flow', 'reservoir_pressure', 'node_26_pressure', 'node_31_pressure', 'link_29_flow', 'link_16_flow']]\n",
      "starting df shape: (87600, 81)\n",
      "This is training run 10 and has the shape:  (87600, 81)\n",
      "The value of dropped columns is 15\n",
      "[['node_9_pressure', 'node_6_pressure', 'node_12_pressure', 'node_25_demand', 'link_10_flow', 'node_21_pressure', 'node_13_demand', 'link_8_flow', 'node_30_demand', 'node_20_pressure', 'node_8_pressure', 'node_20_demand', 'link_22_flow', 'node_23_demand', 'link_1_flow', 'node_23_pressure', 'link_29_flow', 'node_17_demand', 'node_4_pressure', 'node_22_pressure']]\n",
      "starting df shape: (87600, 76)\n",
      "This is training run 1 and has the shape:  (87600, 76)\n",
      "The value of dropped columns is 20\n",
      "[['node_16_pressure', 'link_28_flow', 'node_23_demand', 'node_25_pressure', 'link_30_flow', 'node_18_pressure', 'node_9_demand', 'node_22_demand', 'link_26_flow', 'node_2_pressure', 'node_27_demand', 'node_4_pressure', 'node_20_demand', 'link_5_flow', 'reservoir_demand', 'node_29_demand', 'link_19_flow', 'link_23_flow', 'node_12_demand']]\n",
      "starting df shape: (87600, 77)\n",
      "This is training run 2 and has the shape:  (87600, 77)\n",
      "The value of dropped columns is 20\n",
      "[['node_11_demand', 'node_22_pressure', 'link_16_flow', 'node_15_pressure', 'node_11_pressure', 'node_6_pressure', 'node_22_demand', 'link_2_flow', 'node_27_pressure', 'node_8_pressure', 'link_13_flow', 'link_30_flow', 'node_31_pressure', 'node_27_demand', 'node_4_demand', 'node_29_pressure', 'node_21_pressure', 'node_12_pressure', 'node_5_demand', 'link_5_flow']]\n",
      "starting df shape: (87600, 76)\n",
      "This is training run 3 and has the shape:  (87600, 76)\n",
      "The value of dropped columns is 20\n",
      "[['link_12_flow', 'node_30_demand', 'node_15_demand', 'link_4_flow', 'link_10_flow', 'node_1_demand', 'node_5_pressure', 'node_20_demand', 'link_8_flow', 'node_31_demand', 'node_24_pressure', 'node_12_pressure', 'reservoir_pressure', 'link_28_flow', 'node_8_demand', 'node_23_pressure', 'node_31_pressure', 'link_29_flow', 'node_29_pressure', 'node_30_pressure']]\n",
      "starting df shape: (87600, 76)\n",
      "This is training run 4 and has the shape:  (87600, 76)\n",
      "The value of dropped columns is 20\n",
      "[['node_3_demand', 'node_11_pressure', 'link_25_flow', 'node_18_pressure', 'node_26_demand', 'link_13_flow', 'link_3_flow', 'node_2_pressure', 'node_1_pressure', 'node_19_demand', 'node_25_demand', 'link_12_flow', 'node_4_demand', 'link_6_flow', 'node_10_pressure', 'link_20_flow', 'node_17_pressure', 'link_22_flow', 'node_22_demand', 'node_10_demand']]\n",
      "starting df shape: (87600, 76)\n",
      "This is training run 5 and has the shape:  (87600, 76)\n",
      "The value of dropped columns is 20\n",
      "[['node_14_demand', 'node_10_demand', 'node_31_pressure', 'node_23_pressure', 'node_21_pressure', 'node_11_pressure', 'reservoir_pressure', 'link_6_flow', 'node_2_demand', 'link_12_flow', 'link_31_flow', 'link_29_flow', 'node_5_pressure', 'link_2_flow', 'node_8_pressure', 'link_27_flow', 'node_28_pressure', 'link_30_flow', 'node_19_demand', 'node_17_pressure']]\n",
      "starting df shape: (87600, 76)\n",
      "This is training run 6 and has the shape:  (87600, 76)\n",
      "The value of dropped columns is 20\n",
      "[['link_20_flow', 'link_15_flow', 'node_10_demand', 'node_13_pressure', 'link_22_flow', 'node_20_demand', 'node_1_pressure', 'link_7_flow', 'node_11_pressure', 'node_29_pressure', 'node_14_demand', 'link_30_flow', 'node_9_pressure', 'node_31_demand', 'node_19_demand', 'node_30_demand', 'node_22_demand', 'link_1_flow', 'node_30_pressure', 'node_21_demand']]\n",
      "starting df shape: (87600, 76)\n",
      "This is training run 7 and has the shape:  (87600, 76)\n",
      "The value of dropped columns is 20\n",
      "[['node_11_demand', 'link_25_flow', 'link_10_flow', 'node_26_demand', 'node_2_demand', 'node_9_pressure', 'node_10_pressure', 'node_22_pressure', 'node_25_demand', 'node_18_demand', 'link_9_flow', 'node_24_pressure', 'node_31_demand', 'link_11_flow', 'link_4_flow', 'link_24_flow', 'link_18_flow', 'node_21_demand', 'node_20_demand', 'node_13_pressure']]\n",
      "starting df shape: (87600, 76)\n",
      "This is training run 8 and has the shape:  (87600, 76)\n",
      "The value of dropped columns is 20\n",
      "[['reservoir_pressure', 'node_28_demand', 'node_21_pressure', 'node_29_demand', 'node_5_demand', 'link_32_flow', 'node_3_demand', 'node_15_pressure', 'node_12_demand', 'link_4_flow', 'node_9_demand', 'link_12_flow', 'node_6_demand', 'node_1_demand', 'node_10_pressure', 'node_27_pressure', 'link_3_flow', 'node_31_demand', 'node_19_pressure', 'link_25_flow']]\n",
      "starting df shape: (87600, 76)\n",
      "This is training run 9 and has the shape:  (87600, 76)\n",
      "The value of dropped columns is 20\n",
      "[['node_6_pressure', 'node_22_pressure', 'node_1_demand', 'link_10_flow', 'link_13_flow', 'node_29_pressure', 'link_28_flow', 'link_12_flow', 'node_9_demand', 'link_17_flow', 'link_30_flow', 'node_7_pressure', 'link_23_flow', 'link_32_flow', 'link_6_flow', 'node_31_pressure', 'link_2_flow', 'link_22_flow', 'link_14_flow', 'node_28_demand']]\n",
      "starting df shape: (87600, 76)\n",
      "This is training run 10 and has the shape:  (87600, 76)\n",
      "The value of dropped columns is 20\n",
      "[['node_1_demand', 'link_20_flow', 'node_3_demand', 'node_22_pressure', 'node_15_demand', 'link_6_flow', 'node_16_pressure', 'node_30_demand', 'link_27_flow', 'node_11_demand', 'link_1_flow', 'node_31_pressure', 'node_24_pressure', 'node_17_demand', 'node_8_demand', 'node_21_demand', 'node_13_demand', 'node_30_pressure', 'node_4_pressure', 'node_14_pressure', 'link_2_flow', 'node_12_pressure', 'node_27_demand', 'link_18_flow']]\n",
      "starting df shape: (87600, 72)\n",
      "This is training run 1 and has the shape:  (87600, 72)\n",
      "The value of dropped columns is 25\n",
      "[['node_20_demand', 'node_22_demand', 'node_21_demand', 'link_32_flow', 'link_18_flow', 'link_2_flow', 'link_31_flow', 'node_2_pressure', 'node_10_pressure', 'node_10_demand', 'node_6_pressure', 'link_16_flow', 'node_5_demand', 'node_16_pressure', 'link_7_flow', 'link_10_flow', 'node_30_demand', 'link_29_flow', 'node_26_demand', 'node_28_pressure', 'node_1_pressure', 'link_20_flow', 'node_25_demand', 'link_22_flow', 'link_23_flow']]\n",
      "starting df shape: (87600, 71)\n",
      "This is training run 2 and has the shape:  (87600, 71)\n",
      "The value of dropped columns is 25\n",
      "[['node_14_pressure', 'node_22_demand', 'node_28_demand', 'link_5_flow', 'node_12_demand', 'link_10_flow', 'reservoir_pressure', 'node_21_pressure', 'link_25_flow', 'node_18_demand', 'node_13_demand', 'node_25_pressure', 'node_23_demand', 'node_12_pressure', 'node_31_demand', 'node_27_pressure', 'link_32_flow', 'node_7_demand', 'link_22_flow', 'node_23_pressure', 'link_4_flow', 'link_3_flow', 'node_26_demand', 'link_19_flow', 'node_3_pressure']]\n",
      "starting df shape: (87600, 71)\n",
      "This is training run 3 and has the shape:  (87600, 71)\n",
      "The value of dropped columns is 25\n",
      "[['node_12_demand', 'node_21_demand', 'node_26_pressure', 'link_15_flow', 'node_20_demand', 'link_29_flow', 'link_24_flow', 'link_9_flow', 'link_19_flow', 'node_2_demand', 'node_15_demand', 'link_30_flow', 'link_11_flow', 'reservoir_pressure', 'node_19_pressure', 'link_22_flow', 'node_10_pressure', 'node_23_pressure', 'node_30_pressure', 'node_4_pressure', 'node_16_pressure', 'node_19_demand', 'node_8_demand', 'link_3_flow']]\n",
      "starting df shape: (87600, 72)\n",
      "This is training run 4 and has the shape:  (87600, 72)\n",
      "The value of dropped columns is 25\n",
      "[['node_25_demand', 'node_13_pressure', 'link_19_flow', 'reservoir_pressure', 'link_24_flow', 'node_30_pressure', 'node_3_pressure', 'node_19_pressure', 'node_24_demand', 'node_22_demand', 'link_3_flow', 'node_20_pressure', 'node_11_pressure', 'link_23_flow', 'node_4_demand', 'node_28_pressure', 'node_10_demand', 'node_2_demand', 'node_5_pressure', 'node_23_demand', 'node_8_pressure', 'link_1_flow', 'node_9_pressure', 'link_26_flow', 'link_14_flow']]\n",
      "starting df shape: (87600, 71)\n",
      "This is training run 5 and has the shape:  (87600, 71)\n",
      "The value of dropped columns is 25\n"
     ]
    },
    {
     "name": "stdout",
     "output_type": "stream",
     "text": [
      "[['node_27_demand', 'node_10_pressure', 'node_10_demand', 'node_8_demand', 'link_1_flow', 'node_13_demand', 'node_15_demand', 'node_20_pressure', 'node_3_demand', 'node_13_pressure', 'node_21_demand', 'link_18_flow', 'node_2_demand', 'link_31_flow', 'link_22_flow', 'node_9_demand', 'node_23_pressure', 'node_14_demand', 'node_31_demand', 'node_26_pressure', 'node_2_pressure', 'node_6_demand', 'node_19_pressure', 'link_6_flow', 'link_7_flow']]\n",
      "starting df shape: (87600, 71)\n",
      "This is training run 6 and has the shape:  (87600, 71)\n",
      "The value of dropped columns is 25\n",
      "[['node_25_demand', 'link_1_flow', 'link_18_flow', 'node_18_demand', 'link_7_flow', 'node_13_pressure', 'node_15_pressure', 'node_1_pressure', 'reservoir_demand', 'node_30_pressure', 'node_26_pressure', 'link_9_flow', 'node_27_demand', 'node_17_demand', 'node_31_pressure', 'node_18_pressure', 'node_17_pressure', 'node_3_demand', 'node_23_demand', 'link_24_flow', 'link_10_flow', 'node_24_demand', 'link_23_flow', 'node_10_pressure']]\n",
      "starting df shape: (87600, 72)\n",
      "This is training run 7 and has the shape:  (87600, 72)\n",
      "The value of dropped columns is 25\n",
      "[['link_20_flow', 'node_17_pressure', 'node_1_demand', 'node_15_pressure', 'link_4_flow', 'node_16_pressure', 'link_8_flow', 'node_14_pressure', 'link_32_flow', 'node_8_demand', 'link_13_flow', 'link_18_flow', 'link_9_flow', 'node_21_demand', 'node_20_demand', 'node_4_pressure', 'node_23_demand', 'node_24_demand', 'link_15_flow', 'node_29_demand', 'node_26_demand', 'link_24_flow', 'node_25_pressure', 'node_22_pressure']]\n",
      "starting df shape: (87600, 72)\n",
      "This is training run 8 and has the shape:  (87600, 72)\n",
      "The value of dropped columns is 25\n",
      "[['node_21_demand', 'node_3_demand', 'node_11_demand', 'node_12_demand', 'link_3_flow', 'node_21_pressure', 'link_13_flow', 'link_7_flow', 'link_32_flow', 'node_17_pressure', 'node_15_demand', 'link_23_flow', 'link_6_flow', 'link_16_flow', 'node_1_demand', 'node_14_demand', 'node_5_pressure', 'node_7_demand', 'node_17_demand', 'link_28_flow', 'node_8_demand', 'node_22_demand', 'link_30_flow', 'node_20_demand', 'node_2_demand']]\n",
      "starting df shape: (87600, 71)\n",
      "This is training run 9 and has the shape:  (87600, 71)\n",
      "The value of dropped columns is 25\n",
      "[['link_14_flow', 'link_28_flow', 'node_27_demand', 'link_24_flow', 'link_21_flow', 'node_1_demand', 'node_20_demand', 'node_1_pressure', 'node_7_demand', 'node_7_pressure', 'node_5_demand', 'node_13_demand', 'node_22_pressure', 'node_26_pressure', 'reservoir_pressure', 'link_15_flow', 'node_4_demand', 'link_20_flow', 'node_23_demand', 'link_31_flow', 'node_21_demand', 'node_4_pressure', 'link_25_flow', 'node_16_pressure']]\n",
      "starting df shape: (87600, 72)\n",
      "This is training run 10 and has the shape:  (87600, 72)\n",
      "The value of dropped columns is 25\n"
     ]
    }
   ],
   "source": [
    "MAE_average = []\n",
    "sensors_covered = []\n",
    "n_columns_to_drop = [0, 5, 10, 15, 20, 25]\n",
    "for n in n_columns_to_drop:\n",
    "    MAE = []\n",
    "    #select random columns to drop\n",
    "    for run in range(1,11):\n",
    "        Y = df[df.columns[16]]\n",
    "        X = df.drop(columns=['node_16_demand'])\n",
    "        X['node_16_demand'] = Y\n",
    "        columns = []\n",
    "        columns_to_drop = random.sample(list(X.columns), n)\n",
    "        # Drop the selected columns from the dataframe\n",
    "        if X.columns[-1] in columns_to_drop:\n",
    "            columns_to_drop.remove(X.columns[-1])\n",
    "        X.drop(columns_to_drop, axis=1, inplace=True)\n",
    "        columns.append(columns_to_drop)\n",
    "        print(columns)\n",
    "        print('starting df shape:', X.shape)\n",
    "\n",
    "        print(f'This is training run {run} and has the shape: ', X.shape)\n",
    "        print(f'The value of dropped columns is {n}')"
   ]
  },
  {
   "cell_type": "code",
   "execution_count": 6,
   "metadata": {},
   "outputs": [
    {
     "name": "stdout",
     "output_type": "stream",
     "text": [
      "[[]]\n",
      "starting df shape: (87600, 96)\n",
      "This is training run 1 and has the shape:  (87600, 96)\n",
      "The value of dropped columns is 0\n"
     ]
    },
    {
     "name": "stderr",
     "output_type": "stream",
     "text": [
      "/Users/alexellard/opt/anaconda3/lib/python3.7/site-packages/xgboost/data.py:96: UserWarning: Use subset (sliced data) of np.ndarray is not recommended because it will generate extra copies and increase memory consumption\n",
      "  \"because it will generate extra copies and increase \" +\n"
     ]
    },
    {
     "name": "stdout",
     "output_type": "stream",
     "text": [
      "test y shape : (17520, 1)\n",
      "Inv y shape : (17520, 96)\n",
      "y pred shape : (17520, 1)\n",
      "inv y pred : (17520, 96)\n",
      "Run 1 Mean Absolute Error: 45.13374937313199\n",
      "[[]]\n",
      "starting df shape: (87600, 96)\n",
      "This is training run 2 and has the shape:  (87600, 96)\n",
      "The value of dropped columns is 0\n"
     ]
    },
    {
     "name": "stderr",
     "output_type": "stream",
     "text": [
      "/Users/alexellard/opt/anaconda3/lib/python3.7/site-packages/xgboost/data.py:96: UserWarning: Use subset (sliced data) of np.ndarray is not recommended because it will generate extra copies and increase memory consumption\n",
      "  \"because it will generate extra copies and increase \" +\n"
     ]
    },
    {
     "name": "stdout",
     "output_type": "stream",
     "text": [
      "test y shape : (17520, 1)\n",
      "Inv y shape : (17520, 96)\n",
      "y pred shape : (17520, 1)\n",
      "inv y pred : (17520, 96)\n",
      "Run 2 Mean Absolute Error: 45.13374937313199\n",
      "[[]]\n",
      "starting df shape: (87600, 96)\n",
      "This is training run 3 and has the shape:  (87600, 96)\n",
      "The value of dropped columns is 0\n"
     ]
    },
    {
     "name": "stderr",
     "output_type": "stream",
     "text": [
      "/Users/alexellard/opt/anaconda3/lib/python3.7/site-packages/xgboost/data.py:96: UserWarning: Use subset (sliced data) of np.ndarray is not recommended because it will generate extra copies and increase memory consumption\n",
      "  \"because it will generate extra copies and increase \" +\n"
     ]
    },
    {
     "name": "stdout",
     "output_type": "stream",
     "text": [
      "test y shape : (17520, 1)\n",
      "Inv y shape : (17520, 96)\n",
      "y pred shape : (17520, 1)\n",
      "inv y pred : (17520, 96)\n",
      "Run 3 Mean Absolute Error: 45.13374937313199\n",
      "[[]]\n",
      "starting df shape: (87600, 96)\n",
      "This is training run 4 and has the shape:  (87600, 96)\n",
      "The value of dropped columns is 0\n"
     ]
    },
    {
     "name": "stderr",
     "output_type": "stream",
     "text": [
      "/Users/alexellard/opt/anaconda3/lib/python3.7/site-packages/xgboost/data.py:96: UserWarning: Use subset (sliced data) of np.ndarray is not recommended because it will generate extra copies and increase memory consumption\n",
      "  \"because it will generate extra copies and increase \" +\n"
     ]
    },
    {
     "name": "stdout",
     "output_type": "stream",
     "text": [
      "test y shape : (17520, 1)\n",
      "Inv y shape : (17520, 96)\n",
      "y pred shape : (17520, 1)\n",
      "inv y pred : (17520, 96)\n",
      "Run 4 Mean Absolute Error: 45.13374937313199\n",
      "[[]]\n",
      "starting df shape: (87600, 96)\n",
      "This is training run 5 and has the shape:  (87600, 96)\n",
      "The value of dropped columns is 0\n"
     ]
    },
    {
     "name": "stderr",
     "output_type": "stream",
     "text": [
      "/Users/alexellard/opt/anaconda3/lib/python3.7/site-packages/xgboost/data.py:96: UserWarning: Use subset (sliced data) of np.ndarray is not recommended because it will generate extra copies and increase memory consumption\n",
      "  \"because it will generate extra copies and increase \" +\n"
     ]
    },
    {
     "name": "stdout",
     "output_type": "stream",
     "text": [
      "test y shape : (17520, 1)\n",
      "Inv y shape : (17520, 96)\n",
      "y pred shape : (17520, 1)\n",
      "inv y pred : (17520, 96)\n",
      "Run 5 Mean Absolute Error: 45.13374937313199\n",
      "[[]]\n",
      "starting df shape: (87600, 96)\n",
      "This is training run 6 and has the shape:  (87600, 96)\n",
      "The value of dropped columns is 0\n"
     ]
    },
    {
     "name": "stderr",
     "output_type": "stream",
     "text": [
      "/Users/alexellard/opt/anaconda3/lib/python3.7/site-packages/xgboost/data.py:96: UserWarning: Use subset (sliced data) of np.ndarray is not recommended because it will generate extra copies and increase memory consumption\n",
      "  \"because it will generate extra copies and increase \" +\n"
     ]
    },
    {
     "name": "stdout",
     "output_type": "stream",
     "text": [
      "test y shape : (17520, 1)\n",
      "Inv y shape : (17520, 96)\n",
      "y pred shape : (17520, 1)\n",
      "inv y pred : (17520, 96)\n",
      "Run 6 Mean Absolute Error: 45.13374937313199\n",
      "[[]]\n",
      "starting df shape: (87600, 96)\n",
      "This is training run 7 and has the shape:  (87600, 96)\n",
      "The value of dropped columns is 0\n"
     ]
    },
    {
     "name": "stderr",
     "output_type": "stream",
     "text": [
      "/Users/alexellard/opt/anaconda3/lib/python3.7/site-packages/xgboost/data.py:96: UserWarning: Use subset (sliced data) of np.ndarray is not recommended because it will generate extra copies and increase memory consumption\n",
      "  \"because it will generate extra copies and increase \" +\n"
     ]
    },
    {
     "name": "stdout",
     "output_type": "stream",
     "text": [
      "test y shape : (17520, 1)\n",
      "Inv y shape : (17520, 96)\n",
      "y pred shape : (17520, 1)\n",
      "inv y pred : (17520, 96)\n",
      "Run 7 Mean Absolute Error: 45.13374937313199\n",
      "[[]]\n",
      "starting df shape: (87600, 96)\n",
      "This is training run 8 and has the shape:  (87600, 96)\n",
      "The value of dropped columns is 0\n"
     ]
    },
    {
     "name": "stderr",
     "output_type": "stream",
     "text": [
      "/Users/alexellard/opt/anaconda3/lib/python3.7/site-packages/xgboost/data.py:96: UserWarning: Use subset (sliced data) of np.ndarray is not recommended because it will generate extra copies and increase memory consumption\n",
      "  \"because it will generate extra copies and increase \" +\n"
     ]
    },
    {
     "name": "stdout",
     "output_type": "stream",
     "text": [
      "test y shape : (17520, 1)\n",
      "Inv y shape : (17520, 96)\n",
      "y pred shape : (17520, 1)\n",
      "inv y pred : (17520, 96)\n",
      "Run 8 Mean Absolute Error: 45.13374937313199\n",
      "[[]]\n",
      "starting df shape: (87600, 96)\n",
      "This is training run 9 and has the shape:  (87600, 96)\n",
      "The value of dropped columns is 0\n"
     ]
    },
    {
     "name": "stderr",
     "output_type": "stream",
     "text": [
      "/Users/alexellard/opt/anaconda3/lib/python3.7/site-packages/xgboost/data.py:96: UserWarning: Use subset (sliced data) of np.ndarray is not recommended because it will generate extra copies and increase memory consumption\n",
      "  \"because it will generate extra copies and increase \" +\n"
     ]
    },
    {
     "name": "stdout",
     "output_type": "stream",
     "text": [
      "test y shape : (17520, 1)\n",
      "Inv y shape : (17520, 96)\n",
      "y pred shape : (17520, 1)\n",
      "inv y pred : (17520, 96)\n",
      "Run 9 Mean Absolute Error: 45.13374937313199\n",
      "[[]]\n",
      "starting df shape: (87600, 96)\n",
      "This is training run 10 and has the shape:  (87600, 96)\n",
      "The value of dropped columns is 0\n"
     ]
    },
    {
     "name": "stderr",
     "output_type": "stream",
     "text": [
      "/Users/alexellard/opt/anaconda3/lib/python3.7/site-packages/xgboost/data.py:96: UserWarning: Use subset (sliced data) of np.ndarray is not recommended because it will generate extra copies and increase memory consumption\n",
      "  \"because it will generate extra copies and increase \" +\n"
     ]
    },
    {
     "name": "stdout",
     "output_type": "stream",
     "text": [
      "test y shape : (17520, 1)\n",
      "Inv y shape : (17520, 96)\n",
      "y pred shape : (17520, 1)\n",
      "inv y pred : (17520, 96)\n",
      "Run 10 Mean Absolute Error: 45.13374937313199\n",
      "[['node_4_demand', 'link_9_flow', 'link_15_flow', 'node_15_demand', 'node_1_demand']]\n",
      "starting df shape: (87600, 91)\n",
      "This is training run 1 and has the shape:  (87600, 91)\n",
      "The value of dropped columns is 5\n"
     ]
    },
    {
     "name": "stderr",
     "output_type": "stream",
     "text": [
      "/Users/alexellard/opt/anaconda3/lib/python3.7/site-packages/xgboost/data.py:96: UserWarning: Use subset (sliced data) of np.ndarray is not recommended because it will generate extra copies and increase memory consumption\n",
      "  \"because it will generate extra copies and increase \" +\n"
     ]
    },
    {
     "name": "stdout",
     "output_type": "stream",
     "text": [
      "test y shape : (17520, 1)\n",
      "Inv y shape : (17520, 91)\n",
      "y pred shape : (17520, 1)\n",
      "inv y pred : (17520, 91)\n",
      "Run 1 Mean Absolute Error: 77.20849433372972\n",
      "[['node_14_pressure', 'link_30_flow', 'node_12_demand', 'node_4_demand', 'link_8_flow']]\n",
      "starting df shape: (87600, 91)\n",
      "This is training run 2 and has the shape:  (87600, 91)\n",
      "The value of dropped columns is 5\n"
     ]
    },
    {
     "name": "stderr",
     "output_type": "stream",
     "text": [
      "/Users/alexellard/opt/anaconda3/lib/python3.7/site-packages/xgboost/data.py:96: UserWarning: Use subset (sliced data) of np.ndarray is not recommended because it will generate extra copies and increase memory consumption\n",
      "  \"because it will generate extra copies and increase \" +\n"
     ]
    },
    {
     "name": "stdout",
     "output_type": "stream",
     "text": [
      "test y shape : (17520, 1)\n",
      "Inv y shape : (17520, 91)\n",
      "y pred shape : (17520, 1)\n",
      "inv y pred : (17520, 91)\n",
      "Run 2 Mean Absolute Error: 50.18727963064834\n",
      "[['node_4_demand', 'node_27_pressure', 'link_18_flow', 'node_2_demand', 'node_9_demand']]\n",
      "starting df shape: (87600, 91)\n",
      "This is training run 3 and has the shape:  (87600, 91)\n",
      "The value of dropped columns is 5\n"
     ]
    },
    {
     "name": "stderr",
     "output_type": "stream",
     "text": [
      "/Users/alexellard/opt/anaconda3/lib/python3.7/site-packages/xgboost/data.py:96: UserWarning: Use subset (sliced data) of np.ndarray is not recommended because it will generate extra copies and increase memory consumption\n",
      "  \"because it will generate extra copies and increase \" +\n"
     ]
    },
    {
     "name": "stdout",
     "output_type": "stream",
     "text": [
      "test y shape : (17520, 1)\n",
      "Inv y shape : (17520, 91)\n",
      "y pred shape : (17520, 1)\n",
      "inv y pred : (17520, 91)\n",
      "Run 3 Mean Absolute Error: 50.0454058983509\n",
      "[['node_31_demand', 'node_30_demand', 'node_28_demand', 'node_5_pressure', 'link_21_flow']]\n",
      "starting df shape: (87600, 91)\n",
      "This is training run 4 and has the shape:  (87600, 91)\n",
      "The value of dropped columns is 5\n"
     ]
    },
    {
     "name": "stderr",
     "output_type": "stream",
     "text": [
      "/Users/alexellard/opt/anaconda3/lib/python3.7/site-packages/xgboost/data.py:96: UserWarning: Use subset (sliced data) of np.ndarray is not recommended because it will generate extra copies and increase memory consumption\n",
      "  \"because it will generate extra copies and increase \" +\n"
     ]
    },
    {
     "name": "stdout",
     "output_type": "stream",
     "text": [
      "test y shape : (17520, 1)\n",
      "Inv y shape : (17520, 91)\n",
      "y pred shape : (17520, 1)\n",
      "inv y pred : (17520, 91)\n",
      "Run 4 Mean Absolute Error: 50.20377479787879\n",
      "[['node_10_pressure', 'node_12_pressure', 'link_30_flow', 'link_12_flow', 'node_11_pressure']]\n",
      "starting df shape: (87600, 91)\n",
      "This is training run 5 and has the shape:  (87600, 91)\n",
      "The value of dropped columns is 5\n"
     ]
    },
    {
     "name": "stderr",
     "output_type": "stream",
     "text": [
      "/Users/alexellard/opt/anaconda3/lib/python3.7/site-packages/xgboost/data.py:96: UserWarning: Use subset (sliced data) of np.ndarray is not recommended because it will generate extra copies and increase memory consumption\n",
      "  \"because it will generate extra copies and increase \" +\n"
     ]
    },
    {
     "name": "stdout",
     "output_type": "stream",
     "text": [
      "test y shape : (17520, 1)\n",
      "Inv y shape : (17520, 91)\n",
      "y pred shape : (17520, 1)\n",
      "inv y pred : (17520, 91)\n",
      "Run 5 Mean Absolute Error: 50.68602492129591\n",
      "[['link_31_flow', 'link_2_flow', 'node_1_pressure', 'node_11_demand', 'link_24_flow']]\n",
      "starting df shape: (87600, 91)\n",
      "This is training run 6 and has the shape:  (87600, 91)\n",
      "The value of dropped columns is 5\n"
     ]
    },
    {
     "name": "stderr",
     "output_type": "stream",
     "text": [
      "/Users/alexellard/opt/anaconda3/lib/python3.7/site-packages/xgboost/data.py:96: UserWarning: Use subset (sliced data) of np.ndarray is not recommended because it will generate extra copies and increase memory consumption\n",
      "  \"because it will generate extra copies and increase \" +\n"
     ]
    },
    {
     "name": "stdout",
     "output_type": "stream",
     "text": [
      "test y shape : (17520, 1)\n",
      "Inv y shape : (17520, 91)\n",
      "y pred shape : (17520, 1)\n",
      "inv y pred : (17520, 91)\n",
      "Run 6 Mean Absolute Error: 50.27802059096583\n",
      "[['node_23_pressure', 'node_13_demand', 'node_28_pressure', 'node_4_pressure', 'node_10_pressure']]\n",
      "starting df shape: (87600, 91)\n",
      "This is training run 7 and has the shape:  (87600, 91)\n",
      "The value of dropped columns is 5\n"
     ]
    },
    {
     "name": "stderr",
     "output_type": "stream",
     "text": [
      "/Users/alexellard/opt/anaconda3/lib/python3.7/site-packages/xgboost/data.py:96: UserWarning: Use subset (sliced data) of np.ndarray is not recommended because it will generate extra copies and increase memory consumption\n",
      "  \"because it will generate extra copies and increase \" +\n"
     ]
    },
    {
     "name": "stdout",
     "output_type": "stream",
     "text": [
      "test y shape : (17520, 1)\n",
      "Inv y shape : (17520, 91)\n",
      "y pred shape : (17520, 1)\n",
      "inv y pred : (17520, 91)\n",
      "Run 7 Mean Absolute Error: 46.12279599050201\n",
      "[['link_9_flow', 'link_2_flow', 'node_20_pressure', 'link_31_flow', 'node_10_pressure']]\n",
      "starting df shape: (87600, 91)\n",
      "This is training run 8 and has the shape:  (87600, 91)\n",
      "The value of dropped columns is 5\n"
     ]
    },
    {
     "name": "stderr",
     "output_type": "stream",
     "text": [
      "/Users/alexellard/opt/anaconda3/lib/python3.7/site-packages/xgboost/data.py:96: UserWarning: Use subset (sliced data) of np.ndarray is not recommended because it will generate extra copies and increase memory consumption\n",
      "  \"because it will generate extra copies and increase \" +\n"
     ]
    },
    {
     "name": "stdout",
     "output_type": "stream",
     "text": [
      "test y shape : (17520, 1)\n",
      "Inv y shape : (17520, 91)\n",
      "y pred shape : (17520, 1)\n",
      "inv y pred : (17520, 91)\n",
      "Run 8 Mean Absolute Error: 49.86720323360521\n",
      "[['link_30_flow', 'node_3_pressure', 'link_25_flow', 'node_23_pressure', 'link_22_flow']]\n",
      "starting df shape: (87600, 91)\n",
      "This is training run 9 and has the shape:  (87600, 91)\n",
      "The value of dropped columns is 5\n"
     ]
    },
    {
     "name": "stderr",
     "output_type": "stream",
     "text": [
      "/Users/alexellard/opt/anaconda3/lib/python3.7/site-packages/xgboost/data.py:96: UserWarning: Use subset (sliced data) of np.ndarray is not recommended because it will generate extra copies and increase memory consumption\n",
      "  \"because it will generate extra copies and increase \" +\n"
     ]
    },
    {
     "name": "stdout",
     "output_type": "stream",
     "text": [
      "test y shape : (17520, 1)\n",
      "Inv y shape : (17520, 91)\n",
      "y pred shape : (17520, 1)\n",
      "inv y pred : (17520, 91)\n",
      "Run 9 Mean Absolute Error: 46.23807979017989\n",
      "[['node_7_demand', 'node_22_demand', 'node_19_pressure', 'node_27_demand', 'node_3_pressure']]\n",
      "starting df shape: (87600, 91)\n",
      "This is training run 10 and has the shape:  (87600, 91)\n",
      "The value of dropped columns is 5\n"
     ]
    },
    {
     "name": "stderr",
     "output_type": "stream",
     "text": [
      "/Users/alexellard/opt/anaconda3/lib/python3.7/site-packages/xgboost/data.py:96: UserWarning: Use subset (sliced data) of np.ndarray is not recommended because it will generate extra copies and increase memory consumption\n",
      "  \"because it will generate extra copies and increase \" +\n"
     ]
    },
    {
     "name": "stdout",
     "output_type": "stream",
     "text": [
      "test y shape : (17520, 1)\n",
      "Inv y shape : (17520, 91)\n",
      "y pred shape : (17520, 1)\n",
      "inv y pred : (17520, 91)\n",
      "Run 10 Mean Absolute Error: 46.023209535874344\n",
      "[['node_11_pressure', 'link_28_flow', 'node_17_demand', 'node_11_demand', 'node_13_pressure', 'link_13_flow', 'node_21_demand', 'node_21_pressure', 'node_24_demand', 'node_27_pressure']]\n",
      "starting df shape: (87600, 86)\n",
      "This is training run 1 and has the shape:  (87600, 86)\n",
      "The value of dropped columns is 10\n"
     ]
    },
    {
     "name": "stderr",
     "output_type": "stream",
     "text": [
      "/Users/alexellard/opt/anaconda3/lib/python3.7/site-packages/xgboost/data.py:96: UserWarning: Use subset (sliced data) of np.ndarray is not recommended because it will generate extra copies and increase memory consumption\n",
      "  \"because it will generate extra copies and increase \" +\n"
     ]
    },
    {
     "name": "stdout",
     "output_type": "stream",
     "text": [
      "test y shape : (17520, 1)\n",
      "Inv y shape : (17520, 86)\n",
      "y pred shape : (17520, 1)\n",
      "inv y pred : (17520, 86)\n",
      "Run 1 Mean Absolute Error: 48.02149340620427\n",
      "[['node_2_pressure', 'node_18_pressure', 'link_12_flow', 'node_25_demand', 'link_14_flow', 'link_9_flow', 'node_30_pressure', 'link_22_flow', 'node_21_pressure']]\n",
      "starting df shape: (87600, 87)\n",
      "This is training run 2 and has the shape:  (87600, 87)\n",
      "The value of dropped columns is 10\n"
     ]
    },
    {
     "name": "stderr",
     "output_type": "stream",
     "text": [
      "/Users/alexellard/opt/anaconda3/lib/python3.7/site-packages/xgboost/data.py:96: UserWarning: Use subset (sliced data) of np.ndarray is not recommended because it will generate extra copies and increase memory consumption\n",
      "  \"because it will generate extra copies and increase \" +\n"
     ]
    },
    {
     "name": "stdout",
     "output_type": "stream",
     "text": [
      "test y shape : (17520, 1)\n",
      "Inv y shape : (17520, 87)\n",
      "y pred shape : (17520, 1)\n",
      "inv y pred : (17520, 87)\n",
      "Run 2 Mean Absolute Error: 46.46488571187759\n",
      "[['node_9_pressure', 'node_10_pressure', 'link_8_flow', 'link_22_flow', 'link_13_flow', 'node_15_demand', 'node_15_pressure', 'node_11_demand', 'node_21_demand', 'node_20_pressure']]\n",
      "starting df shape: (87600, 86)\n",
      "This is training run 3 and has the shape:  (87600, 86)\n",
      "The value of dropped columns is 10\n"
     ]
    },
    {
     "name": "stderr",
     "output_type": "stream",
     "text": [
      "/Users/alexellard/opt/anaconda3/lib/python3.7/site-packages/xgboost/data.py:96: UserWarning: Use subset (sliced data) of np.ndarray is not recommended because it will generate extra copies and increase memory consumption\n",
      "  \"because it will generate extra copies and increase \" +\n"
     ]
    },
    {
     "name": "stdout",
     "output_type": "stream",
     "text": [
      "test y shape : (17520, 1)\n",
      "Inv y shape : (17520, 86)\n",
      "y pred shape : (17520, 1)\n",
      "inv y pred : (17520, 86)\n",
      "Run 3 Mean Absolute Error: 46.1329338888866\n",
      "[['link_5_flow', 'link_13_flow', 'node_19_demand', 'node_3_pressure', 'node_7_demand', 'link_17_flow', 'node_24_pressure', 'node_30_demand', 'node_4_pressure', 'node_1_demand']]\n",
      "starting df shape: (87600, 86)\n",
      "This is training run 4 and has the shape:  (87600, 86)\n",
      "The value of dropped columns is 10\n"
     ]
    },
    {
     "name": "stderr",
     "output_type": "stream",
     "text": [
      "/Users/alexellard/opt/anaconda3/lib/python3.7/site-packages/xgboost/data.py:96: UserWarning: Use subset (sliced data) of np.ndarray is not recommended because it will generate extra copies and increase memory consumption\n",
      "  \"because it will generate extra copies and increase \" +\n"
     ]
    },
    {
     "name": "stdout",
     "output_type": "stream",
     "text": [
      "test y shape : (17520, 1)\n",
      "Inv y shape : (17520, 86)\n",
      "y pred shape : (17520, 1)\n",
      "inv y pred : (17520, 86)\n",
      "Run 4 Mean Absolute Error: 47.32610852921737\n",
      "[['node_25_pressure', 'node_4_pressure', 'node_29_demand', 'node_5_demand', 'node_28_demand', 'link_27_flow', 'link_14_flow', 'node_7_pressure', 'node_23_demand', 'link_32_flow']]\n",
      "starting df shape: (87600, 86)\n",
      "This is training run 5 and has the shape:  (87600, 86)\n",
      "The value of dropped columns is 10\n"
     ]
    },
    {
     "name": "stderr",
     "output_type": "stream",
     "text": [
      "/Users/alexellard/opt/anaconda3/lib/python3.7/site-packages/xgboost/data.py:96: UserWarning: Use subset (sliced data) of np.ndarray is not recommended because it will generate extra copies and increase memory consumption\n",
      "  \"because it will generate extra copies and increase \" +\n"
     ]
    },
    {
     "name": "stdout",
     "output_type": "stream",
     "text": [
      "test y shape : (17520, 1)\n",
      "Inv y shape : (17520, 86)\n",
      "y pred shape : (17520, 1)\n",
      "inv y pred : (17520, 86)\n",
      "Run 5 Mean Absolute Error: 48.61049418016622\n",
      "[['node_9_demand', 'link_5_flow', 'node_21_pressure', 'link_15_flow', 'link_1_flow', 'node_18_pressure', 'node_20_demand', 'link_6_flow', 'node_26_demand', 'node_10_demand']]\n",
      "starting df shape: (87600, 86)\n",
      "This is training run 6 and has the shape:  (87600, 86)\n",
      "The value of dropped columns is 10\n"
     ]
    },
    {
     "name": "stderr",
     "output_type": "stream",
     "text": [
      "/Users/alexellard/opt/anaconda3/lib/python3.7/site-packages/xgboost/data.py:96: UserWarning: Use subset (sliced data) of np.ndarray is not recommended because it will generate extra copies and increase memory consumption\n",
      "  \"because it will generate extra copies and increase \" +\n"
     ]
    },
    {
     "name": "stdout",
     "output_type": "stream",
     "text": [
      "test y shape : (17520, 1)\n",
      "Inv y shape : (17520, 86)\n",
      "y pred shape : (17520, 1)\n",
      "inv y pred : (17520, 86)\n",
      "Run 6 Mean Absolute Error: 70.94836105645315\n",
      "[['link_23_flow', 'node_1_pressure', 'node_23_demand', 'link_20_flow', 'node_3_pressure', 'link_12_flow', 'node_10_pressure', 'link_8_flow', 'node_21_demand', 'node_5_pressure']]\n",
      "starting df shape: (87600, 86)\n",
      "This is training run 7 and has the shape:  (87600, 86)\n",
      "The value of dropped columns is 10\n"
     ]
    },
    {
     "name": "stderr",
     "output_type": "stream",
     "text": [
      "/Users/alexellard/opt/anaconda3/lib/python3.7/site-packages/xgboost/data.py:96: UserWarning: Use subset (sliced data) of np.ndarray is not recommended because it will generate extra copies and increase memory consumption\n",
      "  \"because it will generate extra copies and increase \" +\n"
     ]
    },
    {
     "name": "stdout",
     "output_type": "stream",
     "text": [
      "test y shape : (17520, 1)\n",
      "Inv y shape : (17520, 86)\n",
      "y pred shape : (17520, 1)\n",
      "inv y pred : (17520, 86)\n",
      "Run 7 Mean Absolute Error: 48.875198809694396\n",
      "[['node_7_demand', 'link_3_flow', 'node_6_demand', 'link_4_flow', 'link_2_flow', 'node_9_pressure', 'node_10_demand', 'node_9_demand', 'link_27_flow', 'link_9_flow']]\n",
      "starting df shape: (87600, 86)\n",
      "This is training run 8 and has the shape:  (87600, 86)\n",
      "The value of dropped columns is 10\n"
     ]
    },
    {
     "name": "stderr",
     "output_type": "stream",
     "text": [
      "/Users/alexellard/opt/anaconda3/lib/python3.7/site-packages/xgboost/data.py:96: UserWarning: Use subset (sliced data) of np.ndarray is not recommended because it will generate extra copies and increase memory consumption\n",
      "  \"because it will generate extra copies and increase \" +\n"
     ]
    },
    {
     "name": "stdout",
     "output_type": "stream",
     "text": [
      "test y shape : (17520, 1)\n",
      "Inv y shape : (17520, 86)\n",
      "y pred shape : (17520, 1)\n",
      "inv y pred : (17520, 86)\n",
      "Run 8 Mean Absolute Error: 47.986662640283825\n",
      "[['node_17_demand', 'node_10_demand', 'node_16_pressure', 'node_11_pressure', 'node_22_demand', 'link_26_flow', 'node_14_pressure', 'node_21_pressure', 'node_27_pressure', 'node_13_pressure']]\n",
      "starting df shape: (87600, 86)\n",
      "This is training run 9 and has the shape:  (87600, 86)\n",
      "The value of dropped columns is 10\n"
     ]
    },
    {
     "name": "stderr",
     "output_type": "stream",
     "text": [
      "/Users/alexellard/opt/anaconda3/lib/python3.7/site-packages/xgboost/data.py:96: UserWarning: Use subset (sliced data) of np.ndarray is not recommended because it will generate extra copies and increase memory consumption\n",
      "  \"because it will generate extra copies and increase \" +\n"
     ]
    },
    {
     "name": "stdout",
     "output_type": "stream",
     "text": [
      "test y shape : (17520, 1)\n",
      "Inv y shape : (17520, 86)\n",
      "y pred shape : (17520, 1)\n",
      "inv y pred : (17520, 86)\n",
      "Run 9 Mean Absolute Error: 48.07448544205939\n",
      "[['node_19_pressure', 'node_2_pressure', 'node_24_demand', 'node_20_pressure', 'node_1_demand', 'node_12_demand', 'node_3_pressure', 'node_26_pressure', 'node_9_pressure']]\n",
      "starting df shape: (87600, 87)\n",
      "This is training run 10 and has the shape:  (87600, 87)\n",
      "The value of dropped columns is 10\n"
     ]
    },
    {
     "name": "stderr",
     "output_type": "stream",
     "text": [
      "/Users/alexellard/opt/anaconda3/lib/python3.7/site-packages/xgboost/data.py:96: UserWarning: Use subset (sliced data) of np.ndarray is not recommended because it will generate extra copies and increase memory consumption\n",
      "  \"because it will generate extra copies and increase \" +\n"
     ]
    },
    {
     "name": "stdout",
     "output_type": "stream",
     "text": [
      "test y shape : (17520, 1)\n",
      "Inv y shape : (17520, 87)\n",
      "y pred shape : (17520, 1)\n",
      "inv y pred : (17520, 87)\n",
      "Run 10 Mean Absolute Error: 45.407309033302894\n",
      "[['node_4_pressure', 'node_4_demand', 'link_27_flow', 'link_18_flow', 'link_25_flow', 'node_9_pressure', 'node_5_demand', 'node_7_pressure', 'node_2_pressure', 'node_19_demand', 'node_10_pressure', 'link_28_flow', 'node_26_pressure', 'node_30_demand', 'node_8_demand']]\n",
      "starting df shape: (87600, 81)\n",
      "This is training run 1 and has the shape:  (87600, 81)\n",
      "The value of dropped columns is 15\n"
     ]
    },
    {
     "name": "stderr",
     "output_type": "stream",
     "text": [
      "/Users/alexellard/opt/anaconda3/lib/python3.7/site-packages/xgboost/data.py:96: UserWarning: Use subset (sliced data) of np.ndarray is not recommended because it will generate extra copies and increase memory consumption\n",
      "  \"because it will generate extra copies and increase \" +\n"
     ]
    },
    {
     "name": "stdout",
     "output_type": "stream",
     "text": [
      "test y shape : (17520, 1)\n",
      "Inv y shape : (17520, 81)\n",
      "y pred shape : (17520, 1)\n",
      "inv y pred : (17520, 81)\n",
      "Run 1 Mean Absolute Error: 48.13745740177957\n",
      "[['node_19_pressure', 'node_18_pressure', 'node_25_pressure', 'node_21_demand', 'link_24_flow', 'node_12_pressure', 'node_3_demand', 'node_9_demand', 'node_24_demand', 'link_28_flow', 'node_29_pressure', 'node_13_pressure', 'node_8_pressure', 'node_20_demand', 'node_2_demand']]\n",
      "starting df shape: (87600, 81)\n",
      "This is training run 2 and has the shape:  (87600, 81)\n",
      "The value of dropped columns is 15\n"
     ]
    },
    {
     "name": "stderr",
     "output_type": "stream",
     "text": [
      "/Users/alexellard/opt/anaconda3/lib/python3.7/site-packages/xgboost/data.py:96: UserWarning: Use subset (sliced data) of np.ndarray is not recommended because it will generate extra copies and increase memory consumption\n",
      "  \"because it will generate extra copies and increase \" +\n"
     ]
    },
    {
     "name": "stdout",
     "output_type": "stream",
     "text": [
      "test y shape : (17520, 1)\n",
      "Inv y shape : (17520, 81)\n",
      "y pred shape : (17520, 1)\n",
      "inv y pred : (17520, 81)\n",
      "Run 2 Mean Absolute Error: 45.419920351043764\n",
      "[['link_28_flow', 'link_13_flow', 'node_28_demand', 'node_5_pressure', 'node_27_demand', 'node_13_demand', 'node_30_demand', 'node_10_demand', 'link_29_flow', 'node_25_demand', 'link_21_flow', 'node_6_pressure', 'link_16_flow', 'node_14_demand', 'link_2_flow']]\n",
      "starting df shape: (87600, 81)\n",
      "This is training run 3 and has the shape:  (87600, 81)\n",
      "The value of dropped columns is 15\n"
     ]
    },
    {
     "name": "stderr",
     "output_type": "stream",
     "text": [
      "/Users/alexellard/opt/anaconda3/lib/python3.7/site-packages/xgboost/data.py:96: UserWarning: Use subset (sliced data) of np.ndarray is not recommended because it will generate extra copies and increase memory consumption\n",
      "  \"because it will generate extra copies and increase \" +\n"
     ]
    },
    {
     "name": "stdout",
     "output_type": "stream",
     "text": [
      "test y shape : (17520, 1)\n",
      "Inv y shape : (17520, 81)\n",
      "y pred shape : (17520, 1)\n",
      "inv y pred : (17520, 81)\n",
      "Run 3 Mean Absolute Error: 103.06142968708593\n",
      "[['node_20_demand', 'link_14_flow', 'link_9_flow', 'node_14_demand', 'link_20_flow', 'node_9_demand', 'link_13_flow', 'link_19_flow', 'node_28_demand', 'node_9_pressure', 'link_23_flow', 'link_21_flow', 'node_10_pressure', 'link_25_flow']]\n",
      "starting df shape: (87600, 82)\n",
      "This is training run 4 and has the shape:  (87600, 82)\n",
      "The value of dropped columns is 15\n"
     ]
    },
    {
     "name": "stderr",
     "output_type": "stream",
     "text": [
      "/Users/alexellard/opt/anaconda3/lib/python3.7/site-packages/xgboost/data.py:96: UserWarning: Use subset (sliced data) of np.ndarray is not recommended because it will generate extra copies and increase memory consumption\n",
      "  \"because it will generate extra copies and increase \" +\n"
     ]
    },
    {
     "name": "stdout",
     "output_type": "stream",
     "text": [
      "test y shape : (17520, 1)\n",
      "Inv y shape : (17520, 82)\n",
      "y pred shape : (17520, 1)\n",
      "inv y pred : (17520, 82)\n",
      "Run 4 Mean Absolute Error: 42.84283551561287\n",
      "[['node_6_demand', 'node_7_pressure', 'node_15_pressure', 'node_30_pressure', 'node_6_pressure', 'node_7_demand', 'link_19_flow', 'link_17_flow', 'node_11_pressure', 'node_12_demand', 'node_4_demand', 'node_13_demand', 'node_8_demand', 'node_16_pressure', 'link_6_flow']]\n",
      "starting df shape: (87600, 81)\n",
      "This is training run 5 and has the shape:  (87600, 81)\n",
      "The value of dropped columns is 15\n"
     ]
    },
    {
     "name": "stderr",
     "output_type": "stream",
     "text": [
      "/Users/alexellard/opt/anaconda3/lib/python3.7/site-packages/xgboost/data.py:96: UserWarning: Use subset (sliced data) of np.ndarray is not recommended because it will generate extra copies and increase memory consumption\n",
      "  \"because it will generate extra copies and increase \" +\n"
     ]
    },
    {
     "name": "stdout",
     "output_type": "stream",
     "text": [
      "test y shape : (17520, 1)\n",
      "Inv y shape : (17520, 81)\n",
      "y pred shape : (17520, 1)\n",
      "inv y pred : (17520, 81)\n",
      "Run 5 Mean Absolute Error: 45.796350668495734\n",
      "[['link_19_flow', 'node_5_pressure', 'link_25_flow', 'node_18_demand', 'node_28_pressure', 'link_26_flow', 'node_23_demand', 'node_31_demand', 'node_21_demand', 'link_3_flow', 'node_27_demand', 'node_8_demand', 'node_13_demand', 'node_26_pressure', 'node_11_demand']]\n",
      "starting df shape: (87600, 81)\n",
      "This is training run 6 and has the shape:  (87600, 81)\n",
      "The value of dropped columns is 15\n"
     ]
    },
    {
     "name": "stderr",
     "output_type": "stream",
     "text": [
      "/Users/alexellard/opt/anaconda3/lib/python3.7/site-packages/xgboost/data.py:96: UserWarning: Use subset (sliced data) of np.ndarray is not recommended because it will generate extra copies and increase memory consumption\n",
      "  \"because it will generate extra copies and increase \" +\n"
     ]
    },
    {
     "name": "stdout",
     "output_type": "stream",
     "text": [
      "test y shape : (17520, 1)\n",
      "Inv y shape : (17520, 81)\n",
      "y pred shape : (17520, 1)\n",
      "inv y pred : (17520, 81)\n",
      "Run 6 Mean Absolute Error: 45.41268511996826\n",
      "[['link_6_flow', 'node_23_pressure', 'node_14_pressure', 'link_31_flow', 'node_18_demand', 'node_31_demand', 'node_3_pressure', 'node_15_pressure', 'node_2_demand', 'node_28_pressure', 'reservoir_demand', 'node_27_demand', 'node_24_pressure', 'link_9_flow', 'node_26_demand']]\n",
      "starting df shape: (87600, 81)\n",
      "This is training run 7 and has the shape:  (87600, 81)\n",
      "The value of dropped columns is 15\n"
     ]
    },
    {
     "name": "stderr",
     "output_type": "stream",
     "text": [
      "/Users/alexellard/opt/anaconda3/lib/python3.7/site-packages/xgboost/data.py:96: UserWarning: Use subset (sliced data) of np.ndarray is not recommended because it will generate extra copies and increase memory consumption\n",
      "  \"because it will generate extra copies and increase \" +\n"
     ]
    },
    {
     "name": "stdout",
     "output_type": "stream",
     "text": [
      "test y shape : (17520, 1)\n",
      "Inv y shape : (17520, 81)\n",
      "y pred shape : (17520, 1)\n",
      "inv y pred : (17520, 81)\n",
      "Run 7 Mean Absolute Error: 2.8432987478195937\n",
      "[['node_13_pressure', 'link_10_flow', 'reservoir_pressure', 'node_3_demand', 'node_26_demand', 'link_31_flow', 'node_8_pressure', 'node_16_pressure', 'link_13_flow', 'link_7_flow', 'link_28_flow', 'node_12_demand', 'node_2_demand', 'node_1_demand']]\n",
      "starting df shape: (87600, 82)\n",
      "This is training run 8 and has the shape:  (87600, 82)\n",
      "The value of dropped columns is 15\n"
     ]
    },
    {
     "name": "stderr",
     "output_type": "stream",
     "text": [
      "/Users/alexellard/opt/anaconda3/lib/python3.7/site-packages/xgboost/data.py:96: UserWarning: Use subset (sliced data) of np.ndarray is not recommended because it will generate extra copies and increase memory consumption\n",
      "  \"because it will generate extra copies and increase \" +\n"
     ]
    },
    {
     "name": "stdout",
     "output_type": "stream",
     "text": [
      "test y shape : (17520, 1)\n",
      "Inv y shape : (17520, 82)\n",
      "y pred shape : (17520, 1)\n",
      "inv y pred : (17520, 82)\n",
      "Run 8 Mean Absolute Error: 47.101609538073625\n",
      "[['node_15_pressure', 'node_12_demand', 'link_17_flow', 'node_18_demand', 'node_28_demand', 'node_23_pressure', 'link_21_flow', 'node_17_pressure', 'link_1_flow', 'link_31_flow', 'node_25_pressure', 'node_7_demand', 'link_27_flow', 'node_6_pressure', 'link_3_flow']]\n",
      "starting df shape: (87600, 81)\n",
      "This is training run 9 and has the shape:  (87600, 81)\n",
      "The value of dropped columns is 15\n"
     ]
    },
    {
     "name": "stderr",
     "output_type": "stream",
     "text": [
      "/Users/alexellard/opt/anaconda3/lib/python3.7/site-packages/xgboost/data.py:96: UserWarning: Use subset (sliced data) of np.ndarray is not recommended because it will generate extra copies and increase memory consumption\n",
      "  \"because it will generate extra copies and increase \" +\n"
     ]
    },
    {
     "name": "stdout",
     "output_type": "stream",
     "text": [
      "test y shape : (17520, 1)\n",
      "Inv y shape : (17520, 81)\n",
      "y pred shape : (17520, 1)\n",
      "inv y pred : (17520, 81)\n",
      "Run 9 Mean Absolute Error: 47.86794501387118\n",
      "[['link_30_flow', 'node_15_demand', 'link_24_flow', 'node_5_pressure', 'node_30_pressure', 'node_5_demand', 'node_21_pressure', 'link_12_flow', 'link_9_flow', 'node_20_pressure', 'node_7_pressure', 'link_27_flow', 'node_21_demand', 'node_6_demand', 'link_22_flow']]\n",
      "starting df shape: (87600, 81)\n",
      "This is training run 10 and has the shape:  (87600, 81)\n",
      "The value of dropped columns is 15\n"
     ]
    },
    {
     "name": "stderr",
     "output_type": "stream",
     "text": [
      "/Users/alexellard/opt/anaconda3/lib/python3.7/site-packages/xgboost/data.py:96: UserWarning: Use subset (sliced data) of np.ndarray is not recommended because it will generate extra copies and increase memory consumption\n",
      "  \"because it will generate extra copies and increase \" +\n"
     ]
    },
    {
     "name": "stdout",
     "output_type": "stream",
     "text": [
      "test y shape : (17520, 1)\n",
      "Inv y shape : (17520, 81)\n",
      "y pred shape : (17520, 1)\n",
      "inv y pred : (17520, 81)\n",
      "Run 10 Mean Absolute Error: 47.20170813547611\n",
      "[['link_25_flow', 'link_15_flow', 'node_31_demand', 'node_8_demand', 'node_11_pressure', 'node_17_demand', 'node_18_demand', 'node_29_pressure', 'node_25_demand', 'node_20_pressure', 'link_10_flow', 'link_11_flow', 'node_15_demand', 'node_9_demand', 'node_14_pressure', 'node_8_pressure', 'node_16_pressure', 'node_3_pressure', 'node_21_pressure', 'node_21_demand']]\n",
      "starting df shape: (87600, 76)\n",
      "This is training run 1 and has the shape:  (87600, 76)\n",
      "The value of dropped columns is 20\n"
     ]
    },
    {
     "name": "stderr",
     "output_type": "stream",
     "text": [
      "/Users/alexellard/opt/anaconda3/lib/python3.7/site-packages/xgboost/data.py:96: UserWarning: Use subset (sliced data) of np.ndarray is not recommended because it will generate extra copies and increase memory consumption\n",
      "  \"because it will generate extra copies and increase \" +\n"
     ]
    },
    {
     "name": "stdout",
     "output_type": "stream",
     "text": [
      "test y shape : (17520, 1)\n",
      "Inv y shape : (17520, 76)\n",
      "y pred shape : (17520, 1)\n",
      "inv y pred : (17520, 76)\n",
      "Run 1 Mean Absolute Error: 76.6548123349663\n",
      "[['node_25_demand', 'node_22_pressure', 'node_29_demand', 'node_21_pressure', 'node_13_pressure', 'link_13_flow', 'node_20_demand', 'node_15_pressure', 'node_10_demand', 'link_28_flow', 'node_14_demand', 'node_2_pressure', 'link_23_flow', 'node_20_pressure', 'node_7_pressure', 'link_16_flow', 'node_27_demand', 'link_14_flow', 'link_12_flow', 'node_2_demand']]\n",
      "starting df shape: (87600, 76)\n",
      "This is training run 2 and has the shape:  (87600, 76)\n",
      "The value of dropped columns is 20\n"
     ]
    },
    {
     "name": "stderr",
     "output_type": "stream",
     "text": [
      "/Users/alexellard/opt/anaconda3/lib/python3.7/site-packages/xgboost/data.py:96: UserWarning: Use subset (sliced data) of np.ndarray is not recommended because it will generate extra copies and increase memory consumption\n",
      "  \"because it will generate extra copies and increase \" +\n"
     ]
    },
    {
     "name": "stdout",
     "output_type": "stream",
     "text": [
      "test y shape : (17520, 1)\n",
      "Inv y shape : (17520, 76)\n",
      "y pred shape : (17520, 1)\n",
      "inv y pred : (17520, 76)\n",
      "Run 2 Mean Absolute Error: 103.65832396798568\n",
      "[['node_12_pressure', 'link_20_flow', 'link_4_flow', 'link_12_flow', 'node_7_demand', 'node_1_pressure', 'link_23_flow', 'link_17_flow', 'link_18_flow', 'node_18_pressure', 'link_19_flow', 'node_13_demand', 'node_2_pressure', 'link_6_flow', 'node_30_pressure', 'node_13_pressure', 'link_7_flow', 'node_8_demand', 'node_18_demand', 'link_14_flow']]\n",
      "starting df shape: (87600, 76)\n",
      "This is training run 3 and has the shape:  (87600, 76)\n",
      "The value of dropped columns is 20\n"
     ]
    },
    {
     "name": "stderr",
     "output_type": "stream",
     "text": [
      "/Users/alexellard/opt/anaconda3/lib/python3.7/site-packages/xgboost/data.py:96: UserWarning: Use subset (sliced data) of np.ndarray is not recommended because it will generate extra copies and increase memory consumption\n",
      "  \"because it will generate extra copies and increase \" +\n"
     ]
    },
    {
     "name": "stdout",
     "output_type": "stream",
     "text": [
      "test y shape : (17520, 1)\n",
      "Inv y shape : (17520, 76)\n",
      "y pred shape : (17520, 1)\n",
      "inv y pred : (17520, 76)\n",
      "Run 3 Mean Absolute Error: 44.411278664157486\n",
      "[['node_19_pressure', 'link_28_flow', 'node_24_demand', 'node_30_demand', 'node_29_pressure', 'link_29_flow', 'reservoir_demand', 'node_20_demand', 'link_1_flow', 'node_5_pressure', 'link_26_flow', 'link_11_flow', 'link_19_flow', 'link_13_flow', 'link_22_flow', 'node_14_pressure', 'link_4_flow', 'node_2_pressure', 'node_15_demand', 'node_1_pressure']]\n",
      "starting df shape: (87600, 76)\n",
      "This is training run 4 and has the shape:  (87600, 76)\n",
      "The value of dropped columns is 20\n"
     ]
    },
    {
     "name": "stderr",
     "output_type": "stream",
     "text": [
      "/Users/alexellard/opt/anaconda3/lib/python3.7/site-packages/xgboost/data.py:96: UserWarning: Use subset (sliced data) of np.ndarray is not recommended because it will generate extra copies and increase memory consumption\n",
      "  \"because it will generate extra copies and increase \" +\n"
     ]
    },
    {
     "name": "stdout",
     "output_type": "stream",
     "text": [
      "test y shape : (17520, 1)\n",
      "Inv y shape : (17520, 76)\n",
      "y pred shape : (17520, 1)\n",
      "inv y pred : (17520, 76)\n",
      "Run 4 Mean Absolute Error: 2.7637257160556277\n",
      "[['node_8_demand', 'node_7_pressure', 'link_14_flow', 'node_5_demand', 'link_25_flow', 'node_22_pressure', 'node_9_demand', 'link_1_flow', 'link_28_flow', 'link_8_flow', 'link_24_flow', 'link_16_flow', 'node_24_demand', 'link_13_flow', 'node_1_demand', 'node_12_demand', 'link_6_flow', 'node_6_demand', 'node_15_pressure']]\n",
      "starting df shape: (87600, 77)\n",
      "This is training run 5 and has the shape:  (87600, 77)\n",
      "The value of dropped columns is 20\n"
     ]
    },
    {
     "name": "stderr",
     "output_type": "stream",
     "text": [
      "/Users/alexellard/opt/anaconda3/lib/python3.7/site-packages/xgboost/data.py:96: UserWarning: Use subset (sliced data) of np.ndarray is not recommended because it will generate extra copies and increase memory consumption\n",
      "  \"because it will generate extra copies and increase \" +\n"
     ]
    },
    {
     "name": "stdout",
     "output_type": "stream",
     "text": [
      "test y shape : (17520, 1)\n",
      "Inv y shape : (17520, 77)\n",
      "y pred shape : (17520, 1)\n",
      "inv y pred : (17520, 77)\n",
      "Run 5 Mean Absolute Error: 104.73177498218128\n",
      "[['node_15_demand', 'node_9_demand', 'link_9_flow', 'node_4_pressure', 'node_23_pressure', 'node_26_demand', 'link_22_flow', 'node_14_pressure', 'node_31_demand', 'node_17_demand', 'node_10_demand', 'link_13_flow', 'node_15_pressure', 'node_1_pressure', 'node_13_demand', 'node_1_demand', 'node_3_demand', 'node_22_demand', 'node_11_pressure', 'node_10_pressure']]\n",
      "starting df shape: (87600, 76)\n",
      "This is training run 6 and has the shape:  (87600, 76)\n",
      "The value of dropped columns is 20\n"
     ]
    },
    {
     "name": "stderr",
     "output_type": "stream",
     "text": [
      "/Users/alexellard/opt/anaconda3/lib/python3.7/site-packages/xgboost/data.py:96: UserWarning: Use subset (sliced data) of np.ndarray is not recommended because it will generate extra copies and increase memory consumption\n",
      "  \"because it will generate extra copies and increase \" +\n"
     ]
    },
    {
     "name": "stdout",
     "output_type": "stream",
     "text": [
      "test y shape : (17520, 1)\n",
      "Inv y shape : (17520, 76)\n",
      "y pred shape : (17520, 1)\n",
      "inv y pred : (17520, 76)\n",
      "Run 6 Mean Absolute Error: 45.89480287288602\n",
      "[['link_1_flow', 'node_2_pressure', 'node_9_demand', 'link_32_flow', 'link_22_flow', 'node_12_demand', 'node_24_demand', 'reservoir_demand', 'node_20_demand', 'link_8_flow', 'node_17_demand', 'link_5_flow', 'node_15_demand', 'node_8_demand', 'node_28_demand', 'node_9_pressure', 'node_14_demand', 'node_21_demand', 'node_28_pressure']]\n",
      "starting df shape: (87600, 77)\n",
      "This is training run 7 and has the shape:  (87600, 77)\n",
      "The value of dropped columns is 20\n"
     ]
    },
    {
     "name": "stderr",
     "output_type": "stream",
     "text": [
      "/Users/alexellard/opt/anaconda3/lib/python3.7/site-packages/xgboost/data.py:96: UserWarning: Use subset (sliced data) of np.ndarray is not recommended because it will generate extra copies and increase memory consumption\n",
      "  \"because it will generate extra copies and increase \" +\n"
     ]
    },
    {
     "name": "stdout",
     "output_type": "stream",
     "text": [
      "test y shape : (17520, 1)\n",
      "Inv y shape : (17520, 77)\n",
      "y pred shape : (17520, 1)\n",
      "inv y pred : (17520, 77)\n",
      "Run 7 Mean Absolute Error: 3.147353653098174\n",
      "[['node_21_pressure', 'node_1_demand', 'node_13_demand', 'node_15_pressure', 'link_12_flow', 'node_9_pressure', 'link_26_flow', 'link_9_flow', 'link_14_flow', 'node_1_pressure', 'node_9_demand', 'link_28_flow', 'node_20_demand', 'node_24_demand', 'link_32_flow', 'link_16_flow', 'link_1_flow', 'link_18_flow', 'link_6_flow', 'link_7_flow']]\n",
      "starting df shape: (87600, 76)\n",
      "This is training run 8 and has the shape:  (87600, 76)\n",
      "The value of dropped columns is 20\n"
     ]
    },
    {
     "name": "stderr",
     "output_type": "stream",
     "text": [
      "/Users/alexellard/opt/anaconda3/lib/python3.7/site-packages/xgboost/data.py:96: UserWarning: Use subset (sliced data) of np.ndarray is not recommended because it will generate extra copies and increase memory consumption\n",
      "  \"because it will generate extra copies and increase \" +\n"
     ]
    },
    {
     "name": "stdout",
     "output_type": "stream",
     "text": [
      "test y shape : (17520, 1)\n",
      "Inv y shape : (17520, 76)\n",
      "y pred shape : (17520, 1)\n",
      "inv y pred : (17520, 76)\n",
      "Run 8 Mean Absolute Error: 105.03959403698751\n",
      "[['node_4_pressure', 'node_9_demand', 'reservoir_demand', 'link_6_flow', 'node_19_pressure', 'node_31_pressure', 'node_28_demand', 'node_28_pressure', 'node_3_pressure', 'node_27_pressure', 'node_7_demand', 'node_1_demand', 'node_6_pressure', 'link_10_flow', 'node_2_demand', 'node_23_pressure', 'node_22_pressure', 'reservoir_pressure', 'node_14_pressure', 'node_10_demand']]\n",
      "starting df shape: (87600, 76)\n",
      "This is training run 9 and has the shape:  (87600, 76)\n",
      "The value of dropped columns is 20\n"
     ]
    },
    {
     "name": "stderr",
     "output_type": "stream",
     "text": [
      "/Users/alexellard/opt/anaconda3/lib/python3.7/site-packages/xgboost/data.py:96: UserWarning: Use subset (sliced data) of np.ndarray is not recommended because it will generate extra copies and increase memory consumption\n",
      "  \"because it will generate extra copies and increase \" +\n"
     ]
    },
    {
     "name": "stdout",
     "output_type": "stream",
     "text": [
      "test y shape : (17520, 1)\n",
      "Inv y shape : (17520, 76)\n",
      "y pred shape : (17520, 1)\n",
      "inv y pred : (17520, 76)\n",
      "Run 9 Mean Absolute Error: 0.41238474683668885\n",
      "[['node_16_pressure', 'link_27_flow', 'node_25_demand', 'link_19_flow', 'node_8_pressure', 'node_21_demand', 'node_30_pressure', 'link_16_flow', 'node_26_pressure', 'node_11_pressure', 'node_13_pressure', 'link_6_flow', 'node_12_pressure', 'link_10_flow', 'node_20_demand', 'link_22_flow', 'node_13_demand', 'node_1_demand', 'node_31_pressure', 'link_15_flow']]\n",
      "starting df shape: (87600, 76)\n",
      "This is training run 10 and has the shape:  (87600, 76)\n",
      "The value of dropped columns is 20\n"
     ]
    },
    {
     "name": "stderr",
     "output_type": "stream",
     "text": [
      "/Users/alexellard/opt/anaconda3/lib/python3.7/site-packages/xgboost/data.py:96: UserWarning: Use subset (sliced data) of np.ndarray is not recommended because it will generate extra copies and increase memory consumption\n",
      "  \"because it will generate extra copies and increase \" +\n"
     ]
    },
    {
     "name": "stdout",
     "output_type": "stream",
     "text": [
      "test y shape : (17520, 1)\n",
      "Inv y shape : (17520, 76)\n",
      "y pred shape : (17520, 1)\n",
      "inv y pred : (17520, 76)\n",
      "Run 10 Mean Absolute Error: 130.37003896988782\n",
      "[['node_14_demand', 'link_9_flow', 'node_9_pressure', 'link_10_flow', 'link_28_flow', 'node_7_demand', 'node_23_pressure', 'link_22_flow', 'link_19_flow', 'node_13_demand', 'link_12_flow', 'node_10_pressure', 'reservoir_pressure', 'node_6_pressure', 'link_20_flow', 'link_3_flow', 'node_14_pressure', 'link_4_flow', 'node_15_pressure', 'node_24_pressure', 'node_9_demand', 'node_18_pressure', 'node_22_demand', 'node_6_demand', 'node_3_pressure']]\n",
      "starting df shape: (87600, 71)\n",
      "This is training run 1 and has the shape:  (87600, 71)\n",
      "The value of dropped columns is 25\n"
     ]
    },
    {
     "name": "stderr",
     "output_type": "stream",
     "text": [
      "/Users/alexellard/opt/anaconda3/lib/python3.7/site-packages/xgboost/data.py:96: UserWarning: Use subset (sliced data) of np.ndarray is not recommended because it will generate extra copies and increase memory consumption\n",
      "  \"because it will generate extra copies and increase \" +\n"
     ]
    },
    {
     "name": "stdout",
     "output_type": "stream",
     "text": [
      "test y shape : (17520, 1)\n",
      "Inv y shape : (17520, 71)\n",
      "y pred shape : (17520, 1)\n",
      "inv y pred : (17520, 71)\n",
      "Run 1 Mean Absolute Error: 44.056902540075065\n",
      "[['node_17_pressure', 'node_16_pressure', 'link_11_flow', 'node_14_pressure', 'link_32_flow', 'link_22_flow', 'node_31_demand', 'link_12_flow', 'reservoir_demand', 'node_26_demand', 'reservoir_pressure', 'node_19_demand', 'node_20_demand', 'link_29_flow', 'node_3_pressure', 'node_13_demand', 'link_9_flow', 'node_12_pressure', 'link_5_flow', 'link_20_flow', 'link_4_flow', 'node_8_demand', 'link_24_flow', 'node_8_pressure']]\n",
      "starting df shape: (87600, 72)\n",
      "This is training run 2 and has the shape:  (87600, 72)\n",
      "The value of dropped columns is 25\n"
     ]
    },
    {
     "name": "stderr",
     "output_type": "stream",
     "text": [
      "/Users/alexellard/opt/anaconda3/lib/python3.7/site-packages/xgboost/data.py:96: UserWarning: Use subset (sliced data) of np.ndarray is not recommended because it will generate extra copies and increase memory consumption\n",
      "  \"because it will generate extra copies and increase \" +\n"
     ]
    },
    {
     "name": "stdout",
     "output_type": "stream",
     "text": [
      "test y shape : (17520, 1)\n",
      "Inv y shape : (17520, 72)\n",
      "y pred shape : (17520, 1)\n",
      "inv y pred : (17520, 72)\n",
      "Run 2 Mean Absolute Error: 3.0739322247169856\n",
      "[['link_7_flow', 'link_29_flow', 'node_4_pressure', 'node_21_demand', 'node_20_demand', 'node_18_demand', 'node_5_pressure', 'link_13_flow', 'node_5_demand', 'reservoir_pressure', 'node_2_demand', 'node_29_pressure', 'reservoir_demand', 'node_31_pressure', 'link_2_flow', 'link_18_flow', 'link_19_flow', 'link_9_flow', 'node_13_demand', 'link_20_flow', 'node_1_pressure', 'node_22_pressure', 'node_24_demand', 'node_19_demand', 'node_12_pressure']]\n",
      "starting df shape: (87600, 71)\n",
      "This is training run 3 and has the shape:  (87600, 71)\n",
      "The value of dropped columns is 25\n"
     ]
    },
    {
     "name": "stderr",
     "output_type": "stream",
     "text": [
      "/Users/alexellard/opt/anaconda3/lib/python3.7/site-packages/xgboost/data.py:96: UserWarning: Use subset (sliced data) of np.ndarray is not recommended because it will generate extra copies and increase memory consumption\n",
      "  \"because it will generate extra copies and increase \" +\n"
     ]
    },
    {
     "name": "stdout",
     "output_type": "stream",
     "text": [
      "test y shape : (17520, 1)\n",
      "Inv y shape : (17520, 71)\n",
      "y pred shape : (17520, 1)\n",
      "inv y pred : (17520, 71)\n",
      "Run 3 Mean Absolute Error: 2.6407530655425866\n",
      "[['node_24_pressure', 'node_11_demand', 'node_4_demand', 'link_10_flow', 'node_18_pressure', 'node_19_pressure', 'node_1_demand', 'link_26_flow', 'node_30_pressure', 'node_23_demand', 'link_5_flow', 'node_8_demand', 'node_14_demand', 'node_18_demand', 'link_15_flow', 'link_14_flow', 'node_10_pressure', 'link_31_flow', 'node_14_pressure', 'link_12_flow', 'node_26_pressure', 'node_7_demand', 'node_5_demand', 'node_27_demand', 'node_13_demand']]\n",
      "starting df shape: (87600, 71)\n",
      "This is training run 4 and has the shape:  (87600, 71)\n",
      "The value of dropped columns is 25\n"
     ]
    },
    {
     "name": "stderr",
     "output_type": "stream",
     "text": [
      "/Users/alexellard/opt/anaconda3/lib/python3.7/site-packages/xgboost/data.py:96: UserWarning: Use subset (sliced data) of np.ndarray is not recommended because it will generate extra copies and increase memory consumption\n",
      "  \"because it will generate extra copies and increase \" +\n"
     ]
    },
    {
     "name": "stdout",
     "output_type": "stream",
     "text": [
      "test y shape : (17520, 1)\n",
      "Inv y shape : (17520, 71)\n",
      "y pred shape : (17520, 1)\n",
      "inv y pred : (17520, 71)\n",
      "Run 4 Mean Absolute Error: 75.71727759088036\n",
      "[['node_12_demand', 'node_14_demand', 'node_26_pressure', 'node_30_pressure', 'link_19_flow', 'node_15_demand', 'node_28_pressure', 'node_14_pressure', 'link_14_flow', 'node_25_demand', 'node_30_demand', 'node_23_pressure', 'link_4_flow', 'link_3_flow', 'node_24_pressure', 'link_16_flow', 'link_18_flow', 'link_29_flow', 'node_19_demand', 'node_4_pressure', 'link_22_flow', 'node_8_demand', 'node_9_demand', 'node_6_pressure', 'link_7_flow']]\n",
      "starting df shape: (87600, 71)\n",
      "This is training run 5 and has the shape:  (87600, 71)\n",
      "The value of dropped columns is 25\n"
     ]
    },
    {
     "name": "stderr",
     "output_type": "stream",
     "text": [
      "/Users/alexellard/opt/anaconda3/lib/python3.7/site-packages/xgboost/data.py:96: UserWarning: Use subset (sliced data) of np.ndarray is not recommended because it will generate extra copies and increase memory consumption\n",
      "  \"because it will generate extra copies and increase \" +\n"
     ]
    },
    {
     "name": "stdout",
     "output_type": "stream",
     "text": [
      "test y shape : (17520, 1)\n",
      "Inv y shape : (17520, 71)\n",
      "y pred shape : (17520, 1)\n",
      "inv y pred : (17520, 71)\n",
      "Run 5 Mean Absolute Error: 103.53640494870076\n",
      "[['node_6_demand', 'link_13_flow', 'node_19_demand', 'link_18_flow', 'node_31_pressure', 'link_32_flow', 'node_3_pressure', 'node_17_demand', 'reservoir_demand', 'node_30_demand', 'node_17_pressure', 'link_17_flow', 'link_6_flow', 'node_20_demand', 'node_4_pressure', 'node_2_demand', 'node_14_pressure', 'node_25_demand', 'node_10_demand', 'node_22_demand', 'node_24_demand', 'node_23_pressure', 'link_27_flow', 'node_5_pressure', 'node_21_demand']]\n",
      "starting df shape: (87600, 71)\n",
      "This is training run 6 and has the shape:  (87600, 71)\n",
      "The value of dropped columns is 25\n"
     ]
    },
    {
     "name": "stderr",
     "output_type": "stream",
     "text": [
      "/Users/alexellard/opt/anaconda3/lib/python3.7/site-packages/xgboost/data.py:96: UserWarning: Use subset (sliced data) of np.ndarray is not recommended because it will generate extra copies and increase memory consumption\n",
      "  \"because it will generate extra copies and increase \" +\n"
     ]
    },
    {
     "name": "stdout",
     "output_type": "stream",
     "text": [
      "test y shape : (17520, 1)\n",
      "Inv y shape : (17520, 71)\n",
      "y pred shape : (17520, 1)\n",
      "inv y pred : (17520, 71)\n",
      "Run 6 Mean Absolute Error: 2.68268227593548\n",
      "[['node_20_demand', 'node_3_demand', 'node_8_demand', 'node_23_pressure', 'node_2_pressure', 'node_20_pressure', 'link_15_flow', 'node_11_pressure', 'link_10_flow', 'link_26_flow', 'node_5_demand', 'node_6_pressure', 'node_31_demand', 'node_2_demand', 'node_7_demand', 'node_5_pressure', 'node_21_demand', 'node_1_demand', 'node_28_pressure', 'node_30_demand', 'node_7_pressure', 'node_10_pressure', 'node_8_pressure', 'link_19_flow', 'node_24_pressure']]\n",
      "starting df shape: (87600, 71)\n",
      "This is training run 7 and has the shape:  (87600, 71)\n",
      "The value of dropped columns is 25\n"
     ]
    },
    {
     "name": "stderr",
     "output_type": "stream",
     "text": [
      "/Users/alexellard/opt/anaconda3/lib/python3.7/site-packages/xgboost/data.py:96: UserWarning: Use subset (sliced data) of np.ndarray is not recommended because it will generate extra copies and increase memory consumption\n",
      "  \"because it will generate extra copies and increase \" +\n"
     ]
    },
    {
     "name": "stdout",
     "output_type": "stream",
     "text": [
      "test y shape : (17520, 1)\n",
      "Inv y shape : (17520, 71)\n",
      "y pred shape : (17520, 1)\n",
      "inv y pred : (17520, 71)\n",
      "Run 7 Mean Absolute Error: 72.22141411954674\n",
      "[['node_3_demand', 'link_31_flow', 'node_20_demand', 'reservoir_pressure', 'node_5_demand', 'node_22_pressure', 'link_21_flow', 'link_27_flow', 'link_18_flow', 'node_14_pressure', 'node_31_demand', 'node_22_demand', 'link_3_flow', 'link_7_flow', 'link_13_flow', 'link_4_flow', 'node_15_demand', 'node_16_pressure', 'link_19_flow', 'link_10_flow', 'node_13_demand', 'node_31_pressure', 'node_2_pressure', 'node_18_pressure']]\n",
      "starting df shape: (87600, 72)\n",
      "This is training run 8 and has the shape:  (87600, 72)\n",
      "The value of dropped columns is 25\n"
     ]
    },
    {
     "name": "stderr",
     "output_type": "stream",
     "text": [
      "/Users/alexellard/opt/anaconda3/lib/python3.7/site-packages/xgboost/data.py:96: UserWarning: Use subset (sliced data) of np.ndarray is not recommended because it will generate extra copies and increase memory consumption\n",
      "  \"because it will generate extra copies and increase \" +\n"
     ]
    },
    {
     "name": "stdout",
     "output_type": "stream",
     "text": [
      "test y shape : (17520, 1)\n",
      "Inv y shape : (17520, 72)\n",
      "y pred shape : (17520, 1)\n",
      "inv y pred : (17520, 72)\n",
      "Run 8 Mean Absolute Error: 50.416368697962916\n",
      "[['node_15_demand', 'reservoir_pressure', 'node_9_pressure', 'node_28_pressure', 'link_9_flow', 'link_26_flow', 'link_3_flow', 'node_26_pressure', 'reservoir_demand', 'node_13_pressure', 'node_25_pressure', 'node_20_pressure', 'node_11_demand', 'node_8_demand', 'node_2_demand', 'node_2_pressure', 'link_4_flow', 'node_3_pressure', 'node_15_pressure', 'node_29_demand', 'link_32_flow', 'node_30_pressure', 'link_19_flow', 'node_9_demand', 'link_8_flow']]\n",
      "starting df shape: (87600, 71)\n",
      "This is training run 9 and has the shape:  (87600, 71)\n",
      "The value of dropped columns is 25\n"
     ]
    },
    {
     "name": "stderr",
     "output_type": "stream",
     "text": [
      "/Users/alexellard/opt/anaconda3/lib/python3.7/site-packages/xgboost/data.py:96: UserWarning: Use subset (sliced data) of np.ndarray is not recommended because it will generate extra copies and increase memory consumption\n",
      "  \"because it will generate extra copies and increase \" +\n"
     ]
    },
    {
     "name": "stdout",
     "output_type": "stream",
     "text": [
      "test y shape : (17520, 1)\n",
      "Inv y shape : (17520, 71)\n",
      "y pred shape : (17520, 1)\n",
      "inv y pred : (17520, 71)\n",
      "Run 9 Mean Absolute Error: 2.7118768996857794\n",
      "[['node_13_pressure', 'node_10_pressure', 'node_7_demand', 'node_30_demand', 'node_27_demand', 'link_11_flow', 'node_15_demand', 'link_4_flow', 'link_23_flow', 'node_13_demand', 'node_1_demand', 'node_25_demand', 'link_14_flow', 'node_29_demand', 'link_26_flow', 'reservoir_demand', 'node_26_demand', 'link_30_flow', 'node_8_pressure', 'node_17_demand', 'link_28_flow', 'link_19_flow', 'link_1_flow', 'node_4_demand', 'node_9_pressure']]\n",
      "starting df shape: (87600, 71)\n",
      "This is training run 10 and has the shape:  (87600, 71)\n",
      "The value of dropped columns is 25\n"
     ]
    },
    {
     "name": "stderr",
     "output_type": "stream",
     "text": [
      "/Users/alexellard/opt/anaconda3/lib/python3.7/site-packages/xgboost/data.py:96: UserWarning: Use subset (sliced data) of np.ndarray is not recommended because it will generate extra copies and increase memory consumption\n",
      "  \"because it will generate extra copies and increase \" +\n"
     ]
    },
    {
     "name": "stdout",
     "output_type": "stream",
     "text": [
      "test y shape : (17520, 1)\n",
      "Inv y shape : (17520, 71)\n",
      "y pred shape : (17520, 1)\n",
      "inv y pred : (17520, 71)\n",
      "Run 10 Mean Absolute Error: 2.730111637132179\n",
      "[['node_17_demand', 'link_14_flow', 'node_4_pressure', 'link_2_flow', 'node_17_pressure', 'link_3_flow', 'link_27_flow', 'link_29_flow', 'node_29_pressure', 'link_19_flow', 'link_17_flow', 'node_25_demand', 'node_8_pressure', 'node_11_demand', 'node_12_demand', 'link_9_flow', 'node_11_pressure', 'link_16_flow', 'link_26_flow', 'node_21_demand', 'link_10_flow', 'link_1_flow', 'node_31_pressure', 'node_15_pressure', 'node_24_pressure', 'node_28_pressure', 'link_22_flow', 'node_19_pressure', 'node_22_demand']]\n",
      "starting df shape: (87600, 67)\n",
      "This is training run 1 and has the shape:  (87600, 67)\n",
      "The value of dropped columns is 30\n"
     ]
    },
    {
     "name": "stderr",
     "output_type": "stream",
     "text": [
      "/Users/alexellard/opt/anaconda3/lib/python3.7/site-packages/xgboost/data.py:96: UserWarning: Use subset (sliced data) of np.ndarray is not recommended because it will generate extra copies and increase memory consumption\n",
      "  \"because it will generate extra copies and increase \" +\n"
     ]
    },
    {
     "name": "stdout",
     "output_type": "stream",
     "text": [
      "test y shape : (17520, 1)\n",
      "Inv y shape : (17520, 67)\n",
      "y pred shape : (17520, 1)\n",
      "inv y pred : (17520, 67)\n",
      "Run 1 Mean Absolute Error: 127.88839522990965\n",
      "[['link_23_flow', 'node_27_demand', 'node_10_pressure', 'link_16_flow', 'node_2_pressure', 'reservoir_demand', 'node_10_demand', 'node_18_pressure', 'reservoir_pressure', 'node_6_pressure', 'node_17_demand', 'node_29_pressure', 'node_4_pressure', 'node_5_pressure', 'node_3_pressure', 'node_31_pressure', 'node_15_pressure', 'link_8_flow', 'node_2_demand', 'node_20_pressure', 'node_31_demand', 'link_12_flow', 'node_24_pressure', 'node_8_demand', 'node_28_pressure', 'node_5_demand', 'node_22_pressure', 'link_9_flow', 'node_11_pressure', 'node_24_demand']]\n",
      "starting df shape: (87600, 66)\n",
      "This is training run 2 and has the shape:  (87600, 66)\n",
      "The value of dropped columns is 30\n"
     ]
    },
    {
     "name": "stderr",
     "output_type": "stream",
     "text": [
      "/Users/alexellard/opt/anaconda3/lib/python3.7/site-packages/xgboost/data.py:96: UserWarning: Use subset (sliced data) of np.ndarray is not recommended because it will generate extra copies and increase memory consumption\n",
      "  \"because it will generate extra copies and increase \" +\n"
     ]
    },
    {
     "name": "stdout",
     "output_type": "stream",
     "text": [
      "test y shape : (17520, 1)\n",
      "Inv y shape : (17520, 66)\n",
      "y pred shape : (17520, 1)\n",
      "inv y pred : (17520, 66)\n",
      "Run 2 Mean Absolute Error: 7.862476037560352\n",
      "[['link_10_flow', 'node_15_demand', 'node_21_pressure', 'node_28_demand', 'node_24_pressure', 'link_15_flow', 'node_6_pressure', 'node_12_pressure', 'link_22_flow', 'node_10_pressure', 'node_14_pressure', 'node_5_pressure', 'node_7_demand', 'link_23_flow', 'link_12_flow', 'node_25_pressure', 'link_28_flow', 'link_6_flow', 'node_19_demand', 'node_21_demand', 'link_1_flow', 'node_8_pressure', 'reservoir_demand', 'link_7_flow', 'reservoir_pressure', 'node_9_pressure', 'node_7_pressure', 'node_30_demand', 'node_10_demand', 'node_22_pressure']]\n",
      "starting df shape: (87600, 66)\n",
      "This is training run 3 and has the shape:  (87600, 66)\n",
      "The value of dropped columns is 30\n"
     ]
    },
    {
     "name": "stderr",
     "output_type": "stream",
     "text": [
      "/Users/alexellard/opt/anaconda3/lib/python3.7/site-packages/xgboost/data.py:96: UserWarning: Use subset (sliced data) of np.ndarray is not recommended because it will generate extra copies and increase memory consumption\n",
      "  \"because it will generate extra copies and increase \" +\n"
     ]
    },
    {
     "name": "stdout",
     "output_type": "stream",
     "text": [
      "test y shape : (17520, 1)\n",
      "Inv y shape : (17520, 66)\n",
      "y pred shape : (17520, 1)\n",
      "inv y pred : (17520, 66)\n",
      "Run 3 Mean Absolute Error: 4.785734564961977\n",
      "[['link_6_flow', 'node_5_pressure', 'node_27_demand', 'link_22_flow', 'link_18_flow', 'node_31_demand', 'node_26_demand', 'node_17_demand', 'node_14_pressure', 'node_18_pressure', 'link_23_flow', 'link_29_flow', 'link_21_flow', 'node_26_pressure', 'node_11_demand', 'node_12_pressure', 'node_6_demand', 'node_31_pressure', 'link_1_flow', 'link_8_flow', 'node_1_demand', 'link_11_flow', 'node_11_pressure', 'node_9_pressure', 'node_3_pressure', 'node_22_pressure', 'link_24_flow', 'link_17_flow', 'node_25_pressure', 'link_7_flow']]\n",
      "starting df shape: (87600, 66)\n",
      "This is training run 4 and has the shape:  (87600, 66)\n",
      "The value of dropped columns is 30\n"
     ]
    },
    {
     "name": "stderr",
     "output_type": "stream",
     "text": [
      "/Users/alexellard/opt/anaconda3/lib/python3.7/site-packages/xgboost/data.py:96: UserWarning: Use subset (sliced data) of np.ndarray is not recommended because it will generate extra copies and increase memory consumption\n",
      "  \"because it will generate extra copies and increase \" +\n"
     ]
    },
    {
     "name": "stdout",
     "output_type": "stream",
     "text": [
      "test y shape : (17520, 1)\n",
      "Inv y shape : (17520, 66)\n",
      "y pred shape : (17520, 1)\n",
      "inv y pred : (17520, 66)\n",
      "Run 4 Mean Absolute Error: 44.783724006285574\n",
      "[['node_17_demand', 'link_27_flow', 'node_10_demand', 'link_3_flow', 'node_19_pressure', 'node_11_demand', 'link_1_flow', 'node_19_demand', 'node_28_pressure', 'link_24_flow', 'link_5_flow', 'link_9_flow', 'node_9_demand', 'link_7_flow', 'link_18_flow', 'node_2_pressure', 'node_3_demand', 'node_8_pressure', 'node_29_demand', 'node_13_demand', 'node_5_pressure', 'link_25_flow', 'node_31_demand', 'link_4_flow', 'link_28_flow', 'node_7_pressure', 'node_15_demand', 'link_17_flow', 'node_25_demand']]\n",
      "starting df shape: (87600, 67)\n",
      "This is training run 5 and has the shape:  (87600, 67)\n",
      "The value of dropped columns is 30\n"
     ]
    },
    {
     "name": "stderr",
     "output_type": "stream",
     "text": [
      "/Users/alexellard/opt/anaconda3/lib/python3.7/site-packages/xgboost/data.py:96: UserWarning: Use subset (sliced data) of np.ndarray is not recommended because it will generate extra copies and increase memory consumption\n",
      "  \"because it will generate extra copies and increase \" +\n"
     ]
    },
    {
     "name": "stdout",
     "output_type": "stream",
     "text": [
      "test y shape : (17520, 1)\n",
      "Inv y shape : (17520, 67)\n",
      "y pred shape : (17520, 1)\n",
      "inv y pred : (17520, 67)\n",
      "Run 5 Mean Absolute Error: 43.6192010176645\n",
      "[['node_15_demand', 'link_23_flow', 'node_30_demand', 'node_16_pressure', 'node_23_pressure', 'node_26_demand', 'link_17_flow', 'node_29_pressure', 'node_21_demand', 'link_29_flow', 'node_9_pressure', 'node_28_pressure', 'node_19_pressure', 'link_31_flow', 'node_26_pressure', 'node_10_pressure', 'node_18_demand', 'link_4_flow', 'node_18_pressure', 'node_7_demand', 'node_7_pressure', 'node_11_demand', 'node_20_pressure', 'node_6_demand', 'link_2_flow', 'node_2_pressure', 'link_1_flow', 'link_13_flow', 'node_12_pressure', 'link_3_flow']]\n",
      "starting df shape: (87600, 66)\n",
      "This is training run 6 and has the shape:  (87600, 66)\n",
      "The value of dropped columns is 30\n"
     ]
    },
    {
     "name": "stderr",
     "output_type": "stream",
     "text": [
      "/Users/alexellard/opt/anaconda3/lib/python3.7/site-packages/xgboost/data.py:96: UserWarning: Use subset (sliced data) of np.ndarray is not recommended because it will generate extra copies and increase memory consumption\n",
      "  \"because it will generate extra copies and increase \" +\n"
     ]
    },
    {
     "name": "stdout",
     "output_type": "stream",
     "text": [
      "test y shape : (17520, 1)\n",
      "Inv y shape : (17520, 66)\n",
      "y pred shape : (17520, 1)\n",
      "inv y pred : (17520, 66)\n",
      "Run 6 Mean Absolute Error: 50.80266790120603\n",
      "[['link_9_flow', 'node_29_demand', 'node_18_pressure', 'link_25_flow', 'node_16_pressure', 'node_1_demand', 'link_20_flow', 'link_4_flow', 'node_9_pressure', 'node_28_pressure', 'link_1_flow', 'node_3_pressure', 'link_14_flow', 'node_11_pressure', 'node_31_pressure', 'node_17_pressure', 'node_13_pressure', 'node_8_pressure', 'reservoir_pressure', 'node_23_pressure', 'link_11_flow', 'node_14_pressure', 'node_20_pressure', 'link_12_flow', 'node_8_demand', 'node_2_demand', 'node_6_demand', 'node_12_pressure', 'node_24_pressure', 'link_6_flow']]\n",
      "starting df shape: (87600, 66)\n",
      "This is training run 7 and has the shape:  (87600, 66)\n",
      "The value of dropped columns is 30\n"
     ]
    },
    {
     "name": "stderr",
     "output_type": "stream",
     "text": [
      "/Users/alexellard/opt/anaconda3/lib/python3.7/site-packages/xgboost/data.py:96: UserWarning: Use subset (sliced data) of np.ndarray is not recommended because it will generate extra copies and increase memory consumption\n",
      "  \"because it will generate extra copies and increase \" +\n"
     ]
    },
    {
     "name": "stdout",
     "output_type": "stream",
     "text": [
      "test y shape : (17520, 1)\n",
      "Inv y shape : (17520, 66)\n",
      "y pred shape : (17520, 1)\n",
      "inv y pred : (17520, 66)\n",
      "Run 7 Mean Absolute Error: 46.21034674196171\n",
      "[['node_26_demand', 'node_13_pressure', 'node_9_pressure', 'node_15_pressure', 'node_27_demand', 'link_21_flow', 'link_25_flow', 'link_2_flow', 'node_8_demand', 'link_8_flow', 'node_20_pressure', 'link_16_flow', 'node_23_pressure', 'node_22_pressure', 'node_14_pressure', 'link_4_flow', 'node_14_demand', 'link_10_flow', 'node_29_demand', 'node_17_pressure', 'node_19_demand', 'link_30_flow', 'link_3_flow', 'node_23_demand', 'node_21_demand', 'link_32_flow', 'link_24_flow', 'node_29_pressure', 'link_12_flow', 'node_27_pressure']]\n",
      "starting df shape: (87600, 66)\n",
      "This is training run 8 and has the shape:  (87600, 66)\n",
      "The value of dropped columns is 30\n"
     ]
    },
    {
     "name": "stderr",
     "output_type": "stream",
     "text": [
      "/Users/alexellard/opt/anaconda3/lib/python3.7/site-packages/xgboost/data.py:96: UserWarning: Use subset (sliced data) of np.ndarray is not recommended because it will generate extra copies and increase memory consumption\n",
      "  \"because it will generate extra copies and increase \" +\n"
     ]
    },
    {
     "name": "stdout",
     "output_type": "stream",
     "text": [
      "test y shape : (17520, 1)\n",
      "Inv y shape : (17520, 66)\n",
      "y pred shape : (17520, 1)\n",
      "inv y pred : (17520, 66)\n",
      "Run 8 Mean Absolute Error: 103.71357568957104\n",
      "[['reservoir_demand', 'node_11_pressure', 'node_10_pressure', 'node_28_demand', 'node_9_demand', 'node_30_demand', 'node_6_pressure', 'node_15_pressure', 'reservoir_pressure', 'link_4_flow', 'link_25_flow', 'node_26_demand', 'link_23_flow', 'node_19_pressure', 'link_8_flow', 'link_26_flow', 'link_27_flow', 'link_12_flow', 'link_17_flow', 'link_31_flow', 'node_5_demand', 'node_23_demand', 'node_3_pressure', 'link_22_flow', 'link_24_flow', 'node_3_demand', 'node_27_demand', 'node_24_pressure', 'node_16_pressure']]\n",
      "starting df shape: (87600, 67)\n",
      "This is training run 9 and has the shape:  (87600, 67)\n",
      "The value of dropped columns is 30\n"
     ]
    },
    {
     "name": "stderr",
     "output_type": "stream",
     "text": [
      "/Users/alexellard/opt/anaconda3/lib/python3.7/site-packages/xgboost/data.py:96: UserWarning: Use subset (sliced data) of np.ndarray is not recommended because it will generate extra copies and increase memory consumption\n",
      "  \"because it will generate extra copies and increase \" +\n"
     ]
    },
    {
     "name": "stdout",
     "output_type": "stream",
     "text": [
      "test y shape : (17520, 1)\n",
      "Inv y shape : (17520, 67)\n",
      "y pred shape : (17520, 1)\n",
      "inv y pred : (17520, 67)\n",
      "Run 9 Mean Absolute Error: 2.8383867018936138\n",
      "[['link_32_flow', 'link_1_flow', 'link_23_flow', 'link_20_flow', 'node_18_pressure', 'link_24_flow', 'link_22_flow', 'link_17_flow', 'link_5_flow', 'link_11_flow', 'link_4_flow', 'reservoir_pressure', 'node_13_demand', 'link_9_flow', 'link_26_flow', 'node_30_demand', 'link_12_flow', 'node_21_pressure', 'node_17_demand', 'link_8_flow', 'node_27_pressure', 'node_15_demand', 'node_3_pressure', 'node_28_demand', 'link_7_flow', 'link_10_flow', 'node_2_pressure', 'node_13_pressure', 'link_25_flow', 'node_23_demand']]\n",
      "starting df shape: (87600, 66)\n",
      "This is training run 10 and has the shape:  (87600, 66)\n",
      "The value of dropped columns is 30\n"
     ]
    },
    {
     "name": "stderr",
     "output_type": "stream",
     "text": [
      "/Users/alexellard/opt/anaconda3/lib/python3.7/site-packages/xgboost/data.py:96: UserWarning: Use subset (sliced data) of np.ndarray is not recommended because it will generate extra copies and increase memory consumption\n",
      "  \"because it will generate extra copies and increase \" +\n"
     ]
    },
    {
     "name": "stdout",
     "output_type": "stream",
     "text": [
      "test y shape : (17520, 1)\n",
      "Inv y shape : (17520, 66)\n",
      "y pred shape : (17520, 1)\n",
      "inv y pred : (17520, 66)\n",
      "Run 10 Mean Absolute Error: 45.12637070712762\n",
      "[['node_21_demand', 'link_24_flow', 'node_9_demand', 'node_17_pressure', 'link_27_flow', 'link_22_flow', 'link_32_flow', 'link_17_flow', 'link_10_flow', 'link_7_flow', 'node_24_demand', 'node_13_pressure', 'node_4_pressure', 'node_21_pressure', 'node_13_demand', 'node_19_demand', 'node_29_demand', 'link_30_flow', 'link_21_flow', 'node_10_pressure', 'link_13_flow', 'node_22_pressure', 'node_31_demand', 'node_6_demand', 'link_15_flow', 'node_28_demand', 'node_22_demand', 'node_10_demand', 'link_18_flow', 'node_5_demand', 'node_12_pressure', 'node_3_pressure', 'node_26_demand', 'node_30_pressure', 'node_18_demand']]\n",
      "starting df shape: (87600, 61)\n",
      "This is training run 1 and has the shape:  (87600, 61)\n",
      "The value of dropped columns is 35\n"
     ]
    },
    {
     "name": "stderr",
     "output_type": "stream",
     "text": [
      "/Users/alexellard/opt/anaconda3/lib/python3.7/site-packages/xgboost/data.py:96: UserWarning: Use subset (sliced data) of np.ndarray is not recommended because it will generate extra copies and increase memory consumption\n",
      "  \"because it will generate extra copies and increase \" +\n"
     ]
    },
    {
     "name": "stdout",
     "output_type": "stream",
     "text": [
      "test y shape : (17520, 1)\n",
      "Inv y shape : (17520, 61)\n",
      "y pred shape : (17520, 1)\n",
      "inv y pred : (17520, 61)\n",
      "Run 1 Mean Absolute Error: 72.65078155563998\n",
      "[['node_29_pressure', 'node_14_pressure', 'link_25_flow', 'link_8_flow', 'link_4_flow', 'link_31_flow', 'node_16_pressure', 'link_1_flow', 'node_7_demand', 'node_31_demand', 'link_13_flow', 'node_25_pressure', 'link_22_flow', 'link_24_flow', 'link_18_flow', 'node_13_pressure', 'node_10_pressure', 'node_27_pressure', 'link_15_flow', 'link_16_flow', 'node_7_pressure', 'link_7_flow', 'node_9_demand', 'node_23_demand', 'node_25_demand', 'node_14_demand', 'link_20_flow', 'link_21_flow', 'node_22_demand', 'link_14_flow', 'node_21_pressure', 'node_2_pressure', 'link_11_flow', 'link_9_flow']]\n",
      "starting df shape: (87600, 62)\n",
      "This is training run 2 and has the shape:  (87600, 62)\n",
      "The value of dropped columns is 35\n"
     ]
    },
    {
     "name": "stderr",
     "output_type": "stream",
     "text": [
      "/Users/alexellard/opt/anaconda3/lib/python3.7/site-packages/xgboost/data.py:96: UserWarning: Use subset (sliced data) of np.ndarray is not recommended because it will generate extra copies and increase memory consumption\n",
      "  \"because it will generate extra copies and increase \" +\n"
     ]
    },
    {
     "name": "stdout",
     "output_type": "stream",
     "text": [
      "test y shape : (17520, 1)\n",
      "Inv y shape : (17520, 62)\n",
      "y pred shape : (17520, 1)\n",
      "inv y pred : (17520, 62)\n",
      "Run 2 Mean Absolute Error: 138.66831670235\n",
      "[['node_18_pressure', 'node_23_pressure', 'node_30_demand', 'node_3_demand', 'link_28_flow', 'node_27_demand', 'node_4_demand', 'link_14_flow', 'link_16_flow', 'node_17_pressure', 'link_19_flow', 'link_3_flow', 'node_28_pressure', 'link_32_flow', 'node_7_pressure', 'link_8_flow', 'node_9_pressure', 'link_24_flow', 'node_26_demand', 'node_24_pressure', 'link_10_flow', 'node_29_demand', 'node_7_demand', 'reservoir_pressure', 'node_25_demand', 'node_12_pressure', 'link_20_flow', 'node_6_demand', 'link_18_flow', 'node_26_pressure', 'link_29_flow', 'node_17_demand', 'node_18_demand', 'node_21_pressure', 'node_19_pressure']]\n",
      "starting df shape: (87600, 61)\n",
      "This is training run 3 and has the shape:  (87600, 61)\n",
      "The value of dropped columns is 35\n"
     ]
    },
    {
     "name": "stderr",
     "output_type": "stream",
     "text": [
      "/Users/alexellard/opt/anaconda3/lib/python3.7/site-packages/xgboost/data.py:96: UserWarning: Use subset (sliced data) of np.ndarray is not recommended because it will generate extra copies and increase memory consumption\n",
      "  \"because it will generate extra copies and increase \" +\n"
     ]
    },
    {
     "name": "stdout",
     "output_type": "stream",
     "text": [
      "test y shape : (17520, 1)\n",
      "Inv y shape : (17520, 61)\n",
      "y pred shape : (17520, 1)\n",
      "inv y pred : (17520, 61)\n",
      "Run 3 Mean Absolute Error: 128.13834229041817\n",
      "[['link_4_flow', 'node_22_demand', 'node_20_pressure', 'link_11_flow', 'node_1_pressure', 'node_9_pressure', 'node_3_pressure', 'node_25_pressure', 'node_23_demand', 'link_19_flow', 'node_29_pressure', 'node_15_pressure', 'node_27_demand', 'node_27_pressure', 'node_23_pressure', 'node_18_pressure', 'node_24_pressure', 'node_8_pressure', 'link_21_flow', 'node_7_pressure', 'node_21_pressure', 'node_5_demand', 'link_13_flow', 'node_28_pressure', 'node_10_pressure', 'node_31_demand', 'node_9_demand', 'node_28_demand', 'node_26_demand', 'link_2_flow', 'node_26_pressure', 'link_15_flow', 'node_10_demand', 'node_19_demand', 'node_4_pressure']]\n",
      "starting df shape: (87600, 61)\n",
      "This is training run 4 and has the shape:  (87600, 61)\n",
      "The value of dropped columns is 35\n"
     ]
    },
    {
     "name": "stderr",
     "output_type": "stream",
     "text": [
      "/Users/alexellard/opt/anaconda3/lib/python3.7/site-packages/xgboost/data.py:96: UserWarning: Use subset (sliced data) of np.ndarray is not recommended because it will generate extra copies and increase memory consumption\n",
      "  \"because it will generate extra copies and increase \" +\n"
     ]
    },
    {
     "name": "stdout",
     "output_type": "stream",
     "text": [
      "test y shape : (17520, 1)\n",
      "Inv y shape : (17520, 61)\n",
      "y pred shape : (17520, 1)\n",
      "inv y pred : (17520, 61)\n",
      "Run 4 Mean Absolute Error: 72.31802221329018\n",
      "[['link_12_flow', 'node_23_pressure', 'link_18_flow', 'node_25_demand', 'node_16_pressure', 'link_11_flow', 'node_8_demand', 'node_14_pressure', 'node_6_pressure', 'node_24_demand', 'node_19_demand', 'node_28_demand', 'reservoir_demand', 'link_6_flow', 'link_26_flow', 'node_12_pressure', 'link_20_flow', 'node_26_demand', 'link_17_flow', 'node_11_pressure', 'node_7_demand', 'link_15_flow', 'node_1_pressure', 'node_13_pressure', 'node_26_pressure', 'link_16_flow', 'link_5_flow', 'link_30_flow', 'link_27_flow', 'link_28_flow', 'node_14_demand', 'link_13_flow', 'reservoir_pressure', 'node_9_demand']]\n",
      "starting df shape: (87600, 62)\n",
      "This is training run 5 and has the shape:  (87600, 62)\n",
      "The value of dropped columns is 35\n"
     ]
    },
    {
     "name": "stderr",
     "output_type": "stream",
     "text": [
      "/Users/alexellard/opt/anaconda3/lib/python3.7/site-packages/xgboost/data.py:96: UserWarning: Use subset (sliced data) of np.ndarray is not recommended because it will generate extra copies and increase memory consumption\n",
      "  \"because it will generate extra copies and increase \" +\n"
     ]
    },
    {
     "name": "stdout",
     "output_type": "stream",
     "text": [
      "test y shape : (17520, 1)\n",
      "Inv y shape : (17520, 62)\n",
      "y pred shape : (17520, 1)\n",
      "inv y pred : (17520, 62)\n",
      "Run 5 Mean Absolute Error: 10.158413209544985\n",
      "[['node_10_demand', 'node_12_demand', 'node_7_pressure', 'node_31_demand', 'node_27_demand', 'node_2_pressure', 'link_16_flow', 'node_29_pressure', 'node_5_pressure', 'reservoir_demand', 'node_30_pressure', 'link_7_flow', 'link_9_flow', 'node_10_pressure', 'node_31_pressure', 'node_4_demand', 'node_18_pressure', 'node_13_demand', 'reservoir_pressure', 'node_3_demand', 'node_28_pressure', 'node_25_pressure', 'node_21_pressure', 'link_21_flow', 'node_18_demand', 'node_11_pressure', 'node_1_pressure', 'node_8_pressure', 'link_27_flow', 'node_17_demand', 'node_6_pressure', 'node_22_pressure', 'node_23_pressure', 'link_29_flow', 'node_26_pressure']]\n",
      "starting df shape: (87600, 61)\n",
      "This is training run 6 and has the shape:  (87600, 61)\n",
      "The value of dropped columns is 35\n"
     ]
    },
    {
     "name": "stderr",
     "output_type": "stream",
     "text": [
      "/Users/alexellard/opt/anaconda3/lib/python3.7/site-packages/xgboost/data.py:96: UserWarning: Use subset (sliced data) of np.ndarray is not recommended because it will generate extra copies and increase memory consumption\n",
      "  \"because it will generate extra copies and increase \" +\n"
     ]
    },
    {
     "name": "stdout",
     "output_type": "stream",
     "text": [
      "test y shape : (17520, 1)\n",
      "Inv y shape : (17520, 61)\n",
      "y pred shape : (17520, 1)\n",
      "inv y pred : (17520, 61)\n",
      "Run 6 Mean Absolute Error: 7.810973448985083\n",
      "[['node_13_pressure', 'link_11_flow', 'link_26_flow', 'node_5_pressure', 'link_24_flow', 'node_7_demand', 'link_4_flow', 'link_10_flow', 'node_1_demand', 'node_13_demand', 'node_9_demand', 'node_30_demand', 'link_27_flow', 'link_30_flow', 'node_24_demand', 'reservoir_demand', 'node_31_demand', 'link_6_flow', 'node_6_demand', 'node_29_demand', 'node_5_demand', 'node_26_pressure', 'link_7_flow', 'node_20_demand', 'node_12_pressure', 'link_22_flow', 'node_28_pressure', 'link_9_flow', 'node_8_pressure', 'link_32_flow', 'node_17_pressure', 'link_29_flow', 'node_30_pressure', 'node_15_demand']]\n",
      "starting df shape: (87600, 62)\n",
      "This is training run 7 and has the shape:  (87600, 62)\n",
      "The value of dropped columns is 35\n"
     ]
    },
    {
     "name": "stderr",
     "output_type": "stream",
     "text": [
      "/Users/alexellard/opt/anaconda3/lib/python3.7/site-packages/xgboost/data.py:96: UserWarning: Use subset (sliced data) of np.ndarray is not recommended because it will generate extra copies and increase memory consumption\n",
      "  \"because it will generate extra copies and increase \" +\n"
     ]
    },
    {
     "name": "stdout",
     "output_type": "stream",
     "text": [
      "test y shape : (17520, 1)\n",
      "Inv y shape : (17520, 62)\n",
      "y pred shape : (17520, 1)\n",
      "inv y pred : (17520, 62)\n",
      "Run 7 Mean Absolute Error: 2.5554374276335565\n",
      "[['link_31_flow', 'link_1_flow', 'node_12_demand', 'node_25_demand', 'node_21_demand', 'node_7_demand', 'node_21_pressure', 'node_30_pressure', 'node_11_demand', 'node_14_demand', 'node_20_pressure', 'node_28_pressure', 'node_10_demand', 'link_4_flow', 'node_26_demand', 'link_30_flow', 'node_25_pressure', 'node_28_demand', 'node_6_demand', 'node_5_demand', 'node_11_pressure', 'node_13_demand', 'link_27_flow', 'link_21_flow', 'link_18_flow', 'node_31_pressure', 'node_13_pressure', 'node_8_pressure', 'node_17_demand', 'node_14_pressure', 'node_19_pressure', 'node_15_demand', 'link_10_flow', 'node_26_pressure', 'link_22_flow']]\n",
      "starting df shape: (87600, 61)\n",
      "This is training run 8 and has the shape:  (87600, 61)\n",
      "The value of dropped columns is 35\n"
     ]
    },
    {
     "name": "stderr",
     "output_type": "stream",
     "text": [
      "/Users/alexellard/opt/anaconda3/lib/python3.7/site-packages/xgboost/data.py:96: UserWarning: Use subset (sliced data) of np.ndarray is not recommended because it will generate extra copies and increase memory consumption\n",
      "  \"because it will generate extra copies and increase \" +\n"
     ]
    },
    {
     "name": "stdout",
     "output_type": "stream",
     "text": [
      "test y shape : (17520, 1)\n",
      "Inv y shape : (17520, 61)\n",
      "y pred shape : (17520, 1)\n",
      "inv y pred : (17520, 61)\n",
      "Run 8 Mean Absolute Error: 46.39357376503494\n",
      "[['node_17_demand', 'link_32_flow', 'link_8_flow', 'reservoir_pressure', 'node_17_pressure', 'link_16_flow', 'node_14_pressure', 'node_27_demand', 'node_7_demand', 'node_28_demand', 'link_28_flow', 'link_20_flow', 'link_19_flow', 'link_23_flow', 'node_1_pressure', 'node_20_pressure', 'link_1_flow', 'link_10_flow', 'node_25_demand', 'node_26_demand', 'node_26_pressure', 'node_29_pressure', 'link_25_flow', 'link_13_flow', 'node_15_demand', 'node_22_demand', 'node_11_demand', 'node_24_pressure', 'link_15_flow', 'node_12_demand', 'node_2_demand', 'node_20_demand', 'node_10_demand', 'node_4_pressure']]\n",
      "starting df shape: (87600, 62)\n",
      "This is training run 9 and has the shape:  (87600, 62)\n",
      "The value of dropped columns is 35\n"
     ]
    },
    {
     "name": "stderr",
     "output_type": "stream",
     "text": [
      "/Users/alexellard/opt/anaconda3/lib/python3.7/site-packages/xgboost/data.py:96: UserWarning: Use subset (sliced data) of np.ndarray is not recommended because it will generate extra copies and increase memory consumption\n",
      "  \"because it will generate extra copies and increase \" +\n"
     ]
    },
    {
     "name": "stdout",
     "output_type": "stream",
     "text": [
      "test y shape : (17520, 1)\n",
      "Inv y shape : (17520, 62)\n",
      "y pred shape : (17520, 1)\n",
      "inv y pred : (17520, 62)\n",
      "Run 9 Mean Absolute Error: 151.35429065879376\n",
      "[['link_2_flow', 'node_1_pressure', 'node_23_pressure', 'link_22_flow', 'node_11_pressure', 'node_8_pressure', 'node_18_demand', 'node_23_demand', 'node_3_pressure', 'link_16_flow', 'node_20_demand', 'link_20_flow', 'link_18_flow', 'link_5_flow', 'link_7_flow', 'node_10_pressure', 'node_13_pressure', 'node_4_pressure', 'node_19_demand', 'link_17_flow', 'node_5_demand', 'node_19_pressure', 'link_27_flow', 'node_16_pressure', 'node_27_demand', 'node_2_demand', 'node_14_demand', 'node_30_demand', 'link_8_flow', 'node_20_pressure', 'node_17_demand', 'node_14_pressure', 'node_29_demand', 'node_25_pressure']]\n",
      "starting df shape: (87600, 62)\n",
      "This is training run 10 and has the shape:  (87600, 62)\n",
      "The value of dropped columns is 35\n"
     ]
    },
    {
     "name": "stderr",
     "output_type": "stream",
     "text": [
      "/Users/alexellard/opt/anaconda3/lib/python3.7/site-packages/xgboost/data.py:96: UserWarning: Use subset (sliced data) of np.ndarray is not recommended because it will generate extra copies and increase memory consumption\n",
      "  \"because it will generate extra copies and increase \" +\n"
     ]
    },
    {
     "name": "stdout",
     "output_type": "stream",
     "text": [
      "test y shape : (17520, 1)\n",
      "Inv y shape : (17520, 62)\n",
      "y pred shape : (17520, 1)\n",
      "inv y pred : (17520, 62)\n",
      "Run 10 Mean Absolute Error: 125.0949992251053\n",
      "[['node_30_demand', 'link_5_flow', 'node_26_pressure', 'link_10_flow', 'node_8_demand', 'node_11_demand', 'link_3_flow', 'link_16_flow', 'link_27_flow', 'node_1_demand', 'node_10_pressure', 'node_5_demand', 'node_11_pressure', 'node_20_pressure', 'node_7_pressure', 'link_23_flow', 'node_6_pressure', 'node_21_demand', 'node_31_demand', 'link_15_flow', 'node_12_demand', 'node_30_pressure', 'node_6_demand', 'node_15_pressure', 'link_9_flow', 'node_20_demand', 'link_24_flow', 'node_9_pressure', 'link_6_flow', 'node_8_pressure', 'node_2_pressure', 'node_26_demand', 'node_28_demand', 'node_13_pressure', 'link_2_flow', 'link_18_flow', 'node_18_demand', 'node_14_pressure', 'link_13_flow', 'node_4_pressure']]\n",
      "starting df shape: (87600, 56)\n",
      "This is training run 1 and has the shape:  (87600, 56)\n",
      "The value of dropped columns is 40\n"
     ]
    },
    {
     "name": "stderr",
     "output_type": "stream",
     "text": [
      "/Users/alexellard/opt/anaconda3/lib/python3.7/site-packages/xgboost/data.py:96: UserWarning: Use subset (sliced data) of np.ndarray is not recommended because it will generate extra copies and increase memory consumption\n",
      "  \"because it will generate extra copies and increase \" +\n"
     ]
    },
    {
     "name": "stdout",
     "output_type": "stream",
     "text": [
      "test y shape : (17520, 1)\n",
      "Inv y shape : (17520, 56)\n",
      "y pred shape : (17520, 1)\n",
      "inv y pred : (17520, 56)\n",
      "Run 1 Mean Absolute Error: 127.33716754365314\n",
      "[['link_24_flow', 'node_27_demand', 'link_14_flow', 'link_12_flow', 'link_8_flow', 'link_25_flow', 'node_7_pressure', 'node_25_demand', 'link_3_flow', 'link_11_flow', 'link_29_flow', 'node_8_demand', 'node_24_demand', 'node_17_pressure', 'link_19_flow', 'node_11_demand', 'node_9_demand', 'node_1_demand', 'node_2_demand', 'node_16_pressure', 'node_3_demand', 'node_2_pressure', 'node_31_demand', 'node_5_pressure', 'node_13_demand', 'node_6_pressure', 'node_21_demand', 'node_26_pressure', 'node_20_demand', 'link_20_flow', 'link_28_flow', 'link_1_flow', 'node_5_demand', 'link_10_flow', 'link_16_flow', 'node_14_demand', 'node_21_pressure', 'link_2_flow', 'link_30_flow', 'node_7_demand']]\n",
      "starting df shape: (87600, 56)\n",
      "This is training run 2 and has the shape:  (87600, 56)\n",
      "The value of dropped columns is 40\n"
     ]
    },
    {
     "name": "stderr",
     "output_type": "stream",
     "text": [
      "/Users/alexellard/opt/anaconda3/lib/python3.7/site-packages/xgboost/data.py:96: UserWarning: Use subset (sliced data) of np.ndarray is not recommended because it will generate extra copies and increase memory consumption\n",
      "  \"because it will generate extra copies and increase \" +\n"
     ]
    },
    {
     "name": "stdout",
     "output_type": "stream",
     "text": [
      "test y shape : (17520, 1)\n",
      "Inv y shape : (17520, 56)\n",
      "y pred shape : (17520, 1)\n",
      "inv y pred : (17520, 56)\n",
      "Run 2 Mean Absolute Error: 107.14809230231259\n",
      "[['link_23_flow', 'link_9_flow', 'link_10_flow', 'link_30_flow', 'node_28_demand', 'node_13_pressure', 'link_6_flow', 'node_16_pressure', 'node_13_demand', 'node_9_demand', 'reservoir_pressure', 'link_11_flow', 'node_3_pressure', 'link_21_flow', 'node_18_demand', 'node_20_demand', 'node_23_demand', 'link_28_flow', 'node_27_pressure', 'link_18_flow', 'node_17_demand', 'link_31_flow', 'node_7_pressure', 'node_6_demand', 'node_10_pressure', 'node_21_demand', 'node_29_pressure', 'node_19_pressure', 'link_24_flow', 'link_22_flow', 'node_15_pressure', 'node_18_pressure', 'link_25_flow', 'node_5_pressure', 'node_2_pressure', 'node_1_demand', 'node_22_demand', 'link_14_flow', 'node_11_pressure', 'node_4_demand']]\n",
      "starting df shape: (87600, 56)\n",
      "This is training run 3 and has the shape:  (87600, 56)\n",
      "The value of dropped columns is 40\n"
     ]
    },
    {
     "name": "stderr",
     "output_type": "stream",
     "text": [
      "/Users/alexellard/opt/anaconda3/lib/python3.7/site-packages/xgboost/data.py:96: UserWarning: Use subset (sliced data) of np.ndarray is not recommended because it will generate extra copies and increase memory consumption\n",
      "  \"because it will generate extra copies and increase \" +\n"
     ]
    },
    {
     "name": "stdout",
     "output_type": "stream",
     "text": [
      "test y shape : (17520, 1)\n",
      "Inv y shape : (17520, 56)\n",
      "y pred shape : (17520, 1)\n",
      "inv y pred : (17520, 56)\n",
      "Run 3 Mean Absolute Error: 46.129306478055454\n",
      "[['node_14_pressure', 'node_13_demand', 'node_7_demand', 'node_15_demand', 'node_9_demand', 'node_3_pressure', 'link_28_flow', 'node_29_demand', 'link_7_flow', 'node_25_demand', 'node_24_demand', 'link_9_flow', 'node_30_pressure', 'node_10_demand', 'node_5_demand', 'node_28_pressure', 'node_20_pressure', 'node_8_pressure', 'node_25_pressure', 'node_4_pressure', 'node_10_pressure', 'link_27_flow', 'node_4_demand', 'link_12_flow', 'node_21_pressure', 'link_5_flow', 'node_15_pressure', 'node_6_pressure', 'node_31_pressure', 'node_7_pressure', 'link_20_flow', 'link_16_flow', 'node_19_pressure', 'node_22_demand', 'node_17_pressure', 'node_26_pressure', 'node_31_demand', 'node_2_pressure', 'node_18_demand', 'link_19_flow']]\n",
      "starting df shape: (87600, 56)\n",
      "This is training run 4 and has the shape:  (87600, 56)\n",
      "The value of dropped columns is 40\n"
     ]
    },
    {
     "name": "stderr",
     "output_type": "stream",
     "text": [
      "/Users/alexellard/opt/anaconda3/lib/python3.7/site-packages/xgboost/data.py:96: UserWarning: Use subset (sliced data) of np.ndarray is not recommended because it will generate extra copies and increase memory consumption\n",
      "  \"because it will generate extra copies and increase \" +\n"
     ]
    },
    {
     "name": "stdout",
     "output_type": "stream",
     "text": [
      "test y shape : (17520, 1)\n",
      "Inv y shape : (17520, 56)\n",
      "y pred shape : (17520, 1)\n",
      "inv y pred : (17520, 56)\n",
      "Run 4 Mean Absolute Error: 103.23210574301238\n",
      "[['reservoir_demand', 'node_19_pressure', 'link_1_flow', 'node_29_demand', 'link_14_flow', 'node_1_pressure', 'link_2_flow', 'node_27_demand', 'node_7_demand', 'link_31_flow', 'node_15_pressure', 'link_25_flow', 'link_8_flow', 'link_32_flow', 'link_5_flow', 'node_6_pressure', 'node_21_demand', 'node_30_pressure', 'node_18_pressure', 'node_6_demand', 'node_26_pressure', 'node_16_pressure', 'node_25_pressure', 'node_5_pressure', 'node_11_pressure', 'node_9_demand', 'link_21_flow', 'node_20_demand', 'node_10_demand', 'node_13_demand', 'node_12_demand', 'link_19_flow', 'link_3_flow', 'node_14_pressure', 'link_10_flow', 'node_25_demand', 'link_27_flow', 'node_14_demand', 'node_2_demand', 'node_10_pressure']]\n",
      "starting df shape: (87600, 56)\n",
      "This is training run 5 and has the shape:  (87600, 56)\n",
      "The value of dropped columns is 40\n"
     ]
    },
    {
     "name": "stderr",
     "output_type": "stream",
     "text": [
      "/Users/alexellard/opt/anaconda3/lib/python3.7/site-packages/xgboost/data.py:96: UserWarning: Use subset (sliced data) of np.ndarray is not recommended because it will generate extra copies and increase memory consumption\n",
      "  \"because it will generate extra copies and increase \" +\n"
     ]
    },
    {
     "name": "stdout",
     "output_type": "stream",
     "text": [
      "test y shape : (17520, 1)\n",
      "Inv y shape : (17520, 56)\n",
      "y pred shape : (17520, 1)\n",
      "inv y pred : (17520, 56)\n",
      "Run 5 Mean Absolute Error: 2.833262655829623\n",
      "[['link_22_flow', 'node_23_demand', 'node_1_pressure', 'link_1_flow', 'link_24_flow', 'node_10_demand', 'link_20_flow', 'node_9_demand', 'node_22_demand', 'node_5_pressure', 'node_7_demand', 'node_17_pressure', 'link_18_flow', 'node_28_demand', 'node_24_demand', 'node_29_pressure', 'node_17_demand', 'node_14_pressure', 'node_3_demand', 'node_30_demand', 'link_25_flow', 'node_18_pressure', 'link_17_flow', 'node_20_demand', 'node_31_pressure', 'link_4_flow', 'link_10_flow', 'link_7_flow', 'node_25_demand', 'node_12_pressure', 'node_10_pressure', 'node_9_pressure', 'link_16_flow', 'node_2_demand', 'link_3_flow', 'node_8_pressure', 'node_15_demand', 'link_32_flow', 'node_1_demand', 'node_2_pressure']]\n",
      "starting df shape: (87600, 56)\n",
      "This is training run 6 and has the shape:  (87600, 56)\n",
      "The value of dropped columns is 40\n"
     ]
    },
    {
     "name": "stderr",
     "output_type": "stream",
     "text": [
      "/Users/alexellard/opt/anaconda3/lib/python3.7/site-packages/xgboost/data.py:96: UserWarning: Use subset (sliced data) of np.ndarray is not recommended because it will generate extra copies and increase memory consumption\n",
      "  \"because it will generate extra copies and increase \" +\n"
     ]
    },
    {
     "name": "stdout",
     "output_type": "stream",
     "text": [
      "test y shape : (17520, 1)\n",
      "Inv y shape : (17520, 56)\n",
      "y pred shape : (17520, 1)\n",
      "inv y pred : (17520, 56)\n",
      "Run 6 Mean Absolute Error: 123.36142723004996\n",
      "[['link_16_flow', 'node_16_pressure', 'node_9_pressure', 'node_26_demand', 'link_14_flow', 'node_25_demand', 'node_20_demand', 'node_3_pressure', 'link_6_flow', 'node_10_demand', 'reservoir_demand', 'node_30_pressure', 'node_14_demand', 'node_21_demand', 'node_23_pressure', 'node_4_demand', 'link_18_flow', 'node_15_pressure', 'node_28_pressure', 'node_8_pressure', 'node_1_pressure', 'link_30_flow', 'node_12_demand', 'link_4_flow', 'link_13_flow', 'node_17_pressure', 'node_17_demand', 'node_2_demand', 'node_25_pressure', 'link_28_flow', 'node_30_demand', 'node_18_demand', 'node_19_pressure', 'node_8_demand', 'node_23_demand', 'node_6_pressure', 'link_3_flow', 'link_10_flow', 'link_9_flow']]\n",
      "starting df shape: (87600, 57)\n",
      "This is training run 7 and has the shape:  (87600, 57)\n",
      "The value of dropped columns is 40\n"
     ]
    },
    {
     "name": "stderr",
     "output_type": "stream",
     "text": [
      "/Users/alexellard/opt/anaconda3/lib/python3.7/site-packages/xgboost/data.py:96: UserWarning: Use subset (sliced data) of np.ndarray is not recommended because it will generate extra copies and increase memory consumption\n",
      "  \"because it will generate extra copies and increase \" +\n"
     ]
    },
    {
     "name": "stdout",
     "output_type": "stream",
     "text": [
      "test y shape : (17520, 1)\n",
      "Inv y shape : (17520, 57)\n",
      "y pred shape : (17520, 1)\n",
      "inv y pred : (17520, 57)\n",
      "Run 7 Mean Absolute Error: 8.036744136803657\n",
      "[['node_11_demand', 'link_32_flow', 'link_8_flow', 'node_22_demand', 'link_22_flow', 'link_4_flow', 'node_7_pressure', 'node_23_demand', 'node_4_pressure', 'node_21_demand', 'node_27_pressure', 'node_13_pressure', 'node_31_demand', 'link_7_flow', 'node_19_demand', 'node_20_pressure', 'node_15_demand', 'node_4_demand', 'node_8_pressure', 'node_17_pressure', 'link_23_flow', 'node_1_demand', 'node_29_demand', 'node_20_demand', 'node_6_pressure', 'node_31_pressure', 'node_8_demand', 'node_26_demand', 'link_31_flow', 'node_9_pressure', 'link_17_flow', 'link_14_flow', 'node_25_pressure', 'node_9_demand', 'node_24_demand', 'reservoir_demand', 'node_18_demand', 'node_15_pressure', 'node_11_pressure', 'node_29_pressure']]\n",
      "starting df shape: (87600, 56)\n",
      "This is training run 8 and has the shape:  (87600, 56)\n",
      "The value of dropped columns is 40\n"
     ]
    },
    {
     "name": "stderr",
     "output_type": "stream",
     "text": [
      "/Users/alexellard/opt/anaconda3/lib/python3.7/site-packages/xgboost/data.py:96: UserWarning: Use subset (sliced data) of np.ndarray is not recommended because it will generate extra copies and increase memory consumption\n",
      "  \"because it will generate extra copies and increase \" +\n"
     ]
    },
    {
     "name": "stdout",
     "output_type": "stream",
     "text": [
      "test y shape : (17520, 1)\n",
      "Inv y shape : (17520, 56)\n",
      "y pred shape : (17520, 1)\n",
      "inv y pred : (17520, 56)\n",
      "Run 8 Mean Absolute Error: 2.4439404553166537\n",
      "[['link_24_flow', 'link_28_flow', 'link_10_flow', 'node_2_pressure', 'node_11_pressure', 'link_14_flow', 'node_21_demand', 'node_7_pressure', 'link_22_flow', 'node_24_demand', 'node_25_demand', 'node_25_pressure', 'node_23_demand', 'node_27_pressure', 'link_19_flow', 'node_5_pressure', 'node_30_demand', 'node_20_demand', 'link_16_flow', 'reservoir_demand', 'link_29_flow', 'node_16_pressure', 'node_22_pressure', 'node_21_pressure', 'node_10_pressure', 'node_4_pressure', 'link_32_flow', 'node_31_pressure', 'node_15_demand', 'node_28_pressure', 'node_2_demand', 'link_7_flow', 'node_29_pressure', 'node_18_pressure', 'link_5_flow', 'node_17_demand', 'link_9_flow', 'link_2_flow', 'link_23_flow']]\n",
      "starting df shape: (87600, 57)\n",
      "This is training run 9 and has the shape:  (87600, 57)\n",
      "The value of dropped columns is 40\n"
     ]
    },
    {
     "name": "stderr",
     "output_type": "stream",
     "text": [
      "/Users/alexellard/opt/anaconda3/lib/python3.7/site-packages/xgboost/data.py:96: UserWarning: Use subset (sliced data) of np.ndarray is not recommended because it will generate extra copies and increase memory consumption\n",
      "  \"because it will generate extra copies and increase \" +\n"
     ]
    },
    {
     "name": "stdout",
     "output_type": "stream",
     "text": [
      "test y shape : (17520, 1)\n",
      "Inv y shape : (17520, 57)\n",
      "y pred shape : (17520, 1)\n",
      "inv y pred : (17520, 57)\n",
      "Run 9 Mean Absolute Error: 8.173682697434991\n",
      "[['link_1_flow', 'node_27_pressure', 'node_10_demand', 'node_31_pressure', 'node_21_pressure', 'node_5_demand', 'node_19_demand', 'node_2_demand', 'link_2_flow', 'node_18_pressure', 'link_11_flow', 'node_22_demand', 'link_31_flow', 'node_11_demand', 'node_29_pressure', 'node_15_demand', 'link_28_flow', 'node_17_pressure', 'link_22_flow', 'node_30_pressure', 'node_26_demand', 'node_16_pressure', 'node_18_demand', 'link_24_flow', 'reservoir_pressure', 'node_25_demand', 'node_12_demand', 'link_8_flow', 'node_9_demand', 'node_5_pressure', 'node_3_pressure', 'node_13_pressure', 'link_32_flow', 'node_7_demand', 'link_21_flow', 'node_20_demand', 'link_20_flow', 'node_10_pressure', 'node_30_demand']]\n",
      "starting df shape: (87600, 57)\n",
      "This is training run 10 and has the shape:  (87600, 57)\n",
      "The value of dropped columns is 40\n"
     ]
    },
    {
     "name": "stderr",
     "output_type": "stream",
     "text": [
      "/Users/alexellard/opt/anaconda3/lib/python3.7/site-packages/xgboost/data.py:96: UserWarning: Use subset (sliced data) of np.ndarray is not recommended because it will generate extra copies and increase memory consumption\n",
      "  \"because it will generate extra copies and increase \" +\n"
     ]
    },
    {
     "name": "stdout",
     "output_type": "stream",
     "text": [
      "test y shape : (17520, 1)\n",
      "Inv y shape : (17520, 57)\n",
      "y pred shape : (17520, 1)\n",
      "inv y pred : (17520, 57)\n",
      "Run 10 Mean Absolute Error: 48.16973112485701\n",
      "[['link_13_flow', 'node_14_pressure', 'link_20_flow', 'node_24_demand', 'node_5_demand', 'node_9_demand', 'link_18_flow', 'node_30_pressure', 'node_11_demand', 'link_15_flow', 'node_25_pressure', 'node_27_demand', 'node_31_demand', 'link_30_flow', 'node_19_pressure', 'link_29_flow', 'reservoir_pressure', 'link_31_flow', 'node_17_pressure', 'node_24_pressure', 'link_23_flow', 'link_16_flow', 'node_20_demand', 'link_19_flow', 'node_2_pressure', 'node_15_demand', 'node_3_pressure', 'node_18_demand', 'node_19_demand', 'node_4_pressure', 'link_8_flow', 'link_22_flow', 'link_26_flow', 'node_8_pressure', 'link_3_flow', 'link_28_flow', 'link_4_flow', 'node_22_pressure', 'node_6_pressure', 'node_5_pressure', 'node_17_demand', 'node_13_pressure', 'link_25_flow', 'link_11_flow', 'link_5_flow']]\n",
      "starting df shape: (87600, 51)\n",
      "This is training run 1 and has the shape:  (87600, 51)\n",
      "The value of dropped columns is 45\n"
     ]
    },
    {
     "name": "stderr",
     "output_type": "stream",
     "text": [
      "/Users/alexellard/opt/anaconda3/lib/python3.7/site-packages/xgboost/data.py:96: UserWarning: Use subset (sliced data) of np.ndarray is not recommended because it will generate extra copies and increase memory consumption\n",
      "  \"because it will generate extra copies and increase \" +\n"
     ]
    },
    {
     "name": "stdout",
     "output_type": "stream",
     "text": [
      "test y shape : (17520, 1)\n",
      "Inv y shape : (17520, 51)\n",
      "y pred shape : (17520, 1)\n",
      "inv y pred : (17520, 51)\n",
      "Run 1 Mean Absolute Error: 159.12354596898484\n",
      "[['node_8_pressure', 'link_32_flow', 'node_24_pressure', 'link_17_flow', 'link_6_flow', 'node_26_demand', 'node_19_pressure', 'node_10_pressure', 'reservoir_demand', 'node_10_demand', 'link_9_flow', 'node_21_pressure', 'link_7_flow', 'node_31_demand', 'node_17_demand', 'node_13_demand', 'node_18_demand', 'link_27_flow', 'node_14_pressure', 'node_2_pressure', 'link_13_flow', 'link_16_flow', 'node_27_demand', 'node_22_demand', 'node_20_pressure', 'link_30_flow', 'node_9_demand', 'node_26_pressure', 'link_29_flow', 'node_3_pressure', 'node_9_pressure', 'node_30_pressure', 'node_2_demand', 'link_5_flow', 'link_18_flow', 'node_7_demand', 'node_4_demand', 'link_14_flow', 'link_2_flow', 'node_17_pressure', 'link_15_flow', 'link_25_flow', 'link_8_flow', 'node_11_demand', 'link_4_flow']]\n",
      "starting df shape: (87600, 51)\n",
      "This is training run 2 and has the shape:  (87600, 51)\n",
      "The value of dropped columns is 45\n"
     ]
    },
    {
     "name": "stderr",
     "output_type": "stream",
     "text": [
      "/Users/alexellard/opt/anaconda3/lib/python3.7/site-packages/xgboost/data.py:96: UserWarning: Use subset (sliced data) of np.ndarray is not recommended because it will generate extra copies and increase memory consumption\n",
      "  \"because it will generate extra copies and increase \" +\n"
     ]
    },
    {
     "name": "stdout",
     "output_type": "stream",
     "text": [
      "test y shape : (17520, 1)\n",
      "Inv y shape : (17520, 51)\n",
      "y pred shape : (17520, 1)\n",
      "inv y pred : (17520, 51)\n",
      "Run 2 Mean Absolute Error: 10.01200934439614\n",
      "[['node_5_pressure', 'link_10_flow', 'link_16_flow', 'node_19_demand', 'node_27_pressure', 'link_12_flow', 'link_22_flow', 'link_21_flow', 'link_8_flow', 'link_7_flow', 'link_13_flow', 'node_22_demand', 'node_9_pressure', 'node_7_pressure', 'link_27_flow', 'node_1_pressure', 'node_26_demand', 'node_18_demand', 'node_13_demand', 'node_4_pressure', 'link_32_flow', 'node_2_pressure', 'node_3_pressure', 'node_23_demand', 'link_29_flow', 'link_28_flow', 'link_18_flow', 'node_23_pressure', 'node_29_demand', 'node_6_pressure', 'node_21_demand', 'link_20_flow', 'node_11_demand', 'link_2_flow', 'node_14_pressure', 'node_1_demand', 'node_6_demand', 'node_8_pressure', 'node_12_demand', 'node_17_pressure', 'link_3_flow', 'node_26_pressure', 'link_23_flow', 'node_11_pressure', 'node_25_demand']]\n",
      "starting df shape: (87600, 51)\n",
      "This is training run 3 and has the shape:  (87600, 51)\n",
      "The value of dropped columns is 45\n"
     ]
    },
    {
     "name": "stderr",
     "output_type": "stream",
     "text": [
      "/Users/alexellard/opt/anaconda3/lib/python3.7/site-packages/xgboost/data.py:96: UserWarning: Use subset (sliced data) of np.ndarray is not recommended because it will generate extra copies and increase memory consumption\n",
      "  \"because it will generate extra copies and increase \" +\n"
     ]
    },
    {
     "name": "stdout",
     "output_type": "stream",
     "text": [
      "test y shape : (17520, 1)\n",
      "Inv y shape : (17520, 51)\n",
      "y pred shape : (17520, 1)\n",
      "inv y pred : (17520, 51)\n",
      "Run 3 Mean Absolute Error: 105.75641048651758\n",
      "[['node_25_demand', 'node_15_demand', 'node_18_pressure', 'node_29_pressure', 'node_26_pressure', 'node_30_demand', 'link_17_flow', 'node_27_pressure', 'link_32_flow', 'node_23_pressure', 'link_21_flow', 'node_17_pressure', 'node_9_pressure', 'link_31_flow', 'node_22_pressure', 'node_22_demand', 'node_7_pressure', 'node_5_demand', 'node_31_pressure', 'link_10_flow', 'node_30_pressure', 'node_21_demand', 'node_4_demand', 'node_27_demand', 'node_6_demand', 'node_14_pressure', 'node_11_demand', 'node_3_pressure', 'link_26_flow', 'node_19_pressure', 'node_10_demand', 'node_23_demand', 'node_16_pressure', 'link_30_flow', 'link_7_flow', 'node_26_demand', 'node_18_demand', 'node_20_demand', 'node_25_pressure', 'link_2_flow', 'node_12_pressure', 'link_6_flow', 'link_25_flow', 'link_3_flow']]\n",
      "starting df shape: (87600, 52)\n",
      "This is training run 4 and has the shape:  (87600, 52)\n",
      "The value of dropped columns is 45\n"
     ]
    },
    {
     "name": "stderr",
     "output_type": "stream",
     "text": [
      "/Users/alexellard/opt/anaconda3/lib/python3.7/site-packages/xgboost/data.py:96: UserWarning: Use subset (sliced data) of np.ndarray is not recommended because it will generate extra copies and increase memory consumption\n",
      "  \"because it will generate extra copies and increase \" +\n"
     ]
    },
    {
     "name": "stdout",
     "output_type": "stream",
     "text": [
      "test y shape : (17520, 1)\n",
      "Inv y shape : (17520, 52)\n",
      "y pred shape : (17520, 1)\n",
      "inv y pred : (17520, 52)\n",
      "Run 4 Mean Absolute Error: 44.499193035044186\n",
      "[['link_2_flow', 'node_8_pressure', 'link_8_flow', 'link_13_flow', 'node_20_pressure', 'node_6_pressure', 'node_14_pressure', 'node_17_pressure', 'node_1_demand', 'node_7_demand', 'link_11_flow', 'node_29_demand', 'link_18_flow', 'node_2_pressure', 'node_15_pressure', 'link_31_flow', 'node_17_demand', 'link_4_flow', 'node_1_pressure', 'node_13_demand', 'node_9_pressure', 'link_28_flow', 'link_32_flow', 'node_2_demand', 'node_6_demand', 'node_4_pressure', 'link_9_flow', 'node_5_demand', 'link_10_flow', 'link_5_flow', 'link_16_flow', 'reservoir_pressure', 'node_13_pressure', 'node_3_pressure', 'node_9_demand', 'link_15_flow', 'node_30_demand', 'node_4_demand', 'link_1_flow', 'link_21_flow', 'node_18_demand', 'node_23_pressure', 'link_29_flow', 'node_11_demand']]\n",
      "starting df shape: (87600, 52)\n",
      "This is training run 5 and has the shape:  (87600, 52)\n",
      "The value of dropped columns is 45\n"
     ]
    },
    {
     "name": "stderr",
     "output_type": "stream",
     "text": [
      "/Users/alexellard/opt/anaconda3/lib/python3.7/site-packages/xgboost/data.py:96: UserWarning: Use subset (sliced data) of np.ndarray is not recommended because it will generate extra copies and increase memory consumption\n",
      "  \"because it will generate extra copies and increase \" +\n"
     ]
    },
    {
     "name": "stdout",
     "output_type": "stream",
     "text": [
      "test y shape : (17520, 1)\n",
      "Inv y shape : (17520, 52)\n",
      "y pred shape : (17520, 1)\n",
      "inv y pred : (17520, 52)\n",
      "Run 5 Mean Absolute Error: 148.53682380311795\n",
      "[['link_13_flow', 'link_32_flow', 'node_19_demand', 'node_19_pressure', 'link_19_flow', 'node_24_pressure', 'link_15_flow', 'link_4_flow', 'link_5_flow', 'node_7_pressure', 'node_23_pressure', 'node_15_demand', 'link_31_flow', 'link_1_flow', 'node_10_demand', 'node_25_pressure', 'node_27_demand', 'node_7_demand', 'node_31_pressure', 'node_14_pressure', 'node_21_demand', 'node_30_demand', 'node_15_pressure', 'node_14_demand', 'node_17_demand', 'node_22_demand', 'node_3_pressure', 'link_29_flow', 'link_30_flow', 'node_2_demand', 'node_20_demand', 'node_13_demand', 'link_25_flow', 'node_10_pressure', 'node_25_demand', 'node_9_pressure', 'node_4_demand', 'link_11_flow', 'link_24_flow', 'node_22_pressure', 'node_3_demand', 'link_26_flow', 'link_23_flow', 'link_16_flow', 'node_26_pressure']]\n",
      "starting df shape: (87600, 51)\n",
      "This is training run 6 and has the shape:  (87600, 51)\n",
      "The value of dropped columns is 45\n"
     ]
    },
    {
     "name": "stderr",
     "output_type": "stream",
     "text": [
      "/Users/alexellard/opt/anaconda3/lib/python3.7/site-packages/xgboost/data.py:96: UserWarning: Use subset (sliced data) of np.ndarray is not recommended because it will generate extra copies and increase memory consumption\n",
      "  \"because it will generate extra copies and increase \" +\n"
     ]
    },
    {
     "name": "stdout",
     "output_type": "stream",
     "text": [
      "test y shape : (17520, 1)\n",
      "Inv y shape : (17520, 51)\n",
      "y pred shape : (17520, 1)\n",
      "inv y pred : (17520, 51)\n",
      "Run 6 Mean Absolute Error: 160.92339167697915\n",
      "[['link_2_flow', 'node_18_demand', 'node_5_demand', 'node_4_pressure', 'node_22_demand', 'node_26_pressure', 'link_21_flow', 'node_11_demand', 'node_13_demand', 'link_18_flow', 'link_5_flow', 'node_8_demand', 'link_25_flow', 'node_26_demand', 'node_9_pressure', 'node_30_pressure', 'link_31_flow', 'node_29_demand', 'link_15_flow', 'node_8_pressure', 'link_3_flow', 'node_12_demand', 'link_10_flow', 'link_30_flow', 'reservoir_pressure', 'link_29_flow', 'node_19_demand', 'node_23_pressure', 'node_18_pressure', 'node_22_pressure', 'node_24_demand', 'node_15_demand', 'node_12_pressure', 'node_14_pressure', 'node_29_pressure', 'node_30_demand', 'link_24_flow', 'node_6_demand', 'node_20_pressure', 'link_26_flow', 'node_28_demand', 'node_7_pressure', 'node_24_pressure', 'link_9_flow', 'node_3_demand']]\n",
      "starting df shape: (87600, 51)\n",
      "This is training run 7 and has the shape:  (87600, 51)\n",
      "The value of dropped columns is 45\n"
     ]
    },
    {
     "name": "stderr",
     "output_type": "stream",
     "text": [
      "/Users/alexellard/opt/anaconda3/lib/python3.7/site-packages/xgboost/data.py:96: UserWarning: Use subset (sliced data) of np.ndarray is not recommended because it will generate extra copies and increase memory consumption\n",
      "  \"because it will generate extra copies and increase \" +\n"
     ]
    },
    {
     "name": "stdout",
     "output_type": "stream",
     "text": [
      "test y shape : (17520, 1)\n",
      "Inv y shape : (17520, 51)\n",
      "y pred shape : (17520, 1)\n",
      "inv y pred : (17520, 51)\n",
      "Run 7 Mean Absolute Error: 78.50342102406718\n",
      "[['node_10_demand', 'node_4_pressure', 'link_25_flow', 'node_20_pressure', 'link_29_flow', 'link_13_flow', 'node_1_demand', 'link_20_flow', 'node_30_pressure', 'link_32_flow', 'node_12_demand', 'node_11_demand', 'link_12_flow', 'node_22_demand', 'link_24_flow', 'node_18_pressure', 'link_30_flow', 'link_1_flow', 'node_13_demand', 'link_14_flow', 'node_26_demand', 'node_26_pressure', 'node_29_pressure', 'link_19_flow', 'node_10_pressure', 'node_24_pressure', 'reservoir_pressure', 'node_25_pressure', 'node_28_demand', 'node_2_pressure', 'node_23_demand', 'node_24_demand', 'node_17_demand', 'node_5_demand', 'link_3_flow', 'link_8_flow', 'node_20_demand', 'node_4_demand', 'node_15_demand', 'node_2_demand', 'link_28_flow', 'node_7_demand', 'node_6_pressure', 'node_30_demand', 'link_15_flow']]\n",
      "starting df shape: (87600, 51)\n",
      "This is training run 8 and has the shape:  (87600, 51)\n",
      "The value of dropped columns is 45\n"
     ]
    },
    {
     "name": "stderr",
     "output_type": "stream",
     "text": [
      "/Users/alexellard/opt/anaconda3/lib/python3.7/site-packages/xgboost/data.py:96: UserWarning: Use subset (sliced data) of np.ndarray is not recommended because it will generate extra copies and increase memory consumption\n",
      "  \"because it will generate extra copies and increase \" +\n"
     ]
    },
    {
     "name": "stdout",
     "output_type": "stream",
     "text": [
      "test y shape : (17520, 1)\n",
      "Inv y shape : (17520, 51)\n",
      "y pred shape : (17520, 1)\n",
      "inv y pred : (17520, 51)\n",
      "Run 8 Mean Absolute Error: 80.81804502073304\n",
      "[['node_13_pressure', 'reservoir_pressure', 'link_29_flow', 'link_28_flow', 'node_7_pressure', 'link_6_flow', 'node_23_demand', 'node_26_demand', 'node_4_pressure', 'link_24_flow', 'node_28_demand', 'link_3_flow', 'node_1_demand', 'node_22_pressure', 'node_30_demand', 'node_13_demand', 'node_25_demand', 'node_22_demand', 'link_17_flow', 'node_25_pressure', 'node_3_demand', 'node_18_pressure', 'link_18_flow', 'node_6_pressure', 'node_14_pressure', 'node_30_pressure', 'link_12_flow', 'link_15_flow', 'node_5_pressure', 'link_20_flow', 'link_11_flow', 'link_4_flow', 'node_17_demand', 'node_2_demand', 'node_19_demand', 'link_31_flow', 'link_1_flow', 'link_2_flow', 'node_8_demand', 'link_16_flow', 'reservoir_demand', 'link_23_flow', 'node_11_demand', 'node_24_demand', 'link_27_flow']]\n",
      "starting df shape: (87600, 51)\n",
      "This is training run 9 and has the shape:  (87600, 51)\n",
      "The value of dropped columns is 45\n"
     ]
    },
    {
     "name": "stderr",
     "output_type": "stream",
     "text": [
      "/Users/alexellard/opt/anaconda3/lib/python3.7/site-packages/xgboost/data.py:96: UserWarning: Use subset (sliced data) of np.ndarray is not recommended because it will generate extra copies and increase memory consumption\n",
      "  \"because it will generate extra copies and increase \" +\n"
     ]
    },
    {
     "name": "stdout",
     "output_type": "stream",
     "text": [
      "test y shape : (17520, 1)\n",
      "Inv y shape : (17520, 51)\n",
      "y pred shape : (17520, 1)\n",
      "inv y pred : (17520, 51)\n",
      "Run 9 Mean Absolute Error: 6.462942693622645\n",
      "[['link_16_flow', 'node_23_pressure', 'node_25_pressure', 'node_21_demand', 'link_26_flow', 'node_9_pressure', 'node_15_demand', 'node_28_demand', 'node_17_pressure', 'node_10_demand', 'link_15_flow', 'node_23_demand', 'link_32_flow', 'node_7_demand', 'node_28_pressure', 'node_1_demand', 'node_31_pressure', 'node_15_pressure', 'link_6_flow', 'node_2_pressure', 'node_29_demand', 'link_9_flow', 'node_20_demand', 'node_29_pressure', 'node_13_pressure', 'link_30_flow', 'node_2_demand', 'node_14_pressure', 'node_17_demand', 'link_28_flow', 'link_22_flow', 'node_24_demand', 'node_8_pressure', 'node_22_demand', 'link_12_flow', 'node_5_pressure', 'node_27_pressure', 'link_18_flow', 'link_7_flow', 'link_27_flow', 'link_10_flow', 'node_4_demand', 'node_13_demand', 'node_5_demand', 'node_18_pressure']]\n",
      "starting df shape: (87600, 51)\n",
      "This is training run 10 and has the shape:  (87600, 51)\n",
      "The value of dropped columns is 45\n"
     ]
    },
    {
     "name": "stderr",
     "output_type": "stream",
     "text": [
      "/Users/alexellard/opt/anaconda3/lib/python3.7/site-packages/xgboost/data.py:96: UserWarning: Use subset (sliced data) of np.ndarray is not recommended because it will generate extra copies and increase memory consumption\n",
      "  \"because it will generate extra copies and increase \" +\n"
     ]
    },
    {
     "name": "stdout",
     "output_type": "stream",
     "text": [
      "test y shape : (17520, 1)\n",
      "Inv y shape : (17520, 51)\n",
      "y pred shape : (17520, 1)\n",
      "inv y pred : (17520, 51)\n",
      "Run 10 Mean Absolute Error: 154.88995053239205\n",
      "[['node_17_pressure', 'node_27_demand', 'node_22_pressure', 'link_20_flow', 'link_8_flow', 'node_4_pressure', 'node_5_pressure', 'link_21_flow', 'node_9_demand', 'node_28_demand', 'node_1_pressure', 'node_30_pressure', 'node_15_pressure', 'node_2_pressure', 'node_6_demand', 'node_21_demand', 'link_12_flow', 'node_29_demand', 'link_2_flow', 'node_17_demand', 'link_11_flow', 'node_25_pressure', 'node_23_demand', 'link_28_flow', 'link_24_flow', 'node_26_demand', 'link_7_flow', 'node_22_demand', 'link_6_flow', 'node_13_pressure', 'link_16_flow', 'reservoir_pressure', 'link_31_flow', 'link_15_flow', 'node_14_demand', 'node_21_pressure', 'node_12_demand', 'node_25_demand', 'node_1_demand', 'node_6_pressure', 'link_4_flow', 'node_10_demand', 'node_8_demand', 'link_9_flow', 'link_5_flow', 'node_24_demand', 'link_10_flow', 'node_2_demand', 'link_27_flow']]\n",
      "starting df shape: (87600, 47)\n",
      "This is training run 1 and has the shape:  (87600, 47)\n",
      "The value of dropped columns is 50\n"
     ]
    },
    {
     "name": "stderr",
     "output_type": "stream",
     "text": [
      "/Users/alexellard/opt/anaconda3/lib/python3.7/site-packages/xgboost/data.py:96: UserWarning: Use subset (sliced data) of np.ndarray is not recommended because it will generate extra copies and increase memory consumption\n",
      "  \"because it will generate extra copies and increase \" +\n"
     ]
    },
    {
     "name": "stdout",
     "output_type": "stream",
     "text": [
      "test y shape : (17520, 1)\n",
      "Inv y shape : (17520, 47)\n",
      "y pred shape : (17520, 1)\n",
      "inv y pred : (17520, 47)\n",
      "Run 1 Mean Absolute Error: 150.63760503787245\n",
      "[['node_4_demand', 'node_19_demand', 'link_20_flow', 'node_8_demand', 'link_8_flow', 'node_14_pressure', 'node_29_demand', 'node_22_demand', 'node_28_demand', 'link_10_flow', 'link_22_flow', 'node_9_demand', 'link_15_flow', 'node_31_demand', 'link_27_flow', 'link_2_flow', 'node_15_pressure', 'node_5_pressure', 'link_28_flow', 'node_10_demand', 'node_17_pressure', 'link_9_flow', 'node_26_demand', 'node_17_demand', 'node_1_demand', 'node_11_demand', 'node_20_pressure', 'node_30_demand', 'link_11_flow', 'node_27_demand', 'node_29_pressure', 'link_29_flow', 'node_14_demand', 'link_19_flow', 'node_3_demand', 'node_7_pressure', 'node_11_pressure', 'link_30_flow', 'link_5_flow', 'node_4_pressure', 'node_26_pressure', 'node_25_demand', 'node_1_pressure', 'node_28_pressure', 'node_24_pressure', 'node_27_pressure', 'link_25_flow', 'link_3_flow', 'node_22_pressure']]\n",
      "starting df shape: (87600, 47)\n",
      "This is training run 2 and has the shape:  (87600, 47)\n",
      "The value of dropped columns is 50\n"
     ]
    },
    {
     "name": "stderr",
     "output_type": "stream",
     "text": [
      "/Users/alexellard/opt/anaconda3/lib/python3.7/site-packages/xgboost/data.py:96: UserWarning: Use subset (sliced data) of np.ndarray is not recommended because it will generate extra copies and increase memory consumption\n",
      "  \"because it will generate extra copies and increase \" +\n"
     ]
    },
    {
     "name": "stdout",
     "output_type": "stream",
     "text": [
      "test y shape : (17520, 1)\n",
      "Inv y shape : (17520, 47)\n",
      "y pred shape : (17520, 1)\n",
      "inv y pred : (17520, 47)\n",
      "Run 2 Mean Absolute Error: 72.1890650823996\n",
      "[['node_3_demand', 'node_18_pressure', 'link_4_flow', 'link_20_flow', 'node_12_pressure', 'node_21_pressure', 'link_16_flow', 'node_26_demand', 'node_17_pressure', 'node_27_pressure', 'node_5_pressure', 'node_31_pressure', 'link_12_flow', 'link_19_flow', 'node_20_pressure', 'node_19_demand', 'node_31_demand', 'link_5_flow', 'link_10_flow', 'node_23_pressure', 'node_25_pressure', 'node_23_demand', 'reservoir_pressure', 'node_9_demand', 'link_28_flow', 'link_22_flow', 'link_15_flow', 'link_30_flow', 'node_22_demand', 'node_14_pressure', 'node_22_pressure', 'node_24_demand', 'node_13_pressure', 'node_26_pressure', 'link_18_flow', 'node_1_pressure', 'node_2_pressure', 'node_29_demand', 'node_7_demand', 'link_31_flow', 'node_8_demand', 'node_16_pressure', 'node_30_demand', 'link_17_flow', 'node_7_pressure', 'link_26_flow', 'node_12_demand', 'node_4_pressure', 'link_7_flow']]\n",
      "starting df shape: (87600, 47)\n",
      "This is training run 3 and has the shape:  (87600, 47)\n",
      "The value of dropped columns is 50\n"
     ]
    },
    {
     "name": "stderr",
     "output_type": "stream",
     "text": [
      "/Users/alexellard/opt/anaconda3/lib/python3.7/site-packages/xgboost/data.py:96: UserWarning: Use subset (sliced data) of np.ndarray is not recommended because it will generate extra copies and increase memory consumption\n",
      "  \"because it will generate extra copies and increase \" +\n"
     ]
    },
    {
     "name": "stdout",
     "output_type": "stream",
     "text": [
      "test y shape : (17520, 1)\n",
      "Inv y shape : (17520, 47)\n",
      "y pred shape : (17520, 1)\n",
      "inv y pred : (17520, 47)\n",
      "Run 3 Mean Absolute Error: 165.74625897877107\n",
      "[['link_5_flow', 'node_25_pressure', 'node_21_demand', 'node_19_demand', 'node_10_demand', 'node_15_demand', 'node_30_demand', 'node_26_pressure', 'node_9_pressure', 'node_13_pressure', 'node_4_demand', 'reservoir_pressure', 'link_12_flow', 'node_2_pressure', 'node_21_pressure', 'link_17_flow', 'node_17_pressure', 'link_13_flow', 'node_8_demand', 'link_1_flow', 'node_12_pressure', 'node_26_demand', 'node_29_demand', 'link_24_flow', 'node_16_pressure', 'node_4_pressure', 'link_22_flow', 'node_11_pressure', 'node_9_demand', 'node_1_demand', 'node_7_pressure', 'node_24_pressure', 'node_17_demand', 'node_25_demand', 'node_5_demand', 'link_25_flow', 'link_19_flow', 'link_31_flow', 'node_5_pressure', 'link_29_flow', 'link_23_flow', 'link_8_flow', 'link_16_flow', 'link_14_flow', 'link_26_flow', 'link_27_flow', 'link_21_flow', 'node_20_pressure', 'node_19_pressure', 'node_22_demand']]\n",
      "starting df shape: (87600, 46)\n",
      "This is training run 4 and has the shape:  (87600, 46)\n",
      "The value of dropped columns is 50\n"
     ]
    },
    {
     "name": "stderr",
     "output_type": "stream",
     "text": [
      "/Users/alexellard/opt/anaconda3/lib/python3.7/site-packages/xgboost/data.py:96: UserWarning: Use subset (sliced data) of np.ndarray is not recommended because it will generate extra copies and increase memory consumption\n",
      "  \"because it will generate extra copies and increase \" +\n"
     ]
    },
    {
     "name": "stdout",
     "output_type": "stream",
     "text": [
      "test y shape : (17520, 1)\n",
      "Inv y shape : (17520, 46)\n",
      "y pred shape : (17520, 1)\n",
      "inv y pred : (17520, 46)\n",
      "Run 4 Mean Absolute Error: 139.7093686074754\n",
      "[['node_2_pressure', 'link_12_flow', 'node_10_pressure', 'node_28_demand', 'node_13_demand', 'node_31_pressure', 'node_19_pressure', 'node_22_demand', 'node_28_pressure', 'node_15_pressure', 'node_14_demand', 'link_16_flow', 'node_30_pressure', 'link_19_flow', 'node_14_pressure', 'node_20_pressure', 'node_7_pressure', 'link_25_flow', 'node_26_pressure', 'link_5_flow', 'node_23_demand', 'link_32_flow', 'link_28_flow', 'node_8_demand', 'link_24_flow', 'node_21_demand', 'link_27_flow', 'link_8_flow', 'node_1_demand', 'link_23_flow', 'node_4_pressure', 'node_18_pressure', 'node_3_pressure', 'reservoir_pressure', 'node_17_demand', 'link_1_flow', 'link_30_flow', 'link_29_flow', 'node_16_pressure', 'node_22_pressure', 'node_20_demand', 'node_29_demand', 'node_9_pressure', 'link_7_flow', 'link_13_flow', 'link_14_flow', 'node_5_pressure', 'link_4_flow', 'node_21_pressure', 'link_3_flow']]\n",
      "starting df shape: (87600, 46)\n",
      "This is training run 5 and has the shape:  (87600, 46)\n",
      "The value of dropped columns is 50\n"
     ]
    },
    {
     "name": "stderr",
     "output_type": "stream",
     "text": [
      "/Users/alexellard/opt/anaconda3/lib/python3.7/site-packages/xgboost/data.py:96: UserWarning: Use subset (sliced data) of np.ndarray is not recommended because it will generate extra copies and increase memory consumption\n",
      "  \"because it will generate extra copies and increase \" +\n"
     ]
    },
    {
     "name": "stdout",
     "output_type": "stream",
     "text": [
      "test y shape : (17520, 1)\n",
      "Inv y shape : (17520, 46)\n",
      "y pred shape : (17520, 1)\n",
      "inv y pred : (17520, 46)\n",
      "Run 5 Mean Absolute Error: 135.47231255507285\n",
      "[['link_2_flow', 'node_11_pressure', 'link_21_flow', 'node_10_demand', 'link_1_flow', 'link_17_flow', 'node_3_demand', 'node_8_demand', 'link_14_flow', 'link_16_flow', 'node_17_pressure', 'node_15_demand', 'node_12_demand', 'node_23_pressure', 'node_1_pressure', 'node_14_pressure', 'node_5_demand', 'link_26_flow', 'link_7_flow', 'node_31_demand', 'link_31_flow', 'link_11_flow', 'node_4_demand', 'link_10_flow', 'node_9_pressure', 'node_14_demand', 'node_12_pressure', 'link_15_flow', 'reservoir_demand', 'node_19_pressure', 'link_5_flow', 'link_29_flow', 'node_9_demand', 'node_22_demand', 'link_24_flow', 'node_28_demand', 'node_21_demand', 'node_31_pressure', 'node_2_demand', 'node_20_demand', 'node_16_pressure', 'node_7_demand', 'node_17_demand', 'link_25_flow', 'node_29_pressure', 'node_22_pressure', 'node_27_pressure', 'link_12_flow', 'link_22_flow', 'link_20_flow']]\n",
      "starting df shape: (87600, 46)\n",
      "This is training run 6 and has the shape:  (87600, 46)\n",
      "The value of dropped columns is 50\n"
     ]
    },
    {
     "name": "stderr",
     "output_type": "stream",
     "text": [
      "/Users/alexellard/opt/anaconda3/lib/python3.7/site-packages/xgboost/data.py:96: UserWarning: Use subset (sliced data) of np.ndarray is not recommended because it will generate extra copies and increase memory consumption\n",
      "  \"because it will generate extra copies and increase \" +\n"
     ]
    },
    {
     "name": "stdout",
     "output_type": "stream",
     "text": [
      "test y shape : (17520, 1)\n",
      "Inv y shape : (17520, 46)\n",
      "y pred shape : (17520, 1)\n",
      "inv y pred : (17520, 46)\n",
      "Run 6 Mean Absolute Error: 10.688930088806538\n",
      "[['node_5_demand', 'link_7_flow', 'node_12_demand', 'node_23_pressure', 'node_25_pressure', 'node_23_demand', 'node_22_pressure', 'link_11_flow', 'link_8_flow', 'node_12_pressure', 'link_20_flow', 'node_26_demand', 'node_6_demand', 'node_15_pressure', 'node_29_demand', 'node_19_pressure', 'link_26_flow', 'link_31_flow', 'node_26_pressure', 'node_29_pressure', 'link_9_flow', 'link_18_flow', 'link_13_flow', 'link_30_flow', 'link_14_flow', 'node_22_demand', 'node_18_demand', 'node_5_pressure', 'node_9_demand', 'reservoir_demand', 'node_17_demand', 'node_16_pressure', 'link_19_flow', 'node_2_demand', 'link_21_flow', 'node_4_pressure', 'node_21_demand', 'node_10_pressure', 'node_30_demand', 'link_32_flow', 'node_31_demand', 'node_8_pressure', 'link_1_flow', 'node_25_demand', 'link_29_flow', 'node_14_demand', 'link_24_flow', 'node_27_demand', 'node_1_demand']]\n",
      "starting df shape: (87600, 47)\n",
      "This is training run 7 and has the shape:  (87600, 47)\n",
      "The value of dropped columns is 50\n"
     ]
    },
    {
     "name": "stderr",
     "output_type": "stream",
     "text": [
      "/Users/alexellard/opt/anaconda3/lib/python3.7/site-packages/xgboost/data.py:96: UserWarning: Use subset (sliced data) of np.ndarray is not recommended because it will generate extra copies and increase memory consumption\n",
      "  \"because it will generate extra copies and increase \" +\n"
     ]
    },
    {
     "name": "stdout",
     "output_type": "stream",
     "text": [
      "test y shape : (17520, 1)\n",
      "Inv y shape : (17520, 47)\n",
      "y pred shape : (17520, 1)\n",
      "inv y pred : (17520, 47)\n",
      "Run 7 Mean Absolute Error: 0.43795122730157393\n",
      "[['node_26_pressure', 'node_2_pressure', 'link_21_flow', 'link_14_flow', 'node_15_pressure', 'node_28_demand', 'node_9_pressure', 'node_9_demand', 'link_11_flow', 'node_27_demand', 'node_28_pressure', 'link_31_flow', 'link_4_flow', 'link_10_flow', 'link_13_flow', 'node_10_demand', 'node_3_pressure', 'node_23_pressure', 'node_6_demand', 'node_31_pressure', 'link_25_flow', 'node_12_demand', 'link_26_flow', 'reservoir_pressure', 'node_25_demand', 'node_1_pressure', 'node_5_demand', 'link_16_flow', 'node_2_demand', 'node_17_pressure', 'link_22_flow', 'node_17_demand', 'link_20_flow', 'node_3_demand', 'node_7_demand', 'node_20_pressure', 'link_18_flow', 'link_9_flow', 'node_29_pressure', 'node_26_demand', 'node_8_pressure', 'node_6_pressure', 'link_12_flow', 'node_16_pressure', 'node_15_demand', 'node_24_pressure', 'node_31_demand', 'node_1_demand', 'node_22_demand']]\n",
      "starting df shape: (87600, 47)\n",
      "This is training run 8 and has the shape:  (87600, 47)\n",
      "The value of dropped columns is 50\n"
     ]
    },
    {
     "name": "stderr",
     "output_type": "stream",
     "text": [
      "/Users/alexellard/opt/anaconda3/lib/python3.7/site-packages/xgboost/data.py:96: UserWarning: Use subset (sliced data) of np.ndarray is not recommended because it will generate extra copies and increase memory consumption\n",
      "  \"because it will generate extra copies and increase \" +\n"
     ]
    },
    {
     "name": "stdout",
     "output_type": "stream",
     "text": [
      "test y shape : (17520, 1)\n",
      "Inv y shape : (17520, 47)\n",
      "y pred shape : (17520, 1)\n",
      "inv y pred : (17520, 47)\n",
      "Run 8 Mean Absolute Error: 134.18601171525864\n",
      "[['link_15_flow', 'link_21_flow', 'node_1_pressure', 'node_10_pressure', 'link_19_flow', 'node_8_pressure', 'link_5_flow', 'node_4_demand', 'node_17_demand', 'node_5_pressure', 'node_18_pressure', 'node_5_demand', 'reservoir_demand', 'node_30_demand', 'node_12_demand', 'node_19_demand', 'link_29_flow', 'link_17_flow', 'node_30_pressure', 'node_7_pressure', 'node_24_demand', 'link_25_flow', 'link_30_flow', 'node_22_pressure', 'link_11_flow', 'node_31_demand', 'link_1_flow', 'node_13_pressure', 'node_21_demand', 'link_6_flow', 'link_12_flow', 'node_23_demand', 'node_26_pressure', 'link_14_flow', 'node_19_pressure', 'node_15_pressure', 'node_12_pressure', 'link_26_flow', 'link_20_flow', 'node_29_demand', 'link_31_flow', 'node_2_demand', 'link_8_flow', 'node_1_demand', 'node_14_pressure', 'link_32_flow', 'node_3_pressure', 'node_18_demand', 'link_27_flow', 'node_8_demand']]\n",
      "starting df shape: (87600, 46)\n",
      "This is training run 9 and has the shape:  (87600, 46)\n",
      "The value of dropped columns is 50\n"
     ]
    },
    {
     "name": "stderr",
     "output_type": "stream",
     "text": [
      "/Users/alexellard/opt/anaconda3/lib/python3.7/site-packages/xgboost/data.py:96: UserWarning: Use subset (sliced data) of np.ndarray is not recommended because it will generate extra copies and increase memory consumption\n",
      "  \"because it will generate extra copies and increase \" +\n"
     ]
    },
    {
     "name": "stdout",
     "output_type": "stream",
     "text": [
      "test y shape : (17520, 1)\n",
      "Inv y shape : (17520, 46)\n",
      "y pred shape : (17520, 1)\n",
      "inv y pred : (17520, 46)\n",
      "Run 9 Mean Absolute Error: 0.6953158027151123\n",
      "[['link_2_flow', 'node_26_demand', 'node_26_pressure', 'node_24_pressure', 'node_31_demand', 'link_1_flow', 'node_15_pressure', 'link_4_flow', 'link_25_flow', 'node_6_pressure', 'link_5_flow', 'node_3_pressure', 'link_30_flow', 'node_10_demand', 'node_3_demand', 'node_27_pressure', 'link_32_flow', 'node_18_demand', 'reservoir_pressure', 'node_8_pressure', 'node_12_pressure', 'link_28_flow', 'node_18_pressure', 'link_12_flow', 'link_7_flow', 'node_5_pressure', 'link_6_flow', 'node_23_pressure', 'reservoir_demand', 'node_12_demand', 'node_7_pressure', 'node_9_demand', 'node_29_demand', 'node_19_demand', 'node_14_demand', 'link_20_flow', 'node_22_pressure', 'link_31_flow', 'link_11_flow', 'link_21_flow', 'node_8_demand', 'node_4_demand', 'node_1_demand', 'node_27_demand', 'link_13_flow', 'node_2_demand', 'link_26_flow', 'node_17_demand', 'node_21_demand']]\n",
      "starting df shape: (87600, 47)\n",
      "This is training run 10 and has the shape:  (87600, 47)\n",
      "The value of dropped columns is 50\n"
     ]
    },
    {
     "name": "stderr",
     "output_type": "stream",
     "text": [
      "/Users/alexellard/opt/anaconda3/lib/python3.7/site-packages/xgboost/data.py:96: UserWarning: Use subset (sliced data) of np.ndarray is not recommended because it will generate extra copies and increase memory consumption\n",
      "  \"because it will generate extra copies and increase \" +\n"
     ]
    },
    {
     "name": "stdout",
     "output_type": "stream",
     "text": [
      "test y shape : (17520, 1)\n",
      "Inv y shape : (17520, 47)\n",
      "y pred shape : (17520, 1)\n",
      "inv y pred : (17520, 47)\n",
      "Run 10 Mean Absolute Error: 2.867647188098761\n",
      "[['node_8_pressure', 'node_25_demand', 'node_25_pressure', 'node_4_pressure', 'link_19_flow', 'node_24_pressure', 'node_30_pressure', 'node_16_pressure', 'node_4_demand', 'node_28_pressure', 'link_26_flow', 'node_9_pressure', 'node_13_pressure', 'node_15_pressure', 'link_15_flow', 'node_14_demand', 'node_29_pressure', 'node_24_demand', 'reservoir_pressure', 'link_25_flow', 'reservoir_demand', 'node_3_pressure', 'node_9_demand', 'link_7_flow', 'node_7_demand', 'node_18_demand', 'link_21_flow', 'link_22_flow', 'node_11_demand', 'node_12_demand', 'node_3_demand', 'link_11_flow', 'link_14_flow', 'link_16_flow', 'link_17_flow', 'link_23_flow', 'node_21_pressure', 'link_20_flow', 'node_10_pressure', 'node_6_demand', 'link_32_flow', 'node_31_pressure', 'node_29_demand', 'link_5_flow', 'node_27_pressure', 'node_27_demand', 'node_2_demand', 'link_31_flow', 'node_1_demand', 'node_18_pressure', 'link_13_flow', 'node_20_demand', 'node_26_demand', 'link_4_flow', 'node_5_pressure']]\n",
      "starting df shape: (87600, 41)\n",
      "This is training run 1 and has the shape:  (87600, 41)\n",
      "The value of dropped columns is 55\n"
     ]
    },
    {
     "name": "stderr",
     "output_type": "stream",
     "text": [
      "/Users/alexellard/opt/anaconda3/lib/python3.7/site-packages/xgboost/data.py:96: UserWarning: Use subset (sliced data) of np.ndarray is not recommended because it will generate extra copies and increase memory consumption\n",
      "  \"because it will generate extra copies and increase \" +\n"
     ]
    },
    {
     "name": "stdout",
     "output_type": "stream",
     "text": [
      "test y shape : (17520, 1)\n",
      "Inv y shape : (17520, 41)\n",
      "y pred shape : (17520, 1)\n",
      "inv y pred : (17520, 41)\n",
      "Run 1 Mean Absolute Error: 8.522905916412434\n",
      "[['node_15_pressure', 'node_7_demand', 'node_1_pressure', 'node_13_demand', 'node_27_pressure', 'node_28_pressure', 'node_8_demand', 'link_2_flow', 'node_29_demand', 'link_31_flow', 'link_7_flow', 'node_5_pressure', 'node_9_demand', 'link_11_flow', 'node_3_pressure', 'node_20_pressure', 'node_18_demand', 'node_13_pressure', 'link_30_flow', 'link_17_flow', 'node_12_demand', 'node_25_pressure', 'link_1_flow', 'link_28_flow', 'link_13_flow', 'node_22_pressure', 'node_16_pressure', 'link_12_flow', 'node_17_pressure', 'node_21_demand', 'node_25_demand', 'link_3_flow', 'link_15_flow', 'node_6_demand', 'node_26_demand', 'link_16_flow', 'node_3_demand', 'link_8_flow', 'link_32_flow', 'node_31_pressure', 'node_5_demand', 'node_15_demand', 'node_4_demand', 'link_19_flow', 'node_24_pressure', 'link_29_flow', 'node_22_demand', 'node_18_pressure', 'link_4_flow', 'link_6_flow', 'node_9_pressure', 'node_11_demand', 'link_22_flow', 'node_8_pressure']]\n",
      "starting df shape: (87600, 42)\n",
      "This is training run 2 and has the shape:  (87600, 42)\n",
      "The value of dropped columns is 55\n"
     ]
    },
    {
     "name": "stderr",
     "output_type": "stream",
     "text": [
      "/Users/alexellard/opt/anaconda3/lib/python3.7/site-packages/xgboost/data.py:96: UserWarning: Use subset (sliced data) of np.ndarray is not recommended because it will generate extra copies and increase memory consumption\n",
      "  \"because it will generate extra copies and increase \" +\n"
     ]
    },
    {
     "name": "stdout",
     "output_type": "stream",
     "text": [
      "test y shape : (17520, 1)\n",
      "Inv y shape : (17520, 42)\n",
      "y pred shape : (17520, 1)\n",
      "inv y pred : (17520, 42)\n",
      "Run 2 Mean Absolute Error: 134.63662303832487\n",
      "[['node_19_pressure', 'link_9_flow', 'node_8_demand', 'link_32_flow', 'reservoir_pressure', 'node_19_demand', 'node_21_demand', 'node_22_demand', 'link_12_flow', 'link_23_flow', 'link_28_flow', 'node_31_demand', 'link_19_flow', 'node_27_demand', 'node_30_demand', 'node_27_pressure', 'node_11_demand', 'link_4_flow', 'link_6_flow', 'node_5_pressure', 'node_18_demand', 'node_24_pressure', 'link_1_flow', 'node_15_pressure', 'node_5_demand', 'node_6_demand', 'node_25_pressure', 'node_14_demand', 'node_21_pressure', 'node_17_demand', 'node_1_pressure', 'link_29_flow', 'node_26_demand', 'node_8_pressure', 'link_18_flow', 'node_10_demand', 'link_8_flow', 'node_28_pressure', 'node_22_pressure', 'node_14_pressure', 'node_7_demand', 'link_22_flow', 'link_15_flow', 'link_17_flow', 'node_16_pressure', 'node_12_demand', 'link_10_flow', 'node_9_pressure', 'link_16_flow', 'node_17_pressure', 'node_26_pressure', 'node_7_pressure', 'node_15_demand', 'node_13_demand']]\n",
      "starting df shape: (87600, 42)\n",
      "This is training run 3 and has the shape:  (87600, 42)\n",
      "The value of dropped columns is 55\n"
     ]
    },
    {
     "name": "stderr",
     "output_type": "stream",
     "text": [
      "/Users/alexellard/opt/anaconda3/lib/python3.7/site-packages/xgboost/data.py:96: UserWarning: Use subset (sliced data) of np.ndarray is not recommended because it will generate extra copies and increase memory consumption\n",
      "  \"because it will generate extra copies and increase \" +\n"
     ]
    },
    {
     "name": "stdout",
     "output_type": "stream",
     "text": [
      "test y shape : (17520, 1)\n",
      "Inv y shape : (17520, 42)\n",
      "y pred shape : (17520, 1)\n",
      "inv y pred : (17520, 42)\n",
      "Run 3 Mean Absolute Error: 162.237149258334\n",
      "[['link_31_flow', 'node_4_demand', 'node_18_pressure', 'link_11_flow', 'node_21_pressure', 'node_13_demand', 'node_8_demand', 'node_26_pressure', 'node_31_demand', 'node_6_demand', 'reservoir_demand', 'link_16_flow', 'link_27_flow', 'node_19_pressure', 'link_32_flow', 'node_24_pressure', 'link_2_flow', 'node_14_pressure', 'node_16_pressure', 'node_17_demand', 'node_10_pressure', 'node_31_pressure', 'link_10_flow', 'node_3_demand', 'node_11_demand', 'node_29_demand', 'link_21_flow', 'link_6_flow', 'link_4_flow', 'link_3_flow', 'node_1_demand', 'link_30_flow', 'node_11_pressure', 'link_7_flow', 'node_7_demand', 'node_28_demand', 'node_12_demand', 'node_2_demand', 'link_13_flow', 'node_23_demand', 'node_30_demand', 'node_27_pressure', 'link_26_flow', 'node_26_demand', 'node_5_demand', 'node_3_pressure', 'link_1_flow', 'node_21_demand', 'link_8_flow', 'node_29_pressure', 'node_10_demand', 'node_15_demand', 'node_30_pressure', 'node_1_pressure']]\n",
      "starting df shape: (87600, 42)\n",
      "This is training run 4 and has the shape:  (87600, 42)\n",
      "The value of dropped columns is 55\n"
     ]
    },
    {
     "name": "stderr",
     "output_type": "stream",
     "text": [
      "/Users/alexellard/opt/anaconda3/lib/python3.7/site-packages/xgboost/data.py:96: UserWarning: Use subset (sliced data) of np.ndarray is not recommended because it will generate extra copies and increase memory consumption\n",
      "  \"because it will generate extra copies and increase \" +\n"
     ]
    },
    {
     "name": "stdout",
     "output_type": "stream",
     "text": [
      "test y shape : (17520, 1)\n",
      "Inv y shape : (17520, 42)\n",
      "y pred shape : (17520, 1)\n",
      "inv y pred : (17520, 42)\n",
      "Run 4 Mean Absolute Error: 4.423731939644178\n",
      "[['node_25_pressure', 'link_21_flow', 'link_28_flow', 'node_20_pressure', 'node_7_pressure', 'node_12_pressure', 'node_9_demand', 'node_16_pressure', 'link_4_flow', 'link_9_flow', 'link_26_flow', 'node_1_pressure', 'node_22_demand', 'link_5_flow', 'node_24_demand', 'node_17_pressure', 'node_2_demand', 'node_26_demand', 'node_23_pressure', 'link_23_flow', 'node_25_demand', 'node_18_demand', 'node_1_demand', 'node_5_demand', 'node_26_pressure', 'node_21_pressure', 'node_6_pressure', 'node_17_demand', 'link_22_flow', 'link_1_flow', 'link_14_flow', 'node_30_demand', 'link_13_flow', 'node_5_pressure', 'node_3_demand', 'node_10_pressure', 'link_30_flow', 'link_29_flow', 'node_15_pressure', 'reservoir_demand', 'node_14_demand', 'node_29_demand', 'node_12_demand', 'node_18_pressure', 'node_23_demand', 'node_13_pressure', 'link_6_flow', 'reservoir_pressure', 'node_11_pressure', 'link_7_flow', 'node_9_pressure', 'link_3_flow', 'node_19_pressure', 'link_8_flow', 'node_13_demand']]\n",
      "starting df shape: (87600, 41)\n",
      "This is training run 5 and has the shape:  (87600, 41)\n",
      "The value of dropped columns is 55\n"
     ]
    },
    {
     "name": "stderr",
     "output_type": "stream",
     "text": [
      "/Users/alexellard/opt/anaconda3/lib/python3.7/site-packages/xgboost/data.py:96: UserWarning: Use subset (sliced data) of np.ndarray is not recommended because it will generate extra copies and increase memory consumption\n",
      "  \"because it will generate extra copies and increase \" +\n"
     ]
    },
    {
     "name": "stdout",
     "output_type": "stream",
     "text": [
      "test y shape : (17520, 1)\n",
      "Inv y shape : (17520, 41)\n",
      "y pred shape : (17520, 1)\n",
      "inv y pred : (17520, 41)\n",
      "Run 5 Mean Absolute Error: 2.088287003679952\n",
      "[['node_21_demand', 'node_25_demand', 'node_6_pressure', 'node_24_demand', 'link_29_flow', 'node_31_demand', 'node_29_pressure', 'link_14_flow', 'node_2_pressure', 'node_14_pressure', 'link_30_flow', 'link_3_flow', 'node_11_demand', 'node_3_demand', 'node_11_pressure', 'node_16_pressure', 'node_9_demand', 'node_10_pressure', 'link_26_flow', 'node_15_demand', 'node_30_demand', 'node_15_pressure', 'node_1_pressure', 'link_2_flow', 'node_26_pressure', 'node_23_demand', 'node_27_pressure', 'node_19_pressure', 'node_4_pressure', 'node_5_demand', 'link_25_flow', 'link_24_flow', 'node_7_demand', 'reservoir_pressure', 'link_13_flow', 'link_32_flow', 'node_6_demand', 'node_24_pressure', 'link_28_flow', 'link_16_flow', 'link_19_flow', 'node_8_demand', 'node_28_demand', 'node_14_demand', 'link_23_flow', 'node_9_pressure', 'node_21_pressure', 'link_1_flow', 'node_20_demand', 'link_18_flow', 'node_17_pressure', 'link_20_flow', 'node_17_demand', 'node_22_demand', 'link_15_flow']]\n",
      "starting df shape: (87600, 41)\n",
      "This is training run 6 and has the shape:  (87600, 41)\n",
      "The value of dropped columns is 55\n"
     ]
    },
    {
     "name": "stderr",
     "output_type": "stream",
     "text": [
      "/Users/alexellard/opt/anaconda3/lib/python3.7/site-packages/xgboost/data.py:96: UserWarning: Use subset (sliced data) of np.ndarray is not recommended because it will generate extra copies and increase memory consumption\n",
      "  \"because it will generate extra copies and increase \" +\n"
     ]
    },
    {
     "name": "stdout",
     "output_type": "stream",
     "text": [
      "test y shape : (17520, 1)\n",
      "Inv y shape : (17520, 41)\n",
      "y pred shape : (17520, 1)\n",
      "inv y pred : (17520, 41)\n",
      "Run 6 Mean Absolute Error: 179.7937559727746\n",
      "[['link_23_flow', 'reservoir_pressure', 'node_29_demand', 'link_28_flow', 'node_19_pressure', 'link_22_flow', 'node_1_pressure', 'link_29_flow', 'node_17_pressure', 'node_18_pressure', 'node_1_demand', 'node_21_pressure', 'node_29_pressure', 'link_16_flow', 'node_14_demand', 'link_26_flow', 'node_18_demand', 'link_15_flow', 'link_2_flow', 'node_13_pressure', 'node_5_demand', 'link_6_flow', 'node_25_demand', 'link_7_flow', 'node_20_pressure', 'link_31_flow', 'node_9_pressure', 'node_24_pressure', 'node_6_pressure', 'link_3_flow', 'node_12_demand', 'node_2_demand', 'link_20_flow', 'node_20_demand', 'node_22_pressure', 'node_31_demand', 'node_13_demand', 'link_4_flow', 'node_10_pressure', 'link_25_flow', 'node_27_pressure', 'node_28_pressure', 'node_12_pressure', 'link_18_flow', 'node_7_demand', 'link_11_flow', 'node_23_demand', 'node_23_pressure', 'link_12_flow', 'node_14_pressure', 'link_5_flow', 'link_14_flow', 'node_19_demand', 'link_10_flow', 'link_17_flow']]\n",
      "starting df shape: (87600, 41)\n",
      "This is training run 7 and has the shape:  (87600, 41)\n",
      "The value of dropped columns is 55\n"
     ]
    },
    {
     "name": "stderr",
     "output_type": "stream",
     "text": [
      "/Users/alexellard/opt/anaconda3/lib/python3.7/site-packages/xgboost/data.py:96: UserWarning: Use subset (sliced data) of np.ndarray is not recommended because it will generate extra copies and increase memory consumption\n",
      "  \"because it will generate extra copies and increase \" +\n"
     ]
    },
    {
     "name": "stdout",
     "output_type": "stream",
     "text": [
      "test y shape : (17520, 1)\n",
      "Inv y shape : (17520, 41)\n",
      "y pred shape : (17520, 1)\n",
      "inv y pred : (17520, 41)\n",
      "Run 7 Mean Absolute Error: 162.82045272861518\n",
      "[['node_10_demand', 'link_15_flow', 'node_9_demand', 'node_11_demand', 'node_26_demand', 'link_5_flow', 'node_17_pressure', 'node_21_demand', 'link_31_flow', 'link_16_flow', 'node_23_pressure', 'link_12_flow', 'node_17_demand', 'link_19_flow', 'node_13_pressure', 'link_7_flow', 'link_22_flow', 'node_2_demand', 'link_32_flow', 'link_1_flow', 'node_1_demand', 'node_27_pressure', 'link_25_flow', 'link_13_flow', 'link_26_flow', 'node_5_demand', 'link_18_flow', 'link_27_flow', 'node_31_pressure', 'link_20_flow', 'node_10_pressure', 'link_9_flow', 'node_11_pressure', 'node_26_pressure', 'link_3_flow', 'node_6_demand', 'node_15_pressure', 'link_8_flow', 'link_11_flow', 'link_28_flow', 'link_21_flow', 'node_14_pressure', 'node_22_pressure', 'node_28_demand', 'node_14_demand', 'node_18_pressure', 'node_25_demand', 'node_24_pressure', 'node_22_demand', 'node_8_pressure', 'reservoir_demand', 'link_24_flow', 'node_20_pressure', 'node_15_demand']]\n",
      "starting df shape: (87600, 42)\n",
      "This is training run 8 and has the shape:  (87600, 42)\n",
      "The value of dropped columns is 55\n"
     ]
    },
    {
     "name": "stderr",
     "output_type": "stream",
     "text": [
      "/Users/alexellard/opt/anaconda3/lib/python3.7/site-packages/xgboost/data.py:96: UserWarning: Use subset (sliced data) of np.ndarray is not recommended because it will generate extra copies and increase memory consumption\n",
      "  \"because it will generate extra copies and increase \" +\n"
     ]
    },
    {
     "name": "stdout",
     "output_type": "stream",
     "text": [
      "test y shape : (17520, 1)\n",
      "Inv y shape : (17520, 42)\n",
      "y pred shape : (17520, 1)\n",
      "inv y pred : (17520, 42)\n",
      "Run 8 Mean Absolute Error: 1.4557395489809435\n",
      "[['link_27_flow', 'node_23_pressure', 'node_12_demand', 'link_9_flow', 'node_7_pressure', 'node_25_demand', 'node_1_demand', 'node_6_pressure', 'node_27_demand', 'link_11_flow', 'node_20_pressure', 'node_16_pressure', 'link_7_flow', 'node_5_demand', 'node_17_demand', 'node_1_pressure', 'node_6_demand', 'link_20_flow', 'link_8_flow', 'link_2_flow', 'node_24_pressure', 'reservoir_pressure', 'node_14_pressure', 'node_15_demand', 'link_24_flow', 'link_32_flow', 'link_22_flow', 'link_25_flow', 'node_22_pressure', 'node_2_demand', 'node_23_demand', 'node_25_pressure', 'node_2_pressure', 'link_28_flow', 'link_10_flow', 'node_14_demand', 'link_16_flow', 'node_13_demand', 'node_22_demand', 'node_3_demand', 'link_30_flow', 'node_31_demand', 'link_19_flow', 'node_13_pressure', 'node_10_pressure', 'node_7_demand', 'node_31_pressure', 'node_11_demand', 'link_15_flow', 'node_10_demand', 'node_20_demand', 'node_29_demand', 'node_26_demand', 'node_19_demand']]\n",
      "starting df shape: (87600, 42)\n",
      "This is training run 9 and has the shape:  (87600, 42)\n",
      "The value of dropped columns is 55\n"
     ]
    },
    {
     "name": "stderr",
     "output_type": "stream",
     "text": [
      "/Users/alexellard/opt/anaconda3/lib/python3.7/site-packages/xgboost/data.py:96: UserWarning: Use subset (sliced data) of np.ndarray is not recommended because it will generate extra copies and increase memory consumption\n",
      "  \"because it will generate extra copies and increase \" +\n"
     ]
    },
    {
     "name": "stdout",
     "output_type": "stream",
     "text": [
      "test y shape : (17520, 1)\n",
      "Inv y shape : (17520, 42)\n",
      "y pred shape : (17520, 1)\n",
      "inv y pred : (17520, 42)\n",
      "Run 9 Mean Absolute Error: 159.47438570607812\n",
      "[['link_4_flow', 'node_8_demand', 'node_5_demand', 'node_28_pressure', 'link_5_flow', 'node_26_demand', 'link_29_flow', 'link_22_flow', 'link_10_flow', 'node_22_demand', 'node_13_demand', 'node_6_pressure', 'node_15_demand', 'node_17_pressure', 'link_1_flow', 'link_13_flow', 'node_11_pressure', 'link_24_flow', 'link_28_flow', 'node_9_demand', 'link_9_flow', 'node_28_demand', 'node_10_pressure', 'link_27_flow', 'node_20_pressure', 'link_6_flow', 'node_3_pressure', 'link_11_flow', 'node_21_pressure', 'node_29_demand', 'node_3_demand', 'node_14_pressure', 'node_1_pressure', 'node_15_pressure', 'link_3_flow', 'node_17_demand', 'reservoir_pressure', 'node_18_demand', 'link_8_flow', 'node_24_demand', 'link_12_flow', 'link_17_flow', 'link_23_flow', 'node_13_pressure', 'node_14_demand', 'node_4_demand', 'link_20_flow', 'node_7_pressure', 'node_7_demand', 'node_23_pressure', 'node_22_pressure', 'node_27_pressure', 'link_30_flow', 'node_31_demand', 'link_15_flow']]\n",
      "starting df shape: (87600, 41)\n",
      "This is training run 10 and has the shape:  (87600, 41)\n",
      "The value of dropped columns is 55\n"
     ]
    },
    {
     "name": "stderr",
     "output_type": "stream",
     "text": [
      "/Users/alexellard/opt/anaconda3/lib/python3.7/site-packages/xgboost/data.py:96: UserWarning: Use subset (sliced data) of np.ndarray is not recommended because it will generate extra copies and increase memory consumption\n",
      "  \"because it will generate extra copies and increase \" +\n"
     ]
    },
    {
     "name": "stdout",
     "output_type": "stream",
     "text": [
      "test y shape : (17520, 1)\n",
      "Inv y shape : (17520, 41)\n",
      "y pred shape : (17520, 1)\n",
      "inv y pred : (17520, 41)\n",
      "Run 10 Mean Absolute Error: 77.4061346271066\n",
      "[['link_29_flow', 'node_3_pressure', 'node_30_pressure', 'node_7_demand', 'node_30_demand', 'node_20_pressure', 'node_28_demand', 'node_6_demand', 'node_2_demand', 'node_15_pressure', 'link_11_flow', 'node_31_demand', 'node_19_demand', 'link_20_flow', 'link_5_flow', 'link_6_flow', 'node_13_pressure', 'link_30_flow', 'link_14_flow', 'link_22_flow', 'reservoir_demand', 'node_24_pressure', 'node_7_pressure', 'link_1_flow', 'link_24_flow', 'node_8_demand', 'node_28_pressure', 'node_17_pressure', 'node_23_demand', 'link_10_flow', 'node_5_pressure', 'node_22_pressure', 'node_23_pressure', 'link_25_flow', 'node_20_demand', 'node_25_demand', 'node_26_demand', 'node_12_pressure', 'node_9_pressure', 'node_27_demand', 'link_32_flow', 'link_2_flow', 'node_27_pressure', 'node_4_pressure', 'node_24_demand', 'node_17_demand', 'reservoir_pressure', 'link_26_flow', 'node_21_pressure', 'link_13_flow', 'node_18_demand', 'node_1_pressure', 'node_4_demand', 'link_21_flow', 'node_9_demand', 'node_14_demand', 'link_8_flow', 'link_28_flow', 'node_10_demand', 'node_29_pressure']]\n",
      "starting df shape: (87600, 36)\n",
      "This is training run 1 and has the shape:  (87600, 36)\n",
      "The value of dropped columns is 60\n"
     ]
    },
    {
     "name": "stderr",
     "output_type": "stream",
     "text": [
      "/Users/alexellard/opt/anaconda3/lib/python3.7/site-packages/xgboost/data.py:96: UserWarning: Use subset (sliced data) of np.ndarray is not recommended because it will generate extra copies and increase memory consumption\n",
      "  \"because it will generate extra copies and increase \" +\n"
     ]
    },
    {
     "name": "stdout",
     "output_type": "stream",
     "text": [
      "test y shape : (17520, 1)\n",
      "Inv y shape : (17520, 36)\n",
      "y pred shape : (17520, 1)\n",
      "inv y pred : (17520, 36)\n",
      "Run 1 Mean Absolute Error: 2.9071291386969813\n",
      "[['node_11_pressure', 'node_10_pressure', 'node_23_pressure', 'reservoir_pressure', 'link_5_flow', 'node_13_demand', 'node_22_pressure', 'node_17_pressure', 'link_3_flow', 'node_8_demand', 'link_29_flow', 'link_11_flow', 'link_28_flow', 'node_21_pressure', 'node_14_demand', 'link_13_flow', 'node_29_pressure', 'link_10_flow', 'node_29_demand', 'link_15_flow', 'node_2_demand', 'node_3_pressure', 'link_21_flow', 'node_22_demand', 'node_25_pressure', 'node_7_pressure', 'node_18_demand', 'link_6_flow', 'node_28_demand', 'node_19_pressure', 'node_31_pressure', 'node_26_pressure', 'node_30_pressure', 'link_9_flow', 'link_23_flow', 'node_9_pressure', 'link_25_flow', 'link_14_flow', 'node_2_pressure', 'link_4_flow', 'node_5_pressure', 'node_4_pressure', 'node_28_pressure', 'node_15_pressure', 'node_20_pressure', 'link_30_flow', 'node_1_pressure', 'link_20_flow', 'node_31_demand', 'node_10_demand', 'node_4_demand', 'link_1_flow', 'node_16_pressure', 'node_25_demand', 'node_12_demand', 'link_8_flow', 'node_7_demand', 'node_24_demand', 'node_30_demand']]\n",
      "starting df shape: (87600, 37)\n",
      "This is training run 2 and has the shape:  (87600, 37)\n",
      "The value of dropped columns is 60\n"
     ]
    },
    {
     "name": "stderr",
     "output_type": "stream",
     "text": [
      "/Users/alexellard/opt/anaconda3/lib/python3.7/site-packages/xgboost/data.py:96: UserWarning: Use subset (sliced data) of np.ndarray is not recommended because it will generate extra copies and increase memory consumption\n",
      "  \"because it will generate extra copies and increase \" +\n"
     ]
    },
    {
     "name": "stdout",
     "output_type": "stream",
     "text": [
      "test y shape : (17520, 1)\n",
      "Inv y shape : (17520, 37)\n",
      "y pred shape : (17520, 1)\n",
      "inv y pred : (17520, 37)\n",
      "Run 2 Mean Absolute Error: 80.39842439467519\n",
      "[['node_31_demand', 'node_20_pressure', 'node_23_pressure', 'link_9_flow', 'node_27_demand', 'node_8_pressure', 'node_28_demand', 'node_20_demand', 'link_27_flow', 'node_11_demand', 'node_16_pressure', 'link_25_flow', 'node_4_pressure', 'node_19_pressure', 'node_3_demand', 'node_7_demand', 'node_12_pressure', 'node_12_demand', 'node_30_pressure', 'node_6_demand', 'link_31_flow', 'node_14_pressure', 'link_19_flow', 'link_32_flow', 'node_17_pressure', 'link_2_flow', 'node_18_demand', 'link_30_flow', 'node_19_demand', 'link_20_flow', 'reservoir_demand', 'node_18_pressure', 'link_13_flow', 'link_3_flow', 'link_28_flow', 'node_17_demand', 'node_26_pressure', 'link_18_flow', 'node_25_pressure', 'node_5_pressure', 'node_22_pressure', 'node_21_demand', 'link_10_flow', 'node_28_pressure', 'node_1_demand', 'link_11_flow', 'node_24_pressure', 'node_22_demand', 'node_2_demand', 'node_4_demand', 'link_4_flow', 'link_16_flow', 'link_22_flow', 'link_26_flow', 'node_29_demand', 'node_2_pressure', 'link_5_flow', 'node_29_pressure', 'node_1_pressure', 'node_6_pressure']]\n",
      "starting df shape: (87600, 36)\n",
      "This is training run 3 and has the shape:  (87600, 36)\n",
      "The value of dropped columns is 60\n"
     ]
    },
    {
     "name": "stderr",
     "output_type": "stream",
     "text": [
      "/Users/alexellard/opt/anaconda3/lib/python3.7/site-packages/xgboost/data.py:96: UserWarning: Use subset (sliced data) of np.ndarray is not recommended because it will generate extra copies and increase memory consumption\n",
      "  \"because it will generate extra copies and increase \" +\n"
     ]
    },
    {
     "name": "stdout",
     "output_type": "stream",
     "text": [
      "test y shape : (17520, 1)\n",
      "Inv y shape : (17520, 36)\n",
      "y pred shape : (17520, 1)\n",
      "inv y pred : (17520, 36)\n",
      "Run 3 Mean Absolute Error: 7.688295782278959\n",
      "[['node_15_demand', 'node_14_demand', 'link_23_flow', 'node_15_pressure', 'node_27_pressure', 'node_12_pressure', 'link_32_flow', 'node_18_demand', 'link_5_flow', 'link_25_flow', 'link_9_flow', 'link_12_flow', 'node_1_pressure', 'node_16_pressure', 'node_3_demand', 'node_25_demand', 'node_14_pressure', 'link_8_flow', 'link_11_flow', 'link_19_flow', 'link_16_flow', 'link_3_flow', 'node_29_demand', 'node_5_pressure', 'node_5_demand', 'node_4_demand', 'node_9_demand', 'node_17_pressure', 'node_6_pressure', 'node_28_pressure', 'link_13_flow', 'node_31_demand', 'link_27_flow', 'node_24_pressure', 'link_22_flow', 'link_10_flow', 'node_13_pressure', 'node_27_demand', 'node_26_pressure', 'link_14_flow', 'link_1_flow', 'node_20_demand', 'link_15_flow', 'link_17_flow', 'node_10_pressure', 'node_20_pressure', 'link_31_flow', 'node_25_pressure', 'node_26_demand', 'reservoir_pressure', 'node_24_demand', 'link_4_flow', 'node_19_demand', 'node_11_pressure', 'node_19_pressure', 'node_10_demand', 'link_7_flow', 'node_7_demand', 'node_13_demand']]\n",
      "starting df shape: (87600, 37)\n",
      "This is training run 4 and has the shape:  (87600, 37)\n",
      "The value of dropped columns is 60\n"
     ]
    },
    {
     "name": "stderr",
     "output_type": "stream",
     "text": [
      "/Users/alexellard/opt/anaconda3/lib/python3.7/site-packages/xgboost/data.py:96: UserWarning: Use subset (sliced data) of np.ndarray is not recommended because it will generate extra copies and increase memory consumption\n",
      "  \"because it will generate extra copies and increase \" +\n"
     ]
    },
    {
     "name": "stdout",
     "output_type": "stream",
     "text": [
      "test y shape : (17520, 1)\n",
      "Inv y shape : (17520, 37)\n",
      "y pred shape : (17520, 1)\n",
      "inv y pred : (17520, 37)\n",
      "Run 4 Mean Absolute Error: 145.53848616183785\n",
      "[['link_23_flow', 'link_6_flow', 'link_17_flow', 'link_15_flow', 'node_22_pressure', 'link_1_flow', 'link_27_flow', 'node_12_demand', 'node_15_pressure', 'node_18_pressure', 'link_19_flow', 'link_30_flow', 'link_28_flow', 'node_9_pressure', 'link_5_flow', 'node_31_demand', 'node_31_pressure', 'node_27_pressure', 'node_20_demand', 'reservoir_demand', 'node_13_demand', 'node_29_demand', 'node_7_demand', 'link_16_flow', 'node_19_demand', 'reservoir_pressure', 'node_16_pressure', 'link_25_flow', 'node_28_demand', 'link_22_flow', 'node_22_demand', 'node_12_pressure', 'node_1_demand', 'node_5_demand', 'link_20_flow', 'link_8_flow', 'node_27_demand', 'node_17_pressure', 'link_21_flow', 'node_30_pressure', 'link_29_flow', 'link_2_flow', 'node_14_demand', 'node_24_pressure', 'node_15_demand', 'node_11_pressure', 'node_11_demand', 'link_3_flow', 'node_2_demand', 'node_4_pressure', 'link_32_flow', 'link_9_flow', 'link_13_flow', 'node_26_demand', 'node_23_pressure', 'link_11_flow', 'node_5_pressure', 'node_14_pressure', 'node_26_pressure', 'link_31_flow']]\n",
      "starting df shape: (87600, 36)\n",
      "This is training run 5 and has the shape:  (87600, 36)\n",
      "The value of dropped columns is 60\n"
     ]
    },
    {
     "name": "stderr",
     "output_type": "stream",
     "text": [
      "/Users/alexellard/opt/anaconda3/lib/python3.7/site-packages/xgboost/data.py:96: UserWarning: Use subset (sliced data) of np.ndarray is not recommended because it will generate extra copies and increase memory consumption\n",
      "  \"because it will generate extra copies and increase \" +\n"
     ]
    },
    {
     "name": "stdout",
     "output_type": "stream",
     "text": [
      "test y shape : (17520, 1)\n",
      "Inv y shape : (17520, 36)\n",
      "y pred shape : (17520, 1)\n",
      "inv y pred : (17520, 36)\n",
      "Run 5 Mean Absolute Error: 1.1993249410393048\n",
      "[['node_12_demand', 'node_16_pressure', 'node_27_pressure', 'node_15_pressure', 'node_24_pressure', 'node_3_demand', 'link_17_flow', 'node_29_pressure', 'node_21_demand', 'node_8_pressure', 'link_5_flow', 'node_20_pressure', 'node_6_pressure', 'node_19_pressure', 'link_13_flow', 'link_20_flow', 'node_29_demand', 'link_14_flow', 'node_8_demand', 'node_11_pressure', 'node_5_demand', 'node_30_pressure', 'node_28_demand', 'node_19_demand', 'node_30_demand', 'node_11_demand', 'node_28_pressure', 'node_17_pressure', 'node_7_pressure', 'node_15_demand', 'link_16_flow', 'node_9_demand', 'node_18_demand', 'node_23_pressure', 'link_15_flow', 'node_4_pressure', 'link_22_flow', 'node_10_demand', 'link_24_flow', 'link_10_flow', 'link_7_flow', 'link_8_flow', 'node_25_pressure', 'node_20_demand', 'node_3_pressure', 'link_2_flow', 'node_9_pressure', 'node_10_pressure', 'node_23_demand', 'link_11_flow', 'link_32_flow', 'reservoir_demand', 'node_26_demand', 'node_7_demand', 'node_14_demand', 'link_31_flow', 'node_31_demand', 'node_13_demand', 'link_25_flow', 'link_29_flow']]\n",
      "starting df shape: (87600, 36)\n",
      "This is training run 6 and has the shape:  (87600, 36)\n",
      "The value of dropped columns is 60\n"
     ]
    },
    {
     "name": "stderr",
     "output_type": "stream",
     "text": [
      "/Users/alexellard/opt/anaconda3/lib/python3.7/site-packages/xgboost/data.py:96: UserWarning: Use subset (sliced data) of np.ndarray is not recommended because it will generate extra copies and increase memory consumption\n",
      "  \"because it will generate extra copies and increase \" +\n"
     ]
    },
    {
     "name": "stdout",
     "output_type": "stream",
     "text": [
      "test y shape : (17520, 1)\n",
      "Inv y shape : (17520, 36)\n",
      "y pred shape : (17520, 1)\n",
      "inv y pred : (17520, 36)\n",
      "Run 6 Mean Absolute Error: 8.822067393543113\n",
      "[['link_32_flow', 'node_25_demand', 'node_18_demand', 'node_12_demand', 'link_12_flow', 'link_31_flow', 'node_24_demand', 'node_15_demand', 'link_15_flow', 'node_8_demand', 'link_14_flow', 'node_20_pressure', 'node_5_demand', 'node_15_pressure', 'node_11_demand', 'link_23_flow', 'node_24_pressure', 'link_17_flow', 'node_20_demand', 'link_1_flow', 'node_19_pressure', 'node_10_demand', 'node_8_pressure', 'node_4_demand', 'link_29_flow', 'link_20_flow', 'node_7_pressure', 'node_1_demand', 'node_27_demand', 'node_3_pressure', 'link_13_flow', 'node_21_demand', 'node_23_pressure', 'link_25_flow', 'node_31_pressure', 'node_29_demand', 'node_13_demand', 'node_30_demand', 'node_23_demand', 'node_6_pressure', 'link_5_flow', 'link_30_flow', 'node_18_pressure', 'node_14_pressure', 'node_2_demand', 'node_12_pressure', 'link_19_flow', 'link_3_flow', 'node_14_demand', 'node_25_pressure', 'node_30_pressure', 'node_1_pressure', 'node_29_pressure', 'node_27_pressure', 'reservoir_demand', 'node_31_demand', 'node_26_pressure', 'reservoir_pressure', 'node_17_demand', 'link_2_flow']]\n",
      "starting df shape: (87600, 36)\n",
      "This is training run 7 and has the shape:  (87600, 36)\n",
      "The value of dropped columns is 60\n"
     ]
    },
    {
     "name": "stderr",
     "output_type": "stream",
     "text": [
      "/Users/alexellard/opt/anaconda3/lib/python3.7/site-packages/xgboost/data.py:96: UserWarning: Use subset (sliced data) of np.ndarray is not recommended because it will generate extra copies and increase memory consumption\n",
      "  \"because it will generate extra copies and increase \" +\n"
     ]
    },
    {
     "name": "stdout",
     "output_type": "stream",
     "text": [
      "test y shape : (17520, 1)\n",
      "Inv y shape : (17520, 36)\n",
      "y pred shape : (17520, 1)\n",
      "inv y pred : (17520, 36)\n",
      "Run 7 Mean Absolute Error: 0.7341563303314667\n",
      "[['node_30_pressure', 'node_11_demand', 'node_30_demand', 'node_17_demand', 'link_27_flow', 'link_18_flow', 'node_14_demand', 'link_6_flow', 'link_23_flow', 'node_29_pressure', 'node_4_pressure', 'node_9_pressure', 'link_3_flow', 'node_21_demand', 'link_25_flow', 'link_16_flow', 'node_14_pressure', 'link_5_flow', 'node_1_pressure', 'reservoir_pressure', 'node_24_demand', 'link_21_flow', 'node_8_pressure', 'node_2_demand', 'link_15_flow', 'node_7_demand', 'link_19_flow', 'node_27_demand', 'link_9_flow', 'node_13_demand', 'link_12_flow', 'node_3_demand', 'node_7_pressure', 'node_4_demand', 'link_4_flow', 'node_10_demand', 'node_13_pressure', 'link_13_flow', 'node_9_demand', 'node_26_pressure', 'node_20_pressure', 'link_31_flow', 'node_27_pressure', 'node_28_demand', 'node_3_pressure', 'node_16_pressure', 'node_10_pressure', 'node_2_pressure', 'node_17_pressure', 'link_30_flow', 'node_25_pressure', 'node_8_demand', 'node_12_pressure', 'node_23_pressure', 'node_29_demand', 'node_20_demand', 'node_24_pressure', 'node_15_demand', 'node_22_demand']]\n",
      "starting df shape: (87600, 37)\n",
      "This is training run 8 and has the shape:  (87600, 37)\n",
      "The value of dropped columns is 60\n"
     ]
    },
    {
     "name": "stderr",
     "output_type": "stream",
     "text": [
      "/Users/alexellard/opt/anaconda3/lib/python3.7/site-packages/xgboost/data.py:96: UserWarning: Use subset (sliced data) of np.ndarray is not recommended because it will generate extra copies and increase memory consumption\n",
      "  \"because it will generate extra copies and increase \" +\n"
     ]
    },
    {
     "name": "stdout",
     "output_type": "stream",
     "text": [
      "test y shape : (17520, 1)\n",
      "Inv y shape : (17520, 37)\n",
      "y pred shape : (17520, 1)\n",
      "inv y pred : (17520, 37)\n",
      "Run 8 Mean Absolute Error: 161.50796568119677\n",
      "[['link_23_flow', 'node_20_demand', 'reservoir_demand', 'node_26_demand', 'node_31_pressure', 'node_14_demand', 'link_2_flow', 'node_22_demand', 'node_17_demand', 'node_22_pressure', 'link_17_flow', 'reservoir_pressure', 'node_4_pressure', 'node_18_pressure', 'link_4_flow', 'node_31_demand', 'link_12_flow', 'node_6_demand', 'node_29_demand', 'link_28_flow', 'node_5_pressure', 'node_26_pressure', 'node_23_demand', 'node_3_pressure', 'link_27_flow', 'node_10_demand', 'link_18_flow', 'node_13_pressure', 'link_15_flow', 'link_11_flow', 'node_1_pressure', 'node_30_pressure', 'link_9_flow', 'node_2_demand', 'node_7_pressure', 'link_14_flow', 'node_2_pressure', 'link_5_flow', 'node_19_demand', 'link_10_flow', 'node_19_pressure', 'node_27_pressure', 'node_3_demand', 'node_17_pressure', 'node_12_pressure', 'link_26_flow', 'node_14_pressure', 'link_6_flow', 'link_8_flow', 'node_1_demand', 'node_30_demand', 'node_25_pressure', 'node_23_pressure', 'link_25_flow', 'node_8_demand', 'link_20_flow', 'link_21_flow', 'node_6_pressure', 'node_21_demand']]\n",
      "starting df shape: (87600, 37)\n",
      "This is training run 9 and has the shape:  (87600, 37)\n",
      "The value of dropped columns is 60\n"
     ]
    },
    {
     "name": "stderr",
     "output_type": "stream",
     "text": [
      "/Users/alexellard/opt/anaconda3/lib/python3.7/site-packages/xgboost/data.py:96: UserWarning: Use subset (sliced data) of np.ndarray is not recommended because it will generate extra copies and increase memory consumption\n",
      "  \"because it will generate extra copies and increase \" +\n"
     ]
    },
    {
     "name": "stdout",
     "output_type": "stream",
     "text": [
      "test y shape : (17520, 1)\n",
      "Inv y shape : (17520, 37)\n",
      "y pred shape : (17520, 1)\n",
      "inv y pred : (17520, 37)\n",
      "Run 9 Mean Absolute Error: 3.647413027618698\n",
      "[['link_24_flow', 'link_10_flow', 'node_12_pressure', 'link_6_flow', 'node_8_pressure', 'node_10_demand', 'node_26_pressure', 'node_13_demand', 'node_23_demand', 'link_22_flow', 'link_26_flow', 'reservoir_pressure', 'node_17_pressure', 'node_6_demand', 'node_29_pressure', 'node_27_demand', 'link_7_flow', 'node_13_pressure', 'node_8_demand', 'link_2_flow', 'node_30_demand', 'link_28_flow', 'node_19_demand', 'link_25_flow', 'node_4_demand', 'node_26_demand', 'node_19_pressure', 'node_6_pressure', 'link_1_flow', 'link_16_flow', 'node_31_demand', 'node_30_pressure', 'link_12_flow', 'node_15_demand', 'reservoir_demand', 'link_8_flow', 'node_12_demand', 'node_9_pressure', 'node_9_demand', 'node_11_demand', 'node_23_pressure', 'node_21_pressure', 'node_22_pressure', 'node_2_demand', 'link_23_flow', 'link_30_flow', 'link_13_flow', 'node_18_demand', 'link_20_flow', 'node_24_pressure', 'node_20_demand', 'node_22_demand', 'node_14_demand', 'node_31_pressure', 'node_20_pressure', 'node_4_pressure', 'link_5_flow', 'node_3_demand', 'link_9_flow']]\n",
      "starting df shape: (87600, 37)\n",
      "This is training run 10 and has the shape:  (87600, 37)\n",
      "The value of dropped columns is 60\n"
     ]
    },
    {
     "name": "stderr",
     "output_type": "stream",
     "text": [
      "/Users/alexellard/opt/anaconda3/lib/python3.7/site-packages/xgboost/data.py:96: UserWarning: Use subset (sliced data) of np.ndarray is not recommended because it will generate extra copies and increase memory consumption\n",
      "  \"because it will generate extra copies and increase \" +\n"
     ]
    },
    {
     "name": "stdout",
     "output_type": "stream",
     "text": [
      "test y shape : (17520, 1)\n",
      "Inv y shape : (17520, 37)\n",
      "y pred shape : (17520, 1)\n",
      "inv y pred : (17520, 37)\n",
      "Run 10 Mean Absolute Error: 6.440023060775447\n",
      "[['node_14_pressure', 'node_27_pressure', 'link_7_flow', 'node_25_pressure', 'node_13_pressure', 'node_28_pressure', 'node_8_pressure', 'link_17_flow', 'node_21_demand', 'link_4_flow', 'node_26_demand', 'link_20_flow', 'node_17_demand', 'node_30_pressure', 'node_21_pressure', 'node_5_pressure', 'node_11_demand', 'link_26_flow', 'node_30_demand', 'link_18_flow', 'node_27_demand', 'link_8_flow', 'node_29_demand', 'node_25_demand', 'link_6_flow', 'link_5_flow', 'node_10_pressure', 'node_15_demand', 'node_15_pressure', 'node_1_pressure', 'link_9_flow', 'node_20_pressure', 'node_4_pressure', 'node_31_demand', 'node_17_pressure', 'link_30_flow', 'node_31_pressure', 'link_27_flow', 'link_13_flow', 'node_6_demand', 'node_2_pressure', 'node_16_pressure', 'link_14_flow', 'node_23_demand', 'node_29_pressure', 'node_18_demand', 'link_11_flow', 'node_26_pressure', 'link_12_flow', 'node_18_pressure', 'node_24_demand', 'link_29_flow', 'reservoir_demand', 'node_2_demand', 'node_23_pressure', 'link_2_flow', 'link_24_flow', 'link_21_flow', 'node_1_demand', 'link_1_flow', 'node_19_demand', 'node_28_demand', 'node_24_pressure', 'node_3_pressure']]\n",
      "starting df shape: (87600, 32)\n",
      "This is training run 1 and has the shape:  (87600, 32)\n",
      "The value of dropped columns is 65\n"
     ]
    },
    {
     "name": "stderr",
     "output_type": "stream",
     "text": [
      "/Users/alexellard/opt/anaconda3/lib/python3.7/site-packages/xgboost/data.py:96: UserWarning: Use subset (sliced data) of np.ndarray is not recommended because it will generate extra copies and increase memory consumption\n",
      "  \"because it will generate extra copies and increase \" +\n"
     ]
    },
    {
     "name": "stdout",
     "output_type": "stream",
     "text": [
      "test y shape : (17520, 1)\n",
      "Inv y shape : (17520, 32)\n",
      "y pred shape : (17520, 1)\n",
      "inv y pred : (17520, 32)\n",
      "Run 1 Mean Absolute Error: 0.38065945011196156\n",
      "[['link_8_flow', 'link_17_flow', 'link_11_flow', 'link_21_flow', 'node_10_demand', 'node_1_demand', 'node_31_demand', 'node_29_pressure', 'node_2_demand', 'node_19_pressure', 'node_4_demand', 'link_3_flow', 'link_24_flow', 'node_23_pressure', 'reservoir_pressure', 'node_28_demand', 'node_13_pressure', 'link_27_flow', 'node_17_pressure', 'node_7_demand', 'link_15_flow', 'node_25_demand', 'link_12_flow', 'node_3_demand', 'link_20_flow', 'node_24_demand', 'node_9_pressure', 'node_22_pressure', 'link_22_flow', 'link_2_flow', 'node_11_demand', 'node_20_pressure', 'link_30_flow', 'node_27_pressure', 'node_9_demand', 'node_19_demand', 'node_29_demand', 'link_26_flow', 'node_11_pressure', 'node_1_pressure', 'node_13_demand', 'node_30_pressure', 'node_26_pressure', 'node_12_pressure', 'link_5_flow', 'node_16_pressure', 'node_12_demand', 'link_6_flow', 'node_18_demand', 'node_25_pressure', 'node_5_demand', 'link_13_flow', 'link_9_flow', 'node_14_demand', 'link_28_flow', 'node_30_demand', 'node_26_demand', 'node_24_pressure', 'link_14_flow', 'node_28_pressure', 'node_15_pressure', 'link_23_flow', 'reservoir_demand', 'node_8_demand']]\n",
      "starting df shape: (87600, 32)\n",
      "This is training run 2 and has the shape:  (87600, 32)\n",
      "The value of dropped columns is 65\n"
     ]
    },
    {
     "name": "stderr",
     "output_type": "stream",
     "text": [
      "/Users/alexellard/opt/anaconda3/lib/python3.7/site-packages/xgboost/data.py:96: UserWarning: Use subset (sliced data) of np.ndarray is not recommended because it will generate extra copies and increase memory consumption\n",
      "  \"because it will generate extra copies and increase \" +\n"
     ]
    },
    {
     "name": "stdout",
     "output_type": "stream",
     "text": [
      "test y shape : (17520, 1)\n",
      "Inv y shape : (17520, 32)\n",
      "y pred shape : (17520, 1)\n",
      "inv y pred : (17520, 32)\n",
      "Run 2 Mean Absolute Error: 7.474287847650104\n",
      "[['node_10_demand', 'node_20_demand', 'link_10_flow', 'link_17_flow', 'link_11_flow', 'node_17_demand', 'node_30_pressure', 'reservoir_demand', 'node_20_pressure', 'node_11_pressure', 'node_1_pressure', 'node_6_pressure', 'node_19_demand', 'node_26_demand', 'node_17_pressure', 'link_27_flow', 'node_18_pressure', 'link_9_flow', 'node_24_pressure', 'node_9_pressure', 'link_20_flow', 'node_9_demand', 'link_25_flow', 'link_22_flow', 'node_2_pressure', 'node_2_demand', 'node_18_demand', 'node_11_demand', 'link_13_flow', 'node_8_demand', 'node_27_demand', 'node_7_pressure', 'link_3_flow', 'node_28_demand', 'node_22_demand', 'link_19_flow', 'node_15_pressure', 'node_5_pressure', 'node_28_pressure', 'node_23_demand', 'node_16_pressure', 'node_25_pressure', 'node_21_pressure', 'link_15_flow', 'link_16_flow', 'node_15_demand', 'node_12_pressure', 'link_12_flow', 'node_8_pressure', 'link_14_flow', 'link_26_flow', 'node_27_pressure', 'link_18_flow', 'link_6_flow', 'reservoir_pressure', 'link_23_flow', 'node_1_demand', 'node_26_pressure', 'node_29_demand', 'link_21_flow', 'node_10_pressure', 'node_25_demand', 'link_28_flow', 'node_4_demand']]\n",
      "starting df shape: (87600, 32)\n",
      "This is training run 3 and has the shape:  (87600, 32)\n",
      "The value of dropped columns is 65\n"
     ]
    },
    {
     "name": "stderr",
     "output_type": "stream",
     "text": [
      "/Users/alexellard/opt/anaconda3/lib/python3.7/site-packages/xgboost/data.py:96: UserWarning: Use subset (sliced data) of np.ndarray is not recommended because it will generate extra copies and increase memory consumption\n",
      "  \"because it will generate extra copies and increase \" +\n"
     ]
    },
    {
     "name": "stdout",
     "output_type": "stream",
     "text": [
      "test y shape : (17520, 1)\n",
      "Inv y shape : (17520, 32)\n",
      "y pred shape : (17520, 1)\n",
      "inv y pred : (17520, 32)\n",
      "Run 3 Mean Absolute Error: 1.7363971187431926\n",
      "[['link_26_flow', 'node_20_pressure', 'link_27_flow', 'node_10_pressure', 'node_15_demand', 'node_9_demand', 'node_28_pressure', 'link_4_flow', 'link_9_flow', 'node_25_pressure', 'node_29_pressure', 'node_5_pressure', 'node_2_pressure', 'node_30_pressure', 'node_17_demand', 'link_28_flow', 'link_10_flow', 'node_21_demand', 'node_3_demand', 'link_20_flow', 'node_30_demand', 'link_5_flow', 'node_1_pressure', 'link_8_flow', 'link_7_flow', 'link_2_flow', 'node_2_demand', 'node_22_pressure', 'node_4_pressure', 'node_9_pressure', 'node_3_pressure', 'node_29_demand', 'node_21_pressure', 'link_21_flow', 'link_23_flow', 'node_24_demand', 'node_1_demand', 'link_15_flow', 'node_8_pressure', 'node_26_pressure', 'node_25_demand', 'link_18_flow', 'link_32_flow', 'node_18_demand', 'reservoir_demand', 'node_6_pressure', 'node_27_demand', 'node_6_demand', 'node_28_demand', 'node_23_pressure', 'reservoir_pressure', 'node_14_demand', 'link_1_flow', 'link_6_flow', 'node_8_demand', 'node_24_pressure', 'node_4_demand', 'node_17_pressure', 'link_3_flow', 'node_23_demand', 'node_7_demand', 'link_22_flow', 'link_30_flow', 'node_31_demand']]\n",
      "starting df shape: (87600, 32)\n",
      "This is training run 4 and has the shape:  (87600, 32)\n",
      "The value of dropped columns is 65\n"
     ]
    },
    {
     "name": "stderr",
     "output_type": "stream",
     "text": [
      "/Users/alexellard/opt/anaconda3/lib/python3.7/site-packages/xgboost/data.py:96: UserWarning: Use subset (sliced data) of np.ndarray is not recommended because it will generate extra copies and increase memory consumption\n",
      "  \"because it will generate extra copies and increase \" +\n"
     ]
    },
    {
     "name": "stdout",
     "output_type": "stream",
     "text": [
      "test y shape : (17520, 1)\n",
      "Inv y shape : (17520, 32)\n",
      "y pred shape : (17520, 1)\n",
      "inv y pred : (17520, 32)\n",
      "Run 4 Mean Absolute Error: 4.77444640586317\n",
      "[['link_10_flow', 'node_14_demand', 'link_23_flow', 'node_7_demand', 'link_24_flow', 'node_10_pressure', 'node_19_pressure', 'link_6_flow', 'node_13_demand', 'node_30_pressure', 'node_22_demand', 'node_9_demand', 'reservoir_pressure', 'link_25_flow', 'node_13_pressure', 'node_23_demand', 'node_11_pressure', 'link_12_flow', 'node_23_pressure', 'link_17_flow', 'link_4_flow', 'node_5_demand', 'link_1_flow', 'link_27_flow', 'node_4_demand', 'node_28_pressure', 'link_30_flow', 'node_12_pressure', 'node_25_pressure', 'node_21_pressure', 'node_27_pressure', 'node_6_demand', 'node_16_pressure', 'node_24_demand', 'link_21_flow', 'link_13_flow', 'reservoir_demand', 'node_9_pressure', 'link_32_flow', 'node_29_pressure', 'node_21_demand', 'node_12_demand', 'link_14_flow', 'node_3_demand', 'node_1_pressure', 'node_28_demand', 'node_15_demand', 'node_29_demand', 'node_14_pressure', 'node_18_pressure', 'node_22_pressure', 'node_26_pressure', 'link_9_flow', 'node_11_demand', 'link_20_flow', 'node_8_demand', 'node_1_demand', 'link_18_flow', 'link_19_flow', 'link_16_flow', 'link_2_flow', 'node_5_pressure', 'node_8_pressure', 'node_19_demand', 'node_25_demand']]\n",
      "starting df shape: (87600, 31)\n",
      "This is training run 5 and has the shape:  (87600, 31)\n",
      "The value of dropped columns is 65\n"
     ]
    },
    {
     "name": "stderr",
     "output_type": "stream",
     "text": [
      "/Users/alexellard/opt/anaconda3/lib/python3.7/site-packages/xgboost/data.py:96: UserWarning: Use subset (sliced data) of np.ndarray is not recommended because it will generate extra copies and increase memory consumption\n",
      "  \"because it will generate extra copies and increase \" +\n"
     ]
    },
    {
     "name": "stdout",
     "output_type": "stream",
     "text": [
      "test y shape : (17520, 1)\n",
      "Inv y shape : (17520, 31)\n",
      "y pred shape : (17520, 1)\n",
      "inv y pred : (17520, 31)\n",
      "Run 5 Mean Absolute Error: 6.751124889258686\n",
      "[['node_1_demand', 'link_24_flow', 'node_17_pressure', 'link_7_flow', 'node_17_demand', 'node_22_demand', 'link_2_flow', 'node_15_demand', 'node_18_demand', 'link_25_flow', 'node_21_demand', 'link_1_flow', 'node_26_demand', 'link_9_flow', 'node_10_demand', 'node_5_pressure', 'link_18_flow', 'node_8_demand', 'node_11_pressure', 'node_31_demand', 'link_26_flow', 'node_5_demand', 'link_15_flow', 'node_30_pressure', 'node_3_pressure', 'node_25_demand', 'node_21_pressure', 'link_16_flow', 'link_21_flow', 'node_27_demand', 'link_23_flow', 'node_30_demand', 'node_11_demand', 'node_6_demand', 'node_22_pressure', 'node_2_pressure', 'node_23_pressure', 'link_11_flow', 'link_27_flow', 'link_10_flow', 'node_9_demand', 'node_8_pressure', 'node_4_demand', 'node_7_pressure', 'link_8_flow', 'link_20_flow', 'reservoir_demand', 'node_29_demand', 'node_13_demand', 'node_31_pressure', 'node_28_demand', 'node_6_pressure', 'node_16_pressure', 'link_22_flow', 'node_12_demand', 'node_3_demand', 'node_10_pressure', 'link_4_flow', 'node_29_pressure', 'link_12_flow', 'link_17_flow', 'node_19_pressure', 'node_26_pressure', 'node_12_pressure']]\n",
      "starting df shape: (87600, 32)\n",
      "This is training run 6 and has the shape:  (87600, 32)\n",
      "The value of dropped columns is 65\n"
     ]
    },
    {
     "name": "stderr",
     "output_type": "stream",
     "text": [
      "/Users/alexellard/opt/anaconda3/lib/python3.7/site-packages/xgboost/data.py:96: UserWarning: Use subset (sliced data) of np.ndarray is not recommended because it will generate extra copies and increase memory consumption\n",
      "  \"because it will generate extra copies and increase \" +\n"
     ]
    },
    {
     "name": "stdout",
     "output_type": "stream",
     "text": [
      "test y shape : (17520, 1)\n",
      "Inv y shape : (17520, 32)\n",
      "y pred shape : (17520, 1)\n",
      "inv y pred : (17520, 32)\n",
      "Run 6 Mean Absolute Error: 9.96511458796699\n",
      "[['node_5_pressure', 'link_8_flow', 'node_26_demand', 'node_22_demand', 'node_9_pressure', 'node_7_pressure', 'node_1_demand', 'node_30_pressure', 'link_29_flow', 'link_26_flow', 'node_25_pressure', 'node_10_demand', 'node_9_demand', 'node_11_demand', 'node_21_pressure', 'link_13_flow', 'link_15_flow', 'node_3_pressure', 'node_24_pressure', 'node_8_demand', 'node_17_pressure', 'node_14_demand', 'link_4_flow', 'node_22_pressure', 'link_16_flow', 'node_28_demand', 'link_3_flow', 'node_30_demand', 'link_18_flow', 'link_30_flow', 'link_27_flow', 'link_32_flow', 'node_24_demand', 'node_16_pressure', 'link_2_flow', 'node_11_pressure', 'link_5_flow', 'node_31_pressure', 'link_21_flow', 'link_28_flow', 'node_28_pressure', 'node_19_pressure', 'node_31_demand', 'node_23_pressure', 'node_2_pressure', 'node_4_demand', 'node_4_pressure', 'reservoir_pressure', 'node_2_demand', 'node_19_demand', 'link_14_flow', 'link_23_flow', 'link_19_flow', 'node_14_pressure', 'node_1_pressure', 'node_13_demand', 'link_7_flow', 'node_26_pressure', 'node_27_pressure', 'node_13_pressure', 'link_20_flow', 'node_18_pressure', 'link_12_flow', 'node_27_demand']]\n",
      "starting df shape: (87600, 32)\n",
      "This is training run 7 and has the shape:  (87600, 32)\n",
      "The value of dropped columns is 65\n"
     ]
    },
    {
     "name": "stderr",
     "output_type": "stream",
     "text": [
      "/Users/alexellard/opt/anaconda3/lib/python3.7/site-packages/xgboost/data.py:96: UserWarning: Use subset (sliced data) of np.ndarray is not recommended because it will generate extra copies and increase memory consumption\n",
      "  \"because it will generate extra copies and increase \" +\n"
     ]
    },
    {
     "name": "stdout",
     "output_type": "stream",
     "text": [
      "test y shape : (17520, 1)\n",
      "Inv y shape : (17520, 32)\n",
      "y pred shape : (17520, 1)\n",
      "inv y pred : (17520, 32)\n",
      "Run 7 Mean Absolute Error: 146.94134396217774\n",
      "[['node_15_pressure', 'link_21_flow', 'node_25_pressure', 'link_19_flow', 'node_10_pressure', 'node_29_pressure', 'node_27_pressure', 'node_9_demand', 'link_27_flow', 'link_29_flow', 'node_13_pressure', 'node_14_demand', 'node_24_demand', 'node_31_pressure', 'node_31_demand', 'node_4_demand', 'node_26_pressure', 'node_27_demand', 'node_16_pressure', 'link_31_flow', 'node_7_pressure', 'node_30_demand', 'node_1_pressure', 'node_22_demand', 'node_12_pressure', 'node_29_demand', 'node_2_pressure', 'node_26_demand', 'node_11_pressure', 'link_28_flow', 'node_6_demand', 'node_8_pressure', 'link_5_flow', 'reservoir_pressure', 'link_13_flow', 'link_4_flow', 'node_2_demand', 'node_17_demand', 'node_3_demand', 'link_11_flow', 'link_14_flow', 'link_32_flow', 'node_18_pressure', 'node_17_pressure', 'node_10_demand', 'link_25_flow', 'node_24_pressure', 'link_1_flow', 'node_21_pressure', 'link_15_flow', 'node_11_demand', 'link_6_flow', 'node_28_demand', 'node_1_demand', 'node_20_demand', 'link_18_flow', 'node_7_demand', 'node_23_pressure', 'node_8_demand', 'node_3_pressure', 'node_19_demand', 'node_9_pressure', 'node_14_pressure', 'node_4_pressure', 'node_15_demand']]\n",
      "starting df shape: (87600, 31)\n",
      "This is training run 8 and has the shape:  (87600, 31)\n",
      "The value of dropped columns is 65\n"
     ]
    },
    {
     "name": "stderr",
     "output_type": "stream",
     "text": [
      "/Users/alexellard/opt/anaconda3/lib/python3.7/site-packages/xgboost/data.py:96: UserWarning: Use subset (sliced data) of np.ndarray is not recommended because it will generate extra copies and increase memory consumption\n",
      "  \"because it will generate extra copies and increase \" +\n"
     ]
    },
    {
     "name": "stdout",
     "output_type": "stream",
     "text": [
      "test y shape : (17520, 1)\n",
      "Inv y shape : (17520, 31)\n",
      "y pred shape : (17520, 1)\n",
      "inv y pred : (17520, 31)\n",
      "Run 8 Mean Absolute Error: 83.83978466064828\n",
      "[['reservoir_pressure', 'node_10_pressure', 'node_27_demand', 'node_28_demand', 'link_17_flow', 'node_8_demand', 'link_26_flow', 'link_28_flow', 'node_31_demand', 'node_24_pressure', 'node_4_demand', 'link_24_flow', 'link_14_flow', 'node_19_pressure', 'node_25_pressure', 'link_22_flow', 'node_21_demand', 'node_23_pressure', 'node_15_demand', 'link_8_flow', 'node_19_demand', 'node_30_demand', 'node_22_demand', 'node_17_demand', 'node_13_demand', 'link_7_flow', 'node_2_demand', 'node_7_demand', 'link_1_flow', 'node_26_pressure', 'node_17_pressure', 'node_12_demand', 'link_6_flow', 'node_11_pressure', 'node_2_pressure', 'node_4_pressure', 'link_30_flow', 'node_9_pressure', 'node_20_demand', 'link_20_flow', 'node_5_pressure', 'node_5_demand', 'node_28_pressure', 'link_5_flow', 'node_8_pressure', 'node_24_demand', 'node_26_demand', 'node_3_pressure', 'node_12_pressure', 'node_21_pressure', 'node_18_pressure', 'node_22_pressure', 'node_29_pressure', 'node_31_pressure', 'link_15_flow', 'node_10_demand', 'node_3_demand', 'link_13_flow', 'link_12_flow', 'node_13_pressure', 'link_11_flow', 'link_9_flow', 'node_30_pressure', 'node_20_pressure']]\n",
      "starting df shape: (87600, 32)\n",
      "This is training run 9 and has the shape:  (87600, 32)\n",
      "The value of dropped columns is 65\n"
     ]
    },
    {
     "name": "stderr",
     "output_type": "stream",
     "text": [
      "/Users/alexellard/opt/anaconda3/lib/python3.7/site-packages/xgboost/data.py:96: UserWarning: Use subset (sliced data) of np.ndarray is not recommended because it will generate extra copies and increase memory consumption\n",
      "  \"because it will generate extra copies and increase \" +\n"
     ]
    },
    {
     "name": "stdout",
     "output_type": "stream",
     "text": [
      "test y shape : (17520, 1)\n",
      "Inv y shape : (17520, 32)\n",
      "y pred shape : (17520, 1)\n",
      "inv y pred : (17520, 32)\n",
      "Run 9 Mean Absolute Error: 81.12054639876085\n",
      "[['node_13_pressure', 'node_26_pressure', 'link_7_flow', 'node_11_demand', 'node_12_demand', 'node_15_pressure', 'link_25_flow', 'node_4_pressure', 'node_18_demand', 'node_19_pressure', 'link_32_flow', 'node_23_demand', 'node_5_demand', 'node_8_pressure', 'node_25_pressure', 'link_28_flow', 'node_21_pressure', 'node_29_pressure', 'link_24_flow', 'link_11_flow', 'link_16_flow', 'node_28_pressure', 'node_26_demand', 'link_30_flow', 'node_3_pressure', 'link_6_flow', 'node_30_demand', 'link_31_flow', 'node_18_pressure', 'node_22_demand', 'link_26_flow', 'link_9_flow', 'node_23_pressure', 'node_1_pressure', 'link_4_flow', 'node_4_demand', 'node_5_pressure', 'node_9_demand', 'link_2_flow', 'node_21_demand', 'link_3_flow', 'node_6_demand', 'link_27_flow', 'node_1_demand', 'link_23_flow', 'node_14_demand', 'node_14_pressure', 'node_7_pressure', 'reservoir_pressure', 'link_1_flow', 'link_21_flow', 'link_13_flow', 'reservoir_demand', 'node_20_demand', 'link_22_flow', 'node_24_demand', 'node_17_pressure', 'node_31_pressure', 'node_22_pressure', 'link_14_flow', 'node_15_demand', 'node_28_demand', 'node_6_pressure', 'node_10_pressure']]\n",
      "starting df shape: (87600, 32)\n",
      "This is training run 10 and has the shape:  (87600, 32)\n",
      "The value of dropped columns is 65\n"
     ]
    },
    {
     "name": "stderr",
     "output_type": "stream",
     "text": [
      "/Users/alexellard/opt/anaconda3/lib/python3.7/site-packages/xgboost/data.py:96: UserWarning: Use subset (sliced data) of np.ndarray is not recommended because it will generate extra copies and increase memory consumption\n",
      "  \"because it will generate extra copies and increase \" +\n"
     ]
    },
    {
     "name": "stdout",
     "output_type": "stream",
     "text": [
      "test y shape : (17520, 1)\n",
      "Inv y shape : (17520, 32)\n",
      "y pred shape : (17520, 1)\n",
      "inv y pred : (17520, 32)\n",
      "Run 10 Mean Absolute Error: 5.473569620533517\n",
      "[['node_27_demand', 'node_8_pressure', 'node_7_demand', 'node_25_demand', 'node_17_pressure', 'reservoir_pressure', 'node_16_pressure', 'link_3_flow', 'link_29_flow', 'link_31_flow', 'node_29_pressure', 'node_31_demand', 'node_1_pressure', 'node_15_demand', 'link_16_flow', 'node_13_demand', 'node_3_demand', 'node_23_pressure', 'link_21_flow', 'node_1_demand', 'link_27_flow', 'node_24_demand', 'node_9_demand', 'node_26_pressure', 'node_10_demand', 'node_19_demand', 'node_30_pressure', 'link_22_flow', 'node_23_demand', 'node_6_demand', 'link_2_flow', 'node_21_pressure', 'node_14_demand', 'node_30_demand', 'node_6_pressure', 'link_17_flow', 'link_14_flow', 'node_22_pressure', 'node_11_pressure', 'link_7_flow', 'node_7_pressure', 'link_15_flow', 'link_6_flow', 'node_31_pressure', 'node_5_pressure', 'node_8_demand', 'link_13_flow', 'link_5_flow', 'node_25_pressure', 'node_26_demand', 'node_14_pressure', 'node_28_demand', 'link_12_flow', 'reservoir_demand', 'link_20_flow', 'node_21_demand', 'link_11_flow', 'link_32_flow', 'node_19_pressure', 'node_10_pressure', 'node_20_demand', 'node_29_demand', 'link_9_flow', 'link_24_flow', 'node_20_pressure', 'node_17_demand', 'node_11_demand', 'node_4_demand', 'link_30_flow']]\n",
      "starting df shape: (87600, 27)\n",
      "This is training run 1 and has the shape:  (87600, 27)\n",
      "The value of dropped columns is 70\n"
     ]
    },
    {
     "name": "stderr",
     "output_type": "stream",
     "text": [
      "/Users/alexellard/opt/anaconda3/lib/python3.7/site-packages/xgboost/data.py:96: UserWarning: Use subset (sliced data) of np.ndarray is not recommended because it will generate extra copies and increase memory consumption\n",
      "  \"because it will generate extra copies and increase \" +\n"
     ]
    },
    {
     "name": "stdout",
     "output_type": "stream",
     "text": [
      "test y shape : (17520, 1)\n",
      "Inv y shape : (17520, 27)\n",
      "y pred shape : (17520, 1)\n",
      "inv y pred : (17520, 27)\n",
      "Run 1 Mean Absolute Error: 9.730494561748333\n",
      "[['node_8_demand', 'node_3_pressure', 'link_17_flow', 'node_17_pressure', 'link_21_flow', 'link_15_flow', 'node_27_demand', 'node_12_pressure', 'link_14_flow', 'link_11_flow', 'reservoir_pressure', 'node_29_pressure', 'node_11_demand', 'node_29_demand', 'node_15_pressure', 'link_26_flow', 'reservoir_demand', 'node_10_demand', 'node_21_demand', 'node_1_pressure', 'link_16_flow', 'node_14_demand', 'link_30_flow', 'link_25_flow', 'node_21_pressure', 'node_20_pressure', 'node_31_pressure', 'node_14_pressure', 'node_19_pressure', 'link_7_flow', 'node_3_demand', 'node_26_pressure', 'node_24_pressure', 'node_28_demand', 'link_31_flow', 'node_5_pressure', 'node_8_pressure', 'node_11_pressure', 'node_31_demand', 'link_2_flow', 'link_13_flow', 'node_25_demand', 'node_4_demand', 'node_7_demand', 'node_23_pressure', 'link_27_flow', 'node_24_demand', 'node_15_demand', 'link_32_flow', 'node_6_demand', 'link_12_flow', 'link_4_flow', 'node_13_demand', 'node_2_pressure', 'node_23_demand', 'node_28_pressure', 'node_18_demand', 'link_5_flow', 'node_17_demand', 'link_1_flow', 'node_2_demand', 'node_12_demand', 'node_30_pressure', 'node_5_demand', 'node_10_pressure', 'link_6_flow', 'link_29_flow', 'node_16_pressure', 'node_7_pressure']]\n",
      "starting df shape: (87600, 27)\n",
      "This is training run 2 and has the shape:  (87600, 27)\n",
      "The value of dropped columns is 70\n"
     ]
    },
    {
     "name": "stderr",
     "output_type": "stream",
     "text": [
      "/Users/alexellard/opt/anaconda3/lib/python3.7/site-packages/xgboost/data.py:96: UserWarning: Use subset (sliced data) of np.ndarray is not recommended because it will generate extra copies and increase memory consumption\n",
      "  \"because it will generate extra copies and increase \" +\n"
     ]
    },
    {
     "name": "stdout",
     "output_type": "stream",
     "text": [
      "test y shape : (17520, 1)\n",
      "Inv y shape : (17520, 27)\n",
      "y pred shape : (17520, 1)\n",
      "inv y pred : (17520, 27)\n",
      "Run 2 Mean Absolute Error: 11.200042115211179\n",
      "[['node_26_demand', 'node_27_pressure', 'node_24_demand', 'node_3_pressure', 'link_13_flow', 'link_30_flow', 'node_10_demand', 'node_2_demand', 'node_22_pressure', 'node_11_pressure', 'reservoir_demand', 'node_6_pressure', 'node_5_demand', 'link_32_flow', 'link_17_flow', 'node_20_demand', 'node_15_demand', 'link_1_flow', 'node_17_demand', 'link_19_flow', 'link_4_flow', 'node_18_demand', 'node_13_pressure', 'link_23_flow', 'node_23_demand', 'link_21_flow', 'link_7_flow', 'node_12_demand', 'node_7_demand', 'node_9_demand', 'node_29_demand', 'link_16_flow', 'link_5_flow', 'link_28_flow', 'node_31_pressure', 'link_11_flow', 'node_7_pressure', 'node_4_pressure', 'node_16_pressure', 'node_14_demand', 'node_6_demand', 'link_29_flow', 'node_27_demand', 'node_24_pressure', 'link_8_flow', 'node_8_pressure', 'link_26_flow', 'node_21_pressure', 'node_13_demand', 'node_21_demand', 'link_31_flow', 'node_19_pressure', 'link_20_flow', 'node_5_pressure', 'node_22_demand', 'link_15_flow', 'reservoir_pressure', 'node_23_pressure', 'node_15_pressure', 'node_25_pressure', 'node_30_pressure', 'node_4_demand', 'node_19_demand', 'node_12_pressure', 'node_14_pressure', 'link_25_flow', 'node_30_demand', 'link_3_flow', 'node_18_pressure']]\n",
      "starting df shape: (87600, 27)\n",
      "This is training run 3 and has the shape:  (87600, 27)\n",
      "The value of dropped columns is 70\n"
     ]
    },
    {
     "name": "stderr",
     "output_type": "stream",
     "text": [
      "/Users/alexellard/opt/anaconda3/lib/python3.7/site-packages/xgboost/data.py:96: UserWarning: Use subset (sliced data) of np.ndarray is not recommended because it will generate extra copies and increase memory consumption\n",
      "  \"because it will generate extra copies and increase \" +\n"
     ]
    },
    {
     "name": "stdout",
     "output_type": "stream",
     "text": [
      "test y shape : (17520, 1)\n",
      "Inv y shape : (17520, 27)\n",
      "y pred shape : (17520, 1)\n",
      "inv y pred : (17520, 27)\n",
      "Run 3 Mean Absolute Error: 10.532090126067741\n",
      "[['node_8_pressure', 'node_12_pressure', 'node_21_pressure', 'node_4_pressure', 'link_8_flow', 'node_25_demand', 'node_13_pressure', 'node_30_demand', 'link_2_flow', 'link_20_flow', 'node_10_pressure', 'link_15_flow', 'node_31_pressure', 'link_25_flow', 'node_14_pressure', 'link_26_flow', 'node_16_pressure', 'node_24_pressure', 'node_29_pressure', 'node_13_demand', 'node_11_pressure', 'link_32_flow', 'node_5_demand', 'link_9_flow', 'link_18_flow', 'link_31_flow', 'node_12_demand', 'node_18_demand', 'link_28_flow', 'link_19_flow', 'link_5_flow', 'node_25_pressure', 'node_17_demand', 'link_1_flow', 'link_10_flow', 'link_6_flow', 'node_15_pressure', 'node_24_demand', 'link_17_flow', 'node_15_demand', 'node_14_demand', 'link_3_flow', 'link_12_flow', 'reservoir_pressure', 'node_26_demand', 'node_29_demand', 'node_23_pressure', 'node_26_pressure', 'node_7_demand', 'link_7_flow', 'link_24_flow', 'link_14_flow', 'node_19_pressure', 'link_27_flow', 'link_21_flow', 'node_3_pressure', 'link_11_flow', 'node_28_demand', 'node_5_pressure', 'node_4_demand', 'link_29_flow', 'link_16_flow', 'node_31_demand', 'node_11_demand', 'node_2_pressure', 'node_8_demand', 'link_13_flow', 'node_22_pressure', 'node_9_demand']]\n",
      "starting df shape: (87600, 27)\n",
      "This is training run 4 and has the shape:  (87600, 27)\n",
      "The value of dropped columns is 70\n"
     ]
    },
    {
     "name": "stderr",
     "output_type": "stream",
     "text": [
      "/Users/alexellard/opt/anaconda3/lib/python3.7/site-packages/xgboost/data.py:96: UserWarning: Use subset (sliced data) of np.ndarray is not recommended because it will generate extra copies and increase memory consumption\n",
      "  \"because it will generate extra copies and increase \" +\n"
     ]
    },
    {
     "name": "stdout",
     "output_type": "stream",
     "text": [
      "test y shape : (17520, 1)\n",
      "Inv y shape : (17520, 27)\n",
      "y pred shape : (17520, 1)\n",
      "inv y pred : (17520, 27)\n",
      "Run 4 Mean Absolute Error: 195.42052546834492\n",
      "[['link_13_flow', 'link_17_flow', 'reservoir_pressure', 'node_21_pressure', 'node_7_pressure', 'link_7_flow', 'node_9_pressure', 'link_18_flow', 'node_12_pressure', 'node_15_pressure', 'node_23_pressure', 'node_23_demand', 'link_26_flow', 'node_14_pressure', 'link_10_flow', 'link_30_flow', 'node_9_demand', 'node_2_demand', 'node_15_demand', 'node_3_demand', 'node_5_demand', 'link_16_flow', 'node_28_pressure', 'node_31_demand', 'link_20_flow', 'node_11_demand', 'link_12_flow', 'node_8_pressure', 'node_4_pressure', 'node_22_pressure', 'link_2_flow', 'link_3_flow', 'node_26_demand', 'node_27_pressure', 'link_23_flow', 'node_14_demand', 'node_24_demand', 'link_25_flow', 'node_5_pressure', 'link_32_flow', 'link_29_flow', 'node_20_demand', 'node_1_pressure', 'node_30_demand', 'link_9_flow', 'node_22_demand', 'node_20_pressure', 'node_4_demand', 'link_15_flow', 'node_28_demand', 'node_13_demand', 'link_8_flow', 'node_18_pressure', 'link_22_flow', 'node_11_pressure', 'node_2_pressure', 'node_10_pressure', 'node_30_pressure', 'node_3_pressure', 'node_31_pressure', 'node_24_pressure', 'link_4_flow', 'node_16_pressure', 'link_21_flow', 'node_19_pressure', 'link_11_flow', 'node_13_pressure', 'node_27_demand', 'node_1_demand']]\n",
      "starting df shape: (87600, 27)\n",
      "This is training run 5 and has the shape:  (87600, 27)\n",
      "The value of dropped columns is 70\n"
     ]
    },
    {
     "name": "stderr",
     "output_type": "stream",
     "text": [
      "/Users/alexellard/opt/anaconda3/lib/python3.7/site-packages/xgboost/data.py:96: UserWarning: Use subset (sliced data) of np.ndarray is not recommended because it will generate extra copies and increase memory consumption\n",
      "  \"because it will generate extra copies and increase \" +\n"
     ]
    },
    {
     "name": "stdout",
     "output_type": "stream",
     "text": [
      "test y shape : (17520, 1)\n",
      "Inv y shape : (17520, 27)\n",
      "y pred shape : (17520, 1)\n",
      "inv y pred : (17520, 27)\n",
      "Run 5 Mean Absolute Error: 180.5048511738004\n",
      "[['node_14_demand', 'node_1_pressure', 'link_27_flow', 'link_4_flow', 'node_3_pressure', 'link_12_flow', 'node_19_pressure', 'link_11_flow', 'node_17_pressure', 'link_9_flow', 'link_30_flow', 'link_2_flow', 'node_13_pressure', 'node_6_demand', 'node_8_demand', 'node_26_pressure', 'node_14_pressure', 'link_20_flow', 'node_23_demand', 'reservoir_pressure', 'node_16_pressure', 'node_18_demand', 'node_12_pressure', 'node_31_pressure', 'node_29_demand', 'node_9_demand', 'node_15_demand', 'node_20_demand', 'node_4_demand', 'link_26_flow', 'node_13_demand', 'link_29_flow', 'node_27_pressure', 'node_30_demand', 'link_5_flow', 'node_20_pressure', 'node_24_pressure', 'link_23_flow', 'node_7_pressure', 'reservoir_demand', 'node_15_pressure', 'node_5_pressure', 'node_3_demand', 'link_16_flow', 'link_24_flow', 'link_21_flow', 'link_32_flow', 'node_21_pressure', 'link_28_flow', 'node_12_demand', 'node_9_pressure', 'link_19_flow', 'node_18_pressure', 'link_31_flow', 'node_26_demand', 'node_10_demand', 'node_7_demand', 'node_22_demand', 'link_18_flow', 'node_4_pressure', 'node_30_pressure', 'link_10_flow', 'node_25_pressure', 'link_25_flow', 'node_28_demand', 'node_24_demand', 'link_17_flow', 'node_1_demand', 'node_10_pressure']]\n",
      "starting df shape: (87600, 27)\n",
      "This is training run 6 and has the shape:  (87600, 27)\n",
      "The value of dropped columns is 70\n"
     ]
    },
    {
     "name": "stderr",
     "output_type": "stream",
     "text": [
      "/Users/alexellard/opt/anaconda3/lib/python3.7/site-packages/xgboost/data.py:96: UserWarning: Use subset (sliced data) of np.ndarray is not recommended because it will generate extra copies and increase memory consumption\n",
      "  \"because it will generate extra copies and increase \" +\n"
     ]
    },
    {
     "name": "stdout",
     "output_type": "stream",
     "text": [
      "test y shape : (17520, 1)\n",
      "Inv y shape : (17520, 27)\n",
      "y pred shape : (17520, 1)\n",
      "inv y pred : (17520, 27)\n",
      "Run 6 Mean Absolute Error: 6.914633163791741\n",
      "[['link_18_flow', 'node_5_pressure', 'node_3_pressure', 'node_4_demand', 'node_22_demand', 'link_31_flow', 'node_24_pressure', 'link_8_flow', 'node_30_pressure', 'node_20_demand', 'link_1_flow', 'reservoir_pressure', 'node_9_pressure', 'link_22_flow', 'node_31_demand', 'link_23_flow', 'node_13_pressure', 'link_28_flow', 'link_32_flow', 'link_20_flow', 'node_13_demand', 'node_22_pressure', 'node_9_demand', 'reservoir_demand', 'node_8_demand', 'node_2_pressure', 'node_29_pressure', 'node_11_demand', 'node_24_demand', 'node_14_pressure', 'link_19_flow', 'link_9_flow', 'link_25_flow', 'node_26_demand', 'node_28_demand', 'node_2_demand', 'link_12_flow', 'node_11_pressure', 'node_30_demand', 'node_1_pressure', 'link_6_flow', 'node_15_pressure', 'link_2_flow', 'node_12_pressure', 'node_10_pressure', 'node_7_pressure', 'link_10_flow', 'link_4_flow', 'node_21_demand', 'node_15_demand', 'link_7_flow', 'node_20_pressure', 'node_31_pressure', 'link_11_flow', 'node_26_pressure', 'node_29_demand', 'link_27_flow', 'node_16_pressure', 'link_5_flow', 'node_17_pressure', 'node_19_pressure', 'node_23_pressure', 'link_30_flow', 'link_3_flow', 'node_14_demand', 'node_6_pressure', 'node_3_demand', 'link_21_flow', 'node_25_demand']]\n",
      "starting df shape: (87600, 27)\n",
      "This is training run 7 and has the shape:  (87600, 27)\n",
      "The value of dropped columns is 70\n"
     ]
    },
    {
     "name": "stderr",
     "output_type": "stream",
     "text": [
      "/Users/alexellard/opt/anaconda3/lib/python3.7/site-packages/xgboost/data.py:96: UserWarning: Use subset (sliced data) of np.ndarray is not recommended because it will generate extra copies and increase memory consumption\n",
      "  \"because it will generate extra copies and increase \" +\n"
     ]
    },
    {
     "name": "stdout",
     "output_type": "stream",
     "text": [
      "test y shape : (17520, 1)\n",
      "Inv y shape : (17520, 27)\n",
      "y pred shape : (17520, 1)\n",
      "inv y pred : (17520, 27)\n",
      "Run 7 Mean Absolute Error: 2.534854490016503\n",
      "[['node_23_demand', 'node_11_pressure', 'node_25_pressure', 'node_22_demand', 'link_29_flow', 'node_15_pressure', 'link_11_flow', 'link_14_flow', 'node_18_demand', 'node_24_demand', 'node_3_demand', 'reservoir_pressure', 'link_6_flow', 'link_30_flow', 'node_6_pressure', 'node_24_pressure', 'node_31_pressure', 'link_10_flow', 'node_2_demand', 'node_8_demand', 'link_5_flow', 'node_23_pressure', 'node_7_demand', 'link_8_flow', 'node_13_pressure', 'link_18_flow', 'link_12_flow', 'node_18_pressure', 'node_7_pressure', 'node_19_demand', 'node_19_pressure', 'node_26_pressure', 'node_1_pressure', 'node_9_demand', 'node_28_demand', 'link_17_flow', 'link_28_flow', 'node_17_pressure', 'node_20_pressure', 'node_11_demand', 'link_22_flow', 'node_5_demand', 'link_2_flow', 'link_23_flow', 'node_3_pressure', 'link_15_flow', 'node_13_demand', 'link_32_flow', 'link_27_flow', 'link_20_flow', 'node_12_pressure', 'node_30_pressure', 'link_7_flow', 'node_10_pressure', 'node_5_pressure', 'node_14_demand', 'link_1_flow', 'node_25_demand', 'node_8_pressure', 'link_13_flow', 'node_27_demand', 'node_21_demand', 'node_10_demand', 'node_20_demand', 'link_19_flow', 'link_16_flow', 'link_24_flow', 'node_12_demand', 'link_3_flow']]\n",
      "starting df shape: (87600, 27)\n",
      "This is training run 8 and has the shape:  (87600, 27)\n",
      "The value of dropped columns is 70\n"
     ]
    },
    {
     "name": "stderr",
     "output_type": "stream",
     "text": [
      "/Users/alexellard/opt/anaconda3/lib/python3.7/site-packages/xgboost/data.py:96: UserWarning: Use subset (sliced data) of np.ndarray is not recommended because it will generate extra copies and increase memory consumption\n",
      "  \"because it will generate extra copies and increase \" +\n"
     ]
    },
    {
     "name": "stdout",
     "output_type": "stream",
     "text": [
      "test y shape : (17520, 1)\n",
      "Inv y shape : (17520, 27)\n",
      "y pred shape : (17520, 1)\n",
      "inv y pred : (17520, 27)\n",
      "Run 8 Mean Absolute Error: 166.5130719538021\n",
      "[['link_10_flow', 'node_1_demand', 'link_22_flow', 'link_15_flow', 'link_2_flow', 'node_25_pressure', 'node_17_demand', 'node_28_pressure', 'node_2_pressure', 'link_32_flow', 'node_9_pressure', 'node_31_pressure', 'link_29_flow', 'reservoir_pressure', 'node_22_pressure', 'node_20_pressure', 'node_19_pressure', 'node_3_pressure', 'link_1_flow', 'node_22_demand', 'link_23_flow', 'link_26_flow', 'link_31_flow', 'node_28_demand', 'node_13_pressure', 'node_5_demand', 'link_4_flow', 'node_23_demand', 'node_10_demand', 'node_27_pressure', 'node_30_demand', 'node_12_demand', 'node_12_pressure', 'node_15_demand', 'node_6_pressure', 'node_9_demand', 'link_30_flow', 'node_27_demand', 'link_27_flow', 'node_8_pressure', 'node_2_demand', 'node_11_demand', 'link_11_flow', 'node_24_demand', 'link_5_flow', 'node_30_pressure', 'node_10_pressure', 'reservoir_demand', 'link_25_flow', 'link_24_flow', 'node_8_demand', 'node_4_demand', 'node_24_pressure', 'node_6_demand', 'node_13_demand', 'link_9_flow', 'node_29_demand', 'link_17_flow', 'node_14_pressure', 'node_5_pressure', 'node_1_pressure', 'link_3_flow', 'link_16_flow', 'link_20_flow', 'node_20_demand', 'node_3_demand', 'link_8_flow', 'node_26_demand', 'node_19_demand']]\n",
      "starting df shape: (87600, 27)\n",
      "This is training run 9 and has the shape:  (87600, 27)\n",
      "The value of dropped columns is 70\n"
     ]
    },
    {
     "name": "stderr",
     "output_type": "stream",
     "text": [
      "/Users/alexellard/opt/anaconda3/lib/python3.7/site-packages/xgboost/data.py:96: UserWarning: Use subset (sliced data) of np.ndarray is not recommended because it will generate extra copies and increase memory consumption\n",
      "  \"because it will generate extra copies and increase \" +\n"
     ]
    },
    {
     "name": "stdout",
     "output_type": "stream",
     "text": [
      "test y shape : (17520, 1)\n",
      "Inv y shape : (17520, 27)\n",
      "y pred shape : (17520, 1)\n",
      "inv y pred : (17520, 27)\n",
      "Run 9 Mean Absolute Error: 5.661678899297165\n",
      "[['node_17_demand', 'node_11_pressure', 'link_17_flow', 'node_6_pressure', 'link_16_flow', 'node_7_pressure', 'link_13_flow', 'node_11_demand', 'node_12_demand', 'node_28_demand', 'node_4_demand', 'node_19_demand', 'link_5_flow', 'node_5_pressure', 'node_8_pressure', 'node_27_pressure', 'link_20_flow', 'node_7_demand', 'node_31_pressure', 'link_18_flow', 'link_1_flow', 'node_4_pressure', 'node_30_pressure', 'reservoir_demand', 'node_26_demand', 'link_4_flow', 'node_14_pressure', 'link_31_flow', 'node_15_pressure', 'node_29_demand', 'node_18_demand', 'link_19_flow', 'node_24_demand', 'link_12_flow', 'link_6_flow', 'node_23_demand', 'link_23_flow', 'node_21_pressure', 'node_31_demand', 'node_5_demand', 'node_1_pressure', 'node_27_demand', 'link_26_flow', 'node_29_pressure', 'link_2_flow', 'link_15_flow', 'link_8_flow', 'node_9_demand', 'link_14_flow', 'link_10_flow', 'node_17_pressure', 'node_22_demand', 'link_21_flow', 'node_3_pressure', 'node_18_pressure', 'link_27_flow', 'link_32_flow', 'node_2_demand', 'node_16_pressure', 'node_23_pressure', 'node_12_pressure', 'link_25_flow', 'node_9_pressure', 'node_25_demand', 'node_6_demand', 'node_8_demand', 'node_19_pressure', 'node_1_demand', 'node_15_demand']]\n",
      "starting df shape: (87600, 27)\n",
      "This is training run 10 and has the shape:  (87600, 27)\n",
      "The value of dropped columns is 70\n"
     ]
    },
    {
     "name": "stderr",
     "output_type": "stream",
     "text": [
      "/Users/alexellard/opt/anaconda3/lib/python3.7/site-packages/xgboost/data.py:96: UserWarning: Use subset (sliced data) of np.ndarray is not recommended because it will generate extra copies and increase memory consumption\n",
      "  \"because it will generate extra copies and increase \" +\n"
     ]
    },
    {
     "name": "stdout",
     "output_type": "stream",
     "text": [
      "test y shape : (17520, 1)\n",
      "Inv y shape : (17520, 27)\n",
      "y pred shape : (17520, 1)\n",
      "inv y pred : (17520, 27)\n",
      "Run 10 Mean Absolute Error: 1.7351056160162648\n",
      "[['node_21_demand', 'node_11_pressure', 'node_31_pressure', 'link_11_flow', 'node_28_demand', 'node_11_demand', 'node_28_pressure', 'node_7_pressure', 'link_17_flow', 'node_7_demand', 'node_5_demand', 'node_6_pressure', 'node_1_pressure', 'node_10_demand', 'node_13_demand', 'link_14_flow', 'node_24_pressure', 'link_25_flow', 'link_15_flow', 'link_16_flow', 'node_23_demand', 'link_22_flow', 'node_15_pressure', 'node_13_pressure', 'node_23_pressure', 'node_19_demand', 'reservoir_demand', 'link_3_flow', 'node_8_demand', 'node_26_demand', 'node_2_demand', 'link_27_flow', 'node_12_pressure', 'link_21_flow', 'link_29_flow', 'link_6_flow', 'link_26_flow', 'link_2_flow', 'node_24_demand', 'node_10_pressure', 'link_19_flow', 'link_4_flow', 'node_30_pressure', 'link_24_flow', 'node_31_demand', 'link_18_flow', 'node_20_demand', 'node_15_demand', 'reservoir_pressure', 'node_18_demand', 'link_9_flow', 'node_17_demand', 'node_22_pressure', 'node_14_pressure', 'node_8_pressure', 'node_20_pressure', 'node_12_demand', 'node_25_demand', 'link_31_flow', 'link_30_flow', 'link_20_flow', 'node_19_pressure', 'link_28_flow', 'link_8_flow', 'node_17_pressure', 'node_4_pressure', 'link_5_flow', 'node_29_demand', 'node_16_pressure', 'link_13_flow', 'link_23_flow', 'node_2_pressure', 'node_18_pressure', 'node_9_demand']]\n",
      "starting df shape: (87600, 22)\n",
      "This is training run 1 and has the shape:  (87600, 22)\n",
      "The value of dropped columns is 75\n"
     ]
    },
    {
     "name": "stderr",
     "output_type": "stream",
     "text": [
      "/Users/alexellard/opt/anaconda3/lib/python3.7/site-packages/xgboost/data.py:96: UserWarning: Use subset (sliced data) of np.ndarray is not recommended because it will generate extra copies and increase memory consumption\n",
      "  \"because it will generate extra copies and increase \" +\n"
     ]
    },
    {
     "name": "stdout",
     "output_type": "stream",
     "text": [
      "test y shape : (17520, 1)\n",
      "Inv y shape : (17520, 22)\n",
      "y pred shape : (17520, 1)\n",
      "inv y pred : (17520, 22)\n",
      "Run 1 Mean Absolute Error: 11.740068800894417\n",
      "[['link_5_flow', 'link_19_flow', 'reservoir_pressure', 'node_31_demand', 'node_5_pressure', 'node_23_demand', 'node_29_pressure', 'link_8_flow', 'link_32_flow', 'node_2_demand', 'link_11_flow', 'node_22_demand', 'node_27_pressure', 'link_3_flow', 'link_24_flow', 'link_25_flow', 'node_9_pressure', 'node_4_demand', 'node_26_demand', 'node_29_demand', 'node_25_demand', 'node_16_pressure', 'node_30_demand', 'node_14_demand', 'node_10_demand', 'link_27_flow', 'node_20_pressure', 'node_7_demand', 'node_3_pressure', 'node_18_pressure', 'node_12_pressure', 'node_20_demand', 'link_18_flow', 'node_21_demand', 'node_11_demand', 'link_16_flow', 'node_25_pressure', 'link_17_flow', 'link_4_flow', 'link_7_flow', 'node_6_demand', 'node_19_pressure', 'node_15_pressure', 'link_1_flow', 'node_18_demand', 'link_31_flow', 'link_20_flow', 'node_3_demand', 'node_28_demand', 'node_13_demand', 'node_22_pressure', 'node_1_demand', 'node_23_pressure', 'node_28_pressure', 'node_5_demand', 'node_13_pressure', 'link_21_flow', 'node_17_pressure', 'link_15_flow', 'link_2_flow', 'node_9_demand', 'node_8_pressure', 'node_4_pressure', 'node_15_demand', 'node_31_pressure', 'node_21_pressure', 'link_14_flow', 'node_30_pressure', 'node_1_pressure', 'node_14_pressure', 'link_10_flow', 'link_29_flow', 'node_24_demand', 'node_2_pressure']]\n",
      "starting df shape: (87600, 22)\n",
      "This is training run 2 and has the shape:  (87600, 22)\n",
      "The value of dropped columns is 75\n"
     ]
    },
    {
     "name": "stderr",
     "output_type": "stream",
     "text": [
      "/Users/alexellard/opt/anaconda3/lib/python3.7/site-packages/xgboost/data.py:96: UserWarning: Use subset (sliced data) of np.ndarray is not recommended because it will generate extra copies and increase memory consumption\n",
      "  \"because it will generate extra copies and increase \" +\n"
     ]
    },
    {
     "name": "stdout",
     "output_type": "stream",
     "text": [
      "test y shape : (17520, 1)\n",
      "Inv y shape : (17520, 22)\n",
      "y pred shape : (17520, 1)\n",
      "inv y pred : (17520, 22)\n",
      "Run 2 Mean Absolute Error: 168.26456430627047\n",
      "[['node_22_pressure', 'link_23_flow', 'node_10_demand', 'node_15_demand', 'node_11_pressure', 'node_13_demand', 'link_17_flow', 'node_3_pressure', 'link_16_flow', 'node_15_pressure', 'link_7_flow', 'node_18_demand', 'node_4_demand', 'node_18_pressure', 'link_25_flow', 'node_5_demand', 'node_8_demand', 'node_1_pressure', 'node_17_pressure', 'node_28_pressure', 'node_9_demand', 'node_14_pressure', 'reservoir_pressure', 'node_7_pressure', 'node_6_demand', 'node_8_pressure', 'node_16_pressure', 'reservoir_demand', 'node_24_pressure', 'link_12_flow', 'node_5_pressure', 'node_20_demand', 'link_32_flow', 'link_28_flow', 'node_27_demand', 'link_8_flow', 'link_1_flow', 'node_12_demand', 'node_14_demand', 'link_13_flow', 'node_20_pressure', 'link_5_flow', 'node_19_pressure', 'link_9_flow', 'link_22_flow', 'link_18_flow', 'node_25_pressure', 'node_29_demand', 'link_19_flow', 'link_10_flow', 'node_2_pressure', 'node_30_demand', 'link_20_flow', 'node_12_pressure', 'node_23_pressure', 'node_4_pressure', 'node_3_demand', 'link_27_flow', 'node_24_demand', 'node_6_pressure', 'node_30_pressure', 'node_21_demand', 'node_1_demand', 'node_27_pressure', 'node_9_pressure', 'link_15_flow', 'link_29_flow', 'link_11_flow', 'link_26_flow', 'node_22_demand', 'node_26_demand', 'node_31_pressure', 'link_30_flow', 'node_31_demand']]\n",
      "starting df shape: (87600, 22)\n",
      "This is training run 3 and has the shape:  (87600, 22)\n",
      "The value of dropped columns is 75\n"
     ]
    },
    {
     "name": "stderr",
     "output_type": "stream",
     "text": [
      "/Users/alexellard/opt/anaconda3/lib/python3.7/site-packages/xgboost/data.py:96: UserWarning: Use subset (sliced data) of np.ndarray is not recommended because it will generate extra copies and increase memory consumption\n",
      "  \"because it will generate extra copies and increase \" +\n"
     ]
    },
    {
     "name": "stdout",
     "output_type": "stream",
     "text": [
      "test y shape : (17520, 1)\n",
      "Inv y shape : (17520, 22)\n",
      "y pred shape : (17520, 1)\n",
      "inv y pred : (17520, 22)\n",
      "Run 3 Mean Absolute Error: 9.841311389697944\n",
      "[['node_27_pressure', 'link_32_flow', 'node_29_pressure', 'link_12_flow', 'node_22_demand', 'node_13_pressure', 'link_22_flow', 'node_31_demand', 'link_31_flow', 'node_18_pressure', 'node_10_pressure', 'link_17_flow', 'link_28_flow', 'node_14_demand', 'node_30_pressure', 'node_16_pressure', 'node_15_demand', 'link_9_flow', 'node_29_demand', 'node_23_pressure', 'link_6_flow', 'node_4_demand', 'node_8_demand', 'link_19_flow', 'node_25_demand', 'node_2_pressure', 'link_20_flow', 'node_1_pressure', 'link_11_flow', 'node_6_demand', 'node_24_pressure', 'link_29_flow', 'link_4_flow', 'node_5_demand', 'node_20_pressure', 'node_26_demand', 'node_11_pressure', 'node_13_demand', 'reservoir_demand', 'node_14_pressure', 'node_1_demand', 'reservoir_pressure', 'link_21_flow', 'node_28_pressure', 'node_23_demand', 'link_5_flow', 'link_25_flow', 'node_25_pressure', 'node_31_pressure', 'node_12_demand', 'link_15_flow', 'node_7_demand', 'node_6_pressure', 'node_10_demand', 'node_17_pressure', 'node_17_demand', 'node_21_pressure', 'node_11_demand', 'link_2_flow', 'node_30_demand', 'node_28_demand', 'link_30_flow', 'node_8_pressure', 'link_23_flow', 'link_16_flow', 'link_24_flow', 'node_7_pressure', 'link_18_flow', 'link_27_flow', 'node_4_pressure', 'link_8_flow', 'link_7_flow', 'link_14_flow', 'link_3_flow']]\n",
      "starting df shape: (87600, 22)\n",
      "This is training run 4 and has the shape:  (87600, 22)\n",
      "The value of dropped columns is 75\n"
     ]
    },
    {
     "name": "stderr",
     "output_type": "stream",
     "text": [
      "/Users/alexellard/opt/anaconda3/lib/python3.7/site-packages/xgboost/data.py:96: UserWarning: Use subset (sliced data) of np.ndarray is not recommended because it will generate extra copies and increase memory consumption\n",
      "  \"because it will generate extra copies and increase \" +\n"
     ]
    },
    {
     "name": "stdout",
     "output_type": "stream",
     "text": [
      "test y shape : (17520, 1)\n",
      "Inv y shape : (17520, 22)\n",
      "y pred shape : (17520, 1)\n",
      "inv y pred : (17520, 22)\n",
      "Run 4 Mean Absolute Error: 9.242939086984475\n",
      "[['node_9_demand', 'link_12_flow', 'node_27_pressure', 'link_3_flow', 'node_6_pressure', 'node_23_demand', 'node_13_demand', 'node_29_demand', 'node_1_demand', 'link_15_flow', 'node_19_pressure', 'link_8_flow', 'link_23_flow', 'link_19_flow', 'link_2_flow', 'node_31_pressure', 'node_21_demand', 'link_27_flow', 'node_5_demand', 'node_11_demand', 'node_29_pressure', 'link_31_flow', 'node_19_demand', 'node_4_pressure', 'node_22_demand', 'link_24_flow', 'link_11_flow', 'node_10_demand', 'link_16_flow', 'node_14_demand', 'node_1_pressure', 'link_7_flow', 'node_2_pressure', 'link_25_flow', 'link_29_flow', 'link_4_flow', 'node_17_pressure', 'link_20_flow', 'link_13_flow', 'link_6_flow', 'link_10_flow', 'node_24_demand', 'link_21_flow', 'node_7_demand', 'node_25_demand', 'node_5_pressure', 'node_30_demand', 'node_11_pressure', 'node_6_demand', 'node_26_pressure', 'node_28_pressure', 'node_30_pressure', 'node_12_demand', 'node_10_pressure', 'node_14_pressure', 'node_26_demand', 'node_3_demand', 'link_22_flow', 'node_16_pressure', 'node_8_demand', 'node_15_demand', 'link_28_flow', 'node_8_pressure', 'node_28_demand', 'reservoir_demand', 'node_7_pressure', 'node_18_pressure', 'link_18_flow', 'node_17_demand', 'link_14_flow', 'node_13_pressure', 'link_9_flow', 'node_21_pressure', 'node_22_pressure']]\n",
      "starting df shape: (87600, 22)\n",
      "This is training run 5 and has the shape:  (87600, 22)\n",
      "The value of dropped columns is 75\n"
     ]
    },
    {
     "name": "stderr",
     "output_type": "stream",
     "text": [
      "/Users/alexellard/opt/anaconda3/lib/python3.7/site-packages/xgboost/data.py:96: UserWarning: Use subset (sliced data) of np.ndarray is not recommended because it will generate extra copies and increase memory consumption\n",
      "  \"because it will generate extra copies and increase \" +\n"
     ]
    },
    {
     "name": "stdout",
     "output_type": "stream",
     "text": [
      "test y shape : (17520, 1)\n",
      "Inv y shape : (17520, 22)\n",
      "y pred shape : (17520, 1)\n",
      "inv y pred : (17520, 22)\n",
      "Run 5 Mean Absolute Error: 9.750287742206007\n",
      "[['link_28_flow', 'node_4_demand', 'link_22_flow', 'node_29_demand', 'link_23_flow', 'node_2_demand', 'node_22_demand', 'link_3_flow', 'link_24_flow', 'node_27_pressure', 'link_9_flow', 'link_29_flow', 'node_11_pressure', 'node_12_pressure', 'link_27_flow', 'node_24_pressure', 'node_3_pressure', 'link_25_flow', 'node_4_pressure', 'node_12_demand', 'link_8_flow', 'node_21_demand', 'node_20_demand', 'node_28_pressure', 'node_30_demand', 'node_19_demand', 'reservoir_pressure', 'node_5_demand', 'link_10_flow', 'link_12_flow', 'link_26_flow', 'link_20_flow', 'link_1_flow', 'link_31_flow', 'link_6_flow', 'link_11_flow', 'node_31_demand', 'node_22_pressure', 'node_7_pressure', 'node_5_pressure', 'node_6_pressure', 'link_16_flow', 'node_31_pressure', 'node_13_demand', 'node_24_demand', 'node_13_pressure', 'node_15_demand', 'node_23_demand', 'node_30_pressure', 'node_6_demand', 'link_4_flow', 'node_27_demand', 'node_9_demand', 'node_20_pressure', 'node_25_demand', 'node_29_pressure', 'node_7_demand', 'node_16_pressure', 'reservoir_demand', 'node_8_pressure', 'node_17_pressure', 'node_3_demand', 'node_1_pressure', 'node_23_pressure', 'node_8_demand', 'node_15_pressure', 'node_9_pressure', 'node_1_demand', 'link_2_flow', 'node_26_pressure', 'link_13_flow', 'link_14_flow', 'link_32_flow', 'node_17_demand']]\n",
      "starting df shape: (87600, 22)\n",
      "This is training run 6 and has the shape:  (87600, 22)\n",
      "The value of dropped columns is 75\n"
     ]
    },
    {
     "name": "stderr",
     "output_type": "stream",
     "text": [
      "/Users/alexellard/opt/anaconda3/lib/python3.7/site-packages/xgboost/data.py:96: UserWarning: Use subset (sliced data) of np.ndarray is not recommended because it will generate extra copies and increase memory consumption\n",
      "  \"because it will generate extra copies and increase \" +\n"
     ]
    },
    {
     "name": "stdout",
     "output_type": "stream",
     "text": [
      "test y shape : (17520, 1)\n",
      "Inv y shape : (17520, 22)\n",
      "y pred shape : (17520, 1)\n",
      "inv y pred : (17520, 22)\n",
      "Run 6 Mean Absolute Error: 3.8814185435645014\n",
      "[['node_22_demand', 'link_18_flow', 'node_31_demand', 'node_7_pressure', 'node_2_pressure', 'node_4_demand', 'node_14_pressure', 'node_9_demand', 'node_14_demand', 'node_3_pressure', 'node_5_demand', 'node_2_demand', 'node_18_demand', 'link_11_flow', 'link_7_flow', 'node_27_pressure', 'node_17_pressure', 'link_2_flow', 'link_24_flow', 'link_8_flow', 'link_26_flow', 'node_31_pressure', 'link_28_flow', 'link_16_flow', 'link_22_flow', 'node_4_pressure', 'node_25_pressure', 'node_1_demand', 'node_10_demand', 'link_32_flow', 'node_1_pressure', 'link_1_flow', 'link_10_flow', 'node_9_pressure', 'node_8_demand', 'node_26_pressure', 'node_11_demand', 'node_13_pressure', 'link_23_flow', 'reservoir_demand', 'node_6_demand', 'node_19_demand', 'link_17_flow', 'link_13_flow', 'link_5_flow', 'node_26_demand', 'node_29_demand', 'node_12_pressure', 'node_12_demand', 'node_30_demand', 'node_18_pressure', 'link_4_flow', 'node_25_demand', 'node_30_pressure', 'link_21_flow', 'node_21_demand', 'node_3_demand', 'node_19_pressure', 'node_8_pressure', 'node_5_pressure', 'link_15_flow', 'link_30_flow', 'node_23_pressure', 'node_27_demand', 'node_28_demand', 'node_20_demand', 'node_24_pressure', 'node_24_demand', 'node_21_pressure', 'node_17_demand', 'node_23_demand', 'link_19_flow', 'node_28_pressure', 'link_31_flow']]\n",
      "starting df shape: (87600, 22)\n",
      "This is training run 7 and has the shape:  (87600, 22)\n",
      "The value of dropped columns is 75\n"
     ]
    },
    {
     "name": "stderr",
     "output_type": "stream",
     "text": [
      "/Users/alexellard/opt/anaconda3/lib/python3.7/site-packages/xgboost/data.py:96: UserWarning: Use subset (sliced data) of np.ndarray is not recommended because it will generate extra copies and increase memory consumption\n",
      "  \"because it will generate extra copies and increase \" +\n"
     ]
    },
    {
     "name": "stdout",
     "output_type": "stream",
     "text": [
      "test y shape : (17520, 1)\n",
      "Inv y shape : (17520, 22)\n",
      "y pred shape : (17520, 1)\n",
      "inv y pred : (17520, 22)\n",
      "Run 7 Mean Absolute Error: 5.460419658116585\n",
      "[['node_16_pressure', 'link_13_flow', 'link_17_flow', 'node_2_demand', 'node_3_pressure', 'node_27_pressure', 'link_14_flow', 'node_13_demand', 'link_12_flow', 'node_18_pressure', 'link_21_flow', 'link_10_flow', 'link_1_flow', 'node_20_demand', 'node_22_pressure', 'link_9_flow', 'node_10_demand', 'link_28_flow', 'node_1_pressure', 'node_31_pressure', 'link_4_flow', 'node_9_demand', 'node_4_demand', 'node_24_pressure', 'link_2_flow', 'link_19_flow', 'node_25_demand', 'node_5_demand', 'link_30_flow', 'node_17_pressure', 'node_23_demand', 'reservoir_demand', 'node_14_demand', 'node_28_demand', 'node_28_pressure', 'node_3_demand', 'node_15_pressure', 'link_31_flow', 'link_20_flow', 'node_13_pressure', 'node_19_demand', 'node_4_pressure', 'link_27_flow', 'link_25_flow', 'node_17_demand', 'node_15_demand', 'node_20_pressure', 'node_2_pressure', 'node_21_pressure', 'node_10_pressure', 'link_5_flow', 'link_3_flow', 'link_6_flow', 'node_5_pressure', 'node_12_pressure', 'node_12_demand', 'node_8_pressure', 'node_8_demand', 'link_8_flow', 'node_30_demand', 'node_23_pressure', 'node_31_demand', 'node_26_pressure', 'link_11_flow', 'node_29_pressure', 'link_7_flow', 'node_26_demand', 'node_6_demand', 'node_6_pressure', 'node_22_demand', 'node_19_pressure', 'node_27_demand', 'link_18_flow', 'link_23_flow']]\n",
      "starting df shape: (87600, 22)\n",
      "This is training run 8 and has the shape:  (87600, 22)\n",
      "The value of dropped columns is 75\n"
     ]
    },
    {
     "name": "stderr",
     "output_type": "stream",
     "text": [
      "/Users/alexellard/opt/anaconda3/lib/python3.7/site-packages/xgboost/data.py:96: UserWarning: Use subset (sliced data) of np.ndarray is not recommended because it will generate extra copies and increase memory consumption\n",
      "  \"because it will generate extra copies and increase \" +\n"
     ]
    },
    {
     "name": "stdout",
     "output_type": "stream",
     "text": [
      "test y shape : (17520, 1)\n",
      "Inv y shape : (17520, 22)\n",
      "y pred shape : (17520, 1)\n",
      "inv y pred : (17520, 22)\n",
      "Run 8 Mean Absolute Error: 2.696842735075326\n",
      "[['link_3_flow', 'node_28_pressure', 'link_16_flow', 'node_4_demand', 'link_10_flow', 'node_12_demand', 'link_15_flow', 'node_3_pressure', 'node_24_pressure', 'link_25_flow', 'link_7_flow', 'node_8_pressure', 'link_27_flow', 'node_15_demand', 'node_24_demand', 'link_30_flow', 'link_6_flow', 'link_18_flow', 'node_14_demand', 'node_28_demand', 'node_13_demand', 'link_23_flow', 'link_22_flow', 'node_6_pressure', 'node_30_demand', 'node_7_demand', 'node_20_pressure', 'node_20_demand', 'link_17_flow', 'node_8_demand', 'node_26_pressure', 'node_5_pressure', 'node_19_demand', 'node_2_demand', 'node_21_pressure', 'node_25_demand', 'reservoir_demand', 'link_9_flow', 'node_27_pressure', 'node_19_pressure', 'node_14_pressure', 'link_21_flow', 'node_23_demand', 'node_5_demand', 'node_27_demand', 'node_15_pressure', 'link_24_flow', 'link_26_flow', 'node_22_pressure', 'node_10_demand', 'node_31_pressure', 'reservoir_pressure', 'link_19_flow', 'link_29_flow', 'node_25_pressure', 'node_17_pressure', 'link_31_flow', 'node_18_pressure', 'node_4_pressure', 'node_12_pressure', 'node_7_pressure', 'node_2_pressure', 'link_28_flow', 'link_2_flow', 'node_1_demand', 'link_11_flow', 'node_29_demand', 'node_22_demand', 'node_21_demand', 'node_10_pressure', 'link_8_flow', 'node_16_pressure', 'node_9_demand', 'link_12_flow', 'node_17_demand']]\n",
      "starting df shape: (87600, 21)\n",
      "This is training run 9 and has the shape:  (87600, 21)\n",
      "The value of dropped columns is 75\n"
     ]
    },
    {
     "name": "stderr",
     "output_type": "stream",
     "text": [
      "/Users/alexellard/opt/anaconda3/lib/python3.7/site-packages/xgboost/data.py:96: UserWarning: Use subset (sliced data) of np.ndarray is not recommended because it will generate extra copies and increase memory consumption\n",
      "  \"because it will generate extra copies and increase \" +\n"
     ]
    },
    {
     "name": "stdout",
     "output_type": "stream",
     "text": [
      "test y shape : (17520, 1)\n",
      "Inv y shape : (17520, 21)\n",
      "y pred shape : (17520, 1)\n",
      "inv y pred : (17520, 21)\n",
      "Run 9 Mean Absolute Error: 1.6387291143508835\n",
      "[['node_4_pressure', 'link_26_flow', 'node_1_pressure', 'node_2_demand', 'link_15_flow', 'node_24_demand', 'reservoir_pressure', 'node_4_demand', 'node_25_pressure', 'node_11_pressure', 'link_7_flow', 'link_3_flow', 'link_23_flow', 'link_30_flow', 'link_10_flow', 'link_2_flow', 'node_27_pressure', 'node_16_pressure', 'node_3_pressure', 'node_27_demand', 'node_18_pressure', 'link_28_flow', 'node_12_demand', 'node_17_pressure', 'node_15_demand', 'node_29_demand', 'link_12_flow', 'node_8_pressure', 'node_3_demand', 'link_21_flow', 'node_24_pressure', 'link_6_flow', 'link_16_flow', 'node_13_pressure', 'node_1_demand', 'node_9_pressure', 'node_19_pressure', 'node_15_pressure', 'node_8_demand', 'link_24_flow', 'link_18_flow', 'node_9_demand', 'node_10_demand', 'link_13_flow', 'node_19_demand', 'node_30_demand', 'link_31_flow', 'node_7_pressure', 'node_11_demand', 'node_26_demand', 'node_23_demand', 'link_11_flow', 'reservoir_demand', 'link_1_flow', 'node_31_pressure', 'node_21_demand', 'node_17_demand', 'link_29_flow', 'node_10_pressure', 'link_32_flow', 'node_13_demand', 'node_6_pressure', 'node_2_pressure', 'node_28_demand', 'link_19_flow', 'node_6_demand', 'link_9_flow', 'node_18_demand', 'node_25_demand', 'node_12_pressure', 'link_25_flow', 'node_23_pressure', 'link_17_flow', 'node_20_pressure']]\n",
      "starting df shape: (87600, 22)\n",
      "This is training run 10 and has the shape:  (87600, 22)\n",
      "The value of dropped columns is 75\n"
     ]
    },
    {
     "name": "stderr",
     "output_type": "stream",
     "text": [
      "/Users/alexellard/opt/anaconda3/lib/python3.7/site-packages/xgboost/data.py:96: UserWarning: Use subset (sliced data) of np.ndarray is not recommended because it will generate extra copies and increase memory consumption\n",
      "  \"because it will generate extra copies and increase \" +\n"
     ]
    },
    {
     "name": "stdout",
     "output_type": "stream",
     "text": [
      "test y shape : (17520, 1)\n",
      "Inv y shape : (17520, 22)\n",
      "y pred shape : (17520, 1)\n",
      "inv y pred : (17520, 22)\n",
      "Run 10 Mean Absolute Error: 10.810349757629654\n",
      "Length MAE_average:  16\n",
      "Length sensors_covered:  16\n"
     ]
    }
   ],
   "source": [
    "MAE_average = []\n",
    "maximum_MAE = []\n",
    "sensors_covered = []\n",
    "n_columns_to_drop = [0, 5, 10, 15, 20, 25, 30, 35, 40, 45, 50, 55, 60, 65, 70, 75, 80]\n",
    "for n in n_columns_to_drop:\n",
    "    MAE = []\n",
    "    for run in range(1,11):\n",
    "        Y = df[df.columns[16]]\n",
    "        X = df.drop(columns=['node_16_demand'])\n",
    "        X['node_16_demand'] = Y\n",
    "        columns = []\n",
    "        columns_to_drop = random.sample(list(X.columns), n)\n",
    "        # Drop the selected columns from the dataframe\n",
    "        if X.columns[-1] in columns_to_drop:\n",
    "            columns_to_drop.remove(X.columns[-1])\n",
    "        X.drop(columns_to_drop, axis=1, inplace=True)\n",
    "        columns.append(columns_to_drop)\n",
    "        print(columns)\n",
    "        print('starting df shape:', X.shape)\n",
    "        print(f'This is training run {run} and has the shape: ', X.shape)\n",
    "        print(f'The value of dropped columns is {n}')\n",
    "\n",
    "        # split into train and test sets\n",
    "        values = X.values\n",
    "        scaler = MinMaxScaler(feature_range=(0, 1))\n",
    "        scaled = scaler.fit_transform(values)\n",
    "        train, test = train_test_split(scaled, test_size=0.2, random_state=0)\n",
    "\n",
    "        # split into input and outputs\n",
    "        train_X, train_y = train[:, :-1], train[:, -1]\n",
    "        test_X, test_y = test[:, :-1], test[:, -1]\n",
    "\n",
    "        #define model\n",
    "        model = xgb.XGBRegressor(\n",
    "            objective='reg:squarederror',\n",
    "            n_estimators=100,\n",
    "            max_depth=6,\n",
    "            learning_rate=0.1,\n",
    "            subsample=0.9,\n",
    "            colsample_bytree=0.8,\n",
    "            random_state=42\n",
    "        )\n",
    "\n",
    "        # fit the model on the training data\n",
    "        model.fit(train_X, train_y)\n",
    "\n",
    "        # make predictions on the test data\n",
    "        y_pred = model.predict(test_X)\n",
    "\n",
    "        test_y = test_y.reshape((len(test_y), 1))\n",
    "        print('test y shape :', test_y.shape)\n",
    "        inv_test_y = concatenate((test_y, test_X[:, -X.shape[1]:]), axis=1)\n",
    "        print('Inv y shape :', inv_test_y.shape)\n",
    "        test_y_inverse = scaler.inverse_transform(inv_test_y)\n",
    "        test_y_inverse = test_y_inverse[:,0]\n",
    "\n",
    "        y_pred = y_pred.reshape((len(y_pred), 1))\n",
    "        print('y pred shape :', y_pred.shape)\n",
    "        inv_y_pred = concatenate((y_pred, test_X[:, -X.shape[1]:]), axis=1)\n",
    "        print('inv y pred :', inv_y_pred.shape)\n",
    "        y_pred_inverse = scaler.inverse_transform(inv_y_pred)\n",
    "        y_pred_inverse = y_pred_inverse[:,0]\n",
    "\n",
    "        # evaluate scaled errors\n",
    "        mae_inverse = mean_absolute_error(test_y_inverse, y_pred_inverse)\n",
    "        MAE.append(mae_inverse)\n",
    "        print(f'Run {run} Mean Absolute Error:', mae_inverse)\n",
    "    percentage_list = round(X.shape[1] / 96 * 100)\n",
    "    sensors_covered.append(percentage_list)\n",
    "    MAE_mean = mean(MAE)\n",
    "    max_MAE = max(MAE)\n",
    "    maximum_MAE.append(max_MAE)\n",
    "    MAE_average.append(MAE_mean)\n",
    "print('Length MAE_average: ', len(MAE_average))\n",
    "print('Length sensors_covered: ', len(sensors_covered))"
   ]
  },
  {
   "cell_type": "code",
   "execution_count": 11,
   "metadata": {},
   "outputs": [
    {
     "data": {
      "image/png": "[encoded data removed]",
      "text/plain": [
       "<Figure size 432x288 with 1 Axes>"
      ]
     },
     "metadata": {
      "needs_background": "light"
     },
     "output_type": "display_data"
    }
   ],
   "source": [
    "plt.plot(sensors_covered, maximum_MAE)\n",
    "plt.ylabel(\"Mean Absolute Error\")\n",
    "plt.xlabel(\"Sensor Cover %\")\n",
    "plt.title(\"MAE vs. Coverage Demands Node 16\")\n",
    "plt.xlim([100, 0])\n",
    "plt.savefig('/Users/alexellard/Downloads/Node16DemandsMax.png')\n",
    "plt.show()"
   ]
  },
  {
   "cell_type": "code",
   "execution_count": 27,
   "metadata": {},
   "outputs": [
    {
     "name": "stdout",
     "output_type": "stream",
     "text": [
      "[[]]\n",
      "starting df shape: (87600, 96)\n",
      "This is training run 1 and has the shape:  (87600, 96)\n",
      "The value of dropped columns is 0\n"
     ]
    },
    {
     "name": "stderr",
     "output_type": "stream",
     "text": [
      "/Users/alexellard/opt/anaconda3/lib/python3.7/site-packages/xgboost/data.py:96: UserWarning: Use subset (sliced data) of np.ndarray is not recommended because it will generate extra copies and increase memory consumption\n",
      "  \"because it will generate extra copies and increase \" +\n"
     ]
    },
    {
     "name": "stdout",
     "output_type": "stream",
     "text": [
      "test y shape : (17520, 1)\n",
      "Inv y shape : (17520, 96)\n",
      "y pred shape : (17520, 1)\n",
      "inv y pred : (17520, 96)\n",
      "Run 1 Mean Absolute Error: 2.7127859912848926\n",
      "[[]]\n",
      "starting df shape: (87600, 96)\n",
      "This is training run 2 and has the shape:  (87600, 96)\n",
      "The value of dropped columns is 0\n"
     ]
    },
    {
     "name": "stderr",
     "output_type": "stream",
     "text": [
      "/Users/alexellard/opt/anaconda3/lib/python3.7/site-packages/xgboost/data.py:96: UserWarning: Use subset (sliced data) of np.ndarray is not recommended because it will generate extra copies and increase memory consumption\n",
      "  \"because it will generate extra copies and increase \" +\n"
     ]
    },
    {
     "name": "stdout",
     "output_type": "stream",
     "text": [
      "test y shape : (17520, 1)\n",
      "Inv y shape : (17520, 96)\n",
      "y pred shape : (17520, 1)\n",
      "inv y pred : (17520, 96)\n",
      "Run 2 Mean Absolute Error: 2.7127859912848926\n",
      "[[]]\n",
      "starting df shape: (87600, 96)\n",
      "This is training run 3 and has the shape:  (87600, 96)\n",
      "The value of dropped columns is 0\n"
     ]
    },
    {
     "name": "stderr",
     "output_type": "stream",
     "text": [
      "/Users/alexellard/opt/anaconda3/lib/python3.7/site-packages/xgboost/data.py:96: UserWarning: Use subset (sliced data) of np.ndarray is not recommended because it will generate extra copies and increase memory consumption\n",
      "  \"because it will generate extra copies and increase \" +\n"
     ]
    },
    {
     "name": "stdout",
     "output_type": "stream",
     "text": [
      "test y shape : (17520, 1)\n",
      "Inv y shape : (17520, 96)\n",
      "y pred shape : (17520, 1)\n",
      "inv y pred : (17520, 96)\n",
      "Run 3 Mean Absolute Error: 2.7127859912848926\n",
      "[[]]\n",
      "starting df shape: (87600, 96)\n",
      "This is training run 4 and has the shape:  (87600, 96)\n",
      "The value of dropped columns is 0\n"
     ]
    },
    {
     "name": "stderr",
     "output_type": "stream",
     "text": [
      "/Users/alexellard/opt/anaconda3/lib/python3.7/site-packages/xgboost/data.py:96: UserWarning: Use subset (sliced data) of np.ndarray is not recommended because it will generate extra copies and increase memory consumption\n",
      "  \"because it will generate extra copies and increase \" +\n"
     ]
    },
    {
     "name": "stdout",
     "output_type": "stream",
     "text": [
      "test y shape : (17520, 1)\n",
      "Inv y shape : (17520, 96)\n",
      "y pred shape : (17520, 1)\n",
      "inv y pred : (17520, 96)\n",
      "Run 4 Mean Absolute Error: 2.7127859912848926\n",
      "[[]]\n",
      "starting df shape: (87600, 96)\n",
      "This is training run 5 and has the shape:  (87600, 96)\n",
      "The value of dropped columns is 0\n"
     ]
    },
    {
     "name": "stderr",
     "output_type": "stream",
     "text": [
      "/Users/alexellard/opt/anaconda3/lib/python3.7/site-packages/xgboost/data.py:96: UserWarning: Use subset (sliced data) of np.ndarray is not recommended because it will generate extra copies and increase memory consumption\n",
      "  \"because it will generate extra copies and increase \" +\n"
     ]
    },
    {
     "name": "stdout",
     "output_type": "stream",
     "text": [
      "test y shape : (17520, 1)\n",
      "Inv y shape : (17520, 96)\n",
      "y pred shape : (17520, 1)\n",
      "inv y pred : (17520, 96)\n",
      "Run 5 Mean Absolute Error: 2.7127859912848926\n",
      "[[]]\n",
      "starting df shape: (87600, 96)\n",
      "This is training run 6 and has the shape:  (87600, 96)\n",
      "The value of dropped columns is 0\n"
     ]
    },
    {
     "name": "stderr",
     "output_type": "stream",
     "text": [
      "/Users/alexellard/opt/anaconda3/lib/python3.7/site-packages/xgboost/data.py:96: UserWarning: Use subset (sliced data) of np.ndarray is not recommended because it will generate extra copies and increase memory consumption\n",
      "  \"because it will generate extra copies and increase \" +\n"
     ]
    },
    {
     "name": "stdout",
     "output_type": "stream",
     "text": [
      "test y shape : (17520, 1)\n",
      "Inv y shape : (17520, 96)\n",
      "y pred shape : (17520, 1)\n",
      "inv y pred : (17520, 96)\n",
      "Run 6 Mean Absolute Error: 2.7127859912848926\n",
      "[[]]\n",
      "starting df shape: (87600, 96)\n",
      "This is training run 7 and has the shape:  (87600, 96)\n",
      "The value of dropped columns is 0\n"
     ]
    },
    {
     "name": "stderr",
     "output_type": "stream",
     "text": [
      "/Users/alexellard/opt/anaconda3/lib/python3.7/site-packages/xgboost/data.py:96: UserWarning: Use subset (sliced data) of np.ndarray is not recommended because it will generate extra copies and increase memory consumption\n",
      "  \"because it will generate extra copies and increase \" +\n"
     ]
    },
    {
     "name": "stdout",
     "output_type": "stream",
     "text": [
      "test y shape : (17520, 1)\n",
      "Inv y shape : (17520, 96)\n",
      "y pred shape : (17520, 1)\n",
      "inv y pred : (17520, 96)\n",
      "Run 7 Mean Absolute Error: 2.7127859912848926\n",
      "[[]]\n",
      "starting df shape: (87600, 96)\n",
      "This is training run 8 and has the shape:  (87600, 96)\n",
      "The value of dropped columns is 0\n"
     ]
    },
    {
     "name": "stderr",
     "output_type": "stream",
     "text": [
      "/Users/alexellard/opt/anaconda3/lib/python3.7/site-packages/xgboost/data.py:96: UserWarning: Use subset (sliced data) of np.ndarray is not recommended because it will generate extra copies and increase memory consumption\n",
      "  \"because it will generate extra copies and increase \" +\n"
     ]
    },
    {
     "name": "stdout",
     "output_type": "stream",
     "text": [
      "test y shape : (17520, 1)\n",
      "Inv y shape : (17520, 96)\n",
      "y pred shape : (17520, 1)\n",
      "inv y pred : (17520, 96)\n",
      "Run 8 Mean Absolute Error: 2.7127859912848926\n",
      "[[]]\n",
      "starting df shape: (87600, 96)\n",
      "This is training run 9 and has the shape:  (87600, 96)\n",
      "The value of dropped columns is 0\n"
     ]
    },
    {
     "name": "stderr",
     "output_type": "stream",
     "text": [
      "/Users/alexellard/opt/anaconda3/lib/python3.7/site-packages/xgboost/data.py:96: UserWarning: Use subset (sliced data) of np.ndarray is not recommended because it will generate extra copies and increase memory consumption\n",
      "  \"because it will generate extra copies and increase \" +\n"
     ]
    },
    {
     "name": "stdout",
     "output_type": "stream",
     "text": [
      "test y shape : (17520, 1)\n",
      "Inv y shape : (17520, 96)\n",
      "y pred shape : (17520, 1)\n",
      "inv y pred : (17520, 96)\n",
      "Run 9 Mean Absolute Error: 2.7127859912848926\n",
      "[[]]\n",
      "starting df shape: (87600, 96)\n",
      "This is training run 10 and has the shape:  (87600, 96)\n",
      "The value of dropped columns is 0\n"
     ]
    },
    {
     "name": "stderr",
     "output_type": "stream",
     "text": [
      "/Users/alexellard/opt/anaconda3/lib/python3.7/site-packages/xgboost/data.py:96: UserWarning: Use subset (sliced data) of np.ndarray is not recommended because it will generate extra copies and increase memory consumption\n",
      "  \"because it will generate extra copies and increase \" +\n"
     ]
    },
    {
     "name": "stdout",
     "output_type": "stream",
     "text": [
      "test y shape : (17520, 1)\n",
      "Inv y shape : (17520, 96)\n",
      "y pred shape : (17520, 1)\n",
      "inv y pred : (17520, 96)\n",
      "Run 10 Mean Absolute Error: 2.7127859912848926\n",
      "[['link_2_flow', 'node_31_pressure', 'link_27_flow', 'link_30_flow', 'link_28_flow']]\n",
      "starting df shape: (87600, 91)\n",
      "This is training run 1 and has the shape:  (87600, 91)\n",
      "The value of dropped columns is 5\n"
     ]
    },
    {
     "name": "stderr",
     "output_type": "stream",
     "text": [
      "/Users/alexellard/opt/anaconda3/lib/python3.7/site-packages/xgboost/data.py:96: UserWarning: Use subset (sliced data) of np.ndarray is not recommended because it will generate extra copies and increase memory consumption\n",
      "  \"because it will generate extra copies and increase \" +\n"
     ]
    },
    {
     "name": "stdout",
     "output_type": "stream",
     "text": [
      "test y shape : (17520, 1)\n",
      "Inv y shape : (17520, 91)\n",
      "y pred shape : (17520, 1)\n",
      "inv y pred : (17520, 91)\n",
      "Run 1 Mean Absolute Error: 2.8204500457207637\n",
      "[['reservoir_demand', 'node_14_demand', 'link_11_flow', 'node_6_demand']]\n",
      "starting df shape: (87600, 92)\n",
      "This is training run 2 and has the shape:  (87600, 92)\n",
      "The value of dropped columns is 5\n"
     ]
    },
    {
     "name": "stderr",
     "output_type": "stream",
     "text": [
      "/Users/alexellard/opt/anaconda3/lib/python3.7/site-packages/xgboost/data.py:96: UserWarning: Use subset (sliced data) of np.ndarray is not recommended because it will generate extra copies and increase memory consumption\n",
      "  \"because it will generate extra copies and increase \" +\n"
     ]
    },
    {
     "name": "stdout",
     "output_type": "stream",
     "text": [
      "test y shape : (17520, 1)\n",
      "Inv y shape : (17520, 92)\n",
      "y pred shape : (17520, 1)\n",
      "inv y pred : (17520, 92)\n",
      "Run 2 Mean Absolute Error: 0.17484362617621724\n",
      "[['link_2_flow', 'link_20_flow', 'node_5_pressure', 'node_31_pressure', 'node_6_pressure']]\n",
      "starting df shape: (87600, 91)\n",
      "This is training run 3 and has the shape:  (87600, 91)\n",
      "The value of dropped columns is 5\n"
     ]
    },
    {
     "name": "stderr",
     "output_type": "stream",
     "text": [
      "/Users/alexellard/opt/anaconda3/lib/python3.7/site-packages/xgboost/data.py:96: UserWarning: Use subset (sliced data) of np.ndarray is not recommended because it will generate extra copies and increase memory consumption\n",
      "  \"because it will generate extra copies and increase \" +\n"
     ]
    },
    {
     "name": "stdout",
     "output_type": "stream",
     "text": [
      "test y shape : (17520, 1)\n",
      "Inv y shape : (17520, 91)\n",
      "y pred shape : (17520, 1)\n",
      "inv y pred : (17520, 91)\n",
      "Run 3 Mean Absolute Error: 2.893928064847281\n",
      "[['node_23_demand', 'link_3_flow', 'link_25_flow', 'node_24_pressure', 'node_22_pressure']]\n",
      "starting df shape: (87600, 91)\n",
      "This is training run 4 and has the shape:  (87600, 91)\n",
      "The value of dropped columns is 5\n"
     ]
    },
    {
     "name": "stderr",
     "output_type": "stream",
     "text": [
      "/Users/alexellard/opt/anaconda3/lib/python3.7/site-packages/xgboost/data.py:96: UserWarning: Use subset (sliced data) of np.ndarray is not recommended because it will generate extra copies and increase memory consumption\n",
      "  \"because it will generate extra copies and increase \" +\n"
     ]
    },
    {
     "name": "stdout",
     "output_type": "stream",
     "text": [
      "test y shape : (17520, 1)\n",
      "Inv y shape : (17520, 91)\n",
      "y pred shape : (17520, 1)\n",
      "inv y pred : (17520, 91)\n",
      "Run 4 Mean Absolute Error: 2.7574662901599356\n",
      "[['node_2_pressure', 'node_30_demand', 'node_1_pressure', 'node_17_pressure', 'node_29_demand']]\n",
      "starting df shape: (87600, 91)\n",
      "This is training run 5 and has the shape:  (87600, 91)\n",
      "The value of dropped columns is 5\n"
     ]
    },
    {
     "name": "stderr",
     "output_type": "stream",
     "text": [
      "/Users/alexellard/opt/anaconda3/lib/python3.7/site-packages/xgboost/data.py:96: UserWarning: Use subset (sliced data) of np.ndarray is not recommended because it will generate extra copies and increase memory consumption\n",
      "  \"because it will generate extra copies and increase \" +\n"
     ]
    },
    {
     "name": "stdout",
     "output_type": "stream",
     "text": [
      "test y shape : (17520, 1)\n",
      "Inv y shape : (17520, 91)\n",
      "y pred shape : (17520, 1)\n",
      "inv y pred : (17520, 91)\n",
      "Run 5 Mean Absolute Error: 2.827740406952229\n",
      "[['node_15_pressure', 'node_10_demand', 'node_20_demand', 'node_22_pressure', 'node_2_demand']]\n",
      "starting df shape: (87600, 91)\n",
      "This is training run 6 and has the shape:  (87600, 91)\n",
      "The value of dropped columns is 5\n"
     ]
    },
    {
     "name": "stderr",
     "output_type": "stream",
     "text": [
      "/Users/alexellard/opt/anaconda3/lib/python3.7/site-packages/xgboost/data.py:96: UserWarning: Use subset (sliced data) of np.ndarray is not recommended because it will generate extra copies and increase memory consumption\n",
      "  \"because it will generate extra copies and increase \" +\n"
     ]
    },
    {
     "name": "stdout",
     "output_type": "stream",
     "text": [
      "test y shape : (17520, 1)\n",
      "Inv y shape : (17520, 91)\n",
      "y pred shape : (17520, 1)\n",
      "inv y pred : (17520, 91)\n",
      "Run 6 Mean Absolute Error: 2.7551927910909684\n",
      "[['node_6_pressure', 'reservoir_demand', 'link_1_flow', 'node_12_pressure', 'link_20_flow']]\n",
      "starting df shape: (87600, 91)\n",
      "This is training run 7 and has the shape:  (87600, 91)\n",
      "The value of dropped columns is 5\n"
     ]
    },
    {
     "name": "stderr",
     "output_type": "stream",
     "text": [
      "/Users/alexellard/opt/anaconda3/lib/python3.7/site-packages/xgboost/data.py:96: UserWarning: Use subset (sliced data) of np.ndarray is not recommended because it will generate extra copies and increase memory consumption\n",
      "  \"because it will generate extra copies and increase \" +\n"
     ]
    },
    {
     "name": "stdout",
     "output_type": "stream",
     "text": [
      "test y shape : (17520, 1)\n",
      "Inv y shape : (17520, 91)\n",
      "y pred shape : (17520, 1)\n",
      "inv y pred : (17520, 91)\n",
      "Run 7 Mean Absolute Error: 0.16783310878632438\n",
      "[['node_30_pressure', 'link_28_flow', 'node_20_demand', 'link_20_flow', 'node_5_demand']]\n",
      "starting df shape: (87600, 91)\n",
      "This is training run 8 and has the shape:  (87600, 91)\n",
      "The value of dropped columns is 5\n"
     ]
    },
    {
     "name": "stderr",
     "output_type": "stream",
     "text": [
      "/Users/alexellard/opt/anaconda3/lib/python3.7/site-packages/xgboost/data.py:96: UserWarning: Use subset (sliced data) of np.ndarray is not recommended because it will generate extra copies and increase memory consumption\n",
      "  \"because it will generate extra copies and increase \" +\n"
     ]
    },
    {
     "name": "stdout",
     "output_type": "stream",
     "text": [
      "test y shape : (17520, 1)\n",
      "Inv y shape : (17520, 91)\n",
      "y pred shape : (17520, 1)\n",
      "inv y pred : (17520, 91)\n",
      "Run 8 Mean Absolute Error: 4.016847804772096\n",
      "[['link_14_flow', 'node_16_demand', 'node_11_demand', 'link_19_flow', 'node_23_demand']]\n",
      "starting df shape: (87600, 91)\n",
      "This is training run 9 and has the shape:  (87600, 91)\n",
      "The value of dropped columns is 5\n"
     ]
    },
    {
     "name": "stderr",
     "output_type": "stream",
     "text": [
      "/Users/alexellard/opt/anaconda3/lib/python3.7/site-packages/xgboost/data.py:96: UserWarning: Use subset (sliced data) of np.ndarray is not recommended because it will generate extra copies and increase memory consumption\n",
      "  \"because it will generate extra copies and increase \" +\n"
     ]
    },
    {
     "name": "stdout",
     "output_type": "stream",
     "text": [
      "test y shape : (17520, 1)\n",
      "Inv y shape : (17520, 91)\n",
      "y pred shape : (17520, 1)\n",
      "inv y pred : (17520, 91)\n",
      "Run 9 Mean Absolute Error: 2.747833256320979\n",
      "[['link_18_flow', 'node_23_pressure', 'node_15_pressure', 'node_20_pressure', 'node_19_pressure']]\n",
      "starting df shape: (87600, 91)\n",
      "This is training run 10 and has the shape:  (87600, 91)\n",
      "The value of dropped columns is 5\n"
     ]
    },
    {
     "name": "stderr",
     "output_type": "stream",
     "text": [
      "/Users/alexellard/opt/anaconda3/lib/python3.7/site-packages/xgboost/data.py:96: UserWarning: Use subset (sliced data) of np.ndarray is not recommended because it will generate extra copies and increase memory consumption\n",
      "  \"because it will generate extra copies and increase \" +\n"
     ]
    },
    {
     "name": "stdout",
     "output_type": "stream",
     "text": [
      "test y shape : (17520, 1)\n",
      "Inv y shape : (17520, 91)\n",
      "y pred shape : (17520, 1)\n",
      "inv y pred : (17520, 91)\n",
      "Run 10 Mean Absolute Error: 3.1331711653642547\n",
      "[['node_14_pressure', 'node_7_pressure', 'link_21_flow', 'link_1_flow', 'link_24_flow', 'node_14_demand', 'node_9_pressure', 'node_26_pressure', 'link_13_flow', 'node_29_demand']]\n",
      "starting df shape: (87600, 86)\n",
      "This is training run 1 and has the shape:  (87600, 86)\n",
      "The value of dropped columns is 10\n"
     ]
    },
    {
     "name": "stderr",
     "output_type": "stream",
     "text": [
      "/Users/alexellard/opt/anaconda3/lib/python3.7/site-packages/xgboost/data.py:96: UserWarning: Use subset (sliced data) of np.ndarray is not recommended because it will generate extra copies and increase memory consumption\n",
      "  \"because it will generate extra copies and increase \" +\n"
     ]
    },
    {
     "name": "stdout",
     "output_type": "stream",
     "text": [
      "test y shape : (17520, 1)\n",
      "Inv y shape : (17520, 86)\n",
      "y pred shape : (17520, 1)\n",
      "inv y pred : (17520, 86)\n",
      "Run 1 Mean Absolute Error: 3.4349050148981224\n",
      "[['node_5_demand', 'link_32_flow', 'node_26_pressure', 'link_31_flow', 'node_22_pressure', 'link_10_flow', 'node_4_pressure', 'reservoir_demand', 'link_11_flow', 'node_1_pressure']]\n",
      "starting df shape: (87600, 86)\n",
      "This is training run 2 and has the shape:  (87600, 86)\n",
      "The value of dropped columns is 10\n"
     ]
    },
    {
     "name": "stderr",
     "output_type": "stream",
     "text": [
      "/Users/alexellard/opt/anaconda3/lib/python3.7/site-packages/xgboost/data.py:96: UserWarning: Use subset (sliced data) of np.ndarray is not recommended because it will generate extra copies and increase memory consumption\n",
      "  \"because it will generate extra copies and increase \" +\n"
     ]
    },
    {
     "name": "stdout",
     "output_type": "stream",
     "text": [
      "test y shape : (17520, 1)\n",
      "Inv y shape : (17520, 86)\n",
      "y pred shape : (17520, 1)\n",
      "inv y pred : (17520, 86)\n",
      "Run 2 Mean Absolute Error: 0.20780544982646998\n",
      "[['link_11_flow', 'link_18_flow', 'node_5_pressure', 'node_3_demand', 'node_26_pressure', 'reservoir_pressure', 'node_4_pressure', 'link_8_flow', 'node_12_demand', 'node_23_pressure']]\n",
      "starting df shape: (87600, 86)\n",
      "This is training run 3 and has the shape:  (87600, 86)\n",
      "The value of dropped columns is 10\n"
     ]
    },
    {
     "name": "stderr",
     "output_type": "stream",
     "text": [
      "/Users/alexellard/opt/anaconda3/lib/python3.7/site-packages/xgboost/data.py:96: UserWarning: Use subset (sliced data) of np.ndarray is not recommended because it will generate extra copies and increase memory consumption\n",
      "  \"because it will generate extra copies and increase \" +\n"
     ]
    },
    {
     "name": "stdout",
     "output_type": "stream",
     "text": [
      "test y shape : (17520, 1)\n",
      "Inv y shape : (17520, 86)\n",
      "y pred shape : (17520, 1)\n",
      "inv y pred : (17520, 86)\n",
      "Run 3 Mean Absolute Error: 3.156372590443887\n",
      "[['node_8_pressure', 'link_24_flow', 'node_5_pressure', 'node_17_demand', 'node_4_pressure', 'reservoir_pressure', 'link_10_flow', 'link_18_flow', 'node_1_demand', 'node_23_demand']]\n",
      "starting df shape: (87600, 86)\n",
      "This is training run 4 and has the shape:  (87600, 86)\n",
      "The value of dropped columns is 10\n"
     ]
    },
    {
     "name": "stderr",
     "output_type": "stream",
     "text": [
      "/Users/alexellard/opt/anaconda3/lib/python3.7/site-packages/xgboost/data.py:96: UserWarning: Use subset (sliced data) of np.ndarray is not recommended because it will generate extra copies and increase memory consumption\n",
      "  \"because it will generate extra copies and increase \" +\n"
     ]
    },
    {
     "name": "stdout",
     "output_type": "stream",
     "text": [
      "test y shape : (17520, 1)\n",
      "Inv y shape : (17520, 86)\n",
      "y pred shape : (17520, 1)\n",
      "inv y pred : (17520, 86)\n",
      "Run 4 Mean Absolute Error: 3.14389242871667\n",
      "[['node_20_demand', 'node_11_pressure', 'node_3_demand', 'link_19_flow', 'node_6_demand', 'link_15_flow', 'link_4_flow', 'reservoir_demand', 'node_28_demand', 'node_25_pressure']]\n",
      "starting df shape: (87600, 86)\n",
      "This is training run 5 and has the shape:  (87600, 86)\n",
      "The value of dropped columns is 10\n"
     ]
    },
    {
     "name": "stderr",
     "output_type": "stream",
     "text": [
      "/Users/alexellard/opt/anaconda3/lib/python3.7/site-packages/xgboost/data.py:96: UserWarning: Use subset (sliced data) of np.ndarray is not recommended because it will generate extra copies and increase memory consumption\n",
      "  \"because it will generate extra copies and increase \" +\n"
     ]
    },
    {
     "name": "stdout",
     "output_type": "stream",
     "text": [
      "test y shape : (17520, 1)\n",
      "Inv y shape : (17520, 86)\n",
      "y pred shape : (17520, 1)\n",
      "inv y pred : (17520, 86)\n",
      "Run 5 Mean Absolute Error: 0.1956448569351539\n",
      "[['link_23_flow', 'node_10_demand', 'node_26_pressure', 'link_20_flow', 'node_1_demand', 'node_11_demand', 'link_8_flow', 'link_3_flow', 'node_13_pressure', 'node_16_demand']]\n",
      "starting df shape: (87600, 86)\n",
      "This is training run 6 and has the shape:  (87600, 86)\n",
      "The value of dropped columns is 10\n"
     ]
    },
    {
     "name": "stderr",
     "output_type": "stream",
     "text": [
      "/Users/alexellard/opt/anaconda3/lib/python3.7/site-packages/xgboost/data.py:96: UserWarning: Use subset (sliced data) of np.ndarray is not recommended because it will generate extra copies and increase memory consumption\n",
      "  \"because it will generate extra copies and increase \" +\n"
     ]
    },
    {
     "name": "stdout",
     "output_type": "stream",
     "text": [
      "test y shape : (17520, 1)\n",
      "Inv y shape : (17520, 86)\n",
      "y pred shape : (17520, 1)\n",
      "inv y pred : (17520, 86)\n",
      "Run 6 Mean Absolute Error: 3.4204444902947606\n",
      "[['node_9_demand', 'link_10_flow', 'node_10_pressure', 'node_14_pressure', 'node_30_pressure', 'node_3_demand', 'link_29_flow', 'node_7_demand', 'link_22_flow', 'node_17_pressure']]\n",
      "starting df shape: (87600, 86)\n",
      "This is training run 7 and has the shape:  (87600, 86)\n",
      "The value of dropped columns is 10\n"
     ]
    },
    {
     "name": "stderr",
     "output_type": "stream",
     "text": [
      "/Users/alexellard/opt/anaconda3/lib/python3.7/site-packages/xgboost/data.py:96: UserWarning: Use subset (sliced data) of np.ndarray is not recommended because it will generate extra copies and increase memory consumption\n",
      "  \"because it will generate extra copies and increase \" +\n"
     ]
    },
    {
     "name": "stdout",
     "output_type": "stream",
     "text": [
      "test y shape : (17520, 1)\n",
      "Inv y shape : (17520, 86)\n",
      "y pred shape : (17520, 1)\n",
      "inv y pred : (17520, 86)\n",
      "Run 7 Mean Absolute Error: 4.456401646592376\n",
      "[['node_5_demand', 'reservoir_demand', 'node_2_demand', 'node_19_demand', 'link_21_flow', 'node_19_pressure', 'node_29_demand', 'node_11_pressure', 'node_24_demand', 'node_13_pressure']]\n",
      "starting df shape: (87600, 86)\n",
      "This is training run 8 and has the shape:  (87600, 86)\n",
      "The value of dropped columns is 10\n"
     ]
    },
    {
     "name": "stderr",
     "output_type": "stream",
     "text": [
      "/Users/alexellard/opt/anaconda3/lib/python3.7/site-packages/xgboost/data.py:96: UserWarning: Use subset (sliced data) of np.ndarray is not recommended because it will generate extra copies and increase memory consumption\n",
      "  \"because it will generate extra copies and increase \" +\n"
     ]
    },
    {
     "name": "stdout",
     "output_type": "stream",
     "text": [
      "test y shape : (17520, 1)\n",
      "Inv y shape : (17520, 86)\n",
      "y pred shape : (17520, 1)\n",
      "inv y pred : (17520, 86)\n",
      "Run 8 Mean Absolute Error: 0.17147251120046317\n",
      "[['node_9_demand', 'node_27_pressure', 'node_28_pressure', 'node_12_demand', 'link_2_flow', 'node_10_pressure', 'node_20_demand', 'link_22_flow', 'node_14_demand']]\n",
      "starting df shape: (87600, 87)\n",
      "This is training run 9 and has the shape:  (87600, 87)\n",
      "The value of dropped columns is 10\n"
     ]
    },
    {
     "name": "stderr",
     "output_type": "stream",
     "text": [
      "/Users/alexellard/opt/anaconda3/lib/python3.7/site-packages/xgboost/data.py:96: UserWarning: Use subset (sliced data) of np.ndarray is not recommended because it will generate extra copies and increase memory consumption\n",
      "  \"because it will generate extra copies and increase \" +\n"
     ]
    },
    {
     "name": "stdout",
     "output_type": "stream",
     "text": [
      "test y shape : (17520, 1)\n",
      "Inv y shape : (17520, 87)\n",
      "y pred shape : (17520, 1)\n",
      "inv y pred : (17520, 87)\n",
      "Run 9 Mean Absolute Error: 3.1597369603295977\n",
      "[['node_30_demand', 'link_19_flow', 'link_21_flow', 'node_8_demand', 'node_3_demand', 'link_24_flow', 'link_30_flow', 'node_1_demand', 'node_22_demand', 'link_13_flow']]\n",
      "starting df shape: (87600, 86)\n",
      "This is training run 10 and has the shape:  (87600, 86)\n",
      "The value of dropped columns is 10\n"
     ]
    },
    {
     "name": "stderr",
     "output_type": "stream",
     "text": [
      "/Users/alexellard/opt/anaconda3/lib/python3.7/site-packages/xgboost/data.py:96: UserWarning: Use subset (sliced data) of np.ndarray is not recommended because it will generate extra copies and increase memory consumption\n",
      "  \"because it will generate extra copies and increase \" +\n"
     ]
    },
    {
     "name": "stdout",
     "output_type": "stream",
     "text": [
      "test y shape : (17520, 1)\n",
      "Inv y shape : (17520, 86)\n",
      "y pred shape : (17520, 1)\n",
      "inv y pred : (17520, 86)\n",
      "Run 10 Mean Absolute Error: 3.0640931212280926\n",
      "[['link_31_flow', 'link_32_flow', 'node_19_demand', 'node_8_demand', 'link_10_flow', 'node_3_pressure', 'node_11_demand', 'node_27_demand', 'link_9_flow', 'node_21_demand', 'node_3_demand', 'node_2_pressure', 'node_25_pressure', 'link_27_flow', 'link_23_flow']]\n",
      "starting df shape: (87600, 81)\n",
      "This is training run 1 and has the shape:  (87600, 81)\n",
      "The value of dropped columns is 15\n"
     ]
    },
    {
     "name": "stderr",
     "output_type": "stream",
     "text": [
      "/Users/alexellard/opt/anaconda3/lib/python3.7/site-packages/xgboost/data.py:96: UserWarning: Use subset (sliced data) of np.ndarray is not recommended because it will generate extra copies and increase memory consumption\n",
      "  \"because it will generate extra copies and increase \" +\n"
     ]
    },
    {
     "name": "stdout",
     "output_type": "stream",
     "text": [
      "test y shape : (17520, 1)\n",
      "Inv y shape : (17520, 81)\n",
      "y pred shape : (17520, 1)\n",
      "inv y pred : (17520, 81)\n",
      "Run 1 Mean Absolute Error: 3.028245634792411\n",
      "[['link_27_flow', 'node_19_pressure', 'node_21_pressure', 'link_8_flow', 'node_21_demand', 'link_16_flow', 'node_28_pressure', 'node_1_demand', 'link_28_flow', 'node_26_pressure', 'node_2_demand', 'node_13_pressure', 'node_5_pressure', 'node_11_demand', 'node_9_pressure']]\n",
      "starting df shape: (87600, 81)\n",
      "This is training run 2 and has the shape:  (87600, 81)\n",
      "The value of dropped columns is 15\n"
     ]
    },
    {
     "name": "stderr",
     "output_type": "stream",
     "text": [
      "/Users/alexellard/opt/anaconda3/lib/python3.7/site-packages/xgboost/data.py:96: UserWarning: Use subset (sliced data) of np.ndarray is not recommended because it will generate extra copies and increase memory consumption\n",
      "  \"because it will generate extra copies and increase \" +\n"
     ]
    },
    {
     "name": "stdout",
     "output_type": "stream",
     "text": [
      "test y shape : (17520, 1)\n",
      "Inv y shape : (17520, 81)\n",
      "y pred shape : (17520, 1)\n",
      "inv y pred : (17520, 81)\n",
      "Run 2 Mean Absolute Error: 2.9542387349248553\n",
      "[['link_20_flow', 'node_21_pressure', 'node_5_demand', 'link_1_flow', 'node_25_pressure', 'node_11_pressure', 'node_5_pressure', 'node_15_demand', 'node_4_pressure', 'link_25_flow', 'node_11_demand', 'node_3_pressure', 'reservoir_demand', 'node_28_pressure']]\n",
      "starting df shape: (87600, 82)\n",
      "This is training run 3 and has the shape:  (87600, 82)\n",
      "The value of dropped columns is 15\n"
     ]
    },
    {
     "name": "stderr",
     "output_type": "stream",
     "text": [
      "/Users/alexellard/opt/anaconda3/lib/python3.7/site-packages/xgboost/data.py:96: UserWarning: Use subset (sliced data) of np.ndarray is not recommended because it will generate extra copies and increase memory consumption\n",
      "  \"because it will generate extra copies and increase \" +\n"
     ]
    },
    {
     "name": "stdout",
     "output_type": "stream",
     "text": [
      "test y shape : (17520, 1)\n",
      "Inv y shape : (17520, 82)\n",
      "y pred shape : (17520, 1)\n",
      "inv y pred : (17520, 82)\n",
      "Run 3 Mean Absolute Error: 0.18191739840876772\n",
      "[['node_31_demand', 'node_17_pressure', 'link_9_flow', 'node_3_pressure', 'node_7_demand', 'node_7_pressure', 'link_31_flow', 'node_4_demand', 'link_11_flow', 'link_20_flow', 'node_14_demand', 'link_26_flow', 'node_30_pressure', 'link_27_flow', 'node_8_pressure']]\n",
      "starting df shape: (87600, 81)\n",
      "This is training run 4 and has the shape:  (87600, 81)\n",
      "The value of dropped columns is 15\n"
     ]
    },
    {
     "name": "stderr",
     "output_type": "stream",
     "text": [
      "/Users/alexellard/opt/anaconda3/lib/python3.7/site-packages/xgboost/data.py:96: UserWarning: Use subset (sliced data) of np.ndarray is not recommended because it will generate extra copies and increase memory consumption\n",
      "  \"because it will generate extra copies and increase \" +\n"
     ]
    },
    {
     "name": "stdout",
     "output_type": "stream",
     "text": [
      "test y shape : (17520, 1)\n",
      "Inv y shape : (17520, 81)\n",
      "y pred shape : (17520, 1)\n",
      "inv y pred : (17520, 81)\n",
      "Run 4 Mean Absolute Error: 4.247095581736203\n",
      "[['node_21_demand', 'link_30_flow', 'link_8_flow', 'link_7_flow', 'node_7_demand', 'link_21_flow', 'node_25_pressure', 'node_2_demand', 'node_27_pressure', 'node_14_pressure', 'node_28_pressure', 'node_3_pressure', 'node_6_demand', 'node_4_pressure', 'node_12_pressure']]\n",
      "starting df shape: (87600, 81)\n",
      "This is training run 5 and has the shape:  (87600, 81)\n",
      "The value of dropped columns is 15\n"
     ]
    },
    {
     "name": "stderr",
     "output_type": "stream",
     "text": [
      "/Users/alexellard/opt/anaconda3/lib/python3.7/site-packages/xgboost/data.py:96: UserWarning: Use subset (sliced data) of np.ndarray is not recommended because it will generate extra copies and increase memory consumption\n",
      "  \"because it will generate extra copies and increase \" +\n"
     ]
    },
    {
     "name": "stdout",
     "output_type": "stream",
     "text": [
      "test y shape : (17520, 1)\n",
      "Inv y shape : (17520, 81)\n",
      "y pred shape : (17520, 1)\n",
      "inv y pred : (17520, 81)\n",
      "Run 5 Mean Absolute Error: 3.0353584203384125\n",
      "[['node_15_pressure', 'node_26_pressure', 'link_31_flow', 'node_1_pressure', 'node_2_demand', 'link_2_flow', 'node_12_pressure', 'link_22_flow', 'node_26_demand', 'node_15_demand', 'link_26_flow', 'link_4_flow', 'node_10_pressure', 'node_7_pressure', 'link_25_flow']]\n",
      "starting df shape: (87600, 81)\n",
      "This is training run 6 and has the shape:  (87600, 81)\n",
      "The value of dropped columns is 15\n"
     ]
    },
    {
     "name": "stderr",
     "output_type": "stream",
     "text": [
      "/Users/alexellard/opt/anaconda3/lib/python3.7/site-packages/xgboost/data.py:96: UserWarning: Use subset (sliced data) of np.ndarray is not recommended because it will generate extra copies and increase memory consumption\n",
      "  \"because it will generate extra copies and increase \" +\n"
     ]
    },
    {
     "name": "stdout",
     "output_type": "stream",
     "text": [
      "test y shape : (17520, 1)\n",
      "Inv y shape : (17520, 81)\n",
      "y pred shape : (17520, 1)\n",
      "inv y pred : (17520, 81)\n",
      "Run 6 Mean Absolute Error: 3.023229143332654\n",
      "[['node_11_pressure', 'node_6_pressure', 'node_24_demand', 'node_27_demand', 'link_26_flow', 'link_8_flow', 'node_14_pressure', 'node_2_pressure', 'reservoir_pressure', 'node_11_demand', 'link_5_flow', 'link_32_flow', 'node_2_demand', 'node_13_demand']]\n",
      "starting df shape: (87600, 82)\n",
      "This is training run 7 and has the shape:  (87600, 82)\n",
      "The value of dropped columns is 15\n"
     ]
    },
    {
     "name": "stderr",
     "output_type": "stream",
     "text": [
      "/Users/alexellard/opt/anaconda3/lib/python3.7/site-packages/xgboost/data.py:96: UserWarning: Use subset (sliced data) of np.ndarray is not recommended because it will generate extra copies and increase memory consumption\n",
      "  \"because it will generate extra copies and increase \" +\n"
     ]
    },
    {
     "name": "stdout",
     "output_type": "stream",
     "text": [
      "test y shape : (17520, 1)\n",
      "Inv y shape : (17520, 82)\n",
      "y pred shape : (17520, 1)\n",
      "inv y pred : (17520, 82)\n",
      "Run 7 Mean Absolute Error: 2.9036511621020766\n",
      "[['node_30_demand', 'link_3_flow', 'link_32_flow', 'node_21_demand', 'node_4_pressure', 'link_12_flow', 'node_26_pressure', 'node_3_demand', 'link_10_flow', 'node_2_pressure', 'node_1_demand', 'node_22_demand', 'node_12_pressure', 'node_28_pressure']]\n",
      "starting df shape: (87600, 82)\n",
      "This is training run 8 and has the shape:  (87600, 82)\n",
      "The value of dropped columns is 15\n"
     ]
    },
    {
     "name": "stderr",
     "output_type": "stream",
     "text": [
      "/Users/alexellard/opt/anaconda3/lib/python3.7/site-packages/xgboost/data.py:96: UserWarning: Use subset (sliced data) of np.ndarray is not recommended because it will generate extra copies and increase memory consumption\n",
      "  \"because it will generate extra copies and increase \" +\n"
     ]
    },
    {
     "name": "stdout",
     "output_type": "stream",
     "text": [
      "test y shape : (17520, 1)\n",
      "Inv y shape : (17520, 82)\n",
      "y pred shape : (17520, 1)\n",
      "inv y pred : (17520, 82)\n",
      "Run 8 Mean Absolute Error: 3.2803954691946355\n",
      "[['link_24_flow', 'link_28_flow', 'node_8_demand', 'link_15_flow', 'node_5_demand', 'node_23_demand', 'reservoir_pressure', 'node_13_demand', 'node_30_pressure', 'node_9_pressure', 'node_22_demand', 'node_28_demand', 'node_13_pressure', 'node_26_demand', 'node_1_pressure']]\n",
      "starting df shape: (87600, 81)\n",
      "This is training run 9 and has the shape:  (87600, 81)\n",
      "The value of dropped columns is 15\n"
     ]
    },
    {
     "name": "stderr",
     "output_type": "stream",
     "text": [
      "/Users/alexellard/opt/anaconda3/lib/python3.7/site-packages/xgboost/data.py:96: UserWarning: Use subset (sliced data) of np.ndarray is not recommended because it will generate extra copies and increase memory consumption\n",
      "  \"because it will generate extra copies and increase \" +\n"
     ]
    },
    {
     "name": "stdout",
     "output_type": "stream",
     "text": [
      "test y shape : (17520, 1)\n",
      "Inv y shape : (17520, 81)\n",
      "y pred shape : (17520, 1)\n",
      "inv y pred : (17520, 81)\n",
      "Run 9 Mean Absolute Error: 4.084561816971311\n",
      "[['node_13_demand', 'node_12_demand', 'node_20_demand', 'link_21_flow', 'node_12_pressure', 'reservoir_pressure', 'node_29_demand', 'node_24_pressure', 'node_21_demand', 'node_3_demand', 'link_22_flow', 'node_27_demand', 'node_7_demand', 'link_24_flow', 'node_19_demand']]\n",
      "starting df shape: (87600, 81)\n",
      "This is training run 10 and has the shape:  (87600, 81)\n",
      "The value of dropped columns is 15\n"
     ]
    },
    {
     "name": "stderr",
     "output_type": "stream",
     "text": [
      "/Users/alexellard/opt/anaconda3/lib/python3.7/site-packages/xgboost/data.py:96: UserWarning: Use subset (sliced data) of np.ndarray is not recommended because it will generate extra copies and increase memory consumption\n",
      "  \"because it will generate extra copies and increase \" +\n"
     ]
    },
    {
     "name": "stdout",
     "output_type": "stream",
     "text": [
      "test y shape : (17520, 1)\n",
      "Inv y shape : (17520, 81)\n",
      "y pred shape : (17520, 1)\n",
      "inv y pred : (17520, 81)\n",
      "Run 10 Mean Absolute Error: 3.0800540187283665\n",
      "[['link_25_flow', 'link_1_flow', 'link_10_flow', 'node_1_demand', 'node_17_pressure', 'link_13_flow', 'link_11_flow', 'link_9_flow', 'node_9_pressure', 'link_19_flow', 'node_22_demand', 'link_22_flow', 'link_5_flow', 'link_31_flow', 'node_31_demand', 'node_30_demand', 'node_15_pressure', 'node_27_demand', 'link_7_flow', 'node_17_demand']]\n",
      "starting df shape: (87600, 76)\n",
      "This is training run 1 and has the shape:  (87600, 76)\n",
      "The value of dropped columns is 20\n"
     ]
    },
    {
     "name": "stderr",
     "output_type": "stream",
     "text": [
      "/Users/alexellard/opt/anaconda3/lib/python3.7/site-packages/xgboost/data.py:96: UserWarning: Use subset (sliced data) of np.ndarray is not recommended because it will generate extra copies and increase memory consumption\n",
      "  \"because it will generate extra copies and increase \" +\n"
     ]
    },
    {
     "name": "stdout",
     "output_type": "stream",
     "text": [
      "test y shape : (17520, 1)\n",
      "Inv y shape : (17520, 76)\n",
      "y pred shape : (17520, 1)\n",
      "inv y pred : (17520, 76)\n",
      "Run 1 Mean Absolute Error: 2.6948716065850817\n",
      "[['node_1_pressure', 'link_31_flow', 'link_4_flow', 'link_22_flow', 'link_28_flow', 'link_16_flow', 'node_23_demand', 'link_5_flow', 'node_14_pressure', 'node_14_demand', 'link_19_flow', 'link_14_flow', 'link_1_flow', 'node_13_demand', 'link_30_flow', 'link_25_flow', 'node_26_pressure', 'node_12_pressure', 'node_19_pressure']]\n",
      "starting df shape: (87600, 77)\n",
      "This is training run 2 and has the shape:  (87600, 77)\n",
      "The value of dropped columns is 20\n"
     ]
    },
    {
     "name": "stderr",
     "output_type": "stream",
     "text": [
      "/Users/alexellard/opt/anaconda3/lib/python3.7/site-packages/xgboost/data.py:96: UserWarning: Use subset (sliced data) of np.ndarray is not recommended because it will generate extra copies and increase memory consumption\n",
      "  \"because it will generate extra copies and increase \" +\n"
     ]
    },
    {
     "name": "stdout",
     "output_type": "stream",
     "text": [
      "test y shape : (17520, 1)\n",
      "Inv y shape : (17520, 77)\n",
      "y pred shape : (17520, 1)\n",
      "inv y pred : (17520, 77)\n",
      "Run 2 Mean Absolute Error: 3.241016206904757\n",
      "[['node_4_demand', 'link_11_flow', 'reservoir_pressure', 'reservoir_demand', 'node_24_pressure', 'node_9_pressure', 'link_18_flow', 'link_28_flow', 'node_22_pressure', 'link_23_flow', 'node_15_demand', 'link_22_flow', 'node_21_demand', 'node_12_pressure', 'node_10_pressure', 'link_30_flow', 'link_7_flow', 'link_14_flow', 'node_5_demand', 'node_26_demand']]\n",
      "starting df shape: (87600, 76)\n",
      "This is training run 3 and has the shape:  (87600, 76)\n",
      "The value of dropped columns is 20\n"
     ]
    },
    {
     "name": "stderr",
     "output_type": "stream",
     "text": [
      "/Users/alexellard/opt/anaconda3/lib/python3.7/site-packages/xgboost/data.py:96: UserWarning: Use subset (sliced data) of np.ndarray is not recommended because it will generate extra copies and increase memory consumption\n",
      "  \"because it will generate extra copies and increase \" +\n"
     ]
    },
    {
     "name": "stdout",
     "output_type": "stream",
     "text": [
      "test y shape : (17520, 1)\n",
      "Inv y shape : (17520, 76)\n",
      "y pred shape : (17520, 1)\n",
      "inv y pred : (17520, 76)\n",
      "Run 3 Mean Absolute Error: 0.20242619265672931\n",
      "[['node_28_demand', 'link_18_flow', 'node_8_demand', 'node_23_demand', 'link_14_flow', 'node_3_pressure', 'reservoir_pressure', 'node_25_pressure', 'link_21_flow', 'node_5_pressure', 'node_1_demand', 'link_32_flow', 'node_24_pressure', 'node_28_pressure', 'link_26_flow', 'node_11_pressure', 'link_4_flow', 'node_20_pressure', 'link_16_flow', 'node_4_pressure']]\n",
      "starting df shape: (87600, 76)\n",
      "This is training run 4 and has the shape:  (87600, 76)\n",
      "The value of dropped columns is 20\n"
     ]
    },
    {
     "name": "stderr",
     "output_type": "stream",
     "text": [
      "/Users/alexellard/opt/anaconda3/lib/python3.7/site-packages/xgboost/data.py:96: UserWarning: Use subset (sliced data) of np.ndarray is not recommended because it will generate extra copies and increase memory consumption\n",
      "  \"because it will generate extra copies and increase \" +\n"
     ]
    },
    {
     "name": "stdout",
     "output_type": "stream",
     "text": [
      "test y shape : (17520, 1)\n",
      "Inv y shape : (17520, 76)\n",
      "y pred shape : (17520, 1)\n",
      "inv y pred : (17520, 76)\n",
      "Run 4 Mean Absolute Error: 2.909825378237279\n",
      "[['node_24_demand', 'node_9_pressure', 'node_24_pressure', 'node_27_demand', 'link_20_flow', 'link_6_flow', 'node_8_pressure', 'link_17_flow', 'node_19_pressure', 'link_13_flow', 'node_17_demand', 'link_5_flow', 'node_14_demand', 'link_26_flow', 'node_11_demand', 'node_10_pressure', 'node_20_demand', 'link_11_flow', 'link_12_flow', 'node_1_pressure']]\n",
      "starting df shape: (87600, 76)\n",
      "This is training run 5 and has the shape:  (87600, 76)\n",
      "The value of dropped columns is 20\n"
     ]
    },
    {
     "name": "stderr",
     "output_type": "stream",
     "text": [
      "/Users/alexellard/opt/anaconda3/lib/python3.7/site-packages/xgboost/data.py:96: UserWarning: Use subset (sliced data) of np.ndarray is not recommended because it will generate extra copies and increase memory consumption\n",
      "  \"because it will generate extra copies and increase \" +\n"
     ]
    },
    {
     "name": "stdout",
     "output_type": "stream",
     "text": [
      "test y shape : (17520, 1)\n",
      "Inv y shape : (17520, 76)\n",
      "y pred shape : (17520, 1)\n",
      "inv y pred : (17520, 76)\n",
      "Run 5 Mean Absolute Error: 3.3105686435937303\n",
      "[['link_5_flow', 'node_8_demand', 'node_30_demand', 'node_4_demand', 'node_24_demand', 'link_19_flow', 'link_31_flow', 'node_21_pressure', 'link_17_flow', 'node_29_demand', 'node_9_demand', 'link_21_flow', 'node_26_demand', 'node_23_pressure', 'node_11_pressure', 'link_3_flow', 'node_16_demand', 'node_20_demand', 'link_8_flow', 'node_27_demand']]\n",
      "starting df shape: (87600, 76)\n",
      "This is training run 6 and has the shape:  (87600, 76)\n",
      "The value of dropped columns is 20\n"
     ]
    },
    {
     "name": "stderr",
     "output_type": "stream",
     "text": [
      "/Users/alexellard/opt/anaconda3/lib/python3.7/site-packages/xgboost/data.py:96: UserWarning: Use subset (sliced data) of np.ndarray is not recommended because it will generate extra copies and increase memory consumption\n",
      "  \"because it will generate extra copies and increase \" +\n"
     ]
    },
    {
     "name": "stdout",
     "output_type": "stream",
     "text": [
      "test y shape : (17520, 1)\n",
      "Inv y shape : (17520, 76)\n",
      "y pred shape : (17520, 1)\n",
      "inv y pred : (17520, 76)\n",
      "Run 6 Mean Absolute Error: 2.7250043083175783\n",
      "[['link_11_flow', 'node_5_demand', 'link_21_flow', 'link_15_flow', 'link_17_flow', 'link_13_flow', 'node_3_demand', 'node_10_pressure', 'node_29_demand', 'link_14_flow', 'node_14_demand', 'node_12_demand', 'link_29_flow', 'node_2_pressure', 'node_27_demand', 'node_19_pressure', 'node_5_pressure', 'node_28_pressure', 'link_18_flow', 'node_2_demand']]\n",
      "starting df shape: (87600, 76)\n",
      "This is training run 7 and has the shape:  (87600, 76)\n",
      "The value of dropped columns is 20\n"
     ]
    },
    {
     "name": "stderr",
     "output_type": "stream",
     "text": [
      "/Users/alexellard/opt/anaconda3/lib/python3.7/site-packages/xgboost/data.py:96: UserWarning: Use subset (sliced data) of np.ndarray is not recommended because it will generate extra copies and increase memory consumption\n",
      "  \"because it will generate extra copies and increase \" +\n"
     ]
    },
    {
     "name": "stdout",
     "output_type": "stream",
     "text": [
      "test y shape : (17520, 1)\n",
      "Inv y shape : (17520, 76)\n",
      "y pred shape : (17520, 1)\n",
      "inv y pred : (17520, 76)\n",
      "Run 7 Mean Absolute Error: 3.6222467940885212\n",
      "[['link_14_flow', 'node_24_pressure', 'node_22_demand', 'link_11_flow', 'link_19_flow', 'node_7_demand', 'node_10_pressure', 'node_19_demand', 'link_13_flow', 'link_26_flow', 'link_28_flow', 'node_5_demand', 'node_18_demand', 'link_12_flow', 'node_16_pressure', 'node_30_demand', 'link_23_flow', 'reservoir_pressure', 'node_27_pressure']]\n",
      "starting df shape: (87600, 77)\n",
      "This is training run 8 and has the shape:  (87600, 77)\n",
      "The value of dropped columns is 20\n"
     ]
    },
    {
     "name": "stderr",
     "output_type": "stream",
     "text": [
      "/Users/alexellard/opt/anaconda3/lib/python3.7/site-packages/xgboost/data.py:96: UserWarning: Use subset (sliced data) of np.ndarray is not recommended because it will generate extra copies and increase memory consumption\n",
      "  \"because it will generate extra copies and increase \" +\n"
     ]
    },
    {
     "name": "stdout",
     "output_type": "stream",
     "text": [
      "test y shape : (17520, 1)\n",
      "Inv y shape : (17520, 77)\n",
      "y pred shape : (17520, 1)\n",
      "inv y pred : (17520, 77)\n",
      "Run 8 Mean Absolute Error: 2.6947772412279387\n",
      "[['node_31_pressure', 'node_3_pressure', 'link_27_flow', 'link_21_flow', 'link_20_flow', 'node_8_demand', 'link_4_flow', 'node_13_demand', 'link_13_flow', 'node_10_demand', 'reservoir_demand', 'link_26_flow', 'node_16_demand', 'node_5_pressure', 'node_10_pressure', 'link_32_flow', 'link_16_flow', 'node_20_demand', 'link_2_flow', 'node_11_pressure']]\n",
      "starting df shape: (87600, 76)\n",
      "This is training run 9 and has the shape:  (87600, 76)\n",
      "The value of dropped columns is 20\n"
     ]
    },
    {
     "name": "stderr",
     "output_type": "stream",
     "text": [
      "/Users/alexellard/opt/anaconda3/lib/python3.7/site-packages/xgboost/data.py:96: UserWarning: Use subset (sliced data) of np.ndarray is not recommended because it will generate extra copies and increase memory consumption\n",
      "  \"because it will generate extra copies and increase \" +\n"
     ]
    },
    {
     "name": "stdout",
     "output_type": "stream",
     "text": [
      "test y shape : (17520, 1)\n",
      "Inv y shape : (17520, 76)\n",
      "y pred shape : (17520, 1)\n",
      "inv y pred : (17520, 76)\n",
      "Run 9 Mean Absolute Error: 0.17976487292436755\n",
      "[['node_9_pressure', 'node_3_demand', 'node_7_pressure', 'node_26_pressure', 'node_22_pressure', 'link_9_flow', 'node_30_demand', 'link_29_flow', 'link_27_flow', 'node_1_demand', 'link_32_flow', 'node_20_demand', 'node_3_pressure', 'link_28_flow', 'node_30_pressure', 'node_7_demand', 'node_18_demand', 'node_2_demand', 'node_15_demand', 'node_13_demand']]\n",
      "starting df shape: (87600, 76)\n",
      "This is training run 10 and has the shape:  (87600, 76)\n",
      "The value of dropped columns is 20\n"
     ]
    },
    {
     "name": "stderr",
     "output_type": "stream",
     "text": [
      "/Users/alexellard/opt/anaconda3/lib/python3.7/site-packages/xgboost/data.py:96: UserWarning: Use subset (sliced data) of np.ndarray is not recommended because it will generate extra copies and increase memory consumption\n",
      "  \"because it will generate extra copies and increase \" +\n"
     ]
    },
    {
     "name": "stdout",
     "output_type": "stream",
     "text": [
      "test y shape : (17520, 1)\n",
      "Inv y shape : (17520, 76)\n",
      "y pred shape : (17520, 1)\n",
      "inv y pred : (17520, 76)\n",
      "Run 10 Mean Absolute Error: 4.76118719392813\n",
      "[['node_1_demand', 'node_22_demand', 'node_8_demand', 'node_16_demand', 'node_24_pressure', 'link_29_flow', 'link_23_flow', 'node_4_demand', 'link_13_flow', 'node_11_demand', 'link_18_flow', 'node_23_pressure', 'node_31_pressure', 'node_9_demand', 'node_5_pressure', 'node_24_demand', 'link_28_flow', 'link_6_flow', 'node_2_demand', 'node_27_demand', 'node_30_pressure', 'node_27_pressure', 'node_20_pressure', 'node_7_pressure']]\n",
      "starting df shape: (87600, 72)\n",
      "This is training run 1 and has the shape:  (87600, 72)\n",
      "The value of dropped columns is 25\n"
     ]
    },
    {
     "name": "stderr",
     "output_type": "stream",
     "text": [
      "/Users/alexellard/opt/anaconda3/lib/python3.7/site-packages/xgboost/data.py:96: UserWarning: Use subset (sliced data) of np.ndarray is not recommended because it will generate extra copies and increase memory consumption\n",
      "  \"because it will generate extra copies and increase \" +\n"
     ]
    },
    {
     "name": "stdout",
     "output_type": "stream",
     "text": [
      "test y shape : (17520, 1)\n",
      "Inv y shape : (17520, 72)\n",
      "y pred shape : (17520, 1)\n",
      "inv y pred : (17520, 72)\n",
      "Run 1 Mean Absolute Error: 6.074687819867647\n",
      "[['node_26_demand', 'link_16_flow', 'reservoir_pressure', 'node_3_demand', 'node_14_pressure', 'node_20_demand', 'node_20_pressure', 'node_8_pressure', 'node_15_demand', 'node_21_pressure', 'node_19_demand', 'link_20_flow', 'link_25_flow', 'link_23_flow', 'node_14_demand', 'node_21_demand', 'node_30_pressure', 'link_7_flow', 'node_27_pressure', 'node_23_demand', 'node_22_pressure', 'node_19_pressure', 'node_24_pressure', 'link_9_flow', 'link_1_flow']]\n",
      "starting df shape: (87600, 71)\n",
      "This is training run 2 and has the shape:  (87600, 71)\n",
      "The value of dropped columns is 25\n"
     ]
    },
    {
     "name": "stderr",
     "output_type": "stream",
     "text": [
      "/Users/alexellard/opt/anaconda3/lib/python3.7/site-packages/xgboost/data.py:96: UserWarning: Use subset (sliced data) of np.ndarray is not recommended because it will generate extra copies and increase memory consumption\n",
      "  \"because it will generate extra copies and increase \" +\n"
     ]
    },
    {
     "name": "stdout",
     "output_type": "stream",
     "text": [
      "test y shape : (17520, 1)\n",
      "Inv y shape : (17520, 71)\n",
      "y pred shape : (17520, 1)\n",
      "inv y pred : (17520, 71)\n",
      "Run 2 Mean Absolute Error: 3.9893352979947414\n",
      "[['node_11_pressure', 'link_24_flow', 'node_28_demand', 'link_5_flow', 'node_30_demand', 'node_9_pressure', 'link_26_flow', 'node_5_demand', 'node_15_pressure', 'link_3_flow', 'link_2_flow', 'node_11_demand', 'node_20_pressure', 'node_25_pressure', 'link_17_flow', 'node_2_demand', 'node_28_pressure', 'link_13_flow', 'node_31_pressure', 'link_16_flow', 'node_29_demand', 'node_13_pressure', 'link_25_flow', 'link_4_flow', 'link_22_flow']]\n",
      "starting df shape: (87600, 71)\n",
      "This is training run 3 and has the shape:  (87600, 71)\n",
      "The value of dropped columns is 25\n"
     ]
    },
    {
     "name": "stderr",
     "output_type": "stream",
     "text": [
      "/Users/alexellard/opt/anaconda3/lib/python3.7/site-packages/xgboost/data.py:96: UserWarning: Use subset (sliced data) of np.ndarray is not recommended because it will generate extra copies and increase memory consumption\n",
      "  \"because it will generate extra copies and increase \" +\n"
     ]
    },
    {
     "name": "stdout",
     "output_type": "stream",
     "text": [
      "test y shape : (17520, 1)\n",
      "Inv y shape : (17520, 71)\n",
      "y pred shape : (17520, 1)\n",
      "inv y pred : (17520, 71)\n",
      "Run 3 Mean Absolute Error: 3.321245311773593\n",
      "[['link_31_flow', 'link_5_flow', 'link_8_flow', 'node_25_demand', 'node_20_demand', 'link_20_flow', 'node_21_pressure', 'node_24_demand', 'link_19_flow', 'link_2_flow', 'node_31_pressure', 'node_4_demand', 'node_5_demand', 'node_12_demand', 'node_28_demand', 'node_1_demand', 'reservoir_pressure', 'link_14_flow', 'node_19_pressure', 'link_16_flow', 'node_27_demand', 'node_12_pressure', 'node_5_pressure', 'link_9_flow']]\n",
      "starting df shape: (87600, 72)\n",
      "This is training run 4 and has the shape:  (87600, 72)\n",
      "The value of dropped columns is 25\n"
     ]
    },
    {
     "name": "stderr",
     "output_type": "stream",
     "text": [
      "/Users/alexellard/opt/anaconda3/lib/python3.7/site-packages/xgboost/data.py:96: UserWarning: Use subset (sliced data) of np.ndarray is not recommended because it will generate extra copies and increase memory consumption\n",
      "  \"because it will generate extra copies and increase \" +\n"
     ]
    },
    {
     "name": "stdout",
     "output_type": "stream",
     "text": [
      "test y shape : (17520, 1)\n",
      "Inv y shape : (17520, 72)\n",
      "y pred shape : (17520, 1)\n",
      "inv y pred : (17520, 72)\n",
      "Run 4 Mean Absolute Error: 3.1655591149139526\n",
      "[['node_31_demand', 'link_29_flow', 'link_21_flow', 'node_21_demand', 'node_2_pressure', 'link_10_flow', 'node_19_pressure', 'node_25_pressure', 'link_26_flow', 'node_15_demand', 'link_13_flow', 'node_11_pressure', 'node_7_demand', 'reservoir_demand', 'node_17_demand', 'node_13_demand', 'link_32_flow', 'link_18_flow', 'node_28_pressure', 'node_30_demand', 'link_8_flow', 'node_5_pressure', 'link_7_flow', 'link_3_flow']]\n",
      "starting df shape: (87600, 72)\n",
      "This is training run 5 and has the shape:  (87600, 72)\n",
      "The value of dropped columns is 25\n"
     ]
    },
    {
     "name": "stderr",
     "output_type": "stream",
     "text": [
      "/Users/alexellard/opt/anaconda3/lib/python3.7/site-packages/xgboost/data.py:96: UserWarning: Use subset (sliced data) of np.ndarray is not recommended because it will generate extra copies and increase memory consumption\n",
      "  \"because it will generate extra copies and increase \" +\n"
     ]
    },
    {
     "name": "stdout",
     "output_type": "stream",
     "text": [
      "test y shape : (17520, 1)\n",
      "Inv y shape : (17520, 72)\n",
      "y pred shape : (17520, 1)\n",
      "inv y pred : (17520, 72)\n",
      "Run 5 Mean Absolute Error: 0.22882061260995254\n",
      "[['node_31_pressure', 'node_27_demand', 'node_17_demand', 'node_29_demand', 'node_22_pressure', 'node_1_pressure', 'node_14_demand', 'node_25_demand', 'link_21_flow', 'node_4_pressure', 'node_26_demand', 'link_25_flow', 'node_2_pressure', 'link_28_flow', 'node_12_pressure', 'node_21_pressure', 'node_2_demand', 'node_19_demand', 'link_7_flow', 'node_9_pressure', 'link_32_flow', 'node_17_pressure', 'node_6_demand', 'node_13_pressure', 'node_7_pressure']]\n",
      "starting df shape: (87600, 71)\n",
      "This is training run 6 and has the shape:  (87600, 71)\n",
      "The value of dropped columns is 25\n"
     ]
    },
    {
     "name": "stderr",
     "output_type": "stream",
     "text": [
      "/Users/alexellard/opt/anaconda3/lib/python3.7/site-packages/xgboost/data.py:96: UserWarning: Use subset (sliced data) of np.ndarray is not recommended because it will generate extra copies and increase memory consumption\n",
      "  \"because it will generate extra copies and increase \" +\n"
     ]
    },
    {
     "name": "stdout",
     "output_type": "stream",
     "text": [
      "test y shape : (17520, 1)\n",
      "Inv y shape : (17520, 71)\n",
      "y pred shape : (17520, 1)\n",
      "inv y pred : (17520, 71)\n",
      "Run 6 Mean Absolute Error: 2.778304347453497\n",
      "[['node_12_demand', 'node_24_pressure', 'node_20_demand', 'node_15_demand', 'node_13_pressure', 'link_10_flow', 'link_4_flow', 'node_27_demand', 'node_3_pressure', 'node_4_demand', 'node_11_demand', 'node_23_demand', 'node_14_pressure', 'link_11_flow', 'node_9_demand', 'link_23_flow', 'node_23_pressure', 'node_16_demand', 'reservoir_demand', 'node_29_demand', 'node_3_demand', 'node_2_demand', 'link_14_flow', 'link_13_flow', 'link_22_flow']]\n",
      "starting df shape: (87600, 71)\n",
      "This is training run 7 and has the shape:  (87600, 71)\n",
      "The value of dropped columns is 25\n"
     ]
    },
    {
     "name": "stderr",
     "output_type": "stream",
     "text": [
      "/Users/alexellard/opt/anaconda3/lib/python3.7/site-packages/xgboost/data.py:96: UserWarning: Use subset (sliced data) of np.ndarray is not recommended because it will generate extra copies and increase memory consumption\n",
      "  \"because it will generate extra copies and increase \" +\n"
     ]
    },
    {
     "name": "stdout",
     "output_type": "stream",
     "text": [
      "test y shape : (17520, 1)\n",
      "Inv y shape : (17520, 71)\n",
      "y pred shape : (17520, 1)\n",
      "inv y pred : (17520, 71)\n",
      "Run 7 Mean Absolute Error: 0.1694336935227597\n",
      "[['node_30_pressure', 'node_19_demand', 'node_10_pressure', 'link_7_flow', 'node_5_pressure', 'node_20_demand', 'node_2_demand', 'node_10_demand', 'node_14_pressure', 'node_12_pressure', 'link_2_flow', 'node_16_pressure', 'link_1_flow', 'node_2_pressure', 'node_14_demand', 'node_6_pressure', 'link_32_flow', 'node_1_pressure', 'link_27_flow', 'node_15_pressure', 'link_5_flow', 'link_26_flow', 'node_8_demand', 'node_26_pressure', 'reservoir_demand']]\n",
      "starting df shape: (87600, 71)\n",
      "This is training run 8 and has the shape:  (87600, 71)\n",
      "The value of dropped columns is 25\n"
     ]
    },
    {
     "name": "stderr",
     "output_type": "stream",
     "text": [
      "/Users/alexellard/opt/anaconda3/lib/python3.7/site-packages/xgboost/data.py:96: UserWarning: Use subset (sliced data) of np.ndarray is not recommended because it will generate extra copies and increase memory consumption\n",
      "  \"because it will generate extra copies and increase \" +\n"
     ]
    },
    {
     "name": "stdout",
     "output_type": "stream",
     "text": [
      "test y shape : (17520, 1)\n",
      "Inv y shape : (17520, 71)\n",
      "y pred shape : (17520, 1)\n",
      "inv y pred : (17520, 71)\n",
      "Run 8 Mean Absolute Error: 0.22951749374822797\n",
      "[['node_11_pressure', 'link_24_flow', 'link_28_flow', 'node_2_pressure', 'node_3_demand', 'node_26_demand', 'node_25_pressure', 'node_15_pressure', 'node_31_pressure', 'link_26_flow', 'link_31_flow', 'node_19_demand', 'link_10_flow', 'link_8_flow', 'link_5_flow', 'node_20_demand', 'link_21_flow', 'node_22_demand', 'node_4_pressure', 'node_3_pressure', 'link_22_flow', 'node_23_pressure', 'node_28_pressure', 'node_26_pressure', 'link_23_flow']]\n",
      "starting df shape: (87600, 71)\n",
      "This is training run 9 and has the shape:  (87600, 71)\n",
      "The value of dropped columns is 25\n"
     ]
    },
    {
     "name": "stderr",
     "output_type": "stream",
     "text": [
      "/Users/alexellard/opt/anaconda3/lib/python3.7/site-packages/xgboost/data.py:96: UserWarning: Use subset (sliced data) of np.ndarray is not recommended because it will generate extra copies and increase memory consumption\n",
      "  \"because it will generate extra copies and increase \" +\n"
     ]
    },
    {
     "name": "stdout",
     "output_type": "stream",
     "text": [
      "test y shape : (17520, 1)\n",
      "Inv y shape : (17520, 71)\n",
      "y pred shape : (17520, 1)\n",
      "inv y pred : (17520, 71)\n",
      "Run 9 Mean Absolute Error: 3.237961451501084\n",
      "[['link_21_flow', 'link_11_flow', 'node_31_demand', 'node_12_pressure', 'link_17_flow', 'reservoir_demand', 'node_3_pressure', 'link_24_flow', 'node_30_pressure', 'node_8_pressure', 'node_4_demand', 'link_7_flow', 'node_31_pressure', 'link_20_flow', 'node_10_demand', 'node_6_pressure', 'link_32_flow', 'node_1_demand', 'node_30_demand', 'link_18_flow', 'node_24_pressure', 'link_2_flow', 'link_15_flow', 'node_14_demand', 'node_15_pressure']]\n",
      "starting df shape: (87600, 71)\n",
      "This is training run 10 and has the shape:  (87600, 71)\n",
      "The value of dropped columns is 25\n"
     ]
    },
    {
     "name": "stderr",
     "output_type": "stream",
     "text": [
      "/Users/alexellard/opt/anaconda3/lib/python3.7/site-packages/xgboost/data.py:96: UserWarning: Use subset (sliced data) of np.ndarray is not recommended because it will generate extra copies and increase memory consumption\n",
      "  \"because it will generate extra copies and increase \" +\n"
     ]
    },
    {
     "name": "stdout",
     "output_type": "stream",
     "text": [
      "test y shape : (17520, 1)\n",
      "Inv y shape : (17520, 71)\n",
      "y pred shape : (17520, 1)\n",
      "inv y pred : (17520, 71)\n",
      "Run 10 Mean Absolute Error: 0.30636575139539995\n",
      "[['node_23_pressure', 'node_16_pressure', 'node_17_pressure', 'node_8_demand', 'node_3_pressure', 'node_27_pressure', 'node_11_demand', 'node_7_pressure', 'node_25_pressure', 'node_3_demand', 'node_15_pressure', 'node_28_pressure', 'link_9_flow', 'node_22_pressure', 'link_31_flow', 'node_20_demand', 'link_11_flow', 'node_7_demand', 'link_6_flow', 'node_2_demand', 'link_7_flow', 'link_1_flow', 'node_25_demand', 'link_5_flow', 'node_22_demand', 'link_15_flow', 'node_21_demand', 'node_26_demand', 'node_16_demand']]\n",
      "starting df shape: (87600, 67)\n",
      "This is training run 1 and has the shape:  (87600, 67)\n",
      "The value of dropped columns is 30\n"
     ]
    },
    {
     "name": "stderr",
     "output_type": "stream",
     "text": [
      "/Users/alexellard/opt/anaconda3/lib/python3.7/site-packages/xgboost/data.py:96: UserWarning: Use subset (sliced data) of np.ndarray is not recommended because it will generate extra copies and increase memory consumption\n",
      "  \"because it will generate extra copies and increase \" +\n"
     ]
    },
    {
     "name": "stdout",
     "output_type": "stream",
     "text": [
      "test y shape : (17520, 1)\n",
      "Inv y shape : (17520, 67)\n",
      "y pred shape : (17520, 1)\n",
      "inv y pred : (17520, 67)\n",
      "Run 1 Mean Absolute Error: 2.724510879109192\n",
      "[['node_7_pressure', 'node_5_pressure', 'link_8_flow', 'node_13_pressure', 'node_14_pressure', 'node_31_pressure', 'link_6_flow', 'node_13_demand', 'link_13_flow', 'node_9_demand', 'node_25_pressure', 'node_16_pressure', 'node_17_pressure', 'node_1_pressure', 'node_30_pressure', 'link_23_flow', 'node_23_demand', 'link_3_flow', 'reservoir_demand', 'reservoir_pressure', 'node_11_demand', 'node_12_demand', 'link_30_flow', 'node_14_demand', 'node_24_pressure', 'node_28_demand', 'node_25_demand', 'node_17_demand', 'link_26_flow', 'node_18_pressure']]\n",
      "starting df shape: (87600, 66)\n",
      "This is training run 2 and has the shape:  (87600, 66)\n",
      "The value of dropped columns is 30\n"
     ]
    },
    {
     "name": "stderr",
     "output_type": "stream",
     "text": [
      "/Users/alexellard/opt/anaconda3/lib/python3.7/site-packages/xgboost/data.py:96: UserWarning: Use subset (sliced data) of np.ndarray is not recommended because it will generate extra copies and increase memory consumption\n",
      "  \"because it will generate extra copies and increase \" +\n"
     ]
    },
    {
     "name": "stdout",
     "output_type": "stream",
     "text": [
      "test y shape : (17520, 1)\n",
      "Inv y shape : (17520, 66)\n",
      "y pred shape : (17520, 1)\n",
      "inv y pred : (17520, 66)\n",
      "Run 2 Mean Absolute Error: 0.3558325972689633\n",
      "[['node_30_demand', 'node_27_pressure', 'node_26_pressure', 'node_9_pressure', 'node_22_pressure', 'link_21_flow', 'node_20_pressure', 'node_6_demand', 'node_22_demand', 'node_14_demand', 'reservoir_pressure', 'link_19_flow', 'reservoir_demand', 'link_16_flow', 'node_12_demand', 'node_3_pressure', 'node_25_demand', 'node_26_demand', 'link_15_flow', 'link_2_flow', 'node_3_demand', 'node_17_pressure', 'link_22_flow', 'node_16_demand', 'link_28_flow', 'node_5_demand', 'node_10_demand', 'link_4_flow', 'link_20_flow', 'link_12_flow']]\n",
      "starting df shape: (87600, 66)\n",
      "This is training run 3 and has the shape:  (87600, 66)\n",
      "The value of dropped columns is 30\n"
     ]
    },
    {
     "name": "stderr",
     "output_type": "stream",
     "text": [
      "/Users/alexellard/opt/anaconda3/lib/python3.7/site-packages/xgboost/data.py:96: UserWarning: Use subset (sliced data) of np.ndarray is not recommended because it will generate extra copies and increase memory consumption\n",
      "  \"because it will generate extra copies and increase \" +\n"
     ]
    },
    {
     "name": "stdout",
     "output_type": "stream",
     "text": [
      "test y shape : (17520, 1)\n",
      "Inv y shape : (17520, 66)\n",
      "y pred shape : (17520, 1)\n",
      "inv y pred : (17520, 66)\n",
      "Run 3 Mean Absolute Error: 0.17634048800965668\n",
      "[['link_5_flow', 'node_21_demand', 'node_4_demand', 'link_26_flow', 'node_23_demand', 'node_8_pressure', 'node_10_pressure', 'node_12_pressure', 'link_4_flow', 'node_17_pressure', 'node_5_demand', 'link_31_flow', 'node_15_pressure', 'node_9_pressure', 'link_15_flow', 'link_3_flow', 'node_2_demand', 'link_18_flow', 'node_19_pressure', 'node_31_demand', 'link_30_flow', 'node_22_demand', 'link_6_flow', 'node_7_demand', 'node_28_pressure', 'link_12_flow', 'link_27_flow', 'node_17_demand', 'node_21_pressure', 'link_22_flow']]\n",
      "starting df shape: (87600, 66)\n",
      "This is training run 4 and has the shape:  (87600, 66)\n",
      "The value of dropped columns is 30\n"
     ]
    },
    {
     "name": "stderr",
     "output_type": "stream",
     "text": [
      "/Users/alexellard/opt/anaconda3/lib/python3.7/site-packages/xgboost/data.py:96: UserWarning: Use subset (sliced data) of np.ndarray is not recommended because it will generate extra copies and increase memory consumption\n",
      "  \"because it will generate extra copies and increase \" +\n"
     ]
    },
    {
     "name": "stdout",
     "output_type": "stream",
     "text": [
      "test y shape : (17520, 1)\n",
      "Inv y shape : (17520, 66)\n",
      "y pred shape : (17520, 1)\n",
      "inv y pred : (17520, 66)\n",
      "Run 4 Mean Absolute Error: 3.3814742689754778\n",
      "[['node_14_demand', 'node_11_pressure', 'node_9_demand', 'node_23_pressure', 'link_4_flow', 'node_30_demand', 'node_29_demand', 'node_17_demand', 'node_10_pressure', 'reservoir_demand', 'link_20_flow', 'node_19_demand', 'node_10_demand', 'link_13_flow', 'link_15_flow', 'link_21_flow', 'node_6_pressure', 'link_11_flow', 'node_16_pressure', 'link_7_flow', 'node_22_pressure', 'node_13_pressure', 'node_20_demand', 'node_25_demand', 'node_12_demand', 'node_27_demand', 'node_15_pressure', 'reservoir_pressure', 'link_25_flow', 'link_5_flow']]\n",
      "starting df shape: (87600, 66)\n",
      "This is training run 5 and has the shape:  (87600, 66)\n",
      "The value of dropped columns is 30\n"
     ]
    },
    {
     "name": "stderr",
     "output_type": "stream",
     "text": [
      "/Users/alexellard/opt/anaconda3/lib/python3.7/site-packages/xgboost/data.py:96: UserWarning: Use subset (sliced data) of np.ndarray is not recommended because it will generate extra copies and increase memory consumption\n",
      "  \"because it will generate extra copies and increase \" +\n"
     ]
    },
    {
     "name": "stdout",
     "output_type": "stream",
     "text": [
      "test y shape : (17520, 1)\n",
      "Inv y shape : (17520, 66)\n",
      "y pred shape : (17520, 1)\n",
      "inv y pred : (17520, 66)\n",
      "Run 5 Mean Absolute Error: 0.2072742081901538\n",
      "[['link_23_flow', 'link_20_flow', 'link_27_flow', 'link_30_flow', 'node_15_demand', 'link_9_flow', 'node_21_pressure', 'node_3_demand', 'node_30_pressure', 'node_15_pressure', 'link_10_flow', 'node_9_pressure', 'node_10_demand', 'node_14_pressure', 'link_22_flow', 'node_18_pressure', 'link_25_flow', 'node_9_demand', 'node_19_pressure', 'link_12_flow', 'node_5_pressure', 'link_21_flow', 'node_22_pressure', 'node_17_pressure', 'node_11_demand', 'link_5_flow', 'link_16_flow', 'node_20_demand', 'node_19_demand', 'node_14_demand']]\n",
      "starting df shape: (87600, 66)\n",
      "This is training run 6 and has the shape:  (87600, 66)\n",
      "The value of dropped columns is 30\n"
     ]
    },
    {
     "name": "stderr",
     "output_type": "stream",
     "text": [
      "/Users/alexellard/opt/anaconda3/lib/python3.7/site-packages/xgboost/data.py:96: UserWarning: Use subset (sliced data) of np.ndarray is not recommended because it will generate extra copies and increase memory consumption\n",
      "  \"because it will generate extra copies and increase \" +\n"
     ]
    },
    {
     "name": "stdout",
     "output_type": "stream",
     "text": [
      "test y shape : (17520, 1)\n",
      "Inv y shape : (17520, 66)\n",
      "y pred shape : (17520, 1)\n",
      "inv y pred : (17520, 66)\n",
      "Run 6 Mean Absolute Error: 3.6311641902423952\n",
      "[['node_9_pressure', 'node_9_demand', 'link_26_flow', 'node_27_demand', 'node_5_demand', 'node_3_demand', 'node_8_pressure', 'link_5_flow', 'node_27_pressure', 'link_2_flow', 'node_3_pressure', 'node_17_demand', 'node_16_pressure', 'link_6_flow', 'node_5_pressure', 'node_25_pressure', 'reservoir_demand', 'node_19_demand', 'node_6_demand', 'node_4_pressure', 'node_31_demand', 'link_8_flow', 'link_13_flow', 'link_24_flow', 'node_30_demand', 'link_9_flow', 'node_10_demand', 'node_19_pressure', 'link_11_flow', 'link_20_flow']]\n",
      "starting df shape: (87600, 66)\n",
      "This is training run 7 and has the shape:  (87600, 66)\n",
      "The value of dropped columns is 30\n"
     ]
    },
    {
     "name": "stderr",
     "output_type": "stream",
     "text": [
      "/Users/alexellard/opt/anaconda3/lib/python3.7/site-packages/xgboost/data.py:96: UserWarning: Use subset (sliced data) of np.ndarray is not recommended because it will generate extra copies and increase memory consumption\n",
      "  \"because it will generate extra copies and increase \" +\n"
     ]
    },
    {
     "name": "stdout",
     "output_type": "stream",
     "text": [
      "test y shape : (17520, 1)\n",
      "Inv y shape : (17520, 66)\n",
      "y pred shape : (17520, 1)\n",
      "inv y pred : (17520, 66)\n",
      "Run 7 Mean Absolute Error: 0.17986647150697813\n",
      "[['link_31_flow', 'link_32_flow', 'node_25_demand', 'node_21_demand', 'link_5_flow', 'link_9_flow', 'node_15_demand', 'link_20_flow', 'link_27_flow', 'node_22_pressure', 'link_11_flow', 'link_7_flow', 'link_3_flow', 'node_11_pressure', 'link_30_flow', 'link_25_flow', 'node_14_demand', 'link_24_flow', 'node_18_pressure', 'link_21_flow', 'node_7_demand', 'node_9_pressure', 'link_22_flow', 'link_29_flow', 'node_1_pressure', 'node_10_demand', 'node_18_demand', 'link_10_flow', 'node_3_demand', 'node_20_pressure']]\n",
      "starting df shape: (87600, 66)\n",
      "This is training run 8 and has the shape:  (87600, 66)\n",
      "The value of dropped columns is 30\n"
     ]
    },
    {
     "name": "stderr",
     "output_type": "stream",
     "text": [
      "/Users/alexellard/opt/anaconda3/lib/python3.7/site-packages/xgboost/data.py:96: UserWarning: Use subset (sliced data) of np.ndarray is not recommended because it will generate extra copies and increase memory consumption\n",
      "  \"because it will generate extra copies and increase \" +\n"
     ]
    },
    {
     "name": "stdout",
     "output_type": "stream",
     "text": [
      "test y shape : (17520, 1)\n",
      "Inv y shape : (17520, 66)\n",
      "y pred shape : (17520, 1)\n",
      "inv y pred : (17520, 66)\n",
      "Run 8 Mean Absolute Error: 3.388387874708029\n",
      "[['link_19_flow', 'node_19_pressure', 'link_32_flow', 'node_25_demand', 'node_12_pressure', 'node_27_pressure', 'link_11_flow', 'link_20_flow', 'node_6_pressure', 'node_7_pressure', 'node_20_demand', 'node_30_demand', 'link_8_flow', 'link_28_flow', 'node_15_demand', 'link_23_flow', 'node_1_demand', 'node_11_pressure', 'node_7_demand', 'node_22_demand', 'node_16_pressure', 'link_24_flow', 'node_5_demand', 'link_5_flow', 'node_9_pressure', 'node_19_demand', 'node_12_demand', 'node_17_demand', 'link_3_flow', 'link_25_flow']]\n",
      "starting df shape: (87600, 66)\n",
      "This is training run 9 and has the shape:  (87600, 66)\n",
      "The value of dropped columns is 30\n"
     ]
    },
    {
     "name": "stderr",
     "output_type": "stream",
     "text": [
      "/Users/alexellard/opt/anaconda3/lib/python3.7/site-packages/xgboost/data.py:96: UserWarning: Use subset (sliced data) of np.ndarray is not recommended because it will generate extra copies and increase memory consumption\n",
      "  \"because it will generate extra copies and increase \" +\n"
     ]
    },
    {
     "name": "stdout",
     "output_type": "stream",
     "text": [
      "test y shape : (17520, 1)\n",
      "Inv y shape : (17520, 66)\n",
      "y pred shape : (17520, 1)\n",
      "inv y pred : (17520, 66)\n",
      "Run 9 Mean Absolute Error: 2.8577528020846845\n",
      "[['link_26_flow', 'link_10_flow', 'link_21_flow', 'node_20_pressure', 'link_18_flow', 'link_20_flow', 'node_11_pressure', 'node_20_demand', 'link_27_flow', 'link_8_flow', 'node_22_pressure', 'node_29_demand', 'node_24_pressure', 'node_15_pressure', 'link_15_flow', 'node_17_pressure', 'node_3_demand', 'node_5_pressure', 'node_7_demand', 'node_21_pressure', 'node_9_pressure', 'node_8_pressure', 'node_14_pressure', 'node_1_pressure', 'link_32_flow', 'link_12_flow', 'link_6_flow', 'node_24_demand', 'node_28_demand']]\n",
      "starting df shape: (87600, 67)\n",
      "This is training run 10 and has the shape:  (87600, 67)\n",
      "The value of dropped columns is 30\n"
     ]
    },
    {
     "name": "stderr",
     "output_type": "stream",
     "text": [
      "/Users/alexellard/opt/anaconda3/lib/python3.7/site-packages/xgboost/data.py:96: UserWarning: Use subset (sliced data) of np.ndarray is not recommended because it will generate extra copies and increase memory consumption\n",
      "  \"because it will generate extra copies and increase \" +\n"
     ]
    },
    {
     "name": "stdout",
     "output_type": "stream",
     "text": [
      "test y shape : (17520, 1)\n",
      "Inv y shape : (17520, 67)\n",
      "y pred shape : (17520, 1)\n",
      "inv y pred : (17520, 67)\n",
      "Run 10 Mean Absolute Error: 2.9148524319786793\n",
      "[['node_27_pressure', 'link_18_flow', 'node_4_demand', 'link_5_flow', 'node_22_demand', 'link_31_flow', 'node_10_demand', 'node_3_demand', 'node_9_demand', 'node_5_pressure', 'node_15_demand', 'node_26_pressure', 'node_16_pressure', 'node_17_pressure', 'reservoir_demand', 'link_16_flow', 'link_24_flow', 'link_32_flow', 'link_26_flow', 'link_28_flow', 'node_1_demand', 'node_13_demand', 'link_23_flow', 'node_26_demand', 'node_8_demand', 'link_21_flow', 'link_27_flow', 'node_28_demand', 'link_25_flow', 'node_13_pressure', 'link_10_flow', 'node_18_demand', 'link_7_flow', 'node_5_demand', 'node_31_demand']]\n",
      "starting df shape: (87600, 61)\n",
      "This is training run 1 and has the shape:  (87600, 61)\n",
      "The value of dropped columns is 35\n"
     ]
    },
    {
     "name": "stderr",
     "output_type": "stream",
     "text": [
      "/Users/alexellard/opt/anaconda3/lib/python3.7/site-packages/xgboost/data.py:96: UserWarning: Use subset (sliced data) of np.ndarray is not recommended because it will generate extra copies and increase memory consumption\n",
      "  \"because it will generate extra copies and increase \" +\n"
     ]
    },
    {
     "name": "stdout",
     "output_type": "stream",
     "text": [
      "test y shape : (17520, 1)\n",
      "Inv y shape : (17520, 61)\n",
      "y pred shape : (17520, 1)\n",
      "inv y pred : (17520, 61)\n",
      "Run 1 Mean Absolute Error: 0.1534320694305959\n",
      "[['node_30_demand', 'node_16_pressure', 'node_24_demand', 'link_2_flow', 'link_25_flow', 'node_1_demand', 'node_19_pressure', 'node_27_pressure', 'node_13_pressure', 'link_30_flow', 'node_4_pressure', 'node_28_demand', 'node_2_demand', 'node_26_pressure', 'node_9_pressure', 'link_9_flow', 'node_26_demand', 'node_3_demand', 'link_16_flow', 'link_31_flow', 'link_8_flow', 'link_22_flow', 'node_3_pressure', 'node_18_demand', 'link_18_flow', 'node_25_demand', 'node_15_demand', 'link_7_flow', 'link_24_flow', 'node_17_demand', 'link_11_flow', 'node_27_demand', 'node_20_pressure', 'node_6_pressure']]\n",
      "starting df shape: (87600, 62)\n",
      "This is training run 2 and has the shape:  (87600, 62)\n",
      "The value of dropped columns is 35\n"
     ]
    },
    {
     "name": "stderr",
     "output_type": "stream",
     "text": [
      "/Users/alexellard/opt/anaconda3/lib/python3.7/site-packages/xgboost/data.py:96: UserWarning: Use subset (sliced data) of np.ndarray is not recommended because it will generate extra copies and increase memory consumption\n",
      "  \"because it will generate extra copies and increase \" +\n"
     ]
    },
    {
     "name": "stdout",
     "output_type": "stream",
     "text": [
      "test y shape : (17520, 1)\n",
      "Inv y shape : (17520, 62)\n",
      "y pred shape : (17520, 1)\n",
      "inv y pred : (17520, 62)\n",
      "Run 2 Mean Absolute Error: 3.4254751374605754\n",
      "[['node_26_pressure', 'link_3_flow', 'node_20_pressure', 'link_29_flow', 'node_8_pressure', 'link_6_flow', 'link_15_flow', 'node_8_demand', 'link_11_flow', 'node_31_demand', 'link_2_flow', 'node_13_demand', 'node_15_demand', 'node_14_pressure', 'node_18_demand', 'link_16_flow', 'node_30_pressure', 'link_31_flow', 'node_5_pressure', 'link_32_flow', 'node_3_demand', 'link_5_flow', 'node_24_pressure', 'link_28_flow', 'link_13_flow', 'node_6_demand', 'link_1_flow', 'node_17_pressure', 'link_30_flow', 'node_9_pressure', 'node_9_demand', 'link_19_flow', 'node_30_demand', 'link_25_flow', 'node_4_demand']]\n",
      "starting df shape: (87600, 61)\n",
      "This is training run 3 and has the shape:  (87600, 61)\n",
      "The value of dropped columns is 35\n"
     ]
    },
    {
     "name": "stderr",
     "output_type": "stream",
     "text": [
      "/Users/alexellard/opt/anaconda3/lib/python3.7/site-packages/xgboost/data.py:96: UserWarning: Use subset (sliced data) of np.ndarray is not recommended because it will generate extra copies and increase memory consumption\n",
      "  \"because it will generate extra copies and increase \" +\n"
     ]
    },
    {
     "name": "stdout",
     "output_type": "stream",
     "text": [
      "test y shape : (17520, 1)\n",
      "Inv y shape : (17520, 61)\n",
      "y pred shape : (17520, 1)\n",
      "inv y pred : (17520, 61)\n",
      "Run 3 Mean Absolute Error: 4.498840439009341\n",
      "[['node_20_demand', 'node_13_demand', 'node_5_pressure', 'node_22_demand', 'node_26_demand', 'link_30_flow', 'link_3_flow', 'link_16_flow', 'node_15_pressure', 'link_13_flow', 'node_12_pressure', 'node_2_pressure', 'node_27_pressure', 'link_32_flow', 'link_18_flow', 'node_26_pressure', 'link_1_flow', 'node_17_pressure', 'node_29_demand', 'node_11_pressure', 'reservoir_pressure', 'node_12_demand', 'node_14_pressure', 'link_28_flow', 'node_18_pressure', 'link_11_flow', 'node_6_demand', 'node_10_demand', 'node_16_pressure', 'node_13_pressure', 'node_4_pressure', 'node_20_pressure', 'node_24_pressure', 'node_2_demand', 'link_23_flow']]\n",
      "starting df shape: (87600, 61)\n",
      "This is training run 4 and has the shape:  (87600, 61)\n",
      "The value of dropped columns is 35\n"
     ]
    },
    {
     "name": "stderr",
     "output_type": "stream",
     "text": [
      "/Users/alexellard/opt/anaconda3/lib/python3.7/site-packages/xgboost/data.py:96: UserWarning: Use subset (sliced data) of np.ndarray is not recommended because it will generate extra copies and increase memory consumption\n",
      "  \"because it will generate extra copies and increase \" +\n"
     ]
    },
    {
     "name": "stdout",
     "output_type": "stream",
     "text": [
      "test y shape : (17520, 1)\n",
      "Inv y shape : (17520, 61)\n",
      "y pred shape : (17520, 1)\n",
      "inv y pred : (17520, 61)\n",
      "Run 4 Mean Absolute Error: 2.9133314093531837\n",
      "[['node_18_pressure', 'link_30_flow', 'node_12_pressure', 'link_2_flow', 'node_26_pressure', 'node_23_pressure', 'node_26_demand', 'link_17_flow', 'node_22_demand', 'node_19_demand', 'link_1_flow', 'node_28_pressure', 'node_29_demand', 'link_5_flow', 'node_27_demand', 'link_9_flow', 'node_18_demand', 'node_6_demand', 'link_25_flow', 'link_6_flow', 'node_11_pressure', 'link_15_flow', 'node_5_pressure', 'node_24_pressure', 'node_1_pressure', 'link_20_flow', 'node_19_pressure', 'node_21_pressure', 'node_31_demand', 'node_25_demand', 'node_30_demand', 'node_25_pressure', 'node_16_pressure', 'node_5_demand', 'link_27_flow']]\n",
      "starting df shape: (87600, 61)\n",
      "This is training run 5 and has the shape:  (87600, 61)\n",
      "The value of dropped columns is 35\n"
     ]
    },
    {
     "name": "stderr",
     "output_type": "stream",
     "text": [
      "/Users/alexellard/opt/anaconda3/lib/python3.7/site-packages/xgboost/data.py:96: UserWarning: Use subset (sliced data) of np.ndarray is not recommended because it will generate extra copies and increase memory consumption\n",
      "  \"because it will generate extra copies and increase \" +\n"
     ]
    },
    {
     "name": "stdout",
     "output_type": "stream",
     "text": [
      "test y shape : (17520, 1)\n",
      "Inv y shape : (17520, 61)\n",
      "y pred shape : (17520, 1)\n",
      "inv y pred : (17520, 61)\n",
      "Run 5 Mean Absolute Error: 3.754829294753265\n",
      "[['link_5_flow', 'link_16_flow', 'node_2_demand', 'node_6_pressure', 'node_13_demand', 'node_5_demand', 'node_21_demand', 'node_15_demand', 'link_15_flow', 'node_4_demand', 'link_22_flow', 'node_26_demand', 'link_32_flow', 'node_28_demand', 'link_28_flow', 'link_27_flow', 'link_29_flow', 'node_18_demand', 'link_8_flow', 'node_16_demand', 'link_12_flow', 'node_23_demand', 'node_23_pressure', 'link_9_flow', 'node_22_demand', 'node_28_pressure', 'node_29_demand', 'node_5_pressure', 'link_6_flow', 'node_11_demand', 'node_14_pressure', 'node_6_demand', 'node_27_pressure', 'node_30_pressure']]\n",
      "starting df shape: (87600, 62)\n",
      "This is training run 6 and has the shape:  (87600, 62)\n",
      "The value of dropped columns is 35\n"
     ]
    },
    {
     "name": "stderr",
     "output_type": "stream",
     "text": [
      "/Users/alexellard/opt/anaconda3/lib/python3.7/site-packages/xgboost/data.py:96: UserWarning: Use subset (sliced data) of np.ndarray is not recommended because it will generate extra copies and increase memory consumption\n",
      "  \"because it will generate extra copies and increase \" +\n"
     ]
    },
    {
     "name": "stdout",
     "output_type": "stream",
     "text": [
      "test y shape : (17520, 1)\n",
      "Inv y shape : (17520, 62)\n",
      "y pred shape : (17520, 1)\n",
      "inv y pred : (17520, 62)\n",
      "Run 6 Mean Absolute Error: 5.109680174649069\n",
      "[['node_2_demand', 'node_18_demand', 'link_13_flow', 'node_30_pressure', 'node_29_demand', 'link_12_flow', 'link_19_flow', 'link_11_flow', 'node_13_demand', 'link_14_flow', 'node_3_demand', 'node_21_demand', 'link_21_flow', 'node_9_pressure', 'node_7_pressure', 'link_27_flow', 'node_5_demand', 'link_29_flow', 'node_24_pressure', 'node_8_demand', 'node_28_demand', 'node_25_pressure', 'reservoir_demand', 'node_19_pressure', 'node_26_pressure', 'link_26_flow', 'link_16_flow', 'node_31_pressure', 'node_15_pressure', 'node_12_demand', 'node_14_pressure', 'link_8_flow', 'reservoir_pressure', 'node_31_demand']]\n",
      "starting df shape: (87600, 62)\n",
      "This is training run 7 and has the shape:  (87600, 62)\n",
      "The value of dropped columns is 35\n"
     ]
    },
    {
     "name": "stderr",
     "output_type": "stream",
     "text": [
      "/Users/alexellard/opt/anaconda3/lib/python3.7/site-packages/xgboost/data.py:96: UserWarning: Use subset (sliced data) of np.ndarray is not recommended because it will generate extra copies and increase memory consumption\n",
      "  \"because it will generate extra copies and increase \" +\n"
     ]
    },
    {
     "name": "stdout",
     "output_type": "stream",
     "text": [
      "test y shape : (17520, 1)\n",
      "Inv y shape : (17520, 62)\n",
      "y pred shape : (17520, 1)\n",
      "inv y pred : (17520, 62)\n",
      "Run 7 Mean Absolute Error: 0.39189472891697913\n",
      "[['node_28_demand', 'node_2_demand', 'node_21_demand', 'link_21_flow', 'node_15_demand', 'node_9_demand', 'node_11_demand', 'node_27_demand', 'node_17_pressure', 'node_29_demand', 'node_13_demand', 'node_25_demand', 'link_18_flow', 'node_3_demand', 'link_13_flow', 'node_24_pressure', 'node_8_pressure', 'node_12_pressure', 'link_20_flow', 'link_3_flow', 'node_15_pressure', 'node_12_demand', 'node_16_demand', 'link_11_flow', 'node_5_pressure', 'link_16_flow', 'node_10_demand', 'link_15_flow', 'node_14_pressure', 'node_17_demand', 'link_26_flow', 'node_28_pressure', 'node_1_pressure', 'link_14_flow', 'link_8_flow']]\n",
      "starting df shape: (87600, 61)\n",
      "This is training run 8 and has the shape:  (87600, 61)\n",
      "The value of dropped columns is 35\n"
     ]
    },
    {
     "name": "stderr",
     "output_type": "stream",
     "text": [
      "/Users/alexellard/opt/anaconda3/lib/python3.7/site-packages/xgboost/data.py:96: UserWarning: Use subset (sliced data) of np.ndarray is not recommended because it will generate extra copies and increase memory consumption\n",
      "  \"because it will generate extra copies and increase \" +\n"
     ]
    },
    {
     "name": "stdout",
     "output_type": "stream",
     "text": [
      "test y shape : (17520, 1)\n",
      "Inv y shape : (17520, 61)\n",
      "y pred shape : (17520, 1)\n",
      "inv y pred : (17520, 61)\n",
      "Run 8 Mean Absolute Error: 3.3569402375153325\n",
      "[['link_15_flow', 'node_11_demand', 'node_13_demand', 'node_15_pressure', 'node_14_pressure', 'node_14_demand', 'node_10_demand', 'link_12_flow', 'node_4_pressure', 'node_20_pressure', 'link_8_flow', 'node_30_demand', 'node_2_pressure', 'node_19_pressure', 'node_6_demand', 'node_31_pressure', 'node_22_pressure', 'link_17_flow', 'node_21_demand', 'link_4_flow', 'node_25_demand', 'link_32_flow', 'node_30_pressure', 'node_5_demand', 'node_18_demand', 'node_24_pressure', 'node_7_demand', 'node_24_demand', 'node_22_demand', 'link_27_flow', 'link_10_flow', 'node_15_demand', 'node_8_pressure', 'link_19_flow', 'link_25_flow']]\n",
      "starting df shape: (87600, 61)\n",
      "This is training run 9 and has the shape:  (87600, 61)\n",
      "The value of dropped columns is 35\n"
     ]
    },
    {
     "name": "stderr",
     "output_type": "stream",
     "text": [
      "/Users/alexellard/opt/anaconda3/lib/python3.7/site-packages/xgboost/data.py:96: UserWarning: Use subset (sliced data) of np.ndarray is not recommended because it will generate extra copies and increase memory consumption\n",
      "  \"because it will generate extra copies and increase \" +\n"
     ]
    },
    {
     "name": "stdout",
     "output_type": "stream",
     "text": [
      "test y shape : (17520, 1)\n",
      "Inv y shape : (17520, 61)\n",
      "y pred shape : (17520, 1)\n",
      "inv y pred : (17520, 61)\n",
      "Run 9 Mean Absolute Error: 5.670083046434953\n",
      "[['link_32_flow', 'link_13_flow', 'node_12_pressure', 'node_1_pressure', 'node_15_demand', 'node_24_pressure', 'node_22_pressure', 'node_1_demand', 'node_17_pressure', 'link_5_flow', 'node_18_demand', 'node_26_demand', 'reservoir_pressure', 'node_29_demand', 'node_19_demand', 'node_21_demand', 'link_6_flow', 'node_16_pressure', 'link_31_flow', 'node_6_pressure', 'node_15_pressure', 'link_24_flow', 'link_19_flow', 'link_29_flow', 'node_4_pressure', 'node_9_demand', 'node_5_demand', 'link_23_flow', 'link_12_flow', 'link_16_flow', 'node_14_pressure', 'link_10_flow', 'node_10_pressure', 'link_28_flow']]\n",
      "starting df shape: (87600, 62)\n",
      "This is training run 10 and has the shape:  (87600, 62)\n",
      "The value of dropped columns is 35\n"
     ]
    },
    {
     "name": "stderr",
     "output_type": "stream",
     "text": [
      "/Users/alexellard/opt/anaconda3/lib/python3.7/site-packages/xgboost/data.py:96: UserWarning: Use subset (sliced data) of np.ndarray is not recommended because it will generate extra copies and increase memory consumption\n",
      "  \"because it will generate extra copies and increase \" +\n"
     ]
    },
    {
     "name": "stdout",
     "output_type": "stream",
     "text": [
      "test y shape : (17520, 1)\n",
      "Inv y shape : (17520, 62)\n",
      "y pred shape : (17520, 1)\n",
      "inv y pred : (17520, 62)\n",
      "Run 10 Mean Absolute Error: 3.2466611346617364\n",
      "[['node_24_demand', 'node_30_demand', 'node_3_demand', 'node_27_pressure', 'node_15_demand', 'node_6_pressure', 'node_5_demand', 'link_18_flow', 'link_22_flow', 'link_11_flow', 'node_9_demand', 'node_20_demand', 'node_25_demand', 'node_17_pressure', 'node_14_demand', 'node_15_pressure', 'link_21_flow', 'node_22_pressure', 'node_26_demand', 'node_19_pressure', 'node_23_pressure', 'node_2_demand', 'node_28_pressure', 'node_13_pressure', 'node_4_demand', 'link_16_flow', 'link_9_flow', 'node_9_pressure', 'node_8_pressure', 'link_6_flow', 'link_12_flow', 'node_8_demand', 'link_15_flow', 'node_10_demand', 'link_10_flow', 'node_25_pressure', 'node_27_demand', 'link_32_flow', 'link_26_flow', 'node_17_demand']]\n",
      "starting df shape: (87600, 56)\n",
      "This is training run 1 and has the shape:  (87600, 56)\n",
      "The value of dropped columns is 40\n"
     ]
    },
    {
     "name": "stderr",
     "output_type": "stream",
     "text": [
      "/Users/alexellard/opt/anaconda3/lib/python3.7/site-packages/xgboost/data.py:96: UserWarning: Use subset (sliced data) of np.ndarray is not recommended because it will generate extra copies and increase memory consumption\n",
      "  \"because it will generate extra copies and increase \" +\n"
     ]
    },
    {
     "name": "stdout",
     "output_type": "stream",
     "text": [
      "test y shape : (17520, 1)\n",
      "Inv y shape : (17520, 56)\n",
      "y pred shape : (17520, 1)\n",
      "inv y pred : (17520, 56)\n",
      "Run 1 Mean Absolute Error: 3.097653881130197\n",
      "[['node_13_demand', 'node_4_demand', 'node_9_demand', 'node_31_pressure', 'node_21_demand', 'node_12_pressure', 'link_5_flow', 'node_2_pressure', 'link_20_flow', 'node_10_pressure', 'node_19_pressure', 'node_26_demand', 'node_6_demand', 'link_2_flow', 'link_12_flow', 'node_28_demand', 'link_3_flow', 'node_3_pressure', 'link_28_flow', 'node_22_demand', 'node_16_demand', 'link_14_flow', 'node_17_pressure', 'node_17_demand', 'link_1_flow', 'link_22_flow', 'node_13_pressure', 'node_4_pressure', 'node_15_demand', 'node_18_pressure', 'node_25_pressure', 'link_31_flow', 'link_18_flow', 'node_3_demand', 'node_6_pressure', 'link_21_flow', 'node_14_demand', 'link_17_flow', 'link_29_flow']]\n",
      "starting df shape: (87600, 57)\n",
      "This is training run 2 and has the shape:  (87600, 57)\n",
      "The value of dropped columns is 40\n"
     ]
    },
    {
     "name": "stderr",
     "output_type": "stream",
     "text": [
      "/Users/alexellard/opt/anaconda3/lib/python3.7/site-packages/xgboost/data.py:96: UserWarning: Use subset (sliced data) of np.ndarray is not recommended because it will generate extra copies and increase memory consumption\n",
      "  \"because it will generate extra copies and increase \" +\n"
     ]
    },
    {
     "name": "stdout",
     "output_type": "stream",
     "text": [
      "test y shape : (17520, 1)\n",
      "Inv y shape : (17520, 57)\n",
      "y pred shape : (17520, 1)\n",
      "inv y pred : (17520, 57)\n",
      "Run 2 Mean Absolute Error: 3.270066257838054\n",
      "[['node_27_pressure', 'node_2_demand', 'node_12_pressure', 'node_31_pressure', 'node_19_pressure', 'link_32_flow', 'node_12_demand', 'link_12_flow', 'node_25_demand', 'node_28_demand', 'node_30_pressure', 'link_1_flow', 'link_24_flow', 'link_19_flow', 'link_16_flow', 'node_26_pressure', 'link_8_flow', 'node_1_demand', 'node_1_pressure', 'node_7_demand', 'node_10_demand', 'node_5_demand', 'node_11_demand', 'node_16_pressure', 'link_31_flow', 'link_17_flow', 'node_22_pressure', 'reservoir_demand', 'node_28_pressure', 'node_9_pressure', 'node_24_demand', 'node_20_demand', 'link_5_flow', 'node_6_demand', 'node_14_pressure', 'node_22_demand', 'node_4_demand', 'node_10_pressure', 'reservoir_pressure', 'link_2_flow']]\n",
      "starting df shape: (87600, 56)\n",
      "This is training run 3 and has the shape:  (87600, 56)\n",
      "The value of dropped columns is 40\n"
     ]
    },
    {
     "name": "stderr",
     "output_type": "stream",
     "text": [
      "/Users/alexellard/opt/anaconda3/lib/python3.7/site-packages/xgboost/data.py:96: UserWarning: Use subset (sliced data) of np.ndarray is not recommended because it will generate extra copies and increase memory consumption\n",
      "  \"because it will generate extra copies and increase \" +\n"
     ]
    },
    {
     "name": "stdout",
     "output_type": "stream",
     "text": [
      "test y shape : (17520, 1)\n",
      "Inv y shape : (17520, 56)\n",
      "y pred shape : (17520, 1)\n",
      "inv y pred : (17520, 56)\n",
      "Run 3 Mean Absolute Error: 0.07303060480737673\n",
      "[['link_21_flow', 'node_13_demand', 'node_9_demand', 'link_2_flow', 'node_20_pressure', 'node_19_pressure', 'node_4_demand', 'node_15_pressure', 'node_13_pressure', 'link_30_flow', 'node_14_pressure', 'node_28_demand', 'link_9_flow', 'link_7_flow', 'node_19_demand', 'node_6_pressure', 'node_28_pressure', 'link_18_flow', 'link_19_flow', 'link_26_flow', 'node_11_pressure', 'node_22_pressure', 'link_22_flow', 'node_30_pressure', 'link_16_flow', 'reservoir_demand', 'node_26_pressure', 'link_17_flow', 'node_18_demand', 'link_4_flow', 'node_21_pressure', 'node_27_pressure', 'link_6_flow', 'node_3_demand', 'node_8_demand', 'node_2_pressure', 'node_30_demand', 'link_10_flow', 'node_31_demand', 'node_23_pressure']]\n",
      "starting df shape: (87600, 56)\n",
      "This is training run 4 and has the shape:  (87600, 56)\n",
      "The value of dropped columns is 40\n"
     ]
    },
    {
     "name": "stderr",
     "output_type": "stream",
     "text": [
      "/Users/alexellard/opt/anaconda3/lib/python3.7/site-packages/xgboost/data.py:96: UserWarning: Use subset (sliced data) of np.ndarray is not recommended because it will generate extra copies and increase memory consumption\n",
      "  \"because it will generate extra copies and increase \" +\n"
     ]
    },
    {
     "name": "stdout",
     "output_type": "stream",
     "text": [
      "test y shape : (17520, 1)\n",
      "Inv y shape : (17520, 56)\n",
      "y pred shape : (17520, 1)\n",
      "inv y pred : (17520, 56)\n",
      "Run 4 Mean Absolute Error: 0.30673836257709847\n",
      "[['link_14_flow', 'reservoir_pressure', 'link_4_flow', 'node_26_demand', 'link_15_flow', 'node_31_demand', 'link_27_flow', 'node_9_demand', 'node_25_pressure', 'node_18_pressure', 'node_12_pressure', 'node_11_demand', 'node_21_demand', 'node_3_pressure', 'link_17_flow', 'node_20_pressure', 'node_29_demand', 'link_29_flow', 'link_13_flow', 'node_23_demand', 'node_1_pressure', 'node_12_demand', 'node_27_pressure', 'node_10_pressure', 'node_7_pressure', 'link_20_flow', 'node_9_pressure', 'link_23_flow', 'node_27_demand', 'node_14_pressure', 'link_3_flow', 'node_7_demand', 'node_23_pressure', 'link_6_flow', 'link_18_flow', 'node_21_pressure', 'link_12_flow', 'node_16_demand', 'link_7_flow', 'node_17_demand']]\n",
      "starting df shape: (87600, 56)\n",
      "This is training run 5 and has the shape:  (87600, 56)\n",
      "The value of dropped columns is 40\n"
     ]
    },
    {
     "name": "stderr",
     "output_type": "stream",
     "text": [
      "/Users/alexellard/opt/anaconda3/lib/python3.7/site-packages/xgboost/data.py:96: UserWarning: Use subset (sliced data) of np.ndarray is not recommended because it will generate extra copies and increase memory consumption\n",
      "  \"because it will generate extra copies and increase \" +\n"
     ]
    },
    {
     "name": "stdout",
     "output_type": "stream",
     "text": [
      "test y shape : (17520, 1)\n",
      "Inv y shape : (17520, 56)\n",
      "y pred shape : (17520, 1)\n",
      "inv y pred : (17520, 56)\n",
      "Run 5 Mean Absolute Error: 2.9159426966496818\n",
      "[['link_19_flow', 'node_7_demand', 'link_16_flow', 'node_20_pressure', 'link_3_flow', 'link_32_flow', 'node_13_demand', 'node_15_demand', 'node_5_demand', 'link_8_flow', 'link_11_flow', 'node_23_pressure', 'reservoir_pressure', 'link_23_flow', 'link_29_flow', 'node_12_demand', 'link_21_flow', 'node_15_pressure', 'node_6_pressure', 'node_19_pressure', 'node_24_pressure', 'node_22_pressure', 'node_11_demand', 'node_24_demand', 'node_17_demand', 'node_29_demand', 'node_21_pressure', 'link_28_flow', 'node_9_pressure', 'node_19_demand', 'link_15_flow', 'link_5_flow', 'link_7_flow', 'node_26_demand', 'link_9_flow', 'node_5_pressure', 'node_31_pressure', 'node_10_pressure', 'link_24_flow', 'link_6_flow']]\n",
      "starting df shape: (87600, 56)\n",
      "This is training run 6 and has the shape:  (87600, 56)\n",
      "The value of dropped columns is 40\n"
     ]
    },
    {
     "name": "stderr",
     "output_type": "stream",
     "text": [
      "/Users/alexellard/opt/anaconda3/lib/python3.7/site-packages/xgboost/data.py:96: UserWarning: Use subset (sliced data) of np.ndarray is not recommended because it will generate extra copies and increase memory consumption\n",
      "  \"because it will generate extra copies and increase \" +\n"
     ]
    },
    {
     "name": "stdout",
     "output_type": "stream",
     "text": [
      "test y shape : (17520, 1)\n",
      "Inv y shape : (17520, 56)\n",
      "y pred shape : (17520, 1)\n",
      "inv y pred : (17520, 56)\n",
      "Run 6 Mean Absolute Error: 3.115560118139526\n",
      "[['node_11_pressure', 'node_4_demand', 'node_9_demand', 'node_12_pressure', 'node_8_pressure', 'link_10_flow', 'node_27_demand', 'node_6_demand', 'node_20_demand', 'node_1_pressure', 'node_22_pressure', 'link_5_flow', 'link_6_flow', 'link_4_flow', 'node_13_demand', 'node_7_pressure', 'link_13_flow', 'node_29_demand', 'node_26_demand', 'node_18_demand', 'node_16_demand', 'node_5_pressure', 'node_21_demand', 'node_14_pressure', 'node_13_pressure', 'node_15_pressure', 'link_31_flow', 'node_19_demand', 'node_5_demand', 'node_25_demand', 'link_23_flow', 'link_18_flow', 'node_14_demand', 'link_32_flow', 'link_27_flow', 'link_9_flow', 'link_12_flow', 'node_31_demand', 'link_16_flow', 'node_15_demand']]\n",
      "starting df shape: (87600, 56)\n",
      "This is training run 7 and has the shape:  (87600, 56)\n",
      "The value of dropped columns is 40\n"
     ]
    },
    {
     "name": "stderr",
     "output_type": "stream",
     "text": [
      "/Users/alexellard/opt/anaconda3/lib/python3.7/site-packages/xgboost/data.py:96: UserWarning: Use subset (sliced data) of np.ndarray is not recommended because it will generate extra copies and increase memory consumption\n",
      "  \"because it will generate extra copies and increase \" +\n"
     ]
    },
    {
     "name": "stdout",
     "output_type": "stream",
     "text": [
      "test y shape : (17520, 1)\n",
      "Inv y shape : (17520, 56)\n",
      "y pred shape : (17520, 1)\n",
      "inv y pred : (17520, 56)\n",
      "Run 7 Mean Absolute Error: 2.785070777931601\n",
      "[['node_23_demand', 'link_17_flow', 'link_10_flow', 'link_7_flow', 'link_3_flow', 'node_15_demand', 'node_19_pressure', 'link_29_flow', 'node_6_demand', 'node_12_pressure', 'node_23_pressure', 'link_12_flow', 'link_6_flow', 'link_1_flow', 'node_16_demand', 'node_27_pressure', 'node_3_pressure', 'node_20_demand', 'link_30_flow', 'node_2_demand', 'node_11_pressure', 'node_25_demand', 'link_28_flow', 'link_32_flow', 'node_7_demand', 'node_9_demand', 'link_2_flow', 'node_11_demand', 'node_4_pressure', 'node_6_pressure', 'link_15_flow', 'node_8_pressure', 'node_14_demand', 'link_9_flow', 'node_13_demand', 'link_18_flow', 'link_19_flow', 'node_15_pressure', 'link_22_flow']]\n",
      "starting df shape: (87600, 57)\n",
      "This is training run 8 and has the shape:  (87600, 57)\n",
      "The value of dropped columns is 40\n"
     ]
    },
    {
     "name": "stderr",
     "output_type": "stream",
     "text": [
      "/Users/alexellard/opt/anaconda3/lib/python3.7/site-packages/xgboost/data.py:96: UserWarning: Use subset (sliced data) of np.ndarray is not recommended because it will generate extra copies and increase memory consumption\n",
      "  \"because it will generate extra copies and increase \" +\n"
     ]
    },
    {
     "name": "stdout",
     "output_type": "stream",
     "text": [
      "test y shape : (17520, 1)\n",
      "Inv y shape : (17520, 57)\n",
      "y pred shape : (17520, 1)\n",
      "inv y pred : (17520, 57)\n",
      "Run 8 Mean Absolute Error: 2.9492205247772034\n",
      "[['node_30_demand', 'node_11_pressure', 'node_21_demand', 'node_16_pressure', 'node_13_pressure', 'node_25_demand', 'link_10_flow', 'node_13_demand', 'node_17_demand', 'node_2_pressure', 'link_21_flow', 'node_19_demand', 'link_15_flow', 'node_4_demand', 'link_17_flow', 'link_18_flow', 'node_26_demand', 'link_4_flow', 'link_28_flow', 'link_6_flow', 'link_27_flow', 'node_14_pressure', 'node_16_demand', 'node_5_demand', 'reservoir_pressure', 'link_32_flow', 'link_20_flow', 'link_2_flow', 'link_3_flow', 'node_23_pressure', 'node_21_pressure', 'node_19_pressure', 'link_16_flow', 'node_9_pressure', 'node_8_pressure', 'node_27_pressure', 'node_18_demand', 'node_3_pressure', 'node_31_demand', 'node_17_pressure']]\n",
      "starting df shape: (87600, 56)\n",
      "This is training run 9 and has the shape:  (87600, 56)\n",
      "The value of dropped columns is 40\n"
     ]
    },
    {
     "name": "stderr",
     "output_type": "stream",
     "text": [
      "/Users/alexellard/opt/anaconda3/lib/python3.7/site-packages/xgboost/data.py:96: UserWarning: Use subset (sliced data) of np.ndarray is not recommended because it will generate extra copies and increase memory consumption\n",
      "  \"because it will generate extra copies and increase \" +\n"
     ]
    },
    {
     "name": "stdout",
     "output_type": "stream",
     "text": [
      "test y shape : (17520, 1)\n",
      "Inv y shape : (17520, 56)\n",
      "y pred shape : (17520, 1)\n",
      "inv y pred : (17520, 56)\n",
      "Run 9 Mean Absolute Error: 2.795016452275077\n",
      "[['link_18_flow', 'node_1_demand', 'node_23_demand', 'node_13_demand', 'node_21_pressure', 'node_17_demand', 'link_4_flow', 'node_21_demand', 'link_31_flow', 'node_15_demand', 'node_18_demand', 'link_3_flow', 'link_2_flow', 'node_7_pressure', 'link_25_flow', 'node_9_pressure', 'node_14_pressure', 'node_11_pressure', 'node_8_demand', 'node_25_pressure', 'node_3_pressure', 'node_18_pressure', 'node_2_demand', 'node_7_demand', 'node_13_pressure', 'link_28_flow', 'node_6_pressure', 'node_27_demand', 'link_15_flow', 'node_27_pressure', 'node_11_demand', 'node_20_pressure', 'node_28_pressure', 'node_29_demand', 'link_19_flow', 'link_24_flow', 'node_10_demand', 'link_5_flow', 'node_15_pressure', 'node_4_demand']]\n",
      "starting df shape: (87600, 56)\n",
      "This is training run 10 and has the shape:  (87600, 56)\n",
      "The value of dropped columns is 40\n"
     ]
    },
    {
     "name": "stderr",
     "output_type": "stream",
     "text": [
      "/Users/alexellard/opt/anaconda3/lib/python3.7/site-packages/xgboost/data.py:96: UserWarning: Use subset (sliced data) of np.ndarray is not recommended because it will generate extra copies and increase memory consumption\n",
      "  \"because it will generate extra copies and increase \" +\n"
     ]
    },
    {
     "name": "stdout",
     "output_type": "stream",
     "text": [
      "test y shape : (17520, 1)\n",
      "Inv y shape : (17520, 56)\n",
      "y pred shape : (17520, 1)\n",
      "inv y pred : (17520, 56)\n",
      "Run 10 Mean Absolute Error: 3.172922554757488\n",
      "[['node_24_demand', 'node_31_demand', 'link_1_flow', 'node_23_demand', 'link_9_flow', 'node_12_pressure', 'node_5_demand', 'node_19_demand', 'node_17_pressure', 'link_12_flow', 'node_10_pressure', 'link_19_flow', 'link_17_flow', 'node_20_pressure', 'link_28_flow', 'link_27_flow', 'node_11_pressure', 'node_6_pressure', 'link_29_flow', 'node_18_pressure', 'link_32_flow', 'node_27_pressure', 'node_3_demand', 'node_8_demand', 'link_24_flow', 'node_24_pressure', 'reservoir_demand', 'node_3_pressure', 'link_26_flow', 'link_2_flow', 'link_10_flow', 'link_18_flow', 'node_8_pressure', 'node_14_demand', 'node_31_pressure', 'node_25_demand', 'link_20_flow', 'link_15_flow', 'node_27_demand', 'node_28_demand', 'node_13_demand', 'link_16_flow', 'link_14_flow', 'node_13_pressure']]\n",
      "starting df shape: (87600, 52)\n",
      "This is training run 1 and has the shape:  (87600, 52)\n",
      "The value of dropped columns is 45\n"
     ]
    },
    {
     "name": "stderr",
     "output_type": "stream",
     "text": [
      "/Users/alexellard/opt/anaconda3/lib/python3.7/site-packages/xgboost/data.py:96: UserWarning: Use subset (sliced data) of np.ndarray is not recommended because it will generate extra copies and increase memory consumption\n",
      "  \"because it will generate extra copies and increase \" +\n"
     ]
    },
    {
     "name": "stdout",
     "output_type": "stream",
     "text": [
      "test y shape : (17520, 1)\n",
      "Inv y shape : (17520, 52)\n",
      "y pred shape : (17520, 1)\n",
      "inv y pred : (17520, 52)\n",
      "Run 1 Mean Absolute Error: 0.23696390114774238\n",
      "[['node_11_demand', 'node_29_demand', 'reservoir_pressure', 'link_15_flow', 'node_20_pressure', 'link_5_flow', 'node_1_demand', 'node_11_pressure', 'node_9_demand', 'node_27_demand', 'link_12_flow', 'node_26_pressure', 'node_5_demand', 'link_11_flow', 'link_17_flow', 'link_2_flow', 'link_26_flow', 'link_6_flow', 'link_1_flow', 'node_13_pressure', 'node_7_demand', 'link_9_flow', 'node_8_pressure', 'node_3_pressure', 'link_25_flow', 'node_23_demand', 'node_14_pressure', 'link_31_flow', 'node_26_demand', 'reservoir_demand', 'node_4_pressure', 'link_23_flow', 'link_32_flow', 'node_27_pressure', 'node_15_pressure', 'node_8_demand', 'node_12_pressure', 'node_21_demand', 'node_15_demand', 'node_30_demand', 'node_9_pressure', 'node_18_demand', 'link_27_flow', 'node_31_demand']]\n",
      "starting df shape: (87600, 52)\n",
      "This is training run 2 and has the shape:  (87600, 52)\n",
      "The value of dropped columns is 45\n"
     ]
    },
    {
     "name": "stderr",
     "output_type": "stream",
     "text": [
      "/Users/alexellard/opt/anaconda3/lib/python3.7/site-packages/xgboost/data.py:96: UserWarning: Use subset (sliced data) of np.ndarray is not recommended because it will generate extra copies and increase memory consumption\n",
      "  \"because it will generate extra copies and increase \" +\n"
     ]
    },
    {
     "name": "stdout",
     "output_type": "stream",
     "text": [
      "test y shape : (17520, 1)\n",
      "Inv y shape : (17520, 52)\n",
      "y pred shape : (17520, 1)\n",
      "inv y pred : (17520, 52)\n",
      "Run 2 Mean Absolute Error: 0.15810671803739998\n",
      "[['link_8_flow', 'node_10_demand', 'node_16_demand', 'node_28_demand', 'node_17_pressure', 'link_7_flow', 'link_11_flow', 'node_1_pressure', 'link_23_flow', 'link_2_flow', 'node_30_demand', 'link_22_flow', 'node_31_pressure', 'link_21_flow', 'node_27_pressure', 'node_6_demand', 'node_11_demand', 'node_20_demand', 'link_6_flow', 'node_16_pressure', 'node_21_pressure', 'node_23_pressure', 'link_9_flow', 'node_4_pressure', 'node_23_demand', 'node_2_demand', 'node_20_pressure', 'link_26_flow', 'node_11_pressure', 'link_19_flow', 'link_15_flow', 'node_18_pressure', 'node_13_demand', 'node_8_demand', 'reservoir_demand', 'node_27_demand', 'node_19_pressure', 'node_5_demand', 'node_4_demand', 'node_22_demand', 'link_13_flow', 'link_30_flow', 'link_16_flow', 'node_10_pressure', 'link_17_flow']]\n",
      "starting df shape: (87600, 51)\n",
      "This is training run 3 and has the shape:  (87600, 51)\n",
      "The value of dropped columns is 45\n"
     ]
    },
    {
     "name": "stderr",
     "output_type": "stream",
     "text": [
      "/Users/alexellard/opt/anaconda3/lib/python3.7/site-packages/xgboost/data.py:96: UserWarning: Use subset (sliced data) of np.ndarray is not recommended because it will generate extra copies and increase memory consumption\n",
      "  \"because it will generate extra copies and increase \" +\n"
     ]
    },
    {
     "name": "stdout",
     "output_type": "stream",
     "text": [
      "test y shape : (17520, 1)\n",
      "Inv y shape : (17520, 51)\n",
      "y pred shape : (17520, 1)\n",
      "inv y pred : (17520, 51)\n",
      "Run 3 Mean Absolute Error: 0.17657490407192425\n",
      "[['node_21_demand', 'node_20_pressure', 'node_8_pressure', 'link_19_flow', 'link_26_flow', 'link_13_flow', 'link_23_flow', 'node_13_pressure', 'node_23_demand', 'node_11_demand', 'link_20_flow', 'node_14_pressure', 'link_8_flow', 'node_30_pressure', 'node_19_demand', 'link_5_flow', 'node_28_demand', 'node_15_demand', 'link_27_flow', 'node_22_pressure', 'link_17_flow', 'link_1_flow', 'node_12_demand', 'node_2_pressure', 'node_24_pressure', 'link_4_flow', 'node_30_demand', 'node_17_pressure', 'node_3_demand', 'node_4_demand', 'reservoir_pressure', 'node_13_demand', 'node_26_demand', 'node_4_pressure', 'link_7_flow', 'node_18_pressure', 'link_29_flow', 'node_15_pressure', 'node_17_demand', 'node_27_pressure', 'link_3_flow', 'node_20_demand', 'node_31_demand', 'link_31_flow']]\n",
      "starting df shape: (87600, 52)\n",
      "This is training run 4 and has the shape:  (87600, 52)\n",
      "The value of dropped columns is 45\n"
     ]
    },
    {
     "name": "stderr",
     "output_type": "stream",
     "text": [
      "/Users/alexellard/opt/anaconda3/lib/python3.7/site-packages/xgboost/data.py:96: UserWarning: Use subset (sliced data) of np.ndarray is not recommended because it will generate extra copies and increase memory consumption\n",
      "  \"because it will generate extra copies and increase \" +\n"
     ]
    },
    {
     "name": "stdout",
     "output_type": "stream",
     "text": [
      "test y shape : (17520, 1)\n",
      "Inv y shape : (17520, 52)\n",
      "y pred shape : (17520, 1)\n",
      "inv y pred : (17520, 52)\n",
      "Run 4 Mean Absolute Error: 3.81012286590919\n",
      "[['node_17_demand', 'link_2_flow', 'node_1_pressure', 'node_30_demand', 'link_26_flow', 'node_1_demand', 'node_23_pressure', 'link_1_flow', 'node_18_demand', 'link_20_flow', 'node_16_demand', 'node_8_demand', 'reservoir_pressure', 'link_12_flow', 'link_25_flow', 'node_15_pressure', 'node_14_pressure', 'node_27_demand', 'node_25_pressure', 'node_6_pressure', 'link_14_flow', 'node_11_demand', 'node_10_demand', 'link_32_flow', 'link_24_flow', 'node_14_demand', 'link_15_flow', 'reservoir_demand', 'link_18_flow', 'node_5_pressure', 'node_19_demand', 'node_18_pressure', 'node_20_demand', 'node_21_pressure', 'link_31_flow', 'node_26_pressure', 'node_2_pressure', 'node_12_pressure', 'node_24_pressure', 'node_17_pressure', 'node_22_demand', 'node_4_pressure', 'node_15_demand', 'node_4_demand', 'node_26_demand']]\n",
      "starting df shape: (87600, 51)\n",
      "This is training run 5 and has the shape:  (87600, 51)\n",
      "The value of dropped columns is 45\n"
     ]
    },
    {
     "name": "stderr",
     "output_type": "stream",
     "text": [
      "/Users/alexellard/opt/anaconda3/lib/python3.7/site-packages/xgboost/data.py:96: UserWarning: Use subset (sliced data) of np.ndarray is not recommended because it will generate extra copies and increase memory consumption\n",
      "  \"because it will generate extra copies and increase \" +\n"
     ]
    },
    {
     "name": "stdout",
     "output_type": "stream",
     "text": [
      "test y shape : (17520, 1)\n",
      "Inv y shape : (17520, 51)\n",
      "y pred shape : (17520, 1)\n",
      "inv y pred : (17520, 51)\n",
      "Run 5 Mean Absolute Error: 0.15815107650172722\n",
      "[['link_29_flow', 'link_28_flow', 'link_9_flow', 'link_30_flow', 'node_22_demand', 'link_11_flow', 'node_4_demand', 'link_10_flow', 'node_5_pressure', 'link_8_flow', 'node_15_pressure', 'node_26_demand', 'node_19_pressure', 'node_18_demand', 'link_17_flow', 'node_31_pressure', 'node_8_pressure', 'node_1_demand', 'link_3_flow', 'node_24_pressure', 'node_1_pressure', 'node_4_pressure', 'link_19_flow', 'node_26_pressure', 'link_1_flow', 'link_13_flow', 'node_23_pressure', 'node_11_pressure', 'reservoir_pressure', 'node_24_demand', 'node_27_demand', 'link_18_flow', 'node_12_demand', 'node_28_demand', 'node_9_pressure', 'node_3_demand', 'link_23_flow', 'link_26_flow', 'link_4_flow', 'node_19_demand', 'node_23_demand', 'node_25_demand', 'node_12_pressure', 'reservoir_demand']]\n",
      "starting df shape: (87600, 52)\n",
      "This is training run 6 and has the shape:  (87600, 52)\n",
      "The value of dropped columns is 45\n"
     ]
    },
    {
     "name": "stderr",
     "output_type": "stream",
     "text": [
      "/Users/alexellard/opt/anaconda3/lib/python3.7/site-packages/xgboost/data.py:96: UserWarning: Use subset (sliced data) of np.ndarray is not recommended because it will generate extra copies and increase memory consumption\n",
      "  \"because it will generate extra copies and increase \" +\n"
     ]
    },
    {
     "name": "stdout",
     "output_type": "stream",
     "text": [
      "test y shape : (17520, 1)\n",
      "Inv y shape : (17520, 52)\n",
      "y pred shape : (17520, 1)\n",
      "inv y pred : (17520, 52)\n",
      "Run 6 Mean Absolute Error: 0.18636115916407434\n",
      "[['node_24_pressure', 'link_13_flow', 'node_19_demand', 'node_25_pressure', 'node_28_demand', 'node_11_pressure', 'reservoir_pressure', 'node_10_pressure', 'node_17_pressure', 'link_16_flow', 'node_20_pressure', 'link_10_flow', 'link_9_flow', 'node_31_demand', 'link_12_flow', 'link_2_flow', 'link_11_flow', 'link_8_flow', 'node_12_demand', 'node_4_pressure', 'link_6_flow', 'node_9_pressure', 'node_14_demand', 'node_26_demand', 'node_13_demand', 'link_21_flow', 'node_25_demand', 'node_6_pressure', 'node_3_demand', 'node_1_pressure', 'link_19_flow', 'link_5_flow', 'node_7_pressure', 'link_7_flow', 'node_21_demand', 'node_1_demand', 'link_32_flow', 'node_16_demand', 'node_29_demand', 'node_23_pressure', 'node_8_demand', 'node_20_demand', 'node_18_pressure', 'node_8_pressure', 'link_28_flow']]\n",
      "starting df shape: (87600, 51)\n",
      "This is training run 7 and has the shape:  (87600, 51)\n",
      "The value of dropped columns is 45\n"
     ]
    },
    {
     "name": "stderr",
     "output_type": "stream",
     "text": [
      "/Users/alexellard/opt/anaconda3/lib/python3.7/site-packages/xgboost/data.py:96: UserWarning: Use subset (sliced data) of np.ndarray is not recommended because it will generate extra copies and increase memory consumption\n",
      "  \"because it will generate extra copies and increase \" +\n"
     ]
    },
    {
     "name": "stdout",
     "output_type": "stream",
     "text": [
      "test y shape : (17520, 1)\n",
      "Inv y shape : (17520, 51)\n",
      "y pred shape : (17520, 1)\n",
      "inv y pred : (17520, 51)\n",
      "Run 7 Mean Absolute Error: 2.9840484695295117\n",
      "[['node_9_demand', 'node_30_demand', 'node_5_demand', 'node_22_pressure', 'node_17_demand', 'node_13_pressure', 'link_31_flow', 'node_15_pressure', 'link_30_flow', 'reservoir_pressure', 'node_17_pressure', 'link_1_flow', 'node_14_pressure', 'link_28_flow', 'link_24_flow', 'node_2_pressure', 'node_31_pressure', 'link_6_flow', 'node_3_pressure', 'node_30_pressure', 'node_28_pressure', 'node_23_pressure', 'node_26_pressure', 'link_11_flow', 'node_19_demand', 'node_24_demand', 'node_22_demand', 'node_26_demand', 'node_25_demand', 'node_25_pressure', 'node_18_demand', 'node_11_pressure', 'link_32_flow', 'node_31_demand', 'link_25_flow', 'node_7_demand', 'link_29_flow', 'node_14_demand', 'node_27_demand', 'link_14_flow', 'reservoir_demand', 'link_17_flow', 'node_27_pressure', 'node_15_demand']]\n",
      "starting df shape: (87600, 52)\n",
      "This is training run 8 and has the shape:  (87600, 52)\n",
      "The value of dropped columns is 45\n"
     ]
    },
    {
     "name": "stderr",
     "output_type": "stream",
     "text": [
      "/Users/alexellard/opt/anaconda3/lib/python3.7/site-packages/xgboost/data.py:96: UserWarning: Use subset (sliced data) of np.ndarray is not recommended because it will generate extra copies and increase memory consumption\n",
      "  \"because it will generate extra copies and increase \" +\n"
     ]
    },
    {
     "name": "stdout",
     "output_type": "stream",
     "text": [
      "test y shape : (17520, 1)\n",
      "Inv y shape : (17520, 52)\n",
      "y pred shape : (17520, 1)\n",
      "inv y pred : (17520, 52)\n",
      "Run 8 Mean Absolute Error: 0.5796895474995177\n",
      "[['node_8_pressure', 'reservoir_demand', 'link_14_flow', 'node_18_pressure', 'link_13_flow', 'link_29_flow', 'link_27_flow', 'node_23_pressure', 'node_12_pressure', 'node_4_demand', 'link_26_flow', 'link_25_flow', 'link_31_flow', 'link_30_flow', 'node_11_demand', 'node_9_pressure', 'link_10_flow', 'link_4_flow', 'node_28_pressure', 'node_14_pressure', 'node_17_demand', 'node_21_pressure', 'node_24_demand', 'node_25_pressure', 'node_2_pressure', 'link_3_flow', 'node_19_demand', 'node_17_pressure', 'node_27_pressure', 'node_22_pressure', 'node_25_demand', 'link_20_flow', 'link_6_flow', 'node_13_demand', 'link_18_flow', 'reservoir_pressure', 'node_16_pressure', 'node_23_demand', 'node_22_demand', 'node_3_pressure', 'node_30_demand', 'link_17_flow', 'link_11_flow', 'node_31_demand', 'link_23_flow']]\n",
      "starting df shape: (87600, 51)\n",
      "This is training run 9 and has the shape:  (87600, 51)\n",
      "The value of dropped columns is 45\n"
     ]
    },
    {
     "name": "stderr",
     "output_type": "stream",
     "text": [
      "/Users/alexellard/opt/anaconda3/lib/python3.7/site-packages/xgboost/data.py:96: UserWarning: Use subset (sliced data) of np.ndarray is not recommended because it will generate extra copies and increase memory consumption\n",
      "  \"because it will generate extra copies and increase \" +\n"
     ]
    },
    {
     "name": "stdout",
     "output_type": "stream",
     "text": [
      "test y shape : (17520, 1)\n",
      "Inv y shape : (17520, 51)\n",
      "y pred shape : (17520, 1)\n",
      "inv y pred : (17520, 51)\n",
      "Run 9 Mean Absolute Error: 0.2059378658276485\n",
      "[['link_8_flow', 'node_1_demand', 'link_23_flow', 'node_28_demand', 'node_31_pressure', 'node_13_demand', 'link_2_flow', 'node_28_pressure', 'link_14_flow', 'link_20_flow', 'link_15_flow', 'node_29_demand', 'node_27_demand', 'link_17_flow', 'link_4_flow', 'link_22_flow', 'node_5_pressure', 'node_2_pressure', 'node_9_pressure', 'node_24_pressure', 'link_3_flow', 'link_12_flow', 'link_28_flow', 'node_1_pressure', 'link_11_flow', 'node_23_pressure', 'reservoir_pressure', 'node_21_pressure', 'node_10_demand', 'node_5_demand', 'node_24_demand', 'link_21_flow', 'link_30_flow', 'link_7_flow', 'node_22_demand', 'link_31_flow', 'node_31_demand', 'node_25_pressure', 'node_9_demand', 'node_19_pressure', 'link_5_flow', 'node_17_pressure', 'node_6_demand', 'node_17_demand']]\n",
      "starting df shape: (87600, 52)\n",
      "This is training run 10 and has the shape:  (87600, 52)\n",
      "The value of dropped columns is 45\n"
     ]
    },
    {
     "name": "stderr",
     "output_type": "stream",
     "text": [
      "/Users/alexellard/opt/anaconda3/lib/python3.7/site-packages/xgboost/data.py:96: UserWarning: Use subset (sliced data) of np.ndarray is not recommended because it will generate extra copies and increase memory consumption\n",
      "  \"because it will generate extra copies and increase \" +\n"
     ]
    },
    {
     "name": "stdout",
     "output_type": "stream",
     "text": [
      "test y shape : (17520, 1)\n",
      "Inv y shape : (17520, 52)\n",
      "y pred shape : (17520, 1)\n",
      "inv y pred : (17520, 52)\n",
      "Run 10 Mean Absolute Error: 4.648100523336788\n",
      "[['node_21_demand', 'link_31_flow', 'link_3_flow', 'node_18_demand', 'node_4_pressure', 'node_9_pressure', 'node_17_pressure', 'node_12_pressure', 'node_8_pressure', 'link_10_flow', 'node_29_demand', 'node_28_demand', 'node_26_pressure', 'node_14_pressure', 'link_25_flow', 'node_20_pressure', 'link_32_flow', 'node_13_demand', 'node_5_pressure', 'node_22_pressure', 'link_5_flow', 'node_10_pressure', 'link_28_flow', 'node_23_demand', 'node_15_demand', 'node_21_pressure', 'node_11_demand', 'link_24_flow', 'reservoir_pressure', 'node_3_pressure', 'node_10_demand', 'node_14_demand', 'node_27_pressure', 'node_28_pressure', 'node_3_demand', 'link_9_flow', 'node_31_demand', 'node_19_pressure', 'node_8_demand', 'node_20_demand', 'link_1_flow', 'node_31_pressure', 'node_24_pressure', 'node_2_demand', 'node_4_demand', 'link_4_flow', 'node_11_pressure', 'node_19_demand', 'link_13_flow']]\n",
      "starting df shape: (87600, 47)\n",
      "This is training run 1 and has the shape:  (87600, 47)\n",
      "The value of dropped columns is 50\n"
     ]
    },
    {
     "name": "stderr",
     "output_type": "stream",
     "text": [
      "/Users/alexellard/opt/anaconda3/lib/python3.7/site-packages/xgboost/data.py:96: UserWarning: Use subset (sliced data) of np.ndarray is not recommended because it will generate extra copies and increase memory consumption\n",
      "  \"because it will generate extra copies and increase \" +\n"
     ]
    },
    {
     "name": "stdout",
     "output_type": "stream",
     "text": [
      "test y shape : (17520, 1)\n",
      "Inv y shape : (17520, 47)\n",
      "y pred shape : (17520, 1)\n",
      "inv y pred : (17520, 47)\n",
      "Run 1 Mean Absolute Error: 4.021320332797066\n",
      "[['link_23_flow', 'node_12_demand', 'node_10_pressure', 'link_14_flow', 'link_31_flow', 'node_28_pressure', 'link_2_flow', 'node_8_demand', 'node_11_demand', 'link_21_flow', 'node_21_demand', 'node_3_demand', 'node_22_pressure', 'link_20_flow', 'node_15_demand', 'link_32_flow', 'link_27_flow', 'link_4_flow', 'node_25_demand', 'node_22_demand', 'link_30_flow', 'node_4_demand', 'node_6_demand', 'node_17_pressure', 'node_18_demand', 'link_13_flow', 'node_9_pressure', 'link_9_flow', 'link_24_flow', 'link_16_flow', 'node_1_pressure', 'node_2_demand', 'node_24_demand', 'reservoir_pressure', 'node_21_pressure', 'node_6_pressure', 'node_19_demand', 'node_19_pressure', 'node_5_pressure', 'node_15_pressure', 'node_23_pressure', 'node_5_demand', 'link_3_flow', 'link_12_flow', 'node_14_pressure', 'node_7_demand', 'node_20_pressure', 'node_16_demand', 'link_1_flow', 'link_25_flow']]\n",
      "starting df shape: (87600, 46)\n",
      "This is training run 2 and has the shape:  (87600, 46)\n",
      "The value of dropped columns is 50\n"
     ]
    },
    {
     "name": "stderr",
     "output_type": "stream",
     "text": [
      "/Users/alexellard/opt/anaconda3/lib/python3.7/site-packages/xgboost/data.py:96: UserWarning: Use subset (sliced data) of np.ndarray is not recommended because it will generate extra copies and increase memory consumption\n",
      "  \"because it will generate extra copies and increase \" +\n"
     ]
    },
    {
     "name": "stdout",
     "output_type": "stream",
     "text": [
      "test y shape : (17520, 1)\n",
      "Inv y shape : (17520, 46)\n",
      "y pred shape : (17520, 1)\n",
      "inv y pred : (17520, 46)\n",
      "Run 2 Mean Absolute Error: 3.241602742391803\n",
      "[['node_16_demand', 'node_16_pressure', 'node_23_demand', 'node_17_pressure', 'node_30_pressure', 'node_23_pressure', 'link_30_flow', 'node_10_pressure', 'node_12_pressure', 'link_23_flow', 'node_19_pressure', 'link_5_flow', 'link_9_flow', 'link_4_flow', 'node_8_demand', 'node_27_pressure', 'link_21_flow', 'node_18_pressure', 'link_25_flow', 'link_24_flow', 'node_11_demand', 'node_2_demand', 'link_16_flow', 'node_8_pressure', 'node_9_demand', 'node_20_demand', 'node_28_pressure', 'node_5_demand', 'node_14_demand', 'node_6_demand', 'link_3_flow', 'node_24_pressure', 'link_31_flow', 'link_11_flow', 'node_6_pressure', 'link_28_flow', 'node_20_pressure', 'node_21_pressure', 'node_15_demand', 'link_13_flow', 'node_2_pressure', 'node_9_pressure', 'link_26_flow', 'link_19_flow', 'node_22_demand', 'node_28_demand', 'link_20_flow', 'node_22_pressure', 'link_8_flow', 'node_19_demand']]\n",
      "starting df shape: (87600, 46)\n",
      "This is training run 3 and has the shape:  (87600, 46)\n",
      "The value of dropped columns is 50\n"
     ]
    },
    {
     "name": "stderr",
     "output_type": "stream",
     "text": [
      "/Users/alexellard/opt/anaconda3/lib/python3.7/site-packages/xgboost/data.py:96: UserWarning: Use subset (sliced data) of np.ndarray is not recommended because it will generate extra copies and increase memory consumption\n",
      "  \"because it will generate extra copies and increase \" +\n"
     ]
    },
    {
     "name": "stdout",
     "output_type": "stream",
     "text": [
      "test y shape : (17520, 1)\n",
      "Inv y shape : (17520, 46)\n",
      "y pred shape : (17520, 1)\n",
      "inv y pred : (17520, 46)\n",
      "Run 3 Mean Absolute Error: 5.759257066936769\n",
      "[['node_21_demand', 'node_13_pressure', 'node_25_demand', 'node_22_pressure', 'link_1_flow', 'node_2_demand', 'node_31_demand', 'node_9_pressure', 'link_11_flow', 'node_12_pressure', 'node_15_pressure', 'node_11_pressure', 'node_7_pressure', 'node_31_pressure', 'node_10_demand', 'link_15_flow', 'node_3_pressure', 'link_17_flow', 'link_29_flow', 'node_13_demand', 'node_29_demand', 'link_3_flow', 'reservoir_pressure', 'node_2_pressure', 'link_23_flow', 'link_25_flow', 'node_30_pressure', 'node_3_demand', 'link_26_flow', 'node_17_pressure', 'node_22_demand', 'node_26_pressure', 'node_1_pressure', 'node_28_pressure', 'node_9_demand', 'link_4_flow', 'link_14_flow', 'node_5_pressure', 'link_8_flow', 'node_10_pressure', 'link_28_flow', 'node_25_pressure', 'link_20_flow', 'node_12_demand', 'node_7_demand', 'node_30_demand', 'node_8_pressure', 'node_14_demand', 'link_32_flow', 'node_17_demand']]\n",
      "starting df shape: (87600, 46)\n",
      "This is training run 4 and has the shape:  (87600, 46)\n",
      "The value of dropped columns is 50\n"
     ]
    },
    {
     "name": "stderr",
     "output_type": "stream",
     "text": [
      "/Users/alexellard/opt/anaconda3/lib/python3.7/site-packages/xgboost/data.py:96: UserWarning: Use subset (sliced data) of np.ndarray is not recommended because it will generate extra copies and increase memory consumption\n",
      "  \"because it will generate extra copies and increase \" +\n"
     ]
    },
    {
     "name": "stdout",
     "output_type": "stream",
     "text": [
      "test y shape : (17520, 1)\n",
      "Inv y shape : (17520, 46)\n",
      "y pred shape : (17520, 1)\n",
      "inv y pred : (17520, 46)\n",
      "Run 4 Mean Absolute Error: 8.653047549252465\n",
      "[['node_27_demand', 'link_22_flow', 'node_24_demand', 'link_28_flow', 'node_5_demand', 'node_14_demand', 'node_28_demand', 'link_5_flow', 'node_10_demand', 'node_27_pressure', 'link_19_flow', 'link_24_flow', 'node_22_demand', 'node_31_demand', 'node_15_pressure', 'node_14_pressure', 'node_11_demand', 'node_28_pressure', 'node_10_pressure', 'link_4_flow', 'node_26_demand', 'node_8_demand', 'node_26_pressure', 'link_11_flow', 'link_9_flow', 'link_15_flow', 'node_12_demand', 'node_23_pressure', 'node_22_pressure', 'node_13_pressure', 'node_30_pressure', 'node_25_demand', 'node_4_pressure', 'node_21_demand', 'link_25_flow', 'node_17_demand', 'node_16_pressure', 'reservoir_pressure', 'link_3_flow', 'link_31_flow', 'node_24_pressure', 'node_20_pressure', 'node_18_pressure', 'node_19_pressure', 'node_16_demand', 'node_21_pressure', 'node_2_demand', 'node_19_demand', 'node_20_demand', 'node_5_pressure']]\n",
      "starting df shape: (87600, 46)\n",
      "This is training run 5 and has the shape:  (87600, 46)\n",
      "The value of dropped columns is 50\n"
     ]
    },
    {
     "name": "stderr",
     "output_type": "stream",
     "text": [
      "/Users/alexellard/opt/anaconda3/lib/python3.7/site-packages/xgboost/data.py:96: UserWarning: Use subset (sliced data) of np.ndarray is not recommended because it will generate extra copies and increase memory consumption\n",
      "  \"because it will generate extra copies and increase \" +\n"
     ]
    },
    {
     "name": "stdout",
     "output_type": "stream",
     "text": [
      "test y shape : (17520, 1)\n",
      "Inv y shape : (17520, 46)\n",
      "y pred shape : (17520, 1)\n",
      "inv y pred : (17520, 46)\n",
      "Run 5 Mean Absolute Error: 5.152064815591067\n",
      "[['link_27_flow', 'node_16_pressure', 'node_11_pressure', 'node_9_pressure', 'node_2_pressure', 'node_27_pressure', 'reservoir_pressure', 'node_30_pressure', 'node_14_pressure', 'node_12_demand', 'node_1_demand', 'link_7_flow', 'link_3_flow', 'node_17_demand', 'node_1_pressure', 'node_6_demand', 'node_18_demand', 'node_27_demand', 'node_4_pressure', 'node_30_demand', 'node_19_pressure', 'link_24_flow', 'node_18_pressure', 'node_22_pressure', 'link_32_flow', 'node_28_pressure', 'link_26_flow', 'node_29_demand', 'node_28_demand', 'link_4_flow', 'node_10_demand', 'link_25_flow', 'link_2_flow', 'link_22_flow', 'link_20_flow', 'node_6_pressure', 'node_31_pressure', 'node_11_demand', 'node_21_pressure', 'node_24_demand', 'link_31_flow', 'link_21_flow', 'node_13_pressure', 'node_5_demand', 'node_26_pressure', 'node_4_demand', 'link_9_flow', 'link_14_flow', 'link_19_flow', 'link_12_flow']]\n",
      "starting df shape: (87600, 46)\n",
      "This is training run 6 and has the shape:  (87600, 46)\n",
      "The value of dropped columns is 50\n"
     ]
    },
    {
     "name": "stderr",
     "output_type": "stream",
     "text": [
      "/Users/alexellard/opt/anaconda3/lib/python3.7/site-packages/xgboost/data.py:96: UserWarning: Use subset (sliced data) of np.ndarray is not recommended because it will generate extra copies and increase memory consumption\n",
      "  \"because it will generate extra copies and increase \" +\n"
     ]
    },
    {
     "name": "stdout",
     "output_type": "stream",
     "text": [
      "test y shape : (17520, 1)\n",
      "Inv y shape : (17520, 46)\n",
      "y pred shape : (17520, 1)\n",
      "inv y pred : (17520, 46)\n",
      "Run 6 Mean Absolute Error: 8.88354194017734\n",
      "[['reservoir_demand', 'node_6_demand', 'link_22_flow', 'link_18_flow', 'link_10_flow', 'node_12_pressure', 'link_26_flow', 'node_31_pressure', 'node_30_pressure', 'node_13_pressure', 'link_32_flow', 'node_27_demand', 'node_25_demand', 'node_3_pressure', 'node_26_demand', 'node_11_pressure', 'node_19_pressure', 'node_5_pressure', 'node_17_demand', 'node_10_pressure', 'link_23_flow', 'node_18_demand', 'node_7_demand', 'node_4_pressure', 'node_1_demand', 'link_9_flow', 'node_20_demand', 'node_23_pressure', 'link_15_flow', 'node_21_demand', 'link_4_flow', 'link_29_flow', 'node_10_demand', 'node_20_pressure', 'node_22_demand', 'link_27_flow', 'node_4_demand', 'node_16_demand', 'node_17_pressure', 'node_30_demand', 'reservoir_pressure', 'link_20_flow', 'node_29_demand', 'node_22_pressure', 'link_7_flow', 'node_15_pressure', 'link_31_flow', 'link_11_flow', 'node_6_pressure']]\n",
      "starting df shape: (87600, 47)\n",
      "This is training run 7 and has the shape:  (87600, 47)\n",
      "The value of dropped columns is 50\n"
     ]
    },
    {
     "name": "stderr",
     "output_type": "stream",
     "text": [
      "/Users/alexellard/opt/anaconda3/lib/python3.7/site-packages/xgboost/data.py:96: UserWarning: Use subset (sliced data) of np.ndarray is not recommended because it will generate extra copies and increase memory consumption\n",
      "  \"because it will generate extra copies and increase \" +\n"
     ]
    },
    {
     "name": "stdout",
     "output_type": "stream",
     "text": [
      "test y shape : (17520, 1)\n",
      "Inv y shape : (17520, 47)\n",
      "y pred shape : (17520, 1)\n",
      "inv y pred : (17520, 47)\n",
      "Run 7 Mean Absolute Error: 0.31651389944905634\n",
      "[['node_22_demand', 'node_13_pressure', 'link_25_flow', 'node_7_pressure', 'node_8_pressure', 'node_6_pressure', 'node_3_pressure', 'node_9_pressure', 'node_16_pressure', 'link_24_flow', 'node_4_pressure', 'node_28_demand', 'node_27_pressure', 'node_10_demand', 'node_31_demand', 'node_11_demand', 'link_11_flow', 'node_27_demand', 'link_15_flow', 'link_1_flow', 'node_18_demand', 'link_6_flow', 'link_8_flow', 'link_4_flow', 'node_9_demand', 'node_20_demand', 'link_19_flow', 'node_3_demand', 'link_23_flow', 'node_5_pressure', 'link_18_flow', 'node_21_demand', 'node_14_demand', 'node_17_demand', 'link_29_flow', 'link_31_flow', 'node_31_pressure', 'node_22_pressure', 'node_11_pressure', 'node_25_pressure', 'link_10_flow', 'node_26_demand', 'node_24_demand', 'node_8_demand', 'node_26_pressure', 'link_27_flow', 'node_21_pressure', 'link_26_flow', 'link_32_flow']]\n",
      "starting df shape: (87600, 47)\n",
      "This is training run 8 and has the shape:  (87600, 47)\n",
      "The value of dropped columns is 50\n"
     ]
    },
    {
     "name": "stderr",
     "output_type": "stream",
     "text": [
      "/Users/alexellard/opt/anaconda3/lib/python3.7/site-packages/xgboost/data.py:96: UserWarning: Use subset (sliced data) of np.ndarray is not recommended because it will generate extra copies and increase memory consumption\n",
      "  \"because it will generate extra copies and increase \" +\n"
     ]
    },
    {
     "name": "stdout",
     "output_type": "stream",
     "text": [
      "test y shape : (17520, 1)\n",
      "Inv y shape : (17520, 47)\n",
      "y pred shape : (17520, 1)\n",
      "inv y pred : (17520, 47)\n",
      "Run 8 Mean Absolute Error: 3.1113485087937547\n",
      "[['node_28_demand', 'node_14_pressure', 'link_4_flow', 'link_10_flow', 'node_21_demand', 'node_30_pressure', 'link_17_flow', 'node_2_demand', 'node_15_pressure', 'node_10_pressure', 'node_13_pressure', 'link_15_flow', 'node_2_pressure', 'reservoir_pressure', 'node_30_demand', 'node_23_demand', 'node_9_demand', 'node_1_demand', 'node_11_demand', 'link_1_flow', 'link_29_flow', 'node_21_pressure', 'node_6_demand', 'node_26_demand', 'node_4_demand', 'node_10_demand', 'link_21_flow', 'link_5_flow', 'link_32_flow', 'link_27_flow', 'link_30_flow', 'node_23_pressure', 'link_31_flow', 'node_28_pressure', 'link_25_flow', 'node_16_demand', 'link_22_flow', 'node_5_demand', 'node_15_demand', 'node_6_pressure', 'node_18_pressure', 'link_26_flow', 'node_24_demand', 'link_3_flow', 'link_20_flow', 'node_4_pressure', 'node_13_demand', 'node_22_demand', 'link_2_flow']]\n",
      "starting df shape: (87600, 47)\n",
      "This is training run 9 and has the shape:  (87600, 47)\n",
      "The value of dropped columns is 50\n"
     ]
    },
    {
     "name": "stderr",
     "output_type": "stream",
     "text": [
      "/Users/alexellard/opt/anaconda3/lib/python3.7/site-packages/xgboost/data.py:96: UserWarning: Use subset (sliced data) of np.ndarray is not recommended because it will generate extra copies and increase memory consumption\n",
      "  \"because it will generate extra copies and increase \" +\n"
     ]
    },
    {
     "name": "stdout",
     "output_type": "stream",
     "text": [
      "test y shape : (17520, 1)\n",
      "Inv y shape : (17520, 47)\n",
      "y pred shape : (17520, 1)\n",
      "inv y pred : (17520, 47)\n",
      "Run 9 Mean Absolute Error: 5.120052283119468\n",
      "[['node_3_pressure', 'node_4_pressure', 'node_29_demand', 'link_7_flow', 'reservoir_pressure', 'link_14_flow', 'link_9_flow', 'link_13_flow', 'link_11_flow', 'node_27_demand', 'link_26_flow', 'node_5_pressure', 'node_12_pressure', 'node_18_pressure', 'link_31_flow', 'node_27_pressure', 'link_29_flow', 'link_27_flow', 'link_21_flow', 'node_2_pressure', 'node_15_demand', 'node_21_demand', 'node_9_pressure', 'link_24_flow', 'link_8_flow', 'node_16_pressure', 'link_10_flow', 'link_2_flow', 'node_10_demand', 'node_9_demand', 'node_30_pressure', 'node_14_pressure', 'reservoir_demand', 'node_4_demand', 'node_17_demand', 'node_7_demand', 'link_32_flow', 'node_28_demand', 'node_16_demand', 'node_23_demand', 'node_20_pressure', 'link_22_flow', 'node_24_pressure', 'link_4_flow', 'node_23_pressure', 'node_2_demand', 'node_31_demand', 'node_20_demand', 'link_28_flow']]\n",
      "starting df shape: (87600, 47)\n",
      "This is training run 10 and has the shape:  (87600, 47)\n",
      "The value of dropped columns is 50\n"
     ]
    },
    {
     "name": "stderr",
     "output_type": "stream",
     "text": [
      "/Users/alexellard/opt/anaconda3/lib/python3.7/site-packages/xgboost/data.py:96: UserWarning: Use subset (sliced data) of np.ndarray is not recommended because it will generate extra copies and increase memory consumption\n",
      "  \"because it will generate extra copies and increase \" +\n"
     ]
    },
    {
     "name": "stdout",
     "output_type": "stream",
     "text": [
      "test y shape : (17520, 1)\n",
      "Inv y shape : (17520, 47)\n",
      "y pred shape : (17520, 1)\n",
      "inv y pred : (17520, 47)\n",
      "Run 10 Mean Absolute Error: 0.2972327406230012\n",
      "[['node_12_pressure', 'link_26_flow', 'node_19_demand', 'link_23_flow', 'link_29_flow', 'reservoir_demand', 'node_6_demand', 'node_25_demand', 'link_21_flow', 'link_28_flow', 'node_26_demand', 'node_2_pressure', 'node_30_pressure', 'node_28_pressure', 'node_28_demand', 'node_16_pressure', 'node_10_pressure', 'node_30_demand', 'node_23_demand', 'node_13_pressure', 'node_7_demand', 'link_8_flow', 'node_17_demand', 'node_21_pressure', 'link_6_flow', 'node_11_demand', 'node_11_pressure', 'node_14_pressure', 'link_5_flow', 'node_22_pressure', 'node_13_demand', 'node_3_pressure', 'link_13_flow', 'link_19_flow', 'node_21_demand', 'node_18_pressure', 'link_9_flow', 'node_31_pressure', 'node_23_pressure', 'node_27_pressure', 'node_25_pressure', 'node_20_pressure', 'reservoir_pressure', 'node_4_demand', 'node_16_demand', 'node_2_demand', 'node_24_demand', 'link_17_flow', 'link_15_flow', 'node_8_demand', 'link_14_flow', 'link_24_flow', 'link_3_flow', 'node_27_demand']]\n",
      "starting df shape: (87600, 42)\n",
      "This is training run 1 and has the shape:  (87600, 42)\n",
      "The value of dropped columns is 55\n"
     ]
    },
    {
     "name": "stderr",
     "output_type": "stream",
     "text": [
      "/Users/alexellard/opt/anaconda3/lib/python3.7/site-packages/xgboost/data.py:96: UserWarning: Use subset (sliced data) of np.ndarray is not recommended because it will generate extra copies and increase memory consumption\n",
      "  \"because it will generate extra copies and increase \" +\n"
     ]
    },
    {
     "name": "stdout",
     "output_type": "stream",
     "text": [
      "test y shape : (17520, 1)\n",
      "Inv y shape : (17520, 42)\n",
      "y pred shape : (17520, 1)\n",
      "inv y pred : (17520, 42)\n",
      "Run 1 Mean Absolute Error: 0.5092749664840833\n",
      "[['node_28_pressure', 'link_7_flow', 'node_7_pressure', 'node_30_pressure', 'link_11_flow', 'node_13_demand', 'node_4_demand', 'node_2_pressure', 'node_9_demand', 'node_8_demand', 'node_1_demand', 'node_19_demand', 'node_27_pressure', 'link_12_flow', 'node_21_demand', 'link_31_flow', 'link_15_flow', 'link_5_flow', 'link_17_flow', 'node_20_pressure', 'node_8_pressure', 'node_16_pressure', 'node_26_demand', 'node_15_pressure', 'link_1_flow', 'node_24_demand', 'node_22_demand', 'node_2_demand', 'node_20_demand', 'node_22_pressure', 'link_9_flow', 'node_3_demand', 'link_3_flow', 'node_3_pressure', 'node_14_pressure', 'node_11_demand', 'link_14_flow', 'node_17_demand', 'link_30_flow', 'node_13_pressure', 'node_6_demand', 'node_10_demand', 'node_28_demand', 'node_6_pressure', 'node_18_demand', 'node_23_pressure', 'link_28_flow', 'link_26_flow', 'link_20_flow', 'node_18_pressure', 'node_16_demand', 'link_16_flow', 'node_24_pressure', 'link_2_flow']]\n",
      "starting df shape: (87600, 42)\n",
      "This is training run 2 and has the shape:  (87600, 42)\n",
      "The value of dropped columns is 55\n"
     ]
    },
    {
     "name": "stderr",
     "output_type": "stream",
     "text": [
      "/Users/alexellard/opt/anaconda3/lib/python3.7/site-packages/xgboost/data.py:96: UserWarning: Use subset (sliced data) of np.ndarray is not recommended because it will generate extra copies and increase memory consumption\n",
      "  \"because it will generate extra copies and increase \" +\n"
     ]
    },
    {
     "name": "stdout",
     "output_type": "stream",
     "text": [
      "test y shape : (17520, 1)\n",
      "Inv y shape : (17520, 42)\n",
      "y pred shape : (17520, 1)\n",
      "inv y pred : (17520, 42)\n",
      "Run 2 Mean Absolute Error: 6.606371694852907\n",
      "[['node_16_demand', 'link_15_flow', 'node_29_demand', 'node_7_demand', 'link_21_flow', 'link_18_flow', 'node_19_pressure', 'node_25_pressure', 'link_24_flow', 'link_13_flow', 'node_1_pressure', 'node_31_demand', 'node_14_demand', 'link_12_flow', 'node_13_demand', 'link_32_flow', 'node_17_pressure', 'link_20_flow', 'node_18_demand', 'link_31_flow', 'node_21_demand', 'node_11_pressure', 'node_26_demand', 'node_27_pressure', 'node_4_demand', 'link_3_flow', 'node_28_pressure', 'node_10_demand', 'link_23_flow', 'node_15_demand', 'node_3_pressure', 'node_30_demand', 'link_6_flow', 'node_8_demand', 'node_5_demand', 'node_27_demand', 'link_2_flow', 'node_30_pressure', 'node_2_demand', 'link_17_flow', 'node_12_pressure', 'node_15_pressure', 'node_5_pressure', 'node_1_demand', 'node_9_demand', 'reservoir_pressure', 'link_10_flow', 'node_12_demand', 'node_7_pressure', 'node_9_pressure', 'link_27_flow', 'node_31_pressure', 'link_19_flow', 'node_13_pressure', 'node_22_pressure']]\n",
      "starting df shape: (87600, 41)\n",
      "This is training run 3 and has the shape:  (87600, 41)\n",
      "The value of dropped columns is 55\n"
     ]
    },
    {
     "name": "stderr",
     "output_type": "stream",
     "text": [
      "/Users/alexellard/opt/anaconda3/lib/python3.7/site-packages/xgboost/data.py:96: UserWarning: Use subset (sliced data) of np.ndarray is not recommended because it will generate extra copies and increase memory consumption\n",
      "  \"because it will generate extra copies and increase \" +\n"
     ]
    },
    {
     "name": "stdout",
     "output_type": "stream",
     "text": [
      "test y shape : (17520, 1)\n",
      "Inv y shape : (17520, 41)\n",
      "y pred shape : (17520, 1)\n",
      "inv y pred : (17520, 41)\n",
      "Run 3 Mean Absolute Error: 8.90432449165529\n",
      "[['node_5_pressure', 'node_17_pressure', 'link_19_flow', 'node_16_demand', 'link_18_flow', 'node_18_demand', 'node_28_pressure', 'node_17_demand', 'link_26_flow', 'node_25_demand', 'node_2_demand', 'node_9_pressure', 'link_30_flow', 'node_14_demand', 'node_6_pressure', 'node_12_pressure', 'node_10_demand', 'node_6_demand', 'link_13_flow', 'link_3_flow', 'reservoir_demand', 'node_7_demand', 'node_16_pressure', 'node_27_pressure', 'node_29_demand', 'node_31_pressure', 'node_13_pressure', 'node_22_pressure', 'node_2_pressure', 'node_20_pressure', 'link_4_flow', 'node_31_demand', 'link_21_flow', 'node_28_demand', 'node_14_pressure', 'node_20_demand', 'link_14_flow', 'link_31_flow', 'reservoir_pressure', 'link_24_flow', 'node_30_pressure', 'node_11_pressure', 'link_28_flow', 'node_4_demand', 'node_23_pressure', 'node_23_demand', 'link_20_flow', 'link_12_flow', 'link_2_flow', 'node_12_demand', 'node_15_pressure', 'node_3_demand', 'node_26_demand', 'link_15_flow', 'link_6_flow']]\n",
      "starting df shape: (87600, 41)\n",
      "This is training run 4 and has the shape:  (87600, 41)\n",
      "The value of dropped columns is 55\n"
     ]
    },
    {
     "name": "stderr",
     "output_type": "stream",
     "text": [
      "/Users/alexellard/opt/anaconda3/lib/python3.7/site-packages/xgboost/data.py:96: UserWarning: Use subset (sliced data) of np.ndarray is not recommended because it will generate extra copies and increase memory consumption\n",
      "  \"because it will generate extra copies and increase \" +\n"
     ]
    },
    {
     "name": "stdout",
     "output_type": "stream",
     "text": [
      "test y shape : (17520, 1)\n",
      "Inv y shape : (17520, 41)\n",
      "y pred shape : (17520, 1)\n",
      "inv y pred : (17520, 41)\n",
      "Run 4 Mean Absolute Error: 0.5149784960374344\n",
      "[['link_2_flow', 'node_26_demand', 'node_10_demand', 'node_18_demand', 'node_14_demand', 'node_16_demand', 'node_27_pressure', 'node_15_pressure', 'node_29_demand', 'node_12_pressure', 'node_19_pressure', 'node_8_pressure', 'node_1_pressure', 'link_23_flow', 'link_21_flow', 'link_17_flow', 'link_8_flow', 'node_5_pressure', 'node_11_pressure', 'node_17_pressure', 'node_19_demand', 'node_25_pressure', 'link_20_flow', 'link_27_flow', 'node_27_demand', 'node_24_pressure', 'node_22_pressure', 'link_26_flow', 'link_22_flow', 'link_24_flow', 'node_16_pressure', 'node_20_demand', 'node_20_pressure', 'link_5_flow', 'node_17_demand', 'node_24_demand', 'node_10_pressure', 'link_11_flow', 'node_3_pressure', 'node_12_demand', 'node_31_demand', 'node_31_pressure', 'link_31_flow', 'node_6_pressure', 'link_15_flow', 'node_13_pressure', 'node_4_demand', 'node_7_demand', 'node_30_pressure', 'node_15_demand', 'link_13_flow', 'node_26_pressure', 'node_13_demand', 'node_21_pressure', 'link_32_flow']]\n",
      "starting df shape: (87600, 41)\n",
      "This is training run 5 and has the shape:  (87600, 41)\n",
      "The value of dropped columns is 55\n"
     ]
    },
    {
     "name": "stderr",
     "output_type": "stream",
     "text": [
      "/Users/alexellard/opt/anaconda3/lib/python3.7/site-packages/xgboost/data.py:96: UserWarning: Use subset (sliced data) of np.ndarray is not recommended because it will generate extra copies and increase memory consumption\n",
      "  \"because it will generate extra copies and increase \" +\n"
     ]
    },
    {
     "name": "stdout",
     "output_type": "stream",
     "text": [
      "test y shape : (17520, 1)\n",
      "Inv y shape : (17520, 41)\n",
      "y pred shape : (17520, 1)\n",
      "inv y pred : (17520, 41)\n",
      "Run 5 Mean Absolute Error: 5.753891493060842\n",
      "[['node_6_demand', 'link_14_flow', 'node_21_demand', 'link_28_flow', 'node_10_pressure', 'node_24_pressure', 'link_11_flow', 'link_27_flow', 'link_21_flow', 'link_20_flow', 'node_28_demand', 'link_22_flow', 'node_12_pressure', 'node_24_demand', 'node_17_demand', 'link_8_flow', 'link_5_flow', 'node_4_demand', 'link_18_flow', 'node_28_pressure', 'node_9_pressure', 'link_32_flow', 'node_1_pressure', 'link_13_flow', 'link_23_flow', 'link_10_flow', 'node_18_demand', 'node_27_pressure', 'link_16_flow', 'node_16_demand', 'node_23_pressure', 'node_6_pressure', 'node_16_pressure', 'link_15_flow', 'node_1_demand', 'link_30_flow', 'node_14_demand', 'node_18_pressure', 'node_4_pressure', 'node_9_demand', 'node_3_demand', 'link_1_flow', 'link_9_flow', 'node_26_demand', 'reservoir_pressure', 'node_3_pressure', 'node_10_demand', 'node_17_pressure', 'node_20_pressure', 'node_11_demand', 'node_29_demand', 'node_7_pressure', 'node_26_pressure', 'link_12_flow', 'node_21_pressure']]\n",
      "starting df shape: (87600, 41)\n",
      "This is training run 6 and has the shape:  (87600, 41)\n",
      "The value of dropped columns is 55\n"
     ]
    },
    {
     "name": "stderr",
     "output_type": "stream",
     "text": [
      "/Users/alexellard/opt/anaconda3/lib/python3.7/site-packages/xgboost/data.py:96: UserWarning: Use subset (sliced data) of np.ndarray is not recommended because it will generate extra copies and increase memory consumption\n",
      "  \"because it will generate extra copies and increase \" +\n"
     ]
    },
    {
     "name": "stdout",
     "output_type": "stream",
     "text": [
      "test y shape : (17520, 1)\n",
      "Inv y shape : (17520, 41)\n",
      "y pred shape : (17520, 1)\n",
      "inv y pred : (17520, 41)\n",
      "Run 6 Mean Absolute Error: 2.7772426363019833\n",
      "[['reservoir_demand', 'node_11_demand', 'link_21_flow', 'node_26_demand', 'link_7_flow', 'link_5_flow', 'link_8_flow', 'node_1_demand', 'node_14_pressure', 'link_23_flow', 'node_30_pressure', 'node_19_demand', 'node_12_demand', 'link_10_flow', 'node_25_demand', 'node_30_demand', 'node_23_pressure', 'node_20_demand', 'node_8_demand', 'link_28_flow', 'node_3_pressure', 'node_24_demand', 'node_27_demand', 'node_16_demand', 'link_30_flow', 'link_2_flow', 'reservoir_pressure', 'node_5_demand', 'link_22_flow', 'node_28_pressure', 'link_1_flow', 'node_22_demand', 'node_17_pressure', 'link_19_flow', 'node_13_pressure', 'node_27_pressure', 'node_21_pressure', 'node_6_demand', 'node_15_demand', 'link_31_flow', 'node_6_pressure', 'node_18_pressure', 'node_29_demand', 'node_12_pressure', 'node_13_demand', 'link_9_flow', 'node_2_demand', 'node_5_pressure', 'link_32_flow', 'node_15_pressure', 'node_17_demand', 'node_16_pressure', 'node_22_pressure', 'link_12_flow', 'link_26_flow']]\n",
      "starting df shape: (87600, 41)\n",
      "This is training run 7 and has the shape:  (87600, 41)\n",
      "The value of dropped columns is 55\n"
     ]
    },
    {
     "name": "stderr",
     "output_type": "stream",
     "text": [
      "/Users/alexellard/opt/anaconda3/lib/python3.7/site-packages/xgboost/data.py:96: UserWarning: Use subset (sliced data) of np.ndarray is not recommended because it will generate extra copies and increase memory consumption\n",
      "  \"because it will generate extra copies and increase \" +\n"
     ]
    },
    {
     "name": "stdout",
     "output_type": "stream",
     "text": [
      "test y shape : (17520, 1)\n",
      "Inv y shape : (17520, 41)\n",
      "y pred shape : (17520, 1)\n",
      "inv y pred : (17520, 41)\n",
      "Run 7 Mean Absolute Error: 0.0530148500971861\n",
      "[['link_6_flow', 'node_11_demand', 'link_18_flow', 'node_3_demand', 'node_27_pressure', 'node_10_pressure', 'node_1_demand', 'link_5_flow', 'link_28_flow', 'link_30_flow', 'node_31_demand', 'link_20_flow', 'node_27_demand', 'node_19_pressure', 'node_7_demand', 'node_24_demand', 'node_16_pressure', 'node_2_demand', 'node_28_pressure', 'node_9_pressure', 'node_20_pressure', 'node_8_pressure', 'node_15_pressure', 'node_13_pressure', 'link_25_flow', 'node_6_demand', 'node_21_pressure', 'node_15_demand', 'link_15_flow', 'node_9_demand', 'link_8_flow', 'node_17_pressure', 'node_1_pressure', 'node_10_demand', 'node_30_pressure', 'node_30_demand', 'node_4_pressure', 'node_14_pressure', 'node_11_pressure', 'link_1_flow', 'node_12_pressure', 'link_23_flow', 'node_22_demand', 'node_18_demand', 'link_21_flow', 'link_14_flow', 'node_21_demand', 'node_25_pressure', 'node_22_pressure', 'reservoir_demand', 'link_24_flow', 'link_11_flow', 'node_5_demand', 'link_26_flow', 'node_25_demand']]\n",
      "starting df shape: (87600, 41)\n",
      "This is training run 8 and has the shape:  (87600, 41)\n",
      "The value of dropped columns is 55\n"
     ]
    },
    {
     "name": "stderr",
     "output_type": "stream",
     "text": [
      "/Users/alexellard/opt/anaconda3/lib/python3.7/site-packages/xgboost/data.py:96: UserWarning: Use subset (sliced data) of np.ndarray is not recommended because it will generate extra copies and increase memory consumption\n",
      "  \"because it will generate extra copies and increase \" +\n"
     ]
    },
    {
     "name": "stdout",
     "output_type": "stream",
     "text": [
      "test y shape : (17520, 1)\n",
      "Inv y shape : (17520, 41)\n",
      "y pred shape : (17520, 1)\n",
      "inv y pred : (17520, 41)\n",
      "Run 8 Mean Absolute Error: 0.20631546136723727\n",
      "[['link_22_flow', 'link_26_flow', 'link_15_flow', 'node_8_pressure', 'node_27_pressure', 'link_30_flow', 'link_11_flow', 'node_5_demand', 'node_17_pressure', 'node_6_pressure', 'link_17_flow', 'link_12_flow', 'node_23_demand', 'node_2_pressure', 'link_32_flow', 'link_2_flow', 'link_9_flow', 'reservoir_pressure', 'node_21_pressure', 'node_9_pressure', 'node_3_demand', 'link_3_flow', 'node_20_demand', 'link_1_flow', 'node_13_pressure', 'node_8_demand', 'node_22_demand', 'node_31_demand', 'link_6_flow', 'node_28_pressure', 'link_14_flow', 'node_10_demand', 'link_27_flow', 'link_13_flow', 'node_11_pressure', 'node_26_demand', 'node_25_demand', 'node_22_pressure', 'node_16_demand', 'link_31_flow', 'node_3_pressure', 'node_19_demand', 'link_23_flow', 'node_31_pressure', 'node_7_pressure', 'node_5_pressure', 'link_28_flow', 'node_12_demand', 'node_4_demand', 'node_7_demand', 'node_17_demand', 'node_4_pressure', 'node_15_demand', 'node_10_pressure', 'link_29_flow']]\n",
      "starting df shape: (87600, 41)\n",
      "This is training run 9 and has the shape:  (87600, 41)\n",
      "The value of dropped columns is 55\n"
     ]
    },
    {
     "name": "stderr",
     "output_type": "stream",
     "text": [
      "/Users/alexellard/opt/anaconda3/lib/python3.7/site-packages/xgboost/data.py:96: UserWarning: Use subset (sliced data) of np.ndarray is not recommended because it will generate extra copies and increase memory consumption\n",
      "  \"because it will generate extra copies and increase \" +\n"
     ]
    },
    {
     "name": "stdout",
     "output_type": "stream",
     "text": [
      "test y shape : (17520, 1)\n",
      "Inv y shape : (17520, 41)\n",
      "y pred shape : (17520, 1)\n",
      "inv y pred : (17520, 41)\n",
      "Run 9 Mean Absolute Error: 2.87475031350625\n",
      "[['node_14_demand', 'node_25_demand', 'node_8_demand', 'node_18_demand', 'link_21_flow', 'node_4_pressure', 'node_19_demand', 'node_16_demand', 'node_15_pressure', 'node_23_pressure', 'node_18_pressure', 'link_11_flow', 'node_27_demand', 'node_26_demand', 'node_2_pressure', 'node_9_pressure', 'node_9_demand', 'link_5_flow', 'node_26_pressure', 'link_10_flow', 'node_21_pressure', 'link_26_flow', 'node_7_demand', 'node_10_pressure', 'link_29_flow', 'link_3_flow', 'link_13_flow', 'link_27_flow', 'node_19_pressure', 'node_24_demand', 'node_20_pressure', 'node_1_pressure', 'link_7_flow', 'link_32_flow', 'node_22_demand', 'node_30_pressure', 'link_4_flow', 'link_23_flow', 'node_17_demand', 'link_8_flow', 'node_27_pressure', 'node_30_demand', 'node_3_demand', 'link_16_flow', 'link_22_flow', 'link_31_flow', 'node_22_pressure', 'link_9_flow', 'link_6_flow', 'link_30_flow', 'node_13_demand', 'node_2_demand', 'node_11_demand', 'link_15_flow', 'node_28_pressure']]\n",
      "starting df shape: (87600, 41)\n",
      "This is training run 10 and has the shape:  (87600, 41)\n",
      "The value of dropped columns is 55\n"
     ]
    },
    {
     "name": "stderr",
     "output_type": "stream",
     "text": [
      "/Users/alexellard/opt/anaconda3/lib/python3.7/site-packages/xgboost/data.py:96: UserWarning: Use subset (sliced data) of np.ndarray is not recommended because it will generate extra copies and increase memory consumption\n",
      "  \"because it will generate extra copies and increase \" +\n"
     ]
    },
    {
     "name": "stdout",
     "output_type": "stream",
     "text": [
      "test y shape : (17520, 1)\n",
      "Inv y shape : (17520, 41)\n",
      "y pred shape : (17520, 1)\n",
      "inv y pred : (17520, 41)\n",
      "Run 10 Mean Absolute Error: 4.472696929513843\n",
      "[['node_30_demand', 'link_14_flow', 'node_15_pressure', 'node_1_pressure', 'link_27_flow', 'node_7_pressure', 'node_24_demand', 'node_13_pressure', 'node_15_demand', 'link_7_flow', 'link_25_flow', 'node_27_demand', 'node_14_pressure', 'link_32_flow', 'node_19_demand', 'link_29_flow', 'node_30_pressure', 'node_8_demand', 'link_22_flow', 'link_12_flow', 'link_15_flow', 'node_26_demand', 'node_12_demand', 'node_6_demand', 'node_24_pressure', 'link_9_flow', 'link_28_flow', 'link_4_flow', 'node_21_pressure', 'link_18_flow', 'node_2_demand', 'link_19_flow', 'node_11_pressure', 'link_24_flow', 'node_4_demand', 'node_13_demand', 'link_31_flow', 'link_3_flow', 'node_5_pressure', 'node_16_pressure', 'node_10_pressure', 'node_9_demand', 'node_18_demand', 'link_30_flow', 'link_6_flow', 'node_16_demand', 'link_8_flow', 'node_17_pressure', 'reservoir_pressure', 'node_23_pressure', 'link_21_flow', 'node_1_demand', 'node_28_pressure', 'node_10_demand', 'node_7_demand', 'node_22_pressure', 'node_9_pressure', 'node_31_demand', 'node_14_demand']]\n",
      "starting df shape: (87600, 37)\n",
      "This is training run 1 and has the shape:  (87600, 37)\n",
      "The value of dropped columns is 60\n"
     ]
    },
    {
     "name": "stderr",
     "output_type": "stream",
     "text": [
      "/Users/alexellard/opt/anaconda3/lib/python3.7/site-packages/xgboost/data.py:96: UserWarning: Use subset (sliced data) of np.ndarray is not recommended because it will generate extra copies and increase memory consumption\n",
      "  \"because it will generate extra copies and increase \" +\n"
     ]
    },
    {
     "name": "stdout",
     "output_type": "stream",
     "text": [
      "test y shape : (17520, 1)\n",
      "Inv y shape : (17520, 37)\n",
      "y pred shape : (17520, 1)\n",
      "inv y pred : (17520, 37)\n",
      "Run 1 Mean Absolute Error: 4.3622633576953245\n",
      "[['link_11_flow', 'node_24_demand', 'node_8_pressure', 'node_11_demand', 'node_20_pressure', 'link_12_flow', 'link_8_flow', 'node_21_demand', 'node_31_demand', 'node_18_pressure', 'node_6_pressure', 'node_10_pressure', 'node_23_demand', 'link_1_flow', 'link_24_flow', 'node_25_demand', 'node_12_demand', 'node_17_demand', 'link_3_flow', 'node_7_demand', 'link_2_flow', 'reservoir_pressure', 'node_26_demand', 'link_20_flow', 'node_9_pressure', 'link_5_flow', 'node_17_pressure', 'link_19_flow', 'node_4_pressure', 'node_13_pressure', 'node_27_pressure', 'node_6_demand', 'link_25_flow', 'node_5_pressure', 'node_1_demand', 'link_23_flow', 'node_2_pressure', 'link_31_flow', 'link_26_flow', 'link_14_flow', 'link_27_flow', 'link_15_flow', 'node_29_demand', 'node_3_demand', 'node_30_demand', 'node_25_pressure', 'node_2_demand', 'node_23_pressure', 'link_28_flow', 'link_10_flow', 'node_24_pressure', 'link_7_flow', 'node_14_pressure', 'link_22_flow', 'link_18_flow', 'node_19_demand', 'node_9_demand', 'node_14_demand', 'node_10_demand', 'node_28_pressure']]\n",
      "starting df shape: (87600, 36)\n",
      "This is training run 2 and has the shape:  (87600, 36)\n",
      "The value of dropped columns is 60\n"
     ]
    },
    {
     "name": "stderr",
     "output_type": "stream",
     "text": [
      "/Users/alexellard/opt/anaconda3/lib/python3.7/site-packages/xgboost/data.py:96: UserWarning: Use subset (sliced data) of np.ndarray is not recommended because it will generate extra copies and increase memory consumption\n",
      "  \"because it will generate extra copies and increase \" +\n"
     ]
    },
    {
     "name": "stdout",
     "output_type": "stream",
     "text": [
      "test y shape : (17520, 1)\n",
      "Inv y shape : (17520, 36)\n",
      "y pred shape : (17520, 1)\n",
      "inv y pred : (17520, 36)\n",
      "Run 2 Mean Absolute Error: 3.404668973772041\n",
      "[['node_22_pressure', 'node_19_demand', 'node_13_pressure', 'node_8_pressure', 'link_6_flow', 'node_20_demand', 'reservoir_pressure', 'link_3_flow', 'node_3_demand', 'link_24_flow', 'node_20_pressure', 'node_25_pressure', 'node_21_pressure', 'node_6_pressure', 'node_14_pressure', 'link_4_flow', 'node_30_pressure', 'node_15_pressure', 'node_27_pressure', 'link_21_flow', 'node_5_pressure', 'link_19_flow', 'link_17_flow', 'node_22_demand', 'node_18_pressure', 'node_18_demand', 'node_30_demand', 'node_17_demand', 'link_11_flow', 'node_11_demand', 'node_16_demand', 'node_9_demand', 'link_10_flow', 'node_14_demand', 'node_3_pressure', 'node_31_demand', 'node_8_demand', 'node_5_demand', 'link_20_flow', 'link_23_flow', 'link_32_flow', 'node_16_pressure', 'link_13_flow', 'link_7_flow', 'node_28_pressure', 'node_6_demand', 'node_29_demand', 'node_1_demand', 'link_14_flow', 'node_13_demand', 'link_5_flow', 'node_10_demand', 'link_26_flow', 'link_2_flow', 'node_15_demand', 'node_25_demand', 'link_25_flow', 'link_1_flow', 'node_23_demand', 'node_12_demand']]\n",
      "starting df shape: (87600, 36)\n",
      "This is training run 3 and has the shape:  (87600, 36)\n",
      "The value of dropped columns is 60\n"
     ]
    },
    {
     "name": "stderr",
     "output_type": "stream",
     "text": [
      "/Users/alexellard/opt/anaconda3/lib/python3.7/site-packages/xgboost/data.py:96: UserWarning: Use subset (sliced data) of np.ndarray is not recommended because it will generate extra copies and increase memory consumption\n",
      "  \"because it will generate extra copies and increase \" +\n"
     ]
    },
    {
     "name": "stdout",
     "output_type": "stream",
     "text": [
      "test y shape : (17520, 1)\n",
      "Inv y shape : (17520, 36)\n",
      "y pred shape : (17520, 1)\n",
      "inv y pred : (17520, 36)\n",
      "Run 3 Mean Absolute Error: 4.192593444098681\n",
      "[['node_27_pressure', 'node_14_demand', 'node_9_demand', 'node_13_pressure', 'node_3_demand', 'link_26_flow', 'node_19_pressure', 'link_9_flow', 'node_30_pressure', 'link_14_flow', 'link_17_flow', 'reservoir_pressure', 'link_7_flow', 'link_24_flow', 'node_24_pressure', 'link_13_flow', 'node_16_demand', 'node_18_pressure', 'link_31_flow', 'node_6_pressure', 'link_21_flow', 'node_9_pressure', 'link_11_flow', 'node_16_pressure', 'node_5_demand', 'node_25_demand', 'node_14_pressure', 'node_30_demand', 'node_11_demand', 'node_21_demand', 'node_20_pressure', 'link_19_flow', 'node_31_pressure', 'link_18_flow', 'node_8_pressure', 'node_20_demand', 'node_11_pressure', 'link_25_flow', 'link_32_flow', 'node_4_pressure', 'node_31_demand', 'node_3_pressure', 'node_17_demand', 'node_7_demand', 'node_12_demand', 'node_10_demand', 'node_12_pressure', 'node_27_demand', 'link_30_flow', 'node_23_pressure', 'node_2_pressure', 'node_28_pressure', 'node_18_demand', 'link_2_flow', 'link_4_flow', 'link_22_flow', 'link_1_flow', 'node_21_pressure', 'link_23_flow']]\n",
      "starting df shape: (87600, 37)\n",
      "This is training run 4 and has the shape:  (87600, 37)\n",
      "The value of dropped columns is 60\n"
     ]
    },
    {
     "name": "stderr",
     "output_type": "stream",
     "text": [
      "/Users/alexellard/opt/anaconda3/lib/python3.7/site-packages/xgboost/data.py:96: UserWarning: Use subset (sliced data) of np.ndarray is not recommended because it will generate extra copies and increase memory consumption\n",
      "  \"because it will generate extra copies and increase \" +\n"
     ]
    },
    {
     "name": "stdout",
     "output_type": "stream",
     "text": [
      "test y shape : (17520, 1)\n",
      "Inv y shape : (17520, 37)\n",
      "y pred shape : (17520, 1)\n",
      "inv y pred : (17520, 37)\n",
      "Run 4 Mean Absolute Error: 10.517217025313412\n",
      "[['node_27_demand', 'node_19_demand', 'node_17_demand', 'node_3_pressure', 'link_30_flow', 'node_15_pressure', 'node_16_demand', 'link_25_flow', 'node_26_demand', 'node_6_pressure', 'node_20_demand', 'link_28_flow', 'node_23_pressure', 'node_18_pressure', 'node_2_demand', 'node_22_pressure', 'link_21_flow', 'node_20_pressure', 'node_15_demand', 'link_9_flow', 'node_16_pressure', 'node_30_pressure', 'link_22_flow', 'node_10_demand', 'reservoir_demand', 'node_30_demand', 'node_1_demand', 'node_21_demand', 'link_23_flow', 'link_7_flow', 'link_11_flow', 'link_2_flow', 'node_17_pressure', 'node_14_demand', 'link_14_flow', 'node_9_pressure', 'link_5_flow', 'node_19_pressure', 'link_27_flow', 'node_7_demand', 'link_29_flow', 'link_19_flow', 'link_15_flow', 'node_4_pressure', 'node_6_demand', 'link_26_flow', 'node_25_demand', 'node_23_demand', 'node_31_pressure', 'node_2_pressure', 'link_32_flow', 'link_20_flow', 'node_3_demand', 'reservoir_pressure', 'link_17_flow', 'node_25_pressure', 'link_6_flow', 'link_1_flow', 'node_24_pressure']]\n",
      "starting df shape: (87600, 37)\n",
      "This is training run 5 and has the shape:  (87600, 37)\n",
      "The value of dropped columns is 60\n"
     ]
    },
    {
     "name": "stderr",
     "output_type": "stream",
     "text": [
      "/Users/alexellard/opt/anaconda3/lib/python3.7/site-packages/xgboost/data.py:96: UserWarning: Use subset (sliced data) of np.ndarray is not recommended because it will generate extra copies and increase memory consumption\n",
      "  \"because it will generate extra copies and increase \" +\n"
     ]
    },
    {
     "name": "stdout",
     "output_type": "stream",
     "text": [
      "test y shape : (17520, 1)\n",
      "Inv y shape : (17520, 37)\n",
      "y pred shape : (17520, 1)\n",
      "inv y pred : (17520, 37)\n",
      "Run 5 Mean Absolute Error: 0.27695502977988096\n",
      "[['link_5_flow', 'node_26_demand', 'link_24_flow', 'node_25_demand', 'link_27_flow', 'node_13_pressure', 'node_19_demand', 'node_1_demand', 'link_22_flow', 'node_1_pressure', 'link_26_flow', 'link_17_flow', 'link_11_flow', 'node_2_demand', 'node_6_demand', 'node_17_pressure', 'reservoir_pressure', 'node_5_demand', 'link_7_flow', 'node_3_demand', 'node_15_pressure', 'node_10_demand', 'node_20_demand', 'node_23_pressure', 'link_12_flow', 'node_19_pressure', 'link_6_flow', 'node_12_demand', 'node_22_pressure', 'node_14_pressure', 'link_30_flow', 'node_4_demand', 'node_21_demand', 'node_13_demand', 'link_25_flow', 'node_27_pressure', 'link_19_flow', 'node_18_pressure', 'node_27_demand', 'node_20_pressure', 'node_16_pressure', 'node_28_demand', 'node_23_demand', 'node_22_demand', 'node_11_demand', 'link_28_flow', 'link_32_flow', 'node_4_pressure', 'node_17_demand', 'node_8_pressure', 'node_5_pressure', 'node_11_pressure', 'link_9_flow', 'node_12_pressure', 'link_15_flow', 'link_10_flow', 'node_29_demand', 'link_16_flow', 'node_7_demand']]\n",
      "starting df shape: (87600, 37)\n",
      "This is training run 6 and has the shape:  (87600, 37)\n",
      "The value of dropped columns is 60\n"
     ]
    },
    {
     "name": "stderr",
     "output_type": "stream",
     "text": [
      "/Users/alexellard/opt/anaconda3/lib/python3.7/site-packages/xgboost/data.py:96: UserWarning: Use subset (sliced data) of np.ndarray is not recommended because it will generate extra copies and increase memory consumption\n",
      "  \"because it will generate extra copies and increase \" +\n"
     ]
    },
    {
     "name": "stdout",
     "output_type": "stream",
     "text": [
      "test y shape : (17520, 1)\n",
      "Inv y shape : (17520, 37)\n",
      "y pred shape : (17520, 1)\n",
      "inv y pred : (17520, 37)\n",
      "Run 6 Mean Absolute Error: 2.930913590572183\n",
      "[['node_19_pressure', 'node_16_pressure', 'node_26_pressure', 'node_10_pressure', 'link_9_flow', 'link_14_flow', 'link_23_flow', 'node_30_demand', 'node_22_pressure', 'node_1_demand', 'node_2_demand', 'node_18_pressure', 'node_3_demand', 'node_18_demand', 'node_3_pressure', 'link_25_flow', 'node_25_demand', 'node_2_pressure', 'link_17_flow', 'node_7_pressure', 'node_4_demand', 'link_8_flow', 'node_21_pressure', 'node_28_pressure', 'node_27_demand', 'node_15_demand', 'node_26_demand', 'link_24_flow', 'node_12_pressure', 'node_14_pressure', 'link_20_flow', 'node_13_demand', 'node_10_demand', 'link_10_flow', 'link_21_flow', 'link_28_flow', 'link_26_flow', 'link_13_flow', 'link_11_flow', 'node_20_demand', 'node_21_demand', 'link_16_flow', 'node_11_pressure', 'node_7_demand', 'node_28_demand', 'link_12_flow', 'link_2_flow', 'node_5_pressure', 'node_31_pressure', 'node_29_demand', 'node_11_demand', 'link_4_flow', 'node_23_demand', 'node_16_demand', 'node_17_pressure', 'link_32_flow', 'node_23_pressure', 'link_18_flow', 'node_15_pressure', 'link_5_flow']]\n",
      "starting df shape: (87600, 36)\n",
      "This is training run 7 and has the shape:  (87600, 36)\n",
      "The value of dropped columns is 60\n"
     ]
    },
    {
     "name": "stderr",
     "output_type": "stream",
     "text": [
      "/Users/alexellard/opt/anaconda3/lib/python3.7/site-packages/xgboost/data.py:96: UserWarning: Use subset (sliced data) of np.ndarray is not recommended because it will generate extra copies and increase memory consumption\n",
      "  \"because it will generate extra copies and increase \" +\n"
     ]
    },
    {
     "name": "stdout",
     "output_type": "stream",
     "text": [
      "test y shape : (17520, 1)\n",
      "Inv y shape : (17520, 36)\n",
      "y pred shape : (17520, 1)\n",
      "inv y pred : (17520, 36)\n",
      "Run 7 Mean Absolute Error: 4.2475123042865635\n",
      "[['node_3_pressure', 'reservoir_demand', 'link_10_flow', 'link_8_flow', 'link_32_flow', 'node_19_pressure', 'node_20_demand', 'node_29_demand', 'node_1_pressure', 'node_10_demand', 'node_2_demand', 'node_26_demand', 'node_24_demand', 'node_6_demand', 'node_14_demand', 'node_15_pressure', 'node_11_demand', 'node_12_demand', 'node_5_demand', 'link_20_flow', 'node_28_pressure', 'link_27_flow', 'node_16_demand', 'link_12_flow', 'link_16_flow', 'node_19_demand', 'node_13_demand', 'link_1_flow', 'node_20_pressure', 'link_21_flow', 'node_27_pressure', 'node_22_demand', 'node_8_demand', 'node_30_demand', 'node_21_pressure', 'link_7_flow', 'link_13_flow', 'node_23_pressure', 'link_22_flow', 'link_29_flow', 'node_1_demand', 'node_8_pressure', 'link_4_flow', 'link_30_flow', 'node_25_demand', 'node_2_pressure', 'link_3_flow', 'node_16_pressure', 'link_25_flow', 'node_7_pressure', 'link_15_flow', 'node_7_demand', 'reservoir_pressure', 'node_12_pressure', 'node_15_demand', 'node_9_pressure', 'node_13_pressure', 'link_18_flow', 'link_24_flow', 'link_28_flow']]\n",
      "starting df shape: (87600, 36)\n",
      "This is training run 8 and has the shape:  (87600, 36)\n",
      "The value of dropped columns is 60\n"
     ]
    },
    {
     "name": "stderr",
     "output_type": "stream",
     "text": [
      "/Users/alexellard/opt/anaconda3/lib/python3.7/site-packages/xgboost/data.py:96: UserWarning: Use subset (sliced data) of np.ndarray is not recommended because it will generate extra copies and increase memory consumption\n",
      "  \"because it will generate extra copies and increase \" +\n"
     ]
    },
    {
     "name": "stdout",
     "output_type": "stream",
     "text": [
      "test y shape : (17520, 1)\n",
      "Inv y shape : (17520, 36)\n",
      "y pred shape : (17520, 1)\n",
      "inv y pred : (17520, 36)\n",
      "Run 8 Mean Absolute Error: 0.02822821534275086\n",
      "[['node_13_demand', 'link_24_flow', 'link_19_flow', 'node_7_pressure', 'node_30_pressure', 'node_6_pressure', 'node_28_pressure', 'node_26_pressure', 'node_22_pressure', 'link_30_flow', 'node_10_demand', 'link_6_flow', 'link_12_flow', 'node_3_pressure', 'link_10_flow', 'link_25_flow', 'node_16_pressure', 'node_21_demand', 'link_3_flow', 'node_17_pressure', 'node_26_demand', 'node_5_demand', 'link_5_flow', 'node_20_pressure', 'node_19_pressure', 'link_21_flow', 'node_25_demand', 'node_14_demand', 'node_11_demand', 'link_2_flow', 'node_9_demand', 'node_7_demand', 'node_31_demand', 'node_24_pressure', 'node_4_pressure', 'link_4_flow', 'node_6_demand', 'node_20_demand', 'link_16_flow', 'link_31_flow', 'node_4_demand', 'node_9_pressure', 'node_27_pressure', 'node_12_demand', 'node_19_demand', 'link_22_flow', 'link_32_flow', 'node_13_pressure', 'link_23_flow', 'node_12_pressure', 'link_17_flow', 'node_23_demand', 'node_8_pressure', 'node_18_pressure', 'node_18_demand', 'link_9_flow', 'node_3_demand', 'node_10_pressure', 'link_15_flow']]\n",
      "starting df shape: (87600, 37)\n",
      "This is training run 9 and has the shape:  (87600, 37)\n",
      "The value of dropped columns is 60\n"
     ]
    },
    {
     "name": "stderr",
     "output_type": "stream",
     "text": [
      "/Users/alexellard/opt/anaconda3/lib/python3.7/site-packages/xgboost/data.py:96: UserWarning: Use subset (sliced data) of np.ndarray is not recommended because it will generate extra copies and increase memory consumption\n",
      "  \"because it will generate extra copies and increase \" +\n"
     ]
    },
    {
     "name": "stdout",
     "output_type": "stream",
     "text": [
      "test y shape : (17520, 1)\n",
      "Inv y shape : (17520, 37)\n",
      "y pred shape : (17520, 1)\n",
      "inv y pred : (17520, 37)\n",
      "Run 9 Mean Absolute Error: 4.970241458778132\n",
      "[['node_30_pressure', 'link_25_flow', 'link_19_flow', 'link_31_flow', 'node_19_pressure', 'node_4_pressure', 'node_28_pressure', 'link_11_flow', 'node_12_demand', 'node_20_demand', 'node_28_demand', 'node_29_demand', 'node_24_demand', 'link_14_flow', 'link_22_flow', 'reservoir_demand', 'node_26_demand', 'node_23_demand', 'node_7_pressure', 'node_18_pressure', 'node_27_pressure', 'link_6_flow', 'node_16_pressure', 'node_14_demand', 'node_17_pressure', 'node_5_pressure', 'link_20_flow', 'node_1_demand', 'node_8_demand', 'node_27_demand', 'reservoir_pressure', 'node_1_pressure', 'link_4_flow', 'node_19_demand', 'node_14_pressure', 'node_16_demand', 'node_11_demand', 'link_24_flow', 'node_21_demand', 'link_32_flow', 'link_15_flow', 'node_15_demand', 'node_21_pressure', 'node_7_demand', 'link_10_flow', 'node_3_pressure', 'node_24_pressure', 'node_13_demand', 'node_9_pressure', 'link_13_flow', 'link_1_flow', 'node_8_pressure', 'node_6_pressure', 'link_8_flow', 'link_30_flow', 'node_31_pressure', 'node_15_pressure', 'node_12_pressure', 'link_29_flow']]\n",
      "starting df shape: (87600, 37)\n",
      "This is training run 10 and has the shape:  (87600, 37)\n",
      "The value of dropped columns is 60\n"
     ]
    },
    {
     "name": "stderr",
     "output_type": "stream",
     "text": [
      "/Users/alexellard/opt/anaconda3/lib/python3.7/site-packages/xgboost/data.py:96: UserWarning: Use subset (sliced data) of np.ndarray is not recommended because it will generate extra copies and increase memory consumption\n",
      "  \"because it will generate extra copies and increase \" +\n"
     ]
    },
    {
     "name": "stdout",
     "output_type": "stream",
     "text": [
      "test y shape : (17520, 1)\n",
      "Inv y shape : (17520, 37)\n",
      "y pred shape : (17520, 1)\n",
      "inv y pred : (17520, 37)\n",
      "Run 10 Mean Absolute Error: 0.4856551968323337\n",
      "[['node_22_pressure', 'node_18_demand', 'node_10_demand', 'node_27_pressure', 'link_24_flow', 'link_14_flow', 'node_31_demand', 'link_3_flow', 'node_22_demand', 'link_31_flow', 'node_2_pressure', 'node_1_pressure', 'node_23_demand', 'node_3_demand', 'node_21_demand', 'node_15_demand', 'node_16_demand', 'node_30_demand', 'node_24_demand', 'node_3_pressure', 'node_9_pressure', 'link_2_flow', 'link_18_flow', 'link_20_flow', 'node_21_pressure', 'node_2_demand', 'node_13_pressure', 'node_7_pressure', 'node_8_demand', 'node_18_pressure', 'link_16_flow', 'node_7_demand', 'node_26_pressure', 'node_29_demand', 'link_11_flow', 'node_26_demand', 'node_11_demand', 'link_25_flow', 'node_31_pressure', 'node_10_pressure', 'node_6_pressure', 'node_5_demand', 'node_4_demand', 'node_12_pressure', 'node_19_pressure', 'link_15_flow', 'node_13_demand', 'node_14_demand', 'reservoir_demand', 'node_25_demand', 'node_16_pressure', 'link_26_flow', 'node_17_pressure', 'link_27_flow', 'node_17_demand', 'node_28_pressure', 'link_29_flow', 'node_24_pressure', 'link_12_flow', 'node_8_pressure', 'node_14_pressure', 'node_23_pressure', 'link_8_flow', 'node_27_demand']]\n",
      "starting df shape: (87600, 32)\n",
      "This is training run 1 and has the shape:  (87600, 32)\n",
      "The value of dropped columns is 65\n"
     ]
    },
    {
     "name": "stderr",
     "output_type": "stream",
     "text": [
      "/Users/alexellard/opt/anaconda3/lib/python3.7/site-packages/xgboost/data.py:96: UserWarning: Use subset (sliced data) of np.ndarray is not recommended because it will generate extra copies and increase memory consumption\n",
      "  \"because it will generate extra copies and increase \" +\n"
     ]
    },
    {
     "name": "stdout",
     "output_type": "stream",
     "text": [
      "test y shape : (17520, 1)\n",
      "Inv y shape : (17520, 32)\n",
      "y pred shape : (17520, 1)\n",
      "inv y pred : (17520, 32)\n",
      "Run 1 Mean Absolute Error: 0.24775247833671074\n",
      "[['link_25_flow', 'node_8_demand', 'node_21_demand', 'node_16_demand', 'node_18_pressure', 'link_30_flow', 'link_7_flow', 'node_7_demand', 'node_17_pressure', 'link_21_flow', 'link_3_flow', 'node_29_demand', 'node_10_pressure', 'link_19_flow', 'link_20_flow', 'node_9_demand', 'node_18_demand', 'node_14_demand', 'link_4_flow', 'link_24_flow', 'node_11_pressure', 'link_11_flow', 'link_29_flow', 'link_27_flow', 'link_14_flow', 'node_8_pressure', 'link_22_flow', 'node_25_demand', 'node_19_pressure', 'node_11_demand', 'node_22_pressure', 'node_5_demand', 'node_31_pressure', 'node_17_demand', 'node_5_pressure', 'link_13_flow', 'node_24_pressure', 'link_5_flow', 'node_20_demand', 'node_27_demand', 'reservoir_pressure', 'node_27_pressure', 'node_12_demand', 'node_13_pressure', 'link_6_flow', 'node_14_pressure', 'node_19_demand', 'node_15_pressure', 'node_13_demand', 'link_9_flow', 'link_2_flow', 'node_2_pressure', 'link_12_flow', 'node_30_pressure', 'node_15_demand', 'link_26_flow', 'node_12_pressure', 'node_1_demand', 'link_28_flow', 'node_16_pressure', 'link_17_flow', 'node_31_demand', 'node_24_demand', 'node_26_pressure', 'link_32_flow']]\n",
      "starting df shape: (87600, 31)\n",
      "This is training run 2 and has the shape:  (87600, 31)\n",
      "The value of dropped columns is 65\n"
     ]
    },
    {
     "name": "stderr",
     "output_type": "stream",
     "text": [
      "/Users/alexellard/opt/anaconda3/lib/python3.7/site-packages/xgboost/data.py:96: UserWarning: Use subset (sliced data) of np.ndarray is not recommended because it will generate extra copies and increase memory consumption\n",
      "  \"because it will generate extra copies and increase \" +\n"
     ]
    },
    {
     "name": "stdout",
     "output_type": "stream",
     "text": [
      "test y shape : (17520, 1)\n",
      "Inv y shape : (17520, 31)\n",
      "y pred shape : (17520, 1)\n",
      "inv y pred : (17520, 31)\n",
      "Run 2 Mean Absolute Error: 7.059132410716133\n",
      "[['node_15_pressure', 'link_27_flow', 'node_5_pressure', 'node_31_pressure', 'link_26_flow', 'link_12_flow', 'node_30_demand', 'node_18_demand', 'node_4_demand', 'node_14_demand', 'link_20_flow', 'link_24_flow', 'node_30_pressure', 'node_7_demand', 'node_5_demand', 'link_17_flow', 'reservoir_pressure', 'node_9_demand', 'link_14_flow', 'link_5_flow', 'node_22_demand', 'node_27_pressure', 'node_9_pressure', 'node_24_demand', 'node_2_demand', 'node_11_pressure', 'node_16_pressure', 'link_8_flow', 'node_2_pressure', 'node_24_pressure', 'node_14_pressure', 'node_28_demand', 'node_4_pressure', 'node_8_pressure', 'node_10_demand', 'node_29_demand', 'link_16_flow', 'link_1_flow', 'link_23_flow', 'link_6_flow', 'node_13_demand', 'node_31_demand', 'link_11_flow', 'node_25_pressure', 'node_17_pressure', 'node_25_demand', 'node_22_pressure', 'node_13_pressure', 'node_10_pressure', 'node_3_demand', 'node_7_pressure', 'link_18_flow', 'link_10_flow', 'link_9_flow', 'link_28_flow', 'link_31_flow', 'node_15_demand', 'link_7_flow', 'node_26_pressure', 'link_29_flow', 'link_32_flow', 'node_1_pressure', 'node_21_demand', 'node_17_demand']]\n",
      "starting df shape: (87600, 32)\n",
      "This is training run 3 and has the shape:  (87600, 32)\n",
      "The value of dropped columns is 65\n"
     ]
    },
    {
     "name": "stderr",
     "output_type": "stream",
     "text": [
      "/Users/alexellard/opt/anaconda3/lib/python3.7/site-packages/xgboost/data.py:96: UserWarning: Use subset (sliced data) of np.ndarray is not recommended because it will generate extra copies and increase memory consumption\n",
      "  \"because it will generate extra copies and increase \" +\n"
     ]
    },
    {
     "name": "stdout",
     "output_type": "stream",
     "text": [
      "test y shape : (17520, 1)\n",
      "Inv y shape : (17520, 32)\n",
      "y pred shape : (17520, 1)\n",
      "inv y pred : (17520, 32)\n",
      "Run 3 Mean Absolute Error: 6.663891569089219\n",
      "[['node_28_demand', 'link_17_flow', 'node_30_pressure', 'node_5_demand', 'node_29_demand', 'node_4_pressure', 'node_6_pressure', 'node_25_demand', 'node_8_pressure', 'node_6_demand', 'node_3_pressure', 'link_6_flow', 'link_26_flow', 'node_8_demand', 'link_31_flow', 'link_10_flow', 'node_18_demand', 'link_13_flow', 'node_26_pressure', 'node_12_pressure', 'node_21_pressure', 'node_7_demand', 'node_17_pressure', 'node_13_pressure', 'link_29_flow', 'link_23_flow', 'link_7_flow', 'link_9_flow', 'node_27_pressure', 'link_22_flow', 'node_19_pressure', 'node_1_pressure', 'link_12_flow', 'node_23_pressure', 'link_18_flow', 'node_20_pressure', 'node_4_demand', 'link_20_flow', 'node_26_demand', 'node_16_pressure', 'link_3_flow', 'node_16_demand', 'node_20_demand', 'node_24_demand', 'node_31_pressure', 'link_16_flow', 'node_9_demand', 'node_15_demand', 'link_32_flow', 'node_28_pressure', 'reservoir_demand', 'node_14_demand', 'link_1_flow', 'node_21_demand', 'node_3_demand', 'node_30_demand', 'link_28_flow', 'node_10_pressure', 'node_27_demand', 'link_5_flow', 'node_14_pressure', 'link_21_flow', 'link_14_flow', 'node_15_pressure']]\n",
      "starting df shape: (87600, 32)\n",
      "This is training run 4 and has the shape:  (87600, 32)\n",
      "The value of dropped columns is 65\n"
     ]
    },
    {
     "name": "stderr",
     "output_type": "stream",
     "text": [
      "/Users/alexellard/opt/anaconda3/lib/python3.7/site-packages/xgboost/data.py:96: UserWarning: Use subset (sliced data) of np.ndarray is not recommended because it will generate extra copies and increase memory consumption\n",
      "  \"because it will generate extra copies and increase \" +\n"
     ]
    },
    {
     "name": "stdout",
     "output_type": "stream",
     "text": [
      "test y shape : (17520, 1)\n",
      "Inv y shape : (17520, 32)\n",
      "y pred shape : (17520, 1)\n",
      "inv y pred : (17520, 32)\n",
      "Run 4 Mean Absolute Error: 0.4476112092541546\n",
      "[['node_19_pressure', 'link_5_flow', 'node_23_demand', 'link_7_flow', 'node_11_pressure', 'node_17_pressure', 'link_6_flow', 'node_1_demand', 'node_28_pressure', 'link_23_flow', 'link_16_flow', 'node_10_demand', 'link_17_flow', 'node_23_pressure', 'node_27_demand', 'node_12_demand', 'link_30_flow', 'link_27_flow', 'link_8_flow', 'node_21_pressure', 'node_3_demand', 'link_18_flow', 'node_9_demand', 'node_29_demand', 'node_2_demand', 'link_26_flow', 'node_6_demand', 'link_15_flow', 'node_24_pressure', 'link_11_flow', 'node_20_demand', 'node_8_pressure', 'node_18_demand', 'node_17_demand', 'node_30_pressure', 'node_30_demand', 'node_31_demand', 'node_7_pressure', 'link_24_flow', 'node_24_demand', 'link_13_flow', 'node_26_demand', 'node_21_demand', 'node_20_pressure', 'link_25_flow', 'node_9_pressure', 'link_1_flow', 'link_28_flow', 'node_6_pressure', 'node_16_demand', 'node_3_pressure', 'node_15_pressure', 'node_2_pressure', 'link_31_flow', 'link_14_flow', 'node_4_pressure', 'node_22_pressure', 'node_26_pressure', 'link_12_flow', 'node_8_demand', 'node_5_demand', 'node_27_pressure', 'node_31_pressure', 'node_16_pressure']]\n",
      "starting df shape: (87600, 32)\n",
      "This is training run 5 and has the shape:  (87600, 32)\n",
      "The value of dropped columns is 65\n"
     ]
    },
    {
     "name": "stderr",
     "output_type": "stream",
     "text": [
      "/Users/alexellard/opt/anaconda3/lib/python3.7/site-packages/xgboost/data.py:96: UserWarning: Use subset (sliced data) of np.ndarray is not recommended because it will generate extra copies and increase memory consumption\n",
      "  \"because it will generate extra copies and increase \" +\n"
     ]
    },
    {
     "name": "stdout",
     "output_type": "stream",
     "text": [
      "test y shape : (17520, 1)\n",
      "Inv y shape : (17520, 32)\n",
      "y pred shape : (17520, 1)\n",
      "inv y pred : (17520, 32)\n",
      "Run 5 Mean Absolute Error: 10.061936584900902\n",
      "[['link_24_flow', 'link_23_flow', 'link_1_flow', 'link_15_flow', 'link_10_flow', 'link_5_flow', 'node_12_demand', 'node_2_pressure', 'node_27_pressure', 'link_28_flow', 'node_17_pressure', 'node_14_demand', 'node_28_demand', 'node_6_pressure', 'node_17_demand', 'node_11_demand', 'node_16_demand', 'link_21_flow', 'node_16_pressure', 'node_28_pressure', 'link_30_flow', 'node_9_demand', 'link_12_flow', 'node_23_demand', 'node_25_demand', 'link_31_flow', 'node_8_demand', 'link_27_flow', 'node_2_demand', 'node_13_demand', 'node_27_demand', 'node_12_pressure', 'node_22_pressure', 'node_10_demand', 'node_26_demand', 'node_29_demand', 'link_25_flow', 'node_15_pressure', 'node_20_demand', 'node_23_pressure', 'link_19_flow', 'link_17_flow', 'node_1_pressure', 'node_26_pressure', 'link_32_flow', 'node_31_demand', 'reservoir_pressure', 'link_6_flow', 'link_7_flow', 'node_25_pressure', 'node_6_demand', 'link_26_flow', 'node_11_pressure', 'link_16_flow', 'node_20_pressure', 'node_15_demand', 'link_8_flow', 'node_3_demand', 'node_1_demand', 'reservoir_demand', 'link_14_flow', 'node_19_pressure', 'link_2_flow', 'node_18_pressure']]\n",
      "starting df shape: (87600, 32)\n",
      "This is training run 6 and has the shape:  (87600, 32)\n",
      "The value of dropped columns is 65\n"
     ]
    },
    {
     "name": "stderr",
     "output_type": "stream",
     "text": [
      "/Users/alexellard/opt/anaconda3/lib/python3.7/site-packages/xgboost/data.py:96: UserWarning: Use subset (sliced data) of np.ndarray is not recommended because it will generate extra copies and increase memory consumption\n",
      "  \"because it will generate extra copies and increase \" +\n"
     ]
    },
    {
     "name": "stdout",
     "output_type": "stream",
     "text": [
      "test y shape : (17520, 1)\n",
      "Inv y shape : (17520, 32)\n",
      "y pred shape : (17520, 1)\n",
      "inv y pred : (17520, 32)\n",
      "Run 6 Mean Absolute Error: 0.15118720937667834\n",
      "[['node_11_demand', 'node_8_demand', 'node_7_pressure', 'node_14_pressure', 'node_1_pressure', 'node_11_pressure', 'node_31_pressure', 'node_4_demand', 'link_2_flow', 'node_12_demand', 'link_5_flow', 'node_23_pressure', 'node_9_demand', 'link_18_flow', 'node_22_demand', 'node_6_demand', 'link_22_flow', 'node_10_demand', 'link_27_flow', 'node_13_pressure', 'link_3_flow', 'node_16_demand', 'link_9_flow', 'link_13_flow', 'link_21_flow', 'link_14_flow', 'node_17_demand', 'node_5_demand', 'link_25_flow', 'node_22_pressure', 'node_9_pressure', 'link_31_flow', 'node_4_pressure', 'link_26_flow', 'node_2_pressure', 'link_6_flow', 'link_12_flow', 'node_20_pressure', 'node_3_pressure', 'node_15_pressure', 'link_1_flow', 'link_24_flow', 'link_19_flow', 'node_21_demand', 'link_8_flow', 'node_30_pressure', 'node_19_pressure', 'node_18_pressure', 'node_15_demand', 'node_26_pressure', 'node_26_demand', 'node_25_demand', 'node_24_demand', 'link_17_flow', 'node_24_pressure', 'node_27_pressure', 'link_28_flow', 'node_23_demand', 'node_12_pressure', 'link_29_flow', 'node_5_pressure', 'node_8_pressure', 'link_30_flow', 'node_19_demand']]\n",
      "starting df shape: (87600, 32)\n",
      "This is training run 7 and has the shape:  (87600, 32)\n",
      "The value of dropped columns is 65\n"
     ]
    },
    {
     "name": "stderr",
     "output_type": "stream",
     "text": [
      "/Users/alexellard/opt/anaconda3/lib/python3.7/site-packages/xgboost/data.py:96: UserWarning: Use subset (sliced data) of np.ndarray is not recommended because it will generate extra copies and increase memory consumption\n",
      "  \"because it will generate extra copies and increase \" +\n"
     ]
    },
    {
     "name": "stdout",
     "output_type": "stream",
     "text": [
      "test y shape : (17520, 1)\n",
      "Inv y shape : (17520, 32)\n",
      "y pred shape : (17520, 1)\n",
      "inv y pred : (17520, 32)\n",
      "Run 7 Mean Absolute Error: 6.668467778760442\n",
      "[['node_25_demand', 'link_13_flow', 'node_4_pressure', 'link_7_flow', 'node_14_pressure', 'node_31_demand', 'node_3_pressure', 'node_15_demand', 'link_28_flow', 'node_18_demand', 'node_11_demand', 'node_10_pressure', 'link_9_flow', 'node_7_pressure', 'node_1_demand', 'reservoir_demand', 'node_25_pressure', 'node_31_pressure', 'node_7_demand', 'node_22_pressure', 'node_28_demand', 'node_2_pressure', 'link_21_flow', 'node_30_pressure', 'node_16_pressure', 'link_24_flow', 'node_19_pressure', 'link_17_flow', 'link_6_flow', 'node_2_demand', 'link_8_flow', 'node_11_pressure', 'node_24_pressure', 'node_12_demand', 'link_5_flow', 'node_9_pressure', 'link_30_flow', 'link_26_flow', 'link_22_flow', 'node_29_demand', 'link_3_flow', 'node_22_demand', 'node_8_pressure', 'node_23_demand', 'node_16_demand', 'node_17_pressure', 'link_23_flow', 'node_26_demand', 'link_4_flow', 'node_4_demand', 'node_6_pressure', 'node_17_demand', 'link_12_flow', 'node_6_demand', 'link_14_flow', 'node_8_demand', 'link_25_flow', 'link_32_flow', 'node_30_demand', 'link_1_flow', 'node_5_demand', 'link_20_flow', 'link_31_flow', 'node_20_pressure']]\n",
      "starting df shape: (87600, 32)\n",
      "This is training run 8 and has the shape:  (87600, 32)\n",
      "The value of dropped columns is 65\n"
     ]
    },
    {
     "name": "stderr",
     "output_type": "stream",
     "text": [
      "/Users/alexellard/opt/anaconda3/lib/python3.7/site-packages/xgboost/data.py:96: UserWarning: Use subset (sliced data) of np.ndarray is not recommended because it will generate extra copies and increase memory consumption\n",
      "  \"because it will generate extra copies and increase \" +\n"
     ]
    },
    {
     "name": "stdout",
     "output_type": "stream",
     "text": [
      "test y shape : (17520, 1)\n",
      "Inv y shape : (17520, 32)\n",
      "y pred shape : (17520, 1)\n",
      "inv y pred : (17520, 32)\n",
      "Run 8 Mean Absolute Error: 0.06732950087475376\n",
      "[['node_25_demand', 'node_10_pressure', 'link_17_flow', 'link_14_flow', 'node_8_pressure', 'link_31_flow', 'node_20_demand', 'node_15_demand', 'node_30_demand', 'link_5_flow', 'node_16_pressure', 'link_19_flow', 'link_1_flow', 'node_12_demand', 'node_1_demand', 'link_29_flow', 'link_12_flow', 'node_27_demand', 'node_23_pressure', 'node_14_demand', 'node_5_demand', 'node_19_demand', 'node_14_pressure', 'node_15_pressure', 'link_27_flow', 'node_26_pressure', 'link_11_flow', 'link_22_flow', 'node_24_demand', 'node_21_demand', 'node_11_pressure', 'link_8_flow', 'link_26_flow', 'link_6_flow', 'link_25_flow', 'node_27_pressure', 'link_28_flow', 'node_31_demand', 'node_20_pressure', 'link_4_flow', 'node_13_demand', 'link_21_flow', 'link_9_flow', 'node_26_demand', 'link_7_flow', 'node_8_demand', 'node_3_pressure', 'node_22_demand', 'node_21_pressure', 'link_3_flow', 'node_10_demand', 'node_25_pressure', 'link_15_flow', 'link_13_flow', 'reservoir_demand', 'node_18_demand', 'node_5_pressure', 'node_17_pressure', 'node_2_pressure', 'node_6_demand', 'node_9_pressure', 'link_20_flow', 'node_12_pressure', 'node_13_pressure']]\n",
      "starting df shape: (87600, 32)\n",
      "This is training run 9 and has the shape:  (87600, 32)\n",
      "The value of dropped columns is 65\n"
     ]
    },
    {
     "name": "stderr",
     "output_type": "stream",
     "text": [
      "/Users/alexellard/opt/anaconda3/lib/python3.7/site-packages/xgboost/data.py:96: UserWarning: Use subset (sliced data) of np.ndarray is not recommended because it will generate extra copies and increase memory consumption\n",
      "  \"because it will generate extra copies and increase \" +\n"
     ]
    },
    {
     "name": "stdout",
     "output_type": "stream",
     "text": [
      "test y shape : (17520, 1)\n",
      "Inv y shape : (17520, 32)\n",
      "y pred shape : (17520, 1)\n",
      "inv y pred : (17520, 32)\n",
      "Run 9 Mean Absolute Error: 0.17244236242777075\n",
      "[['link_24_flow', 'node_18_pressure', 'node_24_pressure', 'node_6_pressure', 'link_17_flow', 'node_17_pressure', 'link_13_flow', 'link_14_flow', 'node_13_pressure', 'link_26_flow', 'link_3_flow', 'node_6_demand', 'node_14_pressure', 'node_13_demand', 'node_26_pressure', 'link_16_flow', 'node_5_demand', 'node_10_pressure', 'node_30_pressure', 'link_23_flow', 'node_10_demand', 'node_1_pressure', 'link_18_flow', 'node_14_demand', 'node_30_demand', 'link_1_flow', 'link_21_flow', 'node_3_demand', 'node_11_demand', 'node_2_pressure', 'node_31_demand', 'node_11_pressure', 'node_22_pressure', 'link_19_flow', 'node_8_demand', 'reservoir_demand', 'link_2_flow', 'link_20_flow', 'link_6_flow', 'node_15_demand', 'link_30_flow', 'node_28_pressure', 'node_7_demand', 'node_9_demand', 'node_26_demand', 'node_19_demand', 'link_22_flow', 'node_27_pressure', 'link_5_flow', 'node_28_demand', 'node_16_demand', 'node_12_pressure', 'node_4_demand', 'node_23_demand', 'node_9_pressure', 'reservoir_pressure', 'node_18_demand', 'link_28_flow', 'node_5_pressure', 'node_17_demand', 'link_29_flow', 'node_4_pressure', 'node_12_demand', 'link_10_flow']]\n",
      "starting df shape: (87600, 32)\n",
      "This is training run 10 and has the shape:  (87600, 32)\n",
      "The value of dropped columns is 65\n"
     ]
    },
    {
     "name": "stderr",
     "output_type": "stream",
     "text": [
      "/Users/alexellard/opt/anaconda3/lib/python3.7/site-packages/xgboost/data.py:96: UserWarning: Use subset (sliced data) of np.ndarray is not recommended because it will generate extra copies and increase memory consumption\n",
      "  \"because it will generate extra copies and increase \" +\n"
     ]
    },
    {
     "name": "stdout",
     "output_type": "stream",
     "text": [
      "test y shape : (17520, 1)\n",
      "Inv y shape : (17520, 32)\n",
      "y pred shape : (17520, 1)\n",
      "inv y pred : (17520, 32)\n",
      "Run 10 Mean Absolute Error: 0.3659173636006964\n",
      "[['link_9_flow', 'node_7_demand', 'node_24_pressure', 'node_27_pressure', 'node_30_demand', 'link_18_flow', 'node_14_demand', 'link_25_flow', 'link_16_flow', 'link_8_flow', 'node_26_pressure', 'link_24_flow', 'link_19_flow', 'node_31_demand', 'node_1_demand', 'node_20_demand', 'node_13_pressure', 'node_11_demand', 'node_19_pressure', 'node_17_pressure', 'link_1_flow', 'node_2_pressure', 'node_11_pressure', 'node_19_demand', 'node_28_demand', 'node_2_demand', 'link_30_flow', 'link_6_flow', 'node_14_pressure', 'node_8_pressure', 'node_18_pressure', 'reservoir_pressure', 'link_3_flow', 'link_12_flow', 'node_22_pressure', 'node_27_demand', 'link_32_flow', 'node_16_pressure', 'node_1_pressure', 'node_7_pressure', 'node_24_demand', 'link_20_flow', 'link_27_flow', 'node_4_pressure', 'link_2_flow', 'node_28_pressure', 'link_14_flow', 'node_20_pressure', 'link_11_flow', 'link_10_flow', 'link_28_flow', 'node_13_demand', 'node_6_demand', 'link_23_flow', 'node_3_pressure', 'node_4_demand', 'link_31_flow', 'node_25_pressure', 'node_21_pressure', 'node_21_demand', 'node_3_demand', 'node_12_pressure', 'link_21_flow', 'node_5_demand', 'node_12_demand', 'reservoir_demand', 'link_22_flow', 'link_15_flow', 'node_16_demand', 'link_4_flow']]\n",
      "starting df shape: (87600, 26)\n",
      "This is training run 1 and has the shape:  (87600, 26)\n",
      "The value of dropped columns is 70\n"
     ]
    },
    {
     "name": "stderr",
     "output_type": "stream",
     "text": [
      "/Users/alexellard/opt/anaconda3/lib/python3.7/site-packages/xgboost/data.py:96: UserWarning: Use subset (sliced data) of np.ndarray is not recommended because it will generate extra copies and increase memory consumption\n",
      "  \"because it will generate extra copies and increase \" +\n"
     ]
    },
    {
     "name": "stdout",
     "output_type": "stream",
     "text": [
      "test y shape : (17520, 1)\n",
      "Inv y shape : (17520, 26)\n",
      "y pred shape : (17520, 1)\n",
      "inv y pred : (17520, 26)\n",
      "Run 1 Mean Absolute Error: 0.09902782807869133\n",
      "[['node_25_demand', 'link_2_flow', 'node_6_pressure', 'node_5_pressure', 'link_25_flow', 'node_3_demand', 'node_29_demand', 'node_28_pressure', 'link_15_flow', 'link_1_flow', 'node_16_pressure', 'node_10_pressure', 'link_28_flow', 'node_25_pressure', 'node_31_pressure', 'node_15_pressure', 'node_24_demand', 'link_12_flow', 'node_21_demand', 'node_3_pressure', 'node_31_demand', 'node_16_demand', 'link_16_flow', 'node_17_pressure', 'node_28_demand', 'node_19_pressure', 'node_7_demand', 'node_13_pressure', 'node_4_pressure', 'link_13_flow', 'link_27_flow', 'node_20_demand', 'link_14_flow', 'node_5_demand', 'node_4_demand', 'node_9_demand', 'link_11_flow', 'node_13_demand', 'reservoir_pressure', 'link_5_flow', 'link_29_flow', 'node_18_demand', 'node_2_pressure', 'link_21_flow', 'node_24_pressure', 'link_6_flow', 'node_30_demand', 'link_31_flow', 'node_11_pressure', 'node_17_demand', 'link_19_flow', 'node_26_demand', 'node_6_demand', 'link_10_flow', 'node_1_demand', 'link_7_flow', 'node_22_pressure', 'link_32_flow', 'link_17_flow', 'node_27_pressure', 'node_8_demand', 'reservoir_demand', 'node_21_pressure', 'node_26_pressure', 'node_23_pressure', 'node_19_demand', 'node_10_demand', 'link_30_flow', 'node_15_demand']]\n",
      "starting df shape: (87600, 27)\n",
      "This is training run 2 and has the shape:  (87600, 27)\n",
      "The value of dropped columns is 70\n"
     ]
    },
    {
     "name": "stderr",
     "output_type": "stream",
     "text": [
      "/Users/alexellard/opt/anaconda3/lib/python3.7/site-packages/xgboost/data.py:96: UserWarning: Use subset (sliced data) of np.ndarray is not recommended because it will generate extra copies and increase memory consumption\n",
      "  \"because it will generate extra copies and increase \" +\n"
     ]
    },
    {
     "name": "stdout",
     "output_type": "stream",
     "text": [
      "test y shape : (17520, 1)\n",
      "Inv y shape : (17520, 27)\n",
      "y pred shape : (17520, 1)\n",
      "inv y pred : (17520, 27)\n",
      "Run 2 Mean Absolute Error: 0.2363458288148663\n",
      "[['node_4_demand', 'link_6_flow', 'node_1_demand', 'node_21_pressure', 'node_14_demand', 'node_3_pressure', 'node_9_demand', 'link_20_flow', 'node_26_pressure', 'link_23_flow', 'node_12_demand', 'node_18_demand', 'node_25_demand', 'node_28_pressure', 'link_1_flow', 'node_13_pressure', 'node_4_pressure', 'link_10_flow', 'node_25_pressure', 'node_11_pressure', 'node_22_demand', 'node_10_demand', 'node_2_pressure', 'node_26_demand', 'link_16_flow', 'node_5_pressure', 'node_14_pressure', 'node_18_pressure', 'node_29_demand', 'node_9_pressure', 'node_24_demand', 'link_8_flow', 'node_5_demand', 'node_28_demand', 'node_31_demand', 'link_21_flow', 'reservoir_pressure', 'link_27_flow', 'link_11_flow', 'link_15_flow', 'node_24_pressure', 'node_12_pressure', 'node_17_pressure', 'node_13_demand', 'node_16_pressure', 'node_15_demand', 'link_22_flow', 'node_27_demand', 'link_26_flow', 'link_9_flow', 'link_5_flow', 'node_7_pressure', 'node_27_pressure', 'node_22_pressure', 'node_8_demand', 'node_10_pressure', 'link_4_flow', 'node_2_demand', 'reservoir_demand', 'node_19_demand', 'link_13_flow', 'node_3_demand', 'link_24_flow', 'node_8_pressure', 'node_16_demand', 'node_30_pressure', 'node_23_pressure', 'link_19_flow', 'node_7_demand', 'node_30_demand']]\n",
      "starting df shape: (87600, 26)\n",
      "This is training run 3 and has the shape:  (87600, 26)\n",
      "The value of dropped columns is 70\n"
     ]
    },
    {
     "name": "stderr",
     "output_type": "stream",
     "text": [
      "/Users/alexellard/opt/anaconda3/lib/python3.7/site-packages/xgboost/data.py:96: UserWarning: Use subset (sliced data) of np.ndarray is not recommended because it will generate extra copies and increase memory consumption\n",
      "  \"because it will generate extra copies and increase \" +\n"
     ]
    },
    {
     "name": "stdout",
     "output_type": "stream",
     "text": [
      "test y shape : (17520, 1)\n",
      "Inv y shape : (17520, 26)\n",
      "y pred shape : (17520, 1)\n",
      "inv y pred : (17520, 26)\n",
      "Run 3 Mean Absolute Error: 0.48388179774279827\n",
      "[['link_17_flow', 'node_18_demand', 'node_15_demand', 'node_9_demand', 'node_22_demand', 'node_22_pressure', 'link_14_flow', 'link_4_flow', 'link_27_flow', 'node_21_pressure', 'node_26_demand', 'node_4_pressure', 'node_28_pressure', 'link_18_flow', 'link_28_flow', 'node_5_demand', 'link_26_flow', 'node_2_demand', 'node_8_demand', 'link_7_flow', 'node_25_pressure', 'node_30_demand', 'node_20_demand', 'node_6_pressure', 'node_17_demand', 'node_16_pressure', 'node_5_pressure', 'node_13_demand', 'link_21_flow', 'node_7_pressure', 'link_15_flow', 'node_21_demand', 'node_8_pressure', 'node_26_pressure', 'link_30_flow', 'link_9_flow', 'node_14_demand', 'node_12_demand', 'node_10_pressure', 'node_16_demand', 'node_6_demand', 'link_25_flow', 'node_23_demand', 'node_27_pressure', 'node_17_pressure', 'reservoir_pressure', 'node_28_demand', 'link_12_flow', 'link_11_flow', 'link_2_flow', 'link_8_flow', 'node_3_pressure', 'link_31_flow', 'node_12_pressure', 'node_23_pressure', 'node_18_pressure', 'link_10_flow', 'node_30_pressure', 'link_19_flow', 'node_24_pressure', 'node_2_pressure', 'node_19_pressure', 'reservoir_demand', 'node_19_demand', 'node_27_demand', 'node_31_demand', 'node_9_pressure', 'link_3_flow', 'node_31_pressure', 'link_16_flow']]\n",
      "starting df shape: (87600, 26)\n",
      "This is training run 4 and has the shape:  (87600, 26)\n",
      "The value of dropped columns is 70\n"
     ]
    },
    {
     "name": "stderr",
     "output_type": "stream",
     "text": [
      "/Users/alexellard/opt/anaconda3/lib/python3.7/site-packages/xgboost/data.py:96: UserWarning: Use subset (sliced data) of np.ndarray is not recommended because it will generate extra copies and increase memory consumption\n",
      "  \"because it will generate extra copies and increase \" +\n"
     ]
    },
    {
     "name": "stdout",
     "output_type": "stream",
     "text": [
      "test y shape : (17520, 1)\n",
      "Inv y shape : (17520, 26)\n",
      "y pred shape : (17520, 1)\n",
      "inv y pred : (17520, 26)\n",
      "Run 4 Mean Absolute Error: 0.7655040776564769\n",
      "[['node_2_demand', 'node_4_pressure', 'link_23_flow', 'link_18_flow', 'link_12_flow', 'node_1_demand', 'node_26_demand', 'link_10_flow', 'link_30_flow', 'node_12_demand', 'node_31_pressure', 'node_30_demand', 'link_8_flow', 'node_15_pressure', 'link_17_flow', 'link_19_flow', 'link_11_flow', 'node_9_demand', 'node_15_demand', 'node_22_pressure', 'node_8_demand', 'link_15_flow', 'node_22_demand', 'node_13_demand', 'link_5_flow', 'node_19_pressure', 'node_11_demand', 'node_23_demand', 'node_6_demand', 'node_24_pressure', 'node_1_pressure', 'link_9_flow', 'node_25_pressure', 'link_6_flow', 'node_11_pressure', 'node_9_pressure', 'node_18_pressure', 'node_20_demand', 'link_29_flow', 'node_21_pressure', 'node_10_demand', 'node_21_demand', 'node_7_demand', 'link_14_flow', 'node_6_pressure', 'link_20_flow', 'node_24_demand', 'link_27_flow', 'reservoir_pressure', 'node_4_demand', 'node_7_pressure', 'node_14_demand', 'node_31_demand', 'node_14_pressure', 'node_3_demand', 'node_3_pressure', 'link_31_flow', 'link_16_flow', 'link_7_flow', 'link_1_flow', 'node_27_demand', 'link_13_flow', 'node_25_demand', 'node_26_pressure', 'node_18_demand', 'node_5_pressure', 'node_16_demand', 'link_3_flow', 'node_23_pressure']]\n",
      "starting df shape: (87600, 27)\n",
      "This is training run 5 and has the shape:  (87600, 27)\n",
      "The value of dropped columns is 70\n"
     ]
    },
    {
     "name": "stderr",
     "output_type": "stream",
     "text": [
      "/Users/alexellard/opt/anaconda3/lib/python3.7/site-packages/xgboost/data.py:96: UserWarning: Use subset (sliced data) of np.ndarray is not recommended because it will generate extra copies and increase memory consumption\n",
      "  \"because it will generate extra copies and increase \" +\n"
     ]
    },
    {
     "name": "stdout",
     "output_type": "stream",
     "text": [
      "test y shape : (17520, 1)\n",
      "Inv y shape : (17520, 27)\n",
      "y pred shape : (17520, 1)\n",
      "inv y pred : (17520, 27)\n",
      "Run 5 Mean Absolute Error: 3.008351332472314\n",
      "[['node_28_pressure', 'node_30_pressure', 'node_25_demand', 'node_19_demand', 'node_18_demand', 'link_19_flow', 'node_25_pressure', 'node_11_pressure', 'node_24_pressure', 'node_9_pressure', 'link_25_flow', 'node_30_demand', 'node_24_demand', 'node_10_demand', 'node_16_demand', 'link_27_flow', 'link_22_flow', 'node_14_pressure', 'link_31_flow', 'link_11_flow', 'link_26_flow', 'link_13_flow', 'node_23_pressure', 'link_24_flow', 'node_17_pressure', 'link_2_flow', 'link_1_flow', 'node_31_pressure', 'link_18_flow', 'node_7_demand', 'link_8_flow', 'node_3_pressure', 'node_28_demand', 'node_19_pressure', 'node_13_demand', 'node_26_demand', 'node_17_demand', 'node_1_pressure', 'node_15_pressure', 'link_20_flow', 'node_6_demand', 'node_31_demand', 'node_1_demand', 'link_17_flow', 'link_16_flow', 'node_11_demand', 'node_10_pressure', 'node_6_pressure', 'node_3_demand', 'node_9_demand', 'node_18_pressure', 'node_5_demand', 'node_21_pressure', 'node_21_demand', 'node_29_demand', 'link_6_flow', 'node_16_pressure', 'link_4_flow', 'node_13_pressure', 'link_9_flow', 'node_8_demand', 'node_8_pressure', 'node_15_demand', 'node_20_pressure', 'link_12_flow', 'link_5_flow', 'link_29_flow', 'node_22_demand', 'node_7_pressure']]\n",
      "starting df shape: (87600, 27)\n",
      "This is training run 6 and has the shape:  (87600, 27)\n",
      "The value of dropped columns is 70\n"
     ]
    },
    {
     "name": "stderr",
     "output_type": "stream",
     "text": [
      "/Users/alexellard/opt/anaconda3/lib/python3.7/site-packages/xgboost/data.py:96: UserWarning: Use subset (sliced data) of np.ndarray is not recommended because it will generate extra copies and increase memory consumption\n",
      "  \"because it will generate extra copies and increase \" +\n"
     ]
    },
    {
     "name": "stdout",
     "output_type": "stream",
     "text": [
      "test y shape : (17520, 1)\n",
      "Inv y shape : (17520, 27)\n",
      "y pred shape : (17520, 1)\n",
      "inv y pred : (17520, 27)\n",
      "Run 6 Mean Absolute Error: 7.340713072907972\n",
      "[['node_21_demand', 'link_5_flow', 'node_6_pressure', 'node_28_demand', 'node_18_pressure', 'link_4_flow', 'link_7_flow', 'node_13_demand', 'node_8_pressure', 'node_29_demand', 'node_27_demand', 'link_14_flow', 'node_12_demand', 'link_11_flow', 'link_16_flow', 'link_25_flow', 'node_17_demand', 'node_24_pressure', 'link_18_flow', 'node_25_pressure', 'node_13_pressure', 'node_11_demand', 'link_13_flow', 'node_15_demand', 'node_23_pressure', 'node_19_pressure', 'node_14_pressure', 'node_21_pressure', 'node_12_pressure', 'link_21_flow', 'node_9_demand', 'node_10_pressure', 'link_29_flow', 'node_2_pressure', 'node_26_demand', 'node_17_pressure', 'node_1_demand', 'node_5_pressure', 'link_30_flow', 'node_15_pressure', 'link_24_flow', 'node_19_demand', 'link_1_flow', 'link_23_flow', 'link_28_flow', 'node_27_pressure', 'node_7_pressure', 'link_3_flow', 'node_3_pressure', 'node_25_demand', 'node_8_demand', 'link_2_flow', 'node_30_demand', 'link_26_flow', 'node_16_demand', 'link_8_flow', 'reservoir_pressure', 'node_7_demand', 'node_3_demand', 'link_12_flow', 'node_22_pressure', 'node_9_pressure', 'node_6_demand', 'link_22_flow', 'node_20_pressure', 'node_1_pressure', 'reservoir_demand', 'node_26_pressure', 'link_31_flow']]\n",
      "starting df shape: (87600, 27)\n",
      "This is training run 7 and has the shape:  (87600, 27)\n",
      "The value of dropped columns is 70\n"
     ]
    },
    {
     "name": "stderr",
     "output_type": "stream",
     "text": [
      "/Users/alexellard/opt/anaconda3/lib/python3.7/site-packages/xgboost/data.py:96: UserWarning: Use subset (sliced data) of np.ndarray is not recommended because it will generate extra copies and increase memory consumption\n",
      "  \"because it will generate extra copies and increase \" +\n"
     ]
    },
    {
     "name": "stdout",
     "output_type": "stream",
     "text": [
      "test y shape : (17520, 1)\n",
      "Inv y shape : (17520, 27)\n",
      "y pred shape : (17520, 1)\n",
      "inv y pred : (17520, 27)\n",
      "Run 7 Mean Absolute Error: 0.16557023016395703\n",
      "[['link_32_flow', 'link_1_flow', 'node_20_pressure', 'node_14_demand', 'node_13_demand', 'node_9_pressure', 'link_26_flow', 'node_1_demand', 'node_30_demand', 'link_29_flow', 'node_16_demand', 'node_21_pressure', 'link_10_flow', 'node_18_demand', 'node_10_pressure', 'link_20_flow', 'link_4_flow', 'node_12_pressure', 'node_18_pressure', 'node_8_pressure', 'node_1_pressure', 'link_5_flow', 'link_28_flow', 'node_17_pressure', 'node_28_pressure', 'node_4_demand', 'link_14_flow', 'link_2_flow', 'node_22_pressure', 'link_23_flow', 'link_17_flow', 'node_12_demand', 'node_10_demand', 'node_3_pressure', 'node_11_demand', 'node_16_pressure', 'link_13_flow', 'node_2_demand', 'node_28_demand', 'node_17_demand', 'link_27_flow', 'link_12_flow', 'node_2_pressure', 'node_21_demand', 'link_6_flow', 'link_18_flow', 'link_30_flow', 'node_9_demand', 'node_30_pressure', 'node_26_pressure', 'node_20_demand', 'node_4_pressure', 'node_31_demand', 'node_6_pressure', 'link_19_flow', 'link_3_flow', 'node_14_pressure', 'link_9_flow', 'node_25_demand', 'node_5_pressure', 'link_16_flow', 'node_19_demand', 'node_7_demand', 'node_8_demand', 'link_31_flow', 'node_27_demand', 'node_6_demand', 'node_3_demand', 'node_31_pressure']]\n",
      "starting df shape: (87600, 27)\n",
      "This is training run 8 and has the shape:  (87600, 27)\n",
      "The value of dropped columns is 70\n"
     ]
    },
    {
     "name": "stderr",
     "output_type": "stream",
     "text": [
      "/Users/alexellard/opt/anaconda3/lib/python3.7/site-packages/xgboost/data.py:96: UserWarning: Use subset (sliced data) of np.ndarray is not recommended because it will generate extra copies and increase memory consumption\n",
      "  \"because it will generate extra copies and increase \" +\n"
     ]
    },
    {
     "name": "stdout",
     "output_type": "stream",
     "text": [
      "test y shape : (17520, 1)\n",
      "Inv y shape : (17520, 27)\n",
      "y pred shape : (17520, 1)\n",
      "inv y pred : (17520, 27)\n",
      "Run 8 Mean Absolute Error: 9.825292484251285\n",
      "[['link_10_flow', 'link_3_flow', 'node_17_pressure', 'node_5_demand', 'node_6_pressure', 'node_3_pressure', 'node_25_pressure', 'node_4_pressure', 'node_21_demand', 'node_18_demand', 'node_31_pressure', 'link_1_flow', 'reservoir_pressure', 'node_24_pressure', 'node_13_demand', 'node_7_demand', 'link_24_flow', 'node_8_demand', 'link_23_flow', 'node_18_pressure', 'link_31_flow', 'node_26_pressure', 'node_31_demand', 'link_11_flow', 'node_14_pressure', 'link_32_flow', 'node_21_pressure', 'link_8_flow', 'node_30_pressure', 'link_15_flow', 'reservoir_demand', 'link_26_flow', 'node_12_demand', 'link_2_flow', 'node_11_pressure', 'node_13_pressure', 'node_1_demand', 'node_20_demand', 'link_29_flow', 'link_22_flow', 'link_16_flow', 'node_9_pressure', 'node_30_demand', 'node_22_pressure', 'node_14_demand', 'node_23_demand', 'node_27_pressure', 'link_27_flow', 'link_13_flow', 'link_30_flow', 'link_17_flow', 'node_17_demand', 'link_9_flow', 'node_15_pressure', 'link_18_flow', 'node_28_pressure', 'link_19_flow', 'link_25_flow', 'link_6_flow', 'node_15_demand', 'link_7_flow', 'node_23_pressure', 'node_25_demand', 'node_27_demand', 'link_14_flow', 'node_2_demand', 'node_29_demand', 'node_20_pressure', 'link_21_flow']]\n",
      "starting df shape: (87600, 27)\n",
      "This is training run 9 and has the shape:  (87600, 27)\n",
      "The value of dropped columns is 70\n"
     ]
    },
    {
     "name": "stderr",
     "output_type": "stream",
     "text": [
      "/Users/alexellard/opt/anaconda3/lib/python3.7/site-packages/xgboost/data.py:96: UserWarning: Use subset (sliced data) of np.ndarray is not recommended because it will generate extra copies and increase memory consumption\n",
      "  \"because it will generate extra copies and increase \" +\n"
     ]
    },
    {
     "name": "stdout",
     "output_type": "stream",
     "text": [
      "test y shape : (17520, 1)\n",
      "Inv y shape : (17520, 27)\n",
      "y pred shape : (17520, 1)\n",
      "inv y pred : (17520, 27)\n",
      "Run 9 Mean Absolute Error: 0.15134275157309487\n",
      "[['link_28_flow', 'link_5_flow', 'node_16_pressure', 'node_23_pressure', 'node_7_pressure', 'node_29_demand', 'link_6_flow', 'node_20_demand', 'reservoir_demand', 'node_16_demand', 'node_19_demand', 'link_29_flow', 'node_19_pressure', 'link_17_flow', 'node_8_pressure', 'node_2_pressure', 'node_1_pressure', 'link_22_flow', 'node_4_demand', 'link_25_flow', 'node_10_demand', 'link_27_flow', 'node_4_pressure', 'link_12_flow', 'link_11_flow', 'node_27_pressure', 'node_21_demand', 'node_15_pressure', 'link_16_flow', 'node_27_demand', 'node_2_demand', 'node_17_pressure', 'node_8_demand', 'node_18_pressure', 'node_1_demand', 'link_7_flow', 'node_12_pressure', 'link_30_flow', 'node_20_pressure', 'node_3_demand', 'link_2_flow', 'node_30_pressure', 'node_28_demand', 'link_13_flow', 'node_18_demand', 'node_23_demand', 'node_15_demand', 'node_26_pressure', 'node_24_demand', 'node_30_demand', 'link_32_flow', 'reservoir_pressure', 'node_3_pressure', 'node_6_pressure', 'node_17_demand', 'link_23_flow', 'node_21_pressure', 'link_26_flow', 'link_9_flow', 'node_7_demand', 'node_25_pressure', 'node_11_demand', 'link_20_flow', 'node_22_pressure', 'node_13_demand', 'link_4_flow', 'node_22_demand', 'link_21_flow', 'node_24_pressure', 'node_14_pressure']]\n",
      "starting df shape: (87600, 26)\n",
      "This is training run 10 and has the shape:  (87600, 26)\n",
      "The value of dropped columns is 70\n"
     ]
    },
    {
     "name": "stderr",
     "output_type": "stream",
     "text": [
      "/Users/alexellard/opt/anaconda3/lib/python3.7/site-packages/xgboost/data.py:96: UserWarning: Use subset (sliced data) of np.ndarray is not recommended because it will generate extra copies and increase memory consumption\n",
      "  \"because it will generate extra copies and increase \" +\n"
     ]
    },
    {
     "name": "stdout",
     "output_type": "stream",
     "text": [
      "test y shape : (17520, 1)\n",
      "Inv y shape : (17520, 26)\n",
      "y pred shape : (17520, 1)\n",
      "inv y pred : (17520, 26)\n",
      "Run 10 Mean Absolute Error: 0.270361927718225\n",
      "[['link_24_flow', 'node_11_pressure', 'node_15_pressure', 'node_3_pressure', 'link_31_flow', 'node_5_demand', 'node_29_demand', 'node_10_pressure', 'link_28_flow', 'node_8_demand', 'link_13_flow', 'node_4_demand', 'node_30_pressure', 'link_2_flow', 'node_14_demand', 'node_6_demand', 'node_7_demand', 'link_6_flow', 'node_28_pressure', 'node_1_pressure', 'link_12_flow', 'node_6_pressure', 'node_2_pressure', 'link_17_flow', 'node_28_demand', 'link_21_flow', 'node_12_demand', 'node_23_pressure', 'node_13_demand', 'node_9_demand', 'link_20_flow', 'node_12_pressure', 'node_8_pressure', 'node_21_pressure', 'node_19_pressure', 'node_21_demand', 'node_16_demand', 'link_23_flow', 'node_15_demand', 'node_25_demand', 'node_13_pressure', 'link_5_flow', 'node_26_pressure', 'node_18_pressure', 'link_15_flow', 'node_27_demand', 'node_18_demand', 'link_1_flow', 'link_19_flow', 'node_17_pressure', 'link_9_flow', 'link_26_flow', 'node_23_demand', 'link_25_flow', 'node_3_demand', 'link_4_flow', 'node_27_pressure', 'node_11_demand', 'node_24_pressure', 'node_19_demand', 'node_7_pressure', 'node_30_demand', 'link_29_flow', 'link_30_flow', 'node_16_pressure', 'node_5_pressure', 'node_17_demand', 'node_4_pressure', 'reservoir_pressure', 'link_32_flow', 'node_22_pressure', 'link_16_flow', 'node_20_pressure', 'node_2_demand']]\n",
      "starting df shape: (87600, 22)\n",
      "This is training run 1 and has the shape:  (87600, 22)\n",
      "The value of dropped columns is 75\n"
     ]
    },
    {
     "name": "stderr",
     "output_type": "stream",
     "text": [
      "/Users/alexellard/opt/anaconda3/lib/python3.7/site-packages/xgboost/data.py:96: UserWarning: Use subset (sliced data) of np.ndarray is not recommended because it will generate extra copies and increase memory consumption\n",
      "  \"because it will generate extra copies and increase \" +\n"
     ]
    },
    {
     "name": "stdout",
     "output_type": "stream",
     "text": [
      "test y shape : (17520, 1)\n",
      "Inv y shape : (17520, 22)\n",
      "y pred shape : (17520, 1)\n",
      "inv y pred : (17520, 22)\n",
      "Run 1 Mean Absolute Error: 6.823363612930718\n",
      "[['link_3_flow', 'node_19_demand', 'node_6_pressure', 'node_25_pressure', 'link_2_flow', 'node_5_demand', 'node_15_demand', 'link_26_flow', 'node_3_pressure', 'link_8_flow', 'node_11_pressure', 'node_18_pressure', 'link_9_flow', 'node_22_demand', 'link_5_flow', 'node_12_pressure', 'node_7_pressure', 'node_21_pressure', 'node_9_pressure', 'link_18_flow', 'node_20_pressure', 'node_16_demand', 'node_28_demand', 'link_22_flow', 'node_13_demand', 'link_11_flow', 'node_27_demand', 'link_32_flow', 'node_1_demand', 'node_31_pressure', 'node_19_pressure', 'link_23_flow', 'link_15_flow', 'node_24_demand', 'node_21_demand', 'node_30_pressure', 'link_6_flow', 'link_27_flow', 'node_17_demand', 'node_20_demand', 'node_16_pressure', 'node_7_demand', 'node_1_pressure', 'reservoir_pressure', 'link_16_flow', 'node_3_demand', 'node_15_pressure', 'link_14_flow', 'node_27_pressure', 'node_28_pressure', 'node_23_demand', 'node_2_demand', 'node_11_demand', 'node_8_demand', 'link_31_flow', 'node_13_pressure', 'node_22_pressure', 'link_25_flow', 'link_21_flow', 'node_12_demand', 'node_23_pressure', 'node_30_demand', 'reservoir_demand', 'link_20_flow', 'link_28_flow', 'node_14_demand', 'link_12_flow', 'link_4_flow', 'node_24_pressure', 'link_7_flow', 'node_18_demand', 'link_24_flow', 'node_5_pressure', 'node_4_demand', 'node_8_pressure']]\n",
      "starting df shape: (87600, 21)\n",
      "This is training run 2 and has the shape:  (87600, 21)\n",
      "The value of dropped columns is 75\n"
     ]
    },
    {
     "name": "stderr",
     "output_type": "stream",
     "text": [
      "/Users/alexellard/opt/anaconda3/lib/python3.7/site-packages/xgboost/data.py:96: UserWarning: Use subset (sliced data) of np.ndarray is not recommended because it will generate extra copies and increase memory consumption\n",
      "  \"because it will generate extra copies and increase \" +\n"
     ]
    },
    {
     "name": "stdout",
     "output_type": "stream",
     "text": [
      "test y shape : (17520, 1)\n",
      "Inv y shape : (17520, 21)\n",
      "y pred shape : (17520, 1)\n",
      "inv y pred : (17520, 21)\n",
      "Run 2 Mean Absolute Error: 0.8207046175124866\n",
      "[['link_24_flow', 'node_6_pressure', 'node_18_pressure', 'node_4_pressure', 'link_8_flow', 'node_16_demand', 'node_23_demand', 'node_17_demand', 'node_20_pressure', 'link_4_flow', 'node_15_pressure', 'link_11_flow', 'link_2_flow', 'link_13_flow', 'link_20_flow', 'node_30_demand', 'link_12_flow', 'node_12_demand', 'node_9_demand', 'node_9_pressure', 'node_8_demand', 'node_2_pressure', 'link_14_flow', 'node_15_demand', 'node_31_demand', 'node_24_demand', 'link_7_flow', 'node_20_demand', 'node_7_demand', 'node_22_demand', 'link_6_flow', 'node_3_demand', 'node_22_pressure', 'node_11_demand', 'node_7_pressure', 'link_32_flow', 'node_29_demand', 'node_1_demand', 'link_31_flow', 'node_13_demand', 'node_10_pressure', 'node_4_demand', 'node_1_pressure', 'node_26_demand', 'link_27_flow', 'node_2_demand', 'node_13_pressure', 'link_21_flow', 'link_19_flow', 'link_23_flow', 'link_17_flow', 'node_5_demand', 'link_22_flow', 'node_23_pressure', 'node_25_demand', 'node_19_pressure', 'node_19_demand', 'node_24_pressure', 'link_26_flow', 'node_14_pressure', 'node_10_demand', 'link_9_flow', 'node_18_demand', 'node_21_pressure', 'node_11_pressure', 'node_21_demand', 'link_1_flow', 'reservoir_demand', 'node_30_pressure', 'node_5_pressure', 'node_27_pressure', 'node_16_pressure', 'link_30_flow', 'node_27_demand']]\n",
      "starting df shape: (87600, 22)\n",
      "This is training run 3 and has the shape:  (87600, 22)\n",
      "The value of dropped columns is 75\n"
     ]
    },
    {
     "name": "stderr",
     "output_type": "stream",
     "text": [
      "/Users/alexellard/opt/anaconda3/lib/python3.7/site-packages/xgboost/data.py:96: UserWarning: Use subset (sliced data) of np.ndarray is not recommended because it will generate extra copies and increase memory consumption\n",
      "  \"because it will generate extra copies and increase \" +\n"
     ]
    },
    {
     "name": "stdout",
     "output_type": "stream",
     "text": [
      "test y shape : (17520, 1)\n",
      "Inv y shape : (17520, 22)\n",
      "y pred shape : (17520, 1)\n",
      "inv y pred : (17520, 22)\n",
      "Run 3 Mean Absolute Error: 0.39429604007588503\n",
      "[['node_6_demand', 'node_8_pressure', 'node_15_pressure', 'link_3_flow', 'node_22_demand', 'node_1_pressure', 'node_11_demand', 'node_19_pressure', 'link_31_flow', 'link_14_flow', 'link_17_flow', 'node_24_demand', 'link_28_flow', 'link_24_flow', 'node_2_pressure', 'node_4_demand', 'node_11_pressure', 'node_14_demand', 'node_9_pressure', 'node_1_demand', 'node_8_demand', 'node_12_pressure', 'node_13_pressure', 'node_16_pressure', 'link_12_flow', 'node_2_demand', 'node_27_pressure', 'node_4_pressure', 'node_9_demand', 'link_21_flow', 'node_5_demand', 'node_3_demand', 'link_8_flow', 'node_17_demand', 'node_19_demand', 'node_31_pressure', 'node_16_demand', 'reservoir_demand', 'reservoir_pressure', 'link_19_flow', 'link_32_flow', 'link_18_flow', 'node_13_demand', 'link_27_flow', 'node_20_pressure', 'node_10_demand', 'node_28_demand', 'link_15_flow', 'node_10_pressure', 'node_22_pressure', 'node_20_demand', 'node_18_demand', 'node_29_demand', 'link_7_flow', 'link_20_flow', 'node_14_pressure', 'node_30_pressure', 'node_25_demand', 'link_30_flow', 'node_15_demand', 'link_4_flow', 'node_25_pressure', 'link_10_flow', 'node_18_pressure', 'node_23_pressure', 'node_17_pressure', 'link_26_flow', 'node_30_demand', 'node_26_demand', 'link_23_flow', 'link_11_flow', 'link_6_flow', 'link_22_flow', 'node_21_pressure', 'link_29_flow']]\n",
      "starting df shape: (87600, 21)\n",
      "This is training run 4 and has the shape:  (87600, 21)\n",
      "The value of dropped columns is 75\n"
     ]
    },
    {
     "name": "stderr",
     "output_type": "stream",
     "text": [
      "/Users/alexellard/opt/anaconda3/lib/python3.7/site-packages/xgboost/data.py:96: UserWarning: Use subset (sliced data) of np.ndarray is not recommended because it will generate extra copies and increase memory consumption\n",
      "  \"because it will generate extra copies and increase \" +\n"
     ]
    },
    {
     "name": "stdout",
     "output_type": "stream",
     "text": [
      "test y shape : (17520, 1)\n",
      "Inv y shape : (17520, 21)\n",
      "y pred shape : (17520, 1)\n",
      "inv y pred : (17520, 21)\n",
      "Run 4 Mean Absolute Error: 0.2225460081109218\n",
      "[['link_25_flow', 'node_9_pressure', 'node_27_pressure', 'node_12_pressure', 'link_9_flow', 'node_17_pressure', 'node_28_pressure', 'link_18_flow', 'node_16_demand', 'link_20_flow', 'node_21_pressure', 'link_10_flow', 'link_26_flow', 'node_8_demand', 'link_31_flow', 'node_14_demand', 'node_6_pressure', 'node_17_demand', 'node_10_demand', 'node_8_pressure', 'link_11_flow', 'node_14_pressure', 'node_30_demand', 'node_1_demand', 'node_6_demand', 'node_3_demand', 'node_30_pressure', 'node_15_pressure', 'link_32_flow', 'node_7_pressure', 'node_12_demand', 'node_23_pressure', 'node_9_demand', 'node_11_demand', 'link_24_flow', 'reservoir_pressure', 'node_5_demand', 'node_13_pressure', 'link_15_flow', 'node_4_demand', 'node_4_pressure', 'node_2_pressure', 'node_15_demand', 'link_5_flow', 'link_12_flow', 'node_29_demand', 'link_17_flow', 'node_31_pressure', 'node_3_pressure', 'link_6_flow', 'node_25_pressure', 'link_1_flow', 'node_26_demand', 'node_27_demand', 'node_22_demand', 'node_19_pressure', 'node_20_pressure', 'node_10_pressure', 'link_22_flow', 'link_8_flow', 'link_4_flow', 'node_22_pressure', 'node_31_demand', 'link_28_flow', 'node_18_pressure', 'node_20_demand', 'node_23_demand', 'node_24_pressure', 'node_19_demand', 'link_19_flow', 'link_7_flow', 'link_13_flow', 'link_16_flow', 'link_14_flow']]\n",
      "starting df shape: (87600, 22)\n",
      "This is training run 5 and has the shape:  (87600, 22)\n",
      "The value of dropped columns is 75\n"
     ]
    },
    {
     "name": "stderr",
     "output_type": "stream",
     "text": [
      "/Users/alexellard/opt/anaconda3/lib/python3.7/site-packages/xgboost/data.py:96: UserWarning: Use subset (sliced data) of np.ndarray is not recommended because it will generate extra copies and increase memory consumption\n",
      "  \"because it will generate extra copies and increase \" +\n"
     ]
    },
    {
     "name": "stdout",
     "output_type": "stream",
     "text": [
      "test y shape : (17520, 1)\n",
      "Inv y shape : (17520, 22)\n",
      "y pred shape : (17520, 1)\n",
      "inv y pred : (17520, 22)\n",
      "Run 5 Mean Absolute Error: 10.770932703388857\n",
      "[['node_19_demand', 'node_20_pressure', 'node_27_demand', 'reservoir_pressure', 'node_6_pressure', 'node_17_demand', 'node_3_demand', 'link_22_flow', 'link_20_flow', 'link_31_flow', 'node_18_pressure', 'link_4_flow', 'node_6_demand', 'node_14_pressure', 'node_26_pressure', 'node_31_pressure', 'node_7_demand', 'node_21_demand', 'link_11_flow', 'link_9_flow', 'node_23_demand', 'node_5_pressure', 'link_5_flow', 'node_4_pressure', 'node_9_pressure', 'link_18_flow', 'link_3_flow', 'node_13_demand', 'link_15_flow', 'node_22_demand', 'link_10_flow', 'node_11_pressure', 'node_30_demand', 'node_1_demand', 'node_16_demand', 'node_28_pressure', 'link_12_flow', 'node_12_pressure', 'node_25_pressure', 'node_11_demand', 'node_14_demand', 'node_2_pressure', 'node_15_demand', 'node_21_pressure', 'link_16_flow', 'link_7_flow', 'node_10_pressure', 'node_25_demand', 'link_2_flow', 'node_2_demand', 'node_26_demand', 'link_23_flow', 'link_6_flow', 'node_23_pressure', 'link_26_flow', 'link_27_flow', 'node_9_demand', 'node_19_pressure', 'node_20_demand', 'node_22_pressure', 'link_21_flow', 'node_8_demand', 'node_15_pressure', 'link_28_flow', 'link_24_flow', 'node_13_pressure', 'link_19_flow', 'node_5_demand', 'link_8_flow', 'link_13_flow', 'node_31_demand', 'node_24_pressure', 'link_25_flow', 'link_29_flow']]\n",
      "starting df shape: (87600, 22)\n",
      "This is training run 6 and has the shape:  (87600, 22)\n",
      "The value of dropped columns is 75\n"
     ]
    },
    {
     "name": "stderr",
     "output_type": "stream",
     "text": [
      "/Users/alexellard/opt/anaconda3/lib/python3.7/site-packages/xgboost/data.py:96: UserWarning: Use subset (sliced data) of np.ndarray is not recommended because it will generate extra copies and increase memory consumption\n",
      "  \"because it will generate extra copies and increase \" +\n"
     ]
    },
    {
     "name": "stdout",
     "output_type": "stream",
     "text": [
      "test y shape : (17520, 1)\n",
      "Inv y shape : (17520, 22)\n",
      "y pred shape : (17520, 1)\n",
      "inv y pred : (17520, 22)\n",
      "Run 6 Mean Absolute Error: 4.573231481698784\n",
      "[['node_14_pressure', 'node_19_demand', 'link_24_flow', 'node_12_demand', 'node_9_demand', 'node_22_demand', 'reservoir_pressure', 'node_11_pressure', 'link_23_flow', 'node_13_pressure', 'link_27_flow', 'link_10_flow', 'node_16_pressure', 'node_23_pressure', 'node_21_demand', 'node_14_demand', 'node_16_demand', 'node_20_demand', 'link_29_flow', 'link_20_flow', 'node_30_pressure', 'link_19_flow', 'node_1_pressure', 'link_1_flow', 'link_28_flow', 'node_26_pressure', 'link_31_flow', 'link_11_flow', 'link_21_flow', 'node_18_demand', 'node_19_pressure', 'link_17_flow', 'link_13_flow', 'node_12_pressure', 'link_25_flow', 'node_6_demand', 'node_27_demand', 'link_14_flow', 'node_4_pressure', 'node_10_pressure', 'node_23_demand', 'node_1_demand', 'node_26_demand', 'node_25_pressure', 'node_15_pressure', 'link_30_flow', 'node_2_pressure', 'node_30_demand', 'link_32_flow', 'node_18_pressure', 'node_15_demand', 'link_6_flow', 'link_2_flow', 'link_26_flow', 'link_18_flow', 'node_11_demand', 'link_9_flow', 'node_28_demand', 'node_20_pressure', 'node_8_pressure', 'node_2_demand', 'node_5_pressure', 'node_22_pressure', 'node_24_pressure', 'node_31_pressure', 'link_16_flow', 'link_4_flow', 'link_22_flow', 'node_21_pressure', 'node_7_demand', 'link_5_flow', 'node_24_demand', 'node_3_pressure', 'reservoir_demand']]\n",
      "starting df shape: (87600, 22)\n",
      "This is training run 7 and has the shape:  (87600, 22)\n",
      "The value of dropped columns is 75\n"
     ]
    },
    {
     "name": "stderr",
     "output_type": "stream",
     "text": [
      "/Users/alexellard/opt/anaconda3/lib/python3.7/site-packages/xgboost/data.py:96: UserWarning: Use subset (sliced data) of np.ndarray is not recommended because it will generate extra copies and increase memory consumption\n",
      "  \"because it will generate extra copies and increase \" +\n"
     ]
    },
    {
     "name": "stdout",
     "output_type": "stream",
     "text": [
      "test y shape : (17520, 1)\n",
      "Inv y shape : (17520, 22)\n",
      "y pred shape : (17520, 1)\n",
      "inv y pred : (17520, 22)\n",
      "Run 7 Mean Absolute Error: 0.057768384806220284\n",
      "[['node_14_demand', 'node_11_demand', 'link_28_flow', 'node_8_demand', 'link_9_flow', 'link_6_flow', 'node_24_demand', 'node_22_pressure', 'link_2_flow', 'node_23_demand', 'link_10_flow', 'node_16_pressure', 'link_24_flow', 'link_13_flow', 'node_25_demand', 'link_11_flow', 'link_3_flow', 'link_18_flow', 'node_27_demand', 'link_19_flow', 'node_18_demand', 'node_15_demand', 'node_10_demand', 'link_7_flow', 'node_28_demand', 'node_25_pressure', 'node_15_pressure', 'link_22_flow', 'link_16_flow', 'reservoir_demand', 'node_12_demand', 'node_7_pressure', 'link_26_flow', 'link_5_flow', 'node_4_pressure', 'node_9_pressure', 'link_17_flow', 'node_3_pressure', 'link_14_flow', 'node_12_pressure', 'node_20_pressure', 'node_30_demand', 'link_21_flow', 'node_11_pressure', 'node_27_pressure', 'node_16_demand', 'node_10_pressure', 'node_8_pressure', 'node_13_pressure', 'node_31_pressure', 'node_7_demand', 'node_2_demand', 'node_18_pressure', 'link_20_flow', 'reservoir_pressure', 'link_31_flow', 'node_29_demand', 'node_5_pressure', 'link_27_flow', 'node_1_demand', 'node_28_pressure', 'node_17_pressure', 'link_30_flow', 'link_25_flow', 'link_12_flow', 'node_6_demand', 'node_22_demand', 'node_21_pressure', 'node_23_pressure', 'link_8_flow', 'node_13_demand', 'node_31_demand', 'link_15_flow', 'node_2_pressure']]\n",
      "starting df shape: (87600, 22)\n",
      "This is training run 8 and has the shape:  (87600, 22)\n",
      "The value of dropped columns is 75\n"
     ]
    },
    {
     "name": "stderr",
     "output_type": "stream",
     "text": [
      "/Users/alexellard/opt/anaconda3/lib/python3.7/site-packages/xgboost/data.py:96: UserWarning: Use subset (sliced data) of np.ndarray is not recommended because it will generate extra copies and increase memory consumption\n",
      "  \"because it will generate extra copies and increase \" +\n"
     ]
    },
    {
     "name": "stdout",
     "output_type": "stream",
     "text": [
      "test y shape : (17520, 1)\n",
      "Inv y shape : (17520, 22)\n",
      "y pred shape : (17520, 1)\n",
      "inv y pred : (17520, 22)\n",
      "Run 8 Mean Absolute Error: 0.04674081488929812\n",
      "[['node_7_demand', 'node_19_demand', 'node_18_pressure', 'node_10_pressure', 'link_5_flow', 'node_3_pressure', 'link_13_flow', 'node_12_pressure', 'node_8_pressure', 'link_15_flow', 'node_22_demand', 'node_1_pressure', 'node_9_pressure', 'node_7_pressure', 'node_11_pressure', 'node_30_demand', 'node_24_pressure', 'link_20_flow', 'link_12_flow', 'node_10_demand', 'node_9_demand', 'node_23_demand', 'link_11_flow', 'link_2_flow', 'node_22_pressure', 'node_2_demand', 'node_21_pressure', 'link_26_flow', 'node_13_demand', 'node_23_pressure', 'link_32_flow', 'node_12_demand', 'link_16_flow', 'node_20_pressure', 'node_26_pressure', 'link_4_flow', 'node_14_pressure', 'link_3_flow', 'link_7_flow', 'link_25_flow', 'link_28_flow', 'node_6_pressure', 'node_21_demand', 'node_31_demand', 'link_8_flow', 'node_4_demand', 'node_25_demand', 'link_6_flow', 'node_28_demand', 'link_10_flow', 'link_29_flow', 'node_3_demand', 'node_26_demand', 'node_27_pressure', 'link_31_flow', 'node_16_pressure', 'node_8_demand', 'node_1_demand', 'node_20_demand', 'node_31_pressure', 'node_11_demand', 'link_27_flow', 'node_29_demand', 'node_25_pressure', 'node_18_demand', 'node_17_demand', 'node_4_pressure', 'node_17_pressure', 'link_17_flow', 'link_24_flow', 'link_18_flow', 'link_1_flow', 'node_28_pressure', 'node_14_demand']]\n",
      "starting df shape: (87600, 22)\n",
      "This is training run 9 and has the shape:  (87600, 22)\n",
      "The value of dropped columns is 75\n"
     ]
    },
    {
     "name": "stderr",
     "output_type": "stream",
     "text": [
      "/Users/alexellard/opt/anaconda3/lib/python3.7/site-packages/xgboost/data.py:96: UserWarning: Use subset (sliced data) of np.ndarray is not recommended because it will generate extra copies and increase memory consumption\n",
      "  \"because it will generate extra copies and increase \" +\n"
     ]
    },
    {
     "name": "stdout",
     "output_type": "stream",
     "text": [
      "test y shape : (17520, 1)\n",
      "Inv y shape : (17520, 22)\n",
      "y pred shape : (17520, 1)\n",
      "inv y pred : (17520, 22)\n",
      "Run 9 Mean Absolute Error: 3.9256268053746997\n",
      "[['link_20_flow', 'link_21_flow', 'node_6_pressure', 'node_9_demand', 'node_18_pressure', 'link_3_flow', 'node_25_pressure', 'link_16_flow', 'node_4_demand', 'node_23_demand', 'node_19_demand', 'node_13_pressure', 'node_15_demand', 'node_11_demand', 'node_8_pressure', 'reservoir_pressure', 'node_12_demand', 'node_13_demand', 'node_11_pressure', 'node_10_pressure', 'link_6_flow', 'node_1_pressure', 'node_8_demand', 'link_10_flow', 'link_13_flow', 'link_15_flow', 'link_17_flow', 'link_2_flow', 'node_20_demand', 'node_2_demand', 'link_31_flow', 'node_26_demand', 'link_5_flow', 'node_6_demand', 'node_3_demand', 'node_21_pressure', 'node_17_demand', 'node_2_pressure', 'node_20_pressure', 'link_11_flow', 'node_7_pressure', 'node_3_pressure', 'node_19_pressure', 'node_30_pressure', 'link_22_flow', 'link_29_flow', 'node_7_demand', 'node_17_pressure', 'node_23_pressure', 'node_5_demand', 'node_1_demand', 'link_12_flow', 'link_9_flow', 'node_27_demand', 'link_27_flow', 'node_22_pressure', 'node_27_pressure', 'reservoir_demand', 'link_19_flow', 'node_24_pressure', 'node_16_demand', 'link_7_flow', 'node_10_demand', 'node_15_pressure', 'link_18_flow', 'node_14_demand', 'node_9_pressure', 'node_16_pressure', 'link_26_flow', 'link_14_flow', 'node_14_pressure', 'link_32_flow', 'node_30_demand', 'node_25_demand']]\n",
      "starting df shape: (87600, 22)\n",
      "This is training run 10 and has the shape:  (87600, 22)\n",
      "The value of dropped columns is 75\n"
     ]
    },
    {
     "name": "stderr",
     "output_type": "stream",
     "text": [
      "/Users/alexellard/opt/anaconda3/lib/python3.7/site-packages/xgboost/data.py:96: UserWarning: Use subset (sliced data) of np.ndarray is not recommended because it will generate extra copies and increase memory consumption\n",
      "  \"because it will generate extra copies and increase \" +\n"
     ]
    },
    {
     "name": "stdout",
     "output_type": "stream",
     "text": [
      "test y shape : (17520, 1)\n",
      "Inv y shape : (17520, 22)\n",
      "y pred shape : (17520, 1)\n",
      "inv y pred : (17520, 22)\n",
      "Run 10 Mean Absolute Error: 0.015145095311350828\n",
      "[['node_18_pressure', 'node_3_demand', 'link_5_flow', 'node_15_pressure', 'node_10_demand', 'node_17_pressure', 'link_9_flow', 'node_19_pressure', 'link_20_flow', 'link_28_flow', 'node_6_demand', 'link_10_flow', 'link_3_flow', 'node_31_pressure', 'node_1_pressure', 'node_24_pressure', 'node_3_pressure', 'link_19_flow', 'reservoir_demand', 'link_25_flow', 'node_2_pressure', 'node_2_demand', 'node_29_demand', 'node_27_demand', 'link_24_flow', 'node_13_demand', 'link_22_flow', 'node_31_demand', 'node_6_pressure', 'reservoir_pressure', 'link_2_flow', 'link_27_flow', 'node_7_pressure', 'node_7_demand', 'link_18_flow', 'node_23_demand', 'link_29_flow', 'link_21_flow', 'link_4_flow', 'node_11_demand', 'node_22_demand', 'link_12_flow', 'node_21_demand', 'node_22_pressure', 'node_12_demand', 'node_14_demand', 'node_11_pressure', 'node_26_pressure', 'node_9_demand', 'link_17_flow', 'link_23_flow', 'node_20_demand', 'node_24_demand', 'link_32_flow', 'link_14_flow', 'node_14_pressure', 'node_19_demand', 'node_21_pressure', 'node_9_pressure', 'node_13_pressure', 'link_8_flow', 'node_27_pressure', 'node_8_demand', 'node_1_demand', 'link_31_flow', 'node_18_demand', 'node_4_pressure', 'link_1_flow', 'link_6_flow', 'node_10_pressure', 'node_25_pressure', 'link_15_flow', 'node_12_pressure', 'node_16_demand', 'node_28_demand', 'node_17_demand', 'node_30_pressure', 'node_23_pressure', 'link_16_flow', 'node_26_demand']]\n",
      "starting df shape: (87600, 16)\n",
      "This is training run 1 and has the shape:  (87600, 16)\n",
      "The value of dropped columns is 80\n"
     ]
    },
    {
     "name": "stderr",
     "output_type": "stream",
     "text": [
      "/Users/alexellard/opt/anaconda3/lib/python3.7/site-packages/xgboost/data.py:96: UserWarning: Use subset (sliced data) of np.ndarray is not recommended because it will generate extra copies and increase memory consumption\n",
      "  \"because it will generate extra copies and increase \" +\n"
     ]
    },
    {
     "name": "stdout",
     "output_type": "stream",
     "text": [
      "test y shape : (17520, 1)\n",
      "Inv y shape : (17520, 16)\n",
      "y pred shape : (17520, 1)\n",
      "inv y pred : (17520, 16)\n",
      "Run 1 Mean Absolute Error: 0.31224399281209675\n",
      "[['link_29_flow', 'node_17_pressure', 'link_13_flow', 'link_21_flow', 'node_21_demand', 'node_31_pressure', 'link_14_flow', 'node_14_demand', 'link_22_flow', 'link_6_flow', 'node_6_demand', 'link_18_flow', 'link_19_flow', 'node_2_demand', 'node_22_pressure', 'link_31_flow', 'node_2_pressure', 'node_14_pressure', 'link_20_flow', 'node_27_pressure', 'node_18_demand', 'node_10_demand', 'node_18_pressure', 'link_10_flow', 'link_16_flow', 'node_16_demand', 'node_23_pressure', 'link_7_flow', 'reservoir_demand', 'link_1_flow', 'node_7_demand', 'link_2_flow', 'node_13_demand', 'node_20_demand', 'node_5_demand', 'reservoir_pressure', 'node_16_pressure', 'node_19_demand', 'node_20_pressure', 'node_10_pressure', 'link_25_flow', 'node_24_pressure', 'node_7_pressure', 'node_1_pressure', 'link_11_flow', 'link_4_flow', 'node_13_pressure', 'node_9_pressure', 'node_5_pressure', 'node_30_demand', 'node_9_demand', 'link_30_flow', 'link_26_flow', 'node_12_pressure', 'node_4_demand', 'node_25_pressure', 'node_12_demand', 'node_23_demand', 'node_17_demand', 'node_6_pressure', 'node_11_demand', 'link_23_flow', 'node_27_demand', 'link_12_flow', 'node_25_demand', 'link_32_flow', 'link_24_flow', 'node_22_demand', 'node_4_pressure', 'node_30_pressure', 'link_28_flow', 'node_26_pressure', 'node_11_pressure', 'node_19_pressure', 'node_8_demand', 'link_5_flow', 'node_3_pressure', 'node_28_pressure', 'link_9_flow', 'node_15_pressure']]\n",
      "starting df shape: (87600, 16)\n",
      "This is training run 2 and has the shape:  (87600, 16)\n",
      "The value of dropped columns is 80\n"
     ]
    },
    {
     "name": "stderr",
     "output_type": "stream",
     "text": [
      "/Users/alexellard/opt/anaconda3/lib/python3.7/site-packages/xgboost/data.py:96: UserWarning: Use subset (sliced data) of np.ndarray is not recommended because it will generate extra copies and increase memory consumption\n",
      "  \"because it will generate extra copies and increase \" +\n"
     ]
    },
    {
     "name": "stdout",
     "output_type": "stream",
     "text": [
      "test y shape : (17520, 1)\n",
      "Inv y shape : (17520, 16)\n",
      "y pred shape : (17520, 1)\n",
      "inv y pred : (17520, 16)\n",
      "Run 2 Mean Absolute Error: 1.2918479671211702\n",
      "[['link_1_flow', 'link_2_flow', 'reservoir_pressure', 'node_28_pressure', 'node_30_demand', 'node_17_pressure', 'node_10_demand', 'node_6_demand', 'node_16_demand', 'link_11_flow', 'node_1_pressure', 'link_32_flow', 'link_24_flow', 'node_14_pressure', 'node_7_pressure', 'node_30_pressure', 'node_22_pressure', 'node_24_pressure', 'node_25_demand', 'link_17_flow', 'node_20_demand', 'node_28_demand', 'link_27_flow', 'link_31_flow', 'node_29_demand', 'node_25_pressure', 'node_27_pressure', 'link_5_flow', 'node_5_demand', 'link_8_flow', 'node_13_demand', 'node_23_demand', 'node_11_pressure', 'link_21_flow', 'node_9_pressure', 'node_20_pressure', 'node_3_demand', 'node_12_demand', 'node_23_pressure', 'link_16_flow', 'node_10_pressure', 'node_19_pressure', 'node_2_demand', 'link_20_flow', 'node_17_demand', 'node_15_pressure', 'link_13_flow', 'node_7_demand', 'node_21_pressure', 'node_24_demand', 'link_4_flow', 'link_10_flow', 'link_30_flow', 'link_18_flow', 'node_21_demand', 'link_19_flow', 'link_22_flow', 'link_6_flow', 'reservoir_demand', 'node_19_demand', 'link_14_flow', 'node_5_pressure', 'link_12_flow', 'link_28_flow', 'node_15_demand', 'node_13_pressure', 'node_3_pressure', 'node_18_demand', 'node_9_demand', 'node_18_pressure', 'node_1_demand', 'node_11_demand', 'link_23_flow', 'link_29_flow', 'node_26_pressure', 'node_22_demand', 'node_16_pressure', 'node_31_demand', 'node_26_demand']]\n",
      "starting df shape: (87600, 17)\n",
      "This is training run 3 and has the shape:  (87600, 17)\n",
      "The value of dropped columns is 80\n"
     ]
    },
    {
     "name": "stderr",
     "output_type": "stream",
     "text": [
      "/Users/alexellard/opt/anaconda3/lib/python3.7/site-packages/xgboost/data.py:96: UserWarning: Use subset (sliced data) of np.ndarray is not recommended because it will generate extra copies and increase memory consumption\n",
      "  \"because it will generate extra copies and increase \" +\n"
     ]
    },
    {
     "name": "stdout",
     "output_type": "stream",
     "text": [
      "test y shape : (17520, 1)\n",
      "Inv y shape : (17520, 17)\n",
      "y pred shape : (17520, 1)\n",
      "inv y pred : (17520, 17)\n",
      "Run 3 Mean Absolute Error: 0.38976841139554597\n",
      "[['link_5_flow', 'node_3_pressure', 'node_26_demand', 'node_27_pressure', 'node_14_demand', 'link_16_flow', 'node_18_pressure', 'node_20_demand', 'link_17_flow', 'link_23_flow', 'node_28_pressure', 'node_10_demand', 'node_5_demand', 'node_9_demand', 'node_21_demand', 'node_27_demand', 'node_16_pressure', 'node_22_demand', 'node_4_pressure', 'link_32_flow', 'link_25_flow', 'link_27_flow', 'node_15_pressure', 'link_31_flow', 'node_19_demand', 'node_31_pressure', 'node_2_pressure', 'node_14_pressure', 'node_24_demand', 'link_14_flow', 'node_8_pressure', 'link_2_flow', 'node_23_demand', 'node_21_pressure', 'node_4_demand', 'node_20_pressure', 'link_4_flow', 'node_13_pressure', 'node_3_demand', 'link_21_flow', 'node_28_demand', 'node_26_pressure', 'node_23_pressure', 'node_17_pressure', 'link_29_flow', 'node_8_demand', 'link_10_flow', 'node_18_demand', 'link_20_flow', 'node_7_pressure', 'reservoir_pressure', 'link_30_flow', 'link_24_flow', 'link_13_flow', 'link_8_flow', 'node_25_demand', 'link_7_flow', 'link_1_flow', 'node_6_pressure', 'link_11_flow', 'link_22_flow', 'node_7_demand', 'node_12_demand', 'link_26_flow', 'node_17_demand', 'node_22_pressure', 'node_6_demand', 'node_24_pressure', 'link_28_flow', 'node_19_pressure', 'node_11_pressure', 'node_9_pressure', 'node_31_demand', 'reservoir_demand', 'link_3_flow', 'link_6_flow', 'link_9_flow', 'node_13_demand', 'link_18_flow']]\n",
      "starting df shape: (87600, 17)\n",
      "This is training run 4 and has the shape:  (87600, 17)\n",
      "The value of dropped columns is 80\n"
     ]
    },
    {
     "name": "stderr",
     "output_type": "stream",
     "text": [
      "/Users/alexellard/opt/anaconda3/lib/python3.7/site-packages/xgboost/data.py:96: UserWarning: Use subset (sliced data) of np.ndarray is not recommended because it will generate extra copies and increase memory consumption\n",
      "  \"because it will generate extra copies and increase \" +\n"
     ]
    },
    {
     "name": "stdout",
     "output_type": "stream",
     "text": [
      "test y shape : (17520, 1)\n",
      "Inv y shape : (17520, 17)\n",
      "y pred shape : (17520, 1)\n",
      "inv y pred : (17520, 17)\n",
      "Run 4 Mean Absolute Error: 0.2096572943266858\n",
      "[['node_26_demand', 'node_31_pressure', 'link_8_flow', 'node_17_demand', 'link_4_flow', 'node_16_demand', 'node_11_pressure', 'node_18_demand', 'node_8_demand', 'link_27_flow', 'node_27_pressure', 'node_17_pressure', 'link_32_flow', 'node_23_pressure', 'node_5_pressure', 'node_18_pressure', 'node_14_demand', 'link_16_flow', 'link_12_flow', 'link_3_flow', 'node_7_pressure', 'node_12_pressure', 'link_5_flow', 'node_22_demand', 'link_17_flow', 'node_24_pressure', 'link_10_flow', 'reservoir_demand', 'node_30_pressure', 'link_2_flow', 'node_26_pressure', 'node_21_demand', 'node_27_demand', 'link_22_flow', 'node_13_pressure', 'node_9_demand', 'node_13_demand', 'node_2_pressure', 'link_7_flow', 'node_5_demand', 'link_14_flow', 'node_8_pressure', 'node_1_pressure', 'link_11_flow', 'node_22_pressure', 'node_28_pressure', 'node_21_pressure', 'node_9_pressure', 'node_12_demand', 'link_21_flow', 'node_6_demand', 'link_1_flow', 'node_3_demand', 'node_1_demand', 'node_2_demand', 'node_20_pressure', 'link_20_flow', 'link_23_flow', 'node_29_demand', 'node_3_pressure', 'link_19_flow', 'node_19_pressure', 'node_15_demand', 'link_6_flow', 'link_25_flow', 'node_10_pressure', 'node_4_demand', 'link_18_flow', 'node_14_pressure', 'link_29_flow', 'node_30_demand', 'node_23_demand', 'reservoir_pressure', 'node_15_pressure', 'node_6_pressure', 'link_28_flow', 'node_24_demand', 'link_13_flow', 'link_26_flow', 'node_19_demand']]\n",
      "starting df shape: (87600, 16)\n",
      "This is training run 5 and has the shape:  (87600, 16)\n",
      "The value of dropped columns is 80\n"
     ]
    },
    {
     "name": "stderr",
     "output_type": "stream",
     "text": [
      "/Users/alexellard/opt/anaconda3/lib/python3.7/site-packages/xgboost/data.py:96: UserWarning: Use subset (sliced data) of np.ndarray is not recommended because it will generate extra copies and increase memory consumption\n",
      "  \"because it will generate extra copies and increase \" +\n"
     ]
    },
    {
     "name": "stdout",
     "output_type": "stream",
     "text": [
      "test y shape : (17520, 1)\n",
      "Inv y shape : (17520, 16)\n",
      "y pred shape : (17520, 1)\n",
      "inv y pred : (17520, 16)\n",
      "Run 5 Mean Absolute Error: 0.29117303549164153\n",
      "[['node_26_demand', 'link_22_flow', 'reservoir_demand', 'node_7_demand', 'node_1_pressure', 'node_11_pressure', 'node_9_pressure', 'node_6_demand', 'node_11_demand', 'node_24_pressure', 'link_13_flow', 'link_10_flow', 'link_7_flow', 'link_27_flow', 'link_20_flow', 'link_5_flow', 'node_7_pressure', 'node_16_demand', 'node_13_pressure', 'link_30_flow', 'link_3_flow', 'node_25_demand', 'node_5_pressure', 'link_14_flow', 'node_2_demand', 'node_23_demand', 'node_20_demand', 'node_14_pressure', 'node_8_pressure', 'node_27_demand', 'node_30_pressure', 'node_22_demand', 'node_4_pressure', 'node_22_pressure', 'node_10_demand', 'node_28_demand', 'link_23_flow', 'link_17_flow', 'node_28_pressure', 'link_1_flow', 'link_16_flow', 'node_8_demand', 'link_6_flow', 'node_12_pressure', 'link_25_flow', 'link_12_flow', 'node_13_demand', 'link_21_flow', 'node_29_demand', 'node_26_pressure', 'link_8_flow', 'link_29_flow', 'link_28_flow', 'link_15_flow', 'node_31_pressure', 'node_3_pressure', 'node_16_pressure', 'node_17_demand', 'node_25_pressure', 'node_15_demand', 'node_2_pressure', 'node_15_pressure', 'node_4_demand', 'link_11_flow', 'node_31_demand', 'node_24_demand', 'node_21_pressure', 'node_6_pressure', 'link_32_flow', 'node_19_demand', 'link_4_flow', 'node_23_pressure', 'node_5_demand', 'node_14_demand', 'link_18_flow', 'node_20_pressure', 'link_26_flow', 'node_17_pressure', 'node_18_pressure']]\n",
      "starting df shape: (87600, 17)\n",
      "This is training run 6 and has the shape:  (87600, 17)\n",
      "The value of dropped columns is 80\n"
     ]
    },
    {
     "name": "stderr",
     "output_type": "stream",
     "text": [
      "/Users/alexellard/opt/anaconda3/lib/python3.7/site-packages/xgboost/data.py:96: UserWarning: Use subset (sliced data) of np.ndarray is not recommended because it will generate extra copies and increase memory consumption\n",
      "  \"because it will generate extra copies and increase \" +\n"
     ]
    },
    {
     "name": "stdout",
     "output_type": "stream",
     "text": [
      "test y shape : (17520, 1)\n",
      "Inv y shape : (17520, 17)\n",
      "y pred shape : (17520, 1)\n",
      "inv y pred : (17520, 17)\n",
      "Run 6 Mean Absolute Error: 0.746922184581312\n",
      "[['node_2_pressure', 'node_5_demand', 'link_14_flow', 'node_11_demand', 'link_7_flow', 'node_9_pressure', 'link_5_flow', 'link_28_flow', 'node_30_pressure', 'node_8_pressure', 'node_7_demand', 'node_27_pressure', 'link_24_flow', 'node_1_demand', 'link_8_flow', 'link_10_flow', 'link_13_flow', 'node_6_demand', 'node_12_pressure', 'node_15_demand', 'node_29_demand', 'node_15_pressure', 'node_10_demand', 'node_20_demand', 'node_1_pressure', 'node_19_pressure', 'node_4_pressure', 'link_27_flow', 'node_21_pressure', 'node_8_demand', 'link_25_flow', 'link_1_flow', 'node_22_pressure', 'link_3_flow', 'node_18_demand', 'node_13_pressure', 'link_12_flow', 'node_17_pressure', 'node_6_pressure', 'link_6_flow', 'node_19_demand', 'link_23_flow', 'node_28_pressure', 'link_2_flow', 'node_28_demand', 'link_17_flow', 'node_2_demand', 'node_14_demand', 'link_9_flow', 'link_18_flow', 'node_18_pressure', 'node_27_demand', 'node_20_pressure', 'node_16_pressure', 'node_16_demand', 'node_11_pressure', 'link_20_flow', 'link_19_flow', 'node_30_demand', 'node_4_demand', 'node_9_demand', 'node_24_demand', 'link_15_flow', 'node_26_demand', 'node_7_pressure', 'node_31_pressure', 'node_13_demand', 'node_26_pressure', 'node_10_pressure', 'node_3_demand', 'node_5_pressure', 'link_29_flow', 'link_16_flow', 'node_3_pressure', 'link_26_flow', 'reservoir_demand', 'node_25_demand', 'link_30_flow', 'link_11_flow']]\n",
      "starting df shape: (87600, 17)\n",
      "This is training run 7 and has the shape:  (87600, 17)\n",
      "The value of dropped columns is 80\n"
     ]
    },
    {
     "name": "stderr",
     "output_type": "stream",
     "text": [
      "/Users/alexellard/opt/anaconda3/lib/python3.7/site-packages/xgboost/data.py:96: UserWarning: Use subset (sliced data) of np.ndarray is not recommended because it will generate extra copies and increase memory consumption\n",
      "  \"because it will generate extra copies and increase \" +\n"
     ]
    },
    {
     "name": "stdout",
     "output_type": "stream",
     "text": [
      "test y shape : (17520, 1)\n",
      "Inv y shape : (17520, 17)\n",
      "y pred shape : (17520, 1)\n",
      "inv y pred : (17520, 17)\n",
      "Run 7 Mean Absolute Error: 0.45399036792207653\n",
      "[['link_16_flow', 'node_19_pressure', 'link_29_flow', 'link_7_flow', 'node_8_pressure', 'node_14_demand', 'node_22_demand', 'node_20_pressure', 'node_17_demand', 'link_17_flow', 'link_8_flow', 'node_24_demand', 'node_7_pressure', 'link_31_flow', 'node_24_pressure', 'link_19_flow', 'node_13_demand', 'link_5_flow', 'node_18_demand', 'link_11_flow', 'node_31_pressure', 'link_15_flow', 'link_22_flow', 'node_16_pressure', 'link_21_flow', 'link_14_flow', 'link_1_flow', 'node_7_demand', 'node_16_demand', 'node_14_pressure', 'link_13_flow', 'node_11_demand', 'link_18_flow', 'node_26_demand', 'link_20_flow', 'link_24_flow', 'node_5_demand', 'node_6_pressure', 'node_1_pressure', 'node_28_pressure', 'node_9_demand', 'link_30_flow', 'reservoir_pressure', 'link_23_flow', 'link_3_flow', 'link_28_flow', 'link_25_flow', 'node_20_demand', 'link_27_flow', 'node_3_demand', 'node_12_demand', 'node_10_demand', 'node_26_pressure', 'node_9_pressure', 'node_23_pressure', 'node_25_demand', 'node_31_demand', 'node_23_demand', 'link_9_flow', 'link_12_flow', 'link_2_flow', 'node_25_pressure', 'link_4_flow', 'node_22_pressure', 'node_29_demand', 'node_13_pressure', 'node_30_pressure', 'node_3_pressure', 'node_15_demand', 'link_10_flow', 'node_8_demand', 'link_26_flow', 'reservoir_demand', 'node_17_pressure', 'node_12_pressure', 'node_2_pressure', 'node_10_pressure', 'node_21_pressure', 'node_15_pressure']]\n",
      "starting df shape: (87600, 17)\n",
      "This is training run 8 and has the shape:  (87600, 17)\n",
      "The value of dropped columns is 80\n"
     ]
    },
    {
     "name": "stderr",
     "output_type": "stream",
     "text": [
      "/Users/alexellard/opt/anaconda3/lib/python3.7/site-packages/xgboost/data.py:96: UserWarning: Use subset (sliced data) of np.ndarray is not recommended because it will generate extra copies and increase memory consumption\n",
      "  \"because it will generate extra copies and increase \" +\n"
     ]
    },
    {
     "name": "stdout",
     "output_type": "stream",
     "text": [
      "test y shape : (17520, 1)\n",
      "Inv y shape : (17520, 17)\n",
      "y pred shape : (17520, 1)\n",
      "inv y pred : (17520, 17)\n",
      "Run 8 Mean Absolute Error: 0.7295065931318166\n",
      "[['node_29_demand', 'node_6_demand', 'link_21_flow', 'link_5_flow', 'node_2_pressure', 'node_3_pressure', 'link_12_flow', 'node_20_demand', 'node_19_pressure', 'node_17_pressure', 'node_28_demand', 'node_19_demand', 'link_14_flow', 'link_18_flow', 'node_31_demand', 'reservoir_demand', 'node_18_pressure', 'node_30_pressure', 'node_11_pressure', 'link_9_flow', 'link_6_flow', 'node_10_pressure', 'node_5_pressure', 'link_17_flow', 'link_16_flow', 'link_30_flow', 'node_8_pressure', 'node_2_demand', 'link_26_flow', 'node_7_pressure', 'link_24_flow', 'node_30_demand', 'link_31_flow', 'link_28_flow', 'node_6_pressure', 'node_13_pressure', 'link_15_flow', 'node_16_pressure', 'node_22_pressure', 'node_14_demand', 'link_11_flow', 'node_15_demand', 'node_7_demand', 'node_4_pressure', 'link_22_flow', 'link_32_flow', 'link_27_flow', 'node_25_demand', 'node_21_demand', 'link_10_flow', 'node_27_demand', 'node_27_pressure', 'link_29_flow', 'node_4_demand', 'node_10_demand', 'link_23_flow', 'link_4_flow', 'node_16_demand', 'node_26_pressure', 'node_11_demand', 'node_17_demand', 'node_9_demand', 'node_9_pressure', 'node_23_pressure', 'node_13_demand', 'node_1_demand', 'node_18_demand', 'link_2_flow', 'node_15_pressure', 'node_5_demand', 'node_26_demand', 'link_3_flow', 'link_8_flow', 'node_23_demand', 'link_19_flow', 'link_25_flow', 'link_7_flow', 'node_12_pressure', 'link_20_flow']]\n",
      "starting df shape: (87600, 17)\n",
      "This is training run 9 and has the shape:  (87600, 17)\n",
      "The value of dropped columns is 80\n"
     ]
    },
    {
     "name": "stderr",
     "output_type": "stream",
     "text": [
      "/Users/alexellard/opt/anaconda3/lib/python3.7/site-packages/xgboost/data.py:96: UserWarning: Use subset (sliced data) of np.ndarray is not recommended because it will generate extra copies and increase memory consumption\n",
      "  \"because it will generate extra copies and increase \" +\n"
     ]
    },
    {
     "name": "stdout",
     "output_type": "stream",
     "text": [
      "test y shape : (17520, 1)\n",
      "Inv y shape : (17520, 17)\n",
      "y pred shape : (17520, 1)\n",
      "inv y pred : (17520, 17)\n",
      "Run 9 Mean Absolute Error: 0.042629813935155365\n",
      "[['node_26_pressure', 'link_15_flow', 'node_1_pressure', 'node_1_demand', 'node_25_pressure', 'node_4_pressure', 'link_2_flow', 'link_5_flow', 'link_11_flow', 'node_7_demand', 'link_18_flow', 'node_19_pressure', 'node_23_pressure', 'node_23_demand', 'link_30_flow', 'node_16_demand', 'link_1_flow', 'link_22_flow', 'node_3_pressure', 'node_21_pressure', 'node_3_demand', 'node_21_demand', 'link_28_flow', 'node_15_pressure', 'node_10_demand', 'node_4_demand', 'node_29_demand', 'link_10_flow', 'link_21_flow', 'link_20_flow', 'node_8_pressure', 'node_5_demand', 'link_17_flow', 'node_25_demand', 'node_11_demand', 'node_2_pressure', 'node_30_pressure', 'node_30_demand', 'link_16_flow', 'node_20_demand', 'node_13_demand', 'link_29_flow', 'node_8_demand', 'node_27_pressure', 'link_4_flow', 'node_13_pressure', 'node_9_pressure', 'link_27_flow', 'link_25_flow', 'link_3_flow', 'node_17_pressure', 'node_11_pressure', 'link_32_flow', 'node_28_demand', 'reservoir_demand', 'node_31_pressure', 'node_19_demand', 'node_12_demand', 'node_12_pressure', 'link_23_flow', 'node_28_pressure', 'node_24_pressure', 'link_26_flow', 'link_31_flow', 'reservoir_pressure', 'link_8_flow', 'node_17_demand', 'link_12_flow', 'node_5_pressure', 'node_31_demand', 'node_7_pressure', 'node_27_demand', 'link_24_flow', 'link_7_flow', 'node_10_pressure', 'node_24_demand', 'node_6_demand', 'node_20_pressure', 'node_14_pressure', 'link_9_flow']]\n",
      "starting df shape: (87600, 16)\n",
      "This is training run 10 and has the shape:  (87600, 16)\n",
      "The value of dropped columns is 80\n"
     ]
    },
    {
     "name": "stderr",
     "output_type": "stream",
     "text": [
      "/Users/alexellard/opt/anaconda3/lib/python3.7/site-packages/xgboost/data.py:96: UserWarning: Use subset (sliced data) of np.ndarray is not recommended because it will generate extra copies and increase memory consumption\n",
      "  \"because it will generate extra copies and increase \" +\n"
     ]
    },
    {
     "name": "stdout",
     "output_type": "stream",
     "text": [
      "test y shape : (17520, 1)\n",
      "Inv y shape : (17520, 16)\n",
      "y pred shape : (17520, 1)\n",
      "inv y pred : (17520, 16)\n",
      "Run 10 Mean Absolute Error: 0.805149033484317\n",
      "[['node_3_pressure', 'node_6_demand', 'node_1_pressure', 'link_27_flow', 'node_11_pressure', 'node_6_pressure', 'node_31_pressure', 'link_23_flow', 'link_9_flow', 'node_27_demand', 'node_13_pressure', 'node_23_demand', 'node_22_pressure', 'link_29_flow', 'node_31_demand', 'node_16_demand', 'link_18_flow', 'link_30_flow', 'node_10_demand', 'node_12_pressure', 'node_8_pressure', 'node_25_pressure', 'node_20_demand', 'link_5_flow', 'link_7_flow', 'node_19_pressure', 'link_12_flow', 'node_24_demand', 'node_18_demand', 'node_1_demand', 'node_14_pressure', 'node_2_demand', 'link_20_flow', 'link_10_flow', 'node_17_pressure', 'node_26_demand', 'link_4_flow', 'node_24_pressure', 'node_5_pressure', 'node_9_demand', 'node_7_demand', 'node_29_demand', 'link_2_flow', 'node_23_pressure', 'node_21_pressure', 'link_26_flow', 'node_14_demand', 'link_32_flow', 'link_21_flow', 'node_28_pressure', 'node_18_pressure', 'node_21_demand', 'node_25_demand', 'node_26_pressure', 'link_3_flow', 'node_16_pressure', 'link_8_flow', 'node_10_pressure', 'node_22_demand', 'node_5_demand', 'link_31_flow', 'node_11_demand', 'node_30_demand', 'node_2_pressure', 'link_28_flow', 'node_12_demand', 'node_15_pressure', 'node_4_demand', 'node_17_demand', 'link_17_flow', 'link_1_flow', 'node_15_demand', 'node_7_pressure', 'node_30_pressure', 'link_22_flow', 'reservoir_pressure', 'link_14_flow', 'link_19_flow', 'node_13_demand', 'link_25_flow', 'node_3_demand', 'node_8_demand', 'node_19_demand', 'node_4_pressure']]\n",
      "starting df shape: (87600, 12)\n",
      "This is training run 1 and has the shape:  (87600, 12)\n",
      "The value of dropped columns is 85\n"
     ]
    },
    {
     "name": "stderr",
     "output_type": "stream",
     "text": [
      "/Users/alexellard/opt/anaconda3/lib/python3.7/site-packages/xgboost/data.py:96: UserWarning: Use subset (sliced data) of np.ndarray is not recommended because it will generate extra copies and increase memory consumption\n",
      "  \"because it will generate extra copies and increase \" +\n"
     ]
    },
    {
     "name": "stdout",
     "output_type": "stream",
     "text": [
      "test y shape : (17520, 1)\n",
      "Inv y shape : (17520, 12)\n",
      "y pred shape : (17520, 1)\n",
      "inv y pred : (17520, 12)\n",
      "Run 1 Mean Absolute Error: 11.426038008804445\n",
      "[['node_16_demand', 'link_22_flow', 'node_18_pressure', 'node_17_demand', 'node_19_pressure', 'node_6_demand', 'link_29_flow', 'node_7_demand', 'node_11_demand', 'link_1_flow', 'link_14_flow', 'link_6_flow', 'link_20_flow', 'link_28_flow', 'link_25_flow', 'node_5_demand', 'link_19_flow', 'link_23_flow', 'node_24_pressure', 'node_13_pressure', 'node_23_demand', 'node_9_demand', 'node_29_demand', 'node_23_pressure', 'node_21_pressure', 'node_11_pressure', 'link_10_flow', 'node_9_pressure', 'node_1_demand', 'node_1_pressure', 'link_5_flow', 'node_25_pressure', 'node_8_pressure', 'node_10_pressure', 'link_15_flow', 'node_4_demand', 'node_31_pressure', 'link_11_flow', 'node_20_demand', 'node_12_pressure', 'link_13_flow', 'link_27_flow', 'node_27_demand', 'node_20_pressure', 'link_4_flow', 'link_7_flow', 'node_14_demand', 'link_3_flow', 'link_26_flow', 'reservoir_pressure', 'link_16_flow', 'node_6_pressure', 'link_21_flow', 'node_2_demand', 'node_8_demand', 'node_31_demand', 'node_28_pressure', 'node_21_demand', 'link_30_flow', 'link_31_flow', 'node_27_pressure', 'node_4_pressure', 'node_26_pressure', 'link_12_flow', 'link_8_flow', 'link_24_flow', 'node_30_demand', 'node_22_demand', 'node_3_pressure', 'node_12_demand', 'node_25_demand', 'node_17_pressure', 'node_3_demand', 'node_18_demand', 'reservoir_demand', 'node_15_demand', 'link_2_flow', 'node_13_demand', 'node_7_pressure', 'link_9_flow', 'node_30_pressure', 'node_26_demand', 'node_10_demand', 'link_17_flow']]\n",
      "starting df shape: (87600, 12)\n",
      "This is training run 2 and has the shape:  (87600, 12)\n",
      "The value of dropped columns is 85\n"
     ]
    },
    {
     "name": "stderr",
     "output_type": "stream",
     "text": [
      "/Users/alexellard/opt/anaconda3/lib/python3.7/site-packages/xgboost/data.py:96: UserWarning: Use subset (sliced data) of np.ndarray is not recommended because it will generate extra copies and increase memory consumption\n",
      "  \"because it will generate extra copies and increase \" +\n"
     ]
    },
    {
     "name": "stdout",
     "output_type": "stream",
     "text": [
      "test y shape : (17520, 1)\n",
      "Inv y shape : (17520, 12)\n",
      "y pred shape : (17520, 1)\n",
      "inv y pred : (17520, 12)\n",
      "Run 2 Mean Absolute Error: 1.14116447939445\n",
      "[['link_10_flow', 'node_4_demand', 'node_3_demand', 'node_14_demand', 'node_28_demand', 'link_6_flow', 'link_3_flow', 'link_7_flow', 'reservoir_demand', 'node_24_pressure', 'link_19_flow', 'link_8_flow', 'link_32_flow', 'node_16_pressure', 'link_1_flow', 'node_25_demand', 'node_11_demand', 'node_21_pressure', 'node_8_demand', 'link_15_flow', 'link_31_flow', 'node_31_demand', 'node_2_demand', 'reservoir_pressure', 'node_12_pressure', 'link_18_flow', 'node_14_pressure', 'node_18_demand', 'node_17_pressure', 'link_20_flow', 'node_30_pressure', 'node_9_pressure', 'node_15_demand', 'node_8_pressure', 'node_1_demand', 'node_6_demand', 'node_10_demand', 'link_25_flow', 'node_5_demand', 'node_6_pressure', 'node_13_pressure', 'node_20_pressure', 'node_18_pressure', 'node_22_pressure', 'node_15_pressure', 'node_24_demand', 'node_12_demand', 'node_19_pressure', 'node_4_pressure', 'node_7_demand', 'link_11_flow', 'node_26_demand', 'node_27_demand', 'link_5_flow', 'link_29_flow', 'link_14_flow', 'link_22_flow', 'node_5_pressure', 'link_23_flow', 'node_28_pressure', 'link_9_flow', 'link_12_flow', 'node_7_pressure', 'node_22_demand', 'node_9_demand', 'link_2_flow', 'node_3_pressure', 'node_10_pressure', 'node_20_demand', 'link_27_flow', 'node_21_demand', 'link_21_flow', 'link_26_flow', 'node_26_pressure', 'link_30_flow', 'node_31_pressure', 'node_1_pressure', 'node_16_demand', 'link_24_flow', 'node_27_pressure', 'link_16_flow', 'link_17_flow', 'node_19_demand', 'node_11_pressure']]\n",
      "starting df shape: (87600, 12)\n",
      "This is training run 3 and has the shape:  (87600, 12)\n",
      "The value of dropped columns is 85\n"
     ]
    },
    {
     "name": "stderr",
     "output_type": "stream",
     "text": [
      "/Users/alexellard/opt/anaconda3/lib/python3.7/site-packages/xgboost/data.py:96: UserWarning: Use subset (sliced data) of np.ndarray is not recommended because it will generate extra copies and increase memory consumption\n",
      "  \"because it will generate extra copies and increase \" +\n"
     ]
    },
    {
     "name": "stdout",
     "output_type": "stream",
     "text": [
      "test y shape : (17520, 1)\n",
      "Inv y shape : (17520, 12)\n",
      "y pred shape : (17520, 1)\n",
      "inv y pred : (17520, 12)\n",
      "Run 3 Mean Absolute Error: 0.4720860301427225\n",
      "[['node_25_demand', 'node_6_demand', 'node_5_demand', 'link_18_flow', 'node_22_demand', 'link_32_flow', 'link_11_flow', 'link_16_flow', 'link_19_flow', 'node_7_demand', 'node_31_demand', 'link_23_flow', 'node_21_pressure', 'node_23_demand', 'node_18_demand', 'node_26_demand', 'node_27_demand', 'node_29_demand', 'node_31_pressure', 'link_8_flow', 'node_30_pressure', 'node_3_demand', 'node_19_pressure', 'node_26_pressure', 'node_20_demand', 'link_13_flow', 'node_5_pressure', 'node_1_pressure', 'link_28_flow', 'node_24_pressure', 'node_2_pressure', 'link_30_flow', 'link_17_flow', 'node_13_pressure', 'node_8_demand', 'node_17_pressure', 'node_6_pressure', 'node_8_pressure', 'link_6_flow', 'node_2_demand', 'node_21_demand', 'node_3_pressure', 'node_30_demand', 'link_2_flow', 'node_22_pressure', 'node_13_demand', 'node_9_pressure', 'link_10_flow', 'reservoir_demand', 'link_12_flow', 'node_15_pressure', 'node_12_demand', 'link_5_flow', 'node_25_pressure', 'node_18_pressure', 'node_16_pressure', 'node_24_demand', 'node_10_demand', 'link_9_flow', 'link_21_flow', 'node_11_demand', 'link_15_flow', 'link_4_flow', 'node_15_demand', 'link_3_flow', 'node_9_demand', 'link_27_flow', 'node_11_pressure', 'node_20_pressure', 'link_24_flow', 'node_28_demand', 'link_26_flow', 'link_31_flow', 'node_17_demand', 'node_19_demand', 'node_4_pressure', 'node_27_pressure', 'reservoir_pressure', 'node_14_pressure', 'link_22_flow', 'link_25_flow', 'node_16_demand', 'link_1_flow', 'link_29_flow']]\n",
      "starting df shape: (87600, 12)\n",
      "This is training run 4 and has the shape:  (87600, 12)\n",
      "The value of dropped columns is 85\n"
     ]
    },
    {
     "name": "stderr",
     "output_type": "stream",
     "text": [
      "/Users/alexellard/opt/anaconda3/lib/python3.7/site-packages/xgboost/data.py:96: UserWarning: Use subset (sliced data) of np.ndarray is not recommended because it will generate extra copies and increase memory consumption\n",
      "  \"because it will generate extra copies and increase \" +\n"
     ]
    },
    {
     "name": "stdout",
     "output_type": "stream",
     "text": [
      "test y shape : (17520, 1)\n",
      "Inv y shape : (17520, 12)\n",
      "y pred shape : (17520, 1)\n",
      "inv y pred : (17520, 12)\n",
      "Run 4 Mean Absolute Error: 0.5688339697926986\n",
      "[['node_26_pressure', 'node_11_pressure', 'node_10_pressure', 'node_27_demand', 'node_15_pressure', 'node_24_demand', 'link_29_flow', 'node_1_demand', 'link_11_flow', 'node_15_demand', 'node_18_pressure', 'node_17_demand', 'link_8_flow', 'link_19_flow', 'node_5_pressure', 'node_28_demand', 'node_9_pressure', 'node_17_pressure', 'link_3_flow', 'link_31_flow', 'link_9_flow', 'link_10_flow', 'node_27_pressure', 'link_7_flow', 'node_16_demand', 'link_20_flow', 'link_13_flow', 'node_19_demand', 'node_20_pressure', 'link_21_flow', 'node_6_demand', 'node_20_demand', 'link_28_flow', 'link_17_flow', 'reservoir_demand', 'node_13_demand', 'node_8_pressure', 'link_25_flow', 'link_26_flow', 'link_2_flow', 'node_3_pressure', 'link_27_flow', 'node_3_demand', 'node_19_pressure', 'node_22_demand', 'link_22_flow', 'node_23_pressure', 'node_11_demand', 'link_14_flow', 'node_7_demand', 'node_24_pressure', 'node_26_demand', 'node_21_demand', 'node_14_pressure', 'node_22_pressure', 'node_25_pressure', 'link_5_flow', 'reservoir_pressure', 'node_30_pressure', 'link_30_flow', 'node_8_demand', 'node_18_demand', 'node_4_demand', 'node_1_pressure', 'link_15_flow', 'link_24_flow', 'node_2_pressure', 'node_29_demand', 'node_13_pressure', 'node_9_demand', 'node_12_pressure', 'node_10_demand', 'link_4_flow', 'link_12_flow', 'node_7_pressure', 'node_4_pressure', 'node_12_demand', 'node_25_demand', 'node_2_demand', 'node_6_pressure', 'link_18_flow', 'node_14_demand', 'link_16_flow', 'node_31_demand']]\n",
      "starting df shape: (87600, 12)\n",
      "This is training run 5 and has the shape:  (87600, 12)\n",
      "The value of dropped columns is 85\n"
     ]
    },
    {
     "name": "stderr",
     "output_type": "stream",
     "text": [
      "/Users/alexellard/opt/anaconda3/lib/python3.7/site-packages/xgboost/data.py:96: UserWarning: Use subset (sliced data) of np.ndarray is not recommended because it will generate extra copies and increase memory consumption\n",
      "  \"because it will generate extra copies and increase \" +\n"
     ]
    },
    {
     "name": "stdout",
     "output_type": "stream",
     "text": [
      "test y shape : (17520, 1)\n",
      "Inv y shape : (17520, 12)\n",
      "y pred shape : (17520, 1)\n",
      "inv y pred : (17520, 12)\n",
      "Run 5 Mean Absolute Error: 0.29999287788067136\n",
      "[['link_24_flow', 'node_12_pressure', 'node_31_pressure', 'node_5_pressure', 'node_15_demand', 'link_32_flow', 'link_23_flow', 'node_28_demand', 'node_29_demand', 'node_26_pressure', 'node_27_demand', 'link_3_flow', 'node_27_pressure', 'node_3_demand', 'node_1_demand', 'link_10_flow', 'link_27_flow', 'node_11_pressure', 'node_18_demand', 'link_26_flow', 'node_14_pressure', 'link_19_flow', 'link_13_flow', 'node_12_demand', 'link_30_flow', 'link_18_flow', 'node_30_pressure', 'node_21_pressure', 'node_18_pressure', 'node_17_pressure', 'link_7_flow', 'link_2_flow', 'node_25_demand', 'node_8_pressure', 'node_22_demand', 'node_24_pressure', 'node_14_demand', 'link_5_flow', 'reservoir_pressure', 'node_23_demand', 'link_25_flow', 'node_25_pressure', 'node_11_demand', 'node_8_demand', 'link_21_flow', 'link_16_flow', 'node_23_pressure', 'link_6_flow', 'link_8_flow', 'node_24_demand', 'node_31_demand', 'node_9_demand', 'node_15_pressure', 'node_5_demand', 'link_22_flow', 'reservoir_demand', 'link_29_flow', 'node_4_demand', 'node_2_pressure', 'link_14_flow', 'node_13_demand', 'node_19_pressure', 'node_16_pressure', 'link_28_flow', 'link_11_flow', 'link_4_flow', 'node_19_demand', 'node_7_demand', 'node_10_pressure', 'node_21_demand', 'link_31_flow', 'node_17_demand', 'link_9_flow', 'node_7_pressure', 'node_4_pressure', 'node_9_pressure', 'node_2_demand', 'node_16_demand', 'node_22_pressure', 'node_26_demand', 'node_1_pressure', 'node_28_pressure', 'node_30_demand', 'node_6_demand']]\n",
      "starting df shape: (87600, 12)\n",
      "This is training run 6 and has the shape:  (87600, 12)\n",
      "The value of dropped columns is 85\n"
     ]
    },
    {
     "name": "stderr",
     "output_type": "stream",
     "text": [
      "/Users/alexellard/opt/anaconda3/lib/python3.7/site-packages/xgboost/data.py:96: UserWarning: Use subset (sliced data) of np.ndarray is not recommended because it will generate extra copies and increase memory consumption\n",
      "  \"because it will generate extra copies and increase \" +\n"
     ]
    },
    {
     "name": "stdout",
     "output_type": "stream",
     "text": [
      "test y shape : (17520, 1)\n",
      "Inv y shape : (17520, 12)\n",
      "y pred shape : (17520, 1)\n",
      "inv y pred : (17520, 12)\n",
      "Run 6 Mean Absolute Error: 0.55299652776308\n",
      "[['node_26_demand', 'link_11_flow', 'node_21_pressure', 'node_20_pressure', 'node_30_pressure', 'link_13_flow', 'node_2_demand', 'node_8_demand', 'link_28_flow', 'reservoir_pressure', 'node_31_pressure', 'node_12_demand', 'node_1_demand', 'link_3_flow', 'node_20_demand', 'node_5_demand', 'node_31_demand', 'node_13_demand', 'node_8_pressure', 'node_22_demand', 'node_26_pressure', 'link_12_flow', 'node_6_pressure', 'node_18_demand', 'node_9_pressure', 'node_6_demand', 'node_14_pressure', 'link_6_flow', 'node_27_pressure', 'node_22_pressure', 'node_23_demand', 'node_19_demand', 'node_7_demand', 'node_10_pressure', 'node_15_pressure', 'node_16_demand', 'node_3_pressure', 'node_4_demand', 'node_25_demand', 'node_4_pressure', 'node_10_demand', 'link_20_flow', 'node_1_pressure', 'link_1_flow', 'link_16_flow', 'link_2_flow', 'node_12_pressure', 'node_7_pressure', 'link_17_flow', 'link_26_flow', 'link_7_flow', 'link_22_flow', 'node_24_pressure', 'link_5_flow', 'node_25_pressure', 'link_4_flow', 'node_19_pressure', 'node_15_demand', 'node_28_pressure', 'link_10_flow', 'link_24_flow', 'node_11_demand', 'node_29_demand', 'link_14_flow', 'node_24_demand', 'node_5_pressure', 'link_23_flow', 'node_9_demand', 'node_13_pressure', 'node_27_demand', 'link_9_flow', 'link_8_flow', 'link_15_flow', 'link_27_flow', 'link_29_flow', 'link_31_flow', 'node_16_pressure', 'node_23_pressure', 'node_17_pressure', 'reservoir_demand', 'node_30_demand', 'node_11_pressure', 'node_3_demand', 'node_17_demand']]\n",
      "starting df shape: (87600, 12)\n",
      "This is training run 7 and has the shape:  (87600, 12)\n",
      "The value of dropped columns is 85\n"
     ]
    },
    {
     "name": "stderr",
     "output_type": "stream",
     "text": [
      "/Users/alexellard/opt/anaconda3/lib/python3.7/site-packages/xgboost/data.py:96: UserWarning: Use subset (sliced data) of np.ndarray is not recommended because it will generate extra copies and increase memory consumption\n",
      "  \"because it will generate extra copies and increase \" +\n"
     ]
    },
    {
     "name": "stdout",
     "output_type": "stream",
     "text": [
      "test y shape : (17520, 1)\n",
      "Inv y shape : (17520, 12)\n",
      "y pred shape : (17520, 1)\n",
      "inv y pred : (17520, 12)\n",
      "Run 7 Mean Absolute Error: 0.3344190222304916\n",
      "[['node_17_pressure', 'link_3_flow', 'node_20_demand', 'node_25_demand', 'node_8_demand', 'node_11_demand', 'node_10_pressure', 'link_14_flow', 'link_16_flow', 'node_31_pressure', 'node_4_pressure', 'node_2_demand', 'node_5_demand', 'node_14_pressure', 'link_28_flow', 'link_20_flow', 'link_29_flow', 'node_1_demand', 'node_14_demand', 'node_29_demand', 'node_19_demand', 'link_30_flow', 'node_21_demand', 'node_12_demand', 'node_19_pressure', 'link_5_flow', 'link_24_flow', 'link_31_flow', 'node_28_pressure', 'node_27_pressure', 'node_24_pressure', 'node_10_demand', 'link_18_flow', 'link_4_flow', 'link_11_flow', 'node_27_demand', 'node_3_demand', 'node_22_pressure', 'node_7_pressure', 'link_8_flow', 'link_22_flow', 'node_16_demand', 'node_7_demand', 'node_13_demand', 'node_8_pressure', 'node_15_pressure', 'node_9_pressure', 'link_13_flow', 'node_11_pressure', 'node_28_demand', 'node_6_demand', 'link_19_flow', 'node_26_demand', 'node_5_pressure', 'link_2_flow', 'link_9_flow', 'link_6_flow', 'node_21_pressure', 'reservoir_pressure', 'link_27_flow', 'reservoir_demand', 'node_22_demand', 'node_30_pressure', 'node_31_demand', 'node_23_demand', 'node_25_pressure', 'node_23_pressure', 'node_17_demand', 'link_32_flow', 'node_1_pressure', 'link_1_flow', 'link_21_flow', 'node_4_demand', 'link_26_flow', 'link_15_flow', 'link_25_flow', 'node_12_pressure', 'node_16_pressure', 'node_6_pressure', 'link_23_flow', 'node_13_pressure', 'node_2_pressure', 'node_20_pressure', 'node_15_demand']]\n",
      "starting df shape: (87600, 12)\n",
      "This is training run 8 and has the shape:  (87600, 12)\n",
      "The value of dropped columns is 85\n"
     ]
    },
    {
     "name": "stderr",
     "output_type": "stream",
     "text": [
      "/Users/alexellard/opt/anaconda3/lib/python3.7/site-packages/xgboost/data.py:96: UserWarning: Use subset (sliced data) of np.ndarray is not recommended because it will generate extra copies and increase memory consumption\n",
      "  \"because it will generate extra copies and increase \" +\n"
     ]
    },
    {
     "name": "stdout",
     "output_type": "stream",
     "text": [
      "test y shape : (17520, 1)\n",
      "Inv y shape : (17520, 12)\n",
      "y pred shape : (17520, 1)\n",
      "inv y pred : (17520, 12)\n",
      "Run 8 Mean Absolute Error: 0.5954215137659671\n",
      "[['node_8_demand', 'node_13_pressure', 'link_9_flow', 'node_15_pressure', 'node_27_demand', 'node_10_pressure', 'node_2_pressure', 'link_6_flow', 'node_6_demand', 'node_21_pressure', 'node_22_demand', 'node_6_pressure', 'node_19_demand', 'node_7_pressure', 'node_26_demand', 'node_31_pressure', 'node_23_demand', 'node_9_demand', 'node_10_demand', 'link_26_flow', 'node_17_demand', 'link_16_flow', 'node_25_demand', 'node_24_demand', 'link_20_flow', 'link_28_flow', 'node_25_pressure', 'link_24_flow', 'node_13_demand', 'node_3_pressure', 'link_29_flow', 'link_11_flow', 'node_20_demand', 'node_11_demand', 'link_17_flow', 'link_32_flow', 'reservoir_demand', 'link_31_flow', 'link_5_flow', 'node_14_demand', 'link_19_flow', 'link_8_flow', 'node_5_demand', 'link_23_flow', 'node_12_pressure', 'node_29_demand', 'link_22_flow', 'link_3_flow', 'node_3_demand', 'node_20_pressure', 'link_4_flow', 'node_30_pressure', 'node_22_pressure', 'link_30_flow', 'node_28_demand', 'link_25_flow', 'node_9_pressure', 'link_12_flow', 'node_18_demand', 'node_14_pressure', 'link_15_flow', 'link_13_flow', 'node_11_pressure', 'node_5_pressure', 'node_18_pressure', 'link_1_flow', 'node_19_pressure', 'node_21_demand', 'node_17_pressure', 'node_4_demand', 'link_27_flow', 'link_18_flow', 'node_16_pressure', 'node_8_pressure', 'node_31_demand', 'node_27_pressure', 'node_15_demand', 'node_12_demand', 'node_16_demand', 'link_14_flow', 'node_24_pressure', 'node_1_demand', 'node_30_demand', 'node_4_pressure']]\n",
      "starting df shape: (87600, 12)\n",
      "This is training run 9 and has the shape:  (87600, 12)\n",
      "The value of dropped columns is 85\n"
     ]
    },
    {
     "name": "stderr",
     "output_type": "stream",
     "text": [
      "/Users/alexellard/opt/anaconda3/lib/python3.7/site-packages/xgboost/data.py:96: UserWarning: Use subset (sliced data) of np.ndarray is not recommended because it will generate extra copies and increase memory consumption\n",
      "  \"because it will generate extra copies and increase \" +\n"
     ]
    },
    {
     "name": "stdout",
     "output_type": "stream",
     "text": [
      "test y shape : (17520, 1)\n",
      "Inv y shape : (17520, 12)\n",
      "y pred shape : (17520, 1)\n",
      "inv y pred : (17520, 12)\n",
      "Run 9 Mean Absolute Error: 0.4458624989719676\n",
      "[['node_21_demand', 'node_23_pressure', 'node_12_pressure', 'node_21_pressure', 'link_3_flow', 'node_19_demand', 'reservoir_demand', 'link_2_flow', 'node_28_pressure', 'node_7_demand', 'node_12_demand', 'node_17_pressure', 'node_2_pressure', 'node_31_demand', 'node_15_demand', 'node_26_demand', 'node_16_demand', 'node_28_demand', 'node_20_demand', 'link_28_flow', 'node_8_demand', 'link_10_flow', 'node_13_pressure', 'node_19_pressure', 'link_4_flow', 'link_1_flow', 'link_15_flow', 'node_2_demand', 'node_18_demand', 'link_27_flow', 'node_25_demand', 'node_1_pressure', 'node_9_pressure', 'link_21_flow', 'node_13_demand', 'node_24_pressure', 'node_10_pressure', 'link_16_flow', 'node_26_pressure', 'node_17_demand', 'link_29_flow', 'node_6_pressure', 'link_9_flow', 'node_27_pressure', 'link_31_flow', 'node_25_pressure', 'link_30_flow', 'node_29_demand', 'link_17_flow', 'node_11_demand', 'node_24_demand', 'node_1_demand', 'node_30_pressure', 'node_5_demand', 'node_22_demand', 'node_18_pressure', 'node_6_demand', 'node_10_demand', 'link_14_flow', 'node_15_pressure', 'link_5_flow', 'link_26_flow', 'link_6_flow', 'node_30_demand', 'node_23_demand', 'link_25_flow', 'link_24_flow', 'node_22_pressure', 'node_27_demand', 'node_11_pressure', 'link_18_flow', 'node_3_demand', 'node_3_pressure', 'link_13_flow', 'node_4_pressure', 'reservoir_pressure', 'link_22_flow', 'link_12_flow', 'node_4_demand', 'node_14_demand', 'link_19_flow', 'node_20_pressure', 'node_8_pressure', 'link_7_flow']]\n",
      "starting df shape: (87600, 12)\n",
      "This is training run 10 and has the shape:  (87600, 12)\n",
      "The value of dropped columns is 85\n"
     ]
    },
    {
     "name": "stderr",
     "output_type": "stream",
     "text": [
      "/Users/alexellard/opt/anaconda3/lib/python3.7/site-packages/xgboost/data.py:96: UserWarning: Use subset (sliced data) of np.ndarray is not recommended because it will generate extra copies and increase memory consumption\n",
      "  \"because it will generate extra copies and increase \" +\n"
     ]
    },
    {
     "name": "stdout",
     "output_type": "stream",
     "text": [
      "test y shape : (17520, 1)\n",
      "Inv y shape : (17520, 12)\n",
      "y pred shape : (17520, 1)\n",
      "inv y pred : (17520, 12)\n",
      "Run 10 Mean Absolute Error: 0.2515504355998205\n",
      "[['link_26_flow', 'node_25_pressure', 'node_18_pressure', 'link_32_flow', 'node_12_demand', 'node_26_demand', 'node_21_pressure', 'link_18_flow', 'node_14_pressure', 'link_6_flow', 'node_4_pressure', 'node_9_demand', 'reservoir_demand', 'link_29_flow', 'link_12_flow', 'link_27_flow', 'node_15_pressure', 'node_7_demand', 'link_15_flow', 'node_30_demand', 'reservoir_pressure', 'link_23_flow', 'link_20_flow', 'node_27_pressure', 'node_2_pressure', 'node_3_demand', 'link_9_flow', 'link_4_flow', 'node_6_pressure', 'node_20_pressure', 'link_2_flow', 'node_2_demand', 'link_7_flow', 'link_30_flow', 'link_8_flow', 'node_1_pressure', 'node_19_pressure', 'node_24_demand', 'node_22_pressure', 'node_23_pressure', 'node_16_demand', 'link_31_flow', 'link_14_flow', 'node_1_demand', 'node_25_demand', 'node_17_demand', 'node_10_pressure', 'node_11_demand', 'node_16_pressure', 'link_1_flow', 'node_28_demand', 'link_5_flow', 'link_13_flow', 'node_20_demand', 'node_3_pressure', 'node_23_demand', 'node_18_demand', 'node_10_demand', 'link_24_flow', 'node_12_pressure', 'node_26_pressure', 'link_21_flow', 'node_29_demand', 'node_14_demand', 'node_7_pressure', 'node_8_pressure', 'link_16_flow', 'node_30_pressure', 'node_13_demand', 'link_10_flow', 'link_28_flow', 'node_9_pressure', 'node_5_pressure', 'node_21_demand', 'link_11_flow', 'node_28_pressure', 'node_4_demand', 'link_3_flow', 'node_22_demand', 'node_13_pressure', 'node_31_pressure', 'link_19_flow', 'node_15_demand', 'node_19_demand', 'node_31_demand', 'node_24_pressure', 'node_11_pressure', 'link_25_flow', 'link_17_flow']]\n",
      "starting df shape: (87600, 7)\n",
      "This is training run 1 and has the shape:  (87600, 7)\n",
      "The value of dropped columns is 90\n"
     ]
    },
    {
     "name": "stderr",
     "output_type": "stream",
     "text": [
      "/Users/alexellard/opt/anaconda3/lib/python3.7/site-packages/xgboost/data.py:96: UserWarning: Use subset (sliced data) of np.ndarray is not recommended because it will generate extra copies and increase memory consumption\n",
      "  \"because it will generate extra copies and increase \" +\n"
     ]
    },
    {
     "name": "stdout",
     "output_type": "stream",
     "text": [
      "test y shape : (17520, 1)\n",
      "Inv y shape : (17520, 7)\n",
      "y pred shape : (17520, 1)\n",
      "inv y pred : (17520, 7)\n",
      "Run 1 Mean Absolute Error: 4.39784598265946\n",
      "[['node_14_pressure', 'node_26_pressure', 'link_19_flow', 'node_20_pressure', 'link_21_flow', 'node_13_demand', 'node_19_pressure', 'node_5_demand', 'reservoir_pressure', 'node_23_pressure', 'node_4_pressure', 'node_22_demand', 'link_13_flow', 'node_19_demand', 'link_24_flow', 'link_29_flow', 'node_5_pressure', 'link_22_flow', 'node_9_pressure', 'node_3_pressure', 'link_3_flow', 'node_18_pressure', 'link_10_flow', 'node_25_demand', 'link_23_flow', 'link_9_flow', 'link_1_flow', 'node_16_pressure', 'node_21_pressure', 'node_23_demand', 'node_28_demand', 'node_9_demand', 'node_30_pressure', 'link_4_flow', 'node_13_pressure', 'node_30_demand', 'node_7_demand', 'link_26_flow', 'link_12_flow', 'reservoir_demand', 'link_8_flow', 'node_12_pressure', 'node_7_pressure', 'node_18_demand', 'node_3_demand', 'node_4_demand', 'link_6_flow', 'node_2_demand', 'node_2_pressure', 'node_12_demand', 'node_15_demand', 'node_11_demand', 'node_31_demand', 'node_24_demand', 'node_16_demand', 'node_24_pressure', 'node_26_demand', 'node_14_demand', 'link_18_flow', 'node_8_demand', 'node_10_demand', 'link_7_flow', 'node_20_demand', 'node_27_demand', 'link_28_flow', 'link_17_flow', 'node_8_pressure', 'link_2_flow', 'node_1_demand', 'link_32_flow', 'link_25_flow', 'node_11_pressure', 'link_27_flow', 'link_5_flow', 'node_22_pressure', 'node_15_pressure', 'node_17_pressure', 'node_29_demand', 'link_16_flow', 'node_10_pressure', 'link_20_flow', 'link_11_flow', 'node_21_demand', 'node_28_pressure', 'node_6_pressure', 'node_27_pressure', 'link_15_flow', 'node_17_demand', 'link_30_flow']]\n",
      "starting df shape: (87600, 7)\n",
      "This is training run 2 and has the shape:  (87600, 7)\n",
      "The value of dropped columns is 90\n"
     ]
    },
    {
     "name": "stderr",
     "output_type": "stream",
     "text": [
      "/Users/alexellard/opt/anaconda3/lib/python3.7/site-packages/xgboost/data.py:96: UserWarning: Use subset (sliced data) of np.ndarray is not recommended because it will generate extra copies and increase memory consumption\n",
      "  \"because it will generate extra copies and increase \" +\n"
     ]
    },
    {
     "name": "stdout",
     "output_type": "stream",
     "text": [
      "test y shape : (17520, 1)\n",
      "Inv y shape : (17520, 7)\n",
      "y pred shape : (17520, 1)\n",
      "inv y pred : (17520, 7)\n",
      "Run 2 Mean Absolute Error: 0.6397271980866371\n",
      "[['node_25_pressure', 'node_31_demand', 'link_2_flow', 'node_4_demand', 'node_2_pressure', 'link_16_flow', 'link_4_flow', 'node_1_pressure', 'node_7_demand', 'link_18_flow', 'node_15_pressure', 'link_11_flow', 'node_22_demand', 'reservoir_demand', 'node_19_demand', 'link_22_flow', 'node_14_demand', 'node_28_demand', 'node_13_pressure', 'link_5_flow', 'node_3_pressure', 'node_1_demand', 'link_28_flow', 'node_30_pressure', 'link_24_flow', 'node_11_pressure', 'node_16_pressure', 'link_30_flow', 'reservoir_pressure', 'node_8_demand', 'node_20_pressure', 'link_1_flow', 'node_2_demand', 'node_5_pressure', 'node_4_pressure', 'node_31_pressure', 'link_31_flow', 'node_6_demand', 'node_18_demand', 'link_9_flow', 'node_10_demand', 'node_24_demand', 'link_27_flow', 'node_7_pressure', 'node_27_demand', 'link_21_flow', 'link_10_flow', 'node_29_demand', 'link_19_flow', 'node_9_pressure', 'node_19_pressure', 'node_30_demand', 'link_6_flow', 'node_12_demand', 'link_29_flow', 'node_10_pressure', 'node_17_pressure', 'link_23_flow', 'node_13_demand', 'node_8_pressure', 'link_15_flow', 'node_6_pressure', 'node_26_demand', 'link_8_flow', 'node_23_demand', 'link_25_flow', 'node_24_pressure', 'node_20_demand', 'link_17_flow', 'node_18_pressure', 'node_17_demand', 'node_21_demand', 'node_22_pressure', 'link_20_flow', 'link_14_flow', 'link_32_flow', 'node_27_pressure', 'node_15_demand', 'link_7_flow', 'node_16_demand', 'link_26_flow', 'link_12_flow', 'link_3_flow', 'node_28_pressure', 'node_21_pressure', 'link_13_flow', 'node_3_demand', 'node_5_demand', 'node_23_pressure']]\n",
      "starting df shape: (87600, 7)\n",
      "This is training run 3 and has the shape:  (87600, 7)\n",
      "The value of dropped columns is 90\n"
     ]
    },
    {
     "name": "stderr",
     "output_type": "stream",
     "text": [
      "/Users/alexellard/opt/anaconda3/lib/python3.7/site-packages/xgboost/data.py:96: UserWarning: Use subset (sliced data) of np.ndarray is not recommended because it will generate extra copies and increase memory consumption\n",
      "  \"because it will generate extra copies and increase \" +\n"
     ]
    },
    {
     "name": "stdout",
     "output_type": "stream",
     "text": [
      "test y shape : (17520, 1)\n",
      "Inv y shape : (17520, 7)\n",
      "y pred shape : (17520, 1)\n",
      "inv y pred : (17520, 7)\n",
      "Run 3 Mean Absolute Error: 0.5348980895894746\n",
      "[['link_15_flow', 'node_5_demand', 'node_6_pressure', 'link_25_flow', 'node_14_pressure', 'node_23_pressure', 'node_1_demand', 'node_20_pressure', 'node_29_demand', 'node_16_pressure', 'node_21_pressure', 'link_19_flow', 'node_28_demand', 'node_27_pressure', 'link_26_flow', 'node_14_demand', 'link_3_flow', 'node_3_pressure', 'node_17_demand', 'node_4_pressure', 'node_28_pressure', 'link_14_flow', 'node_11_pressure', 'node_7_pressure', 'node_13_pressure', 'link_4_flow', 'link_6_flow', 'link_30_flow', 'link_7_flow', 'node_25_demand', 'node_27_demand', 'node_8_demand', 'link_21_flow', 'node_26_demand', 'link_29_flow', 'node_24_pressure', 'link_13_flow', 'link_27_flow', 'node_20_demand', 'node_12_demand', 'node_11_demand', 'node_21_demand', 'node_25_pressure', 'link_16_flow', 'link_18_flow', 'node_17_pressure', 'node_26_pressure', 'node_19_pressure', 'node_9_pressure', 'link_22_flow', 'node_6_demand', 'link_11_flow', 'link_10_flow', 'node_8_pressure', 'link_2_flow', 'node_4_demand', 'link_5_flow', 'link_23_flow', 'node_19_demand', 'node_2_pressure', 'node_23_demand', 'node_1_pressure', 'node_5_pressure', 'link_31_flow', 'node_22_pressure', 'link_28_flow', 'link_17_flow', 'node_10_pressure', 'link_1_flow', 'node_31_pressure', 'node_2_demand', 'node_16_demand', 'link_9_flow', 'node_24_demand', 'link_24_flow', 'node_22_demand', 'node_3_demand', 'node_30_pressure', 'reservoir_demand', 'node_18_pressure', 'node_12_pressure', 'node_13_demand', 'node_7_demand', 'node_10_demand', 'node_30_demand', 'link_8_flow', 'node_31_demand', 'link_12_flow', 'node_18_demand']]\n",
      "starting df shape: (87600, 7)\n",
      "This is training run 4 and has the shape:  (87600, 7)\n",
      "The value of dropped columns is 90\n"
     ]
    },
    {
     "name": "stderr",
     "output_type": "stream",
     "text": [
      "/Users/alexellard/opt/anaconda3/lib/python3.7/site-packages/xgboost/data.py:96: UserWarning: Use subset (sliced data) of np.ndarray is not recommended because it will generate extra copies and increase memory consumption\n",
      "  \"because it will generate extra copies and increase \" +\n"
     ]
    },
    {
     "name": "stdout",
     "output_type": "stream",
     "text": [
      "test y shape : (17520, 1)\n",
      "Inv y shape : (17520, 7)\n",
      "y pred shape : (17520, 1)\n",
      "inv y pred : (17520, 7)\n",
      "Run 4 Mean Absolute Error: 0.886419814396904\n",
      "[['node_18_pressure', 'link_26_flow', 'node_7_pressure', 'node_1_pressure', 'node_19_pressure', 'node_6_pressure', 'link_15_flow', 'node_5_pressure', 'link_10_flow', 'link_17_flow', 'reservoir_pressure', 'link_1_flow', 'node_5_demand', 'node_28_pressure', 'node_12_pressure', 'node_22_pressure', 'link_28_flow', 'node_31_demand', 'node_2_pressure', 'reservoir_demand', 'link_19_flow', 'node_24_demand', 'link_27_flow', 'link_3_flow', 'link_2_flow', 'node_8_pressure', 'node_20_demand', 'link_9_flow', 'node_11_pressure', 'node_14_pressure', 'node_8_demand', 'link_6_flow', 'link_7_flow', 'link_31_flow', 'node_14_demand', 'node_15_pressure', 'link_21_flow', 'node_1_demand', 'node_23_pressure', 'node_13_pressure', 'node_17_pressure', 'link_32_flow', 'node_6_demand', 'link_20_flow', 'node_3_demand', 'node_18_demand', 'link_8_flow', 'node_26_demand', 'node_15_demand', 'node_30_pressure', 'node_27_pressure', 'link_5_flow', 'node_30_demand', 'node_31_pressure', 'link_30_flow', 'node_21_pressure', 'node_4_pressure', 'node_25_pressure', 'node_20_pressure', 'link_29_flow', 'node_10_demand', 'node_23_demand', 'node_9_pressure', 'link_4_flow', 'node_25_demand', 'node_12_demand', 'link_14_flow', 'node_4_demand', 'node_7_demand', 'node_13_demand', 'node_29_demand', 'node_26_pressure', 'link_16_flow', 'node_28_demand', 'link_25_flow', 'node_22_demand', 'link_12_flow', 'link_22_flow', 'link_11_flow', 'link_24_flow', 'link_13_flow', 'node_27_demand', 'node_11_demand', 'node_10_pressure', 'node_2_demand', 'node_21_demand', 'node_9_demand', 'link_18_flow', 'node_3_pressure']]\n",
      "starting df shape: (87600, 7)\n",
      "This is training run 5 and has the shape:  (87600, 7)\n",
      "The value of dropped columns is 90\n"
     ]
    },
    {
     "name": "stderr",
     "output_type": "stream",
     "text": [
      "/Users/alexellard/opt/anaconda3/lib/python3.7/site-packages/xgboost/data.py:96: UserWarning: Use subset (sliced data) of np.ndarray is not recommended because it will generate extra copies and increase memory consumption\n",
      "  \"because it will generate extra copies and increase \" +\n"
     ]
    },
    {
     "name": "stdout",
     "output_type": "stream",
     "text": [
      "test y shape : (17520, 1)\n",
      "Inv y shape : (17520, 7)\n",
      "y pred shape : (17520, 1)\n",
      "inv y pred : (17520, 7)\n",
      "Run 5 Mean Absolute Error: 0.6436985224622471\n",
      "[['node_29_demand', 'link_16_flow', 'node_14_pressure', 'node_31_demand', 'link_2_flow', 'node_24_pressure', 'node_2_pressure', 'link_18_flow', 'node_13_pressure', 'node_8_demand', 'node_1_demand', 'node_17_demand', 'node_2_demand', 'link_29_flow', 'link_6_flow', 'reservoir_pressure', 'node_6_demand', 'node_25_pressure', 'node_10_pressure', 'node_11_pressure', 'node_21_pressure', 'node_1_pressure', 'node_18_demand', 'link_11_flow', 'link_19_flow', 'node_28_demand', 'node_5_pressure', 'link_1_flow', 'link_13_flow', 'node_15_pressure', 'node_28_pressure', 'node_20_demand', 'node_4_pressure', 'node_22_pressure', 'node_22_demand', 'link_24_flow', 'link_3_flow', 'link_10_flow', 'node_10_demand', 'node_24_demand', 'node_16_demand', 'link_30_flow', 'node_8_pressure', 'link_7_flow', 'link_32_flow', 'node_13_demand', 'node_27_pressure', 'node_30_pressure', 'node_20_pressure', 'link_8_flow', 'node_19_demand', 'node_19_pressure', 'node_7_pressure', 'node_12_pressure', 'link_25_flow', 'link_17_flow', 'node_18_pressure', 'node_9_demand', 'node_25_demand', 'node_17_pressure', 'link_5_flow', 'node_9_pressure', 'node_26_pressure', 'link_20_flow', 'link_27_flow', 'node_4_demand', 'link_14_flow', 'node_30_demand', 'node_15_demand', 'node_23_pressure', 'link_15_flow', 'node_27_demand', 'node_3_pressure', 'node_6_pressure', 'link_28_flow', 'link_12_flow', 'node_3_demand', 'reservoir_demand', 'link_4_flow', 'link_26_flow', 'link_31_flow', 'node_31_pressure', 'link_9_flow', 'node_5_demand', 'node_7_demand', 'node_21_demand', 'link_22_flow', 'node_14_demand', 'link_23_flow']]\n",
      "starting df shape: (87600, 7)\n",
      "This is training run 6 and has the shape:  (87600, 7)\n",
      "The value of dropped columns is 90\n"
     ]
    },
    {
     "name": "stderr",
     "output_type": "stream",
     "text": [
      "/Users/alexellard/opt/anaconda3/lib/python3.7/site-packages/xgboost/data.py:96: UserWarning: Use subset (sliced data) of np.ndarray is not recommended because it will generate extra copies and increase memory consumption\n",
      "  \"because it will generate extra copies and increase \" +\n"
     ]
    },
    {
     "name": "stdout",
     "output_type": "stream",
     "text": [
      "test y shape : (17520, 1)\n",
      "Inv y shape : (17520, 7)\n",
      "y pred shape : (17520, 1)\n",
      "inv y pred : (17520, 7)\n",
      "Run 6 Mean Absolute Error: 1.6709001537264823\n",
      "[['link_17_flow', 'node_11_pressure', 'node_19_pressure', 'link_31_flow', 'node_9_demand', 'node_24_demand', 'link_15_flow', 'node_26_pressure', 'link_21_flow', 'link_1_flow', 'link_12_flow', 'link_9_flow', 'link_26_flow', 'node_3_demand', 'link_16_flow', 'node_9_pressure', 'link_27_flow', 'node_12_pressure', 'node_25_demand', 'node_10_pressure', 'node_28_pressure', 'node_15_demand', 'node_8_demand', 'node_26_demand', 'node_10_demand', 'node_29_demand', 'link_23_flow', 'node_31_pressure', 'node_4_demand', 'link_5_flow', 'node_22_demand', 'node_17_demand', 'node_15_pressure', 'node_16_demand', 'node_6_pressure', 'node_31_demand', 'link_24_flow', 'link_6_flow', 'node_2_pressure', 'node_21_pressure', 'link_30_flow', 'link_8_flow', 'link_13_flow', 'node_24_pressure', 'node_17_pressure', 'node_23_demand', 'node_28_demand', 'node_18_demand', 'link_4_flow', 'node_7_pressure', 'node_20_demand', 'link_18_flow', 'link_29_flow', 'node_21_demand', 'link_32_flow', 'node_5_demand', 'node_27_demand', 'node_13_pressure', 'node_12_demand', 'node_22_pressure', 'node_1_pressure', 'link_11_flow', 'node_14_demand', 'link_14_flow', 'node_27_pressure', 'node_13_demand', 'link_3_flow', 'node_16_pressure', 'node_14_pressure', 'node_19_demand', 'reservoir_pressure', 'link_22_flow', 'link_25_flow', 'node_20_pressure', 'node_11_demand', 'node_25_pressure', 'node_8_pressure', 'node_4_pressure', 'node_2_demand', 'node_18_pressure', 'link_10_flow', 'node_7_demand', 'link_7_flow', 'link_2_flow', 'node_6_demand', 'node_30_demand', 'node_1_demand', 'node_5_pressure', 'node_30_pressure']]\n",
      "starting df shape: (87600, 7)\n",
      "This is training run 7 and has the shape:  (87600, 7)\n",
      "The value of dropped columns is 90\n"
     ]
    },
    {
     "name": "stderr",
     "output_type": "stream",
     "text": [
      "/Users/alexellard/opt/anaconda3/lib/python3.7/site-packages/xgboost/data.py:96: UserWarning: Use subset (sliced data) of np.ndarray is not recommended because it will generate extra copies and increase memory consumption\n",
      "  \"because it will generate extra copies and increase \" +\n"
     ]
    },
    {
     "name": "stdout",
     "output_type": "stream",
     "text": [
      "test y shape : (17520, 1)\n",
      "Inv y shape : (17520, 7)\n",
      "y pred shape : (17520, 1)\n",
      "inv y pred : (17520, 7)\n",
      "Run 7 Mean Absolute Error: 13.499363767479842\n",
      "[['link_15_flow', 'link_22_flow', 'node_1_pressure', 'node_17_pressure', 'node_31_pressure', 'node_26_pressure', 'node_3_demand', 'node_2_pressure', 'link_27_flow', 'link_2_flow', 'node_14_pressure', 'node_30_demand', 'link_12_flow', 'node_11_pressure', 'link_26_flow', 'link_19_flow', 'node_31_demand', 'node_8_demand', 'node_12_pressure', 'link_9_flow', 'link_5_flow', 'reservoir_demand', 'node_18_demand', 'node_27_pressure', 'node_19_demand', 'link_18_flow', 'link_20_flow', 'node_14_demand', 'link_24_flow', 'node_4_pressure', 'node_17_demand', 'link_31_flow', 'node_20_pressure', 'node_7_demand', 'link_1_flow', 'node_8_pressure', 'node_22_demand', 'node_21_pressure', 'node_23_demand', 'node_25_pressure', 'reservoir_pressure', 'node_26_demand', 'link_11_flow', 'link_13_flow', 'node_1_demand', 'link_10_flow', 'node_29_demand', 'link_23_flow', 'node_12_demand', 'link_28_flow', 'node_24_pressure', 'node_28_demand', 'link_29_flow', 'node_6_pressure', 'node_27_demand', 'node_10_demand', 'node_19_pressure', 'node_24_demand', 'link_4_flow', 'node_20_demand', 'node_23_pressure', 'link_30_flow', 'link_21_flow', 'link_32_flow', 'node_4_demand', 'node_2_demand', 'node_9_demand', 'link_6_flow', 'node_3_pressure', 'node_13_pressure', 'node_15_pressure', 'node_5_pressure', 'node_11_demand', 'node_6_demand', 'link_16_flow', 'node_30_pressure', 'node_5_demand', 'node_16_demand', 'node_16_pressure', 'link_8_flow', 'node_28_pressure', 'node_21_demand', 'node_9_pressure', 'node_18_pressure', 'node_10_pressure', 'link_3_flow', 'node_7_pressure', 'link_7_flow', 'node_25_demand']]\n",
      "starting df shape: (87600, 7)\n",
      "This is training run 8 and has the shape:  (87600, 7)\n",
      "The value of dropped columns is 90\n"
     ]
    },
    {
     "name": "stderr",
     "output_type": "stream",
     "text": [
      "/Users/alexellard/opt/anaconda3/lib/python3.7/site-packages/xgboost/data.py:96: UserWarning: Use subset (sliced data) of np.ndarray is not recommended because it will generate extra copies and increase memory consumption\n",
      "  \"because it will generate extra copies and increase \" +\n"
     ]
    },
    {
     "name": "stdout",
     "output_type": "stream",
     "text": [
      "test y shape : (17520, 1)\n",
      "Inv y shape : (17520, 7)\n",
      "y pred shape : (17520, 1)\n",
      "inv y pred : (17520, 7)\n",
      "Run 8 Mean Absolute Error: 1.0687755196412903\n",
      "[['node_5_demand', 'node_10_pressure', 'link_16_flow', 'node_31_demand', 'link_32_flow', 'node_9_demand', 'node_16_pressure', 'link_12_flow', 'node_17_demand', 'link_21_flow', 'node_7_demand', 'link_19_flow', 'node_23_demand', 'node_4_pressure', 'node_15_demand', 'node_22_pressure', 'link_6_flow', 'node_30_pressure', 'node_28_demand', 'link_9_flow', 'node_30_demand', 'link_26_flow', 'node_27_pressure', 'link_23_flow', 'node_2_demand', 'node_21_demand', 'node_7_pressure', 'node_8_pressure', 'node_20_pressure', 'link_13_flow', 'node_1_pressure', 'link_15_flow', 'node_11_demand', 'node_2_pressure', 'node_25_pressure', 'node_6_demand', 'node_14_pressure', 'node_19_demand', 'node_29_demand', 'node_14_demand', 'node_16_demand', 'link_11_flow', 'node_12_demand', 'reservoir_demand', 'link_14_flow', 'node_15_pressure', 'link_3_flow', 'node_5_pressure', 'node_24_demand', 'node_17_pressure', 'node_18_demand', 'link_4_flow', 'node_28_pressure', 'node_3_pressure', 'node_13_pressure', 'node_25_demand', 'node_20_demand', 'node_24_pressure', 'node_26_demand', 'node_8_demand', 'link_10_flow', 'node_18_pressure', 'node_27_demand', 'node_22_demand', 'node_31_pressure', 'node_26_pressure', 'link_29_flow', 'link_1_flow', 'node_23_pressure', 'link_22_flow', 'reservoir_pressure', 'link_27_flow', 'node_13_demand', 'link_28_flow', 'link_7_flow', 'link_17_flow', 'link_31_flow', 'link_5_flow', 'node_6_pressure', 'link_8_flow', 'node_11_pressure', 'link_25_flow', 'node_10_demand', 'node_9_pressure', 'node_4_demand', 'link_30_flow', 'link_20_flow', 'node_3_demand', 'node_19_pressure']]\n",
      "starting df shape: (87600, 7)\n",
      "This is training run 9 and has the shape:  (87600, 7)\n",
      "The value of dropped columns is 90\n"
     ]
    },
    {
     "name": "stderr",
     "output_type": "stream",
     "text": [
      "/Users/alexellard/opt/anaconda3/lib/python3.7/site-packages/xgboost/data.py:96: UserWarning: Use subset (sliced data) of np.ndarray is not recommended because it will generate extra copies and increase memory consumption\n",
      "  \"because it will generate extra copies and increase \" +\n"
     ]
    },
    {
     "name": "stdout",
     "output_type": "stream",
     "text": [
      "test y shape : (17520, 1)\n",
      "Inv y shape : (17520, 7)\n",
      "y pred shape : (17520, 1)\n",
      "inv y pred : (17520, 7)\n",
      "Run 9 Mean Absolute Error: 2.1320025298458978\n",
      "[['node_5_pressure', 'link_15_flow', 'node_19_demand', 'node_9_demand', 'node_25_pressure', 'node_7_demand', 'node_17_pressure', 'link_32_flow', 'node_18_demand', 'link_30_flow', 'link_29_flow', 'link_21_flow', 'node_8_demand', 'node_20_demand', 'link_8_flow', 'node_15_demand', 'node_5_demand', 'link_2_flow', 'node_28_demand', 'node_22_pressure', 'node_27_demand', 'link_23_flow', 'node_18_pressure', 'node_21_demand', 'node_2_pressure', 'node_16_pressure', 'node_1_pressure', 'link_19_flow', 'node_6_demand', 'node_1_demand', 'node_3_pressure', 'link_22_flow', 'link_25_flow', 'node_14_demand', 'link_5_flow', 'node_7_pressure', 'node_13_pressure', 'node_29_demand', 'reservoir_demand', 'node_30_demand', 'node_23_demand', 'link_26_flow', 'node_12_pressure', 'node_9_pressure', 'link_10_flow', 'link_16_flow', 'node_11_demand', 'node_13_demand', 'node_6_pressure', 'link_31_flow', 'node_10_demand', 'node_20_pressure', 'node_2_demand', 'node_8_pressure', 'node_4_demand', 'node_16_demand', 'link_11_flow', 'node_22_demand', 'node_19_pressure', 'node_10_pressure', 'node_24_pressure', 'link_24_flow', 'node_30_pressure', 'node_14_pressure', 'link_27_flow', 'link_17_flow', 'node_28_pressure', 'node_26_demand', 'link_1_flow', 'node_3_demand', 'node_27_pressure', 'link_20_flow', 'node_31_demand', 'link_6_flow', 'node_15_pressure', 'node_25_demand', 'node_24_demand', 'node_11_pressure', 'node_17_demand', 'node_31_pressure', 'link_28_flow', 'link_7_flow', 'link_13_flow', 'node_23_pressure', 'node_21_pressure', 'link_3_flow', 'link_9_flow', 'link_4_flow', 'node_4_pressure']]\n",
      "starting df shape: (87600, 7)\n",
      "This is training run 10 and has the shape:  (87600, 7)\n",
      "The value of dropped columns is 90\n"
     ]
    },
    {
     "name": "stderr",
     "output_type": "stream",
     "text": [
      "/Users/alexellard/opt/anaconda3/lib/python3.7/site-packages/xgboost/data.py:96: UserWarning: Use subset (sliced data) of np.ndarray is not recommended because it will generate extra copies and increase memory consumption\n",
      "  \"because it will generate extra copies and increase \" +\n"
     ]
    },
    {
     "name": "stdout",
     "output_type": "stream",
     "text": [
      "test y shape : (17520, 1)\n",
      "Inv y shape : (17520, 7)\n",
      "y pred shape : (17520, 1)\n",
      "inv y pred : (17520, 7)\n",
      "Run 10 Mean Absolute Error: 1.4599358474197908\n",
      "[['node_19_demand', 'node_6_pressure', 'node_19_pressure', 'link_25_flow', 'link_7_flow', 'link_2_flow', 'node_25_pressure', 'node_2_demand', 'node_12_pressure', 'link_29_flow', 'node_15_pressure', 'link_31_flow', 'node_25_demand', 'link_9_flow', 'link_3_flow', 'link_23_flow', 'node_30_demand', 'link_22_flow', 'node_22_pressure', 'node_17_pressure', 'link_8_flow', 'link_27_flow', 'node_7_demand', 'node_8_demand', 'link_11_flow', 'node_31_demand', 'link_28_flow', 'link_4_flow', 'node_4_pressure', 'link_30_flow', 'node_23_pressure', 'node_22_demand', 'node_18_demand', 'node_27_demand', 'link_32_flow', 'link_19_flow', 'node_5_demand', 'node_7_pressure', 'link_16_flow', 'link_20_flow', 'node_10_pressure', 'node_13_pressure', 'node_1_demand', 'node_11_demand', 'node_31_pressure', 'node_23_demand', 'node_13_demand', 'node_29_demand', 'node_26_pressure', 'node_14_demand', 'node_21_demand', 'node_16_pressure', 'node_14_pressure', 'link_6_flow', 'link_17_flow', 'link_18_flow', 'node_11_pressure', 'link_13_flow', 'node_10_demand', 'node_18_pressure', 'link_5_flow', 'reservoir_pressure', 'node_17_demand', 'node_3_pressure', 'node_8_pressure', 'node_16_demand', 'node_28_pressure', 'node_26_demand', 'node_6_demand', 'link_12_flow', 'node_20_demand', 'link_21_flow', 'node_4_demand', 'node_15_demand', 'node_27_pressure', 'node_9_pressure', 'reservoir_demand', 'link_1_flow', 'node_12_demand', 'node_20_pressure', 'node_3_demand', 'node_24_demand', 'node_24_pressure', 'node_5_pressure', 'link_24_flow', 'link_26_flow', 'link_15_flow', 'node_28_demand', 'node_9_demand', 'link_10_flow', 'node_1_pressure', 'node_30_pressure', 'link_14_flow', 'node_21_pressure']]\n",
      "starting df shape: (87600, 2)\n",
      "This is training run 1 and has the shape:  (87600, 2)\n",
      "The value of dropped columns is 95\n"
     ]
    },
    {
     "name": "stderr",
     "output_type": "stream",
     "text": [
      "/Users/alexellard/opt/anaconda3/lib/python3.7/site-packages/xgboost/data.py:96: UserWarning: Use subset (sliced data) of np.ndarray is not recommended because it will generate extra copies and increase memory consumption\n",
      "  \"because it will generate extra copies and increase \" +\n"
     ]
    },
    {
     "name": "stdout",
     "output_type": "stream",
     "text": [
      "test y shape : (17520, 1)\n",
      "Inv y shape : (17520, 2)\n",
      "y pred shape : (17520, 1)\n",
      "inv y pred : (17520, 2)\n",
      "Run 1 Mean Absolute Error: 0.8269866275694204\n",
      "[['node_21_pressure', 'link_26_flow', 'node_10_pressure', 'node_18_demand', 'link_32_flow', 'node_11_demand', 'node_6_demand', 'node_28_demand', 'node_26_pressure', 'node_11_pressure', 'node_1_pressure', 'node_3_demand', 'link_22_flow', 'link_30_flow', 'node_10_demand', 'link_13_flow', 'link_5_flow', 'link_19_flow', 'node_31_demand', 'node_30_pressure', 'link_27_flow', 'link_8_flow', 'node_16_demand', 'reservoir_demand', 'node_13_pressure', 'node_8_demand', 'node_7_demand', 'link_16_flow', 'node_12_demand', 'node_25_pressure', 'link_7_flow', 'link_24_flow', 'node_19_demand', 'link_10_flow', 'link_9_flow', 'node_5_demand', 'node_15_pressure', 'node_6_pressure', 'node_12_pressure', 'node_20_pressure', 'node_24_pressure', 'node_29_demand', 'node_2_demand', 'node_26_demand', 'node_14_demand', 'node_25_demand', 'link_2_flow', 'link_18_flow', 'node_27_demand', 'node_4_pressure', 'node_23_pressure', 'node_30_demand', 'node_19_pressure', 'node_9_demand', 'node_31_pressure', 'node_5_pressure', 'link_28_flow', 'node_23_demand', 'node_4_demand', 'link_31_flow', 'node_3_pressure', 'link_11_flow', 'node_9_pressure', 'node_28_pressure', 'link_14_flow', 'link_29_flow', 'node_21_demand', 'link_4_flow', 'link_21_flow', 'link_23_flow', 'node_13_demand', 'node_14_pressure', 'node_8_pressure', 'node_22_demand', 'node_15_demand', 'link_20_flow', 'link_1_flow', 'node_7_pressure', 'link_3_flow', 'link_15_flow', 'node_2_pressure', 'node_17_demand', 'node_27_pressure', 'reservoir_pressure', 'node_17_pressure', 'node_1_demand', 'link_25_flow', 'node_16_pressure', 'link_12_flow', 'node_22_pressure', 'link_17_flow', 'node_24_demand', 'node_20_demand', 'link_6_flow']]\n",
      "starting df shape: (87600, 2)\n",
      "This is training run 2 and has the shape:  (87600, 2)\n",
      "The value of dropped columns is 95\n"
     ]
    },
    {
     "name": "stderr",
     "output_type": "stream",
     "text": [
      "/Users/alexellard/opt/anaconda3/lib/python3.7/site-packages/xgboost/data.py:96: UserWarning: Use subset (sliced data) of np.ndarray is not recommended because it will generate extra copies and increase memory consumption\n",
      "  \"because it will generate extra copies and increase \" +\n"
     ]
    },
    {
     "name": "stdout",
     "output_type": "stream",
     "text": [
      "test y shape : (17520, 1)\n",
      "Inv y shape : (17520, 2)\n",
      "y pred shape : (17520, 1)\n",
      "inv y pred : (17520, 2)\n",
      "Run 2 Mean Absolute Error: 0.8668893105943565\n",
      "[['node_18_pressure', 'link_31_flow', 'link_24_flow', 'node_22_pressure', 'node_24_pressure', 'node_29_demand', 'node_15_pressure', 'node_13_pressure', 'node_24_demand', 'node_3_demand', 'link_10_flow', 'node_28_pressure', 'link_4_flow', 'node_17_pressure', 'node_2_demand', 'link_30_flow', 'link_6_flow', 'node_12_demand', 'node_8_pressure', 'node_22_demand', 'node_7_demand', 'node_4_demand', 'node_27_demand', 'link_29_flow', 'node_25_pressure', 'node_30_pressure', 'node_16_demand', 'link_12_flow', 'link_1_flow', 'node_18_demand', 'link_13_flow', 'link_28_flow', 'node_11_pressure', 'node_23_demand', 'reservoir_pressure', 'node_1_demand', 'link_8_flow', 'node_14_demand', 'node_28_demand', 'link_26_flow', 'node_7_pressure', 'node_1_pressure', 'link_25_flow', 'node_26_demand', 'node_27_pressure', 'node_19_pressure', 'node_23_pressure', 'node_9_demand', 'link_16_flow', 'link_5_flow', 'link_19_flow', 'link_7_flow', 'node_17_demand', 'link_11_flow', 'node_8_demand', 'node_9_pressure', 'node_31_demand', 'link_23_flow', 'node_6_pressure', 'node_5_pressure', 'node_11_demand', 'node_20_pressure', 'node_13_demand', 'node_21_demand', 'node_30_demand', 'link_15_flow', 'node_10_demand', 'node_5_demand', 'link_20_flow', 'node_19_demand', 'node_31_pressure', 'node_20_demand', 'node_10_pressure', 'link_27_flow', 'node_3_pressure', 'node_6_demand', 'node_16_pressure', 'node_15_demand', 'node_25_demand', 'link_3_flow', 'link_17_flow', 'link_32_flow', 'link_21_flow', 'node_21_pressure', 'node_14_pressure', 'reservoir_demand', 'link_18_flow', 'link_9_flow', 'link_22_flow', 'node_26_pressure', 'link_14_flow', 'link_2_flow', 'node_2_pressure', 'node_4_pressure']]\n",
      "starting df shape: (87600, 2)\n",
      "This is training run 3 and has the shape:  (87600, 2)\n",
      "The value of dropped columns is 95\n"
     ]
    },
    {
     "name": "stderr",
     "output_type": "stream",
     "text": [
      "/Users/alexellard/opt/anaconda3/lib/python3.7/site-packages/xgboost/data.py:96: UserWarning: Use subset (sliced data) of np.ndarray is not recommended because it will generate extra copies and increase memory consumption\n",
      "  \"because it will generate extra copies and increase \" +\n"
     ]
    },
    {
     "name": "stdout",
     "output_type": "stream",
     "text": [
      "test y shape : (17520, 1)\n",
      "Inv y shape : (17520, 2)\n",
      "y pred shape : (17520, 1)\n",
      "inv y pred : (17520, 2)\n",
      "Run 3 Mean Absolute Error: 0.7758494985143155\n",
      "[['node_10_demand', 'link_22_flow', 'node_15_demand', 'node_11_demand', 'node_30_pressure', 'node_4_pressure', 'node_20_pressure', 'node_22_pressure', 'node_30_demand', 'link_7_flow', 'node_5_demand', 'link_29_flow', 'node_12_demand', 'link_17_flow', 'reservoir_pressure', 'node_16_pressure', 'node_17_pressure', 'node_20_demand', 'node_3_demand', 'node_14_pressure', 'node_15_pressure', 'node_27_pressure', 'reservoir_demand', 'node_26_pressure', 'node_11_pressure', 'node_12_pressure', 'link_12_flow', 'link_18_flow', 'node_18_demand', 'node_31_demand', 'link_6_flow', 'node_9_pressure', 'node_3_pressure', 'link_16_flow', 'link_5_flow', 'node_13_pressure', 'node_28_demand', 'node_24_pressure', 'link_14_flow', 'link_3_flow', 'node_1_pressure', 'node_1_demand', 'node_2_pressure', 'node_10_pressure', 'node_19_pressure', 'link_25_flow', 'link_20_flow', 'link_24_flow', 'link_26_flow', 'link_28_flow', 'link_13_flow', 'node_16_demand', 'node_17_demand', 'node_27_demand', 'link_1_flow', 'link_32_flow', 'node_6_pressure', 'link_30_flow', 'node_26_demand', 'node_21_pressure', 'node_8_pressure', 'node_29_demand', 'node_23_demand', 'link_23_flow', 'link_15_flow', 'link_2_flow', 'node_5_pressure', 'node_7_pressure', 'link_19_flow', 'link_8_flow', 'node_14_demand', 'node_8_demand', 'node_24_demand', 'node_22_demand', 'node_7_demand', 'link_27_flow', 'link_21_flow', 'node_23_pressure', 'link_10_flow', 'node_9_demand', 'node_25_pressure', 'link_31_flow', 'node_25_demand', 'node_19_demand', 'node_4_demand', 'link_11_flow', 'node_31_pressure', 'node_18_pressure', 'link_4_flow', 'link_9_flow', 'node_28_pressure', 'node_21_demand', 'node_6_demand', 'node_2_demand']]\n",
      "starting df shape: (87600, 2)\n",
      "This is training run 4 and has the shape:  (87600, 2)\n",
      "The value of dropped columns is 95\n"
     ]
    },
    {
     "name": "stderr",
     "output_type": "stream",
     "text": [
      "/Users/alexellard/opt/anaconda3/lib/python3.7/site-packages/xgboost/data.py:96: UserWarning: Use subset (sliced data) of np.ndarray is not recommended because it will generate extra copies and increase memory consumption\n",
      "  \"because it will generate extra copies and increase \" +\n"
     ]
    },
    {
     "name": "stdout",
     "output_type": "stream",
     "text": [
      "test y shape : (17520, 1)\n",
      "Inv y shape : (17520, 2)\n",
      "y pred shape : (17520, 1)\n",
      "inv y pred : (17520, 2)\n",
      "Run 4 Mean Absolute Error: 12.3094101788966\n",
      "[['node_17_pressure', 'link_14_flow', 'node_15_demand', 'reservoir_demand', 'reservoir_pressure', 'node_28_pressure', 'node_31_demand', 'node_12_pressure', 'node_22_pressure', 'link_6_flow', 'node_11_pressure', 'link_20_flow', 'node_18_demand', 'node_3_demand', 'node_23_pressure', 'node_4_demand', 'node_25_pressure', 'node_6_pressure', 'link_7_flow', 'link_18_flow', 'node_13_demand', 'node_4_pressure', 'node_7_pressure', 'link_1_flow', 'node_16_pressure', 'link_24_flow', 'node_19_pressure', 'node_8_demand', 'link_23_flow', 'link_11_flow', 'node_9_pressure', 'link_16_flow', 'node_5_demand', 'link_17_flow', 'node_28_demand', 'node_6_demand', 'node_19_demand', 'node_18_pressure', 'node_17_demand', 'node_30_pressure', 'node_10_demand', 'node_15_pressure', 'link_3_flow', 'node_27_pressure', 'node_2_demand', 'node_22_demand', 'link_10_flow', 'link_19_flow', 'node_21_demand', 'node_11_demand', 'link_5_flow', 'node_24_pressure', 'node_23_demand', 'node_16_demand', 'node_14_pressure', 'link_4_flow', 'link_28_flow', 'node_26_demand', 'node_27_demand', 'node_13_pressure', 'node_24_demand', 'node_26_pressure', 'link_25_flow', 'link_30_flow', 'node_30_demand', 'link_8_flow', 'node_20_demand', 'node_2_pressure', 'link_9_flow', 'link_13_flow', 'link_15_flow', 'node_21_pressure', 'node_1_pressure', 'node_1_demand', 'node_5_pressure', 'link_2_flow', 'link_22_flow', 'link_29_flow', 'node_29_demand', 'node_14_demand', 'link_26_flow', 'node_3_pressure', 'link_12_flow', 'node_31_pressure', 'node_25_demand', 'node_20_pressure', 'node_8_pressure', 'link_27_flow', 'node_7_demand', 'link_31_flow', 'node_9_demand', 'node_12_demand', 'link_32_flow', 'node_10_pressure']]\n",
      "starting df shape: (87600, 2)\n",
      "This is training run 5 and has the shape:  (87600, 2)\n",
      "The value of dropped columns is 95\n"
     ]
    },
    {
     "name": "stderr",
     "output_type": "stream",
     "text": [
      "/Users/alexellard/opt/anaconda3/lib/python3.7/site-packages/xgboost/data.py:96: UserWarning: Use subset (sliced data) of np.ndarray is not recommended because it will generate extra copies and increase memory consumption\n",
      "  \"because it will generate extra copies and increase \" +\n"
     ]
    },
    {
     "name": "stdout",
     "output_type": "stream",
     "text": [
      "test y shape : (17520, 1)\n",
      "Inv y shape : (17520, 2)\n",
      "y pred shape : (17520, 1)\n",
      "inv y pred : (17520, 2)\n",
      "Run 5 Mean Absolute Error: 123.88817694323166\n",
      "[['node_26_demand', 'node_25_pressure', 'link_4_flow', 'link_15_flow', 'node_30_pressure', 'node_28_demand', 'link_20_flow', 'link_29_flow', 'node_1_pressure', 'node_9_pressure', 'node_16_pressure', 'link_10_flow', 'node_23_pressure', 'link_11_flow', 'link_23_flow', 'link_16_flow', 'node_22_demand', 'node_29_demand', 'link_12_flow', 'node_10_pressure', 'node_6_pressure', 'node_3_pressure', 'reservoir_demand', 'node_14_pressure', 'link_22_flow', 'node_4_pressure', 'node_20_pressure', 'node_12_pressure', 'node_17_pressure', 'node_19_pressure', 'node_4_demand', 'link_19_flow', 'node_2_pressure', 'link_31_flow', 'node_24_demand', 'node_23_demand', 'link_8_flow', 'link_32_flow', 'link_5_flow', 'node_27_pressure', 'node_11_pressure', 'node_7_pressure', 'link_26_flow', 'node_15_pressure', 'link_25_flow', 'node_7_demand', 'node_16_demand', 'node_20_demand', 'node_14_demand', 'node_17_demand', 'node_5_pressure', 'link_21_flow', 'node_19_demand', 'node_12_demand', 'node_6_demand', 'link_9_flow', 'link_7_flow', 'node_27_demand', 'node_2_demand', 'node_13_pressure', 'node_22_pressure', 'node_21_pressure', 'node_31_demand', 'link_13_flow', 'link_6_flow', 'node_15_demand', 'link_27_flow', 'link_14_flow', 'node_25_demand', 'node_26_pressure', 'node_18_pressure', 'node_5_demand', 'node_28_pressure', 'node_13_demand', 'node_9_demand', 'node_8_pressure', 'link_2_flow', 'node_30_demand', 'node_11_demand', 'node_21_demand', 'node_31_pressure', 'node_3_demand', 'link_30_flow', 'reservoir_pressure', 'node_1_demand', 'node_24_pressure', 'link_3_flow', 'link_28_flow', 'node_8_demand', 'link_24_flow', 'link_18_flow', 'link_1_flow', 'node_10_demand', 'link_17_flow']]\n",
      "starting df shape: (87600, 2)\n",
      "This is training run 6 and has the shape:  (87600, 2)\n",
      "The value of dropped columns is 95\n"
     ]
    },
    {
     "name": "stderr",
     "output_type": "stream",
     "text": [
      "/Users/alexellard/opt/anaconda3/lib/python3.7/site-packages/xgboost/data.py:96: UserWarning: Use subset (sliced data) of np.ndarray is not recommended because it will generate extra copies and increase memory consumption\n",
      "  \"because it will generate extra copies and increase \" +\n"
     ]
    },
    {
     "name": "stdout",
     "output_type": "stream",
     "text": [
      "test y shape : (17520, 1)\n",
      "Inv y shape : (17520, 2)\n",
      "y pred shape : (17520, 1)\n",
      "inv y pred : (17520, 2)\n",
      "Run 6 Mean Absolute Error: 1.4478681921315562\n",
      "[['node_20_demand', 'node_10_pressure', 'link_32_flow', 'node_8_pressure', 'link_3_flow', 'link_11_flow', 'node_11_pressure', 'node_19_demand', 'node_20_pressure', 'link_4_flow', 'link_12_flow', 'node_23_demand', 'link_29_flow', 'node_3_pressure', 'node_18_demand', 'node_3_demand', 'node_10_demand', 'node_7_pressure', 'node_12_pressure', 'link_27_flow', 'node_30_demand', 'node_9_pressure', 'node_21_pressure', 'link_18_flow', 'node_6_demand', 'reservoir_demand', 'node_17_pressure', 'link_26_flow', 'link_21_flow', 'node_13_demand', 'node_24_pressure', 'node_4_demand', 'link_22_flow', 'link_20_flow', 'node_28_pressure', 'node_22_pressure', 'node_18_pressure', 'node_2_demand', 'link_31_flow', 'node_22_demand', 'node_28_demand', 'node_7_demand', 'link_2_flow', 'node_5_demand', 'node_26_pressure', 'node_29_demand', 'link_6_flow', 'node_24_demand', 'node_27_pressure', 'link_17_flow', 'node_9_demand', 'link_13_flow', 'link_8_flow', 'node_13_pressure', 'node_15_demand', 'node_2_pressure', 'node_5_pressure', 'node_19_pressure', 'node_1_demand', 'node_23_pressure', 'node_11_demand', 'link_16_flow', 'node_12_demand', 'link_19_flow', 'link_24_flow', 'node_21_demand', 'link_5_flow', 'node_1_pressure', 'link_15_flow', 'link_23_flow', 'node_14_demand', 'link_1_flow', 'node_15_pressure', 'link_14_flow', 'link_9_flow', 'node_14_pressure', 'node_25_pressure', 'node_17_demand', 'reservoir_pressure', 'link_7_flow', 'node_25_demand', 'node_26_demand', 'node_8_demand', 'node_4_pressure', 'link_28_flow', 'node_31_demand', 'node_16_pressure', 'node_30_pressure', 'link_25_flow', 'link_30_flow', 'link_10_flow', 'node_6_pressure', 'node_27_demand', 'node_16_demand']]\n",
      "starting df shape: (87600, 2)\n",
      "This is training run 7 and has the shape:  (87600, 2)\n",
      "The value of dropped columns is 95\n"
     ]
    },
    {
     "name": "stderr",
     "output_type": "stream",
     "text": [
      "/Users/alexellard/opt/anaconda3/lib/python3.7/site-packages/xgboost/data.py:96: UserWarning: Use subset (sliced data) of np.ndarray is not recommended because it will generate extra copies and increase memory consumption\n",
      "  \"because it will generate extra copies and increase \" +\n"
     ]
    },
    {
     "name": "stdout",
     "output_type": "stream",
     "text": [
      "test y shape : (17520, 1)\n",
      "Inv y shape : (17520, 2)\n",
      "y pred shape : (17520, 1)\n",
      "inv y pred : (17520, 2)\n",
      "Run 7 Mean Absolute Error: 0.10655759639257815\n",
      "[['link_17_flow', 'node_23_demand', 'node_7_pressure', 'link_25_flow', 'node_8_pressure', 'node_3_demand', 'node_11_demand', 'link_30_flow', 'node_12_demand', 'node_11_pressure', 'node_2_pressure', 'node_28_demand', 'node_27_demand', 'node_10_demand', 'node_31_pressure', 'node_9_demand', 'link_1_flow', 'node_31_demand', 'node_23_pressure', 'node_28_pressure', 'node_6_pressure', 'node_25_demand', 'node_4_pressure', 'link_2_flow', 'link_23_flow', 'link_3_flow', 'link_15_flow', 'link_18_flow', 'link_8_flow', 'node_12_pressure', 'node_13_demand', 'node_14_pressure', 'node_19_demand', 'node_1_demand', 'node_1_pressure', 'link_27_flow', 'link_24_flow', 'link_26_flow', 'link_4_flow', 'link_28_flow', 'node_15_pressure', 'node_17_demand', 'link_29_flow', 'node_29_demand', 'link_20_flow', 'node_30_demand', 'node_8_demand', 'reservoir_demand', 'link_22_flow', 'node_15_demand', 'link_9_flow', 'node_13_pressure', 'link_12_flow', 'link_21_flow', 'link_14_flow', 'node_5_demand', 'node_10_pressure', 'node_4_demand', 'node_9_pressure', 'link_19_flow', 'node_24_demand', 'link_5_flow', 'node_3_pressure', 'node_19_pressure', 'node_21_demand', 'reservoir_pressure', 'node_26_demand', 'node_16_demand', 'node_6_demand', 'link_10_flow', 'link_11_flow', 'node_14_demand', 'link_32_flow', 'node_20_demand', 'node_22_demand', 'node_30_pressure', 'link_13_flow', 'link_16_flow', 'node_22_pressure', 'node_18_pressure', 'node_5_pressure', 'link_7_flow', 'node_18_demand', 'node_24_pressure', 'node_25_pressure', 'node_17_pressure', 'node_21_pressure', 'node_26_pressure', 'node_7_demand', 'node_16_pressure', 'node_20_pressure', 'link_31_flow', 'node_27_pressure', 'node_2_demand']]\n",
      "starting df shape: (87600, 2)\n",
      "This is training run 8 and has the shape:  (87600, 2)\n",
      "The value of dropped columns is 95\n"
     ]
    },
    {
     "name": "stderr",
     "output_type": "stream",
     "text": [
      "/Users/alexellard/opt/anaconda3/lib/python3.7/site-packages/xgboost/data.py:96: UserWarning: Use subset (sliced data) of np.ndarray is not recommended because it will generate extra copies and increase memory consumption\n",
      "  \"because it will generate extra copies and increase \" +\n"
     ]
    },
    {
     "name": "stdout",
     "output_type": "stream",
     "text": [
      "test y shape : (17520, 1)\n",
      "Inv y shape : (17520, 2)\n",
      "y pred shape : (17520, 1)\n",
      "inv y pred : (17520, 2)\n",
      "Run 8 Mean Absolute Error: 110.57096615506826\n",
      "[['link_17_flow', 'node_11_demand', 'link_5_flow', 'link_21_flow', 'node_7_demand', 'node_9_demand', 'node_6_demand', 'node_13_demand', 'node_6_pressure', 'node_17_demand', 'node_3_pressure', 'node_13_pressure', 'node_26_pressure', 'link_1_flow', 'reservoir_demand', 'node_9_pressure', 'node_18_demand', 'node_22_demand', 'node_21_demand', 'node_8_pressure', 'link_14_flow', 'node_31_pressure', 'link_6_flow', 'node_15_pressure', 'link_29_flow', 'link_13_flow', 'node_8_demand', 'node_5_demand', 'node_24_pressure', 'node_28_pressure', 'node_23_demand', 'link_7_flow', 'node_12_demand', 'link_28_flow', 'node_24_demand', 'node_30_pressure', 'node_18_pressure', 'node_20_pressure', 'link_11_flow', 'node_2_pressure', 'node_5_pressure', 'node_10_demand', 'node_10_pressure', 'link_9_flow', 'link_18_flow', 'link_24_flow', 'node_16_demand', 'node_26_demand', 'link_22_flow', 'node_23_pressure', 'node_30_demand', 'node_29_demand', 'node_31_demand', 'node_3_demand', 'node_1_demand', 'link_8_flow', 'link_15_flow', 'link_20_flow', 'link_16_flow', 'node_19_demand', 'link_27_flow', 'link_30_flow', 'node_17_pressure', 'link_3_flow', 'node_4_pressure', 'link_32_flow', 'link_2_flow', 'link_10_flow', 'node_4_demand', 'node_12_pressure', 'node_16_pressure', 'node_11_pressure', 'node_15_demand', 'node_2_demand', 'node_25_pressure', 'node_25_demand', 'node_27_pressure', 'link_19_flow', 'node_20_demand', 'node_27_demand', 'node_1_pressure', 'node_19_pressure', 'link_31_flow', 'node_7_pressure', 'reservoir_pressure', 'node_14_pressure', 'link_12_flow', 'node_28_demand', 'link_23_flow', 'link_26_flow', 'node_14_demand', 'node_21_pressure', 'link_4_flow', 'node_22_pressure']]\n",
      "starting df shape: (87600, 2)\n",
      "This is training run 9 and has the shape:  (87600, 2)\n",
      "The value of dropped columns is 95\n"
     ]
    },
    {
     "name": "stderr",
     "output_type": "stream",
     "text": [
      "/Users/alexellard/opt/anaconda3/lib/python3.7/site-packages/xgboost/data.py:96: UserWarning: Use subset (sliced data) of np.ndarray is not recommended because it will generate extra copies and increase memory consumption\n",
      "  \"because it will generate extra copies and increase \" +\n"
     ]
    },
    {
     "name": "stdout",
     "output_type": "stream",
     "text": [
      "test y shape : (17520, 1)\n",
      "Inv y shape : (17520, 2)\n",
      "y pred shape : (17520, 1)\n",
      "inv y pred : (17520, 2)\n",
      "Run 9 Mean Absolute Error: 28.270489565321014\n",
      "[['link_22_flow', 'node_22_demand', 'link_31_flow', 'link_27_flow', 'link_4_flow', 'node_12_demand', 'node_16_pressure', 'node_24_demand', 'node_27_demand', 'node_19_demand', 'link_21_flow', 'node_9_pressure', 'node_15_pressure', 'node_18_pressure', 'node_17_demand', 'node_28_demand', 'node_27_pressure', 'node_1_pressure', 'link_23_flow', 'node_9_demand', 'link_14_flow', 'node_4_demand', 'node_23_pressure', 'node_24_pressure', 'node_31_demand', 'node_10_demand', 'reservoir_pressure', 'node_13_pressure', 'node_25_demand', 'node_3_pressure', 'link_3_flow', 'link_29_flow', 'link_15_flow', 'node_14_pressure', 'reservoir_demand', 'node_20_pressure', 'node_21_pressure', 'node_7_demand', 'link_5_flow', 'node_14_demand', 'link_11_flow', 'node_19_pressure', 'node_18_demand', 'node_2_demand', 'node_4_pressure', 'link_30_flow', 'node_5_pressure', 'link_19_flow', 'link_16_flow', 'node_20_demand', 'node_26_demand', 'node_10_pressure', 'link_8_flow', 'node_31_pressure', 'link_2_flow', 'node_11_pressure', 'link_20_flow', 'link_9_flow', 'link_18_flow', 'node_25_pressure', 'link_7_flow', 'link_13_flow', 'node_30_pressure', 'link_17_flow', 'link_6_flow', 'node_3_demand', 'link_12_flow', 'node_8_pressure', 'link_26_flow', 'node_22_pressure', 'link_28_flow', 'node_23_demand', 'node_11_demand', 'link_32_flow', 'node_2_pressure', 'link_10_flow', 'node_5_demand', 'node_21_demand', 'node_13_demand', 'node_17_pressure', 'node_15_demand', 'node_6_demand', 'node_28_pressure', 'link_24_flow', 'node_16_demand', 'node_8_demand', 'node_30_demand', 'link_25_flow', 'node_12_pressure', 'node_7_pressure', 'link_1_flow', 'node_6_pressure', 'node_26_pressure', 'node_29_demand']]\n",
      "starting df shape: (87600, 2)\n",
      "This is training run 10 and has the shape:  (87600, 2)\n",
      "The value of dropped columns is 95\n"
     ]
    },
    {
     "name": "stderr",
     "output_type": "stream",
     "text": [
      "/Users/alexellard/opt/anaconda3/lib/python3.7/site-packages/xgboost/data.py:96: UserWarning: Use subset (sliced data) of np.ndarray is not recommended because it will generate extra copies and increase memory consumption\n",
      "  \"because it will generate extra copies and increase \" +\n"
     ]
    },
    {
     "name": "stdout",
     "output_type": "stream",
     "text": [
      "test y shape : (17520, 1)\n",
      "Inv y shape : (17520, 2)\n",
      "y pred shape : (17520, 1)\n",
      "inv y pred : (17520, 2)\n",
      "Run 10 Mean Absolute Error: 34.445120769470954\n",
      "Length MAE_average:  20\n",
      "Length sensors_covered:  20\n"
     ]
    }
   ],
   "source": [
    "#average scores pressure node 29\n",
    "\n",
    "MAE_average = []\n",
    "maximum_MAE = []\n",
    "sensors_covered = []\n",
    "n_columns_to_drop = [0, 5, 10, 15, 20, 25, 30, 35, 40, 45, 50, 55, 60, 65, 70, 75, 80]\n",
    "for n in n_columns_to_drop:\n",
    "    MAE = []\n",
    "    for run in range(1,11):\n",
    "        Y = df[df.columns[61]]\n",
    "        X = df.drop(columns=['node_29_pressure'])\n",
    "        X['node_29_pressure'] = Y\n",
    "        columns = []\n",
    "        columns_to_drop = random.sample(list(X.columns), n)\n",
    "        # Drop the selected columns from the dataframe\n",
    "        if X.columns[-1] in columns_to_drop:\n",
    "            columns_to_drop.remove(X.columns[-1])\n",
    "        X.drop(columns_to_drop, axis=1, inplace=True)\n",
    "        columns.append(columns_to_drop)\n",
    "        print(columns)\n",
    "        print('starting df shape:', X.shape)\n",
    "        print(f'This is training run {run} and has the shape: ', X.shape)\n",
    "        print(f'The value of dropped columns is {n}')\n",
    "\n",
    "        values = X.values\n",
    "        scaler = MinMaxScaler(feature_range=(0, 1))\n",
    "        scaled = scaler.fit_transform(values)\n",
    "        train, test = train_test_split(scaled, test_size=0.2, random_state=0)\n",
    "\n",
    "        # split into input and outputs\n",
    "        train_X, train_y = train[:, :-1], train[:, -1]\n",
    "        test_X, test_y = test[:, :-1], test[:, -1]\n",
    "\n",
    "        #define model\n",
    "        model = xgb.XGBRegressor(\n",
    "            objective='reg:squarederror',\n",
    "            n_estimators=100,\n",
    "            max_depth=6,\n",
    "            learning_rate=0.1,\n",
    "            subsample=0.9,\n",
    "            colsample_bytree=0.8,\n",
    "            random_state=42\n",
    "        )\n",
    "\n",
    "        # fit the model on the training data\n",
    "        model.fit(train_X, train_y)\n",
    "\n",
    "        # make predictions on the test data\n",
    "        y_pred = model.predict(test_X)\n",
    "\n",
    "        test_y = test_y.reshape((len(test_y), 1))\n",
    "        print('test y shape :', test_y.shape)\n",
    "        inv_test_y = concatenate((test_y, test_X[:, -X.shape[1]:]), axis=1)\n",
    "        print('Inv y shape :', inv_test_y.shape)\n",
    "        test_y_inverse = scaler.inverse_transform(inv_test_y)\n",
    "        test_y_inverse = test_y_inverse[:,0]\n",
    "\n",
    "        scaled = scaler.fit_transform(values)\n",
    "        train, test = train_test_split(scaled, test_size=0.2, random_state=0)\n",
    "\n",
    "        # split into input and outputs\n",
    "        train_X, train_y = train[:, :-1], train[:, -1]\n",
    "        test_X, test_y = test[:, :-1], test[:, -1]\n",
    "\n",
    "        #define model\n",
    "        model = xgb.XGBRegressor(\n",
    "            objective='reg:squarederror',\n",
    "            n_estimators=100,\n",
    "            max_depth=6,\n",
    "            learning_rate=0.1,\n",
    "            subsample=0.9,\n",
    "            colsample_bytree=0.8,\n",
    "            random_state=42\n",
    "        )\n",
    "\n",
    "        # fit the model on the training data\n",
    "        model.fit(train_X, train_y)\n",
    "\n",
    "        # make predictions on the test data\n",
    "        y_pred = model.predict(test_X)\n",
    "\n",
    "        test_y = test_y.reshape((len(test_y), 1))\n",
    "        print('test y shape :', test_y.shape)\n",
    "        inv_test_y = concatenate((test_y, test_X[:, -X.shape[1]:]), axis=1)\n",
    "        print('Inv y shape :', inv_test_y.shape)\n",
    "        test_y_inverse = scaler.inverse_transform(inv_test_y)\n",
    "        test_y_inverse = test_y_inverse[:,0]\n",
    "\n",
    "        y_pred = y_pred.reshape((len(y_pred), 1))\n",
    "        print('y pred shape :', y_pred.shape)\n",
    "        inv_y_pred = concatenate((y_pred, test_X[:, -X.shape[1]:]), axis=1)\n",
    "        print('inv y pred :', inv_y_pred.shape)\n",
    "        y_pred_inverse = scaler.inverse_transform(inv_y_pred)\n",
    "        y_pred_inverse = y_pred_inverse[:,0]\n",
    "\n",
    "        # evaluate scaled errors\n",
    "        mae_inverse = mean_absolute_error(test_y_inverse, y_pred_inverse)\n",
    "        MAE.append(mae_inverse)\n",
    "        print(f'Run {run} Mean Absolute Error:', mae_inverse)\n",
    "    percentage_list = round(X.shape[1] / 96 * 100)\n",
    "    sensors_covered.append(percentage_list)\n",
    "    MAE_mean = mean(MAE)\n",
    "    max_MAE = max(MAE)\n",
    "    maximum_MAE.append(max_MAE)\n",
    "    MAE_average.append(MAE_mean)\n",
    "print('Length MAE_average: ', len(MAE_average))\n",
    "print('Length sensors_covered: ', len(sensors_covered))"
   ]
  },
  {
   "cell_type": "code",
   "execution_count": 28,
   "metadata": {},
   "outputs": [
    {
     "data": {
      "image/png": "[encoded data removed]",
      "text/plain": [
       "<Figure size 432x288 with 1 Axes>"
      ]
     },
     "metadata": {
      "needs_background": "light"
     },
     "output_type": "display_data"
    }
   ],
   "source": [
    "plt.plot(sensors_covered, maximum_MAE)\n",
    "plt.ylabel(\"Mean Absolute Error\")\n",
    "plt.xlabel(\"Sensor Cover %\")\n",
    "plt.title(\"MAE vs. Coverage Pressure Node 29\")\n",
    "plt.xlim([100, 0])\n",
    "plt.show()"
   ]
  },
  {
   "cell_type": "code",
   "execution_count": 29,
   "metadata": {},
   "outputs": [
    {
     "data": {
      "image/png": "[encoded data removed]",
      "text/plain": [
       "<Figure size 432x288 with 1 Axes>"
      ]
     },
     "metadata": {
      "needs_background": "light"
     },
     "output_type": "display_data"
    }
   ],
   "source": [
    "plt.plot(sensors_covered, MAE_average)\n",
    "plt.ylabel(\"Mean Absolute Error\")\n",
    "plt.xlabel(\"Sensor Cover %\")\n",
    "plt.title(\"MAE vs. Coverage Pressure Node 29\")\n",
    "plt.xlim([100, 0])\n",
    "plt.show()"
   ]
  },
  {
   "cell_type": "code",
   "execution_count": 13,
   "metadata": {},
   "outputs": [
    {
     "name": "stdout",
     "output_type": "stream",
     "text": [
      "[[]]\n",
      "starting df shape: (87600, 96)\n",
      "This is training run 1 and has the shape:  (87600, 96)\n",
      "The value of dropped columns is 0\n"
     ]
    },
    {
     "name": "stderr",
     "output_type": "stream",
     "text": [
      "/Users/alexellard/opt/anaconda3/lib/python3.7/site-packages/xgboost/data.py:96: UserWarning: Use subset (sliced data) of np.ndarray is not recommended because it will generate extra copies and increase memory consumption\n",
      "  \"because it will generate extra copies and increase \" +\n"
     ]
    },
    {
     "name": "stdout",
     "output_type": "stream",
     "text": [
      "test y shape : (17520, 1)\n",
      "Inv y shape : (17520, 96)\n",
      "y pred shape : (17520, 1)\n",
      "inv y pred : (17520, 96)\n",
      "Run 1 Mean Absolute Error: 4.2262262918320435\n",
      "[[]]\n",
      "starting df shape: (87600, 96)\n",
      "This is training run 2 and has the shape:  (87600, 96)\n",
      "The value of dropped columns is 0\n"
     ]
    },
    {
     "name": "stderr",
     "output_type": "stream",
     "text": [
      "/Users/alexellard/opt/anaconda3/lib/python3.7/site-packages/xgboost/data.py:96: UserWarning: Use subset (sliced data) of np.ndarray is not recommended because it will generate extra copies and increase memory consumption\n",
      "  \"because it will generate extra copies and increase \" +\n"
     ]
    },
    {
     "name": "stdout",
     "output_type": "stream",
     "text": [
      "test y shape : (17520, 1)\n",
      "Inv y shape : (17520, 96)\n",
      "y pred shape : (17520, 1)\n",
      "inv y pred : (17520, 96)\n",
      "Run 2 Mean Absolute Error: 4.2262262918320435\n",
      "[[]]\n",
      "starting df shape: (87600, 96)\n",
      "This is training run 3 and has the shape:  (87600, 96)\n",
      "The value of dropped columns is 0\n"
     ]
    },
    {
     "name": "stderr",
     "output_type": "stream",
     "text": [
      "/Users/alexellard/opt/anaconda3/lib/python3.7/site-packages/xgboost/data.py:96: UserWarning: Use subset (sliced data) of np.ndarray is not recommended because it will generate extra copies and increase memory consumption\n",
      "  \"because it will generate extra copies and increase \" +\n"
     ]
    },
    {
     "name": "stdout",
     "output_type": "stream",
     "text": [
      "test y shape : (17520, 1)\n",
      "Inv y shape : (17520, 96)\n",
      "y pred shape : (17520, 1)\n",
      "inv y pred : (17520, 96)\n",
      "Run 3 Mean Absolute Error: 4.2262262918320435\n",
      "[[]]\n",
      "starting df shape: (87600, 96)\n",
      "This is training run 4 and has the shape:  (87600, 96)\n",
      "The value of dropped columns is 0\n"
     ]
    },
    {
     "name": "stderr",
     "output_type": "stream",
     "text": [
      "/Users/alexellard/opt/anaconda3/lib/python3.7/site-packages/xgboost/data.py:96: UserWarning: Use subset (sliced data) of np.ndarray is not recommended because it will generate extra copies and increase memory consumption\n",
      "  \"because it will generate extra copies and increase \" +\n"
     ]
    },
    {
     "name": "stdout",
     "output_type": "stream",
     "text": [
      "test y shape : (17520, 1)\n",
      "Inv y shape : (17520, 96)\n",
      "y pred shape : (17520, 1)\n",
      "inv y pred : (17520, 96)\n",
      "Run 4 Mean Absolute Error: 4.2262262918320435\n",
      "[[]]\n",
      "starting df shape: (87600, 96)\n",
      "This is training run 5 and has the shape:  (87600, 96)\n",
      "The value of dropped columns is 0\n"
     ]
    },
    {
     "name": "stderr",
     "output_type": "stream",
     "text": [
      "/Users/alexellard/opt/anaconda3/lib/python3.7/site-packages/xgboost/data.py:96: UserWarning: Use subset (sliced data) of np.ndarray is not recommended because it will generate extra copies and increase memory consumption\n",
      "  \"because it will generate extra copies and increase \" +\n"
     ]
    },
    {
     "name": "stdout",
     "output_type": "stream",
     "text": [
      "test y shape : (17520, 1)\n",
      "Inv y shape : (17520, 96)\n",
      "y pred shape : (17520, 1)\n",
      "inv y pred : (17520, 96)\n",
      "Run 5 Mean Absolute Error: 4.2262262918320435\n",
      "[[]]\n",
      "starting df shape: (87600, 96)\n",
      "This is training run 6 and has the shape:  (87600, 96)\n",
      "The value of dropped columns is 0\n"
     ]
    },
    {
     "name": "stderr",
     "output_type": "stream",
     "text": [
      "/Users/alexellard/opt/anaconda3/lib/python3.7/site-packages/xgboost/data.py:96: UserWarning: Use subset (sliced data) of np.ndarray is not recommended because it will generate extra copies and increase memory consumption\n",
      "  \"because it will generate extra copies and increase \" +\n"
     ]
    },
    {
     "name": "stdout",
     "output_type": "stream",
     "text": [
      "test y shape : (17520, 1)\n",
      "Inv y shape : (17520, 96)\n",
      "y pred shape : (17520, 1)\n",
      "inv y pred : (17520, 96)\n",
      "Run 6 Mean Absolute Error: 4.2262262918320435\n",
      "[[]]\n",
      "starting df shape: (87600, 96)\n",
      "This is training run 7 and has the shape:  (87600, 96)\n",
      "The value of dropped columns is 0\n"
     ]
    },
    {
     "name": "stderr",
     "output_type": "stream",
     "text": [
      "/Users/alexellard/opt/anaconda3/lib/python3.7/site-packages/xgboost/data.py:96: UserWarning: Use subset (sliced data) of np.ndarray is not recommended because it will generate extra copies and increase memory consumption\n",
      "  \"because it will generate extra copies and increase \" +\n"
     ]
    },
    {
     "name": "stdout",
     "output_type": "stream",
     "text": [
      "test y shape : (17520, 1)\n",
      "Inv y shape : (17520, 96)\n",
      "y pred shape : (17520, 1)\n",
      "inv y pred : (17520, 96)\n",
      "Run 7 Mean Absolute Error: 4.2262262918320435\n",
      "[[]]\n",
      "starting df shape: (87600, 96)\n",
      "This is training run 8 and has the shape:  (87600, 96)\n",
      "The value of dropped columns is 0\n"
     ]
    },
    {
     "name": "stderr",
     "output_type": "stream",
     "text": [
      "/Users/alexellard/opt/anaconda3/lib/python3.7/site-packages/xgboost/data.py:96: UserWarning: Use subset (sliced data) of np.ndarray is not recommended because it will generate extra copies and increase memory consumption\n",
      "  \"because it will generate extra copies and increase \" +\n"
     ]
    },
    {
     "name": "stdout",
     "output_type": "stream",
     "text": [
      "test y shape : (17520, 1)\n",
      "Inv y shape : (17520, 96)\n",
      "y pred shape : (17520, 1)\n",
      "inv y pred : (17520, 96)\n",
      "Run 8 Mean Absolute Error: 4.2262262918320435\n",
      "[[]]\n",
      "starting df shape: (87600, 96)\n",
      "This is training run 9 and has the shape:  (87600, 96)\n",
      "The value of dropped columns is 0\n"
     ]
    },
    {
     "name": "stderr",
     "output_type": "stream",
     "text": [
      "/Users/alexellard/opt/anaconda3/lib/python3.7/site-packages/xgboost/data.py:96: UserWarning: Use subset (sliced data) of np.ndarray is not recommended because it will generate extra copies and increase memory consumption\n",
      "  \"because it will generate extra copies and increase \" +\n"
     ]
    },
    {
     "name": "stdout",
     "output_type": "stream",
     "text": [
      "test y shape : (17520, 1)\n",
      "Inv y shape : (17520, 96)\n",
      "y pred shape : (17520, 1)\n",
      "inv y pred : (17520, 96)\n",
      "Run 9 Mean Absolute Error: 4.2262262918320435\n",
      "[[]]\n",
      "starting df shape: (87600, 96)\n",
      "This is training run 10 and has the shape:  (87600, 96)\n",
      "The value of dropped columns is 0\n"
     ]
    },
    {
     "name": "stderr",
     "output_type": "stream",
     "text": [
      "/Users/alexellard/opt/anaconda3/lib/python3.7/site-packages/xgboost/data.py:96: UserWarning: Use subset (sliced data) of np.ndarray is not recommended because it will generate extra copies and increase memory consumption\n",
      "  \"because it will generate extra copies and increase \" +\n"
     ]
    },
    {
     "name": "stdout",
     "output_type": "stream",
     "text": [
      "test y shape : (17520, 1)\n",
      "Inv y shape : (17520, 96)\n",
      "y pred shape : (17520, 1)\n",
      "inv y pred : (17520, 96)\n",
      "Run 10 Mean Absolute Error: 4.2262262918320435\n",
      "[['node_15_pressure', 'link_11_flow', 'node_23_pressure', 'link_19_flow', 'link_17_flow']]\n",
      "starting df shape: (87600, 91)\n",
      "This is training run 1 and has the shape:  (87600, 91)\n",
      "The value of dropped columns is 5\n"
     ]
    },
    {
     "name": "stderr",
     "output_type": "stream",
     "text": [
      "/Users/alexellard/opt/anaconda3/lib/python3.7/site-packages/xgboost/data.py:96: UserWarning: Use subset (sliced data) of np.ndarray is not recommended because it will generate extra copies and increase memory consumption\n",
      "  \"because it will generate extra copies and increase \" +\n"
     ]
    },
    {
     "name": "stdout",
     "output_type": "stream",
     "text": [
      "test y shape : (17520, 1)\n",
      "Inv y shape : (17520, 91)\n",
      "y pred shape : (17520, 1)\n",
      "inv y pred : (17520, 91)\n",
      "Run 1 Mean Absolute Error: 4.628443789633154\n",
      "[['node_30_pressure', 'node_21_demand', 'reservoir_demand', 'node_1_pressure', 'node_9_demand']]\n",
      "starting df shape: (87600, 91)\n",
      "This is training run 2 and has the shape:  (87600, 91)\n",
      "The value of dropped columns is 5\n"
     ]
    },
    {
     "name": "stderr",
     "output_type": "stream",
     "text": [
      "/Users/alexellard/opt/anaconda3/lib/python3.7/site-packages/xgboost/data.py:96: UserWarning: Use subset (sliced data) of np.ndarray is not recommended because it will generate extra copies and increase memory consumption\n",
      "  \"because it will generate extra copies and increase \" +\n"
     ]
    },
    {
     "name": "stdout",
     "output_type": "stream",
     "text": [
      "test y shape : (17520, 1)\n",
      "Inv y shape : (17520, 91)\n",
      "y pred shape : (17520, 1)\n",
      "inv y pred : (17520, 91)\n",
      "Run 2 Mean Absolute Error: 0.33966100595846305\n",
      "[['node_15_pressure', 'node_21_pressure', 'link_26_flow', 'node_15_demand', 'node_5_pressure']]\n",
      "starting df shape: (87600, 91)\n",
      "This is training run 3 and has the shape:  (87600, 91)\n",
      "The value of dropped columns is 5\n"
     ]
    },
    {
     "name": "stderr",
     "output_type": "stream",
     "text": [
      "/Users/alexellard/opt/anaconda3/lib/python3.7/site-packages/xgboost/data.py:96: UserWarning: Use subset (sliced data) of np.ndarray is not recommended because it will generate extra copies and increase memory consumption\n",
      "  \"because it will generate extra copies and increase \" +\n"
     ]
    },
    {
     "name": "stdout",
     "output_type": "stream",
     "text": [
      "test y shape : (17520, 1)\n",
      "Inv y shape : (17520, 91)\n",
      "y pred shape : (17520, 1)\n",
      "inv y pred : (17520, 91)\n",
      "Run 3 Mean Absolute Error: 3.0280209621460514\n",
      "[['node_31_demand', 'node_22_demand', 'node_2_demand', 'link_24_flow', 'link_5_flow']]\n",
      "starting df shape: (87600, 91)\n",
      "This is training run 4 and has the shape:  (87600, 91)\n",
      "The value of dropped columns is 5\n"
     ]
    },
    {
     "name": "stderr",
     "output_type": "stream",
     "text": [
      "/Users/alexellard/opt/anaconda3/lib/python3.7/site-packages/xgboost/data.py:96: UserWarning: Use subset (sliced data) of np.ndarray is not recommended because it will generate extra copies and increase memory consumption\n",
      "  \"because it will generate extra copies and increase \" +\n"
     ]
    },
    {
     "name": "stdout",
     "output_type": "stream",
     "text": [
      "test y shape : (17520, 1)\n",
      "Inv y shape : (17520, 91)\n",
      "y pred shape : (17520, 1)\n",
      "inv y pred : (17520, 91)\n",
      "Run 4 Mean Absolute Error: 4.029368184004753\n",
      "[['node_8_demand', 'link_16_flow', 'reservoir_pressure', 'link_27_flow', 'node_19_pressure']]\n",
      "starting df shape: (87600, 91)\n",
      "This is training run 5 and has the shape:  (87600, 91)\n",
      "The value of dropped columns is 5\n"
     ]
    },
    {
     "name": "stderr",
     "output_type": "stream",
     "text": [
      "/Users/alexellard/opt/anaconda3/lib/python3.7/site-packages/xgboost/data.py:96: UserWarning: Use subset (sliced data) of np.ndarray is not recommended because it will generate extra copies and increase memory consumption\n",
      "  \"because it will generate extra copies and increase \" +\n"
     ]
    },
    {
     "name": "stdout",
     "output_type": "stream",
     "text": [
      "test y shape : (17520, 1)\n",
      "Inv y shape : (17520, 91)\n",
      "y pred shape : (17520, 1)\n",
      "inv y pred : (17520, 91)\n",
      "Run 5 Mean Absolute Error: 4.00928879296127\n",
      "[['link_31_flow', 'link_7_flow', 'link_17_flow', 'link_30_flow', 'node_26_demand']]\n",
      "starting df shape: (87600, 91)\n",
      "This is training run 6 and has the shape:  (87600, 91)\n",
      "The value of dropped columns is 5\n"
     ]
    },
    {
     "name": "stderr",
     "output_type": "stream",
     "text": [
      "/Users/alexellard/opt/anaconda3/lib/python3.7/site-packages/xgboost/data.py:96: UserWarning: Use subset (sliced data) of np.ndarray is not recommended because it will generate extra copies and increase memory consumption\n",
      "  \"because it will generate extra copies and increase \" +\n"
     ]
    },
    {
     "name": "stdout",
     "output_type": "stream",
     "text": [
      "test y shape : (17520, 1)\n",
      "Inv y shape : (17520, 91)\n",
      "y pred shape : (17520, 1)\n",
      "inv y pred : (17520, 91)\n",
      "Run 6 Mean Absolute Error: 4.604269787971289\n",
      "[['node_22_pressure', 'node_10_pressure', 'link_26_flow', 'link_22_flow', 'node_17_pressure']]\n",
      "starting df shape: (87600, 91)\n",
      "This is training run 7 and has the shape:  (87600, 91)\n",
      "The value of dropped columns is 5\n"
     ]
    },
    {
     "name": "stderr",
     "output_type": "stream",
     "text": [
      "/Users/alexellard/opt/anaconda3/lib/python3.7/site-packages/xgboost/data.py:96: UserWarning: Use subset (sliced data) of np.ndarray is not recommended because it will generate extra copies and increase memory consumption\n",
      "  \"because it will generate extra copies and increase \" +\n"
     ]
    },
    {
     "name": "stdout",
     "output_type": "stream",
     "text": [
      "test y shape : (17520, 1)\n",
      "Inv y shape : (17520, 91)\n",
      "y pred shape : (17520, 1)\n",
      "inv y pred : (17520, 91)\n",
      "Run 7 Mean Absolute Error: 4.021163782469222\n",
      "[['node_25_pressure', 'node_15_demand', 'node_17_pressure', 'node_26_demand', 'reservoir_demand']]\n",
      "starting df shape: (87600, 91)\n",
      "This is training run 8 and has the shape:  (87600, 91)\n",
      "The value of dropped columns is 5\n"
     ]
    },
    {
     "name": "stderr",
     "output_type": "stream",
     "text": [
      "/Users/alexellard/opt/anaconda3/lib/python3.7/site-packages/xgboost/data.py:96: UserWarning: Use subset (sliced data) of np.ndarray is not recommended because it will generate extra copies and increase memory consumption\n",
      "  \"because it will generate extra copies and increase \" +\n"
     ]
    },
    {
     "name": "stdout",
     "output_type": "stream",
     "text": [
      "test y shape : (17520, 1)\n",
      "Inv y shape : (17520, 91)\n",
      "y pred shape : (17520, 1)\n",
      "inv y pred : (17520, 91)\n",
      "Run 8 Mean Absolute Error: 0.34038360943013635\n",
      "[['node_8_pressure', 'node_12_pressure', 'node_1_pressure', 'link_7_flow', 'node_25_pressure']]\n",
      "starting df shape: (87600, 91)\n",
      "This is training run 9 and has the shape:  (87600, 91)\n",
      "The value of dropped columns is 5\n"
     ]
    },
    {
     "name": "stderr",
     "output_type": "stream",
     "text": [
      "/Users/alexellard/opt/anaconda3/lib/python3.7/site-packages/xgboost/data.py:96: UserWarning: Use subset (sliced data) of np.ndarray is not recommended because it will generate extra copies and increase memory consumption\n",
      "  \"because it will generate extra copies and increase \" +\n"
     ]
    },
    {
     "name": "stdout",
     "output_type": "stream",
     "text": [
      "test y shape : (17520, 1)\n",
      "Inv y shape : (17520, 91)\n",
      "y pred shape : (17520, 1)\n",
      "inv y pred : (17520, 91)\n",
      "Run 9 Mean Absolute Error: 2.98331609618582\n",
      "[['node_27_demand', 'link_25_flow', 'node_31_demand', 'node_6_pressure', 'node_15_pressure']]\n",
      "starting df shape: (87600, 91)\n",
      "This is training run 10 and has the shape:  (87600, 91)\n",
      "The value of dropped columns is 5\n"
     ]
    },
    {
     "name": "stderr",
     "output_type": "stream",
     "text": [
      "/Users/alexellard/opt/anaconda3/lib/python3.7/site-packages/xgboost/data.py:96: UserWarning: Use subset (sliced data) of np.ndarray is not recommended because it will generate extra copies and increase memory consumption\n",
      "  \"because it will generate extra copies and increase \" +\n"
     ]
    },
    {
     "name": "stdout",
     "output_type": "stream",
     "text": [
      "test y shape : (17520, 1)\n",
      "Inv y shape : (17520, 91)\n",
      "y pred shape : (17520, 1)\n",
      "inv y pred : (17520, 91)\n",
      "Run 10 Mean Absolute Error: 3.0170021361439305\n",
      "[['node_2_pressure', 'node_9_pressure', 'node_23_pressure', 'node_13_pressure', 'node_22_demand', 'node_2_demand', 'node_15_pressure', 'node_25_demand', 'link_18_flow', 'node_12_demand']]\n",
      "starting df shape: (87600, 86)\n",
      "This is training run 1 and has the shape:  (87600, 86)\n",
      "The value of dropped columns is 10\n"
     ]
    },
    {
     "name": "stderr",
     "output_type": "stream",
     "text": [
      "/Users/alexellard/opt/anaconda3/lib/python3.7/site-packages/xgboost/data.py:96: UserWarning: Use subset (sliced data) of np.ndarray is not recommended because it will generate extra copies and increase memory consumption\n",
      "  \"because it will generate extra copies and increase \" +\n"
     ]
    },
    {
     "name": "stdout",
     "output_type": "stream",
     "text": [
      "test y shape : (17520, 1)\n",
      "Inv y shape : (17520, 86)\n",
      "y pred shape : (17520, 1)\n",
      "inv y pred : (17520, 86)\n",
      "Run 1 Mean Absolute Error: 3.2704785782997106\n",
      "[['node_30_demand', 'link_28_flow', 'node_10_pressure', 'link_12_flow', 'node_3_demand', 'link_15_flow', 'node_17_demand', 'link_17_flow', 'node_9_pressure', 'node_24_pressure']]\n",
      "starting df shape: (87600, 86)\n",
      "This is training run 2 and has the shape:  (87600, 86)\n",
      "The value of dropped columns is 10\n"
     ]
    },
    {
     "name": "stderr",
     "output_type": "stream",
     "text": [
      "/Users/alexellard/opt/anaconda3/lib/python3.7/site-packages/xgboost/data.py:96: UserWarning: Use subset (sliced data) of np.ndarray is not recommended because it will generate extra copies and increase memory consumption\n",
      "  \"because it will generate extra copies and increase \" +\n"
     ]
    },
    {
     "name": "stdout",
     "output_type": "stream",
     "text": [
      "test y shape : (17520, 1)\n",
      "Inv y shape : (17520, 86)\n",
      "y pred shape : (17520, 1)\n",
      "inv y pred : (17520, 86)\n",
      "Run 2 Mean Absolute Error: 2.8271884955935382\n",
      "[['link_28_flow', 'node_1_demand', 'node_18_pressure', 'node_25_demand', 'reservoir_pressure', 'link_2_flow', 'link_7_flow', 'node_14_demand', 'link_12_flow']]\n",
      "starting df shape: (87600, 87)\n",
      "This is training run 3 and has the shape:  (87600, 87)\n",
      "The value of dropped columns is 10\n"
     ]
    },
    {
     "name": "stderr",
     "output_type": "stream",
     "text": [
      "/Users/alexellard/opt/anaconda3/lib/python3.7/site-packages/xgboost/data.py:96: UserWarning: Use subset (sliced data) of np.ndarray is not recommended because it will generate extra copies and increase memory consumption\n",
      "  \"because it will generate extra copies and increase \" +\n"
     ]
    },
    {
     "name": "stdout",
     "output_type": "stream",
     "text": [
      "test y shape : (17520, 1)\n",
      "Inv y shape : (17520, 87)\n",
      "y pred shape : (17520, 1)\n",
      "inv y pred : (17520, 87)\n",
      "Run 3 Mean Absolute Error: 4.907401812060237\n",
      "[['node_18_demand', 'link_9_flow', 'node_27_demand', 'node_25_demand', 'node_6_pressure', 'node_24_pressure', 'link_18_flow', 'link_22_flow', 'node_16_pressure', 'node_14_pressure']]\n",
      "starting df shape: (87600, 86)\n",
      "This is training run 4 and has the shape:  (87600, 86)\n",
      "The value of dropped columns is 10\n"
     ]
    },
    {
     "name": "stderr",
     "output_type": "stream",
     "text": [
      "/Users/alexellard/opt/anaconda3/lib/python3.7/site-packages/xgboost/data.py:96: UserWarning: Use subset (sliced data) of np.ndarray is not recommended because it will generate extra copies and increase memory consumption\n",
      "  \"because it will generate extra copies and increase \" +\n"
     ]
    },
    {
     "name": "stdout",
     "output_type": "stream",
     "text": [
      "test y shape : (17520, 1)\n",
      "Inv y shape : (17520, 86)\n",
      "y pred shape : (17520, 1)\n",
      "inv y pred : (17520, 86)\n",
      "Run 4 Mean Absolute Error: 3.99527150379877\n",
      "[['node_23_demand', 'node_24_pressure', 'link_19_flow', 'node_6_demand', 'node_16_pressure', 'node_8_pressure', 'node_9_demand', 'node_24_demand', 'node_7_demand', 'node_13_pressure']]\n",
      "starting df shape: (87600, 86)\n",
      "This is training run 5 and has the shape:  (87600, 86)\n",
      "The value of dropped columns is 10\n"
     ]
    },
    {
     "name": "stderr",
     "output_type": "stream",
     "text": [
      "/Users/alexellard/opt/anaconda3/lib/python3.7/site-packages/xgboost/data.py:96: UserWarning: Use subset (sliced data) of np.ndarray is not recommended because it will generate extra copies and increase memory consumption\n",
      "  \"because it will generate extra copies and increase \" +\n"
     ]
    },
    {
     "name": "stdout",
     "output_type": "stream",
     "text": [
      "test y shape : (17520, 1)\n",
      "Inv y shape : (17520, 86)\n",
      "y pred shape : (17520, 1)\n",
      "inv y pred : (17520, 86)\n",
      "Run 5 Mean Absolute Error: 3.269741804865145\n",
      "[['node_8_demand', 'node_4_demand', 'link_22_flow', 'node_1_pressure', 'node_3_demand', 'link_19_flow', 'link_5_flow', 'node_18_pressure', 'link_11_flow', 'node_29_pressure']]\n",
      "starting df shape: (87600, 86)\n",
      "This is training run 6 and has the shape:  (87600, 86)\n",
      "The value of dropped columns is 10\n"
     ]
    },
    {
     "name": "stderr",
     "output_type": "stream",
     "text": [
      "/Users/alexellard/opt/anaconda3/lib/python3.7/site-packages/xgboost/data.py:96: UserWarning: Use subset (sliced data) of np.ndarray is not recommended because it will generate extra copies and increase memory consumption\n",
      "  \"because it will generate extra copies and increase \" +\n"
     ]
    },
    {
     "name": "stdout",
     "output_type": "stream",
     "text": [
      "test y shape : (17520, 1)\n",
      "Inv y shape : (17520, 86)\n",
      "y pred shape : (17520, 1)\n",
      "inv y pred : (17520, 86)\n",
      "Run 6 Mean Absolute Error: 2.807367301583301\n",
      "[['node_28_demand', 'node_10_demand', 'link_26_flow', 'link_7_flow', 'node_20_demand', 'node_21_pressure', 'node_29_pressure', 'node_4_demand', 'node_31_demand', 'link_23_flow']]\n",
      "starting df shape: (87600, 86)\n",
      "This is training run 7 and has the shape:  (87600, 86)\n",
      "The value of dropped columns is 10\n"
     ]
    },
    {
     "name": "stderr",
     "output_type": "stream",
     "text": [
      "/Users/alexellard/opt/anaconda3/lib/python3.7/site-packages/xgboost/data.py:96: UserWarning: Use subset (sliced data) of np.ndarray is not recommended because it will generate extra copies and increase memory consumption\n",
      "  \"because it will generate extra copies and increase \" +\n"
     ]
    },
    {
     "name": "stdout",
     "output_type": "stream",
     "text": [
      "test y shape : (17520, 1)\n",
      "Inv y shape : (17520, 86)\n",
      "y pred shape : (17520, 1)\n",
      "inv y pred : (17520, 86)\n",
      "Run 7 Mean Absolute Error: 3.9732192811165774\n",
      "[['node_13_demand', 'link_29_flow', 'link_12_flow', 'node_11_demand', 'link_27_flow', 'node_23_demand', 'link_21_flow', 'link_10_flow', 'node_30_pressure', 'node_6_demand']]\n",
      "starting df shape: (87600, 86)\n",
      "This is training run 8 and has the shape:  (87600, 86)\n",
      "The value of dropped columns is 10\n"
     ]
    },
    {
     "name": "stderr",
     "output_type": "stream",
     "text": [
      "/Users/alexellard/opt/anaconda3/lib/python3.7/site-packages/xgboost/data.py:96: UserWarning: Use subset (sliced data) of np.ndarray is not recommended because it will generate extra copies and increase memory consumption\n",
      "  \"because it will generate extra copies and increase \" +\n"
     ]
    },
    {
     "name": "stdout",
     "output_type": "stream",
     "text": [
      "test y shape : (17520, 1)\n",
      "Inv y shape : (17520, 86)\n",
      "y pred shape : (17520, 1)\n",
      "inv y pred : (17520, 86)\n",
      "Run 8 Mean Absolute Error: 2.7357487859668903\n",
      "[['link_19_flow', 'node_7_pressure', 'link_16_flow', 'link_18_flow', 'node_3_demand', 'link_4_flow', 'node_18_demand', 'node_4_demand', 'node_26_demand', 'node_16_demand']]\n",
      "starting df shape: (87600, 86)\n",
      "This is training run 9 and has the shape:  (87600, 86)\n",
      "The value of dropped columns is 10\n"
     ]
    },
    {
     "name": "stderr",
     "output_type": "stream",
     "text": [
      "/Users/alexellard/opt/anaconda3/lib/python3.7/site-packages/xgboost/data.py:96: UserWarning: Use subset (sliced data) of np.ndarray is not recommended because it will generate extra copies and increase memory consumption\n",
      "  \"because it will generate extra copies and increase \" +\n"
     ]
    },
    {
     "name": "stdout",
     "output_type": "stream",
     "text": [
      "test y shape : (17520, 1)\n",
      "Inv y shape : (17520, 86)\n",
      "y pred shape : (17520, 1)\n",
      "inv y pred : (17520, 86)\n",
      "Run 9 Mean Absolute Error: 2.8113780950683607\n",
      "[['node_16_demand', 'link_20_flow', 'node_13_pressure', 'node_7_demand', 'node_9_pressure', 'link_30_flow', 'node_27_demand', 'node_30_demand', 'node_4_demand', 'node_13_demand']]\n",
      "starting df shape: (87600, 86)\n",
      "This is training run 10 and has the shape:  (87600, 86)\n",
      "The value of dropped columns is 10\n"
     ]
    },
    {
     "name": "stderr",
     "output_type": "stream",
     "text": [
      "/Users/alexellard/opt/anaconda3/lib/python3.7/site-packages/xgboost/data.py:96: UserWarning: Use subset (sliced data) of np.ndarray is not recommended because it will generate extra copies and increase memory consumption\n",
      "  \"because it will generate extra copies and increase \" +\n"
     ]
    },
    {
     "name": "stdout",
     "output_type": "stream",
     "text": [
      "test y shape : (17520, 1)\n",
      "Inv y shape : (17520, 86)\n",
      "y pred shape : (17520, 1)\n",
      "inv y pred : (17520, 86)\n",
      "Run 10 Mean Absolute Error: 3.444379860407706\n",
      "[['node_5_pressure', 'node_26_demand', 'link_17_flow', 'link_21_flow', 'reservoir_demand', 'link_19_flow', 'node_1_pressure', 'link_12_flow', 'node_26_pressure', 'node_29_pressure', 'node_29_demand', 'node_5_demand', 'link_25_flow', 'node_18_pressure', 'link_29_flow']]\n",
      "starting df shape: (87600, 81)\n",
      "This is training run 1 and has the shape:  (87600, 81)\n",
      "The value of dropped columns is 15\n"
     ]
    },
    {
     "name": "stderr",
     "output_type": "stream",
     "text": [
      "/Users/alexellard/opt/anaconda3/lib/python3.7/site-packages/xgboost/data.py:96: UserWarning: Use subset (sliced data) of np.ndarray is not recommended because it will generate extra copies and increase memory consumption\n",
      "  \"because it will generate extra copies and increase \" +\n"
     ]
    },
    {
     "name": "stdout",
     "output_type": "stream",
     "text": [
      "test y shape : (17520, 1)\n",
      "Inv y shape : (17520, 81)\n",
      "y pred shape : (17520, 1)\n",
      "inv y pred : (17520, 81)\n",
      "Run 1 Mean Absolute Error: 0.3104601527350766\n",
      "[['node_16_demand', 'node_30_demand', 'node_27_demand', 'link_23_flow', 'node_10_demand', 'link_26_flow', 'node_3_pressure', 'node_21_demand', 'node_22_demand', 'link_11_flow', 'link_24_flow', 'node_9_pressure', 'node_13_demand', 'node_9_demand', 'link_21_flow']]\n",
      "starting df shape: (87600, 81)\n",
      "This is training run 2 and has the shape:  (87600, 81)\n",
      "The value of dropped columns is 15\n"
     ]
    },
    {
     "name": "stderr",
     "output_type": "stream",
     "text": [
      "/Users/alexellard/opt/anaconda3/lib/python3.7/site-packages/xgboost/data.py:96: UserWarning: Use subset (sliced data) of np.ndarray is not recommended because it will generate extra copies and increase memory consumption\n",
      "  \"because it will generate extra copies and increase \" +\n"
     ]
    },
    {
     "name": "stdout",
     "output_type": "stream",
     "text": [
      "test y shape : (17520, 1)\n",
      "Inv y shape : (17520, 81)\n",
      "y pred shape : (17520, 1)\n",
      "inv y pred : (17520, 81)\n",
      "Run 2 Mean Absolute Error: 2.8603594206661405\n",
      "[['node_20_pressure', 'node_25_pressure', 'node_23_pressure', 'node_24_pressure', 'node_1_pressure', 'node_3_pressure', 'node_18_demand', 'node_8_pressure', 'node_11_pressure', 'link_3_flow', 'node_4_demand', 'node_11_demand', 'node_8_demand', 'node_29_demand', 'node_5_pressure']]\n",
      "starting df shape: (87600, 81)\n",
      "This is training run 3 and has the shape:  (87600, 81)\n",
      "The value of dropped columns is 15\n"
     ]
    },
    {
     "name": "stderr",
     "output_type": "stream",
     "text": [
      "/Users/alexellard/opt/anaconda3/lib/python3.7/site-packages/xgboost/data.py:96: UserWarning: Use subset (sliced data) of np.ndarray is not recommended because it will generate extra copies and increase memory consumption\n",
      "  \"because it will generate extra copies and increase \" +\n"
     ]
    },
    {
     "name": "stdout",
     "output_type": "stream",
     "text": [
      "test y shape : (17520, 1)\n",
      "Inv y shape : (17520, 81)\n",
      "y pred shape : (17520, 1)\n",
      "inv y pred : (17520, 81)\n",
      "Run 3 Mean Absolute Error: 3.6776221714403534\n",
      "[['link_11_flow', 'node_28_demand', 'node_19_pressure', 'node_18_pressure', 'node_15_demand', 'node_15_pressure', 'link_21_flow', 'node_16_demand', 'node_24_demand', 'link_27_flow', 'node_1_pressure', 'node_9_pressure', 'node_24_pressure', 'link_24_flow', 'node_30_pressure']]\n",
      "starting df shape: (87600, 81)\n",
      "This is training run 4 and has the shape:  (87600, 81)\n",
      "The value of dropped columns is 15\n"
     ]
    },
    {
     "name": "stderr",
     "output_type": "stream",
     "text": [
      "/Users/alexellard/opt/anaconda3/lib/python3.7/site-packages/xgboost/data.py:96: UserWarning: Use subset (sliced data) of np.ndarray is not recommended because it will generate extra copies and increase memory consumption\n",
      "  \"because it will generate extra copies and increase \" +\n"
     ]
    },
    {
     "name": "stdout",
     "output_type": "stream",
     "text": [
      "test y shape : (17520, 1)\n",
      "Inv y shape : (17520, 81)\n",
      "y pred shape : (17520, 1)\n",
      "inv y pred : (17520, 81)\n",
      "Run 4 Mean Absolute Error: 5.2792820866099746\n",
      "[['node_4_demand', 'node_26_demand', 'node_13_pressure', 'node_3_pressure', 'node_16_demand', 'node_1_pressure', 'link_7_flow', 'link_6_flow', 'node_17_pressure', 'node_9_demand', 'node_16_pressure', 'link_30_flow', 'node_17_demand', 'link_27_flow', 'node_9_pressure']]\n",
      "starting df shape: (87600, 81)\n",
      "This is training run 5 and has the shape:  (87600, 81)\n",
      "The value of dropped columns is 15\n"
     ]
    },
    {
     "name": "stderr",
     "output_type": "stream",
     "text": [
      "/Users/alexellard/opt/anaconda3/lib/python3.7/site-packages/xgboost/data.py:96: UserWarning: Use subset (sliced data) of np.ndarray is not recommended because it will generate extra copies and increase memory consumption\n",
      "  \"because it will generate extra copies and increase \" +\n"
     ]
    },
    {
     "name": "stdout",
     "output_type": "stream",
     "text": [
      "test y shape : (17520, 1)\n",
      "Inv y shape : (17520, 81)\n",
      "y pred shape : (17520, 1)\n",
      "inv y pred : (17520, 81)\n",
      "Run 5 Mean Absolute Error: 4.482859840564532\n",
      "[['node_23_pressure', 'link_9_flow', 'node_27_demand', 'link_27_flow', 'link_29_flow', 'node_11_pressure', 'node_29_demand', 'link_28_flow', 'link_19_flow', 'node_20_pressure', 'link_26_flow', 'node_2_demand', 'node_8_demand', 'node_1_demand', 'link_13_flow']]\n",
      "starting df shape: (87600, 81)\n",
      "This is training run 6 and has the shape:  (87600, 81)\n",
      "The value of dropped columns is 15\n"
     ]
    },
    {
     "name": "stderr",
     "output_type": "stream",
     "text": [
      "/Users/alexellard/opt/anaconda3/lib/python3.7/site-packages/xgboost/data.py:96: UserWarning: Use subset (sliced data) of np.ndarray is not recommended because it will generate extra copies and increase memory consumption\n",
      "  \"because it will generate extra copies and increase \" +\n"
     ]
    },
    {
     "name": "stdout",
     "output_type": "stream",
     "text": [
      "test y shape : (17520, 1)\n",
      "Inv y shape : (17520, 81)\n",
      "y pred shape : (17520, 1)\n",
      "inv y pred : (17520, 81)\n",
      "Run 6 Mean Absolute Error: 5.6870356283489905\n",
      "[['node_28_demand', 'node_5_demand', 'node_19_pressure', 'node_10_demand', 'node_14_pressure', 'node_17_pressure', 'link_29_flow', 'link_2_flow', 'link_32_flow', 'node_2_pressure', 'node_28_pressure', 'node_20_pressure', 'node_18_pressure', 'link_24_flow', 'node_23_pressure']]\n",
      "starting df shape: (87600, 81)\n",
      "This is training run 7 and has the shape:  (87600, 81)\n",
      "The value of dropped columns is 15\n"
     ]
    },
    {
     "name": "stderr",
     "output_type": "stream",
     "text": [
      "/Users/alexellard/opt/anaconda3/lib/python3.7/site-packages/xgboost/data.py:96: UserWarning: Use subset (sliced data) of np.ndarray is not recommended because it will generate extra copies and increase memory consumption\n",
      "  \"because it will generate extra copies and increase \" +\n"
     ]
    },
    {
     "name": "stdout",
     "output_type": "stream",
     "text": [
      "test y shape : (17520, 1)\n",
      "Inv y shape : (17520, 81)\n",
      "y pred shape : (17520, 1)\n",
      "inv y pred : (17520, 81)\n",
      "Run 7 Mean Absolute Error: 5.935618846236849\n",
      "[['node_4_pressure', 'link_26_flow', 'link_22_flow', 'link_17_flow', 'link_19_flow', 'link_31_flow', 'node_15_demand', 'link_30_flow', 'link_28_flow', 'node_15_pressure', 'link_29_flow', 'node_12_pressure', 'link_11_flow', 'node_24_pressure']]\n",
      "starting df shape: (87600, 82)\n",
      "This is training run 8 and has the shape:  (87600, 82)\n",
      "The value of dropped columns is 15\n"
     ]
    },
    {
     "name": "stderr",
     "output_type": "stream",
     "text": [
      "/Users/alexellard/opt/anaconda3/lib/python3.7/site-packages/xgboost/data.py:96: UserWarning: Use subset (sliced data) of np.ndarray is not recommended because it will generate extra copies and increase memory consumption\n",
      "  \"because it will generate extra copies and increase \" +\n"
     ]
    },
    {
     "name": "stdout",
     "output_type": "stream",
     "text": [
      "test y shape : (17520, 1)\n",
      "Inv y shape : (17520, 82)\n",
      "y pred shape : (17520, 1)\n",
      "inv y pred : (17520, 82)\n",
      "Run 8 Mean Absolute Error: 2.72864296782508\n",
      "[['node_4_demand', 'node_12_demand', 'node_16_demand', 'link_3_flow', 'link_14_flow', 'link_8_flow', 'node_20_pressure', 'link_23_flow', 'node_30_demand', 'node_2_pressure', 'node_2_demand', 'node_9_demand', 'link_2_flow', 'link_5_flow', 'link_32_flow']]\n",
      "starting df shape: (87600, 81)\n",
      "This is training run 9 and has the shape:  (87600, 81)\n",
      "The value of dropped columns is 15\n"
     ]
    },
    {
     "name": "stderr",
     "output_type": "stream",
     "text": [
      "/Users/alexellard/opt/anaconda3/lib/python3.7/site-packages/xgboost/data.py:96: UserWarning: Use subset (sliced data) of np.ndarray is not recommended because it will generate extra copies and increase memory consumption\n",
      "  \"because it will generate extra copies and increase \" +\n"
     ]
    },
    {
     "name": "stdout",
     "output_type": "stream",
     "text": [
      "test y shape : (17520, 1)\n",
      "Inv y shape : (17520, 81)\n",
      "y pred shape : (17520, 1)\n",
      "inv y pred : (17520, 81)\n",
      "Run 9 Mean Absolute Error: 6.432367168199526\n",
      "[['node_30_demand', 'node_17_demand', 'node_16_pressure', 'link_22_flow', 'node_4_demand', 'link_9_flow', 'link_12_flow', 'node_8_pressure', 'link_13_flow', 'link_30_flow', 'node_6_demand', 'link_28_flow', 'node_2_demand', 'node_16_demand', 'link_21_flow']]\n",
      "starting df shape: (87600, 81)\n",
      "This is training run 10 and has the shape:  (87600, 81)\n",
      "The value of dropped columns is 15\n"
     ]
    },
    {
     "name": "stderr",
     "output_type": "stream",
     "text": [
      "/Users/alexellard/opt/anaconda3/lib/python3.7/site-packages/xgboost/data.py:96: UserWarning: Use subset (sliced data) of np.ndarray is not recommended because it will generate extra copies and increase memory consumption\n",
      "  \"because it will generate extra copies and increase \" +\n"
     ]
    },
    {
     "name": "stdout",
     "output_type": "stream",
     "text": [
      "test y shape : (17520, 1)\n",
      "Inv y shape : (17520, 81)\n",
      "y pred shape : (17520, 1)\n",
      "inv y pred : (17520, 81)\n",
      "Run 10 Mean Absolute Error: 5.571523839949745\n",
      "[['link_11_flow', 'link_12_flow', 'node_30_demand', 'node_11_pressure', 'node_24_pressure', 'link_6_flow', 'link_19_flow', 'node_29_pressure', 'node_22_demand', 'link_20_flow', 'node_3_demand', 'node_18_pressure', 'node_7_pressure', 'node_24_demand', 'node_2_pressure', 'node_8_demand', 'node_12_demand', 'node_20_demand', 'link_32_flow']]\n",
      "starting df shape: (87600, 77)\n",
      "This is training run 1 and has the shape:  (87600, 77)\n",
      "The value of dropped columns is 20\n"
     ]
    },
    {
     "name": "stderr",
     "output_type": "stream",
     "text": [
      "/Users/alexellard/opt/anaconda3/lib/python3.7/site-packages/xgboost/data.py:96: UserWarning: Use subset (sliced data) of np.ndarray is not recommended because it will generate extra copies and increase memory consumption\n",
      "  \"because it will generate extra copies and increase \" +\n"
     ]
    },
    {
     "name": "stdout",
     "output_type": "stream",
     "text": [
      "test y shape : (17520, 1)\n",
      "Inv y shape : (17520, 77)\n",
      "y pred shape : (17520, 1)\n",
      "inv y pred : (17520, 77)\n",
      "Run 1 Mean Absolute Error: 2.5410653329875514\n",
      "[['node_2_demand', 'node_12_pressure', 'link_10_flow', 'link_6_flow', 'link_23_flow', 'node_29_pressure', 'node_8_demand', 'node_11_demand', 'node_5_pressure', 'node_12_demand', 'node_16_pressure', 'node_10_pressure', 'node_31_pressure', 'link_14_flow', 'node_29_demand', 'node_28_demand', 'link_2_flow', 'link_30_flow', 'node_13_demand', 'link_12_flow']]\n",
      "starting df shape: (87600, 76)\n",
      "This is training run 2 and has the shape:  (87600, 76)\n",
      "The value of dropped columns is 20\n"
     ]
    },
    {
     "name": "stderr",
     "output_type": "stream",
     "text": [
      "/Users/alexellard/opt/anaconda3/lib/python3.7/site-packages/xgboost/data.py:96: UserWarning: Use subset (sliced data) of np.ndarray is not recommended because it will generate extra copies and increase memory consumption\n",
      "  \"because it will generate extra copies and increase \" +\n"
     ]
    },
    {
     "name": "stdout",
     "output_type": "stream",
     "text": [
      "test y shape : (17520, 1)\n",
      "Inv y shape : (17520, 76)\n",
      "y pred shape : (17520, 1)\n",
      "inv y pred : (17520, 76)\n",
      "Run 2 Mean Absolute Error: 8.086132853966063\n",
      "[['node_1_pressure', 'node_27_pressure', 'node_18_pressure', 'node_3_demand', 'node_17_demand', 'node_13_demand', 'node_18_demand', 'link_27_flow', 'node_30_demand', 'node_13_pressure', 'node_11_pressure', 'node_9_demand', 'node_22_demand', 'link_25_flow', 'node_20_pressure', 'link_26_flow', 'node_28_pressure', 'link_29_flow', 'node_15_demand', 'node_27_demand']]\n",
      "starting df shape: (87600, 76)\n",
      "This is training run 3 and has the shape:  (87600, 76)\n",
      "The value of dropped columns is 20\n"
     ]
    },
    {
     "name": "stderr",
     "output_type": "stream",
     "text": [
      "/Users/alexellard/opt/anaconda3/lib/python3.7/site-packages/xgboost/data.py:96: UserWarning: Use subset (sliced data) of np.ndarray is not recommended because it will generate extra copies and increase memory consumption\n",
      "  \"because it will generate extra copies and increase \" +\n"
     ]
    },
    {
     "name": "stdout",
     "output_type": "stream",
     "text": [
      "test y shape : (17520, 1)\n",
      "Inv y shape : (17520, 76)\n",
      "y pred shape : (17520, 1)\n",
      "inv y pred : (17520, 76)\n",
      "Run 3 Mean Absolute Error: 3.154340099896472\n",
      "[['node_10_demand', 'link_17_flow', 'node_18_demand', 'node_26_pressure', 'node_25_demand', 'node_20_demand', 'node_8_demand', 'link_20_flow', 'node_5_demand', 'link_10_flow', 'node_22_pressure', 'node_1_pressure', 'node_3_pressure', 'node_18_pressure', 'node_9_demand', 'link_15_flow', 'node_21_pressure', 'link_32_flow', 'link_5_flow']]\n",
      "starting df shape: (87600, 77)\n",
      "This is training run 4 and has the shape:  (87600, 77)\n",
      "The value of dropped columns is 20\n"
     ]
    },
    {
     "name": "stderr",
     "output_type": "stream",
     "text": [
      "/Users/alexellard/opt/anaconda3/lib/python3.7/site-packages/xgboost/data.py:96: UserWarning: Use subset (sliced data) of np.ndarray is not recommended because it will generate extra copies and increase memory consumption\n",
      "  \"because it will generate extra copies and increase \" +\n"
     ]
    },
    {
     "name": "stdout",
     "output_type": "stream",
     "text": [
      "test y shape : (17520, 1)\n",
      "Inv y shape : (17520, 77)\n",
      "y pred shape : (17520, 1)\n",
      "inv y pred : (17520, 77)\n",
      "Run 4 Mean Absolute Error: 2.568982820763998\n",
      "[['link_16_flow', 'node_2_demand', 'link_12_flow', 'link_5_flow', 'node_25_pressure', 'link_21_flow', 'node_5_demand', 'reservoir_pressure', 'node_13_demand', 'node_24_demand', 'node_1_demand', 'node_23_pressure', 'link_14_flow', 'link_20_flow', 'node_3_demand', 'node_10_pressure', 'node_17_pressure', 'link_7_flow', 'link_11_flow']]\n",
      "starting df shape: (87600, 77)\n",
      "This is training run 5 and has the shape:  (87600, 77)\n",
      "The value of dropped columns is 20\n"
     ]
    },
    {
     "name": "stderr",
     "output_type": "stream",
     "text": [
      "/Users/alexellard/opt/anaconda3/lib/python3.7/site-packages/xgboost/data.py:96: UserWarning: Use subset (sliced data) of np.ndarray is not recommended because it will generate extra copies and increase memory consumption\n",
      "  \"because it will generate extra copies and increase \" +\n"
     ]
    },
    {
     "name": "stdout",
     "output_type": "stream",
     "text": [
      "test y shape : (17520, 1)\n",
      "Inv y shape : (17520, 77)\n",
      "y pred shape : (17520, 1)\n",
      "inv y pred : (17520, 77)\n",
      "Run 5 Mean Absolute Error: 4.59866788811063\n",
      "[['node_30_pressure', 'node_15_pressure', 'link_17_flow', 'node_4_pressure', 'node_16_demand', 'node_21_demand', 'node_6_demand', 'link_27_flow', 'node_1_pressure', 'link_21_flow', 'node_28_demand', 'link_10_flow', 'node_27_pressure', 'node_23_demand', 'node_5_pressure', 'node_29_demand', 'link_9_flow', 'node_31_pressure', 'node_3_demand']]\n",
      "starting df shape: (87600, 77)\n",
      "This is training run 6 and has the shape:  (87600, 77)\n",
      "The value of dropped columns is 20\n"
     ]
    },
    {
     "name": "stderr",
     "output_type": "stream",
     "text": [
      "/Users/alexellard/opt/anaconda3/lib/python3.7/site-packages/xgboost/data.py:96: UserWarning: Use subset (sliced data) of np.ndarray is not recommended because it will generate extra copies and increase memory consumption\n",
      "  \"because it will generate extra copies and increase \" +\n"
     ]
    },
    {
     "name": "stdout",
     "output_type": "stream",
     "text": [
      "test y shape : (17520, 1)\n",
      "Inv y shape : (17520, 77)\n",
      "y pred shape : (17520, 1)\n",
      "inv y pred : (17520, 77)\n",
      "Run 6 Mean Absolute Error: 2.6929111166033213\n",
      "[['node_11_pressure', 'node_21_pressure', 'node_2_demand', 'node_9_demand', 'reservoir_demand', 'link_17_flow', 'link_9_flow', 'node_29_pressure', 'node_7_demand', 'node_14_demand', 'link_29_flow', 'node_21_demand', 'node_8_pressure', 'node_24_pressure', 'node_25_pressure', 'node_19_pressure', 'node_17_demand', 'node_3_demand', 'node_15_demand', 'node_1_pressure']]\n",
      "starting df shape: (87600, 76)\n",
      "This is training run 7 and has the shape:  (87600, 76)\n",
      "The value of dropped columns is 20\n"
     ]
    },
    {
     "name": "stderr",
     "output_type": "stream",
     "text": [
      "/Users/alexellard/opt/anaconda3/lib/python3.7/site-packages/xgboost/data.py:96: UserWarning: Use subset (sliced data) of np.ndarray is not recommended because it will generate extra copies and increase memory consumption\n",
      "  \"because it will generate extra copies and increase \" +\n"
     ]
    },
    {
     "name": "stdout",
     "output_type": "stream",
     "text": [
      "test y shape : (17520, 1)\n",
      "Inv y shape : (17520, 76)\n",
      "y pred shape : (17520, 1)\n",
      "inv y pred : (17520, 76)\n",
      "Run 7 Mean Absolute Error: 0.5012241931785969\n",
      "[['node_28_demand', 'link_12_flow', 'node_21_demand', 'link_27_flow', 'link_14_flow', 'node_25_pressure', 'node_29_pressure', 'link_20_flow', 'node_30_pressure', 'node_26_pressure', 'link_23_flow', 'node_12_pressure', 'node_1_demand', 'node_14_pressure', 'node_14_demand', 'node_5_pressure', 'node_11_pressure', 'link_8_flow', 'node_31_pressure', 'node_16_pressure']]\n",
      "starting df shape: (87600, 76)\n",
      "This is training run 8 and has the shape:  (87600, 76)\n",
      "The value of dropped columns is 20\n"
     ]
    },
    {
     "name": "stderr",
     "output_type": "stream",
     "text": [
      "/Users/alexellard/opt/anaconda3/lib/python3.7/site-packages/xgboost/data.py:96: UserWarning: Use subset (sliced data) of np.ndarray is not recommended because it will generate extra copies and increase memory consumption\n",
      "  \"because it will generate extra copies and increase \" +\n"
     ]
    },
    {
     "name": "stdout",
     "output_type": "stream",
     "text": [
      "test y shape : (17520, 1)\n",
      "Inv y shape : (17520, 76)\n",
      "y pred shape : (17520, 1)\n",
      "inv y pred : (17520, 76)\n",
      "Run 8 Mean Absolute Error: 5.07941367771119\n",
      "[['node_1_pressure', 'reservoir_demand', 'node_16_pressure', 'node_13_demand', 'node_15_pressure', 'node_28_demand', 'node_3_pressure', 'node_16_demand', 'link_17_flow', 'node_17_pressure', 'node_10_demand', 'link_9_flow', 'node_25_pressure', 'node_8_demand', 'node_9_demand', 'node_12_demand', 'node_17_demand', 'node_7_demand', 'node_18_pressure', 'link_8_flow']]\n",
      "starting df shape: (87600, 76)\n",
      "This is training run 9 and has the shape:  (87600, 76)\n",
      "The value of dropped columns is 20\n"
     ]
    },
    {
     "name": "stderr",
     "output_type": "stream",
     "text": [
      "/Users/alexellard/opt/anaconda3/lib/python3.7/site-packages/xgboost/data.py:96: UserWarning: Use subset (sliced data) of np.ndarray is not recommended because it will generate extra copies and increase memory consumption\n",
      "  \"because it will generate extra copies and increase \" +\n"
     ]
    },
    {
     "name": "stdout",
     "output_type": "stream",
     "text": [
      "test y shape : (17520, 1)\n",
      "Inv y shape : (17520, 76)\n",
      "y pred shape : (17520, 1)\n",
      "inv y pred : (17520, 76)\n",
      "Run 9 Mean Absolute Error: 0.4759988344904762\n",
      "[['node_15_demand', 'node_8_demand', 'node_19_pressure', 'node_27_demand', 'link_23_flow', 'node_30_pressure', 'node_9_demand', 'link_26_flow', 'node_20_pressure', 'node_18_demand', 'node_30_demand', 'link_5_flow', 'node_7_demand', 'node_13_pressure', 'node_29_demand', 'link_14_flow', 'node_14_demand', 'node_5_demand', 'node_8_pressure', 'node_31_demand']]\n",
      "starting df shape: (87600, 76)\n",
      "This is training run 10 and has the shape:  (87600, 76)\n",
      "The value of dropped columns is 20\n"
     ]
    },
    {
     "name": "stderr",
     "output_type": "stream",
     "text": [
      "/Users/alexellard/opt/anaconda3/lib/python3.7/site-packages/xgboost/data.py:96: UserWarning: Use subset (sliced data) of np.ndarray is not recommended because it will generate extra copies and increase memory consumption\n",
      "  \"because it will generate extra copies and increase \" +\n"
     ]
    },
    {
     "name": "stdout",
     "output_type": "stream",
     "text": [
      "test y shape : (17520, 1)\n",
      "Inv y shape : (17520, 76)\n",
      "y pred shape : (17520, 1)\n",
      "inv y pred : (17520, 76)\n",
      "Run 10 Mean Absolute Error: 3.1500048766111686\n",
      "[['node_11_demand', 'node_10_pressure', 'node_20_pressure', 'link_20_flow', 'link_27_flow', 'node_13_pressure', 'node_1_pressure', 'node_24_demand', 'link_32_flow', 'node_22_pressure', 'link_29_flow', 'link_17_flow', 'node_19_pressure', 'node_7_demand', 'node_31_pressure', 'node_28_pressure', 'node_16_pressure', 'node_28_demand', 'node_6_demand', 'link_16_flow', 'node_3_demand', 'link_13_flow', 'reservoir_pressure', 'node_25_demand', 'link_24_flow']]\n",
      "starting df shape: (87600, 71)\n",
      "This is training run 1 and has the shape:  (87600, 71)\n",
      "The value of dropped columns is 25\n"
     ]
    },
    {
     "name": "stderr",
     "output_type": "stream",
     "text": [
      "/Users/alexellard/opt/anaconda3/lib/python3.7/site-packages/xgboost/data.py:96: UserWarning: Use subset (sliced data) of np.ndarray is not recommended because it will generate extra copies and increase memory consumption\n",
      "  \"because it will generate extra copies and increase \" +\n"
     ]
    },
    {
     "name": "stdout",
     "output_type": "stream",
     "text": [
      "test y shape : (17520, 1)\n",
      "Inv y shape : (17520, 71)\n",
      "y pred shape : (17520, 1)\n",
      "inv y pred : (17520, 71)\n",
      "Run 1 Mean Absolute Error: 2.4915000280003072\n",
      "[['link_18_flow', 'node_19_demand', 'node_13_pressure', 'node_15_pressure', 'node_26_demand', 'link_13_flow', 'node_17_demand', 'node_8_demand', 'node_20_demand', 'node_21_pressure', 'link_16_flow', 'node_24_demand', 'link_24_flow', 'node_24_pressure', 'node_22_pressure', 'node_5_demand', 'node_1_pressure', 'node_26_pressure', 'reservoir_demand', 'node_28_demand', 'reservoir_pressure', 'node_18_pressure', 'link_27_flow', 'link_26_flow', 'node_5_pressure']]\n",
      "starting df shape: (87600, 71)\n",
      "This is training run 2 and has the shape:  (87600, 71)\n",
      "The value of dropped columns is 25\n"
     ]
    },
    {
     "name": "stderr",
     "output_type": "stream",
     "text": [
      "/Users/alexellard/opt/anaconda3/lib/python3.7/site-packages/xgboost/data.py:96: UserWarning: Use subset (sliced data) of np.ndarray is not recommended because it will generate extra copies and increase memory consumption\n",
      "  \"because it will generate extra copies and increase \" +\n"
     ]
    },
    {
     "name": "stdout",
     "output_type": "stream",
     "text": [
      "test y shape : (17520, 1)\n",
      "Inv y shape : (17520, 71)\n",
      "y pred shape : (17520, 1)\n",
      "inv y pred : (17520, 71)\n",
      "Run 2 Mean Absolute Error: 0.31397997647038073\n",
      "[['node_10_demand', 'link_22_flow', 'reservoir_pressure', 'node_6_demand', 'link_8_flow', 'node_16_pressure', 'link_31_flow', 'node_13_demand', 'link_26_flow', 'link_16_flow', 'link_30_flow', 'node_11_pressure', 'node_17_pressure', 'link_15_flow', 'link_24_flow', 'link_5_flow', 'node_7_demand', 'link_11_flow', 'node_12_pressure', 'link_9_flow', 'link_19_flow', 'node_19_pressure', 'node_8_pressure', 'node_27_demand', 'node_26_demand']]\n",
      "starting df shape: (87600, 71)\n",
      "This is training run 3 and has the shape:  (87600, 71)\n",
      "The value of dropped columns is 25\n"
     ]
    },
    {
     "name": "stderr",
     "output_type": "stream",
     "text": [
      "/Users/alexellard/opt/anaconda3/lib/python3.7/site-packages/xgboost/data.py:96: UserWarning: Use subset (sliced data) of np.ndarray is not recommended because it will generate extra copies and increase memory consumption\n",
      "  \"because it will generate extra copies and increase \" +\n"
     ]
    },
    {
     "name": "stdout",
     "output_type": "stream",
     "text": [
      "test y shape : (17520, 1)\n",
      "Inv y shape : (17520, 71)\n",
      "y pred shape : (17520, 1)\n",
      "inv y pred : (17520, 71)\n",
      "Run 3 Mean Absolute Error: 2.314394545310172\n",
      "[['link_3_flow', 'node_2_demand', 'node_3_pressure', 'node_21_pressure', 'node_24_pressure', 'link_5_flow', 'link_30_flow', 'node_25_pressure', 'link_7_flow', 'node_31_demand', 'node_3_demand', 'node_16_demand', 'node_29_demand', 'node_29_pressure', 'node_6_demand', 'node_1_pressure', 'node_4_pressure', 'node_22_demand', 'node_15_pressure', 'node_13_demand', 'link_13_flow', 'node_5_demand', 'node_11_pressure', 'link_11_flow', 'node_27_pressure']]\n",
      "starting df shape: (87600, 71)\n",
      "This is training run 4 and has the shape:  (87600, 71)\n",
      "The value of dropped columns is 25\n"
     ]
    },
    {
     "name": "stderr",
     "output_type": "stream",
     "text": [
      "/Users/alexellard/opt/anaconda3/lib/python3.7/site-packages/xgboost/data.py:96: UserWarning: Use subset (sliced data) of np.ndarray is not recommended because it will generate extra copies and increase memory consumption\n",
      "  \"because it will generate extra copies and increase \" +\n"
     ]
    },
    {
     "name": "stdout",
     "output_type": "stream",
     "text": [
      "test y shape : (17520, 1)\n",
      "Inv y shape : (17520, 71)\n",
      "y pred shape : (17520, 1)\n",
      "inv y pred : (17520, 71)\n",
      "Run 4 Mean Absolute Error: 2.849109309470818\n",
      "[['node_5_pressure', 'node_6_pressure', 'node_19_pressure', 'node_18_demand', 'reservoir_pressure', 'node_9_pressure', 'link_17_flow', 'node_10_pressure', 'node_9_demand', 'node_23_demand', 'reservoir_demand', 'node_20_pressure', 'node_30_demand', 'node_11_demand', 'link_18_flow', 'link_21_flow', 'link_23_flow', 'link_25_flow', 'link_27_flow', 'node_12_demand', 'node_28_pressure', 'link_3_flow', 'link_2_flow', 'node_2_pressure', 'node_16_pressure']]\n",
      "starting df shape: (87600, 71)\n",
      "This is training run 5 and has the shape:  (87600, 71)\n",
      "The value of dropped columns is 25\n"
     ]
    },
    {
     "name": "stderr",
     "output_type": "stream",
     "text": [
      "/Users/alexellard/opt/anaconda3/lib/python3.7/site-packages/xgboost/data.py:96: UserWarning: Use subset (sliced data) of np.ndarray is not recommended because it will generate extra copies and increase memory consumption\n",
      "  \"because it will generate extra copies and increase \" +\n"
     ]
    },
    {
     "name": "stdout",
     "output_type": "stream",
     "text": [
      "test y shape : (17520, 1)\n",
      "Inv y shape : (17520, 71)\n",
      "y pred shape : (17520, 1)\n",
      "inv y pred : (17520, 71)\n",
      "Run 5 Mean Absolute Error: 0.8029849674448166\n",
      "[['node_8_demand', 'node_18_demand', 'node_29_demand', 'link_2_flow', 'node_26_pressure', 'node_7_pressure', 'node_4_pressure', 'node_12_demand', 'node_10_pressure', 'node_13_demand', 'link_28_flow', 'node_15_demand', 'node_22_pressure', 'node_14_demand', 'node_3_pressure', 'node_16_demand', 'node_21_pressure', 'node_9_demand', 'node_4_demand', 'link_14_flow', 'node_10_demand', 'link_18_flow', 'link_32_flow', 'node_5_pressure', 'link_31_flow']]\n",
      "starting df shape: (87600, 71)\n",
      "This is training run 6 and has the shape:  (87600, 71)\n",
      "The value of dropped columns is 25\n"
     ]
    },
    {
     "name": "stderr",
     "output_type": "stream",
     "text": [
      "/Users/alexellard/opt/anaconda3/lib/python3.7/site-packages/xgboost/data.py:96: UserWarning: Use subset (sliced data) of np.ndarray is not recommended because it will generate extra copies and increase memory consumption\n",
      "  \"because it will generate extra copies and increase \" +\n"
     ]
    },
    {
     "name": "stdout",
     "output_type": "stream",
     "text": [
      "test y shape : (17520, 1)\n",
      "Inv y shape : (17520, 71)\n",
      "y pred shape : (17520, 1)\n",
      "inv y pred : (17520, 71)\n",
      "Run 6 Mean Absolute Error: 3.751411579696288\n",
      "[['node_29_pressure', 'link_2_flow', 'node_1_demand', 'link_25_flow', 'node_7_pressure', 'link_10_flow', 'node_26_pressure', 'link_3_flow', 'link_32_flow', 'node_21_demand', 'link_12_flow', 'node_3_pressure', 'node_19_demand', 'node_1_pressure', 'node_11_demand', 'link_4_flow', 'link_26_flow', 'node_17_demand', 'node_29_demand', 'node_22_pressure', 'link_6_flow', 'node_4_demand', 'reservoir_pressure', 'link_31_flow', 'link_8_flow']]\n",
      "starting df shape: (87600, 71)\n",
      "This is training run 7 and has the shape:  (87600, 71)\n",
      "The value of dropped columns is 25\n"
     ]
    },
    {
     "name": "stderr",
     "output_type": "stream",
     "text": [
      "/Users/alexellard/opt/anaconda3/lib/python3.7/site-packages/xgboost/data.py:96: UserWarning: Use subset (sliced data) of np.ndarray is not recommended because it will generate extra copies and increase memory consumption\n",
      "  \"because it will generate extra copies and increase \" +\n"
     ]
    },
    {
     "name": "stdout",
     "output_type": "stream",
     "text": [
      "test y shape : (17520, 1)\n",
      "Inv y shape : (17520, 71)\n",
      "y pred shape : (17520, 1)\n",
      "inv y pred : (17520, 71)\n",
      "Run 7 Mean Absolute Error: 4.438976362927318\n",
      "[['node_1_demand', 'node_11_demand', 'link_3_flow', 'link_22_flow', 'link_30_flow', 'node_22_demand', 'node_21_pressure', 'link_9_flow', 'node_7_demand', 'node_3_demand', 'node_15_demand', 'node_20_demand', 'node_28_pressure', 'link_6_flow', 'link_27_flow', 'link_29_flow', 'link_7_flow', 'node_5_pressure', 'node_27_demand', 'link_15_flow', 'link_31_flow', 'node_25_pressure', 'node_27_pressure', 'node_26_demand']]\n",
      "starting df shape: (87600, 72)\n",
      "This is training run 8 and has the shape:  (87600, 72)\n",
      "The value of dropped columns is 25\n"
     ]
    },
    {
     "name": "stderr",
     "output_type": "stream",
     "text": [
      "/Users/alexellard/opt/anaconda3/lib/python3.7/site-packages/xgboost/data.py:96: UserWarning: Use subset (sliced data) of np.ndarray is not recommended because it will generate extra copies and increase memory consumption\n",
      "  \"because it will generate extra copies and increase \" +\n"
     ]
    },
    {
     "name": "stdout",
     "output_type": "stream",
     "text": [
      "test y shape : (17520, 1)\n",
      "Inv y shape : (17520, 72)\n",
      "y pred shape : (17520, 1)\n",
      "inv y pred : (17520, 72)\n",
      "Run 8 Mean Absolute Error: 3.9258029549864686\n",
      "[['node_18_demand', 'node_24_pressure', 'node_13_demand', 'link_20_flow', 'link_4_flow', 'node_23_pressure', 'link_15_flow', 'node_20_pressure', 'node_14_pressure', 'link_6_flow', 'node_29_demand', 'node_27_pressure', 'node_15_demand', 'node_17_pressure', 'link_30_flow', 'link_24_flow', 'link_12_flow', 'node_18_pressure', 'node_31_pressure', 'node_16_pressure', 'link_13_flow', 'link_29_flow', 'node_16_demand', 'node_22_demand', 'link_31_flow']]\n",
      "starting df shape: (87600, 71)\n",
      "This is training run 9 and has the shape:  (87600, 71)\n",
      "The value of dropped columns is 25\n"
     ]
    },
    {
     "name": "stderr",
     "output_type": "stream",
     "text": [
      "/Users/alexellard/opt/anaconda3/lib/python3.7/site-packages/xgboost/data.py:96: UserWarning: Use subset (sliced data) of np.ndarray is not recommended because it will generate extra copies and increase memory consumption\n",
      "  \"because it will generate extra copies and increase \" +\n"
     ]
    },
    {
     "name": "stdout",
     "output_type": "stream",
     "text": [
      "test y shape : (17520, 1)\n",
      "Inv y shape : (17520, 71)\n",
      "y pred shape : (17520, 1)\n",
      "inv y pred : (17520, 71)\n",
      "Run 9 Mean Absolute Error: 2.862856254083662\n",
      "[['link_20_flow', 'node_26_demand', 'node_4_demand', 'node_31_demand', 'link_10_flow', 'node_26_pressure', 'node_15_demand', 'reservoir_demand', 'reservoir_pressure', 'node_29_pressure', 'link_7_flow', 'node_27_demand', 'node_29_demand', 'node_22_demand', 'link_25_flow', 'node_1_demand', 'link_32_flow', 'link_4_flow', 'node_13_demand', 'node_11_demand', 'node_3_pressure', 'link_23_flow', 'node_9_demand', 'node_14_pressure', 'node_17_pressure']]\n",
      "starting df shape: (87600, 71)\n",
      "This is training run 10 and has the shape:  (87600, 71)\n",
      "The value of dropped columns is 25\n"
     ]
    },
    {
     "name": "stderr",
     "output_type": "stream",
     "text": [
      "/Users/alexellard/opt/anaconda3/lib/python3.7/site-packages/xgboost/data.py:96: UserWarning: Use subset (sliced data) of np.ndarray is not recommended because it will generate extra copies and increase memory consumption\n",
      "  \"because it will generate extra copies and increase \" +\n"
     ]
    },
    {
     "name": "stdout",
     "output_type": "stream",
     "text": [
      "test y shape : (17520, 1)\n",
      "Inv y shape : (17520, 71)\n",
      "y pred shape : (17520, 1)\n",
      "inv y pred : (17520, 71)\n",
      "Run 10 Mean Absolute Error: 0.7865279051966547\n",
      "[['node_12_pressure', 'node_25_pressure', 'node_31_demand', 'link_6_flow', 'link_25_flow', 'node_14_pressure', 'link_31_flow', 'node_4_pressure', 'node_30_demand', 'node_21_demand', 'node_24_pressure', 'node_6_pressure', 'node_3_pressure', 'link_9_flow', 'node_8_demand', 'link_26_flow', 'node_23_pressure', 'node_16_demand', 'node_9_pressure', 'node_10_demand', 'link_14_flow', 'node_3_demand', 'node_4_demand', 'node_20_pressure', 'link_7_flow', 'node_2_demand', 'node_17_pressure', 'link_21_flow', 'link_32_flow', 'node_29_pressure']]\n",
      "starting df shape: (87600, 66)\n",
      "This is training run 1 and has the shape:  (87600, 66)\n",
      "The value of dropped columns is 30\n"
     ]
    },
    {
     "name": "stderr",
     "output_type": "stream",
     "text": [
      "/Users/alexellard/opt/anaconda3/lib/python3.7/site-packages/xgboost/data.py:96: UserWarning: Use subset (sliced data) of np.ndarray is not recommended because it will generate extra copies and increase memory consumption\n",
      "  \"because it will generate extra copies and increase \" +\n"
     ]
    },
    {
     "name": "stdout",
     "output_type": "stream",
     "text": [
      "test y shape : (17520, 1)\n",
      "Inv y shape : (17520, 66)\n",
      "y pred shape : (17520, 1)\n",
      "inv y pred : (17520, 66)\n",
      "Run 1 Mean Absolute Error: 4.098209104982965\n",
      "[['link_24_flow', 'node_15_demand', 'node_14_pressure', 'node_24_pressure', 'node_1_pressure', 'node_9_pressure', 'node_5_demand', 'node_22_pressure', 'reservoir_demand', 'node_3_demand', 'node_11_pressure', 'node_25_demand', 'link_13_flow', 'link_23_flow', 'node_23_pressure', 'node_27_demand', 'link_3_flow', 'node_6_demand', 'node_7_pressure', 'link_12_flow', 'node_29_pressure', 'link_14_flow', 'node_24_demand', 'node_6_pressure', 'node_16_demand', 'link_11_flow', 'link_20_flow', 'link_21_flow', 'node_13_pressure', 'node_23_demand']]\n",
      "starting df shape: (87600, 66)\n",
      "This is training run 2 and has the shape:  (87600, 66)\n",
      "The value of dropped columns is 30\n"
     ]
    },
    {
     "name": "stderr",
     "output_type": "stream",
     "text": [
      "/Users/alexellard/opt/anaconda3/lib/python3.7/site-packages/xgboost/data.py:96: UserWarning: Use subset (sliced data) of np.ndarray is not recommended because it will generate extra copies and increase memory consumption\n",
      "  \"because it will generate extra copies and increase \" +\n"
     ]
    },
    {
     "name": "stdout",
     "output_type": "stream",
     "text": [
      "test y shape : (17520, 1)\n",
      "Inv y shape : (17520, 66)\n",
      "y pred shape : (17520, 1)\n",
      "inv y pred : (17520, 66)\n",
      "Run 2 Mean Absolute Error: 0.4659960568083239\n",
      "[['node_15_demand', 'node_5_pressure', 'link_5_flow', 'node_30_pressure', 'node_24_demand', 'node_4_pressure', 'node_13_pressure', 'node_9_pressure', 'node_11_pressure', 'node_26_pressure', 'node_30_demand', 'node_22_pressure', 'link_21_flow', 'node_24_pressure', 'node_27_pressure', 'node_17_pressure', 'node_18_demand', 'link_18_flow', 'link_29_flow', 'node_17_demand', 'link_17_flow', 'node_23_demand', 'node_28_pressure', 'link_14_flow', 'link_3_flow', 'link_25_flow', 'link_12_flow', 'node_2_demand', 'reservoir_pressure', 'node_8_demand']]\n",
      "starting df shape: (87600, 66)\n",
      "This is training run 3 and has the shape:  (87600, 66)\n",
      "The value of dropped columns is 30\n"
     ]
    },
    {
     "name": "stderr",
     "output_type": "stream",
     "text": [
      "/Users/alexellard/opt/anaconda3/lib/python3.7/site-packages/xgboost/data.py:96: UserWarning: Use subset (sliced data) of np.ndarray is not recommended because it will generate extra copies and increase memory consumption\n",
      "  \"because it will generate extra copies and increase \" +\n"
     ]
    },
    {
     "name": "stdout",
     "output_type": "stream",
     "text": [
      "test y shape : (17520, 1)\n",
      "Inv y shape : (17520, 66)\n",
      "y pred shape : (17520, 1)\n",
      "inv y pred : (17520, 66)\n",
      "Run 3 Mean Absolute Error: 4.155295602691499\n",
      "[['link_6_flow', 'node_13_demand', 'link_30_flow', 'link_28_flow', 'node_11_demand', 'node_18_demand', 'node_22_pressure', 'node_7_demand', 'node_18_pressure', 'reservoir_demand', 'link_13_flow', 'link_21_flow', 'node_29_demand', 'node_15_pressure', 'node_30_pressure', 'node_29_pressure', 'node_4_demand', 'node_3_demand', 'node_16_pressure', 'node_25_demand', 'node_14_demand', 'link_17_flow', 'link_24_flow', 'node_8_demand', 'link_18_flow', 'node_7_pressure', 'node_19_demand', 'link_25_flow', 'link_2_flow', 'node_23_demand']]\n",
      "starting df shape: (87600, 66)\n",
      "This is training run 4 and has the shape:  (87600, 66)\n",
      "The value of dropped columns is 30\n"
     ]
    },
    {
     "name": "stderr",
     "output_type": "stream",
     "text": [
      "/Users/alexellard/opt/anaconda3/lib/python3.7/site-packages/xgboost/data.py:96: UserWarning: Use subset (sliced data) of np.ndarray is not recommended because it will generate extra copies and increase memory consumption\n",
      "  \"because it will generate extra copies and increase \" +\n"
     ]
    },
    {
     "name": "stdout",
     "output_type": "stream",
     "text": [
      "test y shape : (17520, 1)\n",
      "Inv y shape : (17520, 66)\n",
      "y pred shape : (17520, 1)\n",
      "inv y pred : (17520, 66)\n",
      "Run 4 Mean Absolute Error: 0.8083258173844838\n",
      "[['node_18_pressure', 'node_1_demand', 'node_7_pressure', 'node_7_demand', 'node_18_demand', 'link_18_flow', 'node_5_demand', 'node_17_pressure', 'link_8_flow', 'node_11_pressure', 'link_6_flow', 'node_31_demand', 'link_26_flow', 'node_28_pressure', 'reservoir_pressure', 'node_1_pressure', 'node_10_demand', 'link_31_flow', 'link_4_flow', 'node_22_pressure', 'node_26_pressure', 'node_6_demand', 'node_21_pressure', 'node_2_pressure', 'node_8_pressure', 'link_13_flow', 'node_24_pressure', 'link_32_flow', 'node_9_demand']]\n",
      "starting df shape: (87600, 67)\n",
      "This is training run 5 and has the shape:  (87600, 67)\n",
      "The value of dropped columns is 30\n"
     ]
    },
    {
     "name": "stderr",
     "output_type": "stream",
     "text": [
      "/Users/alexellard/opt/anaconda3/lib/python3.7/site-packages/xgboost/data.py:96: UserWarning: Use subset (sliced data) of np.ndarray is not recommended because it will generate extra copies and increase memory consumption\n",
      "  \"because it will generate extra copies and increase \" +\n"
     ]
    },
    {
     "name": "stdout",
     "output_type": "stream",
     "text": [
      "test y shape : (17520, 1)\n",
      "Inv y shape : (17520, 67)\n",
      "y pred shape : (17520, 1)\n",
      "inv y pred : (17520, 67)\n",
      "Run 5 Mean Absolute Error: 5.7680579956059645\n",
      "[['node_27_pressure', 'link_15_flow', 'node_22_demand', 'node_27_demand', 'node_23_pressure', 'link_16_flow', 'node_6_pressure', 'node_15_pressure', 'link_17_flow', 'node_8_pressure', 'node_19_pressure', 'node_12_demand', 'node_17_demand', 'link_27_flow', 'link_14_flow', 'node_5_pressure', 'node_1_demand', 'node_3_pressure', 'link_11_flow', 'link_29_flow', 'node_30_demand', 'link_31_flow', 'node_31_pressure', 'link_13_flow', 'node_17_pressure', 'node_18_pressure', 'node_26_demand', 'node_24_pressure', 'node_13_demand', 'link_32_flow']]\n",
      "starting df shape: (87600, 66)\n",
      "This is training run 6 and has the shape:  (87600, 66)\n",
      "The value of dropped columns is 30\n"
     ]
    },
    {
     "name": "stderr",
     "output_type": "stream",
     "text": [
      "/Users/alexellard/opt/anaconda3/lib/python3.7/site-packages/xgboost/data.py:96: UserWarning: Use subset (sliced data) of np.ndarray is not recommended because it will generate extra copies and increase memory consumption\n",
      "  \"because it will generate extra copies and increase \" +\n"
     ]
    },
    {
     "name": "stdout",
     "output_type": "stream",
     "text": [
      "test y shape : (17520, 1)\n",
      "Inv y shape : (17520, 66)\n",
      "y pred shape : (17520, 1)\n",
      "inv y pred : (17520, 66)\n",
      "Run 6 Mean Absolute Error: 2.8015041356176575\n",
      "[['node_29_demand', 'node_24_pressure', 'node_10_pressure', 'node_27_pressure', 'link_30_flow', 'link_21_flow', 'node_19_demand', 'node_8_pressure', 'node_31_pressure', 'link_26_flow', 'link_17_flow', 'node_11_demand', 'node_29_pressure', 'node_1_pressure', 'link_19_flow', 'link_12_flow', 'node_23_demand', 'node_12_demand', 'reservoir_pressure', 'node_25_pressure', 'node_24_demand', 'node_22_demand', 'link_31_flow', 'node_8_demand', 'node_4_pressure', 'node_25_demand', 'node_3_demand', 'link_32_flow', 'node_2_pressure']]\n",
      "starting df shape: (87600, 67)\n",
      "This is training run 7 and has the shape:  (87600, 67)\n",
      "The value of dropped columns is 30\n"
     ]
    },
    {
     "name": "stderr",
     "output_type": "stream",
     "text": [
      "/Users/alexellard/opt/anaconda3/lib/python3.7/site-packages/xgboost/data.py:96: UserWarning: Use subset (sliced data) of np.ndarray is not recommended because it will generate extra copies and increase memory consumption\n",
      "  \"because it will generate extra copies and increase \" +\n"
     ]
    },
    {
     "name": "stdout",
     "output_type": "stream",
     "text": [
      "test y shape : (17520, 1)\n",
      "Inv y shape : (17520, 67)\n",
      "y pred shape : (17520, 1)\n",
      "inv y pred : (17520, 67)\n",
      "Run 7 Mean Absolute Error: 4.428010161780337\n",
      "[['node_4_demand', 'node_18_demand', 'node_26_demand', 'node_2_pressure', 'node_31_demand', 'link_17_flow', 'node_15_pressure', 'link_12_flow', 'node_29_demand', 'node_24_demand', 'node_21_demand', 'reservoir_demand', 'node_22_demand', 'node_7_pressure', 'link_7_flow', 'link_10_flow', 'node_3_pressure', 'node_14_demand', 'node_5_pressure', 'node_5_demand', 'link_30_flow', 'node_19_demand', 'node_14_pressure', 'node_25_pressure', 'node_7_demand', 'node_8_demand', 'node_23_demand', 'node_12_demand', 'node_17_pressure', 'node_10_pressure']]\n",
      "starting df shape: (87600, 66)\n",
      "This is training run 8 and has the shape:  (87600, 66)\n",
      "The value of dropped columns is 30\n"
     ]
    },
    {
     "name": "stderr",
     "output_type": "stream",
     "text": [
      "/Users/alexellard/opt/anaconda3/lib/python3.7/site-packages/xgboost/data.py:96: UserWarning: Use subset (sliced data) of np.ndarray is not recommended because it will generate extra copies and increase memory consumption\n",
      "  \"because it will generate extra copies and increase \" +\n"
     ]
    },
    {
     "name": "stdout",
     "output_type": "stream",
     "text": [
      "test y shape : (17520, 1)\n",
      "Inv y shape : (17520, 66)\n",
      "y pred shape : (17520, 1)\n",
      "inv y pred : (17520, 66)\n",
      "Run 8 Mean Absolute Error: 0.5003869916367403\n",
      "[['node_7_demand', 'node_18_demand', 'link_2_flow', 'node_11_demand', 'node_4_demand', 'node_31_pressure', 'link_18_flow', 'link_29_flow', 'node_2_demand', 'node_1_pressure', 'node_25_pressure', 'link_12_flow', 'link_7_flow', 'node_6_pressure', 'link_8_flow', 'node_18_pressure', 'node_4_pressure', 'node_25_demand', 'node_5_demand', 'node_5_pressure', 'node_22_demand', 'node_13_pressure', 'node_29_pressure', 'node_19_demand', 'node_8_pressure', 'link_26_flow', 'node_14_pressure', 'node_1_demand', 'node_31_demand', 'node_24_demand']]\n",
      "starting df shape: (87600, 66)\n",
      "This is training run 9 and has the shape:  (87600, 66)\n",
      "The value of dropped columns is 30\n"
     ]
    },
    {
     "name": "stderr",
     "output_type": "stream",
     "text": [
      "/Users/alexellard/opt/anaconda3/lib/python3.7/site-packages/xgboost/data.py:96: UserWarning: Use subset (sliced data) of np.ndarray is not recommended because it will generate extra copies and increase memory consumption\n",
      "  \"because it will generate extra copies and increase \" +\n"
     ]
    },
    {
     "name": "stdout",
     "output_type": "stream",
     "text": [
      "test y shape : (17520, 1)\n",
      "Inv y shape : (17520, 66)\n",
      "y pred shape : (17520, 1)\n",
      "inv y pred : (17520, 66)\n",
      "Run 9 Mean Absolute Error: 4.418525525213101\n",
      "[['node_8_pressure', 'link_26_flow', 'link_27_flow', 'node_16_pressure', 'node_7_pressure', 'link_17_flow', 'link_3_flow', 'node_26_pressure', 'node_29_pressure', 'node_14_demand', 'node_24_demand', 'reservoir_pressure', 'link_20_flow', 'node_9_demand', 'link_16_flow', 'node_21_pressure', 'link_30_flow', 'node_30_pressure', 'link_8_flow', 'node_3_pressure', 'node_22_pressure', 'node_16_demand', 'node_25_pressure', 'node_18_pressure', 'node_7_demand', 'link_14_flow', 'node_5_pressure', 'node_8_demand', 'node_2_demand']]\n",
      "starting df shape: (87600, 67)\n",
      "This is training run 10 and has the shape:  (87600, 67)\n",
      "The value of dropped columns is 30\n"
     ]
    },
    {
     "name": "stderr",
     "output_type": "stream",
     "text": [
      "/Users/alexellard/opt/anaconda3/lib/python3.7/site-packages/xgboost/data.py:96: UserWarning: Use subset (sliced data) of np.ndarray is not recommended because it will generate extra copies and increase memory consumption\n",
      "  \"because it will generate extra copies and increase \" +\n"
     ]
    },
    {
     "name": "stdout",
     "output_type": "stream",
     "text": [
      "test y shape : (17520, 1)\n",
      "Inv y shape : (17520, 67)\n",
      "y pred shape : (17520, 1)\n",
      "inv y pred : (17520, 67)\n",
      "Run 10 Mean Absolute Error: 3.315041503583734\n",
      "[['node_20_demand', 'node_30_pressure', 'node_5_demand', 'link_13_flow', 'node_10_pressure', 'link_4_flow', 'node_18_pressure', 'node_6_demand', 'node_31_demand', 'node_17_pressure', 'link_8_flow', 'node_13_demand', 'node_21_pressure', 'link_32_flow', 'link_16_flow', 'node_28_pressure', 'reservoir_pressure', 'link_22_flow', 'node_31_pressure', 'link_6_flow', 'link_29_flow', 'node_11_pressure', 'node_18_demand', 'node_27_pressure', 'node_23_pressure', 'link_18_flow', 'node_26_pressure', 'link_26_flow', 'node_23_demand', 'node_19_pressure', 'node_14_demand', 'node_8_pressure', 'link_9_flow', 'node_24_pressure', 'node_9_pressure']]\n",
      "starting df shape: (87600, 61)\n",
      "This is training run 1 and has the shape:  (87600, 61)\n",
      "The value of dropped columns is 35\n"
     ]
    },
    {
     "name": "stderr",
     "output_type": "stream",
     "text": [
      "/Users/alexellard/opt/anaconda3/lib/python3.7/site-packages/xgboost/data.py:96: UserWarning: Use subset (sliced data) of np.ndarray is not recommended because it will generate extra copies and increase memory consumption\n",
      "  \"because it will generate extra copies and increase \" +\n"
     ]
    },
    {
     "name": "stdout",
     "output_type": "stream",
     "text": [
      "test y shape : (17520, 1)\n",
      "Inv y shape : (17520, 61)\n",
      "y pred shape : (17520, 1)\n",
      "inv y pred : (17520, 61)\n",
      "Run 1 Mean Absolute Error: 3.210614271070037\n",
      "[['link_17_flow', 'node_2_pressure', 'node_8_demand', 'node_1_pressure', 'node_22_pressure', 'node_7_demand', 'node_29_pressure', 'node_15_pressure', 'node_14_demand', 'link_27_flow', 'link_23_flow', 'link_5_flow', 'node_3_pressure', 'node_7_pressure', 'link_29_flow', 'node_5_pressure', 'link_9_flow', 'node_13_demand', 'node_18_pressure', 'link_8_flow', 'link_31_flow', 'node_12_pressure', 'node_21_pressure', 'node_4_pressure', 'link_32_flow', 'node_2_demand', 'node_15_demand', 'link_20_flow', 'node_13_pressure', 'link_7_flow', 'node_11_demand', 'link_16_flow', 'link_26_flow', 'node_31_pressure', 'node_5_demand']]\n",
      "starting df shape: (87600, 61)\n",
      "This is training run 2 and has the shape:  (87600, 61)\n",
      "The value of dropped columns is 35\n"
     ]
    },
    {
     "name": "stderr",
     "output_type": "stream",
     "text": [
      "/Users/alexellard/opt/anaconda3/lib/python3.7/site-packages/xgboost/data.py:96: UserWarning: Use subset (sliced data) of np.ndarray is not recommended because it will generate extra copies and increase memory consumption\n",
      "  \"because it will generate extra copies and increase \" +\n"
     ]
    },
    {
     "name": "stdout",
     "output_type": "stream",
     "text": [
      "test y shape : (17520, 1)\n",
      "Inv y shape : (17520, 61)\n",
      "y pred shape : (17520, 1)\n",
      "inv y pred : (17520, 61)\n",
      "Run 2 Mean Absolute Error: 4.616163073145371\n",
      "[['node_11_demand', 'node_17_demand', 'link_20_flow', 'link_31_flow', 'node_10_pressure', 'node_19_pressure', 'node_9_demand', 'link_3_flow', 'node_25_demand', 'node_26_demand', 'node_31_demand', 'node_10_demand', 'link_8_flow', 'link_23_flow', 'node_6_demand', 'node_27_demand', 'node_7_demand', 'link_4_flow', 'node_6_pressure', 'node_30_demand', 'node_2_pressure', 'node_17_pressure', 'link_6_flow', 'node_21_pressure', 'node_24_pressure', 'node_3_pressure', 'node_13_pressure', 'node_28_demand', 'node_7_pressure', 'node_1_pressure', 'node_4_pressure', 'link_9_flow', 'link_21_flow', 'node_25_pressure', 'node_29_pressure']]\n",
      "starting df shape: (87600, 61)\n",
      "This is training run 3 and has the shape:  (87600, 61)\n",
      "The value of dropped columns is 35\n"
     ]
    },
    {
     "name": "stderr",
     "output_type": "stream",
     "text": [
      "/Users/alexellard/opt/anaconda3/lib/python3.7/site-packages/xgboost/data.py:96: UserWarning: Use subset (sliced data) of np.ndarray is not recommended because it will generate extra copies and increase memory consumption\n",
      "  \"because it will generate extra copies and increase \" +\n"
     ]
    },
    {
     "name": "stdout",
     "output_type": "stream",
     "text": [
      "test y shape : (17520, 1)\n",
      "Inv y shape : (17520, 61)\n",
      "y pred shape : (17520, 1)\n",
      "inv y pred : (17520, 61)\n",
      "Run 3 Mean Absolute Error: 3.407726681154878\n",
      "[['node_31_demand', 'link_9_flow', 'node_6_pressure', 'node_10_pressure', 'node_16_pressure', 'link_17_flow', 'node_20_pressure', 'node_28_pressure', 'reservoir_pressure', 'link_25_flow', 'node_6_demand', 'node_19_pressure', 'node_22_pressure', 'node_30_pressure', 'link_32_flow', 'node_2_pressure', 'node_15_demand', 'node_18_demand', 'link_11_flow', 'node_10_demand', 'link_28_flow', 'link_21_flow', 'link_6_flow', 'node_31_pressure', 'node_11_pressure', 'link_13_flow', 'node_30_demand', 'node_12_pressure', 'node_25_pressure', 'node_13_demand', 'node_1_pressure', 'link_24_flow', 'node_20_demand', 'link_5_flow', 'link_15_flow']]\n",
      "starting df shape: (87600, 61)\n",
      "This is training run 4 and has the shape:  (87600, 61)\n",
      "The value of dropped columns is 35\n"
     ]
    },
    {
     "name": "stderr",
     "output_type": "stream",
     "text": [
      "/Users/alexellard/opt/anaconda3/lib/python3.7/site-packages/xgboost/data.py:96: UserWarning: Use subset (sliced data) of np.ndarray is not recommended because it will generate extra copies and increase memory consumption\n",
      "  \"because it will generate extra copies and increase \" +\n"
     ]
    },
    {
     "name": "stdout",
     "output_type": "stream",
     "text": [
      "test y shape : (17520, 1)\n",
      "Inv y shape : (17520, 61)\n",
      "y pred shape : (17520, 1)\n",
      "inv y pred : (17520, 61)\n",
      "Run 4 Mean Absolute Error: 3.1442155323371446\n",
      "[['link_5_flow', 'link_7_flow', 'link_2_flow', 'node_25_demand', 'node_30_pressure', 'node_30_demand', 'link_6_flow', 'node_9_demand', 'node_3_demand', 'node_26_pressure', 'link_32_flow', 'link_17_flow', 'node_24_demand', 'node_31_demand', 'link_11_flow', 'link_26_flow', 'node_4_pressure', 'link_24_flow', 'node_6_pressure', 'link_3_flow', 'node_14_pressure', 'node_10_demand', 'node_17_demand', 'node_7_pressure', 'link_29_flow', 'node_16_pressure', 'link_23_flow', 'node_1_demand', 'node_28_pressure', 'node_12_pressure', 'node_21_pressure', 'node_20_demand', 'node_20_pressure', 'node_12_demand', 'node_6_demand']]\n",
      "starting df shape: (87600, 61)\n",
      "This is training run 5 and has the shape:  (87600, 61)\n",
      "The value of dropped columns is 35\n"
     ]
    },
    {
     "name": "stderr",
     "output_type": "stream",
     "text": [
      "/Users/alexellard/opt/anaconda3/lib/python3.7/site-packages/xgboost/data.py:96: UserWarning: Use subset (sliced data) of np.ndarray is not recommended because it will generate extra copies and increase memory consumption\n",
      "  \"because it will generate extra copies and increase \" +\n"
     ]
    },
    {
     "name": "stdout",
     "output_type": "stream",
     "text": [
      "test y shape : (17520, 1)\n",
      "Inv y shape : (17520, 61)\n",
      "y pred shape : (17520, 1)\n",
      "inv y pred : (17520, 61)\n",
      "Run 5 Mean Absolute Error: 5.611868995893497\n",
      "[['link_6_flow', 'node_1_demand', 'node_24_demand', 'node_21_pressure', 'link_13_flow', 'link_9_flow', 'reservoir_pressure', 'node_13_demand', 'node_2_pressure', 'node_23_demand', 'node_21_demand', 'node_14_pressure', 'node_7_pressure', 'node_16_pressure', 'link_28_flow', 'node_6_demand', 'link_10_flow', 'node_17_pressure', 'node_1_pressure', 'link_19_flow', 'node_2_demand', 'node_31_pressure', 'node_13_pressure', 'node_15_demand', 'link_2_flow', 'node_25_demand', 'node_8_pressure', 'node_28_demand', 'link_25_flow', 'node_27_pressure', 'node_7_demand', 'node_22_demand', 'node_14_demand', 'link_12_flow', 'node_17_demand']]\n",
      "starting df shape: (87600, 61)\n",
      "This is training run 6 and has the shape:  (87600, 61)\n",
      "The value of dropped columns is 35\n"
     ]
    },
    {
     "name": "stderr",
     "output_type": "stream",
     "text": [
      "/Users/alexellard/opt/anaconda3/lib/python3.7/site-packages/xgboost/data.py:96: UserWarning: Use subset (sliced data) of np.ndarray is not recommended because it will generate extra copies and increase memory consumption\n",
      "  \"because it will generate extra copies and increase \" +\n"
     ]
    },
    {
     "name": "stdout",
     "output_type": "stream",
     "text": [
      "test y shape : (17520, 1)\n",
      "Inv y shape : (17520, 61)\n",
      "y pred shape : (17520, 1)\n",
      "inv y pred : (17520, 61)\n",
      "Run 6 Mean Absolute Error: 6.46161075768813\n",
      "[['node_15_pressure', 'node_18_demand', 'node_12_demand', 'node_27_pressure', 'node_16_pressure', 'link_27_flow', 'link_24_flow', 'node_11_pressure', 'link_13_flow', 'node_17_pressure', 'link_5_flow', 'node_23_pressure', 'node_11_demand', 'link_15_flow', 'link_16_flow', 'node_13_pressure', 'node_9_pressure', 'node_3_pressure', 'node_6_pressure', 'node_10_pressure', 'node_20_demand', 'node_22_pressure', 'node_13_demand', 'node_28_demand', 'node_24_demand', 'node_3_demand', 'link_28_flow', 'link_21_flow', 'link_29_flow', 'node_8_demand', 'node_30_demand', 'link_22_flow', 'node_24_pressure', 'node_2_demand']]\n",
      "starting df shape: (87600, 62)\n",
      "This is training run 7 and has the shape:  (87600, 62)\n",
      "The value of dropped columns is 35\n"
     ]
    },
    {
     "name": "stderr",
     "output_type": "stream",
     "text": [
      "/Users/alexellard/opt/anaconda3/lib/python3.7/site-packages/xgboost/data.py:96: UserWarning: Use subset (sliced data) of np.ndarray is not recommended because it will generate extra copies and increase memory consumption\n",
      "  \"because it will generate extra copies and increase \" +\n"
     ]
    },
    {
     "name": "stdout",
     "output_type": "stream",
     "text": [
      "test y shape : (17520, 1)\n",
      "Inv y shape : (17520, 62)\n",
      "y pred shape : (17520, 1)\n",
      "inv y pred : (17520, 62)\n",
      "Run 7 Mean Absolute Error: 3.978501148897495\n",
      "[['node_4_demand', 'link_8_flow', 'node_25_pressure', 'node_8_pressure', 'reservoir_demand', 'link_23_flow', 'link_21_flow', 'node_13_pressure', 'node_16_pressure', 'link_32_flow', 'node_15_pressure', 'node_20_demand', 'link_3_flow', 'node_7_pressure', 'link_29_flow', 'node_31_pressure', 'node_4_pressure', 'node_31_demand', 'node_1_demand', 'node_10_pressure', 'link_9_flow', 'node_13_demand', 'link_11_flow', 'link_22_flow', 'node_6_demand', 'link_6_flow', 'node_29_demand', 'node_9_demand', 'node_14_pressure', 'reservoir_pressure', 'node_23_demand', 'node_24_demand', 'node_20_pressure', 'node_11_demand']]\n",
      "starting df shape: (87600, 62)\n",
      "This is training run 8 and has the shape:  (87600, 62)\n",
      "The value of dropped columns is 35\n"
     ]
    },
    {
     "name": "stderr",
     "output_type": "stream",
     "text": [
      "/Users/alexellard/opt/anaconda3/lib/python3.7/site-packages/xgboost/data.py:96: UserWarning: Use subset (sliced data) of np.ndarray is not recommended because it will generate extra copies and increase memory consumption\n",
      "  \"because it will generate extra copies and increase \" +\n"
     ]
    },
    {
     "name": "stdout",
     "output_type": "stream",
     "text": [
      "test y shape : (17520, 1)\n",
      "Inv y shape : (17520, 62)\n",
      "y pred shape : (17520, 1)\n",
      "inv y pred : (17520, 62)\n",
      "Run 8 Mean Absolute Error: 0.7025631215501201\n",
      "[['node_9_pressure', 'node_29_demand', 'node_20_pressure', 'node_8_pressure', 'node_25_demand', 'node_22_demand', 'link_24_flow', 'link_31_flow', 'node_21_demand', 'node_5_demand', 'link_10_flow', 'node_12_pressure', 'node_1_pressure', 'node_18_pressure', 'node_24_demand', 'link_2_flow', 'node_6_demand', 'node_26_demand', 'node_30_demand', 'link_9_flow', 'node_28_demand', 'link_13_flow', 'node_6_pressure', 'node_16_pressure', 'node_11_demand', 'node_3_demand', 'link_16_flow', 'link_27_flow', 'node_9_demand', 'node_19_pressure', 'link_21_flow', 'reservoir_pressure', 'node_27_demand', 'link_25_flow']]\n",
      "starting df shape: (87600, 62)\n",
      "This is training run 9 and has the shape:  (87600, 62)\n",
      "The value of dropped columns is 35\n"
     ]
    },
    {
     "name": "stderr",
     "output_type": "stream",
     "text": [
      "/Users/alexellard/opt/anaconda3/lib/python3.7/site-packages/xgboost/data.py:96: UserWarning: Use subset (sliced data) of np.ndarray is not recommended because it will generate extra copies and increase memory consumption\n",
      "  \"because it will generate extra copies and increase \" +\n"
     ]
    },
    {
     "name": "stdout",
     "output_type": "stream",
     "text": [
      "test y shape : (17520, 1)\n",
      "Inv y shape : (17520, 62)\n",
      "y pred shape : (17520, 1)\n",
      "inv y pred : (17520, 62)\n",
      "Run 9 Mean Absolute Error: 4.554803604116191\n",
      "[['reservoir_pressure', 'node_27_demand', 'node_1_demand', 'node_29_demand', 'node_6_demand', 'node_15_demand', 'node_12_demand', 'link_26_flow', 'node_19_demand', 'node_20_pressure', 'link_24_flow', 'node_18_demand', 'node_1_pressure', 'node_16_demand', 'node_23_demand', 'node_2_pressure', 'link_27_flow', 'link_19_flow', 'node_15_pressure', 'link_32_flow', 'node_24_demand', 'node_22_pressure', 'link_3_flow', 'node_31_pressure', 'link_28_flow', 'node_9_pressure', 'reservoir_demand', 'node_2_demand', 'node_22_demand', 'node_3_pressure', 'link_20_flow', 'node_30_demand', 'link_15_flow', 'node_20_demand', 'link_10_flow']]\n",
      "starting df shape: (87600, 61)\n",
      "This is training run 10 and has the shape:  (87600, 61)\n",
      "The value of dropped columns is 35\n"
     ]
    },
    {
     "name": "stderr",
     "output_type": "stream",
     "text": [
      "/Users/alexellard/opt/anaconda3/lib/python3.7/site-packages/xgboost/data.py:96: UserWarning: Use subset (sliced data) of np.ndarray is not recommended because it will generate extra copies and increase memory consumption\n",
      "  \"because it will generate extra copies and increase \" +\n"
     ]
    },
    {
     "name": "stdout",
     "output_type": "stream",
     "text": [
      "test y shape : (17520, 1)\n",
      "Inv y shape : (17520, 61)\n",
      "y pred shape : (17520, 1)\n",
      "inv y pred : (17520, 61)\n",
      "Run 10 Mean Absolute Error: 0.11272378324916116\n",
      "[['node_18_pressure', 'node_25_pressure', 'link_3_flow', 'node_21_demand', 'node_12_pressure', 'link_21_flow', 'node_16_pressure', 'link_30_flow', 'link_22_flow', 'node_16_demand', 'node_1_pressure', 'node_19_demand', 'node_27_demand', 'node_1_demand', 'node_14_pressure', 'node_9_demand', 'node_15_demand', 'node_2_pressure', 'link_11_flow', 'node_12_demand', 'link_24_flow', 'link_32_flow', 'node_20_pressure', 'link_15_flow', 'node_31_demand', 'node_20_demand', 'link_26_flow', 'node_6_demand', 'reservoir_demand', 'node_17_demand', 'node_22_pressure', 'node_21_pressure', 'node_5_pressure', 'node_3_demand', 'link_28_flow', 'node_3_pressure', 'node_29_demand', 'node_14_demand', 'node_8_pressure']]\n",
      "starting df shape: (87600, 57)\n",
      "This is training run 1 and has the shape:  (87600, 57)\n",
      "The value of dropped columns is 40\n"
     ]
    },
    {
     "name": "stderr",
     "output_type": "stream",
     "text": [
      "/Users/alexellard/opt/anaconda3/lib/python3.7/site-packages/xgboost/data.py:96: UserWarning: Use subset (sliced data) of np.ndarray is not recommended because it will generate extra copies and increase memory consumption\n",
      "  \"because it will generate extra copies and increase \" +\n"
     ]
    },
    {
     "name": "stdout",
     "output_type": "stream",
     "text": [
      "test y shape : (17520, 1)\n",
      "Inv y shape : (17520, 57)\n",
      "y pred shape : (17520, 1)\n",
      "inv y pred : (17520, 57)\n",
      "Run 1 Mean Absolute Error: 0.741662247716306\n",
      "[['node_25_demand', 'node_29_demand', 'node_7_demand', 'link_30_flow', 'link_8_flow', 'link_10_flow', 'node_6_demand', 'node_7_pressure', 'node_27_demand', 'node_11_demand', 'node_24_pressure', 'node_28_demand', 'node_27_pressure', 'node_2_pressure', 'node_9_pressure', 'node_21_demand', 'node_13_pressure', 'node_19_demand', 'node_22_demand', 'link_22_flow', 'node_16_demand', 'node_12_demand', 'link_7_flow', 'link_16_flow', 'node_14_pressure', 'node_18_pressure', 'node_26_demand', 'link_27_flow', 'node_21_pressure', 'node_3_pressure', 'node_5_pressure', 'link_19_flow', 'link_5_flow', 'link_20_flow', 'node_23_demand', 'link_21_flow', 'node_20_pressure', 'node_30_pressure', 'link_25_flow', 'node_13_demand']]\n",
      "starting df shape: (87600, 56)\n",
      "This is training run 2 and has the shape:  (87600, 56)\n",
      "The value of dropped columns is 40\n"
     ]
    },
    {
     "name": "stderr",
     "output_type": "stream",
     "text": [
      "/Users/alexellard/opt/anaconda3/lib/python3.7/site-packages/xgboost/data.py:96: UserWarning: Use subset (sliced data) of np.ndarray is not recommended because it will generate extra copies and increase memory consumption\n",
      "  \"because it will generate extra copies and increase \" +\n"
     ]
    },
    {
     "name": "stdout",
     "output_type": "stream",
     "text": [
      "test y shape : (17520, 1)\n",
      "Inv y shape : (17520, 56)\n",
      "y pred shape : (17520, 1)\n",
      "inv y pred : (17520, 56)\n",
      "Run 2 Mean Absolute Error: 2.2355253734164\n",
      "[['link_24_flow', 'link_4_flow', 'node_1_pressure', 'node_8_pressure', 'node_20_pressure', 'node_29_demand', 'link_15_flow', 'node_3_pressure', 'link_17_flow', 'node_13_pressure', 'node_15_demand', 'node_21_pressure', 'link_31_flow', 'node_27_pressure', 'node_30_demand', 'node_4_demand', 'node_5_demand', 'link_28_flow', 'node_17_demand', 'node_22_demand', 'node_2_demand', 'link_7_flow', 'link_18_flow', 'node_12_pressure', 'link_5_flow', 'node_28_pressure', 'node_18_pressure', 'node_24_pressure', 'node_16_demand', 'link_32_flow', 'node_26_pressure', 'node_6_demand', 'node_7_demand', 'node_7_pressure', 'link_29_flow', 'node_30_pressure', 'node_11_pressure', 'link_2_flow', 'link_30_flow', 'link_23_flow']]\n",
      "starting df shape: (87600, 56)\n",
      "This is training run 3 and has the shape:  (87600, 56)\n",
      "The value of dropped columns is 40\n"
     ]
    },
    {
     "name": "stderr",
     "output_type": "stream",
     "text": [
      "/Users/alexellard/opt/anaconda3/lib/python3.7/site-packages/xgboost/data.py:96: UserWarning: Use subset (sliced data) of np.ndarray is not recommended because it will generate extra copies and increase memory consumption\n",
      "  \"because it will generate extra copies and increase \" +\n"
     ]
    },
    {
     "name": "stdout",
     "output_type": "stream",
     "text": [
      "test y shape : (17520, 1)\n",
      "Inv y shape : (17520, 56)\n",
      "y pred shape : (17520, 1)\n",
      "inv y pred : (17520, 56)\n",
      "Run 3 Mean Absolute Error: 2.914461171516812\n",
      "[['link_8_flow', 'node_21_pressure', 'node_21_demand', 'link_15_flow', 'node_6_pressure', 'node_15_demand', 'link_11_flow', 'link_29_flow', 'node_2_pressure', 'node_24_demand', 'node_17_demand', 'link_4_flow', 'link_18_flow', 'node_29_pressure', 'node_31_pressure', 'node_26_demand', 'node_9_demand', 'node_24_pressure', 'link_5_flow', 'node_23_pressure', 'link_16_flow', 'node_22_demand', 'link_14_flow', 'node_13_pressure', 'node_26_pressure', 'node_5_pressure', 'node_28_demand', 'node_10_pressure', 'node_25_demand', 'node_20_pressure', 'node_4_pressure', 'link_2_flow', 'node_25_pressure', 'node_7_demand', 'link_3_flow', 'node_9_pressure', 'link_26_flow', 'link_30_flow', 'link_10_flow', 'node_30_pressure']]\n",
      "starting df shape: (87600, 56)\n",
      "This is training run 4 and has the shape:  (87600, 56)\n",
      "The value of dropped columns is 40\n"
     ]
    },
    {
     "name": "stderr",
     "output_type": "stream",
     "text": [
      "/Users/alexellard/opt/anaconda3/lib/python3.7/site-packages/xgboost/data.py:96: UserWarning: Use subset (sliced data) of np.ndarray is not recommended because it will generate extra copies and increase memory consumption\n",
      "  \"because it will generate extra copies and increase \" +\n"
     ]
    },
    {
     "name": "stdout",
     "output_type": "stream",
     "text": [
      "test y shape : (17520, 1)\n",
      "Inv y shape : (17520, 56)\n",
      "y pred shape : (17520, 1)\n",
      "inv y pred : (17520, 56)\n",
      "Run 4 Mean Absolute Error: 2.796304404878455\n",
      "[['node_25_pressure', 'link_12_flow', 'node_12_pressure', 'link_11_flow', 'node_2_demand', 'node_17_demand', 'node_26_pressure', 'node_4_pressure', 'node_12_demand', 'node_20_demand', 'node_10_pressure', 'node_10_demand', 'link_2_flow', 'node_27_pressure', 'node_14_demand', 'node_5_pressure', 'link_24_flow', 'link_13_flow', 'node_15_pressure', 'node_17_pressure', 'node_16_pressure', 'node_28_demand', 'link_18_flow', 'link_6_flow', 'node_8_demand', 'node_19_pressure', 'node_6_pressure', 'reservoir_pressure', 'link_9_flow', 'link_5_flow', 'node_22_demand', 'link_26_flow', 'link_16_flow', 'node_21_pressure', 'node_3_demand', 'node_11_pressure', 'node_18_demand', 'node_5_demand', 'link_7_flow', 'link_19_flow']]\n",
      "starting df shape: (87600, 56)\n",
      "This is training run 5 and has the shape:  (87600, 56)\n",
      "The value of dropped columns is 40\n"
     ]
    },
    {
     "name": "stderr",
     "output_type": "stream",
     "text": [
      "/Users/alexellard/opt/anaconda3/lib/python3.7/site-packages/xgboost/data.py:96: UserWarning: Use subset (sliced data) of np.ndarray is not recommended because it will generate extra copies and increase memory consumption\n",
      "  \"because it will generate extra copies and increase \" +\n"
     ]
    },
    {
     "name": "stdout",
     "output_type": "stream",
     "text": [
      "test y shape : (17520, 1)\n",
      "Inv y shape : (17520, 56)\n",
      "y pred shape : (17520, 1)\n",
      "inv y pred : (17520, 56)\n",
      "Run 5 Mean Absolute Error: 2.836742015268701\n",
      "[['link_26_flow', 'link_7_flow', 'link_18_flow', 'node_14_pressure', 'link_25_flow', 'node_22_pressure', 'link_14_flow', 'node_8_demand', 'node_10_demand', 'node_7_pressure', 'link_9_flow', 'node_4_pressure', 'link_19_flow', 'node_18_demand', 'link_6_flow', 'link_20_flow', 'node_30_pressure', 'node_25_demand', 'node_29_demand', 'node_16_demand', 'link_8_flow', 'node_27_demand', 'link_12_flow', 'link_16_flow', 'node_18_pressure', 'node_11_pressure', 'node_13_pressure', 'node_10_pressure', 'node_7_demand', 'link_31_flow', 'node_29_pressure', 'node_23_demand', 'node_28_pressure', 'reservoir_pressure', 'node_20_demand', 'node_12_demand', 'link_5_flow', 'node_1_pressure', 'node_6_demand', 'node_8_pressure']]\n",
      "starting df shape: (87600, 56)\n",
      "This is training run 6 and has the shape:  (87600, 56)\n",
      "The value of dropped columns is 40\n"
     ]
    },
    {
     "name": "stderr",
     "output_type": "stream",
     "text": [
      "/Users/alexellard/opt/anaconda3/lib/python3.7/site-packages/xgboost/data.py:96: UserWarning: Use subset (sliced data) of np.ndarray is not recommended because it will generate extra copies and increase memory consumption\n",
      "  \"because it will generate extra copies and increase \" +\n"
     ]
    },
    {
     "name": "stdout",
     "output_type": "stream",
     "text": [
      "test y shape : (17520, 1)\n",
      "Inv y shape : (17520, 56)\n",
      "y pred shape : (17520, 1)\n",
      "inv y pred : (17520, 56)\n",
      "Run 6 Mean Absolute Error: 2.1111423352973095\n",
      "[['node_1_pressure', 'link_12_flow', 'link_5_flow', 'node_3_pressure', 'node_14_demand', 'node_20_pressure', 'link_21_flow', 'link_11_flow', 'link_30_flow', 'node_16_pressure', 'node_10_pressure', 'node_25_pressure', 'node_1_demand', 'link_23_flow', 'node_21_pressure', 'link_26_flow', 'node_17_demand', 'link_25_flow', 'node_18_pressure', 'link_15_flow', 'link_13_flow', 'node_23_demand', 'node_23_pressure', 'node_14_pressure', 'node_27_demand', 'node_26_pressure', 'link_14_flow', 'node_22_pressure', 'node_29_demand', 'link_20_flow', 'node_7_demand', 'node_15_pressure', 'node_4_demand', 'node_11_pressure', 'link_4_flow', 'link_24_flow', 'node_22_demand', 'link_27_flow', 'node_12_pressure', 'link_18_flow']]\n",
      "starting df shape: (87600, 56)\n",
      "This is training run 7 and has the shape:  (87600, 56)\n",
      "The value of dropped columns is 40\n"
     ]
    },
    {
     "name": "stderr",
     "output_type": "stream",
     "text": [
      "/Users/alexellard/opt/anaconda3/lib/python3.7/site-packages/xgboost/data.py:96: UserWarning: Use subset (sliced data) of np.ndarray is not recommended because it will generate extra copies and increase memory consumption\n",
      "  \"because it will generate extra copies and increase \" +\n"
     ]
    },
    {
     "name": "stdout",
     "output_type": "stream",
     "text": [
      "test y shape : (17520, 1)\n",
      "Inv y shape : (17520, 56)\n",
      "y pred shape : (17520, 1)\n",
      "inv y pred : (17520, 56)\n",
      "Run 7 Mean Absolute Error: 2.201976516410094\n",
      "[['node_8_pressure', 'node_5_demand', 'link_10_flow', 'node_22_demand', 'node_26_demand', 'link_23_flow', 'link_18_flow', 'node_9_pressure', 'node_6_pressure', 'node_15_pressure', 'reservoir_demand', 'node_21_pressure', 'node_24_pressure', 'node_10_pressure', 'node_23_pressure', 'node_29_demand', 'node_10_demand', 'node_19_demand', 'link_6_flow', 'link_25_flow', 'node_17_demand', 'node_13_pressure', 'link_24_flow', 'link_11_flow', 'link_16_flow', 'node_26_pressure', 'node_22_pressure', 'link_14_flow', 'node_30_pressure', 'node_11_pressure', 'node_12_pressure', 'node_25_demand', 'node_15_demand', 'link_3_flow', 'node_27_demand', 'node_5_pressure', 'node_3_demand', 'node_28_demand', 'link_13_flow', 'node_20_pressure']]\n",
      "starting df shape: (87600, 56)\n",
      "This is training run 8 and has the shape:  (87600, 56)\n",
      "The value of dropped columns is 40\n"
     ]
    },
    {
     "name": "stderr",
     "output_type": "stream",
     "text": [
      "/Users/alexellard/opt/anaconda3/lib/python3.7/site-packages/xgboost/data.py:96: UserWarning: Use subset (sliced data) of np.ndarray is not recommended because it will generate extra copies and increase memory consumption\n",
      "  \"because it will generate extra copies and increase \" +\n"
     ]
    },
    {
     "name": "stdout",
     "output_type": "stream",
     "text": [
      "test y shape : (17520, 1)\n",
      "Inv y shape : (17520, 56)\n",
      "y pred shape : (17520, 1)\n",
      "inv y pred : (17520, 56)\n",
      "Run 8 Mean Absolute Error: 0.32973308123654665\n",
      "[['link_2_flow', 'node_21_pressure', 'link_17_flow', 'node_20_demand', 'node_29_pressure', 'node_2_demand', 'link_7_flow', 'node_9_pressure', 'node_25_demand', 'link_18_flow', 'node_9_demand', 'link_27_flow', 'node_3_pressure', 'node_6_demand', 'node_18_pressure', 'node_12_demand', 'link_8_flow', 'node_30_pressure', 'link_10_flow', 'node_15_demand', 'node_19_pressure', 'link_26_flow', 'node_6_pressure', 'node_31_pressure', 'node_17_demand', 'node_8_pressure', 'node_31_demand', 'node_7_pressure', 'node_11_pressure', 'link_6_flow', 'node_24_demand', 'link_21_flow', 'link_13_flow', 'node_4_demand', 'reservoir_pressure', 'node_18_demand', 'link_15_flow', 'link_23_flow', 'link_16_flow', 'link_22_flow']]\n",
      "starting df shape: (87600, 56)\n",
      "This is training run 9 and has the shape:  (87600, 56)\n",
      "The value of dropped columns is 40\n"
     ]
    },
    {
     "name": "stderr",
     "output_type": "stream",
     "text": [
      "/Users/alexellard/opt/anaconda3/lib/python3.7/site-packages/xgboost/data.py:96: UserWarning: Use subset (sliced data) of np.ndarray is not recommended because it will generate extra copies and increase memory consumption\n",
      "  \"because it will generate extra copies and increase \" +\n"
     ]
    },
    {
     "name": "stdout",
     "output_type": "stream",
     "text": [
      "test y shape : (17520, 1)\n",
      "Inv y shape : (17520, 56)\n",
      "y pred shape : (17520, 1)\n",
      "inv y pred : (17520, 56)\n",
      "Run 9 Mean Absolute Error: 2.849724998608841\n",
      "[['link_17_flow', 'node_13_pressure', 'node_17_pressure', 'link_23_flow', 'node_21_demand', 'node_21_pressure', 'link_31_flow', 'node_24_pressure', 'node_2_demand', 'node_4_pressure', 'link_25_flow', 'node_28_pressure', 'node_5_demand', 'node_27_demand', 'node_11_pressure', 'node_30_demand', 'node_2_pressure', 'link_4_flow', 'node_15_demand', 'link_22_flow', 'node_27_pressure', 'link_26_flow', 'node_26_demand', 'node_19_demand', 'node_31_pressure', 'node_30_pressure', 'node_9_demand', 'reservoir_demand', 'node_6_pressure', 'link_11_flow', 'node_16_demand', 'node_29_pressure', 'link_32_flow', 'link_24_flow', 'node_17_demand', 'node_10_pressure', 'node_20_pressure', 'node_12_demand', 'link_3_flow']]\n",
      "starting df shape: (87600, 57)\n",
      "This is training run 10 and has the shape:  (87600, 57)\n",
      "The value of dropped columns is 40\n"
     ]
    },
    {
     "name": "stderr",
     "output_type": "stream",
     "text": [
      "/Users/alexellard/opt/anaconda3/lib/python3.7/site-packages/xgboost/data.py:96: UserWarning: Use subset (sliced data) of np.ndarray is not recommended because it will generate extra copies and increase memory consumption\n",
      "  \"because it will generate extra copies and increase \" +\n"
     ]
    },
    {
     "name": "stdout",
     "output_type": "stream",
     "text": [
      "test y shape : (17520, 1)\n",
      "Inv y shape : (17520, 57)\n",
      "y pred shape : (17520, 1)\n",
      "inv y pred : (17520, 57)\n",
      "Run 10 Mean Absolute Error: 0.4731955071844231\n",
      "[['node_7_pressure', 'node_8_demand', 'node_20_pressure', 'node_3_pressure', 'node_14_demand', 'link_7_flow', 'node_2_demand', 'link_32_flow', 'link_17_flow', 'node_6_pressure', 'node_27_demand', 'node_14_pressure', 'node_12_pressure', 'link_13_flow', 'node_15_pressure', 'node_31_demand', 'node_26_pressure', 'node_28_pressure', 'link_6_flow', 'node_20_demand', 'node_30_pressure', 'link_29_flow', 'node_16_pressure', 'node_9_demand', 'node_4_demand', 'link_11_flow', 'node_4_pressure', 'link_25_flow', 'link_24_flow', 'link_30_flow', 'node_25_pressure', 'node_7_demand', 'link_2_flow', 'link_10_flow', 'node_29_demand', 'node_23_pressure', 'node_13_demand', 'link_5_flow', 'node_5_demand', 'link_8_flow', 'node_29_pressure', 'link_28_flow', 'link_9_flow', 'node_16_demand', 'link_22_flow']]\n",
      "starting df shape: (87600, 51)\n",
      "This is training run 1 and has the shape:  (87600, 51)\n",
      "The value of dropped columns is 45\n"
     ]
    },
    {
     "name": "stderr",
     "output_type": "stream",
     "text": [
      "/Users/alexellard/opt/anaconda3/lib/python3.7/site-packages/xgboost/data.py:96: UserWarning: Use subset (sliced data) of np.ndarray is not recommended because it will generate extra copies and increase memory consumption\n",
      "  \"because it will generate extra copies and increase \" +\n"
     ]
    },
    {
     "name": "stdout",
     "output_type": "stream",
     "text": [
      "test y shape : (17520, 1)\n",
      "Inv y shape : (17520, 51)\n",
      "y pred shape : (17520, 1)\n",
      "inv y pred : (17520, 51)\n",
      "Run 1 Mean Absolute Error: 6.203825208904\n",
      "[['node_12_pressure', 'node_31_pressure', 'link_12_flow', 'node_16_demand', 'node_6_demand', 'node_17_demand', 'node_25_demand', 'node_24_demand', 'node_5_pressure', 'node_6_pressure', 'node_20_pressure', 'link_16_flow', 'node_2_demand', 'link_11_flow', 'node_10_pressure', 'node_11_demand', 'node_2_pressure', 'node_22_demand', 'link_29_flow', 'link_17_flow', 'link_28_flow', 'node_26_demand', 'link_13_flow', 'link_31_flow', 'link_10_flow', 'node_8_demand', 'node_18_pressure', 'node_27_demand', 'link_6_flow', 'node_15_pressure', 'node_14_pressure', 'node_30_pressure', 'node_23_pressure', 'node_4_demand', 'link_2_flow', 'link_9_flow', 'node_14_demand', 'node_13_demand', 'link_18_flow', 'reservoir_pressure', 'link_25_flow', 'link_15_flow', 'node_4_pressure', 'link_14_flow']]\n",
      "starting df shape: (87600, 52)\n",
      "This is training run 2 and has the shape:  (87600, 52)\n",
      "The value of dropped columns is 45\n"
     ]
    },
    {
     "name": "stderr",
     "output_type": "stream",
     "text": [
      "/Users/alexellard/opt/anaconda3/lib/python3.7/site-packages/xgboost/data.py:96: UserWarning: Use subset (sliced data) of np.ndarray is not recommended because it will generate extra copies and increase memory consumption\n",
      "  \"because it will generate extra copies and increase \" +\n"
     ]
    },
    {
     "name": "stdout",
     "output_type": "stream",
     "text": [
      "test y shape : (17520, 1)\n",
      "Inv y shape : (17520, 52)\n",
      "y pred shape : (17520, 1)\n",
      "inv y pred : (17520, 52)\n",
      "Run 2 Mean Absolute Error: 4.851808440464822\n",
      "[['node_30_demand', 'node_21_pressure', 'link_25_flow', 'link_17_flow', 'node_15_pressure', 'node_25_demand', 'node_2_demand', 'node_9_pressure', 'node_13_pressure', 'node_28_demand', 'node_31_demand', 'link_19_flow', 'node_29_demand', 'reservoir_demand', 'link_18_flow', 'node_6_demand', 'node_7_demand', 'link_28_flow', 'node_16_demand', 'node_11_demand', 'node_30_pressure', 'node_10_pressure', 'node_20_demand', 'node_27_pressure', 'node_4_demand', 'link_30_flow', 'node_1_demand', 'node_21_demand', 'node_3_demand', 'node_13_demand', 'link_9_flow', 'node_20_pressure', 'link_14_flow', 'node_23_demand', 'link_6_flow', 'node_1_pressure', 'link_10_flow', 'link_23_flow', 'node_10_demand', 'node_26_demand', 'link_32_flow', 'node_19_pressure', 'link_20_flow', 'node_24_pressure']]\n",
      "starting df shape: (87600, 52)\n",
      "This is training run 3 and has the shape:  (87600, 52)\n",
      "The value of dropped columns is 45\n"
     ]
    },
    {
     "name": "stderr",
     "output_type": "stream",
     "text": [
      "/Users/alexellard/opt/anaconda3/lib/python3.7/site-packages/xgboost/data.py:96: UserWarning: Use subset (sliced data) of np.ndarray is not recommended because it will generate extra copies and increase memory consumption\n",
      "  \"because it will generate extra copies and increase \" +\n"
     ]
    },
    {
     "name": "stdout",
     "output_type": "stream",
     "text": [
      "test y shape : (17520, 1)\n",
      "Inv y shape : (17520, 52)\n",
      "y pred shape : (17520, 1)\n",
      "inv y pred : (17520, 52)\n",
      "Run 3 Mean Absolute Error: 0.740197717957156\n",
      "[['node_29_pressure', 'node_1_pressure', 'node_15_demand', 'link_12_flow', 'node_28_demand', 'link_16_flow', 'link_21_flow', 'node_8_pressure', 'link_11_flow', 'node_15_pressure', 'link_4_flow', 'link_27_flow', 'node_25_demand', 'node_21_pressure', 'node_16_pressure', 'node_20_demand', 'node_31_demand', 'node_14_demand', 'node_31_pressure', 'node_28_pressure', 'link_20_flow', 'node_9_pressure', 'link_31_flow', 'node_7_demand', 'link_32_flow', 'link_14_flow', 'link_26_flow', 'link_28_flow', 'node_26_demand', 'node_26_pressure', 'link_23_flow', 'node_4_pressure', 'node_25_pressure', 'node_2_demand', 'node_4_demand', 'node_13_pressure', 'node_17_pressure', 'node_27_demand', 'link_15_flow', 'link_7_flow', 'node_30_pressure', 'node_24_pressure', 'node_10_pressure', 'node_6_demand', 'node_18_pressure']]\n",
      "starting df shape: (87600, 51)\n",
      "This is training run 4 and has the shape:  (87600, 51)\n",
      "The value of dropped columns is 45\n"
     ]
    },
    {
     "name": "stderr",
     "output_type": "stream",
     "text": [
      "/Users/alexellard/opt/anaconda3/lib/python3.7/site-packages/xgboost/data.py:96: UserWarning: Use subset (sliced data) of np.ndarray is not recommended because it will generate extra copies and increase memory consumption\n",
      "  \"because it will generate extra copies and increase \" +\n"
     ]
    },
    {
     "name": "stdout",
     "output_type": "stream",
     "text": [
      "test y shape : (17520, 1)\n",
      "Inv y shape : (17520, 51)\n",
      "y pred shape : (17520, 1)\n",
      "inv y pred : (17520, 51)\n",
      "Run 4 Mean Absolute Error: 2.9015848170077816\n",
      "[['node_21_pressure', 'link_16_flow', 'node_30_demand', 'node_16_demand', 'link_9_flow', 'node_28_pressure', 'link_4_flow', 'node_20_demand', 'node_27_pressure', 'node_17_pressure', 'node_15_demand', 'node_12_demand', 'link_22_flow', 'link_24_flow', 'node_8_pressure', 'node_18_pressure', 'node_7_demand', 'node_13_pressure', 'node_29_pressure', 'node_16_pressure', 'node_2_pressure', 'node_31_demand', 'node_22_demand', 'link_15_flow', 'link_20_flow', 'link_23_flow', 'node_3_demand', 'node_11_demand', 'link_6_flow', 'node_9_pressure', 'node_10_demand', 'node_28_demand', 'node_31_pressure', 'node_26_demand', 'node_22_pressure', 'link_19_flow', 'node_18_demand', 'reservoir_demand', 'node_5_demand', 'node_11_pressure', 'node_4_demand', 'node_12_pressure', 'node_21_demand', 'node_17_demand']]\n",
      "starting df shape: (87600, 52)\n",
      "This is training run 5 and has the shape:  (87600, 52)\n",
      "The value of dropped columns is 45\n"
     ]
    },
    {
     "name": "stderr",
     "output_type": "stream",
     "text": [
      "/Users/alexellard/opt/anaconda3/lib/python3.7/site-packages/xgboost/data.py:96: UserWarning: Use subset (sliced data) of np.ndarray is not recommended because it will generate extra copies and increase memory consumption\n",
      "  \"because it will generate extra copies and increase \" +\n"
     ]
    },
    {
     "name": "stdout",
     "output_type": "stream",
     "text": [
      "test y shape : (17520, 1)\n",
      "Inv y shape : (17520, 52)\n",
      "y pred shape : (17520, 1)\n",
      "inv y pred : (17520, 52)\n",
      "Run 5 Mean Absolute Error: 0.5333821979426047\n",
      "[['node_25_pressure', 'link_9_flow', 'node_27_pressure', 'node_19_pressure', 'node_31_pressure', 'node_14_pressure', 'node_22_demand', 'link_8_flow', 'node_6_demand', 'node_6_pressure', 'node_17_pressure', 'link_7_flow', 'link_25_flow', 'node_29_pressure', 'node_15_demand', 'node_7_pressure', 'link_22_flow', 'node_28_pressure', 'node_11_pressure', 'node_30_demand', 'node_15_pressure', 'node_3_pressure', 'node_25_demand', 'link_11_flow', 'node_18_pressure', 'node_3_demand', 'node_19_demand', 'node_12_demand', 'link_26_flow', 'reservoir_demand', 'node_27_demand', 'reservoir_pressure', 'link_31_flow', 'link_29_flow', 'node_20_pressure', 'node_1_demand', 'link_21_flow', 'node_13_demand', 'link_27_flow', 'node_2_demand', 'node_24_pressure', 'link_10_flow', 'link_13_flow', 'node_16_demand']]\n",
      "starting df shape: (87600, 52)\n",
      "This is training run 6 and has the shape:  (87600, 52)\n",
      "The value of dropped columns is 45\n"
     ]
    },
    {
     "name": "stderr",
     "output_type": "stream",
     "text": [
      "/Users/alexellard/opt/anaconda3/lib/python3.7/site-packages/xgboost/data.py:96: UserWarning: Use subset (sliced data) of np.ndarray is not recommended because it will generate extra copies and increase memory consumption\n",
      "  \"because it will generate extra copies and increase \" +\n"
     ]
    },
    {
     "name": "stdout",
     "output_type": "stream",
     "text": [
      "test y shape : (17520, 1)\n",
      "Inv y shape : (17520, 52)\n",
      "y pred shape : (17520, 1)\n",
      "inv y pred : (17520, 52)\n",
      "Run 6 Mean Absolute Error: 0.5424939262514533\n",
      "[['link_23_flow', 'link_5_flow', 'node_26_pressure', 'node_13_pressure', 'node_9_demand', 'node_6_pressure', 'link_4_flow', 'node_1_pressure', 'link_31_flow', 'node_31_pressure', 'link_32_flow', 'node_3_demand', 'link_19_flow', 'link_24_flow', 'node_16_pressure', 'node_19_demand', 'node_25_demand', 'node_12_demand', 'reservoir_pressure', 'node_14_demand', 'node_12_pressure', 'node_30_demand', 'node_20_demand', 'node_13_demand', 'node_18_pressure', 'node_28_pressure', 'node_15_pressure', 'node_16_demand', 'node_10_pressure', 'link_21_flow', 'link_22_flow', 'node_7_demand', 'node_24_demand', 'node_4_pressure', 'node_27_pressure', 'link_13_flow', 'link_7_flow', 'link_26_flow', 'link_29_flow', 'node_15_demand', 'link_25_flow', 'link_8_flow', 'link_20_flow', 'node_22_pressure', 'node_3_pressure']]\n",
      "starting df shape: (87600, 51)\n",
      "This is training run 7 and has the shape:  (87600, 51)\n",
      "The value of dropped columns is 45\n"
     ]
    },
    {
     "name": "stderr",
     "output_type": "stream",
     "text": [
      "/Users/alexellard/opt/anaconda3/lib/python3.7/site-packages/xgboost/data.py:96: UserWarning: Use subset (sliced data) of np.ndarray is not recommended because it will generate extra copies and increase memory consumption\n",
      "  \"because it will generate extra copies and increase \" +\n"
     ]
    },
    {
     "name": "stdout",
     "output_type": "stream",
     "text": [
      "test y shape : (17520, 1)\n",
      "Inv y shape : (17520, 51)\n",
      "y pred shape : (17520, 1)\n",
      "inv y pred : (17520, 51)\n",
      "Run 7 Mean Absolute Error: 3.9855817011570136\n",
      "[['node_19_demand', 'node_11_pressure', 'link_24_flow', 'node_11_demand', 'node_15_pressure', 'link_32_flow', 'node_3_demand', 'link_21_flow', 'link_11_flow', 'node_16_pressure', 'node_30_demand', 'link_25_flow', 'link_4_flow', 'node_9_demand', 'node_5_pressure', 'node_30_pressure', 'link_15_flow', 'node_12_pressure', 'link_20_flow', 'node_25_demand', 'node_19_pressure', 'node_31_demand', 'node_8_pressure', 'node_27_pressure', 'node_2_demand', 'node_15_demand', 'node_23_pressure', 'node_4_demand', 'node_31_pressure', 'node_1_pressure', 'reservoir_pressure', 'node_8_demand', 'node_6_pressure', 'node_14_demand', 'link_26_flow', 'link_3_flow', 'link_6_flow', 'link_9_flow', 'node_6_demand', 'link_7_flow', 'node_20_pressure', 'node_27_demand', 'node_17_demand', 'node_18_pressure', 'link_29_flow']]\n",
      "starting df shape: (87600, 51)\n",
      "This is training run 8 and has the shape:  (87600, 51)\n",
      "The value of dropped columns is 45\n"
     ]
    },
    {
     "name": "stderr",
     "output_type": "stream",
     "text": [
      "/Users/alexellard/opt/anaconda3/lib/python3.7/site-packages/xgboost/data.py:96: UserWarning: Use subset (sliced data) of np.ndarray is not recommended because it will generate extra copies and increase memory consumption\n",
      "  \"because it will generate extra copies and increase \" +\n"
     ]
    },
    {
     "name": "stdout",
     "output_type": "stream",
     "text": [
      "test y shape : (17520, 1)\n",
      "Inv y shape : (17520, 51)\n",
      "y pred shape : (17520, 1)\n",
      "inv y pred : (17520, 51)\n",
      "Run 8 Mean Absolute Error: 4.179843209859442\n",
      "[['node_2_demand', 'node_31_pressure', 'reservoir_pressure', 'node_5_pressure', 'reservoir_demand', 'node_16_demand', 'link_25_flow', 'node_2_pressure', 'node_4_pressure', 'node_18_demand', 'node_22_demand', 'link_30_flow', 'node_7_demand', 'node_4_demand', 'node_28_pressure', 'node_29_demand', 'node_30_pressure', 'node_19_demand', 'node_12_pressure', 'node_29_pressure', 'link_15_flow', 'node_3_pressure', 'link_2_flow', 'node_18_pressure', 'link_29_flow', 'node_21_pressure', 'node_28_demand', 'node_27_pressure', 'link_5_flow', 'link_13_flow', 'node_13_demand', 'link_31_flow', 'node_25_pressure', 'node_9_pressure', 'node_23_demand', 'node_9_demand', 'link_9_flow', 'link_27_flow', 'node_24_demand', 'node_19_pressure', 'node_26_pressure', 'link_14_flow', 'node_25_demand', 'node_22_pressure', 'node_6_pressure']]\n",
      "starting df shape: (87600, 51)\n",
      "This is training run 9 and has the shape:  (87600, 51)\n",
      "The value of dropped columns is 45\n"
     ]
    },
    {
     "name": "stderr",
     "output_type": "stream",
     "text": [
      "/Users/alexellard/opt/anaconda3/lib/python3.7/site-packages/xgboost/data.py:96: UserWarning: Use subset (sliced data) of np.ndarray is not recommended because it will generate extra copies and increase memory consumption\n",
      "  \"because it will generate extra copies and increase \" +\n"
     ]
    },
    {
     "name": "stdout",
     "output_type": "stream",
     "text": [
      "test y shape : (17520, 1)\n",
      "Inv y shape : (17520, 51)\n",
      "y pred shape : (17520, 1)\n",
      "inv y pred : (17520, 51)\n",
      "Run 9 Mean Absolute Error: 0.9292179095598326\n",
      "[['node_23_demand', 'link_21_flow', 'node_21_demand', 'node_23_pressure', 'link_22_flow', 'node_20_pressure', 'link_6_flow', 'node_1_pressure', 'node_13_demand', 'node_24_demand', 'node_8_demand', 'link_25_flow', 'node_31_pressure', 'node_5_demand', 'link_29_flow', 'node_10_pressure', 'node_13_pressure', 'node_12_demand', 'node_28_pressure', 'node_3_pressure', 'link_17_flow', 'node_21_pressure', 'node_11_demand', 'node_25_demand', 'node_27_demand', 'node_16_demand', 'node_17_demand', 'node_3_demand', 'node_10_demand', 'node_26_pressure', 'node_16_pressure', 'node_6_pressure', 'link_3_flow', 'link_14_flow', 'link_13_flow', 'link_12_flow', 'link_19_flow', 'node_26_demand', 'link_4_flow', 'link_23_flow', 'link_8_flow', 'node_5_pressure', 'node_15_demand', 'link_9_flow']]\n",
      "starting df shape: (87600, 52)\n",
      "This is training run 10 and has the shape:  (87600, 52)\n",
      "The value of dropped columns is 45\n"
     ]
    },
    {
     "name": "stderr",
     "output_type": "stream",
     "text": [
      "/Users/alexellard/opt/anaconda3/lib/python3.7/site-packages/xgboost/data.py:96: UserWarning: Use subset (sliced data) of np.ndarray is not recommended because it will generate extra copies and increase memory consumption\n",
      "  \"because it will generate extra copies and increase \" +\n"
     ]
    },
    {
     "name": "stdout",
     "output_type": "stream",
     "text": [
      "test y shape : (17520, 1)\n",
      "Inv y shape : (17520, 52)\n",
      "y pred shape : (17520, 1)\n",
      "inv y pred : (17520, 52)\n",
      "Run 10 Mean Absolute Error: 3.595869702688621\n",
      "[['node_4_demand', 'link_17_flow', 'link_15_flow', 'node_29_demand', 'node_3_demand', 'node_23_pressure', 'link_13_flow', 'node_12_pressure', 'link_29_flow', 'link_4_flow', 'node_30_demand', 'node_12_demand', 'node_22_pressure', 'node_17_pressure', 'node_19_pressure', 'node_14_demand', 'node_21_demand', 'link_3_flow', 'link_30_flow', 'link_7_flow', 'node_13_pressure', 'node_28_demand', 'link_26_flow', 'node_9_pressure', 'node_28_pressure', 'node_18_pressure', 'node_5_pressure', 'node_13_demand', 'link_6_flow', 'link_5_flow', 'link_27_flow', 'link_32_flow', 'link_28_flow', 'node_30_pressure', 'node_15_demand', 'node_2_pressure', 'link_21_flow', 'link_10_flow', 'node_6_demand', 'node_27_pressure', 'link_11_flow', 'node_16_demand', 'node_25_demand', 'node_31_pressure', 'link_16_flow', 'link_22_flow', 'reservoir_pressure', 'node_17_demand', 'node_3_pressure']]\n",
      "starting df shape: (87600, 47)\n",
      "This is training run 1 and has the shape:  (87600, 47)\n",
      "The value of dropped columns is 50\n"
     ]
    },
    {
     "name": "stderr",
     "output_type": "stream",
     "text": [
      "/Users/alexellard/opt/anaconda3/lib/python3.7/site-packages/xgboost/data.py:96: UserWarning: Use subset (sliced data) of np.ndarray is not recommended because it will generate extra copies and increase memory consumption\n",
      "  \"because it will generate extra copies and increase \" +\n"
     ]
    },
    {
     "name": "stdout",
     "output_type": "stream",
     "text": [
      "test y shape : (17520, 1)\n",
      "Inv y shape : (17520, 47)\n",
      "y pred shape : (17520, 1)\n",
      "inv y pred : (17520, 47)\n",
      "Run 1 Mean Absolute Error: 2.761632051092317\n",
      "[['node_6_pressure', 'reservoir_pressure', 'link_17_flow', 'node_22_demand', 'node_12_pressure', 'link_4_flow', 'node_14_demand', 'link_11_flow', 'link_27_flow', 'link_7_flow', 'node_25_pressure', 'link_10_flow', 'link_12_flow', 'node_10_pressure', 'node_31_demand', 'link_3_flow', 'link_15_flow', 'node_11_demand', 'link_23_flow', 'link_31_flow', 'link_26_flow', 'link_5_flow', 'link_20_flow', 'node_3_pressure', 'node_22_pressure', 'node_19_demand', 'node_2_demand', 'node_8_demand', 'node_19_pressure', 'node_9_demand', 'node_12_demand', 'node_21_demand', 'node_27_demand', 'node_23_pressure', 'node_24_demand', 'node_26_demand', 'node_1_pressure', 'link_8_flow', 'node_20_demand', 'node_26_pressure', 'link_18_flow', 'node_18_pressure', 'node_1_demand', 'node_7_demand', 'node_13_demand', 'link_6_flow', 'node_28_pressure', 'link_16_flow', 'link_14_flow', 'node_30_demand']]\n",
      "starting df shape: (87600, 46)\n",
      "This is training run 2 and has the shape:  (87600, 46)\n",
      "The value of dropped columns is 50\n"
     ]
    },
    {
     "name": "stderr",
     "output_type": "stream",
     "text": [
      "/Users/alexellard/opt/anaconda3/lib/python3.7/site-packages/xgboost/data.py:96: UserWarning: Use subset (sliced data) of np.ndarray is not recommended because it will generate extra copies and increase memory consumption\n",
      "  \"because it will generate extra copies and increase \" +\n"
     ]
    },
    {
     "name": "stdout",
     "output_type": "stream",
     "text": [
      "test y shape : (17520, 1)\n",
      "Inv y shape : (17520, 46)\n",
      "y pred shape : (17520, 1)\n",
      "inv y pred : (17520, 46)\n",
      "Run 2 Mean Absolute Error: 3.3447491725258716\n",
      "[['link_13_flow', 'node_22_pressure', 'link_15_flow', 'node_2_pressure', 'node_31_demand', 'node_6_pressure', 'node_26_pressure', 'node_27_pressure', 'node_24_demand', 'node_14_demand', 'node_13_demand', 'link_8_flow', 'node_25_pressure', 'node_21_pressure', 'link_25_flow', 'node_18_demand', 'node_23_demand', 'link_11_flow', 'link_3_flow', 'link_6_flow', 'node_17_demand', 'node_15_pressure', 'node_13_pressure', 'node_3_demand', 'reservoir_demand', 'node_11_demand', 'node_6_demand', 'node_3_pressure', 'link_18_flow', 'link_4_flow', 'node_9_pressure', 'link_19_flow', 'node_22_demand', 'link_21_flow', 'node_27_demand', 'node_9_demand', 'link_16_flow', 'link_22_flow', 'link_20_flow', 'node_16_pressure', 'node_28_pressure', 'link_9_flow', 'node_17_pressure', 'node_18_pressure', 'node_5_demand', 'node_30_demand', 'node_30_pressure', 'node_23_pressure', 'link_5_flow', 'node_7_demand']]\n",
      "starting df shape: (87600, 46)\n",
      "This is training run 3 and has the shape:  (87600, 46)\n",
      "The value of dropped columns is 50\n"
     ]
    },
    {
     "name": "stderr",
     "output_type": "stream",
     "text": [
      "/Users/alexellard/opt/anaconda3/lib/python3.7/site-packages/xgboost/data.py:96: UserWarning: Use subset (sliced data) of np.ndarray is not recommended because it will generate extra copies and increase memory consumption\n",
      "  \"because it will generate extra copies and increase \" +\n"
     ]
    },
    {
     "name": "stdout",
     "output_type": "stream",
     "text": [
      "test y shape : (17520, 1)\n",
      "Inv y shape : (17520, 46)\n",
      "y pred shape : (17520, 1)\n",
      "inv y pred : (17520, 46)\n",
      "Run 3 Mean Absolute Error: 0.46126524868678864\n",
      "[['node_21_pressure', 'node_28_demand', 'node_9_demand', 'node_23_demand', 'node_20_pressure', 'node_15_pressure', 'node_6_demand', 'node_10_demand', 'link_10_flow', 'link_26_flow', 'link_30_flow', 'node_14_demand', 'link_19_flow', 'node_18_demand', 'node_10_pressure', 'link_32_flow', 'link_7_flow', 'node_25_pressure', 'node_26_demand', 'link_16_flow', 'link_21_flow', 'node_30_pressure', 'node_31_pressure', 'node_13_demand', 'link_4_flow', 'node_16_pressure', 'node_24_demand', 'node_5_pressure', 'node_26_pressure', 'node_9_pressure', 'node_17_pressure', 'link_20_flow', 'node_7_demand', 'node_11_pressure', 'node_3_demand', 'node_4_pressure', 'link_8_flow', 'node_19_pressure', 'link_12_flow', 'node_2_pressure', 'node_22_demand', 'node_8_pressure', 'link_9_flow', 'link_28_flow', 'node_25_demand', 'link_6_flow', 'node_20_demand', 'node_27_demand', 'node_30_demand']]\n",
      "starting df shape: (87600, 47)\n",
      "This is training run 4 and has the shape:  (87600, 47)\n",
      "The value of dropped columns is 50\n"
     ]
    },
    {
     "name": "stderr",
     "output_type": "stream",
     "text": [
      "/Users/alexellard/opt/anaconda3/lib/python3.7/site-packages/xgboost/data.py:96: UserWarning: Use subset (sliced data) of np.ndarray is not recommended because it will generate extra copies and increase memory consumption\n",
      "  \"because it will generate extra copies and increase \" +\n"
     ]
    },
    {
     "name": "stdout",
     "output_type": "stream",
     "text": [
      "test y shape : (17520, 1)\n",
      "Inv y shape : (17520, 47)\n",
      "y pred shape : (17520, 1)\n",
      "inv y pred : (17520, 47)\n",
      "Run 4 Mean Absolute Error: 2.729779098862667\n",
      "[['link_23_flow', 'link_13_flow', 'link_28_flow', 'link_10_flow', 'node_12_pressure', 'node_7_pressure', 'node_12_demand', 'reservoir_pressure', 'link_25_flow', 'node_2_pressure', 'node_11_demand', 'node_14_pressure', 'node_4_demand', 'node_8_pressure', 'link_3_flow', 'link_2_flow', 'link_21_flow', 'link_14_flow', 'node_29_pressure', 'node_16_demand', 'node_5_demand', 'node_21_pressure', 'node_1_pressure', 'node_15_demand', 'node_17_demand', 'link_16_flow', 'node_8_demand', 'node_27_demand', 'node_11_pressure', 'node_28_pressure', 'node_9_pressure', 'node_10_demand', 'link_32_flow', 'node_24_pressure', 'node_18_demand', 'link_4_flow', 'node_31_demand', 'node_15_pressure', 'node_16_pressure', 'node_30_pressure', 'node_22_demand', 'link_20_flow', 'node_29_demand', 'node_3_pressure', 'link_22_flow', 'node_6_demand', 'node_26_pressure', 'link_30_flow', 'link_12_flow', 'link_9_flow']]\n",
      "starting df shape: (87600, 46)\n",
      "This is training run 5 and has the shape:  (87600, 46)\n",
      "The value of dropped columns is 50\n"
     ]
    },
    {
     "name": "stderr",
     "output_type": "stream",
     "text": [
      "/Users/alexellard/opt/anaconda3/lib/python3.7/site-packages/xgboost/data.py:96: UserWarning: Use subset (sliced data) of np.ndarray is not recommended because it will generate extra copies and increase memory consumption\n",
      "  \"because it will generate extra copies and increase \" +\n"
     ]
    },
    {
     "name": "stdout",
     "output_type": "stream",
     "text": [
      "test y shape : (17520, 1)\n",
      "Inv y shape : (17520, 46)\n",
      "y pred shape : (17520, 1)\n",
      "inv y pred : (17520, 46)\n",
      "Run 5 Mean Absolute Error: 5.4343585121835805\n",
      "[['node_28_demand', 'node_20_demand', 'node_7_demand', 'link_9_flow', 'node_11_demand', 'link_16_flow', 'link_22_flow', 'link_23_flow', 'node_20_pressure', 'node_24_pressure', 'link_28_flow', 'node_12_demand', 'link_7_flow', 'node_27_pressure', 'node_4_demand', 'node_3_pressure', 'link_4_flow', 'link_18_flow', 'node_5_pressure', 'link_5_flow', 'node_30_pressure', 'node_13_pressure', 'node_16_demand', 'link_15_flow', 'link_30_flow', 'link_24_flow', 'node_15_demand', 'node_13_demand', 'link_2_flow', 'node_30_demand', 'node_26_demand', 'link_25_flow', 'node_14_pressure', 'link_26_flow', 'link_20_flow', 'node_10_pressure', 'link_8_flow', 'link_27_flow', 'node_23_demand', 'node_27_demand', 'node_28_pressure', 'node_16_pressure', 'node_2_pressure', 'node_3_demand', 'node_6_demand', 'link_19_flow', 'node_11_pressure', 'node_22_demand', 'link_21_flow', 'link_10_flow']]\n",
      "starting df shape: (87600, 46)\n",
      "This is training run 6 and has the shape:  (87600, 46)\n",
      "The value of dropped columns is 50\n"
     ]
    },
    {
     "name": "stderr",
     "output_type": "stream",
     "text": [
      "/Users/alexellard/opt/anaconda3/lib/python3.7/site-packages/xgboost/data.py:96: UserWarning: Use subset (sliced data) of np.ndarray is not recommended because it will generate extra copies and increase memory consumption\n",
      "  \"because it will generate extra copies and increase \" +\n"
     ]
    },
    {
     "name": "stdout",
     "output_type": "stream",
     "text": [
      "test y shape : (17520, 1)\n",
      "Inv y shape : (17520, 46)\n",
      "y pred shape : (17520, 1)\n",
      "inv y pred : (17520, 46)\n",
      "Run 6 Mean Absolute Error: 6.838631335660205\n",
      "[['link_15_flow', 'link_23_flow', 'link_11_flow', 'node_25_pressure', 'node_8_pressure', 'node_7_pressure', 'node_3_demand', 'link_21_flow', 'link_9_flow', 'node_28_pressure', 'link_28_flow', 'link_20_flow', 'link_8_flow', 'node_23_pressure', 'node_4_demand', 'link_6_flow', 'node_2_pressure', 'node_28_demand', 'link_13_flow', 'node_17_demand', 'link_7_flow', 'node_9_demand', 'node_21_demand', 'link_31_flow', 'reservoir_pressure', 'node_1_demand', 'node_24_pressure', 'node_17_pressure', 'node_22_demand', 'node_24_demand', 'node_12_pressure', 'node_26_demand', 'link_3_flow', 'link_17_flow', 'link_27_flow', 'node_12_demand', 'link_22_flow', 'link_25_flow', 'node_16_demand', 'node_11_demand', 'node_16_pressure', 'node_5_demand', 'node_19_demand', 'node_6_pressure', 'node_7_demand', 'link_5_flow', 'node_15_demand', 'link_26_flow', 'node_23_demand', 'link_4_flow']]\n",
      "starting df shape: (87600, 46)\n",
      "This is training run 7 and has the shape:  (87600, 46)\n",
      "The value of dropped columns is 50\n"
     ]
    },
    {
     "name": "stderr",
     "output_type": "stream",
     "text": [
      "/Users/alexellard/opt/anaconda3/lib/python3.7/site-packages/xgboost/data.py:96: UserWarning: Use subset (sliced data) of np.ndarray is not recommended because it will generate extra copies and increase memory consumption\n",
      "  \"because it will generate extra copies and increase \" +\n"
     ]
    },
    {
     "name": "stdout",
     "output_type": "stream",
     "text": [
      "test y shape : (17520, 1)\n",
      "Inv y shape : (17520, 46)\n",
      "y pred shape : (17520, 1)\n",
      "inv y pred : (17520, 46)\n",
      "Run 7 Mean Absolute Error: 3.287427953787867\n",
      "[['node_7_pressure', 'link_21_flow', 'node_1_pressure', 'node_4_pressure', 'node_15_demand', 'node_10_pressure', 'reservoir_pressure', 'link_10_flow', 'node_20_pressure', 'node_17_demand', 'link_16_flow', 'link_32_flow', 'node_19_pressure', 'node_23_pressure', 'link_30_flow', 'link_22_flow', 'link_7_flow', 'node_24_demand', 'node_16_demand', 'node_30_demand', 'node_28_pressure', 'node_25_demand', 'node_2_demand', 'node_8_demand', 'link_14_flow', 'node_16_pressure', 'link_6_flow', 'node_29_demand', 'node_4_demand', 'node_20_demand', 'link_3_flow', 'link_27_flow', 'node_9_pressure', 'node_30_pressure', 'reservoir_demand', 'node_26_pressure', 'link_31_flow', 'link_18_flow', 'link_25_flow', 'link_24_flow', 'node_18_demand', 'node_19_demand', 'node_13_demand', 'node_24_pressure', 'node_21_demand', 'node_3_demand', 'node_14_demand', 'node_27_demand', 'node_7_demand']]\n",
      "starting df shape: (87600, 47)\n",
      "This is training run 8 and has the shape:  (87600, 47)\n",
      "The value of dropped columns is 50\n"
     ]
    },
    {
     "name": "stderr",
     "output_type": "stream",
     "text": [
      "/Users/alexellard/opt/anaconda3/lib/python3.7/site-packages/xgboost/data.py:96: UserWarning: Use subset (sliced data) of np.ndarray is not recommended because it will generate extra copies and increase memory consumption\n",
      "  \"because it will generate extra copies and increase \" +\n"
     ]
    },
    {
     "name": "stdout",
     "output_type": "stream",
     "text": [
      "test y shape : (17520, 1)\n",
      "Inv y shape : (17520, 47)\n",
      "y pred shape : (17520, 1)\n",
      "inv y pred : (17520, 47)\n",
      "Run 8 Mean Absolute Error: 0.35131734305438833\n",
      "[['node_7_demand', 'node_6_pressure', 'node_8_demand', 'node_13_demand', 'node_26_pressure', 'link_7_flow', 'node_1_pressure', 'node_18_pressure', 'node_5_pressure', 'node_5_demand', 'node_16_demand', 'node_31_pressure', 'link_13_flow', 'link_29_flow', 'link_6_flow', 'node_12_pressure', 'link_15_flow', 'node_30_pressure', 'node_6_demand', 'link_12_flow', 'node_31_demand', 'node_27_pressure', 'node_2_demand', 'node_23_demand', 'node_22_pressure', 'node_13_pressure', 'node_30_demand', 'link_9_flow', 'link_32_flow', 'node_18_demand', 'node_25_pressure', 'node_23_pressure', 'node_29_pressure', 'node_17_demand', 'node_15_demand', 'link_2_flow', 'link_3_flow', 'node_19_demand', 'link_11_flow', 'link_14_flow', 'node_27_demand', 'node_14_pressure', 'node_16_pressure', 'node_10_pressure', 'reservoir_demand', 'link_19_flow', 'node_11_demand', 'node_22_demand', 'node_1_demand', 'node_17_pressure']]\n",
      "starting df shape: (87600, 46)\n",
      "This is training run 9 and has the shape:  (87600, 46)\n",
      "The value of dropped columns is 50\n"
     ]
    },
    {
     "name": "stderr",
     "output_type": "stream",
     "text": [
      "/Users/alexellard/opt/anaconda3/lib/python3.7/site-packages/xgboost/data.py:96: UserWarning: Use subset (sliced data) of np.ndarray is not recommended because it will generate extra copies and increase memory consumption\n",
      "  \"because it will generate extra copies and increase \" +\n"
     ]
    },
    {
     "name": "stdout",
     "output_type": "stream",
     "text": [
      "test y shape : (17520, 1)\n",
      "Inv y shape : (17520, 46)\n",
      "y pred shape : (17520, 1)\n",
      "inv y pred : (17520, 46)\n",
      "Run 9 Mean Absolute Error: 0.21285888071278364\n",
      "[['node_31_pressure', 'node_17_pressure', 'node_31_demand', 'node_14_demand', 'link_13_flow', 'node_18_demand', 'node_21_demand', 'node_3_demand', 'link_5_flow', 'node_9_pressure', 'link_9_flow', 'node_22_pressure', 'node_25_demand', 'node_6_pressure', 'node_2_demand', 'node_28_demand', 'node_4_demand', 'node_17_demand', 'node_23_pressure', 'node_24_pressure', 'node_14_pressure', 'link_2_flow', 'link_22_flow', 'node_28_pressure', 'link_25_flow', 'node_27_demand', 'link_31_flow', 'node_2_pressure', 'node_23_demand', 'node_27_pressure', 'node_3_pressure', 'node_19_pressure', 'node_16_pressure', 'node_15_demand', 'node_1_demand', 'node_10_pressure', 'node_26_demand', 'link_23_flow', 'node_15_pressure', 'node_26_pressure', 'link_29_flow', 'link_17_flow', 'node_30_pressure', 'node_8_demand', 'node_5_demand', 'link_7_flow', 'node_4_pressure', 'node_29_demand', 'link_4_flow', 'link_14_flow']]\n",
      "starting df shape: (87600, 46)\n",
      "This is training run 10 and has the shape:  (87600, 46)\n",
      "The value of dropped columns is 50\n"
     ]
    },
    {
     "name": "stderr",
     "output_type": "stream",
     "text": [
      "/Users/alexellard/opt/anaconda3/lib/python3.7/site-packages/xgboost/data.py:96: UserWarning: Use subset (sliced data) of np.ndarray is not recommended because it will generate extra copies and increase memory consumption\n",
      "  \"because it will generate extra copies and increase \" +\n"
     ]
    },
    {
     "name": "stdout",
     "output_type": "stream",
     "text": [
      "test y shape : (17520, 1)\n",
      "Inv y shape : (17520, 46)\n",
      "y pred shape : (17520, 1)\n",
      "inv y pred : (17520, 46)\n",
      "Run 10 Mean Absolute Error: 5.646663968701894\n",
      "[['link_28_flow', 'node_27_pressure', 'node_17_pressure', 'node_17_demand', 'link_5_flow', 'node_1_demand', 'link_26_flow', 'node_16_pressure', 'link_32_flow', 'link_22_flow', 'node_13_pressure', 'node_22_pressure', 'reservoir_demand', 'link_31_flow', 'node_28_demand', 'node_5_pressure', 'node_18_pressure', 'link_9_flow', 'link_11_flow', 'link_19_flow', 'node_12_demand', 'node_23_pressure', 'link_29_flow', 'node_28_pressure', 'link_14_flow', 'node_14_pressure', 'node_19_pressure', 'node_20_pressure', 'node_10_pressure', 'node_8_demand', 'node_10_demand', 'link_7_flow', 'link_25_flow', 'node_3_pressure', 'node_25_demand', 'node_9_pressure', 'link_15_flow', 'link_20_flow', 'node_3_demand', 'node_13_demand', 'node_4_demand', 'node_29_pressure', 'link_24_flow', 'node_1_pressure', 'node_11_demand', 'node_2_pressure', 'node_15_demand', 'link_2_flow', 'node_6_demand', 'node_2_demand', 'link_3_flow', 'node_11_pressure', 'node_24_demand', 'link_10_flow', 'node_9_demand']]\n",
      "starting df shape: (87600, 41)\n",
      "This is training run 1 and has the shape:  (87600, 41)\n",
      "The value of dropped columns is 55\n"
     ]
    },
    {
     "name": "stderr",
     "output_type": "stream",
     "text": [
      "/Users/alexellard/opt/anaconda3/lib/python3.7/site-packages/xgboost/data.py:96: UserWarning: Use subset (sliced data) of np.ndarray is not recommended because it will generate extra copies and increase memory consumption\n",
      "  \"because it will generate extra copies and increase \" +\n"
     ]
    },
    {
     "name": "stdout",
     "output_type": "stream",
     "text": [
      "test y shape : (17520, 1)\n",
      "Inv y shape : (17520, 41)\n",
      "y pred shape : (17520, 1)\n",
      "inv y pred : (17520, 41)\n",
      "Run 1 Mean Absolute Error: 1.2269538188826197\n",
      "[['node_16_pressure', 'node_10_demand', 'node_1_pressure', 'link_6_flow', 'node_19_demand', 'link_19_flow', 'node_31_demand', 'node_7_pressure', 'reservoir_pressure', 'node_6_demand', 'link_12_flow', 'node_4_pressure', 'node_8_pressure', 'node_19_pressure', 'node_5_demand', 'node_8_demand', 'node_27_pressure', 'node_28_pressure', 'node_12_pressure', 'reservoir_demand', 'node_25_demand', 'node_16_demand', 'node_17_demand', 'link_18_flow', 'node_14_pressure', 'node_15_pressure', 'node_13_demand', 'link_28_flow', 'node_20_pressure', 'node_21_demand', 'link_10_flow', 'node_31_pressure', 'node_20_demand', 'link_8_flow', 'node_5_pressure', 'node_11_demand', 'link_24_flow', 'node_12_demand', 'link_25_flow', 'node_30_pressure', 'node_9_pressure', 'node_13_pressure', 'link_14_flow', 'node_23_demand', 'node_9_demand', 'node_18_demand', 'link_15_flow', 'node_15_demand', 'node_10_pressure', 'link_29_flow', 'node_1_demand', 'link_7_flow', 'link_31_flow', 'node_4_demand', 'link_21_flow']]\n",
      "starting df shape: (87600, 41)\n",
      "This is training run 2 and has the shape:  (87600, 41)\n",
      "The value of dropped columns is 55\n"
     ]
    },
    {
     "name": "stderr",
     "output_type": "stream",
     "text": [
      "/Users/alexellard/opt/anaconda3/lib/python3.7/site-packages/xgboost/data.py:96: UserWarning: Use subset (sliced data) of np.ndarray is not recommended because it will generate extra copies and increase memory consumption\n",
      "  \"because it will generate extra copies and increase \" +\n"
     ]
    },
    {
     "name": "stdout",
     "output_type": "stream",
     "text": [
      "test y shape : (17520, 1)\n",
      "Inv y shape : (17520, 41)\n",
      "y pred shape : (17520, 1)\n",
      "inv y pred : (17520, 41)\n",
      "Run 2 Mean Absolute Error: 0.7839910959228756\n",
      "[['node_13_demand', 'node_8_pressure', 'node_6_demand', 'reservoir_pressure', 'node_9_demand', 'node_22_demand', 'node_2_demand', 'node_31_demand', 'link_21_flow', 'link_22_flow', 'link_30_flow', 'link_12_flow', 'node_3_demand', 'link_27_flow', 'node_16_demand', 'link_16_flow', 'node_14_pressure', 'node_15_demand', 'node_21_pressure', 'node_22_pressure', 'node_25_demand', 'node_25_pressure', 'link_10_flow', 'link_4_flow', 'link_17_flow', 'link_6_flow', 'node_4_pressure', 'node_20_pressure', 'link_13_flow', 'node_30_demand', 'node_19_demand', 'node_4_demand', 'node_8_demand', 'link_8_flow', 'node_29_demand', 'node_17_pressure', 'node_18_demand', 'reservoir_demand', 'node_14_demand', 'node_19_pressure', 'node_28_pressure', 'node_15_pressure', 'node_3_pressure', 'node_26_demand', 'node_12_demand', 'link_20_flow', 'link_24_flow', 'node_24_demand', 'node_18_pressure', 'link_15_flow', 'link_18_flow', 'link_5_flow', 'node_9_pressure', 'node_26_pressure', 'node_31_pressure']]\n",
      "starting df shape: (87600, 41)\n",
      "This is training run 3 and has the shape:  (87600, 41)\n",
      "The value of dropped columns is 55\n"
     ]
    },
    {
     "name": "stderr",
     "output_type": "stream",
     "text": [
      "/Users/alexellard/opt/anaconda3/lib/python3.7/site-packages/xgboost/data.py:96: UserWarning: Use subset (sliced data) of np.ndarray is not recommended because it will generate extra copies and increase memory consumption\n",
      "  \"because it will generate extra copies and increase \" +\n"
     ]
    },
    {
     "name": "stdout",
     "output_type": "stream",
     "text": [
      "test y shape : (17520, 1)\n",
      "Inv y shape : (17520, 41)\n",
      "y pred shape : (17520, 1)\n",
      "inv y pred : (17520, 41)\n",
      "Run 3 Mean Absolute Error: 0.32074389736098796\n",
      "[['node_19_pressure', 'node_22_pressure', 'node_10_demand', 'node_25_pressure', 'node_13_demand', 'node_24_demand', 'node_27_demand', 'node_11_demand', 'node_29_pressure', 'link_7_flow', 'link_31_flow', 'link_30_flow', 'link_19_flow', 'node_5_demand', 'node_7_pressure', 'node_4_pressure', 'node_14_demand', 'link_17_flow', 'node_9_pressure', 'link_25_flow', 'node_16_demand', 'link_16_flow', 'node_10_pressure', 'node_6_demand', 'link_21_flow', 'node_12_demand', 'link_28_flow', 'node_28_pressure', 'link_8_flow', 'node_21_pressure', 'node_1_demand', 'link_5_flow', 'node_30_pressure', 'node_17_pressure', 'node_21_demand', 'link_13_flow', 'node_31_demand', 'link_4_flow', 'node_11_pressure', 'link_12_flow', 'node_24_pressure', 'node_6_pressure', 'node_16_pressure', 'node_19_demand', 'node_18_demand', 'link_10_flow', 'link_14_flow', 'link_15_flow', 'node_29_demand', 'node_3_demand', 'link_2_flow', 'node_9_demand', 'link_26_flow', 'node_15_demand']]\n",
      "starting df shape: (87600, 42)\n",
      "This is training run 4 and has the shape:  (87600, 42)\n",
      "The value of dropped columns is 55\n"
     ]
    },
    {
     "name": "stderr",
     "output_type": "stream",
     "text": [
      "/Users/alexellard/opt/anaconda3/lib/python3.7/site-packages/xgboost/data.py:96: UserWarning: Use subset (sliced data) of np.ndarray is not recommended because it will generate extra copies and increase memory consumption\n",
      "  \"because it will generate extra copies and increase \" +\n"
     ]
    },
    {
     "name": "stdout",
     "output_type": "stream",
     "text": [
      "test y shape : (17520, 1)\n",
      "Inv y shape : (17520, 42)\n",
      "y pred shape : (17520, 1)\n",
      "inv y pred : (17520, 42)\n",
      "Run 4 Mean Absolute Error: 6.785084578203016\n",
      "[['node_15_pressure', 'link_22_flow', 'link_4_flow', 'node_16_demand', 'node_10_pressure', 'node_8_demand', 'node_9_demand', 'node_14_pressure', 'node_1_pressure', 'node_11_demand', 'node_22_demand', 'link_18_flow', 'node_31_pressure', 'link_26_flow', 'node_19_pressure', 'link_5_flow', 'node_15_demand', 'link_9_flow', 'link_21_flow', 'link_13_flow', 'node_23_pressure', 'node_22_pressure', 'node_5_pressure', 'node_2_pressure', 'node_20_demand', 'link_20_flow', 'link_29_flow', 'node_21_demand', 'node_1_demand', 'link_17_flow', 'node_9_pressure', 'node_24_demand', 'link_23_flow', 'link_14_flow', 'link_2_flow', 'node_29_demand', 'link_28_flow', 'node_26_pressure', 'link_7_flow', 'link_24_flow', 'node_8_pressure', 'link_3_flow', 'node_28_pressure', 'node_16_pressure', 'node_19_demand', 'link_31_flow', 'node_29_pressure', 'node_27_demand', 'node_18_pressure', 'node_11_pressure', 'node_23_demand', 'node_17_demand', 'node_13_demand', 'node_12_demand']]\n",
      "starting df shape: (87600, 42)\n",
      "This is training run 5 and has the shape:  (87600, 42)\n",
      "The value of dropped columns is 55\n"
     ]
    },
    {
     "name": "stderr",
     "output_type": "stream",
     "text": [
      "/Users/alexellard/opt/anaconda3/lib/python3.7/site-packages/xgboost/data.py:96: UserWarning: Use subset (sliced data) of np.ndarray is not recommended because it will generate extra copies and increase memory consumption\n",
      "  \"because it will generate extra copies and increase \" +\n"
     ]
    },
    {
     "name": "stdout",
     "output_type": "stream",
     "text": [
      "test y shape : (17520, 1)\n",
      "Inv y shape : (17520, 42)\n",
      "y pred shape : (17520, 1)\n",
      "inv y pred : (17520, 42)\n",
      "Run 5 Mean Absolute Error: 6.641123098886171\n",
      "[['node_20_pressure', 'node_28_demand', 'node_7_demand', 'node_10_demand', 'link_7_flow', 'node_20_demand', 'node_9_pressure', 'link_32_flow', 'link_21_flow', 'node_27_demand', 'node_7_pressure', 'node_18_demand', 'node_2_pressure', 'node_17_demand', 'link_12_flow', 'node_19_demand', 'link_23_flow', 'node_16_pressure', 'node_22_demand', 'node_11_demand', 'link_3_flow', 'node_19_pressure', 'node_22_pressure', 'reservoir_demand', 'node_30_pressure', 'node_17_pressure', 'link_24_flow', 'node_24_demand', 'link_9_flow', 'link_18_flow', 'node_1_pressure', 'link_5_flow', 'link_25_flow', 'node_1_demand', 'node_6_pressure', 'node_18_pressure', 'link_16_flow', 'node_28_pressure', 'link_26_flow', 'node_27_pressure', 'node_29_pressure', 'node_15_demand', 'node_8_pressure', 'node_21_pressure', 'link_15_flow', 'node_16_demand', 'link_29_flow', 'link_28_flow', 'reservoir_pressure', 'link_20_flow', 'link_19_flow', 'node_26_pressure', 'node_5_pressure', 'link_27_flow']]\n",
      "starting df shape: (87600, 42)\n",
      "This is training run 6 and has the shape:  (87600, 42)\n",
      "The value of dropped columns is 55\n"
     ]
    },
    {
     "name": "stderr",
     "output_type": "stream",
     "text": [
      "/Users/alexellard/opt/anaconda3/lib/python3.7/site-packages/xgboost/data.py:96: UserWarning: Use subset (sliced data) of np.ndarray is not recommended because it will generate extra copies and increase memory consumption\n",
      "  \"because it will generate extra copies and increase \" +\n"
     ]
    },
    {
     "name": "stdout",
     "output_type": "stream",
     "text": [
      "test y shape : (17520, 1)\n",
      "Inv y shape : (17520, 42)\n",
      "y pred shape : (17520, 1)\n",
      "inv y pred : (17520, 42)\n",
      "Run 6 Mean Absolute Error: 0.8395412749044193\n",
      "[['link_22_flow', 'reservoir_demand', 'node_10_demand', 'link_30_flow', 'node_16_pressure', 'node_16_demand', 'node_3_demand', 'node_23_demand', 'link_18_flow', 'node_28_pressure', 'node_26_demand', 'link_17_flow', 'link_28_flow', 'node_21_demand', 'node_18_demand', 'node_22_demand', 'node_13_pressure', 'node_15_demand', 'link_8_flow', 'node_10_pressure', 'link_6_flow', 'node_27_pressure', 'node_2_pressure', 'link_32_flow', 'link_5_flow', 'node_30_demand', 'node_24_demand', 'node_23_pressure', 'link_14_flow', 'node_12_pressure', 'node_8_demand', 'link_3_flow', 'link_27_flow', 'link_23_flow', 'link_15_flow', 'link_12_flow', 'node_1_pressure', 'node_28_demand', 'link_7_flow', 'node_3_pressure', 'link_13_flow', 'node_22_pressure', 'node_29_demand', 'node_13_demand', 'node_11_demand', 'node_8_pressure', 'link_29_flow', 'node_20_pressure', 'node_27_demand', 'link_2_flow', 'node_19_demand', 'link_25_flow', 'node_14_demand', 'node_18_pressure', 'node_12_demand']]\n",
      "starting df shape: (87600, 41)\n",
      "This is training run 7 and has the shape:  (87600, 41)\n",
      "The value of dropped columns is 55\n"
     ]
    },
    {
     "name": "stderr",
     "output_type": "stream",
     "text": [
      "/Users/alexellard/opt/anaconda3/lib/python3.7/site-packages/xgboost/data.py:96: UserWarning: Use subset (sliced data) of np.ndarray is not recommended because it will generate extra copies and increase memory consumption\n",
      "  \"because it will generate extra copies and increase \" +\n"
     ]
    },
    {
     "name": "stdout",
     "output_type": "stream",
     "text": [
      "test y shape : (17520, 1)\n",
      "Inv y shape : (17520, 41)\n",
      "y pred shape : (17520, 1)\n",
      "inv y pred : (17520, 41)\n",
      "Run 7 Mean Absolute Error: 0.8441884049735754\n",
      "[['node_26_pressure', 'link_12_flow', 'node_12_demand', 'link_27_flow', 'node_13_demand', 'link_4_flow', 'link_26_flow', 'link_7_flow', 'link_28_flow', 'node_18_pressure', 'node_21_demand', 'link_25_flow', 'node_15_pressure', 'node_17_demand', 'node_3_demand', 'link_13_flow', 'node_15_demand', 'node_23_demand', 'node_20_demand', 'node_10_pressure', 'node_4_pressure', 'link_3_flow', 'reservoir_pressure', 'node_5_pressure', 'link_17_flow', 'link_21_flow', 'node_28_pressure', 'node_13_pressure', 'node_1_pressure', 'node_20_pressure', 'node_19_demand', 'link_18_flow', 'link_24_flow', 'node_11_pressure', 'node_18_demand', 'link_9_flow', 'link_6_flow', 'node_30_demand', 'link_23_flow', 'node_2_pressure', 'node_6_pressure', 'node_25_demand', 'node_19_pressure', 'node_21_pressure', 'node_9_demand', 'node_8_demand', 'node_16_demand', 'node_27_demand', 'node_22_demand', 'node_4_demand', 'node_6_demand', 'node_17_pressure', 'link_14_flow', 'node_10_demand']]\n",
      "starting df shape: (87600, 42)\n",
      "This is training run 8 and has the shape:  (87600, 42)\n",
      "The value of dropped columns is 55\n"
     ]
    },
    {
     "name": "stderr",
     "output_type": "stream",
     "text": [
      "/Users/alexellard/opt/anaconda3/lib/python3.7/site-packages/xgboost/data.py:96: UserWarning: Use subset (sliced data) of np.ndarray is not recommended because it will generate extra copies and increase memory consumption\n",
      "  \"because it will generate extra copies and increase \" +\n"
     ]
    },
    {
     "name": "stdout",
     "output_type": "stream",
     "text": [
      "test y shape : (17520, 1)\n",
      "Inv y shape : (17520, 42)\n",
      "y pred shape : (17520, 1)\n",
      "inv y pred : (17520, 42)\n",
      "Run 8 Mean Absolute Error: 2.7136572729153277\n",
      "[['node_8_demand', 'link_26_flow', 'node_31_demand', 'node_2_pressure', 'node_30_demand', 'node_4_demand', 'link_28_flow', 'node_23_pressure', 'node_26_pressure', 'link_16_flow', 'node_6_pressure', 'node_19_pressure', 'link_4_flow', 'link_7_flow', 'node_8_pressure', 'node_22_pressure', 'link_8_flow', 'link_5_flow', 'node_7_demand', 'link_14_flow', 'node_18_demand', 'link_20_flow', 'node_21_pressure', 'link_17_flow', 'node_28_demand', 'link_31_flow', 'link_13_flow', 'node_25_pressure', 'link_32_flow', 'link_6_flow', 'link_24_flow', 'node_17_demand', 'node_24_demand', 'node_27_pressure', 'node_20_pressure', 'link_23_flow', 'node_5_demand', 'node_31_pressure', 'link_15_flow', 'node_29_demand', 'node_12_pressure', 'node_24_pressure', 'node_5_pressure', 'node_23_demand', 'link_19_flow', 'link_10_flow', 'node_1_pressure', 'node_3_pressure', 'node_9_pressure', 'node_19_demand', 'node_16_pressure', 'node_30_pressure', 'node_15_demand', 'node_25_demand']]\n",
      "starting df shape: (87600, 42)\n",
      "This is training run 9 and has the shape:  (87600, 42)\n",
      "The value of dropped columns is 55\n"
     ]
    },
    {
     "name": "stderr",
     "output_type": "stream",
     "text": [
      "/Users/alexellard/opt/anaconda3/lib/python3.7/site-packages/xgboost/data.py:96: UserWarning: Use subset (sliced data) of np.ndarray is not recommended because it will generate extra copies and increase memory consumption\n",
      "  \"because it will generate extra copies and increase \" +\n"
     ]
    },
    {
     "name": "stdout",
     "output_type": "stream",
     "text": [
      "test y shape : (17520, 1)\n",
      "Inv y shape : (17520, 42)\n",
      "y pred shape : (17520, 1)\n",
      "inv y pred : (17520, 42)\n",
      "Run 9 Mean Absolute Error: 2.741926811476284\n",
      "[['link_8_flow', 'node_4_demand', 'node_14_demand', 'node_13_pressure', 'link_14_flow', 'node_18_pressure', 'link_21_flow', 'node_24_pressure', 'node_22_demand', 'node_29_pressure', 'node_20_pressure', 'node_5_demand', 'node_14_pressure', 'link_18_flow', 'node_22_pressure', 'reservoir_demand', 'node_7_pressure', 'node_31_demand', 'node_15_demand', 'node_23_demand', 'link_4_flow', 'node_31_pressure', 'link_31_flow', 'node_21_demand', 'node_20_demand', 'node_18_demand', 'node_27_demand', 'node_13_demand', 'link_32_flow', 'link_17_flow', 'node_19_pressure', 'node_2_demand', 'node_26_pressure', 'node_21_pressure', 'node_11_demand', 'link_9_flow', 'link_20_flow', 'node_26_demand', 'node_25_demand', 'node_6_pressure', 'node_23_pressure', 'node_12_pressure', 'link_24_flow', 'link_6_flow', 'node_9_pressure', 'link_25_flow', 'link_23_flow', 'link_12_flow', 'link_19_flow', 'node_30_demand', 'node_8_pressure', 'link_27_flow', 'node_16_demand', 'link_7_flow']]\n",
      "starting df shape: (87600, 42)\n",
      "This is training run 10 and has the shape:  (87600, 42)\n",
      "The value of dropped columns is 55\n"
     ]
    },
    {
     "name": "stderr",
     "output_type": "stream",
     "text": [
      "/Users/alexellard/opt/anaconda3/lib/python3.7/site-packages/xgboost/data.py:96: UserWarning: Use subset (sliced data) of np.ndarray is not recommended because it will generate extra copies and increase memory consumption\n",
      "  \"because it will generate extra copies and increase \" +\n"
     ]
    },
    {
     "name": "stdout",
     "output_type": "stream",
     "text": [
      "test y shape : (17520, 1)\n",
      "Inv y shape : (17520, 42)\n",
      "y pred shape : (17520, 1)\n",
      "inv y pred : (17520, 42)\n",
      "Run 10 Mean Absolute Error: 0.47925702630564027\n",
      "[['node_9_demand', 'node_17_demand', 'link_19_flow', 'node_16_demand', 'node_30_pressure', 'link_15_flow', 'node_10_pressure', 'node_6_demand', 'link_11_flow', 'node_12_demand', 'node_7_pressure', 'node_15_pressure', 'node_12_pressure', 'node_23_pressure', 'link_26_flow', 'node_22_pressure', 'link_28_flow', 'node_13_demand', 'node_3_pressure', 'link_23_flow', 'node_2_pressure', 'link_2_flow', 'link_8_flow', 'node_9_pressure', 'node_28_pressure', 'node_21_pressure', 'node_1_pressure', 'node_4_pressure', 'node_29_demand', 'node_10_demand', 'node_27_pressure', 'node_15_demand', 'link_31_flow', 'node_6_pressure', 'node_7_demand', 'link_4_flow', 'node_22_demand', 'node_25_pressure', 'node_26_pressure', 'link_24_flow', 'reservoir_demand', 'node_5_demand', 'node_4_demand', 'link_21_flow', 'link_12_flow', 'link_29_flow', 'node_24_demand', 'node_17_pressure', 'node_11_pressure', 'link_7_flow', 'node_14_pressure', 'link_9_flow', 'link_32_flow', 'node_18_pressure', 'node_20_pressure', 'node_19_demand', 'link_27_flow', 'link_18_flow', 'node_13_pressure']]\n",
      "starting df shape: (87600, 37)\n",
      "This is training run 1 and has the shape:  (87600, 37)\n",
      "The value of dropped columns is 60\n"
     ]
    },
    {
     "name": "stderr",
     "output_type": "stream",
     "text": [
      "/Users/alexellard/opt/anaconda3/lib/python3.7/site-packages/xgboost/data.py:96: UserWarning: Use subset (sliced data) of np.ndarray is not recommended because it will generate extra copies and increase memory consumption\n",
      "  \"because it will generate extra copies and increase \" +\n"
     ]
    },
    {
     "name": "stdout",
     "output_type": "stream",
     "text": [
      "test y shape : (17520, 1)\n",
      "Inv y shape : (17520, 37)\n",
      "y pred shape : (17520, 1)\n",
      "inv y pred : (17520, 37)\n",
      "Run 1 Mean Absolute Error: 1.5352415484141673\n",
      "[['node_1_pressure', 'node_26_pressure', 'link_26_flow', 'node_25_demand', 'node_20_pressure', 'node_22_demand', 'node_15_demand', 'link_13_flow', 'link_29_flow', 'link_27_flow', 'link_3_flow', 'node_8_demand', 'link_30_flow', 'link_21_flow', 'node_14_pressure', 'link_15_flow', 'link_23_flow', 'node_25_pressure', 'node_2_demand', 'node_30_demand', 'link_4_flow', 'node_20_demand', 'node_12_pressure', 'node_31_pressure', 'link_14_flow', 'node_27_demand', 'link_20_flow', 'node_29_pressure', 'node_6_pressure', 'node_24_demand', 'link_18_flow', 'link_2_flow', 'link_10_flow', 'node_18_demand', 'link_22_flow', 'node_3_pressure', 'link_12_flow', 'node_19_demand', 'node_1_demand', 'node_5_demand', 'node_11_pressure', 'node_28_demand', 'link_6_flow', 'node_8_pressure', 'node_31_demand', 'node_5_pressure', 'node_23_demand', 'node_17_pressure', 'node_16_pressure', 'node_12_demand', 'node_9_pressure', 'link_11_flow', 'link_32_flow', 'node_19_pressure', 'node_3_demand', 'node_9_demand', 'link_25_flow', 'node_10_demand', 'node_16_demand', 'node_6_demand']]\n",
      "starting df shape: (87600, 36)\n",
      "This is training run 2 and has the shape:  (87600, 36)\n",
      "The value of dropped columns is 60\n"
     ]
    },
    {
     "name": "stderr",
     "output_type": "stream",
     "text": [
      "/Users/alexellard/opt/anaconda3/lib/python3.7/site-packages/xgboost/data.py:96: UserWarning: Use subset (sliced data) of np.ndarray is not recommended because it will generate extra copies and increase memory consumption\n",
      "  \"because it will generate extra copies and increase \" +\n"
     ]
    },
    {
     "name": "stdout",
     "output_type": "stream",
     "text": [
      "test y shape : (17520, 1)\n",
      "Inv y shape : (17520, 36)\n",
      "y pred shape : (17520, 1)\n",
      "inv y pred : (17520, 36)\n",
      "Run 2 Mean Absolute Error: 7.46854119956085\n",
      "[['node_10_pressure', 'node_2_pressure', 'node_1_pressure', 'node_11_demand', 'link_12_flow', 'node_7_pressure', 'node_29_demand', 'link_16_flow', 'node_12_pressure', 'node_19_pressure', 'link_14_flow', 'node_16_demand', 'node_29_pressure', 'node_26_pressure', 'node_15_pressure', 'link_19_flow', 'node_20_pressure', 'link_9_flow', 'link_25_flow', 'link_26_flow', 'node_4_pressure', 'node_9_demand', 'node_8_demand', 'node_24_pressure', 'node_14_demand', 'reservoir_demand', 'link_21_flow', 'link_28_flow', 'link_30_flow', 'node_22_pressure', 'node_24_demand', 'node_20_demand', 'link_2_flow', 'node_5_pressure', 'link_18_flow', 'node_21_demand', 'link_29_flow', 'node_17_pressure', 'node_23_demand', 'node_1_demand', 'link_15_flow', 'link_31_flow', 'link_4_flow', 'link_13_flow', 'link_27_flow', 'node_17_demand', 'node_12_demand', 'node_14_pressure', 'link_6_flow', 'node_28_pressure', 'node_30_demand', 'node_7_demand', 'node_22_demand', 'link_8_flow', 'node_18_demand', 'node_10_demand', 'node_27_demand', 'node_30_pressure', 'node_15_demand', 'node_9_pressure']]\n",
      "starting df shape: (87600, 36)\n",
      "This is training run 3 and has the shape:  (87600, 36)\n",
      "The value of dropped columns is 60\n"
     ]
    },
    {
     "name": "stderr",
     "output_type": "stream",
     "text": [
      "/Users/alexellard/opt/anaconda3/lib/python3.7/site-packages/xgboost/data.py:96: UserWarning: Use subset (sliced data) of np.ndarray is not recommended because it will generate extra copies and increase memory consumption\n",
      "  \"because it will generate extra copies and increase \" +\n"
     ]
    },
    {
     "name": "stdout",
     "output_type": "stream",
     "text": [
      "test y shape : (17520, 1)\n",
      "Inv y shape : (17520, 36)\n",
      "y pred shape : (17520, 1)\n",
      "inv y pred : (17520, 36)\n",
      "Run 3 Mean Absolute Error: 1.332850395553903\n",
      "[['node_13_demand', 'node_5_pressure', 'node_26_demand', 'node_22_demand', 'node_5_demand', 'node_12_demand', 'node_14_pressure', 'node_2_demand', 'node_10_demand', 'node_8_demand', 'link_11_flow', 'node_27_pressure', 'node_3_demand', 'link_3_flow', 'node_17_pressure', 'node_12_pressure', 'node_24_pressure', 'link_30_flow', 'node_29_pressure', 'node_9_demand', 'node_21_demand', 'node_26_pressure', 'link_6_flow', 'link_2_flow', 'node_6_demand', 'node_29_demand', 'node_16_demand', 'node_17_demand', 'link_20_flow', 'node_27_demand', 'node_1_demand', 'link_14_flow', 'node_13_pressure', 'node_6_pressure', 'link_25_flow', 'node_11_demand', 'node_16_pressure', 'link_10_flow', 'reservoir_demand', 'link_22_flow', 'node_31_demand', 'link_13_flow', 'node_1_pressure', 'link_8_flow', 'link_9_flow', 'link_7_flow', 'node_25_demand', 'node_19_pressure', 'link_12_flow', 'link_18_flow', 'link_4_flow', 'node_18_pressure', 'node_22_pressure', 'node_21_pressure', 'link_19_flow', 'link_32_flow', 'node_18_demand', 'link_29_flow', 'node_30_pressure']]\n",
      "starting df shape: (87600, 37)\n",
      "This is training run 4 and has the shape:  (87600, 37)\n",
      "The value of dropped columns is 60\n"
     ]
    },
    {
     "name": "stderr",
     "output_type": "stream",
     "text": [
      "/Users/alexellard/opt/anaconda3/lib/python3.7/site-packages/xgboost/data.py:96: UserWarning: Use subset (sliced data) of np.ndarray is not recommended because it will generate extra copies and increase memory consumption\n",
      "  \"because it will generate extra copies and increase \" +\n"
     ]
    },
    {
     "name": "stdout",
     "output_type": "stream",
     "text": [
      "test y shape : (17520, 1)\n",
      "Inv y shape : (17520, 37)\n",
      "y pred shape : (17520, 1)\n",
      "inv y pred : (17520, 37)\n",
      "Run 4 Mean Absolute Error: 0.9857041476549881\n",
      "[['link_7_flow', 'node_22_pressure', 'node_1_pressure', 'node_7_demand', 'node_22_demand', 'reservoir_demand', 'node_9_demand', 'node_4_demand', 'node_16_demand', 'link_5_flow', 'link_32_flow', 'link_3_flow', 'node_29_pressure', 'node_1_demand', 'node_26_demand', 'link_8_flow', 'node_6_pressure', 'node_18_demand', 'node_23_pressure', 'link_27_flow', 'node_26_pressure', 'node_12_pressure', 'link_21_flow', 'node_17_pressure', 'node_31_demand', 'node_3_demand', 'node_30_pressure', 'node_23_demand', 'node_15_pressure', 'node_17_demand', 'link_31_flow', 'node_16_pressure', 'link_13_flow', 'node_19_demand', 'link_9_flow', 'node_20_pressure', 'node_24_demand', 'node_25_demand', 'link_29_flow', 'node_25_pressure', 'link_19_flow', 'link_4_flow', 'node_30_demand', 'link_11_flow', 'node_27_demand', 'link_14_flow', 'node_11_pressure', 'link_6_flow', 'node_5_demand', 'link_10_flow', 'node_12_demand', 'node_28_pressure', 'link_24_flow', 'node_29_demand', 'link_15_flow', 'link_25_flow', 'node_4_pressure', 'node_14_pressure', 'node_13_demand']]\n",
      "starting df shape: (87600, 37)\n",
      "This is training run 5 and has the shape:  (87600, 37)\n",
      "The value of dropped columns is 60\n"
     ]
    },
    {
     "name": "stderr",
     "output_type": "stream",
     "text": [
      "/Users/alexellard/opt/anaconda3/lib/python3.7/site-packages/xgboost/data.py:96: UserWarning: Use subset (sliced data) of np.ndarray is not recommended because it will generate extra copies and increase memory consumption\n",
      "  \"because it will generate extra copies and increase \" +\n"
     ]
    },
    {
     "name": "stdout",
     "output_type": "stream",
     "text": [
      "test y shape : (17520, 1)\n",
      "Inv y shape : (17520, 37)\n",
      "y pred shape : (17520, 1)\n",
      "inv y pred : (17520, 37)\n",
      "Run 5 Mean Absolute Error: 0.8365787302187366\n",
      "[['node_20_pressure', 'node_10_pressure', 'node_9_pressure', 'node_13_pressure', 'node_24_demand', 'node_26_demand', 'link_8_flow', 'link_27_flow', 'node_27_pressure', 'node_31_pressure', 'node_15_demand', 'node_21_demand', 'node_11_pressure', 'node_21_pressure', 'node_28_pressure', 'link_10_flow', 'node_27_demand', 'node_17_demand', 'node_4_demand', 'link_5_flow', 'node_5_demand', 'node_10_demand', 'link_24_flow', 'node_12_pressure', 'node_22_pressure', 'node_30_pressure', 'link_15_flow', 'link_3_flow', 'node_3_demand', 'link_17_flow', 'node_11_demand', 'node_14_demand', 'node_20_demand', 'node_16_demand', 'link_12_flow', 'node_1_demand', 'node_1_pressure', 'node_18_demand', 'link_13_flow', 'node_25_pressure', 'link_14_flow', 'node_24_pressure', 'link_7_flow', 'node_26_pressure', 'link_22_flow', 'node_3_pressure', 'node_19_demand', 'node_8_demand', 'node_9_demand', 'node_29_pressure', 'node_2_pressure', 'reservoir_pressure', 'link_26_flow', 'reservoir_demand', 'node_12_demand', 'link_30_flow', 'node_25_demand', 'link_18_flow', 'node_18_pressure']]\n",
      "starting df shape: (87600, 37)\n",
      "This is training run 6 and has the shape:  (87600, 37)\n",
      "The value of dropped columns is 60\n"
     ]
    },
    {
     "name": "stderr",
     "output_type": "stream",
     "text": [
      "/Users/alexellard/opt/anaconda3/lib/python3.7/site-packages/xgboost/data.py:96: UserWarning: Use subset (sliced data) of np.ndarray is not recommended because it will generate extra copies and increase memory consumption\n",
      "  \"because it will generate extra copies and increase \" +\n"
     ]
    },
    {
     "name": "stdout",
     "output_type": "stream",
     "text": [
      "test y shape : (17520, 1)\n",
      "Inv y shape : (17520, 37)\n",
      "y pred shape : (17520, 1)\n",
      "inv y pred : (17520, 37)\n",
      "Run 6 Mean Absolute Error: 0.6919038430085542\n",
      "[['link_16_flow', 'link_25_flow', 'link_3_flow', 'node_5_pressure', 'link_15_flow', 'link_14_flow', 'link_22_flow', 'node_21_pressure', 'node_1_pressure', 'node_3_demand', 'node_20_pressure', 'node_21_demand', 'node_28_pressure', 'node_11_pressure', 'node_8_pressure', 'node_25_pressure', 'link_28_flow', 'node_16_demand', 'link_24_flow', 'node_20_demand', 'link_21_flow', 'node_4_demand', 'node_28_demand', 'node_6_demand', 'node_12_demand', 'node_26_pressure', 'node_3_pressure', 'node_18_pressure', 'node_31_pressure', 'link_19_flow', 'link_12_flow', 'node_15_pressure', 'reservoir_demand', 'link_10_flow', 'node_13_pressure', 'node_29_demand', 'node_2_pressure', 'node_23_pressure', 'link_11_flow', 'node_30_pressure', 'node_19_demand', 'link_7_flow', 'node_4_pressure', 'link_29_flow', 'link_18_flow', 'node_2_demand', 'node_8_demand', 'node_13_demand', 'link_6_flow', 'link_23_flow', 'link_27_flow', 'link_31_flow', 'node_24_pressure', 'link_13_flow', 'link_8_flow', 'node_6_pressure', 'node_27_pressure', 'node_9_demand', 'link_5_flow', 'link_20_flow']]\n",
      "starting df shape: (87600, 36)\n",
      "This is training run 7 and has the shape:  (87600, 36)\n",
      "The value of dropped columns is 60\n"
     ]
    },
    {
     "name": "stderr",
     "output_type": "stream",
     "text": [
      "/Users/alexellard/opt/anaconda3/lib/python3.7/site-packages/xgboost/data.py:96: UserWarning: Use subset (sliced data) of np.ndarray is not recommended because it will generate extra copies and increase memory consumption\n",
      "  \"because it will generate extra copies and increase \" +\n"
     ]
    },
    {
     "name": "stdout",
     "output_type": "stream",
     "text": [
      "test y shape : (17520, 1)\n",
      "Inv y shape : (17520, 36)\n",
      "y pred shape : (17520, 1)\n",
      "inv y pred : (17520, 36)\n",
      "Run 7 Mean Absolute Error: 0.4788929384555629\n",
      "[['link_12_flow', 'node_3_pressure', 'node_11_demand', 'node_1_demand', 'link_17_flow', 'link_27_flow', 'link_13_flow', 'link_9_flow', 'node_16_pressure', 'node_14_pressure', 'node_23_pressure', 'link_5_flow', 'node_24_pressure', 'link_15_flow', 'node_21_demand', 'link_19_flow', 'node_18_demand', 'node_13_pressure', 'link_30_flow', 'node_20_pressure', 'node_30_demand', 'node_4_pressure', 'link_14_flow', 'node_31_demand', 'node_2_pressure', 'node_19_pressure', 'node_17_pressure', 'node_12_pressure', 'node_1_pressure', 'node_15_pressure', 'node_26_pressure', 'node_31_pressure', 'node_30_pressure', 'node_29_demand', 'node_9_demand', 'link_29_flow', 'node_7_pressure', 'node_8_demand', 'reservoir_pressure', 'node_2_demand', 'node_27_pressure', 'node_28_demand', 'node_5_pressure', 'link_25_flow', 'link_22_flow', 'node_16_demand', 'node_15_demand', 'node_12_demand', 'node_27_demand', 'node_11_pressure', 'node_23_demand', 'link_7_flow', 'link_4_flow', 'node_29_pressure', 'link_24_flow', 'node_24_demand', 'node_17_demand', 'node_25_demand', 'node_20_demand']]\n",
      "starting df shape: (87600, 37)\n",
      "This is training run 8 and has the shape:  (87600, 37)\n",
      "The value of dropped columns is 60\n"
     ]
    },
    {
     "name": "stderr",
     "output_type": "stream",
     "text": [
      "/Users/alexellard/opt/anaconda3/lib/python3.7/site-packages/xgboost/data.py:96: UserWarning: Use subset (sliced data) of np.ndarray is not recommended because it will generate extra copies and increase memory consumption\n",
      "  \"because it will generate extra copies and increase \" +\n"
     ]
    },
    {
     "name": "stdout",
     "output_type": "stream",
     "text": [
      "test y shape : (17520, 1)\n",
      "Inv y shape : (17520, 37)\n",
      "y pred shape : (17520, 1)\n",
      "inv y pred : (17520, 37)\n",
      "Run 8 Mean Absolute Error: 4.787814744494555\n",
      "[['node_27_demand', 'node_18_demand', 'node_10_pressure', 'node_31_demand', 'node_23_pressure', 'link_26_flow', 'link_30_flow', 'node_5_pressure', 'link_17_flow', 'node_21_demand', 'node_25_demand', 'link_8_flow', 'reservoir_pressure', 'reservoir_demand', 'node_25_pressure', 'link_12_flow', 'node_1_demand', 'link_27_flow', 'node_16_demand', 'link_21_flow', 'node_5_demand', 'link_13_flow', 'link_22_flow', 'node_2_demand', 'node_21_pressure', 'node_29_demand', 'link_16_flow', 'node_8_pressure', 'node_13_pressure', 'node_17_pressure', 'link_10_flow', 'node_9_pressure', 'node_22_demand', 'node_18_pressure', 'node_4_pressure', 'node_10_demand', 'node_26_pressure', 'link_25_flow', 'node_26_demand', 'node_2_pressure', 'node_28_demand', 'node_4_demand', 'link_29_flow', 'node_31_pressure', 'link_31_flow', 'node_22_pressure', 'link_15_flow', 'node_11_demand', 'node_12_pressure', 'link_19_flow', 'node_24_demand', 'node_8_demand', 'node_28_pressure', 'node_29_pressure', 'link_9_flow', 'node_30_demand', 'node_6_pressure', 'link_24_flow', 'node_14_demand']]\n",
      "starting df shape: (87600, 37)\n",
      "This is training run 9 and has the shape:  (87600, 37)\n",
      "The value of dropped columns is 60\n"
     ]
    },
    {
     "name": "stderr",
     "output_type": "stream",
     "text": [
      "/Users/alexellard/opt/anaconda3/lib/python3.7/site-packages/xgboost/data.py:96: UserWarning: Use subset (sliced data) of np.ndarray is not recommended because it will generate extra copies and increase memory consumption\n",
      "  \"because it will generate extra copies and increase \" +\n"
     ]
    },
    {
     "name": "stdout",
     "output_type": "stream",
     "text": [
      "test y shape : (17520, 1)\n",
      "Inv y shape : (17520, 37)\n",
      "y pred shape : (17520, 1)\n",
      "inv y pred : (17520, 37)\n",
      "Run 9 Mean Absolute Error: 0.10092283441011879\n",
      "[['node_14_pressure', 'link_12_flow', 'node_18_pressure', 'node_19_pressure', 'node_14_demand', 'node_30_demand', 'node_1_pressure', 'node_22_pressure', 'node_5_pressure', 'node_21_pressure', 'node_22_demand', 'link_18_flow', 'node_11_demand', 'node_5_demand', 'link_26_flow', 'node_27_demand', 'link_13_flow', 'node_25_pressure', 'link_11_flow', 'link_9_flow', 'node_26_pressure', 'reservoir_demand', 'link_30_flow', 'node_16_demand', 'node_26_demand', 'node_15_demand', 'node_2_demand', 'node_16_pressure', 'node_23_pressure', 'node_3_demand', 'link_24_flow', 'node_15_pressure', 'node_8_pressure', 'link_3_flow', 'link_20_flow', 'node_28_pressure', 'node_29_pressure', 'node_6_pressure', 'node_24_demand', 'node_8_demand', 'link_5_flow', 'node_9_pressure', 'link_31_flow', 'link_28_flow', 'node_21_demand', 'link_4_flow', 'node_20_pressure', 'node_25_demand', 'node_9_demand', 'node_27_pressure', 'link_17_flow', 'node_19_demand', 'link_19_flow', 'link_32_flow', 'node_7_demand', 'node_3_pressure', 'node_17_demand', 'link_16_flow', 'node_10_demand']]\n",
      "starting df shape: (87600, 37)\n",
      "This is training run 10 and has the shape:  (87600, 37)\n",
      "The value of dropped columns is 60\n"
     ]
    },
    {
     "name": "stderr",
     "output_type": "stream",
     "text": [
      "/Users/alexellard/opt/anaconda3/lib/python3.7/site-packages/xgboost/data.py:96: UserWarning: Use subset (sliced data) of np.ndarray is not recommended because it will generate extra copies and increase memory consumption\n",
      "  \"because it will generate extra copies and increase \" +\n"
     ]
    },
    {
     "name": "stdout",
     "output_type": "stream",
     "text": [
      "test y shape : (17520, 1)\n",
      "Inv y shape : (17520, 37)\n",
      "y pred shape : (17520, 1)\n",
      "inv y pred : (17520, 37)\n",
      "Run 10 Mean Absolute Error: 0.23373708177474886\n",
      "[['node_6_pressure', 'link_27_flow', 'link_24_flow', 'node_25_pressure', 'node_21_pressure', 'node_24_pressure', 'link_15_flow', 'node_1_demand', 'node_19_demand', 'node_11_pressure', 'node_14_pressure', 'node_8_pressure', 'node_22_demand', 'node_14_demand', 'link_30_flow', 'link_19_flow', 'node_11_demand', 'link_6_flow', 'node_21_demand', 'node_4_pressure', 'node_26_pressure', 'link_26_flow', 'link_28_flow', 'node_29_demand', 'node_8_demand', 'node_3_pressure', 'node_20_pressure', 'node_23_pressure', 'node_4_demand', 'node_19_pressure', 'node_27_pressure', 'link_20_flow', 'node_7_demand', 'node_28_pressure', 'node_25_demand', 'link_25_flow', 'node_23_demand', 'node_13_pressure', 'link_21_flow', 'node_2_pressure', 'node_26_demand', 'node_18_pressure', 'node_27_demand', 'link_22_flow', 'node_9_pressure', 'link_12_flow', 'node_12_pressure', 'node_5_pressure', 'node_30_demand', 'node_15_pressure', 'link_16_flow', 'node_22_pressure', 'link_4_flow', 'node_13_demand', 'link_10_flow', 'node_30_pressure', 'link_8_flow', 'node_16_demand', 'link_13_flow', 'link_7_flow', 'node_17_pressure', 'node_16_pressure', 'node_1_pressure', 'link_9_flow', 'reservoir_pressure']]\n",
      "starting df shape: (87600, 31)\n",
      "This is training run 1 and has the shape:  (87600, 31)\n",
      "The value of dropped columns is 65\n"
     ]
    },
    {
     "name": "stderr",
     "output_type": "stream",
     "text": [
      "/Users/alexellard/opt/anaconda3/lib/python3.7/site-packages/xgboost/data.py:96: UserWarning: Use subset (sliced data) of np.ndarray is not recommended because it will generate extra copies and increase memory consumption\n",
      "  \"because it will generate extra copies and increase \" +\n"
     ]
    },
    {
     "name": "stdout",
     "output_type": "stream",
     "text": [
      "test y shape : (17520, 1)\n",
      "Inv y shape : (17520, 31)\n",
      "y pred shape : (17520, 1)\n",
      "inv y pred : (17520, 31)\n",
      "Run 1 Mean Absolute Error: 1.9980747841441515\n",
      "[['node_22_pressure', 'node_23_demand', 'node_26_demand', 'link_15_flow', 'node_26_pressure', 'node_15_demand', 'node_12_pressure', 'node_29_demand', 'node_29_pressure', 'link_8_flow', 'node_18_pressure', 'node_24_demand', 'node_27_pressure', 'node_14_demand', 'link_13_flow', 'link_20_flow', 'link_30_flow', 'node_8_demand', 'node_19_pressure', 'link_29_flow', 'node_3_demand', 'node_12_demand', 'link_25_flow', 'link_10_flow', 'node_7_demand', 'node_5_demand', 'node_2_pressure', 'node_4_pressure', 'node_20_demand', 'node_17_demand', 'link_28_flow', 'node_6_pressure', 'node_27_demand', 'link_24_flow', 'node_11_pressure', 'node_17_pressure', 'node_25_demand', 'node_13_demand', 'node_8_pressure', 'node_2_demand', 'node_3_pressure', 'link_9_flow', 'link_6_flow', 'node_30_demand', 'node_30_pressure', 'node_9_demand', 'node_9_pressure', 'link_4_flow', 'node_18_demand', 'node_15_pressure', 'node_25_pressure', 'link_14_flow', 'node_31_pressure', 'node_11_demand', 'link_2_flow', 'link_21_flow', 'node_5_pressure', 'link_3_flow', 'node_31_demand', 'link_11_flow', 'node_28_pressure', 'node_28_demand', 'reservoir_demand', 'link_12_flow']]\n",
      "starting df shape: (87600, 32)\n",
      "This is training run 2 and has the shape:  (87600, 32)\n",
      "The value of dropped columns is 65\n"
     ]
    },
    {
     "name": "stderr",
     "output_type": "stream",
     "text": [
      "/Users/alexellard/opt/anaconda3/lib/python3.7/site-packages/xgboost/data.py:96: UserWarning: Use subset (sliced data) of np.ndarray is not recommended because it will generate extra copies and increase memory consumption\n",
      "  \"because it will generate extra copies and increase \" +\n"
     ]
    },
    {
     "name": "stdout",
     "output_type": "stream",
     "text": [
      "test y shape : (17520, 1)\n",
      "Inv y shape : (17520, 32)\n",
      "y pred shape : (17520, 1)\n",
      "inv y pred : (17520, 32)\n",
      "Run 2 Mean Absolute Error: 1.0938830497763752\n",
      "[['node_6_demand', 'node_14_demand', 'node_8_demand', 'node_27_pressure', 'node_3_pressure', 'node_12_demand', 'node_19_pressure', 'node_29_pressure', 'node_2_pressure', 'node_5_pressure', 'link_11_flow', 'node_27_demand', 'node_18_demand', 'node_15_pressure', 'link_9_flow', 'node_9_pressure', 'node_13_demand', 'link_28_flow', 'node_25_pressure', 'link_26_flow', 'node_23_demand', 'node_21_demand', 'link_31_flow', 'node_2_demand', 'node_17_demand', 'node_20_pressure', 'node_11_demand', 'link_30_flow', 'node_28_demand', 'node_19_demand', 'node_16_demand', 'link_5_flow', 'node_25_demand', 'node_29_demand', 'link_8_flow', 'link_7_flow', 'node_30_demand', 'node_26_pressure', 'node_28_pressure', 'node_14_pressure', 'node_9_demand', 'link_29_flow', 'node_31_demand', 'node_24_demand', 'node_17_pressure', 'node_22_pressure', 'node_5_demand', 'node_3_demand', 'link_15_flow', 'link_18_flow', 'node_10_demand', 'link_4_flow', 'node_15_demand', 'node_30_pressure', 'link_13_flow', 'link_16_flow', 'link_24_flow', 'node_13_pressure', 'node_22_demand', 'node_11_pressure', 'reservoir_pressure', 'node_8_pressure', 'link_32_flow', 'link_12_flow', 'node_1_pressure']]\n",
      "starting df shape: (87600, 31)\n",
      "This is training run 3 and has the shape:  (87600, 31)\n",
      "The value of dropped columns is 65\n"
     ]
    },
    {
     "name": "stderr",
     "output_type": "stream",
     "text": [
      "/Users/alexellard/opt/anaconda3/lib/python3.7/site-packages/xgboost/data.py:96: UserWarning: Use subset (sliced data) of np.ndarray is not recommended because it will generate extra copies and increase memory consumption\n",
      "  \"because it will generate extra copies and increase \" +\n"
     ]
    },
    {
     "name": "stdout",
     "output_type": "stream",
     "text": [
      "test y shape : (17520, 1)\n",
      "Inv y shape : (17520, 31)\n",
      "y pred shape : (17520, 1)\n",
      "inv y pred : (17520, 31)\n",
      "Run 3 Mean Absolute Error: 2.127267426325849\n",
      "[['node_10_demand', 'link_13_flow', 'link_28_flow', 'link_10_flow', 'node_26_pressure', 'reservoir_demand', 'node_8_demand', 'link_16_flow', 'link_26_flow', 'node_6_demand', 'node_16_pressure', 'node_5_pressure', 'node_19_pressure', 'link_9_flow', 'link_19_flow', 'node_28_demand', 'link_6_flow', 'node_29_demand', 'node_18_demand', 'link_25_flow', 'node_2_demand', 'node_4_demand', 'link_5_flow', 'link_20_flow', 'node_3_pressure', 'node_30_demand', 'node_20_demand', 'link_3_flow', 'node_8_pressure', 'link_21_flow', 'node_17_demand', 'link_2_flow', 'node_21_demand', 'node_23_pressure', 'link_29_flow', 'node_16_demand', 'node_19_demand', 'node_15_demand', 'link_11_flow', 'link_30_flow', 'node_4_pressure', 'node_5_demand', 'node_27_demand', 'node_7_pressure', 'link_15_flow', 'node_25_demand', 'node_24_pressure', 'node_11_pressure', 'node_12_demand', 'node_2_pressure', 'node_14_pressure', 'node_15_pressure', 'link_27_flow', 'node_9_pressure', 'link_31_flow', 'node_6_pressure', 'link_12_flow', 'link_17_flow', 'reservoir_pressure', 'node_7_demand', 'node_17_pressure', 'link_32_flow', 'node_24_demand', 'node_12_pressure']]\n",
      "starting df shape: (87600, 32)\n",
      "This is training run 4 and has the shape:  (87600, 32)\n",
      "The value of dropped columns is 65\n"
     ]
    },
    {
     "name": "stderr",
     "output_type": "stream",
     "text": [
      "/Users/alexellard/opt/anaconda3/lib/python3.7/site-packages/xgboost/data.py:96: UserWarning: Use subset (sliced data) of np.ndarray is not recommended because it will generate extra copies and increase memory consumption\n",
      "  \"because it will generate extra copies and increase \" +\n"
     ]
    },
    {
     "name": "stdout",
     "output_type": "stream",
     "text": [
      "test y shape : (17520, 1)\n",
      "Inv y shape : (17520, 32)\n",
      "y pred shape : (17520, 1)\n",
      "inv y pred : (17520, 32)\n",
      "Run 4 Mean Absolute Error: 1.4276787426629278\n",
      "[['link_12_flow', 'link_9_flow', 'node_4_demand', 'reservoir_demand', 'link_7_flow', 'link_22_flow', 'link_24_flow', 'link_25_flow', 'node_26_demand', 'link_29_flow', 'node_8_pressure', 'node_23_demand', 'node_13_demand', 'node_30_pressure', 'node_12_demand', 'node_21_pressure', 'node_31_pressure', 'link_14_flow', 'link_16_flow', 'node_20_pressure', 'link_26_flow', 'node_26_pressure', 'node_27_demand', 'node_25_demand', 'node_28_pressure', 'node_22_pressure', 'link_4_flow', 'node_24_demand', 'node_7_pressure', 'node_31_demand', 'node_8_demand', 'link_18_flow', 'node_14_demand', 'node_7_demand', 'link_17_flow', 'link_30_flow', 'link_6_flow', 'link_19_flow', 'reservoir_pressure', 'link_10_flow', 'node_4_pressure', 'node_18_demand', 'node_29_demand', 'node_15_demand', 'node_6_pressure', 'node_9_pressure', 'link_21_flow', 'node_6_demand', 'node_19_demand', 'node_18_pressure', 'node_14_pressure', 'link_31_flow', 'link_2_flow', 'node_2_pressure', 'node_23_pressure', 'node_21_demand', 'link_11_flow', 'node_5_pressure', 'node_22_demand', 'node_24_pressure', 'node_20_demand', 'link_23_flow', 'node_19_pressure', 'node_12_pressure']]\n",
      "starting df shape: (87600, 32)\n",
      "This is training run 5 and has the shape:  (87600, 32)\n",
      "The value of dropped columns is 65\n"
     ]
    },
    {
     "name": "stderr",
     "output_type": "stream",
     "text": [
      "/Users/alexellard/opt/anaconda3/lib/python3.7/site-packages/xgboost/data.py:96: UserWarning: Use subset (sliced data) of np.ndarray is not recommended because it will generate extra copies and increase memory consumption\n",
      "  \"because it will generate extra copies and increase \" +\n"
     ]
    },
    {
     "name": "stdout",
     "output_type": "stream",
     "text": [
      "test y shape : (17520, 1)\n",
      "Inv y shape : (17520, 32)\n",
      "y pred shape : (17520, 1)\n",
      "inv y pred : (17520, 32)\n",
      "Run 5 Mean Absolute Error: 1.3788867630983308\n",
      "[['node_11_demand', 'link_21_flow', 'link_4_flow', 'node_29_demand', 'link_13_flow', 'node_5_demand', 'node_11_pressure', 'node_27_pressure', 'link_9_flow', 'node_20_demand', 'node_26_pressure', 'node_9_demand', 'node_19_pressure', 'node_22_demand', 'node_18_pressure', 'link_32_flow', 'link_23_flow', 'node_23_demand', 'node_8_demand', 'link_19_flow', 'node_18_demand', 'node_30_demand', 'node_25_demand', 'link_2_flow', 'link_15_flow', 'link_14_flow', 'link_12_flow', 'node_1_pressure', 'reservoir_pressure', 'node_19_demand', 'node_14_pressure', 'link_17_flow', 'node_23_pressure', 'node_3_pressure', 'link_8_flow', 'node_10_pressure', 'node_5_pressure', 'node_21_pressure', 'node_3_demand', 'node_31_pressure', 'node_25_pressure', 'node_16_demand', 'node_20_pressure', 'link_18_flow', 'link_5_flow', 'node_6_pressure', 'node_12_pressure', 'node_13_pressure', 'link_29_flow', 'node_17_demand', 'link_22_flow', 'link_30_flow', 'node_17_pressure', 'node_7_pressure', 'node_13_demand', 'node_15_pressure', 'link_16_flow', 'link_28_flow', 'link_20_flow', 'link_11_flow', 'link_7_flow', 'node_7_demand', 'node_2_demand', 'link_6_flow']]\n",
      "starting df shape: (87600, 32)\n",
      "This is training run 6 and has the shape:  (87600, 32)\n",
      "The value of dropped columns is 65\n"
     ]
    },
    {
     "name": "stderr",
     "output_type": "stream",
     "text": [
      "/Users/alexellard/opt/anaconda3/lib/python3.7/site-packages/xgboost/data.py:96: UserWarning: Use subset (sliced data) of np.ndarray is not recommended because it will generate extra copies and increase memory consumption\n",
      "  \"because it will generate extra copies and increase \" +\n"
     ]
    },
    {
     "name": "stdout",
     "output_type": "stream",
     "text": [
      "test y shape : (17520, 1)\n",
      "Inv y shape : (17520, 32)\n",
      "y pred shape : (17520, 1)\n",
      "inv y pred : (17520, 32)\n",
      "Run 6 Mean Absolute Error: 7.261781473931386\n",
      "[['link_32_flow', 'link_15_flow', 'node_23_demand', 'node_27_pressure', 'node_8_demand', 'link_17_flow', 'link_12_flow', 'link_20_flow', 'node_17_demand', 'node_16_demand', 'link_16_flow', 'node_8_pressure', 'node_16_pressure', 'node_29_pressure', 'node_15_pressure', 'node_26_pressure', 'node_10_pressure', 'link_4_flow', 'node_2_pressure', 'node_22_demand', 'node_4_demand', 'node_11_pressure', 'node_12_demand', 'node_14_pressure', 'node_11_demand', 'node_1_pressure', 'node_10_demand', 'link_30_flow', 'node_24_demand', 'link_26_flow', 'node_28_demand', 'reservoir_pressure', 'link_8_flow', 'node_19_demand', 'link_27_flow', 'node_20_demand', 'node_30_demand', 'link_10_flow', 'node_22_pressure', 'node_29_demand', 'link_21_flow', 'node_25_demand', 'link_28_flow', 'node_20_pressure', 'node_13_pressure', 'node_12_pressure', 'node_24_pressure', 'node_9_demand', 'link_13_flow', 'node_15_demand', 'node_14_demand', 'link_29_flow', 'link_24_flow', 'link_31_flow', 'link_3_flow', 'reservoir_demand', 'node_3_demand', 'node_7_pressure', 'link_18_flow', 'node_21_pressure', 'link_14_flow', 'node_25_pressure', 'node_17_pressure', 'link_25_flow']]\n",
      "starting df shape: (87600, 32)\n",
      "This is training run 7 and has the shape:  (87600, 32)\n",
      "The value of dropped columns is 65\n"
     ]
    },
    {
     "name": "stderr",
     "output_type": "stream",
     "text": [
      "/Users/alexellard/opt/anaconda3/lib/python3.7/site-packages/xgboost/data.py:96: UserWarning: Use subset (sliced data) of np.ndarray is not recommended because it will generate extra copies and increase memory consumption\n",
      "  \"because it will generate extra copies and increase \" +\n"
     ]
    },
    {
     "name": "stdout",
     "output_type": "stream",
     "text": [
      "test y shape : (17520, 1)\n",
      "Inv y shape : (17520, 32)\n",
      "y pred shape : (17520, 1)\n",
      "inv y pred : (17520, 32)\n",
      "Run 7 Mean Absolute Error: 0.5852787708538495\n",
      "[['node_25_demand', 'node_9_pressure', 'node_23_demand', 'link_19_flow', 'node_11_demand', 'node_28_pressure', 'node_5_demand', 'link_30_flow', 'node_12_pressure', 'node_21_demand', 'link_12_flow', 'node_1_pressure', 'link_31_flow', 'link_20_flow', 'node_9_demand', 'link_9_flow', 'node_4_pressure', 'node_7_pressure', 'link_22_flow', 'node_10_pressure', 'node_23_pressure', 'node_22_demand', 'link_17_flow', 'link_26_flow', 'link_6_flow', 'node_31_pressure', 'node_20_pressure', 'link_2_flow', 'node_3_pressure', 'node_24_pressure', 'node_5_pressure', 'link_4_flow', 'link_7_flow', 'node_3_demand', 'node_17_demand', 'node_10_demand', 'link_27_flow', 'link_23_flow', 'node_27_demand', 'node_22_pressure', 'node_30_demand', 'link_11_flow', 'node_18_demand', 'node_31_demand', 'node_26_pressure', 'link_3_flow', 'node_17_pressure', 'link_10_flow', 'link_14_flow', 'link_18_flow', 'node_13_pressure', 'link_29_flow', 'node_20_demand', 'node_30_pressure', 'node_6_pressure', 'node_13_demand', 'link_8_flow', 'link_25_flow', 'node_7_demand', 'reservoir_pressure', 'node_24_demand', 'node_14_demand', 'node_12_demand', 'node_29_pressure']]\n",
      "starting df shape: (87600, 32)\n",
      "This is training run 8 and has the shape:  (87600, 32)\n",
      "The value of dropped columns is 65\n"
     ]
    },
    {
     "name": "stderr",
     "output_type": "stream",
     "text": [
      "/Users/alexellard/opt/anaconda3/lib/python3.7/site-packages/xgboost/data.py:96: UserWarning: Use subset (sliced data) of np.ndarray is not recommended because it will generate extra copies and increase memory consumption\n",
      "  \"because it will generate extra copies and increase \" +\n"
     ]
    },
    {
     "name": "stdout",
     "output_type": "stream",
     "text": [
      "test y shape : (17520, 1)\n",
      "Inv y shape : (17520, 32)\n",
      "y pred shape : (17520, 1)\n",
      "inv y pred : (17520, 32)\n",
      "Run 8 Mean Absolute Error: 6.389072947289848\n",
      "[['node_6_demand', 'node_20_demand', 'link_8_flow', 'link_21_flow', 'node_27_pressure', 'node_2_demand', 'link_31_flow', 'node_12_pressure', 'node_22_pressure', 'node_16_demand', 'node_8_pressure', 'node_14_pressure', 'link_32_flow', 'node_26_pressure', 'node_21_demand', 'link_18_flow', 'node_17_pressure', 'node_23_pressure', 'node_15_demand', 'link_23_flow', 'link_29_flow', 'node_12_demand', 'link_19_flow', 'node_10_pressure', 'node_10_demand', 'node_15_pressure', 'node_17_demand', 'node_22_demand', 'link_9_flow', 'node_5_demand', 'link_15_flow', 'node_4_pressure', 'node_8_demand', 'link_27_flow', 'node_21_pressure', 'node_13_pressure', 'node_7_pressure', 'link_17_flow', 'node_19_demand', 'node_13_demand', 'node_11_pressure', 'node_9_pressure', 'node_18_demand', 'link_6_flow', 'link_2_flow', 'link_26_flow', 'node_28_pressure', 'link_12_flow', 'node_2_pressure', 'node_24_pressure', 'link_25_flow', 'node_24_demand', 'node_25_pressure', 'node_20_pressure', 'node_26_demand', 'node_31_demand', 'node_29_demand', 'node_16_pressure', 'node_7_demand', 'link_5_flow', 'link_30_flow', 'node_25_demand', 'node_19_pressure', 'node_30_demand', 'link_20_flow']]\n",
      "starting df shape: (87600, 31)\n",
      "This is training run 9 and has the shape:  (87600, 31)\n",
      "The value of dropped columns is 65\n"
     ]
    },
    {
     "name": "stderr",
     "output_type": "stream",
     "text": [
      "/Users/alexellard/opt/anaconda3/lib/python3.7/site-packages/xgboost/data.py:96: UserWarning: Use subset (sliced data) of np.ndarray is not recommended because it will generate extra copies and increase memory consumption\n",
      "  \"because it will generate extra copies and increase \" +\n"
     ]
    },
    {
     "name": "stdout",
     "output_type": "stream",
     "text": [
      "test y shape : (17520, 1)\n",
      "Inv y shape : (17520, 31)\n",
      "y pred shape : (17520, 1)\n",
      "inv y pred : (17520, 31)\n",
      "Run 9 Mean Absolute Error: 2.6437926238897735\n",
      "[['link_25_flow', 'link_10_flow', 'link_15_flow', 'node_8_demand', 'node_24_pressure', 'link_22_flow', 'node_8_pressure', 'node_23_demand', 'node_22_pressure', 'node_26_demand', 'link_31_flow', 'node_6_pressure', 'node_18_pressure', 'node_17_pressure', 'node_3_demand', 'link_14_flow', 'link_18_flow', 'node_5_demand', 'link_8_flow', 'node_1_demand', 'node_10_demand', 'node_11_pressure', 'node_27_demand', 'node_7_demand', 'link_27_flow', 'link_20_flow', 'node_1_pressure', 'node_2_pressure', 'link_6_flow', 'node_29_pressure', 'node_14_demand', 'node_10_pressure', 'node_23_pressure', 'node_13_pressure', 'node_30_demand', 'link_19_flow', 'node_21_pressure', 'node_9_pressure', 'link_3_flow', 'node_17_demand', 'link_30_flow', 'link_9_flow', 'node_13_demand', 'link_24_flow', 'link_16_flow', 'link_32_flow', 'link_21_flow', 'node_28_pressure', 'node_25_demand', 'node_15_pressure', 'link_23_flow', 'node_29_demand', 'node_21_demand', 'link_28_flow', 'node_9_demand', 'node_16_pressure', 'link_12_flow', 'link_29_flow', 'node_2_demand', 'node_5_pressure', 'node_31_demand', 'node_20_demand', 'node_24_demand', 'reservoir_pressure']]\n",
      "starting df shape: (87600, 32)\n",
      "This is training run 10 and has the shape:  (87600, 32)\n",
      "The value of dropped columns is 65\n"
     ]
    },
    {
     "name": "stderr",
     "output_type": "stream",
     "text": [
      "/Users/alexellard/opt/anaconda3/lib/python3.7/site-packages/xgboost/data.py:96: UserWarning: Use subset (sliced data) of np.ndarray is not recommended because it will generate extra copies and increase memory consumption\n",
      "  \"because it will generate extra copies and increase \" +\n"
     ]
    },
    {
     "name": "stdout",
     "output_type": "stream",
     "text": [
      "test y shape : (17520, 1)\n",
      "Inv y shape : (17520, 32)\n",
      "y pred shape : (17520, 1)\n",
      "inv y pred : (17520, 32)\n",
      "Run 10 Mean Absolute Error: 3.3188344484200165\n",
      "[['link_20_flow', 'reservoir_pressure', 'node_19_demand', 'node_18_demand', 'link_17_flow', 'node_2_pressure', 'link_28_flow', 'link_32_flow', 'node_9_pressure', 'node_28_demand', 'link_5_flow', 'node_5_demand', 'node_31_demand', 'link_31_flow', 'link_2_flow', 'node_21_pressure', 'node_7_pressure', 'node_16_pressure', 'node_24_pressure', 'link_9_flow', 'link_30_flow', 'link_3_flow', 'link_29_flow', 'link_6_flow', 'node_13_pressure', 'node_16_demand', 'node_11_demand', 'node_27_demand', 'node_14_pressure', 'node_9_demand', 'node_23_pressure', 'node_29_demand', 'node_26_demand', 'node_25_pressure', 'node_27_pressure', 'link_18_flow', 'link_10_flow', 'link_4_flow', 'link_24_flow', 'node_3_demand', 'link_27_flow', 'node_6_demand', 'node_14_demand', 'node_8_pressure', 'link_19_flow', 'link_22_flow', 'link_15_flow', 'node_15_demand', 'node_20_pressure', 'reservoir_demand', 'node_30_demand', 'link_14_flow', 'link_8_flow', 'node_30_pressure', 'node_10_demand', 'node_19_pressure', 'link_25_flow', 'node_22_pressure', 'link_13_flow', 'node_1_pressure', 'node_2_demand', 'node_22_demand', 'node_10_pressure', 'node_3_pressure', 'node_13_demand', 'node_4_demand', 'node_17_pressure', 'node_6_pressure', 'node_11_pressure']]\n",
      "starting df shape: (87600, 27)\n",
      "This is training run 1 and has the shape:  (87600, 27)\n",
      "The value of dropped columns is 70\n"
     ]
    },
    {
     "name": "stderr",
     "output_type": "stream",
     "text": [
      "/Users/alexellard/opt/anaconda3/lib/python3.7/site-packages/xgboost/data.py:96: UserWarning: Use subset (sliced data) of np.ndarray is not recommended because it will generate extra copies and increase memory consumption\n",
      "  \"because it will generate extra copies and increase \" +\n"
     ]
    },
    {
     "name": "stdout",
     "output_type": "stream",
     "text": [
      "test y shape : (17520, 1)\n",
      "Inv y shape : (17520, 27)\n",
      "y pred shape : (17520, 1)\n",
      "inv y pred : (17520, 27)\n",
      "Run 1 Mean Absolute Error: 1.5797738325527904\n",
      "[['node_5_pressure', 'node_24_pressure', 'node_9_pressure', 'link_18_flow', 'link_4_flow', 'node_21_pressure', 'node_14_pressure', 'link_9_flow', 'node_3_demand', 'node_20_pressure', 'link_7_flow', 'node_28_pressure', 'node_23_pressure', 'link_2_flow', 'node_7_demand', 'node_15_pressure', 'node_12_pressure', 'node_27_demand', 'link_11_flow', 'node_27_pressure', 'node_29_demand', 'node_20_demand', 'link_20_flow', 'link_10_flow', 'node_13_demand', 'link_27_flow', 'link_30_flow', 'node_2_pressure', 'link_29_flow', 'node_21_demand', 'node_1_pressure', 'link_19_flow', 'link_24_flow', 'node_23_demand', 'link_6_flow', 'node_5_demand', 'node_22_pressure', 'node_31_pressure', 'node_11_pressure', 'link_32_flow', 'link_21_flow', 'node_4_pressure', 'link_17_flow', 'node_30_pressure', 'node_28_demand', 'node_26_pressure', 'node_2_demand', 'node_13_pressure', 'reservoir_pressure', 'node_14_demand', 'node_18_pressure', 'node_19_pressure', 'node_16_pressure', 'link_26_flow', 'link_28_flow', 'node_6_pressure', 'node_25_demand', 'link_25_flow', 'node_1_demand', 'node_19_demand', 'node_24_demand', 'link_22_flow', 'node_11_demand', 'node_15_demand', 'node_9_demand', 'link_13_flow', 'node_3_pressure', 'node_17_demand', 'link_12_flow']]\n",
      "starting df shape: (87600, 27)\n",
      "This is training run 2 and has the shape:  (87600, 27)\n",
      "The value of dropped columns is 70\n"
     ]
    },
    {
     "name": "stderr",
     "output_type": "stream",
     "text": [
      "/Users/alexellard/opt/anaconda3/lib/python3.7/site-packages/xgboost/data.py:96: UserWarning: Use subset (sliced data) of np.ndarray is not recommended because it will generate extra copies and increase memory consumption\n",
      "  \"because it will generate extra copies and increase \" +\n"
     ]
    },
    {
     "name": "stdout",
     "output_type": "stream",
     "text": [
      "test y shape : (17520, 1)\n",
      "Inv y shape : (17520, 27)\n",
      "y pred shape : (17520, 1)\n",
      "inv y pred : (17520, 27)\n",
      "Run 2 Mean Absolute Error: 8.162874625116995\n",
      "[['link_18_flow', 'link_25_flow', 'link_10_flow', 'link_9_flow', 'node_8_demand', 'node_22_demand', 'node_3_pressure', 'link_8_flow', 'link_4_flow', 'node_29_pressure', 'link_12_flow', 'node_6_demand', 'node_14_demand', 'node_13_demand', 'node_11_pressure', 'node_1_demand', 'node_27_pressure', 'node_29_demand', 'link_28_flow', 'node_21_pressure', 'node_18_demand', 'link_5_flow', 'node_18_pressure', 'node_26_demand', 'link_3_flow', 'link_16_flow', 'link_11_flow', 'node_21_demand', 'node_14_pressure', 'node_8_pressure', 'link_15_flow', 'node_17_pressure', 'link_27_flow', 'node_16_demand', 'link_14_flow', 'node_23_demand', 'node_25_pressure', 'link_20_flow', 'link_7_flow', 'node_28_pressure', 'node_15_pressure', 'node_16_pressure', 'link_21_flow', 'node_1_pressure', 'node_27_demand', 'node_31_pressure', 'link_32_flow', 'node_13_pressure', 'link_23_flow', 'node_3_demand', 'link_17_flow', 'node_26_pressure', 'link_13_flow', 'node_24_pressure', 'node_12_pressure', 'node_31_demand', 'link_29_flow', 'node_7_pressure', 'reservoir_demand', 'link_19_flow', 'node_7_demand', 'node_12_demand', 'node_9_pressure', 'link_30_flow', 'node_30_pressure', 'node_10_pressure', 'node_2_demand', 'node_5_demand', 'node_19_pressure', 'node_4_pressure']]\n",
      "starting df shape: (87600, 26)\n",
      "This is training run 3 and has the shape:  (87600, 26)\n",
      "The value of dropped columns is 70\n"
     ]
    },
    {
     "name": "stderr",
     "output_type": "stream",
     "text": [
      "/Users/alexellard/opt/anaconda3/lib/python3.7/site-packages/xgboost/data.py:96: UserWarning: Use subset (sliced data) of np.ndarray is not recommended because it will generate extra copies and increase memory consumption\n",
      "  \"because it will generate extra copies and increase \" +\n"
     ]
    },
    {
     "name": "stdout",
     "output_type": "stream",
     "text": [
      "test y shape : (17520, 1)\n",
      "Inv y shape : (17520, 26)\n",
      "y pred shape : (17520, 1)\n",
      "inv y pred : (17520, 26)\n",
      "Run 3 Mean Absolute Error: 0.6231685367876704\n",
      "[['node_8_demand', 'node_31_pressure', 'node_5_pressure', 'node_6_demand', 'link_9_flow', 'node_5_demand', 'node_18_pressure', 'node_3_demand', 'node_23_demand', 'node_4_pressure', 'link_27_flow', 'node_16_demand', 'node_2_pressure', 'node_14_demand', 'link_28_flow', 'link_6_flow', 'node_17_demand', 'node_12_pressure', 'node_30_demand', 'node_16_pressure', 'link_32_flow', 'node_10_pressure', 'node_7_demand', 'node_26_demand', 'reservoir_demand', 'link_3_flow', 'link_19_flow', 'node_21_demand', 'node_11_pressure', 'node_2_demand', 'link_18_flow', 'reservoir_pressure', 'link_11_flow', 'node_29_pressure', 'node_9_demand', 'link_25_flow', 'node_24_pressure', 'node_18_demand', 'node_24_demand', 'node_28_pressure', 'node_29_demand', 'node_8_pressure', 'link_7_flow', 'link_2_flow', 'link_30_flow', 'link_14_flow', 'node_13_demand', 'node_27_pressure', 'link_31_flow', 'node_20_demand', 'link_10_flow', 'node_21_pressure', 'node_27_demand', 'link_21_flow', 'node_25_demand', 'link_22_flow', 'link_13_flow', 'link_4_flow', 'link_23_flow', 'node_15_demand', 'link_24_flow', 'link_20_flow', 'node_1_pressure', 'node_6_pressure', 'node_19_pressure', 'node_30_pressure', 'link_26_flow', 'link_29_flow', 'node_4_demand', 'node_22_pressure']]\n",
      "starting df shape: (87600, 26)\n",
      "This is training run 4 and has the shape:  (87600, 26)\n",
      "The value of dropped columns is 70\n"
     ]
    },
    {
     "name": "stderr",
     "output_type": "stream",
     "text": [
      "/Users/alexellard/opt/anaconda3/lib/python3.7/site-packages/xgboost/data.py:96: UserWarning: Use subset (sliced data) of np.ndarray is not recommended because it will generate extra copies and increase memory consumption\n",
      "  \"because it will generate extra copies and increase \" +\n"
     ]
    },
    {
     "name": "stdout",
     "output_type": "stream",
     "text": [
      "test y shape : (17520, 1)\n",
      "Inv y shape : (17520, 26)\n",
      "y pred shape : (17520, 1)\n",
      "inv y pred : (17520, 26)\n",
      "Run 4 Mean Absolute Error: 1.68640377813758\n",
      "[['node_15_pressure', 'node_4_pressure', 'node_8_demand', 'link_23_flow', 'link_11_flow', 'node_31_demand', 'reservoir_pressure', 'link_9_flow', 'node_23_pressure', 'node_23_demand', 'node_10_pressure', 'node_27_demand', 'link_24_flow', 'node_5_pressure', 'link_10_flow', 'node_19_pressure', 'node_3_pressure', 'node_19_demand', 'node_14_pressure', 'node_21_demand', 'node_14_demand', 'node_16_demand', 'node_30_demand', 'link_12_flow', 'node_26_demand', 'node_11_demand', 'node_6_demand', 'link_25_flow', 'node_1_demand', 'node_13_pressure', 'reservoir_demand', 'node_31_pressure', 'node_22_demand', 'link_27_flow', 'node_26_pressure', 'node_10_demand', 'link_16_flow', 'node_7_demand', 'node_12_demand', 'node_25_pressure', 'link_15_flow', 'link_5_flow', 'node_9_pressure', 'node_1_pressure', 'node_28_demand', 'link_30_flow', 'node_15_demand', 'link_26_flow', 'link_31_flow', 'node_13_demand', 'link_32_flow', 'link_13_flow', 'node_7_pressure', 'link_22_flow', 'link_2_flow', 'node_17_pressure', 'link_7_flow', 'node_4_demand', 'node_27_pressure', 'node_11_pressure', 'node_30_pressure', 'node_29_demand', 'node_24_pressure', 'node_3_demand', 'link_19_flow', 'node_6_pressure', 'link_3_flow', 'node_8_pressure', 'link_21_flow']]\n",
      "starting df shape: (87600, 27)\n",
      "This is training run 5 and has the shape:  (87600, 27)\n",
      "The value of dropped columns is 70\n"
     ]
    },
    {
     "name": "stderr",
     "output_type": "stream",
     "text": [
      "/Users/alexellard/opt/anaconda3/lib/python3.7/site-packages/xgboost/data.py:96: UserWarning: Use subset (sliced data) of np.ndarray is not recommended because it will generate extra copies and increase memory consumption\n",
      "  \"because it will generate extra copies and increase \" +\n"
     ]
    },
    {
     "name": "stdout",
     "output_type": "stream",
     "text": [
      "test y shape : (17520, 1)\n",
      "Inv y shape : (17520, 27)\n",
      "y pred shape : (17520, 1)\n",
      "inv y pred : (17520, 27)\n",
      "Run 5 Mean Absolute Error: 1.5828912346322088\n",
      "[['node_11_pressure', 'node_13_demand', 'node_14_pressure', 'link_4_flow', 'node_11_demand', 'link_30_flow', 'node_21_demand', 'node_4_demand', 'node_28_demand', 'link_9_flow', 'node_18_demand', 'link_2_flow', 'node_3_demand', 'node_10_demand', 'node_31_demand', 'link_3_flow', 'link_28_flow', 'node_15_pressure', 'link_19_flow', 'node_30_demand', 'link_6_flow', 'node_24_pressure', 'node_22_demand', 'node_12_demand', 'node_17_pressure', 'node_17_demand', 'link_12_flow', 'node_12_pressure', 'link_8_flow', 'node_24_demand', 'link_27_flow', 'link_7_flow', 'link_18_flow', 'node_26_demand', 'node_18_pressure', 'link_31_flow', 'reservoir_demand', 'node_1_demand', 'link_5_flow', 'link_32_flow', 'node_29_demand', 'node_27_pressure', 'node_1_pressure', 'node_8_pressure', 'link_23_flow', 'link_22_flow', 'node_21_pressure', 'node_29_pressure', 'node_27_demand', 'node_16_pressure', 'node_6_demand', 'node_2_demand', 'link_20_flow', 'node_20_pressure', 'node_20_demand', 'node_14_demand', 'link_29_flow', 'link_25_flow', 'link_17_flow', 'link_11_flow', 'node_6_pressure', 'node_23_demand', 'node_19_demand', 'link_10_flow', 'node_23_pressure', 'node_7_pressure', 'node_19_pressure', 'node_3_pressure', 'node_15_demand', 'link_24_flow']]\n",
      "starting df shape: (87600, 26)\n",
      "This is training run 6 and has the shape:  (87600, 26)\n",
      "The value of dropped columns is 70\n"
     ]
    },
    {
     "name": "stderr",
     "output_type": "stream",
     "text": [
      "/Users/alexellard/opt/anaconda3/lib/python3.7/site-packages/xgboost/data.py:96: UserWarning: Use subset (sliced data) of np.ndarray is not recommended because it will generate extra copies and increase memory consumption\n",
      "  \"because it will generate extra copies and increase \" +\n"
     ]
    },
    {
     "name": "stdout",
     "output_type": "stream",
     "text": [
      "test y shape : (17520, 1)\n",
      "Inv y shape : (17520, 26)\n",
      "y pred shape : (17520, 1)\n",
      "inv y pred : (17520, 26)\n",
      "Run 6 Mean Absolute Error: 1.8120876168883076\n",
      "[['link_5_flow', 'node_14_demand', 'node_4_demand', 'node_18_demand', 'node_1_pressure', 'node_16_pressure', 'node_15_pressure', 'node_20_demand', 'node_14_pressure', 'link_7_flow', 'link_31_flow', 'node_29_pressure', 'node_19_demand', 'node_21_demand', 'node_31_pressure', 'link_9_flow', 'node_4_pressure', 'node_5_pressure', 'link_16_flow', 'node_7_pressure', 'link_29_flow', 'node_12_pressure', 'link_10_flow', 'node_30_pressure', 'node_27_demand', 'node_13_pressure', 'node_1_demand', 'node_2_demand', 'link_2_flow', 'link_21_flow', 'node_8_demand', 'link_12_flow', 'node_5_demand', 'node_17_demand', 'link_8_flow', 'node_16_demand', 'node_25_pressure', 'node_2_pressure', 'node_21_pressure', 'reservoir_demand', 'node_28_demand', 'link_11_flow', 'link_6_flow', 'link_15_flow', 'node_22_demand', 'link_14_flow', 'link_25_flow', 'link_4_flow', 'link_19_flow', 'node_26_pressure', 'node_25_demand', 'node_24_pressure', 'link_32_flow', 'node_26_demand', 'link_13_flow', 'link_26_flow', 'node_23_demand', 'link_24_flow', 'node_9_pressure', 'node_28_pressure', 'link_18_flow', 'node_11_pressure', 'node_6_pressure', 'node_3_demand', 'node_10_demand', 'link_20_flow', 'node_19_pressure', 'link_27_flow', 'reservoir_pressure']]\n",
      "starting df shape: (87600, 27)\n",
      "This is training run 7 and has the shape:  (87600, 27)\n",
      "The value of dropped columns is 70\n"
     ]
    },
    {
     "name": "stderr",
     "output_type": "stream",
     "text": [
      "/Users/alexellard/opt/anaconda3/lib/python3.7/site-packages/xgboost/data.py:96: UserWarning: Use subset (sliced data) of np.ndarray is not recommended because it will generate extra copies and increase memory consumption\n",
      "  \"because it will generate extra copies and increase \" +\n"
     ]
    },
    {
     "name": "stdout",
     "output_type": "stream",
     "text": [
      "test y shape : (17520, 1)\n",
      "Inv y shape : (17520, 27)\n",
      "y pred shape : (17520, 1)\n",
      "inv y pred : (17520, 27)\n",
      "Run 7 Mean Absolute Error: 2.615585277903012\n",
      "[['node_31_demand', 'link_13_flow', 'link_16_flow', 'node_20_demand', 'node_10_demand', 'link_30_flow', 'node_7_demand', 'node_1_pressure', 'node_17_pressure', 'node_11_pressure', 'link_2_flow', 'link_10_flow', 'node_18_demand', 'node_16_pressure', 'node_19_pressure', 'node_21_pressure', 'node_20_pressure', 'node_23_pressure', 'link_8_flow', 'node_9_demand', 'link_27_flow', 'node_4_demand', 'link_22_flow', 'node_27_demand', 'link_20_flow', 'node_8_demand', 'link_31_flow', 'node_2_demand', 'node_18_pressure', 'node_6_pressure', 'node_3_pressure', 'node_11_demand', 'node_29_pressure', 'reservoir_demand', 'node_1_demand', 'node_30_demand', 'node_15_demand', 'node_16_demand', 'node_5_pressure', 'link_11_flow', 'node_13_pressure', 'node_8_pressure', 'node_5_demand', 'link_23_flow', 'link_29_flow', 'node_7_pressure', 'node_14_demand', 'link_5_flow', 'node_25_pressure', 'node_22_pressure', 'node_13_demand', 'link_4_flow', 'node_12_demand', 'node_2_pressure', 'node_29_demand', 'node_10_pressure', 'node_31_pressure', 'node_22_demand', 'link_32_flow', 'link_19_flow', 'node_14_pressure', 'node_25_demand', 'node_3_demand', 'link_15_flow', 'link_14_flow', 'reservoir_pressure', 'node_26_demand', 'link_6_flow', 'link_25_flow']]\n",
      "starting df shape: (87600, 27)\n",
      "This is training run 8 and has the shape:  (87600, 27)\n",
      "The value of dropped columns is 70\n"
     ]
    },
    {
     "name": "stderr",
     "output_type": "stream",
     "text": [
      "/Users/alexellard/opt/anaconda3/lib/python3.7/site-packages/xgboost/data.py:96: UserWarning: Use subset (sliced data) of np.ndarray is not recommended because it will generate extra copies and increase memory consumption\n",
      "  \"because it will generate extra copies and increase \" +\n"
     ]
    },
    {
     "name": "stdout",
     "output_type": "stream",
     "text": [
      "test y shape : (17520, 1)\n",
      "Inv y shape : (17520, 27)\n",
      "y pred shape : (17520, 1)\n",
      "inv y pred : (17520, 27)\n",
      "Run 8 Mean Absolute Error: 2.145386582717534\n",
      "[['node_6_demand', 'link_3_flow', 'node_22_pressure', 'link_13_flow', 'link_4_flow', 'node_22_demand', 'link_15_flow', 'node_21_pressure', 'link_26_flow', 'node_1_demand', 'link_9_flow', 'node_13_demand', 'node_9_demand', 'node_31_pressure', 'link_21_flow', 'node_5_demand', 'link_19_flow', 'link_16_flow', 'node_24_pressure', 'node_21_demand', 'node_29_pressure', 'reservoir_pressure', 'node_11_demand', 'node_16_demand', 'node_1_pressure', 'node_18_demand', 'link_6_flow', 'node_26_demand', 'node_17_pressure', 'node_5_pressure', 'node_15_demand', 'node_14_pressure', 'link_14_flow', 'node_29_demand', 'node_23_pressure', 'link_17_flow', 'node_31_demand', 'link_31_flow', 'node_15_pressure', 'link_7_flow', 'node_25_pressure', 'link_32_flow', 'link_10_flow', 'node_4_demand', 'node_14_demand', 'link_20_flow', 'link_2_flow', 'reservoir_demand', 'node_18_pressure', 'link_24_flow', 'node_10_demand', 'link_12_flow', 'link_28_flow', 'node_2_demand', 'node_30_pressure', 'node_7_demand', 'node_8_demand', 'node_28_pressure', 'link_18_flow', 'node_27_demand', 'node_19_pressure', 'node_16_pressure', 'node_23_demand', 'node_12_demand', 'node_10_pressure', 'link_23_flow', 'node_12_pressure', 'link_27_flow', 'node_28_demand', 'node_20_demand']]\n",
      "starting df shape: (87600, 26)\n",
      "This is training run 9 and has the shape:  (87600, 26)\n",
      "The value of dropped columns is 70\n"
     ]
    },
    {
     "name": "stderr",
     "output_type": "stream",
     "text": [
      "/Users/alexellard/opt/anaconda3/lib/python3.7/site-packages/xgboost/data.py:96: UserWarning: Use subset (sliced data) of np.ndarray is not recommended because it will generate extra copies and increase memory consumption\n",
      "  \"because it will generate extra copies and increase \" +\n"
     ]
    },
    {
     "name": "stdout",
     "output_type": "stream",
     "text": [
      "test y shape : (17520, 1)\n",
      "Inv y shape : (17520, 26)\n",
      "y pred shape : (17520, 1)\n",
      "inv y pred : (17520, 26)\n",
      "Run 9 Mean Absolute Error: 0.26044410742182383\n",
      "[['link_22_flow', 'node_30_demand', 'node_8_pressure', 'node_10_demand', 'link_8_flow', 'link_18_flow', 'node_24_demand', 'node_10_pressure', 'link_4_flow', 'node_5_demand', 'node_1_demand', 'node_14_demand', 'node_15_demand', 'link_15_flow', 'node_3_demand', 'node_19_pressure', 'link_27_flow', 'node_26_demand', 'link_17_flow', 'node_13_demand', 'node_12_pressure', 'node_14_pressure', 'node_20_demand', 'link_19_flow', 'link_25_flow', 'node_2_demand', 'node_6_demand', 'node_17_pressure', 'node_2_pressure', 'reservoir_pressure', 'node_18_pressure', 'link_23_flow', 'node_8_demand', 'link_5_flow', 'node_27_demand', 'node_17_demand', 'link_7_flow', 'node_12_demand', 'node_6_pressure', 'node_23_demand', 'node_9_demand', 'node_13_pressure', 'link_6_flow', 'link_24_flow', 'node_16_demand', 'node_25_demand', 'node_28_demand', 'link_20_flow', 'link_21_flow', 'link_31_flow', 'link_12_flow', 'node_22_demand', 'link_3_flow', 'link_30_flow', 'link_26_flow', 'link_16_flow', 'link_32_flow', 'node_23_pressure', 'node_29_demand', 'node_21_demand', 'node_31_pressure', 'node_18_demand', 'node_11_demand', 'node_9_pressure', 'node_24_pressure', 'link_29_flow', 'node_4_demand', 'node_11_pressure', 'node_27_pressure']]\n",
      "starting df shape: (87600, 27)\n",
      "This is training run 10 and has the shape:  (87600, 27)\n",
      "The value of dropped columns is 70\n"
     ]
    },
    {
     "name": "stderr",
     "output_type": "stream",
     "text": [
      "/Users/alexellard/opt/anaconda3/lib/python3.7/site-packages/xgboost/data.py:96: UserWarning: Use subset (sliced data) of np.ndarray is not recommended because it will generate extra copies and increase memory consumption\n",
      "  \"because it will generate extra copies and increase \" +\n"
     ]
    },
    {
     "name": "stdout",
     "output_type": "stream",
     "text": [
      "test y shape : (17520, 1)\n",
      "Inv y shape : (17520, 27)\n",
      "y pred shape : (17520, 1)\n",
      "inv y pred : (17520, 27)\n",
      "Run 10 Mean Absolute Error: 4.815974416994084\n",
      "[['link_17_flow', 'node_18_demand', 'node_29_pressure', 'node_21_demand', 'node_16_demand', 'node_5_pressure', 'node_7_pressure', 'link_7_flow', 'link_16_flow', 'node_16_pressure', 'link_9_flow', 'node_14_pressure', 'node_13_demand', 'node_12_demand', 'node_2_pressure', 'node_6_demand', 'node_27_demand', 'link_23_flow', 'node_19_demand', 'node_29_demand', 'node_8_pressure', 'link_20_flow', 'node_14_demand', 'node_10_pressure', 'link_27_flow', 'node_2_demand', 'node_6_pressure', 'link_30_flow', 'node_31_pressure', 'node_3_pressure', 'node_9_pressure', 'link_11_flow', 'link_2_flow', 'node_17_pressure', 'link_13_flow', 'link_31_flow', 'node_15_pressure', 'node_26_pressure', 'reservoir_pressure', 'link_24_flow', 'node_17_demand', 'node_22_pressure', 'link_6_flow', 'node_30_pressure', 'link_32_flow', 'link_29_flow', 'node_24_demand', 'node_25_pressure', 'link_21_flow', 'node_19_pressure', 'node_20_pressure', 'node_3_demand', 'node_5_demand', 'node_25_demand', 'node_21_pressure', 'link_28_flow', 'node_1_pressure', 'link_26_flow', 'reservoir_demand', 'link_14_flow', 'node_28_pressure', 'link_25_flow', 'node_22_demand', 'link_5_flow', 'node_4_demand', 'node_13_pressure', 'link_19_flow', 'node_11_demand', 'node_28_demand', 'node_7_demand', 'node_23_demand', 'node_27_pressure', 'link_3_flow', 'link_22_flow', 'link_18_flow']]\n",
      "starting df shape: (87600, 21)\n",
      "This is training run 1 and has the shape:  (87600, 21)\n",
      "The value of dropped columns is 75\n"
     ]
    },
    {
     "name": "stderr",
     "output_type": "stream",
     "text": [
      "/Users/alexellard/opt/anaconda3/lib/python3.7/site-packages/xgboost/data.py:96: UserWarning: Use subset (sliced data) of np.ndarray is not recommended because it will generate extra copies and increase memory consumption\n",
      "  \"because it will generate extra copies and increase \" +\n"
     ]
    },
    {
     "name": "stdout",
     "output_type": "stream",
     "text": [
      "test y shape : (17520, 1)\n",
      "Inv y shape : (17520, 21)\n",
      "y pred shape : (17520, 1)\n",
      "inv y pred : (17520, 21)\n",
      "Run 1 Mean Absolute Error: 2.0162603659920357\n",
      "[['node_8_pressure', 'node_14_pressure', 'node_16_demand', 'node_9_demand', 'link_24_flow', 'node_21_demand', 'link_11_flow', 'node_31_demand', 'link_4_flow', 'node_9_pressure', 'node_23_demand', 'node_18_demand', 'node_25_demand', 'node_31_pressure', 'link_10_flow', 'node_14_demand', 'link_9_flow', 'link_12_flow', 'node_21_pressure', 'node_6_pressure', 'node_26_demand', 'link_2_flow', 'link_19_flow', 'link_32_flow', 'link_14_flow', 'link_13_flow', 'node_16_pressure', 'link_18_flow', 'node_6_demand', 'link_30_flow', 'node_25_pressure', 'link_29_flow', 'node_18_pressure', 'node_22_demand', 'node_7_demand', 'node_13_pressure', 'node_8_demand', 'node_10_pressure', 'node_19_pressure', 'node_2_pressure', 'node_30_demand', 'node_10_demand', 'node_28_pressure', 'node_13_demand', 'link_6_flow', 'node_17_demand', 'link_28_flow', 'node_3_demand', 'node_28_demand', 'node_27_pressure', 'node_26_pressure', 'node_29_demand', 'link_7_flow', 'link_31_flow', 'node_22_pressure', 'node_29_pressure', 'node_3_pressure', 'node_15_pressure', 'node_11_demand', 'node_4_pressure', 'link_5_flow', 'reservoir_demand', 'link_23_flow', 'node_19_demand', 'node_24_demand', 'node_5_pressure', 'node_4_demand', 'link_3_flow', 'node_20_pressure', 'link_15_flow', 'node_5_demand', 'node_27_demand', 'link_8_flow', 'link_22_flow']]\n",
      "starting df shape: (87600, 22)\n",
      "This is training run 2 and has the shape:  (87600, 22)\n",
      "The value of dropped columns is 75\n"
     ]
    },
    {
     "name": "stderr",
     "output_type": "stream",
     "text": [
      "/Users/alexellard/opt/anaconda3/lib/python3.7/site-packages/xgboost/data.py:96: UserWarning: Use subset (sliced data) of np.ndarray is not recommended because it will generate extra copies and increase memory consumption\n",
      "  \"because it will generate extra copies and increase \" +\n"
     ]
    },
    {
     "name": "stdout",
     "output_type": "stream",
     "text": [
      "test y shape : (17520, 1)\n",
      "Inv y shape : (17520, 22)\n",
      "y pred shape : (17520, 1)\n",
      "inv y pred : (17520, 22)\n",
      "Run 2 Mean Absolute Error: 1.6540966536570036\n",
      "[['link_6_flow', 'link_14_flow', 'node_6_demand', 'link_9_flow', 'link_24_flow', 'node_14_demand', 'link_23_flow', 'link_16_flow', 'node_13_pressure', 'node_8_pressure', 'node_16_pressure', 'node_24_demand', 'link_30_flow', 'node_16_demand', 'node_2_demand', 'node_5_demand', 'node_22_demand', 'node_9_demand', 'link_26_flow', 'node_18_pressure', 'node_30_pressure', 'node_26_pressure', 'node_27_demand', 'link_8_flow', 'node_15_demand', 'node_21_pressure', 'node_30_demand', 'link_25_flow', 'node_6_pressure', 'node_3_demand', 'node_23_pressure', 'link_28_flow', 'node_31_demand', 'node_24_pressure', 'link_2_flow', 'link_7_flow', 'link_10_flow', 'node_1_demand', 'node_29_pressure', 'node_27_pressure', 'link_15_flow', 'node_28_pressure', 'node_19_demand', 'link_32_flow', 'node_4_demand', 'node_19_pressure', 'link_4_flow', 'link_22_flow', 'reservoir_pressure', 'node_22_pressure', 'node_29_demand', 'link_12_flow', 'node_20_pressure', 'link_13_flow', 'node_14_pressure', 'node_20_demand', 'link_20_flow', 'link_19_flow', 'link_29_flow', 'node_18_demand', 'node_5_pressure', 'node_3_pressure', 'node_15_pressure', 'node_13_demand', 'node_17_pressure', 'node_28_demand', 'node_1_pressure', 'reservoir_demand', 'node_8_demand', 'node_10_pressure', 'node_9_pressure', 'node_7_demand', 'node_31_pressure', 'node_12_demand']]\n",
      "starting df shape: (87600, 22)\n",
      "This is training run 3 and has the shape:  (87600, 22)\n",
      "The value of dropped columns is 75\n"
     ]
    },
    {
     "name": "stderr",
     "output_type": "stream",
     "text": [
      "/Users/alexellard/opt/anaconda3/lib/python3.7/site-packages/xgboost/data.py:96: UserWarning: Use subset (sliced data) of np.ndarray is not recommended because it will generate extra copies and increase memory consumption\n",
      "  \"because it will generate extra copies and increase \" +\n"
     ]
    },
    {
     "name": "stdout",
     "output_type": "stream",
     "text": [
      "test y shape : (17520, 1)\n",
      "Inv y shape : (17520, 22)\n",
      "y pred shape : (17520, 1)\n",
      "inv y pred : (17520, 22)\n",
      "Run 3 Mean Absolute Error: 0.715354129065255\n",
      "[['node_28_demand', 'node_5_demand', 'node_15_pressure', 'reservoir_pressure', 'node_2_demand', 'node_1_demand', 'link_11_flow', 'node_31_demand', 'link_16_flow', 'node_10_pressure', 'node_14_demand', 'link_21_flow', 'node_23_pressure', 'node_6_pressure', 'node_26_demand', 'link_9_flow', 'link_22_flow', 'node_6_demand', 'link_28_flow', 'link_17_flow', 'node_18_pressure', 'node_12_pressure', 'node_11_demand', 'link_27_flow', 'link_31_flow', 'node_16_demand', 'node_9_pressure', 'node_30_pressure', 'node_18_demand', 'node_13_demand', 'node_19_demand', 'node_9_demand', 'node_21_demand', 'node_4_pressure', 'node_13_pressure', 'node_4_demand', 'node_16_pressure', 'link_26_flow', 'node_10_demand', 'link_2_flow', 'link_12_flow', 'node_30_demand', 'link_30_flow', 'link_14_flow', 'node_29_pressure', 'node_27_pressure', 'node_27_demand', 'reservoir_demand', 'link_32_flow', 'node_11_pressure', 'node_28_pressure', 'link_7_flow', 'link_20_flow', 'node_25_pressure', 'node_22_pressure', 'node_2_pressure', 'node_3_demand', 'link_19_flow', 'link_24_flow', 'node_20_demand', 'link_29_flow', 'node_20_pressure', 'node_15_demand', 'link_6_flow', 'node_19_pressure', 'node_14_pressure', 'node_3_pressure', 'node_1_pressure', 'link_5_flow', 'node_17_demand', 'node_7_demand', 'node_12_demand', 'node_24_demand', 'node_24_pressure']]\n",
      "starting df shape: (87600, 22)\n",
      "This is training run 4 and has the shape:  (87600, 22)\n",
      "The value of dropped columns is 75\n"
     ]
    },
    {
     "name": "stderr",
     "output_type": "stream",
     "text": [
      "/Users/alexellard/opt/anaconda3/lib/python3.7/site-packages/xgboost/data.py:96: UserWarning: Use subset (sliced data) of np.ndarray is not recommended because it will generate extra copies and increase memory consumption\n",
      "  \"because it will generate extra copies and increase \" +\n"
     ]
    },
    {
     "name": "stdout",
     "output_type": "stream",
     "text": [
      "test y shape : (17520, 1)\n",
      "Inv y shape : (17520, 22)\n",
      "y pred shape : (17520, 1)\n",
      "inv y pred : (17520, 22)\n",
      "Run 4 Mean Absolute Error: 0.8780179572656496\n",
      "[['link_27_flow', 'node_26_pressure', 'link_28_flow', 'node_31_demand', 'link_10_flow', 'link_20_flow', 'node_22_pressure', 'reservoir_demand', 'node_28_demand', 'link_7_flow', 'node_26_demand', 'node_31_pressure', 'reservoir_pressure', 'node_1_demand', 'node_15_demand', 'node_20_pressure', 'node_16_demand', 'node_7_demand', 'link_14_flow', 'node_1_pressure', 'link_9_flow', 'node_17_demand', 'link_2_flow', 'link_4_flow', 'node_25_demand', 'link_6_flow', 'link_17_flow', 'node_4_demand', 'link_18_flow', 'node_13_demand', 'node_16_pressure', 'node_24_pressure', 'node_8_pressure', 'node_2_pressure', 'node_12_pressure', 'node_3_pressure', 'link_21_flow', 'link_8_flow', 'node_6_pressure', 'node_4_pressure', 'node_9_pressure', 'link_13_flow', 'link_16_flow', 'node_9_demand', 'link_22_flow', 'node_13_pressure', 'node_17_pressure', 'node_19_pressure', 'node_11_pressure', 'link_12_flow', 'link_15_flow', 'node_15_pressure', 'node_2_demand', 'node_12_demand', 'node_29_pressure', 'node_5_pressure', 'node_10_pressure', 'node_11_demand', 'link_24_flow', 'node_30_demand', 'node_7_pressure', 'link_11_flow', 'node_24_demand', 'link_26_flow', 'node_20_demand', 'node_27_pressure', 'link_29_flow', 'link_31_flow', 'node_14_pressure', 'node_29_demand', 'node_25_pressure', 'node_3_demand', 'node_27_demand', 'link_3_flow']]\n",
      "starting df shape: (87600, 22)\n",
      "This is training run 5 and has the shape:  (87600, 22)\n",
      "The value of dropped columns is 75\n"
     ]
    },
    {
     "name": "stderr",
     "output_type": "stream",
     "text": [
      "/Users/alexellard/opt/anaconda3/lib/python3.7/site-packages/xgboost/data.py:96: UserWarning: Use subset (sliced data) of np.ndarray is not recommended because it will generate extra copies and increase memory consumption\n",
      "  \"because it will generate extra copies and increase \" +\n"
     ]
    },
    {
     "name": "stdout",
     "output_type": "stream",
     "text": [
      "test y shape : (17520, 1)\n",
      "Inv y shape : (17520, 22)\n",
      "y pred shape : (17520, 1)\n",
      "inv y pred : (17520, 22)\n",
      "Run 5 Mean Absolute Error: 1.4870010936583724\n",
      "[['node_4_demand', 'link_27_flow', 'node_7_demand', 'link_6_flow', 'link_28_flow', 'node_14_pressure', 'node_30_demand', 'node_5_pressure', 'node_20_pressure', 'node_24_demand', 'node_17_demand', 'node_1_pressure', 'node_3_demand', 'node_21_demand', 'node_4_pressure', 'node_6_pressure', 'node_31_pressure', 'node_8_demand', 'node_14_demand', 'node_15_pressure', 'node_28_pressure', 'node_13_pressure', 'link_21_flow', 'link_14_flow', 'node_11_pressure', 'link_22_flow', 'link_12_flow', 'node_25_pressure', 'link_7_flow', 'node_17_pressure', 'link_5_flow', 'node_3_pressure', 'node_30_pressure', 'link_26_flow', 'node_18_demand', 'link_25_flow', 'link_17_flow', 'node_16_pressure', 'link_23_flow', 'link_20_flow', 'node_18_pressure', 'node_8_pressure', 'link_29_flow', 'node_23_pressure', 'node_12_pressure', 'node_19_demand', 'node_15_demand', 'node_1_demand', 'node_31_demand', 'link_10_flow', 'node_9_demand', 'link_11_flow', 'link_13_flow', 'node_10_demand', 'node_29_pressure', 'link_19_flow', 'node_5_demand', 'node_11_demand', 'node_6_demand', 'link_24_flow', 'link_32_flow', 'link_30_flow', 'node_7_pressure', 'reservoir_pressure', 'link_18_flow', 'node_27_pressure', 'link_15_flow', 'node_26_demand', 'node_10_pressure', 'node_26_pressure', 'node_29_demand', 'node_23_demand', 'node_25_demand', 'node_2_pressure']]\n",
      "starting df shape: (87600, 22)\n",
      "This is training run 6 and has the shape:  (87600, 22)\n",
      "The value of dropped columns is 75\n"
     ]
    },
    {
     "name": "stderr",
     "output_type": "stream",
     "text": [
      "/Users/alexellard/opt/anaconda3/lib/python3.7/site-packages/xgboost/data.py:96: UserWarning: Use subset (sliced data) of np.ndarray is not recommended because it will generate extra copies and increase memory consumption\n",
      "  \"because it will generate extra copies and increase \" +\n"
     ]
    },
    {
     "name": "stdout",
     "output_type": "stream",
     "text": [
      "test y shape : (17520, 1)\n",
      "Inv y shape : (17520, 22)\n",
      "y pred shape : (17520, 1)\n",
      "inv y pred : (17520, 22)\n",
      "Run 6 Mean Absolute Error: 3.597921450550436\n",
      "[['node_13_pressure', 'link_29_flow', 'link_14_flow', 'node_11_demand', 'node_14_demand', 'link_30_flow', 'node_24_pressure', 'node_24_demand', 'node_30_pressure', 'link_28_flow', 'link_9_flow', 'link_23_flow', 'node_4_demand', 'node_25_pressure', 'node_14_pressure', 'reservoir_pressure', 'link_17_flow', 'node_18_demand', 'link_8_flow', 'node_9_pressure', 'node_19_demand', 'link_2_flow', 'node_13_demand', 'node_12_demand', 'node_20_pressure', 'link_19_flow', 'link_6_flow', 'node_15_pressure', 'node_31_demand', 'node_29_pressure', 'node_28_demand', 'link_21_flow', 'node_1_demand', 'node_8_demand', 'node_6_pressure', 'node_5_pressure', 'link_27_flow', 'node_26_pressure', 'node_19_pressure', 'node_17_demand', 'link_32_flow', 'node_8_pressure', 'node_6_demand', 'node_30_demand', 'link_7_flow', 'node_4_pressure', 'node_3_pressure', 'node_2_demand', 'link_10_flow', 'node_20_demand', 'node_31_pressure', 'link_5_flow', 'node_17_pressure', 'link_15_flow', 'node_7_demand', 'node_16_demand', 'node_28_pressure', 'node_7_pressure', 'link_18_flow', 'node_23_demand', 'reservoir_demand', 'link_26_flow', 'node_10_demand', 'link_12_flow', 'node_18_pressure', 'node_25_demand', 'link_11_flow', 'link_3_flow', 'node_21_demand', 'node_9_demand', 'link_25_flow', 'node_21_pressure', 'link_24_flow', 'node_15_demand']]\n",
      "starting df shape: (87600, 22)\n",
      "This is training run 7 and has the shape:  (87600, 22)\n",
      "The value of dropped columns is 75\n"
     ]
    },
    {
     "name": "stderr",
     "output_type": "stream",
     "text": [
      "/Users/alexellard/opt/anaconda3/lib/python3.7/site-packages/xgboost/data.py:96: UserWarning: Use subset (sliced data) of np.ndarray is not recommended because it will generate extra copies and increase memory consumption\n",
      "  \"because it will generate extra copies and increase \" +\n"
     ]
    },
    {
     "name": "stdout",
     "output_type": "stream",
     "text": [
      "test y shape : (17520, 1)\n",
      "Inv y shape : (17520, 22)\n",
      "y pred shape : (17520, 1)\n",
      "inv y pred : (17520, 22)\n",
      "Run 7 Mean Absolute Error: 0.2287957019051987\n",
      "[['link_16_flow', 'node_16_pressure', 'link_8_flow', 'node_18_pressure', 'link_23_flow', 'node_3_pressure', 'link_2_flow', 'node_13_demand', 'link_31_flow', 'node_28_demand', 'node_20_demand', 'link_14_flow', 'node_29_demand', 'link_30_flow', 'link_12_flow', 'node_4_demand', 'link_7_flow', 'node_22_pressure', 'node_23_pressure', 'node_24_demand', 'link_27_flow', 'link_10_flow', 'link_3_flow', 'link_22_flow', 'node_29_pressure', 'node_24_pressure', 'node_17_demand', 'link_21_flow', 'node_30_demand', 'link_13_flow', 'reservoir_pressure', 'node_8_pressure', 'node_11_pressure', 'node_5_pressure', 'link_20_flow', 'node_31_pressure', 'node_26_pressure', 'link_15_flow', 'node_7_demand', 'link_9_flow', 'node_12_demand', 'node_4_pressure', 'node_26_demand', 'node_8_demand', 'link_6_flow', 'node_17_pressure', 'node_14_pressure', 'link_32_flow', 'node_14_demand', 'node_28_pressure', 'node_25_pressure', 'node_5_demand', 'node_11_demand', 'node_6_pressure', 'node_21_demand', 'node_18_demand', 'node_30_pressure', 'link_29_flow', 'node_1_demand', 'node_15_pressure', 'node_2_pressure', 'node_13_pressure', 'node_27_pressure', 'link_17_flow', 'reservoir_demand', 'node_6_demand', 'node_19_pressure', 'node_21_pressure', 'node_12_pressure', 'node_20_pressure', 'link_19_flow', 'node_7_pressure', 'node_10_pressure', 'link_5_flow']]\n",
      "starting df shape: (87600, 22)\n",
      "This is training run 8 and has the shape:  (87600, 22)\n",
      "The value of dropped columns is 75\n"
     ]
    },
    {
     "name": "stderr",
     "output_type": "stream",
     "text": [
      "/Users/alexellard/opt/anaconda3/lib/python3.7/site-packages/xgboost/data.py:96: UserWarning: Use subset (sliced data) of np.ndarray is not recommended because it will generate extra copies and increase memory consumption\n",
      "  \"because it will generate extra copies and increase \" +\n"
     ]
    },
    {
     "name": "stdout",
     "output_type": "stream",
     "text": [
      "test y shape : (17520, 1)\n",
      "Inv y shape : (17520, 22)\n",
      "y pred shape : (17520, 1)\n",
      "inv y pred : (17520, 22)\n",
      "Run 8 Mean Absolute Error: 1.2660504942556408\n",
      "[['node_19_demand', 'node_23_demand', 'node_23_pressure', 'link_21_flow', 'node_2_demand', 'node_31_demand', 'link_12_flow', 'node_21_pressure', 'link_5_flow', 'node_14_demand', 'link_8_flow', 'link_15_flow', 'node_6_demand', 'link_23_flow', 'node_8_pressure', 'link_4_flow', 'node_11_pressure', 'node_22_pressure', 'node_7_demand', 'node_20_demand', 'link_29_flow', 'node_16_pressure', 'node_14_pressure', 'link_27_flow', 'link_16_flow', 'link_14_flow', 'node_12_demand', 'link_32_flow', 'node_5_demand', 'node_25_pressure', 'node_5_pressure', 'node_17_demand', 'reservoir_demand', 'link_13_flow', 'link_30_flow', 'node_11_demand', 'node_10_demand', 'node_4_pressure', 'link_7_flow', 'node_2_pressure', 'node_30_demand', 'node_25_demand', 'node_13_pressure', 'node_27_demand', 'node_13_demand', 'link_10_flow', 'link_2_flow', 'node_9_pressure', 'node_26_demand', 'link_9_flow', 'link_26_flow', 'node_22_demand', 'node_28_pressure', 'node_19_pressure', 'node_28_demand', 'link_20_flow', 'link_3_flow', 'node_16_demand', 'node_1_demand', 'node_18_demand', 'node_24_demand', 'node_15_demand', 'node_17_pressure', 'node_4_demand', 'node_21_demand', 'node_24_pressure', 'link_25_flow', 'node_8_demand', 'node_15_pressure', 'link_19_flow', 'node_18_pressure', 'link_11_flow', 'node_26_pressure', 'reservoir_pressure', 'node_30_pressure']]\n",
      "starting df shape: (87600, 21)\n",
      "This is training run 9 and has the shape:  (87600, 21)\n",
      "The value of dropped columns is 75\n"
     ]
    },
    {
     "name": "stderr",
     "output_type": "stream",
     "text": [
      "/Users/alexellard/opt/anaconda3/lib/python3.7/site-packages/xgboost/data.py:96: UserWarning: Use subset (sliced data) of np.ndarray is not recommended because it will generate extra copies and increase memory consumption\n",
      "  \"because it will generate extra copies and increase \" +\n"
     ]
    },
    {
     "name": "stdout",
     "output_type": "stream",
     "text": [
      "test y shape : (17520, 1)\n",
      "Inv y shape : (17520, 21)\n",
      "y pred shape : (17520, 1)\n",
      "inv y pred : (17520, 21)\n",
      "Run 9 Mean Absolute Error: 0.2666270170333337\n",
      "[['node_27_demand', 'link_5_flow', 'link_31_flow', 'link_16_flow', 'node_28_demand', 'node_21_demand', 'node_8_demand', 'link_22_flow', 'node_24_pressure', 'node_5_demand', 'reservoir_pressure', 'node_5_pressure', 'node_23_demand', 'node_15_pressure', 'node_25_demand', 'node_4_pressure', 'node_4_demand', 'node_22_pressure', 'reservoir_demand', 'node_26_demand', 'link_26_flow', 'node_16_demand', 'node_2_pressure', 'node_30_pressure', 'node_12_demand', 'link_18_flow', 'node_31_demand', 'node_7_demand', 'node_6_demand', 'node_14_demand', 'link_12_flow', 'link_13_flow', 'node_8_pressure', 'node_14_pressure', 'node_15_demand', 'node_29_pressure', 'link_11_flow', 'node_24_demand', 'link_6_flow', 'link_29_flow', 'link_17_flow', 'node_3_demand', 'node_30_demand', 'link_15_flow', 'node_1_demand', 'node_31_pressure', 'node_22_demand', 'link_3_flow', 'node_19_demand', 'node_13_pressure', 'node_28_pressure', 'link_32_flow', 'node_19_pressure', 'node_23_pressure', 'node_18_demand', 'link_23_flow', 'node_7_pressure', 'link_27_flow', 'link_25_flow', 'node_20_demand', 'node_2_demand', 'node_26_pressure', 'link_10_flow', 'link_4_flow', 'node_10_pressure', 'node_17_pressure', 'node_29_demand', 'link_19_flow', 'node_6_pressure', 'link_20_flow', 'link_2_flow', 'node_17_demand', 'node_13_demand', 'node_20_pressure']]\n",
      "starting df shape: (87600, 22)\n",
      "This is training run 10 and has the shape:  (87600, 22)\n",
      "The value of dropped columns is 75\n"
     ]
    },
    {
     "name": "stderr",
     "output_type": "stream",
     "text": [
      "/Users/alexellard/opt/anaconda3/lib/python3.7/site-packages/xgboost/data.py:96: UserWarning: Use subset (sliced data) of np.ndarray is not recommended because it will generate extra copies and increase memory consumption\n",
      "  \"because it will generate extra copies and increase \" +\n"
     ]
    },
    {
     "name": "stdout",
     "output_type": "stream",
     "text": [
      "test y shape : (17520, 1)\n",
      "Inv y shape : (17520, 22)\n",
      "y pred shape : (17520, 1)\n",
      "inv y pred : (17520, 22)\n",
      "Run 10 Mean Absolute Error: 0.8699237917457542\n",
      "[['node_6_demand', 'link_15_flow', 'link_7_flow', 'link_12_flow', 'node_6_pressure', 'link_32_flow', 'node_8_demand', 'link_29_flow', 'node_2_demand', 'node_22_demand', 'link_25_flow', 'node_1_pressure', 'node_24_pressure', 'node_21_pressure', 'node_26_pressure', 'link_10_flow', 'node_19_pressure', 'node_25_demand', 'node_30_pressure', 'node_9_demand', 'node_12_demand', 'node_27_pressure', 'node_11_demand', 'link_16_flow', 'node_16_demand', 'node_20_pressure', 'link_28_flow', 'node_8_pressure', 'link_9_flow', 'node_16_pressure', 'node_12_pressure', 'node_29_demand', 'node_15_pressure', 'node_13_demand', 'link_17_flow', 'node_31_pressure', 'link_23_flow', 'node_4_demand', 'node_1_demand', 'node_10_demand', 'link_24_flow', 'link_21_flow', 'link_19_flow', 'node_9_pressure', 'link_22_flow', 'node_7_demand', 'reservoir_demand', 'node_5_demand', 'link_8_flow', 'node_17_demand', 'link_27_flow', 'node_29_pressure', 'link_4_flow', 'node_3_pressure', 'node_4_pressure', 'link_2_flow', 'node_7_pressure', 'node_27_demand', 'node_22_pressure', 'node_18_pressure', 'node_28_pressure', 'node_15_demand', 'node_5_pressure', 'reservoir_pressure', 'node_30_demand', 'link_3_flow', 'node_17_pressure', 'link_30_flow', 'link_11_flow', 'node_26_demand', 'link_5_flow', 'node_23_pressure', 'node_24_demand', 'link_20_flow', 'node_13_pressure', 'link_6_flow', 'node_31_demand', 'node_23_demand', 'node_21_demand']]\n",
      "starting df shape: (87600, 17)\n",
      "This is training run 1 and has the shape:  (87600, 17)\n",
      "The value of dropped columns is 80\n"
     ]
    },
    {
     "name": "stderr",
     "output_type": "stream",
     "text": [
      "/Users/alexellard/opt/anaconda3/lib/python3.7/site-packages/xgboost/data.py:96: UserWarning: Use subset (sliced data) of np.ndarray is not recommended because it will generate extra copies and increase memory consumption\n",
      "  \"because it will generate extra copies and increase \" +\n"
     ]
    },
    {
     "name": "stdout",
     "output_type": "stream",
     "text": [
      "test y shape : (17520, 1)\n",
      "Inv y shape : (17520, 17)\n",
      "y pred shape : (17520, 1)\n",
      "inv y pred : (17520, 17)\n",
      "Run 1 Mean Absolute Error: 0.3725858029781098\n",
      "[['node_30_pressure', 'node_7_demand', 'node_18_pressure', 'node_5_demand', 'link_3_flow', 'node_23_demand', 'node_22_pressure', 'link_13_flow', 'node_29_pressure', 'node_10_demand', 'link_14_flow', 'node_20_pressure', 'link_21_flow', 'node_27_demand', 'node_9_demand', 'link_9_flow', 'link_15_flow', 'node_8_pressure', 'node_19_demand', 'link_32_flow', 'link_5_flow', 'node_3_pressure', 'node_17_demand', 'link_26_flow', 'node_16_pressure', 'reservoir_pressure', 'node_5_pressure', 'link_28_flow', 'node_1_demand', 'node_22_demand', 'node_18_demand', 'node_11_pressure', 'node_14_pressure', 'node_28_demand', 'node_26_demand', 'node_23_pressure', 'node_16_demand', 'node_25_demand', 'node_21_demand', 'link_7_flow', 'node_30_demand', 'link_8_flow', 'node_14_demand', 'node_8_demand', 'link_25_flow', 'node_12_pressure', 'node_9_pressure', 'node_12_demand', 'node_25_pressure', 'link_29_flow', 'link_30_flow', 'node_6_demand', 'link_11_flow', 'node_7_pressure', 'node_15_pressure', 'node_29_demand', 'node_2_demand', 'reservoir_demand', 'link_22_flow', 'node_21_pressure', 'node_13_demand', 'link_10_flow', 'node_15_demand', 'link_31_flow', 'node_1_pressure', 'link_17_flow', 'node_11_demand', 'node_4_pressure', 'node_6_pressure', 'link_27_flow', 'node_24_pressure', 'node_2_pressure', 'link_16_flow', 'link_24_flow', 'link_4_flow', 'node_20_demand', 'link_6_flow', 'link_18_flow', 'node_31_pressure']]\n",
      "starting df shape: (87600, 17)\n",
      "This is training run 2 and has the shape:  (87600, 17)\n",
      "The value of dropped columns is 80\n"
     ]
    },
    {
     "name": "stderr",
     "output_type": "stream",
     "text": [
      "/Users/alexellard/opt/anaconda3/lib/python3.7/site-packages/xgboost/data.py:96: UserWarning: Use subset (sliced data) of np.ndarray is not recommended because it will generate extra copies and increase memory consumption\n",
      "  \"because it will generate extra copies and increase \" +\n"
     ]
    },
    {
     "name": "stdout",
     "output_type": "stream",
     "text": [
      "test y shape : (17520, 1)\n",
      "Inv y shape : (17520, 17)\n",
      "y pred shape : (17520, 1)\n",
      "inv y pred : (17520, 17)\n",
      "Run 2 Mean Absolute Error: 0.12031581548119365\n",
      "[['link_30_flow', 'node_18_demand', 'node_7_pressure', 'node_6_demand', 'link_16_flow', 'node_25_demand', 'node_3_demand', 'node_28_pressure', 'node_16_demand', 'node_19_demand', 'link_24_flow', 'node_31_pressure', 'node_19_pressure', 'link_23_flow', 'link_15_flow', 'node_26_demand', 'link_7_flow', 'link_26_flow', 'link_18_flow', 'node_27_pressure', 'link_32_flow', 'link_8_flow', 'link_20_flow', 'node_11_demand', 'node_2_demand', 'node_2_pressure', 'node_22_pressure', 'link_27_flow', 'link_28_flow', 'node_14_pressure', 'node_17_pressure', 'node_15_demand', 'node_16_pressure', 'node_12_pressure', 'node_1_demand', 'node_25_pressure', 'link_17_flow', 'link_14_flow', 'link_22_flow', 'link_2_flow', 'node_31_demand', 'reservoir_demand', 'node_20_demand', 'reservoir_pressure', 'node_15_pressure', 'link_13_flow', 'node_1_pressure', 'node_29_demand', 'node_8_demand', 'link_10_flow', 'node_8_pressure', 'link_5_flow', 'node_23_demand', 'node_18_pressure', 'link_19_flow', 'link_4_flow', 'node_13_demand', 'node_4_pressure', 'node_9_demand', 'node_13_pressure', 'node_14_demand', 'node_10_pressure', 'node_7_demand', 'node_6_pressure', 'node_20_pressure', 'node_21_demand', 'link_11_flow', 'node_4_demand', 'node_22_demand', 'node_24_demand', 'node_27_demand', 'link_3_flow', 'link_9_flow', 'node_29_pressure', 'link_31_flow', 'node_30_demand', 'node_11_pressure', 'link_25_flow', 'link_6_flow']]\n",
      "starting df shape: (87600, 17)\n",
      "This is training run 3 and has the shape:  (87600, 17)\n",
      "The value of dropped columns is 80\n"
     ]
    },
    {
     "name": "stderr",
     "output_type": "stream",
     "text": [
      "/Users/alexellard/opt/anaconda3/lib/python3.7/site-packages/xgboost/data.py:96: UserWarning: Use subset (sliced data) of np.ndarray is not recommended because it will generate extra copies and increase memory consumption\n",
      "  \"because it will generate extra copies and increase \" +\n"
     ]
    },
    {
     "name": "stdout",
     "output_type": "stream",
     "text": [
      "test y shape : (17520, 1)\n",
      "Inv y shape : (17520, 17)\n",
      "y pred shape : (17520, 1)\n",
      "inv y pred : (17520, 17)\n",
      "Run 3 Mean Absolute Error: 2.0192306381639193\n",
      "[['node_23_demand', 'node_8_demand', 'node_9_demand', 'node_16_pressure', 'node_7_demand', 'node_28_demand', 'node_4_pressure', 'node_31_demand', 'node_5_pressure', 'link_15_flow', 'link_23_flow', 'node_11_pressure', 'node_24_pressure', 'node_30_demand', 'node_30_pressure', 'node_22_pressure', 'node_26_pressure', 'node_16_demand', 'link_21_flow', 'node_28_pressure', 'node_10_pressure', 'link_2_flow', 'node_3_pressure', 'link_14_flow', 'node_4_demand', 'node_5_demand', 'node_13_demand', 'node_27_demand', 'node_26_demand', 'node_29_pressure', 'node_6_pressure', 'node_6_demand', 'node_18_demand', 'link_26_flow', 'node_7_pressure', 'link_7_flow', 'node_25_pressure', 'link_11_flow', 'node_8_pressure', 'reservoir_demand', 'link_5_flow', 'link_6_flow', 'node_15_demand', 'node_24_demand', 'node_20_pressure', 'node_20_demand', 'link_24_flow', 'link_12_flow', 'node_23_pressure', 'link_3_flow', 'node_12_pressure', 'node_9_pressure', 'node_19_pressure', 'node_25_demand', 'link_32_flow', 'node_27_pressure', 'node_11_demand', 'link_29_flow', 'node_10_demand', 'node_22_demand', 'link_16_flow', 'node_13_pressure', 'reservoir_pressure', 'link_31_flow', 'node_18_pressure', 'link_25_flow', 'node_21_demand', 'link_9_flow', 'link_18_flow', 'node_17_pressure', 'link_8_flow', 'link_27_flow', 'link_19_flow', 'node_2_demand', 'node_14_demand', 'node_17_demand', 'node_1_demand', 'node_31_pressure', 'node_2_pressure']]\n",
      "starting df shape: (87600, 17)\n",
      "This is training run 4 and has the shape:  (87600, 17)\n",
      "The value of dropped columns is 80\n"
     ]
    },
    {
     "name": "stderr",
     "output_type": "stream",
     "text": [
      "/Users/alexellard/opt/anaconda3/lib/python3.7/site-packages/xgboost/data.py:96: UserWarning: Use subset (sliced data) of np.ndarray is not recommended because it will generate extra copies and increase memory consumption\n",
      "  \"because it will generate extra copies and increase \" +\n"
     ]
    },
    {
     "name": "stdout",
     "output_type": "stream",
     "text": [
      "test y shape : (17520, 1)\n",
      "Inv y shape : (17520, 17)\n",
      "y pred shape : (17520, 1)\n",
      "inv y pred : (17520, 17)\n",
      "Run 4 Mean Absolute Error: 0.21718565976385618\n",
      "[['node_31_demand', 'node_17_pressure', 'link_2_flow', 'node_14_demand', 'node_27_demand', 'link_21_flow', 'link_30_flow', 'node_19_pressure', 'node_29_demand', 'link_22_flow', 'node_3_pressure', 'node_25_demand', 'node_18_demand', 'node_18_pressure', 'node_30_pressure', 'node_6_pressure', 'node_30_demand', 'node_13_pressure', 'node_8_demand', 'node_2_demand', 'node_23_pressure', 'link_15_flow', 'node_24_pressure', 'link_20_flow', 'reservoir_pressure', 'node_7_pressure', 'node_21_pressure', 'node_22_pressure', 'node_15_demand', 'link_11_flow', 'link_16_flow', 'link_9_flow', 'node_5_demand', 'node_29_pressure', 'node_20_demand', 'link_10_flow', 'node_24_demand', 'node_1_pressure', 'node_23_demand', 'node_12_demand', 'node_2_pressure', 'link_28_flow', 'link_32_flow', 'link_23_flow', 'node_12_pressure', 'link_12_flow', 'link_29_flow', 'link_19_flow', 'node_25_pressure', 'node_17_demand', 'node_31_pressure', 'link_14_flow', 'reservoir_demand', 'node_14_pressure', 'node_5_pressure', 'node_10_pressure', 'node_28_pressure', 'node_15_pressure', 'link_13_flow', 'link_27_flow', 'node_4_pressure', 'link_17_flow', 'link_3_flow', 'link_7_flow', 'node_16_pressure', 'node_28_demand', 'node_27_pressure', 'link_4_flow', 'link_31_flow', 'link_6_flow', 'link_25_flow', 'link_26_flow', 'link_8_flow', 'node_11_demand', 'link_5_flow', 'node_11_pressure', 'link_24_flow', 'node_20_pressure', 'node_8_pressure']]\n",
      "starting df shape: (87600, 17)\n",
      "This is training run 5 and has the shape:  (87600, 17)\n",
      "The value of dropped columns is 80\n"
     ]
    },
    {
     "name": "stderr",
     "output_type": "stream",
     "text": [
      "/Users/alexellard/opt/anaconda3/lib/python3.7/site-packages/xgboost/data.py:96: UserWarning: Use subset (sliced data) of np.ndarray is not recommended because it will generate extra copies and increase memory consumption\n",
      "  \"because it will generate extra copies and increase \" +\n"
     ]
    },
    {
     "name": "stdout",
     "output_type": "stream",
     "text": [
      "test y shape : (17520, 1)\n",
      "Inv y shape : (17520, 17)\n",
      "y pred shape : (17520, 1)\n",
      "inv y pred : (17520, 17)\n",
      "Run 5 Mean Absolute Error: 2.5157550899566608\n",
      "[['link_2_flow', 'link_20_flow', 'node_7_demand', 'node_2_pressure', 'node_30_pressure', 'node_25_demand', 'link_10_flow', 'link_23_flow', 'node_29_demand', 'node_16_pressure', 'node_26_pressure', 'node_12_demand', 'node_12_pressure', 'link_22_flow', 'link_26_flow', 'node_8_pressure', 'node_23_demand', 'node_9_demand', 'node_16_demand', 'node_31_pressure', 'node_30_demand', 'link_28_flow', 'link_14_flow', 'node_15_demand', 'link_27_flow', 'node_15_pressure', 'node_11_pressure', 'node_27_pressure', 'node_3_demand', 'node_1_demand', 'reservoir_demand', 'node_2_demand', 'node_19_pressure', 'link_32_flow', 'node_17_pressure', 'node_25_pressure', 'link_13_flow', 'node_1_pressure', 'node_14_demand', 'link_19_flow', 'node_21_pressure', 'link_24_flow', 'node_29_pressure', 'link_9_flow', 'node_31_demand', 'link_30_flow', 'link_3_flow', 'link_6_flow', 'link_31_flow', 'link_12_flow', 'node_5_pressure', 'link_17_flow', 'node_20_demand', 'link_15_flow', 'node_17_demand', 'node_18_demand', 'node_28_demand', 'node_4_demand', 'link_5_flow', 'node_18_pressure', 'node_27_demand', 'link_7_flow', 'node_21_demand', 'node_22_demand', 'node_5_demand', 'link_29_flow', 'node_24_demand', 'node_24_pressure', 'node_8_demand', 'node_10_pressure', 'node_13_demand', 'reservoir_pressure', 'link_25_flow', 'link_4_flow', 'node_10_demand', 'node_23_pressure', 'node_13_pressure', 'node_7_pressure', 'node_19_demand']]\n",
      "starting df shape: (87600, 17)\n",
      "This is training run 6 and has the shape:  (87600, 17)\n",
      "The value of dropped columns is 80\n"
     ]
    },
    {
     "name": "stderr",
     "output_type": "stream",
     "text": [
      "/Users/alexellard/opt/anaconda3/lib/python3.7/site-packages/xgboost/data.py:96: UserWarning: Use subset (sliced data) of np.ndarray is not recommended because it will generate extra copies and increase memory consumption\n",
      "  \"because it will generate extra copies and increase \" +\n"
     ]
    },
    {
     "name": "stdout",
     "output_type": "stream",
     "text": [
      "test y shape : (17520, 1)\n",
      "Inv y shape : (17520, 17)\n",
      "y pred shape : (17520, 1)\n",
      "inv y pred : (17520, 17)\n",
      "Run 6 Mean Absolute Error: 2.842720322525897\n",
      "[['node_29_demand', 'node_21_demand', 'node_30_pressure', 'node_1_demand', 'node_16_pressure', 'node_30_demand', 'node_15_demand', 'node_24_pressure', 'node_7_pressure', 'link_30_flow', 'node_2_demand', 'node_4_demand', 'node_7_demand', 'node_4_pressure', 'node_8_demand', 'link_15_flow', 'node_13_pressure', 'node_26_pressure', 'link_11_flow', 'node_3_pressure', 'link_18_flow', 'node_14_demand', 'node_17_pressure', 'link_13_flow', 'node_6_demand', 'node_31_demand', 'node_15_pressure', 'node_22_demand', 'node_8_pressure', 'link_25_flow', 'node_9_pressure', 'link_20_flow', 'node_25_demand', 'node_23_demand', 'link_32_flow', 'node_21_pressure', 'node_20_pressure', 'link_21_flow', 'link_23_flow', 'node_31_pressure', 'reservoir_pressure', 'node_27_pressure', 'node_1_pressure', 'link_31_flow', 'node_9_demand', 'link_24_flow', 'node_13_demand', 'node_18_pressure', 'node_28_pressure', 'link_6_flow', 'node_10_pressure', 'node_5_pressure', 'node_28_demand', 'link_17_flow', 'link_19_flow', 'link_26_flow', 'link_10_flow', 'link_22_flow', 'node_12_demand', 'node_6_pressure', 'link_2_flow', 'link_8_flow', 'node_18_demand', 'node_27_demand', 'node_24_demand', 'node_10_demand', 'node_2_pressure', 'link_29_flow', 'node_29_pressure', 'node_25_pressure', 'node_23_pressure', 'node_5_demand', 'link_12_flow', 'node_17_demand', 'node_19_pressure', 'reservoir_demand', 'node_14_pressure', 'node_16_demand', 'node_12_pressure']]\n",
      "starting df shape: (87600, 17)\n",
      "This is training run 7 and has the shape:  (87600, 17)\n",
      "The value of dropped columns is 80\n"
     ]
    },
    {
     "name": "stderr",
     "output_type": "stream",
     "text": [
      "/Users/alexellard/opt/anaconda3/lib/python3.7/site-packages/xgboost/data.py:96: UserWarning: Use subset (sliced data) of np.ndarray is not recommended because it will generate extra copies and increase memory consumption\n",
      "  \"because it will generate extra copies and increase \" +\n"
     ]
    },
    {
     "name": "stdout",
     "output_type": "stream",
     "text": [
      "test y shape : (17520, 1)\n",
      "Inv y shape : (17520, 17)\n",
      "y pred shape : (17520, 1)\n",
      "inv y pred : (17520, 17)\n",
      "Run 7 Mean Absolute Error: 0.3005349709826665\n",
      "[['node_20_pressure', 'node_14_demand', 'node_21_demand', 'link_32_flow', 'link_8_flow', 'link_3_flow', 'node_7_demand', 'node_13_demand', 'node_25_demand', 'link_31_flow', 'link_21_flow', 'node_5_pressure', 'node_1_pressure', 'link_9_flow', 'node_29_pressure', 'node_23_pressure', 'node_9_demand', 'node_3_demand', 'node_30_pressure', 'link_18_flow', 'link_6_flow', 'node_14_pressure', 'node_7_pressure', 'node_3_pressure', 'link_5_flow', 'node_15_demand', 'node_16_demand', 'link_26_flow', 'node_13_pressure', 'node_8_pressure', 'node_29_demand', 'link_12_flow', 'link_29_flow', 'node_21_pressure', 'node_28_pressure', 'reservoir_pressure', 'link_15_flow', 'node_6_demand', 'node_12_demand', 'node_26_demand', 'link_20_flow', 'node_15_pressure', 'link_23_flow', 'node_10_pressure', 'reservoir_demand', 'node_10_demand', 'node_5_demand', 'node_9_pressure', 'node_25_pressure', 'node_24_pressure', 'node_8_demand', 'node_27_demand', 'node_6_pressure', 'node_4_demand', 'node_31_demand', 'link_17_flow', 'node_27_pressure', 'node_11_pressure', 'node_22_pressure', 'node_19_demand', 'link_2_flow', 'node_23_demand', 'link_14_flow', 'node_19_pressure', 'link_22_flow', 'link_27_flow', 'link_16_flow', 'node_20_demand', 'link_4_flow', 'node_11_demand', 'node_22_demand', 'node_31_pressure', 'link_7_flow', 'link_10_flow', 'link_25_flow', 'node_2_pressure', 'link_11_flow', 'link_24_flow', 'node_17_demand']]\n",
      "starting df shape: (87600, 17)\n",
      "This is training run 8 and has the shape:  (87600, 17)\n",
      "The value of dropped columns is 80\n"
     ]
    },
    {
     "name": "stderr",
     "output_type": "stream",
     "text": [
      "/Users/alexellard/opt/anaconda3/lib/python3.7/site-packages/xgboost/data.py:96: UserWarning: Use subset (sliced data) of np.ndarray is not recommended because it will generate extra copies and increase memory consumption\n",
      "  \"because it will generate extra copies and increase \" +\n"
     ]
    },
    {
     "name": "stdout",
     "output_type": "stream",
     "text": [
      "test y shape : (17520, 1)\n",
      "Inv y shape : (17520, 17)\n",
      "y pred shape : (17520, 1)\n",
      "inv y pred : (17520, 17)\n",
      "Run 8 Mean Absolute Error: 1.7142107890438316\n",
      "[['node_11_pressure', 'node_3_pressure', 'node_4_demand', 'link_10_flow', 'node_15_pressure', 'node_13_pressure', 'node_12_demand', 'link_31_flow', 'link_19_flow', 'link_3_flow', 'node_23_pressure', 'node_7_pressure', 'node_20_demand', 'node_29_pressure', 'node_14_demand', 'node_1_pressure', 'node_30_pressure', 'node_19_pressure', 'node_21_demand', 'node_29_demand', 'node_9_pressure', 'node_26_pressure', 'link_30_flow', 'link_8_flow', 'node_10_pressure', 'node_6_pressure', 'node_21_pressure', 'link_21_flow', 'link_24_flow', 'node_31_demand', 'node_17_demand', 'link_17_flow', 'node_18_pressure', 'node_22_demand', 'node_6_demand', 'node_22_pressure', 'node_23_demand', 'node_15_demand', 'node_3_demand', 'link_2_flow', 'node_28_demand', 'reservoir_demand', 'node_4_pressure', 'node_30_demand', 'node_8_pressure', 'node_2_pressure', 'node_14_pressure', 'link_20_flow', 'node_2_demand', 'node_9_demand', 'node_24_demand', 'node_27_pressure', 'node_28_pressure', 'link_25_flow', 'link_4_flow', 'node_25_demand', 'node_16_pressure', 'link_5_flow', 'link_12_flow', 'node_12_pressure', 'node_27_demand', 'link_11_flow', 'node_24_pressure', 'link_29_flow', 'link_18_flow', 'link_16_flow', 'node_18_demand', 'node_26_demand', 'link_27_flow', 'node_13_demand', 'node_5_pressure', 'link_15_flow', 'node_19_demand', 'link_6_flow', 'node_16_demand', 'node_25_pressure', 'node_31_pressure', 'link_14_flow', 'link_7_flow']]\n",
      "starting df shape: (87600, 17)\n",
      "This is training run 9 and has the shape:  (87600, 17)\n",
      "The value of dropped columns is 80\n"
     ]
    },
    {
     "name": "stderr",
     "output_type": "stream",
     "text": [
      "/Users/alexellard/opt/anaconda3/lib/python3.7/site-packages/xgboost/data.py:96: UserWarning: Use subset (sliced data) of np.ndarray is not recommended because it will generate extra copies and increase memory consumption\n",
      "  \"because it will generate extra copies and increase \" +\n"
     ]
    },
    {
     "name": "stdout",
     "output_type": "stream",
     "text": [
      "test y shape : (17520, 1)\n",
      "Inv y shape : (17520, 17)\n",
      "y pred shape : (17520, 1)\n",
      "inv y pred : (17520, 17)\n",
      "Run 9 Mean Absolute Error: 2.0557222485777427\n",
      "[['node_21_pressure', 'node_12_pressure', 'node_19_pressure', 'node_3_pressure', 'node_4_pressure', 'node_30_demand', 'link_10_flow', 'link_26_flow', 'node_29_pressure', 'link_24_flow', 'link_13_flow', 'link_20_flow', 'node_6_demand', 'node_2_demand', 'link_29_flow', 'link_12_flow', 'node_15_pressure', 'link_30_flow', 'node_24_pressure', 'node_1_pressure', 'link_4_flow', 'node_9_demand', 'node_7_demand', 'link_2_flow', 'link_21_flow', 'node_14_demand', 'link_28_flow', 'node_16_pressure', 'node_28_demand', 'link_5_flow', 'node_30_pressure', 'link_9_flow', 'link_18_flow', 'link_22_flow', 'node_26_pressure', 'node_11_pressure', 'link_25_flow', 'node_24_demand', 'node_27_pressure', 'link_19_flow', 'node_7_pressure', 'link_8_flow', 'link_27_flow', 'node_20_demand', 'node_5_demand', 'node_22_demand', 'node_3_demand', 'link_31_flow', 'node_4_demand', 'node_9_pressure', 'node_18_demand', 'node_14_pressure', 'node_8_demand', 'node_1_demand', 'node_29_demand', 'node_20_pressure', 'link_3_flow', 'node_28_pressure', 'node_31_demand', 'node_11_demand', 'node_23_demand', 'node_19_demand', 'node_23_pressure', 'node_6_pressure', 'link_32_flow', 'link_16_flow', 'link_17_flow', 'node_22_pressure', 'reservoir_demand', 'link_14_flow', 'node_13_pressure', 'node_17_pressure', 'link_11_flow', 'node_25_demand', 'node_21_demand', 'node_10_demand', 'node_8_pressure', 'node_15_demand', 'link_15_flow']]\n",
      "starting df shape: (87600, 17)\n",
      "This is training run 10 and has the shape:  (87600, 17)\n",
      "The value of dropped columns is 80\n"
     ]
    },
    {
     "name": "stderr",
     "output_type": "stream",
     "text": [
      "/Users/alexellard/opt/anaconda3/lib/python3.7/site-packages/xgboost/data.py:96: UserWarning: Use subset (sliced data) of np.ndarray is not recommended because it will generate extra copies and increase memory consumption\n",
      "  \"because it will generate extra copies and increase \" +\n"
     ]
    },
    {
     "name": "stdout",
     "output_type": "stream",
     "text": [
      "test y shape : (17520, 1)\n",
      "Inv y shape : (17520, 17)\n",
      "y pred shape : (17520, 1)\n",
      "inv y pred : (17520, 17)\n",
      "Run 10 Mean Absolute Error: 2.030673365825598\n",
      "Length MAE_average:  17\n",
      "Length sensors_covered:  17\n"
     ]
    }
   ],
   "source": [
    "#average scores flows link 1\n",
    "\n",
    "MAE_average = []\n",
    "maximum_MAE = []\n",
    "sensors_covered = []\n",
    "n_columns_to_drop = [0, 5, 10, 15, 20, 25, 30, 35, 40, 45, 50, 55, 60, 65, 70, 75, 80]\n",
    "for n in n_columns_to_drop:\n",
    "    MAE = []\n",
    "    for run in range(1,11):\n",
    "        Y = df[df.columns[64]]\n",
    "        X = df.drop(columns=['link_1_flow'])\n",
    "        X['link_1_flow'] = Y\n",
    "        columns = []\n",
    "        columns_to_drop = random.sample(list(X.columns), n)\n",
    "        # Drop the selected columns from the dataframe\n",
    "        if X.columns[-1] in columns_to_drop:\n",
    "            columns_to_drop.remove(X.columns[-1])\n",
    "        X.drop(columns_to_drop, axis=1, inplace=True)\n",
    "        columns.append(columns_to_drop)\n",
    "        print(columns)\n",
    "        print('starting df shape:', X.shape)\n",
    "        print(f'This is training run {run} and has the shape: ', X.shape)\n",
    "        print(f'The value of dropped columns is {n}')\n",
    "\n",
    "        # split into train and test sets\n",
    "        values = X.values\n",
    "        scaler = MinMaxScaler(feature_range=(0, 1))\n",
    "        scaled = scaler.fit_transform(values)\n",
    "        train, test = train_test_split(scaled, test_size=0.2, random_state=0)\n",
    "\n",
    "        # split into input and outputs\n",
    "        train_X, train_y = train[:, :-1], train[:, -1]\n",
    "        test_X, test_y = test[:, :-1], test[:, -1]\n",
    "\n",
    "        #define model\n",
    "        model = xgb.XGBRegressor(\n",
    "            objective='reg:squarederror',\n",
    "            n_estimators=100,\n",
    "            max_depth=6,\n",
    "            learning_rate=0.1,\n",
    "            subsample=0.9,\n",
    "            colsample_bytree=0.8,\n",
    "            random_state=42\n",
    "        )\n",
    "\n",
    "        # fit the model on the training data\n",
    "        model.fit(train_X, train_y)\n",
    "\n",
    "        # make predictions on the test data\n",
    "        y_pred = model.predict(test_X)\n",
    "\n",
    "        test_y = test_y.reshape((len(test_y), 1))\n",
    "        print('test y shape :', test_y.shape)\n",
    "        inv_test_y = concatenate((test_y, test_X[:, -X.shape[1]:]), axis=1)\n",
    "        print('Inv y shape :', inv_test_y.shape)\n",
    "        test_y_inverse = scaler.inverse_transform(inv_test_y)\n",
    "        test_y_inverse = test_y_inverse[:,0]\n",
    "\n",
    "        y_pred = y_pred.reshape((len(y_pred), 1))\n",
    "        print('y pred shape :', y_pred.shape)\n",
    "        inv_y_pred = concatenate((y_pred, test_X[:, -X.shape[1]:]), axis=1)\n",
    "        print('inv y pred :', inv_y_pred.shape)\n",
    "        y_pred_inverse = scaler.inverse_transform(inv_y_pred)\n",
    "        y_pred_inverse = y_pred_inverse[:,0]\n",
    "\n",
    "        # evaluate scaled errors\n",
    "        mae_inverse = mean_absolute_error(test_y_inverse, y_pred_inverse)\n",
    "        MAE.append(mae_inverse)\n",
    "        print(f'Run {run} Mean Absolute Error:', mae_inverse)\n",
    "    percentage_list = round(X.shape[1] / 96 * 100)\n",
    "    sensors_covered.append(percentage_list)\n",
    "    MAE_mean = mean(MAE)\n",
    "    max_MAE = max(MAE)\n",
    "    maximum_MAE.append(max_MAE)\n",
    "    MAE_average.append(MAE_mean)\n",
    "print('Length MAE_average: ', len(MAE_average))\n",
    "print('Length sensors_covered: ', len(sensors_covered))"
   ]
  },
  {
   "cell_type": "code",
   "execution_count": null,
   "metadata": {},
   "outputs": [],
   "source": []
  }
 ],
 "metadata": {
  "kernelspec": {
   "display_name": "Python 3",
   "language": "python",
   "name": "python3"
  },
  "language_info": {
   "codemirror_mode": {
    "name": "ipython",
    "version": 3
   },
   "file_extension": ".py",
   "mimetype": "text/x-python",
   "name": "python",
   "nbconvert_exporter": "python",
   "pygments_lexer": "ipython3",
   "version": "3.7.4"
  }
 },
 "nbformat": 4,
 "nbformat_minor": 2
}
