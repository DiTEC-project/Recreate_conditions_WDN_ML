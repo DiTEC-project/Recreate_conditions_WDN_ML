{
 "cells": [
  {
   "cell_type": "code",
   "execution_count": 1,
   "metadata": {},
   "outputs": [
    {
     "name": "stderr",
     "output_type": "stream",
     "text": [
      "/Users/alexellard/opt/anaconda3/lib/python3.7/site-packages/dask/dataframe/utils.py:14: FutureWarning: pandas.util.testing is deprecated. Use the functions in the public API at pandas.testing instead.\n",
      "  import pandas.util.testing as tm\n"
     ]
    }
   ],
   "source": [
    "import xgboost as xgb\n",
    "import pandas as pd\n",
    "import numpy as np\n",
    "from sklearn.preprocessing import LabelEncoder\n",
    "from sklearn.preprocessing import MinMaxScaler\n",
    "from sklearn.model_selection import train_test_split\n",
    "from sklearn.metrics import mean_squared_error, mean_absolute_error, r2_score\n",
    "from numpy import concatenate\n",
    "from math import sqrt\n",
    "from statistics import mean\n",
    "import random\n",
    "import matplotlib.pyplot as plt"
   ]
  },
  {
   "cell_type": "code",
   "execution_count": 2,
   "metadata": {},
   "outputs": [
    {
     "data": {
      "text/html": [
       "<div>\n",
       "<style scoped>\n",
       "    .dataframe tbody tr th:only-of-type {\n",
       "        vertical-align: middle;\n",
       "    }\n",
       "\n",
       "    .dataframe tbody tr th {\n",
       "        vertical-align: top;\n",
       "    }\n",
       "\n",
       "    .dataframe thead th {\n",
       "        text-align: right;\n",
       "    }\n",
       "</style>\n",
       "<table border=\"1\" class=\"dataframe\">\n",
       "  <thead>\n",
       "    <tr style=\"text-align: right;\">\n",
       "      <th></th>\n",
       "      <th>reservoir_demand</th>\n",
       "      <th>node_1_demand</th>\n",
       "      <th>node_2_demand</th>\n",
       "      <th>node_3_demand</th>\n",
       "      <th>node_4_demand</th>\n",
       "      <th>node_5_demand</th>\n",
       "      <th>node_6_demand</th>\n",
       "      <th>node_7_demand</th>\n",
       "      <th>node_8_demand</th>\n",
       "      <th>node_9_demand</th>\n",
       "      <th>...</th>\n",
       "      <th>link_23_flow</th>\n",
       "      <th>link_24_flow</th>\n",
       "      <th>link_25_flow</th>\n",
       "      <th>link_26_flow</th>\n",
       "      <th>link_27_flow</th>\n",
       "      <th>link_28_flow</th>\n",
       "      <th>link_29_flow</th>\n",
       "      <th>link_30_flow</th>\n",
       "      <th>link_31_flow</th>\n",
       "      <th>link_32_flow</th>\n",
       "    </tr>\n",
       "    <tr>\n",
       "      <th>Timestamp</th>\n",
       "      <th></th>\n",
       "      <th></th>\n",
       "      <th></th>\n",
       "      <th></th>\n",
       "      <th></th>\n",
       "      <th></th>\n",
       "      <th></th>\n",
       "      <th></th>\n",
       "      <th></th>\n",
       "      <th></th>\n",
       "      <th></th>\n",
       "      <th></th>\n",
       "      <th></th>\n",
       "      <th></th>\n",
       "      <th></th>\n",
       "      <th></th>\n",
       "      <th></th>\n",
       "      <th></th>\n",
       "      <th></th>\n",
       "      <th></th>\n",
       "      <th></th>\n",
       "    </tr>\n",
       "  </thead>\n",
       "  <tbody>\n",
       "    <tr>\n",
       "      <th>2017-01-01 00:00:00</th>\n",
       "      <td>-3348.0</td>\n",
       "      <td>154.8</td>\n",
       "      <td>169.2</td>\n",
       "      <td>18.0</td>\n",
       "      <td>118.8</td>\n",
       "      <td>169.2</td>\n",
       "      <td>234.0</td>\n",
       "      <td>86.4</td>\n",
       "      <td>82.8</td>\n",
       "      <td>104.4</td>\n",
       "      <td>...</td>\n",
       "      <td>439.2</td>\n",
       "      <td>-205.2</td>\n",
       "      <td>-75.6</td>\n",
       "      <td>-18.0</td>\n",
       "      <td>118.8</td>\n",
       "      <td>68.4</td>\n",
       "      <td>7.2</td>\n",
       "      <td>-54.0</td>\n",
       "      <td>75.6</td>\n",
       "      <td>212.4</td>\n",
       "    </tr>\n",
       "    <tr>\n",
       "      <th>2017-01-01 00:30:00</th>\n",
       "      <td>-2959.2</td>\n",
       "      <td>136.8</td>\n",
       "      <td>147.6</td>\n",
       "      <td>18.0</td>\n",
       "      <td>108.0</td>\n",
       "      <td>144.0</td>\n",
       "      <td>237.6</td>\n",
       "      <td>79.2</td>\n",
       "      <td>75.6</td>\n",
       "      <td>90.0</td>\n",
       "      <td>...</td>\n",
       "      <td>392.4</td>\n",
       "      <td>-187.2</td>\n",
       "      <td>-72.0</td>\n",
       "      <td>-21.6</td>\n",
       "      <td>108.0</td>\n",
       "      <td>61.2</td>\n",
       "      <td>3.6</td>\n",
       "      <td>-54.0</td>\n",
       "      <td>72.0</td>\n",
       "      <td>183.6</td>\n",
       "    </tr>\n",
       "    <tr>\n",
       "      <th>2017-01-01 01:00:00</th>\n",
       "      <td>-2692.8</td>\n",
       "      <td>129.6</td>\n",
       "      <td>126.0</td>\n",
       "      <td>14.4</td>\n",
       "      <td>104.4</td>\n",
       "      <td>133.2</td>\n",
       "      <td>205.2</td>\n",
       "      <td>72.0</td>\n",
       "      <td>72.0</td>\n",
       "      <td>90.0</td>\n",
       "      <td>...</td>\n",
       "      <td>349.2</td>\n",
       "      <td>-176.4</td>\n",
       "      <td>-64.8</td>\n",
       "      <td>-18.0</td>\n",
       "      <td>93.6</td>\n",
       "      <td>50.4</td>\n",
       "      <td>3.6</td>\n",
       "      <td>-39.6</td>\n",
       "      <td>54.0</td>\n",
       "      <td>151.2</td>\n",
       "    </tr>\n",
       "    <tr>\n",
       "      <th>2017-01-01 01:30:00</th>\n",
       "      <td>-2379.6</td>\n",
       "      <td>104.4</td>\n",
       "      <td>100.8</td>\n",
       "      <td>10.8</td>\n",
       "      <td>86.4</td>\n",
       "      <td>122.4</td>\n",
       "      <td>180.0</td>\n",
       "      <td>68.4</td>\n",
       "      <td>57.6</td>\n",
       "      <td>82.8</td>\n",
       "      <td>...</td>\n",
       "      <td>316.8</td>\n",
       "      <td>-158.4</td>\n",
       "      <td>-54.0</td>\n",
       "      <td>-10.8</td>\n",
       "      <td>79.2</td>\n",
       "      <td>46.8</td>\n",
       "      <td>7.2</td>\n",
       "      <td>-32.4</td>\n",
       "      <td>50.4</td>\n",
       "      <td>140.4</td>\n",
       "    </tr>\n",
       "    <tr>\n",
       "      <th>2017-01-01 02:00:00</th>\n",
       "      <td>-2228.4</td>\n",
       "      <td>104.4</td>\n",
       "      <td>104.4</td>\n",
       "      <td>10.8</td>\n",
       "      <td>79.2</td>\n",
       "      <td>122.4</td>\n",
       "      <td>183.6</td>\n",
       "      <td>68.4</td>\n",
       "      <td>54.0</td>\n",
       "      <td>75.6</td>\n",
       "      <td>...</td>\n",
       "      <td>277.2</td>\n",
       "      <td>-144.0</td>\n",
       "      <td>-57.6</td>\n",
       "      <td>-18.0</td>\n",
       "      <td>72.0</td>\n",
       "      <td>39.6</td>\n",
       "      <td>7.2</td>\n",
       "      <td>-32.4</td>\n",
       "      <td>43.2</td>\n",
       "      <td>118.8</td>\n",
       "    </tr>\n",
       "    <tr>\n",
       "      <th>...</th>\n",
       "      <td>...</td>\n",
       "      <td>...</td>\n",
       "      <td>...</td>\n",
       "      <td>...</td>\n",
       "      <td>...</td>\n",
       "      <td>...</td>\n",
       "      <td>...</td>\n",
       "      <td>...</td>\n",
       "      <td>...</td>\n",
       "      <td>...</td>\n",
       "      <td>...</td>\n",
       "      <td>...</td>\n",
       "      <td>...</td>\n",
       "      <td>...</td>\n",
       "      <td>...</td>\n",
       "      <td>...</td>\n",
       "      <td>...</td>\n",
       "      <td>...</td>\n",
       "      <td>...</td>\n",
       "      <td>...</td>\n",
       "      <td>...</td>\n",
       "    </tr>\n",
       "    <tr>\n",
       "      <th>2017-12-31 21:30:00</th>\n",
       "      <td>-5306.4</td>\n",
       "      <td>205.2</td>\n",
       "      <td>208.8</td>\n",
       "      <td>39.6</td>\n",
       "      <td>183.6</td>\n",
       "      <td>284.4</td>\n",
       "      <td>316.8</td>\n",
       "      <td>176.4</td>\n",
       "      <td>133.2</td>\n",
       "      <td>129.6</td>\n",
       "      <td>...</td>\n",
       "      <td>604.8</td>\n",
       "      <td>-259.2</td>\n",
       "      <td>32.4</td>\n",
       "      <td>115.2</td>\n",
       "      <td>169.2</td>\n",
       "      <td>100.8</td>\n",
       "      <td>10.8</td>\n",
       "      <td>-100.8</td>\n",
       "      <td>122.4</td>\n",
       "      <td>309.6</td>\n",
       "    </tr>\n",
       "    <tr>\n",
       "      <th>2017-12-31 22:00:00</th>\n",
       "      <td>-4910.4</td>\n",
       "      <td>208.8</td>\n",
       "      <td>183.6</td>\n",
       "      <td>39.6</td>\n",
       "      <td>154.8</td>\n",
       "      <td>252.0</td>\n",
       "      <td>295.2</td>\n",
       "      <td>165.6</td>\n",
       "      <td>133.2</td>\n",
       "      <td>133.2</td>\n",
       "      <td>...</td>\n",
       "      <td>565.2</td>\n",
       "      <td>-241.2</td>\n",
       "      <td>21.6</td>\n",
       "      <td>100.8</td>\n",
       "      <td>154.8</td>\n",
       "      <td>86.4</td>\n",
       "      <td>18.0</td>\n",
       "      <td>-75.6</td>\n",
       "      <td>100.8</td>\n",
       "      <td>288.0</td>\n",
       "    </tr>\n",
       "    <tr>\n",
       "      <th>2017-12-31 22:30:00</th>\n",
       "      <td>-4683.6</td>\n",
       "      <td>187.2</td>\n",
       "      <td>183.6</td>\n",
       "      <td>36.0</td>\n",
       "      <td>147.6</td>\n",
       "      <td>230.4</td>\n",
       "      <td>320.4</td>\n",
       "      <td>147.6</td>\n",
       "      <td>118.8</td>\n",
       "      <td>126.0</td>\n",
       "      <td>...</td>\n",
       "      <td>529.2</td>\n",
       "      <td>-226.8</td>\n",
       "      <td>21.6</td>\n",
       "      <td>100.8</td>\n",
       "      <td>147.6</td>\n",
       "      <td>86.4</td>\n",
       "      <td>14.4</td>\n",
       "      <td>-86.4</td>\n",
       "      <td>108.0</td>\n",
       "      <td>266.4</td>\n",
       "    </tr>\n",
       "    <tr>\n",
       "      <th>2017-12-31 23:00:00</th>\n",
       "      <td>-4262.4</td>\n",
       "      <td>180.0</td>\n",
       "      <td>165.6</td>\n",
       "      <td>32.4</td>\n",
       "      <td>136.8</td>\n",
       "      <td>223.2</td>\n",
       "      <td>241.2</td>\n",
       "      <td>147.6</td>\n",
       "      <td>115.2</td>\n",
       "      <td>111.6</td>\n",
       "      <td>...</td>\n",
       "      <td>496.8</td>\n",
       "      <td>-208.8</td>\n",
       "      <td>21.6</td>\n",
       "      <td>93.6</td>\n",
       "      <td>133.2</td>\n",
       "      <td>79.2</td>\n",
       "      <td>14.4</td>\n",
       "      <td>-75.6</td>\n",
       "      <td>97.2</td>\n",
       "      <td>255.6</td>\n",
       "    </tr>\n",
       "    <tr>\n",
       "      <th>2017-12-31 23:30:00</th>\n",
       "      <td>-3808.8</td>\n",
       "      <td>176.4</td>\n",
       "      <td>169.2</td>\n",
       "      <td>25.2</td>\n",
       "      <td>122.4</td>\n",
       "      <td>201.6</td>\n",
       "      <td>241.2</td>\n",
       "      <td>122.4</td>\n",
       "      <td>100.8</td>\n",
       "      <td>93.6</td>\n",
       "      <td>...</td>\n",
       "      <td>421.2</td>\n",
       "      <td>-180.0</td>\n",
       "      <td>28.8</td>\n",
       "      <td>86.4</td>\n",
       "      <td>118.8</td>\n",
       "      <td>68.4</td>\n",
       "      <td>10.8</td>\n",
       "      <td>-68.4</td>\n",
       "      <td>86.4</td>\n",
       "      <td>216.0</td>\n",
       "    </tr>\n",
       "  </tbody>\n",
       "</table>\n",
       "<p>87600 rows × 96 columns</p>\n",
       "</div>"
      ],
      "text/plain": [
       "                     reservoir_demand  node_1_demand  node_2_demand  \\\n",
       "Timestamp                                                             \n",
       "2017-01-01 00:00:00           -3348.0          154.8          169.2   \n",
       "2017-01-01 00:30:00           -2959.2          136.8          147.6   \n",
       "2017-01-01 01:00:00           -2692.8          129.6          126.0   \n",
       "2017-01-01 01:30:00           -2379.6          104.4          100.8   \n",
       "2017-01-01 02:00:00           -2228.4          104.4          104.4   \n",
       "...                               ...            ...            ...   \n",
       "2017-12-31 21:30:00           -5306.4          205.2          208.8   \n",
       "2017-12-31 22:00:00           -4910.4          208.8          183.6   \n",
       "2017-12-31 22:30:00           -4683.6          187.2          183.6   \n",
       "2017-12-31 23:00:00           -4262.4          180.0          165.6   \n",
       "2017-12-31 23:30:00           -3808.8          176.4          169.2   \n",
       "\n",
       "                     node_3_demand  node_4_demand  node_5_demand  \\\n",
       "Timestamp                                                          \n",
       "2017-01-01 00:00:00           18.0          118.8          169.2   \n",
       "2017-01-01 00:30:00           18.0          108.0          144.0   \n",
       "2017-01-01 01:00:00           14.4          104.4          133.2   \n",
       "2017-01-01 01:30:00           10.8           86.4          122.4   \n",
       "2017-01-01 02:00:00           10.8           79.2          122.4   \n",
       "...                            ...            ...            ...   \n",
       "2017-12-31 21:30:00           39.6          183.6          284.4   \n",
       "2017-12-31 22:00:00           39.6          154.8          252.0   \n",
       "2017-12-31 22:30:00           36.0          147.6          230.4   \n",
       "2017-12-31 23:00:00           32.4          136.8          223.2   \n",
       "2017-12-31 23:30:00           25.2          122.4          201.6   \n",
       "\n",
       "                     node_6_demand  node_7_demand  node_8_demand  \\\n",
       "Timestamp                                                          \n",
       "2017-01-01 00:00:00          234.0           86.4           82.8   \n",
       "2017-01-01 00:30:00          237.6           79.2           75.6   \n",
       "2017-01-01 01:00:00          205.2           72.0           72.0   \n",
       "2017-01-01 01:30:00          180.0           68.4           57.6   \n",
       "2017-01-01 02:00:00          183.6           68.4           54.0   \n",
       "...                            ...            ...            ...   \n",
       "2017-12-31 21:30:00          316.8          176.4          133.2   \n",
       "2017-12-31 22:00:00          295.2          165.6          133.2   \n",
       "2017-12-31 22:30:00          320.4          147.6          118.8   \n",
       "2017-12-31 23:00:00          241.2          147.6          115.2   \n",
       "2017-12-31 23:30:00          241.2          122.4          100.8   \n",
       "\n",
       "                     node_9_demand  ...  link_23_flow  link_24_flow  \\\n",
       "Timestamp                           ...                               \n",
       "2017-01-01 00:00:00          104.4  ...         439.2        -205.2   \n",
       "2017-01-01 00:30:00           90.0  ...         392.4        -187.2   \n",
       "2017-01-01 01:00:00           90.0  ...         349.2        -176.4   \n",
       "2017-01-01 01:30:00           82.8  ...         316.8        -158.4   \n",
       "2017-01-01 02:00:00           75.6  ...         277.2        -144.0   \n",
       "...                            ...  ...           ...           ...   \n",
       "2017-12-31 21:30:00          129.6  ...         604.8        -259.2   \n",
       "2017-12-31 22:00:00          133.2  ...         565.2        -241.2   \n",
       "2017-12-31 22:30:00          126.0  ...         529.2        -226.8   \n",
       "2017-12-31 23:00:00          111.6  ...         496.8        -208.8   \n",
       "2017-12-31 23:30:00           93.6  ...         421.2        -180.0   \n",
       "\n",
       "                     link_25_flow  link_26_flow  link_27_flow  link_28_flow  \\\n",
       "Timestamp                                                                     \n",
       "2017-01-01 00:00:00         -75.6         -18.0         118.8          68.4   \n",
       "2017-01-01 00:30:00         -72.0         -21.6         108.0          61.2   \n",
       "2017-01-01 01:00:00         -64.8         -18.0          93.6          50.4   \n",
       "2017-01-01 01:30:00         -54.0         -10.8          79.2          46.8   \n",
       "2017-01-01 02:00:00         -57.6         -18.0          72.0          39.6   \n",
       "...                           ...           ...           ...           ...   \n",
       "2017-12-31 21:30:00          32.4         115.2         169.2         100.8   \n",
       "2017-12-31 22:00:00          21.6         100.8         154.8          86.4   \n",
       "2017-12-31 22:30:00          21.6         100.8         147.6          86.4   \n",
       "2017-12-31 23:00:00          21.6          93.6         133.2          79.2   \n",
       "2017-12-31 23:30:00          28.8          86.4         118.8          68.4   \n",
       "\n",
       "                     link_29_flow  link_30_flow  link_31_flow  link_32_flow  \n",
       "Timestamp                                                                    \n",
       "2017-01-01 00:00:00           7.2         -54.0          75.6         212.4  \n",
       "2017-01-01 00:30:00           3.6         -54.0          72.0         183.6  \n",
       "2017-01-01 01:00:00           3.6         -39.6          54.0         151.2  \n",
       "2017-01-01 01:30:00           7.2         -32.4          50.4         140.4  \n",
       "2017-01-01 02:00:00           7.2         -32.4          43.2         118.8  \n",
       "...                           ...           ...           ...           ...  \n",
       "2017-12-31 21:30:00          10.8        -100.8         122.4         309.6  \n",
       "2017-12-31 22:00:00          18.0         -75.6         100.8         288.0  \n",
       "2017-12-31 22:30:00          14.4         -86.4         108.0         266.4  \n",
       "2017-12-31 23:00:00          14.4         -75.6          97.2         255.6  \n",
       "2017-12-31 23:30:00          10.8         -68.4          86.4         216.0  \n",
       "\n",
       "[87600 rows x 96 columns]"
      ]
     },
     "execution_count": 2,
     "metadata": {},
     "output_type": "execute_result"
    }
   ],
   "source": [
    "df = pd.read_csv('/Users/alexellard/Downloads/scenarios_data.csv', header=0, index_col=0)\n",
    "df"
   ]
  },
  {
   "cell_type": "code",
   "execution_count": 3,
   "metadata": {},
   "outputs": [
    {
     "name": "stdout",
     "output_type": "stream",
     "text": [
      "[[]]\n",
      "starting df shape: (87600, 96)\n",
      "This is training run 1 and has the shape:  (87600, 96)\n",
      "The value of dropped columns is 0\n"
     ]
    },
    {
     "name": "stderr",
     "output_type": "stream",
     "text": [
      "/Users/alexellard/opt/anaconda3/lib/python3.7/site-packages/xgboost/data.py:96: UserWarning: Use subset (sliced data) of np.ndarray is not recommended because it will generate extra copies and increase memory consumption\n",
      "  \"because it will generate extra copies and increase \" +\n"
     ]
    },
    {
     "name": "stdout",
     "output_type": "stream",
     "text": [
      "test y shape : (17520, 1)\n",
      "Inv y shape : (17520, 96)\n",
      "y pred shape : (17520, 1)\n",
      "inv y pred : (17520, 96)\n",
      "Run 1 Mean Absolute Error: 45.13374937313199\n",
      "[[]]\n",
      "starting df shape: (87600, 96)\n",
      "This is training run 2 and has the shape:  (87600, 96)\n",
      "The value of dropped columns is 0\n"
     ]
    },
    {
     "name": "stderr",
     "output_type": "stream",
     "text": [
      "/Users/alexellard/opt/anaconda3/lib/python3.7/site-packages/xgboost/data.py:96: UserWarning: Use subset (sliced data) of np.ndarray is not recommended because it will generate extra copies and increase memory consumption\n",
      "  \"because it will generate extra copies and increase \" +\n"
     ]
    },
    {
     "name": "stdout",
     "output_type": "stream",
     "text": [
      "test y shape : (17520, 1)\n",
      "Inv y shape : (17520, 96)\n",
      "y pred shape : (17520, 1)\n",
      "inv y pred : (17520, 96)\n",
      "Run 2 Mean Absolute Error: 45.13374937313199\n",
      "[[]]\n",
      "starting df shape: (87600, 96)\n",
      "This is training run 3 and has the shape:  (87600, 96)\n",
      "The value of dropped columns is 0\n"
     ]
    },
    {
     "name": "stderr",
     "output_type": "stream",
     "text": [
      "/Users/alexellard/opt/anaconda3/lib/python3.7/site-packages/xgboost/data.py:96: UserWarning: Use subset (sliced data) of np.ndarray is not recommended because it will generate extra copies and increase memory consumption\n",
      "  \"because it will generate extra copies and increase \" +\n"
     ]
    },
    {
     "name": "stdout",
     "output_type": "stream",
     "text": [
      "test y shape : (17520, 1)\n",
      "Inv y shape : (17520, 96)\n",
      "y pred shape : (17520, 1)\n",
      "inv y pred : (17520, 96)\n",
      "Run 3 Mean Absolute Error: 45.13374937313199\n",
      "[[]]\n",
      "starting df shape: (87600, 96)\n",
      "This is training run 4 and has the shape:  (87600, 96)\n",
      "The value of dropped columns is 0\n"
     ]
    },
    {
     "name": "stderr",
     "output_type": "stream",
     "text": [
      "/Users/alexellard/opt/anaconda3/lib/python3.7/site-packages/xgboost/data.py:96: UserWarning: Use subset (sliced data) of np.ndarray is not recommended because it will generate extra copies and increase memory consumption\n",
      "  \"because it will generate extra copies and increase \" +\n"
     ]
    },
    {
     "name": "stdout",
     "output_type": "stream",
     "text": [
      "test y shape : (17520, 1)\n",
      "Inv y shape : (17520, 96)\n",
      "y pred shape : (17520, 1)\n",
      "inv y pred : (17520, 96)\n",
      "Run 4 Mean Absolute Error: 45.13374937313199\n",
      "[[]]\n",
      "starting df shape: (87600, 96)\n",
      "This is training run 5 and has the shape:  (87600, 96)\n",
      "The value of dropped columns is 0\n"
     ]
    },
    {
     "name": "stderr",
     "output_type": "stream",
     "text": [
      "/Users/alexellard/opt/anaconda3/lib/python3.7/site-packages/xgboost/data.py:96: UserWarning: Use subset (sliced data) of np.ndarray is not recommended because it will generate extra copies and increase memory consumption\n",
      "  \"because it will generate extra copies and increase \" +\n"
     ]
    },
    {
     "name": "stdout",
     "output_type": "stream",
     "text": [
      "test y shape : (17520, 1)\n",
      "Inv y shape : (17520, 96)\n",
      "y pred shape : (17520, 1)\n",
      "inv y pred : (17520, 96)\n",
      "Run 5 Mean Absolute Error: 45.13374937313199\n",
      "[[]]\n",
      "starting df shape: (87600, 96)\n",
      "This is training run 6 and has the shape:  (87600, 96)\n",
      "The value of dropped columns is 0\n"
     ]
    },
    {
     "name": "stderr",
     "output_type": "stream",
     "text": [
      "/Users/alexellard/opt/anaconda3/lib/python3.7/site-packages/xgboost/data.py:96: UserWarning: Use subset (sliced data) of np.ndarray is not recommended because it will generate extra copies and increase memory consumption\n",
      "  \"because it will generate extra copies and increase \" +\n"
     ]
    },
    {
     "name": "stdout",
     "output_type": "stream",
     "text": [
      "test y shape : (17520, 1)\n",
      "Inv y shape : (17520, 96)\n",
      "y pred shape : (17520, 1)\n",
      "inv y pred : (17520, 96)\n",
      "Run 6 Mean Absolute Error: 45.13374937313199\n",
      "[[]]\n",
      "starting df shape: (87600, 96)\n",
      "This is training run 7 and has the shape:  (87600, 96)\n",
      "The value of dropped columns is 0\n"
     ]
    },
    {
     "name": "stderr",
     "output_type": "stream",
     "text": [
      "/Users/alexellard/opt/anaconda3/lib/python3.7/site-packages/xgboost/data.py:96: UserWarning: Use subset (sliced data) of np.ndarray is not recommended because it will generate extra copies and increase memory consumption\n",
      "  \"because it will generate extra copies and increase \" +\n"
     ]
    },
    {
     "name": "stdout",
     "output_type": "stream",
     "text": [
      "test y shape : (17520, 1)\n",
      "Inv y shape : (17520, 96)\n",
      "y pred shape : (17520, 1)\n",
      "inv y pred : (17520, 96)\n",
      "Run 7 Mean Absolute Error: 45.13374937313199\n",
      "[[]]\n",
      "starting df shape: (87600, 96)\n",
      "This is training run 8 and has the shape:  (87600, 96)\n",
      "The value of dropped columns is 0\n"
     ]
    },
    {
     "name": "stderr",
     "output_type": "stream",
     "text": [
      "/Users/alexellard/opt/anaconda3/lib/python3.7/site-packages/xgboost/data.py:96: UserWarning: Use subset (sliced data) of np.ndarray is not recommended because it will generate extra copies and increase memory consumption\n",
      "  \"because it will generate extra copies and increase \" +\n"
     ]
    },
    {
     "name": "stdout",
     "output_type": "stream",
     "text": [
      "test y shape : (17520, 1)\n",
      "Inv y shape : (17520, 96)\n",
      "y pred shape : (17520, 1)\n",
      "inv y pred : (17520, 96)\n",
      "Run 8 Mean Absolute Error: 45.13374937313199\n",
      "[[]]\n",
      "starting df shape: (87600, 96)\n",
      "This is training run 9 and has the shape:  (87600, 96)\n",
      "The value of dropped columns is 0\n"
     ]
    },
    {
     "name": "stderr",
     "output_type": "stream",
     "text": [
      "/Users/alexellard/opt/anaconda3/lib/python3.7/site-packages/xgboost/data.py:96: UserWarning: Use subset (sliced data) of np.ndarray is not recommended because it will generate extra copies and increase memory consumption\n",
      "  \"because it will generate extra copies and increase \" +\n"
     ]
    },
    {
     "name": "stdout",
     "output_type": "stream",
     "text": [
      "test y shape : (17520, 1)\n",
      "Inv y shape : (17520, 96)\n",
      "y pred shape : (17520, 1)\n",
      "inv y pred : (17520, 96)\n",
      "Run 9 Mean Absolute Error: 45.13374937313199\n",
      "[[]]\n",
      "starting df shape: (87600, 96)\n",
      "This is training run 10 and has the shape:  (87600, 96)\n",
      "The value of dropped columns is 0\n"
     ]
    },
    {
     "name": "stderr",
     "output_type": "stream",
     "text": [
      "/Users/alexellard/opt/anaconda3/lib/python3.7/site-packages/xgboost/data.py:96: UserWarning: Use subset (sliced data) of np.ndarray is not recommended because it will generate extra copies and increase memory consumption\n",
      "  \"because it will generate extra copies and increase \" +\n"
     ]
    },
    {
     "name": "stdout",
     "output_type": "stream",
     "text": [
      "test y shape : (17520, 1)\n",
      "Inv y shape : (17520, 96)\n",
      "y pred shape : (17520, 1)\n",
      "inv y pred : (17520, 96)\n",
      "Run 10 Mean Absolute Error: 45.13374937313199\n",
      "[['node_27_pressure', 'link_23_flow', 'node_3_demand', 'node_13_pressure', 'link_19_flow']]\n",
      "starting df shape: (87600, 91)\n",
      "This is training run 1 and has the shape:  (87600, 91)\n",
      "The value of dropped columns is 5\n"
     ]
    },
    {
     "name": "stderr",
     "output_type": "stream",
     "text": [
      "/Users/alexellard/opt/anaconda3/lib/python3.7/site-packages/xgboost/data.py:96: UserWarning: Use subset (sliced data) of np.ndarray is not recommended because it will generate extra copies and increase memory consumption\n",
      "  \"because it will generate extra copies and increase \" +\n"
     ]
    },
    {
     "name": "stdout",
     "output_type": "stream",
     "text": [
      "test y shape : (17520, 1)\n",
      "Inv y shape : (17520, 91)\n",
      "y pred shape : (17520, 1)\n",
      "inv y pred : (17520, 91)\n",
      "Run 1 Mean Absolute Error: 50.51713982474999\n",
      "[['link_20_flow', 'node_22_pressure', 'node_19_demand', 'node_31_demand', 'node_19_pressure']]\n",
      "starting df shape: (87600, 91)\n",
      "This is training run 2 and has the shape:  (87600, 91)\n",
      "The value of dropped columns is 5\n"
     ]
    },
    {
     "name": "stderr",
     "output_type": "stream",
     "text": [
      "/Users/alexellard/opt/anaconda3/lib/python3.7/site-packages/xgboost/data.py:96: UserWarning: Use subset (sliced data) of np.ndarray is not recommended because it will generate extra copies and increase memory consumption\n",
      "  \"because it will generate extra copies and increase \" +\n"
     ]
    },
    {
     "name": "stdout",
     "output_type": "stream",
     "text": [
      "test y shape : (17520, 1)\n",
      "Inv y shape : (17520, 91)\n",
      "y pred shape : (17520, 1)\n",
      "inv y pred : (17520, 91)\n",
      "Run 2 Mean Absolute Error: 49.994216362966505\n",
      "[['node_25_pressure', 'link_12_flow', 'link_1_flow', 'link_3_flow', 'node_7_demand']]\n",
      "starting df shape: (87600, 91)\n",
      "This is training run 3 and has the shape:  (87600, 91)\n",
      "The value of dropped columns is 5\n"
     ]
    },
    {
     "name": "stderr",
     "output_type": "stream",
     "text": [
      "/Users/alexellard/opt/anaconda3/lib/python3.7/site-packages/xgboost/data.py:96: UserWarning: Use subset (sliced data) of np.ndarray is not recommended because it will generate extra copies and increase memory consumption\n",
      "  \"because it will generate extra copies and increase \" +\n"
     ]
    },
    {
     "name": "stdout",
     "output_type": "stream",
     "text": [
      "test y shape : (17520, 1)\n",
      "Inv y shape : (17520, 91)\n",
      "y pred shape : (17520, 1)\n",
      "inv y pred : (17520, 91)\n",
      "Run 3 Mean Absolute Error: 46.26644943795317\n",
      "[['node_11_demand', 'node_20_demand', 'node_3_demand', 'node_21_pressure', 'link_12_flow']]\n",
      "starting df shape: (87600, 91)\n",
      "This is training run 4 and has the shape:  (87600, 91)\n",
      "The value of dropped columns is 5\n"
     ]
    },
    {
     "name": "stderr",
     "output_type": "stream",
     "text": [
      "/Users/alexellard/opt/anaconda3/lib/python3.7/site-packages/xgboost/data.py:96: UserWarning: Use subset (sliced data) of np.ndarray is not recommended because it will generate extra copies and increase memory consumption\n",
      "  \"because it will generate extra copies and increase \" +\n"
     ]
    },
    {
     "name": "stdout",
     "output_type": "stream",
     "text": [
      "test y shape : (17520, 1)\n",
      "Inv y shape : (17520, 91)\n",
      "y pred shape : (17520, 1)\n",
      "inv y pred : (17520, 91)\n",
      "Run 4 Mean Absolute Error: 46.84463692634073\n",
      "[['node_28_pressure', 'node_3_demand', 'node_26_pressure', 'node_7_pressure']]\n",
      "starting df shape: (87600, 92)\n",
      "This is training run 5 and has the shape:  (87600, 92)\n",
      "The value of dropped columns is 5\n"
     ]
    },
    {
     "name": "stderr",
     "output_type": "stream",
     "text": [
      "/Users/alexellard/opt/anaconda3/lib/python3.7/site-packages/xgboost/data.py:96: UserWarning: Use subset (sliced data) of np.ndarray is not recommended because it will generate extra copies and increase memory consumption\n",
      "  \"because it will generate extra copies and increase \" +\n"
     ]
    },
    {
     "name": "stdout",
     "output_type": "stream",
     "text": [
      "test y shape : (17520, 1)\n",
      "Inv y shape : (17520, 92)\n",
      "y pred shape : (17520, 1)\n",
      "inv y pred : (17520, 92)\n",
      "Run 5 Mean Absolute Error: 47.06832732413981\n",
      "[['node_31_demand', 'link_21_flow', 'link_27_flow', 'node_13_demand', 'node_26_demand']]\n",
      "starting df shape: (87600, 91)\n",
      "This is training run 6 and has the shape:  (87600, 91)\n",
      "The value of dropped columns is 5\n"
     ]
    },
    {
     "name": "stderr",
     "output_type": "stream",
     "text": [
      "/Users/alexellard/opt/anaconda3/lib/python3.7/site-packages/xgboost/data.py:96: UserWarning: Use subset (sliced data) of np.ndarray is not recommended because it will generate extra copies and increase memory consumption\n",
      "  \"because it will generate extra copies and increase \" +\n"
     ]
    },
    {
     "name": "stdout",
     "output_type": "stream",
     "text": [
      "test y shape : (17520, 1)\n",
      "Inv y shape : (17520, 91)\n",
      "y pred shape : (17520, 1)\n",
      "inv y pred : (17520, 91)\n",
      "Run 6 Mean Absolute Error: 49.92780806342776\n",
      "[['link_17_flow', 'node_23_pressure', 'node_14_pressure', 'node_4_demand', 'node_11_demand']]\n",
      "starting df shape: (87600, 91)\n",
      "This is training run 7 and has the shape:  (87600, 91)\n",
      "The value of dropped columns is 5\n"
     ]
    },
    {
     "name": "stderr",
     "output_type": "stream",
     "text": [
      "/Users/alexellard/opt/anaconda3/lib/python3.7/site-packages/xgboost/data.py:96: UserWarning: Use subset (sliced data) of np.ndarray is not recommended because it will generate extra copies and increase memory consumption\n",
      "  \"because it will generate extra copies and increase \" +\n"
     ]
    },
    {
     "name": "stdout",
     "output_type": "stream",
     "text": [
      "test y shape : (17520, 1)\n",
      "Inv y shape : (17520, 91)\n",
      "y pred shape : (17520, 1)\n",
      "inv y pred : (17520, 91)\n",
      "Run 7 Mean Absolute Error: 49.77231170982712\n",
      "[['reservoir_demand', 'link_31_flow', 'node_27_pressure', 'node_28_pressure']]\n",
      "starting df shape: (87600, 92)\n",
      "This is training run 8 and has the shape:  (87600, 92)\n",
      "The value of dropped columns is 5\n"
     ]
    },
    {
     "name": "stderr",
     "output_type": "stream",
     "text": [
      "/Users/alexellard/opt/anaconda3/lib/python3.7/site-packages/xgboost/data.py:96: UserWarning: Use subset (sliced data) of np.ndarray is not recommended because it will generate extra copies and increase memory consumption\n",
      "  \"because it will generate extra copies and increase \" +\n"
     ]
    },
    {
     "name": "stdout",
     "output_type": "stream",
     "text": [
      "test y shape : (17520, 1)\n",
      "Inv y shape : (17520, 92)\n",
      "y pred shape : (17520, 1)\n",
      "inv y pred : (17520, 92)\n",
      "Run 8 Mean Absolute Error: 3.2599790621957565\n",
      "[['node_6_demand', 'node_4_demand', 'node_15_demand', 'node_2_pressure', 'link_13_flow']]\n",
      "starting df shape: (87600, 91)\n",
      "This is training run 9 and has the shape:  (87600, 91)\n",
      "The value of dropped columns is 5\n"
     ]
    },
    {
     "name": "stderr",
     "output_type": "stream",
     "text": [
      "/Users/alexellard/opt/anaconda3/lib/python3.7/site-packages/xgboost/data.py:96: UserWarning: Use subset (sliced data) of np.ndarray is not recommended because it will generate extra copies and increase memory consumption\n",
      "  \"because it will generate extra copies and increase \" +\n"
     ]
    },
    {
     "name": "stdout",
     "output_type": "stream",
     "text": [
      "test y shape : (17520, 1)\n",
      "Inv y shape : (17520, 91)\n",
      "y pred shape : (17520, 1)\n",
      "inv y pred : (17520, 91)\n",
      "Run 9 Mean Absolute Error: 46.16773994581509\n",
      "[['node_27_pressure', 'node_16_pressure', 'link_16_flow', 'node_7_demand']]\n",
      "starting df shape: (87600, 92)\n",
      "This is training run 10 and has the shape:  (87600, 92)\n",
      "The value of dropped columns is 5\n"
     ]
    },
    {
     "name": "stderr",
     "output_type": "stream",
     "text": [
      "/Users/alexellard/opt/anaconda3/lib/python3.7/site-packages/xgboost/data.py:96: UserWarning: Use subset (sliced data) of np.ndarray is not recommended because it will generate extra copies and increase memory consumption\n",
      "  \"because it will generate extra copies and increase \" +\n"
     ]
    },
    {
     "name": "stdout",
     "output_type": "stream",
     "text": [
      "test y shape : (17520, 1)\n",
      "Inv y shape : (17520, 92)\n",
      "y pred shape : (17520, 1)\n",
      "inv y pred : (17520, 92)\n",
      "Run 10 Mean Absolute Error: 107.65487095831234\n",
      "[['node_23_pressure', 'node_18_pressure', 'node_3_pressure', 'node_9_demand', 'node_4_demand', 'link_21_flow', 'node_26_pressure', 'link_22_flow', 'node_8_demand']]\n",
      "starting df shape: (87600, 87)\n",
      "This is training run 1 and has the shape:  (87600, 87)\n",
      "The value of dropped columns is 10\n"
     ]
    },
    {
     "name": "stderr",
     "output_type": "stream",
     "text": [
      "/Users/alexellard/opt/anaconda3/lib/python3.7/site-packages/xgboost/data.py:96: UserWarning: Use subset (sliced data) of np.ndarray is not recommended because it will generate extra copies and increase memory consumption\n",
      "  \"because it will generate extra copies and increase \" +\n"
     ]
    },
    {
     "name": "stdout",
     "output_type": "stream",
     "text": [
      "test y shape : (17520, 1)\n",
      "Inv y shape : (17520, 87)\n",
      "y pred shape : (17520, 1)\n",
      "inv y pred : (17520, 87)\n",
      "Run 1 Mean Absolute Error: 48.78785888211945\n",
      "[['node_5_demand', 'link_18_flow', 'node_8_pressure', 'node_19_demand', 'node_13_pressure', 'link_28_flow', 'node_3_demand', 'link_30_flow', 'node_2_pressure', 'node_15_pressure']]\n",
      "starting df shape: (87600, 86)\n",
      "This is training run 2 and has the shape:  (87600, 86)\n",
      "The value of dropped columns is 10\n"
     ]
    },
    {
     "name": "stderr",
     "output_type": "stream",
     "text": [
      "/Users/alexellard/opt/anaconda3/lib/python3.7/site-packages/xgboost/data.py:96: UserWarning: Use subset (sliced data) of np.ndarray is not recommended because it will generate extra copies and increase memory consumption\n",
      "  \"because it will generate extra copies and increase \" +\n"
     ]
    },
    {
     "name": "stdout",
     "output_type": "stream",
     "text": [
      "test y shape : (17520, 1)\n",
      "Inv y shape : (17520, 86)\n",
      "y pred shape : (17520, 1)\n",
      "inv y pred : (17520, 86)\n",
      "Run 2 Mean Absolute Error: 46.38350151088893\n",
      "[['node_4_pressure', 'link_24_flow', 'node_11_demand', 'node_22_pressure', 'node_22_demand', 'link_4_flow', 'link_20_flow', 'node_19_demand', 'node_17_demand', 'link_9_flow']]\n",
      "starting df shape: (87600, 86)\n",
      "This is training run 3 and has the shape:  (87600, 86)\n",
      "The value of dropped columns is 10\n"
     ]
    },
    {
     "name": "stderr",
     "output_type": "stream",
     "text": [
      "/Users/alexellard/opt/anaconda3/lib/python3.7/site-packages/xgboost/data.py:96: UserWarning: Use subset (sliced data) of np.ndarray is not recommended because it will generate extra copies and increase memory consumption\n",
      "  \"because it will generate extra copies and increase \" +\n"
     ]
    },
    {
     "name": "stdout",
     "output_type": "stream",
     "text": [
      "test y shape : (17520, 1)\n",
      "Inv y shape : (17520, 86)\n",
      "y pred shape : (17520, 1)\n",
      "inv y pred : (17520, 86)\n",
      "Run 3 Mean Absolute Error: 48.53175150899005\n",
      "[['node_10_pressure', 'reservoir_demand', 'link_12_flow', 'link_9_flow', 'node_18_pressure', 'node_31_demand', 'link_19_flow', 'node_26_pressure', 'node_29_pressure', 'node_12_demand']]\n",
      "starting df shape: (87600, 86)\n",
      "This is training run 4 and has the shape:  (87600, 86)\n",
      "The value of dropped columns is 10\n"
     ]
    },
    {
     "name": "stderr",
     "output_type": "stream",
     "text": [
      "/Users/alexellard/opt/anaconda3/lib/python3.7/site-packages/xgboost/data.py:96: UserWarning: Use subset (sliced data) of np.ndarray is not recommended because it will generate extra copies and increase memory consumption\n",
      "  \"because it will generate extra copies and increase \" +\n"
     ]
    },
    {
     "name": "stdout",
     "output_type": "stream",
     "text": [
      "test y shape : (17520, 1)\n",
      "Inv y shape : (17520, 86)\n",
      "y pred shape : (17520, 1)\n",
      "inv y pred : (17520, 86)\n",
      "Run 4 Mean Absolute Error: 2.8914186765004044\n",
      "[['node_12_pressure', 'node_26_pressure', 'link_21_flow', 'node_27_pressure', 'link_3_flow', 'reservoir_pressure', 'node_6_demand', 'node_2_pressure', 'node_8_demand', 'link_9_flow']]\n",
      "starting df shape: (87600, 86)\n",
      "This is training run 5 and has the shape:  (87600, 86)\n",
      "The value of dropped columns is 10\n"
     ]
    },
    {
     "name": "stderr",
     "output_type": "stream",
     "text": [
      "/Users/alexellard/opt/anaconda3/lib/python3.7/site-packages/xgboost/data.py:96: UserWarning: Use subset (sliced data) of np.ndarray is not recommended because it will generate extra copies and increase memory consumption\n",
      "  \"because it will generate extra copies and increase \" +\n"
     ]
    },
    {
     "name": "stdout",
     "output_type": "stream",
     "text": [
      "test y shape : (17520, 1)\n",
      "Inv y shape : (17520, 86)\n",
      "y pred shape : (17520, 1)\n",
      "inv y pred : (17520, 86)\n",
      "Run 5 Mean Absolute Error: 46.845816614553144\n",
      "[['node_14_pressure', 'node_1_demand', 'node_9_demand', 'node_11_pressure', 'node_8_pressure', 'node_18_demand', 'link_30_flow', 'node_23_demand', 'node_20_demand', 'node_24_demand']]\n",
      "starting df shape: (87600, 86)\n",
      "This is training run 6 and has the shape:  (87600, 86)\n",
      "The value of dropped columns is 10\n"
     ]
    },
    {
     "name": "stderr",
     "output_type": "stream",
     "text": [
      "/Users/alexellard/opt/anaconda3/lib/python3.7/site-packages/xgboost/data.py:96: UserWarning: Use subset (sliced data) of np.ndarray is not recommended because it will generate extra copies and increase memory consumption\n",
      "  \"because it will generate extra copies and increase \" +\n"
     ]
    },
    {
     "name": "stdout",
     "output_type": "stream",
     "text": [
      "test y shape : (17520, 1)\n",
      "Inv y shape : (17520, 86)\n",
      "y pred shape : (17520, 1)\n",
      "inv y pred : (17520, 86)\n",
      "Run 6 Mean Absolute Error: 47.01818304701596\n",
      "[['node_14_pressure', 'node_20_demand', 'node_5_pressure', 'node_22_demand', 'link_32_flow', 'node_24_demand', 'node_23_demand', 'node_12_pressure', 'node_28_pressure']]\n",
      "starting df shape: (87600, 87)\n",
      "This is training run 7 and has the shape:  (87600, 87)\n",
      "The value of dropped columns is 10\n"
     ]
    },
    {
     "name": "stderr",
     "output_type": "stream",
     "text": [
      "/Users/alexellard/opt/anaconda3/lib/python3.7/site-packages/xgboost/data.py:96: UserWarning: Use subset (sliced data) of np.ndarray is not recommended because it will generate extra copies and increase memory consumption\n",
      "  \"because it will generate extra copies and increase \" +\n"
     ]
    },
    {
     "name": "stdout",
     "output_type": "stream",
     "text": [
      "test y shape : (17520, 1)\n",
      "Inv y shape : (17520, 87)\n",
      "y pred shape : (17520, 1)\n",
      "inv y pred : (17520, 87)\n",
      "Run 7 Mean Absolute Error: 47.48427764889939\n",
      "[['node_30_demand', 'node_22_pressure', 'link_13_flow', 'node_18_pressure', 'node_24_pressure', 'node_21_demand', 'node_7_demand', 'node_17_demand', 'link_15_flow']]\n",
      "starting df shape: (87600, 87)\n",
      "This is training run 8 and has the shape:  (87600, 87)\n",
      "The value of dropped columns is 10\n"
     ]
    },
    {
     "name": "stderr",
     "output_type": "stream",
     "text": [
      "/Users/alexellard/opt/anaconda3/lib/python3.7/site-packages/xgboost/data.py:96: UserWarning: Use subset (sliced data) of np.ndarray is not recommended because it will generate extra copies and increase memory consumption\n",
      "  \"because it will generate extra copies and increase \" +\n"
     ]
    },
    {
     "name": "stdout",
     "output_type": "stream",
     "text": [
      "test y shape : (17520, 1)\n",
      "Inv y shape : (17520, 87)\n",
      "y pred shape : (17520, 1)\n",
      "inv y pred : (17520, 87)\n",
      "Run 8 Mean Absolute Error: 70.19401925204143\n",
      "[['link_18_flow', 'node_19_demand', 'node_27_pressure', 'link_19_flow', 'node_5_demand', 'node_2_pressure', 'node_11_demand', 'link_31_flow', 'node_22_demand', 'node_3_demand']]\n",
      "starting df shape: (87600, 86)\n",
      "This is training run 9 and has the shape:  (87600, 86)\n",
      "The value of dropped columns is 10\n"
     ]
    },
    {
     "name": "stderr",
     "output_type": "stream",
     "text": [
      "/Users/alexellard/opt/anaconda3/lib/python3.7/site-packages/xgboost/data.py:96: UserWarning: Use subset (sliced data) of np.ndarray is not recommended because it will generate extra copies and increase memory consumption\n",
      "  \"because it will generate extra copies and increase \" +\n"
     ]
    },
    {
     "name": "stdout",
     "output_type": "stream",
     "text": [
      "test y shape : (17520, 1)\n",
      "Inv y shape : (17520, 86)\n",
      "y pred shape : (17520, 1)\n",
      "inv y pred : (17520, 86)\n",
      "Run 9 Mean Absolute Error: 46.24418277313687\n",
      "[['node_21_demand', 'node_22_pressure', 'link_8_flow', 'node_21_pressure', 'link_1_flow', 'node_4_pressure', 'node_13_demand', 'node_26_pressure', 'link_24_flow', 'link_32_flow']]\n",
      "starting df shape: (87600, 86)\n",
      "This is training run 10 and has the shape:  (87600, 86)\n",
      "The value of dropped columns is 10\n"
     ]
    },
    {
     "name": "stderr",
     "output_type": "stream",
     "text": [
      "/Users/alexellard/opt/anaconda3/lib/python3.7/site-packages/xgboost/data.py:96: UserWarning: Use subset (sliced data) of np.ndarray is not recommended because it will generate extra copies and increase memory consumption\n",
      "  \"because it will generate extra copies and increase \" +\n"
     ]
    },
    {
     "name": "stdout",
     "output_type": "stream",
     "text": [
      "test y shape : (17520, 1)\n",
      "Inv y shape : (17520, 86)\n",
      "y pred shape : (17520, 1)\n",
      "inv y pred : (17520, 86)\n",
      "Run 10 Mean Absolute Error: 47.39889058485656\n",
      "[['node_30_demand', 'node_11_demand', 'node_26_pressure', 'node_3_pressure', 'link_29_flow', 'node_12_demand', 'node_6_pressure', 'node_26_demand', 'node_20_pressure', 'link_7_flow', 'link_18_flow', 'node_5_pressure', 'link_19_flow', 'reservoir_demand', 'node_30_pressure']]\n",
      "starting df shape: (87600, 81)\n",
      "This is training run 1 and has the shape:  (87600, 81)\n",
      "The value of dropped columns is 15\n"
     ]
    },
    {
     "name": "stderr",
     "output_type": "stream",
     "text": [
      "/Users/alexellard/opt/anaconda3/lib/python3.7/site-packages/xgboost/data.py:96: UserWarning: Use subset (sliced data) of np.ndarray is not recommended because it will generate extra copies and increase memory consumption\n",
      "  \"because it will generate extra copies and increase \" +\n"
     ]
    },
    {
     "name": "stdout",
     "output_type": "stream",
     "text": [
      "test y shape : (17520, 1)\n",
      "Inv y shape : (17520, 81)\n",
      "y pred shape : (17520, 1)\n",
      "inv y pred : (17520, 81)\n",
      "Run 1 Mean Absolute Error: 2.767810176898393\n",
      "[['link_29_flow', 'node_16_pressure', 'node_26_pressure', 'node_11_pressure', 'node_23_demand', 'node_14_demand', 'node_24_demand', 'link_17_flow', 'link_5_flow', 'node_19_demand', 'node_8_pressure', 'link_8_flow', 'node_9_demand', 'link_6_flow', 'link_7_flow']]\n",
      "starting df shape: (87600, 81)\n",
      "This is training run 2 and has the shape:  (87600, 81)\n",
      "The value of dropped columns is 15\n"
     ]
    },
    {
     "name": "stderr",
     "output_type": "stream",
     "text": [
      "/Users/alexellard/opt/anaconda3/lib/python3.7/site-packages/xgboost/data.py:96: UserWarning: Use subset (sliced data) of np.ndarray is not recommended because it will generate extra copies and increase memory consumption\n",
      "  \"because it will generate extra copies and increase \" +\n"
     ]
    },
    {
     "name": "stdout",
     "output_type": "stream",
     "text": [
      "test y shape : (17520, 1)\n",
      "Inv y shape : (17520, 81)\n",
      "y pred shape : (17520, 1)\n",
      "inv y pred : (17520, 81)\n",
      "Run 2 Mean Absolute Error: 45.17630716870264\n",
      "[['node_24_demand', 'link_14_flow', 'node_21_demand', 'node_29_pressure', 'node_5_pressure', 'node_1_pressure', 'node_23_demand', 'link_28_flow', 'node_7_demand', 'node_13_demand', 'node_4_pressure', 'link_21_flow', 'node_6_demand', 'node_24_pressure', 'link_26_flow']]\n",
      "starting df shape: (87600, 81)\n",
      "This is training run 3 and has the shape:  (87600, 81)\n",
      "The value of dropped columns is 15\n"
     ]
    },
    {
     "name": "stderr",
     "output_type": "stream",
     "text": [
      "/Users/alexellard/opt/anaconda3/lib/python3.7/site-packages/xgboost/data.py:96: UserWarning: Use subset (sliced data) of np.ndarray is not recommended because it will generate extra copies and increase memory consumption\n",
      "  \"because it will generate extra copies and increase \" +\n"
     ]
    },
    {
     "name": "stdout",
     "output_type": "stream",
     "text": [
      "test y shape : (17520, 1)\n",
      "Inv y shape : (17520, 81)\n",
      "y pred shape : (17520, 1)\n",
      "inv y pred : (17520, 81)\n",
      "Run 3 Mean Absolute Error: 45.65042368552632\n",
      "[['node_11_demand', 'node_11_pressure', 'link_23_flow', 'reservoir_pressure', 'node_14_pressure', 'node_12_demand', 'link_4_flow', 'node_26_pressure', 'node_31_pressure', 'node_4_pressure', 'link_12_flow', 'node_20_demand', 'node_6_pressure', 'link_2_flow']]\n",
      "starting df shape: (87600, 82)\n",
      "This is training run 4 and has the shape:  (87600, 82)\n",
      "The value of dropped columns is 15\n"
     ]
    },
    {
     "name": "stderr",
     "output_type": "stream",
     "text": [
      "/Users/alexellard/opt/anaconda3/lib/python3.7/site-packages/xgboost/data.py:96: UserWarning: Use subset (sliced data) of np.ndarray is not recommended because it will generate extra copies and increase memory consumption\n",
      "  \"because it will generate extra copies and increase \" +\n"
     ]
    },
    {
     "name": "stdout",
     "output_type": "stream",
     "text": [
      "test y shape : (17520, 1)\n",
      "Inv y shape : (17520, 82)\n",
      "y pred shape : (17520, 1)\n",
      "inv y pred : (17520, 82)\n",
      "Run 4 Mean Absolute Error: 47.63111440286396\n",
      "[['link_2_flow', 'node_4_pressure', 'node_28_demand', 'node_7_pressure', 'link_9_flow', 'link_6_flow', 'link_3_flow', 'node_20_demand', 'node_26_demand', 'link_31_flow', 'node_15_pressure', 'node_5_demand', 'node_21_pressure', 'link_22_flow', 'node_21_demand']]\n",
      "starting df shape: (87600, 81)\n",
      "This is training run 5 and has the shape:  (87600, 81)\n",
      "The value of dropped columns is 15\n"
     ]
    },
    {
     "name": "stderr",
     "output_type": "stream",
     "text": [
      "/Users/alexellard/opt/anaconda3/lib/python3.7/site-packages/xgboost/data.py:96: UserWarning: Use subset (sliced data) of np.ndarray is not recommended because it will generate extra copies and increase memory consumption\n",
      "  \"because it will generate extra copies and increase \" +\n"
     ]
    },
    {
     "name": "stdout",
     "output_type": "stream",
     "text": [
      "test y shape : (17520, 1)\n",
      "Inv y shape : (17520, 81)\n",
      "y pred shape : (17520, 1)\n",
      "inv y pred : (17520, 81)\n",
      "Run 5 Mean Absolute Error: 45.379815597284605\n",
      "[['link_7_flow', 'node_10_demand', 'link_30_flow', 'node_28_pressure', 'node_17_demand', 'link_24_flow', 'link_5_flow', 'link_11_flow', 'link_12_flow', 'node_3_pressure', 'link_13_flow', 'link_6_flow', 'node_31_demand', 'node_6_demand', 'link_16_flow']]\n",
      "starting df shape: (87600, 81)\n",
      "This is training run 6 and has the shape:  (87600, 81)\n",
      "The value of dropped columns is 15\n"
     ]
    },
    {
     "name": "stderr",
     "output_type": "stream",
     "text": [
      "/Users/alexellard/opt/anaconda3/lib/python3.7/site-packages/xgboost/data.py:96: UserWarning: Use subset (sliced data) of np.ndarray is not recommended because it will generate extra copies and increase memory consumption\n",
      "  \"because it will generate extra copies and increase \" +\n"
     ]
    },
    {
     "name": "stdout",
     "output_type": "stream",
     "text": [
      "test y shape : (17520, 1)\n",
      "Inv y shape : (17520, 81)\n",
      "y pred shape : (17520, 1)\n",
      "inv y pred : (17520, 81)\n",
      "Run 6 Mean Absolute Error: 127.9358958717097\n",
      "[['node_20_demand', 'node_22_pressure', 'link_14_flow', 'link_11_flow', 'node_18_demand', 'node_20_pressure', 'node_3_demand', 'link_28_flow', 'node_10_pressure', 'node_21_demand', 'link_17_flow', 'reservoir_pressure', 'node_23_demand', 'link_8_flow', 'link_1_flow']]\n",
      "starting df shape: (87600, 81)\n",
      "This is training run 7 and has the shape:  (87600, 81)\n",
      "The value of dropped columns is 15\n"
     ]
    },
    {
     "name": "stderr",
     "output_type": "stream",
     "text": [
      "/Users/alexellard/opt/anaconda3/lib/python3.7/site-packages/xgboost/data.py:96: UserWarning: Use subset (sliced data) of np.ndarray is not recommended because it will generate extra copies and increase memory consumption\n",
      "  \"because it will generate extra copies and increase \" +\n"
     ]
    },
    {
     "name": "stdout",
     "output_type": "stream",
     "text": [
      "test y shape : (17520, 1)\n",
      "Inv y shape : (17520, 81)\n",
      "y pred shape : (17520, 1)\n",
      "inv y pred : (17520, 81)\n",
      "Run 7 Mean Absolute Error: 45.66025182102573\n",
      "[['link_30_flow', 'node_3_pressure', 'link_17_flow', 'node_29_demand', 'node_4_demand', 'link_6_flow', 'node_23_pressure', 'link_5_flow', 'node_24_demand', 'link_24_flow', 'node_16_pressure', 'node_31_pressure', 'link_27_flow', 'link_8_flow', 'link_1_flow']]\n",
      "starting df shape: (87600, 81)\n",
      "This is training run 8 and has the shape:  (87600, 81)\n",
      "The value of dropped columns is 15\n"
     ]
    },
    {
     "name": "stderr",
     "output_type": "stream",
     "text": [
      "/Users/alexellard/opt/anaconda3/lib/python3.7/site-packages/xgboost/data.py:96: UserWarning: Use subset (sliced data) of np.ndarray is not recommended because it will generate extra copies and increase memory consumption\n",
      "  \"because it will generate extra copies and increase \" +\n"
     ]
    },
    {
     "name": "stdout",
     "output_type": "stream",
     "text": [
      "test y shape : (17520, 1)\n",
      "Inv y shape : (17520, 81)\n",
      "y pred shape : (17520, 1)\n",
      "inv y pred : (17520, 81)\n",
      "Run 8 Mean Absolute Error: 46.6798723956566\n",
      "[['node_10_demand', 'node_12_demand', 'node_6_demand', 'link_2_flow', 'node_9_demand', 'node_31_demand', 'link_6_flow', 'reservoir_pressure', 'node_8_pressure', 'link_14_flow', 'node_24_pressure', 'node_27_demand', 'node_17_pressure', 'node_19_pressure']]\n",
      "starting df shape: (87600, 82)\n",
      "This is training run 9 and has the shape:  (87600, 82)\n",
      "The value of dropped columns is 15\n"
     ]
    },
    {
     "name": "stderr",
     "output_type": "stream",
     "text": [
      "/Users/alexellard/opt/anaconda3/lib/python3.7/site-packages/xgboost/data.py:96: UserWarning: Use subset (sliced data) of np.ndarray is not recommended because it will generate extra copies and increase memory consumption\n",
      "  \"because it will generate extra copies and increase \" +\n"
     ]
    },
    {
     "name": "stdout",
     "output_type": "stream",
     "text": [
      "test y shape : (17520, 1)\n",
      "Inv y shape : (17520, 82)\n",
      "y pred shape : (17520, 1)\n",
      "inv y pred : (17520, 82)\n",
      "Run 9 Mean Absolute Error: 45.22059671457456\n",
      "[['link_12_flow', 'link_14_flow', 'link_26_flow', 'node_19_demand', 'node_7_pressure', 'node_1_pressure', 'node_31_demand', 'link_18_flow', 'node_5_demand', 'node_23_pressure', 'node_24_demand', 'node_12_pressure', 'node_6_pressure', 'link_16_flow', 'link_13_flow']]\n",
      "starting df shape: (87600, 81)\n",
      "This is training run 10 and has the shape:  (87600, 81)\n",
      "The value of dropped columns is 15\n"
     ]
    },
    {
     "name": "stderr",
     "output_type": "stream",
     "text": [
      "/Users/alexellard/opt/anaconda3/lib/python3.7/site-packages/xgboost/data.py:96: UserWarning: Use subset (sliced data) of np.ndarray is not recommended because it will generate extra copies and increase memory consumption\n",
      "  \"because it will generate extra copies and increase \" +\n"
     ]
    },
    {
     "name": "stdout",
     "output_type": "stream",
     "text": [
      "test y shape : (17520, 1)\n",
      "Inv y shape : (17520, 81)\n",
      "y pred shape : (17520, 1)\n",
      "inv y pred : (17520, 81)\n",
      "Run 10 Mean Absolute Error: 104.83701941502248\n",
      "[['node_10_demand', 'link_3_flow', 'link_31_flow', 'link_17_flow', 'node_13_pressure', 'link_26_flow', 'node_1_pressure', 'node_18_demand', 'node_12_demand', 'node_6_demand', 'link_21_flow', 'link_24_flow', 'node_18_pressure', 'link_19_flow', 'node_3_demand', 'node_24_demand', 'node_15_pressure', 'link_10_flow', 'node_3_pressure']]\n",
      "starting df shape: (87600, 77)\n",
      "This is training run 1 and has the shape:  (87600, 77)\n",
      "The value of dropped columns is 20\n"
     ]
    },
    {
     "name": "stderr",
     "output_type": "stream",
     "text": [
      "/Users/alexellard/opt/anaconda3/lib/python3.7/site-packages/xgboost/data.py:96: UserWarning: Use subset (sliced data) of np.ndarray is not recommended because it will generate extra copies and increase memory consumption\n",
      "  \"because it will generate extra copies and increase \" +\n"
     ]
    },
    {
     "name": "stdout",
     "output_type": "stream",
     "text": [
      "test y shape : (17520, 1)\n",
      "Inv y shape : (17520, 77)\n",
      "y pred shape : (17520, 1)\n",
      "inv y pred : (17520, 77)\n",
      "Run 1 Mean Absolute Error: 48.89693948986421\n",
      "[['reservoir_demand', 'node_22_pressure', 'node_29_pressure', 'link_14_flow', 'node_5_pressure', 'node_4_demand', 'node_15_pressure', 'link_10_flow', 'node_2_pressure', 'node_30_pressure', 'node_28_demand', 'link_16_flow', 'node_17_demand', 'link_1_flow', 'node_26_pressure', 'node_24_demand', 'node_18_demand', 'node_8_demand', 'node_10_pressure', 'node_6_pressure']]\n",
      "starting df shape: (87600, 76)\n",
      "This is training run 2 and has the shape:  (87600, 76)\n",
      "The value of dropped columns is 20\n"
     ]
    },
    {
     "name": "stderr",
     "output_type": "stream",
     "text": [
      "/Users/alexellard/opt/anaconda3/lib/python3.7/site-packages/xgboost/data.py:96: UserWarning: Use subset (sliced data) of np.ndarray is not recommended because it will generate extra copies and increase memory consumption\n",
      "  \"because it will generate extra copies and increase \" +\n"
     ]
    },
    {
     "name": "stdout",
     "output_type": "stream",
     "text": [
      "test y shape : (17520, 1)\n",
      "Inv y shape : (17520, 76)\n",
      "y pred shape : (17520, 1)\n",
      "inv y pred : (17520, 76)\n",
      "Run 2 Mean Absolute Error: 7.757271919156237\n",
      "[['node_11_demand', 'node_15_demand', 'node_3_demand', 'node_24_demand', 'node_26_demand', 'link_29_flow', 'node_10_pressure', 'link_19_flow', 'link_7_flow', 'node_8_pressure', 'node_15_pressure', 'node_5_demand', 'node_9_demand', 'node_17_pressure', 'node_9_pressure', 'link_30_flow', 'node_25_pressure', 'node_29_pressure', 'node_31_demand', 'node_24_pressure']]\n",
      "starting df shape: (87600, 76)\n",
      "This is training run 3 and has the shape:  (87600, 76)\n",
      "The value of dropped columns is 20\n"
     ]
    },
    {
     "name": "stderr",
     "output_type": "stream",
     "text": [
      "/Users/alexellard/opt/anaconda3/lib/python3.7/site-packages/xgboost/data.py:96: UserWarning: Use subset (sliced data) of np.ndarray is not recommended because it will generate extra copies and increase memory consumption\n",
      "  \"because it will generate extra copies and increase \" +\n"
     ]
    },
    {
     "name": "stdout",
     "output_type": "stream",
     "text": [
      "test y shape : (17520, 1)\n",
      "Inv y shape : (17520, 76)\n",
      "y pred shape : (17520, 1)\n",
      "inv y pred : (17520, 76)\n",
      "Run 3 Mean Absolute Error: 51.21976644401674\n",
      "[['node_2_pressure', 'node_4_pressure', 'node_12_demand', 'link_24_flow', 'link_25_flow', 'node_27_demand', 'node_20_pressure', 'node_3_demand', 'reservoir_pressure', 'link_9_flow', 'node_22_demand', 'link_21_flow', 'node_14_demand', 'node_15_demand', 'node_13_pressure', 'link_26_flow', 'link_7_flow', 'link_11_flow', 'node_8_demand', 'link_30_flow']]\n",
      "starting df shape: (87600, 76)\n",
      "This is training run 4 and has the shape:  (87600, 76)\n",
      "The value of dropped columns is 20\n"
     ]
    },
    {
     "name": "stderr",
     "output_type": "stream",
     "text": [
      "/Users/alexellard/opt/anaconda3/lib/python3.7/site-packages/xgboost/data.py:96: UserWarning: Use subset (sliced data) of np.ndarray is not recommended because it will generate extra copies and increase memory consumption\n",
      "  \"because it will generate extra copies and increase \" +\n"
     ]
    },
    {
     "name": "stdout",
     "output_type": "stream",
     "text": [
      "test y shape : (17520, 1)\n",
      "Inv y shape : (17520, 76)\n",
      "y pred shape : (17520, 1)\n",
      "inv y pred : (17520, 76)\n",
      "Run 4 Mean Absolute Error: 45.24272684872549\n",
      "[['node_7_pressure', 'node_4_demand', 'node_18_pressure', 'node_13_pressure', 'link_19_flow', 'link_2_flow', 'link_14_flow', 'node_11_pressure', 'node_25_demand', 'node_12_pressure', 'node_10_demand', 'node_3_demand', 'node_12_demand', 'node_29_pressure', 'node_10_pressure', 'link_10_flow', 'link_17_flow', 'node_27_demand', 'link_21_flow', 'link_6_flow']]\n",
      "starting df shape: (87600, 76)\n",
      "This is training run 5 and has the shape:  (87600, 76)\n",
      "The value of dropped columns is 20\n"
     ]
    },
    {
     "name": "stderr",
     "output_type": "stream",
     "text": [
      "/Users/alexellard/opt/anaconda3/lib/python3.7/site-packages/xgboost/data.py:96: UserWarning: Use subset (sliced data) of np.ndarray is not recommended because it will generate extra copies and increase memory consumption\n",
      "  \"because it will generate extra copies and increase \" +\n"
     ]
    },
    {
     "name": "stdout",
     "output_type": "stream",
     "text": [
      "test y shape : (17520, 1)\n",
      "Inv y shape : (17520, 76)\n",
      "y pred shape : (17520, 1)\n",
      "inv y pred : (17520, 76)\n",
      "Run 5 Mean Absolute Error: 50.782952874159506\n",
      "[['node_20_pressure', 'node_27_pressure', 'node_22_demand', 'link_31_flow', 'node_6_pressure', 'node_22_pressure', 'node_1_pressure', 'link_12_flow', 'node_5_demand', 'reservoir_demand', 'link_22_flow', 'node_9_demand', 'link_19_flow', 'link_14_flow', 'link_13_flow', 'node_17_pressure', 'node_30_demand', 'link_20_flow', 'node_19_pressure']]\n",
      "starting df shape: (87600, 77)\n",
      "This is training run 6 and has the shape:  (87600, 77)\n",
      "The value of dropped columns is 20\n"
     ]
    },
    {
     "name": "stderr",
     "output_type": "stream",
     "text": [
      "/Users/alexellard/opt/anaconda3/lib/python3.7/site-packages/xgboost/data.py:96: UserWarning: Use subset (sliced data) of np.ndarray is not recommended because it will generate extra copies and increase memory consumption\n",
      "  \"because it will generate extra copies and increase \" +\n"
     ]
    },
    {
     "name": "stdout",
     "output_type": "stream",
     "text": [
      "test y shape : (17520, 1)\n",
      "Inv y shape : (17520, 77)\n",
      "y pred shape : (17520, 1)\n",
      "inv y pred : (17520, 77)\n",
      "Run 6 Mean Absolute Error: 2.9218781996616645\n",
      "[['node_18_demand', 'node_9_pressure', 'node_9_demand', 'link_32_flow', 'link_11_flow', 'node_7_pressure', 'link_28_flow', 'node_30_pressure', 'link_9_flow', 'link_26_flow', 'node_29_demand', 'reservoir_pressure', 'node_12_pressure', 'node_27_demand', 'link_5_flow', 'node_17_demand', 'link_20_flow', 'node_28_pressure', 'link_30_flow', 'node_4_pressure']]\n",
      "starting df shape: (87600, 76)\n",
      "This is training run 7 and has the shape:  (87600, 76)\n",
      "The value of dropped columns is 20\n"
     ]
    },
    {
     "name": "stderr",
     "output_type": "stream",
     "text": [
      "/Users/alexellard/opt/anaconda3/lib/python3.7/site-packages/xgboost/data.py:96: UserWarning: Use subset (sliced data) of np.ndarray is not recommended because it will generate extra copies and increase memory consumption\n",
      "  \"because it will generate extra copies and increase \" +\n"
     ]
    },
    {
     "name": "stdout",
     "output_type": "stream",
     "text": [
      "test y shape : (17520, 1)\n",
      "Inv y shape : (17520, 76)\n",
      "y pred shape : (17520, 1)\n",
      "inv y pred : (17520, 76)\n",
      "Run 7 Mean Absolute Error: 45.086596300703214\n",
      "[['link_18_flow', 'node_7_demand', 'node_15_demand', 'node_13_demand', 'node_3_pressure', 'node_30_pressure', 'link_20_flow', 'node_10_demand', 'link_19_flow', 'node_18_pressure', 'node_30_demand', 'link_17_flow', 'node_18_demand', 'link_32_flow', 'link_7_flow', 'link_29_flow', 'node_20_demand', 'link_12_flow', 'link_16_flow', 'node_9_pressure']]\n",
      "starting df shape: (87600, 76)\n",
      "This is training run 8 and has the shape:  (87600, 76)\n",
      "The value of dropped columns is 20\n"
     ]
    },
    {
     "name": "stderr",
     "output_type": "stream",
     "text": [
      "/Users/alexellard/opt/anaconda3/lib/python3.7/site-packages/xgboost/data.py:96: UserWarning: Use subset (sliced data) of np.ndarray is not recommended because it will generate extra copies and increase memory consumption\n",
      "  \"because it will generate extra copies and increase \" +\n"
     ]
    },
    {
     "name": "stdout",
     "output_type": "stream",
     "text": [
      "test y shape : (17520, 1)\n",
      "Inv y shape : (17520, 76)\n",
      "y pred shape : (17520, 1)\n",
      "inv y pred : (17520, 76)\n",
      "Run 8 Mean Absolute Error: 114.64844987412907\n",
      "[['node_21_demand', 'node_26_demand', 'node_12_pressure', 'link_26_flow', 'link_15_flow', 'node_2_pressure', 'link_13_flow', 'node_27_pressure', 'node_30_demand', 'link_9_flow', 'node_18_demand', 'node_4_demand', 'node_5_demand', 'node_9_demand', 'link_18_flow', 'node_7_demand', 'node_11_pressure', 'link_21_flow', 'link_27_flow', 'link_12_flow']]\n",
      "starting df shape: (87600, 76)\n",
      "This is training run 9 and has the shape:  (87600, 76)\n",
      "The value of dropped columns is 20\n"
     ]
    },
    {
     "name": "stderr",
     "output_type": "stream",
     "text": [
      "/Users/alexellard/opt/anaconda3/lib/python3.7/site-packages/xgboost/data.py:96: UserWarning: Use subset (sliced data) of np.ndarray is not recommended because it will generate extra copies and increase memory consumption\n",
      "  \"because it will generate extra copies and increase \" +\n"
     ]
    },
    {
     "name": "stdout",
     "output_type": "stream",
     "text": [
      "test y shape : (17520, 1)\n",
      "Inv y shape : (17520, 76)\n",
      "y pred shape : (17520, 1)\n",
      "inv y pred : (17520, 76)\n",
      "Run 9 Mean Absolute Error: 74.86612527061499\n",
      "[['node_19_demand', 'link_1_flow', 'node_27_demand', 'link_30_flow', 'link_25_flow', 'node_3_demand', 'node_15_pressure', 'link_17_flow', 'link_12_flow', 'node_18_pressure', 'node_11_demand', 'node_2_pressure', 'node_11_pressure', 'node_28_pressure', 'node_21_pressure', 'node_26_demand', 'node_6_pressure', 'node_25_demand', 'reservoir_pressure']]\n",
      "starting df shape: (87600, 77)\n",
      "This is training run 10 and has the shape:  (87600, 77)\n",
      "The value of dropped columns is 20\n"
     ]
    },
    {
     "name": "stderr",
     "output_type": "stream",
     "text": [
      "/Users/alexellard/opt/anaconda3/lib/python3.7/site-packages/xgboost/data.py:96: UserWarning: Use subset (sliced data) of np.ndarray is not recommended because it will generate extra copies and increase memory consumption\n",
      "  \"because it will generate extra copies and increase \" +\n"
     ]
    },
    {
     "name": "stdout",
     "output_type": "stream",
     "text": [
      "test y shape : (17520, 1)\n",
      "Inv y shape : (17520, 77)\n",
      "y pred shape : (17520, 1)\n",
      "inv y pred : (17520, 77)\n",
      "Run 10 Mean Absolute Error: 50.655795553377395\n",
      "[['link_26_flow', 'node_25_pressure', 'link_23_flow', 'node_25_demand', 'node_8_pressure', 'node_9_demand', 'link_24_flow', 'link_6_flow', 'node_23_demand', 'link_21_flow', 'node_7_pressure', 'node_12_pressure', 'link_22_flow', 'node_24_pressure', 'node_21_pressure', 'node_1_demand', 'link_28_flow', 'node_11_pressure', 'node_5_demand', 'link_8_flow', 'node_26_pressure', 'node_20_demand', 'link_13_flow', 'node_28_demand', 'node_26_demand']]\n",
      "starting df shape: (87600, 71)\n",
      "This is training run 1 and has the shape:  (87600, 71)\n",
      "The value of dropped columns is 25\n"
     ]
    },
    {
     "name": "stderr",
     "output_type": "stream",
     "text": [
      "/Users/alexellard/opt/anaconda3/lib/python3.7/site-packages/xgboost/data.py:96: UserWarning: Use subset (sliced data) of np.ndarray is not recommended because it will generate extra copies and increase memory consumption\n",
      "  \"because it will generate extra copies and increase \" +\n"
     ]
    },
    {
     "name": "stdout",
     "output_type": "stream",
     "text": [
      "test y shape : (17520, 1)\n",
      "Inv y shape : (17520, 71)\n",
      "y pred shape : (17520, 1)\n",
      "inv y pred : (17520, 71)\n",
      "Run 1 Mean Absolute Error: 48.10944553751827\n",
      "[['link_25_flow', 'node_26_demand', 'link_20_flow', 'link_21_flow', 'node_3_demand', 'node_2_pressure', 'node_24_pressure', 'node_25_demand', 'node_26_pressure', 'link_10_flow', 'node_31_demand', 'node_22_pressure', 'node_30_demand', 'node_23_pressure', 'link_12_flow', 'link_31_flow', 'node_1_demand', 'node_5_pressure', 'node_8_demand', 'node_12_demand', 'link_30_flow', 'node_22_demand', 'node_18_pressure', 'link_22_flow']]\n",
      "starting df shape: (87600, 72)\n",
      "This is training run 2 and has the shape:  (87600, 72)\n",
      "The value of dropped columns is 25\n"
     ]
    },
    {
     "name": "stderr",
     "output_type": "stream",
     "text": [
      "/Users/alexellard/opt/anaconda3/lib/python3.7/site-packages/xgboost/data.py:96: UserWarning: Use subset (sliced data) of np.ndarray is not recommended because it will generate extra copies and increase memory consumption\n",
      "  \"because it will generate extra copies and increase \" +\n"
     ]
    },
    {
     "name": "stdout",
     "output_type": "stream",
     "text": [
      "test y shape : (17520, 1)\n",
      "Inv y shape : (17520, 72)\n",
      "y pred shape : (17520, 1)\n",
      "inv y pred : (17520, 72)\n",
      "Run 2 Mean Absolute Error: 47.87805324858334\n",
      "[['node_6_pressure', 'node_6_demand', 'node_14_pressure', 'node_12_pressure', 'link_1_flow', 'node_21_demand', 'link_11_flow', 'node_11_pressure', 'node_17_demand', 'node_13_pressure', 'node_26_pressure', 'node_14_demand', 'reservoir_demand', 'node_19_demand', 'node_30_pressure', 'link_24_flow', 'node_28_pressure', 'link_22_flow', 'node_18_pressure', 'node_25_pressure', 'node_7_pressure', 'link_16_flow', 'node_4_demand', 'node_8_pressure', 'node_31_pressure']]\n",
      "starting df shape: (87600, 71)\n",
      "This is training run 3 and has the shape:  (87600, 71)\n",
      "The value of dropped columns is 25\n"
     ]
    },
    {
     "name": "stderr",
     "output_type": "stream",
     "text": [
      "/Users/alexellard/opt/anaconda3/lib/python3.7/site-packages/xgboost/data.py:96: UserWarning: Use subset (sliced data) of np.ndarray is not recommended because it will generate extra copies and increase memory consumption\n",
      "  \"because it will generate extra copies and increase \" +\n"
     ]
    },
    {
     "name": "stdout",
     "output_type": "stream",
     "text": [
      "test y shape : (17520, 1)\n",
      "Inv y shape : (17520, 71)\n",
      "y pred shape : (17520, 1)\n",
      "inv y pred : (17520, 71)\n",
      "Run 3 Mean Absolute Error: 7.890482418585372\n",
      "[['link_31_flow', 'node_20_pressure', 'node_24_demand', 'link_10_flow', 'link_1_flow', 'node_21_demand', 'node_28_pressure', 'node_15_demand', 'node_1_demand', 'node_26_pressure', 'node_23_demand', 'node_29_demand', 'link_32_flow', 'link_19_flow', 'link_26_flow', 'node_4_demand', 'node_13_demand', 'node_8_demand', 'node_26_demand', 'node_28_demand', 'link_6_flow', 'node_31_pressure', 'link_7_flow', 'node_24_pressure', 'node_27_demand']]\n",
      "starting df shape: (87600, 71)\n",
      "This is training run 4 and has the shape:  (87600, 71)\n",
      "The value of dropped columns is 25\n"
     ]
    },
    {
     "name": "stderr",
     "output_type": "stream",
     "text": [
      "/Users/alexellard/opt/anaconda3/lib/python3.7/site-packages/xgboost/data.py:96: UserWarning: Use subset (sliced data) of np.ndarray is not recommended because it will generate extra copies and increase memory consumption\n",
      "  \"because it will generate extra copies and increase \" +\n"
     ]
    },
    {
     "name": "stdout",
     "output_type": "stream",
     "text": [
      "test y shape : (17520, 1)\n",
      "Inv y shape : (17520, 71)\n",
      "y pred shape : (17520, 1)\n",
      "inv y pred : (17520, 71)\n",
      "Run 4 Mean Absolute Error: 43.65001206864396\n",
      "[['node_15_pressure', 'node_17_demand', 'node_6_pressure', 'node_31_demand', 'link_13_flow', 'node_18_pressure', 'reservoir_pressure', 'node_11_demand', 'node_15_demand', 'link_9_flow', 'node_6_demand', 'link_4_flow', 'link_16_flow', 'node_7_pressure', 'node_9_demand', 'node_25_pressure', 'node_20_pressure', 'link_11_flow', 'node_23_demand', 'link_2_flow', 'link_6_flow', 'node_24_pressure', 'node_7_demand', 'node_13_demand']]\n",
      "starting df shape: (87600, 72)\n",
      "This is training run 5 and has the shape:  (87600, 72)\n",
      "The value of dropped columns is 25\n"
     ]
    },
    {
     "name": "stderr",
     "output_type": "stream",
     "text": [
      "/Users/alexellard/opt/anaconda3/lib/python3.7/site-packages/xgboost/data.py:96: UserWarning: Use subset (sliced data) of np.ndarray is not recommended because it will generate extra copies and increase memory consumption\n",
      "  \"because it will generate extra copies and increase \" +\n"
     ]
    },
    {
     "name": "stdout",
     "output_type": "stream",
     "text": [
      "test y shape : (17520, 1)\n",
      "Inv y shape : (17520, 72)\n",
      "y pred shape : (17520, 1)\n",
      "inv y pred : (17520, 72)\n",
      "Run 5 Mean Absolute Error: 127.26718040361712\n",
      "[['node_27_demand', 'link_8_flow', 'node_2_pressure', 'link_1_flow', 'node_14_pressure', 'node_4_demand', 'node_18_demand', 'node_2_demand', 'link_30_flow', 'link_11_flow', 'link_7_flow', 'node_11_pressure', 'node_7_demand', 'link_14_flow', 'node_12_demand', 'node_23_demand', 'node_17_demand', 'link_20_flow', 'node_9_demand', 'link_12_flow', 'link_23_flow', 'node_7_pressure', 'node_6_pressure', 'node_21_pressure', 'node_16_pressure']]\n",
      "starting df shape: (87600, 71)\n",
      "This is training run 6 and has the shape:  (87600, 71)\n",
      "The value of dropped columns is 25\n"
     ]
    },
    {
     "name": "stderr",
     "output_type": "stream",
     "text": [
      "/Users/alexellard/opt/anaconda3/lib/python3.7/site-packages/xgboost/data.py:96: UserWarning: Use subset (sliced data) of np.ndarray is not recommended because it will generate extra copies and increase memory consumption\n",
      "  \"because it will generate extra copies and increase \" +\n"
     ]
    },
    {
     "name": "stdout",
     "output_type": "stream",
     "text": [
      "test y shape : (17520, 1)\n",
      "Inv y shape : (17520, 71)\n",
      "y pred shape : (17520, 1)\n",
      "inv y pred : (17520, 71)\n",
      "Run 6 Mean Absolute Error: 43.88956207104131\n",
      "[['link_13_flow', 'node_1_pressure', 'node_3_demand', 'node_29_pressure', 'node_9_pressure', 'link_31_flow', 'link_2_flow', 'node_20_demand', 'node_4_pressure', 'node_13_demand', 'node_22_demand', 'link_11_flow', 'link_27_flow', 'node_30_demand', 'link_15_flow', 'link_4_flow', 'node_27_demand', 'node_16_pressure', 'node_23_demand', 'node_6_pressure', 'link_19_flow', 'node_5_demand', 'node_26_demand', 'link_16_flow']]\n",
      "starting df shape: (87600, 72)\n",
      "This is training run 7 and has the shape:  (87600, 72)\n",
      "The value of dropped columns is 25\n"
     ]
    },
    {
     "name": "stderr",
     "output_type": "stream",
     "text": [
      "/Users/alexellard/opt/anaconda3/lib/python3.7/site-packages/xgboost/data.py:96: UserWarning: Use subset (sliced data) of np.ndarray is not recommended because it will generate extra copies and increase memory consumption\n",
      "  \"because it will generate extra copies and increase \" +\n"
     ]
    },
    {
     "name": "stdout",
     "output_type": "stream",
     "text": [
      "test y shape : (17520, 1)\n",
      "Inv y shape : (17520, 72)\n",
      "y pred shape : (17520, 1)\n",
      "inv y pred : (17520, 72)\n",
      "Run 7 Mean Absolute Error: 128.3570662023039\n",
      "[['link_10_flow', 'node_28_demand', 'node_29_pressure', 'link_6_flow', 'node_6_pressure', 'link_5_flow', 'link_31_flow', 'node_13_pressure', 'link_20_flow', 'node_13_demand', 'node_31_pressure', 'link_24_flow', 'link_17_flow', 'node_21_pressure', 'link_27_flow', 'node_14_pressure', 'node_31_demand', 'node_4_pressure', 'node_3_pressure', 'node_5_pressure', 'link_18_flow', 'node_9_demand', 'node_22_demand', 'node_28_pressure']]\n",
      "starting df shape: (87600, 72)\n",
      "This is training run 8 and has the shape:  (87600, 72)\n",
      "The value of dropped columns is 25\n"
     ]
    },
    {
     "name": "stderr",
     "output_type": "stream",
     "text": [
      "/Users/alexellard/opt/anaconda3/lib/python3.7/site-packages/xgboost/data.py:96: UserWarning: Use subset (sliced data) of np.ndarray is not recommended because it will generate extra copies and increase memory consumption\n",
      "  \"because it will generate extra copies and increase \" +\n"
     ]
    },
    {
     "name": "stdout",
     "output_type": "stream",
     "text": [
      "test y shape : (17520, 1)\n",
      "Inv y shape : (17520, 72)\n",
      "y pred shape : (17520, 1)\n",
      "inv y pred : (17520, 72)\n",
      "Run 8 Mean Absolute Error: 46.137562044058164\n",
      "[['node_2_pressure', 'node_17_demand', 'node_25_pressure', 'node_25_demand', 'node_30_pressure', 'reservoir_demand', 'link_7_flow', 'link_21_flow', 'link_5_flow', 'node_22_pressure', 'node_14_demand', 'link_11_flow', 'node_8_pressure', 'node_23_demand', 'link_13_flow', 'node_28_pressure', 'node_16_pressure', 'node_10_pressure', 'link_27_flow', 'node_1_demand', 'node_27_pressure', 'node_17_pressure', 'node_6_pressure', 'link_6_flow', 'node_26_pressure']]\n",
      "starting df shape: (87600, 71)\n",
      "This is training run 9 and has the shape:  (87600, 71)\n",
      "The value of dropped columns is 25\n"
     ]
    },
    {
     "name": "stderr",
     "output_type": "stream",
     "text": [
      "/Users/alexellard/opt/anaconda3/lib/python3.7/site-packages/xgboost/data.py:96: UserWarning: Use subset (sliced data) of np.ndarray is not recommended because it will generate extra copies and increase memory consumption\n",
      "  \"because it will generate extra copies and increase \" +\n"
     ]
    },
    {
     "name": "stdout",
     "output_type": "stream",
     "text": [
      "test y shape : (17520, 1)\n",
      "Inv y shape : (17520, 71)\n",
      "y pred shape : (17520, 1)\n",
      "inv y pred : (17520, 71)\n",
      "Run 9 Mean Absolute Error: 2.427092572027406\n",
      "[['link_4_flow', 'link_30_flow', 'node_24_demand', 'node_12_demand', 'reservoir_pressure', 'node_24_pressure', 'node_26_pressure', 'link_13_flow', 'node_22_pressure', 'link_18_flow', 'node_28_pressure', 'link_7_flow', 'link_22_flow', 'link_20_flow', 'node_1_demand', 'node_6_pressure', 'node_25_demand', 'node_20_pressure', 'link_11_flow', 'node_2_demand', 'node_3_demand', 'node_13_demand', 'link_8_flow', 'node_10_pressure', 'node_15_pressure']]\n",
      "starting df shape: (87600, 71)\n",
      "This is training run 10 and has the shape:  (87600, 71)\n",
      "The value of dropped columns is 25\n"
     ]
    },
    {
     "name": "stderr",
     "output_type": "stream",
     "text": [
      "/Users/alexellard/opt/anaconda3/lib/python3.7/site-packages/xgboost/data.py:96: UserWarning: Use subset (sliced data) of np.ndarray is not recommended because it will generate extra copies and increase memory consumption\n",
      "  \"because it will generate extra copies and increase \" +\n"
     ]
    },
    {
     "name": "stdout",
     "output_type": "stream",
     "text": [
      "test y shape : (17520, 1)\n",
      "Inv y shape : (17520, 71)\n",
      "y pred shape : (17520, 1)\n",
      "inv y pred : (17520, 71)\n",
      "Run 10 Mean Absolute Error: 42.9131943447232\n",
      "[['link_17_flow', 'link_1_flow', 'link_22_flow', 'link_3_flow', 'node_27_demand', 'link_10_flow', 'node_3_pressure', 'node_28_pressure', 'node_29_pressure', 'node_19_demand', 'node_9_demand', 'node_7_demand', 'link_2_flow', 'node_25_pressure', 'node_11_demand', 'link_26_flow', 'node_26_pressure', 'node_18_demand', 'node_2_pressure', 'link_19_flow', 'link_8_flow', 'link_13_flow', 'link_25_flow', 'node_8_demand', 'node_10_pressure', 'node_9_pressure', 'node_4_demand', 'link_5_flow', 'link_23_flow', 'link_27_flow']]\n",
      "starting df shape: (87600, 66)\n",
      "This is training run 1 and has the shape:  (87600, 66)\n",
      "The value of dropped columns is 30\n"
     ]
    },
    {
     "name": "stderr",
     "output_type": "stream",
     "text": [
      "/Users/alexellard/opt/anaconda3/lib/python3.7/site-packages/xgboost/data.py:96: UserWarning: Use subset (sliced data) of np.ndarray is not recommended because it will generate extra copies and increase memory consumption\n",
      "  \"because it will generate extra copies and increase \" +\n"
     ]
    },
    {
     "name": "stdout",
     "output_type": "stream",
     "text": [
      "test y shape : (17520, 1)\n",
      "Inv y shape : (17520, 66)\n",
      "y pred shape : (17520, 1)\n",
      "inv y pred : (17520, 66)\n",
      "Run 1 Mean Absolute Error: 44.17338030055886\n",
      "[['link_13_flow', 'node_15_demand', 'node_2_pressure', 'link_20_flow', 'node_5_demand', 'node_20_demand', 'link_21_flow', 'node_28_demand', 'node_10_pressure', 'node_3_demand', 'node_8_pressure', 'link_22_flow', 'node_31_demand', 'link_1_flow', 'node_2_demand', 'node_18_demand', 'node_23_demand', 'node_1_pressure', 'node_27_pressure', 'node_29_demand', 'node_24_pressure', 'link_24_flow', 'node_9_demand', 'link_5_flow', 'link_6_flow', 'node_25_demand', 'link_25_flow', 'link_12_flow', 'reservoir_demand', 'node_26_demand']]\n",
      "starting df shape: (87600, 66)\n",
      "This is training run 2 and has the shape:  (87600, 66)\n",
      "The value of dropped columns is 30\n"
     ]
    },
    {
     "name": "stderr",
     "output_type": "stream",
     "text": [
      "/Users/alexellard/opt/anaconda3/lib/python3.7/site-packages/xgboost/data.py:96: UserWarning: Use subset (sliced data) of np.ndarray is not recommended because it will generate extra copies and increase memory consumption\n",
      "  \"because it will generate extra copies and increase \" +\n"
     ]
    },
    {
     "name": "stdout",
     "output_type": "stream",
     "text": [
      "test y shape : (17520, 1)\n",
      "Inv y shape : (17520, 66)\n",
      "y pred shape : (17520, 1)\n",
      "inv y pred : (17520, 66)\n",
      "Run 2 Mean Absolute Error: 2.6708830270228363\n",
      "[['node_20_pressure', 'node_8_pressure', 'link_25_flow', 'link_12_flow', 'node_20_demand', 'node_19_demand', 'node_5_demand', 'node_26_demand', 'link_3_flow', 'node_12_pressure', 'node_31_pressure', 'node_14_pressure', 'link_16_flow', 'node_23_pressure', 'node_11_pressure', 'link_11_flow', 'node_9_demand', 'node_15_pressure', 'node_7_demand', 'link_28_flow', 'link_4_flow', 'node_10_demand', 'node_25_demand', 'link_15_flow', 'node_29_demand', 'node_14_demand', 'node_28_pressure', 'node_21_pressure', 'node_27_pressure', 'node_13_demand']]\n",
      "starting df shape: (87600, 66)\n",
      "This is training run 3 and has the shape:  (87600, 66)\n",
      "The value of dropped columns is 30\n"
     ]
    },
    {
     "name": "stderr",
     "output_type": "stream",
     "text": [
      "/Users/alexellard/opt/anaconda3/lib/python3.7/site-packages/xgboost/data.py:96: UserWarning: Use subset (sliced data) of np.ndarray is not recommended because it will generate extra copies and increase memory consumption\n",
      "  \"because it will generate extra copies and increase \" +\n"
     ]
    },
    {
     "name": "stdout",
     "output_type": "stream",
     "text": [
      "test y shape : (17520, 1)\n",
      "Inv y shape : (17520, 66)\n",
      "y pred shape : (17520, 1)\n",
      "inv y pred : (17520, 66)\n",
      "Run 3 Mean Absolute Error: 125.11408552325564\n",
      "[['node_22_pressure', 'node_6_pressure', 'node_7_demand', 'link_13_flow', 'node_14_demand', 'node_11_pressure', 'link_22_flow', 'node_26_pressure', 'link_27_flow', 'node_19_pressure', 'link_15_flow', 'node_29_demand', 'node_23_demand', 'link_23_flow', 'node_3_demand', 'node_17_pressure', 'node_1_demand', 'node_10_pressure', 'node_25_pressure', 'node_21_pressure', 'link_26_flow', 'link_16_flow', 'node_15_pressure', 'node_1_pressure', 'link_10_flow', 'link_31_flow', 'node_22_demand', 'link_7_flow', 'node_4_pressure', 'link_20_flow']]\n",
      "starting df shape: (87600, 66)\n",
      "This is training run 4 and has the shape:  (87600, 66)\n",
      "The value of dropped columns is 30\n"
     ]
    },
    {
     "name": "stderr",
     "output_type": "stream",
     "text": [
      "/Users/alexellard/opt/anaconda3/lib/python3.7/site-packages/xgboost/data.py:96: UserWarning: Use subset (sliced data) of np.ndarray is not recommended because it will generate extra copies and increase memory consumption\n",
      "  \"because it will generate extra copies and increase \" +\n"
     ]
    },
    {
     "name": "stdout",
     "output_type": "stream",
     "text": [
      "test y shape : (17520, 1)\n",
      "Inv y shape : (17520, 66)\n",
      "y pred shape : (17520, 1)\n",
      "inv y pred : (17520, 66)\n",
      "Run 4 Mean Absolute Error: 128.70544980240967\n",
      "[['node_11_demand', 'node_25_pressure', 'link_7_flow', 'link_3_flow', 'link_16_flow', 'node_19_pressure', 'node_29_demand', 'node_3_demand', 'node_13_pressure', 'link_17_flow', 'node_4_demand', 'link_1_flow', 'node_30_demand', 'node_17_pressure', 'link_30_flow', 'link_21_flow', 'node_1_demand', 'link_12_flow', 'node_24_demand', 'node_10_pressure', 'link_24_flow', 'node_2_pressure', 'node_6_demand', 'node_18_demand', 'node_20_demand', 'link_23_flow', 'node_27_demand', 'node_19_demand', 'node_15_pressure', 'node_5_pressure']]\n",
      "starting df shape: (87600, 66)\n",
      "This is training run 5 and has the shape:  (87600, 66)\n",
      "The value of dropped columns is 30\n"
     ]
    },
    {
     "name": "stderr",
     "output_type": "stream",
     "text": [
      "/Users/alexellard/opt/anaconda3/lib/python3.7/site-packages/xgboost/data.py:96: UserWarning: Use subset (sliced data) of np.ndarray is not recommended because it will generate extra copies and increase memory consumption\n",
      "  \"because it will generate extra copies and increase \" +\n"
     ]
    },
    {
     "name": "stdout",
     "output_type": "stream",
     "text": [
      "test y shape : (17520, 1)\n",
      "Inv y shape : (17520, 66)\n",
      "y pred shape : (17520, 1)\n",
      "inv y pred : (17520, 66)\n",
      "Run 5 Mean Absolute Error: 105.32307095741358\n",
      "[['link_16_flow', 'link_6_flow', 'node_28_pressure', 'node_28_demand', 'node_5_pressure', 'link_18_flow', 'node_25_pressure', 'node_29_demand', 'node_22_pressure', 'node_11_demand', 'node_30_demand', 'node_8_pressure', 'node_26_pressure', 'node_7_pressure', 'link_30_flow', 'node_12_demand', 'link_5_flow', 'link_32_flow', 'node_17_pressure', 'link_28_flow', 'link_31_flow', 'link_11_flow', 'node_16_pressure', 'node_19_pressure', 'link_9_flow', 'node_7_demand', 'link_12_flow', 'link_20_flow', 'link_10_flow', 'node_6_demand']]\n",
      "starting df shape: (87600, 66)\n",
      "This is training run 6 and has the shape:  (87600, 66)\n",
      "The value of dropped columns is 30\n"
     ]
    },
    {
     "name": "stderr",
     "output_type": "stream",
     "text": [
      "/Users/alexellard/opt/anaconda3/lib/python3.7/site-packages/xgboost/data.py:96: UserWarning: Use subset (sliced data) of np.ndarray is not recommended because it will generate extra copies and increase memory consumption\n",
      "  \"because it will generate extra copies and increase \" +\n"
     ]
    },
    {
     "name": "stdout",
     "output_type": "stream",
     "text": [
      "test y shape : (17520, 1)\n",
      "Inv y shape : (17520, 66)\n",
      "y pred shape : (17520, 1)\n",
      "inv y pred : (17520, 66)\n",
      "Run 6 Mean Absolute Error: 108.81184924287933\n",
      "[['link_7_flow', 'link_23_flow', 'node_11_demand', 'node_30_demand', 'link_10_flow', 'link_20_flow', 'node_24_pressure', 'node_23_demand', 'node_7_pressure', 'node_7_demand', 'node_15_demand', 'link_29_flow', 'link_15_flow', 'node_28_demand', 'node_25_demand', 'link_22_flow', 'node_16_pressure', 'node_21_pressure', 'link_1_flow', 'node_13_pressure', 'node_19_demand', 'node_1_demand', 'node_22_pressure', 'link_6_flow', 'node_12_demand', 'node_2_pressure', 'link_3_flow', 'node_10_demand', 'node_19_pressure']]\n",
      "starting df shape: (87600, 67)\n",
      "This is training run 7 and has the shape:  (87600, 67)\n",
      "The value of dropped columns is 30\n"
     ]
    },
    {
     "name": "stderr",
     "output_type": "stream",
     "text": [
      "/Users/alexellard/opt/anaconda3/lib/python3.7/site-packages/xgboost/data.py:96: UserWarning: Use subset (sliced data) of np.ndarray is not recommended because it will generate extra copies and increase memory consumption\n",
      "  \"because it will generate extra copies and increase \" +\n"
     ]
    },
    {
     "name": "stdout",
     "output_type": "stream",
     "text": [
      "test y shape : (17520, 1)\n",
      "Inv y shape : (17520, 67)\n",
      "y pred shape : (17520, 1)\n",
      "inv y pred : (17520, 67)\n",
      "Run 7 Mean Absolute Error: 79.59905519270026\n",
      "[['node_24_demand', 'node_14_demand', 'node_28_pressure', 'node_26_pressure', 'link_26_flow', 'link_5_flow', 'link_28_flow', 'node_24_pressure', 'node_26_demand', 'node_7_demand', 'node_17_demand', 'node_30_demand', 'link_30_flow', 'node_25_demand', 'link_29_flow', 'link_14_flow', 'node_10_pressure', 'node_6_demand', 'node_2_demand', 'node_20_pressure', 'node_4_demand', 'node_5_demand', 'node_25_pressure', 'node_15_pressure', 'link_19_flow', 'node_27_demand', 'node_17_pressure', 'node_19_demand', 'link_20_flow', 'node_3_pressure']]\n",
      "starting df shape: (87600, 66)\n",
      "This is training run 8 and has the shape:  (87600, 66)\n",
      "The value of dropped columns is 30\n"
     ]
    },
    {
     "name": "stderr",
     "output_type": "stream",
     "text": [
      "/Users/alexellard/opt/anaconda3/lib/python3.7/site-packages/xgboost/data.py:96: UserWarning: Use subset (sliced data) of np.ndarray is not recommended because it will generate extra copies and increase memory consumption\n",
      "  \"because it will generate extra copies and increase \" +\n"
     ]
    },
    {
     "name": "stdout",
     "output_type": "stream",
     "text": [
      "test y shape : (17520, 1)\n",
      "Inv y shape : (17520, 66)\n",
      "y pred shape : (17520, 1)\n",
      "inv y pred : (17520, 66)\n",
      "Run 8 Mean Absolute Error: 45.116313611607474\n",
      "[['link_12_flow', 'link_7_flow', 'node_24_pressure', 'node_27_demand', 'node_11_demand', 'node_11_pressure', 'node_15_demand', 'node_14_pressure', 'node_21_pressure', 'node_30_demand', 'node_20_pressure', 'node_5_pressure', 'node_12_pressure', 'reservoir_demand', 'node_1_pressure', 'node_8_demand', 'link_24_flow', 'link_13_flow', 'node_2_pressure', 'node_15_pressure', 'node_3_demand', 'node_6_demand', 'node_20_demand', 'node_4_pressure', 'node_23_demand', 'link_10_flow', 'node_27_pressure', 'node_13_pressure', 'link_28_flow', 'link_30_flow']]\n",
      "starting df shape: (87600, 66)\n",
      "This is training run 9 and has the shape:  (87600, 66)\n",
      "The value of dropped columns is 30\n"
     ]
    },
    {
     "name": "stderr",
     "output_type": "stream",
     "text": [
      "/Users/alexellard/opt/anaconda3/lib/python3.7/site-packages/xgboost/data.py:96: UserWarning: Use subset (sliced data) of np.ndarray is not recommended because it will generate extra copies and increase memory consumption\n",
      "  \"because it will generate extra copies and increase \" +\n"
     ]
    },
    {
     "name": "stdout",
     "output_type": "stream",
     "text": [
      "test y shape : (17520, 1)\n",
      "Inv y shape : (17520, 66)\n",
      "y pred shape : (17520, 1)\n",
      "inv y pred : (17520, 66)\n",
      "Run 9 Mean Absolute Error: 2.8710037321693247\n",
      "[['link_16_flow', 'node_7_pressure', 'node_17_demand', 'node_13_demand', 'link_29_flow', 'node_21_demand', 'node_23_pressure', 'node_9_pressure', 'link_21_flow', 'link_23_flow', 'link_30_flow', 'node_20_pressure', 'node_24_pressure', 'link_9_flow', 'link_1_flow', 'link_19_flow', 'link_10_flow', 'node_4_demand', 'node_29_demand', 'node_25_demand', 'link_26_flow', 'node_6_demand', 'node_31_demand', 'node_28_pressure', 'node_15_demand', 'node_2_demand', 'link_4_flow', 'node_4_pressure', 'link_8_flow', 'node_15_pressure']]\n",
      "starting df shape: (87600, 66)\n",
      "This is training run 10 and has the shape:  (87600, 66)\n",
      "The value of dropped columns is 30\n"
     ]
    },
    {
     "name": "stderr",
     "output_type": "stream",
     "text": [
      "/Users/alexellard/opt/anaconda3/lib/python3.7/site-packages/xgboost/data.py:96: UserWarning: Use subset (sliced data) of np.ndarray is not recommended because it will generate extra copies and increase memory consumption\n",
      "  \"because it will generate extra copies and increase \" +\n"
     ]
    },
    {
     "name": "stdout",
     "output_type": "stream",
     "text": [
      "test y shape : (17520, 1)\n",
      "Inv y shape : (17520, 66)\n",
      "y pred shape : (17520, 1)\n",
      "inv y pred : (17520, 66)\n",
      "Run 10 Mean Absolute Error: 128.19420930863959\n",
      "[['node_17_demand', 'node_2_pressure', 'node_22_demand', 'link_19_flow', 'node_21_demand', 'node_2_demand', 'node_27_demand', 'node_10_demand', 'link_11_flow', 'node_12_pressure', 'node_11_pressure', 'node_30_demand', 'link_15_flow', 'node_21_pressure', 'link_10_flow', 'link_24_flow', 'node_1_demand', 'link_2_flow', 'link_21_flow', 'node_25_demand', 'node_1_pressure', 'node_22_pressure', 'node_18_pressure', 'node_3_pressure', 'node_14_demand', 'link_17_flow', 'link_12_flow', 'node_12_demand', 'node_23_demand', 'node_19_pressure', 'node_18_demand', 'link_4_flow', 'node_14_pressure', 'node_28_pressure']]\n",
      "starting df shape: (87600, 62)\n",
      "This is training run 1 and has the shape:  (87600, 62)\n",
      "The value of dropped columns is 35\n"
     ]
    },
    {
     "name": "stderr",
     "output_type": "stream",
     "text": [
      "/Users/alexellard/opt/anaconda3/lib/python3.7/site-packages/xgboost/data.py:96: UserWarning: Use subset (sliced data) of np.ndarray is not recommended because it will generate extra copies and increase memory consumption\n",
      "  \"because it will generate extra copies and increase \" +\n"
     ]
    },
    {
     "name": "stdout",
     "output_type": "stream",
     "text": [
      "test y shape : (17520, 1)\n",
      "Inv y shape : (17520, 62)\n",
      "y pred shape : (17520, 1)\n",
      "inv y pred : (17520, 62)\n",
      "Run 1 Mean Absolute Error: 73.53680280946574\n",
      "[['link_5_flow', 'link_24_flow', 'link_30_flow', 'node_20_pressure', 'node_13_demand', 'link_17_flow', 'node_22_pressure', 'node_3_demand', 'node_8_pressure', 'link_2_flow', 'node_18_pressure', 'link_28_flow', 'link_12_flow', 'node_8_demand', 'link_26_flow', 'link_9_flow', 'node_12_pressure', 'node_21_demand', 'link_10_flow', 'node_29_demand', 'reservoir_demand', 'node_17_pressure', 'node_11_demand', 'node_7_demand', 'reservoir_pressure', 'link_27_flow', 'node_15_pressure', 'node_2_pressure', 'node_24_demand', 'link_3_flow', 'node_23_demand', 'link_25_flow', 'node_26_demand', 'node_5_pressure']]\n",
      "starting df shape: (87600, 62)\n",
      "This is training run 2 and has the shape:  (87600, 62)\n",
      "The value of dropped columns is 35\n"
     ]
    },
    {
     "name": "stderr",
     "output_type": "stream",
     "text": [
      "/Users/alexellard/opt/anaconda3/lib/python3.7/site-packages/xgboost/data.py:96: UserWarning: Use subset (sliced data) of np.ndarray is not recommended because it will generate extra copies and increase memory consumption\n",
      "  \"because it will generate extra copies and increase \" +\n"
     ]
    },
    {
     "name": "stdout",
     "output_type": "stream",
     "text": [
      "test y shape : (17520, 1)\n",
      "Inv y shape : (17520, 62)\n",
      "y pred shape : (17520, 1)\n",
      "inv y pred : (17520, 62)\n",
      "Run 2 Mean Absolute Error: 2.8810566287850867\n",
      "[['node_6_demand', 'link_11_flow', 'node_3_pressure', 'node_10_demand', 'link_8_flow', 'reservoir_pressure', 'node_12_demand', 'node_31_pressure', 'node_26_pressure', 'link_9_flow', 'node_2_demand', 'link_18_flow', 'node_4_demand', 'link_14_flow', 'node_8_demand', 'link_19_flow', 'node_2_pressure', 'node_26_demand', 'node_22_demand', 'node_30_pressure', 'node_24_demand', 'node_23_pressure', 'node_18_pressure', 'node_21_pressure', 'link_13_flow', 'link_25_flow', 'node_22_pressure', 'link_30_flow', 'node_18_demand', 'node_29_demand', 'node_24_pressure', 'link_2_flow', 'node_7_demand', 'reservoir_demand']]\n",
      "starting df shape: (87600, 62)\n",
      "This is training run 3 and has the shape:  (87600, 62)\n",
      "The value of dropped columns is 35\n"
     ]
    },
    {
     "name": "stderr",
     "output_type": "stream",
     "text": [
      "/Users/alexellard/opt/anaconda3/lib/python3.7/site-packages/xgboost/data.py:96: UserWarning: Use subset (sliced data) of np.ndarray is not recommended because it will generate extra copies and increase memory consumption\n",
      "  \"because it will generate extra copies and increase \" +\n"
     ]
    },
    {
     "name": "stdout",
     "output_type": "stream",
     "text": [
      "test y shape : (17520, 1)\n",
      "Inv y shape : (17520, 62)\n",
      "y pred shape : (17520, 1)\n",
      "inv y pred : (17520, 62)\n",
      "Run 3 Mean Absolute Error: 2.8977397473975826\n",
      "[['node_22_demand', 'node_29_pressure', 'link_11_flow', 'node_8_pressure', 'node_10_pressure', 'node_1_demand', 'node_2_pressure', 'node_8_demand', 'link_30_flow', 'node_3_pressure', 'node_6_demand', 'node_23_pressure', 'node_5_pressure', 'link_32_flow', 'node_28_pressure', 'reservoir_demand', 'link_8_flow', 'link_13_flow', 'reservoir_pressure', 'link_18_flow', 'link_25_flow', 'link_7_flow', 'node_10_demand', 'link_5_flow', 'node_9_pressure', 'node_26_demand', 'node_27_demand', 'link_14_flow', 'node_27_pressure', 'node_25_pressure', 'node_22_pressure', 'node_28_demand', 'link_31_flow', 'node_30_pressure', 'node_11_demand']]\n",
      "starting df shape: (87600, 61)\n",
      "This is training run 4 and has the shape:  (87600, 61)\n",
      "The value of dropped columns is 35\n"
     ]
    },
    {
     "name": "stderr",
     "output_type": "stream",
     "text": [
      "/Users/alexellard/opt/anaconda3/lib/python3.7/site-packages/xgboost/data.py:96: UserWarning: Use subset (sliced data) of np.ndarray is not recommended because it will generate extra copies and increase memory consumption\n",
      "  \"because it will generate extra copies and increase \" +\n"
     ]
    },
    {
     "name": "stdout",
     "output_type": "stream",
     "text": [
      "test y shape : (17520, 1)\n",
      "Inv y shape : (17520, 61)\n",
      "y pred shape : (17520, 1)\n",
      "inv y pred : (17520, 61)\n",
      "Run 4 Mean Absolute Error: 2.353172393983111\n",
      "[['node_15_demand', 'node_22_pressure', 'link_15_flow', 'node_29_demand', 'node_6_demand', 'node_4_demand', 'link_25_flow', 'node_2_demand', 'link_11_flow', 'link_20_flow', 'link_27_flow', 'link_13_flow', 'node_30_pressure', 'node_30_demand', 'link_3_flow', 'link_12_flow', 'link_29_flow', 'link_1_flow', 'reservoir_demand', 'node_7_demand', 'link_5_flow', 'node_12_pressure', 'node_14_demand', 'node_6_pressure', 'link_23_flow', 'link_22_flow', 'node_8_pressure', 'node_1_pressure', 'link_18_flow', 'link_4_flow', 'node_20_pressure', 'node_29_pressure', 'link_28_flow', 'node_27_pressure', 'node_14_pressure']]\n",
      "starting df shape: (87600, 61)\n",
      "This is training run 5 and has the shape:  (87600, 61)\n",
      "The value of dropped columns is 35\n"
     ]
    },
    {
     "name": "stderr",
     "output_type": "stream",
     "text": [
      "/Users/alexellard/opt/anaconda3/lib/python3.7/site-packages/xgboost/data.py:96: UserWarning: Use subset (sliced data) of np.ndarray is not recommended because it will generate extra copies and increase memory consumption\n",
      "  \"because it will generate extra copies and increase \" +\n"
     ]
    },
    {
     "name": "stdout",
     "output_type": "stream",
     "text": [
      "test y shape : (17520, 1)\n",
      "Inv y shape : (17520, 61)\n",
      "y pred shape : (17520, 1)\n",
      "inv y pred : (17520, 61)\n",
      "Run 5 Mean Absolute Error: 4.721057026547689\n",
      "[['link_10_flow', 'node_8_demand', 'link_29_flow', 'link_18_flow', 'node_13_demand', 'link_31_flow', 'link_23_flow', 'node_16_pressure', 'node_25_pressure', 'node_23_demand', 'node_5_demand', 'node_12_pressure', 'reservoir_demand', 'node_10_pressure', 'node_23_pressure', 'node_4_demand', 'link_24_flow', 'node_2_pressure', 'node_22_pressure', 'link_20_flow', 'node_21_pressure', 'node_20_demand', 'link_15_flow', 'node_24_pressure', 'link_17_flow', 'node_29_pressure', 'node_11_pressure', 'node_28_demand', 'link_3_flow', 'link_9_flow', 'node_29_demand', 'node_24_demand', 'link_25_flow', 'link_5_flow', 'node_1_pressure']]\n",
      "starting df shape: (87600, 61)\n",
      "This is training run 6 and has the shape:  (87600, 61)\n",
      "The value of dropped columns is 35\n"
     ]
    },
    {
     "name": "stderr",
     "output_type": "stream",
     "text": [
      "/Users/alexellard/opt/anaconda3/lib/python3.7/site-packages/xgboost/data.py:96: UserWarning: Use subset (sliced data) of np.ndarray is not recommended because it will generate extra copies and increase memory consumption\n",
      "  \"because it will generate extra copies and increase \" +\n"
     ]
    },
    {
     "name": "stdout",
     "output_type": "stream",
     "text": [
      "test y shape : (17520, 1)\n",
      "Inv y shape : (17520, 61)\n",
      "y pred shape : (17520, 1)\n",
      "inv y pred : (17520, 61)\n",
      "Run 6 Mean Absolute Error: 4.485107599007093\n",
      "[['node_29_demand', 'link_15_flow', 'link_17_flow', 'node_21_pressure', 'node_16_pressure', 'node_12_pressure', 'link_25_flow', 'link_1_flow', 'link_10_flow', 'node_15_pressure', 'link_19_flow', 'reservoir_pressure', 'node_30_demand', 'node_4_pressure', 'node_6_demand', 'link_27_flow', 'node_31_demand', 'node_30_pressure', 'link_13_flow', 'node_14_pressure', 'node_2_pressure', 'node_7_demand', 'link_28_flow', 'link_26_flow', 'node_3_demand', 'node_13_demand', 'node_18_pressure', 'reservoir_demand', 'link_24_flow', 'node_31_pressure', 'link_4_flow', 'node_11_demand', 'node_17_demand', 'node_7_pressure']]\n",
      "starting df shape: (87600, 62)\n",
      "This is training run 7 and has the shape:  (87600, 62)\n",
      "The value of dropped columns is 35\n"
     ]
    },
    {
     "name": "stderr",
     "output_type": "stream",
     "text": [
      "/Users/alexellard/opt/anaconda3/lib/python3.7/site-packages/xgboost/data.py:96: UserWarning: Use subset (sliced data) of np.ndarray is not recommended because it will generate extra copies and increase memory consumption\n",
      "  \"because it will generate extra copies and increase \" +\n"
     ]
    },
    {
     "name": "stdout",
     "output_type": "stream",
     "text": [
      "test y shape : (17520, 1)\n",
      "Inv y shape : (17520, 62)\n",
      "y pred shape : (17520, 1)\n",
      "inv y pred : (17520, 62)\n",
      "Run 7 Mean Absolute Error: 4.705433762686569\n",
      "[['node_23_demand', 'node_2_demand', 'node_15_pressure', 'node_31_demand', 'node_18_pressure', 'link_20_flow', 'link_3_flow', 'link_4_flow', 'node_20_demand', 'node_8_pressure', 'node_7_pressure', 'node_25_demand', 'node_4_demand', 'node_8_demand', 'node_12_pressure', 'link_26_flow', 'link_29_flow', 'node_3_pressure', 'node_11_demand', 'node_13_pressure', 'node_28_demand', 'node_5_demand', 'node_30_pressure', 'link_11_flow', 'link_6_flow', 'link_27_flow', 'link_17_flow', 'node_6_demand', 'node_20_pressure', 'reservoir_demand', 'link_12_flow', 'node_9_pressure', 'node_10_pressure', 'node_14_demand', 'node_18_demand']]\n",
      "starting df shape: (87600, 61)\n",
      "This is training run 8 and has the shape:  (87600, 61)\n",
      "The value of dropped columns is 35\n"
     ]
    },
    {
     "name": "stderr",
     "output_type": "stream",
     "text": [
      "/Users/alexellard/opt/anaconda3/lib/python3.7/site-packages/xgboost/data.py:96: UserWarning: Use subset (sliced data) of np.ndarray is not recommended because it will generate extra copies and increase memory consumption\n",
      "  \"because it will generate extra copies and increase \" +\n"
     ]
    },
    {
     "name": "stdout",
     "output_type": "stream",
     "text": [
      "test y shape : (17520, 1)\n",
      "Inv y shape : (17520, 61)\n",
      "y pred shape : (17520, 1)\n",
      "inv y pred : (17520, 61)\n",
      "Run 8 Mean Absolute Error: 2.7565706460603527\n",
      "[['node_29_demand', 'link_15_flow', 'node_30_pressure', 'link_1_flow', 'node_27_pressure', 'node_29_pressure', 'node_10_demand', 'link_8_flow', 'node_8_demand', 'link_31_flow', 'node_14_pressure', 'link_22_flow', 'node_30_demand', 'link_10_flow', 'node_26_pressure', 'node_21_pressure', 'reservoir_pressure', 'link_2_flow', 'link_18_flow', 'node_19_pressure', 'node_24_pressure', 'node_1_demand', 'link_3_flow', 'node_31_pressure', 'node_23_demand', 'node_26_demand', 'node_10_pressure', 'link_16_flow', 'node_11_pressure', 'link_6_flow', 'reservoir_demand', 'node_25_demand', 'link_30_flow', 'node_11_demand']]\n",
      "starting df shape: (87600, 62)\n",
      "This is training run 9 and has the shape:  (87600, 62)\n",
      "The value of dropped columns is 35\n"
     ]
    },
    {
     "name": "stderr",
     "output_type": "stream",
     "text": [
      "/Users/alexellard/opt/anaconda3/lib/python3.7/site-packages/xgboost/data.py:96: UserWarning: Use subset (sliced data) of np.ndarray is not recommended because it will generate extra copies and increase memory consumption\n",
      "  \"because it will generate extra copies and increase \" +\n"
     ]
    },
    {
     "name": "stdout",
     "output_type": "stream",
     "text": [
      "test y shape : (17520, 1)\n",
      "Inv y shape : (17520, 62)\n",
      "y pred shape : (17520, 1)\n",
      "inv y pred : (17520, 62)\n",
      "Run 9 Mean Absolute Error: 6.897450433732831\n",
      "[['link_10_flow', 'link_8_flow', 'node_27_pressure', 'link_15_flow', 'node_24_pressure', 'link_24_flow', 'link_23_flow', 'node_8_demand', 'node_11_demand', 'node_3_pressure', 'node_12_pressure', 'node_22_demand', 'node_20_pressure', 'node_18_demand', 'link_9_flow', 'node_2_pressure', 'node_9_demand', 'node_29_demand', 'node_29_pressure', 'node_26_demand', 'node_1_pressure', 'node_10_demand', 'node_30_demand', 'node_28_demand', 'node_11_pressure', 'node_18_pressure', 'node_5_pressure', 'link_16_flow', 'node_15_demand', 'link_18_flow', 'node_7_pressure', 'link_17_flow', 'link_30_flow', 'node_12_demand', 'link_1_flow']]\n",
      "starting df shape: (87600, 61)\n",
      "This is training run 10 and has the shape:  (87600, 61)\n",
      "The value of dropped columns is 35\n"
     ]
    },
    {
     "name": "stderr",
     "output_type": "stream",
     "text": [
      "/Users/alexellard/opt/anaconda3/lib/python3.7/site-packages/xgboost/data.py:96: UserWarning: Use subset (sliced data) of np.ndarray is not recommended because it will generate extra copies and increase memory consumption\n",
      "  \"because it will generate extra copies and increase \" +\n"
     ]
    },
    {
     "name": "stdout",
     "output_type": "stream",
     "text": [
      "test y shape : (17520, 1)\n",
      "Inv y shape : (17520, 61)\n",
      "y pred shape : (17520, 1)\n",
      "inv y pred : (17520, 61)\n",
      "Run 10 Mean Absolute Error: 149.07095888337193\n",
      "[['link_30_flow', 'node_14_pressure', 'node_4_demand', 'link_25_flow', 'link_3_flow', 'node_17_demand', 'node_12_pressure', 'link_22_flow', 'node_4_pressure', 'node_19_demand', 'node_12_demand', 'link_15_flow', 'node_23_demand', 'node_11_demand', 'node_16_pressure', 'link_8_flow', 'reservoir_demand', 'node_23_pressure', 'node_8_demand', 'link_24_flow', 'node_26_pressure', 'link_17_flow', 'link_31_flow', 'link_11_flow', 'link_26_flow', 'link_29_flow', 'node_20_demand', 'node_13_demand', 'node_27_pressure', 'link_19_flow', 'node_1_demand', 'link_14_flow', 'node_29_pressure', 'node_24_pressure', 'node_3_pressure', 'node_21_demand', 'link_2_flow', 'link_5_flow', 'node_27_demand']]\n",
      "starting df shape: (87600, 57)\n",
      "This is training run 1 and has the shape:  (87600, 57)\n",
      "The value of dropped columns is 40\n"
     ]
    },
    {
     "name": "stderr",
     "output_type": "stream",
     "text": [
      "/Users/alexellard/opt/anaconda3/lib/python3.7/site-packages/xgboost/data.py:96: UserWarning: Use subset (sliced data) of np.ndarray is not recommended because it will generate extra copies and increase memory consumption\n",
      "  \"because it will generate extra copies and increase \" +\n"
     ]
    },
    {
     "name": "stdout",
     "output_type": "stream",
     "text": [
      "test y shape : (17520, 1)\n",
      "Inv y shape : (17520, 57)\n",
      "y pred shape : (17520, 1)\n",
      "inv y pred : (17520, 57)\n",
      "Run 1 Mean Absolute Error: 4.244495203366511\n",
      "[['node_28_demand', 'link_15_flow', 'node_13_pressure', 'link_32_flow', 'node_23_demand', 'node_14_pressure', 'link_30_flow', 'node_17_demand', 'link_12_flow', 'link_31_flow', 'node_17_pressure', 'node_29_demand', 'node_22_pressure', 'node_19_pressure', 'link_7_flow', 'node_24_demand', 'node_7_demand', 'reservoir_demand', 'node_15_demand', 'node_18_demand', 'node_20_demand', 'link_8_flow', 'reservoir_pressure', 'link_24_flow', 'node_8_pressure', 'link_4_flow', 'link_16_flow', 'node_12_demand', 'node_7_pressure', 'node_8_demand', 'node_2_demand', 'link_11_flow', 'node_18_pressure', 'link_9_flow', 'node_25_demand', 'link_1_flow', 'node_1_pressure', 'node_13_demand', 'link_26_flow']]\n",
      "starting df shape: (87600, 57)\n",
      "This is training run 2 and has the shape:  (87600, 57)\n",
      "The value of dropped columns is 40\n"
     ]
    },
    {
     "name": "stderr",
     "output_type": "stream",
     "text": [
      "/Users/alexellard/opt/anaconda3/lib/python3.7/site-packages/xgboost/data.py:96: UserWarning: Use subset (sliced data) of np.ndarray is not recommended because it will generate extra copies and increase memory consumption\n",
      "  \"because it will generate extra copies and increase \" +\n"
     ]
    },
    {
     "name": "stdout",
     "output_type": "stream",
     "text": [
      "test y shape : (17520, 1)\n",
      "Inv y shape : (17520, 57)\n",
      "y pred shape : (17520, 1)\n",
      "inv y pred : (17520, 57)\n",
      "Run 2 Mean Absolute Error: 9.69588763760988\n",
      "[['link_22_flow', 'node_25_demand', 'link_2_flow', 'node_31_pressure', 'node_27_demand', 'node_6_pressure', 'node_22_demand', 'node_9_pressure', 'node_24_demand', 'link_3_flow', 'node_16_pressure', 'node_8_demand', 'link_10_flow', 'node_5_pressure', 'node_1_demand', 'link_4_flow', 'node_17_pressure', 'link_32_flow', 'link_15_flow', 'link_31_flow', 'node_21_pressure', 'node_18_pressure', 'node_28_pressure', 'link_19_flow', 'reservoir_pressure', 'link_8_flow', 'node_4_demand', 'node_7_pressure', 'node_26_pressure', 'link_23_flow', 'node_23_pressure', 'node_29_pressure', 'node_29_demand', 'link_11_flow', 'node_22_pressure', 'node_10_pressure', 'link_1_flow', 'link_28_flow', 'node_28_demand', 'link_20_flow']]\n",
      "starting df shape: (87600, 56)\n",
      "This is training run 3 and has the shape:  (87600, 56)\n",
      "The value of dropped columns is 40\n"
     ]
    },
    {
     "name": "stderr",
     "output_type": "stream",
     "text": [
      "/Users/alexellard/opt/anaconda3/lib/python3.7/site-packages/xgboost/data.py:96: UserWarning: Use subset (sliced data) of np.ndarray is not recommended because it will generate extra copies and increase memory consumption\n",
      "  \"because it will generate extra copies and increase \" +\n"
     ]
    },
    {
     "name": "stdout",
     "output_type": "stream",
     "text": [
      "test y shape : (17520, 1)\n",
      "Inv y shape : (17520, 56)\n",
      "y pred shape : (17520, 1)\n",
      "inv y pred : (17520, 56)\n",
      "Run 3 Mean Absolute Error: 71.99659214891847\n",
      "[['reservoir_pressure', 'node_23_pressure', 'node_11_pressure', 'node_20_demand', 'node_11_demand', 'node_21_pressure', 'node_8_demand', 'link_31_flow', 'link_26_flow', 'node_6_demand', 'link_8_flow', 'node_4_pressure', 'node_10_pressure', 'node_2_demand', 'node_13_demand', 'link_25_flow', 'node_24_pressure', 'node_26_pressure', 'link_23_flow', 'link_24_flow', 'node_25_pressure', 'node_31_demand', 'link_15_flow', 'link_20_flow', 'node_20_pressure', 'node_8_pressure', 'node_14_pressure', 'link_13_flow', 'node_1_pressure', 'node_30_pressure', 'node_25_demand', 'node_10_demand', 'node_1_demand', 'link_5_flow', 'node_5_demand', 'node_6_pressure', 'link_2_flow', 'link_4_flow', 'link_1_flow']]\n",
      "starting df shape: (87600, 57)\n",
      "This is training run 4 and has the shape:  (87600, 57)\n",
      "The value of dropped columns is 40\n"
     ]
    },
    {
     "name": "stderr",
     "output_type": "stream",
     "text": [
      "/Users/alexellard/opt/anaconda3/lib/python3.7/site-packages/xgboost/data.py:96: UserWarning: Use subset (sliced data) of np.ndarray is not recommended because it will generate extra copies and increase memory consumption\n",
      "  \"because it will generate extra copies and increase \" +\n"
     ]
    },
    {
     "name": "stdout",
     "output_type": "stream",
     "text": [
      "test y shape : (17520, 1)\n",
      "Inv y shape : (17520, 57)\n",
      "y pred shape : (17520, 1)\n",
      "inv y pred : (17520, 57)\n",
      "Run 4 Mean Absolute Error: 73.62600712855676\n",
      "[['link_14_flow', 'link_7_flow', 'node_13_pressure', 'link_30_flow', 'node_5_demand', 'node_17_pressure', 'node_12_pressure', 'node_31_demand', 'link_8_flow', 'node_15_pressure', 'link_13_flow', 'link_17_flow', 'node_11_demand', 'node_29_demand', 'node_27_pressure', 'node_13_demand', 'node_18_pressure', 'reservoir_demand', 'node_12_demand', 'link_2_flow', 'node_21_pressure', 'node_9_demand', 'link_25_flow', 'node_4_pressure', 'node_23_pressure', 'node_3_pressure', 'node_23_demand', 'node_25_demand', 'node_1_demand', 'node_22_demand', 'link_24_flow', 'node_30_demand', 'node_7_demand', 'node_3_demand', 'node_19_pressure', 'node_27_demand', 'link_9_flow', 'link_19_flow', 'node_22_pressure', 'node_26_pressure']]\n",
      "starting df shape: (87600, 56)\n",
      "This is training run 5 and has the shape:  (87600, 56)\n",
      "The value of dropped columns is 40\n"
     ]
    },
    {
     "name": "stderr",
     "output_type": "stream",
     "text": [
      "/Users/alexellard/opt/anaconda3/lib/python3.7/site-packages/xgboost/data.py:96: UserWarning: Use subset (sliced data) of np.ndarray is not recommended because it will generate extra copies and increase memory consumption\n",
      "  \"because it will generate extra copies and increase \" +\n"
     ]
    },
    {
     "name": "stdout",
     "output_type": "stream",
     "text": [
      "test y shape : (17520, 1)\n",
      "Inv y shape : (17520, 56)\n",
      "y pred shape : (17520, 1)\n",
      "inv y pred : (17520, 56)\n",
      "Run 5 Mean Absolute Error: 2.255370332791829\n",
      "[['node_1_demand', 'link_7_flow', 'link_12_flow', 'node_24_demand', 'link_21_flow', 'node_11_demand', 'link_22_flow', 'node_19_demand', 'node_9_demand', 'link_24_flow', 'node_17_pressure', 'node_6_demand', 'link_25_flow', 'node_18_pressure', 'node_25_pressure', 'link_10_flow', 'link_17_flow', 'node_18_demand', 'node_16_pressure', 'node_6_pressure', 'node_22_demand', 'node_27_demand', 'reservoir_demand', 'node_5_pressure', 'link_13_flow', 'node_4_pressure', 'node_27_pressure', 'node_24_pressure', 'link_20_flow', 'link_15_flow', 'node_14_pressure', 'node_2_demand', 'node_28_demand', 'link_31_flow', 'link_19_flow', 'node_20_pressure', 'link_9_flow', 'node_17_demand', 'node_12_pressure', 'reservoir_pressure']]\n",
      "starting df shape: (87600, 56)\n",
      "This is training run 6 and has the shape:  (87600, 56)\n",
      "The value of dropped columns is 40\n"
     ]
    },
    {
     "name": "stderr",
     "output_type": "stream",
     "text": [
      "/Users/alexellard/opt/anaconda3/lib/python3.7/site-packages/xgboost/data.py:96: UserWarning: Use subset (sliced data) of np.ndarray is not recommended because it will generate extra copies and increase memory consumption\n",
      "  \"because it will generate extra copies and increase \" +\n"
     ]
    },
    {
     "name": "stdout",
     "output_type": "stream",
     "text": [
      "test y shape : (17520, 1)\n",
      "Inv y shape : (17520, 56)\n",
      "y pred shape : (17520, 1)\n",
      "inv y pred : (17520, 56)\n",
      "Run 6 Mean Absolute Error: 0.6603060155186192\n",
      "[['node_4_pressure', 'link_28_flow', 'link_29_flow', 'node_31_demand', 'link_11_flow', 'node_27_pressure', 'link_1_flow', 'link_26_flow', 'link_3_flow', 'reservoir_demand', 'node_26_demand', 'node_15_demand', 'node_1_pressure', 'node_28_pressure', 'link_13_flow', 'node_21_demand', 'link_10_flow', 'node_18_demand', 'node_22_pressure', 'node_13_demand', 'link_12_flow', 'node_24_demand', 'reservoir_pressure', 'node_14_pressure', 'link_17_flow', 'link_16_flow', 'link_7_flow', 'node_20_pressure', 'node_25_demand', 'node_19_pressure', 'node_28_demand', 'node_12_demand', 'link_5_flow', 'node_11_demand', 'node_7_demand', 'node_16_pressure', 'link_19_flow', 'node_15_pressure', 'node_17_demand']]\n",
      "starting df shape: (87600, 57)\n",
      "This is training run 7 and has the shape:  (87600, 57)\n",
      "The value of dropped columns is 40\n"
     ]
    },
    {
     "name": "stderr",
     "output_type": "stream",
     "text": [
      "/Users/alexellard/opt/anaconda3/lib/python3.7/site-packages/xgboost/data.py:96: UserWarning: Use subset (sliced data) of np.ndarray is not recommended because it will generate extra copies and increase memory consumption\n",
      "  \"because it will generate extra copies and increase \" +\n"
     ]
    },
    {
     "name": "stdout",
     "output_type": "stream",
     "text": [
      "test y shape : (17520, 1)\n",
      "Inv y shape : (17520, 57)\n",
      "y pred shape : (17520, 1)\n",
      "inv y pred : (17520, 57)\n",
      "Run 7 Mean Absolute Error: 8.201944932000803\n",
      "[['link_30_flow', 'node_4_demand', 'node_30_pressure', 'node_31_pressure', 'node_28_demand', 'node_24_demand', 'node_4_pressure', 'link_18_flow', 'node_12_pressure', 'node_18_demand', 'reservoir_demand', 'link_15_flow', 'node_29_demand', 'node_25_demand', 'node_13_demand', 'node_15_demand', 'node_28_pressure', 'node_7_demand', 'node_1_pressure', 'node_22_demand', 'node_6_pressure', 'node_20_pressure', 'link_21_flow', 'node_24_pressure', 'link_23_flow', 'node_23_demand', 'node_11_demand', 'node_5_demand', 'link_8_flow', 'node_17_pressure', 'node_3_pressure', 'node_9_pressure', 'node_16_pressure', 'link_25_flow', 'link_16_flow', 'node_20_demand', 'node_6_demand', 'link_1_flow', 'link_2_flow']]\n",
      "starting df shape: (87600, 57)\n",
      "This is training run 8 and has the shape:  (87600, 57)\n",
      "The value of dropped columns is 40\n"
     ]
    },
    {
     "name": "stderr",
     "output_type": "stream",
     "text": [
      "/Users/alexellard/opt/anaconda3/lib/python3.7/site-packages/xgboost/data.py:96: UserWarning: Use subset (sliced data) of np.ndarray is not recommended because it will generate extra copies and increase memory consumption\n",
      "  \"because it will generate extra copies and increase \" +\n"
     ]
    },
    {
     "name": "stdout",
     "output_type": "stream",
     "text": [
      "test y shape : (17520, 1)\n",
      "Inv y shape : (17520, 57)\n",
      "y pred shape : (17520, 1)\n",
      "inv y pred : (17520, 57)\n",
      "Run 8 Mean Absolute Error: 8.18129021303873\n",
      "[['node_8_demand', 'node_11_pressure', 'node_30_demand', 'reservoir_pressure', 'link_8_flow', 'node_21_demand', 'node_2_pressure', 'node_26_demand', 'node_12_demand', 'node_23_pressure', 'node_31_pressure', 'node_9_pressure', 'node_21_pressure', 'link_10_flow', 'link_2_flow', 'node_5_demand', 'node_10_pressure', 'node_18_demand', 'link_13_flow', 'node_18_pressure', 'link_16_flow', 'node_20_demand', 'node_24_pressure', 'node_22_demand', 'link_9_flow', 'link_17_flow', 'link_22_flow', 'node_19_demand', 'link_6_flow', 'link_26_flow', 'link_25_flow', 'node_14_demand', 'link_11_flow', 'link_24_flow', 'node_12_pressure', 'node_4_pressure', 'link_32_flow', 'node_16_pressure', 'node_27_pressure']]\n",
      "starting df shape: (87600, 57)\n",
      "This is training run 9 and has the shape:  (87600, 57)\n",
      "The value of dropped columns is 40\n"
     ]
    },
    {
     "name": "stderr",
     "output_type": "stream",
     "text": [
      "/Users/alexellard/opt/anaconda3/lib/python3.7/site-packages/xgboost/data.py:96: UserWarning: Use subset (sliced data) of np.ndarray is not recommended because it will generate extra copies and increase memory consumption\n",
      "  \"because it will generate extra copies and increase \" +\n"
     ]
    },
    {
     "name": "stdout",
     "output_type": "stream",
     "text": [
      "test y shape : (17520, 1)\n",
      "Inv y shape : (17520, 57)\n",
      "y pred shape : (17520, 1)\n",
      "inv y pred : (17520, 57)\n",
      "Run 9 Mean Absolute Error: 104.80168752769652\n",
      "[['node_19_pressure', 'node_22_demand', 'node_5_demand', 'node_7_pressure', 'node_22_pressure', 'node_8_pressure', 'node_21_pressure', 'node_27_demand', 'node_24_pressure', 'node_23_pressure', 'node_31_demand', 'link_13_flow', 'link_24_flow', 'link_25_flow', 'link_21_flow', 'link_1_flow', 'link_8_flow', 'link_26_flow', 'link_10_flow', 'node_16_pressure', 'node_1_demand', 'node_30_pressure', 'node_25_demand', 'node_2_pressure', 'link_9_flow', 'node_11_pressure', 'node_3_pressure', 'link_31_flow', 'node_24_demand', 'link_29_flow', 'link_19_flow', 'node_6_pressure', 'link_11_flow', 'link_23_flow', 'node_20_pressure', 'node_9_pressure', 'node_4_demand', 'link_4_flow', 'link_3_flow', 'link_20_flow']]\n",
      "starting df shape: (87600, 56)\n",
      "This is training run 10 and has the shape:  (87600, 56)\n",
      "The value of dropped columns is 40\n"
     ]
    },
    {
     "name": "stderr",
     "output_type": "stream",
     "text": [
      "/Users/alexellard/opt/anaconda3/lib/python3.7/site-packages/xgboost/data.py:96: UserWarning: Use subset (sliced data) of np.ndarray is not recommended because it will generate extra copies and increase memory consumption\n",
      "  \"because it will generate extra copies and increase \" +\n"
     ]
    },
    {
     "name": "stdout",
     "output_type": "stream",
     "text": [
      "test y shape : (17520, 1)\n",
      "Inv y shape : (17520, 56)\n",
      "y pred shape : (17520, 1)\n",
      "inv y pred : (17520, 56)\n",
      "Run 10 Mean Absolute Error: 44.630231450303434\n",
      "[['node_12_demand', 'link_16_flow', 'node_17_demand', 'link_29_flow', 'link_7_flow', 'link_27_flow', 'node_19_pressure', 'node_10_demand', 'node_20_pressure', 'link_5_flow', 'node_16_pressure', 'node_19_demand', 'node_29_pressure', 'link_24_flow', 'link_26_flow', 'link_9_flow', 'link_4_flow', 'node_7_demand', 'node_4_pressure', 'link_14_flow', 'node_3_demand', 'link_13_flow', 'node_25_pressure', 'node_12_pressure', 'node_6_demand', 'node_31_pressure', 'node_26_demand', 'node_23_demand', 'link_30_flow', 'node_25_demand', 'node_13_pressure', 'link_20_flow', 'link_1_flow', 'node_30_pressure', 'reservoir_demand', 'node_28_pressure', 'node_7_pressure', 'node_28_demand', 'link_2_flow', 'node_31_demand', 'node_9_pressure', 'link_21_flow', 'link_10_flow', 'node_21_demand']]\n",
      "starting df shape: (87600, 52)\n",
      "This is training run 1 and has the shape:  (87600, 52)\n",
      "The value of dropped columns is 45\n"
     ]
    },
    {
     "name": "stderr",
     "output_type": "stream",
     "text": [
      "/Users/alexellard/opt/anaconda3/lib/python3.7/site-packages/xgboost/data.py:96: UserWarning: Use subset (sliced data) of np.ndarray is not recommended because it will generate extra copies and increase memory consumption\n",
      "  \"because it will generate extra copies and increase \" +\n"
     ]
    },
    {
     "name": "stdout",
     "output_type": "stream",
     "text": [
      "test y shape : (17520, 1)\n",
      "Inv y shape : (17520, 52)\n",
      "y pred shape : (17520, 1)\n",
      "inv y pred : (17520, 52)\n",
      "Run 1 Mean Absolute Error: 8.025072253736441\n",
      "[['link_32_flow', 'node_10_pressure', 'node_26_pressure', 'node_25_demand', 'node_9_demand', 'node_6_pressure', 'node_14_demand', 'link_19_flow', 'node_23_demand', 'node_3_demand', 'link_22_flow', 'reservoir_pressure', 'node_5_pressure', 'link_9_flow', 'link_26_flow', 'node_12_pressure', 'node_17_demand', 'node_19_pressure', 'node_28_demand', 'node_24_demand', 'node_22_pressure', 'link_10_flow', 'node_14_pressure', 'node_1_demand', 'link_11_flow', 'link_5_flow', 'node_15_demand', 'node_20_demand', 'link_25_flow', 'node_31_demand', 'node_29_pressure', 'link_29_flow', 'node_11_demand', 'link_12_flow', 'node_3_pressure', 'node_21_demand', 'node_12_demand', 'node_5_demand', 'node_30_demand', 'reservoir_demand', 'node_4_demand', 'node_28_pressure', 'link_2_flow', 'node_22_demand', 'link_20_flow']]\n",
      "starting df shape: (87600, 51)\n",
      "This is training run 2 and has the shape:  (87600, 51)\n",
      "The value of dropped columns is 45\n"
     ]
    },
    {
     "name": "stderr",
     "output_type": "stream",
     "text": [
      "/Users/alexellard/opt/anaconda3/lib/python3.7/site-packages/xgboost/data.py:96: UserWarning: Use subset (sliced data) of np.ndarray is not recommended because it will generate extra copies and increase memory consumption\n",
      "  \"because it will generate extra copies and increase \" +\n"
     ]
    },
    {
     "name": "stdout",
     "output_type": "stream",
     "text": [
      "test y shape : (17520, 1)\n",
      "Inv y shape : (17520, 51)\n",
      "y pred shape : (17520, 1)\n",
      "inv y pred : (17520, 51)\n",
      "Run 2 Mean Absolute Error: 2.415499995693887\n",
      "[['node_23_demand', 'node_23_pressure', 'node_28_demand', 'link_2_flow', 'node_3_demand', 'node_4_pressure', 'link_16_flow', 'node_19_pressure', 'link_13_flow', 'link_15_flow', 'node_9_pressure', 'link_29_flow', 'node_13_demand', 'link_4_flow', 'link_20_flow', 'node_13_pressure', 'node_29_demand', 'node_22_pressure', 'node_30_pressure', 'node_16_pressure', 'node_6_demand', 'link_24_flow', 'node_1_pressure', 'node_11_pressure', 'node_7_pressure', 'node_31_demand', 'node_15_pressure', 'node_24_demand', 'node_24_pressure', 'link_25_flow', 'link_27_flow', 'node_10_demand', 'link_1_flow', 'link_7_flow', 'node_10_pressure', 'reservoir_demand', 'node_25_demand', 'node_11_demand', 'node_6_pressure', 'link_22_flow', 'link_6_flow', 'link_14_flow', 'node_2_demand', 'link_10_flow']]\n",
      "starting df shape: (87600, 52)\n",
      "This is training run 3 and has the shape:  (87600, 52)\n",
      "The value of dropped columns is 45\n"
     ]
    },
    {
     "name": "stderr",
     "output_type": "stream",
     "text": [
      "/Users/alexellard/opt/anaconda3/lib/python3.7/site-packages/xgboost/data.py:96: UserWarning: Use subset (sliced data) of np.ndarray is not recommended because it will generate extra copies and increase memory consumption\n",
      "  \"because it will generate extra copies and increase \" +\n"
     ]
    },
    {
     "name": "stdout",
     "output_type": "stream",
     "text": [
      "test y shape : (17520, 1)\n",
      "Inv y shape : (17520, 52)\n",
      "y pred shape : (17520, 1)\n",
      "inv y pred : (17520, 52)\n",
      "Run 3 Mean Absolute Error: 8.678959382873009\n",
      "[['node_26_demand', 'link_14_flow', 'link_12_flow', 'node_8_demand', 'link_8_flow', 'node_9_pressure', 'node_27_demand', 'node_5_demand', 'node_3_pressure', 'node_20_demand', 'link_6_flow', 'link_22_flow', 'link_26_flow', 'node_13_demand', 'node_28_demand', 'link_32_flow', 'link_29_flow', 'node_31_pressure', 'node_4_pressure', 'node_12_pressure', 'link_11_flow', 'node_20_pressure', 'link_9_flow', 'node_29_demand', 'node_1_pressure', 'node_25_demand', 'link_7_flow', 'link_3_flow', 'node_14_demand', 'node_17_pressure', 'node_22_demand', 'node_13_pressure', 'node_7_pressure', 'node_19_pressure', 'node_1_demand', 'link_25_flow', 'link_1_flow', 'link_21_flow', 'node_10_pressure', 'node_2_pressure', 'link_30_flow', 'link_10_flow', 'node_27_pressure', 'node_16_pressure']]\n",
      "starting df shape: (87600, 52)\n",
      "This is training run 4 and has the shape:  (87600, 52)\n",
      "The value of dropped columns is 45\n"
     ]
    },
    {
     "name": "stderr",
     "output_type": "stream",
     "text": [
      "/Users/alexellard/opt/anaconda3/lib/python3.7/site-packages/xgboost/data.py:96: UserWarning: Use subset (sliced data) of np.ndarray is not recommended because it will generate extra copies and increase memory consumption\n",
      "  \"because it will generate extra copies and increase \" +\n"
     ]
    },
    {
     "name": "stdout",
     "output_type": "stream",
     "text": [
      "test y shape : (17520, 1)\n",
      "Inv y shape : (17520, 52)\n",
      "y pred shape : (17520, 1)\n",
      "inv y pred : (17520, 52)\n",
      "Run 4 Mean Absolute Error: 40.518494372584044\n",
      "[['link_14_flow', 'node_12_demand', 'node_23_demand', 'link_18_flow', 'node_5_demand', 'node_9_pressure', 'link_32_flow', 'node_19_demand', 'link_3_flow', 'node_29_pressure', 'link_2_flow', 'node_7_pressure', 'node_20_pressure', 'link_30_flow', 'node_26_demand', 'link_4_flow', 'node_19_pressure', 'node_18_pressure', 'node_24_demand', 'node_29_demand', 'link_15_flow', 'node_26_pressure', 'node_2_demand', 'node_17_pressure', 'node_11_demand', 'node_22_demand', 'link_24_flow', 'node_30_pressure', 'link_27_flow', 'node_5_pressure', 'node_6_pressure', 'link_1_flow', 'node_11_pressure', 'link_10_flow', 'node_24_pressure', 'node_14_pressure', 'node_17_demand', 'node_12_pressure', 'node_16_pressure', 'link_16_flow', 'node_22_pressure', 'node_8_pressure', 'node_27_demand', 'link_23_flow', 'link_19_flow']]\n",
      "starting df shape: (87600, 51)\n",
      "This is training run 5 and has the shape:  (87600, 51)\n",
      "The value of dropped columns is 45\n"
     ]
    },
    {
     "name": "stderr",
     "output_type": "stream",
     "text": [
      "/Users/alexellard/opt/anaconda3/lib/python3.7/site-packages/xgboost/data.py:96: UserWarning: Use subset (sliced data) of np.ndarray is not recommended because it will generate extra copies and increase memory consumption\n",
      "  \"because it will generate extra copies and increase \" +\n"
     ]
    },
    {
     "name": "stdout",
     "output_type": "stream",
     "text": [
      "test y shape : (17520, 1)\n",
      "Inv y shape : (17520, 51)\n",
      "y pred shape : (17520, 1)\n",
      "inv y pred : (17520, 51)\n",
      "Run 5 Mean Absolute Error: 158.21331497394783\n",
      "[['node_14_demand', 'node_8_pressure', 'node_21_demand', 'link_17_flow', 'node_24_pressure', 'node_12_demand', 'node_25_demand', 'link_10_flow', 'link_5_flow', 'node_1_pressure', 'node_11_demand', 'node_17_demand', 'node_31_pressure', 'link_6_flow', 'node_17_pressure', 'node_30_demand', 'node_23_demand', 'link_9_flow', 'node_26_pressure', 'link_26_flow', 'link_25_flow', 'link_29_flow', 'node_10_pressure', 'link_19_flow', 'link_14_flow', 'node_5_demand', 'node_12_pressure', 'link_22_flow', 'node_6_pressure', 'node_7_demand', 'link_12_flow', 'node_8_demand', 'node_18_pressure', 'node_11_pressure', 'reservoir_pressure', 'node_9_pressure', 'link_15_flow', 'node_29_demand', 'link_28_flow', 'node_18_demand', 'node_31_demand', 'link_3_flow', 'node_15_pressure', 'link_7_flow', 'link_32_flow']]\n",
      "starting df shape: (87600, 51)\n",
      "This is training run 6 and has the shape:  (87600, 51)\n",
      "The value of dropped columns is 45\n"
     ]
    },
    {
     "name": "stderr",
     "output_type": "stream",
     "text": [
      "/Users/alexellard/opt/anaconda3/lib/python3.7/site-packages/xgboost/data.py:96: UserWarning: Use subset (sliced data) of np.ndarray is not recommended because it will generate extra copies and increase memory consumption\n",
      "  \"because it will generate extra copies and increase \" +\n"
     ]
    },
    {
     "name": "stdout",
     "output_type": "stream",
     "text": [
      "test y shape : (17520, 1)\n",
      "Inv y shape : (17520, 51)\n",
      "y pred shape : (17520, 1)\n",
      "inv y pred : (17520, 51)\n",
      "Run 6 Mean Absolute Error: 79.03628653510097\n",
      "[['node_1_demand', 'node_9_demand', 'link_8_flow', 'link_2_flow', 'node_5_demand', 'node_14_demand', 'link_13_flow', 'link_17_flow', 'node_12_pressure', 'node_25_pressure', 'node_15_pressure', 'node_26_demand', 'link_12_flow', 'reservoir_demand', 'link_1_flow', 'link_27_flow', 'node_25_demand', 'node_17_demand', 'link_10_flow', 'node_20_demand', 'node_11_pressure', 'link_4_flow', 'node_23_demand', 'node_31_pressure', 'node_4_pressure', 'node_27_demand', 'node_22_demand', 'node_19_pressure', 'node_8_pressure', 'node_26_pressure', 'node_3_pressure', 'node_20_pressure', 'node_27_pressure', 'node_18_pressure', 'node_28_demand', 'link_5_flow', 'node_9_pressure', 'link_11_flow', 'link_23_flow', 'node_2_pressure', 'node_30_demand', 'link_28_flow', 'node_23_pressure', 'link_26_flow', 'node_30_pressure']]\n",
      "starting df shape: (87600, 51)\n",
      "This is training run 7 and has the shape:  (87600, 51)\n",
      "The value of dropped columns is 45\n"
     ]
    },
    {
     "name": "stderr",
     "output_type": "stream",
     "text": [
      "/Users/alexellard/opt/anaconda3/lib/python3.7/site-packages/xgboost/data.py:96: UserWarning: Use subset (sliced data) of np.ndarray is not recommended because it will generate extra copies and increase memory consumption\n",
      "  \"because it will generate extra copies and increase \" +\n"
     ]
    },
    {
     "name": "stdout",
     "output_type": "stream",
     "text": [
      "test y shape : (17520, 1)\n",
      "Inv y shape : (17520, 51)\n",
      "y pred shape : (17520, 1)\n",
      "inv y pred : (17520, 51)\n",
      "Run 7 Mean Absolute Error: 2.514743765376944\n",
      "[['node_22_demand', 'node_19_pressure', 'link_24_flow', 'node_31_pressure', 'link_21_flow', 'link_11_flow', 'node_23_pressure', 'node_11_demand', 'node_16_pressure', 'node_9_demand', 'link_4_flow', 'node_27_pressure', 'link_25_flow', 'link_17_flow', 'link_31_flow', 'node_8_pressure', 'node_28_demand', 'node_10_demand', 'node_17_demand', 'link_28_flow', 'node_7_pressure', 'node_14_pressure', 'link_14_flow', 'link_3_flow', 'node_20_pressure', 'node_12_pressure', 'node_18_pressure', 'node_15_pressure', 'link_29_flow', 'node_2_pressure', 'link_19_flow', 'node_27_demand', 'node_30_pressure', 'node_13_demand', 'node_29_demand', 'node_15_demand', 'link_27_flow', 'link_9_flow', 'node_23_demand', 'node_11_pressure', 'node_31_demand', 'link_16_flow', 'node_5_demand', 'node_25_demand']]\n",
      "starting df shape: (87600, 52)\n",
      "This is training run 8 and has the shape:  (87600, 52)\n",
      "The value of dropped columns is 45\n"
     ]
    },
    {
     "name": "stderr",
     "output_type": "stream",
     "text": [
      "/Users/alexellard/opt/anaconda3/lib/python3.7/site-packages/xgboost/data.py:96: UserWarning: Use subset (sliced data) of np.ndarray is not recommended because it will generate extra copies and increase memory consumption\n",
      "  \"because it will generate extra copies and increase \" +\n"
     ]
    },
    {
     "name": "stdout",
     "output_type": "stream",
     "text": [
      "test y shape : (17520, 1)\n",
      "Inv y shape : (17520, 52)\n",
      "y pred shape : (17520, 1)\n",
      "inv y pred : (17520, 52)\n",
      "Run 8 Mean Absolute Error: 132.41878776222023\n",
      "[['node_3_demand', 'node_6_pressure', 'node_5_demand', 'node_29_demand', 'link_32_flow', 'node_26_pressure', 'node_9_demand', 'link_29_flow', 'node_31_demand', 'node_13_demand', 'link_9_flow', 'node_19_demand', 'link_25_flow', 'node_15_pressure', 'node_4_demand', 'node_23_demand', 'node_24_pressure', 'link_10_flow', 'link_31_flow', 'node_11_demand', 'link_15_flow', 'node_21_demand', 'node_18_pressure', 'link_12_flow', 'node_2_pressure', 'node_14_pressure', 'node_4_pressure', 'node_30_pressure', 'link_7_flow', 'node_27_pressure', 'reservoir_pressure', 'node_30_demand', 'link_24_flow', 'link_26_flow', 'link_13_flow', 'link_2_flow', 'node_28_pressure', 'node_10_pressure', 'link_4_flow', 'link_8_flow', 'node_9_pressure', 'node_19_pressure', 'node_8_pressure', 'link_30_flow', 'node_31_pressure']]\n",
      "starting df shape: (87600, 51)\n",
      "This is training run 9 and has the shape:  (87600, 51)\n",
      "The value of dropped columns is 45\n"
     ]
    },
    {
     "name": "stderr",
     "output_type": "stream",
     "text": [
      "/Users/alexellard/opt/anaconda3/lib/python3.7/site-packages/xgboost/data.py:96: UserWarning: Use subset (sliced data) of np.ndarray is not recommended because it will generate extra copies and increase memory consumption\n",
      "  \"because it will generate extra copies and increase \" +\n"
     ]
    },
    {
     "name": "stdout",
     "output_type": "stream",
     "text": [
      "test y shape : (17520, 1)\n",
      "Inv y shape : (17520, 51)\n",
      "y pred shape : (17520, 1)\n",
      "inv y pred : (17520, 51)\n",
      "Run 9 Mean Absolute Error: 69.05678186301945\n",
      "[['link_28_flow', 'link_32_flow', 'node_15_demand', 'node_2_pressure', 'link_7_flow', 'node_23_demand', 'node_1_demand', 'node_7_pressure', 'link_16_flow', 'node_16_pressure', 'node_7_demand', 'link_10_flow', 'reservoir_demand', 'link_26_flow', 'node_5_pressure', 'reservoir_pressure', 'node_14_pressure', 'node_31_demand', 'link_29_flow', 'link_15_flow', 'link_17_flow', 'link_22_flow', 'node_2_demand', 'node_4_demand', 'node_15_pressure', 'node_28_pressure', 'node_19_pressure', 'link_13_flow', 'link_8_flow', 'node_6_pressure', 'node_18_demand', 'link_1_flow', 'node_22_pressure', 'node_26_pressure', 'node_22_demand', 'link_18_flow', 'node_21_pressure', 'node_10_demand', 'node_13_demand', 'node_27_demand', 'node_3_pressure', 'node_25_demand', 'node_24_pressure', 'link_2_flow', 'node_4_pressure']]\n",
      "starting df shape: (87600, 51)\n",
      "This is training run 10 and has the shape:  (87600, 51)\n",
      "The value of dropped columns is 45\n"
     ]
    },
    {
     "name": "stderr",
     "output_type": "stream",
     "text": [
      "/Users/alexellard/opt/anaconda3/lib/python3.7/site-packages/xgboost/data.py:96: UserWarning: Use subset (sliced data) of np.ndarray is not recommended because it will generate extra copies and increase memory consumption\n",
      "  \"because it will generate extra copies and increase \" +\n"
     ]
    },
    {
     "name": "stdout",
     "output_type": "stream",
     "text": [
      "test y shape : (17520, 1)\n",
      "Inv y shape : (17520, 51)\n",
      "y pred shape : (17520, 1)\n",
      "inv y pred : (17520, 51)\n",
      "Run 10 Mean Absolute Error: 1.45659771831846\n",
      "[['node_30_demand', 'link_27_flow', 'link_18_flow', 'node_7_demand', 'link_4_flow', 'link_29_flow', 'node_25_demand', 'node_8_pressure', 'link_30_flow', 'reservoir_pressure', 'node_23_demand', 'link_12_flow', 'node_29_demand', 'node_2_demand', 'node_18_demand', 'link_32_flow', 'node_24_demand', 'link_13_flow', 'link_11_flow', 'link_28_flow', 'link_24_flow', 'node_4_demand', 'link_31_flow', 'node_24_pressure', 'node_29_pressure', 'node_26_demand', 'reservoir_demand', 'link_7_flow', 'node_8_demand', 'node_18_pressure', 'link_14_flow', 'node_2_pressure', 'link_19_flow', 'node_10_pressure', 'node_11_pressure', 'node_27_pressure', 'node_15_demand', 'link_1_flow', 'node_6_demand', 'node_9_pressure', 'node_26_pressure', 'link_3_flow', 'node_23_pressure', 'node_27_demand', 'node_5_demand', 'node_1_demand', 'node_5_pressure', 'node_15_pressure', 'node_17_pressure', 'link_6_flow']]\n",
      "starting df shape: (87600, 46)\n",
      "This is training run 1 and has the shape:  (87600, 46)\n",
      "The value of dropped columns is 50\n"
     ]
    },
    {
     "name": "stderr",
     "output_type": "stream",
     "text": [
      "/Users/alexellard/opt/anaconda3/lib/python3.7/site-packages/xgboost/data.py:96: UserWarning: Use subset (sliced data) of np.ndarray is not recommended because it will generate extra copies and increase memory consumption\n",
      "  \"because it will generate extra copies and increase \" +\n"
     ]
    },
    {
     "name": "stdout",
     "output_type": "stream",
     "text": [
      "test y shape : (17520, 1)\n",
      "Inv y shape : (17520, 46)\n",
      "y pred shape : (17520, 1)\n",
      "inv y pred : (17520, 46)\n",
      "Run 1 Mean Absolute Error: 0.3809996669651509\n",
      "[['link_29_flow', 'reservoir_demand', 'node_24_demand', 'node_8_pressure', 'link_19_flow', 'node_30_demand', 'node_27_demand', 'reservoir_pressure', 'node_3_demand', 'node_12_demand', 'link_16_flow', 'link_1_flow', 'node_22_demand', 'node_1_pressure', 'node_5_demand', 'node_27_pressure', 'link_13_flow', 'link_12_flow', 'node_11_demand', 'link_9_flow', 'node_25_pressure', 'node_1_demand', 'node_13_pressure', 'node_13_demand', 'link_14_flow', 'link_28_flow', 'link_25_flow', 'node_2_demand', 'link_6_flow', 'link_23_flow', 'link_26_flow', 'node_9_demand', 'link_10_flow', 'link_20_flow', 'node_19_pressure', 'node_24_pressure', 'node_20_pressure', 'node_19_demand', 'link_31_flow', 'node_14_demand', 'link_17_flow', 'link_7_flow', 'node_29_pressure', 'node_26_demand', 'node_29_demand', 'node_9_pressure', 'node_18_demand', 'link_5_flow', 'link_21_flow']]\n",
      "starting df shape: (87600, 47)\n",
      "This is training run 2 and has the shape:  (87600, 47)\n",
      "The value of dropped columns is 50\n"
     ]
    },
    {
     "name": "stderr",
     "output_type": "stream",
     "text": [
      "/Users/alexellard/opt/anaconda3/lib/python3.7/site-packages/xgboost/data.py:96: UserWarning: Use subset (sliced data) of np.ndarray is not recommended because it will generate extra copies and increase memory consumption\n",
      "  \"because it will generate extra copies and increase \" +\n"
     ]
    },
    {
     "name": "stdout",
     "output_type": "stream",
     "text": [
      "test y shape : (17520, 1)\n",
      "Inv y shape : (17520, 47)\n",
      "y pred shape : (17520, 1)\n",
      "inv y pred : (17520, 47)\n",
      "Run 2 Mean Absolute Error: 4.63765209853467\n",
      "[['node_4_demand', 'link_27_flow', 'link_14_flow', 'link_26_flow', 'node_9_demand', 'reservoir_pressure', 'node_20_pressure', 'node_26_demand', 'node_23_demand', 'node_8_pressure', 'node_18_pressure', 'link_24_flow', 'node_14_demand', 'link_25_flow', 'node_13_pressure', 'link_2_flow', 'node_17_demand', 'link_8_flow', 'node_9_pressure', 'node_28_demand', 'link_16_flow', 'node_1_demand', 'node_11_pressure', 'link_7_flow', 'node_20_demand', 'link_23_flow', 'node_21_pressure', 'node_29_demand', 'node_23_pressure', 'node_3_demand', 'node_6_pressure', 'node_29_pressure', 'node_27_demand', 'node_5_demand', 'link_28_flow', 'node_8_demand', 'node_24_demand', 'node_22_demand', 'node_17_pressure', 'node_14_pressure', 'node_31_demand', 'node_12_pressure', 'link_17_flow', 'link_19_flow', 'node_21_demand', 'link_3_flow', 'node_18_demand', 'node_25_demand', 'link_4_flow', 'link_20_flow']]\n",
      "starting df shape: (87600, 46)\n",
      "This is training run 3 and has the shape:  (87600, 46)\n",
      "The value of dropped columns is 50\n"
     ]
    },
    {
     "name": "stderr",
     "output_type": "stream",
     "text": [
      "/Users/alexellard/opt/anaconda3/lib/python3.7/site-packages/xgboost/data.py:96: UserWarning: Use subset (sliced data) of np.ndarray is not recommended because it will generate extra copies and increase memory consumption\n",
      "  \"because it will generate extra copies and increase \" +\n"
     ]
    },
    {
     "name": "stdout",
     "output_type": "stream",
     "text": [
      "test y shape : (17520, 1)\n",
      "Inv y shape : (17520, 46)\n",
      "y pred shape : (17520, 1)\n",
      "inv y pred : (17520, 46)\n",
      "Run 3 Mean Absolute Error: 128.24005835602046\n",
      "[['node_26_pressure', 'node_30_demand', 'node_21_pressure', 'node_2_pressure', 'node_24_pressure', 'node_18_pressure', 'link_8_flow', 'node_28_demand', 'link_4_flow', 'link_14_flow', 'node_7_pressure', 'node_27_pressure', 'node_4_pressure', 'node_21_demand', 'link_27_flow', 'link_9_flow', 'node_13_demand', 'node_28_pressure', 'node_19_pressure', 'link_22_flow', 'node_18_demand', 'link_18_flow', 'node_14_pressure', 'link_25_flow', 'node_23_demand', 'link_3_flow', 'node_10_pressure', 'link_19_flow', 'node_6_demand', 'reservoir_pressure', 'link_6_flow', 'link_28_flow', 'node_17_demand', 'link_26_flow', 'node_20_demand', 'node_9_pressure', 'node_16_pressure', 'node_7_demand', 'link_29_flow', 'link_21_flow', 'link_17_flow', 'node_11_demand', 'link_31_flow', 'node_14_demand', 'link_12_flow', 'node_1_demand', 'node_11_pressure', 'link_10_flow', 'node_8_demand']]\n",
      "starting df shape: (87600, 47)\n",
      "This is training run 4 and has the shape:  (87600, 47)\n",
      "The value of dropped columns is 50\n"
     ]
    },
    {
     "name": "stderr",
     "output_type": "stream",
     "text": [
      "/Users/alexellard/opt/anaconda3/lib/python3.7/site-packages/xgboost/data.py:96: UserWarning: Use subset (sliced data) of np.ndarray is not recommended because it will generate extra copies and increase memory consumption\n",
      "  \"because it will generate extra copies and increase \" +\n"
     ]
    },
    {
     "name": "stdout",
     "output_type": "stream",
     "text": [
      "test y shape : (17520, 1)\n",
      "Inv y shape : (17520, 47)\n",
      "y pred shape : (17520, 1)\n",
      "inv y pred : (17520, 47)\n",
      "Run 4 Mean Absolute Error: 49.123227129651575\n",
      "[['link_32_flow', 'link_28_flow', 'node_29_demand', 'node_28_pressure', 'node_9_pressure', 'link_3_flow', 'node_18_demand', 'node_23_demand', 'node_25_pressure', 'node_3_demand', 'node_17_pressure', 'node_31_demand', 'link_1_flow', 'link_15_flow', 'node_30_pressure', 'node_7_pressure', 'link_16_flow', 'node_3_pressure', 'node_28_demand', 'node_12_demand', 'node_18_pressure', 'node_12_pressure', 'node_15_pressure', 'node_8_pressure', 'node_13_demand', 'node_22_pressure', 'link_29_flow', 'link_18_flow', 'link_22_flow', 'node_16_pressure', 'link_20_flow', 'node_7_demand', 'link_26_flow', 'link_14_flow', 'node_2_pressure', 'node_6_pressure', 'node_1_demand', 'link_13_flow', 'node_6_demand', 'link_24_flow', 'node_14_pressure', 'node_4_pressure', 'link_19_flow', 'node_2_demand', 'link_5_flow', 'link_21_flow', 'node_8_demand', 'node_21_pressure', 'node_5_pressure']]\n",
      "starting df shape: (87600, 47)\n",
      "This is training run 5 and has the shape:  (87600, 47)\n",
      "The value of dropped columns is 50\n"
     ]
    },
    {
     "name": "stderr",
     "output_type": "stream",
     "text": [
      "/Users/alexellard/opt/anaconda3/lib/python3.7/site-packages/xgboost/data.py:96: UserWarning: Use subset (sliced data) of np.ndarray is not recommended because it will generate extra copies and increase memory consumption\n",
      "  \"because it will generate extra copies and increase \" +\n"
     ]
    },
    {
     "name": "stdout",
     "output_type": "stream",
     "text": [
      "test y shape : (17520, 1)\n",
      "Inv y shape : (17520, 47)\n",
      "y pred shape : (17520, 1)\n",
      "inv y pred : (17520, 47)\n",
      "Run 5 Mean Absolute Error: 145.5243103257761\n",
      "[['link_10_flow', 'link_4_flow', 'link_31_flow', 'link_23_flow', 'node_7_demand', 'node_26_pressure', 'node_22_pressure', 'node_12_demand', 'node_15_pressure', 'node_20_pressure', 'node_15_demand', 'link_17_flow', 'link_30_flow', 'node_5_pressure', 'node_11_demand', 'link_24_flow', 'node_30_demand', 'node_25_demand', 'link_5_flow', 'link_8_flow', 'node_14_pressure', 'node_1_demand', 'link_15_flow', 'node_18_pressure', 'node_20_demand', 'node_6_demand', 'node_21_pressure', 'node_22_demand', 'link_2_flow', 'node_13_demand', 'node_24_pressure', 'node_29_demand', 'node_21_demand', 'node_10_demand', 'link_21_flow', 'link_6_flow', 'node_27_demand', 'node_9_demand', 'link_9_flow', 'link_1_flow', 'node_12_pressure', 'node_17_demand', 'link_22_flow', 'link_20_flow', 'node_1_pressure', 'node_6_pressure', 'reservoir_demand', 'link_32_flow', 'node_13_pressure', 'node_27_pressure']]\n",
      "starting df shape: (87600, 46)\n",
      "This is training run 6 and has the shape:  (87600, 46)\n",
      "The value of dropped columns is 50\n"
     ]
    },
    {
     "name": "stderr",
     "output_type": "stream",
     "text": [
      "/Users/alexellard/opt/anaconda3/lib/python3.7/site-packages/xgboost/data.py:96: UserWarning: Use subset (sliced data) of np.ndarray is not recommended because it will generate extra copies and increase memory consumption\n",
      "  \"because it will generate extra copies and increase \" +\n"
     ]
    },
    {
     "name": "stdout",
     "output_type": "stream",
     "text": [
      "test y shape : (17520, 1)\n",
      "Inv y shape : (17520, 46)\n",
      "y pred shape : (17520, 1)\n",
      "inv y pred : (17520, 46)\n",
      "Run 6 Mean Absolute Error: 4.207625601872637\n",
      "[['node_15_pressure', 'node_14_pressure', 'link_32_flow', 'node_28_demand', 'node_14_demand', 'node_18_pressure', 'node_30_demand', 'link_9_flow', 'link_13_flow', 'link_23_flow', 'node_19_pressure', 'link_11_flow', 'node_20_demand', 'node_23_demand', 'node_21_pressure', 'node_4_demand', 'node_27_pressure', 'link_31_flow', 'node_24_pressure', 'node_29_demand', 'node_2_demand', 'link_24_flow', 'node_3_demand', 'link_27_flow', 'link_14_flow', 'node_24_demand', 'node_12_pressure', 'link_21_flow', 'node_11_pressure', 'link_6_flow', 'node_9_demand', 'node_8_demand', 'link_15_flow', 'node_12_demand', 'node_7_pressure', 'node_15_demand', 'node_8_pressure', 'link_1_flow', 'link_10_flow', 'node_25_demand', 'node_30_pressure', 'node_11_demand', 'node_7_demand', 'node_3_pressure', 'node_20_pressure', 'node_10_demand', 'link_8_flow', 'node_5_pressure', 'node_2_pressure']]\n",
      "starting df shape: (87600, 47)\n",
      "This is training run 7 and has the shape:  (87600, 47)\n",
      "The value of dropped columns is 50\n"
     ]
    },
    {
     "name": "stderr",
     "output_type": "stream",
     "text": [
      "/Users/alexellard/opt/anaconda3/lib/python3.7/site-packages/xgboost/data.py:96: UserWarning: Use subset (sliced data) of np.ndarray is not recommended because it will generate extra copies and increase memory consumption\n",
      "  \"because it will generate extra copies and increase \" +\n"
     ]
    },
    {
     "name": "stdout",
     "output_type": "stream",
     "text": [
      "test y shape : (17520, 1)\n",
      "Inv y shape : (17520, 47)\n",
      "y pred shape : (17520, 1)\n",
      "inv y pred : (17520, 47)\n",
      "Run 7 Mean Absolute Error: 80.20980807361482\n",
      "[['node_24_pressure', 'node_11_pressure', 'link_7_flow', 'link_28_flow', 'node_24_demand', 'link_9_flow', 'node_6_demand', 'link_15_flow', 'node_10_pressure', 'node_4_pressure', 'node_10_demand', 'node_1_pressure', 'node_12_pressure', 'node_14_demand', 'node_4_demand', 'link_1_flow', 'node_27_pressure', 'link_25_flow', 'node_13_pressure', 'node_28_demand', 'link_29_flow', 'node_5_pressure', 'node_22_demand', 'node_5_demand', 'node_8_demand', 'node_9_pressure', 'node_8_pressure', 'node_3_pressure', 'node_13_demand', 'node_20_pressure', 'node_3_demand', 'reservoir_demand', 'node_11_demand', 'link_24_flow', 'node_25_demand', 'link_4_flow', 'link_3_flow', 'node_17_pressure', 'node_29_demand', 'node_6_pressure', 'link_11_flow', 'node_15_pressure', 'node_23_pressure', 'link_21_flow', 'node_30_demand', 'node_12_demand', 'node_26_demand', 'node_18_pressure', 'link_12_flow', 'node_26_pressure']]\n",
      "starting df shape: (87600, 46)\n",
      "This is training run 8 and has the shape:  (87600, 46)\n",
      "The value of dropped columns is 50\n"
     ]
    },
    {
     "name": "stderr",
     "output_type": "stream",
     "text": [
      "/Users/alexellard/opt/anaconda3/lib/python3.7/site-packages/xgboost/data.py:96: UserWarning: Use subset (sliced data) of np.ndarray is not recommended because it will generate extra copies and increase memory consumption\n",
      "  \"because it will generate extra copies and increase \" +\n"
     ]
    },
    {
     "name": "stdout",
     "output_type": "stream",
     "text": [
      "test y shape : (17520, 1)\n",
      "Inv y shape : (17520, 46)\n",
      "y pred shape : (17520, 1)\n",
      "inv y pred : (17520, 46)\n",
      "Run 8 Mean Absolute Error: 4.233478549164986\n",
      "[['link_31_flow', 'node_16_pressure', 'node_2_demand', 'node_4_pressure', 'link_27_flow', 'node_2_pressure', 'node_1_pressure', 'link_17_flow', 'node_11_pressure', 'node_25_demand', 'link_21_flow', 'node_30_pressure', 'node_6_demand', 'link_19_flow', 'link_16_flow', 'link_13_flow', 'node_22_demand', 'node_25_pressure', 'link_25_flow', 'link_20_flow', 'link_8_flow', 'node_17_pressure', 'link_28_flow', 'node_31_demand', 'node_20_pressure', 'node_5_demand', 'node_19_demand', 'link_30_flow', 'link_22_flow', 'link_24_flow', 'node_31_pressure', 'link_7_flow', 'node_23_demand', 'node_8_demand', 'node_15_demand', 'node_7_pressure', 'link_9_flow', 'link_32_flow', 'node_7_demand', 'node_27_demand', 'node_14_pressure', 'node_13_pressure', 'node_27_pressure', 'node_17_demand', 'node_30_demand', 'node_26_demand', 'node_23_pressure', 'node_24_demand', 'node_10_pressure']]\n",
      "starting df shape: (87600, 47)\n",
      "This is training run 9 and has the shape:  (87600, 47)\n",
      "The value of dropped columns is 50\n"
     ]
    },
    {
     "name": "stderr",
     "output_type": "stream",
     "text": [
      "/Users/alexellard/opt/anaconda3/lib/python3.7/site-packages/xgboost/data.py:96: UserWarning: Use subset (sliced data) of np.ndarray is not recommended because it will generate extra copies and increase memory consumption\n",
      "  \"because it will generate extra copies and increase \" +\n"
     ]
    },
    {
     "name": "stdout",
     "output_type": "stream",
     "text": [
      "test y shape : (17520, 1)\n",
      "Inv y shape : (17520, 47)\n",
      "y pred shape : (17520, 1)\n",
      "inv y pred : (17520, 47)\n",
      "Run 9 Mean Absolute Error: 132.55135046918767\n",
      "[['node_12_pressure', 'node_14_demand', 'node_10_pressure', 'link_20_flow', 'node_24_pressure', 'node_21_demand', 'node_6_pressure', 'node_28_demand', 'link_6_flow', 'node_16_pressure', 'link_17_flow', 'node_30_demand', 'node_3_demand', 'node_18_demand', 'link_1_flow', 'link_15_flow', 'node_13_demand', 'reservoir_demand', 'link_32_flow', 'link_30_flow', 'node_20_pressure', 'node_29_demand', 'node_22_pressure', 'node_26_pressure', 'node_24_demand', 'node_5_pressure', 'node_28_pressure', 'link_12_flow', 'node_29_pressure', 'node_10_demand', 'link_7_flow', 'link_4_flow', 'link_19_flow', 'link_29_flow', 'node_9_demand', 'node_25_pressure', 'node_3_pressure', 'link_24_flow', 'node_14_pressure', 'node_15_demand', 'node_17_demand', 'node_8_demand', 'node_23_pressure', 'node_17_pressure', 'node_30_pressure', 'node_12_demand', 'link_13_flow', 'node_4_pressure', 'link_14_flow']]\n",
      "starting df shape: (87600, 47)\n",
      "This is training run 10 and has the shape:  (87600, 47)\n",
      "The value of dropped columns is 50\n"
     ]
    },
    {
     "name": "stderr",
     "output_type": "stream",
     "text": [
      "/Users/alexellard/opt/anaconda3/lib/python3.7/site-packages/xgboost/data.py:96: UserWarning: Use subset (sliced data) of np.ndarray is not recommended because it will generate extra copies and increase memory consumption\n",
      "  \"because it will generate extra copies and increase \" +\n"
     ]
    },
    {
     "name": "stdout",
     "output_type": "stream",
     "text": [
      "test y shape : (17520, 1)\n",
      "Inv y shape : (17520, 47)\n",
      "y pred shape : (17520, 1)\n",
      "inv y pred : (17520, 47)\n",
      "Run 10 Mean Absolute Error: 5.038817980678259\n",
      "[['link_25_flow', 'node_27_pressure', 'reservoir_demand', 'node_23_demand', 'node_14_demand', 'node_23_pressure', 'node_26_demand', 'link_18_flow', 'node_25_pressure', 'link_11_flow', 'node_2_demand', 'node_24_pressure', 'link_9_flow', 'node_8_demand', 'node_29_pressure', 'node_1_demand', 'link_15_flow', 'node_7_pressure', 'node_3_demand', 'link_8_flow', 'link_32_flow', 'link_19_flow', 'node_26_pressure', 'link_6_flow', 'node_13_demand', 'link_12_flow', 'node_22_pressure', 'node_30_demand', 'node_11_demand', 'node_14_pressure', 'link_2_flow', 'node_19_demand', 'node_17_pressure', 'node_6_pressure', 'node_11_pressure', 'node_5_pressure', 'node_30_pressure', 'node_2_pressure', 'node_28_pressure', 'reservoir_pressure', 'node_5_demand', 'link_10_flow', 'node_20_pressure', 'node_10_demand', 'node_25_demand', 'node_13_pressure', 'node_15_pressure', 'link_21_flow', 'node_8_pressure', 'node_7_demand', 'link_31_flow', 'node_21_pressure', 'link_4_flow', 'node_19_pressure', 'node_1_pressure']]\n",
      "starting df shape: (87600, 41)\n",
      "This is training run 1 and has the shape:  (87600, 41)\n",
      "The value of dropped columns is 55\n"
     ]
    },
    {
     "name": "stderr",
     "output_type": "stream",
     "text": [
      "/Users/alexellard/opt/anaconda3/lib/python3.7/site-packages/xgboost/data.py:96: UserWarning: Use subset (sliced data) of np.ndarray is not recommended because it will generate extra copies and increase memory consumption\n",
      "  \"because it will generate extra copies and increase \" +\n"
     ]
    },
    {
     "name": "stdout",
     "output_type": "stream",
     "text": [
      "test y shape : (17520, 1)\n",
      "Inv y shape : (17520, 41)\n",
      "y pred shape : (17520, 1)\n",
      "inv y pred : (17520, 41)\n",
      "Run 1 Mean Absolute Error: 3.148512029680386\n",
      "[['node_8_pressure', 'link_11_flow', 'link_21_flow', 'link_2_flow', 'node_12_pressure', 'node_20_demand', 'node_9_pressure', 'link_28_flow', 'link_7_flow', 'link_12_flow', 'node_16_pressure', 'node_29_pressure', 'node_13_pressure', 'node_4_pressure', 'node_7_demand', 'link_18_flow', 'node_26_pressure', 'link_16_flow', 'node_15_demand', 'link_23_flow', 'node_26_demand', 'link_9_flow', 'node_6_demand', 'link_26_flow', 'node_31_pressure', 'node_14_demand', 'node_19_demand', 'node_11_pressure', 'node_20_pressure', 'node_25_pressure', 'node_9_demand', 'node_30_pressure', 'node_2_demand', 'link_29_flow', 'node_7_pressure', 'node_24_pressure', 'link_15_flow', 'node_17_demand', 'node_22_pressure', 'node_18_pressure', 'node_21_pressure', 'node_1_pressure', 'node_13_demand', 'node_17_pressure', 'node_29_demand', 'link_1_flow', 'node_3_demand', 'link_14_flow', 'link_10_flow', 'node_2_pressure', 'node_11_demand', 'node_6_pressure', 'node_12_demand', 'node_18_demand']]\n",
      "starting df shape: (87600, 42)\n",
      "This is training run 2 and has the shape:  (87600, 42)\n",
      "The value of dropped columns is 55\n"
     ]
    },
    {
     "name": "stderr",
     "output_type": "stream",
     "text": [
      "/Users/alexellard/opt/anaconda3/lib/python3.7/site-packages/xgboost/data.py:96: UserWarning: Use subset (sliced data) of np.ndarray is not recommended because it will generate extra copies and increase memory consumption\n",
      "  \"because it will generate extra copies and increase \" +\n"
     ]
    },
    {
     "name": "stdout",
     "output_type": "stream",
     "text": [
      "test y shape : (17520, 1)\n",
      "Inv y shape : (17520, 42)\n",
      "y pred shape : (17520, 1)\n",
      "inv y pred : (17520, 42)\n",
      "Run 2 Mean Absolute Error: 171.7777768370183\n",
      "[['node_9_demand', 'link_32_flow', 'node_13_pressure', 'node_9_pressure', 'link_6_flow', 'link_27_flow', 'node_19_pressure', 'node_7_demand', 'node_12_demand', 'link_15_flow', 'node_12_pressure', 'link_21_flow', 'node_15_demand', 'link_20_flow', 'node_17_pressure', 'link_9_flow', 'node_15_pressure', 'link_2_flow', 'node_28_demand', 'node_31_demand', 'node_1_pressure', 'node_4_pressure', 'link_25_flow', 'reservoir_demand', 'node_27_pressure', 'node_26_pressure', 'node_14_pressure', 'node_1_demand', 'link_24_flow', 'link_18_flow', 'node_17_demand', 'node_10_demand', 'node_3_pressure', 'node_14_demand', 'node_22_demand', 'link_1_flow', 'node_2_demand', 'node_6_demand', 'node_30_demand', 'node_21_demand', 'link_26_flow', 'node_7_pressure', 'node_5_demand', 'node_29_demand', 'node_31_pressure', 'link_17_flow', 'link_7_flow', 'node_16_pressure', 'node_23_demand', 'node_2_pressure', 'node_30_pressure', 'link_8_flow', 'node_8_demand', 'node_25_demand']]\n",
      "starting df shape: (87600, 42)\n",
      "This is training run 3 and has the shape:  (87600, 42)\n",
      "The value of dropped columns is 55\n"
     ]
    },
    {
     "name": "stderr",
     "output_type": "stream",
     "text": [
      "/Users/alexellard/opt/anaconda3/lib/python3.7/site-packages/xgboost/data.py:96: UserWarning: Use subset (sliced data) of np.ndarray is not recommended because it will generate extra copies and increase memory consumption\n",
      "  \"because it will generate extra copies and increase \" +\n"
     ]
    },
    {
     "name": "stdout",
     "output_type": "stream",
     "text": [
      "test y shape : (17520, 1)\n",
      "Inv y shape : (17520, 42)\n",
      "y pred shape : (17520, 1)\n",
      "inv y pred : (17520, 42)\n",
      "Run 3 Mean Absolute Error: 0.7195658100372863\n",
      "[['link_16_flow', 'link_3_flow', 'node_28_demand', 'link_19_flow', 'node_16_pressure', 'node_18_pressure', 'node_23_demand', 'link_15_flow', 'reservoir_pressure', 'link_23_flow', 'node_13_pressure', 'reservoir_demand', 'link_2_flow', 'node_5_pressure', 'node_21_demand', 'link_8_flow', 'node_28_pressure', 'node_21_pressure', 'link_14_flow', 'node_14_demand', 'node_29_pressure', 'node_15_demand', 'link_12_flow', 'node_20_demand', 'node_19_demand', 'node_20_pressure', 'node_9_demand', 'link_18_flow', 'node_31_demand', 'link_27_flow', 'node_2_demand', 'node_12_demand', 'link_6_flow', 'node_31_pressure', 'link_11_flow', 'node_1_pressure', 'node_19_pressure', 'node_27_demand', 'node_17_pressure', 'link_5_flow', 'node_8_demand', 'link_25_flow', 'link_29_flow', 'node_2_pressure', 'link_10_flow', 'node_7_pressure', 'node_18_demand', 'node_25_demand', 'node_10_pressure', 'node_4_demand', 'link_24_flow', 'link_22_flow', 'node_12_pressure', 'node_3_pressure', 'node_3_demand']]\n",
      "starting df shape: (87600, 41)\n",
      "This is training run 4 and has the shape:  (87600, 41)\n",
      "The value of dropped columns is 55\n"
     ]
    },
    {
     "name": "stderr",
     "output_type": "stream",
     "text": [
      "/Users/alexellard/opt/anaconda3/lib/python3.7/site-packages/xgboost/data.py:96: UserWarning: Use subset (sliced data) of np.ndarray is not recommended because it will generate extra copies and increase memory consumption\n",
      "  \"because it will generate extra copies and increase \" +\n"
     ]
    },
    {
     "name": "stdout",
     "output_type": "stream",
     "text": [
      "test y shape : (17520, 1)\n",
      "Inv y shape : (17520, 41)\n",
      "y pred shape : (17520, 1)\n",
      "inv y pred : (17520, 41)\n",
      "Run 4 Mean Absolute Error: 8.559769750647792\n",
      "[['node_15_demand', 'node_21_pressure', 'link_6_flow', 'node_12_demand', 'link_12_flow', 'node_28_pressure', 'node_11_pressure', 'link_16_flow', 'node_20_pressure', 'node_17_pressure', 'node_21_demand', 'node_10_pressure', 'link_4_flow', 'link_28_flow', 'link_10_flow', 'link_2_flow', 'node_22_pressure', 'link_7_flow', 'node_1_demand', 'link_24_flow', 'node_11_demand', 'link_17_flow', 'node_5_demand', 'node_22_demand', 'node_27_pressure', 'link_5_flow', 'link_21_flow', 'node_24_demand', 'node_10_demand', 'node_23_pressure', 'link_20_flow', 'node_17_demand', 'node_26_pressure', 'link_32_flow', 'link_26_flow', 'link_8_flow', 'link_29_flow', 'reservoir_pressure', 'node_8_pressure', 'node_28_demand', 'node_4_demand', 'node_7_pressure', 'node_15_pressure', 'node_18_demand', 'node_13_demand', 'node_9_demand', 'link_30_flow', 'node_29_demand', 'link_9_flow', 'node_30_demand', 'link_27_flow', 'node_12_pressure', 'link_11_flow', 'node_24_pressure']]\n",
      "starting df shape: (87600, 42)\n",
      "This is training run 5 and has the shape:  (87600, 42)\n",
      "The value of dropped columns is 55\n"
     ]
    },
    {
     "name": "stderr",
     "output_type": "stream",
     "text": [
      "/Users/alexellard/opt/anaconda3/lib/python3.7/site-packages/xgboost/data.py:96: UserWarning: Use subset (sliced data) of np.ndarray is not recommended because it will generate extra copies and increase memory consumption\n",
      "  \"because it will generate extra copies and increase \" +\n"
     ]
    },
    {
     "name": "stdout",
     "output_type": "stream",
     "text": [
      "test y shape : (17520, 1)\n",
      "Inv y shape : (17520, 42)\n",
      "y pred shape : (17520, 1)\n",
      "inv y pred : (17520, 42)\n",
      "Run 5 Mean Absolute Error: 132.83952944218674\n",
      "[['link_29_flow', 'node_11_demand', 'node_31_demand', 'link_30_flow', 'node_27_demand', 'link_4_flow', 'node_17_pressure', 'node_8_pressure', 'link_27_flow', 'link_22_flow', 'link_14_flow', 'node_29_demand', 'link_32_flow', 'node_14_pressure', 'node_24_demand', 'node_2_demand', 'node_3_demand', 'node_10_pressure', 'link_7_flow', 'node_22_pressure', 'node_7_pressure', 'node_2_pressure', 'node_31_pressure', 'node_18_demand', 'node_1_pressure', 'node_12_demand', 'node_7_demand', 'node_6_demand', 'node_5_demand', 'link_1_flow', 'node_13_demand', 'node_3_pressure', 'node_14_demand', 'node_15_demand', 'node_25_demand', 'link_24_flow', 'node_28_pressure', 'node_21_pressure', 'link_2_flow', 'node_11_pressure', 'node_26_demand', 'node_18_pressure', 'link_31_flow', 'node_22_demand', 'node_29_pressure', 'link_19_flow', 'node_5_pressure', 'node_17_demand', 'node_12_pressure', 'node_20_pressure', 'link_28_flow', 'link_21_flow', 'node_23_demand', 'node_15_pressure', 'node_6_pressure']]\n",
      "starting df shape: (87600, 41)\n",
      "This is training run 6 and has the shape:  (87600, 41)\n",
      "The value of dropped columns is 55\n"
     ]
    },
    {
     "name": "stderr",
     "output_type": "stream",
     "text": [
      "/Users/alexellard/opt/anaconda3/lib/python3.7/site-packages/xgboost/data.py:96: UserWarning: Use subset (sliced data) of np.ndarray is not recommended because it will generate extra copies and increase memory consumption\n",
      "  \"because it will generate extra copies and increase \" +\n"
     ]
    },
    {
     "name": "stdout",
     "output_type": "stream",
     "text": [
      "test y shape : (17520, 1)\n",
      "Inv y shape : (17520, 41)\n",
      "y pred shape : (17520, 1)\n",
      "inv y pred : (17520, 41)\n",
      "Run 6 Mean Absolute Error: 48.09532564515812\n",
      "[['link_28_flow', 'node_12_pressure', 'node_13_demand', 'link_5_flow', 'node_23_demand', 'node_26_demand', 'link_9_flow', 'node_7_pressure', 'node_8_demand', 'node_2_demand', 'node_29_pressure', 'node_10_demand', 'link_27_flow', 'node_17_demand', 'node_14_demand', 'link_22_flow', 'node_26_pressure', 'link_25_flow', 'link_18_flow', 'reservoir_pressure', 'link_31_flow', 'node_31_demand', 'node_3_demand', 'node_3_pressure', 'node_28_demand', 'link_20_flow', 'node_23_pressure', 'node_31_pressure', 'node_2_pressure', 'link_6_flow', 'node_9_demand', 'link_13_flow', 'node_5_demand', 'node_1_pressure', 'link_23_flow', 'link_12_flow', 'node_25_demand', 'link_17_flow', 'link_29_flow', 'node_17_pressure', 'node_19_pressure', 'node_20_demand', 'node_8_pressure', 'node_4_demand', 'node_18_demand', 'node_20_pressure', 'node_15_pressure', 'node_6_pressure', 'node_10_pressure', 'node_18_pressure', 'node_29_demand', 'node_16_pressure', 'node_14_pressure', 'node_12_demand']]\n",
      "starting df shape: (87600, 42)\n",
      "This is training run 7 and has the shape:  (87600, 42)\n",
      "The value of dropped columns is 55\n"
     ]
    },
    {
     "name": "stderr",
     "output_type": "stream",
     "text": [
      "/Users/alexellard/opt/anaconda3/lib/python3.7/site-packages/xgboost/data.py:96: UserWarning: Use subset (sliced data) of np.ndarray is not recommended because it will generate extra copies and increase memory consumption\n",
      "  \"because it will generate extra copies and increase \" +\n"
     ]
    },
    {
     "name": "stdout",
     "output_type": "stream",
     "text": [
      "test y shape : (17520, 1)\n",
      "Inv y shape : (17520, 42)\n",
      "y pred shape : (17520, 1)\n",
      "inv y pred : (17520, 42)\n",
      "Run 7 Mean Absolute Error: 42.7498138114535\n",
      "[['node_2_pressure', 'link_16_flow', 'link_10_flow', 'link_14_flow', 'link_28_flow', 'node_11_pressure', 'node_30_pressure', 'node_12_demand', 'link_8_flow', 'link_5_flow', 'link_17_flow', 'node_29_demand', 'node_7_pressure', 'node_4_pressure', 'link_3_flow', 'node_31_demand', 'link_26_flow', 'link_20_flow', 'link_2_flow', 'link_31_flow', 'reservoir_demand', 'node_29_pressure', 'node_6_pressure', 'link_11_flow', 'link_13_flow', 'node_7_demand', 'node_10_pressure', 'node_9_pressure', 'node_24_demand', 'link_7_flow', 'link_1_flow', 'node_8_demand', 'node_30_demand', 'node_9_demand', 'node_26_demand', 'link_4_flow', 'node_2_demand', 'node_15_pressure', 'node_14_pressure', 'link_22_flow', 'node_21_pressure', 'node_25_pressure', 'link_19_flow', 'node_28_pressure', 'node_22_demand', 'link_24_flow', 'node_11_demand', 'node_3_demand', 'node_15_demand', 'node_27_demand', 'node_13_pressure', 'link_15_flow', 'node_21_demand', 'link_27_flow']]\n",
      "starting df shape: (87600, 42)\n",
      "This is training run 8 and has the shape:  (87600, 42)\n",
      "The value of dropped columns is 55\n"
     ]
    },
    {
     "name": "stderr",
     "output_type": "stream",
     "text": [
      "/Users/alexellard/opt/anaconda3/lib/python3.7/site-packages/xgboost/data.py:96: UserWarning: Use subset (sliced data) of np.ndarray is not recommended because it will generate extra copies and increase memory consumption\n",
      "  \"because it will generate extra copies and increase \" +\n"
     ]
    },
    {
     "name": "stdout",
     "output_type": "stream",
     "text": [
      "test y shape : (17520, 1)\n",
      "Inv y shape : (17520, 42)\n",
      "y pred shape : (17520, 1)\n",
      "inv y pred : (17520, 42)\n",
      "Run 8 Mean Absolute Error: 8.473118518050148\n",
      "[['node_28_demand', 'node_8_demand', 'node_18_demand', 'node_12_pressure', 'reservoir_pressure', 'node_13_demand', 'node_27_demand', 'node_8_pressure', 'link_24_flow', 'node_5_demand', 'node_15_demand', 'node_18_pressure', 'node_1_pressure', 'node_21_pressure', 'link_30_flow', 'node_20_pressure', 'node_22_pressure', 'link_23_flow', 'node_19_demand', 'link_1_flow', 'node_29_demand', 'node_30_demand', 'node_3_pressure', 'node_9_demand', 'link_14_flow', 'node_25_pressure', 'node_13_pressure', 'link_6_flow', 'link_11_flow', 'node_3_demand', 'node_23_pressure', 'node_26_pressure', 'node_5_pressure', 'link_17_flow', 'node_23_demand', 'link_25_flow', 'link_8_flow', 'node_4_pressure', 'node_29_pressure', 'link_28_flow', 'node_10_pressure', 'link_20_flow', 'link_19_flow', 'node_6_pressure', 'node_11_demand', 'node_17_pressure', 'link_12_flow', 'node_24_pressure', 'node_26_demand', 'node_7_pressure', 'node_30_pressure', 'node_1_demand', 'node_27_pressure', 'link_5_flow', 'link_9_flow']]\n",
      "starting df shape: (87600, 41)\n",
      "This is training run 9 and has the shape:  (87600, 41)\n",
      "The value of dropped columns is 55\n"
     ]
    },
    {
     "name": "stderr",
     "output_type": "stream",
     "text": [
      "/Users/alexellard/opt/anaconda3/lib/python3.7/site-packages/xgboost/data.py:96: UserWarning: Use subset (sliced data) of np.ndarray is not recommended because it will generate extra copies and increase memory consumption\n",
      "  \"because it will generate extra copies and increase \" +\n"
     ]
    },
    {
     "name": "stdout",
     "output_type": "stream",
     "text": [
      "test y shape : (17520, 1)\n",
      "Inv y shape : (17520, 41)\n",
      "y pred shape : (17520, 1)\n",
      "inv y pred : (17520, 41)\n",
      "Run 9 Mean Absolute Error: 46.58789517743312\n",
      "[['link_8_flow', 'link_18_flow', 'link_7_flow', 'node_19_demand', 'link_28_flow', 'link_15_flow', 'node_26_demand', 'link_11_flow', 'node_22_pressure', 'link_16_flow', 'reservoir_pressure', 'node_22_demand', 'node_2_pressure', 'node_19_pressure', 'node_21_demand', 'node_1_demand', 'node_14_pressure', 'link_23_flow', 'link_12_flow', 'link_27_flow', 'link_2_flow', 'node_11_pressure', 'node_20_demand', 'node_5_pressure', 'node_26_pressure', 'node_4_pressure', 'node_17_demand', 'node_12_demand', 'node_8_demand', 'node_28_pressure', 'node_10_demand', 'node_13_pressure', 'node_3_pressure', 'node_4_demand', 'node_29_demand', 'node_24_pressure', 'node_15_pressure', 'node_12_pressure', 'node_20_pressure', 'node_18_pressure', 'node_18_demand', 'node_7_pressure', 'node_17_pressure', 'link_24_flow', 'link_3_flow', 'node_30_demand', 'node_3_demand', 'link_25_flow', 'link_20_flow', 'link_1_flow', 'node_15_demand', 'link_9_flow', 'node_30_pressure', 'node_16_pressure', 'link_26_flow']]\n",
      "starting df shape: (87600, 41)\n",
      "This is training run 10 and has the shape:  (87600, 41)\n",
      "The value of dropped columns is 55\n"
     ]
    },
    {
     "name": "stderr",
     "output_type": "stream",
     "text": [
      "/Users/alexellard/opt/anaconda3/lib/python3.7/site-packages/xgboost/data.py:96: UserWarning: Use subset (sliced data) of np.ndarray is not recommended because it will generate extra copies and increase memory consumption\n",
      "  \"because it will generate extra copies and increase \" +\n"
     ]
    },
    {
     "name": "stdout",
     "output_type": "stream",
     "text": [
      "test y shape : (17520, 1)\n",
      "Inv y shape : (17520, 41)\n",
      "y pred shape : (17520, 1)\n",
      "inv y pred : (17520, 41)\n",
      "Run 10 Mean Absolute Error: 173.36767982322195\n",
      "[['node_8_pressure', 'node_14_demand', 'node_4_pressure', 'link_30_flow', 'link_11_flow', 'link_17_flow', 'node_1_demand', 'node_4_demand', 'node_27_pressure', 'node_22_demand', 'link_6_flow', 'node_23_pressure', 'node_17_pressure', 'link_9_flow', 'reservoir_pressure', 'node_2_demand', 'node_6_pressure', 'node_18_demand', 'node_1_pressure', 'node_10_demand', 'node_21_pressure', 'node_31_pressure', 'node_15_pressure', 'node_27_demand', 'link_12_flow', 'link_25_flow', 'node_12_pressure', 'node_8_demand', 'link_7_flow', 'node_25_pressure', 'link_16_flow', 'link_26_flow', 'node_7_pressure', 'reservoir_demand', 'link_13_flow', 'node_26_pressure', 'link_15_flow', 'node_29_demand', 'node_12_demand', 'node_5_demand', 'node_19_demand', 'node_11_demand', 'node_18_pressure', 'node_7_demand', 'node_15_demand', 'link_24_flow', 'node_11_pressure', 'link_19_flow', 'node_28_demand', 'link_18_flow', 'link_5_flow', 'node_30_demand', 'node_3_demand', 'node_9_pressure', 'node_20_pressure', 'link_1_flow', 'node_31_demand', 'node_10_pressure', 'node_3_pressure']]\n",
      "starting df shape: (87600, 37)\n",
      "This is training run 1 and has the shape:  (87600, 37)\n",
      "The value of dropped columns is 60\n"
     ]
    },
    {
     "name": "stderr",
     "output_type": "stream",
     "text": [
      "/Users/alexellard/opt/anaconda3/lib/python3.7/site-packages/xgboost/data.py:96: UserWarning: Use subset (sliced data) of np.ndarray is not recommended because it will generate extra copies and increase memory consumption\n",
      "  \"because it will generate extra copies and increase \" +\n"
     ]
    },
    {
     "name": "stdout",
     "output_type": "stream",
     "text": [
      "test y shape : (17520, 1)\n",
      "Inv y shape : (17520, 37)\n",
      "y pred shape : (17520, 1)\n",
      "inv y pred : (17520, 37)\n",
      "Run 1 Mean Absolute Error: 14.114996103870242\n",
      "[['node_23_demand', 'node_26_demand', 'node_14_pressure', 'link_21_flow', 'link_24_flow', 'node_31_demand', 'node_23_pressure', 'node_10_pressure', 'node_12_pressure', 'link_20_flow', 'link_28_flow', 'node_27_demand', 'link_3_flow', 'node_22_demand', 'link_19_flow', 'node_7_demand', 'node_18_pressure', 'link_15_flow', 'link_5_flow', 'node_8_pressure', 'node_28_demand', 'node_4_demand', 'node_19_pressure', 'node_30_demand', 'node_17_demand', 'node_5_demand', 'node_3_demand', 'link_18_flow', 'node_9_pressure', 'node_24_pressure', 'node_19_demand', 'node_13_pressure', 'node_7_pressure', 'link_6_flow', 'node_28_pressure', 'link_12_flow', 'link_23_flow', 'link_27_flow', 'link_11_flow', 'node_25_pressure', 'reservoir_pressure', 'node_14_demand', 'link_17_flow', 'link_7_flow', 'node_30_pressure', 'link_32_flow', 'node_2_demand', 'node_31_pressure', 'link_9_flow', 'link_14_flow', 'link_26_flow', 'node_21_pressure', 'node_29_pressure', 'node_21_demand', 'node_11_pressure', 'link_25_flow', 'node_27_pressure', 'link_13_flow', 'node_24_demand', 'node_5_pressure']]\n",
      "starting df shape: (87600, 36)\n",
      "This is training run 2 and has the shape:  (87600, 36)\n",
      "The value of dropped columns is 60\n"
     ]
    },
    {
     "name": "stderr",
     "output_type": "stream",
     "text": [
      "/Users/alexellard/opt/anaconda3/lib/python3.7/site-packages/xgboost/data.py:96: UserWarning: Use subset (sliced data) of np.ndarray is not recommended because it will generate extra copies and increase memory consumption\n",
      "  \"because it will generate extra copies and increase \" +\n"
     ]
    },
    {
     "name": "stdout",
     "output_type": "stream",
     "text": [
      "test y shape : (17520, 1)\n",
      "Inv y shape : (17520, 36)\n",
      "y pred shape : (17520, 1)\n",
      "inv y pred : (17520, 36)\n",
      "Run 2 Mean Absolute Error: 87.74128639188693\n",
      "[['node_7_demand', 'node_12_pressure', 'node_25_pressure', 'node_9_demand', 'link_5_flow', 'reservoir_pressure', 'link_25_flow', 'link_12_flow', 'link_10_flow', 'link_24_flow', 'link_16_flow', 'link_21_flow', 'node_26_demand', 'node_28_pressure', 'node_13_pressure', 'link_18_flow', 'reservoir_demand', 'link_11_flow', 'node_6_pressure', 'node_18_demand', 'node_25_demand', 'node_12_demand', 'node_15_demand', 'node_29_pressure', 'node_4_pressure', 'node_17_demand', 'node_11_pressure', 'link_29_flow', 'node_20_demand', 'node_21_pressure', 'node_23_demand', 'link_31_flow', 'link_3_flow', 'node_4_demand', 'node_22_pressure', 'link_6_flow', 'node_27_demand', 'node_6_demand', 'node_20_pressure', 'link_9_flow', 'node_13_demand', 'link_30_flow', 'link_19_flow', 'node_14_pressure', 'link_22_flow', 'link_4_flow', 'node_9_pressure', 'link_15_flow', 'node_24_pressure', 'node_22_demand', 'link_32_flow', 'node_16_pressure', 'link_1_flow', 'node_3_pressure', 'node_11_demand', 'node_14_demand', 'node_23_pressure', 'node_31_pressure', 'node_10_demand']]\n",
      "starting df shape: (87600, 37)\n",
      "This is training run 3 and has the shape:  (87600, 37)\n",
      "The value of dropped columns is 60\n"
     ]
    },
    {
     "name": "stderr",
     "output_type": "stream",
     "text": [
      "/Users/alexellard/opt/anaconda3/lib/python3.7/site-packages/xgboost/data.py:96: UserWarning: Use subset (sliced data) of np.ndarray is not recommended because it will generate extra copies and increase memory consumption\n",
      "  \"because it will generate extra copies and increase \" +\n"
     ]
    },
    {
     "name": "stdout",
     "output_type": "stream",
     "text": [
      "test y shape : (17520, 1)\n",
      "Inv y shape : (17520, 37)\n",
      "y pred shape : (17520, 1)\n",
      "inv y pred : (17520, 37)\n",
      "Run 3 Mean Absolute Error: 9.832577199077761\n",
      "[['node_23_demand', 'node_30_demand', 'link_4_flow', 'link_27_flow', 'node_24_demand', 'reservoir_pressure', 'node_8_pressure', 'node_31_pressure', 'node_4_pressure', 'link_19_flow', 'node_7_demand', 'node_27_pressure', 'link_20_flow', 'link_26_flow', 'node_1_demand', 'link_3_flow', 'node_22_pressure', 'link_31_flow', 'node_18_pressure', 'node_25_demand', 'node_9_pressure', 'link_25_flow', 'node_17_pressure', 'link_9_flow', 'node_15_pressure', 'node_8_demand', 'node_30_pressure', 'node_2_pressure', 'node_18_demand', 'node_14_demand', 'node_13_pressure', 'node_11_demand', 'node_5_pressure', 'node_13_demand', 'node_2_demand', 'link_6_flow', 'node_21_pressure', 'node_20_pressure', 'node_22_demand', 'node_12_pressure', 'node_15_demand', 'node_25_pressure', 'node_19_demand', 'link_12_flow', 'link_30_flow', 'link_16_flow', 'link_21_flow', 'node_19_pressure', 'node_29_pressure', 'node_4_demand', 'node_17_demand', 'link_28_flow', 'link_17_flow', 'node_14_pressure', 'link_13_flow', 'link_2_flow', 'node_20_demand', 'node_31_demand', 'link_8_flow']]\n",
      "starting df shape: (87600, 37)\n",
      "This is training run 4 and has the shape:  (87600, 37)\n",
      "The value of dropped columns is 60\n"
     ]
    },
    {
     "name": "stderr",
     "output_type": "stream",
     "text": [
      "/Users/alexellard/opt/anaconda3/lib/python3.7/site-packages/xgboost/data.py:96: UserWarning: Use subset (sliced data) of np.ndarray is not recommended because it will generate extra copies and increase memory consumption\n",
      "  \"because it will generate extra copies and increase \" +\n"
     ]
    },
    {
     "name": "stdout",
     "output_type": "stream",
     "text": [
      "test y shape : (17520, 1)\n",
      "Inv y shape : (17520, 37)\n",
      "y pred shape : (17520, 1)\n",
      "inv y pred : (17520, 37)\n",
      "Run 4 Mean Absolute Error: 131.29157137504427\n",
      "[['link_25_flow', 'link_10_flow', 'node_7_pressure', 'link_18_flow', 'link_26_flow', 'node_30_pressure', 'link_19_flow', 'node_28_demand', 'node_17_pressure', 'node_3_pressure', 'link_31_flow', 'link_24_flow', 'node_24_pressure', 'node_10_pressure', 'node_6_demand', 'link_9_flow', 'node_4_demand', 'reservoir_demand', 'link_1_flow', 'node_31_demand', 'node_20_demand', 'link_30_flow', 'node_12_pressure', 'node_21_demand', 'node_11_demand', 'link_23_flow', 'link_3_flow', 'node_2_demand', 'node_23_pressure', 'node_23_demand', 'link_28_flow', 'link_20_flow', 'node_22_demand', 'node_29_pressure', 'node_13_pressure', 'node_14_pressure', 'node_1_demand', 'node_11_pressure', 'link_13_flow', 'link_5_flow', 'link_22_flow', 'link_2_flow', 'node_22_pressure', 'node_8_demand', 'link_4_flow', 'link_16_flow', 'link_32_flow', 'node_9_demand', 'node_9_pressure', 'node_3_demand', 'node_30_demand', 'node_1_pressure', 'link_27_flow', 'node_6_pressure', 'node_20_pressure', 'node_27_demand', 'node_15_pressure', 'node_14_demand', 'link_14_flow']]\n",
      "starting df shape: (87600, 37)\n",
      "This is training run 5 and has the shape:  (87600, 37)\n",
      "The value of dropped columns is 60\n"
     ]
    },
    {
     "name": "stderr",
     "output_type": "stream",
     "text": [
      "/Users/alexellard/opt/anaconda3/lib/python3.7/site-packages/xgboost/data.py:96: UserWarning: Use subset (sliced data) of np.ndarray is not recommended because it will generate extra copies and increase memory consumption\n",
      "  \"because it will generate extra copies and increase \" +\n"
     ]
    },
    {
     "name": "stdout",
     "output_type": "stream",
     "text": [
      "test y shape : (17520, 1)\n",
      "Inv y shape : (17520, 37)\n",
      "y pred shape : (17520, 1)\n",
      "inv y pred : (17520, 37)\n",
      "Run 5 Mean Absolute Error: 5.9502205668527965\n",
      "[['link_11_flow', 'node_6_pressure', 'node_4_demand', 'reservoir_demand', 'link_6_flow', 'node_23_demand', 'node_22_pressure', 'node_3_pressure', 'node_28_demand', 'link_5_flow', 'link_22_flow', 'node_2_demand', 'node_8_demand', 'link_27_flow', 'node_20_pressure', 'node_5_pressure', 'link_31_flow', 'link_10_flow', 'node_12_demand', 'node_21_demand', 'node_30_demand', 'node_1_pressure', 'node_4_pressure', 'node_5_demand', 'node_12_pressure', 'link_26_flow', 'node_14_pressure', 'node_20_demand', 'node_9_demand', 'node_18_demand', 'node_15_demand', 'node_11_demand', 'node_29_demand', 'node_31_demand', 'node_7_demand', 'link_28_flow', 'node_6_demand', 'node_24_pressure', 'node_19_demand', 'node_9_pressure', 'link_29_flow', 'link_24_flow', 'node_31_pressure', 'node_19_pressure', 'node_15_pressure', 'link_9_flow', 'node_23_pressure', 'node_25_pressure', 'link_3_flow', 'link_32_flow', 'node_18_pressure', 'link_13_flow', 'node_30_pressure', 'node_17_pressure', 'node_27_demand', 'node_1_demand', 'link_30_flow', 'node_26_demand', 'node_10_demand']]\n",
      "starting df shape: (87600, 37)\n",
      "This is training run 6 and has the shape:  (87600, 37)\n",
      "The value of dropped columns is 60\n"
     ]
    },
    {
     "name": "stderr",
     "output_type": "stream",
     "text": [
      "/Users/alexellard/opt/anaconda3/lib/python3.7/site-packages/xgboost/data.py:96: UserWarning: Use subset (sliced data) of np.ndarray is not recommended because it will generate extra copies and increase memory consumption\n",
      "  \"because it will generate extra copies and increase \" +\n"
     ]
    },
    {
     "name": "stdout",
     "output_type": "stream",
     "text": [
      "test y shape : (17520, 1)\n",
      "Inv y shape : (17520, 37)\n",
      "y pred shape : (17520, 1)\n",
      "inv y pred : (17520, 37)\n",
      "Run 6 Mean Absolute Error: 0.4383264558574129\n",
      "[['node_19_demand', 'node_1_demand', 'node_10_pressure', 'link_3_flow', 'link_30_flow', 'node_17_pressure', 'node_6_pressure', 'link_27_flow', 'link_14_flow', 'node_30_pressure', 'node_27_pressure', 'link_24_flow', 'link_11_flow', 'link_26_flow', 'link_8_flow', 'node_12_demand', 'node_1_pressure', 'node_19_pressure', 'node_31_pressure', 'node_12_pressure', 'node_29_pressure', 'node_14_demand', 'link_5_flow', 'node_18_demand', 'node_18_pressure', 'node_23_pressure', 'node_2_pressure', 'node_10_demand', 'node_15_demand', 'link_21_flow', 'link_2_flow', 'link_16_flow', 'node_16_pressure', 'link_29_flow', 'node_26_pressure', 'node_25_pressure', 'node_11_demand', 'link_6_flow', 'node_22_demand', 'node_13_demand', 'node_29_demand', 'link_25_flow', 'node_21_demand', 'link_20_flow', 'reservoir_pressure', 'node_23_demand', 'link_28_flow', 'node_3_pressure', 'link_23_flow', 'node_17_demand', 'link_12_flow', 'node_8_pressure', 'node_4_pressure', 'link_7_flow', 'node_5_pressure', 'node_26_demand', 'link_1_flow', 'link_13_flow', 'node_30_demand', 'node_8_demand']]\n",
      "starting df shape: (87600, 36)\n",
      "This is training run 7 and has the shape:  (87600, 36)\n",
      "The value of dropped columns is 60\n"
     ]
    },
    {
     "name": "stderr",
     "output_type": "stream",
     "text": [
      "/Users/alexellard/opt/anaconda3/lib/python3.7/site-packages/xgboost/data.py:96: UserWarning: Use subset (sliced data) of np.ndarray is not recommended because it will generate extra copies and increase memory consumption\n",
      "  \"because it will generate extra copies and increase \" +\n"
     ]
    },
    {
     "name": "stdout",
     "output_type": "stream",
     "text": [
      "test y shape : (17520, 1)\n",
      "Inv y shape : (17520, 36)\n",
      "y pred shape : (17520, 1)\n",
      "inv y pred : (17520, 36)\n",
      "Run 7 Mean Absolute Error: 135.4689748421583\n",
      "[['link_18_flow', 'node_12_pressure', 'node_13_demand', 'node_4_demand', 'node_22_pressure', 'node_6_pressure', 'link_27_flow', 'link_4_flow', 'link_7_flow', 'link_17_flow', 'node_24_demand', 'link_5_flow', 'link_22_flow', 'link_19_flow', 'link_28_flow', 'link_32_flow', 'node_29_pressure', 'link_20_flow', 'link_24_flow', 'node_20_pressure', 'node_5_pressure', 'node_30_demand', 'node_1_pressure', 'link_26_flow', 'node_3_pressure', 'link_21_flow', 'link_16_flow', 'link_15_flow', 'node_26_pressure', 'node_28_pressure', 'node_17_demand', 'node_21_demand', 'node_13_pressure', 'node_12_demand', 'link_14_flow', 'node_25_demand', 'link_2_flow', 'node_16_pressure', 'node_11_pressure', 'reservoir_demand', 'link_3_flow', 'node_6_demand', 'link_10_flow', 'node_29_demand', 'node_22_demand', 'node_21_pressure', 'link_25_flow', 'node_24_pressure', 'link_30_flow', 'node_17_pressure', 'node_8_pressure', 'reservoir_pressure', 'node_4_pressure', 'node_7_demand', 'node_15_demand', 'node_25_pressure', 'node_8_demand', 'node_26_demand', 'link_29_flow', 'node_31_demand']]\n",
      "starting df shape: (87600, 36)\n",
      "This is training run 8 and has the shape:  (87600, 36)\n",
      "The value of dropped columns is 60\n"
     ]
    },
    {
     "name": "stderr",
     "output_type": "stream",
     "text": [
      "/Users/alexellard/opt/anaconda3/lib/python3.7/site-packages/xgboost/data.py:96: UserWarning: Use subset (sliced data) of np.ndarray is not recommended because it will generate extra copies and increase memory consumption\n",
      "  \"because it will generate extra copies and increase \" +\n"
     ]
    },
    {
     "name": "stdout",
     "output_type": "stream",
     "text": [
      "test y shape : (17520, 1)\n",
      "Inv y shape : (17520, 36)\n",
      "y pred shape : (17520, 1)\n",
      "inv y pred : (17520, 36)\n",
      "Run 8 Mean Absolute Error: 11.15532432098655\n",
      "[['node_5_demand', 'node_26_pressure', 'node_14_pressure', 'link_22_flow', 'node_15_pressure', 'link_8_flow', 'node_23_demand', 'node_2_pressure', 'node_19_pressure', 'node_8_pressure', 'node_28_pressure', 'link_32_flow', 'node_29_demand', 'node_12_pressure', 'node_24_pressure', 'node_27_pressure', 'node_22_demand', 'link_12_flow', 'node_19_demand', 'node_14_demand', 'node_9_demand', 'link_25_flow', 'reservoir_pressure', 'link_4_flow', 'node_7_demand', 'node_4_pressure', 'node_27_demand', 'node_7_pressure', 'link_11_flow', 'link_16_flow', 'link_10_flow', 'node_1_pressure', 'link_31_flow', 'link_26_flow', 'node_18_demand', 'node_15_demand', 'link_5_flow', 'node_31_demand', 'link_14_flow', 'link_27_flow', 'link_24_flow', 'node_4_demand', 'link_30_flow', 'node_22_pressure', 'node_13_demand', 'link_21_flow', 'node_25_demand', 'link_19_flow', 'node_21_demand', 'link_28_flow', 'node_31_pressure', 'node_12_demand', 'node_28_demand', 'node_20_demand', 'node_3_pressure', 'node_20_pressure', 'node_18_pressure', 'link_3_flow', 'link_23_flow']]\n",
      "starting df shape: (87600, 37)\n",
      "This is training run 9 and has the shape:  (87600, 37)\n",
      "The value of dropped columns is 60\n"
     ]
    },
    {
     "name": "stderr",
     "output_type": "stream",
     "text": [
      "/Users/alexellard/opt/anaconda3/lib/python3.7/site-packages/xgboost/data.py:96: UserWarning: Use subset (sliced data) of np.ndarray is not recommended because it will generate extra copies and increase memory consumption\n",
      "  \"because it will generate extra copies and increase \" +\n"
     ]
    },
    {
     "name": "stdout",
     "output_type": "stream",
     "text": [
      "test y shape : (17520, 1)\n",
      "Inv y shape : (17520, 37)\n",
      "y pred shape : (17520, 1)\n",
      "inv y pred : (17520, 37)\n",
      "Run 9 Mean Absolute Error: 100.75582258107472\n",
      "[['link_16_flow', 'node_24_demand', 'link_1_flow', 'link_22_flow', 'link_11_flow', 'node_19_pressure', 'link_23_flow', 'link_13_flow', 'node_17_demand', 'link_9_flow', 'node_4_pressure', 'node_30_demand', 'link_26_flow', 'link_7_flow', 'node_25_pressure', 'link_3_flow', 'node_19_demand', 'link_19_flow', 'node_29_demand', 'node_8_demand', 'link_29_flow', 'link_21_flow', 'node_13_demand', 'node_6_demand', 'reservoir_demand', 'node_31_demand', 'node_6_pressure', 'node_9_demand', 'link_28_flow', 'node_4_demand', 'link_12_flow', 'node_9_pressure', 'link_32_flow', 'node_2_demand', 'link_31_flow', 'link_18_flow', 'node_5_demand', 'node_23_pressure', 'node_2_pressure', 'reservoir_pressure', 'node_21_demand', 'node_31_pressure', 'node_28_pressure', 'node_14_demand', 'node_25_demand', 'node_22_pressure', 'node_22_demand', 'link_6_flow', 'link_2_flow', 'node_1_demand', 'node_27_demand', 'node_26_pressure', 'node_7_pressure', 'node_8_pressure', 'link_25_flow', 'node_16_pressure', 'link_14_flow', 'node_24_pressure', 'node_29_pressure']]\n",
      "starting df shape: (87600, 37)\n",
      "This is training run 10 and has the shape:  (87600, 37)\n",
      "The value of dropped columns is 60\n"
     ]
    },
    {
     "name": "stderr",
     "output_type": "stream",
     "text": [
      "/Users/alexellard/opt/anaconda3/lib/python3.7/site-packages/xgboost/data.py:96: UserWarning: Use subset (sliced data) of np.ndarray is not recommended because it will generate extra copies and increase memory consumption\n",
      "  \"because it will generate extra copies and increase \" +\n"
     ]
    },
    {
     "name": "stdout",
     "output_type": "stream",
     "text": [
      "test y shape : (17520, 1)\n",
      "Inv y shape : (17520, 37)\n",
      "y pred shape : (17520, 1)\n",
      "inv y pred : (17520, 37)\n",
      "Run 10 Mean Absolute Error: 1.221778171563859\n",
      "[['node_17_demand', 'link_30_flow', 'node_12_demand', 'link_2_flow', 'link_21_flow', 'node_9_demand', 'node_28_demand', 'node_15_pressure', 'node_16_pressure', 'link_1_flow', 'node_5_pressure', 'link_19_flow', 'node_23_demand', 'link_6_flow', 'node_23_pressure', 'node_19_pressure', 'node_1_pressure', 'node_14_demand', 'node_27_pressure', 'node_1_demand', 'node_26_pressure', 'link_27_flow', 'node_10_pressure', 'link_4_flow', 'node_24_pressure', 'link_28_flow', 'link_12_flow', 'node_19_demand', 'link_11_flow', 'node_18_demand', 'node_2_pressure', 'reservoir_pressure', 'node_28_pressure', 'link_24_flow', 'node_21_pressure', 'node_11_demand', 'link_17_flow', 'node_27_demand', 'node_6_pressure', 'reservoir_demand', 'link_29_flow', 'node_31_pressure', 'link_31_flow', 'link_5_flow', 'link_16_flow', 'node_21_demand', 'node_9_pressure', 'node_25_demand', 'link_13_flow', 'node_4_demand', 'node_30_pressure', 'node_24_demand', 'node_17_pressure', 'link_14_flow', 'link_8_flow', 'node_3_demand', 'node_8_demand', 'node_7_demand', 'node_26_demand', 'link_23_flow', 'node_3_pressure', 'node_14_pressure', 'node_31_demand', 'link_7_flow']]\n",
      "starting df shape: (87600, 32)\n",
      "This is training run 1 and has the shape:  (87600, 32)\n",
      "The value of dropped columns is 65\n"
     ]
    },
    {
     "name": "stderr",
     "output_type": "stream",
     "text": [
      "/Users/alexellard/opt/anaconda3/lib/python3.7/site-packages/xgboost/data.py:96: UserWarning: Use subset (sliced data) of np.ndarray is not recommended because it will generate extra copies and increase memory consumption\n",
      "  \"because it will generate extra copies and increase \" +\n"
     ]
    },
    {
     "name": "stdout",
     "output_type": "stream",
     "text": [
      "test y shape : (17520, 1)\n",
      "Inv y shape : (17520, 32)\n",
      "y pred shape : (17520, 1)\n",
      "inv y pred : (17520, 32)\n",
      "Run 1 Mean Absolute Error: 7.415570782824133\n",
      "[['node_4_demand', 'node_14_demand', 'node_31_pressure', 'link_11_flow', 'node_6_demand', 'link_28_flow', 'node_16_pressure', 'node_17_demand', 'node_24_demand', 'reservoir_demand', 'link_14_flow', 'link_19_flow', 'node_31_demand', 'node_15_demand', 'node_21_demand', 'node_17_pressure', 'link_31_flow', 'link_27_flow', 'link_32_flow', 'node_26_demand', 'link_1_flow', 'node_19_demand', 'node_5_pressure', 'node_19_pressure', 'node_11_demand', 'link_15_flow', 'node_9_pressure', 'link_24_flow', 'node_28_pressure', 'node_9_demand', 'link_5_flow', 'node_21_pressure', 'link_18_flow', 'node_24_pressure', 'node_28_demand', 'node_25_pressure', 'node_3_demand', 'node_11_pressure', 'node_1_pressure', 'node_18_pressure', 'node_15_pressure', 'node_20_demand', 'node_22_pressure', 'link_12_flow', 'reservoir_pressure', 'node_6_pressure', 'node_25_demand', 'link_4_flow', 'link_20_flow', 'node_23_demand', 'node_27_demand', 'node_23_pressure', 'link_22_flow', 'node_2_demand', 'link_6_flow', 'node_26_pressure', 'node_20_pressure', 'link_29_flow', 'node_30_demand', 'node_5_demand', 'link_9_flow', 'link_7_flow', 'node_22_demand', 'node_3_pressure']]\n",
      "starting df shape: (87600, 32)\n",
      "This is training run 2 and has the shape:  (87600, 32)\n",
      "The value of dropped columns is 65\n"
     ]
    },
    {
     "name": "stderr",
     "output_type": "stream",
     "text": [
      "/Users/alexellard/opt/anaconda3/lib/python3.7/site-packages/xgboost/data.py:96: UserWarning: Use subset (sliced data) of np.ndarray is not recommended because it will generate extra copies and increase memory consumption\n",
      "  \"because it will generate extra copies and increase \" +\n"
     ]
    },
    {
     "name": "stdout",
     "output_type": "stream",
     "text": [
      "test y shape : (17520, 1)\n",
      "Inv y shape : (17520, 32)\n",
      "y pred shape : (17520, 1)\n",
      "inv y pred : (17520, 32)\n",
      "Run 2 Mean Absolute Error: 5.234428772943758\n",
      "[['node_23_pressure', 'node_9_demand', 'link_6_flow', 'node_7_pressure', 'link_1_flow', 'node_18_pressure', 'node_28_pressure', 'node_22_pressure', 'link_28_flow', 'link_30_flow', 'node_21_pressure', 'node_5_demand', 'node_19_demand', 'node_10_pressure', 'link_18_flow', 'node_31_demand', 'link_19_flow', 'link_15_flow', 'node_31_pressure', 'node_14_pressure', 'node_15_pressure', 'node_17_demand', 'link_7_flow', 'node_11_demand', 'node_6_demand', 'node_26_demand', 'node_9_pressure', 'node_6_pressure', 'link_24_flow', 'link_32_flow', 'link_22_flow', 'node_25_demand', 'node_26_pressure', 'node_22_demand', 'node_30_pressure', 'node_13_pressure', 'link_21_flow', 'link_4_flow', 'node_4_demand', 'node_1_demand', 'node_20_demand', 'node_4_pressure', 'node_24_demand', 'node_15_demand', 'link_16_flow', 'link_26_flow', 'link_8_flow', 'link_20_flow', 'node_18_demand', 'node_13_demand', 'link_27_flow', 'node_24_pressure', 'node_14_demand', 'node_29_demand', 'link_12_flow', 'node_3_pressure', 'node_12_demand', 'node_8_demand', 'node_28_demand', 'node_29_pressure', 'node_27_demand', 'link_3_flow', 'node_5_pressure', 'node_30_demand']]\n",
      "starting df shape: (87600, 32)\n",
      "This is training run 3 and has the shape:  (87600, 32)\n",
      "The value of dropped columns is 65\n"
     ]
    },
    {
     "name": "stderr",
     "output_type": "stream",
     "text": [
      "/Users/alexellard/opt/anaconda3/lib/python3.7/site-packages/xgboost/data.py:96: UserWarning: Use subset (sliced data) of np.ndarray is not recommended because it will generate extra copies and increase memory consumption\n",
      "  \"because it will generate extra copies and increase \" +\n"
     ]
    },
    {
     "name": "stdout",
     "output_type": "stream",
     "text": [
      "test y shape : (17520, 1)\n",
      "Inv y shape : (17520, 32)\n",
      "y pred shape : (17520, 1)\n",
      "inv y pred : (17520, 32)\n",
      "Run 3 Mean Absolute Error: 158.6258907443828\n",
      "[['link_8_flow', 'node_9_pressure', 'node_13_pressure', 'link_19_flow', 'link_20_flow', 'link_1_flow', 'link_27_flow', 'node_23_pressure', 'link_6_flow', 'link_30_flow', 'node_10_demand', 'link_32_flow', 'node_14_pressure', 'link_31_flow', 'node_30_pressure', 'node_1_pressure', 'node_25_pressure', 'node_21_pressure', 'node_4_pressure', 'link_29_flow', 'node_6_demand', 'link_28_flow', 'node_5_demand', 'link_4_flow', 'node_22_pressure', 'node_13_demand', 'node_14_demand', 'node_6_pressure', 'node_23_demand', 'node_28_demand', 'node_26_demand', 'node_3_pressure', 'link_16_flow', 'node_18_demand', 'node_24_demand', 'node_10_pressure', 'link_9_flow', 'node_27_demand', 'node_16_pressure', 'link_25_flow', 'link_18_flow', 'node_21_demand', 'node_12_pressure', 'link_17_flow', 'link_11_flow', 'node_17_pressure', 'node_20_pressure', 'link_22_flow', 'node_2_demand', 'link_2_flow', 'node_11_pressure', 'node_20_demand', 'node_4_demand', 'link_13_flow', 'node_31_pressure', 'link_26_flow', 'link_21_flow', 'node_19_pressure', 'link_24_flow', 'node_25_demand', 'node_15_demand', 'node_30_demand', 'node_8_pressure', 'node_12_demand', 'node_28_pressure']]\n",
      "starting df shape: (87600, 31)\n",
      "This is training run 4 and has the shape:  (87600, 31)\n",
      "The value of dropped columns is 65\n"
     ]
    },
    {
     "name": "stderr",
     "output_type": "stream",
     "text": [
      "/Users/alexellard/opt/anaconda3/lib/python3.7/site-packages/xgboost/data.py:96: UserWarning: Use subset (sliced data) of np.ndarray is not recommended because it will generate extra copies and increase memory consumption\n",
      "  \"because it will generate extra copies and increase \" +\n"
     ]
    },
    {
     "name": "stdout",
     "output_type": "stream",
     "text": [
      "test y shape : (17520, 1)\n",
      "Inv y shape : (17520, 31)\n",
      "y pred shape : (17520, 1)\n",
      "inv y pred : (17520, 31)\n",
      "Run 4 Mean Absolute Error: 118.92304027115728\n",
      "[['node_29_demand', 'node_13_pressure', 'link_9_flow', 'link_6_flow', 'reservoir_pressure', 'node_6_pressure', 'node_30_pressure', 'link_22_flow', 'node_14_pressure', 'node_5_pressure', 'node_15_pressure', 'node_16_pressure', 'link_4_flow', 'node_3_pressure', 'node_25_demand', 'node_10_demand', 'node_17_pressure', 'link_27_flow', 'node_30_demand', 'node_11_demand', 'node_27_pressure', 'node_2_demand', 'link_32_flow', 'node_18_pressure', 'link_15_flow', 'node_15_demand', 'node_18_demand', 'node_12_demand', 'node_31_pressure', 'node_25_pressure', 'node_27_demand', 'node_28_pressure', 'link_16_flow', 'node_20_demand', 'node_22_pressure', 'link_13_flow', 'link_30_flow', 'node_9_demand', 'node_22_demand', 'node_10_pressure', 'link_26_flow', 'link_5_flow', 'node_24_pressure', 'link_2_flow', 'link_12_flow', 'node_28_demand', 'node_19_demand', 'link_19_flow', 'node_26_pressure', 'node_17_demand', 'link_18_flow', 'node_23_pressure', 'node_8_demand', 'node_7_demand', 'node_3_demand', 'node_7_pressure', 'link_3_flow', 'node_8_pressure', 'node_19_pressure', 'node_20_pressure', 'link_21_flow', 'link_24_flow', 'node_21_pressure', 'node_11_pressure']]\n",
      "starting df shape: (87600, 32)\n",
      "This is training run 5 and has the shape:  (87600, 32)\n",
      "The value of dropped columns is 65\n"
     ]
    },
    {
     "name": "stderr",
     "output_type": "stream",
     "text": [
      "/Users/alexellard/opt/anaconda3/lib/python3.7/site-packages/xgboost/data.py:96: UserWarning: Use subset (sliced data) of np.ndarray is not recommended because it will generate extra copies and increase memory consumption\n",
      "  \"because it will generate extra copies and increase \" +\n"
     ]
    },
    {
     "name": "stdout",
     "output_type": "stream",
     "text": [
      "test y shape : (17520, 1)\n",
      "Inv y shape : (17520, 32)\n",
      "y pred shape : (17520, 1)\n",
      "inv y pred : (17520, 32)\n",
      "Run 5 Mean Absolute Error: 164.08312141812178\n",
      "[['node_15_pressure', 'node_4_pressure', 'link_32_flow', 'reservoir_pressure', 'link_6_flow', 'link_4_flow', 'node_18_demand', 'link_7_flow', 'node_6_demand', 'node_13_pressure', 'link_21_flow', 'link_12_flow', 'link_16_flow', 'node_19_demand', 'node_29_pressure', 'link_14_flow', 'link_5_flow', 'node_8_demand', 'link_8_flow', 'node_7_pressure', 'node_28_pressure', 'link_2_flow', 'node_5_pressure', 'node_10_pressure', 'node_1_pressure', 'link_10_flow', 'node_24_pressure', 'node_29_demand', 'node_21_demand', 'node_4_demand', 'node_28_demand', 'node_6_pressure', 'node_17_demand', 'node_17_pressure', 'node_20_demand', 'node_26_pressure', 'link_30_flow', 'link_18_flow', 'node_22_pressure', 'reservoir_demand', 'link_13_flow', 'node_7_demand', 'node_26_demand', 'node_12_pressure', 'link_15_flow', 'node_25_pressure', 'node_14_demand', 'node_15_demand', 'node_14_pressure', 'node_1_demand', 'node_30_pressure', 'link_9_flow', 'link_28_flow', 'node_31_pressure', 'node_27_pressure', 'node_31_demand', 'node_20_pressure', 'link_1_flow', 'node_27_demand', 'node_3_demand', 'link_27_flow', 'node_24_demand', 'link_22_flow', 'link_31_flow', 'node_19_pressure']]\n",
      "starting df shape: (87600, 31)\n",
      "This is training run 6 and has the shape:  (87600, 31)\n",
      "The value of dropped columns is 65\n"
     ]
    },
    {
     "name": "stderr",
     "output_type": "stream",
     "text": [
      "/Users/alexellard/opt/anaconda3/lib/python3.7/site-packages/xgboost/data.py:96: UserWarning: Use subset (sliced data) of np.ndarray is not recommended because it will generate extra copies and increase memory consumption\n",
      "  \"because it will generate extra copies and increase \" +\n"
     ]
    },
    {
     "name": "stdout",
     "output_type": "stream",
     "text": [
      "test y shape : (17520, 1)\n",
      "Inv y shape : (17520, 31)\n",
      "y pred shape : (17520, 1)\n",
      "inv y pred : (17520, 31)\n",
      "Run 6 Mean Absolute Error: 8.975470342932004\n",
      "[['link_3_flow', 'node_25_pressure', 'node_21_pressure', 'link_27_flow', 'link_22_flow', 'link_26_flow', 'node_10_pressure', 'node_18_pressure', 'node_15_pressure', 'node_13_pressure', 'link_30_flow', 'node_12_demand', 'link_20_flow', 'node_14_demand', 'node_19_pressure', 'node_7_pressure', 'link_7_flow', 'link_4_flow', 'link_9_flow', 'node_3_demand', 'node_5_pressure', 'node_20_pressure', 'node_13_demand', 'node_3_pressure', 'node_17_pressure', 'node_30_pressure', 'node_11_demand', 'node_31_pressure', 'node_28_pressure', 'link_12_flow', 'link_28_flow', 'node_15_demand', 'node_23_pressure', 'reservoir_pressure', 'link_17_flow', 'node_1_demand', 'node_22_demand', 'link_32_flow', 'link_1_flow', 'node_27_demand', 'link_15_flow', 'node_30_demand', 'node_1_pressure', 'link_6_flow', 'node_2_demand', 'reservoir_demand', 'link_29_flow', 'node_4_demand', 'node_26_pressure', 'node_12_pressure', 'link_21_flow', 'link_31_flow', 'node_21_demand', 'link_25_flow', 'node_24_demand', 'link_14_flow', 'node_2_pressure', 'link_10_flow', 'node_29_pressure', 'link_5_flow', 'node_26_demand', 'link_2_flow', 'node_19_demand', 'node_24_pressure']]\n",
      "starting df shape: (87600, 32)\n",
      "This is training run 7 and has the shape:  (87600, 32)\n",
      "The value of dropped columns is 65\n"
     ]
    },
    {
     "name": "stderr",
     "output_type": "stream",
     "text": [
      "/Users/alexellard/opt/anaconda3/lib/python3.7/site-packages/xgboost/data.py:96: UserWarning: Use subset (sliced data) of np.ndarray is not recommended because it will generate extra copies and increase memory consumption\n",
      "  \"because it will generate extra copies and increase \" +\n"
     ]
    },
    {
     "name": "stdout",
     "output_type": "stream",
     "text": [
      "test y shape : (17520, 1)\n",
      "Inv y shape : (17520, 32)\n",
      "y pred shape : (17520, 1)\n",
      "inv y pred : (17520, 32)\n",
      "Run 7 Mean Absolute Error: 4.834876707903084\n",
      "[['node_20_demand', 'node_21_pressure', 'node_15_demand', 'node_23_demand', 'link_30_flow', 'link_20_flow', 'node_28_demand', 'link_12_flow', 'node_3_pressure', 'node_4_demand', 'node_30_pressure', 'link_24_flow', 'link_32_flow', 'node_15_pressure', 'link_5_flow', 'node_13_pressure', 'node_8_demand', 'node_1_demand', 'link_21_flow', 'node_22_demand', 'link_27_flow', 'node_12_demand', 'node_26_pressure', 'node_2_demand', 'node_25_demand', 'link_10_flow', 'link_11_flow', 'link_15_flow', 'node_11_demand', 'node_10_demand', 'node_3_demand', 'node_2_pressure', 'link_8_flow', 'node_29_pressure', 'node_19_demand', 'node_17_demand', 'link_13_flow', 'link_23_flow', 'link_28_flow', 'node_13_demand', 'node_27_pressure', 'link_9_flow', 'node_18_demand', 'node_20_pressure', 'node_1_pressure', 'link_19_flow', 'node_24_demand', 'node_9_demand', 'node_8_pressure', 'node_11_pressure', 'node_5_demand', 'node_31_demand', 'node_19_pressure', 'node_6_demand', 'node_30_demand', 'node_5_pressure', 'node_27_demand', 'reservoir_demand', 'link_6_flow', 'reservoir_pressure', 'node_18_pressure', 'link_18_flow', 'node_7_demand', 'link_3_flow']]\n",
      "starting df shape: (87600, 32)\n",
      "This is training run 8 and has the shape:  (87600, 32)\n",
      "The value of dropped columns is 65\n"
     ]
    },
    {
     "name": "stderr",
     "output_type": "stream",
     "text": [
      "/Users/alexellard/opt/anaconda3/lib/python3.7/site-packages/xgboost/data.py:96: UserWarning: Use subset (sliced data) of np.ndarray is not recommended because it will generate extra copies and increase memory consumption\n",
      "  \"because it will generate extra copies and increase \" +\n"
     ]
    },
    {
     "name": "stdout",
     "output_type": "stream",
     "text": [
      "test y shape : (17520, 1)\n",
      "Inv y shape : (17520, 32)\n",
      "y pred shape : (17520, 1)\n",
      "inv y pred : (17520, 32)\n",
      "Run 8 Mean Absolute Error: 1.3274891480197863\n",
      "[['node_20_pressure', 'node_31_pressure', 'node_19_demand', 'node_15_demand', 'link_23_flow', 'link_1_flow', 'node_22_demand', 'node_10_pressure', 'node_7_pressure', 'node_11_demand', 'node_8_demand', 'node_22_pressure', 'node_23_demand', 'link_4_flow', 'link_6_flow', 'node_15_pressure', 'node_21_demand', 'node_28_pressure', 'node_17_pressure', 'node_2_pressure', 'node_5_demand', 'node_25_demand', 'node_14_pressure', 'link_9_flow', 'node_30_demand', 'link_30_flow', 'link_19_flow', 'link_25_flow', 'node_26_pressure', 'node_13_pressure', 'link_24_flow', 'node_26_demand', 'node_9_pressure', 'link_21_flow', 'node_1_pressure', 'node_19_pressure', 'node_31_demand', 'node_24_pressure', 'node_17_demand', 'link_26_flow', 'node_16_pressure', 'link_5_flow', 'link_17_flow', 'node_9_demand', 'link_27_flow', 'node_25_pressure', 'node_12_pressure', 'link_22_flow', 'node_12_demand', 'node_20_demand', 'node_13_demand', 'node_28_demand', 'node_2_demand', 'node_24_demand', 'node_3_demand', 'reservoir_demand', 'node_1_demand', 'node_18_demand', 'link_10_flow', 'node_11_pressure', 'node_27_pressure', 'node_4_pressure', 'link_32_flow', 'node_29_pressure']]\n",
      "starting df shape: (87600, 32)\n",
      "This is training run 9 and has the shape:  (87600, 32)\n",
      "The value of dropped columns is 65\n"
     ]
    },
    {
     "name": "stderr",
     "output_type": "stream",
     "text": [
      "/Users/alexellard/opt/anaconda3/lib/python3.7/site-packages/xgboost/data.py:96: UserWarning: Use subset (sliced data) of np.ndarray is not recommended because it will generate extra copies and increase memory consumption\n",
      "  \"because it will generate extra copies and increase \" +\n"
     ]
    },
    {
     "name": "stdout",
     "output_type": "stream",
     "text": [
      "test y shape : (17520, 1)\n",
      "Inv y shape : (17520, 32)\n",
      "y pred shape : (17520, 1)\n",
      "inv y pred : (17520, 32)\n",
      "Run 9 Mean Absolute Error: 1.9944433211869497\n",
      "[['link_15_flow', 'node_30_pressure', 'link_29_flow', 'node_17_demand', 'node_18_pressure', 'link_17_flow', 'link_6_flow', 'node_21_demand', 'node_19_demand', 'link_26_flow', 'link_2_flow', 'node_8_demand', 'link_21_flow', 'node_13_pressure', 'node_25_demand', 'link_18_flow', 'node_24_pressure', 'node_26_demand', 'node_11_pressure', 'node_15_demand', 'link_30_flow', 'node_24_demand', 'node_13_demand', 'node_7_pressure', 'link_13_flow', 'node_3_demand', 'node_23_pressure', 'link_9_flow', 'link_4_flow', 'node_12_demand', 'link_32_flow', 'node_31_demand', 'node_31_pressure', 'node_20_demand', 'link_3_flow', 'node_29_demand', 'node_22_pressure', 'node_23_demand', 'node_4_pressure', 'link_27_flow', 'node_1_pressure', 'node_19_pressure', 'node_26_pressure', 'node_6_demand', 'reservoir_pressure', 'node_28_demand', 'node_21_pressure', 'node_2_demand', 'link_25_flow', 'node_17_pressure', 'node_22_demand', 'link_16_flow', 'node_1_demand', 'node_10_pressure', 'node_20_pressure', 'link_23_flow', 'link_31_flow', 'link_24_flow', 'node_7_demand', 'node_11_demand', 'link_10_flow', 'node_25_pressure', 'node_27_demand', 'node_5_pressure']]\n",
      "starting df shape: (87600, 32)\n",
      "This is training run 10 and has the shape:  (87600, 32)\n",
      "The value of dropped columns is 65\n"
     ]
    },
    {
     "name": "stderr",
     "output_type": "stream",
     "text": [
      "/Users/alexellard/opt/anaconda3/lib/python3.7/site-packages/xgboost/data.py:96: UserWarning: Use subset (sliced data) of np.ndarray is not recommended because it will generate extra copies and increase memory consumption\n",
      "  \"because it will generate extra copies and increase \" +\n"
     ]
    },
    {
     "name": "stdout",
     "output_type": "stream",
     "text": [
      "test y shape : (17520, 1)\n",
      "Inv y shape : (17520, 32)\n",
      "y pred shape : (17520, 1)\n",
      "inv y pred : (17520, 32)\n",
      "Run 10 Mean Absolute Error: 159.5656902008463\n",
      "[['link_16_flow', 'node_28_demand', 'link_9_flow', 'link_19_flow', 'node_9_demand', 'link_31_flow', 'node_26_demand', 'link_23_flow', 'node_21_pressure', 'node_25_pressure', 'node_7_pressure', 'node_29_demand', 'node_29_pressure', 'link_21_flow', 'node_25_demand', 'node_8_pressure', 'node_5_pressure', 'link_22_flow', 'link_25_flow', 'reservoir_pressure', 'node_27_pressure', 'node_23_pressure', 'node_7_demand', 'link_20_flow', 'node_17_pressure', 'link_14_flow', 'node_9_pressure', 'node_31_demand', 'node_28_pressure', 'link_15_flow', 'node_20_pressure', 'node_6_demand', 'node_14_pressure', 'link_7_flow', 'node_10_pressure', 'node_19_demand', 'node_30_demand', 'link_5_flow', 'node_10_demand', 'link_24_flow', 'node_15_demand', 'node_1_demand', 'node_15_pressure', 'node_16_pressure', 'node_18_pressure', 'node_3_demand', 'node_22_pressure', 'link_12_flow', 'node_2_pressure', 'node_30_pressure', 'node_26_pressure', 'node_1_pressure', 'node_11_pressure', 'link_4_flow', 'link_28_flow', 'node_14_demand', 'link_1_flow', 'link_17_flow', 'node_19_pressure', 'link_26_flow', 'link_2_flow', 'link_27_flow', 'node_24_demand', 'node_21_demand', 'node_22_demand', 'node_6_pressure', 'link_8_flow', 'link_13_flow', 'node_5_demand']]\n",
      "starting df shape: (87600, 27)\n",
      "This is training run 1 and has the shape:  (87600, 27)\n",
      "The value of dropped columns is 70\n"
     ]
    },
    {
     "name": "stderr",
     "output_type": "stream",
     "text": [
      "/Users/alexellard/opt/anaconda3/lib/python3.7/site-packages/xgboost/data.py:96: UserWarning: Use subset (sliced data) of np.ndarray is not recommended because it will generate extra copies and increase memory consumption\n",
      "  \"because it will generate extra copies and increase \" +\n"
     ]
    },
    {
     "name": "stdout",
     "output_type": "stream",
     "text": [
      "test y shape : (17520, 1)\n",
      "Inv y shape : (17520, 27)\n",
      "y pred shape : (17520, 1)\n",
      "inv y pred : (17520, 27)\n",
      "Run 1 Mean Absolute Error: 147.3319482988873\n",
      "[['node_10_demand', 'node_6_pressure', 'reservoir_demand', 'link_26_flow', 'link_11_flow', 'link_13_flow', 'node_27_demand', 'node_23_pressure', 'node_19_demand', 'node_30_pressure', 'node_1_pressure', 'link_1_flow', 'link_2_flow', 'link_20_flow', 'link_16_flow', 'node_29_pressure', 'node_20_pressure', 'node_15_pressure', 'node_19_pressure', 'node_25_demand', 'node_3_pressure', 'node_12_demand', 'link_27_flow', 'link_15_flow', 'node_2_demand', 'node_9_pressure', 'node_31_demand', 'link_10_flow', 'node_24_pressure', 'link_24_flow', 'link_12_flow', 'link_3_flow', 'node_27_pressure', 'link_8_flow', 'node_7_demand', 'link_29_flow', 'node_23_demand', 'link_30_flow', 'node_31_pressure', 'node_15_demand', 'link_21_flow', 'node_18_pressure', 'node_5_demand', 'link_23_flow', 'link_25_flow', 'node_29_demand', 'reservoir_pressure', 'node_21_pressure', 'link_17_flow', 'node_6_demand', 'node_13_pressure', 'link_9_flow', 'node_20_demand', 'node_22_demand', 'node_14_demand', 'node_8_demand', 'link_6_flow', 'node_30_demand', 'node_13_demand', 'node_12_pressure', 'link_7_flow', 'link_28_flow', 'node_3_demand', 'node_4_demand', 'node_21_demand', 'node_5_pressure', 'node_8_pressure', 'node_11_demand', 'node_4_pressure']]\n",
      "starting df shape: (87600, 27)\n",
      "This is training run 2 and has the shape:  (87600, 27)\n",
      "The value of dropped columns is 70\n"
     ]
    },
    {
     "name": "stderr",
     "output_type": "stream",
     "text": [
      "/Users/alexellard/opt/anaconda3/lib/python3.7/site-packages/xgboost/data.py:96: UserWarning: Use subset (sliced data) of np.ndarray is not recommended because it will generate extra copies and increase memory consumption\n",
      "  \"because it will generate extra copies and increase \" +\n"
     ]
    },
    {
     "name": "stdout",
     "output_type": "stream",
     "text": [
      "test y shape : (17520, 1)\n",
      "Inv y shape : (17520, 27)\n",
      "y pred shape : (17520, 1)\n",
      "inv y pred : (17520, 27)\n",
      "Run 2 Mean Absolute Error: 8.330326143405395\n",
      "[['node_6_pressure', 'node_4_pressure', 'node_12_demand', 'node_8_pressure', 'link_28_flow', 'node_21_pressure', 'node_18_demand', 'node_5_demand', 'node_14_pressure', 'node_27_pressure', 'node_26_demand', 'link_14_flow', 'node_11_pressure', 'node_21_demand', 'node_15_pressure', 'node_4_demand', 'link_15_flow', 'node_30_demand', 'node_23_pressure', 'link_13_flow', 'node_17_demand', 'node_28_pressure', 'node_7_demand', 'node_16_pressure', 'node_20_pressure', 'link_19_flow', 'reservoir_pressure', 'link_11_flow', 'node_1_pressure', 'node_10_pressure', 'node_6_demand', 'link_9_flow', 'node_15_demand', 'node_29_pressure', 'link_23_flow', 'node_19_demand', 'link_6_flow', 'link_22_flow', 'node_25_demand', 'node_23_demand', 'link_26_flow', 'link_29_flow', 'node_2_demand', 'node_13_demand', 'link_5_flow', 'link_20_flow', 'node_10_demand', 'node_28_demand', 'node_3_pressure', 'link_25_flow', 'link_8_flow', 'node_31_demand', 'link_4_flow', 'node_9_pressure', 'node_27_demand', 'node_8_demand', 'node_25_pressure', 'node_5_pressure', 'link_17_flow', 'node_24_demand', 'node_18_pressure', 'node_29_demand', 'link_12_flow', 'node_2_pressure', 'node_11_demand', 'link_2_flow', 'node_9_demand', 'node_7_pressure', 'reservoir_demand']]\n",
      "starting df shape: (87600, 27)\n",
      "This is training run 3 and has the shape:  (87600, 27)\n",
      "The value of dropped columns is 70\n"
     ]
    },
    {
     "name": "stderr",
     "output_type": "stream",
     "text": [
      "/Users/alexellard/opt/anaconda3/lib/python3.7/site-packages/xgboost/data.py:96: UserWarning: Use subset (sliced data) of np.ndarray is not recommended because it will generate extra copies and increase memory consumption\n",
      "  \"because it will generate extra copies and increase \" +\n"
     ]
    },
    {
     "name": "stdout",
     "output_type": "stream",
     "text": [
      "test y shape : (17520, 1)\n",
      "Inv y shape : (17520, 27)\n",
      "y pred shape : (17520, 1)\n",
      "inv y pred : (17520, 27)\n",
      "Run 3 Mean Absolute Error: 5.10872990983479\n",
      "[['node_9_demand', 'node_20_pressure', 'node_30_pressure', 'link_3_flow', 'node_11_demand', 'link_8_flow', 'node_21_demand', 'link_18_flow', 'node_15_demand', 'link_27_flow', 'link_23_flow', 'node_12_demand', 'node_7_demand', 'node_25_pressure', 'node_24_pressure', 'node_6_pressure', 'node_19_pressure', 'link_15_flow', 'node_23_pressure', 'node_31_demand', 'node_22_pressure', 'node_2_pressure', 'reservoir_pressure', 'node_28_demand', 'node_3_pressure', 'link_32_flow', 'node_9_pressure', 'node_12_pressure', 'node_20_demand', 'link_12_flow', 'node_2_demand', 'link_1_flow', 'node_5_demand', 'node_27_demand', 'link_25_flow', 'node_13_pressure', 'link_13_flow', 'node_15_pressure', 'node_7_pressure', 'node_26_demand', 'link_31_flow', 'link_11_flow', 'link_17_flow', 'link_7_flow', 'node_16_pressure', 'link_21_flow', 'link_26_flow', 'link_6_flow', 'node_8_pressure', 'node_31_pressure', 'node_13_demand', 'node_29_pressure', 'node_3_demand', 'link_30_flow', 'node_18_demand', 'link_10_flow', 'node_30_demand', 'node_18_pressure', 'node_14_pressure', 'link_19_flow', 'node_1_pressure', 'link_29_flow', 'node_4_demand', 'node_21_pressure', 'node_6_demand', 'link_14_flow', 'link_16_flow', 'node_25_demand', 'link_20_flow']]\n",
      "starting df shape: (87600, 27)\n",
      "This is training run 4 and has the shape:  (87600, 27)\n",
      "The value of dropped columns is 70\n"
     ]
    },
    {
     "name": "stderr",
     "output_type": "stream",
     "text": [
      "/Users/alexellard/opt/anaconda3/lib/python3.7/site-packages/xgboost/data.py:96: UserWarning: Use subset (sliced data) of np.ndarray is not recommended because it will generate extra copies and increase memory consumption\n",
      "  \"because it will generate extra copies and increase \" +\n"
     ]
    },
    {
     "name": "stdout",
     "output_type": "stream",
     "text": [
      "test y shape : (17520, 1)\n",
      "Inv y shape : (17520, 27)\n",
      "y pred shape : (17520, 1)\n",
      "inv y pred : (17520, 27)\n",
      "Run 4 Mean Absolute Error: 193.61577741624708\n",
      "[['node_24_pressure', 'link_19_flow', 'link_1_flow', 'node_11_pressure', 'node_22_demand', 'node_3_pressure', 'node_3_demand', 'node_10_pressure', 'node_18_demand', 'link_18_flow', 'link_14_flow', 'node_27_demand', 'node_31_pressure', 'node_16_pressure', 'link_17_flow', 'link_4_flow', 'link_30_flow', 'node_14_pressure', 'node_15_pressure', 'node_9_demand', 'link_16_flow', 'link_21_flow', 'node_19_demand', 'link_8_flow', 'link_26_flow', 'node_15_demand', 'node_20_demand', 'node_11_demand', 'node_30_demand', 'link_24_flow', 'reservoir_pressure', 'node_13_pressure', 'link_11_flow', 'link_15_flow', 'node_26_pressure', 'node_25_pressure', 'node_21_pressure', 'node_5_pressure', 'node_17_demand', 'node_10_demand', 'link_5_flow', 'link_12_flow', 'link_27_flow', 'node_2_pressure', 'link_25_flow', 'link_31_flow', 'node_14_demand', 'node_26_demand', 'link_10_flow', 'node_4_pressure', 'node_30_pressure', 'node_22_pressure', 'node_31_demand', 'node_7_pressure', 'node_28_pressure', 'node_25_demand', 'node_7_demand', 'node_5_demand', 'link_2_flow', 'node_6_pressure', 'node_1_pressure', 'link_29_flow', 'link_13_flow', 'node_17_pressure', 'node_29_pressure', 'node_23_demand', 'node_27_pressure', 'node_28_demand', 'node_9_pressure']]\n",
      "starting df shape: (87600, 27)\n",
      "This is training run 5 and has the shape:  (87600, 27)\n",
      "The value of dropped columns is 70\n"
     ]
    },
    {
     "name": "stderr",
     "output_type": "stream",
     "text": [
      "/Users/alexellard/opt/anaconda3/lib/python3.7/site-packages/xgboost/data.py:96: UserWarning: Use subset (sliced data) of np.ndarray is not recommended because it will generate extra copies and increase memory consumption\n",
      "  \"because it will generate extra copies and increase \" +\n"
     ]
    },
    {
     "name": "stdout",
     "output_type": "stream",
     "text": [
      "test y shape : (17520, 1)\n",
      "Inv y shape : (17520, 27)\n",
      "y pred shape : (17520, 1)\n",
      "inv y pred : (17520, 27)\n",
      "Run 5 Mean Absolute Error: 196.22910421729767\n",
      "[['node_17_pressure', 'node_26_demand', 'reservoir_demand', 'link_11_flow', 'link_5_flow', 'link_2_flow', 'link_15_flow', 'node_11_demand', 'link_19_flow', 'node_7_pressure', 'node_19_demand', 'link_17_flow', 'node_1_demand', 'node_27_demand', 'node_3_pressure', 'link_29_flow', 'node_20_pressure', 'node_29_demand', 'node_11_pressure', 'node_24_demand', 'node_12_demand', 'link_10_flow', 'link_30_flow', 'node_2_pressure', 'node_6_pressure', 'node_9_demand', 'link_14_flow', 'node_20_demand', 'node_22_demand', 'node_3_demand', 'node_15_demand', 'node_14_pressure', 'node_21_demand', 'link_18_flow', 'link_1_flow', 'node_21_pressure', 'node_8_demand', 'node_5_pressure', 'node_14_demand', 'link_13_flow', 'link_3_flow', 'link_31_flow', 'node_28_demand', 'node_19_pressure', 'link_26_flow', 'node_28_pressure', 'node_23_demand', 'link_23_flow', 'node_9_pressure', 'node_18_pressure', 'node_5_demand', 'node_10_demand', 'link_6_flow', 'node_4_demand', 'link_20_flow', 'node_24_pressure', 'link_25_flow', 'node_4_pressure', 'node_13_pressure', 'node_25_pressure', 'node_18_demand', 'link_32_flow', 'node_25_demand', 'link_27_flow', 'node_8_pressure', 'node_27_pressure', 'node_2_demand', 'node_23_pressure', 'node_31_demand', 'link_12_flow']]\n",
      "starting df shape: (87600, 26)\n",
      "This is training run 6 and has the shape:  (87600, 26)\n",
      "The value of dropped columns is 70\n"
     ]
    },
    {
     "name": "stderr",
     "output_type": "stream",
     "text": [
      "/Users/alexellard/opt/anaconda3/lib/python3.7/site-packages/xgboost/data.py:96: UserWarning: Use subset (sliced data) of np.ndarray is not recommended because it will generate extra copies and increase memory consumption\n",
      "  \"because it will generate extra copies and increase \" +\n"
     ]
    },
    {
     "name": "stdout",
     "output_type": "stream",
     "text": [
      "test y shape : (17520, 1)\n",
      "Inv y shape : (17520, 26)\n",
      "y pred shape : (17520, 1)\n",
      "inv y pred : (17520, 26)\n",
      "Run 6 Mean Absolute Error: 7.687968397812413\n",
      "[['link_15_flow', 'node_5_pressure', 'node_21_pressure', 'node_25_pressure', 'node_21_demand', 'link_9_flow', 'link_14_flow', 'link_29_flow', 'link_2_flow', 'node_19_demand', 'link_27_flow', 'link_20_flow', 'node_11_demand', 'node_14_pressure', 'link_1_flow', 'node_12_demand', 'link_25_flow', 'link_23_flow', 'node_26_pressure', 'node_29_demand', 'link_17_flow', 'node_31_pressure', 'link_28_flow', 'node_1_demand', 'node_9_demand', 'link_30_flow', 'node_3_pressure', 'node_27_demand', 'node_23_pressure', 'node_24_pressure', 'link_19_flow', 'node_28_demand', 'link_26_flow', 'node_19_pressure', 'node_27_pressure', 'node_18_demand', 'link_7_flow', 'node_8_pressure', 'link_10_flow', 'node_6_pressure', 'node_22_pressure', 'node_10_pressure', 'node_20_pressure', 'node_7_demand', 'node_18_pressure', 'node_25_demand', 'link_18_flow', 'node_10_demand', 'node_17_pressure', 'node_17_demand', 'node_31_demand', 'node_15_demand', 'node_3_demand', 'node_22_demand', 'node_4_pressure', 'node_16_pressure', 'node_13_pressure', 'node_20_demand', 'node_23_demand', 'link_31_flow', 'reservoir_demand', 'link_22_flow', 'node_5_demand', 'node_26_demand', 'reservoir_pressure', 'node_30_demand', 'node_11_pressure', 'node_13_demand', 'node_8_demand']]\n",
      "starting df shape: (87600, 27)\n",
      "This is training run 7 and has the shape:  (87600, 27)\n",
      "The value of dropped columns is 70\n"
     ]
    },
    {
     "name": "stderr",
     "output_type": "stream",
     "text": [
      "/Users/alexellard/opt/anaconda3/lib/python3.7/site-packages/xgboost/data.py:96: UserWarning: Use subset (sliced data) of np.ndarray is not recommended because it will generate extra copies and increase memory consumption\n",
      "  \"because it will generate extra copies and increase \" +\n"
     ]
    },
    {
     "name": "stdout",
     "output_type": "stream",
     "text": [
      "test y shape : (17520, 1)\n",
      "Inv y shape : (17520, 27)\n",
      "y pred shape : (17520, 1)\n",
      "inv y pred : (17520, 27)\n",
      "Run 7 Mean Absolute Error: 5.015615111998713\n",
      "[['node_19_demand', 'node_1_pressure', 'node_14_pressure', 'node_8_pressure', 'link_18_flow', 'node_18_demand', 'link_28_flow', 'node_18_pressure', 'node_22_pressure', 'node_6_demand', 'link_17_flow', 'node_30_demand', 'link_15_flow', 'node_5_pressure', 'node_4_demand', 'node_1_demand', 'node_16_pressure', 'link_30_flow', 'node_17_pressure', 'node_31_pressure', 'node_28_demand', 'node_21_demand', 'reservoir_pressure', 'node_11_pressure', 'node_12_demand', 'node_7_pressure', 'node_2_demand', 'node_24_pressure', 'node_30_pressure', 'node_31_demand', 'node_21_pressure', 'link_13_flow', 'node_9_demand', 'link_9_flow', 'link_32_flow', 'node_26_pressure', 'node_25_pressure', 'node_10_demand', 'link_11_flow', 'link_5_flow', 'node_3_demand', 'link_2_flow', 'node_29_demand', 'node_20_pressure', 'link_1_flow', 'node_28_pressure', 'node_17_demand', 'link_7_flow', 'node_13_pressure', 'node_23_demand', 'node_5_demand', 'link_12_flow', 'link_3_flow', 'node_20_demand', 'link_16_flow', 'node_15_pressure', 'node_15_demand', 'link_6_flow', 'node_25_demand', 'node_23_pressure', 'node_3_pressure', 'link_24_flow', 'node_7_demand', 'link_26_flow', 'link_31_flow', 'reservoir_demand', 'node_4_pressure', 'node_13_demand', 'link_19_flow']]\n",
      "starting df shape: (87600, 27)\n",
      "This is training run 8 and has the shape:  (87600, 27)\n",
      "The value of dropped columns is 70\n"
     ]
    },
    {
     "name": "stderr",
     "output_type": "stream",
     "text": [
      "/Users/alexellard/opt/anaconda3/lib/python3.7/site-packages/xgboost/data.py:96: UserWarning: Use subset (sliced data) of np.ndarray is not recommended because it will generate extra copies and increase memory consumption\n",
      "  \"because it will generate extra copies and increase \" +\n"
     ]
    },
    {
     "name": "stdout",
     "output_type": "stream",
     "text": [
      "test y shape : (17520, 1)\n",
      "Inv y shape : (17520, 27)\n",
      "y pred shape : (17520, 1)\n",
      "inv y pred : (17520, 27)\n",
      "Run 8 Mean Absolute Error: 5.095265770759613\n",
      "[['node_2_pressure', 'node_5_pressure', 'node_9_pressure', 'link_2_flow', 'node_3_pressure', 'link_28_flow', 'node_29_demand', 'node_23_pressure', 'link_25_flow', 'link_29_flow', 'node_21_pressure', 'node_31_demand', 'node_12_pressure', 'node_6_demand', 'node_30_pressure', 'node_13_pressure', 'link_27_flow', 'node_18_demand', 'link_30_flow', 'node_19_pressure', 'node_5_demand', 'node_8_pressure', 'link_10_flow', 'node_14_demand', 'node_24_pressure', 'node_7_demand', 'link_23_flow', 'link_17_flow', 'link_20_flow', 'node_18_pressure', 'node_28_pressure', 'reservoir_demand', 'node_10_pressure', 'reservoir_pressure', 'link_32_flow', 'node_2_demand', 'link_4_flow', 'node_17_demand', 'node_9_demand', 'link_24_flow', 'link_22_flow', 'node_10_demand', 'link_8_flow', 'node_27_pressure', 'node_23_demand', 'node_13_demand', 'link_5_flow', 'node_26_pressure', 'link_9_flow', 'node_22_pressure', 'node_16_pressure', 'link_18_flow', 'node_20_pressure', 'link_13_flow', 'node_4_demand', 'node_22_demand', 'node_30_demand', 'node_11_demand', 'node_29_pressure', 'node_1_demand', 'node_27_demand', 'link_31_flow', 'node_15_pressure', 'link_11_flow', 'node_31_pressure', 'node_25_demand', 'node_17_pressure', 'link_15_flow', 'node_3_demand', 'node_8_demand']]\n",
      "starting df shape: (87600, 26)\n",
      "This is training run 9 and has the shape:  (87600, 26)\n",
      "The value of dropped columns is 70\n"
     ]
    },
    {
     "name": "stderr",
     "output_type": "stream",
     "text": [
      "/Users/alexellard/opt/anaconda3/lib/python3.7/site-packages/xgboost/data.py:96: UserWarning: Use subset (sliced data) of np.ndarray is not recommended because it will generate extra copies and increase memory consumption\n",
      "  \"because it will generate extra copies and increase \" +\n"
     ]
    },
    {
     "name": "stdout",
     "output_type": "stream",
     "text": [
      "test y shape : (17520, 1)\n",
      "Inv y shape : (17520, 26)\n",
      "y pred shape : (17520, 1)\n",
      "inv y pred : (17520, 26)\n",
      "Run 9 Mean Absolute Error: 3.889446554425047\n",
      "[['node_15_pressure', 'node_18_pressure', 'link_21_flow', 'node_20_demand', 'node_10_pressure', 'node_27_pressure', 'node_24_demand', 'node_19_demand', 'link_30_flow', 'node_10_demand', 'node_6_demand', 'link_27_flow', 'node_2_pressure', 'link_31_flow', 'link_1_flow', 'link_3_flow', 'link_20_flow', 'node_14_demand', 'node_30_pressure', 'link_15_flow', 'link_8_flow', 'link_6_flow', 'node_21_pressure', 'node_27_demand', 'link_7_flow', 'node_31_demand', 'link_2_flow', 'node_8_demand', 'node_26_pressure', 'node_28_pressure', 'link_18_flow', 'node_22_demand', 'link_19_flow', 'node_26_demand', 'link_4_flow', 'node_2_demand', 'node_5_pressure', 'node_31_pressure', 'link_14_flow', 'node_30_demand', 'node_13_demand', 'node_9_pressure', 'node_4_demand', 'link_24_flow', 'node_17_pressure', 'node_12_pressure', 'link_29_flow', 'link_17_flow', 'node_22_pressure', 'node_18_demand', 'link_28_flow', 'node_13_pressure', 'node_7_pressure', 'node_11_pressure', 'node_1_demand', 'node_6_pressure', 'link_16_flow', 'link_26_flow', 'link_22_flow', 'node_24_pressure', 'node_23_pressure', 'link_10_flow', 'node_3_pressure', 'node_7_demand', 'node_15_demand', 'node_3_demand', 'node_21_demand', 'link_11_flow', 'link_5_flow']]\n",
      "starting df shape: (87600, 27)\n",
      "This is training run 10 and has the shape:  (87600, 27)\n",
      "The value of dropped columns is 70\n"
     ]
    },
    {
     "name": "stderr",
     "output_type": "stream",
     "text": [
      "/Users/alexellard/opt/anaconda3/lib/python3.7/site-packages/xgboost/data.py:96: UserWarning: Use subset (sliced data) of np.ndarray is not recommended because it will generate extra copies and increase memory consumption\n",
      "  \"because it will generate extra copies and increase \" +\n"
     ]
    },
    {
     "name": "stdout",
     "output_type": "stream",
     "text": [
      "test y shape : (17520, 1)\n",
      "Inv y shape : (17520, 27)\n",
      "y pred shape : (17520, 1)\n",
      "inv y pred : (17520, 27)\n",
      "Run 10 Mean Absolute Error: 161.7747745262634\n",
      "[['link_20_flow', 'node_6_pressure', 'link_3_flow', 'link_31_flow', 'node_28_demand', 'node_27_demand', 'node_21_pressure', 'link_4_flow', 'node_18_demand', 'reservoir_pressure', 'node_30_pressure', 'link_2_flow', 'link_23_flow', 'node_4_demand', 'node_11_demand', 'node_21_demand', 'node_30_demand', 'link_9_flow', 'node_20_pressure', 'link_13_flow', 'node_12_pressure', 'node_6_demand', 'node_9_pressure', 'node_3_demand', 'node_14_pressure', 'node_25_demand', 'node_29_pressure', 'link_8_flow', 'link_27_flow', 'node_28_pressure', 'node_12_demand', 'node_31_pressure', 'link_32_flow', 'node_4_pressure', 'node_9_demand', 'node_17_demand', 'node_22_pressure', 'link_15_flow', 'link_5_flow', 'node_13_demand', 'link_26_flow', 'node_8_demand', 'node_7_pressure', 'node_2_demand', 'node_25_pressure', 'link_6_flow', 'node_31_demand', 'link_16_flow', 'link_1_flow', 'node_16_pressure', 'link_18_flow', 'node_26_pressure', 'node_24_pressure', 'node_11_pressure', 'node_1_demand', 'link_25_flow', 'link_11_flow', 'node_24_demand', 'node_19_pressure', 'link_28_flow', 'node_22_demand', 'node_29_demand', 'link_12_flow', 'link_14_flow', 'link_30_flow', 'link_7_flow', 'link_21_flow', 'node_27_pressure', 'node_23_pressure', 'link_22_flow', 'node_7_demand', 'node_23_demand', 'node_3_pressure', 'link_24_flow']]\n",
      "starting df shape: (87600, 22)\n",
      "This is training run 1 and has the shape:  (87600, 22)\n",
      "The value of dropped columns is 75\n"
     ]
    },
    {
     "name": "stderr",
     "output_type": "stream",
     "text": [
      "/Users/alexellard/opt/anaconda3/lib/python3.7/site-packages/xgboost/data.py:96: UserWarning: Use subset (sliced data) of np.ndarray is not recommended because it will generate extra copies and increase memory consumption\n",
      "  \"because it will generate extra copies and increase \" +\n"
     ]
    },
    {
     "name": "stdout",
     "output_type": "stream",
     "text": [
      "test y shape : (17520, 1)\n",
      "Inv y shape : (17520, 22)\n",
      "y pred shape : (17520, 1)\n",
      "inv y pred : (17520, 22)\n",
      "Run 1 Mean Absolute Error: 180.73785237323236\n",
      "[['link_4_flow', 'node_20_pressure', 'node_27_pressure', 'node_31_pressure', 'node_3_pressure', 'link_30_flow', 'link_32_flow', 'node_14_demand', 'link_29_flow', 'link_11_flow', 'link_20_flow', 'node_25_pressure', 'node_6_demand', 'node_17_demand', 'node_13_demand', 'node_10_pressure', 'node_17_pressure', 'node_29_demand', 'link_7_flow', 'node_22_pressure', 'node_23_pressure', 'node_15_pressure', 'link_5_flow', 'link_13_flow', 'node_1_demand', 'node_7_demand', 'link_9_flow', 'node_15_demand', 'node_16_pressure', 'link_15_flow', 'node_28_pressure', 'node_21_pressure', 'link_25_flow', 'node_28_demand', 'reservoir_demand', 'link_23_flow', 'link_24_flow', 'link_19_flow', 'node_8_pressure', 'node_31_demand', 'node_2_demand', 'link_16_flow', 'node_29_pressure', 'node_21_demand', 'link_22_flow', 'link_31_flow', 'node_11_demand', 'node_11_pressure', 'node_12_demand', 'node_25_demand', 'link_27_flow', 'node_13_pressure', 'node_5_demand', 'node_24_pressure', 'link_18_flow', 'node_14_pressure', 'node_27_demand', 'node_10_demand', 'node_7_pressure', 'node_22_demand', 'node_1_pressure', 'node_4_pressure', 'node_2_pressure', 'link_28_flow', 'link_1_flow', 'link_17_flow', 'link_12_flow', 'link_2_flow', 'node_6_pressure', 'node_24_demand', 'node_8_demand', 'node_18_pressure', 'node_9_demand', 'node_30_demand']]\n",
      "starting df shape: (87600, 22)\n",
      "This is training run 2 and has the shape:  (87600, 22)\n",
      "The value of dropped columns is 75\n"
     ]
    },
    {
     "name": "stderr",
     "output_type": "stream",
     "text": [
      "/Users/alexellard/opt/anaconda3/lib/python3.7/site-packages/xgboost/data.py:96: UserWarning: Use subset (sliced data) of np.ndarray is not recommended because it will generate extra copies and increase memory consumption\n",
      "  \"because it will generate extra copies and increase \" +\n"
     ]
    },
    {
     "name": "stdout",
     "output_type": "stream",
     "text": [
      "test y shape : (17520, 1)\n",
      "Inv y shape : (17520, 22)\n",
      "y pred shape : (17520, 1)\n",
      "inv y pred : (17520, 22)\n",
      "Run 2 Mean Absolute Error: 1.4635415224927166\n",
      "[['node_21_pressure', 'link_3_flow', 'link_4_flow', 'node_6_pressure', 'link_22_flow', 'node_8_demand', 'node_26_pressure', 'link_25_flow', 'node_22_demand', 'node_9_pressure', 'link_16_flow', 'link_23_flow', 'link_14_flow', 'link_12_flow', 'link_20_flow', 'node_5_demand', 'node_27_pressure', 'link_32_flow', 'node_11_demand', 'node_23_pressure', 'node_27_demand', 'node_4_demand', 'link_9_flow', 'node_7_pressure', 'node_4_pressure', 'node_23_demand', 'node_21_demand', 'link_11_flow', 'link_10_flow', 'reservoir_demand', 'node_17_demand', 'node_6_demand', 'node_29_demand', 'link_2_flow', 'node_30_pressure', 'node_11_pressure', 'node_1_pressure', 'node_12_pressure', 'node_3_demand', 'node_25_demand', 'node_18_demand', 'node_15_demand', 'node_26_demand', 'node_20_demand', 'node_19_demand', 'link_27_flow', 'node_28_pressure', 'node_31_pressure', 'node_10_pressure', 'node_5_pressure', 'node_16_pressure', 'link_30_flow', 'link_26_flow', 'node_3_pressure', 'node_10_demand', 'link_21_flow', 'node_25_pressure', 'node_20_pressure', 'link_8_flow', 'link_24_flow', 'node_22_pressure', 'node_13_pressure', 'node_7_demand', 'node_30_demand', 'node_9_demand', 'link_29_flow', 'node_18_pressure', 'node_14_pressure', 'link_18_flow', 'link_28_flow', 'link_6_flow', 'link_31_flow', 'node_14_demand', 'node_24_demand', 'node_28_demand']]\n",
      "starting df shape: (87600, 21)\n",
      "This is training run 3 and has the shape:  (87600, 21)\n",
      "The value of dropped columns is 75\n"
     ]
    },
    {
     "name": "stderr",
     "output_type": "stream",
     "text": [
      "/Users/alexellard/opt/anaconda3/lib/python3.7/site-packages/xgboost/data.py:96: UserWarning: Use subset (sliced data) of np.ndarray is not recommended because it will generate extra copies and increase memory consumption\n",
      "  \"because it will generate extra copies and increase \" +\n"
     ]
    },
    {
     "name": "stdout",
     "output_type": "stream",
     "text": [
      "test y shape : (17520, 1)\n",
      "Inv y shape : (17520, 21)\n",
      "y pred shape : (17520, 1)\n",
      "inv y pred : (17520, 21)\n",
      "Run 3 Mean Absolute Error: 8.382943322132064\n",
      "[['reservoir_pressure', 'node_3_demand', 'node_20_pressure', 'node_7_demand', 'link_25_flow', 'link_26_flow', 'node_13_pressure', 'link_5_flow', 'node_3_pressure', 'node_26_pressure', 'node_23_demand', 'link_1_flow', 'node_18_demand', 'link_31_flow', 'link_23_flow', 'node_30_pressure', 'link_8_flow', 'node_19_demand', 'node_10_pressure', 'node_30_demand', 'node_12_pressure', 'link_20_flow', 'node_25_pressure', 'node_11_pressure', 'node_9_pressure', 'link_6_flow', 'node_31_demand', 'node_2_pressure', 'node_23_pressure', 'node_27_pressure', 'node_5_pressure', 'node_12_demand', 'node_21_pressure', 'link_30_flow', 'node_5_demand', 'link_29_flow', 'node_22_pressure', 'node_8_pressure', 'link_3_flow', 'node_31_pressure', 'link_22_flow', 'link_9_flow', 'node_17_demand', 'node_2_demand', 'node_8_demand', 'node_18_pressure', 'node_15_pressure', 'link_14_flow', 'node_28_demand', 'link_18_flow', 'link_17_flow', 'node_16_pressure', 'link_2_flow', 'node_1_demand', 'node_25_demand', 'link_16_flow', 'node_9_demand', 'node_13_demand', 'node_24_pressure', 'node_14_demand', 'node_19_pressure', 'node_29_pressure', 'node_4_demand', 'node_21_demand', 'link_7_flow', 'node_17_pressure', 'link_28_flow', 'link_13_flow', 'node_6_pressure', 'node_14_pressure', 'link_12_flow', 'node_6_demand', 'node_24_demand', 'node_22_demand']]\n",
      "starting df shape: (87600, 22)\n",
      "This is training run 4 and has the shape:  (87600, 22)\n",
      "The value of dropped columns is 75\n"
     ]
    },
    {
     "name": "stderr",
     "output_type": "stream",
     "text": [
      "/Users/alexellard/opt/anaconda3/lib/python3.7/site-packages/xgboost/data.py:96: UserWarning: Use subset (sliced data) of np.ndarray is not recommended because it will generate extra copies and increase memory consumption\n",
      "  \"because it will generate extra copies and increase \" +\n"
     ]
    },
    {
     "name": "stdout",
     "output_type": "stream",
     "text": [
      "test y shape : (17520, 1)\n",
      "Inv y shape : (17520, 22)\n",
      "y pred shape : (17520, 1)\n",
      "inv y pred : (17520, 22)\n",
      "Run 4 Mean Absolute Error: 133.99598605724202\n",
      "[['node_23_demand', 'node_22_demand', 'link_21_flow', 'link_23_flow', 'node_2_demand', 'node_25_pressure', 'node_27_pressure', 'node_6_demand', 'node_2_pressure', 'node_11_demand', 'link_14_flow', 'node_27_demand', 'node_8_pressure', 'node_29_pressure', 'link_2_flow', 'node_30_demand', 'node_24_pressure', 'link_9_flow', 'node_23_pressure', 'node_28_pressure', 'node_4_pressure', 'link_12_flow', 'link_7_flow', 'node_12_demand', 'node_8_demand', 'node_29_demand', 'link_13_flow', 'node_18_demand', 'node_22_pressure', 'node_1_pressure', 'node_21_pressure', 'link_16_flow', 'node_19_pressure', 'link_31_flow', 'node_26_demand', 'node_7_demand', 'reservoir_demand', 'node_7_pressure', 'reservoir_pressure', 'node_30_pressure', 'link_6_flow', 'node_11_pressure', 'node_6_pressure', 'node_4_demand', 'link_28_flow', 'node_9_demand', 'node_31_demand', 'node_1_demand', 'node_14_demand', 'link_29_flow', 'link_5_flow', 'node_13_demand', 'node_24_demand', 'link_17_flow', 'link_8_flow', 'link_24_flow', 'node_15_demand', 'link_18_flow', 'node_16_pressure', 'node_17_pressure', 'node_3_demand', 'node_17_demand', 'node_26_pressure', 'link_11_flow', 'node_10_demand', 'node_18_pressure', 'node_5_pressure', 'link_30_flow', 'link_15_flow', 'link_4_flow', 'node_21_demand', 'node_3_pressure', 'link_10_flow', 'node_20_demand', 'link_25_flow']]\n",
      "starting df shape: (87600, 21)\n",
      "This is training run 5 and has the shape:  (87600, 21)\n",
      "The value of dropped columns is 75\n"
     ]
    },
    {
     "name": "stderr",
     "output_type": "stream",
     "text": [
      "/Users/alexellard/opt/anaconda3/lib/python3.7/site-packages/xgboost/data.py:96: UserWarning: Use subset (sliced data) of np.ndarray is not recommended because it will generate extra copies and increase memory consumption\n",
      "  \"because it will generate extra copies and increase \" +\n"
     ]
    },
    {
     "name": "stdout",
     "output_type": "stream",
     "text": [
      "test y shape : (17520, 1)\n",
      "Inv y shape : (17520, 21)\n",
      "y pred shape : (17520, 1)\n",
      "inv y pred : (17520, 21)\n",
      "Run 5 Mean Absolute Error: 10.830167559692805\n",
      "[['node_26_pressure', 'link_23_flow', 'node_6_pressure', 'link_18_flow', 'reservoir_pressure', 'node_2_pressure', 'node_9_demand', 'node_18_demand', 'node_9_pressure', 'link_7_flow', 'node_21_pressure', 'node_23_demand', 'link_11_flow', 'node_20_pressure', 'link_13_flow', 'link_19_flow', 'link_22_flow', 'node_31_pressure', 'node_7_pressure', 'node_28_demand', 'node_5_pressure', 'node_11_demand', 'node_29_pressure', 'link_31_flow', 'node_28_pressure', 'node_21_demand', 'node_14_pressure', 'node_26_demand', 'node_7_demand', 'node_22_demand', 'node_31_demand', 'link_32_flow', 'link_10_flow', 'node_11_pressure', 'node_13_pressure', 'link_8_flow', 'node_3_demand', 'node_12_pressure', 'link_21_flow', 'link_27_flow', 'link_3_flow', 'node_4_pressure', 'node_10_demand', 'node_4_demand', 'link_5_flow', 'link_2_flow', 'node_2_demand', 'node_17_demand', 'node_22_pressure', 'node_15_demand', 'link_30_flow', 'link_12_flow', 'link_4_flow', 'node_24_demand', 'node_25_demand', 'node_30_demand', 'link_28_flow', 'node_14_demand', 'link_6_flow', 'node_1_pressure', 'node_23_pressure', 'node_1_demand', 'node_8_demand', 'link_26_flow', 'node_30_pressure', 'node_13_demand', 'node_12_demand', 'node_8_pressure', 'node_5_demand', 'node_29_demand', 'link_15_flow', 'link_14_flow', 'link_9_flow', 'node_16_pressure']]\n",
      "starting df shape: (87600, 22)\n",
      "This is training run 6 and has the shape:  (87600, 22)\n",
      "The value of dropped columns is 75\n"
     ]
    },
    {
     "name": "stderr",
     "output_type": "stream",
     "text": [
      "/Users/alexellard/opt/anaconda3/lib/python3.7/site-packages/xgboost/data.py:96: UserWarning: Use subset (sliced data) of np.ndarray is not recommended because it will generate extra copies and increase memory consumption\n",
      "  \"because it will generate extra copies and increase \" +\n"
     ]
    },
    {
     "name": "stdout",
     "output_type": "stream",
     "text": [
      "test y shape : (17520, 1)\n",
      "Inv y shape : (17520, 22)\n",
      "y pred shape : (17520, 1)\n",
      "inv y pred : (17520, 22)\n",
      "Run 6 Mean Absolute Error: 86.07625196850086\n",
      "[['node_30_demand', 'node_29_pressure', 'node_30_pressure', 'link_5_flow', 'link_18_flow', 'node_14_demand', 'link_13_flow', 'node_28_demand', 'node_24_pressure', 'link_17_flow', 'link_25_flow', 'node_2_demand', 'node_15_demand', 'node_25_pressure', 'link_30_flow', 'link_23_flow', 'link_1_flow', 'node_3_demand', 'node_27_demand', 'link_22_flow', 'node_5_pressure', 'node_10_pressure', 'link_16_flow', 'node_21_pressure', 'link_3_flow', 'node_21_demand', 'node_4_demand', 'node_19_demand', 'node_1_pressure', 'node_13_pressure', 'node_11_demand', 'node_31_demand', 'link_8_flow', 'node_29_demand', 'node_12_pressure', 'link_29_flow', 'link_21_flow', 'link_7_flow', 'node_18_demand', 'node_6_demand', 'link_11_flow', 'node_17_pressure', 'node_12_demand', 'node_20_pressure', 'node_9_pressure', 'node_2_pressure', 'link_9_flow', 'node_26_demand', 'link_19_flow', 'node_23_demand', 'node_10_demand', 'link_20_flow', 'node_22_pressure', 'node_11_pressure', 'link_28_flow', 'node_31_pressure', 'node_22_demand', 'node_24_demand', 'link_15_flow', 'link_27_flow', 'node_20_demand', 'node_4_pressure', 'node_13_demand', 'node_28_pressure', 'node_15_pressure', 'link_6_flow', 'node_25_demand', 'node_3_pressure', 'node_19_pressure', 'reservoir_pressure', 'reservoir_demand', 'node_23_pressure', 'link_26_flow', 'node_7_pressure']]\n",
      "starting df shape: (87600, 22)\n",
      "This is training run 7 and has the shape:  (87600, 22)\n",
      "The value of dropped columns is 75\n"
     ]
    },
    {
     "name": "stderr",
     "output_type": "stream",
     "text": [
      "/Users/alexellard/opt/anaconda3/lib/python3.7/site-packages/xgboost/data.py:96: UserWarning: Use subset (sliced data) of np.ndarray is not recommended because it will generate extra copies and increase memory consumption\n",
      "  \"because it will generate extra copies and increase \" +\n"
     ]
    },
    {
     "name": "stdout",
     "output_type": "stream",
     "text": [
      "test y shape : (17520, 1)\n",
      "Inv y shape : (17520, 22)\n",
      "y pred shape : (17520, 1)\n",
      "inv y pred : (17520, 22)\n",
      "Run 7 Mean Absolute Error: 9.970760175411481\n",
      "[['node_3_pressure', 'link_11_flow', 'node_20_pressure', 'node_20_demand', 'node_12_demand', 'node_28_pressure', 'node_29_demand', 'node_6_pressure', 'node_6_demand', 'node_2_pressure', 'reservoir_demand', 'node_25_demand', 'node_22_demand', 'node_31_demand', 'node_25_pressure', 'node_18_pressure', 'node_13_demand', 'link_31_flow', 'node_23_demand', 'node_17_demand', 'node_15_demand', 'node_4_demand', 'node_30_pressure', 'node_2_demand', 'link_20_flow', 'link_25_flow', 'node_1_demand', 'node_21_pressure', 'node_1_pressure', 'link_3_flow', 'node_19_pressure', 'node_10_pressure', 'link_7_flow', 'node_21_demand', 'link_32_flow', 'link_30_flow', 'node_13_pressure', 'link_9_flow', 'node_30_demand', 'node_3_demand', 'node_18_demand', 'node_23_pressure', 'node_27_pressure', 'link_19_flow', 'node_9_demand', 'node_11_pressure', 'link_18_flow', 'link_12_flow', 'node_5_demand', 'node_24_demand', 'node_24_pressure', 'link_4_flow', 'node_10_demand', 'link_13_flow', 'node_19_demand', 'node_7_demand', 'node_17_pressure', 'node_26_demand', 'link_17_flow', 'link_15_flow', 'link_8_flow', 'link_24_flow', 'node_5_pressure', 'link_28_flow', 'link_10_flow', 'node_11_demand', 'node_31_pressure', 'link_1_flow', 'node_15_pressure', 'link_5_flow', 'link_23_flow', 'node_7_pressure', 'node_14_pressure', 'link_21_flow']]\n",
      "starting df shape: (87600, 22)\n",
      "This is training run 8 and has the shape:  (87600, 22)\n",
      "The value of dropped columns is 75\n"
     ]
    },
    {
     "name": "stderr",
     "output_type": "stream",
     "text": [
      "/Users/alexellard/opt/anaconda3/lib/python3.7/site-packages/xgboost/data.py:96: UserWarning: Use subset (sliced data) of np.ndarray is not recommended because it will generate extra copies and increase memory consumption\n",
      "  \"because it will generate extra copies and increase \" +\n"
     ]
    },
    {
     "name": "stdout",
     "output_type": "stream",
     "text": [
      "test y shape : (17520, 1)\n",
      "Inv y shape : (17520, 22)\n",
      "y pred shape : (17520, 1)\n",
      "inv y pred : (17520, 22)\n",
      "Run 8 Mean Absolute Error: 2.4548524367942903\n",
      "[['link_7_flow', 'link_12_flow', 'node_21_pressure', 'link_19_flow', 'node_13_pressure', 'link_17_flow', 'reservoir_pressure', 'link_11_flow', 'node_10_pressure', 'link_23_flow', 'link_9_flow', 'node_5_pressure', 'node_29_demand', 'link_22_flow', 'link_2_flow', 'link_27_flow', 'link_20_flow', 'link_4_flow', 'node_28_pressure', 'node_7_demand', 'node_17_demand', 'node_20_demand', 'node_19_pressure', 'node_15_pressure', 'link_16_flow', 'link_28_flow', 'reservoir_demand', 'node_12_pressure', 'node_23_demand', 'node_14_demand', 'node_11_pressure', 'node_2_demand', 'node_1_pressure', 'link_15_flow', 'link_1_flow', 'node_24_pressure', 'node_26_pressure', 'node_22_pressure', 'node_7_pressure', 'node_29_pressure', 'node_18_pressure', 'node_15_demand', 'link_25_flow', 'link_10_flow', 'node_28_demand', 'link_3_flow', 'node_8_demand', 'node_6_demand', 'node_13_demand', 'link_26_flow', 'node_20_pressure', 'node_9_pressure', 'node_24_demand', 'node_14_pressure', 'node_27_demand', 'link_6_flow', 'node_4_pressure', 'node_18_demand', 'link_30_flow', 'node_9_demand', 'node_2_pressure', 'link_32_flow', 'link_13_flow', 'node_26_demand', 'node_8_pressure', 'node_25_demand', 'node_25_pressure', 'node_3_pressure', 'node_3_demand', 'node_30_demand', 'node_11_demand', 'link_24_flow', 'node_12_demand', 'node_21_demand', 'node_4_demand']]\n",
      "starting df shape: (87600, 21)\n",
      "This is training run 9 and has the shape:  (87600, 21)\n",
      "The value of dropped columns is 75\n"
     ]
    },
    {
     "name": "stderr",
     "output_type": "stream",
     "text": [
      "/Users/alexellard/opt/anaconda3/lib/python3.7/site-packages/xgboost/data.py:96: UserWarning: Use subset (sliced data) of np.ndarray is not recommended because it will generate extra copies and increase memory consumption\n",
      "  \"because it will generate extra copies and increase \" +\n"
     ]
    },
    {
     "name": "stdout",
     "output_type": "stream",
     "text": [
      "test y shape : (17520, 1)\n",
      "Inv y shape : (17520, 21)\n",
      "y pred shape : (17520, 1)\n",
      "inv y pred : (17520, 21)\n",
      "Run 9 Mean Absolute Error: 9.963359945635457\n",
      "[['node_4_pressure', 'link_26_flow', 'node_29_demand', 'node_20_pressure', 'node_10_pressure', 'node_19_demand', 'node_6_demand', 'link_5_flow', 'link_4_flow', 'link_31_flow', 'node_1_demand', 'link_27_flow', 'node_9_pressure', 'link_17_flow', 'node_8_pressure', 'node_5_pressure', 'link_1_flow', 'node_17_pressure', 'link_14_flow', 'node_9_demand', 'node_31_pressure', 'reservoir_pressure', 'node_5_demand', 'node_19_pressure', 'link_25_flow', 'node_25_pressure', 'node_25_demand', 'node_14_demand', 'node_30_pressure', 'node_12_pressure', 'node_30_demand', 'node_4_demand', 'link_7_flow', 'link_2_flow', 'node_24_demand', 'node_7_demand', 'node_23_demand', 'node_18_demand', 'link_18_flow', 'link_28_flow', 'node_26_pressure', 'link_15_flow', 'link_6_flow', 'node_14_pressure', 'node_27_pressure', 'node_7_pressure', 'link_13_flow', 'link_20_flow', 'node_26_demand', 'link_3_flow', 'node_2_pressure', 'link_9_flow', 'node_18_pressure', 'node_24_pressure', 'node_29_pressure', 'link_24_flow', 'link_23_flow', 'link_10_flow', 'link_19_flow', 'node_23_pressure', 'node_12_demand', 'link_16_flow', 'link_30_flow', 'node_10_demand', 'node_20_demand', 'node_21_pressure', 'node_28_pressure', 'node_11_demand', 'link_8_flow', 'link_22_flow', 'node_22_pressure', 'node_8_demand', 'node_1_pressure', 'link_29_flow', 'node_6_pressure']]\n",
      "starting df shape: (87600, 21)\n",
      "This is training run 10 and has the shape:  (87600, 21)\n",
      "The value of dropped columns is 75\n"
     ]
    },
    {
     "name": "stderr",
     "output_type": "stream",
     "text": [
      "/Users/alexellard/opt/anaconda3/lib/python3.7/site-packages/xgboost/data.py:96: UserWarning: Use subset (sliced data) of np.ndarray is not recommended because it will generate extra copies and increase memory consumption\n",
      "  \"because it will generate extra copies and increase \" +\n"
     ]
    },
    {
     "name": "stdout",
     "output_type": "stream",
     "text": [
      "test y shape : (17520, 1)\n",
      "Inv y shape : (17520, 21)\n",
      "y pred shape : (17520, 1)\n",
      "inv y pred : (17520, 21)\n",
      "Run 10 Mean Absolute Error: 165.81553262263034\n",
      "Length MAE_average:  16\n",
      "Length sensors_covered:  16\n"
     ]
    }
   ],
   "source": [
    "MAE_average = []\n",
    "maximum_MAE = []\n",
    "sensors_covered = []\n",
    "n_columns_to_drop = [0, 5, 10, 15, 20, 25, 30, 35, 40, 45, 50, 55, 60, 65, 70, 75]\n",
    "for n in n_columns_to_drop:\n",
    "    MAE = []\n",
    "    for run in range(1,11):\n",
    "        Y = df[df.columns[16]]\n",
    "        X = df.drop(columns=['node_16_demand'])\n",
    "        X['node_16_demand'] = Y\n",
    "        columns = []\n",
    "        columns_to_drop = random.sample(list(X.columns), n)\n",
    "        # Drop the selected columns from the dataframe\n",
    "        if X.columns[-1] in columns_to_drop:\n",
    "            columns_to_drop.remove(X.columns[-1])\n",
    "        X.drop(columns_to_drop, axis=1, inplace=True)\n",
    "        columns.append(columns_to_drop)\n",
    "        print(columns)\n",
    "        print('starting df shape:', X.shape)\n",
    "        print(f'This is training run {run} and has the shape: ', X.shape)\n",
    "        print(f'The value of dropped columns is {n}')\n",
    "\n",
    "        # split into train and test sets\n",
    "        values = X.values\n",
    "        scaler = MinMaxScaler(feature_range=(0, 1))\n",
    "        scaled = scaler.fit_transform(values)\n",
    "        train, test = train_test_split(scaled, test_size=0.2, random_state=0)\n",
    "\n",
    "        # split into input and outputs\n",
    "        train_X, train_y = train[:, :-1], train[:, -1]\n",
    "        test_X, test_y = test[:, :-1], test[:, -1]\n",
    "\n",
    "        #define model\n",
    "        model = xgb.XGBRegressor(\n",
    "            objective='reg:squarederror',\n",
    "            n_estimators=100,\n",
    "            max_depth=6,\n",
    "            learning_rate=0.1,\n",
    "            subsample=0.9,\n",
    "            colsample_bytree=0.8,\n",
    "            random_state=42\n",
    "        )\n",
    "\n",
    "        # fit the model on the training data\n",
    "        model.fit(train_X, train_y)\n",
    "\n",
    "        # make predictions on the test data\n",
    "        y_pred = model.predict(test_X)\n",
    "\n",
    "        test_y = test_y.reshape((len(test_y), 1))\n",
    "        print('test y shape :', test_y.shape)\n",
    "        inv_test_y = concatenate((test_y, test_X[:, -X.shape[1]:]), axis=1)\n",
    "        print('Inv y shape :', inv_test_y.shape)\n",
    "        test_y_inverse = scaler.inverse_transform(inv_test_y)\n",
    "        test_y_inverse = test_y_inverse[:,0]\n",
    "\n",
    "        y_pred = y_pred.reshape((len(y_pred), 1))\n",
    "        print('y pred shape :', y_pred.shape)\n",
    "        inv_y_pred = concatenate((y_pred, test_X[:, -X.shape[1]:]), axis=1)\n",
    "        print('inv y pred :', inv_y_pred.shape)\n",
    "        y_pred_inverse = scaler.inverse_transform(inv_y_pred)\n",
    "        y_pred_inverse = y_pred_inverse[:,0]\n",
    "\n",
    "        # evaluate scaled errors\n",
    "        mae_inverse = mean_absolute_error(test_y_inverse, y_pred_inverse)\n",
    "        MAE.append(mae_inverse)\n",
    "        print(f'Run {run} Mean Absolute Error:', mae_inverse)\n",
    "    percentage_list = round(X.shape[1] / 96 * 100)\n",
    "    sensors_covered.append(percentage_list)\n",
    "    MAE_mean = mean(MAE)\n",
    "    max_MAE = max(MAE)\n",
    "    maximum_MAE.append(max_MAE)\n",
    "    MAE_average.append(MAE_mean)\n",
    "print('Length MAE_average: ', len(MAE_average))\n",
    "print('Length sensors_covered: ', len(sensors_covered))"
   ]
  },
  {
   "cell_type": "code",
   "execution_count": 6,
   "metadata": {},
   "outputs": [
    {
     "data": {
      "image/png": "[encoded data removed]",
      "text/plain": [
       "<Figure size 432x288 with 1 Axes>"
      ]
     },
     "metadata": {
      "needs_background": "light"
     },
     "output_type": "display_data"
    },
    {
     "data": {
      "image/png": "[encoded data removed]",
      "text/plain": [
       "<Figure size 432x288 with 1 Axes>"
      ]
     },
     "metadata": {
      "needs_background": "light"
     },
     "output_type": "display_data"
    }
   ],
   "source": [
    "plt.plot(sensors_covered, MAE_average)\n",
    "plt.ylabel(\"Mean Absolute Error\")\n",
    "plt.xlabel(\"Sensor Cover %\")\n",
    "plt.title(\"MAE vs. Coverage Demand Node 16\")\n",
    "plt.xlim([100, 0])\n",
    "plt.show()\n",
    "\n",
    "plt.plot(sensors_covered, maximum_MAE)\n",
    "plt.ylabel(\"Mean Absolute Error\")\n",
    "plt.xlabel(\"Sensor Cover %\")\n",
    "plt.title(\"MAE vs. Coverage Demand Node 16\")\n",
    "plt.xlim([100, 0])\n",
    "plt.savefig('/Users/alexellard/Downloads/Demands16MAE.png')\n",
    "plt.show()"
   ]
  },
  {
   "cell_type": "code",
   "execution_count": 8,
   "metadata": {},
   "outputs": [
    {
     "name": "stdout",
     "output_type": "stream",
     "text": [
      "Feature: 0, Score: 0.03261\n",
      "Feature: 1, Score: 0.00040\n",
      "Feature: 2, Score: 0.00174\n",
      "Feature: 3, Score: 0.21683\n",
      "Feature: 4, Score: 0.00035\n",
      "Feature: 5, Score: 0.00035\n",
      "Feature: 6, Score: 0.00025\n",
      "Feature: 7, Score: 0.00262\n",
      "Feature: 8, Score: 0.00108\n",
      "Feature: 9, Score: 0.00132\n",
      "Feature: 10, Score: 0.01677\n",
      "Feature: 11, Score: 0.00125\n",
      "Feature: 12, Score: 0.00121\n",
      "Feature: 13, Score: 0.10958\n",
      "Feature: 14, Score: 0.59321\n",
      "Feature: 15, Score: 0.00529\n",
      "Feature: 16, Score: 0.00205\n",
      "Feature: 17, Score: 0.00643\n",
      "Feature: 18, Score: 0.00560\n",
      "Feature: 19, Score: 0.00105\n"
     ]
    },
    {
     "data": {
      "image/png": "[encoded data removed]",
      "text/plain": [
       "<Figure size 432x288 with 1 Axes>"
      ]
     },
     "metadata": {
      "needs_background": "light"
     },
     "output_type": "display_data"
    }
   ],
   "source": [
    "importance = model.feature_importances_\n",
    "# summarize feature importance\n",
    "for i,v in enumerate(importance):\n",
    " print('Feature: %0d, Score: %.5f' % (i,v))\n",
    "# plot feature importance\n",
    "plt.bar([x for x in range(len(importance))], importance)\n",
    "plt.show()"
   ]
  },
  {
   "cell_type": "code",
   "execution_count": 12,
   "metadata": {},
   "outputs": [
    {
     "name": "stdout",
     "output_type": "stream",
     "text": [
      "starting df shape: (87600, 96)\n"
     ]
    },
    {
     "name": "stderr",
     "output_type": "stream",
     "text": [
      "/Users/alexellard/opt/anaconda3/lib/python3.7/site-packages/xgboost/data.py:96: UserWarning: Use subset (sliced data) of np.ndarray is not recommended because it will generate extra copies and increase memory consumption\n",
      "  \"because it will generate extra copies and increase \" +\n"
     ]
    },
    {
     "name": "stdout",
     "output_type": "stream",
     "text": [
      "test y shape : (17520, 1)\n",
      "Inv y shape : (17520, 96)\n",
      "y pred shape : (17520, 1)\n",
      "inv y pred : (17520, 96)\n",
      "Run 10 Mean Absolute Error: 45.13374937313199\n"
     ]
    }
   ],
   "source": [
    "Y = df[df.columns[16]]\n",
    "X = df.drop(columns=['node_16_demand'])\n",
    "X['node_16_demand'] = Y\n",
    "print('starting df shape:', X.shape)\n",
    "\n",
    "# split into train and test sets\n",
    "values = X.values\n",
    "scaler = MinMaxScaler(feature_range=(0, 1))\n",
    "scaled = scaler.fit_transform(values)\n",
    "train, test = train_test_split(scaled, test_size=0.2, random_state=0)\n",
    "\n",
    "# split into input and outputs\n",
    "train_X, train_y = train[:, :-1], train[:, -1]\n",
    "test_X, test_y = test[:, :-1], test[:, -1]\n",
    "\n",
    "#define model\n",
    "model = xgb.XGBRegressor(\n",
    "    objective='reg:squarederror',\n",
    "    n_estimators=100,\n",
    "    max_depth=6,\n",
    "    learning_rate=0.1,\n",
    "    subsample=0.9,\n",
    "    colsample_bytree=0.8,\n",
    "    random_state=42\n",
    ")\n",
    "\n",
    "# fit the model on the training data\n",
    "model.fit(train_X, train_y)\n",
    "\n",
    "# make predictions on the test data\n",
    "y_pred = model.predict(test_X)\n",
    "\n",
    "test_y = test_y.reshape((len(test_y), 1))\n",
    "print('test y shape :', test_y.shape)\n",
    "inv_test_y = concatenate((test_y, test_X[:, -X.shape[1]:]), axis=1)\n",
    "print('Inv y shape :', inv_test_y.shape)\n",
    "test_y_inverse = scaler.inverse_transform(inv_test_y)\n",
    "test_y_inverse = test_y_inverse[:,0]\n",
    "\n",
    "y_pred = y_pred.reshape((len(y_pred), 1))\n",
    "print('y pred shape :', y_pred.shape)\n",
    "inv_y_pred = concatenate((y_pred, test_X[:, -X.shape[1]:]), axis=1)\n",
    "print('inv y pred :', inv_y_pred.shape)\n",
    "y_pred_inverse = scaler.inverse_transform(inv_y_pred)\n",
    "y_pred_inverse = y_pred_inverse[:,0]\n",
    "\n",
    "# evaluate scaled errors\n",
    "mae_inverse = mean_absolute_error(test_y_inverse, y_pred_inverse)\n",
    "MAE.append(mae_inverse)\n",
    "print(f'Run {run} Mean Absolute Error:', mae_inverse)"
   ]
  },
  {
   "cell_type": "code",
   "execution_count": null,
   "metadata": {},
   "outputs": [],
   "source": [
    "importance = model.feature_importances_\n",
    "# summarize feature importance\n",
    "for i,v in enumerate(importance):\n",
    " print('Feature: %0d, Score: %.5f' % (i,v))\n",
    "# plot feature importance\n",
    "plt.bar([x for x in range(len(importance))], importance)\n",
    "plt.show()"
   ]
  }
 ],
 "metadata": {
  "kernelspec": {
   "display_name": "Python 3",
   "language": "python",
   "name": "python3"
  },
  "language_info": {
   "codemirror_mode": {
    "name": "ipython",
    "version": 3
   },
   "file_extension": ".py",
   "mimetype": "text/x-python",
   "name": "python",
   "nbconvert_exporter": "python",
   "pygments_lexer": "ipython3",
   "version": "3.7.4"
  }
 },
 "nbformat": 4,
 "nbformat_minor": 2
}
