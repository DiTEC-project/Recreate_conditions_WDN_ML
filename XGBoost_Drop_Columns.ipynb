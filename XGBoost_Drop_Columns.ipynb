{
 "cells": [
  {
   "cell_type": "code",
   "execution_count": 1,
   "metadata": {},
   "outputs": [
    {
     "name": "stderr",
     "output_type": "stream",
     "text": [
      "/Users/alexellard/opt/anaconda3/lib/python3.7/site-packages/dask/dataframe/utils.py:14: FutureWarning: pandas.util.testing is deprecated. Use the functions in the public API at pandas.testing instead.\n",
      "  import pandas.util.testing as tm\n"
     ]
    }
   ],
   "source": [
    "import xgboost as xgb\n",
    "import pandas as pd\n",
    "import numpy as np\n",
    "from sklearn.preprocessing import LabelEncoder\n",
    "from sklearn.preprocessing import MinMaxScaler\n",
    "from sklearn.model_selection import train_test_split\n",
    "from sklearn.metrics import mean_squared_error, mean_absolute_error, r2_score\n",
    "from numpy import concatenate\n",
    "from math import sqrt\n",
    "import random\n",
    "import matplotlib.pyplot as plt"
   ]
  },
  {
   "cell_type": "code",
   "execution_count": 2,
   "metadata": {
    "scrolled": true
   },
   "outputs": [
    {
     "data": {
      "text/html": [
       "<div>\n",
       "<style scoped>\n",
       "    .dataframe tbody tr th:only-of-type {\n",
       "        vertical-align: middle;\n",
       "    }\n",
       "\n",
       "    .dataframe tbody tr th {\n",
       "        vertical-align: top;\n",
       "    }\n",
       "\n",
       "    .dataframe thead th {\n",
       "        text-align: right;\n",
       "    }\n",
       "</style>\n",
       "<table border=\"1\" class=\"dataframe\">\n",
       "  <thead>\n",
       "    <tr style=\"text-align: right;\">\n",
       "      <th></th>\n",
       "      <th>reservoir_demand</th>\n",
       "      <th>node_1_demand</th>\n",
       "      <th>node_2_demand</th>\n",
       "      <th>node_3_demand</th>\n",
       "      <th>node_4_demand</th>\n",
       "      <th>node_5_demand</th>\n",
       "      <th>node_6_demand</th>\n",
       "      <th>node_7_demand</th>\n",
       "      <th>node_8_demand</th>\n",
       "      <th>node_9_demand</th>\n",
       "      <th>...</th>\n",
       "      <th>link_23_flow</th>\n",
       "      <th>link_24_flow</th>\n",
       "      <th>link_25_flow</th>\n",
       "      <th>link_26_flow</th>\n",
       "      <th>link_27_flow</th>\n",
       "      <th>link_28_flow</th>\n",
       "      <th>link_29_flow</th>\n",
       "      <th>link_30_flow</th>\n",
       "      <th>link_31_flow</th>\n",
       "      <th>link_32_flow</th>\n",
       "    </tr>\n",
       "    <tr>\n",
       "      <th>Timestamp</th>\n",
       "      <th></th>\n",
       "      <th></th>\n",
       "      <th></th>\n",
       "      <th></th>\n",
       "      <th></th>\n",
       "      <th></th>\n",
       "      <th></th>\n",
       "      <th></th>\n",
       "      <th></th>\n",
       "      <th></th>\n",
       "      <th></th>\n",
       "      <th></th>\n",
       "      <th></th>\n",
       "      <th></th>\n",
       "      <th></th>\n",
       "      <th></th>\n",
       "      <th></th>\n",
       "      <th></th>\n",
       "      <th></th>\n",
       "      <th></th>\n",
       "      <th></th>\n",
       "    </tr>\n",
       "  </thead>\n",
       "  <tbody>\n",
       "    <tr>\n",
       "      <th>2017-01-01 00:00:00</th>\n",
       "      <td>-3348.0</td>\n",
       "      <td>154.8</td>\n",
       "      <td>169.2</td>\n",
       "      <td>18.0</td>\n",
       "      <td>118.8</td>\n",
       "      <td>169.2</td>\n",
       "      <td>234.0</td>\n",
       "      <td>86.4</td>\n",
       "      <td>82.8</td>\n",
       "      <td>104.4</td>\n",
       "      <td>...</td>\n",
       "      <td>439.2</td>\n",
       "      <td>-205.2</td>\n",
       "      <td>-75.6</td>\n",
       "      <td>-18.0</td>\n",
       "      <td>118.8</td>\n",
       "      <td>68.4</td>\n",
       "      <td>7.2</td>\n",
       "      <td>-54.0</td>\n",
       "      <td>75.6</td>\n",
       "      <td>212.4</td>\n",
       "    </tr>\n",
       "    <tr>\n",
       "      <th>2017-01-01 00:30:00</th>\n",
       "      <td>-2959.2</td>\n",
       "      <td>136.8</td>\n",
       "      <td>147.6</td>\n",
       "      <td>18.0</td>\n",
       "      <td>108.0</td>\n",
       "      <td>144.0</td>\n",
       "      <td>237.6</td>\n",
       "      <td>79.2</td>\n",
       "      <td>75.6</td>\n",
       "      <td>90.0</td>\n",
       "      <td>...</td>\n",
       "      <td>392.4</td>\n",
       "      <td>-187.2</td>\n",
       "      <td>-72.0</td>\n",
       "      <td>-21.6</td>\n",
       "      <td>108.0</td>\n",
       "      <td>61.2</td>\n",
       "      <td>3.6</td>\n",
       "      <td>-54.0</td>\n",
       "      <td>72.0</td>\n",
       "      <td>183.6</td>\n",
       "    </tr>\n",
       "    <tr>\n",
       "      <th>2017-01-01 01:00:00</th>\n",
       "      <td>-2692.8</td>\n",
       "      <td>129.6</td>\n",
       "      <td>126.0</td>\n",
       "      <td>14.4</td>\n",
       "      <td>104.4</td>\n",
       "      <td>133.2</td>\n",
       "      <td>205.2</td>\n",
       "      <td>72.0</td>\n",
       "      <td>72.0</td>\n",
       "      <td>90.0</td>\n",
       "      <td>...</td>\n",
       "      <td>349.2</td>\n",
       "      <td>-176.4</td>\n",
       "      <td>-64.8</td>\n",
       "      <td>-18.0</td>\n",
       "      <td>93.6</td>\n",
       "      <td>50.4</td>\n",
       "      <td>3.6</td>\n",
       "      <td>-39.6</td>\n",
       "      <td>54.0</td>\n",
       "      <td>151.2</td>\n",
       "    </tr>\n",
       "    <tr>\n",
       "      <th>2017-01-01 01:30:00</th>\n",
       "      <td>-2379.6</td>\n",
       "      <td>104.4</td>\n",
       "      <td>100.8</td>\n",
       "      <td>10.8</td>\n",
       "      <td>86.4</td>\n",
       "      <td>122.4</td>\n",
       "      <td>180.0</td>\n",
       "      <td>68.4</td>\n",
       "      <td>57.6</td>\n",
       "      <td>82.8</td>\n",
       "      <td>...</td>\n",
       "      <td>316.8</td>\n",
       "      <td>-158.4</td>\n",
       "      <td>-54.0</td>\n",
       "      <td>-10.8</td>\n",
       "      <td>79.2</td>\n",
       "      <td>46.8</td>\n",
       "      <td>7.2</td>\n",
       "      <td>-32.4</td>\n",
       "      <td>50.4</td>\n",
       "      <td>140.4</td>\n",
       "    </tr>\n",
       "    <tr>\n",
       "      <th>2017-01-01 02:00:00</th>\n",
       "      <td>-2228.4</td>\n",
       "      <td>104.4</td>\n",
       "      <td>104.4</td>\n",
       "      <td>10.8</td>\n",
       "      <td>79.2</td>\n",
       "      <td>122.4</td>\n",
       "      <td>183.6</td>\n",
       "      <td>68.4</td>\n",
       "      <td>54.0</td>\n",
       "      <td>75.6</td>\n",
       "      <td>...</td>\n",
       "      <td>277.2</td>\n",
       "      <td>-144.0</td>\n",
       "      <td>-57.6</td>\n",
       "      <td>-18.0</td>\n",
       "      <td>72.0</td>\n",
       "      <td>39.6</td>\n",
       "      <td>7.2</td>\n",
       "      <td>-32.4</td>\n",
       "      <td>43.2</td>\n",
       "      <td>118.8</td>\n",
       "    </tr>\n",
       "    <tr>\n",
       "      <th>...</th>\n",
       "      <td>...</td>\n",
       "      <td>...</td>\n",
       "      <td>...</td>\n",
       "      <td>...</td>\n",
       "      <td>...</td>\n",
       "      <td>...</td>\n",
       "      <td>...</td>\n",
       "      <td>...</td>\n",
       "      <td>...</td>\n",
       "      <td>...</td>\n",
       "      <td>...</td>\n",
       "      <td>...</td>\n",
       "      <td>...</td>\n",
       "      <td>...</td>\n",
       "      <td>...</td>\n",
       "      <td>...</td>\n",
       "      <td>...</td>\n",
       "      <td>...</td>\n",
       "      <td>...</td>\n",
       "      <td>...</td>\n",
       "      <td>...</td>\n",
       "    </tr>\n",
       "    <tr>\n",
       "      <th>2017-12-31 21:30:00</th>\n",
       "      <td>-5306.4</td>\n",
       "      <td>205.2</td>\n",
       "      <td>208.8</td>\n",
       "      <td>39.6</td>\n",
       "      <td>183.6</td>\n",
       "      <td>284.4</td>\n",
       "      <td>316.8</td>\n",
       "      <td>176.4</td>\n",
       "      <td>133.2</td>\n",
       "      <td>129.6</td>\n",
       "      <td>...</td>\n",
       "      <td>604.8</td>\n",
       "      <td>-259.2</td>\n",
       "      <td>32.4</td>\n",
       "      <td>115.2</td>\n",
       "      <td>169.2</td>\n",
       "      <td>100.8</td>\n",
       "      <td>10.8</td>\n",
       "      <td>-100.8</td>\n",
       "      <td>122.4</td>\n",
       "      <td>309.6</td>\n",
       "    </tr>\n",
       "    <tr>\n",
       "      <th>2017-12-31 22:00:00</th>\n",
       "      <td>-4910.4</td>\n",
       "      <td>208.8</td>\n",
       "      <td>183.6</td>\n",
       "      <td>39.6</td>\n",
       "      <td>154.8</td>\n",
       "      <td>252.0</td>\n",
       "      <td>295.2</td>\n",
       "      <td>165.6</td>\n",
       "      <td>133.2</td>\n",
       "      <td>133.2</td>\n",
       "      <td>...</td>\n",
       "      <td>565.2</td>\n",
       "      <td>-241.2</td>\n",
       "      <td>21.6</td>\n",
       "      <td>100.8</td>\n",
       "      <td>154.8</td>\n",
       "      <td>86.4</td>\n",
       "      <td>18.0</td>\n",
       "      <td>-75.6</td>\n",
       "      <td>100.8</td>\n",
       "      <td>288.0</td>\n",
       "    </tr>\n",
       "    <tr>\n",
       "      <th>2017-12-31 22:30:00</th>\n",
       "      <td>-4683.6</td>\n",
       "      <td>187.2</td>\n",
       "      <td>183.6</td>\n",
       "      <td>36.0</td>\n",
       "      <td>147.6</td>\n",
       "      <td>230.4</td>\n",
       "      <td>320.4</td>\n",
       "      <td>147.6</td>\n",
       "      <td>118.8</td>\n",
       "      <td>126.0</td>\n",
       "      <td>...</td>\n",
       "      <td>529.2</td>\n",
       "      <td>-226.8</td>\n",
       "      <td>21.6</td>\n",
       "      <td>100.8</td>\n",
       "      <td>147.6</td>\n",
       "      <td>86.4</td>\n",
       "      <td>14.4</td>\n",
       "      <td>-86.4</td>\n",
       "      <td>108.0</td>\n",
       "      <td>266.4</td>\n",
       "    </tr>\n",
       "    <tr>\n",
       "      <th>2017-12-31 23:00:00</th>\n",
       "      <td>-4262.4</td>\n",
       "      <td>180.0</td>\n",
       "      <td>165.6</td>\n",
       "      <td>32.4</td>\n",
       "      <td>136.8</td>\n",
       "      <td>223.2</td>\n",
       "      <td>241.2</td>\n",
       "      <td>147.6</td>\n",
       "      <td>115.2</td>\n",
       "      <td>111.6</td>\n",
       "      <td>...</td>\n",
       "      <td>496.8</td>\n",
       "      <td>-208.8</td>\n",
       "      <td>21.6</td>\n",
       "      <td>93.6</td>\n",
       "      <td>133.2</td>\n",
       "      <td>79.2</td>\n",
       "      <td>14.4</td>\n",
       "      <td>-75.6</td>\n",
       "      <td>97.2</td>\n",
       "      <td>255.6</td>\n",
       "    </tr>\n",
       "    <tr>\n",
       "      <th>2017-12-31 23:30:00</th>\n",
       "      <td>-3808.8</td>\n",
       "      <td>176.4</td>\n",
       "      <td>169.2</td>\n",
       "      <td>25.2</td>\n",
       "      <td>122.4</td>\n",
       "      <td>201.6</td>\n",
       "      <td>241.2</td>\n",
       "      <td>122.4</td>\n",
       "      <td>100.8</td>\n",
       "      <td>93.6</td>\n",
       "      <td>...</td>\n",
       "      <td>421.2</td>\n",
       "      <td>-180.0</td>\n",
       "      <td>28.8</td>\n",
       "      <td>86.4</td>\n",
       "      <td>118.8</td>\n",
       "      <td>68.4</td>\n",
       "      <td>10.8</td>\n",
       "      <td>-68.4</td>\n",
       "      <td>86.4</td>\n",
       "      <td>216.0</td>\n",
       "    </tr>\n",
       "  </tbody>\n",
       "</table>\n",
       "<p>87600 rows × 96 columns</p>\n",
       "</div>"
      ],
      "text/plain": [
       "                     reservoir_demand  node_1_demand  node_2_demand  \\\n",
       "Timestamp                                                             \n",
       "2017-01-01 00:00:00           -3348.0          154.8          169.2   \n",
       "2017-01-01 00:30:00           -2959.2          136.8          147.6   \n",
       "2017-01-01 01:00:00           -2692.8          129.6          126.0   \n",
       "2017-01-01 01:30:00           -2379.6          104.4          100.8   \n",
       "2017-01-01 02:00:00           -2228.4          104.4          104.4   \n",
       "...                               ...            ...            ...   \n",
       "2017-12-31 21:30:00           -5306.4          205.2          208.8   \n",
       "2017-12-31 22:00:00           -4910.4          208.8          183.6   \n",
       "2017-12-31 22:30:00           -4683.6          187.2          183.6   \n",
       "2017-12-31 23:00:00           -4262.4          180.0          165.6   \n",
       "2017-12-31 23:30:00           -3808.8          176.4          169.2   \n",
       "\n",
       "                     node_3_demand  node_4_demand  node_5_demand  \\\n",
       "Timestamp                                                          \n",
       "2017-01-01 00:00:00           18.0          118.8          169.2   \n",
       "2017-01-01 00:30:00           18.0          108.0          144.0   \n",
       "2017-01-01 01:00:00           14.4          104.4          133.2   \n",
       "2017-01-01 01:30:00           10.8           86.4          122.4   \n",
       "2017-01-01 02:00:00           10.8           79.2          122.4   \n",
       "...                            ...            ...            ...   \n",
       "2017-12-31 21:30:00           39.6          183.6          284.4   \n",
       "2017-12-31 22:00:00           39.6          154.8          252.0   \n",
       "2017-12-31 22:30:00           36.0          147.6          230.4   \n",
       "2017-12-31 23:00:00           32.4          136.8          223.2   \n",
       "2017-12-31 23:30:00           25.2          122.4          201.6   \n",
       "\n",
       "                     node_6_demand  node_7_demand  node_8_demand  \\\n",
       "Timestamp                                                          \n",
       "2017-01-01 00:00:00          234.0           86.4           82.8   \n",
       "2017-01-01 00:30:00          237.6           79.2           75.6   \n",
       "2017-01-01 01:00:00          205.2           72.0           72.0   \n",
       "2017-01-01 01:30:00          180.0           68.4           57.6   \n",
       "2017-01-01 02:00:00          183.6           68.4           54.0   \n",
       "...                            ...            ...            ...   \n",
       "2017-12-31 21:30:00          316.8          176.4          133.2   \n",
       "2017-12-31 22:00:00          295.2          165.6          133.2   \n",
       "2017-12-31 22:30:00          320.4          147.6          118.8   \n",
       "2017-12-31 23:00:00          241.2          147.6          115.2   \n",
       "2017-12-31 23:30:00          241.2          122.4          100.8   \n",
       "\n",
       "                     node_9_demand  ...  link_23_flow  link_24_flow  \\\n",
       "Timestamp                           ...                               \n",
       "2017-01-01 00:00:00          104.4  ...         439.2        -205.2   \n",
       "2017-01-01 00:30:00           90.0  ...         392.4        -187.2   \n",
       "2017-01-01 01:00:00           90.0  ...         349.2        -176.4   \n",
       "2017-01-01 01:30:00           82.8  ...         316.8        -158.4   \n",
       "2017-01-01 02:00:00           75.6  ...         277.2        -144.0   \n",
       "...                            ...  ...           ...           ...   \n",
       "2017-12-31 21:30:00          129.6  ...         604.8        -259.2   \n",
       "2017-12-31 22:00:00          133.2  ...         565.2        -241.2   \n",
       "2017-12-31 22:30:00          126.0  ...         529.2        -226.8   \n",
       "2017-12-31 23:00:00          111.6  ...         496.8        -208.8   \n",
       "2017-12-31 23:30:00           93.6  ...         421.2        -180.0   \n",
       "\n",
       "                     link_25_flow  link_26_flow  link_27_flow  link_28_flow  \\\n",
       "Timestamp                                                                     \n",
       "2017-01-01 00:00:00         -75.6         -18.0         118.8          68.4   \n",
       "2017-01-01 00:30:00         -72.0         -21.6         108.0          61.2   \n",
       "2017-01-01 01:00:00         -64.8         -18.0          93.6          50.4   \n",
       "2017-01-01 01:30:00         -54.0         -10.8          79.2          46.8   \n",
       "2017-01-01 02:00:00         -57.6         -18.0          72.0          39.6   \n",
       "...                           ...           ...           ...           ...   \n",
       "2017-12-31 21:30:00          32.4         115.2         169.2         100.8   \n",
       "2017-12-31 22:00:00          21.6         100.8         154.8          86.4   \n",
       "2017-12-31 22:30:00          21.6         100.8         147.6          86.4   \n",
       "2017-12-31 23:00:00          21.6          93.6         133.2          79.2   \n",
       "2017-12-31 23:30:00          28.8          86.4         118.8          68.4   \n",
       "\n",
       "                     link_29_flow  link_30_flow  link_31_flow  link_32_flow  \n",
       "Timestamp                                                                    \n",
       "2017-01-01 00:00:00           7.2         -54.0          75.6         212.4  \n",
       "2017-01-01 00:30:00           3.6         -54.0          72.0         183.6  \n",
       "2017-01-01 01:00:00           3.6         -39.6          54.0         151.2  \n",
       "2017-01-01 01:30:00           7.2         -32.4          50.4         140.4  \n",
       "2017-01-01 02:00:00           7.2         -32.4          43.2         118.8  \n",
       "...                           ...           ...           ...           ...  \n",
       "2017-12-31 21:30:00          10.8        -100.8         122.4         309.6  \n",
       "2017-12-31 22:00:00          18.0         -75.6         100.8         288.0  \n",
       "2017-12-31 22:30:00          14.4         -86.4         108.0         266.4  \n",
       "2017-12-31 23:00:00          14.4         -75.6          97.2         255.6  \n",
       "2017-12-31 23:30:00          10.8         -68.4          86.4         216.0  \n",
       "\n",
       "[87600 rows x 96 columns]"
      ]
     },
     "execution_count": 2,
     "metadata": {},
     "output_type": "execute_result"
    }
   ],
   "source": [
    "df = pd.read_csv('/Users/alexellard/Downloads/scenarios_data.csv', header=0, index_col=0)\n",
    "df"
   ]
  },
  {
   "cell_type": "code",
   "execution_count": 3,
   "metadata": {},
   "outputs": [],
   "source": [
    "# convert series to supervised learning\n",
    "def series_to_supervised(data, n_in, n_out, vars_to_predict=None):\n",
    "    n_vars = data.shape[1]\n",
    "    df = pd.DataFrame(data)\n",
    "    cols, names = list(), list()\n",
    "    # input sequence (t-n, ... t-1)\n",
    "    for i in range(n_in, 0, -1):\n",
    "        cols.append(df.shift(i-1))\n",
    "        names += [('var%d(t-%d)' % (j+1, i)) for j in range(n_vars)]\n",
    "    # forecast sequence (t, t+1, ... t+n)\n",
    "    for i in range(n_out):\n",
    "        cols.append(df[vars_to_predict].shift(-i))\n",
    "        if i == 0:\n",
    "            names += [('var%d(t)' % (j+1)) for j in vars_to_predict]\n",
    "        else:\n",
    "            names += [('var%d(t+%d)' % (j+1, i)) for j in vars_to_predict]\n",
    "    # put it all together\n",
    "    agg = pd.concat(cols, axis=1)\n",
    "    agg.columns = names\n",
    "    return agg\n",
    "\n",
    "values = df.values\n",
    "# ensure all data is float\n",
    "values = values.astype('float32')\n",
    "# normalize features\n",
    "scaler = MinMaxScaler(feature_range=(0, 1))\n",
    "\n",
    "# node 1 indexes\n",
    "target_variable_demand_node1 = [1]\n",
    "target_variable_pressures_node1 = [33]\n",
    "target_variable_flows_node1 = [64]\n",
    "#node 16 indexes\n",
    "target_variable_demand_node16 = [16]\n",
    "target_variable_pressures_node16 = [48]\n",
    "target_variable_flows_node16 = [79]\n",
    "#node 29 indexes\n",
    "target_variable_demand_node29 = [29]\n",
    "target_variable_pressures_node29 = [61]\n",
    "target_variable_flows_node29 = [92]\n",
    "\n",
    "\n",
    "reframed_demand_node1 = series_to_supervised(values, 1, 1, vars_to_predict=target_variable_demand_node1)\n",
    "reframed_pressures_node1 = series_to_supervised(values, 1, 1, vars_to_predict=target_variable_pressures_node1)\n",
    "reframed_flows_node1 = series_to_supervised(values, 1, 1, vars_to_predict=target_variable_flows_node1)\n",
    "\n",
    "reframed_demand_node16 = series_to_supervised(values, 1, 1, vars_to_predict=target_variable_demand_node16)\n",
    "reframed_pressures_node16 = series_to_supervised(values, 1, 1, vars_to_predict=target_variable_pressures_node16)\n",
    "reframed_flows_node16 = series_to_supervised(values, 1, 1, vars_to_predict=target_variable_flows_node16)\n",
    "\n",
    "reframed_demand_node29 = series_to_supervised(values, 1, 1, vars_to_predict=target_variable_demand_node29)\n",
    "reframed_pressures_node29 = series_to_supervised(values, 1, 1, vars_to_predict=target_variable_pressures_node29)\n",
    "reframed_flows_node29 = series_to_supervised(values, 1, 1, vars_to_predict=target_variable_flows_node29)\n",
    "\n",
    "reframed_demand_node1 = reframed_demand_node1.drop(reframed_demand_node1.columns[1], axis=1)\n",
    "reframed_pressures_node1 = reframed_pressures_node1.drop(reframed_pressures_node1.columns[33], axis=1)\n",
    "reframed_flows_node1 = reframed_flows_node1.drop(reframed_flows_node1.columns[64], axis=1)\n",
    "\n",
    "reframed_demand_node16 = reframed_demand_node16.drop(reframed_demand_node16.columns[16], axis=1)\n",
    "reframed_pressures_node16 = reframed_pressures_node16.drop(reframed_pressures_node16.columns[48], axis=1)\n",
    "reframed_flows_node16 = reframed_flows_node16.drop(reframed_flows_node16.columns[79], axis=1)\n",
    "\n",
    "reframed_demand_node29 = reframed_demand_node29.drop(reframed_demand_node29.columns[29], axis=1)\n",
    "reframed_pressures_node29 = reframed_pressures_node29.drop(reframed_pressures_node29.columns[61], axis=1)\n",
    "reframed_flows_node29 = reframed_flows_node29.drop(reframed_flows_node29.columns[92], axis=1)"
   ]
  },
  {
   "cell_type": "code",
   "execution_count": 4,
   "metadata": {},
   "outputs": [],
   "source": [
    "demands = [reframed_demand_node1, reframed_demand_node16, reframed_demand_node29]\n",
    "pressures = [reframed_pressures_node1, reframed_pressures_node16, reframed_pressures_node29]\n",
    "flows = [reframed_flows_node1, reframed_flows_node16, reframed_flows_node29]\n",
    "\n",
    "parameters = [demands, pressures, flows]"
   ]
  },
  {
   "cell_type": "code",
   "execution_count": 5,
   "metadata": {
    "scrolled": true
   },
   "outputs": [
    {
     "name": "stdout",
     "output_type": "stream",
     "text": [
      "Node shape:  (87600, 88)\n"
     ]
    },
    {
     "name": "stderr",
     "output_type": "stream",
     "text": [
      "/Users/alexellard/opt/anaconda3/lib/python3.7/site-packages/xgboost/data.py:96: UserWarning: Use subset (sliced data) of np.ndarray is not recommended because it will generate extra copies and increase memory consumption\n",
      "  \"because it will generate extra copies and increase \" +\n"
     ]
    },
    {
     "name": "stdout",
     "output_type": "stream",
     "text": [
      "Run 1 Scaled Mean Absolute Error: 0.019428851\n",
      "Run 1 Scaled RMSE: 0.025\n",
      "Run 1 Scaled R^2: 0.976\n",
      "Mean Absolute Error: 165.76695\n",
      "RMSE: 215.600\n",
      "R^2: 0.976\n",
      "Node shape:  (87600, 88)\n"
     ]
    },
    {
     "name": "stderr",
     "output_type": "stream",
     "text": [
      "/Users/alexellard/opt/anaconda3/lib/python3.7/site-packages/xgboost/data.py:96: UserWarning: Use subset (sliced data) of np.ndarray is not recommended because it will generate extra copies and increase memory consumption\n",
      "  \"because it will generate extra copies and increase \" +\n"
     ]
    },
    {
     "name": "stdout",
     "output_type": "stream",
     "text": [
      "Run 1 Scaled Mean Absolute Error: 0.0055835196\n",
      "Run 1 Scaled RMSE: 0.007\n",
      "Run 1 Scaled R^2: 0.998\n",
      "Mean Absolute Error: 47.63859\n",
      "RMSE: 62.825\n",
      "R^2: 0.998\n",
      "Node shape:  (87600, 88)\n"
     ]
    },
    {
     "name": "stderr",
     "output_type": "stream",
     "text": [
      "/Users/alexellard/opt/anaconda3/lib/python3.7/site-packages/xgboost/data.py:96: UserWarning: Use subset (sliced data) of np.ndarray is not recommended because it will generate extra copies and increase memory consumption\n",
      "  \"because it will generate extra copies and increase \" +\n"
     ]
    },
    {
     "name": "stdout",
     "output_type": "stream",
     "text": [
      "Run 1 Scaled Mean Absolute Error: 0.00819792\n",
      "Run 1 Scaled RMSE: 0.011\n",
      "Run 1 Scaled R^2: 0.996\n",
      "Mean Absolute Error: 69.94465\n",
      "RMSE: 92.129\n",
      "R^2: 0.996\n",
      "Node shape:  (87600, 88)\n"
     ]
    },
    {
     "name": "stderr",
     "output_type": "stream",
     "text": [
      "/Users/alexellard/opt/anaconda3/lib/python3.7/site-packages/xgboost/data.py:96: UserWarning: Use subset (sliced data) of np.ndarray is not recommended because it will generate extra copies and increase memory consumption\n",
      "  \"because it will generate extra copies and increase \" +\n"
     ]
    },
    {
     "name": "stdout",
     "output_type": "stream",
     "text": [
      "Run 1 Scaled Mean Absolute Error: 0.001281069\n",
      "Run 1 Scaled RMSE: 0.002\n",
      "Run 1 Scaled R^2: 1.000\n",
      "Mean Absolute Error: 10.930081\n",
      "RMSE: 19.015\n",
      "R^2: 1.000\n",
      "Node shape:  (87600, 88)\n"
     ]
    },
    {
     "name": "stderr",
     "output_type": "stream",
     "text": [
      "/Users/alexellard/opt/anaconda3/lib/python3.7/site-packages/xgboost/data.py:96: UserWarning: Use subset (sliced data) of np.ndarray is not recommended because it will generate extra copies and increase memory consumption\n",
      "  \"because it will generate extra copies and increase \" +\n"
     ]
    },
    {
     "name": "stdout",
     "output_type": "stream",
     "text": [
      "Run 1 Scaled Mean Absolute Error: 0.00092467654\n",
      "Run 1 Scaled RMSE: 0.001\n",
      "Run 1 Scaled R^2: 1.000\n",
      "Mean Absolute Error: 7.889341\n",
      "RMSE: 10.881\n",
      "R^2: 1.000\n",
      "Node shape:  (87600, 88)\n"
     ]
    },
    {
     "name": "stderr",
     "output_type": "stream",
     "text": [
      "/Users/alexellard/opt/anaconda3/lib/python3.7/site-packages/xgboost/data.py:96: UserWarning: Use subset (sliced data) of np.ndarray is not recommended because it will generate extra copies and increase memory consumption\n",
      "  \"because it will generate extra copies and increase \" +\n"
     ]
    },
    {
     "name": "stdout",
     "output_type": "stream",
     "text": [
      "Run 1 Scaled Mean Absolute Error: 0.00032427863\n",
      "Run 1 Scaled RMSE: 0.000\n",
      "Run 1 Scaled R^2: 1.000\n",
      "Mean Absolute Error: 2.766747\n",
      "RMSE: 3.967\n",
      "R^2: 1.000\n",
      "Node shape:  (87600, 88)\n"
     ]
    },
    {
     "name": "stderr",
     "output_type": "stream",
     "text": [
      "/Users/alexellard/opt/anaconda3/lib/python3.7/site-packages/xgboost/data.py:96: UserWarning: Use subset (sliced data) of np.ndarray is not recommended because it will generate extra copies and increase memory consumption\n",
      "  \"because it will generate extra copies and increase \" +\n"
     ]
    },
    {
     "name": "stdout",
     "output_type": "stream",
     "text": [
      "Run 1 Scaled Mean Absolute Error: 0.00026821528\n",
      "Run 1 Scaled RMSE: 0.000\n",
      "Run 1 Scaled R^2: 1.000\n",
      "Mean Absolute Error: 2.2884114\n",
      "RMSE: 3.120\n",
      "R^2: 1.000\n",
      "Node shape:  (87600, 88)\n"
     ]
    },
    {
     "name": "stderr",
     "output_type": "stream",
     "text": [
      "/Users/alexellard/opt/anaconda3/lib/python3.7/site-packages/xgboost/data.py:96: UserWarning: Use subset (sliced data) of np.ndarray is not recommended because it will generate extra copies and increase memory consumption\n",
      "  \"because it will generate extra copies and increase \" +\n"
     ]
    },
    {
     "name": "stdout",
     "output_type": "stream",
     "text": [
      "Run 1 Scaled Mean Absolute Error: 0.003218476\n",
      "Run 1 Scaled RMSE: 0.004\n",
      "Run 1 Scaled R^2: 1.000\n",
      "Mean Absolute Error: 27.460037\n",
      "RMSE: 35.320\n",
      "R^2: 1.000\n",
      "Node shape:  (87600, 88)\n"
     ]
    },
    {
     "name": "stderr",
     "output_type": "stream",
     "text": [
      "/Users/alexellard/opt/anaconda3/lib/python3.7/site-packages/xgboost/data.py:96: UserWarning: Use subset (sliced data) of np.ndarray is not recommended because it will generate extra copies and increase memory consumption\n",
      "  \"because it will generate extra copies and increase \" +\n"
     ]
    },
    {
     "name": "stdout",
     "output_type": "stream",
     "text": [
      "Run 1 Scaled Mean Absolute Error: 0.0093323905\n",
      "Run 1 Scaled RMSE: 0.012\n",
      "Run 1 Scaled R^2: 0.995\n",
      "Mean Absolute Error: 79.623955\n",
      "RMSE: 102.366\n",
      "R^2: 0.995\n",
      "Node shape:  (87600, 80)\n"
     ]
    },
    {
     "name": "stderr",
     "output_type": "stream",
     "text": [
      "/Users/alexellard/opt/anaconda3/lib/python3.7/site-packages/xgboost/data.py:96: UserWarning: Use subset (sliced data) of np.ndarray is not recommended because it will generate extra copies and increase memory consumption\n",
      "  \"because it will generate extra copies and increase \" +\n"
     ]
    },
    {
     "name": "stdout",
     "output_type": "stream",
     "text": [
      "Run 2 Scaled Mean Absolute Error: 0.019237205\n",
      "Run 2 Scaled RMSE: 0.025\n",
      "Run 2 Scaled R^2: 0.977\n",
      "Mean Absolute Error: 164.13182\n",
      "RMSE: 213.563\n",
      "R^2: 0.977\n",
      "Node shape:  (87600, 80)\n"
     ]
    },
    {
     "name": "stderr",
     "output_type": "stream",
     "text": [
      "/Users/alexellard/opt/anaconda3/lib/python3.7/site-packages/xgboost/data.py:96: UserWarning: Use subset (sliced data) of np.ndarray is not recommended because it will generate extra copies and increase memory consumption\n",
      "  \"because it will generate extra copies and increase \" +\n"
     ]
    },
    {
     "name": "stdout",
     "output_type": "stream",
     "text": [
      "Run 2 Scaled Mean Absolute Error: 0.005675804\n",
      "Run 2 Scaled RMSE: 0.008\n",
      "Run 2 Scaled R^2: 0.998\n",
      "Mean Absolute Error: 48.425957\n",
      "RMSE: 64.184\n",
      "R^2: 0.998\n",
      "Node shape:  (87600, 80)\n"
     ]
    },
    {
     "name": "stderr",
     "output_type": "stream",
     "text": [
      "/Users/alexellard/opt/anaconda3/lib/python3.7/site-packages/xgboost/data.py:96: UserWarning: Use subset (sliced data) of np.ndarray is not recommended because it will generate extra copies and increase memory consumption\n",
      "  \"because it will generate extra copies and increase \" +\n"
     ]
    },
    {
     "name": "stdout",
     "output_type": "stream",
     "text": [
      "Run 2 Scaled Mean Absolute Error: 0.008420319\n",
      "Run 2 Scaled RMSE: 0.011\n",
      "Run 2 Scaled R^2: 0.995\n",
      "Mean Absolute Error: 71.84216\n",
      "RMSE: 94.390\n",
      "R^2: 0.995\n",
      "Node shape:  (87600, 80)\n"
     ]
    },
    {
     "name": "stderr",
     "output_type": "stream",
     "text": [
      "/Users/alexellard/opt/anaconda3/lib/python3.7/site-packages/xgboost/data.py:96: UserWarning: Use subset (sliced data) of np.ndarray is not recommended because it will generate extra copies and increase memory consumption\n",
      "  \"because it will generate extra copies and increase \" +\n"
     ]
    },
    {
     "name": "stdout",
     "output_type": "stream",
     "text": [
      "Run 2 Scaled Mean Absolute Error: 0.0013052797\n",
      "Run 2 Scaled RMSE: 0.002\n",
      "Run 2 Scaled R^2: 1.000\n",
      "Mean Absolute Error: 11.136648\n",
      "RMSE: 16.821\n",
      "R^2: 1.000\n",
      "Node shape:  (87600, 80)\n"
     ]
    },
    {
     "name": "stderr",
     "output_type": "stream",
     "text": [
      "/Users/alexellard/opt/anaconda3/lib/python3.7/site-packages/xgboost/data.py:96: UserWarning: Use subset (sliced data) of np.ndarray is not recommended because it will generate extra copies and increase memory consumption\n",
      "  \"because it will generate extra copies and increase \" +\n"
     ]
    },
    {
     "name": "stdout",
     "output_type": "stream",
     "text": [
      "Run 2 Scaled Mean Absolute Error: 0.0009246064\n",
      "Run 2 Scaled RMSE: 0.001\n",
      "Run 2 Scaled R^2: 1.000\n",
      "Mean Absolute Error: 7.8887424\n",
      "RMSE: 10.980\n",
      "R^2: 1.000\n",
      "Node shape:  (87600, 80)\n"
     ]
    },
    {
     "name": "stderr",
     "output_type": "stream",
     "text": [
      "/Users/alexellard/opt/anaconda3/lib/python3.7/site-packages/xgboost/data.py:96: UserWarning: Use subset (sliced data) of np.ndarray is not recommended because it will generate extra copies and increase memory consumption\n",
      "  \"because it will generate extra copies and increase \" +\n"
     ]
    },
    {
     "name": "stdout",
     "output_type": "stream",
     "text": [
      "Run 2 Scaled Mean Absolute Error: 0.00031175587\n",
      "Run 2 Scaled RMSE: 0.000\n",
      "Run 2 Scaled R^2: 1.000\n",
      "Mean Absolute Error: 2.6599007\n",
      "RMSE: 3.912\n",
      "R^2: 1.000\n",
      "Node shape:  (87600, 81)\n"
     ]
    },
    {
     "name": "stderr",
     "output_type": "stream",
     "text": [
      "/Users/alexellard/opt/anaconda3/lib/python3.7/site-packages/xgboost/data.py:96: UserWarning: Use subset (sliced data) of np.ndarray is not recommended because it will generate extra copies and increase memory consumption\n",
      "  \"because it will generate extra copies and increase \" +\n"
     ]
    },
    {
     "name": "stdout",
     "output_type": "stream",
     "text": [
      "Run 2 Scaled Mean Absolute Error: 0.00075762137\n",
      "Run 2 Scaled RMSE: 0.001\n",
      "Run 2 Scaled R^2: 1.000\n",
      "Mean Absolute Error: 6.464025\n",
      "RMSE: 8.539\n",
      "R^2: 1.000\n",
      "Node shape:  (87600, 80)\n"
     ]
    },
    {
     "name": "stderr",
     "output_type": "stream",
     "text": [
      "/Users/alexellard/opt/anaconda3/lib/python3.7/site-packages/xgboost/data.py:96: UserWarning: Use subset (sliced data) of np.ndarray is not recommended because it will generate extra copies and increase memory consumption\n",
      "  \"because it will generate extra copies and increase \" +\n"
     ]
    },
    {
     "name": "stdout",
     "output_type": "stream",
     "text": [
      "Run 2 Scaled Mean Absolute Error: 0.0031801164\n",
      "Run 2 Scaled RMSE: 0.004\n",
      "Run 2 Scaled R^2: 1.000\n",
      "Mean Absolute Error: 27.132753\n",
      "RMSE: 35.035\n",
      "R^2: 1.000\n",
      "Node shape:  (87600, 80)\n"
     ]
    },
    {
     "name": "stderr",
     "output_type": "stream",
     "text": [
      "/Users/alexellard/opt/anaconda3/lib/python3.7/site-packages/xgboost/data.py:96: UserWarning: Use subset (sliced data) of np.ndarray is not recommended because it will generate extra copies and increase memory consumption\n",
      "  \"because it will generate extra copies and increase \" +\n"
     ]
    },
    {
     "name": "stdout",
     "output_type": "stream",
     "text": [
      "Run 2 Scaled Mean Absolute Error: 0.010656081\n",
      "Run 2 Scaled RMSE: 0.014\n",
      "Run 2 Scaled R^2: 0.994\n",
      "Mean Absolute Error: 90.91769\n",
      "RMSE: 116.581\n",
      "R^2: 0.994\n",
      "Node shape:  (87600, 72)\n"
     ]
    },
    {
     "name": "stderr",
     "output_type": "stream",
     "text": [
      "/Users/alexellard/opt/anaconda3/lib/python3.7/site-packages/xgboost/data.py:96: UserWarning: Use subset (sliced data) of np.ndarray is not recommended because it will generate extra copies and increase memory consumption\n",
      "  \"because it will generate extra copies and increase \" +\n"
     ]
    },
    {
     "name": "stdout",
     "output_type": "stream",
     "text": [
      "Run 3 Scaled Mean Absolute Error: 0.019292787\n",
      "Run 3 Scaled RMSE: 0.025\n",
      "Run 3 Scaled R^2: 0.977\n",
      "Mean Absolute Error: 164.60605\n",
      "RMSE: 213.796\n",
      "R^2: 0.977\n",
      "Node shape:  (87600, 72)\n"
     ]
    },
    {
     "name": "stderr",
     "output_type": "stream",
     "text": [
      "/Users/alexellard/opt/anaconda3/lib/python3.7/site-packages/xgboost/data.py:96: UserWarning: Use subset (sliced data) of np.ndarray is not recommended because it will generate extra copies and increase memory consumption\n",
      "  \"because it will generate extra copies and increase \" +\n"
     ]
    },
    {
     "name": "stdout",
     "output_type": "stream",
     "text": [
      "Run 3 Scaled Mean Absolute Error: 0.005758387\n",
      "Run 3 Scaled RMSE: 0.008\n",
      "Run 3 Scaled R^2: 0.998\n",
      "Mean Absolute Error: 49.130558\n",
      "RMSE: 65.265\n",
      "R^2: 0.998\n",
      "Node shape:  (87600, 72)\n"
     ]
    },
    {
     "name": "stderr",
     "output_type": "stream",
     "text": [
      "/Users/alexellard/opt/anaconda3/lib/python3.7/site-packages/xgboost/data.py:96: UserWarning: Use subset (sliced data) of np.ndarray is not recommended because it will generate extra copies and increase memory consumption\n",
      "  \"because it will generate extra copies and increase \" +\n"
     ]
    },
    {
     "name": "stdout",
     "output_type": "stream",
     "text": [
      "Run 3 Scaled Mean Absolute Error: 0.008206621\n",
      "Run 3 Scaled RMSE: 0.011\n",
      "Run 3 Scaled R^2: 0.996\n",
      "Mean Absolute Error: 4.2838564\n",
      "RMSE: 5.660\n",
      "R^2: 0.996\n",
      "Node shape:  (87600, 72)\n"
     ]
    },
    {
     "name": "stderr",
     "output_type": "stream",
     "text": [
      "/Users/alexellard/opt/anaconda3/lib/python3.7/site-packages/xgboost/data.py:96: UserWarning: Use subset (sliced data) of np.ndarray is not recommended because it will generate extra copies and increase memory consumption\n",
      "  \"because it will generate extra copies and increase \" +\n"
     ]
    },
    {
     "name": "stdout",
     "output_type": "stream",
     "text": [
      "Run 3 Scaled Mean Absolute Error: 0.0012666147\n",
      "Run 3 Scaled RMSE: 0.002\n",
      "Run 3 Scaled R^2: 1.000\n",
      "Mean Absolute Error: 10.806758\n",
      "RMSE: 21.101\n",
      "R^2: 1.000\n",
      "Node shape:  (87600, 72)\n"
     ]
    },
    {
     "name": "stderr",
     "output_type": "stream",
     "text": [
      "/Users/alexellard/opt/anaconda3/lib/python3.7/site-packages/xgboost/data.py:96: UserWarning: Use subset (sliced data) of np.ndarray is not recommended because it will generate extra copies and increase memory consumption\n",
      "  \"because it will generate extra copies and increase \" +\n"
     ]
    },
    {
     "name": "stdout",
     "output_type": "stream",
     "text": [
      "Run 3 Scaled Mean Absolute Error: 0.0009819701\n",
      "Run 3 Scaled RMSE: 0.001\n",
      "Run 3 Scaled R^2: 1.000\n",
      "Mean Absolute Error: 8.37817\n",
      "RMSE: 11.597\n",
      "R^2: 1.000\n",
      "Node shape:  (87600, 72)\n"
     ]
    },
    {
     "name": "stderr",
     "output_type": "stream",
     "text": [
      "/Users/alexellard/opt/anaconda3/lib/python3.7/site-packages/xgboost/data.py:96: UserWarning: Use subset (sliced data) of np.ndarray is not recommended because it will generate extra copies and increase memory consumption\n",
      "  \"because it will generate extra copies and increase \" +\n"
     ]
    },
    {
     "name": "stdout",
     "output_type": "stream",
     "text": [
      "Run 3 Scaled Mean Absolute Error: 0.00034861895\n",
      "Run 3 Scaled RMSE: 0.001\n",
      "Run 3 Scaled R^2: 1.000\n",
      "Mean Absolute Error: 2.9744167\n",
      "RMSE: 4.324\n",
      "R^2: 1.000\n",
      "Node shape:  (87600, 73)\n"
     ]
    },
    {
     "name": "stderr",
     "output_type": "stream",
     "text": [
      "/Users/alexellard/opt/anaconda3/lib/python3.7/site-packages/xgboost/data.py:96: UserWarning: Use subset (sliced data) of np.ndarray is not recommended because it will generate extra copies and increase memory consumption\n",
      "  \"because it will generate extra copies and increase \" +\n"
     ]
    },
    {
     "name": "stdout",
     "output_type": "stream",
     "text": [
      "Run 3 Scaled Mean Absolute Error: 0.00035383189\n",
      "Run 3 Scaled RMSE: 0.000\n",
      "Run 3 Scaled R^2: 1.000\n",
      "Mean Absolute Error: 3.0188942\n",
      "RMSE: 3.985\n",
      "R^2: 1.000\n",
      "Node shape:  (87600, 72)\n"
     ]
    },
    {
     "name": "stderr",
     "output_type": "stream",
     "text": [
      "/Users/alexellard/opt/anaconda3/lib/python3.7/site-packages/xgboost/data.py:96: UserWarning: Use subset (sliced data) of np.ndarray is not recommended because it will generate extra copies and increase memory consumption\n",
      "  \"because it will generate extra copies and increase \" +\n"
     ]
    },
    {
     "name": "stdout",
     "output_type": "stream",
     "text": [
      "Run 3 Scaled Mean Absolute Error: 0.0032263622\n",
      "Run 3 Scaled RMSE: 0.004\n",
      "Run 3 Scaled R^2: 0.999\n",
      "Mean Absolute Error: 27.527323\n",
      "RMSE: 35.449\n",
      "R^2: 0.999\n",
      "Node shape:  (87600, 73)\n"
     ]
    },
    {
     "name": "stderr",
     "output_type": "stream",
     "text": [
      "/Users/alexellard/opt/anaconda3/lib/python3.7/site-packages/xgboost/data.py:96: UserWarning: Use subset (sliced data) of np.ndarray is not recommended because it will generate extra copies and increase memory consumption\n",
      "  \"because it will generate extra copies and increase \" +\n"
     ]
    },
    {
     "name": "stdout",
     "output_type": "stream",
     "text": [
      "Run 3 Scaled Mean Absolute Error: 0.010797383\n",
      "Run 3 Scaled RMSE: 0.014\n",
      "Run 3 Scaled R^2: 0.994\n",
      "Mean Absolute Error: 92.123276\n",
      "RMSE: 118.438\n",
      "R^2: 0.994\n",
      "Node shape:  (87600, 65)\n"
     ]
    },
    {
     "name": "stderr",
     "output_type": "stream",
     "text": [
      "/Users/alexellard/opt/anaconda3/lib/python3.7/site-packages/xgboost/data.py:96: UserWarning: Use subset (sliced data) of np.ndarray is not recommended because it will generate extra copies and increase memory consumption\n",
      "  \"because it will generate extra copies and increase \" +\n"
     ]
    },
    {
     "name": "stdout",
     "output_type": "stream",
     "text": [
      "Run 4 Scaled Mean Absolute Error: 0.019358847\n",
      "Run 4 Scaled RMSE: 0.025\n",
      "Run 4 Scaled R^2: 0.976\n",
      "Mean Absolute Error: 8.990249\n",
      "RMSE: 11.673\n",
      "R^2: 0.976\n",
      "Node shape:  (87600, 64)\n"
     ]
    },
    {
     "name": "stderr",
     "output_type": "stream",
     "text": [
      "/Users/alexellard/opt/anaconda3/lib/python3.7/site-packages/xgboost/data.py:96: UserWarning: Use subset (sliced data) of np.ndarray is not recommended because it will generate extra copies and increase memory consumption\n",
      "  \"because it will generate extra copies and increase \" +\n"
     ]
    },
    {
     "name": "stdout",
     "output_type": "stream",
     "text": [
      "Run 4 Scaled Mean Absolute Error: 0.005694986\n",
      "Run 4 Scaled RMSE: 0.008\n",
      "Run 4 Scaled R^2: 0.998\n",
      "Mean Absolute Error: 2.9727829\n",
      "RMSE: 3.934\n",
      "R^2: 0.998\n",
      "Node shape:  (87600, 64)\n"
     ]
    },
    {
     "name": "stderr",
     "output_type": "stream",
     "text": [
      "/Users/alexellard/opt/anaconda3/lib/python3.7/site-packages/xgboost/data.py:96: UserWarning: Use subset (sliced data) of np.ndarray is not recommended because it will generate extra copies and increase memory consumption\n",
      "  \"because it will generate extra copies and increase \" +\n"
     ]
    },
    {
     "name": "stdout",
     "output_type": "stream",
     "text": [
      "Run 4 Scaled Mean Absolute Error: 0.008131501\n",
      "Run 4 Scaled RMSE: 0.011\n",
      "Run 4 Scaled R^2: 0.996\n",
      "Mean Absolute Error: 4.2446446\n",
      "RMSE: 5.578\n",
      "R^2: 0.996\n",
      "Node shape:  (87600, 65)\n"
     ]
    },
    {
     "name": "stderr",
     "output_type": "stream",
     "text": [
      "/Users/alexellard/opt/anaconda3/lib/python3.7/site-packages/xgboost/data.py:96: UserWarning: Use subset (sliced data) of np.ndarray is not recommended because it will generate extra copies and increase memory consumption\n",
      "  \"because it will generate extra copies and increase \" +\n"
     ]
    },
    {
     "name": "stdout",
     "output_type": "stream",
     "text": [
      "Run 4 Scaled Mean Absolute Error: 0.001260634\n",
      "Run 4 Scaled RMSE: 0.002\n",
      "Run 4 Scaled R^2: 1.000\n",
      "Mean Absolute Error: 10.755727\n",
      "RMSE: 17.827\n",
      "R^2: 1.000\n",
      "Node shape:  (87600, 64)\n"
     ]
    },
    {
     "name": "stderr",
     "output_type": "stream",
     "text": [
      "/Users/alexellard/opt/anaconda3/lib/python3.7/site-packages/xgboost/data.py:96: UserWarning: Use subset (sliced data) of np.ndarray is not recommended because it will generate extra copies and increase memory consumption\n",
      "  \"because it will generate extra copies and increase \" +\n"
     ]
    },
    {
     "name": "stdout",
     "output_type": "stream",
     "text": [
      "Run 4 Scaled Mean Absolute Error: 0.0008909345\n",
      "Run 4 Scaled RMSE: 0.001\n",
      "Run 4 Scaled R^2: 1.000\n",
      "Mean Absolute Error: 0.4650679\n",
      "RMSE: 0.637\n",
      "R^2: 1.000\n",
      "Node shape:  (87600, 64)\n"
     ]
    },
    {
     "name": "stderr",
     "output_type": "stream",
     "text": [
      "/Users/alexellard/opt/anaconda3/lib/python3.7/site-packages/xgboost/data.py:96: UserWarning: Use subset (sliced data) of np.ndarray is not recommended because it will generate extra copies and increase memory consumption\n",
      "  \"because it will generate extra copies and increase \" +\n"
     ]
    },
    {
     "name": "stdout",
     "output_type": "stream",
     "text": [
      "Run 4 Scaled Mean Absolute Error: 0.0005415248\n",
      "Run 4 Scaled RMSE: 0.001\n",
      "Run 4 Scaled R^2: 1.000\n",
      "Mean Absolute Error: 4.620289\n",
      "RMSE: 6.442\n",
      "R^2: 1.000\n",
      "Node shape:  (87600, 65)\n"
     ]
    },
    {
     "name": "stderr",
     "output_type": "stream",
     "text": [
      "/Users/alexellard/opt/anaconda3/lib/python3.7/site-packages/xgboost/data.py:96: UserWarning: Use subset (sliced data) of np.ndarray is not recommended because it will generate extra copies and increase memory consumption\n",
      "  \"because it will generate extra copies and increase \" +\n"
     ]
    },
    {
     "name": "stdout",
     "output_type": "stream",
     "text": [
      "Run 4 Scaled Mean Absolute Error: 0.00040610819\n",
      "Run 4 Scaled RMSE: 0.001\n",
      "Run 4 Scaled R^2: 1.000\n",
      "Mean Absolute Error: 3.4649193\n",
      "RMSE: 4.543\n",
      "R^2: 1.000\n",
      "Node shape:  (87600, 65)\n"
     ]
    },
    {
     "name": "stderr",
     "output_type": "stream",
     "text": [
      "/Users/alexellard/opt/anaconda3/lib/python3.7/site-packages/xgboost/data.py:96: UserWarning: Use subset (sliced data) of np.ndarray is not recommended because it will generate extra copies and increase memory consumption\n",
      "  \"because it will generate extra copies and increase \" +\n"
     ]
    },
    {
     "name": "stdout",
     "output_type": "stream",
     "text": [
      "Run 4 Scaled Mean Absolute Error: 0.0033139258\n",
      "Run 4 Scaled RMSE: 0.004\n",
      "Run 4 Scaled R^2: 0.999\n",
      "Mean Absolute Error: 28.274416\n",
      "RMSE: 36.310\n",
      "R^2: 0.999\n",
      "Node shape:  (87600, 65)\n"
     ]
    },
    {
     "name": "stderr",
     "output_type": "stream",
     "text": [
      "/Users/alexellard/opt/anaconda3/lib/python3.7/site-packages/xgboost/data.py:96: UserWarning: Use subset (sliced data) of np.ndarray is not recommended because it will generate extra copies and increase memory consumption\n",
      "  \"because it will generate extra copies and increase \" +\n"
     ]
    },
    {
     "name": "stdout",
     "output_type": "stream",
     "text": [
      "Run 4 Scaled Mean Absolute Error: 0.010814569\n",
      "Run 4 Scaled RMSE: 0.014\n",
      "Run 4 Scaled R^2: 0.993\n",
      "Mean Absolute Error: 92.269905\n",
      "RMSE: 118.813\n",
      "R^2: 0.993\n",
      "Node shape:  (87600, 57)\n"
     ]
    },
    {
     "name": "stderr",
     "output_type": "stream",
     "text": [
      "/Users/alexellard/opt/anaconda3/lib/python3.7/site-packages/xgboost/data.py:96: UserWarning: Use subset (sliced data) of np.ndarray is not recommended because it will generate extra copies and increase memory consumption\n",
      "  \"because it will generate extra copies and increase \" +\n"
     ]
    },
    {
     "name": "stdout",
     "output_type": "stream",
     "text": [
      "Run 5 Scaled Mean Absolute Error: 0.019245122\n",
      "Run 5 Scaled RMSE: 0.025\n",
      "Run 5 Scaled R^2: 0.977\n",
      "Mean Absolute Error: 9.560977\n",
      "RMSE: 12.426\n",
      "R^2: 0.977\n",
      "Node shape:  (87600, 56)\n"
     ]
    },
    {
     "name": "stderr",
     "output_type": "stream",
     "text": [
      "/Users/alexellard/opt/anaconda3/lib/python3.7/site-packages/xgboost/data.py:96: UserWarning: Use subset (sliced data) of np.ndarray is not recommended because it will generate extra copies and increase memory consumption\n",
      "  \"because it will generate extra copies and increase \" +\n"
     ]
    },
    {
     "name": "stdout",
     "output_type": "stream",
     "text": [
      "Run 5 Scaled Mean Absolute Error: 0.009033751\n",
      "Run 5 Scaled RMSE: 0.012\n",
      "Run 5 Scaled R^2: 0.996\n",
      "Mean Absolute Error: 4.7156186\n",
      "RMSE: 6.069\n",
      "R^2: 0.996\n",
      "Node shape:  (87600, 56)\n"
     ]
    },
    {
     "name": "stderr",
     "output_type": "stream",
     "text": [
      "/Users/alexellard/opt/anaconda3/lib/python3.7/site-packages/xgboost/data.py:96: UserWarning: Use subset (sliced data) of np.ndarray is not recommended because it will generate extra copies and increase memory consumption\n",
      "  \"because it will generate extra copies and increase \" +\n"
     ]
    },
    {
     "name": "stdout",
     "output_type": "stream",
     "text": [
      "Run 5 Scaled Mean Absolute Error: 0.008583627\n",
      "Run 5 Scaled RMSE: 0.011\n",
      "Run 5 Scaled R^2: 0.995\n",
      "Mean Absolute Error: 4.4806533\n",
      "RMSE: 5.838\n",
      "R^2: 0.995\n",
      "Node shape:  (87600, 58)\n"
     ]
    },
    {
     "name": "stderr",
     "output_type": "stream",
     "text": [
      "/Users/alexellard/opt/anaconda3/lib/python3.7/site-packages/xgboost/data.py:96: UserWarning: Use subset (sliced data) of np.ndarray is not recommended because it will generate extra copies and increase memory consumption\n",
      "  \"because it will generate extra copies and increase \" +\n"
     ]
    },
    {
     "name": "stdout",
     "output_type": "stream",
     "text": [
      "Run 5 Scaled Mean Absolute Error: 0.0012660675\n",
      "Run 5 Scaled RMSE: 0.002\n",
      "Run 5 Scaled R^2: 1.000\n",
      "Mean Absolute Error: 10.802089\n",
      "RMSE: 16.542\n",
      "R^2: 1.000\n",
      "Node shape:  (87600, 56)\n"
     ]
    },
    {
     "name": "stderr",
     "output_type": "stream",
     "text": [
      "/Users/alexellard/opt/anaconda3/lib/python3.7/site-packages/xgboost/data.py:96: UserWarning: Use subset (sliced data) of np.ndarray is not recommended because it will generate extra copies and increase memory consumption\n",
      "  \"because it will generate extra copies and increase \" +\n"
     ]
    },
    {
     "name": "stdout",
     "output_type": "stream",
     "text": [
      "Run 5 Scaled Mean Absolute Error: 0.00088693056\n",
      "Run 5 Scaled RMSE: 0.001\n",
      "Run 5 Scaled R^2: 1.000\n",
      "Mean Absolute Error: 0.4629778\n",
      "RMSE: 0.644\n",
      "R^2: 1.000\n",
      "Node shape:  (87600, 56)\n"
     ]
    },
    {
     "name": "stderr",
     "output_type": "stream",
     "text": [
      "/Users/alexellard/opt/anaconda3/lib/python3.7/site-packages/xgboost/data.py:96: UserWarning: Use subset (sliced data) of np.ndarray is not recommended because it will generate extra copies and increase memory consumption\n",
      "  \"because it will generate extra copies and increase \" +\n"
     ]
    },
    {
     "name": "stdout",
     "output_type": "stream",
     "text": [
      "Run 5 Scaled Mean Absolute Error: 0.00051418046\n",
      "Run 5 Scaled RMSE: 0.001\n",
      "Run 5 Scaled R^2: 1.000\n",
      "Mean Absolute Error: 4.386986\n",
      "RMSE: 5.999\n",
      "R^2: 1.000\n",
      "Node shape:  (87600, 57)\n"
     ]
    },
    {
     "name": "stderr",
     "output_type": "stream",
     "text": [
      "/Users/alexellard/opt/anaconda3/lib/python3.7/site-packages/xgboost/data.py:96: UserWarning: Use subset (sliced data) of np.ndarray is not recommended because it will generate extra copies and increase memory consumption\n",
      "  \"because it will generate extra copies and increase \" +\n"
     ]
    },
    {
     "name": "stdout",
     "output_type": "stream",
     "text": [
      "Run 5 Scaled Mean Absolute Error: 0.0003285383\n",
      "Run 5 Scaled RMSE: 0.000\n",
      "Run 5 Scaled R^2: 1.000\n",
      "Mean Absolute Error: 2.8030941\n",
      "RMSE: 3.693\n",
      "R^2: 1.000\n",
      "Node shape:  (87600, 58)\n"
     ]
    },
    {
     "name": "stderr",
     "output_type": "stream",
     "text": [
      "/Users/alexellard/opt/anaconda3/lib/python3.7/site-packages/xgboost/data.py:96: UserWarning: Use subset (sliced data) of np.ndarray is not recommended because it will generate extra copies and increase memory consumption\n",
      "  \"because it will generate extra copies and increase \" +\n"
     ]
    },
    {
     "name": "stdout",
     "output_type": "stream",
     "text": [
      "Run 5 Scaled Mean Absolute Error: 0.007044015\n",
      "Run 5 Scaled RMSE: 0.009\n",
      "Run 5 Scaled R^2: 0.998\n",
      "Mean Absolute Error: 60.099537\n",
      "RMSE: 78.286\n",
      "R^2: 0.998\n",
      "Node shape:  (87600, 57)\n"
     ]
    },
    {
     "name": "stderr",
     "output_type": "stream",
     "text": [
      "/Users/alexellard/opt/anaconda3/lib/python3.7/site-packages/xgboost/data.py:96: UserWarning: Use subset (sliced data) of np.ndarray is not recommended because it will generate extra copies and increase memory consumption\n",
      "  \"because it will generate extra copies and increase \" +\n"
     ]
    },
    {
     "name": "stdout",
     "output_type": "stream",
     "text": [
      "Run 5 Scaled Mean Absolute Error: 0.011018762\n",
      "Run 5 Scaled RMSE: 0.014\n",
      "Run 5 Scaled R^2: 0.993\n",
      "Mean Absolute Error: 94.01208\n",
      "RMSE: 121.388\n",
      "R^2: 0.993\n",
      "Node shape:  (87600, 49)\n"
     ]
    },
    {
     "name": "stderr",
     "output_type": "stream",
     "text": [
      "/Users/alexellard/opt/anaconda3/lib/python3.7/site-packages/xgboost/data.py:96: UserWarning: Use subset (sliced data) of np.ndarray is not recommended because it will generate extra copies and increase memory consumption\n",
      "  \"because it will generate extra copies and increase \" +\n"
     ]
    },
    {
     "name": "stdout",
     "output_type": "stream",
     "text": [
      "Run 6 Scaled Mean Absolute Error: 0.019228693\n",
      "Run 6 Scaled RMSE: 0.025\n",
      "Run 6 Scaled R^2: 0.977\n",
      "Mean Absolute Error: 9.552815\n",
      "RMSE: 12.403\n",
      "R^2: 0.977\n",
      "Node shape:  (87600, 48)\n"
     ]
    },
    {
     "name": "stderr",
     "output_type": "stream",
     "text": [
      "/Users/alexellard/opt/anaconda3/lib/python3.7/site-packages/xgboost/data.py:96: UserWarning: Use subset (sliced data) of np.ndarray is not recommended because it will generate extra copies and increase memory consumption\n",
      "  \"because it will generate extra copies and increase \" +\n"
     ]
    },
    {
     "name": "stdout",
     "output_type": "stream",
     "text": [
      "Run 6 Scaled Mean Absolute Error: 0.020157004\n",
      "Run 6 Scaled RMSE: 0.026\n",
      "Run 6 Scaled R^2: 0.978\n",
      "Mean Absolute Error: 10.521957\n",
      "RMSE: 13.688\n",
      "R^2: 0.978\n",
      "Node shape:  (87600, 48)\n"
     ]
    },
    {
     "name": "stderr",
     "output_type": "stream",
     "text": [
      "/Users/alexellard/opt/anaconda3/lib/python3.7/site-packages/xgboost/data.py:96: UserWarning: Use subset (sliced data) of np.ndarray is not recommended because it will generate extra copies and increase memory consumption\n",
      "  \"because it will generate extra copies and increase \" +\n"
     ]
    },
    {
     "name": "stdout",
     "output_type": "stream",
     "text": [
      "Run 6 Scaled Mean Absolute Error: 0.008257972\n",
      "Run 6 Scaled RMSE: 0.011\n",
      "Run 6 Scaled R^2: 0.996\n",
      "Mean Absolute Error: 4.3106623\n",
      "RMSE: 5.654\n",
      "R^2: 0.996\n",
      "Node shape:  (87600, 51)\n"
     ]
    },
    {
     "name": "stderr",
     "output_type": "stream",
     "text": [
      "/Users/alexellard/opt/anaconda3/lib/python3.7/site-packages/xgboost/data.py:96: UserWarning: Use subset (sliced data) of np.ndarray is not recommended because it will generate extra copies and increase memory consumption\n",
      "  \"because it will generate extra copies and increase \" +\n"
     ]
    },
    {
     "name": "stdout",
     "output_type": "stream",
     "text": [
      "Run 6 Scaled Mean Absolute Error: 0.0012679594\n",
      "Run 6 Scaled RMSE: 0.002\n",
      "Run 6 Scaled R^2: 1.000\n",
      "Mean Absolute Error: 10.818229\n",
      "RMSE: 19.905\n",
      "R^2: 1.000\n",
      "Node shape:  (87600, 48)\n"
     ]
    },
    {
     "name": "stderr",
     "output_type": "stream",
     "text": [
      "/Users/alexellard/opt/anaconda3/lib/python3.7/site-packages/xgboost/data.py:96: UserWarning: Use subset (sliced data) of np.ndarray is not recommended because it will generate extra copies and increase memory consumption\n",
      "  \"because it will generate extra copies and increase \" +\n"
     ]
    },
    {
     "name": "stdout",
     "output_type": "stream",
     "text": [
      "Run 6 Scaled Mean Absolute Error: 0.0008985726\n",
      "Run 6 Scaled RMSE: 0.001\n",
      "Run 6 Scaled R^2: 1.000\n",
      "Mean Absolute Error: 0.46905497\n",
      "RMSE: 0.654\n",
      "R^2: 1.000\n",
      "Node shape:  (87600, 48)\n"
     ]
    },
    {
     "name": "stderr",
     "output_type": "stream",
     "text": [
      "/Users/alexellard/opt/anaconda3/lib/python3.7/site-packages/xgboost/data.py:96: UserWarning: Use subset (sliced data) of np.ndarray is not recommended because it will generate extra copies and increase memory consumption\n",
      "  \"because it will generate extra copies and increase \" +\n"
     ]
    },
    {
     "name": "stdout",
     "output_type": "stream",
     "text": [
      "Run 6 Scaled Mean Absolute Error: 0.000741835\n",
      "Run 6 Scaled RMSE: 0.001\n",
      "Run 6 Scaled R^2: 1.000\n",
      "Mean Absolute Error: 6.329335\n",
      "RMSE: 8.433\n",
      "R^2: 1.000\n",
      "Node shape:  (87600, 50)\n"
     ]
    },
    {
     "name": "stderr",
     "output_type": "stream",
     "text": [
      "/Users/alexellard/opt/anaconda3/lib/python3.7/site-packages/xgboost/data.py:96: UserWarning: Use subset (sliced data) of np.ndarray is not recommended because it will generate extra copies and increase memory consumption\n",
      "  \"because it will generate extra copies and increase \" +\n"
     ]
    },
    {
     "name": "stdout",
     "output_type": "stream",
     "text": [
      "Run 6 Scaled Mean Absolute Error: 0.0013594242\n",
      "Run 6 Scaled RMSE: 0.002\n",
      "Run 6 Scaled R^2: 1.000\n",
      "Mean Absolute Error: 0.6313167\n",
      "RMSE: 0.823\n",
      "R^2: 1.000\n",
      "Node shape:  (87600, 50)\n"
     ]
    },
    {
     "name": "stderr",
     "output_type": "stream",
     "text": [
      "/Users/alexellard/opt/anaconda3/lib/python3.7/site-packages/xgboost/data.py:96: UserWarning: Use subset (sliced data) of np.ndarray is not recommended because it will generate extra copies and increase memory consumption\n",
      "  \"because it will generate extra copies and increase \" +\n"
     ]
    },
    {
     "name": "stdout",
     "output_type": "stream",
     "text": [
      "Run 6 Scaled Mean Absolute Error: 0.007424901\n",
      "Run 6 Scaled RMSE: 0.010\n",
      "Run 6 Scaled R^2: 0.997\n",
      "Mean Absolute Error: 63.34925\n",
      "RMSE: 82.587\n",
      "R^2: 0.997\n",
      "Node shape:  (87600, 49)\n"
     ]
    },
    {
     "name": "stderr",
     "output_type": "stream",
     "text": [
      "/Users/alexellard/opt/anaconda3/lib/python3.7/site-packages/xgboost/data.py:96: UserWarning: Use subset (sliced data) of np.ndarray is not recommended because it will generate extra copies and increase memory consumption\n",
      "  \"because it will generate extra copies and increase \" +\n"
     ]
    },
    {
     "name": "stdout",
     "output_type": "stream",
     "text": [
      "Run 6 Scaled Mean Absolute Error: 0.019475589\n",
      "Run 6 Scaled RMSE: 0.026\n",
      "Run 6 Scaled R^2: 0.978\n",
      "Mean Absolute Error: 166.16573\n",
      "RMSE: 217.898\n",
      "R^2: 0.978\n",
      "Node shape:  (87600, 41)\n"
     ]
    },
    {
     "name": "stderr",
     "output_type": "stream",
     "text": [
      "/Users/alexellard/opt/anaconda3/lib/python3.7/site-packages/xgboost/data.py:96: UserWarning: Use subset (sliced data) of np.ndarray is not recommended because it will generate extra copies and increase memory consumption\n",
      "  \"because it will generate extra copies and increase \" +\n"
     ]
    },
    {
     "name": "stdout",
     "output_type": "stream",
     "text": [
      "Run 7 Scaled Mean Absolute Error: 0.018920321\n",
      "Run 7 Scaled RMSE: 0.025\n",
      "Run 7 Scaled R^2: 0.977\n",
      "Mean Absolute Error: 9.399615\n",
      "RMSE: 12.230\n",
      "R^2: 0.977\n",
      "Node shape:  (87600, 41)\n"
     ]
    },
    {
     "name": "stderr",
     "output_type": "stream",
     "text": [
      "/Users/alexellard/opt/anaconda3/lib/python3.7/site-packages/xgboost/data.py:96: UserWarning: Use subset (sliced data) of np.ndarray is not recommended because it will generate extra copies and increase memory consumption\n",
      "  \"because it will generate extra copies and increase \" +\n"
     ]
    },
    {
     "name": "stdout",
     "output_type": "stream",
     "text": [
      "Run 7 Scaled Mean Absolute Error: 0.021416591\n",
      "Run 7 Scaled RMSE: 0.028\n",
      "Run 7 Scaled R^2: 0.975\n",
      "Mean Absolute Error: 11.1794615\n",
      "RMSE: 14.598\n",
      "R^2: 0.975\n",
      "Node shape:  (87600, 40)\n"
     ]
    },
    {
     "name": "stderr",
     "output_type": "stream",
     "text": [
      "/Users/alexellard/opt/anaconda3/lib/python3.7/site-packages/xgboost/data.py:96: UserWarning: Use subset (sliced data) of np.ndarray is not recommended because it will generate extra copies and increase memory consumption\n",
      "  \"because it will generate extra copies and increase \" +\n"
     ]
    },
    {
     "name": "stdout",
     "output_type": "stream",
     "text": [
      "Run 7 Scaled Mean Absolute Error: 0.0115359835\n",
      "Run 7 Scaled RMSE: 0.015\n",
      "Run 7 Scaled R^2: 0.992\n",
      "Mean Absolute Error: 6.0217834\n",
      "RMSE: 7.728\n",
      "R^2: 0.992\n",
      "Node shape:  (87600, 43)\n"
     ]
    },
    {
     "name": "stderr",
     "output_type": "stream",
     "text": [
      "/Users/alexellard/opt/anaconda3/lib/python3.7/site-packages/xgboost/data.py:96: UserWarning: Use subset (sliced data) of np.ndarray is not recommended because it will generate extra copies and increase memory consumption\n",
      "  \"because it will generate extra copies and increase \" +\n"
     ]
    },
    {
     "name": "stdout",
     "output_type": "stream",
     "text": [
      "Run 7 Scaled Mean Absolute Error: 0.0012683526\n",
      "Run 7 Scaled RMSE: 0.002\n",
      "Run 7 Scaled R^2: 1.000\n",
      "Mean Absolute Error: 0.09588751\n",
      "RMSE: 0.164\n",
      "R^2: 1.000\n",
      "Node shape:  (87600, 41)\n"
     ]
    },
    {
     "name": "stderr",
     "output_type": "stream",
     "text": [
      "/Users/alexellard/opt/anaconda3/lib/python3.7/site-packages/xgboost/data.py:96: UserWarning: Use subset (sliced data) of np.ndarray is not recommended because it will generate extra copies and increase memory consumption\n",
      "  \"because it will generate extra copies and increase \" +\n"
     ]
    },
    {
     "name": "stdout",
     "output_type": "stream",
     "text": [
      "Run 7 Scaled Mean Absolute Error: 0.00093683176\n",
      "Run 7 Scaled RMSE: 0.001\n",
      "Run 7 Scaled R^2: 1.000\n",
      "Mean Absolute Error: 0.48902616\n",
      "RMSE: 0.678\n",
      "R^2: 1.000\n",
      "Node shape:  (87600, 40)\n"
     ]
    },
    {
     "name": "stderr",
     "output_type": "stream",
     "text": [
      "/Users/alexellard/opt/anaconda3/lib/python3.7/site-packages/xgboost/data.py:96: UserWarning: Use subset (sliced data) of np.ndarray is not recommended because it will generate extra copies and increase memory consumption\n",
      "  \"because it will generate extra copies and increase \" +\n"
     ]
    },
    {
     "name": "stdout",
     "output_type": "stream",
     "text": [
      "Run 7 Scaled Mean Absolute Error: 0.0006951296\n",
      "Run 7 Scaled RMSE: 0.001\n",
      "Run 7 Scaled R^2: 1.000\n",
      "Mean Absolute Error: 5.9308457\n",
      "RMSE: 7.954\n",
      "R^2: 1.000\n",
      "Node shape:  (87600, 42)\n"
     ]
    },
    {
     "name": "stderr",
     "output_type": "stream",
     "text": [
      "/Users/alexellard/opt/anaconda3/lib/python3.7/site-packages/xgboost/data.py:96: UserWarning: Use subset (sliced data) of np.ndarray is not recommended because it will generate extra copies and increase memory consumption\n",
      "  \"because it will generate extra copies and increase \" +\n"
     ]
    },
    {
     "name": "stdout",
     "output_type": "stream",
     "text": [
      "Run 7 Scaled Mean Absolute Error: 0.003075493\n",
      "Run 7 Scaled RMSE: 0.004\n",
      "Run 7 Scaled R^2: 1.000\n",
      "Mean Absolute Error: 1.1625365\n",
      "RMSE: 1.514\n",
      "R^2: 1.000\n",
      "Node shape:  (87600, 42)\n"
     ]
    },
    {
     "name": "stderr",
     "output_type": "stream",
     "text": [
      "/Users/alexellard/opt/anaconda3/lib/python3.7/site-packages/xgboost/data.py:96: UserWarning: Use subset (sliced data) of np.ndarray is not recommended because it will generate extra copies and increase memory consumption\n",
      "  \"because it will generate extra copies and increase \" +\n"
     ]
    },
    {
     "name": "stdout",
     "output_type": "stream",
     "text": [
      "Run 7 Scaled Mean Absolute Error: 0.009347036\n",
      "Run 7 Scaled RMSE: 0.012\n",
      "Run 7 Scaled R^2: 0.996\n",
      "Mean Absolute Error: 4.8791523\n",
      "RMSE: 6.406\n",
      "R^2: 0.996\n",
      "Node shape:  (87600, 41)\n"
     ]
    },
    {
     "name": "stderr",
     "output_type": "stream",
     "text": [
      "/Users/alexellard/opt/anaconda3/lib/python3.7/site-packages/xgboost/data.py:96: UserWarning: Use subset (sliced data) of np.ndarray is not recommended because it will generate extra copies and increase memory consumption\n",
      "  \"because it will generate extra copies and increase \" +\n"
     ]
    },
    {
     "name": "stdout",
     "output_type": "stream",
     "text": [
      "Run 7 Scaled Mean Absolute Error: 0.020126948\n",
      "Run 7 Scaled RMSE: 0.027\n",
      "Run 7 Scaled R^2: 0.976\n",
      "Mean Absolute Error: 171.72311\n",
      "RMSE: 226.844\n",
      "R^2: 0.976\n",
      "Node shape:  (87600, 33)\n"
     ]
    },
    {
     "name": "stderr",
     "output_type": "stream",
     "text": [
      "/Users/alexellard/opt/anaconda3/lib/python3.7/site-packages/xgboost/data.py:96: UserWarning: Use subset (sliced data) of np.ndarray is not recommended because it will generate extra copies and increase memory consumption\n",
      "  \"because it will generate extra copies and increase \" +\n"
     ]
    },
    {
     "name": "stdout",
     "output_type": "stream",
     "text": [
      "Run 8 Scaled Mean Absolute Error: 0.01922669\n",
      "Run 8 Scaled RMSE: 0.025\n",
      "Run 8 Scaled R^2: 0.977\n",
      "Mean Absolute Error: 9.551822\n",
      "RMSE: 12.418\n",
      "R^2: 0.977\n",
      "Node shape:  (87600, 33)\n"
     ]
    },
    {
     "name": "stderr",
     "output_type": "stream",
     "text": [
      "/Users/alexellard/opt/anaconda3/lib/python3.7/site-packages/xgboost/data.py:96: UserWarning: Use subset (sliced data) of np.ndarray is not recommended because it will generate extra copies and increase memory consumption\n",
      "  \"because it will generate extra copies and increase \" +\n"
     ]
    },
    {
     "name": "stdout",
     "output_type": "stream",
     "text": [
      "Run 8 Scaled Mean Absolute Error: 0.021376986\n",
      "Run 8 Scaled RMSE: 0.028\n",
      "Run 8 Scaled R^2: 0.975\n",
      "Mean Absolute Error: 1.6161001\n",
      "RMSE: 2.112\n",
      "R^2: 0.975\n",
      "Node shape:  (87600, 32)\n"
     ]
    },
    {
     "name": "stderr",
     "output_type": "stream",
     "text": [
      "/Users/alexellard/opt/anaconda3/lib/python3.7/site-packages/xgboost/data.py:96: UserWarning: Use subset (sliced data) of np.ndarray is not recommended because it will generate extra copies and increase memory consumption\n",
      "  \"because it will generate extra copies and increase \" +\n"
     ]
    },
    {
     "name": "stdout",
     "output_type": "stream",
     "text": [
      "Run 8 Scaled Mean Absolute Error: 0.012741292\n",
      "Run 8 Scaled RMSE: 0.016\n",
      "Run 8 Scaled R^2: 0.990\n",
      "Mean Absolute Error: 6.650955\n",
      "RMSE: 8.527\n",
      "R^2: 0.990\n",
      "Node shape:  (87600, 35)\n"
     ]
    },
    {
     "name": "stderr",
     "output_type": "stream",
     "text": [
      "/Users/alexellard/opt/anaconda3/lib/python3.7/site-packages/xgboost/data.py:96: UserWarning: Use subset (sliced data) of np.ndarray is not recommended because it will generate extra copies and increase memory consumption\n",
      "  \"because it will generate extra copies and increase \" +\n"
     ]
    },
    {
     "name": "stdout",
     "output_type": "stream",
     "text": [
      "Run 8 Scaled Mean Absolute Error: 0.001390145\n",
      "Run 8 Scaled RMSE: 0.002\n",
      "Run 8 Scaled R^2: 1.000\n",
      "Mean Absolute Error: 0.105095014\n",
      "RMSE: 0.147\n",
      "R^2: 1.000\n",
      "Node shape:  (87600, 33)\n"
     ]
    },
    {
     "name": "stderr",
     "output_type": "stream",
     "text": [
      "/Users/alexellard/opt/anaconda3/lib/python3.7/site-packages/xgboost/data.py:96: UserWarning: Use subset (sliced data) of np.ndarray is not recommended because it will generate extra copies and increase memory consumption\n",
      "  \"because it will generate extra copies and increase \" +\n"
     ]
    },
    {
     "name": "stdout",
     "output_type": "stream",
     "text": [
      "Run 8 Scaled Mean Absolute Error: 0.00095263094\n",
      "Run 8 Scaled RMSE: 0.001\n",
      "Run 8 Scaled R^2: 1.000\n",
      "Mean Absolute Error: 0.44240165\n",
      "RMSE: 0.606\n",
      "R^2: 1.000\n",
      "Node shape:  (87600, 33)\n"
     ]
    },
    {
     "name": "stderr",
     "output_type": "stream",
     "text": [
      "/Users/alexellard/opt/anaconda3/lib/python3.7/site-packages/xgboost/data.py:96: UserWarning: Use subset (sliced data) of np.ndarray is not recommended because it will generate extra copies and increase memory consumption\n",
      "  \"because it will generate extra copies and increase \" +\n"
     ]
    },
    {
     "name": "stdout",
     "output_type": "stream",
     "text": [
      "Run 8 Scaled Mean Absolute Error: 0.00074012316\n",
      "Run 8 Scaled RMSE: 0.001\n",
      "Run 8 Scaled R^2: 1.000\n",
      "Mean Absolute Error: 6.3147287\n",
      "RMSE: 8.437\n",
      "R^2: 1.000\n",
      "Node shape:  (87600, 35)\n"
     ]
    },
    {
     "name": "stderr",
     "output_type": "stream",
     "text": [
      "/Users/alexellard/opt/anaconda3/lib/python3.7/site-packages/xgboost/data.py:96: UserWarning: Use subset (sliced data) of np.ndarray is not recommended because it will generate extra copies and increase memory consumption\n",
      "  \"because it will generate extra copies and increase \" +\n"
     ]
    },
    {
     "name": "stdout",
     "output_type": "stream",
     "text": [
      "Run 8 Scaled Mean Absolute Error: 0.003219549\n",
      "Run 8 Scaled RMSE: 0.004\n",
      "Run 8 Scaled R^2: 1.000\n",
      "Mean Absolute Error: 1.2169898\n",
      "RMSE: 1.587\n",
      "R^2: 1.000\n",
      "Node shape:  (87600, 34)\n"
     ]
    },
    {
     "name": "stderr",
     "output_type": "stream",
     "text": [
      "/Users/alexellard/opt/anaconda3/lib/python3.7/site-packages/xgboost/data.py:96: UserWarning: Use subset (sliced data) of np.ndarray is not recommended because it will generate extra copies and increase memory consumption\n",
      "  \"because it will generate extra copies and increase \" +\n"
     ]
    },
    {
     "name": "stdout",
     "output_type": "stream",
     "text": [
      "Run 8 Scaled Mean Absolute Error: 0.009442478\n",
      "Run 8 Scaled RMSE: 0.012\n",
      "Run 8 Scaled R^2: 0.996\n",
      "Mean Absolute Error: 4.6910233\n",
      "RMSE: 6.147\n",
      "R^2: 0.996\n",
      "Node shape:  (87600, 34)\n"
     ]
    },
    {
     "name": "stderr",
     "output_type": "stream",
     "text": [
      "/Users/alexellard/opt/anaconda3/lib/python3.7/site-packages/xgboost/data.py:96: UserWarning: Use subset (sliced data) of np.ndarray is not recommended because it will generate extra copies and increase memory consumption\n",
      "  \"because it will generate extra copies and increase \" +\n"
     ]
    },
    {
     "name": "stdout",
     "output_type": "stream",
     "text": [
      "Run 8 Scaled Mean Absolute Error: 0.02025086\n",
      "Run 8 Scaled RMSE: 0.027\n",
      "Run 8 Scaled R^2: 0.976\n",
      "Mean Absolute Error: 172.78036\n",
      "RMSE: 228.924\n",
      "R^2: 0.976\n",
      "Node shape:  (87600, 25)\n"
     ]
    },
    {
     "name": "stderr",
     "output_type": "stream",
     "text": [
      "/Users/alexellard/opt/anaconda3/lib/python3.7/site-packages/xgboost/data.py:96: UserWarning: Use subset (sliced data) of np.ndarray is not recommended because it will generate extra copies and increase memory consumption\n",
      "  \"because it will generate extra copies and increase \" +\n"
     ]
    },
    {
     "name": "stdout",
     "output_type": "stream",
     "text": [
      "Run 9 Scaled Mean Absolute Error: 0.019286852\n",
      "Run 9 Scaled RMSE: 0.025\n",
      "Run 9 Scaled R^2: 0.977\n",
      "Mean Absolute Error: 9.581709\n",
      "RMSE: 12.424\n",
      "R^2: 0.977\n",
      "Node shape:  (87600, 25)\n"
     ]
    },
    {
     "name": "stderr",
     "output_type": "stream",
     "text": [
      "/Users/alexellard/opt/anaconda3/lib/python3.7/site-packages/xgboost/data.py:96: UserWarning: Use subset (sliced data) of np.ndarray is not recommended because it will generate extra copies and increase memory consumption\n",
      "  \"because it will generate extra copies and increase \" +\n"
     ]
    },
    {
     "name": "stdout",
     "output_type": "stream",
     "text": [
      "Run 9 Scaled Mean Absolute Error: 0.02267559\n",
      "Run 9 Scaled RMSE: 0.030\n",
      "Run 9 Scaled R^2: 0.972\n",
      "Mean Absolute Error: 1.7142745\n",
      "RMSE: 2.234\n",
      "R^2: 0.972\n",
      "Node shape:  (87600, 24)\n"
     ]
    },
    {
     "name": "stderr",
     "output_type": "stream",
     "text": [
      "/Users/alexellard/opt/anaconda3/lib/python3.7/site-packages/xgboost/data.py:96: UserWarning: Use subset (sliced data) of np.ndarray is not recommended because it will generate extra copies and increase memory consumption\n",
      "  \"because it will generate extra copies and increase \" +\n"
     ]
    },
    {
     "name": "stdout",
     "output_type": "stream",
     "text": [
      "Run 9 Scaled Mean Absolute Error: 0.012855838\n",
      "Run 9 Scaled RMSE: 0.017\n",
      "Run 9 Scaled R^2: 0.990\n",
      "Mean Absolute Error: 6.710748\n",
      "RMSE: 8.622\n",
      "R^2: 0.990\n",
      "Node shape:  (87600, 28)\n"
     ]
    },
    {
     "name": "stderr",
     "output_type": "stream",
     "text": [
      "/Users/alexellard/opt/anaconda3/lib/python3.7/site-packages/xgboost/data.py:96: UserWarning: Use subset (sliced data) of np.ndarray is not recommended because it will generate extra copies and increase memory consumption\n",
      "  \"because it will generate extra copies and increase \" +\n"
     ]
    },
    {
     "name": "stdout",
     "output_type": "stream",
     "text": [
      "Run 9 Scaled Mean Absolute Error: 0.0012693314\n",
      "Run 9 Scaled RMSE: 0.002\n",
      "Run 9 Scaled R^2: 1.000\n",
      "Mean Absolute Error: 0.09596147\n",
      "RMSE: 0.133\n",
      "R^2: 1.000\n",
      "Node shape:  (87600, 26)\n"
     ]
    },
    {
     "name": "stderr",
     "output_type": "stream",
     "text": [
      "/Users/alexellard/opt/anaconda3/lib/python3.7/site-packages/xgboost/data.py:96: UserWarning: Use subset (sliced data) of np.ndarray is not recommended because it will generate extra copies and increase memory consumption\n",
      "  \"because it will generate extra copies and increase \" +\n"
     ]
    },
    {
     "name": "stdout",
     "output_type": "stream",
     "text": [
      "Run 9 Scaled Mean Absolute Error: 0.0012100389\n",
      "Run 9 Scaled RMSE: 0.002\n",
      "Run 9 Scaled R^2: 1.000\n",
      "Mean Absolute Error: 0.5619419\n",
      "RMSE: 0.787\n",
      "R^2: 1.000\n",
      "Node shape:  (87600, 25)\n"
     ]
    },
    {
     "name": "stderr",
     "output_type": "stream",
     "text": [
      "/Users/alexellard/opt/anaconda3/lib/python3.7/site-packages/xgboost/data.py:96: UserWarning: Use subset (sliced data) of np.ndarray is not recommended because it will generate extra copies and increase memory consumption\n",
      "  \"because it will generate extra copies and increase \" +\n"
     ]
    },
    {
     "name": "stdout",
     "output_type": "stream",
     "text": [
      "Run 9 Scaled Mean Absolute Error: 0.0007786425\n",
      "Run 9 Scaled RMSE: 0.001\n",
      "Run 9 Scaled R^2: 1.000\n",
      "Mean Absolute Error: 6.643378\n",
      "RMSE: 8.972\n",
      "R^2: 1.000\n",
      "Node shape:  (87600, 27)\n"
     ]
    },
    {
     "name": "stderr",
     "output_type": "stream",
     "text": [
      "/Users/alexellard/opt/anaconda3/lib/python3.7/site-packages/xgboost/data.py:96: UserWarning: Use subset (sliced data) of np.ndarray is not recommended because it will generate extra copies and increase memory consumption\n",
      "  \"because it will generate extra copies and increase \" +\n"
     ]
    },
    {
     "name": "stdout",
     "output_type": "stream",
     "text": [
      "Run 9 Scaled Mean Absolute Error: 0.0033201703\n",
      "Run 9 Scaled RMSE: 0.004\n",
      "Run 9 Scaled R^2: 1.000\n",
      "Mean Absolute Error: 1.2550247\n",
      "RMSE: 1.635\n",
      "R^2: 1.000\n",
      "Node shape:  (87600, 26)\n"
     ]
    },
    {
     "name": "stderr",
     "output_type": "stream",
     "text": [
      "/Users/alexellard/opt/anaconda3/lib/python3.7/site-packages/xgboost/data.py:96: UserWarning: Use subset (sliced data) of np.ndarray is not recommended because it will generate extra copies and increase memory consumption\n",
      "  \"because it will generate extra copies and increase \" +\n"
     ]
    },
    {
     "name": "stdout",
     "output_type": "stream",
     "text": [
      "Run 9 Scaled Mean Absolute Error: 0.010023162\n",
      "Run 9 Scaled RMSE: 0.013\n",
      "Run 9 Scaled R^2: 0.995\n",
      "Mean Absolute Error: 4.979507\n",
      "RMSE: 6.506\n",
      "R^2: 0.995\n",
      "Node shape:  (87600, 26)\n"
     ]
    },
    {
     "name": "stderr",
     "output_type": "stream",
     "text": [
      "/Users/alexellard/opt/anaconda3/lib/python3.7/site-packages/xgboost/data.py:96: UserWarning: Use subset (sliced data) of np.ndarray is not recommended because it will generate extra copies and increase memory consumption\n",
      "  \"because it will generate extra copies and increase \" +\n"
     ]
    },
    {
     "name": "stdout",
     "output_type": "stream",
     "text": [
      "Run 9 Scaled Mean Absolute Error: 0.021685617\n",
      "Run 9 Scaled RMSE: 0.028\n",
      "Run 9 Scaled R^2: 0.973\n",
      "Mean Absolute Error: 185.0217\n",
      "RMSE: 243.153\n",
      "R^2: 0.973\n",
      "Node shape:  (87600, 18)\n"
     ]
    },
    {
     "name": "stderr",
     "output_type": "stream",
     "text": [
      "/Users/alexellard/opt/anaconda3/lib/python3.7/site-packages/xgboost/data.py:96: UserWarning: Use subset (sliced data) of np.ndarray is not recommended because it will generate extra copies and increase memory consumption\n",
      "  \"because it will generate extra copies and increase \" +\n"
     ]
    },
    {
     "name": "stdout",
     "output_type": "stream",
     "text": [
      "Run 10 Scaled Mean Absolute Error: 0.021687843\n",
      "Run 10 Scaled RMSE: 0.028\n",
      "Run 10 Scaled R^2: 0.970\n",
      "Mean Absolute Error: 10.774521\n",
      "RMSE: 14.089\n",
      "R^2: 0.970\n",
      "Node shape:  (87600, 17)\n"
     ]
    },
    {
     "name": "stderr",
     "output_type": "stream",
     "text": [
      "/Users/alexellard/opt/anaconda3/lib/python3.7/site-packages/xgboost/data.py:96: UserWarning: Use subset (sliced data) of np.ndarray is not recommended because it will generate extra copies and increase memory consumption\n",
      "  \"because it will generate extra copies and increase \" +\n"
     ]
    },
    {
     "name": "stdout",
     "output_type": "stream",
     "text": [
      "Run 10 Scaled Mean Absolute Error: 0.023164092\n",
      "Run 10 Scaled RMSE: 0.030\n",
      "Run 10 Scaled R^2: 0.971\n",
      "Mean Absolute Error: 1.751205\n",
      "RMSE: 2.283\n",
      "R^2: 0.971\n",
      "Node shape:  (87600, 16)\n"
     ]
    },
    {
     "name": "stderr",
     "output_type": "stream",
     "text": [
      "/Users/alexellard/opt/anaconda3/lib/python3.7/site-packages/xgboost/data.py:96: UserWarning: Use subset (sliced data) of np.ndarray is not recommended because it will generate extra copies and increase memory consumption\n",
      "  \"because it will generate extra copies and increase \" +\n"
     ]
    },
    {
     "name": "stdout",
     "output_type": "stream",
     "text": [
      "Run 10 Scaled Mean Absolute Error: 0.02146989\n",
      "Run 10 Scaled RMSE: 0.028\n",
      "Run 10 Scaled R^2: 0.970\n",
      "Mean Absolute Error: 11.207282\n",
      "RMSE: 14.670\n",
      "R^2: 0.970\n",
      "Node shape:  (87600, 20)\n"
     ]
    },
    {
     "name": "stderr",
     "output_type": "stream",
     "text": [
      "/Users/alexellard/opt/anaconda3/lib/python3.7/site-packages/xgboost/data.py:96: UserWarning: Use subset (sliced data) of np.ndarray is not recommended because it will generate extra copies and increase memory consumption\n",
      "  \"because it will generate extra copies and increase \" +\n"
     ]
    },
    {
     "name": "stdout",
     "output_type": "stream",
     "text": [
      "Run 10 Scaled Mean Absolute Error: 0.0024630225\n",
      "Run 10 Scaled RMSE: 0.004\n",
      "Run 10 Scaled R^2: 0.999\n",
      "Mean Absolute Error: 0.1862045\n",
      "RMSE: 0.328\n",
      "R^2: 0.999\n",
      "Node shape:  (87600, 18)\n"
     ]
    },
    {
     "name": "stderr",
     "output_type": "stream",
     "text": [
      "/Users/alexellard/opt/anaconda3/lib/python3.7/site-packages/xgboost/data.py:96: UserWarning: Use subset (sliced data) of np.ndarray is not recommended because it will generate extra copies and increase memory consumption\n",
      "  \"because it will generate extra copies and increase \" +\n"
     ]
    },
    {
     "name": "stdout",
     "output_type": "stream",
     "text": [
      "Run 10 Scaled Mean Absolute Error: 0.0016248449\n",
      "Run 10 Scaled RMSE: 0.002\n",
      "Run 10 Scaled R^2: 1.000\n",
      "Mean Absolute Error: 0.754578\n",
      "RMSE: 1.052\n",
      "R^2: 1.000\n",
      "Node shape:  (87600, 17)\n"
     ]
    },
    {
     "name": "stderr",
     "output_type": "stream",
     "text": [
      "/Users/alexellard/opt/anaconda3/lib/python3.7/site-packages/xgboost/data.py:96: UserWarning: Use subset (sliced data) of np.ndarray is not recommended because it will generate extra copies and increase memory consumption\n",
      "  \"because it will generate extra copies and increase \" +\n"
     ]
    },
    {
     "name": "stdout",
     "output_type": "stream",
     "text": [
      "Run 10 Scaled Mean Absolute Error: 0.0009059074\n",
      "Run 10 Scaled RMSE: 0.001\n",
      "Run 10 Scaled R^2: 1.000\n",
      "Mean Absolute Error: 7.7292023\n",
      "RMSE: 10.541\n",
      "R^2: 1.000\n",
      "Node shape:  (87600, 19)\n"
     ]
    },
    {
     "name": "stderr",
     "output_type": "stream",
     "text": [
      "/Users/alexellard/opt/anaconda3/lib/python3.7/site-packages/xgboost/data.py:96: UserWarning: Use subset (sliced data) of np.ndarray is not recommended because it will generate extra copies and increase memory consumption\n",
      "  \"because it will generate extra copies and increase \" +\n"
     ]
    },
    {
     "name": "stdout",
     "output_type": "stream",
     "text": [
      "Run 10 Scaled Mean Absolute Error: 0.0038730325\n",
      "Run 10 Scaled RMSE: 0.005\n",
      "Run 10 Scaled R^2: 0.999\n",
      "Mean Absolute Error: 1.4640063\n",
      "RMSE: 1.914\n",
      "R^2: 0.999\n",
      "Node shape:  (87600, 18)\n"
     ]
    },
    {
     "name": "stderr",
     "output_type": "stream",
     "text": [
      "/Users/alexellard/opt/anaconda3/lib/python3.7/site-packages/xgboost/data.py:96: UserWarning: Use subset (sliced data) of np.ndarray is not recommended because it will generate extra copies and increase memory consumption\n",
      "  \"because it will generate extra copies and increase \" +\n"
     ]
    },
    {
     "name": "stdout",
     "output_type": "stream",
     "text": [
      "Run 10 Scaled Mean Absolute Error: 0.010727607\n",
      "Run 10 Scaled RMSE: 0.014\n",
      "Run 10 Scaled R^2: 0.994\n",
      "Mean Absolute Error: 5.3294754\n",
      "RMSE: 6.976\n",
      "R^2: 0.994\n",
      "Node shape:  (87600, 18)\n"
     ]
    },
    {
     "name": "stderr",
     "output_type": "stream",
     "text": [
      "/Users/alexellard/opt/anaconda3/lib/python3.7/site-packages/xgboost/data.py:96: UserWarning: Use subset (sliced data) of np.ndarray is not recommended because it will generate extra copies and increase memory consumption\n",
      "  \"because it will generate extra copies and increase \" +\n"
     ]
    },
    {
     "name": "stdout",
     "output_type": "stream",
     "text": [
      "Run 10 Scaled Mean Absolute Error: 0.022471366\n",
      "Run 10 Scaled RMSE: 0.029\n",
      "Run 10 Scaled R^2: 0.971\n",
      "Mean Absolute Error: 5.824578\n",
      "RMSE: 7.625\n",
      "R^2: 0.971\n"
     ]
    }
   ],
   "source": [
    "MAE_scaled = []\n",
    "RMSE_scaled = []\n",
    "R2_scaled = []\n",
    "MAE = []\n",
    "RMSE = []\n",
    "R2 = []\n",
    "sensors_covered = []\n",
    "\n",
    "for run in range(1,11):\n",
    "    for parameter in parameters:\n",
    "        for node in parameter:\n",
    "            #select random columns to drop\n",
    "            columns_to_drop = random.sample(list(node.columns), 8)\n",
    "            # Drop the selected columns from the dataframe\n",
    "            if node.columns[-1] in columns_to_drop:\n",
    "                columns_to_drop.remove(node.columns[-1])\n",
    "            node.drop(columns_to_drop, axis=1, inplace=True)\n",
    "            print('Node shape: ', node.shape)\n",
    "\n",
    "            # split into train and test sets\n",
    "            values = node.values\n",
    "            scaled = scaler.fit_transform(values)\n",
    "            train, test = train_test_split(scaled, test_size=0.2, random_state=0)\n",
    "\n",
    "            # split into input and outputs\n",
    "            train_X, train_y = train[:, :-1], train[:, -1]\n",
    "            test_X, test_y = test[:, :-1], test[:, -1]\n",
    "\n",
    "            #define model\n",
    "            model = xgb.XGBRegressor(\n",
    "                objective='reg:squarederror',\n",
    "                n_estimators=100,\n",
    "                max_depth=6,\n",
    "                learning_rate=0.1,\n",
    "                subsample=0.9,\n",
    "                colsample_bytree=0.8,\n",
    "                random_state=42\n",
    "            )\n",
    "\n",
    "            # fit the model on the training data\n",
    "            model.fit(train_X, train_y)\n",
    "\n",
    "            # make predictions on the test data\n",
    "            y_pred = model.predict(test_X)\n",
    "\n",
    "            # calculate the mean squared error\n",
    "            mae = mean_absolute_error(test_y, y_pred)\n",
    "            MAE_scaled.append(mae)\n",
    "            print(f'Run {run} Scaled Mean Absolute Error:', mae)\n",
    "            rmse = sqrt(mean_squared_error(test_y, y_pred))\n",
    "            RMSE_scaled.append(rmse)\n",
    "            print(f'Run {run} Scaled RMSE: %.3f' % rmse)\n",
    "            r2 = r2_score(test_y, y_pred)\n",
    "            print(f'Run {run} Scaled R^2: %.3f' % r2)\n",
    "            R2_scaled.append(r2)\n",
    "\n",
    "            percentage_list = round(node.shape[1] / 96 * 100)\n",
    "            sensors_covered.append(percentage_list)\n",
    "            \n",
    "            test_y = test_y.reshape((len(test_y), 1))\n",
    "            inv_test_y = concatenate((test_y, test_X[:, -node.shape[1]:]), axis=1)\n",
    "            test_y_inverse = scaler.inverse_transform(inv_test_y)\n",
    "            test_y_inverse = test_y_inverse[:,0]\n",
    "\n",
    "            y_pred = y_pred.reshape((len(y_pred), 1))\n",
    "            inv_y_pred = concatenate((y_pred, test_X[:, -node.shape[1]:]), axis=1)\n",
    "            y_pred_inverse = scaler.inverse_transform(inv_y_pred)\n",
    "            y_pred_inverse = y_pred_inverse[:,0]\n",
    "\n",
    "            # evaluate scaled errors\n",
    "            mae_inverse = mean_absolute_error(test_y_inverse, y_pred_inverse)\n",
    "            MAE.append(mae_inverse)\n",
    "            print('Mean Absolute Error:', mae_inverse)\n",
    "            rmse_inverse = sqrt(mean_squared_error(test_y_inverse, y_pred_inverse))\n",
    "            RMSE.append(rmse_inverse)\n",
    "            print('RMSE: %.3f' % rmse_inverse)\n",
    "            r2_inverse = r2_score(test_y_inverse, y_pred_inverse)\n",
    "            R2.append(r2_inverse)\n",
    "            print('R^2: %.3f' % r2_inverse)\n",
    "\n",
    "\n",
    "    #         # make a prediction\n",
    "    #         yhat = model.predict(test_X)\n",
    "    #         test_X = test_X.reshape((test_X.shape[0], test_X.shape[1]))\n",
    "    #         # invert scaling for forecast\n",
    "    #         print(yhat.shape)\n",
    "    #         yhat_reshaped = yhat.reshape(-1, 1)\n",
    "    #         scaler.min_ = scaler.min_.reshape(-1, 1)\n",
    "    #         inv_yhat = concatenate((yhat_reshaped, test_X[:, 1:]), axis=1)\n",
    "    #         print(yhat_reshaped.shape)\n",
    "    #         print(test_X[:, 1:].shape)\n",
    "    #         print(scaler.min_.shape)\n",
    "    #         inv_yhat = scaler.inverse_transform(inv_yhat)\n",
    "    #         inv_yhat = inv_yhat[:,0]\n",
    "    #         # invert scaling for actual\n",
    "    #         test_y = test_y.reshape((len(test_y), 1))\n",
    "    #         inv_y = concatenate((test_y, test_X[:, 1:]), axis=1)\n",
    "    #         inv_y = scaler.inverse_transform(inv_y)\n",
    "    #         inv_y = inv_y[:,0]\n",
    "    #         # calculate RMSE\n",
    "    #          # calculate the mean squared error\n",
    "    #         mae = mean_absolute_error(inv_y, inv_yhat)\n",
    "    #         print(f'Mean Absolute Error Run {run}:', mae)\n",
    "    #         rmse = sqrt(mean_squared_error(inv_y, inv_yhat))\n",
    "    #         print(f'Test RMSE: %.3f Run {run}' % rmse)"
   ]
  },
  {
   "cell_type": "code",
   "execution_count": 6,
   "metadata": {},
   "outputs": [],
   "source": [
    "demand_errors_mae_node1 = MAE[::9]\n",
    "demand_errors_mae_node16 = MAE[1::9]\n",
    "demand_errors_mae_node29 = MAE[2::9]\n",
    "pressure_errors_mae_node1 = MAE[3::9]\n",
    "pressure_errors_mae_node16 = MAE[4::9]\n",
    "pressure_errors_mae_node29 = MAE[5::9]\n",
    "flow_errors_mae_node1 = MAE[6::9]\n",
    "flow_errors_mae_node16 = MAE[7::9]\n",
    "flow_errors_mae_node29 = MAE[8::9]\n",
    "\n",
    "demand_errors_rmse_node1 = RMSE[::9]\n",
    "demand_errors_rmse_node16 = RMSE[1::9]\n",
    "demand_errors_rmse_node29 = RMSE[2::9]\n",
    "pressure_errors_rmse_node1 = RMSE[3::9]\n",
    "pressure_errors_rmse_node16 = RMSE[4::9]\n",
    "pressure_errors_rmse_node29 = RMSE[5::9]\n",
    "flow_errors_rmse_node1 = RMSE[6::9]\n",
    "flow_errors_rmse_node16 = RMSE[7::9]\n",
    "flow_errors_rmse_node29 = RMSE[8::9]\n",
    "\n",
    "demand_errors_r2_node1 = R2[::9]\n",
    "demand_errors_r2_node16 = R2[1::9]\n",
    "demand_errors_r2_node29 = R2[2::9]\n",
    "pressure_errors_r2_node1 = R2[3::9]\n",
    "pressure_errors_r2_node16 = R2[4::9]\n",
    "pressure_errors_r2_node29 = R2[5::9]\n",
    "flow_errors_r2_node1 = R2[6::9]\n",
    "flow_errors_r2_node16 = R2[7::9]\n",
    "flow_errors_r2_node29 = R2[8::9]\n",
    "\n",
    "demand_sensors_covered_node1 = sensors_covered[::9]\n",
    "demand_sensors_covered_node16 = sensors_covered[1::9]\n",
    "demand_sensors_covered_node29 = sensors_covered[2::9]\n",
    "pressure_sensors_covered_node1 = sensors_covered[3::9]\n",
    "pressure_sensors_covered_node16 = sensors_covered[4::9]\n",
    "pressure_sensors_covered_node29 = sensors_covered[5::9]\n",
    "flow_sensors_covered_node1 = sensors_covered[6::9]\n",
    "flow_sensors_covered_node16 = sensors_covered[7::9]\n",
    "flow_sensors_covered_node29 = sensors_covered[8::9]"
   ]
  },
  {
   "cell_type": "code",
   "execution_count": 33,
   "metadata": {},
   "outputs": [
    {
     "data": {
      "image/png": "[encoded data removed]",
      "text/plain": [
       "<Figure size 432x288 with 1 Axes>"
      ]
     },
     "metadata": {
      "needs_background": "light"
     },
     "output_type": "display_data"
    },
    {
     "data": {
      "image/png": "[encoded data removed]",
      "text/plain": [
       "<Figure size 432x288 with 1 Axes>"
      ]
     },
     "metadata": {
      "needs_background": "light"
     },
     "output_type": "display_data"
    },
    {
     "data": {
      "image/png": "[encoded data removed]",
      "text/plain": [
       "<Figure size 432x288 with 1 Axes>"
      ]
     },
     "metadata": {
      "needs_background": "light"
     },
     "output_type": "display_data"
    }
   ],
   "source": [
    "plt.plot(demand_sensors_covered_node1, demand_errors_mae_node1)\n",
    "plt.ylabel(\"Mean Absolute Error\")\n",
    "plt.xlabel(\"Sensor Cover %\")\n",
    "plt.title(\"MAE Error vs. Coverage Demands Node 1\")\n",
    "plt.xlim([100, 0])\n",
    "plt.show()\n",
    "\n",
    "plt.plot(demand_sensors_covered_node1, demand_errors_rmse_node1)\n",
    "plt.ylabel(\"RMSE\")\n",
    "plt.xlabel(\"Sensor Cover %\")\n",
    "plt.title(\"RMSE vs. Coverage Demands Node 1\")\n",
    "plt.xlim([100, 0])\n",
    "plt.show()\n",
    "\n",
    "plt.plot(demand_sensors_covered_node1, demand_errors_r2_node1)\n",
    "plt.ylabel(\"R2\")\n",
    "plt.xlabel(\"Sensor Cover %\")\n",
    "plt.title(\"R2 Error vs. Coverage Demands Node 1\")\n",
    "plt.xlim([100, 0])\n",
    "plt.show()"
   ]
  },
  {
   "cell_type": "code",
   "execution_count": 34,
   "metadata": {},
   "outputs": [
    {
     "data": {
      "image/png": "[encoded data removed]",
      "text/plain": [
       "<Figure size 432x288 with 1 Axes>"
      ]
     },
     "metadata": {
      "needs_background": "light"
     },
     "output_type": "display_data"
    },
    {
     "data": {
      "image/png": "[encoded data removed]",
      "text/plain": [
       "<Figure size 432x288 with 1 Axes>"
      ]
     },
     "metadata": {
      "needs_background": "light"
     },
     "output_type": "display_data"
    },
    {
     "data": {
      "image/png": "[encoded data removed]",
      "text/plain": [
       "<Figure size 432x288 with 1 Axes>"
      ]
     },
     "metadata": {
      "needs_background": "light"
     },
     "output_type": "display_data"
    }
   ],
   "source": [
    "plt.plot(demand_sensors_covered_node16, demand_errors_mae_node16)\n",
    "plt.ylabel(\"Mean Absolute Error\")\n",
    "plt.xlabel(\"Sensor Cover %\")\n",
    "plt.title(\"MAE vs. Coverage Demands Node 16\")\n",
    "plt.xlim([100, 0])\n",
    "plt.savefig('/Users/alexellard/Downloads/DemandsMAEnode16.png')\n",
    "plt.show()\n",
    "\n",
    "plt.plot(demand_sensors_covered_node16, demand_errors_rmse_node16)\n",
    "plt.ylabel(\"RMSE\")\n",
    "plt.xlabel(\"Sensor Cover %\")\n",
    "plt.title(\"RMSE vs. Coverage Demands Node 16\")\n",
    "plt.xlim([100, 0])\n",
    "plt.show()\n",
    "\n",
    "plt.plot(demand_sensors_covered_node16, demand_errors_r2_node16)\n",
    "plt.ylabel(\"R2\")\n",
    "plt.xlabel(\"Sensor Cover %\")\n",
    "plt.title(\"R2 vs. Coverage Demands Node 16\")\n",
    "plt.xlim([100, 0])\n",
    "plt.savefig('/Users/alexellard/Downloads/DemandsR2node16.png')\n",
    "plt.show()"
   ]
  },
  {
   "cell_type": "code",
   "execution_count": 35,
   "metadata": {},
   "outputs": [
    {
     "data": {
      "image/png": "[encoded data removed]",
      "text/plain": [
       "<Figure size 432x288 with 1 Axes>"
      ]
     },
     "metadata": {
      "needs_background": "light"
     },
     "output_type": "display_data"
    },
    {
     "data": {
      "image/png": "[encoded data removed]",
      "text/plain": [
       "<Figure size 432x288 with 1 Axes>"
      ]
     },
     "metadata": {
      "needs_background": "light"
     },
     "output_type": "display_data"
    },
    {
     "data": {
      "image/png": "[encoded data removed]",
      "text/plain": [
       "<Figure size 432x288 with 1 Axes>"
      ]
     },
     "metadata": {
      "needs_background": "light"
     },
     "output_type": "display_data"
    }
   ],
   "source": [
    "plt.plot(demand_sensors_covered_node29, demand_errors_mae_node29)\n",
    "plt.ylabel(\"Mean Absolute Error\")\n",
    "plt.xlabel(\"Sensor Cover %\")\n",
    "plt.title(\"MAE vs. Coverage Demands Node 29\")\n",
    "plt.xlim([100, 0])\n",
    "plt.show()\n",
    "\n",
    "plt.plot(demand_sensors_covered_node29, demand_errors_rmse_node29)\n",
    "plt.ylabel(\"RMSE\")\n",
    "plt.xlabel(\"Sensor Cover %\")\n",
    "plt.title(\"RMSE vs. Coverage Demands Node 29\")\n",
    "plt.xlim([100, 0])\n",
    "plt.show()\n",
    "\n",
    "plt.plot(demand_sensors_covered_node29, demand_errors_r2_node29)\n",
    "plt.ylabel(\"R2\")\n",
    "plt.xlabel(\"Sensor Cover %\")\n",
    "plt.title(\"R2 vs. Coverage Demands Node 29\")\n",
    "plt.xlim([100, 0])\n",
    "plt.show()"
   ]
  },
  {
   "cell_type": "code",
   "execution_count": 36,
   "metadata": {},
   "outputs": [
    {
     "data": {
      "image/png": "[encoded data removed]",
      "text/plain": [
       "<Figure size 432x288 with 1 Axes>"
      ]
     },
     "metadata": {
      "needs_background": "light"
     },
     "output_type": "display_data"
    },
    {
     "data": {
      "image/png": "[encoded data removed]",
      "text/plain": [
       "<Figure size 432x288 with 1 Axes>"
      ]
     },
     "metadata": {
      "needs_background": "light"
     },
     "output_type": "display_data"
    },
    {
     "data": {
      "image/png": "[encoded data removed]",
      "text/plain": [
       "<Figure size 432x288 with 1 Axes>"
      ]
     },
     "metadata": {
      "needs_background": "light"
     },
     "output_type": "display_data"
    }
   ],
   "source": [
    "plt.plot(pressure_sensors_covered_node1, pressure_errors_mae_node1)\n",
    "plt.ylabel(\"Mean Absolute Error\")\n",
    "plt.xlabel(\"Sensor Cover %\")\n",
    "plt.title(\"MAE vs. Coverage Pressure Node 1\")\n",
    "plt.xlim([100, 0])\n",
    "plt.show()\n",
    "\n",
    "plt.plot(pressure_sensors_covered_node1, pressure_errors_rmse_node1)\n",
    "plt.ylabel(\"RMSE\")\n",
    "plt.xlabel(\"Sensor Cover %\")\n",
    "plt.title(\"RMSE vs. Coverage Pressure Node 1\")\n",
    "plt.xlim([100, 0])\n",
    "plt.show()\n",
    "\n",
    "plt.plot(pressure_sensors_covered_node1, pressure_errors_r2_node1)\n",
    "plt.ylabel(\"R2\")\n",
    "plt.xlabel(\"Sensor Cover %\")\n",
    "plt.title(\"R2 vs. Coverage Pressure Node 1\")\n",
    "plt.xlim([100, 0])\n",
    "plt.show()"
   ]
  },
  {
   "cell_type": "code",
   "execution_count": 37,
   "metadata": {},
   "outputs": [
    {
     "data": {
      "image/png": "[encoded data removed]",
      "text/plain": [
       "<Figure size 432x288 with 1 Axes>"
      ]
     },
     "metadata": {
      "needs_background": "light"
     },
     "output_type": "display_data"
    },
    {
     "data": {
      "image/png": "[encoded data removed]",
      "text/plain": [
       "<Figure size 432x288 with 1 Axes>"
      ]
     },
     "metadata": {
      "needs_background": "light"
     },
     "output_type": "display_data"
    },
    {
     "data": {
      "image/png": "[encoded data removed]",
      "text/plain": [
       "<Figure size 432x288 with 1 Axes>"
      ]
     },
     "metadata": {
      "needs_background": "light"
     },
     "output_type": "display_data"
    }
   ],
   "source": [
    "plt.plot(pressure_sensors_covered_node16, pressure_errors_mae_node16)\n",
    "plt.ylabel(\"Mean Absolute Error\")\n",
    "plt.xlabel(\"Sensor Cover %\")\n",
    "plt.title(\"MAE vs. Coverage Pressure Node 16\")\n",
    "plt.xlim([100, 0])\n",
    "plt.show()\n",
    "\n",
    "plt.plot(pressure_sensors_covered_node16, pressure_errors_rmse_node16)\n",
    "plt.ylabel(\"RMSE\")\n",
    "plt.xlabel(\"Sensor Cover %\")\n",
    "plt.title(\"RMSE vs. Coverage Pressure Node 16\")\n",
    "plt.xlim([100, 0])\n",
    "plt.show()\n",
    "\n",
    "plt.plot(pressure_sensors_covered_node16, pressure_errors_r2_node16)\n",
    "plt.ylabel(\"R2\")\n",
    "plt.xlabel(\"Sensor Cover %\")\n",
    "plt.title(\"R2 vs. Coverage Pressure Node 16\")\n",
    "plt.xlim([100, 0])\n",
    "plt.show()"
   ]
  },
  {
   "cell_type": "code",
   "execution_count": 38,
   "metadata": {},
   "outputs": [
    {
     "data": {
      "image/png": "[encoded data removed]",
      "text/plain": [
       "<Figure size 432x288 with 1 Axes>"
      ]
     },
     "metadata": {
      "needs_background": "light"
     },
     "output_type": "display_data"
    },
    {
     "data": {
      "image/png": "[encoded data removed]",
      "text/plain": [
       "<Figure size 432x288 with 1 Axes>"
      ]
     },
     "metadata": {
      "needs_background": "light"
     },
     "output_type": "display_data"
    },
    {
     "data": {
      "image/png": "[encoded data removed]",
      "text/plain": [
       "<Figure size 432x288 with 1 Axes>"
      ]
     },
     "metadata": {
      "needs_background": "light"
     },
     "output_type": "display_data"
    }
   ],
   "source": [
    "plt.plot(pressure_sensors_covered_node29, pressure_errors_mae_node29)\n",
    "plt.ylabel(\"Mean Absolute Error\")\n",
    "plt.xlabel(\"Sensor Cover %\")\n",
    "plt.title(\"MAE vs. Coverage Pressure Node 29\")\n",
    "plt.xlim([100, 0])\n",
    "plt.savefig('/Users/alexellard/Downloads/PressureMAEnode29.png')\n",
    "plt.show()\n",
    "\n",
    "plt.plot(pressure_sensors_covered_node29, pressure_errors_rmse_node29)\n",
    "plt.ylabel(\"RMSE\")\n",
    "plt.xlabel(\"Sensor Cover %\")\n",
    "plt.title(\"RMSE vs. Coverage Pressure Node 29\")\n",
    "plt.xlim([100, 0])\n",
    "plt.show()\n",
    "\n",
    "plt.plot(pressure_sensors_covered_node29, pressure_errors_r2_node29)\n",
    "plt.ylabel(\"R2\")\n",
    "plt.xlabel(\"Sensor Cover %\")\n",
    "plt.title(\"R2 vs. Coverage Pressure Node 29\")\n",
    "plt.xlim([100, 0])\n",
    "plt.savefig('/Users/alexellard/Downloads/PressureR2node29.png')\n",
    "plt.show()"
   ]
  },
  {
   "cell_type": "code",
   "execution_count": 39,
   "metadata": {},
   "outputs": [
    {
     "data": {
      "image/png": "[encoded data removed]",
      "text/plain": [
       "<Figure size 432x288 with 1 Axes>"
      ]
     },
     "metadata": {
      "needs_background": "light"
     },
     "output_type": "display_data"
    },
    {
     "data": {
      "image/png": "[encoded data removed]",
      "text/plain": [
       "<Figure size 432x288 with 1 Axes>"
      ]
     },
     "metadata": {
      "needs_background": "light"
     },
     "output_type": "display_data"
    },
    {
     "data": {
      "image/png": "[encoded data removed]",
      "text/plain": [
       "<Figure size 432x288 with 1 Axes>"
      ]
     },
     "metadata": {
      "needs_background": "light"
     },
     "output_type": "display_data"
    }
   ],
   "source": [
    "plt.plot(flow_sensors_covered_node1, flow_errors_mae_node1)\n",
    "plt.ylabel(\"Mean Absolute Error\")\n",
    "plt.xlabel(\"Sensor Cover %\")\n",
    "plt.title(\"MAE vs. Coverage Flows Node 1\")\n",
    "plt.xlim([100, 0])\n",
    "plt.savefig('/Users/alexellard/Downloads/flowsMAEnode1.png')\n",
    "plt.show()\n",
    "\n",
    "plt.plot(flow_sensors_covered_node1, flow_errors_rmse_node1)\n",
    "plt.ylabel(\"RMSE\")\n",
    "plt.xlabel(\"Sensor Cover %\")\n",
    "plt.title(\"RMSE vs. Coverage Flows Node 1\")\n",
    "plt.xlim([100, 0])\n",
    "plt.show()\n",
    "\n",
    "plt.plot(flow_sensors_covered_node1, flow_errors_r2_node1)\n",
    "plt.ylabel(\"R2\")\n",
    "plt.xlabel(\"Sensor Cover %\")\n",
    "plt.title(\"R2 vs. Coverage Flows Node 1\")\n",
    "plt.xlim([100, 0])\n",
    "plt.savefig('/Users/alexellard/Downloads/flowsR2node1.png')\n",
    "plt.show()"
   ]
  },
  {
   "cell_type": "code",
   "execution_count": 40,
   "metadata": {},
   "outputs": [
    {
     "data": {
      "image/png": "[encoded data removed]",
      "text/plain": [
       "<Figure size 432x288 with 1 Axes>"
      ]
     },
     "metadata": {
      "needs_background": "light"
     },
     "output_type": "display_data"
    },
    {
     "data": {
      "image/png": "[encoded data removed]",
      "text/plain": [
       "<Figure size 432x288 with 1 Axes>"
      ]
     },
     "metadata": {
      "needs_background": "light"
     },
     "output_type": "display_data"
    },
    {
     "data": {
      "image/png": "[encoded data removed]",
      "text/plain": [
       "<Figure size 432x288 with 1 Axes>"
      ]
     },
     "metadata": {
      "needs_background": "light"
     },
     "output_type": "display_data"
    }
   ],
   "source": [
    "plt.plot(flow_sensors_covered_node16, flow_errors_mae_node16)\n",
    "plt.ylabel(\"Mean Absolute Error\")\n",
    "plt.xlabel(\"Sensor Cover %\")\n",
    "plt.title(\"MAE vs. Coverage Flows Node 16\")\n",
    "plt.xlim([100, 0])\n",
    "plt.show()\n",
    "\n",
    "plt.plot(flow_sensors_covered_node16, flow_errors_rmse_node16)\n",
    "plt.ylabel(\"RMSE\")\n",
    "plt.xlabel(\"Sensor Cover %\")\n",
    "plt.title(\"RMSE vs. Coverage Flows Node 16\")\n",
    "plt.xlim([100, 0])\n",
    "plt.show()\n",
    "\n",
    "plt.plot(flow_sensors_covered_node16, flow_errors_r2_node16)\n",
    "plt.ylabel(\"R2\")\n",
    "plt.xlabel(\"Sensor Cover %\")\n",
    "plt.title(\"R2 vs. Coverage Flows Node 16\")\n",
    "plt.xlim([100, 0])\n",
    "plt.show()"
   ]
  },
  {
   "cell_type": "code",
   "execution_count": 41,
   "metadata": {},
   "outputs": [
    {
     "data": {
      "image/png": "[encoded data removed]",
      "text/plain": [
       "<Figure size 432x288 with 1 Axes>"
      ]
     },
     "metadata": {
      "needs_background": "light"
     },
     "output_type": "display_data"
    },
    {
     "data": {
      "image/png": "[encoded data removed]",
      "text/plain": [
       "<Figure size 432x288 with 1 Axes>"
      ]
     },
     "metadata": {
      "needs_background": "light"
     },
     "output_type": "display_data"
    },
    {
     "data": {
      "image/png": "[encoded data removed]",
      "text/plain": [
       "<Figure size 432x288 with 1 Axes>"
      ]
     },
     "metadata": {
      "needs_background": "light"
     },
     "output_type": "display_data"
    }
   ],
   "source": [
    "plt.plot(flow_sensors_covered_node29, flow_errors_mae_node29)\n",
    "plt.ylabel(\"Mean Absolute Error\")\n",
    "plt.xlabel(\"Sensor Cover %\")\n",
    "plt.title(\"MAE vs. Coverage Flows Node 29\")\n",
    "plt.xlim([100, 0])\n",
    "plt.show()\n",
    "\n",
    "plt.plot(flow_sensors_covered_node29, flow_errors_rmse_node29)\n",
    "plt.ylabel(\"RMSE\")\n",
    "plt.xlabel(\"Sensor Cover %\")\n",
    "plt.title(\"RMSE vs. Coverage Flows Node 29\")\n",
    "plt.xlim([100, 0])\n",
    "plt.show()\n",
    "\n",
    "plt.plot(flow_sensors_covered_node29, flow_errors_r2_node29)\n",
    "plt.ylabel(\"R2\")\n",
    "plt.xlabel(\"Sensor Cover %\")\n",
    "plt.title(\"R2 vs. Coverage Flows Node 29\")\n",
    "plt.xlim([100, 0])\n",
    "plt.show()"
   ]
  }
 ],
 "metadata": {
  "kernelspec": {
   "display_name": "Python 3",
   "language": "python",
   "name": "python3"
  },
  "language_info": {
   "codemirror_mode": {
    "name": "ipython",
    "version": 3
   },
   "file_extension": ".py",
   "mimetype": "text/x-python",
   "name": "python",
   "nbconvert_exporter": "python",
   "pygments_lexer": "ipython3",
   "version": "3.7.4"
  }
 },
 "nbformat": 4,
 "nbformat_minor": 2
}
