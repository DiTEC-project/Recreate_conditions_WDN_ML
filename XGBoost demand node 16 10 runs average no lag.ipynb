{
 "cells": [
  {
   "cell_type": "code",
   "execution_count": 4,
   "metadata": {},
   "outputs": [],
   "source": [
    "import xgboost as xgb\n",
    "import pandas as pd\n",
    "import numpy as np\n",
    "from sklearn.preprocessing import LabelEncoder\n",
    "from sklearn.preprocessing import MinMaxScaler\n",
    "from sklearn.model_selection import train_test_split\n",
    "from sklearn.metrics import mean_squared_error, mean_absolute_error, r2_score\n",
    "from numpy import concatenate\n",
    "from math import sqrt\n",
    "from statistics import mean\n",
    "import random\n",
    "import matplotlib.pyplot as plt"
   ]
  },
  {
   "cell_type": "code",
   "execution_count": 5,
   "metadata": {},
   "outputs": [
    {
     "data": {
      "text/html": [
       "<div>\n",
       "<style scoped>\n",
       "    .dataframe tbody tr th:only-of-type {\n",
       "        vertical-align: middle;\n",
       "    }\n",
       "\n",
       "    .dataframe tbody tr th {\n",
       "        vertical-align: top;\n",
       "    }\n",
       "\n",
       "    .dataframe thead th {\n",
       "        text-align: right;\n",
       "    }\n",
       "</style>\n",
       "<table border=\"1\" class=\"dataframe\">\n",
       "  <thead>\n",
       "    <tr style=\"text-align: right;\">\n",
       "      <th></th>\n",
       "      <th>reservoir_demand</th>\n",
       "      <th>node_1_demand</th>\n",
       "      <th>node_2_demand</th>\n",
       "      <th>node_3_demand</th>\n",
       "      <th>node_4_demand</th>\n",
       "      <th>node_5_demand</th>\n",
       "      <th>node_6_demand</th>\n",
       "      <th>node_7_demand</th>\n",
       "      <th>node_8_demand</th>\n",
       "      <th>node_9_demand</th>\n",
       "      <th>...</th>\n",
       "      <th>link_23_flow</th>\n",
       "      <th>link_24_flow</th>\n",
       "      <th>link_25_flow</th>\n",
       "      <th>link_26_flow</th>\n",
       "      <th>link_27_flow</th>\n",
       "      <th>link_28_flow</th>\n",
       "      <th>link_29_flow</th>\n",
       "      <th>link_30_flow</th>\n",
       "      <th>link_31_flow</th>\n",
       "      <th>link_32_flow</th>\n",
       "    </tr>\n",
       "    <tr>\n",
       "      <th>Timestamp</th>\n",
       "      <th></th>\n",
       "      <th></th>\n",
       "      <th></th>\n",
       "      <th></th>\n",
       "      <th></th>\n",
       "      <th></th>\n",
       "      <th></th>\n",
       "      <th></th>\n",
       "      <th></th>\n",
       "      <th></th>\n",
       "      <th></th>\n",
       "      <th></th>\n",
       "      <th></th>\n",
       "      <th></th>\n",
       "      <th></th>\n",
       "      <th></th>\n",
       "      <th></th>\n",
       "      <th></th>\n",
       "      <th></th>\n",
       "      <th></th>\n",
       "      <th></th>\n",
       "    </tr>\n",
       "  </thead>\n",
       "  <tbody>\n",
       "    <tr>\n",
       "      <th>2017-01-01 00:00:00</th>\n",
       "      <td>-3348.0</td>\n",
       "      <td>154.8</td>\n",
       "      <td>169.2</td>\n",
       "      <td>18.0</td>\n",
       "      <td>118.8</td>\n",
       "      <td>169.2</td>\n",
       "      <td>234.0</td>\n",
       "      <td>86.4</td>\n",
       "      <td>82.8</td>\n",
       "      <td>104.4</td>\n",
       "      <td>...</td>\n",
       "      <td>439.2</td>\n",
       "      <td>-205.2</td>\n",
       "      <td>-75.6</td>\n",
       "      <td>-18.0</td>\n",
       "      <td>118.8</td>\n",
       "      <td>68.4</td>\n",
       "      <td>7.2</td>\n",
       "      <td>-54.0</td>\n",
       "      <td>75.6</td>\n",
       "      <td>212.4</td>\n",
       "    </tr>\n",
       "    <tr>\n",
       "      <th>2017-01-01 00:30:00</th>\n",
       "      <td>-2959.2</td>\n",
       "      <td>136.8</td>\n",
       "      <td>147.6</td>\n",
       "      <td>18.0</td>\n",
       "      <td>108.0</td>\n",
       "      <td>144.0</td>\n",
       "      <td>237.6</td>\n",
       "      <td>79.2</td>\n",
       "      <td>75.6</td>\n",
       "      <td>90.0</td>\n",
       "      <td>...</td>\n",
       "      <td>392.4</td>\n",
       "      <td>-187.2</td>\n",
       "      <td>-72.0</td>\n",
       "      <td>-21.6</td>\n",
       "      <td>108.0</td>\n",
       "      <td>61.2</td>\n",
       "      <td>3.6</td>\n",
       "      <td>-54.0</td>\n",
       "      <td>72.0</td>\n",
       "      <td>183.6</td>\n",
       "    </tr>\n",
       "    <tr>\n",
       "      <th>2017-01-01 01:00:00</th>\n",
       "      <td>-2692.8</td>\n",
       "      <td>129.6</td>\n",
       "      <td>126.0</td>\n",
       "      <td>14.4</td>\n",
       "      <td>104.4</td>\n",
       "      <td>133.2</td>\n",
       "      <td>205.2</td>\n",
       "      <td>72.0</td>\n",
       "      <td>72.0</td>\n",
       "      <td>90.0</td>\n",
       "      <td>...</td>\n",
       "      <td>349.2</td>\n",
       "      <td>-176.4</td>\n",
       "      <td>-64.8</td>\n",
       "      <td>-18.0</td>\n",
       "      <td>93.6</td>\n",
       "      <td>50.4</td>\n",
       "      <td>3.6</td>\n",
       "      <td>-39.6</td>\n",
       "      <td>54.0</td>\n",
       "      <td>151.2</td>\n",
       "    </tr>\n",
       "    <tr>\n",
       "      <th>2017-01-01 01:30:00</th>\n",
       "      <td>-2379.6</td>\n",
       "      <td>104.4</td>\n",
       "      <td>100.8</td>\n",
       "      <td>10.8</td>\n",
       "      <td>86.4</td>\n",
       "      <td>122.4</td>\n",
       "      <td>180.0</td>\n",
       "      <td>68.4</td>\n",
       "      <td>57.6</td>\n",
       "      <td>82.8</td>\n",
       "      <td>...</td>\n",
       "      <td>316.8</td>\n",
       "      <td>-158.4</td>\n",
       "      <td>-54.0</td>\n",
       "      <td>-10.8</td>\n",
       "      <td>79.2</td>\n",
       "      <td>46.8</td>\n",
       "      <td>7.2</td>\n",
       "      <td>-32.4</td>\n",
       "      <td>50.4</td>\n",
       "      <td>140.4</td>\n",
       "    </tr>\n",
       "    <tr>\n",
       "      <th>2017-01-01 02:00:00</th>\n",
       "      <td>-2228.4</td>\n",
       "      <td>104.4</td>\n",
       "      <td>104.4</td>\n",
       "      <td>10.8</td>\n",
       "      <td>79.2</td>\n",
       "      <td>122.4</td>\n",
       "      <td>183.6</td>\n",
       "      <td>68.4</td>\n",
       "      <td>54.0</td>\n",
       "      <td>75.6</td>\n",
       "      <td>...</td>\n",
       "      <td>277.2</td>\n",
       "      <td>-144.0</td>\n",
       "      <td>-57.6</td>\n",
       "      <td>-18.0</td>\n",
       "      <td>72.0</td>\n",
       "      <td>39.6</td>\n",
       "      <td>7.2</td>\n",
       "      <td>-32.4</td>\n",
       "      <td>43.2</td>\n",
       "      <td>118.8</td>\n",
       "    </tr>\n",
       "    <tr>\n",
       "      <th>...</th>\n",
       "      <td>...</td>\n",
       "      <td>...</td>\n",
       "      <td>...</td>\n",
       "      <td>...</td>\n",
       "      <td>...</td>\n",
       "      <td>...</td>\n",
       "      <td>...</td>\n",
       "      <td>...</td>\n",
       "      <td>...</td>\n",
       "      <td>...</td>\n",
       "      <td>...</td>\n",
       "      <td>...</td>\n",
       "      <td>...</td>\n",
       "      <td>...</td>\n",
       "      <td>...</td>\n",
       "      <td>...</td>\n",
       "      <td>...</td>\n",
       "      <td>...</td>\n",
       "      <td>...</td>\n",
       "      <td>...</td>\n",
       "      <td>...</td>\n",
       "    </tr>\n",
       "    <tr>\n",
       "      <th>2017-12-31 21:30:00</th>\n",
       "      <td>-5306.4</td>\n",
       "      <td>205.2</td>\n",
       "      <td>208.8</td>\n",
       "      <td>39.6</td>\n",
       "      <td>183.6</td>\n",
       "      <td>284.4</td>\n",
       "      <td>316.8</td>\n",
       "      <td>176.4</td>\n",
       "      <td>133.2</td>\n",
       "      <td>129.6</td>\n",
       "      <td>...</td>\n",
       "      <td>604.8</td>\n",
       "      <td>-259.2</td>\n",
       "      <td>32.4</td>\n",
       "      <td>115.2</td>\n",
       "      <td>169.2</td>\n",
       "      <td>100.8</td>\n",
       "      <td>10.8</td>\n",
       "      <td>-100.8</td>\n",
       "      <td>122.4</td>\n",
       "      <td>309.6</td>\n",
       "    </tr>\n",
       "    <tr>\n",
       "      <th>2017-12-31 22:00:00</th>\n",
       "      <td>-4910.4</td>\n",
       "      <td>208.8</td>\n",
       "      <td>183.6</td>\n",
       "      <td>39.6</td>\n",
       "      <td>154.8</td>\n",
       "      <td>252.0</td>\n",
       "      <td>295.2</td>\n",
       "      <td>165.6</td>\n",
       "      <td>133.2</td>\n",
       "      <td>133.2</td>\n",
       "      <td>...</td>\n",
       "      <td>565.2</td>\n",
       "      <td>-241.2</td>\n",
       "      <td>21.6</td>\n",
       "      <td>100.8</td>\n",
       "      <td>154.8</td>\n",
       "      <td>86.4</td>\n",
       "      <td>18.0</td>\n",
       "      <td>-75.6</td>\n",
       "      <td>100.8</td>\n",
       "      <td>288.0</td>\n",
       "    </tr>\n",
       "    <tr>\n",
       "      <th>2017-12-31 22:30:00</th>\n",
       "      <td>-4683.6</td>\n",
       "      <td>187.2</td>\n",
       "      <td>183.6</td>\n",
       "      <td>36.0</td>\n",
       "      <td>147.6</td>\n",
       "      <td>230.4</td>\n",
       "      <td>320.4</td>\n",
       "      <td>147.6</td>\n",
       "      <td>118.8</td>\n",
       "      <td>126.0</td>\n",
       "      <td>...</td>\n",
       "      <td>529.2</td>\n",
       "      <td>-226.8</td>\n",
       "      <td>21.6</td>\n",
       "      <td>100.8</td>\n",
       "      <td>147.6</td>\n",
       "      <td>86.4</td>\n",
       "      <td>14.4</td>\n",
       "      <td>-86.4</td>\n",
       "      <td>108.0</td>\n",
       "      <td>266.4</td>\n",
       "    </tr>\n",
       "    <tr>\n",
       "      <th>2017-12-31 23:00:00</th>\n",
       "      <td>-4262.4</td>\n",
       "      <td>180.0</td>\n",
       "      <td>165.6</td>\n",
       "      <td>32.4</td>\n",
       "      <td>136.8</td>\n",
       "      <td>223.2</td>\n",
       "      <td>241.2</td>\n",
       "      <td>147.6</td>\n",
       "      <td>115.2</td>\n",
       "      <td>111.6</td>\n",
       "      <td>...</td>\n",
       "      <td>496.8</td>\n",
       "      <td>-208.8</td>\n",
       "      <td>21.6</td>\n",
       "      <td>93.6</td>\n",
       "      <td>133.2</td>\n",
       "      <td>79.2</td>\n",
       "      <td>14.4</td>\n",
       "      <td>-75.6</td>\n",
       "      <td>97.2</td>\n",
       "      <td>255.6</td>\n",
       "    </tr>\n",
       "    <tr>\n",
       "      <th>2017-12-31 23:30:00</th>\n",
       "      <td>-3808.8</td>\n",
       "      <td>176.4</td>\n",
       "      <td>169.2</td>\n",
       "      <td>25.2</td>\n",
       "      <td>122.4</td>\n",
       "      <td>201.6</td>\n",
       "      <td>241.2</td>\n",
       "      <td>122.4</td>\n",
       "      <td>100.8</td>\n",
       "      <td>93.6</td>\n",
       "      <td>...</td>\n",
       "      <td>421.2</td>\n",
       "      <td>-180.0</td>\n",
       "      <td>28.8</td>\n",
       "      <td>86.4</td>\n",
       "      <td>118.8</td>\n",
       "      <td>68.4</td>\n",
       "      <td>10.8</td>\n",
       "      <td>-68.4</td>\n",
       "      <td>86.4</td>\n",
       "      <td>216.0</td>\n",
       "    </tr>\n",
       "  </tbody>\n",
       "</table>\n",
       "<p>87600 rows × 96 columns</p>\n",
       "</div>"
      ],
      "text/plain": [
       "                     reservoir_demand  node_1_demand  node_2_demand  \\\n",
       "Timestamp                                                             \n",
       "2017-01-01 00:00:00           -3348.0          154.8          169.2   \n",
       "2017-01-01 00:30:00           -2959.2          136.8          147.6   \n",
       "2017-01-01 01:00:00           -2692.8          129.6          126.0   \n",
       "2017-01-01 01:30:00           -2379.6          104.4          100.8   \n",
       "2017-01-01 02:00:00           -2228.4          104.4          104.4   \n",
       "...                               ...            ...            ...   \n",
       "2017-12-31 21:30:00           -5306.4          205.2          208.8   \n",
       "2017-12-31 22:00:00           -4910.4          208.8          183.6   \n",
       "2017-12-31 22:30:00           -4683.6          187.2          183.6   \n",
       "2017-12-31 23:00:00           -4262.4          180.0          165.6   \n",
       "2017-12-31 23:30:00           -3808.8          176.4          169.2   \n",
       "\n",
       "                     node_3_demand  node_4_demand  node_5_demand  \\\n",
       "Timestamp                                                          \n",
       "2017-01-01 00:00:00           18.0          118.8          169.2   \n",
       "2017-01-01 00:30:00           18.0          108.0          144.0   \n",
       "2017-01-01 01:00:00           14.4          104.4          133.2   \n",
       "2017-01-01 01:30:00           10.8           86.4          122.4   \n",
       "2017-01-01 02:00:00           10.8           79.2          122.4   \n",
       "...                            ...            ...            ...   \n",
       "2017-12-31 21:30:00           39.6          183.6          284.4   \n",
       "2017-12-31 22:00:00           39.6          154.8          252.0   \n",
       "2017-12-31 22:30:00           36.0          147.6          230.4   \n",
       "2017-12-31 23:00:00           32.4          136.8          223.2   \n",
       "2017-12-31 23:30:00           25.2          122.4          201.6   \n",
       "\n",
       "                     node_6_demand  node_7_demand  node_8_demand  \\\n",
       "Timestamp                                                          \n",
       "2017-01-01 00:00:00          234.0           86.4           82.8   \n",
       "2017-01-01 00:30:00          237.6           79.2           75.6   \n",
       "2017-01-01 01:00:00          205.2           72.0           72.0   \n",
       "2017-01-01 01:30:00          180.0           68.4           57.6   \n",
       "2017-01-01 02:00:00          183.6           68.4           54.0   \n",
       "...                            ...            ...            ...   \n",
       "2017-12-31 21:30:00          316.8          176.4          133.2   \n",
       "2017-12-31 22:00:00          295.2          165.6          133.2   \n",
       "2017-12-31 22:30:00          320.4          147.6          118.8   \n",
       "2017-12-31 23:00:00          241.2          147.6          115.2   \n",
       "2017-12-31 23:30:00          241.2          122.4          100.8   \n",
       "\n",
       "                     node_9_demand  ...  link_23_flow  link_24_flow  \\\n",
       "Timestamp                           ...                               \n",
       "2017-01-01 00:00:00          104.4  ...         439.2        -205.2   \n",
       "2017-01-01 00:30:00           90.0  ...         392.4        -187.2   \n",
       "2017-01-01 01:00:00           90.0  ...         349.2        -176.4   \n",
       "2017-01-01 01:30:00           82.8  ...         316.8        -158.4   \n",
       "2017-01-01 02:00:00           75.6  ...         277.2        -144.0   \n",
       "...                            ...  ...           ...           ...   \n",
       "2017-12-31 21:30:00          129.6  ...         604.8        -259.2   \n",
       "2017-12-31 22:00:00          133.2  ...         565.2        -241.2   \n",
       "2017-12-31 22:30:00          126.0  ...         529.2        -226.8   \n",
       "2017-12-31 23:00:00          111.6  ...         496.8        -208.8   \n",
       "2017-12-31 23:30:00           93.6  ...         421.2        -180.0   \n",
       "\n",
       "                     link_25_flow  link_26_flow  link_27_flow  link_28_flow  \\\n",
       "Timestamp                                                                     \n",
       "2017-01-01 00:00:00         -75.6         -18.0         118.8          68.4   \n",
       "2017-01-01 00:30:00         -72.0         -21.6         108.0          61.2   \n",
       "2017-01-01 01:00:00         -64.8         -18.0          93.6          50.4   \n",
       "2017-01-01 01:30:00         -54.0         -10.8          79.2          46.8   \n",
       "2017-01-01 02:00:00         -57.6         -18.0          72.0          39.6   \n",
       "...                           ...           ...           ...           ...   \n",
       "2017-12-31 21:30:00          32.4         115.2         169.2         100.8   \n",
       "2017-12-31 22:00:00          21.6         100.8         154.8          86.4   \n",
       "2017-12-31 22:30:00          21.6         100.8         147.6          86.4   \n",
       "2017-12-31 23:00:00          21.6          93.6         133.2          79.2   \n",
       "2017-12-31 23:30:00          28.8          86.4         118.8          68.4   \n",
       "\n",
       "                     link_29_flow  link_30_flow  link_31_flow  link_32_flow  \n",
       "Timestamp                                                                    \n",
       "2017-01-01 00:00:00           7.2         -54.0          75.6         212.4  \n",
       "2017-01-01 00:30:00           3.6         -54.0          72.0         183.6  \n",
       "2017-01-01 01:00:00           3.6         -39.6          54.0         151.2  \n",
       "2017-01-01 01:30:00           7.2         -32.4          50.4         140.4  \n",
       "2017-01-01 02:00:00           7.2         -32.4          43.2         118.8  \n",
       "...                           ...           ...           ...           ...  \n",
       "2017-12-31 21:30:00          10.8        -100.8         122.4         309.6  \n",
       "2017-12-31 22:00:00          18.0         -75.6         100.8         288.0  \n",
       "2017-12-31 22:30:00          14.4         -86.4         108.0         266.4  \n",
       "2017-12-31 23:00:00          14.4         -75.6          97.2         255.6  \n",
       "2017-12-31 23:30:00          10.8         -68.4          86.4         216.0  \n",
       "\n",
       "[87600 rows x 96 columns]"
      ]
     },
     "execution_count": 5,
     "metadata": {},
     "output_type": "execute_result"
    }
   ],
   "source": [
    "df = pd.read_csv('/Users/alexellard/Downloads/scenarios_data.csv', header=0, index_col=0)\n",
    "df"
   ]
  },
  {
   "cell_type": "code",
   "execution_count": 12,
   "metadata": {},
   "outputs": [
    {
     "name": "stdout",
     "output_type": "stream",
     "text": [
      "[[]]\n",
      "starting df shape: (87600, 96)\n",
      "This is training run 1 and has the shape:  (87600, 96)\n",
      "The value of dropped columns is 0\n"
     ]
    },
    {
     "name": "stderr",
     "output_type": "stream",
     "text": [
      "/Users/alexellard/opt/anaconda3/lib/python3.7/site-packages/xgboost/data.py:96: UserWarning: Use subset (sliced data) of np.ndarray is not recommended because it will generate extra copies and increase memory consumption\n",
      "  \"because it will generate extra copies and increase \" +\n"
     ]
    },
    {
     "name": "stdout",
     "output_type": "stream",
     "text": [
      "test y shape : (17520, 1)\n",
      "Inv y shape : (17520, 96)\n",
      "y pred shape : (17520, 1)\n",
      "inv y pred : (17520, 96)\n",
      "Run 1 Mean Absolute Error: 45.13374937313199\n",
      "RMSE: 59.892\n",
      "R^2: 0.998\n",
      "[[]]\n",
      "starting df shape: (87600, 96)\n",
      "This is training run 2 and has the shape:  (87600, 96)\n",
      "The value of dropped columns is 0\n"
     ]
    },
    {
     "name": "stderr",
     "output_type": "stream",
     "text": [
      "/Users/alexellard/opt/anaconda3/lib/python3.7/site-packages/xgboost/data.py:96: UserWarning: Use subset (sliced data) of np.ndarray is not recommended because it will generate extra copies and increase memory consumption\n",
      "  \"because it will generate extra copies and increase \" +\n"
     ]
    },
    {
     "name": "stdout",
     "output_type": "stream",
     "text": [
      "test y shape : (17520, 1)\n",
      "Inv y shape : (17520, 96)\n",
      "y pred shape : (17520, 1)\n",
      "inv y pred : (17520, 96)\n",
      "Run 2 Mean Absolute Error: 45.13374937313199\n",
      "RMSE: 59.892\n",
      "R^2: 0.998\n",
      "[[]]\n",
      "starting df shape: (87600, 96)\n",
      "This is training run 3 and has the shape:  (87600, 96)\n",
      "The value of dropped columns is 0\n"
     ]
    },
    {
     "name": "stderr",
     "output_type": "stream",
     "text": [
      "/Users/alexellard/opt/anaconda3/lib/python3.7/site-packages/xgboost/data.py:96: UserWarning: Use subset (sliced data) of np.ndarray is not recommended because it will generate extra copies and increase memory consumption\n",
      "  \"because it will generate extra copies and increase \" +\n"
     ]
    },
    {
     "name": "stdout",
     "output_type": "stream",
     "text": [
      "test y shape : (17520, 1)\n",
      "Inv y shape : (17520, 96)\n",
      "y pred shape : (17520, 1)\n",
      "inv y pred : (17520, 96)\n",
      "Run 3 Mean Absolute Error: 45.13374937313199\n",
      "RMSE: 59.892\n",
      "R^2: 0.998\n",
      "[[]]\n",
      "starting df shape: (87600, 96)\n",
      "This is training run 4 and has the shape:  (87600, 96)\n",
      "The value of dropped columns is 0\n"
     ]
    },
    {
     "name": "stderr",
     "output_type": "stream",
     "text": [
      "/Users/alexellard/opt/anaconda3/lib/python3.7/site-packages/xgboost/data.py:96: UserWarning: Use subset (sliced data) of np.ndarray is not recommended because it will generate extra copies and increase memory consumption\n",
      "  \"because it will generate extra copies and increase \" +\n"
     ]
    },
    {
     "name": "stdout",
     "output_type": "stream",
     "text": [
      "test y shape : (17520, 1)\n",
      "Inv y shape : (17520, 96)\n",
      "y pred shape : (17520, 1)\n",
      "inv y pred : (17520, 96)\n",
      "Run 4 Mean Absolute Error: 45.13374937313199\n",
      "RMSE: 59.892\n",
      "R^2: 0.998\n",
      "[[]]\n",
      "starting df shape: (87600, 96)\n",
      "This is training run 5 and has the shape:  (87600, 96)\n",
      "The value of dropped columns is 0\n"
     ]
    },
    {
     "name": "stderr",
     "output_type": "stream",
     "text": [
      "/Users/alexellard/opt/anaconda3/lib/python3.7/site-packages/xgboost/data.py:96: UserWarning: Use subset (sliced data) of np.ndarray is not recommended because it will generate extra copies and increase memory consumption\n",
      "  \"because it will generate extra copies and increase \" +\n"
     ]
    },
    {
     "name": "stdout",
     "output_type": "stream",
     "text": [
      "test y shape : (17520, 1)\n",
      "Inv y shape : (17520, 96)\n",
      "y pred shape : (17520, 1)\n",
      "inv y pred : (17520, 96)\n",
      "Run 5 Mean Absolute Error: 45.13374937313199\n",
      "RMSE: 59.892\n",
      "R^2: 0.998\n",
      "[[]]\n",
      "starting df shape: (87600, 96)\n",
      "This is training run 6 and has the shape:  (87600, 96)\n",
      "The value of dropped columns is 0\n"
     ]
    },
    {
     "name": "stderr",
     "output_type": "stream",
     "text": [
      "/Users/alexellard/opt/anaconda3/lib/python3.7/site-packages/xgboost/data.py:96: UserWarning: Use subset (sliced data) of np.ndarray is not recommended because it will generate extra copies and increase memory consumption\n",
      "  \"because it will generate extra copies and increase \" +\n"
     ]
    },
    {
     "name": "stdout",
     "output_type": "stream",
     "text": [
      "test y shape : (17520, 1)\n",
      "Inv y shape : (17520, 96)\n",
      "y pred shape : (17520, 1)\n",
      "inv y pred : (17520, 96)\n",
      "Run 6 Mean Absolute Error: 45.13374937313199\n",
      "RMSE: 59.892\n",
      "R^2: 0.998\n",
      "[[]]\n",
      "starting df shape: (87600, 96)\n",
      "This is training run 7 and has the shape:  (87600, 96)\n",
      "The value of dropped columns is 0\n"
     ]
    },
    {
     "name": "stderr",
     "output_type": "stream",
     "text": [
      "/Users/alexellard/opt/anaconda3/lib/python3.7/site-packages/xgboost/data.py:96: UserWarning: Use subset (sliced data) of np.ndarray is not recommended because it will generate extra copies and increase memory consumption\n",
      "  \"because it will generate extra copies and increase \" +\n"
     ]
    },
    {
     "name": "stdout",
     "output_type": "stream",
     "text": [
      "test y shape : (17520, 1)\n",
      "Inv y shape : (17520, 96)\n",
      "y pred shape : (17520, 1)\n",
      "inv y pred : (17520, 96)\n",
      "Run 7 Mean Absolute Error: 45.13374937313199\n",
      "RMSE: 59.892\n",
      "R^2: 0.998\n",
      "[[]]\n",
      "starting df shape: (87600, 96)\n",
      "This is training run 8 and has the shape:  (87600, 96)\n",
      "The value of dropped columns is 0\n"
     ]
    },
    {
     "name": "stderr",
     "output_type": "stream",
     "text": [
      "/Users/alexellard/opt/anaconda3/lib/python3.7/site-packages/xgboost/data.py:96: UserWarning: Use subset (sliced data) of np.ndarray is not recommended because it will generate extra copies and increase memory consumption\n",
      "  \"because it will generate extra copies and increase \" +\n"
     ]
    },
    {
     "name": "stdout",
     "output_type": "stream",
     "text": [
      "test y shape : (17520, 1)\n",
      "Inv y shape : (17520, 96)\n",
      "y pred shape : (17520, 1)\n",
      "inv y pred : (17520, 96)\n",
      "Run 8 Mean Absolute Error: 45.13374937313199\n",
      "RMSE: 59.892\n",
      "R^2: 0.998\n",
      "[[]]\n",
      "starting df shape: (87600, 96)\n",
      "This is training run 9 and has the shape:  (87600, 96)\n",
      "The value of dropped columns is 0\n"
     ]
    },
    {
     "name": "stderr",
     "output_type": "stream",
     "text": [
      "/Users/alexellard/opt/anaconda3/lib/python3.7/site-packages/xgboost/data.py:96: UserWarning: Use subset (sliced data) of np.ndarray is not recommended because it will generate extra copies and increase memory consumption\n",
      "  \"because it will generate extra copies and increase \" +\n"
     ]
    },
    {
     "name": "stdout",
     "output_type": "stream",
     "text": [
      "test y shape : (17520, 1)\n",
      "Inv y shape : (17520, 96)\n",
      "y pred shape : (17520, 1)\n",
      "inv y pred : (17520, 96)\n",
      "Run 9 Mean Absolute Error: 45.13374937313199\n",
      "RMSE: 59.892\n",
      "R^2: 0.998\n",
      "[[]]\n",
      "starting df shape: (87600, 96)\n",
      "This is training run 10 and has the shape:  (87600, 96)\n",
      "The value of dropped columns is 0\n"
     ]
    },
    {
     "name": "stderr",
     "output_type": "stream",
     "text": [
      "/Users/alexellard/opt/anaconda3/lib/python3.7/site-packages/xgboost/data.py:96: UserWarning: Use subset (sliced data) of np.ndarray is not recommended because it will generate extra copies and increase memory consumption\n",
      "  \"because it will generate extra copies and increase \" +\n"
     ]
    },
    {
     "name": "stdout",
     "output_type": "stream",
     "text": [
      "test y shape : (17520, 1)\n",
      "Inv y shape : (17520, 96)\n",
      "y pred shape : (17520, 1)\n",
      "inv y pred : (17520, 96)\n",
      "Run 10 Mean Absolute Error: 45.13374937313199\n",
      "RMSE: 59.892\n",
      "R^2: 0.998\n",
      "[['node_8_demand', 'node_24_demand', 'link_8_flow', 'link_21_flow', 'node_29_pressure']]\n",
      "starting df shape: (87600, 91)\n",
      "This is training run 1 and has the shape:  (87600, 91)\n",
      "The value of dropped columns is 5\n"
     ]
    },
    {
     "name": "stderr",
     "output_type": "stream",
     "text": [
      "/Users/alexellard/opt/anaconda3/lib/python3.7/site-packages/xgboost/data.py:96: UserWarning: Use subset (sliced data) of np.ndarray is not recommended because it will generate extra copies and increase memory consumption\n",
      "  \"because it will generate extra copies and increase \" +\n"
     ]
    },
    {
     "name": "stdout",
     "output_type": "stream",
     "text": [
      "test y shape : (17520, 1)\n",
      "Inv y shape : (17520, 91)\n",
      "y pred shape : (17520, 1)\n",
      "inv y pred : (17520, 91)\n",
      "Run 1 Mean Absolute Error: 49.9595292537529\n",
      "RMSE: 65.909\n",
      "R^2: 0.998\n",
      "[['link_20_flow', 'link_10_flow', 'node_20_demand', 'node_20_pressure', 'link_15_flow']]\n",
      "starting df shape: (87600, 91)\n",
      "This is training run 2 and has the shape:  (87600, 91)\n",
      "The value of dropped columns is 5\n"
     ]
    },
    {
     "name": "stderr",
     "output_type": "stream",
     "text": [
      "/Users/alexellard/opt/anaconda3/lib/python3.7/site-packages/xgboost/data.py:96: UserWarning: Use subset (sliced data) of np.ndarray is not recommended because it will generate extra copies and increase memory consumption\n",
      "  \"because it will generate extra copies and increase \" +\n"
     ]
    },
    {
     "name": "stdout",
     "output_type": "stream",
     "text": [
      "test y shape : (17520, 1)\n",
      "Inv y shape : (17520, 91)\n",
      "y pred shape : (17520, 1)\n",
      "inv y pred : (17520, 91)\n",
      "Run 2 Mean Absolute Error: 71.57267780454232\n",
      "RMSE: 92.990\n",
      "R^2: 0.996\n",
      "[['link_11_flow', 'node_17_demand', 'node_5_demand', 'node_5_pressure', 'node_27_demand']]\n",
      "starting df shape: (87600, 91)\n",
      "This is training run 3 and has the shape:  (87600, 91)\n",
      "The value of dropped columns is 5\n"
     ]
    },
    {
     "name": "stderr",
     "output_type": "stream",
     "text": [
      "/Users/alexellard/opt/anaconda3/lib/python3.7/site-packages/xgboost/data.py:96: UserWarning: Use subset (sliced data) of np.ndarray is not recommended because it will generate extra copies and increase memory consumption\n",
      "  \"because it will generate extra copies and increase \" +\n"
     ]
    },
    {
     "name": "stdout",
     "output_type": "stream",
     "text": [
      "test y shape : (17520, 1)\n",
      "Inv y shape : (17520, 91)\n",
      "y pred shape : (17520, 1)\n",
      "inv y pred : (17520, 91)\n",
      "Run 3 Mean Absolute Error: 46.51341744333685\n",
      "RMSE: 61.699\n",
      "R^2: 0.998\n",
      "[['node_17_demand', 'link_11_flow', 'node_11_pressure', 'node_1_demand', 'link_26_flow']]\n",
      "starting df shape: (87600, 91)\n",
      "This is training run 4 and has the shape:  (87600, 91)\n",
      "The value of dropped columns is 5\n"
     ]
    },
    {
     "name": "stderr",
     "output_type": "stream",
     "text": [
      "/Users/alexellard/opt/anaconda3/lib/python3.7/site-packages/xgboost/data.py:96: UserWarning: Use subset (sliced data) of np.ndarray is not recommended because it will generate extra copies and increase memory consumption\n",
      "  \"because it will generate extra copies and increase \" +\n"
     ]
    },
    {
     "name": "stdout",
     "output_type": "stream",
     "text": [
      "test y shape : (17520, 1)\n",
      "Inv y shape : (17520, 91)\n",
      "y pred shape : (17520, 1)\n",
      "inv y pred : (17520, 91)\n",
      "Run 4 Mean Absolute Error: 50.32570486971872\n",
      "RMSE: 66.189\n",
      "R^2: 0.998\n",
      "[['link_18_flow', 'link_27_flow', 'reservoir_demand', 'link_16_flow']]\n",
      "starting df shape: (87600, 92)\n",
      "This is training run 5 and has the shape:  (87600, 92)\n",
      "The value of dropped columns is 5\n"
     ]
    },
    {
     "name": "stderr",
     "output_type": "stream",
     "text": [
      "/Users/alexellard/opt/anaconda3/lib/python3.7/site-packages/xgboost/data.py:96: UserWarning: Use subset (sliced data) of np.ndarray is not recommended because it will generate extra copies and increase memory consumption\n",
      "  \"because it will generate extra copies and increase \" +\n"
     ]
    },
    {
     "name": "stdout",
     "output_type": "stream",
     "text": [
      "test y shape : (17520, 1)\n",
      "Inv y shape : (17520, 92)\n",
      "y pred shape : (17520, 1)\n",
      "inv y pred : (17520, 92)\n",
      "Run 5 Mean Absolute Error: 6.490366164779023\n",
      "RMSE: 8.462\n",
      "R^2: 0.992\n",
      "[['node_11_demand', 'link_8_flow', 'node_23_demand', 'node_20_pressure', 'node_14_pressure']]\n",
      "starting df shape: (87600, 91)\n",
      "This is training run 6 and has the shape:  (87600, 91)\n",
      "The value of dropped columns is 5\n"
     ]
    },
    {
     "name": "stderr",
     "output_type": "stream",
     "text": [
      "/Users/alexellard/opt/anaconda3/lib/python3.7/site-packages/xgboost/data.py:96: UserWarning: Use subset (sliced data) of np.ndarray is not recommended because it will generate extra copies and increase memory consumption\n",
      "  \"because it will generate extra copies and increase \" +\n"
     ]
    },
    {
     "name": "stdout",
     "output_type": "stream",
     "text": [
      "test y shape : (17520, 1)\n",
      "Inv y shape : (17520, 91)\n",
      "y pred shape : (17520, 1)\n",
      "inv y pred : (17520, 91)\n",
      "Run 6 Mean Absolute Error: 46.024115239180944\n",
      "RMSE: 61.229\n",
      "R^2: 0.998\n",
      "[['node_23_pressure', 'reservoir_demand', 'link_12_flow', 'link_28_flow', 'node_12_pressure']]\n",
      "starting df shape: (87600, 91)\n",
      "This is training run 7 and has the shape:  (87600, 91)\n",
      "The value of dropped columns is 5\n"
     ]
    },
    {
     "name": "stderr",
     "output_type": "stream",
     "text": [
      "/Users/alexellard/opt/anaconda3/lib/python3.7/site-packages/xgboost/data.py:96: UserWarning: Use subset (sliced data) of np.ndarray is not recommended because it will generate extra copies and increase memory consumption\n",
      "  \"because it will generate extra copies and increase \" +\n"
     ]
    },
    {
     "name": "stdout",
     "output_type": "stream",
     "text": [
      "test y shape : (17520, 1)\n",
      "Inv y shape : (17520, 91)\n",
      "y pred shape : (17520, 1)\n",
      "inv y pred : (17520, 91)\n",
      "Run 7 Mean Absolute Error: 3.0796905410727704\n",
      "RMSE: 4.061\n",
      "R^2: 0.998\n",
      "[['node_3_pressure', 'link_32_flow', 'node_10_demand', 'link_17_flow', 'node_25_pressure']]\n",
      "starting df shape: (87600, 91)\n",
      "This is training run 8 and has the shape:  (87600, 91)\n",
      "The value of dropped columns is 5\n"
     ]
    },
    {
     "name": "stderr",
     "output_type": "stream",
     "text": [
      "/Users/alexellard/opt/anaconda3/lib/python3.7/site-packages/xgboost/data.py:96: UserWarning: Use subset (sliced data) of np.ndarray is not recommended because it will generate extra copies and increase memory consumption\n",
      "  \"because it will generate extra copies and increase \" +\n"
     ]
    },
    {
     "name": "stdout",
     "output_type": "stream",
     "text": [
      "test y shape : (17520, 1)\n",
      "Inv y shape : (17520, 91)\n",
      "y pred shape : (17520, 1)\n",
      "inv y pred : (17520, 91)\n",
      "Run 8 Mean Absolute Error: 50.169557979575075\n",
      "RMSE: 66.170\n",
      "R^2: 0.998\n",
      "[['link_7_flow', 'node_1_demand', 'node_26_demand', 'link_31_flow', 'node_27_pressure']]\n",
      "starting df shape: (87600, 91)\n",
      "This is training run 9 and has the shape:  (87600, 91)\n",
      "The value of dropped columns is 5\n"
     ]
    },
    {
     "name": "stderr",
     "output_type": "stream",
     "text": [
      "/Users/alexellard/opt/anaconda3/lib/python3.7/site-packages/xgboost/data.py:96: UserWarning: Use subset (sliced data) of np.ndarray is not recommended because it will generate extra copies and increase memory consumption\n",
      "  \"because it will generate extra copies and increase \" +\n"
     ]
    },
    {
     "name": "stdout",
     "output_type": "stream",
     "text": [
      "test y shape : (17520, 1)\n",
      "Inv y shape : (17520, 91)\n",
      "y pred shape : (17520, 1)\n",
      "inv y pred : (17520, 91)\n",
      "Run 9 Mean Absolute Error: 50.363908218550826\n",
      "RMSE: 66.143\n",
      "R^2: 0.998\n",
      "[['node_15_demand', 'link_13_flow', 'node_27_pressure', 'link_11_flow', 'link_24_flow']]\n",
      "starting df shape: (87600, 91)\n",
      "This is training run 10 and has the shape:  (87600, 91)\n",
      "The value of dropped columns is 5\n"
     ]
    },
    {
     "name": "stderr",
     "output_type": "stream",
     "text": [
      "/Users/alexellard/opt/anaconda3/lib/python3.7/site-packages/xgboost/data.py:96: UserWarning: Use subset (sliced data) of np.ndarray is not recommended because it will generate extra copies and increase memory consumption\n",
      "  \"because it will generate extra copies and increase \" +\n"
     ]
    },
    {
     "name": "stdout",
     "output_type": "stream",
     "text": [
      "test y shape : (17520, 1)\n",
      "Inv y shape : (17520, 91)\n",
      "y pred shape : (17520, 1)\n",
      "inv y pred : (17520, 91)\n",
      "Run 10 Mean Absolute Error: 49.66162065053434\n",
      "RMSE: 65.161\n",
      "R^2: 0.998\n",
      "[['link_27_flow', 'node_20_demand', 'link_31_flow', 'node_11_demand', 'node_30_demand', 'link_9_flow', 'link_28_flow', 'link_4_flow', 'node_30_pressure', 'link_26_flow']]\n",
      "starting df shape: (87600, 86)\n",
      "This is training run 1 and has the shape:  (87600, 86)\n",
      "The value of dropped columns is 10\n"
     ]
    },
    {
     "name": "stderr",
     "output_type": "stream",
     "text": [
      "/Users/alexellard/opt/anaconda3/lib/python3.7/site-packages/xgboost/data.py:96: UserWarning: Use subset (sliced data) of np.ndarray is not recommended because it will generate extra copies and increase memory consumption\n",
      "  \"because it will generate extra copies and increase \" +\n"
     ]
    },
    {
     "name": "stdout",
     "output_type": "stream",
     "text": [
      "test y shape : (17520, 1)\n",
      "Inv y shape : (17520, 86)\n",
      "y pred shape : (17520, 1)\n",
      "inv y pred : (17520, 86)\n",
      "Run 1 Mean Absolute Error: 41.925101271489325\n",
      "RMSE: 56.292\n",
      "R^2: 0.999\n",
      "[['link_14_flow', 'link_4_flow', 'node_12_demand', 'link_12_flow', 'node_21_pressure', 'link_1_flow', 'node_31_pressure', 'link_13_flow', 'link_25_flow', 'link_17_flow']]\n",
      "starting df shape: (87600, 86)\n",
      "This is training run 2 and has the shape:  (87600, 86)\n",
      "The value of dropped columns is 10\n"
     ]
    },
    {
     "name": "stderr",
     "output_type": "stream",
     "text": [
      "/Users/alexellard/opt/anaconda3/lib/python3.7/site-packages/xgboost/data.py:96: UserWarning: Use subset (sliced data) of np.ndarray is not recommended because it will generate extra copies and increase memory consumption\n",
      "  \"because it will generate extra copies and increase \" +\n"
     ]
    },
    {
     "name": "stdout",
     "output_type": "stream",
     "text": [
      "test y shape : (17520, 1)\n",
      "Inv y shape : (17520, 86)\n",
      "y pred shape : (17520, 1)\n",
      "inv y pred : (17520, 86)\n",
      "Run 2 Mean Absolute Error: 47.517882030291354\n",
      "RMSE: 63.065\n",
      "R^2: 0.998\n",
      "[['link_26_flow', 'link_17_flow', 'node_18_pressure', 'link_13_flow', 'node_9_demand', 'node_22_demand', 'link_20_flow', 'link_4_flow', 'node_20_pressure', 'node_10_pressure']]\n",
      "starting df shape: (87600, 86)\n",
      "This is training run 3 and has the shape:  (87600, 86)\n",
      "The value of dropped columns is 10\n"
     ]
    },
    {
     "name": "stderr",
     "output_type": "stream",
     "text": [
      "/Users/alexellard/opt/anaconda3/lib/python3.7/site-packages/xgboost/data.py:96: UserWarning: Use subset (sliced data) of np.ndarray is not recommended because it will generate extra copies and increase memory consumption\n",
      "  \"because it will generate extra copies and increase \" +\n"
     ]
    },
    {
     "name": "stdout",
     "output_type": "stream",
     "text": [
      "test y shape : (17520, 1)\n",
      "Inv y shape : (17520, 86)\n",
      "y pred shape : (17520, 1)\n",
      "inv y pred : (17520, 86)\n",
      "Run 3 Mean Absolute Error: 45.374213500641275\n",
      "RMSE: 60.213\n",
      "R^2: 0.998\n",
      "[['link_21_flow', 'node_25_demand', 'link_30_flow', 'node_29_demand', 'link_28_flow', 'node_16_pressure', 'link_25_flow', 'node_21_demand', 'node_12_demand', 'node_2_demand']]\n",
      "starting df shape: (87600, 86)\n",
      "This is training run 4 and has the shape:  (87600, 86)\n",
      "The value of dropped columns is 10\n"
     ]
    },
    {
     "name": "stderr",
     "output_type": "stream",
     "text": [
      "/Users/alexellard/opt/anaconda3/lib/python3.7/site-packages/xgboost/data.py:96: UserWarning: Use subset (sliced data) of np.ndarray is not recommended because it will generate extra copies and increase memory consumption\n",
      "  \"because it will generate extra copies and increase \" +\n"
     ]
    },
    {
     "name": "stdout",
     "output_type": "stream",
     "text": [
      "test y shape : (17520, 1)\n",
      "Inv y shape : (17520, 86)\n",
      "y pred shape : (17520, 1)\n",
      "inv y pred : (17520, 86)\n",
      "Run 4 Mean Absolute Error: 41.877128473997324\n",
      "RMSE: 56.084\n",
      "R^2: 0.999\n",
      "[['link_27_flow', 'link_6_flow', 'node_19_demand', 'node_24_pressure', 'link_3_flow', 'node_15_demand', 'node_4_demand', 'link_26_flow', 'node_8_pressure', 'link_25_flow']]\n",
      "starting df shape: (87600, 86)\n",
      "This is training run 5 and has the shape:  (87600, 86)\n",
      "The value of dropped columns is 10\n"
     ]
    },
    {
     "name": "stderr",
     "output_type": "stream",
     "text": [
      "/Users/alexellard/opt/anaconda3/lib/python3.7/site-packages/xgboost/data.py:96: UserWarning: Use subset (sliced data) of np.ndarray is not recommended because it will generate extra copies and increase memory consumption\n",
      "  \"because it will generate extra copies and increase \" +\n"
     ]
    },
    {
     "name": "stdout",
     "output_type": "stream",
     "text": [
      "test y shape : (17520, 1)\n",
      "Inv y shape : (17520, 86)\n",
      "y pred shape : (17520, 1)\n",
      "inv y pred : (17520, 86)\n",
      "Run 5 Mean Absolute Error: 46.30644063035929\n",
      "RMSE: 61.471\n",
      "R^2: 0.998\n",
      "[['node_6_pressure', 'link_14_flow', 'node_10_demand', 'node_3_demand', 'link_25_flow', 'link_5_flow', 'link_8_flow', 'node_20_demand', 'node_25_demand', 'node_3_pressure']]\n",
      "starting df shape: (87600, 86)\n",
      "This is training run 6 and has the shape:  (87600, 86)\n",
      "The value of dropped columns is 10\n"
     ]
    },
    {
     "name": "stderr",
     "output_type": "stream",
     "text": [
      "/Users/alexellard/opt/anaconda3/lib/python3.7/site-packages/xgboost/data.py:96: UserWarning: Use subset (sliced data) of np.ndarray is not recommended because it will generate extra copies and increase memory consumption\n",
      "  \"because it will generate extra copies and increase \" +\n"
     ]
    },
    {
     "name": "stdout",
     "output_type": "stream",
     "text": [
      "test y shape : (17520, 1)\n",
      "Inv y shape : (17520, 86)\n",
      "y pred shape : (17520, 1)\n",
      "inv y pred : (17520, 86)\n",
      "Run 6 Mean Absolute Error: 47.11050738349825\n",
      "RMSE: 62.593\n",
      "R^2: 0.998\n",
      "[['node_4_demand', 'link_16_flow', 'node_28_pressure', 'node_7_demand', 'link_24_flow', 'node_30_demand', 'link_22_flow', 'link_12_flow', 'node_10_demand', 'node_29_pressure']]\n",
      "starting df shape: (87600, 86)\n",
      "This is training run 7 and has the shape:  (87600, 86)\n",
      "The value of dropped columns is 10\n"
     ]
    },
    {
     "name": "stderr",
     "output_type": "stream",
     "text": [
      "/Users/alexellard/opt/anaconda3/lib/python3.7/site-packages/xgboost/data.py:96: UserWarning: Use subset (sliced data) of np.ndarray is not recommended because it will generate extra copies and increase memory consumption\n",
      "  \"because it will generate extra copies and increase \" +\n"
     ]
    },
    {
     "name": "stdout",
     "output_type": "stream",
     "text": [
      "test y shape : (17520, 1)\n",
      "Inv y shape : (17520, 86)\n",
      "y pred shape : (17520, 1)\n",
      "inv y pred : (17520, 86)\n",
      "Run 7 Mean Absolute Error: 106.64258983324842\n",
      "RMSE: 139.075\n",
      "R^2: 0.992\n",
      "[['node_11_demand', 'node_23_demand', 'node_22_pressure', 'link_10_flow', 'link_11_flow', 'link_23_flow', 'link_18_flow', 'node_28_pressure', 'link_13_flow', 'link_31_flow']]\n",
      "starting df shape: (87600, 86)\n",
      "This is training run 8 and has the shape:  (87600, 86)\n",
      "The value of dropped columns is 10\n"
     ]
    },
    {
     "name": "stderr",
     "output_type": "stream",
     "text": [
      "/Users/alexellard/opt/anaconda3/lib/python3.7/site-packages/xgboost/data.py:96: UserWarning: Use subset (sliced data) of np.ndarray is not recommended because it will generate extra copies and increase memory consumption\n",
      "  \"because it will generate extra copies and increase \" +\n"
     ]
    },
    {
     "name": "stdout",
     "output_type": "stream",
     "text": [
      "test y shape : (17520, 1)\n",
      "Inv y shape : (17520, 86)\n",
      "y pred shape : (17520, 1)\n",
      "inv y pred : (17520, 86)\n",
      "Run 8 Mean Absolute Error: 46.00473831630042\n",
      "RMSE: 61.033\n",
      "R^2: 0.998\n",
      "[['reservoir_pressure', 'node_28_pressure', 'link_4_flow', 'node_7_demand', 'node_3_demand', 'link_24_flow', 'node_24_pressure', 'node_26_pressure', 'node_17_demand', 'node_23_pressure']]\n",
      "starting df shape: (87600, 86)\n",
      "This is training run 9 and has the shape:  (87600, 86)\n",
      "The value of dropped columns is 10\n"
     ]
    },
    {
     "name": "stderr",
     "output_type": "stream",
     "text": [
      "/Users/alexellard/opt/anaconda3/lib/python3.7/site-packages/xgboost/data.py:96: UserWarning: Use subset (sliced data) of np.ndarray is not recommended because it will generate extra copies and increase memory consumption\n",
      "  \"because it will generate extra copies and increase \" +\n"
     ]
    },
    {
     "name": "stdout",
     "output_type": "stream",
     "text": [
      "test y shape : (17520, 1)\n",
      "Inv y shape : (17520, 86)\n",
      "y pred shape : (17520, 1)\n",
      "inv y pred : (17520, 86)\n",
      "Run 9 Mean Absolute Error: 47.89080808545433\n",
      "RMSE: 63.529\n",
      "R^2: 0.998\n",
      "[['node_16_pressure', 'link_5_flow', 'node_24_pressure', 'node_27_pressure', 'node_27_demand', 'node_10_pressure', 'reservoir_pressure', 'node_13_demand', 'node_4_demand', 'link_10_flow']]\n",
      "starting df shape: (87600, 86)\n",
      "This is training run 10 and has the shape:  (87600, 86)\n",
      "The value of dropped columns is 10\n"
     ]
    },
    {
     "name": "stderr",
     "output_type": "stream",
     "text": [
      "/Users/alexellard/opt/anaconda3/lib/python3.7/site-packages/xgboost/data.py:96: UserWarning: Use subset (sliced data) of np.ndarray is not recommended because it will generate extra copies and increase memory consumption\n",
      "  \"because it will generate extra copies and increase \" +\n"
     ]
    },
    {
     "name": "stdout",
     "output_type": "stream",
     "text": [
      "test y shape : (17520, 1)\n",
      "Inv y shape : (17520, 86)\n",
      "y pred shape : (17520, 1)\n",
      "inv y pred : (17520, 86)\n",
      "Run 10 Mean Absolute Error: 43.937221846507605\n",
      "RMSE: 58.875\n",
      "R^2: 0.998\n",
      "[['node_31_demand', 'node_29_demand', 'link_2_flow', 'link_10_flow', 'node_15_demand', 'node_21_pressure', 'node_27_demand', 'node_7_demand', 'node_1_pressure', 'link_32_flow', 'node_3_demand', 'node_17_demand', 'link_13_flow', 'link_3_flow', 'node_25_demand']]\n",
      "starting df shape: (87600, 81)\n",
      "This is training run 1 and has the shape:  (87600, 81)\n",
      "The value of dropped columns is 15\n"
     ]
    },
    {
     "name": "stderr",
     "output_type": "stream",
     "text": [
      "/Users/alexellard/opt/anaconda3/lib/python3.7/site-packages/xgboost/data.py:96: UserWarning: Use subset (sliced data) of np.ndarray is not recommended because it will generate extra copies and increase memory consumption\n",
      "  \"because it will generate extra copies and increase \" +\n"
     ]
    },
    {
     "name": "stdout",
     "output_type": "stream",
     "text": [
      "test y shape : (17520, 1)\n",
      "Inv y shape : (17520, 81)\n",
      "y pred shape : (17520, 1)\n",
      "inv y pred : (17520, 81)\n",
      "Run 1 Mean Absolute Error: 46.65268112893714\n",
      "RMSE: 61.767\n",
      "R^2: 0.998\n",
      "[['node_20_pressure', 'link_4_flow', 'link_25_flow', 'link_26_flow', 'node_25_pressure', 'node_18_pressure', 'link_13_flow', 'node_5_demand', 'node_13_demand', 'link_7_flow', 'node_13_pressure', 'node_24_pressure', 'node_30_demand', 'node_26_pressure']]\n",
      "starting df shape: (87600, 82)\n",
      "This is training run 2 and has the shape:  (87600, 82)\n",
      "The value of dropped columns is 15\n"
     ]
    },
    {
     "name": "stderr",
     "output_type": "stream",
     "text": [
      "/Users/alexellard/opt/anaconda3/lib/python3.7/site-packages/xgboost/data.py:96: UserWarning: Use subset (sliced data) of np.ndarray is not recommended because it will generate extra copies and increase memory consumption\n",
      "  \"because it will generate extra copies and increase \" +\n"
     ]
    },
    {
     "name": "stdout",
     "output_type": "stream",
     "text": [
      "test y shape : (17520, 1)\n",
      "Inv y shape : (17520, 82)\n",
      "y pred shape : (17520, 1)\n",
      "inv y pred : (17520, 82)\n",
      "Run 2 Mean Absolute Error: 48.23948399347593\n",
      "RMSE: 63.931\n",
      "R^2: 0.998\n",
      "[['node_31_pressure', 'link_14_flow', 'node_8_pressure', 'node_28_pressure', 'link_25_flow', 'node_30_demand', 'link_16_flow', 'node_6_demand', 'link_18_flow', 'link_27_flow', 'node_28_demand', 'link_4_flow', 'node_18_demand', 'link_7_flow']]\n",
      "starting df shape: (87600, 82)\n",
      "This is training run 3 and has the shape:  (87600, 82)\n",
      "The value of dropped columns is 15\n"
     ]
    },
    {
     "name": "stderr",
     "output_type": "stream",
     "text": [
      "/Users/alexellard/opt/anaconda3/lib/python3.7/site-packages/xgboost/data.py:96: UserWarning: Use subset (sliced data) of np.ndarray is not recommended because it will generate extra copies and increase memory consumption\n",
      "  \"because it will generate extra copies and increase \" +\n"
     ]
    },
    {
     "name": "stdout",
     "output_type": "stream",
     "text": [
      "test y shape : (17520, 1)\n",
      "Inv y shape : (17520, 82)\n",
      "y pred shape : (17520, 1)\n",
      "inv y pred : (17520, 82)\n",
      "Run 3 Mean Absolute Error: 105.37462780808463\n",
      "RMSE: 137.798\n",
      "R^2: 0.992\n",
      "[['node_14_demand', 'link_1_flow', 'node_3_pressure', 'node_11_demand', 'node_6_demand', 'link_9_flow', 'reservoir_demand', 'node_29_pressure', 'link_15_flow', 'link_11_flow', 'node_17_pressure', 'link_6_flow', 'node_5_demand', 'link_26_flow', 'link_21_flow']]\n",
      "starting df shape: (87600, 81)\n",
      "This is training run 4 and has the shape:  (87600, 81)\n",
      "The value of dropped columns is 15\n"
     ]
    },
    {
     "name": "stderr",
     "output_type": "stream",
     "text": [
      "/Users/alexellard/opt/anaconda3/lib/python3.7/site-packages/xgboost/data.py:96: UserWarning: Use subset (sliced data) of np.ndarray is not recommended because it will generate extra copies and increase memory consumption\n",
      "  \"because it will generate extra copies and increase \" +\n"
     ]
    },
    {
     "name": "stdout",
     "output_type": "stream",
     "text": [
      "test y shape : (17520, 1)\n",
      "Inv y shape : (17520, 81)\n",
      "y pred shape : (17520, 1)\n",
      "inv y pred : (17520, 81)\n",
      "Run 4 Mean Absolute Error: 4.417009795558091\n",
      "RMSE: 5.753\n",
      "R^2: 0.996\n",
      "[['node_4_demand', 'link_17_flow', 'node_28_pressure', 'node_31_demand', 'link_27_flow', 'link_7_flow', 'node_14_demand', 'node_28_demand', 'node_16_pressure', 'node_25_demand', 'link_24_flow', 'link_5_flow', 'node_11_demand', 'node_27_demand', 'node_22_pressure']]\n",
      "starting df shape: (87600, 81)\n",
      "This is training run 5 and has the shape:  (87600, 81)\n",
      "The value of dropped columns is 15\n"
     ]
    },
    {
     "name": "stderr",
     "output_type": "stream",
     "text": [
      "/Users/alexellard/opt/anaconda3/lib/python3.7/site-packages/xgboost/data.py:96: UserWarning: Use subset (sliced data) of np.ndarray is not recommended because it will generate extra copies and increase memory consumption\n",
      "  \"because it will generate extra copies and increase \" +\n"
     ]
    },
    {
     "name": "stdout",
     "output_type": "stream",
     "text": [
      "test y shape : (17520, 1)\n",
      "Inv y shape : (17520, 81)\n",
      "y pred shape : (17520, 1)\n",
      "inv y pred : (17520, 81)\n",
      "Run 5 Mean Absolute Error: 45.377318112320374\n",
      "RMSE: 60.108\n",
      "R^2: 0.998\n",
      "[['node_21_demand', 'node_4_pressure', 'link_12_flow', 'link_28_flow', 'link_24_flow', 'link_4_flow', 'node_6_demand', 'node_19_demand', 'node_23_demand', 'link_3_flow', 'node_28_demand', 'link_21_flow', 'node_17_demand', 'node_18_pressure', 'node_22_demand']]\n",
      "starting df shape: (87600, 81)\n",
      "This is training run 6 and has the shape:  (87600, 81)\n",
      "The value of dropped columns is 15\n"
     ]
    },
    {
     "name": "stderr",
     "output_type": "stream",
     "text": [
      "/Users/alexellard/opt/anaconda3/lib/python3.7/site-packages/xgboost/data.py:96: UserWarning: Use subset (sliced data) of np.ndarray is not recommended because it will generate extra copies and increase memory consumption\n",
      "  \"because it will generate extra copies and increase \" +\n"
     ]
    },
    {
     "name": "stdout",
     "output_type": "stream",
     "text": [
      "test y shape : (17520, 1)\n",
      "Inv y shape : (17520, 81)\n",
      "y pred shape : (17520, 1)\n",
      "inv y pred : (17520, 81)\n",
      "Run 6 Mean Absolute Error: 45.8018066104615\n",
      "RMSE: 60.844\n",
      "R^2: 0.998\n",
      "[['node_18_demand', 'node_19_demand', 'link_30_flow', 'node_29_pressure', 'link_10_flow', 'link_6_flow', 'node_22_demand', 'node_24_pressure', 'node_15_demand', 'link_18_flow', 'node_20_pressure', 'node_6_demand', 'node_17_pressure', 'link_32_flow']]\n",
      "starting df shape: (87600, 82)\n",
      "This is training run 7 and has the shape:  (87600, 82)\n",
      "The value of dropped columns is 15\n"
     ]
    },
    {
     "name": "stderr",
     "output_type": "stream",
     "text": [
      "/Users/alexellard/opt/anaconda3/lib/python3.7/site-packages/xgboost/data.py:96: UserWarning: Use subset (sliced data) of np.ndarray is not recommended because it will generate extra copies and increase memory consumption\n",
      "  \"because it will generate extra copies and increase \" +\n"
     ]
    },
    {
     "name": "stdout",
     "output_type": "stream",
     "text": [
      "test y shape : (17520, 1)\n",
      "Inv y shape : (17520, 82)\n",
      "y pred shape : (17520, 1)\n",
      "inv y pred : (17520, 82)\n",
      "Run 7 Mean Absolute Error: 49.33663831248257\n",
      "RMSE: 65.604\n",
      "R^2: 0.998\n",
      "[['link_12_flow', 'link_15_flow', 'node_23_pressure', 'link_11_flow', 'node_26_pressure', 'node_13_demand', 'link_5_flow', 'node_14_pressure', 'node_11_pressure', 'link_6_flow', 'node_7_pressure', 'link_10_flow', 'node_29_pressure', 'node_13_pressure', 'node_4_demand']]\n",
      "starting df shape: (87600, 81)\n",
      "This is training run 8 and has the shape:  (87600, 81)\n",
      "The value of dropped columns is 15\n"
     ]
    },
    {
     "name": "stderr",
     "output_type": "stream",
     "text": [
      "/Users/alexellard/opt/anaconda3/lib/python3.7/site-packages/xgboost/data.py:96: UserWarning: Use subset (sliced data) of np.ndarray is not recommended because it will generate extra copies and increase memory consumption\n",
      "  \"because it will generate extra copies and increase \" +\n"
     ]
    },
    {
     "name": "stdout",
     "output_type": "stream",
     "text": [
      "test y shape : (17520, 1)\n",
      "Inv y shape : (17520, 81)\n",
      "y pred shape : (17520, 1)\n",
      "inv y pred : (17520, 81)\n",
      "Run 8 Mean Absolute Error: 71.85288191887169\n",
      "RMSE: 93.328\n",
      "R^2: 0.996\n",
      "[['link_21_flow', 'node_14_pressure', 'node_2_demand', 'link_25_flow', 'node_21_pressure', 'link_1_flow', 'node_1_pressure', 'link_28_flow', 'node_27_demand', 'link_14_flow', 'node_4_pressure', 'node_13_demand', 'node_19_demand', 'link_22_flow']]\n",
      "starting df shape: (87600, 82)\n",
      "This is training run 9 and has the shape:  (87600, 82)\n",
      "The value of dropped columns is 15\n"
     ]
    },
    {
     "name": "stderr",
     "output_type": "stream",
     "text": [
      "/Users/alexellard/opt/anaconda3/lib/python3.7/site-packages/xgboost/data.py:96: UserWarning: Use subset (sliced data) of np.ndarray is not recommended because it will generate extra copies and increase memory consumption\n",
      "  \"because it will generate extra copies and increase \" +\n"
     ]
    },
    {
     "name": "stdout",
     "output_type": "stream",
     "text": [
      "test y shape : (17520, 1)\n",
      "Inv y shape : (17520, 82)\n",
      "y pred shape : (17520, 1)\n",
      "inv y pred : (17520, 82)\n",
      "Run 9 Mean Absolute Error: 48.888692931597234\n",
      "RMSE: 64.221\n",
      "R^2: 0.998\n",
      "[['link_6_flow', 'link_27_flow', 'node_8_demand', 'node_15_demand', 'link_30_flow', 'link_25_flow', 'node_10_demand', 'link_12_flow', 'link_9_flow', 'node_11_demand', 'link_29_flow', 'node_23_demand', 'link_23_flow', 'node_23_pressure']]\n",
      "starting df shape: (87600, 82)\n",
      "This is training run 10 and has the shape:  (87600, 82)\n",
      "The value of dropped columns is 15\n"
     ]
    },
    {
     "name": "stderr",
     "output_type": "stream",
     "text": [
      "/Users/alexellard/opt/anaconda3/lib/python3.7/site-packages/xgboost/data.py:96: UserWarning: Use subset (sliced data) of np.ndarray is not recommended because it will generate extra copies and increase memory consumption\n",
      "  \"because it will generate extra copies and increase \" +\n"
     ]
    },
    {
     "name": "stdout",
     "output_type": "stream",
     "text": [
      "test y shape : (17520, 1)\n",
      "Inv y shape : (17520, 82)\n",
      "y pred shape : (17520, 1)\n",
      "inv y pred : (17520, 82)\n",
      "Run 10 Mean Absolute Error: 43.2874898661061\n",
      "RMSE: 57.367\n",
      "R^2: 0.999\n",
      "[['node_10_demand', 'link_10_flow', 'node_22_pressure', 'node_23_pressure', 'node_27_demand', 'link_8_flow', 'node_24_demand', 'link_24_flow', 'node_30_demand', 'node_20_pressure', 'node_19_pressure', 'node_12_pressure', 'link_5_flow', 'link_13_flow', 'node_31_pressure', 'node_9_pressure', 'node_18_pressure', 'node_27_pressure', 'link_11_flow', 'link_9_flow']]\n",
      "starting df shape: (87600, 76)\n",
      "This is training run 1 and has the shape:  (87600, 76)\n",
      "The value of dropped columns is 20\n"
     ]
    },
    {
     "name": "stderr",
     "output_type": "stream",
     "text": [
      "/Users/alexellard/opt/anaconda3/lib/python3.7/site-packages/xgboost/data.py:96: UserWarning: Use subset (sliced data) of np.ndarray is not recommended because it will generate extra copies and increase memory consumption\n",
      "  \"because it will generate extra copies and increase \" +\n"
     ]
    },
    {
     "name": "stdout",
     "output_type": "stream",
     "text": [
      "test y shape : (17520, 1)\n",
      "Inv y shape : (17520, 76)\n",
      "y pred shape : (17520, 1)\n",
      "inv y pred : (17520, 76)\n",
      "Run 1 Mean Absolute Error: 43.741318096546756\n",
      "RMSE: 58.152\n",
      "R^2: 0.999\n",
      "[['node_5_demand', 'link_17_flow', 'link_11_flow', 'node_1_pressure', 'link_32_flow', 'node_15_demand', 'node_24_pressure', 'node_17_pressure', 'node_22_pressure', 'link_24_flow', 'link_20_flow', 'link_29_flow', 'link_19_flow', 'link_2_flow', 'node_7_pressure', 'node_12_demand', 'link_31_flow', 'node_4_pressure', 'node_29_pressure', 'node_2_demand']]\n",
      "starting df shape: (87600, 76)\n",
      "This is training run 2 and has the shape:  (87600, 76)\n",
      "The value of dropped columns is 20\n"
     ]
    },
    {
     "name": "stderr",
     "output_type": "stream",
     "text": [
      "/Users/alexellard/opt/anaconda3/lib/python3.7/site-packages/xgboost/data.py:96: UserWarning: Use subset (sliced data) of np.ndarray is not recommended because it will generate extra copies and increase memory consumption\n",
      "  \"because it will generate extra copies and increase \" +\n"
     ]
    },
    {
     "name": "stdout",
     "output_type": "stream",
     "text": [
      "test y shape : (17520, 1)\n",
      "Inv y shape : (17520, 76)\n",
      "y pred shape : (17520, 1)\n",
      "inv y pred : (17520, 76)\n",
      "Run 2 Mean Absolute Error: 47.42260549252941\n",
      "RMSE: 62.448\n",
      "R^2: 0.998\n",
      "[['node_4_demand', 'node_15_pressure', 'node_21_demand', 'node_30_demand', 'node_2_demand', 'link_19_flow', 'node_29_pressure', 'node_24_demand', 'link_32_flow', 'link_4_flow', 'node_20_demand', 'node_6_pressure', 'link_21_flow', 'node_3_pressure', 'link_17_flow', 'node_27_demand', 'link_20_flow', 'link_28_flow', 'node_5_demand']]\n",
      "starting df shape: (87600, 77)\n",
      "This is training run 3 and has the shape:  (87600, 77)\n",
      "The value of dropped columns is 20\n"
     ]
    },
    {
     "name": "stderr",
     "output_type": "stream",
     "text": [
      "/Users/alexellard/opt/anaconda3/lib/python3.7/site-packages/xgboost/data.py:96: UserWarning: Use subset (sliced data) of np.ndarray is not recommended because it will generate extra copies and increase memory consumption\n",
      "  \"because it will generate extra copies and increase \" +\n"
     ]
    },
    {
     "name": "stdout",
     "output_type": "stream",
     "text": [
      "test y shape : (17520, 1)\n",
      "Inv y shape : (17520, 77)\n",
      "y pred shape : (17520, 1)\n",
      "inv y pred : (17520, 77)\n",
      "Run 3 Mean Absolute Error: 48.58122349877793\n",
      "RMSE: 64.251\n",
      "R^2: 0.998\n",
      "[['reservoir_demand', 'node_4_pressure', 'node_7_pressure', 'node_6_demand', 'node_22_pressure', 'node_28_demand', 'node_10_pressure', 'node_30_pressure', 'node_8_demand', 'node_24_pressure', 'link_6_flow', 'link_31_flow', 'link_5_flow', 'node_6_pressure', 'link_4_flow', 'link_18_flow', 'node_26_pressure', 'node_31_demand', 'node_16_pressure', 'node_18_pressure']]\n",
      "starting df shape: (87600, 76)\n",
      "This is training run 4 and has the shape:  (87600, 76)\n",
      "The value of dropped columns is 20\n"
     ]
    },
    {
     "name": "stderr",
     "output_type": "stream",
     "text": [
      "/Users/alexellard/opt/anaconda3/lib/python3.7/site-packages/xgboost/data.py:96: UserWarning: Use subset (sliced data) of np.ndarray is not recommended because it will generate extra copies and increase memory consumption\n",
      "  \"because it will generate extra copies and increase \" +\n"
     ]
    },
    {
     "name": "stdout",
     "output_type": "stream",
     "text": [
      "test y shape : (17520, 1)\n",
      "Inv y shape : (17520, 76)\n",
      "y pred shape : (17520, 1)\n",
      "inv y pred : (17520, 76)\n",
      "Run 4 Mean Absolute Error: 2.992443443597676\n",
      "RMSE: 3.975\n",
      "R^2: 0.998\n",
      "[['node_31_demand', 'node_25_pressure', 'node_27_demand', 'node_12_demand', 'link_18_flow', 'link_26_flow', 'node_21_demand', 'link_29_flow', 'link_4_flow', 'node_26_demand', 'node_19_demand', 'node_23_pressure', 'link_2_flow', 'link_31_flow', 'node_19_pressure', 'node_29_pressure', 'node_9_pressure', 'node_13_demand', 'node_28_demand']]\n",
      "starting df shape: (87600, 77)\n",
      "This is training run 5 and has the shape:  (87600, 77)\n",
      "The value of dropped columns is 20\n"
     ]
    },
    {
     "name": "stderr",
     "output_type": "stream",
     "text": [
      "/Users/alexellard/opt/anaconda3/lib/python3.7/site-packages/xgboost/data.py:96: UserWarning: Use subset (sliced data) of np.ndarray is not recommended because it will generate extra copies and increase memory consumption\n",
      "  \"because it will generate extra copies and increase \" +\n"
     ]
    },
    {
     "name": "stdout",
     "output_type": "stream",
     "text": [
      "test y shape : (17520, 1)\n",
      "Inv y shape : (17520, 77)\n",
      "y pred shape : (17520, 1)\n",
      "inv y pred : (17520, 77)\n",
      "Run 5 Mean Absolute Error: 48.504533006041335\n",
      "RMSE: 64.303\n",
      "R^2: 0.998\n",
      "[['node_25_demand', 'node_22_demand', 'link_15_flow', 'link_32_flow', 'node_24_demand', 'link_10_flow', 'node_23_pressure', 'node_9_pressure', 'link_26_flow', 'node_1_demand', 'link_11_flow', 'node_17_demand', 'node_10_pressure', 'node_31_demand', 'node_28_demand', 'link_3_flow', 'link_21_flow', 'node_3_demand', 'node_20_pressure', 'node_23_demand']]\n",
      "starting df shape: (87600, 76)\n",
      "This is training run 6 and has the shape:  (87600, 76)\n",
      "The value of dropped columns is 20\n"
     ]
    },
    {
     "name": "stderr",
     "output_type": "stream",
     "text": [
      "/Users/alexellard/opt/anaconda3/lib/python3.7/site-packages/xgboost/data.py:96: UserWarning: Use subset (sliced data) of np.ndarray is not recommended because it will generate extra copies and increase memory consumption\n",
      "  \"because it will generate extra copies and increase \" +\n"
     ]
    },
    {
     "name": "stdout",
     "output_type": "stream",
     "text": [
      "test y shape : (17520, 1)\n",
      "Inv y shape : (17520, 76)\n",
      "y pred shape : (17520, 1)\n",
      "inv y pred : (17520, 76)\n",
      "Run 6 Mean Absolute Error: 74.74305305424966\n",
      "RMSE: 96.791\n",
      "R^2: 0.996\n",
      "[['link_29_flow', 'link_12_flow', 'link_32_flow', 'node_19_demand', 'node_7_pressure', 'node_24_pressure', 'link_23_flow', 'link_7_flow', 'node_14_pressure', 'link_19_flow', 'node_13_demand', 'node_14_demand', 'node_4_demand', 'node_5_pressure', 'node_25_demand', 'node_30_demand', 'link_24_flow', 'link_30_flow', 'node_20_pressure', 'node_15_demand']]\n",
      "starting df shape: (87600, 76)\n",
      "This is training run 7 and has the shape:  (87600, 76)\n",
      "The value of dropped columns is 20\n"
     ]
    },
    {
     "name": "stderr",
     "output_type": "stream",
     "text": [
      "/Users/alexellard/opt/anaconda3/lib/python3.7/site-packages/xgboost/data.py:96: UserWarning: Use subset (sliced data) of np.ndarray is not recommended because it will generate extra copies and increase memory consumption\n",
      "  \"because it will generate extra copies and increase \" +\n"
     ]
    },
    {
     "name": "stdout",
     "output_type": "stream",
     "text": [
      "test y shape : (17520, 1)\n",
      "Inv y shape : (17520, 76)\n",
      "y pred shape : (17520, 1)\n",
      "inv y pred : (17520, 76)\n",
      "Run 7 Mean Absolute Error: 47.59959961501778\n",
      "RMSE: 62.947\n",
      "R^2: 0.998\n",
      "[['node_30_pressure', 'reservoir_pressure', 'node_29_pressure', 'node_18_demand', 'link_5_flow', 'node_23_demand', 'node_12_pressure', 'node_25_demand', 'link_23_flow', 'node_29_demand', 'node_26_demand', 'node_13_pressure', 'node_26_pressure', 'node_21_pressure', 'link_2_flow', 'link_13_flow', 'link_7_flow', 'node_9_pressure', 'node_8_pressure', 'link_27_flow']]\n",
      "starting df shape: (87600, 76)\n",
      "This is training run 8 and has the shape:  (87600, 76)\n",
      "The value of dropped columns is 20\n"
     ]
    },
    {
     "name": "stderr",
     "output_type": "stream",
     "text": [
      "/Users/alexellard/opt/anaconda3/lib/python3.7/site-packages/xgboost/data.py:96: UserWarning: Use subset (sliced data) of np.ndarray is not recommended because it will generate extra copies and increase memory consumption\n",
      "  \"because it will generate extra copies and increase \" +\n"
     ]
    },
    {
     "name": "stdout",
     "output_type": "stream",
     "text": [
      "test y shape : (17520, 1)\n",
      "Inv y shape : (17520, 76)\n",
      "y pred shape : (17520, 1)\n",
      "inv y pred : (17520, 76)\n",
      "Run 8 Mean Absolute Error: 47.82474572223819\n",
      "RMSE: 63.883\n",
      "R^2: 0.998\n",
      "[['link_25_flow', 'link_19_flow', 'node_24_pressure', 'node_23_demand', 'node_11_demand', 'reservoir_pressure', 'node_12_pressure', 'link_24_flow', 'node_22_demand', 'node_3_pressure', 'node_28_demand', 'node_9_demand', 'node_13_pressure', 'link_17_flow', 'node_10_demand', 'link_12_flow', 'node_1_pressure', 'node_1_demand', 'link_8_flow', 'link_11_flow']]\n",
      "starting df shape: (87600, 76)\n",
      "This is training run 9 and has the shape:  (87600, 76)\n",
      "The value of dropped columns is 20\n"
     ]
    },
    {
     "name": "stderr",
     "output_type": "stream",
     "text": [
      "/Users/alexellard/opt/anaconda3/lib/python3.7/site-packages/xgboost/data.py:96: UserWarning: Use subset (sliced data) of np.ndarray is not recommended because it will generate extra copies and increase memory consumption\n",
      "  \"because it will generate extra copies and increase \" +\n"
     ]
    },
    {
     "name": "stdout",
     "output_type": "stream",
     "text": [
      "test y shape : (17520, 1)\n",
      "Inv y shape : (17520, 76)\n",
      "y pred shape : (17520, 1)\n",
      "inv y pred : (17520, 76)\n",
      "Run 9 Mean Absolute Error: 49.85343365039583\n",
      "RMSE: 65.667\n",
      "R^2: 0.998\n",
      "[['link_27_flow', 'node_24_demand', 'node_22_pressure', 'node_21_demand', 'node_25_demand', 'node_27_pressure', 'link_32_flow', 'node_3_pressure', 'link_28_flow', 'link_30_flow', 'node_13_demand', 'node_19_demand', 'link_1_flow', 'link_18_flow', 'link_25_flow', 'node_14_demand', 'link_19_flow', 'link_13_flow', 'link_21_flow', 'node_28_demand']]\n",
      "starting df shape: (87600, 76)\n",
      "This is training run 10 and has the shape:  (87600, 76)\n",
      "The value of dropped columns is 20\n"
     ]
    },
    {
     "name": "stderr",
     "output_type": "stream",
     "text": [
      "/Users/alexellard/opt/anaconda3/lib/python3.7/site-packages/xgboost/data.py:96: UserWarning: Use subset (sliced data) of np.ndarray is not recommended because it will generate extra copies and increase memory consumption\n",
      "  \"because it will generate extra copies and increase \" +\n"
     ]
    },
    {
     "name": "stdout",
     "output_type": "stream",
     "text": [
      "test y shape : (17520, 1)\n",
      "Inv y shape : (17520, 76)\n",
      "y pred shape : (17520, 1)\n",
      "inv y pred : (17520, 76)\n",
      "Run 10 Mean Absolute Error: 46.37693294401646\n",
      "RMSE: 61.204\n",
      "R^2: 0.998\n",
      "[['node_25_pressure', 'node_19_demand', 'node_22_demand', 'link_29_flow', 'node_4_demand', 'link_1_flow', 'node_10_demand', 'link_4_flow', 'node_24_demand', 'node_8_pressure', 'node_11_demand', 'node_23_pressure', 'node_12_demand', 'node_5_pressure', 'node_6_pressure', 'node_14_demand', 'node_28_pressure', 'link_19_flow', 'link_5_flow', 'link_15_flow', 'link_21_flow', 'node_11_pressure', 'node_17_pressure', 'link_6_flow', 'link_2_flow']]\n",
      "starting df shape: (87600, 71)\n",
      "This is training run 1 and has the shape:  (87600, 71)\n",
      "The value of dropped columns is 25\n"
     ]
    },
    {
     "name": "stderr",
     "output_type": "stream",
     "text": [
      "/Users/alexellard/opt/anaconda3/lib/python3.7/site-packages/xgboost/data.py:96: UserWarning: Use subset (sliced data) of np.ndarray is not recommended because it will generate extra copies and increase memory consumption\n",
      "  \"because it will generate extra copies and increase \" +\n"
     ]
    },
    {
     "name": "stdout",
     "output_type": "stream",
     "text": [
      "test y shape : (17520, 1)\n",
      "Inv y shape : (17520, 71)\n",
      "y pred shape : (17520, 1)\n",
      "inv y pred : (17520, 71)\n",
      "Run 1 Mean Absolute Error: 71.30797066444921\n",
      "RMSE: 92.480\n",
      "R^2: 0.996\n",
      "[['node_28_demand', 'node_5_pressure', 'node_19_demand', 'link_1_flow', 'link_28_flow', 'node_20_demand', 'node_2_pressure', 'reservoir_pressure', 'reservoir_demand', 'node_8_demand', 'node_29_pressure', 'node_12_pressure', 'link_25_flow', 'node_1_pressure', 'link_4_flow', 'node_26_pressure', 'node_4_pressure', 'link_15_flow', 'node_30_demand', 'link_16_flow', 'link_17_flow', 'node_14_demand', 'node_7_pressure', 'link_8_flow', 'node_11_demand']]\n",
      "starting df shape: (87600, 71)\n",
      "This is training run 2 and has the shape:  (87600, 71)\n",
      "The value of dropped columns is 25\n"
     ]
    },
    {
     "name": "stderr",
     "output_type": "stream",
     "text": [
      "/Users/alexellard/opt/anaconda3/lib/python3.7/site-packages/xgboost/data.py:96: UserWarning: Use subset (sliced data) of np.ndarray is not recommended because it will generate extra copies and increase memory consumption\n",
      "  \"because it will generate extra copies and increase \" +\n"
     ]
    },
    {
     "name": "stdout",
     "output_type": "stream",
     "text": [
      "test y shape : (17520, 1)\n",
      "Inv y shape : (17520, 71)\n",
      "y pred shape : (17520, 1)\n",
      "inv y pred : (17520, 71)\n",
      "Run 2 Mean Absolute Error: 7.714009338368496\n",
      "RMSE: 9.951\n",
      "R^2: 0.988\n",
      "[['node_30_pressure', 'link_10_flow', 'node_2_pressure', 'link_6_flow', 'node_20_demand', 'link_27_flow', 'node_27_demand', 'link_24_flow', 'node_10_demand', 'node_21_pressure', 'link_20_flow', 'node_25_pressure', 'node_4_demand', 'link_8_flow', 'link_3_flow', 'node_18_demand', 'node_29_demand', 'node_10_pressure', 'node_13_demand', 'link_1_flow', 'node_14_pressure', 'link_23_flow', 'node_11_demand', 'link_9_flow', 'node_8_demand']]\n",
      "starting df shape: (87600, 71)\n",
      "This is training run 3 and has the shape:  (87600, 71)\n",
      "The value of dropped columns is 25\n"
     ]
    },
    {
     "name": "stderr",
     "output_type": "stream",
     "text": [
      "/Users/alexellard/opt/anaconda3/lib/python3.7/site-packages/xgboost/data.py:96: UserWarning: Use subset (sliced data) of np.ndarray is not recommended because it will generate extra copies and increase memory consumption\n",
      "  \"because it will generate extra copies and increase \" +\n"
     ]
    },
    {
     "name": "stdout",
     "output_type": "stream",
     "text": [
      "test y shape : (17520, 1)\n",
      "Inv y shape : (17520, 71)\n",
      "y pred shape : (17520, 1)\n",
      "inv y pred : (17520, 71)\n",
      "Run 3 Mean Absolute Error: 42.8620273277786\n",
      "RMSE: 57.091\n",
      "R^2: 0.999\n",
      "[['link_27_flow', 'node_5_pressure', 'node_12_pressure', 'link_28_flow', 'node_31_demand', 'link_25_flow', 'node_20_demand', 'node_20_pressure', 'node_22_pressure', 'node_21_pressure', 'node_3_pressure', 'node_26_demand', 'node_24_pressure', 'node_25_pressure', 'node_19_demand', 'node_25_demand', 'node_23_pressure', 'node_8_demand', 'link_21_flow', 'node_11_pressure', 'node_15_demand', 'node_18_demand', 'link_6_flow', 'link_13_flow']]\n",
      "starting df shape: (87600, 72)\n",
      "This is training run 4 and has the shape:  (87600, 72)\n",
      "The value of dropped columns is 25\n"
     ]
    },
    {
     "name": "stderr",
     "output_type": "stream",
     "text": [
      "/Users/alexellard/opt/anaconda3/lib/python3.7/site-packages/xgboost/data.py:96: UserWarning: Use subset (sliced data) of np.ndarray is not recommended because it will generate extra copies and increase memory consumption\n",
      "  \"because it will generate extra copies and increase \" +\n"
     ]
    },
    {
     "name": "stdout",
     "output_type": "stream",
     "text": [
      "test y shape : (17520, 1)\n",
      "Inv y shape : (17520, 72)\n",
      "y pred shape : (17520, 1)\n",
      "inv y pred : (17520, 72)\n",
      "Run 4 Mean Absolute Error: 45.85725365870151\n",
      "RMSE: 60.956\n",
      "R^2: 0.998\n",
      "[['node_9_demand', 'node_14_pressure', 'node_31_pressure', 'node_28_pressure', 'reservoir_pressure', 'node_16_pressure', 'node_30_pressure', 'node_12_demand', 'node_26_demand', 'link_6_flow', 'node_7_pressure', 'node_12_pressure', 'link_12_flow', 'node_30_demand', 'link_3_flow', 'node_13_pressure', 'link_27_flow', 'node_23_demand', 'node_1_demand', 'node_8_pressure', 'link_25_flow', 'link_32_flow', 'node_11_demand', 'link_9_flow', 'node_10_pressure']]\n",
      "starting df shape: (87600, 71)\n",
      "This is training run 5 and has the shape:  (87600, 71)\n",
      "The value of dropped columns is 25\n"
     ]
    },
    {
     "name": "stderr",
     "output_type": "stream",
     "text": [
      "/Users/alexellard/opt/anaconda3/lib/python3.7/site-packages/xgboost/data.py:96: UserWarning: Use subset (sliced data) of np.ndarray is not recommended because it will generate extra copies and increase memory consumption\n",
      "  \"because it will generate extra copies and increase \" +\n"
     ]
    },
    {
     "name": "stdout",
     "output_type": "stream",
     "text": [
      "test y shape : (17520, 1)\n",
      "Inv y shape : (17520, 71)\n",
      "y pred shape : (17520, 1)\n",
      "inv y pred : (17520, 71)\n",
      "Run 5 Mean Absolute Error: 44.633044079716896\n",
      "RMSE: 59.538\n",
      "R^2: 0.998\n",
      "[['link_11_flow', 'node_30_pressure', 'node_25_pressure', 'node_17_pressure', 'node_5_demand', 'link_7_flow', 'node_12_demand', 'link_12_flow', 'link_1_flow', 'link_28_flow', 'link_20_flow', 'node_22_pressure', 'link_19_flow', 'node_8_demand', 'link_10_flow', 'link_27_flow', 'link_25_flow', 'node_11_demand', 'link_8_flow', 'link_18_flow', 'node_31_pressure', 'node_28_pressure', 'node_21_pressure', 'node_31_demand', 'node_14_demand']]\n",
      "starting df shape: (87600, 71)\n",
      "This is training run 6 and has the shape:  (87600, 71)\n",
      "The value of dropped columns is 25\n"
     ]
    },
    {
     "name": "stderr",
     "output_type": "stream",
     "text": [
      "/Users/alexellard/opt/anaconda3/lib/python3.7/site-packages/xgboost/data.py:96: UserWarning: Use subset (sliced data) of np.ndarray is not recommended because it will generate extra copies and increase memory consumption\n",
      "  \"because it will generate extra copies and increase \" +\n"
     ]
    },
    {
     "name": "stdout",
     "output_type": "stream",
     "text": [
      "test y shape : (17520, 1)\n",
      "Inv y shape : (17520, 71)\n",
      "y pred shape : (17520, 1)\n",
      "inv y pred : (17520, 71)\n",
      "Run 6 Mean Absolute Error: 48.646033298309995\n",
      "RMSE: 64.225\n",
      "R^2: 0.998\n",
      "[['link_5_flow', 'link_14_flow', 'node_27_pressure', 'link_17_flow', 'node_31_pressure', 'link_31_flow', 'node_4_pressure', 'node_7_demand', 'node_27_demand', 'link_25_flow', 'node_8_pressure', 'link_28_flow', 'node_13_pressure', 'node_30_pressure', 'node_19_demand', 'node_22_demand', 'node_23_demand', 'node_20_pressure', 'link_3_flow', 'link_26_flow', 'node_11_pressure', 'link_6_flow', 'node_17_demand', 'link_20_flow', 'node_31_demand']]\n",
      "starting df shape: (87600, 71)\n",
      "This is training run 7 and has the shape:  (87600, 71)\n",
      "The value of dropped columns is 25\n"
     ]
    },
    {
     "name": "stderr",
     "output_type": "stream",
     "text": [
      "/Users/alexellard/opt/anaconda3/lib/python3.7/site-packages/xgboost/data.py:96: UserWarning: Use subset (sliced data) of np.ndarray is not recommended because it will generate extra copies and increase memory consumption\n",
      "  \"because it will generate extra copies and increase \" +\n"
     ]
    },
    {
     "name": "stdout",
     "output_type": "stream",
     "text": [
      "test y shape : (17520, 1)\n",
      "Inv y shape : (17520, 71)\n",
      "y pred shape : (17520, 1)\n",
      "inv y pred : (17520, 71)\n",
      "Run 7 Mean Absolute Error: 47.669851076845354\n",
      "RMSE: 63.097\n",
      "R^2: 0.998\n",
      "[['link_19_flow', 'node_29_demand', 'link_15_flow', 'link_24_flow', 'link_12_flow', 'node_29_pressure', 'node_25_pressure', 'node_19_demand', 'node_1_pressure', 'link_20_flow', 'node_26_demand', 'node_3_demand', 'link_18_flow', 'link_16_flow', 'node_7_demand', 'node_30_demand', 'link_23_flow', 'node_17_demand', 'link_27_flow', 'link_22_flow', 'node_31_pressure', 'link_9_flow', 'link_3_flow', 'node_20_pressure', 'node_20_demand']]\n",
      "starting df shape: (87600, 71)\n",
      "This is training run 8 and has the shape:  (87600, 71)\n",
      "The value of dropped columns is 25\n"
     ]
    },
    {
     "name": "stderr",
     "output_type": "stream",
     "text": [
      "/Users/alexellard/opt/anaconda3/lib/python3.7/site-packages/xgboost/data.py:96: UserWarning: Use subset (sliced data) of np.ndarray is not recommended because it will generate extra copies and increase memory consumption\n",
      "  \"because it will generate extra copies and increase \" +\n"
     ]
    },
    {
     "name": "stdout",
     "output_type": "stream",
     "text": [
      "test y shape : (17520, 1)\n",
      "Inv y shape : (17520, 71)\n",
      "y pred shape : (17520, 1)\n",
      "inv y pred : (17520, 71)\n",
      "Run 8 Mean Absolute Error: 146.59582504729573\n",
      "RMSE: 191.222\n",
      "R^2: 0.984\n",
      "[['node_3_pressure', 'node_7_demand', 'link_32_flow', 'node_1_demand', 'link_16_flow', 'link_1_flow', 'node_28_pressure', 'link_27_flow', 'node_14_pressure', 'node_18_demand', 'node_13_pressure', 'node_18_pressure', 'node_17_demand', 'node_2_pressure', 'link_28_flow', 'link_29_flow', 'link_2_flow', 'node_19_demand', 'node_8_demand', 'node_10_demand', 'link_8_flow', 'node_5_pressure', 'link_22_flow', 'node_5_demand', 'node_24_pressure']]\n",
      "starting df shape: (87600, 71)\n",
      "This is training run 9 and has the shape:  (87600, 71)\n",
      "The value of dropped columns is 25\n"
     ]
    },
    {
     "name": "stderr",
     "output_type": "stream",
     "text": [
      "/Users/alexellard/opt/anaconda3/lib/python3.7/site-packages/xgboost/data.py:96: UserWarning: Use subset (sliced data) of np.ndarray is not recommended because it will generate extra copies and increase memory consumption\n",
      "  \"because it will generate extra copies and increase \" +\n"
     ]
    },
    {
     "name": "stdout",
     "output_type": "stream",
     "text": [
      "test y shape : (17520, 1)\n",
      "Inv y shape : (17520, 71)\n",
      "y pred shape : (17520, 1)\n",
      "inv y pred : (17520, 71)\n",
      "Run 9 Mean Absolute Error: 127.7618092631406\n",
      "RMSE: 167.003\n",
      "R^2: 0.988\n",
      "[['node_31_pressure', 'node_1_pressure', 'link_8_flow', 'link_21_flow', 'node_11_demand', 'node_19_pressure', 'node_11_pressure', 'link_27_flow', 'node_31_demand', 'node_20_demand', 'node_10_pressure', 'node_2_pressure', 'node_17_demand', 'link_6_flow', 'node_30_pressure', 'node_28_demand', 'node_24_demand', 'node_14_pressure', 'link_20_flow', 'node_7_demand', 'link_9_flow', 'link_4_flow', 'node_7_pressure', 'node_23_pressure', 'link_12_flow']]\n",
      "starting df shape: (87600, 71)\n",
      "This is training run 10 and has the shape:  (87600, 71)\n",
      "The value of dropped columns is 25\n"
     ]
    },
    {
     "name": "stderr",
     "output_type": "stream",
     "text": [
      "/Users/alexellard/opt/anaconda3/lib/python3.7/site-packages/xgboost/data.py:96: UserWarning: Use subset (sliced data) of np.ndarray is not recommended because it will generate extra copies and increase memory consumption\n",
      "  \"because it will generate extra copies and increase \" +\n"
     ]
    },
    {
     "name": "stdout",
     "output_type": "stream",
     "text": [
      "test y shape : (17520, 1)\n",
      "Inv y shape : (17520, 71)\n",
      "y pred shape : (17520, 1)\n",
      "inv y pred : (17520, 71)\n",
      "Run 10 Mean Absolute Error: 45.05994485414481\n",
      "RMSE: 59.703\n",
      "R^2: 0.998\n",
      "[['link_27_flow', 'link_19_flow', 'node_19_demand', 'node_2_demand', 'node_14_demand', 'node_30_demand', 'link_15_flow', 'node_27_demand', 'link_16_flow', 'link_18_flow', 'node_10_pressure', 'link_29_flow', 'link_10_flow', 'node_20_pressure', 'node_28_demand', 'node_13_demand', 'node_4_pressure', 'link_5_flow', 'node_21_pressure', 'node_11_demand', 'link_23_flow', 'link_25_flow', 'node_19_pressure', 'node_21_demand', 'link_7_flow', 'link_6_flow', 'link_21_flow', 'node_12_pressure', 'node_11_pressure', 'node_23_pressure']]\n",
      "starting df shape: (87600, 66)\n",
      "This is training run 1 and has the shape:  (87600, 66)\n",
      "The value of dropped columns is 30\n"
     ]
    },
    {
     "name": "stderr",
     "output_type": "stream",
     "text": [
      "/Users/alexellard/opt/anaconda3/lib/python3.7/site-packages/xgboost/data.py:96: UserWarning: Use subset (sliced data) of np.ndarray is not recommended because it will generate extra copies and increase memory consumption\n",
      "  \"because it will generate extra copies and increase \" +\n"
     ]
    },
    {
     "name": "stdout",
     "output_type": "stream",
     "text": [
      "test y shape : (17520, 1)\n",
      "Inv y shape : (17520, 66)\n",
      "y pred shape : (17520, 1)\n",
      "inv y pred : (17520, 66)\n",
      "Run 1 Mean Absolute Error: 125.38404672499504\n",
      "RMSE: 162.029\n",
      "R^2: 0.989\n",
      "[['node_13_demand', 'node_4_pressure', 'link_3_flow', 'node_27_pressure', 'link_24_flow', 'node_25_pressure', 'node_26_pressure', 'node_14_demand', 'node_15_demand', 'node_6_demand', 'node_22_demand', 'link_1_flow', 'link_6_flow', 'link_2_flow', 'node_1_pressure', 'link_11_flow', 'link_22_flow', 'link_14_flow', 'node_9_demand', 'node_30_pressure', 'node_28_pressure', 'node_23_pressure', 'link_27_flow', 'node_3_pressure', 'reservoir_pressure', 'node_17_pressure', 'link_15_flow', 'node_7_demand', 'node_19_demand']]\n",
      "starting df shape: (87600, 67)\n",
      "This is training run 2 and has the shape:  (87600, 67)\n",
      "The value of dropped columns is 30\n"
     ]
    },
    {
     "name": "stderr",
     "output_type": "stream",
     "text": [
      "/Users/alexellard/opt/anaconda3/lib/python3.7/site-packages/xgboost/data.py:96: UserWarning: Use subset (sliced data) of np.ndarray is not recommended because it will generate extra copies and increase memory consumption\n",
      "  \"because it will generate extra copies and increase \" +\n"
     ]
    },
    {
     "name": "stdout",
     "output_type": "stream",
     "text": [
      "test y shape : (17520, 1)\n",
      "Inv y shape : (17520, 67)\n",
      "y pred shape : (17520, 1)\n",
      "inv y pred : (17520, 67)\n",
      "Run 2 Mean Absolute Error: 82.38985872044408\n",
      "RMSE: 106.498\n",
      "R^2: 0.995\n",
      "[['link_16_flow', 'link_3_flow', 'link_22_flow', 'node_7_demand', 'node_21_demand', 'node_15_demand', 'node_18_pressure', 'node_1_demand', 'link_6_flow', 'node_2_pressure', 'link_7_flow', 'node_20_pressure', 'node_11_pressure', 'node_24_demand', 'node_9_pressure', 'node_14_pressure', 'link_23_flow', 'node_21_pressure', 'link_31_flow', 'node_22_pressure', 'node_23_pressure', 'link_11_flow', 'node_5_pressure', 'node_28_pressure', 'link_1_flow', 'link_12_flow', 'link_4_flow', 'node_25_pressure', 'node_30_demand', 'node_31_demand']]\n",
      "starting df shape: (87600, 66)\n",
      "This is training run 3 and has the shape:  (87600, 66)\n",
      "The value of dropped columns is 30\n"
     ]
    },
    {
     "name": "stderr",
     "output_type": "stream",
     "text": [
      "/Users/alexellard/opt/anaconda3/lib/python3.7/site-packages/xgboost/data.py:96: UserWarning: Use subset (sliced data) of np.ndarray is not recommended because it will generate extra copies and increase memory consumption\n",
      "  \"because it will generate extra copies and increase \" +\n"
     ]
    },
    {
     "name": "stdout",
     "output_type": "stream",
     "text": [
      "test y shape : (17520, 1)\n",
      "Inv y shape : (17520, 66)\n",
      "y pred shape : (17520, 1)\n",
      "inv y pred : (17520, 66)\n",
      "Run 3 Mean Absolute Error: 104.02304245870154\n",
      "RMSE: 135.871\n",
      "R^2: 0.992\n",
      "[['link_22_flow', 'node_30_demand', 'link_28_flow', 'node_23_pressure', 'node_25_demand', 'link_18_flow', 'link_29_flow', 'link_17_flow', 'link_12_flow', 'node_19_pressure', 'link_26_flow', 'node_24_demand', 'node_22_demand', 'link_2_flow', 'node_14_pressure', 'link_14_flow', 'node_18_demand', 'node_20_demand', 'node_28_pressure', 'node_17_demand', 'node_11_demand', 'node_20_pressure', 'node_26_pressure', 'node_29_demand', 'node_8_demand', 'node_30_pressure', 'link_1_flow', 'node_18_pressure', 'node_13_pressure', 'node_6_demand']]\n",
      "starting df shape: (87600, 66)\n",
      "This is training run 4 and has the shape:  (87600, 66)\n",
      "The value of dropped columns is 30\n"
     ]
    },
    {
     "name": "stderr",
     "output_type": "stream",
     "text": [
      "/Users/alexellard/opt/anaconda3/lib/python3.7/site-packages/xgboost/data.py:96: UserWarning: Use subset (sliced data) of np.ndarray is not recommended because it will generate extra copies and increase memory consumption\n",
      "  \"because it will generate extra copies and increase \" +\n"
     ]
    },
    {
     "name": "stdout",
     "output_type": "stream",
     "text": [
      "test y shape : (17520, 1)\n",
      "Inv y shape : (17520, 66)\n",
      "y pred shape : (17520, 1)\n",
      "inv y pred : (17520, 66)\n",
      "Run 4 Mean Absolute Error: 44.99502643666537\n",
      "RMSE: 59.287\n",
      "R^2: 0.998\n",
      "[['link_29_flow', 'link_13_flow', 'node_11_pressure', 'node_3_demand', 'link_19_flow', 'node_30_demand', 'node_15_demand', 'link_32_flow', 'node_31_pressure', 'node_9_demand', 'node_2_demand', 'node_13_demand', 'node_8_pressure', 'node_22_demand', 'link_18_flow', 'link_5_flow', 'link_10_flow', 'node_9_pressure', 'link_31_flow', 'node_23_pressure', 'link_27_flow', 'link_6_flow', 'node_29_demand', 'node_10_demand', 'node_4_pressure', 'node_14_demand', 'link_20_flow', 'node_21_demand', 'node_10_pressure', 'node_3_pressure']]\n",
      "starting df shape: (87600, 66)\n",
      "This is training run 5 and has the shape:  (87600, 66)\n",
      "The value of dropped columns is 30\n"
     ]
    },
    {
     "name": "stderr",
     "output_type": "stream",
     "text": [
      "/Users/alexellard/opt/anaconda3/lib/python3.7/site-packages/xgboost/data.py:96: UserWarning: Use subset (sliced data) of np.ndarray is not recommended because it will generate extra copies and increase memory consumption\n",
      "  \"because it will generate extra copies and increase \" +\n"
     ]
    },
    {
     "name": "stdout",
     "output_type": "stream",
     "text": [
      "test y shape : (17520, 1)\n",
      "Inv y shape : (17520, 66)\n",
      "y pred shape : (17520, 1)\n",
      "inv y pred : (17520, 66)\n",
      "Run 5 Mean Absolute Error: 44.558619176154494\n",
      "RMSE: 59.113\n",
      "R^2: 0.998\n",
      "[['node_20_demand', 'node_26_pressure', 'node_15_pressure', 'node_6_pressure', 'node_5_pressure', 'node_2_demand', 'node_10_pressure', 'node_17_pressure', 'node_27_demand', 'link_24_flow', 'link_18_flow', 'node_8_demand', 'node_3_demand', 'node_28_demand', 'node_26_demand', 'link_26_flow', 'node_13_pressure', 'node_1_pressure', 'link_10_flow', 'node_24_pressure', 'node_25_pressure', 'node_31_pressure', 'link_25_flow', 'link_3_flow', 'link_30_flow', 'node_11_pressure', 'link_31_flow', 'node_4_demand', 'link_19_flow', 'node_23_pressure']]\n",
      "starting df shape: (87600, 66)\n",
      "This is training run 6 and has the shape:  (87600, 66)\n",
      "The value of dropped columns is 30\n"
     ]
    },
    {
     "name": "stderr",
     "output_type": "stream",
     "text": [
      "/Users/alexellard/opt/anaconda3/lib/python3.7/site-packages/xgboost/data.py:96: UserWarning: Use subset (sliced data) of np.ndarray is not recommended because it will generate extra copies and increase memory consumption\n",
      "  \"because it will generate extra copies and increase \" +\n"
     ]
    },
    {
     "name": "stdout",
     "output_type": "stream",
     "text": [
      "test y shape : (17520, 1)\n",
      "Inv y shape : (17520, 66)\n",
      "y pred shape : (17520, 1)\n",
      "inv y pred : (17520, 66)\n",
      "Run 6 Mean Absolute Error: 45.78838545830695\n",
      "RMSE: 60.575\n",
      "R^2: 0.998\n",
      "[['node_27_pressure', 'node_7_demand', 'node_23_demand', 'node_3_demand', 'node_10_pressure', 'link_8_flow', 'link_22_flow', 'node_4_demand', 'link_24_flow', 'node_29_demand', 'node_4_pressure', 'node_28_demand', 'node_15_pressure', 'node_2_pressure', 'link_11_flow', 'node_23_pressure', 'link_20_flow', 'node_18_demand', 'node_11_pressure', 'node_21_demand', 'node_21_pressure', 'link_4_flow', 'node_6_demand', 'link_2_flow', 'link_19_flow', 'link_10_flow', 'node_17_demand', 'link_27_flow', 'link_16_flow']]\n",
      "starting df shape: (87600, 67)\n",
      "This is training run 7 and has the shape:  (87600, 67)\n",
      "The value of dropped columns is 30\n"
     ]
    },
    {
     "name": "stderr",
     "output_type": "stream",
     "text": [
      "/Users/alexellard/opt/anaconda3/lib/python3.7/site-packages/xgboost/data.py:96: UserWarning: Use subset (sliced data) of np.ndarray is not recommended because it will generate extra copies and increase memory consumption\n",
      "  \"because it will generate extra copies and increase \" +\n"
     ]
    },
    {
     "name": "stdout",
     "output_type": "stream",
     "text": [
      "test y shape : (17520, 1)\n",
      "Inv y shape : (17520, 67)\n",
      "y pred shape : (17520, 1)\n",
      "inv y pred : (17520, 67)\n",
      "Run 7 Mean Absolute Error: 127.50373668823565\n",
      "RMSE: 166.903\n",
      "R^2: 0.988\n",
      "[['node_10_demand', 'node_11_pressure', 'link_18_flow', 'link_1_flow', 'node_15_demand', 'node_4_demand', 'node_17_demand', 'link_6_flow', 'link_22_flow', 'node_1_demand', 'node_5_pressure', 'node_25_demand', 'node_18_pressure', 'node_13_demand', 'node_15_pressure', 'node_10_pressure', 'node_27_demand', 'node_2_pressure', 'node_27_pressure', 'link_20_flow', 'link_28_flow', 'node_7_demand', 'node_13_pressure', 'link_32_flow', 'node_11_demand', 'node_21_pressure', 'link_8_flow', 'node_20_demand', 'link_30_flow', 'link_5_flow']]\n",
      "starting df shape: (87600, 66)\n",
      "This is training run 8 and has the shape:  (87600, 66)\n",
      "The value of dropped columns is 30\n"
     ]
    },
    {
     "name": "stderr",
     "output_type": "stream",
     "text": [
      "/Users/alexellard/opt/anaconda3/lib/python3.7/site-packages/xgboost/data.py:96: UserWarning: Use subset (sliced data) of np.ndarray is not recommended because it will generate extra copies and increase memory consumption\n",
      "  \"because it will generate extra copies and increase \" +\n"
     ]
    },
    {
     "name": "stdout",
     "output_type": "stream",
     "text": [
      "test y shape : (17520, 1)\n",
      "Inv y shape : (17520, 66)\n",
      "y pred shape : (17520, 1)\n",
      "inv y pred : (17520, 66)\n",
      "Run 8 Mean Absolute Error: 45.11224443430298\n",
      "RMSE: 59.511\n",
      "R^2: 0.998\n",
      "[['node_10_pressure', 'node_13_demand', 'reservoir_pressure', 'node_10_demand', 'link_27_flow', 'link_17_flow', 'node_5_pressure', 'link_20_flow', 'node_25_demand', 'link_5_flow', 'node_21_demand', 'link_1_flow', 'node_31_demand', 'link_25_flow', 'node_20_demand', 'node_11_demand', 'node_8_demand', 'node_3_demand', 'link_12_flow', 'node_4_demand', 'link_16_flow', 'link_6_flow', 'link_9_flow', 'link_21_flow', 'node_19_demand', 'node_28_pressure', 'node_30_demand', 'node_16_pressure', 'link_32_flow', 'node_6_pressure']]\n",
      "starting df shape: (87600, 66)\n",
      "This is training run 9 and has the shape:  (87600, 66)\n",
      "The value of dropped columns is 30\n"
     ]
    },
    {
     "name": "stderr",
     "output_type": "stream",
     "text": [
      "/Users/alexellard/opt/anaconda3/lib/python3.7/site-packages/xgboost/data.py:96: UserWarning: Use subset (sliced data) of np.ndarray is not recommended because it will generate extra copies and increase memory consumption\n",
      "  \"because it will generate extra copies and increase \" +\n"
     ]
    },
    {
     "name": "stdout",
     "output_type": "stream",
     "text": [
      "test y shape : (17520, 1)\n",
      "Inv y shape : (17520, 66)\n",
      "y pred shape : (17520, 1)\n",
      "inv y pred : (17520, 66)\n",
      "Run 9 Mean Absolute Error: 108.64430138745934\n",
      "RMSE: 141.112\n",
      "R^2: 0.991\n",
      "[['link_10_flow', 'node_2_pressure', 'node_17_pressure', 'node_18_pressure', 'node_31_demand', 'reservoir_demand', 'node_28_pressure', 'link_11_flow', 'node_24_pressure', 'link_29_flow', 'node_4_demand', 'node_29_demand', 'link_14_flow', 'link_17_flow', 'link_31_flow', 'link_13_flow', 'link_27_flow', 'node_30_demand', 'node_19_pressure', 'link_7_flow', 'node_3_pressure', 'node_25_pressure', 'node_12_pressure', 'node_30_pressure', 'link_32_flow', 'link_1_flow', 'node_29_pressure', 'reservoir_pressure', 'node_19_demand', 'node_22_pressure']]\n",
      "starting df shape: (87600, 66)\n",
      "This is training run 10 and has the shape:  (87600, 66)\n",
      "The value of dropped columns is 30\n"
     ]
    },
    {
     "name": "stderr",
     "output_type": "stream",
     "text": [
      "/Users/alexellard/opt/anaconda3/lib/python3.7/site-packages/xgboost/data.py:96: UserWarning: Use subset (sliced data) of np.ndarray is not recommended because it will generate extra copies and increase memory consumption\n",
      "  \"because it will generate extra copies and increase \" +\n"
     ]
    },
    {
     "name": "stdout",
     "output_type": "stream",
     "text": [
      "test y shape : (17520, 1)\n",
      "Inv y shape : (17520, 66)\n",
      "y pred shape : (17520, 1)\n",
      "inv y pred : (17520, 66)\n",
      "Run 10 Mean Absolute Error: 2.728678016644615\n",
      "RMSE: 3.627\n",
      "R^2: 0.998\n",
      "[['node_15_pressure', 'node_2_pressure', 'node_26_pressure', 'link_18_flow', 'link_17_flow', 'node_5_demand', 'link_6_flow', 'node_27_pressure', 'node_30_pressure', 'reservoir_demand', 'node_10_pressure', 'link_4_flow', 'node_4_pressure', 'node_5_pressure', 'link_14_flow', 'link_32_flow', 'node_14_pressure', 'node_13_pressure', 'node_28_demand', 'node_28_pressure', 'node_9_pressure', 'link_25_flow', 'node_20_pressure', 'link_31_flow', 'link_11_flow', 'node_13_demand', 'link_20_flow', 'link_26_flow', 'node_16_pressure', 'node_18_demand', 'link_30_flow', 'link_29_flow', 'link_21_flow', 'link_22_flow', 'node_29_demand']]\n",
      "starting df shape: (87600, 61)\n",
      "This is training run 1 and has the shape:  (87600, 61)\n",
      "The value of dropped columns is 35\n"
     ]
    },
    {
     "name": "stderr",
     "output_type": "stream",
     "text": [
      "/Users/alexellard/opt/anaconda3/lib/python3.7/site-packages/xgboost/data.py:96: UserWarning: Use subset (sliced data) of np.ndarray is not recommended because it will generate extra copies and increase memory consumption\n",
      "  \"because it will generate extra copies and increase \" +\n"
     ]
    },
    {
     "name": "stdout",
     "output_type": "stream",
     "text": [
      "test y shape : (17520, 1)\n",
      "Inv y shape : (17520, 61)\n",
      "y pred shape : (17520, 1)\n",
      "inv y pred : (17520, 61)\n",
      "Run 1 Mean Absolute Error: 2.828341310005857\n",
      "RMSE: 3.753\n",
      "R^2: 0.998\n",
      "[['node_2_pressure', 'link_23_flow', 'link_1_flow', 'link_31_flow', 'node_29_pressure', 'node_1_pressure', 'node_5_pressure', 'link_17_flow', 'node_2_demand', 'link_28_flow', 'link_29_flow', 'node_11_pressure', 'link_21_flow', 'node_22_demand', 'node_30_demand', 'link_2_flow', 'link_26_flow', 'node_15_pressure', 'link_6_flow', 'node_31_pressure', 'node_4_demand', 'link_9_flow', 'node_31_demand', 'link_30_flow', 'node_17_demand', 'node_14_demand', 'node_22_pressure', 'node_12_demand', 'node_18_demand', 'node_25_pressure', 'link_32_flow', 'reservoir_demand', 'node_16_pressure', 'node_5_demand', 'link_27_flow']]\n",
      "starting df shape: (87600, 61)\n",
      "This is training run 2 and has the shape:  (87600, 61)\n",
      "The value of dropped columns is 35\n"
     ]
    },
    {
     "name": "stderr",
     "output_type": "stream",
     "text": [
      "/Users/alexellard/opt/anaconda3/lib/python3.7/site-packages/xgboost/data.py:96: UserWarning: Use subset (sliced data) of np.ndarray is not recommended because it will generate extra copies and increase memory consumption\n",
      "  \"because it will generate extra copies and increase \" +\n"
     ]
    },
    {
     "name": "stdout",
     "output_type": "stream",
     "text": [
      "test y shape : (17520, 1)\n",
      "Inv y shape : (17520, 61)\n",
      "y pred shape : (17520, 1)\n",
      "inv y pred : (17520, 61)\n",
      "Run 2 Mean Absolute Error: 2.690796753283783\n",
      "RMSE: 3.603\n",
      "R^2: 0.998\n",
      "[['node_25_pressure', 'node_11_demand', 'link_18_flow', 'node_2_demand', 'node_28_pressure', 'reservoir_pressure', 'node_25_demand', 'node_20_pressure', 'node_30_pressure', 'node_9_demand', 'node_16_pressure', 'node_23_demand', 'node_29_demand', 'link_25_flow', 'link_13_flow', 'link_17_flow', 'node_7_demand', 'link_23_flow', 'link_19_flow', 'node_8_pressure', 'node_21_demand', 'node_7_pressure', 'node_29_pressure', 'node_12_pressure', 'node_24_demand', 'node_19_pressure', 'node_15_demand', 'link_2_flow', 'node_27_demand', 'link_9_flow', 'link_21_flow', 'link_7_flow', 'node_13_pressure', 'node_23_pressure', 'link_8_flow']]\n",
      "starting df shape: (87600, 61)\n",
      "This is training run 3 and has the shape:  (87600, 61)\n",
      "The value of dropped columns is 35\n"
     ]
    },
    {
     "name": "stderr",
     "output_type": "stream",
     "text": [
      "/Users/alexellard/opt/anaconda3/lib/python3.7/site-packages/xgboost/data.py:96: UserWarning: Use subset (sliced data) of np.ndarray is not recommended because it will generate extra copies and increase memory consumption\n",
      "  \"because it will generate extra copies and increase \" +\n"
     ]
    },
    {
     "name": "stdout",
     "output_type": "stream",
     "text": [
      "test y shape : (17520, 1)\n",
      "Inv y shape : (17520, 61)\n",
      "y pred shape : (17520, 1)\n",
      "inv y pred : (17520, 61)\n",
      "Run 3 Mean Absolute Error: 43.079721306752965\n",
      "RMSE: 57.055\n",
      "R^2: 0.999\n",
      "[['node_24_demand', 'link_13_flow', 'link_10_flow', 'node_23_demand', 'link_2_flow', 'node_11_pressure', 'node_29_pressure', 'link_1_flow', 'node_10_pressure', 'link_7_flow', 'link_9_flow', 'node_5_demand', 'node_20_pressure', 'link_26_flow', 'node_7_demand', 'node_10_demand', 'link_4_flow', 'node_27_demand', 'node_20_demand', 'node_14_demand', 'node_30_pressure', 'node_18_pressure', 'node_26_pressure', 'node_21_pressure', 'node_31_pressure', 'link_32_flow', 'node_5_pressure', 'link_28_flow', 'link_23_flow', 'node_7_pressure', 'node_12_pressure', 'link_31_flow', 'link_5_flow', 'node_3_pressure', 'link_8_flow']]\n",
      "starting df shape: (87600, 61)\n",
      "This is training run 4 and has the shape:  (87600, 61)\n",
      "The value of dropped columns is 35\n"
     ]
    },
    {
     "name": "stderr",
     "output_type": "stream",
     "text": [
      "/Users/alexellard/opt/anaconda3/lib/python3.7/site-packages/xgboost/data.py:96: UserWarning: Use subset (sliced data) of np.ndarray is not recommended because it will generate extra copies and increase memory consumption\n",
      "  \"because it will generate extra copies and increase \" +\n"
     ]
    },
    {
     "name": "stdout",
     "output_type": "stream",
     "text": [
      "test y shape : (17520, 1)\n",
      "Inv y shape : (17520, 61)\n",
      "y pred shape : (17520, 1)\n",
      "inv y pred : (17520, 61)\n",
      "Run 4 Mean Absolute Error: 42.108893417082605\n",
      "RMSE: 56.197\n",
      "R^2: 0.999\n",
      "[['link_16_flow', 'node_16_pressure', 'link_12_flow', 'node_22_demand', 'link_19_flow', 'node_1_demand', 'node_24_demand', 'node_11_demand', 'link_2_flow', 'link_10_flow', 'link_18_flow', 'node_14_pressure', 'node_25_demand', 'node_27_pressure', 'node_8_pressure', 'node_29_pressure', 'node_15_pressure', 'node_6_pressure', 'node_19_pressure', 'link_5_flow', 'node_2_demand', 'link_3_flow', 'link_14_flow', 'node_12_demand', 'node_30_demand', 'link_4_flow', 'node_18_pressure', 'node_4_pressure', 'node_29_demand', 'node_21_demand', 'link_28_flow', 'node_5_pressure', 'link_26_flow', 'node_17_demand', 'node_27_demand']]\n",
      "starting df shape: (87600, 61)\n",
      "This is training run 5 and has the shape:  (87600, 61)\n",
      "The value of dropped columns is 35\n"
     ]
    },
    {
     "name": "stderr",
     "output_type": "stream",
     "text": [
      "/Users/alexellard/opt/anaconda3/lib/python3.7/site-packages/xgboost/data.py:96: UserWarning: Use subset (sliced data) of np.ndarray is not recommended because it will generate extra copies and increase memory consumption\n",
      "  \"because it will generate extra copies and increase \" +\n"
     ]
    },
    {
     "name": "stdout",
     "output_type": "stream",
     "text": [
      "test y shape : (17520, 1)\n",
      "Inv y shape : (17520, 61)\n",
      "y pred shape : (17520, 1)\n",
      "inv y pred : (17520, 61)\n",
      "Run 5 Mean Absolute Error: 131.9013426019154\n",
      "RMSE: 172.239\n",
      "R^2: 0.987\n",
      "[['link_13_flow', 'node_3_demand', 'link_28_flow', 'link_26_flow', 'link_9_flow', 'node_30_demand', 'node_15_demand', 'node_13_demand', 'node_10_demand', 'link_14_flow', 'link_21_flow', 'node_7_pressure', 'link_2_flow', 'link_16_flow', 'node_30_pressure', 'link_5_flow', 'reservoir_demand', 'node_21_demand', 'link_10_flow', 'node_24_pressure', 'node_7_demand', 'link_29_flow', 'node_18_pressure', 'node_1_pressure', 'node_29_pressure', 'node_28_demand', 'node_18_demand', 'node_24_demand', 'node_23_demand', 'link_17_flow', 'node_4_demand', 'node_27_demand', 'node_19_pressure', 'node_13_pressure']]\n",
      "starting df shape: (87600, 62)\n",
      "This is training run 6 and has the shape:  (87600, 62)\n",
      "The value of dropped columns is 35\n"
     ]
    },
    {
     "name": "stderr",
     "output_type": "stream",
     "text": [
      "/Users/alexellard/opt/anaconda3/lib/python3.7/site-packages/xgboost/data.py:96: UserWarning: Use subset (sliced data) of np.ndarray is not recommended because it will generate extra copies and increase memory consumption\n",
      "  \"because it will generate extra copies and increase \" +\n"
     ]
    },
    {
     "name": "stdout",
     "output_type": "stream",
     "text": [
      "test y shape : (17520, 1)\n",
      "Inv y shape : (17520, 62)\n",
      "y pred shape : (17520, 1)\n",
      "inv y pred : (17520, 62)\n",
      "Run 6 Mean Absolute Error: 6.399740909016357\n",
      "RMSE: 8.398\n",
      "R^2: 0.992\n",
      "[['link_25_flow', 'link_20_flow', 'link_18_flow', 'node_1_demand', 'link_28_flow', 'reservoir_pressure', 'node_3_demand', 'node_19_demand', 'link_13_flow', 'node_14_pressure', 'link_5_flow', 'link_12_flow', 'node_18_demand', 'link_24_flow', 'node_7_pressure', 'node_30_demand', 'node_1_pressure', 'node_27_pressure', 'link_6_flow', 'node_10_pressure', 'node_9_pressure', 'node_3_pressure', 'node_15_demand', 'node_12_demand', 'node_15_pressure', 'node_25_demand', 'node_13_pressure', 'node_28_pressure', 'link_9_flow', 'node_22_demand', 'node_16_pressure', 'node_2_demand', 'link_23_flow', 'link_17_flow']]\n",
      "starting df shape: (87600, 62)\n",
      "This is training run 7 and has the shape:  (87600, 62)\n",
      "The value of dropped columns is 35\n"
     ]
    },
    {
     "name": "stderr",
     "output_type": "stream",
     "text": [
      "/Users/alexellard/opt/anaconda3/lib/python3.7/site-packages/xgboost/data.py:96: UserWarning: Use subset (sliced data) of np.ndarray is not recommended because it will generate extra copies and increase memory consumption\n",
      "  \"because it will generate extra copies and increase \" +\n"
     ]
    },
    {
     "name": "stdout",
     "output_type": "stream",
     "text": [
      "test y shape : (17520, 1)\n",
      "Inv y shape : (17520, 62)\n",
      "y pred shape : (17520, 1)\n",
      "inv y pred : (17520, 62)\n",
      "Run 7 Mean Absolute Error: 46.59672935902803\n",
      "RMSE: 61.162\n",
      "R^2: 0.998\n",
      "[['link_23_flow', 'node_9_demand', 'link_18_flow', 'node_5_demand', 'node_29_pressure', 'link_17_flow', 'node_21_demand', 'link_7_flow', 'link_32_flow', 'node_3_demand', 'node_6_pressure', 'node_23_pressure', 'link_20_flow', 'node_14_demand', 'node_26_demand', 'node_29_demand', 'node_24_pressure', 'node_17_demand', 'link_16_flow', 'node_31_demand', 'node_13_pressure', 'node_18_demand', 'node_1_pressure', 'node_30_demand', 'node_21_pressure', 'link_19_flow', 'link_25_flow', 'link_15_flow', 'node_5_pressure', 'node_27_pressure', 'link_5_flow', 'link_21_flow', 'node_12_pressure', 'node_11_demand', 'link_9_flow']]\n",
      "starting df shape: (87600, 61)\n",
      "This is training run 8 and has the shape:  (87600, 61)\n",
      "The value of dropped columns is 35\n"
     ]
    },
    {
     "name": "stderr",
     "output_type": "stream",
     "text": [
      "/Users/alexellard/opt/anaconda3/lib/python3.7/site-packages/xgboost/data.py:96: UserWarning: Use subset (sliced data) of np.ndarray is not recommended because it will generate extra copies and increase memory consumption\n",
      "  \"because it will generate extra copies and increase \" +\n"
     ]
    },
    {
     "name": "stdout",
     "output_type": "stream",
     "text": [
      "test y shape : (17520, 1)\n",
      "Inv y shape : (17520, 61)\n",
      "y pred shape : (17520, 1)\n",
      "inv y pred : (17520, 61)\n",
      "Run 8 Mean Absolute Error: 144.0300505234489\n",
      "RMSE: 187.974\n",
      "R^2: 0.985\n",
      "[['reservoir_demand', 'node_24_pressure', 'node_17_demand', 'link_31_flow', 'link_4_flow', 'node_7_pressure', 'node_11_demand', 'node_29_demand', 'node_10_pressure', 'node_20_pressure', 'link_1_flow', 'link_25_flow', 'node_21_pressure', 'link_15_flow', 'node_6_pressure', 'link_6_flow', 'node_13_demand', 'link_19_flow', 'node_12_pressure', 'node_1_demand', 'node_27_pressure', 'node_23_pressure', 'node_25_pressure', 'node_19_pressure', 'node_18_pressure', 'link_14_flow', 'node_1_pressure', 'link_10_flow', 'node_2_pressure', 'link_17_flow', 'node_22_demand', 'node_9_pressure', 'node_10_demand', 'link_3_flow']]\n",
      "starting df shape: (87600, 62)\n",
      "This is training run 9 and has the shape:  (87600, 62)\n",
      "The value of dropped columns is 35\n"
     ]
    },
    {
     "name": "stderr",
     "output_type": "stream",
     "text": [
      "/Users/alexellard/opt/anaconda3/lib/python3.7/site-packages/xgboost/data.py:96: UserWarning: Use subset (sliced data) of np.ndarray is not recommended because it will generate extra copies and increase memory consumption\n",
      "  \"because it will generate extra copies and increase \" +\n"
     ]
    },
    {
     "name": "stdout",
     "output_type": "stream",
     "text": [
      "test y shape : (17520, 1)\n",
      "Inv y shape : (17520, 62)\n",
      "y pred shape : (17520, 1)\n",
      "inv y pred : (17520, 62)\n",
      "Run 9 Mean Absolute Error: 4.095821910395073\n",
      "RMSE: 5.316\n",
      "R^2: 0.996\n",
      "[['node_2_pressure', 'node_5_demand', 'link_21_flow', 'node_26_demand', 'node_16_pressure', 'node_11_demand', 'node_10_demand', 'node_27_pressure', 'node_26_pressure', 'link_31_flow', 'node_18_pressure', 'node_1_demand', 'node_12_pressure', 'link_2_flow', 'link_12_flow', 'node_12_demand', 'link_32_flow', 'node_13_demand', 'node_24_pressure', 'node_1_pressure', 'node_20_demand', 'reservoir_demand', 'node_31_pressure', 'reservoir_pressure', 'node_7_demand', 'link_9_flow', 'node_29_pressure', 'link_4_flow', 'node_11_pressure', 'node_7_pressure', 'node_23_demand', 'link_13_flow', 'node_17_demand', 'node_4_pressure']]\n",
      "starting df shape: (87600, 62)\n",
      "This is training run 10 and has the shape:  (87600, 62)\n",
      "The value of dropped columns is 35\n"
     ]
    },
    {
     "name": "stderr",
     "output_type": "stream",
     "text": [
      "/Users/alexellard/opt/anaconda3/lib/python3.7/site-packages/xgboost/data.py:96: UserWarning: Use subset (sliced data) of np.ndarray is not recommended because it will generate extra copies and increase memory consumption\n",
      "  \"because it will generate extra copies and increase \" +\n"
     ]
    },
    {
     "name": "stdout",
     "output_type": "stream",
     "text": [
      "test y shape : (17520, 1)\n",
      "Inv y shape : (17520, 62)\n",
      "y pred shape : (17520, 1)\n",
      "inv y pred : (17520, 62)\n",
      "Run 10 Mean Absolute Error: 2.5837955603769895\n",
      "RMSE: 3.413\n",
      "R^2: 0.998\n",
      "[['node_29_pressure', 'link_29_flow', 'node_15_pressure', 'node_1_demand', 'node_21_demand', 'link_16_flow', 'node_12_demand', 'node_14_demand', 'link_17_flow', 'link_3_flow', 'link_8_flow', 'node_26_pressure', 'link_6_flow', 'node_4_demand', 'node_12_pressure', 'link_14_flow', 'node_30_demand', 'reservoir_pressure', 'node_25_demand', 'link_32_flow', 'link_30_flow', 'node_13_pressure', 'link_31_flow', 'node_30_pressure', 'node_9_demand', 'link_28_flow', 'node_11_pressure', 'node_22_demand', 'link_27_flow', 'node_19_pressure', 'node_29_demand', 'link_22_flow', 'node_9_pressure', 'link_9_flow', 'link_20_flow', 'node_27_pressure', 'node_8_pressure', 'node_5_pressure', 'link_4_flow', 'link_11_flow']]\n",
      "starting df shape: (87600, 56)\n",
      "This is training run 1 and has the shape:  (87600, 56)\n",
      "The value of dropped columns is 40\n"
     ]
    },
    {
     "name": "stderr",
     "output_type": "stream",
     "text": [
      "/Users/alexellard/opt/anaconda3/lib/python3.7/site-packages/xgboost/data.py:96: UserWarning: Use subset (sliced data) of np.ndarray is not recommended because it will generate extra copies and increase memory consumption\n",
      "  \"because it will generate extra copies and increase \" +\n"
     ]
    },
    {
     "name": "stdout",
     "output_type": "stream",
     "text": [
      "test y shape : (17520, 1)\n",
      "Inv y shape : (17520, 56)\n",
      "y pred shape : (17520, 1)\n",
      "inv y pred : (17520, 56)\n",
      "Run 1 Mean Absolute Error: 103.5859297540294\n",
      "RMSE: 135.608\n",
      "R^2: 0.992\n",
      "[['node_18_demand', 'node_10_demand', 'link_28_flow', 'node_30_demand', 'node_3_pressure', 'node_27_pressure', 'node_26_pressure', 'node_23_pressure', 'node_21_pressure', 'node_31_pressure', 'node_29_demand', 'node_19_demand', 'link_25_flow', 'link_21_flow', 'link_4_flow', 'reservoir_demand', 'link_15_flow', 'node_28_demand', 'reservoir_pressure', 'node_27_demand', 'node_13_demand', 'link_13_flow', 'link_23_flow', 'link_11_flow', 'node_18_pressure', 'node_16_pressure', 'link_22_flow', 'node_5_pressure', 'link_5_flow', 'link_18_flow', 'node_12_demand', 'link_30_flow', 'link_17_flow', 'node_30_pressure', 'node_1_demand', 'node_25_pressure', 'node_15_demand', 'node_1_pressure', 'link_29_flow', 'link_7_flow']]\n",
      "starting df shape: (87600, 56)\n",
      "This is training run 2 and has the shape:  (87600, 56)\n",
      "The value of dropped columns is 40\n"
     ]
    },
    {
     "name": "stderr",
     "output_type": "stream",
     "text": [
      "/Users/alexellard/opt/anaconda3/lib/python3.7/site-packages/xgboost/data.py:96: UserWarning: Use subset (sliced data) of np.ndarray is not recommended because it will generate extra copies and increase memory consumption\n",
      "  \"because it will generate extra copies and increase \" +\n"
     ]
    },
    {
     "name": "stdout",
     "output_type": "stream",
     "text": [
      "test y shape : (17520, 1)\n",
      "Inv y shape : (17520, 56)\n",
      "y pred shape : (17520, 1)\n",
      "inv y pred : (17520, 56)\n",
      "Run 2 Mean Absolute Error: 4.4264708791749605\n",
      "RMSE: 5.681\n",
      "R^2: 0.995\n",
      "[['node_16_pressure', 'link_3_flow', 'node_19_pressure', 'node_4_demand', 'node_14_pressure', 'link_8_flow', 'node_13_pressure', 'link_20_flow', 'link_27_flow', 'link_9_flow', 'node_9_pressure', 'node_22_pressure', 'node_20_demand', 'node_10_pressure', 'link_13_flow', 'link_21_flow', 'node_17_pressure', 'node_11_pressure', 'node_31_demand', 'node_24_demand', 'link_31_flow', 'link_15_flow', 'node_30_pressure', 'link_5_flow', 'node_28_pressure', 'node_15_pressure', 'node_2_demand', 'node_29_pressure', 'node_4_pressure', 'node_23_pressure', 'node_23_demand', 'link_1_flow', 'link_17_flow', 'link_14_flow', 'node_12_pressure', 'link_24_flow', 'link_6_flow', 'node_6_demand', 'link_25_flow', 'link_22_flow']]\n",
      "starting df shape: (87600, 56)\n",
      "This is training run 3 and has the shape:  (87600, 56)\n",
      "The value of dropped columns is 40\n"
     ]
    },
    {
     "name": "stderr",
     "output_type": "stream",
     "text": [
      "/Users/alexellard/opt/anaconda3/lib/python3.7/site-packages/xgboost/data.py:96: UserWarning: Use subset (sliced data) of np.ndarray is not recommended because it will generate extra copies and increase memory consumption\n",
      "  \"because it will generate extra copies and increase \" +\n"
     ]
    },
    {
     "name": "stdout",
     "output_type": "stream",
     "text": [
      "test y shape : (17520, 1)\n",
      "Inv y shape : (17520, 56)\n",
      "y pred shape : (17520, 1)\n",
      "inv y pred : (17520, 56)\n",
      "Run 3 Mean Absolute Error: 77.56026764762564\n",
      "RMSE: 101.522\n",
      "R^2: 0.996\n",
      "[['node_30_pressure', 'link_17_flow', 'node_21_demand', 'link_19_flow', 'node_5_pressure', 'node_20_demand', 'node_23_pressure', 'link_10_flow', 'reservoir_demand', 'node_19_pressure', 'node_2_demand', 'node_24_pressure', 'node_10_pressure', 'node_29_pressure', 'link_6_flow', 'node_18_pressure', 'node_26_demand', 'node_12_pressure', 'node_8_demand', 'node_11_pressure', 'node_16_pressure', 'node_7_pressure', 'node_27_demand', 'node_30_demand', 'node_15_pressure', 'node_1_demand', 'node_14_demand', 'link_1_flow', 'link_16_flow', 'node_13_demand', 'node_29_demand', 'node_22_demand', 'link_7_flow', 'link_3_flow', 'link_27_flow', 'node_28_demand', 'node_4_demand', 'node_18_demand', 'node_17_pressure', 'link_11_flow']]\n",
      "starting df shape: (87600, 56)\n",
      "This is training run 4 and has the shape:  (87600, 56)\n",
      "The value of dropped columns is 40\n"
     ]
    },
    {
     "name": "stderr",
     "output_type": "stream",
     "text": [
      "/Users/alexellard/opt/anaconda3/lib/python3.7/site-packages/xgboost/data.py:96: UserWarning: Use subset (sliced data) of np.ndarray is not recommended because it will generate extra copies and increase memory consumption\n",
      "  \"because it will generate extra copies and increase \" +\n"
     ]
    },
    {
     "name": "stdout",
     "output_type": "stream",
     "text": [
      "test y shape : (17520, 1)\n",
      "Inv y shape : (17520, 56)\n",
      "y pred shape : (17520, 1)\n",
      "inv y pred : (17520, 56)\n",
      "Run 4 Mean Absolute Error: 0.9601367713008268\n",
      "RMSE: 1.249\n",
      "R^2: 0.991\n",
      "[['node_31_demand', 'node_9_pressure', 'link_7_flow', 'node_6_demand', 'link_2_flow', 'node_1_demand', 'node_20_pressure', 'node_24_demand', 'link_4_flow', 'node_29_pressure', 'node_22_pressure', 'link_14_flow', 'node_20_demand', 'link_8_flow', 'node_17_demand', 'node_21_demand', 'node_5_pressure', 'node_6_pressure', 'node_8_pressure', 'node_21_pressure', 'node_13_pressure', 'link_19_flow', 'node_7_pressure', 'link_12_flow', 'node_13_demand', 'link_5_flow', 'reservoir_pressure', 'link_31_flow', 'node_10_pressure', 'link_16_flow', 'reservoir_demand', 'node_15_demand', 'node_27_demand', 'node_29_demand', 'node_4_pressure', 'node_23_demand', 'node_14_pressure', 'node_25_pressure', 'node_9_demand']]\n",
      "starting df shape: (87600, 57)\n",
      "This is training run 5 and has the shape:  (87600, 57)\n",
      "The value of dropped columns is 40\n"
     ]
    },
    {
     "name": "stderr",
     "output_type": "stream",
     "text": [
      "/Users/alexellard/opt/anaconda3/lib/python3.7/site-packages/xgboost/data.py:96: UserWarning: Use subset (sliced data) of np.ndarray is not recommended because it will generate extra copies and increase memory consumption\n",
      "  \"because it will generate extra copies and increase \" +\n"
     ]
    },
    {
     "name": "stdout",
     "output_type": "stream",
     "text": [
      "test y shape : (17520, 1)\n",
      "Inv y shape : (17520, 57)\n",
      "y pred shape : (17520, 1)\n",
      "inv y pred : (17520, 57)\n",
      "Run 5 Mean Absolute Error: 7.083435583133079\n",
      "RMSE: 9.239\n",
      "R^2: 0.987\n",
      "[['node_22_pressure', 'node_28_demand', 'link_23_flow', 'node_14_demand', 'node_4_pressure', 'link_27_flow', 'node_30_pressure', 'node_15_pressure', 'node_14_pressure', 'link_5_flow', 'link_21_flow', 'link_11_flow', 'link_17_flow', 'node_9_pressure', 'link_1_flow', 'link_20_flow', 'node_19_pressure', 'node_18_demand', 'link_31_flow', 'link_15_flow', 'node_20_pressure', 'node_19_demand', 'link_22_flow', 'node_9_demand', 'node_26_demand', 'node_17_pressure', 'link_16_flow', 'link_25_flow', 'node_3_demand', 'node_13_demand', 'node_15_demand', 'link_8_flow', 'node_21_demand', 'reservoir_demand', 'link_19_flow', 'node_12_demand', 'node_18_pressure', 'node_4_demand', 'node_10_demand', 'link_2_flow']]\n",
      "starting df shape: (87600, 56)\n",
      "This is training run 6 and has the shape:  (87600, 56)\n",
      "The value of dropped columns is 40\n"
     ]
    },
    {
     "name": "stderr",
     "output_type": "stream",
     "text": [
      "/Users/alexellard/opt/anaconda3/lib/python3.7/site-packages/xgboost/data.py:96: UserWarning: Use subset (sliced data) of np.ndarray is not recommended because it will generate extra copies and increase memory consumption\n",
      "  \"because it will generate extra copies and increase \" +\n"
     ]
    },
    {
     "name": "stdout",
     "output_type": "stream",
     "text": [
      "test y shape : (17520, 1)\n",
      "Inv y shape : (17520, 56)\n",
      "y pred shape : (17520, 1)\n",
      "inv y pred : (17520, 56)\n",
      "Run 6 Mean Absolute Error: 7.958231478843147\n",
      "RMSE: 10.238\n",
      "R^2: 0.988\n",
      "[['node_9_pressure', 'link_4_flow', 'node_15_pressure', 'node_26_pressure', 'node_12_pressure', 'node_27_pressure', 'node_27_demand', 'link_31_flow', 'link_23_flow', 'node_3_demand', 'node_23_pressure', 'link_24_flow', 'node_30_demand', 'node_22_demand', 'link_12_flow', 'node_17_demand', 'node_6_demand', 'node_23_demand', 'node_1_pressure', 'node_3_pressure', 'link_3_flow', 'node_15_demand', 'node_5_pressure', 'node_25_pressure', 'node_14_pressure', 'link_7_flow', 'node_7_demand', 'node_13_pressure', 'node_11_demand', 'link_18_flow', 'reservoir_demand', 'node_10_pressure', 'node_16_pressure', 'link_13_flow', 'link_8_flow', 'node_26_demand', 'link_9_flow', 'node_9_demand', 'link_11_flow']]\n",
      "starting df shape: (87600, 57)\n",
      "This is training run 7 and has the shape:  (87600, 57)\n",
      "The value of dropped columns is 40\n"
     ]
    },
    {
     "name": "stderr",
     "output_type": "stream",
     "text": [
      "/Users/alexellard/opt/anaconda3/lib/python3.7/site-packages/xgboost/data.py:96: UserWarning: Use subset (sliced data) of np.ndarray is not recommended because it will generate extra copies and increase memory consumption\n",
      "  \"because it will generate extra copies and increase \" +\n"
     ]
    },
    {
     "name": "stdout",
     "output_type": "stream",
     "text": [
      "test y shape : (17520, 1)\n",
      "Inv y shape : (17520, 57)\n",
      "y pred shape : (17520, 1)\n",
      "inv y pred : (17520, 57)\n",
      "Run 7 Mean Absolute Error: 2.724661357413953\n",
      "RMSE: 3.619\n",
      "R^2: 0.998\n",
      "[['node_11_demand', 'link_28_flow', 'link_8_flow', 'node_29_demand', 'link_30_flow', 'node_4_demand', 'node_23_demand', 'node_27_pressure', 'link_26_flow', 'link_2_flow', 'node_24_pressure', 'node_18_pressure', 'link_22_flow', 'link_13_flow', 'node_22_pressure', 'node_31_pressure', 'node_16_pressure', 'node_18_demand', 'link_19_flow', 'node_13_demand', 'node_7_pressure', 'link_21_flow', 'node_6_pressure', 'node_19_pressure', 'node_20_demand', 'node_12_pressure', 'node_12_demand', 'link_16_flow', 'node_28_demand', 'node_13_pressure', 'link_23_flow', 'link_3_flow', 'link_31_flow', 'link_32_flow', 'link_6_flow', 'node_25_pressure', 'node_8_demand', 'link_9_flow', 'link_12_flow']]\n",
      "starting df shape: (87600, 57)\n",
      "This is training run 8 and has the shape:  (87600, 57)\n",
      "The value of dropped columns is 40\n"
     ]
    },
    {
     "name": "stderr",
     "output_type": "stream",
     "text": [
      "/Users/alexellard/opt/anaconda3/lib/python3.7/site-packages/xgboost/data.py:96: UserWarning: Use subset (sliced data) of np.ndarray is not recommended because it will generate extra copies and increase memory consumption\n",
      "  \"because it will generate extra copies and increase \" +\n"
     ]
    },
    {
     "name": "stdout",
     "output_type": "stream",
     "text": [
      "test y shape : (17520, 1)\n",
      "Inv y shape : (17520, 57)\n",
      "y pred shape : (17520, 1)\n",
      "inv y pred : (17520, 57)\n",
      "Run 8 Mean Absolute Error: 106.3103615221033\n",
      "RMSE: 138.727\n",
      "R^2: 0.992\n",
      "[['node_22_demand', 'node_28_pressure', 'node_2_pressure', 'node_15_demand', 'node_18_pressure', 'node_4_pressure', 'link_10_flow', 'node_14_pressure', 'node_24_demand', 'node_8_demand', 'node_28_demand', 'node_19_pressure', 'link_22_flow', 'reservoir_demand', 'link_21_flow', 'node_25_pressure', 'link_19_flow', 'link_2_flow', 'link_3_flow', 'node_21_pressure', 'link_18_flow', 'node_17_pressure', 'node_3_demand', 'link_26_flow', 'node_8_pressure', 'node_20_demand', 'node_31_demand', 'node_21_demand', 'link_12_flow', 'link_17_flow', 'node_26_pressure', 'node_6_demand', 'node_7_demand', 'node_14_demand', 'node_9_pressure', 'node_10_pressure', 'node_5_pressure', 'link_20_flow', 'node_2_demand']]\n",
      "starting df shape: (87600, 57)\n",
      "This is training run 9 and has the shape:  (87600, 57)\n",
      "The value of dropped columns is 40\n"
     ]
    },
    {
     "name": "stderr",
     "output_type": "stream",
     "text": [
      "/Users/alexellard/opt/anaconda3/lib/python3.7/site-packages/xgboost/data.py:96: UserWarning: Use subset (sliced data) of np.ndarray is not recommended because it will generate extra copies and increase memory consumption\n",
      "  \"because it will generate extra copies and increase \" +\n"
     ]
    },
    {
     "name": "stdout",
     "output_type": "stream",
     "text": [
      "test y shape : (17520, 1)\n",
      "Inv y shape : (17520, 57)\n",
      "y pred shape : (17520, 1)\n",
      "inv y pred : (17520, 57)\n",
      "Run 9 Mean Absolute Error: 2.9318006924314846\n",
      "RMSE: 3.889\n",
      "R^2: 0.998\n",
      "[['link_9_flow', 'node_5_pressure', 'node_19_pressure', 'node_14_pressure', 'node_26_pressure', 'node_4_pressure', 'node_12_demand', 'link_15_flow', 'link_23_flow', 'node_29_demand', 'link_2_flow', 'link_22_flow', 'node_11_demand', 'node_30_pressure', 'node_13_pressure', 'link_11_flow', 'node_20_demand', 'node_9_demand', 'node_6_demand', 'node_31_pressure', 'node_28_demand', 'node_12_pressure', 'node_18_demand', 'node_21_demand', 'link_17_flow', 'link_27_flow', 'link_12_flow', 'node_13_demand', 'node_21_pressure', 'link_5_flow', 'node_25_pressure', 'link_8_flow', 'node_15_pressure', 'node_24_pressure', 'link_24_flow', 'link_4_flow', 'node_29_pressure', 'link_6_flow', 'node_10_demand', 'node_28_pressure']]\n",
      "starting df shape: (87600, 56)\n",
      "This is training run 10 and has the shape:  (87600, 56)\n",
      "The value of dropped columns is 40\n"
     ]
    },
    {
     "name": "stderr",
     "output_type": "stream",
     "text": [
      "/Users/alexellard/opt/anaconda3/lib/python3.7/site-packages/xgboost/data.py:96: UserWarning: Use subset (sliced data) of np.ndarray is not recommended because it will generate extra copies and increase memory consumption\n",
      "  \"because it will generate extra copies and increase \" +\n"
     ]
    },
    {
     "name": "stdout",
     "output_type": "stream",
     "text": [
      "test y shape : (17520, 1)\n",
      "Inv y shape : (17520, 56)\n",
      "y pred shape : (17520, 1)\n",
      "inv y pred : (17520, 56)\n",
      "Run 10 Mean Absolute Error: 71.07814290211134\n",
      "RMSE: 92.156\n",
      "R^2: 0.996\n",
      "[['node_21_demand', 'node_24_demand', 'link_16_flow', 'node_11_demand', 'node_25_pressure', 'node_30_pressure', 'node_30_demand', 'link_19_flow', 'link_30_flow', 'node_17_demand', 'node_8_pressure', 'node_19_pressure', 'node_28_demand', 'node_4_pressure', 'link_22_flow', 'node_26_pressure', 'link_9_flow', 'node_20_demand', 'link_29_flow', 'node_14_pressure', 'node_7_demand', 'node_1_demand', 'node_5_demand', 'node_21_pressure', 'link_4_flow', 'node_6_demand', 'node_23_pressure', 'node_13_pressure', 'node_24_pressure', 'node_31_pressure', 'link_2_flow', 'node_8_demand', 'link_27_flow', 'node_29_pressure', 'link_18_flow', 'node_9_pressure', 'node_15_demand', 'node_18_demand', 'node_14_demand', 'node_12_pressure', 'link_28_flow', 'link_5_flow', 'node_22_pressure', 'node_10_demand', 'node_31_demand']]\n",
      "starting df shape: (87600, 51)\n",
      "This is training run 1 and has the shape:  (87600, 51)\n",
      "The value of dropped columns is 45\n"
     ]
    },
    {
     "name": "stderr",
     "output_type": "stream",
     "text": [
      "/Users/alexellard/opt/anaconda3/lib/python3.7/site-packages/xgboost/data.py:96: UserWarning: Use subset (sliced data) of np.ndarray is not recommended because it will generate extra copies and increase memory consumption\n",
      "  \"because it will generate extra copies and increase \" +\n"
     ]
    },
    {
     "name": "stdout",
     "output_type": "stream",
     "text": [
      "test y shape : (17520, 1)\n",
      "Inv y shape : (17520, 51)\n",
      "y pred shape : (17520, 1)\n",
      "inv y pred : (17520, 51)\n",
      "Run 1 Mean Absolute Error: 127.05413466817213\n",
      "RMSE: 166.434\n",
      "R^2: 0.988\n",
      "[['link_12_flow', 'node_31_pressure', 'link_23_flow', 'link_32_flow', 'link_26_flow', 'link_29_flow', 'link_13_flow', 'node_11_demand', 'node_6_demand', 'node_29_pressure', 'node_14_pressure', 'link_19_flow', 'node_3_demand', 'link_30_flow', 'node_5_demand', 'node_27_pressure', 'node_21_demand', 'reservoir_pressure', 'node_8_pressure', 'node_11_pressure', 'node_28_demand', 'node_24_demand', 'node_6_pressure', 'node_31_demand', 'link_8_flow', 'link_27_flow', 'node_2_demand', 'node_7_pressure', 'node_12_pressure', 'node_25_pressure', 'node_4_demand', 'node_22_demand', 'node_18_demand', 'node_25_demand', 'link_20_flow', 'link_14_flow', 'node_30_pressure', 'node_17_pressure', 'link_28_flow', 'node_4_pressure', 'node_14_demand', 'node_8_demand', 'node_29_demand', 'link_3_flow']]\n",
      "starting df shape: (87600, 52)\n",
      "This is training run 2 and has the shape:  (87600, 52)\n",
      "The value of dropped columns is 45\n"
     ]
    },
    {
     "name": "stderr",
     "output_type": "stream",
     "text": [
      "/Users/alexellard/opt/anaconda3/lib/python3.7/site-packages/xgboost/data.py:96: UserWarning: Use subset (sliced data) of np.ndarray is not recommended because it will generate extra copies and increase memory consumption\n",
      "  \"because it will generate extra copies and increase \" +\n"
     ]
    },
    {
     "name": "stdout",
     "output_type": "stream",
     "text": [
      "test y shape : (17520, 1)\n",
      "Inv y shape : (17520, 52)\n",
      "y pred shape : (17520, 1)\n",
      "inv y pred : (17520, 52)\n",
      "Run 2 Mean Absolute Error: 48.22118082222681\n",
      "RMSE: 63.813\n",
      "R^2: 0.998\n",
      "[['link_27_flow', 'node_12_demand', 'node_23_demand', 'node_17_demand', 'link_6_flow', 'link_17_flow', 'node_29_demand', 'node_18_pressure', 'node_13_pressure', 'link_28_flow', 'reservoir_pressure', 'node_22_demand', 'node_4_pressure', 'node_31_demand', 'node_9_demand', 'node_25_pressure', 'link_3_flow', 'node_9_pressure', 'node_31_pressure', 'node_19_demand', 'link_11_flow', 'node_10_demand', 'node_29_pressure', 'node_17_pressure', 'reservoir_demand', 'node_15_demand', 'node_6_pressure', 'node_3_pressure', 'node_14_demand', 'node_28_demand', 'node_2_pressure', 'node_26_pressure', 'node_4_demand', 'node_20_demand', 'node_15_pressure', 'link_23_flow', 'node_24_pressure', 'link_29_flow', 'link_21_flow', 'link_30_flow', 'link_1_flow', 'link_4_flow', 'link_26_flow', 'node_26_demand', 'node_6_demand']]\n",
      "starting df shape: (87600, 51)\n",
      "This is training run 3 and has the shape:  (87600, 51)\n",
      "The value of dropped columns is 45\n"
     ]
    },
    {
     "name": "stderr",
     "output_type": "stream",
     "text": [
      "/Users/alexellard/opt/anaconda3/lib/python3.7/site-packages/xgboost/data.py:96: UserWarning: Use subset (sliced data) of np.ndarray is not recommended because it will generate extra copies and increase memory consumption\n",
      "  \"because it will generate extra copies and increase \" +\n"
     ]
    },
    {
     "name": "stdout",
     "output_type": "stream",
     "text": [
      "test y shape : (17520, 1)\n",
      "Inv y shape : (17520, 51)\n",
      "y pred shape : (17520, 1)\n",
      "inv y pred : (17520, 51)\n",
      "Run 3 Mean Absolute Error: 2.997783745636349\n",
      "RMSE: 3.970\n",
      "R^2: 0.998\n",
      "[['node_2_pressure', 'link_3_flow', 'link_8_flow', 'node_30_pressure', 'link_27_flow', 'node_15_pressure', 'link_29_flow', 'link_30_flow', 'node_26_pressure', 'node_19_pressure', 'node_5_demand', 'link_19_flow', 'node_24_pressure', 'link_1_flow', 'node_28_pressure', 'link_5_flow', 'node_20_demand', 'node_17_demand', 'node_11_pressure', 'link_2_flow', 'node_8_pressure', 'node_22_demand', 'node_21_demand', 'node_11_demand', 'node_2_demand', 'node_7_demand', 'link_15_flow', 'link_16_flow', 'link_12_flow', 'node_17_pressure', 'reservoir_pressure', 'link_10_flow', 'link_7_flow', 'node_14_pressure', 'node_9_demand', 'link_11_flow', 'node_6_pressure', 'node_25_pressure', 'node_13_pressure', 'node_18_demand', 'node_6_demand', 'node_10_demand', 'link_9_flow', 'node_24_demand']]\n",
      "starting df shape: (87600, 52)\n",
      "This is training run 4 and has the shape:  (87600, 52)\n",
      "The value of dropped columns is 45\n"
     ]
    },
    {
     "name": "stderr",
     "output_type": "stream",
     "text": [
      "/Users/alexellard/opt/anaconda3/lib/python3.7/site-packages/xgboost/data.py:96: UserWarning: Use subset (sliced data) of np.ndarray is not recommended because it will generate extra copies and increase memory consumption\n",
      "  \"because it will generate extra copies and increase \" +\n"
     ]
    },
    {
     "name": "stdout",
     "output_type": "stream",
     "text": [
      "test y shape : (17520, 1)\n",
      "Inv y shape : (17520, 52)\n",
      "y pred shape : (17520, 1)\n",
      "inv y pred : (17520, 52)\n",
      "Run 4 Mean Absolute Error: 150.3613385843553\n",
      "RMSE: 196.005\n",
      "R^2: 0.983\n",
      "[['link_14_flow', 'link_11_flow', 'link_22_flow', 'node_4_demand', 'node_3_demand', 'link_23_flow', 'node_29_pressure', 'node_27_pressure', 'node_1_pressure', 'node_19_pressure', 'link_27_flow', 'link_4_flow', 'node_30_pressure', 'node_12_demand', 'node_21_demand', 'node_12_pressure', 'link_1_flow', 'link_24_flow', 'reservoir_demand', 'node_7_pressure', 'link_25_flow', 'node_2_pressure', 'node_22_demand', 'node_16_pressure', 'node_10_pressure', 'node_30_demand', 'link_5_flow', 'link_7_flow', 'node_25_demand', 'link_10_flow', 'link_17_flow', 'node_10_demand', 'node_14_demand', 'node_5_pressure', 'node_28_demand', 'node_6_demand', 'link_18_flow', 'node_8_demand', 'node_4_pressure', 'node_15_pressure', 'link_3_flow', 'link_12_flow', 'node_5_demand', 'node_11_demand', 'node_29_demand']]\n",
      "starting df shape: (87600, 51)\n",
      "This is training run 5 and has the shape:  (87600, 51)\n",
      "The value of dropped columns is 45\n"
     ]
    },
    {
     "name": "stderr",
     "output_type": "stream",
     "text": [
      "/Users/alexellard/opt/anaconda3/lib/python3.7/site-packages/xgboost/data.py:96: UserWarning: Use subset (sliced data) of np.ndarray is not recommended because it will generate extra copies and increase memory consumption\n",
      "  \"because it will generate extra copies and increase \" +\n"
     ]
    },
    {
     "name": "stdout",
     "output_type": "stream",
     "text": [
      "test y shape : (17520, 1)\n",
      "Inv y shape : (17520, 51)\n",
      "y pred shape : (17520, 1)\n",
      "inv y pred : (17520, 51)\n",
      "Run 5 Mean Absolute Error: 2.769848644267399\n",
      "RMSE: 3.692\n",
      "R^2: 0.998\n",
      "[['link_4_flow', 'link_1_flow', 'node_23_demand', 'node_18_pressure', 'link_10_flow', 'node_13_pressure', 'node_31_demand', 'node_23_pressure', 'node_30_pressure', 'node_24_pressure', 'link_27_flow', 'node_2_pressure', 'node_19_pressure', 'link_26_flow', 'node_17_pressure', 'link_25_flow', 'node_10_pressure', 'node_15_pressure', 'node_11_pressure', 'link_21_flow', 'node_3_pressure', 'node_4_demand', 'link_24_flow', 'link_3_flow', 'node_20_demand', 'node_21_pressure', 'node_26_demand', 'link_14_flow', 'node_20_pressure', 'node_27_demand', 'node_7_demand', 'node_1_pressure', 'link_6_flow', 'node_21_demand', 'node_25_demand', 'node_18_demand', 'node_1_demand', 'node_19_demand', 'node_4_pressure', 'node_13_demand', 'link_5_flow', 'node_12_demand', 'node_8_demand', 'node_31_pressure']]\n",
      "starting df shape: (87600, 52)\n",
      "This is training run 6 and has the shape:  (87600, 52)\n",
      "The value of dropped columns is 45\n"
     ]
    },
    {
     "name": "stderr",
     "output_type": "stream",
     "text": [
      "/Users/alexellard/opt/anaconda3/lib/python3.7/site-packages/xgboost/data.py:96: UserWarning: Use subset (sliced data) of np.ndarray is not recommended because it will generate extra copies and increase memory consumption\n",
      "  \"because it will generate extra copies and increase \" +\n"
     ]
    },
    {
     "name": "stdout",
     "output_type": "stream",
     "text": [
      "test y shape : (17520, 1)\n",
      "Inv y shape : (17520, 52)\n",
      "y pred shape : (17520, 1)\n",
      "inv y pred : (17520, 52)\n",
      "Run 6 Mean Absolute Error: 47.14160659854\n",
      "RMSE: 62.561\n",
      "R^2: 0.998\n",
      "[['node_18_demand', 'link_4_flow', 'node_23_demand', 'link_2_flow', 'node_3_pressure', 'link_32_flow', 'node_3_demand', 'link_20_flow', 'node_6_pressure', 'node_7_pressure', 'node_13_demand', 'link_6_flow', 'link_30_flow', 'node_29_demand', 'node_9_pressure', 'link_28_flow', 'node_15_pressure', 'node_16_pressure', 'node_25_demand', 'node_23_pressure', 'link_15_flow', 'link_23_flow', 'link_13_flow', 'node_25_pressure', 'node_14_demand', 'link_12_flow', 'link_5_flow', 'link_3_flow', 'node_26_demand', 'node_11_pressure', 'node_8_pressure', 'node_5_pressure', 'link_21_flow', 'reservoir_pressure', 'node_13_pressure', 'link_25_flow', 'link_22_flow', 'node_24_demand', 'node_15_demand', 'link_11_flow', 'node_21_demand', 'reservoir_demand', 'node_12_pressure', 'node_6_demand', 'node_28_pressure']]\n",
      "starting df shape: (87600, 51)\n",
      "This is training run 7 and has the shape:  (87600, 51)\n",
      "The value of dropped columns is 45\n"
     ]
    },
    {
     "name": "stderr",
     "output_type": "stream",
     "text": [
      "/Users/alexellard/opt/anaconda3/lib/python3.7/site-packages/xgboost/data.py:96: UserWarning: Use subset (sliced data) of np.ndarray is not recommended because it will generate extra copies and increase memory consumption\n",
      "  \"because it will generate extra copies and increase \" +\n"
     ]
    },
    {
     "name": "stdout",
     "output_type": "stream",
     "text": [
      "test y shape : (17520, 1)\n",
      "Inv y shape : (17520, 51)\n",
      "y pred shape : (17520, 1)\n",
      "inv y pred : (17520, 51)\n",
      "Run 7 Mean Absolute Error: 4.888608500794155\n",
      "RMSE: 6.338\n",
      "R^2: 0.995\n",
      "[['node_9_pressure', 'node_1_pressure', 'node_7_pressure', 'node_31_demand', 'node_19_pressure', 'node_2_pressure', 'link_19_flow', 'link_16_flow', 'node_27_demand', 'link_31_flow', 'node_4_demand', 'link_4_flow', 'node_26_pressure', 'link_30_flow', 'link_10_flow', 'node_5_demand', 'link_12_flow', 'node_8_pressure', 'link_32_flow', 'link_15_flow', 'node_21_pressure', 'link_18_flow', 'link_14_flow', 'node_17_demand', 'link_21_flow', 'node_6_demand', 'node_6_pressure', 'node_28_pressure', 'node_3_demand', 'node_14_pressure', 'node_12_pressure', 'link_3_flow', 'node_23_pressure', 'node_2_demand', 'node_21_demand', 'link_6_flow', 'node_15_demand', 'node_20_demand', 'node_16_pressure', 'node_18_pressure', 'node_31_pressure', 'node_30_pressure', 'node_11_pressure', 'node_25_pressure', 'node_4_pressure']]\n",
      "starting df shape: (87600, 51)\n",
      "This is training run 8 and has the shape:  (87600, 51)\n",
      "The value of dropped columns is 45\n"
     ]
    },
    {
     "name": "stderr",
     "output_type": "stream",
     "text": [
      "/Users/alexellard/opt/anaconda3/lib/python3.7/site-packages/xgboost/data.py:96: UserWarning: Use subset (sliced data) of np.ndarray is not recommended because it will generate extra copies and increase memory consumption\n",
      "  \"because it will generate extra copies and increase \" +\n"
     ]
    },
    {
     "name": "stdout",
     "output_type": "stream",
     "text": [
      "test y shape : (17520, 1)\n",
      "Inv y shape : (17520, 51)\n",
      "y pred shape : (17520, 1)\n",
      "inv y pred : (17520, 51)\n",
      "Run 8 Mean Absolute Error: 163.83721310036\n",
      "RMSE: 212.584\n",
      "R^2: 0.980\n",
      "[['node_24_demand', 'link_24_flow', 'node_14_demand', 'link_26_flow', 'node_6_pressure', 'node_13_demand', 'node_31_pressure', 'link_5_flow', 'link_14_flow', 'node_22_pressure', 'node_19_demand', 'link_31_flow', 'node_13_pressure', 'link_27_flow', 'node_10_pressure', 'node_21_pressure', 'node_28_demand', 'link_28_flow', 'link_17_flow', 'link_23_flow', 'node_19_pressure', 'node_21_demand', 'reservoir_pressure', 'link_22_flow', 'node_24_pressure', 'link_3_flow', 'node_30_pressure', 'node_2_demand', 'link_12_flow', 'link_25_flow', 'node_3_pressure', 'node_7_demand', 'node_27_demand', 'link_32_flow', 'node_4_pressure', 'node_18_demand', 'node_31_demand', 'node_4_demand', 'node_11_demand', 'link_20_flow', 'node_23_pressure', 'link_8_flow', 'node_17_pressure', 'link_29_flow', 'node_29_demand']]\n",
      "starting df shape: (87600, 51)\n",
      "This is training run 9 and has the shape:  (87600, 51)\n",
      "The value of dropped columns is 45\n"
     ]
    },
    {
     "name": "stderr",
     "output_type": "stream",
     "text": [
      "/Users/alexellard/opt/anaconda3/lib/python3.7/site-packages/xgboost/data.py:96: UserWarning: Use subset (sliced data) of np.ndarray is not recommended because it will generate extra copies and increase memory consumption\n",
      "  \"because it will generate extra copies and increase \" +\n"
     ]
    },
    {
     "name": "stdout",
     "output_type": "stream",
     "text": [
      "test y shape : (17520, 1)\n",
      "Inv y shape : (17520, 51)\n",
      "y pred shape : (17520, 1)\n",
      "inv y pred : (17520, 51)\n",
      "Run 9 Mean Absolute Error: 46.786307955607406\n",
      "RMSE: 61.750\n",
      "R^2: 0.998\n",
      "[['node_22_demand', 'link_17_flow', 'node_4_pressure', 'link_12_flow', 'link_9_flow', 'link_29_flow', 'link_2_flow', 'node_5_demand', 'node_31_demand', 'link_31_flow', 'link_3_flow', 'node_21_pressure', 'node_26_demand', 'node_8_pressure', 'node_23_pressure', 'node_28_pressure', 'node_20_demand', 'node_18_demand', 'node_6_pressure', 'node_3_demand', 'link_18_flow', 'node_19_pressure', 'link_6_flow', 'node_13_demand', 'node_14_pressure', 'node_8_demand', 'link_26_flow', 'link_8_flow', 'link_22_flow', 'link_23_flow', 'link_25_flow', 'link_19_flow', 'node_9_pressure', 'node_24_pressure', 'link_32_flow', 'link_28_flow', 'link_5_flow', 'node_30_pressure', 'node_1_pressure', 'link_21_flow', 'node_14_demand', 'node_13_pressure', 'node_17_demand', 'reservoir_pressure', 'node_11_pressure']]\n",
      "starting df shape: (87600, 51)\n",
      "This is training run 10 and has the shape:  (87600, 51)\n",
      "The value of dropped columns is 45\n"
     ]
    },
    {
     "name": "stderr",
     "output_type": "stream",
     "text": [
      "/Users/alexellard/opt/anaconda3/lib/python3.7/site-packages/xgboost/data.py:96: UserWarning: Use subset (sliced data) of np.ndarray is not recommended because it will generate extra copies and increase memory consumption\n",
      "  \"because it will generate extra copies and increase \" +\n"
     ]
    },
    {
     "name": "stdout",
     "output_type": "stream",
     "text": [
      "test y shape : (17520, 1)\n",
      "Inv y shape : (17520, 51)\n",
      "y pred shape : (17520, 1)\n",
      "inv y pred : (17520, 51)\n",
      "Run 10 Mean Absolute Error: 44.582734536868045\n",
      "RMSE: 58.845\n",
      "R^2: 0.998\n",
      "[['node_25_demand', 'node_12_demand', 'node_27_demand', 'link_2_flow', 'link_16_flow', 'node_17_pressure', 'link_5_flow', 'node_8_pressure', 'reservoir_pressure', 'link_13_flow', 'link_6_flow', 'node_25_pressure', 'node_10_demand', 'node_24_pressure', 'node_22_pressure', 'node_11_pressure', 'node_6_pressure', 'link_3_flow', 'link_29_flow', 'link_26_flow', 'node_24_demand', 'node_20_pressure', 'link_28_flow', 'node_2_pressure', 'link_9_flow', 'node_20_demand', 'node_26_pressure', 'node_29_pressure', 'node_30_demand', 'node_16_pressure', 'node_4_demand', 'node_27_pressure', 'link_8_flow', 'node_1_demand', 'node_21_pressure', 'node_2_demand', 'node_8_demand', 'node_1_pressure', 'link_18_flow', 'node_3_pressure', 'node_23_pressure', 'link_10_flow', 'node_23_demand', 'node_22_demand', 'link_4_flow', 'link_1_flow', 'link_7_flow', 'node_18_pressure', 'link_14_flow', 'link_30_flow']]\n",
      "starting df shape: (87600, 46)\n",
      "This is training run 1 and has the shape:  (87600, 46)\n",
      "The value of dropped columns is 50\n"
     ]
    },
    {
     "name": "stderr",
     "output_type": "stream",
     "text": [
      "/Users/alexellard/opt/anaconda3/lib/python3.7/site-packages/xgboost/data.py:96: UserWarning: Use subset (sliced data) of np.ndarray is not recommended because it will generate extra copies and increase memory consumption\n",
      "  \"because it will generate extra copies and increase \" +\n"
     ]
    },
    {
     "name": "stdout",
     "output_type": "stream",
     "text": [
      "test y shape : (17520, 1)\n",
      "Inv y shape : (17520, 46)\n",
      "y pred shape : (17520, 1)\n",
      "inv y pred : (17520, 46)\n",
      "Run 1 Mean Absolute Error: 107.04476215251353\n",
      "RMSE: 139.647\n",
      "R^2: 0.992\n",
      "[['node_3_pressure', 'node_10_pressure', 'link_30_flow', 'node_5_pressure', 'link_24_flow', 'reservoir_pressure', 'link_12_flow', 'link_28_flow', 'node_2_pressure', 'link_3_flow', 'link_16_flow', 'link_9_flow', 'node_18_demand', 'link_6_flow', 'node_13_demand', 'link_26_flow', 'node_31_pressure', 'node_14_pressure', 'link_13_flow', 'link_18_flow', 'link_10_flow', 'node_11_pressure', 'node_1_demand', 'node_2_demand', 'link_21_flow', 'node_17_pressure', 'node_23_pressure', 'node_24_demand', 'node_24_pressure', 'link_29_flow', 'link_15_flow', 'node_31_demand', 'node_12_demand', 'link_23_flow', 'node_22_pressure', 'node_27_demand', 'node_4_demand', 'node_5_demand', 'node_29_demand', 'link_7_flow', 'link_17_flow', 'node_11_demand', 'link_19_flow', 'node_8_demand', 'node_18_pressure', 'link_14_flow', 'node_19_pressure', 'node_26_demand', 'node_6_demand']]\n",
      "starting df shape: (87600, 47)\n",
      "This is training run 2 and has the shape:  (87600, 47)\n",
      "The value of dropped columns is 50\n"
     ]
    },
    {
     "name": "stderr",
     "output_type": "stream",
     "text": [
      "/Users/alexellard/opt/anaconda3/lib/python3.7/site-packages/xgboost/data.py:96: UserWarning: Use subset (sliced data) of np.ndarray is not recommended because it will generate extra copies and increase memory consumption\n",
      "  \"because it will generate extra copies and increase \" +\n"
     ]
    },
    {
     "name": "stdout",
     "output_type": "stream",
     "text": [
      "test y shape : (17520, 1)\n",
      "Inv y shape : (17520, 47)\n",
      "y pred shape : (17520, 1)\n",
      "inv y pred : (17520, 47)\n",
      "Run 2 Mean Absolute Error: 166.1360327968233\n",
      "RMSE: 217.016\n",
      "R^2: 0.979\n",
      "[['node_9_pressure', 'node_4_demand', 'node_3_demand', 'link_20_flow', 'link_27_flow', 'link_29_flow', 'node_22_demand', 'link_25_flow', 'node_1_demand', 'node_31_demand', 'link_21_flow', 'node_25_pressure', 'link_8_flow', 'link_23_flow', 'node_13_pressure', 'link_7_flow', 'node_5_demand', 'node_19_demand', 'node_21_demand', 'link_11_flow', 'node_11_demand', 'link_4_flow', 'node_8_pressure', 'node_23_demand', 'link_32_flow', 'link_12_flow', 'node_6_pressure', 'node_31_pressure', 'node_23_pressure', 'node_2_pressure', 'link_30_flow', 'node_13_demand', 'node_24_demand', 'node_26_pressure', 'link_13_flow', 'node_18_pressure', 'link_19_flow', 'node_29_pressure', 'link_24_flow', 'link_28_flow', 'node_1_pressure', 'node_27_pressure', 'node_22_pressure', 'link_18_flow', 'link_1_flow', 'link_5_flow', 'node_24_pressure', 'node_14_demand', 'node_19_pressure']]\n",
      "starting df shape: (87600, 47)\n",
      "This is training run 3 and has the shape:  (87600, 47)\n",
      "The value of dropped columns is 50\n"
     ]
    },
    {
     "name": "stderr",
     "output_type": "stream",
     "text": [
      "/Users/alexellard/opt/anaconda3/lib/python3.7/site-packages/xgboost/data.py:96: UserWarning: Use subset (sliced data) of np.ndarray is not recommended because it will generate extra copies and increase memory consumption\n",
      "  \"because it will generate extra copies and increase \" +\n"
     ]
    },
    {
     "name": "stdout",
     "output_type": "stream",
     "text": [
      "test y shape : (17520, 1)\n",
      "Inv y shape : (17520, 47)\n",
      "y pred shape : (17520, 1)\n",
      "inv y pred : (17520, 47)\n",
      "Run 3 Mean Absolute Error: 47.29255387898525\n",
      "RMSE: 62.381\n",
      "R^2: 0.998\n",
      "[['node_8_pressure', 'link_9_flow', 'node_29_pressure', 'link_25_flow', 'link_31_flow', 'link_11_flow', 'node_19_demand', 'link_6_flow', 'node_6_pressure', 'node_27_demand', 'link_29_flow', 'node_7_demand', 'node_24_demand', 'node_9_pressure', 'node_26_pressure', 'node_4_pressure', 'link_21_flow', 'link_3_flow', 'node_29_demand', 'node_30_pressure', 'link_28_flow', 'link_27_flow', 'node_5_demand', 'node_16_pressure', 'node_13_pressure', 'link_13_flow', 'node_11_demand', 'node_1_demand', 'link_24_flow', 'node_3_pressure', 'link_32_flow', 'node_12_pressure', 'node_24_pressure', 'node_11_pressure', 'node_27_pressure', 'node_28_pressure', 'node_31_demand', 'link_10_flow', 'node_3_demand', 'node_8_demand', 'link_4_flow', 'node_28_demand', 'node_19_pressure', 'node_23_demand', 'link_22_flow', 'node_22_pressure', 'node_23_pressure', 'link_7_flow', 'link_1_flow', 'reservoir_pressure']]\n",
      "starting df shape: (87600, 46)\n",
      "This is training run 4 and has the shape:  (87600, 46)\n",
      "The value of dropped columns is 50\n"
     ]
    },
    {
     "name": "stderr",
     "output_type": "stream",
     "text": [
      "/Users/alexellard/opt/anaconda3/lib/python3.7/site-packages/xgboost/data.py:96: UserWarning: Use subset (sliced data) of np.ndarray is not recommended because it will generate extra copies and increase memory consumption\n",
      "  \"because it will generate extra copies and increase \" +\n"
     ]
    },
    {
     "name": "stdout",
     "output_type": "stream",
     "text": [
      "test y shape : (17520, 1)\n",
      "Inv y shape : (17520, 46)\n",
      "y pred shape : (17520, 1)\n",
      "inv y pred : (17520, 46)\n",
      "Run 4 Mean Absolute Error: 44.498447343159995\n",
      "RMSE: 59.171\n",
      "R^2: 0.998\n",
      "[['node_16_pressure', 'node_8_pressure', 'link_2_flow', 'node_15_pressure', 'link_15_flow', 'node_11_demand', 'node_29_pressure', 'node_13_demand', 'node_5_pressure', 'node_5_demand', 'node_12_demand', 'node_3_pressure', 'node_21_pressure', 'node_19_pressure', 'link_17_flow', 'reservoir_demand', 'node_7_pressure', 'node_17_pressure', 'link_23_flow', 'link_4_flow', 'node_23_demand', 'link_14_flow', 'node_9_pressure', 'node_2_demand', 'link_22_flow', 'reservoir_pressure', 'link_21_flow', 'node_19_demand', 'node_24_demand', 'link_16_flow', 'node_23_pressure', 'node_26_pressure', 'link_29_flow', 'node_20_pressure', 'node_6_pressure', 'node_10_pressure', 'node_28_demand', 'node_14_pressure', 'node_12_pressure', 'node_28_pressure', 'node_22_demand', 'node_18_demand', 'node_30_demand', 'node_8_demand', 'link_25_flow', 'node_13_pressure', 'link_26_flow', 'link_6_flow', 'node_4_pressure', 'node_25_pressure']]\n",
      "starting df shape: (87600, 46)\n",
      "This is training run 5 and has the shape:  (87600, 46)\n",
      "The value of dropped columns is 50\n"
     ]
    },
    {
     "name": "stderr",
     "output_type": "stream",
     "text": [
      "/Users/alexellard/opt/anaconda3/lib/python3.7/site-packages/xgboost/data.py:96: UserWarning: Use subset (sliced data) of np.ndarray is not recommended because it will generate extra copies and increase memory consumption\n",
      "  \"because it will generate extra copies and increase \" +\n"
     ]
    },
    {
     "name": "stdout",
     "output_type": "stream",
     "text": [
      "test y shape : (17520, 1)\n",
      "Inv y shape : (17520, 46)\n",
      "y pred shape : (17520, 1)\n",
      "inv y pred : (17520, 46)\n",
      "Run 5 Mean Absolute Error: 8.646558247684345\n",
      "RMSE: 11.116\n",
      "R^2: 0.986\n",
      "[['link_7_flow', 'node_2_demand', 'node_19_demand', 'link_24_flow', 'link_2_flow', 'node_4_demand', 'node_28_pressure', 'node_13_demand', 'link_4_flow', 'link_25_flow', 'node_9_demand', 'node_12_pressure', 'link_10_flow', 'link_5_flow', 'node_9_pressure', 'node_20_pressure', 'node_7_demand', 'reservoir_pressure', 'node_23_demand', 'link_22_flow', 'link_31_flow', 'node_16_pressure', 'link_3_flow', 'node_3_pressure', 'node_14_demand', 'link_32_flow', 'reservoir_demand', 'node_3_demand', 'node_19_pressure', 'node_12_demand', 'link_9_flow', 'node_2_pressure', 'node_1_demand', 'link_21_flow', 'node_22_demand', 'node_31_pressure', 'link_30_flow', 'node_17_pressure', 'node_30_demand', 'node_24_pressure', 'link_29_flow', 'node_5_demand', 'link_23_flow', 'node_18_demand', 'node_11_pressure', 'link_11_flow', 'node_20_demand', 'node_29_demand', 'link_16_flow']]\n",
      "starting df shape: (87600, 47)\n",
      "This is training run 6 and has the shape:  (87600, 47)\n",
      "The value of dropped columns is 50\n"
     ]
    },
    {
     "name": "stderr",
     "output_type": "stream",
     "text": [
      "/Users/alexellard/opt/anaconda3/lib/python3.7/site-packages/xgboost/data.py:96: UserWarning: Use subset (sliced data) of np.ndarray is not recommended because it will generate extra copies and increase memory consumption\n",
      "  \"because it will generate extra copies and increase \" +\n"
     ]
    },
    {
     "name": "stdout",
     "output_type": "stream",
     "text": [
      "test y shape : (17520, 1)\n",
      "Inv y shape : (17520, 47)\n",
      "y pred shape : (17520, 1)\n",
      "inv y pred : (17520, 47)\n",
      "Run 6 Mean Absolute Error: 9.49879131797004\n",
      "RMSE: 12.374\n",
      "R^2: 0.992\n",
      "[['node_8_pressure', 'node_13_demand', 'node_15_demand', 'link_1_flow', 'node_4_pressure', 'node_23_pressure', 'link_30_flow', 'link_17_flow', 'node_10_demand', 'node_28_pressure', 'node_20_demand', 'node_24_pressure', 'link_8_flow', 'node_11_demand', 'link_9_flow', 'node_11_pressure', 'node_6_demand', 'link_19_flow', 'node_22_pressure', 'node_10_pressure', 'link_26_flow', 'link_20_flow', 'node_30_pressure', 'link_18_flow', 'node_17_pressure', 'link_23_flow', 'link_29_flow', 'link_25_flow', 'node_7_pressure', 'node_12_pressure', 'node_3_pressure', 'node_19_demand', 'node_31_demand', 'link_7_flow', 'node_7_demand', 'node_13_pressure', 'link_31_flow', 'node_2_demand', 'node_25_pressure', 'link_21_flow', 'node_3_demand', 'node_9_pressure', 'node_5_pressure', 'node_24_demand', 'node_23_demand', 'node_18_pressure', 'node_5_demand', 'node_26_pressure', 'node_14_pressure']]\n",
      "starting df shape: (87600, 47)\n",
      "This is training run 7 and has the shape:  (87600, 47)\n",
      "The value of dropped columns is 50\n"
     ]
    },
    {
     "name": "stderr",
     "output_type": "stream",
     "text": [
      "/Users/alexellard/opt/anaconda3/lib/python3.7/site-packages/xgboost/data.py:96: UserWarning: Use subset (sliced data) of np.ndarray is not recommended because it will generate extra copies and increase memory consumption\n",
      "  \"because it will generate extra copies and increase \" +\n"
     ]
    },
    {
     "name": "stdout",
     "output_type": "stream",
     "text": [
      "test y shape : (17520, 1)\n",
      "Inv y shape : (17520, 47)\n",
      "y pred shape : (17520, 1)\n",
      "inv y pred : (17520, 47)\n",
      "Run 7 Mean Absolute Error: 47.90741173665379\n",
      "RMSE: 63.306\n",
      "R^2: 0.998\n",
      "[['node_28_demand', 'link_7_flow', 'link_23_flow', 'link_17_flow', 'node_10_demand', 'node_24_pressure', 'node_19_pressure', 'node_13_pressure', 'node_22_pressure', 'link_27_flow', 'link_32_flow', 'node_29_pressure', 'link_26_flow', 'node_12_pressure', 'node_21_demand', 'node_18_demand', 'node_30_demand', 'link_2_flow', 'node_11_demand', 'node_5_pressure', 'node_26_demand', 'node_20_pressure', 'link_18_flow', 'node_31_demand', 'node_8_pressure', 'node_27_demand', 'link_16_flow', 'link_9_flow', 'reservoir_pressure', 'link_13_flow', 'reservoir_demand', 'link_5_flow', 'node_7_pressure', 'link_14_flow', 'node_28_pressure', 'node_30_pressure', 'node_24_demand', 'node_25_pressure', 'node_6_demand', 'node_18_pressure', 'node_4_demand', 'link_8_flow', 'node_2_pressure', 'link_11_flow', 'node_8_demand', 'node_1_demand', 'link_3_flow', 'node_3_pressure', 'link_31_flow', 'node_14_demand']]\n",
      "starting df shape: (87600, 46)\n",
      "This is training run 8 and has the shape:  (87600, 46)\n",
      "The value of dropped columns is 50\n"
     ]
    },
    {
     "name": "stderr",
     "output_type": "stream",
     "text": [
      "/Users/alexellard/opt/anaconda3/lib/python3.7/site-packages/xgboost/data.py:96: UserWarning: Use subset (sliced data) of np.ndarray is not recommended because it will generate extra copies and increase memory consumption\n",
      "  \"because it will generate extra copies and increase \" +\n"
     ]
    },
    {
     "name": "stdout",
     "output_type": "stream",
     "text": [
      "test y shape : (17520, 1)\n",
      "Inv y shape : (17520, 46)\n",
      "y pred shape : (17520, 1)\n",
      "inv y pred : (17520, 46)\n",
      "Run 8 Mean Absolute Error: 6.127515687331933\n",
      "RMSE: 8.026\n",
      "R^2: 0.991\n",
      "[['node_31_demand', 'link_5_flow', 'node_8_pressure', 'link_22_flow', 'node_1_demand', 'reservoir_demand', 'node_20_demand', 'node_25_demand', 'link_6_flow', 'node_5_pressure', 'node_2_pressure', 'node_30_pressure', 'node_26_pressure', 'link_3_flow', 'link_9_flow', 'node_5_demand', 'node_22_pressure', 'node_16_pressure', 'node_27_pressure', 'link_26_flow', 'link_31_flow', 'link_25_flow', 'node_3_pressure', 'node_9_pressure', 'node_17_demand', 'node_10_pressure', 'node_12_pressure', 'link_28_flow', 'node_4_demand', 'link_15_flow', 'node_26_demand', 'node_8_demand', 'link_11_flow', 'node_27_demand', 'link_14_flow', 'node_1_pressure', 'node_29_pressure', 'node_19_demand', 'reservoir_pressure', 'node_18_pressure', 'link_19_flow', 'link_29_flow', 'node_12_demand', 'link_17_flow', 'node_14_demand', 'link_10_flow', 'node_23_demand', 'node_15_pressure', 'node_19_pressure', 'node_14_pressure']]\n",
      "starting df shape: (87600, 46)\n",
      "This is training run 9 and has the shape:  (87600, 46)\n",
      "The value of dropped columns is 50\n"
     ]
    },
    {
     "name": "stderr",
     "output_type": "stream",
     "text": [
      "/Users/alexellard/opt/anaconda3/lib/python3.7/site-packages/xgboost/data.py:96: UserWarning: Use subset (sliced data) of np.ndarray is not recommended because it will generate extra copies and increase memory consumption\n",
      "  \"because it will generate extra copies and increase \" +\n"
     ]
    },
    {
     "name": "stdout",
     "output_type": "stream",
     "text": [
      "test y shape : (17520, 1)\n",
      "Inv y shape : (17520, 46)\n",
      "y pred shape : (17520, 1)\n",
      "inv y pred : (17520, 46)\n",
      "Run 9 Mean Absolute Error: 4.378086692209805\n",
      "RMSE: 5.702\n",
      "R^2: 0.995\n",
      "[['link_27_flow', 'node_8_demand', 'node_29_demand', 'node_12_demand', 'link_1_flow', 'node_2_pressure', 'node_14_demand', 'node_6_pressure', 'link_11_flow', 'node_18_pressure', 'link_25_flow', 'link_14_flow', 'node_5_pressure', 'link_6_flow', 'node_1_pressure', 'node_22_demand', 'link_24_flow', 'node_9_pressure', 'link_28_flow', 'node_7_demand', 'link_7_flow', 'node_28_pressure', 'node_19_demand', 'node_17_demand', 'link_19_flow', 'node_30_pressure', 'node_11_demand', 'link_12_flow', 'node_7_pressure', 'node_22_pressure', 'node_13_demand', 'node_5_demand', 'node_30_demand', 'node_17_pressure', 'reservoir_demand', 'link_22_flow', 'node_14_pressure', 'link_9_flow', 'node_4_pressure', 'node_10_pressure', 'node_15_pressure', 'node_1_demand', 'node_31_demand', 'node_29_pressure', 'link_20_flow', 'link_21_flow', 'node_15_demand', 'link_2_flow', 'link_32_flow']]\n",
      "starting df shape: (87600, 47)\n",
      "This is training run 10 and has the shape:  (87600, 47)\n",
      "The value of dropped columns is 50\n"
     ]
    },
    {
     "name": "stderr",
     "output_type": "stream",
     "text": [
      "/Users/alexellard/opt/anaconda3/lib/python3.7/site-packages/xgboost/data.py:96: UserWarning: Use subset (sliced data) of np.ndarray is not recommended because it will generate extra copies and increase memory consumption\n",
      "  \"because it will generate extra copies and increase \" +\n"
     ]
    },
    {
     "name": "stdout",
     "output_type": "stream",
     "text": [
      "test y shape : (17520, 1)\n",
      "Inv y shape : (17520, 47)\n",
      "y pred shape : (17520, 1)\n",
      "inv y pred : (17520, 47)\n",
      "Run 10 Mean Absolute Error: 2.6772837349998\n",
      "RMSE: 3.515\n",
      "R^2: 0.998\n",
      "[['node_16_pressure', 'node_3_pressure', 'node_11_pressure', 'link_17_flow', 'link_1_flow', 'node_7_demand', 'link_11_flow', 'node_27_demand', 'node_20_demand', 'link_6_flow', 'node_15_pressure', 'link_30_flow', 'node_18_pressure', 'link_25_flow', 'node_29_pressure', 'node_10_pressure', 'node_21_pressure', 'link_23_flow', 'node_25_demand', 'node_10_demand', 'link_2_flow', 'node_1_pressure', 'node_26_demand', 'link_26_flow', 'node_19_pressure', 'link_20_flow', 'node_31_pressure', 'node_24_demand', 'node_28_pressure', 'node_4_pressure', 'link_24_flow', 'node_9_demand', 'node_5_demand', 'node_3_demand', 'node_11_demand', 'link_12_flow', 'link_18_flow', 'node_22_demand', 'node_23_demand', 'node_14_demand', 'link_22_flow', 'node_12_demand', 'link_31_flow', 'link_29_flow', 'node_1_demand', 'link_21_flow', 'link_13_flow', 'node_31_demand', 'node_13_demand', 'node_2_pressure', 'node_2_demand', 'reservoir_pressure', 'node_9_pressure', 'node_30_demand']]\n",
      "starting df shape: (87600, 42)\n",
      "This is training run 1 and has the shape:  (87600, 42)\n",
      "The value of dropped columns is 55\n"
     ]
    },
    {
     "name": "stderr",
     "output_type": "stream",
     "text": [
      "/Users/alexellard/opt/anaconda3/lib/python3.7/site-packages/xgboost/data.py:96: UserWarning: Use subset (sliced data) of np.ndarray is not recommended because it will generate extra copies and increase memory consumption\n",
      "  \"because it will generate extra copies and increase \" +\n"
     ]
    },
    {
     "name": "stdout",
     "output_type": "stream",
     "text": [
      "test y shape : (17520, 1)\n",
      "Inv y shape : (17520, 42)\n",
      "y pred shape : (17520, 1)\n",
      "inv y pred : (17520, 42)\n",
      "Run 1 Mean Absolute Error: 45.25770213725741\n",
      "RMSE: 60.271\n",
      "R^2: 0.998\n",
      "[['reservoir_demand', 'node_15_pressure', 'node_20_pressure', 'link_6_flow', 'node_20_demand', 'node_2_demand', 'node_10_pressure', 'link_29_flow', 'link_11_flow', 'link_14_flow', 'link_28_flow', 'node_21_demand', 'node_30_pressure', 'node_23_pressure', 'node_22_demand', 'node_3_pressure', 'node_11_pressure', 'link_21_flow', 'link_30_flow', 'node_15_demand', 'link_9_flow', 'node_1_pressure', 'link_12_flow', 'link_2_flow', 'node_9_demand', 'link_15_flow', 'link_18_flow', 'node_30_demand', 'link_5_flow', 'link_22_flow', 'node_18_pressure', 'link_27_flow', 'link_4_flow', 'node_5_pressure', 'node_16_pressure', 'link_24_flow', 'node_24_demand', 'node_4_demand', 'link_1_flow', 'node_2_pressure', 'node_6_pressure', 'node_28_demand', 'node_1_demand', 'node_24_pressure', 'node_31_demand', 'node_9_pressure', 'node_7_pressure', 'node_23_demand', 'link_16_flow', 'node_29_pressure', 'link_8_flow', 'node_17_demand', 'node_7_demand', 'link_25_flow']]\n",
      "starting df shape: (87600, 42)\n",
      "This is training run 2 and has the shape:  (87600, 42)\n",
      "The value of dropped columns is 55\n"
     ]
    },
    {
     "name": "stderr",
     "output_type": "stream",
     "text": [
      "/Users/alexellard/opt/anaconda3/lib/python3.7/site-packages/xgboost/data.py:96: UserWarning: Use subset (sliced data) of np.ndarray is not recommended because it will generate extra copies and increase memory consumption\n",
      "  \"because it will generate extra copies and increase \" +\n"
     ]
    },
    {
     "name": "stdout",
     "output_type": "stream",
     "text": [
      "test y shape : (17520, 1)\n",
      "Inv y shape : (17520, 42)\n",
      "y pred shape : (17520, 1)\n",
      "inv y pred : (17520, 42)\n",
      "Run 2 Mean Absolute Error: 1.4510035040473077\n",
      "RMSE: 1.883\n",
      "R^2: 0.980\n",
      "[['link_22_flow', 'link_23_flow', 'node_18_demand', 'node_25_pressure', 'node_27_demand', 'node_11_demand', 'node_21_demand', 'node_6_pressure', 'node_7_demand', 'node_15_pressure', 'node_10_pressure', 'link_30_flow', 'node_17_pressure', 'link_5_flow', 'link_31_flow', 'node_12_pressure', 'node_30_demand', 'node_7_pressure', 'node_30_pressure', 'node_4_demand', 'node_24_demand', 'link_14_flow', 'link_29_flow', 'node_26_demand', 'node_6_demand', 'link_20_flow', 'node_23_pressure', 'link_32_flow', 'node_3_demand', 'link_28_flow', 'node_2_pressure', 'link_9_flow', 'node_16_pressure', 'link_2_flow', 'node_20_demand', 'node_19_demand', 'node_2_demand', 'reservoir_pressure', 'node_8_pressure', 'node_28_demand', 'link_4_flow', 'node_24_pressure', 'link_17_flow', 'link_13_flow', 'node_23_demand', 'node_22_demand', 'link_18_flow', 'link_7_flow', 'link_25_flow', 'node_5_pressure', 'node_13_demand', 'node_1_demand', 'node_22_pressure', 'node_3_pressure', 'link_15_flow']]\n",
      "starting df shape: (87600, 41)\n",
      "This is training run 3 and has the shape:  (87600, 41)\n",
      "The value of dropped columns is 55\n"
     ]
    },
    {
     "name": "stderr",
     "output_type": "stream",
     "text": [
      "/Users/alexellard/opt/anaconda3/lib/python3.7/site-packages/xgboost/data.py:96: UserWarning: Use subset (sliced data) of np.ndarray is not recommended because it will generate extra copies and increase memory consumption\n",
      "  \"because it will generate extra copies and increase \" +\n"
     ]
    },
    {
     "name": "stdout",
     "output_type": "stream",
     "text": [
      "test y shape : (17520, 1)\n",
      "Inv y shape : (17520, 41)\n",
      "y pred shape : (17520, 1)\n",
      "inv y pred : (17520, 41)\n",
      "Run 3 Mean Absolute Error: 83.51860533719639\n",
      "RMSE: 109.298\n",
      "R^2: 0.995\n",
      "[['node_19_demand', 'node_8_demand', 'node_31_pressure', 'node_2_pressure', 'node_13_demand', 'link_26_flow', 'node_30_pressure', 'link_18_flow', 'node_3_demand', 'node_24_demand', 'node_25_pressure', 'node_21_pressure', 'link_4_flow', 'node_19_pressure', 'reservoir_pressure', 'node_11_pressure', 'node_9_pressure', 'node_27_demand', 'link_5_flow', 'node_1_demand', 'link_1_flow', 'node_3_pressure', 'link_30_flow', 'node_9_demand', 'node_8_pressure', 'link_15_flow', 'node_27_pressure', 'node_23_demand', 'link_9_flow', 'link_6_flow', 'node_20_demand', 'node_14_demand', 'node_4_demand', 'node_10_demand', 'node_18_pressure', 'link_12_flow', 'link_29_flow', 'link_11_flow', 'link_8_flow', 'link_19_flow', 'node_18_demand', 'node_24_pressure', 'node_17_pressure', 'node_15_demand', 'link_17_flow', 'node_2_demand', 'node_29_pressure', 'node_26_demand', 'node_26_pressure', 'node_10_pressure', 'link_14_flow', 'node_6_demand', 'node_20_pressure', 'link_21_flow', 'node_30_demand']]\n",
      "starting df shape: (87600, 41)\n",
      "This is training run 4 and has the shape:  (87600, 41)\n",
      "The value of dropped columns is 55\n"
     ]
    },
    {
     "name": "stderr",
     "output_type": "stream",
     "text": [
      "/Users/alexellard/opt/anaconda3/lib/python3.7/site-packages/xgboost/data.py:96: UserWarning: Use subset (sliced data) of np.ndarray is not recommended because it will generate extra copies and increase memory consumption\n",
      "  \"because it will generate extra copies and increase \" +\n"
     ]
    },
    {
     "name": "stdout",
     "output_type": "stream",
     "text": [
      "test y shape : (17520, 1)\n",
      "Inv y shape : (17520, 41)\n",
      "y pred shape : (17520, 1)\n",
      "inv y pred : (17520, 41)\n",
      "Run 4 Mean Absolute Error: 84.65565422382403\n",
      "RMSE: 109.562\n",
      "R^2: 0.995\n",
      "[['link_15_flow', 'node_17_demand', 'node_14_pressure', 'node_12_demand', 'node_6_demand', 'node_29_pressure', 'node_28_demand', 'node_11_demand', 'node_13_demand', 'link_19_flow', 'node_26_demand', 'node_1_demand', 'node_7_pressure', 'link_5_flow', 'reservoir_pressure', 'link_27_flow', 'node_5_pressure', 'node_10_demand', 'node_18_demand', 'node_15_demand', 'node_19_demand', 'link_14_flow', 'node_9_pressure', 'node_4_demand', 'link_8_flow', 'node_31_pressure', 'node_3_demand', 'node_29_demand', 'node_30_pressure', 'node_10_pressure', 'link_16_flow', 'node_13_pressure', 'node_12_pressure', 'node_24_demand', 'node_2_demand', 'link_28_flow', 'link_21_flow', 'node_30_demand', 'node_27_pressure', 'node_15_pressure', 'node_17_pressure', 'node_21_demand', 'node_23_demand', 'link_25_flow', 'link_22_flow', 'link_26_flow', 'link_31_flow', 'link_11_flow', 'node_9_demand', 'node_25_demand', 'link_32_flow', 'node_14_demand', 'node_22_demand', 'link_12_flow']]\n",
      "starting df shape: (87600, 42)\n",
      "This is training run 5 and has the shape:  (87600, 42)\n",
      "The value of dropped columns is 55\n"
     ]
    },
    {
     "name": "stderr",
     "output_type": "stream",
     "text": [
      "/Users/alexellard/opt/anaconda3/lib/python3.7/site-packages/xgboost/data.py:96: UserWarning: Use subset (sliced data) of np.ndarray is not recommended because it will generate extra copies and increase memory consumption\n",
      "  \"because it will generate extra copies and increase \" +\n"
     ]
    },
    {
     "name": "stdout",
     "output_type": "stream",
     "text": [
      "test y shape : (17520, 1)\n",
      "Inv y shape : (17520, 42)\n",
      "y pred shape : (17520, 1)\n",
      "inv y pred : (17520, 42)\n",
      "Run 5 Mean Absolute Error: 162.2659238376475\n",
      "RMSE: 212.568\n",
      "R^2: 0.980\n",
      "[['node_18_demand', 'node_29_pressure', 'node_6_demand', 'link_13_flow', 'link_23_flow', 'node_10_pressure', 'link_25_flow', 'node_8_demand', 'node_30_pressure', 'node_26_pressure', 'node_19_demand', 'node_3_demand', 'node_4_demand', 'node_6_pressure', 'node_24_demand', 'node_14_pressure', 'reservoir_pressure', 'link_18_flow', 'node_21_pressure', 'node_17_pressure', 'node_2_demand', 'link_11_flow', 'link_22_flow', 'link_2_flow', 'node_9_pressure', 'node_24_pressure', 'node_2_pressure', 'node_4_pressure', 'link_16_flow', 'link_30_flow', 'node_11_demand', 'link_32_flow', 'node_28_pressure', 'node_5_pressure', 'link_15_flow', 'link_26_flow', 'node_21_demand', 'link_28_flow', 'link_21_flow', 'node_13_demand', 'link_24_flow', 'node_8_pressure', 'node_12_pressure', 'link_9_flow', 'node_18_pressure', 'node_15_pressure', 'link_3_flow', 'node_14_demand', 'node_26_demand', 'node_19_pressure', 'node_10_demand', 'node_1_pressure', 'node_20_demand', 'node_31_pressure', 'link_5_flow']]\n",
      "starting df shape: (87600, 41)\n",
      "This is training run 6 and has the shape:  (87600, 41)\n",
      "The value of dropped columns is 55\n"
     ]
    },
    {
     "name": "stderr",
     "output_type": "stream",
     "text": [
      "/Users/alexellard/opt/anaconda3/lib/python3.7/site-packages/xgboost/data.py:96: UserWarning: Use subset (sliced data) of np.ndarray is not recommended because it will generate extra copies and increase memory consumption\n",
      "  \"because it will generate extra copies and increase \" +\n"
     ]
    },
    {
     "name": "stdout",
     "output_type": "stream",
     "text": [
      "test y shape : (17520, 1)\n",
      "Inv y shape : (17520, 41)\n",
      "y pred shape : (17520, 1)\n",
      "inv y pred : (17520, 41)\n",
      "Run 6 Mean Absolute Error: 133.04234168994566\n",
      "RMSE: 171.048\n",
      "R^2: 0.987\n",
      "[['node_24_demand', 'node_20_demand', 'link_27_flow', 'link_28_flow', 'node_29_demand', 'link_24_flow', 'link_20_flow', 'link_21_flow', 'node_5_demand', 'node_11_demand', 'node_13_demand', 'node_26_pressure', 'node_28_pressure', 'node_15_demand', 'node_14_demand', 'node_21_demand', 'node_22_demand', 'node_6_pressure', 'link_30_flow', 'node_25_demand', 'link_16_flow', 'node_16_pressure', 'reservoir_pressure', 'node_2_demand', 'node_11_pressure', 'node_17_demand', 'link_22_flow', 'node_26_demand', 'node_23_demand', 'link_7_flow', 'link_23_flow', 'link_8_flow', 'link_32_flow', 'link_19_flow', 'node_4_pressure', 'link_26_flow', 'node_8_pressure', 'node_19_pressure', 'node_31_pressure', 'node_31_demand', 'node_7_demand', 'node_9_demand', 'node_23_pressure', 'node_27_demand', 'link_4_flow', 'link_5_flow', 'link_2_flow', 'link_18_flow', 'node_3_pressure', 'node_13_pressure', 'node_10_pressure', 'link_9_flow', 'node_12_pressure', 'node_7_pressure', 'link_14_flow']]\n",
      "starting df shape: (87600, 41)\n",
      "This is training run 7 and has the shape:  (87600, 41)\n",
      "The value of dropped columns is 55\n"
     ]
    },
    {
     "name": "stderr",
     "output_type": "stream",
     "text": [
      "/Users/alexellard/opt/anaconda3/lib/python3.7/site-packages/xgboost/data.py:96: UserWarning: Use subset (sliced data) of np.ndarray is not recommended because it will generate extra copies and increase memory consumption\n",
      "  \"because it will generate extra copies and increase \" +\n"
     ]
    },
    {
     "name": "stdout",
     "output_type": "stream",
     "text": [
      "test y shape : (17520, 1)\n",
      "Inv y shape : (17520, 41)\n",
      "y pred shape : (17520, 1)\n",
      "inv y pred : (17520, 41)\n",
      "Run 7 Mean Absolute Error: 134.3588046136742\n",
      "RMSE: 175.883\n",
      "R^2: 0.987\n",
      "[['link_31_flow', 'node_23_pressure', 'node_22_demand', 'node_30_pressure', 'link_21_flow', 'link_11_flow', 'link_22_flow', 'node_30_demand', 'node_28_demand', 'link_15_flow', 'node_28_pressure', 'link_30_flow', 'node_17_demand', 'node_24_pressure', 'node_17_pressure', 'link_29_flow', 'link_17_flow', 'link_5_flow', 'node_10_demand', 'link_8_flow', 'link_7_flow', 'link_24_flow', 'node_24_demand', 'link_12_flow', 'link_13_flow', 'link_32_flow', 'node_4_demand', 'reservoir_demand', 'node_15_pressure', 'node_20_demand', 'node_9_pressure', 'link_3_flow', 'node_27_demand', 'link_6_flow', 'node_3_demand', 'node_14_demand', 'node_31_pressure', 'link_23_flow', 'node_15_demand', 'node_25_pressure', 'link_9_flow', 'link_1_flow', 'link_16_flow', 'node_18_pressure', 'node_3_pressure', 'node_13_pressure', 'node_20_pressure', 'node_19_pressure', 'node_8_demand', 'node_21_pressure', 'node_9_demand', 'node_1_pressure', 'node_18_demand', 'node_23_demand']]\n",
      "starting df shape: (87600, 42)\n",
      "This is training run 8 and has the shape:  (87600, 42)\n",
      "The value of dropped columns is 55\n"
     ]
    },
    {
     "name": "stderr",
     "output_type": "stream",
     "text": [
      "/Users/alexellard/opt/anaconda3/lib/python3.7/site-packages/xgboost/data.py:96: UserWarning: Use subset (sliced data) of np.ndarray is not recommended because it will generate extra copies and increase memory consumption\n",
      "  \"because it will generate extra copies and increase \" +\n"
     ]
    },
    {
     "name": "stdout",
     "output_type": "stream",
     "text": [
      "test y shape : (17520, 1)\n",
      "Inv y shape : (17520, 42)\n",
      "y pred shape : (17520, 1)\n",
      "inv y pred : (17520, 42)\n",
      "Run 8 Mean Absolute Error: 9.521201641632581\n",
      "RMSE: 12.398\n",
      "R^2: 0.982\n",
      "[['reservoir_pressure', 'node_4_pressure', 'node_27_demand', 'node_22_demand', 'node_12_pressure', 'node_27_pressure', 'node_10_demand', 'node_30_pressure', 'link_16_flow', 'link_12_flow', 'node_8_pressure', 'node_2_pressure', 'node_29_demand', 'link_19_flow', 'node_23_demand', 'link_5_flow', 'node_9_pressure', 'link_11_flow', 'link_2_flow', 'node_24_pressure', 'link_32_flow', 'link_1_flow', 'link_22_flow', 'node_30_demand', 'node_5_pressure', 'link_10_flow', 'node_25_demand', 'node_28_demand', 'node_29_pressure', 'link_13_flow', 'link_20_flow', 'node_28_pressure', 'node_16_pressure', 'link_8_flow', 'link_21_flow', 'node_26_pressure', 'node_23_pressure', 'link_26_flow', 'link_3_flow', 'node_31_pressure', 'link_25_flow', 'link_6_flow', 'node_26_demand', 'link_24_flow', 'node_3_demand', 'link_9_flow', 'node_21_pressure', 'node_19_pressure', 'node_18_pressure', 'node_13_demand', 'link_29_flow', 'node_21_demand', 'link_15_flow', 'node_17_demand']]\n",
      "starting df shape: (87600, 42)\n",
      "This is training run 9 and has the shape:  (87600, 42)\n",
      "The value of dropped columns is 55\n"
     ]
    },
    {
     "name": "stderr",
     "output_type": "stream",
     "text": [
      "/Users/alexellard/opt/anaconda3/lib/python3.7/site-packages/xgboost/data.py:96: UserWarning: Use subset (sliced data) of np.ndarray is not recommended because it will generate extra copies and increase memory consumption\n",
      "  \"because it will generate extra copies and increase \" +\n"
     ]
    },
    {
     "name": "stdout",
     "output_type": "stream",
     "text": [
      "test y shape : (17520, 1)\n",
      "Inv y shape : (17520, 42)\n",
      "y pred shape : (17520, 1)\n",
      "inv y pred : (17520, 42)\n",
      "Run 9 Mean Absolute Error: 174.57497668524118\n",
      "RMSE: 227.698\n",
      "R^2: 0.977\n",
      "[['link_8_flow', 'link_4_flow', 'node_26_demand', 'node_8_demand', 'node_3_demand', 'node_1_demand', 'node_11_pressure', 'node_28_demand', 'node_28_pressure', 'link_2_flow', 'node_4_demand', 'node_9_pressure', 'node_17_demand', 'node_22_demand', 'node_13_demand', 'node_17_pressure', 'node_27_pressure', 'node_29_demand', 'node_6_pressure', 'node_27_demand', 'link_21_flow', 'node_20_pressure', 'node_13_pressure', 'node_5_demand', 'link_3_flow', 'node_14_pressure', 'node_15_pressure', 'node_9_demand', 'link_5_flow', 'link_29_flow', 'link_1_flow', 'link_30_flow', 'link_20_flow', 'node_2_demand', 'node_15_demand', 'reservoir_demand', 'node_11_demand', 'node_8_pressure', 'link_7_flow', 'link_23_flow', 'reservoir_pressure', 'link_24_flow', 'node_14_demand', 'node_10_demand', 'link_32_flow', 'node_21_demand', 'link_16_flow', 'link_15_flow', 'node_12_pressure', 'link_9_flow', 'link_31_flow', 'node_23_demand', 'node_2_pressure', 'node_26_pressure']]\n",
      "starting df shape: (87600, 42)\n",
      "This is training run 10 and has the shape:  (87600, 42)\n",
      "The value of dropped columns is 55\n"
     ]
    },
    {
     "name": "stderr",
     "output_type": "stream",
     "text": [
      "/Users/alexellard/opt/anaconda3/lib/python3.7/site-packages/xgboost/data.py:96: UserWarning: Use subset (sliced data) of np.ndarray is not recommended because it will generate extra copies and increase memory consumption\n",
      "  \"because it will generate extra copies and increase \" +\n"
     ]
    },
    {
     "name": "stdout",
     "output_type": "stream",
     "text": [
      "test y shape : (17520, 1)\n",
      "Inv y shape : (17520, 42)\n",
      "y pred shape : (17520, 1)\n",
      "inv y pred : (17520, 42)\n",
      "Run 10 Mean Absolute Error: 13.66817247035275\n",
      "RMSE: 17.791\n",
      "R^2: 0.983\n",
      "[['node_24_pressure', 'node_3_pressure', 'link_25_flow', 'link_26_flow', 'link_22_flow', 'link_31_flow', 'link_23_flow', 'node_11_pressure', 'node_7_demand', 'node_24_demand', 'node_4_pressure', 'node_1_pressure', 'link_11_flow', 'link_2_flow', 'node_21_pressure', 'node_30_pressure', 'node_10_pressure', 'link_14_flow', 'node_11_demand', 'node_4_demand', 'node_22_pressure', 'node_27_pressure', 'node_18_demand', 'node_12_demand', 'node_31_pressure', 'link_4_flow', 'link_24_flow', 'node_26_pressure', 'node_14_pressure', 'node_23_demand', 'node_31_demand', 'node_28_pressure', 'reservoir_demand', 'node_3_demand', 'link_16_flow', 'node_13_demand', 'node_25_demand', 'node_5_pressure', 'link_20_flow', 'link_9_flow', 'node_21_demand', 'node_20_pressure', 'node_8_demand', 'node_17_pressure', 'link_1_flow', 'link_32_flow', 'node_19_demand', 'link_28_flow', 'node_18_pressure', 'node_25_pressure', 'node_5_demand', 'node_6_demand', 'node_9_pressure', 'node_15_pressure', 'node_12_pressure', 'node_30_demand', 'link_27_flow', 'link_12_flow', 'node_28_demand']]\n",
      "starting df shape: (87600, 37)\n",
      "This is training run 1 and has the shape:  (87600, 37)\n",
      "The value of dropped columns is 60\n"
     ]
    },
    {
     "name": "stderr",
     "output_type": "stream",
     "text": [
      "/Users/alexellard/opt/anaconda3/lib/python3.7/site-packages/xgboost/data.py:96: UserWarning: Use subset (sliced data) of np.ndarray is not recommended because it will generate extra copies and increase memory consumption\n",
      "  \"because it will generate extra copies and increase \" +\n"
     ]
    },
    {
     "name": "stdout",
     "output_type": "stream",
     "text": [
      "test y shape : (17520, 1)\n",
      "Inv y shape : (17520, 37)\n",
      "y pred shape : (17520, 1)\n",
      "inv y pred : (17520, 37)\n",
      "Run 1 Mean Absolute Error: 6.286309177500182\n",
      "RMSE: 8.215\n",
      "R^2: 0.992\n",
      "[['node_25_demand', 'node_27_pressure', 'link_31_flow', 'link_27_flow', 'node_24_demand', 'node_9_demand', 'node_5_demand', 'node_26_pressure', 'node_14_demand', 'reservoir_pressure', 'link_10_flow', 'link_30_flow', 'node_13_demand', 'node_20_pressure', 'node_29_pressure', 'node_21_demand', 'node_4_demand', 'link_8_flow', 'link_9_flow', 'node_30_demand', 'link_28_flow', 'node_22_pressure', 'node_19_demand', 'node_21_pressure', 'node_13_pressure', 'node_11_demand', 'node_17_demand', 'link_14_flow', 'node_31_demand', 'link_17_flow', 'node_6_pressure', 'node_8_pressure', 'node_25_pressure', 'link_1_flow', 'node_4_pressure', 'node_9_pressure', 'node_7_pressure', 'node_7_demand', 'node_6_demand', 'link_15_flow', 'node_27_demand', 'node_16_pressure', 'node_5_pressure', 'link_12_flow', 'link_13_flow', 'link_25_flow', 'node_22_demand', 'link_2_flow', 'node_15_pressure', 'link_4_flow', 'node_1_demand', 'link_26_flow', 'link_21_flow', 'link_29_flow', 'link_3_flow', 'node_1_pressure', 'link_7_flow', 'node_11_pressure', 'node_28_pressure']]\n",
      "starting df shape: (87600, 37)\n",
      "This is training run 2 and has the shape:  (87600, 37)\n",
      "The value of dropped columns is 60\n"
     ]
    },
    {
     "name": "stderr",
     "output_type": "stream",
     "text": [
      "/Users/alexellard/opt/anaconda3/lib/python3.7/site-packages/xgboost/data.py:96: UserWarning: Use subset (sliced data) of np.ndarray is not recommended because it will generate extra copies and increase memory consumption\n",
      "  \"because it will generate extra copies and increase \" +\n"
     ]
    },
    {
     "name": "stdout",
     "output_type": "stream",
     "text": [
      "test y shape : (17520, 1)\n",
      "Inv y shape : (17520, 37)\n",
      "y pred shape : (17520, 1)\n",
      "inv y pred : (17520, 37)\n",
      "Run 2 Mean Absolute Error: 78.62675416958497\n",
      "RMSE: 103.003\n",
      "R^2: 0.995\n",
      "[['link_9_flow', 'link_15_flow', 'node_16_pressure', 'link_26_flow', 'node_9_demand', 'link_30_flow', 'link_22_flow', 'node_19_pressure', 'node_11_demand', 'node_17_pressure', 'link_31_flow', 'node_17_demand', 'node_2_pressure', 'node_26_demand', 'node_28_demand', 'node_5_demand', 'node_31_demand', 'node_1_pressure', 'node_2_demand', 'node_8_demand', 'node_27_demand', 'link_13_flow', 'node_20_demand', 'link_20_flow', 'node_3_pressure', 'node_14_demand', 'link_14_flow', 'node_3_demand', 'link_18_flow', 'link_10_flow', 'node_27_pressure', 'link_3_flow', 'node_12_pressure', 'node_9_pressure', 'node_29_pressure', 'link_1_flow', 'link_32_flow', 'link_25_flow', 'link_2_flow', 'node_31_pressure', 'node_30_pressure', 'link_29_flow', 'link_21_flow', 'node_4_pressure', 'reservoir_pressure', 'node_4_demand', 'node_6_pressure', 'link_23_flow', 'node_22_demand', 'link_12_flow', 'node_25_demand', 'node_25_pressure', 'node_18_pressure', 'node_20_pressure', 'node_19_demand', 'node_15_pressure', 'node_29_demand', 'link_8_flow', 'node_24_pressure']]\n",
      "starting df shape: (87600, 37)\n",
      "This is training run 3 and has the shape:  (87600, 37)\n",
      "The value of dropped columns is 60\n"
     ]
    },
    {
     "name": "stderr",
     "output_type": "stream",
     "text": [
      "/Users/alexellard/opt/anaconda3/lib/python3.7/site-packages/xgboost/data.py:96: UserWarning: Use subset (sliced data) of np.ndarray is not recommended because it will generate extra copies and increase memory consumption\n",
      "  \"because it will generate extra copies and increase \" +\n"
     ]
    },
    {
     "name": "stdout",
     "output_type": "stream",
     "text": [
      "test y shape : (17520, 1)\n",
      "Inv y shape : (17520, 37)\n",
      "y pred shape : (17520, 1)\n",
      "inv y pred : (17520, 37)\n",
      "Run 3 Mean Absolute Error: 80.17832866840992\n",
      "RMSE: 104.909\n",
      "R^2: 0.995\n",
      "[['node_29_pressure', 'link_6_flow', 'node_5_pressure', 'node_3_pressure', 'reservoir_demand', 'node_5_demand', 'node_28_demand', 'link_25_flow', 'link_8_flow', 'link_4_flow', 'link_16_flow', 'link_5_flow', 'node_31_demand', 'node_17_demand', 'link_30_flow', 'node_25_pressure', 'node_27_demand', 'link_17_flow', 'node_18_demand', 'link_26_flow', 'node_8_pressure', 'node_14_demand', 'link_29_flow', 'node_11_pressure', 'node_6_pressure', 'node_24_pressure', 'node_17_pressure', 'link_18_flow', 'link_11_flow', 'node_3_demand', 'link_9_flow', 'link_19_flow', 'link_13_flow', 'node_26_demand', 'node_22_pressure', 'node_27_pressure', 'node_18_pressure', 'node_15_demand', 'node_10_demand', 'node_2_pressure', 'link_12_flow', 'link_15_flow', 'link_14_flow', 'node_21_demand', 'node_6_demand', 'node_23_pressure', 'node_19_pressure', 'node_28_pressure', 'node_19_demand', 'link_22_flow', 'link_32_flow', 'node_12_demand', 'node_9_demand', 'node_7_demand', 'node_30_pressure', 'node_21_pressure', 'link_28_flow', 'node_31_pressure', 'node_7_pressure']]\n",
      "starting df shape: (87600, 37)\n",
      "This is training run 4 and has the shape:  (87600, 37)\n",
      "The value of dropped columns is 60\n"
     ]
    },
    {
     "name": "stderr",
     "output_type": "stream",
     "text": [
      "/Users/alexellard/opt/anaconda3/lib/python3.7/site-packages/xgboost/data.py:96: UserWarning: Use subset (sliced data) of np.ndarray is not recommended because it will generate extra copies and increase memory consumption\n",
      "  \"because it will generate extra copies and increase \" +\n"
     ]
    },
    {
     "name": "stdout",
     "output_type": "stream",
     "text": [
      "test y shape : (17520, 1)\n",
      "Inv y shape : (17520, 37)\n",
      "y pred shape : (17520, 1)\n",
      "inv y pred : (17520, 37)\n",
      "Run 4 Mean Absolute Error: 10.329894453090084\n",
      "RMSE: 13.547\n",
      "R^2: 0.979\n",
      "[['node_12_demand', 'node_5_demand', 'node_17_demand', 'node_4_pressure', 'node_16_pressure', 'node_3_pressure', 'link_3_flow', 'node_31_pressure', 'node_2_demand', 'node_18_demand', 'node_19_demand', 'node_6_pressure', 'node_25_demand', 'node_13_pressure', 'node_1_demand', 'node_30_demand', 'link_21_flow', 'node_19_pressure', 'link_9_flow', 'node_27_demand', 'link_1_flow', 'node_28_pressure', 'link_15_flow', 'node_11_pressure', 'link_6_flow', 'node_21_demand', 'node_7_demand', 'node_29_pressure', 'link_28_flow', 'link_23_flow', 'link_16_flow', 'link_13_flow', 'link_30_flow', 'node_12_pressure', 'node_26_demand', 'node_11_demand', 'link_14_flow', 'link_17_flow', 'link_32_flow', 'node_18_pressure', 'link_2_flow', 'node_25_pressure', 'link_7_flow', 'node_8_pressure', 'link_18_flow', 'link_20_flow', 'node_2_pressure', 'node_14_pressure', 'node_29_demand', 'node_8_demand', 'node_21_pressure', 'node_14_demand', 'link_22_flow', 'node_23_pressure', 'node_26_pressure', 'node_22_demand', 'node_24_pressure', 'link_10_flow', 'link_12_flow', 'node_3_demand']]\n",
      "starting df shape: (87600, 36)\n",
      "This is training run 5 and has the shape:  (87600, 36)\n",
      "The value of dropped columns is 60\n"
     ]
    },
    {
     "name": "stderr",
     "output_type": "stream",
     "text": [
      "/Users/alexellard/opt/anaconda3/lib/python3.7/site-packages/xgboost/data.py:96: UserWarning: Use subset (sliced data) of np.ndarray is not recommended because it will generate extra copies and increase memory consumption\n",
      "  \"because it will generate extra copies and increase \" +\n"
     ]
    },
    {
     "name": "stdout",
     "output_type": "stream",
     "text": [
      "test y shape : (17520, 1)\n",
      "Inv y shape : (17520, 36)\n",
      "y pred shape : (17520, 1)\n",
      "inv y pred : (17520, 36)\n",
      "Run 5 Mean Absolute Error: 183.86182633619148\n",
      "RMSE: 238.871\n",
      "R^2: 0.975\n",
      "[['node_30_demand', 'node_10_demand', 'link_9_flow', 'link_15_flow', 'node_21_demand', 'node_23_demand', 'node_19_pressure', 'node_31_demand', 'node_26_pressure', 'link_27_flow', 'node_11_demand', 'node_11_pressure', 'node_20_pressure', 'node_13_demand', 'node_3_demand', 'link_24_flow', 'node_5_demand', 'node_6_pressure', 'node_17_demand', 'link_13_flow', 'node_10_pressure', 'node_13_pressure', 'link_4_flow', 'link_14_flow', 'link_31_flow', 'node_15_demand', 'node_14_demand', 'link_18_flow', 'link_23_flow', 'link_21_flow', 'node_29_demand', 'node_12_demand', 'link_5_flow', 'node_12_pressure', 'node_19_demand', 'link_1_flow', 'node_4_pressure', 'node_29_pressure', 'node_2_demand', 'node_27_demand', 'node_2_pressure', 'link_11_flow', 'node_20_demand', 'node_18_pressure', 'node_27_pressure', 'link_20_flow', 'node_1_demand', 'node_7_pressure', 'node_28_demand', 'link_26_flow', 'link_10_flow', 'link_17_flow', 'reservoir_demand', 'link_3_flow', 'node_6_demand', 'link_7_flow', 'node_3_pressure', 'node_1_pressure', 'link_32_flow']]\n",
      "starting df shape: (87600, 37)\n",
      "This is training run 6 and has the shape:  (87600, 37)\n",
      "The value of dropped columns is 60\n"
     ]
    },
    {
     "name": "stderr",
     "output_type": "stream",
     "text": [
      "/Users/alexellard/opt/anaconda3/lib/python3.7/site-packages/xgboost/data.py:96: UserWarning: Use subset (sliced data) of np.ndarray is not recommended because it will generate extra copies and increase memory consumption\n",
      "  \"because it will generate extra copies and increase \" +\n"
     ]
    },
    {
     "name": "stdout",
     "output_type": "stream",
     "text": [
      "test y shape : (17520, 1)\n",
      "Inv y shape : (17520, 37)\n",
      "y pred shape : (17520, 1)\n",
      "inv y pred : (17520, 37)\n",
      "Run 6 Mean Absolute Error: 3.846844546826674\n",
      "RMSE: 5.017\n",
      "R^2: 0.994\n",
      "[['node_18_pressure', 'link_30_flow', 'node_25_demand', 'node_11_pressure', 'node_6_demand', 'node_23_demand', 'node_30_pressure', 'node_13_pressure', 'node_22_pressure', 'node_3_pressure', 'link_25_flow', 'link_20_flow', 'node_18_demand', 'node_28_pressure', 'link_5_flow', 'node_20_pressure', 'node_29_pressure', 'node_1_demand', 'link_11_flow', 'link_21_flow', 'node_17_demand', 'node_11_demand', 'node_23_pressure', 'node_9_demand', 'link_19_flow', 'link_16_flow', 'node_14_pressure', 'link_1_flow', 'link_31_flow', 'node_28_demand', 'link_10_flow', 'link_18_flow', 'node_29_demand', 'node_14_demand', 'node_12_demand', 'node_2_pressure', 'node_19_pressure', 'link_3_flow', 'link_24_flow', 'node_27_pressure', 'node_30_demand', 'link_6_flow', 'link_15_flow', 'node_4_pressure', 'link_4_flow', 'node_21_demand', 'link_13_flow', 'link_14_flow', 'link_28_flow', 'node_12_pressure', 'node_17_pressure', 'link_27_flow', 'link_8_flow', 'reservoir_pressure', 'link_26_flow', 'node_31_demand', 'node_19_demand', 'node_25_pressure', 'link_17_flow']]\n",
      "starting df shape: (87600, 37)\n",
      "This is training run 7 and has the shape:  (87600, 37)\n",
      "The value of dropped columns is 60\n"
     ]
    },
    {
     "name": "stderr",
     "output_type": "stream",
     "text": [
      "/Users/alexellard/opt/anaconda3/lib/python3.7/site-packages/xgboost/data.py:96: UserWarning: Use subset (sliced data) of np.ndarray is not recommended because it will generate extra copies and increase memory consumption\n",
      "  \"because it will generate extra copies and increase \" +\n"
     ]
    },
    {
     "name": "stdout",
     "output_type": "stream",
     "text": [
      "test y shape : (17520, 1)\n",
      "Inv y shape : (17520, 37)\n",
      "y pred shape : (17520, 1)\n",
      "inv y pred : (17520, 37)\n",
      "Run 7 Mean Absolute Error: 164.61973136966404\n",
      "RMSE: 215.418\n",
      "R^2: 0.980\n",
      "[['node_30_demand', 'link_23_flow', 'node_21_pressure', 'link_25_flow', 'link_3_flow', 'node_25_pressure', 'link_12_flow', 'node_19_pressure', 'node_7_demand', 'link_5_flow', 'reservoir_pressure', 'node_4_demand', 'node_15_demand', 'node_11_demand', 'node_13_demand', 'link_24_flow', 'link_31_flow', 'node_12_pressure', 'node_6_demand', 'node_4_pressure', 'node_1_demand', 'link_21_flow', 'node_31_demand', 'node_28_pressure', 'node_13_pressure', 'node_21_demand', 'node_31_pressure', 'link_8_flow', 'node_2_demand', 'link_28_flow', 'link_15_flow', 'node_8_pressure', 'node_2_pressure', 'node_20_pressure', 'link_27_flow', 'node_27_demand', 'node_3_pressure', 'link_22_flow', 'node_14_pressure', 'node_18_demand', 'node_24_demand', 'node_16_pressure', 'node_15_pressure', 'node_20_demand', 'link_26_flow', 'node_11_pressure', 'node_10_pressure', 'link_1_flow', 'link_19_flow', 'link_20_flow', 'node_30_pressure', 'link_29_flow', 'node_26_pressure', 'node_3_demand', 'link_9_flow', 'node_28_demand', 'node_27_pressure', 'node_24_pressure', 'node_29_pressure']]\n",
      "starting df shape: (87600, 37)\n",
      "This is training run 8 and has the shape:  (87600, 37)\n",
      "The value of dropped columns is 60\n"
     ]
    },
    {
     "name": "stderr",
     "output_type": "stream",
     "text": [
      "/Users/alexellard/opt/anaconda3/lib/python3.7/site-packages/xgboost/data.py:96: UserWarning: Use subset (sliced data) of np.ndarray is not recommended because it will generate extra copies and increase memory consumption\n",
      "  \"because it will generate extra copies and increase \" +\n"
     ]
    },
    {
     "name": "stdout",
     "output_type": "stream",
     "text": [
      "test y shape : (17520, 1)\n",
      "Inv y shape : (17520, 37)\n",
      "y pred shape : (17520, 1)\n",
      "inv y pred : (17520, 37)\n",
      "Run 8 Mean Absolute Error: 81.74996628565249\n",
      "RMSE: 105.466\n",
      "R^2: 0.995\n",
      "[['node_22_pressure', 'node_24_pressure', 'node_14_pressure', 'link_8_flow', 'node_15_pressure', 'node_3_pressure', 'link_30_flow', 'link_3_flow', 'link_2_flow', 'link_16_flow', 'node_19_demand', 'node_1_demand', 'node_8_pressure', 'link_24_flow', 'node_12_demand', 'node_28_pressure', 'node_18_demand', 'link_18_flow', 'link_20_flow', 'link_13_flow', 'link_25_flow', 'node_31_demand', 'node_12_pressure', 'link_4_flow', 'link_32_flow', 'node_16_pressure', 'node_4_demand', 'node_2_demand', 'reservoir_pressure', 'node_6_pressure', 'link_23_flow', 'node_4_pressure', 'node_25_demand', 'node_20_demand', 'link_22_flow', 'node_5_demand', 'link_5_flow', 'node_7_pressure', 'node_21_pressure', 'link_28_flow', 'link_17_flow', 'link_10_flow', 'node_10_pressure', 'node_21_demand', 'link_9_flow', 'node_7_demand', 'link_26_flow', 'link_14_flow', 'node_27_demand', 'link_15_flow', 'node_30_demand', 'node_22_demand', 'node_2_pressure', 'node_9_demand', 'node_9_pressure', 'node_13_pressure', 'link_21_flow', 'node_19_pressure', 'node_26_demand', 'node_1_pressure']]\n",
      "starting df shape: (87600, 36)\n",
      "This is training run 9 and has the shape:  (87600, 36)\n",
      "The value of dropped columns is 60\n"
     ]
    },
    {
     "name": "stderr",
     "output_type": "stream",
     "text": [
      "/Users/alexellard/opt/anaconda3/lib/python3.7/site-packages/xgboost/data.py:96: UserWarning: Use subset (sliced data) of np.ndarray is not recommended because it will generate extra copies and increase memory consumption\n",
      "  \"because it will generate extra copies and increase \" +\n"
     ]
    },
    {
     "name": "stdout",
     "output_type": "stream",
     "text": [
      "test y shape : (17520, 1)\n",
      "Inv y shape : (17520, 36)\n",
      "y pred shape : (17520, 1)\n",
      "inv y pred : (17520, 36)\n",
      "Run 9 Mean Absolute Error: 186.41288484506057\n",
      "RMSE: 242.824\n",
      "R^2: 0.974\n",
      "[['link_4_flow', 'node_3_pressure', 'node_21_pressure', 'node_31_demand', 'node_26_demand', 'link_18_flow', 'node_18_demand', 'link_7_flow', 'link_21_flow', 'node_17_demand', 'node_10_demand', 'link_24_flow', 'link_15_flow', 'node_24_pressure', 'node_9_demand', 'reservoir_demand', 'node_12_pressure', 'node_28_pressure', 'link_9_flow', 'link_2_flow', 'node_8_demand', 'node_31_pressure', 'node_10_pressure', 'node_23_pressure', 'link_3_flow', 'link_5_flow', 'link_31_flow', 'node_7_pressure', 'node_19_demand', 'node_15_demand', 'node_13_demand', 'node_1_pressure', 'link_19_flow', 'node_29_demand', 'node_7_demand', 'link_26_flow', 'node_30_demand', 'node_26_pressure', 'link_6_flow', 'link_12_flow', 'node_28_demand', 'node_2_demand', 'link_22_flow', 'node_23_demand', 'link_20_flow', 'node_16_pressure', 'node_4_pressure', 'node_29_pressure', 'node_14_demand', 'node_6_demand', 'link_30_flow', 'link_10_flow', 'node_11_demand', 'link_25_flow', 'node_1_demand', 'link_14_flow', 'node_17_pressure', 'node_20_demand', 'node_8_pressure', 'link_29_flow']]\n",
      "starting df shape: (87600, 36)\n",
      "This is training run 10 and has the shape:  (87600, 36)\n",
      "The value of dropped columns is 60\n"
     ]
    },
    {
     "name": "stderr",
     "output_type": "stream",
     "text": [
      "/Users/alexellard/opt/anaconda3/lib/python3.7/site-packages/xgboost/data.py:96: UserWarning: Use subset (sliced data) of np.ndarray is not recommended because it will generate extra copies and increase memory consumption\n",
      "  \"because it will generate extra copies and increase \" +\n"
     ]
    },
    {
     "name": "stdout",
     "output_type": "stream",
     "text": [
      "test y shape : (17520, 1)\n",
      "Inv y shape : (17520, 36)\n",
      "y pred shape : (17520, 1)\n",
      "inv y pred : (17520, 36)\n",
      "Run 10 Mean Absolute Error: 0.7457258054052975\n",
      "RMSE: 0.964\n",
      "R^2: 0.995\n",
      "[['node_26_pressure', 'node_28_demand', 'link_1_flow', 'node_21_pressure', 'node_17_pressure', 'node_20_pressure', 'node_30_demand', 'link_25_flow', 'link_24_flow', 'node_31_demand', 'link_4_flow', 'link_18_flow', 'node_4_pressure', 'link_10_flow', 'node_30_pressure', 'link_3_flow', 'node_31_pressure', 'node_13_pressure', 'node_3_pressure', 'node_24_demand', 'node_10_demand', 'node_7_demand', 'node_6_demand', 'node_25_pressure', 'node_22_demand', 'link_22_flow', 'node_15_pressure', 'node_26_demand', 'node_8_demand', 'node_9_pressure', 'node_5_pressure', 'node_16_pressure', 'node_18_demand', 'link_30_flow', 'link_27_flow', 'node_12_demand', 'node_11_pressure', 'node_22_pressure', 'node_10_pressure', 'node_28_pressure', 'link_15_flow', 'link_23_flow', 'node_20_demand', 'node_17_demand', 'link_13_flow', 'link_11_flow', 'link_31_flow', 'link_12_flow', 'node_12_pressure', 'node_13_demand', 'node_14_demand', 'node_25_demand', 'node_18_pressure', 'node_2_pressure', 'node_9_demand', 'node_23_demand', 'node_6_pressure', 'node_7_pressure', 'link_7_flow', 'node_15_demand', 'node_23_pressure', 'link_32_flow', 'link_6_flow', 'node_11_demand']]\n",
      "starting df shape: (87600, 32)\n",
      "This is training run 1 and has the shape:  (87600, 32)\n",
      "The value of dropped columns is 65\n"
     ]
    },
    {
     "name": "stderr",
     "output_type": "stream",
     "text": [
      "/Users/alexellard/opt/anaconda3/lib/python3.7/site-packages/xgboost/data.py:96: UserWarning: Use subset (sliced data) of np.ndarray is not recommended because it will generate extra copies and increase memory consumption\n",
      "  \"because it will generate extra copies and increase \" +\n"
     ]
    },
    {
     "name": "stdout",
     "output_type": "stream",
     "text": [
      "test y shape : (17520, 1)\n",
      "Inv y shape : (17520, 32)\n",
      "y pred shape : (17520, 1)\n",
      "inv y pred : (17520, 32)\n",
      "Run 1 Mean Absolute Error: 80.20159803470614\n",
      "RMSE: 103.404\n",
      "R^2: 0.995\n",
      "[['link_13_flow', 'node_22_pressure', 'node_1_pressure', 'node_9_demand', 'node_1_demand', 'node_7_demand', 'node_24_demand', 'node_24_pressure', 'node_20_pressure', 'node_10_demand', 'link_27_flow', 'link_20_flow', 'node_6_demand', 'node_5_pressure', 'node_17_pressure', 'node_8_demand', 'link_19_flow', 'link_5_flow', 'link_14_flow', 'node_3_demand', 'node_13_demand', 'node_9_pressure', 'reservoir_pressure', 'link_17_flow', 'link_15_flow', 'node_4_demand', 'link_12_flow', 'link_30_flow', 'node_12_demand', 'node_20_demand', 'node_29_demand', 'link_1_flow', 'reservoir_demand', 'node_16_pressure', 'link_9_flow', 'node_14_demand', 'link_10_flow', 'node_30_pressure', 'node_25_pressure', 'node_15_pressure', 'node_31_pressure', 'node_28_pressure', 'node_22_demand', 'node_5_demand', 'link_16_flow', 'node_29_pressure', 'node_13_pressure', 'node_17_demand', 'link_6_flow', 'node_26_pressure', 'node_2_pressure', 'link_24_flow', 'node_10_pressure', 'link_32_flow', 'node_7_pressure', 'node_15_demand', 'node_30_demand', 'link_11_flow', 'link_29_flow', 'link_31_flow', 'node_14_pressure', 'node_25_demand', 'node_4_pressure', 'link_25_flow']]\n",
      "starting df shape: (87600, 32)\n",
      "This is training run 2 and has the shape:  (87600, 32)\n",
      "The value of dropped columns is 65\n"
     ]
    },
    {
     "name": "stderr",
     "output_type": "stream",
     "text": [
      "/Users/alexellard/opt/anaconda3/lib/python3.7/site-packages/xgboost/data.py:96: UserWarning: Use subset (sliced data) of np.ndarray is not recommended because it will generate extra copies and increase memory consumption\n",
      "  \"because it will generate extra copies and increase \" +\n"
     ]
    },
    {
     "name": "stdout",
     "output_type": "stream",
     "text": [
      "test y shape : (17520, 1)\n",
      "Inv y shape : (17520, 32)\n",
      "y pred shape : (17520, 1)\n",
      "inv y pred : (17520, 32)\n",
      "Run 2 Mean Absolute Error: 9.863872285117807\n",
      "RMSE: 12.857\n",
      "R^2: 0.976\n",
      "[['link_6_flow', 'node_8_pressure', 'node_20_demand', 'node_29_demand', 'node_20_pressure', 'node_14_demand', 'node_30_demand', 'link_10_flow', 'node_8_demand', 'node_19_pressure', 'node_22_demand', 'node_25_pressure', 'node_24_pressure', 'node_9_pressure', 'link_11_flow', 'reservoir_pressure', 'link_3_flow', 'node_15_demand', 'node_29_pressure', 'link_4_flow', 'node_9_demand', 'node_6_demand', 'node_26_pressure', 'link_1_flow', 'node_11_demand', 'link_19_flow', 'link_28_flow', 'node_21_demand', 'link_26_flow', 'link_8_flow', 'node_25_demand', 'node_5_pressure', 'node_3_pressure', 'reservoir_demand', 'link_27_flow', 'node_6_pressure', 'node_12_demand', 'link_30_flow', 'node_15_pressure', 'node_12_pressure', 'link_23_flow', 'node_2_pressure', 'link_29_flow', 'node_16_pressure', 'node_30_pressure', 'node_10_pressure', 'node_1_pressure', 'node_24_demand', 'node_28_demand', 'node_13_demand', 'link_16_flow', 'link_2_flow', 'node_2_demand', 'node_17_demand', 'link_9_flow', 'node_22_pressure', 'node_11_pressure', 'node_3_demand', 'node_14_pressure', 'node_7_demand', 'node_31_pressure', 'link_18_flow', 'link_31_flow', 'node_23_demand']]\n",
      "starting df shape: (87600, 32)\n",
      "This is training run 3 and has the shape:  (87600, 32)\n",
      "The value of dropped columns is 65\n"
     ]
    },
    {
     "name": "stderr",
     "output_type": "stream",
     "text": [
      "/Users/alexellard/opt/anaconda3/lib/python3.7/site-packages/xgboost/data.py:96: UserWarning: Use subset (sliced data) of np.ndarray is not recommended because it will generate extra copies and increase memory consumption\n",
      "  \"because it will generate extra copies and increase \" +\n"
     ]
    },
    {
     "name": "stdout",
     "output_type": "stream",
     "text": [
      "test y shape : (17520, 1)\n",
      "Inv y shape : (17520, 32)\n",
      "y pred shape : (17520, 1)\n",
      "inv y pred : (17520, 32)\n",
      "Run 3 Mean Absolute Error: 8.069014924534613\n",
      "RMSE: 10.533\n",
      "R^2: 0.987\n",
      "[['node_31_pressure', 'node_31_demand', 'node_15_pressure', 'link_4_flow', 'node_24_pressure', 'link_15_flow', 'node_26_demand', 'node_9_demand', 'node_28_demand', 'link_20_flow', 'link_26_flow', 'node_8_pressure', 'link_29_flow', 'node_14_demand', 'node_12_demand', 'node_18_pressure', 'link_11_flow', 'node_10_demand', 'node_6_pressure', 'link_12_flow', 'node_15_demand', 'link_8_flow', 'link_14_flow', 'node_23_pressure', 'link_32_flow', 'node_19_pressure', 'link_28_flow', 'node_27_demand', 'node_17_pressure', 'link_16_flow', 'node_20_demand', 'node_14_pressure', 'node_18_demand', 'node_23_demand', 'node_21_pressure', 'node_1_demand', 'link_19_flow', 'node_30_demand', 'link_22_flow', 'link_6_flow', 'node_28_pressure', 'reservoir_demand', 'node_27_pressure', 'node_7_demand', 'reservoir_pressure', 'node_13_pressure', 'node_30_pressure', 'link_5_flow', 'link_2_flow', 'node_2_demand', 'link_23_flow', 'node_10_pressure', 'link_31_flow', 'link_30_flow', 'node_21_demand', 'link_24_flow', 'node_29_pressure', 'link_18_flow', 'link_17_flow', 'node_9_pressure', 'node_17_demand', 'link_27_flow', 'node_25_pressure', 'node_5_demand']]\n",
      "starting df shape: (87600, 32)\n",
      "This is training run 4 and has the shape:  (87600, 32)\n",
      "The value of dropped columns is 65\n"
     ]
    },
    {
     "name": "stderr",
     "output_type": "stream",
     "text": [
      "/Users/alexellard/opt/anaconda3/lib/python3.7/site-packages/xgboost/data.py:96: UserWarning: Use subset (sliced data) of np.ndarray is not recommended because it will generate extra copies and increase memory consumption\n",
      "  \"because it will generate extra copies and increase \" +\n"
     ]
    },
    {
     "name": "stdout",
     "output_type": "stream",
     "text": [
      "test y shape : (17520, 1)\n",
      "Inv y shape : (17520, 32)\n",
      "y pred shape : (17520, 1)\n",
      "inv y pred : (17520, 32)\n",
      "Run 4 Mean Absolute Error: 1.4301294937685132\n",
      "RMSE: 1.867\n",
      "R^2: 0.981\n",
      "[['link_31_flow', 'node_31_demand', 'node_21_pressure', 'link_10_flow', 'node_23_pressure', 'node_24_pressure', 'node_4_pressure', 'node_31_pressure', 'link_20_flow', 'link_12_flow', 'node_13_demand', 'node_19_pressure', 'link_27_flow', 'node_21_demand', 'node_10_demand', 'node_1_demand', 'reservoir_pressure', 'node_26_demand', 'link_1_flow', 'link_13_flow', 'node_5_pressure', 'link_23_flow', 'link_3_flow', 'node_2_demand', 'link_15_flow', 'node_20_demand', 'link_29_flow', 'link_5_flow', 'node_30_pressure', 'link_16_flow', 'node_25_demand', 'node_14_demand', 'node_9_demand', 'node_22_pressure', 'node_6_demand', 'node_27_demand', 'link_21_flow', 'node_29_pressure', 'node_28_demand', 'node_15_pressure', 'link_22_flow', 'node_18_demand', 'link_11_flow', 'link_26_flow', 'node_12_pressure', 'link_19_flow', 'node_1_pressure', 'link_30_flow', 'link_17_flow', 'link_32_flow', 'node_16_pressure', 'node_11_demand', 'node_17_demand', 'node_7_demand', 'link_2_flow', 'link_14_flow', 'link_6_flow', 'node_8_demand', 'node_14_pressure', 'node_20_pressure', 'node_3_pressure', 'link_28_flow', 'node_3_demand', 'node_7_pressure']]\n",
      "starting df shape: (87600, 32)\n",
      "This is training run 5 and has the shape:  (87600, 32)\n",
      "The value of dropped columns is 65\n"
     ]
    },
    {
     "name": "stderr",
     "output_type": "stream",
     "text": [
      "/Users/alexellard/opt/anaconda3/lib/python3.7/site-packages/xgboost/data.py:96: UserWarning: Use subset (sliced data) of np.ndarray is not recommended because it will generate extra copies and increase memory consumption\n",
      "  \"because it will generate extra copies and increase \" +\n"
     ]
    },
    {
     "name": "stdout",
     "output_type": "stream",
     "text": [
      "test y shape : (17520, 1)\n",
      "Inv y shape : (17520, 32)\n",
      "y pred shape : (17520, 1)\n",
      "inv y pred : (17520, 32)\n",
      "Run 5 Mean Absolute Error: 181.22294462589076\n",
      "RMSE: 236.587\n",
      "R^2: 0.976\n",
      "[['node_30_demand', 'link_24_flow', 'node_2_demand', 'node_10_demand', 'link_19_flow', 'node_25_pressure', 'node_31_pressure', 'node_18_demand', 'node_4_pressure', 'node_28_pressure', 'link_21_flow', 'node_11_pressure', 'node_1_pressure', 'node_19_demand', 'link_25_flow', 'link_16_flow', 'node_13_demand', 'node_3_demand', 'node_12_demand', 'node_25_demand', 'link_26_flow', 'node_9_pressure', 'node_11_demand', 'node_23_demand', 'link_27_flow', 'node_23_pressure', 'node_17_demand', 'node_15_pressure', 'link_18_flow', 'node_29_demand', 'node_24_pressure', 'link_6_flow', 'node_1_demand', 'node_21_demand', 'link_30_flow', 'node_24_demand', 'link_13_flow', 'node_18_pressure', 'link_11_flow', 'node_6_pressure', 'node_31_demand', 'node_21_pressure', 'link_28_flow', 'node_26_pressure', 'node_5_demand', 'node_10_pressure', 'node_5_pressure', 'node_20_pressure', 'link_1_flow', 'node_28_demand', 'node_17_pressure', 'link_29_flow', 'node_27_demand', 'link_4_flow', 'node_16_pressure', 'link_2_flow', 'node_14_pressure', 'link_9_flow', 'link_31_flow', 'link_17_flow', 'link_7_flow', 'link_20_flow', 'node_29_pressure', 'node_14_demand']]\n",
      "starting df shape: (87600, 32)\n",
      "This is training run 6 and has the shape:  (87600, 32)\n",
      "The value of dropped columns is 65\n"
     ]
    },
    {
     "name": "stderr",
     "output_type": "stream",
     "text": [
      "/Users/alexellard/opt/anaconda3/lib/python3.7/site-packages/xgboost/data.py:96: UserWarning: Use subset (sliced data) of np.ndarray is not recommended because it will generate extra copies and increase memory consumption\n",
      "  \"because it will generate extra copies and increase \" +\n"
     ]
    },
    {
     "name": "stdout",
     "output_type": "stream",
     "text": [
      "test y shape : (17520, 1)\n",
      "Inv y shape : (17520, 32)\n",
      "y pred shape : (17520, 1)\n",
      "inv y pred : (17520, 32)\n",
      "Run 6 Mean Absolute Error: 129.58828056682674\n",
      "RMSE: 168.459\n",
      "R^2: 0.988\n",
      "[['link_16_flow', 'node_14_pressure', 'node_2_pressure', 'node_28_pressure', 'link_27_flow', 'node_1_pressure', 'link_10_flow', 'node_15_demand', 'node_12_demand', 'node_21_pressure', 'node_18_pressure', 'node_3_demand', 'link_31_flow', 'node_4_demand', 'link_21_flow', 'node_14_demand', 'node_7_pressure', 'link_24_flow', 'node_17_pressure', 'link_25_flow', 'link_7_flow', 'node_10_pressure', 'node_11_pressure', 'node_2_demand', 'link_5_flow', 'node_19_pressure', 'link_4_flow', 'link_6_flow', 'node_28_demand', 'node_10_demand', 'node_26_pressure', 'node_23_pressure', 'node_20_pressure', 'link_2_flow', 'reservoir_demand', 'node_30_demand', 'reservoir_pressure', 'node_21_demand', 'node_22_demand', 'link_17_flow', 'node_26_demand', 'link_8_flow', 'link_19_flow', 'node_18_demand', 'link_15_flow', 'node_1_demand', 'link_29_flow', 'node_30_pressure', 'node_13_pressure', 'node_27_pressure', 'node_24_pressure', 'link_13_flow', 'link_14_flow', 'node_4_pressure', 'node_11_demand', 'link_3_flow', 'node_25_demand', 'node_24_demand', 'node_29_demand', 'link_28_flow', 'link_1_flow', 'link_23_flow', 'node_7_demand', 'link_12_flow']]\n",
      "starting df shape: (87600, 32)\n",
      "This is training run 7 and has the shape:  (87600, 32)\n",
      "The value of dropped columns is 65\n"
     ]
    },
    {
     "name": "stderr",
     "output_type": "stream",
     "text": [
      "/Users/alexellard/opt/anaconda3/lib/python3.7/site-packages/xgboost/data.py:96: UserWarning: Use subset (sliced data) of np.ndarray is not recommended because it will generate extra copies and increase memory consumption\n",
      "  \"because it will generate extra copies and increase \" +\n"
     ]
    },
    {
     "name": "stdout",
     "output_type": "stream",
     "text": [
      "test y shape : (17520, 1)\n",
      "Inv y shape : (17520, 32)\n",
      "y pred shape : (17520, 1)\n",
      "inv y pred : (17520, 32)\n",
      "Run 7 Mean Absolute Error: 8.205388944234379\n",
      "RMSE: 10.618\n",
      "R^2: 0.986\n",
      "[['link_9_flow', 'link_3_flow', 'node_30_demand', 'link_13_flow', 'node_7_demand', 'node_19_pressure', 'link_7_flow', 'link_2_flow', 'link_12_flow', 'reservoir_demand', 'link_17_flow', 'node_2_pressure', 'node_7_pressure', 'reservoir_pressure', 'node_6_pressure', 'node_10_pressure', 'link_27_flow', 'node_9_pressure', 'node_22_demand', 'link_23_flow', 'node_5_pressure', 'node_31_demand', 'node_11_demand', 'link_24_flow', 'node_31_pressure', 'node_15_demand', 'node_15_pressure', 'link_16_flow', 'node_9_demand', 'node_16_pressure', 'link_15_flow', 'node_29_demand', 'node_17_demand', 'node_10_demand', 'node_21_pressure', 'node_13_pressure', 'link_22_flow', 'node_1_demand', 'node_6_demand', 'link_26_flow', 'node_20_pressure', 'node_22_pressure', 'link_30_flow', 'link_31_flow', 'node_4_pressure', 'node_12_pressure', 'link_10_flow', 'node_26_demand', 'node_8_demand', 'link_11_flow', 'node_25_pressure', 'link_8_flow', 'node_18_demand', 'link_19_flow', 'link_21_flow', 'node_23_demand', 'link_29_flow', 'node_5_demand', 'link_28_flow', 'link_1_flow', 'link_14_flow', 'node_13_demand', 'node_11_pressure', 'node_23_pressure']]\n",
      "starting df shape: (87600, 32)\n",
      "This is training run 8 and has the shape:  (87600, 32)\n",
      "The value of dropped columns is 65\n"
     ]
    },
    {
     "name": "stderr",
     "output_type": "stream",
     "text": [
      "/Users/alexellard/opt/anaconda3/lib/python3.7/site-packages/xgboost/data.py:96: UserWarning: Use subset (sliced data) of np.ndarray is not recommended because it will generate extra copies and increase memory consumption\n",
      "  \"because it will generate extra copies and increase \" +\n"
     ]
    },
    {
     "name": "stdout",
     "output_type": "stream",
     "text": [
      "test y shape : (17520, 1)\n",
      "Inv y shape : (17520, 32)\n",
      "y pred shape : (17520, 1)\n",
      "inv y pred : (17520, 32)\n",
      "Run 8 Mean Absolute Error: 9.858586883780122\n",
      "RMSE: 12.882\n",
      "R^2: 0.976\n",
      "[['link_29_flow', 'node_5_demand', 'node_3_demand', 'node_31_demand', 'node_13_pressure', 'node_7_demand', 'node_9_pressure', 'link_10_flow', 'link_30_flow', 'link_28_flow', 'node_18_demand', 'node_11_pressure', 'node_12_demand', 'node_14_pressure', 'node_31_pressure', 'node_17_pressure', 'link_19_flow', 'node_2_demand', 'node_16_pressure', 'node_23_demand', 'node_24_pressure', 'link_3_flow', 'link_25_flow', 'link_7_flow', 'link_21_flow', 'node_3_pressure', 'node_13_demand', 'node_23_pressure', 'node_30_pressure', 'link_22_flow', 'link_11_flow', 'link_8_flow', 'node_29_demand', 'node_15_demand', 'node_27_demand', 'node_26_demand', 'node_8_pressure', 'node_1_demand', 'link_14_flow', 'link_5_flow', 'reservoir_pressure', 'node_21_demand', 'node_25_demand', 'link_1_flow', 'link_18_flow', 'node_22_pressure', 'node_9_demand', 'link_17_flow', 'node_28_demand', 'link_20_flow', 'node_4_demand', 'node_15_pressure', 'node_7_pressure', 'node_21_pressure', 'node_22_demand', 'node_10_demand', 'link_4_flow', 'node_5_pressure', 'link_9_flow', 'link_26_flow', 'node_14_demand', 'link_31_flow', 'reservoir_demand', 'node_27_pressure']]\n",
      "starting df shape: (87600, 32)\n",
      "This is training run 9 and has the shape:  (87600, 32)\n",
      "The value of dropped columns is 65\n"
     ]
    },
    {
     "name": "stderr",
     "output_type": "stream",
     "text": [
      "/Users/alexellard/opt/anaconda3/lib/python3.7/site-packages/xgboost/data.py:96: UserWarning: Use subset (sliced data) of np.ndarray is not recommended because it will generate extra copies and increase memory consumption\n",
      "  \"because it will generate extra copies and increase \" +\n"
     ]
    },
    {
     "name": "stdout",
     "output_type": "stream",
     "text": [
      "test y shape : (17520, 1)\n",
      "Inv y shape : (17520, 32)\n",
      "y pred shape : (17520, 1)\n",
      "inv y pred : (17520, 32)\n",
      "Run 9 Mean Absolute Error: 4.050911826117182\n",
      "RMSE: 5.363\n",
      "R^2: 0.998\n",
      "[['link_19_flow', 'node_27_pressure', 'node_18_pressure', 'node_22_demand', 'link_17_flow', 'link_25_flow', 'link_2_flow', 'reservoir_pressure', 'node_17_pressure', 'node_26_pressure', 'node_31_pressure', 'link_5_flow', 'node_27_demand', 'node_3_demand', 'node_25_pressure', 'node_7_demand', 'node_14_pressure', 'link_23_flow', 'link_28_flow', 'node_19_demand', 'node_1_pressure', 'node_3_pressure', 'node_8_demand', 'link_31_flow', 'link_3_flow', 'link_13_flow', 'link_9_flow', 'node_29_pressure', 'node_21_demand', 'node_2_demand', 'node_26_demand', 'node_12_demand', 'link_24_flow', 'node_10_demand', 'node_20_pressure', 'link_12_flow', 'link_6_flow', 'node_4_demand', 'node_28_demand', 'link_7_flow', 'node_17_demand', 'node_22_pressure', 'node_24_demand', 'node_30_demand', 'node_19_pressure', 'link_27_flow', 'node_4_pressure', 'node_18_demand', 'link_26_flow', 'node_8_pressure', 'node_20_demand', 'node_29_demand', 'node_13_pressure', 'link_20_flow', 'link_1_flow', 'node_13_demand', 'link_29_flow', 'link_10_flow', 'node_9_demand', 'node_31_demand', 'node_12_pressure', 'node_25_demand', 'node_30_pressure', 'node_1_demand']]\n",
      "starting df shape: (87600, 32)\n",
      "This is training run 10 and has the shape:  (87600, 32)\n",
      "The value of dropped columns is 65\n"
     ]
    },
    {
     "name": "stderr",
     "output_type": "stream",
     "text": [
      "/Users/alexellard/opt/anaconda3/lib/python3.7/site-packages/xgboost/data.py:96: UserWarning: Use subset (sliced data) of np.ndarray is not recommended because it will generate extra copies and increase memory consumption\n",
      "  \"because it will generate extra copies and increase \" +\n"
     ]
    },
    {
     "name": "stdout",
     "output_type": "stream",
     "text": [
      "test y shape : (17520, 1)\n",
      "Inv y shape : (17520, 32)\n",
      "y pred shape : (17520, 1)\n",
      "inv y pred : (17520, 32)\n",
      "Run 10 Mean Absolute Error: 45.15093001323204\n",
      "RMSE: 59.849\n",
      "R^2: 0.998\n",
      "[['node_20_pressure', 'node_13_demand', 'link_24_flow', 'node_27_pressure', 'link_20_flow', 'node_20_demand', 'node_29_demand', 'link_10_flow', 'node_14_demand', 'node_31_demand', 'link_26_flow', 'node_21_pressure', 'node_26_demand', 'link_14_flow', 'node_6_demand', 'node_11_pressure', 'node_5_pressure', 'node_2_demand', 'link_3_flow', 'node_8_demand', 'link_6_flow', 'node_14_pressure', 'node_6_pressure', 'node_13_pressure', 'link_32_flow', 'node_22_demand', 'node_4_demand', 'link_22_flow', 'link_21_flow', 'node_18_demand', 'link_13_flow', 'node_17_demand', 'link_25_flow', 'link_16_flow', 'node_2_pressure', 'link_5_flow', 'node_25_demand', 'node_3_demand', 'node_28_pressure', 'node_30_pressure', 'link_7_flow', 'link_2_flow', 'link_30_flow', 'node_1_pressure', 'node_15_demand', 'node_5_demand', 'link_11_flow', 'link_1_flow', 'node_10_pressure', 'node_23_demand', 'node_9_pressure', 'node_10_demand', 'node_31_pressure', 'link_31_flow', 'node_11_demand', 'node_17_pressure', 'link_4_flow', 'node_25_pressure', 'link_23_flow', 'node_27_demand', 'node_3_pressure', 'link_17_flow', 'link_9_flow', 'node_28_demand', 'node_15_pressure', 'node_7_pressure', 'link_12_flow', 'node_18_pressure', 'node_19_demand', 'node_9_demand']]\n",
      "starting df shape: (87600, 26)\n",
      "This is training run 1 and has the shape:  (87600, 26)\n",
      "The value of dropped columns is 70\n"
     ]
    },
    {
     "name": "stderr",
     "output_type": "stream",
     "text": [
      "/Users/alexellard/opt/anaconda3/lib/python3.7/site-packages/xgboost/data.py:96: UserWarning: Use subset (sliced data) of np.ndarray is not recommended because it will generate extra copies and increase memory consumption\n",
      "  \"because it will generate extra copies and increase \" +\n"
     ]
    },
    {
     "name": "stdout",
     "output_type": "stream",
     "text": [
      "test y shape : (17520, 1)\n",
      "Inv y shape : (17520, 26)\n",
      "y pred shape : (17520, 1)\n",
      "inv y pred : (17520, 26)\n",
      "Run 1 Mean Absolute Error: 132.74880672691515\n",
      "RMSE: 172.584\n",
      "R^2: 0.987\n",
      "[['node_25_pressure', 'link_9_flow', 'node_9_demand', 'node_6_pressure', 'node_11_demand', 'node_19_pressure', 'node_22_demand', 'node_28_demand', 'node_30_demand', 'node_1_demand', 'node_9_pressure', 'link_27_flow', 'node_22_pressure', 'node_26_demand', 'node_19_demand', 'link_31_flow', 'link_5_flow', 'link_11_flow', 'node_20_pressure', 'node_17_pressure', 'link_22_flow', 'node_11_pressure', 'link_24_flow', 'link_8_flow', 'node_17_demand', 'link_14_flow', 'node_27_pressure', 'node_16_pressure', 'link_16_flow', 'link_4_flow', 'node_24_pressure', 'link_32_flow', 'node_29_demand', 'link_2_flow', 'node_7_demand', 'node_15_pressure', 'node_5_pressure', 'link_1_flow', 'node_28_pressure', 'node_29_pressure', 'node_24_demand', 'node_2_pressure', 'node_10_demand', 'node_25_demand', 'node_13_demand', 'link_10_flow', 'node_18_pressure', 'link_28_flow', 'node_30_pressure', 'node_27_demand', 'node_18_demand', 'node_4_demand', 'link_19_flow', 'node_13_pressure', 'node_12_demand', 'node_31_pressure', 'node_1_pressure', 'node_5_demand', 'link_18_flow', 'node_10_pressure', 'node_21_pressure', 'node_23_demand', 'node_8_pressure', 'reservoir_demand', 'node_26_pressure', 'node_12_pressure', 'node_21_demand', 'link_20_flow', 'node_23_pressure']]\n",
      "starting df shape: (87600, 27)\n",
      "This is training run 2 and has the shape:  (87600, 27)\n",
      "The value of dropped columns is 70\n"
     ]
    },
    {
     "name": "stderr",
     "output_type": "stream",
     "text": [
      "/Users/alexellard/opt/anaconda3/lib/python3.7/site-packages/xgboost/data.py:96: UserWarning: Use subset (sliced data) of np.ndarray is not recommended because it will generate extra copies and increase memory consumption\n",
      "  \"because it will generate extra copies and increase \" +\n"
     ]
    },
    {
     "name": "stdout",
     "output_type": "stream",
     "text": [
      "test y shape : (17520, 1)\n",
      "Inv y shape : (17520, 27)\n",
      "y pred shape : (17520, 1)\n",
      "inv y pred : (17520, 27)\n",
      "Run 2 Mean Absolute Error: 7.081042139515623\n",
      "RMSE: 9.277\n",
      "R^2: 0.987\n",
      "[['link_9_flow', 'node_26_pressure', 'node_24_demand', 'node_9_pressure', 'node_2_demand', 'link_1_flow', 'node_17_demand', 'link_24_flow', 'reservoir_demand', 'node_12_demand', 'node_14_pressure', 'link_18_flow', 'node_13_demand', 'link_13_flow', 'link_6_flow', 'link_22_flow', 'node_10_demand', 'node_14_demand', 'link_27_flow', 'link_30_flow', 'node_13_pressure', 'link_25_flow', 'node_3_demand', 'node_7_demand', 'node_6_pressure', 'node_12_pressure', 'node_11_pressure', 'link_15_flow', 'node_30_pressure', 'node_11_demand', 'node_21_demand', 'link_23_flow', 'node_18_pressure', 'node_23_demand', 'link_28_flow', 'node_23_pressure', 'node_31_demand', 'node_28_demand', 'link_29_flow', 'node_1_demand', 'node_4_demand', 'link_20_flow', 'node_25_demand', 'node_20_demand', 'link_32_flow', 'node_29_pressure', 'link_2_flow', 'node_29_demand', 'node_15_pressure', 'node_3_pressure', 'node_27_demand', 'node_22_pressure', 'node_26_demand', 'node_31_pressure', 'node_16_pressure', 'node_5_pressure', 'node_20_pressure', 'link_10_flow', 'node_27_pressure', 'reservoir_pressure', 'node_2_pressure', 'link_26_flow', 'node_6_demand', 'node_18_demand', 'node_1_pressure', 'node_5_demand', 'link_12_flow', 'link_31_flow', 'node_9_demand']]\n",
      "starting df shape: (87600, 27)\n",
      "This is training run 3 and has the shape:  (87600, 27)\n",
      "The value of dropped columns is 70\n"
     ]
    },
    {
     "name": "stderr",
     "output_type": "stream",
     "text": [
      "/Users/alexellard/opt/anaconda3/lib/python3.7/site-packages/xgboost/data.py:96: UserWarning: Use subset (sliced data) of np.ndarray is not recommended because it will generate extra copies and increase memory consumption\n",
      "  \"because it will generate extra copies and increase \" +\n"
     ]
    },
    {
     "name": "stdout",
     "output_type": "stream",
     "text": [
      "test y shape : (17520, 1)\n",
      "Inv y shape : (17520, 27)\n",
      "y pred shape : (17520, 1)\n",
      "inv y pred : (17520, 27)\n",
      "Run 3 Mean Absolute Error: 2.4286131584632176\n",
      "RMSE: 3.167\n",
      "R^2: 0.995\n",
      "[['link_30_flow', 'reservoir_pressure', 'node_26_pressure', 'node_17_pressure', 'node_1_pressure', 'node_29_pressure', 'link_14_flow', 'link_19_flow', 'link_20_flow', 'link_23_flow', 'node_25_demand', 'link_18_flow', 'link_26_flow', 'link_31_flow', 'link_32_flow', 'node_23_demand', 'node_24_pressure', 'node_25_pressure', 'node_8_demand', 'node_11_pressure', 'node_28_demand', 'node_2_pressure', 'link_15_flow', 'link_10_flow', 'node_27_demand', 'link_27_flow', 'node_28_pressure', 'node_4_demand', 'node_29_demand', 'node_14_demand', 'link_4_flow', 'node_7_demand', 'link_2_flow', 'node_21_demand', 'node_1_demand', 'node_22_pressure', 'node_31_pressure', 'node_6_pressure', 'node_6_demand', 'node_15_demand', 'node_24_demand', 'node_7_pressure', 'node_3_demand', 'link_1_flow', 'node_31_demand', 'node_23_pressure', 'node_2_demand', 'node_3_pressure', 'node_30_pressure', 'link_22_flow', 'node_18_pressure', 'node_13_pressure', 'node_12_demand', 'link_11_flow', 'link_3_flow', 'node_27_pressure', 'node_5_demand', 'node_19_demand', 'node_9_demand', 'node_26_demand', 'link_12_flow', 'node_10_demand', 'node_18_demand', 'node_15_pressure', 'node_20_pressure', 'node_21_pressure', 'link_16_flow', 'node_12_pressure', 'link_8_flow']]\n",
      "starting df shape: (87600, 27)\n",
      "This is training run 4 and has the shape:  (87600, 27)\n",
      "The value of dropped columns is 70\n"
     ]
    },
    {
     "name": "stderr",
     "output_type": "stream",
     "text": [
      "/Users/alexellard/opt/anaconda3/lib/python3.7/site-packages/xgboost/data.py:96: UserWarning: Use subset (sliced data) of np.ndarray is not recommended because it will generate extra copies and increase memory consumption\n",
      "  \"because it will generate extra copies and increase \" +\n"
     ]
    },
    {
     "name": "stdout",
     "output_type": "stream",
     "text": [
      "test y shape : (17520, 1)\n",
      "Inv y shape : (17520, 27)\n",
      "y pred shape : (17520, 1)\n",
      "inv y pred : (17520, 27)\n",
      "Run 4 Mean Absolute Error: 137.34666245986858\n",
      "RMSE: 177.423\n",
      "R^2: 0.986\n",
      "[['node_3_demand', 'link_28_flow', 'node_12_pressure', 'node_31_pressure', 'link_14_flow', 'link_4_flow', 'node_2_demand', 'node_19_pressure', 'node_25_demand', 'link_20_flow', 'node_11_demand', 'link_21_flow', 'node_26_pressure', 'link_31_flow', 'node_14_pressure', 'node_21_demand', 'node_30_pressure', 'node_5_demand', 'link_19_flow', 'node_6_pressure', 'node_23_pressure', 'node_27_pressure', 'node_13_pressure', 'node_15_pressure', 'node_19_demand', 'link_32_flow', 'node_6_demand', 'node_27_demand', 'link_30_flow', 'link_8_flow', 'link_24_flow', 'link_11_flow', 'node_12_demand', 'node_7_demand', 'node_29_pressure', 'node_1_pressure', 'node_3_pressure', 'node_29_demand', 'node_30_demand', 'node_5_pressure', 'node_10_demand', 'node_24_pressure', 'node_8_demand', 'node_25_pressure', 'node_17_pressure', 'reservoir_pressure', 'link_6_flow', 'link_10_flow', 'link_2_flow', 'link_23_flow', 'link_22_flow', 'link_29_flow', 'node_11_pressure', 'link_1_flow', 'node_20_demand', 'node_16_pressure', 'link_17_flow', 'node_9_demand', 'link_3_flow', 'node_26_demand', 'link_5_flow', 'node_1_demand', 'node_17_demand', 'link_18_flow', 'node_18_demand', 'node_10_pressure', 'node_7_pressure', 'reservoir_demand', 'node_2_pressure', 'node_8_pressure']]\n",
      "starting df shape: (87600, 26)\n",
      "This is training run 5 and has the shape:  (87600, 26)\n",
      "The value of dropped columns is 70\n"
     ]
    },
    {
     "name": "stderr",
     "output_type": "stream",
     "text": [
      "/Users/alexellard/opt/anaconda3/lib/python3.7/site-packages/xgboost/data.py:96: UserWarning: Use subset (sliced data) of np.ndarray is not recommended because it will generate extra copies and increase memory consumption\n",
      "  \"because it will generate extra copies and increase \" +\n"
     ]
    },
    {
     "name": "stdout",
     "output_type": "stream",
     "text": [
      "test y shape : (17520, 1)\n",
      "Inv y shape : (17520, 26)\n",
      "y pred shape : (17520, 1)\n",
      "inv y pred : (17520, 26)\n",
      "Run 5 Mean Absolute Error: 1.9607978699027273\n",
      "RMSE: 2.614\n",
      "R^2: 0.998\n",
      "[['node_14_demand', 'node_22_demand', 'node_23_demand', 'link_18_flow', 'node_27_demand', 'link_23_flow', 'link_17_flow', 'node_14_pressure', 'node_11_demand', 'link_2_flow', 'node_18_pressure', 'link_30_flow', 'link_29_flow', 'node_17_demand', 'link_28_flow', 'node_22_pressure', 'node_19_pressure', 'node_26_demand', 'link_9_flow', 'link_19_flow', 'link_15_flow', 'link_8_flow', 'node_12_demand', 'node_4_demand', 'node_15_demand', 'link_1_flow', 'node_2_pressure', 'node_6_demand', 'node_2_demand', 'node_29_demand', 'node_31_pressure', 'link_20_flow', 'node_10_demand', 'node_13_pressure', 'link_3_flow', 'node_7_demand', 'node_1_demand', 'node_25_demand', 'node_12_pressure', 'node_23_pressure', 'node_24_demand', 'link_25_flow', 'link_16_flow', 'node_4_pressure', 'link_32_flow', 'link_13_flow', 'node_24_pressure', 'node_16_pressure', 'node_8_demand', 'link_14_flow', 'reservoir_pressure', 'node_30_pressure', 'node_21_pressure', 'node_29_pressure', 'node_25_pressure', 'link_12_flow', 'node_3_pressure', 'link_10_flow', 'link_6_flow', 'node_31_demand', 'node_1_pressure', 'link_21_flow', 'reservoir_demand', 'node_6_pressure', 'node_15_pressure', 'node_7_pressure', 'link_22_flow', 'link_11_flow', 'node_9_demand']]\n",
      "starting df shape: (87600, 27)\n",
      "This is training run 6 and has the shape:  (87600, 27)\n",
      "The value of dropped columns is 70\n"
     ]
    },
    {
     "name": "stderr",
     "output_type": "stream",
     "text": [
      "/Users/alexellard/opt/anaconda3/lib/python3.7/site-packages/xgboost/data.py:96: UserWarning: Use subset (sliced data) of np.ndarray is not recommended because it will generate extra copies and increase memory consumption\n",
      "  \"because it will generate extra copies and increase \" +\n"
     ]
    },
    {
     "name": "stdout",
     "output_type": "stream",
     "text": [
      "test y shape : (17520, 1)\n",
      "Inv y shape : (17520, 27)\n",
      "y pred shape : (17520, 1)\n",
      "inv y pred : (17520, 27)\n",
      "Run 6 Mean Absolute Error: 1.6625892783821874\n",
      "RMSE: 2.164\n",
      "R^2: 0.974\n",
      "[['node_6_demand', 'node_24_pressure', 'node_30_demand', 'link_18_flow', 'node_8_pressure', 'node_17_pressure', 'link_10_flow', 'node_6_pressure', 'link_13_flow', 'node_5_pressure', 'node_13_demand', 'reservoir_pressure', 'link_12_flow', 'node_13_pressure', 'node_29_demand', 'link_7_flow', 'node_19_pressure', 'node_24_demand', 'link_15_flow', 'node_26_demand', 'node_22_pressure', 'node_11_pressure', 'link_2_flow', 'node_22_demand', 'link_20_flow', 'link_30_flow', 'node_27_demand', 'node_4_demand', 'node_9_pressure', 'link_26_flow', 'link_3_flow', 'node_3_demand', 'node_21_pressure', 'node_3_pressure', 'node_29_pressure', 'node_17_demand', 'link_16_flow', 'node_15_pressure', 'link_21_flow', 'link_25_flow', 'node_14_demand', 'node_20_pressure', 'node_18_pressure', 'node_4_pressure', 'link_6_flow', 'link_29_flow', 'node_5_demand', 'link_11_flow', 'link_28_flow', 'node_8_demand', 'link_5_flow', 'link_27_flow', 'link_9_flow', 'link_24_flow', 'node_7_demand', 'link_32_flow', 'node_10_pressure', 'node_31_demand', 'node_11_demand', 'node_25_demand', 'link_23_flow', 'link_8_flow', 'node_12_demand', 'node_12_pressure', 'link_1_flow', 'node_7_pressure', 'node_1_pressure', 'node_28_pressure', 'node_16_pressure']]\n",
      "starting df shape: (87600, 27)\n",
      "This is training run 7 and has the shape:  (87600, 27)\n",
      "The value of dropped columns is 70\n"
     ]
    },
    {
     "name": "stderr",
     "output_type": "stream",
     "text": [
      "/Users/alexellard/opt/anaconda3/lib/python3.7/site-packages/xgboost/data.py:96: UserWarning: Use subset (sliced data) of np.ndarray is not recommended because it will generate extra copies and increase memory consumption\n",
      "  \"because it will generate extra copies and increase \" +\n"
     ]
    },
    {
     "name": "stdout",
     "output_type": "stream",
     "text": [
      "test y shape : (17520, 1)\n",
      "Inv y shape : (17520, 27)\n",
      "y pred shape : (17520, 1)\n",
      "inv y pred : (17520, 27)\n",
      "Run 7 Mean Absolute Error: 175.99082586994197\n",
      "RMSE: 229.516\n",
      "R^2: 0.977\n",
      "[['node_8_pressure', 'node_30_pressure', 'link_30_flow', 'link_11_flow', 'link_23_flow', 'link_31_flow', 'node_5_demand', 'node_14_demand', 'node_31_demand', 'node_23_pressure', 'node_27_pressure', 'node_12_demand', 'node_4_demand', 'node_7_pressure', 'link_10_flow', 'node_22_pressure', 'node_15_demand', 'node_9_pressure', 'node_13_demand', 'link_13_flow', 'node_11_pressure', 'link_24_flow', 'link_17_flow', 'node_22_demand', 'link_18_flow', 'node_19_pressure', 'node_7_demand', 'link_6_flow', 'node_9_demand', 'link_27_flow', 'node_23_demand', 'node_30_demand', 'node_6_pressure', 'node_21_pressure', 'node_28_demand', 'node_28_pressure', 'node_10_pressure', 'node_24_pressure', 'link_15_flow', 'node_17_pressure', 'link_32_flow', 'link_5_flow', 'node_29_pressure', 'node_6_demand', 'node_29_demand', 'link_28_flow', 'link_7_flow', 'node_26_demand', 'link_26_flow', 'node_21_demand', 'node_12_pressure', 'link_25_flow', 'link_4_flow', 'node_13_pressure', 'node_20_demand', 'link_12_flow', 'reservoir_demand', 'link_16_flow', 'link_22_flow', 'link_20_flow', 'node_3_pressure', 'node_2_pressure', 'link_21_flow', 'node_5_pressure', 'node_26_pressure', 'link_14_flow', 'node_2_demand', 'link_2_flow', 'link_1_flow']]\n",
      "starting df shape: (87600, 27)\n",
      "This is training run 8 and has the shape:  (87600, 27)\n",
      "The value of dropped columns is 70\n"
     ]
    },
    {
     "name": "stderr",
     "output_type": "stream",
     "text": [
      "/Users/alexellard/opt/anaconda3/lib/python3.7/site-packages/xgboost/data.py:96: UserWarning: Use subset (sliced data) of np.ndarray is not recommended because it will generate extra copies and increase memory consumption\n",
      "  \"because it will generate extra copies and increase \" +\n"
     ]
    },
    {
     "name": "stdout",
     "output_type": "stream",
     "text": [
      "test y shape : (17520, 1)\n",
      "Inv y shape : (17520, 27)\n",
      "y pred shape : (17520, 1)\n",
      "inv y pred : (17520, 27)\n",
      "Run 8 Mean Absolute Error: 10.266053588164228\n",
      "RMSE: 13.447\n",
      "R^2: 0.979\n",
      "[['node_28_demand', 'node_8_demand', 'link_10_flow', 'node_7_demand', 'node_19_demand', 'node_29_demand', 'node_29_pressure', 'link_28_flow', 'node_28_pressure', 'node_22_pressure', 'node_23_pressure', 'node_14_pressure', 'node_9_demand', 'link_2_flow', 'node_30_pressure', 'node_3_pressure', 'node_13_demand', 'link_6_flow', 'node_13_pressure', 'node_25_demand', 'node_27_demand', 'link_4_flow', 'node_24_pressure', 'node_8_pressure', 'node_26_pressure', 'node_15_pressure', 'node_5_pressure', 'link_1_flow', 'node_20_pressure', 'node_2_pressure', 'link_8_flow', 'link_31_flow', 'link_25_flow', 'link_27_flow', 'node_5_demand', 'link_9_flow', 'reservoir_demand', 'link_17_flow', 'node_6_demand', 'node_4_pressure', 'node_14_demand', 'link_24_flow', 'node_30_demand', 'link_29_flow', 'link_3_flow', 'node_22_demand', 'link_5_flow', 'node_19_pressure', 'link_13_flow', 'link_14_flow', 'node_2_demand', 'link_20_flow', 'link_22_flow', 'link_32_flow', 'node_12_pressure', 'link_18_flow', 'link_30_flow', 'node_27_pressure', 'node_11_demand', 'link_15_flow', 'node_3_demand', 'node_21_demand', 'node_1_demand', 'node_1_pressure', 'node_9_pressure', 'node_18_pressure', 'node_17_demand', 'node_21_pressure', 'node_17_pressure']]\n",
      "starting df shape: (87600, 27)\n",
      "This is training run 9 and has the shape:  (87600, 27)\n",
      "The value of dropped columns is 70\n"
     ]
    },
    {
     "name": "stderr",
     "output_type": "stream",
     "text": [
      "/Users/alexellard/opt/anaconda3/lib/python3.7/site-packages/xgboost/data.py:96: UserWarning: Use subset (sliced data) of np.ndarray is not recommended because it will generate extra copies and increase memory consumption\n",
      "  \"because it will generate extra copies and increase \" +\n"
     ]
    },
    {
     "name": "stdout",
     "output_type": "stream",
     "text": [
      "test y shape : (17520, 1)\n",
      "Inv y shape : (17520, 27)\n",
      "y pred shape : (17520, 1)\n",
      "inv y pred : (17520, 27)\n",
      "Run 9 Mean Absolute Error: 3.8119266606151188\n",
      "RMSE: 4.962\n",
      "R^2: 0.995\n",
      "[['link_13_flow', 'node_27_demand', 'node_20_demand', 'node_30_demand', 'node_12_pressure', 'node_2_demand', 'node_26_demand', 'node_31_demand', 'link_8_flow', 'link_21_flow', 'node_5_demand', 'node_17_pressure', 'node_13_demand', 'link_1_flow', 'node_13_pressure', 'node_11_demand', 'node_6_demand', 'link_4_flow', 'node_19_pressure', 'node_9_demand', 'node_17_demand', 'link_22_flow', 'reservoir_pressure', 'node_21_pressure', 'link_15_flow', 'node_8_pressure', 'link_29_flow', 'node_29_pressure', 'link_31_flow', 'node_20_pressure', 'node_15_demand', 'link_32_flow', 'link_2_flow', 'link_12_flow', 'node_23_demand', 'node_25_demand', 'link_17_flow', 'node_1_pressure', 'node_3_demand', 'node_9_pressure', 'reservoir_demand', 'node_27_pressure', 'node_19_demand', 'node_10_pressure', 'node_12_demand', 'node_30_pressure', 'node_4_demand', 'link_11_flow', 'link_5_flow', 'link_30_flow', 'node_26_pressure', 'node_16_pressure', 'node_7_pressure', 'link_10_flow', 'node_24_pressure', 'link_24_flow', 'node_14_pressure', 'node_8_demand', 'link_23_flow', 'link_14_flow', 'node_31_pressure', 'node_28_pressure', 'node_2_pressure', 'node_18_pressure', 'node_21_demand', 'node_10_demand', 'node_23_pressure', 'link_28_flow', 'link_18_flow', 'link_25_flow']]\n",
      "starting df shape: (87600, 26)\n",
      "This is training run 10 and has the shape:  (87600, 26)\n",
      "The value of dropped columns is 70\n"
     ]
    },
    {
     "name": "stderr",
     "output_type": "stream",
     "text": [
      "/Users/alexellard/opt/anaconda3/lib/python3.7/site-packages/xgboost/data.py:96: UserWarning: Use subset (sliced data) of np.ndarray is not recommended because it will generate extra copies and increase memory consumption\n",
      "  \"because it will generate extra copies and increase \" +\n"
     ]
    },
    {
     "name": "stdout",
     "output_type": "stream",
     "text": [
      "test y shape : (17520, 1)\n",
      "Inv y shape : (17520, 26)\n",
      "y pred shape : (17520, 1)\n",
      "inv y pred : (17520, 26)\n",
      "Run 10 Mean Absolute Error: 5.601269803552316\n",
      "RMSE: 7.248\n",
      "R^2: 0.994\n",
      "[['link_25_flow', 'node_27_demand', 'link_14_flow', 'node_15_demand', 'node_31_demand', 'node_26_demand', 'node_27_pressure', 'node_5_demand', 'node_30_demand', 'link_5_flow', 'node_20_demand', 'node_22_pressure', 'node_13_demand', 'link_26_flow', 'node_22_demand', 'link_30_flow', 'node_10_demand', 'node_4_pressure', 'node_9_demand', 'node_23_demand', 'node_24_demand', 'link_29_flow', 'link_32_flow', 'link_7_flow', 'node_8_demand', 'node_17_demand', 'node_12_demand', 'link_24_flow', 'node_28_demand', 'node_11_pressure', 'link_20_flow', 'node_17_pressure', 'node_12_pressure', 'node_14_demand', 'link_3_flow', 'link_31_flow', 'node_28_pressure', 'link_17_flow', 'node_26_pressure', 'node_3_demand', 'node_23_pressure', 'link_1_flow', 'link_19_flow', 'reservoir_pressure', 'node_10_pressure', 'link_10_flow', 'link_12_flow', 'link_11_flow', 'node_6_pressure', 'node_1_demand', 'node_4_demand', 'node_19_pressure', 'node_24_pressure', 'link_15_flow', 'node_29_demand', 'node_15_pressure', 'link_4_flow', 'node_18_demand', 'link_18_flow', 'node_8_pressure', 'node_13_pressure', 'node_2_demand', 'node_14_pressure', 'node_1_pressure', 'node_2_pressure', 'node_21_pressure', 'link_2_flow', 'link_8_flow', 'node_16_pressure', 'node_11_demand', 'node_29_pressure', 'link_28_flow', 'node_5_pressure', 'node_7_pressure']]\n",
      "starting df shape: (87600, 22)\n",
      "This is training run 1 and has the shape:  (87600, 22)\n",
      "The value of dropped columns is 75\n"
     ]
    },
    {
     "name": "stderr",
     "output_type": "stream",
     "text": [
      "/Users/alexellard/opt/anaconda3/lib/python3.7/site-packages/xgboost/data.py:96: UserWarning: Use subset (sliced data) of np.ndarray is not recommended because it will generate extra copies and increase memory consumption\n",
      "  \"because it will generate extra copies and increase \" +\n"
     ]
    },
    {
     "name": "stdout",
     "output_type": "stream",
     "text": [
      "test y shape : (17520, 1)\n",
      "Inv y shape : (17520, 22)\n",
      "y pred shape : (17520, 1)\n",
      "inv y pred : (17520, 22)\n",
      "Run 1 Mean Absolute Error: 90.55270281278958\n",
      "RMSE: 116.423\n",
      "R^2: 0.994\n",
      "[['node_6_pressure', 'node_10_demand', 'link_17_flow', 'node_12_demand', 'node_15_pressure', 'node_25_demand', 'node_30_demand', 'node_18_pressure', 'link_1_flow', 'node_18_demand', 'node_11_pressure', 'link_14_flow', 'node_31_pressure', 'link_6_flow', 'node_11_demand', 'link_21_flow', 'link_5_flow', 'node_15_demand', 'node_31_demand', 'node_5_demand', 'link_13_flow', 'node_2_demand', 'node_9_demand', 'node_20_demand', 'link_23_flow', 'node_19_demand', 'link_18_flow', 'node_21_demand', 'node_23_pressure', 'link_7_flow', 'link_10_flow', 'node_1_demand', 'node_21_pressure', 'node_28_demand', 'link_19_flow', 'link_12_flow', 'link_29_flow', 'node_7_pressure', 'node_7_demand', 'node_26_pressure', 'node_13_demand', 'node_27_demand', 'link_20_flow', 'node_30_pressure', 'node_3_pressure', 'node_24_demand', 'node_27_pressure', 'node_2_pressure', 'link_24_flow', 'link_11_flow', 'node_8_demand', 'node_29_demand', 'node_10_pressure', 'link_4_flow', 'node_24_pressure', 'reservoir_demand', 'link_3_flow', 'link_25_flow', 'node_8_pressure', 'node_22_demand', 'node_26_demand', 'node_17_pressure', 'node_28_pressure', 'link_28_flow', 'link_30_flow', 'node_1_pressure', 'link_2_flow', 'node_14_demand', 'node_4_pressure', 'node_13_pressure', 'node_14_pressure', 'link_32_flow', 'link_8_flow', 'link_31_flow']]\n",
      "starting df shape: (87600, 22)\n",
      "This is training run 2 and has the shape:  (87600, 22)\n",
      "The value of dropped columns is 75\n"
     ]
    },
    {
     "name": "stderr",
     "output_type": "stream",
     "text": [
      "/Users/alexellard/opt/anaconda3/lib/python3.7/site-packages/xgboost/data.py:96: UserWarning: Use subset (sliced data) of np.ndarray is not recommended because it will generate extra copies and increase memory consumption\n",
      "  \"because it will generate extra copies and increase \" +\n"
     ]
    },
    {
     "name": "stdout",
     "output_type": "stream",
     "text": [
      "test y shape : (17520, 1)\n",
      "Inv y shape : (17520, 22)\n",
      "y pred shape : (17520, 1)\n",
      "inv y pred : (17520, 22)\n",
      "Run 2 Mean Absolute Error: 0.43457317289425956\n",
      "RMSE: 0.575\n",
      "R^2: 0.998\n",
      "[['link_10_flow', 'node_16_pressure', 'node_27_demand', 'link_23_flow', 'link_13_flow', 'link_4_flow', 'node_12_demand', 'node_3_demand', 'node_6_demand', 'node_23_pressure', 'node_7_demand', 'node_25_demand', 'node_8_pressure', 'node_7_pressure', 'link_14_flow', 'node_13_pressure', 'link_2_flow', 'node_14_pressure', 'node_6_pressure', 'link_26_flow', 'link_28_flow', 'node_12_pressure', 'node_21_demand', 'node_9_demand', 'node_31_demand', 'link_22_flow', 'link_9_flow', 'link_6_flow', 'node_31_pressure', 'link_12_flow', 'node_28_demand', 'node_9_pressure', 'node_30_pressure', 'node_15_demand', 'node_1_pressure', 'node_17_pressure', 'link_11_flow', 'reservoir_pressure', 'node_4_pressure', 'link_18_flow', 'link_17_flow', 'link_25_flow', 'link_29_flow', 'link_1_flow', 'reservoir_demand', 'node_5_demand', 'link_30_flow', 'link_31_flow', 'node_22_pressure', 'node_5_pressure', 'link_27_flow', 'node_19_demand', 'node_1_demand', 'node_24_demand', 'node_21_pressure', 'node_2_pressure', 'node_8_demand', 'node_11_demand', 'link_21_flow', 'node_22_demand', 'node_30_demand', 'node_15_pressure', 'node_20_pressure', 'node_26_demand', 'link_8_flow', 'link_15_flow', 'node_13_demand', 'link_5_flow', 'node_26_pressure', 'node_3_pressure', 'node_27_pressure', 'link_19_flow', 'node_24_pressure', 'link_24_flow']]\n",
      "starting df shape: (87600, 22)\n",
      "This is training run 3 and has the shape:  (87600, 22)\n",
      "The value of dropped columns is 75\n"
     ]
    },
    {
     "name": "stderr",
     "output_type": "stream",
     "text": [
      "/Users/alexellard/opt/anaconda3/lib/python3.7/site-packages/xgboost/data.py:96: UserWarning: Use subset (sliced data) of np.ndarray is not recommended because it will generate extra copies and increase memory consumption\n",
      "  \"because it will generate extra copies and increase \" +\n"
     ]
    },
    {
     "name": "stdout",
     "output_type": "stream",
     "text": [
      "test y shape : (17520, 1)\n",
      "Inv y shape : (17520, 22)\n",
      "y pred shape : (17520, 1)\n",
      "inv y pred : (17520, 22)\n",
      "Run 3 Mean Absolute Error: 5.219709979028732\n",
      "RMSE: 6.756\n",
      "R^2: 0.993\n",
      "[['node_8_pressure', 'node_24_demand', 'node_17_demand', 'link_32_flow', 'link_7_flow', 'node_19_demand', 'node_24_pressure', 'node_11_pressure', 'node_4_pressure', 'link_5_flow', 'node_3_pressure', 'link_24_flow', 'node_28_demand', 'node_14_demand', 'node_31_demand', 'node_22_demand', 'link_23_flow', 'node_3_demand', 'node_9_pressure', 'node_15_demand', 'link_29_flow', 'node_27_demand', 'node_13_pressure', 'link_22_flow', 'link_4_flow', 'node_8_demand', 'node_12_demand', 'link_10_flow', 'link_8_flow', 'node_14_pressure', 'reservoir_demand', 'node_30_demand', 'node_10_pressure', 'node_28_pressure', 'node_5_demand', 'node_9_demand', 'node_26_pressure', 'node_4_demand', 'link_27_flow', 'node_2_pressure', 'node_18_pressure', 'node_22_pressure', 'link_21_flow', 'node_31_pressure', 'link_14_flow', 'reservoir_pressure', 'node_18_demand', 'node_10_demand', 'node_19_pressure', 'link_16_flow', 'node_5_pressure', 'node_21_pressure', 'node_23_pressure', 'node_29_demand', 'link_18_flow', 'link_11_flow', 'node_21_demand', 'node_25_demand', 'node_30_pressure', 'link_3_flow', 'link_15_flow', 'link_1_flow', 'node_26_demand', 'node_20_pressure', 'link_26_flow', 'link_30_flow', 'link_6_flow', 'link_19_flow', 'node_17_pressure', 'node_1_pressure', 'node_23_demand', 'link_31_flow', 'link_12_flow', 'link_9_flow', 'node_20_demand']]\n",
      "starting df shape: (87600, 21)\n",
      "This is training run 4 and has the shape:  (87600, 21)\n",
      "The value of dropped columns is 75\n"
     ]
    },
    {
     "name": "stderr",
     "output_type": "stream",
     "text": [
      "/Users/alexellard/opt/anaconda3/lib/python3.7/site-packages/xgboost/data.py:96: UserWarning: Use subset (sliced data) of np.ndarray is not recommended because it will generate extra copies and increase memory consumption\n",
      "  \"because it will generate extra copies and increase \" +\n"
     ]
    },
    {
     "name": "stdout",
     "output_type": "stream",
     "text": [
      "test y shape : (17520, 1)\n",
      "Inv y shape : (17520, 21)\n",
      "y pred shape : (17520, 1)\n",
      "inv y pred : (17520, 21)\n",
      "Run 4 Mean Absolute Error: 9.929834977527017\n",
      "RMSE: 12.962\n",
      "R^2: 0.980\n",
      "[['node_1_pressure', 'node_6_demand', 'node_24_pressure', 'node_27_demand', 'node_27_pressure', 'link_3_flow', 'node_22_pressure', 'link_7_flow', 'link_19_flow', 'node_5_pressure', 'node_5_demand', 'node_30_pressure', 'link_5_flow', 'node_28_pressure', 'reservoir_pressure', 'node_11_demand', 'link_25_flow', 'link_4_flow', 'node_14_pressure', 'node_15_pressure', 'link_13_flow', 'reservoir_demand', 'node_17_pressure', 'node_30_demand', 'link_27_flow', 'node_7_demand', 'link_14_flow', 'link_20_flow', 'node_8_pressure', 'node_12_demand', 'link_29_flow', 'node_14_demand', 'node_19_pressure', 'link_10_flow', 'node_21_pressure', 'link_11_flow', 'node_2_pressure', 'node_22_demand', 'link_16_flow', 'node_29_pressure', 'node_26_pressure', 'link_12_flow', 'link_18_flow', 'link_31_flow', 'link_21_flow', 'node_10_pressure', 'link_8_flow', 'node_7_pressure', 'node_24_demand', 'node_13_demand', 'link_9_flow', 'node_3_demand', 'node_13_pressure', 'node_23_pressure', 'link_2_flow', 'node_20_pressure', 'node_17_demand', 'node_4_demand', 'node_11_pressure', 'link_24_flow', 'node_18_demand', 'node_9_pressure', 'node_15_demand', 'link_1_flow', 'link_26_flow', 'node_8_demand', 'node_9_demand', 'node_10_demand', 'node_31_pressure', 'link_32_flow', 'link_6_flow', 'node_31_demand', 'node_26_demand', 'link_17_flow']]\n",
      "starting df shape: (87600, 22)\n",
      "This is training run 5 and has the shape:  (87600, 22)\n",
      "The value of dropped columns is 75\n"
     ]
    },
    {
     "name": "stderr",
     "output_type": "stream",
     "text": [
      "/Users/alexellard/opt/anaconda3/lib/python3.7/site-packages/xgboost/data.py:96: UserWarning: Use subset (sliced data) of np.ndarray is not recommended because it will generate extra copies and increase memory consumption\n",
      "  \"because it will generate extra copies and increase \" +\n"
     ]
    },
    {
     "name": "stdout",
     "output_type": "stream",
     "text": [
      "test y shape : (17520, 1)\n",
      "Inv y shape : (17520, 22)\n",
      "y pred shape : (17520, 1)\n",
      "inv y pred : (17520, 22)\n",
      "Run 5 Mean Absolute Error: 8.211014884804278\n",
      "RMSE: 10.662\n",
      "R^2: 0.987\n",
      "[['node_14_demand', 'link_2_flow', 'node_28_pressure', 'node_18_pressure', 'node_10_demand', 'node_9_pressure', 'node_18_demand', 'link_7_flow', 'node_8_demand', 'link_30_flow', 'node_20_demand', 'node_19_pressure', 'node_22_pressure', 'node_23_demand', 'node_23_pressure', 'link_15_flow', 'node_21_demand', 'link_19_flow', 'reservoir_pressure', 'node_6_demand', 'link_32_flow', 'link_3_flow', 'node_17_demand', 'node_26_pressure', 'node_16_pressure', 'node_25_pressure', 'node_15_demand', 'node_25_demand', 'node_20_pressure', 'link_4_flow', 'link_16_flow', 'node_14_pressure', 'node_29_demand', 'node_13_demand', 'node_17_pressure', 'node_22_demand', 'link_29_flow', 'node_12_demand', 'node_1_demand', 'node_28_demand', 'node_3_pressure', 'link_13_flow', 'node_26_demand', 'link_25_flow', 'node_30_demand', 'link_23_flow', 'link_18_flow', 'link_5_flow', 'node_2_demand', 'link_21_flow', 'link_27_flow', 'node_1_pressure', 'link_14_flow', 'node_29_pressure', 'node_2_pressure', 'node_9_demand', 'node_5_pressure', 'link_31_flow', 'node_11_pressure', 'node_3_demand', 'node_8_pressure', 'link_9_flow', 'link_12_flow', 'reservoir_demand', 'node_7_demand', 'link_26_flow', 'node_30_pressure', 'node_7_pressure', 'node_27_demand', 'node_19_demand', 'link_28_flow', 'node_24_demand', 'link_17_flow', 'node_13_pressure']]\n",
      "starting df shape: (87600, 22)\n",
      "This is training run 6 and has the shape:  (87600, 22)\n",
      "The value of dropped columns is 75\n"
     ]
    },
    {
     "name": "stderr",
     "output_type": "stream",
     "text": [
      "/Users/alexellard/opt/anaconda3/lib/python3.7/site-packages/xgboost/data.py:96: UserWarning: Use subset (sliced data) of np.ndarray is not recommended because it will generate extra copies and increase memory consumption\n",
      "  \"because it will generate extra copies and increase \" +\n"
     ]
    },
    {
     "name": "stdout",
     "output_type": "stream",
     "text": [
      "test y shape : (17520, 1)\n",
      "Inv y shape : (17520, 22)\n",
      "y pred shape : (17520, 1)\n",
      "inv y pred : (17520, 22)\n",
      "Run 6 Mean Absolute Error: 8.590422115375407\n",
      "RMSE: 11.214\n",
      "R^2: 0.972\n",
      "[['node_7_pressure', 'node_6_demand', 'node_27_demand', 'link_29_flow', 'node_18_pressure', 'node_9_demand', 'node_31_pressure', 'link_27_flow', 'node_2_pressure', 'link_7_flow', 'link_26_flow', 'node_28_demand', 'node_29_pressure', 'node_17_demand', 'link_18_flow', 'link_22_flow', 'node_15_demand', 'link_13_flow', 'node_12_demand', 'link_31_flow', 'link_15_flow', 'node_25_demand', 'node_23_pressure', 'node_14_pressure', 'node_26_pressure', 'node_8_demand', 'link_1_flow', 'node_13_demand', 'link_4_flow', 'link_12_flow', 'node_11_pressure', 'node_31_demand', 'node_24_demand', 'node_22_pressure', 'link_14_flow', 'node_5_pressure', 'node_13_pressure', 'reservoir_demand', 'node_2_demand', 'node_3_pressure', 'reservoir_pressure', 'link_19_flow', 'link_6_flow', 'node_15_pressure', 'link_25_flow', 'link_17_flow', 'node_3_demand', 'node_21_demand', 'node_20_pressure', 'link_21_flow', 'link_10_flow', 'node_9_pressure', 'link_30_flow', 'node_14_demand', 'node_30_pressure', 'node_17_pressure', 'node_16_pressure', 'node_28_pressure', 'node_19_demand', 'node_18_demand', 'node_6_pressure', 'link_24_flow', 'link_16_flow', 'node_29_demand', 'link_20_flow', 'link_2_flow', 'node_25_pressure', 'link_9_flow', 'link_8_flow', 'node_19_pressure', 'node_5_demand', 'node_22_demand', 'node_7_demand', 'node_4_demand']]\n",
      "starting df shape: (87600, 22)\n",
      "This is training run 7 and has the shape:  (87600, 22)\n",
      "The value of dropped columns is 75\n"
     ]
    },
    {
     "name": "stderr",
     "output_type": "stream",
     "text": [
      "/Users/alexellard/opt/anaconda3/lib/python3.7/site-packages/xgboost/data.py:96: UserWarning: Use subset (sliced data) of np.ndarray is not recommended because it will generate extra copies and increase memory consumption\n",
      "  \"because it will generate extra copies and increase \" +\n"
     ]
    },
    {
     "name": "stdout",
     "output_type": "stream",
     "text": [
      "test y shape : (17520, 1)\n",
      "Inv y shape : (17520, 22)\n",
      "y pred shape : (17520, 1)\n",
      "inv y pred : (17520, 22)\n",
      "Run 7 Mean Absolute Error: 12.168389115377808\n",
      "RMSE: 15.897\n",
      "R^2: 0.971\n",
      "[['link_28_flow', 'node_3_demand', 'node_1_demand', 'link_29_flow', 'node_28_pressure', 'node_27_demand', 'node_9_demand', 'link_24_flow', 'node_22_demand', 'node_5_pressure', 'node_6_pressure', 'node_29_pressure', 'node_17_pressure', 'node_14_demand', 'link_30_flow', 'node_11_pressure', 'link_17_flow', 'node_8_demand', 'link_22_flow', 'node_23_pressure', 'node_4_pressure', 'node_15_demand', 'node_13_pressure', 'link_3_flow', 'link_11_flow', 'node_25_demand', 'link_1_flow', 'link_12_flow', 'node_15_pressure', 'node_17_demand', 'node_25_pressure', 'node_27_pressure', 'node_31_demand', 'node_18_demand', 'link_16_flow', 'link_23_flow', 'node_26_demand', 'link_5_flow', 'node_26_pressure', 'link_15_flow', 'node_11_demand', 'node_18_pressure', 'link_27_flow', 'link_18_flow', 'link_31_flow', 'link_4_flow', 'node_12_pressure', 'node_24_pressure', 'link_8_flow', 'node_21_pressure', 'node_13_demand', 'node_23_demand', 'link_19_flow', 'link_21_flow', 'node_10_pressure', 'link_6_flow', 'node_8_pressure', 'reservoir_pressure', 'link_10_flow', 'node_12_demand', 'link_9_flow', 'node_20_demand', 'node_4_demand', 'node_7_demand', 'node_9_pressure', 'link_13_flow', 'link_25_flow', 'node_14_pressure', 'node_22_pressure', 'node_1_pressure', 'node_30_pressure', 'node_2_pressure', 'node_28_demand', 'node_16_pressure']]\n",
      "starting df shape: (87600, 22)\n",
      "This is training run 8 and has the shape:  (87600, 22)\n",
      "The value of dropped columns is 75\n"
     ]
    },
    {
     "name": "stderr",
     "output_type": "stream",
     "text": [
      "/Users/alexellard/opt/anaconda3/lib/python3.7/site-packages/xgboost/data.py:96: UserWarning: Use subset (sliced data) of np.ndarray is not recommended because it will generate extra copies and increase memory consumption\n",
      "  \"because it will generate extra copies and increase \" +\n"
     ]
    },
    {
     "name": "stdout",
     "output_type": "stream",
     "text": [
      "test y shape : (17520, 1)\n",
      "Inv y shape : (17520, 22)\n",
      "y pred shape : (17520, 1)\n",
      "inv y pred : (17520, 22)\n",
      "Run 8 Mean Absolute Error: 164.1977935498541\n",
      "RMSE: 212.886\n",
      "R^2: 0.980\n",
      "[['link_24_flow', 'node_6_pressure', 'node_26_pressure', 'link_15_flow', 'node_12_demand', 'link_10_flow', 'node_3_pressure', 'node_31_pressure', 'node_30_pressure', 'node_4_demand', 'link_31_flow', 'node_17_demand', 'node_25_pressure', 'node_9_pressure', 'node_12_pressure', 'link_27_flow', 'link_29_flow', 'node_11_pressure', 'link_32_flow', 'node_4_pressure', 'node_24_pressure', 'link_26_flow', 'node_15_demand', 'node_10_pressure', 'node_24_demand', 'node_18_demand', 'node_8_pressure', 'node_7_pressure', 'node_11_demand', 'node_14_pressure', 'link_3_flow', 'node_27_pressure', 'node_14_demand', 'node_28_demand', 'link_21_flow', 'link_7_flow', 'link_9_flow', 'link_17_flow', 'node_10_demand', 'node_13_pressure', 'link_2_flow', 'node_29_pressure', 'node_25_demand', 'link_28_flow', 'node_26_demand', 'link_8_flow', 'node_22_demand', 'node_23_demand', 'node_20_demand', 'link_4_flow', 'reservoir_demand', 'node_23_pressure', 'node_13_demand', 'node_31_demand', 'node_19_demand', 'link_22_flow', 'node_1_demand', 'node_20_pressure', 'node_9_demand', 'link_19_flow', 'node_2_pressure', 'link_14_flow', 'node_28_pressure', 'node_2_demand', 'link_23_flow', 'node_18_pressure', 'link_11_flow', 'node_5_demand', 'node_27_demand', 'link_12_flow', 'node_22_pressure', 'link_16_flow', 'link_1_flow', 'node_3_demand', 'node_7_demand']]\n",
      "starting df shape: (87600, 21)\n",
      "This is training run 9 and has the shape:  (87600, 21)\n",
      "The value of dropped columns is 75\n"
     ]
    },
    {
     "name": "stderr",
     "output_type": "stream",
     "text": [
      "/Users/alexellard/opt/anaconda3/lib/python3.7/site-packages/xgboost/data.py:96: UserWarning: Use subset (sliced data) of np.ndarray is not recommended because it will generate extra copies and increase memory consumption\n",
      "  \"because it will generate extra copies and increase \" +\n"
     ]
    },
    {
     "name": "stdout",
     "output_type": "stream",
     "text": [
      "test y shape : (17520, 1)\n",
      "Inv y shape : (17520, 21)\n",
      "y pred shape : (17520, 1)\n",
      "inv y pred : (17520, 21)\n",
      "Run 9 Mean Absolute Error: 14.408259780713138\n",
      "RMSE: 18.818\n",
      "R^2: 0.981\n",
      "[['node_21_demand', 'node_20_demand', 'link_26_flow', 'link_16_flow', 'reservoir_pressure', 'node_20_pressure', 'link_9_flow', 'node_8_pressure', 'node_19_demand', 'link_11_flow', 'node_4_demand', 'node_13_pressure', 'link_13_flow', 'link_7_flow', 'node_19_pressure', 'link_18_flow', 'link_8_flow', 'node_3_pressure', 'node_10_pressure', 'node_28_demand', 'node_7_pressure', 'node_7_demand', 'node_23_demand', 'node_12_demand', 'link_14_flow', 'link_2_flow', 'node_5_demand', 'node_29_demand', 'link_23_flow', 'node_18_demand', 'node_14_pressure', 'link_21_flow', 'node_6_pressure', 'node_30_demand', 'node_26_demand', 'node_1_pressure', 'node_26_pressure', 'node_14_demand', 'node_16_pressure', 'node_22_demand', 'node_9_demand', 'node_25_demand', 'node_31_demand', 'link_24_flow', 'node_31_pressure', 'link_5_flow', 'link_28_flow', 'node_6_demand', 'link_31_flow', 'node_29_pressure', 'node_18_pressure', 'link_19_flow', 'node_15_pressure', 'node_17_demand', 'link_17_flow', 'node_8_demand', 'node_1_demand', 'node_10_demand', 'link_1_flow', 'node_17_pressure', 'node_12_pressure', 'node_21_pressure', 'node_30_pressure', 'node_23_pressure', 'node_25_pressure', 'node_22_pressure', 'node_27_demand', 'node_28_pressure', 'link_10_flow', 'reservoir_demand', 'link_30_flow', 'node_13_demand', 'link_6_flow', 'node_2_demand', 'link_29_flow']]\n",
      "starting df shape: (87600, 21)\n",
      "This is training run 10 and has the shape:  (87600, 21)\n",
      "The value of dropped columns is 75\n"
     ]
    },
    {
     "name": "stderr",
     "output_type": "stream",
     "text": [
      "/Users/alexellard/opt/anaconda3/lib/python3.7/site-packages/xgboost/data.py:96: UserWarning: Use subset (sliced data) of np.ndarray is not recommended because it will generate extra copies and increase memory consumption\n",
      "  \"because it will generate extra copies and increase \" +\n"
     ]
    },
    {
     "name": "stdout",
     "output_type": "stream",
     "text": [
      "test y shape : (17520, 1)\n",
      "Inv y shape : (17520, 21)\n",
      "y pred shape : (17520, 1)\n",
      "inv y pred : (17520, 21)\n",
      "Run 10 Mean Absolute Error: 1.1254688970787121\n",
      "RMSE: 1.466\n",
      "R^2: 0.988\n",
      "[['node_15_pressure', 'node_13_pressure', 'link_31_flow', 'link_32_flow', 'node_13_demand', 'node_17_demand', 'link_20_flow', 'node_1_pressure', 'node_24_demand', 'node_14_demand', 'node_16_pressure', 'node_18_pressure', 'node_6_pressure', 'link_18_flow', 'node_3_demand', 'node_30_pressure', 'node_17_pressure', 'node_2_pressure', 'link_19_flow', 'link_2_flow', 'node_14_pressure', 'link_3_flow', 'node_11_demand', 'node_28_demand', 'node_29_pressure', 'node_21_pressure', 'link_7_flow', 'node_27_pressure', 'node_15_demand', 'link_12_flow', 'node_30_demand', 'node_25_pressure', 'link_8_flow', 'node_11_pressure', 'node_19_pressure', 'node_23_pressure', 'link_21_flow', 'node_4_pressure', 'node_7_pressure', 'link_24_flow', 'node_26_pressure', 'link_14_flow', 'node_6_demand', 'link_22_flow', 'node_20_demand', 'node_4_demand', 'node_31_demand', 'link_30_flow', 'link_4_flow', 'node_2_demand', 'node_28_pressure', 'reservoir_demand', 'link_6_flow', 'link_1_flow', 'link_5_flow', 'link_16_flow', 'node_9_demand', 'node_5_pressure', 'link_13_flow', 'node_22_pressure', 'node_1_demand', 'node_12_pressure', 'link_17_flow', 'node_10_demand', 'node_27_demand', 'link_11_flow', 'node_29_demand', 'node_10_pressure', 'node_31_pressure', 'node_19_demand', 'node_9_pressure', 'link_9_flow', 'link_10_flow', 'node_3_pressure', 'link_25_flow', 'node_8_demand', 'link_29_flow', 'link_28_flow', 'reservoir_pressure']]\n",
      "starting df shape: (87600, 17)\n",
      "This is training run 1 and has the shape:  (87600, 17)\n",
      "The value of dropped columns is 80\n"
     ]
    },
    {
     "name": "stderr",
     "output_type": "stream",
     "text": [
      "/Users/alexellard/opt/anaconda3/lib/python3.7/site-packages/xgboost/data.py:96: UserWarning: Use subset (sliced data) of np.ndarray is not recommended because it will generate extra copies and increase memory consumption\n",
      "  \"because it will generate extra copies and increase \" +\n"
     ]
    },
    {
     "name": "stdout",
     "output_type": "stream",
     "text": [
      "test y shape : (17520, 1)\n",
      "Inv y shape : (17520, 17)\n",
      "y pred shape : (17520, 1)\n",
      "inv y pred : (17520, 17)\n",
      "Run 1 Mean Absolute Error: 7.956957619731504\n",
      "RMSE: 10.399\n",
      "R^2: 0.986\n",
      "[['link_14_flow', 'node_15_demand', 'node_20_pressure', 'node_29_pressure', 'node_18_pressure', 'node_12_pressure', 'node_2_pressure', 'node_21_demand', 'node_15_pressure', 'link_25_flow', 'node_13_pressure', 'node_24_pressure', 'link_3_flow', 'node_1_pressure', 'link_20_flow', 'link_11_flow', 'node_17_demand', 'node_28_pressure', 'node_26_demand', 'node_12_demand', 'node_10_demand', 'node_23_demand', 'node_3_pressure', 'node_20_demand', 'link_24_flow', 'link_30_flow', 'node_26_pressure', 'node_2_demand', 'node_25_demand', 'node_21_pressure', 'node_8_demand', 'link_22_flow', 'node_27_pressure', 'node_9_pressure', 'link_32_flow', 'link_5_flow', 'node_13_demand', 'link_7_flow', 'node_10_pressure', 'node_25_pressure', 'node_11_pressure', 'link_29_flow', 'node_27_demand', 'link_31_flow', 'reservoir_pressure', 'link_18_flow', 'node_28_demand', 'node_16_pressure', 'node_14_demand', 'node_31_pressure', 'link_19_flow', 'node_7_pressure', 'node_29_demand', 'node_7_demand', 'node_6_demand', 'link_6_flow', 'node_23_pressure', 'node_11_demand', 'link_8_flow', 'node_22_demand', 'node_8_pressure', 'node_4_pressure', 'link_28_flow', 'node_14_pressure', 'link_26_flow', 'link_16_flow', 'link_15_flow', 'node_19_demand', 'link_27_flow', 'node_6_pressure', 'link_9_flow', 'link_1_flow', 'node_22_pressure', 'node_30_demand', 'node_31_demand', 'link_2_flow', 'node_24_demand', 'node_18_demand', 'node_4_demand']]\n",
      "starting df shape: (87600, 17)\n",
      "This is training run 2 and has the shape:  (87600, 17)\n",
      "The value of dropped columns is 80\n"
     ]
    },
    {
     "name": "stderr",
     "output_type": "stream",
     "text": [
      "/Users/alexellard/opt/anaconda3/lib/python3.7/site-packages/xgboost/data.py:96: UserWarning: Use subset (sliced data) of np.ndarray is not recommended because it will generate extra copies and increase memory consumption\n",
      "  \"because it will generate extra copies and increase \" +\n"
     ]
    },
    {
     "name": "stdout",
     "output_type": "stream",
     "text": [
      "test y shape : (17520, 1)\n",
      "Inv y shape : (17520, 17)\n",
      "y pred shape : (17520, 1)\n",
      "inv y pred : (17520, 17)\n",
      "Run 2 Mean Absolute Error: 175.96237992563098\n",
      "RMSE: 229.906\n",
      "R^2: 0.977\n",
      "[['node_11_pressure', 'link_12_flow', 'node_10_pressure', 'link_29_flow', 'node_15_demand', 'link_27_flow', 'link_15_flow', 'node_20_pressure', 'link_10_flow', 'node_25_demand', 'link_30_flow', 'node_29_demand', 'node_30_pressure', 'link_28_flow', 'node_1_pressure', 'node_22_pressure', 'node_8_demand', 'node_4_demand', 'node_9_demand', 'node_26_pressure', 'node_3_pressure', 'link_19_flow', 'node_4_pressure', 'node_18_pressure', 'link_20_flow', 'node_22_demand', 'node_6_demand', 'node_5_demand', 'link_5_flow', 'node_19_demand', 'node_27_pressure', 'node_24_demand', 'node_31_demand', 'node_3_demand', 'node_6_pressure', 'link_3_flow', 'link_8_flow', 'node_1_demand', 'link_23_flow', 'node_18_demand', 'node_26_demand', 'node_17_demand', 'node_10_demand', 'node_21_demand', 'link_9_flow', 'node_13_demand', 'node_23_demand', 'link_26_flow', 'link_17_flow', 'link_6_flow', 'node_29_pressure', 'node_13_pressure', 'link_7_flow', 'node_17_pressure', 'link_21_flow', 'node_15_pressure', 'link_31_flow', 'link_2_flow', 'link_4_flow', 'link_18_flow', 'node_7_demand', 'node_28_demand', 'node_12_pressure', 'link_11_flow', 'reservoir_pressure', 'node_16_pressure', 'node_12_demand', 'link_14_flow', 'node_7_pressure', 'node_9_pressure', 'node_2_pressure', 'node_23_pressure', 'reservoir_demand', 'node_2_demand', 'node_27_demand', 'link_32_flow', 'node_28_pressure', 'node_14_demand', 'node_8_pressure']]\n",
      "starting df shape: (87600, 17)\n",
      "This is training run 3 and has the shape:  (87600, 17)\n",
      "The value of dropped columns is 80\n"
     ]
    },
    {
     "name": "stderr",
     "output_type": "stream",
     "text": [
      "/Users/alexellard/opt/anaconda3/lib/python3.7/site-packages/xgboost/data.py:96: UserWarning: Use subset (sliced data) of np.ndarray is not recommended because it will generate extra copies and increase memory consumption\n",
      "  \"because it will generate extra copies and increase \" +\n"
     ]
    },
    {
     "name": "stdout",
     "output_type": "stream",
     "text": [
      "test y shape : (17520, 1)\n",
      "Inv y shape : (17520, 17)\n",
      "y pred shape : (17520, 1)\n",
      "inv y pred : (17520, 17)\n",
      "Run 3 Mean Absolute Error: 3.1970538746607664\n",
      "RMSE: 4.136\n",
      "R^2: 0.994\n",
      "[['node_20_demand', 'link_2_flow', 'node_15_demand', 'node_10_demand', 'link_7_flow', 'link_30_flow', 'node_30_pressure', 'node_15_pressure', 'node_16_pressure', 'node_22_pressure', 'node_14_demand', 'node_17_pressure', 'node_1_pressure', 'node_18_pressure', 'link_24_flow', 'node_21_demand', 'node_19_pressure', 'link_22_flow', 'link_14_flow', 'node_25_demand', 'node_26_pressure', 'node_22_demand', 'node_9_pressure', 'node_23_demand', 'node_30_demand', 'link_31_flow', 'node_20_pressure', 'node_23_pressure', 'link_8_flow', 'node_10_pressure', 'node_3_pressure', 'link_12_flow', 'link_18_flow', 'node_17_demand', 'node_26_demand', 'link_27_flow', 'node_1_demand', 'node_14_pressure', 'node_19_demand', 'link_26_flow', 'node_27_demand', 'node_28_pressure', 'link_23_flow', 'link_1_flow', 'node_11_demand', 'node_24_pressure', 'link_32_flow', 'node_21_pressure', 'link_19_flow', 'node_25_pressure', 'node_7_pressure', 'node_28_demand', 'node_4_pressure', 'link_4_flow', 'node_31_pressure', 'link_16_flow', 'node_8_pressure', 'link_3_flow', 'link_28_flow', 'node_6_pressure', 'reservoir_demand', 'link_29_flow', 'reservoir_pressure', 'node_6_demand', 'link_9_flow', 'node_12_demand', 'link_6_flow', 'link_25_flow', 'node_11_pressure', 'node_29_demand', 'node_8_demand', 'link_13_flow', 'node_31_demand', 'node_18_demand', 'node_24_demand', 'node_7_demand', 'link_5_flow', 'node_3_demand', 'link_20_flow']]\n",
      "starting df shape: (87600, 17)\n",
      "This is training run 4 and has the shape:  (87600, 17)\n",
      "The value of dropped columns is 80\n"
     ]
    },
    {
     "name": "stderr",
     "output_type": "stream",
     "text": [
      "/Users/alexellard/opt/anaconda3/lib/python3.7/site-packages/xgboost/data.py:96: UserWarning: Use subset (sliced data) of np.ndarray is not recommended because it will generate extra copies and increase memory consumption\n",
      "  \"because it will generate extra copies and increase \" +\n"
     ]
    },
    {
     "name": "stdout",
     "output_type": "stream",
     "text": [
      "test y shape : (17520, 1)\n",
      "Inv y shape : (17520, 17)\n",
      "y pred shape : (17520, 1)\n",
      "inv y pred : (17520, 17)\n",
      "Run 4 Mean Absolute Error: 7.9235984663677455\n",
      "RMSE: 10.290\n",
      "R^2: 0.984\n",
      "[['link_28_flow', 'link_16_flow', 'node_14_pressure', 'node_4_pressure', 'node_2_demand', 'node_6_demand', 'link_30_flow', 'link_14_flow', 'node_1_demand', 'node_4_demand', 'node_19_pressure', 'link_1_flow', 'node_22_pressure', 'node_14_demand', 'link_27_flow', 'node_12_demand', 'node_18_demand', 'link_21_flow', 'link_17_flow', 'link_20_flow', 'node_23_pressure', 'link_22_flow', 'node_26_pressure', 'node_20_demand', 'link_12_flow', 'node_18_pressure', 'link_3_flow', 'node_30_demand', 'node_24_pressure', 'node_29_demand', 'link_31_flow', 'node_7_pressure', 'node_28_pressure', 'node_1_pressure', 'link_8_flow', 'node_24_demand', 'link_9_flow', 'node_21_pressure', 'link_10_flow', 'node_12_pressure', 'node_27_pressure', 'node_11_demand', 'link_18_flow', 'node_16_pressure', 'node_20_pressure', 'node_31_demand', 'node_15_pressure', 'link_13_flow', 'node_3_demand', 'node_8_demand', 'node_5_pressure', 'link_26_flow', 'link_24_flow', 'link_23_flow', 'link_5_flow', 'link_2_flow', 'link_15_flow', 'node_19_demand', 'node_29_pressure', 'node_6_pressure', 'node_9_demand', 'node_7_demand', 'node_5_demand', 'node_23_demand', 'reservoir_pressure', 'node_21_demand', 'link_25_flow', 'link_7_flow', 'node_10_pressure', 'node_15_demand', 'node_31_pressure', 'node_27_demand', 'node_13_demand', 'node_11_pressure', 'node_8_pressure', 'node_30_pressure', 'node_2_pressure', 'node_17_pressure', 'node_13_pressure']]\n",
      "starting df shape: (87600, 17)\n",
      "This is training run 5 and has the shape:  (87600, 17)\n",
      "The value of dropped columns is 80\n"
     ]
    },
    {
     "name": "stderr",
     "output_type": "stream",
     "text": [
      "/Users/alexellard/opt/anaconda3/lib/python3.7/site-packages/xgboost/data.py:96: UserWarning: Use subset (sliced data) of np.ndarray is not recommended because it will generate extra copies and increase memory consumption\n",
      "  \"because it will generate extra copies and increase \" +\n"
     ]
    },
    {
     "name": "stdout",
     "output_type": "stream",
     "text": [
      "test y shape : (17520, 1)\n",
      "Inv y shape : (17520, 17)\n",
      "y pred shape : (17520, 1)\n",
      "inv y pred : (17520, 17)\n",
      "Run 5 Mean Absolute Error: 197.29084709413976\n",
      "RMSE: 256.937\n",
      "R^2: 0.971\n",
      "[['node_13_pressure', 'link_23_flow', 'node_2_demand', 'node_15_pressure', 'node_2_pressure', 'node_29_demand', 'link_26_flow', 'node_12_demand', 'node_13_demand', 'node_19_pressure', 'node_8_pressure', 'node_24_pressure', 'link_17_flow', 'node_28_pressure', 'node_7_demand', 'link_3_flow', 'link_10_flow', 'node_1_demand', 'link_11_flow', 'link_20_flow', 'node_5_demand', 'node_19_demand', 'link_19_flow', 'link_21_flow', 'link_30_flow', 'node_10_pressure', 'link_8_flow', 'link_28_flow', 'node_10_demand', 'link_9_flow', 'node_8_demand', 'node_11_demand', 'node_27_pressure', 'link_5_flow', 'node_26_pressure', 'node_3_demand', 'node_9_demand', 'node_30_demand', 'node_14_pressure', 'node_3_pressure', 'link_4_flow', 'reservoir_pressure', 'node_11_pressure', 'link_15_flow', 'node_22_demand', 'link_25_flow', 'link_32_flow', 'node_22_pressure', 'node_20_demand', 'node_26_demand', 'link_24_flow', 'link_6_flow', 'node_28_demand', 'node_24_demand', 'link_13_flow', 'node_9_pressure', 'link_16_flow', 'node_17_pressure', 'node_14_demand', 'link_22_flow', 'link_1_flow', 'node_30_pressure', 'node_4_pressure', 'link_14_flow', 'node_25_demand', 'node_23_pressure', 'node_29_pressure', 'node_31_demand', 'link_18_flow', 'node_1_pressure', 'node_23_demand', 'node_5_pressure', 'node_7_pressure', 'node_6_demand', 'node_21_pressure', 'reservoir_demand', 'node_27_demand', 'link_31_flow', 'node_4_demand']]\n",
      "starting df shape: (87600, 17)\n",
      "This is training run 6 and has the shape:  (87600, 17)\n",
      "The value of dropped columns is 80\n"
     ]
    },
    {
     "name": "stderr",
     "output_type": "stream",
     "text": [
      "/Users/alexellard/opt/anaconda3/lib/python3.7/site-packages/xgboost/data.py:96: UserWarning: Use subset (sliced data) of np.ndarray is not recommended because it will generate extra copies and increase memory consumption\n",
      "  \"because it will generate extra copies and increase \" +\n"
     ]
    },
    {
     "name": "stdout",
     "output_type": "stream",
     "text": [
      "test y shape : (17520, 1)\n",
      "Inv y shape : (17520, 17)\n",
      "y pred shape : (17520, 1)\n",
      "inv y pred : (17520, 17)\n",
      "Run 6 Mean Absolute Error: 3.3594837921494123\n",
      "RMSE: 4.393\n",
      "R^2: 0.980\n",
      "[['node_1_demand', 'node_18_pressure', 'node_20_pressure', 'node_20_demand', 'link_29_flow', 'link_21_flow', 'node_17_pressure', 'node_15_demand', 'link_4_flow', 'link_24_flow', 'node_7_demand', 'node_23_demand', 'node_6_demand', 'node_13_pressure', 'node_12_demand', 'link_12_flow', 'link_1_flow', 'node_26_demand', 'node_29_demand', 'node_25_pressure', 'node_24_pressure', 'node_5_demand', 'node_27_pressure', 'link_6_flow', 'node_30_pressure', 'node_6_pressure', 'node_19_demand', 'node_22_demand', 'node_27_demand', 'node_3_pressure', 'node_31_pressure', 'node_21_pressure', 'link_13_flow', 'link_9_flow', 'node_10_demand', 'link_18_flow', 'node_18_demand', 'link_22_flow', 'node_2_demand', 'reservoir_pressure', 'node_5_pressure', 'node_11_pressure', 'node_14_pressure', 'node_7_pressure', 'node_4_pressure', 'node_9_demand', 'node_10_pressure', 'link_28_flow', 'node_9_pressure', 'node_30_demand', 'link_31_flow', 'link_15_flow', 'link_26_flow', 'node_26_pressure', 'link_8_flow', 'link_5_flow', 'node_28_pressure', 'node_2_pressure', 'node_8_demand', 'node_23_pressure', 'link_25_flow', 'node_29_pressure', 'node_19_pressure', 'link_17_flow', 'node_21_demand', 'node_28_demand', 'link_16_flow', 'link_14_flow', 'link_11_flow', 'link_3_flow', 'node_12_pressure', 'link_32_flow', 'link_23_flow', 'reservoir_demand', 'node_25_demand', 'node_16_pressure', 'node_3_demand', 'link_19_flow', 'link_10_flow']]\n",
      "starting df shape: (87600, 17)\n",
      "This is training run 7 and has the shape:  (87600, 17)\n",
      "The value of dropped columns is 80\n"
     ]
    },
    {
     "name": "stderr",
     "output_type": "stream",
     "text": [
      "/Users/alexellard/opt/anaconda3/lib/python3.7/site-packages/xgboost/data.py:96: UserWarning: Use subset (sliced data) of np.ndarray is not recommended because it will generate extra copies and increase memory consumption\n",
      "  \"because it will generate extra copies and increase \" +\n"
     ]
    },
    {
     "name": "stdout",
     "output_type": "stream",
     "text": [
      "test y shape : (17520, 1)\n",
      "Inv y shape : (17520, 17)\n",
      "y pred shape : (17520, 1)\n",
      "inv y pred : (17520, 17)\n",
      "Run 7 Mean Absolute Error: 8.581551058853414\n",
      "RMSE: 11.193\n",
      "R^2: 0.972\n",
      "[['node_7_pressure', 'node_18_pressure', 'node_4_demand', 'node_4_pressure', 'node_19_demand', 'node_21_demand', 'link_2_flow', 'link_3_flow', 'node_29_pressure', 'node_9_demand', 'node_2_pressure', 'node_13_pressure', 'link_20_flow', 'node_31_demand', 'node_20_pressure', 'link_32_flow', 'node_10_pressure', 'link_31_flow', 'node_1_demand', 'node_18_demand', 'link_29_flow', 'node_16_pressure', 'node_17_pressure', 'link_15_flow', 'node_17_demand', 'link_5_flow', 'link_30_flow', 'node_1_pressure', 'link_6_flow', 'link_19_flow', 'node_31_pressure', 'node_14_pressure', 'node_22_pressure', 'link_14_flow', 'node_19_pressure', 'node_5_demand', 'link_8_flow', 'link_13_flow', 'node_11_pressure', 'link_23_flow', 'node_2_demand', 'node_28_pressure', 'node_25_demand', 'node_10_demand', 'node_8_demand', 'link_16_flow', 'link_18_flow', 'node_3_demand', 'link_11_flow', 'reservoir_demand', 'link_27_flow', 'link_1_flow', 'node_15_pressure', 'node_26_demand', 'link_10_flow', 'node_28_demand', 'node_24_pressure', 'reservoir_pressure', 'node_22_demand', 'node_21_pressure', 'node_30_pressure', 'node_27_pressure', 'node_23_pressure', 'node_23_demand', 'node_8_pressure', 'node_25_pressure', 'link_9_flow', 'node_12_pressure', 'node_27_demand', 'link_17_flow', 'link_24_flow', 'node_13_demand', 'node_5_pressure', 'node_29_demand', 'link_26_flow', 'node_6_pressure', 'node_7_demand', 'node_30_demand', 'link_28_flow']]\n",
      "starting df shape: (87600, 17)\n",
      "This is training run 8 and has the shape:  (87600, 17)\n",
      "The value of dropped columns is 80\n"
     ]
    },
    {
     "name": "stderr",
     "output_type": "stream",
     "text": [
      "/Users/alexellard/opt/anaconda3/lib/python3.7/site-packages/xgboost/data.py:96: UserWarning: Use subset (sliced data) of np.ndarray is not recommended because it will generate extra copies and increase memory consumption\n",
      "  \"because it will generate extra copies and increase \" +\n"
     ]
    },
    {
     "name": "stdout",
     "output_type": "stream",
     "text": [
      "test y shape : (17520, 1)\n",
      "Inv y shape : (17520, 17)\n",
      "y pred shape : (17520, 1)\n",
      "inv y pred : (17520, 17)\n",
      "Run 8 Mean Absolute Error: 16.54431890024446\n",
      "RMSE: 21.591\n",
      "R^2: 0.974\n",
      "[['node_26_pressure', 'link_4_flow', 'node_1_pressure', 'link_7_flow', 'node_24_pressure', 'node_27_demand', 'node_17_demand', 'link_10_flow', 'node_23_demand', 'node_12_demand', 'node_22_pressure', 'node_18_pressure', 'node_13_pressure', 'link_25_flow', 'node_14_demand', 'link_23_flow', 'node_4_pressure', 'link_19_flow', 'node_9_pressure', 'node_21_demand', 'link_15_flow', 'node_17_pressure', 'node_13_demand', 'node_16_pressure', 'node_12_pressure', 'link_20_flow', 'node_11_demand', 'node_23_pressure', 'reservoir_pressure', 'node_3_demand', 'link_21_flow', 'node_15_pressure', 'link_8_flow', 'link_13_flow', 'link_11_flow', 'link_14_flow', 'reservoir_demand', 'link_1_flow', 'node_4_demand', 'node_20_demand', 'node_21_pressure', 'link_17_flow', 'node_10_demand', 'link_27_flow', 'node_25_pressure', 'node_28_pressure', 'node_24_demand', 'link_9_flow', 'node_15_demand', 'link_6_flow', 'node_10_pressure', 'node_5_pressure', 'node_19_demand', 'node_5_demand', 'node_7_demand', 'node_25_demand', 'node_8_demand', 'link_31_flow', 'node_28_demand', 'link_29_flow', 'node_11_pressure', 'node_1_demand', 'node_14_pressure', 'node_2_pressure', 'node_30_pressure', 'node_6_demand', 'node_26_demand', 'link_30_flow', 'link_24_flow', 'node_29_demand', 'node_22_demand', 'node_19_pressure', 'node_20_pressure', 'node_8_pressure', 'node_27_pressure', 'node_30_demand', 'link_22_flow', 'link_3_flow', 'node_3_pressure']]\n",
      "starting df shape: (87600, 17)\n",
      "This is training run 9 and has the shape:  (87600, 17)\n",
      "The value of dropped columns is 80\n"
     ]
    },
    {
     "name": "stderr",
     "output_type": "stream",
     "text": [
      "/Users/alexellard/opt/anaconda3/lib/python3.7/site-packages/xgboost/data.py:96: UserWarning: Use subset (sliced data) of np.ndarray is not recommended because it will generate extra copies and increase memory consumption\n",
      "  \"because it will generate extra copies and increase \" +\n"
     ]
    },
    {
     "name": "stdout",
     "output_type": "stream",
     "text": [
      "test y shape : (17520, 1)\n",
      "Inv y shape : (17520, 17)\n",
      "y pred shape : (17520, 1)\n",
      "inv y pred : (17520, 17)\n",
      "Run 9 Mean Absolute Error: 4.6797438622533525\n",
      "RMSE: 6.109\n",
      "R^2: 0.995\n",
      "[['node_23_pressure', 'node_5_demand', 'node_5_pressure', 'node_17_demand', 'link_26_flow', 'node_22_demand', 'node_7_pressure', 'node_21_demand', 'link_29_flow', 'link_12_flow', 'node_4_pressure', 'node_9_demand', 'link_31_flow', 'node_1_demand', 'link_25_flow', 'node_8_demand', 'link_13_flow', 'node_29_demand', 'node_11_demand', 'node_6_demand', 'link_23_flow', 'node_19_demand', 'link_32_flow', 'node_14_pressure', 'node_31_demand', 'link_3_flow', 'node_3_pressure', 'node_2_pressure', 'node_21_pressure', 'node_30_demand', 'link_22_flow', 'node_10_pressure', 'link_10_flow', 'node_30_pressure', 'node_28_pressure', 'node_15_demand', 'link_14_flow', 'node_22_pressure', 'link_4_flow', 'link_1_flow', 'node_24_pressure', 'node_25_demand', 'node_7_demand', 'link_11_flow', 'node_29_pressure', 'link_17_flow', 'link_15_flow', 'node_13_demand', 'node_8_pressure', 'node_23_demand', 'node_10_demand', 'node_19_pressure', 'link_6_flow', 'link_21_flow', 'node_18_pressure', 'link_24_flow', 'link_8_flow', 'node_6_pressure', 'node_9_pressure', 'node_20_pressure', 'node_26_demand', 'node_20_demand', 'node_11_pressure', 'link_16_flow', 'node_17_pressure', 'node_12_demand', 'link_7_flow', 'link_5_flow', 'link_27_flow', 'reservoir_demand', 'node_16_pressure', 'node_15_pressure', 'node_1_pressure', 'node_14_demand', 'node_4_demand', 'node_27_demand', 'node_28_demand', 'link_18_flow', 'node_27_pressure']]\n",
      "starting df shape: (87600, 17)\n",
      "This is training run 10 and has the shape:  (87600, 17)\n",
      "The value of dropped columns is 80\n"
     ]
    },
    {
     "name": "stderr",
     "output_type": "stream",
     "text": [
      "/Users/alexellard/opt/anaconda3/lib/python3.7/site-packages/xgboost/data.py:96: UserWarning: Use subset (sliced data) of np.ndarray is not recommended because it will generate extra copies and increase memory consumption\n",
      "  \"because it will generate extra copies and increase \" +\n"
     ]
    },
    {
     "name": "stdout",
     "output_type": "stream",
     "text": [
      "test y shape : (17520, 1)\n",
      "Inv y shape : (17520, 17)\n",
      "y pred shape : (17520, 1)\n",
      "inv y pred : (17520, 17)\n",
      "Run 10 Mean Absolute Error: 10.69665148342778\n",
      "RMSE: 13.943\n",
      "R^2: 0.971\n",
      "Length MAE_average:  17\n",
      "Length sensors_covered:  17\n"
     ]
    }
   ],
   "source": [
    "#average scores flows link 1\n",
    "\n",
    "MAE_average = []\n",
    "RMSE_average = []\n",
    "R2_average = []\n",
    "maximum_MAE = []\n",
    "sensors_covered = []\n",
    "n_columns_to_drop = [0, 5, 10, 15, 20, 25, 30, 35, 40, 45, 50, 55, 60, 65, 70, 75, 80]\n",
    "for n in n_columns_to_drop:\n",
    "    MAE = []\n",
    "    RMSE = []\n",
    "    R2 = []\n",
    "    for run in range(1,11):\n",
    "        Y = df[df.columns[16]]\n",
    "        X = df.drop(columns=['node_16_demand'])\n",
    "        X['node_16_demand'] = Y\n",
    "        columns = []\n",
    "        columns_to_drop = random.sample(list(X.columns), n)\n",
    "        # Drop the selected columns from the dataframe\n",
    "        if X.columns[-1] in columns_to_drop:\n",
    "            columns_to_drop.remove(X.columns[-1])\n",
    "        X.drop(columns_to_drop, axis=1, inplace=True)\n",
    "        columns.append(columns_to_drop)\n",
    "        print(columns)\n",
    "        print('starting df shape:', X.shape)\n",
    "        print(f'This is training run {run} and has the shape: ', X.shape)\n",
    "        print(f'The value of dropped columns is {n}')\n",
    "\n",
    "        # split into train and test sets\n",
    "        values = X.values\n",
    "        scaler = MinMaxScaler(feature_range=(0, 1))\n",
    "        scaled = scaler.fit_transform(values)\n",
    "        train, test = train_test_split(scaled, test_size=0.2, random_state=0)\n",
    "\n",
    "        # split into input and outputs\n",
    "        train_X, train_y = train[:, :-1], train[:, -1]\n",
    "        test_X, test_y = test[:, :-1], test[:, -1]\n",
    "\n",
    "        #define model\n",
    "        model = xgb.XGBRegressor(\n",
    "            objective='reg:squarederror',\n",
    "            n_estimators=100,\n",
    "            max_depth=6,\n",
    "            learning_rate=0.1,\n",
    "            subsample=0.9,\n",
    "            colsample_bytree=0.8,\n",
    "            random_state=42\n",
    "        )\n",
    "\n",
    "        # fit the model on the training data\n",
    "        model.fit(train_X, train_y)\n",
    "\n",
    "        # make predictions on the test data\n",
    "        y_pred = model.predict(test_X)\n",
    "\n",
    "        test_y = test_y.reshape((len(test_y), 1))\n",
    "        print('test y shape :', test_y.shape)\n",
    "        inv_test_y = concatenate((test_y, test_X[:, -X.shape[1]:]), axis=1)\n",
    "        print('Inv y shape :', inv_test_y.shape)\n",
    "        test_y_inverse = scaler.inverse_transform(inv_test_y)\n",
    "        test_y_inverse = test_y_inverse[:,0]\n",
    "\n",
    "        y_pred = y_pred.reshape((len(y_pred), 1))\n",
    "        print('y pred shape :', y_pred.shape)\n",
    "        inv_y_pred = concatenate((y_pred, test_X[:, -X.shape[1]:]), axis=1)\n",
    "        print('inv y pred :', inv_y_pred.shape)\n",
    "        y_pred_inverse = scaler.inverse_transform(inv_y_pred)\n",
    "        y_pred_inverse = y_pred_inverse[:,0]\n",
    "\n",
    "        # evaluate scaled errors\n",
    "        mae_inverse = mean_absolute_error(test_y_inverse, y_pred_inverse)\n",
    "        MAE.append(mae_inverse)\n",
    "        print(f'Run {run} Mean Absolute Error:', mae_inverse)\n",
    "        rmse_inverse = sqrt(mean_squared_error(test_y_inverse, y_pred_inverse))\n",
    "        RMSE.append(rmse_inverse)\n",
    "        print('RMSE: %.3f' % rmse_inverse)\n",
    "        r2_inverse = r2_score(test_y_inverse, y_pred_inverse)\n",
    "        R2.append(r2_inverse)\n",
    "        print('R^2: %.3f' % r2_inverse)\n",
    "    percentage_list = round(X.shape[1] / 96 * 100)\n",
    "    sensors_covered.append(percentage_list)\n",
    "    MAE_mean = mean(MAE)\n",
    "    RMSE_mean = mean(RMSE)\n",
    "    R2_mean = mean(R2)\n",
    "    max_MAE = max(MAE)\n",
    "    maximum_MAE.append(max_MAE)\n",
    "    MAE_average.append(MAE_mean)\n",
    "    RMSE_average.append(RMSE_mean)\n",
    "    R2_average.append(R2_mean)\n",
    "print('Length MAE_average: ', len(MAE_average))\n",
    "print('Length sensors_covered: ', len(sensors_covered))"
   ]
  },
  {
   "cell_type": "code",
   "execution_count": 13,
   "metadata": {},
   "outputs": [
    {
     "data": {
      "image/png": "[encoded data removed]",
      "text/plain": [
       "<Figure size 576x360 with 2 Axes>"
      ]
     },
     "metadata": {
      "needs_background": "light"
     },
     "output_type": "display_data"
    }
   ],
   "source": [
    "# Create the plot and specify the figure size\n",
    "fig, ax1 = plt.subplots(figsize=(8, 5))\n",
    "\n",
    "# Plot the first line\n",
    "ax1.plot(sensors_covered, maximum_MAE, 'b-', label='Mean Absolute Error')\n",
    "ax1.set_xlabel('Sensor Cover %')\n",
    "ax1.set_ylabel('MAE')\n",
    "\n",
    "# Create a second y-axis\n",
    "ax2 = ax1.twinx()\n",
    "\n",
    "# Plot the second line\n",
    "ax2.plot(sensors_covered, R2_average, 'r-', label='R2')\n",
    "ax2.set_ylabel('R2')\n",
    "\n",
    "# Show legends for both lines\n",
    "lines = [ax1.get_lines()[0], ax2.get_lines()[0]]\n",
    "ax1.legend(lines, [line.get_label() for line in lines])\n",
    "\n",
    "# Show the plot\n",
    "plt.title(\"MAE & R2 vs. Coverage Node 16 Demand\")\n",
    "plt.xlim([100, 0])\n",
    "plt.savefig('/Users/alexellard/Downloads/MAER2Demand.png')\n",
    "plt.show()"
   ]
  },
  {
   "cell_type": "code",
   "execution_count": 10,
   "metadata": {},
   "outputs": [
    {
     "name": "stdout",
     "output_type": "stream",
     "text": [
      "[[]]\n",
      "starting df shape: (87600, 96)\n",
      "This is training run 1 and has the shape:  (87600, 96)\n",
      "The value of dropped columns is 0\n"
     ]
    },
    {
     "name": "stderr",
     "output_type": "stream",
     "text": [
      "/Users/alexellard/opt/anaconda3/lib/python3.7/site-packages/xgboost/data.py:96: UserWarning: Use subset (sliced data) of np.ndarray is not recommended because it will generate extra copies and increase memory consumption\n",
      "  \"because it will generate extra copies and increase \" +\n"
     ]
    },
    {
     "name": "stdout",
     "output_type": "stream",
     "text": [
      "test y shape : (17520, 1)\n",
      "Inv y shape : (17520, 96)\n",
      "y pred shape : (17520, 1)\n",
      "inv y pred : (17520, 96)\n",
      "Run 1 Mean Absolute Error: 78.24191457903137\n",
      "RMSE: 100.787\n",
      "R^2: 0.995\n",
      "[[]]\n",
      "starting df shape: (87600, 96)\n",
      "This is training run 2 and has the shape:  (87600, 96)\n",
      "The value of dropped columns is 0\n"
     ]
    },
    {
     "name": "stderr",
     "output_type": "stream",
     "text": [
      "/Users/alexellard/opt/anaconda3/lib/python3.7/site-packages/xgboost/data.py:96: UserWarning: Use subset (sliced data) of np.ndarray is not recommended because it will generate extra copies and increase memory consumption\n",
      "  \"because it will generate extra copies and increase \" +\n"
     ]
    },
    {
     "name": "stdout",
     "output_type": "stream",
     "text": [
      "test y shape : (17520, 1)\n",
      "Inv y shape : (17520, 96)\n",
      "y pred shape : (17520, 1)\n",
      "inv y pred : (17520, 96)\n",
      "Run 2 Mean Absolute Error: 78.24191457903137\n",
      "RMSE: 100.787\n",
      "R^2: 0.995\n",
      "[[]]\n",
      "starting df shape: (87600, 96)\n",
      "This is training run 3 and has the shape:  (87600, 96)\n",
      "The value of dropped columns is 0\n"
     ]
    },
    {
     "name": "stderr",
     "output_type": "stream",
     "text": [
      "/Users/alexellard/opt/anaconda3/lib/python3.7/site-packages/xgboost/data.py:96: UserWarning: Use subset (sliced data) of np.ndarray is not recommended because it will generate extra copies and increase memory consumption\n",
      "  \"because it will generate extra copies and increase \" +\n"
     ]
    },
    {
     "name": "stdout",
     "output_type": "stream",
     "text": [
      "test y shape : (17520, 1)\n",
      "Inv y shape : (17520, 96)\n",
      "y pred shape : (17520, 1)\n",
      "inv y pred : (17520, 96)\n",
      "Run 3 Mean Absolute Error: 78.24191457903137\n",
      "RMSE: 100.787\n",
      "R^2: 0.995\n",
      "[[]]\n",
      "starting df shape: (87600, 96)\n",
      "This is training run 4 and has the shape:  (87600, 96)\n",
      "The value of dropped columns is 0\n"
     ]
    },
    {
     "name": "stderr",
     "output_type": "stream",
     "text": [
      "/Users/alexellard/opt/anaconda3/lib/python3.7/site-packages/xgboost/data.py:96: UserWarning: Use subset (sliced data) of np.ndarray is not recommended because it will generate extra copies and increase memory consumption\n",
      "  \"because it will generate extra copies and increase \" +\n"
     ]
    },
    {
     "name": "stdout",
     "output_type": "stream",
     "text": [
      "test y shape : (17520, 1)\n",
      "Inv y shape : (17520, 96)\n",
      "y pred shape : (17520, 1)\n",
      "inv y pred : (17520, 96)\n",
      "Run 4 Mean Absolute Error: 78.24191457903137\n",
      "RMSE: 100.787\n",
      "R^2: 0.995\n",
      "[[]]\n",
      "starting df shape: (87600, 96)\n",
      "This is training run 5 and has the shape:  (87600, 96)\n",
      "The value of dropped columns is 0\n"
     ]
    },
    {
     "name": "stderr",
     "output_type": "stream",
     "text": [
      "/Users/alexellard/opt/anaconda3/lib/python3.7/site-packages/xgboost/data.py:96: UserWarning: Use subset (sliced data) of np.ndarray is not recommended because it will generate extra copies and increase memory consumption\n",
      "  \"because it will generate extra copies and increase \" +\n"
     ]
    },
    {
     "name": "stdout",
     "output_type": "stream",
     "text": [
      "test y shape : (17520, 1)\n",
      "Inv y shape : (17520, 96)\n",
      "y pred shape : (17520, 1)\n",
      "inv y pred : (17520, 96)\n",
      "Run 5 Mean Absolute Error: 78.24191457903137\n",
      "RMSE: 100.787\n",
      "R^2: 0.995\n",
      "[[]]\n",
      "starting df shape: (87600, 96)\n",
      "This is training run 6 and has the shape:  (87600, 96)\n",
      "The value of dropped columns is 0\n"
     ]
    },
    {
     "name": "stderr",
     "output_type": "stream",
     "text": [
      "/Users/alexellard/opt/anaconda3/lib/python3.7/site-packages/xgboost/data.py:96: UserWarning: Use subset (sliced data) of np.ndarray is not recommended because it will generate extra copies and increase memory consumption\n",
      "  \"because it will generate extra copies and increase \" +\n"
     ]
    },
    {
     "name": "stdout",
     "output_type": "stream",
     "text": [
      "test y shape : (17520, 1)\n",
      "Inv y shape : (17520, 96)\n",
      "y pred shape : (17520, 1)\n",
      "inv y pred : (17520, 96)\n",
      "Run 6 Mean Absolute Error: 78.24191457903137\n",
      "RMSE: 100.787\n",
      "R^2: 0.995\n",
      "[[]]\n",
      "starting df shape: (87600, 96)\n",
      "This is training run 7 and has the shape:  (87600, 96)\n",
      "The value of dropped columns is 0\n"
     ]
    },
    {
     "name": "stderr",
     "output_type": "stream",
     "text": [
      "/Users/alexellard/opt/anaconda3/lib/python3.7/site-packages/xgboost/data.py:96: UserWarning: Use subset (sliced data) of np.ndarray is not recommended because it will generate extra copies and increase memory consumption\n",
      "  \"because it will generate extra copies and increase \" +\n"
     ]
    },
    {
     "name": "stdout",
     "output_type": "stream",
     "text": [
      "test y shape : (17520, 1)\n",
      "Inv y shape : (17520, 96)\n",
      "y pred shape : (17520, 1)\n",
      "inv y pred : (17520, 96)\n",
      "Run 7 Mean Absolute Error: 78.24191457903137\n",
      "RMSE: 100.787\n",
      "R^2: 0.995\n",
      "[[]]\n",
      "starting df shape: (87600, 96)\n",
      "This is training run 8 and has the shape:  (87600, 96)\n",
      "The value of dropped columns is 0\n"
     ]
    },
    {
     "name": "stderr",
     "output_type": "stream",
     "text": [
      "/Users/alexellard/opt/anaconda3/lib/python3.7/site-packages/xgboost/data.py:96: UserWarning: Use subset (sliced data) of np.ndarray is not recommended because it will generate extra copies and increase memory consumption\n",
      "  \"because it will generate extra copies and increase \" +\n"
     ]
    },
    {
     "name": "stdout",
     "output_type": "stream",
     "text": [
      "test y shape : (17520, 1)\n",
      "Inv y shape : (17520, 96)\n",
      "y pred shape : (17520, 1)\n",
      "inv y pred : (17520, 96)\n",
      "Run 8 Mean Absolute Error: 78.24191457903137\n",
      "RMSE: 100.787\n",
      "R^2: 0.995\n",
      "[[]]\n",
      "starting df shape: (87600, 96)\n",
      "This is training run 9 and has the shape:  (87600, 96)\n",
      "The value of dropped columns is 0\n"
     ]
    },
    {
     "name": "stderr",
     "output_type": "stream",
     "text": [
      "/Users/alexellard/opt/anaconda3/lib/python3.7/site-packages/xgboost/data.py:96: UserWarning: Use subset (sliced data) of np.ndarray is not recommended because it will generate extra copies and increase memory consumption\n",
      "  \"because it will generate extra copies and increase \" +\n"
     ]
    },
    {
     "name": "stdout",
     "output_type": "stream",
     "text": [
      "test y shape : (17520, 1)\n",
      "Inv y shape : (17520, 96)\n",
      "y pred shape : (17520, 1)\n",
      "inv y pred : (17520, 96)\n",
      "Run 9 Mean Absolute Error: 78.24191457903137\n",
      "RMSE: 100.787\n",
      "R^2: 0.995\n",
      "[[]]\n",
      "starting df shape: (87600, 96)\n",
      "This is training run 10 and has the shape:  (87600, 96)\n",
      "The value of dropped columns is 0\n"
     ]
    },
    {
     "name": "stderr",
     "output_type": "stream",
     "text": [
      "/Users/alexellard/opt/anaconda3/lib/python3.7/site-packages/xgboost/data.py:96: UserWarning: Use subset (sliced data) of np.ndarray is not recommended because it will generate extra copies and increase memory consumption\n",
      "  \"because it will generate extra copies and increase \" +\n"
     ]
    },
    {
     "name": "stdout",
     "output_type": "stream",
     "text": [
      "test y shape : (17520, 1)\n",
      "Inv y shape : (17520, 96)\n",
      "y pred shape : (17520, 1)\n",
      "inv y pred : (17520, 96)\n",
      "Run 10 Mean Absolute Error: 78.24191457903137\n",
      "RMSE: 100.787\n",
      "R^2: 0.995\n",
      "[['link_12_flow', 'node_17_demand', 'node_20_demand', 'link_10_flow', 'node_14_demand']]\n",
      "starting df shape: (87600, 91)\n",
      "This is training run 1 and has the shape:  (87600, 91)\n",
      "The value of dropped columns is 5\n"
     ]
    },
    {
     "name": "stderr",
     "output_type": "stream",
     "text": [
      "/Users/alexellard/opt/anaconda3/lib/python3.7/site-packages/xgboost/data.py:96: UserWarning: Use subset (sliced data) of np.ndarray is not recommended because it will generate extra copies and increase memory consumption\n",
      "  \"because it will generate extra copies and increase \" +\n"
     ]
    },
    {
     "name": "stdout",
     "output_type": "stream",
     "text": [
      "test y shape : (17520, 1)\n",
      "Inv y shape : (17520, 91)\n",
      "y pred shape : (17520, 1)\n",
      "inv y pred : (17520, 91)\n",
      "Run 1 Mean Absolute Error: 78.37836220985811\n",
      "RMSE: 100.944\n",
      "R^2: 0.995\n",
      "[['node_30_demand', 'link_13_flow', 'node_12_demand', 'node_6_pressure', 'reservoir_pressure']]\n",
      "starting df shape: (87600, 91)\n",
      "This is training run 2 and has the shape:  (87600, 91)\n",
      "The value of dropped columns is 5\n"
     ]
    },
    {
     "name": "stderr",
     "output_type": "stream",
     "text": [
      "/Users/alexellard/opt/anaconda3/lib/python3.7/site-packages/xgboost/data.py:96: UserWarning: Use subset (sliced data) of np.ndarray is not recommended because it will generate extra copies and increase memory consumption\n",
      "  \"because it will generate extra copies and increase \" +\n"
     ]
    },
    {
     "name": "stdout",
     "output_type": "stream",
     "text": [
      "test y shape : (17520, 1)\n",
      "Inv y shape : (17520, 91)\n",
      "y pred shape : (17520, 1)\n",
      "inv y pred : (17520, 91)\n",
      "Run 2 Mean Absolute Error: 78.46926589314248\n",
      "RMSE: 100.149\n",
      "R^2: 0.995\n",
      "[['link_20_flow', 'node_26_demand', 'link_16_flow', 'link_24_flow', 'node_3_demand']]\n",
      "starting df shape: (87600, 91)\n",
      "This is training run 3 and has the shape:  (87600, 91)\n",
      "The value of dropped columns is 5\n"
     ]
    },
    {
     "name": "stderr",
     "output_type": "stream",
     "text": [
      "/Users/alexellard/opt/anaconda3/lib/python3.7/site-packages/xgboost/data.py:96: UserWarning: Use subset (sliced data) of np.ndarray is not recommended because it will generate extra copies and increase memory consumption\n",
      "  \"because it will generate extra copies and increase \" +\n"
     ]
    },
    {
     "name": "stdout",
     "output_type": "stream",
     "text": [
      "test y shape : (17520, 1)\n",
      "Inv y shape : (17520, 91)\n",
      "y pred shape : (17520, 1)\n",
      "inv y pred : (17520, 91)\n",
      "Run 3 Mean Absolute Error: 79.22468101301827\n",
      "RMSE: 101.673\n",
      "R^2: 0.995\n",
      "[['node_2_pressure', 'node_1_demand', 'link_18_flow', 'node_23_demand']]\n",
      "starting df shape: (87600, 92)\n",
      "This is training run 4 and has the shape:  (87600, 92)\n",
      "The value of dropped columns is 5\n"
     ]
    },
    {
     "name": "stderr",
     "output_type": "stream",
     "text": [
      "/Users/alexellard/opt/anaconda3/lib/python3.7/site-packages/xgboost/data.py:96: UserWarning: Use subset (sliced data) of np.ndarray is not recommended because it will generate extra copies and increase memory consumption\n",
      "  \"because it will generate extra copies and increase \" +\n"
     ]
    },
    {
     "name": "stdout",
     "output_type": "stream",
     "text": [
      "test y shape : (17520, 1)\n",
      "Inv y shape : (17520, 92)\n",
      "y pred shape : (17520, 1)\n",
      "inv y pred : (17520, 92)\n",
      "Run 4 Mean Absolute Error: 78.8416642430506\n",
      "RMSE: 101.111\n",
      "R^2: 0.995\n",
      "[['link_8_flow', 'node_8_demand', 'link_19_flow', 'node_23_demand', 'link_2_flow']]\n",
      "starting df shape: (87600, 91)\n",
      "This is training run 5 and has the shape:  (87600, 91)\n",
      "The value of dropped columns is 5\n"
     ]
    },
    {
     "name": "stderr",
     "output_type": "stream",
     "text": [
      "/Users/alexellard/opt/anaconda3/lib/python3.7/site-packages/xgboost/data.py:96: UserWarning: Use subset (sliced data) of np.ndarray is not recommended because it will generate extra copies and increase memory consumption\n",
      "  \"because it will generate extra copies and increase \" +\n"
     ]
    },
    {
     "name": "stdout",
     "output_type": "stream",
     "text": [
      "test y shape : (17520, 1)\n",
      "Inv y shape : (17520, 91)\n",
      "y pred shape : (17520, 1)\n",
      "inv y pred : (17520, 91)\n",
      "Run 5 Mean Absolute Error: 79.17528559825597\n",
      "RMSE: 101.729\n",
      "R^2: 0.995\n",
      "[['link_31_flow', 'node_20_demand', 'node_30_demand', 'node_24_demand', 'link_18_flow']]\n",
      "starting df shape: (87600, 91)\n",
      "This is training run 6 and has the shape:  (87600, 91)\n",
      "The value of dropped columns is 5\n"
     ]
    },
    {
     "name": "stderr",
     "output_type": "stream",
     "text": [
      "/Users/alexellard/opt/anaconda3/lib/python3.7/site-packages/xgboost/data.py:96: UserWarning: Use subset (sliced data) of np.ndarray is not recommended because it will generate extra copies and increase memory consumption\n",
      "  \"because it will generate extra copies and increase \" +\n"
     ]
    },
    {
     "name": "stdout",
     "output_type": "stream",
     "text": [
      "test y shape : (17520, 1)\n",
      "Inv y shape : (17520, 91)\n",
      "y pred shape : (17520, 1)\n",
      "inv y pred : (17520, 91)\n",
      "Run 6 Mean Absolute Error: 79.22057206203672\n",
      "RMSE: 101.624\n",
      "R^2: 0.995\n",
      "[['node_31_pressure', 'link_24_flow', 'reservoir_pressure', 'node_28_demand', 'node_19_demand']]\n",
      "starting df shape: (87600, 91)\n",
      "This is training run 7 and has the shape:  (87600, 91)\n",
      "The value of dropped columns is 5\n"
     ]
    },
    {
     "name": "stderr",
     "output_type": "stream",
     "text": [
      "/Users/alexellard/opt/anaconda3/lib/python3.7/site-packages/xgboost/data.py:96: UserWarning: Use subset (sliced data) of np.ndarray is not recommended because it will generate extra copies and increase memory consumption\n",
      "  \"because it will generate extra copies and increase \" +\n"
     ]
    },
    {
     "name": "stdout",
     "output_type": "stream",
     "text": [
      "test y shape : (17520, 1)\n",
      "Inv y shape : (17520, 91)\n",
      "y pred shape : (17520, 1)\n",
      "inv y pred : (17520, 91)\n",
      "Run 7 Mean Absolute Error: 98.41848399738332\n",
      "RMSE: 127.085\n",
      "R^2: 0.993\n",
      "[['node_4_pressure', 'node_6_pressure', 'node_16_demand', 'reservoir_demand', 'link_17_flow']]\n",
      "starting df shape: (87600, 91)\n",
      "This is training run 8 and has the shape:  (87600, 91)\n",
      "The value of dropped columns is 5\n"
     ]
    },
    {
     "name": "stderr",
     "output_type": "stream",
     "text": [
      "/Users/alexellard/opt/anaconda3/lib/python3.7/site-packages/xgboost/data.py:96: UserWarning: Use subset (sliced data) of np.ndarray is not recommended because it will generate extra copies and increase memory consumption\n",
      "  \"because it will generate extra copies and increase \" +\n"
     ]
    },
    {
     "name": "stdout",
     "output_type": "stream",
     "text": [
      "test y shape : (17520, 1)\n",
      "Inv y shape : (17520, 91)\n",
      "y pred shape : (17520, 1)\n",
      "inv y pred : (17520, 91)\n",
      "Run 8 Mean Absolute Error: 4.830147807108213\n",
      "RMSE: 6.214\n",
      "R^2: 0.995\n",
      "[['node_25_demand', 'node_2_pressure', 'link_14_flow', 'node_9_pressure', 'node_20_demand']]\n",
      "starting df shape: (87600, 91)\n",
      "This is training run 9 and has the shape:  (87600, 91)\n",
      "The value of dropped columns is 5\n"
     ]
    },
    {
     "name": "stderr",
     "output_type": "stream",
     "text": [
      "/Users/alexellard/opt/anaconda3/lib/python3.7/site-packages/xgboost/data.py:96: UserWarning: Use subset (sliced data) of np.ndarray is not recommended because it will generate extra copies and increase memory consumption\n",
      "  \"because it will generate extra copies and increase \" +\n"
     ]
    },
    {
     "name": "stdout",
     "output_type": "stream",
     "text": [
      "test y shape : (17520, 1)\n",
      "Inv y shape : (17520, 91)\n",
      "y pred shape : (17520, 1)\n",
      "inv y pred : (17520, 91)\n",
      "Run 9 Mean Absolute Error: 78.36270208207709\n",
      "RMSE: 101.867\n",
      "R^2: 0.995\n",
      "[['node_3_demand', 'node_20_demand', 'node_7_demand', 'link_31_flow', 'node_2_demand']]\n",
      "starting df shape: (87600, 91)\n",
      "This is training run 10 and has the shape:  (87600, 91)\n",
      "The value of dropped columns is 5\n"
     ]
    },
    {
     "name": "stderr",
     "output_type": "stream",
     "text": [
      "/Users/alexellard/opt/anaconda3/lib/python3.7/site-packages/xgboost/data.py:96: UserWarning: Use subset (sliced data) of np.ndarray is not recommended because it will generate extra copies and increase memory consumption\n",
      "  \"because it will generate extra copies and increase \" +\n"
     ]
    },
    {
     "name": "stdout",
     "output_type": "stream",
     "text": [
      "test y shape : (17520, 1)\n",
      "Inv y shape : (17520, 91)\n",
      "y pred shape : (17520, 1)\n",
      "inv y pred : (17520, 91)\n",
      "Run 10 Mean Absolute Error: 78.7008206022316\n",
      "RMSE: 101.512\n",
      "R^2: 0.995\n",
      "[['node_11_demand', 'link_8_flow', 'node_24_demand', 'node_21_demand', 'link_27_flow', 'link_15_flow', 'link_23_flow', 'link_20_flow', 'node_21_pressure']]\n",
      "starting df shape: (87600, 87)\n",
      "This is training run 1 and has the shape:  (87600, 87)\n",
      "The value of dropped columns is 10\n"
     ]
    },
    {
     "name": "stderr",
     "output_type": "stream",
     "text": [
      "/Users/alexellard/opt/anaconda3/lib/python3.7/site-packages/xgboost/data.py:96: UserWarning: Use subset (sliced data) of np.ndarray is not recommended because it will generate extra copies and increase memory consumption\n",
      "  \"because it will generate extra copies and increase \" +\n"
     ]
    },
    {
     "name": "stdout",
     "output_type": "stream",
     "text": [
      "test y shape : (17520, 1)\n",
      "Inv y shape : (17520, 87)\n",
      "y pred shape : (17520, 1)\n",
      "inv y pred : (17520, 87)\n",
      "Run 1 Mean Absolute Error: 78.61072054194665\n",
      "RMSE: 101.203\n",
      "R^2: 0.995\n",
      "[['node_14_demand', 'link_1_flow', 'reservoir_pressure', 'link_11_flow', 'node_15_pressure', 'node_17_pressure', 'node_26_pressure', 'node_28_demand', 'node_28_pressure', 'link_10_flow']]\n",
      "starting df shape: (87600, 86)\n",
      "This is training run 2 and has the shape:  (87600, 86)\n",
      "The value of dropped columns is 10\n"
     ]
    },
    {
     "name": "stderr",
     "output_type": "stream",
     "text": [
      "/Users/alexellard/opt/anaconda3/lib/python3.7/site-packages/xgboost/data.py:96: UserWarning: Use subset (sliced data) of np.ndarray is not recommended because it will generate extra copies and increase memory consumption\n",
      "  \"because it will generate extra copies and increase \" +\n"
     ]
    },
    {
     "name": "stdout",
     "output_type": "stream",
     "text": [
      "test y shape : (17520, 1)\n",
      "Inv y shape : (17520, 86)\n",
      "y pred shape : (17520, 1)\n",
      "inv y pred : (17520, 86)\n",
      "Run 2 Mean Absolute Error: 97.68014293963367\n",
      "RMSE: 125.956\n",
      "R^2: 0.993\n",
      "[['node_12_pressure', 'node_3_pressure', 'node_26_pressure', 'node_28_pressure', 'link_8_flow', 'node_6_pressure', 'node_12_demand', 'node_18_demand', 'link_28_flow', 'link_2_flow']]\n",
      "starting df shape: (87600, 86)\n",
      "This is training run 3 and has the shape:  (87600, 86)\n",
      "The value of dropped columns is 10\n"
     ]
    },
    {
     "name": "stderr",
     "output_type": "stream",
     "text": [
      "/Users/alexellard/opt/anaconda3/lib/python3.7/site-packages/xgboost/data.py:96: UserWarning: Use subset (sliced data) of np.ndarray is not recommended because it will generate extra copies and increase memory consumption\n",
      "  \"because it will generate extra copies and increase \" +\n"
     ]
    },
    {
     "name": "stdout",
     "output_type": "stream",
     "text": [
      "test y shape : (17520, 1)\n",
      "Inv y shape : (17520, 86)\n",
      "y pred shape : (17520, 1)\n",
      "inv y pred : (17520, 86)\n",
      "Run 3 Mean Absolute Error: 81.02060917396247\n",
      "RMSE: 103.848\n",
      "R^2: 0.995\n",
      "[['node_25_pressure', 'node_3_demand', 'node_25_demand', 'node_26_demand', 'node_10_demand', 'link_32_flow', 'link_9_flow', 'node_15_pressure', 'link_18_flow', 'link_20_flow']]\n",
      "starting df shape: (87600, 86)\n",
      "This is training run 4 and has the shape:  (87600, 86)\n",
      "The value of dropped columns is 10\n"
     ]
    },
    {
     "name": "stderr",
     "output_type": "stream",
     "text": [
      "/Users/alexellard/opt/anaconda3/lib/python3.7/site-packages/xgboost/data.py:96: UserWarning: Use subset (sliced data) of np.ndarray is not recommended because it will generate extra copies and increase memory consumption\n",
      "  \"because it will generate extra copies and increase \" +\n"
     ]
    },
    {
     "name": "stdout",
     "output_type": "stream",
     "text": [
      "test y shape : (17520, 1)\n",
      "Inv y shape : (17520, 86)\n",
      "y pred shape : (17520, 1)\n",
      "inv y pred : (17520, 86)\n",
      "Run 4 Mean Absolute Error: 78.988920322677\n",
      "RMSE: 101.477\n",
      "R^2: 0.995\n",
      "[['node_9_demand', 'link_10_flow', 'node_5_pressure', 'link_17_flow', 'node_7_demand', 'node_3_demand', 'reservoir_pressure', 'node_9_pressure', 'node_4_demand', 'link_3_flow']]\n",
      "starting df shape: (87600, 86)\n",
      "This is training run 5 and has the shape:  (87600, 86)\n",
      "The value of dropped columns is 10\n"
     ]
    },
    {
     "name": "stderr",
     "output_type": "stream",
     "text": [
      "/Users/alexellard/opt/anaconda3/lib/python3.7/site-packages/xgboost/data.py:96: UserWarning: Use subset (sliced data) of np.ndarray is not recommended because it will generate extra copies and increase memory consumption\n",
      "  \"because it will generate extra copies and increase \" +\n"
     ]
    },
    {
     "name": "stdout",
     "output_type": "stream",
     "text": [
      "test y shape : (17520, 1)\n",
      "Inv y shape : (17520, 86)\n",
      "y pred shape : (17520, 1)\n",
      "inv y pred : (17520, 86)\n",
      "Run 5 Mean Absolute Error: 78.67444553789207\n",
      "RMSE: 101.427\n",
      "R^2: 0.995\n",
      "[['node_30_demand', 'node_28_demand', 'node_22_demand', 'node_19_pressure', 'node_13_demand', 'node_3_demand', 'node_23_demand', 'link_13_flow', 'link_28_flow', 'node_11_pressure']]\n",
      "starting df shape: (87600, 86)\n",
      "This is training run 6 and has the shape:  (87600, 86)\n",
      "The value of dropped columns is 10\n"
     ]
    },
    {
     "name": "stderr",
     "output_type": "stream",
     "text": [
      "/Users/alexellard/opt/anaconda3/lib/python3.7/site-packages/xgboost/data.py:96: UserWarning: Use subset (sliced data) of np.ndarray is not recommended because it will generate extra copies and increase memory consumption\n",
      "  \"because it will generate extra copies and increase \" +\n"
     ]
    },
    {
     "name": "stdout",
     "output_type": "stream",
     "text": [
      "test y shape : (17520, 1)\n",
      "Inv y shape : (17520, 86)\n",
      "y pred shape : (17520, 1)\n",
      "inv y pred : (17520, 86)\n",
      "Run 6 Mean Absolute Error: 97.73767248255747\n",
      "RMSE: 126.017\n",
      "R^2: 0.993\n",
      "[['link_12_flow', 'node_5_pressure', 'link_27_flow', 'link_24_flow', 'node_22_demand', 'link_18_flow', 'node_20_demand', 'link_32_flow', 'node_28_pressure', 'link_10_flow']]\n",
      "starting df shape: (87600, 86)\n",
      "This is training run 7 and has the shape:  (87600, 86)\n",
      "The value of dropped columns is 10\n"
     ]
    },
    {
     "name": "stderr",
     "output_type": "stream",
     "text": [
      "/Users/alexellard/opt/anaconda3/lib/python3.7/site-packages/xgboost/data.py:96: UserWarning: Use subset (sliced data) of np.ndarray is not recommended because it will generate extra copies and increase memory consumption\n",
      "  \"because it will generate extra copies and increase \" +\n"
     ]
    },
    {
     "name": "stdout",
     "output_type": "stream",
     "text": [
      "test y shape : (17520, 1)\n",
      "Inv y shape : (17520, 86)\n",
      "y pred shape : (17520, 1)\n",
      "inv y pred : (17520, 86)\n",
      "Run 7 Mean Absolute Error: 78.72664467117556\n",
      "RMSE: 101.016\n",
      "R^2: 0.995\n",
      "[['link_4_flow', 'node_22_pressure', 'link_6_flow', 'link_23_flow', 'link_19_flow', 'node_2_pressure', 'node_28_pressure', 'link_30_flow', 'node_29_demand', 'link_31_flow']]\n",
      "starting df shape: (87600, 86)\n",
      "This is training run 8 and has the shape:  (87600, 86)\n",
      "The value of dropped columns is 10\n"
     ]
    },
    {
     "name": "stderr",
     "output_type": "stream",
     "text": [
      "/Users/alexellard/opt/anaconda3/lib/python3.7/site-packages/xgboost/data.py:96: UserWarning: Use subset (sliced data) of np.ndarray is not recommended because it will generate extra copies and increase memory consumption\n",
      "  \"because it will generate extra copies and increase \" +\n"
     ]
    },
    {
     "name": "stdout",
     "output_type": "stream",
     "text": [
      "test y shape : (17520, 1)\n",
      "Inv y shape : (17520, 86)\n",
      "y pred shape : (17520, 1)\n",
      "inv y pred : (17520, 86)\n",
      "Run 8 Mean Absolute Error: 91.90650748162643\n",
      "RMSE: 118.087\n",
      "R^2: 0.994\n",
      "[['link_15_flow', 'link_26_flow', 'node_17_demand', 'node_24_pressure', 'link_24_flow', 'node_1_demand', 'node_8_pressure', 'node_18_demand', 'node_23_pressure', 'node_30_demand']]\n",
      "starting df shape: (87600, 86)\n",
      "This is training run 9 and has the shape:  (87600, 86)\n",
      "The value of dropped columns is 10\n"
     ]
    },
    {
     "name": "stderr",
     "output_type": "stream",
     "text": [
      "/Users/alexellard/opt/anaconda3/lib/python3.7/site-packages/xgboost/data.py:96: UserWarning: Use subset (sliced data) of np.ndarray is not recommended because it will generate extra copies and increase memory consumption\n",
      "  \"because it will generate extra copies and increase \" +\n"
     ]
    },
    {
     "name": "stdout",
     "output_type": "stream",
     "text": [
      "test y shape : (17520, 1)\n",
      "Inv y shape : (17520, 86)\n",
      "y pred shape : (17520, 1)\n",
      "inv y pred : (17520, 86)\n",
      "Run 9 Mean Absolute Error: 78.84471870824896\n",
      "RMSE: 101.229\n",
      "R^2: 0.995\n",
      "[['node_3_demand', 'link_7_flow', 'link_13_flow', 'node_23_pressure', 'reservoir_pressure', 'node_12_demand', 'link_6_flow', 'node_4_pressure', 'node_26_demand', 'node_15_pressure']]\n",
      "starting df shape: (87600, 86)\n",
      "This is training run 10 and has the shape:  (87600, 86)\n",
      "The value of dropped columns is 10\n"
     ]
    },
    {
     "name": "stderr",
     "output_type": "stream",
     "text": [
      "/Users/alexellard/opt/anaconda3/lib/python3.7/site-packages/xgboost/data.py:96: UserWarning: Use subset (sliced data) of np.ndarray is not recommended because it will generate extra copies and increase memory consumption\n",
      "  \"because it will generate extra copies and increase \" +\n"
     ]
    },
    {
     "name": "stdout",
     "output_type": "stream",
     "text": [
      "test y shape : (17520, 1)\n",
      "Inv y shape : (17520, 86)\n",
      "y pred shape : (17520, 1)\n",
      "inv y pred : (17520, 86)\n",
      "Run 10 Mean Absolute Error: 79.4577959391352\n",
      "RMSE: 101.642\n",
      "R^2: 0.995\n",
      "[['node_27_pressure', 'node_15_pressure', 'node_14_demand', 'node_9_demand', 'node_24_pressure', 'node_8_pressure', 'node_1_demand', 'link_10_flow', 'link_5_flow', 'node_8_demand', 'node_6_pressure', 'link_28_flow', 'node_17_demand', 'node_10_pressure', 'link_17_flow']]\n",
      "starting df shape: (87600, 81)\n",
      "This is training run 1 and has the shape:  (87600, 81)\n",
      "The value of dropped columns is 15\n"
     ]
    },
    {
     "name": "stderr",
     "output_type": "stream",
     "text": [
      "/Users/alexellard/opt/anaconda3/lib/python3.7/site-packages/xgboost/data.py:96: UserWarning: Use subset (sliced data) of np.ndarray is not recommended because it will generate extra copies and increase memory consumption\n",
      "  \"because it will generate extra copies and increase \" +\n"
     ]
    },
    {
     "name": "stdout",
     "output_type": "stream",
     "text": [
      "test y shape : (17520, 1)\n",
      "Inv y shape : (17520, 81)\n",
      "y pred shape : (17520, 1)\n",
      "inv y pred : (17520, 81)\n",
      "Run 1 Mean Absolute Error: 81.34166303081868\n",
      "RMSE: 104.874\n",
      "R^2: 0.995\n",
      "[['link_25_flow', 'reservoir_pressure', 'node_18_pressure', 'link_27_flow', 'node_20_pressure', 'link_21_flow', 'node_1_demand', 'link_13_flow', 'node_21_demand', 'link_2_flow', 'node_28_demand', 'link_16_flow', 'link_11_flow', 'node_26_demand', 'link_19_flow']]\n",
      "starting df shape: (87600, 81)\n",
      "This is training run 2 and has the shape:  (87600, 81)\n",
      "The value of dropped columns is 15\n"
     ]
    },
    {
     "name": "stderr",
     "output_type": "stream",
     "text": [
      "/Users/alexellard/opt/anaconda3/lib/python3.7/site-packages/xgboost/data.py:96: UserWarning: Use subset (sliced data) of np.ndarray is not recommended because it will generate extra copies and increase memory consumption\n",
      "  \"because it will generate extra copies and increase \" +\n"
     ]
    },
    {
     "name": "stdout",
     "output_type": "stream",
     "text": [
      "test y shape : (17520, 1)\n",
      "Inv y shape : (17520, 81)\n",
      "y pred shape : (17520, 1)\n",
      "inv y pred : (17520, 81)\n",
      "Run 2 Mean Absolute Error: 98.29078302369948\n",
      "RMSE: 127.593\n",
      "R^2: 0.992\n",
      "[['node_18_pressure', 'node_28_pressure', 'link_6_flow', 'node_3_demand', 'link_28_flow', 'node_19_pressure', 'link_4_flow', 'node_30_demand', 'node_8_demand', 'link_25_flow', 'link_15_flow', 'link_22_flow', 'node_8_pressure', 'link_8_flow']]\n",
      "starting df shape: (87600, 82)\n",
      "This is training run 3 and has the shape:  (87600, 82)\n",
      "The value of dropped columns is 15\n"
     ]
    },
    {
     "name": "stderr",
     "output_type": "stream",
     "text": [
      "/Users/alexellard/opt/anaconda3/lib/python3.7/site-packages/xgboost/data.py:96: UserWarning: Use subset (sliced data) of np.ndarray is not recommended because it will generate extra copies and increase memory consumption\n",
      "  \"because it will generate extra copies and increase \" +\n"
     ]
    },
    {
     "name": "stdout",
     "output_type": "stream",
     "text": [
      "test y shape : (17520, 1)\n",
      "Inv y shape : (17520, 82)\n",
      "y pred shape : (17520, 1)\n",
      "inv y pred : (17520, 82)\n",
      "Run 3 Mean Absolute Error: 81.34619709443962\n",
      "RMSE: 104.266\n",
      "R^2: 0.995\n",
      "[['node_12_demand', 'node_24_demand', 'link_21_flow', 'link_2_flow', 'node_19_demand', 'node_13_pressure', 'link_22_flow', 'node_30_pressure', 'node_17_demand', 'node_8_pressure', 'link_7_flow', 'node_17_pressure', 'link_28_flow', 'node_31_demand', 'node_13_demand']]\n",
      "starting df shape: (87600, 81)\n",
      "This is training run 4 and has the shape:  (87600, 81)\n",
      "The value of dropped columns is 15\n"
     ]
    },
    {
     "name": "stderr",
     "output_type": "stream",
     "text": [
      "/Users/alexellard/opt/anaconda3/lib/python3.7/site-packages/xgboost/data.py:96: UserWarning: Use subset (sliced data) of np.ndarray is not recommended because it will generate extra copies and increase memory consumption\n",
      "  \"because it will generate extra copies and increase \" +\n"
     ]
    },
    {
     "name": "stdout",
     "output_type": "stream",
     "text": [
      "test y shape : (17520, 1)\n",
      "Inv y shape : (17520, 81)\n",
      "y pred shape : (17520, 1)\n",
      "inv y pred : (17520, 81)\n",
      "Run 4 Mean Absolute Error: 82.92026964314584\n",
      "RMSE: 107.216\n",
      "R^2: 0.995\n",
      "[['node_4_demand', 'node_31_demand', 'node_2_pressure', 'link_5_flow', 'link_25_flow', 'node_20_demand', 'node_25_pressure', 'node_12_pressure', 'link_14_flow', 'node_15_demand', 'node_5_pressure', 'node_13_pressure', 'node_6_demand', 'node_7_pressure', 'node_10_demand']]\n",
      "starting df shape: (87600, 81)\n",
      "This is training run 5 and has the shape:  (87600, 81)\n",
      "The value of dropped columns is 15\n"
     ]
    },
    {
     "name": "stderr",
     "output_type": "stream",
     "text": [
      "/Users/alexellard/opt/anaconda3/lib/python3.7/site-packages/xgboost/data.py:96: UserWarning: Use subset (sliced data) of np.ndarray is not recommended because it will generate extra copies and increase memory consumption\n",
      "  \"because it will generate extra copies and increase \" +\n"
     ]
    },
    {
     "name": "stdout",
     "output_type": "stream",
     "text": [
      "test y shape : (17520, 1)\n",
      "Inv y shape : (17520, 81)\n",
      "y pred shape : (17520, 1)\n",
      "inv y pred : (17520, 81)\n",
      "Run 5 Mean Absolute Error: 80.21664950899472\n",
      "RMSE: 103.749\n",
      "R^2: 0.995\n",
      "[['node_16_demand', 'node_29_pressure', 'node_3_pressure', 'link_23_flow', 'node_7_demand', 'node_18_pressure', 'link_32_flow', 'node_25_pressure', 'node_12_pressure', 'node_11_demand', 'link_17_flow', 'node_31_demand', 'node_20_pressure', 'node_6_demand']]\n",
      "starting df shape: (87600, 82)\n",
      "This is training run 6 and has the shape:  (87600, 82)\n",
      "The value of dropped columns is 15\n"
     ]
    },
    {
     "name": "stderr",
     "output_type": "stream",
     "text": [
      "/Users/alexellard/opt/anaconda3/lib/python3.7/site-packages/xgboost/data.py:96: UserWarning: Use subset (sliced data) of np.ndarray is not recommended because it will generate extra copies and increase memory consumption\n",
      "  \"because it will generate extra copies and increase \" +\n"
     ]
    },
    {
     "name": "stdout",
     "output_type": "stream",
     "text": [
      "test y shape : (17520, 1)\n",
      "Inv y shape : (17520, 82)\n",
      "y pred shape : (17520, 1)\n",
      "inv y pred : (17520, 82)\n",
      "Run 6 Mean Absolute Error: 84.19495102793384\n",
      "RMSE: 108.366\n",
      "R^2: 0.995\n",
      "[['node_5_demand', 'node_21_pressure', 'link_3_flow', 'link_30_flow', 'link_19_flow', 'link_8_flow', 'node_11_demand', 'link_11_flow', 'link_32_flow', 'node_28_pressure', 'node_3_pressure', 'node_31_demand', 'node_5_pressure', 'node_6_demand', 'node_14_pressure']]\n",
      "starting df shape: (87600, 81)\n",
      "This is training run 7 and has the shape:  (87600, 81)\n",
      "The value of dropped columns is 15\n"
     ]
    },
    {
     "name": "stderr",
     "output_type": "stream",
     "text": [
      "/Users/alexellard/opt/anaconda3/lib/python3.7/site-packages/xgboost/data.py:96: UserWarning: Use subset (sliced data) of np.ndarray is not recommended because it will generate extra copies and increase memory consumption\n",
      "  \"because it will generate extra copies and increase \" +\n"
     ]
    },
    {
     "name": "stdout",
     "output_type": "stream",
     "text": [
      "test y shape : (17520, 1)\n",
      "Inv y shape : (17520, 81)\n",
      "y pred shape : (17520, 1)\n",
      "inv y pred : (17520, 81)\n",
      "Run 7 Mean Absolute Error: 87.76172328327614\n",
      "RMSE: 112.864\n",
      "R^2: 0.994\n",
      "[['node_18_pressure', 'link_9_flow', 'link_2_flow', 'link_27_flow', 'node_12_demand', 'node_20_demand', 'node_21_pressure', 'node_5_demand', 'node_25_pressure', 'link_22_flow', 'node_4_demand', 'link_7_flow', 'node_13_demand', 'node_16_demand', 'node_21_demand']]\n",
      "starting df shape: (87600, 81)\n",
      "This is training run 8 and has the shape:  (87600, 81)\n",
      "The value of dropped columns is 15\n"
     ]
    },
    {
     "name": "stderr",
     "output_type": "stream",
     "text": [
      "/Users/alexellard/opt/anaconda3/lib/python3.7/site-packages/xgboost/data.py:96: UserWarning: Use subset (sliced data) of np.ndarray is not recommended because it will generate extra copies and increase memory consumption\n",
      "  \"because it will generate extra copies and increase \" +\n"
     ]
    },
    {
     "name": "stdout",
     "output_type": "stream",
     "text": [
      "test y shape : (17520, 1)\n",
      "Inv y shape : (17520, 81)\n",
      "y pred shape : (17520, 1)\n",
      "inv y pred : (17520, 81)\n",
      "Run 8 Mean Absolute Error: 79.59422858931019\n",
      "RMSE: 102.332\n",
      "R^2: 0.995\n",
      "[['node_4_pressure', 'node_20_pressure', 'node_16_demand', 'link_20_flow', 'reservoir_pressure', 'link_8_flow', 'node_10_pressure', 'node_18_demand', 'link_12_flow', 'node_5_demand', 'link_21_flow', 'node_31_pressure', 'node_13_demand', 'node_26_pressure', 'node_29_pressure']]\n",
      "starting df shape: (87600, 81)\n",
      "This is training run 9 and has the shape:  (87600, 81)\n",
      "The value of dropped columns is 15\n"
     ]
    },
    {
     "name": "stderr",
     "output_type": "stream",
     "text": [
      "/Users/alexellard/opt/anaconda3/lib/python3.7/site-packages/xgboost/data.py:96: UserWarning: Use subset (sliced data) of np.ndarray is not recommended because it will generate extra copies and increase memory consumption\n",
      "  \"because it will generate extra copies and increase \" +\n"
     ]
    },
    {
     "name": "stdout",
     "output_type": "stream",
     "text": [
      "test y shape : (17520, 1)\n",
      "Inv y shape : (17520, 81)\n",
      "y pred shape : (17520, 1)\n",
      "inv y pred : (17520, 81)\n",
      "Run 9 Mean Absolute Error: 78.53747594702322\n",
      "RMSE: 100.854\n",
      "R^2: 0.995\n",
      "[['node_2_demand', 'node_1_pressure', 'node_8_pressure', 'link_17_flow', 'node_10_pressure', 'node_28_demand', 'node_24_pressure', 'node_29_demand', 'link_22_flow', 'link_30_flow', 'node_8_demand', 'link_20_flow', 'link_25_flow', 'node_14_demand', 'node_29_pressure']]\n",
      "starting df shape: (87600, 81)\n",
      "This is training run 10 and has the shape:  (87600, 81)\n",
      "The value of dropped columns is 15\n"
     ]
    },
    {
     "name": "stderr",
     "output_type": "stream",
     "text": [
      "/Users/alexellard/opt/anaconda3/lib/python3.7/site-packages/xgboost/data.py:96: UserWarning: Use subset (sliced data) of np.ndarray is not recommended because it will generate extra copies and increase memory consumption\n",
      "  \"because it will generate extra copies and increase \" +\n"
     ]
    },
    {
     "name": "stdout",
     "output_type": "stream",
     "text": [
      "test y shape : (17520, 1)\n",
      "Inv y shape : (17520, 81)\n",
      "y pred shape : (17520, 1)\n",
      "inv y pred : (17520, 81)\n",
      "Run 10 Mean Absolute Error: 155.69583614515517\n",
      "RMSE: 204.349\n",
      "R^2: 0.981\n",
      "[['node_11_pressure', 'node_1_demand', 'node_25_pressure', 'node_2_pressure', 'node_18_demand', 'link_23_flow', 'node_26_pressure', 'link_4_flow', 'link_12_flow', 'node_6_pressure', 'node_8_pressure', 'link_27_flow', 'node_23_demand', 'node_22_pressure', 'link_24_flow', 'reservoir_pressure', 'node_31_demand', 'link_5_flow', 'reservoir_demand', 'node_2_demand']]\n",
      "starting df shape: (87600, 76)\n",
      "This is training run 1 and has the shape:  (87600, 76)\n",
      "The value of dropped columns is 20\n"
     ]
    },
    {
     "name": "stderr",
     "output_type": "stream",
     "text": [
      "/Users/alexellard/opt/anaconda3/lib/python3.7/site-packages/xgboost/data.py:96: UserWarning: Use subset (sliced data) of np.ndarray is not recommended because it will generate extra copies and increase memory consumption\n",
      "  \"because it will generate extra copies and increase \" +\n"
     ]
    },
    {
     "name": "stdout",
     "output_type": "stream",
     "text": [
      "test y shape : (17520, 1)\n",
      "Inv y shape : (17520, 76)\n",
      "y pred shape : (17520, 1)\n",
      "inv y pred : (17520, 76)\n",
      "Run 1 Mean Absolute Error: 0.7077049594725647\n",
      "RMSE: 0.915\n",
      "R^2: 0.995\n",
      "[['node_13_demand', 'node_23_pressure', 'node_29_pressure', 'link_17_flow', 'node_28_pressure', 'node_18_demand', 'node_4_pressure', 'link_15_flow', 'node_27_pressure', 'node_31_demand', 'node_5_pressure', 'node_6_pressure', 'link_16_flow', 'link_2_flow', 'node_7_demand', 'link_22_flow', 'link_12_flow', 'node_23_demand', 'node_1_demand', 'node_31_pressure']]\n",
      "starting df shape: (87600, 76)\n",
      "This is training run 2 and has the shape:  (87600, 76)\n",
      "The value of dropped columns is 20\n"
     ]
    },
    {
     "name": "stderr",
     "output_type": "stream",
     "text": [
      "/Users/alexellard/opt/anaconda3/lib/python3.7/site-packages/xgboost/data.py:96: UserWarning: Use subset (sliced data) of np.ndarray is not recommended because it will generate extra copies and increase memory consumption\n",
      "  \"because it will generate extra copies and increase \" +\n"
     ]
    },
    {
     "name": "stdout",
     "output_type": "stream",
     "text": [
      "test y shape : (17520, 1)\n",
      "Inv y shape : (17520, 76)\n",
      "y pred shape : (17520, 1)\n",
      "inv y pred : (17520, 76)\n",
      "Run 2 Mean Absolute Error: 79.9818800060308\n",
      "RMSE: 102.829\n",
      "R^2: 0.995\n",
      "[['link_5_flow', 'node_10_pressure', 'node_21_demand', 'node_20_pressure', 'node_5_pressure', 'node_26_pressure', 'node_30_pressure', 'node_20_demand', 'link_27_flow', 'link_31_flow', 'node_1_demand', 'node_1_pressure', 'node_6_demand', 'link_13_flow', 'link_2_flow', 'node_31_pressure', 'link_20_flow', 'node_29_demand', 'node_12_demand']]\n",
      "starting df shape: (87600, 77)\n",
      "This is training run 3 and has the shape:  (87600, 77)\n",
      "The value of dropped columns is 20\n"
     ]
    },
    {
     "name": "stderr",
     "output_type": "stream",
     "text": [
      "/Users/alexellard/opt/anaconda3/lib/python3.7/site-packages/xgboost/data.py:96: UserWarning: Use subset (sliced data) of np.ndarray is not recommended because it will generate extra copies and increase memory consumption\n",
      "  \"because it will generate extra copies and increase \" +\n"
     ]
    },
    {
     "name": "stdout",
     "output_type": "stream",
     "text": [
      "test y shape : (17520, 1)\n",
      "Inv y shape : (17520, 77)\n",
      "y pred shape : (17520, 1)\n",
      "inv y pred : (17520, 77)\n",
      "Run 3 Mean Absolute Error: 90.93499551406866\n",
      "RMSE: 116.798\n",
      "R^2: 0.994\n",
      "[['node_27_pressure', 'link_9_flow', 'node_11_pressure', 'node_18_pressure', 'node_26_demand', 'node_7_demand', 'link_16_flow', 'link_24_flow', 'node_16_demand', 'link_18_flow', 'node_6_pressure', 'link_14_flow', 'node_28_pressure', 'link_17_flow', 'link_3_flow', 'link_2_flow', 'node_20_pressure', 'node_29_demand', 'link_26_flow', 'node_11_demand']]\n",
      "starting df shape: (87600, 76)\n",
      "This is training run 4 and has the shape:  (87600, 76)\n",
      "The value of dropped columns is 20\n"
     ]
    },
    {
     "name": "stderr",
     "output_type": "stream",
     "text": [
      "/Users/alexellard/opt/anaconda3/lib/python3.7/site-packages/xgboost/data.py:96: UserWarning: Use subset (sliced data) of np.ndarray is not recommended because it will generate extra copies and increase memory consumption\n",
      "  \"because it will generate extra copies and increase \" +\n"
     ]
    },
    {
     "name": "stdout",
     "output_type": "stream",
     "text": [
      "test y shape : (17520, 1)\n",
      "Inv y shape : (17520, 76)\n",
      "y pred shape : (17520, 1)\n",
      "inv y pred : (17520, 76)\n",
      "Run 4 Mean Absolute Error: 91.64412379004773\n",
      "RMSE: 118.519\n",
      "R^2: 0.994\n",
      "[['link_19_flow', 'link_20_flow', 'node_1_demand', 'link_25_flow', 'node_16_demand', 'node_6_pressure', 'link_17_flow', 'link_24_flow', 'link_2_flow', 'node_21_pressure', 'link_31_flow', 'node_1_pressure', 'node_3_demand', 'node_5_pressure', 'node_4_demand', 'node_2_demand', 'node_29_demand', 'node_30_demand', 'node_9_pressure']]\n",
      "starting df shape: (87600, 77)\n",
      "This is training run 5 and has the shape:  (87600, 77)\n",
      "The value of dropped columns is 20\n"
     ]
    },
    {
     "name": "stderr",
     "output_type": "stream",
     "text": [
      "/Users/alexellard/opt/anaconda3/lib/python3.7/site-packages/xgboost/data.py:96: UserWarning: Use subset (sliced data) of np.ndarray is not recommended because it will generate extra copies and increase memory consumption\n",
      "  \"because it will generate extra copies and increase \" +\n"
     ]
    },
    {
     "name": "stdout",
     "output_type": "stream",
     "text": [
      "test y shape : (17520, 1)\n",
      "Inv y shape : (17520, 77)\n",
      "y pred shape : (17520, 1)\n",
      "inv y pred : (17520, 77)\n",
      "Run 5 Mean Absolute Error: 91.46467871348332\n",
      "RMSE: 118.315\n",
      "R^2: 0.994\n",
      "[['node_1_demand', 'node_2_demand', 'link_2_flow', 'node_27_pressure', 'link_17_flow', 'node_15_pressure', 'node_10_pressure', 'link_27_flow', 'node_22_pressure', 'node_20_pressure', 'link_25_flow', 'node_24_demand', 'node_2_pressure', 'node_14_pressure', 'node_19_demand', 'node_30_pressure', 'link_19_flow', 'link_3_flow', 'node_17_pressure', 'node_10_demand']]\n",
      "starting df shape: (87600, 76)\n",
      "This is training run 6 and has the shape:  (87600, 76)\n",
      "The value of dropped columns is 20\n"
     ]
    },
    {
     "name": "stderr",
     "output_type": "stream",
     "text": [
      "/Users/alexellard/opt/anaconda3/lib/python3.7/site-packages/xgboost/data.py:96: UserWarning: Use subset (sliced data) of np.ndarray is not recommended because it will generate extra copies and increase memory consumption\n",
      "  \"because it will generate extra copies and increase \" +\n"
     ]
    },
    {
     "name": "stdout",
     "output_type": "stream",
     "text": [
      "test y shape : (17520, 1)\n",
      "Inv y shape : (17520, 76)\n",
      "y pred shape : (17520, 1)\n",
      "inv y pred : (17520, 76)\n",
      "Run 6 Mean Absolute Error: 77.63667215353819\n",
      "RMSE: 99.814\n",
      "R^2: 0.995\n",
      "[['node_8_demand', 'link_31_flow', 'node_14_pressure', 'node_5_demand', 'node_2_demand', 'node_3_pressure', 'node_7_pressure', 'node_31_pressure', 'node_18_pressure', 'node_27_demand', 'link_13_flow', 'node_25_pressure', 'link_22_flow', 'node_4_pressure', 'link_12_flow', 'link_11_flow', 'link_4_flow', 'link_32_flow', 'link_8_flow', 'node_23_demand']]\n",
      "starting df shape: (87600, 76)\n",
      "This is training run 7 and has the shape:  (87600, 76)\n",
      "The value of dropped columns is 20\n"
     ]
    },
    {
     "name": "stderr",
     "output_type": "stream",
     "text": [
      "/Users/alexellard/opt/anaconda3/lib/python3.7/site-packages/xgboost/data.py:96: UserWarning: Use subset (sliced data) of np.ndarray is not recommended because it will generate extra copies and increase memory consumption\n",
      "  \"because it will generate extra copies and increase \" +\n"
     ]
    },
    {
     "name": "stdout",
     "output_type": "stream",
     "text": [
      "test y shape : (17520, 1)\n",
      "Inv y shape : (17520, 76)\n",
      "y pred shape : (17520, 1)\n",
      "inv y pred : (17520, 76)\n",
      "Run 7 Mean Absolute Error: 81.87369788487479\n",
      "RMSE: 104.501\n",
      "R^2: 0.995\n",
      "[['node_24_pressure', 'node_5_pressure', 'node_7_pressure', 'node_14_pressure', 'node_2_demand', 'link_13_flow', 'link_21_flow', 'node_9_pressure', 'node_11_pressure', 'node_17_pressure', 'node_2_pressure', 'node_23_demand', 'node_30_demand', 'node_3_demand', 'node_13_pressure', 'node_9_demand', 'link_20_flow', 'link_15_flow', 'node_27_pressure', 'link_17_flow']]\n",
      "starting df shape: (87600, 76)\n",
      "This is training run 8 and has the shape:  (87600, 76)\n",
      "The value of dropped columns is 20\n"
     ]
    },
    {
     "name": "stderr",
     "output_type": "stream",
     "text": [
      "/Users/alexellard/opt/anaconda3/lib/python3.7/site-packages/xgboost/data.py:96: UserWarning: Use subset (sliced data) of np.ndarray is not recommended because it will generate extra copies and increase memory consumption\n",
      "  \"because it will generate extra copies and increase \" +\n"
     ]
    },
    {
     "name": "stdout",
     "output_type": "stream",
     "text": [
      "test y shape : (17520, 1)\n",
      "Inv y shape : (17520, 76)\n",
      "y pred shape : (17520, 1)\n",
      "inv y pred : (17520, 76)\n",
      "Run 8 Mean Absolute Error: 78.76443008083592\n",
      "RMSE: 100.867\n",
      "R^2: 0.995\n",
      "[['link_22_flow', 'node_4_demand', 'reservoir_demand', 'node_20_demand', 'node_26_demand', 'link_18_flow', 'node_31_demand', 'node_24_demand', 'node_10_pressure', 'node_8_pressure', 'link_17_flow', 'node_12_pressure', 'link_14_flow', 'link_15_flow', 'node_8_demand', 'node_3_demand', 'link_26_flow', 'node_16_pressure', 'node_7_pressure', 'node_29_pressure']]\n",
      "starting df shape: (87600, 76)\n",
      "This is training run 9 and has the shape:  (87600, 76)\n",
      "The value of dropped columns is 20\n"
     ]
    },
    {
     "name": "stderr",
     "output_type": "stream",
     "text": [
      "/Users/alexellard/opt/anaconda3/lib/python3.7/site-packages/xgboost/data.py:96: UserWarning: Use subset (sliced data) of np.ndarray is not recommended because it will generate extra copies and increase memory consumption\n",
      "  \"because it will generate extra copies and increase \" +\n"
     ]
    },
    {
     "name": "stdout",
     "output_type": "stream",
     "text": [
      "test y shape : (17520, 1)\n",
      "Inv y shape : (17520, 76)\n",
      "y pred shape : (17520, 1)\n",
      "inv y pred : (17520, 76)\n",
      "Run 9 Mean Absolute Error: 4.879370482159805\n",
      "RMSE: 6.342\n",
      "R^2: 0.995\n",
      "[['node_22_pressure', 'node_3_demand', 'node_18_pressure', 'node_27_pressure', 'link_8_flow', 'link_26_flow', 'link_31_flow', 'link_10_flow', 'node_31_demand', 'link_32_flow', 'node_4_pressure', 'link_28_flow', 'link_19_flow', 'node_29_pressure', 'link_23_flow', 'link_15_flow', 'node_26_pressure', 'node_16_pressure', 'node_21_demand', 'node_30_pressure']]\n",
      "starting df shape: (87600, 76)\n",
      "This is training run 10 and has the shape:  (87600, 76)\n",
      "The value of dropped columns is 20\n"
     ]
    },
    {
     "name": "stderr",
     "output_type": "stream",
     "text": [
      "/Users/alexellard/opt/anaconda3/lib/python3.7/site-packages/xgboost/data.py:96: UserWarning: Use subset (sliced data) of np.ndarray is not recommended because it will generate extra copies and increase memory consumption\n",
      "  \"because it will generate extra copies and increase \" +\n"
     ]
    },
    {
     "name": "stdout",
     "output_type": "stream",
     "text": [
      "test y shape : (17520, 1)\n",
      "Inv y shape : (17520, 76)\n",
      "y pred shape : (17520, 1)\n",
      "inv y pred : (17520, 76)\n",
      "Run 10 Mean Absolute Error: 88.35449362390659\n",
      "RMSE: 113.749\n",
      "R^2: 0.994\n",
      "[['link_15_flow', 'node_26_demand', 'link_28_flow', 'node_13_demand', 'link_8_flow', 'node_1_demand', 'node_9_demand', 'link_19_flow', 'node_1_pressure', 'link_13_flow', 'link_17_flow', 'link_10_flow', 'node_25_demand', 'node_14_pressure', 'link_3_flow', 'node_2_pressure', 'node_2_demand', 'node_19_demand', 'node_4_pressure', 'link_7_flow', 'node_6_demand', 'link_32_flow', 'node_22_pressure', 'link_26_flow', 'link_4_flow']]\n",
      "starting df shape: (87600, 71)\n",
      "This is training run 1 and has the shape:  (87600, 71)\n",
      "The value of dropped columns is 25\n"
     ]
    },
    {
     "name": "stderr",
     "output_type": "stream",
     "text": [
      "/Users/alexellard/opt/anaconda3/lib/python3.7/site-packages/xgboost/data.py:96: UserWarning: Use subset (sliced data) of np.ndarray is not recommended because it will generate extra copies and increase memory consumption\n",
      "  \"because it will generate extra copies and increase \" +\n"
     ]
    },
    {
     "name": "stdout",
     "output_type": "stream",
     "text": [
      "test y shape : (17520, 1)\n",
      "Inv y shape : (17520, 71)\n",
      "y pred shape : (17520, 1)\n",
      "inv y pred : (17520, 71)\n",
      "Run 1 Mean Absolute Error: 80.46641754411668\n",
      "RMSE: 104.112\n",
      "R^2: 0.995\n",
      "[['node_3_demand', 'node_23_pressure', 'node_21_pressure', 'link_22_flow', 'link_28_flow', 'link_9_flow', 'link_13_flow', 'node_12_pressure', 'node_2_pressure', 'link_14_flow', 'link_10_flow', 'reservoir_demand', 'node_13_demand', 'node_21_demand', 'node_24_pressure', 'link_26_flow', 'node_20_demand', 'reservoir_pressure', 'node_27_demand', 'link_15_flow', 'node_4_demand', 'node_18_pressure', 'link_24_flow', 'node_3_pressure', 'node_9_pressure']]\n",
      "starting df shape: (87600, 71)\n",
      "This is training run 2 and has the shape:  (87600, 71)\n",
      "The value of dropped columns is 25\n"
     ]
    },
    {
     "name": "stderr",
     "output_type": "stream",
     "text": [
      "/Users/alexellard/opt/anaconda3/lib/python3.7/site-packages/xgboost/data.py:96: UserWarning: Use subset (sliced data) of np.ndarray is not recommended because it will generate extra copies and increase memory consumption\n",
      "  \"because it will generate extra copies and increase \" +\n"
     ]
    },
    {
     "name": "stdout",
     "output_type": "stream",
     "text": [
      "test y shape : (17520, 1)\n",
      "Inv y shape : (17520, 71)\n",
      "y pred shape : (17520, 1)\n",
      "inv y pred : (17520, 71)\n",
      "Run 2 Mean Absolute Error: 5.318473944980397\n",
      "RMSE: 6.828\n",
      "R^2: 0.994\n",
      "[['reservoir_pressure', 'node_8_pressure', 'node_4_demand', 'link_4_flow', 'link_2_flow', 'node_4_pressure', 'node_17_demand', 'node_26_pressure', 'node_31_pressure', 'node_2_demand', 'node_2_pressure', 'node_21_demand', 'node_28_pressure', 'link_8_flow', 'node_22_pressure', 'node_29_pressure', 'link_30_flow', 'link_22_flow', 'link_26_flow', 'node_15_pressure', 'link_19_flow', 'node_12_pressure', 'link_1_flow', 'link_7_flow', 'node_24_demand']]\n",
      "starting df shape: (87600, 71)\n",
      "This is training run 3 and has the shape:  (87600, 71)\n",
      "The value of dropped columns is 25\n"
     ]
    },
    {
     "name": "stderr",
     "output_type": "stream",
     "text": [
      "/Users/alexellard/opt/anaconda3/lib/python3.7/site-packages/xgboost/data.py:96: UserWarning: Use subset (sliced data) of np.ndarray is not recommended because it will generate extra copies and increase memory consumption\n",
      "  \"because it will generate extra copies and increase \" +\n"
     ]
    },
    {
     "name": "stdout",
     "output_type": "stream",
     "text": [
      "test y shape : (17520, 1)\n",
      "Inv y shape : (17520, 71)\n",
      "y pred shape : (17520, 1)\n",
      "inv y pred : (17520, 71)\n",
      "Run 3 Mean Absolute Error: 81.9841785050418\n",
      "RMSE: 105.650\n",
      "R^2: 0.995\n",
      "[['node_20_demand', 'node_30_demand', 'node_9_pressure', 'link_20_flow', 'link_24_flow', 'node_19_demand', 'link_2_flow', 'link_16_flow', 'node_26_demand', 'reservoir_demand', 'node_8_pressure', 'link_15_flow', 'link_26_flow', 'node_25_pressure', 'node_22_pressure', 'node_2_pressure', 'node_17_pressure', 'node_24_demand', 'link_11_flow', 'node_21_pressure', 'node_19_pressure', 'link_19_flow', 'node_2_demand', 'node_8_demand', 'node_27_pressure']]\n",
      "starting df shape: (87600, 71)\n",
      "This is training run 4 and has the shape:  (87600, 71)\n",
      "The value of dropped columns is 25\n"
     ]
    },
    {
     "name": "stderr",
     "output_type": "stream",
     "text": [
      "/Users/alexellard/opt/anaconda3/lib/python3.7/site-packages/xgboost/data.py:96: UserWarning: Use subset (sliced data) of np.ndarray is not recommended because it will generate extra copies and increase memory consumption\n",
      "  \"because it will generate extra copies and increase \" +\n"
     ]
    },
    {
     "name": "stdout",
     "output_type": "stream",
     "text": [
      "test y shape : (17520, 1)\n",
      "Inv y shape : (17520, 71)\n",
      "y pred shape : (17520, 1)\n",
      "inv y pred : (17520, 71)\n",
      "Run 4 Mean Absolute Error: 4.827430171054112\n",
      "RMSE: 6.206\n",
      "R^2: 0.995\n",
      "[['node_5_pressure', 'node_19_pressure', 'node_4_demand', 'reservoir_pressure', 'node_2_pressure', 'node_26_pressure', 'link_1_flow', 'node_3_pressure', 'node_28_pressure', 'node_21_demand', 'link_8_flow', 'node_27_pressure', 'node_8_demand', 'node_20_demand', 'link_10_flow', 'node_1_demand', 'node_11_pressure', 'link_16_flow', 'link_24_flow', 'link_26_flow', 'node_30_demand', 'node_7_pressure', 'node_27_demand', 'node_18_demand', 'node_11_demand']]\n",
      "starting df shape: (87600, 71)\n",
      "This is training run 5 and has the shape:  (87600, 71)\n",
      "The value of dropped columns is 25\n"
     ]
    },
    {
     "name": "stderr",
     "output_type": "stream",
     "text": [
      "/Users/alexellard/opt/anaconda3/lib/python3.7/site-packages/xgboost/data.py:96: UserWarning: Use subset (sliced data) of np.ndarray is not recommended because it will generate extra copies and increase memory consumption\n",
      "  \"because it will generate extra copies and increase \" +\n"
     ]
    },
    {
     "name": "stdout",
     "output_type": "stream",
     "text": [
      "test y shape : (17520, 1)\n",
      "Inv y shape : (17520, 71)\n",
      "y pred shape : (17520, 1)\n",
      "inv y pred : (17520, 71)\n",
      "Run 5 Mean Absolute Error: 83.13537035150478\n",
      "RMSE: 106.167\n",
      "R^2: 0.995\n",
      "[['node_12_pressure', 'link_9_flow', 'link_2_flow', 'reservoir_demand', 'node_25_pressure', 'link_30_flow', 'node_26_demand', 'node_14_demand', 'node_12_demand', 'node_28_demand', 'link_12_flow', 'link_7_flow', 'link_32_flow', 'node_17_pressure', 'link_27_flow', 'node_11_demand', 'node_5_pressure', 'node_18_demand', 'link_13_flow', 'node_3_pressure', 'node_24_pressure', 'node_6_pressure', 'link_17_flow', 'node_2_demand', 'node_7_pressure']]\n",
      "starting df shape: (87600, 71)\n",
      "This is training run 6 and has the shape:  (87600, 71)\n",
      "The value of dropped columns is 25\n"
     ]
    },
    {
     "name": "stderr",
     "output_type": "stream",
     "text": [
      "/Users/alexellard/opt/anaconda3/lib/python3.7/site-packages/xgboost/data.py:96: UserWarning: Use subset (sliced data) of np.ndarray is not recommended because it will generate extra copies and increase memory consumption\n",
      "  \"because it will generate extra copies and increase \" +\n"
     ]
    },
    {
     "name": "stdout",
     "output_type": "stream",
     "text": [
      "test y shape : (17520, 1)\n",
      "Inv y shape : (17520, 71)\n",
      "y pred shape : (17520, 1)\n",
      "inv y pred : (17520, 71)\n",
      "Run 6 Mean Absolute Error: 6.707444663496866\n",
      "RMSE: 8.585\n",
      "R^2: 0.991\n",
      "[['node_17_demand', 'node_8_demand', 'node_16_pressure', 'node_20_pressure', 'node_30_demand', 'node_22_pressure', 'node_5_demand', 'node_7_demand', 'link_12_flow', 'node_7_pressure', 'node_10_demand', 'node_8_pressure', 'node_14_demand', 'reservoir_demand', 'link_11_flow', 'link_13_flow', 'link_7_flow', 'link_28_flow', 'node_25_demand', 'node_1_pressure', 'node_4_demand', 'node_23_pressure', 'link_2_flow', 'node_3_pressure']]\n",
      "starting df shape: (87600, 72)\n",
      "This is training run 7 and has the shape:  (87600, 72)\n",
      "The value of dropped columns is 25\n"
     ]
    },
    {
     "name": "stderr",
     "output_type": "stream",
     "text": [
      "/Users/alexellard/opt/anaconda3/lib/python3.7/site-packages/xgboost/data.py:96: UserWarning: Use subset (sliced data) of np.ndarray is not recommended because it will generate extra copies and increase memory consumption\n",
      "  \"because it will generate extra copies and increase \" +\n"
     ]
    },
    {
     "name": "stdout",
     "output_type": "stream",
     "text": [
      "test y shape : (17520, 1)\n",
      "Inv y shape : (17520, 72)\n",
      "y pred shape : (17520, 1)\n",
      "inv y pred : (17520, 72)\n",
      "Run 7 Mean Absolute Error: 4.9599802524300465\n",
      "RMSE: 6.384\n",
      "R^2: 0.995\n",
      "[['link_6_flow', 'node_29_pressure', 'reservoir_demand', 'node_7_demand', 'node_8_demand', 'node_13_pressure', 'node_19_pressure', 'node_8_pressure', 'link_14_flow', 'node_6_demand', 'node_9_demand', 'node_26_pressure', 'node_15_demand', 'node_21_pressure', 'node_20_pressure', 'link_13_flow', 'link_22_flow', 'node_2_pressure', 'node_4_pressure', 'node_25_demand', 'node_24_pressure', 'node_1_demand', 'node_6_pressure', 'link_19_flow', 'node_15_pressure']]\n",
      "starting df shape: (87600, 71)\n",
      "This is training run 8 and has the shape:  (87600, 71)\n",
      "The value of dropped columns is 25\n"
     ]
    },
    {
     "name": "stderr",
     "output_type": "stream",
     "text": [
      "/Users/alexellard/opt/anaconda3/lib/python3.7/site-packages/xgboost/data.py:96: UserWarning: Use subset (sliced data) of np.ndarray is not recommended because it will generate extra copies and increase memory consumption\n",
      "  \"because it will generate extra copies and increase \" +\n"
     ]
    },
    {
     "name": "stdout",
     "output_type": "stream",
     "text": [
      "test y shape : (17520, 1)\n",
      "Inv y shape : (17520, 71)\n",
      "y pred shape : (17520, 1)\n",
      "inv y pred : (17520, 71)\n",
      "Run 8 Mean Absolute Error: 4.304485999495199\n",
      "RMSE: 5.564\n",
      "R^2: 0.995\n",
      "[['node_27_demand', 'node_13_pressure', 'node_1_pressure', 'link_22_flow', 'link_26_flow', 'node_18_demand', 'link_27_flow', 'link_7_flow', 'node_18_pressure', 'reservoir_demand', 'node_15_pressure', 'node_7_pressure', 'node_26_pressure', 'node_3_pressure', 'node_23_pressure', 'node_25_pressure', 'node_24_demand', 'link_15_flow', 'link_20_flow', 'node_21_pressure', 'link_19_flow', 'node_8_demand', 'link_3_flow', 'node_29_pressure', 'link_21_flow']]\n",
      "starting df shape: (87600, 71)\n",
      "This is training run 9 and has the shape:  (87600, 71)\n",
      "The value of dropped columns is 25\n"
     ]
    },
    {
     "name": "stderr",
     "output_type": "stream",
     "text": [
      "/Users/alexellard/opt/anaconda3/lib/python3.7/site-packages/xgboost/data.py:96: UserWarning: Use subset (sliced data) of np.ndarray is not recommended because it will generate extra copies and increase memory consumption\n",
      "  \"because it will generate extra copies and increase \" +\n"
     ]
    },
    {
     "name": "stdout",
     "output_type": "stream",
     "text": [
      "test y shape : (17520, 1)\n",
      "Inv y shape : (17520, 71)\n",
      "y pred shape : (17520, 1)\n",
      "inv y pred : (17520, 71)\n",
      "Run 9 Mean Absolute Error: 5.067629575639555\n",
      "RMSE: 6.493\n",
      "R^2: 0.995\n",
      "[['node_14_demand', 'node_13_pressure', 'node_17_pressure', 'node_20_demand', 'link_11_flow', 'node_27_demand', 'node_11_demand', 'link_2_flow', 'node_25_pressure', 'link_27_flow', 'node_3_demand', 'node_19_pressure', 'node_31_pressure', 'node_10_pressure', 'node_8_demand', 'node_21_demand', 'node_14_pressure', 'node_24_demand', 'link_1_flow', 'node_9_pressure', 'node_10_demand', 'node_8_pressure', 'node_24_pressure', 'link_20_flow', 'link_13_flow']]\n",
      "starting df shape: (87600, 71)\n",
      "This is training run 10 and has the shape:  (87600, 71)\n",
      "The value of dropped columns is 25\n"
     ]
    },
    {
     "name": "stderr",
     "output_type": "stream",
     "text": [
      "/Users/alexellard/opt/anaconda3/lib/python3.7/site-packages/xgboost/data.py:96: UserWarning: Use subset (sliced data) of np.ndarray is not recommended because it will generate extra copies and increase memory consumption\n",
      "  \"because it will generate extra copies and increase \" +\n"
     ]
    },
    {
     "name": "stdout",
     "output_type": "stream",
     "text": [
      "test y shape : (17520, 1)\n",
      "Inv y shape : (17520, 71)\n",
      "y pred shape : (17520, 1)\n",
      "inv y pred : (17520, 71)\n",
      "Run 10 Mean Absolute Error: 82.22956201891782\n",
      "RMSE: 104.844\n",
      "R^2: 0.995\n",
      "[['link_11_flow', 'node_12_demand', 'node_6_pressure', 'link_4_flow', 'node_20_demand', 'node_9_pressure', 'node_1_demand', 'link_10_flow', 'node_9_demand', 'link_19_flow', 'link_17_flow', 'node_28_demand', 'node_25_demand', 'node_7_pressure', 'node_22_demand', 'node_26_pressure', 'node_18_pressure', 'node_22_pressure', 'node_23_demand', 'node_8_demand', 'node_31_demand', 'link_6_flow', 'link_1_flow', 'node_2_pressure', 'node_5_pressure', 'link_24_flow', 'node_15_demand', 'link_21_flow', 'node_2_demand', 'node_16_demand']]\n",
      "starting df shape: (87600, 66)\n",
      "This is training run 1 and has the shape:  (87600, 66)\n",
      "The value of dropped columns is 30\n"
     ]
    },
    {
     "name": "stderr",
     "output_type": "stream",
     "text": [
      "/Users/alexellard/opt/anaconda3/lib/python3.7/site-packages/xgboost/data.py:96: UserWarning: Use subset (sliced data) of np.ndarray is not recommended because it will generate extra copies and increase memory consumption\n",
      "  \"because it will generate extra copies and increase \" +\n"
     ]
    },
    {
     "name": "stdout",
     "output_type": "stream",
     "text": [
      "test y shape : (17520, 1)\n",
      "Inv y shape : (17520, 66)\n",
      "y pred shape : (17520, 1)\n",
      "inv y pred : (17520, 66)\n",
      "Run 1 Mean Absolute Error: 97.3283014255231\n",
      "RMSE: 126.417\n",
      "R^2: 0.993\n",
      "[['node_29_demand', 'link_2_flow', 'link_9_flow', 'node_23_demand', 'node_2_demand', 'link_25_flow', 'link_11_flow', 'link_23_flow', 'node_5_pressure', 'node_24_pressure', 'node_31_demand', 'node_13_demand', 'node_11_demand', 'link_32_flow', 'node_10_pressure', 'node_12_pressure', 'node_17_demand', 'node_15_pressure', 'node_16_pressure', 'link_12_flow', 'node_25_demand', 'link_21_flow', 'node_8_demand', 'node_11_pressure', 'node_30_pressure', 'node_4_demand', 'node_29_pressure', 'node_8_pressure', 'reservoir_pressure', 'node_6_pressure']]\n",
      "starting df shape: (87600, 66)\n",
      "This is training run 2 and has the shape:  (87600, 66)\n",
      "The value of dropped columns is 30\n"
     ]
    },
    {
     "name": "stderr",
     "output_type": "stream",
     "text": [
      "/Users/alexellard/opt/anaconda3/lib/python3.7/site-packages/xgboost/data.py:96: UserWarning: Use subset (sliced data) of np.ndarray is not recommended because it will generate extra copies and increase memory consumption\n",
      "  \"because it will generate extra copies and increase \" +\n"
     ]
    },
    {
     "name": "stdout",
     "output_type": "stream",
     "text": [
      "test y shape : (17520, 1)\n",
      "Inv y shape : (17520, 66)\n",
      "y pred shape : (17520, 1)\n",
      "inv y pred : (17520, 66)\n",
      "Run 2 Mean Absolute Error: 97.27841987540457\n",
      "RMSE: 125.112\n",
      "R^2: 0.993\n",
      "[['node_2_pressure', 'node_28_demand', 'node_19_pressure', 'node_16_demand', 'node_20_pressure', 'node_14_pressure', 'node_25_pressure', 'node_8_demand', 'link_9_flow', 'node_5_pressure', 'node_8_pressure', 'reservoir_pressure', 'node_13_demand', 'node_1_pressure', 'node_5_demand', 'node_24_pressure', 'node_2_demand', 'node_6_demand', 'node_15_pressure', 'link_17_flow', 'link_16_flow', 'link_31_flow', 'node_4_pressure', 'link_28_flow', 'node_14_demand', 'link_6_flow', 'node_28_pressure', 'link_2_flow', 'reservoir_demand', 'node_7_pressure']]\n",
      "starting df shape: (87600, 66)\n",
      "This is training run 3 and has the shape:  (87600, 66)\n",
      "The value of dropped columns is 30\n"
     ]
    },
    {
     "name": "stderr",
     "output_type": "stream",
     "text": [
      "/Users/alexellard/opt/anaconda3/lib/python3.7/site-packages/xgboost/data.py:96: UserWarning: Use subset (sliced data) of np.ndarray is not recommended because it will generate extra copies and increase memory consumption\n",
      "  \"because it will generate extra copies and increase \" +\n"
     ]
    },
    {
     "name": "stdout",
     "output_type": "stream",
     "text": [
      "test y shape : (17520, 1)\n",
      "Inv y shape : (17520, 66)\n",
      "y pred shape : (17520, 1)\n",
      "inv y pred : (17520, 66)\n",
      "Run 3 Mean Absolute Error: 6.03455693817302\n",
      "RMSE: 7.847\n",
      "R^2: 0.992\n",
      "[['node_11_pressure', 'link_19_flow', 'node_1_demand', 'link_31_flow', 'node_14_pressure', 'link_15_flow', 'link_3_flow', 'node_15_demand', 'node_29_pressure', 'node_20_demand', 'node_5_pressure', 'node_27_demand', 'node_18_demand', 'reservoir_demand', 'node_29_demand', 'node_4_pressure', 'link_4_flow', 'link_18_flow', 'link_7_flow', 'link_10_flow', 'node_24_pressure', 'link_32_flow', 'node_8_demand', 'node_12_pressure', 'node_30_pressure', 'node_6_demand', 'node_4_demand', 'node_25_demand', 'node_14_demand']]\n",
      "starting df shape: (87600, 67)\n",
      "This is training run 4 and has the shape:  (87600, 67)\n",
      "The value of dropped columns is 30\n"
     ]
    },
    {
     "name": "stderr",
     "output_type": "stream",
     "text": [
      "/Users/alexellard/opt/anaconda3/lib/python3.7/site-packages/xgboost/data.py:96: UserWarning: Use subset (sliced data) of np.ndarray is not recommended because it will generate extra copies and increase memory consumption\n",
      "  \"because it will generate extra copies and increase \" +\n"
     ]
    },
    {
     "name": "stdout",
     "output_type": "stream",
     "text": [
      "test y shape : (17520, 1)\n",
      "Inv y shape : (17520, 67)\n",
      "y pred shape : (17520, 1)\n",
      "inv y pred : (17520, 67)\n",
      "Run 4 Mean Absolute Error: 5.223489536743866\n",
      "RMSE: 6.698\n",
      "R^2: 0.993\n",
      "[['node_26_demand', 'node_22_demand', 'node_16_pressure', 'link_5_flow', 'link_7_flow', 'node_23_demand', 'link_12_flow', 'node_19_demand', 'node_10_demand', 'node_1_pressure', 'node_24_demand', 'node_28_pressure', 'node_23_pressure', 'node_18_demand', 'node_11_pressure', 'node_20_demand', 'node_10_pressure', 'link_11_flow', 'node_17_pressure', 'node_4_demand', 'reservoir_pressure', 'node_21_pressure', 'link_15_flow', 'link_22_flow', 'node_25_demand', 'node_21_demand', 'node_13_pressure', 'link_28_flow', 'link_2_flow']]\n",
      "starting df shape: (87600, 67)\n",
      "This is training run 5 and has the shape:  (87600, 67)\n",
      "The value of dropped columns is 30\n"
     ]
    },
    {
     "name": "stderr",
     "output_type": "stream",
     "text": [
      "/Users/alexellard/opt/anaconda3/lib/python3.7/site-packages/xgboost/data.py:96: UserWarning: Use subset (sliced data) of np.ndarray is not recommended because it will generate extra copies and increase memory consumption\n",
      "  \"because it will generate extra copies and increase \" +\n"
     ]
    },
    {
     "name": "stdout",
     "output_type": "stream",
     "text": [
      "test y shape : (17520, 1)\n",
      "Inv y shape : (17520, 67)\n",
      "y pred shape : (17520, 1)\n",
      "inv y pred : (17520, 67)\n",
      "Run 5 Mean Absolute Error: 81.14378011872913\n",
      "RMSE: 104.874\n",
      "R^2: 0.995\n",
      "[['node_23_pressure', 'node_28_pressure', 'link_5_flow', 'link_24_flow', 'link_27_flow', 'node_13_pressure', 'node_14_demand', 'node_8_demand', 'node_13_demand', 'node_15_pressure', 'node_7_pressure', 'node_12_demand', 'node_24_demand', 'node_31_pressure', 'node_20_pressure', 'node_22_pressure', 'node_26_demand', 'node_3_demand', 'node_30_demand', 'link_8_flow', 'node_6_demand', 'link_11_flow', 'node_18_demand', 'link_6_flow', 'node_4_pressure', 'link_21_flow', 'node_25_demand', 'link_31_flow', 'node_3_pressure']]\n",
      "starting df shape: (87600, 67)\n",
      "This is training run 6 and has the shape:  (87600, 67)\n",
      "The value of dropped columns is 30\n"
     ]
    },
    {
     "name": "stderr",
     "output_type": "stream",
     "text": [
      "/Users/alexellard/opt/anaconda3/lib/python3.7/site-packages/xgboost/data.py:96: UserWarning: Use subset (sliced data) of np.ndarray is not recommended because it will generate extra copies and increase memory consumption\n",
      "  \"because it will generate extra copies and increase \" +\n"
     ]
    },
    {
     "name": "stdout",
     "output_type": "stream",
     "text": [
      "test y shape : (17520, 1)\n",
      "Inv y shape : (17520, 67)\n",
      "y pred shape : (17520, 1)\n",
      "inv y pred : (17520, 67)\n",
      "Run 6 Mean Absolute Error: 78.88892675087465\n",
      "RMSE: 101.468\n",
      "R^2: 0.995\n",
      "[['node_28_pressure', 'node_2_demand', 'link_11_flow', 'link_15_flow', 'link_23_flow', 'node_26_demand', 'node_17_pressure', 'link_5_flow', 'node_3_pressure', 'node_19_demand', 'node_12_pressure', 'node_10_pressure', 'node_24_pressure', 'node_28_demand', 'node_27_pressure', 'node_14_demand', 'node_4_pressure', 'link_4_flow', 'node_6_pressure', 'node_2_pressure', 'link_10_flow', 'node_29_demand', 'node_11_demand', 'reservoir_demand', 'node_15_pressure', 'node_31_pressure', 'node_27_demand', 'node_25_demand', 'node_11_pressure', 'link_28_flow']]\n",
      "starting df shape: (87600, 66)\n",
      "This is training run 7 and has the shape:  (87600, 66)\n",
      "The value of dropped columns is 30\n"
     ]
    },
    {
     "name": "stderr",
     "output_type": "stream",
     "text": [
      "/Users/alexellard/opt/anaconda3/lib/python3.7/site-packages/xgboost/data.py:96: UserWarning: Use subset (sliced data) of np.ndarray is not recommended because it will generate extra copies and increase memory consumption\n",
      "  \"because it will generate extra copies and increase \" +\n"
     ]
    },
    {
     "name": "stdout",
     "output_type": "stream",
     "text": [
      "test y shape : (17520, 1)\n",
      "Inv y shape : (17520, 66)\n",
      "y pred shape : (17520, 1)\n",
      "inv y pred : (17520, 66)\n",
      "Run 7 Mean Absolute Error: 9.619753173005906\n",
      "RMSE: 12.675\n",
      "R^2: 0.980\n",
      "[['link_7_flow', 'node_29_pressure', 'node_21_demand', 'link_12_flow', 'link_26_flow', 'node_7_pressure', 'node_19_pressure', 'node_3_demand', 'link_18_flow', 'link_9_flow', 'link_19_flow', 'node_6_demand', 'link_25_flow', 'node_5_pressure', 'node_27_demand', 'node_9_demand', 'node_16_pressure', 'node_1_demand', 'node_20_demand', 'node_9_pressure', 'link_15_flow', 'link_11_flow', 'node_23_pressure', 'node_29_demand', 'node_18_demand', 'node_30_demand', 'link_30_flow', 'node_10_pressure', 'node_31_pressure', 'link_5_flow']]\n",
      "starting df shape: (87600, 66)\n",
      "This is training run 8 and has the shape:  (87600, 66)\n",
      "The value of dropped columns is 30\n"
     ]
    },
    {
     "name": "stderr",
     "output_type": "stream",
     "text": [
      "/Users/alexellard/opt/anaconda3/lib/python3.7/site-packages/xgboost/data.py:96: UserWarning: Use subset (sliced data) of np.ndarray is not recommended because it will generate extra copies and increase memory consumption\n",
      "  \"because it will generate extra copies and increase \" +\n"
     ]
    },
    {
     "name": "stdout",
     "output_type": "stream",
     "text": [
      "test y shape : (17520, 1)\n",
      "Inv y shape : (17520, 66)\n",
      "y pred shape : (17520, 1)\n",
      "inv y pred : (17520, 66)\n",
      "Run 8 Mean Absolute Error: 94.15913992504548\n",
      "RMSE: 121.333\n",
      "R^2: 0.993\n",
      "[['node_23_demand', 'node_7_pressure', 'link_25_flow', 'reservoir_demand', 'node_26_demand', 'node_25_demand', 'node_16_pressure', 'node_27_demand', 'node_20_pressure', 'link_14_flow', 'node_14_demand', 'link_3_flow', 'node_19_demand', 'node_9_pressure', 'node_10_pressure', 'node_16_demand', 'node_31_demand', 'node_11_pressure', 'node_17_demand', 'link_7_flow', 'node_1_demand', 'node_5_demand', 'node_28_demand', 'node_6_pressure', 'link_1_flow', 'node_7_demand', 'node_9_demand', 'node_29_demand', 'link_27_flow', 'link_19_flow']]\n",
      "starting df shape: (87600, 66)\n",
      "This is training run 9 and has the shape:  (87600, 66)\n",
      "The value of dropped columns is 30\n"
     ]
    },
    {
     "name": "stderr",
     "output_type": "stream",
     "text": [
      "/Users/alexellard/opt/anaconda3/lib/python3.7/site-packages/xgboost/data.py:96: UserWarning: Use subset (sliced data) of np.ndarray is not recommended because it will generate extra copies and increase memory consumption\n",
      "  \"because it will generate extra copies and increase \" +\n"
     ]
    },
    {
     "name": "stdout",
     "output_type": "stream",
     "text": [
      "test y shape : (17520, 1)\n",
      "Inv y shape : (17520, 66)\n",
      "y pred shape : (17520, 1)\n",
      "inv y pred : (17520, 66)\n",
      "Run 9 Mean Absolute Error: 8.794017675808032\n",
      "RMSE: 11.512\n",
      "R^2: 0.979\n",
      "[['node_9_pressure', 'node_16_demand', 'node_5_pressure', 'link_6_flow', 'reservoir_demand', 'reservoir_pressure', 'link_19_flow', 'link_28_flow', 'link_12_flow', 'node_15_demand', 'link_26_flow', 'node_28_demand', 'link_32_flow', 'node_29_pressure', 'node_27_demand', 'node_7_demand', 'link_8_flow', 'node_13_demand', 'node_28_pressure', 'link_15_flow', 'node_20_demand', 'node_15_pressure', 'link_4_flow', 'link_18_flow', 'node_27_pressure', 'link_9_flow', 'node_17_demand', 'node_17_pressure', 'node_30_demand', 'node_18_pressure']]\n",
      "starting df shape: (87600, 66)\n",
      "This is training run 10 and has the shape:  (87600, 66)\n",
      "The value of dropped columns is 30\n"
     ]
    },
    {
     "name": "stderr",
     "output_type": "stream",
     "text": [
      "/Users/alexellard/opt/anaconda3/lib/python3.7/site-packages/xgboost/data.py:96: UserWarning: Use subset (sliced data) of np.ndarray is not recommended because it will generate extra copies and increase memory consumption\n",
      "  \"because it will generate extra copies and increase \" +\n"
     ]
    },
    {
     "name": "stdout",
     "output_type": "stream",
     "text": [
      "test y shape : (17520, 1)\n",
      "Inv y shape : (17520, 66)\n",
      "y pred shape : (17520, 1)\n",
      "inv y pred : (17520, 66)\n",
      "Run 10 Mean Absolute Error: 5.920298297580791\n",
      "RMSE: 7.636\n",
      "R^2: 0.993\n",
      "[['node_14_pressure', 'link_4_flow', 'node_11_pressure', 'node_20_demand', 'link_1_flow', 'link_21_flow', 'node_16_demand', 'node_27_demand', 'node_12_demand', 'node_15_pressure', 'node_28_demand', 'link_9_flow', 'node_9_pressure', 'link_16_flow', 'link_22_flow', 'node_18_demand', 'node_5_pressure', 'reservoir_demand', 'node_29_pressure', 'node_13_pressure', 'node_24_pressure', 'node_31_pressure', 'node_19_pressure', 'link_11_flow', 'link_27_flow', 'link_12_flow', 'node_20_pressure', 'link_20_flow', 'node_14_demand', 'node_10_pressure', 'node_2_demand', 'link_32_flow', 'node_1_pressure', 'link_23_flow', 'node_2_pressure']]\n",
      "starting df shape: (87600, 61)\n",
      "This is training run 1 and has the shape:  (87600, 61)\n",
      "The value of dropped columns is 35\n"
     ]
    },
    {
     "name": "stderr",
     "output_type": "stream",
     "text": [
      "/Users/alexellard/opt/anaconda3/lib/python3.7/site-packages/xgboost/data.py:96: UserWarning: Use subset (sliced data) of np.ndarray is not recommended because it will generate extra copies and increase memory consumption\n",
      "  \"because it will generate extra copies and increase \" +\n"
     ]
    },
    {
     "name": "stdout",
     "output_type": "stream",
     "text": [
      "test y shape : (17520, 1)\n",
      "Inv y shape : (17520, 61)\n",
      "y pred shape : (17520, 1)\n",
      "inv y pred : (17520, 61)\n",
      "Run 1 Mean Absolute Error: 6.121242784651584\n",
      "RMSE: 7.917\n",
      "R^2: 0.992\n",
      "[['link_19_flow', 'link_27_flow', 'node_20_demand', 'node_17_pressure', 'node_15_demand', 'node_14_demand', 'node_18_pressure', 'node_12_demand', 'node_19_demand', 'node_6_pressure', 'node_13_demand', 'link_23_flow', 'link_28_flow', 'link_31_flow', 'link_14_flow', 'link_15_flow', 'node_3_pressure', 'node_10_pressure', 'node_9_pressure', 'node_9_demand', 'link_25_flow', 'link_13_flow', 'node_31_demand', 'node_14_pressure', 'link_2_flow', 'link_16_flow', 'node_29_demand', 'node_31_pressure', 'link_11_flow', 'node_1_pressure', 'node_26_pressure', 'node_26_demand', 'node_24_demand', 'node_8_demand', 'reservoir_demand']]\n",
      "starting df shape: (87600, 61)\n",
      "This is training run 2 and has the shape:  (87600, 61)\n",
      "The value of dropped columns is 35\n"
     ]
    },
    {
     "name": "stderr",
     "output_type": "stream",
     "text": [
      "/Users/alexellard/opt/anaconda3/lib/python3.7/site-packages/xgboost/data.py:96: UserWarning: Use subset (sliced data) of np.ndarray is not recommended because it will generate extra copies and increase memory consumption\n",
      "  \"because it will generate extra copies and increase \" +\n"
     ]
    },
    {
     "name": "stdout",
     "output_type": "stream",
     "text": [
      "test y shape : (17520, 1)\n",
      "Inv y shape : (17520, 61)\n",
      "y pred shape : (17520, 1)\n",
      "inv y pred : (17520, 61)\n",
      "Run 2 Mean Absolute Error: 6.4809497156984195\n",
      "RMSE: 8.495\n",
      "R^2: 0.991\n",
      "[['node_28_demand', 'node_22_demand', 'node_19_demand', 'reservoir_demand', 'node_4_pressure', 'link_15_flow', 'node_31_pressure', 'node_30_demand', 'node_6_pressure', 'node_28_pressure', 'node_23_demand', 'link_6_flow', 'link_2_flow', 'link_10_flow', 'node_6_demand', 'link_23_flow', 'node_25_pressure', 'node_20_pressure', 'node_18_demand', 'node_14_pressure', 'link_11_flow', 'node_3_demand', 'node_5_demand', 'node_10_pressure', 'link_27_flow', 'node_11_pressure', 'node_9_pressure', 'node_12_demand', 'node_16_demand', 'node_21_pressure', 'node_17_pressure', 'node_14_demand', 'link_18_flow', 'node_22_pressure']]\n",
      "starting df shape: (87600, 62)\n",
      "This is training run 3 and has the shape:  (87600, 62)\n",
      "The value of dropped columns is 35\n"
     ]
    },
    {
     "name": "stderr",
     "output_type": "stream",
     "text": [
      "/Users/alexellard/opt/anaconda3/lib/python3.7/site-packages/xgboost/data.py:96: UserWarning: Use subset (sliced data) of np.ndarray is not recommended because it will generate extra copies and increase memory consumption\n",
      "  \"because it will generate extra copies and increase \" +\n"
     ]
    },
    {
     "name": "stdout",
     "output_type": "stream",
     "text": [
      "test y shape : (17520, 1)\n",
      "Inv y shape : (17520, 62)\n",
      "y pred shape : (17520, 1)\n",
      "inv y pred : (17520, 62)\n",
      "Run 3 Mean Absolute Error: 5.93257620249505\n",
      "RMSE: 7.696\n",
      "R^2: 0.993\n",
      "[['link_8_flow', 'node_17_pressure', 'node_25_pressure', 'link_17_flow', 'node_13_pressure', 'link_16_flow', 'link_14_flow', 'link_19_flow', 'node_31_demand', 'link_15_flow', 'node_20_pressure', 'node_16_demand', 'node_10_demand', 'node_4_demand', 'node_30_pressure', 'node_28_demand', 'node_22_demand', 'link_26_flow', 'link_3_flow', 'node_21_demand', 'node_12_demand', 'link_31_flow', 'link_20_flow', 'link_9_flow', 'node_11_demand', 'node_8_demand', 'link_25_flow', 'link_6_flow', 'node_28_pressure', 'link_12_flow', 'node_6_demand', 'link_23_flow', 'node_24_demand', 'link_4_flow']]\n",
      "starting df shape: (87600, 62)\n",
      "This is training run 4 and has the shape:  (87600, 62)\n",
      "The value of dropped columns is 35\n"
     ]
    },
    {
     "name": "stderr",
     "output_type": "stream",
     "text": [
      "/Users/alexellard/opt/anaconda3/lib/python3.7/site-packages/xgboost/data.py:96: UserWarning: Use subset (sliced data) of np.ndarray is not recommended because it will generate extra copies and increase memory consumption\n",
      "  \"because it will generate extra copies and increase \" +\n"
     ]
    },
    {
     "name": "stdout",
     "output_type": "stream",
     "text": [
      "test y shape : (17520, 1)\n",
      "Inv y shape : (17520, 62)\n",
      "y pred shape : (17520, 1)\n",
      "inv y pred : (17520, 62)\n",
      "Run 4 Mean Absolute Error: 100.24783565849877\n",
      "RMSE: 129.905\n",
      "R^2: 0.992\n",
      "[['node_29_demand', 'node_25_pressure', 'node_26_pressure', 'node_10_pressure', 'link_9_flow', 'node_15_pressure', 'node_1_demand', 'node_24_demand', 'node_21_pressure', 'node_8_demand', 'node_26_demand', 'link_4_flow', 'node_20_demand', 'node_4_pressure', 'node_10_demand', 'node_13_demand', 'node_28_demand', 'link_10_flow', 'link_18_flow', 'link_8_flow', 'node_17_demand', 'link_16_flow', 'link_26_flow', 'link_28_flow', 'link_17_flow', 'node_9_demand', 'node_6_demand', 'link_15_flow', 'node_31_pressure', 'link_24_flow', 'node_9_pressure', 'link_25_flow', 'node_11_demand', 'link_1_flow', 'node_23_demand']]\n",
      "starting df shape: (87600, 61)\n",
      "This is training run 5 and has the shape:  (87600, 61)\n",
      "The value of dropped columns is 35\n"
     ]
    },
    {
     "name": "stderr",
     "output_type": "stream",
     "text": [
      "/Users/alexellard/opt/anaconda3/lib/python3.7/site-packages/xgboost/data.py:96: UserWarning: Use subset (sliced data) of np.ndarray is not recommended because it will generate extra copies and increase memory consumption\n",
      "  \"because it will generate extra copies and increase \" +\n"
     ]
    },
    {
     "name": "stdout",
     "output_type": "stream",
     "text": [
      "test y shape : (17520, 1)\n",
      "Inv y shape : (17520, 61)\n",
      "y pred shape : (17520, 1)\n",
      "inv y pred : (17520, 61)\n",
      "Run 5 Mean Absolute Error: 154.68543579023992\n",
      "RMSE: 202.767\n",
      "R^2: 0.981\n",
      "[['node_13_demand', 'node_31_demand', 'link_5_flow', 'link_8_flow', 'node_2_pressure', 'node_23_demand', 'node_1_pressure', 'node_19_pressure', 'node_8_demand', 'link_3_flow', 'link_28_flow', 'link_18_flow', 'link_27_flow', 'node_29_demand', 'node_5_demand', 'link_17_flow', 'link_2_flow', 'node_8_pressure', 'link_13_flow', 'node_27_demand', 'node_28_demand', 'link_4_flow', 'node_5_pressure', 'node_2_demand', 'node_14_pressure', 'node_20_demand', 'node_10_pressure', 'link_14_flow', 'node_1_demand', 'link_26_flow', 'node_24_demand', 'reservoir_pressure', 'node_12_demand', 'node_4_pressure', 'node_27_pressure']]\n",
      "starting df shape: (87600, 61)\n",
      "This is training run 6 and has the shape:  (87600, 61)\n",
      "The value of dropped columns is 35\n"
     ]
    },
    {
     "name": "stderr",
     "output_type": "stream",
     "text": [
      "/Users/alexellard/opt/anaconda3/lib/python3.7/site-packages/xgboost/data.py:96: UserWarning: Use subset (sliced data) of np.ndarray is not recommended because it will generate extra copies and increase memory consumption\n",
      "  \"because it will generate extra copies and increase \" +\n"
     ]
    },
    {
     "name": "stdout",
     "output_type": "stream",
     "text": [
      "test y shape : (17520, 1)\n",
      "Inv y shape : (17520, 61)\n",
      "y pred shape : (17520, 1)\n",
      "inv y pred : (17520, 61)\n",
      "Run 6 Mean Absolute Error: 167.10379904310176\n",
      "RMSE: 219.379\n",
      "R^2: 0.978\n",
      "[['node_21_pressure', 'node_25_pressure', 'link_1_flow', 'node_11_pressure', 'node_1_demand', 'node_29_demand', 'link_23_flow', 'link_22_flow', 'node_4_demand', 'node_30_demand', 'reservoir_demand', 'node_14_demand', 'node_23_pressure', 'node_22_demand', 'node_18_demand', 'node_30_pressure', 'node_16_pressure', 'node_1_pressure', 'node_10_demand', 'node_15_pressure', 'link_12_flow', 'node_3_demand', 'link_11_flow', 'node_25_demand', 'node_28_pressure', 'node_5_pressure', 'node_17_demand', 'link_15_flow', 'node_15_demand', 'reservoir_pressure', 'link_3_flow', 'node_8_demand', 'node_20_pressure', 'node_7_demand', 'node_19_pressure']]\n",
      "starting df shape: (87600, 61)\n",
      "This is training run 7 and has the shape:  (87600, 61)\n",
      "The value of dropped columns is 35\n"
     ]
    },
    {
     "name": "stderr",
     "output_type": "stream",
     "text": [
      "/Users/alexellard/opt/anaconda3/lib/python3.7/site-packages/xgboost/data.py:96: UserWarning: Use subset (sliced data) of np.ndarray is not recommended because it will generate extra copies and increase memory consumption\n",
      "  \"because it will generate extra copies and increase \" +\n"
     ]
    },
    {
     "name": "stdout",
     "output_type": "stream",
     "text": [
      "test y shape : (17520, 1)\n",
      "Inv y shape : (17520, 61)\n",
      "y pred shape : (17520, 1)\n",
      "inv y pred : (17520, 61)\n",
      "Run 7 Mean Absolute Error: 4.962837523932734\n",
      "RMSE: 6.388\n",
      "R^2: 0.994\n",
      "[['node_14_demand', 'node_25_pressure', 'node_12_pressure', 'link_19_flow', 'node_7_demand', 'node_28_pressure', 'node_25_demand', 'node_1_pressure', 'reservoir_demand', 'node_21_pressure', 'node_19_pressure', 'link_17_flow', 'link_22_flow', 'link_32_flow', 'node_9_demand', 'link_21_flow', 'link_23_flow', 'node_30_pressure', 'node_30_demand', 'node_5_pressure', 'node_15_demand', 'link_3_flow', 'node_6_pressure', 'node_18_pressure', 'node_23_demand', 'link_1_flow', 'node_19_demand', 'node_6_demand', 'node_2_pressure', 'node_29_pressure', 'link_9_flow', 'node_20_demand', 'link_18_flow', 'node_28_demand', 'link_14_flow']]\n",
      "starting df shape: (87600, 61)\n",
      "This is training run 8 and has the shape:  (87600, 61)\n",
      "The value of dropped columns is 35\n"
     ]
    },
    {
     "name": "stderr",
     "output_type": "stream",
     "text": [
      "/Users/alexellard/opt/anaconda3/lib/python3.7/site-packages/xgboost/data.py:96: UserWarning: Use subset (sliced data) of np.ndarray is not recommended because it will generate extra copies and increase memory consumption\n",
      "  \"because it will generate extra copies and increase \" +\n"
     ]
    },
    {
     "name": "stdout",
     "output_type": "stream",
     "text": [
      "test y shape : (17520, 1)\n",
      "Inv y shape : (17520, 61)\n",
      "y pred shape : (17520, 1)\n",
      "inv y pred : (17520, 61)\n",
      "Run 8 Mean Absolute Error: 5.9147800419551055\n",
      "RMSE: 7.629\n",
      "R^2: 0.993\n",
      "[['node_7_demand', 'reservoir_demand', 'reservoir_pressure', 'node_13_demand', 'node_19_demand', 'node_14_demand', 'node_3_demand', 'node_26_pressure', 'link_26_flow', 'link_6_flow', 'node_14_pressure', 'link_24_flow', 'node_9_demand', 'node_22_pressure', 'node_13_pressure', 'link_15_flow', 'link_32_flow', 'link_17_flow', 'link_11_flow', 'link_14_flow', 'node_7_pressure', 'node_6_pressure', 'link_22_flow', 'link_19_flow', 'node_11_pressure', 'link_25_flow', 'link_5_flow', 'node_9_pressure', 'node_26_demand', 'node_28_pressure', 'link_9_flow', 'node_15_demand', 'link_13_flow', 'node_8_pressure']]\n",
      "starting df shape: (87600, 62)\n",
      "This is training run 9 and has the shape:  (87600, 62)\n",
      "The value of dropped columns is 35\n"
     ]
    },
    {
     "name": "stderr",
     "output_type": "stream",
     "text": [
      "/Users/alexellard/opt/anaconda3/lib/python3.7/site-packages/xgboost/data.py:96: UserWarning: Use subset (sliced data) of np.ndarray is not recommended because it will generate extra copies and increase memory consumption\n",
      "  \"because it will generate extra copies and increase \" +\n"
     ]
    },
    {
     "name": "stdout",
     "output_type": "stream",
     "text": [
      "test y shape : (17520, 1)\n",
      "Inv y shape : (17520, 62)\n",
      "y pred shape : (17520, 1)\n",
      "inv y pred : (17520, 62)\n",
      "Run 9 Mean Absolute Error: 4.810398336059019\n",
      "RMSE: 6.288\n",
      "R^2: 0.995\n",
      "[['node_29_demand', 'node_10_demand', 'link_4_flow', 'link_9_flow', 'link_30_flow', 'node_15_pressure', 'node_25_pressure', 'link_18_flow', 'node_24_demand', 'node_14_demand', 'link_27_flow', 'node_8_pressure', 'node_18_pressure', 'node_26_demand', 'node_19_pressure', 'link_3_flow', 'link_31_flow', 'node_9_demand', 'node_4_demand', 'node_9_pressure', 'node_11_demand', 'node_13_pressure', 'link_24_flow', 'node_13_demand', 'node_3_pressure', 'node_22_demand', 'node_15_demand', 'reservoir_demand', 'node_11_pressure', 'link_7_flow', 'node_21_pressure', 'node_8_demand', 'link_15_flow', 'link_19_flow']]\n",
      "starting df shape: (87600, 62)\n",
      "This is training run 10 and has the shape:  (87600, 62)\n",
      "The value of dropped columns is 35\n"
     ]
    },
    {
     "name": "stderr",
     "output_type": "stream",
     "text": [
      "/Users/alexellard/opt/anaconda3/lib/python3.7/site-packages/xgboost/data.py:96: UserWarning: Use subset (sliced data) of np.ndarray is not recommended because it will generate extra copies and increase memory consumption\n",
      "  \"because it will generate extra copies and increase \" +\n"
     ]
    },
    {
     "name": "stdout",
     "output_type": "stream",
     "text": [
      "test y shape : (17520, 1)\n",
      "Inv y shape : (17520, 62)\n",
      "y pred shape : (17520, 1)\n",
      "inv y pred : (17520, 62)\n",
      "Run 10 Mean Absolute Error: 5.656549527408325\n",
      "RMSE: 7.259\n",
      "R^2: 0.993\n",
      "[['node_22_demand', 'node_31_pressure', 'node_24_pressure', 'link_16_flow', 'node_21_demand', 'node_23_demand', 'node_28_pressure', 'node_18_pressure', 'node_29_demand', 'node_22_pressure', 'node_30_demand', 'node_25_pressure', 'node_26_demand', 'link_24_flow', 'node_16_pressure', 'link_8_flow', 'link_19_flow', 'node_29_pressure', 'link_1_flow', 'link_31_flow', 'link_26_flow', 'node_10_pressure', 'link_21_flow', 'link_4_flow', 'link_14_flow', 'node_8_demand', 'link_25_flow', 'node_11_pressure', 'node_23_pressure', 'node_7_pressure', 'link_20_flow', 'node_27_pressure', 'node_16_demand', 'node_11_demand', 'reservoir_pressure', 'node_31_demand', 'node_15_pressure', 'node_28_demand', 'node_18_demand', 'node_15_demand']]\n",
      "starting df shape: (87600, 56)\n",
      "This is training run 1 and has the shape:  (87600, 56)\n",
      "The value of dropped columns is 40\n"
     ]
    },
    {
     "name": "stderr",
     "output_type": "stream",
     "text": [
      "/Users/alexellard/opt/anaconda3/lib/python3.7/site-packages/xgboost/data.py:96: UserWarning: Use subset (sliced data) of np.ndarray is not recommended because it will generate extra copies and increase memory consumption\n",
      "  \"because it will generate extra copies and increase \" +\n"
     ]
    },
    {
     "name": "stdout",
     "output_type": "stream",
     "text": [
      "test y shape : (17520, 1)\n",
      "Inv y shape : (17520, 56)\n",
      "y pred shape : (17520, 1)\n",
      "inv y pred : (17520, 56)\n",
      "Run 1 Mean Absolute Error: 154.594969895531\n",
      "RMSE: 203.224\n",
      "R^2: 0.981\n",
      "[['link_16_flow', 'node_2_demand', 'node_17_pressure', 'node_18_demand', 'link_28_flow', 'node_15_pressure', 'node_30_pressure', 'link_18_flow', 'node_14_demand', 'node_19_demand', 'link_13_flow', 'node_26_demand', 'link_19_flow', 'node_16_demand', 'link_24_flow', 'node_26_pressure', 'link_3_flow', 'node_20_demand', 'node_8_pressure', 'node_2_pressure', 'node_29_demand', 'node_11_demand', 'node_8_demand', 'node_24_demand', 'node_18_pressure', 'node_5_demand', 'link_10_flow', 'link_15_flow', 'reservoir_pressure', 'node_30_demand', 'node_13_demand', 'node_1_pressure', 'node_31_demand', 'node_10_demand', 'link_31_flow', 'link_20_flow', 'link_8_flow', 'link_26_flow', 'link_22_flow', 'link_17_flow']]\n",
      "starting df shape: (87600, 56)\n",
      "This is training run 2 and has the shape:  (87600, 56)\n",
      "The value of dropped columns is 40\n"
     ]
    },
    {
     "name": "stderr",
     "output_type": "stream",
     "text": [
      "/Users/alexellard/opt/anaconda3/lib/python3.7/site-packages/xgboost/data.py:96: UserWarning: Use subset (sliced data) of np.ndarray is not recommended because it will generate extra copies and increase memory consumption\n",
      "  \"because it will generate extra copies and increase \" +\n"
     ]
    },
    {
     "name": "stdout",
     "output_type": "stream",
     "text": [
      "test y shape : (17520, 1)\n",
      "Inv y shape : (17520, 56)\n",
      "y pred shape : (17520, 1)\n",
      "inv y pred : (17520, 56)\n",
      "Run 2 Mean Absolute Error: 101.46490005178806\n",
      "RMSE: 130.598\n",
      "R^2: 0.992\n",
      "[['node_28_demand', 'node_26_demand', 'node_19_demand', 'node_11_pressure', 'node_12_pressure', 'link_1_flow', 'node_7_demand', 'link_26_flow', 'node_15_pressure', 'link_27_flow', 'link_21_flow', 'node_10_demand', 'link_16_flow', 'node_16_pressure', 'node_2_pressure', 'node_27_pressure', 'node_29_pressure', 'node_31_demand', 'link_18_flow', 'reservoir_pressure', 'link_30_flow', 'node_22_demand', 'node_16_demand', 'link_23_flow', 'node_5_pressure', 'link_13_flow', 'node_25_pressure', 'link_19_flow', 'node_13_pressure', 'link_25_flow', 'node_14_pressure', 'link_28_flow', 'link_10_flow', 'node_18_demand', 'node_1_demand', 'node_9_pressure', 'node_10_pressure', 'node_17_pressure', 'node_14_demand', 'link_2_flow']]\n",
      "starting df shape: (87600, 56)\n",
      "This is training run 3 and has the shape:  (87600, 56)\n",
      "The value of dropped columns is 40\n"
     ]
    },
    {
     "name": "stderr",
     "output_type": "stream",
     "text": [
      "/Users/alexellard/opt/anaconda3/lib/python3.7/site-packages/xgboost/data.py:96: UserWarning: Use subset (sliced data) of np.ndarray is not recommended because it will generate extra copies and increase memory consumption\n",
      "  \"because it will generate extra copies and increase \" +\n"
     ]
    },
    {
     "name": "stdout",
     "output_type": "stream",
     "text": [
      "test y shape : (17520, 1)\n",
      "Inv y shape : (17520, 56)\n",
      "y pred shape : (17520, 1)\n",
      "inv y pred : (17520, 56)\n",
      "Run 3 Mean Absolute Error: 113.8608749455744\n",
      "RMSE: 146.132\n",
      "R^2: 0.990\n",
      "[['link_14_flow', 'link_10_flow', 'node_31_demand', 'node_25_demand', 'node_11_pressure', 'link_21_flow', 'link_12_flow', 'node_10_pressure', 'link_27_flow', 'link_19_flow', 'link_4_flow', 'node_16_demand', 'node_30_demand', 'link_25_flow', 'node_29_pressure', 'link_5_flow', 'node_24_demand', 'node_6_pressure', 'node_21_demand', 'node_30_pressure', 'node_11_demand', 'link_26_flow', 'node_3_pressure', 'node_26_pressure', 'link_16_flow', 'link_32_flow', 'reservoir_demand', 'node_16_pressure', 'node_2_demand', 'node_15_demand', 'node_22_pressure', 'link_20_flow', 'link_31_flow', 'node_29_demand', 'reservoir_pressure', 'node_21_pressure', 'node_26_demand', 'node_2_pressure', 'link_1_flow', 'link_24_flow']]\n",
      "starting df shape: (87600, 56)\n",
      "This is training run 4 and has the shape:  (87600, 56)\n",
      "The value of dropped columns is 40\n"
     ]
    },
    {
     "name": "stderr",
     "output_type": "stream",
     "text": [
      "/Users/alexellard/opt/anaconda3/lib/python3.7/site-packages/xgboost/data.py:96: UserWarning: Use subset (sliced data) of np.ndarray is not recommended because it will generate extra copies and increase memory consumption\n",
      "  \"because it will generate extra copies and increase \" +\n"
     ]
    },
    {
     "name": "stdout",
     "output_type": "stream",
     "text": [
      "test y shape : (17520, 1)\n",
      "Inv y shape : (17520, 56)\n",
      "y pred shape : (17520, 1)\n",
      "inv y pred : (17520, 56)\n",
      "Run 4 Mean Absolute Error: 5.8933199779240235\n",
      "RMSE: 7.598\n",
      "R^2: 0.993\n",
      "[['link_14_flow', 'node_15_demand', 'node_12_demand', 'link_5_flow', 'node_3_demand', 'node_19_pressure', 'node_10_demand', 'link_12_flow', 'node_4_demand', 'link_18_flow', 'node_11_demand', 'node_16_demand', 'node_18_pressure', 'reservoir_pressure', 'node_29_pressure', 'node_17_demand', 'link_32_flow', 'node_22_demand', 'node_17_pressure', 'link_31_flow', 'node_14_demand', 'link_1_flow', 'node_27_demand', 'node_28_demand', 'node_25_demand', 'link_16_flow', 'node_20_demand', 'node_7_pressure', 'node_24_pressure', 'link_27_flow', 'node_8_demand', 'node_10_pressure', 'node_26_demand', 'node_1_demand', 'link_23_flow', 'link_28_flow', 'link_2_flow', 'node_5_pressure', 'node_2_demand', 'link_3_flow']]\n",
      "starting df shape: (87600, 56)\n",
      "This is training run 5 and has the shape:  (87600, 56)\n",
      "The value of dropped columns is 40\n"
     ]
    },
    {
     "name": "stderr",
     "output_type": "stream",
     "text": [
      "/Users/alexellard/opt/anaconda3/lib/python3.7/site-packages/xgboost/data.py:96: UserWarning: Use subset (sliced data) of np.ndarray is not recommended because it will generate extra copies and increase memory consumption\n",
      "  \"because it will generate extra copies and increase \" +\n"
     ]
    },
    {
     "name": "stdout",
     "output_type": "stream",
     "text": [
      "test y shape : (17520, 1)\n",
      "Inv y shape : (17520, 56)\n",
      "y pred shape : (17520, 1)\n",
      "inv y pred : (17520, 56)\n",
      "Run 5 Mean Absolute Error: 104.4307953207664\n",
      "RMSE: 135.209\n",
      "R^2: 0.992\n",
      "[['node_29_pressure', 'node_29_demand', 'node_4_demand', 'reservoir_demand', 'node_1_demand', 'node_8_demand', 'link_9_flow', 'node_16_pressure', 'link_19_flow', 'node_18_pressure', 'link_21_flow', 'reservoir_pressure', 'link_18_flow', 'node_14_pressure', 'node_28_pressure', 'link_30_flow', 'node_4_pressure', 'node_27_pressure', 'link_12_flow', 'link_8_flow', 'node_23_demand', 'node_24_demand', 'node_8_pressure', 'node_11_demand', 'node_9_pressure', 'node_30_demand', 'node_22_pressure', 'node_26_demand', 'link_25_flow', 'node_3_demand', 'node_7_pressure', 'link_3_flow', 'link_28_flow', 'link_23_flow', 'node_22_demand', 'link_17_flow', 'node_6_pressure', 'link_10_flow', 'node_25_demand']]\n",
      "starting df shape: (87600, 57)\n",
      "This is training run 6 and has the shape:  (87600, 57)\n",
      "The value of dropped columns is 40\n"
     ]
    },
    {
     "name": "stderr",
     "output_type": "stream",
     "text": [
      "/Users/alexellard/opt/anaconda3/lib/python3.7/site-packages/xgboost/data.py:96: UserWarning: Use subset (sliced data) of np.ndarray is not recommended because it will generate extra copies and increase memory consumption\n",
      "  \"because it will generate extra copies and increase \" +\n"
     ]
    },
    {
     "name": "stdout",
     "output_type": "stream",
     "text": [
      "test y shape : (17520, 1)\n",
      "Inv y shape : (17520, 57)\n",
      "y pred shape : (17520, 1)\n",
      "inv y pred : (17520, 57)\n",
      "Run 6 Mean Absolute Error: 5.560406838886949\n",
      "RMSE: 7.125\n",
      "R^2: 0.992\n",
      "[['node_3_demand', 'link_27_flow', 'node_12_pressure', 'node_29_pressure', 'node_9_demand', 'link_19_flow', 'link_11_flow', 'node_14_pressure', 'node_20_demand', 'link_7_flow', 'node_13_pressure', 'link_22_flow', 'link_31_flow', 'link_8_flow', 'node_11_demand', 'link_28_flow', 'link_32_flow', 'node_1_pressure', 'node_25_pressure', 'link_24_flow', 'node_11_pressure', 'node_15_pressure', 'node_10_demand', 'link_2_flow', 'link_3_flow', 'node_4_pressure', 'link_5_flow', 'node_7_pressure', 'node_6_demand', 'node_19_demand', 'node_8_demand', 'node_6_pressure', 'link_20_flow', 'node_22_demand', 'node_23_pressure', 'node_27_demand', 'node_24_demand', 'node_1_demand', 'node_30_demand']]\n",
      "starting df shape: (87600, 57)\n",
      "This is training run 7 and has the shape:  (87600, 57)\n",
      "The value of dropped columns is 40\n"
     ]
    },
    {
     "name": "stderr",
     "output_type": "stream",
     "text": [
      "/Users/alexellard/opt/anaconda3/lib/python3.7/site-packages/xgboost/data.py:96: UserWarning: Use subset (sliced data) of np.ndarray is not recommended because it will generate extra copies and increase memory consumption\n",
      "  \"because it will generate extra copies and increase \" +\n"
     ]
    },
    {
     "name": "stdout",
     "output_type": "stream",
     "text": [
      "test y shape : (17520, 1)\n",
      "Inv y shape : (17520, 57)\n",
      "y pred shape : (17520, 1)\n",
      "inv y pred : (17520, 57)\n",
      "Run 7 Mean Absolute Error: 86.41181357907104\n",
      "RMSE: 111.341\n",
      "R^2: 0.994\n",
      "[['link_11_flow', 'reservoir_demand', 'link_8_flow', 'node_17_pressure', 'link_23_flow', 'link_4_flow', 'link_26_flow', 'node_17_demand', 'link_12_flow', 'node_6_demand', 'node_18_demand', 'node_3_demand', 'link_3_flow', 'link_2_flow', 'link_7_flow', 'node_23_pressure', 'link_9_flow', 'node_21_pressure', 'node_13_demand', 'node_4_pressure', 'node_14_pressure', 'link_18_flow', 'node_5_pressure', 'node_19_demand', 'node_15_pressure', 'node_2_demand', 'node_9_pressure', 'node_11_demand', 'node_7_pressure', 'node_8_pressure', 'link_5_flow', 'node_3_pressure', 'node_24_pressure', 'link_19_flow', 'node_22_demand', 'node_24_demand', 'node_10_demand', 'node_15_demand', 'link_6_flow', 'node_20_pressure']]\n",
      "starting df shape: (87600, 56)\n",
      "This is training run 8 and has the shape:  (87600, 56)\n",
      "The value of dropped columns is 40\n"
     ]
    },
    {
     "name": "stderr",
     "output_type": "stream",
     "text": [
      "/Users/alexellard/opt/anaconda3/lib/python3.7/site-packages/xgboost/data.py:96: UserWarning: Use subset (sliced data) of np.ndarray is not recommended because it will generate extra copies and increase memory consumption\n",
      "  \"because it will generate extra copies and increase \" +\n"
     ]
    },
    {
     "name": "stdout",
     "output_type": "stream",
     "text": [
      "test y shape : (17520, 1)\n",
      "Inv y shape : (17520, 56)\n",
      "y pred shape : (17520, 1)\n",
      "inv y pred : (17520, 56)\n",
      "Run 8 Mean Absolute Error: 4.76722463142382\n",
      "RMSE: 6.152\n",
      "R^2: 0.995\n",
      "[['node_8_demand', 'node_4_pressure', 'node_30_demand', 'node_5_pressure', 'link_1_flow', 'node_17_demand', 'link_28_flow', 'node_3_demand', 'node_24_demand', 'link_24_flow', 'node_25_demand', 'link_5_flow', 'node_3_pressure', 'node_24_pressure', 'node_6_demand', 'node_16_pressure', 'link_30_flow', 'node_30_pressure', 'link_19_flow', 'link_20_flow', 'node_10_pressure', 'node_11_pressure', 'node_11_demand', 'node_18_pressure', 'node_15_demand', 'node_19_pressure', 'link_15_flow', 'node_8_pressure', 'node_18_demand', 'link_3_flow', 'node_7_demand', 'link_13_flow', 'node_22_pressure', 'node_20_pressure', 'node_13_demand', 'node_31_demand', 'node_23_demand', 'node_26_pressure', 'link_18_flow', 'link_2_flow']]\n",
      "starting df shape: (87600, 56)\n",
      "This is training run 9 and has the shape:  (87600, 56)\n",
      "The value of dropped columns is 40\n"
     ]
    },
    {
     "name": "stderr",
     "output_type": "stream",
     "text": [
      "/Users/alexellard/opt/anaconda3/lib/python3.7/site-packages/xgboost/data.py:96: UserWarning: Use subset (sliced data) of np.ndarray is not recommended because it will generate extra copies and increase memory consumption\n",
      "  \"because it will generate extra copies and increase \" +\n"
     ]
    },
    {
     "name": "stdout",
     "output_type": "stream",
     "text": [
      "test y shape : (17520, 1)\n",
      "Inv y shape : (17520, 56)\n",
      "y pred shape : (17520, 1)\n",
      "inv y pred : (17520, 56)\n",
      "Run 9 Mean Absolute Error: 88.93313775564297\n",
      "RMSE: 113.223\n",
      "R^2: 0.994\n",
      "[['node_28_pressure', 'node_30_demand', 'node_7_pressure', 'node_24_demand', 'node_13_demand', 'link_24_flow', 'reservoir_pressure', 'node_21_demand', 'node_17_demand', 'link_23_flow', 'link_19_flow', 'node_15_demand', 'node_25_demand', 'node_25_pressure', 'link_2_flow', 'node_10_demand', 'node_4_pressure', 'node_16_pressure', 'reservoir_demand', 'node_24_pressure', 'node_31_pressure', 'link_16_flow', 'node_17_pressure', 'node_3_pressure', 'node_20_demand', 'node_11_demand', 'link_20_flow', 'link_6_flow', 'node_20_pressure', 'node_3_demand', 'node_7_demand', 'node_26_demand', 'link_5_flow', 'node_27_demand', 'link_13_flow', 'node_16_demand', 'node_18_pressure', 'node_22_demand', 'node_6_pressure', 'link_31_flow']]\n",
      "starting df shape: (87600, 56)\n",
      "This is training run 10 and has the shape:  (87600, 56)\n",
      "The value of dropped columns is 40\n"
     ]
    },
    {
     "name": "stderr",
     "output_type": "stream",
     "text": [
      "/Users/alexellard/opt/anaconda3/lib/python3.7/site-packages/xgboost/data.py:96: UserWarning: Use subset (sliced data) of np.ndarray is not recommended because it will generate extra copies and increase memory consumption\n",
      "  \"because it will generate extra copies and increase \" +\n"
     ]
    },
    {
     "name": "stdout",
     "output_type": "stream",
     "text": [
      "test y shape : (17520, 1)\n",
      "Inv y shape : (17520, 56)\n",
      "y pred shape : (17520, 1)\n",
      "inv y pred : (17520, 56)\n",
      "Run 10 Mean Absolute Error: 5.071705332594376\n",
      "RMSE: 6.484\n",
      "R^2: 0.995\n",
      "[['node_16_pressure', 'link_13_flow', 'reservoir_pressure', 'node_9_pressure', 'node_17_pressure', 'node_11_demand', 'link_24_flow', 'node_19_demand', 'link_10_flow', 'node_7_demand', 'node_14_pressure', 'node_1_pressure', 'link_1_flow', 'link_23_flow', 'node_23_pressure', 'link_5_flow', 'link_32_flow', 'link_28_flow', 'node_4_demand', 'node_5_pressure', 'node_21_demand', 'node_15_pressure', 'node_8_pressure', 'node_3_demand', 'node_14_demand', 'link_16_flow', 'node_17_demand', 'node_26_pressure', 'node_29_pressure', 'link_7_flow', 'link_27_flow', 'node_25_demand', 'node_28_pressure', 'node_12_pressure', 'link_21_flow', 'node_29_demand', 'node_10_pressure', 'node_10_demand', 'link_19_flow', 'link_2_flow', 'node_8_demand', 'node_27_demand', 'node_19_pressure', 'node_31_pressure']]\n",
      "starting df shape: (87600, 52)\n",
      "This is training run 1 and has the shape:  (87600, 52)\n",
      "The value of dropped columns is 45\n"
     ]
    },
    {
     "name": "stderr",
     "output_type": "stream",
     "text": [
      "/Users/alexellard/opt/anaconda3/lib/python3.7/site-packages/xgboost/data.py:96: UserWarning: Use subset (sliced data) of np.ndarray is not recommended because it will generate extra copies and increase memory consumption\n",
      "  \"because it will generate extra copies and increase \" +\n"
     ]
    },
    {
     "name": "stdout",
     "output_type": "stream",
     "text": [
      "test y shape : (17520, 1)\n",
      "Inv y shape : (17520, 52)\n",
      "y pred shape : (17520, 1)\n",
      "inv y pred : (17520, 52)\n",
      "Run 1 Mean Absolute Error: 114.79553516294038\n",
      "RMSE: 149.860\n",
      "R^2: 0.990\n",
      "[['node_29_demand', 'link_5_flow', 'link_8_flow', 'link_21_flow', 'node_28_pressure', 'link_19_flow', 'node_9_demand', 'node_25_pressure', 'node_16_pressure', 'link_30_flow', 'node_20_demand', 'node_25_demand', 'link_11_flow', 'link_6_flow', 'node_31_pressure', 'reservoir_pressure', 'node_11_demand', 'node_3_demand', 'node_19_pressure', 'link_13_flow', 'node_12_pressure', 'node_4_pressure', 'node_14_demand', 'node_17_pressure', 'node_13_demand', 'node_21_pressure', 'node_23_demand', 'link_28_flow', 'node_2_pressure', 'link_23_flow', 'reservoir_demand', 'link_16_flow', 'link_15_flow', 'link_4_flow', 'node_29_pressure', 'node_9_pressure', 'node_30_demand', 'node_6_pressure', 'node_24_pressure', 'node_3_pressure', 'node_18_demand', 'link_24_flow', 'node_26_demand', 'node_28_demand', 'link_27_flow']]\n",
      "starting df shape: (87600, 51)\n",
      "This is training run 2 and has the shape:  (87600, 51)\n",
      "The value of dropped columns is 45\n"
     ]
    },
    {
     "name": "stderr",
     "output_type": "stream",
     "text": [
      "/Users/alexellard/opt/anaconda3/lib/python3.7/site-packages/xgboost/data.py:96: UserWarning: Use subset (sliced data) of np.ndarray is not recommended because it will generate extra copies and increase memory consumption\n",
      "  \"because it will generate extra copies and increase \" +\n"
     ]
    },
    {
     "name": "stdout",
     "output_type": "stream",
     "text": [
      "test y shape : (17520, 1)\n",
      "Inv y shape : (17520, 51)\n",
      "y pred shape : (17520, 1)\n",
      "inv y pred : (17520, 51)\n",
      "Run 2 Mean Absolute Error: 9.775054141715781\n",
      "RMSE: 12.762\n",
      "R^2: 0.980\n",
      "[['link_14_flow', 'node_19_demand', 'link_31_flow', 'link_3_flow', 'node_18_demand', 'node_16_pressure', 'node_23_pressure', 'link_26_flow', 'link_21_flow', 'link_22_flow', 'reservoir_demand', 'node_20_pressure', 'node_28_demand', 'node_4_pressure', 'node_4_demand', 'node_2_demand', 'node_2_pressure', 'link_1_flow', 'node_13_pressure', 'link_27_flow', 'link_12_flow', 'node_25_pressure', 'node_29_pressure', 'node_14_pressure', 'link_17_flow', 'link_25_flow', 'link_32_flow', 'link_13_flow', 'link_10_flow', 'node_24_demand', 'node_15_pressure', 'link_24_flow', 'link_7_flow', 'link_11_flow', 'node_12_demand', 'node_1_pressure', 'node_7_pressure', 'node_1_demand', 'node_6_demand', 'node_15_demand', 'node_9_pressure', 'node_13_demand', 'node_17_pressure', 'node_3_demand', 'link_18_flow']]\n",
      "starting df shape: (87600, 51)\n",
      "This is training run 3 and has the shape:  (87600, 51)\n",
      "The value of dropped columns is 45\n"
     ]
    },
    {
     "name": "stderr",
     "output_type": "stream",
     "text": [
      "/Users/alexellard/opt/anaconda3/lib/python3.7/site-packages/xgboost/data.py:96: UserWarning: Use subset (sliced data) of np.ndarray is not recommended because it will generate extra copies and increase memory consumption\n",
      "  \"because it will generate extra copies and increase \" +\n"
     ]
    },
    {
     "name": "stdout",
     "output_type": "stream",
     "text": [
      "test y shape : (17520, 1)\n",
      "Inv y shape : (17520, 51)\n",
      "y pred shape : (17520, 1)\n",
      "inv y pred : (17520, 51)\n",
      "Run 3 Mean Absolute Error: 6.03916534999217\n",
      "RMSE: 7.846\n",
      "R^2: 0.992\n",
      "[['link_19_flow', 'node_8_pressure', 'node_31_demand', 'node_1_demand', 'link_17_flow', 'link_9_flow', 'node_16_pressure', 'link_21_flow', 'node_25_demand', 'node_12_pressure', 'link_13_flow', 'node_18_pressure', 'node_19_demand', 'reservoir_pressure', 'link_5_flow', 'node_17_pressure', 'link_14_flow', 'node_9_demand', 'link_11_flow', 'node_21_pressure', 'node_29_demand', 'node_14_pressure', 'node_13_demand', 'node_6_pressure', 'node_17_demand', 'node_2_demand', 'link_18_flow', 'link_28_flow', 'link_4_flow', 'link_10_flow', 'node_10_demand', 'node_19_pressure', 'link_3_flow', 'link_15_flow', 'node_26_pressure', 'node_22_demand', 'node_8_demand', 'node_22_pressure', 'link_7_flow', 'node_1_pressure', 'node_24_pressure', 'link_16_flow', 'node_29_pressure', 'link_1_flow']]\n",
      "starting df shape: (87600, 52)\n",
      "This is training run 4 and has the shape:  (87600, 52)\n",
      "The value of dropped columns is 45\n"
     ]
    },
    {
     "name": "stderr",
     "output_type": "stream",
     "text": [
      "/Users/alexellard/opt/anaconda3/lib/python3.7/site-packages/xgboost/data.py:96: UserWarning: Use subset (sliced data) of np.ndarray is not recommended because it will generate extra copies and increase memory consumption\n",
      "  \"because it will generate extra copies and increase \" +\n"
     ]
    },
    {
     "name": "stdout",
     "output_type": "stream",
     "text": [
      "test y shape : (17520, 1)\n",
      "Inv y shape : (17520, 52)\n",
      "y pred shape : (17520, 1)\n",
      "inv y pred : (17520, 52)\n",
      "Run 4 Mean Absolute Error: 105.27612174935942\n",
      "RMSE: 137.982\n",
      "R^2: 0.991\n",
      "[['link_13_flow', 'link_27_flow', 'reservoir_pressure', 'node_5_pressure', 'node_16_demand', 'reservoir_demand', 'node_24_pressure', 'node_18_pressure', 'node_5_demand', 'link_10_flow', 'node_10_pressure', 'node_27_demand', 'node_27_pressure', 'node_17_pressure', 'node_22_demand', 'node_9_pressure', 'node_19_pressure', 'link_1_flow', 'link_24_flow', 'node_31_demand', 'node_2_demand', 'link_17_flow', 'node_12_pressure', 'link_25_flow', 'node_29_pressure', 'link_28_flow', 'link_4_flow', 'link_20_flow', 'node_4_pressure', 'node_1_pressure', 'node_21_pressure', 'node_11_pressure', 'node_13_demand', 'node_28_demand', 'node_21_demand', 'node_9_demand', 'node_11_demand', 'node_31_pressure', 'link_5_flow', 'node_3_demand', 'node_12_demand', 'link_14_flow', 'node_16_pressure', 'node_14_demand', 'node_8_pressure']]\n",
      "starting df shape: (87600, 51)\n",
      "This is training run 5 and has the shape:  (87600, 51)\n",
      "The value of dropped columns is 45\n"
     ]
    },
    {
     "name": "stderr",
     "output_type": "stream",
     "text": [
      "/Users/alexellard/opt/anaconda3/lib/python3.7/site-packages/xgboost/data.py:96: UserWarning: Use subset (sliced data) of np.ndarray is not recommended because it will generate extra copies and increase memory consumption\n",
      "  \"because it will generate extra copies and increase \" +\n"
     ]
    },
    {
     "name": "stdout",
     "output_type": "stream",
     "text": [
      "test y shape : (17520, 1)\n",
      "Inv y shape : (17520, 51)\n",
      "y pred shape : (17520, 1)\n",
      "inv y pred : (17520, 51)\n",
      "Run 5 Mean Absolute Error: 6.2577195883654575\n",
      "RMSE: 8.186\n",
      "R^2: 0.992\n",
      "[['node_1_demand', 'node_19_demand', 'link_20_flow', 'node_3_pressure', 'node_5_demand', 'node_12_demand', 'node_31_demand', 'link_17_flow', 'node_26_pressure', 'node_18_demand', 'node_25_demand', 'link_7_flow', 'link_6_flow', 'node_6_pressure', 'node_25_pressure', 'node_5_pressure', 'node_16_pressure', 'node_28_demand', 'node_20_demand', 'node_17_pressure', 'node_12_pressure', 'node_24_demand', 'node_8_pressure', 'link_16_flow', 'node_2_pressure', 'node_26_demand', 'node_23_demand', 'node_22_pressure', 'node_11_pressure', 'node_22_demand', 'node_7_pressure', 'link_13_flow', 'link_10_flow', 'node_28_pressure', 'node_1_pressure', 'node_7_demand', 'link_19_flow', 'node_9_pressure', 'node_13_pressure', 'reservoir_pressure', 'node_23_pressure', 'node_13_demand', 'node_27_pressure', 'link_1_flow']]\n",
      "starting df shape: (87600, 52)\n",
      "This is training run 6 and has the shape:  (87600, 52)\n",
      "The value of dropped columns is 45\n"
     ]
    },
    {
     "name": "stderr",
     "output_type": "stream",
     "text": [
      "/Users/alexellard/opt/anaconda3/lib/python3.7/site-packages/xgboost/data.py:96: UserWarning: Use subset (sliced data) of np.ndarray is not recommended because it will generate extra copies and increase memory consumption\n",
      "  \"because it will generate extra copies and increase \" +\n"
     ]
    },
    {
     "name": "stdout",
     "output_type": "stream",
     "text": [
      "test y shape : (17520, 1)\n",
      "Inv y shape : (17520, 52)\n",
      "y pred shape : (17520, 1)\n",
      "inv y pred : (17520, 52)\n",
      "Run 6 Mean Absolute Error: 98.95081591593481\n",
      "RMSE: 128.141\n",
      "R^2: 0.992\n",
      "[['node_31_demand', 'node_3_demand', 'link_9_flow', 'node_5_demand', 'node_24_pressure', 'node_2_pressure', 'node_4_pressure', 'link_4_flow', 'node_12_demand', 'node_15_demand', 'link_31_flow', 'link_12_flow', 'node_13_pressure', 'node_27_demand', 'node_19_demand', 'node_28_pressure', 'node_8_demand', 'node_14_pressure', 'link_15_flow', 'node_23_demand', 'link_3_flow', 'node_1_demand', 'link_6_flow', 'link_11_flow', 'node_9_pressure', 'node_29_demand', 'node_6_pressure', 'node_2_demand', 'node_29_pressure', 'link_1_flow', 'node_21_demand', 'link_13_flow', 'node_16_pressure', 'link_23_flow', 'link_17_flow', 'node_11_pressure', 'link_8_flow', 'node_18_demand', 'node_25_pressure', 'node_4_demand', 'node_12_pressure', 'link_5_flow', 'node_3_pressure', 'link_18_flow']]\n",
      "starting df shape: (87600, 52)\n",
      "This is training run 7 and has the shape:  (87600, 52)\n",
      "The value of dropped columns is 45\n"
     ]
    },
    {
     "name": "stderr",
     "output_type": "stream",
     "text": [
      "/Users/alexellard/opt/anaconda3/lib/python3.7/site-packages/xgboost/data.py:96: UserWarning: Use subset (sliced data) of np.ndarray is not recommended because it will generate extra copies and increase memory consumption\n",
      "  \"because it will generate extra copies and increase \" +\n"
     ]
    },
    {
     "name": "stdout",
     "output_type": "stream",
     "text": [
      "test y shape : (17520, 1)\n",
      "Inv y shape : (17520, 52)\n",
      "y pred shape : (17520, 1)\n",
      "inv y pred : (17520, 52)\n",
      "Run 7 Mean Absolute Error: 95.36189976392541\n",
      "RMSE: 122.297\n",
      "R^2: 0.993\n",
      "[['node_31_pressure', 'link_14_flow', 'link_12_flow', 'node_21_demand', 'link_21_flow', 'node_26_pressure', 'link_27_flow', 'link_25_flow', 'node_17_demand', 'node_22_pressure', 'node_21_pressure', 'node_8_pressure', 'node_30_pressure', 'node_2_demand', 'link_32_flow', 'node_28_demand', 'node_16_demand', 'link_4_flow', 'link_30_flow', 'link_31_flow', 'node_4_demand', 'node_5_pressure', 'node_29_pressure', 'node_5_demand', 'node_23_demand', 'node_7_demand', 'link_28_flow', 'node_6_pressure', 'node_7_pressure', 'link_22_flow', 'node_15_pressure', 'node_17_pressure', 'node_19_demand', 'link_13_flow', 'node_20_pressure', 'node_14_pressure', 'node_1_pressure', 'link_7_flow', 'node_31_demand', 'node_4_pressure', 'node_3_pressure', 'node_20_demand', 'link_3_flow', 'node_25_pressure', 'node_18_demand']]\n",
      "starting df shape: (87600, 51)\n",
      "This is training run 8 and has the shape:  (87600, 51)\n",
      "The value of dropped columns is 45\n"
     ]
    },
    {
     "name": "stderr",
     "output_type": "stream",
     "text": [
      "/Users/alexellard/opt/anaconda3/lib/python3.7/site-packages/xgboost/data.py:96: UserWarning: Use subset (sliced data) of np.ndarray is not recommended because it will generate extra copies and increase memory consumption\n",
      "  \"because it will generate extra copies and increase \" +\n"
     ]
    },
    {
     "name": "stdout",
     "output_type": "stream",
     "text": [
      "test y shape : (17520, 1)\n",
      "Inv y shape : (17520, 51)\n",
      "y pred shape : (17520, 1)\n",
      "inv y pred : (17520, 51)\n",
      "Run 8 Mean Absolute Error: 169.25613518422185\n",
      "RMSE: 221.417\n",
      "R^2: 0.977\n",
      "[['node_10_pressure', 'node_1_pressure', 'node_21_demand', 'node_5_pressure', 'node_31_demand', 'node_30_demand', 'link_32_flow', 'link_18_flow', 'node_26_pressure', 'link_10_flow', 'node_11_demand', 'node_7_pressure', 'node_25_demand', 'node_20_demand', 'node_4_pressure', 'node_15_pressure', 'link_14_flow', 'link_23_flow', 'link_9_flow', 'link_11_flow', 'node_22_demand', 'node_24_demand', 'link_5_flow', 'node_7_demand', 'node_29_demand', 'reservoir_pressure', 'node_8_pressure', 'link_25_flow', 'node_2_demand', 'node_24_pressure', 'node_4_demand', 'node_28_pressure', 'node_1_demand', 'node_17_pressure', 'node_6_demand', 'link_6_flow', 'node_8_demand', 'node_19_pressure', 'node_17_demand', 'link_20_flow', 'node_30_pressure', 'link_16_flow', 'node_3_demand', 'node_2_pressure']]\n",
      "starting df shape: (87600, 52)\n",
      "This is training run 9 and has the shape:  (87600, 52)\n",
      "The value of dropped columns is 45\n"
     ]
    },
    {
     "name": "stderr",
     "output_type": "stream",
     "text": [
      "/Users/alexellard/opt/anaconda3/lib/python3.7/site-packages/xgboost/data.py:96: UserWarning: Use subset (sliced data) of np.ndarray is not recommended because it will generate extra copies and increase memory consumption\n",
      "  \"because it will generate extra copies and increase \" +\n"
     ]
    },
    {
     "name": "stdout",
     "output_type": "stream",
     "text": [
      "test y shape : (17520, 1)\n",
      "Inv y shape : (17520, 52)\n",
      "y pred shape : (17520, 1)\n",
      "inv y pred : (17520, 52)\n",
      "Run 9 Mean Absolute Error: 98.99468958321496\n",
      "RMSE: 127.496\n",
      "R^2: 0.992\n",
      "[['link_17_flow', 'node_15_demand', 'node_23_demand', 'node_29_pressure', 'link_10_flow', 'node_11_demand', 'node_7_pressure', 'node_1_demand', 'node_21_demand', 'node_30_demand', 'link_5_flow', 'link_1_flow', 'node_6_pressure', 'link_28_flow', 'node_19_pressure', 'node_25_demand', 'node_12_pressure', 'node_23_pressure', 'node_31_demand', 'node_14_pressure', 'link_19_flow', 'node_22_demand', 'node_18_demand', 'node_27_pressure', 'node_31_pressure', 'node_22_pressure', 'node_4_demand', 'link_27_flow', 'node_19_demand', 'node_5_pressure', 'node_29_demand', 'link_4_flow', 'node_9_demand', 'link_22_flow', 'node_4_pressure', 'node_16_pressure', 'node_17_pressure', 'link_20_flow', 'node_25_pressure', 'link_21_flow', 'reservoir_pressure', 'node_15_pressure', 'node_12_demand', 'node_26_demand']]\n",
      "starting df shape: (87600, 52)\n",
      "This is training run 10 and has the shape:  (87600, 52)\n",
      "The value of dropped columns is 45\n"
     ]
    },
    {
     "name": "stderr",
     "output_type": "stream",
     "text": [
      "/Users/alexellard/opt/anaconda3/lib/python3.7/site-packages/xgboost/data.py:96: UserWarning: Use subset (sliced data) of np.ndarray is not recommended because it will generate extra copies and increase memory consumption\n",
      "  \"because it will generate extra copies and increase \" +\n"
     ]
    },
    {
     "name": "stdout",
     "output_type": "stream",
     "text": [
      "test y shape : (17520, 1)\n",
      "Inv y shape : (17520, 52)\n",
      "y pred shape : (17520, 1)\n",
      "inv y pred : (17520, 52)\n",
      "Run 10 Mean Absolute Error: 101.33492491299563\n",
      "RMSE: 130.192\n",
      "R^2: 0.992\n",
      "[['node_14_pressure', 'node_14_demand', 'node_7_pressure', 'node_24_pressure', 'node_28_pressure', 'node_6_pressure', 'node_19_demand', 'link_8_flow', 'reservoir_demand', 'link_19_flow', 'node_1_pressure', 'node_23_pressure', 'link_6_flow', 'link_23_flow', 'node_19_pressure', 'node_11_pressure', 'link_24_flow', 'link_20_flow', 'link_21_flow', 'link_18_flow', 'node_1_demand', 'node_2_demand', 'node_3_pressure', 'link_22_flow', 'node_16_demand', 'node_29_demand', 'link_9_flow', 'node_27_demand', 'node_26_pressure', 'node_9_pressure', 'link_25_flow', 'link_10_flow', 'link_16_flow', 'node_27_pressure', 'node_8_pressure', 'node_13_pressure', 'link_5_flow', 'node_12_pressure', 'node_22_pressure', 'link_28_flow', 'node_2_pressure', 'link_26_flow', 'link_7_flow', 'node_25_demand', 'link_13_flow', 'node_3_demand', 'node_16_pressure', 'node_18_demand', 'node_15_demand', 'node_18_pressure']]\n",
      "starting df shape: (87600, 46)\n",
      "This is training run 1 and has the shape:  (87600, 46)\n",
      "The value of dropped columns is 50\n"
     ]
    },
    {
     "name": "stderr",
     "output_type": "stream",
     "text": [
      "/Users/alexellard/opt/anaconda3/lib/python3.7/site-packages/xgboost/data.py:96: UserWarning: Use subset (sliced data) of np.ndarray is not recommended because it will generate extra copies and increase memory consumption\n",
      "  \"because it will generate extra copies and increase \" +\n"
     ]
    },
    {
     "name": "stdout",
     "output_type": "stream",
     "text": [
      "test y shape : (17520, 1)\n",
      "Inv y shape : (17520, 46)\n",
      "y pred shape : (17520, 1)\n",
      "inv y pred : (17520, 46)\n",
      "Run 1 Mean Absolute Error: 5.099398941767133\n",
      "RMSE: 6.653\n",
      "R^2: 0.990\n",
      "[['node_8_pressure', 'link_28_flow', 'link_31_flow', 'node_29_pressure', 'node_25_pressure', 'node_25_demand', 'link_13_flow', 'node_3_pressure', 'node_24_pressure', 'link_9_flow', 'node_11_demand', 'link_24_flow', 'link_11_flow', 'node_12_pressure', 'link_32_flow', 'node_30_pressure', 'node_10_pressure', 'node_19_pressure', 'node_4_demand', 'link_17_flow', 'node_11_pressure', 'node_8_demand', 'link_10_flow', 'node_27_pressure', 'link_26_flow', 'node_27_demand', 'node_9_pressure', 'node_6_demand', 'node_2_demand', 'link_8_flow', 'link_18_flow', 'link_30_flow', 'link_23_flow', 'reservoir_demand', 'node_1_pressure', 'link_7_flow', 'node_19_demand', 'node_4_pressure', 'node_23_demand', 'node_23_pressure', 'link_15_flow', 'node_28_demand', 'node_13_demand', 'node_31_demand', 'node_13_pressure', 'node_12_demand', 'node_15_pressure', 'node_30_demand', 'node_6_pressure', 'node_5_pressure']]\n",
      "starting df shape: (87600, 46)\n",
      "This is training run 2 and has the shape:  (87600, 46)\n",
      "The value of dropped columns is 50\n"
     ]
    },
    {
     "name": "stderr",
     "output_type": "stream",
     "text": [
      "/Users/alexellard/opt/anaconda3/lib/python3.7/site-packages/xgboost/data.py:96: UserWarning: Use subset (sliced data) of np.ndarray is not recommended because it will generate extra copies and increase memory consumption\n",
      "  \"because it will generate extra copies and increase \" +\n"
     ]
    },
    {
     "name": "stdout",
     "output_type": "stream",
     "text": [
      "test y shape : (17520, 1)\n",
      "Inv y shape : (17520, 46)\n",
      "y pred shape : (17520, 1)\n",
      "inv y pred : (17520, 46)\n",
      "Run 2 Mean Absolute Error: 9.64413799322223\n",
      "RMSE: 12.568\n",
      "R^2: 0.980\n",
      "[['link_1_flow', 'link_21_flow', 'node_6_demand', 'link_10_flow', 'link_18_flow', 'node_2_demand', 'node_7_pressure', 'node_19_demand', 'node_11_demand', 'link_28_flow', 'node_5_pressure', 'link_2_flow', 'node_28_pressure', 'node_29_demand', 'node_28_demand', 'link_25_flow', 'node_27_pressure', 'node_26_pressure', 'node_6_pressure', 'link_8_flow', 'link_3_flow', 'node_22_demand', 'node_24_demand', 'link_24_flow', 'node_1_pressure', 'node_17_pressure', 'node_18_demand', 'link_22_flow', 'node_17_demand', 'node_13_demand', 'link_27_flow', 'reservoir_pressure', 'node_14_pressure', 'link_20_flow', 'link_16_flow', 'node_23_pressure', 'node_31_demand', 'node_2_pressure', 'node_8_pressure', 'link_17_flow', 'node_11_pressure', 'node_12_demand', 'node_4_pressure', 'node_19_pressure', 'node_31_pressure', 'link_31_flow', 'node_9_pressure', 'node_26_demand', 'node_25_demand', 'node_10_pressure']]\n",
      "starting df shape: (87600, 46)\n",
      "This is training run 3 and has the shape:  (87600, 46)\n",
      "The value of dropped columns is 50\n"
     ]
    },
    {
     "name": "stderr",
     "output_type": "stream",
     "text": [
      "/Users/alexellard/opt/anaconda3/lib/python3.7/site-packages/xgboost/data.py:96: UserWarning: Use subset (sliced data) of np.ndarray is not recommended because it will generate extra copies and increase memory consumption\n",
      "  \"because it will generate extra copies and increase \" +\n"
     ]
    },
    {
     "name": "stdout",
     "output_type": "stream",
     "text": [
      "test y shape : (17520, 1)\n",
      "Inv y shape : (17520, 46)\n",
      "y pred shape : (17520, 1)\n",
      "inv y pred : (17520, 46)\n",
      "Run 3 Mean Absolute Error: 158.91270372123748\n",
      "RMSE: 207.633\n",
      "R^2: 0.980\n",
      "[['node_18_pressure', 'link_18_flow', 'node_26_pressure', 'node_26_demand', 'node_20_pressure', 'link_22_flow', 'node_21_demand', 'node_17_pressure', 'link_31_flow', 'node_28_demand', 'link_8_flow', 'link_20_flow', 'link_15_flow', 'link_16_flow', 'node_31_demand', 'node_11_demand', 'node_30_demand', 'node_9_demand', 'node_7_pressure', 'node_8_demand', 'node_27_demand', 'link_9_flow', 'node_15_pressure', 'link_13_flow', 'node_2_demand', 'node_5_demand', 'node_29_pressure', 'node_28_pressure', 'link_1_flow', 'link_10_flow', 'link_3_flow', 'link_17_flow', 'link_4_flow', 'node_6_pressure', 'node_1_pressure', 'node_10_demand', 'node_23_demand', 'node_19_demand', 'node_20_demand', 'link_30_flow', 'node_23_pressure', 'node_14_demand', 'node_29_demand', 'node_4_demand', 'node_5_pressure', 'node_11_pressure', 'node_22_demand', 'node_24_demand', 'link_11_flow']]\n",
      "starting df shape: (87600, 47)\n",
      "This is training run 4 and has the shape:  (87600, 47)\n",
      "The value of dropped columns is 50\n"
     ]
    },
    {
     "name": "stderr",
     "output_type": "stream",
     "text": [
      "/Users/alexellard/opt/anaconda3/lib/python3.7/site-packages/xgboost/data.py:96: UserWarning: Use subset (sliced data) of np.ndarray is not recommended because it will generate extra copies and increase memory consumption\n",
      "  \"because it will generate extra copies and increase \" +\n"
     ]
    },
    {
     "name": "stdout",
     "output_type": "stream",
     "text": [
      "test y shape : (17520, 1)\n",
      "Inv y shape : (17520, 47)\n",
      "y pred shape : (17520, 1)\n",
      "inv y pred : (17520, 47)\n",
      "Run 4 Mean Absolute Error: 165.0271931298342\n",
      "RMSE: 219.544\n",
      "R^2: 0.978\n",
      "[['node_4_demand', 'link_4_flow', 'node_7_demand', 'node_6_pressure', 'link_2_flow', 'node_27_demand', 'link_12_flow', 'node_7_pressure', 'reservoir_pressure', 'link_16_flow', 'node_18_demand', 'node_12_pressure', 'node_15_demand', 'node_29_demand', 'node_27_pressure', 'link_6_flow', 'node_25_demand', 'link_18_flow', 'link_28_flow', 'link_27_flow', 'link_20_flow', 'node_10_demand', 'node_2_demand', 'link_21_flow', 'node_29_pressure', 'node_1_demand', 'node_24_pressure', 'link_9_flow', 'link_8_flow', 'node_31_pressure', 'node_5_demand', 'link_26_flow', 'node_3_demand', 'link_14_flow', 'node_12_demand', 'reservoir_demand', 'node_16_pressure', 'link_31_flow', 'node_11_demand', 'node_8_pressure', 'node_6_demand', 'node_17_pressure', 'link_1_flow', 'node_15_pressure', 'node_19_pressure', 'link_17_flow', 'node_22_demand', 'node_11_pressure', 'node_17_demand', 'link_32_flow']]\n",
      "starting df shape: (87600, 46)\n",
      "This is training run 5 and has the shape:  (87600, 46)\n",
      "The value of dropped columns is 50\n"
     ]
    },
    {
     "name": "stderr",
     "output_type": "stream",
     "text": [
      "/Users/alexellard/opt/anaconda3/lib/python3.7/site-packages/xgboost/data.py:96: UserWarning: Use subset (sliced data) of np.ndarray is not recommended because it will generate extra copies and increase memory consumption\n",
      "  \"because it will generate extra copies and increase \" +\n"
     ]
    },
    {
     "name": "stdout",
     "output_type": "stream",
     "text": [
      "test y shape : (17520, 1)\n",
      "Inv y shape : (17520, 46)\n",
      "y pred shape : (17520, 1)\n",
      "inv y pred : (17520, 46)\n",
      "Run 5 Mean Absolute Error: 3.5069150558171205\n",
      "RMSE: 4.569\n",
      "R^2: 0.990\n",
      "[['node_19_pressure', 'node_31_pressure', 'link_12_flow', 'link_9_flow', 'link_32_flow', 'node_1_pressure', 'node_8_demand', 'node_17_pressure', 'node_19_demand', 'node_25_pressure', 'node_29_demand', 'node_28_demand', 'node_4_demand', 'link_10_flow', 'node_20_pressure', 'node_9_demand', 'link_28_flow', 'link_22_flow', 'link_30_flow', 'node_24_pressure', 'node_13_demand', 'node_11_pressure', 'node_10_pressure', 'node_15_pressure', 'node_12_demand', 'node_6_pressure', 'link_1_flow', 'link_26_flow', 'link_5_flow', 'link_20_flow', 'node_10_demand', 'link_11_flow', 'node_5_pressure', 'node_26_pressure', 'node_7_demand', 'node_31_demand', 'node_3_pressure', 'link_16_flow', 'node_8_pressure', 'node_29_pressure', 'node_21_pressure', 'node_27_pressure', 'link_13_flow', 'reservoir_pressure', 'node_2_pressure', 'link_19_flow', 'node_6_demand', 'node_23_pressure', 'node_18_demand', 'reservoir_demand']]\n",
      "starting df shape: (87600, 46)\n",
      "This is training run 6 and has the shape:  (87600, 46)\n",
      "The value of dropped columns is 50\n"
     ]
    },
    {
     "name": "stderr",
     "output_type": "stream",
     "text": [
      "/Users/alexellard/opt/anaconda3/lib/python3.7/site-packages/xgboost/data.py:96: UserWarning: Use subset (sliced data) of np.ndarray is not recommended because it will generate extra copies and increase memory consumption\n",
      "  \"because it will generate extra copies and increase \" +\n"
     ]
    },
    {
     "name": "stdout",
     "output_type": "stream",
     "text": [
      "test y shape : (17520, 1)\n",
      "Inv y shape : (17520, 46)\n",
      "y pred shape : (17520, 1)\n",
      "inv y pred : (17520, 46)\n",
      "Run 6 Mean Absolute Error: 9.984952083405567\n",
      "RMSE: 13.013\n",
      "R^2: 0.979\n",
      "[['node_21_demand', 'link_14_flow', 'reservoir_pressure', 'link_4_flow', 'node_25_demand', 'node_6_demand', 'link_27_flow', 'link_16_flow', 'node_26_pressure', 'link_24_flow', 'node_31_pressure', 'node_1_demand', 'link_17_flow', 'link_25_flow', 'node_5_pressure', 'node_24_pressure', 'link_18_flow', 'link_13_flow', 'node_5_demand', 'node_29_demand', 'link_30_flow', 'node_30_demand', 'node_15_pressure', 'reservoir_demand', 'node_28_demand', 'node_15_demand', 'link_11_flow', 'node_19_pressure', 'node_31_demand', 'node_2_demand', 'node_17_demand', 'node_7_pressure', 'node_2_pressure', 'node_19_demand', 'link_7_flow', 'node_16_pressure', 'link_20_flow', 'link_31_flow', 'node_23_pressure', 'link_28_flow', 'node_24_demand', 'node_13_pressure', 'node_18_pressure', 'node_8_pressure', 'node_26_demand', 'node_22_demand', 'node_4_demand', 'link_9_flow', 'link_32_flow', 'link_15_flow']]\n",
      "starting df shape: (87600, 46)\n",
      "This is training run 7 and has the shape:  (87600, 46)\n",
      "The value of dropped columns is 50\n"
     ]
    },
    {
     "name": "stderr",
     "output_type": "stream",
     "text": [
      "/Users/alexellard/opt/anaconda3/lib/python3.7/site-packages/xgboost/data.py:96: UserWarning: Use subset (sliced data) of np.ndarray is not recommended because it will generate extra copies and increase memory consumption\n",
      "  \"because it will generate extra copies and increase \" +\n"
     ]
    },
    {
     "name": "stdout",
     "output_type": "stream",
     "text": [
      "test y shape : (17520, 1)\n",
      "Inv y shape : (17520, 46)\n",
      "y pred shape : (17520, 1)\n",
      "inv y pred : (17520, 46)\n",
      "Run 7 Mean Absolute Error: 1.558279369204828\n",
      "RMSE: 2.049\n",
      "R^2: 0.975\n",
      "[['node_31_demand', 'link_10_flow', 'node_7_demand', 'node_9_demand', 'link_7_flow', 'node_3_pressure', 'node_26_demand', 'node_7_pressure', 'node_29_demand', 'node_19_pressure', 'link_27_flow', 'link_30_flow', 'node_6_demand', 'node_20_demand', 'link_20_flow', 'node_22_demand', 'node_31_pressure', 'node_23_demand', 'node_11_demand', 'node_5_pressure', 'node_1_pressure', 'node_10_demand', 'link_2_flow', 'node_23_pressure', 'link_11_flow', 'link_21_flow', 'link_24_flow', 'link_5_flow', 'node_3_demand', 'link_6_flow', 'link_28_flow', 'link_14_flow', 'link_25_flow', 'node_16_demand', 'node_9_pressure', 'node_8_demand', 'node_25_pressure', 'node_15_pressure', 'node_6_pressure', 'node_2_pressure', 'link_8_flow', 'link_3_flow', 'link_19_flow', 'node_17_pressure', 'node_24_demand', 'node_24_pressure', 'node_10_pressure', 'node_26_pressure', 'link_16_flow']]\n",
      "starting df shape: (87600, 47)\n",
      "This is training run 8 and has the shape:  (87600, 47)\n",
      "The value of dropped columns is 50\n"
     ]
    },
    {
     "name": "stderr",
     "output_type": "stream",
     "text": [
      "/Users/alexellard/opt/anaconda3/lib/python3.7/site-packages/xgboost/data.py:96: UserWarning: Use subset (sliced data) of np.ndarray is not recommended because it will generate extra copies and increase memory consumption\n",
      "  \"because it will generate extra copies and increase \" +\n"
     ]
    },
    {
     "name": "stdout",
     "output_type": "stream",
     "text": [
      "test y shape : (17520, 1)\n",
      "Inv y shape : (17520, 47)\n",
      "y pred shape : (17520, 1)\n",
      "inv y pred : (17520, 47)\n",
      "Run 8 Mean Absolute Error: 105.27751797164542\n",
      "RMSE: 137.259\n",
      "R^2: 0.991\n",
      "[['node_21_demand', 'link_3_flow', 'node_23_pressure', 'node_2_pressure', 'node_13_demand', 'link_5_flow', 'node_25_demand', 'node_30_pressure', 'node_15_pressure', 'link_30_flow', 'node_1_pressure', 'node_5_demand', 'node_6_pressure', 'node_28_demand', 'link_7_flow', 'link_10_flow', 'node_17_demand', 'node_22_pressure', 'link_1_flow', 'link_32_flow', 'node_28_pressure', 'node_31_pressure', 'link_4_flow', 'node_29_demand', 'node_10_demand', 'node_6_demand', 'node_24_pressure', 'link_21_flow', 'link_17_flow', 'link_15_flow', 'node_23_demand', 'node_10_pressure', 'link_31_flow', 'node_9_pressure', 'node_12_demand', 'node_3_demand', 'node_1_demand', 'node_19_pressure', 'node_9_demand', 'link_25_flow', 'node_27_pressure', 'node_27_demand', 'node_4_pressure', 'link_22_flow', 'node_17_pressure', 'node_3_pressure', 'node_22_demand', 'node_4_demand', 'node_29_pressure']]\n",
      "starting df shape: (87600, 47)\n",
      "This is training run 9 and has the shape:  (87600, 47)\n",
      "The value of dropped columns is 50\n"
     ]
    },
    {
     "name": "stderr",
     "output_type": "stream",
     "text": [
      "/Users/alexellard/opt/anaconda3/lib/python3.7/site-packages/xgboost/data.py:96: UserWarning: Use subset (sliced data) of np.ndarray is not recommended because it will generate extra copies and increase memory consumption\n",
      "  \"because it will generate extra copies and increase \" +\n"
     ]
    },
    {
     "name": "stdout",
     "output_type": "stream",
     "text": [
      "test y shape : (17520, 1)\n",
      "Inv y shape : (17520, 47)\n",
      "y pred shape : (17520, 1)\n",
      "inv y pred : (17520, 47)\n",
      "Run 9 Mean Absolute Error: 161.29270751755934\n",
      "RMSE: 212.266\n",
      "R^2: 0.979\n",
      "[['link_25_flow', 'link_24_flow', 'node_16_demand', 'node_13_pressure', 'node_14_demand', 'node_30_demand', 'node_12_demand', 'link_13_flow', 'node_13_demand', 'node_6_demand', 'node_29_demand', 'link_16_flow', 'link_27_flow', 'node_2_pressure', 'node_4_pressure', 'node_1_demand', 'link_1_flow', 'link_19_flow', 'node_3_demand', 'node_24_demand', 'node_27_demand', 'node_28_pressure', 'node_17_demand', 'link_7_flow', 'link_12_flow', 'link_28_flow', 'node_27_pressure', 'node_20_pressure', 'node_14_pressure', 'link_15_flow', 'node_25_pressure', 'link_18_flow', 'node_9_pressure', 'link_3_flow', 'node_16_pressure', 'node_23_pressure', 'reservoir_demand', 'node_7_pressure', 'node_11_demand', 'node_20_demand', 'node_1_pressure', 'node_22_demand', 'node_11_pressure', 'node_31_demand', 'node_10_pressure', 'link_20_flow', 'node_29_pressure', 'node_19_pressure', 'node_17_pressure', 'link_30_flow']]\n",
      "starting df shape: (87600, 46)\n",
      "This is training run 10 and has the shape:  (87600, 46)\n",
      "The value of dropped columns is 50\n"
     ]
    },
    {
     "name": "stderr",
     "output_type": "stream",
     "text": [
      "/Users/alexellard/opt/anaconda3/lib/python3.7/site-packages/xgboost/data.py:96: UserWarning: Use subset (sliced data) of np.ndarray is not recommended because it will generate extra copies and increase memory consumption\n",
      "  \"because it will generate extra copies and increase \" +\n"
     ]
    },
    {
     "name": "stdout",
     "output_type": "stream",
     "text": [
      "test y shape : (17520, 1)\n",
      "Inv y shape : (17520, 46)\n",
      "y pred shape : (17520, 1)\n",
      "inv y pred : (17520, 46)\n",
      "Run 10 Mean Absolute Error: 6.164079573319791\n",
      "RMSE: 8.035\n",
      "R^2: 0.990\n",
      "[['node_10_pressure', 'link_21_flow', 'link_9_flow', 'link_17_flow', 'reservoir_pressure', 'link_3_flow', 'node_27_demand', 'link_11_flow', 'node_20_pressure', 'node_21_pressure', 'node_13_demand', 'node_16_pressure', 'node_5_demand', 'link_20_flow', 'node_20_demand', 'link_25_flow', 'node_2_demand', 'node_4_pressure', 'link_8_flow', 'link_16_flow', 'link_5_flow', 'node_9_demand', 'node_27_pressure', 'node_18_pressure', 'node_1_demand', 'node_26_pressure', 'node_17_demand', 'link_10_flow', 'node_7_pressure', 'link_23_flow', 'node_11_demand', 'node_31_demand', 'node_8_pressure', 'link_18_flow', 'link_12_flow', 'node_17_pressure', 'link_2_flow', 'node_12_demand', 'node_16_demand', 'node_7_demand', 'link_7_flow', 'link_32_flow', 'node_14_pressure', 'node_26_demand', 'node_21_demand', 'node_29_pressure', 'node_6_demand', 'link_22_flow', 'node_18_demand', 'node_10_demand', 'node_3_demand', 'node_9_pressure', 'node_19_pressure', 'node_22_pressure', 'link_28_flow']]\n",
      "starting df shape: (87600, 41)\n",
      "This is training run 1 and has the shape:  (87600, 41)\n",
      "The value of dropped columns is 55\n"
     ]
    },
    {
     "name": "stderr",
     "output_type": "stream",
     "text": [
      "/Users/alexellard/opt/anaconda3/lib/python3.7/site-packages/xgboost/data.py:96: UserWarning: Use subset (sliced data) of np.ndarray is not recommended because it will generate extra copies and increase memory consumption\n",
      "  \"because it will generate extra copies and increase \" +\n"
     ]
    },
    {
     "name": "stdout",
     "output_type": "stream",
     "text": [
      "test y shape : (17520, 1)\n",
      "Inv y shape : (17520, 41)\n",
      "y pred shape : (17520, 1)\n",
      "inv y pred : (17520, 41)\n",
      "Run 1 Mean Absolute Error: 95.15101032257077\n",
      "RMSE: 121.954\n",
      "R^2: 0.993\n",
      "[['link_12_flow', 'node_14_pressure', 'link_10_flow', 'node_18_demand', 'link_22_flow', 'node_20_demand', 'node_21_pressure', 'node_11_demand', 'node_16_pressure', 'node_28_pressure', 'node_4_pressure', 'link_8_flow', 'node_26_demand', 'node_30_pressure', 'node_9_pressure', 'link_18_flow', 'node_27_pressure', 'link_4_flow', 'node_6_pressure', 'link_20_flow', 'node_31_demand', 'node_14_demand', 'node_1_demand', 'node_5_demand', 'node_12_demand', 'node_15_pressure', 'node_3_demand', 'node_22_pressure', 'link_31_flow', 'node_23_pressure', 'link_19_flow', 'node_17_pressure', 'link_28_flow', 'node_29_pressure', 'link_5_flow', 'reservoir_pressure', 'node_11_pressure', 'link_14_flow', 'node_27_demand', 'link_16_flow', 'node_24_demand', 'node_6_demand', 'link_32_flow', 'link_25_flow', 'node_17_demand', 'node_8_demand', 'link_2_flow', 'link_15_flow', 'node_16_demand', 'node_24_pressure', 'link_27_flow', 'link_7_flow', 'link_9_flow', 'reservoir_demand']]\n",
      "starting df shape: (87600, 42)\n",
      "This is training run 2 and has the shape:  (87600, 42)\n",
      "The value of dropped columns is 55\n"
     ]
    },
    {
     "name": "stderr",
     "output_type": "stream",
     "text": [
      "/Users/alexellard/opt/anaconda3/lib/python3.7/site-packages/xgboost/data.py:96: UserWarning: Use subset (sliced data) of np.ndarray is not recommended because it will generate extra copies and increase memory consumption\n",
      "  \"because it will generate extra copies and increase \" +\n"
     ]
    },
    {
     "name": "stdout",
     "output_type": "stream",
     "text": [
      "test y shape : (17520, 1)\n",
      "Inv y shape : (17520, 42)\n",
      "y pred shape : (17520, 1)\n",
      "inv y pred : (17520, 42)\n",
      "Run 2 Mean Absolute Error: 5.093410306765609\n",
      "RMSE: 6.562\n",
      "R^2: 0.993\n",
      "[['node_4_demand', 'node_20_demand', 'node_16_demand', 'reservoir_pressure', 'node_26_demand', 'link_5_flow', 'node_18_pressure', 'link_25_flow', 'node_31_pressure', 'node_29_pressure', 'node_15_demand', 'node_30_pressure', 'node_24_pressure', 'node_2_demand', 'node_25_demand', 'node_25_pressure', 'link_11_flow', 'node_3_demand', 'node_20_pressure', 'link_13_flow', 'node_29_demand', 'link_31_flow', 'link_30_flow', 'node_3_pressure', 'node_18_demand', 'node_22_pressure', 'node_9_demand', 'link_1_flow', 'node_7_pressure', 'link_22_flow', 'node_10_pressure', 'node_17_demand', 'node_6_pressure', 'node_5_pressure', 'link_8_flow', 'node_17_pressure', 'node_28_demand', 'link_20_flow', 'link_14_flow', 'node_8_pressure', 'link_9_flow', 'node_13_pressure', 'node_9_pressure', 'link_17_flow', 'node_10_demand', 'link_24_flow', 'link_15_flow', 'node_14_demand', 'link_3_flow', 'link_2_flow', 'node_16_pressure', 'link_12_flow', 'node_28_pressure', 'node_22_demand', 'link_26_flow']]\n",
      "starting df shape: (87600, 41)\n",
      "This is training run 3 and has the shape:  (87600, 41)\n",
      "The value of dropped columns is 55\n"
     ]
    },
    {
     "name": "stderr",
     "output_type": "stream",
     "text": [
      "/Users/alexellard/opt/anaconda3/lib/python3.7/site-packages/xgboost/data.py:96: UserWarning: Use subset (sliced data) of np.ndarray is not recommended because it will generate extra copies and increase memory consumption\n",
      "  \"because it will generate extra copies and increase \" +\n"
     ]
    },
    {
     "name": "stdout",
     "output_type": "stream",
     "text": [
      "test y shape : (17520, 1)\n",
      "Inv y shape : (17520, 41)\n",
      "y pred shape : (17520, 1)\n",
      "inv y pred : (17520, 41)\n",
      "Run 3 Mean Absolute Error: 169.80975472500876\n",
      "RMSE: 222.116\n",
      "R^2: 0.977\n",
      "[['link_27_flow', 'link_24_flow', 'reservoir_demand', 'link_30_flow', 'link_4_flow', 'node_22_demand', 'node_12_pressure', 'node_17_pressure', 'node_12_demand', 'link_15_flow', 'node_17_demand', 'link_18_flow', 'node_23_demand', 'link_9_flow', 'node_29_demand', 'link_17_flow', 'node_15_demand', 'node_9_pressure', 'link_1_flow', 'node_6_demand', 'node_11_demand', 'node_7_demand', 'link_28_flow', 'node_5_demand', 'node_19_demand', 'node_6_pressure', 'node_24_demand', 'link_10_flow', 'node_3_pressure', 'link_23_flow', 'link_5_flow', 'node_15_pressure', 'node_31_demand', 'link_26_flow', 'node_29_pressure', 'node_19_pressure', 'node_1_demand', 'node_27_demand', 'link_32_flow', 'node_7_pressure', 'link_7_flow', 'node_5_pressure', 'node_11_pressure', 'node_21_demand', 'node_8_demand', 'link_31_flow', 'node_23_pressure', 'link_11_flow', 'node_8_pressure', 'node_3_demand', 'node_2_pressure', 'node_22_pressure', 'node_28_pressure', 'node_30_demand']]\n",
      "starting df shape: (87600, 42)\n",
      "This is training run 4 and has the shape:  (87600, 42)\n",
      "The value of dropped columns is 55\n"
     ]
    },
    {
     "name": "stderr",
     "output_type": "stream",
     "text": [
      "/Users/alexellard/opt/anaconda3/lib/python3.7/site-packages/xgboost/data.py:96: UserWarning: Use subset (sliced data) of np.ndarray is not recommended because it will generate extra copies and increase memory consumption\n",
      "  \"because it will generate extra copies and increase \" +\n"
     ]
    },
    {
     "name": "stdout",
     "output_type": "stream",
     "text": [
      "test y shape : (17520, 1)\n",
      "Inv y shape : (17520, 42)\n",
      "y pred shape : (17520, 1)\n",
      "inv y pred : (17520, 42)\n",
      "Run 4 Mean Absolute Error: 6.913038016946349\n",
      "RMSE: 8.925\n",
      "R^2: 0.988\n",
      "[['link_21_flow', 'reservoir_demand', 'node_16_pressure', 'link_6_flow', 'node_25_pressure', 'link_8_flow', 'link_7_flow', 'node_6_demand', 'node_10_demand', 'node_30_pressure', 'node_9_demand', 'link_23_flow', 'node_5_pressure', 'node_8_pressure', 'node_26_pressure', 'link_10_flow', 'node_4_demand', 'node_17_demand', 'node_11_demand', 'link_16_flow', 'node_22_pressure', 'link_22_flow', 'link_9_flow', 'link_5_flow', 'node_23_pressure', 'node_9_pressure', 'link_18_flow', 'link_14_flow', 'node_4_pressure', 'node_31_pressure', 'node_16_demand', 'link_13_flow', 'link_12_flow', 'node_10_pressure', 'node_3_pressure', 'reservoir_pressure', 'node_14_demand', 'link_17_flow', 'node_2_pressure', 'node_5_demand', 'node_21_demand', 'link_32_flow', 'node_24_pressure', 'node_26_demand', 'link_20_flow', 'node_15_pressure', 'node_1_pressure', 'node_15_demand', 'node_29_demand', 'node_23_demand', 'link_11_flow', 'node_25_demand', 'node_12_demand', 'node_8_demand']]\n",
      "starting df shape: (87600, 42)\n",
      "This is training run 5 and has the shape:  (87600, 42)\n",
      "The value of dropped columns is 55\n"
     ]
    },
    {
     "name": "stderr",
     "output_type": "stream",
     "text": [
      "/Users/alexellard/opt/anaconda3/lib/python3.7/site-packages/xgboost/data.py:96: UserWarning: Use subset (sliced data) of np.ndarray is not recommended because it will generate extra copies and increase memory consumption\n",
      "  \"because it will generate extra copies and increase \" +\n"
     ]
    },
    {
     "name": "stdout",
     "output_type": "stream",
     "text": [
      "test y shape : (17520, 1)\n",
      "Inv y shape : (17520, 42)\n",
      "y pred shape : (17520, 1)\n",
      "inv y pred : (17520, 42)\n",
      "Run 5 Mean Absolute Error: 5.739468584813893\n",
      "RMSE: 7.405\n",
      "R^2: 0.993\n",
      "[['node_3_demand', 'link_25_flow', 'node_15_pressure', 'node_11_pressure', 'link_4_flow', 'node_13_pressure', 'node_8_demand', 'link_15_flow', 'node_29_demand', 'node_21_pressure', 'node_30_demand', 'node_5_pressure', 'node_27_demand', 'node_11_demand', 'link_9_flow', 'link_22_flow', 'node_27_pressure', 'link_19_flow', 'node_5_demand', 'node_7_demand', 'node_12_demand', 'node_2_pressure', 'node_9_pressure', 'node_20_pressure', 'node_16_demand', 'node_12_pressure', 'link_31_flow', 'link_14_flow', 'link_8_flow', 'link_1_flow', 'node_19_pressure', 'link_30_flow', 'node_22_pressure', 'node_6_demand', 'node_4_demand', 'node_17_pressure', 'node_14_pressure', 'node_26_pressure', 'link_5_flow', 'link_10_flow', 'node_29_pressure', 'node_6_pressure', 'node_7_pressure', 'node_16_pressure', 'node_30_pressure', 'node_2_demand', 'node_28_demand', 'link_13_flow', 'node_23_pressure', 'node_28_pressure', 'node_24_pressure', 'node_26_demand', 'link_28_flow', 'node_10_pressure']]\n",
      "starting df shape: (87600, 42)\n",
      "This is training run 6 and has the shape:  (87600, 42)\n",
      "The value of dropped columns is 55\n"
     ]
    },
    {
     "name": "stderr",
     "output_type": "stream",
     "text": [
      "/Users/alexellard/opt/anaconda3/lib/python3.7/site-packages/xgboost/data.py:96: UserWarning: Use subset (sliced data) of np.ndarray is not recommended because it will generate extra copies and increase memory consumption\n",
      "  \"because it will generate extra copies and increase \" +\n"
     ]
    },
    {
     "name": "stdout",
     "output_type": "stream",
     "text": [
      "test y shape : (17520, 1)\n",
      "Inv y shape : (17520, 42)\n",
      "y pred shape : (17520, 1)\n",
      "inv y pred : (17520, 42)\n",
      "Run 6 Mean Absolute Error: 167.9302606745329\n",
      "RMSE: 221.505\n",
      "R^2: 0.977\n",
      "[['node_21_demand', 'node_27_pressure', 'node_11_pressure', 'node_3_pressure', 'node_6_pressure', 'link_10_flow', 'link_16_flow', 'node_24_demand', 'node_28_demand', 'node_14_demand', 'link_4_flow', 'link_7_flow', 'node_4_demand', 'node_13_demand', 'node_28_pressure', 'link_6_flow', 'link_18_flow', 'link_5_flow', 'node_18_pressure', 'node_9_pressure', 'link_1_flow', 'link_21_flow', 'node_6_demand', 'link_12_flow', 'node_1_pressure', 'link_27_flow', 'node_27_demand', 'link_24_flow', 'node_15_pressure', 'node_5_pressure', 'node_25_pressure', 'link_8_flow', 'node_12_pressure', 'node_12_demand', 'reservoir_demand', 'link_22_flow', 'link_30_flow', 'node_10_demand', 'link_26_flow', 'node_31_pressure', 'node_22_pressure', 'node_20_demand', 'node_29_pressure', 'link_20_flow', 'node_2_pressure', 'node_30_demand', 'link_23_flow', 'node_13_pressure', 'node_5_demand', 'link_15_flow', 'node_16_pressure', 'node_15_demand', 'node_29_demand', 'node_23_pressure']]\n",
      "starting df shape: (87600, 42)\n",
      "This is training run 7 and has the shape:  (87600, 42)\n",
      "The value of dropped columns is 55\n"
     ]
    },
    {
     "name": "stderr",
     "output_type": "stream",
     "text": [
      "/Users/alexellard/opt/anaconda3/lib/python3.7/site-packages/xgboost/data.py:96: UserWarning: Use subset (sliced data) of np.ndarray is not recommended because it will generate extra copies and increase memory consumption\n",
      "  \"because it will generate extra copies and increase \" +\n"
     ]
    },
    {
     "name": "stdout",
     "output_type": "stream",
     "text": [
      "test y shape : (17520, 1)\n",
      "Inv y shape : (17520, 42)\n",
      "y pred shape : (17520, 1)\n",
      "inv y pred : (17520, 42)\n",
      "Run 7 Mean Absolute Error: 9.98284369136781\n",
      "RMSE: 13.098\n",
      "R^2: 0.979\n",
      "[['node_17_pressure', 'node_23_demand', 'node_10_demand', 'node_20_demand', 'node_4_demand', 'node_3_demand', 'node_10_pressure', 'node_7_pressure', 'node_13_demand', 'node_5_pressure', 'link_16_flow', 'node_22_demand', 'node_25_pressure', 'link_22_flow', 'node_19_pressure', 'node_8_pressure', 'link_23_flow', 'node_1_demand', 'link_8_flow', 'node_11_pressure', 'node_24_demand', 'link_20_flow', 'link_6_flow', 'node_27_pressure', 'node_26_pressure', 'node_26_demand', 'node_7_demand', 'link_14_flow', 'node_4_pressure', 'node_13_pressure', 'reservoir_demand', 'link_28_flow', 'node_29_pressure', 'node_2_pressure', 'node_21_demand', 'node_28_demand', 'node_24_pressure', 'link_11_flow', 'link_31_flow', 'link_32_flow', 'node_8_demand', 'link_12_flow', 'link_7_flow', 'node_30_pressure', 'link_1_flow', 'node_17_demand', 'node_12_demand', 'node_18_demand', 'node_19_demand', 'link_26_flow', 'link_3_flow', 'node_5_demand', 'node_16_pressure', 'link_18_flow']]\n",
      "starting df shape: (87600, 42)\n",
      "This is training run 8 and has the shape:  (87600, 42)\n",
      "The value of dropped columns is 55\n"
     ]
    },
    {
     "name": "stderr",
     "output_type": "stream",
     "text": [
      "/Users/alexellard/opt/anaconda3/lib/python3.7/site-packages/xgboost/data.py:96: UserWarning: Use subset (sliced data) of np.ndarray is not recommended because it will generate extra copies and increase memory consumption\n",
      "  \"because it will generate extra copies and increase \" +\n"
     ]
    },
    {
     "name": "stdout",
     "output_type": "stream",
     "text": [
      "test y shape : (17520, 1)\n",
      "Inv y shape : (17520, 42)\n",
      "y pred shape : (17520, 1)\n",
      "inv y pred : (17520, 42)\n",
      "Run 8 Mean Absolute Error: 5.523872708078932\n",
      "RMSE: 7.140\n",
      "R^2: 0.992\n",
      "[['node_21_demand', 'node_27_demand', 'node_18_pressure', 'link_24_flow', 'link_19_flow', 'node_14_pressure', 'node_8_pressure', 'node_19_demand', 'link_1_flow', 'node_3_demand', 'link_23_flow', 'node_5_pressure', 'node_2_demand', 'link_6_flow', 'link_32_flow', 'node_6_demand', 'link_26_flow', 'node_13_pressure', 'link_3_flow', 'link_12_flow', 'node_28_pressure', 'node_16_pressure', 'link_22_flow', 'node_16_demand', 'node_24_demand', 'node_23_demand', 'node_4_pressure', 'node_29_pressure', 'link_25_flow', 'node_1_demand', 'node_29_demand', 'node_8_demand', 'node_18_demand', 'node_25_pressure', 'link_31_flow', 'node_30_pressure', 'link_15_flow', 'node_6_pressure', 'link_13_flow', 'node_17_demand', 'node_9_demand', 'node_11_pressure', 'link_21_flow', 'node_24_pressure', 'node_26_demand', 'node_19_pressure', 'link_11_flow', 'node_21_pressure', 'node_7_demand', 'link_8_flow', 'link_28_flow', 'node_3_pressure', 'node_14_demand', 'node_9_pressure', 'node_11_demand']]\n",
      "starting df shape: (87600, 41)\n",
      "This is training run 9 and has the shape:  (87600, 41)\n",
      "The value of dropped columns is 55\n"
     ]
    },
    {
     "name": "stderr",
     "output_type": "stream",
     "text": [
      "/Users/alexellard/opt/anaconda3/lib/python3.7/site-packages/xgboost/data.py:96: UserWarning: Use subset (sliced data) of np.ndarray is not recommended because it will generate extra copies and increase memory consumption\n",
      "  \"because it will generate extra copies and increase \" +\n"
     ]
    },
    {
     "name": "stdout",
     "output_type": "stream",
     "text": [
      "test y shape : (17520, 1)\n",
      "Inv y shape : (17520, 41)\n",
      "y pred shape : (17520, 1)\n",
      "inv y pred : (17520, 41)\n",
      "Run 9 Mean Absolute Error: 116.6055763459736\n",
      "RMSE: 152.034\n",
      "R^2: 0.989\n",
      "[['node_26_pressure', 'node_11_demand', 'node_25_demand', 'node_14_pressure', 'node_8_demand', 'link_21_flow', 'link_26_flow', 'link_2_flow', 'link_8_flow', 'node_10_demand', 'node_18_demand', 'node_24_pressure', 'link_18_flow', 'node_4_pressure', 'node_5_demand', 'link_7_flow', 'node_15_demand', 'node_30_demand', 'link_27_flow', 'node_21_demand', 'node_2_demand', 'node_27_demand', 'node_25_pressure', 'link_22_flow', 'node_27_pressure', 'node_7_demand', 'link_17_flow', 'node_9_pressure', 'reservoir_demand', 'node_21_pressure', 'link_19_flow', 'link_24_flow', 'node_9_demand', 'node_10_pressure', 'node_20_demand', 'node_13_demand', 'node_18_pressure', 'link_16_flow', 'link_4_flow', 'node_1_demand', 'node_31_pressure', 'node_22_demand', 'node_28_demand', 'node_8_pressure', 'node_14_demand', 'link_28_flow', 'node_17_pressure', 'link_12_flow', 'node_6_demand', 'node_26_demand', 'node_23_pressure', 'link_25_flow', 'node_23_demand', 'link_30_flow']]\n",
      "starting df shape: (87600, 42)\n",
      "This is training run 10 and has the shape:  (87600, 42)\n",
      "The value of dropped columns is 55\n"
     ]
    },
    {
     "name": "stderr",
     "output_type": "stream",
     "text": [
      "/Users/alexellard/opt/anaconda3/lib/python3.7/site-packages/xgboost/data.py:96: UserWarning: Use subset (sliced data) of np.ndarray is not recommended because it will generate extra copies and increase memory consumption\n",
      "  \"because it will generate extra copies and increase \" +\n"
     ]
    },
    {
     "name": "stdout",
     "output_type": "stream",
     "text": [
      "test y shape : (17520, 1)\n",
      "Inv y shape : (17520, 42)\n",
      "y pred shape : (17520, 1)\n",
      "inv y pred : (17520, 42)\n",
      "Run 10 Mean Absolute Error: 1.0464335129158953\n",
      "RMSE: 1.341\n",
      "R^2: 0.989\n",
      "[['node_4_demand', 'node_10_demand', 'node_29_demand', 'link_11_flow', 'node_14_demand', 'node_24_pressure', 'node_14_pressure', 'link_18_flow', 'node_16_demand', 'link_10_flow', 'node_30_demand', 'node_28_pressure', 'node_26_pressure', 'node_6_demand', 'node_1_pressure', 'node_21_pressure', 'node_17_demand', 'node_5_pressure', 'node_19_demand', 'node_30_pressure', 'node_1_demand', 'node_28_demand', 'node_22_pressure', 'node_15_demand', 'node_11_pressure', 'node_9_demand', 'link_8_flow', 'node_8_pressure', 'node_23_pressure', 'node_4_pressure', 'link_32_flow', 'node_13_pressure', 'link_23_flow', 'link_30_flow', 'node_3_pressure', 'link_1_flow', 'node_18_pressure', 'node_25_pressure', 'node_7_pressure', 'link_5_flow', 'node_17_pressure', 'node_16_pressure', 'link_17_flow', 'link_9_flow', 'link_16_flow', 'node_2_pressure', 'node_19_pressure', 'node_21_demand', 'node_12_demand', 'node_22_demand', 'link_27_flow', 'link_6_flow', 'node_24_demand', 'link_24_flow', 'node_11_demand', 'node_12_pressure', 'link_20_flow', 'node_20_demand', 'link_21_flow', 'link_7_flow']]\n",
      "starting df shape: (87600, 36)\n",
      "This is training run 1 and has the shape:  (87600, 36)\n",
      "The value of dropped columns is 60\n"
     ]
    },
    {
     "name": "stderr",
     "output_type": "stream",
     "text": [
      "/Users/alexellard/opt/anaconda3/lib/python3.7/site-packages/xgboost/data.py:96: UserWarning: Use subset (sliced data) of np.ndarray is not recommended because it will generate extra copies and increase memory consumption\n",
      "  \"because it will generate extra copies and increase \" +\n"
     ]
    },
    {
     "name": "stdout",
     "output_type": "stream",
     "text": [
      "test y shape : (17520, 1)\n",
      "Inv y shape : (17520, 36)\n",
      "y pred shape : (17520, 1)\n",
      "inv y pred : (17520, 36)\n",
      "Run 1 Mean Absolute Error: 156.77971411800135\n",
      "RMSE: 206.186\n",
      "R^2: 0.980\n",
      "[['node_7_pressure', 'node_30_pressure', 'link_5_flow', 'node_15_demand', 'node_11_pressure', 'node_29_pressure', 'link_15_flow', 'node_11_demand', 'link_6_flow', 'node_28_demand', 'node_22_pressure', 'node_4_pressure', 'node_9_demand', 'link_4_flow', 'link_20_flow', 'link_27_flow', 'link_28_flow', 'link_13_flow', 'node_16_demand', 'node_2_demand', 'node_23_demand', 'link_2_flow', 'node_31_demand', 'node_16_pressure', 'node_18_demand', 'node_31_pressure', 'node_12_demand', 'reservoir_pressure', 'node_21_demand', 'link_26_flow', 'node_15_pressure', 'node_8_demand', 'link_1_flow', 'node_1_pressure', 'node_18_pressure', 'node_1_demand', 'node_10_demand', 'link_19_flow', 'node_25_demand', 'link_10_flow', 'node_3_pressure', 'node_20_demand', 'link_11_flow', 'link_32_flow', 'node_17_pressure', 'node_10_pressure', 'node_6_pressure', 'node_23_pressure', 'node_5_pressure', 'node_28_pressure', 'node_29_demand', 'node_30_demand', 'node_13_pressure', 'node_4_demand', 'reservoir_demand', 'node_22_demand', 'link_8_flow', 'node_14_demand', 'link_12_flow']]\n",
      "starting df shape: (87600, 37)\n",
      "This is training run 2 and has the shape:  (87600, 37)\n",
      "The value of dropped columns is 60\n"
     ]
    },
    {
     "name": "stderr",
     "output_type": "stream",
     "text": [
      "/Users/alexellard/opt/anaconda3/lib/python3.7/site-packages/xgboost/data.py:96: UserWarning: Use subset (sliced data) of np.ndarray is not recommended because it will generate extra copies and increase memory consumption\n",
      "  \"because it will generate extra copies and increase \" +\n"
     ]
    },
    {
     "name": "stdout",
     "output_type": "stream",
     "text": [
      "test y shape : (17520, 1)\n",
      "Inv y shape : (17520, 37)\n",
      "y pred shape : (17520, 1)\n",
      "inv y pred : (17520, 37)\n",
      "Run 2 Mean Absolute Error: 1.4414818459630825\n",
      "RMSE: 1.873\n",
      "R^2: 0.979\n",
      "[['node_5_pressure', 'node_4_pressure', 'node_21_pressure', 'node_26_pressure', 'node_22_demand', 'link_20_flow', 'link_13_flow', 'link_25_flow', 'node_23_demand', 'node_7_pressure', 'node_1_pressure', 'node_8_pressure', 'link_4_flow', 'node_8_demand', 'link_23_flow', 'node_14_demand', 'node_3_demand', 'node_24_pressure', 'node_7_demand', 'node_14_pressure', 'node_5_demand', 'node_28_demand', 'link_28_flow', 'link_18_flow', 'link_30_flow', 'node_15_pressure', 'node_1_demand', 'link_19_flow', 'node_6_demand', 'node_29_pressure', 'node_19_demand', 'link_6_flow', 'node_16_demand', 'link_10_flow', 'node_25_demand', 'link_26_flow', 'link_2_flow', 'node_9_demand', 'reservoir_pressure', 'node_25_pressure', 'node_22_pressure', 'link_9_flow', 'node_2_pressure', 'node_3_pressure', 'link_17_flow', 'node_20_demand', 'reservoir_demand', 'node_19_pressure', 'node_11_demand', 'node_17_demand', 'node_9_pressure', 'link_14_flow', 'node_11_pressure', 'node_17_pressure', 'node_13_demand', 'link_1_flow', 'link_27_flow', 'node_21_demand', 'node_20_pressure']]\n",
      "starting df shape: (87600, 37)\n",
      "This is training run 3 and has the shape:  (87600, 37)\n",
      "The value of dropped columns is 60\n"
     ]
    },
    {
     "name": "stderr",
     "output_type": "stream",
     "text": [
      "/Users/alexellard/opt/anaconda3/lib/python3.7/site-packages/xgboost/data.py:96: UserWarning: Use subset (sliced data) of np.ndarray is not recommended because it will generate extra copies and increase memory consumption\n",
      "  \"because it will generate extra copies and increase \" +\n"
     ]
    },
    {
     "name": "stdout",
     "output_type": "stream",
     "text": [
      "test y shape : (17520, 1)\n",
      "Inv y shape : (17520, 37)\n",
      "y pred shape : (17520, 1)\n",
      "inv y pred : (17520, 37)\n",
      "Run 3 Mean Absolute Error: 6.362153912656928\n",
      "RMSE: 8.174\n",
      "R^2: 0.990\n",
      "[['node_6_demand', 'node_5_pressure', 'link_15_flow', 'link_14_flow', 'node_9_demand', 'link_25_flow', 'node_19_pressure', 'node_23_pressure', 'node_10_pressure', 'node_22_pressure', 'node_8_demand', 'node_4_demand', 'node_9_pressure', 'node_12_demand', 'node_25_pressure', 'reservoir_pressure', 'node_23_demand', 'node_8_pressure', 'node_31_pressure', 'node_28_demand', 'link_17_flow', 'node_3_demand', 'node_1_demand', 'link_24_flow', 'node_26_demand', 'link_26_flow', 'link_10_flow', 'node_20_pressure', 'node_21_pressure', 'node_27_pressure', 'link_31_flow', 'node_30_pressure', 'link_2_flow', 'node_13_demand', 'link_3_flow', 'node_24_pressure', 'node_6_pressure', 'node_4_pressure', 'node_11_demand', 'node_1_pressure', 'node_5_demand', 'link_22_flow', 'link_7_flow', 'link_20_flow', 'node_13_pressure', 'link_18_flow', 'link_1_flow', 'node_24_demand', 'node_30_demand', 'node_29_demand', 'node_2_pressure', 'node_16_pressure', 'link_11_flow', 'node_18_pressure', 'node_17_pressure', 'link_28_flow', 'link_19_flow', 'node_12_pressure', 'node_7_demand', 'node_22_demand']]\n",
      "starting df shape: (87600, 36)\n",
      "This is training run 4 and has the shape:  (87600, 36)\n",
      "The value of dropped columns is 60\n"
     ]
    },
    {
     "name": "stderr",
     "output_type": "stream",
     "text": [
      "/Users/alexellard/opt/anaconda3/lib/python3.7/site-packages/xgboost/data.py:96: UserWarning: Use subset (sliced data) of np.ndarray is not recommended because it will generate extra copies and increase memory consumption\n",
      "  \"because it will generate extra copies and increase \" +\n"
     ]
    },
    {
     "name": "stdout",
     "output_type": "stream",
     "text": [
      "test y shape : (17520, 1)\n",
      "Inv y shape : (17520, 36)\n",
      "y pred shape : (17520, 1)\n",
      "inv y pred : (17520, 36)\n",
      "Run 4 Mean Absolute Error: 155.932262181362\n",
      "RMSE: 204.470\n",
      "R^2: 0.981\n",
      "[['link_11_flow', 'link_9_flow', 'node_24_demand', 'node_3_pressure', 'node_4_pressure', 'node_28_demand', 'reservoir_demand', 'node_22_pressure', 'node_11_pressure', 'node_14_demand', 'link_13_flow', 'node_21_demand', 'node_22_demand', 'node_14_pressure', 'link_10_flow', 'node_13_pressure', 'link_17_flow', 'node_7_pressure', 'link_19_flow', 'node_12_demand', 'node_8_demand', 'node_17_demand', 'node_19_pressure', 'node_15_demand', 'link_8_flow', 'link_15_flow', 'link_12_flow', 'node_3_demand', 'node_30_demand', 'link_24_flow', 'node_20_demand', 'node_1_pressure', 'node_29_demand', 'node_25_demand', 'node_23_demand', 'node_6_demand', 'node_1_demand', 'node_8_pressure', 'node_20_pressure', 'link_23_flow', 'link_27_flow', 'node_9_demand', 'link_7_flow', 'node_9_pressure', 'link_18_flow', 'node_28_pressure', 'link_22_flow', 'node_27_demand', 'node_5_demand', 'link_28_flow', 'link_14_flow', 'node_10_demand', 'link_3_flow', 'node_24_pressure', 'node_4_demand', 'link_26_flow', 'link_31_flow', 'node_16_demand', 'node_10_pressure']]\n",
      "starting df shape: (87600, 37)\n",
      "This is training run 5 and has the shape:  (87600, 37)\n",
      "The value of dropped columns is 60\n"
     ]
    },
    {
     "name": "stderr",
     "output_type": "stream",
     "text": [
      "/Users/alexellard/opt/anaconda3/lib/python3.7/site-packages/xgboost/data.py:96: UserWarning: Use subset (sliced data) of np.ndarray is not recommended because it will generate extra copies and increase memory consumption\n",
      "  \"because it will generate extra copies and increase \" +\n"
     ]
    },
    {
     "name": "stdout",
     "output_type": "stream",
     "text": [
      "test y shape : (17520, 1)\n",
      "Inv y shape : (17520, 37)\n",
      "y pred shape : (17520, 1)\n",
      "inv y pred : (17520, 37)\n",
      "Run 5 Mean Absolute Error: 9.118194786088925\n",
      "RMSE: 11.937\n",
      "R^2: 0.978\n",
      "[['node_27_pressure', 'link_25_flow', 'node_23_pressure', 'link_27_flow', 'node_2_pressure', 'link_16_flow', 'link_13_flow', 'node_13_pressure', 'node_26_pressure', 'link_28_flow', 'node_1_pressure', 'node_5_pressure', 'node_17_demand', 'node_18_pressure', 'node_14_demand', 'node_31_demand', 'node_27_demand', 'node_20_demand', 'node_4_pressure', 'link_10_flow', 'link_14_flow', 'link_31_flow', 'node_8_demand', 'link_7_flow', 'link_20_flow', 'node_20_pressure', 'link_1_flow', 'node_23_demand', 'link_22_flow', 'node_14_pressure', 'node_30_demand', 'node_3_pressure', 'node_12_demand', 'node_19_demand', 'link_9_flow', 'node_11_pressure', 'node_4_demand', 'node_21_pressure', 'node_1_demand', 'reservoir_demand', 'node_30_pressure', 'link_3_flow', 'link_26_flow', 'node_17_pressure', 'node_5_demand', 'node_25_demand', 'link_8_flow', 'node_10_pressure', 'link_4_flow', 'node_18_demand', 'node_26_demand', 'link_11_flow', 'node_12_pressure', 'node_29_demand', 'reservoir_pressure', 'link_23_flow', 'node_25_pressure', 'node_16_pressure', 'node_29_pressure']]\n",
      "starting df shape: (87600, 37)\n",
      "This is training run 6 and has the shape:  (87600, 37)\n",
      "The value of dropped columns is 60\n"
     ]
    },
    {
     "name": "stderr",
     "output_type": "stream",
     "text": [
      "/Users/alexellard/opt/anaconda3/lib/python3.7/site-packages/xgboost/data.py:96: UserWarning: Use subset (sliced data) of np.ndarray is not recommended because it will generate extra copies and increase memory consumption\n",
      "  \"because it will generate extra copies and increase \" +\n"
     ]
    },
    {
     "name": "stdout",
     "output_type": "stream",
     "text": [
      "test y shape : (17520, 1)\n",
      "Inv y shape : (17520, 37)\n",
      "y pred shape : (17520, 1)\n",
      "inv y pred : (17520, 37)\n",
      "Run 6 Mean Absolute Error: 6.677442184037133\n",
      "RMSE: 8.719\n",
      "R^2: 0.988\n",
      "[['node_6_pressure', 'node_12_pressure', 'node_16_demand', 'node_2_demand', 'node_17_pressure', 'node_23_demand', 'link_13_flow', 'node_25_pressure', 'link_32_flow', 'node_18_pressure', 'node_1_pressure', 'node_8_demand', 'node_13_pressure', 'node_12_demand', 'link_25_flow', 'reservoir_pressure', 'link_19_flow', 'link_3_flow', 'node_4_demand', 'node_9_demand', 'node_29_pressure', 'node_8_pressure', 'node_26_pressure', 'reservoir_demand', 'link_10_flow', 'link_26_flow', 'link_1_flow', 'node_3_pressure', 'node_14_demand', 'node_14_pressure', 'link_4_flow', 'node_21_pressure', 'node_15_demand', 'node_23_pressure', 'link_21_flow', 'link_12_flow', 'node_24_pressure', 'node_28_demand', 'node_19_demand', 'link_9_flow', 'link_28_flow', 'node_10_demand', 'link_17_flow', 'link_14_flow', 'node_7_demand', 'node_13_demand', 'node_31_demand', 'node_16_pressure', 'link_30_flow', 'link_7_flow', 'node_9_pressure', 'node_10_pressure', 'node_5_pressure', 'node_11_pressure', 'node_1_demand', 'node_2_pressure', 'link_5_flow', 'link_2_flow', 'node_26_demand', 'node_5_demand']]\n",
      "starting df shape: (87600, 36)\n",
      "This is training run 7 and has the shape:  (87600, 36)\n",
      "The value of dropped columns is 60\n"
     ]
    },
    {
     "name": "stderr",
     "output_type": "stream",
     "text": [
      "/Users/alexellard/opt/anaconda3/lib/python3.7/site-packages/xgboost/data.py:96: UserWarning: Use subset (sliced data) of np.ndarray is not recommended because it will generate extra copies and increase memory consumption\n",
      "  \"because it will generate extra copies and increase \" +\n"
     ]
    },
    {
     "name": "stdout",
     "output_type": "stream",
     "text": [
      "test y shape : (17520, 1)\n",
      "Inv y shape : (17520, 36)\n",
      "y pred shape : (17520, 1)\n",
      "inv y pred : (17520, 36)\n",
      "Run 7 Mean Absolute Error: 1.0170169541182583\n",
      "RMSE: 1.309\n",
      "R^2: 0.990\n",
      "[['node_21_pressure', 'link_20_flow', 'link_30_flow', 'reservoir_demand', 'node_26_demand', 'node_17_pressure', 'node_2_pressure', 'link_9_flow', 'node_1_pressure', 'link_16_flow', 'link_7_flow', 'node_24_demand', 'node_29_demand', 'node_21_demand', 'node_19_pressure', 'node_29_pressure', 'node_7_pressure', 'node_10_pressure', 'node_14_pressure', 'node_11_demand', 'node_12_demand', 'node_30_pressure', 'node_28_demand', 'link_26_flow', 'node_24_pressure', 'link_25_flow', 'node_27_pressure', 'node_3_pressure', 'node_1_demand', 'node_28_pressure', 'node_30_demand', 'node_7_demand', 'link_8_flow', 'node_18_pressure', 'node_31_demand', 'link_4_flow', 'node_27_demand', 'node_8_demand', 'link_6_flow', 'node_14_demand', 'node_16_pressure', 'link_24_flow', 'node_23_pressure', 'node_6_demand', 'node_23_demand', 'node_20_pressure', 'node_16_demand', 'node_22_pressure', 'link_18_flow', 'node_22_demand', 'link_27_flow', 'node_13_pressure', 'link_21_flow', 'node_18_demand', 'node_15_demand', 'node_31_pressure', 'link_3_flow', 'link_31_flow', 'node_5_demand']]\n",
      "starting df shape: (87600, 37)\n",
      "This is training run 8 and has the shape:  (87600, 37)\n",
      "The value of dropped columns is 60\n"
     ]
    },
    {
     "name": "stderr",
     "output_type": "stream",
     "text": [
      "/Users/alexellard/opt/anaconda3/lib/python3.7/site-packages/xgboost/data.py:96: UserWarning: Use subset (sliced data) of np.ndarray is not recommended because it will generate extra copies and increase memory consumption\n",
      "  \"because it will generate extra copies and increase \" +\n"
     ]
    },
    {
     "name": "stdout",
     "output_type": "stream",
     "text": [
      "test y shape : (17520, 1)\n",
      "Inv y shape : (17520, 37)\n",
      "y pred shape : (17520, 1)\n",
      "inv y pred : (17520, 37)\n",
      "Run 8 Mean Absolute Error: 9.450604891868895\n",
      "RMSE: 12.544\n",
      "R^2: 0.975\n",
      "[['link_20_flow', 'node_10_demand', 'node_29_demand', 'node_3_pressure', 'reservoir_pressure', 'node_2_pressure', 'link_14_flow', 'reservoir_demand', 'link_11_flow', 'link_24_flow', 'node_14_demand', 'link_18_flow', 'node_6_pressure', 'node_21_demand', 'node_8_pressure', 'node_19_pressure', 'link_6_flow', 'node_4_demand', 'node_11_demand', 'link_30_flow', 'link_27_flow', 'node_16_demand', 'link_22_flow', 'node_22_demand', 'link_10_flow', 'node_30_pressure', 'node_22_pressure', 'node_24_pressure', 'node_1_demand', 'link_2_flow', 'node_9_demand', 'link_31_flow', 'link_12_flow', 'node_20_pressure', 'node_29_pressure', 'link_17_flow', 'link_1_flow', 'node_20_demand', 'node_12_demand', 'link_15_flow', 'node_23_pressure', 'node_5_pressure', 'node_2_demand', 'node_17_pressure', 'node_28_pressure', 'node_17_demand', 'link_23_flow', 'node_10_pressure', 'node_26_pressure', 'node_12_pressure', 'link_9_flow', 'link_19_flow', 'node_15_demand', 'node_3_demand', 'node_26_demand', 'node_6_demand', 'node_27_demand', 'link_8_flow', 'link_13_flow', 'node_4_pressure']]\n",
      "starting df shape: (87600, 36)\n",
      "This is training run 9 and has the shape:  (87600, 36)\n",
      "The value of dropped columns is 60\n"
     ]
    },
    {
     "name": "stderr",
     "output_type": "stream",
     "text": [
      "/Users/alexellard/opt/anaconda3/lib/python3.7/site-packages/xgboost/data.py:96: UserWarning: Use subset (sliced data) of np.ndarray is not recommended because it will generate extra copies and increase memory consumption\n",
      "  \"because it will generate extra copies and increase \" +\n"
     ]
    },
    {
     "name": "stdout",
     "output_type": "stream",
     "text": [
      "test y shape : (17520, 1)\n",
      "Inv y shape : (17520, 36)\n",
      "y pred shape : (17520, 1)\n",
      "inv y pred : (17520, 36)\n",
      "Run 9 Mean Absolute Error: 5.678230069491961\n",
      "RMSE: 7.406\n",
      "R^2: 0.993\n",
      "[['link_30_flow', 'node_23_pressure', 'node_15_pressure', 'node_19_demand', 'link_22_flow', 'node_3_pressure', 'node_26_pressure', 'link_21_flow', 'node_7_demand', 'node_9_pressure', 'node_23_demand', 'link_5_flow', 'node_16_pressure', 'node_20_pressure', 'link_11_flow', 'node_9_demand', 'node_10_pressure', 'link_28_flow', 'node_17_demand', 'node_7_pressure', 'node_25_pressure', 'node_8_pressure', 'node_17_pressure', 'node_16_demand', 'node_5_demand', 'node_12_demand', 'node_22_demand', 'link_12_flow', 'node_20_demand', 'node_27_pressure', 'node_13_demand', 'node_25_demand', 'node_11_pressure', 'link_17_flow', 'node_14_pressure', 'node_3_demand', 'link_15_flow', 'link_14_flow', 'link_13_flow', 'link_24_flow', 'node_1_pressure', 'node_2_pressure', 'link_7_flow', 'node_30_pressure', 'node_24_demand', 'node_21_demand', 'link_9_flow', 'node_8_demand', 'node_6_pressure', 'link_4_flow', 'node_29_pressure', 'node_2_demand', 'node_19_pressure', 'link_10_flow', 'node_10_demand', 'reservoir_demand', 'node_18_pressure', 'node_1_demand', 'link_2_flow']]\n",
      "starting df shape: (87600, 37)\n",
      "This is training run 10 and has the shape:  (87600, 37)\n",
      "The value of dropped columns is 60\n"
     ]
    },
    {
     "name": "stderr",
     "output_type": "stream",
     "text": [
      "/Users/alexellard/opt/anaconda3/lib/python3.7/site-packages/xgboost/data.py:96: UserWarning: Use subset (sliced data) of np.ndarray is not recommended because it will generate extra copies and increase memory consumption\n",
      "  \"because it will generate extra copies and increase \" +\n"
     ]
    },
    {
     "name": "stdout",
     "output_type": "stream",
     "text": [
      "test y shape : (17520, 1)\n",
      "Inv y shape : (17520, 37)\n",
      "y pred shape : (17520, 1)\n",
      "inv y pred : (17520, 37)\n",
      "Run 10 Mean Absolute Error: 4.069419039665426\n",
      "RMSE: 5.268\n",
      "R^2: 0.993\n",
      "[['node_18_demand', 'node_28_demand', 'link_16_flow', 'node_23_demand', 'node_10_demand', 'node_26_demand', 'node_14_demand', 'node_31_pressure', 'node_9_pressure', 'node_26_pressure', 'node_7_pressure', 'link_20_flow', 'link_11_flow', 'link_27_flow', 'node_13_pressure', 'link_31_flow', 'node_31_demand', 'link_4_flow', 'node_21_pressure', 'node_16_pressure', 'node_3_pressure', 'node_12_demand', 'link_19_flow', 'node_16_demand', 'node_17_demand', 'node_19_demand', 'node_22_demand', 'link_23_flow', 'reservoir_pressure', 'node_15_pressure', 'node_10_pressure', 'node_19_pressure', 'link_15_flow', 'link_18_flow', 'link_6_flow', 'link_32_flow', 'node_2_pressure', 'link_14_flow', 'node_4_pressure', 'node_17_pressure', 'node_15_demand', 'node_12_pressure', 'link_17_flow', 'link_28_flow', 'node_11_demand', 'node_14_pressure', 'node_9_demand', 'node_13_demand', 'node_30_pressure', 'node_18_pressure', 'node_25_pressure', 'link_2_flow', 'node_6_pressure', 'node_5_demand', 'node_24_demand', 'reservoir_demand', 'node_1_pressure', 'node_8_demand', 'link_8_flow', 'node_27_pressure', 'node_28_pressure', 'node_20_pressure', 'link_26_flow', 'link_10_flow']]\n",
      "starting df shape: (87600, 32)\n",
      "This is training run 1 and has the shape:  (87600, 32)\n",
      "The value of dropped columns is 65\n"
     ]
    },
    {
     "name": "stderr",
     "output_type": "stream",
     "text": [
      "/Users/alexellard/opt/anaconda3/lib/python3.7/site-packages/xgboost/data.py:96: UserWarning: Use subset (sliced data) of np.ndarray is not recommended because it will generate extra copies and increase memory consumption\n",
      "  \"because it will generate extra copies and increase \" +\n"
     ]
    },
    {
     "name": "stdout",
     "output_type": "stream",
     "text": [
      "test y shape : (17520, 1)\n",
      "Inv y shape : (17520, 32)\n",
      "y pred shape : (17520, 1)\n",
      "inv y pred : (17520, 32)\n",
      "Run 1 Mean Absolute Error: 6.371563194161409\n",
      "RMSE: 8.271\n",
      "R^2: 0.992\n",
      "[['link_25_flow', 'link_30_flow', 'node_21_demand', 'node_18_pressure', 'node_25_pressure', 'node_30_demand', 'node_24_pressure', 'node_17_demand', 'link_5_flow', 'link_1_flow', 'node_9_pressure', 'node_28_pressure', 'node_22_pressure', 'node_12_demand', 'node_15_pressure', 'link_11_flow', 'node_16_pressure', 'link_23_flow', 'node_6_demand', 'node_21_pressure', 'link_16_flow', 'node_25_demand', 'link_9_flow', 'link_3_flow', 'node_29_demand', 'node_29_pressure', 'link_2_flow', 'link_27_flow', 'node_2_demand', 'node_18_demand', 'node_11_demand', 'link_31_flow', 'node_30_pressure', 'node_19_pressure', 'node_11_pressure', 'link_15_flow', 'reservoir_pressure', 'link_32_flow', 'link_6_flow', 'node_8_demand', 'link_8_flow', 'node_24_demand', 'node_20_demand', 'link_24_flow', 'node_10_pressure', 'link_10_flow', 'node_16_demand', 'node_4_demand', 'node_14_pressure', 'reservoir_demand', 'node_27_pressure', 'link_20_flow', 'node_2_pressure', 'node_26_pressure', 'node_12_pressure', 'node_26_demand', 'node_7_demand', 'node_13_demand', 'node_19_demand', 'node_31_pressure', 'node_22_demand', 'node_20_pressure', 'node_4_pressure', 'node_15_demand']]\n",
      "starting df shape: (87600, 32)\n",
      "This is training run 2 and has the shape:  (87600, 32)\n",
      "The value of dropped columns is 65\n"
     ]
    },
    {
     "name": "stderr",
     "output_type": "stream",
     "text": [
      "/Users/alexellard/opt/anaconda3/lib/python3.7/site-packages/xgboost/data.py:96: UserWarning: Use subset (sliced data) of np.ndarray is not recommended because it will generate extra copies and increase memory consumption\n",
      "  \"because it will generate extra copies and increase \" +\n"
     ]
    },
    {
     "name": "stdout",
     "output_type": "stream",
     "text": [
      "test y shape : (17520, 1)\n",
      "Inv y shape : (17520, 32)\n",
      "y pred shape : (17520, 1)\n",
      "inv y pred : (17520, 32)\n",
      "Run 2 Mean Absolute Error: 5.772743559583819\n",
      "RMSE: 7.385\n",
      "R^2: 0.993\n",
      "[['node_22_demand', 'node_7_demand', 'node_23_pressure', 'node_8_demand', 'node_5_pressure', 'link_25_flow', 'link_5_flow', 'node_16_demand', 'node_15_pressure', 'node_14_pressure', 'node_6_pressure', 'link_31_flow', 'link_15_flow', 'node_31_pressure', 'link_1_flow', 'node_14_demand', 'node_3_pressure', 'node_24_demand', 'node_28_pressure', 'node_29_demand', 'node_2_pressure', 'link_21_flow', 'node_4_demand', 'node_19_demand', 'node_19_pressure', 'node_31_demand', 'reservoir_pressure', 'link_20_flow', 'link_24_flow', 'node_5_demand', 'link_10_flow', 'node_26_pressure', 'link_28_flow', 'node_9_demand', 'node_10_pressure', 'node_4_pressure', 'node_23_demand', 'node_17_demand', 'node_21_pressure', 'node_12_pressure', 'node_25_demand', 'node_1_demand', 'node_21_demand', 'link_22_flow', 'node_20_pressure', 'node_2_demand', 'link_23_flow', 'node_6_demand', 'link_17_flow', 'link_18_flow', 'node_15_demand', 'node_18_demand', 'node_28_demand', 'node_20_demand', 'node_30_pressure', 'node_27_pressure', 'node_22_pressure', 'link_14_flow', 'link_9_flow', 'link_12_flow', 'link_19_flow', 'link_16_flow', 'node_10_demand', 'link_13_flow']]\n",
      "starting df shape: (87600, 32)\n",
      "This is training run 3 and has the shape:  (87600, 32)\n",
      "The value of dropped columns is 65\n"
     ]
    },
    {
     "name": "stderr",
     "output_type": "stream",
     "text": [
      "/Users/alexellard/opt/anaconda3/lib/python3.7/site-packages/xgboost/data.py:96: UserWarning: Use subset (sliced data) of np.ndarray is not recommended because it will generate extra copies and increase memory consumption\n",
      "  \"because it will generate extra copies and increase \" +\n"
     ]
    },
    {
     "name": "stdout",
     "output_type": "stream",
     "text": [
      "test y shape : (17520, 1)\n",
      "Inv y shape : (17520, 32)\n",
      "y pred shape : (17520, 1)\n",
      "inv y pred : (17520, 32)\n",
      "Run 3 Mean Absolute Error: 159.06045389822896\n",
      "RMSE: 208.297\n",
      "R^2: 0.980\n",
      "[['node_21_demand', 'node_17_demand', 'link_30_flow', 'node_8_pressure', 'node_20_pressure', 'node_29_demand', 'node_25_pressure', 'node_1_pressure', 'link_1_flow', 'link_2_flow', 'node_10_pressure', 'node_27_demand', 'link_10_flow', 'node_21_pressure', 'node_30_pressure', 'node_12_demand', 'link_28_flow', 'link_20_flow', 'reservoir_pressure', 'node_3_demand', 'link_25_flow', 'node_2_demand', 'link_9_flow', 'link_12_flow', 'node_26_demand', 'node_31_pressure', 'node_11_demand', 'node_11_pressure', 'node_9_pressure', 'node_3_pressure', 'node_31_demand', 'link_14_flow', 'node_6_pressure', 'link_31_flow', 'node_4_pressure', 'link_19_flow', 'link_8_flow', 'link_32_flow', 'node_29_pressure', 'node_15_demand', 'node_8_demand', 'node_16_demand', 'node_5_demand', 'link_11_flow', 'node_12_pressure', 'node_2_pressure', 'link_5_flow', 'node_10_demand', 'node_7_demand', 'node_13_pressure', 'node_28_pressure', 'node_19_demand', 'node_24_demand', 'node_26_pressure', 'link_23_flow', 'node_7_pressure', 'link_7_flow', 'node_22_demand', 'reservoir_demand', 'node_28_demand', 'node_13_demand', 'node_5_pressure', 'node_16_pressure', 'link_16_flow']]\n",
      "starting df shape: (87600, 32)\n",
      "This is training run 4 and has the shape:  (87600, 32)\n",
      "The value of dropped columns is 65\n"
     ]
    },
    {
     "name": "stderr",
     "output_type": "stream",
     "text": [
      "/Users/alexellard/opt/anaconda3/lib/python3.7/site-packages/xgboost/data.py:96: UserWarning: Use subset (sliced data) of np.ndarray is not recommended because it will generate extra copies and increase memory consumption\n",
      "  \"because it will generate extra copies and increase \" +\n"
     ]
    },
    {
     "name": "stdout",
     "output_type": "stream",
     "text": [
      "test y shape : (17520, 1)\n",
      "Inv y shape : (17520, 32)\n",
      "y pred shape : (17520, 1)\n",
      "inv y pred : (17520, 32)\n",
      "Run 4 Mean Absolute Error: 10.820245875512082\n",
      "RMSE: 14.173\n",
      "R^2: 0.975\n",
      "[['node_13_pressure', 'node_9_demand', 'link_17_flow', 'node_20_demand', 'node_9_pressure', 'link_9_flow', 'link_32_flow', 'node_28_demand', 'node_24_pressure', 'node_31_pressure', 'node_16_pressure', 'link_12_flow', 'node_8_demand', 'link_3_flow', 'node_3_pressure', 'link_15_flow', 'node_10_demand', 'node_26_demand', 'node_19_demand', 'node_21_demand', 'link_26_flow', 'link_20_flow', 'link_1_flow', 'node_18_demand', 'link_11_flow', 'node_12_demand', 'node_25_pressure', 'node_19_pressure', 'node_23_demand', 'node_26_pressure', 'node_25_demand', 'node_22_pressure', 'node_13_demand', 'link_8_flow', 'reservoir_demand', 'link_13_flow', 'link_25_flow', 'node_15_pressure', 'node_2_pressure', 'node_5_demand', 'node_4_pressure', 'node_27_demand', 'node_29_demand', 'reservoir_pressure', 'node_30_pressure', 'node_7_demand', 'link_10_flow', 'node_24_demand', 'node_14_pressure', 'link_24_flow', 'link_19_flow', 'node_6_demand', 'node_11_demand', 'node_16_demand', 'link_31_flow', 'node_21_pressure', 'link_4_flow', 'node_10_pressure', 'node_11_pressure', 'link_27_flow', 'node_27_pressure', 'node_4_demand', 'node_28_pressure', 'node_22_demand']]\n",
      "starting df shape: (87600, 32)\n",
      "This is training run 5 and has the shape:  (87600, 32)\n",
      "The value of dropped columns is 65\n"
     ]
    },
    {
     "name": "stderr",
     "output_type": "stream",
     "text": [
      "/Users/alexellard/opt/anaconda3/lib/python3.7/site-packages/xgboost/data.py:96: UserWarning: Use subset (sliced data) of np.ndarray is not recommended because it will generate extra copies and increase memory consumption\n",
      "  \"because it will generate extra copies and increase \" +\n"
     ]
    },
    {
     "name": "stdout",
     "output_type": "stream",
     "text": [
      "test y shape : (17520, 1)\n",
      "Inv y shape : (17520, 32)\n",
      "y pred shape : (17520, 1)\n",
      "inv y pred : (17520, 32)\n",
      "Run 5 Mean Absolute Error: 9.87030779778345\n",
      "RMSE: 12.932\n",
      "R^2: 0.979\n",
      "[['node_26_demand', 'node_4_demand', 'link_23_flow', 'node_27_demand', 'node_1_demand', 'node_26_pressure', 'node_22_pressure', 'link_20_flow', 'node_20_demand', 'node_25_demand', 'node_21_demand', 'node_9_pressure', 'node_13_pressure', 'node_8_pressure', 'node_17_pressure', 'node_23_pressure', 'link_18_flow', 'node_29_pressure', 'link_27_flow', 'link_30_flow', 'node_19_pressure', 'node_13_demand', 'node_2_demand', 'node_30_pressure', 'node_11_pressure', 'link_11_flow', 'node_10_demand', 'node_7_demand', 'link_7_flow', 'node_24_demand', 'node_28_demand', 'link_12_flow', 'node_18_pressure', 'node_16_pressure', 'node_8_demand', 'node_31_demand', 'link_19_flow', 'node_15_demand', 'link_21_flow', 'link_15_flow', 'node_10_pressure', 'node_22_demand', 'link_31_flow', 'node_3_pressure', 'node_27_pressure', 'node_20_pressure', 'node_11_demand', 'link_25_flow', 'node_30_demand', 'node_29_demand', 'node_2_pressure', 'link_24_flow', 'node_12_pressure', 'link_22_flow', 'link_9_flow', 'node_14_pressure', 'node_3_demand', 'link_14_flow', 'link_6_flow', 'link_1_flow', 'node_9_demand', 'node_6_pressure', 'link_8_flow', 'node_7_pressure']]\n",
      "starting df shape: (87600, 32)\n",
      "This is training run 6 and has the shape:  (87600, 32)\n",
      "The value of dropped columns is 65\n"
     ]
    },
    {
     "name": "stderr",
     "output_type": "stream",
     "text": [
      "/Users/alexellard/opt/anaconda3/lib/python3.7/site-packages/xgboost/data.py:96: UserWarning: Use subset (sliced data) of np.ndarray is not recommended because it will generate extra copies and increase memory consumption\n",
      "  \"because it will generate extra copies and increase \" +\n"
     ]
    },
    {
     "name": "stdout",
     "output_type": "stream",
     "text": [
      "test y shape : (17520, 1)\n",
      "Inv y shape : (17520, 32)\n",
      "y pred shape : (17520, 1)\n",
      "inv y pred : (17520, 32)\n",
      "Run 6 Mean Absolute Error: 175.98821557157655\n",
      "RMSE: 232.958\n",
      "R^2: 0.975\n",
      "[['node_15_demand', 'link_26_flow', 'link_32_flow', 'link_24_flow', 'node_5_pressure', 'node_23_pressure', 'link_3_flow', 'link_19_flow', 'reservoir_demand', 'link_5_flow', 'node_12_pressure', 'node_25_demand', 'node_18_pressure', 'node_31_demand', 'node_16_demand', 'node_21_demand', 'link_7_flow', 'node_4_demand', 'link_10_flow', 'node_6_pressure', 'link_16_flow', 'node_24_pressure', 'node_7_pressure', 'node_11_pressure', 'node_3_pressure', 'node_13_pressure', 'node_25_pressure', 'node_23_demand', 'node_21_pressure', 'node_8_demand', 'node_17_pressure', 'node_26_demand', 'node_14_demand', 'node_5_demand', 'link_4_flow', 'node_12_demand', 'node_8_pressure', 'link_25_flow', 'node_22_demand', 'link_30_flow', 'link_12_flow', 'node_2_demand', 'node_30_pressure', 'node_19_pressure', 'node_18_demand', 'node_31_pressure', 'node_26_pressure', 'node_4_pressure', 'node_30_demand', 'link_11_flow', 'link_21_flow', 'node_14_pressure', 'node_9_pressure', 'node_28_pressure', 'link_14_flow', 'node_22_pressure', 'node_15_pressure', 'link_22_flow', 'node_16_pressure', 'node_10_pressure', 'node_29_pressure', 'node_27_demand', 'node_20_demand', 'node_20_pressure']]\n",
      "starting df shape: (87600, 32)\n",
      "This is training run 7 and has the shape:  (87600, 32)\n",
      "The value of dropped columns is 65\n"
     ]
    },
    {
     "name": "stderr",
     "output_type": "stream",
     "text": [
      "/Users/alexellard/opt/anaconda3/lib/python3.7/site-packages/xgboost/data.py:96: UserWarning: Use subset (sliced data) of np.ndarray is not recommended because it will generate extra copies and increase memory consumption\n",
      "  \"because it will generate extra copies and increase \" +\n"
     ]
    },
    {
     "name": "stdout",
     "output_type": "stream",
     "text": [
      "test y shape : (17520, 1)\n",
      "Inv y shape : (17520, 32)\n",
      "y pred shape : (17520, 1)\n",
      "inv y pred : (17520, 32)\n",
      "Run 7 Mean Absolute Error: 5.515522938593202\n",
      "RMSE: 7.125\n",
      "R^2: 0.994\n",
      "[['node_8_demand', 'node_6_pressure', 'node_18_pressure', 'node_4_pressure', 'link_28_flow', 'link_31_flow', 'node_5_demand', 'node_23_demand', 'node_24_demand', 'node_30_demand', 'node_10_pressure', 'link_2_flow', 'link_10_flow', 'node_28_demand', 'node_3_demand', 'node_16_pressure', 'node_11_pressure', 'node_16_demand', 'link_30_flow', 'node_19_demand', 'node_31_pressure', 'node_2_demand', 'node_7_demand', 'link_14_flow', 'node_24_pressure', 'node_27_demand', 'node_17_pressure', 'link_32_flow', 'link_25_flow', 'node_20_pressure', 'node_3_pressure', 'link_21_flow', 'node_2_pressure', 'link_19_flow', 'node_9_pressure', 'node_21_pressure', 'link_6_flow', 'node_26_pressure', 'node_19_pressure', 'node_25_demand', 'node_22_pressure', 'node_18_demand', 'node_7_pressure', 'reservoir_demand', 'link_8_flow', 'link_3_flow', 'node_29_demand', 'node_21_demand', 'link_9_flow', 'node_9_demand', 'link_24_flow', 'link_11_flow', 'node_14_demand', 'node_10_demand', 'link_13_flow', 'link_18_flow', 'node_15_pressure', 'link_1_flow', 'node_30_pressure', 'node_5_pressure', 'node_8_pressure', 'node_14_pressure', 'link_12_flow', 'node_4_demand']]\n",
      "starting df shape: (87600, 32)\n",
      "This is training run 8 and has the shape:  (87600, 32)\n",
      "The value of dropped columns is 65\n"
     ]
    },
    {
     "name": "stderr",
     "output_type": "stream",
     "text": [
      "/Users/alexellard/opt/anaconda3/lib/python3.7/site-packages/xgboost/data.py:96: UserWarning: Use subset (sliced data) of np.ndarray is not recommended because it will generate extra copies and increase memory consumption\n",
      "  \"because it will generate extra copies and increase \" +\n"
     ]
    },
    {
     "name": "stdout",
     "output_type": "stream",
     "text": [
      "test y shape : (17520, 1)\n",
      "Inv y shape : (17520, 32)\n",
      "y pred shape : (17520, 1)\n",
      "inv y pred : (17520, 32)\n",
      "Run 8 Mean Absolute Error: 10.482985773370281\n",
      "RMSE: 13.769\n",
      "R^2: 0.977\n",
      "[['node_12_demand', 'node_4_demand', 'node_27_demand', 'link_15_flow', 'node_9_demand', 'node_6_pressure', 'node_12_pressure', 'node_10_demand', 'node_3_demand', 'node_29_pressure', 'link_2_flow', 'node_13_demand', 'node_13_pressure', 'node_23_demand', 'node_14_demand', 'link_21_flow', 'node_29_demand', 'node_5_pressure', 'node_7_pressure', 'node_15_pressure', 'node_8_pressure', 'link_3_flow', 'node_20_pressure', 'link_9_flow', 'node_2_demand', 'node_16_demand', 'node_19_demand', 'link_19_flow', 'link_17_flow', 'node_6_demand', 'node_21_demand', 'link_11_flow', 'node_5_demand', 'link_30_flow', 'node_24_pressure', 'link_13_flow', 'link_10_flow', 'link_26_flow', 'node_15_demand', 'node_23_pressure', 'node_28_pressure', 'node_19_pressure', 'node_1_pressure', 'link_28_flow', 'reservoir_pressure', 'node_27_pressure', 'link_32_flow', 'link_25_flow', 'link_6_flow', 'link_12_flow', 'node_28_demand', 'link_7_flow', 'link_4_flow', 'node_9_pressure', 'link_18_flow', 'reservoir_demand', 'node_11_demand', 'link_14_flow', 'node_10_pressure', 'link_31_flow', 'link_23_flow', 'node_25_pressure', 'link_8_flow', 'link_5_flow']]\n",
      "starting df shape: (87600, 32)\n",
      "This is training run 9 and has the shape:  (87600, 32)\n",
      "The value of dropped columns is 65\n"
     ]
    },
    {
     "name": "stderr",
     "output_type": "stream",
     "text": [
      "/Users/alexellard/opt/anaconda3/lib/python3.7/site-packages/xgboost/data.py:96: UserWarning: Use subset (sliced data) of np.ndarray is not recommended because it will generate extra copies and increase memory consumption\n",
      "  \"because it will generate extra copies and increase \" +\n"
     ]
    },
    {
     "name": "stdout",
     "output_type": "stream",
     "text": [
      "test y shape : (17520, 1)\n",
      "Inv y shape : (17520, 32)\n",
      "y pred shape : (17520, 1)\n",
      "inv y pred : (17520, 32)\n",
      "Run 9 Mean Absolute Error: 11.074881147695322\n",
      "RMSE: 14.646\n",
      "R^2: 0.973\n",
      "[['link_24_flow', 'node_12_pressure', 'node_31_pressure', 'node_18_demand', 'node_2_demand', 'link_17_flow', 'node_27_demand', 'link_32_flow', 'link_7_flow', 'node_30_pressure', 'link_22_flow', 'link_11_flow', 'node_21_pressure', 'node_12_demand', 'link_8_flow', 'node_15_demand', 'node_25_pressure', 'link_13_flow', 'node_14_demand', 'link_30_flow', 'node_4_demand', 'reservoir_pressure', 'node_11_pressure', 'node_31_demand', 'node_28_pressure', 'link_18_flow', 'node_19_pressure', 'link_3_flow', 'node_26_demand', 'node_24_demand', 'node_13_pressure', 'node_13_demand', 'node_6_pressure', 'node_11_demand', 'node_10_demand', 'node_14_pressure', 'link_15_flow', 'link_28_flow', 'node_29_pressure', 'node_19_demand', 'node_22_demand', 'node_25_demand', 'node_2_pressure', 'link_20_flow', 'node_20_demand', 'reservoir_demand', 'node_4_pressure', 'link_9_flow', 'node_9_pressure', 'link_10_flow', 'node_8_pressure', 'link_14_flow', 'node_8_demand', 'link_16_flow', 'node_30_demand', 'node_3_pressure', 'node_20_pressure', 'link_23_flow', 'link_27_flow', 'node_10_pressure', 'node_21_demand', 'link_1_flow', 'node_18_pressure', 'link_6_flow', 'link_12_flow']]\n",
      "starting df shape: (87600, 31)\n",
      "This is training run 10 and has the shape:  (87600, 31)\n",
      "The value of dropped columns is 65\n"
     ]
    },
    {
     "name": "stderr",
     "output_type": "stream",
     "text": [
      "/Users/alexellard/opt/anaconda3/lib/python3.7/site-packages/xgboost/data.py:96: UserWarning: Use subset (sliced data) of np.ndarray is not recommended because it will generate extra copies and increase memory consumption\n",
      "  \"because it will generate extra copies and increase \" +\n"
     ]
    },
    {
     "name": "stdout",
     "output_type": "stream",
     "text": [
      "test y shape : (17520, 1)\n",
      "Inv y shape : (17520, 31)\n",
      "y pred shape : (17520, 1)\n",
      "inv y pred : (17520, 31)\n",
      "Run 10 Mean Absolute Error: 6.707872316537246\n",
      "RMSE: 8.743\n",
      "R^2: 0.991\n",
      "[['node_15_demand', 'node_31_pressure', 'link_3_flow', 'node_24_demand', 'node_13_demand', 'link_9_flow', 'node_2_demand', 'node_28_demand', 'node_1_pressure', 'link_5_flow', 'node_11_pressure', 'node_2_pressure', 'node_5_pressure', 'link_13_flow', 'link_7_flow', 'node_4_pressure', 'node_20_demand', 'node_12_demand', 'node_17_demand', 'node_16_pressure', 'link_21_flow', 'node_22_demand', 'node_26_pressure', 'node_3_pressure', 'node_23_pressure', 'link_6_flow', 'node_8_pressure', 'link_22_flow', 'link_14_flow', 'node_5_demand', 'link_1_flow', 'node_21_pressure', 'node_10_pressure', 'node_18_demand', 'link_27_flow', 'link_24_flow', 'node_7_pressure', 'link_2_flow', 'node_6_demand', 'node_14_pressure', 'node_18_pressure', 'link_20_flow', 'node_15_pressure', 'node_9_demand', 'link_18_flow', 'link_12_flow', 'node_27_pressure', 'node_29_pressure', 'link_17_flow', 'link_19_flow', 'link_16_flow', 'link_15_flow', 'node_3_demand', 'node_8_demand', 'link_23_flow', 'node_1_demand', 'node_25_demand', 'node_11_demand', 'link_4_flow', 'node_14_demand', 'reservoir_demand', 'node_23_demand', 'link_8_flow', 'node_22_pressure', 'node_13_pressure', 'node_17_pressure', 'link_30_flow', 'node_10_demand', 'link_32_flow']]\n",
      "starting df shape: (87600, 27)\n",
      "This is training run 1 and has the shape:  (87600, 27)\n",
      "The value of dropped columns is 70\n"
     ]
    },
    {
     "name": "stderr",
     "output_type": "stream",
     "text": [
      "/Users/alexellard/opt/anaconda3/lib/python3.7/site-packages/xgboost/data.py:96: UserWarning: Use subset (sliced data) of np.ndarray is not recommended because it will generate extra copies and increase memory consumption\n",
      "  \"because it will generate extra copies and increase \" +\n"
     ]
    },
    {
     "name": "stdout",
     "output_type": "stream",
     "text": [
      "test y shape : (17520, 1)\n",
      "Inv y shape : (17520, 27)\n",
      "y pred shape : (17520, 1)\n",
      "inv y pred : (17520, 27)\n",
      "Run 1 Mean Absolute Error: 4.993254006396825\n",
      "RMSE: 6.386\n",
      "R^2: 0.990\n",
      "[['node_23_demand', 'node_17_demand', 'node_11_demand', 'link_28_flow', 'node_17_pressure', 'node_9_demand', 'node_26_pressure', 'node_29_demand', 'node_31_pressure', 'link_6_flow', 'reservoir_pressure', 'link_3_flow', 'link_31_flow', 'node_20_demand', 'node_15_demand', 'node_1_demand', 'node_13_demand', 'node_8_demand', 'node_25_pressure', 'node_14_pressure', 'link_24_flow', 'link_20_flow', 'node_4_pressure', 'node_27_demand', 'node_24_pressure', 'node_23_pressure', 'node_14_demand', 'node_5_pressure', 'node_16_pressure', 'node_21_pressure', 'link_21_flow', 'node_12_pressure', 'node_2_pressure', 'node_19_demand', 'link_8_flow', 'link_25_flow', 'node_8_pressure', 'node_5_demand', 'node_30_demand', 'node_18_pressure', 'node_31_demand', 'node_16_demand', 'node_28_pressure', 'link_2_flow', 'link_16_flow', 'node_10_pressure', 'link_12_flow', 'node_3_pressure', 'link_9_flow', 'link_32_flow', 'node_3_demand', 'link_30_flow', 'link_15_flow', 'node_19_pressure', 'link_10_flow', 'link_19_flow', 'node_28_demand', 'node_11_pressure', 'node_1_pressure', 'node_24_demand', 'node_22_demand', 'node_13_pressure', 'node_30_pressure', 'link_1_flow', 'node_27_pressure', 'node_29_pressure', 'link_26_flow', 'node_6_pressure', 'node_22_pressure']]\n",
      "starting df shape: (87600, 27)\n",
      "This is training run 2 and has the shape:  (87600, 27)\n",
      "The value of dropped columns is 70\n"
     ]
    },
    {
     "name": "stderr",
     "output_type": "stream",
     "text": [
      "/Users/alexellard/opt/anaconda3/lib/python3.7/site-packages/xgboost/data.py:96: UserWarning: Use subset (sliced data) of np.ndarray is not recommended because it will generate extra copies and increase memory consumption\n",
      "  \"because it will generate extra copies and increase \" +\n"
     ]
    },
    {
     "name": "stdout",
     "output_type": "stream",
     "text": [
      "test y shape : (17520, 1)\n",
      "Inv y shape : (17520, 27)\n",
      "y pred shape : (17520, 1)\n",
      "inv y pred : (17520, 27)\n",
      "Run 2 Mean Absolute Error: 173.57023887378296\n",
      "RMSE: 227.779\n",
      "R^2: 0.976\n",
      "[['node_13_demand', 'node_14_demand', 'node_29_pressure', 'link_32_flow', 'node_3_pressure', 'link_6_flow', 'link_27_flow', 'link_28_flow', 'link_17_flow', 'link_14_flow', 'node_27_pressure', 'node_6_demand', 'link_18_flow', 'node_26_pressure', 'node_23_demand', 'node_2_demand', 'node_25_demand', 'node_4_pressure', 'node_3_demand', 'node_10_demand', 'node_19_demand', 'node_21_demand', 'link_20_flow', 'node_8_demand', 'node_25_pressure', 'node_23_pressure', 'node_29_demand', 'link_12_flow', 'node_28_demand', 'link_26_flow', 'reservoir_pressure', 'link_19_flow', 'node_10_pressure', 'link_24_flow', 'node_24_pressure', 'link_8_flow', 'node_21_pressure', 'node_24_demand', 'node_14_pressure', 'link_23_flow', 'node_15_pressure', 'node_4_demand', 'node_1_pressure', 'link_25_flow', 'node_12_demand', 'link_31_flow', 'node_20_pressure', 'node_17_pressure', 'node_5_pressure', 'node_30_pressure', 'node_19_pressure', 'link_7_flow', 'node_12_pressure', 'node_9_demand', 'node_18_pressure', 'link_5_flow', 'node_11_demand', 'node_31_pressure', 'link_10_flow', 'node_28_pressure', 'node_7_pressure', 'node_27_demand', 'node_31_demand', 'node_7_demand', 'link_3_flow', 'node_22_demand', 'node_6_pressure', 'link_15_flow', 'node_15_demand']]\n",
      "starting df shape: (87600, 27)\n",
      "This is training run 3 and has the shape:  (87600, 27)\n",
      "The value of dropped columns is 70\n"
     ]
    },
    {
     "name": "stderr",
     "output_type": "stream",
     "text": [
      "/Users/alexellard/opt/anaconda3/lib/python3.7/site-packages/xgboost/data.py:96: UserWarning: Use subset (sliced data) of np.ndarray is not recommended because it will generate extra copies and increase memory consumption\n",
      "  \"because it will generate extra copies and increase \" +\n"
     ]
    },
    {
     "name": "stdout",
     "output_type": "stream",
     "text": [
      "test y shape : (17520, 1)\n",
      "Inv y shape : (17520, 27)\n",
      "y pred shape : (17520, 1)\n",
      "inv y pred : (17520, 27)\n",
      "Run 3 Mean Absolute Error: 171.8441534574758\n",
      "RMSE: 223.184\n",
      "R^2: 0.977\n",
      "[['link_9_flow', 'link_20_flow', 'node_6_pressure', 'link_14_flow', 'node_4_pressure', 'node_9_pressure', 'node_19_demand', 'node_29_demand', 'node_12_demand', 'node_20_pressure', 'link_27_flow', 'node_14_demand', 'node_30_pressure', 'node_6_demand', 'node_14_pressure', 'link_8_flow', 'node_11_pressure', 'node_22_pressure', 'node_13_pressure', 'node_22_demand', 'node_27_pressure', 'node_31_pressure', 'node_31_demand', 'link_18_flow', 'link_25_flow', 'node_24_pressure', 'node_8_demand', 'node_5_pressure', 'node_17_demand', 'node_21_pressure', 'node_15_demand', 'node_2_pressure', 'node_20_demand', 'link_31_flow', 'node_5_demand', 'node_18_demand', 'link_28_flow', 'node_12_pressure', 'link_17_flow', 'link_6_flow', 'link_5_flow', 'node_7_demand', 'node_28_pressure', 'node_28_demand', 'node_21_demand', 'node_11_demand', 'node_10_pressure', 'link_1_flow', 'link_11_flow', 'link_22_flow', 'node_1_pressure', 'node_24_demand', 'link_3_flow', 'reservoir_pressure', 'link_2_flow', 'node_26_pressure', 'node_13_demand', 'node_16_demand', 'node_9_demand', 'link_23_flow', 'node_16_pressure', 'node_23_pressure', 'node_7_pressure', 'link_15_flow', 'node_3_pressure', 'link_13_flow', 'link_30_flow', 'node_23_demand', 'link_24_flow']]\n",
      "starting df shape: (87600, 27)\n",
      "This is training run 4 and has the shape:  (87600, 27)\n",
      "The value of dropped columns is 70\n"
     ]
    },
    {
     "name": "stderr",
     "output_type": "stream",
     "text": [
      "/Users/alexellard/opt/anaconda3/lib/python3.7/site-packages/xgboost/data.py:96: UserWarning: Use subset (sliced data) of np.ndarray is not recommended because it will generate extra copies and increase memory consumption\n",
      "  \"because it will generate extra copies and increase \" +\n"
     ]
    },
    {
     "name": "stdout",
     "output_type": "stream",
     "text": [
      "test y shape : (17520, 1)\n",
      "Inv y shape : (17520, 27)\n",
      "y pred shape : (17520, 1)\n",
      "inv y pred : (17520, 27)\n",
      "Run 4 Mean Absolute Error: 178.4442681776987\n",
      "RMSE: 234.051\n",
      "R^2: 0.975\n",
      "[['link_19_flow', 'node_16_pressure', 'node_12_pressure', 'node_16_demand', 'node_17_pressure', 'node_27_demand', 'reservoir_pressure', 'link_12_flow', 'link_20_flow', 'link_30_flow', 'node_30_demand', 'node_17_demand', 'node_10_pressure', 'node_4_demand', 'node_15_demand', 'node_5_demand', 'node_14_demand', 'node_19_demand', 'node_9_demand', 'node_22_demand', 'link_7_flow', 'node_24_pressure', 'node_2_pressure', 'link_27_flow', 'link_25_flow', 'node_2_demand', 'node_31_pressure', 'link_32_flow', 'link_14_flow', 'node_23_pressure', 'node_6_pressure', 'node_14_pressure', 'node_4_pressure', 'link_10_flow', 'node_18_demand', 'node_31_demand', 'link_8_flow', 'link_22_flow', 'node_28_pressure', 'node_13_demand', 'node_23_demand', 'node_6_demand', 'link_4_flow', 'link_17_flow', 'node_21_pressure', 'link_24_flow', 'node_24_demand', 'link_6_flow', 'node_29_pressure', 'node_28_demand', 'node_13_pressure', 'node_5_pressure', 'link_28_flow', 'node_19_pressure', 'link_31_flow', 'link_11_flow', 'node_11_demand', 'reservoir_demand', 'node_18_pressure', 'node_30_pressure', 'link_23_flow', 'link_15_flow', 'node_22_pressure', 'link_13_flow', 'node_3_demand', 'node_3_pressure', 'node_29_demand', 'link_21_flow', 'node_26_pressure']]\n",
      "starting df shape: (87600, 27)\n",
      "This is training run 5 and has the shape:  (87600, 27)\n",
      "The value of dropped columns is 70\n"
     ]
    },
    {
     "name": "stderr",
     "output_type": "stream",
     "text": [
      "/Users/alexellard/opt/anaconda3/lib/python3.7/site-packages/xgboost/data.py:96: UserWarning: Use subset (sliced data) of np.ndarray is not recommended because it will generate extra copies and increase memory consumption\n",
      "  \"because it will generate extra copies and increase \" +\n"
     ]
    },
    {
     "name": "stdout",
     "output_type": "stream",
     "text": [
      "test y shape : (17520, 1)\n",
      "Inv y shape : (17520, 27)\n",
      "y pred shape : (17520, 1)\n",
      "inv y pred : (17520, 27)\n",
      "Run 5 Mean Absolute Error: 11.584838682135493\n",
      "RMSE: 15.183\n",
      "R^2: 0.972\n",
      "[['node_7_demand', 'link_14_flow', 'node_22_pressure', 'node_8_pressure', 'node_15_pressure', 'link_13_flow', 'link_27_flow', 'node_28_pressure', 'link_3_flow', 'node_27_pressure', 'node_10_pressure', 'node_28_demand', 'link_30_flow', 'link_8_flow', 'node_18_demand', 'node_23_demand', 'node_13_demand', 'node_5_demand', 'node_17_demand', 'node_26_demand', 'link_17_flow', 'link_12_flow', 'node_30_demand', 'link_19_flow', 'link_5_flow', 'link_16_flow', 'link_10_flow', 'node_18_pressure', 'node_5_pressure', 'link_20_flow', 'node_30_pressure', 'node_22_demand', 'node_7_pressure', 'node_14_pressure', 'link_9_flow', 'node_9_demand', 'node_29_pressure', 'link_21_flow', 'node_25_pressure', 'link_7_flow', 'link_24_flow', 'node_4_demand', 'node_26_pressure', 'node_1_pressure', 'link_31_flow', 'link_11_flow', 'node_10_demand', 'link_28_flow', 'reservoir_demand', 'node_16_demand', 'node_2_pressure', 'node_17_pressure', 'node_2_demand', 'node_12_pressure', 'node_15_demand', 'node_19_demand', 'node_14_demand', 'link_22_flow', 'node_19_pressure', 'node_11_pressure', 'node_4_pressure', 'node_12_demand', 'node_16_pressure', 'link_23_flow', 'node_3_pressure', 'reservoir_pressure', 'link_32_flow', 'node_6_demand', 'node_1_demand', 'link_1_flow']]\n",
      "starting df shape: (87600, 26)\n",
      "This is training run 6 and has the shape:  (87600, 26)\n",
      "The value of dropped columns is 70\n"
     ]
    },
    {
     "name": "stderr",
     "output_type": "stream",
     "text": [
      "/Users/alexellard/opt/anaconda3/lib/python3.7/site-packages/xgboost/data.py:96: UserWarning: Use subset (sliced data) of np.ndarray is not recommended because it will generate extra copies and increase memory consumption\n",
      "  \"because it will generate extra copies and increase \" +\n"
     ]
    },
    {
     "name": "stdout",
     "output_type": "stream",
     "text": [
      "test y shape : (17520, 1)\n",
      "Inv y shape : (17520, 26)\n",
      "y pred shape : (17520, 1)\n",
      "inv y pred : (17520, 26)\n",
      "Run 6 Mean Absolute Error: 1.4520622921010398\n",
      "RMSE: 1.957\n",
      "R^2: 0.977\n",
      "[['link_2_flow', 'node_24_demand', 'node_4_demand', 'node_30_demand', 'node_27_demand', 'link_21_flow', 'node_19_demand', 'node_21_pressure', 'node_26_demand', 'node_3_pressure', 'node_17_demand', 'node_1_pressure', 'node_25_demand', 'node_31_pressure', 'node_22_pressure', 'link_5_flow', 'link_27_flow', 'link_30_flow', 'node_14_pressure', 'link_7_flow', 'node_13_demand', 'node_17_pressure', 'node_28_pressure', 'node_20_pressure', 'link_24_flow', 'link_14_flow', 'link_10_flow', 'node_28_demand', 'node_4_pressure', 'node_15_demand', 'node_31_demand', 'node_16_demand', 'node_20_demand', 'node_1_demand', 'node_13_pressure', 'node_18_demand', 'link_1_flow', 'link_25_flow', 'node_6_pressure', 'link_15_flow', 'link_4_flow', 'link_18_flow', 'node_27_pressure', 'node_8_demand', 'node_15_pressure', 'link_23_flow', 'node_5_pressure', 'node_25_pressure', 'node_7_demand', 'link_9_flow', 'reservoir_demand', 'link_8_flow', 'node_6_demand', 'link_12_flow', 'node_10_pressure', 'node_26_pressure', 'node_16_pressure', 'link_16_flow', 'node_9_demand', 'link_32_flow', 'node_2_pressure', 'link_13_flow', 'node_11_pressure', 'node_12_demand', 'link_19_flow', 'node_11_demand', 'node_29_pressure', 'link_22_flow', 'node_2_demand', 'link_3_flow']]\n",
      "starting df shape: (87600, 26)\n",
      "This is training run 7 and has the shape:  (87600, 26)\n",
      "The value of dropped columns is 70\n"
     ]
    },
    {
     "name": "stderr",
     "output_type": "stream",
     "text": [
      "/Users/alexellard/opt/anaconda3/lib/python3.7/site-packages/xgboost/data.py:96: UserWarning: Use subset (sliced data) of np.ndarray is not recommended because it will generate extra copies and increase memory consumption\n",
      "  \"because it will generate extra copies and increase \" +\n"
     ]
    },
    {
     "name": "stdout",
     "output_type": "stream",
     "text": [
      "test y shape : (17520, 1)\n",
      "Inv y shape : (17520, 26)\n",
      "y pred shape : (17520, 1)\n",
      "inv y pred : (17520, 26)\n",
      "Run 7 Mean Absolute Error: 1.0810984618676032\n",
      "RMSE: 1.381\n",
      "R^2: 0.989\n",
      "[['node_3_demand', 'node_20_demand', 'node_5_pressure', 'link_21_flow', 'node_24_pressure', 'node_16_pressure', 'link_8_flow', 'link_18_flow', 'node_22_demand', 'node_22_pressure', 'link_24_flow', 'node_17_pressure', 'node_7_pressure', 'node_19_demand', 'node_6_demand', 'node_11_demand', 'node_31_pressure', 'node_3_pressure', 'node_2_demand', 'node_26_demand', 'link_22_flow', 'node_9_pressure', 'node_29_pressure', 'link_16_flow', 'link_20_flow', 'link_10_flow', 'link_11_flow', 'node_13_demand', 'link_26_flow', 'node_9_demand', 'link_30_flow', 'node_8_demand', 'node_12_demand', 'node_30_demand', 'link_23_flow', 'node_28_demand', 'node_4_demand', 'link_32_flow', 'node_16_demand', 'node_1_pressure', 'link_31_flow', 'node_13_pressure', 'link_4_flow', 'node_30_pressure', 'node_15_demand', 'node_1_demand', 'link_3_flow', 'reservoir_pressure', 'link_25_flow', 'node_14_demand', 'node_14_pressure', 'node_18_demand', 'link_9_flow', 'node_10_pressure', 'node_11_pressure', 'node_12_pressure', 'node_6_pressure', 'node_21_pressure', 'link_13_flow', 'node_4_pressure', 'link_12_flow', 'node_23_demand', 'node_19_pressure', 'link_2_flow', 'node_27_demand', 'link_27_flow', 'node_25_pressure', 'node_23_pressure', 'node_17_demand']]\n",
      "starting df shape: (87600, 27)\n",
      "This is training run 8 and has the shape:  (87600, 27)\n",
      "The value of dropped columns is 70\n"
     ]
    },
    {
     "name": "stderr",
     "output_type": "stream",
     "text": [
      "/Users/alexellard/opt/anaconda3/lib/python3.7/site-packages/xgboost/data.py:96: UserWarning: Use subset (sliced data) of np.ndarray is not recommended because it will generate extra copies and increase memory consumption\n",
      "  \"because it will generate extra copies and increase \" +\n"
     ]
    },
    {
     "name": "stdout",
     "output_type": "stream",
     "text": [
      "test y shape : (17520, 1)\n",
      "Inv y shape : (17520, 27)\n",
      "y pred shape : (17520, 1)\n",
      "inv y pred : (17520, 27)\n",
      "Run 8 Mean Absolute Error: 150.59520000253227\n",
      "RMSE: 199.040\n",
      "R^2: 0.982\n",
      "[['node_28_demand', 'node_21_pressure', 'node_8_pressure', 'link_3_flow', 'link_17_flow', 'link_26_flow', 'node_25_pressure', 'link_22_flow', 'node_4_demand', 'node_18_demand', 'node_9_demand', 'reservoir_demand', 'node_17_pressure', 'node_8_demand', 'node_15_pressure', 'node_13_demand', 'node_29_pressure', 'node_14_demand', 'link_4_flow', 'link_2_flow', 'link_18_flow', 'link_28_flow', 'link_6_flow', 'link_13_flow', 'node_28_pressure', 'node_27_pressure', 'node_24_pressure', 'node_30_demand', 'link_30_flow', 'node_5_pressure', 'node_2_pressure', 'link_16_flow', 'node_6_demand', 'node_31_pressure', 'link_9_flow', 'link_19_flow', 'link_7_flow', 'link_24_flow', 'link_12_flow', 'link_32_flow', 'link_15_flow', 'node_16_demand', 'node_4_pressure', 'node_7_demand', 'link_1_flow', 'node_15_demand', 'node_12_demand', 'node_6_pressure', 'link_14_flow', 'node_13_pressure', 'reservoir_pressure', 'node_31_demand', 'link_8_flow', 'link_11_flow', 'node_7_pressure', 'node_5_demand', 'node_22_pressure', 'node_12_pressure', 'node_11_pressure', 'link_21_flow', 'link_23_flow', 'node_10_pressure', 'node_20_pressure', 'node_3_pressure', 'node_23_demand', 'node_25_demand', 'link_25_flow', 'node_16_pressure', 'node_10_demand']]\n",
      "starting df shape: (87600, 27)\n",
      "This is training run 9 and has the shape:  (87600, 27)\n",
      "The value of dropped columns is 70\n"
     ]
    },
    {
     "name": "stderr",
     "output_type": "stream",
     "text": [
      "/Users/alexellard/opt/anaconda3/lib/python3.7/site-packages/xgboost/data.py:96: UserWarning: Use subset (sliced data) of np.ndarray is not recommended because it will generate extra copies and increase memory consumption\n",
      "  \"because it will generate extra copies and increase \" +\n"
     ]
    },
    {
     "name": "stdout",
     "output_type": "stream",
     "text": [
      "test y shape : (17520, 1)\n",
      "Inv y shape : (17520, 27)\n",
      "y pred shape : (17520, 1)\n",
      "inv y pred : (17520, 27)\n",
      "Run 9 Mean Absolute Error: 7.560366303155275\n",
      "RMSE: 9.757\n",
      "R^2: 0.988\n",
      "[['node_24_demand', 'link_3_flow', 'node_19_demand', 'node_21_demand', 'node_7_pressure', 'node_16_pressure', 'node_20_demand', 'node_15_demand', 'node_25_demand', 'link_4_flow', 'node_24_pressure', 'link_26_flow', 'node_2_pressure', 'node_27_demand', 'node_28_demand', 'node_19_pressure', 'node_18_pressure', 'node_6_pressure', 'link_30_flow', 'node_10_demand', 'node_13_demand', 'node_3_pressure', 'link_24_flow', 'node_20_pressure', 'node_29_pressure', 'node_26_demand', 'link_25_flow', 'node_12_demand', 'node_17_demand', 'node_28_pressure', 'node_14_demand', 'link_12_flow', 'link_7_flow', 'node_23_demand', 'link_1_flow', 'node_16_demand', 'node_3_demand', 'node_9_pressure', 'node_5_pressure', 'node_1_pressure', 'node_14_pressure', 'link_16_flow', 'node_9_demand', 'link_27_flow', 'node_6_demand', 'link_19_flow', 'node_13_pressure', 'node_4_demand', 'node_8_demand', 'link_13_flow', 'node_12_pressure', 'link_10_flow', 'link_11_flow', 'node_17_pressure', 'node_26_pressure', 'link_8_flow', 'link_9_flow', 'node_15_pressure', 'link_5_flow', 'link_2_flow', 'link_17_flow', 'link_18_flow', 'node_11_demand', 'node_22_pressure', 'node_5_demand', 'node_11_pressure', 'link_15_flow', 'node_30_pressure', 'node_2_demand']]\n",
      "starting df shape: (87600, 27)\n",
      "This is training run 10 and has the shape:  (87600, 27)\n",
      "The value of dropped columns is 70\n"
     ]
    },
    {
     "name": "stderr",
     "output_type": "stream",
     "text": [
      "/Users/alexellard/opt/anaconda3/lib/python3.7/site-packages/xgboost/data.py:96: UserWarning: Use subset (sliced data) of np.ndarray is not recommended because it will generate extra copies and increase memory consumption\n",
      "  \"because it will generate extra copies and increase \" +\n"
     ]
    },
    {
     "name": "stdout",
     "output_type": "stream",
     "text": [
      "test y shape : (17520, 1)\n",
      "Inv y shape : (17520, 27)\n",
      "y pred shape : (17520, 1)\n",
      "inv y pred : (17520, 27)\n",
      "Run 10 Mean Absolute Error: 111.93151397731202\n",
      "RMSE: 143.094\n",
      "R^2: 0.991\n",
      "[['node_4_demand', 'node_28_pressure', 'link_9_flow', 'link_14_flow', 'node_16_pressure', 'node_12_pressure', 'node_30_pressure', 'link_16_flow', 'node_22_pressure', 'node_15_pressure', 'link_7_flow', 'link_27_flow', 'node_29_demand', 'node_9_pressure', 'node_27_pressure', 'node_25_demand', 'node_20_demand', 'link_18_flow', 'link_25_flow', 'node_2_demand', 'node_18_demand', 'node_4_pressure', 'node_16_demand', 'link_26_flow', 'link_5_flow', 'node_10_demand', 'node_2_pressure', 'reservoir_pressure', 'node_21_pressure', 'node_9_demand', 'node_15_demand', 'node_31_demand', 'link_23_flow', 'node_31_pressure', 'node_20_pressure', 'link_15_flow', 'node_26_demand', 'node_11_demand', 'node_27_demand', 'link_32_flow', 'node_17_demand', 'link_19_flow', 'node_6_pressure', 'node_11_pressure', 'link_20_flow', 'node_22_demand', 'node_30_demand', 'link_22_flow', 'node_13_demand', 'node_28_demand', 'node_18_pressure', 'link_4_flow', 'link_8_flow', 'node_13_pressure', 'link_11_flow', 'node_1_demand', 'link_3_flow', 'node_19_pressure', 'reservoir_demand', 'node_23_demand', 'node_23_pressure', 'link_1_flow', 'link_31_flow', 'node_6_demand', 'node_14_demand', 'link_21_flow', 'node_26_pressure', 'node_10_pressure', 'node_8_pressure', 'link_12_flow', 'node_5_pressure', 'node_1_pressure', 'node_17_pressure', 'node_3_pressure']]\n",
      "starting df shape: (87600, 22)\n",
      "This is training run 1 and has the shape:  (87600, 22)\n",
      "The value of dropped columns is 75\n"
     ]
    },
    {
     "name": "stderr",
     "output_type": "stream",
     "text": [
      "/Users/alexellard/opt/anaconda3/lib/python3.7/site-packages/xgboost/data.py:96: UserWarning: Use subset (sliced data) of np.ndarray is not recommended because it will generate extra copies and increase memory consumption\n",
      "  \"because it will generate extra copies and increase \" +\n"
     ]
    },
    {
     "name": "stdout",
     "output_type": "stream",
     "text": [
      "test y shape : (17520, 1)\n",
      "Inv y shape : (17520, 22)\n",
      "y pred shape : (17520, 1)\n",
      "inv y pred : (17520, 22)\n",
      "Run 1 Mean Absolute Error: 1.5442061260575297\n",
      "RMSE: 1.998\n",
      "R^2: 0.976\n",
      "[['node_6_pressure', 'node_31_demand', 'node_2_pressure', 'link_7_flow', 'node_20_pressure', 'node_25_demand', 'node_21_demand', 'node_24_pressure', 'node_8_demand', 'link_30_flow', 'link_28_flow', 'node_3_demand', 'link_9_flow', 'node_8_pressure', 'node_30_demand', 'reservoir_pressure', 'node_15_pressure', 'node_13_pressure', 'node_6_demand', 'node_22_pressure', 'node_16_pressure', 'node_28_demand', 'node_14_demand', 'node_26_pressure', 'node_7_demand', 'node_10_demand', 'node_18_demand', 'node_26_demand', 'node_19_demand', 'link_27_flow', 'node_14_pressure', 'node_9_pressure', 'node_29_demand', 'node_27_pressure', 'link_26_flow', 'node_12_demand', 'node_19_pressure', 'link_22_flow', 'node_31_pressure', 'reservoir_demand', 'link_2_flow', 'node_4_demand', 'node_30_pressure', 'link_6_flow', 'node_11_demand', 'link_23_flow', 'node_10_pressure', 'link_10_flow', 'link_21_flow', 'link_12_flow', 'link_24_flow', 'link_31_flow', 'link_8_flow', 'link_3_flow', 'link_20_flow', 'node_23_demand', 'node_29_pressure', 'node_17_demand', 'node_9_demand', 'node_22_demand', 'node_28_pressure', 'node_1_demand', 'node_12_pressure', 'node_27_demand', 'link_5_flow', 'link_17_flow', 'node_5_pressure', 'node_18_pressure', 'node_1_pressure', 'link_15_flow', 'link_16_flow', 'node_24_demand', 'node_25_pressure', 'link_4_flow']]\n",
      "starting df shape: (87600, 22)\n",
      "This is training run 2 and has the shape:  (87600, 22)\n",
      "The value of dropped columns is 75\n"
     ]
    },
    {
     "name": "stderr",
     "output_type": "stream",
     "text": [
      "/Users/alexellard/opt/anaconda3/lib/python3.7/site-packages/xgboost/data.py:96: UserWarning: Use subset (sliced data) of np.ndarray is not recommended because it will generate extra copies and increase memory consumption\n",
      "  \"because it will generate extra copies and increase \" +\n"
     ]
    },
    {
     "name": "stdout",
     "output_type": "stream",
     "text": [
      "test y shape : (17520, 1)\n",
      "Inv y shape : (17520, 22)\n",
      "y pred shape : (17520, 1)\n",
      "inv y pred : (17520, 22)\n",
      "Run 2 Mean Absolute Error: 9.7728860003344\n",
      "RMSE: 12.914\n",
      "R^2: 0.974\n",
      "[['node_24_demand', 'link_5_flow', 'node_10_pressure', 'node_17_demand', 'node_31_demand', 'node_18_demand', 'node_14_pressure', 'link_32_flow', 'link_18_flow', 'node_3_pressure', 'node_23_demand', 'node_8_demand', 'link_13_flow', 'node_6_demand', 'node_17_pressure', 'link_10_flow', 'link_8_flow', 'node_8_pressure', 'node_20_pressure', 'node_6_pressure', 'link_3_flow', 'link_20_flow', 'node_28_demand', 'node_26_demand', 'link_11_flow', 'node_22_pressure', 'link_24_flow', 'node_15_demand', 'node_1_pressure', 'node_9_demand', 'node_10_demand', 'link_16_flow', 'node_31_pressure', 'link_25_flow', 'node_12_demand', 'reservoir_demand', 'node_25_demand', 'link_27_flow', 'link_15_flow', 'node_2_pressure', 'link_12_flow', 'link_14_flow', 'link_1_flow', 'node_28_pressure', 'node_11_pressure', 'node_21_demand', 'node_13_pressure', 'node_25_pressure', 'link_23_flow', 'node_2_demand', 'node_5_demand', 'link_9_flow', 'node_16_demand', 'node_13_demand', 'node_30_pressure', 'node_18_pressure', 'link_28_flow', 'node_30_demand', 'node_4_pressure', 'node_19_pressure', 'node_16_pressure', 'node_14_demand', 'link_31_flow', 'link_7_flow', 'link_30_flow', 'node_4_demand', 'node_19_demand', 'node_27_demand', 'node_1_demand', 'node_22_demand', 'link_19_flow', 'node_15_pressure', 'node_29_pressure', 'node_21_pressure']]\n",
      "starting df shape: (87600, 22)\n",
      "This is training run 3 and has the shape:  (87600, 22)\n",
      "The value of dropped columns is 75\n"
     ]
    },
    {
     "name": "stderr",
     "output_type": "stream",
     "text": [
      "/Users/alexellard/opt/anaconda3/lib/python3.7/site-packages/xgboost/data.py:96: UserWarning: Use subset (sliced data) of np.ndarray is not recommended because it will generate extra copies and increase memory consumption\n",
      "  \"because it will generate extra copies and increase \" +\n"
     ]
    },
    {
     "name": "stdout",
     "output_type": "stream",
     "text": [
      "test y shape : (17520, 1)\n",
      "Inv y shape : (17520, 22)\n",
      "y pred shape : (17520, 1)\n",
      "inv y pred : (17520, 22)\n",
      "Run 3 Mean Absolute Error: 1.602959315194659\n",
      "RMSE: 2.104\n",
      "R^2: 0.974\n",
      "[['node_26_demand', 'link_32_flow', 'link_25_flow', 'link_1_flow', 'link_9_flow', 'link_13_flow', 'node_17_demand', 'link_12_flow', 'link_21_flow', 'link_16_flow', 'node_25_demand', 'node_14_demand', 'node_22_pressure', 'node_13_pressure', 'node_24_demand', 'node_27_demand', 'link_4_flow', 'node_3_demand', 'node_28_demand', 'node_1_pressure', 'node_10_demand', 'link_15_flow', 'node_18_pressure', 'node_29_demand', 'node_23_demand', 'node_25_pressure', 'node_19_demand', 'link_30_flow', 'node_7_pressure', 'node_16_pressure', 'node_10_pressure', 'node_21_pressure', 'link_10_flow', 'node_4_demand', 'link_28_flow', 'node_15_pressure', 'link_7_flow', 'link_23_flow', 'link_5_flow', 'link_3_flow', 'node_5_pressure', 'link_2_flow', 'node_21_demand', 'reservoir_demand', 'link_31_flow', 'node_8_demand', 'node_9_demand', 'node_26_pressure', 'node_5_demand', 'node_30_pressure', 'link_17_flow', 'link_27_flow', 'node_9_pressure', 'node_2_demand', 'link_6_flow', 'link_14_flow', 'node_15_demand', 'node_23_pressure', 'node_29_pressure', 'reservoir_pressure', 'node_4_pressure', 'node_3_pressure', 'node_2_pressure', 'link_22_flow', 'node_16_demand', 'node_31_pressure', 'node_12_pressure', 'link_8_flow', 'node_24_pressure', 'node_20_pressure', 'node_8_pressure', 'node_18_demand', 'node_17_pressure', 'node_30_demand', 'node_28_pressure']]\n",
      "starting df shape: (87600, 21)\n",
      "This is training run 4 and has the shape:  (87600, 21)\n",
      "The value of dropped columns is 75\n"
     ]
    },
    {
     "name": "stderr",
     "output_type": "stream",
     "text": [
      "/Users/alexellard/opt/anaconda3/lib/python3.7/site-packages/xgboost/data.py:96: UserWarning: Use subset (sliced data) of np.ndarray is not recommended because it will generate extra copies and increase memory consumption\n",
      "  \"because it will generate extra copies and increase \" +\n"
     ]
    },
    {
     "name": "stdout",
     "output_type": "stream",
     "text": [
      "test y shape : (17520, 1)\n",
      "Inv y shape : (17520, 21)\n",
      "y pred shape : (17520, 1)\n",
      "inv y pred : (17520, 21)\n",
      "Run 4 Mean Absolute Error: 11.145645235054298\n",
      "RMSE: 14.697\n",
      "R^2: 0.973\n",
      "[['node_31_demand', 'link_14_flow', 'reservoir_pressure', 'node_6_pressure', 'node_20_demand', 'node_25_pressure', 'node_11_pressure', 'link_32_flow', 'link_12_flow', 'node_8_demand', 'node_5_pressure', 'node_12_demand', 'node_20_pressure', 'link_4_flow', 'node_22_demand', 'node_30_pressure', 'node_3_demand', 'link_20_flow', 'link_3_flow', 'node_1_demand', 'node_2_pressure', 'link_9_flow', 'node_23_pressure', 'node_26_pressure', 'link_19_flow', 'node_4_pressure', 'link_21_flow', 'node_17_pressure', 'link_13_flow', 'link_5_flow', 'node_11_demand', 'node_14_pressure', 'link_1_flow', 'node_24_demand', 'node_30_demand', 'link_7_flow', 'node_2_demand', 'node_19_pressure', 'node_17_demand', 'link_27_flow', 'node_5_demand', 'node_12_pressure', 'link_8_flow', 'link_11_flow', 'link_31_flow', 'node_29_pressure', 'link_10_flow', 'link_23_flow', 'link_17_flow', 'link_30_flow', 'link_18_flow', 'node_6_demand', 'node_18_demand', 'node_16_pressure', 'link_16_flow', 'node_9_demand', 'link_6_flow', 'node_21_pressure', 'node_13_demand', 'node_14_demand', 'node_24_pressure', 'link_22_flow', 'node_31_pressure', 'node_13_pressure', 'node_15_pressure', 'node_1_pressure', 'node_22_pressure', 'node_10_demand', 'node_15_demand', 'node_16_demand', 'link_28_flow', 'node_28_demand', 'node_8_pressure', 'node_27_demand']]\n",
      "starting df shape: (87600, 22)\n",
      "This is training run 5 and has the shape:  (87600, 22)\n",
      "The value of dropped columns is 75\n"
     ]
    },
    {
     "name": "stderr",
     "output_type": "stream",
     "text": [
      "/Users/alexellard/opt/anaconda3/lib/python3.7/site-packages/xgboost/data.py:96: UserWarning: Use subset (sliced data) of np.ndarray is not recommended because it will generate extra copies and increase memory consumption\n",
      "  \"because it will generate extra copies and increase \" +\n"
     ]
    },
    {
     "name": "stdout",
     "output_type": "stream",
     "text": [
      "test y shape : (17520, 1)\n",
      "Inv y shape : (17520, 22)\n",
      "y pred shape : (17520, 1)\n",
      "inv y pred : (17520, 22)\n",
      "Run 5 Mean Absolute Error: 175.57732521057125\n",
      "RMSE: 234.334\n",
      "R^2: 0.975\n",
      "[['node_26_demand', 'reservoir_demand', 'node_14_pressure', 'node_3_demand', 'link_23_flow', 'node_15_demand', 'node_7_pressure', 'node_2_demand', 'node_12_pressure', 'node_16_demand', 'link_6_flow', 'node_4_pressure', 'link_4_flow', 'link_28_flow', 'node_11_pressure', 'link_22_flow', 'link_14_flow', 'node_10_demand', 'node_24_pressure', 'node_28_demand', 'node_3_pressure', 'node_7_demand', 'node_27_demand', 'link_18_flow', 'node_19_demand', 'link_32_flow', 'node_21_pressure', 'node_10_pressure', 'link_13_flow', 'node_1_pressure', 'node_18_demand', 'node_31_demand', 'node_6_demand', 'node_14_demand', 'node_1_demand', 'node_20_demand', 'node_20_pressure', 'link_1_flow', 'link_25_flow', 'node_6_pressure', 'link_7_flow', 'node_8_demand', 'link_19_flow', 'link_24_flow', 'node_5_demand', 'link_8_flow', 'node_11_demand', 'link_21_flow', 'link_17_flow', 'node_22_demand', 'node_23_demand', 'node_29_demand', 'node_2_pressure', 'link_2_flow', 'node_24_demand', 'node_25_pressure', 'node_13_pressure', 'node_30_pressure', 'link_12_flow', 'node_12_demand', 'link_15_flow', 'node_31_pressure', 'link_27_flow', 'link_31_flow', 'node_23_pressure', 'node_9_demand', 'link_10_flow', 'reservoir_pressure', 'link_9_flow', 'node_13_demand', 'node_22_pressure', 'node_25_demand', 'node_28_pressure', 'link_26_flow']]\n",
      "starting df shape: (87600, 22)\n",
      "This is training run 6 and has the shape:  (87600, 22)\n",
      "The value of dropped columns is 75\n"
     ]
    },
    {
     "name": "stderr",
     "output_type": "stream",
     "text": [
      "/Users/alexellard/opt/anaconda3/lib/python3.7/site-packages/xgboost/data.py:96: UserWarning: Use subset (sliced data) of np.ndarray is not recommended because it will generate extra copies and increase memory consumption\n",
      "  \"because it will generate extra copies and increase \" +\n"
     ]
    },
    {
     "name": "stdout",
     "output_type": "stream",
     "text": [
      "test y shape : (17520, 1)\n",
      "Inv y shape : (17520, 22)\n",
      "y pred shape : (17520, 1)\n",
      "inv y pred : (17520, 22)\n",
      "Run 6 Mean Absolute Error: 7.995827239623216\n",
      "RMSE: 10.384\n",
      "R^2: 0.975\n",
      "[['node_15_demand', 'link_18_flow', 'link_21_flow', 'reservoir_pressure', 'link_9_flow', 'node_15_pressure', 'link_20_flow', 'node_31_demand', 'link_1_flow', 'node_4_demand', 'node_28_demand', 'node_14_pressure', 'node_5_demand', 'link_30_flow', 'link_19_flow', 'node_2_pressure', 'node_23_pressure', 'link_6_flow', 'link_4_flow', 'link_27_flow', 'link_25_flow', 'node_21_demand', 'node_3_demand', 'node_27_pressure', 'link_17_flow', 'node_11_pressure', 'node_9_demand', 'node_1_pressure', 'node_17_demand', 'node_17_pressure', 'node_27_demand', 'link_10_flow', 'node_6_demand', 'node_8_demand', 'node_24_pressure', 'link_16_flow', 'link_15_flow', 'node_25_demand', 'link_22_flow', 'link_5_flow', 'node_1_demand', 'link_23_flow', 'node_19_pressure', 'link_2_flow', 'node_31_pressure', 'link_14_flow', 'node_20_pressure', 'node_12_pressure', 'node_8_pressure', 'node_29_demand', 'node_22_demand', 'link_13_flow', 'node_24_demand', 'node_19_demand', 'node_10_demand', 'node_11_demand', 'node_21_pressure', 'link_7_flow', 'node_26_demand', 'node_26_pressure', 'node_20_demand', 'reservoir_demand', 'node_7_pressure', 'link_26_flow', 'node_30_demand', 'node_12_demand', 'node_6_pressure', 'node_7_demand', 'link_3_flow', 'node_9_pressure', 'node_18_demand', 'link_12_flow', 'node_3_pressure', 'node_5_pressure']]\n",
      "starting df shape: (87600, 22)\n",
      "This is training run 7 and has the shape:  (87600, 22)\n",
      "The value of dropped columns is 75\n"
     ]
    },
    {
     "name": "stderr",
     "output_type": "stream",
     "text": [
      "/Users/alexellard/opt/anaconda3/lib/python3.7/site-packages/xgboost/data.py:96: UserWarning: Use subset (sliced data) of np.ndarray is not recommended because it will generate extra copies and increase memory consumption\n",
      "  \"because it will generate extra copies and increase \" +\n"
     ]
    },
    {
     "name": "stdout",
     "output_type": "stream",
     "text": [
      "test y shape : (17520, 1)\n",
      "Inv y shape : (17520, 22)\n",
      "y pred shape : (17520, 1)\n",
      "inv y pred : (17520, 22)\n",
      "Run 7 Mean Absolute Error: 9.2270492271683\n",
      "RMSE: 12.085\n",
      "R^2: 0.977\n",
      "[['node_20_demand', 'link_26_flow', 'reservoir_demand', 'node_19_demand', 'node_18_demand', 'link_14_flow', 'link_21_flow', 'node_24_pressure', 'node_16_demand', 'link_15_flow', 'link_9_flow', 'node_1_demand', 'node_5_demand', 'node_29_demand', 'node_2_pressure', 'link_27_flow', 'link_8_flow', 'node_9_pressure', 'node_14_demand', 'node_21_demand', 'node_2_demand', 'node_10_demand', 'node_9_demand', 'link_5_flow', 'link_24_flow', 'node_15_pressure', 'node_19_pressure', 'link_32_flow', 'node_12_pressure', 'node_31_pressure', 'node_8_demand', 'node_10_pressure', 'node_3_pressure', 'node_17_pressure', 'link_30_flow', 'node_27_pressure', 'node_28_demand', 'node_22_pressure', 'node_18_pressure', 'node_11_pressure', 'link_19_flow', 'node_13_pressure', 'node_22_demand', 'node_20_pressure', 'node_6_demand', 'reservoir_pressure', 'link_3_flow', 'node_29_pressure', 'link_2_flow', 'link_4_flow', 'link_20_flow', 'node_7_pressure', 'node_25_demand', 'node_17_demand', 'node_27_demand', 'node_11_demand', 'node_16_pressure', 'node_4_pressure', 'node_13_demand', 'node_30_pressure', 'link_22_flow', 'node_28_pressure', 'node_4_demand', 'node_6_pressure', 'node_12_demand', 'link_31_flow', 'node_25_pressure', 'link_23_flow', 'link_11_flow', 'node_14_pressure', 'link_10_flow', 'node_3_demand', 'node_8_pressure', 'node_31_demand', 'node_5_pressure']]\n",
      "starting df shape: (87600, 21)\n",
      "This is training run 8 and has the shape:  (87600, 21)\n",
      "The value of dropped columns is 75\n"
     ]
    },
    {
     "name": "stderr",
     "output_type": "stream",
     "text": [
      "/Users/alexellard/opt/anaconda3/lib/python3.7/site-packages/xgboost/data.py:96: UserWarning: Use subset (sliced data) of np.ndarray is not recommended because it will generate extra copies and increase memory consumption\n",
      "  \"because it will generate extra copies and increase \" +\n"
     ]
    },
    {
     "name": "stdout",
     "output_type": "stream",
     "text": [
      "test y shape : (17520, 1)\n",
      "Inv y shape : (17520, 21)\n",
      "y pred shape : (17520, 1)\n",
      "inv y pred : (17520, 21)\n",
      "Run 8 Mean Absolute Error: 6.59534897120848\n",
      "RMSE: 8.651\n",
      "R^2: 0.972\n",
      "[['node_8_pressure', 'node_1_demand', 'link_1_flow', 'node_20_pressure', 'node_29_pressure', 'link_17_flow', 'node_20_demand', 'link_7_flow', 'link_10_flow', 'node_31_pressure', 'node_2_pressure', 'link_25_flow', 'link_26_flow', 'link_19_flow', 'node_9_pressure', 'node_28_pressure', 'link_20_flow', 'node_15_demand', 'link_30_flow', 'link_22_flow', 'node_14_pressure', 'reservoir_pressure', 'node_13_pressure', 'link_31_flow', 'node_12_pressure', 'node_31_demand', 'link_15_flow', 'node_18_demand', 'node_16_demand', 'node_21_pressure', 'node_30_demand', 'node_23_pressure', 'node_21_demand', 'node_13_demand', 'node_22_pressure', 'node_10_pressure', 'node_7_demand', 'node_17_demand', 'node_26_pressure', 'node_15_pressure', 'node_3_pressure', 'node_9_demand', 'node_19_demand', 'link_9_flow', 'node_1_pressure', 'node_24_pressure', 'node_28_demand', 'node_23_demand', 'node_10_demand', 'node_18_pressure', 'link_6_flow', 'node_3_demand', 'link_2_flow', 'node_16_pressure', 'node_19_pressure', 'link_5_flow', 'node_4_demand', 'reservoir_demand', 'node_14_demand', 'link_16_flow', 'link_18_flow', 'node_6_pressure', 'node_17_pressure', 'node_25_pressure', 'node_2_demand', 'node_30_pressure', 'link_32_flow', 'node_5_demand', 'node_25_demand', 'node_11_demand', 'link_12_flow', 'node_11_pressure', 'node_27_demand', 'link_11_flow']]\n",
      "starting df shape: (87600, 22)\n",
      "This is training run 9 and has the shape:  (87600, 22)\n",
      "The value of dropped columns is 75\n"
     ]
    },
    {
     "name": "stderr",
     "output_type": "stream",
     "text": [
      "/Users/alexellard/opt/anaconda3/lib/python3.7/site-packages/xgboost/data.py:96: UserWarning: Use subset (sliced data) of np.ndarray is not recommended because it will generate extra copies and increase memory consumption\n",
      "  \"because it will generate extra copies and increase \" +\n"
     ]
    },
    {
     "name": "stdout",
     "output_type": "stream",
     "text": [
      "test y shape : (17520, 1)\n",
      "Inv y shape : (17520, 22)\n",
      "y pred shape : (17520, 1)\n",
      "inv y pred : (17520, 22)\n",
      "Run 9 Mean Absolute Error: 13.780201976633233\n",
      "RMSE: 17.978\n",
      "R^2: 0.981\n",
      "[['node_5_pressure', 'node_6_demand', 'node_17_demand', 'link_4_flow', 'node_14_demand', 'node_4_pressure', 'node_8_demand', 'node_15_pressure', 'node_31_demand', 'link_15_flow', 'link_18_flow', 'node_24_demand', 'reservoir_demand', 'node_2_demand', 'node_22_demand', 'node_23_demand', 'link_3_flow', 'node_12_demand', 'link_24_flow', 'node_9_demand', 'node_18_demand', 'node_6_pressure', 'link_25_flow', 'link_17_flow', 'link_7_flow', 'node_29_demand', 'link_27_flow', 'link_32_flow', 'node_25_demand', 'node_11_demand', 'node_1_demand', 'node_18_pressure', 'node_7_demand', 'node_1_pressure', 'link_1_flow', 'node_4_demand', 'link_26_flow', 'link_31_flow', 'node_22_pressure', 'node_21_demand', 'link_14_flow', 'node_9_pressure', 'link_2_flow', 'node_26_demand', 'reservoir_pressure', 'node_30_demand', 'link_20_flow', 'node_20_pressure', 'link_5_flow', 'node_10_pressure', 'node_21_pressure', 'node_28_pressure', 'node_17_pressure', 'link_16_flow', 'node_2_pressure', 'node_11_pressure', 'node_19_demand', 'node_31_pressure', 'link_13_flow', 'link_21_flow', 'node_12_pressure', 'node_10_demand', 'node_19_pressure', 'link_6_flow', 'link_9_flow', 'link_22_flow', 'node_29_pressure', 'node_13_demand', 'link_12_flow', 'node_28_demand', 'link_23_flow', 'node_3_demand', 'node_7_pressure', 'node_23_pressure']]\n",
      "starting df shape: (87600, 22)\n",
      "This is training run 10 and has the shape:  (87600, 22)\n",
      "The value of dropped columns is 75\n"
     ]
    },
    {
     "name": "stderr",
     "output_type": "stream",
     "text": [
      "/Users/alexellard/opt/anaconda3/lib/python3.7/site-packages/xgboost/data.py:96: UserWarning: Use subset (sliced data) of np.ndarray is not recommended because it will generate extra copies and increase memory consumption\n",
      "  \"because it will generate extra copies and increase \" +\n"
     ]
    },
    {
     "name": "stdout",
     "output_type": "stream",
     "text": [
      "test y shape : (17520, 1)\n",
      "Inv y shape : (17520, 22)\n",
      "y pred shape : (17520, 1)\n",
      "inv y pred : (17520, 22)\n",
      "Run 10 Mean Absolute Error: 10.08647935859961\n",
      "RMSE: 13.055\n",
      "R^2: 0.977\n",
      "[['node_24_pressure', 'link_16_flow', 'link_18_flow', 'node_26_pressure', 'link_4_flow', 'link_11_flow', 'node_23_demand', 'reservoir_demand', 'link_20_flow', 'node_5_demand', 'reservoir_pressure', 'link_14_flow', 'link_10_flow', 'link_32_flow', 'node_20_demand', 'node_27_demand', 'link_9_flow', 'node_2_pressure', 'node_12_pressure', 'link_22_flow', 'node_1_demand', 'node_14_demand', 'node_19_pressure', 'node_10_demand', 'node_23_pressure', 'node_21_demand', 'node_26_demand', 'node_7_pressure', 'node_4_demand', 'node_16_pressure', 'link_17_flow', 'node_22_pressure', 'node_8_pressure', 'node_15_pressure', 'link_1_flow', 'node_18_demand', 'node_8_demand', 'link_28_flow', 'node_19_demand', 'link_27_flow', 'node_1_pressure', 'link_15_flow', 'node_2_demand', 'node_11_demand', 'node_18_pressure', 'link_30_flow', 'link_24_flow', 'node_30_demand', 'link_12_flow', 'node_25_pressure', 'link_13_flow', 'node_16_demand', 'node_20_pressure', 'node_24_demand', 'node_14_pressure', 'node_6_demand', 'node_12_demand', 'node_17_pressure', 'node_21_pressure', 'link_6_flow', 'node_6_pressure', 'node_13_pressure', 'node_29_pressure', 'node_27_pressure', 'node_31_demand', 'node_31_pressure', 'link_26_flow', 'node_5_pressure', 'node_3_demand', 'node_13_demand', 'link_21_flow', 'link_31_flow', 'node_9_pressure', 'node_25_demand', 'link_3_flow', 'node_4_pressure', 'node_3_pressure', 'node_22_demand', 'node_9_demand']]\n",
      "starting df shape: (87600, 17)\n",
      "This is training run 1 and has the shape:  (87600, 17)\n",
      "The value of dropped columns is 80\n"
     ]
    },
    {
     "name": "stderr",
     "output_type": "stream",
     "text": [
      "/Users/alexellard/opt/anaconda3/lib/python3.7/site-packages/xgboost/data.py:96: UserWarning: Use subset (sliced data) of np.ndarray is not recommended because it will generate extra copies and increase memory consumption\n",
      "  \"because it will generate extra copies and increase \" +\n"
     ]
    },
    {
     "name": "stdout",
     "output_type": "stream",
     "text": [
      "test y shape : (17520, 1)\n",
      "Inv y shape : (17520, 17)\n",
      "y pred shape : (17520, 1)\n",
      "inv y pred : (17520, 17)\n",
      "Run 1 Mean Absolute Error: 4.8595682958576765\n",
      "RMSE: 6.512\n",
      "R^2: 0.984\n",
      "[['link_9_flow', 'link_1_flow', 'node_4_pressure', 'node_26_demand', 'node_12_pressure', 'node_9_pressure', 'node_25_pressure', 'link_21_flow', 'reservoir_pressure', 'node_20_pressure', 'node_9_demand', 'node_20_demand', 'node_7_pressure', 'node_13_pressure', 'node_18_demand', 'reservoir_demand', 'link_32_flow', 'link_24_flow', 'node_7_demand', 'node_19_demand', 'link_17_flow', 'node_10_pressure', 'link_27_flow', 'node_30_demand', 'node_24_demand', 'link_20_flow', 'node_27_demand', 'node_23_pressure', 'node_2_pressure', 'node_27_pressure', 'node_21_demand', 'node_3_demand', 'node_15_demand', 'link_7_flow', 'node_29_demand', 'link_8_flow', 'node_10_demand', 'node_8_pressure', 'node_22_demand', 'link_15_flow', 'node_17_pressure', 'node_15_pressure', 'node_29_pressure', 'node_21_pressure', 'node_31_demand', 'node_18_pressure', 'link_26_flow', 'node_5_pressure', 'node_22_pressure', 'link_10_flow', 'link_12_flow', 'link_30_flow', 'node_16_demand', 'node_1_pressure', 'link_16_flow', 'link_2_flow', 'link_19_flow', 'node_19_pressure', 'link_18_flow', 'node_25_demand', 'link_6_flow', 'node_3_pressure', 'link_11_flow', 'node_14_pressure', 'node_16_pressure', 'node_4_demand', 'node_24_pressure', 'node_5_demand', 'node_12_demand', 'node_1_demand', 'node_2_demand', 'node_13_demand', 'node_26_pressure', 'link_23_flow', 'node_28_pressure', 'link_25_flow', 'node_14_demand', 'node_11_pressure', 'node_28_demand']]\n",
      "starting df shape: (87600, 17)\n",
      "This is training run 2 and has the shape:  (87600, 17)\n",
      "The value of dropped columns is 80\n"
     ]
    },
    {
     "name": "stderr",
     "output_type": "stream",
     "text": [
      "/Users/alexellard/opt/anaconda3/lib/python3.7/site-packages/xgboost/data.py:96: UserWarning: Use subset (sliced data) of np.ndarray is not recommended because it will generate extra copies and increase memory consumption\n",
      "  \"because it will generate extra copies and increase \" +\n"
     ]
    },
    {
     "name": "stdout",
     "output_type": "stream",
     "text": [
      "test y shape : (17520, 1)\n",
      "Inv y shape : (17520, 17)\n",
      "y pred shape : (17520, 1)\n",
      "inv y pred : (17520, 17)\n",
      "Run 2 Mean Absolute Error: 15.26278303637447\n",
      "RMSE: 19.855\n",
      "R^2: 0.977\n",
      "[['node_30_pressure', 'node_18_demand', 'link_30_flow', 'link_27_flow', 'node_15_pressure', 'node_6_demand', 'link_18_flow', 'link_21_flow', 'node_5_demand', 'node_23_pressure', 'node_18_pressure', 'link_11_flow', 'node_7_pressure', 'link_24_flow', 'node_4_pressure', 'node_20_demand', 'node_22_demand', 'link_2_flow', 'node_17_pressure', 'link_32_flow', 'link_3_flow', 'node_28_demand', 'node_25_pressure', 'link_8_flow', 'node_21_pressure', 'node_7_demand', 'node_13_demand', 'node_26_pressure', 'reservoir_pressure', 'link_1_flow', 'node_10_demand', 'node_11_pressure', 'link_22_flow', 'node_2_pressure', 'link_23_flow', 'link_4_flow', 'node_30_demand', 'node_4_demand', 'node_10_pressure', 'node_8_demand', 'node_21_demand', 'node_2_demand', 'node_11_demand', 'node_3_demand', 'node_31_pressure', 'link_20_flow', 'node_22_pressure', 'node_29_demand', 'reservoir_demand', 'link_9_flow', 'node_17_demand', 'node_3_pressure', 'node_6_pressure', 'node_26_demand', 'node_29_pressure', 'node_31_demand', 'link_10_flow', 'link_28_flow', 'link_12_flow', 'link_25_flow', 'link_19_flow', 'link_5_flow', 'link_17_flow', 'node_27_pressure', 'node_27_demand', 'link_26_flow', 'node_16_demand', 'link_7_flow', 'node_15_demand', 'node_24_pressure', 'node_12_pressure', 'node_12_demand', 'node_23_demand', 'node_1_demand', 'node_9_demand', 'link_13_flow', 'node_19_pressure', 'link_6_flow', 'node_1_pressure']]\n",
      "starting df shape: (87600, 17)\n",
      "This is training run 3 and has the shape:  (87600, 17)\n",
      "The value of dropped columns is 80\n"
     ]
    },
    {
     "name": "stderr",
     "output_type": "stream",
     "text": [
      "/Users/alexellard/opt/anaconda3/lib/python3.7/site-packages/xgboost/data.py:96: UserWarning: Use subset (sliced data) of np.ndarray is not recommended because it will generate extra copies and increase memory consumption\n",
      "  \"because it will generate extra copies and increase \" +\n"
     ]
    },
    {
     "name": "stdout",
     "output_type": "stream",
     "text": [
      "test y shape : (17520, 1)\n",
      "Inv y shape : (17520, 17)\n",
      "y pred shape : (17520, 1)\n",
      "inv y pred : (17520, 17)\n",
      "Run 3 Mean Absolute Error: 2.997814432088642\n",
      "RMSE: 3.898\n",
      "R^2: 0.975\n",
      "[['link_20_flow', 'node_7_demand', 'node_4_pressure', 'link_2_flow', 'link_31_flow', 'link_12_flow', 'link_16_flow', 'link_1_flow', 'node_12_pressure', 'node_6_pressure', 'node_5_pressure', 'node_2_pressure', 'node_19_pressure', 'node_15_demand', 'node_28_pressure', 'link_22_flow', 'link_4_flow', 'node_4_demand', 'link_5_flow', 'link_11_flow', 'link_21_flow', 'node_30_pressure', 'node_28_demand', 'node_18_demand', 'reservoir_demand', 'link_19_flow', 'node_19_demand', 'node_17_demand', 'node_30_demand', 'node_23_demand', 'node_29_demand', 'link_17_flow', 'link_24_flow', 'node_11_demand', 'link_6_flow', 'node_7_pressure', 'node_5_demand', 'node_14_pressure', 'link_13_flow', 'node_2_demand', 'node_20_demand', 'link_32_flow', 'node_31_pressure', 'node_16_pressure', 'node_24_pressure', 'link_15_flow', 'node_10_demand', 'node_17_pressure', 'node_9_pressure', 'link_3_flow', 'node_25_demand', 'node_3_demand', 'node_8_pressure', 'node_31_demand', 'link_28_flow', 'link_8_flow', 'link_26_flow', 'node_10_pressure', 'reservoir_pressure', 'node_6_demand', 'node_14_demand', 'link_27_flow', 'link_18_flow', 'node_25_pressure', 'link_10_flow', 'link_25_flow', 'node_13_demand', 'node_29_pressure', 'node_23_pressure', 'node_24_demand', 'node_16_demand', 'node_22_demand', 'node_8_demand', 'node_18_pressure', 'node_11_pressure', 'node_27_demand', 'node_1_demand', 'node_27_pressure', 'link_9_flow']]\n",
      "starting df shape: (87600, 17)\n",
      "This is training run 4 and has the shape:  (87600, 17)\n",
      "The value of dropped columns is 80\n"
     ]
    },
    {
     "name": "stderr",
     "output_type": "stream",
     "text": [
      "/Users/alexellard/opt/anaconda3/lib/python3.7/site-packages/xgboost/data.py:96: UserWarning: Use subset (sliced data) of np.ndarray is not recommended because it will generate extra copies and increase memory consumption\n",
      "  \"because it will generate extra copies and increase \" +\n"
     ]
    },
    {
     "name": "stdout",
     "output_type": "stream",
     "text": [
      "test y shape : (17520, 1)\n",
      "Inv y shape : (17520, 17)\n",
      "y pred shape : (17520, 1)\n",
      "inv y pred : (17520, 17)\n",
      "Run 4 Mean Absolute Error: 5.715493147503023\n",
      "RMSE: 7.450\n",
      "R^2: 0.977\n",
      "[['node_23_pressure', 'node_28_demand', 'link_11_flow', 'node_28_pressure', 'node_10_pressure', 'node_14_demand', 'node_10_demand', 'link_28_flow', 'node_15_pressure', 'link_16_flow', 'node_30_pressure', 'link_12_flow', 'link_31_flow', 'node_12_pressure', 'node_3_pressure', 'node_1_demand', 'node_2_pressure', 'link_3_flow', 'node_29_pressure', 'node_11_pressure', 'node_18_pressure', 'link_32_flow', 'node_4_pressure', 'node_13_pressure', 'link_5_flow', 'node_21_demand', 'node_19_demand', 'link_10_flow', 'node_3_demand', 'node_31_demand', 'node_27_demand', 'link_19_flow', 'reservoir_pressure', 'node_18_demand', 'node_24_pressure', 'node_16_demand', 'node_19_pressure', 'link_9_flow', 'node_6_demand', 'node_7_pressure', 'node_22_pressure', 'link_21_flow', 'link_8_flow', 'node_2_demand', 'link_20_flow', 'node_6_pressure', 'node_17_demand', 'node_25_demand', 'link_24_flow', 'link_15_flow', 'node_29_demand', 'node_16_pressure', 'link_23_flow', 'node_1_pressure', 'node_17_pressure', 'node_7_demand', 'link_4_flow', 'node_5_pressure', 'node_8_pressure', 'node_15_demand', 'node_12_demand', 'link_14_flow', 'node_14_pressure', 'node_27_pressure', 'node_13_demand', 'link_27_flow', 'node_25_pressure', 'link_26_flow', 'link_13_flow', 'node_9_demand', 'node_30_demand', 'link_18_flow', 'link_22_flow', 'node_21_pressure', 'link_6_flow', 'node_20_pressure', 'node_4_demand', 'node_11_demand', 'node_22_demand']]\n",
      "starting df shape: (87600, 17)\n",
      "This is training run 5 and has the shape:  (87600, 17)\n",
      "The value of dropped columns is 80\n"
     ]
    },
    {
     "name": "stderr",
     "output_type": "stream",
     "text": [
      "/Users/alexellard/opt/anaconda3/lib/python3.7/site-packages/xgboost/data.py:96: UserWarning: Use subset (sliced data) of np.ndarray is not recommended because it will generate extra copies and increase memory consumption\n",
      "  \"because it will generate extra copies and increase \" +\n"
     ]
    },
    {
     "name": "stdout",
     "output_type": "stream",
     "text": [
      "test y shape : (17520, 1)\n",
      "Inv y shape : (17520, 17)\n",
      "y pred shape : (17520, 1)\n",
      "inv y pred : (17520, 17)\n",
      "Run 5 Mean Absolute Error: 177.0832751017237\n",
      "RMSE: 230.695\n",
      "R^2: 0.975\n",
      "[['link_17_flow', 'link_13_flow', 'node_29_demand', 'node_24_pressure', 'link_3_flow', 'node_27_pressure', 'node_15_demand', 'node_20_demand', 'node_18_demand', 'link_32_flow', 'node_6_demand', 'link_1_flow', 'node_22_pressure', 'link_10_flow', 'node_25_demand', 'node_12_pressure', 'link_12_flow', 'node_6_pressure', 'node_14_demand', 'node_17_pressure', 'node_22_demand', 'node_26_demand', 'node_21_pressure', 'link_23_flow', 'link_14_flow', 'link_19_flow', 'node_5_demand', 'link_4_flow', 'link_15_flow', 'link_20_flow', 'link_22_flow', 'node_14_pressure', 'node_12_demand', 'node_15_pressure', 'link_5_flow', 'node_11_pressure', 'node_28_pressure', 'node_19_demand', 'link_11_flow', 'link_2_flow', 'node_7_pressure', 'link_24_flow', 'node_29_pressure', 'link_26_flow', 'node_17_demand', 'link_7_flow', 'node_28_demand', 'node_3_pressure', 'node_7_demand', 'node_26_pressure', 'node_13_pressure', 'node_5_pressure', 'node_25_pressure', 'link_16_flow', 'node_18_pressure', 'node_8_pressure', 'node_11_demand', 'link_31_flow', 'node_8_demand', 'node_23_demand', 'node_2_demand', 'node_9_pressure', 'node_16_pressure', 'link_28_flow', 'link_9_flow', 'link_21_flow', 'reservoir_pressure', 'reservoir_demand', 'node_2_pressure', 'node_27_demand', 'link_6_flow', 'link_30_flow', 'node_24_demand', 'node_1_pressure', 'link_25_flow', 'node_21_demand', 'node_19_pressure', 'link_18_flow', 'node_10_pressure']]\n",
      "starting df shape: (87600, 17)\n",
      "This is training run 6 and has the shape:  (87600, 17)\n",
      "The value of dropped columns is 80\n"
     ]
    },
    {
     "name": "stderr",
     "output_type": "stream",
     "text": [
      "/Users/alexellard/opt/anaconda3/lib/python3.7/site-packages/xgboost/data.py:96: UserWarning: Use subset (sliced data) of np.ndarray is not recommended because it will generate extra copies and increase memory consumption\n",
      "  \"because it will generate extra copies and increase \" +\n"
     ]
    },
    {
     "name": "stdout",
     "output_type": "stream",
     "text": [
      "test y shape : (17520, 1)\n",
      "Inv y shape : (17520, 17)\n",
      "y pred shape : (17520, 1)\n",
      "inv y pred : (17520, 17)\n",
      "Run 6 Mean Absolute Error: 11.44706127350665\n",
      "RMSE: 15.135\n",
      "R^2: 0.972\n",
      "[['node_4_pressure', 'node_7_pressure', 'link_10_flow', 'node_14_pressure', 'link_7_flow', 'node_31_pressure', 'link_15_flow', 'node_7_demand', 'link_16_flow', 'node_6_demand', 'node_24_demand', 'node_11_pressure', 'node_24_pressure', 'node_30_pressure', 'link_13_flow', 'node_3_demand', 'link_21_flow', 'link_28_flow', 'node_3_pressure', 'node_29_pressure', 'link_26_flow', 'node_2_demand', 'node_16_demand', 'node_18_demand', 'link_2_flow', 'node_13_demand', 'link_24_flow', 'node_9_pressure', 'node_10_pressure', 'node_23_pressure', 'link_32_flow', 'node_29_demand', 'node_12_demand', 'node_4_demand', 'link_4_flow', 'node_23_demand', 'link_25_flow', 'node_17_demand', 'link_31_flow', 'node_17_pressure', 'node_1_demand', 'node_5_demand', 'link_27_flow', 'node_25_pressure', 'link_18_flow', 'node_28_demand', 'node_22_demand', 'node_16_pressure', 'node_21_pressure', 'link_8_flow', 'node_15_pressure', 'node_10_demand', 'node_14_demand', 'link_12_flow', 'node_20_pressure', 'link_3_flow', 'node_26_pressure', 'node_8_demand', 'node_12_pressure', 'node_2_pressure', 'node_6_pressure', 'node_30_demand', 'reservoir_pressure', 'link_20_flow', 'reservoir_demand', 'node_13_pressure', 'link_17_flow', 'link_11_flow', 'link_14_flow', 'node_5_pressure', 'node_9_demand', 'node_18_pressure', 'node_1_pressure', 'link_23_flow', 'node_27_demand', 'node_31_demand', 'node_8_pressure', 'link_19_flow', 'node_19_pressure']]\n",
      "starting df shape: (87600, 17)\n",
      "This is training run 7 and has the shape:  (87600, 17)\n",
      "The value of dropped columns is 80\n"
     ]
    },
    {
     "name": "stderr",
     "output_type": "stream",
     "text": [
      "/Users/alexellard/opt/anaconda3/lib/python3.7/site-packages/xgboost/data.py:96: UserWarning: Use subset (sliced data) of np.ndarray is not recommended because it will generate extra copies and increase memory consumption\n",
      "  \"because it will generate extra copies and increase \" +\n"
     ]
    },
    {
     "name": "stdout",
     "output_type": "stream",
     "text": [
      "test y shape : (17520, 1)\n",
      "Inv y shape : (17520, 17)\n",
      "y pred shape : (17520, 1)\n",
      "inv y pred : (17520, 17)\n",
      "Run 7 Mean Absolute Error: 6.584637236064834\n",
      "RMSE: 8.616\n",
      "R^2: 0.975\n",
      "[['reservoir_pressure', 'node_14_pressure', 'link_17_flow', 'link_19_flow', 'node_28_pressure', 'node_17_demand', 'node_19_pressure', 'node_9_demand', 'node_4_pressure', 'node_20_demand', 'link_14_flow', 'node_1_demand', 'link_6_flow', 'node_5_pressure', 'node_6_pressure', 'link_7_flow', 'node_21_demand', 'node_16_demand', 'link_27_flow', 'link_10_flow', 'node_12_pressure', 'link_20_flow', 'node_15_pressure', 'node_27_demand', 'link_28_flow', 'node_10_pressure', 'node_25_demand', 'node_31_demand', 'link_5_flow', 'link_15_flow', 'node_30_demand', 'link_12_flow', 'link_3_flow', 'link_26_flow', 'link_13_flow', 'node_27_pressure', 'node_10_demand', 'node_6_demand', 'node_24_demand', 'node_24_pressure', 'link_2_flow', 'link_31_flow', 'link_18_flow', 'link_32_flow', 'link_8_flow', 'node_4_demand', 'node_8_demand', 'link_23_flow', 'node_15_demand', 'node_31_pressure', 'link_22_flow', 'link_24_flow', 'node_7_pressure', 'node_23_pressure', 'node_20_pressure', 'node_2_demand', 'link_21_flow', 'node_23_demand', 'node_3_pressure', 'node_7_demand', 'node_8_pressure', 'node_17_pressure', 'link_25_flow', 'node_12_demand', 'node_26_pressure', 'node_28_demand', 'node_30_pressure', 'node_9_pressure', 'node_13_demand', 'link_4_flow', 'node_11_pressure', 'reservoir_demand', 'link_9_flow', 'node_18_demand', 'link_16_flow', 'link_30_flow', 'node_19_demand', 'node_21_pressure', 'node_29_pressure']]\n",
      "starting df shape: (87600, 17)\n",
      "This is training run 8 and has the shape:  (87600, 17)\n",
      "The value of dropped columns is 80\n"
     ]
    },
    {
     "name": "stderr",
     "output_type": "stream",
     "text": [
      "/Users/alexellard/opt/anaconda3/lib/python3.7/site-packages/xgboost/data.py:96: UserWarning: Use subset (sliced data) of np.ndarray is not recommended because it will generate extra copies and increase memory consumption\n",
      "  \"because it will generate extra copies and increase \" +\n"
     ]
    },
    {
     "name": "stdout",
     "output_type": "stream",
     "text": [
      "test y shape : (17520, 1)\n",
      "Inv y shape : (17520, 17)\n",
      "y pred shape : (17520, 1)\n",
      "inv y pred : (17520, 17)\n",
      "Run 8 Mean Absolute Error: 1.683563664626177\n",
      "RMSE: 2.224\n",
      "R^2: 0.971\n",
      "[['node_18_pressure', 'node_13_pressure', 'node_19_pressure', 'node_16_pressure', 'link_6_flow', 'node_23_pressure', 'link_4_flow', 'node_17_pressure', 'node_27_pressure', 'node_29_pressure', 'node_30_demand', 'link_19_flow', 'link_1_flow', 'node_2_pressure', 'link_10_flow', 'node_10_pressure', 'link_8_flow', 'node_14_pressure', 'node_11_demand', 'node_31_demand', 'link_9_flow', 'link_2_flow', 'node_27_demand', 'node_24_demand', 'node_1_pressure', 'node_2_demand', 'node_26_pressure', 'link_5_flow', 'node_28_demand', 'node_17_demand', 'node_4_demand', 'node_15_pressure', 'node_22_pressure', 'link_15_flow', 'node_25_pressure', 'node_3_demand', 'node_6_pressure', 'node_19_demand', 'node_20_pressure', 'node_29_demand', 'node_16_demand', 'node_31_pressure', 'link_18_flow', 'node_12_pressure', 'link_3_flow', 'link_28_flow', 'node_28_pressure', 'node_24_pressure', 'node_26_demand', 'reservoir_pressure', 'link_20_flow', 'reservoir_demand', 'link_14_flow', 'link_16_flow', 'link_26_flow', 'node_1_demand', 'node_11_pressure', 'node_6_demand', 'node_8_pressure', 'link_27_flow', 'node_22_demand', 'node_30_pressure', 'node_4_pressure', 'link_23_flow', 'node_15_demand', 'node_20_demand', 'link_11_flow', 'link_31_flow', 'node_5_demand', 'link_30_flow', 'link_12_flow', 'link_21_flow', 'node_8_demand', 'link_24_flow', 'node_7_demand', 'link_17_flow', 'node_23_demand', 'link_7_flow', 'link_22_flow', 'node_5_pressure']]\n",
      "starting df shape: (87600, 16)\n",
      "This is training run 9 and has the shape:  (87600, 16)\n",
      "The value of dropped columns is 80\n"
     ]
    },
    {
     "name": "stderr",
     "output_type": "stream",
     "text": [
      "/Users/alexellard/opt/anaconda3/lib/python3.7/site-packages/xgboost/data.py:96: UserWarning: Use subset (sliced data) of np.ndarray is not recommended because it will generate extra copies and increase memory consumption\n",
      "  \"because it will generate extra copies and increase \" +\n"
     ]
    },
    {
     "name": "stdout",
     "output_type": "stream",
     "text": [
      "test y shape : (17520, 1)\n",
      "Inv y shape : (17520, 16)\n",
      "y pred shape : (17520, 1)\n",
      "inv y pred : (17520, 16)\n",
      "Run 9 Mean Absolute Error: 6.060177183801588\n",
      "RMSE: 8.032\n",
      "R^2: 0.973\n",
      "[['link_7_flow', 'link_28_flow', 'node_30_demand', 'node_11_demand', 'node_28_demand', 'node_7_pressure', 'node_24_pressure', 'node_19_pressure', 'node_9_demand', 'node_31_pressure', 'node_26_demand', 'node_12_demand', 'node_6_demand', 'link_32_flow', 'link_15_flow', 'node_8_pressure', 'node_27_demand', 'node_9_pressure', 'link_3_flow', 'node_31_demand', 'link_10_flow', 'node_25_demand', 'node_19_demand', 'link_20_flow', 'node_22_demand', 'link_19_flow', 'node_15_pressure', 'link_5_flow', 'node_17_demand', 'node_13_pressure', 'node_17_pressure', 'node_23_pressure', 'reservoir_pressure', 'node_23_demand', 'node_14_pressure', 'link_17_flow', 'node_14_demand', 'node_21_pressure', 'node_20_demand', 'node_3_pressure', 'node_16_demand', 'node_26_pressure', 'reservoir_demand', 'node_15_demand', 'link_23_flow', 'node_2_demand', 'link_2_flow', 'node_29_demand', 'node_8_demand', 'node_1_pressure', 'node_2_pressure', 'link_25_flow', 'node_11_pressure', 'link_11_flow', 'node_24_demand', 'link_1_flow', 'link_18_flow', 'node_10_pressure', 'node_1_demand', 'link_14_flow', 'link_6_flow', 'node_3_demand', 'link_24_flow', 'link_27_flow', 'node_27_pressure', 'node_5_pressure', 'node_10_demand', 'link_26_flow', 'node_28_pressure', 'node_25_pressure', 'node_12_pressure', 'node_18_pressure', 'link_8_flow', 'node_18_demand', 'node_29_pressure', 'link_22_flow', 'node_5_demand', 'node_21_demand', 'node_30_pressure', 'node_20_pressure']]\n",
      "starting df shape: (87600, 16)\n",
      "This is training run 10 and has the shape:  (87600, 16)\n",
      "The value of dropped columns is 80\n"
     ]
    },
    {
     "name": "stderr",
     "output_type": "stream",
     "text": [
      "/Users/alexellard/opt/anaconda3/lib/python3.7/site-packages/xgboost/data.py:96: UserWarning: Use subset (sliced data) of np.ndarray is not recommended because it will generate extra copies and increase memory consumption\n",
      "  \"because it will generate extra copies and increase \" +\n"
     ]
    },
    {
     "name": "stdout",
     "output_type": "stream",
     "text": [
      "test y shape : (17520, 1)\n",
      "Inv y shape : (17520, 16)\n",
      "y pred shape : (17520, 1)\n",
      "inv y pred : (17520, 16)\n",
      "Run 10 Mean Absolute Error: 7.833024797945806\n",
      "RMSE: 10.177\n",
      "R^2: 0.976\n",
      "Length MAE_average:  17\n",
      "Length sensors_covered:  17\n"
     ]
    }
   ],
   "source": [
    "MAE_average = []\n",
    "RMSE_average = []\n",
    "R2_average = []\n",
    "maximum_MAE = []\n",
    "sensors_covered = []\n",
    "n_columns_to_drop = [0, 5, 10, 15, 20, 25, 30, 35, 40, 45, 50, 55, 60, 65, 70, 75, 80]\n",
    "for n in n_columns_to_drop:\n",
    "    MAE = []\n",
    "    RMSE = []\n",
    "    R2 = []\n",
    "    for run in range(1,11):\n",
    "        Y = df[df.columns[92]]\n",
    "        X = df.drop(columns=['link_29_flow'])\n",
    "        X['link_29_flow'] = Y\n",
    "        columns = []\n",
    "        columns_to_drop = random.sample(list(X.columns), n)\n",
    "        # Drop the selected columns from the dataframe\n",
    "        if X.columns[-1] in columns_to_drop:\n",
    "            columns_to_drop.remove(X.columns[-1])\n",
    "        X.drop(columns_to_drop, axis=1, inplace=True)\n",
    "        columns.append(columns_to_drop)\n",
    "        print(columns)\n",
    "        print('starting df shape:', X.shape)\n",
    "        print(f'This is training run {run} and has the shape: ', X.shape)\n",
    "        print(f'The value of dropped columns is {n}')\n",
    "\n",
    "        # split into train and test sets\n",
    "        values = X.values\n",
    "        scaler = MinMaxScaler(feature_range=(0, 1))\n",
    "        scaled = scaler.fit_transform(values)\n",
    "        train, test = train_test_split(scaled, test_size=0.2, random_state=0)\n",
    "\n",
    "        # split into input and outputs\n",
    "        train_X, train_y = train[:, :-1], train[:, -1]\n",
    "        test_X, test_y = test[:, :-1], test[:, -1]\n",
    "\n",
    "        #define model\n",
    "        model = xgb.XGBRegressor(\n",
    "            objective='reg:squarederror',\n",
    "            n_estimators=100,\n",
    "            max_depth=6,\n",
    "            learning_rate=0.1,\n",
    "            subsample=0.9,\n",
    "            colsample_bytree=0.8,\n",
    "            random_state=42\n",
    "        )\n",
    "\n",
    "        # fit the model on the training data\n",
    "        model.fit(train_X, train_y)\n",
    "\n",
    "        # make predictions on the test data\n",
    "        y_pred = model.predict(test_X)\n",
    "\n",
    "        test_y = test_y.reshape((len(test_y), 1))\n",
    "        print('test y shape :', test_y.shape)\n",
    "        inv_test_y = concatenate((test_y, test_X[:, -X.shape[1]:]), axis=1)\n",
    "        print('Inv y shape :', inv_test_y.shape)\n",
    "        test_y_inverse = scaler.inverse_transform(inv_test_y)\n",
    "        test_y_inverse = test_y_inverse[:,0]\n",
    "\n",
    "        y_pred = y_pred.reshape((len(y_pred), 1))\n",
    "        print('y pred shape :', y_pred.shape)\n",
    "        inv_y_pred = concatenate((y_pred, test_X[:, -X.shape[1]:]), axis=1)\n",
    "        print('inv y pred :', inv_y_pred.shape)\n",
    "        y_pred_inverse = scaler.inverse_transform(inv_y_pred)\n",
    "        y_pred_inverse = y_pred_inverse[:,0]\n",
    "\n",
    "        # evaluate scaled errors\n",
    "        mae_inverse = mean_absolute_error(test_y_inverse, y_pred_inverse)\n",
    "        MAE.append(mae_inverse)\n",
    "        print(f'Run {run} Mean Absolute Error:', mae_inverse)\n",
    "        rmse_inverse = sqrt(mean_squared_error(test_y_inverse, y_pred_inverse))\n",
    "        RMSE.append(rmse_inverse)\n",
    "        print('RMSE: %.3f' % rmse_inverse)\n",
    "        r2_inverse = r2_score(test_y_inverse, y_pred_inverse)\n",
    "        R2.append(r2_inverse)\n",
    "        print('R^2: %.3f' % r2_inverse)\n",
    "    percentage_list = round(X.shape[1] / 96 * 100)\n",
    "    sensors_covered.append(percentage_list)\n",
    "    MAE_mean = mean(MAE)\n",
    "    RMSE_mean = mean(RMSE)\n",
    "    R2_mean = mean(R2)\n",
    "    max_MAE = max(MAE)\n",
    "    maximum_MAE.append(max_MAE)\n",
    "    MAE_average.append(MAE_mean)\n",
    "    RMSE_average.append(RMSE_mean)\n",
    "    R2_average.append(R2_mean)\n",
    "print('Length MAE_average: ', len(MAE_average))\n",
    "print('Length sensors_covered: ', len(sensors_covered))"
   ]
  },
  {
   "cell_type": "code",
   "execution_count": 4,
   "metadata": {},
   "outputs": [
    {
     "data": {
      "image/png": "[encoded data removed]",
      "text/plain": [
       "<Figure size 432x288 with 1 Axes>"
      ]
     },
     "metadata": {
      "needs_background": "light"
     },
     "output_type": "display_data"
    }
   ],
   "source": [
    "#run this after cell above finishes training \n",
    "plt.plot(sensors_covered, maximum_MAE)\n",
    "plt.ylabel(\"Mean Absolute Error\")\n",
    "plt.xlabel(\"Sensor Cover %\")\n",
    "plt.title(\"MAE vs. Coverage Flows Link 1\")\n",
    "plt.xlim([100, 0])\n",
    "#plt.savefig('/Users/alexellard/Downloads/Link1FlowsMax.png')\n",
    "plt.show()"
   ]
  },
  {
   "cell_type": "code",
   "execution_count": null,
   "metadata": {},
   "outputs": [],
   "source": []
  }
 ],
 "metadata": {
  "kernelspec": {
   "display_name": "Python 3",
   "language": "python",
   "name": "python3"
  },
  "language_info": {
   "codemirror_mode": {
    "name": "ipython",
    "version": 3
   },
   "file_extension": ".py",
   "mimetype": "text/x-python",
   "name": "python",
   "nbconvert_exporter": "python",
   "pygments_lexer": "ipython3",
   "version": "3.7.4"
  }
 },
 "nbformat": 4,
 "nbformat_minor": 2
}
