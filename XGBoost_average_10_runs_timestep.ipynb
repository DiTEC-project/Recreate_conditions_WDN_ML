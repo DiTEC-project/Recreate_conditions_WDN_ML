{
 "cells": [
  {
   "cell_type": "code",
   "execution_count": 1,
   "metadata": {},
   "outputs": [
    {
     "name": "stderr",
     "output_type": "stream",
     "text": [
      "/Users/alexellard/opt/anaconda3/lib/python3.7/site-packages/dask/dataframe/utils.py:14: FutureWarning: pandas.util.testing is deprecated. Use the functions in the public API at pandas.testing instead.\n",
      "  import pandas.util.testing as tm\n"
     ]
    }
   ],
   "source": [
    "import xgboost as xgb\n",
    "import pandas as pd\n",
    "import numpy as np\n",
    "from sklearn.preprocessing import LabelEncoder\n",
    "from sklearn.preprocessing import MinMaxScaler\n",
    "from sklearn.model_selection import train_test_split\n",
    "from sklearn.metrics import mean_squared_error, mean_absolute_error, r2_score\n",
    "from numpy import concatenate\n",
    "from math import sqrt\n",
    "from statistics import mean\n",
    "import random\n",
    "import matplotlib.pyplot as plt"
   ]
  },
  {
   "cell_type": "code",
   "execution_count": 2,
   "metadata": {},
   "outputs": [
    {
     "data": {
      "text/html": [
       "<div>\n",
       "<style scoped>\n",
       "    .dataframe tbody tr th:only-of-type {\n",
       "        vertical-align: middle;\n",
       "    }\n",
       "\n",
       "    .dataframe tbody tr th {\n",
       "        vertical-align: top;\n",
       "    }\n",
       "\n",
       "    .dataframe thead th {\n",
       "        text-align: right;\n",
       "    }\n",
       "</style>\n",
       "<table border=\"1\" class=\"dataframe\">\n",
       "  <thead>\n",
       "    <tr style=\"text-align: right;\">\n",
       "      <th></th>\n",
       "      <th>reservoir_demand</th>\n",
       "      <th>node_1_demand</th>\n",
       "      <th>node_2_demand</th>\n",
       "      <th>node_3_demand</th>\n",
       "      <th>node_4_demand</th>\n",
       "      <th>node_5_demand</th>\n",
       "      <th>node_6_demand</th>\n",
       "      <th>node_7_demand</th>\n",
       "      <th>node_8_demand</th>\n",
       "      <th>node_9_demand</th>\n",
       "      <th>...</th>\n",
       "      <th>link_23_flow</th>\n",
       "      <th>link_24_flow</th>\n",
       "      <th>link_25_flow</th>\n",
       "      <th>link_26_flow</th>\n",
       "      <th>link_27_flow</th>\n",
       "      <th>link_28_flow</th>\n",
       "      <th>link_29_flow</th>\n",
       "      <th>link_30_flow</th>\n",
       "      <th>link_31_flow</th>\n",
       "      <th>link_32_flow</th>\n",
       "    </tr>\n",
       "    <tr>\n",
       "      <th>Timestamp</th>\n",
       "      <th></th>\n",
       "      <th></th>\n",
       "      <th></th>\n",
       "      <th></th>\n",
       "      <th></th>\n",
       "      <th></th>\n",
       "      <th></th>\n",
       "      <th></th>\n",
       "      <th></th>\n",
       "      <th></th>\n",
       "      <th></th>\n",
       "      <th></th>\n",
       "      <th></th>\n",
       "      <th></th>\n",
       "      <th></th>\n",
       "      <th></th>\n",
       "      <th></th>\n",
       "      <th></th>\n",
       "      <th></th>\n",
       "      <th></th>\n",
       "      <th></th>\n",
       "    </tr>\n",
       "  </thead>\n",
       "  <tbody>\n",
       "    <tr>\n",
       "      <th>2017-01-01 00:00:00</th>\n",
       "      <td>-3348.0</td>\n",
       "      <td>154.8</td>\n",
       "      <td>169.2</td>\n",
       "      <td>18.0</td>\n",
       "      <td>118.8</td>\n",
       "      <td>169.2</td>\n",
       "      <td>234.0</td>\n",
       "      <td>86.4</td>\n",
       "      <td>82.8</td>\n",
       "      <td>104.4</td>\n",
       "      <td>...</td>\n",
       "      <td>439.2</td>\n",
       "      <td>-205.2</td>\n",
       "      <td>-75.6</td>\n",
       "      <td>-18.0</td>\n",
       "      <td>118.8</td>\n",
       "      <td>68.4</td>\n",
       "      <td>7.2</td>\n",
       "      <td>-54.0</td>\n",
       "      <td>75.6</td>\n",
       "      <td>212.4</td>\n",
       "    </tr>\n",
       "    <tr>\n",
       "      <th>2017-01-01 00:30:00</th>\n",
       "      <td>-2959.2</td>\n",
       "      <td>136.8</td>\n",
       "      <td>147.6</td>\n",
       "      <td>18.0</td>\n",
       "      <td>108.0</td>\n",
       "      <td>144.0</td>\n",
       "      <td>237.6</td>\n",
       "      <td>79.2</td>\n",
       "      <td>75.6</td>\n",
       "      <td>90.0</td>\n",
       "      <td>...</td>\n",
       "      <td>392.4</td>\n",
       "      <td>-187.2</td>\n",
       "      <td>-72.0</td>\n",
       "      <td>-21.6</td>\n",
       "      <td>108.0</td>\n",
       "      <td>61.2</td>\n",
       "      <td>3.6</td>\n",
       "      <td>-54.0</td>\n",
       "      <td>72.0</td>\n",
       "      <td>183.6</td>\n",
       "    </tr>\n",
       "    <tr>\n",
       "      <th>2017-01-01 01:00:00</th>\n",
       "      <td>-2692.8</td>\n",
       "      <td>129.6</td>\n",
       "      <td>126.0</td>\n",
       "      <td>14.4</td>\n",
       "      <td>104.4</td>\n",
       "      <td>133.2</td>\n",
       "      <td>205.2</td>\n",
       "      <td>72.0</td>\n",
       "      <td>72.0</td>\n",
       "      <td>90.0</td>\n",
       "      <td>...</td>\n",
       "      <td>349.2</td>\n",
       "      <td>-176.4</td>\n",
       "      <td>-64.8</td>\n",
       "      <td>-18.0</td>\n",
       "      <td>93.6</td>\n",
       "      <td>50.4</td>\n",
       "      <td>3.6</td>\n",
       "      <td>-39.6</td>\n",
       "      <td>54.0</td>\n",
       "      <td>151.2</td>\n",
       "    </tr>\n",
       "    <tr>\n",
       "      <th>2017-01-01 01:30:00</th>\n",
       "      <td>-2379.6</td>\n",
       "      <td>104.4</td>\n",
       "      <td>100.8</td>\n",
       "      <td>10.8</td>\n",
       "      <td>86.4</td>\n",
       "      <td>122.4</td>\n",
       "      <td>180.0</td>\n",
       "      <td>68.4</td>\n",
       "      <td>57.6</td>\n",
       "      <td>82.8</td>\n",
       "      <td>...</td>\n",
       "      <td>316.8</td>\n",
       "      <td>-158.4</td>\n",
       "      <td>-54.0</td>\n",
       "      <td>-10.8</td>\n",
       "      <td>79.2</td>\n",
       "      <td>46.8</td>\n",
       "      <td>7.2</td>\n",
       "      <td>-32.4</td>\n",
       "      <td>50.4</td>\n",
       "      <td>140.4</td>\n",
       "    </tr>\n",
       "    <tr>\n",
       "      <th>2017-01-01 02:00:00</th>\n",
       "      <td>-2228.4</td>\n",
       "      <td>104.4</td>\n",
       "      <td>104.4</td>\n",
       "      <td>10.8</td>\n",
       "      <td>79.2</td>\n",
       "      <td>122.4</td>\n",
       "      <td>183.6</td>\n",
       "      <td>68.4</td>\n",
       "      <td>54.0</td>\n",
       "      <td>75.6</td>\n",
       "      <td>...</td>\n",
       "      <td>277.2</td>\n",
       "      <td>-144.0</td>\n",
       "      <td>-57.6</td>\n",
       "      <td>-18.0</td>\n",
       "      <td>72.0</td>\n",
       "      <td>39.6</td>\n",
       "      <td>7.2</td>\n",
       "      <td>-32.4</td>\n",
       "      <td>43.2</td>\n",
       "      <td>118.8</td>\n",
       "    </tr>\n",
       "    <tr>\n",
       "      <th>...</th>\n",
       "      <td>...</td>\n",
       "      <td>...</td>\n",
       "      <td>...</td>\n",
       "      <td>...</td>\n",
       "      <td>...</td>\n",
       "      <td>...</td>\n",
       "      <td>...</td>\n",
       "      <td>...</td>\n",
       "      <td>...</td>\n",
       "      <td>...</td>\n",
       "      <td>...</td>\n",
       "      <td>...</td>\n",
       "      <td>...</td>\n",
       "      <td>...</td>\n",
       "      <td>...</td>\n",
       "      <td>...</td>\n",
       "      <td>...</td>\n",
       "      <td>...</td>\n",
       "      <td>...</td>\n",
       "      <td>...</td>\n",
       "      <td>...</td>\n",
       "    </tr>\n",
       "    <tr>\n",
       "      <th>2017-12-31 21:30:00</th>\n",
       "      <td>-5306.4</td>\n",
       "      <td>205.2</td>\n",
       "      <td>208.8</td>\n",
       "      <td>39.6</td>\n",
       "      <td>183.6</td>\n",
       "      <td>284.4</td>\n",
       "      <td>316.8</td>\n",
       "      <td>176.4</td>\n",
       "      <td>133.2</td>\n",
       "      <td>129.6</td>\n",
       "      <td>...</td>\n",
       "      <td>604.8</td>\n",
       "      <td>-259.2</td>\n",
       "      <td>32.4</td>\n",
       "      <td>115.2</td>\n",
       "      <td>169.2</td>\n",
       "      <td>100.8</td>\n",
       "      <td>10.8</td>\n",
       "      <td>-100.8</td>\n",
       "      <td>122.4</td>\n",
       "      <td>309.6</td>\n",
       "    </tr>\n",
       "    <tr>\n",
       "      <th>2017-12-31 22:00:00</th>\n",
       "      <td>-4910.4</td>\n",
       "      <td>208.8</td>\n",
       "      <td>183.6</td>\n",
       "      <td>39.6</td>\n",
       "      <td>154.8</td>\n",
       "      <td>252.0</td>\n",
       "      <td>295.2</td>\n",
       "      <td>165.6</td>\n",
       "      <td>133.2</td>\n",
       "      <td>133.2</td>\n",
       "      <td>...</td>\n",
       "      <td>565.2</td>\n",
       "      <td>-241.2</td>\n",
       "      <td>21.6</td>\n",
       "      <td>100.8</td>\n",
       "      <td>154.8</td>\n",
       "      <td>86.4</td>\n",
       "      <td>18.0</td>\n",
       "      <td>-75.6</td>\n",
       "      <td>100.8</td>\n",
       "      <td>288.0</td>\n",
       "    </tr>\n",
       "    <tr>\n",
       "      <th>2017-12-31 22:30:00</th>\n",
       "      <td>-4683.6</td>\n",
       "      <td>187.2</td>\n",
       "      <td>183.6</td>\n",
       "      <td>36.0</td>\n",
       "      <td>147.6</td>\n",
       "      <td>230.4</td>\n",
       "      <td>320.4</td>\n",
       "      <td>147.6</td>\n",
       "      <td>118.8</td>\n",
       "      <td>126.0</td>\n",
       "      <td>...</td>\n",
       "      <td>529.2</td>\n",
       "      <td>-226.8</td>\n",
       "      <td>21.6</td>\n",
       "      <td>100.8</td>\n",
       "      <td>147.6</td>\n",
       "      <td>86.4</td>\n",
       "      <td>14.4</td>\n",
       "      <td>-86.4</td>\n",
       "      <td>108.0</td>\n",
       "      <td>266.4</td>\n",
       "    </tr>\n",
       "    <tr>\n",
       "      <th>2017-12-31 23:00:00</th>\n",
       "      <td>-4262.4</td>\n",
       "      <td>180.0</td>\n",
       "      <td>165.6</td>\n",
       "      <td>32.4</td>\n",
       "      <td>136.8</td>\n",
       "      <td>223.2</td>\n",
       "      <td>241.2</td>\n",
       "      <td>147.6</td>\n",
       "      <td>115.2</td>\n",
       "      <td>111.6</td>\n",
       "      <td>...</td>\n",
       "      <td>496.8</td>\n",
       "      <td>-208.8</td>\n",
       "      <td>21.6</td>\n",
       "      <td>93.6</td>\n",
       "      <td>133.2</td>\n",
       "      <td>79.2</td>\n",
       "      <td>14.4</td>\n",
       "      <td>-75.6</td>\n",
       "      <td>97.2</td>\n",
       "      <td>255.6</td>\n",
       "    </tr>\n",
       "    <tr>\n",
       "      <th>2017-12-31 23:30:00</th>\n",
       "      <td>-3808.8</td>\n",
       "      <td>176.4</td>\n",
       "      <td>169.2</td>\n",
       "      <td>25.2</td>\n",
       "      <td>122.4</td>\n",
       "      <td>201.6</td>\n",
       "      <td>241.2</td>\n",
       "      <td>122.4</td>\n",
       "      <td>100.8</td>\n",
       "      <td>93.6</td>\n",
       "      <td>...</td>\n",
       "      <td>421.2</td>\n",
       "      <td>-180.0</td>\n",
       "      <td>28.8</td>\n",
       "      <td>86.4</td>\n",
       "      <td>118.8</td>\n",
       "      <td>68.4</td>\n",
       "      <td>10.8</td>\n",
       "      <td>-68.4</td>\n",
       "      <td>86.4</td>\n",
       "      <td>216.0</td>\n",
       "    </tr>\n",
       "  </tbody>\n",
       "</table>\n",
       "<p>87600 rows × 96 columns</p>\n",
       "</div>"
      ],
      "text/plain": [
       "                     reservoir_demand  node_1_demand  node_2_demand  \\\n",
       "Timestamp                                                             \n",
       "2017-01-01 00:00:00           -3348.0          154.8          169.2   \n",
       "2017-01-01 00:30:00           -2959.2          136.8          147.6   \n",
       "2017-01-01 01:00:00           -2692.8          129.6          126.0   \n",
       "2017-01-01 01:30:00           -2379.6          104.4          100.8   \n",
       "2017-01-01 02:00:00           -2228.4          104.4          104.4   \n",
       "...                               ...            ...            ...   \n",
       "2017-12-31 21:30:00           -5306.4          205.2          208.8   \n",
       "2017-12-31 22:00:00           -4910.4          208.8          183.6   \n",
       "2017-12-31 22:30:00           -4683.6          187.2          183.6   \n",
       "2017-12-31 23:00:00           -4262.4          180.0          165.6   \n",
       "2017-12-31 23:30:00           -3808.8          176.4          169.2   \n",
       "\n",
       "                     node_3_demand  node_4_demand  node_5_demand  \\\n",
       "Timestamp                                                          \n",
       "2017-01-01 00:00:00           18.0          118.8          169.2   \n",
       "2017-01-01 00:30:00           18.0          108.0          144.0   \n",
       "2017-01-01 01:00:00           14.4          104.4          133.2   \n",
       "2017-01-01 01:30:00           10.8           86.4          122.4   \n",
       "2017-01-01 02:00:00           10.8           79.2          122.4   \n",
       "...                            ...            ...            ...   \n",
       "2017-12-31 21:30:00           39.6          183.6          284.4   \n",
       "2017-12-31 22:00:00           39.6          154.8          252.0   \n",
       "2017-12-31 22:30:00           36.0          147.6          230.4   \n",
       "2017-12-31 23:00:00           32.4          136.8          223.2   \n",
       "2017-12-31 23:30:00           25.2          122.4          201.6   \n",
       "\n",
       "                     node_6_demand  node_7_demand  node_8_demand  \\\n",
       "Timestamp                                                          \n",
       "2017-01-01 00:00:00          234.0           86.4           82.8   \n",
       "2017-01-01 00:30:00          237.6           79.2           75.6   \n",
       "2017-01-01 01:00:00          205.2           72.0           72.0   \n",
       "2017-01-01 01:30:00          180.0           68.4           57.6   \n",
       "2017-01-01 02:00:00          183.6           68.4           54.0   \n",
       "...                            ...            ...            ...   \n",
       "2017-12-31 21:30:00          316.8          176.4          133.2   \n",
       "2017-12-31 22:00:00          295.2          165.6          133.2   \n",
       "2017-12-31 22:30:00          320.4          147.6          118.8   \n",
       "2017-12-31 23:00:00          241.2          147.6          115.2   \n",
       "2017-12-31 23:30:00          241.2          122.4          100.8   \n",
       "\n",
       "                     node_9_demand  ...  link_23_flow  link_24_flow  \\\n",
       "Timestamp                           ...                               \n",
       "2017-01-01 00:00:00          104.4  ...         439.2        -205.2   \n",
       "2017-01-01 00:30:00           90.0  ...         392.4        -187.2   \n",
       "2017-01-01 01:00:00           90.0  ...         349.2        -176.4   \n",
       "2017-01-01 01:30:00           82.8  ...         316.8        -158.4   \n",
       "2017-01-01 02:00:00           75.6  ...         277.2        -144.0   \n",
       "...                            ...  ...           ...           ...   \n",
       "2017-12-31 21:30:00          129.6  ...         604.8        -259.2   \n",
       "2017-12-31 22:00:00          133.2  ...         565.2        -241.2   \n",
       "2017-12-31 22:30:00          126.0  ...         529.2        -226.8   \n",
       "2017-12-31 23:00:00          111.6  ...         496.8        -208.8   \n",
       "2017-12-31 23:30:00           93.6  ...         421.2        -180.0   \n",
       "\n",
       "                     link_25_flow  link_26_flow  link_27_flow  link_28_flow  \\\n",
       "Timestamp                                                                     \n",
       "2017-01-01 00:00:00         -75.6         -18.0         118.8          68.4   \n",
       "2017-01-01 00:30:00         -72.0         -21.6         108.0          61.2   \n",
       "2017-01-01 01:00:00         -64.8         -18.0          93.6          50.4   \n",
       "2017-01-01 01:30:00         -54.0         -10.8          79.2          46.8   \n",
       "2017-01-01 02:00:00         -57.6         -18.0          72.0          39.6   \n",
       "...                           ...           ...           ...           ...   \n",
       "2017-12-31 21:30:00          32.4         115.2         169.2         100.8   \n",
       "2017-12-31 22:00:00          21.6         100.8         154.8          86.4   \n",
       "2017-12-31 22:30:00          21.6         100.8         147.6          86.4   \n",
       "2017-12-31 23:00:00          21.6          93.6         133.2          79.2   \n",
       "2017-12-31 23:30:00          28.8          86.4         118.8          68.4   \n",
       "\n",
       "                     link_29_flow  link_30_flow  link_31_flow  link_32_flow  \n",
       "Timestamp                                                                    \n",
       "2017-01-01 00:00:00           7.2         -54.0          75.6         212.4  \n",
       "2017-01-01 00:30:00           3.6         -54.0          72.0         183.6  \n",
       "2017-01-01 01:00:00           3.6         -39.6          54.0         151.2  \n",
       "2017-01-01 01:30:00           7.2         -32.4          50.4         140.4  \n",
       "2017-01-01 02:00:00           7.2         -32.4          43.2         118.8  \n",
       "...                           ...           ...           ...           ...  \n",
       "2017-12-31 21:30:00          10.8        -100.8         122.4         309.6  \n",
       "2017-12-31 22:00:00          18.0         -75.6         100.8         288.0  \n",
       "2017-12-31 22:30:00          14.4         -86.4         108.0         266.4  \n",
       "2017-12-31 23:00:00          14.4         -75.6          97.2         255.6  \n",
       "2017-12-31 23:30:00          10.8         -68.4          86.4         216.0  \n",
       "\n",
       "[87600 rows x 96 columns]"
      ]
     },
     "execution_count": 2,
     "metadata": {},
     "output_type": "execute_result"
    }
   ],
   "source": [
    "df = pd.read_csv('/Users/alexellard/Downloads/scenarios_data.csv', header=0, index_col=0)\n",
    "df"
   ]
  },
  {
   "cell_type": "code",
   "execution_count": 3,
   "metadata": {},
   "outputs": [],
   "source": [
    "# convert series to supervised learning\n",
    "def series_to_supervised(data, n_in, n_out, vars_to_predict=None):\n",
    "    n_vars = data.shape[1]\n",
    "    df = pd.DataFrame(data)\n",
    "    cols, names = list(), list()\n",
    "    # input sequence (t-n, ... t-1)\n",
    "    for i in range(n_in, 0, -1):\n",
    "        cols.append(df.shift(i-1))\n",
    "        names += [('var%d(t-%d)' % (j+1, i)) for j in range(n_vars)]\n",
    "    # forecast sequence (t, t+1, ... t+n)\n",
    "    for i in range(n_out):\n",
    "        cols.append(df[vars_to_predict].shift(-i))\n",
    "        if i == 0:\n",
    "            names += [('var%d(t)' % (j+1)) for j in vars_to_predict]\n",
    "        else:\n",
    "            names += [('var%d(t+%d)' % (j+1, i)) for j in vars_to_predict]\n",
    "    # put it all together\n",
    "    agg = pd.concat(cols, axis=1)\n",
    "    agg.columns = names\n",
    "    return agg\n",
    "\n",
    "values = df.values\n",
    "# ensure all data is float\n",
    "values = values.astype('float32')\n",
    "# normalize features\n",
    "scaler = MinMaxScaler(feature_range=(0, 1))\n",
    "\n",
    "# node 1 indexes\n",
    "target_variable_demand_node1 = [1]\n",
    "target_variable_pressures_node1 = [33]\n",
    "target_variable_flows_node1 = [64]\n",
    "#node 16 indexes\n",
    "target_variable_demand_node16 = [16]\n",
    "target_variable_pressures_node16 = [48]\n",
    "target_variable_flows_node16 = [79]\n",
    "#node 29 indexes\n",
    "target_variable_demand_node29 = [29]\n",
    "target_variable_pressures_node29 = [61]\n",
    "target_variable_flows_node29 = [92]\n",
    "\n",
    "\n",
    "reframed_demand_node1 = series_to_supervised(values, 1, 1, vars_to_predict=target_variable_demand_node1)\n",
    "reframed_pressures_node1 = series_to_supervised(values, 1, 1, vars_to_predict=target_variable_pressures_node1)\n",
    "reframed_flows_node1 = series_to_supervised(values, 1, 1, vars_to_predict=target_variable_flows_node1)\n",
    "\n",
    "reframed_demand_node16 = series_to_supervised(values, 1, 1, vars_to_predict=target_variable_demand_node16)\n",
    "reframed_pressures_node16 = series_to_supervised(values, 1, 1, vars_to_predict=target_variable_pressures_node16)\n",
    "reframed_flows_node16 = series_to_supervised(values, 1, 1, vars_to_predict=target_variable_flows_node16)\n",
    "\n",
    "reframed_demand_node29 = series_to_supervised(values, 1, 1, vars_to_predict=target_variable_demand_node29)\n",
    "reframed_pressures_node29 = series_to_supervised(values, 1, 1, vars_to_predict=target_variable_pressures_node29)\n",
    "reframed_flows_node29 = series_to_supervised(values, 1, 1, vars_to_predict=target_variable_flows_node29)\n",
    "\n",
    "reframed_demand_node1 = reframed_demand_node1.drop(reframed_demand_node1.columns[1], axis=1)\n",
    "reframed_pressures_node1 = reframed_pressures_node1.drop(reframed_pressures_node1.columns[33], axis=1)\n",
    "reframed_flows_node1 = reframed_flows_node1.drop(reframed_flows_node1.columns[64], axis=1)\n",
    "\n",
    "reframed_demand_node16 = reframed_demand_node16.drop(reframed_demand_node16.columns[16], axis=1)\n",
    "reframed_pressures_node16 = reframed_pressures_node16.drop(reframed_pressures_node16.columns[48], axis=1)\n",
    "reframed_flows_node16 = reframed_flows_node16.drop(reframed_flows_node16.columns[79], axis=1)\n",
    "\n",
    "reframed_demand_node29 = reframed_demand_node29.drop(reframed_demand_node29.columns[29], axis=1)\n",
    "reframed_pressures_node29 = reframed_pressures_node29.drop(reframed_pressures_node29.columns[61], axis=1)\n",
    "reframed_flows_node29 = reframed_flows_node29.drop(reframed_flows_node29.columns[92], axis=1)"
   ]
  },
  {
   "cell_type": "code",
   "execution_count": 4,
   "metadata": {},
   "outputs": [
    {
     "data": {
      "text/html": [
       "<div>\n",
       "<style scoped>\n",
       "    .dataframe tbody tr th:only-of-type {\n",
       "        vertical-align: middle;\n",
       "    }\n",
       "\n",
       "    .dataframe tbody tr th {\n",
       "        vertical-align: top;\n",
       "    }\n",
       "\n",
       "    .dataframe thead th {\n",
       "        text-align: right;\n",
       "    }\n",
       "</style>\n",
       "<table border=\"1\" class=\"dataframe\">\n",
       "  <thead>\n",
       "    <tr style=\"text-align: right;\">\n",
       "      <th></th>\n",
       "      <th>var1(t-1)</th>\n",
       "      <th>var2(t-1)</th>\n",
       "      <th>var3(t-1)</th>\n",
       "      <th>var4(t-1)</th>\n",
       "      <th>var5(t-1)</th>\n",
       "      <th>var6(t-1)</th>\n",
       "      <th>var7(t-1)</th>\n",
       "      <th>var8(t-1)</th>\n",
       "      <th>var9(t-1)</th>\n",
       "      <th>var10(t-1)</th>\n",
       "      <th>...</th>\n",
       "      <th>var88(t-1)</th>\n",
       "      <th>var89(t-1)</th>\n",
       "      <th>var90(t-1)</th>\n",
       "      <th>var91(t-1)</th>\n",
       "      <th>var92(t-1)</th>\n",
       "      <th>var93(t-1)</th>\n",
       "      <th>var94(t-1)</th>\n",
       "      <th>var95(t-1)</th>\n",
       "      <th>var96(t-1)</th>\n",
       "      <th>var17(t)</th>\n",
       "    </tr>\n",
       "  </thead>\n",
       "  <tbody>\n",
       "    <tr>\n",
       "      <th>0</th>\n",
       "      <td>-3348.000000</td>\n",
       "      <td>154.800003</td>\n",
       "      <td>169.199997</td>\n",
       "      <td>18.000000</td>\n",
       "      <td>118.800003</td>\n",
       "      <td>169.199997</td>\n",
       "      <td>234.000000</td>\n",
       "      <td>86.400002</td>\n",
       "      <td>82.800003</td>\n",
       "      <td>104.400002</td>\n",
       "      <td>...</td>\n",
       "      <td>-205.199997</td>\n",
       "      <td>-75.599998</td>\n",
       "      <td>-18.000000</td>\n",
       "      <td>118.800003</td>\n",
       "      <td>68.400002</td>\n",
       "      <td>7.2</td>\n",
       "      <td>-54.000000</td>\n",
       "      <td>75.599998</td>\n",
       "      <td>212.399994</td>\n",
       "      <td>144.000000</td>\n",
       "    </tr>\n",
       "    <tr>\n",
       "      <th>1</th>\n",
       "      <td>-2959.199951</td>\n",
       "      <td>136.800003</td>\n",
       "      <td>147.600006</td>\n",
       "      <td>18.000000</td>\n",
       "      <td>108.000000</td>\n",
       "      <td>144.000000</td>\n",
       "      <td>237.600006</td>\n",
       "      <td>79.199997</td>\n",
       "      <td>75.599998</td>\n",
       "      <td>90.000000</td>\n",
       "      <td>...</td>\n",
       "      <td>-187.199997</td>\n",
       "      <td>-72.000000</td>\n",
       "      <td>-21.600000</td>\n",
       "      <td>108.000000</td>\n",
       "      <td>61.200001</td>\n",
       "      <td>3.6</td>\n",
       "      <td>-54.000000</td>\n",
       "      <td>72.000000</td>\n",
       "      <td>183.600006</td>\n",
       "      <td>111.599998</td>\n",
       "    </tr>\n",
       "    <tr>\n",
       "      <th>2</th>\n",
       "      <td>-2692.800049</td>\n",
       "      <td>129.600006</td>\n",
       "      <td>126.000000</td>\n",
       "      <td>14.400000</td>\n",
       "      <td>104.400002</td>\n",
       "      <td>133.199997</td>\n",
       "      <td>205.199997</td>\n",
       "      <td>72.000000</td>\n",
       "      <td>72.000000</td>\n",
       "      <td>90.000000</td>\n",
       "      <td>...</td>\n",
       "      <td>-176.399994</td>\n",
       "      <td>-64.800003</td>\n",
       "      <td>-18.000000</td>\n",
       "      <td>93.599998</td>\n",
       "      <td>50.400002</td>\n",
       "      <td>3.6</td>\n",
       "      <td>-39.599998</td>\n",
       "      <td>54.000000</td>\n",
       "      <td>151.199997</td>\n",
       "      <td>108.000000</td>\n",
       "    </tr>\n",
       "    <tr>\n",
       "      <th>3</th>\n",
       "      <td>-2379.600098</td>\n",
       "      <td>104.400002</td>\n",
       "      <td>100.800003</td>\n",
       "      <td>10.800000</td>\n",
       "      <td>86.400002</td>\n",
       "      <td>122.400002</td>\n",
       "      <td>180.000000</td>\n",
       "      <td>68.400002</td>\n",
       "      <td>57.599998</td>\n",
       "      <td>82.800003</td>\n",
       "      <td>...</td>\n",
       "      <td>-158.399994</td>\n",
       "      <td>-54.000000</td>\n",
       "      <td>-10.800000</td>\n",
       "      <td>79.199997</td>\n",
       "      <td>46.799999</td>\n",
       "      <td>7.2</td>\n",
       "      <td>-32.400002</td>\n",
       "      <td>50.400002</td>\n",
       "      <td>140.399994</td>\n",
       "      <td>90.000000</td>\n",
       "    </tr>\n",
       "    <tr>\n",
       "      <th>4</th>\n",
       "      <td>-2228.399902</td>\n",
       "      <td>104.400002</td>\n",
       "      <td>104.400002</td>\n",
       "      <td>10.800000</td>\n",
       "      <td>79.199997</td>\n",
       "      <td>122.400002</td>\n",
       "      <td>183.600006</td>\n",
       "      <td>68.400002</td>\n",
       "      <td>54.000000</td>\n",
       "      <td>75.599998</td>\n",
       "      <td>...</td>\n",
       "      <td>-144.000000</td>\n",
       "      <td>-57.599998</td>\n",
       "      <td>-18.000000</td>\n",
       "      <td>72.000000</td>\n",
       "      <td>39.599998</td>\n",
       "      <td>7.2</td>\n",
       "      <td>-32.400002</td>\n",
       "      <td>43.200001</td>\n",
       "      <td>118.800003</td>\n",
       "      <td>90.000000</td>\n",
       "    </tr>\n",
       "    <tr>\n",
       "      <th>...</th>\n",
       "      <td>...</td>\n",
       "      <td>...</td>\n",
       "      <td>...</td>\n",
       "      <td>...</td>\n",
       "      <td>...</td>\n",
       "      <td>...</td>\n",
       "      <td>...</td>\n",
       "      <td>...</td>\n",
       "      <td>...</td>\n",
       "      <td>...</td>\n",
       "      <td>...</td>\n",
       "      <td>...</td>\n",
       "      <td>...</td>\n",
       "      <td>...</td>\n",
       "      <td>...</td>\n",
       "      <td>...</td>\n",
       "      <td>...</td>\n",
       "      <td>...</td>\n",
       "      <td>...</td>\n",
       "      <td>...</td>\n",
       "      <td>...</td>\n",
       "    </tr>\n",
       "    <tr>\n",
       "      <th>87595</th>\n",
       "      <td>-5306.399902</td>\n",
       "      <td>205.199997</td>\n",
       "      <td>208.800003</td>\n",
       "      <td>39.599998</td>\n",
       "      <td>183.600006</td>\n",
       "      <td>284.399994</td>\n",
       "      <td>316.799988</td>\n",
       "      <td>176.399994</td>\n",
       "      <td>133.199997</td>\n",
       "      <td>129.600006</td>\n",
       "      <td>...</td>\n",
       "      <td>-259.200012</td>\n",
       "      <td>32.400002</td>\n",
       "      <td>115.199997</td>\n",
       "      <td>169.199997</td>\n",
       "      <td>100.800003</td>\n",
       "      <td>10.8</td>\n",
       "      <td>-100.800003</td>\n",
       "      <td>122.400002</td>\n",
       "      <td>309.600006</td>\n",
       "      <td>252.000000</td>\n",
       "    </tr>\n",
       "    <tr>\n",
       "      <th>87596</th>\n",
       "      <td>-4910.399902</td>\n",
       "      <td>208.800003</td>\n",
       "      <td>183.600006</td>\n",
       "      <td>39.599998</td>\n",
       "      <td>154.800003</td>\n",
       "      <td>252.000000</td>\n",
       "      <td>295.200012</td>\n",
       "      <td>165.600006</td>\n",
       "      <td>133.199997</td>\n",
       "      <td>133.199997</td>\n",
       "      <td>...</td>\n",
       "      <td>-241.199997</td>\n",
       "      <td>21.600000</td>\n",
       "      <td>100.800003</td>\n",
       "      <td>154.800003</td>\n",
       "      <td>86.400002</td>\n",
       "      <td>18.0</td>\n",
       "      <td>-75.599998</td>\n",
       "      <td>100.800003</td>\n",
       "      <td>288.000000</td>\n",
       "      <td>230.399994</td>\n",
       "    </tr>\n",
       "    <tr>\n",
       "      <th>87597</th>\n",
       "      <td>-4683.600098</td>\n",
       "      <td>187.199997</td>\n",
       "      <td>183.600006</td>\n",
       "      <td>36.000000</td>\n",
       "      <td>147.600006</td>\n",
       "      <td>230.399994</td>\n",
       "      <td>320.399994</td>\n",
       "      <td>147.600006</td>\n",
       "      <td>118.800003</td>\n",
       "      <td>126.000000</td>\n",
       "      <td>...</td>\n",
       "      <td>-226.800003</td>\n",
       "      <td>21.600000</td>\n",
       "      <td>100.800003</td>\n",
       "      <td>147.600006</td>\n",
       "      <td>86.400002</td>\n",
       "      <td>14.4</td>\n",
       "      <td>-86.400002</td>\n",
       "      <td>108.000000</td>\n",
       "      <td>266.399994</td>\n",
       "      <td>219.600006</td>\n",
       "    </tr>\n",
       "    <tr>\n",
       "      <th>87598</th>\n",
       "      <td>-4262.399902</td>\n",
       "      <td>180.000000</td>\n",
       "      <td>165.600006</td>\n",
       "      <td>32.400002</td>\n",
       "      <td>136.800003</td>\n",
       "      <td>223.199997</td>\n",
       "      <td>241.199997</td>\n",
       "      <td>147.600006</td>\n",
       "      <td>115.199997</td>\n",
       "      <td>111.599998</td>\n",
       "      <td>...</td>\n",
       "      <td>-208.800003</td>\n",
       "      <td>21.600000</td>\n",
       "      <td>93.599998</td>\n",
       "      <td>133.199997</td>\n",
       "      <td>79.199997</td>\n",
       "      <td>14.4</td>\n",
       "      <td>-75.599998</td>\n",
       "      <td>97.199997</td>\n",
       "      <td>255.600006</td>\n",
       "      <td>208.800003</td>\n",
       "    </tr>\n",
       "    <tr>\n",
       "      <th>87599</th>\n",
       "      <td>-3808.800049</td>\n",
       "      <td>176.399994</td>\n",
       "      <td>169.199997</td>\n",
       "      <td>25.200001</td>\n",
       "      <td>122.400002</td>\n",
       "      <td>201.600006</td>\n",
       "      <td>241.199997</td>\n",
       "      <td>122.400002</td>\n",
       "      <td>100.800003</td>\n",
       "      <td>93.599998</td>\n",
       "      <td>...</td>\n",
       "      <td>-180.000000</td>\n",
       "      <td>28.799999</td>\n",
       "      <td>86.400002</td>\n",
       "      <td>118.800003</td>\n",
       "      <td>68.400002</td>\n",
       "      <td>10.8</td>\n",
       "      <td>-68.400002</td>\n",
       "      <td>86.400002</td>\n",
       "      <td>216.000000</td>\n",
       "      <td>169.199997</td>\n",
       "    </tr>\n",
       "  </tbody>\n",
       "</table>\n",
       "<p>87600 rows × 96 columns</p>\n",
       "</div>"
      ],
      "text/plain": [
       "         var1(t-1)   var2(t-1)   var3(t-1)  var4(t-1)   var5(t-1)   var6(t-1)  \\\n",
       "0     -3348.000000  154.800003  169.199997  18.000000  118.800003  169.199997   \n",
       "1     -2959.199951  136.800003  147.600006  18.000000  108.000000  144.000000   \n",
       "2     -2692.800049  129.600006  126.000000  14.400000  104.400002  133.199997   \n",
       "3     -2379.600098  104.400002  100.800003  10.800000   86.400002  122.400002   \n",
       "4     -2228.399902  104.400002  104.400002  10.800000   79.199997  122.400002   \n",
       "...            ...         ...         ...        ...         ...         ...   \n",
       "87595 -5306.399902  205.199997  208.800003  39.599998  183.600006  284.399994   \n",
       "87596 -4910.399902  208.800003  183.600006  39.599998  154.800003  252.000000   \n",
       "87597 -4683.600098  187.199997  183.600006  36.000000  147.600006  230.399994   \n",
       "87598 -4262.399902  180.000000  165.600006  32.400002  136.800003  223.199997   \n",
       "87599 -3808.800049  176.399994  169.199997  25.200001  122.400002  201.600006   \n",
       "\n",
       "        var7(t-1)   var8(t-1)   var9(t-1)  var10(t-1)  ...  var88(t-1)  \\\n",
       "0      234.000000   86.400002   82.800003  104.400002  ... -205.199997   \n",
       "1      237.600006   79.199997   75.599998   90.000000  ... -187.199997   \n",
       "2      205.199997   72.000000   72.000000   90.000000  ... -176.399994   \n",
       "3      180.000000   68.400002   57.599998   82.800003  ... -158.399994   \n",
       "4      183.600006   68.400002   54.000000   75.599998  ... -144.000000   \n",
       "...           ...         ...         ...         ...  ...         ...   \n",
       "87595  316.799988  176.399994  133.199997  129.600006  ... -259.200012   \n",
       "87596  295.200012  165.600006  133.199997  133.199997  ... -241.199997   \n",
       "87597  320.399994  147.600006  118.800003  126.000000  ... -226.800003   \n",
       "87598  241.199997  147.600006  115.199997  111.599998  ... -208.800003   \n",
       "87599  241.199997  122.400002  100.800003   93.599998  ... -180.000000   \n",
       "\n",
       "       var89(t-1)  var90(t-1)  var91(t-1)  var92(t-1)  var93(t-1)  var94(t-1)  \\\n",
       "0      -75.599998  -18.000000  118.800003   68.400002         7.2  -54.000000   \n",
       "1      -72.000000  -21.600000  108.000000   61.200001         3.6  -54.000000   \n",
       "2      -64.800003  -18.000000   93.599998   50.400002         3.6  -39.599998   \n",
       "3      -54.000000  -10.800000   79.199997   46.799999         7.2  -32.400002   \n",
       "4      -57.599998  -18.000000   72.000000   39.599998         7.2  -32.400002   \n",
       "...           ...         ...         ...         ...         ...         ...   \n",
       "87595   32.400002  115.199997  169.199997  100.800003        10.8 -100.800003   \n",
       "87596   21.600000  100.800003  154.800003   86.400002        18.0  -75.599998   \n",
       "87597   21.600000  100.800003  147.600006   86.400002        14.4  -86.400002   \n",
       "87598   21.600000   93.599998  133.199997   79.199997        14.4  -75.599998   \n",
       "87599   28.799999   86.400002  118.800003   68.400002        10.8  -68.400002   \n",
       "\n",
       "       var95(t-1)  var96(t-1)    var17(t)  \n",
       "0       75.599998  212.399994  144.000000  \n",
       "1       72.000000  183.600006  111.599998  \n",
       "2       54.000000  151.199997  108.000000  \n",
       "3       50.400002  140.399994   90.000000  \n",
       "4       43.200001  118.800003   90.000000  \n",
       "...           ...         ...         ...  \n",
       "87595  122.400002  309.600006  252.000000  \n",
       "87596  100.800003  288.000000  230.399994  \n",
       "87597  108.000000  266.399994  219.600006  \n",
       "87598   97.199997  255.600006  208.800003  \n",
       "87599   86.400002  216.000000  169.199997  \n",
       "\n",
       "[87600 rows x 96 columns]"
      ]
     },
     "execution_count": 4,
     "metadata": {},
     "output_type": "execute_result"
    }
   ],
   "source": [
    "reframed_demand_node16"
   ]
  },
  {
   "cell_type": "code",
   "execution_count": 34,
   "metadata": {},
   "outputs": [],
   "source": [
    "values = df.values\n",
    "values = values.astype('float32')\n",
    "reframed_demand_node16 = series_to_supervised(values, 1, 1, vars_to_predict=target_variable_demand_node16)\n",
    "reframed_demand_node16 = reframed_demand_node16.drop(reframed_demand_node16.columns[16], axis=1)"
   ]
  },
  {
   "cell_type": "code",
   "execution_count": 41,
   "metadata": {},
   "outputs": [
    {
     "name": "stdout",
     "output_type": "stream",
     "text": [
      "[[]]\n",
      "starting df shape: (87600, 96)\n",
      "This is training run 1 and has the shape:  (87600, 96)\n",
      "The value of dropped columns is 0\n",
      "[[]]\n",
      "starting df shape: (87600, 96)\n",
      "This is training run 2 and has the shape:  (87600, 96)\n",
      "The value of dropped columns is 0\n",
      "[[]]\n",
      "starting df shape: (87600, 96)\n",
      "This is training run 3 and has the shape:  (87600, 96)\n",
      "The value of dropped columns is 0\n",
      "[[]]\n",
      "starting df shape: (87600, 96)\n",
      "This is training run 4 and has the shape:  (87600, 96)\n",
      "The value of dropped columns is 0\n",
      "[[]]\n",
      "starting df shape: (87600, 96)\n",
      "This is training run 5 and has the shape:  (87600, 96)\n",
      "The value of dropped columns is 0\n",
      "[[]]\n",
      "starting df shape: (87600, 96)\n",
      "This is training run 6 and has the shape:  (87600, 96)\n",
      "The value of dropped columns is 0\n",
      "[[]]\n",
      "starting df shape: (87600, 96)\n",
      "This is training run 7 and has the shape:  (87600, 96)\n",
      "The value of dropped columns is 0\n",
      "[[]]\n",
      "starting df shape: (87600, 96)\n",
      "This is training run 8 and has the shape:  (87600, 96)\n",
      "The value of dropped columns is 0\n",
      "[[]]\n",
      "starting df shape: (87600, 96)\n",
      "This is training run 9 and has the shape:  (87600, 96)\n",
      "The value of dropped columns is 0\n",
      "[[]]\n",
      "starting df shape: (87600, 96)\n",
      "This is training run 10 and has the shape:  (87600, 96)\n",
      "The value of dropped columns is 0\n",
      "[['var40(t-1)', 'var9(t-1)', 'var22(t-1)', 'var3(t-1)', 'var66(t-1)']]\n",
      "starting df shape: (87600, 91)\n",
      "This is training run 1 and has the shape:  (87600, 91)\n",
      "The value of dropped columns is 5\n",
      "[['var48(t-1)', 'var53(t-1)', 'var63(t-1)', 'var35(t-1)', 'var14(t-1)']]\n",
      "starting df shape: (87600, 91)\n",
      "This is training run 2 and has the shape:  (87600, 91)\n",
      "The value of dropped columns is 5\n",
      "[['var82(t-1)', 'var93(t-1)', 'var19(t-1)', 'var59(t-1)', 'var69(t-1)']]\n",
      "starting df shape: (87600, 91)\n",
      "This is training run 3 and has the shape:  (87600, 91)\n",
      "The value of dropped columns is 5\n",
      "[['var20(t-1)', 'var48(t-1)', 'var24(t-1)', 'var26(t-1)', 'var87(t-1)']]\n",
      "starting df shape: (87600, 91)\n",
      "This is training run 4 and has the shape:  (87600, 91)\n",
      "The value of dropped columns is 5\n",
      "[['var48(t-1)', 'var22(t-1)', 'var57(t-1)', 'var63(t-1)', 'var90(t-1)']]\n",
      "starting df shape: (87600, 91)\n",
      "This is training run 5 and has the shape:  (87600, 91)\n",
      "The value of dropped columns is 5\n",
      "[['var59(t-1)', 'var53(t-1)', 'var80(t-1)', 'var11(t-1)', 'var29(t-1)']]\n",
      "starting df shape: (87600, 91)\n",
      "This is training run 6 and has the shape:  (87600, 91)\n",
      "The value of dropped columns is 5\n",
      "[['var79(t-1)', 'var22(t-1)', 'var21(t-1)', 'var51(t-1)', 'var11(t-1)']]\n",
      "starting df shape: (87600, 91)\n",
      "This is training run 7 and has the shape:  (87600, 91)\n",
      "The value of dropped columns is 5\n",
      "[['var42(t-1)', 'var61(t-1)', 'var53(t-1)', 'var73(t-1)']]\n",
      "starting df shape: (87600, 92)\n",
      "This is training run 8 and has the shape:  (87600, 92)\n",
      "The value of dropped columns is 5\n",
      "[['var68(t-1)', 'var9(t-1)', 'var66(t-1)', 'var60(t-1)', 'var11(t-1)']]\n",
      "starting df shape: (87600, 91)\n",
      "This is training run 9 and has the shape:  (87600, 91)\n",
      "The value of dropped columns is 5\n",
      "[['var12(t-1)', 'var48(t-1)', 'var50(t-1)', 'var39(t-1)', 'var38(t-1)']]\n",
      "starting df shape: (87600, 91)\n",
      "This is training run 10 and has the shape:  (87600, 91)\n",
      "The value of dropped columns is 5\n",
      "[['var59(t-1)', 'var10(t-1)', 'var16(t-1)', 'var63(t-1)', 'var48(t-1)', 'var86(t-1)', 'var45(t-1)', 'var43(t-1)', 'var18(t-1)', 'var12(t-1)']]\n",
      "starting df shape: (87600, 86)\n",
      "This is training run 1 and has the shape:  (87600, 86)\n",
      "The value of dropped columns is 10\n",
      "[['var26(t-1)', 'var21(t-1)', 'var30(t-1)', 'var7(t-1)', 'var76(t-1)', 'var91(t-1)', 'var57(t-1)', 'var25(t-1)', 'var4(t-1)', 'var90(t-1)']]\n",
      "starting df shape: (87600, 86)\n",
      "This is training run 2 and has the shape:  (87600, 86)\n",
      "The value of dropped columns is 10\n",
      "[['var28(t-1)', 'var40(t-1)', 'var68(t-1)', 'var51(t-1)', 'var21(t-1)', 'var38(t-1)', 'var16(t-1)', 'var92(t-1)', 'var29(t-1)', 'var85(t-1)']]\n",
      "starting df shape: (87600, 86)\n",
      "This is training run 3 and has the shape:  (87600, 86)\n",
      "The value of dropped columns is 10\n",
      "[['var31(t-1)', 'var60(t-1)', 'var44(t-1)', 'var92(t-1)', 'var86(t-1)', 'var8(t-1)', 'var18(t-1)', 'var71(t-1)', 'var45(t-1)', 'var94(t-1)']]\n",
      "starting df shape: (87600, 86)\n",
      "This is training run 4 and has the shape:  (87600, 86)\n",
      "The value of dropped columns is 10\n",
      "[['var76(t-1)', 'var27(t-1)', 'var39(t-1)', 'var59(t-1)', 'var68(t-1)', 'var65(t-1)', 'var10(t-1)', 'var95(t-1)', 'var7(t-1)', 'var86(t-1)']]\n",
      "starting df shape: (87600, 86)\n",
      "This is training run 5 and has the shape:  (87600, 86)\n",
      "The value of dropped columns is 10\n",
      "[['var39(t-1)', 'var5(t-1)', 'var53(t-1)', 'var54(t-1)', 'var30(t-1)', 'var82(t-1)', 'var31(t-1)', 'var57(t-1)', 'var72(t-1)', 'var33(t-1)']]\n",
      "starting df shape: (87600, 86)\n",
      "This is training run 6 and has the shape:  (87600, 86)\n",
      "The value of dropped columns is 10\n",
      "[['var44(t-1)', 'var60(t-1)', 'var90(t-1)', 'var73(t-1)', 'var70(t-1)', 'var71(t-1)', 'var63(t-1)', 'var75(t-1)', 'var84(t-1)', 'var5(t-1)']]\n",
      "starting df shape: (87600, 86)\n",
      "This is training run 7 and has the shape:  (87600, 86)\n",
      "The value of dropped columns is 10\n",
      "[['var7(t-1)', 'var29(t-1)', 'var14(t-1)', 'var58(t-1)', 'var64(t-1)', 'var39(t-1)', 'var49(t-1)', 'var69(t-1)', 'var15(t-1)', 'var9(t-1)']]\n",
      "starting df shape: (87600, 86)\n",
      "This is training run 8 and has the shape:  (87600, 86)\n",
      "The value of dropped columns is 10\n",
      "[['var24(t-1)', 'var94(t-1)', 'var93(t-1)', 'var36(t-1)', 'var11(t-1)', 'var47(t-1)', 'var5(t-1)', 'var20(t-1)', 'var10(t-1)', 'var70(t-1)']]\n",
      "starting df shape: (87600, 86)\n",
      "This is training run 9 and has the shape:  (87600, 86)\n",
      "The value of dropped columns is 10\n",
      "[['var48(t-1)', 'var19(t-1)', 'var76(t-1)', 'var5(t-1)', 'var55(t-1)', 'var14(t-1)', 'var8(t-1)', 'var65(t-1)', 'var86(t-1)', 'var79(t-1)']]\n",
      "starting df shape: (87600, 86)\n",
      "This is training run 10 and has the shape:  (87600, 86)\n",
      "The value of dropped columns is 10\n",
      "[['var54(t-1)', 'var36(t-1)', 'var19(t-1)', 'var13(t-1)', 'var42(t-1)', 'var65(t-1)', 'var86(t-1)', 'var5(t-1)', 'var45(t-1)', 'var39(t-1)', 'var38(t-1)', 'var91(t-1)', 'var57(t-1)', 'var80(t-1)', 'var59(t-1)']]\n",
      "starting df shape: (87600, 81)\n",
      "This is training run 1 and has the shape:  (87600, 81)\n",
      "The value of dropped columns is 15\n",
      "[['var8(t-1)', 'var21(t-1)', 'var57(t-1)', 'var19(t-1)', 'var42(t-1)', 'var56(t-1)', 'var29(t-1)', 'var96(t-1)', 'var3(t-1)', 'var76(t-1)', 'var16(t-1)', 'var79(t-1)', 'var31(t-1)', 'var36(t-1)']]\n",
      "starting df shape: (87600, 82)\n",
      "This is training run 2 and has the shape:  (87600, 82)\n",
      "The value of dropped columns is 15\n",
      "[['var93(t-1)', 'var89(t-1)', 'var52(t-1)', 'var48(t-1)', 'var8(t-1)', 'var19(t-1)', 'var95(t-1)', 'var21(t-1)', 'var49(t-1)', 'var45(t-1)', 'var96(t-1)', 'var4(t-1)', 'var14(t-1)', 'var26(t-1)', 'var53(t-1)']]\n",
      "starting df shape: (87600, 81)\n",
      "This is training run 3 and has the shape:  (87600, 81)\n",
      "The value of dropped columns is 15\n",
      "[['var92(t-1)', 'var37(t-1)', 'var45(t-1)', 'var11(t-1)', 'var89(t-1)', 'var5(t-1)', 'var38(t-1)', 'var61(t-1)', 'var15(t-1)', 'var70(t-1)', 'var62(t-1)', 'var42(t-1)', 'var74(t-1)', 'var96(t-1)', 'var51(t-1)']]\n",
      "starting df shape: (87600, 81)\n",
      "This is training run 4 and has the shape:  (87600, 81)\n",
      "The value of dropped columns is 15\n",
      "[['var18(t-1)', 'var52(t-1)', 'var25(t-1)', 'var20(t-1)', 'var6(t-1)', 'var45(t-1)', 'var76(t-1)', 'var82(t-1)', 'var13(t-1)', 'var34(t-1)', 'var27(t-1)', 'var23(t-1)', 'var33(t-1)', 'var1(t-1)', 'var32(t-1)']]\n",
      "starting df shape: (87600, 81)\n",
      "This is training run 5 and has the shape:  (87600, 81)\n",
      "The value of dropped columns is 15\n",
      "[['var44(t-1)', 'var61(t-1)', 'var59(t-1)', 'var30(t-1)', 'var57(t-1)', 'var90(t-1)', 'var21(t-1)', 'var86(t-1)', 'var94(t-1)', 'var58(t-1)', 'var81(t-1)', 'var53(t-1)', 'var95(t-1)', 'var6(t-1)', 'var87(t-1)']]\n",
      "starting df shape: (87600, 81)\n",
      "This is training run 6 and has the shape:  (87600, 81)\n",
      "The value of dropped columns is 15\n",
      "[['var76(t-1)', 'var33(t-1)', 'var77(t-1)', 'var65(t-1)', 'var40(t-1)', 'var90(t-1)', 'var14(t-1)', 'var8(t-1)', 'var28(t-1)', 'var70(t-1)', 'var35(t-1)', 'var18(t-1)', 'var73(t-1)', 'var21(t-1)', 'var94(t-1)']]\n",
      "starting df shape: (87600, 81)\n",
      "This is training run 7 and has the shape:  (87600, 81)\n",
      "The value of dropped columns is 15\n",
      "[['var34(t-1)', 'var52(t-1)', 'var3(t-1)', 'var44(t-1)', 'var95(t-1)', 'var67(t-1)', 'var24(t-1)', 'var76(t-1)', 'var31(t-1)', 'var57(t-1)', 'var20(t-1)', 'var72(t-1)', 'var75(t-1)', 'var15(t-1)', 'var39(t-1)']]\n",
      "starting df shape: (87600, 81)\n",
      "This is training run 8 and has the shape:  (87600, 81)\n",
      "The value of dropped columns is 15\n",
      "[['var28(t-1)', 'var58(t-1)', 'var66(t-1)', 'var25(t-1)', 'var90(t-1)', 'var20(t-1)', 'var55(t-1)', 'var61(t-1)', 'var67(t-1)', 'var21(t-1)', 'var82(t-1)', 'var87(t-1)', 'var80(t-1)', 'var83(t-1)', 'var96(t-1)']]\n",
      "starting df shape: (87600, 81)\n",
      "This is training run 9 and has the shape:  (87600, 81)\n",
      "The value of dropped columns is 15\n",
      "[['var36(t-1)', 'var94(t-1)', 'var68(t-1)', 'var14(t-1)', 'var26(t-1)', 'var10(t-1)', 'var82(t-1)', 'var40(t-1)', 'var65(t-1)', 'var16(t-1)', 'var31(t-1)', 'var32(t-1)', 'var11(t-1)', 'var39(t-1)']]\n",
      "starting df shape: (87600, 82)\n",
      "This is training run 10 and has the shape:  (87600, 82)\n",
      "The value of dropped columns is 15\n"
     ]
    },
    {
     "name": "stdout",
     "output_type": "stream",
     "text": [
      "[['var10(t-1)', 'var74(t-1)', 'var63(t-1)', 'var80(t-1)', 'var8(t-1)', 'var77(t-1)', 'var90(t-1)', 'var23(t-1)', 'var68(t-1)', 'var91(t-1)', 'var1(t-1)', 'var82(t-1)', 'var75(t-1)', 'var71(t-1)', 'var65(t-1)', 'var54(t-1)', 'var13(t-1)', 'var94(t-1)', 'var57(t-1)']]\n",
      "starting df shape: (87600, 77)\n",
      "This is training run 1 and has the shape:  (87600, 77)\n",
      "The value of dropped columns is 20\n",
      "[['var61(t-1)', 'var79(t-1)', 'var50(t-1)', 'var74(t-1)', 'var57(t-1)', 'var49(t-1)', 'var8(t-1)', 'var55(t-1)', 'var46(t-1)', 'var52(t-1)', 'var78(t-1)', 'var43(t-1)', 'var3(t-1)', 'var77(t-1)', 'var88(t-1)', 'var94(t-1)', 'var71(t-1)', 'var70(t-1)', 'var24(t-1)', 'var7(t-1)']]\n",
      "starting df shape: (87600, 76)\n",
      "This is training run 2 and has the shape:  (87600, 76)\n",
      "The value of dropped columns is 20\n",
      "[['var66(t-1)', 'var41(t-1)', 'var90(t-1)', 'var89(t-1)', 'var32(t-1)', 'var68(t-1)', 'var14(t-1)', 'var7(t-1)', 'var58(t-1)', 'var80(t-1)', 'var74(t-1)', 'var53(t-1)', 'var9(t-1)', 'var12(t-1)', 'var25(t-1)', 'var87(t-1)', 'var36(t-1)', 'var26(t-1)', 'var16(t-1)', 'var73(t-1)']]\n",
      "starting df shape: (87600, 76)\n",
      "This is training run 3 and has the shape:  (87600, 76)\n",
      "The value of dropped columns is 20\n",
      "[['var64(t-1)', 'var54(t-1)', 'var62(t-1)', 'var26(t-1)', 'var35(t-1)', 'var7(t-1)', 'var14(t-1)', 'var41(t-1)', 'var43(t-1)', 'var11(t-1)', 'var96(t-1)', 'var71(t-1)', 'var19(t-1)', 'var6(t-1)', 'var37(t-1)', 'var67(t-1)', 'var78(t-1)', 'var75(t-1)', 'var22(t-1)', 'var9(t-1)']]\n",
      "starting df shape: (87600, 76)\n",
      "This is training run 4 and has the shape:  (87600, 76)\n",
      "The value of dropped columns is 20\n",
      "[['var32(t-1)', 'var65(t-1)', 'var16(t-1)', 'var55(t-1)', 'var93(t-1)', 'var29(t-1)', 'var88(t-1)', 'var28(t-1)', 'var36(t-1)', 'var70(t-1)', 'var60(t-1)', 'var12(t-1)', 'var71(t-1)', 'var48(t-1)', 'var13(t-1)', 'var90(t-1)', 'var21(t-1)', 'var9(t-1)', 'var61(t-1)', 'var20(t-1)']]\n",
      "starting df shape: (87600, 76)\n",
      "This is training run 5 and has the shape:  (87600, 76)\n",
      "The value of dropped columns is 20\n",
      "[['var57(t-1)', 'var80(t-1)', 'var20(t-1)', 'var18(t-1)', 'var52(t-1)', 'var56(t-1)', 'var19(t-1)', 'var60(t-1)', 'var2(t-1)', 'var70(t-1)', 'var90(t-1)', 'var8(t-1)', 'var63(t-1)', 'var34(t-1)', 'var69(t-1)', 'var75(t-1)', 'var77(t-1)', 'var7(t-1)', 'var93(t-1)']]\n",
      "starting df shape: (87600, 77)\n",
      "This is training run 6 and has the shape:  (87600, 77)\n",
      "The value of dropped columns is 20\n",
      "[['var68(t-1)', 'var32(t-1)', 'var30(t-1)', 'var7(t-1)', 'var58(t-1)', 'var91(t-1)', 'var71(t-1)', 'var15(t-1)', 'var23(t-1)', 'var90(t-1)', 'var45(t-1)', 'var81(t-1)', 'var49(t-1)', 'var82(t-1)', 'var33(t-1)', 'var14(t-1)', 'var42(t-1)', 'var50(t-1)', 'var52(t-1)', 'var88(t-1)']]\n",
      "starting df shape: (87600, 76)\n",
      "This is training run 7 and has the shape:  (87600, 76)\n",
      "The value of dropped columns is 20\n",
      "[['var12(t-1)', 'var78(t-1)', 'var84(t-1)', 'var62(t-1)', 'var47(t-1)', 'var92(t-1)', 'var72(t-1)', 'var8(t-1)', 'var71(t-1)', 'var22(t-1)', 'var91(t-1)', 'var4(t-1)', 'var10(t-1)', 'var58(t-1)', 'var87(t-1)', 'var86(t-1)', 'var50(t-1)', 'var11(t-1)', 'var68(t-1)', 'var90(t-1)']]\n",
      "starting df shape: (87600, 76)\n",
      "This is training run 8 and has the shape:  (87600, 76)\n",
      "The value of dropped columns is 20\n",
      "[['var47(t-1)', 'var18(t-1)', 'var75(t-1)', 'var85(t-1)', 'var27(t-1)', 'var82(t-1)', 'var95(t-1)', 'var9(t-1)', 'var73(t-1)', 'var68(t-1)', 'var16(t-1)', 'var22(t-1)', 'var93(t-1)', 'var96(t-1)', 'var14(t-1)', 'var42(t-1)', 'var26(t-1)', 'var61(t-1)', 'var39(t-1)', 'var63(t-1)']]\n",
      "starting df shape: (87600, 76)\n",
      "This is training run 9 and has the shape:  (87600, 76)\n",
      "The value of dropped columns is 20\n",
      "[['var45(t-1)', 'var53(t-1)', 'var71(t-1)', 'var61(t-1)', 'var56(t-1)', 'var67(t-1)', 'var55(t-1)', 'var16(t-1)', 'var21(t-1)', 'var86(t-1)', 'var81(t-1)', 'var30(t-1)', 'var68(t-1)', 'var37(t-1)', 'var28(t-1)', 'var12(t-1)', 'var13(t-1)', 'var50(t-1)', 'var3(t-1)']]\n",
      "starting df shape: (87600, 77)\n",
      "This is training run 10 and has the shape:  (87600, 77)\n",
      "The value of dropped columns is 20\n",
      "[['var89(t-1)', 'var54(t-1)', 'var34(t-1)', 'var13(t-1)', 'var66(t-1)', 'var71(t-1)', 'var31(t-1)', 'var69(t-1)', 'var72(t-1)', 'var20(t-1)', 'var5(t-1)', 'var84(t-1)', 'var33(t-1)', 'var44(t-1)', 'var6(t-1)', 'var19(t-1)', 'var68(t-1)', 'var60(t-1)', 'var1(t-1)', 'var77(t-1)', 'var3(t-1)', 'var92(t-1)', 'var11(t-1)', 'var48(t-1)', 'var57(t-1)']]\n",
      "starting df shape: (87600, 71)\n",
      "This is training run 1 and has the shape:  (87600, 71)\n",
      "The value of dropped columns is 25\n",
      "[['var24(t-1)', 'var8(t-1)', 'var73(t-1)', 'var42(t-1)', 'var94(t-1)', 'var85(t-1)', 'var77(t-1)', 'var76(t-1)', 'var65(t-1)', 'var43(t-1)', 'var61(t-1)', 'var92(t-1)', 'var1(t-1)', 'var32(t-1)', 'var20(t-1)', 'var44(t-1)', 'var63(t-1)', 'var54(t-1)', 'var29(t-1)', 'var13(t-1)', 'var60(t-1)', 'var28(t-1)', 'var37(t-1)', 'var89(t-1)']]\n",
      "starting df shape: (87600, 72)\n",
      "This is training run 2 and has the shape:  (87600, 72)\n",
      "The value of dropped columns is 25\n",
      "[['var85(t-1)', 'var70(t-1)', 'var86(t-1)', 'var10(t-1)', 'var53(t-1)', 'var95(t-1)', 'var82(t-1)', 'var68(t-1)', 'var8(t-1)', 'var12(t-1)', 'var75(t-1)', 'var23(t-1)', 'var4(t-1)', 'var46(t-1)', 'var37(t-1)', 'var88(t-1)', 'var81(t-1)', 'var62(t-1)', 'var77(t-1)', 'var34(t-1)', 'var74(t-1)', 'var87(t-1)', 'var83(t-1)', 'var52(t-1)']]\n",
      "starting df shape: (87600, 72)\n",
      "This is training run 3 and has the shape:  (87600, 72)\n",
      "The value of dropped columns is 25\n",
      "[['var57(t-1)', 'var44(t-1)', 'var5(t-1)', 'var81(t-1)', 'var68(t-1)', 'var33(t-1)', 'var83(t-1)', 'var55(t-1)', 'var20(t-1)', 'var25(t-1)', 'var32(t-1)', 'var24(t-1)', 'var4(t-1)', 'var64(t-1)', 'var54(t-1)', 'var78(t-1)', 'var84(t-1)', 'var92(t-1)', 'var34(t-1)', 'var58(t-1)', 'var76(t-1)', 'var8(t-1)', 'var30(t-1)', 'var52(t-1)', 'var91(t-1)']]\n",
      "starting df shape: (87600, 71)\n",
      "This is training run 4 and has the shape:  (87600, 71)\n",
      "The value of dropped columns is 25\n",
      "[['var9(t-1)', 'var65(t-1)', 'var10(t-1)', 'var1(t-1)', 'var78(t-1)', 'var44(t-1)', 'var36(t-1)', 'var58(t-1)', 'var81(t-1)', 'var61(t-1)', 'var4(t-1)', 'var62(t-1)', 'var48(t-1)', 'var35(t-1)', 'var38(t-1)', 'var42(t-1)', 'var83(t-1)', 'var34(t-1)', 'var3(t-1)', 'var25(t-1)', 'var70(t-1)', 'var2(t-1)', 'var52(t-1)', 'var49(t-1)', 'var12(t-1)']]\n",
      "starting df shape: (87600, 71)\n",
      "This is training run 5 and has the shape:  (87600, 71)\n",
      "The value of dropped columns is 25\n",
      "[['var15(t-1)', 'var60(t-1)', 'var3(t-1)', 'var46(t-1)', 'var8(t-1)', 'var9(t-1)', 'var12(t-1)', 'var87(t-1)', 'var55(t-1)', 'var86(t-1)', 'var37(t-1)', 'var82(t-1)', 'var45(t-1)', 'var23(t-1)', 'var31(t-1)', 'var22(t-1)', 'var1(t-1)', 'var79(t-1)', 'var61(t-1)', 'var6(t-1)', 'var65(t-1)', 'var85(t-1)', 'var64(t-1)', 'var83(t-1)', 'var56(t-1)']]\n",
      "starting df shape: (87600, 71)\n",
      "This is training run 6 and has the shape:  (87600, 71)\n",
      "The value of dropped columns is 25\n",
      "[['var80(t-1)', 'var42(t-1)', 'var1(t-1)', 'var66(t-1)', 'var93(t-1)', 'var49(t-1)', 'var13(t-1)', 'var19(t-1)', 'var31(t-1)', 'var45(t-1)', 'var14(t-1)', 'var65(t-1)', 'var54(t-1)', 'var72(t-1)', 'var27(t-1)', 'var9(t-1)', 'var6(t-1)', 'var58(t-1)', 'var23(t-1)', 'var56(t-1)', 'var41(t-1)', 'var68(t-1)', 'var76(t-1)', 'var34(t-1)', 'var55(t-1)']]\n",
      "starting df shape: (87600, 71)\n",
      "This is training run 7 and has the shape:  (87600, 71)\n",
      "The value of dropped columns is 25\n",
      "[['var40(t-1)', 'var24(t-1)', 'var89(t-1)', 'var19(t-1)', 'var93(t-1)', 'var26(t-1)', 'var71(t-1)', 'var77(t-1)', 'var96(t-1)', 'var42(t-1)', 'var4(t-1)', 'var44(t-1)', 'var69(t-1)', 'var88(t-1)', 'var35(t-1)', 'var21(t-1)', 'var45(t-1)', 'var20(t-1)', 'var80(t-1)', 'var49(t-1)', 'var50(t-1)', 'var39(t-1)', 'var82(t-1)', 'var52(t-1)']]\n",
      "starting df shape: (87600, 72)\n",
      "This is training run 8 and has the shape:  (87600, 72)\n",
      "The value of dropped columns is 25\n",
      "[['var27(t-1)', 'var54(t-1)', 'var8(t-1)', 'var65(t-1)', 'var61(t-1)', 'var82(t-1)', 'var14(t-1)', 'var32(t-1)', 'var92(t-1)', 'var29(t-1)', 'var57(t-1)', 'var66(t-1)', 'var16(t-1)', 'var43(t-1)', 'var40(t-1)', 'var93(t-1)', 'var85(t-1)', 'var15(t-1)', 'var5(t-1)', 'var52(t-1)', 'var64(t-1)', 'var38(t-1)', 'var2(t-1)', 'var6(t-1)', 'var33(t-1)']]\n",
      "starting df shape: (87600, 71)\n",
      "This is training run 9 and has the shape:  (87600, 71)\n",
      "The value of dropped columns is 25\n",
      "[['var16(t-1)', 'var73(t-1)', 'var57(t-1)', 'var22(t-1)', 'var58(t-1)', 'var30(t-1)', 'var59(t-1)', 'var34(t-1)', 'var33(t-1)', 'var46(t-1)', 'var44(t-1)', 'var83(t-1)', 'var94(t-1)', 'var78(t-1)', 'var79(t-1)', 'var25(t-1)', 'var2(t-1)', 'var11(t-1)', 'var40(t-1)', 'var68(t-1)', 'var47(t-1)', 'var31(t-1)', 'var4(t-1)', 'var66(t-1)', 'var92(t-1)']]\n",
      "starting df shape: (87600, 71)\n",
      "This is training run 10 and has the shape:  (87600, 71)\n",
      "The value of dropped columns is 25\n"
     ]
    }
   ],
   "source": [
    "MAE_average = []\n",
    "sensors_covered = []\n",
    "n_columns_to_drop = [0, 5, 10, 15, 20, 25]\n",
    "for n in n_columns_to_drop:\n",
    "    MAE = []\n",
    "    #select random columns to drop\n",
    "    for run in range(1,11):\n",
    "        values = df.values\n",
    "        values = values.astype('float32')\n",
    "        reframed_demand_node16 = series_to_supervised(values, 1, 1, vars_to_predict=target_variable_demand_node16)\n",
    "        reframed_demand_node16 = reframed_demand_node16.drop(reframed_demand_node16.columns[16], axis=1)\n",
    "        columns = []\n",
    "        columns_to_drop = random.sample(list(reframed_demand_node16.columns), n)\n",
    "        # Drop the selected columns from the dataframe\n",
    "        if reframed_demand_node16.columns[-1] in columns_to_drop:\n",
    "            columns_to_drop.remove(reframed_demand_node16.columns[-1])\n",
    "        reframed_demand_node16.drop(columns_to_drop, axis=1, inplace=True)\n",
    "        columns.append(columns_to_drop)\n",
    "        print(columns)\n",
    "        print('starting df shape:', reframed_demand_node16.shape)\n",
    "\n",
    "        print(f'This is training run {run} and has the shape: ', reframed_demand_node16.shape)\n",
    "        print(f'The value of dropped columns is {n}')"
   ]
  },
  {
   "cell_type": "code",
   "execution_count": 5,
   "metadata": {},
   "outputs": [
    {
     "name": "stdout",
     "output_type": "stream",
     "text": [
      "[[]]\n",
      "starting df shape: (87600, 96)\n",
      "This is training run 1 and has the shape:  (87600, 96)\n",
      "The value of dropped columns is 0\n"
     ]
    },
    {
     "name": "stderr",
     "output_type": "stream",
     "text": [
      "/Users/alexellard/opt/anaconda3/lib/python3.7/site-packages/xgboost/data.py:96: UserWarning: Use subset (sliced data) of np.ndarray is not recommended because it will generate extra copies and increase memory consumption\n",
      "  \"because it will generate extra copies and increase \" +\n"
     ]
    },
    {
     "name": "stdout",
     "output_type": "stream",
     "text": [
      "Run 1 Mean Absolute Error: 45.364094\n",
      "[[]]\n",
      "starting df shape: (87600, 96)\n",
      "This is training run 2 and has the shape:  (87600, 96)\n",
      "The value of dropped columns is 0\n"
     ]
    },
    {
     "name": "stderr",
     "output_type": "stream",
     "text": [
      "/Users/alexellard/opt/anaconda3/lib/python3.7/site-packages/xgboost/data.py:96: UserWarning: Use subset (sliced data) of np.ndarray is not recommended because it will generate extra copies and increase memory consumption\n",
      "  \"because it will generate extra copies and increase \" +\n"
     ]
    },
    {
     "name": "stdout",
     "output_type": "stream",
     "text": [
      "Run 2 Mean Absolute Error: 45.364094\n",
      "[[]]\n",
      "starting df shape: (87600, 96)\n",
      "This is training run 3 and has the shape:  (87600, 96)\n",
      "The value of dropped columns is 0\n"
     ]
    },
    {
     "name": "stderr",
     "output_type": "stream",
     "text": [
      "/Users/alexellard/opt/anaconda3/lib/python3.7/site-packages/xgboost/data.py:96: UserWarning: Use subset (sliced data) of np.ndarray is not recommended because it will generate extra copies and increase memory consumption\n",
      "  \"because it will generate extra copies and increase \" +\n"
     ]
    },
    {
     "name": "stdout",
     "output_type": "stream",
     "text": [
      "Run 3 Mean Absolute Error: 45.364094\n",
      "[[]]\n",
      "starting df shape: (87600, 96)\n",
      "This is training run 4 and has the shape:  (87600, 96)\n",
      "The value of dropped columns is 0\n"
     ]
    },
    {
     "name": "stderr",
     "output_type": "stream",
     "text": [
      "/Users/alexellard/opt/anaconda3/lib/python3.7/site-packages/xgboost/data.py:96: UserWarning: Use subset (sliced data) of np.ndarray is not recommended because it will generate extra copies and increase memory consumption\n",
      "  \"because it will generate extra copies and increase \" +\n"
     ]
    },
    {
     "name": "stdout",
     "output_type": "stream",
     "text": [
      "Run 4 Mean Absolute Error: 45.364094\n",
      "[[]]\n",
      "starting df shape: (87600, 96)\n",
      "This is training run 5 and has the shape:  (87600, 96)\n",
      "The value of dropped columns is 0\n"
     ]
    },
    {
     "name": "stderr",
     "output_type": "stream",
     "text": [
      "/Users/alexellard/opt/anaconda3/lib/python3.7/site-packages/xgboost/data.py:96: UserWarning: Use subset (sliced data) of np.ndarray is not recommended because it will generate extra copies and increase memory consumption\n",
      "  \"because it will generate extra copies and increase \" +\n"
     ]
    },
    {
     "name": "stdout",
     "output_type": "stream",
     "text": [
      "Run 5 Mean Absolute Error: 45.364094\n",
      "[[]]\n",
      "starting df shape: (87600, 96)\n",
      "This is training run 6 and has the shape:  (87600, 96)\n",
      "The value of dropped columns is 0\n"
     ]
    },
    {
     "name": "stderr",
     "output_type": "stream",
     "text": [
      "/Users/alexellard/opt/anaconda3/lib/python3.7/site-packages/xgboost/data.py:96: UserWarning: Use subset (sliced data) of np.ndarray is not recommended because it will generate extra copies and increase memory consumption\n",
      "  \"because it will generate extra copies and increase \" +\n"
     ]
    },
    {
     "name": "stdout",
     "output_type": "stream",
     "text": [
      "Run 6 Mean Absolute Error: 45.364094\n",
      "[[]]\n",
      "starting df shape: (87600, 96)\n",
      "This is training run 7 and has the shape:  (87600, 96)\n",
      "The value of dropped columns is 0\n"
     ]
    },
    {
     "name": "stderr",
     "output_type": "stream",
     "text": [
      "/Users/alexellard/opt/anaconda3/lib/python3.7/site-packages/xgboost/data.py:96: UserWarning: Use subset (sliced data) of np.ndarray is not recommended because it will generate extra copies and increase memory consumption\n",
      "  \"because it will generate extra copies and increase \" +\n"
     ]
    },
    {
     "name": "stdout",
     "output_type": "stream",
     "text": [
      "Run 7 Mean Absolute Error: 45.364094\n",
      "[[]]\n",
      "starting df shape: (87600, 96)\n",
      "This is training run 8 and has the shape:  (87600, 96)\n",
      "The value of dropped columns is 0\n"
     ]
    },
    {
     "name": "stderr",
     "output_type": "stream",
     "text": [
      "/Users/alexellard/opt/anaconda3/lib/python3.7/site-packages/xgboost/data.py:96: UserWarning: Use subset (sliced data) of np.ndarray is not recommended because it will generate extra copies and increase memory consumption\n",
      "  \"because it will generate extra copies and increase \" +\n"
     ]
    },
    {
     "name": "stdout",
     "output_type": "stream",
     "text": [
      "Run 8 Mean Absolute Error: 45.364094\n",
      "[[]]\n",
      "starting df shape: (87600, 96)\n",
      "This is training run 9 and has the shape:  (87600, 96)\n",
      "The value of dropped columns is 0\n"
     ]
    },
    {
     "name": "stderr",
     "output_type": "stream",
     "text": [
      "/Users/alexellard/opt/anaconda3/lib/python3.7/site-packages/xgboost/data.py:96: UserWarning: Use subset (sliced data) of np.ndarray is not recommended because it will generate extra copies and increase memory consumption\n",
      "  \"because it will generate extra copies and increase \" +\n"
     ]
    },
    {
     "name": "stdout",
     "output_type": "stream",
     "text": [
      "Run 9 Mean Absolute Error: 45.364094\n",
      "[[]]\n",
      "starting df shape: (87600, 96)\n",
      "This is training run 10 and has the shape:  (87600, 96)\n",
      "The value of dropped columns is 0\n"
     ]
    },
    {
     "name": "stderr",
     "output_type": "stream",
     "text": [
      "/Users/alexellard/opt/anaconda3/lib/python3.7/site-packages/xgboost/data.py:96: UserWarning: Use subset (sliced data) of np.ndarray is not recommended because it will generate extra copies and increase memory consumption\n",
      "  \"because it will generate extra copies and increase \" +\n"
     ]
    },
    {
     "name": "stdout",
     "output_type": "stream",
     "text": [
      "Run 10 Mean Absolute Error: 45.364094\n",
      "[['var82(t-1)', 'var62(t-1)', 'var21(t-1)', 'var11(t-1)', 'var2(t-1)']]\n",
      "starting df shape: (87600, 91)\n",
      "This is training run 1 and has the shape:  (87600, 91)\n",
      "The value of dropped columns is 5\n"
     ]
    },
    {
     "name": "stderr",
     "output_type": "stream",
     "text": [
      "/Users/alexellard/opt/anaconda3/lib/python3.7/site-packages/xgboost/data.py:96: UserWarning: Use subset (sliced data) of np.ndarray is not recommended because it will generate extra copies and increase memory consumption\n",
      "  \"because it will generate extra copies and increase \" +\n"
     ]
    },
    {
     "name": "stdout",
     "output_type": "stream",
     "text": [
      "Run 1 Mean Absolute Error: 49.777164\n",
      "[['var23(t-1)', 'var70(t-1)', 'var64(t-1)', 'var39(t-1)', 'var85(t-1)']]\n",
      "starting df shape: (87600, 91)\n",
      "This is training run 2 and has the shape:  (87600, 91)\n",
      "The value of dropped columns is 5\n"
     ]
    },
    {
     "name": "stderr",
     "output_type": "stream",
     "text": [
      "/Users/alexellard/opt/anaconda3/lib/python3.7/site-packages/xgboost/data.py:96: UserWarning: Use subset (sliced data) of np.ndarray is not recommended because it will generate extra copies and increase memory consumption\n",
      "  \"because it will generate extra copies and increase \" +\n"
     ]
    },
    {
     "name": "stdout",
     "output_type": "stream",
     "text": [
      "Run 2 Mean Absolute Error: 49.75407\n",
      "[['var11(t-1)', 'var78(t-1)', 'var84(t-1)', 'var60(t-1)', 'var1(t-1)']]\n",
      "starting df shape: (87600, 91)\n",
      "This is training run 3 and has the shape:  (87600, 91)\n",
      "The value of dropped columns is 5\n"
     ]
    },
    {
     "name": "stderr",
     "output_type": "stream",
     "text": [
      "/Users/alexellard/opt/anaconda3/lib/python3.7/site-packages/xgboost/data.py:96: UserWarning: Use subset (sliced data) of np.ndarray is not recommended because it will generate extra copies and increase memory consumption\n",
      "  \"because it will generate extra copies and increase \" +\n"
     ]
    },
    {
     "name": "stdout",
     "output_type": "stream",
     "text": [
      "Run 3 Mean Absolute Error: 3.0290682\n",
      "[['var4(t-1)', 'var20(t-1)', 'var53(t-1)', 'var56(t-1)', 'var61(t-1)']]\n",
      "starting df shape: (87600, 91)\n",
      "This is training run 4 and has the shape:  (87600, 91)\n",
      "The value of dropped columns is 5\n"
     ]
    },
    {
     "name": "stderr",
     "output_type": "stream",
     "text": [
      "/Users/alexellard/opt/anaconda3/lib/python3.7/site-packages/xgboost/data.py:96: UserWarning: Use subset (sliced data) of np.ndarray is not recommended because it will generate extra copies and increase memory consumption\n",
      "  \"because it will generate extra copies and increase \" +\n"
     ]
    },
    {
     "name": "stdout",
     "output_type": "stream",
     "text": [
      "Run 4 Mean Absolute Error: 46.514793\n",
      "[['var56(t-1)', 'var46(t-1)', 'var31(t-1)', 'var4(t-1)', 'var8(t-1)']]\n",
      "starting df shape: (87600, 91)\n",
      "This is training run 5 and has the shape:  (87600, 91)\n",
      "The value of dropped columns is 5\n"
     ]
    },
    {
     "name": "stderr",
     "output_type": "stream",
     "text": [
      "/Users/alexellard/opt/anaconda3/lib/python3.7/site-packages/xgboost/data.py:96: UserWarning: Use subset (sliced data) of np.ndarray is not recommended because it will generate extra copies and increase memory consumption\n",
      "  \"because it will generate extra copies and increase \" +\n"
     ]
    },
    {
     "name": "stdout",
     "output_type": "stream",
     "text": [
      "Run 5 Mean Absolute Error: 47.19124\n",
      "[['var73(t-1)', 'var70(t-1)', 'var15(t-1)', 'var10(t-1)', 'var88(t-1)']]\n",
      "starting df shape: (87600, 91)\n",
      "This is training run 6 and has the shape:  (87600, 91)\n",
      "The value of dropped columns is 5\n"
     ]
    },
    {
     "name": "stderr",
     "output_type": "stream",
     "text": [
      "/Users/alexellard/opt/anaconda3/lib/python3.7/site-packages/xgboost/data.py:96: UserWarning: Use subset (sliced data) of np.ndarray is not recommended because it will generate extra copies and increase memory consumption\n",
      "  \"because it will generate extra copies and increase \" +\n"
     ]
    },
    {
     "name": "stdout",
     "output_type": "stream",
     "text": [
      "Run 6 Mean Absolute Error: 49.353466\n",
      "[['var25(t-1)', 'var58(t-1)', 'var86(t-1)', 'var51(t-1)', 'var9(t-1)']]\n",
      "starting df shape: (87600, 91)\n",
      "This is training run 7 and has the shape:  (87600, 91)\n",
      "The value of dropped columns is 5\n"
     ]
    },
    {
     "name": "stderr",
     "output_type": "stream",
     "text": [
      "/Users/alexellard/opt/anaconda3/lib/python3.7/site-packages/xgboost/data.py:96: UserWarning: Use subset (sliced data) of np.ndarray is not recommended because it will generate extra copies and increase memory consumption\n",
      "  \"because it will generate extra copies and increase \" +\n"
     ]
    },
    {
     "name": "stdout",
     "output_type": "stream",
     "text": [
      "Run 7 Mean Absolute Error: 49.92774\n",
      "[['var60(t-1)', 'var15(t-1)', 'var82(t-1)', 'var75(t-1)', 'var18(t-1)']]\n",
      "starting df shape: (87600, 91)\n",
      "This is training run 8 and has the shape:  (87600, 91)\n",
      "The value of dropped columns is 5\n"
     ]
    },
    {
     "name": "stderr",
     "output_type": "stream",
     "text": [
      "/Users/alexellard/opt/anaconda3/lib/python3.7/site-packages/xgboost/data.py:96: UserWarning: Use subset (sliced data) of np.ndarray is not recommended because it will generate extra copies and increase memory consumption\n",
      "  \"because it will generate extra copies and increase \" +\n"
     ]
    },
    {
     "name": "stdout",
     "output_type": "stream",
     "text": [
      "Run 8 Mean Absolute Error: 51.129974\n",
      "[['var71(t-1)', 'var61(t-1)', 'var3(t-1)', 'var77(t-1)', 'var92(t-1)']]\n",
      "starting df shape: (87600, 91)\n",
      "This is training run 9 and has the shape:  (87600, 91)\n",
      "The value of dropped columns is 5\n"
     ]
    },
    {
     "name": "stderr",
     "output_type": "stream",
     "text": [
      "/Users/alexellard/opt/anaconda3/lib/python3.7/site-packages/xgboost/data.py:96: UserWarning: Use subset (sliced data) of np.ndarray is not recommended because it will generate extra copies and increase memory consumption\n",
      "  \"because it will generate extra copies and increase \" +\n"
     ]
    },
    {
     "name": "stdout",
     "output_type": "stream",
     "text": [
      "Run 9 Mean Absolute Error: 50.31559\n",
      "[['var71(t-1)', 'var57(t-1)', 'var75(t-1)', 'var88(t-1)', 'var53(t-1)']]\n",
      "starting df shape: (87600, 91)\n",
      "This is training run 10 and has the shape:  (87600, 91)\n",
      "The value of dropped columns is 5\n"
     ]
    },
    {
     "name": "stderr",
     "output_type": "stream",
     "text": [
      "/Users/alexellard/opt/anaconda3/lib/python3.7/site-packages/xgboost/data.py:96: UserWarning: Use subset (sliced data) of np.ndarray is not recommended because it will generate extra copies and increase memory consumption\n",
      "  \"because it will generate extra copies and increase \" +\n"
     ]
    },
    {
     "name": "stdout",
     "output_type": "stream",
     "text": [
      "Run 10 Mean Absolute Error: 50.069427\n",
      "[['var9(t-1)', 'var49(t-1)', 'var78(t-1)', 'var19(t-1)', 'var18(t-1)', 'var74(t-1)', 'var66(t-1)', 'var45(t-1)', 'var68(t-1)', 'var30(t-1)']]\n",
      "starting df shape: (87600, 86)\n",
      "This is training run 1 and has the shape:  (87600, 86)\n",
      "The value of dropped columns is 10\n"
     ]
    },
    {
     "name": "stderr",
     "output_type": "stream",
     "text": [
      "/Users/alexellard/opt/anaconda3/lib/python3.7/site-packages/xgboost/data.py:96: UserWarning: Use subset (sliced data) of np.ndarray is not recommended because it will generate extra copies and increase memory consumption\n",
      "  \"because it will generate extra copies and increase \" +\n"
     ]
    },
    {
     "name": "stdout",
     "output_type": "stream",
     "text": [
      "Run 1 Mean Absolute Error: 44.396698\n",
      "[['var88(t-1)', 'var95(t-1)', 'var49(t-1)', 'var59(t-1)', 'var89(t-1)', 'var5(t-1)', 'var20(t-1)', 'var76(t-1)', 'var12(t-1)', 'var18(t-1)']]\n",
      "starting df shape: (87600, 86)\n",
      "This is training run 2 and has the shape:  (87600, 86)\n",
      "The value of dropped columns is 10\n"
     ]
    },
    {
     "name": "stderr",
     "output_type": "stream",
     "text": [
      "/Users/alexellard/opt/anaconda3/lib/python3.7/site-packages/xgboost/data.py:96: UserWarning: Use subset (sliced data) of np.ndarray is not recommended because it will generate extra copies and increase memory consumption\n",
      "  \"because it will generate extra copies and increase \" +\n"
     ]
    },
    {
     "name": "stdout",
     "output_type": "stream",
     "text": [
      "Run 2 Mean Absolute Error: 46.19873\n",
      "[['var62(t-1)', 'var15(t-1)', 'var9(t-1)', 'var75(t-1)', 'var14(t-1)', 'var90(t-1)', 'var80(t-1)', 'var55(t-1)', 'var50(t-1)', 'var70(t-1)']]\n",
      "starting df shape: (87600, 86)\n",
      "This is training run 3 and has the shape:  (87600, 86)\n",
      "The value of dropped columns is 10\n"
     ]
    },
    {
     "name": "stderr",
     "output_type": "stream",
     "text": [
      "/Users/alexellard/opt/anaconda3/lib/python3.7/site-packages/xgboost/data.py:96: UserWarning: Use subset (sliced data) of np.ndarray is not recommended because it will generate extra copies and increase memory consumption\n",
      "  \"because it will generate extra copies and increase \" +\n"
     ]
    },
    {
     "name": "stdout",
     "output_type": "stream",
     "text": [
      "Run 3 Mean Absolute Error: 103.907646\n",
      "[['var28(t-1)', 'var30(t-1)', 'var24(t-1)', 'var79(t-1)', 'var42(t-1)', 'var74(t-1)', 'var49(t-1)', 'var96(t-1)', 'var80(t-1)', 'var56(t-1)']]\n",
      "starting df shape: (87600, 86)\n",
      "This is training run 4 and has the shape:  (87600, 86)\n",
      "The value of dropped columns is 10\n"
     ]
    },
    {
     "name": "stderr",
     "output_type": "stream",
     "text": [
      "/Users/alexellard/opt/anaconda3/lib/python3.7/site-packages/xgboost/data.py:96: UserWarning: Use subset (sliced data) of np.ndarray is not recommended because it will generate extra copies and increase memory consumption\n",
      "  \"because it will generate extra copies and increase \" +\n"
     ]
    },
    {
     "name": "stdout",
     "output_type": "stream",
     "text": [
      "Run 4 Mean Absolute Error: 131.01756\n",
      "[['var71(t-1)', 'var87(t-1)', 'var41(t-1)', 'var13(t-1)', 'var57(t-1)', 'var67(t-1)', 'var75(t-1)', 'var45(t-1)', 'var50(t-1)', 'var54(t-1)']]\n",
      "starting df shape: (87600, 86)\n",
      "This is training run 5 and has the shape:  (87600, 86)\n",
      "The value of dropped columns is 10\n"
     ]
    },
    {
     "name": "stderr",
     "output_type": "stream",
     "text": [
      "/Users/alexellard/opt/anaconda3/lib/python3.7/site-packages/xgboost/data.py:96: UserWarning: Use subset (sliced data) of np.ndarray is not recommended because it will generate extra copies and increase memory consumption\n",
      "  \"because it will generate extra copies and increase \" +\n"
     ]
    },
    {
     "name": "stdout",
     "output_type": "stream",
     "text": [
      "Run 5 Mean Absolute Error: 46.90894\n",
      "[['var49(t-1)', 'var94(t-1)', 'var82(t-1)', 'var2(t-1)', 'var14(t-1)', 'var10(t-1)', 'var80(t-1)', 'var55(t-1)', 'var88(t-1)', 'var69(t-1)']]\n",
      "starting df shape: (87600, 86)\n",
      "This is training run 6 and has the shape:  (87600, 86)\n",
      "The value of dropped columns is 10\n"
     ]
    },
    {
     "name": "stderr",
     "output_type": "stream",
     "text": [
      "/Users/alexellard/opt/anaconda3/lib/python3.7/site-packages/xgboost/data.py:96: UserWarning: Use subset (sliced data) of np.ndarray is not recommended because it will generate extra copies and increase memory consumption\n",
      "  \"because it will generate extra copies and increase \" +\n"
     ]
    },
    {
     "name": "stdout",
     "output_type": "stream",
     "text": [
      "Run 6 Mean Absolute Error: 107.93859\n",
      "[['var75(t-1)', 'var69(t-1)', 'var29(t-1)', 'var34(t-1)', 'var84(t-1)', 'var36(t-1)', 'var95(t-1)', 'var22(t-1)', 'var56(t-1)', 'var3(t-1)']]\n",
      "starting df shape: (87600, 86)\n",
      "This is training run 7 and has the shape:  (87600, 86)\n",
      "The value of dropped columns is 10\n"
     ]
    },
    {
     "name": "stderr",
     "output_type": "stream",
     "text": [
      "/Users/alexellard/opt/anaconda3/lib/python3.7/site-packages/xgboost/data.py:96: UserWarning: Use subset (sliced data) of np.ndarray is not recommended because it will generate extra copies and increase memory consumption\n",
      "  \"because it will generate extra copies and increase \" +\n"
     ]
    },
    {
     "name": "stdout",
     "output_type": "stream",
     "text": [
      "Run 7 Mean Absolute Error: 48.47919\n",
      "[['var41(t-1)', 'var80(t-1)', 'var44(t-1)', 'var82(t-1)', 'var61(t-1)', 'var64(t-1)', 'var3(t-1)', 'var33(t-1)', 'var42(t-1)']]\n",
      "starting df shape: (87600, 87)\n",
      "This is training run 8 and has the shape:  (87600, 87)\n",
      "The value of dropped columns is 10\n"
     ]
    },
    {
     "name": "stderr",
     "output_type": "stream",
     "text": [
      "/Users/alexellard/opt/anaconda3/lib/python3.7/site-packages/xgboost/data.py:96: UserWarning: Use subset (sliced data) of np.ndarray is not recommended because it will generate extra copies and increase memory consumption\n",
      "  \"because it will generate extra copies and increase \" +\n"
     ]
    },
    {
     "name": "stdout",
     "output_type": "stream",
     "text": [
      "Run 8 Mean Absolute Error: 104.25639\n",
      "[['var67(t-1)', 'var71(t-1)', 'var8(t-1)', 'var34(t-1)', 'var85(t-1)', 'var2(t-1)', 'var52(t-1)', 'var56(t-1)', 'var23(t-1)']]\n",
      "starting df shape: (87600, 87)\n",
      "This is training run 9 and has the shape:  (87600, 87)\n",
      "The value of dropped columns is 10\n"
     ]
    },
    {
     "name": "stderr",
     "output_type": "stream",
     "text": [
      "/Users/alexellard/opt/anaconda3/lib/python3.7/site-packages/xgboost/data.py:96: UserWarning: Use subset (sliced data) of np.ndarray is not recommended because it will generate extra copies and increase memory consumption\n",
      "  \"because it will generate extra copies and increase \" +\n"
     ]
    },
    {
     "name": "stdout",
     "output_type": "stream",
     "text": [
      "Run 9 Mean Absolute Error: 47.667393\n",
      "[['var59(t-1)', 'var84(t-1)', 'var51(t-1)', 'var74(t-1)', 'var11(t-1)', 'var92(t-1)', 'var18(t-1)', 'var30(t-1)', 'var47(t-1)', 'var95(t-1)']]\n",
      "starting df shape: (87600, 86)\n",
      "This is training run 10 and has the shape:  (87600, 86)\n",
      "The value of dropped columns is 10\n"
     ]
    },
    {
     "name": "stderr",
     "output_type": "stream",
     "text": [
      "/Users/alexellard/opt/anaconda3/lib/python3.7/site-packages/xgboost/data.py:96: UserWarning: Use subset (sliced data) of np.ndarray is not recommended because it will generate extra copies and increase memory consumption\n",
      "  \"because it will generate extra copies and increase \" +\n"
     ]
    },
    {
     "name": "stdout",
     "output_type": "stream",
     "text": [
      "Run 10 Mean Absolute Error: 46.225773\n",
      "[['var12(t-1)', 'var29(t-1)', 'var76(t-1)', 'var96(t-1)', 'var4(t-1)', 'var6(t-1)', 'var23(t-1)', 'var39(t-1)', 'var48(t-1)', 'var9(t-1)', 'var56(t-1)', 'var54(t-1)', 'var89(t-1)', 'var84(t-1)', 'var27(t-1)']]\n",
      "starting df shape: (87600, 81)\n",
      "This is training run 1 and has the shape:  (87600, 81)\n",
      "The value of dropped columns is 15\n"
     ]
    },
    {
     "name": "stderr",
     "output_type": "stream",
     "text": [
      "/Users/alexellard/opt/anaconda3/lib/python3.7/site-packages/xgboost/data.py:96: UserWarning: Use subset (sliced data) of np.ndarray is not recommended because it will generate extra copies and increase memory consumption\n",
      "  \"because it will generate extra copies and increase \" +\n"
     ]
    },
    {
     "name": "stdout",
     "output_type": "stream",
     "text": [
      "Run 1 Mean Absolute Error: 45.451393\n",
      "[['var69(t-1)', 'var79(t-1)', 'var38(t-1)', 'var6(t-1)', 'var32(t-1)', 'var26(t-1)', 'var89(t-1)', 'var70(t-1)', 'var25(t-1)', 'var71(t-1)', 'var42(t-1)', 'var90(t-1)', 'var13(t-1)', 'var34(t-1)', 'var11(t-1)']]\n",
      "starting df shape: (87600, 81)\n",
      "This is training run 2 and has the shape:  (87600, 81)\n",
      "The value of dropped columns is 15\n"
     ]
    },
    {
     "name": "stderr",
     "output_type": "stream",
     "text": [
      "/Users/alexellard/opt/anaconda3/lib/python3.7/site-packages/xgboost/data.py:96: UserWarning: Use subset (sliced data) of np.ndarray is not recommended because it will generate extra copies and increase memory consumption\n",
      "  \"because it will generate extra copies and increase \" +\n"
     ]
    },
    {
     "name": "stdout",
     "output_type": "stream",
     "text": [
      "Run 2 Mean Absolute Error: 74.31521\n",
      "[['var37(t-1)', 'var26(t-1)', 'var22(t-1)', 'var6(t-1)', 'var91(t-1)', 'var87(t-1)', 'var70(t-1)', 'var19(t-1)', 'var31(t-1)', 'var92(t-1)', 'var12(t-1)', 'var35(t-1)', 'var93(t-1)', 'var83(t-1)', 'var86(t-1)']]\n",
      "starting df shape: (87600, 81)\n",
      "This is training run 3 and has the shape:  (87600, 81)\n",
      "The value of dropped columns is 15\n"
     ]
    },
    {
     "name": "stderr",
     "output_type": "stream",
     "text": [
      "/Users/alexellard/opt/anaconda3/lib/python3.7/site-packages/xgboost/data.py:96: UserWarning: Use subset (sliced data) of np.ndarray is not recommended because it will generate extra copies and increase memory consumption\n",
      "  \"because it will generate extra copies and increase \" +\n"
     ]
    },
    {
     "name": "stdout",
     "output_type": "stream",
     "text": [
      "Run 3 Mean Absolute Error: 46.807026\n",
      "[['var59(t-1)', 'var32(t-1)', 'var27(t-1)', 'var80(t-1)', 'var12(t-1)', 'var53(t-1)', 'var30(t-1)', 'var92(t-1)', 'var52(t-1)', 'var7(t-1)', 'var1(t-1)', 'var55(t-1)', 'var77(t-1)', 'var33(t-1)', 'var29(t-1)']]\n",
      "starting df shape: (87600, 81)\n",
      "This is training run 4 and has the shape:  (87600, 81)\n",
      "The value of dropped columns is 15\n"
     ]
    },
    {
     "name": "stderr",
     "output_type": "stream",
     "text": [
      "/Users/alexellard/opt/anaconda3/lib/python3.7/site-packages/xgboost/data.py:96: UserWarning: Use subset (sliced data) of np.ndarray is not recommended because it will generate extra copies and increase memory consumption\n",
      "  \"because it will generate extra copies and increase \" +\n"
     ]
    },
    {
     "name": "stdout",
     "output_type": "stream",
     "text": [
      "Run 4 Mean Absolute Error: 6.3452916\n",
      "[['var3(t-1)', 'var83(t-1)', 'var44(t-1)', 'var71(t-1)', 'var29(t-1)', 'var80(t-1)', 'var57(t-1)', 'var59(t-1)', 'var52(t-1)', 'var20(t-1)', 'var84(t-1)', 'var68(t-1)', 'var10(t-1)', 'var40(t-1)', 'var27(t-1)']]\n",
      "starting df shape: (87600, 81)\n",
      "This is training run 5 and has the shape:  (87600, 81)\n",
      "The value of dropped columns is 15\n"
     ]
    },
    {
     "name": "stderr",
     "output_type": "stream",
     "text": [
      "/Users/alexellard/opt/anaconda3/lib/python3.7/site-packages/xgboost/data.py:96: UserWarning: Use subset (sliced data) of np.ndarray is not recommended because it will generate extra copies and increase memory consumption\n",
      "  \"because it will generate extra copies and increase \" +\n"
     ]
    },
    {
     "name": "stdout",
     "output_type": "stream",
     "text": [
      "Run 5 Mean Absolute Error: 102.689606\n",
      "[['var66(t-1)', 'var37(t-1)', 'var75(t-1)', 'var67(t-1)', 'var28(t-1)', 'var16(t-1)', 'var92(t-1)', 'var52(t-1)', 'var64(t-1)', 'var7(t-1)', 'var30(t-1)', 'var85(t-1)', 'var59(t-1)', 'var4(t-1)', 'var80(t-1)']]\n",
      "starting df shape: (87600, 81)\n",
      "This is training run 6 and has the shape:  (87600, 81)\n",
      "The value of dropped columns is 15\n"
     ]
    },
    {
     "name": "stderr",
     "output_type": "stream",
     "text": [
      "/Users/alexellard/opt/anaconda3/lib/python3.7/site-packages/xgboost/data.py:96: UserWarning: Use subset (sliced data) of np.ndarray is not recommended because it will generate extra copies and increase memory consumption\n",
      "  \"because it will generate extra copies and increase \" +\n"
     ]
    },
    {
     "name": "stdout",
     "output_type": "stream",
     "text": [
      "Run 6 Mean Absolute Error: 103.75483\n",
      "[['var16(t-1)', 'var55(t-1)', 'var89(t-1)', 'var45(t-1)', 'var62(t-1)', 'var50(t-1)', 'var90(t-1)', 'var37(t-1)', 'var9(t-1)', 'var28(t-1)', 'var54(t-1)', 'var92(t-1)', 'var32(t-1)', 'var94(t-1)', 'var91(t-1)']]\n",
      "starting df shape: (87600, 81)\n",
      "This is training run 7 and has the shape:  (87600, 81)\n",
      "The value of dropped columns is 15\n"
     ]
    },
    {
     "name": "stderr",
     "output_type": "stream",
     "text": [
      "/Users/alexellard/opt/anaconda3/lib/python3.7/site-packages/xgboost/data.py:96: UserWarning: Use subset (sliced data) of np.ndarray is not recommended because it will generate extra copies and increase memory consumption\n",
      "  \"because it will generate extra copies and increase \" +\n"
     ]
    },
    {
     "name": "stdout",
     "output_type": "stream",
     "text": [
      "Run 7 Mean Absolute Error: 44.984222\n",
      "[['var9(t-1)', 'var90(t-1)', 'var41(t-1)', 'var92(t-1)', 'var88(t-1)', 'var31(t-1)', 'var44(t-1)', 'var94(t-1)', 'var75(t-1)', 'var79(t-1)', 'var82(t-1)', 'var12(t-1)', 'var55(t-1)', 'var4(t-1)', 'var28(t-1)']]\n",
      "starting df shape: (87600, 81)\n",
      "This is training run 8 and has the shape:  (87600, 81)\n",
      "The value of dropped columns is 15\n"
     ]
    },
    {
     "name": "stderr",
     "output_type": "stream",
     "text": [
      "/Users/alexellard/opt/anaconda3/lib/python3.7/site-packages/xgboost/data.py:96: UserWarning: Use subset (sliced data) of np.ndarray is not recommended because it will generate extra copies and increase memory consumption\n",
      "  \"because it will generate extra copies and increase \" +\n"
     ]
    },
    {
     "name": "stdout",
     "output_type": "stream",
     "text": [
      "Run 8 Mean Absolute Error: 71.13579\n",
      "[['var62(t-1)', 'var87(t-1)', 'var79(t-1)', 'var48(t-1)', 'var66(t-1)', 'var33(t-1)', 'var15(t-1)', 'var77(t-1)', 'var47(t-1)', 'var14(t-1)', 'var75(t-1)', 'var89(t-1)', 'var51(t-1)', 'var55(t-1)', 'var64(t-1)']]\n",
      "starting df shape: (87600, 81)\n",
      "This is training run 9 and has the shape:  (87600, 81)\n",
      "The value of dropped columns is 15\n"
     ]
    },
    {
     "name": "stderr",
     "output_type": "stream",
     "text": [
      "/Users/alexellard/opt/anaconda3/lib/python3.7/site-packages/xgboost/data.py:96: UserWarning: Use subset (sliced data) of np.ndarray is not recommended because it will generate extra copies and increase memory consumption\n",
      "  \"because it will generate extra copies and increase \" +\n"
     ]
    },
    {
     "name": "stdout",
     "output_type": "stream",
     "text": [
      "Run 9 Mean Absolute Error: 70.31455\n",
      "[['var51(t-1)', 'var82(t-1)', 'var2(t-1)', 'var5(t-1)', 'var41(t-1)', 'var69(t-1)', 'var65(t-1)', 'var84(t-1)', 'var13(t-1)', 'var88(t-1)', 'var55(t-1)', 'var15(t-1)', 'var34(t-1)', 'var94(t-1)', 'var24(t-1)']]\n",
      "starting df shape: (87600, 81)\n",
      "This is training run 10 and has the shape:  (87600, 81)\n",
      "The value of dropped columns is 15\n"
     ]
    },
    {
     "name": "stderr",
     "output_type": "stream",
     "text": [
      "/Users/alexellard/opt/anaconda3/lib/python3.7/site-packages/xgboost/data.py:96: UserWarning: Use subset (sliced data) of np.ndarray is not recommended because it will generate extra copies and increase memory consumption\n",
      "  \"because it will generate extra copies and increase \" +\n"
     ]
    },
    {
     "name": "stdout",
     "output_type": "stream",
     "text": [
      "Run 10 Mean Absolute Error: 48.668133\n",
      "[['var30(t-1)', 'var58(t-1)', 'var18(t-1)', 'var89(t-1)', 'var70(t-1)', 'var32(t-1)', 'var85(t-1)', 'var19(t-1)', 'var16(t-1)', 'var39(t-1)', 'var68(t-1)', 'var71(t-1)', 'var3(t-1)', 'var24(t-1)', 'var86(t-1)', 'var51(t-1)', 'var21(t-1)', 'var28(t-1)', 'var26(t-1)', 'var40(t-1)']]\n",
      "starting df shape: (87600, 76)\n",
      "This is training run 1 and has the shape:  (87600, 76)\n",
      "The value of dropped columns is 20\n"
     ]
    },
    {
     "name": "stderr",
     "output_type": "stream",
     "text": [
      "/Users/alexellard/opt/anaconda3/lib/python3.7/site-packages/xgboost/data.py:96: UserWarning: Use subset (sliced data) of np.ndarray is not recommended because it will generate extra copies and increase memory consumption\n",
      "  \"because it will generate extra copies and increase \" +\n"
     ]
    },
    {
     "name": "stdout",
     "output_type": "stream",
     "text": [
      "Run 1 Mean Absolute Error: 52.477654\n",
      "[['var42(t-1)', 'var51(t-1)', 'var14(t-1)', 'var29(t-1)', 'var4(t-1)', 'var35(t-1)', 'var77(t-1)', 'var87(t-1)', 'var73(t-1)', 'var53(t-1)', 'var50(t-1)', 'var80(t-1)', 'var44(t-1)', 'var25(t-1)', 'var23(t-1)', 'var37(t-1)', 'var65(t-1)', 'var41(t-1)', 'var81(t-1)', 'var70(t-1)']]\n",
      "starting df shape: (87600, 76)\n",
      "This is training run 2 and has the shape:  (87600, 76)\n",
      "The value of dropped columns is 20\n"
     ]
    },
    {
     "name": "stderr",
     "output_type": "stream",
     "text": [
      "/Users/alexellard/opt/anaconda3/lib/python3.7/site-packages/xgboost/data.py:96: UserWarning: Use subset (sliced data) of np.ndarray is not recommended because it will generate extra copies and increase memory consumption\n",
      "  \"because it will generate extra copies and increase \" +\n"
     ]
    },
    {
     "name": "stdout",
     "output_type": "stream",
     "text": [
      "Run 2 Mean Absolute Error: 107.39259\n",
      "[['var31(t-1)', 'var34(t-1)', 'var10(t-1)', 'var69(t-1)', 'var55(t-1)', 'var8(t-1)', 'var84(t-1)', 'var11(t-1)', 'var53(t-1)', 'var78(t-1)', 'var5(t-1)', 'var3(t-1)', 'var14(t-1)', 'var24(t-1)', 'var9(t-1)', 'var15(t-1)', 'var28(t-1)', 'var44(t-1)', 'var27(t-1)', 'var62(t-1)']]\n",
      "starting df shape: (87600, 76)\n",
      "This is training run 3 and has the shape:  (87600, 76)\n",
      "The value of dropped columns is 20\n"
     ]
    },
    {
     "name": "stderr",
     "output_type": "stream",
     "text": [
      "/Users/alexellard/opt/anaconda3/lib/python3.7/site-packages/xgboost/data.py:96: UserWarning: Use subset (sliced data) of np.ndarray is not recommended because it will generate extra copies and increase memory consumption\n",
      "  \"because it will generate extra copies and increase \" +\n"
     ]
    },
    {
     "name": "stdout",
     "output_type": "stream",
     "text": [
      "Run 3 Mean Absolute Error: 45.60278\n",
      "[['var75(t-1)', 'var3(t-1)', 'var67(t-1)', 'var4(t-1)', 'var32(t-1)', 'var11(t-1)', 'var22(t-1)', 'var78(t-1)', 'var60(t-1)', 'var24(t-1)', 'var72(t-1)', 'var86(t-1)', 'var25(t-1)', 'var52(t-1)', 'var41(t-1)', 'var29(t-1)', 'var16(t-1)', 'var57(t-1)', 'var51(t-1)', 'var49(t-1)']]\n",
      "starting df shape: (87600, 76)\n",
      "This is training run 4 and has the shape:  (87600, 76)\n",
      "The value of dropped columns is 20\n"
     ]
    },
    {
     "name": "stderr",
     "output_type": "stream",
     "text": [
      "/Users/alexellard/opt/anaconda3/lib/python3.7/site-packages/xgboost/data.py:96: UserWarning: Use subset (sliced data) of np.ndarray is not recommended because it will generate extra copies and increase memory consumption\n",
      "  \"because it will generate extra copies and increase \" +\n"
     ]
    },
    {
     "name": "stdout",
     "output_type": "stream",
     "text": [
      "Run 4 Mean Absolute Error: 45.178673\n",
      "[['var27(t-1)', 'var76(t-1)', 'var3(t-1)', 'var8(t-1)', 'var68(t-1)', 'var84(t-1)', 'var38(t-1)', 'var29(t-1)', 'var11(t-1)', 'var21(t-1)', 'var57(t-1)', 'var92(t-1)', 'var72(t-1)', 'var89(t-1)', 'var87(t-1)', 'var59(t-1)', 'var91(t-1)', 'var53(t-1)', 'var32(t-1)', 'var18(t-1)']]\n",
      "starting df shape: (87600, 76)\n",
      "This is training run 5 and has the shape:  (87600, 76)\n",
      "The value of dropped columns is 20\n"
     ]
    },
    {
     "name": "stderr",
     "output_type": "stream",
     "text": [
      "/Users/alexellard/opt/anaconda3/lib/python3.7/site-packages/xgboost/data.py:96: UserWarning: Use subset (sliced data) of np.ndarray is not recommended because it will generate extra copies and increase memory consumption\n",
      "  \"because it will generate extra copies and increase \" +\n"
     ]
    },
    {
     "name": "stdout",
     "output_type": "stream",
     "text": [
      "Run 5 Mean Absolute Error: 44.727966\n",
      "[['var11(t-1)', 'var1(t-1)', 'var49(t-1)', 'var22(t-1)', 'var85(t-1)', 'var33(t-1)', 'var90(t-1)', 'var64(t-1)', 'var44(t-1)', 'var88(t-1)', 'var37(t-1)', 'var59(t-1)', 'var16(t-1)', 'var35(t-1)', 'var61(t-1)', 'var95(t-1)', 'var6(t-1)', 'var36(t-1)', 'var93(t-1)', 'var51(t-1)']]\n",
      "starting df shape: (87600, 76)\n",
      "This is training run 6 and has the shape:  (87600, 76)\n",
      "The value of dropped columns is 20\n"
     ]
    },
    {
     "name": "stderr",
     "output_type": "stream",
     "text": [
      "/Users/alexellard/opt/anaconda3/lib/python3.7/site-packages/xgboost/data.py:96: UserWarning: Use subset (sliced data) of np.ndarray is not recommended because it will generate extra copies and increase memory consumption\n",
      "  \"because it will generate extra copies and increase \" +\n"
     ]
    },
    {
     "name": "stdout",
     "output_type": "stream",
     "text": [
      "Run 6 Mean Absolute Error: 2.7979066\n",
      "[['var69(t-1)', 'var91(t-1)', 'var29(t-1)', 'var61(t-1)', 'var82(t-1)', 'var72(t-1)', 'var62(t-1)', 'var87(t-1)', 'var18(t-1)', 'var12(t-1)', 'var55(t-1)', 'var95(t-1)', 'var94(t-1)', 'var11(t-1)', 'var42(t-1)', 'var71(t-1)', 'var33(t-1)', 'var77(t-1)', 'var56(t-1)', 'var78(t-1)']]\n",
      "starting df shape: (87600, 76)\n",
      "This is training run 7 and has the shape:  (87600, 76)\n",
      "The value of dropped columns is 20\n"
     ]
    },
    {
     "name": "stderr",
     "output_type": "stream",
     "text": [
      "/Users/alexellard/opt/anaconda3/lib/python3.7/site-packages/xgboost/data.py:96: UserWarning: Use subset (sliced data) of np.ndarray is not recommended because it will generate extra copies and increase memory consumption\n",
      "  \"because it will generate extra copies and increase \" +\n"
     ]
    },
    {
     "name": "stdout",
     "output_type": "stream",
     "text": [
      "Run 7 Mean Absolute Error: 43.970306\n",
      "[['var72(t-1)', 'var95(t-1)', 'var19(t-1)', 'var23(t-1)', 'var49(t-1)', 'var61(t-1)', 'var83(t-1)', 'var6(t-1)', 'var53(t-1)', 'var32(t-1)', 'var75(t-1)', 'var15(t-1)', 'var84(t-1)', 'var36(t-1)', 'var66(t-1)', 'var52(t-1)', 'var12(t-1)', 'var4(t-1)', 'var21(t-1)', 'var38(t-1)']]\n",
      "starting df shape: (87600, 76)\n",
      "This is training run 8 and has the shape:  (87600, 76)\n",
      "The value of dropped columns is 20\n"
     ]
    },
    {
     "name": "stderr",
     "output_type": "stream",
     "text": [
      "/Users/alexellard/opt/anaconda3/lib/python3.7/site-packages/xgboost/data.py:96: UserWarning: Use subset (sliced data) of np.ndarray is not recommended because it will generate extra copies and increase memory consumption\n",
      "  \"because it will generate extra copies and increase \" +\n"
     ]
    },
    {
     "name": "stdout",
     "output_type": "stream",
     "text": [
      "Run 8 Mean Absolute Error: 50.9928\n",
      "[['var88(t-1)', 'var93(t-1)', 'var37(t-1)', 'var27(t-1)', 'var9(t-1)', 'var89(t-1)', 'var19(t-1)', 'var67(t-1)', 'var41(t-1)', 'var13(t-1)', 'var71(t-1)', 'var94(t-1)', 'var42(t-1)', 'var66(t-1)', 'var23(t-1)', 'var49(t-1)', 'var87(t-1)', 'var5(t-1)', 'var24(t-1)', 'var44(t-1)']]\n",
      "starting df shape: (87600, 76)\n",
      "This is training run 9 and has the shape:  (87600, 76)\n",
      "The value of dropped columns is 20\n"
     ]
    },
    {
     "name": "stderr",
     "output_type": "stream",
     "text": [
      "/Users/alexellard/opt/anaconda3/lib/python3.7/site-packages/xgboost/data.py:96: UserWarning: Use subset (sliced data) of np.ndarray is not recommended because it will generate extra copies and increase memory consumption\n",
      "  \"because it will generate extra copies and increase \" +\n"
     ]
    },
    {
     "name": "stdout",
     "output_type": "stream",
     "text": [
      "Run 9 Mean Absolute Error: 45.035366\n",
      "[['var44(t-1)', 'var24(t-1)', 'var49(t-1)', 'var68(t-1)', 'var28(t-1)', 'var5(t-1)', 'var22(t-1)', 'var86(t-1)', 'var74(t-1)', 'var11(t-1)', 'var20(t-1)', 'var38(t-1)', 'var14(t-1)', 'var37(t-1)', 'var34(t-1)', 'var66(t-1)', 'var33(t-1)', 'var88(t-1)', 'var9(t-1)', 'var1(t-1)']]\n",
      "starting df shape: (87600, 76)\n",
      "This is training run 10 and has the shape:  (87600, 76)\n",
      "The value of dropped columns is 20\n"
     ]
    },
    {
     "name": "stderr",
     "output_type": "stream",
     "text": [
      "/Users/alexellard/opt/anaconda3/lib/python3.7/site-packages/xgboost/data.py:96: UserWarning: Use subset (sliced data) of np.ndarray is not recommended because it will generate extra copies and increase memory consumption\n",
      "  \"because it will generate extra copies and increase \" +\n"
     ]
    },
    {
     "name": "stdout",
     "output_type": "stream",
     "text": [
      "Run 10 Mean Absolute Error: 2.9496596\n",
      "[['var86(t-1)', 'var66(t-1)', 'var23(t-1)', 'var28(t-1)', 'var9(t-1)', 'var88(t-1)', 'var25(t-1)', 'var59(t-1)', 'var87(t-1)', 'var58(t-1)', 'var57(t-1)', 'var48(t-1)', 'var22(t-1)', 'var29(t-1)', 'var81(t-1)', 'var70(t-1)', 'var80(t-1)', 'var19(t-1)', 'var3(t-1)', 'var35(t-1)', 'var43(t-1)', 'var65(t-1)', 'var30(t-1)', 'var6(t-1)', 'var18(t-1)']]\n",
      "starting df shape: (87600, 71)\n",
      "This is training run 1 and has the shape:  (87600, 71)\n",
      "The value of dropped columns is 25\n"
     ]
    },
    {
     "name": "stderr",
     "output_type": "stream",
     "text": [
      "/Users/alexellard/opt/anaconda3/lib/python3.7/site-packages/xgboost/data.py:96: UserWarning: Use subset (sliced data) of np.ndarray is not recommended because it will generate extra copies and increase memory consumption\n",
      "  \"because it will generate extra copies and increase \" +\n"
     ]
    },
    {
     "name": "stdout",
     "output_type": "stream",
     "text": [
      "Run 1 Mean Absolute Error: 128.11522\n",
      "[['var25(t-1)', 'var60(t-1)', 'var94(t-1)', 'var10(t-1)', 'var70(t-1)', 'var96(t-1)', 'var23(t-1)', 'var9(t-1)', 'var88(t-1)', 'var5(t-1)', 'var31(t-1)', 'var46(t-1)', 'var26(t-1)', 'var56(t-1)', 'var43(t-1)', 'var1(t-1)', 'var37(t-1)', 'var57(t-1)', 'var85(t-1)', 'var16(t-1)', 'var61(t-1)', 'var91(t-1)', 'var28(t-1)', 'var42(t-1)', 'var64(t-1)']]\n",
      "starting df shape: (87600, 71)\n",
      "This is training run 2 and has the shape:  (87600, 71)\n",
      "The value of dropped columns is 25\n"
     ]
    },
    {
     "name": "stderr",
     "output_type": "stream",
     "text": [
      "/Users/alexellard/opt/anaconda3/lib/python3.7/site-packages/xgboost/data.py:96: UserWarning: Use subset (sliced data) of np.ndarray is not recommended because it will generate extra copies and increase memory consumption\n",
      "  \"because it will generate extra copies and increase \" +\n"
     ]
    },
    {
     "name": "stdout",
     "output_type": "stream",
     "text": [
      "Run 2 Mean Absolute Error: 3.0269\n",
      "[['var22(t-1)', 'var48(t-1)', 'var8(t-1)', 'var85(t-1)', 'var26(t-1)', 'var84(t-1)', 'var38(t-1)', 'var53(t-1)', 'var10(t-1)', 'var74(t-1)', 'var12(t-1)', 'var33(t-1)', 'var90(t-1)', 'var73(t-1)', 'var28(t-1)', 'var91(t-1)', 'var30(t-1)', 'var69(t-1)', 'var56(t-1)', 'var89(t-1)', 'var7(t-1)', 'var13(t-1)', 'var67(t-1)', 'var79(t-1)', 'var46(t-1)']]\n",
      "starting df shape: (87600, 71)\n",
      "This is training run 3 and has the shape:  (87600, 71)\n",
      "The value of dropped columns is 25\n"
     ]
    },
    {
     "name": "stderr",
     "output_type": "stream",
     "text": [
      "/Users/alexellard/opt/anaconda3/lib/python3.7/site-packages/xgboost/data.py:96: UserWarning: Use subset (sliced data) of np.ndarray is not recommended because it will generate extra copies and increase memory consumption\n",
      "  \"because it will generate extra copies and increase \" +\n"
     ]
    },
    {
     "name": "stdout",
     "output_type": "stream",
     "text": [
      "Run 3 Mean Absolute Error: 75.5065\n",
      "[['var26(t-1)', 'var50(t-1)', 'var59(t-1)', 'var66(t-1)', 'var80(t-1)', 'var15(t-1)', 'var55(t-1)', 'var42(t-1)', 'var76(t-1)', 'var49(t-1)', 'var18(t-1)', 'var90(t-1)', 'var91(t-1)', 'var48(t-1)', 'var68(t-1)', 'var20(t-1)', 'var27(t-1)', 'var25(t-1)', 'var32(t-1)', 'var11(t-1)', 'var10(t-1)', 'var41(t-1)', 'var78(t-1)', 'var84(t-1)']]\n",
      "starting df shape: (87600, 72)\n",
      "This is training run 4 and has the shape:  (87600, 72)\n",
      "The value of dropped columns is 25\n"
     ]
    },
    {
     "name": "stderr",
     "output_type": "stream",
     "text": [
      "/Users/alexellard/opt/anaconda3/lib/python3.7/site-packages/xgboost/data.py:96: UserWarning: Use subset (sliced data) of np.ndarray is not recommended because it will generate extra copies and increase memory consumption\n",
      "  \"because it will generate extra copies and increase \" +\n"
     ]
    },
    {
     "name": "stdout",
     "output_type": "stream",
     "text": [
      "Run 4 Mean Absolute Error: 132.18607\n",
      "[['var52(t-1)', 'var20(t-1)', 'var36(t-1)', 'var11(t-1)', 'var75(t-1)', 'var3(t-1)', 'var25(t-1)', 'var78(t-1)', 'var61(t-1)', 'var42(t-1)', 'var13(t-1)', 'var31(t-1)', 'var67(t-1)', 'var50(t-1)', 'var38(t-1)', 'var53(t-1)', 'var85(t-1)', 'var63(t-1)', 'var24(t-1)', 'var71(t-1)', 'var86(t-1)', 'var21(t-1)', 'var56(t-1)', 'var27(t-1)']]\n",
      "starting df shape: (87600, 72)\n",
      "This is training run 5 and has the shape:  (87600, 72)\n",
      "The value of dropped columns is 25\n"
     ]
    },
    {
     "name": "stderr",
     "output_type": "stream",
     "text": [
      "/Users/alexellard/opt/anaconda3/lib/python3.7/site-packages/xgboost/data.py:96: UserWarning: Use subset (sliced data) of np.ndarray is not recommended because it will generate extra copies and increase memory consumption\n",
      "  \"because it will generate extra copies and increase \" +\n"
     ]
    },
    {
     "name": "stdout",
     "output_type": "stream",
     "text": [
      "Run 5 Mean Absolute Error: 45.925102\n",
      "[['var78(t-1)', 'var93(t-1)', 'var55(t-1)', 'var61(t-1)', 'var59(t-1)', 'var20(t-1)', 'var48(t-1)', 'var53(t-1)', 'var60(t-1)', 'var40(t-1)', 'var27(t-1)', 'var36(t-1)', 'var5(t-1)', 'var1(t-1)', 'var18(t-1)', 'var81(t-1)', 'var80(t-1)', 'var64(t-1)', 'var91(t-1)', 'var21(t-1)', 'var87(t-1)', 'var44(t-1)', 'var23(t-1)', 'var90(t-1)', 'var94(t-1)']]\n",
      "starting df shape: (87600, 71)\n",
      "This is training run 6 and has the shape:  (87600, 71)\n",
      "The value of dropped columns is 25\n"
     ]
    },
    {
     "name": "stderr",
     "output_type": "stream",
     "text": [
      "/Users/alexellard/opt/anaconda3/lib/python3.7/site-packages/xgboost/data.py:96: UserWarning: Use subset (sliced data) of np.ndarray is not recommended because it will generate extra copies and increase memory consumption\n",
      "  \"because it will generate extra copies and increase \" +\n"
     ]
    },
    {
     "name": "stdout",
     "output_type": "stream",
     "text": [
      "Run 6 Mean Absolute Error: 7.7297153\n",
      "[['var52(t-1)', 'var41(t-1)', 'var36(t-1)', 'var60(t-1)', 'var49(t-1)', 'var47(t-1)', 'var55(t-1)', 'var8(t-1)', 'var42(t-1)', 'var29(t-1)', 'var26(t-1)', 'var72(t-1)', 'var71(t-1)', 'var93(t-1)', 'var31(t-1)', 'var9(t-1)', 'var91(t-1)', 'var44(t-1)', 'var58(t-1)', 'var38(t-1)', 'var84(t-1)', 'var34(t-1)', 'var62(t-1)', 'var51(t-1)', 'var53(t-1)']]\n",
      "starting df shape: (87600, 71)\n",
      "This is training run 7 and has the shape:  (87600, 71)\n",
      "The value of dropped columns is 25\n"
     ]
    },
    {
     "name": "stderr",
     "output_type": "stream",
     "text": [
      "/Users/alexellard/opt/anaconda3/lib/python3.7/site-packages/xgboost/data.py:96: UserWarning: Use subset (sliced data) of np.ndarray is not recommended because it will generate extra copies and increase memory consumption\n",
      "  \"because it will generate extra copies and increase \" +\n"
     ]
    },
    {
     "name": "stdout",
     "output_type": "stream",
     "text": [
      "Run 7 Mean Absolute Error: 44.01334\n",
      "[['var82(t-1)', 'var55(t-1)', 'var73(t-1)', 'var81(t-1)', 'var90(t-1)', 'var53(t-1)', 'var14(t-1)', 'var39(t-1)', 'var5(t-1)', 'var19(t-1)', 'var60(t-1)', 'var40(t-1)', 'var24(t-1)', 'var68(t-1)', 'var77(t-1)', 'var12(t-1)', 'var80(t-1)', 'var2(t-1)', 'var11(t-1)', 'var62(t-1)', 'var18(t-1)', 'var58(t-1)', 'var54(t-1)', 'var71(t-1)', 'var69(t-1)']]\n",
      "starting df shape: (87600, 71)\n",
      "This is training run 8 and has the shape:  (87600, 71)\n",
      "The value of dropped columns is 25\n"
     ]
    },
    {
     "name": "stderr",
     "output_type": "stream",
     "text": [
      "/Users/alexellard/opt/anaconda3/lib/python3.7/site-packages/xgboost/data.py:96: UserWarning: Use subset (sliced data) of np.ndarray is not recommended because it will generate extra copies and increase memory consumption\n",
      "  \"because it will generate extra copies and increase \" +\n"
     ]
    },
    {
     "name": "stdout",
     "output_type": "stream",
     "text": [
      "Run 8 Mean Absolute Error: 123.657036\n",
      "[['var54(t-1)', 'var29(t-1)', 'var81(t-1)', 'var43(t-1)', 'var86(t-1)', 'var21(t-1)', 'var80(t-1)', 'var47(t-1)', 'var93(t-1)', 'var66(t-1)', 'var90(t-1)', 'var25(t-1)', 'var13(t-1)', 'var35(t-1)', 'var50(t-1)', 'var33(t-1)', 'var65(t-1)', 'var84(t-1)', 'var82(t-1)', 'var87(t-1)', 'var88(t-1)', 'var36(t-1)', 'var45(t-1)', 'var16(t-1)', 'var34(t-1)']]\n",
      "starting df shape: (87600, 71)\n",
      "This is training run 9 and has the shape:  (87600, 71)\n",
      "The value of dropped columns is 25\n"
     ]
    },
    {
     "name": "stderr",
     "output_type": "stream",
     "text": [
      "/Users/alexellard/opt/anaconda3/lib/python3.7/site-packages/xgboost/data.py:96: UserWarning: Use subset (sliced data) of np.ndarray is not recommended because it will generate extra copies and increase memory consumption\n",
      "  \"because it will generate extra copies and increase \" +\n"
     ]
    },
    {
     "name": "stdout",
     "output_type": "stream",
     "text": [
      "Run 9 Mean Absolute Error: 115.886215\n",
      "[['var86(t-1)', 'var77(t-1)', 'var7(t-1)', 'var81(t-1)', 'var38(t-1)', 'var46(t-1)', 'var75(t-1)', 'var63(t-1)', 'var29(t-1)', 'var84(t-1)', 'var66(t-1)', 'var30(t-1)', 'var35(t-1)', 'var68(t-1)', 'var43(t-1)', 'var78(t-1)', 'var72(t-1)', 'var88(t-1)', 'var91(t-1)', 'var24(t-1)', 'var89(t-1)', 'var57(t-1)', 'var90(t-1)', 'var9(t-1)']]\n",
      "starting df shape: (87600, 72)\n",
      "This is training run 10 and has the shape:  (87600, 72)\n",
      "The value of dropped columns is 25\n"
     ]
    },
    {
     "name": "stderr",
     "output_type": "stream",
     "text": [
      "/Users/alexellard/opt/anaconda3/lib/python3.7/site-packages/xgboost/data.py:96: UserWarning: Use subset (sliced data) of np.ndarray is not recommended because it will generate extra copies and increase memory consumption\n",
      "  \"because it will generate extra copies and increase \" +\n"
     ]
    },
    {
     "name": "stdout",
     "output_type": "stream",
     "text": [
      "Run 10 Mean Absolute Error: 43.205177\n",
      "[['var42(t-1)', 'var29(t-1)', 'var24(t-1)', 'var38(t-1)', 'var25(t-1)', 'var51(t-1)', 'var92(t-1)', 'var5(t-1)', 'var82(t-1)', 'var96(t-1)', 'var7(t-1)', 'var81(t-1)', 'var20(t-1)', 'var32(t-1)', 'var11(t-1)', 'var18(t-1)', 'var53(t-1)', 'var74(t-1)', 'var31(t-1)', 'var59(t-1)', 'var27(t-1)', 'var64(t-1)', 'var39(t-1)', 'var46(t-1)', 'var68(t-1)', 'var15(t-1)', 'var36(t-1)', 'var76(t-1)', 'var14(t-1)', 'var77(t-1)']]\n",
      "starting df shape: (87600, 66)\n",
      "This is training run 1 and has the shape:  (87600, 66)\n",
      "The value of dropped columns is 30\n"
     ]
    },
    {
     "name": "stderr",
     "output_type": "stream",
     "text": [
      "/Users/alexellard/opt/anaconda3/lib/python3.7/site-packages/xgboost/data.py:96: UserWarning: Use subset (sliced data) of np.ndarray is not recommended because it will generate extra copies and increase memory consumption\n",
      "  \"because it will generate extra copies and increase \" +\n"
     ]
    },
    {
     "name": "stdout",
     "output_type": "stream",
     "text": [
      "Run 1 Mean Absolute Error: 49.42382\n",
      "[['var1(t-1)', 'var92(t-1)', 'var37(t-1)', 'var83(t-1)', 'var89(t-1)', 'var21(t-1)', 'var65(t-1)', 'var38(t-1)', 'var18(t-1)', 'var82(t-1)', 'var69(t-1)', 'var77(t-1)', 'var75(t-1)', 'var96(t-1)', 'var71(t-1)', 'var48(t-1)', 'var80(t-1)', 'var15(t-1)', 'var10(t-1)', 'var66(t-1)', 'var86(t-1)', 'var63(t-1)', 'var41(t-1)', 'var39(t-1)', 'var55(t-1)', 'var19(t-1)', 'var16(t-1)', 'var26(t-1)', 'var44(t-1)', 'var72(t-1)']]\n",
      "starting df shape: (87600, 66)\n",
      "This is training run 2 and has the shape:  (87600, 66)\n",
      "The value of dropped columns is 30\n"
     ]
    },
    {
     "name": "stderr",
     "output_type": "stream",
     "text": [
      "/Users/alexellard/opt/anaconda3/lib/python3.7/site-packages/xgboost/data.py:96: UserWarning: Use subset (sliced data) of np.ndarray is not recommended because it will generate extra copies and increase memory consumption\n",
      "  \"because it will generate extra copies and increase \" +\n"
     ]
    },
    {
     "name": "stdout",
     "output_type": "stream",
     "text": [
      "Run 2 Mean Absolute Error: 7.8853607\n",
      "[['var90(t-1)', 'var47(t-1)', 'var81(t-1)', 'var51(t-1)', 'var34(t-1)', 'var59(t-1)', 'var26(t-1)', 'var32(t-1)', 'var93(t-1)', 'var84(t-1)', 'var33(t-1)', 'var77(t-1)', 'var40(t-1)', 'var94(t-1)', 'var67(t-1)', 'var14(t-1)', 'var79(t-1)', 'var31(t-1)', 'var48(t-1)', 'var11(t-1)', 'var42(t-1)', 'var76(t-1)', 'var20(t-1)', 'var80(t-1)', 'var41(t-1)', 'var58(t-1)', 'var75(t-1)', 'var25(t-1)', 'var54(t-1)']]\n",
      "starting df shape: (87600, 67)\n",
      "This is training run 3 and has the shape:  (87600, 67)\n",
      "The value of dropped columns is 30\n"
     ]
    },
    {
     "name": "stderr",
     "output_type": "stream",
     "text": [
      "/Users/alexellard/opt/anaconda3/lib/python3.7/site-packages/xgboost/data.py:96: UserWarning: Use subset (sliced data) of np.ndarray is not recommended because it will generate extra copies and increase memory consumption\n",
      "  \"because it will generate extra copies and increase \" +\n"
     ]
    },
    {
     "name": "stdout",
     "output_type": "stream",
     "text": [
      "Run 3 Mean Absolute Error: 130.51738\n",
      "[['var5(t-1)', 'var89(t-1)', 'var28(t-1)', 'var71(t-1)', 'var67(t-1)', 'var83(t-1)', 'var29(t-1)', 'var4(t-1)', 'var12(t-1)', 'var11(t-1)', 'var56(t-1)', 'var91(t-1)', 'var53(t-1)', 'var21(t-1)', 'var58(t-1)', 'var55(t-1)', 'var2(t-1)', 'var22(t-1)', 'var45(t-1)', 'var49(t-1)', 'var81(t-1)', 'var24(t-1)', 'var94(t-1)', 'var74(t-1)', 'var25(t-1)', 'var23(t-1)', 'var14(t-1)', 'var38(t-1)', 'var84(t-1)']]\n",
      "starting df shape: (87600, 67)\n",
      "This is training run 4 and has the shape:  (87600, 67)\n",
      "The value of dropped columns is 30\n"
     ]
    },
    {
     "name": "stderr",
     "output_type": "stream",
     "text": [
      "/Users/alexellard/opt/anaconda3/lib/python3.7/site-packages/xgboost/data.py:96: UserWarning: Use subset (sliced data) of np.ndarray is not recommended because it will generate extra copies and increase memory consumption\n",
      "  \"because it will generate extra copies and increase \" +\n"
     ]
    },
    {
     "name": "stdout",
     "output_type": "stream",
     "text": [
      "Run 4 Mean Absolute Error: 44.135635\n",
      "[['var91(t-1)', 'var59(t-1)', 'var89(t-1)', 'var46(t-1)', 'var49(t-1)', 'var95(t-1)', 'var50(t-1)', 'var29(t-1)', 'var65(t-1)', 'var60(t-1)', 'var4(t-1)', 'var88(t-1)', 'var2(t-1)', 'var38(t-1)', 'var35(t-1)', 'var33(t-1)', 'var87(t-1)', 'var13(t-1)', 'var80(t-1)', 'var43(t-1)', 'var41(t-1)', 'var12(t-1)', 'var86(t-1)', 'var9(t-1)', 'var55(t-1)', 'var10(t-1)', 'var24(t-1)', 'var57(t-1)', 'var32(t-1)']]\n",
      "starting df shape: (87600, 67)\n",
      "This is training run 5 and has the shape:  (87600, 67)\n",
      "The value of dropped columns is 30\n"
     ]
    },
    {
     "name": "stderr",
     "output_type": "stream",
     "text": [
      "/Users/alexellard/opt/anaconda3/lib/python3.7/site-packages/xgboost/data.py:96: UserWarning: Use subset (sliced data) of np.ndarray is not recommended because it will generate extra copies and increase memory consumption\n",
      "  \"because it will generate extra copies and increase \" +\n"
     ]
    },
    {
     "name": "stdout",
     "output_type": "stream",
     "text": [
      "Run 5 Mean Absolute Error: 107.19501\n",
      "[['var46(t-1)', 'var18(t-1)', 'var25(t-1)', 'var62(t-1)', 'var78(t-1)', 'var57(t-1)', 'var23(t-1)', 'var88(t-1)', 'var55(t-1)', 'var90(t-1)', 'var87(t-1)', 'var72(t-1)', 'var60(t-1)', 'var40(t-1)', 'var74(t-1)', 'var26(t-1)', 'var93(t-1)', 'var28(t-1)', 'var80(t-1)', 'var91(t-1)', 'var9(t-1)', 'var42(t-1)', 'var1(t-1)', 'var64(t-1)', 'var83(t-1)', 'var21(t-1)', 'var4(t-1)', 'var56(t-1)', 'var27(t-1)']]\n",
      "starting df shape: (87600, 67)\n",
      "This is training run 6 and has the shape:  (87600, 67)\n",
      "The value of dropped columns is 30\n"
     ]
    },
    {
     "name": "stderr",
     "output_type": "stream",
     "text": [
      "/Users/alexellard/opt/anaconda3/lib/python3.7/site-packages/xgboost/data.py:96: UserWarning: Use subset (sliced data) of np.ndarray is not recommended because it will generate extra copies and increase memory consumption\n",
      "  \"because it will generate extra copies and increase \" +\n"
     ]
    },
    {
     "name": "stdout",
     "output_type": "stream",
     "text": [
      "Run 6 Mean Absolute Error: 7.771766\n",
      "[['var66(t-1)', 'var95(t-1)', 'var78(t-1)', 'var48(t-1)', 'var83(t-1)', 'var29(t-1)', 'var1(t-1)', 'var11(t-1)', 'var27(t-1)', 'var3(t-1)', 'var85(t-1)', 'var22(t-1)', 'var18(t-1)', 'var65(t-1)', 'var60(t-1)', 'var9(t-1)', 'var70(t-1)', 'var62(t-1)', 'var16(t-1)', 'var74(t-1)', 'var32(t-1)', 'var42(t-1)', 'var21(t-1)', 'var58(t-1)', 'var53(t-1)', 'var4(t-1)', 'var94(t-1)', 'var72(t-1)', 'var79(t-1)', 'var37(t-1)']]\n",
      "starting df shape: (87600, 66)\n",
      "This is training run 7 and has the shape:  (87600, 66)\n",
      "The value of dropped columns is 30\n"
     ]
    },
    {
     "name": "stderr",
     "output_type": "stream",
     "text": [
      "/Users/alexellard/opt/anaconda3/lib/python3.7/site-packages/xgboost/data.py:96: UserWarning: Use subset (sliced data) of np.ndarray is not recommended because it will generate extra copies and increase memory consumption\n",
      "  \"because it will generate extra copies and increase \" +\n"
     ]
    },
    {
     "name": "stdout",
     "output_type": "stream",
     "text": [
      "Run 7 Mean Absolute Error: 4.958135\n",
      "[['var93(t-1)', 'var22(t-1)', 'var95(t-1)', 'var58(t-1)', 'var48(t-1)', 'var6(t-1)', 'var19(t-1)', 'var80(t-1)', 'var63(t-1)', 'var57(t-1)', 'var47(t-1)', 'var96(t-1)', 'var65(t-1)', 'var84(t-1)', 'var62(t-1)', 'var90(t-1)', 'var66(t-1)', 'var12(t-1)', 'var37(t-1)', 'var29(t-1)', 'var78(t-1)', 'var43(t-1)', 'var55(t-1)', 'var87(t-1)', 'var2(t-1)', 'var59(t-1)', 'var44(t-1)', 'var8(t-1)', 'var50(t-1)']]\n",
      "starting df shape: (87600, 67)\n",
      "This is training run 8 and has the shape:  (87600, 67)\n",
      "The value of dropped columns is 30\n"
     ]
    },
    {
     "name": "stderr",
     "output_type": "stream",
     "text": [
      "/Users/alexellard/opt/anaconda3/lib/python3.7/site-packages/xgboost/data.py:96: UserWarning: Use subset (sliced data) of np.ndarray is not recommended because it will generate extra copies and increase memory consumption\n",
      "  \"because it will generate extra copies and increase \" +\n"
     ]
    },
    {
     "name": "stdout",
     "output_type": "stream",
     "text": [
      "Run 8 Mean Absolute Error: 102.05298\n",
      "[['var77(t-1)', 'var1(t-1)', 'var79(t-1)', 'var39(t-1)', 'var31(t-1)', 'var56(t-1)', 'var49(t-1)', 'var96(t-1)', 'var24(t-1)', 'var20(t-1)', 'var51(t-1)', 'var7(t-1)', 'var81(t-1)', 'var58(t-1)', 'var26(t-1)', 'var12(t-1)', 'var44(t-1)', 'var59(t-1)', 'var16(t-1)', 'var45(t-1)', 'var4(t-1)', 'var40(t-1)', 'var43(t-1)', 'var15(t-1)', 'var3(t-1)', 'var89(t-1)', 'var70(t-1)', 'var94(t-1)', 'var71(t-1)']]\n",
      "starting df shape: (87600, 67)\n",
      "This is training run 9 and has the shape:  (87600, 67)\n",
      "The value of dropped columns is 30\n"
     ]
    },
    {
     "name": "stderr",
     "output_type": "stream",
     "text": [
      "/Users/alexellard/opt/anaconda3/lib/python3.7/site-packages/xgboost/data.py:96: UserWarning: Use subset (sliced data) of np.ndarray is not recommended because it will generate extra copies and increase memory consumption\n",
      "  \"because it will generate extra copies and increase \" +\n"
     ]
    },
    {
     "name": "stdout",
     "output_type": "stream",
     "text": [
      "Run 9 Mean Absolute Error: 4.797431\n",
      "[['var79(t-1)', 'var52(t-1)', 'var39(t-1)', 'var80(t-1)', 'var21(t-1)', 'var58(t-1)', 'var90(t-1)', 'var73(t-1)', 'var63(t-1)', 'var31(t-1)', 'var50(t-1)', 'var40(t-1)', 'var68(t-1)', 'var14(t-1)', 'var2(t-1)', 'var70(t-1)', 'var92(t-1)', 'var95(t-1)', 'var28(t-1)', 'var91(t-1)', 'var47(t-1)', 'var24(t-1)', 'var16(t-1)', 'var74(t-1)', 'var57(t-1)', 'var27(t-1)', 'var61(t-1)', 'var55(t-1)', 'var64(t-1)', 'var71(t-1)']]\n",
      "starting df shape: (87600, 66)\n",
      "This is training run 10 and has the shape:  (87600, 66)\n",
      "The value of dropped columns is 30\n"
     ]
    },
    {
     "name": "stderr",
     "output_type": "stream",
     "text": [
      "/Users/alexellard/opt/anaconda3/lib/python3.7/site-packages/xgboost/data.py:96: UserWarning: Use subset (sliced data) of np.ndarray is not recommended because it will generate extra copies and increase memory consumption\n",
      "  \"because it will generate extra copies and increase \" +\n"
     ]
    },
    {
     "name": "stdout",
     "output_type": "stream",
     "text": [
      "Run 10 Mean Absolute Error: 133.09793\n",
      "[['var4(t-1)', 'var1(t-1)', 'var77(t-1)', 'var64(t-1)', 'var24(t-1)', 'var56(t-1)', 'var73(t-1)', 'var84(t-1)', 'var70(t-1)', 'var46(t-1)', 'var79(t-1)', 'var87(t-1)', 'var39(t-1)', 'var90(t-1)', 'var26(t-1)', 'var19(t-1)', 'var21(t-1)', 'var29(t-1)', 'var43(t-1)', 'var82(t-1)', 'var9(t-1)', 'var67(t-1)', 'var27(t-1)', 'var18(t-1)', 'var14(t-1)', 'var93(t-1)', 'var48(t-1)', 'var10(t-1)', 'var31(t-1)', 'var15(t-1)', 'var83(t-1)', 'var30(t-1)', 'var78(t-1)', 'var8(t-1)', 'var34(t-1)']]\n",
      "starting df shape: (87600, 61)\n",
      "This is training run 1 and has the shape:  (87600, 61)\n",
      "The value of dropped columns is 35\n"
     ]
    },
    {
     "name": "stderr",
     "output_type": "stream",
     "text": [
      "/Users/alexellard/opt/anaconda3/lib/python3.7/site-packages/xgboost/data.py:96: UserWarning: Use subset (sliced data) of np.ndarray is not recommended because it will generate extra copies and increase memory consumption\n",
      "  \"because it will generate extra copies and increase \" +\n"
     ]
    },
    {
     "name": "stdout",
     "output_type": "stream",
     "text": [
      "Run 1 Mean Absolute Error: 4.8812923\n",
      "[['var14(t-1)', 'var55(t-1)', 'var23(t-1)', 'var26(t-1)', 'var7(t-1)', 'var72(t-1)', 'var37(t-1)', 'var78(t-1)', 'var69(t-1)', 'var74(t-1)', 'var49(t-1)', 'var38(t-1)', 'var75(t-1)', 'var93(t-1)', 'var42(t-1)', 'var13(t-1)', 'var45(t-1)', 'var18(t-1)', 'var15(t-1)', 'var60(t-1)', 'var32(t-1)', 'var65(t-1)', 'var4(t-1)', 'var21(t-1)', 'var64(t-1)', 'var82(t-1)', 'var86(t-1)', 'var77(t-1)', 'var92(t-1)', 'var66(t-1)', 'var3(t-1)', 'var29(t-1)', 'var70(t-1)', 'var89(t-1)', 'var47(t-1)']]\n",
      "starting df shape: (87600, 61)\n",
      "This is training run 2 and has the shape:  (87600, 61)\n",
      "The value of dropped columns is 35\n"
     ]
    },
    {
     "name": "stderr",
     "output_type": "stream",
     "text": [
      "/Users/alexellard/opt/anaconda3/lib/python3.7/site-packages/xgboost/data.py:96: UserWarning: Use subset (sliced data) of np.ndarray is not recommended because it will generate extra copies and increase memory consumption\n",
      "  \"because it will generate extra copies and increase \" +\n"
     ]
    },
    {
     "name": "stdout",
     "output_type": "stream",
     "text": [
      "Run 2 Mean Absolute Error: 44.17561\n",
      "[['var68(t-1)', 'var70(t-1)', 'var72(t-1)', 'var56(t-1)', 'var4(t-1)', 'var59(t-1)', 'var43(t-1)', 'var83(t-1)', 'var87(t-1)', 'var44(t-1)', 'var20(t-1)', 'var71(t-1)', 'var86(t-1)', 'var33(t-1)', 'var78(t-1)', 'var73(t-1)', 'var75(t-1)', 'var19(t-1)', 'var80(t-1)', 'var47(t-1)', 'var90(t-1)', 'var77(t-1)', 'var40(t-1)', 'var22(t-1)', 'var53(t-1)', 'var55(t-1)', 'var81(t-1)', 'var91(t-1)', 'var45(t-1)', 'var76(t-1)', 'var60(t-1)', 'var16(t-1)', 'var24(t-1)', 'var54(t-1)', 'var49(t-1)']]\n",
      "starting df shape: (87600, 61)\n",
      "This is training run 3 and has the shape:  (87600, 61)\n",
      "The value of dropped columns is 35\n"
     ]
    },
    {
     "name": "stderr",
     "output_type": "stream",
     "text": [
      "/Users/alexellard/opt/anaconda3/lib/python3.7/site-packages/xgboost/data.py:96: UserWarning: Use subset (sliced data) of np.ndarray is not recommended because it will generate extra copies and increase memory consumption\n",
      "  \"because it will generate extra copies and increase \" +\n"
     ]
    },
    {
     "name": "stdout",
     "output_type": "stream",
     "text": [
      "Run 3 Mean Absolute Error: 107.91823\n",
      "[['var83(t-1)', 'var65(t-1)', 'var35(t-1)', 'var47(t-1)', 'var37(t-1)', 'var36(t-1)', 'var95(t-1)', 'var21(t-1)', 'var92(t-1)', 'var52(t-1)', 'var14(t-1)', 'var27(t-1)', 'var82(t-1)', 'var66(t-1)', 'var8(t-1)', 'var89(t-1)', 'var50(t-1)', 'var74(t-1)', 'var6(t-1)', 'var73(t-1)', 'var11(t-1)', 'var61(t-1)', 'var62(t-1)', 'var31(t-1)', 'var34(t-1)', 'var32(t-1)', 'var12(t-1)', 'var43(t-1)', 'var51(t-1)', 'var30(t-1)', 'var93(t-1)', 'var75(t-1)', 'var19(t-1)', 'var28(t-1)']]\n",
      "starting df shape: (87600, 62)\n",
      "This is training run 4 and has the shape:  (87600, 62)\n",
      "The value of dropped columns is 35\n"
     ]
    },
    {
     "name": "stderr",
     "output_type": "stream",
     "text": [
      "/Users/alexellard/opt/anaconda3/lib/python3.7/site-packages/xgboost/data.py:96: UserWarning: Use subset (sliced data) of np.ndarray is not recommended because it will generate extra copies and increase memory consumption\n",
      "  \"because it will generate extra copies and increase \" +\n"
     ]
    },
    {
     "name": "stdout",
     "output_type": "stream",
     "text": [
      "Run 4 Mean Absolute Error: 44.246307\n",
      "[['var7(t-1)', 'var25(t-1)', 'var81(t-1)', 'var61(t-1)', 'var56(t-1)', 'var9(t-1)', 'var49(t-1)', 'var11(t-1)', 'var82(t-1)', 'var53(t-1)', 'var52(t-1)', 'var65(t-1)', 'var71(t-1)', 'var26(t-1)', 'var68(t-1)', 'var31(t-1)', 'var64(t-1)', 'var23(t-1)', 'var13(t-1)', 'var6(t-1)', 'var74(t-1)', 'var60(t-1)', 'var92(t-1)', 'var42(t-1)', 'var79(t-1)', 'var67(t-1)', 'var14(t-1)', 'var38(t-1)', 'var2(t-1)', 'var39(t-1)', 'var94(t-1)', 'var35(t-1)', 'var48(t-1)', 'var83(t-1)', 'var93(t-1)']]\n",
      "starting df shape: (87600, 61)\n",
      "This is training run 5 and has the shape:  (87600, 61)\n",
      "The value of dropped columns is 35\n"
     ]
    },
    {
     "name": "stderr",
     "output_type": "stream",
     "text": [
      "/Users/alexellard/opt/anaconda3/lib/python3.7/site-packages/xgboost/data.py:96: UserWarning: Use subset (sliced data) of np.ndarray is not recommended because it will generate extra copies and increase memory consumption\n",
      "  \"because it will generate extra copies and increase \" +\n"
     ]
    },
    {
     "name": "stdout",
     "output_type": "stream",
     "text": [
      "Run 5 Mean Absolute Error: 72.39593\n",
      "[['var30(t-1)', 'var87(t-1)', 'var21(t-1)', 'var29(t-1)', 'var46(t-1)', 'var79(t-1)', 'var85(t-1)', 'var52(t-1)', 'var16(t-1)', 'var63(t-1)', 'var60(t-1)', 'var27(t-1)', 'var19(t-1)', 'var65(t-1)', 'var47(t-1)', 'var33(t-1)', 'var2(t-1)', 'var37(t-1)', 'var54(t-1)', 'var59(t-1)', 'var31(t-1)', 'var73(t-1)', 'var78(t-1)', 'var93(t-1)', 'var5(t-1)', 'var90(t-1)', 'var76(t-1)', 'var3(t-1)', 'var4(t-1)', 'var70(t-1)', 'var72(t-1)', 'var92(t-1)', 'var6(t-1)', 'var67(t-1)']]\n",
      "starting df shape: (87600, 62)\n",
      "This is training run 6 and has the shape:  (87600, 62)\n",
      "The value of dropped columns is 35\n"
     ]
    },
    {
     "name": "stderr",
     "output_type": "stream",
     "text": [
      "/Users/alexellard/opt/anaconda3/lib/python3.7/site-packages/xgboost/data.py:96: UserWarning: Use subset (sliced data) of np.ndarray is not recommended because it will generate extra copies and increase memory consumption\n",
      "  \"because it will generate extra copies and increase \" +\n"
     ]
    },
    {
     "name": "stdout",
     "output_type": "stream",
     "text": [
      "Run 6 Mean Absolute Error: 77.90534\n",
      "[['var59(t-1)', 'var96(t-1)', 'var22(t-1)', 'var73(t-1)', 'var76(t-1)', 'var35(t-1)', 'var7(t-1)', 'var44(t-1)', 'var92(t-1)', 'var11(t-1)', 'var24(t-1)', 'var16(t-1)', 'var49(t-1)', 'var60(t-1)', 'var48(t-1)', 'var85(t-1)', 'var47(t-1)', 'var62(t-1)', 'var37(t-1)', 'var40(t-1)', 'var74(t-1)', 'var86(t-1)', 'var26(t-1)', 'var52(t-1)', 'var42(t-1)', 'var13(t-1)', 'var41(t-1)', 'var70(t-1)', 'var56(t-1)', 'var8(t-1)', 'var23(t-1)', 'var81(t-1)', 'var1(t-1)', 'var25(t-1)', 'var71(t-1)']]\n",
      "starting df shape: (87600, 61)\n",
      "This is training run 7 and has the shape:  (87600, 61)\n",
      "The value of dropped columns is 35\n"
     ]
    },
    {
     "name": "stderr",
     "output_type": "stream",
     "text": [
      "/Users/alexellard/opt/anaconda3/lib/python3.7/site-packages/xgboost/data.py:96: UserWarning: Use subset (sliced data) of np.ndarray is not recommended because it will generate extra copies and increase memory consumption\n",
      "  \"because it will generate extra copies and increase \" +\n"
     ]
    },
    {
     "name": "stdout",
     "output_type": "stream",
     "text": [
      "Run 7 Mean Absolute Error: 2.7000008\n",
      "[['var73(t-1)', 'var55(t-1)', 'var72(t-1)', 'var71(t-1)', 'var45(t-1)', 'var65(t-1)', 'var49(t-1)', 'var40(t-1)', 'var91(t-1)', 'var61(t-1)', 'var2(t-1)', 'var86(t-1)', 'var19(t-1)', 'var23(t-1)', 'var44(t-1)', 'var37(t-1)', 'var59(t-1)', 'var39(t-1)', 'var53(t-1)', 'var69(t-1)', 'var18(t-1)', 'var33(t-1)', 'var80(t-1)', 'var36(t-1)', 'var6(t-1)', 'var68(t-1)', 'var20(t-1)', 'var25(t-1)', 'var95(t-1)', 'var48(t-1)', 'var28(t-1)', 'var79(t-1)', 'var12(t-1)', 'var10(t-1)', 'var62(t-1)']]\n",
      "starting df shape: (87600, 61)\n",
      "This is training run 8 and has the shape:  (87600, 61)\n",
      "The value of dropped columns is 35\n"
     ]
    },
    {
     "name": "stderr",
     "output_type": "stream",
     "text": [
      "/Users/alexellard/opt/anaconda3/lib/python3.7/site-packages/xgboost/data.py:96: UserWarning: Use subset (sliced data) of np.ndarray is not recommended because it will generate extra copies and increase memory consumption\n",
      "  \"because it will generate extra copies and increase \" +\n"
     ]
    },
    {
     "name": "stdout",
     "output_type": "stream",
     "text": [
      "Run 8 Mean Absolute Error: 154.29755\n",
      "[['var86(t-1)', 'var7(t-1)', 'var96(t-1)', 'var80(t-1)', 'var77(t-1)', 'var79(t-1)', 'var30(t-1)', 'var27(t-1)', 'var13(t-1)', 'var2(t-1)', 'var85(t-1)', 'var38(t-1)', 'var31(t-1)', 'var95(t-1)', 'var46(t-1)', 'var61(t-1)', 'var29(t-1)', 'var73(t-1)', 'var33(t-1)', 'var83(t-1)', 'var62(t-1)', 'var64(t-1)', 'var14(t-1)', 'var87(t-1)', 'var22(t-1)', 'var84(t-1)', 'var66(t-1)', 'var65(t-1)', 'var12(t-1)', 'var20(t-1)', 'var89(t-1)', 'var28(t-1)', 'var92(t-1)', 'var54(t-1)', 'var53(t-1)']]\n",
      "starting df shape: (87600, 61)\n",
      "This is training run 9 and has the shape:  (87600, 61)\n",
      "The value of dropped columns is 35\n"
     ]
    },
    {
     "name": "stderr",
     "output_type": "stream",
     "text": [
      "/Users/alexellard/opt/anaconda3/lib/python3.7/site-packages/xgboost/data.py:96: UserWarning: Use subset (sliced data) of np.ndarray is not recommended because it will generate extra copies and increase memory consumption\n",
      "  \"because it will generate extra copies and increase \" +\n"
     ]
    },
    {
     "name": "stdout",
     "output_type": "stream",
     "text": [
      "Run 9 Mean Absolute Error: 125.51651\n",
      "[['var60(t-1)', 'var67(t-1)', 'var16(t-1)', 'var5(t-1)', 'var29(t-1)', 'var23(t-1)', 'var44(t-1)', 'var78(t-1)', 'var84(t-1)', 'var48(t-1)', 'var2(t-1)', 'var43(t-1)', 'var83(t-1)', 'var32(t-1)', 'var25(t-1)', 'var21(t-1)', 'var56(t-1)', 'var9(t-1)', 'var36(t-1)', 'var59(t-1)', 'var7(t-1)', 'var37(t-1)', 'var71(t-1)', 'var66(t-1)', 'var92(t-1)', 'var35(t-1)', 'var22(t-1)', 'var34(t-1)', 'var49(t-1)', 'var40(t-1)', 'var82(t-1)', 'var87(t-1)', 'var46(t-1)', 'var31(t-1)', 'var19(t-1)']]\n",
      "starting df shape: (87600, 61)\n",
      "This is training run 10 and has the shape:  (87600, 61)\n",
      "The value of dropped columns is 35\n"
     ]
    },
    {
     "name": "stderr",
     "output_type": "stream",
     "text": [
      "/Users/alexellard/opt/anaconda3/lib/python3.7/site-packages/xgboost/data.py:96: UserWarning: Use subset (sliced data) of np.ndarray is not recommended because it will generate extra copies and increase memory consumption\n",
      "  \"because it will generate extra copies and increase \" +\n"
     ]
    },
    {
     "name": "stdout",
     "output_type": "stream",
     "text": [
      "Run 10 Mean Absolute Error: 44.186256\n",
      "[['var48(t-1)', 'var51(t-1)', 'var65(t-1)', 'var91(t-1)', 'var20(t-1)', 'var41(t-1)', 'var8(t-1)', 'var93(t-1)', 'var83(t-1)', 'var81(t-1)', 'var31(t-1)', 'var47(t-1)', 'var30(t-1)', 'var59(t-1)', 'var4(t-1)', 'var18(t-1)', 'var22(t-1)', 'var26(t-1)', 'var2(t-1)', 'var5(t-1)', 'var96(t-1)', 'var50(t-1)', 'var9(t-1)', 'var43(t-1)', 'var55(t-1)', 'var52(t-1)', 'var10(t-1)', 'var61(t-1)', 'var94(t-1)', 'var13(t-1)', 'var57(t-1)', 'var40(t-1)', 'var23(t-1)', 'var84(t-1)', 'var54(t-1)', 'var16(t-1)', 'var72(t-1)', 'var58(t-1)', 'var62(t-1)']]\n",
      "starting df shape: (87600, 57)\n",
      "This is training run 1 and has the shape:  (87600, 57)\n",
      "The value of dropped columns is 40\n"
     ]
    },
    {
     "name": "stderr",
     "output_type": "stream",
     "text": [
      "/Users/alexellard/opt/anaconda3/lib/python3.7/site-packages/xgboost/data.py:96: UserWarning: Use subset (sliced data) of np.ndarray is not recommended because it will generate extra copies and increase memory consumption\n",
      "  \"because it will generate extra copies and increase \" +\n"
     ]
    },
    {
     "name": "stdout",
     "output_type": "stream",
     "text": [
      "Run 1 Mean Absolute Error: 49.08005\n",
      "[['var5(t-1)', 'var25(t-1)', 'var74(t-1)', 'var39(t-1)', 'var73(t-1)', 'var35(t-1)', 'var68(t-1)', 'var38(t-1)', 'var26(t-1)', 'var62(t-1)', 'var48(t-1)', 'var37(t-1)', 'var15(t-1)', 'var12(t-1)', 'var11(t-1)', 'var3(t-1)', 'var76(t-1)', 'var55(t-1)', 'var59(t-1)', 'var70(t-1)', 'var8(t-1)', 'var80(t-1)', 'var85(t-1)', 'var10(t-1)', 'var27(t-1)', 'var14(t-1)', 'var81(t-1)', 'var36(t-1)', 'var33(t-1)', 'var47(t-1)', 'var20(t-1)', 'var2(t-1)', 'var49(t-1)', 'var29(t-1)', 'var41(t-1)', 'var67(t-1)', 'var66(t-1)', 'var18(t-1)', 'var65(t-1)', 'var28(t-1)']]\n",
      "starting df shape: (87600, 56)\n",
      "This is training run 2 and has the shape:  (87600, 56)\n",
      "The value of dropped columns is 40\n"
     ]
    },
    {
     "name": "stderr",
     "output_type": "stream",
     "text": [
      "/Users/alexellard/opt/anaconda3/lib/python3.7/site-packages/xgboost/data.py:96: UserWarning: Use subset (sliced data) of np.ndarray is not recommended because it will generate extra copies and increase memory consumption\n",
      "  \"because it will generate extra copies and increase \" +\n"
     ]
    },
    {
     "name": "stdout",
     "output_type": "stream",
     "text": [
      "Run 2 Mean Absolute Error: 132.48787\n",
      "[['var54(t-1)', 'var59(t-1)', 'var19(t-1)', 'var89(t-1)', 'var15(t-1)', 'var55(t-1)', 'var28(t-1)', 'var24(t-1)', 'var47(t-1)', 'var31(t-1)', 'var29(t-1)', 'var38(t-1)', 'var14(t-1)', 'var90(t-1)', 'var69(t-1)', 'var73(t-1)', 'var88(t-1)', 'var4(t-1)', 'var11(t-1)', 'var34(t-1)', 'var9(t-1)', 'var77(t-1)', 'var64(t-1)', 'var39(t-1)', 'var1(t-1)', 'var60(t-1)', 'var67(t-1)', 'var63(t-1)', 'var45(t-1)', 'var81(t-1)', 'var76(t-1)', 'var5(t-1)', 'var20(t-1)', 'var80(t-1)', 'var79(t-1)', 'var43(t-1)', 'var3(t-1)', 'var32(t-1)', 'var10(t-1)', 'var30(t-1)']]\n",
      "starting df shape: (87600, 56)\n",
      "This is training run 3 and has the shape:  (87600, 56)\n",
      "The value of dropped columns is 40\n"
     ]
    },
    {
     "name": "stderr",
     "output_type": "stream",
     "text": [
      "/Users/alexellard/opt/anaconda3/lib/python3.7/site-packages/xgboost/data.py:96: UserWarning: Use subset (sliced data) of np.ndarray is not recommended because it will generate extra copies and increase memory consumption\n",
      "  \"because it will generate extra copies and increase \" +\n"
     ]
    },
    {
     "name": "stdout",
     "output_type": "stream",
     "text": [
      "Run 3 Mean Absolute Error: 8.149231\n",
      "[['var91(t-1)', 'var44(t-1)', 'var79(t-1)', 'var60(t-1)', 'var57(t-1)', 'var29(t-1)', 'var7(t-1)', 'var52(t-1)', 'var59(t-1)', 'var84(t-1)', 'var62(t-1)', 'var74(t-1)', 'var8(t-1)', 'var40(t-1)', 'var86(t-1)', 'var78(t-1)', 'var95(t-1)', 'var67(t-1)', 'var43(t-1)', 'var45(t-1)', 'var88(t-1)', 'var25(t-1)', 'var18(t-1)', 'var48(t-1)', 'var38(t-1)', 'var69(t-1)', 'var92(t-1)', 'var24(t-1)', 'var4(t-1)', 'var12(t-1)', 'var39(t-1)', 'var90(t-1)', 'var16(t-1)', 'var96(t-1)', 'var72(t-1)', 'var35(t-1)', 'var46(t-1)', 'var37(t-1)', 'var68(t-1)']]\n",
      "starting df shape: (87600, 57)\n",
      "This is training run 4 and has the shape:  (87600, 57)\n",
      "The value of dropped columns is 40\n"
     ]
    },
    {
     "name": "stderr",
     "output_type": "stream",
     "text": [
      "/Users/alexellard/opt/anaconda3/lib/python3.7/site-packages/xgboost/data.py:96: UserWarning: Use subset (sliced data) of np.ndarray is not recommended because it will generate extra copies and increase memory consumption\n",
      "  \"because it will generate extra copies and increase \" +\n"
     ]
    },
    {
     "name": "stdout",
     "output_type": "stream",
     "text": [
      "Run 4 Mean Absolute Error: 78.56424\n",
      "[['var25(t-1)', 'var65(t-1)', 'var27(t-1)', 'var16(t-1)', 'var43(t-1)', 'var4(t-1)', 'var55(t-1)', 'var38(t-1)', 'var40(t-1)', 'var88(t-1)', 'var18(t-1)', 'var31(t-1)', 'var69(t-1)', 'var9(t-1)', 'var87(t-1)', 'var1(t-1)', 'var14(t-1)', 'var85(t-1)', 'var8(t-1)', 'var32(t-1)', 'var49(t-1)', 'var84(t-1)', 'var19(t-1)', 'var21(t-1)', 'var59(t-1)', 'var29(t-1)', 'var62(t-1)', 'var6(t-1)', 'var76(t-1)', 'var20(t-1)', 'var15(t-1)', 'var71(t-1)', 'var2(t-1)', 'var42(t-1)', 'var5(t-1)', 'var79(t-1)', 'var46(t-1)', 'var68(t-1)', 'var47(t-1)', 'var53(t-1)']]\n",
      "starting df shape: (87600, 56)\n",
      "This is training run 5 and has the shape:  (87600, 56)\n",
      "The value of dropped columns is 40\n"
     ]
    },
    {
     "name": "stderr",
     "output_type": "stream",
     "text": [
      "/Users/alexellard/opt/anaconda3/lib/python3.7/site-packages/xgboost/data.py:96: UserWarning: Use subset (sliced data) of np.ndarray is not recommended because it will generate extra copies and increase memory consumption\n",
      "  \"because it will generate extra copies and increase \" +\n"
     ]
    },
    {
     "name": "stdout",
     "output_type": "stream",
     "text": [
      "Run 5 Mean Absolute Error: 4.2296033\n",
      "[['var91(t-1)', 'var23(t-1)', 'var56(t-1)', 'var78(t-1)', 'var55(t-1)', 'var42(t-1)', 'var20(t-1)', 'var8(t-1)', 'var7(t-1)', 'var6(t-1)', 'var53(t-1)', 'var72(t-1)', 'var67(t-1)', 'var83(t-1)', 'var82(t-1)', 'var15(t-1)', 'var66(t-1)', 'var35(t-1)', 'var63(t-1)', 'var90(t-1)', 'var52(t-1)', 'var21(t-1)', 'var3(t-1)', 'var87(t-1)', 'var76(t-1)', 'var84(t-1)', 'var45(t-1)', 'var74(t-1)', 'var89(t-1)', 'var48(t-1)', 'var19(t-1)', 'var49(t-1)', 'var13(t-1)', 'var86(t-1)', 'var36(t-1)', 'var57(t-1)', 'var79(t-1)', 'var71(t-1)', 'var88(t-1)']]\n",
      "starting df shape: (87600, 57)\n",
      "This is training run 6 and has the shape:  (87600, 57)\n",
      "The value of dropped columns is 40\n"
     ]
    },
    {
     "name": "stderr",
     "output_type": "stream",
     "text": [
      "/Users/alexellard/opt/anaconda3/lib/python3.7/site-packages/xgboost/data.py:96: UserWarning: Use subset (sliced data) of np.ndarray is not recommended because it will generate extra copies and increase memory consumption\n",
      "  \"because it will generate extra copies and increase \" +\n"
     ]
    },
    {
     "name": "stdout",
     "output_type": "stream",
     "text": [
      "Run 6 Mean Absolute Error: 78.8309\n",
      "[['var73(t-1)', 'var64(t-1)', 'var26(t-1)', 'var14(t-1)', 'var93(t-1)', 'var2(t-1)', 'var52(t-1)', 'var1(t-1)', 'var55(t-1)', 'var10(t-1)', 'var47(t-1)', 'var35(t-1)', 'var25(t-1)', 'var18(t-1)', 'var76(t-1)', 'var58(t-1)', 'var83(t-1)', 'var33(t-1)', 'var5(t-1)', 'var27(t-1)', 'var69(t-1)', 'var59(t-1)', 'var92(t-1)', 'var86(t-1)', 'var38(t-1)', 'var42(t-1)', 'var57(t-1)', 'var89(t-1)', 'var39(t-1)', 'var87(t-1)', 'var81(t-1)', 'var34(t-1)', 'var11(t-1)', 'var77(t-1)', 'var62(t-1)', 'var72(t-1)', 'var54(t-1)', 'var40(t-1)', 'var20(t-1)', 'var56(t-1)']]\n",
      "starting df shape: (87600, 56)\n",
      "This is training run 7 and has the shape:  (87600, 56)\n",
      "The value of dropped columns is 40\n"
     ]
    },
    {
     "name": "stderr",
     "output_type": "stream",
     "text": [
      "/Users/alexellard/opt/anaconda3/lib/python3.7/site-packages/xgboost/data.py:96: UserWarning: Use subset (sliced data) of np.ndarray is not recommended because it will generate extra copies and increase memory consumption\n",
      "  \"because it will generate extra copies and increase \" +\n"
     ]
    },
    {
     "name": "stdout",
     "output_type": "stream",
     "text": [
      "Run 7 Mean Absolute Error: 2.4406934\n",
      "[['var7(t-1)', 'var53(t-1)', 'var6(t-1)', 'var60(t-1)', 'var11(t-1)', 'var79(t-1)', 'var87(t-1)', 'var47(t-1)', 'var58(t-1)', 'var85(t-1)', 'var69(t-1)', 'var10(t-1)', 'var93(t-1)', 'var22(t-1)', 'var64(t-1)', 'var55(t-1)', 'var52(t-1)', 'var51(t-1)', 'var27(t-1)', 'var3(t-1)', 'var57(t-1)', 'var9(t-1)', 'var65(t-1)', 'var19(t-1)', 'var15(t-1)', 'var5(t-1)', 'var81(t-1)', 'var86(t-1)', 'var62(t-1)', 'var76(t-1)', 'var23(t-1)', 'var78(t-1)', 'var41(t-1)', 'var59(t-1)', 'var63(t-1)', 'var82(t-1)', 'var70(t-1)', 'var8(t-1)', 'var67(t-1)', 'var50(t-1)']]\n",
      "starting df shape: (87600, 56)\n",
      "This is training run 8 and has the shape:  (87600, 56)\n",
      "The value of dropped columns is 40\n"
     ]
    },
    {
     "name": "stderr",
     "output_type": "stream",
     "text": [
      "/Users/alexellard/opt/anaconda3/lib/python3.7/site-packages/xgboost/data.py:96: UserWarning: Use subset (sliced data) of np.ndarray is not recommended because it will generate extra copies and increase memory consumption\n",
      "  \"because it will generate extra copies and increase \" +\n"
     ]
    },
    {
     "name": "stdout",
     "output_type": "stream",
     "text": [
      "Run 8 Mean Absolute Error: 78.957\n",
      "[['var37(t-1)', 'var40(t-1)', 'var83(t-1)', 'var61(t-1)', 'var33(t-1)', 'var84(t-1)', 'var89(t-1)', 'var20(t-1)', 'var22(t-1)', 'var44(t-1)', 'var31(t-1)', 'var1(t-1)', 'var34(t-1)', 'var86(t-1)', 'var80(t-1)', 'var63(t-1)', 'var14(t-1)', 'var92(t-1)', 'var23(t-1)', 'var55(t-1)', 'var60(t-1)', 'var6(t-1)', 'var74(t-1)', 'var48(t-1)', 'var88(t-1)', 'var16(t-1)', 'var49(t-1)', 'var72(t-1)', 'var43(t-1)', 'var5(t-1)', 'var70(t-1)', 'var12(t-1)', 'var71(t-1)', 'var18(t-1)', 'var10(t-1)', 'var76(t-1)', 'var69(t-1)', 'var11(t-1)', 'var79(t-1)', 'var4(t-1)']]\n",
      "starting df shape: (87600, 56)\n",
      "This is training run 9 and has the shape:  (87600, 56)\n",
      "The value of dropped columns is 40\n"
     ]
    },
    {
     "name": "stderr",
     "output_type": "stream",
     "text": [
      "/Users/alexellard/opt/anaconda3/lib/python3.7/site-packages/xgboost/data.py:96: UserWarning: Use subset (sliced data) of np.ndarray is not recommended because it will generate extra copies and increase memory consumption\n",
      "  \"because it will generate extra copies and increase \" +\n"
     ]
    },
    {
     "name": "stdout",
     "output_type": "stream",
     "text": [
      "Run 9 Mean Absolute Error: 9.851026\n",
      "[['var57(t-1)', 'var21(t-1)', 'var74(t-1)', 'var85(t-1)', 'var83(t-1)', 'var2(t-1)', 'var77(t-1)', 'var64(t-1)', 'var8(t-1)', 'var92(t-1)', 'var55(t-1)', 'var78(t-1)', 'var66(t-1)', 'var60(t-1)', 'var89(t-1)', 'var90(t-1)', 'var20(t-1)', 'var36(t-1)', 'var45(t-1)', 'var43(t-1)', 'var22(t-1)', 'var58(t-1)', 'var52(t-1)', 'var50(t-1)', 'var94(t-1)', 'var35(t-1)', 'var49(t-1)', 'var12(t-1)', 'var54(t-1)', 'var39(t-1)', 'var70(t-1)', 'var19(t-1)', 'var14(t-1)', 'var13(t-1)', 'var41(t-1)', 'var61(t-1)', 'var84(t-1)', 'var28(t-1)', 'var76(t-1)']]\n",
      "starting df shape: (87600, 57)\n",
      "This is training run 10 and has the shape:  (87600, 57)\n",
      "The value of dropped columns is 40\n"
     ]
    },
    {
     "name": "stderr",
     "output_type": "stream",
     "text": [
      "/Users/alexellard/opt/anaconda3/lib/python3.7/site-packages/xgboost/data.py:96: UserWarning: Use subset (sliced data) of np.ndarray is not recommended because it will generate extra copies and increase memory consumption\n",
      "  \"because it will generate extra copies and increase \" +\n"
     ]
    },
    {
     "name": "stdout",
     "output_type": "stream",
     "text": [
      "Run 10 Mean Absolute Error: 47.86617\n",
      "[['var79(t-1)', 'var48(t-1)', 'var71(t-1)', 'var70(t-1)', 'var44(t-1)', 'var57(t-1)', 'var56(t-1)', 'var28(t-1)', 'var73(t-1)', 'var10(t-1)', 'var46(t-1)', 'var39(t-1)', 'var7(t-1)', 'var24(t-1)', 'var15(t-1)', 'var83(t-1)', 'var74(t-1)', 'var14(t-1)', 'var42(t-1)', 'var9(t-1)', 'var37(t-1)', 'var60(t-1)', 'var29(t-1)', 'var86(t-1)', 'var35(t-1)', 'var65(t-1)', 'var92(t-1)', 'var4(t-1)', 'var47(t-1)', 'var64(t-1)', 'var36(t-1)', 'var52(t-1)', 'var62(t-1)', 'var33(t-1)', 'var63(t-1)', 'var69(t-1)', 'var40(t-1)', 'var8(t-1)', 'var22(t-1)', 'var27(t-1)', 'var89(t-1)', 'var11(t-1)', 'var81(t-1)', 'var59(t-1)', 'var93(t-1)']]\n",
      "starting df shape: (87600, 51)\n",
      "This is training run 1 and has the shape:  (87600, 51)\n",
      "The value of dropped columns is 45\n"
     ]
    },
    {
     "name": "stderr",
     "output_type": "stream",
     "text": [
      "/Users/alexellard/opt/anaconda3/lib/python3.7/site-packages/xgboost/data.py:96: UserWarning: Use subset (sliced data) of np.ndarray is not recommended because it will generate extra copies and increase memory consumption\n",
      "  \"because it will generate extra copies and increase \" +\n"
     ]
    },
    {
     "name": "stdout",
     "output_type": "stream",
     "text": [
      "Run 1 Mean Absolute Error: 73.0461\n",
      "[['var23(t-1)', 'var95(t-1)', 'var63(t-1)', 'var90(t-1)', 'var11(t-1)', 'var8(t-1)', 'var39(t-1)', 'var2(t-1)', 'var18(t-1)', 'var13(t-1)', 'var71(t-1)', 'var74(t-1)', 'var20(t-1)', 'var64(t-1)', 'var16(t-1)', 'var26(t-1)', 'var28(t-1)', 'var21(t-1)', 'var42(t-1)', 'var14(t-1)', 'var79(t-1)', 'var57(t-1)', 'var59(t-1)', 'var85(t-1)', 'var4(t-1)', 'var86(t-1)', 'var83(t-1)', 'var35(t-1)', 'var34(t-1)', 'var32(t-1)', 'var33(t-1)', 'var30(t-1)', 'var76(t-1)', 'var62(t-1)', 'var52(t-1)', 'var54(t-1)', 'var56(t-1)', 'var92(t-1)', 'var94(t-1)', 'var27(t-1)', 'var12(t-1)', 'var47(t-1)', 'var7(t-1)', 'var70(t-1)', 'var89(t-1)']]\n",
      "starting df shape: (87600, 51)\n",
      "This is training run 2 and has the shape:  (87600, 51)\n",
      "The value of dropped columns is 45\n"
     ]
    },
    {
     "name": "stderr",
     "output_type": "stream",
     "text": [
      "/Users/alexellard/opt/anaconda3/lib/python3.7/site-packages/xgboost/data.py:96: UserWarning: Use subset (sliced data) of np.ndarray is not recommended because it will generate extra copies and increase memory consumption\n",
      "  \"because it will generate extra copies and increase \" +\n"
     ]
    },
    {
     "name": "stdout",
     "output_type": "stream",
     "text": [
      "Run 2 Mean Absolute Error: 82.36736\n",
      "[['var16(t-1)', 'var70(t-1)', 'var66(t-1)', 'var34(t-1)', 'var9(t-1)', 'var65(t-1)', 'var88(t-1)', 'var10(t-1)', 'var39(t-1)', 'var56(t-1)', 'var41(t-1)', 'var57(t-1)', 'var78(t-1)', 'var82(t-1)', 'var12(t-1)', 'var15(t-1)', 'var23(t-1)', 'var58(t-1)', 'var52(t-1)', 'var3(t-1)', 'var61(t-1)', 'var4(t-1)', 'var63(t-1)', 'var21(t-1)', 'var93(t-1)', 'var18(t-1)', 'var72(t-1)', 'var22(t-1)', 'var91(t-1)', 'var29(t-1)', 'var89(t-1)', 'var28(t-1)', 'var6(t-1)', 'var94(t-1)', 'var27(t-1)', 'var86(t-1)', 'var45(t-1)', 'var54(t-1)', 'var77(t-1)', 'var8(t-1)', 'var59(t-1)', 'var83(t-1)', 'var48(t-1)', 'var32(t-1)']]\n",
      "starting df shape: (87600, 52)\n",
      "This is training run 3 and has the shape:  (87600, 52)\n",
      "The value of dropped columns is 45\n"
     ]
    },
    {
     "name": "stderr",
     "output_type": "stream",
     "text": [
      "/Users/alexellard/opt/anaconda3/lib/python3.7/site-packages/xgboost/data.py:96: UserWarning: Use subset (sliced data) of np.ndarray is not recommended because it will generate extra copies and increase memory consumption\n",
      "  \"because it will generate extra copies and increase \" +\n"
     ]
    },
    {
     "name": "stdout",
     "output_type": "stream",
     "text": [
      "Run 3 Mean Absolute Error: 46.77849\n",
      "[['var40(t-1)', 'var92(t-1)', 'var62(t-1)', 'var26(t-1)', 'var58(t-1)', 'var35(t-1)', 'var6(t-1)', 'var77(t-1)', 'var43(t-1)', 'var67(t-1)', 'var78(t-1)', 'var82(t-1)', 'var20(t-1)', 'var84(t-1)', 'var31(t-1)', 'var64(t-1)', 'var55(t-1)', 'var33(t-1)', 'var53(t-1)', 'var19(t-1)', 'var32(t-1)', 'var39(t-1)', 'var16(t-1)', 'var15(t-1)', 'var29(t-1)', 'var36(t-1)', 'var66(t-1)', 'var1(t-1)', 'var9(t-1)', 'var51(t-1)', 'var96(t-1)', 'var88(t-1)', 'var21(t-1)', 'var38(t-1)', 'var30(t-1)', 'var46(t-1)', 'var76(t-1)', 'var75(t-1)', 'var85(t-1)', 'var70(t-1)', 'var81(t-1)', 'var27(t-1)', 'var41(t-1)', 'var69(t-1)', 'var7(t-1)']]\n",
      "starting df shape: (87600, 51)\n",
      "This is training run 4 and has the shape:  (87600, 51)\n",
      "The value of dropped columns is 45\n"
     ]
    },
    {
     "name": "stderr",
     "output_type": "stream",
     "text": [
      "/Users/alexellard/opt/anaconda3/lib/python3.7/site-packages/xgboost/data.py:96: UserWarning: Use subset (sliced data) of np.ndarray is not recommended because it will generate extra copies and increase memory consumption\n",
      "  \"because it will generate extra copies and increase \" +\n"
     ]
    },
    {
     "name": "stdout",
     "output_type": "stream",
     "text": [
      "Run 4 Mean Absolute Error: 2.6946793\n",
      "[['var38(t-1)', 'var33(t-1)', 'var75(t-1)', 'var95(t-1)', 'var6(t-1)', 'var57(t-1)', 'var64(t-1)', 'var51(t-1)', 'var36(t-1)', 'var4(t-1)', 'var15(t-1)', 'var85(t-1)', 'var63(t-1)', 'var59(t-1)', 'var96(t-1)', 'var11(t-1)', 'var94(t-1)', 'var72(t-1)', 'var7(t-1)', 'var32(t-1)', 'var41(t-1)', 'var29(t-1)', 'var87(t-1)', 'var2(t-1)', 'var68(t-1)', 'var88(t-1)', 'var1(t-1)', 'var31(t-1)', 'var90(t-1)', 'var20(t-1)', 'var62(t-1)', 'var16(t-1)', 'var40(t-1)', 'var53(t-1)', 'var8(t-1)', 'var24(t-1)', 'var37(t-1)', 'var42(t-1)', 'var61(t-1)', 'var19(t-1)', 'var49(t-1)', 'var73(t-1)', 'var46(t-1)', 'var39(t-1)', 'var43(t-1)']]\n",
      "starting df shape: (87600, 51)\n",
      "This is training run 5 and has the shape:  (87600, 51)\n",
      "The value of dropped columns is 45\n"
     ]
    },
    {
     "name": "stderr",
     "output_type": "stream",
     "text": [
      "/Users/alexellard/opt/anaconda3/lib/python3.7/site-packages/xgboost/data.py:96: UserWarning: Use subset (sliced data) of np.ndarray is not recommended because it will generate extra copies and increase memory consumption\n",
      "  \"because it will generate extra copies and increase \" +\n"
     ]
    },
    {
     "name": "stdout",
     "output_type": "stream",
     "text": [
      "Run 5 Mean Absolute Error: 2.426223\n",
      "[['var94(t-1)', 'var38(t-1)', 'var73(t-1)', 'var63(t-1)', 'var66(t-1)', 'var37(t-1)', 'var91(t-1)', 'var32(t-1)', 'var24(t-1)', 'var93(t-1)', 'var96(t-1)', 'var55(t-1)', 'var21(t-1)', 'var81(t-1)', 'var90(t-1)', 'var88(t-1)', 'var19(t-1)', 'var31(t-1)', 'var54(t-1)', 'var8(t-1)', 'var56(t-1)', 'var1(t-1)', 'var4(t-1)', 'var49(t-1)', 'var59(t-1)', 'var85(t-1)', 'var9(t-1)', 'var71(t-1)', 'var52(t-1)', 'var74(t-1)', 'var20(t-1)', 'var26(t-1)', 'var33(t-1)', 'var72(t-1)', 'var44(t-1)', 'var62(t-1)', 'var69(t-1)', 'var46(t-1)', 'var43(t-1)', 'var76(t-1)', 'var87(t-1)', 'var83(t-1)', 'var2(t-1)', 'var10(t-1)', 'var79(t-1)']]\n",
      "starting df shape: (87600, 51)\n",
      "This is training run 6 and has the shape:  (87600, 51)\n",
      "The value of dropped columns is 45\n"
     ]
    },
    {
     "name": "stderr",
     "output_type": "stream",
     "text": [
      "/Users/alexellard/opt/anaconda3/lib/python3.7/site-packages/xgboost/data.py:96: UserWarning: Use subset (sliced data) of np.ndarray is not recommended because it will generate extra copies and increase memory consumption\n",
      "  \"because it will generate extra copies and increase \" +\n"
     ]
    },
    {
     "name": "stdout",
     "output_type": "stream",
     "text": [
      "Run 6 Mean Absolute Error: 3.8838425\n",
      "[['var88(t-1)', 'var28(t-1)', 'var93(t-1)', 'var31(t-1)', 'var83(t-1)', 'var23(t-1)', 'var21(t-1)', 'var32(t-1)', 'var94(t-1)', 'var40(t-1)', 'var29(t-1)', 'var5(t-1)', 'var15(t-1)', 'var8(t-1)', 'var75(t-1)', 'var58(t-1)', 'var49(t-1)', 'var20(t-1)', 'var71(t-1)', 'var35(t-1)', 'var30(t-1)', 'var37(t-1)', 'var52(t-1)', 'var39(t-1)', 'var2(t-1)', 'var67(t-1)', 'var79(t-1)', 'var38(t-1)', 'var22(t-1)', 'var73(t-1)', 'var50(t-1)', 'var25(t-1)', 'var7(t-1)', 'var12(t-1)', 'var57(t-1)', 'var46(t-1)', 'var27(t-1)', 'var84(t-1)', 'var47(t-1)', 'var69(t-1)', 'var56(t-1)', 'var74(t-1)', 'var26(t-1)', 'var48(t-1)']]\n",
      "starting df shape: (87600, 52)\n",
      "This is training run 7 and has the shape:  (87600, 52)\n",
      "The value of dropped columns is 45\n"
     ]
    },
    {
     "name": "stderr",
     "output_type": "stream",
     "text": [
      "/Users/alexellard/opt/anaconda3/lib/python3.7/site-packages/xgboost/data.py:96: UserWarning: Use subset (sliced data) of np.ndarray is not recommended because it will generate extra copies and increase memory consumption\n",
      "  \"because it will generate extra copies and increase \" +\n"
     ]
    },
    {
     "name": "stdout",
     "output_type": "stream",
     "text": [
      "Run 7 Mean Absolute Error: 72.205826\n",
      "[['var82(t-1)', 'var5(t-1)', 'var27(t-1)', 'var49(t-1)', 'var76(t-1)', 'var94(t-1)', 'var42(t-1)', 'var50(t-1)', 'var16(t-1)', 'var71(t-1)', 'var56(t-1)', 'var88(t-1)', 'var84(t-1)', 'var33(t-1)', 'var87(t-1)', 'var13(t-1)', 'var72(t-1)', 'var75(t-1)', 'var73(t-1)', 'var58(t-1)', 'var35(t-1)', 'var63(t-1)', 'var43(t-1)', 'var79(t-1)', 'var60(t-1)', 'var11(t-1)', 'var24(t-1)', 'var37(t-1)', 'var67(t-1)', 'var36(t-1)', 'var45(t-1)', 'var23(t-1)', 'var10(t-1)', 'var78(t-1)', 'var31(t-1)', 'var83(t-1)', 'var92(t-1)', 'var26(t-1)', 'var40(t-1)', 'var86(t-1)', 'var2(t-1)', 'var28(t-1)', 'var6(t-1)', 'var39(t-1)', 'var30(t-1)']]\n",
      "starting df shape: (87600, 51)\n",
      "This is training run 8 and has the shape:  (87600, 51)\n",
      "The value of dropped columns is 45\n"
     ]
    },
    {
     "name": "stderr",
     "output_type": "stream",
     "text": [
      "/Users/alexellard/opt/anaconda3/lib/python3.7/site-packages/xgboost/data.py:96: UserWarning: Use subset (sliced data) of np.ndarray is not recommended because it will generate extra copies and increase memory consumption\n",
      "  \"because it will generate extra copies and increase \" +\n"
     ]
    },
    {
     "name": "stdout",
     "output_type": "stream",
     "text": [
      "Run 8 Mean Absolute Error: 80.013275\n",
      "[['var50(t-1)', 'var46(t-1)', 'var42(t-1)', 'var47(t-1)', 'var59(t-1)', 'var80(t-1)', 'var77(t-1)', 'var56(t-1)', 'var21(t-1)', 'var91(t-1)', 'var49(t-1)', 'var54(t-1)', 'var45(t-1)', 'var38(t-1)', 'var90(t-1)', 'var96(t-1)', 'var35(t-1)', 'var25(t-1)', 'var55(t-1)', 'var65(t-1)', 'var61(t-1)', 'var86(t-1)', 'var26(t-1)', 'var40(t-1)', 'var76(t-1)', 'var43(t-1)', 'var75(t-1)', 'var84(t-1)', 'var74(t-1)', 'var66(t-1)', 'var10(t-1)', 'var44(t-1)', 'var79(t-1)', 'var63(t-1)', 'var7(t-1)', 'var1(t-1)', 'var51(t-1)', 'var53(t-1)', 'var9(t-1)', 'var85(t-1)', 'var16(t-1)', 'var37(t-1)', 'var28(t-1)', 'var68(t-1)']]\n",
      "starting df shape: (87600, 52)\n",
      "This is training run 9 and has the shape:  (87600, 52)\n",
      "The value of dropped columns is 45\n"
     ]
    },
    {
     "name": "stderr",
     "output_type": "stream",
     "text": [
      "/Users/alexellard/opt/anaconda3/lib/python3.7/site-packages/xgboost/data.py:96: UserWarning: Use subset (sliced data) of np.ndarray is not recommended because it will generate extra copies and increase memory consumption\n",
      "  \"because it will generate extra copies and increase \" +\n"
     ]
    },
    {
     "name": "stdout",
     "output_type": "stream",
     "text": [
      "Run 9 Mean Absolute Error: 8.157945\n",
      "[['var82(t-1)', 'var21(t-1)', 'var28(t-1)', 'var70(t-1)', 'var45(t-1)', 'var11(t-1)', 'var95(t-1)', 'var96(t-1)', 'var24(t-1)', 'var59(t-1)', 'var44(t-1)', 'var16(t-1)', 'var61(t-1)', 'var1(t-1)', 'var5(t-1)', 'var65(t-1)', 'var58(t-1)', 'var19(t-1)', 'var83(t-1)', 'var52(t-1)', 'var15(t-1)', 'var51(t-1)', 'var77(t-1)', 'var56(t-1)', 'var2(t-1)', 'var39(t-1)', 'var94(t-1)', 'var3(t-1)', 'var81(t-1)', 'var50(t-1)', 'var91(t-1)', 'var22(t-1)', 'var43(t-1)', 'var86(t-1)', 'var7(t-1)', 'var41(t-1)', 'var37(t-1)', 'var75(t-1)', 'var87(t-1)', 'var10(t-1)', 'var13(t-1)', 'var6(t-1)', 'var69(t-1)', 'var12(t-1)', 'var27(t-1)']]\n",
      "starting df shape: (87600, 51)\n",
      "This is training run 10 and has the shape:  (87600, 51)\n",
      "The value of dropped columns is 45\n"
     ]
    },
    {
     "name": "stderr",
     "output_type": "stream",
     "text": [
      "/Users/alexellard/opt/anaconda3/lib/python3.7/site-packages/xgboost/data.py:96: UserWarning: Use subset (sliced data) of np.ndarray is not recommended because it will generate extra copies and increase memory consumption\n",
      "  \"because it will generate extra copies and increase \" +\n"
     ]
    },
    {
     "name": "stdout",
     "output_type": "stream",
     "text": [
      "Run 10 Mean Absolute Error: 0.41106007\n",
      "[['var57(t-1)', 'var75(t-1)', 'var88(t-1)', 'var36(t-1)', 'var53(t-1)', 'var26(t-1)', 'var51(t-1)', 'var35(t-1)', 'var12(t-1)', 'var40(t-1)', 'var41(t-1)', 'var28(t-1)', 'var38(t-1)', 'var11(t-1)', 'var95(t-1)', 'var87(t-1)', 'var79(t-1)', 'var80(t-1)', 'var93(t-1)', 'var59(t-1)', 'var14(t-1)', 'var19(t-1)', 'var21(t-1)', 'var54(t-1)', 'var69(t-1)', 'var25(t-1)', 'var22(t-1)', 'var34(t-1)', 'var29(t-1)', 'var48(t-1)', 'var32(t-1)', 'var47(t-1)', 'var5(t-1)', 'var84(t-1)', 'var49(t-1)', 'var8(t-1)', 'var6(t-1)', 'var94(t-1)', 'var52(t-1)', 'var2(t-1)', 'var74(t-1)', 'var83(t-1)', 'var27(t-1)', 'var67(t-1)', 'var9(t-1)', 'var90(t-1)', 'var37(t-1)', 'var91(t-1)', 'var85(t-1)', 'var86(t-1)']]\n",
      "starting df shape: (87600, 46)\n",
      "This is training run 1 and has the shape:  (87600, 46)\n",
      "The value of dropped columns is 50\n"
     ]
    },
    {
     "name": "stderr",
     "output_type": "stream",
     "text": [
      "/Users/alexellard/opt/anaconda3/lib/python3.7/site-packages/xgboost/data.py:96: UserWarning: Use subset (sliced data) of np.ndarray is not recommended because it will generate extra copies and increase memory consumption\n",
      "  \"because it will generate extra copies and increase \" +\n"
     ]
    },
    {
     "name": "stdout",
     "output_type": "stream",
     "text": [
      "Run 1 Mean Absolute Error: 135.52544\n",
      "[['var57(t-1)', 'var83(t-1)', 'var82(t-1)', 'var39(t-1)', 'var91(t-1)', 'var94(t-1)', 'var63(t-1)', 'var30(t-1)', 'var10(t-1)', 'var77(t-1)', 'var53(t-1)', 'var88(t-1)', 'var21(t-1)', 'var42(t-1)', 'var76(t-1)', 'var25(t-1)', 'var33(t-1)', 'var5(t-1)', 'var71(t-1)', 'var65(t-1)', 'var36(t-1)', 'var78(t-1)', 'var35(t-1)', 'var55(t-1)', 'var18(t-1)', 'var69(t-1)', 'var3(t-1)', 'var93(t-1)', 'var84(t-1)', 'var64(t-1)', 'var45(t-1)', 'var80(t-1)', 'var54(t-1)', 'var1(t-1)', 'var49(t-1)', 'var32(t-1)', 'var27(t-1)', 'var20(t-1)', 'var6(t-1)', 'var59(t-1)', 'var81(t-1)', 'var52(t-1)', 'var92(t-1)', 'var58(t-1)', 'var95(t-1)', 'var51(t-1)', 'var22(t-1)', 'var79(t-1)', 'var4(t-1)']]\n",
      "starting df shape: (87600, 47)\n",
      "This is training run 2 and has the shape:  (87600, 47)\n",
      "The value of dropped columns is 50\n"
     ]
    },
    {
     "name": "stderr",
     "output_type": "stream",
     "text": [
      "/Users/alexellard/opt/anaconda3/lib/python3.7/site-packages/xgboost/data.py:96: UserWarning: Use subset (sliced data) of np.ndarray is not recommended because it will generate extra copies and increase memory consumption\n",
      "  \"because it will generate extra copies and increase \" +\n"
     ]
    },
    {
     "name": "stdout",
     "output_type": "stream",
     "text": [
      "Run 2 Mean Absolute Error: 11.193822\n",
      "[['var70(t-1)', 'var40(t-1)', 'var18(t-1)', 'var10(t-1)', 'var1(t-1)', 'var23(t-1)', 'var12(t-1)', 'var51(t-1)', 'var22(t-1)', 'var94(t-1)', 'var75(t-1)', 'var31(t-1)', 'var76(t-1)', 'var9(t-1)', 'var78(t-1)', 'var59(t-1)', 'var88(t-1)', 'var14(t-1)', 'var13(t-1)', 'var90(t-1)', 'var49(t-1)', 'var48(t-1)', 'var86(t-1)', 'var67(t-1)', 'var6(t-1)', 'var63(t-1)', 'var35(t-1)', 'var30(t-1)', 'var29(t-1)', 'var57(t-1)', 'var83(t-1)', 'var4(t-1)', 'var80(t-1)', 'var3(t-1)', 'var71(t-1)', 'var5(t-1)', 'var21(t-1)', 'var33(t-1)', 'var46(t-1)', 'var25(t-1)', 'var34(t-1)', 'var96(t-1)', 'var61(t-1)', 'var93(t-1)', 'var26(t-1)', 'var69(t-1)', 'var66(t-1)', 'var2(t-1)', 'var20(t-1)']]\n",
      "starting df shape: (87600, 47)\n",
      "This is training run 3 and has the shape:  (87600, 47)\n",
      "The value of dropped columns is 50\n"
     ]
    },
    {
     "name": "stderr",
     "output_type": "stream",
     "text": [
      "/Users/alexellard/opt/anaconda3/lib/python3.7/site-packages/xgboost/data.py:96: UserWarning: Use subset (sliced data) of np.ndarray is not recommended because it will generate extra copies and increase memory consumption\n",
      "  \"because it will generate extra copies and increase \" +\n"
     ]
    },
    {
     "name": "stdout",
     "output_type": "stream",
     "text": [
      "Run 3 Mean Absolute Error: 12.038285\n",
      "[['var16(t-1)', 'var37(t-1)', 'var87(t-1)', 'var43(t-1)', 'var23(t-1)', 'var78(t-1)', 'var55(t-1)', 'var94(t-1)', 'var86(t-1)', 'var90(t-1)', 'var29(t-1)', 'var54(t-1)', 'var44(t-1)', 'var18(t-1)', 'var85(t-1)', 'var52(t-1)', 'var92(t-1)', 'var41(t-1)', 'var89(t-1)', 'var46(t-1)', 'var73(t-1)', 'var2(t-1)', 'var24(t-1)', 'var83(t-1)', 'var49(t-1)', 'var25(t-1)', 'var69(t-1)', 'var82(t-1)', 'var76(t-1)', 'var96(t-1)', 'var62(t-1)', 'var88(t-1)', 'var7(t-1)', 'var67(t-1)', 'var81(t-1)', 'var93(t-1)', 'var11(t-1)', 'var39(t-1)', 'var66(t-1)', 'var36(t-1)', 'var10(t-1)', 'var80(t-1)', 'var35(t-1)', 'var19(t-1)', 'var63(t-1)', 'var68(t-1)', 'var56(t-1)', 'var60(t-1)', 'var21(t-1)', 'var91(t-1)']]\n",
      "starting df shape: (87600, 46)\n",
      "This is training run 4 and has the shape:  (87600, 46)\n",
      "The value of dropped columns is 50\n"
     ]
    },
    {
     "name": "stderr",
     "output_type": "stream",
     "text": [
      "/Users/alexellard/opt/anaconda3/lib/python3.7/site-packages/xgboost/data.py:96: UserWarning: Use subset (sliced data) of np.ndarray is not recommended because it will generate extra copies and increase memory consumption\n",
      "  \"because it will generate extra copies and increase \" +\n"
     ]
    },
    {
     "name": "stdout",
     "output_type": "stream",
     "text": [
      "Run 4 Mean Absolute Error: 131.94733\n",
      "[['var38(t-1)', 'var8(t-1)', 'var43(t-1)', 'var23(t-1)', 'var31(t-1)', 'var57(t-1)', 'var79(t-1)', 'var90(t-1)', 'var11(t-1)', 'var95(t-1)', 'var61(t-1)', 'var69(t-1)', 'var53(t-1)', 'var94(t-1)', 'var72(t-1)', 'var26(t-1)', 'var51(t-1)', 'var19(t-1)', 'var16(t-1)', 'var3(t-1)', 'var4(t-1)', 'var70(t-1)', 'var89(t-1)', 'var80(t-1)', 'var21(t-1)', 'var46(t-1)', 'var84(t-1)', 'var67(t-1)', 'var56(t-1)', 'var20(t-1)', 'var44(t-1)', 'var1(t-1)', 'var85(t-1)', 'var62(t-1)', 'var24(t-1)', 'var81(t-1)', 'var45(t-1)', 'var91(t-1)', 'var73(t-1)', 'var41(t-1)', 'var66(t-1)', 'var10(t-1)', 'var96(t-1)', 'var27(t-1)', 'var28(t-1)', 'var47(t-1)', 'var15(t-1)', 'var78(t-1)', 'var87(t-1)']]\n",
      "starting df shape: (87600, 47)\n",
      "This is training run 5 and has the shape:  (87600, 47)\n",
      "The value of dropped columns is 50\n"
     ]
    },
    {
     "name": "stderr",
     "output_type": "stream",
     "text": [
      "/Users/alexellard/opt/anaconda3/lib/python3.7/site-packages/xgboost/data.py:96: UserWarning: Use subset (sliced data) of np.ndarray is not recommended because it will generate extra copies and increase memory consumption\n",
      "  \"because it will generate extra copies and increase \" +\n"
     ]
    },
    {
     "name": "stdout",
     "output_type": "stream",
     "text": [
      "Run 5 Mean Absolute Error: 8.493997\n",
      "[['var31(t-1)', 'var26(t-1)', 'var29(t-1)', 'var84(t-1)', 'var40(t-1)', 'var16(t-1)', 'var6(t-1)', 'var23(t-1)', 'var79(t-1)', 'var92(t-1)', 'var43(t-1)', 'var21(t-1)', 'var3(t-1)', 'var10(t-1)', 'var51(t-1)', 'var15(t-1)', 'var7(t-1)', 'var41(t-1)', 'var80(t-1)', 'var50(t-1)', 'var60(t-1)', 'var57(t-1)', 'var33(t-1)', 'var13(t-1)', 'var82(t-1)', 'var89(t-1)', 'var67(t-1)', 'var48(t-1)', 'var25(t-1)', 'var62(t-1)', 'var56(t-1)', 'var58(t-1)', 'var1(t-1)', 'var90(t-1)', 'var65(t-1)', 'var68(t-1)', 'var42(t-1)', 'var87(t-1)', 'var44(t-1)', 'var37(t-1)', 'var83(t-1)', 'var32(t-1)', 'var74(t-1)', 'var76(t-1)', 'var86(t-1)', 'var4(t-1)', 'var63(t-1)', 'var27(t-1)', 'var66(t-1)']]\n",
      "starting df shape: (87600, 47)\n",
      "This is training run 6 and has the shape:  (87600, 47)\n",
      "The value of dropped columns is 50\n"
     ]
    },
    {
     "name": "stderr",
     "output_type": "stream",
     "text": [
      "/Users/alexellard/opt/anaconda3/lib/python3.7/site-packages/xgboost/data.py:96: UserWarning: Use subset (sliced data) of np.ndarray is not recommended because it will generate extra copies and increase memory consumption\n",
      "  \"because it will generate extra copies and increase \" +\n"
     ]
    },
    {
     "name": "stdout",
     "output_type": "stream",
     "text": [
      "Run 6 Mean Absolute Error: 8.473956\n",
      "[['var48(t-1)', 'var94(t-1)', 'var75(t-1)', 'var45(t-1)', 'var57(t-1)', 'var73(t-1)', 'var61(t-1)', 'var23(t-1)', 'var69(t-1)', 'var18(t-1)', 'var21(t-1)', 'var36(t-1)', 'var41(t-1)', 'var40(t-1)', 'var13(t-1)', 'var22(t-1)', 'var32(t-1)', 'var89(t-1)', 'var79(t-1)', 'var77(t-1)', 'var62(t-1)', 'var3(t-1)', 'var66(t-1)', 'var65(t-1)', 'var20(t-1)', 'var95(t-1)', 'var26(t-1)', 'var1(t-1)', 'var12(t-1)', 'var76(t-1)', 'var70(t-1)', 'var16(t-1)', 'var50(t-1)', 'var90(t-1)', 'var14(t-1)', 'var85(t-1)', 'var43(t-1)', 'var53(t-1)', 'var31(t-1)', 'var9(t-1)', 'var10(t-1)', 'var24(t-1)', 'var58(t-1)', 'var15(t-1)', 'var27(t-1)', 'var49(t-1)', 'var92(t-1)', 'var93(t-1)', 'var28(t-1)', 'var68(t-1)']]\n",
      "starting df shape: (87600, 46)\n",
      "This is training run 7 and has the shape:  (87600, 46)\n",
      "The value of dropped columns is 50\n"
     ]
    },
    {
     "name": "stderr",
     "output_type": "stream",
     "text": [
      "/Users/alexellard/opt/anaconda3/lib/python3.7/site-packages/xgboost/data.py:96: UserWarning: Use subset (sliced data) of np.ndarray is not recommended because it will generate extra copies and increase memory consumption\n",
      "  \"because it will generate extra copies and increase \" +\n"
     ]
    },
    {
     "name": "stdout",
     "output_type": "stream",
     "text": [
      "Run 7 Mean Absolute Error: 4.818173\n",
      "[['var91(t-1)', 'var83(t-1)', 'var90(t-1)', 'var26(t-1)', 'var1(t-1)', 'var36(t-1)', 'var84(t-1)', 'var14(t-1)', 'var21(t-1)', 'var95(t-1)', 'var68(t-1)', 'var25(t-1)', 'var59(t-1)', 'var37(t-1)', 'var6(t-1)', 'var20(t-1)', 'var22(t-1)', 'var24(t-1)', 'var73(t-1)', 'var44(t-1)', 'var50(t-1)', 'var30(t-1)', 'var63(t-1)', 'var4(t-1)', 'var38(t-1)', 'var64(t-1)', 'var51(t-1)', 'var93(t-1)', 'var69(t-1)', 'var92(t-1)', 'var55(t-1)', 'var67(t-1)', 'var81(t-1)', 'var11(t-1)', 'var18(t-1)', 'var19(t-1)', 'var29(t-1)', 'var42(t-1)', 'var7(t-1)', 'var71(t-1)', 'var9(t-1)', 'var8(t-1)', 'var48(t-1)', 'var35(t-1)', 'var75(t-1)', 'var10(t-1)', 'var16(t-1)', 'var41(t-1)', 'var58(t-1)', 'var70(t-1)']]\n",
      "starting df shape: (87600, 46)\n",
      "This is training run 8 and has the shape:  (87600, 46)\n",
      "The value of dropped columns is 50\n"
     ]
    },
    {
     "name": "stderr",
     "output_type": "stream",
     "text": [
      "/Users/alexellard/opt/anaconda3/lib/python3.7/site-packages/xgboost/data.py:96: UserWarning: Use subset (sliced data) of np.ndarray is not recommended because it will generate extra copies and increase memory consumption\n",
      "  \"because it will generate extra copies and increase \" +\n"
     ]
    },
    {
     "name": "stdout",
     "output_type": "stream",
     "text": [
      "Run 8 Mean Absolute Error: 2.913225\n",
      "[['var6(t-1)', 'var28(t-1)', 'var30(t-1)', 'var26(t-1)', 'var57(t-1)', 'var81(t-1)', 'var63(t-1)', 'var22(t-1)', 'var73(t-1)', 'var43(t-1)', 'var40(t-1)', 'var78(t-1)', 'var29(t-1)', 'var88(t-1)', 'var50(t-1)', 'var11(t-1)', 'var38(t-1)', 'var90(t-1)', 'var92(t-1)', 'var49(t-1)', 'var93(t-1)', 'var60(t-1)', 'var7(t-1)', 'var5(t-1)', 'var70(t-1)', 'var79(t-1)', 'var82(t-1)', 'var12(t-1)', 'var95(t-1)', 'var65(t-1)', 'var61(t-1)', 'var48(t-1)', 'var15(t-1)', 'var47(t-1)', 'var51(t-1)', 'var84(t-1)', 'var9(t-1)', 'var62(t-1)', 'var44(t-1)', 'var41(t-1)', 'var35(t-1)', 'var75(t-1)', 'var3(t-1)', 'var52(t-1)', 'var4(t-1)', 'var23(t-1)', 'var68(t-1)', 'var87(t-1)', 'var10(t-1)', 'var58(t-1)']]\n",
      "starting df shape: (87600, 46)\n",
      "This is training run 9 and has the shape:  (87600, 46)\n",
      "The value of dropped columns is 50\n"
     ]
    },
    {
     "name": "stderr",
     "output_type": "stream",
     "text": [
      "/Users/alexellard/opt/anaconda3/lib/python3.7/site-packages/xgboost/data.py:96: UserWarning: Use subset (sliced data) of np.ndarray is not recommended because it will generate extra copies and increase memory consumption\n",
      "  \"because it will generate extra copies and increase \" +\n"
     ]
    },
    {
     "name": "stdout",
     "output_type": "stream",
     "text": [
      "Run 9 Mean Absolute Error: 78.38737\n",
      "[['var72(t-1)', 'var2(t-1)', 'var60(t-1)', 'var92(t-1)', 'var74(t-1)', 'var29(t-1)', 'var79(t-1)', 'var93(t-1)', 'var52(t-1)', 'var71(t-1)', 'var19(t-1)', 'var39(t-1)', 'var33(t-1)', 'var40(t-1)', 'var43(t-1)', 'var11(t-1)', 'var57(t-1)', 'var34(t-1)', 'var9(t-1)', 'var68(t-1)', 'var3(t-1)', 'var8(t-1)', 'var51(t-1)', 'var24(t-1)', 'var31(t-1)', 'var45(t-1)', 'var58(t-1)', 'var69(t-1)', 'var38(t-1)', 'var73(t-1)', 'var89(t-1)', 'var55(t-1)', 'var22(t-1)', 'var70(t-1)', 'var56(t-1)', 'var23(t-1)', 'var83(t-1)', 'var10(t-1)', 'var25(t-1)', 'var42(t-1)', 'var64(t-1)', 'var27(t-1)', 'var30(t-1)', 'var54(t-1)', 'var7(t-1)', 'var82(t-1)', 'var88(t-1)', 'var4(t-1)', 'var18(t-1)', 'var95(t-1)']]\n",
      "starting df shape: (87600, 46)\n",
      "This is training run 10 and has the shape:  (87600, 46)\n",
      "The value of dropped columns is 50\n"
     ]
    },
    {
     "name": "stderr",
     "output_type": "stream",
     "text": [
      "/Users/alexellard/opt/anaconda3/lib/python3.7/site-packages/xgboost/data.py:96: UserWarning: Use subset (sliced data) of np.ndarray is not recommended because it will generate extra copies and increase memory consumption\n",
      "  \"because it will generate extra copies and increase \" +\n"
     ]
    },
    {
     "name": "stdout",
     "output_type": "stream",
     "text": [
      "Run 10 Mean Absolute Error: 68.92977\n",
      "[['var92(t-1)', 'var77(t-1)', 'var67(t-1)', 'var89(t-1)', 'var21(t-1)', 'var76(t-1)', 'var74(t-1)', 'var20(t-1)', 'var48(t-1)', 'var12(t-1)', 'var58(t-1)', 'var10(t-1)', 'var73(t-1)', 'var57(t-1)', 'var23(t-1)', 'var66(t-1)', 'var36(t-1)', 'var87(t-1)', 'var63(t-1)', 'var83(t-1)', 'var43(t-1)', 'var46(t-1)', 'var60(t-1)', 'var18(t-1)', 'var1(t-1)', 'var8(t-1)', 'var11(t-1)', 'var94(t-1)', 'var88(t-1)', 'var30(t-1)', 'var78(t-1)', 'var80(t-1)', 'var59(t-1)', 'var29(t-1)', 'var75(t-1)', 'var79(t-1)', 'var4(t-1)', 'var85(t-1)', 'var41(t-1)', 'var42(t-1)', 'var70(t-1)', 'var91(t-1)', 'var82(t-1)', 'var65(t-1)', 'var56(t-1)', 'var16(t-1)', 'var9(t-1)', 'var34(t-1)', 'var38(t-1)', 'var5(t-1)', 'var53(t-1)', 'var7(t-1)', 'var50(t-1)', 'var52(t-1)']]\n",
      "starting df shape: (87600, 42)\n",
      "This is training run 1 and has the shape:  (87600, 42)\n",
      "The value of dropped columns is 55\n"
     ]
    },
    {
     "name": "stderr",
     "output_type": "stream",
     "text": [
      "/Users/alexellard/opt/anaconda3/lib/python3.7/site-packages/xgboost/data.py:96: UserWarning: Use subset (sliced data) of np.ndarray is not recommended because it will generate extra copies and increase memory consumption\n",
      "  \"because it will generate extra copies and increase \" +\n"
     ]
    },
    {
     "name": "stdout",
     "output_type": "stream",
     "text": [
      "Run 1 Mean Absolute Error: 10.040043\n",
      "[['var50(t-1)', 'var33(t-1)', 'var75(t-1)', 'var45(t-1)', 'var86(t-1)', 'var64(t-1)', 'var59(t-1)', 'var81(t-1)', 'var28(t-1)', 'var11(t-1)', 'var77(t-1)', 'var10(t-1)', 'var91(t-1)', 'var30(t-1)', 'var71(t-1)', 'var57(t-1)', 'var70(t-1)', 'var82(t-1)', 'var23(t-1)', 'var47(t-1)', 'var19(t-1)', 'var95(t-1)', 'var46(t-1)', 'var83(t-1)', 'var8(t-1)', 'var69(t-1)', 'var35(t-1)', 'var12(t-1)', 'var5(t-1)', 'var38(t-1)', 'var37(t-1)', 'var61(t-1)', 'var78(t-1)', 'var42(t-1)', 'var58(t-1)', 'var60(t-1)', 'var85(t-1)', 'var39(t-1)', 'var34(t-1)', 'var48(t-1)', 'var51(t-1)', 'var27(t-1)', 'var74(t-1)', 'var55(t-1)', 'var63(t-1)', 'var2(t-1)', 'var21(t-1)', 'var44(t-1)', 'var36(t-1)', 'var40(t-1)', 'var26(t-1)', 'var90(t-1)', 'var65(t-1)', 'var18(t-1)', 'var93(t-1)']]\n",
      "starting df shape: (87600, 41)\n",
      "This is training run 2 and has the shape:  (87600, 41)\n",
      "The value of dropped columns is 55\n"
     ]
    },
    {
     "name": "stderr",
     "output_type": "stream",
     "text": [
      "/Users/alexellard/opt/anaconda3/lib/python3.7/site-packages/xgboost/data.py:96: UserWarning: Use subset (sliced data) of np.ndarray is not recommended because it will generate extra copies and increase memory consumption\n",
      "  \"because it will generate extra copies and increase \" +\n"
     ]
    },
    {
     "name": "stdout",
     "output_type": "stream",
     "text": [
      "Run 2 Mean Absolute Error: 44.78787\n",
      "[['var60(t-1)', 'var5(t-1)', 'var8(t-1)', 'var32(t-1)', 'var78(t-1)', 'var15(t-1)', 'var90(t-1)', 'var30(t-1)', 'var24(t-1)', 'var72(t-1)', 'var7(t-1)', 'var25(t-1)', 'var3(t-1)', 'var46(t-1)', 'var93(t-1)', 'var54(t-1)', 'var21(t-1)', 'var18(t-1)', 'var62(t-1)', 'var51(t-1)', 'var4(t-1)', 'var82(t-1)', 'var50(t-1)', 'var34(t-1)', 'var65(t-1)', 'var9(t-1)', 'var59(t-1)', 'var68(t-1)', 'var77(t-1)', 'var96(t-1)', 'var11(t-1)', 'var33(t-1)', 'var39(t-1)', 'var83(t-1)', 'var31(t-1)', 'var86(t-1)', 'var55(t-1)', 'var84(t-1)', 'var64(t-1)', 'var13(t-1)', 'var35(t-1)', 'var42(t-1)', 'var53(t-1)', 'var74(t-1)', 'var6(t-1)', 'var91(t-1)', 'var36(t-1)', 'var61(t-1)', 'var12(t-1)', 'var10(t-1)', 'var27(t-1)', 'var76(t-1)', 'var73(t-1)', 'var80(t-1)']]\n",
      "starting df shape: (87600, 42)\n",
      "This is training run 3 and has the shape:  (87600, 42)\n",
      "The value of dropped columns is 55\n"
     ]
    },
    {
     "name": "stderr",
     "output_type": "stream",
     "text": [
      "/Users/alexellard/opt/anaconda3/lib/python3.7/site-packages/xgboost/data.py:96: UserWarning: Use subset (sliced data) of np.ndarray is not recommended because it will generate extra copies and increase memory consumption\n",
      "  \"because it will generate extra copies and increase \" +\n"
     ]
    },
    {
     "name": "stdout",
     "output_type": "stream",
     "text": [
      "Run 3 Mean Absolute Error: 128.36899\n",
      "[['var89(t-1)', 'var28(t-1)', 'var38(t-1)', 'var70(t-1)', 'var83(t-1)', 'var14(t-1)', 'var54(t-1)', 'var71(t-1)', 'var48(t-1)', 'var5(t-1)', 'var69(t-1)', 'var85(t-1)', 'var62(t-1)', 'var19(t-1)', 'var9(t-1)', 'var53(t-1)', 'var22(t-1)', 'var92(t-1)', 'var39(t-1)', 'var29(t-1)', 'var21(t-1)', 'var18(t-1)', 'var43(t-1)', 'var61(t-1)', 'var52(t-1)', 'var6(t-1)', 'var46(t-1)', 'var26(t-1)', 'var95(t-1)', 'var23(t-1)', 'var40(t-1)', 'var77(t-1)', 'var42(t-1)', 'var56(t-1)', 'var25(t-1)', 'var75(t-1)', 'var20(t-1)', 'var88(t-1)', 'var33(t-1)', 'var8(t-1)', 'var1(t-1)', 'var41(t-1)', 'var67(t-1)', 'var90(t-1)', 'var74(t-1)', 'var51(t-1)', 'var86(t-1)', 'var80(t-1)', 'var34(t-1)', 'var60(t-1)', 'var49(t-1)', 'var4(t-1)', 'var55(t-1)', 'var58(t-1)', 'var91(t-1)']]\n",
      "starting df shape: (87600, 41)\n",
      "This is training run 4 and has the shape:  (87600, 41)\n",
      "The value of dropped columns is 55\n"
     ]
    },
    {
     "name": "stderr",
     "output_type": "stream",
     "text": [
      "/Users/alexellard/opt/anaconda3/lib/python3.7/site-packages/xgboost/data.py:96: UserWarning: Use subset (sliced data) of np.ndarray is not recommended because it will generate extra copies and increase memory consumption\n",
      "  \"because it will generate extra copies and increase \" +\n"
     ]
    },
    {
     "name": "stdout",
     "output_type": "stream",
     "text": [
      "Run 4 Mean Absolute Error: 8.256\n",
      "[['var30(t-1)', 'var95(t-1)', 'var54(t-1)', 'var79(t-1)', 'var20(t-1)', 'var88(t-1)', 'var71(t-1)', 'var84(t-1)', 'var2(t-1)', 'var77(t-1)', 'var90(t-1)', 'var38(t-1)', 'var8(t-1)', 'var64(t-1)', 'var57(t-1)', 'var66(t-1)', 'var52(t-1)', 'var81(t-1)', 'var60(t-1)', 'var7(t-1)', 'var96(t-1)', 'var29(t-1)', 'var37(t-1)', 'var70(t-1)', 'var42(t-1)', 'var23(t-1)', 'var92(t-1)', 'var72(t-1)', 'var68(t-1)', 'var48(t-1)', 'var49(t-1)', 'var87(t-1)', 'var41(t-1)', 'var94(t-1)', 'var14(t-1)', 'var82(t-1)', 'var40(t-1)', 'var51(t-1)', 'var46(t-1)', 'var67(t-1)', 'var45(t-1)', 'var62(t-1)', 'var36(t-1)', 'var31(t-1)', 'var86(t-1)', 'var16(t-1)', 'var27(t-1)', 'var43(t-1)', 'var10(t-1)', 'var26(t-1)', 'var89(t-1)', 'var9(t-1)', 'var3(t-1)', 'var39(t-1)', 'var44(t-1)']]\n",
      "starting df shape: (87600, 41)\n",
      "This is training run 5 and has the shape:  (87600, 41)\n",
      "The value of dropped columns is 55\n"
     ]
    },
    {
     "name": "stderr",
     "output_type": "stream",
     "text": [
      "/Users/alexellard/opt/anaconda3/lib/python3.7/site-packages/xgboost/data.py:96: UserWarning: Use subset (sliced data) of np.ndarray is not recommended because it will generate extra copies and increase memory consumption\n",
      "  \"because it will generate extra copies and increase \" +\n"
     ]
    },
    {
     "name": "stdout",
     "output_type": "stream",
     "text": [
      "Run 5 Mean Absolute Error: 84.88575\n",
      "[['var61(t-1)', 'var26(t-1)', 'var28(t-1)', 'var43(t-1)', 'var19(t-1)', 'var5(t-1)', 'var52(t-1)', 'var91(t-1)', 'var11(t-1)', 'var48(t-1)', 'var46(t-1)', 'var59(t-1)', 'var3(t-1)', 'var93(t-1)', 'var70(t-1)', 'var22(t-1)', 'var24(t-1)', 'var20(t-1)', 'var27(t-1)', 'var18(t-1)', 'var36(t-1)', 'var44(t-1)', 'var56(t-1)', 'var7(t-1)', 'var54(t-1)', 'var58(t-1)', 'var84(t-1)', 'var71(t-1)', 'var74(t-1)', 'var6(t-1)', 'var82(t-1)', 'var75(t-1)', 'var90(t-1)', 'var30(t-1)', 'var68(t-1)', 'var87(t-1)', 'var32(t-1)', 'var89(t-1)', 'var33(t-1)', 'var41(t-1)', 'var85(t-1)', 'var50(t-1)', 'var34(t-1)', 'var45(t-1)', 'var66(t-1)', 'var31(t-1)', 'var23(t-1)', 'var47(t-1)', 'var14(t-1)', 'var73(t-1)', 'var86(t-1)', 'var53(t-1)', 'var49(t-1)', 'var62(t-1)']]\n",
      "starting df shape: (87600, 42)\n",
      "This is training run 6 and has the shape:  (87600, 42)\n",
      "The value of dropped columns is 55\n"
     ]
    },
    {
     "name": "stderr",
     "output_type": "stream",
     "text": [
      "/Users/alexellard/opt/anaconda3/lib/python3.7/site-packages/xgboost/data.py:96: UserWarning: Use subset (sliced data) of np.ndarray is not recommended because it will generate extra copies and increase memory consumption\n",
      "  \"because it will generate extra copies and increase \" +\n"
     ]
    },
    {
     "name": "stdout",
     "output_type": "stream",
     "text": [
      "Run 6 Mean Absolute Error: 43.796337\n",
      "[['var87(t-1)', 'var94(t-1)', 'var91(t-1)', 'var21(t-1)', 'var88(t-1)', 'var29(t-1)', 'var90(t-1)', 'var78(t-1)', 'var82(t-1)', 'var37(t-1)', 'var45(t-1)', 'var41(t-1)', 'var15(t-1)', 'var85(t-1)', 'var62(t-1)', 'var5(t-1)', 'var23(t-1)', 'var57(t-1)', 'var1(t-1)', 'var86(t-1)', 'var77(t-1)', 'var9(t-1)', 'var30(t-1)', 'var83(t-1)', 'var39(t-1)', 'var42(t-1)', 'var76(t-1)', 'var47(t-1)', 'var46(t-1)', 'var24(t-1)', 'var40(t-1)', 'var48(t-1)', 'var65(t-1)', 'var55(t-1)', 'var61(t-1)', 'var19(t-1)', 'var60(t-1)', 'var79(t-1)', 'var93(t-1)', 'var89(t-1)', 'var51(t-1)', 'var54(t-1)', 'var68(t-1)', 'var69(t-1)', 'var73(t-1)', 'var13(t-1)', 'var58(t-1)', 'var16(t-1)', 'var44(t-1)', 'var70(t-1)', 'var8(t-1)', 'var12(t-1)', 'var52(t-1)', 'var26(t-1)']]\n",
      "starting df shape: (87600, 42)\n",
      "This is training run 7 and has the shape:  (87600, 42)\n",
      "The value of dropped columns is 55\n"
     ]
    },
    {
     "name": "stderr",
     "output_type": "stream",
     "text": [
      "/Users/alexellard/opt/anaconda3/lib/python3.7/site-packages/xgboost/data.py:96: UserWarning: Use subset (sliced data) of np.ndarray is not recommended because it will generate extra copies and increase memory consumption\n",
      "  \"because it will generate extra copies and increase \" +\n"
     ]
    },
    {
     "name": "stdout",
     "output_type": "stream",
     "text": [
      "Run 7 Mean Absolute Error: 5.220373\n",
      "[['var86(t-1)', 'var58(t-1)', 'var85(t-1)', 'var25(t-1)', 'var81(t-1)', 'var57(t-1)', 'var31(t-1)', 'var77(t-1)', 'var23(t-1)', 'var76(t-1)', 'var24(t-1)', 'var74(t-1)', 'var9(t-1)', 'var4(t-1)', 'var50(t-1)', 'var55(t-1)', 'var5(t-1)', 'var52(t-1)', 'var14(t-1)', 'var30(t-1)', 'var71(t-1)', 'var18(t-1)', 'var43(t-1)', 'var12(t-1)', 'var51(t-1)', 'var89(t-1)', 'var42(t-1)', 'var20(t-1)', 'var6(t-1)', 'var61(t-1)', 'var10(t-1)', 'var46(t-1)', 'var72(t-1)', 'var73(t-1)', 'var54(t-1)', 'var69(t-1)', 'var91(t-1)', 'var29(t-1)', 'var62(t-1)', 'var34(t-1)', 'var35(t-1)', 'var45(t-1)', 'var37(t-1)', 'var28(t-1)', 'var64(t-1)', 'var47(t-1)', 'var92(t-1)', 'var63(t-1)', 'var32(t-1)', 'var49(t-1)', 'var27(t-1)', 'var33(t-1)', 'var75(t-1)', 'var36(t-1)', 'var3(t-1)']]\n",
      "starting df shape: (87600, 41)\n",
      "This is training run 8 and has the shape:  (87600, 41)\n",
      "The value of dropped columns is 55\n"
     ]
    },
    {
     "name": "stderr",
     "output_type": "stream",
     "text": [
      "/Users/alexellard/opt/anaconda3/lib/python3.7/site-packages/xgboost/data.py:96: UserWarning: Use subset (sliced data) of np.ndarray is not recommended because it will generate extra copies and increase memory consumption\n",
      "  \"because it will generate extra copies and increase \" +\n"
     ]
    },
    {
     "name": "stdout",
     "output_type": "stream",
     "text": [
      "Run 8 Mean Absolute Error: 47.00738\n",
      "[['var26(t-1)', 'var10(t-1)', 'var22(t-1)', 'var23(t-1)', 'var75(t-1)', 'var13(t-1)', 'var76(t-1)', 'var1(t-1)', 'var71(t-1)', 'var79(t-1)', 'var4(t-1)', 'var50(t-1)', 'var54(t-1)', 'var91(t-1)', 'var72(t-1)', 'var36(t-1)', 'var44(t-1)', 'var52(t-1)', 'var86(t-1)', 'var40(t-1)', 'var82(t-1)', 'var35(t-1)', 'var88(t-1)', 'var9(t-1)', 'var47(t-1)', 'var37(t-1)', 'var27(t-1)', 'var39(t-1)', 'var77(t-1)', 'var93(t-1)', 'var66(t-1)', 'var2(t-1)', 'var58(t-1)', 'var78(t-1)', 'var24(t-1)', 'var41(t-1)', 'var85(t-1)', 'var42(t-1)', 'var51(t-1)', 'var25(t-1)', 'var38(t-1)', 'var60(t-1)', 'var87(t-1)', 'var69(t-1)', 'var68(t-1)', 'var14(t-1)', 'var3(t-1)', 'var53(t-1)', 'var33(t-1)', 'var32(t-1)', 'var48(t-1)', 'var67(t-1)', 'var5(t-1)', 'var95(t-1)', 'var11(t-1)']]\n",
      "starting df shape: (87600, 41)\n",
      "This is training run 9 and has the shape:  (87600, 41)\n",
      "The value of dropped columns is 55\n"
     ]
    },
    {
     "name": "stderr",
     "output_type": "stream",
     "text": [
      "/Users/alexellard/opt/anaconda3/lib/python3.7/site-packages/xgboost/data.py:96: UserWarning: Use subset (sliced data) of np.ndarray is not recommended because it will generate extra copies and increase memory consumption\n",
      "  \"because it will generate extra copies and increase \" +\n"
     ]
    },
    {
     "name": "stdout",
     "output_type": "stream",
     "text": [
      "Run 9 Mean Absolute Error: 4.7196765\n",
      "[['var92(t-1)', 'var13(t-1)', 'var54(t-1)', 'var24(t-1)', 'var88(t-1)', 'var82(t-1)', 'var2(t-1)', 'var33(t-1)', 'var11(t-1)', 'var16(t-1)', 'var78(t-1)', 'var66(t-1)', 'var30(t-1)', 'var19(t-1)', 'var3(t-1)', 'var62(t-1)', 'var76(t-1)', 'var26(t-1)', 'var70(t-1)', 'var7(t-1)', 'var5(t-1)', 'var95(t-1)', 'var37(t-1)', 'var40(t-1)', 'var93(t-1)', 'var51(t-1)', 'var48(t-1)', 'var10(t-1)', 'var75(t-1)', 'var1(t-1)', 'var41(t-1)', 'var61(t-1)', 'var22(t-1)', 'var72(t-1)', 'var43(t-1)', 'var25(t-1)', 'var38(t-1)', 'var36(t-1)', 'var86(t-1)', 'var85(t-1)', 'var83(t-1)', 'var96(t-1)', 'var67(t-1)', 'var8(t-1)', 'var71(t-1)', 'var52(t-1)', 'var69(t-1)', 'var34(t-1)', 'var47(t-1)', 'var73(t-1)', 'var42(t-1)', 'var39(t-1)', 'var59(t-1)', 'var77(t-1)', 'var45(t-1)']]\n",
      "starting df shape: (87600, 41)\n",
      "This is training run 10 and has the shape:  (87600, 41)\n",
      "The value of dropped columns is 55\n"
     ]
    },
    {
     "name": "stderr",
     "output_type": "stream",
     "text": [
      "/Users/alexellard/opt/anaconda3/lib/python3.7/site-packages/xgboost/data.py:96: UserWarning: Use subset (sliced data) of np.ndarray is not recommended because it will generate extra copies and increase memory consumption\n",
      "  \"because it will generate extra copies and increase \" +\n"
     ]
    },
    {
     "name": "stdout",
     "output_type": "stream",
     "text": [
      "Run 10 Mean Absolute Error: 0.37195453\n",
      "[['var86(t-1)', 'var95(t-1)', 'var19(t-1)', 'var79(t-1)', 'var75(t-1)', 'var4(t-1)', 'var80(t-1)', 'var38(t-1)', 'var66(t-1)', 'var31(t-1)', 'var91(t-1)', 'var72(t-1)', 'var51(t-1)', 'var73(t-1)', 'var23(t-1)', 'var45(t-1)', 'var15(t-1)', 'var11(t-1)', 'var46(t-1)', 'var82(t-1)', 'var25(t-1)', 'var21(t-1)', 'var42(t-1)', 'var90(t-1)', 'var64(t-1)', 'var7(t-1)', 'var74(t-1)', 'var55(t-1)', 'var18(t-1)', 'var61(t-1)', 'var68(t-1)', 'var13(t-1)', 'var2(t-1)', 'var50(t-1)', 'var16(t-1)', 'var69(t-1)', 'var29(t-1)', 'var92(t-1)', 'var37(t-1)', 'var88(t-1)', 'var32(t-1)', 'var14(t-1)', 'var34(t-1)', 'var52(t-1)', 'var48(t-1)', 'var54(t-1)', 'var83(t-1)', 'var93(t-1)', 'var40(t-1)', 'var71(t-1)', 'var70(t-1)', 'var84(t-1)', 'var44(t-1)', 'var3(t-1)', 'var89(t-1)', 'var65(t-1)', 'var33(t-1)', 'var58(t-1)', 'var67(t-1)']]\n",
      "starting df shape: (87600, 37)\n",
      "This is training run 1 and has the shape:  (87600, 37)\n",
      "The value of dropped columns is 60\n"
     ]
    },
    {
     "name": "stderr",
     "output_type": "stream",
     "text": [
      "/Users/alexellard/opt/anaconda3/lib/python3.7/site-packages/xgboost/data.py:96: UserWarning: Use subset (sliced data) of np.ndarray is not recommended because it will generate extra copies and increase memory consumption\n",
      "  \"because it will generate extra copies and increase \" +\n"
     ]
    },
    {
     "name": "stdout",
     "output_type": "stream",
     "text": [
      "Run 1 Mean Absolute Error: 163.31604\n",
      "[['var19(t-1)', 'var51(t-1)', 'var31(t-1)', 'var46(t-1)', 'var6(t-1)', 'var39(t-1)', 'var73(t-1)', 'var85(t-1)', 'var14(t-1)', 'var88(t-1)', 'var78(t-1)', 'var47(t-1)', 'var76(t-1)', 'var69(t-1)', 'var89(t-1)', 'var80(t-1)', 'var55(t-1)', 'var93(t-1)', 'var81(t-1)', 'var15(t-1)', 'var59(t-1)', 'var41(t-1)', 'var50(t-1)', 'var5(t-1)', 'var28(t-1)', 'var68(t-1)', 'var36(t-1)', 'var13(t-1)', 'var54(t-1)', 'var52(t-1)', 'var7(t-1)', 'var44(t-1)', 'var16(t-1)', 'var96(t-1)', 'var9(t-1)', 'var24(t-1)', 'var82(t-1)', 'var33(t-1)', 'var83(t-1)', 'var34(t-1)', 'var10(t-1)', 'var25(t-1)', 'var23(t-1)', 'var74(t-1)', 'var20(t-1)', 'var27(t-1)', 'var91(t-1)', 'var21(t-1)', 'var79(t-1)', 'var66(t-1)', 'var95(t-1)', 'var71(t-1)', 'var70(t-1)', 'var26(t-1)', 'var87(t-1)', 'var37(t-1)', 'var35(t-1)', 'var65(t-1)', 'var86(t-1)']]\n",
      "starting df shape: (87600, 37)\n",
      "This is training run 2 and has the shape:  (87600, 37)\n",
      "The value of dropped columns is 60\n"
     ]
    },
    {
     "name": "stderr",
     "output_type": "stream",
     "text": [
      "/Users/alexellard/opt/anaconda3/lib/python3.7/site-packages/xgboost/data.py:96: UserWarning: Use subset (sliced data) of np.ndarray is not recommended because it will generate extra copies and increase memory consumption\n",
      "  \"because it will generate extra copies and increase \" +\n"
     ]
    },
    {
     "name": "stdout",
     "output_type": "stream",
     "text": [
      "Run 2 Mean Absolute Error: 155.54839\n",
      "[['var71(t-1)', 'var83(t-1)', 'var66(t-1)', 'var47(t-1)', 'var49(t-1)', 'var7(t-1)', 'var88(t-1)', 'var60(t-1)', 'var16(t-1)', 'var95(t-1)', 'var36(t-1)', 'var54(t-1)', 'var81(t-1)', 'var26(t-1)', 'var28(t-1)', 'var72(t-1)', 'var82(t-1)', 'var55(t-1)', 'var68(t-1)', 'var58(t-1)', 'var3(t-1)', 'var51(t-1)', 'var67(t-1)', 'var15(t-1)', 'var5(t-1)', 'var94(t-1)', 'var29(t-1)', 'var74(t-1)', 'var91(t-1)', 'var6(t-1)', 'var14(t-1)', 'var48(t-1)', 'var53(t-1)', 'var32(t-1)', 'var69(t-1)', 'var33(t-1)', 'var46(t-1)', 'var41(t-1)', 'var19(t-1)', 'var57(t-1)', 'var89(t-1)', 'var42(t-1)', 'var20(t-1)', 'var35(t-1)', 'var34(t-1)', 'var44(t-1)', 'var50(t-1)', 'var21(t-1)', 'var84(t-1)', 'var11(t-1)', 'var18(t-1)', 'var62(t-1)', 'var8(t-1)', 'var31(t-1)', 'var52(t-1)', 'var64(t-1)', 'var27(t-1)', 'var79(t-1)', 'var37(t-1)']]\n",
      "starting df shape: (87600, 37)\n",
      "This is training run 3 and has the shape:  (87600, 37)\n",
      "The value of dropped columns is 60\n"
     ]
    },
    {
     "name": "stderr",
     "output_type": "stream",
     "text": [
      "/Users/alexellard/opt/anaconda3/lib/python3.7/site-packages/xgboost/data.py:96: UserWarning: Use subset (sliced data) of np.ndarray is not recommended because it will generate extra copies and increase memory consumption\n",
      "  \"because it will generate extra copies and increase \" +\n"
     ]
    },
    {
     "name": "stdout",
     "output_type": "stream",
     "text": [
      "Run 3 Mean Absolute Error: 84.51582\n",
      "[['var68(t-1)', 'var57(t-1)', 'var95(t-1)', 'var24(t-1)', 'var93(t-1)', 'var16(t-1)', 'var88(t-1)', 'var3(t-1)', 'var23(t-1)', 'var10(t-1)', 'var85(t-1)', 'var69(t-1)', 'var12(t-1)', 'var1(t-1)', 'var70(t-1)', 'var84(t-1)', 'var55(t-1)', 'var46(t-1)', 'var92(t-1)', 'var53(t-1)', 'var47(t-1)', 'var67(t-1)', 'var13(t-1)', 'var79(t-1)', 'var49(t-1)', 'var25(t-1)', 'var2(t-1)', 'var65(t-1)', 'var11(t-1)', 'var20(t-1)', 'var91(t-1)', 'var8(t-1)', 'var83(t-1)', 'var63(t-1)', 'var5(t-1)', 'var73(t-1)', 'var81(t-1)', 'var36(t-1)', 'var42(t-1)', 'var77(t-1)', 'var58(t-1)', 'var66(t-1)', 'var50(t-1)', 'var64(t-1)', 'var60(t-1)', 'var62(t-1)', 'var56(t-1)', 'var72(t-1)', 'var82(t-1)', 'var51(t-1)', 'var29(t-1)', 'var27(t-1)', 'var38(t-1)', 'var71(t-1)', 'var96(t-1)', 'var75(t-1)', 'var52(t-1)', 'var15(t-1)', 'var87(t-1)']]\n",
      "starting df shape: (87600, 37)\n",
      "This is training run 4 and has the shape:  (87600, 37)\n",
      "The value of dropped columns is 60\n"
     ]
    },
    {
     "name": "stderr",
     "output_type": "stream",
     "text": [
      "/Users/alexellard/opt/anaconda3/lib/python3.7/site-packages/xgboost/data.py:96: UserWarning: Use subset (sliced data) of np.ndarray is not recommended because it will generate extra copies and increase memory consumption\n",
      "  \"because it will generate extra copies and increase \" +\n"
     ]
    },
    {
     "name": "stdout",
     "output_type": "stream",
     "text": [
      "Run 4 Mean Absolute Error: 0.7410659\n",
      "[['var23(t-1)', 'var42(t-1)', 'var66(t-1)', 'var20(t-1)', 'var47(t-1)', 'var40(t-1)', 'var6(t-1)', 'var18(t-1)', 'var78(t-1)', 'var43(t-1)', 'var69(t-1)', 'var84(t-1)', 'var73(t-1)', 'var81(t-1)', 'var92(t-1)', 'var37(t-1)', 'var76(t-1)', 'var93(t-1)', 'var21(t-1)', 'var52(t-1)', 'var27(t-1)', 'var22(t-1)', 'var96(t-1)', 'var71(t-1)', 'var58(t-1)', 'var87(t-1)', 'var85(t-1)', 'var16(t-1)', 'var35(t-1)', 'var88(t-1)', 'var61(t-1)', 'var55(t-1)', 'var10(t-1)', 'var45(t-1)', 'var51(t-1)', 'var39(t-1)', 'var33(t-1)', 'var59(t-1)', 'var8(t-1)', 'var13(t-1)', 'var19(t-1)', 'var34(t-1)', 'var70(t-1)', 'var28(t-1)', 'var65(t-1)', 'var68(t-1)', 'var64(t-1)', 'var7(t-1)', 'var15(t-1)', 'var79(t-1)', 'var75(t-1)', 'var26(t-1)', 'var30(t-1)', 'var94(t-1)', 'var5(t-1)', 'var63(t-1)', 'var86(t-1)', 'var56(t-1)', 'var53(t-1)']]\n",
      "starting df shape: (87600, 37)\n",
      "This is training run 5 and has the shape:  (87600, 37)\n",
      "The value of dropped columns is 60\n"
     ]
    },
    {
     "name": "stderr",
     "output_type": "stream",
     "text": [
      "/Users/alexellard/opt/anaconda3/lib/python3.7/site-packages/xgboost/data.py:96: UserWarning: Use subset (sliced data) of np.ndarray is not recommended because it will generate extra copies and increase memory consumption\n",
      "  \"because it will generate extra copies and increase \" +\n"
     ]
    },
    {
     "name": "stdout",
     "output_type": "stream",
     "text": [
      "Run 5 Mean Absolute Error: 84.814735\n",
      "[['var75(t-1)', 'var48(t-1)', 'var92(t-1)', 'var49(t-1)', 'var32(t-1)', 'var83(t-1)', 'var8(t-1)', 'var46(t-1)', 'var16(t-1)', 'var52(t-1)', 'var61(t-1)', 'var94(t-1)', 'var93(t-1)', 'var76(t-1)', 'var54(t-1)', 'var44(t-1)', 'var68(t-1)', 'var56(t-1)', 'var78(t-1)', 'var74(t-1)', 'var95(t-1)', 'var77(t-1)', 'var12(t-1)', 'var53(t-1)', 'var84(t-1)', 'var1(t-1)', 'var28(t-1)', 'var47(t-1)', 'var19(t-1)', 'var41(t-1)', 'var7(t-1)', 'var3(t-1)', 'var15(t-1)', 'var67(t-1)', 'var63(t-1)', 'var11(t-1)', 'var37(t-1)', 'var96(t-1)', 'var10(t-1)', 'var65(t-1)', 'var13(t-1)', 'var57(t-1)', 'var62(t-1)', 'var88(t-1)', 'var60(t-1)', 'var22(t-1)', 'var31(t-1)', 'var34(t-1)', 'var26(t-1)', 'var72(t-1)', 'var59(t-1)', 'var70(t-1)', 'var73(t-1)', 'var42(t-1)', 'var4(t-1)', 'var81(t-1)', 'var39(t-1)', 'var90(t-1)', 'var58(t-1)']]\n",
      "starting df shape: (87600, 37)\n",
      "This is training run 6 and has the shape:  (87600, 37)\n",
      "The value of dropped columns is 60\n"
     ]
    },
    {
     "name": "stderr",
     "output_type": "stream",
     "text": [
      "/Users/alexellard/opt/anaconda3/lib/python3.7/site-packages/xgboost/data.py:96: UserWarning: Use subset (sliced data) of np.ndarray is not recommended because it will generate extra copies and increase memory consumption\n",
      "  \"because it will generate extra copies and increase \" +\n"
     ]
    },
    {
     "name": "stdout",
     "output_type": "stream",
     "text": [
      "Run 6 Mean Absolute Error: 2.9617944\n",
      "[['var66(t-1)', 'var65(t-1)', 'var25(t-1)', 'var41(t-1)', 'var55(t-1)', 'var47(t-1)', 'var84(t-1)', 'var91(t-1)', 'var57(t-1)', 'var19(t-1)', 'var89(t-1)', 'var73(t-1)', 'var86(t-1)', 'var72(t-1)', 'var6(t-1)', 'var48(t-1)', 'var27(t-1)', 'var52(t-1)', 'var78(t-1)', 'var82(t-1)', 'var53(t-1)', 'var7(t-1)', 'var18(t-1)', 'var90(t-1)', 'var15(t-1)', 'var75(t-1)', 'var37(t-1)', 'var23(t-1)', 'var10(t-1)', 'var76(t-1)', 'var83(t-1)', 'var9(t-1)', 'var58(t-1)', 'var35(t-1)', 'var54(t-1)', 'var44(t-1)', 'var21(t-1)', 'var56(t-1)', 'var38(t-1)', 'var8(t-1)', 'var80(t-1)', 'var1(t-1)', 'var67(t-1)', 'var2(t-1)', 'var45(t-1)', 'var95(t-1)', 'var33(t-1)', 'var85(t-1)', 'var22(t-1)', 'var40(t-1)', 'var30(t-1)', 'var70(t-1)', 'var62(t-1)', 'var14(t-1)', 'var46(t-1)', 'var96(t-1)', 'var11(t-1)', 'var81(t-1)', 'var63(t-1)']]\n",
      "starting df shape: (87600, 37)\n",
      "This is training run 7 and has the shape:  (87600, 37)\n",
      "The value of dropped columns is 60\n"
     ]
    },
    {
     "name": "stderr",
     "output_type": "stream",
     "text": [
      "/Users/alexellard/opt/anaconda3/lib/python3.7/site-packages/xgboost/data.py:96: UserWarning: Use subset (sliced data) of np.ndarray is not recommended because it will generate extra copies and increase memory consumption\n",
      "  \"because it will generate extra copies and increase \" +\n"
     ]
    },
    {
     "name": "stdout",
     "output_type": "stream",
     "text": [
      "Run 7 Mean Absolute Error: 6.9598703\n",
      "[['var39(t-1)', 'var90(t-1)', 'var29(t-1)', 'var8(t-1)', 'var71(t-1)', 'var88(t-1)', 'var14(t-1)', 'var59(t-1)', 'var72(t-1)', 'var38(t-1)', 'var66(t-1)', 'var47(t-1)', 'var57(t-1)', 'var75(t-1)', 'var7(t-1)', 'var54(t-1)', 'var27(t-1)', 'var51(t-1)', 'var23(t-1)', 'var3(t-1)', 'var5(t-1)', 'var2(t-1)', 'var50(t-1)', 'var18(t-1)', 'var26(t-1)', 'var77(t-1)', 'var83(t-1)', 'var53(t-1)', 'var73(t-1)', 'var79(t-1)', 'var68(t-1)', 'var20(t-1)', 'var9(t-1)', 'var12(t-1)', 'var60(t-1)', 'var85(t-1)', 'var4(t-1)', 'var33(t-1)', 'var21(t-1)', 'var41(t-1)', 'var91(t-1)', 'var36(t-1)', 'var82(t-1)', 'var92(t-1)', 'var10(t-1)', 'var40(t-1)', 'var95(t-1)', 'var1(t-1)', 'var70(t-1)', 'var78(t-1)', 'var65(t-1)', 'var48(t-1)', 'var86(t-1)', 'var81(t-1)', 'var24(t-1)', 'var34(t-1)', 'var32(t-1)', 'var31(t-1)', 'var84(t-1)', 'var52(t-1)']]\n",
      "starting df shape: (87600, 36)\n",
      "This is training run 8 and has the shape:  (87600, 36)\n",
      "The value of dropped columns is 60\n"
     ]
    },
    {
     "name": "stderr",
     "output_type": "stream",
     "text": [
      "/Users/alexellard/opt/anaconda3/lib/python3.7/site-packages/xgboost/data.py:96: UserWarning: Use subset (sliced data) of np.ndarray is not recommended because it will generate extra copies and increase memory consumption\n",
      "  \"because it will generate extra copies and increase \" +\n"
     ]
    },
    {
     "name": "stdout",
     "output_type": "stream",
     "text": [
      "Run 8 Mean Absolute Error: 5.0650253\n",
      "[['var1(t-1)', 'var36(t-1)', 'var8(t-1)', 'var53(t-1)', 'var65(t-1)', 'var60(t-1)', 'var89(t-1)', 'var7(t-1)', 'var38(t-1)', 'var80(t-1)', 'var50(t-1)', 'var46(t-1)', 'var33(t-1)', 'var86(t-1)', 'var11(t-1)', 'var25(t-1)', 'var22(t-1)', 'var24(t-1)', 'var23(t-1)', 'var9(t-1)', 'var32(t-1)', 'var51(t-1)', 'var27(t-1)', 'var49(t-1)', 'var55(t-1)', 'var40(t-1)', 'var42(t-1)', 'var31(t-1)', 'var72(t-1)', 'var45(t-1)', 'var73(t-1)', 'var90(t-1)', 'var78(t-1)', 'var13(t-1)', 'var29(t-1)', 'var74(t-1)', 'var68(t-1)', 'var34(t-1)', 'var56(t-1)', 'var64(t-1)', 'var16(t-1)', 'var91(t-1)', 'var21(t-1)', 'var4(t-1)', 'var37(t-1)', 'var5(t-1)', 'var81(t-1)', 'var92(t-1)', 'var79(t-1)', 'var14(t-1)', 'var82(t-1)', 'var41(t-1)', 'var84(t-1)', 'var48(t-1)', 'var62(t-1)', 'var94(t-1)', 'var93(t-1)', 'var6(t-1)', 'var85(t-1)']]\n",
      "starting df shape: (87600, 37)\n",
      "This is training run 9 and has the shape:  (87600, 37)\n",
      "The value of dropped columns is 60\n"
     ]
    },
    {
     "name": "stderr",
     "output_type": "stream",
     "text": [
      "/Users/alexellard/opt/anaconda3/lib/python3.7/site-packages/xgboost/data.py:96: UserWarning: Use subset (sliced data) of np.ndarray is not recommended because it will generate extra copies and increase memory consumption\n",
      "  \"because it will generate extra copies and increase \" +\n"
     ]
    },
    {
     "name": "stdout",
     "output_type": "stream",
     "text": [
      "Run 9 Mean Absolute Error: 10.955135\n",
      "[['var55(t-1)', 'var47(t-1)', 'var95(t-1)', 'var69(t-1)', 'var51(t-1)', 'var40(t-1)', 'var25(t-1)', 'var73(t-1)', 'var8(t-1)', 'var78(t-1)', 'var1(t-1)', 'var41(t-1)', 'var34(t-1)', 'var77(t-1)', 'var94(t-1)', 'var16(t-1)', 'var12(t-1)', 'var49(t-1)', 'var56(t-1)', 'var32(t-1)', 'var96(t-1)', 'var3(t-1)', 'var26(t-1)', 'var44(t-1)', 'var83(t-1)', 'var93(t-1)', 'var39(t-1)', 'var86(t-1)', 'var53(t-1)', 'var90(t-1)', 'var45(t-1)', 'var62(t-1)', 'var18(t-1)', 'var13(t-1)', 'var63(t-1)', 'var72(t-1)', 'var19(t-1)', 'var20(t-1)', 'var71(t-1)', 'var2(t-1)', 'var9(t-1)', 'var75(t-1)', 'var82(t-1)', 'var54(t-1)', 'var74(t-1)', 'var36(t-1)', 'var64(t-1)', 'var46(t-1)', 'var6(t-1)', 'var7(t-1)', 'var29(t-1)', 'var60(t-1)', 'var65(t-1)', 'var37(t-1)', 'var87(t-1)', 'var88(t-1)', 'var59(t-1)', 'var33(t-1)', 'var31(t-1)']]\n",
      "starting df shape: (87600, 37)\n",
      "This is training run 10 and has the shape:  (87600, 37)\n",
      "The value of dropped columns is 60\n"
     ]
    },
    {
     "name": "stderr",
     "output_type": "stream",
     "text": [
      "/Users/alexellard/opt/anaconda3/lib/python3.7/site-packages/xgboost/data.py:96: UserWarning: Use subset (sliced data) of np.ndarray is not recommended because it will generate extra copies and increase memory consumption\n",
      "  \"because it will generate extra copies and increase \" +\n"
     ]
    },
    {
     "name": "stdout",
     "output_type": "stream",
     "text": [
      "Run 10 Mean Absolute Error: 0.41504446\n",
      "[['var32(t-1)', 'var33(t-1)', 'var88(t-1)', 'var91(t-1)', 'var89(t-1)', 'var18(t-1)', 'var85(t-1)', 'var19(t-1)', 'var73(t-1)', 'var55(t-1)', 'var78(t-1)', 'var13(t-1)', 'var20(t-1)', 'var71(t-1)', 'var35(t-1)', 'var49(t-1)', 'var37(t-1)', 'var80(t-1)', 'var9(t-1)', 'var62(t-1)', 'var12(t-1)', 'var16(t-1)', 'var81(t-1)', 'var50(t-1)', 'var93(t-1)', 'var96(t-1)', 'var69(t-1)', 'var43(t-1)', 'var7(t-1)', 'var22(t-1)', 'var48(t-1)', 'var26(t-1)', 'var86(t-1)', 'var36(t-1)', 'var65(t-1)', 'var94(t-1)', 'var21(t-1)', 'var46(t-1)', 'var39(t-1)', 'var60(t-1)', 'var79(t-1)', 'var1(t-1)', 'var77(t-1)', 'var23(t-1)', 'var45(t-1)', 'var47(t-1)', 'var56(t-1)', 'var68(t-1)', 'var8(t-1)', 'var57(t-1)', 'var42(t-1)', 'var75(t-1)', 'var61(t-1)', 'var15(t-1)', 'var90(t-1)', 'var30(t-1)', 'var40(t-1)', 'var31(t-1)', 'var54(t-1)', 'var64(t-1)', 'var63(t-1)', 'var87(t-1)', 'var83(t-1)', 'var76(t-1)']]\n",
      "starting df shape: (87600, 32)\n",
      "This is training run 1 and has the shape:  (87600, 32)\n",
      "The value of dropped columns is 65\n"
     ]
    },
    {
     "name": "stderr",
     "output_type": "stream",
     "text": [
      "/Users/alexellard/opt/anaconda3/lib/python3.7/site-packages/xgboost/data.py:96: UserWarning: Use subset (sliced data) of np.ndarray is not recommended because it will generate extra copies and increase memory consumption\n",
      "  \"because it will generate extra copies and increase \" +\n"
     ]
    },
    {
     "name": "stdout",
     "output_type": "stream",
     "text": [
      "Run 1 Mean Absolute Error: 11.237361\n",
      "[['var87(t-1)', 'var76(t-1)', 'var14(t-1)', 'var49(t-1)', 'var42(t-1)', 'var36(t-1)', 'var30(t-1)', 'var41(t-1)', 'var33(t-1)', 'var91(t-1)', 'var80(t-1)', 'var62(t-1)', 'var45(t-1)', 'var47(t-1)', 'var58(t-1)', 'var29(t-1)', 'var18(t-1)', 'var79(t-1)', 'var34(t-1)', 'var39(t-1)', 'var67(t-1)', 'var31(t-1)', 'var9(t-1)', 'var57(t-1)', 'var73(t-1)', 'var54(t-1)', 'var75(t-1)', 'var90(t-1)', 'var24(t-1)', 'var8(t-1)', 'var96(t-1)', 'var77(t-1)', 'var81(t-1)', 'var11(t-1)', 'var35(t-1)', 'var95(t-1)', 'var53(t-1)', 'var52(t-1)', 'var72(t-1)', 'var19(t-1)', 'var92(t-1)', 'var22(t-1)', 'var84(t-1)', 'var44(t-1)', 'var43(t-1)', 'var1(t-1)', 'var85(t-1)', 'var27(t-1)', 'var28(t-1)', 'var13(t-1)', 'var21(t-1)', 'var74(t-1)', 'var25(t-1)', 'var83(t-1)', 'var68(t-1)', 'var70(t-1)', 'var64(t-1)', 'var50(t-1)', 'var10(t-1)', 'var40(t-1)', 'var60(t-1)', 'var2(t-1)', 'var66(t-1)', 'var37(t-1)']]\n",
      "starting df shape: (87600, 32)\n",
      "This is training run 2 and has the shape:  (87600, 32)\n",
      "The value of dropped columns is 65\n"
     ]
    },
    {
     "name": "stderr",
     "output_type": "stream",
     "text": [
      "/Users/alexellard/opt/anaconda3/lib/python3.7/site-packages/xgboost/data.py:96: UserWarning: Use subset (sliced data) of np.ndarray is not recommended because it will generate extra copies and increase memory consumption\n",
      "  \"because it will generate extra copies and increase \" +\n"
     ]
    },
    {
     "name": "stdout",
     "output_type": "stream",
     "text": [
      "Run 2 Mean Absolute Error: 8.963396\n",
      "[['var61(t-1)', 'var71(t-1)', 'var55(t-1)', 'var51(t-1)', 'var23(t-1)', 'var67(t-1)', 'var19(t-1)', 'var37(t-1)', 'var1(t-1)', 'var54(t-1)', 'var80(t-1)', 'var7(t-1)', 'var9(t-1)', 'var69(t-1)', 'var78(t-1)', 'var86(t-1)', 'var45(t-1)', 'var43(t-1)', 'var85(t-1)', 'var60(t-1)', 'var48(t-1)', 'var36(t-1)', 'var21(t-1)', 'var70(t-1)', 'var96(t-1)', 'var94(t-1)', 'var76(t-1)', 'var12(t-1)', 'var27(t-1)', 'var68(t-1)', 'var24(t-1)', 'var5(t-1)', 'var14(t-1)', 'var6(t-1)', 'var63(t-1)', 'var2(t-1)', 'var53(t-1)', 'var90(t-1)', 'var44(t-1)', 'var82(t-1)', 'var62(t-1)', 'var81(t-1)', 'var40(t-1)', 'var25(t-1)', 'var64(t-1)', 'var91(t-1)', 'var35(t-1)', 'var4(t-1)', 'var93(t-1)', 'var75(t-1)', 'var34(t-1)', 'var52(t-1)', 'var3(t-1)', 'var32(t-1)', 'var26(t-1)', 'var92(t-1)', 'var42(t-1)', 'var22(t-1)', 'var89(t-1)', 'var20(t-1)', 'var88(t-1)', 'var59(t-1)', 'var79(t-1)', 'var46(t-1)']]\n",
      "starting df shape: (87600, 32)\n",
      "This is training run 3 and has the shape:  (87600, 32)\n",
      "The value of dropped columns is 65\n"
     ]
    },
    {
     "name": "stderr",
     "output_type": "stream",
     "text": [
      "/Users/alexellard/opt/anaconda3/lib/python3.7/site-packages/xgboost/data.py:96: UserWarning: Use subset (sliced data) of np.ndarray is not recommended because it will generate extra copies and increase memory consumption\n",
      "  \"because it will generate extra copies and increase \" +\n"
     ]
    },
    {
     "name": "stdout",
     "output_type": "stream",
     "text": [
      "Run 3 Mean Absolute Error: 5.7572784\n",
      "[['var29(t-1)', 'var54(t-1)', 'var45(t-1)', 'var59(t-1)', 'var48(t-1)', 'var77(t-1)', 'var25(t-1)', 'var4(t-1)', 'var71(t-1)', 'var20(t-1)', 'var65(t-1)', 'var57(t-1)', 'var87(t-1)', 'var95(t-1)', 'var52(t-1)', 'var18(t-1)', 'var41(t-1)', 'var91(t-1)', 'var49(t-1)', 'var84(t-1)', 'var60(t-1)', 'var39(t-1)', 'var55(t-1)', 'var3(t-1)', 'var43(t-1)', 'var75(t-1)', 'var46(t-1)', 'var83(t-1)', 'var50(t-1)', 'var6(t-1)', 'var86(t-1)', 'var14(t-1)', 'var36(t-1)', 'var27(t-1)', 'var53(t-1)', 'var12(t-1)', 'var37(t-1)', 'var66(t-1)', 'var40(t-1)', 'var89(t-1)', 'var70(t-1)', 'var47(t-1)', 'var63(t-1)', 'var22(t-1)', 'var64(t-1)', 'var16(t-1)', 'var76(t-1)', 'var7(t-1)', 'var82(t-1)', 'var73(t-1)', 'var51(t-1)', 'var11(t-1)', 'var78(t-1)', 'var92(t-1)', 'var8(t-1)', 'var90(t-1)', 'var56(t-1)', 'var44(t-1)', 'var9(t-1)', 'var80(t-1)', 'var34(t-1)', 'var5(t-1)', 'var35(t-1)', 'var61(t-1)']]\n",
      "starting df shape: (87600, 32)\n",
      "This is training run 4 and has the shape:  (87600, 32)\n",
      "The value of dropped columns is 65\n"
     ]
    },
    {
     "name": "stderr",
     "output_type": "stream",
     "text": [
      "/Users/alexellard/opt/anaconda3/lib/python3.7/site-packages/xgboost/data.py:96: UserWarning: Use subset (sliced data) of np.ndarray is not recommended because it will generate extra copies and increase memory consumption\n",
      "  \"because it will generate extra copies and increase \" +\n"
     ]
    },
    {
     "name": "stdout",
     "output_type": "stream",
     "text": [
      "Run 4 Mean Absolute Error: 136.37752\n",
      "[['var43(t-1)', 'var10(t-1)', 'var6(t-1)', 'var35(t-1)', 'var81(t-1)', 'var96(t-1)', 'var76(t-1)', 'var59(t-1)', 'var65(t-1)', 'var69(t-1)', 'var41(t-1)', 'var48(t-1)', 'var2(t-1)', 'var18(t-1)', 'var1(t-1)', 'var54(t-1)', 'var26(t-1)', 'var36(t-1)', 'var14(t-1)', 'var77(t-1)', 'var62(t-1)', 'var55(t-1)', 'var23(t-1)', 'var67(t-1)', 'var19(t-1)', 'var25(t-1)', 'var32(t-1)', 'var39(t-1)', 'var89(t-1)', 'var22(t-1)', 'var57(t-1)', 'var58(t-1)', 'var27(t-1)', 'var78(t-1)', 'var75(t-1)', 'var71(t-1)', 'var50(t-1)', 'var91(t-1)', 'var16(t-1)', 'var34(t-1)', 'var73(t-1)', 'var4(t-1)', 'var52(t-1)', 'var49(t-1)', 'var74(t-1)', 'var66(t-1)', 'var47(t-1)', 'var92(t-1)', 'var12(t-1)', 'var33(t-1)', 'var9(t-1)', 'var15(t-1)', 'var60(t-1)', 'var85(t-1)', 'var83(t-1)', 'var95(t-1)', 'var44(t-1)', 'var86(t-1)', 'var80(t-1)', 'var24(t-1)', 'var56(t-1)', 'var21(t-1)', 'var45(t-1)', 'var63(t-1)', 'var46(t-1)']]\n",
      "starting df shape: (87600, 31)\n",
      "This is training run 5 and has the shape:  (87600, 31)\n",
      "The value of dropped columns is 65\n"
     ]
    },
    {
     "name": "stderr",
     "output_type": "stream",
     "text": [
      "/Users/alexellard/opt/anaconda3/lib/python3.7/site-packages/xgboost/data.py:96: UserWarning: Use subset (sliced data) of np.ndarray is not recommended because it will generate extra copies and increase memory consumption\n",
      "  \"because it will generate extra copies and increase \" +\n"
     ]
    },
    {
     "name": "stdout",
     "output_type": "stream",
     "text": [
      "Run 5 Mean Absolute Error: 7.451847\n",
      "[['var27(t-1)', 'var65(t-1)', 'var40(t-1)', 'var83(t-1)', 'var48(t-1)', 'var57(t-1)', 'var3(t-1)', 'var72(t-1)', 'var6(t-1)', 'var67(t-1)', 'var4(t-1)', 'var73(t-1)', 'var66(t-1)', 'var77(t-1)', 'var32(t-1)', 'var80(t-1)', 'var23(t-1)', 'var78(t-1)', 'var14(t-1)', 'var41(t-1)', 'var10(t-1)', 'var18(t-1)', 'var38(t-1)', 'var49(t-1)', 'var2(t-1)', 'var30(t-1)', 'var36(t-1)', 'var82(t-1)', 'var24(t-1)', 'var7(t-1)', 'var26(t-1)', 'var35(t-1)', 'var8(t-1)', 'var79(t-1)', 'var75(t-1)', 'var55(t-1)', 'var56(t-1)', 'var54(t-1)', 'var12(t-1)', 'var1(t-1)', 'var60(t-1)', 'var34(t-1)', 'var86(t-1)', 'var25(t-1)', 'var44(t-1)', 'var53(t-1)', 'var20(t-1)', 'var13(t-1)', 'var19(t-1)', 'var16(t-1)', 'var51(t-1)', 'var61(t-1)', 'var43(t-1)', 'var42(t-1)', 'var22(t-1)', 'var15(t-1)', 'var45(t-1)', 'var87(t-1)', 'var92(t-1)', 'var31(t-1)', 'var59(t-1)', 'var62(t-1)', 'var71(t-1)', 'var28(t-1)', 'var88(t-1)']]\n",
      "starting df shape: (87600, 31)\n",
      "This is training run 6 and has the shape:  (87600, 31)\n",
      "The value of dropped columns is 65\n"
     ]
    },
    {
     "name": "stderr",
     "output_type": "stream",
     "text": [
      "/Users/alexellard/opt/anaconda3/lib/python3.7/site-packages/xgboost/data.py:96: UserWarning: Use subset (sliced data) of np.ndarray is not recommended because it will generate extra copies and increase memory consumption\n",
      "  \"because it will generate extra copies and increase \" +\n"
     ]
    },
    {
     "name": "stdout",
     "output_type": "stream",
     "text": [
      "Run 6 Mean Absolute Error: 7.797043\n",
      "[['var60(t-1)', 'var8(t-1)', 'var68(t-1)', 'var90(t-1)', 'var38(t-1)', 'var71(t-1)', 'var67(t-1)', 'var56(t-1)', 'var7(t-1)', 'var22(t-1)', 'var14(t-1)', 'var93(t-1)', 'var32(t-1)', 'var31(t-1)', 'var89(t-1)', 'var77(t-1)', 'var50(t-1)', 'var5(t-1)', 'var75(t-1)', 'var69(t-1)', 'var23(t-1)', 'var94(t-1)', 'var16(t-1)', 'var11(t-1)', 'var61(t-1)', 'var26(t-1)', 'var43(t-1)', 'var4(t-1)', 'var49(t-1)', 'var48(t-1)', 'var27(t-1)', 'var6(t-1)', 'var66(t-1)', 'var87(t-1)', 'var74(t-1)', 'var12(t-1)', 'var83(t-1)', 'var64(t-1)', 'var2(t-1)', 'var62(t-1)', 'var9(t-1)', 'var59(t-1)', 'var79(t-1)', 'var58(t-1)', 'var46(t-1)', 'var15(t-1)', 'var80(t-1)', 'var30(t-1)', 'var54(t-1)', 'var82(t-1)', 'var44(t-1)', 'var42(t-1)', 'var81(t-1)', 'var37(t-1)', 'var84(t-1)', 'var20(t-1)', 'var88(t-1)', 'var1(t-1)', 'var52(t-1)', 'var76(t-1)', 'var95(t-1)', 'var45(t-1)', 'var29(t-1)', 'var3(t-1)', 'var13(t-1)']]\n",
      "starting df shape: (87600, 31)\n",
      "This is training run 7 and has the shape:  (87600, 31)\n",
      "The value of dropped columns is 65\n"
     ]
    },
    {
     "name": "stderr",
     "output_type": "stream",
     "text": [
      "/Users/alexellard/opt/anaconda3/lib/python3.7/site-packages/xgboost/data.py:96: UserWarning: Use subset (sliced data) of np.ndarray is not recommended because it will generate extra copies and increase memory consumption\n",
      "  \"because it will generate extra copies and increase \" +\n"
     ]
    },
    {
     "name": "stdout",
     "output_type": "stream",
     "text": [
      "Run 7 Mean Absolute Error: 6.116376\n",
      "[['var34(t-1)', 'var29(t-1)', 'var82(t-1)', 'var61(t-1)', 'var37(t-1)', 'var5(t-1)', 'var53(t-1)', 'var43(t-1)', 'var50(t-1)', 'var33(t-1)', 'var56(t-1)', 'var1(t-1)', 'var89(t-1)', 'var75(t-1)', 'var72(t-1)', 'var21(t-1)', 'var52(t-1)', 'var40(t-1)', 'var51(t-1)', 'var78(t-1)', 'var81(t-1)', 'var85(t-1)', 'var27(t-1)', 'var86(t-1)', 'var2(t-1)', 'var77(t-1)', 'var63(t-1)', 'var73(t-1)', 'var76(t-1)', 'var44(t-1)', 'var31(t-1)', 'var54(t-1)', 'var71(t-1)', 'var19(t-1)', 'var93(t-1)', 'var57(t-1)', 'var45(t-1)', 'var80(t-1)', 'var87(t-1)', 'var91(t-1)', 'var14(t-1)', 'var12(t-1)', 'var41(t-1)', 'var70(t-1)', 'var4(t-1)', 'var74(t-1)', 'var16(t-1)', 'var95(t-1)', 'var32(t-1)', 'var67(t-1)', 'var3(t-1)', 'var55(t-1)', 'var6(t-1)', 'var64(t-1)', 'var7(t-1)', 'var58(t-1)', 'var39(t-1)', 'var18(t-1)', 'var94(t-1)', 'var36(t-1)', 'var28(t-1)', 'var92(t-1)', 'var25(t-1)', 'var46(t-1)']]\n",
      "starting df shape: (87600, 32)\n",
      "This is training run 8 and has the shape:  (87600, 32)\n",
      "The value of dropped columns is 65\n"
     ]
    },
    {
     "name": "stderr",
     "output_type": "stream",
     "text": [
      "/Users/alexellard/opt/anaconda3/lib/python3.7/site-packages/xgboost/data.py:96: UserWarning: Use subset (sliced data) of np.ndarray is not recommended because it will generate extra copies and increase memory consumption\n",
      "  \"because it will generate extra copies and increase \" +\n"
     ]
    },
    {
     "name": "stdout",
     "output_type": "stream",
     "text": [
      "Run 8 Mean Absolute Error: 4.5580807\n",
      "[['var8(t-1)', 'var89(t-1)', 'var59(t-1)', 'var52(t-1)', 'var26(t-1)', 'var50(t-1)', 'var39(t-1)', 'var23(t-1)', 'var48(t-1)', 'var15(t-1)', 'var61(t-1)', 'var77(t-1)', 'var83(t-1)', 'var58(t-1)', 'var79(t-1)', 'var71(t-1)', 'var10(t-1)', 'var44(t-1)', 'var56(t-1)', 'var9(t-1)', 'var63(t-1)', 'var35(t-1)', 'var75(t-1)', 'var47(t-1)', 'var4(t-1)', 'var16(t-1)', 'var81(t-1)', 'var43(t-1)', 'var38(t-1)', 'var72(t-1)', 'var14(t-1)', 'var74(t-1)', 'var90(t-1)', 'var51(t-1)', 'var88(t-1)', 'var29(t-1)', 'var65(t-1)', 'var21(t-1)', 'var92(t-1)', 'var41(t-1)', 'var82(t-1)', 'var85(t-1)', 'var86(t-1)', 'var69(t-1)', 'var12(t-1)', 'var73(t-1)', 'var27(t-1)', 'var40(t-1)', 'var6(t-1)', 'var24(t-1)', 'var96(t-1)', 'var53(t-1)', 'var76(t-1)', 'var31(t-1)', 'var25(t-1)', 'var28(t-1)', 'var2(t-1)', 'var18(t-1)', 'var34(t-1)', 'var30(t-1)', 'var70(t-1)', 'var95(t-1)', 'var1(t-1)', 'var62(t-1)', 'var3(t-1)']]\n",
      "starting df shape: (87600, 31)\n",
      "This is training run 9 and has the shape:  (87600, 31)\n",
      "The value of dropped columns is 65\n"
     ]
    },
    {
     "name": "stderr",
     "output_type": "stream",
     "text": [
      "/Users/alexellard/opt/anaconda3/lib/python3.7/site-packages/xgboost/data.py:96: UserWarning: Use subset (sliced data) of np.ndarray is not recommended because it will generate extra copies and increase memory consumption\n",
      "  \"because it will generate extra copies and increase \" +\n"
     ]
    },
    {
     "name": "stdout",
     "output_type": "stream",
     "text": [
      "Run 9 Mean Absolute Error: 3.8483038\n",
      "[['var64(t-1)', 'var23(t-1)', 'var60(t-1)', 'var41(t-1)', 'var8(t-1)', 'var70(t-1)', 'var14(t-1)', 'var87(t-1)', 'var18(t-1)', 'var49(t-1)', 'var85(t-1)', 'var75(t-1)', 'var7(t-1)', 'var20(t-1)', 'var26(t-1)', 'var81(t-1)', 'var76(t-1)', 'var67(t-1)', 'var86(t-1)', 'var19(t-1)', 'var82(t-1)', 'var58(t-1)', 'var25(t-1)', 'var77(t-1)', 'var78(t-1)', 'var45(t-1)', 'var62(t-1)', 'var6(t-1)', 'var4(t-1)', 'var90(t-1)', 'var55(t-1)', 'var72(t-1)', 'var12(t-1)', 'var22(t-1)', 'var10(t-1)', 'var89(t-1)', 'var43(t-1)', 'var9(t-1)', 'var94(t-1)', 'var71(t-1)', 'var61(t-1)', 'var73(t-1)', 'var46(t-1)', 'var33(t-1)', 'var34(t-1)', 'var30(t-1)', 'var37(t-1)', 'var96(t-1)', 'var52(t-1)', 'var11(t-1)', 'var53(t-1)', 'var57(t-1)', 'var5(t-1)', 'var66(t-1)', 'var36(t-1)', 'var50(t-1)', 'var3(t-1)', 'var29(t-1)', 'var31(t-1)', 'var68(t-1)', 'var54(t-1)', 'var47(t-1)', 'var88(t-1)', 'var74(t-1)']]\n",
      "starting df shape: (87600, 32)\n",
      "This is training run 10 and has the shape:  (87600, 32)\n",
      "The value of dropped columns is 65\n"
     ]
    },
    {
     "name": "stderr",
     "output_type": "stream",
     "text": [
      "/Users/alexellard/opt/anaconda3/lib/python3.7/site-packages/xgboost/data.py:96: UserWarning: Use subset (sliced data) of np.ndarray is not recommended because it will generate extra copies and increase memory consumption\n",
      "  \"because it will generate extra copies and increase \" +\n"
     ]
    },
    {
     "name": "stdout",
     "output_type": "stream",
     "text": [
      "Run 10 Mean Absolute Error: 47.721653\n",
      "[['var46(t-1)', 'var96(t-1)', 'var38(t-1)', 'var12(t-1)', 'var41(t-1)', 'var6(t-1)', 'var7(t-1)', 'var26(t-1)', 'var91(t-1)', 'var51(t-1)', 'var11(t-1)', 'var5(t-1)', 'var88(t-1)', 'var40(t-1)', 'var65(t-1)', 'var89(t-1)', 'var23(t-1)', 'var18(t-1)', 'var62(t-1)', 'var83(t-1)', 'var54(t-1)', 'var35(t-1)', 'var2(t-1)', 'var67(t-1)', 'var58(t-1)', 'var73(t-1)', 'var70(t-1)', 'var22(t-1)', 'var80(t-1)', 'var82(t-1)', 'var37(t-1)', 'var74(t-1)', 'var92(t-1)', 'var77(t-1)', 'var47(t-1)', 'var49(t-1)', 'var21(t-1)', 'var86(t-1)', 'var53(t-1)', 'var45(t-1)', 'var42(t-1)', 'var56(t-1)', 'var81(t-1)', 'var4(t-1)', 'var64(t-1)', 'var71(t-1)', 'var36(t-1)', 'var78(t-1)', 'var93(t-1)', 'var19(t-1)', 'var90(t-1)', 'var43(t-1)', 'var69(t-1)', 'var34(t-1)', 'var39(t-1)', 'var13(t-1)', 'var85(t-1)', 'var8(t-1)', 'var20(t-1)', 'var30(t-1)', 'var52(t-1)', 'var3(t-1)', 'var27(t-1)', 'var57(t-1)', 'var72(t-1)', 'var33(t-1)', 'var84(t-1)', 'var68(t-1)', 'var25(t-1)']]\n",
      "starting df shape: (87600, 27)\n",
      "This is training run 1 and has the shape:  (87600, 27)\n",
      "The value of dropped columns is 70\n"
     ]
    },
    {
     "name": "stderr",
     "output_type": "stream",
     "text": [
      "/Users/alexellard/opt/anaconda3/lib/python3.7/site-packages/xgboost/data.py:96: UserWarning: Use subset (sliced data) of np.ndarray is not recommended because it will generate extra copies and increase memory consumption\n",
      "  \"because it will generate extra copies and increase \" +\n"
     ]
    },
    {
     "name": "stdout",
     "output_type": "stream",
     "text": [
      "Run 1 Mean Absolute Error: 129.56363\n",
      "[['var39(t-1)', 'var9(t-1)', 'var66(t-1)', 'var74(t-1)', 'var32(t-1)', 'var93(t-1)', 'var72(t-1)', 'var18(t-1)', 'var1(t-1)', 'var55(t-1)', 'var81(t-1)', 'var20(t-1)', 'var52(t-1)', 'var38(t-1)', 'var33(t-1)', 'var84(t-1)', 'var42(t-1)', 'var86(t-1)', 'var19(t-1)', 'var96(t-1)', 'var36(t-1)', 'var87(t-1)', 'var48(t-1)', 'var59(t-1)', 'var63(t-1)', 'var30(t-1)', 'var41(t-1)', 'var88(t-1)', 'var21(t-1)', 'var67(t-1)', 'var5(t-1)', 'var46(t-1)', 'var27(t-1)', 'var80(t-1)', 'var35(t-1)', 'var40(t-1)', 'var29(t-1)', 'var14(t-1)', 'var31(t-1)', 'var16(t-1)', 'var2(t-1)', 'var22(t-1)', 'var10(t-1)', 'var76(t-1)', 'var79(t-1)', 'var34(t-1)', 'var24(t-1)', 'var15(t-1)', 'var7(t-1)', 'var64(t-1)', 'var78(t-1)', 'var3(t-1)', 'var43(t-1)', 'var44(t-1)', 'var82(t-1)', 'var11(t-1)', 'var25(t-1)', 'var49(t-1)', 'var83(t-1)', 'var54(t-1)', 'var92(t-1)', 'var51(t-1)', 'var77(t-1)', 'var61(t-1)', 'var26(t-1)', 'var89(t-1)', 'var75(t-1)', 'var85(t-1)', 'var62(t-1)']]\n",
      "starting df shape: (87600, 27)\n",
      "This is training run 2 and has the shape:  (87600, 27)\n",
      "The value of dropped columns is 70\n"
     ]
    },
    {
     "name": "stderr",
     "output_type": "stream",
     "text": [
      "/Users/alexellard/opt/anaconda3/lib/python3.7/site-packages/xgboost/data.py:96: UserWarning: Use subset (sliced data) of np.ndarray is not recommended because it will generate extra copies and increase memory consumption\n",
      "  \"because it will generate extra copies and increase \" +\n"
     ]
    },
    {
     "name": "stdout",
     "output_type": "stream",
     "text": [
      "Run 2 Mean Absolute Error: 1.6652728\n",
      "[['var82(t-1)', 'var71(t-1)', 'var56(t-1)', 'var66(t-1)', 'var30(t-1)', 'var20(t-1)', 'var70(t-1)', 'var76(t-1)', 'var5(t-1)', 'var87(t-1)', 'var29(t-1)', 'var28(t-1)', 'var2(t-1)', 'var80(t-1)', 'var48(t-1)', 'var69(t-1)', 'var25(t-1)', 'var7(t-1)', 'var46(t-1)', 'var21(t-1)', 'var3(t-1)', 'var50(t-1)', 'var13(t-1)', 'var14(t-1)', 'var57(t-1)', 'var83(t-1)', 'var16(t-1)', 'var10(t-1)', 'var18(t-1)', 'var8(t-1)', 'var73(t-1)', 'var84(t-1)', 'var37(t-1)', 'var38(t-1)', 'var41(t-1)', 'var94(t-1)', 'var1(t-1)', 'var62(t-1)', 'var24(t-1)', 'var65(t-1)', 'var22(t-1)', 'var78(t-1)', 'var33(t-1)', 'var32(t-1)', 'var34(t-1)', 'var64(t-1)', 'var12(t-1)', 'var47(t-1)', 'var11(t-1)', 'var74(t-1)', 'var55(t-1)', 'var27(t-1)', 'var43(t-1)', 'var54(t-1)', 'var90(t-1)', 'var40(t-1)', 'var63(t-1)', 'var58(t-1)', 'var52(t-1)', 'var91(t-1)', 'var85(t-1)', 'var86(t-1)', 'var31(t-1)', 'var68(t-1)', 'var75(t-1)', 'var26(t-1)', 'var95(t-1)', 'var67(t-1)', 'var9(t-1)']]\n",
      "starting df shape: (87600, 27)\n",
      "This is training run 3 and has the shape:  (87600, 27)\n",
      "The value of dropped columns is 70\n"
     ]
    },
    {
     "name": "stderr",
     "output_type": "stream",
     "text": [
      "/Users/alexellard/opt/anaconda3/lib/python3.7/site-packages/xgboost/data.py:96: UserWarning: Use subset (sliced data) of np.ndarray is not recommended because it will generate extra copies and increase memory consumption\n",
      "  \"because it will generate extra copies and increase \" +\n"
     ]
    },
    {
     "name": "stdout",
     "output_type": "stream",
     "text": [
      "Run 3 Mean Absolute Error: 1.1640121\n",
      "[['var53(t-1)', 'var69(t-1)', 'var92(t-1)', 'var18(t-1)', 'var55(t-1)', 'var54(t-1)', 'var82(t-1)', 'var3(t-1)', 'var67(t-1)', 'var68(t-1)', 'var60(t-1)', 'var2(t-1)', 'var91(t-1)', 'var5(t-1)', 'var8(t-1)', 'var52(t-1)', 'var30(t-1)', 'var37(t-1)', 'var42(t-1)', 'var75(t-1)', 'var70(t-1)', 'var44(t-1)', 'var72(t-1)', 'var32(t-1)', 'var76(t-1)', 'var80(t-1)', 'var15(t-1)', 'var35(t-1)', 'var11(t-1)', 'var43(t-1)', 'var57(t-1)', 'var66(t-1)', 'var78(t-1)', 'var6(t-1)', 'var47(t-1)', 'var28(t-1)', 'var22(t-1)', 'var41(t-1)', 'var79(t-1)', 'var36(t-1)', 'var9(t-1)', 'var34(t-1)', 'var27(t-1)', 'var74(t-1)', 'var95(t-1)', 'var4(t-1)', 'var84(t-1)', 'var29(t-1)', 'var58(t-1)', 'var86(t-1)', 'var61(t-1)', 'var23(t-1)', 'var40(t-1)', 'var63(t-1)', 'var50(t-1)', 'var77(t-1)', 'var93(t-1)', 'var21(t-1)', 'var46(t-1)', 'var10(t-1)', 'var1(t-1)', 'var26(t-1)', 'var73(t-1)', 'var83(t-1)', 'var51(t-1)', 'var48(t-1)', 'var64(t-1)', 'var62(t-1)', 'var16(t-1)']]\n",
      "starting df shape: (87600, 27)\n",
      "This is training run 4 and has the shape:  (87600, 27)\n",
      "The value of dropped columns is 70\n"
     ]
    },
    {
     "name": "stderr",
     "output_type": "stream",
     "text": [
      "/Users/alexellard/opt/anaconda3/lib/python3.7/site-packages/xgboost/data.py:96: UserWarning: Use subset (sliced data) of np.ndarray is not recommended because it will generate extra copies and increase memory consumption\n",
      "  \"because it will generate extra copies and increase \" +\n"
     ]
    },
    {
     "name": "stdout",
     "output_type": "stream",
     "text": [
      "Run 4 Mean Absolute Error: 14.69029\n",
      "[['var56(t-1)', 'var22(t-1)', 'var19(t-1)', 'var21(t-1)', 'var82(t-1)', 'var26(t-1)', 'var18(t-1)', 'var88(t-1)', 'var51(t-1)', 'var84(t-1)', 'var58(t-1)', 'var92(t-1)', 'var81(t-1)', 'var72(t-1)', 'var73(t-1)', 'var52(t-1)', 'var43(t-1)', 'var11(t-1)', 'var31(t-1)', 'var15(t-1)', 'var75(t-1)', 'var10(t-1)', 'var45(t-1)', 'var68(t-1)', 'var30(t-1)', 'var90(t-1)', 'var91(t-1)', 'var76(t-1)', 'var44(t-1)', 'var78(t-1)', 'var55(t-1)', 'var63(t-1)', 'var69(t-1)', 'var42(t-1)', 'var24(t-1)', 'var33(t-1)', 'var54(t-1)', 'var59(t-1)', 'var16(t-1)', 'var12(t-1)', 'var7(t-1)', 'var23(t-1)', 'var47(t-1)', 'var53(t-1)', 'var8(t-1)', 'var89(t-1)', 'var67(t-1)', 'var70(t-1)', 'var86(t-1)', 'var20(t-1)', 'var65(t-1)', 'var50(t-1)', 'var83(t-1)', 'var95(t-1)', 'var2(t-1)', 'var85(t-1)', 'var32(t-1)', 'var49(t-1)', 'var46(t-1)', 'var5(t-1)', 'var27(t-1)', 'var29(t-1)', 'var3(t-1)', 'var41(t-1)', 'var62(t-1)', 'var87(t-1)', 'var39(t-1)', 'var40(t-1)', 'var74(t-1)']]\n",
      "starting df shape: (87600, 27)\n",
      "This is training run 5 and has the shape:  (87600, 27)\n",
      "The value of dropped columns is 70\n"
     ]
    },
    {
     "name": "stderr",
     "output_type": "stream",
     "text": [
      "/Users/alexellard/opt/anaconda3/lib/python3.7/site-packages/xgboost/data.py:96: UserWarning: Use subset (sliced data) of np.ndarray is not recommended because it will generate extra copies and increase memory consumption\n",
      "  \"because it will generate extra copies and increase \" +\n"
     ]
    },
    {
     "name": "stdout",
     "output_type": "stream",
     "text": [
      "Run 5 Mean Absolute Error: 47.338554\n",
      "[['var68(t-1)', 'var58(t-1)', 'var71(t-1)', 'var47(t-1)', 'var8(t-1)', 'var72(t-1)', 'var91(t-1)', 'var44(t-1)', 'var29(t-1)', 'var42(t-1)', 'var18(t-1)', 'var77(t-1)', 'var41(t-1)', 'var30(t-1)', 'var40(t-1)', 'var83(t-1)', 'var14(t-1)', 'var51(t-1)', 'var43(t-1)', 'var57(t-1)', 'var5(t-1)', 'var15(t-1)', 'var94(t-1)', 'var21(t-1)', 'var10(t-1)', 'var56(t-1)', 'var95(t-1)', 'var11(t-1)', 'var31(t-1)', 'var37(t-1)', 'var80(t-1)', 'var66(t-1)', 'var67(t-1)', 'var74(t-1)', 'var19(t-1)', 'var35(t-1)', 'var24(t-1)', 'var62(t-1)', 'var81(t-1)', 'var27(t-1)', 'var38(t-1)', 'var28(t-1)', 'var3(t-1)', 'var79(t-1)', 'var76(t-1)', 'var82(t-1)', 'var33(t-1)', 'var93(t-1)', 'var12(t-1)', 'var39(t-1)', 'var45(t-1)', 'var25(t-1)', 'var6(t-1)', 'var61(t-1)', 'var36(t-1)', 'var46(t-1)', 'var52(t-1)', 'var23(t-1)', 'var4(t-1)', 'var63(t-1)', 'var55(t-1)', 'var9(t-1)', 'var13(t-1)', 'var22(t-1)', 'var50(t-1)', 'var16(t-1)', 'var70(t-1)', 'var49(t-1)', 'var75(t-1)']]\n",
      "starting df shape: (87600, 27)\n",
      "This is training run 6 and has the shape:  (87600, 27)\n",
      "The value of dropped columns is 70\n"
     ]
    },
    {
     "name": "stderr",
     "output_type": "stream",
     "text": [
      "/Users/alexellard/opt/anaconda3/lib/python3.7/site-packages/xgboost/data.py:96: UserWarning: Use subset (sliced data) of np.ndarray is not recommended because it will generate extra copies and increase memory consumption\n",
      "  \"because it will generate extra copies and increase \" +\n"
     ]
    },
    {
     "name": "stdout",
     "output_type": "stream",
     "text": [
      "Run 6 Mean Absolute Error: 162.38112\n",
      "[['var79(t-1)', 'var34(t-1)', 'var47(t-1)', 'var11(t-1)', 'var41(t-1)', 'var29(t-1)', 'var52(t-1)', 'var8(t-1)', 'var7(t-1)', 'var60(t-1)', 'var56(t-1)', 'var59(t-1)', 'var18(t-1)', 'var13(t-1)', 'var76(t-1)', 'var36(t-1)', 'var49(t-1)', 'var16(t-1)', 'var12(t-1)', 'var70(t-1)', 'var48(t-1)', 'var92(t-1)', 'var77(t-1)', 'var5(t-1)', 'var28(t-1)', 'var1(t-1)', 'var33(t-1)', 'var10(t-1)', 'var72(t-1)', 'var32(t-1)', 'var23(t-1)', 'var75(t-1)', 'var25(t-1)', 'var66(t-1)', 'var86(t-1)', 'var3(t-1)', 'var54(t-1)', 'var74(t-1)', 'var69(t-1)', 'var43(t-1)', 'var21(t-1)', 'var27(t-1)', 'var39(t-1)', 'var94(t-1)', 'var88(t-1)', 'var24(t-1)', 'var58(t-1)', 'var95(t-1)', 'var26(t-1)', 'var83(t-1)', 'var62(t-1)', 'var71(t-1)', 'var30(t-1)', 'var38(t-1)', 'var89(t-1)', 'var9(t-1)', 'var64(t-1)', 'var15(t-1)', 'var55(t-1)', 'var35(t-1)', 'var82(t-1)', 'var85(t-1)', 'var20(t-1)', 'var42(t-1)', 'var93(t-1)', 'var96(t-1)', 'var68(t-1)', 'var51(t-1)', 'var44(t-1)']]\n",
      "starting df shape: (87600, 27)\n",
      "This is training run 7 and has the shape:  (87600, 27)\n",
      "The value of dropped columns is 70\n"
     ]
    },
    {
     "name": "stderr",
     "output_type": "stream",
     "text": [
      "/Users/alexellard/opt/anaconda3/lib/python3.7/site-packages/xgboost/data.py:96: UserWarning: Use subset (sliced data) of np.ndarray is not recommended because it will generate extra copies and increase memory consumption\n",
      "  \"because it will generate extra copies and increase \" +\n"
     ]
    },
    {
     "name": "stdout",
     "output_type": "stream",
     "text": [
      "Run 7 Mean Absolute Error: 5.0085273\n",
      "[['var10(t-1)', 'var78(t-1)', 'var74(t-1)', 'var11(t-1)', 'var22(t-1)', 'var77(t-1)', 'var14(t-1)', 'var92(t-1)', 'var24(t-1)', 'var25(t-1)', 'var44(t-1)', 'var23(t-1)', 'var29(t-1)', 'var41(t-1)', 'var55(t-1)', 'var31(t-1)', 'var71(t-1)', 'var57(t-1)', 'var47(t-1)', 'var2(t-1)', 'var73(t-1)', 'var20(t-1)', 'var80(t-1)', 'var3(t-1)', 'var61(t-1)', 'var90(t-1)', 'var87(t-1)', 'var6(t-1)', 'var45(t-1)', 'var64(t-1)', 'var67(t-1)', 'var5(t-1)', 'var19(t-1)', 'var42(t-1)', 'var48(t-1)', 'var66(t-1)', 'var52(t-1)', 'var62(t-1)', 'var65(t-1)', 'var79(t-1)', 'var37(t-1)', 'var40(t-1)', 'var76(t-1)', 'var30(t-1)', 'var96(t-1)', 'var43(t-1)', 'var72(t-1)', 'var86(t-1)', 'var56(t-1)', 'var12(t-1)', 'var38(t-1)', 'var93(t-1)', 'var50(t-1)', 'var4(t-1)', 'var18(t-1)', 'var85(t-1)', 'var26(t-1)', 'var81(t-1)', 'var27(t-1)', 'var8(t-1)', 'var60(t-1)', 'var91(t-1)', 'var53(t-1)', 'var1(t-1)', 'var94(t-1)', 'var89(t-1)', 'var68(t-1)', 'var51(t-1)', 'var84(t-1)', 'var49(t-1)']]\n",
      "starting df shape: (87600, 26)\n",
      "This is training run 8 and has the shape:  (87600, 26)\n",
      "The value of dropped columns is 70\n"
     ]
    },
    {
     "name": "stderr",
     "output_type": "stream",
     "text": [
      "/Users/alexellard/opt/anaconda3/lib/python3.7/site-packages/xgboost/data.py:96: UserWarning: Use subset (sliced data) of np.ndarray is not recommended because it will generate extra copies and increase memory consumption\n",
      "  \"because it will generate extra copies and increase \" +\n"
     ]
    },
    {
     "name": "stdout",
     "output_type": "stream",
     "text": [
      "Run 8 Mean Absolute Error: 16.276873\n",
      "[['var15(t-1)', 'var96(t-1)', 'var43(t-1)', 'var55(t-1)', 'var85(t-1)', 'var21(t-1)', 'var79(t-1)', 'var58(t-1)', 'var49(t-1)', 'var30(t-1)', 'var8(t-1)', 'var81(t-1)', 'var20(t-1)', 'var34(t-1)', 'var88(t-1)', 'var36(t-1)', 'var4(t-1)', 'var83(t-1)', 'var57(t-1)', 'var69(t-1)', 'var76(t-1)', 'var86(t-1)', 'var73(t-1)', 'var14(t-1)', 'var93(t-1)', 'var31(t-1)', 'var2(t-1)', 'var53(t-1)', 'var56(t-1)', 'var26(t-1)', 'var61(t-1)', 'var5(t-1)', 'var28(t-1)', 'var64(t-1)', 'var13(t-1)', 'var78(t-1)', 'var41(t-1)', 'var3(t-1)', 'var22(t-1)', 'var87(t-1)', 'var52(t-1)', 'var54(t-1)', 'var94(t-1)', 'var75(t-1)', 'var80(t-1)', 'var92(t-1)', 'var77(t-1)', 'var6(t-1)', 'var37(t-1)', 'var68(t-1)', 'var70(t-1)', 'var50(t-1)', 'var19(t-1)', 'var66(t-1)', 'var10(t-1)', 'var42(t-1)', 'var67(t-1)', 'var82(t-1)', 'var71(t-1)', 'var72(t-1)', 'var7(t-1)', 'var39(t-1)', 'var35(t-1)', 'var18(t-1)', 'var12(t-1)', 'var9(t-1)', 'var32(t-1)', 'var95(t-1)', 'var11(t-1)']]\n",
      "starting df shape: (87600, 27)\n",
      "This is training run 9 and has the shape:  (87600, 27)\n",
      "The value of dropped columns is 70\n"
     ]
    },
    {
     "name": "stderr",
     "output_type": "stream",
     "text": [
      "/Users/alexellard/opt/anaconda3/lib/python3.7/site-packages/xgboost/data.py:96: UserWarning: Use subset (sliced data) of np.ndarray is not recommended because it will generate extra copies and increase memory consumption\n",
      "  \"because it will generate extra copies and increase \" +\n"
     ]
    },
    {
     "name": "stdout",
     "output_type": "stream",
     "text": [
      "Run 9 Mean Absolute Error: 185.37778\n",
      "[['var61(t-1)', 'var96(t-1)', 'var62(t-1)', 'var31(t-1)', 'var29(t-1)', 'var6(t-1)', 'var33(t-1)', 'var20(t-1)', 'var3(t-1)', 'var45(t-1)', 'var82(t-1)', 'var60(t-1)', 'var65(t-1)', 'var74(t-1)', 'var68(t-1)', 'var67(t-1)', 'var21(t-1)', 'var86(t-1)', 'var89(t-1)', 'var37(t-1)', 'var2(t-1)', 'var39(t-1)', 'var42(t-1)', 'var51(t-1)', 'var36(t-1)', 'var57(t-1)', 'var59(t-1)', 'var76(t-1)', 'var11(t-1)', 'var54(t-1)', 'var58(t-1)', 'var12(t-1)', 'var52(t-1)', 'var7(t-1)', 'var30(t-1)', 'var94(t-1)', 'var70(t-1)', 'var69(t-1)', 'var66(t-1)', 'var14(t-1)', 'var18(t-1)', 'var19(t-1)', 'var5(t-1)', 'var32(t-1)', 'var84(t-1)', 'var92(t-1)', 'var95(t-1)', 'var27(t-1)', 'var44(t-1)', 'var50(t-1)', 'var55(t-1)', 'var93(t-1)', 'var16(t-1)', 'var49(t-1)', 'var90(t-1)', 'var22(t-1)', 'var77(t-1)', 'var48(t-1)', 'var25(t-1)', 'var8(t-1)', 'var1(t-1)', 'var53(t-1)', 'var63(t-1)', 'var10(t-1)', 'var35(t-1)', 'var64(t-1)', 'var85(t-1)', 'var78(t-1)', 'var13(t-1)']]\n",
      "starting df shape: (87600, 27)\n",
      "This is training run 10 and has the shape:  (87600, 27)\n",
      "The value of dropped columns is 70\n"
     ]
    },
    {
     "name": "stderr",
     "output_type": "stream",
     "text": [
      "/Users/alexellard/opt/anaconda3/lib/python3.7/site-packages/xgboost/data.py:96: UserWarning: Use subset (sliced data) of np.ndarray is not recommended because it will generate extra copies and increase memory consumption\n",
      "  \"because it will generate extra copies and increase \" +\n"
     ]
    },
    {
     "name": "stdout",
     "output_type": "stream",
     "text": [
      "Run 10 Mean Absolute Error: 0.4361877\n",
      "[['var11(t-1)', 'var87(t-1)', 'var95(t-1)', 'var68(t-1)', 'var30(t-1)', 'var79(t-1)', 'var13(t-1)', 'var1(t-1)', 'var44(t-1)', 'var61(t-1)', 'var56(t-1)', 'var86(t-1)', 'var81(t-1)', 'var88(t-1)', 'var94(t-1)', 'var76(t-1)', 'var66(t-1)', 'var92(t-1)', 'var70(t-1)', 'var90(t-1)', 'var10(t-1)', 'var93(t-1)', 'var52(t-1)', 'var20(t-1)', 'var80(t-1)', 'var71(t-1)', 'var85(t-1)', 'var75(t-1)', 'var55(t-1)', 'var9(t-1)', 'var21(t-1)', 'var77(t-1)', 'var41(t-1)', 'var5(t-1)', 'var58(t-1)', 'var3(t-1)', 'var46(t-1)', 'var28(t-1)', 'var82(t-1)', 'var6(t-1)', 'var91(t-1)', 'var24(t-1)', 'var60(t-1)', 'var84(t-1)', 'var16(t-1)', 'var89(t-1)', 'var51(t-1)', 'var54(t-1)', 'var23(t-1)', 'var49(t-1)', 'var48(t-1)', 'var2(t-1)', 'var45(t-1)', 'var18(t-1)', 'var78(t-1)', 'var59(t-1)', 'var43(t-1)', 'var25(t-1)', 'var26(t-1)', 'var72(t-1)', 'var42(t-1)', 'var15(t-1)', 'var74(t-1)', 'var67(t-1)', 'var7(t-1)', 'var73(t-1)', 'var96(t-1)', 'var31(t-1)', 'var47(t-1)', 'var32(t-1)', 'var50(t-1)', 'var34(t-1)', 'var35(t-1)', 'var19(t-1)']]\n",
      "starting df shape: (87600, 22)\n",
      "This is training run 1 and has the shape:  (87600, 22)\n",
      "The value of dropped columns is 75\n"
     ]
    },
    {
     "name": "stderr",
     "output_type": "stream",
     "text": [
      "/Users/alexellard/opt/anaconda3/lib/python3.7/site-packages/xgboost/data.py:96: UserWarning: Use subset (sliced data) of np.ndarray is not recommended because it will generate extra copies and increase memory consumption\n",
      "  \"because it will generate extra copies and increase \" +\n"
     ]
    },
    {
     "name": "stdout",
     "output_type": "stream",
     "text": [
      "Run 1 Mean Absolute Error: 1.7558588\n",
      "[['var80(t-1)', 'var41(t-1)', 'var4(t-1)', 'var67(t-1)', 'var12(t-1)', 'var69(t-1)', 'var73(t-1)', 'var85(t-1)', 'var77(t-1)', 'var13(t-1)', 'var11(t-1)', 'var96(t-1)', 'var49(t-1)', 'var55(t-1)', 'var70(t-1)', 'var18(t-1)', 'var44(t-1)', 'var48(t-1)', 'var1(t-1)', 'var75(t-1)', 'var3(t-1)', 'var89(t-1)', 'var74(t-1)', 'var72(t-1)', 'var76(t-1)', 'var26(t-1)', 'var32(t-1)', 'var60(t-1)', 'var51(t-1)', 'var90(t-1)', 'var50(t-1)', 'var71(t-1)', 'var16(t-1)', 'var95(t-1)', 'var2(t-1)', 'var42(t-1)', 'var46(t-1)', 'var39(t-1)', 'var43(t-1)', 'var10(t-1)', 'var7(t-1)', 'var68(t-1)', 'var35(t-1)', 'var61(t-1)', 'var88(t-1)', 'var29(t-1)', 'var59(t-1)', 'var57(t-1)', 'var66(t-1)', 'var25(t-1)', 'var45(t-1)', 'var30(t-1)', 'var9(t-1)', 'var53(t-1)', 'var87(t-1)', 'var47(t-1)', 'var23(t-1)', 'var21(t-1)', 'var6(t-1)', 'var56(t-1)', 'var81(t-1)', 'var27(t-1)', 'var78(t-1)', 'var40(t-1)', 'var19(t-1)', 'var28(t-1)', 'var8(t-1)', 'var83(t-1)', 'var93(t-1)', 'var94(t-1)', 'var14(t-1)', 'var84(t-1)', 'var79(t-1)', 'var33(t-1)']]\n",
      "starting df shape: (87600, 22)\n",
      "This is training run 2 and has the shape:  (87600, 22)\n",
      "The value of dropped columns is 75\n"
     ]
    },
    {
     "name": "stderr",
     "output_type": "stream",
     "text": [
      "/Users/alexellard/opt/anaconda3/lib/python3.7/site-packages/xgboost/data.py:96: UserWarning: Use subset (sliced data) of np.ndarray is not recommended because it will generate extra copies and increase memory consumption\n",
      "  \"because it will generate extra copies and increase \" +\n"
     ]
    },
    {
     "name": "stdout",
     "output_type": "stream",
     "text": [
      "Run 2 Mean Absolute Error: 8.167337\n",
      "[['var53(t-1)', 'var77(t-1)', 'var2(t-1)', 'var57(t-1)', 'var72(t-1)', 'var74(t-1)', 'var62(t-1)', 'var39(t-1)', 'var11(t-1)', 'var76(t-1)', 'var36(t-1)', 'var73(t-1)', 'var20(t-1)', 'var23(t-1)', 'var22(t-1)', 'var88(t-1)', 'var70(t-1)', 'var91(t-1)', 'var38(t-1)', 'var10(t-1)', 'var26(t-1)', 'var69(t-1)', 'var1(t-1)', 'var40(t-1)', 'var12(t-1)', 'var42(t-1)', 'var71(t-1)', 'var54(t-1)', 'var68(t-1)', 'var84(t-1)', 'var37(t-1)', 'var87(t-1)', 'var95(t-1)', 'var30(t-1)', 'var80(t-1)', 'var60(t-1)', 'var5(t-1)', 'var59(t-1)', 'var49(t-1)', 'var92(t-1)', 'var48(t-1)', 'var65(t-1)', 'var34(t-1)', 'var63(t-1)', 'var25(t-1)', 'var7(t-1)', 'var55(t-1)', 'var82(t-1)', 'var85(t-1)', 'var33(t-1)', 'var61(t-1)', 'var56(t-1)', 'var86(t-1)', 'var89(t-1)', 'var93(t-1)', 'var83(t-1)', 'var15(t-1)', 'var78(t-1)', 'var6(t-1)', 'var35(t-1)', 'var58(t-1)', 'var50(t-1)', 'var21(t-1)', 'var8(t-1)', 'var18(t-1)', 'var13(t-1)', 'var79(t-1)', 'var9(t-1)', 'var90(t-1)', 'var81(t-1)', 'var24(t-1)', 'var66(t-1)', 'var64(t-1)', 'var67(t-1)']]\n",
      "starting df shape: (87600, 22)\n",
      "This is training run 3 and has the shape:  (87600, 22)\n",
      "The value of dropped columns is 75\n"
     ]
    },
    {
     "name": "stderr",
     "output_type": "stream",
     "text": [
      "/Users/alexellard/opt/anaconda3/lib/python3.7/site-packages/xgboost/data.py:96: UserWarning: Use subset (sliced data) of np.ndarray is not recommended because it will generate extra copies and increase memory consumption\n",
      "  \"because it will generate extra copies and increase \" +\n"
     ]
    },
    {
     "name": "stdout",
     "output_type": "stream",
     "text": [
      "Run 3 Mean Absolute Error: 10.77158\n",
      "[['var29(t-1)', 'var93(t-1)', 'var3(t-1)', 'var32(t-1)', 'var79(t-1)', 'var83(t-1)', 'var38(t-1)', 'var44(t-1)', 'var90(t-1)', 'var67(t-1)', 'var58(t-1)', 'var9(t-1)', 'var78(t-1)', 'var36(t-1)', 'var87(t-1)', 'var75(t-1)', 'var63(t-1)', 'var89(t-1)', 'var39(t-1)', 'var47(t-1)', 'var28(t-1)', 'var50(t-1)', 'var2(t-1)', 'var94(t-1)', 'var22(t-1)', 'var91(t-1)', 'var46(t-1)', 'var48(t-1)', 'var19(t-1)', 'var77(t-1)', 'var10(t-1)', 'var56(t-1)', 'var27(t-1)', 'var49(t-1)', 'var6(t-1)', 'var5(t-1)', 'var20(t-1)', 'var1(t-1)', 'var64(t-1)', 'var82(t-1)', 'var45(t-1)', 'var85(t-1)', 'var59(t-1)', 'var80(t-1)', 'var74(t-1)', 'var15(t-1)', 'var26(t-1)', 'var14(t-1)', 'var37(t-1)', 'var43(t-1)', 'var66(t-1)', 'var34(t-1)', 'var88(t-1)', 'var76(t-1)', 'var54(t-1)', 'var84(t-1)', 'var53(t-1)', 'var70(t-1)', 'var65(t-1)', 'var73(t-1)', 'var8(t-1)', 'var52(t-1)', 'var33(t-1)', 'var57(t-1)', 'var35(t-1)', 'var69(t-1)', 'var12(t-1)', 'var60(t-1)', 'var21(t-1)', 'var96(t-1)', 'var4(t-1)', 'var24(t-1)', 'var40(t-1)', 'var25(t-1)']]\n",
      "starting df shape: (87600, 22)\n",
      "This is training run 4 and has the shape:  (87600, 22)\n",
      "The value of dropped columns is 75\n"
     ]
    },
    {
     "name": "stderr",
     "output_type": "stream",
     "text": [
      "/Users/alexellard/opt/anaconda3/lib/python3.7/site-packages/xgboost/data.py:96: UserWarning: Use subset (sliced data) of np.ndarray is not recommended because it will generate extra copies and increase memory consumption\n",
      "  \"because it will generate extra copies and increase \" +\n"
     ]
    },
    {
     "name": "stdout",
     "output_type": "stream",
     "text": [
      "Run 4 Mean Absolute Error: 13.1279\n",
      "[['var62(t-1)', 'var76(t-1)', 'var1(t-1)', 'var15(t-1)', 'var36(t-1)', 'var53(t-1)', 'var23(t-1)', 'var65(t-1)', 'var18(t-1)', 'var50(t-1)', 'var87(t-1)', 'var46(t-1)', 'var81(t-1)', 'var83(t-1)', 'var80(t-1)', 'var3(t-1)', 'var59(t-1)', 'var91(t-1)', 'var58(t-1)', 'var38(t-1)', 'var79(t-1)', 'var68(t-1)', 'var44(t-1)', 'var57(t-1)', 'var92(t-1)', 'var69(t-1)', 'var61(t-1)', 'var12(t-1)', 'var29(t-1)', 'var20(t-1)', 'var96(t-1)', 'var51(t-1)', 'var47(t-1)', 'var84(t-1)', 'var64(t-1)', 'var31(t-1)', 'var72(t-1)', 'var66(t-1)', 'var14(t-1)', 'var82(t-1)', 'var10(t-1)', 'var45(t-1)', 'var75(t-1)', 'var78(t-1)', 'var7(t-1)', 'var86(t-1)', 'var43(t-1)', 'var88(t-1)', 'var77(t-1)', 'var27(t-1)', 'var28(t-1)', 'var9(t-1)', 'var56(t-1)', 'var37(t-1)', 'var85(t-1)', 'var90(t-1)', 'var42(t-1)', 'var70(t-1)', 'var49(t-1)', 'var40(t-1)', 'var4(t-1)', 'var22(t-1)', 'var60(t-1)', 'var2(t-1)', 'var32(t-1)', 'var89(t-1)', 'var54(t-1)', 'var21(t-1)', 'var26(t-1)', 'var5(t-1)', 'var67(t-1)', 'var19(t-1)', 'var94(t-1)', 'var6(t-1)']]\n",
      "starting df shape: (87600, 22)\n",
      "This is training run 5 and has the shape:  (87600, 22)\n",
      "The value of dropped columns is 75\n"
     ]
    },
    {
     "name": "stderr",
     "output_type": "stream",
     "text": [
      "/Users/alexellard/opt/anaconda3/lib/python3.7/site-packages/xgboost/data.py:96: UserWarning: Use subset (sliced data) of np.ndarray is not recommended because it will generate extra copies and increase memory consumption\n",
      "  \"because it will generate extra copies and increase \" +\n"
     ]
    },
    {
     "name": "stdout",
     "output_type": "stream",
     "text": [
      "Run 5 Mean Absolute Error: 6.84106\n",
      "[['var61(t-1)', 'var74(t-1)', 'var19(t-1)', 'var44(t-1)', 'var64(t-1)', 'var9(t-1)', 'var68(t-1)', 'var30(t-1)', 'var23(t-1)', 'var24(t-1)', 'var86(t-1)', 'var43(t-1)', 'var72(t-1)', 'var11(t-1)', 'var58(t-1)', 'var76(t-1)', 'var73(t-1)', 'var93(t-1)', 'var47(t-1)', 'var91(t-1)', 'var54(t-1)', 'var37(t-1)', 'var88(t-1)', 'var16(t-1)', 'var21(t-1)', 'var56(t-1)', 'var52(t-1)', 'var60(t-1)', 'var8(t-1)', 'var40(t-1)', 'var59(t-1)', 'var14(t-1)', 'var82(t-1)', 'var42(t-1)', 'var38(t-1)', 'var2(t-1)', 'var35(t-1)', 'var31(t-1)', 'var62(t-1)', 'var34(t-1)', 'var45(t-1)', 'var87(t-1)', 'var79(t-1)', 'var4(t-1)', 'var10(t-1)', 'var48(t-1)', 'var32(t-1)', 'var51(t-1)', 'var25(t-1)', 'var84(t-1)', 'var33(t-1)', 'var41(t-1)', 'var36(t-1)', 'var55(t-1)', 'var29(t-1)', 'var70(t-1)', 'var57(t-1)', 'var53(t-1)', 'var3(t-1)', 'var65(t-1)', 'var49(t-1)', 'var75(t-1)', 'var7(t-1)', 'var46(t-1)', 'var26(t-1)', 'var22(t-1)', 'var50(t-1)', 'var71(t-1)', 'var66(t-1)', 'var1(t-1)', 'var15(t-1)', 'var20(t-1)', 'var81(t-1)', 'var69(t-1)']]\n",
      "starting df shape: (87600, 22)\n",
      "This is training run 6 and has the shape:  (87600, 22)\n",
      "The value of dropped columns is 75\n"
     ]
    },
    {
     "name": "stderr",
     "output_type": "stream",
     "text": [
      "/Users/alexellard/opt/anaconda3/lib/python3.7/site-packages/xgboost/data.py:96: UserWarning: Use subset (sliced data) of np.ndarray is not recommended because it will generate extra copies and increase memory consumption\n",
      "  \"because it will generate extra copies and increase \" +\n"
     ]
    },
    {
     "name": "stdout",
     "output_type": "stream",
     "text": [
      "Run 6 Mean Absolute Error: 3.6324809\n",
      "[['var77(t-1)', 'var57(t-1)', 'var64(t-1)', 'var25(t-1)', 'var13(t-1)', 'var87(t-1)', 'var73(t-1)', 'var33(t-1)', 'var42(t-1)', 'var75(t-1)', 'var53(t-1)', 'var38(t-1)', 'var26(t-1)', 'var8(t-1)', 'var30(t-1)', 'var62(t-1)', 'var61(t-1)', 'var76(t-1)', 'var86(t-1)', 'var27(t-1)', 'var5(t-1)', 'var39(t-1)', 'var85(t-1)', 'var36(t-1)', 'var24(t-1)', 'var32(t-1)', 'var52(t-1)', 'var45(t-1)', 'var9(t-1)', 'var51(t-1)', 'var70(t-1)', 'var49(t-1)', 'var83(t-1)', 'var63(t-1)', 'var37(t-1)', 'var72(t-1)', 'var96(t-1)', 'var66(t-1)', 'var16(t-1)', 'var74(t-1)', 'var81(t-1)', 'var1(t-1)', 'var89(t-1)', 'var65(t-1)', 'var68(t-1)', 'var43(t-1)', 'var23(t-1)', 'var88(t-1)', 'var10(t-1)', 'var46(t-1)', 'var78(t-1)', 'var67(t-1)', 'var56(t-1)', 'var71(t-1)', 'var35(t-1)', 'var69(t-1)', 'var44(t-1)', 'var6(t-1)', 'var18(t-1)', 'var41(t-1)', 'var47(t-1)', 'var3(t-1)', 'var92(t-1)', 'var34(t-1)', 'var7(t-1)', 'var48(t-1)', 'var95(t-1)', 'var94(t-1)', 'var22(t-1)', 'var54(t-1)', 'var59(t-1)', 'var84(t-1)', 'var79(t-1)', 'var60(t-1)']]\n",
      "starting df shape: (87600, 22)\n",
      "This is training run 7 and has the shape:  (87600, 22)\n",
      "The value of dropped columns is 75\n"
     ]
    },
    {
     "name": "stderr",
     "output_type": "stream",
     "text": [
      "/Users/alexellard/opt/anaconda3/lib/python3.7/site-packages/xgboost/data.py:96: UserWarning: Use subset (sliced data) of np.ndarray is not recommended because it will generate extra copies and increase memory consumption\n",
      "  \"because it will generate extra copies and increase \" +\n"
     ]
    },
    {
     "name": "stdout",
     "output_type": "stream",
     "text": [
      "Run 7 Mean Absolute Error: 5.7141438\n",
      "[['var37(t-1)', 'var54(t-1)', 'var34(t-1)', 'var86(t-1)', 'var9(t-1)', 'var10(t-1)', 'var4(t-1)', 'var55(t-1)', 'var27(t-1)', 'var6(t-1)', 'var24(t-1)', 'var7(t-1)', 'var90(t-1)', 'var73(t-1)', 'var48(t-1)', 'var44(t-1)', 'var52(t-1)', 'var67(t-1)', 'var94(t-1)', 'var65(t-1)', 'var83(t-1)', 'var78(t-1)', 'var87(t-1)', 'var72(t-1)', 'var23(t-1)', 'var47(t-1)', 'var25(t-1)', 'var50(t-1)', 'var68(t-1)', 'var96(t-1)', 'var88(t-1)', 'var36(t-1)', 'var41(t-1)', 'var62(t-1)', 'var11(t-1)', 'var59(t-1)', 'var14(t-1)', 'var95(t-1)', 'var19(t-1)', 'var77(t-1)', 'var76(t-1)', 'var35(t-1)', 'var16(t-1)', 'var32(t-1)', 'var66(t-1)', 'var5(t-1)', 'var26(t-1)', 'var13(t-1)', 'var3(t-1)', 'var29(t-1)', 'var39(t-1)', 'var93(t-1)', 'var40(t-1)', 'var15(t-1)', 'var2(t-1)', 'var12(t-1)', 'var33(t-1)', 'var8(t-1)', 'var74(t-1)', 'var89(t-1)', 'var92(t-1)', 'var61(t-1)', 'var51(t-1)', 'var43(t-1)', 'var31(t-1)', 'var80(t-1)', 'var71(t-1)', 'var63(t-1)', 'var53(t-1)', 'var28(t-1)', 'var57(t-1)', 'var42(t-1)', 'var46(t-1)', 'var85(t-1)', 'var38(t-1)']]\n",
      "starting df shape: (87600, 21)\n",
      "This is training run 8 and has the shape:  (87600, 21)\n",
      "The value of dropped columns is 75\n"
     ]
    },
    {
     "name": "stderr",
     "output_type": "stream",
     "text": [
      "/Users/alexellard/opt/anaconda3/lib/python3.7/site-packages/xgboost/data.py:96: UserWarning: Use subset (sliced data) of np.ndarray is not recommended because it will generate extra copies and increase memory consumption\n",
      "  \"because it will generate extra copies and increase \" +\n"
     ]
    },
    {
     "name": "stdout",
     "output_type": "stream",
     "text": [
      "Run 8 Mean Absolute Error: 101.99551\n",
      "[['var35(t-1)', 'var40(t-1)', 'var82(t-1)', 'var57(t-1)', 'var8(t-1)', 'var54(t-1)', 'var14(t-1)', 'var3(t-1)', 'var31(t-1)', 'var41(t-1)', 'var92(t-1)', 'var64(t-1)', 'var91(t-1)', 'var62(t-1)', 'var49(t-1)', 'var77(t-1)', 'var37(t-1)', 'var78(t-1)', 'var36(t-1)', 'var89(t-1)', 'var23(t-1)', 'var66(t-1)', 'var43(t-1)', 'var73(t-1)', 'var96(t-1)', 'var1(t-1)', 'var30(t-1)', 'var60(t-1)', 'var85(t-1)', 'var47(t-1)', 'var95(t-1)', 'var16(t-1)', 'var63(t-1)', 'var46(t-1)', 'var94(t-1)', 'var4(t-1)', 'var55(t-1)', 'var76(t-1)', 'var69(t-1)', 'var70(t-1)', 'var18(t-1)', 'var9(t-1)', 'var53(t-1)', 'var19(t-1)', 'var90(t-1)', 'var27(t-1)', 'var13(t-1)', 'var84(t-1)', 'var88(t-1)', 'var52(t-1)', 'var22(t-1)', 'var24(t-1)', 'var50(t-1)', 'var38(t-1)', 'var71(t-1)', 'var12(t-1)', 'var20(t-1)', 'var67(t-1)', 'var28(t-1)', 'var68(t-1)', 'var42(t-1)', 'var86(t-1)', 'var59(t-1)', 'var39(t-1)', 'var75(t-1)', 'var26(t-1)', 'var15(t-1)', 'var87(t-1)', 'var25(t-1)', 'var48(t-1)', 'var58(t-1)', 'var56(t-1)', 'var81(t-1)', 'var65(t-1)', 'var93(t-1)']]\n",
      "starting df shape: (87600, 21)\n",
      "This is training run 9 and has the shape:  (87600, 21)\n",
      "The value of dropped columns is 75\n"
     ]
    },
    {
     "name": "stderr",
     "output_type": "stream",
     "text": [
      "/Users/alexellard/opt/anaconda3/lib/python3.7/site-packages/xgboost/data.py:96: UserWarning: Use subset (sliced data) of np.ndarray is not recommended because it will generate extra copies and increase memory consumption\n",
      "  \"because it will generate extra copies and increase \" +\n"
     ]
    },
    {
     "name": "stdout",
     "output_type": "stream",
     "text": [
      "Run 9 Mean Absolute Error: 3.0246975\n",
      "[['var46(t-1)', 'var87(t-1)', 'var65(t-1)', 'var12(t-1)', 'var22(t-1)', 'var63(t-1)', 'var56(t-1)', 'var71(t-1)', 'var18(t-1)', 'var2(t-1)', 'var83(t-1)', 'var84(t-1)', 'var3(t-1)', 'var38(t-1)', 'var6(t-1)', 'var72(t-1)', 'var74(t-1)', 'var77(t-1)', 'var16(t-1)', 'var79(t-1)', 'var51(t-1)', 'var34(t-1)', 'var9(t-1)', 'var45(t-1)', 'var82(t-1)', 'var75(t-1)', 'var66(t-1)', 'var61(t-1)', 'var26(t-1)', 'var35(t-1)', 'var92(t-1)', 'var94(t-1)', 'var31(t-1)', 'var23(t-1)', 'var60(t-1)', 'var14(t-1)', 'var62(t-1)', 'var70(t-1)', 'var64(t-1)', 'var37(t-1)', 'var30(t-1)', 'var36(t-1)', 'var53(t-1)', 'var55(t-1)', 'var80(t-1)', 'var41(t-1)', 'var96(t-1)', 'var58(t-1)', 'var85(t-1)', 'var93(t-1)', 'var90(t-1)', 'var19(t-1)', 'var33(t-1)', 'var1(t-1)', 'var15(t-1)', 'var52(t-1)', 'var25(t-1)', 'var43(t-1)', 'var27(t-1)', 'var91(t-1)', 'var20(t-1)', 'var59(t-1)', 'var81(t-1)', 'var8(t-1)', 'var68(t-1)', 'var54(t-1)', 'var89(t-1)', 'var24(t-1)', 'var73(t-1)', 'var11(t-1)', 'var49(t-1)', 'var42(t-1)', 'var10(t-1)', 'var57(t-1)', 'var29(t-1)']]\n",
      "starting df shape: (87600, 21)\n",
      "This is training run 10 and has the shape:  (87600, 21)\n",
      "The value of dropped columns is 75\n"
     ]
    },
    {
     "name": "stderr",
     "output_type": "stream",
     "text": [
      "/Users/alexellard/opt/anaconda3/lib/python3.7/site-packages/xgboost/data.py:96: UserWarning: Use subset (sliced data) of np.ndarray is not recommended because it will generate extra copies and increase memory consumption\n",
      "  \"because it will generate extra copies and increase \" +\n"
     ]
    },
    {
     "name": "stdout",
     "output_type": "stream",
     "text": [
      "Run 10 Mean Absolute Error: 1.5927993\n",
      "Length MAE_average:  16\n",
      "Length sensors_covered:  16\n"
     ]
    }
   ],
   "source": [
    "MAE_average = []\n",
    "maximum_MAE = []\n",
    "sensors_covered = []\n",
    "n_columns_to_drop = [0, 5, 10, 15, 20, 25, 30, 35, 40, 45, 50, 55, 60, 65, 70, 75, 80, 95, 90, 95]\n",
    "for n in n_columns_to_drop:\n",
    "    MAE = []\n",
    "    for run in range(1,11):\n",
    "        values = df.values\n",
    "        values = values.astype('float32')\n",
    "        reframed_demand_node16 = series_to_supervised(values, 1, 1, vars_to_predict=target_variable_demand_node16)\n",
    "        reframed_demand_node16 = reframed_demand_node16.drop(reframed_demand_node16.columns[16], axis=1)\n",
    "        columns = []\n",
    "        columns_to_drop = random.sample(list(reframed_demand_node16.columns), n)\n",
    "        # Drop the selected columns from the dataframe\n",
    "        if reframed_demand_node16.columns[-1] in columns_to_drop:\n",
    "            columns_to_drop.remove(reframed_demand_node16.columns[-1])\n",
    "        reframed_demand_node16.drop(columns_to_drop, axis=1, inplace=True)\n",
    "        columns.append(columns_to_drop)\n",
    "        print(columns)\n",
    "        print('starting df shape:', reframed_demand_node16.shape)\n",
    "        print(f'This is training run {run} and has the shape: ', reframed_demand_node16.shape)\n",
    "        print(f'The value of dropped columns is {n}')\n",
    "\n",
    "        # split into train and test sets\n",
    "        values = reframed_demand_node16.values\n",
    "        scaled = scaler.fit_transform(values)\n",
    "        train, test = train_test_split(scaled, test_size=0.2, random_state=0)\n",
    "\n",
    "        # split into input and outputs\n",
    "        train_X, train_y = train[:, :-1], train[:, -1]\n",
    "        test_X, test_y = test[:, :-1], test[:, -1]\n",
    "\n",
    "        #define model\n",
    "        model = xgb.XGBRegressor(\n",
    "            objective='reg:squarederror',\n",
    "            n_estimators=100,\n",
    "            max_depth=6,\n",
    "            learning_rate=0.1,\n",
    "            subsample=0.9,\n",
    "            colsample_bytree=0.8,\n",
    "            random_state=42\n",
    "        )\n",
    "\n",
    "        # fit the model on the training data\n",
    "        model.fit(train_X, train_y)\n",
    "\n",
    "        # make predictions on the test data\n",
    "        y_pred = model.predict(test_X)\n",
    "\n",
    "        test_y = test_y.reshape((len(test_y), 1))\n",
    "        inv_test_y = concatenate((test_y, test_X[:, -reframed_demand_node16.shape[1]:]), axis=1)\n",
    "        test_y_inverse = scaler.inverse_transform(inv_test_y)\n",
    "        test_y_inverse = test_y_inverse[:,0]\n",
    "\n",
    "        y_pred = y_pred.reshape((len(y_pred), 1))\n",
    "        inv_y_pred = concatenate((y_pred, test_X[:, -reframed_demand_node16.shape[1]:]), axis=1)\n",
    "        y_pred_inverse = scaler.inverse_transform(inv_y_pred)\n",
    "        y_pred_inverse = y_pred_inverse[:,0]\n",
    "\n",
    "        # evaluate scaled errors\n",
    "        mae_inverse = mean_absolute_error(test_y_inverse, y_pred_inverse)\n",
    "        MAE.append(mae_inverse)\n",
    "        print(f'Run {run} Mean Absolute Error:', mae_inverse)\n",
    "    percentage_list = round(reframed_demand_node16.shape[1] / 96 * 100)\n",
    "    sensors_covered.append(percentage_list)\n",
    "    MAE_mean = mean(MAE)\n",
    "    max_MAE = max(MAE)\n",
    "    maximum_MAE.append(max_MAE)\n",
    "    MAE_average.append(MAE_mean)\n",
    "print('Length MAE_average: ', len(MAE_average))\n",
    "print('Length sensors_covered: ', len(sensors_covered))"
   ]
  },
  {
   "cell_type": "code",
   "execution_count": 28,
   "metadata": {},
   "outputs": [
    {
     "name": "stdout",
     "output_type": "stream",
     "text": [
      "starting df shape: (87600, 96)\n",
      "This is training run 1 and has the shape:  (87600, 96)\n",
      "The value of dropped columns is 0\n"
     ]
    },
    {
     "name": "stderr",
     "output_type": "stream",
     "text": [
      "/Users/alexellard/opt/anaconda3/lib/python3.7/site-packages/xgboost/data.py:96: UserWarning: Use subset (sliced data) of np.ndarray is not recommended because it will generate extra copies and increase memory consumption\n",
      "  \"because it will generate extra copies and increase \" +\n"
     ]
    },
    {
     "name": "stdout",
     "output_type": "stream",
     "text": [
      "Run 1 Mean Absolute Error: 45.364094\n",
      "This is training run 2 and has the shape:  (87600, 96)\n",
      "The value of dropped columns is 0\n"
     ]
    },
    {
     "name": "stderr",
     "output_type": "stream",
     "text": [
      "/Users/alexellard/opt/anaconda3/lib/python3.7/site-packages/xgboost/data.py:96: UserWarning: Use subset (sliced data) of np.ndarray is not recommended because it will generate extra copies and increase memory consumption\n",
      "  \"because it will generate extra copies and increase \" +\n"
     ]
    },
    {
     "name": "stdout",
     "output_type": "stream",
     "text": [
      "Run 2 Mean Absolute Error: 45.364094\n",
      "This is training run 3 and has the shape:  (87600, 96)\n",
      "The value of dropped columns is 0\n"
     ]
    },
    {
     "name": "stderr",
     "output_type": "stream",
     "text": [
      "/Users/alexellard/opt/anaconda3/lib/python3.7/site-packages/xgboost/data.py:96: UserWarning: Use subset (sliced data) of np.ndarray is not recommended because it will generate extra copies and increase memory consumption\n",
      "  \"because it will generate extra copies and increase \" +\n"
     ]
    },
    {
     "name": "stdout",
     "output_type": "stream",
     "text": [
      "Run 3 Mean Absolute Error: 45.364094\n",
      "This is training run 4 and has the shape:  (87600, 96)\n",
      "The value of dropped columns is 0\n"
     ]
    },
    {
     "name": "stderr",
     "output_type": "stream",
     "text": [
      "/Users/alexellard/opt/anaconda3/lib/python3.7/site-packages/xgboost/data.py:96: UserWarning: Use subset (sliced data) of np.ndarray is not recommended because it will generate extra copies and increase memory consumption\n",
      "  \"because it will generate extra copies and increase \" +\n"
     ]
    },
    {
     "name": "stdout",
     "output_type": "stream",
     "text": [
      "Run 4 Mean Absolute Error: 45.364094\n",
      "This is training run 5 and has the shape:  (87600, 96)\n",
      "The value of dropped columns is 0\n"
     ]
    },
    {
     "name": "stderr",
     "output_type": "stream",
     "text": [
      "/Users/alexellard/opt/anaconda3/lib/python3.7/site-packages/xgboost/data.py:96: UserWarning: Use subset (sliced data) of np.ndarray is not recommended because it will generate extra copies and increase memory consumption\n",
      "  \"because it will generate extra copies and increase \" +\n"
     ]
    },
    {
     "name": "stdout",
     "output_type": "stream",
     "text": [
      "Run 5 Mean Absolute Error: 45.364094\n",
      "This is training run 6 and has the shape:  (87600, 96)\n",
      "The value of dropped columns is 0\n"
     ]
    },
    {
     "name": "stderr",
     "output_type": "stream",
     "text": [
      "/Users/alexellard/opt/anaconda3/lib/python3.7/site-packages/xgboost/data.py:96: UserWarning: Use subset (sliced data) of np.ndarray is not recommended because it will generate extra copies and increase memory consumption\n",
      "  \"because it will generate extra copies and increase \" +\n"
     ]
    },
    {
     "name": "stdout",
     "output_type": "stream",
     "text": [
      "Run 6 Mean Absolute Error: 45.364094\n",
      "This is training run 7 and has the shape:  (87600, 96)\n",
      "The value of dropped columns is 0\n"
     ]
    },
    {
     "name": "stderr",
     "output_type": "stream",
     "text": [
      "/Users/alexellard/opt/anaconda3/lib/python3.7/site-packages/xgboost/data.py:96: UserWarning: Use subset (sliced data) of np.ndarray is not recommended because it will generate extra copies and increase memory consumption\n",
      "  \"because it will generate extra copies and increase \" +\n"
     ]
    },
    {
     "name": "stdout",
     "output_type": "stream",
     "text": [
      "Run 7 Mean Absolute Error: 45.364094\n",
      "This is training run 8 and has the shape:  (87600, 96)\n",
      "The value of dropped columns is 0\n"
     ]
    },
    {
     "name": "stderr",
     "output_type": "stream",
     "text": [
      "/Users/alexellard/opt/anaconda3/lib/python3.7/site-packages/xgboost/data.py:96: UserWarning: Use subset (sliced data) of np.ndarray is not recommended because it will generate extra copies and increase memory consumption\n",
      "  \"because it will generate extra copies and increase \" +\n"
     ]
    },
    {
     "name": "stdout",
     "output_type": "stream",
     "text": [
      "Run 8 Mean Absolute Error: 45.364094\n",
      "This is training run 9 and has the shape:  (87600, 96)\n",
      "The value of dropped columns is 0\n"
     ]
    },
    {
     "name": "stderr",
     "output_type": "stream",
     "text": [
      "/Users/alexellard/opt/anaconda3/lib/python3.7/site-packages/xgboost/data.py:96: UserWarning: Use subset (sliced data) of np.ndarray is not recommended because it will generate extra copies and increase memory consumption\n",
      "  \"because it will generate extra copies and increase \" +\n"
     ]
    },
    {
     "name": "stdout",
     "output_type": "stream",
     "text": [
      "Run 9 Mean Absolute Error: 45.364094\n",
      "This is training run 10 and has the shape:  (87600, 96)\n",
      "The value of dropped columns is 0\n"
     ]
    },
    {
     "name": "stderr",
     "output_type": "stream",
     "text": [
      "/Users/alexellard/opt/anaconda3/lib/python3.7/site-packages/xgboost/data.py:96: UserWarning: Use subset (sliced data) of np.ndarray is not recommended because it will generate extra copies and increase memory consumption\n",
      "  \"because it will generate extra copies and increase \" +\n"
     ]
    },
    {
     "name": "stdout",
     "output_type": "stream",
     "text": [
      "Run 10 Mean Absolute Error: 45.364094\n",
      "starting df shape: (87600, 91)\n",
      "This is training run 1 and has the shape:  (87600, 91)\n",
      "The value of dropped columns is 5\n"
     ]
    },
    {
     "name": "stderr",
     "output_type": "stream",
     "text": [
      "/Users/alexellard/opt/anaconda3/lib/python3.7/site-packages/xgboost/data.py:96: UserWarning: Use subset (sliced data) of np.ndarray is not recommended because it will generate extra copies and increase memory consumption\n",
      "  \"because it will generate extra copies and increase \" +\n"
     ]
    },
    {
     "name": "stdout",
     "output_type": "stream",
     "text": [
      "Run 1 Mean Absolute Error: 49.974495\n",
      "This is training run 2 and has the shape:  (87600, 91)\n",
      "The value of dropped columns is 5\n"
     ]
    },
    {
     "name": "stderr",
     "output_type": "stream",
     "text": [
      "/Users/alexellard/opt/anaconda3/lib/python3.7/site-packages/xgboost/data.py:96: UserWarning: Use subset (sliced data) of np.ndarray is not recommended because it will generate extra copies and increase memory consumption\n",
      "  \"because it will generate extra copies and increase \" +\n"
     ]
    },
    {
     "name": "stdout",
     "output_type": "stream",
     "text": [
      "Run 2 Mean Absolute Error: 49.974495\n",
      "This is training run 3 and has the shape:  (87600, 91)\n",
      "The value of dropped columns is 5\n"
     ]
    },
    {
     "name": "stderr",
     "output_type": "stream",
     "text": [
      "/Users/alexellard/opt/anaconda3/lib/python3.7/site-packages/xgboost/data.py:96: UserWarning: Use subset (sliced data) of np.ndarray is not recommended because it will generate extra copies and increase memory consumption\n",
      "  \"because it will generate extra copies and increase \" +\n"
     ]
    },
    {
     "name": "stdout",
     "output_type": "stream",
     "text": [
      "Run 3 Mean Absolute Error: 49.974495\n",
      "This is training run 4 and has the shape:  (87600, 91)\n",
      "The value of dropped columns is 5\n"
     ]
    },
    {
     "name": "stderr",
     "output_type": "stream",
     "text": [
      "/Users/alexellard/opt/anaconda3/lib/python3.7/site-packages/xgboost/data.py:96: UserWarning: Use subset (sliced data) of np.ndarray is not recommended because it will generate extra copies and increase memory consumption\n",
      "  \"because it will generate extra copies and increase \" +\n"
     ]
    },
    {
     "name": "stdout",
     "output_type": "stream",
     "text": [
      "Run 4 Mean Absolute Error: 49.974495\n",
      "This is training run 5 and has the shape:  (87600, 91)\n",
      "The value of dropped columns is 5\n"
     ]
    },
    {
     "name": "stderr",
     "output_type": "stream",
     "text": [
      "/Users/alexellard/opt/anaconda3/lib/python3.7/site-packages/xgboost/data.py:96: UserWarning: Use subset (sliced data) of np.ndarray is not recommended because it will generate extra copies and increase memory consumption\n",
      "  \"because it will generate extra copies and increase \" +\n"
     ]
    },
    {
     "name": "stdout",
     "output_type": "stream",
     "text": [
      "Run 5 Mean Absolute Error: 49.974495\n",
      "This is training run 6 and has the shape:  (87600, 91)\n",
      "The value of dropped columns is 5\n"
     ]
    },
    {
     "name": "stderr",
     "output_type": "stream",
     "text": [
      "/Users/alexellard/opt/anaconda3/lib/python3.7/site-packages/xgboost/data.py:96: UserWarning: Use subset (sliced data) of np.ndarray is not recommended because it will generate extra copies and increase memory consumption\n",
      "  \"because it will generate extra copies and increase \" +\n"
     ]
    },
    {
     "name": "stdout",
     "output_type": "stream",
     "text": [
      "Run 6 Mean Absolute Error: 49.974495\n",
      "This is training run 7 and has the shape:  (87600, 91)\n",
      "The value of dropped columns is 5\n"
     ]
    },
    {
     "name": "stderr",
     "output_type": "stream",
     "text": [
      "/Users/alexellard/opt/anaconda3/lib/python3.7/site-packages/xgboost/data.py:96: UserWarning: Use subset (sliced data) of np.ndarray is not recommended because it will generate extra copies and increase memory consumption\n",
      "  \"because it will generate extra copies and increase \" +\n"
     ]
    },
    {
     "name": "stdout",
     "output_type": "stream",
     "text": [
      "Run 7 Mean Absolute Error: 49.974495\n",
      "This is training run 8 and has the shape:  (87600, 91)\n",
      "The value of dropped columns is 5\n"
     ]
    },
    {
     "name": "stderr",
     "output_type": "stream",
     "text": [
      "/Users/alexellard/opt/anaconda3/lib/python3.7/site-packages/xgboost/data.py:96: UserWarning: Use subset (sliced data) of np.ndarray is not recommended because it will generate extra copies and increase memory consumption\n",
      "  \"because it will generate extra copies and increase \" +\n"
     ]
    },
    {
     "name": "stdout",
     "output_type": "stream",
     "text": [
      "Run 8 Mean Absolute Error: 49.974495\n",
      "This is training run 9 and has the shape:  (87600, 91)\n",
      "The value of dropped columns is 5\n"
     ]
    },
    {
     "name": "stderr",
     "output_type": "stream",
     "text": [
      "/Users/alexellard/opt/anaconda3/lib/python3.7/site-packages/xgboost/data.py:96: UserWarning: Use subset (sliced data) of np.ndarray is not recommended because it will generate extra copies and increase memory consumption\n",
      "  \"because it will generate extra copies and increase \" +\n"
     ]
    },
    {
     "name": "stdout",
     "output_type": "stream",
     "text": [
      "Run 9 Mean Absolute Error: 49.974495\n",
      "This is training run 10 and has the shape:  (87600, 91)\n",
      "The value of dropped columns is 5\n"
     ]
    },
    {
     "name": "stderr",
     "output_type": "stream",
     "text": [
      "/Users/alexellard/opt/anaconda3/lib/python3.7/site-packages/xgboost/data.py:96: UserWarning: Use subset (sliced data) of np.ndarray is not recommended because it will generate extra copies and increase memory consumption\n",
      "  \"because it will generate extra copies and increase \" +\n"
     ]
    },
    {
     "name": "stdout",
     "output_type": "stream",
     "text": [
      "Run 10 Mean Absolute Error: 49.974495\n",
      "starting df shape: (87600, 86)\n",
      "This is training run 1 and has the shape:  (87600, 86)\n",
      "The value of dropped columns is 10\n"
     ]
    },
    {
     "name": "stderr",
     "output_type": "stream",
     "text": [
      "/Users/alexellard/opt/anaconda3/lib/python3.7/site-packages/xgboost/data.py:96: UserWarning: Use subset (sliced data) of np.ndarray is not recommended because it will generate extra copies and increase memory consumption\n",
      "  \"because it will generate extra copies and increase \" +\n"
     ]
    },
    {
     "name": "stdout",
     "output_type": "stream",
     "text": [
      "Run 1 Mean Absolute Error: 2.9510317\n",
      "This is training run 2 and has the shape:  (87600, 86)\n",
      "The value of dropped columns is 10\n"
     ]
    },
    {
     "name": "stderr",
     "output_type": "stream",
     "text": [
      "/Users/alexellard/opt/anaconda3/lib/python3.7/site-packages/xgboost/data.py:96: UserWarning: Use subset (sliced data) of np.ndarray is not recommended because it will generate extra copies and increase memory consumption\n",
      "  \"because it will generate extra copies and increase \" +\n"
     ]
    },
    {
     "name": "stdout",
     "output_type": "stream",
     "text": [
      "Run 2 Mean Absolute Error: 2.9510317\n",
      "This is training run 3 and has the shape:  (87600, 86)\n",
      "The value of dropped columns is 10\n"
     ]
    },
    {
     "name": "stderr",
     "output_type": "stream",
     "text": [
      "/Users/alexellard/opt/anaconda3/lib/python3.7/site-packages/xgboost/data.py:96: UserWarning: Use subset (sliced data) of np.ndarray is not recommended because it will generate extra copies and increase memory consumption\n",
      "  \"because it will generate extra copies and increase \" +\n"
     ]
    },
    {
     "name": "stdout",
     "output_type": "stream",
     "text": [
      "Run 3 Mean Absolute Error: 2.9510317\n",
      "This is training run 4 and has the shape:  (87600, 86)\n",
      "The value of dropped columns is 10\n"
     ]
    },
    {
     "name": "stderr",
     "output_type": "stream",
     "text": [
      "/Users/alexellard/opt/anaconda3/lib/python3.7/site-packages/xgboost/data.py:96: UserWarning: Use subset (sliced data) of np.ndarray is not recommended because it will generate extra copies and increase memory consumption\n",
      "  \"because it will generate extra copies and increase \" +\n"
     ]
    },
    {
     "name": "stdout",
     "output_type": "stream",
     "text": [
      "Run 4 Mean Absolute Error: 2.9510317\n",
      "This is training run 5 and has the shape:  (87600, 86)\n",
      "The value of dropped columns is 10\n"
     ]
    },
    {
     "name": "stderr",
     "output_type": "stream",
     "text": [
      "/Users/alexellard/opt/anaconda3/lib/python3.7/site-packages/xgboost/data.py:96: UserWarning: Use subset (sliced data) of np.ndarray is not recommended because it will generate extra copies and increase memory consumption\n",
      "  \"because it will generate extra copies and increase \" +\n"
     ]
    },
    {
     "name": "stdout",
     "output_type": "stream",
     "text": [
      "Run 5 Mean Absolute Error: 2.9510317\n",
      "This is training run 6 and has the shape:  (87600, 86)\n",
      "The value of dropped columns is 10\n"
     ]
    },
    {
     "name": "stderr",
     "output_type": "stream",
     "text": [
      "/Users/alexellard/opt/anaconda3/lib/python3.7/site-packages/xgboost/data.py:96: UserWarning: Use subset (sliced data) of np.ndarray is not recommended because it will generate extra copies and increase memory consumption\n",
      "  \"because it will generate extra copies and increase \" +\n"
     ]
    },
    {
     "name": "stdout",
     "output_type": "stream",
     "text": [
      "Run 6 Mean Absolute Error: 2.9510317\n",
      "This is training run 7 and has the shape:  (87600, 86)\n",
      "The value of dropped columns is 10\n"
     ]
    },
    {
     "name": "stderr",
     "output_type": "stream",
     "text": [
      "/Users/alexellard/opt/anaconda3/lib/python3.7/site-packages/xgboost/data.py:96: UserWarning: Use subset (sliced data) of np.ndarray is not recommended because it will generate extra copies and increase memory consumption\n",
      "  \"because it will generate extra copies and increase \" +\n"
     ]
    },
    {
     "name": "stdout",
     "output_type": "stream",
     "text": [
      "Run 7 Mean Absolute Error: 2.9510317\n",
      "This is training run 8 and has the shape:  (87600, 86)\n",
      "The value of dropped columns is 10\n"
     ]
    },
    {
     "name": "stderr",
     "output_type": "stream",
     "text": [
      "/Users/alexellard/opt/anaconda3/lib/python3.7/site-packages/xgboost/data.py:96: UserWarning: Use subset (sliced data) of np.ndarray is not recommended because it will generate extra copies and increase memory consumption\n",
      "  \"because it will generate extra copies and increase \" +\n"
     ]
    },
    {
     "name": "stdout",
     "output_type": "stream",
     "text": [
      "Run 8 Mean Absolute Error: 2.9510317\n",
      "This is training run 9 and has the shape:  (87600, 86)\n",
      "The value of dropped columns is 10\n"
     ]
    },
    {
     "name": "stderr",
     "output_type": "stream",
     "text": [
      "/Users/alexellard/opt/anaconda3/lib/python3.7/site-packages/xgboost/data.py:96: UserWarning: Use subset (sliced data) of np.ndarray is not recommended because it will generate extra copies and increase memory consumption\n",
      "  \"because it will generate extra copies and increase \" +\n"
     ]
    },
    {
     "name": "stdout",
     "output_type": "stream",
     "text": [
      "Run 9 Mean Absolute Error: 2.9510317\n",
      "This is training run 10 and has the shape:  (87600, 86)\n",
      "The value of dropped columns is 10\n"
     ]
    },
    {
     "name": "stderr",
     "output_type": "stream",
     "text": [
      "/Users/alexellard/opt/anaconda3/lib/python3.7/site-packages/xgboost/data.py:96: UserWarning: Use subset (sliced data) of np.ndarray is not recommended because it will generate extra copies and increase memory consumption\n",
      "  \"because it will generate extra copies and increase \" +\n"
     ]
    },
    {
     "name": "stdout",
     "output_type": "stream",
     "text": [
      "Run 10 Mean Absolute Error: 2.9510317\n",
      "starting df shape: (87600, 81)\n",
      "This is training run 1 and has the shape:  (87600, 81)\n",
      "The value of dropped columns is 15\n"
     ]
    },
    {
     "name": "stderr",
     "output_type": "stream",
     "text": [
      "/Users/alexellard/opt/anaconda3/lib/python3.7/site-packages/xgboost/data.py:96: UserWarning: Use subset (sliced data) of np.ndarray is not recommended because it will generate extra copies and increase memory consumption\n",
      "  \"because it will generate extra copies and increase \" +\n"
     ]
    },
    {
     "name": "stdout",
     "output_type": "stream",
     "text": [
      "Run 1 Mean Absolute Error: 47.780415\n",
      "This is training run 2 and has the shape:  (87600, 81)\n",
      "The value of dropped columns is 15\n"
     ]
    },
    {
     "name": "stderr",
     "output_type": "stream",
     "text": [
      "/Users/alexellard/opt/anaconda3/lib/python3.7/site-packages/xgboost/data.py:96: UserWarning: Use subset (sliced data) of np.ndarray is not recommended because it will generate extra copies and increase memory consumption\n",
      "  \"because it will generate extra copies and increase \" +\n"
     ]
    },
    {
     "name": "stdout",
     "output_type": "stream",
     "text": [
      "Run 2 Mean Absolute Error: 47.780415\n",
      "This is training run 3 and has the shape:  (87600, 81)\n",
      "The value of dropped columns is 15\n"
     ]
    },
    {
     "name": "stderr",
     "output_type": "stream",
     "text": [
      "/Users/alexellard/opt/anaconda3/lib/python3.7/site-packages/xgboost/data.py:96: UserWarning: Use subset (sliced data) of np.ndarray is not recommended because it will generate extra copies and increase memory consumption\n",
      "  \"because it will generate extra copies and increase \" +\n"
     ]
    },
    {
     "name": "stdout",
     "output_type": "stream",
     "text": [
      "Run 3 Mean Absolute Error: 47.780415\n",
      "This is training run 4 and has the shape:  (87600, 81)\n",
      "The value of dropped columns is 15\n"
     ]
    },
    {
     "name": "stderr",
     "output_type": "stream",
     "text": [
      "/Users/alexellard/opt/anaconda3/lib/python3.7/site-packages/xgboost/data.py:96: UserWarning: Use subset (sliced data) of np.ndarray is not recommended because it will generate extra copies and increase memory consumption\n",
      "  \"because it will generate extra copies and increase \" +\n"
     ]
    },
    {
     "name": "stdout",
     "output_type": "stream",
     "text": [
      "Run 4 Mean Absolute Error: 47.780415\n",
      "This is training run 5 and has the shape:  (87600, 81)\n",
      "The value of dropped columns is 15\n"
     ]
    },
    {
     "name": "stderr",
     "output_type": "stream",
     "text": [
      "/Users/alexellard/opt/anaconda3/lib/python3.7/site-packages/xgboost/data.py:96: UserWarning: Use subset (sliced data) of np.ndarray is not recommended because it will generate extra copies and increase memory consumption\n",
      "  \"because it will generate extra copies and increase \" +\n"
     ]
    },
    {
     "name": "stdout",
     "output_type": "stream",
     "text": [
      "Run 5 Mean Absolute Error: 47.780415\n",
      "This is training run 6 and has the shape:  (87600, 81)\n",
      "The value of dropped columns is 15\n"
     ]
    },
    {
     "name": "stderr",
     "output_type": "stream",
     "text": [
      "/Users/alexellard/opt/anaconda3/lib/python3.7/site-packages/xgboost/data.py:96: UserWarning: Use subset (sliced data) of np.ndarray is not recommended because it will generate extra copies and increase memory consumption\n",
      "  \"because it will generate extra copies and increase \" +\n"
     ]
    },
    {
     "name": "stdout",
     "output_type": "stream",
     "text": [
      "Run 6 Mean Absolute Error: 47.780415\n",
      "This is training run 7 and has the shape:  (87600, 81)\n",
      "The value of dropped columns is 15\n"
     ]
    },
    {
     "name": "stderr",
     "output_type": "stream",
     "text": [
      "/Users/alexellard/opt/anaconda3/lib/python3.7/site-packages/xgboost/data.py:96: UserWarning: Use subset (sliced data) of np.ndarray is not recommended because it will generate extra copies and increase memory consumption\n",
      "  \"because it will generate extra copies and increase \" +\n"
     ]
    },
    {
     "name": "stdout",
     "output_type": "stream",
     "text": [
      "Run 7 Mean Absolute Error: 47.780415\n",
      "This is training run 8 and has the shape:  (87600, 81)\n",
      "The value of dropped columns is 15\n"
     ]
    },
    {
     "name": "stderr",
     "output_type": "stream",
     "text": [
      "/Users/alexellard/opt/anaconda3/lib/python3.7/site-packages/xgboost/data.py:96: UserWarning: Use subset (sliced data) of np.ndarray is not recommended because it will generate extra copies and increase memory consumption\n",
      "  \"because it will generate extra copies and increase \" +\n"
     ]
    },
    {
     "name": "stdout",
     "output_type": "stream",
     "text": [
      "Run 8 Mean Absolute Error: 47.780415\n",
      "This is training run 9 and has the shape:  (87600, 81)\n",
      "The value of dropped columns is 15\n"
     ]
    },
    {
     "name": "stderr",
     "output_type": "stream",
     "text": [
      "/Users/alexellard/opt/anaconda3/lib/python3.7/site-packages/xgboost/data.py:96: UserWarning: Use subset (sliced data) of np.ndarray is not recommended because it will generate extra copies and increase memory consumption\n",
      "  \"because it will generate extra copies and increase \" +\n"
     ]
    },
    {
     "name": "stdout",
     "output_type": "stream",
     "text": [
      "Run 9 Mean Absolute Error: 47.780415\n",
      "This is training run 10 and has the shape:  (87600, 81)\n",
      "The value of dropped columns is 15\n"
     ]
    },
    {
     "name": "stderr",
     "output_type": "stream",
     "text": [
      "/Users/alexellard/opt/anaconda3/lib/python3.7/site-packages/xgboost/data.py:96: UserWarning: Use subset (sliced data) of np.ndarray is not recommended because it will generate extra copies and increase memory consumption\n",
      "  \"because it will generate extra copies and increase \" +\n"
     ]
    },
    {
     "name": "stdout",
     "output_type": "stream",
     "text": [
      "Run 10 Mean Absolute Error: 47.780415\n",
      "starting df shape: (87600, 76)\n",
      "This is training run 1 and has the shape:  (87600, 76)\n",
      "The value of dropped columns is 20\n"
     ]
    },
    {
     "name": "stderr",
     "output_type": "stream",
     "text": [
      "/Users/alexellard/opt/anaconda3/lib/python3.7/site-packages/xgboost/data.py:96: UserWarning: Use subset (sliced data) of np.ndarray is not recommended because it will generate extra copies and increase memory consumption\n",
      "  \"because it will generate extra copies and increase \" +\n"
     ]
    },
    {
     "name": "stdout",
     "output_type": "stream",
     "text": [
      "Run 1 Mean Absolute Error: 2.8071547\n",
      "This is training run 2 and has the shape:  (87600, 76)\n",
      "The value of dropped columns is 20\n"
     ]
    },
    {
     "name": "stderr",
     "output_type": "stream",
     "text": [
      "/Users/alexellard/opt/anaconda3/lib/python3.7/site-packages/xgboost/data.py:96: UserWarning: Use subset (sliced data) of np.ndarray is not recommended because it will generate extra copies and increase memory consumption\n",
      "  \"because it will generate extra copies and increase \" +\n"
     ]
    },
    {
     "name": "stdout",
     "output_type": "stream",
     "text": [
      "Run 2 Mean Absolute Error: 2.8071547\n",
      "This is training run 3 and has the shape:  (87600, 76)\n",
      "The value of dropped columns is 20\n"
     ]
    },
    {
     "name": "stderr",
     "output_type": "stream",
     "text": [
      "/Users/alexellard/opt/anaconda3/lib/python3.7/site-packages/xgboost/data.py:96: UserWarning: Use subset (sliced data) of np.ndarray is not recommended because it will generate extra copies and increase memory consumption\n",
      "  \"because it will generate extra copies and increase \" +\n"
     ]
    },
    {
     "name": "stdout",
     "output_type": "stream",
     "text": [
      "Run 3 Mean Absolute Error: 2.8071547\n",
      "This is training run 4 and has the shape:  (87600, 76)\n",
      "The value of dropped columns is 20\n"
     ]
    },
    {
     "name": "stderr",
     "output_type": "stream",
     "text": [
      "/Users/alexellard/opt/anaconda3/lib/python3.7/site-packages/xgboost/data.py:96: UserWarning: Use subset (sliced data) of np.ndarray is not recommended because it will generate extra copies and increase memory consumption\n",
      "  \"because it will generate extra copies and increase \" +\n"
     ]
    },
    {
     "name": "stdout",
     "output_type": "stream",
     "text": [
      "Run 4 Mean Absolute Error: 2.8071547\n",
      "This is training run 5 and has the shape:  (87600, 76)\n",
      "The value of dropped columns is 20\n"
     ]
    },
    {
     "name": "stderr",
     "output_type": "stream",
     "text": [
      "/Users/alexellard/opt/anaconda3/lib/python3.7/site-packages/xgboost/data.py:96: UserWarning: Use subset (sliced data) of np.ndarray is not recommended because it will generate extra copies and increase memory consumption\n",
      "  \"because it will generate extra copies and increase \" +\n"
     ]
    },
    {
     "name": "stdout",
     "output_type": "stream",
     "text": [
      "Run 5 Mean Absolute Error: 2.8071547\n",
      "This is training run 6 and has the shape:  (87600, 76)\n",
      "The value of dropped columns is 20\n"
     ]
    },
    {
     "name": "stderr",
     "output_type": "stream",
     "text": [
      "/Users/alexellard/opt/anaconda3/lib/python3.7/site-packages/xgboost/data.py:96: UserWarning: Use subset (sliced data) of np.ndarray is not recommended because it will generate extra copies and increase memory consumption\n",
      "  \"because it will generate extra copies and increase \" +\n"
     ]
    },
    {
     "name": "stdout",
     "output_type": "stream",
     "text": [
      "Run 6 Mean Absolute Error: 2.8071547\n",
      "This is training run 7 and has the shape:  (87600, 76)\n",
      "The value of dropped columns is 20\n"
     ]
    },
    {
     "name": "stderr",
     "output_type": "stream",
     "text": [
      "/Users/alexellard/opt/anaconda3/lib/python3.7/site-packages/xgboost/data.py:96: UserWarning: Use subset (sliced data) of np.ndarray is not recommended because it will generate extra copies and increase memory consumption\n",
      "  \"because it will generate extra copies and increase \" +\n"
     ]
    },
    {
     "name": "stdout",
     "output_type": "stream",
     "text": [
      "Run 7 Mean Absolute Error: 2.8071547\n",
      "This is training run 8 and has the shape:  (87600, 76)\n",
      "The value of dropped columns is 20\n"
     ]
    },
    {
     "name": "stderr",
     "output_type": "stream",
     "text": [
      "/Users/alexellard/opt/anaconda3/lib/python3.7/site-packages/xgboost/data.py:96: UserWarning: Use subset (sliced data) of np.ndarray is not recommended because it will generate extra copies and increase memory consumption\n",
      "  \"because it will generate extra copies and increase \" +\n"
     ]
    },
    {
     "name": "stdout",
     "output_type": "stream",
     "text": [
      "Run 8 Mean Absolute Error: 2.8071547\n",
      "This is training run 9 and has the shape:  (87600, 76)\n",
      "The value of dropped columns is 20\n"
     ]
    },
    {
     "name": "stderr",
     "output_type": "stream",
     "text": [
      "/Users/alexellard/opt/anaconda3/lib/python3.7/site-packages/xgboost/data.py:96: UserWarning: Use subset (sliced data) of np.ndarray is not recommended because it will generate extra copies and increase memory consumption\n",
      "  \"because it will generate extra copies and increase \" +\n"
     ]
    },
    {
     "name": "stdout",
     "output_type": "stream",
     "text": [
      "Run 9 Mean Absolute Error: 2.8071547\n",
      "This is training run 10 and has the shape:  (87600, 76)\n",
      "The value of dropped columns is 20\n"
     ]
    },
    {
     "name": "stderr",
     "output_type": "stream",
     "text": [
      "/Users/alexellard/opt/anaconda3/lib/python3.7/site-packages/xgboost/data.py:96: UserWarning: Use subset (sliced data) of np.ndarray is not recommended because it will generate extra copies and increase memory consumption\n",
      "  \"because it will generate extra copies and increase \" +\n"
     ]
    },
    {
     "name": "stdout",
     "output_type": "stream",
     "text": [
      "Run 10 Mean Absolute Error: 2.8071547\n",
      "starting df shape: (87600, 71)\n",
      "This is training run 1 and has the shape:  (87600, 71)\n",
      "The value of dropped columns is 25\n"
     ]
    },
    {
     "name": "stderr",
     "output_type": "stream",
     "text": [
      "/Users/alexellard/opt/anaconda3/lib/python3.7/site-packages/xgboost/data.py:96: UserWarning: Use subset (sliced data) of np.ndarray is not recommended because it will generate extra copies and increase memory consumption\n",
      "  \"because it will generate extra copies and increase \" +\n"
     ]
    },
    {
     "name": "stdout",
     "output_type": "stream",
     "text": [
      "Run 1 Mean Absolute Error: 132.15463\n",
      "This is training run 2 and has the shape:  (87600, 71)\n",
      "The value of dropped columns is 25\n"
     ]
    },
    {
     "name": "stderr",
     "output_type": "stream",
     "text": [
      "/Users/alexellard/opt/anaconda3/lib/python3.7/site-packages/xgboost/data.py:96: UserWarning: Use subset (sliced data) of np.ndarray is not recommended because it will generate extra copies and increase memory consumption\n",
      "  \"because it will generate extra copies and increase \" +\n"
     ]
    },
    {
     "name": "stdout",
     "output_type": "stream",
     "text": [
      "Run 2 Mean Absolute Error: 132.15463\n",
      "This is training run 3 and has the shape:  (87600, 71)\n",
      "The value of dropped columns is 25\n"
     ]
    },
    {
     "name": "stderr",
     "output_type": "stream",
     "text": [
      "/Users/alexellard/opt/anaconda3/lib/python3.7/site-packages/xgboost/data.py:96: UserWarning: Use subset (sliced data) of np.ndarray is not recommended because it will generate extra copies and increase memory consumption\n",
      "  \"because it will generate extra copies and increase \" +\n"
     ]
    },
    {
     "name": "stdout",
     "output_type": "stream",
     "text": [
      "Run 3 Mean Absolute Error: 132.15463\n",
      "This is training run 4 and has the shape:  (87600, 71)\n",
      "The value of dropped columns is 25\n"
     ]
    },
    {
     "name": "stderr",
     "output_type": "stream",
     "text": [
      "/Users/alexellard/opt/anaconda3/lib/python3.7/site-packages/xgboost/data.py:96: UserWarning: Use subset (sliced data) of np.ndarray is not recommended because it will generate extra copies and increase memory consumption\n",
      "  \"because it will generate extra copies and increase \" +\n"
     ]
    },
    {
     "name": "stdout",
     "output_type": "stream",
     "text": [
      "Run 4 Mean Absolute Error: 132.15463\n",
      "This is training run 5 and has the shape:  (87600, 71)\n",
      "The value of dropped columns is 25\n"
     ]
    },
    {
     "name": "stderr",
     "output_type": "stream",
     "text": [
      "/Users/alexellard/opt/anaconda3/lib/python3.7/site-packages/xgboost/data.py:96: UserWarning: Use subset (sliced data) of np.ndarray is not recommended because it will generate extra copies and increase memory consumption\n",
      "  \"because it will generate extra copies and increase \" +\n"
     ]
    },
    {
     "name": "stdout",
     "output_type": "stream",
     "text": [
      "Run 5 Mean Absolute Error: 132.15463\n",
      "This is training run 6 and has the shape:  (87600, 71)\n",
      "The value of dropped columns is 25\n"
     ]
    },
    {
     "name": "stderr",
     "output_type": "stream",
     "text": [
      "/Users/alexellard/opt/anaconda3/lib/python3.7/site-packages/xgboost/data.py:96: UserWarning: Use subset (sliced data) of np.ndarray is not recommended because it will generate extra copies and increase memory consumption\n",
      "  \"because it will generate extra copies and increase \" +\n"
     ]
    },
    {
     "name": "stdout",
     "output_type": "stream",
     "text": [
      "Run 6 Mean Absolute Error: 132.15463\n",
      "This is training run 7 and has the shape:  (87600, 71)\n",
      "The value of dropped columns is 25\n"
     ]
    },
    {
     "name": "stderr",
     "output_type": "stream",
     "text": [
      "/Users/alexellard/opt/anaconda3/lib/python3.7/site-packages/xgboost/data.py:96: UserWarning: Use subset (sliced data) of np.ndarray is not recommended because it will generate extra copies and increase memory consumption\n",
      "  \"because it will generate extra copies and increase \" +\n"
     ]
    },
    {
     "name": "stdout",
     "output_type": "stream",
     "text": [
      "Run 7 Mean Absolute Error: 132.15463\n",
      "This is training run 8 and has the shape:  (87600, 71)\n",
      "The value of dropped columns is 25\n"
     ]
    },
    {
     "name": "stderr",
     "output_type": "stream",
     "text": [
      "/Users/alexellard/opt/anaconda3/lib/python3.7/site-packages/xgboost/data.py:96: UserWarning: Use subset (sliced data) of np.ndarray is not recommended because it will generate extra copies and increase memory consumption\n",
      "  \"because it will generate extra copies and increase \" +\n"
     ]
    },
    {
     "name": "stdout",
     "output_type": "stream",
     "text": [
      "Run 8 Mean Absolute Error: 132.15463\n",
      "This is training run 9 and has the shape:  (87600, 71)\n",
      "The value of dropped columns is 25\n"
     ]
    },
    {
     "name": "stderr",
     "output_type": "stream",
     "text": [
      "/Users/alexellard/opt/anaconda3/lib/python3.7/site-packages/xgboost/data.py:96: UserWarning: Use subset (sliced data) of np.ndarray is not recommended because it will generate extra copies and increase memory consumption\n",
      "  \"because it will generate extra copies and increase \" +\n"
     ]
    },
    {
     "name": "stdout",
     "output_type": "stream",
     "text": [
      "Run 9 Mean Absolute Error: 132.15463\n",
      "This is training run 10 and has the shape:  (87600, 71)\n",
      "The value of dropped columns is 25\n"
     ]
    },
    {
     "name": "stderr",
     "output_type": "stream",
     "text": [
      "/Users/alexellard/opt/anaconda3/lib/python3.7/site-packages/xgboost/data.py:96: UserWarning: Use subset (sliced data) of np.ndarray is not recommended because it will generate extra copies and increase memory consumption\n",
      "  \"because it will generate extra copies and increase \" +\n"
     ]
    },
    {
     "name": "stdout",
     "output_type": "stream",
     "text": [
      "Run 10 Mean Absolute Error: 132.15463\n",
      "Length MAE_average:  6\n",
      "Length sensors_covered:  6\n"
     ]
    }
   ],
   "source": [
    "MAE_average = []\n",
    "sensors_covered = []\n",
    "n_columns_to_drop = [0, 5, 10, 15, 20, 25, 30, 35, 40, 45, 50, 55, 60, 65, 70, 75, 80, 85, 90, 95]\n",
    "for n in n_columns_to_drop:\n",
    "    values = df.values\n",
    "    values = values.astype('float32')\n",
    "    reframed_demand_node16 = series_to_supervised(values, 1, 1, vars_to_predict=target_variable_demand_node16)\n",
    "    reframed_demand_node16 = reframed_demand_node16.drop(reframed_demand_node16.columns[16], axis=1)\n",
    "    MAE = []\n",
    "    #select random columns to drop\n",
    "    columns_to_drop = random.sample(list(reframed_demand_node16.columns), n)\n",
    "    # Drop the selected columns from the dataframe\n",
    "    if reframed_demand_node16.columns[-1] in columns_to_drop:\n",
    "        columns_to_drop.remove(reframed_demand_node16.columns[-1])\n",
    "    reframed_demand_node16.drop(columns_to_drop, axis=1, inplace=True)\n",
    "    print('starting df shape:', reframed_demand_node16.shape)\n",
    "    for run in range(1,11):\n",
    "        print(f'This is training run {run} and has the shape: ', reframed_demand_node16.shape)\n",
    "        print(f'The value of dropped columns is {n}')\n",
    "\n",
    "        # split into train and test sets\n",
    "        values = reframed_demand_node16.values\n",
    "        scaled = scaler.fit_transform(values)\n",
    "        train, test = train_test_split(scaled, test_size=0.2, random_state=0)\n",
    "\n",
    "        # split into input and outputs\n",
    "        train_X, train_y = train[:, :-1], train[:, -1]\n",
    "        test_X, test_y = test[:, :-1], test[:, -1]\n",
    "\n",
    "        #define model\n",
    "        model = xgb.XGBRegressor(\n",
    "            objective='reg:squarederror',\n",
    "            n_estimators=100,\n",
    "            max_depth=6,\n",
    "            learning_rate=0.1,\n",
    "            subsample=0.9,\n",
    "            colsample_bytree=0.8,\n",
    "            random_state=42\n",
    "        )\n",
    "\n",
    "        # fit the model on the training data\n",
    "        model.fit(train_X, train_y)\n",
    "\n",
    "        # make predictions on the test data\n",
    "        y_pred = model.predict(test_X)\n",
    "\n",
    "        test_y = test_y.reshape((len(test_y), 1))\n",
    "        inv_test_y = concatenate((test_y, test_X[:, -reframed_demand_node16.shape[1]:]), axis=1)\n",
    "        test_y_inverse = scaler.inverse_transform(inv_test_y)\n",
    "        test_y_inverse = test_y_inverse[:,0]\n",
    "\n",
    "        y_pred = y_pred.reshape((len(y_pred), 1))\n",
    "        inv_y_pred = concatenate((y_pred, test_X[:, -reframed_demand_node16.shape[1]:]), axis=1)\n",
    "        y_pred_inverse = scaler.inverse_transform(inv_y_pred)\n",
    "        y_pred_inverse = y_pred_inverse[:,0]\n",
    "\n",
    "        # evaluate scaled errors\n",
    "        mae_inverse = mean_absolute_error(test_y_inverse, y_pred_inverse)\n",
    "        MAE.append(mae_inverse)\n",
    "        print(f'Run {run} Mean Absolute Error:', mae_inverse)\n",
    "    percentage_list = round(reframed_demand_node16.shape[1] / 96 * 100)\n",
    "    sensors_covered.append(percentage_list)\n",
    "    MAE_mean = mean(MAE)\n",
    "    MAE_average.append(MAE_mean)\n",
    "print('Length MAE_average: ', len(MAE_average))\n",
    "print('Length sensors_covered: ', len(sensors_covered))"
   ]
  },
  {
   "cell_type": "code",
   "execution_count": null,
   "metadata": {},
   "outputs": [],
   "source": [
    "#results are the same as this is dropping the same sensors and then training 10 times - what about if each of the 10 training runs it drops seperate columns"
   ]
  },
  {
   "cell_type": "code",
   "execution_count": 29,
   "metadata": {},
   "outputs": [
    {
     "data": {
      "text/plain": [
       "[45.364094, 49.974495, 2.9510317, 47.780415, 2.8071547, 132.15463]"
      ]
     },
     "execution_count": 29,
     "metadata": {},
     "output_type": "execute_result"
    }
   ],
   "source": [
    "MAE_average"
   ]
  },
  {
   "cell_type": "code",
   "execution_count": 19,
   "metadata": {},
   "outputs": [
    {
     "data": {
      "text/plain": [
       "[100, 95, 91, 84, 79, 74]"
      ]
     },
     "execution_count": 19,
     "metadata": {},
     "output_type": "execute_result"
    }
   ],
   "source": [
    "sensors_covered"
   ]
  },
  {
   "cell_type": "code",
   "execution_count": 30,
   "metadata": {},
   "outputs": [
    {
     "data": {
      "image/png": "[encoded data removed]",
      "text/plain": [
       "<Figure size 432x288 with 1 Axes>"
      ]
     },
     "metadata": {
      "needs_background": "light"
     },
     "output_type": "display_data"
    }
   ],
   "source": [
    "plt.plot(sensors_covered, MAE_average)\n",
    "plt.ylabel(\"Mean Absolute Error\")\n",
    "plt.xlabel(\"Sensor Cover %\")\n",
    "plt.title(\"MAE vs. Coverage Demands Node 16\")\n",
    "plt.xlim([100, 0])\n",
    "plt.savefig('/Users/alexellard/Downloads/DemandsMAEnode16_10runs.png')\n",
    "plt.show()"
   ]
  },
  {
   "cell_type": "code",
   "execution_count": 21,
   "metadata": {},
   "outputs": [
    {
     "name": "stdout",
     "output_type": "stream",
     "text": [
      "starting df shape: (87600, 96)\n",
      "This is training run 1 and has the shape:  (87600, 96)\n",
      "The value of dropped columns is 0\n"
     ]
    },
    {
     "name": "stderr",
     "output_type": "stream",
     "text": [
      "/Users/alexellard/opt/anaconda3/lib/python3.7/site-packages/xgboost/data.py:96: UserWarning: Use subset (sliced data) of np.ndarray is not recommended because it will generate extra copies and increase memory consumption\n",
      "  \"because it will generate extra copies and increase \" +\n"
     ]
    },
    {
     "name": "stdout",
     "output_type": "stream",
     "text": [
      "Run 1 Mean Absolute Error: 45.364094\n",
      "This is training run 2 and has the shape:  (87600, 96)\n",
      "The value of dropped columns is 0\n"
     ]
    },
    {
     "name": "stderr",
     "output_type": "stream",
     "text": [
      "/Users/alexellard/opt/anaconda3/lib/python3.7/site-packages/xgboost/data.py:96: UserWarning: Use subset (sliced data) of np.ndarray is not recommended because it will generate extra copies and increase memory consumption\n",
      "  \"because it will generate extra copies and increase \" +\n"
     ]
    },
    {
     "name": "stdout",
     "output_type": "stream",
     "text": [
      "Run 2 Mean Absolute Error: 45.364094\n",
      "This is training run 3 and has the shape:  (87600, 96)\n",
      "The value of dropped columns is 0\n"
     ]
    },
    {
     "name": "stderr",
     "output_type": "stream",
     "text": [
      "/Users/alexellard/opt/anaconda3/lib/python3.7/site-packages/xgboost/data.py:96: UserWarning: Use subset (sliced data) of np.ndarray is not recommended because it will generate extra copies and increase memory consumption\n",
      "  \"because it will generate extra copies and increase \" +\n"
     ]
    },
    {
     "name": "stdout",
     "output_type": "stream",
     "text": [
      "Run 3 Mean Absolute Error: 45.364094\n",
      "This is training run 4 and has the shape:  (87600, 96)\n",
      "The value of dropped columns is 0\n"
     ]
    },
    {
     "name": "stderr",
     "output_type": "stream",
     "text": [
      "/Users/alexellard/opt/anaconda3/lib/python3.7/site-packages/xgboost/data.py:96: UserWarning: Use subset (sliced data) of np.ndarray is not recommended because it will generate extra copies and increase memory consumption\n",
      "  \"because it will generate extra copies and increase \" +\n"
     ]
    },
    {
     "name": "stdout",
     "output_type": "stream",
     "text": [
      "Run 4 Mean Absolute Error: 45.364094\n",
      "This is training run 5 and has the shape:  (87600, 96)\n",
      "The value of dropped columns is 0\n"
     ]
    },
    {
     "name": "stderr",
     "output_type": "stream",
     "text": [
      "/Users/alexellard/opt/anaconda3/lib/python3.7/site-packages/xgboost/data.py:96: UserWarning: Use subset (sliced data) of np.ndarray is not recommended because it will generate extra copies and increase memory consumption\n",
      "  \"because it will generate extra copies and increase \" +\n"
     ]
    },
    {
     "name": "stdout",
     "output_type": "stream",
     "text": [
      "Run 5 Mean Absolute Error: 45.364094\n",
      "This is training run 6 and has the shape:  (87600, 96)\n",
      "The value of dropped columns is 0\n"
     ]
    },
    {
     "name": "stderr",
     "output_type": "stream",
     "text": [
      "/Users/alexellard/opt/anaconda3/lib/python3.7/site-packages/xgboost/data.py:96: UserWarning: Use subset (sliced data) of np.ndarray is not recommended because it will generate extra copies and increase memory consumption\n",
      "  \"because it will generate extra copies and increase \" +\n"
     ]
    },
    {
     "name": "stdout",
     "output_type": "stream",
     "text": [
      "Run 6 Mean Absolute Error: 45.364094\n",
      "This is training run 7 and has the shape:  (87600, 96)\n",
      "The value of dropped columns is 0\n"
     ]
    },
    {
     "name": "stderr",
     "output_type": "stream",
     "text": [
      "/Users/alexellard/opt/anaconda3/lib/python3.7/site-packages/xgboost/data.py:96: UserWarning: Use subset (sliced data) of np.ndarray is not recommended because it will generate extra copies and increase memory consumption\n",
      "  \"because it will generate extra copies and increase \" +\n"
     ]
    },
    {
     "name": "stdout",
     "output_type": "stream",
     "text": [
      "Run 7 Mean Absolute Error: 45.364094\n",
      "This is training run 8 and has the shape:  (87600, 96)\n",
      "The value of dropped columns is 0\n"
     ]
    },
    {
     "name": "stderr",
     "output_type": "stream",
     "text": [
      "/Users/alexellard/opt/anaconda3/lib/python3.7/site-packages/xgboost/data.py:96: UserWarning: Use subset (sliced data) of np.ndarray is not recommended because it will generate extra copies and increase memory consumption\n",
      "  \"because it will generate extra copies and increase \" +\n"
     ]
    },
    {
     "name": "stdout",
     "output_type": "stream",
     "text": [
      "Run 8 Mean Absolute Error: 45.364094\n",
      "This is training run 9 and has the shape:  (87600, 96)\n",
      "The value of dropped columns is 0\n"
     ]
    },
    {
     "name": "stderr",
     "output_type": "stream",
     "text": [
      "/Users/alexellard/opt/anaconda3/lib/python3.7/site-packages/xgboost/data.py:96: UserWarning: Use subset (sliced data) of np.ndarray is not recommended because it will generate extra copies and increase memory consumption\n",
      "  \"because it will generate extra copies and increase \" +\n"
     ]
    },
    {
     "name": "stdout",
     "output_type": "stream",
     "text": [
      "Run 9 Mean Absolute Error: 45.364094\n",
      "This is training run 10 and has the shape:  (87600, 96)\n",
      "The value of dropped columns is 0\n"
     ]
    },
    {
     "name": "stderr",
     "output_type": "stream",
     "text": [
      "/Users/alexellard/opt/anaconda3/lib/python3.7/site-packages/xgboost/data.py:96: UserWarning: Use subset (sliced data) of np.ndarray is not recommended because it will generate extra copies and increase memory consumption\n",
      "  \"because it will generate extra copies and increase \" +\n"
     ]
    },
    {
     "name": "stdout",
     "output_type": "stream",
     "text": [
      "Run 10 Mean Absolute Error: 45.364094\n",
      "starting df shape: (87600, 86)\n",
      "This is training run 1 and has the shape:  (87600, 86)\n",
      "The value of dropped columns is 10\n"
     ]
    },
    {
     "name": "stderr",
     "output_type": "stream",
     "text": [
      "/Users/alexellard/opt/anaconda3/lib/python3.7/site-packages/xgboost/data.py:96: UserWarning: Use subset (sliced data) of np.ndarray is not recommended because it will generate extra copies and increase memory consumption\n",
      "  \"because it will generate extra copies and increase \" +\n"
     ]
    },
    {
     "name": "stdout",
     "output_type": "stream",
     "text": [
      "Run 1 Mean Absolute Error: 45.31398\n",
      "This is training run 2 and has the shape:  (87600, 86)\n",
      "The value of dropped columns is 10\n"
     ]
    },
    {
     "name": "stderr",
     "output_type": "stream",
     "text": [
      "/Users/alexellard/opt/anaconda3/lib/python3.7/site-packages/xgboost/data.py:96: UserWarning: Use subset (sliced data) of np.ndarray is not recommended because it will generate extra copies and increase memory consumption\n",
      "  \"because it will generate extra copies and increase \" +\n"
     ]
    },
    {
     "name": "stdout",
     "output_type": "stream",
     "text": [
      "Run 2 Mean Absolute Error: 45.31398\n",
      "This is training run 3 and has the shape:  (87600, 86)\n",
      "The value of dropped columns is 10\n"
     ]
    },
    {
     "name": "stderr",
     "output_type": "stream",
     "text": [
      "/Users/alexellard/opt/anaconda3/lib/python3.7/site-packages/xgboost/data.py:96: UserWarning: Use subset (sliced data) of np.ndarray is not recommended because it will generate extra copies and increase memory consumption\n",
      "  \"because it will generate extra copies and increase \" +\n"
     ]
    },
    {
     "name": "stdout",
     "output_type": "stream",
     "text": [
      "Run 3 Mean Absolute Error: 45.31398\n",
      "This is training run 4 and has the shape:  (87600, 86)\n",
      "The value of dropped columns is 10\n"
     ]
    },
    {
     "name": "stderr",
     "output_type": "stream",
     "text": [
      "/Users/alexellard/opt/anaconda3/lib/python3.7/site-packages/xgboost/data.py:96: UserWarning: Use subset (sliced data) of np.ndarray is not recommended because it will generate extra copies and increase memory consumption\n",
      "  \"because it will generate extra copies and increase \" +\n"
     ]
    },
    {
     "name": "stdout",
     "output_type": "stream",
     "text": [
      "Run 4 Mean Absolute Error: 45.31398\n",
      "This is training run 5 and has the shape:  (87600, 86)\n",
      "The value of dropped columns is 10\n"
     ]
    },
    {
     "name": "stderr",
     "output_type": "stream",
     "text": [
      "/Users/alexellard/opt/anaconda3/lib/python3.7/site-packages/xgboost/data.py:96: UserWarning: Use subset (sliced data) of np.ndarray is not recommended because it will generate extra copies and increase memory consumption\n",
      "  \"because it will generate extra copies and increase \" +\n"
     ]
    },
    {
     "name": "stdout",
     "output_type": "stream",
     "text": [
      "Run 5 Mean Absolute Error: 45.31398\n",
      "This is training run 6 and has the shape:  (87600, 86)\n",
      "The value of dropped columns is 10\n"
     ]
    },
    {
     "name": "stderr",
     "output_type": "stream",
     "text": [
      "/Users/alexellard/opt/anaconda3/lib/python3.7/site-packages/xgboost/data.py:96: UserWarning: Use subset (sliced data) of np.ndarray is not recommended because it will generate extra copies and increase memory consumption\n",
      "  \"because it will generate extra copies and increase \" +\n"
     ]
    },
    {
     "name": "stdout",
     "output_type": "stream",
     "text": [
      "Run 6 Mean Absolute Error: 45.31398\n",
      "This is training run 7 and has the shape:  (87600, 86)\n",
      "The value of dropped columns is 10\n"
     ]
    },
    {
     "name": "stderr",
     "output_type": "stream",
     "text": [
      "/Users/alexellard/opt/anaconda3/lib/python3.7/site-packages/xgboost/data.py:96: UserWarning: Use subset (sliced data) of np.ndarray is not recommended because it will generate extra copies and increase memory consumption\n",
      "  \"because it will generate extra copies and increase \" +\n"
     ]
    },
    {
     "name": "stdout",
     "output_type": "stream",
     "text": [
      "Run 7 Mean Absolute Error: 45.31398\n",
      "This is training run 8 and has the shape:  (87600, 86)\n",
      "The value of dropped columns is 10\n"
     ]
    },
    {
     "name": "stderr",
     "output_type": "stream",
     "text": [
      "/Users/alexellard/opt/anaconda3/lib/python3.7/site-packages/xgboost/data.py:96: UserWarning: Use subset (sliced data) of np.ndarray is not recommended because it will generate extra copies and increase memory consumption\n",
      "  \"because it will generate extra copies and increase \" +\n"
     ]
    },
    {
     "name": "stdout",
     "output_type": "stream",
     "text": [
      "Run 8 Mean Absolute Error: 45.31398\n",
      "This is training run 9 and has the shape:  (87600, 86)\n",
      "The value of dropped columns is 10\n"
     ]
    },
    {
     "name": "stderr",
     "output_type": "stream",
     "text": [
      "/Users/alexellard/opt/anaconda3/lib/python3.7/site-packages/xgboost/data.py:96: UserWarning: Use subset (sliced data) of np.ndarray is not recommended because it will generate extra copies and increase memory consumption\n",
      "  \"because it will generate extra copies and increase \" +\n"
     ]
    },
    {
     "name": "stdout",
     "output_type": "stream",
     "text": [
      "Run 9 Mean Absolute Error: 45.31398\n",
      "This is training run 10 and has the shape:  (87600, 86)\n",
      "The value of dropped columns is 10\n"
     ]
    },
    {
     "name": "stderr",
     "output_type": "stream",
     "text": [
      "/Users/alexellard/opt/anaconda3/lib/python3.7/site-packages/xgboost/data.py:96: UserWarning: Use subset (sliced data) of np.ndarray is not recommended because it will generate extra copies and increase memory consumption\n",
      "  \"because it will generate extra copies and increase \" +\n"
     ]
    },
    {
     "name": "stdout",
     "output_type": "stream",
     "text": [
      "Run 10 Mean Absolute Error: 45.31398\n",
      "starting df shape: (87600, 76)\n",
      "This is training run 1 and has the shape:  (87600, 76)\n",
      "The value of dropped columns is 20\n"
     ]
    },
    {
     "name": "stderr",
     "output_type": "stream",
     "text": [
      "/Users/alexellard/opt/anaconda3/lib/python3.7/site-packages/xgboost/data.py:96: UserWarning: Use subset (sliced data) of np.ndarray is not recommended because it will generate extra copies and increase memory consumption\n",
      "  \"because it will generate extra copies and increase \" +\n"
     ]
    },
    {
     "name": "stdout",
     "output_type": "stream",
     "text": [
      "Run 1 Mean Absolute Error: 49.42645\n",
      "This is training run 2 and has the shape:  (87600, 76)\n",
      "The value of dropped columns is 20\n"
     ]
    },
    {
     "name": "stderr",
     "output_type": "stream",
     "text": [
      "/Users/alexellard/opt/anaconda3/lib/python3.7/site-packages/xgboost/data.py:96: UserWarning: Use subset (sliced data) of np.ndarray is not recommended because it will generate extra copies and increase memory consumption\n",
      "  \"because it will generate extra copies and increase \" +\n"
     ]
    },
    {
     "name": "stdout",
     "output_type": "stream",
     "text": [
      "Run 2 Mean Absolute Error: 49.42645\n",
      "This is training run 3 and has the shape:  (87600, 76)\n",
      "The value of dropped columns is 20\n"
     ]
    },
    {
     "name": "stderr",
     "output_type": "stream",
     "text": [
      "/Users/alexellard/opt/anaconda3/lib/python3.7/site-packages/xgboost/data.py:96: UserWarning: Use subset (sliced data) of np.ndarray is not recommended because it will generate extra copies and increase memory consumption\n",
      "  \"because it will generate extra copies and increase \" +\n"
     ]
    },
    {
     "name": "stdout",
     "output_type": "stream",
     "text": [
      "Run 3 Mean Absolute Error: 49.42645\n",
      "This is training run 4 and has the shape:  (87600, 76)\n",
      "The value of dropped columns is 20\n"
     ]
    },
    {
     "name": "stderr",
     "output_type": "stream",
     "text": [
      "/Users/alexellard/opt/anaconda3/lib/python3.7/site-packages/xgboost/data.py:96: UserWarning: Use subset (sliced data) of np.ndarray is not recommended because it will generate extra copies and increase memory consumption\n",
      "  \"because it will generate extra copies and increase \" +\n"
     ]
    },
    {
     "name": "stdout",
     "output_type": "stream",
     "text": [
      "Run 4 Mean Absolute Error: 49.42645\n",
      "This is training run 5 and has the shape:  (87600, 76)\n",
      "The value of dropped columns is 20\n"
     ]
    },
    {
     "name": "stderr",
     "output_type": "stream",
     "text": [
      "/Users/alexellard/opt/anaconda3/lib/python3.7/site-packages/xgboost/data.py:96: UserWarning: Use subset (sliced data) of np.ndarray is not recommended because it will generate extra copies and increase memory consumption\n",
      "  \"because it will generate extra copies and increase \" +\n"
     ]
    },
    {
     "name": "stdout",
     "output_type": "stream",
     "text": [
      "Run 5 Mean Absolute Error: 49.42645\n",
      "This is training run 6 and has the shape:  (87600, 76)\n",
      "The value of dropped columns is 20\n"
     ]
    },
    {
     "name": "stderr",
     "output_type": "stream",
     "text": [
      "/Users/alexellard/opt/anaconda3/lib/python3.7/site-packages/xgboost/data.py:96: UserWarning: Use subset (sliced data) of np.ndarray is not recommended because it will generate extra copies and increase memory consumption\n",
      "  \"because it will generate extra copies and increase \" +\n"
     ]
    },
    {
     "name": "stdout",
     "output_type": "stream",
     "text": [
      "Run 6 Mean Absolute Error: 49.42645\n",
      "This is training run 7 and has the shape:  (87600, 76)\n",
      "The value of dropped columns is 20\n"
     ]
    },
    {
     "name": "stderr",
     "output_type": "stream",
     "text": [
      "/Users/alexellard/opt/anaconda3/lib/python3.7/site-packages/xgboost/data.py:96: UserWarning: Use subset (sliced data) of np.ndarray is not recommended because it will generate extra copies and increase memory consumption\n",
      "  \"because it will generate extra copies and increase \" +\n"
     ]
    },
    {
     "name": "stdout",
     "output_type": "stream",
     "text": [
      "Run 7 Mean Absolute Error: 49.42645\n",
      "This is training run 8 and has the shape:  (87600, 76)\n",
      "The value of dropped columns is 20\n"
     ]
    },
    {
     "name": "stderr",
     "output_type": "stream",
     "text": [
      "/Users/alexellard/opt/anaconda3/lib/python3.7/site-packages/xgboost/data.py:96: UserWarning: Use subset (sliced data) of np.ndarray is not recommended because it will generate extra copies and increase memory consumption\n",
      "  \"because it will generate extra copies and increase \" +\n"
     ]
    },
    {
     "name": "stdout",
     "output_type": "stream",
     "text": [
      "Run 8 Mean Absolute Error: 49.42645\n",
      "This is training run 9 and has the shape:  (87600, 76)\n",
      "The value of dropped columns is 20\n"
     ]
    },
    {
     "name": "stderr",
     "output_type": "stream",
     "text": [
      "/Users/alexellard/opt/anaconda3/lib/python3.7/site-packages/xgboost/data.py:96: UserWarning: Use subset (sliced data) of np.ndarray is not recommended because it will generate extra copies and increase memory consumption\n",
      "  \"because it will generate extra copies and increase \" +\n"
     ]
    },
    {
     "name": "stdout",
     "output_type": "stream",
     "text": [
      "Run 9 Mean Absolute Error: 49.42645\n",
      "This is training run 10 and has the shape:  (87600, 76)\n",
      "The value of dropped columns is 20\n"
     ]
    },
    {
     "name": "stderr",
     "output_type": "stream",
     "text": [
      "/Users/alexellard/opt/anaconda3/lib/python3.7/site-packages/xgboost/data.py:96: UserWarning: Use subset (sliced data) of np.ndarray is not recommended because it will generate extra copies and increase memory consumption\n",
      "  \"because it will generate extra copies and increase \" +\n"
     ]
    },
    {
     "name": "stdout",
     "output_type": "stream",
     "text": [
      "Run 10 Mean Absolute Error: 49.42645\n",
      "starting df shape: (87600, 66)\n",
      "This is training run 1 and has the shape:  (87600, 66)\n",
      "The value of dropped columns is 30\n"
     ]
    },
    {
     "name": "stderr",
     "output_type": "stream",
     "text": [
      "/Users/alexellard/opt/anaconda3/lib/python3.7/site-packages/xgboost/data.py:96: UserWarning: Use subset (sliced data) of np.ndarray is not recommended because it will generate extra copies and increase memory consumption\n",
      "  \"because it will generate extra copies and increase \" +\n"
     ]
    },
    {
     "name": "stdout",
     "output_type": "stream",
     "text": [
      "Run 1 Mean Absolute Error: 46.91177\n",
      "This is training run 2 and has the shape:  (87600, 66)\n",
      "The value of dropped columns is 30\n"
     ]
    },
    {
     "name": "stderr",
     "output_type": "stream",
     "text": [
      "/Users/alexellard/opt/anaconda3/lib/python3.7/site-packages/xgboost/data.py:96: UserWarning: Use subset (sliced data) of np.ndarray is not recommended because it will generate extra copies and increase memory consumption\n",
      "  \"because it will generate extra copies and increase \" +\n"
     ]
    },
    {
     "name": "stdout",
     "output_type": "stream",
     "text": [
      "Run 2 Mean Absolute Error: 46.91177\n",
      "This is training run 3 and has the shape:  (87600, 66)\n",
      "The value of dropped columns is 30\n"
     ]
    },
    {
     "name": "stderr",
     "output_type": "stream",
     "text": [
      "/Users/alexellard/opt/anaconda3/lib/python3.7/site-packages/xgboost/data.py:96: UserWarning: Use subset (sliced data) of np.ndarray is not recommended because it will generate extra copies and increase memory consumption\n",
      "  \"because it will generate extra copies and increase \" +\n"
     ]
    },
    {
     "name": "stdout",
     "output_type": "stream",
     "text": [
      "Run 3 Mean Absolute Error: 46.91177\n",
      "This is training run 4 and has the shape:  (87600, 66)\n",
      "The value of dropped columns is 30\n"
     ]
    },
    {
     "name": "stderr",
     "output_type": "stream",
     "text": [
      "/Users/alexellard/opt/anaconda3/lib/python3.7/site-packages/xgboost/data.py:96: UserWarning: Use subset (sliced data) of np.ndarray is not recommended because it will generate extra copies and increase memory consumption\n",
      "  \"because it will generate extra copies and increase \" +\n"
     ]
    },
    {
     "name": "stdout",
     "output_type": "stream",
     "text": [
      "Run 4 Mean Absolute Error: 46.91177\n",
      "This is training run 5 and has the shape:  (87600, 66)\n",
      "The value of dropped columns is 30\n"
     ]
    },
    {
     "name": "stderr",
     "output_type": "stream",
     "text": [
      "/Users/alexellard/opt/anaconda3/lib/python3.7/site-packages/xgboost/data.py:96: UserWarning: Use subset (sliced data) of np.ndarray is not recommended because it will generate extra copies and increase memory consumption\n",
      "  \"because it will generate extra copies and increase \" +\n"
     ]
    },
    {
     "name": "stdout",
     "output_type": "stream",
     "text": [
      "Run 5 Mean Absolute Error: 46.91177\n",
      "This is training run 6 and has the shape:  (87600, 66)\n",
      "The value of dropped columns is 30\n"
     ]
    },
    {
     "name": "stderr",
     "output_type": "stream",
     "text": [
      "/Users/alexellard/opt/anaconda3/lib/python3.7/site-packages/xgboost/data.py:96: UserWarning: Use subset (sliced data) of np.ndarray is not recommended because it will generate extra copies and increase memory consumption\n",
      "  \"because it will generate extra copies and increase \" +\n"
     ]
    },
    {
     "name": "stdout",
     "output_type": "stream",
     "text": [
      "Run 6 Mean Absolute Error: 46.91177\n",
      "This is training run 7 and has the shape:  (87600, 66)\n",
      "The value of dropped columns is 30\n"
     ]
    },
    {
     "name": "stderr",
     "output_type": "stream",
     "text": [
      "/Users/alexellard/opt/anaconda3/lib/python3.7/site-packages/xgboost/data.py:96: UserWarning: Use subset (sliced data) of np.ndarray is not recommended because it will generate extra copies and increase memory consumption\n",
      "  \"because it will generate extra copies and increase \" +\n"
     ]
    },
    {
     "name": "stdout",
     "output_type": "stream",
     "text": [
      "Run 7 Mean Absolute Error: 46.91177\n",
      "This is training run 8 and has the shape:  (87600, 66)\n",
      "The value of dropped columns is 30\n"
     ]
    },
    {
     "name": "stderr",
     "output_type": "stream",
     "text": [
      "/Users/alexellard/opt/anaconda3/lib/python3.7/site-packages/xgboost/data.py:96: UserWarning: Use subset (sliced data) of np.ndarray is not recommended because it will generate extra copies and increase memory consumption\n",
      "  \"because it will generate extra copies and increase \" +\n"
     ]
    },
    {
     "name": "stdout",
     "output_type": "stream",
     "text": [
      "Run 8 Mean Absolute Error: 46.91177\n",
      "This is training run 9 and has the shape:  (87600, 66)\n",
      "The value of dropped columns is 30\n"
     ]
    },
    {
     "name": "stderr",
     "output_type": "stream",
     "text": [
      "/Users/alexellard/opt/anaconda3/lib/python3.7/site-packages/xgboost/data.py:96: UserWarning: Use subset (sliced data) of np.ndarray is not recommended because it will generate extra copies and increase memory consumption\n",
      "  \"because it will generate extra copies and increase \" +\n"
     ]
    },
    {
     "name": "stdout",
     "output_type": "stream",
     "text": [
      "Run 9 Mean Absolute Error: 46.91177\n",
      "This is training run 10 and has the shape:  (87600, 66)\n",
      "The value of dropped columns is 30\n"
     ]
    },
    {
     "name": "stderr",
     "output_type": "stream",
     "text": [
      "/Users/alexellard/opt/anaconda3/lib/python3.7/site-packages/xgboost/data.py:96: UserWarning: Use subset (sliced data) of np.ndarray is not recommended because it will generate extra copies and increase memory consumption\n",
      "  \"because it will generate extra copies and increase \" +\n"
     ]
    },
    {
     "name": "stdout",
     "output_type": "stream",
     "text": [
      "Run 10 Mean Absolute Error: 46.91177\n",
      "starting df shape: (87600, 56)\n",
      "This is training run 1 and has the shape:  (87600, 56)\n",
      "The value of dropped columns is 40\n"
     ]
    },
    {
     "name": "stderr",
     "output_type": "stream",
     "text": [
      "/Users/alexellard/opt/anaconda3/lib/python3.7/site-packages/xgboost/data.py:96: UserWarning: Use subset (sliced data) of np.ndarray is not recommended because it will generate extra copies and increase memory consumption\n",
      "  \"because it will generate extra copies and increase \" +\n"
     ]
    },
    {
     "name": "stdout",
     "output_type": "stream",
     "text": [
      "Run 1 Mean Absolute Error: 75.240265\n",
      "This is training run 2 and has the shape:  (87600, 56)\n",
      "The value of dropped columns is 40\n"
     ]
    },
    {
     "name": "stderr",
     "output_type": "stream",
     "text": [
      "/Users/alexellard/opt/anaconda3/lib/python3.7/site-packages/xgboost/data.py:96: UserWarning: Use subset (sliced data) of np.ndarray is not recommended because it will generate extra copies and increase memory consumption\n",
      "  \"because it will generate extra copies and increase \" +\n"
     ]
    },
    {
     "name": "stdout",
     "output_type": "stream",
     "text": [
      "Run 2 Mean Absolute Error: 75.240265\n",
      "This is training run 3 and has the shape:  (87600, 56)\n",
      "The value of dropped columns is 40\n"
     ]
    },
    {
     "name": "stderr",
     "output_type": "stream",
     "text": [
      "/Users/alexellard/opt/anaconda3/lib/python3.7/site-packages/xgboost/data.py:96: UserWarning: Use subset (sliced data) of np.ndarray is not recommended because it will generate extra copies and increase memory consumption\n",
      "  \"because it will generate extra copies and increase \" +\n"
     ]
    },
    {
     "name": "stdout",
     "output_type": "stream",
     "text": [
      "Run 3 Mean Absolute Error: 75.240265\n",
      "This is training run 4 and has the shape:  (87600, 56)\n",
      "The value of dropped columns is 40\n"
     ]
    },
    {
     "name": "stderr",
     "output_type": "stream",
     "text": [
      "/Users/alexellard/opt/anaconda3/lib/python3.7/site-packages/xgboost/data.py:96: UserWarning: Use subset (sliced data) of np.ndarray is not recommended because it will generate extra copies and increase memory consumption\n",
      "  \"because it will generate extra copies and increase \" +\n"
     ]
    },
    {
     "name": "stdout",
     "output_type": "stream",
     "text": [
      "Run 4 Mean Absolute Error: 75.240265\n",
      "This is training run 5 and has the shape:  (87600, 56)\n",
      "The value of dropped columns is 40\n"
     ]
    },
    {
     "name": "stderr",
     "output_type": "stream",
     "text": [
      "/Users/alexellard/opt/anaconda3/lib/python3.7/site-packages/xgboost/data.py:96: UserWarning: Use subset (sliced data) of np.ndarray is not recommended because it will generate extra copies and increase memory consumption\n",
      "  \"because it will generate extra copies and increase \" +\n"
     ]
    },
    {
     "name": "stdout",
     "output_type": "stream",
     "text": [
      "Run 5 Mean Absolute Error: 75.240265\n",
      "This is training run 6 and has the shape:  (87600, 56)\n",
      "The value of dropped columns is 40\n"
     ]
    },
    {
     "name": "stderr",
     "output_type": "stream",
     "text": [
      "/Users/alexellard/opt/anaconda3/lib/python3.7/site-packages/xgboost/data.py:96: UserWarning: Use subset (sliced data) of np.ndarray is not recommended because it will generate extra copies and increase memory consumption\n",
      "  \"because it will generate extra copies and increase \" +\n"
     ]
    },
    {
     "name": "stdout",
     "output_type": "stream",
     "text": [
      "Run 6 Mean Absolute Error: 75.240265\n",
      "This is training run 7 and has the shape:  (87600, 56)\n",
      "The value of dropped columns is 40\n"
     ]
    },
    {
     "name": "stderr",
     "output_type": "stream",
     "text": [
      "/Users/alexellard/opt/anaconda3/lib/python3.7/site-packages/xgboost/data.py:96: UserWarning: Use subset (sliced data) of np.ndarray is not recommended because it will generate extra copies and increase memory consumption\n",
      "  \"because it will generate extra copies and increase \" +\n"
     ]
    },
    {
     "name": "stdout",
     "output_type": "stream",
     "text": [
      "Run 7 Mean Absolute Error: 75.240265\n",
      "This is training run 8 and has the shape:  (87600, 56)\n",
      "The value of dropped columns is 40\n"
     ]
    },
    {
     "name": "stderr",
     "output_type": "stream",
     "text": [
      "/Users/alexellard/opt/anaconda3/lib/python3.7/site-packages/xgboost/data.py:96: UserWarning: Use subset (sliced data) of np.ndarray is not recommended because it will generate extra copies and increase memory consumption\n",
      "  \"because it will generate extra copies and increase \" +\n"
     ]
    },
    {
     "name": "stdout",
     "output_type": "stream",
     "text": [
      "Run 8 Mean Absolute Error: 75.240265\n",
      "This is training run 9 and has the shape:  (87600, 56)\n",
      "The value of dropped columns is 40\n"
     ]
    },
    {
     "name": "stderr",
     "output_type": "stream",
     "text": [
      "/Users/alexellard/opt/anaconda3/lib/python3.7/site-packages/xgboost/data.py:96: UserWarning: Use subset (sliced data) of np.ndarray is not recommended because it will generate extra copies and increase memory consumption\n",
      "  \"because it will generate extra copies and increase \" +\n"
     ]
    },
    {
     "name": "stdout",
     "output_type": "stream",
     "text": [
      "Run 9 Mean Absolute Error: 75.240265\n",
      "This is training run 10 and has the shape:  (87600, 56)\n",
      "The value of dropped columns is 40\n"
     ]
    },
    {
     "name": "stderr",
     "output_type": "stream",
     "text": [
      "/Users/alexellard/opt/anaconda3/lib/python3.7/site-packages/xgboost/data.py:96: UserWarning: Use subset (sliced data) of np.ndarray is not recommended because it will generate extra copies and increase memory consumption\n",
      "  \"because it will generate extra copies and increase \" +\n"
     ]
    },
    {
     "name": "stdout",
     "output_type": "stream",
     "text": [
      "Run 10 Mean Absolute Error: 75.240265\n",
      "starting df shape: (87600, 47)\n",
      "This is training run 1 and has the shape:  (87600, 47)\n",
      "The value of dropped columns is 50\n"
     ]
    },
    {
     "name": "stderr",
     "output_type": "stream",
     "text": [
      "/Users/alexellard/opt/anaconda3/lib/python3.7/site-packages/xgboost/data.py:96: UserWarning: Use subset (sliced data) of np.ndarray is not recommended because it will generate extra copies and increase memory consumption\n",
      "  \"because it will generate extra copies and increase \" +\n"
     ]
    },
    {
     "name": "stdout",
     "output_type": "stream",
     "text": [
      "Run 1 Mean Absolute Error: 4.786814\n",
      "This is training run 2 and has the shape:  (87600, 47)\n",
      "The value of dropped columns is 50\n"
     ]
    },
    {
     "name": "stderr",
     "output_type": "stream",
     "text": [
      "/Users/alexellard/opt/anaconda3/lib/python3.7/site-packages/xgboost/data.py:96: UserWarning: Use subset (sliced data) of np.ndarray is not recommended because it will generate extra copies and increase memory consumption\n",
      "  \"because it will generate extra copies and increase \" +\n"
     ]
    },
    {
     "name": "stdout",
     "output_type": "stream",
     "text": [
      "Run 2 Mean Absolute Error: 4.786814\n",
      "This is training run 3 and has the shape:  (87600, 47)\n",
      "The value of dropped columns is 50\n"
     ]
    },
    {
     "name": "stderr",
     "output_type": "stream",
     "text": [
      "/Users/alexellard/opt/anaconda3/lib/python3.7/site-packages/xgboost/data.py:96: UserWarning: Use subset (sliced data) of np.ndarray is not recommended because it will generate extra copies and increase memory consumption\n",
      "  \"because it will generate extra copies and increase \" +\n"
     ]
    },
    {
     "name": "stdout",
     "output_type": "stream",
     "text": [
      "Run 3 Mean Absolute Error: 4.786814\n",
      "This is training run 4 and has the shape:  (87600, 47)\n",
      "The value of dropped columns is 50\n"
     ]
    },
    {
     "name": "stderr",
     "output_type": "stream",
     "text": [
      "/Users/alexellard/opt/anaconda3/lib/python3.7/site-packages/xgboost/data.py:96: UserWarning: Use subset (sliced data) of np.ndarray is not recommended because it will generate extra copies and increase memory consumption\n",
      "  \"because it will generate extra copies and increase \" +\n"
     ]
    },
    {
     "name": "stdout",
     "output_type": "stream",
     "text": [
      "Run 4 Mean Absolute Error: 4.786814\n",
      "This is training run 5 and has the shape:  (87600, 47)\n",
      "The value of dropped columns is 50\n"
     ]
    },
    {
     "name": "stderr",
     "output_type": "stream",
     "text": [
      "/Users/alexellard/opt/anaconda3/lib/python3.7/site-packages/xgboost/data.py:96: UserWarning: Use subset (sliced data) of np.ndarray is not recommended because it will generate extra copies and increase memory consumption\n",
      "  \"because it will generate extra copies and increase \" +\n"
     ]
    },
    {
     "name": "stdout",
     "output_type": "stream",
     "text": [
      "Run 5 Mean Absolute Error: 4.786814\n",
      "This is training run 6 and has the shape:  (87600, 47)\n",
      "The value of dropped columns is 50\n"
     ]
    },
    {
     "name": "stderr",
     "output_type": "stream",
     "text": [
      "/Users/alexellard/opt/anaconda3/lib/python3.7/site-packages/xgboost/data.py:96: UserWarning: Use subset (sliced data) of np.ndarray is not recommended because it will generate extra copies and increase memory consumption\n",
      "  \"because it will generate extra copies and increase \" +\n"
     ]
    },
    {
     "name": "stdout",
     "output_type": "stream",
     "text": [
      "Run 6 Mean Absolute Error: 4.786814\n",
      "This is training run 7 and has the shape:  (87600, 47)\n",
      "The value of dropped columns is 50\n"
     ]
    },
    {
     "name": "stderr",
     "output_type": "stream",
     "text": [
      "/Users/alexellard/opt/anaconda3/lib/python3.7/site-packages/xgboost/data.py:96: UserWarning: Use subset (sliced data) of np.ndarray is not recommended because it will generate extra copies and increase memory consumption\n",
      "  \"because it will generate extra copies and increase \" +\n"
     ]
    },
    {
     "name": "stdout",
     "output_type": "stream",
     "text": [
      "Run 7 Mean Absolute Error: 4.786814\n",
      "This is training run 8 and has the shape:  (87600, 47)\n",
      "The value of dropped columns is 50\n"
     ]
    },
    {
     "name": "stderr",
     "output_type": "stream",
     "text": [
      "/Users/alexellard/opt/anaconda3/lib/python3.7/site-packages/xgboost/data.py:96: UserWarning: Use subset (sliced data) of np.ndarray is not recommended because it will generate extra copies and increase memory consumption\n",
      "  \"because it will generate extra copies and increase \" +\n"
     ]
    },
    {
     "name": "stdout",
     "output_type": "stream",
     "text": [
      "Run 8 Mean Absolute Error: 4.786814\n",
      "This is training run 9 and has the shape:  (87600, 47)\n",
      "The value of dropped columns is 50\n"
     ]
    },
    {
     "name": "stderr",
     "output_type": "stream",
     "text": [
      "/Users/alexellard/opt/anaconda3/lib/python3.7/site-packages/xgboost/data.py:96: UserWarning: Use subset (sliced data) of np.ndarray is not recommended because it will generate extra copies and increase memory consumption\n",
      "  \"because it will generate extra copies and increase \" +\n"
     ]
    },
    {
     "name": "stdout",
     "output_type": "stream",
     "text": [
      "Run 9 Mean Absolute Error: 4.786814\n",
      "This is training run 10 and has the shape:  (87600, 47)\n",
      "The value of dropped columns is 50\n"
     ]
    },
    {
     "name": "stderr",
     "output_type": "stream",
     "text": [
      "/Users/alexellard/opt/anaconda3/lib/python3.7/site-packages/xgboost/data.py:96: UserWarning: Use subset (sliced data) of np.ndarray is not recommended because it will generate extra copies and increase memory consumption\n",
      "  \"because it will generate extra copies and increase \" +\n"
     ]
    },
    {
     "name": "stdout",
     "output_type": "stream",
     "text": [
      "Run 10 Mean Absolute Error: 4.786814\n",
      "starting df shape: (87600, 37)\n",
      "This is training run 1 and has the shape:  (87600, 37)\n",
      "The value of dropped columns is 60\n"
     ]
    },
    {
     "name": "stderr",
     "output_type": "stream",
     "text": [
      "/Users/alexellard/opt/anaconda3/lib/python3.7/site-packages/xgboost/data.py:96: UserWarning: Use subset (sliced data) of np.ndarray is not recommended because it will generate extra copies and increase memory consumption\n",
      "  \"because it will generate extra copies and increase \" +\n"
     ]
    },
    {
     "name": "stdout",
     "output_type": "stream",
     "text": [
      "Run 1 Mean Absolute Error: 8.659328\n",
      "This is training run 2 and has the shape:  (87600, 37)\n",
      "The value of dropped columns is 60\n"
     ]
    },
    {
     "name": "stderr",
     "output_type": "stream",
     "text": [
      "/Users/alexellard/opt/anaconda3/lib/python3.7/site-packages/xgboost/data.py:96: UserWarning: Use subset (sliced data) of np.ndarray is not recommended because it will generate extra copies and increase memory consumption\n",
      "  \"because it will generate extra copies and increase \" +\n"
     ]
    },
    {
     "name": "stdout",
     "output_type": "stream",
     "text": [
      "Run 2 Mean Absolute Error: 8.659328\n",
      "This is training run 3 and has the shape:  (87600, 37)\n",
      "The value of dropped columns is 60\n"
     ]
    },
    {
     "name": "stderr",
     "output_type": "stream",
     "text": [
      "/Users/alexellard/opt/anaconda3/lib/python3.7/site-packages/xgboost/data.py:96: UserWarning: Use subset (sliced data) of np.ndarray is not recommended because it will generate extra copies and increase memory consumption\n",
      "  \"because it will generate extra copies and increase \" +\n"
     ]
    },
    {
     "name": "stdout",
     "output_type": "stream",
     "text": [
      "Run 3 Mean Absolute Error: 8.659328\n",
      "This is training run 4 and has the shape:  (87600, 37)\n",
      "The value of dropped columns is 60\n"
     ]
    },
    {
     "name": "stderr",
     "output_type": "stream",
     "text": [
      "/Users/alexellard/opt/anaconda3/lib/python3.7/site-packages/xgboost/data.py:96: UserWarning: Use subset (sliced data) of np.ndarray is not recommended because it will generate extra copies and increase memory consumption\n",
      "  \"because it will generate extra copies and increase \" +\n"
     ]
    },
    {
     "name": "stdout",
     "output_type": "stream",
     "text": [
      "Run 4 Mean Absolute Error: 8.659328\n",
      "This is training run 5 and has the shape:  (87600, 37)\n",
      "The value of dropped columns is 60\n"
     ]
    },
    {
     "name": "stderr",
     "output_type": "stream",
     "text": [
      "/Users/alexellard/opt/anaconda3/lib/python3.7/site-packages/xgboost/data.py:96: UserWarning: Use subset (sliced data) of np.ndarray is not recommended because it will generate extra copies and increase memory consumption\n",
      "  \"because it will generate extra copies and increase \" +\n"
     ]
    },
    {
     "name": "stdout",
     "output_type": "stream",
     "text": [
      "Run 5 Mean Absolute Error: 8.659328\n",
      "This is training run 6 and has the shape:  (87600, 37)\n",
      "The value of dropped columns is 60\n"
     ]
    },
    {
     "name": "stderr",
     "output_type": "stream",
     "text": [
      "/Users/alexellard/opt/anaconda3/lib/python3.7/site-packages/xgboost/data.py:96: UserWarning: Use subset (sliced data) of np.ndarray is not recommended because it will generate extra copies and increase memory consumption\n",
      "  \"because it will generate extra copies and increase \" +\n"
     ]
    },
    {
     "name": "stdout",
     "output_type": "stream",
     "text": [
      "Run 6 Mean Absolute Error: 8.659328\n",
      "This is training run 7 and has the shape:  (87600, 37)\n",
      "The value of dropped columns is 60\n"
     ]
    },
    {
     "name": "stderr",
     "output_type": "stream",
     "text": [
      "/Users/alexellard/opt/anaconda3/lib/python3.7/site-packages/xgboost/data.py:96: UserWarning: Use subset (sliced data) of np.ndarray is not recommended because it will generate extra copies and increase memory consumption\n",
      "  \"because it will generate extra copies and increase \" +\n"
     ]
    },
    {
     "name": "stdout",
     "output_type": "stream",
     "text": [
      "Run 7 Mean Absolute Error: 8.659328\n",
      "This is training run 8 and has the shape:  (87600, 37)\n",
      "The value of dropped columns is 60\n"
     ]
    },
    {
     "name": "stderr",
     "output_type": "stream",
     "text": [
      "/Users/alexellard/opt/anaconda3/lib/python3.7/site-packages/xgboost/data.py:96: UserWarning: Use subset (sliced data) of np.ndarray is not recommended because it will generate extra copies and increase memory consumption\n",
      "  \"because it will generate extra copies and increase \" +\n"
     ]
    },
    {
     "name": "stdout",
     "output_type": "stream",
     "text": [
      "Run 8 Mean Absolute Error: 8.659328\n",
      "This is training run 9 and has the shape:  (87600, 37)\n",
      "The value of dropped columns is 60\n"
     ]
    },
    {
     "name": "stderr",
     "output_type": "stream",
     "text": [
      "/Users/alexellard/opt/anaconda3/lib/python3.7/site-packages/xgboost/data.py:96: UserWarning: Use subset (sliced data) of np.ndarray is not recommended because it will generate extra copies and increase memory consumption\n",
      "  \"because it will generate extra copies and increase \" +\n"
     ]
    },
    {
     "name": "stdout",
     "output_type": "stream",
     "text": [
      "Run 9 Mean Absolute Error: 8.659328\n",
      "This is training run 10 and has the shape:  (87600, 37)\n",
      "The value of dropped columns is 60\n"
     ]
    },
    {
     "name": "stderr",
     "output_type": "stream",
     "text": [
      "/Users/alexellard/opt/anaconda3/lib/python3.7/site-packages/xgboost/data.py:96: UserWarning: Use subset (sliced data) of np.ndarray is not recommended because it will generate extra copies and increase memory consumption\n",
      "  \"because it will generate extra copies and increase \" +\n"
     ]
    },
    {
     "name": "stdout",
     "output_type": "stream",
     "text": [
      "Run 10 Mean Absolute Error: 8.659328\n",
      "starting df shape: (87600, 27)\n",
      "This is training run 1 and has the shape:  (87600, 27)\n",
      "The value of dropped columns is 70\n"
     ]
    },
    {
     "name": "stderr",
     "output_type": "stream",
     "text": [
      "/Users/alexellard/opt/anaconda3/lib/python3.7/site-packages/xgboost/data.py:96: UserWarning: Use subset (sliced data) of np.ndarray is not recommended because it will generate extra copies and increase memory consumption\n",
      "  \"because it will generate extra copies and increase \" +\n"
     ]
    },
    {
     "name": "stdout",
     "output_type": "stream",
     "text": [
      "Run 1 Mean Absolute Error: 1.216334\n",
      "This is training run 2 and has the shape:  (87600, 27)\n",
      "The value of dropped columns is 70\n"
     ]
    },
    {
     "name": "stderr",
     "output_type": "stream",
     "text": [
      "/Users/alexellard/opt/anaconda3/lib/python3.7/site-packages/xgboost/data.py:96: UserWarning: Use subset (sliced data) of np.ndarray is not recommended because it will generate extra copies and increase memory consumption\n",
      "  \"because it will generate extra copies and increase \" +\n"
     ]
    },
    {
     "name": "stdout",
     "output_type": "stream",
     "text": [
      "Run 2 Mean Absolute Error: 1.216334\n",
      "This is training run 3 and has the shape:  (87600, 27)\n",
      "The value of dropped columns is 70\n"
     ]
    },
    {
     "name": "stderr",
     "output_type": "stream",
     "text": [
      "/Users/alexellard/opt/anaconda3/lib/python3.7/site-packages/xgboost/data.py:96: UserWarning: Use subset (sliced data) of np.ndarray is not recommended because it will generate extra copies and increase memory consumption\n",
      "  \"because it will generate extra copies and increase \" +\n"
     ]
    },
    {
     "name": "stdout",
     "output_type": "stream",
     "text": [
      "Run 3 Mean Absolute Error: 1.216334\n",
      "This is training run 4 and has the shape:  (87600, 27)\n",
      "The value of dropped columns is 70\n"
     ]
    },
    {
     "name": "stderr",
     "output_type": "stream",
     "text": [
      "/Users/alexellard/opt/anaconda3/lib/python3.7/site-packages/xgboost/data.py:96: UserWarning: Use subset (sliced data) of np.ndarray is not recommended because it will generate extra copies and increase memory consumption\n",
      "  \"because it will generate extra copies and increase \" +\n"
     ]
    },
    {
     "name": "stdout",
     "output_type": "stream",
     "text": [
      "Run 4 Mean Absolute Error: 1.216334\n",
      "This is training run 5 and has the shape:  (87600, 27)\n",
      "The value of dropped columns is 70\n"
     ]
    },
    {
     "name": "stderr",
     "output_type": "stream",
     "text": [
      "/Users/alexellard/opt/anaconda3/lib/python3.7/site-packages/xgboost/data.py:96: UserWarning: Use subset (sliced data) of np.ndarray is not recommended because it will generate extra copies and increase memory consumption\n",
      "  \"because it will generate extra copies and increase \" +\n"
     ]
    },
    {
     "name": "stdout",
     "output_type": "stream",
     "text": [
      "Run 5 Mean Absolute Error: 1.216334\n",
      "This is training run 6 and has the shape:  (87600, 27)\n",
      "The value of dropped columns is 70\n"
     ]
    },
    {
     "name": "stderr",
     "output_type": "stream",
     "text": [
      "/Users/alexellard/opt/anaconda3/lib/python3.7/site-packages/xgboost/data.py:96: UserWarning: Use subset (sliced data) of np.ndarray is not recommended because it will generate extra copies and increase memory consumption\n",
      "  \"because it will generate extra copies and increase \" +\n"
     ]
    },
    {
     "name": "stdout",
     "output_type": "stream",
     "text": [
      "Run 6 Mean Absolute Error: 1.216334\n",
      "This is training run 7 and has the shape:  (87600, 27)\n",
      "The value of dropped columns is 70\n"
     ]
    },
    {
     "name": "stderr",
     "output_type": "stream",
     "text": [
      "/Users/alexellard/opt/anaconda3/lib/python3.7/site-packages/xgboost/data.py:96: UserWarning: Use subset (sliced data) of np.ndarray is not recommended because it will generate extra copies and increase memory consumption\n",
      "  \"because it will generate extra copies and increase \" +\n"
     ]
    },
    {
     "name": "stdout",
     "output_type": "stream",
     "text": [
      "Run 7 Mean Absolute Error: 1.216334\n",
      "This is training run 8 and has the shape:  (87600, 27)\n",
      "The value of dropped columns is 70\n"
     ]
    },
    {
     "name": "stderr",
     "output_type": "stream",
     "text": [
      "/Users/alexellard/opt/anaconda3/lib/python3.7/site-packages/xgboost/data.py:96: UserWarning: Use subset (sliced data) of np.ndarray is not recommended because it will generate extra copies and increase memory consumption\n",
      "  \"because it will generate extra copies and increase \" +\n"
     ]
    },
    {
     "name": "stdout",
     "output_type": "stream",
     "text": [
      "Run 8 Mean Absolute Error: 1.216334\n",
      "This is training run 9 and has the shape:  (87600, 27)\n",
      "The value of dropped columns is 70\n"
     ]
    },
    {
     "name": "stderr",
     "output_type": "stream",
     "text": [
      "/Users/alexellard/opt/anaconda3/lib/python3.7/site-packages/xgboost/data.py:96: UserWarning: Use subset (sliced data) of np.ndarray is not recommended because it will generate extra copies and increase memory consumption\n",
      "  \"because it will generate extra copies and increase \" +\n"
     ]
    },
    {
     "name": "stdout",
     "output_type": "stream",
     "text": [
      "Run 9 Mean Absolute Error: 1.216334\n",
      "This is training run 10 and has the shape:  (87600, 27)\n",
      "The value of dropped columns is 70\n"
     ]
    },
    {
     "name": "stderr",
     "output_type": "stream",
     "text": [
      "/Users/alexellard/opt/anaconda3/lib/python3.7/site-packages/xgboost/data.py:96: UserWarning: Use subset (sliced data) of np.ndarray is not recommended because it will generate extra copies and increase memory consumption\n",
      "  \"because it will generate extra copies and increase \" +\n"
     ]
    },
    {
     "name": "stdout",
     "output_type": "stream",
     "text": [
      "Run 10 Mean Absolute Error: 1.216334\n",
      "starting df shape: (87600, 17)\n",
      "This is training run 1 and has the shape:  (87600, 17)\n",
      "The value of dropped columns is 80\n"
     ]
    },
    {
     "name": "stderr",
     "output_type": "stream",
     "text": [
      "/Users/alexellard/opt/anaconda3/lib/python3.7/site-packages/xgboost/data.py:96: UserWarning: Use subset (sliced data) of np.ndarray is not recommended because it will generate extra copies and increase memory consumption\n",
      "  \"because it will generate extra copies and increase \" +\n"
     ]
    },
    {
     "name": "stdout",
     "output_type": "stream",
     "text": [
      "Run 1 Mean Absolute Error: 10.203991\n",
      "This is training run 2 and has the shape:  (87600, 17)\n",
      "The value of dropped columns is 80\n"
     ]
    },
    {
     "name": "stderr",
     "output_type": "stream",
     "text": [
      "/Users/alexellard/opt/anaconda3/lib/python3.7/site-packages/xgboost/data.py:96: UserWarning: Use subset (sliced data) of np.ndarray is not recommended because it will generate extra copies and increase memory consumption\n",
      "  \"because it will generate extra copies and increase \" +\n"
     ]
    },
    {
     "name": "stdout",
     "output_type": "stream",
     "text": [
      "Run 2 Mean Absolute Error: 10.203991\n",
      "This is training run 3 and has the shape:  (87600, 17)\n",
      "The value of dropped columns is 80\n"
     ]
    },
    {
     "name": "stderr",
     "output_type": "stream",
     "text": [
      "/Users/alexellard/opt/anaconda3/lib/python3.7/site-packages/xgboost/data.py:96: UserWarning: Use subset (sliced data) of np.ndarray is not recommended because it will generate extra copies and increase memory consumption\n",
      "  \"because it will generate extra copies and increase \" +\n"
     ]
    },
    {
     "name": "stdout",
     "output_type": "stream",
     "text": [
      "Run 3 Mean Absolute Error: 10.203991\n",
      "This is training run 4 and has the shape:  (87600, 17)\n",
      "The value of dropped columns is 80\n"
     ]
    },
    {
     "name": "stderr",
     "output_type": "stream",
     "text": [
      "/Users/alexellard/opt/anaconda3/lib/python3.7/site-packages/xgboost/data.py:96: UserWarning: Use subset (sliced data) of np.ndarray is not recommended because it will generate extra copies and increase memory consumption\n",
      "  \"because it will generate extra copies and increase \" +\n"
     ]
    },
    {
     "name": "stdout",
     "output_type": "stream",
     "text": [
      "Run 4 Mean Absolute Error: 10.203991\n",
      "This is training run 5 and has the shape:  (87600, 17)\n",
      "The value of dropped columns is 80\n"
     ]
    },
    {
     "name": "stderr",
     "output_type": "stream",
     "text": [
      "/Users/alexellard/opt/anaconda3/lib/python3.7/site-packages/xgboost/data.py:96: UserWarning: Use subset (sliced data) of np.ndarray is not recommended because it will generate extra copies and increase memory consumption\n",
      "  \"because it will generate extra copies and increase \" +\n"
     ]
    },
    {
     "name": "stdout",
     "output_type": "stream",
     "text": [
      "Run 5 Mean Absolute Error: 10.203991\n",
      "This is training run 6 and has the shape:  (87600, 17)\n",
      "The value of dropped columns is 80\n"
     ]
    },
    {
     "name": "stderr",
     "output_type": "stream",
     "text": [
      "/Users/alexellard/opt/anaconda3/lib/python3.7/site-packages/xgboost/data.py:96: UserWarning: Use subset (sliced data) of np.ndarray is not recommended because it will generate extra copies and increase memory consumption\n",
      "  \"because it will generate extra copies and increase \" +\n"
     ]
    },
    {
     "name": "stdout",
     "output_type": "stream",
     "text": [
      "Run 6 Mean Absolute Error: 10.203991\n",
      "This is training run 7 and has the shape:  (87600, 17)\n",
      "The value of dropped columns is 80\n"
     ]
    },
    {
     "name": "stderr",
     "output_type": "stream",
     "text": [
      "/Users/alexellard/opt/anaconda3/lib/python3.7/site-packages/xgboost/data.py:96: UserWarning: Use subset (sliced data) of np.ndarray is not recommended because it will generate extra copies and increase memory consumption\n",
      "  \"because it will generate extra copies and increase \" +\n"
     ]
    },
    {
     "name": "stdout",
     "output_type": "stream",
     "text": [
      "Run 7 Mean Absolute Error: 10.203991\n",
      "This is training run 8 and has the shape:  (87600, 17)\n",
      "The value of dropped columns is 80\n"
     ]
    },
    {
     "name": "stderr",
     "output_type": "stream",
     "text": [
      "/Users/alexellard/opt/anaconda3/lib/python3.7/site-packages/xgboost/data.py:96: UserWarning: Use subset (sliced data) of np.ndarray is not recommended because it will generate extra copies and increase memory consumption\n",
      "  \"because it will generate extra copies and increase \" +\n"
     ]
    },
    {
     "name": "stdout",
     "output_type": "stream",
     "text": [
      "Run 8 Mean Absolute Error: 10.203991\n",
      "This is training run 9 and has the shape:  (87600, 17)\n",
      "The value of dropped columns is 80\n"
     ]
    },
    {
     "name": "stderr",
     "output_type": "stream",
     "text": [
      "/Users/alexellard/opt/anaconda3/lib/python3.7/site-packages/xgboost/data.py:96: UserWarning: Use subset (sliced data) of np.ndarray is not recommended because it will generate extra copies and increase memory consumption\n",
      "  \"because it will generate extra copies and increase \" +\n"
     ]
    },
    {
     "name": "stdout",
     "output_type": "stream",
     "text": [
      "Run 9 Mean Absolute Error: 10.203991\n",
      "This is training run 10 and has the shape:  (87600, 17)\n",
      "The value of dropped columns is 80\n"
     ]
    },
    {
     "name": "stderr",
     "output_type": "stream",
     "text": [
      "/Users/alexellard/opt/anaconda3/lib/python3.7/site-packages/xgboost/data.py:96: UserWarning: Use subset (sliced data) of np.ndarray is not recommended because it will generate extra copies and increase memory consumption\n",
      "  \"because it will generate extra copies and increase \" +\n"
     ]
    },
    {
     "name": "stdout",
     "output_type": "stream",
     "text": [
      "Run 10 Mean Absolute Error: 10.203991\n",
      "Length MAE_average:  9\n",
      "Length sensors_covered:  9\n"
     ]
    }
   ],
   "source": [
    "MAE_average = []\n",
    "sensors_covered = []\n",
    "n_columns_to_drop = [0, 10, 20, 30, 40, 50, 60, 70, 80]\n",
    "for n in n_columns_to_drop:\n",
    "    values = df.values\n",
    "    values = values.astype('float32')\n",
    "    reframed_demand_node16 = series_to_supervised(values, 1, 1, vars_to_predict=target_variable_demand_node16)\n",
    "    reframed_demand_node16 = reframed_demand_node16.drop(reframed_demand_node16.columns[16], axis=1)\n",
    "    MAE = []\n",
    "    #select random columns to drop\n",
    "    columns_to_drop = random.sample(list(reframed_demand_node16.columns), n)\n",
    "    # Drop the selected columns from the dataframe\n",
    "    if reframed_demand_node16.columns[-1] in columns_to_drop:\n",
    "        columns_to_drop.remove(reframed_demand_node16.columns[-1])\n",
    "    reframed_demand_node16.drop(columns_to_drop, axis=1, inplace=True)\n",
    "    print('starting df shape:', reframed_demand_node16.shape)\n",
    "    for run in range(1,11):\n",
    "        print(f'This is training run {run} and has the shape: ', reframed_demand_node16.shape)\n",
    "        print(f'The value of dropped columns is {n}')\n",
    "\n",
    "        # split into train and test sets\n",
    "        values = reframed_demand_node16.values\n",
    "        scaled = scaler.fit_transform(values)\n",
    "        train, test = train_test_split(scaled, test_size=0.2, random_state=0)\n",
    "\n",
    "        # split into input and outputs\n",
    "        train_X, train_y = train[:, :-1], train[:, -1]\n",
    "        test_X, test_y = test[:, :-1], test[:, -1]\n",
    "\n",
    "        #define model\n",
    "        model = xgb.XGBRegressor(\n",
    "            objective='reg:squarederror',\n",
    "            n_estimators=100,\n",
    "            max_depth=6,\n",
    "            learning_rate=0.1,\n",
    "            subsample=0.9,\n",
    "            colsample_bytree=0.8,\n",
    "            random_state=42\n",
    "        )\n",
    "\n",
    "        # fit the model on the training data\n",
    "        model.fit(train_X, train_y)\n",
    "\n",
    "        # make predictions on the test data\n",
    "        y_pred = model.predict(test_X)\n",
    "\n",
    "        test_y = test_y.reshape((len(test_y), 1))\n",
    "        inv_test_y = concatenate((test_y, test_X[:, -reframed_demand_node16.shape[1]:]), axis=1)\n",
    "        test_y_inverse = scaler.inverse_transform(inv_test_y)\n",
    "        test_y_inverse = test_y_inverse[:,0]\n",
    "\n",
    "        y_pred = y_pred.reshape((len(y_pred), 1))\n",
    "        inv_y_pred = concatenate((y_pred, test_X[:, -reframed_demand_node16.shape[1]:]), axis=1)\n",
    "        y_pred_inverse = scaler.inverse_transform(inv_y_pred)\n",
    "        y_pred_inverse = y_pred_inverse[:,0]\n",
    "\n",
    "        # evaluate scaled errors\n",
    "        mae_inverse = mean_absolute_error(test_y_inverse, y_pred_inverse)\n",
    "        MAE.append(mae_inverse)\n",
    "        print(f'Run {run} Mean Absolute Error:', mae_inverse)\n",
    "    percentage_list = round(reframed_demand_node16.shape[1] / 96 * 100)\n",
    "    sensors_covered.append(percentage_list)\n",
    "    MAE_mean = mean(MAE)\n",
    "    MAE_average.append(MAE_mean)\n",
    "print('Length MAE_average: ', len(MAE_average))\n",
    "print('Length sensors_covered: ', len(sensors_covered))"
   ]
  },
  {
   "cell_type": "code",
   "execution_count": 22,
   "metadata": {},
   "outputs": [
    {
     "data": {
      "text/plain": [
       "[45.364094,\n",
       " 45.31398,\n",
       " 49.42645,\n",
       " 46.91177,\n",
       " 75.240265,\n",
       " 4.786814,\n",
       " 8.659328,\n",
       " 1.216334,\n",
       " 10.203991]"
      ]
     },
     "execution_count": 22,
     "metadata": {},
     "output_type": "execute_result"
    }
   ],
   "source": [
    "MAE_average"
   ]
  },
  {
   "cell_type": "code",
   "execution_count": 23,
   "metadata": {},
   "outputs": [
    {
     "data": {
      "text/plain": [
       "[100, 90, 79, 69, 58, 49, 39, 28, 18]"
      ]
     },
     "execution_count": 23,
     "metadata": {},
     "output_type": "execute_result"
    }
   ],
   "source": [
    "sensors_covered"
   ]
  },
  {
   "cell_type": "code",
   "execution_count": 25,
   "metadata": {},
   "outputs": [
    {
     "name": "stdout",
     "output_type": "stream",
     "text": [
      "starting df shape: (87600, 96)\n",
      "This is training run 1 and has the shape:  (87600, 96)\n",
      "The value of dropped columns is 0\n"
     ]
    },
    {
     "name": "stderr",
     "output_type": "stream",
     "text": [
      "/Users/alexellard/opt/anaconda3/lib/python3.7/site-packages/xgboost/data.py:96: UserWarning: Use subset (sliced data) of np.ndarray is not recommended because it will generate extra copies and increase memory consumption\n",
      "  \"because it will generate extra copies and increase \" +\n"
     ]
    },
    {
     "name": "stdout",
     "output_type": "stream",
     "text": [
      "Run 1 Mean Absolute Error: 45.364094\n",
      "This is training run 2 and has the shape:  (87600, 96)\n",
      "The value of dropped columns is 0\n"
     ]
    },
    {
     "name": "stderr",
     "output_type": "stream",
     "text": [
      "/Users/alexellard/opt/anaconda3/lib/python3.7/site-packages/xgboost/data.py:96: UserWarning: Use subset (sliced data) of np.ndarray is not recommended because it will generate extra copies and increase memory consumption\n",
      "  \"because it will generate extra copies and increase \" +\n"
     ]
    },
    {
     "name": "stdout",
     "output_type": "stream",
     "text": [
      "Run 2 Mean Absolute Error: 45.364094\n",
      "This is training run 3 and has the shape:  (87600, 96)\n",
      "The value of dropped columns is 0\n"
     ]
    },
    {
     "name": "stderr",
     "output_type": "stream",
     "text": [
      "/Users/alexellard/opt/anaconda3/lib/python3.7/site-packages/xgboost/data.py:96: UserWarning: Use subset (sliced data) of np.ndarray is not recommended because it will generate extra copies and increase memory consumption\n",
      "  \"because it will generate extra copies and increase \" +\n"
     ]
    },
    {
     "name": "stdout",
     "output_type": "stream",
     "text": [
      "Run 3 Mean Absolute Error: 45.364094\n",
      "This is training run 4 and has the shape:  (87600, 96)\n",
      "The value of dropped columns is 0\n"
     ]
    },
    {
     "name": "stderr",
     "output_type": "stream",
     "text": [
      "/Users/alexellard/opt/anaconda3/lib/python3.7/site-packages/xgboost/data.py:96: UserWarning: Use subset (sliced data) of np.ndarray is not recommended because it will generate extra copies and increase memory consumption\n",
      "  \"because it will generate extra copies and increase \" +\n"
     ]
    },
    {
     "name": "stdout",
     "output_type": "stream",
     "text": [
      "Run 4 Mean Absolute Error: 45.364094\n",
      "This is training run 5 and has the shape:  (87600, 96)\n",
      "The value of dropped columns is 0\n"
     ]
    },
    {
     "name": "stderr",
     "output_type": "stream",
     "text": [
      "/Users/alexellard/opt/anaconda3/lib/python3.7/site-packages/xgboost/data.py:96: UserWarning: Use subset (sliced data) of np.ndarray is not recommended because it will generate extra copies and increase memory consumption\n",
      "  \"because it will generate extra copies and increase \" +\n"
     ]
    },
    {
     "name": "stdout",
     "output_type": "stream",
     "text": [
      "Run 5 Mean Absolute Error: 45.364094\n",
      "This is training run 6 and has the shape:  (87600, 96)\n",
      "The value of dropped columns is 0\n"
     ]
    },
    {
     "name": "stderr",
     "output_type": "stream",
     "text": [
      "/Users/alexellard/opt/anaconda3/lib/python3.7/site-packages/xgboost/data.py:96: UserWarning: Use subset (sliced data) of np.ndarray is not recommended because it will generate extra copies and increase memory consumption\n",
      "  \"because it will generate extra copies and increase \" +\n"
     ]
    },
    {
     "name": "stdout",
     "output_type": "stream",
     "text": [
      "Run 6 Mean Absolute Error: 45.364094\n",
      "This is training run 7 and has the shape:  (87600, 96)\n",
      "The value of dropped columns is 0\n"
     ]
    },
    {
     "name": "stderr",
     "output_type": "stream",
     "text": [
      "/Users/alexellard/opt/anaconda3/lib/python3.7/site-packages/xgboost/data.py:96: UserWarning: Use subset (sliced data) of np.ndarray is not recommended because it will generate extra copies and increase memory consumption\n",
      "  \"because it will generate extra copies and increase \" +\n"
     ]
    },
    {
     "name": "stdout",
     "output_type": "stream",
     "text": [
      "Run 7 Mean Absolute Error: 45.364094\n",
      "This is training run 8 and has the shape:  (87600, 96)\n",
      "The value of dropped columns is 0\n"
     ]
    },
    {
     "name": "stderr",
     "output_type": "stream",
     "text": [
      "/Users/alexellard/opt/anaconda3/lib/python3.7/site-packages/xgboost/data.py:96: UserWarning: Use subset (sliced data) of np.ndarray is not recommended because it will generate extra copies and increase memory consumption\n",
      "  \"because it will generate extra copies and increase \" +\n"
     ]
    },
    {
     "name": "stdout",
     "output_type": "stream",
     "text": [
      "Run 8 Mean Absolute Error: 45.364094\n",
      "This is training run 9 and has the shape:  (87600, 96)\n",
      "The value of dropped columns is 0\n"
     ]
    },
    {
     "name": "stderr",
     "output_type": "stream",
     "text": [
      "/Users/alexellard/opt/anaconda3/lib/python3.7/site-packages/xgboost/data.py:96: UserWarning: Use subset (sliced data) of np.ndarray is not recommended because it will generate extra copies and increase memory consumption\n",
      "  \"because it will generate extra copies and increase \" +\n"
     ]
    },
    {
     "name": "stdout",
     "output_type": "stream",
     "text": [
      "Run 9 Mean Absolute Error: 45.364094\n",
      "This is training run 10 and has the shape:  (87600, 96)\n",
      "The value of dropped columns is 0\n"
     ]
    },
    {
     "name": "stderr",
     "output_type": "stream",
     "text": [
      "/Users/alexellard/opt/anaconda3/lib/python3.7/site-packages/xgboost/data.py:96: UserWarning: Use subset (sliced data) of np.ndarray is not recommended because it will generate extra copies and increase memory consumption\n",
      "  \"because it will generate extra copies and increase \" +\n"
     ]
    },
    {
     "name": "stdout",
     "output_type": "stream",
     "text": [
      "Run 10 Mean Absolute Error: 45.364094\n",
      "starting df shape: (87600, 91)\n",
      "This is training run 1 and has the shape:  (87600, 91)\n",
      "The value of dropped columns is 5\n"
     ]
    },
    {
     "name": "stderr",
     "output_type": "stream",
     "text": [
      "/Users/alexellard/opt/anaconda3/lib/python3.7/site-packages/xgboost/data.py:96: UserWarning: Use subset (sliced data) of np.ndarray is not recommended because it will generate extra copies and increase memory consumption\n",
      "  \"because it will generate extra copies and increase \" +\n"
     ]
    },
    {
     "name": "stdout",
     "output_type": "stream",
     "text": [
      "Run 1 Mean Absolute Error: 47.01856\n",
      "This is training run 2 and has the shape:  (87600, 91)\n",
      "The value of dropped columns is 5\n"
     ]
    },
    {
     "name": "stderr",
     "output_type": "stream",
     "text": [
      "/Users/alexellard/opt/anaconda3/lib/python3.7/site-packages/xgboost/data.py:96: UserWarning: Use subset (sliced data) of np.ndarray is not recommended because it will generate extra copies and increase memory consumption\n",
      "  \"because it will generate extra copies and increase \" +\n"
     ]
    },
    {
     "name": "stdout",
     "output_type": "stream",
     "text": [
      "Run 2 Mean Absolute Error: 47.01856\n",
      "This is training run 3 and has the shape:  (87600, 91)\n",
      "The value of dropped columns is 5\n"
     ]
    },
    {
     "name": "stderr",
     "output_type": "stream",
     "text": [
      "/Users/alexellard/opt/anaconda3/lib/python3.7/site-packages/xgboost/data.py:96: UserWarning: Use subset (sliced data) of np.ndarray is not recommended because it will generate extra copies and increase memory consumption\n",
      "  \"because it will generate extra copies and increase \" +\n"
     ]
    },
    {
     "name": "stdout",
     "output_type": "stream",
     "text": [
      "Run 3 Mean Absolute Error: 47.01856\n",
      "This is training run 4 and has the shape:  (87600, 91)\n",
      "The value of dropped columns is 5\n"
     ]
    },
    {
     "name": "stderr",
     "output_type": "stream",
     "text": [
      "/Users/alexellard/opt/anaconda3/lib/python3.7/site-packages/xgboost/data.py:96: UserWarning: Use subset (sliced data) of np.ndarray is not recommended because it will generate extra copies and increase memory consumption\n",
      "  \"because it will generate extra copies and increase \" +\n"
     ]
    },
    {
     "name": "stdout",
     "output_type": "stream",
     "text": [
      "Run 4 Mean Absolute Error: 47.01856\n",
      "This is training run 5 and has the shape:  (87600, 91)\n",
      "The value of dropped columns is 5\n"
     ]
    },
    {
     "name": "stderr",
     "output_type": "stream",
     "text": [
      "/Users/alexellard/opt/anaconda3/lib/python3.7/site-packages/xgboost/data.py:96: UserWarning: Use subset (sliced data) of np.ndarray is not recommended because it will generate extra copies and increase memory consumption\n",
      "  \"because it will generate extra copies and increase \" +\n"
     ]
    },
    {
     "name": "stdout",
     "output_type": "stream",
     "text": [
      "Run 5 Mean Absolute Error: 47.01856\n",
      "This is training run 6 and has the shape:  (87600, 91)\n",
      "The value of dropped columns is 5\n"
     ]
    },
    {
     "name": "stderr",
     "output_type": "stream",
     "text": [
      "/Users/alexellard/opt/anaconda3/lib/python3.7/site-packages/xgboost/data.py:96: UserWarning: Use subset (sliced data) of np.ndarray is not recommended because it will generate extra copies and increase memory consumption\n",
      "  \"because it will generate extra copies and increase \" +\n"
     ]
    },
    {
     "name": "stdout",
     "output_type": "stream",
     "text": [
      "Run 6 Mean Absolute Error: 47.01856\n",
      "This is training run 7 and has the shape:  (87600, 91)\n",
      "The value of dropped columns is 5\n"
     ]
    },
    {
     "name": "stderr",
     "output_type": "stream",
     "text": [
      "/Users/alexellard/opt/anaconda3/lib/python3.7/site-packages/xgboost/data.py:96: UserWarning: Use subset (sliced data) of np.ndarray is not recommended because it will generate extra copies and increase memory consumption\n",
      "  \"because it will generate extra copies and increase \" +\n"
     ]
    },
    {
     "name": "stdout",
     "output_type": "stream",
     "text": [
      "Run 7 Mean Absolute Error: 47.01856\n",
      "This is training run 8 and has the shape:  (87600, 91)\n",
      "The value of dropped columns is 5\n"
     ]
    },
    {
     "name": "stderr",
     "output_type": "stream",
     "text": [
      "/Users/alexellard/opt/anaconda3/lib/python3.7/site-packages/xgboost/data.py:96: UserWarning: Use subset (sliced data) of np.ndarray is not recommended because it will generate extra copies and increase memory consumption\n",
      "  \"because it will generate extra copies and increase \" +\n"
     ]
    },
    {
     "name": "stdout",
     "output_type": "stream",
     "text": [
      "Run 8 Mean Absolute Error: 47.01856\n",
      "This is training run 9 and has the shape:  (87600, 91)\n",
      "The value of dropped columns is 5\n"
     ]
    },
    {
     "name": "stderr",
     "output_type": "stream",
     "text": [
      "/Users/alexellard/opt/anaconda3/lib/python3.7/site-packages/xgboost/data.py:96: UserWarning: Use subset (sliced data) of np.ndarray is not recommended because it will generate extra copies and increase memory consumption\n",
      "  \"because it will generate extra copies and increase \" +\n"
     ]
    },
    {
     "name": "stdout",
     "output_type": "stream",
     "text": [
      "Run 9 Mean Absolute Error: 47.01856\n",
      "This is training run 10 and has the shape:  (87600, 91)\n",
      "The value of dropped columns is 5\n"
     ]
    },
    {
     "name": "stderr",
     "output_type": "stream",
     "text": [
      "/Users/alexellard/opt/anaconda3/lib/python3.7/site-packages/xgboost/data.py:96: UserWarning: Use subset (sliced data) of np.ndarray is not recommended because it will generate extra copies and increase memory consumption\n",
      "  \"because it will generate extra copies and increase \" +\n"
     ]
    },
    {
     "name": "stdout",
     "output_type": "stream",
     "text": [
      "Run 10 Mean Absolute Error: 47.01856\n",
      "starting df shape: (87600, 86)\n",
      "This is training run 1 and has the shape:  (87600, 86)\n",
      "The value of dropped columns is 10\n"
     ]
    },
    {
     "name": "stderr",
     "output_type": "stream",
     "text": [
      "/Users/alexellard/opt/anaconda3/lib/python3.7/site-packages/xgboost/data.py:96: UserWarning: Use subset (sliced data) of np.ndarray is not recommended because it will generate extra copies and increase memory consumption\n",
      "  \"because it will generate extra copies and increase \" +\n"
     ]
    },
    {
     "name": "stdout",
     "output_type": "stream",
     "text": [
      "Run 1 Mean Absolute Error: 46.827423\n",
      "This is training run 2 and has the shape:  (87600, 86)\n",
      "The value of dropped columns is 10\n"
     ]
    },
    {
     "name": "stderr",
     "output_type": "stream",
     "text": [
      "/Users/alexellard/opt/anaconda3/lib/python3.7/site-packages/xgboost/data.py:96: UserWarning: Use subset (sliced data) of np.ndarray is not recommended because it will generate extra copies and increase memory consumption\n",
      "  \"because it will generate extra copies and increase \" +\n"
     ]
    },
    {
     "name": "stdout",
     "output_type": "stream",
     "text": [
      "Run 2 Mean Absolute Error: 46.827423\n",
      "This is training run 3 and has the shape:  (87600, 86)\n",
      "The value of dropped columns is 10\n"
     ]
    },
    {
     "name": "stderr",
     "output_type": "stream",
     "text": [
      "/Users/alexellard/opt/anaconda3/lib/python3.7/site-packages/xgboost/data.py:96: UserWarning: Use subset (sliced data) of np.ndarray is not recommended because it will generate extra copies and increase memory consumption\n",
      "  \"because it will generate extra copies and increase \" +\n"
     ]
    },
    {
     "name": "stdout",
     "output_type": "stream",
     "text": [
      "Run 3 Mean Absolute Error: 46.827423\n",
      "This is training run 4 and has the shape:  (87600, 86)\n",
      "The value of dropped columns is 10\n"
     ]
    },
    {
     "name": "stderr",
     "output_type": "stream",
     "text": [
      "/Users/alexellard/opt/anaconda3/lib/python3.7/site-packages/xgboost/data.py:96: UserWarning: Use subset (sliced data) of np.ndarray is not recommended because it will generate extra copies and increase memory consumption\n",
      "  \"because it will generate extra copies and increase \" +\n"
     ]
    },
    {
     "name": "stdout",
     "output_type": "stream",
     "text": [
      "Run 4 Mean Absolute Error: 46.827423\n",
      "This is training run 5 and has the shape:  (87600, 86)\n",
      "The value of dropped columns is 10\n"
     ]
    },
    {
     "name": "stderr",
     "output_type": "stream",
     "text": [
      "/Users/alexellard/opt/anaconda3/lib/python3.7/site-packages/xgboost/data.py:96: UserWarning: Use subset (sliced data) of np.ndarray is not recommended because it will generate extra copies and increase memory consumption\n",
      "  \"because it will generate extra copies and increase \" +\n"
     ]
    },
    {
     "name": "stdout",
     "output_type": "stream",
     "text": [
      "Run 5 Mean Absolute Error: 46.827423\n",
      "This is training run 6 and has the shape:  (87600, 86)\n",
      "The value of dropped columns is 10\n"
     ]
    },
    {
     "name": "stderr",
     "output_type": "stream",
     "text": [
      "/Users/alexellard/opt/anaconda3/lib/python3.7/site-packages/xgboost/data.py:96: UserWarning: Use subset (sliced data) of np.ndarray is not recommended because it will generate extra copies and increase memory consumption\n",
      "  \"because it will generate extra copies and increase \" +\n"
     ]
    },
    {
     "name": "stdout",
     "output_type": "stream",
     "text": [
      "Run 6 Mean Absolute Error: 46.827423\n",
      "This is training run 7 and has the shape:  (87600, 86)\n",
      "The value of dropped columns is 10\n"
     ]
    },
    {
     "name": "stderr",
     "output_type": "stream",
     "text": [
      "/Users/alexellard/opt/anaconda3/lib/python3.7/site-packages/xgboost/data.py:96: UserWarning: Use subset (sliced data) of np.ndarray is not recommended because it will generate extra copies and increase memory consumption\n",
      "  \"because it will generate extra copies and increase \" +\n"
     ]
    },
    {
     "name": "stdout",
     "output_type": "stream",
     "text": [
      "Run 7 Mean Absolute Error: 46.827423\n",
      "This is training run 8 and has the shape:  (87600, 86)\n",
      "The value of dropped columns is 10\n"
     ]
    },
    {
     "name": "stderr",
     "output_type": "stream",
     "text": [
      "/Users/alexellard/opt/anaconda3/lib/python3.7/site-packages/xgboost/data.py:96: UserWarning: Use subset (sliced data) of np.ndarray is not recommended because it will generate extra copies and increase memory consumption\n",
      "  \"because it will generate extra copies and increase \" +\n"
     ]
    },
    {
     "name": "stdout",
     "output_type": "stream",
     "text": [
      "Run 8 Mean Absolute Error: 46.827423\n",
      "This is training run 9 and has the shape:  (87600, 86)\n",
      "The value of dropped columns is 10\n"
     ]
    },
    {
     "name": "stderr",
     "output_type": "stream",
     "text": [
      "/Users/alexellard/opt/anaconda3/lib/python3.7/site-packages/xgboost/data.py:96: UserWarning: Use subset (sliced data) of np.ndarray is not recommended because it will generate extra copies and increase memory consumption\n",
      "  \"because it will generate extra copies and increase \" +\n"
     ]
    },
    {
     "name": "stdout",
     "output_type": "stream",
     "text": [
      "Run 9 Mean Absolute Error: 46.827423\n",
      "This is training run 10 and has the shape:  (87600, 86)\n",
      "The value of dropped columns is 10\n"
     ]
    },
    {
     "name": "stderr",
     "output_type": "stream",
     "text": [
      "/Users/alexellard/opt/anaconda3/lib/python3.7/site-packages/xgboost/data.py:96: UserWarning: Use subset (sliced data) of np.ndarray is not recommended because it will generate extra copies and increase memory consumption\n",
      "  \"because it will generate extra copies and increase \" +\n"
     ]
    },
    {
     "name": "stdout",
     "output_type": "stream",
     "text": [
      "Run 10 Mean Absolute Error: 46.827423\n",
      "starting df shape: (87600, 81)\n",
      "This is training run 1 and has the shape:  (87600, 81)\n",
      "The value of dropped columns is 15\n"
     ]
    },
    {
     "name": "stderr",
     "output_type": "stream",
     "text": [
      "/Users/alexellard/opt/anaconda3/lib/python3.7/site-packages/xgboost/data.py:96: UserWarning: Use subset (sliced data) of np.ndarray is not recommended because it will generate extra copies and increase memory consumption\n",
      "  \"because it will generate extra copies and increase \" +\n"
     ]
    },
    {
     "name": "stdout",
     "output_type": "stream",
     "text": [
      "Run 1 Mean Absolute Error: 47.823517\n",
      "This is training run 2 and has the shape:  (87600, 81)\n",
      "The value of dropped columns is 15\n"
     ]
    },
    {
     "name": "stderr",
     "output_type": "stream",
     "text": [
      "/Users/alexellard/opt/anaconda3/lib/python3.7/site-packages/xgboost/data.py:96: UserWarning: Use subset (sliced data) of np.ndarray is not recommended because it will generate extra copies and increase memory consumption\n",
      "  \"because it will generate extra copies and increase \" +\n"
     ]
    },
    {
     "name": "stdout",
     "output_type": "stream",
     "text": [
      "Run 2 Mean Absolute Error: 47.823517\n",
      "This is training run 3 and has the shape:  (87600, 81)\n",
      "The value of dropped columns is 15\n"
     ]
    },
    {
     "name": "stderr",
     "output_type": "stream",
     "text": [
      "/Users/alexellard/opt/anaconda3/lib/python3.7/site-packages/xgboost/data.py:96: UserWarning: Use subset (sliced data) of np.ndarray is not recommended because it will generate extra copies and increase memory consumption\n",
      "  \"because it will generate extra copies and increase \" +\n"
     ]
    },
    {
     "name": "stdout",
     "output_type": "stream",
     "text": [
      "Run 3 Mean Absolute Error: 47.823517\n",
      "This is training run 4 and has the shape:  (87600, 81)\n",
      "The value of dropped columns is 15\n"
     ]
    },
    {
     "name": "stderr",
     "output_type": "stream",
     "text": [
      "/Users/alexellard/opt/anaconda3/lib/python3.7/site-packages/xgboost/data.py:96: UserWarning: Use subset (sliced data) of np.ndarray is not recommended because it will generate extra copies and increase memory consumption\n",
      "  \"because it will generate extra copies and increase \" +\n"
     ]
    },
    {
     "name": "stdout",
     "output_type": "stream",
     "text": [
      "Run 4 Mean Absolute Error: 47.823517\n",
      "This is training run 5 and has the shape:  (87600, 81)\n",
      "The value of dropped columns is 15\n"
     ]
    },
    {
     "name": "stderr",
     "output_type": "stream",
     "text": [
      "/Users/alexellard/opt/anaconda3/lib/python3.7/site-packages/xgboost/data.py:96: UserWarning: Use subset (sliced data) of np.ndarray is not recommended because it will generate extra copies and increase memory consumption\n",
      "  \"because it will generate extra copies and increase \" +\n"
     ]
    },
    {
     "name": "stdout",
     "output_type": "stream",
     "text": [
      "Run 5 Mean Absolute Error: 47.823517\n",
      "This is training run 6 and has the shape:  (87600, 81)\n",
      "The value of dropped columns is 15\n"
     ]
    },
    {
     "name": "stderr",
     "output_type": "stream",
     "text": [
      "/Users/alexellard/opt/anaconda3/lib/python3.7/site-packages/xgboost/data.py:96: UserWarning: Use subset (sliced data) of np.ndarray is not recommended because it will generate extra copies and increase memory consumption\n",
      "  \"because it will generate extra copies and increase \" +\n"
     ]
    },
    {
     "name": "stdout",
     "output_type": "stream",
     "text": [
      "Run 6 Mean Absolute Error: 47.823517\n",
      "This is training run 7 and has the shape:  (87600, 81)\n",
      "The value of dropped columns is 15\n"
     ]
    },
    {
     "name": "stderr",
     "output_type": "stream",
     "text": [
      "/Users/alexellard/opt/anaconda3/lib/python3.7/site-packages/xgboost/data.py:96: UserWarning: Use subset (sliced data) of np.ndarray is not recommended because it will generate extra copies and increase memory consumption\n",
      "  \"because it will generate extra copies and increase \" +\n"
     ]
    },
    {
     "name": "stdout",
     "output_type": "stream",
     "text": [
      "Run 7 Mean Absolute Error: 47.823517\n",
      "This is training run 8 and has the shape:  (87600, 81)\n",
      "The value of dropped columns is 15\n"
     ]
    },
    {
     "name": "stderr",
     "output_type": "stream",
     "text": [
      "/Users/alexellard/opt/anaconda3/lib/python3.7/site-packages/xgboost/data.py:96: UserWarning: Use subset (sliced data) of np.ndarray is not recommended because it will generate extra copies and increase memory consumption\n",
      "  \"because it will generate extra copies and increase \" +\n"
     ]
    },
    {
     "name": "stdout",
     "output_type": "stream",
     "text": [
      "Run 8 Mean Absolute Error: 47.823517\n",
      "This is training run 9 and has the shape:  (87600, 81)\n",
      "The value of dropped columns is 15\n"
     ]
    },
    {
     "name": "stderr",
     "output_type": "stream",
     "text": [
      "/Users/alexellard/opt/anaconda3/lib/python3.7/site-packages/xgboost/data.py:96: UserWarning: Use subset (sliced data) of np.ndarray is not recommended because it will generate extra copies and increase memory consumption\n",
      "  \"because it will generate extra copies and increase \" +\n"
     ]
    },
    {
     "name": "stdout",
     "output_type": "stream",
     "text": [
      "Run 9 Mean Absolute Error: 47.823517\n",
      "This is training run 10 and has the shape:  (87600, 81)\n",
      "The value of dropped columns is 15\n"
     ]
    },
    {
     "name": "stderr",
     "output_type": "stream",
     "text": [
      "/Users/alexellard/opt/anaconda3/lib/python3.7/site-packages/xgboost/data.py:96: UserWarning: Use subset (sliced data) of np.ndarray is not recommended because it will generate extra copies and increase memory consumption\n",
      "  \"because it will generate extra copies and increase \" +\n"
     ]
    },
    {
     "name": "stdout",
     "output_type": "stream",
     "text": [
      "Run 10 Mean Absolute Error: 47.823517\n",
      "starting df shape: (87600, 76)\n",
      "This is training run 1 and has the shape:  (87600, 76)\n",
      "The value of dropped columns is 20\n"
     ]
    },
    {
     "name": "stderr",
     "output_type": "stream",
     "text": [
      "/Users/alexellard/opt/anaconda3/lib/python3.7/site-packages/xgboost/data.py:96: UserWarning: Use subset (sliced data) of np.ndarray is not recommended because it will generate extra copies and increase memory consumption\n",
      "  \"because it will generate extra copies and increase \" +\n"
     ]
    },
    {
     "name": "stdout",
     "output_type": "stream",
     "text": [
      "Run 1 Mean Absolute Error: 3.188347\n",
      "This is training run 2 and has the shape:  (87600, 76)\n",
      "The value of dropped columns is 20\n"
     ]
    },
    {
     "name": "stderr",
     "output_type": "stream",
     "text": [
      "/Users/alexellard/opt/anaconda3/lib/python3.7/site-packages/xgboost/data.py:96: UserWarning: Use subset (sliced data) of np.ndarray is not recommended because it will generate extra copies and increase memory consumption\n",
      "  \"because it will generate extra copies and increase \" +\n"
     ]
    },
    {
     "name": "stdout",
     "output_type": "stream",
     "text": [
      "Run 2 Mean Absolute Error: 3.188347\n",
      "This is training run 3 and has the shape:  (87600, 76)\n",
      "The value of dropped columns is 20\n"
     ]
    },
    {
     "name": "stderr",
     "output_type": "stream",
     "text": [
      "/Users/alexellard/opt/anaconda3/lib/python3.7/site-packages/xgboost/data.py:96: UserWarning: Use subset (sliced data) of np.ndarray is not recommended because it will generate extra copies and increase memory consumption\n",
      "  \"because it will generate extra copies and increase \" +\n"
     ]
    },
    {
     "name": "stdout",
     "output_type": "stream",
     "text": [
      "Run 3 Mean Absolute Error: 3.188347\n",
      "This is training run 4 and has the shape:  (87600, 76)\n",
      "The value of dropped columns is 20\n"
     ]
    },
    {
     "name": "stderr",
     "output_type": "stream",
     "text": [
      "/Users/alexellard/opt/anaconda3/lib/python3.7/site-packages/xgboost/data.py:96: UserWarning: Use subset (sliced data) of np.ndarray is not recommended because it will generate extra copies and increase memory consumption\n",
      "  \"because it will generate extra copies and increase \" +\n"
     ]
    },
    {
     "name": "stdout",
     "output_type": "stream",
     "text": [
      "Run 4 Mean Absolute Error: 3.188347\n",
      "This is training run 5 and has the shape:  (87600, 76)\n",
      "The value of dropped columns is 20\n"
     ]
    },
    {
     "name": "stderr",
     "output_type": "stream",
     "text": [
      "/Users/alexellard/opt/anaconda3/lib/python3.7/site-packages/xgboost/data.py:96: UserWarning: Use subset (sliced data) of np.ndarray is not recommended because it will generate extra copies and increase memory consumption\n",
      "  \"because it will generate extra copies and increase \" +\n"
     ]
    },
    {
     "name": "stdout",
     "output_type": "stream",
     "text": [
      "Run 5 Mean Absolute Error: 3.188347\n",
      "This is training run 6 and has the shape:  (87600, 76)\n",
      "The value of dropped columns is 20\n"
     ]
    },
    {
     "name": "stderr",
     "output_type": "stream",
     "text": [
      "/Users/alexellard/opt/anaconda3/lib/python3.7/site-packages/xgboost/data.py:96: UserWarning: Use subset (sliced data) of np.ndarray is not recommended because it will generate extra copies and increase memory consumption\n",
      "  \"because it will generate extra copies and increase \" +\n"
     ]
    },
    {
     "name": "stdout",
     "output_type": "stream",
     "text": [
      "Run 6 Mean Absolute Error: 3.188347\n",
      "This is training run 7 and has the shape:  (87600, 76)\n",
      "The value of dropped columns is 20\n"
     ]
    },
    {
     "name": "stderr",
     "output_type": "stream",
     "text": [
      "/Users/alexellard/opt/anaconda3/lib/python3.7/site-packages/xgboost/data.py:96: UserWarning: Use subset (sliced data) of np.ndarray is not recommended because it will generate extra copies and increase memory consumption\n",
      "  \"because it will generate extra copies and increase \" +\n"
     ]
    },
    {
     "name": "stdout",
     "output_type": "stream",
     "text": [
      "Run 7 Mean Absolute Error: 3.188347\n",
      "This is training run 8 and has the shape:  (87600, 76)\n",
      "The value of dropped columns is 20\n"
     ]
    },
    {
     "name": "stderr",
     "output_type": "stream",
     "text": [
      "/Users/alexellard/opt/anaconda3/lib/python3.7/site-packages/xgboost/data.py:96: UserWarning: Use subset (sliced data) of np.ndarray is not recommended because it will generate extra copies and increase memory consumption\n",
      "  \"because it will generate extra copies and increase \" +\n"
     ]
    },
    {
     "name": "stdout",
     "output_type": "stream",
     "text": [
      "Run 8 Mean Absolute Error: 3.188347\n",
      "This is training run 9 and has the shape:  (87600, 76)\n",
      "The value of dropped columns is 20\n"
     ]
    },
    {
     "name": "stderr",
     "output_type": "stream",
     "text": [
      "/Users/alexellard/opt/anaconda3/lib/python3.7/site-packages/xgboost/data.py:96: UserWarning: Use subset (sliced data) of np.ndarray is not recommended because it will generate extra copies and increase memory consumption\n",
      "  \"because it will generate extra copies and increase \" +\n"
     ]
    },
    {
     "name": "stdout",
     "output_type": "stream",
     "text": [
      "Run 9 Mean Absolute Error: 3.188347\n",
      "This is training run 10 and has the shape:  (87600, 76)\n",
      "The value of dropped columns is 20\n"
     ]
    },
    {
     "name": "stderr",
     "output_type": "stream",
     "text": [
      "/Users/alexellard/opt/anaconda3/lib/python3.7/site-packages/xgboost/data.py:96: UserWarning: Use subset (sliced data) of np.ndarray is not recommended because it will generate extra copies and increase memory consumption\n",
      "  \"because it will generate extra copies and increase \" +\n"
     ]
    },
    {
     "name": "stdout",
     "output_type": "stream",
     "text": [
      "Run 10 Mean Absolute Error: 3.188347\n",
      "starting df shape: (87600, 71)\n",
      "This is training run 1 and has the shape:  (87600, 71)\n",
      "The value of dropped columns is 25\n"
     ]
    },
    {
     "name": "stderr",
     "output_type": "stream",
     "text": [
      "/Users/alexellard/opt/anaconda3/lib/python3.7/site-packages/xgboost/data.py:96: UserWarning: Use subset (sliced data) of np.ndarray is not recommended because it will generate extra copies and increase memory consumption\n",
      "  \"because it will generate extra copies and increase \" +\n"
     ]
    },
    {
     "name": "stdout",
     "output_type": "stream",
     "text": [
      "Run 1 Mean Absolute Error: 130.90436\n",
      "This is training run 2 and has the shape:  (87600, 71)\n",
      "The value of dropped columns is 25\n"
     ]
    },
    {
     "name": "stderr",
     "output_type": "stream",
     "text": [
      "/Users/alexellard/opt/anaconda3/lib/python3.7/site-packages/xgboost/data.py:96: UserWarning: Use subset (sliced data) of np.ndarray is not recommended because it will generate extra copies and increase memory consumption\n",
      "  \"because it will generate extra copies and increase \" +\n"
     ]
    },
    {
     "name": "stdout",
     "output_type": "stream",
     "text": [
      "Run 2 Mean Absolute Error: 130.90436\n",
      "This is training run 3 and has the shape:  (87600, 71)\n",
      "The value of dropped columns is 25\n"
     ]
    },
    {
     "name": "stderr",
     "output_type": "stream",
     "text": [
      "/Users/alexellard/opt/anaconda3/lib/python3.7/site-packages/xgboost/data.py:96: UserWarning: Use subset (sliced data) of np.ndarray is not recommended because it will generate extra copies and increase memory consumption\n",
      "  \"because it will generate extra copies and increase \" +\n"
     ]
    },
    {
     "name": "stdout",
     "output_type": "stream",
     "text": [
      "Run 3 Mean Absolute Error: 130.90436\n",
      "This is training run 4 and has the shape:  (87600, 71)\n",
      "The value of dropped columns is 25\n"
     ]
    },
    {
     "name": "stderr",
     "output_type": "stream",
     "text": [
      "/Users/alexellard/opt/anaconda3/lib/python3.7/site-packages/xgboost/data.py:96: UserWarning: Use subset (sliced data) of np.ndarray is not recommended because it will generate extra copies and increase memory consumption\n",
      "  \"because it will generate extra copies and increase \" +\n"
     ]
    },
    {
     "name": "stdout",
     "output_type": "stream",
     "text": [
      "Run 4 Mean Absolute Error: 130.90436\n",
      "This is training run 5 and has the shape:  (87600, 71)\n",
      "The value of dropped columns is 25\n"
     ]
    },
    {
     "name": "stderr",
     "output_type": "stream",
     "text": [
      "/Users/alexellard/opt/anaconda3/lib/python3.7/site-packages/xgboost/data.py:96: UserWarning: Use subset (sliced data) of np.ndarray is not recommended because it will generate extra copies and increase memory consumption\n",
      "  \"because it will generate extra copies and increase \" +\n"
     ]
    },
    {
     "name": "stdout",
     "output_type": "stream",
     "text": [
      "Run 5 Mean Absolute Error: 130.90436\n",
      "This is training run 6 and has the shape:  (87600, 71)\n",
      "The value of dropped columns is 25\n"
     ]
    },
    {
     "name": "stderr",
     "output_type": "stream",
     "text": [
      "/Users/alexellard/opt/anaconda3/lib/python3.7/site-packages/xgboost/data.py:96: UserWarning: Use subset (sliced data) of np.ndarray is not recommended because it will generate extra copies and increase memory consumption\n",
      "  \"because it will generate extra copies and increase \" +\n"
     ]
    },
    {
     "name": "stdout",
     "output_type": "stream",
     "text": [
      "Run 6 Mean Absolute Error: 130.90436\n",
      "This is training run 7 and has the shape:  (87600, 71)\n",
      "The value of dropped columns is 25\n"
     ]
    },
    {
     "name": "stderr",
     "output_type": "stream",
     "text": [
      "/Users/alexellard/opt/anaconda3/lib/python3.7/site-packages/xgboost/data.py:96: UserWarning: Use subset (sliced data) of np.ndarray is not recommended because it will generate extra copies and increase memory consumption\n",
      "  \"because it will generate extra copies and increase \" +\n"
     ]
    },
    {
     "name": "stdout",
     "output_type": "stream",
     "text": [
      "Run 7 Mean Absolute Error: 130.90436\n",
      "This is training run 8 and has the shape:  (87600, 71)\n",
      "The value of dropped columns is 25\n"
     ]
    },
    {
     "name": "stderr",
     "output_type": "stream",
     "text": [
      "/Users/alexellard/opt/anaconda3/lib/python3.7/site-packages/xgboost/data.py:96: UserWarning: Use subset (sliced data) of np.ndarray is not recommended because it will generate extra copies and increase memory consumption\n",
      "  \"because it will generate extra copies and increase \" +\n"
     ]
    },
    {
     "name": "stdout",
     "output_type": "stream",
     "text": [
      "Run 8 Mean Absolute Error: 130.90436\n",
      "This is training run 9 and has the shape:  (87600, 71)\n",
      "The value of dropped columns is 25\n"
     ]
    },
    {
     "name": "stderr",
     "output_type": "stream",
     "text": [
      "/Users/alexellard/opt/anaconda3/lib/python3.7/site-packages/xgboost/data.py:96: UserWarning: Use subset (sliced data) of np.ndarray is not recommended because it will generate extra copies and increase memory consumption\n",
      "  \"because it will generate extra copies and increase \" +\n"
     ]
    },
    {
     "name": "stdout",
     "output_type": "stream",
     "text": [
      "Run 9 Mean Absolute Error: 130.90436\n",
      "This is training run 10 and has the shape:  (87600, 71)\n",
      "The value of dropped columns is 25\n"
     ]
    },
    {
     "name": "stderr",
     "output_type": "stream",
     "text": [
      "/Users/alexellard/opt/anaconda3/lib/python3.7/site-packages/xgboost/data.py:96: UserWarning: Use subset (sliced data) of np.ndarray is not recommended because it will generate extra copies and increase memory consumption\n",
      "  \"because it will generate extra copies and increase \" +\n"
     ]
    },
    {
     "name": "stdout",
     "output_type": "stream",
     "text": [
      "Run 10 Mean Absolute Error: 130.90436\n",
      "starting df shape: (87600, 67)\n",
      "This is training run 1 and has the shape:  (87600, 67)\n",
      "The value of dropped columns is 30\n"
     ]
    },
    {
     "name": "stderr",
     "output_type": "stream",
     "text": [
      "/Users/alexellard/opt/anaconda3/lib/python3.7/site-packages/xgboost/data.py:96: UserWarning: Use subset (sliced data) of np.ndarray is not recommended because it will generate extra copies and increase memory consumption\n",
      "  \"because it will generate extra copies and increase \" +\n"
     ]
    },
    {
     "name": "stdout",
     "output_type": "stream",
     "text": [
      "Run 1 Mean Absolute Error: 118.18964\n",
      "This is training run 2 and has the shape:  (87600, 67)\n",
      "The value of dropped columns is 30\n"
     ]
    },
    {
     "name": "stderr",
     "output_type": "stream",
     "text": [
      "/Users/alexellard/opt/anaconda3/lib/python3.7/site-packages/xgboost/data.py:96: UserWarning: Use subset (sliced data) of np.ndarray is not recommended because it will generate extra copies and increase memory consumption\n",
      "  \"because it will generate extra copies and increase \" +\n"
     ]
    },
    {
     "name": "stdout",
     "output_type": "stream",
     "text": [
      "Run 2 Mean Absolute Error: 118.18964\n",
      "This is training run 3 and has the shape:  (87600, 67)\n",
      "The value of dropped columns is 30\n"
     ]
    },
    {
     "name": "stderr",
     "output_type": "stream",
     "text": [
      "/Users/alexellard/opt/anaconda3/lib/python3.7/site-packages/xgboost/data.py:96: UserWarning: Use subset (sliced data) of np.ndarray is not recommended because it will generate extra copies and increase memory consumption\n",
      "  \"because it will generate extra copies and increase \" +\n"
     ]
    },
    {
     "name": "stdout",
     "output_type": "stream",
     "text": [
      "Run 3 Mean Absolute Error: 118.18964\n",
      "This is training run 4 and has the shape:  (87600, 67)\n",
      "The value of dropped columns is 30\n"
     ]
    },
    {
     "name": "stderr",
     "output_type": "stream",
     "text": [
      "/Users/alexellard/opt/anaconda3/lib/python3.7/site-packages/xgboost/data.py:96: UserWarning: Use subset (sliced data) of np.ndarray is not recommended because it will generate extra copies and increase memory consumption\n",
      "  \"because it will generate extra copies and increase \" +\n"
     ]
    },
    {
     "name": "stdout",
     "output_type": "stream",
     "text": [
      "Run 4 Mean Absolute Error: 118.18964\n",
      "This is training run 5 and has the shape:  (87600, 67)\n",
      "The value of dropped columns is 30\n"
     ]
    },
    {
     "name": "stderr",
     "output_type": "stream",
     "text": [
      "/Users/alexellard/opt/anaconda3/lib/python3.7/site-packages/xgboost/data.py:96: UserWarning: Use subset (sliced data) of np.ndarray is not recommended because it will generate extra copies and increase memory consumption\n",
      "  \"because it will generate extra copies and increase \" +\n"
     ]
    },
    {
     "name": "stdout",
     "output_type": "stream",
     "text": [
      "Run 5 Mean Absolute Error: 118.18964\n",
      "This is training run 6 and has the shape:  (87600, 67)\n",
      "The value of dropped columns is 30\n"
     ]
    },
    {
     "name": "stderr",
     "output_type": "stream",
     "text": [
      "/Users/alexellard/opt/anaconda3/lib/python3.7/site-packages/xgboost/data.py:96: UserWarning: Use subset (sliced data) of np.ndarray is not recommended because it will generate extra copies and increase memory consumption\n",
      "  \"because it will generate extra copies and increase \" +\n"
     ]
    },
    {
     "name": "stdout",
     "output_type": "stream",
     "text": [
      "Run 6 Mean Absolute Error: 118.18964\n",
      "This is training run 7 and has the shape:  (87600, 67)\n",
      "The value of dropped columns is 30\n"
     ]
    },
    {
     "name": "stderr",
     "output_type": "stream",
     "text": [
      "/Users/alexellard/opt/anaconda3/lib/python3.7/site-packages/xgboost/data.py:96: UserWarning: Use subset (sliced data) of np.ndarray is not recommended because it will generate extra copies and increase memory consumption\n",
      "  \"because it will generate extra copies and increase \" +\n"
     ]
    },
    {
     "name": "stdout",
     "output_type": "stream",
     "text": [
      "Run 7 Mean Absolute Error: 118.18964\n",
      "This is training run 8 and has the shape:  (87600, 67)\n",
      "The value of dropped columns is 30\n"
     ]
    },
    {
     "name": "stderr",
     "output_type": "stream",
     "text": [
      "/Users/alexellard/opt/anaconda3/lib/python3.7/site-packages/xgboost/data.py:96: UserWarning: Use subset (sliced data) of np.ndarray is not recommended because it will generate extra copies and increase memory consumption\n",
      "  \"because it will generate extra copies and increase \" +\n"
     ]
    },
    {
     "name": "stdout",
     "output_type": "stream",
     "text": [
      "Run 8 Mean Absolute Error: 118.18964\n",
      "This is training run 9 and has the shape:  (87600, 67)\n",
      "The value of dropped columns is 30\n"
     ]
    },
    {
     "name": "stderr",
     "output_type": "stream",
     "text": [
      "/Users/alexellard/opt/anaconda3/lib/python3.7/site-packages/xgboost/data.py:96: UserWarning: Use subset (sliced data) of np.ndarray is not recommended because it will generate extra copies and increase memory consumption\n",
      "  \"because it will generate extra copies and increase \" +\n"
     ]
    },
    {
     "name": "stdout",
     "output_type": "stream",
     "text": [
      "Run 9 Mean Absolute Error: 118.18964\n",
      "This is training run 10 and has the shape:  (87600, 67)\n",
      "The value of dropped columns is 30\n"
     ]
    },
    {
     "name": "stderr",
     "output_type": "stream",
     "text": [
      "/Users/alexellard/opt/anaconda3/lib/python3.7/site-packages/xgboost/data.py:96: UserWarning: Use subset (sliced data) of np.ndarray is not recommended because it will generate extra copies and increase memory consumption\n",
      "  \"because it will generate extra copies and increase \" +\n"
     ]
    },
    {
     "name": "stdout",
     "output_type": "stream",
     "text": [
      "Run 10 Mean Absolute Error: 118.18964\n",
      "starting df shape: (87600, 62)\n",
      "This is training run 1 and has the shape:  (87600, 62)\n",
      "The value of dropped columns is 35\n"
     ]
    },
    {
     "name": "stderr",
     "output_type": "stream",
     "text": [
      "/Users/alexellard/opt/anaconda3/lib/python3.7/site-packages/xgboost/data.py:96: UserWarning: Use subset (sliced data) of np.ndarray is not recommended because it will generate extra copies and increase memory consumption\n",
      "  \"because it will generate extra copies and increase \" +\n"
     ]
    },
    {
     "name": "stdout",
     "output_type": "stream",
     "text": [
      "Run 1 Mean Absolute Error: 7.486559\n",
      "This is training run 2 and has the shape:  (87600, 62)\n",
      "The value of dropped columns is 35\n"
     ]
    },
    {
     "name": "stderr",
     "output_type": "stream",
     "text": [
      "/Users/alexellard/opt/anaconda3/lib/python3.7/site-packages/xgboost/data.py:96: UserWarning: Use subset (sliced data) of np.ndarray is not recommended because it will generate extra copies and increase memory consumption\n",
      "  \"because it will generate extra copies and increase \" +\n"
     ]
    },
    {
     "name": "stdout",
     "output_type": "stream",
     "text": [
      "Run 2 Mean Absolute Error: 7.486559\n",
      "This is training run 3 and has the shape:  (87600, 62)\n",
      "The value of dropped columns is 35\n"
     ]
    },
    {
     "name": "stderr",
     "output_type": "stream",
     "text": [
      "/Users/alexellard/opt/anaconda3/lib/python3.7/site-packages/xgboost/data.py:96: UserWarning: Use subset (sliced data) of np.ndarray is not recommended because it will generate extra copies and increase memory consumption\n",
      "  \"because it will generate extra copies and increase \" +\n"
     ]
    },
    {
     "name": "stdout",
     "output_type": "stream",
     "text": [
      "Run 3 Mean Absolute Error: 7.486559\n",
      "This is training run 4 and has the shape:  (87600, 62)\n",
      "The value of dropped columns is 35\n"
     ]
    },
    {
     "name": "stderr",
     "output_type": "stream",
     "text": [
      "/Users/alexellard/opt/anaconda3/lib/python3.7/site-packages/xgboost/data.py:96: UserWarning: Use subset (sliced data) of np.ndarray is not recommended because it will generate extra copies and increase memory consumption\n",
      "  \"because it will generate extra copies and increase \" +\n"
     ]
    },
    {
     "name": "stdout",
     "output_type": "stream",
     "text": [
      "Run 4 Mean Absolute Error: 7.486559\n",
      "This is training run 5 and has the shape:  (87600, 62)\n",
      "The value of dropped columns is 35\n"
     ]
    },
    {
     "name": "stderr",
     "output_type": "stream",
     "text": [
      "/Users/alexellard/opt/anaconda3/lib/python3.7/site-packages/xgboost/data.py:96: UserWarning: Use subset (sliced data) of np.ndarray is not recommended because it will generate extra copies and increase memory consumption\n",
      "  \"because it will generate extra copies and increase \" +\n"
     ]
    },
    {
     "name": "stdout",
     "output_type": "stream",
     "text": [
      "Run 5 Mean Absolute Error: 7.486559\n",
      "This is training run 6 and has the shape:  (87600, 62)\n",
      "The value of dropped columns is 35\n"
     ]
    },
    {
     "name": "stderr",
     "output_type": "stream",
     "text": [
      "/Users/alexellard/opt/anaconda3/lib/python3.7/site-packages/xgboost/data.py:96: UserWarning: Use subset (sliced data) of np.ndarray is not recommended because it will generate extra copies and increase memory consumption\n",
      "  \"because it will generate extra copies and increase \" +\n"
     ]
    },
    {
     "name": "stdout",
     "output_type": "stream",
     "text": [
      "Run 6 Mean Absolute Error: 7.486559\n",
      "This is training run 7 and has the shape:  (87600, 62)\n",
      "The value of dropped columns is 35\n"
     ]
    },
    {
     "name": "stderr",
     "output_type": "stream",
     "text": [
      "/Users/alexellard/opt/anaconda3/lib/python3.7/site-packages/xgboost/data.py:96: UserWarning: Use subset (sliced data) of np.ndarray is not recommended because it will generate extra copies and increase memory consumption\n",
      "  \"because it will generate extra copies and increase \" +\n"
     ]
    },
    {
     "name": "stdout",
     "output_type": "stream",
     "text": [
      "Run 7 Mean Absolute Error: 7.486559\n",
      "This is training run 8 and has the shape:  (87600, 62)\n",
      "The value of dropped columns is 35\n"
     ]
    },
    {
     "name": "stderr",
     "output_type": "stream",
     "text": [
      "/Users/alexellard/opt/anaconda3/lib/python3.7/site-packages/xgboost/data.py:96: UserWarning: Use subset (sliced data) of np.ndarray is not recommended because it will generate extra copies and increase memory consumption\n",
      "  \"because it will generate extra copies and increase \" +\n"
     ]
    },
    {
     "name": "stdout",
     "output_type": "stream",
     "text": [
      "Run 8 Mean Absolute Error: 7.486559\n",
      "This is training run 9 and has the shape:  (87600, 62)\n",
      "The value of dropped columns is 35\n"
     ]
    },
    {
     "name": "stderr",
     "output_type": "stream",
     "text": [
      "/Users/alexellard/opt/anaconda3/lib/python3.7/site-packages/xgboost/data.py:96: UserWarning: Use subset (sliced data) of np.ndarray is not recommended because it will generate extra copies and increase memory consumption\n",
      "  \"because it will generate extra copies and increase \" +\n"
     ]
    },
    {
     "name": "stdout",
     "output_type": "stream",
     "text": [
      "Run 9 Mean Absolute Error: 7.486559\n",
      "This is training run 10 and has the shape:  (87600, 62)\n",
      "The value of dropped columns is 35\n"
     ]
    },
    {
     "name": "stderr",
     "output_type": "stream",
     "text": [
      "/Users/alexellard/opt/anaconda3/lib/python3.7/site-packages/xgboost/data.py:96: UserWarning: Use subset (sliced data) of np.ndarray is not recommended because it will generate extra copies and increase memory consumption\n",
      "  \"because it will generate extra copies and increase \" +\n"
     ]
    },
    {
     "name": "stdout",
     "output_type": "stream",
     "text": [
      "Run 10 Mean Absolute Error: 7.486559\n",
      "starting df shape: (87600, 56)\n",
      "This is training run 1 and has the shape:  (87600, 56)\n",
      "The value of dropped columns is 40\n"
     ]
    },
    {
     "name": "stderr",
     "output_type": "stream",
     "text": [
      "/Users/alexellard/opt/anaconda3/lib/python3.7/site-packages/xgboost/data.py:96: UserWarning: Use subset (sliced data) of np.ndarray is not recommended because it will generate extra copies and increase memory consumption\n",
      "  \"because it will generate extra copies and increase \" +\n"
     ]
    },
    {
     "name": "stdout",
     "output_type": "stream",
     "text": [
      "Run 1 Mean Absolute Error: 2.850267\n",
      "This is training run 2 and has the shape:  (87600, 56)\n",
      "The value of dropped columns is 40\n"
     ]
    },
    {
     "name": "stderr",
     "output_type": "stream",
     "text": [
      "/Users/alexellard/opt/anaconda3/lib/python3.7/site-packages/xgboost/data.py:96: UserWarning: Use subset (sliced data) of np.ndarray is not recommended because it will generate extra copies and increase memory consumption\n",
      "  \"because it will generate extra copies and increase \" +\n"
     ]
    },
    {
     "name": "stdout",
     "output_type": "stream",
     "text": [
      "Run 2 Mean Absolute Error: 2.850267\n",
      "This is training run 3 and has the shape:  (87600, 56)\n",
      "The value of dropped columns is 40\n"
     ]
    },
    {
     "name": "stderr",
     "output_type": "stream",
     "text": [
      "/Users/alexellard/opt/anaconda3/lib/python3.7/site-packages/xgboost/data.py:96: UserWarning: Use subset (sliced data) of np.ndarray is not recommended because it will generate extra copies and increase memory consumption\n",
      "  \"because it will generate extra copies and increase \" +\n"
     ]
    },
    {
     "name": "stdout",
     "output_type": "stream",
     "text": [
      "Run 3 Mean Absolute Error: 2.850267\n",
      "This is training run 4 and has the shape:  (87600, 56)\n",
      "The value of dropped columns is 40\n"
     ]
    },
    {
     "name": "stderr",
     "output_type": "stream",
     "text": [
      "/Users/alexellard/opt/anaconda3/lib/python3.7/site-packages/xgboost/data.py:96: UserWarning: Use subset (sliced data) of np.ndarray is not recommended because it will generate extra copies and increase memory consumption\n",
      "  \"because it will generate extra copies and increase \" +\n"
     ]
    },
    {
     "name": "stdout",
     "output_type": "stream",
     "text": [
      "Run 4 Mean Absolute Error: 2.850267\n",
      "This is training run 5 and has the shape:  (87600, 56)\n",
      "The value of dropped columns is 40\n"
     ]
    },
    {
     "name": "stderr",
     "output_type": "stream",
     "text": [
      "/Users/alexellard/opt/anaconda3/lib/python3.7/site-packages/xgboost/data.py:96: UserWarning: Use subset (sliced data) of np.ndarray is not recommended because it will generate extra copies and increase memory consumption\n",
      "  \"because it will generate extra copies and increase \" +\n"
     ]
    },
    {
     "name": "stdout",
     "output_type": "stream",
     "text": [
      "Run 5 Mean Absolute Error: 2.850267\n",
      "This is training run 6 and has the shape:  (87600, 56)\n",
      "The value of dropped columns is 40\n"
     ]
    },
    {
     "name": "stderr",
     "output_type": "stream",
     "text": [
      "/Users/alexellard/opt/anaconda3/lib/python3.7/site-packages/xgboost/data.py:96: UserWarning: Use subset (sliced data) of np.ndarray is not recommended because it will generate extra copies and increase memory consumption\n",
      "  \"because it will generate extra copies and increase \" +\n"
     ]
    },
    {
     "name": "stdout",
     "output_type": "stream",
     "text": [
      "Run 6 Mean Absolute Error: 2.850267\n",
      "This is training run 7 and has the shape:  (87600, 56)\n",
      "The value of dropped columns is 40\n"
     ]
    },
    {
     "name": "stderr",
     "output_type": "stream",
     "text": [
      "/Users/alexellard/opt/anaconda3/lib/python3.7/site-packages/xgboost/data.py:96: UserWarning: Use subset (sliced data) of np.ndarray is not recommended because it will generate extra copies and increase memory consumption\n",
      "  \"because it will generate extra copies and increase \" +\n"
     ]
    },
    {
     "name": "stdout",
     "output_type": "stream",
     "text": [
      "Run 7 Mean Absolute Error: 2.850267\n",
      "This is training run 8 and has the shape:  (87600, 56)\n",
      "The value of dropped columns is 40\n"
     ]
    },
    {
     "name": "stderr",
     "output_type": "stream",
     "text": [
      "/Users/alexellard/opt/anaconda3/lib/python3.7/site-packages/xgboost/data.py:96: UserWarning: Use subset (sliced data) of np.ndarray is not recommended because it will generate extra copies and increase memory consumption\n",
      "  \"because it will generate extra copies and increase \" +\n"
     ]
    },
    {
     "name": "stdout",
     "output_type": "stream",
     "text": [
      "Run 8 Mean Absolute Error: 2.850267\n",
      "This is training run 9 and has the shape:  (87600, 56)\n",
      "The value of dropped columns is 40\n"
     ]
    },
    {
     "name": "stderr",
     "output_type": "stream",
     "text": [
      "/Users/alexellard/opt/anaconda3/lib/python3.7/site-packages/xgboost/data.py:96: UserWarning: Use subset (sliced data) of np.ndarray is not recommended because it will generate extra copies and increase memory consumption\n",
      "  \"because it will generate extra copies and increase \" +\n"
     ]
    },
    {
     "name": "stdout",
     "output_type": "stream",
     "text": [
      "Run 9 Mean Absolute Error: 2.850267\n",
      "This is training run 10 and has the shape:  (87600, 56)\n",
      "The value of dropped columns is 40\n"
     ]
    },
    {
     "name": "stderr",
     "output_type": "stream",
     "text": [
      "/Users/alexellard/opt/anaconda3/lib/python3.7/site-packages/xgboost/data.py:96: UserWarning: Use subset (sliced data) of np.ndarray is not recommended because it will generate extra copies and increase memory consumption\n",
      "  \"because it will generate extra copies and increase \" +\n"
     ]
    },
    {
     "name": "stdout",
     "output_type": "stream",
     "text": [
      "Run 10 Mean Absolute Error: 2.850267\n",
      "starting df shape: (87600, 52)\n",
      "This is training run 1 and has the shape:  (87600, 52)\n",
      "The value of dropped columns is 45\n"
     ]
    },
    {
     "name": "stderr",
     "output_type": "stream",
     "text": [
      "/Users/alexellard/opt/anaconda3/lib/python3.7/site-packages/xgboost/data.py:96: UserWarning: Use subset (sliced data) of np.ndarray is not recommended because it will generate extra copies and increase memory consumption\n",
      "  \"because it will generate extra copies and increase \" +\n"
     ]
    },
    {
     "name": "stdout",
     "output_type": "stream",
     "text": [
      "Run 1 Mean Absolute Error: 6.5760517\n",
      "This is training run 2 and has the shape:  (87600, 52)\n",
      "The value of dropped columns is 45\n"
     ]
    },
    {
     "name": "stderr",
     "output_type": "stream",
     "text": [
      "/Users/alexellard/opt/anaconda3/lib/python3.7/site-packages/xgboost/data.py:96: UserWarning: Use subset (sliced data) of np.ndarray is not recommended because it will generate extra copies and increase memory consumption\n",
      "  \"because it will generate extra copies and increase \" +\n"
     ]
    },
    {
     "name": "stdout",
     "output_type": "stream",
     "text": [
      "Run 2 Mean Absolute Error: 6.5760517\n",
      "This is training run 3 and has the shape:  (87600, 52)\n",
      "The value of dropped columns is 45\n"
     ]
    },
    {
     "name": "stderr",
     "output_type": "stream",
     "text": [
      "/Users/alexellard/opt/anaconda3/lib/python3.7/site-packages/xgboost/data.py:96: UserWarning: Use subset (sliced data) of np.ndarray is not recommended because it will generate extra copies and increase memory consumption\n",
      "  \"because it will generate extra copies and increase \" +\n"
     ]
    },
    {
     "name": "stdout",
     "output_type": "stream",
     "text": [
      "Run 3 Mean Absolute Error: 6.5760517\n",
      "This is training run 4 and has the shape:  (87600, 52)\n",
      "The value of dropped columns is 45\n"
     ]
    },
    {
     "name": "stderr",
     "output_type": "stream",
     "text": [
      "/Users/alexellard/opt/anaconda3/lib/python3.7/site-packages/xgboost/data.py:96: UserWarning: Use subset (sliced data) of np.ndarray is not recommended because it will generate extra copies and increase memory consumption\n",
      "  \"because it will generate extra copies and increase \" +\n"
     ]
    },
    {
     "name": "stdout",
     "output_type": "stream",
     "text": [
      "Run 4 Mean Absolute Error: 6.5760517\n",
      "This is training run 5 and has the shape:  (87600, 52)\n",
      "The value of dropped columns is 45\n"
     ]
    },
    {
     "name": "stderr",
     "output_type": "stream",
     "text": [
      "/Users/alexellard/opt/anaconda3/lib/python3.7/site-packages/xgboost/data.py:96: UserWarning: Use subset (sliced data) of np.ndarray is not recommended because it will generate extra copies and increase memory consumption\n",
      "  \"because it will generate extra copies and increase \" +\n"
     ]
    },
    {
     "name": "stdout",
     "output_type": "stream",
     "text": [
      "Run 5 Mean Absolute Error: 6.5760517\n",
      "This is training run 6 and has the shape:  (87600, 52)\n",
      "The value of dropped columns is 45\n"
     ]
    },
    {
     "name": "stderr",
     "output_type": "stream",
     "text": [
      "/Users/alexellard/opt/anaconda3/lib/python3.7/site-packages/xgboost/data.py:96: UserWarning: Use subset (sliced data) of np.ndarray is not recommended because it will generate extra copies and increase memory consumption\n",
      "  \"because it will generate extra copies and increase \" +\n"
     ]
    },
    {
     "name": "stdout",
     "output_type": "stream",
     "text": [
      "Run 6 Mean Absolute Error: 6.5760517\n",
      "This is training run 7 and has the shape:  (87600, 52)\n",
      "The value of dropped columns is 45\n"
     ]
    },
    {
     "name": "stderr",
     "output_type": "stream",
     "text": [
      "/Users/alexellard/opt/anaconda3/lib/python3.7/site-packages/xgboost/data.py:96: UserWarning: Use subset (sliced data) of np.ndarray is not recommended because it will generate extra copies and increase memory consumption\n",
      "  \"because it will generate extra copies and increase \" +\n"
     ]
    },
    {
     "name": "stdout",
     "output_type": "stream",
     "text": [
      "Run 7 Mean Absolute Error: 6.5760517\n",
      "This is training run 8 and has the shape:  (87600, 52)\n",
      "The value of dropped columns is 45\n"
     ]
    },
    {
     "name": "stderr",
     "output_type": "stream",
     "text": [
      "/Users/alexellard/opt/anaconda3/lib/python3.7/site-packages/xgboost/data.py:96: UserWarning: Use subset (sliced data) of np.ndarray is not recommended because it will generate extra copies and increase memory consumption\n",
      "  \"because it will generate extra copies and increase \" +\n"
     ]
    },
    {
     "name": "stdout",
     "output_type": "stream",
     "text": [
      "Run 8 Mean Absolute Error: 6.5760517\n",
      "This is training run 9 and has the shape:  (87600, 52)\n",
      "The value of dropped columns is 45\n"
     ]
    },
    {
     "name": "stderr",
     "output_type": "stream",
     "text": [
      "/Users/alexellard/opt/anaconda3/lib/python3.7/site-packages/xgboost/data.py:96: UserWarning: Use subset (sliced data) of np.ndarray is not recommended because it will generate extra copies and increase memory consumption\n",
      "  \"because it will generate extra copies and increase \" +\n"
     ]
    },
    {
     "name": "stdout",
     "output_type": "stream",
     "text": [
      "Run 9 Mean Absolute Error: 6.5760517\n",
      "This is training run 10 and has the shape:  (87600, 52)\n",
      "The value of dropped columns is 45\n"
     ]
    },
    {
     "name": "stderr",
     "output_type": "stream",
     "text": [
      "/Users/alexellard/opt/anaconda3/lib/python3.7/site-packages/xgboost/data.py:96: UserWarning: Use subset (sliced data) of np.ndarray is not recommended because it will generate extra copies and increase memory consumption\n",
      "  \"because it will generate extra copies and increase \" +\n"
     ]
    },
    {
     "name": "stdout",
     "output_type": "stream",
     "text": [
      "Run 10 Mean Absolute Error: 6.5760517\n",
      "starting df shape: (87600, 47)\n",
      "This is training run 1 and has the shape:  (87600, 47)\n",
      "The value of dropped columns is 50\n"
     ]
    },
    {
     "name": "stderr",
     "output_type": "stream",
     "text": [
      "/Users/alexellard/opt/anaconda3/lib/python3.7/site-packages/xgboost/data.py:96: UserWarning: Use subset (sliced data) of np.ndarray is not recommended because it will generate extra copies and increase memory consumption\n",
      "  \"because it will generate extra copies and increase \" +\n"
     ]
    },
    {
     "name": "stdout",
     "output_type": "stream",
     "text": [
      "Run 1 Mean Absolute Error: 5.871266\n",
      "This is training run 2 and has the shape:  (87600, 47)\n",
      "The value of dropped columns is 50\n"
     ]
    },
    {
     "name": "stderr",
     "output_type": "stream",
     "text": [
      "/Users/alexellard/opt/anaconda3/lib/python3.7/site-packages/xgboost/data.py:96: UserWarning: Use subset (sliced data) of np.ndarray is not recommended because it will generate extra copies and increase memory consumption\n",
      "  \"because it will generate extra copies and increase \" +\n"
     ]
    },
    {
     "name": "stdout",
     "output_type": "stream",
     "text": [
      "Run 2 Mean Absolute Error: 5.871266\n",
      "This is training run 3 and has the shape:  (87600, 47)\n",
      "The value of dropped columns is 50\n"
     ]
    },
    {
     "name": "stderr",
     "output_type": "stream",
     "text": [
      "/Users/alexellard/opt/anaconda3/lib/python3.7/site-packages/xgboost/data.py:96: UserWarning: Use subset (sliced data) of np.ndarray is not recommended because it will generate extra copies and increase memory consumption\n",
      "  \"because it will generate extra copies and increase \" +\n"
     ]
    },
    {
     "name": "stdout",
     "output_type": "stream",
     "text": [
      "Run 3 Mean Absolute Error: 5.871266\n",
      "This is training run 4 and has the shape:  (87600, 47)\n",
      "The value of dropped columns is 50\n"
     ]
    },
    {
     "name": "stderr",
     "output_type": "stream",
     "text": [
      "/Users/alexellard/opt/anaconda3/lib/python3.7/site-packages/xgboost/data.py:96: UserWarning: Use subset (sliced data) of np.ndarray is not recommended because it will generate extra copies and increase memory consumption\n",
      "  \"because it will generate extra copies and increase \" +\n"
     ]
    },
    {
     "name": "stdout",
     "output_type": "stream",
     "text": [
      "Run 4 Mean Absolute Error: 5.871266\n",
      "This is training run 5 and has the shape:  (87600, 47)\n",
      "The value of dropped columns is 50\n"
     ]
    },
    {
     "name": "stderr",
     "output_type": "stream",
     "text": [
      "/Users/alexellard/opt/anaconda3/lib/python3.7/site-packages/xgboost/data.py:96: UserWarning: Use subset (sliced data) of np.ndarray is not recommended because it will generate extra copies and increase memory consumption\n",
      "  \"because it will generate extra copies and increase \" +\n"
     ]
    },
    {
     "name": "stdout",
     "output_type": "stream",
     "text": [
      "Run 5 Mean Absolute Error: 5.871266\n",
      "This is training run 6 and has the shape:  (87600, 47)\n",
      "The value of dropped columns is 50\n"
     ]
    },
    {
     "name": "stderr",
     "output_type": "stream",
     "text": [
      "/Users/alexellard/opt/anaconda3/lib/python3.7/site-packages/xgboost/data.py:96: UserWarning: Use subset (sliced data) of np.ndarray is not recommended because it will generate extra copies and increase memory consumption\n",
      "  \"because it will generate extra copies and increase \" +\n"
     ]
    },
    {
     "name": "stdout",
     "output_type": "stream",
     "text": [
      "Run 6 Mean Absolute Error: 5.871266\n",
      "This is training run 7 and has the shape:  (87600, 47)\n",
      "The value of dropped columns is 50\n"
     ]
    },
    {
     "name": "stderr",
     "output_type": "stream",
     "text": [
      "/Users/alexellard/opt/anaconda3/lib/python3.7/site-packages/xgboost/data.py:96: UserWarning: Use subset (sliced data) of np.ndarray is not recommended because it will generate extra copies and increase memory consumption\n",
      "  \"because it will generate extra copies and increase \" +\n"
     ]
    },
    {
     "name": "stdout",
     "output_type": "stream",
     "text": [
      "Run 7 Mean Absolute Error: 5.871266\n",
      "This is training run 8 and has the shape:  (87600, 47)\n",
      "The value of dropped columns is 50\n"
     ]
    },
    {
     "name": "stderr",
     "output_type": "stream",
     "text": [
      "/Users/alexellard/opt/anaconda3/lib/python3.7/site-packages/xgboost/data.py:96: UserWarning: Use subset (sliced data) of np.ndarray is not recommended because it will generate extra copies and increase memory consumption\n",
      "  \"because it will generate extra copies and increase \" +\n"
     ]
    },
    {
     "name": "stdout",
     "output_type": "stream",
     "text": [
      "Run 8 Mean Absolute Error: 5.871266\n",
      "This is training run 9 and has the shape:  (87600, 47)\n",
      "The value of dropped columns is 50\n"
     ]
    },
    {
     "name": "stderr",
     "output_type": "stream",
     "text": [
      "/Users/alexellard/opt/anaconda3/lib/python3.7/site-packages/xgboost/data.py:96: UserWarning: Use subset (sliced data) of np.ndarray is not recommended because it will generate extra copies and increase memory consumption\n",
      "  \"because it will generate extra copies and increase \" +\n"
     ]
    },
    {
     "name": "stdout",
     "output_type": "stream",
     "text": [
      "Run 9 Mean Absolute Error: 5.871266\n",
      "This is training run 10 and has the shape:  (87600, 47)\n",
      "The value of dropped columns is 50\n"
     ]
    },
    {
     "name": "stderr",
     "output_type": "stream",
     "text": [
      "/Users/alexellard/opt/anaconda3/lib/python3.7/site-packages/xgboost/data.py:96: UserWarning: Use subset (sliced data) of np.ndarray is not recommended because it will generate extra copies and increase memory consumption\n",
      "  \"because it will generate extra copies and increase \" +\n"
     ]
    },
    {
     "name": "stdout",
     "output_type": "stream",
     "text": [
      "Run 10 Mean Absolute Error: 5.871266\n",
      "starting df shape: (87600, 41)\n",
      "This is training run 1 and has the shape:  (87600, 41)\n",
      "The value of dropped columns is 55\n"
     ]
    },
    {
     "name": "stderr",
     "output_type": "stream",
     "text": [
      "/Users/alexellard/opt/anaconda3/lib/python3.7/site-packages/xgboost/data.py:96: UserWarning: Use subset (sliced data) of np.ndarray is not recommended because it will generate extra copies and increase memory consumption\n",
      "  \"because it will generate extra copies and increase \" +\n"
     ]
    },
    {
     "name": "stdout",
     "output_type": "stream",
     "text": [
      "Run 1 Mean Absolute Error: 162.37688\n",
      "This is training run 2 and has the shape:  (87600, 41)\n",
      "The value of dropped columns is 55\n"
     ]
    },
    {
     "name": "stderr",
     "output_type": "stream",
     "text": [
      "/Users/alexellard/opt/anaconda3/lib/python3.7/site-packages/xgboost/data.py:96: UserWarning: Use subset (sliced data) of np.ndarray is not recommended because it will generate extra copies and increase memory consumption\n",
      "  \"because it will generate extra copies and increase \" +\n"
     ]
    },
    {
     "name": "stdout",
     "output_type": "stream",
     "text": [
      "Run 2 Mean Absolute Error: 162.37688\n",
      "This is training run 3 and has the shape:  (87600, 41)\n",
      "The value of dropped columns is 55\n"
     ]
    },
    {
     "name": "stderr",
     "output_type": "stream",
     "text": [
      "/Users/alexellard/opt/anaconda3/lib/python3.7/site-packages/xgboost/data.py:96: UserWarning: Use subset (sliced data) of np.ndarray is not recommended because it will generate extra copies and increase memory consumption\n",
      "  \"because it will generate extra copies and increase \" +\n"
     ]
    },
    {
     "name": "stdout",
     "output_type": "stream",
     "text": [
      "Run 3 Mean Absolute Error: 162.37688\n",
      "This is training run 4 and has the shape:  (87600, 41)\n",
      "The value of dropped columns is 55\n"
     ]
    },
    {
     "name": "stderr",
     "output_type": "stream",
     "text": [
      "/Users/alexellard/opt/anaconda3/lib/python3.7/site-packages/xgboost/data.py:96: UserWarning: Use subset (sliced data) of np.ndarray is not recommended because it will generate extra copies and increase memory consumption\n",
      "  \"because it will generate extra copies and increase \" +\n"
     ]
    },
    {
     "name": "stdout",
     "output_type": "stream",
     "text": [
      "Run 4 Mean Absolute Error: 162.37688\n",
      "This is training run 5 and has the shape:  (87600, 41)\n",
      "The value of dropped columns is 55\n"
     ]
    },
    {
     "name": "stderr",
     "output_type": "stream",
     "text": [
      "/Users/alexellard/opt/anaconda3/lib/python3.7/site-packages/xgboost/data.py:96: UserWarning: Use subset (sliced data) of np.ndarray is not recommended because it will generate extra copies and increase memory consumption\n",
      "  \"because it will generate extra copies and increase \" +\n"
     ]
    },
    {
     "name": "stdout",
     "output_type": "stream",
     "text": [
      "Run 5 Mean Absolute Error: 162.37688\n",
      "This is training run 6 and has the shape:  (87600, 41)\n",
      "The value of dropped columns is 55\n"
     ]
    },
    {
     "name": "stderr",
     "output_type": "stream",
     "text": [
      "/Users/alexellard/opt/anaconda3/lib/python3.7/site-packages/xgboost/data.py:96: UserWarning: Use subset (sliced data) of np.ndarray is not recommended because it will generate extra copies and increase memory consumption\n",
      "  \"because it will generate extra copies and increase \" +\n"
     ]
    },
    {
     "name": "stdout",
     "output_type": "stream",
     "text": [
      "Run 6 Mean Absolute Error: 162.37688\n",
      "This is training run 7 and has the shape:  (87600, 41)\n",
      "The value of dropped columns is 55\n"
     ]
    },
    {
     "name": "stderr",
     "output_type": "stream",
     "text": [
      "/Users/alexellard/opt/anaconda3/lib/python3.7/site-packages/xgboost/data.py:96: UserWarning: Use subset (sliced data) of np.ndarray is not recommended because it will generate extra copies and increase memory consumption\n",
      "  \"because it will generate extra copies and increase \" +\n"
     ]
    },
    {
     "name": "stdout",
     "output_type": "stream",
     "text": [
      "Run 7 Mean Absolute Error: 162.37688\n",
      "This is training run 8 and has the shape:  (87600, 41)\n",
      "The value of dropped columns is 55\n"
     ]
    },
    {
     "name": "stderr",
     "output_type": "stream",
     "text": [
      "/Users/alexellard/opt/anaconda3/lib/python3.7/site-packages/xgboost/data.py:96: UserWarning: Use subset (sliced data) of np.ndarray is not recommended because it will generate extra copies and increase memory consumption\n",
      "  \"because it will generate extra copies and increase \" +\n"
     ]
    },
    {
     "name": "stdout",
     "output_type": "stream",
     "text": [
      "Run 8 Mean Absolute Error: 162.37688\n",
      "This is training run 9 and has the shape:  (87600, 41)\n",
      "The value of dropped columns is 55\n"
     ]
    },
    {
     "name": "stderr",
     "output_type": "stream",
     "text": [
      "/Users/alexellard/opt/anaconda3/lib/python3.7/site-packages/xgboost/data.py:96: UserWarning: Use subset (sliced data) of np.ndarray is not recommended because it will generate extra copies and increase memory consumption\n",
      "  \"because it will generate extra copies and increase \" +\n"
     ]
    },
    {
     "name": "stdout",
     "output_type": "stream",
     "text": [
      "Run 9 Mean Absolute Error: 162.37688\n",
      "This is training run 10 and has the shape:  (87600, 41)\n",
      "The value of dropped columns is 55\n"
     ]
    },
    {
     "name": "stderr",
     "output_type": "stream",
     "text": [
      "/Users/alexellard/opt/anaconda3/lib/python3.7/site-packages/xgboost/data.py:96: UserWarning: Use subset (sliced data) of np.ndarray is not recommended because it will generate extra copies and increase memory consumption\n",
      "  \"because it will generate extra copies and increase \" +\n"
     ]
    },
    {
     "name": "stdout",
     "output_type": "stream",
     "text": [
      "Run 10 Mean Absolute Error: 162.37688\n",
      "starting df shape: (87600, 36)\n",
      "This is training run 1 and has the shape:  (87600, 36)\n",
      "The value of dropped columns is 60\n"
     ]
    },
    {
     "name": "stderr",
     "output_type": "stream",
     "text": [
      "/Users/alexellard/opt/anaconda3/lib/python3.7/site-packages/xgboost/data.py:96: UserWarning: Use subset (sliced data) of np.ndarray is not recommended because it will generate extra copies and increase memory consumption\n",
      "  \"because it will generate extra copies and increase \" +\n"
     ]
    },
    {
     "name": "stdout",
     "output_type": "stream",
     "text": [
      "Run 1 Mean Absolute Error: 106.098236\n",
      "This is training run 2 and has the shape:  (87600, 36)\n",
      "The value of dropped columns is 60\n"
     ]
    },
    {
     "name": "stderr",
     "output_type": "stream",
     "text": [
      "/Users/alexellard/opt/anaconda3/lib/python3.7/site-packages/xgboost/data.py:96: UserWarning: Use subset (sliced data) of np.ndarray is not recommended because it will generate extra copies and increase memory consumption\n",
      "  \"because it will generate extra copies and increase \" +\n"
     ]
    },
    {
     "name": "stdout",
     "output_type": "stream",
     "text": [
      "Run 2 Mean Absolute Error: 106.098236\n",
      "This is training run 3 and has the shape:  (87600, 36)\n",
      "The value of dropped columns is 60\n"
     ]
    },
    {
     "name": "stderr",
     "output_type": "stream",
     "text": [
      "/Users/alexellard/opt/anaconda3/lib/python3.7/site-packages/xgboost/data.py:96: UserWarning: Use subset (sliced data) of np.ndarray is not recommended because it will generate extra copies and increase memory consumption\n",
      "  \"because it will generate extra copies and increase \" +\n"
     ]
    },
    {
     "name": "stdout",
     "output_type": "stream",
     "text": [
      "Run 3 Mean Absolute Error: 106.098236\n",
      "This is training run 4 and has the shape:  (87600, 36)\n",
      "The value of dropped columns is 60\n"
     ]
    },
    {
     "name": "stderr",
     "output_type": "stream",
     "text": [
      "/Users/alexellard/opt/anaconda3/lib/python3.7/site-packages/xgboost/data.py:96: UserWarning: Use subset (sliced data) of np.ndarray is not recommended because it will generate extra copies and increase memory consumption\n",
      "  \"because it will generate extra copies and increase \" +\n"
     ]
    },
    {
     "name": "stdout",
     "output_type": "stream",
     "text": [
      "Run 4 Mean Absolute Error: 106.098236\n",
      "This is training run 5 and has the shape:  (87600, 36)\n",
      "The value of dropped columns is 60\n"
     ]
    },
    {
     "name": "stderr",
     "output_type": "stream",
     "text": [
      "/Users/alexellard/opt/anaconda3/lib/python3.7/site-packages/xgboost/data.py:96: UserWarning: Use subset (sliced data) of np.ndarray is not recommended because it will generate extra copies and increase memory consumption\n",
      "  \"because it will generate extra copies and increase \" +\n"
     ]
    },
    {
     "name": "stdout",
     "output_type": "stream",
     "text": [
      "Run 5 Mean Absolute Error: 106.098236\n",
      "This is training run 6 and has the shape:  (87600, 36)\n",
      "The value of dropped columns is 60\n"
     ]
    },
    {
     "name": "stderr",
     "output_type": "stream",
     "text": [
      "/Users/alexellard/opt/anaconda3/lib/python3.7/site-packages/xgboost/data.py:96: UserWarning: Use subset (sliced data) of np.ndarray is not recommended because it will generate extra copies and increase memory consumption\n",
      "  \"because it will generate extra copies and increase \" +\n"
     ]
    },
    {
     "name": "stdout",
     "output_type": "stream",
     "text": [
      "Run 6 Mean Absolute Error: 106.098236\n",
      "This is training run 7 and has the shape:  (87600, 36)\n",
      "The value of dropped columns is 60\n"
     ]
    },
    {
     "name": "stderr",
     "output_type": "stream",
     "text": [
      "/Users/alexellard/opt/anaconda3/lib/python3.7/site-packages/xgboost/data.py:96: UserWarning: Use subset (sliced data) of np.ndarray is not recommended because it will generate extra copies and increase memory consumption\n",
      "  \"because it will generate extra copies and increase \" +\n"
     ]
    },
    {
     "name": "stdout",
     "output_type": "stream",
     "text": [
      "Run 7 Mean Absolute Error: 106.098236\n",
      "This is training run 8 and has the shape:  (87600, 36)\n",
      "The value of dropped columns is 60\n"
     ]
    },
    {
     "name": "stderr",
     "output_type": "stream",
     "text": [
      "/Users/alexellard/opt/anaconda3/lib/python3.7/site-packages/xgboost/data.py:96: UserWarning: Use subset (sliced data) of np.ndarray is not recommended because it will generate extra copies and increase memory consumption\n",
      "  \"because it will generate extra copies and increase \" +\n"
     ]
    },
    {
     "name": "stdout",
     "output_type": "stream",
     "text": [
      "Run 8 Mean Absolute Error: 106.098236\n",
      "This is training run 9 and has the shape:  (87600, 36)\n",
      "The value of dropped columns is 60\n"
     ]
    },
    {
     "name": "stderr",
     "output_type": "stream",
     "text": [
      "/Users/alexellard/opt/anaconda3/lib/python3.7/site-packages/xgboost/data.py:96: UserWarning: Use subset (sliced data) of np.ndarray is not recommended because it will generate extra copies and increase memory consumption\n",
      "  \"because it will generate extra copies and increase \" +\n"
     ]
    },
    {
     "name": "stdout",
     "output_type": "stream",
     "text": [
      "Run 9 Mean Absolute Error: 106.098236\n",
      "This is training run 10 and has the shape:  (87600, 36)\n",
      "The value of dropped columns is 60\n"
     ]
    },
    {
     "name": "stderr",
     "output_type": "stream",
     "text": [
      "/Users/alexellard/opt/anaconda3/lib/python3.7/site-packages/xgboost/data.py:96: UserWarning: Use subset (sliced data) of np.ndarray is not recommended because it will generate extra copies and increase memory consumption\n",
      "  \"because it will generate extra copies and increase \" +\n"
     ]
    },
    {
     "name": "stdout",
     "output_type": "stream",
     "text": [
      "Run 10 Mean Absolute Error: 106.098236\n",
      "starting df shape: (87600, 32)\n",
      "This is training run 1 and has the shape:  (87600, 32)\n",
      "The value of dropped columns is 65\n"
     ]
    },
    {
     "name": "stderr",
     "output_type": "stream",
     "text": [
      "/Users/alexellard/opt/anaconda3/lib/python3.7/site-packages/xgboost/data.py:96: UserWarning: Use subset (sliced data) of np.ndarray is not recommended because it will generate extra copies and increase memory consumption\n",
      "  \"because it will generate extra copies and increase \" +\n"
     ]
    },
    {
     "name": "stdout",
     "output_type": "stream",
     "text": [
      "Run 1 Mean Absolute Error: 8.1556015\n",
      "This is training run 2 and has the shape:  (87600, 32)\n",
      "The value of dropped columns is 65\n"
     ]
    },
    {
     "name": "stderr",
     "output_type": "stream",
     "text": [
      "/Users/alexellard/opt/anaconda3/lib/python3.7/site-packages/xgboost/data.py:96: UserWarning: Use subset (sliced data) of np.ndarray is not recommended because it will generate extra copies and increase memory consumption\n",
      "  \"because it will generate extra copies and increase \" +\n"
     ]
    },
    {
     "name": "stdout",
     "output_type": "stream",
     "text": [
      "Run 2 Mean Absolute Error: 8.1556015\n",
      "This is training run 3 and has the shape:  (87600, 32)\n",
      "The value of dropped columns is 65\n"
     ]
    },
    {
     "name": "stderr",
     "output_type": "stream",
     "text": [
      "/Users/alexellard/opt/anaconda3/lib/python3.7/site-packages/xgboost/data.py:96: UserWarning: Use subset (sliced data) of np.ndarray is not recommended because it will generate extra copies and increase memory consumption\n",
      "  \"because it will generate extra copies and increase \" +\n"
     ]
    },
    {
     "name": "stdout",
     "output_type": "stream",
     "text": [
      "Run 3 Mean Absolute Error: 8.1556015\n",
      "This is training run 4 and has the shape:  (87600, 32)\n",
      "The value of dropped columns is 65\n"
     ]
    },
    {
     "name": "stderr",
     "output_type": "stream",
     "text": [
      "/Users/alexellard/opt/anaconda3/lib/python3.7/site-packages/xgboost/data.py:96: UserWarning: Use subset (sliced data) of np.ndarray is not recommended because it will generate extra copies and increase memory consumption\n",
      "  \"because it will generate extra copies and increase \" +\n"
     ]
    },
    {
     "name": "stdout",
     "output_type": "stream",
     "text": [
      "Run 4 Mean Absolute Error: 8.1556015\n",
      "This is training run 5 and has the shape:  (87600, 32)\n",
      "The value of dropped columns is 65\n"
     ]
    },
    {
     "name": "stderr",
     "output_type": "stream",
     "text": [
      "/Users/alexellard/opt/anaconda3/lib/python3.7/site-packages/xgboost/data.py:96: UserWarning: Use subset (sliced data) of np.ndarray is not recommended because it will generate extra copies and increase memory consumption\n",
      "  \"because it will generate extra copies and increase \" +\n"
     ]
    },
    {
     "name": "stdout",
     "output_type": "stream",
     "text": [
      "Run 5 Mean Absolute Error: 8.1556015\n",
      "This is training run 6 and has the shape:  (87600, 32)\n",
      "The value of dropped columns is 65\n"
     ]
    },
    {
     "name": "stderr",
     "output_type": "stream",
     "text": [
      "/Users/alexellard/opt/anaconda3/lib/python3.7/site-packages/xgboost/data.py:96: UserWarning: Use subset (sliced data) of np.ndarray is not recommended because it will generate extra copies and increase memory consumption\n",
      "  \"because it will generate extra copies and increase \" +\n"
     ]
    },
    {
     "name": "stdout",
     "output_type": "stream",
     "text": [
      "Run 6 Mean Absolute Error: 8.1556015\n",
      "This is training run 7 and has the shape:  (87600, 32)\n",
      "The value of dropped columns is 65\n"
     ]
    },
    {
     "name": "stderr",
     "output_type": "stream",
     "text": [
      "/Users/alexellard/opt/anaconda3/lib/python3.7/site-packages/xgboost/data.py:96: UserWarning: Use subset (sliced data) of np.ndarray is not recommended because it will generate extra copies and increase memory consumption\n",
      "  \"because it will generate extra copies and increase \" +\n"
     ]
    },
    {
     "name": "stdout",
     "output_type": "stream",
     "text": [
      "Run 7 Mean Absolute Error: 8.1556015\n",
      "This is training run 8 and has the shape:  (87600, 32)\n",
      "The value of dropped columns is 65\n"
     ]
    },
    {
     "name": "stderr",
     "output_type": "stream",
     "text": [
      "/Users/alexellard/opt/anaconda3/lib/python3.7/site-packages/xgboost/data.py:96: UserWarning: Use subset (sliced data) of np.ndarray is not recommended because it will generate extra copies and increase memory consumption\n",
      "  \"because it will generate extra copies and increase \" +\n"
     ]
    },
    {
     "name": "stdout",
     "output_type": "stream",
     "text": [
      "Run 8 Mean Absolute Error: 8.1556015\n",
      "This is training run 9 and has the shape:  (87600, 32)\n",
      "The value of dropped columns is 65\n"
     ]
    },
    {
     "name": "stderr",
     "output_type": "stream",
     "text": [
      "/Users/alexellard/opt/anaconda3/lib/python3.7/site-packages/xgboost/data.py:96: UserWarning: Use subset (sliced data) of np.ndarray is not recommended because it will generate extra copies and increase memory consumption\n",
      "  \"because it will generate extra copies and increase \" +\n"
     ]
    },
    {
     "name": "stdout",
     "output_type": "stream",
     "text": [
      "Run 9 Mean Absolute Error: 8.1556015\n",
      "This is training run 10 and has the shape:  (87600, 32)\n",
      "The value of dropped columns is 65\n"
     ]
    },
    {
     "name": "stderr",
     "output_type": "stream",
     "text": [
      "/Users/alexellard/opt/anaconda3/lib/python3.7/site-packages/xgboost/data.py:96: UserWarning: Use subset (sliced data) of np.ndarray is not recommended because it will generate extra copies and increase memory consumption\n",
      "  \"because it will generate extra copies and increase \" +\n"
     ]
    },
    {
     "name": "stdout",
     "output_type": "stream",
     "text": [
      "Run 10 Mean Absolute Error: 8.1556015\n",
      "starting df shape: (87600, 27)\n",
      "This is training run 1 and has the shape:  (87600, 27)\n",
      "The value of dropped columns is 70\n"
     ]
    },
    {
     "name": "stderr",
     "output_type": "stream",
     "text": [
      "/Users/alexellard/opt/anaconda3/lib/python3.7/site-packages/xgboost/data.py:96: UserWarning: Use subset (sliced data) of np.ndarray is not recommended because it will generate extra copies and increase memory consumption\n",
      "  \"because it will generate extra copies and increase \" +\n"
     ]
    },
    {
     "name": "stdout",
     "output_type": "stream",
     "text": [
      "Run 1 Mean Absolute Error: 2.7283418\n",
      "This is training run 2 and has the shape:  (87600, 27)\n",
      "The value of dropped columns is 70\n"
     ]
    },
    {
     "name": "stderr",
     "output_type": "stream",
     "text": [
      "/Users/alexellard/opt/anaconda3/lib/python3.7/site-packages/xgboost/data.py:96: UserWarning: Use subset (sliced data) of np.ndarray is not recommended because it will generate extra copies and increase memory consumption\n",
      "  \"because it will generate extra copies and increase \" +\n"
     ]
    },
    {
     "name": "stdout",
     "output_type": "stream",
     "text": [
      "Run 2 Mean Absolute Error: 2.7283418\n",
      "This is training run 3 and has the shape:  (87600, 27)\n",
      "The value of dropped columns is 70\n"
     ]
    },
    {
     "name": "stderr",
     "output_type": "stream",
     "text": [
      "/Users/alexellard/opt/anaconda3/lib/python3.7/site-packages/xgboost/data.py:96: UserWarning: Use subset (sliced data) of np.ndarray is not recommended because it will generate extra copies and increase memory consumption\n",
      "  \"because it will generate extra copies and increase \" +\n"
     ]
    },
    {
     "name": "stdout",
     "output_type": "stream",
     "text": [
      "Run 3 Mean Absolute Error: 2.7283418\n",
      "This is training run 4 and has the shape:  (87600, 27)\n",
      "The value of dropped columns is 70\n"
     ]
    },
    {
     "name": "stderr",
     "output_type": "stream",
     "text": [
      "/Users/alexellard/opt/anaconda3/lib/python3.7/site-packages/xgboost/data.py:96: UserWarning: Use subset (sliced data) of np.ndarray is not recommended because it will generate extra copies and increase memory consumption\n",
      "  \"because it will generate extra copies and increase \" +\n"
     ]
    },
    {
     "name": "stdout",
     "output_type": "stream",
     "text": [
      "Run 4 Mean Absolute Error: 2.7283418\n",
      "This is training run 5 and has the shape:  (87600, 27)\n",
      "The value of dropped columns is 70\n"
     ]
    },
    {
     "name": "stderr",
     "output_type": "stream",
     "text": [
      "/Users/alexellard/opt/anaconda3/lib/python3.7/site-packages/xgboost/data.py:96: UserWarning: Use subset (sliced data) of np.ndarray is not recommended because it will generate extra copies and increase memory consumption\n",
      "  \"because it will generate extra copies and increase \" +\n"
     ]
    },
    {
     "name": "stdout",
     "output_type": "stream",
     "text": [
      "Run 5 Mean Absolute Error: 2.7283418\n",
      "This is training run 6 and has the shape:  (87600, 27)\n",
      "The value of dropped columns is 70\n"
     ]
    },
    {
     "name": "stderr",
     "output_type": "stream",
     "text": [
      "/Users/alexellard/opt/anaconda3/lib/python3.7/site-packages/xgboost/data.py:96: UserWarning: Use subset (sliced data) of np.ndarray is not recommended because it will generate extra copies and increase memory consumption\n",
      "  \"because it will generate extra copies and increase \" +\n"
     ]
    },
    {
     "name": "stdout",
     "output_type": "stream",
     "text": [
      "Run 6 Mean Absolute Error: 2.7283418\n",
      "This is training run 7 and has the shape:  (87600, 27)\n",
      "The value of dropped columns is 70\n"
     ]
    },
    {
     "name": "stderr",
     "output_type": "stream",
     "text": [
      "/Users/alexellard/opt/anaconda3/lib/python3.7/site-packages/xgboost/data.py:96: UserWarning: Use subset (sliced data) of np.ndarray is not recommended because it will generate extra copies and increase memory consumption\n",
      "  \"because it will generate extra copies and increase \" +\n"
     ]
    },
    {
     "name": "stdout",
     "output_type": "stream",
     "text": [
      "Run 7 Mean Absolute Error: 2.7283418\n",
      "This is training run 8 and has the shape:  (87600, 27)\n",
      "The value of dropped columns is 70\n"
     ]
    },
    {
     "name": "stderr",
     "output_type": "stream",
     "text": [
      "/Users/alexellard/opt/anaconda3/lib/python3.7/site-packages/xgboost/data.py:96: UserWarning: Use subset (sliced data) of np.ndarray is not recommended because it will generate extra copies and increase memory consumption\n",
      "  \"because it will generate extra copies and increase \" +\n"
     ]
    },
    {
     "name": "stdout",
     "output_type": "stream",
     "text": [
      "Run 8 Mean Absolute Error: 2.7283418\n",
      "This is training run 9 and has the shape:  (87600, 27)\n",
      "The value of dropped columns is 70\n"
     ]
    },
    {
     "name": "stderr",
     "output_type": "stream",
     "text": [
      "/Users/alexellard/opt/anaconda3/lib/python3.7/site-packages/xgboost/data.py:96: UserWarning: Use subset (sliced data) of np.ndarray is not recommended because it will generate extra copies and increase memory consumption\n",
      "  \"because it will generate extra copies and increase \" +\n"
     ]
    },
    {
     "name": "stdout",
     "output_type": "stream",
     "text": [
      "Run 9 Mean Absolute Error: 2.7283418\n",
      "This is training run 10 and has the shape:  (87600, 27)\n",
      "The value of dropped columns is 70\n"
     ]
    },
    {
     "name": "stderr",
     "output_type": "stream",
     "text": [
      "/Users/alexellard/opt/anaconda3/lib/python3.7/site-packages/xgboost/data.py:96: UserWarning: Use subset (sliced data) of np.ndarray is not recommended because it will generate extra copies and increase memory consumption\n",
      "  \"because it will generate extra copies and increase \" +\n"
     ]
    },
    {
     "name": "stdout",
     "output_type": "stream",
     "text": [
      "Run 10 Mean Absolute Error: 2.7283418\n",
      "starting df shape: (87600, 22)\n",
      "This is training run 1 and has the shape:  (87600, 22)\n",
      "The value of dropped columns is 75\n"
     ]
    },
    {
     "name": "stderr",
     "output_type": "stream",
     "text": [
      "/Users/alexellard/opt/anaconda3/lib/python3.7/site-packages/xgboost/data.py:96: UserWarning: Use subset (sliced data) of np.ndarray is not recommended because it will generate extra copies and increase memory consumption\n",
      "  \"because it will generate extra copies and increase \" +\n"
     ]
    },
    {
     "name": "stdout",
     "output_type": "stream",
     "text": [
      "Run 1 Mean Absolute Error: 136.76276\n",
      "This is training run 2 and has the shape:  (87600, 22)\n",
      "The value of dropped columns is 75\n"
     ]
    },
    {
     "name": "stderr",
     "output_type": "stream",
     "text": [
      "/Users/alexellard/opt/anaconda3/lib/python3.7/site-packages/xgboost/data.py:96: UserWarning: Use subset (sliced data) of np.ndarray is not recommended because it will generate extra copies and increase memory consumption\n",
      "  \"because it will generate extra copies and increase \" +\n"
     ]
    },
    {
     "name": "stdout",
     "output_type": "stream",
     "text": [
      "Run 2 Mean Absolute Error: 136.76276\n",
      "This is training run 3 and has the shape:  (87600, 22)\n",
      "The value of dropped columns is 75\n"
     ]
    },
    {
     "name": "stderr",
     "output_type": "stream",
     "text": [
      "/Users/alexellard/opt/anaconda3/lib/python3.7/site-packages/xgboost/data.py:96: UserWarning: Use subset (sliced data) of np.ndarray is not recommended because it will generate extra copies and increase memory consumption\n",
      "  \"because it will generate extra copies and increase \" +\n"
     ]
    },
    {
     "name": "stdout",
     "output_type": "stream",
     "text": [
      "Run 3 Mean Absolute Error: 136.76276\n",
      "This is training run 4 and has the shape:  (87600, 22)\n",
      "The value of dropped columns is 75\n"
     ]
    },
    {
     "name": "stderr",
     "output_type": "stream",
     "text": [
      "/Users/alexellard/opt/anaconda3/lib/python3.7/site-packages/xgboost/data.py:96: UserWarning: Use subset (sliced data) of np.ndarray is not recommended because it will generate extra copies and increase memory consumption\n",
      "  \"because it will generate extra copies and increase \" +\n"
     ]
    },
    {
     "name": "stdout",
     "output_type": "stream",
     "text": [
      "Run 4 Mean Absolute Error: 136.76276\n",
      "This is training run 5 and has the shape:  (87600, 22)\n",
      "The value of dropped columns is 75\n"
     ]
    },
    {
     "name": "stderr",
     "output_type": "stream",
     "text": [
      "/Users/alexellard/opt/anaconda3/lib/python3.7/site-packages/xgboost/data.py:96: UserWarning: Use subset (sliced data) of np.ndarray is not recommended because it will generate extra copies and increase memory consumption\n",
      "  \"because it will generate extra copies and increase \" +\n"
     ]
    },
    {
     "name": "stdout",
     "output_type": "stream",
     "text": [
      "Run 5 Mean Absolute Error: 136.76276\n",
      "This is training run 6 and has the shape:  (87600, 22)\n",
      "The value of dropped columns is 75\n"
     ]
    },
    {
     "name": "stderr",
     "output_type": "stream",
     "text": [
      "/Users/alexellard/opt/anaconda3/lib/python3.7/site-packages/xgboost/data.py:96: UserWarning: Use subset (sliced data) of np.ndarray is not recommended because it will generate extra copies and increase memory consumption\n",
      "  \"because it will generate extra copies and increase \" +\n"
     ]
    },
    {
     "name": "stdout",
     "output_type": "stream",
     "text": [
      "Run 6 Mean Absolute Error: 136.76276\n",
      "This is training run 7 and has the shape:  (87600, 22)\n",
      "The value of dropped columns is 75\n"
     ]
    },
    {
     "name": "stderr",
     "output_type": "stream",
     "text": [
      "/Users/alexellard/opt/anaconda3/lib/python3.7/site-packages/xgboost/data.py:96: UserWarning: Use subset (sliced data) of np.ndarray is not recommended because it will generate extra copies and increase memory consumption\n",
      "  \"because it will generate extra copies and increase \" +\n"
     ]
    },
    {
     "name": "stdout",
     "output_type": "stream",
     "text": [
      "Run 7 Mean Absolute Error: 136.76276\n",
      "This is training run 8 and has the shape:  (87600, 22)\n",
      "The value of dropped columns is 75\n"
     ]
    },
    {
     "name": "stderr",
     "output_type": "stream",
     "text": [
      "/Users/alexellard/opt/anaconda3/lib/python3.7/site-packages/xgboost/data.py:96: UserWarning: Use subset (sliced data) of np.ndarray is not recommended because it will generate extra copies and increase memory consumption\n",
      "  \"because it will generate extra copies and increase \" +\n"
     ]
    },
    {
     "name": "stdout",
     "output_type": "stream",
     "text": [
      "Run 8 Mean Absolute Error: 136.76276\n",
      "This is training run 9 and has the shape:  (87600, 22)\n",
      "The value of dropped columns is 75\n"
     ]
    },
    {
     "name": "stderr",
     "output_type": "stream",
     "text": [
      "/Users/alexellard/opt/anaconda3/lib/python3.7/site-packages/xgboost/data.py:96: UserWarning: Use subset (sliced data) of np.ndarray is not recommended because it will generate extra copies and increase memory consumption\n",
      "  \"because it will generate extra copies and increase \" +\n"
     ]
    },
    {
     "name": "stdout",
     "output_type": "stream",
     "text": [
      "Run 9 Mean Absolute Error: 136.76276\n",
      "This is training run 10 and has the shape:  (87600, 22)\n",
      "The value of dropped columns is 75\n"
     ]
    },
    {
     "name": "stderr",
     "output_type": "stream",
     "text": [
      "/Users/alexellard/opt/anaconda3/lib/python3.7/site-packages/xgboost/data.py:96: UserWarning: Use subset (sliced data) of np.ndarray is not recommended because it will generate extra copies and increase memory consumption\n",
      "  \"because it will generate extra copies and increase \" +\n"
     ]
    },
    {
     "name": "stdout",
     "output_type": "stream",
     "text": [
      "Run 10 Mean Absolute Error: 136.76276\n",
      "Length MAE_average:  16\n",
      "Length sensors_covered:  16\n"
     ]
    }
   ],
   "source": [
    "MAE_average = []\n",
    "sensors_covered = []\n",
    "n_columns_to_drop = [0, 5, 10, 15, 20, 25, 30, 35, 40, 45, 50, 55, 60, 65, 70, 75]\n",
    "for n in n_columns_to_drop:\n",
    "    values = df.values\n",
    "    values = values.astype('float32')\n",
    "    reframed_demand_node16 = series_to_supervised(values, 1, 1, vars_to_predict=target_variable_demand_node16)\n",
    "    reframed_demand_node16 = reframed_demand_node16.drop(reframed_demand_node16.columns[16], axis=1)\n",
    "    MAE = []\n",
    "    #select random columns to drop\n",
    "    columns_to_drop = random.sample(list(reframed_demand_node16.columns), n)\n",
    "    # Drop the selected columns from the dataframe\n",
    "    if reframed_demand_node16.columns[-1] in columns_to_drop:\n",
    "        columns_to_drop.remove(reframed_demand_node16.columns[-1])\n",
    "    reframed_demand_node16.drop(columns_to_drop, axis=1, inplace=True)\n",
    "    print('starting df shape:', reframed_demand_node16.shape)\n",
    "    for run in range(1,11):\n",
    "        print(f'This is training run {run} and has the shape: ', reframed_demand_node16.shape)\n",
    "        print(f'The value of dropped columns is {n}')\n",
    "\n",
    "        # split into train and test sets\n",
    "        values = reframed_demand_node16.values\n",
    "        scaled = scaler.fit_transform(values)\n",
    "        train, test = train_test_split(scaled, test_size=0.2, random_state=0)\n",
    "\n",
    "        # split into input and outputs\n",
    "        train_X, train_y = train[:, :-1], train[:, -1]\n",
    "        test_X, test_y = test[:, :-1], test[:, -1]\n",
    "\n",
    "        #define model\n",
    "        model = xgb.XGBRegressor(\n",
    "            objective='reg:squarederror',\n",
    "            n_estimators=100,\n",
    "            max_depth=6,\n",
    "            learning_rate=0.1,\n",
    "            subsample=0.9,\n",
    "            colsample_bytree=0.8,\n",
    "            random_state=42\n",
    "        )\n",
    "\n",
    "        # fit the model on the training data\n",
    "        model.fit(train_X, train_y)\n",
    "\n",
    "        # make predictions on the test data\n",
    "        y_pred = model.predict(test_X)\n",
    "\n",
    "        test_y = test_y.reshape((len(test_y), 1))\n",
    "        inv_test_y = concatenate((test_y, test_X[:, -reframed_demand_node16.shape[1]:]), axis=1)\n",
    "        test_y_inverse = scaler.inverse_transform(inv_test_y)\n",
    "        test_y_inverse = test_y_inverse[:,0]\n",
    "\n",
    "        y_pred = y_pred.reshape((len(y_pred), 1))\n",
    "        inv_y_pred = concatenate((y_pred, test_X[:, -reframed_demand_node16.shape[1]:]), axis=1)\n",
    "        y_pred_inverse = scaler.inverse_transform(inv_y_pred)\n",
    "        y_pred_inverse = y_pred_inverse[:,0]\n",
    "\n",
    "        # evaluate scaled errors\n",
    "        mae_inverse = mean_absolute_error(test_y_inverse, y_pred_inverse)\n",
    "        MAE.append(mae_inverse)\n",
    "        print(f'Run {run} Mean Absolute Error:', mae_inverse)\n",
    "    percentage_list = round(reframed_demand_node16.shape[1] / 96 * 100)\n",
    "    sensors_covered.append(percentage_list)\n",
    "    MAE_mean = mean(MAE)\n",
    "    MAE_average.append(MAE_mean)\n",
    "print('Length MAE_average: ', len(MAE_average))\n",
    "print('Length sensors_covered: ', len(sensors_covered))"
   ]
  },
  {
   "cell_type": "code",
   "execution_count": 26,
   "metadata": {},
   "outputs": [
    {
     "data": {
      "text/plain": [
       "[45.364094,\n",
       " 47.01856,\n",
       " 46.827423,\n",
       " 47.823517,\n",
       " 3.188347,\n",
       " 130.90436,\n",
       " 118.18964,\n",
       " 7.486559,\n",
       " 2.850267,\n",
       " 6.5760517,\n",
       " 5.871266,\n",
       " 162.37688,\n",
       " 106.098236,\n",
       " 8.1556015,\n",
       " 2.7283418,\n",
       " 136.76276]"
      ]
     },
     "execution_count": 26,
     "metadata": {},
     "output_type": "execute_result"
    }
   ],
   "source": [
    "MAE_average"
   ]
  },
  {
   "cell_type": "code",
   "execution_count": 14,
   "metadata": {},
   "outputs": [
    {
     "name": "stdout",
     "output_type": "stream",
     "text": [
      "starting df shape: (87600, 96)\n",
      "This is training run 1 and has the shape:  (87600, 96)\n",
      "The value of dropped columns is 0\n"
     ]
    },
    {
     "name": "stderr",
     "output_type": "stream",
     "text": [
      "/Users/alexellard/opt/anaconda3/lib/python3.7/site-packages/xgboost/data.py:96: UserWarning: Use subset (sliced data) of np.ndarray is not recommended because it will generate extra copies and increase memory consumption\n",
      "  \"because it will generate extra copies and increase \" +\n"
     ]
    },
    {
     "name": "stdout",
     "output_type": "stream",
     "text": [
      "test y shape : (17520, 1)\n",
      "Inv y shape : (17520, 96)\n",
      "y pred shape : (17520, 1)\n",
      "inv y pred : (17520, 96)\n",
      "Run 1 Mean Absolute Error: 45.364094\n",
      "starting df shape: (87600, 96)\n",
      "This is training run 2 and has the shape:  (87600, 96)\n",
      "The value of dropped columns is 0\n"
     ]
    },
    {
     "name": "stderr",
     "output_type": "stream",
     "text": [
      "/Users/alexellard/opt/anaconda3/lib/python3.7/site-packages/xgboost/data.py:96: UserWarning: Use subset (sliced data) of np.ndarray is not recommended because it will generate extra copies and increase memory consumption\n",
      "  \"because it will generate extra copies and increase \" +\n"
     ]
    },
    {
     "name": "stdout",
     "output_type": "stream",
     "text": [
      "test y shape : (17520, 1)\n",
      "Inv y shape : (17520, 96)\n",
      "y pred shape : (17520, 1)\n",
      "inv y pred : (17520, 96)\n",
      "Run 2 Mean Absolute Error: 45.364094\n",
      "starting df shape: (87600, 96)\n",
      "This is training run 3 and has the shape:  (87600, 96)\n",
      "The value of dropped columns is 0\n"
     ]
    },
    {
     "name": "stderr",
     "output_type": "stream",
     "text": [
      "/Users/alexellard/opt/anaconda3/lib/python3.7/site-packages/xgboost/data.py:96: UserWarning: Use subset (sliced data) of np.ndarray is not recommended because it will generate extra copies and increase memory consumption\n",
      "  \"because it will generate extra copies and increase \" +\n"
     ]
    },
    {
     "name": "stdout",
     "output_type": "stream",
     "text": [
      "test y shape : (17520, 1)\n",
      "Inv y shape : (17520, 96)\n",
      "y pred shape : (17520, 1)\n",
      "inv y pred : (17520, 96)\n",
      "Run 3 Mean Absolute Error: 45.364094\n",
      "starting df shape: (87600, 96)\n",
      "This is training run 4 and has the shape:  (87600, 96)\n",
      "The value of dropped columns is 0\n"
     ]
    },
    {
     "name": "stderr",
     "output_type": "stream",
     "text": [
      "/Users/alexellard/opt/anaconda3/lib/python3.7/site-packages/xgboost/data.py:96: UserWarning: Use subset (sliced data) of np.ndarray is not recommended because it will generate extra copies and increase memory consumption\n",
      "  \"because it will generate extra copies and increase \" +\n"
     ]
    },
    {
     "name": "stdout",
     "output_type": "stream",
     "text": [
      "test y shape : (17520, 1)\n",
      "Inv y shape : (17520, 96)\n",
      "y pred shape : (17520, 1)\n",
      "inv y pred : (17520, 96)\n",
      "Run 4 Mean Absolute Error: 45.364094\n",
      "starting df shape: (87600, 96)\n",
      "This is training run 5 and has the shape:  (87600, 96)\n",
      "The value of dropped columns is 0\n"
     ]
    },
    {
     "name": "stderr",
     "output_type": "stream",
     "text": [
      "/Users/alexellard/opt/anaconda3/lib/python3.7/site-packages/xgboost/data.py:96: UserWarning: Use subset (sliced data) of np.ndarray is not recommended because it will generate extra copies and increase memory consumption\n",
      "  \"because it will generate extra copies and increase \" +\n"
     ]
    },
    {
     "name": "stdout",
     "output_type": "stream",
     "text": [
      "test y shape : (17520, 1)\n",
      "Inv y shape : (17520, 96)\n",
      "y pred shape : (17520, 1)\n",
      "inv y pred : (17520, 96)\n",
      "Run 5 Mean Absolute Error: 45.364094\n",
      "starting df shape: (87600, 96)\n",
      "This is training run 6 and has the shape:  (87600, 96)\n",
      "The value of dropped columns is 0\n"
     ]
    },
    {
     "name": "stderr",
     "output_type": "stream",
     "text": [
      "/Users/alexellard/opt/anaconda3/lib/python3.7/site-packages/xgboost/data.py:96: UserWarning: Use subset (sliced data) of np.ndarray is not recommended because it will generate extra copies and increase memory consumption\n",
      "  \"because it will generate extra copies and increase \" +\n"
     ]
    },
    {
     "name": "stdout",
     "output_type": "stream",
     "text": [
      "test y shape : (17520, 1)\n",
      "Inv y shape : (17520, 96)\n",
      "y pred shape : (17520, 1)\n",
      "inv y pred : (17520, 96)\n",
      "Run 6 Mean Absolute Error: 45.364094\n",
      "starting df shape: (87600, 96)\n",
      "This is training run 7 and has the shape:  (87600, 96)\n",
      "The value of dropped columns is 0\n"
     ]
    },
    {
     "name": "stderr",
     "output_type": "stream",
     "text": [
      "/Users/alexellard/opt/anaconda3/lib/python3.7/site-packages/xgboost/data.py:96: UserWarning: Use subset (sliced data) of np.ndarray is not recommended because it will generate extra copies and increase memory consumption\n",
      "  \"because it will generate extra copies and increase \" +\n"
     ]
    },
    {
     "name": "stdout",
     "output_type": "stream",
     "text": [
      "test y shape : (17520, 1)\n",
      "Inv y shape : (17520, 96)\n",
      "y pred shape : (17520, 1)\n",
      "inv y pred : (17520, 96)\n",
      "Run 7 Mean Absolute Error: 45.364094\n",
      "starting df shape: (87600, 96)\n",
      "This is training run 8 and has the shape:  (87600, 96)\n",
      "The value of dropped columns is 0\n"
     ]
    },
    {
     "name": "stderr",
     "output_type": "stream",
     "text": [
      "/Users/alexellard/opt/anaconda3/lib/python3.7/site-packages/xgboost/data.py:96: UserWarning: Use subset (sliced data) of np.ndarray is not recommended because it will generate extra copies and increase memory consumption\n",
      "  \"because it will generate extra copies and increase \" +\n"
     ]
    },
    {
     "name": "stdout",
     "output_type": "stream",
     "text": [
      "test y shape : (17520, 1)\n",
      "Inv y shape : (17520, 96)\n",
      "y pred shape : (17520, 1)\n",
      "inv y pred : (17520, 96)\n",
      "Run 8 Mean Absolute Error: 45.364094\n",
      "starting df shape: (87600, 96)\n",
      "This is training run 9 and has the shape:  (87600, 96)\n",
      "The value of dropped columns is 0\n"
     ]
    },
    {
     "name": "stderr",
     "output_type": "stream",
     "text": [
      "/Users/alexellard/opt/anaconda3/lib/python3.7/site-packages/xgboost/data.py:96: UserWarning: Use subset (sliced data) of np.ndarray is not recommended because it will generate extra copies and increase memory consumption\n",
      "  \"because it will generate extra copies and increase \" +\n"
     ]
    },
    {
     "name": "stdout",
     "output_type": "stream",
     "text": [
      "test y shape : (17520, 1)\n",
      "Inv y shape : (17520, 96)\n",
      "y pred shape : (17520, 1)\n",
      "inv y pred : (17520, 96)\n",
      "Run 9 Mean Absolute Error: 45.364094\n",
      "starting df shape: (87600, 96)\n",
      "This is training run 10 and has the shape:  (87600, 96)\n",
      "The value of dropped columns is 0\n"
     ]
    },
    {
     "name": "stderr",
     "output_type": "stream",
     "text": [
      "/Users/alexellard/opt/anaconda3/lib/python3.7/site-packages/xgboost/data.py:96: UserWarning: Use subset (sliced data) of np.ndarray is not recommended because it will generate extra copies and increase memory consumption\n",
      "  \"because it will generate extra copies and increase \" +\n"
     ]
    },
    {
     "name": "stdout",
     "output_type": "stream",
     "text": [
      "test y shape : (17520, 1)\n",
      "Inv y shape : (17520, 96)\n",
      "y pred shape : (17520, 1)\n",
      "inv y pred : (17520, 96)\n",
      "Run 10 Mean Absolute Error: 45.364094\n",
      "starting df shape: (87600, 91)\n",
      "This is training run 1 and has the shape:  (87600, 91)\n",
      "The value of dropped columns is 5\n"
     ]
    },
    {
     "name": "stderr",
     "output_type": "stream",
     "text": [
      "/Users/alexellard/opt/anaconda3/lib/python3.7/site-packages/xgboost/data.py:96: UserWarning: Use subset (sliced data) of np.ndarray is not recommended because it will generate extra copies and increase memory consumption\n",
      "  \"because it will generate extra copies and increase \" +\n"
     ]
    },
    {
     "name": "stdout",
     "output_type": "stream",
     "text": [
      "test y shape : (17520, 1)\n",
      "Inv y shape : (17520, 91)\n",
      "y pred shape : (17520, 1)\n",
      "inv y pred : (17520, 91)\n",
      "Run 1 Mean Absolute Error: 46.367664\n",
      "starting df shape: (87600, 91)\n",
      "This is training run 2 and has the shape:  (87600, 91)\n",
      "The value of dropped columns is 5\n"
     ]
    },
    {
     "name": "stderr",
     "output_type": "stream",
     "text": [
      "/Users/alexellard/opt/anaconda3/lib/python3.7/site-packages/xgboost/data.py:96: UserWarning: Use subset (sliced data) of np.ndarray is not recommended because it will generate extra copies and increase memory consumption\n",
      "  \"because it will generate extra copies and increase \" +\n"
     ]
    },
    {
     "name": "stdout",
     "output_type": "stream",
     "text": [
      "test y shape : (17520, 1)\n",
      "Inv y shape : (17520, 91)\n",
      "y pred shape : (17520, 1)\n",
      "inv y pred : (17520, 91)\n",
      "Run 2 Mean Absolute Error: 46.22527\n",
      "starting df shape: (87600, 91)\n",
      "This is training run 3 and has the shape:  (87600, 91)\n",
      "The value of dropped columns is 5\n"
     ]
    },
    {
     "name": "stderr",
     "output_type": "stream",
     "text": [
      "/Users/alexellard/opt/anaconda3/lib/python3.7/site-packages/xgboost/data.py:96: UserWarning: Use subset (sliced data) of np.ndarray is not recommended because it will generate extra copies and increase memory consumption\n",
      "  \"because it will generate extra copies and increase \" +\n"
     ]
    },
    {
     "name": "stdout",
     "output_type": "stream",
     "text": [
      "test y shape : (17520, 1)\n",
      "Inv y shape : (17520, 91)\n",
      "y pred shape : (17520, 1)\n",
      "inv y pred : (17520, 91)\n",
      "Run 3 Mean Absolute Error: 46.19998\n",
      "starting df shape: (87600, 91)\n",
      "This is training run 4 and has the shape:  (87600, 91)\n",
      "The value of dropped columns is 5\n"
     ]
    },
    {
     "name": "stderr",
     "output_type": "stream",
     "text": [
      "/Users/alexellard/opt/anaconda3/lib/python3.7/site-packages/xgboost/data.py:96: UserWarning: Use subset (sliced data) of np.ndarray is not recommended because it will generate extra copies and increase memory consumption\n",
      "  \"because it will generate extra copies and increase \" +\n"
     ]
    },
    {
     "name": "stdout",
     "output_type": "stream",
     "text": [
      "test y shape : (17520, 1)\n",
      "Inv y shape : (17520, 91)\n",
      "y pred shape : (17520, 1)\n",
      "inv y pred : (17520, 91)\n",
      "Run 4 Mean Absolute Error: 50.199577\n",
      "starting df shape: (87600, 91)\n",
      "This is training run 5 and has the shape:  (87600, 91)\n",
      "The value of dropped columns is 5\n"
     ]
    },
    {
     "name": "stderr",
     "output_type": "stream",
     "text": [
      "/Users/alexellard/opt/anaconda3/lib/python3.7/site-packages/xgboost/data.py:96: UserWarning: Use subset (sliced data) of np.ndarray is not recommended because it will generate extra copies and increase memory consumption\n",
      "  \"because it will generate extra copies and increase \" +\n"
     ]
    },
    {
     "name": "stdout",
     "output_type": "stream",
     "text": [
      "test y shape : (17520, 1)\n",
      "Inv y shape : (17520, 91)\n",
      "y pred shape : (17520, 1)\n",
      "inv y pred : (17520, 91)\n",
      "Run 5 Mean Absolute Error: 49.77516\n",
      "starting df shape: (87600, 91)\n",
      "This is training run 6 and has the shape:  (87600, 91)\n",
      "The value of dropped columns is 5\n"
     ]
    },
    {
     "name": "stderr",
     "output_type": "stream",
     "text": [
      "/Users/alexellard/opt/anaconda3/lib/python3.7/site-packages/xgboost/data.py:96: UserWarning: Use subset (sliced data) of np.ndarray is not recommended because it will generate extra copies and increase memory consumption\n",
      "  \"because it will generate extra copies and increase \" +\n"
     ]
    },
    {
     "name": "stdout",
     "output_type": "stream",
     "text": [
      "test y shape : (17520, 1)\n",
      "Inv y shape : (17520, 91)\n",
      "y pred shape : (17520, 1)\n",
      "inv y pred : (17520, 91)\n",
      "Run 6 Mean Absolute Error: 49.57377\n",
      "starting df shape: (87600, 91)\n",
      "This is training run 7 and has the shape:  (87600, 91)\n",
      "The value of dropped columns is 5\n"
     ]
    },
    {
     "name": "stderr",
     "output_type": "stream",
     "text": [
      "/Users/alexellard/opt/anaconda3/lib/python3.7/site-packages/xgboost/data.py:96: UserWarning: Use subset (sliced data) of np.ndarray is not recommended because it will generate extra copies and increase memory consumption\n",
      "  \"because it will generate extra copies and increase \" +\n"
     ]
    },
    {
     "name": "stdout",
     "output_type": "stream",
     "text": [
      "test y shape : (17520, 1)\n",
      "Inv y shape : (17520, 91)\n",
      "y pred shape : (17520, 1)\n",
      "inv y pred : (17520, 91)\n",
      "Run 7 Mean Absolute Error: 46.504494\n",
      "starting df shape: (87600, 91)\n",
      "This is training run 8 and has the shape:  (87600, 91)\n",
      "The value of dropped columns is 5\n"
     ]
    },
    {
     "name": "stderr",
     "output_type": "stream",
     "text": [
      "/Users/alexellard/opt/anaconda3/lib/python3.7/site-packages/xgboost/data.py:96: UserWarning: Use subset (sliced data) of np.ndarray is not recommended because it will generate extra copies and increase memory consumption\n",
      "  \"because it will generate extra copies and increase \" +\n"
     ]
    },
    {
     "name": "stdout",
     "output_type": "stream",
     "text": [
      "test y shape : (17520, 1)\n",
      "Inv y shape : (17520, 91)\n",
      "y pred shape : (17520, 1)\n",
      "inv y pred : (17520, 91)\n",
      "Run 8 Mean Absolute Error: 47.461376\n",
      "starting df shape: (87600, 91)\n",
      "This is training run 9 and has the shape:  (87600, 91)\n",
      "The value of dropped columns is 5\n"
     ]
    },
    {
     "name": "stderr",
     "output_type": "stream",
     "text": [
      "/Users/alexellard/opt/anaconda3/lib/python3.7/site-packages/xgboost/data.py:96: UserWarning: Use subset (sliced data) of np.ndarray is not recommended because it will generate extra copies and increase memory consumption\n",
      "  \"because it will generate extra copies and increase \" +\n"
     ]
    },
    {
     "name": "stdout",
     "output_type": "stream",
     "text": [
      "test y shape : (17520, 1)\n",
      "Inv y shape : (17520, 91)\n",
      "y pred shape : (17520, 1)\n",
      "inv y pred : (17520, 91)\n",
      "Run 9 Mean Absolute Error: 70.96731\n",
      "starting df shape: (87600, 91)\n",
      "This is training run 10 and has the shape:  (87600, 91)\n",
      "The value of dropped columns is 5\n"
     ]
    },
    {
     "name": "stderr",
     "output_type": "stream",
     "text": [
      "/Users/alexellard/opt/anaconda3/lib/python3.7/site-packages/xgboost/data.py:96: UserWarning: Use subset (sliced data) of np.ndarray is not recommended because it will generate extra copies and increase memory consumption\n",
      "  \"because it will generate extra copies and increase \" +\n"
     ]
    },
    {
     "name": "stdout",
     "output_type": "stream",
     "text": [
      "test y shape : (17520, 1)\n",
      "Inv y shape : (17520, 91)\n",
      "y pred shape : (17520, 1)\n",
      "inv y pred : (17520, 91)\n",
      "Run 10 Mean Absolute Error: 46.83624\n",
      "starting df shape: (87600, 86)\n",
      "This is training run 1 and has the shape:  (87600, 86)\n",
      "The value of dropped columns is 10\n"
     ]
    },
    {
     "name": "stderr",
     "output_type": "stream",
     "text": [
      "/Users/alexellard/opt/anaconda3/lib/python3.7/site-packages/xgboost/data.py:96: UserWarning: Use subset (sliced data) of np.ndarray is not recommended because it will generate extra copies and increase memory consumption\n",
      "  \"because it will generate extra copies and increase \" +\n"
     ]
    },
    {
     "name": "stdout",
     "output_type": "stream",
     "text": [
      "test y shape : (17520, 1)\n",
      "Inv y shape : (17520, 86)\n",
      "y pred shape : (17520, 1)\n",
      "inv y pred : (17520, 86)\n",
      "Run 1 Mean Absolute Error: 44.67056\n",
      "starting df shape: (87600, 86)\n",
      "This is training run 2 and has the shape:  (87600, 86)\n",
      "The value of dropped columns is 10\n"
     ]
    },
    {
     "name": "stderr",
     "output_type": "stream",
     "text": [
      "/Users/alexellard/opt/anaconda3/lib/python3.7/site-packages/xgboost/data.py:96: UserWarning: Use subset (sliced data) of np.ndarray is not recommended because it will generate extra copies and increase memory consumption\n",
      "  \"because it will generate extra copies and increase \" +\n"
     ]
    },
    {
     "name": "stdout",
     "output_type": "stream",
     "text": [
      "test y shape : (17520, 1)\n",
      "Inv y shape : (17520, 86)\n",
      "y pred shape : (17520, 1)\n",
      "inv y pred : (17520, 86)\n",
      "Run 2 Mean Absolute Error: 47.71262\n",
      "starting df shape: (87600, 86)\n",
      "This is training run 3 and has the shape:  (87600, 86)\n",
      "The value of dropped columns is 10\n"
     ]
    },
    {
     "name": "stderr",
     "output_type": "stream",
     "text": [
      "/Users/alexellard/opt/anaconda3/lib/python3.7/site-packages/xgboost/data.py:96: UserWarning: Use subset (sliced data) of np.ndarray is not recommended because it will generate extra copies and increase memory consumption\n",
      "  \"because it will generate extra copies and increase \" +\n"
     ]
    },
    {
     "name": "stdout",
     "output_type": "stream",
     "text": [
      "test y shape : (17520, 1)\n",
      "Inv y shape : (17520, 86)\n",
      "y pred shape : (17520, 1)\n",
      "inv y pred : (17520, 86)\n",
      "Run 3 Mean Absolute Error: 48.607307\n",
      "starting df shape: (87600, 86)\n",
      "This is training run 4 and has the shape:  (87600, 86)\n",
      "The value of dropped columns is 10\n"
     ]
    },
    {
     "name": "stderr",
     "output_type": "stream",
     "text": [
      "/Users/alexellard/opt/anaconda3/lib/python3.7/site-packages/xgboost/data.py:96: UserWarning: Use subset (sliced data) of np.ndarray is not recommended because it will generate extra copies and increase memory consumption\n",
      "  \"because it will generate extra copies and increase \" +\n"
     ]
    },
    {
     "name": "stdout",
     "output_type": "stream",
     "text": [
      "test y shape : (17520, 1)\n",
      "Inv y shape : (17520, 86)\n",
      "y pred shape : (17520, 1)\n",
      "inv y pred : (17520, 86)\n",
      "Run 4 Mean Absolute Error: 71.20671\n",
      "starting df shape: (87600, 86)\n",
      "This is training run 5 and has the shape:  (87600, 86)\n",
      "The value of dropped columns is 10\n"
     ]
    },
    {
     "name": "stderr",
     "output_type": "stream",
     "text": [
      "/Users/alexellard/opt/anaconda3/lib/python3.7/site-packages/xgboost/data.py:96: UserWarning: Use subset (sliced data) of np.ndarray is not recommended because it will generate extra copies and increase memory consumption\n",
      "  \"because it will generate extra copies and increase \" +\n"
     ]
    },
    {
     "name": "stdout",
     "output_type": "stream",
     "text": [
      "test y shape : (17520, 1)\n",
      "Inv y shape : (17520, 86)\n",
      "y pred shape : (17520, 1)\n",
      "inv y pred : (17520, 86)\n",
      "Run 5 Mean Absolute Error: 2.9787319\n",
      "starting df shape: (87600, 86)\n",
      "This is training run 6 and has the shape:  (87600, 86)\n",
      "The value of dropped columns is 10\n"
     ]
    },
    {
     "name": "stderr",
     "output_type": "stream",
     "text": [
      "/Users/alexellard/opt/anaconda3/lib/python3.7/site-packages/xgboost/data.py:96: UserWarning: Use subset (sliced data) of np.ndarray is not recommended because it will generate extra copies and increase memory consumption\n",
      "  \"because it will generate extra copies and increase \" +\n"
     ]
    },
    {
     "name": "stdout",
     "output_type": "stream",
     "text": [
      "test y shape : (17520, 1)\n",
      "Inv y shape : (17520, 86)\n",
      "y pred shape : (17520, 1)\n",
      "inv y pred : (17520, 86)\n",
      "Run 6 Mean Absolute Error: 125.71847\n",
      "starting df shape: (87600, 86)\n",
      "This is training run 7 and has the shape:  (87600, 86)\n",
      "The value of dropped columns is 10\n"
     ]
    },
    {
     "name": "stderr",
     "output_type": "stream",
     "text": [
      "/Users/alexellard/opt/anaconda3/lib/python3.7/site-packages/xgboost/data.py:96: UserWarning: Use subset (sliced data) of np.ndarray is not recommended because it will generate extra copies and increase memory consumption\n",
      "  \"because it will generate extra copies and increase \" +\n"
     ]
    },
    {
     "name": "stdout",
     "output_type": "stream",
     "text": [
      "test y shape : (17520, 1)\n",
      "Inv y shape : (17520, 86)\n",
      "y pred shape : (17520, 1)\n",
      "inv y pred : (17520, 86)\n",
      "Run 7 Mean Absolute Error: 47.422234\n",
      "starting df shape: (87600, 86)\n",
      "This is training run 8 and has the shape:  (87600, 86)\n",
      "The value of dropped columns is 10\n"
     ]
    },
    {
     "name": "stderr",
     "output_type": "stream",
     "text": [
      "/Users/alexellard/opt/anaconda3/lib/python3.7/site-packages/xgboost/data.py:96: UserWarning: Use subset (sliced data) of np.ndarray is not recommended because it will generate extra copies and increase memory consumption\n",
      "  \"because it will generate extra copies and increase \" +\n"
     ]
    },
    {
     "name": "stdout",
     "output_type": "stream",
     "text": [
      "test y shape : (17520, 1)\n",
      "Inv y shape : (17520, 86)\n",
      "y pred shape : (17520, 1)\n",
      "inv y pred : (17520, 86)\n",
      "Run 8 Mean Absolute Error: 47.85979\n",
      "starting df shape: (87600, 87)\n",
      "This is training run 9 and has the shape:  (87600, 87)\n",
      "The value of dropped columns is 10\n"
     ]
    },
    {
     "name": "stderr",
     "output_type": "stream",
     "text": [
      "/Users/alexellard/opt/anaconda3/lib/python3.7/site-packages/xgboost/data.py:96: UserWarning: Use subset (sliced data) of np.ndarray is not recommended because it will generate extra copies and increase memory consumption\n",
      "  \"because it will generate extra copies and increase \" +\n"
     ]
    },
    {
     "name": "stdout",
     "output_type": "stream",
     "text": [
      "test y shape : (17520, 1)\n",
      "Inv y shape : (17520, 87)\n",
      "y pred shape : (17520, 1)\n",
      "inv y pred : (17520, 87)\n",
      "Run 9 Mean Absolute Error: 46.589897\n",
      "starting df shape: (87600, 86)\n",
      "This is training run 10 and has the shape:  (87600, 86)\n",
      "The value of dropped columns is 10\n"
     ]
    },
    {
     "name": "stderr",
     "output_type": "stream",
     "text": [
      "/Users/alexellard/opt/anaconda3/lib/python3.7/site-packages/xgboost/data.py:96: UserWarning: Use subset (sliced data) of np.ndarray is not recommended because it will generate extra copies and increase memory consumption\n",
      "  \"because it will generate extra copies and increase \" +\n"
     ]
    },
    {
     "name": "stdout",
     "output_type": "stream",
     "text": [
      "test y shape : (17520, 1)\n",
      "Inv y shape : (17520, 86)\n",
      "y pred shape : (17520, 1)\n",
      "inv y pred : (17520, 86)\n",
      "Run 10 Mean Absolute Error: 47.834774\n",
      "starting df shape: (87600, 81)\n",
      "This is training run 1 and has the shape:  (87600, 81)\n",
      "The value of dropped columns is 15\n"
     ]
    },
    {
     "name": "stderr",
     "output_type": "stream",
     "text": [
      "/Users/alexellard/opt/anaconda3/lib/python3.7/site-packages/xgboost/data.py:96: UserWarning: Use subset (sliced data) of np.ndarray is not recommended because it will generate extra copies and increase memory consumption\n",
      "  \"because it will generate extra copies and increase \" +\n"
     ]
    },
    {
     "name": "stdout",
     "output_type": "stream",
     "text": [
      "test y shape : (17520, 1)\n",
      "Inv y shape : (17520, 81)\n",
      "y pred shape : (17520, 1)\n",
      "inv y pred : (17520, 81)\n",
      "Run 1 Mean Absolute Error: 44.446503\n",
      "starting df shape: (87600, 81)\n",
      "This is training run 2 and has the shape:  (87600, 81)\n",
      "The value of dropped columns is 15\n"
     ]
    },
    {
     "name": "stderr",
     "output_type": "stream",
     "text": [
      "/Users/alexellard/opt/anaconda3/lib/python3.7/site-packages/xgboost/data.py:96: UserWarning: Use subset (sliced data) of np.ndarray is not recommended because it will generate extra copies and increase memory consumption\n",
      "  \"because it will generate extra copies and increase \" +\n"
     ]
    },
    {
     "name": "stdout",
     "output_type": "stream",
     "text": [
      "test y shape : (17520, 1)\n",
      "Inv y shape : (17520, 81)\n",
      "y pred shape : (17520, 1)\n",
      "inv y pred : (17520, 81)\n",
      "Run 2 Mean Absolute Error: 71.61829\n",
      "starting df shape: (87600, 81)\n",
      "This is training run 3 and has the shape:  (87600, 81)\n",
      "The value of dropped columns is 15\n"
     ]
    },
    {
     "name": "stderr",
     "output_type": "stream",
     "text": [
      "/Users/alexellard/opt/anaconda3/lib/python3.7/site-packages/xgboost/data.py:96: UserWarning: Use subset (sliced data) of np.ndarray is not recommended because it will generate extra copies and increase memory consumption\n",
      "  \"because it will generate extra copies and increase \" +\n"
     ]
    },
    {
     "name": "stdout",
     "output_type": "stream",
     "text": [
      "test y shape : (17520, 1)\n",
      "Inv y shape : (17520, 81)\n",
      "y pred shape : (17520, 1)\n",
      "inv y pred : (17520, 81)\n",
      "Run 3 Mean Absolute Error: 4.659353\n",
      "starting df shape: (87600, 81)\n",
      "This is training run 4 and has the shape:  (87600, 81)\n",
      "The value of dropped columns is 15\n"
     ]
    },
    {
     "name": "stderr",
     "output_type": "stream",
     "text": [
      "/Users/alexellard/opt/anaconda3/lib/python3.7/site-packages/xgboost/data.py:96: UserWarning: Use subset (sliced data) of np.ndarray is not recommended because it will generate extra copies and increase memory consumption\n",
      "  \"because it will generate extra copies and increase \" +\n"
     ]
    },
    {
     "name": "stdout",
     "output_type": "stream",
     "text": [
      "test y shape : (17520, 1)\n",
      "Inv y shape : (17520, 81)\n",
      "y pred shape : (17520, 1)\n",
      "inv y pred : (17520, 81)\n",
      "Run 4 Mean Absolute Error: 45.999897\n",
      "starting df shape: (87600, 81)\n",
      "This is training run 5 and has the shape:  (87600, 81)\n",
      "The value of dropped columns is 15\n"
     ]
    },
    {
     "name": "stderr",
     "output_type": "stream",
     "text": [
      "/Users/alexellard/opt/anaconda3/lib/python3.7/site-packages/xgboost/data.py:96: UserWarning: Use subset (sliced data) of np.ndarray is not recommended because it will generate extra copies and increase memory consumption\n",
      "  \"because it will generate extra copies and increase \" +\n"
     ]
    },
    {
     "name": "stdout",
     "output_type": "stream",
     "text": [
      "test y shape : (17520, 1)\n",
      "Inv y shape : (17520, 81)\n",
      "y pred shape : (17520, 1)\n",
      "inv y pred : (17520, 81)\n",
      "Run 5 Mean Absolute Error: 45.36719\n",
      "starting df shape: (87600, 82)\n",
      "This is training run 6 and has the shape:  (87600, 82)\n",
      "The value of dropped columns is 15\n"
     ]
    },
    {
     "name": "stderr",
     "output_type": "stream",
     "text": [
      "/Users/alexellard/opt/anaconda3/lib/python3.7/site-packages/xgboost/data.py:96: UserWarning: Use subset (sliced data) of np.ndarray is not recommended because it will generate extra copies and increase memory consumption\n",
      "  \"because it will generate extra copies and increase \" +\n"
     ]
    },
    {
     "name": "stdout",
     "output_type": "stream",
     "text": [
      "test y shape : (17520, 1)\n",
      "Inv y shape : (17520, 82)\n",
      "y pred shape : (17520, 1)\n",
      "inv y pred : (17520, 82)\n",
      "Run 6 Mean Absolute Error: 2.934783\n",
      "starting df shape: (87600, 81)\n",
      "This is training run 7 and has the shape:  (87600, 81)\n",
      "The value of dropped columns is 15\n"
     ]
    },
    {
     "name": "stderr",
     "output_type": "stream",
     "text": [
      "/Users/alexellard/opt/anaconda3/lib/python3.7/site-packages/xgboost/data.py:96: UserWarning: Use subset (sliced data) of np.ndarray is not recommended because it will generate extra copies and increase memory consumption\n",
      "  \"because it will generate extra copies and increase \" +\n"
     ]
    },
    {
     "name": "stdout",
     "output_type": "stream",
     "text": [
      "test y shape : (17520, 1)\n",
      "Inv y shape : (17520, 81)\n",
      "y pred shape : (17520, 1)\n",
      "inv y pred : (17520, 81)\n",
      "Run 7 Mean Absolute Error: 46.210114\n",
      "starting df shape: (87600, 81)\n",
      "This is training run 8 and has the shape:  (87600, 81)\n",
      "The value of dropped columns is 15\n"
     ]
    },
    {
     "name": "stderr",
     "output_type": "stream",
     "text": [
      "/Users/alexellard/opt/anaconda3/lib/python3.7/site-packages/xgboost/data.py:96: UserWarning: Use subset (sliced data) of np.ndarray is not recommended because it will generate extra copies and increase memory consumption\n",
      "  \"because it will generate extra copies and increase \" +\n"
     ]
    },
    {
     "name": "stdout",
     "output_type": "stream",
     "text": [
      "test y shape : (17520, 1)\n",
      "Inv y shape : (17520, 81)\n",
      "y pred shape : (17520, 1)\n",
      "inv y pred : (17520, 81)\n",
      "Run 8 Mean Absolute Error: 43.898346\n",
      "starting df shape: (87600, 82)\n",
      "This is training run 9 and has the shape:  (87600, 82)\n",
      "The value of dropped columns is 15\n"
     ]
    },
    {
     "name": "stderr",
     "output_type": "stream",
     "text": [
      "/Users/alexellard/opt/anaconda3/lib/python3.7/site-packages/xgboost/data.py:96: UserWarning: Use subset (sliced data) of np.ndarray is not recommended because it will generate extra copies and increase memory consumption\n",
      "  \"because it will generate extra copies and increase \" +\n"
     ]
    },
    {
     "name": "stdout",
     "output_type": "stream",
     "text": [
      "test y shape : (17520, 1)\n",
      "Inv y shape : (17520, 82)\n",
      "y pred shape : (17520, 1)\n",
      "inv y pred : (17520, 82)\n",
      "Run 9 Mean Absolute Error: 47.364586\n",
      "starting df shape: (87600, 81)\n",
      "This is training run 10 and has the shape:  (87600, 81)\n",
      "The value of dropped columns is 15\n"
     ]
    },
    {
     "name": "stderr",
     "output_type": "stream",
     "text": [
      "/Users/alexellard/opt/anaconda3/lib/python3.7/site-packages/xgboost/data.py:96: UserWarning: Use subset (sliced data) of np.ndarray is not recommended because it will generate extra copies and increase memory consumption\n",
      "  \"because it will generate extra copies and increase \" +\n"
     ]
    },
    {
     "name": "stdout",
     "output_type": "stream",
     "text": [
      "test y shape : (17520, 1)\n",
      "Inv y shape : (17520, 81)\n",
      "y pred shape : (17520, 1)\n",
      "inv y pred : (17520, 81)\n",
      "Run 10 Mean Absolute Error: 47.357986\n",
      "starting df shape: (87600, 77)\n",
      "This is training run 1 and has the shape:  (87600, 77)\n",
      "The value of dropped columns is 20\n"
     ]
    },
    {
     "name": "stderr",
     "output_type": "stream",
     "text": [
      "/Users/alexellard/opt/anaconda3/lib/python3.7/site-packages/xgboost/data.py:96: UserWarning: Use subset (sliced data) of np.ndarray is not recommended because it will generate extra copies and increase memory consumption\n",
      "  \"because it will generate extra copies and increase \" +\n"
     ]
    },
    {
     "name": "stdout",
     "output_type": "stream",
     "text": [
      "test y shape : (17520, 1)\n",
      "Inv y shape : (17520, 77)\n",
      "y pred shape : (17520, 1)\n",
      "inv y pred : (17520, 77)\n",
      "Run 1 Mean Absolute Error: 50.129578\n",
      "starting df shape: (87600, 77)\n",
      "This is training run 2 and has the shape:  (87600, 77)\n",
      "The value of dropped columns is 20\n"
     ]
    },
    {
     "name": "stderr",
     "output_type": "stream",
     "text": [
      "/Users/alexellard/opt/anaconda3/lib/python3.7/site-packages/xgboost/data.py:96: UserWarning: Use subset (sliced data) of np.ndarray is not recommended because it will generate extra copies and increase memory consumption\n",
      "  \"because it will generate extra copies and increase \" +\n"
     ]
    },
    {
     "name": "stdout",
     "output_type": "stream",
     "text": [
      "test y shape : (17520, 1)\n",
      "Inv y shape : (17520, 77)\n",
      "y pred shape : (17520, 1)\n",
      "inv y pred : (17520, 77)\n",
      "Run 2 Mean Absolute Error: 71.69823\n",
      "starting df shape: (87600, 76)\n",
      "This is training run 3 and has the shape:  (87600, 76)\n",
      "The value of dropped columns is 20\n"
     ]
    },
    {
     "name": "stderr",
     "output_type": "stream",
     "text": [
      "/Users/alexellard/opt/anaconda3/lib/python3.7/site-packages/xgboost/data.py:96: UserWarning: Use subset (sliced data) of np.ndarray is not recommended because it will generate extra copies and increase memory consumption\n",
      "  \"because it will generate extra copies and increase \" +\n"
     ]
    },
    {
     "name": "stdout",
     "output_type": "stream",
     "text": [
      "test y shape : (17520, 1)\n",
      "Inv y shape : (17520, 76)\n",
      "y pred shape : (17520, 1)\n",
      "inv y pred : (17520, 76)\n",
      "Run 3 Mean Absolute Error: 43.60678\n",
      "starting df shape: (87600, 77)\n",
      "This is training run 4 and has the shape:  (87600, 77)\n",
      "The value of dropped columns is 20\n"
     ]
    },
    {
     "name": "stderr",
     "output_type": "stream",
     "text": [
      "/Users/alexellard/opt/anaconda3/lib/python3.7/site-packages/xgboost/data.py:96: UserWarning: Use subset (sliced data) of np.ndarray is not recommended because it will generate extra copies and increase memory consumption\n",
      "  \"because it will generate extra copies and increase \" +\n"
     ]
    },
    {
     "name": "stdout",
     "output_type": "stream",
     "text": [
      "test y shape : (17520, 1)\n",
      "Inv y shape : (17520, 77)\n",
      "y pred shape : (17520, 1)\n",
      "inv y pred : (17520, 77)\n",
      "Run 4 Mean Absolute Error: 49.64692\n",
      "starting df shape: (87600, 76)\n",
      "This is training run 5 and has the shape:  (87600, 76)\n",
      "The value of dropped columns is 20\n"
     ]
    },
    {
     "name": "stderr",
     "output_type": "stream",
     "text": [
      "/Users/alexellard/opt/anaconda3/lib/python3.7/site-packages/xgboost/data.py:96: UserWarning: Use subset (sliced data) of np.ndarray is not recommended because it will generate extra copies and increase memory consumption\n",
      "  \"because it will generate extra copies and increase \" +\n"
     ]
    },
    {
     "name": "stdout",
     "output_type": "stream",
     "text": [
      "test y shape : (17520, 1)\n",
      "Inv y shape : (17520, 76)\n",
      "y pred shape : (17520, 1)\n",
      "inv y pred : (17520, 76)\n",
      "Run 5 Mean Absolute Error: 45.204674\n",
      "starting df shape: (87600, 76)\n",
      "This is training run 6 and has the shape:  (87600, 76)\n",
      "The value of dropped columns is 20\n"
     ]
    },
    {
     "name": "stderr",
     "output_type": "stream",
     "text": [
      "/Users/alexellard/opt/anaconda3/lib/python3.7/site-packages/xgboost/data.py:96: UserWarning: Use subset (sliced data) of np.ndarray is not recommended because it will generate extra copies and increase memory consumption\n",
      "  \"because it will generate extra copies and increase \" +\n"
     ]
    },
    {
     "name": "stdout",
     "output_type": "stream",
     "text": [
      "test y shape : (17520, 1)\n",
      "Inv y shape : (17520, 76)\n",
      "y pred shape : (17520, 1)\n",
      "inv y pred : (17520, 76)\n",
      "Run 6 Mean Absolute Error: 49.79071\n",
      "starting df shape: (87600, 76)\n",
      "This is training run 7 and has the shape:  (87600, 76)\n",
      "The value of dropped columns is 20\n"
     ]
    },
    {
     "name": "stderr",
     "output_type": "stream",
     "text": [
      "/Users/alexellard/opt/anaconda3/lib/python3.7/site-packages/xgboost/data.py:96: UserWarning: Use subset (sliced data) of np.ndarray is not recommended because it will generate extra copies and increase memory consumption\n",
      "  \"because it will generate extra copies and increase \" +\n"
     ]
    },
    {
     "name": "stdout",
     "output_type": "stream",
     "text": [
      "test y shape : (17520, 1)\n",
      "Inv y shape : (17520, 76)\n",
      "y pred shape : (17520, 1)\n",
      "inv y pred : (17520, 76)\n",
      "Run 7 Mean Absolute Error: 47.592297\n",
      "starting df shape: (87600, 76)\n",
      "This is training run 8 and has the shape:  (87600, 76)\n",
      "The value of dropped columns is 20\n"
     ]
    },
    {
     "name": "stderr",
     "output_type": "stream",
     "text": [
      "/Users/alexellard/opt/anaconda3/lib/python3.7/site-packages/xgboost/data.py:96: UserWarning: Use subset (sliced data) of np.ndarray is not recommended because it will generate extra copies and increase memory consumption\n",
      "  \"because it will generate extra copies and increase \" +\n"
     ]
    },
    {
     "name": "stdout",
     "output_type": "stream",
     "text": [
      "test y shape : (17520, 1)\n",
      "Inv y shape : (17520, 76)\n",
      "y pred shape : (17520, 1)\n",
      "inv y pred : (17520, 76)\n",
      "Run 8 Mean Absolute Error: 74.1005\n",
      "starting df shape: (87600, 76)\n",
      "This is training run 9 and has the shape:  (87600, 76)\n",
      "The value of dropped columns is 20\n"
     ]
    },
    {
     "name": "stderr",
     "output_type": "stream",
     "text": [
      "/Users/alexellard/opt/anaconda3/lib/python3.7/site-packages/xgboost/data.py:96: UserWarning: Use subset (sliced data) of np.ndarray is not recommended because it will generate extra copies and increase memory consumption\n",
      "  \"because it will generate extra copies and increase \" +\n"
     ]
    },
    {
     "name": "stdout",
     "output_type": "stream",
     "text": [
      "test y shape : (17520, 1)\n",
      "Inv y shape : (17520, 76)\n",
      "y pred shape : (17520, 1)\n",
      "inv y pred : (17520, 76)\n",
      "Run 9 Mean Absolute Error: 5.7153826\n",
      "starting df shape: (87600, 76)\n",
      "This is training run 10 and has the shape:  (87600, 76)\n",
      "The value of dropped columns is 20\n"
     ]
    },
    {
     "name": "stderr",
     "output_type": "stream",
     "text": [
      "/Users/alexellard/opt/anaconda3/lib/python3.7/site-packages/xgboost/data.py:96: UserWarning: Use subset (sliced data) of np.ndarray is not recommended because it will generate extra copies and increase memory consumption\n",
      "  \"because it will generate extra copies and increase \" +\n"
     ]
    },
    {
     "name": "stdout",
     "output_type": "stream",
     "text": [
      "test y shape : (17520, 1)\n",
      "Inv y shape : (17520, 76)\n",
      "y pred shape : (17520, 1)\n",
      "inv y pred : (17520, 76)\n",
      "Run 10 Mean Absolute Error: 48.16125\n",
      "starting df shape: (87600, 71)\n",
      "This is training run 1 and has the shape:  (87600, 71)\n",
      "The value of dropped columns is 25\n"
     ]
    },
    {
     "name": "stderr",
     "output_type": "stream",
     "text": [
      "/Users/alexellard/opt/anaconda3/lib/python3.7/site-packages/xgboost/data.py:96: UserWarning: Use subset (sliced data) of np.ndarray is not recommended because it will generate extra copies and increase memory consumption\n",
      "  \"because it will generate extra copies and increase \" +\n"
     ]
    },
    {
     "name": "stdout",
     "output_type": "stream",
     "text": [
      "test y shape : (17520, 1)\n",
      "Inv y shape : (17520, 71)\n",
      "y pred shape : (17520, 1)\n",
      "inv y pred : (17520, 71)\n",
      "Run 1 Mean Absolute Error: 47.743755\n",
      "starting df shape: (87600, 71)\n",
      "This is training run 2 and has the shape:  (87600, 71)\n",
      "The value of dropped columns is 25\n"
     ]
    },
    {
     "name": "stderr",
     "output_type": "stream",
     "text": [
      "/Users/alexellard/opt/anaconda3/lib/python3.7/site-packages/xgboost/data.py:96: UserWarning: Use subset (sliced data) of np.ndarray is not recommended because it will generate extra copies and increase memory consumption\n",
      "  \"because it will generate extra copies and increase \" +\n"
     ]
    },
    {
     "name": "stdout",
     "output_type": "stream",
     "text": [
      "test y shape : (17520, 1)\n",
      "Inv y shape : (17520, 71)\n",
      "y pred shape : (17520, 1)\n",
      "inv y pred : (17520, 71)\n",
      "Run 2 Mean Absolute Error: 47.228413\n",
      "starting df shape: (87600, 71)\n",
      "This is training run 3 and has the shape:  (87600, 71)\n",
      "The value of dropped columns is 25\n"
     ]
    },
    {
     "name": "stderr",
     "output_type": "stream",
     "text": [
      "/Users/alexellard/opt/anaconda3/lib/python3.7/site-packages/xgboost/data.py:96: UserWarning: Use subset (sliced data) of np.ndarray is not recommended because it will generate extra copies and increase memory consumption\n",
      "  \"because it will generate extra copies and increase \" +\n"
     ]
    },
    {
     "name": "stdout",
     "output_type": "stream",
     "text": [
      "test y shape : (17520, 1)\n",
      "Inv y shape : (17520, 71)\n",
      "y pred shape : (17520, 1)\n",
      "inv y pred : (17520, 71)\n",
      "Run 3 Mean Absolute Error: 78.52864\n",
      "starting df shape: (87600, 71)\n",
      "This is training run 4 and has the shape:  (87600, 71)\n",
      "The value of dropped columns is 25\n"
     ]
    },
    {
     "name": "stderr",
     "output_type": "stream",
     "text": [
      "/Users/alexellard/opt/anaconda3/lib/python3.7/site-packages/xgboost/data.py:96: UserWarning: Use subset (sliced data) of np.ndarray is not recommended because it will generate extra copies and increase memory consumption\n",
      "  \"because it will generate extra copies and increase \" +\n"
     ]
    },
    {
     "name": "stdout",
     "output_type": "stream",
     "text": [
      "test y shape : (17520, 1)\n",
      "Inv y shape : (17520, 71)\n",
      "y pred shape : (17520, 1)\n",
      "inv y pred : (17520, 71)\n",
      "Run 4 Mean Absolute Error: 43.945686\n",
      "starting df shape: (87600, 72)\n",
      "This is training run 5 and has the shape:  (87600, 72)\n",
      "The value of dropped columns is 25\n"
     ]
    },
    {
     "name": "stderr",
     "output_type": "stream",
     "text": [
      "/Users/alexellard/opt/anaconda3/lib/python3.7/site-packages/xgboost/data.py:96: UserWarning: Use subset (sliced data) of np.ndarray is not recommended because it will generate extra copies and increase memory consumption\n",
      "  \"because it will generate extra copies and increase \" +\n"
     ]
    },
    {
     "name": "stdout",
     "output_type": "stream",
     "text": [
      "test y shape : (17520, 1)\n",
      "Inv y shape : (17520, 72)\n",
      "y pred shape : (17520, 1)\n",
      "inv y pred : (17520, 72)\n",
      "Run 5 Mean Absolute Error: 128.29106\n",
      "starting df shape: (87600, 71)\n",
      "This is training run 6 and has the shape:  (87600, 71)\n",
      "The value of dropped columns is 25\n"
     ]
    },
    {
     "name": "stderr",
     "output_type": "stream",
     "text": [
      "/Users/alexellard/opt/anaconda3/lib/python3.7/site-packages/xgboost/data.py:96: UserWarning: Use subset (sliced data) of np.ndarray is not recommended because it will generate extra copies and increase memory consumption\n",
      "  \"because it will generate extra copies and increase \" +\n"
     ]
    },
    {
     "name": "stdout",
     "output_type": "stream",
     "text": [
      "test y shape : (17520, 1)\n",
      "Inv y shape : (17520, 71)\n",
      "y pred shape : (17520, 1)\n",
      "inv y pred : (17520, 71)\n",
      "Run 6 Mean Absolute Error: 3.0623567\n",
      "starting df shape: (87600, 71)\n",
      "This is training run 7 and has the shape:  (87600, 71)\n",
      "The value of dropped columns is 25\n"
     ]
    },
    {
     "name": "stderr",
     "output_type": "stream",
     "text": [
      "/Users/alexellard/opt/anaconda3/lib/python3.7/site-packages/xgboost/data.py:96: UserWarning: Use subset (sliced data) of np.ndarray is not recommended because it will generate extra copies and increase memory consumption\n",
      "  \"because it will generate extra copies and increase \" +\n"
     ]
    },
    {
     "name": "stdout",
     "output_type": "stream",
     "text": [
      "test y shape : (17520, 1)\n",
      "Inv y shape : (17520, 71)\n",
      "y pred shape : (17520, 1)\n",
      "inv y pred : (17520, 71)\n",
      "Run 7 Mean Absolute Error: 147.50577\n",
      "starting df shape: (87600, 71)\n",
      "This is training run 8 and has the shape:  (87600, 71)\n",
      "The value of dropped columns is 25\n"
     ]
    },
    {
     "name": "stderr",
     "output_type": "stream",
     "text": [
      "/Users/alexellard/opt/anaconda3/lib/python3.7/site-packages/xgboost/data.py:96: UserWarning: Use subset (sliced data) of np.ndarray is not recommended because it will generate extra copies and increase memory consumption\n",
      "  \"because it will generate extra copies and increase \" +\n"
     ]
    },
    {
     "name": "stdout",
     "output_type": "stream",
     "text": [
      "test y shape : (17520, 1)\n",
      "Inv y shape : (17520, 71)\n",
      "y pred shape : (17520, 1)\n",
      "inv y pred : (17520, 71)\n",
      "Run 8 Mean Absolute Error: 76.230896\n",
      "starting df shape: (87600, 71)\n",
      "This is training run 9 and has the shape:  (87600, 71)\n",
      "The value of dropped columns is 25\n"
     ]
    },
    {
     "name": "stderr",
     "output_type": "stream",
     "text": [
      "/Users/alexellard/opt/anaconda3/lib/python3.7/site-packages/xgboost/data.py:96: UserWarning: Use subset (sliced data) of np.ndarray is not recommended because it will generate extra copies and increase memory consumption\n",
      "  \"because it will generate extra copies and increase \" +\n"
     ]
    },
    {
     "name": "stdout",
     "output_type": "stream",
     "text": [
      "test y shape : (17520, 1)\n",
      "Inv y shape : (17520, 71)\n",
      "y pred shape : (17520, 1)\n",
      "inv y pred : (17520, 71)\n",
      "Run 9 Mean Absolute Error: 104.43597\n",
      "starting df shape: (87600, 71)\n",
      "This is training run 10 and has the shape:  (87600, 71)\n",
      "The value of dropped columns is 25\n"
     ]
    },
    {
     "name": "stderr",
     "output_type": "stream",
     "text": [
      "/Users/alexellard/opt/anaconda3/lib/python3.7/site-packages/xgboost/data.py:96: UserWarning: Use subset (sliced data) of np.ndarray is not recommended because it will generate extra copies and increase memory consumption\n",
      "  \"because it will generate extra copies and increase \" +\n"
     ]
    },
    {
     "name": "stdout",
     "output_type": "stream",
     "text": [
      "test y shape : (17520, 1)\n",
      "Inv y shape : (17520, 71)\n",
      "y pred shape : (17520, 1)\n",
      "inv y pred : (17520, 71)\n",
      "Run 10 Mean Absolute Error: 50.095787\n",
      "starting df shape: (87600, 66)\n",
      "This is training run 1 and has the shape:  (87600, 66)\n",
      "The value of dropped columns is 30\n"
     ]
    },
    {
     "name": "stderr",
     "output_type": "stream",
     "text": [
      "/Users/alexellard/opt/anaconda3/lib/python3.7/site-packages/xgboost/data.py:96: UserWarning: Use subset (sliced data) of np.ndarray is not recommended because it will generate extra copies and increase memory consumption\n",
      "  \"because it will generate extra copies and increase \" +\n"
     ]
    },
    {
     "name": "stdout",
     "output_type": "stream",
     "text": [
      "test y shape : (17520, 1)\n",
      "Inv y shape : (17520, 66)\n",
      "y pred shape : (17520, 1)\n",
      "inv y pred : (17520, 66)\n",
      "Run 1 Mean Absolute Error: 126.74877\n",
      "starting df shape: (87600, 66)\n",
      "This is training run 2 and has the shape:  (87600, 66)\n",
      "The value of dropped columns is 30\n"
     ]
    },
    {
     "name": "stderr",
     "output_type": "stream",
     "text": [
      "/Users/alexellard/opt/anaconda3/lib/python3.7/site-packages/xgboost/data.py:96: UserWarning: Use subset (sliced data) of np.ndarray is not recommended because it will generate extra copies and increase memory consumption\n",
      "  \"because it will generate extra copies and increase \" +\n"
     ]
    },
    {
     "name": "stdout",
     "output_type": "stream",
     "text": [
      "test y shape : (17520, 1)\n",
      "Inv y shape : (17520, 66)\n",
      "y pred shape : (17520, 1)\n",
      "inv y pred : (17520, 66)\n",
      "Run 2 Mean Absolute Error: 131.40797\n",
      "starting df shape: (87600, 66)\n",
      "This is training run 3 and has the shape:  (87600, 66)\n",
      "The value of dropped columns is 30\n"
     ]
    },
    {
     "name": "stderr",
     "output_type": "stream",
     "text": [
      "/Users/alexellard/opt/anaconda3/lib/python3.7/site-packages/xgboost/data.py:96: UserWarning: Use subset (sliced data) of np.ndarray is not recommended because it will generate extra copies and increase memory consumption\n",
      "  \"because it will generate extra copies and increase \" +\n"
     ]
    },
    {
     "name": "stdout",
     "output_type": "stream",
     "text": [
      "test y shape : (17520, 1)\n",
      "Inv y shape : (17520, 66)\n",
      "y pred shape : (17520, 1)\n",
      "inv y pred : (17520, 66)\n",
      "Run 3 Mean Absolute Error: 41.070923\n",
      "starting df shape: (87600, 66)\n",
      "This is training run 4 and has the shape:  (87600, 66)\n",
      "The value of dropped columns is 30\n"
     ]
    },
    {
     "name": "stderr",
     "output_type": "stream",
     "text": [
      "/Users/alexellard/opt/anaconda3/lib/python3.7/site-packages/xgboost/data.py:96: UserWarning: Use subset (sliced data) of np.ndarray is not recommended because it will generate extra copies and increase memory consumption\n",
      "  \"because it will generate extra copies and increase \" +\n"
     ]
    },
    {
     "name": "stdout",
     "output_type": "stream",
     "text": [
      "test y shape : (17520, 1)\n",
      "Inv y shape : (17520, 66)\n",
      "y pred shape : (17520, 1)\n",
      "inv y pred : (17520, 66)\n",
      "Run 4 Mean Absolute Error: 2.7923527\n",
      "starting df shape: (87600, 66)\n",
      "This is training run 5 and has the shape:  (87600, 66)\n",
      "The value of dropped columns is 30\n"
     ]
    },
    {
     "name": "stderr",
     "output_type": "stream",
     "text": [
      "/Users/alexellard/opt/anaconda3/lib/python3.7/site-packages/xgboost/data.py:96: UserWarning: Use subset (sliced data) of np.ndarray is not recommended because it will generate extra copies and increase memory consumption\n",
      "  \"because it will generate extra copies and increase \" +\n"
     ]
    },
    {
     "name": "stdout",
     "output_type": "stream",
     "text": [
      "test y shape : (17520, 1)\n",
      "Inv y shape : (17520, 66)\n",
      "y pred shape : (17520, 1)\n",
      "inv y pred : (17520, 66)\n",
      "Run 5 Mean Absolute Error: 43.475716\n",
      "starting df shape: (87600, 67)\n",
      "This is training run 6 and has the shape:  (87600, 67)\n",
      "The value of dropped columns is 30\n"
     ]
    },
    {
     "name": "stderr",
     "output_type": "stream",
     "text": [
      "/Users/alexellard/opt/anaconda3/lib/python3.7/site-packages/xgboost/data.py:96: UserWarning: Use subset (sliced data) of np.ndarray is not recommended because it will generate extra copies and increase memory consumption\n",
      "  \"because it will generate extra copies and increase \" +\n"
     ]
    },
    {
     "name": "stdout",
     "output_type": "stream",
     "text": [
      "test y shape : (17520, 1)\n",
      "Inv y shape : (17520, 67)\n",
      "y pred shape : (17520, 1)\n",
      "inv y pred : (17520, 67)\n",
      "Run 6 Mean Absolute Error: 49.55501\n",
      "starting df shape: (87600, 66)\n",
      "This is training run 7 and has the shape:  (87600, 66)\n",
      "The value of dropped columns is 30\n"
     ]
    },
    {
     "name": "stderr",
     "output_type": "stream",
     "text": [
      "/Users/alexellard/opt/anaconda3/lib/python3.7/site-packages/xgboost/data.py:96: UserWarning: Use subset (sliced data) of np.ndarray is not recommended because it will generate extra copies and increase memory consumption\n",
      "  \"because it will generate extra copies and increase \" +\n"
     ]
    },
    {
     "name": "stdout",
     "output_type": "stream",
     "text": [
      "test y shape : (17520, 1)\n",
      "Inv y shape : (17520, 66)\n",
      "y pred shape : (17520, 1)\n",
      "inv y pred : (17520, 66)\n",
      "Run 7 Mean Absolute Error: 2.8065221\n",
      "starting df shape: (87600, 66)\n",
      "This is training run 8 and has the shape:  (87600, 66)\n",
      "The value of dropped columns is 30\n"
     ]
    },
    {
     "name": "stderr",
     "output_type": "stream",
     "text": [
      "/Users/alexellard/opt/anaconda3/lib/python3.7/site-packages/xgboost/data.py:96: UserWarning: Use subset (sliced data) of np.ndarray is not recommended because it will generate extra copies and increase memory consumption\n",
      "  \"because it will generate extra copies and increase \" +\n"
     ]
    },
    {
     "name": "stdout",
     "output_type": "stream",
     "text": [
      "test y shape : (17520, 1)\n",
      "Inv y shape : (17520, 66)\n",
      "y pred shape : (17520, 1)\n",
      "inv y pred : (17520, 66)\n",
      "Run 8 Mean Absolute Error: 122.342354\n",
      "starting df shape: (87600, 66)\n",
      "This is training run 9 and has the shape:  (87600, 66)\n",
      "The value of dropped columns is 30\n"
     ]
    },
    {
     "name": "stderr",
     "output_type": "stream",
     "text": [
      "/Users/alexellard/opt/anaconda3/lib/python3.7/site-packages/xgboost/data.py:96: UserWarning: Use subset (sliced data) of np.ndarray is not recommended because it will generate extra copies and increase memory consumption\n",
      "  \"because it will generate extra copies and increase \" +\n"
     ]
    },
    {
     "name": "stdout",
     "output_type": "stream",
     "text": [
      "test y shape : (17520, 1)\n",
      "Inv y shape : (17520, 66)\n",
      "y pred shape : (17520, 1)\n",
      "inv y pred : (17520, 66)\n",
      "Run 9 Mean Absolute Error: 2.9464386\n",
      "starting df shape: (87600, 67)\n",
      "This is training run 10 and has the shape:  (87600, 67)\n",
      "The value of dropped columns is 30\n"
     ]
    },
    {
     "name": "stderr",
     "output_type": "stream",
     "text": [
      "/Users/alexellard/opt/anaconda3/lib/python3.7/site-packages/xgboost/data.py:96: UserWarning: Use subset (sliced data) of np.ndarray is not recommended because it will generate extra copies and increase memory consumption\n",
      "  \"because it will generate extra copies and increase \" +\n"
     ]
    },
    {
     "name": "stdout",
     "output_type": "stream",
     "text": [
      "test y shape : (17520, 1)\n",
      "Inv y shape : (17520, 67)\n",
      "y pred shape : (17520, 1)\n",
      "inv y pred : (17520, 67)\n",
      "Run 10 Mean Absolute Error: 127.739555\n",
      "starting df shape: (87600, 61)\n",
      "This is training run 1 and has the shape:  (87600, 61)\n",
      "The value of dropped columns is 35\n"
     ]
    },
    {
     "name": "stderr",
     "output_type": "stream",
     "text": [
      "/Users/alexellard/opt/anaconda3/lib/python3.7/site-packages/xgboost/data.py:96: UserWarning: Use subset (sliced data) of np.ndarray is not recommended because it will generate extra copies and increase memory consumption\n",
      "  \"because it will generate extra copies and increase \" +\n"
     ]
    },
    {
     "name": "stdout",
     "output_type": "stream",
     "text": [
      "test y shape : (17520, 1)\n",
      "Inv y shape : (17520, 61)\n",
      "y pred shape : (17520, 1)\n",
      "inv y pred : (17520, 61)\n",
      "Run 1 Mean Absolute Error: 106.02679\n",
      "starting df shape: (87600, 61)\n",
      "This is training run 2 and has the shape:  (87600, 61)\n",
      "The value of dropped columns is 35\n"
     ]
    },
    {
     "name": "stderr",
     "output_type": "stream",
     "text": [
      "/Users/alexellard/opt/anaconda3/lib/python3.7/site-packages/xgboost/data.py:96: UserWarning: Use subset (sliced data) of np.ndarray is not recommended because it will generate extra copies and increase memory consumption\n",
      "  \"because it will generate extra copies and increase \" +\n"
     ]
    },
    {
     "name": "stdout",
     "output_type": "stream",
     "text": [
      "test y shape : (17520, 1)\n",
      "Inv y shape : (17520, 61)\n",
      "y pred shape : (17520, 1)\n",
      "inv y pred : (17520, 61)\n",
      "Run 2 Mean Absolute Error: 2.8198142\n",
      "starting df shape: (87600, 62)\n",
      "This is training run 3 and has the shape:  (87600, 62)\n",
      "The value of dropped columns is 35\n"
     ]
    },
    {
     "name": "stderr",
     "output_type": "stream",
     "text": [
      "/Users/alexellard/opt/anaconda3/lib/python3.7/site-packages/xgboost/data.py:96: UserWarning: Use subset (sliced data) of np.ndarray is not recommended because it will generate extra copies and increase memory consumption\n",
      "  \"because it will generate extra copies and increase \" +\n"
     ]
    },
    {
     "name": "stdout",
     "output_type": "stream",
     "text": [
      "test y shape : (17520, 1)\n",
      "Inv y shape : (17520, 62)\n",
      "y pred shape : (17520, 1)\n",
      "inv y pred : (17520, 62)\n",
      "Run 3 Mean Absolute Error: 7.826253\n",
      "starting df shape: (87600, 62)\n",
      "This is training run 4 and has the shape:  (87600, 62)\n",
      "The value of dropped columns is 35\n"
     ]
    },
    {
     "name": "stderr",
     "output_type": "stream",
     "text": [
      "/Users/alexellard/opt/anaconda3/lib/python3.7/site-packages/xgboost/data.py:96: UserWarning: Use subset (sliced data) of np.ndarray is not recommended because it will generate extra copies and increase memory consumption\n",
      "  \"because it will generate extra copies and increase \" +\n"
     ]
    },
    {
     "name": "stdout",
     "output_type": "stream",
     "text": [
      "test y shape : (17520, 1)\n",
      "Inv y shape : (17520, 62)\n",
      "y pred shape : (17520, 1)\n",
      "inv y pred : (17520, 62)\n",
      "Run 4 Mean Absolute Error: 130.73865\n",
      "starting df shape: (87600, 61)\n",
      "This is training run 5 and has the shape:  (87600, 61)\n",
      "The value of dropped columns is 35\n"
     ]
    },
    {
     "name": "stderr",
     "output_type": "stream",
     "text": [
      "/Users/alexellard/opt/anaconda3/lib/python3.7/site-packages/xgboost/data.py:96: UserWarning: Use subset (sliced data) of np.ndarray is not recommended because it will generate extra copies and increase memory consumption\n",
      "  \"because it will generate extra copies and increase \" +\n"
     ]
    },
    {
     "name": "stdout",
     "output_type": "stream",
     "text": [
      "test y shape : (17520, 1)\n",
      "Inv y shape : (17520, 61)\n",
      "y pred shape : (17520, 1)\n",
      "inv y pred : (17520, 61)\n",
      "Run 5 Mean Absolute Error: 2.7440624\n",
      "starting df shape: (87600, 61)\n",
      "This is training run 6 and has the shape:  (87600, 61)\n",
      "The value of dropped columns is 35\n"
     ]
    },
    {
     "name": "stderr",
     "output_type": "stream",
     "text": [
      "/Users/alexellard/opt/anaconda3/lib/python3.7/site-packages/xgboost/data.py:96: UserWarning: Use subset (sliced data) of np.ndarray is not recommended because it will generate extra copies and increase memory consumption\n",
      "  \"because it will generate extra copies and increase \" +\n"
     ]
    },
    {
     "name": "stdout",
     "output_type": "stream",
     "text": [
      "test y shape : (17520, 1)\n",
      "Inv y shape : (17520, 61)\n",
      "y pred shape : (17520, 1)\n",
      "inv y pred : (17520, 61)\n",
      "Run 6 Mean Absolute Error: 4.4578648\n",
      "starting df shape: (87600, 61)\n",
      "This is training run 7 and has the shape:  (87600, 61)\n",
      "The value of dropped columns is 35\n"
     ]
    },
    {
     "name": "stderr",
     "output_type": "stream",
     "text": [
      "/Users/alexellard/opt/anaconda3/lib/python3.7/site-packages/xgboost/data.py:96: UserWarning: Use subset (sliced data) of np.ndarray is not recommended because it will generate extra copies and increase memory consumption\n",
      "  \"because it will generate extra copies and increase \" +\n"
     ]
    },
    {
     "name": "stdout",
     "output_type": "stream",
     "text": [
      "test y shape : (17520, 1)\n",
      "Inv y shape : (17520, 61)\n",
      "y pred shape : (17520, 1)\n",
      "inv y pred : (17520, 61)\n",
      "Run 7 Mean Absolute Error: 80.543526\n",
      "starting df shape: (87600, 61)\n",
      "This is training run 8 and has the shape:  (87600, 61)\n",
      "The value of dropped columns is 35\n"
     ]
    },
    {
     "name": "stderr",
     "output_type": "stream",
     "text": [
      "/Users/alexellard/opt/anaconda3/lib/python3.7/site-packages/xgboost/data.py:96: UserWarning: Use subset (sliced data) of np.ndarray is not recommended because it will generate extra copies and increase memory consumption\n",
      "  \"because it will generate extra copies and increase \" +\n"
     ]
    },
    {
     "name": "stdout",
     "output_type": "stream",
     "text": [
      "test y shape : (17520, 1)\n",
      "Inv y shape : (17520, 61)\n",
      "y pred shape : (17520, 1)\n",
      "inv y pred : (17520, 61)\n",
      "Run 8 Mean Absolute Error: 44.92333\n",
      "starting df shape: (87600, 61)\n",
      "This is training run 9 and has the shape:  (87600, 61)\n",
      "The value of dropped columns is 35\n"
     ]
    },
    {
     "name": "stderr",
     "output_type": "stream",
     "text": [
      "/Users/alexellard/opt/anaconda3/lib/python3.7/site-packages/xgboost/data.py:96: UserWarning: Use subset (sliced data) of np.ndarray is not recommended because it will generate extra copies and increase memory consumption\n",
      "  \"because it will generate extra copies and increase \" +\n"
     ]
    },
    {
     "name": "stdout",
     "output_type": "stream",
     "text": [
      "test y shape : (17520, 1)\n",
      "Inv y shape : (17520, 61)\n",
      "y pred shape : (17520, 1)\n",
      "inv y pred : (17520, 61)\n",
      "Run 9 Mean Absolute Error: 1.9584827\n",
      "starting df shape: (87600, 61)\n",
      "This is training run 10 and has the shape:  (87600, 61)\n",
      "The value of dropped columns is 35\n"
     ]
    },
    {
     "name": "stderr",
     "output_type": "stream",
     "text": [
      "/Users/alexellard/opt/anaconda3/lib/python3.7/site-packages/xgboost/data.py:96: UserWarning: Use subset (sliced data) of np.ndarray is not recommended because it will generate extra copies and increase memory consumption\n",
      "  \"because it will generate extra copies and increase \" +\n"
     ]
    },
    {
     "name": "stdout",
     "output_type": "stream",
     "text": [
      "test y shape : (17520, 1)\n",
      "Inv y shape : (17520, 61)\n",
      "y pred shape : (17520, 1)\n",
      "inv y pred : (17520, 61)\n",
      "Run 10 Mean Absolute Error: 49.131344\n",
      "starting df shape: (87600, 57)\n",
      "This is training run 1 and has the shape:  (87600, 57)\n",
      "The value of dropped columns is 40\n"
     ]
    },
    {
     "name": "stderr",
     "output_type": "stream",
     "text": [
      "/Users/alexellard/opt/anaconda3/lib/python3.7/site-packages/xgboost/data.py:96: UserWarning: Use subset (sliced data) of np.ndarray is not recommended because it will generate extra copies and increase memory consumption\n",
      "  \"because it will generate extra copies and increase \" +\n"
     ]
    },
    {
     "name": "stdout",
     "output_type": "stream",
     "text": [
      "test y shape : (17520, 1)\n",
      "Inv y shape : (17520, 57)\n",
      "y pred shape : (17520, 1)\n",
      "inv y pred : (17520, 57)\n",
      "Run 1 Mean Absolute Error: 47.023926\n",
      "starting df shape: (87600, 56)\n",
      "This is training run 2 and has the shape:  (87600, 56)\n",
      "The value of dropped columns is 40\n"
     ]
    },
    {
     "name": "stderr",
     "output_type": "stream",
     "text": [
      "/Users/alexellard/opt/anaconda3/lib/python3.7/site-packages/xgboost/data.py:96: UserWarning: Use subset (sliced data) of np.ndarray is not recommended because it will generate extra copies and increase memory consumption\n",
      "  \"because it will generate extra copies and increase \" +\n"
     ]
    },
    {
     "name": "stdout",
     "output_type": "stream",
     "text": [
      "test y shape : (17520, 1)\n",
      "Inv y shape : (17520, 56)\n",
      "y pred shape : (17520, 1)\n",
      "inv y pred : (17520, 56)\n",
      "Run 2 Mean Absolute Error: 73.47984\n",
      "starting df shape: (87600, 56)\n",
      "This is training run 3 and has the shape:  (87600, 56)\n",
      "The value of dropped columns is 40\n"
     ]
    },
    {
     "name": "stderr",
     "output_type": "stream",
     "text": [
      "/Users/alexellard/opt/anaconda3/lib/python3.7/site-packages/xgboost/data.py:96: UserWarning: Use subset (sliced data) of np.ndarray is not recommended because it will generate extra copies and increase memory consumption\n",
      "  \"because it will generate extra copies and increase \" +\n"
     ]
    },
    {
     "name": "stdout",
     "output_type": "stream",
     "text": [
      "test y shape : (17520, 1)\n",
      "Inv y shape : (17520, 56)\n",
      "y pred shape : (17520, 1)\n",
      "inv y pred : (17520, 56)\n",
      "Run 3 Mean Absolute Error: 7.9554653\n",
      "starting df shape: (87600, 56)\n",
      "This is training run 4 and has the shape:  (87600, 56)\n",
      "The value of dropped columns is 40\n"
     ]
    },
    {
     "name": "stderr",
     "output_type": "stream",
     "text": [
      "/Users/alexellard/opt/anaconda3/lib/python3.7/site-packages/xgboost/data.py:96: UserWarning: Use subset (sliced data) of np.ndarray is not recommended because it will generate extra copies and increase memory consumption\n",
      "  \"because it will generate extra copies and increase \" +\n"
     ]
    },
    {
     "name": "stdout",
     "output_type": "stream",
     "text": [
      "test y shape : (17520, 1)\n",
      "Inv y shape : (17520, 56)\n",
      "y pred shape : (17520, 1)\n",
      "inv y pred : (17520, 56)\n",
      "Run 4 Mean Absolute Error: 45.99479\n",
      "starting df shape: (87600, 56)\n",
      "This is training run 5 and has the shape:  (87600, 56)\n",
      "The value of dropped columns is 40\n"
     ]
    },
    {
     "name": "stderr",
     "output_type": "stream",
     "text": [
      "/Users/alexellard/opt/anaconda3/lib/python3.7/site-packages/xgboost/data.py:96: UserWarning: Use subset (sliced data) of np.ndarray is not recommended because it will generate extra copies and increase memory consumption\n",
      "  \"because it will generate extra copies and increase \" +\n"
     ]
    },
    {
     "name": "stdout",
     "output_type": "stream",
     "text": [
      "test y shape : (17520, 1)\n",
      "Inv y shape : (17520, 56)\n",
      "y pred shape : (17520, 1)\n",
      "inv y pred : (17520, 56)\n",
      "Run 5 Mean Absolute Error: 7.9604506\n",
      "starting df shape: (87600, 56)\n",
      "This is training run 6 and has the shape:  (87600, 56)\n",
      "The value of dropped columns is 40\n"
     ]
    },
    {
     "name": "stderr",
     "output_type": "stream",
     "text": [
      "/Users/alexellard/opt/anaconda3/lib/python3.7/site-packages/xgboost/data.py:96: UserWarning: Use subset (sliced data) of np.ndarray is not recommended because it will generate extra copies and increase memory consumption\n",
      "  \"because it will generate extra copies and increase \" +\n"
     ]
    },
    {
     "name": "stdout",
     "output_type": "stream",
     "text": [
      "test y shape : (17520, 1)\n",
      "Inv y shape : (17520, 56)\n",
      "y pred shape : (17520, 1)\n",
      "inv y pred : (17520, 56)\n",
      "Run 6 Mean Absolute Error: 78.812256\n",
      "starting df shape: (87600, 56)\n",
      "This is training run 7 and has the shape:  (87600, 56)\n",
      "The value of dropped columns is 40\n"
     ]
    },
    {
     "name": "stderr",
     "output_type": "stream",
     "text": [
      "/Users/alexellard/opt/anaconda3/lib/python3.7/site-packages/xgboost/data.py:96: UserWarning: Use subset (sliced data) of np.ndarray is not recommended because it will generate extra copies and increase memory consumption\n",
      "  \"because it will generate extra copies and increase \" +\n"
     ]
    },
    {
     "name": "stdout",
     "output_type": "stream",
     "text": [
      "test y shape : (17520, 1)\n",
      "Inv y shape : (17520, 56)\n",
      "y pred shape : (17520, 1)\n",
      "inv y pred : (17520, 56)\n",
      "Run 7 Mean Absolute Error: 77.16803\n",
      "starting df shape: (87600, 56)\n",
      "This is training run 8 and has the shape:  (87600, 56)\n",
      "The value of dropped columns is 40\n"
     ]
    },
    {
     "name": "stderr",
     "output_type": "stream",
     "text": [
      "/Users/alexellard/opt/anaconda3/lib/python3.7/site-packages/xgboost/data.py:96: UserWarning: Use subset (sliced data) of np.ndarray is not recommended because it will generate extra copies and increase memory consumption\n",
      "  \"because it will generate extra copies and increase \" +\n"
     ]
    },
    {
     "name": "stdout",
     "output_type": "stream",
     "text": [
      "test y shape : (17520, 1)\n",
      "Inv y shape : (17520, 56)\n",
      "y pred shape : (17520, 1)\n",
      "inv y pred : (17520, 56)\n",
      "Run 8 Mean Absolute Error: 0.41536164\n",
      "starting df shape: (87600, 56)\n",
      "This is training run 9 and has the shape:  (87600, 56)\n",
      "The value of dropped columns is 40\n"
     ]
    },
    {
     "name": "stderr",
     "output_type": "stream",
     "text": [
      "/Users/alexellard/opt/anaconda3/lib/python3.7/site-packages/xgboost/data.py:96: UserWarning: Use subset (sliced data) of np.ndarray is not recommended because it will generate extra copies and increase memory consumption\n",
      "  \"because it will generate extra copies and increase \" +\n"
     ]
    },
    {
     "name": "stdout",
     "output_type": "stream",
     "text": [
      "test y shape : (17520, 1)\n",
      "Inv y shape : (17520, 56)\n",
      "y pred shape : (17520, 1)\n",
      "inv y pred : (17520, 56)\n",
      "Run 9 Mean Absolute Error: 4.954027\n",
      "starting df shape: (87600, 57)\n",
      "This is training run 10 and has the shape:  (87600, 57)\n",
      "The value of dropped columns is 40\n"
     ]
    },
    {
     "name": "stderr",
     "output_type": "stream",
     "text": [
      "/Users/alexellard/opt/anaconda3/lib/python3.7/site-packages/xgboost/data.py:96: UserWarning: Use subset (sliced data) of np.ndarray is not recommended because it will generate extra copies and increase memory consumption\n",
      "  \"because it will generate extra copies and increase \" +\n"
     ]
    },
    {
     "name": "stdout",
     "output_type": "stream",
     "text": [
      "test y shape : (17520, 1)\n",
      "Inv y shape : (17520, 57)\n",
      "y pred shape : (17520, 1)\n",
      "inv y pred : (17520, 57)\n",
      "Run 10 Mean Absolute Error: 45.461906\n",
      "starting df shape: (87600, 52)\n",
      "This is training run 1 and has the shape:  (87600, 52)\n",
      "The value of dropped columns is 45\n"
     ]
    },
    {
     "name": "stderr",
     "output_type": "stream",
     "text": [
      "/Users/alexellard/opt/anaconda3/lib/python3.7/site-packages/xgboost/data.py:96: UserWarning: Use subset (sliced data) of np.ndarray is not recommended because it will generate extra copies and increase memory consumption\n",
      "  \"because it will generate extra copies and increase \" +\n"
     ]
    },
    {
     "name": "stdout",
     "output_type": "stream",
     "text": [
      "test y shape : (17520, 1)\n",
      "Inv y shape : (17520, 52)\n",
      "y pred shape : (17520, 1)\n",
      "inv y pred : (17520, 52)\n",
      "Run 1 Mean Absolute Error: 4.6869936\n",
      "starting df shape: (87600, 51)\n",
      "This is training run 2 and has the shape:  (87600, 51)\n",
      "The value of dropped columns is 45\n"
     ]
    },
    {
     "name": "stderr",
     "output_type": "stream",
     "text": [
      "/Users/alexellard/opt/anaconda3/lib/python3.7/site-packages/xgboost/data.py:96: UserWarning: Use subset (sliced data) of np.ndarray is not recommended because it will generate extra copies and increase memory consumption\n",
      "  \"because it will generate extra copies and increase \" +\n"
     ]
    },
    {
     "name": "stdout",
     "output_type": "stream",
     "text": [
      "test y shape : (17520, 1)\n",
      "Inv y shape : (17520, 51)\n",
      "y pred shape : (17520, 1)\n",
      "inv y pred : (17520, 51)\n",
      "Run 2 Mean Absolute Error: 104.72352\n",
      "starting df shape: (87600, 51)\n",
      "This is training run 3 and has the shape:  (87600, 51)\n",
      "The value of dropped columns is 45\n"
     ]
    },
    {
     "name": "stderr",
     "output_type": "stream",
     "text": [
      "/Users/alexellard/opt/anaconda3/lib/python3.7/site-packages/xgboost/data.py:96: UserWarning: Use subset (sliced data) of np.ndarray is not recommended because it will generate extra copies and increase memory consumption\n",
      "  \"because it will generate extra copies and increase \" +\n"
     ]
    },
    {
     "name": "stdout",
     "output_type": "stream",
     "text": [
      "test y shape : (17520, 1)\n",
      "Inv y shape : (17520, 51)\n",
      "y pred shape : (17520, 1)\n",
      "inv y pred : (17520, 51)\n",
      "Run 3 Mean Absolute Error: 4.6577663\n",
      "starting df shape: (87600, 52)\n",
      "This is training run 4 and has the shape:  (87600, 52)\n",
      "The value of dropped columns is 45\n"
     ]
    },
    {
     "name": "stderr",
     "output_type": "stream",
     "text": [
      "/Users/alexellard/opt/anaconda3/lib/python3.7/site-packages/xgboost/data.py:96: UserWarning: Use subset (sliced data) of np.ndarray is not recommended because it will generate extra copies and increase memory consumption\n",
      "  \"because it will generate extra copies and increase \" +\n"
     ]
    },
    {
     "name": "stdout",
     "output_type": "stream",
     "text": [
      "test y shape : (17520, 1)\n",
      "Inv y shape : (17520, 52)\n",
      "y pred shape : (17520, 1)\n",
      "inv y pred : (17520, 52)\n",
      "Run 4 Mean Absolute Error: 4.041578\n",
      "starting df shape: (87600, 52)\n",
      "This is training run 5 and has the shape:  (87600, 52)\n",
      "The value of dropped columns is 45\n"
     ]
    },
    {
     "name": "stderr",
     "output_type": "stream",
     "text": [
      "/Users/alexellard/opt/anaconda3/lib/python3.7/site-packages/xgboost/data.py:96: UserWarning: Use subset (sliced data) of np.ndarray is not recommended because it will generate extra copies and increase memory consumption\n",
      "  \"because it will generate extra copies and increase \" +\n"
     ]
    },
    {
     "name": "stdout",
     "output_type": "stream",
     "text": [
      "test y shape : (17520, 1)\n",
      "Inv y shape : (17520, 52)\n",
      "y pred shape : (17520, 1)\n",
      "inv y pred : (17520, 52)\n",
      "Run 5 Mean Absolute Error: 43.284473\n",
      "starting df shape: (87600, 52)\n",
      "This is training run 6 and has the shape:  (87600, 52)\n",
      "The value of dropped columns is 45\n"
     ]
    },
    {
     "name": "stderr",
     "output_type": "stream",
     "text": [
      "/Users/alexellard/opt/anaconda3/lib/python3.7/site-packages/xgboost/data.py:96: UserWarning: Use subset (sliced data) of np.ndarray is not recommended because it will generate extra copies and increase memory consumption\n",
      "  \"because it will generate extra copies and increase \" +\n"
     ]
    },
    {
     "name": "stdout",
     "output_type": "stream",
     "text": [
      "test y shape : (17520, 1)\n",
      "Inv y shape : (17520, 52)\n",
      "y pred shape : (17520, 1)\n",
      "inv y pred : (17520, 52)\n",
      "Run 6 Mean Absolute Error: 4.3249383\n",
      "starting df shape: (87600, 51)\n",
      "This is training run 7 and has the shape:  (87600, 51)\n",
      "The value of dropped columns is 45\n"
     ]
    },
    {
     "name": "stderr",
     "output_type": "stream",
     "text": [
      "/Users/alexellard/opt/anaconda3/lib/python3.7/site-packages/xgboost/data.py:96: UserWarning: Use subset (sliced data) of np.ndarray is not recommended because it will generate extra copies and increase memory consumption\n",
      "  \"because it will generate extra copies and increase \" +\n"
     ]
    },
    {
     "name": "stdout",
     "output_type": "stream",
     "text": [
      "test y shape : (17520, 1)\n",
      "Inv y shape : (17520, 51)\n",
      "y pred shape : (17520, 1)\n",
      "inv y pred : (17520, 51)\n",
      "Run 7 Mean Absolute Error: 7.4227943\n",
      "starting df shape: (87600, 52)\n",
      "This is training run 8 and has the shape:  (87600, 52)\n",
      "The value of dropped columns is 45\n"
     ]
    },
    {
     "name": "stderr",
     "output_type": "stream",
     "text": [
      "/Users/alexellard/opt/anaconda3/lib/python3.7/site-packages/xgboost/data.py:96: UserWarning: Use subset (sliced data) of np.ndarray is not recommended because it will generate extra copies and increase memory consumption\n",
      "  \"because it will generate extra copies and increase \" +\n"
     ]
    },
    {
     "name": "stdout",
     "output_type": "stream",
     "text": [
      "test y shape : (17520, 1)\n",
      "Inv y shape : (17520, 52)\n",
      "y pred shape : (17520, 1)\n",
      "inv y pred : (17520, 52)\n",
      "Run 8 Mean Absolute Error: 83.32565\n",
      "starting df shape: (87600, 52)\n",
      "This is training run 9 and has the shape:  (87600, 52)\n",
      "The value of dropped columns is 45\n"
     ]
    },
    {
     "name": "stderr",
     "output_type": "stream",
     "text": [
      "/Users/alexellard/opt/anaconda3/lib/python3.7/site-packages/xgboost/data.py:96: UserWarning: Use subset (sliced data) of np.ndarray is not recommended because it will generate extra copies and increase memory consumption\n",
      "  \"because it will generate extra copies and increase \" +\n"
     ]
    },
    {
     "name": "stdout",
     "output_type": "stream",
     "text": [
      "test y shape : (17520, 1)\n",
      "Inv y shape : (17520, 52)\n",
      "y pred shape : (17520, 1)\n",
      "inv y pred : (17520, 52)\n",
      "Run 9 Mean Absolute Error: 131.6524\n",
      "starting df shape: (87600, 51)\n",
      "This is training run 10 and has the shape:  (87600, 51)\n",
      "The value of dropped columns is 45\n"
     ]
    },
    {
     "name": "stderr",
     "output_type": "stream",
     "text": [
      "/Users/alexellard/opt/anaconda3/lib/python3.7/site-packages/xgboost/data.py:96: UserWarning: Use subset (sliced data) of np.ndarray is not recommended because it will generate extra copies and increase memory consumption\n",
      "  \"because it will generate extra copies and increase \" +\n"
     ]
    },
    {
     "name": "stdout",
     "output_type": "stream",
     "text": [
      "test y shape : (17520, 1)\n",
      "Inv y shape : (17520, 51)\n",
      "y pred shape : (17520, 1)\n",
      "inv y pred : (17520, 51)\n",
      "Run 10 Mean Absolute Error: 6.3381643\n",
      "starting df shape: (87600, 47)\n",
      "This is training run 1 and has the shape:  (87600, 47)\n",
      "The value of dropped columns is 50\n"
     ]
    },
    {
     "name": "stderr",
     "output_type": "stream",
     "text": [
      "/Users/alexellard/opt/anaconda3/lib/python3.7/site-packages/xgboost/data.py:96: UserWarning: Use subset (sliced data) of np.ndarray is not recommended because it will generate extra copies and increase memory consumption\n",
      "  \"because it will generate extra copies and increase \" +\n"
     ]
    },
    {
     "name": "stdout",
     "output_type": "stream",
     "text": [
      "test y shape : (17520, 1)\n",
      "Inv y shape : (17520, 47)\n",
      "y pred shape : (17520, 1)\n",
      "inv y pred : (17520, 47)\n",
      "Run 1 Mean Absolute Error: 3.3744226\n",
      "starting df shape: (87600, 46)\n",
      "This is training run 2 and has the shape:  (87600, 46)\n",
      "The value of dropped columns is 50\n"
     ]
    },
    {
     "name": "stderr",
     "output_type": "stream",
     "text": [
      "/Users/alexellard/opt/anaconda3/lib/python3.7/site-packages/xgboost/data.py:96: UserWarning: Use subset (sliced data) of np.ndarray is not recommended because it will generate extra copies and increase memory consumption\n",
      "  \"because it will generate extra copies and increase \" +\n"
     ]
    },
    {
     "name": "stdout",
     "output_type": "stream",
     "text": [
      "test y shape : (17520, 1)\n",
      "Inv y shape : (17520, 46)\n",
      "y pred shape : (17520, 1)\n",
      "inv y pred : (17520, 46)\n",
      "Run 2 Mean Absolute Error: 2.5969043\n",
      "starting df shape: (87600, 47)\n",
      "This is training run 3 and has the shape:  (87600, 47)\n",
      "The value of dropped columns is 50\n"
     ]
    },
    {
     "name": "stderr",
     "output_type": "stream",
     "text": [
      "/Users/alexellard/opt/anaconda3/lib/python3.7/site-packages/xgboost/data.py:96: UserWarning: Use subset (sliced data) of np.ndarray is not recommended because it will generate extra copies and increase memory consumption\n",
      "  \"because it will generate extra copies and increase \" +\n"
     ]
    },
    {
     "name": "stdout",
     "output_type": "stream",
     "text": [
      "test y shape : (17520, 1)\n",
      "Inv y shape : (17520, 47)\n",
      "y pred shape : (17520, 1)\n",
      "inv y pred : (17520, 47)\n",
      "Run 3 Mean Absolute Error: 167.24982\n",
      "starting df shape: (87600, 47)\n",
      "This is training run 4 and has the shape:  (87600, 47)\n",
      "The value of dropped columns is 50\n"
     ]
    },
    {
     "name": "stderr",
     "output_type": "stream",
     "text": [
      "/Users/alexellard/opt/anaconda3/lib/python3.7/site-packages/xgboost/data.py:96: UserWarning: Use subset (sliced data) of np.ndarray is not recommended because it will generate extra copies and increase memory consumption\n",
      "  \"because it will generate extra copies and increase \" +\n"
     ]
    },
    {
     "name": "stdout",
     "output_type": "stream",
     "text": [
      "test y shape : (17520, 1)\n",
      "Inv y shape : (17520, 47)\n",
      "y pred shape : (17520, 1)\n",
      "inv y pred : (17520, 47)\n",
      "Run 4 Mean Absolute Error: 141.19713\n",
      "starting df shape: (87600, 46)\n",
      "This is training run 5 and has the shape:  (87600, 46)\n",
      "The value of dropped columns is 50\n"
     ]
    },
    {
     "name": "stderr",
     "output_type": "stream",
     "text": [
      "/Users/alexellard/opt/anaconda3/lib/python3.7/site-packages/xgboost/data.py:96: UserWarning: Use subset (sliced data) of np.ndarray is not recommended because it will generate extra copies and increase memory consumption\n",
      "  \"because it will generate extra copies and increase \" +\n"
     ]
    },
    {
     "name": "stdout",
     "output_type": "stream",
     "text": [
      "test y shape : (17520, 1)\n",
      "Inv y shape : (17520, 46)\n",
      "y pred shape : (17520, 1)\n",
      "inv y pred : (17520, 46)\n",
      "Run 5 Mean Absolute Error: 5.812514\n",
      "starting df shape: (87600, 46)\n",
      "This is training run 6 and has the shape:  (87600, 46)\n",
      "The value of dropped columns is 50\n"
     ]
    },
    {
     "name": "stderr",
     "output_type": "stream",
     "text": [
      "/Users/alexellard/opt/anaconda3/lib/python3.7/site-packages/xgboost/data.py:96: UserWarning: Use subset (sliced data) of np.ndarray is not recommended because it will generate extra copies and increase memory consumption\n",
      "  \"because it will generate extra copies and increase \" +\n"
     ]
    },
    {
     "name": "stdout",
     "output_type": "stream",
     "text": [
      "test y shape : (17520, 1)\n",
      "Inv y shape : (17520, 46)\n",
      "y pred shape : (17520, 1)\n",
      "inv y pred : (17520, 46)\n",
      "Run 6 Mean Absolute Error: 4.868411\n",
      "starting df shape: (87600, 47)\n",
      "This is training run 7 and has the shape:  (87600, 47)\n",
      "The value of dropped columns is 50\n"
     ]
    },
    {
     "name": "stderr",
     "output_type": "stream",
     "text": [
      "/Users/alexellard/opt/anaconda3/lib/python3.7/site-packages/xgboost/data.py:96: UserWarning: Use subset (sliced data) of np.ndarray is not recommended because it will generate extra copies and increase memory consumption\n",
      "  \"because it will generate extra copies and increase \" +\n"
     ]
    },
    {
     "name": "stdout",
     "output_type": "stream",
     "text": [
      "test y shape : (17520, 1)\n",
      "Inv y shape : (17520, 47)\n",
      "y pred shape : (17520, 1)\n",
      "inv y pred : (17520, 47)\n",
      "Run 7 Mean Absolute Error: 0.71124226\n",
      "starting df shape: (87600, 47)\n",
      "This is training run 8 and has the shape:  (87600, 47)\n",
      "The value of dropped columns is 50\n"
     ]
    },
    {
     "name": "stderr",
     "output_type": "stream",
     "text": [
      "/Users/alexellard/opt/anaconda3/lib/python3.7/site-packages/xgboost/data.py:96: UserWarning: Use subset (sliced data) of np.ndarray is not recommended because it will generate extra copies and increase memory consumption\n",
      "  \"because it will generate extra copies and increase \" +\n"
     ]
    },
    {
     "name": "stdout",
     "output_type": "stream",
     "text": [
      "test y shape : (17520, 1)\n",
      "Inv y shape : (17520, 47)\n",
      "y pred shape : (17520, 1)\n",
      "inv y pred : (17520, 47)\n",
      "Run 8 Mean Absolute Error: 5.189851\n",
      "starting df shape: (87600, 46)\n",
      "This is training run 9 and has the shape:  (87600, 46)\n",
      "The value of dropped columns is 50\n"
     ]
    },
    {
     "name": "stderr",
     "output_type": "stream",
     "text": [
      "/Users/alexellard/opt/anaconda3/lib/python3.7/site-packages/xgboost/data.py:96: UserWarning: Use subset (sliced data) of np.ndarray is not recommended because it will generate extra copies and increase memory consumption\n",
      "  \"because it will generate extra copies and increase \" +\n"
     ]
    },
    {
     "name": "stdout",
     "output_type": "stream",
     "text": [
      "test y shape : (17520, 1)\n",
      "Inv y shape : (17520, 46)\n",
      "y pred shape : (17520, 1)\n",
      "inv y pred : (17520, 46)\n",
      "Run 9 Mean Absolute Error: 172.55956\n",
      "starting df shape: (87600, 46)\n",
      "This is training run 10 and has the shape:  (87600, 46)\n",
      "The value of dropped columns is 50\n"
     ]
    },
    {
     "name": "stderr",
     "output_type": "stream",
     "text": [
      "/Users/alexellard/opt/anaconda3/lib/python3.7/site-packages/xgboost/data.py:96: UserWarning: Use subset (sliced data) of np.ndarray is not recommended because it will generate extra copies and increase memory consumption\n",
      "  \"because it will generate extra copies and increase \" +\n"
     ]
    },
    {
     "name": "stdout",
     "output_type": "stream",
     "text": [
      "test y shape : (17520, 1)\n",
      "Inv y shape : (17520, 46)\n",
      "y pred shape : (17520, 1)\n",
      "inv y pred : (17520, 46)\n",
      "Run 10 Mean Absolute Error: 159.34793\n",
      "starting df shape: (87600, 41)\n",
      "This is training run 1 and has the shape:  (87600, 41)\n",
      "The value of dropped columns is 55\n"
     ]
    },
    {
     "name": "stderr",
     "output_type": "stream",
     "text": [
      "/Users/alexellard/opt/anaconda3/lib/python3.7/site-packages/xgboost/data.py:96: UserWarning: Use subset (sliced data) of np.ndarray is not recommended because it will generate extra copies and increase memory consumption\n",
      "  \"because it will generate extra copies and increase \" +\n"
     ]
    },
    {
     "name": "stdout",
     "output_type": "stream",
     "text": [
      "test y shape : (17520, 1)\n",
      "Inv y shape : (17520, 41)\n",
      "y pred shape : (17520, 1)\n",
      "inv y pred : (17520, 41)\n",
      "Run 1 Mean Absolute Error: 10.552543\n",
      "starting df shape: (87600, 42)\n",
      "This is training run 2 and has the shape:  (87600, 42)\n",
      "The value of dropped columns is 55\n"
     ]
    },
    {
     "name": "stderr",
     "output_type": "stream",
     "text": [
      "/Users/alexellard/opt/anaconda3/lib/python3.7/site-packages/xgboost/data.py:96: UserWarning: Use subset (sliced data) of np.ndarray is not recommended because it will generate extra copies and increase memory consumption\n",
      "  \"because it will generate extra copies and increase \" +\n"
     ]
    },
    {
     "name": "stdout",
     "output_type": "stream",
     "text": [
      "test y shape : (17520, 1)\n",
      "Inv y shape : (17520, 42)\n",
      "y pred shape : (17520, 1)\n",
      "inv y pred : (17520, 42)\n",
      "Run 2 Mean Absolute Error: 2.6156683\n",
      "starting df shape: (87600, 42)\n",
      "This is training run 3 and has the shape:  (87600, 42)\n",
      "The value of dropped columns is 55\n"
     ]
    },
    {
     "name": "stderr",
     "output_type": "stream",
     "text": [
      "/Users/alexellard/opt/anaconda3/lib/python3.7/site-packages/xgboost/data.py:96: UserWarning: Use subset (sliced data) of np.ndarray is not recommended because it will generate extra copies and increase memory consumption\n",
      "  \"because it will generate extra copies and increase \" +\n"
     ]
    },
    {
     "name": "stdout",
     "output_type": "stream",
     "text": [
      "test y shape : (17520, 1)\n",
      "Inv y shape : (17520, 42)\n",
      "y pred shape : (17520, 1)\n",
      "inv y pred : (17520, 42)\n",
      "Run 3 Mean Absolute Error: 84.6915\n",
      "starting df shape: (87600, 42)\n",
      "This is training run 4 and has the shape:  (87600, 42)\n",
      "The value of dropped columns is 55\n"
     ]
    },
    {
     "name": "stderr",
     "output_type": "stream",
     "text": [
      "/Users/alexellard/opt/anaconda3/lib/python3.7/site-packages/xgboost/data.py:96: UserWarning: Use subset (sliced data) of np.ndarray is not recommended because it will generate extra copies and increase memory consumption\n",
      "  \"because it will generate extra copies and increase \" +\n"
     ]
    },
    {
     "name": "stdout",
     "output_type": "stream",
     "text": [
      "test y shape : (17520, 1)\n",
      "Inv y shape : (17520, 42)\n",
      "y pred shape : (17520, 1)\n",
      "inv y pred : (17520, 42)\n",
      "Run 4 Mean Absolute Error: 7.134794\n",
      "starting df shape: (87600, 42)\n",
      "This is training run 5 and has the shape:  (87600, 42)\n",
      "The value of dropped columns is 55\n"
     ]
    },
    {
     "name": "stderr",
     "output_type": "stream",
     "text": [
      "/Users/alexellard/opt/anaconda3/lib/python3.7/site-packages/xgboost/data.py:96: UserWarning: Use subset (sliced data) of np.ndarray is not recommended because it will generate extra copies and increase memory consumption\n",
      "  \"because it will generate extra copies and increase \" +\n"
     ]
    },
    {
     "name": "stdout",
     "output_type": "stream",
     "text": [
      "test y shape : (17520, 1)\n",
      "Inv y shape : (17520, 42)\n",
      "y pred shape : (17520, 1)\n",
      "inv y pred : (17520, 42)\n",
      "Run 5 Mean Absolute Error: 157.73965\n",
      "starting df shape: (87600, 41)\n",
      "This is training run 6 and has the shape:  (87600, 41)\n",
      "The value of dropped columns is 55\n"
     ]
    },
    {
     "name": "stderr",
     "output_type": "stream",
     "text": [
      "/Users/alexellard/opt/anaconda3/lib/python3.7/site-packages/xgboost/data.py:96: UserWarning: Use subset (sliced data) of np.ndarray is not recommended because it will generate extra copies and increase memory consumption\n",
      "  \"because it will generate extra copies and increase \" +\n"
     ]
    },
    {
     "name": "stdout",
     "output_type": "stream",
     "text": [
      "test y shape : (17520, 1)\n",
      "Inv y shape : (17520, 41)\n",
      "y pred shape : (17520, 1)\n",
      "inv y pred : (17520, 41)\n",
      "Run 6 Mean Absolute Error: 5.123792\n",
      "starting df shape: (87600, 42)\n",
      "This is training run 7 and has the shape:  (87600, 42)\n",
      "The value of dropped columns is 55\n"
     ]
    },
    {
     "name": "stderr",
     "output_type": "stream",
     "text": [
      "/Users/alexellard/opt/anaconda3/lib/python3.7/site-packages/xgboost/data.py:96: UserWarning: Use subset (sliced data) of np.ndarray is not recommended because it will generate extra copies and increase memory consumption\n",
      "  \"because it will generate extra copies and increase \" +\n"
     ]
    },
    {
     "name": "stdout",
     "output_type": "stream",
     "text": [
      "test y shape : (17520, 1)\n",
      "Inv y shape : (17520, 42)\n",
      "y pred shape : (17520, 1)\n",
      "inv y pred : (17520, 42)\n",
      "Run 7 Mean Absolute Error: 162.19043\n",
      "starting df shape: (87600, 41)\n",
      "This is training run 8 and has the shape:  (87600, 41)\n",
      "The value of dropped columns is 55\n"
     ]
    },
    {
     "name": "stderr",
     "output_type": "stream",
     "text": [
      "/Users/alexellard/opt/anaconda3/lib/python3.7/site-packages/xgboost/data.py:96: UserWarning: Use subset (sliced data) of np.ndarray is not recommended because it will generate extra copies and increase memory consumption\n",
      "  \"because it will generate extra copies and increase \" +\n"
     ]
    },
    {
     "name": "stdout",
     "output_type": "stream",
     "text": [
      "test y shape : (17520, 1)\n",
      "Inv y shape : (17520, 41)\n",
      "y pred shape : (17520, 1)\n",
      "inv y pred : (17520, 41)\n",
      "Run 8 Mean Absolute Error: 11.0306835\n",
      "starting df shape: (87600, 41)\n",
      "This is training run 9 and has the shape:  (87600, 41)\n",
      "The value of dropped columns is 55\n"
     ]
    },
    {
     "name": "stderr",
     "output_type": "stream",
     "text": [
      "/Users/alexellard/opt/anaconda3/lib/python3.7/site-packages/xgboost/data.py:96: UserWarning: Use subset (sliced data) of np.ndarray is not recommended because it will generate extra copies and increase memory consumption\n",
      "  \"because it will generate extra copies and increase \" +\n"
     ]
    },
    {
     "name": "stdout",
     "output_type": "stream",
     "text": [
      "test y shape : (17520, 1)\n",
      "Inv y shape : (17520, 41)\n",
      "y pred shape : (17520, 1)\n",
      "inv y pred : (17520, 41)\n",
      "Run 9 Mean Absolute Error: 45.50456\n",
      "starting df shape: (87600, 42)\n",
      "This is training run 10 and has the shape:  (87600, 42)\n",
      "The value of dropped columns is 55\n"
     ]
    },
    {
     "name": "stderr",
     "output_type": "stream",
     "text": [
      "/Users/alexellard/opt/anaconda3/lib/python3.7/site-packages/xgboost/data.py:96: UserWarning: Use subset (sliced data) of np.ndarray is not recommended because it will generate extra copies and increase memory consumption\n",
      "  \"because it will generate extra copies and increase \" +\n"
     ]
    },
    {
     "name": "stdout",
     "output_type": "stream",
     "text": [
      "test y shape : (17520, 1)\n",
      "Inv y shape : (17520, 42)\n",
      "y pred shape : (17520, 1)\n",
      "inv y pred : (17520, 42)\n",
      "Run 10 Mean Absolute Error: 123.85668\n",
      "starting df shape: (87600, 37)\n",
      "This is training run 1 and has the shape:  (87600, 37)\n",
      "The value of dropped columns is 60\n"
     ]
    },
    {
     "name": "stderr",
     "output_type": "stream",
     "text": [
      "/Users/alexellard/opt/anaconda3/lib/python3.7/site-packages/xgboost/data.py:96: UserWarning: Use subset (sliced data) of np.ndarray is not recommended because it will generate extra copies and increase memory consumption\n",
      "  \"because it will generate extra copies and increase \" +\n"
     ]
    },
    {
     "name": "stdout",
     "output_type": "stream",
     "text": [
      "test y shape : (17520, 1)\n",
      "Inv y shape : (17520, 37)\n",
      "y pred shape : (17520, 1)\n",
      "inv y pred : (17520, 37)\n",
      "Run 1 Mean Absolute Error: 10.537897\n",
      "starting df shape: (87600, 36)\n",
      "This is training run 2 and has the shape:  (87600, 36)\n",
      "The value of dropped columns is 60\n"
     ]
    },
    {
     "name": "stderr",
     "output_type": "stream",
     "text": [
      "/Users/alexellard/opt/anaconda3/lib/python3.7/site-packages/xgboost/data.py:96: UserWarning: Use subset (sliced data) of np.ndarray is not recommended because it will generate extra copies and increase memory consumption\n",
      "  \"because it will generate extra copies and increase \" +\n"
     ]
    },
    {
     "name": "stdout",
     "output_type": "stream",
     "text": [
      "test y shape : (17520, 1)\n",
      "Inv y shape : (17520, 36)\n",
      "y pred shape : (17520, 1)\n",
      "inv y pred : (17520, 36)\n",
      "Run 2 Mean Absolute Error: 0.45534742\n",
      "starting df shape: (87600, 36)\n",
      "This is training run 3 and has the shape:  (87600, 36)\n",
      "The value of dropped columns is 60\n"
     ]
    },
    {
     "name": "stderr",
     "output_type": "stream",
     "text": [
      "/Users/alexellard/opt/anaconda3/lib/python3.7/site-packages/xgboost/data.py:96: UserWarning: Use subset (sliced data) of np.ndarray is not recommended because it will generate extra copies and increase memory consumption\n",
      "  \"because it will generate extra copies and increase \" +\n"
     ]
    },
    {
     "name": "stdout",
     "output_type": "stream",
     "text": [
      "test y shape : (17520, 1)\n",
      "Inv y shape : (17520, 36)\n",
      "y pred shape : (17520, 1)\n",
      "inv y pred : (17520, 36)\n",
      "Run 3 Mean Absolute Error: 183.94502\n",
      "starting df shape: (87600, 37)\n",
      "This is training run 4 and has the shape:  (87600, 37)\n",
      "The value of dropped columns is 60\n"
     ]
    },
    {
     "name": "stderr",
     "output_type": "stream",
     "text": [
      "/Users/alexellard/opt/anaconda3/lib/python3.7/site-packages/xgboost/data.py:96: UserWarning: Use subset (sliced data) of np.ndarray is not recommended because it will generate extra copies and increase memory consumption\n",
      "  \"because it will generate extra copies and increase \" +\n"
     ]
    },
    {
     "name": "stdout",
     "output_type": "stream",
     "text": [
      "test y shape : (17520, 1)\n",
      "Inv y shape : (17520, 37)\n",
      "y pred shape : (17520, 1)\n",
      "inv y pred : (17520, 37)\n",
      "Run 4 Mean Absolute Error: 47.397102\n",
      "starting df shape: (87600, 37)\n",
      "This is training run 5 and has the shape:  (87600, 37)\n",
      "The value of dropped columns is 60\n"
     ]
    },
    {
     "name": "stderr",
     "output_type": "stream",
     "text": [
      "/Users/alexellard/opt/anaconda3/lib/python3.7/site-packages/xgboost/data.py:96: UserWarning: Use subset (sliced data) of np.ndarray is not recommended because it will generate extra copies and increase memory consumption\n",
      "  \"because it will generate extra copies and increase \" +\n"
     ]
    },
    {
     "name": "stdout",
     "output_type": "stream",
     "text": [
      "test y shape : (17520, 1)\n",
      "Inv y shape : (17520, 37)\n",
      "y pred shape : (17520, 1)\n",
      "inv y pred : (17520, 37)\n",
      "Run 5 Mean Absolute Error: 9.455579\n",
      "starting df shape: (87600, 37)\n",
      "This is training run 6 and has the shape:  (87600, 37)\n",
      "The value of dropped columns is 60\n"
     ]
    },
    {
     "name": "stderr",
     "output_type": "stream",
     "text": [
      "/Users/alexellard/opt/anaconda3/lib/python3.7/site-packages/xgboost/data.py:96: UserWarning: Use subset (sliced data) of np.ndarray is not recommended because it will generate extra copies and increase memory consumption\n",
      "  \"because it will generate extra copies and increase \" +\n"
     ]
    },
    {
     "name": "stdout",
     "output_type": "stream",
     "text": [
      "test y shape : (17520, 1)\n",
      "Inv y shape : (17520, 37)\n",
      "y pred shape : (17520, 1)\n",
      "inv y pred : (17520, 37)\n",
      "Run 6 Mean Absolute Error: 124.26945\n",
      "starting df shape: (87600, 36)\n",
      "This is training run 7 and has the shape:  (87600, 36)\n",
      "The value of dropped columns is 60\n"
     ]
    },
    {
     "name": "stderr",
     "output_type": "stream",
     "text": [
      "/Users/alexellard/opt/anaconda3/lib/python3.7/site-packages/xgboost/data.py:96: UserWarning: Use subset (sliced data) of np.ndarray is not recommended because it will generate extra copies and increase memory consumption\n",
      "  \"because it will generate extra copies and increase \" +\n"
     ]
    },
    {
     "name": "stdout",
     "output_type": "stream",
     "text": [
      "test y shape : (17520, 1)\n",
      "Inv y shape : (17520, 36)\n",
      "y pred shape : (17520, 1)\n",
      "inv y pred : (17520, 36)\n",
      "Run 7 Mean Absolute Error: 0.46328583\n",
      "starting df shape: (87600, 37)\n",
      "This is training run 8 and has the shape:  (87600, 37)\n",
      "The value of dropped columns is 60\n"
     ]
    },
    {
     "name": "stderr",
     "output_type": "stream",
     "text": [
      "/Users/alexellard/opt/anaconda3/lib/python3.7/site-packages/xgboost/data.py:96: UserWarning: Use subset (sliced data) of np.ndarray is not recommended because it will generate extra copies and increase memory consumption\n",
      "  \"because it will generate extra copies and increase \" +\n"
     ]
    },
    {
     "name": "stdout",
     "output_type": "stream",
     "text": [
      "test y shape : (17520, 1)\n",
      "Inv y shape : (17520, 37)\n",
      "y pred shape : (17520, 1)\n",
      "inv y pred : (17520, 37)\n",
      "Run 8 Mean Absolute Error: 7.0668435\n",
      "starting df shape: (87600, 37)\n",
      "This is training run 9 and has the shape:  (87600, 37)\n",
      "The value of dropped columns is 60\n"
     ]
    },
    {
     "name": "stderr",
     "output_type": "stream",
     "text": [
      "/Users/alexellard/opt/anaconda3/lib/python3.7/site-packages/xgboost/data.py:96: UserWarning: Use subset (sliced data) of np.ndarray is not recommended because it will generate extra copies and increase memory consumption\n",
      "  \"because it will generate extra copies and increase \" +\n"
     ]
    },
    {
     "name": "stdout",
     "output_type": "stream",
     "text": [
      "test y shape : (17520, 1)\n",
      "Inv y shape : (17520, 37)\n",
      "y pred shape : (17520, 1)\n",
      "inv y pred : (17520, 37)\n",
      "Run 9 Mean Absolute Error: 6.494367\n",
      "starting df shape: (87600, 37)\n",
      "This is training run 10 and has the shape:  (87600, 37)\n",
      "The value of dropped columns is 60\n"
     ]
    },
    {
     "name": "stderr",
     "output_type": "stream",
     "text": [
      "/Users/alexellard/opt/anaconda3/lib/python3.7/site-packages/xgboost/data.py:96: UserWarning: Use subset (sliced data) of np.ndarray is not recommended because it will generate extra copies and increase memory consumption\n",
      "  \"because it will generate extra copies and increase \" +\n"
     ]
    },
    {
     "name": "stdout",
     "output_type": "stream",
     "text": [
      "test y shape : (17520, 1)\n",
      "Inv y shape : (17520, 37)\n",
      "y pred shape : (17520, 1)\n",
      "inv y pred : (17520, 37)\n",
      "Run 10 Mean Absolute Error: 166.09741\n",
      "starting df shape: (87600, 32)\n",
      "This is training run 1 and has the shape:  (87600, 32)\n",
      "The value of dropped columns is 65\n"
     ]
    },
    {
     "name": "stderr",
     "output_type": "stream",
     "text": [
      "/Users/alexellard/opt/anaconda3/lib/python3.7/site-packages/xgboost/data.py:96: UserWarning: Use subset (sliced data) of np.ndarray is not recommended because it will generate extra copies and increase memory consumption\n",
      "  \"because it will generate extra copies and increase \" +\n"
     ]
    },
    {
     "name": "stdout",
     "output_type": "stream",
     "text": [
      "test y shape : (17520, 1)\n",
      "Inv y shape : (17520, 32)\n",
      "y pred shape : (17520, 1)\n",
      "inv y pred : (17520, 32)\n",
      "Run 1 Mean Absolute Error: 11.917764\n",
      "starting df shape: (87600, 31)\n",
      "This is training run 2 and has the shape:  (87600, 31)\n",
      "The value of dropped columns is 65\n"
     ]
    },
    {
     "name": "stderr",
     "output_type": "stream",
     "text": [
      "/Users/alexellard/opt/anaconda3/lib/python3.7/site-packages/xgboost/data.py:96: UserWarning: Use subset (sliced data) of np.ndarray is not recommended because it will generate extra copies and increase memory consumption\n",
      "  \"because it will generate extra copies and increase \" +\n"
     ]
    },
    {
     "name": "stdout",
     "output_type": "stream",
     "text": [
      "test y shape : (17520, 1)\n",
      "Inv y shape : (17520, 31)\n",
      "y pred shape : (17520, 1)\n",
      "inv y pred : (17520, 31)\n",
      "Run 2 Mean Absolute Error: 11.929663\n",
      "starting df shape: (87600, 32)\n",
      "This is training run 3 and has the shape:  (87600, 32)\n",
      "The value of dropped columns is 65\n"
     ]
    },
    {
     "name": "stderr",
     "output_type": "stream",
     "text": [
      "/Users/alexellard/opt/anaconda3/lib/python3.7/site-packages/xgboost/data.py:96: UserWarning: Use subset (sliced data) of np.ndarray is not recommended because it will generate extra copies and increase memory consumption\n",
      "  \"because it will generate extra copies and increase \" +\n"
     ]
    },
    {
     "name": "stdout",
     "output_type": "stream",
     "text": [
      "test y shape : (17520, 1)\n",
      "Inv y shape : (17520, 32)\n",
      "y pred shape : (17520, 1)\n",
      "inv y pred : (17520, 32)\n",
      "Run 3 Mean Absolute Error: 185.71936\n",
      "starting df shape: (87600, 32)\n",
      "This is training run 4 and has the shape:  (87600, 32)\n",
      "The value of dropped columns is 65\n"
     ]
    },
    {
     "name": "stderr",
     "output_type": "stream",
     "text": [
      "/Users/alexellard/opt/anaconda3/lib/python3.7/site-packages/xgboost/data.py:96: UserWarning: Use subset (sliced data) of np.ndarray is not recommended because it will generate extra copies and increase memory consumption\n",
      "  \"because it will generate extra copies and increase \" +\n"
     ]
    },
    {
     "name": "stdout",
     "output_type": "stream",
     "text": [
      "test y shape : (17520, 1)\n",
      "Inv y shape : (17520, 32)\n",
      "y pred shape : (17520, 1)\n",
      "inv y pred : (17520, 32)\n",
      "Run 4 Mean Absolute Error: 7.4022937\n",
      "starting df shape: (87600, 31)\n",
      "This is training run 5 and has the shape:  (87600, 31)\n",
      "The value of dropped columns is 65\n"
     ]
    },
    {
     "name": "stderr",
     "output_type": "stream",
     "text": [
      "/Users/alexellard/opt/anaconda3/lib/python3.7/site-packages/xgboost/data.py:96: UserWarning: Use subset (sliced data) of np.ndarray is not recommended because it will generate extra copies and increase memory consumption\n",
      "  \"because it will generate extra copies and increase \" +\n"
     ]
    },
    {
     "name": "stdout",
     "output_type": "stream",
     "text": [
      "test y shape : (17520, 1)\n",
      "Inv y shape : (17520, 31)\n",
      "y pred shape : (17520, 1)\n",
      "inv y pred : (17520, 31)\n",
      "Run 5 Mean Absolute Error: 131.72552\n",
      "starting df shape: (87600, 32)\n",
      "This is training run 6 and has the shape:  (87600, 32)\n",
      "The value of dropped columns is 65\n"
     ]
    },
    {
     "name": "stderr",
     "output_type": "stream",
     "text": [
      "/Users/alexellard/opt/anaconda3/lib/python3.7/site-packages/xgboost/data.py:96: UserWarning: Use subset (sliced data) of np.ndarray is not recommended because it will generate extra copies and increase memory consumption\n",
      "  \"because it will generate extra copies and increase \" +\n"
     ]
    },
    {
     "name": "stdout",
     "output_type": "stream",
     "text": [
      "test y shape : (17520, 1)\n",
      "Inv y shape : (17520, 32)\n",
      "y pred shape : (17520, 1)\n",
      "inv y pred : (17520, 32)\n",
      "Run 6 Mean Absolute Error: 9.723414\n",
      "starting df shape: (87600, 32)\n",
      "This is training run 7 and has the shape:  (87600, 32)\n",
      "The value of dropped columns is 65\n"
     ]
    },
    {
     "name": "stderr",
     "output_type": "stream",
     "text": [
      "/Users/alexellard/opt/anaconda3/lib/python3.7/site-packages/xgboost/data.py:96: UserWarning: Use subset (sliced data) of np.ndarray is not recommended because it will generate extra copies and increase memory consumption\n",
      "  \"because it will generate extra copies and increase \" +\n"
     ]
    },
    {
     "name": "stdout",
     "output_type": "stream",
     "text": [
      "test y shape : (17520, 1)\n",
      "Inv y shape : (17520, 32)\n",
      "y pred shape : (17520, 1)\n",
      "inv y pred : (17520, 32)\n",
      "Run 7 Mean Absolute Error: 8.913764\n",
      "starting df shape: (87600, 31)\n",
      "This is training run 8 and has the shape:  (87600, 31)\n",
      "The value of dropped columns is 65\n"
     ]
    },
    {
     "name": "stderr",
     "output_type": "stream",
     "text": [
      "/Users/alexellard/opt/anaconda3/lib/python3.7/site-packages/xgboost/data.py:96: UserWarning: Use subset (sliced data) of np.ndarray is not recommended because it will generate extra copies and increase memory consumption\n",
      "  \"because it will generate extra copies and increase \" +\n"
     ]
    },
    {
     "name": "stdout",
     "output_type": "stream",
     "text": [
      "test y shape : (17520, 1)\n",
      "Inv y shape : (17520, 31)\n",
      "y pred shape : (17520, 1)\n",
      "inv y pred : (17520, 31)\n",
      "Run 8 Mean Absolute Error: 8.624445\n",
      "starting df shape: (87600, 32)\n",
      "This is training run 9 and has the shape:  (87600, 32)\n",
      "The value of dropped columns is 65\n"
     ]
    },
    {
     "name": "stderr",
     "output_type": "stream",
     "text": [
      "/Users/alexellard/opt/anaconda3/lib/python3.7/site-packages/xgboost/data.py:96: UserWarning: Use subset (sliced data) of np.ndarray is not recommended because it will generate extra copies and increase memory consumption\n",
      "  \"because it will generate extra copies and increase \" +\n"
     ]
    },
    {
     "name": "stdout",
     "output_type": "stream",
     "text": [
      "test y shape : (17520, 1)\n",
      "Inv y shape : (17520, 32)\n",
      "y pred shape : (17520, 1)\n",
      "inv y pred : (17520, 32)\n",
      "Run 9 Mean Absolute Error: 156.38832\n",
      "starting df shape: (87600, 32)\n",
      "This is training run 10 and has the shape:  (87600, 32)\n",
      "The value of dropped columns is 65\n"
     ]
    },
    {
     "name": "stderr",
     "output_type": "stream",
     "text": [
      "/Users/alexellard/opt/anaconda3/lib/python3.7/site-packages/xgboost/data.py:96: UserWarning: Use subset (sliced data) of np.ndarray is not recommended because it will generate extra copies and increase memory consumption\n",
      "  \"because it will generate extra copies and increase \" +\n"
     ]
    },
    {
     "name": "stdout",
     "output_type": "stream",
     "text": [
      "test y shape : (17520, 1)\n",
      "Inv y shape : (17520, 32)\n",
      "y pred shape : (17520, 1)\n",
      "inv y pred : (17520, 32)\n",
      "Run 10 Mean Absolute Error: 0.42308858\n",
      "starting df shape: (87600, 27)\n",
      "This is training run 1 and has the shape:  (87600, 27)\n",
      "The value of dropped columns is 70\n"
     ]
    },
    {
     "name": "stderr",
     "output_type": "stream",
     "text": [
      "/Users/alexellard/opt/anaconda3/lib/python3.7/site-packages/xgboost/data.py:96: UserWarning: Use subset (sliced data) of np.ndarray is not recommended because it will generate extra copies and increase memory consumption\n",
      "  \"because it will generate extra copies and increase \" +\n"
     ]
    },
    {
     "name": "stdout",
     "output_type": "stream",
     "text": [
      "test y shape : (17520, 1)\n",
      "Inv y shape : (17520, 27)\n",
      "y pred shape : (17520, 1)\n",
      "inv y pred : (17520, 27)\n",
      "Run 1 Mean Absolute Error: 47.502106\n",
      "starting df shape: (87600, 27)\n",
      "This is training run 2 and has the shape:  (87600, 27)\n",
      "The value of dropped columns is 70\n"
     ]
    },
    {
     "name": "stderr",
     "output_type": "stream",
     "text": [
      "/Users/alexellard/opt/anaconda3/lib/python3.7/site-packages/xgboost/data.py:96: UserWarning: Use subset (sliced data) of np.ndarray is not recommended because it will generate extra copies and increase memory consumption\n",
      "  \"because it will generate extra copies and increase \" +\n"
     ]
    },
    {
     "name": "stdout",
     "output_type": "stream",
     "text": [
      "test y shape : (17520, 1)\n",
      "Inv y shape : (17520, 27)\n",
      "y pred shape : (17520, 1)\n",
      "inv y pred : (17520, 27)\n",
      "Run 2 Mean Absolute Error: 8.378943\n",
      "starting df shape: (87600, 26)\n",
      "This is training run 3 and has the shape:  (87600, 26)\n",
      "The value of dropped columns is 70\n"
     ]
    },
    {
     "name": "stderr",
     "output_type": "stream",
     "text": [
      "/Users/alexellard/opt/anaconda3/lib/python3.7/site-packages/xgboost/data.py:96: UserWarning: Use subset (sliced data) of np.ndarray is not recommended because it will generate extra copies and increase memory consumption\n",
      "  \"because it will generate extra copies and increase \" +\n"
     ]
    },
    {
     "name": "stdout",
     "output_type": "stream",
     "text": [
      "test y shape : (17520, 1)\n",
      "Inv y shape : (17520, 26)\n",
      "y pred shape : (17520, 1)\n",
      "inv y pred : (17520, 26)\n",
      "Run 3 Mean Absolute Error: 3.8524458\n",
      "starting df shape: (87600, 27)\n",
      "This is training run 4 and has the shape:  (87600, 27)\n",
      "The value of dropped columns is 70\n"
     ]
    },
    {
     "name": "stderr",
     "output_type": "stream",
     "text": [
      "/Users/alexellard/opt/anaconda3/lib/python3.7/site-packages/xgboost/data.py:96: UserWarning: Use subset (sliced data) of np.ndarray is not recommended because it will generate extra copies and increase memory consumption\n",
      "  \"because it will generate extra copies and increase \" +\n"
     ]
    },
    {
     "name": "stdout",
     "output_type": "stream",
     "text": [
      "test y shape : (17520, 1)\n",
      "Inv y shape : (17520, 27)\n",
      "y pred shape : (17520, 1)\n",
      "inv y pred : (17520, 27)\n",
      "Run 4 Mean Absolute Error: 6.4669523\n",
      "starting df shape: (87600, 27)\n",
      "This is training run 5 and has the shape:  (87600, 27)\n",
      "The value of dropped columns is 70\n"
     ]
    },
    {
     "name": "stderr",
     "output_type": "stream",
     "text": [
      "/Users/alexellard/opt/anaconda3/lib/python3.7/site-packages/xgboost/data.py:96: UserWarning: Use subset (sliced data) of np.ndarray is not recommended because it will generate extra copies and increase memory consumption\n",
      "  \"because it will generate extra copies and increase \" +\n"
     ]
    },
    {
     "name": "stdout",
     "output_type": "stream",
     "text": [
      "test y shape : (17520, 1)\n",
      "Inv y shape : (17520, 27)\n",
      "y pred shape : (17520, 1)\n",
      "inv y pred : (17520, 27)\n",
      "Run 5 Mean Absolute Error: 1.4596665\n",
      "starting df shape: (87600, 27)\n",
      "This is training run 6 and has the shape:  (87600, 27)\n",
      "The value of dropped columns is 70\n"
     ]
    },
    {
     "name": "stderr",
     "output_type": "stream",
     "text": [
      "/Users/alexellard/opt/anaconda3/lib/python3.7/site-packages/xgboost/data.py:96: UserWarning: Use subset (sliced data) of np.ndarray is not recommended because it will generate extra copies and increase memory consumption\n",
      "  \"because it will generate extra copies and increase \" +\n"
     ]
    },
    {
     "name": "stdout",
     "output_type": "stream",
     "text": [
      "test y shape : (17520, 1)\n",
      "Inv y shape : (17520, 27)\n",
      "y pred shape : (17520, 1)\n",
      "inv y pred : (17520, 27)\n",
      "Run 6 Mean Absolute Error: 3.91947\n",
      "starting df shape: (87600, 26)\n",
      "This is training run 7 and has the shape:  (87600, 26)\n",
      "The value of dropped columns is 70\n"
     ]
    },
    {
     "name": "stderr",
     "output_type": "stream",
     "text": [
      "/Users/alexellard/opt/anaconda3/lib/python3.7/site-packages/xgboost/data.py:96: UserWarning: Use subset (sliced data) of np.ndarray is not recommended because it will generate extra copies and increase memory consumption\n",
      "  \"because it will generate extra copies and increase \" +\n"
     ]
    },
    {
     "name": "stdout",
     "output_type": "stream",
     "text": [
      "test y shape : (17520, 1)\n",
      "Inv y shape : (17520, 26)\n",
      "y pred shape : (17520, 1)\n",
      "inv y pred : (17520, 26)\n",
      "Run 7 Mean Absolute Error: 11.592557\n",
      "starting df shape: (87600, 27)\n",
      "This is training run 8 and has the shape:  (87600, 27)\n",
      "The value of dropped columns is 70\n"
     ]
    },
    {
     "name": "stderr",
     "output_type": "stream",
     "text": [
      "/Users/alexellard/opt/anaconda3/lib/python3.7/site-packages/xgboost/data.py:96: UserWarning: Use subset (sliced data) of np.ndarray is not recommended because it will generate extra copies and increase memory consumption\n",
      "  \"because it will generate extra copies and increase \" +\n"
     ]
    },
    {
     "name": "stdout",
     "output_type": "stream",
     "text": [
      "test y shape : (17520, 1)\n",
      "Inv y shape : (17520, 27)\n",
      "y pred shape : (17520, 1)\n",
      "inv y pred : (17520, 27)\n",
      "Run 8 Mean Absolute Error: 1.6232865\n",
      "starting df shape: (87600, 27)\n",
      "This is training run 9 and has the shape:  (87600, 27)\n",
      "The value of dropped columns is 70\n"
     ]
    },
    {
     "name": "stderr",
     "output_type": "stream",
     "text": [
      "/Users/alexellard/opt/anaconda3/lib/python3.7/site-packages/xgboost/data.py:96: UserWarning: Use subset (sliced data) of np.ndarray is not recommended because it will generate extra copies and increase memory consumption\n",
      "  \"because it will generate extra copies and increase \" +\n"
     ]
    },
    {
     "name": "stdout",
     "output_type": "stream",
     "text": [
      "test y shape : (17520, 1)\n",
      "Inv y shape : (17520, 27)\n",
      "y pred shape : (17520, 1)\n",
      "inv y pred : (17520, 27)\n",
      "Run 9 Mean Absolute Error: 8.758006\n",
      "starting df shape: (87600, 27)\n",
      "This is training run 10 and has the shape:  (87600, 27)\n",
      "The value of dropped columns is 70\n"
     ]
    },
    {
     "name": "stderr",
     "output_type": "stream",
     "text": [
      "/Users/alexellard/opt/anaconda3/lib/python3.7/site-packages/xgboost/data.py:96: UserWarning: Use subset (sliced data) of np.ndarray is not recommended because it will generate extra copies and increase memory consumption\n",
      "  \"because it will generate extra copies and increase \" +\n"
     ]
    },
    {
     "name": "stdout",
     "output_type": "stream",
     "text": [
      "test y shape : (17520, 1)\n",
      "Inv y shape : (17520, 27)\n",
      "y pred shape : (17520, 1)\n",
      "inv y pred : (17520, 27)\n",
      "Run 10 Mean Absolute Error: 10.345763\n",
      "starting df shape: (87600, 22)\n",
      "This is training run 1 and has the shape:  (87600, 22)\n",
      "The value of dropped columns is 75\n"
     ]
    },
    {
     "name": "stderr",
     "output_type": "stream",
     "text": [
      "/Users/alexellard/opt/anaconda3/lib/python3.7/site-packages/xgboost/data.py:96: UserWarning: Use subset (sliced data) of np.ndarray is not recommended because it will generate extra copies and increase memory consumption\n",
      "  \"because it will generate extra copies and increase \" +\n"
     ]
    },
    {
     "name": "stdout",
     "output_type": "stream",
     "text": [
      "test y shape : (17520, 1)\n",
      "Inv y shape : (17520, 22)\n",
      "y pred shape : (17520, 1)\n",
      "inv y pred : (17520, 22)\n",
      "Run 1 Mean Absolute Error: 1.4301028\n",
      "starting df shape: (87600, 21)\n",
      "This is training run 2 and has the shape:  (87600, 21)\n",
      "The value of dropped columns is 75\n"
     ]
    },
    {
     "name": "stderr",
     "output_type": "stream",
     "text": [
      "/Users/alexellard/opt/anaconda3/lib/python3.7/site-packages/xgboost/data.py:96: UserWarning: Use subset (sliced data) of np.ndarray is not recommended because it will generate extra copies and increase memory consumption\n",
      "  \"because it will generate extra copies and increase \" +\n"
     ]
    },
    {
     "name": "stdout",
     "output_type": "stream",
     "text": [
      "test y shape : (17520, 1)\n",
      "Inv y shape : (17520, 21)\n",
      "y pred shape : (17520, 1)\n",
      "inv y pred : (17520, 21)\n",
      "Run 2 Mean Absolute Error: 3.5821035\n",
      "starting df shape: (87600, 22)\n",
      "This is training run 3 and has the shape:  (87600, 22)\n",
      "The value of dropped columns is 75\n"
     ]
    },
    {
     "name": "stderr",
     "output_type": "stream",
     "text": [
      "/Users/alexellard/opt/anaconda3/lib/python3.7/site-packages/xgboost/data.py:96: UserWarning: Use subset (sliced data) of np.ndarray is not recommended because it will generate extra copies and increase memory consumption\n",
      "  \"because it will generate extra copies and increase \" +\n"
     ]
    },
    {
     "name": "stdout",
     "output_type": "stream",
     "text": [
      "test y shape : (17520, 1)\n",
      "Inv y shape : (17520, 22)\n",
      "y pred shape : (17520, 1)\n",
      "inv y pred : (17520, 22)\n",
      "Run 3 Mean Absolute Error: 5.552227\n",
      "starting df shape: (87600, 22)\n",
      "This is training run 4 and has the shape:  (87600, 22)\n",
      "The value of dropped columns is 75\n"
     ]
    },
    {
     "name": "stderr",
     "output_type": "stream",
     "text": [
      "/Users/alexellard/opt/anaconda3/lib/python3.7/site-packages/xgboost/data.py:96: UserWarning: Use subset (sliced data) of np.ndarray is not recommended because it will generate extra copies and increase memory consumption\n",
      "  \"because it will generate extra copies and increase \" +\n"
     ]
    },
    {
     "name": "stdout",
     "output_type": "stream",
     "text": [
      "test y shape : (17520, 1)\n",
      "Inv y shape : (17520, 22)\n",
      "y pred shape : (17520, 1)\n",
      "inv y pred : (17520, 22)\n",
      "Run 4 Mean Absolute Error: 8.302045\n",
      "starting df shape: (87600, 22)\n",
      "This is training run 5 and has the shape:  (87600, 22)\n",
      "The value of dropped columns is 75\n"
     ]
    },
    {
     "name": "stderr",
     "output_type": "stream",
     "text": [
      "/Users/alexellard/opt/anaconda3/lib/python3.7/site-packages/xgboost/data.py:96: UserWarning: Use subset (sliced data) of np.ndarray is not recommended because it will generate extra copies and increase memory consumption\n",
      "  \"because it will generate extra copies and increase \" +\n"
     ]
    },
    {
     "name": "stdout",
     "output_type": "stream",
     "text": [
      "test y shape : (17520, 1)\n",
      "Inv y shape : (17520, 22)\n",
      "y pred shape : (17520, 1)\n",
      "inv y pred : (17520, 22)\n",
      "Run 5 Mean Absolute Error: 2.755289\n",
      "starting df shape: (87600, 22)\n",
      "This is training run 6 and has the shape:  (87600, 22)\n",
      "The value of dropped columns is 75\n"
     ]
    },
    {
     "name": "stderr",
     "output_type": "stream",
     "text": [
      "/Users/alexellard/opt/anaconda3/lib/python3.7/site-packages/xgboost/data.py:96: UserWarning: Use subset (sliced data) of np.ndarray is not recommended because it will generate extra copies and increase memory consumption\n",
      "  \"because it will generate extra copies and increase \" +\n"
     ]
    },
    {
     "name": "stdout",
     "output_type": "stream",
     "text": [
      "test y shape : (17520, 1)\n",
      "Inv y shape : (17520, 22)\n",
      "y pred shape : (17520, 1)\n",
      "inv y pred : (17520, 22)\n",
      "Run 6 Mean Absolute Error: 11.990716\n",
      "starting df shape: (87600, 22)\n",
      "This is training run 7 and has the shape:  (87600, 22)\n",
      "The value of dropped columns is 75\n"
     ]
    },
    {
     "name": "stderr",
     "output_type": "stream",
     "text": [
      "/Users/alexellard/opt/anaconda3/lib/python3.7/site-packages/xgboost/data.py:96: UserWarning: Use subset (sliced data) of np.ndarray is not recommended because it will generate extra copies and increase memory consumption\n",
      "  \"because it will generate extra copies and increase \" +\n"
     ]
    },
    {
     "name": "stdout",
     "output_type": "stream",
     "text": [
      "test y shape : (17520, 1)\n",
      "Inv y shape : (17520, 22)\n",
      "y pred shape : (17520, 1)\n",
      "inv y pred : (17520, 22)\n",
      "Run 7 Mean Absolute Error: 7.1026382\n",
      "starting df shape: (87600, 21)\n",
      "This is training run 8 and has the shape:  (87600, 21)\n",
      "The value of dropped columns is 75\n"
     ]
    },
    {
     "name": "stderr",
     "output_type": "stream",
     "text": [
      "/Users/alexellard/opt/anaconda3/lib/python3.7/site-packages/xgboost/data.py:96: UserWarning: Use subset (sliced data) of np.ndarray is not recommended because it will generate extra copies and increase memory consumption\n",
      "  \"because it will generate extra copies and increase \" +\n"
     ]
    },
    {
     "name": "stdout",
     "output_type": "stream",
     "text": [
      "test y shape : (17520, 1)\n",
      "Inv y shape : (17520, 21)\n",
      "y pred shape : (17520, 1)\n",
      "inv y pred : (17520, 21)\n",
      "Run 8 Mean Absolute Error: 165.18848\n",
      "starting df shape: (87600, 22)\n",
      "This is training run 9 and has the shape:  (87600, 22)\n",
      "The value of dropped columns is 75\n"
     ]
    },
    {
     "name": "stderr",
     "output_type": "stream",
     "text": [
      "/Users/alexellard/opt/anaconda3/lib/python3.7/site-packages/xgboost/data.py:96: UserWarning: Use subset (sliced data) of np.ndarray is not recommended because it will generate extra copies and increase memory consumption\n",
      "  \"because it will generate extra copies and increase \" +\n"
     ]
    },
    {
     "name": "stdout",
     "output_type": "stream",
     "text": [
      "test y shape : (17520, 1)\n",
      "Inv y shape : (17520, 22)\n",
      "y pred shape : (17520, 1)\n",
      "inv y pred : (17520, 22)\n",
      "Run 9 Mean Absolute Error: 1.7818407\n",
      "starting df shape: (87600, 22)\n",
      "This is training run 10 and has the shape:  (87600, 22)\n",
      "The value of dropped columns is 75\n"
     ]
    },
    {
     "name": "stderr",
     "output_type": "stream",
     "text": [
      "/Users/alexellard/opt/anaconda3/lib/python3.7/site-packages/xgboost/data.py:96: UserWarning: Use subset (sliced data) of np.ndarray is not recommended because it will generate extra copies and increase memory consumption\n",
      "  \"because it will generate extra copies and increase \" +\n"
     ]
    },
    {
     "name": "stdout",
     "output_type": "stream",
     "text": [
      "test y shape : (17520, 1)\n",
      "Inv y shape : (17520, 22)\n",
      "y pred shape : (17520, 1)\n",
      "inv y pred : (17520, 22)\n",
      "Run 10 Mean Absolute Error: 11.970348\n",
      "starting df shape: (87600, 17)\n",
      "This is training run 1 and has the shape:  (87600, 17)\n",
      "The value of dropped columns is 80\n"
     ]
    },
    {
     "name": "stderr",
     "output_type": "stream",
     "text": [
      "/Users/alexellard/opt/anaconda3/lib/python3.7/site-packages/xgboost/data.py:96: UserWarning: Use subset (sliced data) of np.ndarray is not recommended because it will generate extra copies and increase memory consumption\n",
      "  \"because it will generate extra copies and increase \" +\n"
     ]
    },
    {
     "name": "stdout",
     "output_type": "stream",
     "text": [
      "test y shape : (17520, 1)\n",
      "Inv y shape : (17520, 17)\n",
      "y pred shape : (17520, 1)\n",
      "inv y pred : (17520, 17)\n",
      "Run 1 Mean Absolute Error: 1.240357\n",
      "starting df shape: (87600, 17)\n",
      "This is training run 2 and has the shape:  (87600, 17)\n",
      "The value of dropped columns is 80\n"
     ]
    },
    {
     "name": "stderr",
     "output_type": "stream",
     "text": [
      "/Users/alexellard/opt/anaconda3/lib/python3.7/site-packages/xgboost/data.py:96: UserWarning: Use subset (sliced data) of np.ndarray is not recommended because it will generate extra copies and increase memory consumption\n",
      "  \"because it will generate extra copies and increase \" +\n"
     ]
    },
    {
     "name": "stdout",
     "output_type": "stream",
     "text": [
      "test y shape : (17520, 1)\n",
      "Inv y shape : (17520, 17)\n",
      "y pred shape : (17520, 1)\n",
      "inv y pred : (17520, 17)\n",
      "Run 2 Mean Absolute Error: 11.254494\n",
      "starting df shape: (87600, 16)\n",
      "This is training run 3 and has the shape:  (87600, 16)\n",
      "The value of dropped columns is 80\n"
     ]
    },
    {
     "name": "stderr",
     "output_type": "stream",
     "text": [
      "/Users/alexellard/opt/anaconda3/lib/python3.7/site-packages/xgboost/data.py:96: UserWarning: Use subset (sliced data) of np.ndarray is not recommended because it will generate extra copies and increase memory consumption\n",
      "  \"because it will generate extra copies and increase \" +\n"
     ]
    },
    {
     "name": "stdout",
     "output_type": "stream",
     "text": [
      "test y shape : (17520, 1)\n",
      "Inv y shape : (17520, 16)\n",
      "y pred shape : (17520, 1)\n",
      "inv y pred : (17520, 16)\n",
      "Run 3 Mean Absolute Error: 5.39267\n",
      "starting df shape: (87600, 16)\n",
      "This is training run 4 and has the shape:  (87600, 16)\n",
      "The value of dropped columns is 80\n"
     ]
    },
    {
     "name": "stderr",
     "output_type": "stream",
     "text": [
      "/Users/alexellard/opt/anaconda3/lib/python3.7/site-packages/xgboost/data.py:96: UserWarning: Use subset (sliced data) of np.ndarray is not recommended because it will generate extra copies and increase memory consumption\n",
      "  \"because it will generate extra copies and increase \" +\n"
     ]
    },
    {
     "name": "stdout",
     "output_type": "stream",
     "text": [
      "test y shape : (17520, 1)\n",
      "Inv y shape : (17520, 16)\n",
      "y pred shape : (17520, 1)\n",
      "inv y pred : (17520, 16)\n",
      "Run 4 Mean Absolute Error: 17.487785\n",
      "starting df shape: (87600, 17)\n",
      "This is training run 5 and has the shape:  (87600, 17)\n",
      "The value of dropped columns is 80\n"
     ]
    },
    {
     "name": "stderr",
     "output_type": "stream",
     "text": [
      "/Users/alexellard/opt/anaconda3/lib/python3.7/site-packages/xgboost/data.py:96: UserWarning: Use subset (sliced data) of np.ndarray is not recommended because it will generate extra copies and increase memory consumption\n",
      "  \"because it will generate extra copies and increase \" +\n"
     ]
    },
    {
     "name": "stdout",
     "output_type": "stream",
     "text": [
      "test y shape : (17520, 1)\n",
      "Inv y shape : (17520, 17)\n",
      "y pred shape : (17520, 1)\n",
      "inv y pred : (17520, 17)\n",
      "Run 5 Mean Absolute Error: 5.6592703\n",
      "starting df shape: (87600, 17)\n",
      "This is training run 6 and has the shape:  (87600, 17)\n",
      "The value of dropped columns is 80\n"
     ]
    },
    {
     "name": "stderr",
     "output_type": "stream",
     "text": [
      "/Users/alexellard/opt/anaconda3/lib/python3.7/site-packages/xgboost/data.py:96: UserWarning: Use subset (sliced data) of np.ndarray is not recommended because it will generate extra copies and increase memory consumption\n",
      "  \"because it will generate extra copies and increase \" +\n"
     ]
    },
    {
     "name": "stdout",
     "output_type": "stream",
     "text": [
      "test y shape : (17520, 1)\n",
      "Inv y shape : (17520, 17)\n",
      "y pred shape : (17520, 1)\n",
      "inv y pred : (17520, 17)\n",
      "Run 6 Mean Absolute Error: 176.96542\n",
      "starting df shape: (87600, 16)\n",
      "This is training run 7 and has the shape:  (87600, 16)\n",
      "The value of dropped columns is 80\n"
     ]
    },
    {
     "name": "stderr",
     "output_type": "stream",
     "text": [
      "/Users/alexellard/opt/anaconda3/lib/python3.7/site-packages/xgboost/data.py:96: UserWarning: Use subset (sliced data) of np.ndarray is not recommended because it will generate extra copies and increase memory consumption\n",
      "  \"because it will generate extra copies and increase \" +\n"
     ]
    },
    {
     "name": "stdout",
     "output_type": "stream",
     "text": [
      "test y shape : (17520, 1)\n",
      "Inv y shape : (17520, 16)\n",
      "y pred shape : (17520, 1)\n",
      "inv y pred : (17520, 16)\n",
      "Run 7 Mean Absolute Error: 1.6392695\n",
      "starting df shape: (87600, 17)\n",
      "This is training run 8 and has the shape:  (87600, 17)\n",
      "The value of dropped columns is 80\n"
     ]
    },
    {
     "name": "stderr",
     "output_type": "stream",
     "text": [
      "/Users/alexellard/opt/anaconda3/lib/python3.7/site-packages/xgboost/data.py:96: UserWarning: Use subset (sliced data) of np.ndarray is not recommended because it will generate extra copies and increase memory consumption\n",
      "  \"because it will generate extra copies and increase \" +\n"
     ]
    },
    {
     "name": "stdout",
     "output_type": "stream",
     "text": [
      "test y shape : (17520, 1)\n",
      "Inv y shape : (17520, 17)\n",
      "y pred shape : (17520, 1)\n",
      "inv y pred : (17520, 17)\n",
      "Run 8 Mean Absolute Error: 5.3163695\n",
      "starting df shape: (87600, 17)\n",
      "This is training run 9 and has the shape:  (87600, 17)\n",
      "The value of dropped columns is 80\n"
     ]
    },
    {
     "name": "stderr",
     "output_type": "stream",
     "text": [
      "/Users/alexellard/opt/anaconda3/lib/python3.7/site-packages/xgboost/data.py:96: UserWarning: Use subset (sliced data) of np.ndarray is not recommended because it will generate extra copies and increase memory consumption\n",
      "  \"because it will generate extra copies and increase \" +\n"
     ]
    },
    {
     "name": "stdout",
     "output_type": "stream",
     "text": [
      "test y shape : (17520, 1)\n",
      "Inv y shape : (17520, 17)\n",
      "y pred shape : (17520, 1)\n",
      "inv y pred : (17520, 17)\n",
      "Run 9 Mean Absolute Error: 1.7296301\n",
      "starting df shape: (87600, 17)\n",
      "This is training run 10 and has the shape:  (87600, 17)\n",
      "The value of dropped columns is 80\n"
     ]
    },
    {
     "name": "stderr",
     "output_type": "stream",
     "text": [
      "/Users/alexellard/opt/anaconda3/lib/python3.7/site-packages/xgboost/data.py:96: UserWarning: Use subset (sliced data) of np.ndarray is not recommended because it will generate extra copies and increase memory consumption\n",
      "  \"because it will generate extra copies and increase \" +\n"
     ]
    },
    {
     "name": "stdout",
     "output_type": "stream",
     "text": [
      "test y shape : (17520, 1)\n",
      "Inv y shape : (17520, 17)\n",
      "y pred shape : (17520, 1)\n",
      "inv y pred : (17520, 17)\n",
      "Run 10 Mean Absolute Error: 9.86707\n",
      "starting df shape: (87600, 12)\n",
      "This is training run 1 and has the shape:  (87600, 12)\n",
      "The value of dropped columns is 85\n"
     ]
    },
    {
     "name": "stderr",
     "output_type": "stream",
     "text": [
      "/Users/alexellard/opt/anaconda3/lib/python3.7/site-packages/xgboost/data.py:96: UserWarning: Use subset (sliced data) of np.ndarray is not recommended because it will generate extra copies and increase memory consumption\n",
      "  \"because it will generate extra copies and increase \" +\n"
     ]
    },
    {
     "name": "stdout",
     "output_type": "stream",
     "text": [
      "test y shape : (17520, 1)\n",
      "Inv y shape : (17520, 12)\n",
      "y pred shape : (17520, 1)\n",
      "inv y pred : (17520, 12)\n",
      "Run 1 Mean Absolute Error: 0.5594432\n",
      "starting df shape: (87600, 12)\n",
      "This is training run 2 and has the shape:  (87600, 12)\n",
      "The value of dropped columns is 85\n"
     ]
    },
    {
     "name": "stderr",
     "output_type": "stream",
     "text": [
      "/Users/alexellard/opt/anaconda3/lib/python3.7/site-packages/xgboost/data.py:96: UserWarning: Use subset (sliced data) of np.ndarray is not recommended because it will generate extra copies and increase memory consumption\n",
      "  \"because it will generate extra copies and increase \" +\n"
     ]
    },
    {
     "name": "stdout",
     "output_type": "stream",
     "text": [
      "test y shape : (17520, 1)\n",
      "Inv y shape : (17520, 12)\n",
      "y pred shape : (17520, 1)\n",
      "inv y pred : (17520, 12)\n",
      "Run 2 Mean Absolute Error: 1.2208885\n",
      "starting df shape: (87600, 12)\n",
      "This is training run 3 and has the shape:  (87600, 12)\n",
      "The value of dropped columns is 85\n"
     ]
    },
    {
     "name": "stderr",
     "output_type": "stream",
     "text": [
      "/Users/alexellard/opt/anaconda3/lib/python3.7/site-packages/xgboost/data.py:96: UserWarning: Use subset (sliced data) of np.ndarray is not recommended because it will generate extra copies and increase memory consumption\n",
      "  \"because it will generate extra copies and increase \" +\n"
     ]
    },
    {
     "name": "stdout",
     "output_type": "stream",
     "text": [
      "test y shape : (17520, 1)\n",
      "Inv y shape : (17520, 12)\n",
      "y pred shape : (17520, 1)\n",
      "inv y pred : (17520, 12)\n",
      "Run 3 Mean Absolute Error: 0.49773374\n",
      "starting df shape: (87600, 12)\n",
      "This is training run 4 and has the shape:  (87600, 12)\n",
      "The value of dropped columns is 85\n"
     ]
    },
    {
     "name": "stderr",
     "output_type": "stream",
     "text": [
      "/Users/alexellard/opt/anaconda3/lib/python3.7/site-packages/xgboost/data.py:96: UserWarning: Use subset (sliced data) of np.ndarray is not recommended because it will generate extra copies and increase memory consumption\n",
      "  \"because it will generate extra copies and increase \" +\n"
     ]
    },
    {
     "name": "stdout",
     "output_type": "stream",
     "text": [
      "test y shape : (17520, 1)\n",
      "Inv y shape : (17520, 12)\n",
      "y pred shape : (17520, 1)\n",
      "inv y pred : (17520, 12)\n",
      "Run 4 Mean Absolute Error: 8.902493\n",
      "starting df shape: (87600, 11)\n",
      "This is training run 5 and has the shape:  (87600, 11)\n",
      "The value of dropped columns is 85\n"
     ]
    },
    {
     "name": "stderr",
     "output_type": "stream",
     "text": [
      "/Users/alexellard/opt/anaconda3/lib/python3.7/site-packages/xgboost/data.py:96: UserWarning: Use subset (sliced data) of np.ndarray is not recommended because it will generate extra copies and increase memory consumption\n",
      "  \"because it will generate extra copies and increase \" +\n"
     ]
    },
    {
     "name": "stdout",
     "output_type": "stream",
     "text": [
      "test y shape : (17520, 1)\n",
      "Inv y shape : (17520, 11)\n",
      "y pred shape : (17520, 1)\n",
      "inv y pred : (17520, 11)\n",
      "Run 5 Mean Absolute Error: 4.722153\n",
      "starting df shape: (87600, 12)\n",
      "This is training run 6 and has the shape:  (87600, 12)\n",
      "The value of dropped columns is 85\n"
     ]
    },
    {
     "name": "stderr",
     "output_type": "stream",
     "text": [
      "/Users/alexellard/opt/anaconda3/lib/python3.7/site-packages/xgboost/data.py:96: UserWarning: Use subset (sliced data) of np.ndarray is not recommended because it will generate extra copies and increase memory consumption\n",
      "  \"because it will generate extra copies and increase \" +\n"
     ]
    },
    {
     "name": "stdout",
     "output_type": "stream",
     "text": [
      "test y shape : (17520, 1)\n",
      "Inv y shape : (17520, 12)\n",
      "y pred shape : (17520, 1)\n",
      "inv y pred : (17520, 12)\n",
      "Run 6 Mean Absolute Error: 16.696856\n",
      "starting df shape: (87600, 12)\n",
      "This is training run 7 and has the shape:  (87600, 12)\n",
      "The value of dropped columns is 85\n"
     ]
    },
    {
     "name": "stderr",
     "output_type": "stream",
     "text": [
      "/Users/alexellard/opt/anaconda3/lib/python3.7/site-packages/xgboost/data.py:96: UserWarning: Use subset (sliced data) of np.ndarray is not recommended because it will generate extra copies and increase memory consumption\n",
      "  \"because it will generate extra copies and increase \" +\n"
     ]
    },
    {
     "name": "stdout",
     "output_type": "stream",
     "text": [
      "test y shape : (17520, 1)\n",
      "Inv y shape : (17520, 12)\n",
      "y pred shape : (17520, 1)\n",
      "inv y pred : (17520, 12)\n",
      "Run 7 Mean Absolute Error: 10.94904\n",
      "starting df shape: (87600, 12)\n",
      "This is training run 8 and has the shape:  (87600, 12)\n",
      "The value of dropped columns is 85\n"
     ]
    },
    {
     "name": "stderr",
     "output_type": "stream",
     "text": [
      "/Users/alexellard/opt/anaconda3/lib/python3.7/site-packages/xgboost/data.py:96: UserWarning: Use subset (sliced data) of np.ndarray is not recommended because it will generate extra copies and increase memory consumption\n",
      "  \"because it will generate extra copies and increase \" +\n"
     ]
    },
    {
     "name": "stdout",
     "output_type": "stream",
     "text": [
      "test y shape : (17520, 1)\n",
      "Inv y shape : (17520, 12)\n",
      "y pred shape : (17520, 1)\n",
      "inv y pred : (17520, 12)\n",
      "Run 8 Mean Absolute Error: 10.757289\n",
      "starting df shape: (87600, 12)\n",
      "This is training run 9 and has the shape:  (87600, 12)\n",
      "The value of dropped columns is 85\n"
     ]
    },
    {
     "name": "stderr",
     "output_type": "stream",
     "text": [
      "/Users/alexellard/opt/anaconda3/lib/python3.7/site-packages/xgboost/data.py:96: UserWarning: Use subset (sliced data) of np.ndarray is not recommended because it will generate extra copies and increase memory consumption\n",
      "  \"because it will generate extra copies and increase \" +\n"
     ]
    },
    {
     "name": "stdout",
     "output_type": "stream",
     "text": [
      "test y shape : (17520, 1)\n",
      "Inv y shape : (17520, 12)\n",
      "y pred shape : (17520, 1)\n",
      "inv y pred : (17520, 12)\n",
      "Run 9 Mean Absolute Error: 16.934446\n",
      "starting df shape: (87600, 12)\n",
      "This is training run 10 and has the shape:  (87600, 12)\n",
      "The value of dropped columns is 85\n"
     ]
    },
    {
     "name": "stderr",
     "output_type": "stream",
     "text": [
      "/Users/alexellard/opt/anaconda3/lib/python3.7/site-packages/xgboost/data.py:96: UserWarning: Use subset (sliced data) of np.ndarray is not recommended because it will generate extra copies and increase memory consumption\n",
      "  \"because it will generate extra copies and increase \" +\n"
     ]
    },
    {
     "name": "stdout",
     "output_type": "stream",
     "text": [
      "test y shape : (17520, 1)\n",
      "Inv y shape : (17520, 12)\n",
      "y pred shape : (17520, 1)\n",
      "inv y pred : (17520, 12)\n",
      "Run 10 Mean Absolute Error: 15.920867\n",
      "starting df shape: (87600, 7)\n",
      "This is training run 1 and has the shape:  (87600, 7)\n",
      "The value of dropped columns is 90\n"
     ]
    },
    {
     "name": "stderr",
     "output_type": "stream",
     "text": [
      "/Users/alexellard/opt/anaconda3/lib/python3.7/site-packages/xgboost/data.py:96: UserWarning: Use subset (sliced data) of np.ndarray is not recommended because it will generate extra copies and increase memory consumption\n",
      "  \"because it will generate extra copies and increase \" +\n"
     ]
    },
    {
     "name": "stdout",
     "output_type": "stream",
     "text": [
      "test y shape : (17520, 1)\n",
      "Inv y shape : (17520, 7)\n",
      "y pred shape : (17520, 1)\n",
      "inv y pred : (17520, 7)\n",
      "Run 1 Mean Absolute Error: 196.62276\n",
      "starting df shape: (87600, 7)\n",
      "This is training run 2 and has the shape:  (87600, 7)\n",
      "The value of dropped columns is 90\n"
     ]
    },
    {
     "name": "stderr",
     "output_type": "stream",
     "text": [
      "/Users/alexellard/opt/anaconda3/lib/python3.7/site-packages/xgboost/data.py:96: UserWarning: Use subset (sliced data) of np.ndarray is not recommended because it will generate extra copies and increase memory consumption\n",
      "  \"because it will generate extra copies and increase \" +\n"
     ]
    },
    {
     "name": "stdout",
     "output_type": "stream",
     "text": [
      "test y shape : (17520, 1)\n",
      "Inv y shape : (17520, 7)\n",
      "y pred shape : (17520, 1)\n",
      "inv y pred : (17520, 7)\n",
      "Run 2 Mean Absolute Error: 6.9755573\n",
      "starting df shape: (87600, 7)\n",
      "This is training run 3 and has the shape:  (87600, 7)\n",
      "The value of dropped columns is 90\n"
     ]
    },
    {
     "name": "stderr",
     "output_type": "stream",
     "text": [
      "/Users/alexellard/opt/anaconda3/lib/python3.7/site-packages/xgboost/data.py:96: UserWarning: Use subset (sliced data) of np.ndarray is not recommended because it will generate extra copies and increase memory consumption\n",
      "  \"because it will generate extra copies and increase \" +\n"
     ]
    },
    {
     "name": "stdout",
     "output_type": "stream",
     "text": [
      "test y shape : (17520, 1)\n",
      "Inv y shape : (17520, 7)\n",
      "y pred shape : (17520, 1)\n",
      "inv y pred : (17520, 7)\n",
      "Run 3 Mean Absolute Error: 18.004295\n",
      "starting df shape: (87600, 7)\n",
      "This is training run 4 and has the shape:  (87600, 7)\n",
      "The value of dropped columns is 90\n"
     ]
    },
    {
     "name": "stderr",
     "output_type": "stream",
     "text": [
      "/Users/alexellard/opt/anaconda3/lib/python3.7/site-packages/xgboost/data.py:96: UserWarning: Use subset (sliced data) of np.ndarray is not recommended because it will generate extra copies and increase memory consumption\n",
      "  \"because it will generate extra copies and increase \" +\n"
     ]
    },
    {
     "name": "stdout",
     "output_type": "stream",
     "text": [
      "test y shape : (17520, 1)\n",
      "Inv y shape : (17520, 7)\n",
      "y pred shape : (17520, 1)\n",
      "inv y pred : (17520, 7)\n",
      "Run 4 Mean Absolute Error: 11.292999\n",
      "starting df shape: (87600, 7)\n",
      "This is training run 5 and has the shape:  (87600, 7)\n",
      "The value of dropped columns is 90\n"
     ]
    },
    {
     "name": "stderr",
     "output_type": "stream",
     "text": [
      "/Users/alexellard/opt/anaconda3/lib/python3.7/site-packages/xgboost/data.py:96: UserWarning: Use subset (sliced data) of np.ndarray is not recommended because it will generate extra copies and increase memory consumption\n",
      "  \"because it will generate extra copies and increase \" +\n"
     ]
    },
    {
     "name": "stdout",
     "output_type": "stream",
     "text": [
      "test y shape : (17520, 1)\n",
      "Inv y shape : (17520, 7)\n",
      "y pred shape : (17520, 1)\n",
      "inv y pred : (17520, 7)\n",
      "Run 5 Mean Absolute Error: 4.0946803\n",
      "starting df shape: (87600, 7)\n",
      "This is training run 6 and has the shape:  (87600, 7)\n",
      "The value of dropped columns is 90\n"
     ]
    },
    {
     "name": "stderr",
     "output_type": "stream",
     "text": [
      "/Users/alexellard/opt/anaconda3/lib/python3.7/site-packages/xgboost/data.py:96: UserWarning: Use subset (sliced data) of np.ndarray is not recommended because it will generate extra copies and increase memory consumption\n",
      "  \"because it will generate extra copies and increase \" +\n"
     ]
    },
    {
     "name": "stdout",
     "output_type": "stream",
     "text": [
      "test y shape : (17520, 1)\n",
      "Inv y shape : (17520, 7)\n",
      "y pred shape : (17520, 1)\n",
      "inv y pred : (17520, 7)\n",
      "Run 6 Mean Absolute Error: 1.8517781\n",
      "starting df shape: (87600, 7)\n",
      "This is training run 7 and has the shape:  (87600, 7)\n",
      "The value of dropped columns is 90\n"
     ]
    },
    {
     "name": "stderr",
     "output_type": "stream",
     "text": [
      "/Users/alexellard/opt/anaconda3/lib/python3.7/site-packages/xgboost/data.py:96: UserWarning: Use subset (sliced data) of np.ndarray is not recommended because it will generate extra copies and increase memory consumption\n",
      "  \"because it will generate extra copies and increase \" +\n"
     ]
    },
    {
     "name": "stdout",
     "output_type": "stream",
     "text": [
      "test y shape : (17520, 1)\n",
      "Inv y shape : (17520, 7)\n",
      "y pred shape : (17520, 1)\n",
      "inv y pred : (17520, 7)\n",
      "Run 7 Mean Absolute Error: 0.6741052\n",
      "starting df shape: (87600, 7)\n",
      "This is training run 8 and has the shape:  (87600, 7)\n",
      "The value of dropped columns is 90\n"
     ]
    },
    {
     "name": "stderr",
     "output_type": "stream",
     "text": [
      "/Users/alexellard/opt/anaconda3/lib/python3.7/site-packages/xgboost/data.py:96: UserWarning: Use subset (sliced data) of np.ndarray is not recommended because it will generate extra copies and increase memory consumption\n",
      "  \"because it will generate extra copies and increase \" +\n"
     ]
    },
    {
     "name": "stdout",
     "output_type": "stream",
     "text": [
      "test y shape : (17520, 1)\n",
      "Inv y shape : (17520, 7)\n",
      "y pred shape : (17520, 1)\n",
      "inv y pred : (17520, 7)\n",
      "Run 8 Mean Absolute Error: 6.811897\n",
      "starting df shape: (87600, 7)\n",
      "This is training run 9 and has the shape:  (87600, 7)\n",
      "The value of dropped columns is 90\n"
     ]
    },
    {
     "name": "stderr",
     "output_type": "stream",
     "text": [
      "/Users/alexellard/opt/anaconda3/lib/python3.7/site-packages/xgboost/data.py:96: UserWarning: Use subset (sliced data) of np.ndarray is not recommended because it will generate extra copies and increase memory consumption\n",
      "  \"because it will generate extra copies and increase \" +\n"
     ]
    },
    {
     "name": "stdout",
     "output_type": "stream",
     "text": [
      "test y shape : (17520, 1)\n",
      "Inv y shape : (17520, 7)\n",
      "y pred shape : (17520, 1)\n",
      "inv y pred : (17520, 7)\n",
      "Run 9 Mean Absolute Error: 1.7096441\n",
      "starting df shape: (87600, 7)\n",
      "This is training run 10 and has the shape:  (87600, 7)\n",
      "The value of dropped columns is 90\n"
     ]
    },
    {
     "name": "stderr",
     "output_type": "stream",
     "text": [
      "/Users/alexellard/opt/anaconda3/lib/python3.7/site-packages/xgboost/data.py:96: UserWarning: Use subset (sliced data) of np.ndarray is not recommended because it will generate extra copies and increase memory consumption\n",
      "  \"because it will generate extra copies and increase \" +\n"
     ]
    },
    {
     "name": "stdout",
     "output_type": "stream",
     "text": [
      "test y shape : (17520, 1)\n",
      "Inv y shape : (17520, 7)\n",
      "y pred shape : (17520, 1)\n",
      "inv y pred : (17520, 7)\n",
      "Run 10 Mean Absolute Error: 8.327621\n",
      "starting df shape: (87600, 2)\n",
      "This is training run 1 and has the shape:  (87600, 2)\n",
      "The value of dropped columns is 95\n"
     ]
    },
    {
     "name": "stderr",
     "output_type": "stream",
     "text": [
      "/Users/alexellard/opt/anaconda3/lib/python3.7/site-packages/xgboost/data.py:96: UserWarning: Use subset (sliced data) of np.ndarray is not recommended because it will generate extra copies and increase memory consumption\n",
      "  \"because it will generate extra copies and increase \" +\n"
     ]
    },
    {
     "name": "stdout",
     "output_type": "stream",
     "text": [
      "test y shape : (17520, 1)\n",
      "Inv y shape : (17520, 2)\n",
      "y pred shape : (17520, 1)\n",
      "inv y pred : (17520, 2)\n",
      "Run 1 Mean Absolute Error: 1.4878422\n",
      "starting df shape: (87600, 2)\n",
      "This is training run 2 and has the shape:  (87600, 2)\n",
      "The value of dropped columns is 95\n"
     ]
    },
    {
     "name": "stderr",
     "output_type": "stream",
     "text": [
      "/Users/alexellard/opt/anaconda3/lib/python3.7/site-packages/xgboost/data.py:96: UserWarning: Use subset (sliced data) of np.ndarray is not recommended because it will generate extra copies and increase memory consumption\n",
      "  \"because it will generate extra copies and increase \" +\n"
     ]
    },
    {
     "name": "stdout",
     "output_type": "stream",
     "text": [
      "test y shape : (17520, 1)\n",
      "Inv y shape : (17520, 2)\n",
      "y pred shape : (17520, 1)\n",
      "inv y pred : (17520, 2)\n",
      "Run 2 Mean Absolute Error: 8.887719\n",
      "starting df shape: (87600, 2)\n",
      "This is training run 3 and has the shape:  (87600, 2)\n",
      "The value of dropped columns is 95\n"
     ]
    },
    {
     "name": "stderr",
     "output_type": "stream",
     "text": [
      "/Users/alexellard/opt/anaconda3/lib/python3.7/site-packages/xgboost/data.py:96: UserWarning: Use subset (sliced data) of np.ndarray is not recommended because it will generate extra copies and increase memory consumption\n",
      "  \"because it will generate extra copies and increase \" +\n"
     ]
    },
    {
     "name": "stdout",
     "output_type": "stream",
     "text": [
      "test y shape : (17520, 1)\n",
      "Inv y shape : (17520, 2)\n",
      "y pred shape : (17520, 1)\n",
      "inv y pred : (17520, 2)\n",
      "Run 3 Mean Absolute Error: 13.883126\n",
      "starting df shape: (87600, 2)\n",
      "This is training run 4 and has the shape:  (87600, 2)\n",
      "The value of dropped columns is 95\n"
     ]
    },
    {
     "name": "stderr",
     "output_type": "stream",
     "text": [
      "/Users/alexellard/opt/anaconda3/lib/python3.7/site-packages/xgboost/data.py:96: UserWarning: Use subset (sliced data) of np.ndarray is not recommended because it will generate extra copies and increase memory consumption\n",
      "  \"because it will generate extra copies and increase \" +\n"
     ]
    },
    {
     "name": "stdout",
     "output_type": "stream",
     "text": [
      "test y shape : (17520, 1)\n",
      "Inv y shape : (17520, 2)\n",
      "y pred shape : (17520, 1)\n",
      "inv y pred : (17520, 2)\n",
      "Run 4 Mean Absolute Error: 1.1890179\n",
      "starting df shape: (87600, 2)\n",
      "This is training run 5 and has the shape:  (87600, 2)\n",
      "The value of dropped columns is 95\n"
     ]
    },
    {
     "name": "stderr",
     "output_type": "stream",
     "text": [
      "/Users/alexellard/opt/anaconda3/lib/python3.7/site-packages/xgboost/data.py:96: UserWarning: Use subset (sliced data) of np.ndarray is not recommended because it will generate extra copies and increase memory consumption\n",
      "  \"because it will generate extra copies and increase \" +\n"
     ]
    },
    {
     "name": "stdout",
     "output_type": "stream",
     "text": [
      "test y shape : (17520, 1)\n",
      "Inv y shape : (17520, 2)\n",
      "y pred shape : (17520, 1)\n",
      "inv y pred : (17520, 2)\n",
      "Run 5 Mean Absolute Error: 1.1468171\n",
      "starting df shape: (87600, 2)\n",
      "This is training run 6 and has the shape:  (87600, 2)\n",
      "The value of dropped columns is 95\n"
     ]
    },
    {
     "name": "stderr",
     "output_type": "stream",
     "text": [
      "/Users/alexellard/opt/anaconda3/lib/python3.7/site-packages/xgboost/data.py:96: UserWarning: Use subset (sliced data) of np.ndarray is not recommended because it will generate extra copies and increase memory consumption\n",
      "  \"because it will generate extra copies and increase \" +\n"
     ]
    },
    {
     "name": "stdout",
     "output_type": "stream",
     "text": [
      "test y shape : (17520, 1)\n",
      "Inv y shape : (17520, 2)\n",
      "y pred shape : (17520, 1)\n",
      "inv y pred : (17520, 2)\n",
      "Run 6 Mean Absolute Error: 23.971754\n",
      "starting df shape: (87600, 2)\n",
      "This is training run 7 and has the shape:  (87600, 2)\n",
      "The value of dropped columns is 95\n"
     ]
    },
    {
     "name": "stderr",
     "output_type": "stream",
     "text": [
      "/Users/alexellard/opt/anaconda3/lib/python3.7/site-packages/xgboost/data.py:96: UserWarning: Use subset (sliced data) of np.ndarray is not recommended because it will generate extra copies and increase memory consumption\n",
      "  \"because it will generate extra copies and increase \" +\n"
     ]
    },
    {
     "name": "stdout",
     "output_type": "stream",
     "text": [
      "test y shape : (17520, 1)\n",
      "Inv y shape : (17520, 2)\n",
      "y pred shape : (17520, 1)\n",
      "inv y pred : (17520, 2)\n",
      "Run 7 Mean Absolute Error: 18.8384\n",
      "starting df shape: (87600, 2)\n",
      "This is training run 8 and has the shape:  (87600, 2)\n",
      "The value of dropped columns is 95\n"
     ]
    },
    {
     "name": "stderr",
     "output_type": "stream",
     "text": [
      "/Users/alexellard/opt/anaconda3/lib/python3.7/site-packages/xgboost/data.py:96: UserWarning: Use subset (sliced data) of np.ndarray is not recommended because it will generate extra copies and increase memory consumption\n",
      "  \"because it will generate extra copies and increase \" +\n"
     ]
    },
    {
     "name": "stdout",
     "output_type": "stream",
     "text": [
      "test y shape : (17520, 1)\n",
      "Inv y shape : (17520, 2)\n",
      "y pred shape : (17520, 1)\n",
      "inv y pred : (17520, 2)\n",
      "Run 8 Mean Absolute Error: 10.8573265\n",
      "starting df shape: (87600, 2)\n",
      "This is training run 9 and has the shape:  (87600, 2)\n",
      "The value of dropped columns is 95\n"
     ]
    },
    {
     "name": "stderr",
     "output_type": "stream",
     "text": [
      "/Users/alexellard/opt/anaconda3/lib/python3.7/site-packages/xgboost/data.py:96: UserWarning: Use subset (sliced data) of np.ndarray is not recommended because it will generate extra copies and increase memory consumption\n",
      "  \"because it will generate extra copies and increase \" +\n"
     ]
    },
    {
     "name": "stdout",
     "output_type": "stream",
     "text": [
      "test y shape : (17520, 1)\n",
      "Inv y shape : (17520, 2)\n",
      "y pred shape : (17520, 1)\n",
      "inv y pred : (17520, 2)\n",
      "Run 9 Mean Absolute Error: 10.8573265\n",
      "starting df shape: (87600, 2)\n",
      "This is training run 10 and has the shape:  (87600, 2)\n",
      "The value of dropped columns is 95\n"
     ]
    },
    {
     "name": "stderr",
     "output_type": "stream",
     "text": [
      "/Users/alexellard/opt/anaconda3/lib/python3.7/site-packages/xgboost/data.py:96: UserWarning: Use subset (sliced data) of np.ndarray is not recommended because it will generate extra copies and increase memory consumption\n",
      "  \"because it will generate extra copies and increase \" +\n"
     ]
    },
    {
     "name": "stdout",
     "output_type": "stream",
     "text": [
      "test y shape : (17520, 1)\n",
      "Inv y shape : (17520, 2)\n",
      "y pred shape : (17520, 1)\n",
      "inv y pred : (17520, 2)\n",
      "Run 10 Mean Absolute Error: 1.1734107\n",
      "Length MAE_average:  20\n",
      "Length sensors_covered:  20\n"
     ]
    }
   ],
   "source": [
    "MAE_average = []\n",
    "maximum_MAE = []\n",
    "sensors_covered = []\n",
    "n_columns_to_drop = [0, 5, 10, 15, 20, 25, 30, 35, 40, 45, 50, 55, 60, 65, 70, 75, 80, 85, 90, 95]\n",
    "for n in n_columns_to_drop:\n",
    "    MAE = []\n",
    "    for run in range(1,11):\n",
    "        values = df.values\n",
    "        values = values.astype('float32')\n",
    "        reframed_demand_node16 = series_to_supervised(values, 1, 1, vars_to_predict=target_variable_demand_node16)\n",
    "        reframed_demand_node16 = reframed_demand_node16.drop(reframed_demand_node16.columns[16], axis=1)\n",
    "        #select random columns to drop\n",
    "        columns_to_drop = random.sample(list(reframed_demand_node16.columns), n)\n",
    "        # Drop the selected columns from the dataframe\n",
    "        if reframed_demand_node16.columns[-1] in columns_to_drop:\n",
    "            columns_to_drop.remove(reframed_demand_node16.columns[-1])\n",
    "        reframed_demand_node16.drop(columns_to_drop, axis=1, inplace=True)\n",
    "        print('starting df shape:', reframed_demand_node16.shape)\n",
    "        print(f'This is training run {run} and has the shape: ', reframed_demand_node16.shape)\n",
    "        print(f'The value of dropped columns is {n}')\n",
    "\n",
    "        # split into train and test sets\n",
    "        values = reframed_demand_node16.values\n",
    "        scaled = scaler.fit_transform(values)\n",
    "        train, test = train_test_split(scaled, test_size=0.2, random_state=0)\n",
    "\n",
    "        # split into input and outputs\n",
    "        train_X, train_y = train[:, :-1], train[:, -1]\n",
    "        test_X, test_y = test[:, :-1], test[:, -1]\n",
    "\n",
    "        #define model\n",
    "        model = xgb.XGBRegressor(\n",
    "            objective='reg:squarederror',\n",
    "            n_estimators=100,\n",
    "            max_depth=6,\n",
    "            learning_rate=0.1,\n",
    "            subsample=0.9,\n",
    "            colsample_bytree=0.8,\n",
    "            random_state=42\n",
    "        )\n",
    "\n",
    "        # fit the model on the training data\n",
    "        model.fit(train_X, train_y)\n",
    "\n",
    "        # make predictions on the test data\n",
    "        y_pred = model.predict(test_X)\n",
    "\n",
    "        test_y = test_y.reshape((len(test_y), 1))\n",
    "        print('test y shape :', test_y.shape)\n",
    "        inv_test_y = concatenate((test_y, test_X[:, -reframed_demand_node16.shape[1]:]), axis=1)\n",
    "        print('Inv y shape :', inv_test_y.shape)\n",
    "        test_y_inverse = scaler.inverse_transform(inv_test_y)\n",
    "        test_y_inverse = test_y_inverse[:,0]\n",
    "\n",
    "        y_pred = y_pred.reshape((len(y_pred), 1))\n",
    "        print('y pred shape :', y_pred.shape)\n",
    "        inv_y_pred = concatenate((y_pred, test_X[:, -reframed_demand_node16.shape[1]:]), axis=1)\n",
    "        print('inv y pred :', inv_y_pred.shape)\n",
    "        y_pred_inverse = scaler.inverse_transform(inv_y_pred)\n",
    "        y_pred_inverse = y_pred_inverse[:,0]\n",
    "\n",
    "        # evaluate scaled errors\n",
    "        mae_inverse = mean_absolute_error(test_y_inverse, y_pred_inverse)\n",
    "        MAE.append(mae_inverse)\n",
    "        print(f'Run {run} Mean Absolute Error:', mae_inverse)\n",
    "    percentage_list = round(reframed_demand_node16.shape[1] / 96 * 100)\n",
    "    sensors_covered.append(percentage_list)\n",
    "    MAE_mean = mean(MAE)\n",
    "    max_MAE = max(MAE)\n",
    "    maximum_MAE.append(max_MAE)\n",
    "    MAE_average.append(MAE_mean)\n",
    "print('Length MAE_average: ', len(MAE_average))\n",
    "print('Length sensors_covered: ', len(sensors_covered))"
   ]
  },
  {
   "cell_type": "code",
   "execution_count": null,
   "metadata": {},
   "outputs": [],
   "source": []
  }
 ],
 "metadata": {
  "kernelspec": {
   "display_name": "Python 3",
   "language": "python",
   "name": "python3"
  },
  "language_info": {
   "codemirror_mode": {
    "name": "ipython",
    "version": 3
   },
   "file_extension": ".py",
   "mimetype": "text/x-python",
   "name": "python",
   "nbconvert_exporter": "python",
   "pygments_lexer": "ipython3",
   "version": "3.7.4"
  }
 },
 "nbformat": 4,
 "nbformat_minor": 2
}
